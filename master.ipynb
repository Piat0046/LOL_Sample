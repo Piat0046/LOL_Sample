{
 "cells": [
  {
   "cell_type": "code",
   "execution_count": 1,
   "id": "f04bc266",
   "metadata": {
    "id": "f04bc266",
    "outputId": "ea136cc4-4591-4de6-91ce-81fc49b9bfbf"
   },
   "outputs": [
    {
     "name": "stdout",
     "output_type": "stream",
     "text": [
      "1695\n",
      "{'ni lai wo si': 'FTgYB-R10DmTVz5DdMxgHa25J7SByUWj7KPHjtGEI4Dyiw4Wk-pwM5DeIQ', 'impupupu': 'kF6rojDDu1Wn9vrgGkVZuhr0R7lCp0aLRsRzw5LEjtGCLnU', 'NS HH': 'NR8jMfjpFo8JHEr7XGPM4MbGiFAAZD46O1IpZAeeYjx-NnA', '쉐도우 호프': 'ivYdcVjISVGyUTGZfXarOgCLiTbpSWLSpVfE7Sdyb0gDMaU', '꾸리1': 'qKXZPWLDHEMLs39KigAWI3Af6ataj0aCPIviHI-wYvwZ8As', '옵 바': 'I0jeG_ZkChTvT-cLi6IKATFO2E727fRx94g_4mRr5-7lX5g', 'SIMSAMBONG': 'quh7tWu-EdWkXscEDiO3qWxPPuwWWUT08BZkkg4pA3YPbP67V1WXXsU56A', 'ad20': 'SJQGsIamnGtCkv-C8Iigg0CrjBqVGfQXnyQzTwtWkFRfRMs', '3성 벨코즈': 'tXzIqAy0wqcUEDQdAzSCqD85qavgeWHFBFkP_THhQ-mdRBM', '그냥유경완': 'oIHZqjfS6AkYiODi0f_0egmtCklkY-5BlhLUS4K32AThjQ', 'OneChat Mute All': 'ikWLlCm7U9qqoHMThjxAeB82lAIVGUrsJGtvbnxD1xteDAk', 'DRX Bleed ': 'MEiFJ4PNecodVqXr9IY2AU-o0z6bmBFzQdfxBubm6ZWKtAM', 'ioio22': 'HTnXmE8cW4J_jIxBftePMzOAtgKicqtoiUKTw0wjyy2YtMYWjjW5DHyNZw', '마음이 여린 정글': 'PvPOhB-Ikg_bIk9mNVSXFs6eBXEcInxgTEzW2LbGaJYZZGEkNd08tC6K_g', 'zzzzzzyq': 'VbRzZbnvOpB0jFyTFnjKCn1J2K0Bb1re1eP4rxr85vsVHkM', '나쁜 메이': 'TEKLc00qca3GYxFaP_6uZqTgW7lQEqZaBbPdPnuNDLRNJT_3hh_9W539zg', '다미웡': 'yfXlNLnm0vvBnHUu8TgoAIGxcG2AX1AHLPqWaYbDQcLGJ4I', 'Lepton': 'Yjl9hgeyqtYNCjz0mr1oRXz9_K_7BuNAhOibJzUj9aS6_xM', '웃 자': 'gsNTUFvV6d7OXase_67SYDpaHxR5U2R6lrrpDvxLCEGJPymKZnL39exQGw', '의미없는이야기': 'AOcIeFG4Z_yG5c0ItDRQlFT4OuAZqCsvCk0Do98WE_CSNTs', '히 빗': '5Z8weHSblC7gk0Vdqlo9REyFSkbmX7K94aQn82rsMFCR49M', '위원준': 'DkD-zeERdIa1DYXQqNrw_0Ppc9Pe0sRaXPdG8s1sYJft4WE', '간호사': 'wDzOOC0MYJNQBH7av-sWaFBtZz-BVQ-I3G9d_7-oAUpvtg', 'unhappy i': 'doVcJyMkPsk_7bYpxVlvA5g6N7cbVbnJeAsSdUSucSXtGYE', '앞집 땃쥐': 'p49Ie5Xz9kUiFa4_RmQ_w2yjOLbPiErwg3TB8DJo_HEXpg', '나는수달이좋아': '1RSrkupR8VnLy7yNtZ-1YBAjFA_fq9bxcLN4wQCQg_z29rp2dXhEKUzZXQ', '고춘맘1': 'pdFRZ8VrIj2DIz7ZEM7xMyZ0riZCdwd3KBE4yvK-fbnc0nI', '넣어봐요': 'L54MakmnroEw9Eqx4vQx_r7SM53dDl-x1MZD_8AwXyjTw7c', 'hi is show time': 'xoiz8Xfa1xjNWFAzJIZgIzmH_V1DI-mn6jpXgBl-n0d42G8', '피들서폿을누가함': 'WOMeOAXXSWdFl0gmq77tE73ubUaQSSycaWL-4_uIARFQ8A', 'RozenP': '5TvC9AfSXm35dPq1OZ4DqpOAc3j9F82yJeIm6bwyYdP0HBw', '다누를 기억해': 'NV30wl_8eKYDRdErZ3RCnjBTMArEQb-nRSYVocQrSzlK0F4', '공통적': 'OT0N-aZCumhwsxSEILXTVgYuOoUFmLuza6sdU-IWky1erAc', '아침형인간9': 'Vihqvorz2FVbU7kVUgM6nzk4elnIUptetLno9yc_6M_8CP8', '재민이뭐먹지': '-EiRpMdB6yowhXGVVZkbcofh8nouktISyUWWkfrpmo91ig', '이현1': '2aRMskfArAoDwDDp6-mXQeWpUyjzhP0NlV7CpfF0YnaZ-WE', '평화로운 행동대장 에그타르트': 'Q-yMg8nQQ5LxEMz6913bLypqCzsvtKz-7lNCvXaLB3X9BKh0HufBMO1_7Q', 'Beta1234': 'tSjcsURXnr3lmT8ec_omSD5CWZWyX52YL3Y0kQB_kVeNQKc', '미련없이행동하기': '8FwHzcktqtxS8bFXnM9Jj0u69wmUOAMS_pboRREFsqFgBTZH', '별의연인': 'hVhtuzPMxJKuq9XnOAq7rFhIvXW6WEzyRqDIEjFzHJsi-Og', '일찍나가는편': 'VaViAx28Pe27M7z2-VEp4Rb-bXJih32Xr1CXKT-qHdnrXQ', 'yukinoo': 'n5N4Q3eJ9D2yAB9UhSEB_Ii6dA4hvdSgn7dn-Yj5n-fT3-0', '용과호랑이용': 'XKKx7vZrHYQxtf3daSUVxfeMTyw9OuYEVHKNZhPt4ShAEBw', '옷 벗은 뚱이': 'h23NsuiKRLb0iQ3nIHJB3zUt0H0vhfgKWYXlXpTWGHVj0gA', '03 AUG 21 ': 'yxKiX4kHC2mo773ijLrKGdIqY_rLuxq7Ed8MkOsGWjz2Vw_LhmqQgqUGlQ', 'SNU CJuun': 'Ddh-q8CQ_Aa5pWD5HykMK7sWSto-qm48vzrfldDYXc2ZrlY', 'Ch0God': 'cbKwJNKjZLYx4kfzNsvvICHElaYWCmSQW66OdSVmRPruWQ', '낚시 제대로 당했': 'oJeywHd0EDn3LKhgXxqlSHa4YDXmydBYeHbLVAlsNWeTwZhMUFbK8OUhEQ', '전광공석화': '8ozbrE-KNYrTbSaXBIAPWngXkLhNertUz5MyUM8dQc-kEnkFnMOqP5-8RQ', '우두루국밥': 'DkQWf14bCm9qoIaRIvLteSx-QGXC6ECQj9ZOCCrcYjUvMe4', 'tongxinjishou': '8aipRJjsh0WxngITIqBHGppzNXFl12qzo92r4b58EZ69vzl3Us8-Het_GA', '종셔틀': 'aazElhdqL1jts4sqNEB26OTZ1mMXnRocTpeR4grCiSYzjvk', 'cunyu': 'vp2bB0JWLojsO6NWa90DDRZM5nk5WGtdJ1GBIXYqwE5p7QSD8GSHQSRnOg', '저도 나빠요': 'Uou5AO_iwGae-DQ05QXcj-l3nTiQ51XHVAiL_-pWmqbWTi9n_gCKtQULJQ', '수면소년': '7a5X4qEvE-odcr_zGZLxp22IHe5Xxvi7IAkVLaZxPwOF9Dg', '서초동쌍도끼': 'zXof9EutqvPs_BJ0eGGLQFTTP6jIGmDep8vrne8ueg1vnYw', '미드사는낙지': '29YlKzukEXRHKBmtyvVOqaBoWcIqsEBkUHRwh92sDbT_Ow', 'luxiaofeng': 'v6pORVDXbq6AFZsABY9EpJcvkflWz_LzIScBPzTBZgTntY0xb0cS387u9g', 'Logolepsy': '5oUXpvWCh5lCSrI4T3SHDEWg4DbvRaALSuAOP8R4qVIqi6DCanp9a6_OeA', 'wu xiang yafu': 'gdjZGc5Wah65waIxAKmwT9GCpEstgL5tMU2jcbiCQgrX9ofm', 'Dang Kim Thuy': 'UiO0yrveDypnOYJVkL6WPtHFuE-yPNEOl-4qTtdhfP59bqQ9KqcA585FnQ', 'T1 CrazzyCar': '6SuuTLQfpqOhb-gSodPFBvjEeGMzEn8OHTAR36790l2AUeotSUg_tLKLQg', 'Tae ven': '-UN9YkqckdGHt2Qy65ol8MFOy5wyh_Gyc6oqOvQx81qe4w', '상현 6의 다키': 'YawcPs13qgIL0omqQ7foo_xoAXaSDJvSxalO0Gfbi2O4w2w', 'Kenshi': 'WpRviv-Bs8JNKZ3DVn4FqQTG6Manc5xiW2uZNEXILy0L9w7KDFgxTRPjaA', '비에고사전': 'e28uTAhUp2rgkMVJea-kMdHsWe_823VHWliQ0oaWsbI9RtCRWyxf5JJpZw', 'zhao hua xi shi': 'Z2RFhROQNn06dU4Q6AIBdRl0zXWsckrrPan0d4lbH7_7Ea3wm3026s3Nhw', ' Riven1': 'phIpDdb94cwqpC7viT6XiOdyiIAWyDXRji4LPZNJBiQ5AOw', 'SwiFt2': 'I77xZ5mqkvIqIlxXNga6bNVF89w9nYBNzPX2Cu-x5brD5VO6I9S5HJwR5A', 'Samba': 'ot2xt_Ew3crdW2AGRigFtDSr163lEeGTZ_nEv-wdcjO682E', 'Baewoo': '6VKJEaJxtQGlv5Vt6KOQD-n42GcGeulUMIGO4kQcB9nIUA', '제비거북이': 'BDsrITvZnx_mz9boB7OfM_j4azwco-Eq2y8xI6N6vcgznS8', '방옹시여': 'SxuXasaIzoFakWWE_x1c2imWY6m-vTMSTAkqWd7ob_rclkqr', '하도쉔': 'Ot_MobwUYFDKLJCGHMLCB-aNKDabX4sONROflM7l3La5_g', '룰루랄라룰루랄리': 'NsaEhx-7qJYy5yGW91JHCHFaiw2crDYURuvlCbEQoSl8L6c', '놀고먹는게소원': 'EzSZzaqE28eje3DiDgsJKXbHa2tHzs63hyDbQa-U2MX2CqCiLMmeZ4PnXg', '성불해버린사람': 'GDnAQi_EEWWCXHNGkPbHtHRaG54xa6Csd4X8VNjfXOsgw6Y', '개 북 치': 'y6hOPvl7FiQ_5HTsrPjIzbu1AEi94BBa6McFprS_ASzHrQ', '1KuLL': 'dFI9llMgF7ygv2q0MMjx-sx9-2C-Cx9QZAzJrGPFy0dN67_qCwoU1y5faw', '초 스': 'ysSZ3mt0RXjz_R3cGIxMYjGt7hZvcf3vUrwaOh-kCnWtuA', 'easy for u': 'xHXt7VQ8tXd0OQD4IclG8j4UISMseq3JoyM2YdctgVxr-2rsqP8tf42uRA', 'Count Stars': '3iw-V9q9FtEdEfCPzdc6wb4XFTGiWh9qa1RUdrld7SJF-wVFYjxJYDs2WQ', 'eqq1': '03pjxnJv42-cLJIj1htxPwavD5eY8OkFw1smVsIkpluGKy3KoFsSP3iGTQ', 'dnflxlaqudtls': '4pdc8xd2vwbBbTWclLNZPo6auy1fU_VqR-yrkCge7asswec', '모   구   빱': 'Y5ahrz4ff2S7peXRyWyyPPwoGxfgeN-BOVSEKyQ09JKwjf8', '아득히 먼 그녀': 'LQWRljIXbLS2TF0C1yehkBuzE-GF-LjVO_IRWEtv1ib0Kr0', '라인꼬이면즐겜픽': '7Wzr-3o_wY8xqR081gt0wZpRoFYth_BuNLqfdtHPp-UWmmE', 'Witt jg ': 'lJ8eUMDhxOQtNXxawxySFHrStNQ_0oTXLaJ0WQSkNxgC-M0rnDroLuAzeQ', '정치빼고못하는게없는사람': 'BYxAAnUatuGccyK7PZPiRMzARJKzXrRYsBKVMjVovNfxHyTd', '정승원1': 'fT-XSO9CKKrqPl-F1IOpGuGsBhXrIKm6C43f6VzdhyT1uIc', '카시버프좀요': 'Ap1QRMeWM9ca9gYgkPtR_eh9-4VPyyRlBcUg4xv-TazoG84', '사나이온': '_DCfmtP1gCF18H_HTU50KtWXoo9KkGV5-Yi0h1GALy5jXA', 'Daisy thy': 'hX_ZJDgYDZfLHextUvOV1ZtaCObya4k6EeWvUwcnQcw2Qy6gGoFVh0iUvw', '살아라': 'XKweiXnjWTYGbMVtj04f49-tzpny6suPhsavk7k7wbdz0A', '조관우급 늪 설치': 'cpz4K_D9PdYCTsi6Rd-p8GkJSD6_TzE9pKmZ1SradprjeHg', 'Shirusi': '_oHmgvJmTytcADjSzWQspt-mFoNa1eJYR-uibabwhVtdhbg', '팀억까제발그만': 'b0dtm_w_0Wd7DGPmNbwKOs46SPOdnmjkgC1KicuLr1I7WY8gSXVY8_AQzQ', '억까 라인': 'ItixXGljjzhtQx-bvWI5uZg3XTZPFxQm4jUCXdIOzul-6w', '내가싸야팀이이김': '-fr6WHG5sPb3HwhXyHrEBzYzSpqCq49NSVSg9Rhag3p5HyM', '현조비사랑해': 'gmMmZp6nSqDRn6JYimLipzIaZSZ5BiiDpoqWL7Irf-7iXIyPOfn70zxjZA', '킥보드': 'hhEc08kKO99IzWBlxaMsoLBKUfBoY4PioIrchssthmnOCw', 'shulejiushiadgap': 'ypV6CAEfTwI1G141cOvuAYV5ZObWDdEmq9bwYVAtwJ6QDuuwEX2vErqx9g', 'Ralph1': 'VlvTBfqDCNt_BkbDSOmNhIYIWS8mH4uQZGYTlNwfJeyEWIdBGPuzJkhZgw', 'Judge99': 'Ck5wVzo6GzzzJ224d2-HQBe3QSw5j2eAG6xrmKZmjEj0ryM', 'skinoo': 'yPoAr2wx7FhY1_qtLlHXOQX6NsSCrnAIv9LUkDMv26rCBw', '준 엠': 'qOQsHgnPbUVV8u_2fgrImkfuKT0Kphp3sQ7hrRNNRqKJR0U', '뚠 노': 'EX0QCmPAvO7OCaBlsDouUSE3HpLnEs1L2SjiOPUQ4aj8sjLjAS-oizRQUw', 'Cyukee': 'tpeJoOa1m9A5BJZtkxfg5LVlTE3vSR3XZHAoBpeiQlOSTGY6g4mdp6owMQ', '가영의재림': 'gQX6O6Xh-XjzgVtraJEBuy1bS8tIza_-Z-Hi0txt8LBQTec', '나에적은우리팀': 'dNJezrddOhGVNTJpCYVPAcbTd1rgfXUfKSh8wQrbNatb3A', 'lzay ming': 'RVLezhIXXpvsu3WnD5qhUPc0mcNk4nZGAtcwT3KX8NxiKWE', 'wo bu shi chi': 'qbZ5HTMvf87xJSA4Ua_F7rTzTg9CMjw2aARlkueE4qAyVMw', 'PKMNtrainerBlue': '4-WG-6rhsorlZZynSjINyLWzIe6QW54-XotVFPnNEBQSAe7a_l3pPtiDfg', '2022년의사나이': 'cARLypYEUN0FUiJThHUZ5XWztifNkE6uIKGfOBL1e4omJAs', 'dica ': '8sCJh_zMcFZKo8sJRj0ufkASRNnm3fqZwCp9E5GRxZd68ng', 'day one1': 'y25k0n6mWBNT4X76pTYAwGzI9Y_45y9FMx2N1zCjX-YC2uNtXklXelpw9A', 'qest': 'EH1N_G0rJM3CvqOtOktlnPt0aAxoLG44LbzIkens2o6NJtk', 'Sup 도구왕': '3Ppl6uqjMsqt9cJSEECO4TMJ6dH6UVGqZW1TGtOMFF55sEEZsRReZqL3nA', 'wwvwwwwwwwv': 'AhnBrHuLIce7_RK9u9fisvybrft5oBioFeAj5GtSJ5Pbv4s', '그냥 너': 'DW_2fFo1PH7Zfo3AfZ017HzykhC1Py0BDaC798rCnizx4Xg', '  tian di you wo': 'SlE5Q816w3eaMafXk9r7LF0Ta8NrT4HELcNx7jOV9V35crg', 'L1sure': 'L7R469wVmzpvcc9tPjWYIE9AB0f9hQ-a1hM3IhzaQNjXj0c', 'CscyDzhbzBZ': 'mIF-hyXXoVZ4HvVLPxcfJapaJzKXWuKEQlVS1bAeLBzXyC98r4q0OF9M0w', 'S급 공익': '0kWXQDaU7Sp6tPBRLmvkzxieR-Kz0ioshaHZ08inXMdLugU', '준 원': 'QXUer0zlvNvQehJgH7G_W4fRmhukeCJXJ3e9YN2Ykz2RWxmuOs7AVArylQ', '이거완전달건이네': 'nEnH-q8y6TjWyGHTD3PQyl6VNT02Tu6HhHGNqSKlsN0AzQ', '선지자': 'X0zM3sw3UQxWOvEN-_QhnT2IvjVm74wxUHb58PgwI2LCjdzndvVAGIBJrA', '사신소년': 'Fuw_95PUUN118yhb5RlnZDisl8jhK6E_49l71dICRUhtG-A', '별양동캣맘유지드': 'CXbF5djUW_xJoRK0DIOITsgQTq6eAfmLwz_okwC8PKMxhLU', '우마이꾸': 'nDhQ2pce-vuxAKNf0HgovvwFbeh_expox_i2zfwdtjlEA0I', '원거리 보조 딜러': 'N1VTZcpex-UZlXs0xu6NO7GYDdYvA28Umyddloo7ju0IUrQ', '화 푸러': 'juhyPoiUX2zzvZMFyb_gkBJ6xO9dWLvguOtnYtZZ4qVnlA', '일단있어봐': 'WLO7uWotRvuFMjs0CM9yl3faoOE5EnbsoEsvp1GibLpl0kw', 'hyubyee': 'REoWnWPtI_9HRDaCDWvUEDNmgAQlWgie0rGSPb_eKFt971k', 'IlIlIIIIIllIlll': 'ETTJ4FBaiG-uz1Mr6jUvq99JatFvBMD6s0uBugiMhGuH9zo', '주사위굴리는놈': 'NyZASLq17ffJWAoc-O-taisot5gD3xctt1K8wh0YUP6kZAs', '제우스아담': 'O7RRb4UiPjJadKRMKk3K2xbYXQTHRD6TbG1AZkLP3BzrIPs', 'IlIlIIIllllIIlI': 'ok4PWhG1GvHrzw9bkRkpmpMq2iQ8u1lK5hINSezcgJv5xsw', '정복자 신파자': 'cWtJh0r7uVbiYXzzzUsQrF59gIpJp1fZxnkqEz3lGtrXiuc', '죠랄죠랄죠랄해': 'y33bp4aLsvN3paOAU7SyJgT-LFzBqGh7U1MvMCpzbrR6iscxxof2wyXQZA', '정점파이크': '4ga9GVI2pOv6b9uaTUWkMGHix2LSxdQTsmsMw3QUQi5ZJH7CmEmxdm7Zlg', '서구주민11': 'chn5kXJMaHkQiPXh_ZV5OYkYmqgtO165zoBdLMqOO4Grg7c', 'S2고추는맛있어S2': '_B8CSnjtyv8FAkMHAFBHeeARFnSc815kLyVt2hshPl5_52Y', 'SADJLFKSDJFDLSK': 'MDjb4Zpqzueio9iTnHOUx2mF_eFxn8RnTLz301MkCuHsPhI', '댕 써': 'evfVIk-O7z2BWHSuSBus9JRNLOYGQzv1UpzTKpitZfuZiw', '기발 애니비아': 'y-UXnMyo1Ij2Fd_SSXTKiGA9S24RCDn06bi6MrdS_SmX8lQf', '작살내는 작살꾼': '99tvj6fHSfQJ3sEHHgcCftt19HBtjWy83OPC9mFoO5M8m_wcV-AiEfXO2g', 'ADKING 07': '4-NYvFWIdqyFIrAr1udnyAKiSmaHE4DuvzCAHtJkCWVkNYKZzWgHM7o7Wg', 'RNG GALA': 'dgomcUF5Y-kQKH8RYBmE72Nmr52IVntoQDdz01eUgW2w0eg', '승리를 까먹었다': 'qS6XOkmNRIeBek2RJKeD-bVAwUDf6BKGa32vcFJxyMan8g', '   k nns': '9YzJg0WiEJ1EmgR5VGaL7ruA8R5X5EH1TfsCaNyfXle6xS0', '0o마음대로o0': 'L_to_foLFaOC_qBa_1vEbktp8qGv_Z2KwB2JVwyIjrEy-fY', 'DK Edge': 'gGIMEg9SHan_AyKMO-WCs5HHwy2NvQUdbrG0xYgnRvH33_o', 'MeeA': 'z5ZWki2BZtrhsdXj87whlJbfnDwzNQrwmy_aJJkfxTW_u8k', '지멈미': 'EIJ3xY7Y3W_FN0mi4JVO3XVo7Ivh7RhZvxm1gSzU3BZz-Y8', '1987456144Q': 'K5VWwTSO9EJSb6yS0piO7Tgn8Vsx35A_jZ_XCnj1_Is_wurOovz9JGUJpQ', 'Acrylic': 'oonUSAfxnO5B58DF21QnulZvP3eg9gqZwvpbXt39HJOZng', 'Knify': 'BfMuB3G5ZqBNtpTrbRAhJS8w4uXJ8pmVVzclOygAFnZRQ5OrI7bBIjAtMA', '임녜준': 'bpOSQ7OPvqT5gt3K34WKwh4P2gT57KZxjEXWheb9BUzTbjI', '짜 룽': 'eBl_zRAFKSInJ8EHLU8267-lRVqxgSDa1-hWh2KdP9XHjA', 'OOH AHH하게': 'VXYRL7QEpqMboHNzqHEFZ5rOXesLVHCmID8HZduy9s_nlXM', '두꺼비압수': 'PQgT0Iry-oztqkLUSuJqXy5sOtjF6ydFlAtjFf-d6D4XZ20k', 'HLE Lukalux': 'r-Y4oawYMArFHxZvgKwTuJSVBJivaOda3jkuY-aN4LBZu4M', 'a173d': 'FgYyNn0pagS2bJyOm_ldJEAoYpb59Eo5SBLmooT4Ws6VGyI', '중 훈': 'SzOxJXpGTdBaLOW6F2ah_w_dfytqZS4vOy0pu9EaHzqf4A', '재설화': 'R-2cKUDDlCqpCffCSsr2yEr6ty8Q_oGF0JDUm5-GsRAAaJM', 'Afreeca 말레맨': 'z_exra3-jPOB4xdT7mLzM7oxJRdO0fbYTIX0wM_HypwgKgwW', 'AD97y': 'Kj4qNNGVgtUtHfRXYdTo0rnee5uklYs_KQBm9jPbG1OsWGk', '미니밍이': 'yaabJ4dam2MO7-TtWEmJIwSqOSGcjAdC2ENWc9n516UVr3o', 'JustLikeThat코인': '1xxXGjb2CKnomnyS1Ad9bTpT4qlw-ybRVUfzZjLXh72z9rQ', '오른뽀뽀오른쪽': 'bH-tC0Atjs1JAdyfuHb9VdSsOODgskgXgVKwckOjj-ofkZ8', 'Zumayusi3': 'ZZrM1lnl1WY3XXMPXa4j1Q3uUHBwntebQ8LNw7PHEXeqZsqzpyJauiCY9Q', '연애꽃': 'QfPmbAn-Wd3TxWq1Bo9m8XmiajkqICPZqOELoe1ovZdP2DU', '헌창이': 'jhYFNGeWaL1RoPN1xhz9NY8lFS81YnTQu51X4g9Hp_zVznX9L0NUQtwTsA', '왓 덕': 'CYAn6Sno_Krm2zRc71kPfYuF1sVFDs0Q2V0SJ8lQ4nkFR0w', 'Rumiki': 'Bi-F1rW5UhWPA6CH2RQ0VjYU0WPXXWSEWm4wSV6Qbn75TGmzTBaGUfzg9A', 'kldeu': 'PnojNu29QiKfRszeSZnIdxjlsX2XJyltfHKKo6fsZRjB11Y', '세체원 구마유시': 'Ff0cEJ1A8mLJDAXdrqb50K067mkhd8gXesWnK2pkpVmCJeweJfmAqJvwBA', 'Refuel efforts': 'H_AePqdQzaG11J2kpowDB0O3nuvSsi09DzdEhd4GUtyom8Yfe09sxsrFjQ', 'hyunwookleeC': 'BVMaurmrP8sLkQuyws2dXejm0rsZKha9iJdQXpUpr5T9spLkhjzMbu7W6A', '홍상현 암살부대': 'eQIOakxmfyKUE8jRIL4cBmYc5_rXRjxGLjKRR0tCX8NpUCk1ToERMicoog', 'Okay cool': 'v2oV4o4hsWeEgcaEOb8ECU9qf5qukkx0WFwk243i_ZTacjM', 'Migung': '8vyrLBcvV4xGb6uK-NC-iBEzuOnuhdNPZu8yURw_dRGoIVc', '만기퇴소 그림자': 'Zi0V_mhV0Jf5_C2AFMzy2_3DvZAP1UpHmcBJsTM6QNFDpxQ', '헌애기': 'TQYmiy5-vKBNtvPEX6h2Mtvl0lJc2Yt3x6Ii2WzgSH_6ekc', ' u bye': 'T1Oy_rpTlC4GVe0xGs8UTiPZSyusUrboAiSOt5qort8v2NU', '베이가바드': 'NZwBhCPr0VC0oLZ3gtpOTR1W3bMZd5bn7DDMJ7cl-5WPK4U', 'Luo Nan Gong Zhu': 'HgsEfGz9b7AOX2fRNGte6O3cHD4IAvFI_80Eut4_EsS6VRLfcB2b8ZXqbw', '시무룩룩': 'woe27LWn2UCof_5aSn2vCUXwfAoenJRm36lguFfQp2PZW4Q', '탕볶밥에반했다': 'osi_ERZQOXUHHwVc6QSiDRF0f6arD0IkAxCp6KACjb72V-0rc-SXwCkWog', 'IllIllIlIII': 'vcPVTkVSpyMv6xBiGVw1ANg3EsdumNkW17Lxplc4LbK2obIldRvehfnZqg', '2002QQ2388641461': '5FWXOwpGUO4iTXuL_syZDyv__DYupd05T01cU5kBHb6lKZk', '무덤 언박싱': '0GfcVROIhm7mqq2YpH8vUQoRYbgDuxroKLVmI7Y4CV69mIY', '개인팟': 'kTXBKsi1PtpLQWf0CDolkBCmv6cermz6KrbIxvXt689LpQ', '세계최고재라스': 'H8-I_x2gJ2SQV6QM6X5WerOHhtwxVcg3-KHtNDqUxFyu6TFeB2TzZ619HQ', '카카오 렝가': 'f9UE3VXpKMyMwsXAJnoksqlRi4xuM26A9N6RuAb6xKMSWFA', '잔나카르마': 'D6waE86cbMxue7a_stVp-QIA848Ryxy_KHsV2VD7MWzlKmE', '벌레퇴치세스코1': 'yT6YwI4JOeH4_oV2LUuGXUqpqQSarH2b0rXXQInSC2r3Jv3L', 'No good luck': 'bR1ea2Y1Bz4ZFb7B7ZAwUi9BzDbBR6m5p-cYmWpo2NkxggLthJSpDqU_tw', 'black kitty2000': 'V_NfOOjCBsAo-ULGna0cd92eYzNvL7hoIsjAK6cmSRMqUCQ', '돈 다': '_NrZxnbAlLSwDdRnXn73a-kZs0GKX162Rp70goF19-Irn8Y', '김징징123': 'R9PtEaOBfVwvAkAws78nLQTz1P_sOKxeougC1VVQiVwYCEE', '고 인 영': 'dBRyEt8hhShcROYrj2xIeCRtN5O9JKlZPwDwYeomPAEJzYg', '세상이어두워': 'Ll0BG9XZFGS2goeY6GC4TrLBRT9OPHwdEJ64HM4LTvtXvQ4', '뚜오뚜오징어링맛': 'p3y1xrdg4jSOQ-2hUcz1XiF1ndf1lYhO6eB7uv0_6vo5Dys', '활정수': 'E1BrnOYvflcppkLVMqcaF-D7XsbFayFLBR6E_c9nZURRP6U', '그누링': 'FR-vRmI3mv6FFxGgVfvhBhejXd-sipOD2noWC-yPuc9Bjsk', '하루카': '0pb2nhUM06_g2bjIf5jZAka4DvcgzGFA_kFHd_1xqUW-0g', '0dV응Vb0': 'to9y_SLzwkYzcUaKtncbiXNGoh9v-AJt0dAf5JaVGrwaT8Q', '난최고가될거야': 'sxFxK9nDGZkUTFC0uqMh0eFqfNkX80PILzGvaqvvhCc86K4', '어쩔카정': 'l9yUxbgF3ApVD6y3b4wJ9mZsGOTuaNpExglkioHt6Yx2tck', '05 T0P': '_QLGQ4iJZygmfc5KpCMxSwkSCKFWL5IddarNKMlIdFqeDmhxTozP-aL5_Q', '눌 렁': '4UZ-TpUp1OMxXCtWLuvhnnyGCtvGJWtvPH6qbBpspQW7Fl4', '넘어져도 괜찮아': '7hKWAz4EPVNs8BrU-o2fM8J3ycHSW-oAblytKr3NL8R3OyILP_P_gEH7_Q', 'Furb': 'Hpe7SPRVwQnxz88c4U61wjA-k3SPmfz3f3H04rnIhiGIwQtjwF_1M1yNCA', '탑은막고라다 갱s': '4h0TICYMtJqPpzRKRXTCslMeIFZqgnhme7Oonf-wgFNbySs', 'Ps 나랑유': 'ZLaJ_aaZY3W0jcQow3c_Py2nv4QUppiNWyAI-hLtrA0_0Q', 'shin3510': 'N6fVu8BR0M05pAC4cMUVFZwNg-agFkLv3Gd0739xnH12fMFHZundr-T3Mw', '잘자요힘': 'urBdPhhw2OYG2fDGzbyoZZpD4Otfdv_vRrkM3ZnV5dw2r-zBBCf8tqER1g', '수 직': 'R0VgOrvxs0kZ_heKigMsFHNJ6gyTUJYVlsuUVwvesTd-Lo8ZZEorlsPeZw', '뭐가그렇게힘들어': '6rgHDZc8xpgc4MuSYe1cuHB5KjL5ee-snLulXUEeVRCCaeg', 'Herres': 'EnqpDrTzlOKHnXEjJn_4yCm2c4KMzqmHdYZvwY8Qy6q0hE8', '덱스 fan': 'ht4S0s3Qi5GC9ns0c1CqaBivhVT9vEZP-p5E0hLMKYwvAA', 'Cend': 'oXfQc5LY4AiKOwn21v1Rx8vek54-S1VcvQno4dGzzA6ixw', '배추동생': '0UVpjO6TnHjr86fDU5AbpIDk-SLQQoCVvDxRwmcuNqzPUw', 'DK ARAM': 'xwI5Be9nQ6A_Mcy907vIKkSnZ48Yg5Kwbi-TWjZ6S84l74g', '오경구': 'O3IJbz15aDhEJt0TjC7SiqNc_0L1jsKWk05an-BCTR3LExY', 'DK Saint': 'W_gGVlfaBXSRrZneqh_R5a3fSJWmarwtf6naOcYKZ1vqPiZ8Yey_mnYoTg', '매판 예민한 사람': 'v_gcNB5FIt2B5m1_oHadY2pl7KFkxorrjqnASUKj0NE8LK0', '이번 시즌 챌 갈 llD': 'Z-zu-SM9en8aBHfn0Bz1c_A-8M9K4mU5C1dwbiR8IBZV35s1', '신비한 뱀': 'e5iS04wIQhnZT7QU_58di7UQM3akADMUaR1ZfmFMvShYtcXVeoukW2dX3g', '확률은50퍼': 'dcLvFlmMvHNqJR2kL0Vxl0CABlqsjMnvTVumZbf23UFGrrs', '피까뿌': 'o6WPHAyBfoyuZC8L4dK4GL9wXu3gEvjuEhYDuAOJ389tJ24', '황휘진': 'N8-sCDJEKQZDqAvvtq_XSkCKKRl4cC3sysS9Byr9Lk8lYsg', '착한 게 좋은거다': 'JgK0KMYUuBjMZmDDvi6Mdub8r0VvOjyj1Amr7-0HeUQ6g_2q', '불타버린 발바닥': '6XDsLCXk0fLL2axyxz1aLZ9sfrUHuPnT7vReYQWf450-lQ', '애니비아한다': 'k07hhvw-zKWs7zXgb-IzHk9-izvrXlweGioZ-TOjege6-_M', '정현심': 's3O9SEcyufizydkGIocEAtfay-h7hLvaGOc_1wXx3vFUBAM', '좔리다': 'CbbqMOQQ_EK1d9JIG-qy0K7hd_8b3Tn_Uz1fR4UqGP1Lx5s', '48980314123': 'PKQCx--ubRn4Fb62Sx2olJ1U9QayRdUqUPpt0u5u2yrYy4Mr7fNBkWQFUQ', 'WowiWowi': '64aII_JPY1JaXUSQ2gPoZq96PBZSrx6a-RerR9TTG7-uRHY', 'Ive OvO': 'f8Z-fYZQx2YKVevcUxAKebIzqmFES6U_LPaEcbPdDMBfhtFlSXm6fHeATQ', 'wymycall': 'C6c0EJw63gN7ynqmLvthTFnsxKE7aaXIHu1U0YGyWnKI-1rxvhGKo_SJ0Q', '선넘기': '_383VHxw8MlhRmHGT4MFrztuH-kAS7sRjWVuM7XW2aE6XCA', '난휴식': '2AK325GTpWGYfPmttbkbsW-iGUIJuCIf4xj-c__fE4EOy3cpD92_MFMlQg', '한국 렝가': 'EIGgTAKhJ5ZuSfqke626tIJcuU8x6vJKy5YqMFV1gcblzoI', '날쌘 화살 신태민': 'AHkl4atfgmz27BarbxEfXj7dJpCmnmcYNTJBq4UMZyN38M8', 'BAY헌터': 'VyjiRmIO9dcvAuMInIGwwRNFZantR8FTgEdwncUZrDivZIQ', 'Gen G Ami': 'SmreeEpAbHbDa_zWkXKqBWAvx-eNqoirq2lIa4N54NpaAOtr9TiTurdqAg', 'chu di fan tan': '1M8XCjVL2lpe-pYO5C0CjIc-IL6mwRLfb2-J2ty6bUB5IO8oMF7OZ3XUNw', '기분 걍 메롱': 'kF0ZRoQAEv8TbPfeEu5gQLS4S_nhubvg30fSI-5XOZUB9s4', '내일 올래요': 'Z3AX0KiUm5KrsvPDJk7FMX-HB3qAKtlstiYxDk3_WPEa0IZjhP-MYQ8EFw', 'Lets play adc': 'LpzC8namtAAFuQ1-PHfe3nDu_SGn_E-Lc5Cp88XyI1TZZBk', 'KOJOPQ': 'vIuH1RsDJPnjCkmxYIEh9xR9Ix7nPUDT_xH9JgMPjaGYRA', '예비군11': 'R7zOXhrUhyxFRk4MtIYMy-EH41cAIGcLPQKwhTwBSNmId88', '이순모': 'OBjw3Ng1oxJFYE2MBK1b2ya29Wo_fORkCLd7i6Kuid4Cgt0', 'pyke k1ng': 'uAiLPARAriaBqXFEX8k23eadDMqRQKJL7yIGwev7Eey1VmO06Q3t8kUOrg', '커여운 물개': 'rQVp0-fGLg0nruXjPMx1a6YixWk4JBTG5Lokmfg6pKom8KolaGSB5G1bCw', '2qqq': 'r5ethsA28_C4LBE8Ji8TdpJb61WcFHBpUZRp44ph_QZ_d7QZLWpAHUrgNw', 'noobjgjg': 'VDKFbQ5Fdoiitt2DHm3Zk6ClP_tgNcFrNcBH0X1bO7QKqKs', '시금치먹는뽀빠이': 'C2_sNinPXDyCSUpmsoV7K_vRbD5p4qgiKJDxgsu2NIuSLAUb7fVzGWf64A', 'Ernest Khalimov': 'JL0dNrNHseMvL6Zp2UykDq9W4nKHFC6_FCxSGuT8ir9GaDw', '스 칼': 'HkILobBF1d9HrfdggqYov04H9fBT85Tq_tetEm0yy_Ujy9s', 'puzhixun': 'NBHYVSw6_mWKDEY0KUUqTF2WtrlPaEKf1ZIyrmuOtaqmuvF27unhz4cXfg', 'WEzhaoqx35464321': 'EPdy5nU6tSZyPhefcGrhs5CpmzJukx-4Q-_IKQ5pm7EM0NJB_ZteLnXsfQ', 'WuLei shishangdi': 'Py-VY2nIvcOAEb5-knCyq4iwGtbmkWL9shRBVP8mTMv5g4Ob0qeUxjsqrw', '공주 클라스': 'D0fRKJ2QEVLS_saykA6m6rm1Lv2iakRJcG3XqrVRDUNqig', '잉슥이1': 'j8eYRhh8pH3K242a1tLkfGLp9fFXXnQAuzCBzWZ4IptMroNw5En4ns5mkw', '죽지않는 드래곤': 'SFULSKBxxNh96GQxEGOK4G3Yi5XrKUZ4wTKv6mlPSDgdaw', 'Onzed': '-vZDV-fz5nj0J510Eh1SG_NztO57LjnzJ2wK2vQ3aXneZK5jTtdmQupMlg', 'Heimskaut refur': 'W6Og2e3mdp0OOeRkD0_PUBss3TqZ5NNTHM_e3Psx-mSbXgeUDlrJA3NSAQ', 'Lucky Gaga': 'f8LVHNOTxhMg65SULX7f2i-AkdIdejMpNgzawotDqX4QAjintk77d0rGUA', '트위치 조우지': '0r1Ja1IIi8rDJOKn15BAH1zZv5YvCm9JuZS8KiZwoqUzLhPN', 'ye pao1': 'nxmoc7FxAoK5jq8ZARl7XTRKkXnqcZbDlwkYa4JyALYWFXz7YA66W9ZJJg', '유튜브 두태식TV': 'fk8rcBfn0dPeRxdZtcWmsWX_qA3xnAfbkKKyMMy_nVhDXOMiguIDHQ5arw', 'WeIshcorgl': 'Mmuy5sVWkj3baFGFLAxgg7zV4lt6rL3G8VnVQ30SnwjyPb9B5zsE_92vpw', '먼지 한 알': 'qZ4UA4MJtaZv2A9qa4_dKVJG-IWVqE9Q-ovt0tcabZ-PkZk', 'Anni': 'mrurfvuAiulbLyQxkDAiTFn4vpILboCX28qlDs9ddzGW1WsBFOOXD2qCCQ', '군고구마초록매실': 'KEWRbxGEfPRw-bphKxBsJOKUPW5zMbU8VFwS6EnqOuM3KWaBowl_fORNFA', '왜 우리 백정은': '4yqRyL_QLC-oMvSSkO9OT16Zfxhrh6-NTQcEywUMuFo2agk', '98 나이티에잇': '496qy3Pfpw4oCDOEDPzdKH2fgOHToPEyFqCccylZjGm3-MbXgTR1ajrfXQ', 'Future No1 JG': 'wk4XgUDfoTBNKzPOXOrW4bX-qNmCvP3ZGGs1xfv5irMUr0SRgVO78sqNOQ', '세트보다몸좋음': 'B5FhnXYdwkklvGxjUoFVMy_a5ZxPPMSvCsEhZ58scKkxeu4', '빵 테': 'QAwGZSlxrXTjlkppeuWORz6tIheufWm4a3IhqLbbQXzsBWQ', 'Flozel': '5BVc47jg28Brckn-M2bnRPyuEzfBUF9M-ifeDYST6EiLUZg', '베이징': 'panaanBvelkY-UFZ_lZ2VF1gJffS9CdTHhYvd4S9n-YHxX6Vf4OF5iLgLw', 'Toi ten la Tao': '97VNvSUlBkYd3SDQgE363gaeHTdtE5LrzhaQg-OFT_qI8ghr6q9l8WwdIw', '지렁이괴물': 'E04Iy-wMte5seCPVfmpo-A6Fo9IFqaWkcg75unCKsKklKmo', 'Keias': 'wsFNFnw5fiBQsCbAttUHWPxfh6Qo30cYqNu49oZu2NyU3M3m', '사탕콩': 'ejiwblF4pDc0L0eIqcegUEpSxKk2ESplZ9Yq90kKG8ekurjRxagfBc0wBQ', '쉔드백': '9eX8YzBoW8WNJPgduQ4hsYWY9daHCgWRhzONrDYLUOeJlq0', '병기형이다z': '5_YEOuIOTOm9kRj7e66GZCokugSZs6SRlnvCWgqNXH1SCg', '커여운 수달': 'JI_3hjYf4-5v5_JbizIxMbvELlt5GWiGJqvuWfsZuBRdIg', 'jg gap AFK gg': 'Khzyx1MdJpX0SPG-008hXssMhUjBwchdrmICgAu4K7hDBd9kNSchUVRAXA', '한눈으로잘해요': 'zb4SePVpeLtwhIJhRZZ6OQ8zErysi79PJ4HHzccCNlPxN1e5', 'xxl5': 'csoMPtab4kL1_kit_jRBf2H-nKVJLC6IWTSmi8pDDPZD6rN7Z7qqVNHQlA', 'So1o': 'gi6Ti37rpOl7Gyr4aKlsuCFQD1rhh4DApM6Af7H7M9Hn_RA', '물불풀풀불물': '9K4i8XJ9fCOMLxHxJAXw7qOPNErKrRu7otOLFuTNnhansA', 'WoogieG': 'yg0xfowA8Q5FYgooUmIWu4dylpNUAQbVaj4FFNMFgFD6-Q', 'Reasons To Stay': '_3CU8YnhWfokGotw3R-dRsFSWiw0driQpgasL1cVLoygRttVxJIWzaVg6g', '달달하구여': 'dhrBJJMaTYUyA1Dqj0QnwOgP2FV4pYq7byTSBcJ2zhvDzxg', '포뇨의 지느러미': 'F_Uiwpxdv7ok0RD6ls8krJrk0WTf6YS2ZGSlrW-XzRGewxo', '아프리카TV 9 밍': '36M4AyOCK9Gml1C1mIEc2kKOHPKHR2q8WaDM8me3Kn0I_Mc', 'wo xiang tiao wu': 'AIXqd37X61nZFxgvlBw_bT_BgDSpQVsQ5YOXbW17Ig2O2xsjs6tTIVSMug', '나무진규': '94jnMfval89vh8YeAO6gCKhnnDqKT4EVUK-yj9VcmEzoMn4', '필리핀 바운스': 'K3waZi0h6fLxNUQ6uAPXmqaAXL_d2REJGIqL0tcFBiIS3gPM', '인내의결정체 1': '6HnLZfyex38oWssVlEYlFj76zMctl06g1TzOcqHCHFnUbOY', '달빛 여왕 럭스': '-SHNYaRNrp_fGXJOEwXkmJ4OYYGb14uPD1r8XpYwCXR8Zvg', 'Dpppp': 'fNq27VJ5PjDwKo7_yoKBRER6emUvFw-fYxhwMNNqb3ndIE8', 'n1u n1u': 'srok3yVgB-Ye6XRxCdmOAg78F0WudWFpvCGYuy6TZSaoeR0', '짐승의 호흡 제1형 엄니꿰뚫기': 'cNzC8rsf3rZWwkRxeZEUGRp79CXBKhYD8dRzbyK1nK5y5tPcCzukDizbGA', '기간티아': 'VHrhwBnwA6A_--oK5hjgy8rxqHAaptVg0kLOVMcqbg0Ul2Wk4jGKfPLvIA', '나윤종국': '6s9Kb1hn26NTaDroAGz-O698PNP6bKW6s4sQAbS799Sy7Q', '오빠의바나나': 'XqPPRplgxJ82WaR6Z0AjORs6gqwyvzD057IrR8HkU0Sp-w', 'damie damieyo': '586XJpOhRqhRCeqDwdXLEhpm5T3Epbfyg1qMaYvk91rRdhlsTnRQG4Cg9w', 'Gen G Punch': '0AQVdm9uijFHyOKZNIuLHGa52__ogHC5Lln6LOCpjzdOtd8', '량량쓰': '5eyE4alKFPgQ6XTdFGtGUiLSaCywVncE1cGEsZ9EHV_Cbiw48wKjd_5UjQ', '채색하는 기류': 'RTGJX2kqdQeOietZ61phiJx7vDSXIIaKP3rwUsLZ1ctbpudFjJ26bZF-NA', '최일수': 'fLnC5U9gA6fwmNmWhOL7zgCKldbPKqr0GW0vrYVrSr_dmTc', '바텀죽음나도죽음': 'QRaDkx_J0rJ-N-T1J8yGAnGDvRmac4L7RplAN4t5A6e1aPs', 'Nox808': 'hHScuJE5DNcDp6agHURJOa7saAHzPZwyR7tTxQuL-rWCJaQI2ohIqV_LLg', 'ji xing cha': 'HFnazJu3H56t9doLaGVW6NKRdX4Sf45oXUWSWmm30pwE9AJD2Jhf6YFCQA', '정성각': 'ZujBc97Sey9qmTVA_CUI1yqRoIXV4LJzIv8HWputzQetDpF4kErdDFd8hw', '마음앗': 'DRip_rk3Brbs6-WhfX_7ufV9GSKsNOtE9Me2j937dulkYSuK', '오 안돼 loopy': 'JVFDq6a8GOcWST414tJUGDhafAzyxaOdDFGFcuhPW3NJQHg', '검은머리사나이': 'dLFaAjI0--IUndFz7sTTWjELLWxp-x_OG24uQNHZhD3VzQ', '바드꼴등': 'dBL9xH4CEWW5PRX_NgFdlfyj-XecpfH0CLpwrXBrUKVmIRs', 'tinhyeutuoi16': '2uzWhAjPtGWmt2QWkrCmRyppsRxjpFOEV0kmiik-e1_tAqImv9_yZwXVdA', '양버미': 'msj8GkViezAAuUHxPdSMkQJiUoML_N1OpSiod5vAKhpD1A', '금방1': 'DzrmV19YZcnSKhBZQRPxSskqYtL_DC66hjFfhdAua25GUzdE9_XWa6DL9A', '가락1': 'lQVU5ySIvz4lq7Rkqh4y19Pm38wQIQABwMROEYIf5NSTo5k', 'novelnandos': '2MAGt0rgg8YgZU04CgWophteNnz8teW0TvVksf2Uxb9soQ', 'Magic Castle': 'Roh572LJGhBRk8bsWyNA8mihcZ1_B6t_eMBpGWOOD13o-eM7MNbpafj2Zg', '김촐래': 't8Uj4BDyX6bzgB3PhODW16CQHubcgEHmjmD_ajIISdl93g4', '한양대 주전 원딜': 'GN-oGKalOrNA5nYZ8NeUTLNQ2ISmDGNqAgVZY6ZgNmPJgJU7v-zm0nxbTQ', 'Dpm0000': 'JguI-WweOuoSbYRb9HYMdBKscpbeQyUehOs9mSGXSfclYh3cb7y4TBX97Q', 'zhibogaoshou': 'OWpZfreRP2b_KMpM8Qf55VjAQno_V60PIRxMU2gn6-fVwrPFz88R_7Bkbg', 'crOss khazix': 'aEeUD-FfhD78A-hZArvQJ5YoNG6BXF6SMBXhOaa4CnyGDZM', 'zod slr eh': 'eaXTbfzG-k3qj9QFX4cMim9wMtdSzVHDDKJLRVqS2EuYX8jIplsQ8nkPFw', '나도뭐하는지모름': 'lzimFjNyyyl90YdhQkNlGcddqIkzCmL5moc_bUeRQvm8v-0J8R2j3Lx2qw', 'wsa': 'Fm4GfeqAKtDU1YQwqBc0-p4ddLf-vFLm3Y8FQH8P5cwwfQ', 'ADKLNG GOD': 'MxJZ3GhdjidR_eBP8uDFY9iG_bbJsv59UHE520GhEexxP7qP', '새우깡끼룩': 'wqmDqk6eBtqwQ2hjZ6p34VW5mpDTU3p4MphTPEkpGKgrtg', 'Gap': '4EarjhHDGu701hnLTEFpdD9_7GLderiXyoaUapEsS-7Ewtw', 'Palette all': 'jThW92yP5pm-6UA1Jttbyf6XnZ4amCu9EGXuy9nskW1PtTWqXodNimI6vg', '양시언': 'u1vyyaVwQHAJyK6qmWkoDg2zlkiPW2WOKYMRBBwncLPpQaw', '크롱크롱크러엉': 'AXeeThrkGrNphk2gjQ9MBRIRoUXOmUE5Pr05loPFhc9wOGk', '열정은 꺼저도': 'won2dGO5-8uY00QzO68TcJU_fIc8QO2H2_F3-2rclpixiHg', '도구가 아닌 Dog': 'l7dTRrNFmbpxETmD2lLMgjsUsGPkHcmSwBpYIxsNmreMssY', '왕자또는숟가락': 'Hc5S9Fp9XkqxDfihSs_DmEW_OWB0CirxjCx45-LqmUaZSEOo', '빛경재': 'LDbZZKo7WTNueTaDdKPnrvawswAo69o5MjBWrdFgqgvnEgg', '왕자의 반란': 'NhdPBdo1SG5sxlSG9YU-AL_XFpoXjIUgIsxVvlolJcHfm7w', '민 더': 'BPi-UUdHQxcRntSmSKr-X0umgnnYNxsNa0AZw4p9_wNgDkw', 'NS Calix': 'ECNyduTsPmZMTBmlKrDrV-YQjFbLMcWnxjC1Kc5N5Usv5pE', '쮜 재': '96TDHQi2zkjDghwAAyZwxd3e8TMDkkeRPb2P5Lj2LGl9joJdYvsMos7-EA', '멍뭉이왕': 'RkuNU0NsO75uOOMg0mLtbvRU3kGnHqPO0uPssHx3h5Xn69U', '역전의 순간': '04MVNbnMY5ICdb9g0WfFyVIVGEOS3jrPBIDUiU5Q3MoxvPI', 'Fantasy Moon': 'Tt8BLpVgSR6haQVMwNXnwtfyDoork-g0fnkAMzSYTB79M0nA5rdhh5Yw1g', '선이냥': '1g0SHJkZbvx7ct-l2n_oLXYP7g38lQH0cc41yq_P7Scc7G0', '아이폰에어팟워치': 'NZxJhdwx3GfIhwizKwU1K94x8N118-IggV01xbjDp77JVT5e', 'asdada': 'ssMM8gRNfBOAJ4r2CwFIrN369sL7qYla-ePPCI4xSaO6JOVIh3V3pEnB5Q', 'Zenith2': 'lz08tFHzBkNFtwCUSnXm23BgcszFaeQFNjfRLCrxyUixZZmznLuPH9DH9Q', 'RAKING': 'ky8cfy52kc5OBYUI92pDaFM_uMyrO7uhx_SYUAcE_eXQ-A', 'Fundayep': 'E7zKG0lMxufHPK6GTl4Maitlg4KGsueCX61887VZVoo9ZUs', '확밀러버린다': '35BSSwWSr5pfr3dZVgYgXEmDObCf2-m9m9j3ca1glZbTYVoH', '땅우양1': 'CcM985BdwRLmzvVocYhqM7L2Z5_Wo90uZ7ihs7w7CU6gc9E', 'limit': 'zJvDxNO5hLN4JE-Ri8nF5CBbGux7wm9L1moySCHmOVQIgPA', 'PuIse': 'gtVuuhKQMBQPjg0mB0OxtATmaXF73BizmnmNsILDx04Bh1Q', 'LuckyGame7414': 'Q_OicCPpdySrjPvGDtoqS6objVdCvgiFxJccoLlaM2FZMq0', '미북이': 'uF_kxwlZKFRhNtzeL2dLv0BqluAa0wVRs4NI3upTNyI5wVA', 'NeverLand': 'nOTFmykLpzntcKpQ495zmj3WIQStpsFzmYDw0OQLsQ5lFyA', 'Ali di': 'E2XSj_IYKACpi6HjxkKyISlIB3nuy7jfORg4hNFRurYk1IUDy5EsNmGvPA', 'csczxxazx': 'h1VX6W9ZrZIdmKKSsrRrdsp86GcL_uo4bWOgn3vVBzcQWLs', '완벽하고싶다아': '9RiA42YwHHpF5yUvrofx59bNEMoHicVXBBA7LvrAAImEKSs', 'XiA 갱': '17Ahd0wyYX7YlJokk3c_SDnT7bHjDOfMSFQeyPyf9S3mCBs', '심장피곤': '-fBT5gLX5H_b72ap-aI0Kg3RvxVPj5QtgVdLFkaVos6j62fIvSpeIyPngw', '도멜레온': '6p2ya_rNankf1b1T1xZ2c2j983DPKRVNa3SnoeKeEyubQFs', '딸기타르트으': 'pXqafafd9cr7NXHOUbYbQcyJVca1VY7BxJyHc3NzwH7dtj8', '꿀꿀꿀탱꿀탱': 'oO_8ifar02C4vnTKZXNtTQivdDmAJsMFQlFr5fTYo9oyr4E', 'xiaoningupup': 'GqnID585rX932CyMspg4IrTO12iEc-dzdytTST1yMLdRtMX-axJjo8gpLw', 'The life goes on': 'jK_VSPpn_XF0jpaZe5uPISADTyH_Gr7zMUPLaHrAfn4SA28', '2312312312312': 'rLNyVv9ZeYHjq-ADSrpL0qY_OZSgMWtcKUYuVIvYDiY97DM', 'Days will pass': '14G6C1oZR0KNbOQyRo4o48G4NLnb0AhSPyk2EzcCJbRAWp-FPnRaOeHx_w', 'Low On': 'I0euhNF7AZT8nwupgyGj2hapHhqaGZLec7OrQHkJKgLfPw', 'likechloe': 'TH0J2yZ498gngOMhWX6DxvAJo8Jm9q3qiOfFudCXh562Z2Y', 'GuDi TV': 'DqLsA0VK26yuF1-VCauu_gylFvcla11MRuSUNnjnpH6XxA', '19살입니다': '6UpaGij8WqQ9h0D3WgoHg1kMUqGZp4qeQ4ZcFy3KjFWRUnE', '잘해지면돌아올게': '6v3KzbQ1P6KHKFPEKlPSNqymNK9EiO-36HUuybTzA9G74550IoDtpeOxwA', 'watdoesthefoxsay': 'YXyCJ1HJbMrumwR33SWMQQF2VGkarslxTAjRnXNW130OuQzwGCt-o43I0Q', 'weilin': 'u4H3uCkMxf-3ZaN277hHbIEKWQ7jBI32PbEvC8Lm0-OSvlE', '호감형 탑라이너': 'XXm9c-SwzsS827LCVltSyHiLl5rPxxneCjPfONsN_l98BEk', 'Aphel1': 'z2CP28-ndCijKUfPgL9HOP2zR_d8pRS9RhXQcWkxVthy2Co', '렁 재': '56ZFv4RWAc4xSKj7zsLoQtqxf9kpNR_llDbAHxZK1SlohQ', 'FA 긍정맨 ': 'YEqTe4p3jhRjjhUyq2dIrx3U-YBdWIPhFhWfHfV3lFQWCQ8', '도마뱀크면 공룡': 'K7Alveqz7Vxsbd7Giu6OUIqoaEgfl2wjutonLu6r67_AH12aOrAQGHzZVQ', 'Gankkkkk': 'jUS7BvDZGB53jfT-YmffJf08tNHelSz6CWFfVwL90j-sU5A', '몽키 D 짱구': 'rzK-sGOScRQqXROkKQqLy1IoYWmGw9yWRahDA9cMupyMwg', '미복이': 'zZnoXLAjncEGRYSBZncWecedySiKS9uvxG0zDXmQoLhsWfnsRkguqmazFw', 'lmCrazy1': 'FIolcAkUWxyyVpa5RhCKahqu1trLVUXYNgeXFgIT4-r7va-7wNAnph5gbw', '대마왕 카탄': 'plyR2pqH_8lI_5bF1mG-W4v8BbCLYFwJzy1R3DZaByT3MqE', '킥킥z 2호': 'jRKIppaNk-vcNxD6WdgMdTae7ye8d_wHQRbXGE2A15PHhg', '싸식이': 're8rWA4KuvJNYk-qN3JLKeMVYSnQ5iXuwTWV4kaZOb4nkm39ebP9y4ZBxw', '스드으지직': 'IwbiydMoTiFLWtM87OGhUhpLodrFUuGKa9f1CktrCC-M1lg', 'Autumoo': 'TQTT3VsyVrkqEn2_Qb_OdfIKZjx4PgQRZ6cfatq7y7DsL5jifgGMPnE6vQ', '배달음식요기요': 'OLUpKDk7OL38yMrdD35VGTMNMMG0hgjw8WGAPeFt4UWfytc', '카사돌': 'G6dOpGnpnHIMEpjx4ef4oFBt2vdXlzsM6SLK5WRZmnAjbWOA', '영하1도의사나이': 'XXltFBLcu-e3_2Q0jt1T4rYnsPGJ2TzjFDkYv7h9Bw-NbwI', '싸다만 황족미드': 'KLuyrDBhiF3wClgHbAAOHfu_rcjrSjAgvx0U56e6BEQQKmM', '골드멘탈': 'WHpTl6VLApSeTDJ62O8rRozsynOMYIbRQM6NPCuR7NN23w', 'T1 Roach': 'yXRhAjIYPoGW_5tOf5iChoO4d33Tia_vu2qBLbyYcQgytQ', 'Waybe': 'ZsKf8KxQoXbapDEO_nJ7hotGWjDpt0m9Av7p_4f15P3txnw', 'Villager C': 'yEEFhNxSwlMlpI8-070Dj07mTqoaxVtAqxbUhM9izL13APU', '고분대쟝': 'p8fvIOL7QmXYyi3zkly3GNMCfeNqbfDJEfUI2x8KZZ7bIA', '모두모두항복하길': 'czqFsdyPycZPskfW-g2D2xuF_E7tSRgaz77Lk5v3u1dCc3s', 'opasdwqexz': 'Qo9ziX14PiFyJEKGiT_jjFyYf9pkEF-Owlzi16BAoKiznXwOeJ_zURo7UQ', 'Verit4s': 'y7yWbcjOxgzBjpzbxyUXv3fXQ5ZqOkIroU_nolp-LE5KnKo', '나 보라색 만났어': 'vpW8ZjuKG1khWlcpRJXnhKSGlCGgD17I5dO-mYxTh0cWva_B', '룰루의아버지': 'LCnW00d2yCUdCTEqzJhixgDQkiBoaRIYt04eWbnYKDf74w', 'top 세나': 'GSiIPRZOFYliY3lv63uJOE4CflckwMRirN8rQltQDBXVATk', 'VaIhaIIa': 'zDqmLA_fMu3NsRfhaimeehPMK0x38FhY7ExyRwXzpAfXidA', '마래리트': 'BE9_hkZgVz7Zl-cb_roEcGzamdkTthAZ9evDfPo51gahOmW3x8oJmvMSAg', '바닐라라떼 ICE': 'OmT7Z5jxXp4EoCiK4fpuGv8YGz9hLqETOEEIKF7GcU90Sh0', 'B1ack velvet': 'ONbsVjLG7ilYfPuHcKfIgHLUVZ4yj3nHj5YMohdJNGDcRAc', 'Twitch 보다': '84veY0_l3jBopiznnR23KwW45xcV6GdhFWLn5jPqTFC8PM3OcW6RQBwdYQ', '현진냥': 'pZW3KOlnj2jBPboDrAqn2w1IbTW_aj2wW0KlmkMOUJwVdbE', '훈수두면핑찍음': 'OZKQ7FwfuffwlJex77NKQBeaADGwe0xuebWwYo49sJ5YX6g', 'zrzzsa': '3EWxWg3G_wpwVcUmRj5txKoN2nG5mzcP8OghG4f4LnEb4Fs', '망나니쌍벌': 'ptJYtobdaQ01SQFEuyfcsSzSvWyRbnQV3B1A4sAY92vGPXQ', '독 니': 'OP8ToRhxLVgm8PxqkNz3OCKfZ3PKWjog1dv3nym3uYbOf9o', 'Sleepy insect': 'u0vgRpYt50qCpJGwILv0AHuZxI1eBJa3-kkglOw33Jx9ZVA', '멍멍뭉멍멍멍뭉멍': 'LFRaNKyVoY4hsK5sxumm2M6YBMDh7mIl3UL7taFycBRHSys', '마법공학 상자': 'DjF4lwmDHCHL-z4ack8uopE6gjI2BHyflE4N_MbYSCuJLw', '박슬온': '0bUGcxh8saAOCZhpjvrUxS0Am5WrcCXK8jnIyeG--jW8DsU', 'wu yao ke jiu': 'nKXKXJYq6Xb9EtG3IROLzifhnv_wabW1PQU5BOD8bLNTD6Crv0wNFWyLvA', 'zhendexiangxiao': 'atpsUXqG5vnA5immF_KZ2QwKGMu85PoYCUbe4YUmdbKpptOtF6oMyNUlzw', '응애소연아사랑해': 'f7PxCY0dTHhFzCSJiQr1W2RBI8FS9bkr98bS41glF1_T_yMAb-uJ27KoYg', '남라 fan': '7vY9cNh9crM1TB-g8J4WCeeE3xshZKZ3OMzLAOMYPYAkdu6k', '강유자': '_xcmXPry7F5jhO7ntWCJov_ER2_mr3cy3DqXRa2HRdmh5A', 'vanpa': 'CsgVqnV7PB1B9JWB2E8P-LICaqtxKNZbysUIno1zVZ4wKAg', 'Selfishhh': 'q6okMIcJQXz6NrYN_gacB3_3N1DE1_aXCcxrdjP_luvRvA', '풀캠프 박치기': 'D93sfSsU3lUDpEDBv7Su47oBBSM9vyNrG-oFJyiFXo6z3fE', '바둥은 죽었다': 'dxmv0L6U_lmb3so6AmQ-ud552-_je99zbWTIA0-iWCU1_AU', 'yiwoweizhu': 'FEe0F9mavCKsY-tbkS8Q6UT91IIEmzEaOZ9n14eqXFpOWY8', '채팅귀찮음': '21ncPQxXNqxewGYPXOvRc2mBf4VI-yd9jEHsQOq2O4PV5cE', '어린이즈': 'YmrxOoDpIVMRrnY9MIdblN7ZA0dt91mVdxh5Z0wOOv0tdC8', 'Rumea': 'K0Cpv-khjzTDU-Cc0MKxrtcQpXxmxyNhcpjq9MLYQwRM7Xw', 'Happy Cats': 'OntKYF06jq7EDbOCxEbx-gMOHgrZfHSWtciEVQYhbggwzg', '리 본': '1kkjfRMnFeTsj3aFjPxCvpkzZfa1jP4b6pI058nSoIJEZfA', 'Arinzz': '13hOMRlmtz-NUipJOSO04s0yNAeooTIzYuDIO7Gfu1hf9hE', '날데려가': 'nRoOd8ucOs7EGz3ba1J7Hjo6zhE3xErgwEvw8ZLO4ePfdB60B_LDXdPq1g', '정점파이크크': 'a3_MZlUYHHPsGHl-FG2vxuXWfKRLLhEd9f_xaOAo-m7q2lU', '넥서스 남아있다': '-SCnK8vz3cXjUsVhIv5TZXaGeWfUSpe3CGWs_Wr9rEzWtys', '메건팍': 'kHHq1EwZierMfX2VtHjKrzQVd4iyLSNkoklfxuv1X1GkQGREZg2T8K4DIg', 'EuRopEAn': 'kA4JfO2pl6m1cYuBD8fABcg-kiNbyjSsGe7E2hD_G0c1NA', '웅이애옹': 'Ij1aVDkdl1PVWgdCqhiDGJ7cc5uKjL7nSjYF-nrStWxK3aN_c-ZYJN23EQ', '가위주머니': '34sNQZCiuNm03TqlfRZTx0JDMNAeFgBdsPZOVsAdTPfMsk0', 'TW KR': 'PTiK-H40IBeFo7R33ui8SgRmsoyP1e5jQz-6UwbbkMOdXpA', 'CJ123': 'vJbEXR-a71R6NaHJU6PnnL4MG2hJAJFMq5a6uDrlXXpQ3S4', 'bielairenshiwo': 'sSjhJrK9c8lQANLqG5v2dfg1pZnc4ND813u4HtOZED6UYw', '붕어붕어킹': 'qFzY_k4Enxjs7UoO9E04GVR577d2j_N8J6Q1Bk3N_1uFPcKdVTOpINEfpA', '야생초코칩': '8GKl9rEV5X4eQGDTHyknRu_vxYy_oZnYQIo1-eSZViYb9RI', '우리라인은게복치': 'kyvQJBhOLX1T7vwoWUA1LBp6rLlSRzMMHHzUBWyUHasxFMk', '최고가아닌최선을': '8pT2YiIs6PfbzM4yMzhGZmB34AEBOYiQRqiSSnZAhwT5FMc', 'Jinsei': 'dd_c2NOQ6GWcqKF8my-VFMuisBG2gI4PBD1Pi7zMx2DaKQ', '도전 실패 깨달음': 'E8Q4LbUBzg2adVfr6QfegqOV6y4qqkFjPa58Hj9YBWnBs-pu2isqozPAsw', '모빌권위자': 'cNi8nYusxdUrbtpLWAFVo4xW5gwsIkI5bDFtPKu2pX9irs-dOkPBDotIKQ', '무지성바텀시팅좀': 'vsBcwWFNrBtH2aUA5h0NaaeNFt2eSgR-jPLAWd1hctGzI94', 'thx team come on': '5li4VEnD235kr6mxIS2xQ8OcPJldTBtmvszLy9pG2Ezsz_V8RJa37JdhZg', 'Reminiscence3': 'ZTVoiV4qjdNBcSXnytYR8kl-TzCkFLrsBXvxfMJCfNep-4o', 'xycj': 'eT2QlohFn8rZTXxPIBLCel473b-PydMXDkQhILlY6ZcVBPZJZzJrlYb95Q', '씨르멍': 'WYTuUTO2LGELya8DGbqSjWTLnczqiYxnvszqhbd4SIFz6mo', '토닥임': 'FHez_COKjgp2IUpfhAiG44fma_tcnFb_214YvKL1Kvpdvw', '음치 박치 몸치': 'CLUi9BN5xL7y0mfxIX5gbBj63X0BocsVIQRtYEfkiUyYGZY', 'huya 527988': 'VKOp30ooJRiCLzI7sTEMJnMEE_Oqwr-tCavchW1JsDegYOyBui8Sf_VrEg', 'ToT OoO ToT': 'gA4dz8IiOaxGZxTbyzI5tyqxODr7Uz5uwcrVitpB6XXIngXslJgvf-phww', '최선을다해서하자': 'JCXYORGxyLkuYOM8fFydfDkoWGMPI-nSCjYTDV3TN6ntAa8', '히끼꼬무리': 'nwSTTNgrbcxu5TqRYthNGt7W8XXh4eyvYTswgAO7tUC6k4s', '마리는 못말려': '8yInCNi6Je8dIvZREjiM38ANL_eP6yXyazaHRvSTBfQduGODkeVCZyHiUw', '시즌말이니빡겜': 'PsteDgM2YVXu46zSA1uKF8VHdQM1scKpcx8_hKR382n1jkQ', 'side on yasuo': 'a2wInha6ZGT__dt9Xqv6TVdIBVLshK8Q6hb89jmKB76aar0', '원챔은 죄악이야': 'OkCIC7jbusHJFrNg4CZ2FMcViqQej3XoP9Tez__a7y-aXss', 'haipiniuyier': 'BrYIYz-MpBDpt-miABeTqr8z2TIj_7hRsYrSy4RJPiiP2NN_1bQQPJUlEw', 'BLUEVENT SHU350W': 'f3Edr7dC6UkiCypravTU-jNLZtDQQuHHGzWLL41hFdL8klKXyKHkFqzPOQ', '021344017622': 'TLfqdikkr7LrZn9ZQD84IAV_PqcbaVdLGMSCd09kdbFW69fc5zY5eMkUeQ', '쳐직쳐직처직쳐직': '9oW7C9hLbfmXpyKsRB9l8RQWp07sF3b_vdF4WLWUutJv6jI', 'zEsTsEzEsTsEz': 'j14a2QzxO_VQD5wiP_zNQ7l5gB4jk-VIhGTcEeT2GhYuOLK78Ir5u4DYBg', '원숭이나무추락': 'KPLRfq3v2axh7rbmLhNCktz7389wgTXcLlaNnDNlgCQu0fw', 'Celinain': 'dDqV-lMJvB4VWQAKIEWp0IEUxPSuwLMjNWY30ypC74VXGwwrf-tl0LVBOw', '무뢰한': 'FXJUg5UJEv25qrd69OqOOBLecA2YQg_ZF0Agsz18Nca88A', '나는결국올라간다': 'jq2zbzaFYpmeG_K1lnX4w8Y8FwGAX_72Dehhc03ivIMndWc', '07년생괴물원딜': 'K_vMnP9KvYfAHleMiggqVDSaenEfTxaevPrngrRVsun-cRLChPZ_pvhEcg', '희태시기': 'qLPNMIHxlA4XCaN7zyHLPF2QEdR175RCLYPFTvruKmd8obo', '지훈좌의프로토스': 'd0j9_0wda_8UwtmflaQRjPHE2wZhuPRtPsu0fAjAD3_NZGuhhCcThzr5Bw', '앵잉앵잉앵잉앵잉': 'v0c6KDpuvZ419n1IQCzq9EZ5d26EaePzGHDqkASha2caSdAA5rOu9phChQ', '팀을믿지않으며': 'rpW92cMaGZndb6dgtCxyULUeg7ylWEr4zVSIORxw2d-F_sw', '희망의 새싹': 'CvqQJaJzjVfIk2vwcirnv1z71dYQABAwMLeORLLT0etH-n90lLrx4ZYhyw', '현이인데요': 'ehXzStmZhh8FicFtV3ALrx3pWWHQQFqMKhWCh94yw1cvmbo', 'C86m': 'H_xTSC-6qN9--BQzURdc9f4jLDzk9YndDZznhdjAMENq3jI', '집중하기': 'oj4KpFX_avq43YkWFCyh0JRNSLsaamVpvjN2ZNr5-vnoL3jR', '89 에이티나인': 'WPyQmRXjzP2ER7LTtSb-9KDZfaLDaAcMvb2s5aoQY4wGwYH6HkPDIUCh-w', '번역하다1': 'ljGoR0_vV2BChrmL6bdxzD_xXOHPqdO_ToLeyUO5QMCGtAcBmybYg4oCwQ', 'comehereguanjia': 'YjkDFJh5hfLZyCXtwMFaKblFB3w1EQbEkHmXtmdvFuCUfwlIJSb11VYGnA', 'wavyonurwave': 'b405gc7Kb2B6uWFgSZaOHl673CInk_C20BidPWp3M0l18g', 'snowmoon4': 'vBMiGd2fHNjPrFTmuu1J3fiXVY9b2SfXwFyrbGrcHV6RUujhJr5Ywar1VA', '오희찬': 'Q4KjiVFGhgI4kGjKfsXYtuHgLHJsCcpYgzB2I7tbhVCLLoJ7', 'Shaquat100': 'oWosSoehg-d89oKumrmxCD9qSlg5_3cVM5BrruSzqjtH-YRXLFnNSrYK3w', '서폿잘하면지는겜': '6ZAoJ73QZC1jP-ihUZG4PXanP8OULrmo4WNcm5EZuD-U1LM', 'Healer129': 'eVUlngeyQ2D82LPjczDRmgJvfbwT1Ge5frRr_jQFeiOC2ji6y0JJjY0BnA', '게이온': 'iY9G3j14BwC0tq1mIeMRkgTXen_Ulc25S6yxsrVjszgM7Q', 'sn top': 'rL-lcFkj_bjtjOjSFV2IncZSBAlXDntj8ZQF9VjAbRHkJokDeJDj8kK9SA', '살랑해': '5eVYugqfxFYzRdEjW7Yp2FvxmDRqd_C2sJTeZ3QMj_tFdYqv267b4pkwDw', '다현이내여자': '8cI85lO7LfeKjBQQchQvtEEblV7slF4hCUqfGRelueCwl9U', 'JustLikeThatKR': 'oetV8E-kZno0SQMSRQNK5VVs_oPl0Ezi03PYVEcTw2s_Hg', '탈진 다리우스': 'huLn41jxH8gOC5o0E8VeZjbKXyw_-BaKsAO2AgA89UPQ36U', 'OMYGIRL죠린': 'gobxobxT9eVcUFfkxAuMJ2udds84xmILm-0k3mXAYme7WBs', 'bk2859': 'bbKRnb9oIMByAl7BEVuuyGp1Hn13AzWIv65_Dg9nLkAzPw', 'Predactor': 'ag8wqK-TCXvIBq_JuPqwOb4sa4dnc03VKIjwH7KRP51t6uw', '행복해요 하하': 'oCDe3mpUhgPg8QeVPD5Q__Vi-oL07v529F02Khq5ZEctlbJwiu4hTWy3gg', '한쿡어잘못해요우': 'aFVXFEiFYIiDO_xIt0Or3rDvRlLK6qCDG2tEtZWe5cU4-KA', 'HwayiWY404': 'FmKTxFsb8mqkzyGlPhjYkSbfwtRNKpXy5ev_5z2CbevuiGM', '무력하게누워있기': 'x1gAIFWnvBhlOwraea2Jheqxaftae6YWfujnc-A-aBYPDg', '맥도날드딜너버림': 'sXp_e_SYYzuDuLczNNtZMZufpWdCk2PSa2HcyW9GtIIToA', 'shenzhenshaoye': '5BbqO5asADBl04HmFAU1CKZ74PVaBF3j2S0k7Jtr1kX1FTq9NwZrCtP_Kg', '권라떼에': 'xSQenOStlnd93E3Foxjt-PV0wzQbM08sZqVrJI2iu_aZQ8E', '곽하늘': 'u60Zb48AKTW6Epd5vtgCGBeSdeeibpYPkmDxF6Wo-IiKb5ieFJvnWfvsnA', 'Refrainment': 'QmK3X5MU6RCnghNU6LXNmJ_p3RaRb3gCwjqfLIuCzSWplnidQ3Ebj5Fv1Q', '뺨치고명치맞음': 'hEJBjCCurjWHrcMiG875CYCdXbzuCowAysOWbZ4qnRlOiwA', '이매꽃': 'qeqjnv3mohitBtUEiF66YOzwRePDPPzI-qQCsTrXYr2wVKE', 'zyf': 's9QNg6IauUP2XNzzJGxmmVLiVU2aFwyUek7TeCX93YeQT6LEAzIwnSQAWA', '개빡친 강주찬': 'z0AFg5X7H91-O3lWvyznFsQmFv6XkFUq-6c9BMXhuvk2qhQ', '수호자바드': 'ScIfTwJfEw-ToE-sJKz1k5mwvN34tbheUmRKaZJZzFFHVA', 'Dark seeks Night': '13DQBvvpM2AnrLlcKZ-eFYpRWFsYfCAP_mTL8JxFGEVumWOeFTECFSEUNA', '의빈요미귀요미': 'lScSA6tQ0HurtmfEtwnlQz04zJW7k0RsUzcpD_odJWzJnes', '무슨무슨룰루': 'Zo2zA-HmQKUDyr-wuxBXB8UiZVFRg4rWAuwVm9hFyKaslQ', '싸 쉬': 'l3Ahqp6itM2Z8qN5kfbrFLMe7Xm4VPPQjKZ9_aU8_w5Q1J4', '찌니는 아가야 ': 'fuNDEb07qsqfbCSlnf7w1KGOQ1uVWG3wBd6EpIxbtXzf3kQ', '머와윤': 'oW8SjkZ2jqCL9BKBjDSeKh-0Wy5r2Ci1E3ucluMEOqQRtQ', '서차린': 'eF6JC1Lw_sGTbe0ZiL829F1Qs5UFE_BdwUdMDnrKLtiLWRY', 'fdadffdfa': '3Lw9O8HLm4Riaxv0QHl-tPjcBzncheBEBAtpx2y7JKZk5co', '잼 비': 'dOduQlVMbbQbXuDtrI7evpb6AlLzLzBK-039qwJOWGObzbI', 'nihao 2022': 'SsSSFSB0FVqRqN290cl0SPLVIyvnddLJbonpxNwxpZoIOCBMeoBQUXrxEw', 'NS Chelly': 'tyi0bgRW3S2QCrKORyPCq07K5V42h1Z-fNNe91-UO4juemg', 'bexcexjax': 'vRcTkAzEPQpYEHJXbdBDm2m5rgfhzf-DBOTaQZrBoVztt6g', '폭신폭신 에그볼': 'C5RVI9Vp0fTujWKCQ83IY0MaIUZWe7E_Jveewtk3SCDJe4o', 'do thanh nhap ma': 'HFYg28GzDg8HzwE-scfim2AxtfpLL1X27PtBiJz9W9YtaraLUUK8S9sxQA', 'Cisum2': '10NWPUSFjdi6csaeRa1xYjIctS1ZcUf82LZSmzHFr581mhXU', '란셀러': 'JD1LqhLv4AgCQMnDXTdB3fZ2OJ5suYu39qnP5oaUlVH-gHo', 'BenedizionE': 'SREIazLE9FixIB5ETWLFiag4y53VlkvI_n6mstmjuOiyljscLmaJDSLJVw', 'pOnYtAiLmAN': 'IJFBoLzJkB2KkmK3JQvcQxBh26OjM3GsDOtGKeShf9AhKBM', 'Try again C1': 'nPi3TR7gUkJOREr1jzbctkYyCOv985wbD9oqrXKwaLkMbO8', '목표는내일의나': 'C_MgaaOidzW3gSrruM2cqNXLKQGBNIey6IkqKIckkDJ7BkTz', '간호학과 김민서': 'dtwbppEAlVvB5YlHhtBtQiqoWqtU7cEApzDn90uuexP-bWI', '난 짱 슬프당': '3NR7JzqmsONYsuKUcrclLV4BsYSxMuGKa1JDJv9faVGcNyeb-cJFwWR_QA', '욜로 욜로': '1NV85Xr5c--zeQGYgn0ppwgyxwt3OjVZKimoEI8eJmxby8Q', '길의 끝': '5f1xo6X7fzjsBO41n145NjUOX-dB9YL3Oz01Qza8chCOgFk', 'qpalzmwoaj': 'Lg7Ymwnk1qZM3RnziYLowpgiaQn5qJZMFJKzI_di2puTeGA', '고구마유시': 'VIEMGqnV5M4FWEoT8_UrxhEtE-MPS-TA37q5iJHs7at0OKg', '안수호': '_eH_jgXYWGVbTyjQekmilSNkZqbzO_UFOz8AXiCma-7cwZw', 'Kamad0': 'QHdsWM3mmOqaW8w2OWaBKNKSt4EJBeLz1JZ-NP5yP1y_IdJqk5zh2buLHQ', '이쁘면 무죄': 'GtVqwS00jExOSAUqojd76zuRerBM9voTWW997xPXilbqeME', 'rklckp323': '1w5uhWXGsTb1MQiBKsZhZZdffeHSpPmMf_GksLJ-LFRuUJg', 'OMG COLD': 'N66OIhKcOjUr9FGOgUuBtmUKYAU_ea6HSJIo5vRzmbJzEPNNdpr2Ciowtg', 'Heart': '0nt0-TE99-ZkMYqVdgp4a9bskXIQOKcrLWifEIrRQHSuxg', '05 11 20': 'cczlfFHAzJ-p0CvbDmyttNRe-X_p8sSqYNRP_7DsBJprioAcp9dE27NNBA', 'Hvnter': 'bIdPpweQoycLvjX15o7tv-xbLi53co2Y90-LxcUJ3lZa-WvY', '몬 빈': 'OY_5MRdmaD8QE4Q5-azukWfXdePaP8uCxDX3IK4Ikp7Am2adHGbh6qB9WQ', '약없이못자는사람': '73mkv5bK8LRVYwYQ9MgEdMNd0Nc7lzU7QfILek6zDU_eT6d2', '폭설이 흩날리다': 'k0bEHPdGfI-1-R0ntkbTZlKoUuZoO8ifc5li7UfFDvFNAC1XLsZafSIqLA', 'stup1d yekai': 'yocO5KipWDx5sERsXSPg1ToeIuTPK5fIo_mySi8cwuxAa4YRdyehAAajaQ', '더핀란드 ': 'HZjCdglfXY_R-w7YhxDZiMnTGOic0ejHFRWIiHDcUCpS1u0', 'wu guan feng tue': 'KvTnCFgk8rzF3u3ReocezFDZiIHHpQ4YBjCWj8chNZ0jJnNFAhFqMW3_gg', '15ffthx': 'kwYoUd4fQyLv3zXUUKalHXcjtO2bvVYanPgSqygDojReuDA', 'aiwujiwu': 'E1zcRoH8mLl1mUycCaBYeTtK6YGB4Bfs_jvl6QCTrQYFjP6G4XhtWhyf2A', 'CrazzyCat11': 'yhtY1SxHzuYxbMKF9mAhjLtU5ADCWOAJwkFciS1US-Pgcdg', 'X  Ice Cola': 'zqL0zOfVN8obVrgyNsa17nZTBfy2gqxdrC_oS6WcoxqoB6aDZ8A-oyB74Q', 'Kora': 'APVdWNCNI_Q1p-n8V93sPhmHAC0mXje0NINUTVHGQsxmjL4', 'Stitchy': '--bCxl1u52Che0WUwbnavfyAmHKvsu9VK_66RHVq6IunQpw', '괴물쥐': 'UDi9Q37zJW6S5kwUv2XTDLT0YHbxKYNWe6aRbh8AZfYLcg', '전승트': 'armO-d3oDJ_SOIz8wj6YuNCHII5xg78UqqITAHy_90EfrlmPiKJWIV5mRQ', 'nwn': 'c0TZlKSYsnSQvSPheEDhfcFXr6mUDbUzFt-cT-4xIb0i90WgqbyBPifwKQ', 'yaoyaoxiaokeai': 'SoKvqe_W8bcFGR0JQHvEWxcOAjmk7TG_DseKYo0_kMLaphtMnjsePi8xfQ', '효성동 김드븐': 'ffXJBGpbbeH5iao6uNtSMO-PqxtJTgP1mcTwF1yzpd98Cg', 'Virtual gamer': 'jhY65SRYxidZEU11I7KfSqivgGvPR9_wnkuE5LhKPcxmnW5z7c4pcWdSzA', '민씅2': '0_rzYTVdimHBjoGzWHv0Lmi1vLkVDu86hhIjkrjFDfpaWbE', 'kojhy': '_CRqWDsUM5XAeldDP-0lWfE7TM5awf7eKg89V0q2LDP08W-6jYJ65YzVog', '토달지마요정글님': '52ZiKFqvRK6Ne2S6mM3XdrOqdzuCY3gaJ9m5_xZbDJrWJT569iYGg90oPQ', '조쟈룡': 'AcSMj1fDkTupPOYFoHVJMTg-z5Up75n7OFxSDvpM1fmvJEk', 'Madiz': 'SbtmPZf0uJ-np5VL8QM7DPaOLQj_BXO58-xJeycn0AKjn0M', '이다중국인난': 'i6CjIvSRM1A2tSkt_ZqiPJFK4c4oUdKQv8pgE7q8nEiREEY', 'cuican de xing ': 'Fu7PTOFO2kLvT7Od8nITg_ppp6WYsoRgnxlepAqFC4fQRmQ', '참새크면피존투': 'lOrSKilxJONDujQyz1N9kd4xI-iGYL5xohSK80ZdlPMKmLM', '내면의나': 'IGDOU6GoyXI3qFhczh4VTGrQFf3zbOwzdkLnMySMPFQTnhbnKElljaFMvQ', '꿀열매먹고보자': 'MIw5ozrFLH2LT7MvHEZ6n5WS_Nd1_aKLjjrYPztBvKoKWm0N2vTiLWs5Ug', 'pinzpinz': '1q6pITddZu7L-RBhNjQ-_O0et-Cqts2CM5d3MkYPFV95WY2Ey1OMBPk3xg', '사랑해요김보람': 'Falov4v44rJsnX00LC7PN73ZcLzU6q7R8NT3DqjgtW-y-A', '민트맛 포카리': '6aRQ2eA8HVIMRZbsouX-ZgrGdbbgkzqmuSz_r9_78W9bug', '믜 진': 'nMGpDzfX3NHCTb2ZdHgBdL4kp7BUGCPU78l7isEEgySdEc1uTQwpAfLDaw', '마이고수는츄츄': 'ERrjOGmm6Y2w9Az6jRghoDW-8cwsBn2pvXu_ZYeIIeZpo1g', '성공의 뒷바라지': 'Hr47zMIK-270DsIaSz0UTz8Xq4Z3pArb7S2buysf74AbL-s', 'Caesar00': 'bSSI7dloUFN4Nubc0tzo4CGy4nWEPZL99es9DzMi8How_1c', '준기보고원딜배움': '0ElEuhaviXhMhsllaqkS2qnpJC1Sy81D5miJMOR_wCWp4b4KMq5EBrd5OQ', 'why you buIly me': 'Lp3zPHfu0OyRiNapQzhSKskOw6_t9kZSTrylyAbeN5C_DME', '그러려니멘탈잡기': 'OIwtunoyKOR95o-8swCWi-fG4iHxBlOpT3lRfVtQHF6bPrCBOb-xzTxgMA', '인정따옴표': 'OjGsHxzfm8_IBImUGQV1NCO-R6Qrr2EvmnZ4N41CU3arj-U', 'yueqianlongma': 'Icy8GCoL4LQUUtooUVI3eo-sYfrWdAUKJHqlOiZHbpiLYJDM6VLW5RUMDQ', '안녕생선 Youtube': 'xeG-C1WyOJp62AMb3m16H-CdDA1VlQLXWC8tUR-DpCJExm0', '물다이아': '-RUOvaj7v-Jg4bHtVdVi_tZ3llqkpR8K9gEzeUxgHWzzyw', 'lMute all gamel': 'jU1kYXmnJVIjG88J_iJeWN1-ippP6gwrnn6M87Kgl7yBIEUuV5n0CU1mwA', '04 Shiner': 'tSUj-0ZXQ0mKvJWxYCrHWbUmFqD6xT-4u4qIWRvnlVjHenT6M1KnT2p0Cw', 'MeviusBlue': 'ZWNypZJzr_hS8eujsFkMreFcRGG-KtU4k2aLW4HayFdPU7A', '재일강림친추곤란': 'aSLC4gb6BKxKoby5HAluhZvvugsHuOPuTn4zZHxLfeRO2w', '에스지워너비': 'r3bqc1LzEFXmlSmt_YS-jIdaFs4rEvL1Cx3a-R5-w31mA4k', 'PPPPPPPPao': 'BqgDlpW18EXD0zeKlVTei5wHKHAd1odpRZlXUn3iJlZ1MOY', 'Toby Dreamditch': '_rTkUWXGXBK7p9iPHio9tM0O7NFBP21fXCeNzNJkMkRhKDM', '싹 싹': 'lmCNh9UjFvZx4VqgcRJ7lASbFpjm3yFN6WjLGf9ELgSi7Hw', '서아멩': '0UFheXtqN8bNty6cZPby9N8zSKrqTnvIBpkOVY11sKuhbSo', 'Ra Eh': 'VSkAwAQVzOsTcT9aCWv8pGoujQ8bvzjoegVagFsTQ5ooL8o', '절연체': 'sqA41Bc9hnNiERaphlIXXyDm_KCRewoT2-yT2aYTlIGlK04xpU2qLukDRA', '끝난 이야기': 'L8u_JJe7WMNEGrkmDfY-OR2LEsgBfpiwM7cLJxOA2YXabD0', 'I크리I': 'aQl2AaX9kOrDADYSH6XlslMcC6CXD9URc0wfWwFkONnYV2D1mFASuKhs2A', '쪼렙이다말로': 'o3LlKE4CjoBS2dXXjAfCZF8V8u_suyy_jOYBternC28GQqNabVF8AT1VCw', 'ohayo minasan': 'UP8CLCd7FDAgtJwEqOw9gAGSwDAN6CZyuk75IklS1xEuBHyIHpdbdGrm9w', '푸쿠이': 'qeiDIoNgi_HLl9x0-Z_YUurwDSV6SghBlh_5-97CpWxHXA', 'LDCB': 'u6nWw4YQJjz7gWVNUPnhNI1jojTbiryW4DExOetNChQnSJLzHtszQptbwA', 'gmoa': 'DJ1ztUYKEC03P_Yn7fCWo61Qod8UUhCQJMkui_emI6Ww980', 'StopBear': '8rKcMghXfM81n9zwg-PDYRuTggEZwc5ayX29Tz6Kg7srjmw', 'babyOwO': '_sLunzOYgK1Q-eL-p1bjbny5w2iR-kEfMdq2giIcYOEgxzc', 'aa36': 'y05NJGshNTKzcIEZ-xuyRh9u6ehXvxD10gFSEKE4bS00Q4OsVK7Vy9z6BA', 'AeH': 'aeKTaJzTwdFLuKz8u7sozeD5WA16SgxZSjbxHEF-qbOVLA', '두리누리': 'u6dITEZ9AsDO10yFh0WVRDAaMYhHYYkIT2OmomlrunRKFRA', '나 른': 'HqM4hVMtQ4FEL_tQ0DRbBZlApjLoNq5KFglLX2Esc18n2A', 'hoppiny': 'tkYRltsi3DtvveIFonAPaKDAiaJ-xLpnSN_Lpv8kpcx-eDRr2Wp1sgMhrw', 'zhenjia': 'yucn2uRmPmFayZMf__9zcpYw5JuIJO7Tb9ZjT8415CxbT74on_I19evjyw', '문재인6974': 'u6haUumi_YG67TMVuq5fXubnHlz9F9CIB8wMBPH7__y3jh4', '효명고등학교': 'Su2MDSbeHjihPE1YVYi5QQM-gLVzQ49P4m8N99L-11saYKGkbEBbNyaGYQ', '수유 Madlife': 'qnPl1DS4EUiCqBtzNdDaG9FHnh8K1F6h38bad_L6rWYPcxE', 'Hello2seo': 'IexPbymzNM_Gmkga7kbKzdVc00iwG4vltprJBzfDa1Jus4w', '의지느님': 'hovv6JePghCNCqN2_B2y6R-ctPwSCjMMv8vOU9v-CEscOw', 'yinheyoujikexun': '64q6yfy7LxL7onN9d-_lKnxzCdd3Gs0-_kZltQRoC2DDqR5Y2JM6c2Rr0Q', '과잉 활동의 날': 'qnvmIT3KskusRTPmypLmiRtOQegJRrQrjFaKH_Rp1FE4tXWXOgFHcvcQwg', 'Lv1 똥글': 'mlSJtEcxl6vgUx3DoOmYgHAMAXhVk7JuWsZf1w6wcKA77g', '어쩔와드': '8e49Rc00lHohd8MJlwEbQ9IQ_-3gUdC8g06_Z2Tsj7qdXY_-4M-h8s6PWA', '얼굴 가슴 다리': 'Zdkjuj4hoqpXcjz4_cqPy_X6h5JHTGkvh-P9SviiUHQBWPA', 'DWG Ghost': 'VINQWq7Y6_1KJwsN-U9nSZE0f7c0ddDOKD3tNnkDTrqpLSY', '승 핵': 'SA9a9Xci2850vM0_uSQtj_4CnPay31RdYqEp-C6y9vdupbk', '선비누나 fan': 'x61bVsPi9nk_AvmO_b4VZnOHwl-CvrBeLUG_FSLAaBKnyByKBIPBDjUYmA', 'Make It Rea1': 'HK_vYHJxZx66E-r0V_lunLiwioI6PjbVikVhmpL2L_RQRK8', '아이유는 내꺼야': '0DtItVtGtkDLNKGzUMdNpVYylrU3O4zTZFn0-awBpS6v8lY', 'BRO Loopy': 'YyyVhcqE3nplkHpbpQdRRY_M8lZA7G0wD7hLqkJU8ZHM-Gs', '미련남은계정': 'LoAvBhyfjcWK4YAo-7myrdxxR-MQcUdryGXUjS0Zf5g7uTs', 'DRX Frozen': 'kqXiKQMAbASx3lBeZ8n17zI7qzkq3MPAciHyvSdfXyWZyA', 'Yodle': 'bJk_E4dtLNuUBzd0cluD5pYkjKAgGCpGo0EPmlCPdB6g8fE', '실키1': 'GNHvPi25t-8njU6JbmZVRw_zUweKYSYFn0fJ5qT4F1hw-A', 'liiiliiiillliil': 'tCxijPx1EMEpoC8dqSQ9nlzNJBl74e3CIjRM5eaxhlZBTFYNzZHqKmfINA', '밥은먹고가야지': '8HB5z7psJ5iXtu1mI-4RpMegWiJ3XZMaj8uT4RmA8mz0VGDwiAYxy7AbVw', 'Epilogue 4 you': '8fzTfaAMHYR7Wdph34lOMXFFeArG0hiubFqqhGrI46PvQ8Avi_F3ZLIZKQ', '속옷이 울면': 'LplG2UE7wGR6DQ-g27KWXWkbVq78wEQnsFWw7oNJeBLiKg', '일상이 이상해요': 'O9LGlgcA5mTZik5W3c6REtbAXjie8eYRn2VXEvd0QogJnpzlAcdP-O2naw', '내 꿈은 준밧드': 'kGPVFLfOZfs07C4iyLgLxTGt3CHKjHsgSYVtpSMi33dQhfw', 'hunzikingzz': 'fMb-EDaIr8nrWp76MghiGtSc2Z_CDsd_2XmlE54-W6m_ZZuSi_yuNVh6sw', 'ASDFQWERH': 'PHKJtQKfu3L9XANIO8oQJcKTIHkDS1_edEbPjSMdMKmPYA', 'love beijixing': 'djpwlVB_9PocM8CLQ4RI7Xlo_FZQhFQMczxF1WeSeFXSNgDA', '260297': '9ls4pWamW2XspCXVucR1E4CO8QqduaTwkDmSo5XAR6G-z3Q', 'T1 Poby': 'J4vTwdmUnPywP-FSbzxHThMdgdikJebZNGmpGPPn0KwH3qeed-zGWgKwbQ', '챌린저 진0': 'Npozzbo8NexBKPgiXZq-euVsvhFSCIAhQNoBbUeu5x2tTz196oglP0Vb5w', 'nidexiyi': 'f3qROgtQe8pnO3xuL3ZKz6Ryyp7PBGCidadpAOrkVUygDNIq32xoP_X7QA', '걀 달': 'mb1H81o1198Qht-hOXKun_D9g0Ul6cN1YCxNvanIAT_QBeg', '릴리아만큼잘재움': 'XVSF9sGOPgH6apEsDL4zRJwYW9_x9yr7CSmzteWBJNE9H9bA3YcEghBLMA', 'qweiouqjwioe': 'ZrDx4kkmjXxlLf6cWOlqE9yFd75XWjVBpTz4SnXwENO5j4I', '사나운아기고양이': 'BosU222OJmsyqgS7ShyJOuEWmYolah12TUJcnKK2Ddyc_wn_T-LKY3QYvA', '조타남': 'UZkBrgmd7zpgnOfnvW0XBjTbIbVOtkOm7uzAj5e1crETtQ', '티원 탑': 'Kp6kmtD2_vbRN0edINiPxDXyzec8x6KRyk6EsFu54EROZ5s', '이땅에서태어난죄': 'jLBZbyRxMzZoWYPEQgGLSR7MEkkLTS7x0A4yuPOXbKJSJcA', '잠을 자는 벌새': 'F3O6JaG8cLvrkER6MJXROzYaaW_Ua0m3CAzeBZd5ucZCNJg', '왕꼬닝': 'ux-u_Kjpm26di7-xwoOIpqlZ1bosRgs7edhYgNGPseHmJg', '애옹이가 어때서': 'RvbiDYLYb6EfGYrejWQErygBSbwDo4z8__14MXpHgQy9bSE', '귀염뽀짝아기도파': 'zA7_OFBc9PLmYvD4W7c_eQjLfK_E5HR0-x98VVseLGUnMec', '0520520520516': 'DxFuAk18g-4ci_ZMVkhtCm4e5SSK2ah1D0HQA5IHsfdt4ZY', 'asdqaqabcc': 'q1R8QTdEELheXvz0k3ZN6vWVpB1nh-TW5vlxVrdROYZxvBHocuvkJK_UWQ', '정영경': 'OmdmacqL3JVlPsxiug-b2iWoUSH5AXAc8kpspi6rVMarIOs', '적대현': 'nz_VKton6y_IOHDG5d6sS-AtiD8S5P8nthI9LwVfnahuxvo', '05  Shy topking': 'TQ1ZDbHWMINBy4RfokA_vXizDNqwkawxovA5TmKHb_z_0E4', 'smiley face OvO': 'LDP8Z6N34kYeWzqayYwU0Ss-Vn5QPc-rInj-WCFBiGRIofet', 'CREE': 'gP5qByVnC-N8tEizQYxXAWMGSuh7nz1hSMWTRF4YXNcKs7A', 'Aljlrpaxljkljxto': '4izII3DEIPLkbx8jmmqDIiLp3tqAIxrQlD2e1tqJLPX7Prt5bLj26xehXA', '국 격': 'u8dsfH9Zj9vvK-_WEcn5-_2xUv-wDY_cXPMvpKu02QxpzM4', '자아를 잃다': 'OTZBz9XJzgs3tXFgApLkzBBHabUTRt0eFAwHm404T0Zc-w4', 'IG SUP': 'xR_8v5X0PKYnEcJIsj7lmXMbDFnsrdHhQzynFWwptfPK4J8', '짱건의적수는없다': 'syXdgzHuh8FN1rv_0G0rre5JL4YCYGnAjRTQhLrNNSOPcf8', 'chi ke tang': '00SpUAOnOfFtIHrpwaEFeNkZOnHgC646ymhMTzeAZrn0CFU', '넌졌다': 'Fp9FPcyHAmEX0CCPRzOhxDcnR0r4Gaco6L6w3lNjbj0VPN4V', '부꾹꽁': 'OBYD1MgcRHrVkDb0I9SQITqfoPAj6TRfyKWIZEE1qlBOYeo', '나연애몽': '4sefByWZWDzRWeSdwdv5FRbfKBJn7aB_n5hHOwh1AtBkhx0x', '최 찰': 'xjGZciQIObOukaLDhVD3HThzfJBBAoCaCYqvZTatPmbW1nT7so4AOjVGRQ', 'sorry sry': 'f2kN3l6D54lyAQGYtqqRQWYCluSxEx_C4pl6Ihu5hSxWODI', '토킁이': 'wI38X9IZLGwe7uLYA67iDEhIONrFvrED0QdQRI4gg7JcnlBxWvmD2qbq2A', 'Rankdangbisaida': 'fJWA9H53Uy5jc_jFkJd0FVQuGRxRcNaUQdvJ4m_Bvaw-Unk', '댄스더나잇어웨이': 'a0GqOTzh55_bhl2jBou3b_HetLE6RP5vTY69fXppvHRWuX4', 'someret': 'ZZhuW2c8RI7iI4gE_N3jcK3uRydU6aTT4ZSVYoKSdyj918JtvoY-osxqeQ', '엄청나대단해': 'i3qXLPRy3mr6X5FFm3x5QByrOU7-SprDXWDSercV6yXMcQ', 'super secret': 'NOmMZzqrSU2bYQJ1VfcHflOIQnFETgterJJm2YsFWrb6MT8', 'Hermoso cielo': 'UNdudp3kiTi89kzugIrd6RvXmhpaSUHSvhV17NE_Bojgoa8', '카와사키 사키': '21jtYpqSv1-6PbhxeNtmF_h1K9yM4F8UOkUrOZP7WX395x8', '로 제': '0Tm__YTQT1YegHNR2nrlAQrPFMK0MTsl2x2FtSdv6lBpQUI', '잘생긴정현이': 'OYRFEStW5h08gazfsda5lRBHHG5-85y_IzeEqDGDrqFTEg', '임진혁 개병쉰': 'JKSckv_jg5RSEzuZpP5RyQOsAcpu8Al4ZwntDweMmcAUqC74crHXivHA3Q', 'ydoow': '6XTcVTQqRYNUF2lbZ2fsMGKNoMxfiMTEfegMXwsiHzuoSLo', 'INININNOchat': 'mDm9h5b_W-NFohVO11lyTAtGehDhAnX7mX9zfqM_TmP23TM', 'edlu': '0KMT0mD_N2U8fHoue1JbZMvCEjOIAyu-SYbLkO2it7KVwag', '나와바 먼저가게': 'p-Mxv_Qumgbacxe4J3UJnZV6JlAGezheeeHjoRVh1YwhV7c', '1904D': '3p3SuDwf7X8SyX2Lt6VCxcmLMb-HPZEnlApUPyhlpV7TqdqjVTpj-AL_Mg', 'HLE ChungSin': 'dQqmsOLatujkbo0z3VwLOPsipsN4t2vGg02gYctQtVe58A', 'The Rek shy': '_6oGidvSA7oQjrJwLywr8-Uz13uBXtgkdvm6Ej9oVt72PA8', '딸기는 죽었다': 'jcV37jskhl_2n_s_DCD1dBsUttkp9DSnxwFLxgD1tVNSMME', 'Deadly': 'I9GX-WKv0T_Eok0eFoq1Yx5iCI-Jg_1vB_KGNpLP0JUf7AI', '억지로 까다': 'Qq7n9E94Le41ApzcNAeyX6_M-paW0PjInPQB3XXrEE6Fml4', 'hai345': '0iXHPMYljpksMaDXyiPkgvnvKBRJdC7EKqFQRNpOp2skT1KhDaNF24l0ug', 'Ai no Supreme': 'Ngp5q4P93l8Tv9sRfwrRzICXyi7QPASZ4PQidguFs00dtWE', '2021 2020': 'TSpjmu0Lehr3VqHv4WwXWg4GZHvxBVNpkQwfbj6NGaSW-Uv0k4VWQ4VY0g', '카이사만해버리기': 'ET5_83fbnY80CQoSUYrB6oQP86RY6YVDbXdNcIF4KgjfcnouTnDt3-qcQw', '외길인생 샤코': 'SR3JPZR-_9cj1kY39tD-oxA0YpZ2shQYwdsw-8rqJEtFlw', 'LSB Croc0': 'KBH7b4TU8DfjxYnqCSNMt11bAdGLtFpjjx74zKhSI2YQZOY', '노쟈기I': '4UNZkZBzoSkXd48M8nu6n2NkDNypY25XOMShfMeudDdCMeEs', 'SUPKINGGOD': '3hAmfVZwp6MdImt4qs1nyfkcSnQmnHHqzzmaNo_QMHTnqg4N-CFvMkxNXQ', '우 쮜': 'wqp5k94tX0XvwzO2e4E7CkbkWG8cznh7u9pdHEsjnQXlndQ', '채꿀꿀 fan': 'o23M_SxBtB9zktfqF0VRt_5yia04E7pb8lCIoeLK1rTAAF0', '2D가최고지': 'iEtFFxxVURlnJaTqG8FvMxS8_tSY-nT7mi7PbZZVWjL0kA', 'ShellieMay': 'HQDeho_p05kf-9BPgWx6BHjmkOTXWkhcnhqBye-eOlID0OF70JvM0qKpEw', '한 번만 안고싶어': 'TWRy-nXMbwjFh2mFZqy2FVh6feqniD5oQHugrKU8QGZ4Pcqzc3xfq5smZA', 'I risk my life': '_-2PO6Z0EDfOON_h6mumE9T5AQ6vSp9T_NV48FgpUt_KMP37Ih5e3DHbfQ', 'woxiangtiaolou': 'jIvn9q1zc-fIKEkRWyHOzmhnadOMfpNnu14BDxn7dinAVrqG8uZoEtwg5Q', 'evil evol': 'IGlX0aU7va6TZQiYQxjlcax_2Wwu_7ZRk0Hvcbnw3kvld-o', 'Sgy': 'v2euOQKr2InYkQvhvTwA3UqlirYWyLN41VYxGAzttEuIqTM', '콩 혁': 'S8GkR6IBgLx9b4wq505TkCMwcep-Bp0NFxF1e96JUg5XieGaqkJBUtRpHA', '싸우면포기한다': 'elELu6F90778jdUykUOiyF3EzYUMDBJOZ_4Ubr9smJ1emQ', '일 열': 'UyuXfT2izrajTAh37mwyt7p1PPcgLM_XVAajoKhEGuPgRgJMWDi8iG2-2Q', '뚝닥뚝딱': 'enBOvqA4PX8VvlJ60cR4UeV-P4O9Q1LwEO-ApAP0jPLjXBo', '하민누나 돌아와': '6VBWNl2Tc0EHvbdJbN1fdr6vhWG8UeDmvinc5YxSnZ6N6kt-P7R4AWNI5w', 'HI IM Chany': 'UAHsQwQKVF0NPzBm5CD79Kxzi6ZdDrHxAR7XRTuxDC6_hnc', '민 카': 'GTGxHK0RPfGzGJ8SFTEUNus9jHu1hX4lX49NBu4hZvcFJKc', '지코매니저빵테': 'N7Lk1_e4CxFqNQ67OlCSJUyoYhPXH4FiJMep1F28hFXghA', '아리티라': 'HWS6g_vC0UrvfOJE-OVB092YkjUkWNHBoq3POY0jIIhbm98', 'Ravenda98': 'CNbfgxKknlw3B84_i6v_zF6cMJvzBvu6FndUOe0cUoL4fg', 'scy19980304': 'W_rDj11oh_QqwR2AjkcZa4ty6lF1_wMuO49nJ0facspdtXyCQ2360K5IjA', '일폼클영': 'mgRBmq-Kifsve5_mRbMgimAjRq483OZD77u7vzJMxR0se_I', 'C9 Summit': 'rxQ6EjcUrBh724JjD_8ZjO_7PziETr4WecXaF2Y9yly0H8I', 'NoJlhye': 'klgRq-6NVYBIW3DHk7mOcVMe3_yJDokzMkWgvAeAJry8R9A', '선 공': 'p2Q5Hf3V7G3Kzwxh5kmIO3MT52LLUfFCRW_sWwmpk8BXzMqdnHd3iLJzYw', 'Anyone Anyway': 'XoFnbQnrrGAt2qfBZ3dv36J171Q0QVIBamFWLerZcL4jXCU', 'WAYBOY': 'HsVu13vnqssGACbGTBpT2jQlOiJ2KaGJJVjnUb9ksEyAfJHBlpmvToAVtg', '동양 탑라이너': 'l1lmzeN0IWLw08548MWuhfn2bwF12n5JaAbFP0wY4mDsWG8', '요정연': '71EJYBYxVAcytqFoM-35jHgaC_sHi9dEyfiRuQOtS8CL5uk', 'Reimu Hakurei': '5ISiMthAziASc-RlB8s8A5rbiPgK_b_IiLk9FyJ_DHAEgTbo', '겜할시간에책읽기': 'YFKFr5QqL082O9_Em9IJclJaiqml6ZbDfD5vMxr3ZROFEXw', '심찬규': 'AZ_a22z-I_F29PBYo5PQhQG_WLAHbN3HdulDR1ykuKwlPXQ', 'plopy': 'VLLpZ-kdXZJ29gp64FhxYzApeJcusSTFU39Dw1U95kVSCtJe', 'Pa9oda': '5bYDocTUCg4F3aVEx3BCwPc9_9WqtTb4QNiQCSPYAEzankmn2QEJrCke4A', '일몰수정': 'a__-_CHeM4OpC7DOuoFTkYRri_72qs8Wbdb1_wefMNAZx3NWBSxv80YOxQ', 'rladbfh': '5ra66BfGmCNAdYwW-Ds-38YWtHaZat4KpaABSSwrP4F2dnY', '15gggggggggg': 'rP7hIgsW6WAIzcmbaGdFzzo6sM2IYDvcHp4syz89uve1bA', '하준상': 'cPo4oKIae9nvptjKKXI2h2_g7KgGQXC8fAK45an3vHBzwu0s_FLVFyp2pw', '전민혁': '2PkHtvIm7uEn6saP25BdCOB4T3VGtATiwCx9uGrjA-EPmAY', 'Tqmweq': '-OYkrBSGKka38ea3SIyny09hHfuFxgveVJXaw8AQ1tuWx8zIe9zu4ErRuw', 'IGC 1': 'TXhXZ5Ies70nUE7USBr07FkViTin7P5RV_aUpGkrlyh2xfA', '전건도': 'TgbJM4OnOzaWIzZLAtZaJ_pvSbK2-dS4_nUBh_tqkywMxYk', 'grey9': 'JywuTrxplviV77VbZ664PSGARhdZje-hFfW3MC7GsX29MA', 'Good Day ph 1': 'yD_WJ35O61m37dN7Ys97Ua80Lu2utQuIaKQRouKDu9Ii1zs', 'Slow For Sure': 'EKRpYtLZd99WnToFU-2_dsXQfIT0Fgr27rYjFZ51P3mf80hRh8D4WDC3sA', '숟인데요': 'M-jf8MSvIPmtRlQlENfR4SMZ4ByWDjx2ghxXNqwc7aXGTV0', 'tianluoguniang': 'GUWsHS633T97QzVhBeEJ_GZn28I7uP3XsEVvuJ0TBoGDokU', '리맴버': 'hsnqnjFjxKxJYb0j7OpKCgx3ZPopuNjcCzBZzoFKAkPYUeE', '팀한테억까당함': 'ZRGSMHaAKmOVwCfQ5N-q270clFkXLHTuYeLdohTI4n-VS20', 'Kenny McCormick': 'A7_JxJagt5Rgbfk-z7jn7iMfWGPHGxEedgJqrs1ltCZrkB_Kx1bQgV1GOQ', '어른이 된다는 게': 'RFHyF1HccYBERnPBk0jb65sHIQqm8PUzDQwzYS6HP35tcJM', '이구역딜량일등': 'Ct2rbZXZ6Enf6lAC1tWFNXZVKQkjhg-DNuhw3Rb82U5kTqY', '알 잉': 'XqfytPky82qE65n0ekmreYS1DOMm8zPYUBvOGTeRtpLcl4I', 'Trulyy': 'A1oQt8uibmz9WPF8RHWi406ZrmTBPK8v407Om9E1gN9q-w', 'Weare Emma': 'kR46ZoOpZ4_29rKCpluzqxwXgi4NVuJ8F565qnyyCeBx6kI', '스 눈': 'OYyUzVHEkwdp_DXUxiEgJy5sB3oiPko5g8J8R-wahiG-0Fc', 'Amatestesso': 'Wso5mPFsh87-cfxKX8ah0Bcd_EZLfAE9CzLjm3t67hk_J-B7kFXaorprFg', 'woxinrugaomu': 'HKBxQutR-sGlNvGHNrFtEyz07-6Z0DjUgCKWKTrHuCJmicVK04BfVtRA2g', '안 헌': 'a6ZMGLDnFX5DG97e2AX8AVqR0gm9Y6R8cnDBzxCkVfBQ3g', 'SE Celebrity': 'JCoeM8QsVTdUmkmZugkQy_kMFLikBWxByMIMDivLxBwlczilkcwG5bjz9A', 'WANG PIAO LIANG': 'uXZibKXq1MJEil8gGSxQFjFOdwuX4-mkUs94xxEKvYkZ9ZNJhbRHywiddg', '다시처음부터할까': 'vsLxj1XD49NPbXtFY2FAFLPy16Fq7U4mAblMmhIwTt0g5SBatQ2QJod6lQ', 'Twitch 정대길': 'wqHQPZRp2Rhxt9t-XtanxJ5rW2gsWjRZUxJxJkCJ0loJgyg', '미스포츈외길인생': 'TOCYcDgXHa1B-T8a-yQsZX9p8KQ3ZcWugNNruQyOznnVY6s', 'DEULDEUL': 'FOdv3NILbxiV-WKk-OAWaPN7U_W5snxRJRWkxe2quZZsWA', 'dance man': 'gZ9BH_AKGh0DhRvDCN4GJKtbIhsVIiLn8aLbH93IW2U9qbE', '바텀기릿': 'weOXkSPfa62clLmRcB_yAwzs86Wpbte6jKX_g3lVkenFUoI', '레넥톤전용5나홀': 'SWhXAVq1jYoy8OXiTWtChkc5aqseLKTSUmsk6uRsuWA_iA', 'E He Ra Di Ya Ah': 'a0g2Wg2uk6UvW2OjOViBPR3ZbHEOSdZuNJdvJiBwP3BQDy8', '죽을란다': 'NQJm2qJtuzps_MIpxG8e9tfahNHuLiwo8cmeuXj_JIbb44M', '카서스상향좀': 'w1lZtdNVZOxF2d_fADnbxr18KmpPGq5ME0g44nCjmFDt6A', '손승현1': 'Fh47PFVmDpMFQR_y6gjhodYJE26M30yiFa75VLLBjCO3EmyG72rOnwK8UQ', '단념인': 'QziikMPDOYsszGOkorlf1JcNfP1PzvsdWZBdVSz-U-LzFZc', '음현수 열혈팬': 'xmasSQft-B1u_8PGGDD1yIB6wljRjuZcXjjMIkrNYu2-RoE', '뮤탈리스크': 'gG-pRVPKtu1Y8vPlmDqYaCcRzVaSvEt2w53_HzU_nau8PczQQZE2ooIQ7g', '05 Irelia': '1YJFpK6hf3IzJnORoEmbbptRTJsDlYmq3hSaPKSjFzx1Aqg', 'Griffith': '5aAun127x5QJTkOqLiZUg39QeWNx_hmLDSj_vVIquPyNtIY', 'JUG23HY': 'PnM7sMgKHQx6t0V8ZxbYVU8iw9TaBbQJuAC03tEB0Jilvm8', '펄기아1': 'ROYUC54UgG9Uho8EzjNzvB6oA99_WJ0eTzS8QACwEuft6VdM', '행복한 다이아': 'JvVU3eYuur2NjM20kkbjXhObxrztv991d87Zt95ETNPQZH4', '굶주린 맹수 종쿠': 'B5hxK6GTqx9tBLGfxOUkk5NqeClKRDn7q9F_7dCTwCEREg', 'aosidf': 'FjsesMKsKg7LweFLUlKIaS80oAl3Ty5ChXBrnfBh6ww_szU', '연애혁명 fan': 'tPVSpkKqJ8cJySohuskqPzfHh8x1B42_S948hGWXfF_1mkg', 'y iceD Bot': '5noy5On47rjSeyeL5DGcYWiwIIY9FdW6GdulbfWd7-w6HcQGAYr1m9pOyQ', '세 옌': 'ZLXG8g5OcethFeuN4_QUYDdonq9-Q4W18T5scMhSQXAWULnR', '조지웅': 'HX6wcD_d7PnHAwBBjJJ7ECk6VXtlZCuzTHM5QxXhB7UZcg', 'DRX 신중현': 'T-t7D0gSuMwsQXtSrnkrIMrl7hqGS5LWU3PBUahe8kBT6qc', 'Sylas King': 'NYPHidDWN5xj-6g9jHWw0gD5P6WqW4uDouLv5-J9fbdsuLs', 'taka10969': 'eaRXxz5GyUJlDmINQdzhfw0fCbcjeoO9R_XyXpsduMuJS6UyWNxACrWoVg', '푹 쉬면서 해요 ': 'AOZTaZq-DcP26tdjQHgBUbv2M05zEtBBuyV0-1oxZsSHo5A', '니노2': 'Sp1vvdIfSGFgEekKLL68_wT3Ibcneh-AFK8jcvk6KW2isQ', '할수있을만큼 ': 'k8S_bX9eNgA3mXWd7l9FShGteqTcFsXumP6ZskvO3HSt0hM', '못이겨서미안해요': 'eCSmJ1OY0GxI-ItTzMEFoVpREYOXmOSb5V0XmTe_4l7U9z0n6WuzAfp9dw', 'Drizzle1': 'BqGXs9Uo13fmztoAjtmn8y3DMm40jtaFnlvZSaUBcmfBRS5AWzbHffkCPA', '나라카일': 'EpNbkS7F0WdZpphWE8xuDnAf0ZUdoasEA9-SUt1n-ig7Zr4', '강혜원 fan': 't2_aMNRyKs2rP68PdW3Sp5WLF7I7v-ExPGQBnGRTpN07Wg', '건영 님': 'R1p7tCThO4yzdJr0i0QogDQv5wLhSvU3c_qpiY3zgJ3mnQ', 'YouTube 오잉맨': 'Kk4yO42nU_KPMIZwGBEoeH6YH5rQJqmehadHsvDMYj63b1M', '서러운게많은바텀': 'PCFYOleCWgJZV4vS0JmR2ia-LTxlqdJFoN6v0_PA_AlNWFU', 'Weare StaiL': 'PG2A-XEBPqfrnkSwtSrYtRTvkLIRE8XrrI_lRM0vP13FgQ', 'peeeeeeeeeeeeee': 'sHB-A_9yDz--zf76TfxZhuA1vx-67kX7H9Rxut4967hV2GE', 'Bili FengMuRan': 'F_SsPiU3X1I67fngSi2e1AJlBClquWBQUAPJSYIMg0mtXaw', '야스오 요네 제드 리신 비에고': 'lsBHnKfcHBhB42vYh6TZimqTYrkFPnoIdWyQD-fgSG1ihEGULhz-3Ghe_g', '길나난': 's93qeK7TOIyka2Osvs2pGvSbSk1teC42FSbRxxMWXnIW2N0', '음냐음냐': 'ph84GfkGZ6BQFOFTlZfw8LjQIztP_BFUy24pjQni8dq0jRs', '무지개빛거북알': 'qEK3vPfoMlHMBxz-UIl8QhwXOMSd_GyglwVW0WF_Lona1g', '바박바박바박': 'Z1Q587A8yuofpxl7tmCgTyKL1GfGt5aAY3l5whgsqwLu5R4', ' tigris altaica': 'p0jSqWkoQZhaHtQD8t2ogY1UcKauKxnxHYap-V41VinqgPY6lu2Ptonhwg', '정맹기': '5rHrEenVRBOwmellEuI8qOGt-lqejcUjX1Gqtu5N0d6YUl8', '작멍이': 'tB1kjmcB2mFrMXQWz5Db-vvf9JbJ4Ocj22bYraiAEgnQWFR4VBFNkMhS9g', 'yi  yikusitian': '1-hKGuhCnRd6VH0xPJLJT7f2vYU5-tCmM4jq_wU89wHTAqRa-5Ue6oH0BQ', 'tybaby': 'hl0wpwOclSfYXnMw6JAw32nhJmRJIBcIDQccaLKL_Ux1wumJqI47hQ4ubw', '수댕삼': 'XsmQBdad61ltLXQPFkli0JkYh42R6vwubqZojQNwc8Qd2rp1x-mgRUMBBg', '하코자키 세리카': 'hq-ymyh2tdwLH8vDJcAOgDR29tiyp68a0qtLW9mBIbVUiY9--aaH_sYXzw', '다 지나가겠지': 'x0lMPCA6vrVT-NhFfUdFCenobE2noJqi_O3utscfWaKZCio', '04pro': 'SULOZbLpW7x0mhOKLqvUpb9VX3hSJ2Uxr72mLIUv-D4R_C9pjCdjwQ_5hQ', 'By myself': 'wDv5S9-3ykCEWhHk_cGrFfkaHwfYnfztwTNdJtzmWtTDk7s', 'weythdjnczxvc': 'x1cX1PptKOcnNGSSugm0vO1UKHhIla3zFUwZhBqUCxGlawub9tehlnTWWw', '안니앙': 'jsKL-BHUB_-u5sYb9ITSwFlUB_ZAL5tYEMFd9uPYhT20Nug', '비알잉': 'FxAA6tzSL7XiQRvo8BrPvYY9vGSKEsLPDrpkOP4lTDxUNo8', '험악한분위기조성': 'EdliVhryAVdyDIwL5k18QII-nlyYpin_kSJcLTlX8g_OwOhF', '분뇨하는맹호': 'ThVbA31JD3rxlKnNc8Xp4rKNrrVRgctXla0ypQIYyd-KfQk', '용 펭': 'BSHXYK8ugfJ2_9uhLFNlZgOY_YPwKzgirkXeaDt-fcCJRo8', '만남이어떻게쉬워': 'IEgn3zPzTrOlSUCRiiyDEvdQvAj0OWiIdNxQwlxJ4HP9hJk', 'Benit': 'fmqSYnhN3zqrlIIO-dywDPe2TgqxyStAsbMu_luCyXAQjWM', 'LunaLina': 'eowJWpEeL2enQknIZ4Ts0ANUTljV3GPSGCRcLZWJJaWuUmQ', 'alcie': '1WvyfctDflZTlYwMOfHfM0IaI4py4F5hNLJmD9E2nGCupns', '시계왕': 'WQ080cEWbemDWXjtxynqkx80gg_6j39hDMG6SIjPUZP5SQ', '수련수련수련수련': '5jvlPuYfJBAtFGnhniFkwD-ouCvAMIEfNz1SQnGt6vSufQ', '으랴하하하하': 'Jo6QWsUzdJHAPHRQmxrEzLU2lrxeC0v9qyPhv8rLDyx8gqMe_SLHGWIb9w', '크리스피롤': 'R4m7H1j_yhwujs2kun6nbI99FfQSrHdNEmzIvFK2KqCGYQ', '군대가기시러': 'pdLT3zcc-6f6M4fIikUTMr_M1DW6eOJwxTm-Iqk5b-PwTB0', 'viper3': 'L8D8Yz7xMi8IdKewgXrNyF-0ZrZarF6hZrzoo22ZDvvn7Tw', 'clean2': 'EdOvqtMcPhVz4Jm-rqC7XmqfY8QhCQkU49M8UYsPmjvTniyIaEpB6vHVxw', '왕자가 해줘': 'x2bvr0Kz57XxMOWvRMld3gU54d_q0i_4truxnCRfQUApY0k', '밥상에는 숟가락 ': 'Qx3MuosJbzdM6OY4Sz5r3LQcAkvPnfy0tDuXg_vLShRKZwvQVvnEhHn_FQ', '다희깜찌기': 'e_MSH-u29S7FrcCGh8q744bGLsN6T6J3IDwH2YS0krZMvBc', 'One Last K1ss': 'BXfVPi_zr0NF0d28M0rc2uUo9dI20fpdpbYPPBnkhY5hmZw', '        손 희 찬': 'yXrtWeIUKqnvppMl8Tysm0k556uW_-GIJOqqsnHPQmOv4cc', '돈많으면세계정복': 'tO8ORKx7TaCjo6fHQ887VcLNyQFkPR7_i5xHCDjzIFAxAhflJYS_yrzsDw', 'JAX CHALLENGERS': 'feJFba8JzQUmr985Z6qLH2CEg3ccD-9FE5oRzD_WpfVWz0o', '호떡해호떡해': 'S5f_nivMWY9Lk3TVO3IyhqdVBmwRPAshWkpIP8Fu_aNq3uI', 'wo hen lan': 'i1R3yRhfPIsBeIiUQvV9M8XIRdE0obG_CxtNpRXVscSyqPc', '팀운탈모걸리겠다': 'J2vnYH4p0mPvltL2oFKwvfTCx9WJvYkyXq1T9End2TR_aWg', '백정은 툴툴': 'EDAqyVAjIdLUdORcQ8EJz4BWMVGjY8qXCwkJ40IFOMGGmqOaXwAxN5BZKQ', 'nan zhi bei mu': '98PuTVZ61DJU-6I-Z5Dsng_wpvbXwOhElj5Y2p6RW4a5b_4', '페이커 팬티먹방': '4JsMUgH0RGQie0dGWlwHzcXGM8kT-LzZbUVwjLX0sk2WIxs', '여혐 우빈': '1rIVZriV3Ud7btawsXJ3tuJNl_GjFxr-RFfG5Fm7CSSFNR4', 'comeoncomez': 'N_EvBa6UKX6YWXereUGDW6QuGLg4gz1I20iD3YWBCY2BZuE', 'ggttlclto053': 'M18Jli4sAimqcEsrHkodbJVF3YW77DUEZGKi27BbhJaxCAA', 'time in a hurry': 'i2W19SmLNL2qnVEeZDTa49lkqank5rWo-lb13R80PvLyu8lr4-oL_1GhZA', '루시안 밴함': 'j_0kmCQ23tF00dGB1RE0kOmWWNn56m6So6t8fkcp9562hXQ', '노틸쟁이': '6SW4Pan9Rf18X7z-QZtvyFaS0z4Fd52tN6CYZS4t7CsGg9s', '호랑이팀': '7FvT5B_Xwq7GIK9O2ao0xFdaY55gPupI8blgMTSAQOEstCA', '러셀베스트브룩': 'D4Vz9crpFyFyg8URwScZHxoNXwqW1oM2P-tnO2sSiN1Ryus', 'crystal123': '7Hj_9hT03n74fOmspWawCUpNWgKGa9unHNH4MputAYK8oXQ_xp634RElfg', '어떠케먹어줄까': '_obIpqUMFt7ca5oFs5xItlS0GfRNBwsCSnDV8ZRJNGSt0NM', 'cqwesadzxcv': 'Op7szOQT-5ZPIwhmQspHWhjRY40N-DVBtLjBZDpmTq5Dg-m_vA-AT5_Pdg', '가락 죽이기': 'EIyURgiGFZSbCK_hJqNSIosyoffFLWWD3AS0dePeEbRjrw', 'I want youtostay': 'H65KrrFAgs_N32Vt1KCEaGPfqRm4jsdV511iQCrf65rBYlc', '원딜 그루밍': '8BPRHqBYt_4Wmim7uNTuYoaiYUVt4HzFvu1kVlp-Ka0J1g', '푸 잰': '6l-3ll2KUCGPQBwxS5eFAjCvbSq_YbXEG6Qgl3-geZpRrgE', '아인슈페너샷추가': 'Gg7YUkE_ntUDBNZxH5_YumkushK2kvHPlfDNlDe-aEip29Y', 'qweofinasdi': 'noncyE4LVakLfIiZnVYMWRbF4IVu06qrVCZ49Ugqxnf-e5woywPsnl96eg', 'sgpzsp': 'ThxEVXjuGHYZOa6yKCECs8IASr0OR_D1d1L506i1Wu4x14Ya_axI96Kb0Q', '죠 니': 'pHQc66JmSCehtTdMoPtzkHjCba_O-X3Vvw1UgbTcUSidCX8', 'DoDohyunhyun': 'zaioZPnU9QOiZEToLqjdRQdmHADOUpr24ABY28NSFaiiREk', '뭐야왜저랩': 'FQNnOeQkHqXtLIa5d-9M5rKDMePUzwLSxlfkVmoyPrKxBco', 'Twitch ggbb528': 'lyIU0vVlU34AXhub-a64wn6ExFqAe9LHZJ_195E2XkU1VjkbYSOJIop37g', '07 akali': 'BQ2kfokhBbvoCZZKn7cvS0aFYjvVlfTCFyBqEV8uurgvBkH3mGjBerrliQ', '그 설레임': 'pddOQWgdbiWwfvTDxa-mFtGaKfnnExx5fc1RC_Mf2SU0lGM', '프렌치오': 'FyVGasnikXfYu3tuSjKHWfKwB2lTAHlPr__uk0MfCBDtqQ', '이 별도 웃으면서': 'IBCMYoOgSmp0HqtX2lejWhBCrftMWn4lY4Vn7-bw_G22G_Q', 'Unji Magic': '7cYFKPlAtn5ZbeFm3mq0UeKGRTvtivSjiFV2qHTVAVjirTps5X6WyTts4A', '조용하겠습니다': 'S74SSn5HzKciy7Ew_WIOUS2DuKzprENKyGYY_9BwCMHBPFNbZCvFbs8KiQ', 'cchhssaayy': 'C4gYRS7za4emuS5bbgpBKO4xx8Uns1qIb-UXCZROoV6X3kc', 'nob': 'orkBU00WYTDR-cGYVb5xLi_uIhLXBbC9Y10fh0-qM5P2IA', 'Astrocetus': 'UBEWpajLbcK7OF7x8JgmW3z7r02CtqYhE9szAUfgPB1rXOouNsyLB4PVVA', 'cong qian man': 'F6h2m80sjdNu98UN8vx_dOhFdNBqE7SUo_0HT45cpmLE8xXOslPOvgy3Ng', '아자아자화이팅9': 'Xc9ZGiiyooOFD8ccEokBorVA40Isvg--YNcj_Ok4NC-O6mutJjKC9WZavg', '도파보고배움': 'ALA9n3IfPJvtor-kq-LFvodAWHyPpKuojliEla0WkGgnZso', '봄을 고하다1': 'UaKUQCzpeIMjXNhEAbT6E366u7J9JV2ZBGzvDWsvJuM916E', '즐겜계정09': 'Zoo1UrH1hiC8u-1-XzN1hAwT34r3XYU73BwcytSHMKQwmEwSXus7LbMwQA', '갱생퓨리1': 'TYKcmmWosqMqH-oDa5z4aUQk-Kvh_ON1Gl9dtGUt4J2Zcw', '뷰 티': 'flzXEzpreAF0-9YJH6KHOnAaxuPF5QtGOSNqk0G69NVPb4E', 'JUGGOD 11': '8gc3uMO4tOc8EioWt7QqXx3uKlzJGv0URARRrHAifuDdN5IfIAMHFdEH_A', 'LuciferL': 'bnEJzxPNZG7x91HFlWQ2_H8py-IqvSJoQ8QUqN37sI5xue0', '서 쿤': 'oaF-VBpct9yFg5vB-ihvwAq_U2x1AKqRF100ocxD6jIKmBk', '바지안엔 느낌표': 'YYLUCLjVAr3YW8zsA9XiLU754JAILlXXrVqhtztMa0LiWxK06lOxgwFFHA', 'New스폰지밥': 'RFYplA2gd-jyS9qn1zDk36X7OpqX-wXrJccAbtoMcdSmON8', '소중한 것의 순서': '-ndha2PCEAeWtHxI8VA6fexcbDIK0_fGjPsdnzmyrVg_GQ', '칼 퇴 근': 'tSuVaWZvw42dIpHnvkDe_ycLhxjNrEh7kHdhsvAr-caz38w', '한채리': 'cmXyVpr3KmtcCMcCfqdC9G3ridyuG2yfcR4aXDgpdqVABtKhqrRI4A_T0g', '다리쓰레기챔피언': 'UNLlHmPhWbMxDfnRc0kw-_HgIAjrEZgBxLslRKRdD2mbee0', 'oesni': 'GNSSTGocHUFgCBIa4RAON87VyOFv3JtZlK3CkQMyllAWkYc', 'Qcell': '7lk6EOowljnBYqOwGJ8yNAIkFnVvyjegHAZXDE4gZ3GvYw', 'B1gFour': 'GKGFB7U58_YcvFfgvpslS5mi-jUSqf9PvzeSt-kHuwtbEQ', 'Andil': 'pnhrrjjZk3QjFY2Qzm6MQ8vUI7OZszMvsckGhR-KJga2hQg7XFCFzLsUEw', '지환코기': 'wp9970JhaQbXD9O2--5tMMZVan_ULQImPgAnQu6ktTEGqA', 'Huya zhongdan': 'WwBt9T4kS7xUpHGVuiX3rbet3VfCohwqq6EOcvMl4zYRmBOA', 'Vuiton': 'ezYgWpyqzfEViW2LmHBX_FOSNQp4uAaPWgWFzFpSqbZzsE8', '잡았다': 'GntWp9k6r6gDIF1jaJDKzKDlFBbqmHlNgZnLlTBSPVN9aAY', '백죵원': 'hAfTSyrAPc8zwHJSqXW3ShcWbjxjdUUGFQ5R-UM2VSxaRj0', '1킬만주세요 ': 'juC4LDCH4fbt0is5CsSmc0UP06Q3O5DFjFpbo85ROWLzr-4', 'Jinjii Kikko': 'syrOYYfdHnaE9V1RcML9BDMeO0FH8ptA81ExfhgNxvGATPdz', '제발핑찍으면합류': '-4TERWPgfcCJwiXM5_agANPwDk47ywKrCeRuzI0fJv9U8A', 'dravvv': 'eSJI4XGRIXyS7c7B_nUasub9zi734YVXxC3lUU1gEZZIkDc', '의문의싱드장인': 'v3LtprA7y9RkuuLel4F3k6Iu18fcvpz0qxcjtuBp0AmPAO-_u7e7FAJi6w', 'G0LDGUNS': 'J0BuONgt9jP0JLGsN1vhOj_zmYs9NX1gYXMd-KoFlfHjXaQt', '범인내려온다': 'MjypwHAVINVKDYOK5-eRBwdB6N2OcdRCs8hLP0HTDiO2MQ', '끄으러쉬': 'YKx7Ky-Mn07Y0BW8dpMceeBZO_nnNY3lWkmm698nm8aXt1o', '애새늙이': 'E0N7itFq_RFhVqueIuHE2mJJdmhikUcUZY8PCyCNBQaPau0', '한쿡은행': 'OCktZ5C3WDrb8LaFSnUZpfObzJhIOMl9VW-XbcNWiX_EbQ', '가르시아 효과': 'y1fvCTD17NvqWs74Uk744SqQmtJWM1RucQDyRcmm1LuPiZA', '커피마싯어': 'zI9i-BNo2lAamdNwsZzeHfZvSghvdxxC-STb94FgwKY8Pg', 'AP Magition': 'fHYicFg26m-A-ODuVeqacSMGKjKRuMxdaiAq3UUlKQoup-g', '구도파악하기': 'V4EhZ6mbm3hzFY9tDt6YT5AgLaSaOPsOOkMMbHrVRjdyCHPHJqs3hoHFeg', 'bai tou xie lau': 'YNwUANADPFR1rUsSr67BSsXm0ViiXeF2KwgL7Y-Q1aZ9rw', '나를 사랑한다면': 'BhRFw1hPJ3bMo_48VU3l4aA611GmZKpKYWAvk1zNWLW2-bz1', '초보원딜러': 'nUXGGY-i0vt7zDMfKwqbTalTQQYGbY56BQhl5z245O7igerldr428qRVYQ', '앙만땡': '-6cQ1skQAT9v6s2dKXBxh4BfAZVmpLMlflDgtQVlueOKntSFOYtqfOpztw', '젠지 제스트': 'dMzRyUHAWJNr3SiEvYoOP3zwymo3cMXsoL1pIPstBXebvPDE', 'XiA young': 'f7tQSSvXHuIxMxqfhN67qVv0blM5GxgpBTXOzPQJZPWfe2gqRH7VA3cUEg', '불멸의무빙': 'p78IU8ar5b-XfxSrWJABH4wcjQrdmuTihs4-_v_Sb2mS6cM', 'XhowJ16': '4Ayu7m7WYQmoGC-EEfy5eDjrfpwpXo2KnkCUMNDM0Xm2JciTFFHyxN_TSA', '전 궁': '2r0cjNacZQkDNofOnoGfstGjfWhug4rxXDOA4Luf4Oye1Q', '사회적고립두기': 'fKfxEOlbS2h_fcD3_-44hfGZU-H7lWmWG7faO1RoyVKkIgs', '흐에에에엥': '32B1laPwbuOwmq3tF-GEcVXHGyYJZQE0a6Q0inhpd1QE2GM', '새드앤딩': '_2sqCSsGMeNTdm8OMAAg1PvdAhrH97GkWJaSjSkecQ2lMrPrZRi0VYmIPw', 'hunnlt': 'AVrEgcyeKBUbdr4Xr4w8I31cNfcx9eY828u3BZaTLDS65ZA', 'flamingod': 'jUWe0pP11tjEx7Xstl2FGGM0aeXAWwo2_qjD8GtlAye-2WM', 'diezzang': 'BLS0H7HoAyhA-j_Txq02yHZ1sly6-96CiWaqSDpCJLIlYw', 'mayuanshiren': 'jEoZDfr6e1315IBV7fppaqUJy21Ki3L0cvYe6ZQufr5j9LWiwV_PCHxqnA', '기도하는 현우': 'BsQBb7pWH8CV4U-ouDjBdVdpW8tJgjUcu89nWUfn4Bi-UEc', '나는 코르키': 'Nmgt500hsMqUP_ebZLQT9_7mXp9H5dpnKQtM0HGVWdHDpgQPBAvmHbnD7Q', '우람늘': 'ewE3lNKH_kliwDCdMmLvgZcsM4BEKoG9t2iJlPUAOCzz-w', 'TOPKING': 'zwk1KKthxHCHazNgVws2gW_ZVGzyypnwBX1PA6HUjxJBemw', 'wwwy': 'xYgpUFMp-57Y9M-egGCNEpiYbzxSpkSB5IbEi2mRDa2U0RiGdHCm3wg0Jg', 'BRO Morgan': 'SoYKSMmkzVQgzops-I4tyA0M-E4xTVhO7NKpcc1YBSbkkfM', 'Lacia5': 'mGDMBRsAz6r1tP9hLDS4hv6j9vW7ys7WMyW3NEl9exOpVGMGE4dgNCgRNQ', '광구광구용광구': 'qxuUezECUK_6dCwonNc229cVmTbOovsgZCsln1qIqQnwN3UW', 'HLE Road': 'JQ0glcLrlSN5aw0IqLGXmJiuTOXKlAOXyv4t7fgk3ZqJfA', '조광희1': 'go9KWOBu61iRK0UlwDH2HVT0MTcdNA6NWvBOutPWmVLicrM', 'Spongebbob': 'ZaxNGE9I06FLNWtBt57DBXumrTN63mn6NKsi4sTr3H9yud6vwa60NzwbdQ', '쓸데없는채팅혐오': 'dqNYpyjhtfwSSIZIDDo3DRYeu61sm4_EYcPu3Tg7BCtuJPY', '김 교': 'iD7g4K2ob7hV53hHPwzT7z6eBYEpQN6hLuyVcJhZFCg-SvY', 'Sunris2': 'CWto185P_Tc1AnhSsz9YGSQ9Gk5bBwMDM_RXd8hqTXLODtvOh2HC4YDWRw', 'EuNJik': '3KHUYH72CAjZTkz6ntd1vLSuLCtOgFF77KjxHgTSs0Kj6Ok', 'bai lan wang zi': 'FwM-HB_lEc9lEhjYNnwC3kY6tP9KQRic7d1eHpQ5tFj2KedK1rQ0P0Xftw', '야 이걸 내가': 'sSpGb92mkUEdi4KBwgfjlKzgrNjk4NjmtyPWXNtGmw36sg', '응보석2개만낄거': 'YBETB_6YfOGmRVrOtkkMeu_Du7P6KgC6k72jADOLfVq0oQ', 'CosJ': 'rP-LmYEORNFREIRTkycQb-aLBNU8xzLvxpPWeCiy8abUUBI', '쉔 하': 'w_yeliVSf0QcUwIg1kHdHch7QuMFeRHKJxxXgKdaTqc55-INzhA-3AsaVg', 'tian han yi': 'F8DeIUIfp-ynTbniIM7nVqce_2xhdKCA1tt0VCnf1WKCWiqq0r0WXxFI_w', '불이과 ': 'nK6ksfRQR_JD_PF6RmxjrHGyBnOB9bQ9VVE3kZ2thabFNI4hnatAHhbp7w', '세계최고딸기케잌': 'qsiZpAoOG_vgzFtNMCM-WwW1FwGZepH4sfy7TZHDKyMLOmU', 'Gen G VVinner': '_VOzfv18bAhPQ7A6EsFrSCnEqpt609UI8WJpk2fx0u0bMllG', 'gnaixnay': 'bNFIJthZNRW2viSurAF9q2llbVLd0y4iQles-R-sf9KXK-w', 'nyzmyn': 'im-VVHDUGvFAcDUYqW8ICYPYY0Zyr5YziU5DtHvGxMh4aF2jBj1AauNYhA', '젖꼭질흔드록바': 'OXpNxsnmxwZu9uCUxmjRG9MU6T8yj6ZP8r3xubjXtbWTs9s', 'Pyke 신': '8xhVFpIXP3VVPQR80vHVPH0wUT5uGNX_21GxZhDZ7TZR4jfBRWPcmxcLhQ', '재밌드아': 'n_cGU2rCWlmHRUWOonSPrX9Vtps1O6H5xzEmQ1h_YiYX_g', '이름 없는 소졸': 'Put1TUIt4zviwehPHC9dh4Wezq7yBkJdLOiQzaglwe1Hd6t7zL7825JPWQ', '시브밍': 'DhWl7pb9mncMen5ehY5KvoMy7l1x-Z16w57e7OT9cKpOcXk', '딸봉쟝': 'wdAQtbw2LKjOwZQHgRFt0LFPWz2BVzaxhIQsAw3aMse-Vls', '개기월식': '9yv0qqxHyqgXwZCkYi2NzOBp8etWn5Yejb_o3D6pTrzUDA', '초보 탈출기': 'csqzsAhM44FVMzoPrw83HoFnxQzYq2Y7j0JNCsb3j9orWDw', '목숨이두개인사람': 'PCwSqCtJM5r3PTnKaxPmnucSosmN36CnZSYK_wph-ejA2h0', '던질게 혜지야': 'j9ybVQqZ_lRuGNIV-UvEoMt91RrZg8omG0G97k-7DE0TpZc', 'Armis': '_eE4mmUIYd8yyT6N0oNRsvJBJQflgOtTdec0PXvyAE5Kovk', 'Take Me With You': '2MI0qQyq3NwR_wMwXi_SfuMcQNk8VsHp9IT0uqiEDgN4c4g', '누나땜에미치겠다': 'aZZUPcBOw_jP08xZmfiCa8ERlgbXplclf8gkhr4Xwgn1e9c', 'Statistics': 'NXVqMJWx7u99Icd4voeygXnopRmriPmigAdc9XTJYFX6nlU', 'KT R JGL': 'Fel9Pxy_sgcn-1LbKjF9_8-LtVCMxH1b3COn2oEt7UF_N_owYbFPNaOjAA', 'inSec': 'XyUNJ7B6Sr25C2Arxo_WH_17VW3A3mEtYPb34RHf4VwAuA', 'T1 A Shine': 'AvmyWLSHHp6yiCOEiqu-KPyRhUXZi8RdVOX2jdY_wJYk7_w', '서유은': '6zzqEqoJQu_e4LWqEMvy6gMQ7Ntvb-1BZPcVbG8qjbsjTrKn', '나는주익': 'ZinABUAul_-wJFA66vBNkUYJZ_YccoHzvRVg05fqYLJQl9A', '북쪽 끝까지': 'NbqziNFAi7gli8rp_d84Szq0GeYbIeE-8Jaaf1POIdBFtHM', '리하우': 'hNx-fkI3yhlzHiydUvfYbXGJa0sIzkyqnREow4sNP7w1Oec', 'feviknight': 'yP9UUsHJHYsB1RGkqHJYEd5Bnzv7R6c81EeB8rgXuyWuP44', '김현당긴': 'Av9O_Znv4hcFY7478PB9zRaHLPvZGexicMUXJbxdgW0YtNs', '기래긔래': 'akft-XRF7Gg5WRH_aBZ_S5LBWILyF7uRsr3Rn2swluBwbxU', '기세가 대단하다': 'cFEX5F8QOZOhsxTrfAtA0CpfFUgq-adK13dSWc3e-Iy-rNyjGzEwK2os1Q', '랄뚜기': 'JRUlSaC-Ys3IzZlSiZDbgYI6uQVotK6qh2BwcetpUj-pC4Q', 'Far from enough': '4mSWHKIyjB3-WeZ_P0aLYfykBBniXuuyyImUAjs0Qt8qBgLAhTHq8PwJ6A', '므찌다 울 언니': 'cMnpzU2JNbjoO5fxZtI0vd5bDAldUIDAAWuqpLO_Rrmb_yE', 'zxcasdqwert': 'eWGtpWDnx62zZCBtYFGoW21qtQDvyTyaMibiluOb4ihqgBd9AFWbeHXnRQ', 'Luolita': 'tQxl6_v_tVWbpvE0IzFXo-52_9TRwswoRg-ZQ9SjcJhKlK-SzDWjG5VpBw', '나는야징기스칸': 'b0vA9QdrF9RY4NU7WmVsOajlAzR5l82zpSzSWGk-MKo6lA', '문열고도망가기': 'vQEOgeuQFP_bwLC6onjh_BvSkK3oUMi18AIGH9yGLzUJGzQ', 'young talent': 'FvERJlwM2WPxE441dOJsUp0l_9q-cndvS1cWH4L0HhAsJSBbDnkqsOlytw', '사미라의 신': 'jYoAQMMQw7cgQvVtCiMVi3VWxbibrtQT2fZHATsZBAoH_w', 'danny1018': 'eBTi8BFSPDeBGQ_0CKhQRK8hJYuMJBnHsQBUzqw_cj_O5Wp4', 'ooeooeoo': '5HOG7XWNpJ5qMtujO9iDUT6_UPsRrDrpSEEgdM9eSXEJfQ', 'TwitchTV Migung': 'rebBTPOkbp7b0O03zANp9Hv5okH5khWgpfsT0oRa8B5DlJxu2aXfG0Ng1A', '그라가스할래요': 'sfbbENPKxuA0I1hErKJVSpVRCxjHNJGmI0bq-4CsJWN9gDU', '어느것을고를까': 'orH_Eemr_OiefrBTTvjn8bO_YbElddWGPsdkygjwKE95fAs', '선기박': 'L4FLY0QdBj1YsZEW2Kf4xLI-JlePjcYNK8_xmdCZMjToLpU', 'Tiancaishaonian': 'EnwOY2fi0AuYgZAF2vhEW0DL5aoHjpHtYgcznoMzst1rskQ', '어느 서늘한 봄날': 'Eh_iZzpNxG0P7cwk_0pNaczpPXq61g_Twnt5TiB9OVHubg', '유찌말': 'XPGOU4wmjxiX1tScWxu8L60KMeZVJI1xlzxMTs0phySKYII', '레무링': 'DSjPnRCa5v1EkgUUctpDd_s-r2jeydzeEzOIswlSSOm6qvA', '암살자X': 'VQ41f8g0AVJttLz5ABZQ6XQouX80ub8mAn-WiJ1JF0-kAQ', '빙복치': 'BkmOsVR_g5OIPCHZwVm_4tL9xQrUuFzADX5CZpF3PYaFLCE', 'qwewqeqweweqw': 'gnC6170yPnRyiYbSNe_wRhW1WT-Vw31oamAZSJHAU_3if0_iCxacdAR_Tw', '혼자 돌림': 'L_mQsAil_VGMBPA-kjznQuQhg-hIcj62sTyQzaPlapOAsqXnOjfBvuwb4A', '블리츠크랭크': 'ZmaIgr5fuEeb-_c2KpybRumXZbG6Pq2hiVu7QhnRGtoywA', '라면거지': 'Mpfz1DJQqonPDYEbTP7mydD-OQMBGcQRcjMSsbTQZhuaXhY', '순천시계': 'kjSLcX57OTIGix3aYiUEqNkC020hvaeWrxE9ve2us6eHc70', 'KurumiMajiTenshi': 'HfKf8R-vnrl6SBKbCCbIFVnZFC7dxUP1UniHfCUmRg9Zya8', '1렙 위성딜 17': '-UU83oiWnbecxwaJCXTo_PI5WNcVR1bfYf4s6SuLUxxoZ1g', '이건맛도리야': 'i2avEuoQyzbH3PGfFsa1mIp0-t-SFzKXJfjUu3nGNEwLu8U', '바본준': '7n27UE9WbJSOEoDeHEoEWdgSPZIflw52wFkrKI1pnxmDYeQ', 'OHwiN': 'I6obInI3Xp0f7oKEvMNby8rGTlaml5mcXdmMK2UFPFKE7z8', '무결점 탑솔러': 'Ef9LzPTAYOQNvSBW-dAYceJhSX53us06LOF-YmY8dUOUTQ', '건이냥': 'LDBWkHdaciv60grvfsGkizb98c8I8Ab3g3swwaFaySbiJtU', 'Mage Supporter ': 'w1K9JBRIy39BiKXnWahYjG-j2u4UG4iKAZagc9_UnQGbqxM', 'jyjybwcxcszw': 'bZBHtXoPqvBvfVQnqi7leVUg_svA0_00MtxZ_dRrbpS1mbhdEQUWVvJqNA', '서울김치qaq': 'f1ClZ4DeCrjClFf-6kLIQHDrOqVVasxTrcChdNGysifoQcfI84SkNcIWIw', 'Kabishou': 'FD6YOYmabNyUdYVImhyRZfCyxL6GMbhBF-GZMAtSgNn2I6RdHaVkNqdbPA', '또 제가 못했네요': 'kzVjxgmV9YS9yNDkUs4kkqZ478mlmiCWfMcKEGtyuEKbYw', 'EIderwood': 'qZXhk2GMwRpK4XipMCePRGx7qgH8jV2hsiTJTCRNVnMgoDA', '버티기 왕': 'oKxtqPzgy50arw46ZpjlvQeuRlYT2ens041l2kMnEN30vjSmeVj_l69UOQ', '극복하는자세': 'kiiBQ45JSMIjBizrfxlG6R8G5m6NxfaJbqD4Kmsps-XmCQ', '광팔햄': 'KX1feLS4ajcts8NXp22sB3n4YJw273bXKoeMaz2zPjyVSA', 'PaKa fan1': '4dVWsjh4EiGjMnrfnEY8hytmvYNclMIcRrk0DJypaArD--0', '착한빙닭이될게요': 'lNsPK6VBlZeKAUWw4Wki9pvo8wwOF3vJ2Wdurmm5ydOrfq-Y', 'dreaming future': 'niR2a4p3RpGvo5s5mLQ8gJ7gzi5wa0Os73Mvs2pfx3gcdcXra0DckLJdcQ', '이거똥챔아뉜데': 'zvRRGZ1zn1-KMSe25AcDyxeAiS_ilEZyS7m_GIPfnFxbb_w', '20040728': 'JgyPtNri4OB0yk0ZUyGcEVjKFS_zN4YJOhPD8HnXiW0A7RI', '나 이쁘잔아': '2V3joK42Blb70bmWQDwQgtIgXpp3-nw-l22jAP7AOnAUdis', '진 아펠 징크스': 'HRkEAtq6HdOYT9G5BJaI65537r8gaCtQedtm3_Lmaofg0g', 'L1ps': 'lkUTNWbeDwtaNHT3_R87pp6SCQ9ZH4TuiVRvGhqchcyDnE8', 'podongpodong': 'VdXLrAx_vmMSnrohJYE0wSs51Kx9xJKnRUPRa26yAgxxYG8', 'MID우기': 'rN9O3nUE3BBpahigAyQkjOdfSF12XgT8tEB5sWU2lWrGBB6s', '나선생': '1jzGCVu1a6iJnKfWUgEU8wFhgbSasiqEDZ4vK_5PA3IFzuo', 'Zapfino': '72JH0cEi5DjiAkNs5JJnzm-pzoyy84eJszKje3OU943QfT_pr4f6Y9P3Kw', '앙골드': 'zC9GdrxlSBcm6I83tiKII1u2LfKZw4fNIc4vVMNpid5y-3H90FlbFNioPA', '퐁퐁남진정환': '-Wmv2XaBjZE1Qt_AkyohgyF8ffK1dW0q5CZXVvm9I1u0Lg', 'xyhz': 'rDuwiwd_wC60e3hh_ggRAfIJTZasm_k4uGzxTDyJT1X-pJB3AJQxkS0PXQ', '두근두근쇼타임': 'vEOCO0wmywWE89zoH_p963WlwpvMt4hn1HjMkkOe9yTefg', '한순간의플레이': 'XYx2rANUdGmFCu9woa-gncoXYZsncvEL0_vQS77qMHhSBwrSvL_98p7gOQ', 'Stars9': '0e8aci3_5PEsItTMzcejUxZtR-oN25QZSlo1Nsq2aperf4M', 'Sg4n': 'x4ZKB3z3S2tLps87O7oCZpmCT98x9Iz2-d_ml7UncZGJDV4', '갱생했다람쥐': 'stvX2kjDite1NIIWCxRXranj8peZsgWcjK4b3xoAMQEa5jA', 'TaIking': '8OT6A1tDLZDa_owkBlmFhRLTxg9L8jnbjSx9ZLbQwUcpMns', '머쓱환에요': 'kdHhY2ar6u5JDFzWOR6mjUMcflwgW4lakt8IJ4Ic4FQdCDc', '이성죠': 'yQ8kljiIlzKCS_zGGd0CoOZ2KTKmuEgSVsLw777a8gaC_XY', '우디이': 'c9HLfHifb_d2zaVaQje299MeTn0c2mkDElrdkMzDQnGSmhw', '아이번맨': 'dzvGdm5v_CqtLlq9sm6JDC5YtM-5I1dg2gw4T5t7LvvbGw', '나를 데려가줘요': '4jUbGZSzPLb-T7TTKnZ215AtFyshj1CthzsGzhant-tzYb0Ovzk3LC70mA', 'Youtube heeseong': 'AvBJxEu_9mKu3I3UwHO_xc1V0Ry_1jEJ5qsinB35wzB4ecY', 'OSG': 'ZLZdNoXqCR8zfy2ZbkTQp7vOfpgnNz6QYwWnRWUPRLJchKk', '화련이': 'Ttlz_0VVguTj1MBMybwpuFSjFFTsfVUpyoEV8iMCHeaFIw', '딸기 말랑이': 'SqGHnV7PKd3L1AG4BVbCqYkkI-VRDgja9sjgXHBBfDCxxMFUjI0kNAM24g', '습격의파프니르': 'BaBsjJjPc0Wq07vESs6AmLjTthrJSX_dXDBiafrEsDoubQ', '올라인으로챌린져': 'mMmwHPsKazKtbtjE3_gCe5i0fXVUn9ERiQAkQEKL-GhL5Q', '670670': 'b6maD_x2QaoO4bBaLMucBJfukQjCJLfhUkjx3CHpGKJzV0Kfg5FFCO29lg', '망나니22': 't0c6M3TULiu4JVehPJ_gSgJJi6w6l4RR4UJLkEDVQBkCj7Ij9tPZemlb8g', '파밍만하는사람a': 'N1neUEpGLojdQ4JIPLXvKejqxVkl_PT3MuEhpxi4c6NGvc3YId0LQCsdYQ', '카카오tv핸드맨': 'UugRnvQqo1zmd_UtliF0KQKSU-PtXw6K4N4FmbX-NullChM', 'iii85': 'oakTwud2E5ItgcoriVgGXfO-gujME9wSWFPNNYGpY9Z3R422fC-JkF3CmA', '7468813245': 'ditoeYnI993XwdOBVwM4Cqz99xewfYiG4AYSUkiBBFZkBpq5eNoxYeP52w', 'Hyeon02': 'lnCeN68JDIze7UFwrQ1frjJm8MPgkFOrTnKugAlgbGBX2Sk', '명품트린다미어': 'MhPC7e3gvhn1nnFMF5fR9jcU2698wyWWxpx9xfQGi2MP_no', '우또기': 'XB3GJj8O7w3WdrNNAsj6QyJk4ml7fNAl4NAiwOMzMproEqU', '나 바보1': 'ph03WlMNCLVvm7gGIasbmLRdyB4OYrEtG2zp9agMo-0eaZgrzo_6kcHxIw', '철통밥': 'WF--3czUzug1AGIHhgdd8eHHjeO8J3V1mV2eEu0zxnAtoUk', '덤벼라 세력아': 'eJ1MWc921UmfVfj66r_4S5EXvw-1wUrhoVhVcFmiyP5Ux6g', 'ZCOVEL': 'OUXHWJxQt78WJqSBQuJ68v9e945nyueCYdUfFS6YCwIhdja7', 'white Picture': 'bg9m6AdZ_ap0QAIhukNBCkZMbFgr4q7dmuTp56zZTDPJL9E', '잠자는법잊은사람': 'EeEXGx007q-xbrrGOyr5A_eYJdwvGhzLZ9ystgMFplwl4d_McMN7PrN8Yw', '그브탈리야카서스': 'RtFrL1ncl2OxgGetmQMjNZrm3c3MdZ7Zi5Gz1CLHZR_7Ksy8vKk5QrQ0QA', '티 신': 'S4jRA3RmzXPvOm6RxZs_gIXK2f90Ykys9gOxjWHZshRUnHE', 'yongyuanaisemy': 'tRWJIC8rT3_oL2adqneAVm79UJ47ovzL5Q8ZRHtSMcA4q75_ewqmyDMKLQ', 'kokfpol': 'iPJVKgx7qXD3ZJ_r79Tlu8rm5fJvYuj8xft5vxy90o4M6j4ucDqSVyCg7w', '생각현실을만든다': 'GHojBxFOdfkEgLkL8QvEBcmhMdtnB_yB8R0I58ptNcHxCQ', 'Mid만 미드라고': 'lD8mAlEG32YQ_qlGWE1mZUxRh8_ho2LBir7yctJqeAvEhg', '간디도롤하면폭력': 'TDy3uim6T6lDj4rqrtWzoL6WfM8YVnqGZhW0K69a7dR1Ucg', 'Never Lucky': 'crETO3kpwm-t1T2NCZ_og608PKdMbmpP7lTafuLM2HZSVg', 'lantem': '36SmHMz-wi3j6MR3lGq99IVqC6sBwzlXnk2FN3A-uey3YFU', 'Epilogue 4 u': 'drOgJsJ4WK7-df7zmawhyfE6LFkZ5E5xwftuG9zDz9R26lU', 'S급훈남': 'kZG1QvdccPm78UAhBFQHjdGZoeZqp7PlLuxArP_2WIck8MYq0MYhE3dtew', '원 딜이 동훈': 'e4xEGmrKAq5rz09umXjo9z0eFoThN5ZbxZfQL58vqshyuQ', '목포우백호': 'UhzHQUHICLPHe4NSvaQWXp-XSlX05WOIiZYfP06ghmQ24Qs', '오징어께임': '0oYh2yAoTt2G3hTvs39c4W2MGOBlg6UFJ2rF8Fef-N8grA', 'NOCOMECANTWIN': 'ALJIs5oGneVzBM4wa-05w-eddXoluM-gkiW-nG4V3IDs-Fg', '1등1등': '3a9p1UCwse4So1Lz13YkHg3D8OMpEjz_fq7OTs4RdQWX6Cw', '민초세계정복': 'cMkdzsA2NbdaGj-x4bV4naH3Eil2m45B3I8ri8yk-pkDIbU', 'tangguonailao': 'YrQ_igEqBqNahKTlykHVI96BwrWvzMbHwENAwMructQY-TA', '백정만점에백점': '3tboQL-OYTaa7EwCC3-F0xuUHuyLJLGrsJEC-aHUFPAV-k-fO_KbqsGYzw', '발작하면실력하락': 'H_sNMny2FI9FYzbhDYmL6HWn-2Svjh7IFXQIJxl39R4pjQ', '행복하게1': 'yRZLU79RFLFthQZ8wTERItyjEDkZek_kc0QBCrbjqhpXX-SsUh_XhQGHKQ', '돌아가는길을몰라': 'ciBsNWVa0cBcBm1J99pR9JyzPGIq1ZoSszL4_sPNOexBTk8', '안즈2': 'qJc2lmcYRBR1oMKppntAKgEAq_6b2wtcBQKDp8sz1wut0Hog', '원통 데프트': 'L7dZxdz7onAHLkLZK_Vgi24jLIdsISqBTama2zEkOUtemZA', '우리팀또화났쥬': '1YFXQt382sJkArJ8dzu9sqsMEJsMpUOs7SJu3aQn0wpB8QI', 'wozhishimeibanfa': 'YBxmxoV1AzujfmCH1u1oXi-X7PUixAEw-Au3x1AbgSWUtM5iLoyi0vh-gQ', '날아무도모르던때': 'wkwF0udJ6pV8T7qvaM-4zSszM3Rke2NPsYyNEXvmMDJflX8', '예뻐하기 ': 'QYIstqYdF258wzisg_WDV7K41xeRmYjLY6YQtt0cU-4eSw', '렝가 명인': 'WyhxBL9oU9XoaCGFbYQ-rI0cx_Vp49UotryH09N6UlGJ0Annoubn2RwLKw', '동 슐': 'amrlVY5kwiHLgbUZf1ltqqbCR2o6VD-vPgk0ga8yZzmh6Ws', 'Hey K0NG': 'oCTYJ3Ap5haTnHEqnp-aWSaz09hQajyPObY4p953FJyeREo', 'Hardcor9': 'eNDyyXCR4QQ74dljqHGShLfGmFnr5v-HBaIZvZvex0Pbh1kOfHF9mZ9whg', '혜지King ': '7pJfr04SEF4uqe0d5qfa-sLYoYglsi56uQ6bgrm7ri0n8Q4', 'ldhsky': 'RH4e_68pm-5OoHUtfPyqtwora6RPx56Z8T8KALfKaBPCdHY', '갱플랭크': 'FxIzjOl6zkcRKXShhem8mJoBz8SlOury4j5Rg2elC3l3s2c', '송리밍': 'BILSEeA3qw-mTsU9vXaWvuJVseT6PL29vZqV63raI0zRov3xxvtjiKFW-Q', '20살 당뇨': 'taLTMXDwwb5qfVG7i1WCptEl3PJBO7TuLwsTGNmpOOm69YY', '연동한': 'HlXZ7XWwziLnz7LrSxaylV0bbpvyF0b9ymx_Y-cvnLjAfng', 'Tangyuando': 'tOmqJLrelw5zwGEFwk4nQ7ztRW4wLRXUSxf4_omf60QKHsFCiGlplZrZ7Q', '김법신': 'oKMdgl7sUKbAzxe8uBsqqx69wssXVaAIxbehM1xHt3t25AU', '중학교 사회': 'ecEnHJbDUprb2cur8YP5JQNL0Tbf3JRrBemqa49I1xxqyqQ', 'WVWVVWVWVVWWVWWV': 'jOGFnYGlfhTxPvLkFWAlY7590sKbI09PG6McvkrlklgkDH9ZBhj1_pdMNw', '비제이수노': 'Cs3X324ba82e6H6bANL88Vs-OXiFRxP0sRAj-qjKX9_OjQ', 'BabyHarpSeal': 'DX_Q2H_WTje8sdaNwUSBFuvgGusubhdY0_YuW5SV0bAYwmY', 'JGKcrongTV703099': 'CcEjGMbn2mP6GvW270OjHvOxomxmvuJEMJ9VUuJu2wUC1GQ', 'JUG242SH': 'q1nZ_VGjaOFwhPqv8JqxGM9Bg68MTuzdYL7XpiMwWjBxlw76SS8NbE4CDg', '버프줘바': '4VOf9aV1fETQcJlN5nNUSUFCfr2BYTr8fsJ3t1B9DtaPSbQvCZ6JnHwUJg', 'wulongcha': 'nC1rLZdQxcSg5Uq_zOokKLL6lSos8Ain3i1dzu5Fq-zWUHqaGsVmD2Wp7Q', '세 난 ': 'Gs1r5ytZkwMwEmlYugH4rwPQH1qsnaaW8DCsVsnjZawjrWQ', '11baby': '4UUY5LMFLVYvghCi2JZr21XxcxB3GcF1VK9qZ7BbcpXZFz0', '오늘저녁은 너': '0nolf18IAkAgq_xasxTU3l2tJN2shLfDw-LVwnXdDBwDzAk', 'Mot hai ba bon': '7N2cSYUSVxg-TYGeicVy5qoZ2ACJzliJbzly-3uiFtuHdyIjzA79TFQp9w', 'DXT47': 'z1a5STuW9pVCASqyfDl7hwP9SW4xPxzEpWqe98_LxqDqlP2tt5j3SLhpCw', '대신 죽을게 빼': '75oNV9gVae8m8wHdv3EaHFN2EtKKR6nZmI7fWH5TP81nqFI', '트재앙': 'GRsppNJmK34iUK66HpfmyvQBx5cfNLwKkTH2hx0KRBrAsg', 'Liver': 'G7wWAKUz7RcxANRE-xIMgCLAjVYQt7jXzOB_61DWF5LI_g', '블먹벨': '-ibhzUC80-Wo67DGA6mS0R7_Lg8Waarr87_H_XsVTLv5FAg', '달콤바삭치즈볼': 'GQ6fAsd3zAc1ykDmDnPIhwXTjjQGCAkeSRWzeodbcJMD_hU', '고수달': 'gApJ7idW5YY-sseJ7VqIeEZaB-ih5hqjmMkwNE1bYZxIFAE', '강레몬': 'YmCOlLXrNxeCz4FGR5CR0vzcSnwyBiO4esVS4QqqLpMlhVc', 'porcelain liss': 'BkyJtsEQxaSMqTOCMiZaVbABmjeOvDrs9iSJcdbkNbEiMaE', '전 세 종': 'U5yqWzGzp_fDl_b3IzDHRRZoEuDR7l9ZXOxtaXcsedn3Koc', '플래티넘V단계': 'XyXOHeNT9EyuWg91qoWDBQfoztP3qRFgkBaezfROErlch2Y', '스택에 미친사람': 'EVEAgMVxbfzwxVCuz_87I_fQ3LwxQH2NKZngUD8DdY4AKc0', '112represent': '8QGsCA_idj6u0X9A762Rvqlvhmr8FgKMXSeosjVN9uj1T-F9M1HiiT5B5Q', 'a5b1c6': 'QlLWtVyob3LMgwbE4OLYusjaAdKA3ky5nSPmR0pznCWuBfMF4pNEs7OeQA', 'frewf': 'rSaqZdzz72bSOqZC9fyiLYfiI8O6XjleZfPqMA4lltt7G9G00fUp20gDwg', '그냥 벽': 'B9f-UUQC_9sFCyXfh5i3TXfQRCySRTdLQvbqMki_MYRmILc', 'ai de kong zian': 'BCLDelHsLpVF9ODVr-0jwF9w9RGVFkBfgz8s1vK05SjgVYPZ', 'Ming Xiaomin': 'BGrCm4kAC584VkV7qW5zg8Yv98RlNvZEWxHiX2eRXD8P_4k', 'trickier': 'x1fjDSQiTLEmKknuBM9hjcEd6uyJeEmdKnW88V_1By-wpnk', '예쁘게 말해줘요': 'sB95o6An_QhnzOHZPc3FgCQXfts_Bro1yBr-6igqVtPCU2s', 'ViegoYasuo': 'FgV6tSPSeJA-We6PtpJX8jUV6CE6XB5R1UzwWCLBWSwZ-TQ', 'S4GAKING': '-_tuyxnVaUmypSSDYXEiZvrjiw2hi6z0_vR76EHYtmWmoQ', 'Hushen fan': '81z5Y1ufeX6ZSXrk0uIffxUPAk8__MRLO5aadxeRarVeBLWe', 'no jg no gamee': '28cwzJQCnGu4CaVcWaRmzKA22KglSJ6lYVQk6aK7fNLm3g', 'Shadow Rabblt': '9-jopH43IRnA8PsQTs5Ma4hmTxSzFFbqnGV1RhGdY1Y787c5YATemEM2dg', 'Alice Landrot': 'dkdd9RiwhEJ-nXFu7WKTdvw-wpbPES3FuS4gSuR76tM43a5Pv0JUEx_T3A', 'Arssss': 'JGWhiOg5kchXqZFy-ICaUXYp_Bp_2UWSvU8jwml_C2r52dqzqX6IbcF45w', '강달쁘를사랑해요': '-ATCKLMF4Rkl5dq1oYbNu9NDanIWiGRKU6DCymTAK5UHeqM', '덩굴풀': 'u0UeWrt05JLVnaoXIK046GRWawMy6f8pbKKDVaehvmhaTatfaIaYAY2nAA', 'twitch 급똥누누': 'pds4TNrN6VixLTVXaF4CIqXLXM-Ni6vgVkXelBbEhnv28JJJxKSnxdwauA', '여 보 는': 'DGB3rl2FmXrO0lDuqEwsFuI9OUGxlB_aLw0dpmDLuAkhr96t', '쌔 DI': '0KZATaXbkhxw2Png6v0ovuqcG52X28Cng6G0N2ZbVoSfGzo', 'vcy': 'J_X6OpHyidwg5H-89Wuefj1AmMqtbqA8EjH0io5_ysP9Uu1sp3-DNUyOxA', 'ZHFLDKS': 'a78QfMk9u6CNqmr2J3IVXvmfjCSqUHqnTpiy3t0n9NaLj1E', '사람들이말하더라': 'zol77E2Ri1WUt5p1n4KCmOcJ5vXObI297dJ5CNbuuM_wLeo', '우리 같이 계속': 'jgk2C8PhVxyGWhrCdYlTc4bEwNgATfpsd9s2DNaAbOaxn7k', '누나 베개 받쳐요': '7Vkvsqu6Ara-nv7lPchZWfyJTCBNmS3o9ia7VfuHT13hfA', '허허맨': 'XyBsfIZXv2rca8AR3_464p3VScvfiINjutA7RlLsPXukeiQ', 'B0RAM': 'l0tinbemH2yurCaZkBZ5UP3wwblnSb1Hww6bLfbqAet1tIo', '데 티': 'JoDTIKF2fKv0AnWlFk18Hl0HNFW31rPH0eFHGaoD0kv_Slx7ltj0j1QPbA', 'Yurooo': 'Ikg5Kp58TVLueL6XTUHAs1HvxTdDeGLZLzyTxGKd9ki6rA8', '잭 호': 'M2F_f0r8gO3ste6o5Z1oX2Dn2XUxQAiZsuc1xR1lEZ_r-gfluE8jDqImbg', '제리통': 'Pe61K70l3HY7LVeLhFkzSS6wIeNXgBYRSHtFPGIMPxPHgQ', '카리나랑결혼하기': 'gXeIx1yKsQCl2qGZuVuNz6YKsgr3i6tTOqhVBZ0tmTTxce6fCYVa8x04Ng', 'Da sheng xiao': 'fCSURpYY7Z8S2Ci2atAtmMHQZ12QDxpAL8q91QGh9Gd1RqU', '런닝러너': '3KbFxBlKejUHJxPOzCfpiNItzUjMxU4LhGpxDUsu_Xx-N9Y', '고생끝에낙은없다': '7iZ2MZRNDvPXt5cK89mqWLqJ3Xd84gCcvHLmtDfnMcLfwnHycfGfvbWYkA', 'BAA Lucia': 'oD_S5888UVEovrlxSEgbnEDSvIJDEXGESCVhJD96SeHxo34', '울지마 이톤즈': '1OlY5btW3i3opNuz2ZMroYi82xu4JmWpP0-Ije6jzKODgixR', 'KeyPlayer': '3lUOvUnqeksdKt5rbr44O1NH3lpckSTFD3gJ_YfSbk0aZpk', '어제보단잘하자': 'iJk0-QmG-yBdzEOoSJJTTftph6Aq4DA4KlNWk-49w6Jt3eI', '다이아의 루키': '0YW9KYgVo1pQN9HnpR7eG6x0xT1B924a58_UDd_iUt9N1A', '월요병가': 'NWqs2d-WjhY5zrYj7b6LBKVNTS3vd2IsDj8Oj3Yy6c_ePQ', '여웃비': 'j0FLCblxApRRLqC3k1D5kcZdQ5OkmPsnpjmIAaMIZEN9Co0', '악몽샤코': 'e6sFgcKorApCjpcJb_Gzj42vO5pjWoRTaXSRcAUqBVcR_sw', 'vlrhsgody': 'LUmrln4TLnao3rsGmc6lSGs8jNMWRfV3Sgasq9IxKjvC-F8', '영원할 순 없을까': 'Vquv7zoUoxFJ4DxwsUUTS29qHHnpa8cVN_NF1RPEL-9jXtvtr2AhVO0BKg', 'SUPGOD 12': 'BpMIFFxKCRJ8HlQXMOkz9s_Eng0iWG7yaE2FIA7OgaqptAPx2CBF7bCHew', '해오름달 사흘': '3ObxoZk4xqkseB21uDUMOhe_CNvV_SJnTF1NXkHvn_Ff0FD04aCS6QHoWg', '챌터다': 'qs4NWdVVYSibwXYo84KbYnWQ_Z4NihYGeyO5jh32eoMIPkA', '뒤안봐주면달림': 'LQGPsrcse7ZkUAXhCAVyBwAXOl6129BSB2C5sf2DVB1nFg', '암흑 우주 럭스': 'YrawndB7W9tDMeXHPy9-3nkDA5gRY4olczS5Pju-Hj08q2M', 'poteusa fan': 'E74z3Dv9eHcl36-IXEvMVnVaoeAAv-OJ-we92G76KSpGUsY', '꼬북이이이이이': '-HCous79raXS9Dh8Ue4PJY6WYYWcXEA9s05OCYwlbj1YYgTTjlmF8u7taw', '짝강 유튜브': 'ymPxZ5P-9KfmcwA565huRf99TeMCX4RHIbhp1hEpChe0siI', 'coop up': 'c_DvNEH6w64zWY5FX3jyZgDiYjkLNL-27pL1y_jxHdZRu-Q', '제임스 최': '5ydvgwCtO4d989TLQTOzJFc9rxZzUZn8HaVvaanRLVm2Wfw', '작은 몬스터 낙원': 'tKHGtT6gQAKpAvA7YjlMlI9q3R1IIRAbNWZItJ6gNGsldFu2DpNt9Zef5Q', '징징대지마쒸팔': 'ev35TcMcirykO6OvFaZcVs0ZxoSTBE6di_FtHxXz992h7zA', '스 왑': 'deEYXPvWN_EmJkAtgwcXEYwTemrIlIzhxGr-E8S6oZWBcQ', '꿀 몬': 'lKV_izVy2n4L6BvaQquwv_FfH6kp9h07XgblESPyxmMAZFM', '북한대통령허경영': 'bbP2FSVt-aF_ObbVrGcDNy0a2H29b6dWtisDOjdrAM9Wnw', 'zdzdzdz': 'q9XDSuUe6i3gNOQpgoIeYw_gYLGhRL05CQRhyDLMu7__RSmgmi9T3hG-Ww', '봉구 귀여워': 'tJZRoqMg7wd0fWdJM-4s5hpwbrIdXojWZ5yVZf7rZnmIaw', '모나감우피슬유라': 'sd0_LNDp9ruXlHtyPBvHzhQI5ZO4rdi0_lG8xEj2v5QYuFg', 'dy Maile1': 'Q0HW0p_7aAETVu9fy7VwfnRsqLZH2IVNYpLnvWTGdfVnFdg', '기억을까먹은사람': 'mPp3GoFrdHvjsbqSbYaGq6ml6Tr0zfcHjbkrWEpj6aek1Jw', 'Lefuhuang sanpan': 'xNx8kqaG0x89rEdLOCSDQ-hyjTiaQ74r-s7u-0WCn_qXfuE', '암어바내나': '2IPRHYy77LfopT0eamP8nRoeuLLPOx7GPffU5A5KfU5GFxc', '쉽캐리': 'PfrDeSLHmmC1j6XPMUDtf3PhdC4TXx9-WQybha3b-YY6wcM', '볼때마다잘하는놈': 'eGc4dzUyzxvr0r2cySK73FN2oukMfDzrEEZCUTQJRRO9OCk', '탑안오면따임': 'RMvp8wBunFTgu7WsGBj8xLa5lox42N8rYKGxswH6RnhOwQs', '명품 갈고리': 'NKALB39EdTzW99gSaC8vuFXz0kK5k6kVI2RHRut36upxLUw', 'asddgfhzvxcv': 'TAJyRulURcGUnjjcjsmrR-Yu5QnAnejssDmDrA0Yb46as9Lc3GCc-4n3LQ', '13434023': 'ncCiZEb820kJqN_mUV4JwvSEfcgn-U9XXCfvVL4IfQ7L-vI', '희정누나 예쁘다': 'VpEthK-F2SkJTCiK2RppZdf0HPzm9CrUfWqn0dhQcdh49nFooh6ck2Tt8w', 'thx for all': 'Xe2RetAAo48LT8lk-5ubOSLtCd6DnYPMnU5OMuej6nIwtYiZ', '이기고오싶댱': 'PS5NFxBqV7HOAK_Gc3XGVCooGHjIquvjHm2JPNYJEbOo9AM', '소미새론': 'BbD6f1e0u5aXzy840EAdtv_dUhjLJ1H9zgYC7Rg2bxrIQqo', '감전찌리릿': 'YInhCmEuoe4ztthlMhLE2Mge0RresaZziu2wdC6_YSnn8z8', 'ye tai chang': '-4-i5bPXyzL4au6MW3z3dqxW2vhI6Fvmlz2IZ_6ohmZKflwG1RUgFo1h_Q', 'duckling': 'QHe4_dOmG5qHvpFqn0w261PF3IkjikHfpU7kkpyh02Ki3oSmNSyDy_j0gg', 'pao nv': 'REzBeho8BDkICdO8H-Fa2WIdqAZ0sT6Tbx2hhG3uCJTiyi8', 'S1nak': 'xzoOquJ_PFDZfQPGTMJcKZBE1b95eGwQYQcVaPkn2-QhWg', '김해댄싱머신랄로': 'MSNQ8AvFwqAPu8EgxfOnGySCxCAHs-ChXwnVTVrhwOiJINs', 'jiaoliu bingqing': 'P26ZC7FxqnsWiD97m8NwvAFxpYST_mI-ewbASz1zmYQrrYh2', '평 듕': 'wpQokY5J5-GQgSlzqGoH39BAlEtjEJr-QF5_BfMh1cujtQ', 'ShrimpVicious': 'wWGCb1h3AYwpLvAU4TDSua8yykjrfJn6iJ-3y5e1j7dtpw', '러브래터': 'al8WYM2LUwMnOng03TbpoCvIAvpDepuAbS8ysc4SGVhJQxS1C9vCLzldXA', 'nsmarin': '9uwqWNJy5iHJjGtm7TKhOXEwPRelu4rruxiUY8MssyaIIpg', '이연호': 'ZkpoKzJsig48ECH67KeVW5TDBZR0XN97bqI5hbPU9aMj1A', 'IIlllllIIIIlllI': 'GTs4IivtbpoRnd8VnSEREndjExYOIx7ZNTH594K_3qOvyiw', '돌그자체': 'b-nW0I7pFQpe5BltVafAGO6HaoFfI11DEOsyP5G08ar4ZnrfVpIlOv_Kpg', 'rklckp262': 'gym6WCIH__zfaeo1idDOlNtfPQHZ3KU7bVz9Oy2P4hlrwntT', 'jackppott': 'UomkQB0zDMRlccNu553fysFXwv2aSMde_fr2MMu4zA4mY4Y', 'WinDei': 'NaIg_PPbbpMtifNi79n9kIHcudHVUcUgtHNjD0ST7VnyCA', '약속의3코어': '6bn06DF1Ytklolcp1ZGz5-GXl7wR7JqdkLRlTyOaTLZcsSysa6G9XTnfuQ', '엔 비': 'eEBvONb8XlfHVlJROH-185yVXJfSmCaCRNHoAmBCxCPUXek', '상심하다': '2SxP5Eq50UNN1v1OIZGq-7eFfor1X0R1DBdAlRouAUK1o5c', '난 행복해야 돼': 'yHrYn0vaXx7PiiW-5F4hhHiOHdwS9cE0dl6c8AjrHUSE6m4pQuu1BFsrAw', '불꽃성훈': 'kAzP1P4OaWy9Cv_oS-tPTkgy8_5HUlLNMOC64lxI4Ovo1Mw', 'qseawd': '5HufmKcBsUZ0_ZZ9j3XEOUXuiO16CjgWQvAliUkHJvwQAVM', '민초부먹펩시': 'eWr9Gqdu55NAXXXUvyCHtpZ9zLsuYQPbGRyhPJgfxMb06kk', 'my top 666': 'oQd-J82fmwOMiKHX3PXR6XEW38pqK8SC9LJJD17qmZrYCqcu_jsgy-rIsA', 's2j1': 'nl9kEQZzqdodNEAPWR1cLsz6nYzDT1zVKeuIM9nV_u-giEVbC3ZO1he-3Q', 'dotdo': 'ntO5ZwdmrOzzGDXnH7cZTrN5AOLFUcQ25Wn08CBgleUU7paHjSHXJ7vXYg', 'se222': 'zgWupCS9tMsdpWAAa8ZcMqU4UbgGJfyTX0XoHgCY2YhMGcWiNr42JULV7Q', '나만잘하면돼에에': 'FkvqMjxKEpEWALRSVstkEhv_c1ew1nnYvSRdt7_ltWXYleU', 'CC7955012A': 'kFAusw-2VU7beAZCQSyPYkdpN2XZpEpesc-ahMlxBeURbyo', '잘하자 늘': 'jYomNEToRJGmqYmpp-u9_YnvkN7IUBzxBHgkeuwxRutdoDfJIxDEPN44AA', 'Yeruoli and me': 'fBX6supuXl6GaY0lllktTx3A9hDQVcrNrZ6lhfUex6-4Eb0', '오매불망': 'sdORWyhJHoRp3OPvcmdBRc5IjRYu0amDismq4e6JIEePtA', 'xiao fan tang': '_MP0cqsCWhHvsc8l1pwKP4XS229P-g5ddpNqseYwFOQGzoiW0HmqvS62yQ', '지옥 멍멍이': '1mJsSbbluxpU9-HmzATUFs9PqPz1jXVy7JM-chEmTnDHcsI', '너 완전 뱅이였어': '8_clmbrnq0MOYPs6ckKNKl2ycPQxyqcDNyC2p2r4Dy-Cy84', '지완찡': 'LqBzj2uUYBm2qbLu_OJnEfdsKnYnGlBVy7K8XIQmejHz7Q', '풍월량 풍뎅이': 'Yx_X0GLTnITWFo2mi3h3iHYrKmYXGXFBDOlvyc4soCnKr8I', 'jljljk': 'YK_K4inqObfWELDW5jSgdKVCTj3ELljqu6YKTjPDPuzqxYw', 'wonangfei zz': '_NEWZiTUkuLWZ2wEtng2LubgvNmKoxyG-FUnITwkH1O0PEjYPGjVD3GcyA', '두유먹고갈래': 'YFTNPFkYMOiee27dbBMyHe8DmRZ1nLL4qXrKGQiuUSWsmxQ', 'Luv Lauv': '_4So77E5VNXTzSZqGWZ_vj1REbvBQo4rcmyNj-ljXg1D45w', '누누기여워': 'mThhKRGHdVXJLOWdgCihHGyIjTTq3aQsDF_YCnrPsGiNYdc', 'haonanguo': 'jxXIO9j5SdfRzOI_Vi7y3QtF6CQ-W9smmmLNa0ZXuyz11lJkBh3FbzHndw', 'WeShanks1': '_O0cDZqxZ3xIOaAbCXe1Tblj0bK9QwBn8YBIqLiGzwBqUcazj87HxNCrkA', '실 망': 'zy4uqLty5tZSyyuZcIjLo1umaV1rubG1l058q3zi1YkFvBUc', '산초기름두부구이': 'sk3xL8hncPvx-xIR6AnyLSAnvk3ceHAC2aD3rqgbJaYRow', '아리바리준': 'tJSQH_kH4VNy3de0DA-Cd0NPcw000YRqYpAyxnLa6wWNYkbhH21zvV222Q', 'LIVENKING': '1uRoByOYjkfum9VeyylarELlQiZYG925AQpEklComdjIf0M', '끝없이추락한남자': 'f7rLiUgSEo8KPkmCEV9zNA3uzPHvr-vNoukKlyUKp0DBjw', '주당일기': 'WFf0pGR9hX_AB49hn7__K-RdAnUhYwNhaab9_ysXOpzixkQ', '사람믿지말자': 'vHxl32VEgj2tS8wShc7HRDt4vY2irLPrxLl91g0eQpFlAg', '조광희': '8RIvo13gqbABbQULf976x4vVzgFr5BAIJoHYv_tvtQ_Vng', '속도제어': '1vO9TThnhtm41D-DymtHOlLBVqr_s1yPBqSbvk3c2AGmqA', '낭만있는여행': 'ZoqF6QmuJy7PZ356dQ06lDPurzwmACAkZlVaTrb-wQnXD0M', 'T1JustLikeThatKR': '3Uuj975Yvl5RzuGtElRuRlXNxS4RphSmVDk-ACyjdzJJ784', 'Crush on you': '-Xidn9lLeGRMoDB97nKW9TDEM89hot3JZmKphXFTVnpG4wk', 'no name12': 'L5DQBGvrakWr_yVw_DuTK46vi1csMNinM7YeXgNHwsXFA54', '카르맛': 'OatV5NIDSH7OFnYQbbJAvjd-0OiOJ9Mgd_oYjpkEr7DJ1Q', 'selene sword': 'M5w4e_-RLTqH32-phr6Ld9KvRk5Klq0qhdZ4YL3opRgXHw', 'GALAXYSIS': 'c3F3nQ2Q1reo7eJDBZ0r4N7_XLz6EJ6DY0gb1aT1ZROR-w', '사나가어디사나': '1YRaLWd6yGZwTZ2QUmFmIH4rXTQhc39ug9H3noiN1MrxwG0', '유엔한꿔': 'u8rv_zXcVV8UmeM6TzV2KsJq9TXIXr_oPMMg8SKqLHq_HZ2aiZk7mrKKaw', 'rainyday1111': 'VRZIeO-x19w9u4Gjuiz3dvTpQ8k-aLs02T-fgMFAOM5pc2IbDSrPiQfX5A', '99 RS': 'ME5Oa-Qp4OhMieEqx3tWzir_zSPYCYWhmSHkFfF1TFHrpSc', '김따코': 'QEtVGQnLZzo3HFE9J6hTSX1gmNftm2LKYyRVufF-VR68Fw', 'oIdmaybe': 'ebTiE5UHTc8c-5aJo_X7NdQpFTxgmhCQy8tT4QDroiCofB5w69QOz_HTuQ', '전령 도우미': '1nZdJYpoi1NlAbCLK8iJLtCeh3MgkDvdMGIJ6Zj74y582lM', 'adsadsadsasd': 'SxTgw-GRyNkLRXC7iAgsUMrAHKKUK80EFT2VxumTlshqdHYa-c4hiNOkhw', 'zuiaimiaomiao': 'd7oLTrwkXdyVYyId8qHbW13CDGK_mqmunq0_Ms906uxxW-T4x118V7-dvw', '독수리 발러': 'prqugCXyCPYYolFRlrFjeqd3aQ55IUxvG9SLqrZ7kaV-Gw4', 'Oh Lovely': 'vHyoTbNqlEztVGHc_ffBrTtDXm-irJfVhT3Ki9p402KsXQl5cKTYDnl5UQ', 'KR Mean': 'lqVC1mHCC2VTSuDcnxtg5plJ1WJIRGJWlUoQdp5cjQahP7lSK6_W0NIcBw', '언더덕': 'L_xez0EeP_XGkwVEAgc49aQHD6FZ63ykTK-67e1cOJdEvJw', '원샷 원킬 베이가': 'Orm_j35UTbHaACZ1uY43s_mPwih3hPgfYHyCOnLKRHYxKFc', 'Onna legga': 'X26uhh2e8iGKalXkMAmO6AuELuMQt3wv0ZdDbuvcXxb-h6OHuOpPvYzy8w', '물과 컵': 'sbA9ejAMCRvu11bIOENeC27pSqsRg7uWJEqRllRrI9FOJeM', '오픈은즐거워': '9_1KYfucLYadxafDM5_J_f0YZakbyIRveSwb6wD88FZlE8c', 'ddddddhhhhhhhh': 'wxhM9AZ4-RDaEXBNoIavXT0l_q8AaMDnkO5S1wbJjPsU0WEPNghTHUio7Q', '98kiw': 'tFMvjAeeodORe0u5SIX6LitnTsy3D7ffNxQSmb7SXbMFIuJfWVA1RJPZYg', '뜨 출격': 'O1rNLqqLJeY-aD-Ml8V49gmnVmB3jYG0Z7xlX6MGoj8c3Pw', '작은 모래성': 'yeEaNwiGMTo3RfT_siRuk2ddsmuA2OjhnIBJV8hvslSzKVQ', 'elbicnivni2': 'GPss8B6Yz9a0XZyH97KQ_spAHlVE_cCfBVSjGGoRyl_kl_zt', '이루다아빠': 'upwv8pArFNBTCOAXeWu-GpFFlBPlQXI7XhtaCm5Vq7lbqLE', 'YQYQ': 'ke-mZX5OPkl7TrUZ-jyBYFz9HIyEcOnR9sBlT_ggzK4C9L6aNKRgcTsEQg', '바디 슛 골': 'mJRRo7GIJXPrmWItCKGGglnTcFNX3dmw6Imvb5_OLAVMkVJD', 'save1': 'dABcf3PmTtBVW-FtVVzeQ_QYkMrbUP_SpGj3W_wFyO0Stji1M-69wDfLXA', '2002mid': 'BEXqaLkkWrp9iXnMwCYKfBLOeZ03WbSM-5m3Yi9qWWMThrw', '강은짱': 'X6KGuhm_ymlc7OlgF29vReXKXeBEbB4fJ-jHqFo_6ykjFqk', 'Liiv joker': 'dmUA0hOKJEuqFxZcuBHVmDAN7rtpnqH7i2H3oylfODc0mkk', 'asdhaskjdhjaksdh': 'o6R3dX4QtBUc4DMC56N9z1pkFBfFP_hEflcj7J1g0b8tGAbJuu4PNOum0g', 'S1monz': 'gQu4IeQXCY-Ts2aU0vgDHHPj_LecHwwL4Sug_CFx2rBJDz4OOtGCgr_nLg', 'Peach': 'T4_vLswP5dUFPXIrB-lcz_IKAWu_qTl8zAAaapeG3Q9SZUU', 'TUTTUTTUTTUTTUTT': 'sFE9wgEeou9eH9FCSaA2qz6GT7jWZ4qcqR74FZpAyqdbMQ0', 'super yasuo': 'k6gVsubvnG9XQT2aQeKiNoTbH-wupBcNXTdpcg00gfxDLOnu4I0uafkOVg', '10shi': 'e8ZGbSLzLviMEF0QYzdrVlVa3PbH0Y5hML-KAp2qti0C6NE', '다딱이들패는계정': 'FhN3g8Jto-ySdmYDJ9rM5RtKtbtCvTMQqdCZRZBGiuAKyFc', 'aaafdsg': '93XkY4-wLAoLGaMpjcHID_6NKXLQW8iMwb2jj0MOoe3SrmZ7eKDWEakW9g', 'Yeono0': 'D9d0jDC053Vm-MT0OZeBxSIx7W-UiA1mU8DT46lSZ7We02o', '모덕씨': 'krICbXZSdLpyogZVsOwA_IA3M1XODCBVWXYLsr5EDb-yops', '기분전환용닉네임': 'eb7CeWDb5fIoI4Fnw4aPXnowFmb-pv9tXg81Bc_2eLABIJY', '김말국 bb': '_aNYWmJHiliVXRqEUo26Zw_zeIZfcbbek4KaJxl6APXxYg', 'OK Wooputer': 'xB-bUqlSviwyuKX3w5oaenD1uuw-dhZdUbmAN2YJkShFfqQ', 'Phil Forden': 'oL21kVljTnV_1atoWVZnZJCt55duM881Z-blgXrazzd8V2M', 'Barcode99': '6p2hIXYYYOOWfypianLe7n-6lZ9t9wJ3ddpjbB9hQRrogw', 'dgdsxnh': 'IP-QNc8FHp73I3QAUS_yrpFnyEegy_SKVS5IMN6zr9OWoPwxoVU0jpe0lQ', '근성맨': 'p_bbbHuoUkNpiarlbVx0o7rKvUaFkJ0rG4FBXHp3Piok6w', 'Slayder one': 'Bg2v6Yf85aqUiS_Se3DQklukVMpRb1s7-KlwRgC7uamZlMvXpFagP8lmcQ', 'T1 J1': '_wQcY8oWFN9LYfN420c4EVFFP4g1lN7WnJg0213zRtQST0M', 'ke bao': '7yH-0ZuissSk9cJVa7Aa7jbOPQSTOadL_s7x1dxBhMG6qNiTS_oPxoq4QQ', '병놔놔': '1q9yYEWL_OJioT7khfYpaoRMgPI5PZU8Q0Rb5jMprUL9w9I', '이상하고신박한것': 'ps9Z6SfWj796sj8EDJqZnbvVj9meGjy3IFYzZdi5hjSpEfo', '판아야': 'WdNXA4tKRvZBt1eaM0qZJHYXHypx2PbxtEcfDfFwRM2TQKA', '욕하지마엉엉': '4O8MDtsUz77O8SLzqBfEg6Lm5i8-2gDsKfwleul6Zd9gvqQ', '예 히': 'CuVjvPsi2sdvz6VM4N-Py_WJql4z82pqWQRCMOpfHOka5A', '막내현진구름 fan': 'Pj-h9XENng4mc_X01suIEzFHcyj4cSb6-C2iarcpY_5vuks', '날 만지려해요': 'Z6gBxpD_RBGU_xuZMJqeBUkJGp7xXnYUmO0yn4j546AwNAk', '코로나19 죽어라': 'd3EiQ6sYFMHjSu8kvE8YmHcIXE3tb2wmsSaKQJgUFd2tOA', '난 아직 성장 중': '_xkLu8admgqsz-0ap5CSfvzGjF_xNphNu0wQO-DcJ33_iA', '5314133': 'i0n60N2hQt0nEvfkYpX-Vv2mVlsG7U0tIGSScL5wdT3Ikx0', 'bcasfrgrqgqdf': 'biEelVr-i5_tfvpP20hhNc2HocG1Uj95gR6VjzuhxfnTz9g', 'Rei ive': '8KtKApWYKfdv6kmMUYFwqQiKrFl7ER-5J5ujWQ_gYOxnv5BXP1fNj0HIIQ', '내게왜그러는거야': 'ET9WPmNfqLb3lbBWOzwgmbUeFbvKBcKTXOU8uF5JggHW7D8', 'Doram': '4BXlRQhDZMLwV70vgSQSfxstJFndLOb0C0sGWR8eMgg9dPg', '배창선': 'N9ScoJxBeBSkpoH_61x-xj2qZvFKAyFPUwRoNyw-pDjAAGQ', '볼 살': 'pX_GMNy2oWUIzVEl3QoGh0AMXb9QlKA1k8RsXhc8k09JOS0', '별 재미가 없다': 'FxS66i0wjpGh4Ie_0w_wgYf_T-sEtTP-Zhfi1_cbXRx9IEBGcvWhtXMA-Q', '방가방가헴토링': '5XDvIqbMcIQiRwhgGRQdERhFM6X4zAmizBoQsgU5j2pTB0U', '원딜러3': 'Cg5fajibx4b7gfWg02V-YjNgWQlodcMx-IzcHBAi87SbZ1k', '한준희 먹고싶다': 'rP21y1sU7ijGh2ir7av5gNiLWHlLCF3wTvnuJon-q-2sHupYwujDsw-Dvg', 'hycsTOT': 'e8u8FEf5Eys3oqDvwwU-8xSfboKyxbYdFGim1DHEvfBWGjpCBoVR7lVzEw', '키톤7 ': 'lxEKCuUnIClAxlEJXM33gcZ6ALQfLSjx_GX_uEDdhA68qX0', '대성 대': 'gNMdAMlzSH7cAK3SJmWDZlH-AUr4HvJdtriV54hFcI_HOg', 'UMBOOB': 'D5LTd2vX6jTZC7UW8ehhWjyDXICKvG9YhDkgzsdM4ZV6A40', '애기라굥': '7z8RWZ__bVO-Iw4bCt5hIQbg4JpTTn2dg66iz_I8mAkPwgySeW65YieqAA', 'hao yun bao bei': '8QoE69vhD12-FXjmZ_vPADRtbTK71L1BKQsvGNyD0uFk8Mo', '4APPYGAME': 'phSFpLfxQ4jcNca-TRmRKc8skjXCwvAbmPan88NgFAWDhA', 'MS77': '_EUkouSRlOCUWBx9VerOrQUBDZwCV23kz9WSAPMWz7vWD2Y', '에스키모 개의': '-4cHbV54AfwvygvNhSt-O6ERka4JEZHLPzb1ovvLA7CNag', '바텀은또죽어': 'pQiVUmEJDup-a3w2U7mUG4eFzKmCORg0LnM7dLs2Y2PtWXU', 'dangyadangyadang': '4mNYhHMk7GxvWTDGiH1flrjyuAs7Ec-0qQPqGzEbEupoPQh1DDSPRgbJXA', '뽀삐3성': 'EK5xBXUOn7URj22CR83wajLBAwMJQA_M6BLpbhDFOp0xm2qw54ePWQl91Q', 'Moon스톤': 'GLNRAf2Do0FmCBRU9fY38FwRLAM7mIJnUSX7rp4_Ds_43Ug', 'unknown89': 'q6vCBc3iWIWvQGxb7hhxRK5wxj-pMw7u_ypqOCjKwt_-2qU', 'ai er bu de': 'SlwtMu9UjYZ0RnHxtJvPht7SZwke8ix01UNY956x7eAXhCc', 'Seize the day12': 'j_2mbpz3lC_U1lkq3NBpugWQk_vPQIipSajaLQUzK1y9uZd42oPM7PT5Xw', 'BT limit': 'LY_yp7W10M4yeV6bZ42ZTTY5rqvhqSccmas5O5kTaIF_3Kw', 'rokinas': 'eJUAZZ-FZ8lKHptaY3yLXMFIJbX7U-8A8kOcrAm90eEbUA', 'zxcvkwerty': 'iaEpLeOnWckXEZ5PFOW-FN-zKg5tGHktEHb40mm_j87L27QUh6SuV-cwAA', '아빠함번미드봐': 'k6vumemGfZHa1D-NsIRGq0QRKjiIJOqG8n9O0somKwZn8kePTZJ1sjfIbQ', '빵사와인직아': 'IwPU393zHlOsobl1QyC8uHaFQ8iDiUoGq5zYqpIfFm9j22Q', '찌교수님': 'MNWrfJ2YRsTodgMxHKCXmBlVx0xF1N89ntzgX9ICI4HbpEE', '숲의 미뉴에트': 'ef1V5_-YWh7f3lkjFfQd4AcHSkCdxJzly4xyVvmL2DhNyQ', '크린손': 'mvb7Jc4uhv0qp_yJplb6rYlzMcl8prjSBHum7otDPMiQ3_M', 'KT Bory': 'KzqeAkH9xAAH43SgaiHMNqPWhH385AMNIODXwY31aOM3Cw', '독꿀벌': 'jDoNCSDB4uL4qbpNF-SLNaSn93pKmqFlKyiPw77p5wQ8qig', '강한남자 김동준': '7kDrrBet3sXWGklrVTYPeqtitea5KieyJq8J7nBv6kLG9g', 'Lin Yu Yang': 'v4FOlPUd6f_61fWEMiZVPVc9dSj-jEBRW2tORyZB2muGn_Y', '현Ze솔Ro': 'Egbzp69SoDlIfgZ-Ry8guFW-Z5O_Bfsa5ov-xQLK2JNvOBo', '씩씩하게살아': 'ftSu2LZKybccNMU5vvHbEhHBxPJSLPpnwumEYgRtpKLJpw', '심 맹': '2Hg_nCTlXJbCOfQDRewbAOq2CDl6LYDdbKZuCbld1qRo5zMPqBBWgzv6EQ', '마스크쓰기귀차나': '5FXJs4KG5-2V2IasOfDzjGjDOJyCUuVv5z-bbft60JjYSrDS03sjizJGJg', '피망생강오이깻잎': 'hYzxVUNbLWyKPj0l1awc_il7pnSvR0LthToi-6xcgNyhKqs', '미드 op 오리아나': 'lMmuw-Uf34dDwy1kSOm8Jp4EMU49ZpuhmfEBo0S11W8BjqU', 'njjik': '66mf_k7blK5ASdO0tw1rQHARnSAPAupaUstRWXm4RNE3W8ZXaFNmcJ2Vag', 'Cassiopeia TOP 1': 'goFFdWkq63dLvr-6AkY7VTC6eeTnsUhyzaSAGbzgQEECy3gMfb2hvLL0zQ', '대두 구마유시': 'X-PPooU1r8DQqFWpPjB_2SMphe9xdEH1MGh92kuuyQxaAuY', '엘사눈나': 'ef2mt7CESpSFFoO-HJokE516m5y4-n73ot0WL-DSWNgVfX_UtSohRcTtOg', '빵정호': 'xUm2kKfMmoxw30u1r6li7mfnYy3dgUGnktZNeJk3qmt7LY4', '이해존중배려안함': '4CcJ-x550vT5soccYDpvF9NGuW1eHyrzB2IrZn3RkFHfo8I', '지구야 그럼 목성': 'MlGoFRVG9PvhnTMLrtXqnRzSdRxEH_uo4xiQuRyqWH7G-w', '04040404040404': 'VfHoJetQ62LnOHGqWhmbpb0RVv77yD8uf0Xxb_ebPY8WIV0i7hDKvrhBlw', '주먹으로사람패기': 'Uhjf8L6MXdJD4tExfmJPFdDZqeJaNrJsCTe2fNEPc8avBsMJUdPIz1Vg9w', 'SnowFlow2r': 'AR9xZITGQKciryeG5U0g5hq6cSIT7AUP7jy0F2peGFNdoQ', '어마무시한사이즈': '283Q2VxNrpMhTZBdw8Z8PUOlw5wW3WrK1mzmsiSAGS_kzw', '전설록': 'Zoe5bMGXA8wjVClgIH1zJeGHu35eoZOtGtt1X-cUATmGQxnQOEGlO_o-YA', '뽀식이는 씩씩해': '7s9AYzS1jBVVUVZzDsXvZVCyHgMQFqaArDv033apXg3mPQ', 'TingtingzaiTest': '6kOWB1Hm9Zux9_KcpZcs-2xyx39Q_6pYvYiHMlpBYgH34RFlzIRhO_A8kQ', '파리바게트초코빵': 'sRKS8gN_yAaOCC33qF4SaJNfMYjUULTY4PWCwOzK6pPqvNsR4BogU22o-w', 'This game canwin': 'OEISqevboI4ObeBUm45m565EgqPuWbJLN0g9e9-jJdg1IZmpTVMBClmzYw', '주도피아': 'kzUvXtB3qL8xkciJNrUhTuL0bMc7goC-Smm0ia24gjBs-m4', '란 서': '-CYX4_z5VagdYYewzNYNSATjCtyx-q7dd5W-L30ZMFKYwbM', 'R3membrance': 'KzgTmGzALzZHxHXn7t8IjLHop87ythdhLkls3nJoZCA8Ytcn607SxHL4sw', '친절한 준규씨': 'tRtI1nnDp5Xzq9VesVdNMXlaeRyPT45lZcfoxcPoEkhRZY4', 'sodaro': 'OXe6ZQhwbIs8NDS6Rgg0tyY9_fEFJ8nQtfZ2W5u5QsWfM7G7nhjrriA3qg', 'rewqasdfvcx': 'iQVpkejcWnKrtKL8Ci4sCqClujIIUJSaa2R7ccUZmN9wvJGBPPkdRLX4JQ', '그 검에 젖은': 'VpHvq-LwsQu1DHIufeR4oUwcLShI7Clp1-i4YHajxBVlkUjs0dUx2UgEgA', '사장 원딜': 'O8tOMFL13O2Y5zOT9DGvJSk0cHtPSNBu63UdyS5CDVTgBaPRn9zm_BB97A', '포소포소': 'eDBWkTdU7Smmq8R2OV1TXJG_8pFqdVNINaqpdGY6R0OIbb_TPACzaTj5Wg', '고독사전문김독거': 'tLxK1ItlWIYoIRNS5Mf76P5dJddpbZRFSv1F5EOTJoBuUTA1IvcVeOuPmg', 'zI존go수123': 'OSiu8swNYG_Pi40XY0vtoAF6qvQP0VYK6RnOHFqsUV6B3aI', '이채원의 키링녀': 'lZP2I3t0Q7ecVLPUkV2YS8YGs_PWq6iG2AsPhpnyOz0pWYA', '고기맛얼음': 'QqAI6zMcqyieJlxNOEfTxP7ZfVfJfwTnm3EkGsHVU7wqg0w', '하이머딩동': 'eaAeSgdevJdGXyLiti-mAPzhkXCAAiDBgR1d7Lss8os7Sw', 'Zao cun': 'raOcxgICz2ynjXlGlfcAn1nwArHgmduud1VBTfdVzH48lVU', 'Saturday Mornlng': 'OH10KRU9iYIMF9DGt6rrftYfYN0IWM-ifh-yKBvkXa_Sm8Yl', '재현표인데요': 'TlbtbebHBL2P-hXmswaFKT6XZ5K4ve7AGJYLhy0Mx-MtPlEfmMw5HwSpqg', 'L1f': 'yYX2UWxcQfVU_AQnTka0GDMvjOBZqoBy9wR9SMErFqDrLR8bJQwUnCWyKA', 'zjhzzz': 'r-Yn2YIaqxpqGNYywTY2G-xNzY22W0XxS5ARD6BCUowJcCE', 'SeongHw4n': 'GloVXDID-DEUmSMlL3U7b4vW2cOH32cJFlL747ikyYAIFcI', 'Falling In loves': 'cuwipIvDfbiNX0sT7TbUPv03aoQbXN0IdSB7vpPlgWWYH5w', 'JG ceiling': 'TTIviit02lcSbKpGULoDRhUL4sg4dhP5vHnHak21F-mQSGA', '개똥벌레미드': '2UlepHG2s--J6Le4cpIXkT8TvB7RDomiwU1cvgTnQhlJXL8FEdiRwwu3Bg', '슈푼이': 'iJw8XQyAd8q0B_ZLZuhSBw-GDICUR6MEiRm47wbBioST1x-sK3Ei91RSnA', '타이밍': 'pfa2yMiTwL7yiRF9PWg4WUrNe6G-8dw9t31LTDf0YUe3ZcQ', 'wdbyzmw': '8YQRKzt74Pvjw6jQFnxRuoNadVbFIwpBsYtAmqzECRzlpXY', '3렙탑갱가요': 'b2tD_xwUANElcXyceP8PXXwOrchWxGpquritDJQOBd2-Sg', '근 두': 'kqR__GKGudrAEIHYZ5cTfDnLu6AbuGCuMDtW1tGasnZQPA', 'illliillliilll': 'r8vU3DXZfo6Mx3GgpbL4nupkAGN9EaPx2xh7gSY9mAWG7u8', '워 드': 'XI-EvpwWCYX4hp6qs8GG4DGIbYIgazTFEmg1a-tDlIAYgrc', '메1론': '3JA1A8ha1Xs2iIgrGIJTu3qWaZ7ezU-pbIJrBARBRAf_gQU', '자메이카흑인': '4yR-3b5MKvzTbSxKzwLI-khD3Vzq6iqCCEV7l8R0RmncmA', 'tkzj좋다': '_vacscZSWXGB8yKVgB4Os_Osuz3DR7HOecH4hIsUZ7LHJ7s', '두 부 꾼': 'F3X9XNEijbHdraa71DbW6_O21whv8eiOOaMhFnuA9zmqig', '초반만버티자1': 'P4S3bPNM1gn755X8UJTeWVAvPRKQ-jffPYN-A1agKcuzd3hz4ihTsujzPg', 'x1ngyan': 'BsOGxDZAsJqHPvv_pJy288mNXdhYl1ReNaid60J-3fcnA5cQfHtipsxkig', 'ruys': 'zKBvFoDWJN3Lzl2VEfXYk2Pd37m0L0tbxOR4pjA_A5oWEIno-dNkH8tIew', '나를탓하다': 'E3c_s0fC0xSJDylLR-uYXL63mDyx3p2CRDcWq1MhRonBNobK4y-adZduDQ', 'ru guo dang shi': '1OZt85RsVso6ti2z-vVrRAaAZ4MCiGqq3oMeVTXzWEZfRsU', 'Pekora Gura Aqua': '0eukKiv1fsPkrDD_hCL7D3snWvEQ2o8hbxNygB6WLyhSWcQ', 'MIDGOD 13': '0MdjgRBnTt4uW4j66mibLdcOQfo6V0kPG-17kt_fbhWr0CoZ4jUlWyEm7A', 'srysrysrysry1': '6rbRm2ItOXzsKtfm2Ab47Ab61DMEZyUmQ9e3-nqhH4tHOkc', '아리가뚜': 'YvwokIxhDeQOC1Rq6AnxjqqHwD2z2Su4fcAMkrVDVoinrw', '엉덩이 큰 사나이': 'EGs7uYjAvwqsusXvxVq6Rji3HPaa_rXL6M90NWQk_7dNnts_O7BMWT7tNw', '1등 1등 1등': 'EpqZCBiwHRf6k9j9Ej9yMcniLKJggmga4v3kbqVQ8iRt1WU', 'love again1': '5pNXMd-f2C_nK4dHsghE-y5Q8xQSCediRpuRgWxxeIBaLRmFP-1jBwy4tw', 'AnkhL': 'AM1AnXgNtlA4Pcui9bVio-vDGbYBBGLiC8gDrJMx0WhIZZ8', '튀자튀자아': 'jvtxDzw_Dn8LRIf05gCHCK4hJ5RhOZ2VdgrEUc6zCHI5poY', '부쉬활용못해요': 'Jjt4r4-H5v3GdRCuEAuS0Gslc6UfPL2-4U0VUzyk7kzaZ40rHL2yj6vCZw', 'LeJongd': 'DCZSmBh4J-G0oHqVQu7J8EjuP1Yg-k5F-o415flJJ52ksd0', 'Kead': 'd1K-k7iOvZJRDP1M_EjgH1aLDHJCkC_Bzoocucn4btUr2XM', '하레온나 fan ': 'DVy0m9BnSHcAA9_3ybOckeqL2XGgPGvMwrOCZQihDtMeAXx_SCnY-2ClRg', '자 담': 'yujprZDe9UMZS4Jkyv0P9ZPCaiesMsrGYe4tSA6Dpj-soA', '안녕하세용덕': 'zOXdw-GobC7rVxL7U-1NxEf00uuS7lBQycF59E5JvVMTv9s', 'JunB': 'DJDu-5gRkScset5E9DQ7HGtrr1ZJHjGUl4p4Df9yXcYh6A', 'love lofi': 'GjkG6W9BfcRJJEsWZDN4ePTdKUmHva1u04UEUkvPdbUf1_k', '건 대 미 드': 'J49KI2ojJDxUjCrS8Agw5RHdA4DcFAVe1d88OTwKYiYXpy8', 'Alicizations': 'U3eT0eex49mujKYmxAItZ8p4UdMvIDbQpx3aQIqkxcEFwstOh85n8gHzUw', '신지테': 'd0-y9PN1OJDLQZEVdr70A94xS_UgiCve7S_AQjNgFyCEr9Q', '비에고교수님': 'qGZGwKA8xywPY7HXcxXGse-thUW4SrKwANR-0zrtXLdyNQ', '나는쓰레기1': 'w9AsBJgLrPMIb9HiDK6HqvU26xdE1cS8tFzKLYlC-edCzpzT', 'Jeong Tae Hyeong': 'Ak2x6MaQKPoguyDlpIh4qTroHwNNm8tEAHHJIQ2agIxmpP8', '실시간': 'y_UMhAYXoxIoIdoKqirungiIEGm1PUK2jfMUvuLpyLOeguUUqbuSrNfQTA', '유기견형 탑솔러': 'cyAvc4YNVzufrg6qwd4zqfs16wGL0YeTtsmTgdTyImvKx_c', 'Shenseea Rebel': 'NowHS9GwNTXWbcDXCkALpgU1jIOYZi-gaSV-tbciYqHybpsXlGTK7l-_Tg', 'bxwl': 'wVt2Mz9xo3IUMHllX3jny3fl1nfOU-jPr2FjFWc-ODlGc5WsiGUxwoxPGg', '궁댕히': 'SyVeJCTrIDIzudLjjlOUXyoNArRqDZ3oLdqQ2B9CGZBqsw', '98k die': 'PwkBPicC_WeYXyuWrTePs-YdWHIwrFcZA7pcI0NiU_tihbQudHO6Xh0cmg', '이쭈녕': 's0u91ZkslCXIqit2cnpL-ndiOKyXb92WdbJ7-1IYOtiWwA', 'C9 Reven': '-rRBqB2ibdmCE6psjq2oVM2ctVTr31aT0POS1PQMxAD6KlU', 'waltz with you ': 'naAw4pji509ftcBkHU_HBx8XQBo9MxswGiWzUdvhfDCjCGWg8F8LKjgKhg', '룰루빼면 브론즈': 'odIToMfsB2WaU2C4pEA1lZIehToCwryEGT7YVT_NvjWNfIA', 'Choln': 'A-XCl0MYnk2GYbWzJ-ckWcj5fHqMHiVvMa8ax6Va_sIBu44', '파이리 물고문': 'JhO_v71ROsF-1b4G9t3sEquhDwz7d6Ph7yN05uZhGvE84S8SHd8LhnVeNA', 'klaus8': 'iIUOiMLUtFbezosBCfVh1Pst4kmY-1EiU12x1XS_DsNUycM', 'Toptip': 'gyv5BBWYe3pcicEscGrFQX8DC5sRrxfRDUN5MXVLYncEF2o', 'Typhon04': 'FB8SKGCGGNFC108ViZ_uzVR569KcuUArxaRXt6W_dMnoay5n', '준상꽃': 'saM6CMgp0a02GQUYHdaCzUj7BBoYkxzH6iX4E9gHAVB7_21GAZ0I-qLVzg', '몰왕쥐': 'rD8pchNIxm4n7FMoDVpY6qtV0E-5TqtkhSkY6gkGil2XIS8', '맑은 숲속으로': 'VMQzIQNf48M5d1-6F-e6gr0lAkvBaHSPRcDQ_AHZ1Ogvnro', '정밍쨩': 'gK45MYzxGxxn4atb2ECDJu59FZJE6Nu7y7T2IUa-Rh_lHXo', '저 연애할래요': 'OXlRDXEJa27POIxd2I9R2F_xe6RvTt6sAu_r_37OFFV8i3E', 'HLE Rooster': '7WjHUpBA-MUBL5ZpmUt3WOE4HW1VMwHpt2S8Si0WRoyNjjE', '롤강의는 코코팀': 'hT0yIlNrd9RY5UHI8iiNaClIZAurctWnS-hjTjBMF3XiBbA', 'yukee': 'AGFM-W-01-DWUfxn8_BzFOswPj7mKCegfwRXZFIruLudpRk', '안녕피아노소나타': 'XHFv-l-J5ko2tZn7jRPfYwKdsUe3Gr23te3_RX8sDsAG5V8', '희포리': '8-odztiGOClkajkREBslvzaRVWiCFIwnt08JmzEGfiBxAes', '23030308del': 'beSUjnyeId5tt1DvipRdpgcGRWj6RGFl6GwwfWZRdwXgEXI', 'Factory': 'VKTEGzhq2IODrJfJ8WB8YPcuSZ7uEbvHhYYbCyOgo7_3m3kFyw_qgg7CiQ', '롤접을때가됐나봐': 'RAo3wDnOuLm0nyqlKaLYd1AEVYIWeUEyGCp9IXR7OBGexc4', 'zxckasok': '84SBBRUsQSD1H9ODkmZes247dsVS7UMm7XKhbOsQGkUg5GQOW5xyIhqwhQ', '사샤샤': 'Kmu3UzsB3H9DFqmX0hOyJMxR15Po4-P-_Bzi1uk1JILBAw', '홈런볼 다 내꺼': 'BRRuqZwAfKBM614a9gxrFDr2NJORH1dKhH-JCwab-LPB99g', '역법하면갖다박음': '4Plre_BacOO4UZ2J5p12akgrDbJ-5-CQ-tScbzSqBVtMNCxwbPmbCTbJMw', '돈없어서굶어요': '493Amy6xURQOKQvPYa8OoxK_Wa23O4uz4yAO7XqGF084BqDFS-oCbrTxWA', '16살 안준형': 'txyXiclWijQvYdcRybBGkFOFJ9R4vtfaaZAp5flw6Kicyg', '율 욜': 'viFrQE9ZwsfvzL-HTkdXUTZJiC69hBFsnal1aEFE4LvxV6o', 'Dino 19': 'ZaIH3DSd24xr0M2KL3qj9-rhNPy2vbpQYLmRHL-Z_BKc6GSzmR3kwoceHw', '카타팀 렉사이': 'Mz51JFAZ_UZcPWCkCnlUrLWNZ8k3m3U708ab75ZJuqM07UQ', '효자호진이': '6HDK3iKP9FASn6epxSC0rJ8aMmYAFzlPtb0xybpXW0IeDiw', '매혹으짜니': 'qKWkXV05ssTF4H40h_hUngGSMIp--1xaMZOwj_w5yQhSq04', 'Riris1': 'mTKUUi6P6dluswIzJXm7C7YnX_DwOuysh5k2O9qlWiFxFg', '지조있게': 'cbbj3oehWrFeUj65r9HFOPTRcsO-iJxEF8pnXWHOU-5GtA', 'ITCE': 'VVD3459wqqxuC1fZoDwWKM2kwzJyQDR_6Tcal014v29zhbQ', 'wukelili': 'VVXHL806s0NO5BFekMHXNm9lcu7C0jtdxEk90w5ajpq0iGbT0YkGA5UwQg', '생각할걸': 'QP_Vi0rrR3PFHQ6Kv3HFkDI-dDfyz686JXnHntIy5Oa8Hg', ' youraa': 'G_Yhwmt9RvaMxBKMLWf4OR-fqwUoGbQNeqei_Kp4TUfWr_s', '피그지컬': '6w1-I1cXnDUSokT_Pr8PyNKm5U4U-cDvBzGLW3vxOcxkZso', '신입 유저': 'Rpq7GH2vKIDDJNcMNkCniPxfgpWOTll9ZZrA2bq_XsRqx1U', 'hujianren': '97SJRRubib536DYDUDUhd6sf2Q62atYj3E9Xtpz0zuvpzUZPxb2NGJwo3g', 'Cinder Epilogue': 'YoYZi-bEt8NQK3h9KG7S5waOng2Bpt-_UMuHGx51QD-hwHujnW-5O3_gcQ', 'SSG OTTO': '35ic9U3z6elGrz9dTxeJJKdyMs2V2ZMArHz2oW74gKUZSco', 'zl존포도123': 'NAE28ltd8p3Crd_fyfIkQ4fZt19MXN9Y4PPEN3zqh4QNyp0FNVKTD2qUnA', 'alem123': 'a6syKCzmvxsW0QN_ZSuyEcZ26jrMwAIlq01iEfq9C5cw5W4', 'T1 Yuto': 'urCoR5U3tMeCGkkfjyyIZpqnN_AIwTnZ3Ee-G4CdA60q8LA', 'non mainstream': 'idlogsl-a0OPhqPfG1Pl_RIt3orTDNRb-pVLwPgNToeZR3s', '블린쨩': 'WWIhj9YA5OjX6Lm6BXfKuoYWF-bFNMgO3nn239hz3ElttF4', 'wanfengz': 'TLby9Gk5nMNXIABvQmvdFn6BTiwV-uLycggmnKod1fTd0mzleY1ZzgLGxg', '크으리': 'X9-bg7A3HyFM5xV6UhJMnQvk1yhV2RlheS2Heq8g9lLp8iA', '핫스피': 'ndAjrn4SsOYZIJn3B4majyKiUTAJ3dx0MbrP4ZQFNiLvaLY', 'bie shang tou': 'f8ok_Muu9uxLDlUcQv9ts284ILqRt1vm5TaPdLsvTiPz3Cl3GyEVf36bjQ', 'kr number1 top': '7BtkE-FSSqet9ZbZDs5bbgPVGmlTTTbnkMoDWLqErtUtN0C0VkUdvTBUpA', 'KujoMiki': 'PiWt5oOoCaUjqZeTsjn5ni6sXytjTPvldcmkJrSJy0fuDmS3M-ZRz2sizw', 'GOODBOYK': 'gnDEacx3OD0SqBd58Lg3j2KGrl0hLQf-XrHMTzCWUocKpQI', 'VAOP': 'ErBKLivz9vXYV_6gR7AH1wQ1Z1zXZTJ_kgLn8gRp7SExIg', 'xybbb': 'wAultqTFtRMnDpGn1tilcyDzktR4PeM6TIU1gfvut1uNf0g', 'Miss Korea Jhin': 'X3qrBBcHITDlQ5u64nQJQAoFdmMyPY8exEX7dYPATb_8nA', '백변알콜': 'dTT_LraopxRFg0AYDACdQllltG8wXU9X5x8H4e5sDcmJQaFtGNM9JYopUg', 'acb2xyzasdqwe': 'kxFbADnyQO9_RZZiCLSZPX1EPu53p2YCBcidipW0DRKFjHAxtegPcXHN9Q', '이 선 넘으면 침범이야 삡': 'W8A9uINc7AlX9L_NjdopAD3xo02bbC6Ay2t0PbphuBVjzrdmxnTXlJvYuQ', '때를 기다리다': 'sCae0mlHO3yfGHAMCRCzx_jmc5rqz0962zPfKPi-BvKfx2agT8_2H4YMPw', '노런색': 'gy5wvUehqjMe9AFuvSALe3AW4ThKButiZkZpMJmJGBZDtl8', '챌까지말안함': 'oyVLd6lKDtSrMbbCJfWe27-ULopijnYv6p_Uqoag8RERx0I', '제레누크': '9_VyaA5EjPS9FO2rJ-RKsN5Scp2C9kit8cb9AGYxEt4afA', 'T1 A  KIHYUN ': 'jMlyc7gl70qQ-7NwBBzuKsg7R1hvmqkYjCVMsUUltYKcTjo', 'xing guang': 's76tVK_medgJgF8pXy6MjXEKfN5iRhja9ujnRaEr3une_7pgHbHS-az4Ng', 'Soft ice cream': '-Qt9JIdif4sk66vsoQlHvyLzNS0Tqc8dXxe1WNL-Jxtx48U', '박은빈팬이에요': 'ZK-bL2jAiS_0aHaqRVSwCK_8eJFpA18wH_uy_CcC_IX814aUwWSS7CHqhQ', 'ooyunhi': '1B0tGyT-K29NDbF0LJHaGbIjiI6wOONMb0vWk19_zMnclIreaWsTNBFxWg', '희영대': 'v04D3r6pOAIcX4W60n6yGNAJVT8aaYOvurfZHpSP1OdJfvI', 'lIlIlIlIlIlllI': 'U0f-WDJ_Aa6DU5BDwThdv02MDb8kx2QXBJ_DR7cOCmDxOPQ', '스타1래더S': 'EbGFi1rU1XCai1zsz_VytJztY3xDG_ZJyMg4j8nhb0hsS10', '딜 빡': 'l06TpLVe7Ahrh29svViOpR_jyX1kb91kwV0Gcu1-snDxEmM', 'Migun9': 'bOnDYmPI2J4RQAkXRQ5De8yjiLyeaHKmE-zOUq6mDcCwgno', '커플들 다 쥬거라': 'NNOzJNpALDLzrkRV6607OksJrSFc8KkzsClN2w78Mu09a5Y', '사 솟': 'dMI1Kb-UAxf7MmKAWGOjqieD9ogp0uguZrQvTBdmc4o8UrV46lSu0Wx3Kw', '다시 정신차렸어': 'tb-dL30izntCd2uBdL5Y8jfmCeU5Z4Ndn1rMpivyNLLX1Rc', 'gou feng': '9DimV4lD0KZM8Tj49Y_MNZLyMRedjzyxOVeBjPw9Sz1bV-g', 'kam1satoayaka': 'eQZc71-Wsze-jANbOG9rAAaSalTe1r8-jF2ocfMiE7yxMv-g', 'hf12': 'fflo0VvHs0kPpDEpZJ3X7jBs8t7p2AOH6RF1YRikgoUS9Dh0MiDA7hmmnQ', '어쩌라고맞짱깔까': 'chhYLe_wBOeM-9_NNydGUPZLM_Cm-JGYp0j2vMY-3058oQ', 'Potions': 'UKwsGrDUNJQKosRIwTUa8LFH_yekBfUmw5ISxOYS4tFz0EY', 'mideuneunjalmos': 'vAPykklboLXoMhr_mW3LmVLL_slkmFlFQ1sQnP50VhqjlssnAKQ6mNZcHQ', 'mood3': 'jupz1YUCVtuxi63MFNGQeAm1VDs_rxcIWzEodu8PPMm923bZ5y5NwroJXg', '반새로이': 'RKc7-vz-dItnXa5SXGAEKazoJsbduQgAwJ4odcYjq6O3Cr4', 'Engl1sh': 'sgn6xe1GGT33AW8WY3ESUg30TaqfGBSg-yaOS4dN2OMlnlfeOvWVFjoznQ', '금천구초대형자지': '1lwZ6peGvTOt7mmXexNUM0m1f62slms8ZM1tmzlMKmqHofs', 'Arrest Lux': 'qLpMYjqTMs-Ia-0htIFV5KVpB6cUy5PjP9JGjL_1BiH0Lg', '사죄하는사람1': '2Yv2rbVxICy4-zHhYmozIi-2UDUx3l1EJzx7FwHKsHpaqXs', '하나야마식라인전': '-oOi0mYp9x24GFUOvyJkRurgp-nngIhWWhfNbYTms3lN_II', '오 림': 'k499cOqaUcHrUNjQ3y4_HjJvGYlT3t-VL0jmyYjIACiqcQ', '뚜 앤': 'wqkX-TNJLB8pjQ4cyr0KhAuoG-FpwTIkwyO84E-OAX8bMOOvpTKoRZfwQA', '그랩부터갖다박음': 'XnPvz5G_VMDE_kE0mlMHUTynyJ9km4eGrqrPD4HewnEo-CQ', '평정심을 잃지마': 'd6XQBiWt38jbKexFZxu-WcJqziu707fs0EEPxiiyQVMdocU', '가을 하늘은 맑다': 'npXbo9zbspJPKu3LJh6wssE8hs66CPV_KQ1HXObllAo_IZ4', 'powder1': 'rYrxx-s2n7S2EG1tfBbyntCTHwgnB_OUKdZZ_vR83DxYPGY', 'GSJ': 'Ncp7A7h_yy9pb-esCDPa50MkIq-mBRyKcAz-RxZKLxWIIao', 'hzdx': 'YXX-jOza-2sThpvTaDiDuX4ZROHqxI8F9HUfwfpB_RTE_wCCuaQu6fyw4w', '9358asd': '7-l4LQYo5dJP6GBUiLk5x-pNZbS_7H8qiMJRwzcNUKSpWQ', 'Zankyosanka1': 'vCnMidkBY5yej87yMSBouwQQfKepOVAXGbGHH5tCVRc468BM08kJfmP_ag', 'Snowfly': 'HOxLmm3YKQV7AxZ44meGqJjIwoRfsu8Co2AzX4NFAApO3g4', 'zuihoudezhanyi': 'rDIgSGQOaVddt9IQWVxkjL6MpJsfnOmrkJVLmmjh0jeZNFYs_vpak-C4Sg', 'mute all start 1': 'lsoH1fA5ZLlTMGrW7wawbbk4Oyis7CqgC4MNH3wwM_RRaxs', '하늘색 안개꽃': 'yC-iUY-n7uLoux4OT57OSwvJ45rGuhOxp2Mn1I2Wy-ypbgk', 'Forgive': 'QQ0Q46gIHuaB9_hJutxB44fRkSQeKZ5BRjIsx8YVnn0xNsY', 'honas': 'gFbDCwi3_lAyDDhWe6wXmvLUfYELUlMJ9taXgctAWQruseaNtE_g3iP2eA', '갈 망 하다0': 'kLFWabUQCyp54a-dC2WW1QbPy-0cVbGrfzCyUZla-CqJ_3B4l1Dl7iMLjA', 'Turned to leave': 'S1-lJ2tuhEiJNAJQmm8cNtE4YWsldTnJtO3M2zeXBC10u72sqDJnqL8F6Q', '얼음동동포치타': 'CrTogn7liregkZ867QrceUbGk5vx4-HMqTqTVdvfpQgVfnx6RvcXwTzgTw', '내가홍기완': 'NjkBo4m7frjLpDrFjckjCfiOMrZa8SCWAiIFuu5wzKfYSQ', 'T1 Hunzi': 'KIQuxNf15t74wjc1yIlmYpRxXBF_XBVlHlh3JWjZPuapUSY', '아는척자제': 'VDv9jGBnHESnEEGU0YJTA0PK6uE7Oc5JTD3KNnm5Pl5Gac4', 'wobulijie': 'WJEMuG8ZoLb5EjVvPIxr45tDWaLNGzrbKw2-hdvN4mKmaOA', 'Zhuijizhe6': 'SGI8DSCBMbPkwZHmoPEfpg4A4lIBSbUH6VxXqJWeM2JR2oca', '익산 샤코': 'rYvsinifPwvvQLjSTyeLvEGquUvzqFr9r5AsuUqZxyrrIi4', '큐 지': 'pJ4kDsn5h2vAguXUh9PlOBbwOdRDre8r8A7y9zhdSws8YUo', '거리유지카이팅': '3uc0aqWAQEpyCj3XhJiChuQ7QwTruCmqXsVced6x4Gfq6ejGRYM4Q0kuNw', 'iliiliilillllili': 'XtsvmoJ7-W5yd6OvORiFdU08J02tK-uokHa5uh3n4TpZOQcXkBnuTf19Bw', '갓날드': 'axDmTev8hAuy8PGnJuUZMp5fRjX7VPCodxVCAVeUva_MbDU', 'MAD SCNTST': 'ysfiIdzZmH3JgAAWUd4f8e0bb-JKXATmRQWHoLt6C5c57g', 'World Line': '9JQaZ7I2JExhMCEK-F6jMWpqsc7kp2NQ2xtK-inmDGMdVHCy', 'level': 'XyQgOCZYs1YUEVSV71SItWZBviXhPB7SnL6MKenXwIEug2I', '선비는 아가야': 'hj8e9k6WZExTF9bgtxb13qbebNgNcCladwYdAuGrTvmtU0Huzz5Dni5Bhw', 'psss': 'QxSzVBJv___51oboFCsfph_1MdxExXC-BftefuKy9gEv5_VdCmYgg3e0KQ', '아라드': 'PZ9RwG5DCEsA46fX6ZV5zIdFwTWlsgHd7u9FTmy93GMqfNE', 'CHAN SAY': 'iNL_-J79z-ZsOYTNB7D-vWwm4i6hRFsi8fmO6zQgAtgr7w', 'xiaguang': 'Np63sbsYrCJvX9jIpxpOwN_mZ-9zJzLG2HDFdWnpP1j7Du4', 'Declare': 'N7x-kVmEAFePwK165beFXlD0yNgMYfoffjGMOWRPzDmn9dYyO80Yk_LUSw', '허징으리': 'prz8VzZI2Hzf2X3bfbUPNavWmjxBahPBTrauUE5ol8I-os-FDesbjKxhBw', 'Luv you': 'xLCH4X_7EzP5YtUk9YhBXur-fY0MvgHaxtpu0GKU33VFzS8', 'ecidcb': 'QFBeDumInfW_8dqCFE9TCWo-A_iLoCOP1bCjbkziOUpGs64', 'Introverted Ornn': 'GQ7o_U7MpGWb00LN7lN-0qCs2Mf-Kd9krH4f0UaCOQBqbWw', '한 줌의 여유': '4qVmPOqI-Zx2KhCL9uNuiFqePB7oKArEDBcZrBAp462k9Zs', '김건북극곰': 'N-SevOqEkUrMW6jf0MhBZzprrD__pUAVt80SN2lNeaaL68M', 'lv99 aggressive': 'NTTEsiTkTMAXrAdKIcPNbDJm9oyoxTiK8WeyCTWozMIfiKZ1admMrmgJFw', 'zl존정글짱고수': '3NvTL0AKxa7MljRbU5crombFvKabVmRa0Tvuy1v1GyfOMYc', '프로미엄': 'qF74ixZrJuGakAVefbaqM0V6RrcdL6pmhNZiH13Ducw0JkC9ySokE8o5XQ', '못 찌': '_cW6YnhuoQQwjMwZMMKPpKO4VZPdqbukHieFRJA8RqgCyHocFZbpZt_AIA', '나는 현성': 'mbO37kDt69RIL5tz7Y1ia1DGYUO38taSbxHuTQFYq_lX8Os', '스나킹': 'm-AGSb1qJ5QJoHeMoUfzXB1LqFqnM2qjemwujBYYAzbSDcP5yRyTo1N1yw', 'bsdadserwqewq': 'ykofQhRKZnlT0QyxEEZvqTlmHmtC3T1AlykTguo0IJs0kJU', '따 균 좌': '8B2ogfbY5g7rQ2SGZ4lVsyvPkXs_Gd0FO4FZkOfl0bOd9Sg', '개꼬공띠': 'h01ljEIHSCPoFXw3ibMpYIbw1oCqxdQtCaM9GqQHEVTh5Tc', 'qfwsaewqe231': 'pDdH7wIZ_z75W2-HWGCHfpxQl-fo2wEB7eehq-QqzMbrM_Q', 'HyunJunLee': 'U3qjh2nz5NqJyAHmHyJFARK1NxCYoMz73rJjBoFMKu5oqgY', 'cyr': 'ISad1Vr3VRhMcjkF-k8OD-UEwTmqg9NZOWFq7q0KWRIvo8_U', 'Talking sh1it': 'C80K0UVFCu6_WDaaWBWmXHHxNA_UhF7vj3dfjyRQT-OQN-smMYUsHQgfsQ', '피들연구실장': 'YX69nGXGBWTKw2eanyIo-xs7vAbW0O1fOrD01BNzT0zlxz4', '세준왕자': 'wQTNNrmv6z8535DQ6bJWqytbWeFtbJ4N5qxxrmye-oKdVvw', 'kkompplo': 'bXtTewv8ZrSup1GYJDqHkZOpQ87umlxlxz3xtNEfpyX4hq8', '뽀띠록': '_7H5VCekNwChhJF90YeWNtQEm6zqJ1Pn4F62BQ_h1N233Q', '143167947547': 'CmkDZ8nc0Q82okSllJyLNjwtxWbCzYbc5Ll5bp2LBrrG9KQue0mBu8V3Jw', '진짜 여기까지': 'HkiyEGIXd1TPx6X786DnHPabIF2PtMyCCrZ5mK0x6J-kP70', '불빛 계약': 'b0SgDDNcF2iTA06HjcFy3MpIbbtpzlxf-9oYN4_6ilM_V8k', 'IGqxz1378038730': 'rweBiCaO80iuLQfUkh0-flyiL1fCfgMJwntcMwq4wPu7hPVEOfyZapxGhw', '오산 정글러': '6YPMypzTAMvSxyHo2P9qZVQX-w3EPvBf-i73cbD8-gmZTRE', '드림 IBS 해법 ': 'sK3Ea1WJrEh0NRDwO42UyLvErYS5K2FTEgL5nE8kzoqxJQ', 'Cube desu': 'gIBeLdIML674XX_wFsbdVR2VRSrS5GAz-Un7bnguAKwaew', '다시 천천히': '2Vx9KoV7YZ1cWvM_M713c8Gx_s7nv_9HwYjaGfWBRe-z7cA', '빡 죠': 'Nz0d067Llz6WMLPE81BevM2BJDCLF4gwnO_qEZo3t6n6lQ', 'zhong men dui ju': 'sGaguwTZOXMPFqvJIXI5UqYxWviH8uPcpb6ORup8Dz1qIy-eGF23MOHXOA', '마지막시즌인사람': '-IR-9sfTyTamcNGvnfjexkrjJw8l-NslALu-hq_xjxMNXHQ', '도담동 차은우 ': 'EF2LjHVjDBSALOd9DH7Mw1kt68y3hlVhTKg8DNjFoy5KCiA', '의문의 애니 장인': 'eKDoBTnDvBf144Op2KcS2KOXd94v4gdmwQOQqkMsGlo4dbQ', '인생목표한남더힐': 'KZ0Ff8FVKd3f8JIP1Rbz-erDsxPzPhQoE10Jx-loWAVs-n8', '춘봉박': 'KmFZPlKp5ZiDzExvaZpg9SON5Lvy9KwijL7fYWsS3cysFw', 'Arkshan King': '61UMZLi3NAjwimZQAmSbLTUsEIZ-QDTHenKSljT-Mq6uzQ', 'lolabcd': '-KuAzXgyS9VXKizvJwSJukTwkBnJDwoCFyELKHBuEkRgR9mNlCRjpbVQqw', '어쩔바텀': 'E0scO2Mxwl2X8y1eOkB-jhiQ6sSl1TVaNtADjAvfZmsg4lkd5h-4IXmeCA', '2005MIDKING': 'otAe60yHb-sNmwLY9a5m6aBNChEJsFAGYCFoXeo6eYT70LA', 'T1 Asper': 'NEPkdDS-abY25TZEwMQRxlkENIq0DkAAWVyjXqKWjoq4Udw', '하체야제발이겨줘': 'UlehJlx4OkJIP_v6uMTYc-yml4vIAlITTlSbQcvoMKAc2h0', '김6도9경': 'ByXhOGYDD83D6oBz1DBsoVlJ_yvHfsZuEsUow8H4C_cLWyk', '기므태이': '1nzpr_FEXhcaV7r8L5S_PQ2QZa0AHmpK5hRiENZpnpbFrgE', 'Dive lnto Shine': 'r_3VYjJWY45VqengAf3O3VsDuo8YSFPKz6Lwrvk0biIMLg', '헤픈 만남': 'XujWqndbpcEvSTG3kXwIMAWvwOMaaRAKmtUMVAWRB1OFzPU', '잘먹구잘살기': 'j4sIgqr3zxHpyajiKCZNG3Ric_S9-Dl-nFUzgKwcNTQvnN5Fqq0Yrc3aAw', '새하얀 thigh': 'Q-cGo9-wonWaWinOR2XRiJpM6PAn-UKUvmenbMTDHKyrtg', 'wangzifeibo': 'kI25IyNU1VHtSLXJFgG-lA5iFeLO_mZzcoyYqxNJEbaN__9XexsL1deffQ', '튼튼껍질 청소부': 'Fl6rF8cHdL_-WSY0__0P7y-RIGa-dnazlck6uXZVaHoheB0', 'Try a3ain C1': 'SF5mAfcLo_AI9hlKH8ckqaukblfPLj4tAyRaHuPI10PHqsiGnRjQ-zi89w', '승 관 김': 'PhlisRzhClowX1QnsxIUud9cAK7gja7zy9iBjP74k3w50SU', 'zhendejiade': 'DTrBDKPeBLAE_sZbyF9MjsTNZnGA5sWkfNecH7x584e8YKI', '03 jg klng': 'bUV24wxrSAsfa8FLTRkyikgqCyqC4hyR44rAFs9w8vZuUd5jc1fS01n5LQ', '구갱쓰': 'uRPWR75oSEbLQ3nqIvliKZwi6YvQHg6BbTryDjxZIYK-qP8', 'zhangjiawen2022': 'mZWKaFm9iCO5ZHQh_5uqofw5TnIbaZxaCbId67LXcZZmdPmML_ROk0nz1A', '프롬더스트릿': '8IfqzLEp6ZpJMZKeSPZynVSDzipJnrkacHdPf2GzALjLUE8', '누누버스파업': 'LRXsQbirhzjd5NZUMSylI-KA88qJd7HRqWkq4Hph0duejg', 'C9 Winsome': '_RH0-arf4tq20tprOSP0g2tLE-hXi3c2MEHE_A3JP7WkTec', '엔마왓슨': 'Pr2jWdxYQnEntDnMfZUu8QeO_uTh8kSfZT5COIe4-yIpGvw', 'fantanfantan': 'STbW6d8efDdJoOEKHPZy6pwah-JOnKWCd57UPGi3mFQZnDBZBVhWebN_HA', '아프리카 짹준': '1egusehFuHuRJ81pXVcft-dYzdM34jFGoJjwzm_0qoZSGw', '이탈리야 전문점': 'phTmChAeuqDZA4ShFUtNSpucTczIAlDYFoL1bLT2dBm99ew', 'Eateevv': 'eq4Dchu0vQ4bmZ7iayj_u_2a_pmKWBcStfbSHmxjB6eKNLfkmMvu4U8VYg', '자살하자그냥': 'vELVjhyGWNmjSzraRIWRyOcFT0A0c_gwPVuNHzliUxXzrWo', '태 디 스 틱': 'vyEFPEF1QdF4eIhBUKMPKVkfMJQtv-u2rsJdkiT7-4VakMQW7JtsTH_Sfw', 'SuxinnBaby': 'U7A9vPwAajJXMtsCZNZgIjwGRs601bMlTaGrEwmN735E2cyg1E_Ts1k-Sg', 'Apriorism': '110Jkyv6YXlNCn2N_epwXfiE3hrPQdU_QfSAVeHoqGvaj_s', '트리플 딜도': 'FZDa808-7lYLb9a9z0CuQcHKjGL-ox5-yN9PlunxtD0ARs8BorvSZ9RJlQ', 'Shan Lan': 'FcV7yM7OwOnYSCDwSw5pVdlsbhWODKhXhQ5QX6IiXdfTc9U', '기발한 그브': 'C8ezQV7xQKjNjL5UwWXvAdgRg1ms32T_26UZcWwUxarybNLH2-1Fljn63A', 'sha Wza bazx': 'qJuU4C8N8Kue6ty7p80MF6KMKDMOAhD34sNGMpeopmpNMDI1ANnnpbiXTg', 'jiajun jg': 'YmzsXZAH5VZ60wRz4LrOkV4ByCq7V33QGy1Nw3QyhjCFEc8', '서폿아지켜줘야해': 'C7-NevNhQEVdUvXf24WBnrqSgbyPRUGNpmXslgx4IbaaLsS8lw8HHc2_OQ', 'love sheep': 'TOZUVnfykXnop908FB5Qq6Jon--lsCyFmsnll7fLg9B80ShSsDELcMoygQ', '좀비 클레드': 'imkNShz8uwrxPUN16wPmg03Z8e3kNwxO729742tO0xR0sFw', '버스전복자격증': 'MziCI00wkdcHexzTVt3Kjz0SYSk2cYG-zSZJbxhoFTkaaOE', '무채색의 한남자': 'JrgOQIhEiImY1jQsU8aT2eGWlw-oUOrLWC-hwG03d3biDObm'}\n"
     ]
    }
   ],
   "source": [
    "import requests\n",
    "import json\n",
    "import time\n",
    "import pprint\n",
    "import pandas as pd\n",
    "\n",
    "pp = pprint.PrettyPrinter(indent=4)\n",
    "request_header = {\n",
    "                    \"User-Agent\": \"Mozilla/5.0 (Windows NT 10.0; Win64; x64) AppleWebKit/537.36 (KHTML, like Gecko) Chrome/91.0.4472.164 Safari/537.36\",\n",
    "                    \"Accept-Language\": \"ko,en-US;q=0.9,en;q=0.8,es;q=0.7\",\n",
    "                    \"Accept-Charset\": \"application/x-www-form-urlencoded; charset=UTF-8\",\n",
    "                    \"Origin\": \"https://developer.riotgames.com\",\n",
    "                    \"X-Riot-Token\": 'RGAPI-13ad71e3-3996-477f-a27c-5245b4f8da33'\n",
    "                }\n",
    "\n",
    "# for문 진행률 확인 라이브러리\n",
    "from tqdm import tqdm\n",
    "\n",
    "#제공받은 라이브러리키 입력\n",
    "\n",
    "api_key = 'RGAPI-13ad71e3-3996-477f-a27c-5245b4f8da33'\n",
    "\n",
    "## 소환사의 ID수집\n",
    "url = f'https://kr.api.riotgames.com//lol/spectator/v4/active-games/by-summoner/{encryptedSummonerId}'\n",
    "\n",
    "summonerId = {}\n",
    "\n",
    "r = requests.get(url)\n",
    "r = r.json()['entries']#소환사의 고유 id\n",
    "# print(r.json())\n",
    "\n",
    "num = 0\n",
    "for i in r:\n",
    "#     print(i)\n",
    "#     print(i['summonerId'], i['summonerName'])\n",
    "    summonerId[i['summonerName']] = i['summonerId']\n",
    "\n",
    "    num += 1\n",
    "print(num)\n",
    "print(summonerId)"
   ]
  },
  {
   "cell_type": "code",
   "execution_count": 2,
   "id": "01664b15",
   "metadata": {
    "id": "01664b15",
    "outputId": "a3ab6756-c145-4d76-a18f-0ee44bd40e8d",
    "scrolled": true
   },
   "outputs": [
    {
     "name": "stderr",
     "output_type": "stream",
     "text": [
      "  0%|                                          | 1/1695 [00:00<19:20,  1.46it/s]"
     ]
    },
    {
     "name": "stdout",
     "output_type": "stream",
     "text": [
      "fH2fD0GkhyRMeR9M_yqPoeXrcAPZ8X7ZutQ8c1T821pV0h5y6uyMUZ-qrUXrYBTa1Yv0ehNJ7nO5CA\n"
     ]
    },
    {
     "name": "stderr",
     "output_type": "stream",
     "text": [
      "\r",
      "  0%|                                          | 2/1695 [00:00<12:30,  2.25it/s]"
     ]
    },
    {
     "name": "stdout",
     "output_type": "stream",
     "text": [
      "uzwPA_cqiGA6P2Pkqqnmt1g5btjqRM-2uGrbbYP8qLbMO4Ro0quM4AwilFKimuXdFEaBMDQmrB5lsQ\n"
     ]
    },
    {
     "name": "stderr",
     "output_type": "stream",
     "text": [
      "\r",
      "  0%|                                          | 3/1695 [00:01<10:21,  2.72it/s]"
     ]
    },
    {
     "name": "stdout",
     "output_type": "stream",
     "text": [
      "zW_AzvZhZJXvV4xfnJfjf-7i5MQGyqhTDwyuoBAhVZydisFeSYMO7VIR2Y_8ZCPEF_Iwo11K_ZQieA\n"
     ]
    },
    {
     "name": "stderr",
     "output_type": "stream",
     "text": [
      "\r",
      "  0%|                                          | 4/1695 [00:01<09:19,  3.02it/s]"
     ]
    },
    {
     "name": "stdout",
     "output_type": "stream",
     "text": [
      "Gpcyxdb4cwcG5YobbkjBzpRAZhxJiNDQBaBGxcwwbyr2Xc-T0ZmdJwlML19Csn7q8EYiU7zKLCRwWA\n"
     ]
    },
    {
     "name": "stderr",
     "output_type": "stream",
     "text": [
      "\r",
      "  0%|                                          | 5/1695 [00:02<12:49,  2.19it/s]"
     ]
    },
    {
     "name": "stdout",
     "output_type": "stream",
     "text": [
      "i7NSuw8AfWblj3da3b2EdIz4D7N-ME8qZ022hnlveA7Lku00k-4DejACieBlBkKOMYXEetQIugLObQ\n"
     ]
    },
    {
     "name": "stderr",
     "output_type": "stream",
     "text": [
      "\r",
      "  0%|▏                                         | 6/1695 [00:02<13:14,  2.13it/s]"
     ]
    },
    {
     "name": "stdout",
     "output_type": "stream",
     "text": [
      "x3wCtpCw4cC2A7aB57pPsmKF-fLdribj_hA_0lPKCo17x9cFEXwYhCL3TyUdg6DLstfOOr9bxnm0nw\n"
     ]
    },
    {
     "name": "stderr",
     "output_type": "stream",
     "text": [
      "\r",
      "  0%|▏                                         | 7/1695 [00:02<11:36,  2.42it/s]"
     ]
    },
    {
     "name": "stdout",
     "output_type": "stream",
     "text": [
      "QDAvfKQ8rVylaVYmwDlZnbPILSn49BkbZjGXXfiKFGuKDX1zUZ8BzipiQLnYyUiF2jPwQVFPl9oo0w\n"
     ]
    },
    {
     "name": "stderr",
     "output_type": "stream",
     "text": [
      "\r",
      "  0%|▏                                         | 8/1695 [00:03<10:32,  2.67it/s]"
     ]
    },
    {
     "name": "stdout",
     "output_type": "stream",
     "text": [
      "t1x9AzVDQakRAFRzqR16vY_BCkjmQhxxONCIxd8QTNDf4E54SO1bcQJp3qBMk3OuzGTJ2nKSVtOjaA\n"
     ]
    },
    {
     "name": "stderr",
     "output_type": "stream",
     "text": [
      "\r",
      "  1%|▏                                         | 9/1695 [00:03<09:42,  2.89it/s]"
     ]
    },
    {
     "name": "stdout",
     "output_type": "stream",
     "text": [
      "8HzQ9lzGj0E-9TMJGiWfNQSbYCwyRFLUQu3W_vkVCbKu5dAznxhIsRzSUEYtBYg5fyFpZ0LKPukVSg\n"
     ]
    },
    {
     "name": "stderr",
     "output_type": "stream",
     "text": [
      "\r",
      "  1%|▏                                        | 10/1695 [00:03<09:10,  3.06it/s]"
     ]
    },
    {
     "name": "stdout",
     "output_type": "stream",
     "text": [
      "c_sKGZ0-wVmHJtYFfWagjodZryuem7TUFiWHAYoMIbAG3m_3NK80zjFGz5TrSUnUpUk8bnyikkDc1Q\n",
      "api cost full : infinite loop start\n",
      "loop location :  ikWLlCm7U9qqoHMThjxAeB82lAIVGUrsJGtvbnxD1xteDAk\n",
      "try 10 second wait time\n",
      "429\n",
      "try 10 second wait time\n",
      "429\n",
      "try 10 second wait time\n",
      "429\n",
      "try 10 second wait time\n",
      "429\n",
      "try 10 second wait time\n",
      "429\n",
      "try 10 second wait time\n",
      "429\n",
      "try 10 second wait time\n"
     ]
    },
    {
     "name": "stderr",
     "output_type": "stream",
     "text": [
      "\r",
      "  1%|▏                                     | 11/1695 [01:16<10:29:01, 22.41s/it]"
     ]
    },
    {
     "name": "stdout",
     "output_type": "stream",
     "text": [
      "200\n",
      "total wait time :  72.11832404136658\n",
      "recovery api cost\n",
      "tyD1C7LJsW9P9MMPa-UZc3gWybpqBYZvBwsfQEfkAvzh3-9zVtryCwJZekQR2UAhTFHPOgEP-YCpyw\n"
     ]
    },
    {
     "name": "stderr",
     "output_type": "stream",
     "text": [
      "\r",
      "  1%|▎                                      | 12/1695 [01:16<7:19:54, 15.68s/it]"
     ]
    },
    {
     "name": "stdout",
     "output_type": "stream",
     "text": [
      "6m16CdiOG9bckVKITJy0qwHTfnDJ0UQuiwJeaYdr2B3rZJwhbxRRUPHA4BqlFqNBnASOIc1LbwISBg\n"
     ]
    },
    {
     "name": "stderr",
     "output_type": "stream",
     "text": [
      "\r",
      "  1%|▎                                      | 13/1695 [01:16<5:08:55, 11.02s/it]"
     ]
    },
    {
     "name": "stdout",
     "output_type": "stream",
     "text": [
      "1tuMYUXZ7WJ9Zkh9_boqlw2gQnyb44ugx6skRywc7-RG9yj0bVCriZ9VwebhobVmE1RqtY0y5aUb-Q\n"
     ]
    },
    {
     "name": "stderr",
     "output_type": "stream",
     "text": [
      "\r",
      "  1%|▎                                      | 14/1695 [01:17<3:41:48,  7.92s/it]"
     ]
    },
    {
     "name": "stdout",
     "output_type": "stream",
     "text": [
      "rUSPmXt-80i4nwxgMhC9JQqsS_MESizYa1oz5UWKWFX2qwZCeJLG_uUBdpipYMiVj51fTC5GcB77nQ\n"
     ]
    },
    {
     "name": "stderr",
     "output_type": "stream",
     "text": [
      "\r",
      "  1%|▎                                      | 15/1695 [01:17<2:37:21,  5.62s/it]"
     ]
    },
    {
     "name": "stdout",
     "output_type": "stream",
     "text": [
      "2LKbqZbEFvHcXAIOKlKm1KZXyXBXYptd7uJjqNADhzf-YbBGDumMaiyycW736qsYeDQabpbktLztAA\n"
     ]
    },
    {
     "name": "stderr",
     "output_type": "stream",
     "text": [
      "\r",
      "  1%|▎                                      | 16/1695 [01:18<1:52:44,  4.03s/it]"
     ]
    },
    {
     "name": "stdout",
     "output_type": "stream",
     "text": [
      "m8DinQtTfYhWzep_h4w5xVFAa6VQN0nod5Oz16q6SlJrWKl96E488Rp_AYJAUUPLOEJSgfQRnOd-uw\n"
     ]
    },
    {
     "name": "stderr",
     "output_type": "stream",
     "text": [
      "\r",
      "  1%|▍                                      | 17/1695 [01:18<1:21:14,  2.90s/it]"
     ]
    },
    {
     "name": "stdout",
     "output_type": "stream",
     "text": [
      "dcOxz95zo6mBHGMzZO9ZnmjXiimqIxBHlUoDUBcuUb4682sOdcT9Tw74Z58AK8NGjs57xpWnUi07oQ\n"
     ]
    },
    {
     "name": "stderr",
     "output_type": "stream",
     "text": [
      "\r",
      "  1%|▍                                        | 18/1695 [01:18<59:09,  2.12s/it]"
     ]
    },
    {
     "name": "stdout",
     "output_type": "stream",
     "text": [
      "O9Z-ewtyoX-99hgO2XwwvTCX7wPN2K_PTJCr1PQ9YaEd-Wo03fEIbkICPkvZl4uhsDdIBtu8G44Ssw\n"
     ]
    },
    {
     "name": "stderr",
     "output_type": "stream",
     "text": [
      "\r",
      "  1%|▍                                        | 19/1695 [01:19<43:52,  1.57s/it]"
     ]
    },
    {
     "name": "stdout",
     "output_type": "stream",
     "text": [
      "fVaHIcW-0FX22BcOiLAaxzMSJLwPP0nKPCrpVv0U6ceDtGrEU9yCe5KAEq7iWV-8TKs_bBMmDyEdnw\n"
     ]
    },
    {
     "name": "stderr",
     "output_type": "stream",
     "text": [
      "\r",
      "  1%|▍                                        | 20/1695 [01:19<33:09,  1.19s/it]"
     ]
    },
    {
     "name": "stdout",
     "output_type": "stream",
     "text": [
      "BQh8jMKxXSY8wLYF6JCaaMXkzhBboGQRDZixcwTQzGVML-6E1jHjD1LF7_NJiKT7a3nmGyDleXFyxQ\n"
     ]
    },
    {
     "name": "stderr",
     "output_type": "stream",
     "text": [
      "\r",
      "  1%|▌                                        | 21/1695 [01:19<25:36,  1.09it/s]"
     ]
    },
    {
     "name": "stdout",
     "output_type": "stream",
     "text": [
      "3H7xSYD9xjqrm4iyajTyCXIB50wSj3l-6xSMVwe_NFZfuRn91egegQSJTTCGDfuJ8SgJifMrNLNRSQ\n"
     ]
    },
    {
     "name": "stderr",
     "output_type": "stream",
     "text": [
      "\r",
      "  1%|▌                                        | 22/1695 [01:20<20:57,  1.33it/s]"
     ]
    },
    {
     "name": "stdout",
     "output_type": "stream",
     "text": [
      "Nawe732LvUbe476SM8wNXxFPSFKBEQizQXtSj5Sr_TUa5c4Kc8D7kbeu1swaJFxh1GYs04ZVDf3oOA\n"
     ]
    },
    {
     "name": "stderr",
     "output_type": "stream",
     "text": [
      "\r",
      "  1%|▌                                        | 23/1695 [01:20<18:01,  1.55it/s]"
     ]
    },
    {
     "name": "stdout",
     "output_type": "stream",
     "text": [
      "Tiy8cG9I5XzPjd3Ct2HU3kEv585RbKoilNGEEGG7_EDBi3UK0Tc183ya_Pdap0BHdsbTMBdVPjS_CQ\n"
     ]
    },
    {
     "name": "stderr",
     "output_type": "stream",
     "text": [
      "\r",
      "  1%|▌                                        | 24/1695 [01:20<15:07,  1.84it/s]"
     ]
    },
    {
     "name": "stdout",
     "output_type": "stream",
     "text": [
      "veVoDGtRedLf2WEM-zolcBlKskh-SLgahLywx-VefuokppF23vy3pYMh-T73e3A3W8tluoKhV44U7Q\n"
     ]
    },
    {
     "name": "stderr",
     "output_type": "stream",
     "text": [
      "\r",
      "  1%|▌                                        | 25/1695 [01:21<14:24,  1.93it/s]"
     ]
    },
    {
     "name": "stdout",
     "output_type": "stream",
     "text": [
      "laCp5YjwyOvr37a-ozY1b0IMheIs7qfcNQjKvvrr4kabeuXWKPozEOYrJZJ1q5oZJthY8s7yG0jEYQ\n"
     ]
    },
    {
     "name": "stderr",
     "output_type": "stream",
     "text": [
      "\r",
      "  2%|▋                                        | 26/1695 [01:21<14:59,  1.86it/s]"
     ]
    },
    {
     "name": "stdout",
     "output_type": "stream",
     "text": [
      "LcozeTeJcYNknl-ipJMy8lLZfD3-VghKUoiBsY9bIDwQ3uVZ4YiBhm1e5X4QVoXQq-XJlTjfW9okhQ\n"
     ]
    },
    {
     "name": "stderr",
     "output_type": "stream",
     "text": [
      "\r",
      "  2%|▋                                        | 27/1695 [01:22<13:51,  2.01it/s]"
     ]
    },
    {
     "name": "stdout",
     "output_type": "stream",
     "text": [
      "-t10Zh55o6SDua4IzCLfJziVA-1wc67fhID_RuPVYnKNwVpbHDW9wfKLPwqEpFGAa1Rq6TpdorRbzw\n"
     ]
    },
    {
     "name": "stderr",
     "output_type": "stream",
     "text": [
      "\r",
      "  2%|▋                                        | 28/1695 [01:22<12:28,  2.23it/s]"
     ]
    },
    {
     "name": "stdout",
     "output_type": "stream",
     "text": [
      "rfyKnE4IdHFQBoDsuX-uQhmlvv0LlMYKgsmv1VYqSyaL0MdgLEMf--QsyUq9VPdiRnmfIEWNMqxsRQ\n"
     ]
    },
    {
     "name": "stderr",
     "output_type": "stream",
     "text": [
      "\r",
      "  2%|▋                                        | 29/1695 [01:22<11:04,  2.51it/s]"
     ]
    },
    {
     "name": "stdout",
     "output_type": "stream",
     "text": [
      "aqTrzX7diRtwQzp92GJLPdm3CRQzWHwUB7amppJtm5mIEbW3M-wwIe783pmOs0Geqlhhi95Lt9osrA\n"
     ]
    },
    {
     "name": "stderr",
     "output_type": "stream",
     "text": [
      "\r",
      "  2%|▋                                        | 30/1695 [01:23<10:17,  2.70it/s]"
     ]
    },
    {
     "name": "stdout",
     "output_type": "stream",
     "text": [
      "x--W-bw-mkqTuBKLu6wq4qGx1agDR3JaPyS9DTdJEF9aXO49FlpiszT6a6u1EZEt6kgdA07xplD3hw\n"
     ]
    },
    {
     "name": "stderr",
     "output_type": "stream",
     "text": [
      "\r",
      "  2%|▋                                        | 31/1695 [01:23<10:34,  2.62it/s]"
     ]
    },
    {
     "name": "stdout",
     "output_type": "stream",
     "text": [
      "bdpKGj_nSjhY7WtFXXv3b0muTESRWcAaOTJglz3KystSvmZuccZQv9ObljoJiaLJUpkjkHcabk21Og\n"
     ]
    },
    {
     "name": "stderr",
     "output_type": "stream",
     "text": [
      "\r",
      "  2%|▊                                        | 32/1695 [01:23<10:31,  2.63it/s]"
     ]
    },
    {
     "name": "stdout",
     "output_type": "stream",
     "text": [
      "XmBdF0IqM5fCtfIi1x19c-g0EL9Lyz31XWyyA3YgmGnnrZYuZq-NM2KhqXp3rRweQ85KuWlBy8E1Bg\n"
     ]
    },
    {
     "name": "stderr",
     "output_type": "stream",
     "text": [
      "\r",
      "  2%|▊                                        | 33/1695 [01:24<09:41,  2.86it/s]"
     ]
    },
    {
     "name": "stdout",
     "output_type": "stream",
     "text": [
      "O1XXPKmeiXyGIPYaf9l9b3oHMnxx9ZZpwLn9Qi-sXPwbDCr3UvUBAPtNHLsh4XS0JL5p6X9XUZFODw\n"
     ]
    },
    {
     "name": "stderr",
     "output_type": "stream",
     "text": [
      "\r",
      "  2%|▊                                        | 34/1695 [01:24<10:07,  2.74it/s]"
     ]
    },
    {
     "name": "stdout",
     "output_type": "stream",
     "text": [
      "zQ2Nd-FXGDEXOl4VOkm4JzIm2z4jxGsAb1lYHsDOx2dqBN1-wny-aYYmEMRu73Rjc8iSqqooKUb69Q\n"
     ]
    },
    {
     "name": "stderr",
     "output_type": "stream",
     "text": [
      "\r",
      "  2%|▊                                        | 35/1695 [01:24<09:36,  2.88it/s]"
     ]
    },
    {
     "name": "stdout",
     "output_type": "stream",
     "text": [
      "b8lrEF8gcfpqCg0fZfUyykhEdyzK1Ry9jdkSASwj6VRaA2PEG4zDHFwpB5gVvr2cltkEXfmWkUwCAA\n"
     ]
    },
    {
     "name": "stderr",
     "output_type": "stream",
     "text": [
      "\r",
      "  2%|▊                                        | 36/1695 [01:25<09:43,  2.84it/s]"
     ]
    },
    {
     "name": "stdout",
     "output_type": "stream",
     "text": [
      "Z9kmvjsblp2cdIlAyNhRANuJ7XUXaZQvl3KI_bxHMTe9ZDVX9R-yLIaMvpHqfBgwk-Z-v3gkSHctnA\n"
     ]
    },
    {
     "name": "stderr",
     "output_type": "stream",
     "text": [
      "\r",
      "  2%|▉                                        | 37/1695 [01:25<10:39,  2.59it/s]"
     ]
    },
    {
     "name": "stdout",
     "output_type": "stream",
     "text": [
      "TzAtgYe75Dkm-upgn0NLapyhtHF-HnQ51k61Xz3ubWI6Z4hQYu8xTJpnYgvc5tmdFiLqfo92Z3NuyQ\n"
     ]
    },
    {
     "name": "stderr",
     "output_type": "stream",
     "text": [
      "\r",
      "  2%|▉                                        | 38/1695 [01:26<09:42,  2.84it/s]"
     ]
    },
    {
     "name": "stdout",
     "output_type": "stream",
     "text": [
      "L9BA9Td1FppjnsUJ5Vs6Q8NUF_CnwqPNNkmrNkHHKcVGrUTrPRo0I-wd1YEKYScc_X5q3BeBe_RiAw\n"
     ]
    },
    {
     "name": "stderr",
     "output_type": "stream",
     "text": [
      "\r",
      "  2%|▉                                        | 39/1695 [01:26<09:10,  3.01it/s]"
     ]
    },
    {
     "name": "stdout",
     "output_type": "stream",
     "text": [
      "BKpjd_AZcTtLQFz0fVRJAhL0dI6mzJmmz2vXI-W_AU1BYuMqgirczs-KZphxvBLmln2pobmqfULpsw\n"
     ]
    },
    {
     "name": "stderr",
     "output_type": "stream",
     "text": [
      "\r",
      "  2%|▉                                        | 40/1695 [01:26<08:51,  3.11it/s]"
     ]
    },
    {
     "name": "stdout",
     "output_type": "stream",
     "text": [
      "8CVAppeDicqSfxNCAZ_UCt_Z7v7rJ28tLvtz6KcCTbQEniZ8ak0WyXcD1azko484fUbRHa1V03xOlw\n"
     ]
    },
    {
     "name": "stderr",
     "output_type": "stream",
     "text": [
      "\r",
      "  2%|▉                                        | 41/1695 [01:26<08:33,  3.22it/s]"
     ]
    },
    {
     "name": "stdout",
     "output_type": "stream",
     "text": [
      "Ns6yHcKet5gwMfNAv-P9Vb9kjSrnWoJ3SURz01VOWKXFacS-YFFuwefQel7KUGBnIPuWFlMjo-P0_A\n"
     ]
    },
    {
     "name": "stderr",
     "output_type": "stream",
     "text": [
      "\r",
      "  2%|█                                        | 42/1695 [01:27<08:25,  3.27it/s]"
     ]
    },
    {
     "name": "stdout",
     "output_type": "stream",
     "text": [
      "gfnJOrtdtCARdqmmiIiqfS6yoGxDpRoTzos211MUBvrkycmvsKs2qWIAISxtMsywDVZU-WMjdohXsg\n"
     ]
    },
    {
     "name": "stderr",
     "output_type": "stream",
     "text": [
      "\r",
      "  3%|█                                        | 43/1695 [01:27<08:24,  3.28it/s]"
     ]
    },
    {
     "name": "stdout",
     "output_type": "stream",
     "text": [
      "LeN_0YAdu7gkq0jLSe8bGaEwChqyfAoMOcPuvN0rT0sm6A5Fxw7CDPGyUST9Tig3j9ePln9vrf6YtQ\n"
     ]
    },
    {
     "name": "stderr",
     "output_type": "stream",
     "text": [
      "\r",
      "  3%|█                                        | 44/1695 [01:27<08:13,  3.34it/s]"
     ]
    },
    {
     "name": "stdout",
     "output_type": "stream",
     "text": [
      "hEoaL6sMQukLdFKHK8sITkOtc9rtXRmWd5xHrq8mvQ_vnwbKo9mOJ6FBaVyd0vJrG5VNDrd-8QQThw\n"
     ]
    },
    {
     "name": "stderr",
     "output_type": "stream",
     "text": [
      "\r",
      "  3%|█                                        | 45/1695 [01:28<09:22,  2.93it/s]"
     ]
    },
    {
     "name": "stdout",
     "output_type": "stream",
     "text": [
      "Gm4u_yIhHHFcNdMNQrX-qUVY1FOktaWRgceViNwvAM6vGuRncj4wCi0byB8Io8i12Xf5v0xFgCsOWQ\n"
     ]
    },
    {
     "name": "stderr",
     "output_type": "stream",
     "text": [
      "\r",
      "  3%|█                                        | 46/1695 [01:28<09:34,  2.87it/s]"
     ]
    },
    {
     "name": "stdout",
     "output_type": "stream",
     "text": [
      "oaA_Q-79yF57hp0PbA1XOx3O8_JHcahUu9pkVmS4Hw7b6J4FJdDnNmio2vByCfSLSRLmTZ7TSU6hBQ\n"
     ]
    },
    {
     "name": "stderr",
     "output_type": "stream",
     "text": [
      "\r",
      "  3%|█▏                                       | 47/1695 [01:28<09:12,  2.98it/s]"
     ]
    },
    {
     "name": "stdout",
     "output_type": "stream",
     "text": [
      "Jtd-fuMETtmqat5zU7oBJ4ukHJhucHMqYppLZW-K2ZvbdMueQo-EdKlw5ucr2w7dqzr_MWYNuNtDUg\n"
     ]
    },
    {
     "name": "stderr",
     "output_type": "stream",
     "text": [
      "\r",
      "  3%|█▏                                       | 48/1695 [01:29<10:16,  2.67it/s]"
     ]
    },
    {
     "name": "stdout",
     "output_type": "stream",
     "text": [
      "vRvMFY7uTAx0xZIWJw1pL4hDjfGTd-CMX9DJxryD8S-qzl0CUY-1Sj6kEVzxCh8SaiRFzRaOFbuu6g\n"
     ]
    },
    {
     "name": "stderr",
     "output_type": "stream",
     "text": [
      "\r",
      "  3%|█▏                                       | 49/1695 [01:29<09:39,  2.84it/s]"
     ]
    },
    {
     "name": "stdout",
     "output_type": "stream",
     "text": [
      "f60buaNtQBtyrVe172xpiiN3bAa3JjlYi2WV2_M_4YDMvubhRtN1yleCGxtUbEfvG-Vk1fWD_QghWA\n"
     ]
    },
    {
     "name": "stderr",
     "output_type": "stream",
     "text": [
      "\r",
      "  3%|█▏                                       | 50/1695 [01:30<09:59,  2.74it/s]"
     ]
    },
    {
     "name": "stdout",
     "output_type": "stream",
     "text": [
      "JIK9eUlDW56YvsgXqGuvlV0lvrbAVLnnmeQdn8Ykc5BWRNvveG2tHtT8BUDCPeNZ5EccZ1EC9XANwA\n"
     ]
    },
    {
     "name": "stderr",
     "output_type": "stream",
     "text": [
      "\r",
      "  3%|█▏                                       | 51/1695 [01:30<09:20,  2.93it/s]"
     ]
    },
    {
     "name": "stdout",
     "output_type": "stream",
     "text": [
      "8SU7Yl__L9c9FbB7FudLhBuqHJEb6_ysZmBw-7Js6R-OZKO6naqvndK8V8K7k0CW5d24AZo6_vjkfQ\n"
     ]
    },
    {
     "name": "stderr",
     "output_type": "stream",
     "text": [
      "\r",
      "  3%|█▎                                       | 52/1695 [01:30<08:43,  3.14it/s]"
     ]
    },
    {
     "name": "stdout",
     "output_type": "stream",
     "text": [
      "cHgDvZAY3P7nsM2SPKn1wGHnmyYC9_LnIbvjmfcIbYOZjx2iG_ifoBCjNSfSQ5RQPUx4CoWgiZk8BQ\n"
     ]
    },
    {
     "name": "stderr",
     "output_type": "stream",
     "text": [
      "\r",
      "  3%|█▎                                       | 53/1695 [01:30<08:23,  3.26it/s]"
     ]
    },
    {
     "name": "stdout",
     "output_type": "stream",
     "text": [
      "Mu5LiYu53b8FkuZQPecuP4oIk8d7TEk0dwFFhpGEB9ynX9-ARIK_enzgYL58K5lxJWaXJmMrbCyY3Q\n"
     ]
    },
    {
     "name": "stderr",
     "output_type": "stream",
     "text": [
      "\r",
      "  3%|█▎                                       | 54/1695 [01:31<08:08,  3.36it/s]"
     ]
    },
    {
     "name": "stdout",
     "output_type": "stream",
     "text": [
      "J6xZgsqSPMmRiZDK3cI6RhDRoemETXW-ygnCJzvsp407vRqPkIV2ph5AZvKdlIHcyTbC0HcByrpIeg\n"
     ]
    },
    {
     "name": "stderr",
     "output_type": "stream",
     "text": [
      "\r",
      "  3%|█▎                                       | 55/1695 [01:31<08:01,  3.41it/s]"
     ]
    },
    {
     "name": "stdout",
     "output_type": "stream",
     "text": [
      "JnNJrnVo5Q5jMgjIMlFwsnKJb5CryqveBhaH__RqmjRJSrd2TaO_r17qmGcEPy8-xrJV8tw1S66i2g\n"
     ]
    },
    {
     "name": "stderr",
     "output_type": "stream",
     "text": [
      "\r",
      "  3%|█▎                                       | 56/1695 [01:31<08:10,  3.34it/s]"
     ]
    },
    {
     "name": "stdout",
     "output_type": "stream",
     "text": [
      "u5zb9pS7QaTfg13swIBctJp_S9k4qe132FAbeK9YrYAem5-pQUuKmgZQIXrDp5DH7frlVuCoA5rCmQ\n"
     ]
    },
    {
     "name": "stderr",
     "output_type": "stream",
     "text": [
      "\r",
      "  3%|█▍                                       | 57/1695 [01:32<09:03,  3.01it/s]"
     ]
    },
    {
     "name": "stdout",
     "output_type": "stream",
     "text": [
      "nbWfDVKCqIkpCyWRj6zvDy0xXcHNLYuwtTggr24t4K7QZYQtny_t_PaJFm_4bkcVJBI_JwJWXQgLNg\n"
     ]
    },
    {
     "name": "stderr",
     "output_type": "stream",
     "text": [
      "\r",
      "  3%|█▍                                       | 58/1695 [01:32<09:06,  2.99it/s]"
     ]
    },
    {
     "name": "stdout",
     "output_type": "stream",
     "text": [
      "ikTnGmim2vEu56xIxz5Xj0szydR8FZrNXQ12gDAPnK-teD_eXZf4Oq7tqEftFdycFRubrtcmmH0m9A\n"
     ]
    },
    {
     "name": "stderr",
     "output_type": "stream",
     "text": [
      "\r",
      "  3%|█▍                                       | 59/1695 [01:32<08:41,  3.14it/s]"
     ]
    },
    {
     "name": "stdout",
     "output_type": "stream",
     "text": [
      "SRksRh0RaGPl4-KImPkTXanDB-1dgTwVOJKUly9CNZT46Ge_WfKvfUL5SCAk1LaqtOB95hocP4uz0w\n",
      "api cost full : infinite loop start\n",
      "loop location :  gdjZGc5Wah65waIxAKmwT9GCpEstgL5tMU2jcbiCQgrX9ofm\n",
      "try 10 second wait time\n",
      "429\n",
      "try 10 second wait time\n",
      "429\n",
      "try 10 second wait time\n",
      "429\n",
      "try 10 second wait time\n",
      "429\n",
      "try 10 second wait time\n",
      "429\n",
      "try 10 second wait time\n",
      "429\n",
      "try 10 second wait time\n",
      "429\n",
      "try 10 second wait time\n",
      "429\n",
      "try 10 second wait time\n",
      "429\n",
      "try 10 second wait time\n"
     ]
    },
    {
     "name": "stderr",
     "output_type": "stream",
     "text": [
      "\r",
      "  4%|█▎                                    | 60/1695 [03:16<14:17:46, 31.48s/it]"
     ]
    },
    {
     "name": "stdout",
     "output_type": "stream",
     "text": [
      "200\n",
      "total wait time :  103.93257427215576\n",
      "recovery api cost\n",
      "ZROmMH9gMSfVFTYNoPKzpwfnQs8dtWdPGyja-N_49JR9cWKyZInjKZcbp88FMRv8spRHsN3xSpHxZQ\n"
     ]
    },
    {
     "name": "stderr",
     "output_type": "stream",
     "text": [
      "\r",
      "  4%|█▎                                    | 61/1695 [03:18<10:08:59, 22.36s/it]"
     ]
    },
    {
     "name": "stdout",
     "output_type": "stream",
     "text": [
      "J554BVVqxZFbJ7iPhBvqokkRVTWMf_D3V-rYhVYterLi704IR7QJH_4gTGeJn08UdKNPCjIJbxOH4A\n"
     ]
    },
    {
     "name": "stderr",
     "output_type": "stream",
     "text": [
      "\r",
      "  4%|█▍                                     | 62/1695 [03:18<7:12:43, 15.90s/it]"
     ]
    },
    {
     "name": "stdout",
     "output_type": "stream",
     "text": [
      "rVNG5VgtnH9w1W3PXQVOK3LgswAZBgAFqlo8tPBTM9tyb-RpeYk-jFi3KBx0MGS4qoB8quSui3qqpQ\n"
     ]
    },
    {
     "name": "stderr",
     "output_type": "stream",
     "text": [
      "\r",
      "  4%|█▍                                     | 63/1695 [03:19<5:05:28, 11.23s/it]"
     ]
    },
    {
     "name": "stdout",
     "output_type": "stream",
     "text": [
      "vkfTYxoLskvsI0Kr0XquFBqKnHORLxPwSXNo4W87Z3i0pLv4Hei5aRci4ZJmTEvLU5qhzQZiFO9_vw\n"
     ]
    },
    {
     "name": "stderr",
     "output_type": "stream",
     "text": [
      "\r",
      "  4%|█▍                                     | 64/1695 [03:19<3:36:18,  7.96s/it]"
     ]
    },
    {
     "name": "stdout",
     "output_type": "stream",
     "text": [
      "nuY-8wHOopmNWpgU3aIrl8nsOzsW5bZGcDCU9WECkjPqwi86Bi4fpPbao9ijjMpdva1eePuYlrSwdw\n"
     ]
    },
    {
     "name": "stderr",
     "output_type": "stream",
     "text": [
      "\r",
      "  4%|█▍                                     | 65/1695 [03:20<2:38:27,  5.83s/it]"
     ]
    },
    {
     "name": "stdout",
     "output_type": "stream",
     "text": [
      "Ij--tILhc2DYy2E6UEc7tz8IXpB5Lt9KOaUQjQekX5eE4NmytJiPdohdk2crp7XPbBYrNmseLTdbIw\n"
     ]
    },
    {
     "name": "stderr",
     "output_type": "stream",
     "text": [
      "\r",
      "  4%|█▌                                     | 66/1695 [03:21<2:00:03,  4.42s/it]"
     ]
    },
    {
     "name": "stdout",
     "output_type": "stream",
     "text": [
      "MDRcVqBRaTXO36EAPpV21RqfWl8OszbqT18OmD1ubUYcePTS5zaihgjNSvt_YEkE-fl249PdhpwD7w\n"
     ]
    },
    {
     "name": "stderr",
     "output_type": "stream",
     "text": [
      "\r",
      "  4%|█▌                                     | 67/1695 [03:21<1:26:27,  3.19s/it]"
     ]
    },
    {
     "name": "stdout",
     "output_type": "stream",
     "text": [
      "84SytfimPmgRVfFaAY_P7x1xCQFDdMwcnlRxJNzNDLUlpn2Vqdkzxa2dZWtzpvT1s1S4YuJNDLtfHA\n"
     ]
    },
    {
     "name": "stderr",
     "output_type": "stream",
     "text": [
      "\r",
      "  4%|█▌                                     | 68/1695 [03:22<1:03:06,  2.33s/it]"
     ]
    },
    {
     "name": "stdout",
     "output_type": "stream",
     "text": [
      "4wDdaZO0hNUE96Qnc0iOPPp9w92BIiJX1kb1e1jCU89XUpqrYsA4cxEgxo7ccXLnzSNY73r5XDzG0g\n"
     ]
    },
    {
     "name": "stderr",
     "output_type": "stream",
     "text": [
      "\r",
      "  4%|█▋                                       | 69/1695 [03:22<50:41,  1.87s/it]"
     ]
    },
    {
     "name": "stdout",
     "output_type": "stream",
     "text": [
      "pPh6xgddx6gdaql7WxLwRiE3LVqOoqX2P5Z1uF660n4TZYW6ByNq-oDLbgw2o9dcZ3dtCZJjAeIIQQ\n"
     ]
    },
    {
     "name": "stderr",
     "output_type": "stream",
     "text": [
      "\r",
      "  4%|█▋                                       | 70/1695 [03:23<37:42,  1.39s/it]"
     ]
    },
    {
     "name": "stdout",
     "output_type": "stream",
     "text": [
      "GsUtZlbxpiR5uWutIUrLDiaAajfgmySioKig-yw08so500EhIhJwUycS_I2EDswd6By1RrJvGX3nCg\n"
     ]
    },
    {
     "name": "stderr",
     "output_type": "stream",
     "text": [
      "\r",
      "  4%|█▋                                       | 71/1695 [03:23<31:35,  1.17s/it]"
     ]
    },
    {
     "name": "stdout",
     "output_type": "stream",
     "text": [
      "SvXgget_lGArih4TQ6Dg3elayDF4jU6xOGxFj4nd5xsfWRJv_-oWfasNuALs8xB2Ef5XMCgS2g4-dQ\n"
     ]
    },
    {
     "name": "stderr",
     "output_type": "stream",
     "text": [
      "\r",
      "  4%|█▋                                       | 72/1695 [03:24<28:08,  1.04s/it]"
     ]
    },
    {
     "name": "stdout",
     "output_type": "stream",
     "text": [
      "q0r7ZykCSksJ9O0q_9dy9HYHOKBoUBW8Zi4pnfzLmNIA8l_Emi7yqMUAWXmcbalLxEtkwNeeEk_uKA\n"
     ]
    },
    {
     "name": "stderr",
     "output_type": "stream",
     "text": [
      "\r",
      "  4%|█▊                                       | 73/1695 [03:24<22:09,  1.22it/s]"
     ]
    },
    {
     "name": "stdout",
     "output_type": "stream",
     "text": [
      "JBbxrjoHOp5rnlnoFzwpQYkkysJvkeyYGe6uGv9v9DZuHLVfl0FMfvYnyD40kPHEF2U4cUGI5iSU5g\n"
     ]
    },
    {
     "name": "stderr",
     "output_type": "stream",
     "text": [
      "\r",
      "  4%|█▊                                       | 74/1695 [03:25<18:31,  1.46it/s]"
     ]
    },
    {
     "name": "stdout",
     "output_type": "stream",
     "text": [
      "0F7jjIlN6QPpSA7P8jZQP8Rb0I6oNg9563qb1rxqitRD2Eadkgtkzc3tnaAgRtv7gm5jSedbjfUkKQ\n"
     ]
    },
    {
     "name": "stderr",
     "output_type": "stream",
     "text": [
      "\r",
      "  4%|█▊                                       | 75/1695 [03:25<15:09,  1.78it/s]"
     ]
    },
    {
     "name": "stdout",
     "output_type": "stream",
     "text": [
      "IX4YNm5urW1dQAcmc6FuH2bkSuQ-UzemkvTODXkzkbvtQY3QvjJcwJJCcgmpHyML4jBY2jL97-b1gw\n"
     ]
    },
    {
     "name": "stderr",
     "output_type": "stream",
     "text": [
      "\r",
      "  4%|█▊                                       | 76/1695 [03:25<12:54,  2.09it/s]"
     ]
    },
    {
     "name": "stdout",
     "output_type": "stream",
     "text": [
      "dZ2kU-RLfoSDfrWA6aDPSAgXkYf_RLAdB2DGeo7oHD9DlbVM-54hq-GHsEZpIh5cxNk2NlM_GXhZ8w\n"
     ]
    },
    {
     "name": "stderr",
     "output_type": "stream",
     "text": [
      "\r",
      "  5%|█▊                                       | 77/1695 [03:26<11:23,  2.37it/s]"
     ]
    },
    {
     "name": "stdout",
     "output_type": "stream",
     "text": [
      "L8FsEv2am_NDyVyKgrvgaVb_IH_9zAPvk5WpsZZi45HuRsjp2v8posqpX2YjT4NN3MV1Wmg6tL-fEQ\n"
     ]
    },
    {
     "name": "stderr",
     "output_type": "stream",
     "text": [
      "\r",
      "  5%|█▉                                       | 78/1695 [03:26<10:26,  2.58it/s]"
     ]
    },
    {
     "name": "stdout",
     "output_type": "stream",
     "text": [
      "xuuQWHKKh0uqgS5Nj4oKO4ijEqnzoK_KxO0DpPgqbG65tF25JUi3NKhS3oOy52pVqOdE8zZIMVM2vg\n"
     ]
    },
    {
     "name": "stderr",
     "output_type": "stream",
     "text": [
      "\r",
      "  5%|█▉                                       | 79/1695 [03:26<11:03,  2.44it/s]"
     ]
    },
    {
     "name": "stdout",
     "output_type": "stream",
     "text": [
      "0cw6NfpmntQo_WL6GFHaOhOqN32TvFsxwjJLjtP6nJC47rLfGYbhpKrpvixxGVmYvcVNydeYC2zvnw\n"
     ]
    },
    {
     "name": "stderr",
     "output_type": "stream",
     "text": [
      "\r",
      "  5%|█▉                                       | 80/1695 [03:27<10:12,  2.64it/s]"
     ]
    },
    {
     "name": "stdout",
     "output_type": "stream",
     "text": [
      "z6KhQGfqD2dGMkLSl5kybAJXbGszgMOZJGm_5AJorRwsDEoPs3K0LM6abm0iNzcJ9A_6ndibPXhg3A\n"
     ]
    },
    {
     "name": "stderr",
     "output_type": "stream",
     "text": [
      "\r",
      "  5%|█▉                                       | 81/1695 [03:27<10:43,  2.51it/s]"
     ]
    },
    {
     "name": "stdout",
     "output_type": "stream",
     "text": [
      "PU3RAHvxRhM6fE6qY6VhksiFt_c-IwTX3kG2G2s7DOMqmqU5WETzoNfX7zQr3x_rT9V9ZWZgwQuzww\n"
     ]
    },
    {
     "name": "stderr",
     "output_type": "stream",
     "text": [
      "\r",
      "  5%|█▉                                       | 82/1695 [03:28<14:06,  1.91it/s]"
     ]
    },
    {
     "name": "stdout",
     "output_type": "stream",
     "text": [
      "n7D4yLMVfxeV8KSKlkhonBDIoOcAg_Vn4AZx1R3fyIOUxuId-v8Z0kYFjAe5ywzB0XadUZRyRmpkjg\n"
     ]
    },
    {
     "name": "stderr",
     "output_type": "stream",
     "text": [
      "\r",
      "  5%|██                                       | 83/1695 [03:28<12:51,  2.09it/s]"
     ]
    },
    {
     "name": "stdout",
     "output_type": "stream",
     "text": [
      "m1W1wX4f-AIkJbOE69J6S9CZC_G4L7FaC2ewiIcVrisHFITSReZir1NVXEUG_6D2z8OsGLR732auKg\n"
     ]
    },
    {
     "name": "stderr",
     "output_type": "stream",
     "text": [
      "\r",
      "  5%|██                                       | 84/1695 [03:29<11:47,  2.28it/s]"
     ]
    },
    {
     "name": "stdout",
     "output_type": "stream",
     "text": [
      "_NlDBstcDS8VFGQnprRpuwbvn4NfO_6ll13m0g6ddCBJxKtpQbGXTSCgcgkJ9YzK7z9ENFUYyYkI1A\n"
     ]
    },
    {
     "name": "stderr",
     "output_type": "stream",
     "text": [
      "\r",
      "  5%|██                                       | 85/1695 [03:29<10:38,  2.52it/s]"
     ]
    },
    {
     "name": "stdout",
     "output_type": "stream",
     "text": [
      "ErnWJfSHM7b4mHzQU8mE7Ymlp8bUZhqNa5RowlNqxb_7vJ1iWVUGqETF5AcCszPLF_kf9UK-_MixGQ\n"
     ]
    },
    {
     "name": "stderr",
     "output_type": "stream",
     "text": [
      "\r",
      "  5%|██                                       | 86/1695 [03:29<09:49,  2.73it/s]"
     ]
    },
    {
     "name": "stdout",
     "output_type": "stream",
     "text": [
      "Uv4xm1cC3_WiqNL89GPxmRaFDzi_vASXaVEE1DMPgiPQNBflTTzWlc_ccFUZkr89Mq2Zb-rmrFf2AQ\n"
     ]
    },
    {
     "name": "stderr",
     "output_type": "stream",
     "text": [
      "\r",
      "  5%|██                                       | 87/1695 [03:30<09:10,  2.92it/s]"
     ]
    },
    {
     "name": "stdout",
     "output_type": "stream",
     "text": [
      "diNEUKCrXHFgbh9G225nmf8sGrcuiRKBoAlT-OhP_NOI4tsEEG8GwjSmyw7wxGON_JnZRw3M0IuRuA\n"
     ]
    },
    {
     "name": "stderr",
     "output_type": "stream",
     "text": [
      "\r",
      "  5%|██▏                                      | 88/1695 [03:30<08:43,  3.07it/s]"
     ]
    },
    {
     "name": "stdout",
     "output_type": "stream",
     "text": [
      "mNzu5gbLimfXlDJ9VIFq9ZxLIpKAIA1EPuUz3mRaIIZmP33Ux3a2FgX4JOvbI9RuMZMpvUHTxjI_TA\n"
     ]
    },
    {
     "name": "stderr",
     "output_type": "stream",
     "text": [
      "\r",
      "  5%|██▏                                      | 89/1695 [03:30<08:26,  3.17it/s]"
     ]
    },
    {
     "name": "stdout",
     "output_type": "stream",
     "text": [
      "cg3r9I1W5248eKkRqidhFBjAr2ahmCb6u2PHSz1z3ojkdHFFaxCZX07PgwTkS7smCDa8-LVlKfX6sw\n"
     ]
    },
    {
     "name": "stderr",
     "output_type": "stream",
     "text": [
      "\r",
      "  5%|██▏                                      | 90/1695 [03:30<08:15,  3.24it/s]"
     ]
    },
    {
     "name": "stdout",
     "output_type": "stream",
     "text": [
      "W0WyrBiCcehlMXXLAVQn1DmkIyNj6oxeamv33VjF2ldU8TkID1qLYqBmq8aFCLR60Npi-v3WZurNbA\n"
     ]
    },
    {
     "name": "stderr",
     "output_type": "stream",
     "text": [
      "\r",
      "  5%|██▏                                      | 91/1695 [03:31<08:04,  3.31it/s]"
     ]
    },
    {
     "name": "stdout",
     "output_type": "stream",
     "text": [
      "5Eu60AREWO_yc71oTcmmAiNfa5UtpB-LFnvcqZET4avpzO62mXK-IIqRhz2P-gmJcplVX8nEGGHhdw\n"
     ]
    },
    {
     "name": "stderr",
     "output_type": "stream",
     "text": [
      "\r",
      "  5%|██▏                                      | 92/1695 [03:31<08:17,  3.22it/s]"
     ]
    },
    {
     "name": "stdout",
     "output_type": "stream",
     "text": [
      "mG_TUnvalxhmpHtJ-A8G5yFl-oHIM7dMnZCFh2ackicouWvh65UgDK5y2jeegd9JTUoq5D_LQSu-OQ\n"
     ]
    },
    {
     "name": "stderr",
     "output_type": "stream",
     "text": [
      "\r",
      "  5%|██▏                                      | 93/1695 [03:31<08:05,  3.30it/s]"
     ]
    },
    {
     "name": "stdout",
     "output_type": "stream",
     "text": [
      "DVMcU-k6BJ48nTKC6hEfR7_3Vn_ZT6bPziV0Vo0DKzK7_kBxL-wW38Cstj7NHupGC0_RoIEfnZHOMA\n"
     ]
    },
    {
     "name": "stderr",
     "output_type": "stream",
     "text": [
      "\r",
      "  6%|██▎                                      | 94/1695 [03:32<08:18,  3.21it/s]"
     ]
    },
    {
     "name": "stdout",
     "output_type": "stream",
     "text": [
      "7uJTA0fZ6xHqxZUy0OKMpNglNQRWxVva6rn_dZwtbNyPtE67_Rw9emWPG0X_H5z4PFJXleaeEAtlyA\n"
     ]
    },
    {
     "name": "stderr",
     "output_type": "stream",
     "text": [
      "\r",
      "  6%|██▎                                      | 95/1695 [03:32<09:38,  2.77it/s]"
     ]
    },
    {
     "name": "stdout",
     "output_type": "stream",
     "text": [
      "VSa8k3_EASsakkIPceFwCeeyRPPXhtOFVMCBGANKfRWRHMxzKsS-rhyvHqjpG8KCTMsIly56hCIs_Q\n"
     ]
    },
    {
     "name": "stderr",
     "output_type": "stream",
     "text": [
      "\r",
      "  6%|██▎                                      | 96/1695 [03:33<10:10,  2.62it/s]"
     ]
    },
    {
     "name": "stdout",
     "output_type": "stream",
     "text": [
      "jkOgJJcnpZl7EOw6TSxGBY_dpV1XLK00d8K4XoXXrhYpcR8VM2nJpctVYu-mXNvUUxFJpx_SqW0TGg\n"
     ]
    },
    {
     "name": "stderr",
     "output_type": "stream",
     "text": [
      "\r",
      "  6%|██▎                                      | 97/1695 [03:33<10:30,  2.54it/s]"
     ]
    },
    {
     "name": "stdout",
     "output_type": "stream",
     "text": [
      "LVN6u5EnQwIiGsG6n2vAlCHBEH-K-P3DgfomfNb7guizk5-dXWe4yLF1Oz4IeN3C_sxW6kcSZ1dbxQ\n"
     ]
    },
    {
     "name": "stderr",
     "output_type": "stream",
     "text": [
      "\r",
      "  6%|██▎                                      | 98/1695 [03:33<09:43,  2.74it/s]"
     ]
    },
    {
     "name": "stdout",
     "output_type": "stream",
     "text": [
      "mkmf77AOeDEvKXPZ3p24f_55RLZANBRq-EebL-oMWCEwYBZmaKq837VyDnoO17a0rAM-Rzwp1K5Mqg\n"
     ]
    },
    {
     "name": "stderr",
     "output_type": "stream",
     "text": [
      "\r",
      "  6%|██▍                                      | 99/1695 [03:34<09:07,  2.92it/s]"
     ]
    },
    {
     "name": "stdout",
     "output_type": "stream",
     "text": [
      "O2db1oToLVwsNiqpuf7Lo5yIXTzmQZK-2AyRNU0yDnDqsPt8SV4IWA53up7D53PauvMvjwerZr6JbQ\n"
     ]
    },
    {
     "name": "stderr",
     "output_type": "stream",
     "text": [
      "\r",
      "  6%|██▎                                     | 100/1695 [03:34<08:39,  3.07it/s]"
     ]
    },
    {
     "name": "stdout",
     "output_type": "stream",
     "text": [
      "tA-9c0qYmrJCqYOpUIuvsymNGt8tMIQy0QpX4KB4tBHaEaEg5NgcneFosH55RYsuPklG-HQ4rUiD3A\n"
     ]
    },
    {
     "name": "stderr",
     "output_type": "stream",
     "text": [
      "\r",
      "  6%|██▍                                     | 101/1695 [03:34<08:45,  3.03it/s]"
     ]
    },
    {
     "name": "stdout",
     "output_type": "stream",
     "text": [
      "4Vi2Jq3pzxg7_Tqv6io9P0vkwAPzjTJNsMi461cgI3s1jgehoRTfCO75mvhEaGabvIoqp7p-53CsdA\n"
     ]
    },
    {
     "name": "stderr",
     "output_type": "stream",
     "text": [
      "\r",
      "  6%|██▍                                     | 102/1695 [03:35<08:31,  3.12it/s]"
     ]
    },
    {
     "name": "stdout",
     "output_type": "stream",
     "text": [
      "ZRvsyVqLlSclqw2F_hg8p0QilJNkzYtbQ9aE3tWjo5HBnr5UAojmREOQP7PkTQ7D8ybKH-Lf1RQrDg\n"
     ]
    },
    {
     "name": "stderr",
     "output_type": "stream",
     "text": [
      "\r",
      "  6%|██▍                                     | 103/1695 [03:35<08:14,  3.22it/s]"
     ]
    },
    {
     "name": "stdout",
     "output_type": "stream",
     "text": [
      "WtnDvvLWUCsC54NYuQtYqLC_YGfJrR78jjfmHyyH4gD3sB29yd4wsZ14rZeFoyIdiVTxEteoLW1TmQ\n"
     ]
    },
    {
     "name": "stderr",
     "output_type": "stream",
     "text": [
      "\r",
      "  6%|██▍                                     | 104/1695 [03:35<08:04,  3.29it/s]"
     ]
    },
    {
     "name": "stdout",
     "output_type": "stream",
     "text": [
      "MfKIrYNjPcU1vY1KBgD46ldDLZ3f4bL2PBaYNVp3Lo-g5QGi0zOsnhoIZJUK99-JuI59i0rlpj8B0A\n"
     ]
    },
    {
     "name": "stderr",
     "output_type": "stream",
     "text": [
      "\r",
      "  6%|██▍                                     | 105/1695 [03:35<08:03,  3.29it/s]"
     ]
    },
    {
     "name": "stdout",
     "output_type": "stream",
     "text": [
      "eSK2qC4qBTT7KIwZHS_CL3oJze7QQMslztM4A3bBSxJ92PcAPgP3svQbKhriyrDkPvFqQUfcxiJdxw\n"
     ]
    },
    {
     "name": "stderr",
     "output_type": "stream",
     "text": [
      "\r",
      "  6%|██▌                                     | 106/1695 [03:36<07:52,  3.36it/s]"
     ]
    },
    {
     "name": "stdout",
     "output_type": "stream",
     "text": [
      "wq_XtM8GEUQIiYhA3cLJa_nomyjFl65lmZxxrUDFk_AArr_e3KF-RLgVPvfknPwbU1z3_ya2mTBAkg\n"
     ]
    },
    {
     "name": "stderr",
     "output_type": "stream",
     "text": [
      "\r",
      "  6%|██▌                                     | 107/1695 [03:36<07:47,  3.39it/s]"
     ]
    },
    {
     "name": "stdout",
     "output_type": "stream",
     "text": [
      "Bjf55f6gle41PTAz-lD1F9tGxem4-ZSr9mlsn4DXffH1IYKD8At-hv407I9jEkt97BfmOyr9bZ49rw\n"
     ]
    },
    {
     "name": "stderr",
     "output_type": "stream",
     "text": [
      "\r",
      "  6%|██▌                                     | 108/1695 [03:37<09:59,  2.65it/s]"
     ]
    },
    {
     "name": "stdout",
     "output_type": "stream",
     "text": [
      "xD8adDntuCZKU1FQkLG2YYI0iwIs-qPHnxPcv5-X6leF2u7HS3psVGNnyGd4IdNsrtV87mwucMwGvQ\n"
     ]
    },
    {
     "name": "stderr",
     "output_type": "stream",
     "text": [
      "\r",
      "  6%|██▌                                     | 109/1695 [03:37<09:15,  2.86it/s]"
     ]
    },
    {
     "name": "stdout",
     "output_type": "stream",
     "text": [
      "3Zop6v0qhbBwnUQbb1GFJ41Ax3sAl8dQRAVYpVElu6Hzbn5zrGGMw0aFgAhnlgj2gSvr0AmeyItL1g\n"
     ]
    },
    {
     "name": "stderr",
     "output_type": "stream",
     "text": [
      "\r",
      "  6%|██▌                                     | 110/1695 [03:37<09:38,  2.74it/s]"
     ]
    },
    {
     "name": "stdout",
     "output_type": "stream",
     "text": [
      "HqUrOzynmQ39Q7aUgqLaLks_4ejWnDlhaxIDk79rhkF-ohdS-BuPGrnbq0IsokFwcIJv6-tA-dkGlw\n",
      "api cost full : infinite loop start\n",
      "loop location :  RVLezhIXXpvsu3WnD5qhUPc0mcNk4nZGAtcwT3KX8NxiKWE\n",
      "try 10 second wait time\n",
      "429\n",
      "try 10 second wait time\n",
      "429\n",
      "try 10 second wait time\n",
      "429\n",
      "try 10 second wait time\n",
      "429\n",
      "try 10 second wait time\n",
      "429\n",
      "try 10 second wait time\n",
      "429\n",
      "try 10 second wait time\n",
      "429\n",
      "try 10 second wait time\n",
      "429\n",
      "try 10 second wait time\n",
      "429\n",
      "try 10 second wait time\n"
     ]
    },
    {
     "name": "stderr",
     "output_type": "stream",
     "text": [
      "\r",
      "  7%|██▍                                  | 111/1695 [05:22<13:53:03, 31.56s/it]"
     ]
    },
    {
     "name": "stdout",
     "output_type": "stream",
     "text": [
      "200\n",
      "total wait time :  104.08532881736755\n",
      "recovery api cost\n",
      "7p2hLRTfzh2ANk_j4vLhrLsFjK3iA_IY4_0s3XIkNgu5KgifulO84AH33VevkgnJxZAt1e9yM0uw4g\n"
     ]
    },
    {
     "name": "stderr",
     "output_type": "stream",
     "text": [
      "\r",
      "  7%|██▌                                   | 112/1695 [05:22<9:45:11, 22.18s/it]"
     ]
    },
    {
     "name": "stdout",
     "output_type": "stream",
     "text": [
      "n-UzxQH3gjpOwRyPhxB9kOhhzpTCRXYROKnockX7NhiCuC5QuW7yaVJ9qkcYHnMGDlJKmz1t5Mkdhw\n"
     ]
    },
    {
     "name": "stderr",
     "output_type": "stream",
     "text": [
      "\r",
      "  7%|██▌                                   | 113/1695 [05:22<6:52:00, 15.63s/it]"
     ]
    },
    {
     "name": "stdout",
     "output_type": "stream",
     "text": [
      "GO4gcmxX8ZJaYfgjyf8CYUTHIv_sFch-aUmqbj7i3KXjIGRBceBKLkiVqVGJXfi44U-GfPGhqsKzPQ\n"
     ]
    },
    {
     "name": "stderr",
     "output_type": "stream",
     "text": [
      "\r",
      "  7%|██▌                                   | 114/1695 [05:23<4:56:46, 11.26s/it]"
     ]
    },
    {
     "name": "stdout",
     "output_type": "stream",
     "text": [
      "rnwveWGKM0b92H1qpPry6w0-Pht2yYtIYLBkPBauh3tYCug08WzyCeqis3xJO9a8RmLsTDXDb4Q4rg\n"
     ]
    },
    {
     "name": "stderr",
     "output_type": "stream",
     "text": [
      "\r",
      "  7%|██▌                                   | 115/1695 [05:24<3:35:00,  8.17s/it]"
     ]
    },
    {
     "name": "stdout",
     "output_type": "stream",
     "text": [
      "IVVijN2eT7dvXl-xKz9hI1TBHwgaaNr4-djzK14nBc4W7iTywBlyrzFrkM4DHlkVvqHvqAom-7X-Og\n"
     ]
    },
    {
     "name": "stderr",
     "output_type": "stream",
     "text": [
      "\r",
      "  7%|██▌                                   | 116/1695 [05:25<2:35:57,  5.93s/it]"
     ]
    },
    {
     "name": "stdout",
     "output_type": "stream",
     "text": [
      "WTdi7Ojt-FmGtgkgCnTRoW7IpgwrNHNyTIJpEKXuhHjwPHMgIcKYVPKNUQ6_Do1K1dskzovnnGlQJg\n"
     ]
    },
    {
     "name": "stderr",
     "output_type": "stream",
     "text": [
      "\r",
      "  7%|██▌                                   | 117/1695 [05:26<1:53:57,  4.33s/it]"
     ]
    },
    {
     "name": "stdout",
     "output_type": "stream",
     "text": [
      "RhEJgycuduYscY_LVw3LXAo8drC_92smMWA_3HUI6n7vItKdU9XGTWLMeNyGt-XSLqr48TJYkmHylQ\n"
     ]
    },
    {
     "name": "stderr",
     "output_type": "stream",
     "text": [
      "\r",
      "  7%|██▋                                   | 118/1695 [05:26<1:26:01,  3.27s/it]"
     ]
    },
    {
     "name": "stdout",
     "output_type": "stream",
     "text": [
      "n50_VqH6Xm4cSFOeY-fzmD4OxVrr37IiY5FImsO5IegCfaFXLOuavgL7zmYCrsoOIk-PMfxZ7rabCA\n"
     ]
    },
    {
     "name": "stderr",
     "output_type": "stream",
     "text": [
      "\r",
      "  7%|██▋                                   | 119/1695 [05:27<1:02:59,  2.40s/it]"
     ]
    },
    {
     "name": "stdout",
     "output_type": "stream",
     "text": [
      "WJccjMIjzRuM98bPURSMZzIAEO_ErgIy_XuM0z4rXp0YGGgKR7_A2bZ8klBu_knNGyL9vSjs72fIDQ\n"
     ]
    },
    {
     "name": "stderr",
     "output_type": "stream",
     "text": [
      "\r",
      "  7%|██▊                                     | 120/1695 [05:28<50:40,  1.93s/it]"
     ]
    },
    {
     "name": "stdout",
     "output_type": "stream",
     "text": [
      "k0d1FttR_q7ysNfyHcmDv4QSX73F5NuMEFZu80GQ1G1E89w0m34YnpCO-FM_CwNMpBuB59sPuaUbhg\n"
     ]
    },
    {
     "name": "stderr",
     "output_type": "stream",
     "text": [
      "\r",
      "  7%|██▊                                     | 121/1695 [05:28<38:23,  1.46s/it]"
     ]
    },
    {
     "name": "stdout",
     "output_type": "stream",
     "text": [
      "RjFq_gEICqNR6J5tJW1xuzJrbINrgKY9DPls0752iwlZ7bGJHUcRSgP7u0_yl2SRRAntCi3QE4KUCA\n"
     ]
    },
    {
     "name": "stderr",
     "output_type": "stream",
     "text": [
      "\r",
      "  7%|██▉                                     | 122/1695 [05:28<29:10,  1.11s/it]"
     ]
    },
    {
     "name": "stdout",
     "output_type": "stream",
     "text": [
      "i2Ou5OXU3X34kRnBUAzw5qpffbVgV9GNXqtSvx3uTuMY6GgGIXYvlhF0HZa2Kq-a5wO6r1IXhadyEw\n"
     ]
    },
    {
     "name": "stderr",
     "output_type": "stream",
     "text": [
      "\r",
      "  7%|██▉                                     | 123/1695 [05:29<25:19,  1.03it/s]"
     ]
    },
    {
     "name": "stdout",
     "output_type": "stream",
     "text": [
      "Z4y0yAjmRG97NVCdReT_sgbLq7Q7v7gUkUPgke9M1Lh_yfks1EoE4ndbgww45Mar7PNfFOqgPyv_OA\n"
     ]
    },
    {
     "name": "stderr",
     "output_type": "stream",
     "text": [
      "\r",
      "  7%|██▉                                     | 124/1695 [05:29<19:58,  1.31it/s]"
     ]
    },
    {
     "name": "stdout",
     "output_type": "stream",
     "text": [
      "vtS66WziafKtX-Y_cHld165QaeHNYBVcHS6y0BZYihIDkBIWBbuDmwGqurWAZNMaNlRffy5RNnRKog\n"
     ]
    },
    {
     "name": "stderr",
     "output_type": "stream",
     "text": [
      "\r",
      "  7%|██▉                                     | 125/1695 [05:29<16:13,  1.61it/s]"
     ]
    },
    {
     "name": "stdout",
     "output_type": "stream",
     "text": [
      "WncBeI12XuyMWJSGxNPpLsHMGlMTYW2IHbSgErP2MxQbRETQgu3-UzfnmS8p-mDKFvRvcEQPhMCegg\n"
     ]
    },
    {
     "name": "stderr",
     "output_type": "stream",
     "text": [
      "\r",
      "  7%|██▉                                     | 126/1695 [05:30<13:39,  1.91it/s]"
     ]
    },
    {
     "name": "stdout",
     "output_type": "stream",
     "text": [
      "Xbw26fF3JoJmyKivhTuyPpFuWn-DajGv7FQst_9qYFM4l6DQCLtrBHxlkJwQ6cYvaRP-YQ64CJdhTA\n"
     ]
    },
    {
     "name": "stderr",
     "output_type": "stream",
     "text": [
      "\r",
      "  7%|██▉                                     | 127/1695 [05:30<12:13,  2.14it/s]"
     ]
    },
    {
     "name": "stdout",
     "output_type": "stream",
     "text": [
      "_X_PMi0vV9Eiis1t43dyr19Kbz-qMkIXQNdtAUmoy48SoQZ4JgIrv40B7lLQgX2IxCBAXU007v53xg\n"
     ]
    },
    {
     "name": "stderr",
     "output_type": "stream",
     "text": [
      "\r",
      "  8%|███                                     | 128/1695 [05:31<11:56,  2.19it/s]"
     ]
    },
    {
     "name": "stdout",
     "output_type": "stream",
     "text": [
      "zxX96xCFehK7UIak5dWox9JTwPnR8u3k0ky4eBHltRbQGpRVAu0MYnVVL2Qf7xiKVNDXd-hykfa1kQ\n"
     ]
    },
    {
     "name": "stderr",
     "output_type": "stream",
     "text": [
      "\r",
      "  8%|███                                     | 129/1695 [05:31<10:20,  2.52it/s]"
     ]
    },
    {
     "name": "stdout",
     "output_type": "stream",
     "text": [
      "gVqELF7G4Hb1IvnimZPV4Ye0U4HEsf6HClIWLoCtSSIjTA7tDLDThrsr6ExxGimfCCetfaeqVjKfzw\n"
     ]
    },
    {
     "name": "stderr",
     "output_type": "stream",
     "text": [
      "\r",
      "  8%|███                                     | 130/1695 [05:31<09:47,  2.67it/s]"
     ]
    },
    {
     "name": "stdout",
     "output_type": "stream",
     "text": [
      "WrUSMetDslVY5C3JUhurn5msP3EsL6UliRjNiiS25MLi4IOeg7i_-prOQ6catbDTnVvaz6ZBVFaO0Q\n"
     ]
    },
    {
     "name": "stderr",
     "output_type": "stream",
     "text": [
      "\r",
      "  8%|███                                     | 131/1695 [05:31<09:29,  2.75it/s]"
     ]
    },
    {
     "name": "stdout",
     "output_type": "stream",
     "text": [
      "duYwVkxx-Eem0DhqlpuL9EX9vFFQnxfpBxGwJua8fwH4hYWFXczoH1_hxukOBzSQBjgTePkkB49cmQ\n"
     ]
    },
    {
     "name": "stderr",
     "output_type": "stream",
     "text": [
      "\r",
      "  8%|███                                     | 132/1695 [05:35<31:11,  1.20s/it]"
     ]
    },
    {
     "name": "stdout",
     "output_type": "stream",
     "text": [
      "dCYcZaxCy4xQq4TJA1zM-7wV7GuthWgjQ62YJD6QWLFNUvfrxVIquUcw-ZN44sx-sIkVKy0kQg2uOg\n"
     ]
    },
    {
     "name": "stderr",
     "output_type": "stream",
     "text": [
      "\r",
      "  8%|███▏                                    | 133/1695 [05:35<24:00,  1.08it/s]"
     ]
    },
    {
     "name": "stdout",
     "output_type": "stream",
     "text": [
      "Rq63zUK6n3b7Rqywyd2G3mZw8EzRCbyvBBn7tyWL1ACFfE5Szz6ts47FO_sBWSLSf0NWgsEL-I2Zig\n"
     ]
    },
    {
     "name": "stderr",
     "output_type": "stream",
     "text": [
      "\r",
      "  8%|███▏                                    | 134/1695 [05:35<19:07,  1.36it/s]"
     ]
    },
    {
     "name": "stdout",
     "output_type": "stream",
     "text": [
      "Yqj1moUWnZQ41ds4FAOorsBoNTcu3qdWkF90eeAwYWXGL1uwEQI4jwdIq_G1bP-zJJEvXaISchixCg\n"
     ]
    },
    {
     "name": "stderr",
     "output_type": "stream",
     "text": [
      "\r",
      "  8%|███▏                                    | 135/1695 [05:36<17:40,  1.47it/s]"
     ]
    },
    {
     "name": "stdout",
     "output_type": "stream",
     "text": [
      "qwFglYgk5dOIxGDgf-z3nbwFiN0oK5gyZ07FFDCKxMZfv5lx0_AFjO4KH7dcKaA-mPa-3Yl6VV5iVA\n"
     ]
    },
    {
     "name": "stderr",
     "output_type": "stream",
     "text": [
      "\r",
      "  8%|███▏                                    | 136/1695 [05:36<14:41,  1.77it/s]"
     ]
    },
    {
     "name": "stdout",
     "output_type": "stream",
     "text": [
      "LfJ1apZJr55UrMnjidQlUTsypaqYW4v7Uw-IPll6Jr5yQkSLoI4WuVCiXFjeqtZmtL_mdjmPLikZZg\n"
     ]
    },
    {
     "name": "stderr",
     "output_type": "stream",
     "text": [
      "\r",
      "  8%|███▏                                    | 137/1695 [05:36<12:31,  2.07it/s]"
     ]
    },
    {
     "name": "stdout",
     "output_type": "stream",
     "text": [
      "21iodiBd4yNrQ7H259GjLiGCrPOlsI3JsoyvlhaHNOv-lqw_gPpQC6zRRK0o4krq1J3Qauz6obt0Dg\n"
     ]
    },
    {
     "name": "stderr",
     "output_type": "stream",
     "text": [
      "\r",
      "  8%|███▎                                    | 138/1695 [05:37<11:10,  2.32it/s]"
     ]
    },
    {
     "name": "stdout",
     "output_type": "stream",
     "text": [
      "pHCPfK36djipoTHrp4oNCcoDFmmxPh9DIodK1-n517jUdjowMZvAB_JtCw1D1dwqRcE9GG-y98shkg\n"
     ]
    },
    {
     "name": "stderr",
     "output_type": "stream",
     "text": [
      "\r",
      "  8%|███▎                                    | 139/1695 [05:37<10:25,  2.49it/s]"
     ]
    },
    {
     "name": "stdout",
     "output_type": "stream",
     "text": [
      "19liu92ij6aCjUIiEsyDbKb0gU2G2qOQeBzD2-yUOO52k5LRoLkHEttPkKXRDXVyPbgsC2WnLhTtWQ\n"
     ]
    },
    {
     "name": "stderr",
     "output_type": "stream",
     "text": [
      "\r",
      "  8%|███▎                                    | 140/1695 [05:37<09:56,  2.61it/s]"
     ]
    },
    {
     "name": "stdout",
     "output_type": "stream",
     "text": [
      "uYl5qYbkaZGpuL87u34gZ-DTCHRHfgpL98tPpJCEfn8T33OM6z1I1IyHlaT_AK6iAyN7m08kKWP0MA\n"
     ]
    },
    {
     "name": "stderr",
     "output_type": "stream",
     "text": [
      "\r",
      "  8%|███▎                                    | 141/1695 [05:38<12:08,  2.13it/s]"
     ]
    },
    {
     "name": "stdout",
     "output_type": "stream",
     "text": [
      "0BH505LDuUrZxU_hqdj3pvtC1vPWvscw5qMg-KsiBz4XdNnCxGP3U5WvSuaFSAocq9SFOto8hkAYYw\n"
     ]
    },
    {
     "name": "stderr",
     "output_type": "stream",
     "text": [
      "\r",
      "  8%|███▎                                    | 142/1695 [05:38<11:04,  2.34it/s]"
     ]
    },
    {
     "name": "stdout",
     "output_type": "stream",
     "text": [
      "iJ0RW4U5-yGZTpvmMS0y2yQtLgfMH6BK4tS6-UtU4_i5lDCo7zWc_adRKk7otxaC9IuWP8Er0GVNGQ\n"
     ]
    },
    {
     "name": "stderr",
     "output_type": "stream",
     "text": [
      "\r",
      "  8%|███▎                                    | 143/1695 [05:39<09:59,  2.59it/s]"
     ]
    },
    {
     "name": "stdout",
     "output_type": "stream",
     "text": [
      "puITcM4bSj2_lLXmdr12vyOnoSNdDfQm-AODwM2k7JbaO3jYhoIOmaapxZWcaUulD7EpNJBsM3VdmQ\n"
     ]
    },
    {
     "name": "stderr",
     "output_type": "stream",
     "text": [
      "\r",
      "  8%|███▍                                    | 144/1695 [05:39<11:46,  2.20it/s]"
     ]
    },
    {
     "name": "stdout",
     "output_type": "stream",
     "text": [
      "y8RpEe_ealpt18Tnh7oKsY50jQKGKqDQiOTpPyeQvvu6WaPICeLu0FkflujPnWISpgVOTY1SmmgwZA\n"
     ]
    },
    {
     "name": "stderr",
     "output_type": "stream",
     "text": [
      "\r",
      "  9%|███▍                                    | 145/1695 [05:39<10:27,  2.47it/s]"
     ]
    },
    {
     "name": "stdout",
     "output_type": "stream",
     "text": [
      "NqvrM_Rc_C_6tGaEBoDjdRQODR3lILp7LMFu9PZ97IePB0ByKmZPRbB3tXk-CIGrHH9zeGvzM-ZT2w\n"
     ]
    },
    {
     "name": "stderr",
     "output_type": "stream",
     "text": [
      "\r",
      "  9%|███▍                                    | 146/1695 [05:40<10:35,  2.44it/s]"
     ]
    },
    {
     "name": "stdout",
     "output_type": "stream",
     "text": [
      "XYU-n1aHqpuAoDCqnoWcMyaeqGsDcO4-d_QsBjIoN_GoJqSY_5NDhCEPyhNcfu-FG9doYFMUVfQ9Eg\n"
     ]
    },
    {
     "name": "stderr",
     "output_type": "stream",
     "text": [
      "\r",
      "  9%|███▍                                    | 147/1695 [05:40<09:40,  2.66it/s]"
     ]
    },
    {
     "name": "stdout",
     "output_type": "stream",
     "text": [
      "eMkxMe9G4rRn41MlSvI8ygT2MlbHgZYdiZLXBdcfd0eZNZKjvY26xiFkQf4-igeYaQIGEaOGbZAy4w\n"
     ]
    },
    {
     "name": "stderr",
     "output_type": "stream",
     "text": [
      "\r",
      "  9%|███▍                                    | 148/1695 [05:41<11:14,  2.29it/s]"
     ]
    },
    {
     "name": "stdout",
     "output_type": "stream",
     "text": [
      "4PCfJpNAlhuXnjgOBV-3q4TJ_cin8eypXY5EfXwiougK3zOj0EhJ2XLnZUuG8IrJmWI8sGWPEGoAKg\n"
     ]
    },
    {
     "name": "stderr",
     "output_type": "stream",
     "text": [
      "\r",
      "  9%|███▌                                    | 149/1695 [05:41<10:14,  2.52it/s]"
     ]
    },
    {
     "name": "stdout",
     "output_type": "stream",
     "text": [
      "dJAd4YaeJwwmsLSvi06esy6swG9Fh0pKIQnJKor2LF5OBtHeJDTb_ipLSzrS0mtMWYcwpE3_ieRmsQ\n"
     ]
    },
    {
     "name": "stderr",
     "output_type": "stream",
     "text": [
      "\r",
      "  9%|███▌                                    | 150/1695 [05:42<10:48,  2.38it/s]"
     ]
    },
    {
     "name": "stdout",
     "output_type": "stream",
     "text": [
      "rQr1YHdzIbXI1wGiQIMXgZ574ErhcYz3Fn-oJCxOe2TPica0aV8zU-Waq9hyEFyoe9jrLytZBhT1gg\n"
     ]
    },
    {
     "name": "stderr",
     "output_type": "stream",
     "text": [
      "\r",
      "  9%|███▌                                    | 151/1695 [05:42<09:55,  2.59it/s]"
     ]
    },
    {
     "name": "stdout",
     "output_type": "stream",
     "text": [
      "caOtXAOTTeSLpqvIDuoSFzbdu4N-O48J6mhSCd0yY_Ss-y_WSrxjD0BCPceU3KOzDlwersfZN___kA\n"
     ]
    },
    {
     "name": "stderr",
     "output_type": "stream",
     "text": [
      "\r",
      "  9%|███▌                                    | 152/1695 [05:42<10:19,  2.49it/s]"
     ]
    },
    {
     "name": "stdout",
     "output_type": "stream",
     "text": [
      "qSlOtdAPyTdrGGJRxOacC0SY2jVFHrVnibYLaOG3KeDWcbsMaxjRJDgEFTmw7GzCqTV4jPBad1nzJQ\n"
     ]
    },
    {
     "name": "stderr",
     "output_type": "stream",
     "text": [
      "\r",
      "  9%|███▌                                    | 153/1695 [05:43<09:34,  2.68it/s]"
     ]
    },
    {
     "name": "stdout",
     "output_type": "stream",
     "text": [
      "g82IAKUCQ_eklCq6GkAD1c0PRFqEAcrm6S18GRd6SGBb4Sxd-omS1H_8BTBQGTWaFOLqk_6dhPCYjg\n"
     ]
    },
    {
     "name": "stderr",
     "output_type": "stream",
     "text": [
      "\r",
      "  9%|███▋                                    | 154/1695 [05:43<08:53,  2.89it/s]"
     ]
    },
    {
     "name": "stdout",
     "output_type": "stream",
     "text": [
      "feSBWN5-XY-vLTJDQK7JUhSPl9LLVzlS_-dhFn6ECoJHEECmCbpN1GsHrf5fY-NZ7TF8k3Ut3enJZA\n"
     ]
    },
    {
     "name": "stderr",
     "output_type": "stream",
     "text": [
      "\r",
      "  9%|███▋                                    | 155/1695 [05:44<11:11,  2.29it/s]"
     ]
    },
    {
     "name": "stdout",
     "output_type": "stream",
     "text": [
      "-xI4gN14Vbn1qagy8z5apJbo829oIMBdMz--baWcvQhSFiksh9IQDijUv_e_VShqwgEMfRAk9uG1cg\n"
     ]
    },
    {
     "name": "stderr",
     "output_type": "stream",
     "text": [
      "\r",
      "  9%|███▋                                    | 156/1695 [05:44<10:04,  2.54it/s]"
     ]
    },
    {
     "name": "stdout",
     "output_type": "stream",
     "text": [
      "F04vEwOUKNZ6Ngn2-5VkM_R07LlIhDnXb-5tpQYlibpU5_9LFSyONfim0UHHqYzQK-2L2xXdISshXA\n"
     ]
    },
    {
     "name": "stderr",
     "output_type": "stream",
     "text": [
      "\r",
      "  9%|███▋                                    | 157/1695 [05:44<09:17,  2.76it/s]"
     ]
    },
    {
     "name": "stdout",
     "output_type": "stream",
     "text": [
      "Mwoo2DomoUY_4p_R_dRVR7qOo8-9oKPlJgkkQgq_ETpFpM2hqHXb5GMET7g4WtC4y3tqhpFb3FxM6Q\n"
     ]
    },
    {
     "name": "stderr",
     "output_type": "stream",
     "text": [
      "\r",
      "  9%|███▋                                    | 158/1695 [05:44<08:48,  2.91it/s]"
     ]
    },
    {
     "name": "stdout",
     "output_type": "stream",
     "text": [
      "4trH7_DG6me7fwqEvPpeLF9nNvOdgce4m19JiyAeSwNb1a8C3IDqS0J4__btFJa0C3-XAATTGmcleQ\n"
     ]
    },
    {
     "name": "stderr",
     "output_type": "stream",
     "text": [
      "\r",
      "  9%|███▊                                    | 159/1695 [05:45<08:25,  3.04it/s]"
     ]
    },
    {
     "name": "stdout",
     "output_type": "stream",
     "text": [
      "4x6nVXSrO5EvdHz3J1KkiSkGzRoa8hPjeEIMdjbT6IrmzBirZVV_S9yjN5aK3ZsQbZRR5YKgwltvag\n"
     ]
    },
    {
     "name": "stderr",
     "output_type": "stream",
     "text": [
      "\r",
      "  9%|███▊                                    | 160/1695 [05:45<11:22,  2.25it/s]"
     ]
    },
    {
     "name": "stdout",
     "output_type": "stream",
     "text": [
      "on0q94JN2PewbR3GDeIfCZU5rnskqzd5XEwGKri88alROOz80KfETHvSJXX_EYYhsyzaRaFMKwo8nw\n",
      "api cost full : infinite loop start\n",
      "loop location :  VXYRL7QEpqMboHNzqHEFZ5rOXesLVHCmID8HZduy9s_nlXM\n",
      "try 10 second wait time\n",
      "429\n",
      "try 10 second wait time\n",
      "429\n",
      "try 10 second wait time\n",
      "429\n",
      "try 10 second wait time\n",
      "429\n",
      "try 10 second wait time\n",
      "429\n",
      "try 10 second wait time\n",
      "429\n",
      "try 10 second wait time\n",
      "429\n",
      "try 10 second wait time\n",
      "429\n",
      "try 10 second wait time\n"
     ]
    },
    {
     "name": "stderr",
     "output_type": "stream",
     "text": [
      "\r",
      "  9%|███▌                                 | 161/1695 [07:22<12:29:34, 29.32s/it]"
     ]
    },
    {
     "name": "stdout",
     "output_type": "stream",
     "text": [
      "200\n",
      "total wait time :  95.8413758277893\n",
      "recovery api cost\n",
      "HzB_dnJx5qZSWWtP7MjrsrheMP7cqLa6gdTDEr417izg1gZhRmVppvaq8TgGu428D7r-DPpkT1gCqQ\n"
     ]
    },
    {
     "name": "stderr",
     "output_type": "stream",
     "text": [
      "\r",
      " 10%|███▋                                  | 162/1695 [07:22<8:46:41, 20.61s/it]"
     ]
    },
    {
     "name": "stdout",
     "output_type": "stream",
     "text": [
      "hew_oEUeLgz9IWqYFNiQi07Sj4LxabCvkr3OnlkShXKqZ5l42wFvdN0Zv0Cab4y9rdoA8hxW1EW3yQ\n"
     ]
    },
    {
     "name": "stderr",
     "output_type": "stream",
     "text": [
      "\r",
      " 10%|███▋                                  | 163/1695 [07:23<6:10:31, 14.51s/it]"
     ]
    },
    {
     "name": "stdout",
     "output_type": "stream",
     "text": [
      "ZS6Psc31rwljcGFsPTPVoqzaWkUAI1ufzYEpIZ_8RcoBLDYwElDq0Mag0l6eLkyHvJi_CHw3CJaSGA\n"
     ]
    },
    {
     "name": "stderr",
     "output_type": "stream",
     "text": [
      "\r",
      " 10%|███▋                                  | 164/1695 [07:23<4:21:49, 10.26s/it]"
     ]
    },
    {
     "name": "stdout",
     "output_type": "stream",
     "text": [
      "MG0nAD5EXdEhz9s6Li0bGsj1Q0uiwLQsK7WDeIFuhtx4gZzDazxtJX7TyxZE6AGBC3xTzYjUkmizcw\n"
     ]
    },
    {
     "name": "stderr",
     "output_type": "stream",
     "text": [
      "\r",
      " 10%|███▋                                  | 165/1695 [07:23<3:06:18,  7.31s/it]"
     ]
    },
    {
     "name": "stdout",
     "output_type": "stream",
     "text": [
      "kc-3wQ7mrgi3A2YghWMrLphwU7TaLGzvmI4ce0U6bksZ_T-7fKHbPJGvYZOVUcuBqg6n0MHfgYGlQw\n"
     ]
    },
    {
     "name": "stderr",
     "output_type": "stream",
     "text": [
      "\r",
      " 10%|███▋                                  | 166/1695 [07:24<2:14:24,  5.27s/it]"
     ]
    },
    {
     "name": "stdout",
     "output_type": "stream",
     "text": [
      "2sKGNQqGK8BFkbMHiS5JMkMMw3IxkS7QiGC8iO_iNrRPib5hga9OvwVCpFgcEzjP-IIIKcFuTnZeiA\n"
     ]
    },
    {
     "name": "stderr",
     "output_type": "stream",
     "text": [
      "\r",
      " 10%|███▋                                  | 167/1695 [07:24<1:36:05,  3.77s/it]"
     ]
    },
    {
     "name": "stdout",
     "output_type": "stream",
     "text": [
      "YNEt4jLf88zu8bXJsqY3y948oRdNhkEG1rc7VJVl0tgZ7fzsAUzKsGTFlBQHWw5YOzyrtHZPCb3d9w\n"
     ]
    },
    {
     "name": "stderr",
     "output_type": "stream",
     "text": [
      "\r",
      " 10%|███▊                                  | 168/1695 [07:25<1:09:26,  2.73s/it]"
     ]
    },
    {
     "name": "stdout",
     "output_type": "stream",
     "text": [
      "fH5uLcjADemzRX5VgC7Fq6TlXhzgK2OV7CjXzrM1XY04--13gelOOqzlHG5pOyJ-jNlaMwhKZxkQ1A\n"
     ]
    },
    {
     "name": "stderr",
     "output_type": "stream",
     "text": [
      "\r",
      " 10%|███▉                                    | 169/1695 [07:25<52:21,  2.06s/it]"
     ]
    },
    {
     "name": "stdout",
     "output_type": "stream",
     "text": [
      "oR6W60hnEnFs-iKbQ1c2cb33GB3JmfHnI8sbQBYXskNUr3q9e1bdfhjGj1qtVY-y9lQuuH9FBadx7Q\n"
     ]
    },
    {
     "name": "stderr",
     "output_type": "stream",
     "text": [
      "\r",
      " 10%|████                                    | 170/1695 [07:25<38:51,  1.53s/it]"
     ]
    },
    {
     "name": "stdout",
     "output_type": "stream",
     "text": [
      "NqI4u4mnKwfFL7SQilWqokGU7w5_Y8Y2GbRh7p5FtFtsjjIsaRQbRP8iYbMN0iNqmGykmn_aQOHqWA\n"
     ]
    },
    {
     "name": "stderr",
     "output_type": "stream",
     "text": [
      "\r",
      " 10%|████                                    | 171/1695 [07:26<29:19,  1.15s/it]"
     ]
    },
    {
     "name": "stdout",
     "output_type": "stream",
     "text": [
      "TLo_PeGg2DgHvSEcbWn9a4uZMjKxBg4ZtASTI1Xvra3CubcUgAlTiqPdntAwQZqG7jn5WkQtaCeLzw\n"
     ]
    },
    {
     "name": "stderr",
     "output_type": "stream",
     "text": [
      "\r",
      " 10%|████                                    | 172/1695 [07:26<22:55,  1.11it/s]"
     ]
    },
    {
     "name": "stdout",
     "output_type": "stream",
     "text": [
      "WG6Dep_BRP6zzV7-Ls3cXNfNoWOfChgu46nHYzArikcj2TWhr_G-d4nn0x9bxKa59B31Yv9rGU5cLw\n"
     ]
    },
    {
     "name": "stderr",
     "output_type": "stream",
     "text": [
      "\r",
      " 10%|████                                    | 173/1695 [07:26<18:32,  1.37it/s]"
     ]
    },
    {
     "name": "stdout",
     "output_type": "stream",
     "text": [
      "ql56tw91FNcc7mXLPJnqXUmgfCroCQwTfx29EkOR6tC2jUrLaxhdVyrIg6bkhkbFldWAHZdxk20Ncg\n"
     ]
    },
    {
     "name": "stderr",
     "output_type": "stream",
     "text": [
      "\r",
      " 10%|████                                    | 174/1695 [07:27<15:11,  1.67it/s]"
     ]
    },
    {
     "name": "stdout",
     "output_type": "stream",
     "text": [
      "X3C4aGsCqp64TD_pVQicqYAUSRu5ulS7sIXLDkOkEOz1JkPh_nPp87SGXf7Afa5uRWOGrMId3mYPlQ\n"
     ]
    },
    {
     "name": "stderr",
     "output_type": "stream",
     "text": [
      "\r",
      " 10%|████▏                                   | 175/1695 [07:27<12:55,  1.96it/s]"
     ]
    },
    {
     "name": "stdout",
     "output_type": "stream",
     "text": [
      "I16dIkLs5VFWWJXX8rw-g4TCvWzG1cTY0fCkBnGD0jVm_fcmv0t-Vt6_tUun0nuwqHT4qmkZD13tpw\n"
     ]
    },
    {
     "name": "stderr",
     "output_type": "stream",
     "text": [
      "\r",
      " 10%|████▏                                   | 176/1695 [07:27<12:24,  2.04it/s]"
     ]
    },
    {
     "name": "stdout",
     "output_type": "stream",
     "text": [
      "zok7H1Mqelr3tC7NHS1gs8XpCVTqFRYo5KsgbcHImY3lC_wz6bUoTYHYQtDH30pH3bRu3ZOV7M3-dA\n"
     ]
    },
    {
     "name": "stderr",
     "output_type": "stream",
     "text": [
      "\r",
      " 10%|████▏                                   | 177/1695 [07:28<10:47,  2.34it/s]"
     ]
    },
    {
     "name": "stdout",
     "output_type": "stream",
     "text": [
      "eF_NQitmkvxA2T87X6960s7B_42JTkgWfgxh2ER7LpDXwRb7K5keRcfFlZ1flLjgB5donmy3A4xFoQ\n"
     ]
    },
    {
     "name": "stderr",
     "output_type": "stream",
     "text": [
      "\r",
      " 11%|████▏                                   | 178/1695 [07:28<09:47,  2.58it/s]"
     ]
    },
    {
     "name": "stdout",
     "output_type": "stream",
     "text": [
      "0WKDh5BrTEKnetoWRTFyoQ_GP1M-EU5mOaKl9HTMfKeazJ7q4lAetv-k9nKYDUJZNg1r_2yOJlX3YQ\n"
     ]
    },
    {
     "name": "stderr",
     "output_type": "stream",
     "text": [
      "\r",
      " 11%|████▏                                   | 179/1695 [07:28<09:57,  2.54it/s]"
     ]
    },
    {
     "name": "stdout",
     "output_type": "stream",
     "text": [
      "IDLl_3BC7NNEfoGDoxtG7uZ3_boywnpZr789nNMMEqJt9NkoBsRhop_2y41jozJhoTi6W2zc0rHRtA\n"
     ]
    },
    {
     "name": "stderr",
     "output_type": "stream",
     "text": [
      "\r",
      " 11%|████▏                                   | 180/1695 [07:29<10:05,  2.50it/s]"
     ]
    },
    {
     "name": "stdout",
     "output_type": "stream",
     "text": [
      "92egT5P-yNY4paWSeGWf-bF6P7EFCtS7jbdT6lIpT0gXYUaD2Ib5d-Mz6Q2mAY_shaWM2DDK15tXTg\n"
     ]
    },
    {
     "name": "stderr",
     "output_type": "stream",
     "text": [
      "\r",
      " 11%|████▎                                   | 181/1695 [07:29<09:19,  2.71it/s]"
     ]
    },
    {
     "name": "stdout",
     "output_type": "stream",
     "text": [
      "gazXE8HPO22bsK6DTysfQKhBJVxNbL66H4sDtsQyw0fz9vQ6ywvtWgndZTRX_qDY2nAWOr8fGY-DLg\n"
     ]
    },
    {
     "name": "stderr",
     "output_type": "stream",
     "text": [
      "\r",
      " 11%|████▎                                   | 182/1695 [07:29<08:42,  2.89it/s]"
     ]
    },
    {
     "name": "stdout",
     "output_type": "stream",
     "text": [
      "IAU1PWitsL0-wYhsw0yDdSG0x8gH-pIwCDZClRTAp09sCFxb1QaULxYJyWmzgYoYpbIL2S4HF4nApA\n"
     ]
    },
    {
     "name": "stderr",
     "output_type": "stream",
     "text": [
      "\r",
      " 11%|████▎                                   | 183/1695 [07:30<08:12,  3.07it/s]"
     ]
    },
    {
     "name": "stdout",
     "output_type": "stream",
     "text": [
      "BSBLHvHgyxKoD1DDLEyP5WOG-m7Y7lD7Z6mfvq0Flx7nrtN2suSsaVoiFgZPT3xDZ0-OyqyuEMXtDg\n"
     ]
    },
    {
     "name": "stderr",
     "output_type": "stream",
     "text": [
      "\r",
      " 11%|████▎                                   | 184/1695 [07:30<08:49,  2.85it/s]"
     ]
    },
    {
     "name": "stdout",
     "output_type": "stream",
     "text": [
      "vOdaovRceDuSIBxFt56UH_Ep1yYgc6WnvKtfu2avk9bQxK5NSRb747oNSoAV4iTId5JOsNNqgZEO4Q\n"
     ]
    },
    {
     "name": "stderr",
     "output_type": "stream",
     "text": [
      "\r",
      " 11%|████▎                                   | 185/1695 [07:30<08:17,  3.03it/s]"
     ]
    },
    {
     "name": "stdout",
     "output_type": "stream",
     "text": [
      "gkqgv8KufyU5mSW3bz6liCC2iB7hkKuhrDw1rDBBRTaZi75xMvjW_hILLpQg4rphUmqonp6mTTwspg\n"
     ]
    },
    {
     "name": "stderr",
     "output_type": "stream",
     "text": [
      "\r",
      " 11%|████▍                                   | 186/1695 [07:31<09:34,  2.62it/s]"
     ]
    },
    {
     "name": "stdout",
     "output_type": "stream",
     "text": [
      "VR-VLyfb29-QjOAiMz3ktERdx7cko9GXo59mB5EKZ8RJcnLTkH_RvnoJGqTucaasFFgF6K8ArPw_fQ\n"
     ]
    },
    {
     "name": "stderr",
     "output_type": "stream",
     "text": [
      "\r",
      " 11%|████▍                                   | 187/1695 [07:31<08:47,  2.86it/s]"
     ]
    },
    {
     "name": "stdout",
     "output_type": "stream",
     "text": [
      "GlhWs6Vs7JUp82PtyMqzo8G1e6_hKwMC7hTD13fjOJ9dOdOfsMmr3GubNThVBU13JZ2DTZ49JRBDpQ\n"
     ]
    },
    {
     "name": "stderr",
     "output_type": "stream",
     "text": [
      "\r",
      " 11%|████▍                                   | 188/1695 [07:32<10:12,  2.46it/s]"
     ]
    },
    {
     "name": "stdout",
     "output_type": "stream",
     "text": [
      "ICw0-bDd6LJRkhESbCpyB-dW2o6_2US3TgHJFxAVyW-VNLkmuLu4sZUF0lU-clowQvhw6dmdE2D0kA\n"
     ]
    },
    {
     "name": "stderr",
     "output_type": "stream",
     "text": [
      "\r",
      " 11%|████▍                                   | 189/1695 [07:32<09:21,  2.68it/s]"
     ]
    },
    {
     "name": "stdout",
     "output_type": "stream",
     "text": [
      "X8PohY5xow2onKpWQc8Sr93URhDKS544AOjQAQogyeh3RdLGq1WSdkA00INGIBa9nojUlFX1kweh7Q\n"
     ]
    },
    {
     "name": "stderr",
     "output_type": "stream",
     "text": [
      "\r",
      " 11%|████▍                                   | 190/1695 [07:32<08:56,  2.81it/s]"
     ]
    },
    {
     "name": "stdout",
     "output_type": "stream",
     "text": [
      "AU988wxzgXvbZEZGlUSR6-r6YXZuz7Mfpjo1rcV8vRZSwn_I8ixKRSnReZ7xhem6Izb9kuJaAH5oVQ\n"
     ]
    },
    {
     "name": "stderr",
     "output_type": "stream",
     "text": [
      "\r",
      " 11%|████▌                                   | 191/1695 [07:32<08:36,  2.91it/s]"
     ]
    },
    {
     "name": "stdout",
     "output_type": "stream",
     "text": [
      "gruum6hBovMcJ3YtMoZ_uUaJ_ZfwI0n45LBQf3u3Nq-rjMSYCMJlKoYWNwDWyJltxpfnepgFWoSWKw\n"
     ]
    },
    {
     "name": "stderr",
     "output_type": "stream",
     "text": [
      "\r",
      " 11%|████▌                                   | 192/1695 [07:33<08:05,  3.09it/s]"
     ]
    },
    {
     "name": "stdout",
     "output_type": "stream",
     "text": [
      "ekH_ujk-l8DeVYjVUPjSp5PgtQHO81TZP7vgHCUgvvihBXQDXk9aIZv4PfXGgckvM9N5ZDgb_0dNMQ\n"
     ]
    },
    {
     "name": "stderr",
     "output_type": "stream",
     "text": [
      "\r",
      " 11%|████▌                                   | 193/1695 [07:33<07:48,  3.21it/s]"
     ]
    },
    {
     "name": "stdout",
     "output_type": "stream",
     "text": [
      "yq37iD6v_fAWIboq3hGhiCc_meCstFrjGC4lNrI_WcBXn5IN28jIXZG9oZNdY2WJvkbsmYLiMNNNEg\n"
     ]
    },
    {
     "name": "stderr",
     "output_type": "stream",
     "text": [
      "\r",
      " 11%|████▌                                   | 194/1695 [07:33<07:46,  3.21it/s]"
     ]
    },
    {
     "name": "stdout",
     "output_type": "stream",
     "text": [
      "eFWgtVyd1IfPgLh_8s0BHBNEojJBkNp2Dp8VtFVOLjWUdMN6K1y_4tRX65iSsP7fQeIIbMKxnzO2Ww\n"
     ]
    },
    {
     "name": "stderr",
     "output_type": "stream",
     "text": [
      "\r",
      " 12%|████▌                                   | 195/1695 [07:34<07:34,  3.30it/s]"
     ]
    },
    {
     "name": "stdout",
     "output_type": "stream",
     "text": [
      "BcjqxR5sjDNuyn8v275tzjzz_Lcw5nfpq27-JcB1PPKDhvdTeMOVsCf5WSa86SjsaPNkpiq5FadeEQ\n"
     ]
    },
    {
     "name": "stderr",
     "output_type": "stream",
     "text": [
      "\r",
      " 12%|████▋                                   | 196/1695 [07:34<07:22,  3.39it/s]"
     ]
    },
    {
     "name": "stdout",
     "output_type": "stream",
     "text": [
      "e7ayaXlV9QnQgYpwktxjtZZ6cyozMpz0uiyQj07OAApSqSBKeMe55dPhFEdFoK4zFqHzigDvVPZwzw\n"
     ]
    },
    {
     "name": "stderr",
     "output_type": "stream",
     "text": [
      "\r",
      " 12%|████▋                                   | 197/1695 [07:34<07:27,  3.35it/s]"
     ]
    },
    {
     "name": "stdout",
     "output_type": "stream",
     "text": [
      "W_u6TNZGytgjHgBHFlEvi1kFoT8lxLpH_lNk8o3Z5hTI9t85SkY5djHhFIWiE6mYHEwkuWtPvVFdqw\n"
     ]
    },
    {
     "name": "stderr",
     "output_type": "stream",
     "text": [
      "\r",
      " 12%|████▋                                   | 198/1695 [07:35<07:24,  3.37it/s]"
     ]
    },
    {
     "name": "stdout",
     "output_type": "stream",
     "text": [
      "I6oPcRGeaMopguefbfyTCMOAE7KDo0db1DrYwqmML6vvgai-OAf0Xu9CKiq6dfX-hxKNV1W5d6gsDg\n"
     ]
    },
    {
     "name": "stderr",
     "output_type": "stream",
     "text": [
      "\r",
      " 12%|████▋                                   | 199/1695 [07:35<07:33,  3.30it/s]"
     ]
    },
    {
     "name": "stdout",
     "output_type": "stream",
     "text": [
      "LM0LHr_7pQwRHXRoKUhqV5XMq4WDCu2Gfb_JCXHHxJgJT_7bKP-kaS6rfve0Mmsi1JnX-UMdYvVSog\n"
     ]
    },
    {
     "name": "stderr",
     "output_type": "stream",
     "text": [
      "\r",
      " 12%|████▋                                   | 200/1695 [07:35<07:21,  3.39it/s]"
     ]
    },
    {
     "name": "stdout",
     "output_type": "stream",
     "text": [
      "ZMMunCMsx-80-qxpl8jwMAyEFEXIBLUMNafgvDbZdogsXWD_H1-SS_Yyj4-i71m8Lz_gXih0STjkAg\n"
     ]
    },
    {
     "name": "stderr",
     "output_type": "stream",
     "text": [
      "\r",
      " 12%|████▋                                   | 201/1695 [07:35<07:16,  3.42it/s]"
     ]
    },
    {
     "name": "stdout",
     "output_type": "stream",
     "text": [
      "mq9o02BcV-7LqPCCre716EY8UYWoKz78bRm64lWbdRmJcEmN-Kz1dLLXaW96Wzu6fh9TBoIPLwqLhw\n"
     ]
    },
    {
     "name": "stderr",
     "output_type": "stream",
     "text": [
      "\r",
      " 12%|████▊                                   | 202/1695 [07:36<07:19,  3.40it/s]"
     ]
    },
    {
     "name": "stdout",
     "output_type": "stream",
     "text": [
      "3C3vSxWt1sk92lkKeYix0G6RsAkLGbqp5_bfwNc6zu95bJhX3eRfh3-ipJr3j2suaxJjxKEdTuEWWw\n"
     ]
    },
    {
     "name": "stderr",
     "output_type": "stream",
     "text": [
      "\r",
      " 12%|████▊                                   | 203/1695 [07:36<07:18,  3.40it/s]"
     ]
    },
    {
     "name": "stdout",
     "output_type": "stream",
     "text": [
      "kQhwb_jDttXFMlMw74_mG-2kCTgyhUfcWRlKfujyATMMEoL1s5eaToI8_nyA9IgGK3ovHLSk86uVCw\n"
     ]
    },
    {
     "name": "stderr",
     "output_type": "stream",
     "text": [
      "\r",
      " 12%|████▊                                   | 204/1695 [07:36<07:16,  3.42it/s]"
     ]
    },
    {
     "name": "stdout",
     "output_type": "stream",
     "text": [
      "cGLrVcXq7q35iRsN5rxTTuGju0F6ym6v51qaqFXVonIIh0ZS2JeJoBD3_cwYm-EErg6R4R15OeWHXg\n"
     ]
    },
    {
     "name": "stderr",
     "output_type": "stream",
     "text": [
      "\r",
      " 12%|████▊                                   | 205/1695 [07:37<07:20,  3.38it/s]"
     ]
    },
    {
     "name": "stdout",
     "output_type": "stream",
     "text": [
      "KiSv3qiayCL0rzkAY7v18rpKTzeU8UI5LVaJKrfavn3LraX3z6fF0JDGP9DARVfIFcB_OkNBzOrJ0g\n"
     ]
    },
    {
     "name": "stderr",
     "output_type": "stream",
     "text": [
      "\r",
      " 12%|████▊                                   | 206/1695 [07:37<08:04,  3.07it/s]"
     ]
    },
    {
     "name": "stdout",
     "output_type": "stream",
     "text": [
      "SKdcRbiblWnRCW1DTvTu3jqKmDORe1vx-ckMgGLAunhcoZfVdWxwmzdwgFODUdd-ewF-3ROzoo-uiQ\n"
     ]
    },
    {
     "name": "stderr",
     "output_type": "stream",
     "text": [
      "\r",
      " 12%|████▉                                   | 207/1695 [07:37<07:50,  3.16it/s]"
     ]
    },
    {
     "name": "stdout",
     "output_type": "stream",
     "text": [
      "06QA8XMolj5qvUHQNcM9ofDC2tyg3AdidGQq1cbK6p_O16jXcuwhaAGWpcJgFVJjq2u5imbGK92K0Q\n"
     ]
    },
    {
     "name": "stderr",
     "output_type": "stream",
     "text": [
      "\r",
      " 12%|████▉                                   | 208/1695 [07:38<07:44,  3.20it/s]"
     ]
    },
    {
     "name": "stdout",
     "output_type": "stream",
     "text": [
      "HdwGr9Uwa9ooILnIJ7aimUffAIZPH0r1AfBfM8xtIIV1PmIgJQkJI9gesqjl3qcmm-UXiA2OMH3WxA\n"
     ]
    },
    {
     "name": "stderr",
     "output_type": "stream",
     "text": [
      "\r",
      " 12%|████▉                                   | 209/1695 [07:38<07:40,  3.23it/s]"
     ]
    },
    {
     "name": "stdout",
     "output_type": "stream",
     "text": [
      "fn4FWUQ6f5NS74JXyl11N5pVSaVSHnKoOqUQjiFLR_2-K2A3TcEh3fV4EkOHDS_eMgkIhI_41zsRjg\n"
     ]
    },
    {
     "name": "stderr",
     "output_type": "stream",
     "text": [
      "\r",
      " 12%|████▉                                   | 210/1695 [07:38<07:57,  3.11it/s]"
     ]
    },
    {
     "name": "stdout",
     "output_type": "stream",
     "text": [
      "EW8uNTTxW8Ot9xYQ7QZBkHDkLYeuPcIbPKSvp_KyOtS2MBJzCOnBrPjfPfZPW1llxQFu4mvEx5-ROA\n"
     ]
    },
    {
     "name": "stderr",
     "output_type": "stream",
     "text": [
      "\r",
      " 12%|████▉                                   | 211/1695 [07:39<07:36,  3.25it/s]"
     ]
    },
    {
     "name": "stdout",
     "output_type": "stream",
     "text": [
      "zp022t57VrBa1qmEu4kY58XE_x_wXS5FEJdwHZ4Y5iDbI6CHuDlhH94teeN0Lez8aoE8OGcPmk0qlA\n"
     ]
    },
    {
     "name": "stderr",
     "output_type": "stream",
     "text": [
      "\r",
      " 13%|█████                                   | 212/1695 [07:39<08:07,  3.04it/s]"
     ]
    },
    {
     "name": "stdout",
     "output_type": "stream",
     "text": [
      "UxjkadHQIuw_8kLhxOX-PGaVEvRReeZm32omhKoHEv3duFGuZo3MkJofvBmXSNAb-R9Mwv3rv5pv6Q\n",
      "api cost full : infinite loop start\n",
      "loop location :  4UZ-TpUp1OMxXCtWLuvhnnyGCtvGJWtvPH6qbBpspQW7Fl4\n",
      "try 10 second wait time\n",
      "429\n",
      "try 10 second wait time\n",
      "429\n",
      "try 10 second wait time\n",
      "429\n",
      "try 10 second wait time\n",
      "429\n",
      "try 10 second wait time\n",
      "429\n",
      "try 10 second wait time\n",
      "429\n",
      "try 10 second wait time\n",
      "429\n",
      "try 10 second wait time\n",
      "429\n",
      "try 10 second wait time\n",
      "429\n",
      "try 10 second wait time\n"
     ]
    },
    {
     "name": "stderr",
     "output_type": "stream",
     "text": [
      "\r",
      " 13%|████▋                                | 213/1695 [09:23<12:55:59, 31.42s/it]"
     ]
    },
    {
     "name": "stdout",
     "output_type": "stream",
     "text": [
      "200\n",
      "total wait time :  103.53507709503174\n",
      "recovery api cost\n",
      "bNYUaP8vCP_CeIwRJLI095x0jH5SdqWcyCfEcI0vwLu4nEJN_og6_AZjPB9TOz73AVFmMG41vw49oQ\n"
     ]
    },
    {
     "name": "stderr",
     "output_type": "stream",
     "text": [
      "\r",
      " 13%|████▊                                 | 214/1695 [09:23<9:05:00, 22.08s/it]"
     ]
    },
    {
     "name": "stdout",
     "output_type": "stream",
     "text": [
      "EgoE2gnIvzNldEcvdsKMhKLxHV8b0CYRmi02vMET0dZDzxKkPvwpRfWVHbdP9ca-wu5GTMON6Arsfg\n"
     ]
    },
    {
     "name": "stderr",
     "output_type": "stream",
     "text": [
      "\r",
      " 13%|████▊                                 | 215/1695 [09:23<6:23:33, 15.55s/it]"
     ]
    },
    {
     "name": "stdout",
     "output_type": "stream",
     "text": [
      "Sz_8oJxK5z24V8c1eVZLS-TyhalN9dnYl3W5iQjD1TBei0MLM9iOZxb_nAJ1KRKcgCr6nSqz9MLbJA\n"
     ]
    },
    {
     "name": "stderr",
     "output_type": "stream",
     "text": [
      "\r",
      " 13%|████▊                                 | 216/1695 [09:24<4:32:43, 11.06s/it]"
     ]
    },
    {
     "name": "stdout",
     "output_type": "stream",
     "text": [
      "wNOBpmT1PcfLAYrsXrXIFaD_UgfokYx8ArtXN5RNlEf1pOUrChlfNZ0wudSkVGuQfXUKSs8Vstn5bQ\n"
     ]
    },
    {
     "name": "stderr",
     "output_type": "stream",
     "text": [
      "\r",
      " 13%|████▊                                 | 217/1695 [09:25<3:15:10,  7.92s/it]"
     ]
    },
    {
     "name": "stdout",
     "output_type": "stream",
     "text": [
      "hfIyO5kwvsDh9IB_kvEhOqMIEVHS_rsQlwYbGSmRTWgn6AnvGAWhpRaFd-AKNij3oxG1Ut3uRPYwHw\n"
     ]
    },
    {
     "name": "stderr",
     "output_type": "stream",
     "text": [
      "\r",
      " 13%|████▉                                 | 218/1695 [09:25<2:22:15,  5.78s/it]"
     ]
    },
    {
     "name": "stdout",
     "output_type": "stream",
     "text": [
      "uvITtfHjPylqvpe30dSW5btfMH5rHPUlbx4oW7-ZsJFUmgU6C8iNPyN7wOL6NjuraktUrKlhMbs62g\n"
     ]
    },
    {
     "name": "stderr",
     "output_type": "stream",
     "text": [
      "\r",
      " 13%|████▉                                 | 219/1695 [09:26<1:43:47,  4.22s/it]"
     ]
    },
    {
     "name": "stdout",
     "output_type": "stream",
     "text": [
      "oI35oHJ45ot1E0DqnMl5GzbYATN-iqawUlh39MHZjPsK34-bxreiXCreaZNRZZnpSPsJ5o0_M6u4Ng\n"
     ]
    },
    {
     "name": "stderr",
     "output_type": "stream",
     "text": [
      "\r",
      " 13%|████▉                                 | 220/1695 [09:26<1:14:41,  3.04s/it]"
     ]
    },
    {
     "name": "stdout",
     "output_type": "stream",
     "text": [
      "2bqklW0H736_MWJmow9C6uAnRy-HrZxnqYtuYt_u56j6WcrRyM1ZaO54523bsI6-VBhJn5jm2YYGNQ\n"
     ]
    },
    {
     "name": "stderr",
     "output_type": "stream",
     "text": [
      "\r",
      " 13%|█████▏                                  | 221/1695 [09:27<54:21,  2.21s/it]"
     ]
    },
    {
     "name": "stdout",
     "output_type": "stream",
     "text": [
      "zovxdldXt-pUpaxUzrOe7Ch5dk8muvlaB-5Wrms5XVuS15WffIMG9ATvFbBr6T4DpFFr53Ik3fnLIA\n"
     ]
    },
    {
     "name": "stderr",
     "output_type": "stream",
     "text": [
      "\r",
      " 13%|█████▏                                  | 222/1695 [09:27<40:16,  1.64s/it]"
     ]
    },
    {
     "name": "stdout",
     "output_type": "stream",
     "text": [
      "bABN_chkPUZ-hpz7Ggkqtg7mWJ5tSlVhtQUXbFD5usCfg44CC_ceLKImf47OZ_AG1jz9q_6fxLRgbg\n"
     ]
    },
    {
     "name": "stderr",
     "output_type": "stream",
     "text": [
      "\r",
      " 13%|█████▎                                  | 223/1695 [09:27<31:14,  1.27s/it]"
     ]
    },
    {
     "name": "stdout",
     "output_type": "stream",
     "text": [
      "26ps-bMFbj4xmeaRtvlVyXGtHkC19XuoSPs4hct516TUZmr_mWJ9nJwwk2REdTKJ96vu9d1mHRCdSQ\n"
     ]
    },
    {
     "name": "stderr",
     "output_type": "stream",
     "text": [
      "\r",
      " 13%|█████▎                                  | 224/1695 [09:28<23:59,  1.02it/s]"
     ]
    },
    {
     "name": "stdout",
     "output_type": "stream",
     "text": [
      "R2PGb6sR8FjUX4KcM7Xh1zWK_LUQonm74AF_sqTeIMqUmppdfGmX6y1OkjBEjz4oZ77hSI558USnOg\n"
     ]
    },
    {
     "name": "stderr",
     "output_type": "stream",
     "text": [
      "\r",
      " 13%|█████▎                                  | 225/1695 [09:28<18:56,  1.29it/s]"
     ]
    },
    {
     "name": "stdout",
     "output_type": "stream",
     "text": [
      "lnJp5OQcORXvNSChEcxOemigddl7jFndU8_N3p-V8uG6vpOynlaPT4cVJXjKQj8lRINJgTJqP5amzw\n"
     ]
    },
    {
     "name": "stderr",
     "output_type": "stream",
     "text": [
      "\r",
      " 13%|█████▎                                  | 226/1695 [09:28<15:13,  1.61it/s]"
     ]
    },
    {
     "name": "stdout",
     "output_type": "stream",
     "text": [
      "MkB3L87rGK_2mUax-Ob38jl1azVbAeW1_aFQbZpR-tMM7NmTJPMxjSIw0d7f2di82k7jIa6Um4QTCA\n"
     ]
    },
    {
     "name": "stderr",
     "output_type": "stream",
     "text": [
      "\r",
      " 13%|█████▎                                  | 227/1695 [09:28<12:48,  1.91it/s]"
     ]
    },
    {
     "name": "stdout",
     "output_type": "stream",
     "text": [
      "u4X-mmKPI66IDkFXkbSJ8tMy5CxrhU1s1wgtlrLjscEd6Ep5v4ILUc1lZ077UKh1P7pOcT7bOksdfw\n"
     ]
    },
    {
     "name": "stderr",
     "output_type": "stream",
     "text": [
      "\r",
      " 13%|█████▍                                  | 228/1695 [09:29<12:04,  2.02it/s]"
     ]
    },
    {
     "name": "stdout",
     "output_type": "stream",
     "text": [
      "GUtdH3gSbdrJgUSWPTEYK1WxONVz4cMjlXNAMYVahrYTbd7nEGYur4umwKonzot1mLq-p9zcqT9FUw\n"
     ]
    },
    {
     "name": "stderr",
     "output_type": "stream",
     "text": [
      "\r",
      " 14%|█████▍                                  | 229/1695 [09:29<10:35,  2.31it/s]"
     ]
    },
    {
     "name": "stdout",
     "output_type": "stream",
     "text": [
      "lLX3PhQZlfLQSaq9kOvNQ4_a-xonMKbnB-9avFcYglpl9YJQ4sTZcS6hl8YKf_TGxjRdaii5ei8q7w\n"
     ]
    },
    {
     "name": "stderr",
     "output_type": "stream",
     "text": [
      "\r",
      " 14%|█████▍                                  | 230/1695 [09:29<09:34,  2.55it/s]"
     ]
    },
    {
     "name": "stdout",
     "output_type": "stream",
     "text": [
      "46HCe5dKfauQ0N6xPw2n75U_kvCUzjn0Jn1UFPOnliG5Vor1oJYxN6ihVc5c6SLYP-0blOTH93BxfA\n"
     ]
    },
    {
     "name": "stderr",
     "output_type": "stream",
     "text": [
      "\r",
      " 14%|█████▍                                  | 231/1695 [09:30<08:43,  2.80it/s]"
     ]
    },
    {
     "name": "stdout",
     "output_type": "stream",
     "text": [
      "9MNehNMhKBrrQsnVuz2XnSfm4nXMqK4FSLv0Mj7tKFCS5Mw3KpUOLgpX4FxIccHlXUdz8NiFiqkqXw\n"
     ]
    },
    {
     "name": "stderr",
     "output_type": "stream",
     "text": [
      "\r",
      " 14%|█████▍                                  | 232/1695 [09:30<08:13,  2.96it/s]"
     ]
    },
    {
     "name": "stdout",
     "output_type": "stream",
     "text": [
      "DdEKTcjoyYJjgkn7SaEZFkFgj_85rNJAVkJpU0GKf7aWy9UzbINXlXSGcAY-kLx2gg4Lcy1ZKJxRMQ\n"
     ]
    },
    {
     "name": "stderr",
     "output_type": "stream",
     "text": [
      "\r",
      " 14%|█████▍                                  | 233/1695 [09:30<08:48,  2.76it/s]"
     ]
    },
    {
     "name": "stdout",
     "output_type": "stream",
     "text": [
      "dniKq7p6pvVg_mK3AFfGZN7kA-2IBeQmYXxGOTaBvIrRyt9o6acVxa5JVmz7UuX18OMw9KEEKBBqjw\n"
     ]
    },
    {
     "name": "stderr",
     "output_type": "stream",
     "text": [
      "\r",
      " 14%|█████▌                                  | 234/1695 [09:31<10:02,  2.42it/s]"
     ]
    },
    {
     "name": "stdout",
     "output_type": "stream",
     "text": [
      "BOv5tOd_-Agll9O3ZHB6JeEYX1yfRTYT7XxMmxnq6BlcL_12hgQCo8RrlmIUz24GMlmwghqBEWIojQ\n"
     ]
    },
    {
     "name": "stderr",
     "output_type": "stream",
     "text": [
      "\r",
      " 14%|█████▌                                  | 235/1695 [09:32<11:16,  2.16it/s]"
     ]
    },
    {
     "name": "stdout",
     "output_type": "stream",
     "text": [
      "FXme2KN_TOipwAs4npkEHjLcspc3oX9mQ_FC8vperaJWsStvsqLwu_8w9RiqvNvsGWrt0hd6NAcx6w\n"
     ]
    },
    {
     "name": "stderr",
     "output_type": "stream",
     "text": [
      "\r",
      " 14%|█████▌                                  | 236/1695 [09:32<11:55,  2.04it/s]"
     ]
    },
    {
     "name": "stdout",
     "output_type": "stream",
     "text": [
      "hvD0K9QcL4lIfugrJqwpeH7yDPuwywErSjYeubYpA_7UYMixSHwNCI0XmZB4R7gOw_yFw8p0MbxFrA\n"
     ]
    },
    {
     "name": "stderr",
     "output_type": "stream",
     "text": [
      "\r",
      " 14%|█████▌                                  | 237/1695 [09:33<12:16,  1.98it/s]"
     ]
    },
    {
     "name": "stdout",
     "output_type": "stream",
     "text": [
      "GSKc22vr9J54ALgv226ut_yQe9niy5L4Uc0WwGH7jR7HL8ACo-RVuOupSexCNa4vSTHPGIk3yZayqA\n"
     ]
    },
    {
     "name": "stderr",
     "output_type": "stream",
     "text": [
      "\r",
      " 14%|█████▌                                  | 238/1695 [09:33<10:59,  2.21it/s]"
     ]
    },
    {
     "name": "stdout",
     "output_type": "stream",
     "text": [
      "kXEshXE25r_ifmAfzdrV-IMhU3Xe1vC8d_r9P18e5cqTZ4GzUhgDTMKscqbHf_UYJ6e3jrfcYlJaZg\n"
     ]
    },
    {
     "name": "stderr",
     "output_type": "stream",
     "text": [
      "\r",
      " 14%|█████▋                                  | 239/1695 [09:33<10:01,  2.42it/s]"
     ]
    },
    {
     "name": "stdout",
     "output_type": "stream",
     "text": [
      "xs4LixOkKITKR5gphVzB6O_5LvzFvBXDOcCXGtdSMVcWWjTIm0UlEP2hpAhSskINj5gjIzwpMG29VA\n"
     ]
    },
    {
     "name": "stderr",
     "output_type": "stream",
     "text": [
      "\r",
      " 14%|█████▋                                  | 240/1695 [09:34<10:04,  2.41it/s]"
     ]
    },
    {
     "name": "stdout",
     "output_type": "stream",
     "text": [
      "TuiPPeVQTp_gfOBWe3uA6JCYW5nsl1h1KcXJuS8fZ1aAYSYtfSRmzoQNT4qdxmZ5apXdGJbNkNj8Ig\n"
     ]
    },
    {
     "name": "stderr",
     "output_type": "stream",
     "text": [
      "\r",
      " 14%|█████▋                                  | 241/1695 [09:34<09:14,  2.62it/s]"
     ]
    },
    {
     "name": "stdout",
     "output_type": "stream",
     "text": [
      "VRscdAAQgCYZRr_cdpGswYnsW6Q59W6bJJhslK--isriMCzu5ww1TOBUGWWo5J9kgq9ZE4ED5kFQOg\n"
     ]
    },
    {
     "name": "stderr",
     "output_type": "stream",
     "text": [
      "\r",
      " 14%|█████▋                                  | 242/1695 [09:34<08:35,  2.82it/s]"
     ]
    },
    {
     "name": "stdout",
     "output_type": "stream",
     "text": [
      "OFz4vMpvC8cYP0S6oLZrHBmbsnXTqPGl98zTz3D-XrCXqQ0P_H4LNjw2NU7A06og_spMqywQt7fW_Q\n"
     ]
    },
    {
     "name": "stderr",
     "output_type": "stream",
     "text": [
      "\r",
      " 14%|█████▋                                  | 243/1695 [09:35<08:06,  2.99it/s]"
     ]
    },
    {
     "name": "stdout",
     "output_type": "stream",
     "text": [
      "ENR50fhZEJgIlo2tU8ddvUU4uM2kKnP3Gyv7AP7GF_GEYJTJfLnIO0y2YHArvUMU4wHCTRhZT0JN0A\n"
     ]
    },
    {
     "name": "stderr",
     "output_type": "stream",
     "text": [
      "\r",
      " 14%|█████▊                                  | 244/1695 [09:35<07:35,  3.18it/s]"
     ]
    },
    {
     "name": "stdout",
     "output_type": "stream",
     "text": [
      "moPv6IbPSgjtrrStneMz31jVBsex6sUnvrQqIngHQUiuzuo2TTpFP2AO4_KcjZYUSHEDa4e-yrx4FA\n"
     ]
    },
    {
     "name": "stderr",
     "output_type": "stream",
     "text": [
      "\r",
      " 14%|█████▊                                  | 245/1695 [09:35<09:35,  2.52it/s]"
     ]
    },
    {
     "name": "stdout",
     "output_type": "stream",
     "text": [
      "BqVTQR8z4f4hXLQAo-Hur-hRyJ-ohY8oK7etEZ-7bVi-28UfIv6a7sUwIW4f9ibB-TrfoI609MglmQ\n"
     ]
    },
    {
     "name": "stderr",
     "output_type": "stream",
     "text": [
      "\r",
      " 15%|█████▊                                  | 246/1695 [09:36<08:51,  2.73it/s]"
     ]
    },
    {
     "name": "stdout",
     "output_type": "stream",
     "text": [
      "AU-FQ8F0OUUqB-B_jmNTLgqgVcaPgWw9FJ76ZCJev0OvN7yEEKSCBcelnHE28TsNfpEs0s-Lm_S7rw\n"
     ]
    },
    {
     "name": "stderr",
     "output_type": "stream",
     "text": [
      "\r",
      " 15%|█████▊                                  | 247/1695 [09:36<08:17,  2.91it/s]"
     ]
    },
    {
     "name": "stdout",
     "output_type": "stream",
     "text": [
      "m8EyQomycDCUiMPr43m_9hxfb2mNGGv-AXv734G3V3EGYvjdYybDQIM4beTQ8WSOlGWgdu5kyVjd9w\n"
     ]
    },
    {
     "name": "stderr",
     "output_type": "stream",
     "text": [
      "\r",
      " 15%|█████▊                                  | 248/1695 [09:36<07:54,  3.05it/s]"
     ]
    },
    {
     "name": "stdout",
     "output_type": "stream",
     "text": [
      "-59xpZIpVnJhjfRsIZN46NAN1hsYQCf0a-DYt23wBfiydAhbBViXUiF5Xy6CmjIgHIvHveqlJeoSEg\n"
     ]
    },
    {
     "name": "stderr",
     "output_type": "stream",
     "text": [
      "\r",
      " 15%|█████▉                                  | 249/1695 [09:37<08:02,  3.00it/s]"
     ]
    },
    {
     "name": "stdout",
     "output_type": "stream",
     "text": [
      "nzGHuG6pdep-4Uqb9E2hPGvzHX3bd8A2pPyhaL75U9cgMIAwWSJVAk1rafesMU6SbKf-dBwCoy7OZA\n"
     ]
    },
    {
     "name": "stderr",
     "output_type": "stream",
     "text": [
      "\r",
      " 15%|█████▉                                  | 250/1695 [09:37<08:08,  2.96it/s]"
     ]
    },
    {
     "name": "stdout",
     "output_type": "stream",
     "text": [
      "JBY0NwI0vhfL5a30bkYnNKx8s-HsT5JXHvOsngjYWO8Rj9ft-vx7QQW-q7stCuA5EDsNcVXYCb8t0w\n"
     ]
    },
    {
     "name": "stderr",
     "output_type": "stream",
     "text": [
      "\r",
      " 15%|█████▉                                  | 251/1695 [09:37<07:49,  3.08it/s]"
     ]
    },
    {
     "name": "stdout",
     "output_type": "stream",
     "text": [
      "2HaL_dS008bFPXnSrk_WGHM5zpwPFV0S7GmNOkhxlbcRfStjXM2JTw2ZiNtWsNnvQ0Y1-KY62YUlkw\n"
     ]
    },
    {
     "name": "stderr",
     "output_type": "stream",
     "text": [
      "\r",
      " 15%|█████▉                                  | 252/1695 [09:38<07:34,  3.17it/s]"
     ]
    },
    {
     "name": "stdout",
     "output_type": "stream",
     "text": [
      "AW5V2og-rR4uOwNu0QyczzjAChOYIWycJ0fB_2Wh5cgSRWh0roAIC69xV3S0zFAzhuf9S7MOu4hJFA\n"
     ]
    },
    {
     "name": "stderr",
     "output_type": "stream",
     "text": [
      "\r",
      " 15%|█████▉                                  | 253/1695 [09:38<07:28,  3.22it/s]"
     ]
    },
    {
     "name": "stdout",
     "output_type": "stream",
     "text": [
      "WqalH9vARfjAoYcPWiPxUN5Do9ZBkSn7dEzTRusqbqy-aRlYtzY2bbPo0wseH-u14SNe_AfTPwDY_Q\n"
     ]
    },
    {
     "name": "stderr",
     "output_type": "stream",
     "text": [
      "\r",
      " 15%|█████▉                                  | 254/1695 [09:38<07:35,  3.17it/s]"
     ]
    },
    {
     "name": "stdout",
     "output_type": "stream",
     "text": [
      "ifYaZGRrZUK7I8IqPnkThe0jkP5CD_XGzKSaeY8Gv_vTcaTdFLINQhaQ3kYZGgB9-H9Zj5MFcKA3jg\n"
     ]
    },
    {
     "name": "stderr",
     "output_type": "stream",
     "text": [
      "\r",
      " 15%|██████                                  | 255/1695 [09:39<07:25,  3.23it/s]"
     ]
    },
    {
     "name": "stdout",
     "output_type": "stream",
     "text": [
      "vtjJbY7hVWqrofcLGLvAGSiagSrI5z4GtqYvPKkJlkeywklAq_b8XfAWSGblqZB4p4jWoVkhPzYqUQ\n"
     ]
    },
    {
     "name": "stderr",
     "output_type": "stream",
     "text": [
      "\r",
      " 15%|██████                                  | 256/1695 [09:39<07:18,  3.28it/s]"
     ]
    },
    {
     "name": "stdout",
     "output_type": "stream",
     "text": [
      "laHoXxJV1JumzBUX3fM0MeAhbkVhc2dQJFswEm1_7DcfvU9UfCfYsJvpoGyWvFshRIdJyb73tsikpg\n"
     ]
    },
    {
     "name": "stderr",
     "output_type": "stream",
     "text": [
      "\r",
      " 15%|██████                                  | 257/1695 [09:39<08:31,  2.81it/s]"
     ]
    },
    {
     "name": "stdout",
     "output_type": "stream",
     "text": [
      "sYgQr726nEfLPqmjL_c_OPqQx4oypNAjkdC_P4a9a9NovmB4jcrXrn5ckhzl2JvlKY1b7vi2OZHcHg\n"
     ]
    },
    {
     "name": "stderr",
     "output_type": "stream",
     "text": [
      "\r",
      " 15%|██████                                  | 258/1695 [09:40<08:09,  2.93it/s]"
     ]
    },
    {
     "name": "stdout",
     "output_type": "stream",
     "text": [
      "iZWFaLhE_x2CjbNBCtAHuRG1nqfzDPWfyOnF9IEunMrjx9Bs8VJCoyKXpGT1txJXzRP6q05lAiYEKw\n"
     ]
    },
    {
     "name": "stderr",
     "output_type": "stream",
     "text": [
      "\r",
      " 15%|██████                                  | 259/1695 [09:40<07:55,  3.02it/s]"
     ]
    },
    {
     "name": "stdout",
     "output_type": "stream",
     "text": [
      "ZQ3fI0HfGOLbxike3xJMsCq9EqkZ1JdrwNyP4GP9vXRxNaPwv9z21XEGE8Q2BiB_cMq_BFIro-E8NA\n"
     ]
    },
    {
     "name": "stderr",
     "output_type": "stream",
     "text": [
      "\r",
      " 15%|██████▏                                 | 260/1695 [09:40<07:33,  3.16it/s]"
     ]
    },
    {
     "name": "stdout",
     "output_type": "stream",
     "text": [
      "-fKk-60y300IIQtHQjyPsVBRR1h7-6CsPbz_IT3Z7XSACi-bVJo95bvsoVgU9EtkiDO3iMHSdFQJpQ\n"
     ]
    },
    {
     "name": "stderr",
     "output_type": "stream",
     "text": [
      "\r",
      " 15%|██████▏                                 | 261/1695 [09:40<07:22,  3.24it/s]"
     ]
    },
    {
     "name": "stdout",
     "output_type": "stream",
     "text": [
      "4trMJKmsw9fQCrsfFHfmhCH9-ARBLPnAmctjeCnh90HJ95bG1--R7w2-SZ12eq-TDXZJVCexgM7y5Q\n"
     ]
    },
    {
     "name": "stderr",
     "output_type": "stream",
     "text": [
      "\r",
      " 15%|██████▏                                 | 262/1695 [09:41<07:11,  3.32it/s]"
     ]
    },
    {
     "name": "stdout",
     "output_type": "stream",
     "text": [
      "qZUUEVPL1pdy_6ZyQJeH7Is_0nAtNvuOudmqk8bAyIfi-fnQk0vVL8M0mz2EuGYt1RFsOo-ci2DrBg\n"
     ]
    },
    {
     "name": "stderr",
     "output_type": "stream",
     "text": [
      "\r",
      " 16%|██████▏                                 | 263/1695 [09:41<07:09,  3.33it/s]"
     ]
    },
    {
     "name": "stdout",
     "output_type": "stream",
     "text": [
      "bLiSzY7cKFWUI_bJbo_Q6_owfU5BERrXsbMey4BvGSkIrCLsAEqlXHy2slSgLDs7dFVuv79OHtFGTg\n"
     ]
    },
    {
     "name": "stderr",
     "output_type": "stream",
     "text": [
      "\r",
      " 16%|██████▏                                 | 264/1695 [09:41<07:16,  3.28it/s]"
     ]
    },
    {
     "name": "stdout",
     "output_type": "stream",
     "text": [
      "kzr_83eyYs2pUQqv9GczQYiq6EOV3m92nhvYZ0PkckNV_p1DU6eP1zITHyF9UmK-apffe97N93xH6g\n",
      "api cost full : infinite loop start\n",
      "loop location :  EPdy5nU6tSZyPhefcGrhs5CpmzJukx-4Q-_IKQ5pm7EM0NJB_ZteLnXsfQ\n",
      "try 10 second wait time\n",
      "429\n",
      "try 10 second wait time\n",
      "429\n",
      "try 10 second wait time\n",
      "429\n",
      "try 10 second wait time\n",
      "429\n",
      "try 10 second wait time\n",
      "429\n",
      "try 10 second wait time\n",
      "429\n",
      "try 10 second wait time\n",
      "429\n",
      "try 10 second wait time\n",
      "429\n",
      "try 10 second wait time\n",
      "429\n",
      "try 10 second wait time\n"
     ]
    },
    {
     "name": "stderr",
     "output_type": "stream",
     "text": [
      "\r",
      " 16%|█████▊                               | 265/1695 [11:27<12:38:54, 31.84s/it]"
     ]
    },
    {
     "name": "stdout",
     "output_type": "stream",
     "text": [
      "200\n",
      "total wait time :  105.17381691932678\n",
      "recovery api cost\n",
      "8R7_ao1d-Z30VtuQLNoZRgpORUqsVJI6IcW7dchF--A1CEqXkEzA6BAZ-bCyJrIPCOP4i5NY0IIO0g\n"
     ]
    },
    {
     "name": "stderr",
     "output_type": "stream",
     "text": [
      "\r",
      " 16%|█████▉                                | 266/1695 [11:27<8:53:15, 22.39s/it]"
     ]
    },
    {
     "name": "stdout",
     "output_type": "stream",
     "text": [
      "VAfCc1PU-WtiBwWQejBPqmzri4vO54hBDUChAFM8CdPs3LvnSSUCgPubUIAN8zZLgCATCk9gmcfN3A\n"
     ]
    },
    {
     "name": "stderr",
     "output_type": "stream",
     "text": [
      "\r",
      " 16%|█████▉                                | 267/1695 [11:28<6:15:56, 15.80s/it]"
     ]
    },
    {
     "name": "stdout",
     "output_type": "stream",
     "text": [
      "oOL0qht9PQcWFKwEVXdMhtCPOsnHjgwCIpA25WS-c5NEUxe_AerkhvQsWjp-IO-oLMHz072-r0LDVQ\n"
     ]
    },
    {
     "name": "stderr",
     "output_type": "stream",
     "text": [
      "\r",
      " 16%|██████                                | 268/1695 [11:28<4:25:22, 11.16s/it]"
     ]
    },
    {
     "name": "stdout",
     "output_type": "stream",
     "text": [
      "OoFOHkN4E3ygmIY8ueM4swrwxRmv61wORjytzVd5ldvUESQxZ5KR5I-FgmGlDfNTxBLL6u3S51fqSw\n"
     ]
    },
    {
     "name": "stderr",
     "output_type": "stream",
     "text": [
      "\r",
      " 16%|██████                                | 269/1695 [11:28<3:08:38,  7.94s/it]"
     ]
    },
    {
     "name": "stdout",
     "output_type": "stream",
     "text": [
      "T42HSTWEdLf7yi3KSHycvMSyZqpSVLzy9G7GQG5N__0Kk2iaxY7vSM6CFPvpKvyixvTBbAERzEQT8A\n"
     ]
    },
    {
     "name": "stderr",
     "output_type": "stream",
     "text": [
      "\r",
      " 16%|██████                                | 270/1695 [11:29<2:16:06,  5.73s/it]"
     ]
    },
    {
     "name": "stdout",
     "output_type": "stream",
     "text": [
      "Xv9yewqnuG4AOxhaSlp3TWqcMymNA90qauKcW7YVjztJbiZ3vejDnHF4qTFM90F2eDtg8am9Pp_2Pw\n"
     ]
    },
    {
     "name": "stderr",
     "output_type": "stream",
     "text": [
      "\r",
      " 16%|██████                                | 271/1695 [11:29<1:37:37,  4.11s/it]"
     ]
    },
    {
     "name": "stdout",
     "output_type": "stream",
     "text": [
      "BBcXRRFXQafN4YU1GpIDTtYLhnDOFM_cTTrJtQh7KCl74-eM-vf0aFLNGQvjoilND9Br-EbVttshtg\n"
     ]
    },
    {
     "name": "stderr",
     "output_type": "stream",
     "text": [
      "\r",
      " 16%|██████                                | 272/1695 [11:30<1:14:15,  3.13s/it]"
     ]
    },
    {
     "name": "stdout",
     "output_type": "stream",
     "text": [
      "KWgtOjBHp3sLPClhMGGP9A5JRGQ8j0B9TSTxIHnu7DcgSp7Jvk-AhV13emi0cfgZcsAWWRc5rwYnSw\n"
     ]
    },
    {
     "name": "stderr",
     "output_type": "stream",
     "text": [
      "\r",
      " 16%|██████▍                                 | 273/1695 [11:31<56:47,  2.40s/it]"
     ]
    },
    {
     "name": "stdout",
     "output_type": "stream",
     "text": [
      "73COIa870mGHEs7Yb0SABh71T8MkIVwnfo6FfhUe9TpC9kMyETqHC26uEhM9sKrP21cjrdwYZtudcA\n"
     ]
    },
    {
     "name": "stderr",
     "output_type": "stream",
     "text": [
      "\r",
      " 16%|██████▍                                 | 274/1695 [11:31<41:52,  1.77s/it]"
     ]
    },
    {
     "name": "stdout",
     "output_type": "stream",
     "text": [
      "qLSzsoH9ujFJIaz5Z5YaBg4mHCoArLtLXU-4CFyaPlfRb4IsVhL93Yyr-sru-YrDbs9j00mK1HQdNw\n"
     ]
    },
    {
     "name": "stderr",
     "output_type": "stream",
     "text": [
      "\r",
      " 16%|██████▍                                 | 275/1695 [11:31<31:23,  1.33s/it]"
     ]
    },
    {
     "name": "stdout",
     "output_type": "stream",
     "text": [
      "RCT1OUrbkjS94Ufq9Ikm0zzAZpCehj3R9aw2Cw3TeVa8wLR-68jFc98LT3FvR30vHjJWd7--nK1l3A\n"
     ]
    },
    {
     "name": "stderr",
     "output_type": "stream",
     "text": [
      "\r",
      " 16%|██████▌                                 | 276/1695 [11:32<24:23,  1.03s/it]"
     ]
    },
    {
     "name": "stdout",
     "output_type": "stream",
     "text": [
      "YcqrXoBmFI9aMip3ikRuk8EPO-YvDh2mFAPWGb4LqREsg3xcq5kn7mt5AvLfSbRPLcxK22Ja4QYMTw\n"
     ]
    },
    {
     "name": "stderr",
     "output_type": "stream",
     "text": [
      "\r",
      " 16%|██████▌                                 | 277/1695 [11:32<21:54,  1.08it/s]"
     ]
    },
    {
     "name": "stdout",
     "output_type": "stream",
     "text": [
      "FvKQCSb7be8sUsCi2sWmbWnwBrOz9ydDeGlDrFbUUr5p0hv5eaMrRKzx0ttRzmcvyrIIbMCjUxFOAQ\n"
     ]
    },
    {
     "name": "stderr",
     "output_type": "stream",
     "text": [
      "\r",
      " 16%|██████▌                                 | 278/1695 [11:33<17:25,  1.36it/s]"
     ]
    },
    {
     "name": "stdout",
     "output_type": "stream",
     "text": [
      "AFgMJRbi35TvKikZiHPHy_gCeW9UmahIvmAfsHiGeS3UayhLvGAWb8olah_mzPoYpQf_H1qao2O_sg\n"
     ]
    },
    {
     "name": "stderr",
     "output_type": "stream",
     "text": [
      "\r",
      " 16%|██████▌                                 | 279/1695 [11:33<14:20,  1.65it/s]"
     ]
    },
    {
     "name": "stdout",
     "output_type": "stream",
     "text": [
      "NoQXPaNTzeZRFZNOCUYVb0AmCl03_3rF4c400m1HzEwvQ0F-P9tegQNHYsu9rs1IdHMgNktCdhVOSg\n"
     ]
    },
    {
     "name": "stderr",
     "output_type": "stream",
     "text": [
      "\r",
      " 17%|██████▌                                 | 280/1695 [11:33<13:08,  1.79it/s]"
     ]
    },
    {
     "name": "stdout",
     "output_type": "stream",
     "text": [
      "Ce0eJ-NAd_tqWgSUfE20Dg4hVhTMiFzxYcdspUAUbMipuje9unIqh8rz1X5UOfRHU4jPP6amya4zcQ\n"
     ]
    },
    {
     "name": "stderr",
     "output_type": "stream",
     "text": [
      "\r",
      " 17%|██████▋                                 | 281/1695 [11:34<11:19,  2.08it/s]"
     ]
    },
    {
     "name": "stdout",
     "output_type": "stream",
     "text": [
      "bF9UilwVZ5hawu8RBAO5V6L4zupi2nz2ZO3p4znFLp0j7r8vdpjsFh-Ooow-TZklIpBAGh2-wVGxoQ\n"
     ]
    },
    {
     "name": "stderr",
     "output_type": "stream",
     "text": [
      "\r",
      " 17%|██████▋                                 | 282/1695 [11:34<12:02,  1.96it/s]"
     ]
    },
    {
     "name": "stdout",
     "output_type": "stream",
     "text": [
      "ELWf-6KrLa-qpF_QwElwMETx78ydqpV6zM_M7fNluKJ4a2a2G5mS3K_9nlZ9N8yTeg0q0SK_WNO9XQ\n"
     ]
    },
    {
     "name": "stderr",
     "output_type": "stream",
     "text": [
      "\r",
      " 17%|██████▋                                 | 283/1695 [11:35<14:49,  1.59it/s]"
     ]
    },
    {
     "name": "stdout",
     "output_type": "stream",
     "text": [
      "p4t3P6nus0ECSk12HBoFiNp7bDHjBNEjM7hxNlQXxmbk8y54NlSk-eDjVkJ2GJTqOZH0UCU8ENY4JQ\n"
     ]
    },
    {
     "name": "stderr",
     "output_type": "stream",
     "text": [
      "\r",
      " 17%|██████▋                                 | 284/1695 [11:36<12:34,  1.87it/s]"
     ]
    },
    {
     "name": "stdout",
     "output_type": "stream",
     "text": [
      "iJYXQkL0TUzV9er_grC0IUPjpcVttz-OWFu9ZbrBAJfdtHeuuyI0wwKO_xUbKy03PiY4BnXvSUuxtg\n"
     ]
    },
    {
     "name": "stderr",
     "output_type": "stream",
     "text": [
      "\r",
      " 17%|██████▋                                 | 285/1695 [11:36<15:32,  1.51it/s]"
     ]
    },
    {
     "name": "stdout",
     "output_type": "stream",
     "text": [
      "k4QUwXOR4kQ295FJgIXuMVCqyxxwdw4egr4JcKf1ta5_845AgQRzIerq6XCPYRaV1_4wv7vBubQrbQ\n"
     ]
    },
    {
     "name": "stderr",
     "output_type": "stream",
     "text": [
      "\r",
      " 17%|██████▋                                 | 286/1695 [11:37<15:12,  1.54it/s]"
     ]
    },
    {
     "name": "stdout",
     "output_type": "stream",
     "text": [
      "YrmgBnxgkeFzBhluTyvVbkpsby1BXwNyheF-x9CMC3CDlvCPfhQphBAU25M3nbyq2_YYi2mzqACpiw\n"
     ]
    },
    {
     "name": "stderr",
     "output_type": "stream",
     "text": [
      "\r",
      " 17%|██████▊                                 | 287/1695 [11:38<16:24,  1.43it/s]"
     ]
    },
    {
     "name": "stdout",
     "output_type": "stream",
     "text": [
      "Umj9v9-unIDCZEFn6JClnNKj87PVvozlq7X1HyNLxpdqsZPkW_pggIOSd_oiq18AFp6z3URMJ1bNKw\n"
     ]
    },
    {
     "name": "stderr",
     "output_type": "stream",
     "text": [
      "\r",
      " 17%|██████▊                                 | 288/1695 [11:38<15:14,  1.54it/s]"
     ]
    },
    {
     "name": "stdout",
     "output_type": "stream",
     "text": [
      "plrHEEiX8Bci0JkKw8Z-ij6TtqBA5CwdvNzyKNapNfCEbVz5KKrRdLXvXuwuqyLbUgrVFVfy6qpE4A\n"
     ]
    },
    {
     "name": "stderr",
     "output_type": "stream",
     "text": [
      "\r",
      " 17%|██████▊                                 | 289/1695 [11:39<12:41,  1.85it/s]"
     ]
    },
    {
     "name": "stdout",
     "output_type": "stream",
     "text": [
      "C7jq8F1Bhs4jfWmhvLvEqciH28YNjM7U_RYQSMc6d8ZZ-ny8JM7wFWDA78zqBeU4Y16sHBRvCaeUDA\n"
     ]
    },
    {
     "name": "stderr",
     "output_type": "stream",
     "text": [
      "\r",
      " 17%|██████▊                                 | 290/1695 [11:39<12:30,  1.87it/s]"
     ]
    },
    {
     "name": "stdout",
     "output_type": "stream",
     "text": [
      "CTceMPi5f6qhWIpMst1mZG8YnUMOfAJRdKKdDiTHRy7gSa0Ln8KkYeLyQwSDQ4OFCOpkfmxIYoBKqg\n"
     ]
    },
    {
     "name": "stderr",
     "output_type": "stream",
     "text": [
      "\r",
      " 17%|██████▊                                 | 291/1695 [11:40<13:42,  1.71it/s]"
     ]
    },
    {
     "name": "stdout",
     "output_type": "stream",
     "text": [
      "CskWlSunYLQHl7uXDraVDDQRtGt21Z9XG-RWoegx0hrH8cpO9726DPKLKAerzuKAujVfBNDlBWNbXA\n"
     ]
    },
    {
     "name": "stderr",
     "output_type": "stream",
     "text": [
      "\r",
      " 17%|██████▉                                 | 292/1695 [11:40<12:34,  1.86it/s]"
     ]
    },
    {
     "name": "stdout",
     "output_type": "stream",
     "text": [
      "xCy6u-Qq0d_7R9kGxsXBQuDRsIx7sRnd2WFV_dBgmbQnKRDeFEkscHzX6yg4Vqd0gxMekr0r5LIGsA\n"
     ]
    },
    {
     "name": "stderr",
     "output_type": "stream",
     "text": [
      "\r",
      " 17%|██████▉                                 | 293/1695 [11:41<13:46,  1.70it/s]"
     ]
    },
    {
     "name": "stdout",
     "output_type": "stream",
     "text": [
      "4ag2jvUfRcjJCgc8ZgxxwygLTG73a03i0bowwRSWKLIHqKbh2KjEh_cFfsKLYirsFwEWB6KdwVNOQQ\n"
     ]
    },
    {
     "name": "stderr",
     "output_type": "stream",
     "text": [
      "\r",
      " 17%|██████▉                                 | 294/1695 [11:42<13:45,  1.70it/s]"
     ]
    },
    {
     "name": "stdout",
     "output_type": "stream",
     "text": [
      "56nW0XVqq5Kyd3osZJcxMD5bDkfVlN3rKrR5kwdIIZxE6JclB881rq552Eu-N5Fi0rJJVQdgSevkng\n"
     ]
    },
    {
     "name": "stderr",
     "output_type": "stream",
     "text": [
      "\r",
      " 17%|██████▉                                 | 295/1695 [11:42<13:32,  1.72it/s]"
     ]
    },
    {
     "name": "stdout",
     "output_type": "stream",
     "text": [
      "wR_D6J1yms3M9Kq-ctEbTUh_QDlZ3AYRC5wglxSaf7jz27NnBWXuH6webXEVlxHRseco6K1u0gmaaA\n"
     ]
    },
    {
     "name": "stderr",
     "output_type": "stream",
     "text": [
      "\r",
      " 17%|██████▉                                 | 296/1695 [11:43<11:28,  2.03it/s]"
     ]
    },
    {
     "name": "stdout",
     "output_type": "stream",
     "text": [
      "arv1-MPHdZBpKFaEnJHmADR4xFKMQITnFyMqmBG_1mPi576x3LVUYLUoegOcScwskNiBWWQv6wJ1lg\n"
     ]
    },
    {
     "name": "stderr",
     "output_type": "stream",
     "text": [
      "\r",
      " 18%|███████                                 | 297/1695 [11:43<10:03,  2.32it/s]"
     ]
    },
    {
     "name": "stdout",
     "output_type": "stream",
     "text": [
      "sU5CxXo8H5VFCXdoTOQSpnOm5iXCcBhzo8ywR701HUwBMe-VvFN-CoySThkUbi-VM3ZeRUgKbTq7gw\n"
     ]
    },
    {
     "name": "stderr",
     "output_type": "stream",
     "text": [
      "\r",
      " 18%|███████                                 | 298/1695 [11:43<10:00,  2.33it/s]"
     ]
    },
    {
     "name": "stdout",
     "output_type": "stream",
     "text": [
      "1ekfSrm_EpKYRuptEfdbppA5oi60x9hxY10AbB9hVlM3tYn7WAC2IWFNYdRNMIXht9QPO31xaoDzdw\n"
     ]
    },
    {
     "name": "stderr",
     "output_type": "stream",
     "text": [
      "\r",
      " 18%|███████                                 | 299/1695 [11:44<09:03,  2.57it/s]"
     ]
    },
    {
     "name": "stdout",
     "output_type": "stream",
     "text": [
      "vDoPTki1x6TeOVLyuS5nqNvgJ_vdlvWLEIbWiQb_AUJtqXV-SYMfBW1fZP4wNNA6cFvJAC7KC_4_fQ\n"
     ]
    },
    {
     "name": "stderr",
     "output_type": "stream",
     "text": [
      "\r",
      " 18%|███████                                 | 300/1695 [11:44<08:20,  2.79it/s]"
     ]
    },
    {
     "name": "stdout",
     "output_type": "stream",
     "text": [
      "RjLpJLeOYb9-2VtyLNRIzNsBTjJxfAxu1rt7wKZMd5CiiAOD2zXcsUUTur_OkGyDGntdMl49A5uWvQ\n"
     ]
    },
    {
     "name": "stderr",
     "output_type": "stream",
     "text": [
      "\r",
      " 18%|███████                                 | 301/1695 [11:44<07:54,  2.94it/s]"
     ]
    },
    {
     "name": "stdout",
     "output_type": "stream",
     "text": [
      "8b4DWcSlC01sSKUd2_jNxGAJPLQLdroS5ZMBuOFQ4QrI6B7zSLbGmcPQIUZkmgRzodx5gfKVKCGXbQ\n"
     ]
    },
    {
     "name": "stderr",
     "output_type": "stream",
     "text": [
      "\r",
      " 18%|███████▏                                | 302/1695 [11:44<07:38,  3.04it/s]"
     ]
    },
    {
     "name": "stdout",
     "output_type": "stream",
     "text": [
      "tRZzNzRFYGUKsa1fARRe6pQeh04-5vdCWx3A6P47MGoxaySJ0Pv0n5F3Ax9vXJa5OysCfJfvf0ZeGQ\n"
     ]
    },
    {
     "name": "stderr",
     "output_type": "stream",
     "text": [
      "\r",
      " 18%|███████▏                                | 303/1695 [11:45<07:41,  3.02it/s]"
     ]
    },
    {
     "name": "stdout",
     "output_type": "stream",
     "text": [
      "ShrQZn-hDjFXR6mmHWMwQ5awKvcnVwcwqEg5na4VXrp_7f8WQSoF-H_eDE8e1O73YIrFVAVzwf1AQQ\n"
     ]
    },
    {
     "name": "stderr",
     "output_type": "stream",
     "text": [
      "\r",
      " 18%|███████▏                                | 304/1695 [11:45<07:25,  3.13it/s]"
     ]
    },
    {
     "name": "stdout",
     "output_type": "stream",
     "text": [
      "aj_1yJYcCumUp6xZuIGoMfviugSOYm-Nn23UiKBDkl32aJi1EjR6_jtQWlbBdVLLdDcdHi1BYqlXgQ\n"
     ]
    },
    {
     "name": "stderr",
     "output_type": "stream",
     "text": [
      "\r",
      " 18%|███████▏                                | 305/1695 [11:46<09:05,  2.55it/s]"
     ]
    },
    {
     "name": "stdout",
     "output_type": "stream",
     "text": [
      "D-y6IMLf8yxWAqJ-Q6gReCsOqK0GU7hrOZ3g5dVmjba89mtnTKMeCIn0xvSFtGE3lFZmyed1YlxiQw\n"
     ]
    },
    {
     "name": "stderr",
     "output_type": "stream",
     "text": [
      "\r",
      " 18%|███████▏                                | 306/1695 [11:46<08:46,  2.64it/s]"
     ]
    },
    {
     "name": "stdout",
     "output_type": "stream",
     "text": [
      "x6nbUneeGP2WAADAUPFilHDZeQ8wgoD1LBCArnw-xT20I2UyuKhnDQrKqkrS8uKtOVUQ8ZyNDImkfA\n"
     ]
    },
    {
     "name": "stderr",
     "output_type": "stream",
     "text": [
      "\r",
      " 18%|███████▏                                | 307/1695 [11:46<08:12,  2.82it/s]"
     ]
    },
    {
     "name": "stdout",
     "output_type": "stream",
     "text": [
      "BZ5kDDozVuccRwgDYdnh0CEprCX87Z_WXkXrGTM1HS8NBKqIjXlFBD8A86Y-w0Kn7ySiufrP1DlVYg\n"
     ]
    },
    {
     "name": "stderr",
     "output_type": "stream",
     "text": [
      "\r",
      " 18%|███████▎                                | 308/1695 [11:47<08:46,  2.63it/s]"
     ]
    },
    {
     "name": "stdout",
     "output_type": "stream",
     "text": [
      "uUVCSVIquTwmcnHpIx-z0uXOcmtQEzu64hQndNltkq8HFq-UCb9yIMgKNYaL7M6X5Q2YcTQhe458Wg\n"
     ]
    },
    {
     "name": "stderr",
     "output_type": "stream",
     "text": [
      "\r",
      " 18%|███████▎                                | 309/1695 [11:47<09:12,  2.51it/s]"
     ]
    },
    {
     "name": "stdout",
     "output_type": "stream",
     "text": [
      "hJJj8-rxEcux5cONxfjeF3nbvhAnzIc217D3Er28XaR1oaDQgAFG4VsC4huFhfSDhV_ThUro4XmLrA\n"
     ]
    },
    {
     "name": "stderr",
     "output_type": "stream",
     "text": [
      "\r",
      " 18%|███████▎                                | 310/1695 [11:47<08:32,  2.70it/s]"
     ]
    },
    {
     "name": "stdout",
     "output_type": "stream",
     "text": [
      "K1YhhWVqYrrFVXJM71btRMiEwKEDZ54EDI3bick2Nm0OInlN6IV-oTJmFvj0-25fqKOOTbxlvXYvnw\n"
     ]
    },
    {
     "name": "stderr",
     "output_type": "stream",
     "text": [
      "\r",
      " 18%|███████▎                                | 311/1695 [11:48<10:38,  2.17it/s]"
     ]
    },
    {
     "name": "stdout",
     "output_type": "stream",
     "text": [
      "3OEFiu-1fR2xyH1vV6ihfFgPBYFwaft1M0MKY27mGg55G4cfbWXfET_WwVKfmEb0w5J28y1ajWnfGw\n"
     ]
    },
    {
     "name": "stderr",
     "output_type": "stream",
     "text": [
      "\r",
      " 18%|███████▎                                | 312/1695 [11:49<11:34,  1.99it/s]"
     ]
    },
    {
     "name": "stdout",
     "output_type": "stream",
     "text": [
      "srf9rMQMvyodh52mxCUWCVGWTiPztDW9EsJjIWHzeB_U1A6CwvgqjKVTxwl9HoJWOHw9ERqeBTg-dw\n"
     ]
    },
    {
     "name": "stderr",
     "output_type": "stream",
     "text": [
      "\r",
      " 18%|███████▍                                | 313/1695 [11:49<11:56,  1.93it/s]"
     ]
    },
    {
     "name": "stdout",
     "output_type": "stream",
     "text": [
      "YIMjt1yEgP6IgvfBqK0WcqiriiE3WaV3E496AnJcjNU3xwOI9FvjqprYO3P3-191dNuVTNt6pKELCQ\n",
      "api cost full : infinite loop start\n",
      "loop location :  XqPPRplgxJ82WaR6Z0AjORs6gqwyvzD057IrR8HkU0Sp-w\n",
      "try 10 second wait time\n",
      "429\n",
      "try 10 second wait time\n",
      "429\n",
      "try 10 second wait time\n",
      "429\n",
      "try 10 second wait time\n",
      "429\n",
      "try 10 second wait time\n",
      "429\n",
      "try 10 second wait time\n",
      "429\n",
      "try 10 second wait time\n",
      "429\n",
      "try 10 second wait time\n",
      "429\n",
      "try 10 second wait time\n",
      "429\n",
      "try 10 second wait time\n"
     ]
    },
    {
     "name": "stderr",
     "output_type": "stream",
     "text": [
      "\r",
      " 19%|██████▊                              | 314/1695 [13:35<12:15:09, 31.94s/it]"
     ]
    },
    {
     "name": "stdout",
     "output_type": "stream",
     "text": [
      "200\n",
      "total wait time :  105.01084494590759\n",
      "recovery api cost\n",
      "Js6A2WFzIPfnbgAISEDeRIuTpNwKD5qyc5Xtr06-dKst6DtOhtPWzUaO9Q4Oq5mXB4BtTAOOmBmDEg\n"
     ]
    },
    {
     "name": "stderr",
     "output_type": "stream",
     "text": [
      "\r",
      " 19%|███████                               | 315/1695 [13:35<8:37:19, 22.49s/it]"
     ]
    },
    {
     "name": "stdout",
     "output_type": "stream",
     "text": [
      "23_ZF-gBGOheC1StC2noEW7ScRaNZi4IHHz_CQrGhiiW03ODfei-c2IweNEjJqvLFvh8NYDIXteeHA\n"
     ]
    },
    {
     "name": "stderr",
     "output_type": "stream",
     "text": [
      "\r",
      " 19%|███████                               | 316/1695 [13:35<6:05:05, 15.89s/it]"
     ]
    },
    {
     "name": "stdout",
     "output_type": "stream",
     "text": [
      "UXLfQ_NHA77Y4i6wb00aFzee0Efj698eD4iVg8lhw17v8J5VpIuPSE0hbnuAXTMzUb8ffVSTbbzPCA\n"
     ]
    },
    {
     "name": "stderr",
     "output_type": "stream",
     "text": [
      "\r",
      " 19%|███████                               | 317/1695 [13:36<4:18:51, 11.27s/it]"
     ]
    },
    {
     "name": "stdout",
     "output_type": "stream",
     "text": [
      "FoSWVeRNI_D9UH4BKizS2XUXwQ3kz4hLRpJ-1rUGsxpwTGiettweCvHyEDb0sHN6_dgUCZDS7IEVFQ\n"
     ]
    },
    {
     "name": "stderr",
     "output_type": "stream",
     "text": [
      "\r",
      " 19%|███████▏                              | 318/1695 [13:36<3:03:02,  7.98s/it]"
     ]
    },
    {
     "name": "stdout",
     "output_type": "stream",
     "text": [
      "SRWuovlER3K4SF8KoEo0dJsuBiSQhOc832t7079zr9I0XEZhqIwD3M_HCKtT0mbl_6ZFtM2AwDBCug\n"
     ]
    },
    {
     "name": "stderr",
     "output_type": "stream",
     "text": [
      "\r",
      " 19%|███████▏                              | 319/1695 [13:37<2:13:29,  5.82s/it]"
     ]
    },
    {
     "name": "stdout",
     "output_type": "stream",
     "text": [
      "rddq8giPrXqSHoTj71B9rEOIE1y8uU1JVfFh7MXnJJckHY6UmehGRMyJ77kSrLfiFDifIRmGU8l4nA\n"
     ]
    },
    {
     "name": "stderr",
     "output_type": "stream",
     "text": [
      "\r",
      " 19%|███████▏                              | 320/1695 [13:37<1:35:33,  4.17s/it]"
     ]
    },
    {
     "name": "stdout",
     "output_type": "stream",
     "text": [
      "zSz9khQJJeizKBbtFjZKpfejD_K8xL9HiNhZxBQlWK5mKISZ34wm5iYyI0thmXkHLRf3e6qn_Q2GTg\n"
     ]
    },
    {
     "name": "stderr",
     "output_type": "stream",
     "text": [
      "\r",
      " 19%|███████▏                              | 321/1695 [13:38<1:11:36,  3.13s/it]"
     ]
    },
    {
     "name": "stdout",
     "output_type": "stream",
     "text": [
      "wqhMkiRYJvv-OW9KOiG-pNgPVlzTzqg3_FE0X7viAXfan2mizntU5ENr2sW40VdGF6q-ogGRazAL_g\n"
     ]
    },
    {
     "name": "stderr",
     "output_type": "stream",
     "text": [
      "\r",
      " 19%|███████▌                                | 322/1695 [13:38<52:03,  2.27s/it]"
     ]
    },
    {
     "name": "stdout",
     "output_type": "stream",
     "text": [
      "cbgmQXQ82VShdcoNbSU_VWKgryaxfUc8vFm6FW9cm3e19DIuZlcR0nEoc55SED7EfqghvrPmFfS5XQ\n"
     ]
    },
    {
     "name": "stderr",
     "output_type": "stream",
     "text": [
      "\r",
      " 19%|███████▌                                | 323/1695 [13:39<40:18,  1.76s/it]"
     ]
    },
    {
     "name": "stdout",
     "output_type": "stream",
     "text": [
      "AkL9bsB2p9L2ggYZ0rYD5uVo1AJlhfwMtDXa_O60b4yPj2YvnBjMvbHPtQBEziHk5JeAB4sLVTHKhg\n"
     ]
    },
    {
     "name": "stderr",
     "output_type": "stream",
     "text": [
      "\r",
      " 19%|███████▋                                | 324/1695 [13:39<29:59,  1.31s/it]"
     ]
    },
    {
     "name": "stdout",
     "output_type": "stream",
     "text": [
      "bOXjDAonsLh6zGqfscNmey0oXf9nuTbFMkXDgx_-UAafeMHA-F1QE4vn3LH-ONHaIX6gRNKCwbO5Bg\n"
     ]
    },
    {
     "name": "stderr",
     "output_type": "stream",
     "text": [
      "\r",
      " 19%|███████▋                                | 325/1695 [13:40<26:04,  1.14s/it]"
     ]
    },
    {
     "name": "stdout",
     "output_type": "stream",
     "text": [
      "lJAJ1Mq4XwK3eXuI_xjrqZ94UU_jZSMRVu3b9jxOwuDFkqiAvcWUt2QcjshcLM3lZ_uK6otlBamZag\n"
     ]
    },
    {
     "name": "stderr",
     "output_type": "stream",
     "text": [
      "\r",
      " 19%|███████▋                                | 326/1695 [13:40<20:15,  1.13it/s]"
     ]
    },
    {
     "name": "stdout",
     "output_type": "stream",
     "text": [
      "_kKBa0RXPwZS6Llipya-HLIW4Nq8dzGogD4x0numr7nmyj4w1D0--eGyDSxE-GdwaPlxhVV4hUtEmw\n"
     ]
    },
    {
     "name": "stderr",
     "output_type": "stream",
     "text": [
      "\r",
      " 19%|███████▋                                | 327/1695 [13:41<18:26,  1.24it/s]"
     ]
    },
    {
     "name": "stdout",
     "output_type": "stream",
     "text": [
      "FpKEijm2p_YXfkQ2WvR08jpNAyqhSCi-kK7PscKLqYW99j-Pa7OvdAm_xSftnKZ30EvaBdWcrmcD3Q\n"
     ]
    },
    {
     "name": "stderr",
     "output_type": "stream",
     "text": [
      "\r",
      " 19%|███████▋                                | 328/1695 [13:41<16:07,  1.41it/s]"
     ]
    },
    {
     "name": "stdout",
     "output_type": "stream",
     "text": [
      "HxDjbRf-0_jkB5xpm5g7g8U2ybKdQQSwBxraxZ46kNx7t3aiEAqwgmDFhCWfACrnq4as1d19ptJ8fg\n"
     ]
    },
    {
     "name": "stderr",
     "output_type": "stream",
     "text": [
      "\r",
      " 19%|███████▊                                | 329/1695 [13:42<13:17,  1.71it/s]"
     ]
    },
    {
     "name": "stdout",
     "output_type": "stream",
     "text": [
      "Z96o4t-AeUArSr5Hsr1lLIuJTrTUDrctlmeNGa-e7FBl-8FNKWugKzOl6PwTkCJCLVPZbHkHguUmIA\n"
     ]
    },
    {
     "name": "stderr",
     "output_type": "stream",
     "text": [
      "\r",
      " 19%|███████▊                                | 330/1695 [13:42<11:16,  2.02it/s]"
     ]
    },
    {
     "name": "stdout",
     "output_type": "stream",
     "text": [
      "jClJU1L7IjYcUuzzSZgL2E7WdTe7FaX7YsfbPBzU_bWQkgfpmUm2jpX_fDrlpr8g5Rr57LvhzzBSBA\n"
     ]
    },
    {
     "name": "stderr",
     "output_type": "stream",
     "text": [
      "\r",
      " 20%|███████▊                                | 331/1695 [13:42<10:46,  2.11it/s]"
     ]
    },
    {
     "name": "stdout",
     "output_type": "stream",
     "text": [
      "xP4HAlh76548uKqWhoVNAhiEru-hbu3fUIGruNEjmy6jlJ6pkbCx9icTs8-UvfDeLmlSM_pdv__PGw\n"
     ]
    },
    {
     "name": "stderr",
     "output_type": "stream",
     "text": [
      "\r",
      " 20%|███████▊                                | 332/1695 [13:43<09:29,  2.39it/s]"
     ]
    },
    {
     "name": "stdout",
     "output_type": "stream",
     "text": [
      "nGgXnwuO3qt3zHCu9BmPp_nMxSkYLF0EslORIfzozs9V7yii825iSFXuI5ijDR8b0JAU28Z_7frs3g\n"
     ]
    },
    {
     "name": "stderr",
     "output_type": "stream",
     "text": [
      "\r",
      " 20%|███████▊                                | 333/1695 [13:43<08:42,  2.61it/s]"
     ]
    },
    {
     "name": "stdout",
     "output_type": "stream",
     "text": [
      "pawcWkgPSBW0gsdNvQ-9UECQzyoU4tOen_dfKeAYqoZ78VkK5ohLjyamplMS1pt9HwSsH1Tj0KdP7A\n"
     ]
    },
    {
     "name": "stderr",
     "output_type": "stream",
     "text": [
      "\r",
      " 20%|███████▉                                | 334/1695 [13:43<08:45,  2.59it/s]"
     ]
    },
    {
     "name": "stdout",
     "output_type": "stream",
     "text": [
      "HSIqx1spOQbFJYuAGNwhibgldez4w0F45Dra1Ax3W1fJJzXAqYeuhPXawqu-v1_YMJbUhwEvFrAqlg\n"
     ]
    },
    {
     "name": "stderr",
     "output_type": "stream",
     "text": [
      "\r",
      " 20%|███████▉                                | 335/1695 [13:44<08:15,  2.75it/s]"
     ]
    },
    {
     "name": "stdout",
     "output_type": "stream",
     "text": [
      "PBrHCsNvhL99_wNB1lqGC01Z1bRk0jyNPS05sMtU6enQR-d0bbW-Kp1pvIFAyzdIXiy8z3-z9wWm_g\n"
     ]
    },
    {
     "name": "stderr",
     "output_type": "stream",
     "text": [
      "\r",
      " 20%|███████▉                                | 336/1695 [13:44<07:43,  2.93it/s]"
     ]
    },
    {
     "name": "stdout",
     "output_type": "stream",
     "text": [
      "u7JO7aq9t-U77IvXWrF-CMltULvqlXCOVCjlhSM_LzBGZf3TboEMUFjQvuMSXwC4H0U43Oam3rdCWQ\n"
     ]
    },
    {
     "name": "stderr",
     "output_type": "stream",
     "text": [
      "\r",
      " 20%|███████▉                                | 337/1695 [13:44<07:18,  3.10it/s]"
     ]
    },
    {
     "name": "stdout",
     "output_type": "stream",
     "text": [
      "nAaTqf-9FnGlXZgQvWsuqkCE0ZQ8pCdH7XTs49V7yebdM5s6l49TkD7YXK9f3OCKqM4O6o_aO0IH_A\n"
     ]
    },
    {
     "name": "stderr",
     "output_type": "stream",
     "text": [
      "\r",
      " 20%|███████▉                                | 338/1695 [13:45<07:49,  2.89it/s]"
     ]
    },
    {
     "name": "stdout",
     "output_type": "stream",
     "text": [
      "p45omXHXzWYXqbzpL5IiivJParsRVppY3LoscPlawb9tK40qVYRPCb8dvSrB2cQSp7O5ZJBNGtxX2Q\n"
     ]
    },
    {
     "name": "stderr",
     "output_type": "stream",
     "text": [
      "\r",
      " 20%|████████                                | 339/1695 [13:45<07:30,  3.01it/s]"
     ]
    },
    {
     "name": "stdout",
     "output_type": "stream",
     "text": [
      "sJG910OzYRCQmpc4r55QWmV8TvFlJcT8mntAlbAEhsvPyAuFrldL1hsRKdme-a6SN9BpOvCfjIsQow\n"
     ]
    },
    {
     "name": "stderr",
     "output_type": "stream",
     "text": [
      "\r",
      " 20%|████████                                | 340/1695 [13:45<07:09,  3.15it/s]"
     ]
    },
    {
     "name": "stdout",
     "output_type": "stream",
     "text": [
      "BPIPnCOY1mYtDIAcYleV0PODE2N3i5DOg2PPEn8ITaLY43dmEBG8goxnQTLNn6bRD7oAx9N4MM2PuA\n"
     ]
    },
    {
     "name": "stderr",
     "output_type": "stream",
     "text": [
      "\r",
      " 20%|████████                                | 341/1695 [13:46<07:27,  3.03it/s]"
     ]
    },
    {
     "name": "stdout",
     "output_type": "stream",
     "text": [
      "1F3KUdLU6cp9b0d-VmROeRdP3eEbbmu9ANQ3FdKpZ5-4K-U92uKigsdPgcKKiN2wBJcQTg_wFdhDdw\n"
     ]
    },
    {
     "name": "stderr",
     "output_type": "stream",
     "text": [
      "\r",
      " 20%|████████                                | 342/1695 [13:46<07:04,  3.19it/s]"
     ]
    },
    {
     "name": "stdout",
     "output_type": "stream",
     "text": [
      "OFi2F_HjnCyx5TZ5EHlNwj0oPErA7FpNeVitSJDgXTNavLSzPn7qheSeFUZ1XXSrsK2843glRB7_nw\n"
     ]
    },
    {
     "name": "stderr",
     "output_type": "stream",
     "text": [
      "\r",
      " 20%|████████                                | 343/1695 [13:46<06:58,  3.23it/s]"
     ]
    },
    {
     "name": "stdout",
     "output_type": "stream",
     "text": [
      "yH7mgi6YPh5NNcOYqvWkk6H6qW35VMF0LUJWEtHGQfOGGdeFI39iFZ9MH_ekbl41cKb4AhKAHv5O3A\n"
     ]
    },
    {
     "name": "stderr",
     "output_type": "stream",
     "text": [
      "\r",
      " 20%|████████                                | 344/1695 [13:46<07:00,  3.21it/s]"
     ]
    },
    {
     "name": "stdout",
     "output_type": "stream",
     "text": [
      "Dhh9TEC-LXHeoqty9LiBk7-IC6ap9HSmz_qomHJR87qjerJbNyrtPzepMcfJ5DORGI1GPGCD3kvRPg\n"
     ]
    },
    {
     "name": "stderr",
     "output_type": "stream",
     "text": [
      "\r",
      " 20%|████████▏                               | 345/1695 [13:47<07:29,  3.00it/s]"
     ]
    },
    {
     "name": "stdout",
     "output_type": "stream",
     "text": [
      "qQTrX-g_SUwDhlPYEuiYiXVZv7FihDx7R5q_1H1uOzghcPDXGKM8-bKEeNF1r4X8V6ESpTL8IROW7w\n"
     ]
    },
    {
     "name": "stderr",
     "output_type": "stream",
     "text": [
      "\r",
      " 20%|████████▏                               | 346/1695 [13:47<07:40,  2.93it/s]"
     ]
    },
    {
     "name": "stdout",
     "output_type": "stream",
     "text": [
      "EU5w7JFgeY4DovfL_udtaKucTTZcuKjAHWnmhOi-FDwJ4BBSxjZsfoPQ_xC1X9S1zGwFjBgEin9Kow\n"
     ]
    },
    {
     "name": "stderr",
     "output_type": "stream",
     "text": [
      "\r",
      " 20%|████████▏                               | 347/1695 [13:48<09:02,  2.49it/s]"
     ]
    },
    {
     "name": "stdout",
     "output_type": "stream",
     "text": [
      "FDT3lyV_YljoveHSrIafV1XeHE944XIdNlHS1BbtdSh6F-ykB3H46A4jo5YgEiDQATXHSsP6DeUcgA\n"
     ]
    },
    {
     "name": "stderr",
     "output_type": "stream",
     "text": [
      "\r",
      " 21%|████████▏                               | 348/1695 [13:48<08:20,  2.69it/s]"
     ]
    },
    {
     "name": "stdout",
     "output_type": "stream",
     "text": [
      "i7F2jZL_zXZDuKhtpIdJgn7BR49nGBGBhia0IBRS9M2N111OtV_2B1n3MqvUanIigDGkdJnBag8-rA\n"
     ]
    },
    {
     "name": "stderr",
     "output_type": "stream",
     "text": [
      "\r",
      " 21%|████████▏                               | 349/1695 [13:49<10:41,  2.10it/s]"
     ]
    },
    {
     "name": "stdout",
     "output_type": "stream",
     "text": [
      "XL2q_wOZHjIO8NXyW29O9HBhCBJFeCmeC7_y99AWctAGqXDUWJgwrSjNGZNjmcXW2qFO8cuG2F6_wQ\n"
     ]
    },
    {
     "name": "stderr",
     "output_type": "stream",
     "text": [
      "\r",
      " 21%|████████▎                               | 350/1695 [13:49<09:21,  2.39it/s]"
     ]
    },
    {
     "name": "stdout",
     "output_type": "stream",
     "text": [
      "J-ycj1tq7VWiDmV_350M2D_o5exmhdvbTBMNiQD_hRzSDToQs9cWvR90qcXv2vH2wrVgu7rqYxUnSA\n"
     ]
    },
    {
     "name": "stderr",
     "output_type": "stream",
     "text": [
      "\r",
      " 21%|████████▎                               | 351/1695 [13:50<11:10,  2.00it/s]"
     ]
    },
    {
     "name": "stdout",
     "output_type": "stream",
     "text": [
      "Tzra27ZLiLiN03NNJE7DSvoVj2MQpZO-18XOAPzBLxEBWpxopiLhsSjcpccmER_1kNkLUmB4zVCh_A\n"
     ]
    },
    {
     "name": "stderr",
     "output_type": "stream",
     "text": [
      "\r",
      " 21%|████████▎                               | 352/1695 [13:50<09:41,  2.31it/s]"
     ]
    },
    {
     "name": "stdout",
     "output_type": "stream",
     "text": [
      "3uIFMy0cGyYrtSvsCHYFRWZdw78i81MfJjSzIPXidq_y5z0Z0Yi5VN7KilYwHZX7EYfDbxQQYldTGA\n"
     ]
    },
    {
     "name": "stderr",
     "output_type": "stream",
     "text": [
      "\r",
      " 21%|████████▎                               | 353/1695 [13:51<12:27,  1.80it/s]"
     ]
    },
    {
     "name": "stdout",
     "output_type": "stream",
     "text": [
      "gcDIYvUs4FOO5vjhO-Yo_17F_Tgp5ZjYKuxRa2_bpeuDy3rYvEoUABGIURWTS0cDR1s4pUPDVo2oAw\n"
     ]
    },
    {
     "name": "stderr",
     "output_type": "stream",
     "text": [
      "\r",
      " 21%|████████▎                               | 354/1695 [13:52<15:16,  1.46it/s]"
     ]
    },
    {
     "name": "stdout",
     "output_type": "stream",
     "text": [
      "6ArIEplOzYsBjfuR2aDcXURS1G_euzMeZamkGl-_B8n0npxV_VqoE0OpSQZFJBDpxQkq4ZmQ-_pSBA\n"
     ]
    },
    {
     "name": "stderr",
     "output_type": "stream",
     "text": [
      "\r",
      " 21%|████████▍                               | 355/1695 [13:52<12:45,  1.75it/s]"
     ]
    },
    {
     "name": "stdout",
     "output_type": "stream",
     "text": [
      "U-AYN_rU2pXbPlXIAjp2msdzevn3SG_2vEQGWqO4LGQijQxh2uM3I9IWaacYPkmM6skCmJA2MKHXkQ\n"
     ]
    },
    {
     "name": "stderr",
     "output_type": "stream",
     "text": [
      "\r",
      " 21%|████████▍                               | 356/1695 [13:53<13:49,  1.61it/s]"
     ]
    },
    {
     "name": "stdout",
     "output_type": "stream",
     "text": [
      "tWZzD2HWb7NNTTkbzNIdlgTDuGRQtrzmlO3_zqt8ZCqJZy8WMiD5huWAcmYE9MLG-tXyAINNltI_gQ\n"
     ]
    },
    {
     "name": "stderr",
     "output_type": "stream",
     "text": [
      "\r",
      " 21%|████████▍                               | 357/1695 [13:53<11:31,  1.93it/s]"
     ]
    },
    {
     "name": "stdout",
     "output_type": "stream",
     "text": [
      "qd8e_Ol-iNszaIXG9IWyquePyp0TQVGTMScQxBqLOstjcORyDFM5k3Y4iGkfvGV9kczI6nMc-TAkFg\n"
     ]
    },
    {
     "name": "stderr",
     "output_type": "stream",
     "text": [
      "\r",
      " 21%|████████▍                               | 358/1695 [13:53<10:11,  2.19it/s]"
     ]
    },
    {
     "name": "stdout",
     "output_type": "stream",
     "text": [
      "U36LXx1v7EQ06EcYKmyOFb7JA5xqAZh2cETELw43C4zu2u_DplecbD8p6YWGCIqQ0D9qUF3CQPsC-g\n"
     ]
    },
    {
     "name": "stderr",
     "output_type": "stream",
     "text": [
      "\r",
      " 21%|████████▍                               | 359/1695 [13:54<12:19,  1.81it/s]"
     ]
    },
    {
     "name": "stdout",
     "output_type": "stream",
     "text": [
      "4VKc1VaH4sDDTYgIICYpuFZnuSp8zRdtI3feDbIFWjxFK18zAVV38MjmAscXGd2E1a7suWVICzTkIQ\n"
     ]
    },
    {
     "name": "stderr",
     "output_type": "stream",
     "text": [
      "\r",
      " 21%|████████▍                               | 360/1695 [13:55<11:26,  1.94it/s]"
     ]
    },
    {
     "name": "stdout",
     "output_type": "stream",
     "text": [
      "Ezvow5t4sxn6osUBkwQWD2imSmc_PiAR6pAbMcoMIwSzwmzzjyiDVYmNrHWxN9DA5aq28jcXRguSJQ\n"
     ]
    },
    {
     "name": "stderr",
     "output_type": "stream",
     "text": [
      "\r",
      " 21%|████████▌                               | 361/1695 [13:55<09:49,  2.26it/s]"
     ]
    },
    {
     "name": "stdout",
     "output_type": "stream",
     "text": [
      "d09FAkL-da6pZ3bBvDIvb3LklaN3SATQCAIEoXhptnrhiEdn4Dv9Knz1vhxskT4qRItyLZvBj5CehA\n"
     ]
    },
    {
     "name": "stderr",
     "output_type": "stream",
     "text": [
      "\r",
      " 21%|████████▌                               | 362/1695 [13:55<09:41,  2.29it/s]"
     ]
    },
    {
     "name": "stdout",
     "output_type": "stream",
     "text": [
      "x5H2gK742SOkqSJ6hs07WLz6RGeDoQHf1fP5LNk2oPwJmHHIXnkoaMLLYSUD0OgtmrITkb3RD8UjRw\n"
     ]
    },
    {
     "name": "stderr",
     "output_type": "stream",
     "text": [
      "\r",
      " 21%|████████▌                               | 363/1695 [13:56<08:37,  2.57it/s]"
     ]
    },
    {
     "name": "stdout",
     "output_type": "stream",
     "text": [
      "Fi1YFP4KN9UCYeV0E_WruH7LCG05-0ozGMNsw5pNb22c9ivlzaNxBQf0UybSfZUzuBo_agKj2viatA\n"
     ]
    },
    {
     "name": "stderr",
     "output_type": "stream",
     "text": [
      "\r",
      " 21%|████████▌                               | 364/1695 [13:56<08:12,  2.70it/s]"
     ]
    },
    {
     "name": "stdout",
     "output_type": "stream",
     "text": [
      "2xSpR-AJxs1GRVAZ55QGzHsGBANXRaMSv9i8k70W4ni1vLHNUp1jumH0I31D6QgUuYrek3qQ1DIBJg\n"
     ]
    },
    {
     "name": "stderr",
     "output_type": "stream",
     "text": [
      "\r",
      " 22%|████████▌                               | 365/1695 [13:56<07:41,  2.88it/s]"
     ]
    },
    {
     "name": "stdout",
     "output_type": "stream",
     "text": [
      "oJ7zdedjBkjn0Pa8GIHrgzp9a8Ls9p4-jMF4-qaBE_Pys39E2DPxEX8VqP7b-AwTyvyohzJ6aueUuw\n"
     ]
    },
    {
     "name": "stderr",
     "output_type": "stream",
     "text": [
      "\r",
      " 22%|████████▋                               | 366/1695 [13:57<07:20,  3.01it/s]"
     ]
    },
    {
     "name": "stdout",
     "output_type": "stream",
     "text": [
      "vnaROCRVRre-SAt2YVAewEkwzU3z5bR99dxyylYna5zycNgzZDZBuVCEfoEPHIf0D03T-67_anIJlQ\n"
     ]
    },
    {
     "name": "stderr",
     "output_type": "stream",
     "text": [
      "\r",
      " 22%|████████▋                               | 367/1695 [13:57<07:48,  2.83it/s]"
     ]
    },
    {
     "name": "stdout",
     "output_type": "stream",
     "text": [
      "5Ke3dZnAnhsUAB8bFbti__ZaH7lg7y0q1UEVZysB2eY4kShmuGX_mmlmC7FYDHFFuj999ecxZk3vxQ\n"
     ]
    },
    {
     "name": "stderr",
     "output_type": "stream",
     "text": [
      "\r",
      " 22%|████████▋                               | 368/1695 [13:57<08:14,  2.68it/s]"
     ]
    },
    {
     "name": "stdout",
     "output_type": "stream",
     "text": [
      "wFNtUDbdqFpPOKdBzRcIwcgrXJ6wFI5Z1bn1Oxymut8ywwptbIA7d0LGphAW76bpdah9loiAr-CFKA\n"
     ]
    },
    {
     "name": "stderr",
     "output_type": "stream",
     "text": [
      "\r",
      " 22%|████████▋                               | 369/1695 [13:58<07:52,  2.81it/s]"
     ]
    },
    {
     "name": "stdout",
     "output_type": "stream",
     "text": [
      "GOZdyqqyV8E-sOELwWVkOCPZ68IpHgIY3Gegur1Gc9rIildUWHklZO34_EmJnjtYUjLqGtpdLnbkvw\n"
     ]
    },
    {
     "name": "stderr",
     "output_type": "stream",
     "text": [
      "\r",
      " 22%|████████▋                               | 370/1695 [13:58<07:26,  2.97it/s]"
     ]
    },
    {
     "name": "stdout",
     "output_type": "stream",
     "text": [
      "NtS7LFPXFbRMs8wPkouQuxTVxHXBoiTaYHuathnDADopSmUgDpSnOUHfRCaoQQRf1V4J-eOpkSVC5Q\n"
     ]
    },
    {
     "name": "stderr",
     "output_type": "stream",
     "text": [
      "\r",
      " 22%|████████▊                               | 371/1695 [13:58<07:36,  2.90it/s]"
     ]
    },
    {
     "name": "stdout",
     "output_type": "stream",
     "text": [
      "QqN-F1m2x0owfZzLeyKUQ5Z_VVrGMhEs9MtPxGL_9EILZ-y5oM6aBXBEyff64MlLAkAu0RxXdorXBA\n"
     ]
    },
    {
     "name": "stderr",
     "output_type": "stream",
     "text": [
      "\r",
      " 22%|████████▊                               | 372/1695 [13:59<08:42,  2.53it/s]"
     ]
    },
    {
     "name": "stdout",
     "output_type": "stream",
     "text": [
      "sDKY38vJAU89vuc-zr3HuaBZwyiH7ngYiUeLOAIopnguxBx_FJQr4w1P6EbDk4Fl27cL-GH16TNh0A\n"
     ]
    },
    {
     "name": "stderr",
     "output_type": "stream",
     "text": [
      "\r",
      " 22%|████████▊                               | 373/1695 [13:59<08:03,  2.73it/s]"
     ]
    },
    {
     "name": "stdout",
     "output_type": "stream",
     "text": [
      "30wbGOS3UqkuJTrKK2z8GjkMwJO_KODenAqH3tNSHXdvErAwAD1cu20YaXdiJVsMpKlcNguTUxgJKw\n"
     ]
    },
    {
     "name": "stderr",
     "output_type": "stream",
     "text": [
      "\r",
      " 22%|████████▊                               | 374/1695 [13:59<07:52,  2.79it/s]"
     ]
    },
    {
     "name": "stdout",
     "output_type": "stream",
     "text": [
      "9mrvJboyO3dmPl-msKHNcrYJgXkSKe59al9foPywQL23JX2Z_FlK_hZb-ZnI-2lrCpE5sHq9GWPjnA\n"
     ]
    },
    {
     "name": "stderr",
     "output_type": "stream",
     "text": [
      "\r",
      " 22%|████████▊                               | 375/1695 [14:00<09:40,  2.27it/s]"
     ]
    },
    {
     "name": "stdout",
     "output_type": "stream",
     "text": [
      "ej1UzU5V_tD_JPm1AX0PyCOESv1ITk9RFf7cZNPt10D81YyI_WHmcgdnQRL5JL_qGSKvXFfaUV0iKQ\n"
     ]
    },
    {
     "name": "stderr",
     "output_type": "stream",
     "text": [
      "\r",
      " 22%|████████▊                               | 376/1695 [14:00<08:42,  2.53it/s]"
     ]
    },
    {
     "name": "stdout",
     "output_type": "stream",
     "text": [
      "IaYok3H6f-Cm84Z3sjeHJzHp694Q_kJlYnd0YO4Cs1gh1ixbr-RVlZre5Aijmtk53NiDsB1Q0e8fdg\n"
     ]
    },
    {
     "name": "stderr",
     "output_type": "stream",
     "text": [
      "\r",
      " 22%|████████▉                               | 377/1695 [14:01<07:58,  2.76it/s]"
     ]
    },
    {
     "name": "stdout",
     "output_type": "stream",
     "text": [
      "ARaTywEWW9gZWdogouLHL2v45D91Ve_57AWuQ48R-TmcFbFoNPnhFv7MfPGZUJYYoB2Y4nUm_6UQyg\n"
     ]
    },
    {
     "name": "stderr",
     "output_type": "stream",
     "text": [
      "\r",
      " 22%|████████▉                               | 378/1695 [14:01<07:35,  2.89it/s]"
     ]
    },
    {
     "name": "stdout",
     "output_type": "stream",
     "text": [
      "1Mlo26V3FA29vBWHZTvNe9lntLnqcqPL-jbogRqoDNmiy90EJwn1TVIZ3QU8l70ZGRThVNNeajODHw\n",
      "api cost full : infinite loop start\n",
      "loop location :  oO_8ifar02C4vnTKZXNtTQivdDmAJsMFQlFr5fTYo9oyr4E\n",
      "try 10 second wait time\n",
      "429\n",
      "try 10 second wait time\n",
      "429\n",
      "try 10 second wait time\n",
      "429\n",
      "try 10 second wait time\n",
      "429\n",
      "try 10 second wait time\n",
      "429\n",
      "try 10 second wait time\n",
      "429\n",
      "try 10 second wait time\n",
      "429\n",
      "try 10 second wait time\n",
      "429\n",
      "try 10 second wait time\n"
     ]
    },
    {
     "name": "stderr",
     "output_type": "stream",
     "text": [
      "\r",
      " 22%|████████▎                            | 379/1695 [15:36<10:32:34, 28.84s/it]"
     ]
    },
    {
     "name": "stdout",
     "output_type": "stream",
     "text": [
      "200\n",
      "total wait time :  95.08916020393372\n",
      "recovery api cost\n",
      "3V95GclJVu7Po1gyNlsipmHnu2SuP9dwIAJp-93lX30kJsEiIV1zFZmvkvERjMATV82QkvxZQFiSkA\n"
     ]
    },
    {
     "name": "stderr",
     "output_type": "stream",
     "text": [
      "\r",
      " 22%|████████▌                             | 380/1695 [15:37<7:24:35, 20.29s/it]"
     ]
    },
    {
     "name": "stdout",
     "output_type": "stream",
     "text": [
      "VyN87LwiT_KAe_Pb-6PcMf7MiP8_LgQN4G1M80gunGAmkvZaXhD29IS9QKY6dGUNPu5afp7lNOvJDQ\n"
     ]
    },
    {
     "name": "stderr",
     "output_type": "stream",
     "text": [
      "\r",
      " 22%|████████▌                             | 381/1695 [15:37<5:13:00, 14.29s/it]"
     ]
    },
    {
     "name": "stdout",
     "output_type": "stream",
     "text": [
      "SL3Z1dnhZKPY8lPXW0cgt-SZNInSG-yCxPyrclsSYY3OrcWwlibpJJywW_spf1QE58xiyOy3SJbQBA\n"
     ]
    },
    {
     "name": "stderr",
     "output_type": "stream",
     "text": [
      "\r",
      " 23%|████████▌                             | 382/1695 [15:37<3:41:21, 10.12s/it]"
     ]
    },
    {
     "name": "stdout",
     "output_type": "stream",
     "text": [
      "-loBK9iWPZht90T4yHk0cktbfvNFjS3e2M1DyfhWu4XGe1UMHRqp_i0Btym4QEX2u4X0I_rkDGqtgQ\n"
     ]
    },
    {
     "name": "stderr",
     "output_type": "stream",
     "text": [
      "\r",
      " 23%|████████▌                             | 383/1695 [15:38<2:36:48,  7.17s/it]"
     ]
    },
    {
     "name": "stdout",
     "output_type": "stream",
     "text": [
      "2OPrcHgerx5czaaclDVr9rX5A4pxoX7bCkbez9Ueza4qQKL_RFxtSkaObX9vBCM74-giFhIHWDAVuw\n"
     ]
    },
    {
     "name": "stderr",
     "output_type": "stream",
     "text": [
      "\r",
      " 23%|████████▌                             | 384/1695 [15:38<1:51:42,  5.11s/it]"
     ]
    },
    {
     "name": "stdout",
     "output_type": "stream",
     "text": [
      "GPsSD25Xb6eQt-mMEFTqp-yEmXT09xjzxxbZ6uZpHQBfo9-oI-Q-s5r1RO-Zo6mVEUBPvAkv-d8vPg\n"
     ]
    },
    {
     "name": "stderr",
     "output_type": "stream",
     "text": [
      "\r",
      " 23%|████████▋                             | 385/1695 [15:38<1:20:02,  3.67s/it]"
     ]
    },
    {
     "name": "stdout",
     "output_type": "stream",
     "text": [
      "P6kmW5TpF-fQ9Hrk_yVCDCi-x3e_wIG3QYpDOKlE3wpoR8g2ua0pDl39PjjXRycm3tw4z1hQ38TsiQ\n"
     ]
    },
    {
     "name": "stderr",
     "output_type": "stream",
     "text": [
      "\r",
      " 23%|████████▋                             | 386/1695 [15:39<1:00:28,  2.77s/it]"
     ]
    },
    {
     "name": "stdout",
     "output_type": "stream",
     "text": [
      "dPd-YUmgJ877D8s2toLawUinXuNlS8m-Bab11dYQxbVghS1FiPziObm3K4WXqUTB5MOoEBJ2W3_xQg\n"
     ]
    },
    {
     "name": "stderr",
     "output_type": "stream",
     "text": [
      "\r",
      " 23%|█████████▏                              | 387/1695 [15:39<45:37,  2.09s/it]"
     ]
    },
    {
     "name": "stdout",
     "output_type": "stream",
     "text": [
      "Qrvm94n2mHtP-0UZ0uWrNjaRfS6H3-hacdcNCttMa5Fcjf6KmyguWAH7-P_5Up3HVjUVZRhtxHlIdw\n"
     ]
    },
    {
     "name": "stderr",
     "output_type": "stream",
     "text": [
      "\r",
      " 23%|█████████▏                              | 388/1695 [15:40<33:42,  1.55s/it]"
     ]
    },
    {
     "name": "stdout",
     "output_type": "stream",
     "text": [
      "dbR3_8aDcwe_xfp4LoOcVqJL8LB1i8pNUY5MWMSWujTbKZGPsOzCnu9XbHUZ_fUrwn5gZB7aywTNnw\n"
     ]
    },
    {
     "name": "stderr",
     "output_type": "stream",
     "text": [
      "\r",
      " 23%|█████████▏                              | 389/1695 [15:40<25:38,  1.18s/it]"
     ]
    },
    {
     "name": "stdout",
     "output_type": "stream",
     "text": [
      "xYFvyA4WwQjTKE47sEZmm_3nLUZnOajh3W9BNdfpe6S-wg15MbnLioIHN4Ae0LNyKJh63kKc2M0QGA\n"
     ]
    },
    {
     "name": "stderr",
     "output_type": "stream",
     "text": [
      "\r",
      " 23%|█████████▏                              | 390/1695 [15:40<19:50,  1.10it/s]"
     ]
    },
    {
     "name": "stdout",
     "output_type": "stream",
     "text": [
      "uWz7daOmopeOsHg9cZJXidtzyeeTwJ3yRb8_MJndKDak3NGs1w-iB3Cm5hUbZhHFpalTUlU-h83Otg\n"
     ]
    },
    {
     "name": "stderr",
     "output_type": "stream",
     "text": [
      "\r",
      " 23%|█████████▏                              | 391/1695 [15:41<16:12,  1.34it/s]"
     ]
    },
    {
     "name": "stdout",
     "output_type": "stream",
     "text": [
      "_c4p5b_R2bXjzwD0O56MSItrM0gnO8FI1AwqJheJm2BUZOvNm2qgULGxXZA2-9_zJYho-T1B5ooung\n"
     ]
    },
    {
     "name": "stderr",
     "output_type": "stream",
     "text": [
      "\r",
      " 23%|█████████▎                              | 392/1695 [15:41<13:13,  1.64it/s]"
     ]
    },
    {
     "name": "stdout",
     "output_type": "stream",
     "text": [
      "6BuTGReW3dro0-1pE0KKltC8H_x1WAJbEqRXU74lJaqScwaQNl0MnKLercrxVHG1LqhCwvpa7nWh-g\n"
     ]
    },
    {
     "name": "stderr",
     "output_type": "stream",
     "text": [
      "\r",
      " 23%|█████████▎                              | 393/1695 [15:41<11:17,  1.92it/s]"
     ]
    },
    {
     "name": "stdout",
     "output_type": "stream",
     "text": [
      "m25VDyD5gMR3Q01WQuHF1YddRi1BWUlAzS0d9452Bx4r6sIEc8gGIZRVZrvxBvuASFTAgLE2b8LzFA\n"
     ]
    },
    {
     "name": "stderr",
     "output_type": "stream",
     "text": [
      "\r",
      " 23%|█████████▎                              | 394/1695 [15:42<10:02,  2.16it/s]"
     ]
    },
    {
     "name": "stdout",
     "output_type": "stream",
     "text": [
      "ElppCSBS9qizXFas1A25ucNW3QnNEvWna_igQsI3sjMglKzxe1DkDOLqvIspv5KC2iRVt0CCcFYvHA\n"
     ]
    },
    {
     "name": "stderr",
     "output_type": "stream",
     "text": [
      "\r",
      " 23%|█████████▎                              | 395/1695 [15:42<09:02,  2.40it/s]"
     ]
    },
    {
     "name": "stdout",
     "output_type": "stream",
     "text": [
      "Hj0JtYunXoibjh5zbIMaD54ypJMBAfRzBtKrvdADavq4jphbl_tP7gk6awvmzPDKJOot_uipjI8wfA\n"
     ]
    },
    {
     "name": "stderr",
     "output_type": "stream",
     "text": [
      "\r",
      " 23%|█████████▎                              | 396/1695 [15:43<10:50,  2.00it/s]"
     ]
    },
    {
     "name": "stdout",
     "output_type": "stream",
     "text": [
      "NQhuXYNjprvc86Xs6MekxUAkDfUJoqQCytZnbmcvzosDGXboRgwt61E4CqK7xsX5qTiGIOAedhizyA\n"
     ]
    },
    {
     "name": "stderr",
     "output_type": "stream",
     "text": [
      "\r",
      " 23%|█████████▎                              | 397/1695 [15:43<09:44,  2.22it/s]"
     ]
    },
    {
     "name": "stdout",
     "output_type": "stream",
     "text": [
      "8uSwK5xysfr7UdfU7rYPA1SLpRTw52nGXI1chJ7pdzfZEsCcnNmRLiXI0qaTfXhGN4Vq9VnrEE_Xdw\n"
     ]
    },
    {
     "name": "stderr",
     "output_type": "stream",
     "text": [
      "\r",
      " 23%|█████████▍                              | 398/1695 [15:43<09:22,  2.31it/s]"
     ]
    },
    {
     "name": "stdout",
     "output_type": "stream",
     "text": [
      "vquHPF3VsjShtWubm-GdU6aeoi7CH6eBDqtu3UqzAgzFMs9_QOABEC913jYW0LFrOG11ZnhLvHgT_A\n"
     ]
    },
    {
     "name": "stderr",
     "output_type": "stream",
     "text": [
      "\r",
      " 24%|█████████▍                              | 399/1695 [15:44<08:34,  2.52it/s]"
     ]
    },
    {
     "name": "stdout",
     "output_type": "stream",
     "text": [
      "uhko-EqcZz27CDxqhC9sk0Mcf4pDN99Iv4ApvNlF3wvBDiJU8oAG5rhZ4goDr22bbMBZKsx4dhDQBA\n"
     ]
    },
    {
     "name": "stderr",
     "output_type": "stream",
     "text": [
      "\r",
      " 24%|█████████▍                              | 400/1695 [15:44<07:49,  2.76it/s]"
     ]
    },
    {
     "name": "stdout",
     "output_type": "stream",
     "text": [
      "wiPYqqRv-g5U7-Pv1G_OKn-KXygViANacpBCCp13p47aO2RZAKFlUBsPK6EZlXFGlk0PixfMMAst1A\n"
     ]
    },
    {
     "name": "stderr",
     "output_type": "stream",
     "text": [
      "\r",
      " 24%|█████████▍                              | 401/1695 [15:44<07:13,  2.99it/s]"
     ]
    },
    {
     "name": "stdout",
     "output_type": "stream",
     "text": [
      "uN2tqAv7yunhKxBx4Y3YlXGOnekn_GWOgbxz-q9xA9knTrlinvRwi-uT5KiAMysaxmyvpSQR1o6zMQ\n"
     ]
    },
    {
     "name": "stderr",
     "output_type": "stream",
     "text": [
      "\r",
      " 24%|█████████▍                              | 402/1695 [15:44<06:59,  3.09it/s]"
     ]
    },
    {
     "name": "stdout",
     "output_type": "stream",
     "text": [
      "adCdtO1d-zOeNhK4R3de7aNJnT0Y12UfDYBKvdgymb3vXjHY-dqcMg5PQ1gY2K4FNxee47O_d6UczA\n"
     ]
    },
    {
     "name": "stderr",
     "output_type": "stream",
     "text": [
      "\r",
      " 24%|█████████▌                              | 403/1695 [15:45<06:49,  3.16it/s]"
     ]
    },
    {
     "name": "stdout",
     "output_type": "stream",
     "text": [
      "7EnI9qDOeK8LVMnPj2C3bNS89hXpk2Cm5M6KsNx11nHsUztf0jWtjVGC3BBvQDjU5wY7Jo_OZkV5YA\n"
     ]
    },
    {
     "name": "stderr",
     "output_type": "stream",
     "text": [
      "\r",
      " 24%|█████████▌                              | 404/1695 [15:45<07:18,  2.94it/s]"
     ]
    },
    {
     "name": "stdout",
     "output_type": "stream",
     "text": [
      "xOp3JLXbzh-XOL2gPgg-xOJw3i_rlqSwja-ca2RlyzcskseiKhf4hJY0X0Z6e_7wCoeFzqrmmq7tfA\n"
     ]
    },
    {
     "name": "stderr",
     "output_type": "stream",
     "text": [
      "\r",
      " 24%|█████████▌                              | 405/1695 [15:46<09:35,  2.24it/s]"
     ]
    },
    {
     "name": "stdout",
     "output_type": "stream",
     "text": [
      "0nI3oKAFO14-C1gXlWUVz1kPEvV7dzl7B1HgLGwRwbtxE2pI4C2nmAEWtoyDv4zEVNdRAXNP-9H1GQ\n"
     ]
    },
    {
     "name": "stderr",
     "output_type": "stream",
     "text": [
      "\r",
      " 24%|█████████▌                              | 406/1695 [15:46<08:39,  2.48it/s]"
     ]
    },
    {
     "name": "stdout",
     "output_type": "stream",
     "text": [
      "_auW6uQjpqXJ1bFb4bO0Z7eFCyOJhoLxYBHsCbZTEG1ZlS7OeTi3PWUFUAmmt7boXymMrQ-gULaUXg\n"
     ]
    },
    {
     "name": "stderr",
     "output_type": "stream",
     "text": [
      "\r",
      " 24%|█████████▌                              | 407/1695 [15:46<08:03,  2.66it/s]"
     ]
    },
    {
     "name": "stdout",
     "output_type": "stream",
     "text": [
      "vViFxNv2cbDyZIocDByK6EEPVdlP0tBBTsjlGauL6JiPy8mflAJG80NxrdXUEQ1gpw_TZsVnIM_EZg\n"
     ]
    },
    {
     "name": "stderr",
     "output_type": "stream",
     "text": [
      "\r",
      " 24%|█████████▋                              | 408/1695 [15:47<07:54,  2.72it/s]"
     ]
    },
    {
     "name": "stdout",
     "output_type": "stream",
     "text": [
      "THyF8iLeIoJwax0aYRjIPbECRYRsadQmmehpvdn-_EvSXB3yMdmRCvdSbfAAlXqC-UTp4nainaDlxA\n"
     ]
    },
    {
     "name": "stderr",
     "output_type": "stream",
     "text": [
      "\r",
      " 24%|█████████▋                              | 409/1695 [15:47<09:49,  2.18it/s]"
     ]
    },
    {
     "name": "stdout",
     "output_type": "stream",
     "text": [
      "T4xyHXb9VMjOc5NuaDstvCoYuG084FJXAywWg5qIjlLLvawV-ZA9tqVe9dFY4K08Q_3lZMkMnP_6GQ\n"
     ]
    },
    {
     "name": "stderr",
     "output_type": "stream",
     "text": [
      "\r",
      " 24%|█████████▋                              | 410/1695 [15:48<08:39,  2.47it/s]"
     ]
    },
    {
     "name": "stdout",
     "output_type": "stream",
     "text": [
      "zkaPRW8ijXwJ7RJ-ub5WRiI5eJEraS1kbZpVaqhcOxkiqIFzYgJlilCOOYZw8N4doaC8sNm1u9omQQ\n"
     ]
    },
    {
     "name": "stderr",
     "output_type": "stream",
     "text": [
      "\r",
      " 24%|█████████▋                              | 411/1695 [15:48<07:48,  2.74it/s]"
     ]
    },
    {
     "name": "stdout",
     "output_type": "stream",
     "text": [
      "bHaKtTBeariS-Dz5cJm2VIRznDpbhbGNYz4Vf9ahtva0pnVylAbHKQMLh6_jGT0xnpUhEK9a1ZTxhA\n"
     ]
    },
    {
     "name": "stderr",
     "output_type": "stream",
     "text": [
      "\r",
      " 24%|█████████▋                              | 412/1695 [15:48<07:24,  2.88it/s]"
     ]
    },
    {
     "name": "stdout",
     "output_type": "stream",
     "text": [
      "XtmqtKGzRFFd-OJrNQTogH4TP9F__543M4G0UYUuBGzSTGVGguxulJNyzBhomvTKMDwWRFmsF7uvmA\n"
     ]
    },
    {
     "name": "stderr",
     "output_type": "stream",
     "text": [
      "\r",
      " 24%|█████████▋                              | 413/1695 [15:49<06:59,  3.06it/s]"
     ]
    },
    {
     "name": "stdout",
     "output_type": "stream",
     "text": [
      "ppx04QsiOdWUBpmT-fSGw4lTFLtOhMd84_metWNXQuKEeQgbI-kCUhR3qpqb19kpVLKy2wxV2y_6Xg\n"
     ]
    },
    {
     "name": "stderr",
     "output_type": "stream",
     "text": [
      "\r",
      " 24%|█████████▊                              | 414/1695 [15:49<06:42,  3.18it/s]"
     ]
    },
    {
     "name": "stdout",
     "output_type": "stream",
     "text": [
      "LBZZEEWR0Susnr2ckIlUClukwW-76i5d2Gwx5ENukpi6qSoPujPCGUFJkQW2A-SlgAc2otjTm6MOBw\n"
     ]
    },
    {
     "name": "stderr",
     "output_type": "stream",
     "text": [
      "\r",
      " 24%|█████████▊                              | 415/1695 [15:49<06:45,  3.16it/s]"
     ]
    },
    {
     "name": "stdout",
     "output_type": "stream",
     "text": [
      "zli16-9HukV6SGAeGJICMxi0Pk6XPphPfujtkmhtHVrzypeYDtgM-D8ZhDAH_A5qObcmTvZshrPjJg\n"
     ]
    },
    {
     "name": "stderr",
     "output_type": "stream",
     "text": [
      "\r",
      " 25%|█████████▊                              | 416/1695 [15:50<09:19,  2.29it/s]"
     ]
    },
    {
     "name": "stdout",
     "output_type": "stream",
     "text": [
      "d5NMpRkFW9r83g838lKqjsmj0GJXYGXei2uaC49OR5xSOIMPAh0IUKGFXmsIghCzm3pYVzL5zaLOwg\n"
     ]
    },
    {
     "name": "stderr",
     "output_type": "stream",
     "text": [
      "\r",
      " 25%|█████████▊                              | 417/1695 [15:51<10:26,  2.04it/s]"
     ]
    },
    {
     "name": "stdout",
     "output_type": "stream",
     "text": [
      "4fLH0ElZ07uwCau1_-IVOGo0FZ30aNKxFr-zoKtVDWNmo4boF0nOc7cdSxpEL_pYCub9Tiplkciw0w\n"
     ]
    },
    {
     "name": "stderr",
     "output_type": "stream",
     "text": [
      "\r",
      " 25%|█████████▊                              | 418/1695 [15:51<09:22,  2.27it/s]"
     ]
    },
    {
     "name": "stdout",
     "output_type": "stream",
     "text": [
      "FFmXlaNwCWHpm3BPj3dENCz5qkqio1mbt0lkML-542OtjyyK0_1kZjoVKj7l87NPjUr_LciKDqM6Ow\n"
     ]
    },
    {
     "name": "stderr",
     "output_type": "stream",
     "text": [
      "\r",
      " 25%|█████████▉                              | 419/1695 [15:51<08:27,  2.52it/s]"
     ]
    },
    {
     "name": "stdout",
     "output_type": "stream",
     "text": [
      "MZrEt9jJw5DYWGfj9iEFIsPWVUVWYqS8muo9r5put-7TvQqrJxdRfnqBrEcsDnCzmg3iqoCTCBBTIQ\n"
     ]
    },
    {
     "name": "stderr",
     "output_type": "stream",
     "text": [
      "\r",
      " 25%|█████████▉                              | 420/1695 [15:51<07:43,  2.75it/s]"
     ]
    },
    {
     "name": "stdout",
     "output_type": "stream",
     "text": [
      "UqTZBUIr4IqlenaK3n6SzednMrygGWrtWfzcgbuEUNcjoNxN5l246TUqpBR4YIEobXGahNXsSaMslQ\n"
     ]
    },
    {
     "name": "stderr",
     "output_type": "stream",
     "text": [
      "\r",
      " 25%|█████████▉                              | 421/1695 [15:52<07:13,  2.94it/s]"
     ]
    },
    {
     "name": "stdout",
     "output_type": "stream",
     "text": [
      "Gc7ZUiezq5bq8XN8b9_LQlgWXy0B4shkLhiEIFIJ1ZNjzJVAorcsIC8qYDYgdBbeCLCce4WgsrtQEQ\n"
     ]
    },
    {
     "name": "stderr",
     "output_type": "stream",
     "text": [
      "\r",
      " 25%|█████████▉                              | 422/1695 [15:52<06:54,  3.07it/s]"
     ]
    },
    {
     "name": "stdout",
     "output_type": "stream",
     "text": [
      "BduJCyeLtbGX4ajvF1mTm32NWFCwM4sCxiRvZK0TR0uOhQe-2XFSCGCbAnA5VHf2tPbWSKd2VilhPw\n"
     ]
    },
    {
     "name": "stderr",
     "output_type": "stream",
     "text": [
      "\r",
      " 25%|█████████▉                              | 423/1695 [15:52<06:43,  3.15it/s]"
     ]
    },
    {
     "name": "stdout",
     "output_type": "stream",
     "text": [
      "BEFBRnTJd-0Tp7cmgMo-3aQKL5H356T7R7D7vBm1k8TOc6o_OZhps5EhKW1ga79CM4piME6SkEP8DA\n"
     ]
    },
    {
     "name": "stderr",
     "output_type": "stream",
     "text": [
      "\r",
      " 25%|██████████                              | 424/1695 [15:53<06:42,  3.16it/s]"
     ]
    },
    {
     "name": "stdout",
     "output_type": "stream",
     "text": [
      "mUrHb3XVNgxUmsNzWPpaicUf6wmD8ZOSzZSyILfFa5Q4BzkLQCFucJpBdl2ZAcFjUFvTTXoyjNuQDQ\n"
     ]
    },
    {
     "name": "stderr",
     "output_type": "stream",
     "text": [
      "\r",
      " 25%|██████████                              | 425/1695 [15:53<07:08,  2.97it/s]"
     ]
    },
    {
     "name": "stdout",
     "output_type": "stream",
     "text": [
      "bKiKE7AEes0mYKIwkrkM-_8xEbZxMambNu-SznqDSWjbKOmE2WWoeh9YiDiqycHsj7J0NeTPf9_7tg\n"
     ]
    },
    {
     "name": "stderr",
     "output_type": "stream",
     "text": [
      "\r",
      " 25%|██████████                              | 426/1695 [15:53<06:46,  3.12it/s]"
     ]
    },
    {
     "name": "stdout",
     "output_type": "stream",
     "text": [
      "LjxgwdYdsf_urycFw85-vrMxJ7A4RUyVfq82fk_wi74JDPlHppDu438YQgS8XW3wjvh3qKHneCsJtQ\n"
     ]
    },
    {
     "name": "stderr",
     "output_type": "stream",
     "text": [
      "\r",
      " 25%|██████████                              | 427/1695 [15:54<06:31,  3.24it/s]"
     ]
    },
    {
     "name": "stdout",
     "output_type": "stream",
     "text": [
      "1FgLqmn0BnNzcpNG4SW-QxEf9jSIApGISv5w7KUGKHUt-58yHYXb33l8zPKOOBI7bCQys8TXa-gvYg\n"
     ]
    },
    {
     "name": "stderr",
     "output_type": "stream",
     "text": [
      "\r",
      " 25%|██████████                              | 428/1695 [15:54<07:57,  2.65it/s]"
     ]
    },
    {
     "name": "stdout",
     "output_type": "stream",
     "text": [
      "CHJxsLHVUYXf2m-XEgXWnlC8iKU9ZZTQ9EYzR6suwGtxu7UXSiLZ-FenduPoGmlOKk8HesWtGFDcXQ\n"
     ]
    },
    {
     "name": "stderr",
     "output_type": "stream",
     "text": [
      "\r",
      " 25%|██████████                              | 429/1695 [15:54<07:24,  2.85it/s]"
     ]
    },
    {
     "name": "stdout",
     "output_type": "stream",
     "text": [
      "8l1jHSn8huuNp8FbNLp6qS6UwaV6kFYWQfxxXC3eAZFMULJXyatxk7heZ6XSfoWc-cesUvBdj98cFw\n"
     ]
    },
    {
     "name": "stderr",
     "output_type": "stream",
     "text": [
      "\r",
      " 25%|██████████▏                             | 430/1695 [15:55<07:01,  3.00it/s]"
     ]
    },
    {
     "name": "stdout",
     "output_type": "stream",
     "text": [
      "vk55c5mZUxYS7wID_-YqRAyZvi2Cy310yooB8AjM5-UyShhTJrbXSvpY1dZ8SqZ5huY1e-Uknfn3QA\n"
     ]
    },
    {
     "name": "stderr",
     "output_type": "stream",
     "text": [
      "\r",
      " 25%|██████████▏                             | 431/1695 [15:55<09:35,  2.20it/s]"
     ]
    },
    {
     "name": "stdout",
     "output_type": "stream",
     "text": [
      "GBKYhP9GHA3jYOH97cZFjDwysBRgYKV1POfxUUeno2nSVoNH7FNHXz9dgMKt5kOp5v8S8VyqeHRiBw\n"
     ]
    },
    {
     "name": "stderr",
     "output_type": "stream",
     "text": [
      "\r",
      " 25%|██████████▏                             | 432/1695 [15:56<11:13,  1.88it/s]"
     ]
    },
    {
     "name": "stdout",
     "output_type": "stream",
     "text": [
      "NIGrKlLwJTtZmTeOT0792oR1fa6WbBwPJ3CbSuP-j51odamWoV09HnvRtvg5FVfC-uNLEDEpMmcexw\n"
     ]
    },
    {
     "name": "stderr",
     "output_type": "stream",
     "text": [
      "\r",
      " 26%|██████████▏                             | 433/1695 [15:56<09:36,  2.19it/s]"
     ]
    },
    {
     "name": "stdout",
     "output_type": "stream",
     "text": [
      "9xsm3UdVgINmqwD5j0_z3bsGp5_A0T3cjdCABVgT_9RkDhgeUmTMxBbMIxnaWrq5ZmDQx8PvLorc8A\n"
     ]
    },
    {
     "name": "stderr",
     "output_type": "stream",
     "text": [
      "\r",
      " 26%|██████████▏                             | 434/1695 [15:57<08:31,  2.46it/s]"
     ]
    },
    {
     "name": "stdout",
     "output_type": "stream",
     "text": [
      "pdzWkd--ETDCUSNSN11ZKYsoBiYoEpATIaPLk9JGmXYJlmpzfwRTcxa4Lol2FmjVmmAH7s1JteMG1g\n"
     ]
    },
    {
     "name": "stderr",
     "output_type": "stream",
     "text": [
      "\r",
      " 26%|██████████▎                             | 435/1695 [15:57<07:48,  2.69it/s]"
     ]
    },
    {
     "name": "stdout",
     "output_type": "stream",
     "text": [
      "uq6bfV-neSfQxf1QDFHlPUZMdBbDHAWaDeC5vsJ3Hwdq4kOVj5YEai5jXcWUljkT-Llckl3prSK06Q\n"
     ]
    },
    {
     "name": "stderr",
     "output_type": "stream",
     "text": [
      "\r",
      " 26%|██████████▎                             | 436/1695 [15:57<07:47,  2.69it/s]"
     ]
    },
    {
     "name": "stdout",
     "output_type": "stream",
     "text": [
      "GzOsxB6qq_2_ot3SB0ayvEipE2PRJcVHFSE1nHhy20lh3OdgiNrbFTLD3qhrTjXWJ4NunBPUkPb7nQ\n"
     ]
    },
    {
     "name": "stderr",
     "output_type": "stream",
     "text": [
      "\r",
      " 26%|██████████▎                             | 437/1695 [15:58<10:04,  2.08it/s]"
     ]
    },
    {
     "name": "stdout",
     "output_type": "stream",
     "text": [
      "WL89hiEYvBMK6ezAnu7N0WQRkBm3dRyhJPOFQqck5gvePLUIIVVWbY4xsMaip-J65NdLXM8axvC0og\n"
     ]
    },
    {
     "name": "stderr",
     "output_type": "stream",
     "text": [
      "\r",
      " 26%|██████████▎                             | 438/1695 [15:59<11:14,  1.86it/s]"
     ]
    },
    {
     "name": "stdout",
     "output_type": "stream",
     "text": [
      "Qu30JNVMuQOohEMvXymeusO6NbPklmIAV9D7P_-eHA4YlyCf8TjRn9AAhVECjr-zGw8ZrSzA9qzLTw\n"
     ]
    },
    {
     "name": "stderr",
     "output_type": "stream",
     "text": [
      "\r",
      " 26%|██████████▎                             | 439/1695 [15:59<09:37,  2.17it/s]"
     ]
    },
    {
     "name": "stdout",
     "output_type": "stream",
     "text": [
      "NIWdVLAYgPTfp-P2VjvZGVPiiGLKJgZfgQ2_gZA1pJi1MynaQusFMD9Kt9uYCp8XIY8ZdvvyXqA-Ew\n"
     ]
    },
    {
     "name": "stderr",
     "output_type": "stream",
     "text": [
      "\r",
      " 26%|██████████▍                             | 440/1695 [16:00<10:12,  2.05it/s]"
     ]
    },
    {
     "name": "stdout",
     "output_type": "stream",
     "text": [
      "S7cOtmQXsatI3TX5O8VHsH9GWHuS9uBQzco-bCRgJogRNV2nsizfgPQLFNq82Glhhy2XUmla0cgwsQ\n"
     ]
    },
    {
     "name": "stderr",
     "output_type": "stream",
     "text": [
      "\r",
      " 26%|██████████▍                             | 441/1695 [16:00<09:14,  2.26it/s]"
     ]
    },
    {
     "name": "stdout",
     "output_type": "stream",
     "text": [
      "Y_z1AcnTrrHHxP8LZM7sjoGRVfeQ_nxq_eyYhE_QcBgh-UWfYcJxg2_7OQJ49-krSrpEuvi2rktVcQ\n"
     ]
    },
    {
     "name": "stderr",
     "output_type": "stream",
     "text": [
      "\r",
      " 26%|██████████▍                             | 442/1695 [16:00<09:26,  2.21it/s]"
     ]
    },
    {
     "name": "stdout",
     "output_type": "stream",
     "text": [
      "8ceBLX4JvoEtHn-aE76DbmCGgx7pmz7vpfmRRN70kUVN9Wk3drH1pV9nwfq7wqTzEVMGdoK0w58yww\n"
     ]
    },
    {
     "name": "stderr",
     "output_type": "stream",
     "text": [
      "\r",
      " 26%|██████████▍                             | 443/1695 [16:01<10:04,  2.07it/s]"
     ]
    },
    {
     "name": "stdout",
     "output_type": "stream",
     "text": [
      "T3QxmX3-icqIoCZ3LGKmBeWIMk3rmnjNp0L7Nlci0SmJ7eGekjjidgV80LojrQ7t4SkbapIwiHXFQw\n"
     ]
    },
    {
     "name": "stderr",
     "output_type": "stream",
     "text": [
      "\r",
      " 26%|██████████▍                             | 444/1695 [16:01<08:56,  2.33it/s]"
     ]
    },
    {
     "name": "stdout",
     "output_type": "stream",
     "text": [
      "5ylCExPQotmpokY1E56H6z7DE1TAK2W_9dQ3ssDkmAXGITyKBRlq0NFMif5Nw9CocwA3HkoFd2lXAw\n"
     ]
    },
    {
     "name": "stderr",
     "output_type": "stream",
     "text": [
      "\r",
      " 26%|██████████▌                             | 445/1695 [16:02<08:13,  2.53it/s]"
     ]
    },
    {
     "name": "stdout",
     "output_type": "stream",
     "text": [
      "jTnvYb8_ejKooNqw64Ox3Cjj6-jxMjDU7LQ8Sr37bx9IzK1C3rgL1xJqbf4zchtrUjnsWS-2ejE70Q\n"
     ]
    },
    {
     "name": "stderr",
     "output_type": "stream",
     "text": [
      "\r",
      " 26%|██████████▌                             | 446/1695 [16:02<08:08,  2.55it/s]"
     ]
    },
    {
     "name": "stdout",
     "output_type": "stream",
     "text": [
      "jadchd8k0y1ADGRKA9P1tothruGcO25-mulFzFlfWCCTCE5TpAiZ7HeEoMvYc5VDFnZ_4OQz_jSYqA\n"
     ]
    },
    {
     "name": "stderr",
     "output_type": "stream",
     "text": [
      "\r",
      " 26%|██████████▌                             | 447/1695 [16:02<07:39,  2.72it/s]"
     ]
    },
    {
     "name": "stdout",
     "output_type": "stream",
     "text": [
      "owvWArBOnyoP1be4AEjJ0-TOsxCuPybudSsUwyzzbc5wA9fGgt6ETzixDi1GCGUon5FpB_JdYSWRzg\n"
     ]
    },
    {
     "name": "stderr",
     "output_type": "stream",
     "text": [
      "\r",
      " 26%|██████████▌                             | 448/1695 [16:03<08:45,  2.37it/s]"
     ]
    },
    {
     "name": "stdout",
     "output_type": "stream",
     "text": [
      "gLaWn2adX04sEn7NvZHTJ7iv1mzQFGG7CZXmhZLEv35UCKyUy4YPhLMQJ1RvLpI6RW7ahwuhmrTe4w\n"
     ]
    },
    {
     "name": "stderr",
     "output_type": "stream",
     "text": [
      "\r",
      " 26%|██████████▌                             | 449/1695 [16:03<07:56,  2.61it/s]"
     ]
    },
    {
     "name": "stdout",
     "output_type": "stream",
     "text": [
      "zhqEcAmE_h1F5keUFmhqA1u4OIIujx7bK5Hwj4_JJRnabJ-3_K1e36LM8_k69icSD07Q6TsudhoZsw\n"
     ]
    },
    {
     "name": "stderr",
     "output_type": "stream",
     "text": [
      "\r",
      " 27%|██████████▌                             | 450/1695 [16:04<07:38,  2.71it/s]"
     ]
    },
    {
     "name": "stdout",
     "output_type": "stream",
     "text": [
      "yiXyC62AKwlwD_VeQim7--4gkyYHeD0Ylc6souglIJTZ2tcBy06ZSXzAS0XNJIfeUytuhi-JYRAKyA\n"
     ]
    },
    {
     "name": "stderr",
     "output_type": "stream",
     "text": [
      "\r",
      " 27%|██████████▋                             | 451/1695 [16:04<07:46,  2.67it/s]"
     ]
    },
    {
     "name": "stdout",
     "output_type": "stream",
     "text": [
      "tlcT4kX_kGnz3fePaMAF7OpxuGBkYEwnbjKb7YUAbwXDs5WrDN_4hMcdqH8IItDHeWCzfqxM8TuMDw\n"
     ]
    },
    {
     "name": "stderr",
     "output_type": "stream",
     "text": [
      "\r",
      " 27%|██████████▋                             | 452/1695 [16:04<07:10,  2.89it/s]"
     ]
    },
    {
     "name": "stdout",
     "output_type": "stream",
     "text": [
      "hWwXnEb4TCdbHOmlnwEitRxzGEBXI26mgaWQiotFBDJ7u3d5G7JWCmqSqMINDw_B8-GZ1L07Rmr6xA\n"
     ]
    },
    {
     "name": "stderr",
     "output_type": "stream",
     "text": [
      "\r",
      " 27%|██████████▋                             | 453/1695 [16:05<07:17,  2.84it/s]"
     ]
    },
    {
     "name": "stdout",
     "output_type": "stream",
     "text": [
      "Jdfc5p0trvDQFnky-Gj0rYElK0Vh6NjRndpHOLqpYaOPJSZ38sPsI0q4BfMueizxmBQTXnlK4wmCCw\n"
     ]
    },
    {
     "name": "stderr",
     "output_type": "stream",
     "text": [
      "\r",
      " 27%|██████████▋                             | 454/1695 [16:05<07:14,  2.86it/s]"
     ]
    },
    {
     "name": "stdout",
     "output_type": "stream",
     "text": [
      "3z3icbby3HmFqcA4qaVYbM73Ar_YuYbyyGT4iXnuZVIXhV6R8X26IHP0QYiTfWEs_4srScSsuAujrQ\n"
     ]
    },
    {
     "name": "stderr",
     "output_type": "stream",
     "text": [
      "\r",
      " 27%|██████████▋                             | 455/1695 [16:05<06:45,  3.06it/s]"
     ]
    },
    {
     "name": "stdout",
     "output_type": "stream",
     "text": [
      "MDZSlU9RmZQcLLBrLM0J8gnuBUGQP5IK51Xi1Tn4X6ILrSP5_otcRvRMOoAz2wJLYqZAM38y90WLVA\n"
     ]
    },
    {
     "name": "stderr",
     "output_type": "stream",
     "text": [
      "\r",
      " 27%|██████████▊                             | 456/1695 [16:05<06:31,  3.17it/s]"
     ]
    },
    {
     "name": "stdout",
     "output_type": "stream",
     "text": [
      "sUtqx_Jr7IwU3H9envtNvmMl7Z81KOSBaYjOyVsbiS06yLg1BW7hta2sGONcsVYyFMlgPJXsW8UifA\n"
     ]
    },
    {
     "name": "stderr",
     "output_type": "stream",
     "text": [
      "\r",
      " 27%|██████████▊                             | 457/1695 [16:06<06:23,  3.23it/s]"
     ]
    },
    {
     "name": "stdout",
     "output_type": "stream",
     "text": [
      "Z1ixfy66EVhjh-GG2Aoxbte5QZZAlj1wAkigf5Os6fQlUuaMirKrlG6W-FYCABCul-kS0KWhLtCvOA\n"
     ]
    },
    {
     "name": "stderr",
     "output_type": "stream",
     "text": [
      "\r",
      " 27%|██████████▊                             | 458/1695 [16:06<06:20,  3.25it/s]"
     ]
    },
    {
     "name": "stdout",
     "output_type": "stream",
     "text": [
      "1cdDBByTzEl7D2uE0ji68HspP42-0vvL2QMsR1h6Mptj31YfaUVE8T88rodeuyNTZA72wJ2RJDiMjQ\n"
     ]
    },
    {
     "name": "stderr",
     "output_type": "stream",
     "text": [
      "\r",
      " 27%|██████████▊                             | 459/1695 [16:07<07:35,  2.71it/s]"
     ]
    },
    {
     "name": "stdout",
     "output_type": "stream",
     "text": [
      "8NpPsHtXPcB0bXMQc4AXsLdhjmFotk8qTRVxV0BuZ_XijNt6G_A3g53khR6-bmd3IkSwA0sxUQgNfA\n"
     ]
    },
    {
     "name": "stderr",
     "output_type": "stream",
     "text": [
      "\r",
      " 27%|██████████▊                             | 460/1695 [16:07<08:23,  2.45it/s]"
     ]
    },
    {
     "name": "stdout",
     "output_type": "stream",
     "text": [
      "2h5IPjHARlgHGKR5Mk4QcU4MxcxT6f-j7eoJIQJ8x99VzR2PHN0YAsaUmQqKIQTU0xXV-5AxXxJP-g\n"
     ]
    },
    {
     "name": "stderr",
     "output_type": "stream",
     "text": [
      "\r",
      " 27%|██████████▉                             | 461/1695 [16:07<07:39,  2.69it/s]"
     ]
    },
    {
     "name": "stdout",
     "output_type": "stream",
     "text": [
      "nE_2z_TevzcwYLeY8gHZnoW0RPKKuvUkBDoCmQwE7q19ok_PmvV-S7Tl_pK5AnrohwQdus1oKY5L3g\n"
     ]
    },
    {
     "name": "stderr",
     "output_type": "stream",
     "text": [
      "\r",
      " 27%|██████████▉                             | 462/1695 [16:08<07:04,  2.91it/s]"
     ]
    },
    {
     "name": "stdout",
     "output_type": "stream",
     "text": [
      "I97t185FqW-18Hf7ydo7jWZJuy5FEESjAD0CiYUeRfdiiOL0V63SXuqF3t3o7OnaMcRuILfpd8PC_w\n"
     ]
    },
    {
     "name": "stderr",
     "output_type": "stream",
     "text": [
      "\r",
      " 27%|██████████▉                             | 463/1695 [16:08<06:43,  3.05it/s]"
     ]
    },
    {
     "name": "stdout",
     "output_type": "stream",
     "text": [
      "aSehquoGFBUHf9n1msanvWkPxQakPqyW_pdqabZ8gnNUlWOwYL5guI0X38xoHz-3xsqmJ8X0_YR7hQ\n"
     ]
    },
    {
     "name": "stderr",
     "output_type": "stream",
     "text": [
      "\r",
      " 27%|██████████▉                             | 464/1695 [16:09<08:42,  2.36it/s]"
     ]
    },
    {
     "name": "stdout",
     "output_type": "stream",
     "text": [
      "QO9j2EYnwpNM5BpHDCT8lYHeHp72Pn3B0zPHmogwQCcELU6AcVK_jvoGs_590J8oDWQvUxmHC3f8RA\n"
     ]
    },
    {
     "name": "stderr",
     "output_type": "stream",
     "text": [
      "\r",
      " 27%|██████████▉                             | 465/1695 [16:09<08:15,  2.48it/s]"
     ]
    },
    {
     "name": "stdout",
     "output_type": "stream",
     "text": [
      "KnI2wW1t51rLqZe56A6VB1YcmjjdmSdD5JRDu4Z2kaAsO7T-cpr06XNbqZKCkqXNoTGaL2pzJnVuJg\n"
     ]
    },
    {
     "name": "stderr",
     "output_type": "stream",
     "text": [
      "\r",
      " 27%|██████████▉                             | 466/1695 [16:09<07:35,  2.70it/s]"
     ]
    },
    {
     "name": "stdout",
     "output_type": "stream",
     "text": [
      "vNrWALkJt2VXbE9yvlQGwgz0u6pKYBuRdzGDmp2GCG21ICQmgDCsVlGJAEs3XUA9dNRMvyFqNf00JQ\n"
     ]
    },
    {
     "name": "stderr",
     "output_type": "stream",
     "text": [
      "\r",
      " 28%|███████████                             | 467/1695 [16:10<08:01,  2.55it/s]"
     ]
    },
    {
     "name": "stdout",
     "output_type": "stream",
     "text": [
      "4wlZSk9Hh-KGRsPjFhNssPuSNYVbVOVxc_0mPlAC0rOMYlBGTRfkD78QPqEf1CTCPOBj6g0C004oMA\n"
     ]
    },
    {
     "name": "stderr",
     "output_type": "stream",
     "text": [
      "\r",
      " 28%|███████████                             | 468/1695 [16:10<08:00,  2.55it/s]"
     ]
    },
    {
     "name": "stdout",
     "output_type": "stream",
     "text": [
      "OsDkfMfDuoD8vFiT9RkMINx9uVPmvrwNsAmt8B5IqJnJZE1yButPKAhmKTAYTPVxiR30zrYAJ_woJw\n"
     ]
    },
    {
     "name": "stderr",
     "output_type": "stream",
     "text": [
      "\r",
      " 28%|███████████                             | 469/1695 [16:10<07:50,  2.60it/s]"
     ]
    },
    {
     "name": "stdout",
     "output_type": "stream",
     "text": [
      "WM6teBpTq2KFE6Wm6a2E62loFh7QyB1kdU58GFbYcKpvO6_ijnn1ql0gPZjkCS7LElhGXuBSJ-varw\n"
     ]
    },
    {
     "name": "stderr",
     "output_type": "stream",
     "text": [
      "\r",
      " 28%|███████████                             | 470/1695 [16:11<07:45,  2.63it/s]"
     ]
    },
    {
     "name": "stdout",
     "output_type": "stream",
     "text": [
      "sguWpQwwT5PgudFUDejotKiB2irfHWoez7h5Ud-lCQGIDfryogBWzUftxDWP7mmmDwspqV_d8rjBBQ\n"
     ]
    },
    {
     "name": "stderr",
     "output_type": "stream",
     "text": [
      "\r",
      " 28%|███████████                             | 471/1695 [16:11<07:40,  2.66it/s]"
     ]
    },
    {
     "name": "stdout",
     "output_type": "stream",
     "text": [
      "8JQk9CRJ4LdKTy2PU-8JPk3-E_Vpq3bTrBD6xYmatvMW0vyp6sMFdsxQzzJzZ8Oxa-vuGUZc0kI3GQ\n"
     ]
    },
    {
     "name": "stderr",
     "output_type": "stream",
     "text": [
      "\r",
      " 28%|███████████▏                            | 472/1695 [16:11<07:08,  2.85it/s]"
     ]
    },
    {
     "name": "stdout",
     "output_type": "stream",
     "text": [
      "pedifNhhTliy_be5OoD_sMEcImNBrcRp81hSlLkWkKMxf7aboTnNVru7rxlSTQtV8iz2VC9rc0BkLA\n"
     ]
    },
    {
     "name": "stderr",
     "output_type": "stream",
     "text": [
      "\r",
      " 28%|███████████▏                            | 473/1695 [16:12<06:48,  2.99it/s]"
     ]
    },
    {
     "name": "stdout",
     "output_type": "stream",
     "text": [
      "K-uaa1r3cQ2Mj7pU-pKPsfbWVs0RMRVzPC2ZzIsz7EGH-4OXdcdEqfQtspUje5P-xMyQpNmYlTjCZw\n"
     ]
    },
    {
     "name": "stderr",
     "output_type": "stream",
     "text": [
      "\r",
      " 28%|███████████▏                            | 474/1695 [16:12<07:38,  2.67it/s]"
     ]
    },
    {
     "name": "stdout",
     "output_type": "stream",
     "text": [
      "l9fBvvczJAZi1oWacOaIeEh3vuPu20eRDS5oN5_lojXWjPYdz16zkgyGMjf1LsQlUsNQ5ffbCZUpPA\n"
     ]
    },
    {
     "name": "stderr",
     "output_type": "stream",
     "text": [
      "\r",
      " 28%|███████████▏                            | 475/1695 [16:12<07:08,  2.85it/s]"
     ]
    },
    {
     "name": "stdout",
     "output_type": "stream",
     "text": [
      "5fMxYID_kJZSdGWc6n2dgSo2FTFpTdwDCbeQ2E1Koufabwba-xhvnKWvSVC855kd5AF3Cl9zW23ffg\n"
     ]
    },
    {
     "name": "stderr",
     "output_type": "stream",
     "text": [
      "\r",
      " 28%|███████████▏                            | 476/1695 [16:13<07:25,  2.74it/s]"
     ]
    },
    {
     "name": "stdout",
     "output_type": "stream",
     "text": [
      "3HGdrWX0A6z1Dk73hf9mK1KcZC8EhuR2IIwwtVoG6b8W7mJP7T6wsdXLJMFWLBAV4PXIfPOXJfIZQg\n"
     ]
    },
    {
     "name": "stderr",
     "output_type": "stream",
     "text": [
      "\r",
      " 28%|███████████▎                            | 477/1695 [16:13<07:13,  2.81it/s]"
     ]
    },
    {
     "name": "stdout",
     "output_type": "stream",
     "text": [
      "sqfcFcT7gI2T8oFBmbQbAwlWyDJSV5phQEi30_EsECA3_vrRWSqr8STIv1bZi7ZDySItIG9LBzYgNA\n"
     ]
    },
    {
     "name": "stderr",
     "output_type": "stream",
     "text": [
      "\r",
      " 28%|███████████▎                            | 478/1695 [16:14<06:47,  2.98it/s]"
     ]
    },
    {
     "name": "stdout",
     "output_type": "stream",
     "text": [
      "L7pjzzNjTmwmKpEavmYjvP7A-qWXSj4iPAJwz_1vk7gH5zVW2MJUzkpjsnVZVa6i4_aHjphXhZRphQ\n",
      "api cost full : infinite loop start\n",
      "loop location :  PsteDgM2YVXu46zSA1uKF8VHdQM1scKpcx8_hKR382n1jkQ\n",
      "try 10 second wait time\n",
      "429\n",
      "try 10 second wait time\n",
      "429\n",
      "try 10 second wait time\n",
      "429\n",
      "try 10 second wait time\n",
      "429\n",
      "try 10 second wait time\n",
      "429\n",
      "try 10 second wait time\n",
      "429\n",
      "try 10 second wait time\n",
      "429\n",
      "try 10 second wait time\n",
      "429\n",
      "try 10 second wait time\n"
     ]
    },
    {
     "name": "stderr",
     "output_type": "stream",
     "text": [
      "\r",
      " 28%|██████████▋                           | 479/1695 [17:46<9:29:57, 28.12s/it]"
     ]
    },
    {
     "name": "stdout",
     "output_type": "stream",
     "text": [
      "200\n",
      "total wait time :  92.63755917549133\n",
      "recovery api cost\n",
      "IiOAMg7aBWzYUMa6ZStALBr1AKz18qYCJrA0icXuZDRR946Y03H7KrQqZq_fHMdKtoF-RhJgrxqEkA\n"
     ]
    },
    {
     "name": "stderr",
     "output_type": "stream",
     "text": [
      "\r",
      " 28%|██████████▊                           | 480/1695 [17:47<6:40:41, 19.79s/it]"
     ]
    },
    {
     "name": "stdout",
     "output_type": "stream",
     "text": [
      "hVg31Lf_rfb-op8Bz8x8czbym8rgYyRqBzluw7GJJEqfC9pMjnEjh4kQD23hb7yz1T8xaqpeKUdQYQ\n"
     ]
    },
    {
     "name": "stderr",
     "output_type": "stream",
     "text": [
      "\r",
      " 28%|██████████▊                           | 481/1695 [17:48<4:45:41, 14.12s/it]"
     ]
    },
    {
     "name": "stdout",
     "output_type": "stream",
     "text": [
      "pfcIOetq53zwzOaTGxdKc4Qt_d9saSN2TcEqaCNb1KOwOtl7oy0Z4NwNa4lWcEN7P5whlRqOgBJK_Q\n"
     ]
    },
    {
     "name": "stderr",
     "output_type": "stream",
     "text": [
      "\r",
      " 28%|██████████▊                           | 482/1695 [17:48<3:21:52,  9.99s/it]"
     ]
    },
    {
     "name": "stdout",
     "output_type": "stream",
     "text": [
      "Xs7ieaWgHxBdd2qD50mz_fVg-LSpL0S1TuYr7aA5xRfq56EZyjh4b5Rn9NyqstyhXZeZbLokjwFDgg\n"
     ]
    },
    {
     "name": "stderr",
     "output_type": "stream",
     "text": [
      "\r",
      " 28%|██████████▊                           | 483/1695 [17:48<2:23:52,  7.12s/it]"
     ]
    },
    {
     "name": "stdout",
     "output_type": "stream",
     "text": [
      "pt8M3EkLVe5z1etTQOUmvrWXHEuyxfYFWADtU68g2LaADWG1b7cgiSDTZiufZr_bc1F0II8P_9yV-g\n"
     ]
    },
    {
     "name": "stderr",
     "output_type": "stream",
     "text": [
      "\r",
      " 29%|██████████▊                           | 484/1695 [17:49<1:43:18,  5.12s/it]"
     ]
    },
    {
     "name": "stdout",
     "output_type": "stream",
     "text": [
      "odjcP0u6FFXhK1ysYFS5KaQYFdgQ9Yofdk-Ynu0FgCjjPfW3yNiQTjyDnGyNnD-REfOzenhi2CwjUg\n"
     ]
    },
    {
     "name": "stderr",
     "output_type": "stream",
     "text": [
      "\r",
      " 29%|██████████▊                           | 485/1695 [17:50<1:16:00,  3.77s/it]"
     ]
    },
    {
     "name": "stdout",
     "output_type": "stream",
     "text": [
      "-OFWIkWRNpm91VQ_rzahT1R1U2EgHntA-USDm4paNskLmvHOXXiSMZTjQ0fh8F_nyHLvdSdcA4qyGw\n"
     ]
    },
    {
     "name": "stderr",
     "output_type": "stream",
     "text": [
      "\r",
      " 29%|███████████▍                            | 486/1695 [17:50<55:13,  2.74s/it]"
     ]
    },
    {
     "name": "stdout",
     "output_type": "stream",
     "text": [
      "xajbDE_3WThW7HYM7tRR6N-sC7zNgaEhUJGAY_GWkN8rcFVCsvjgvu46E64bHRWSme9H6gOJbOLrBw\n"
     ]
    },
    {
     "name": "stderr",
     "output_type": "stream",
     "text": [
      "\r",
      " 29%|███████████▍                            | 487/1695 [17:51<42:44,  2.12s/it]"
     ]
    },
    {
     "name": "stdout",
     "output_type": "stream",
     "text": [
      "HkoMy2iWi6B3ZGjs3piwtM5Ou9rpWUfTBpukAM0gU_xUq--kp10A2wfqhh9pIKjIAZkPMhR5VnAUwg\n"
     ]
    },
    {
     "name": "stderr",
     "output_type": "stream",
     "text": [
      "\r",
      " 29%|███████████▌                            | 488/1695 [17:51<31:44,  1.58s/it]"
     ]
    },
    {
     "name": "stdout",
     "output_type": "stream",
     "text": [
      "2Oq0dconQSslupn0pqcNTFloMAMtpcFxKnkBt0vJwkTVlJiS58XlzPlgGBzS3T9BGdRu4s-PMI_tiw\n"
     ]
    },
    {
     "name": "stderr",
     "output_type": "stream",
     "text": [
      "\r",
      " 29%|███████████▌                            | 489/1695 [17:52<29:00,  1.44s/it]"
     ]
    },
    {
     "name": "stdout",
     "output_type": "stream",
     "text": [
      "pDIEKVQK5pt8lbeptJDGiOD28L5MtiocrW3h1xkubvnZgGMQv0YXjULHQmuimkPpy70lJzph0z-4gg\n"
     ]
    },
    {
     "name": "stderr",
     "output_type": "stream",
     "text": [
      "\r",
      " 29%|███████████▌                            | 490/1695 [17:52<22:02,  1.10s/it]"
     ]
    },
    {
     "name": "stdout",
     "output_type": "stream",
     "text": [
      "pgEQfyEPmX2yZ0lw9cW7D7FKpFoAxmp0t9OcreC27z3iKtSLEbMRXxCfPj9UE1IV3rk_1ZFFV5AvXQ\n"
     ]
    },
    {
     "name": "stderr",
     "output_type": "stream",
     "text": [
      "\r",
      " 29%|███████████▌                            | 491/1695 [17:53<17:15,  1.16it/s]"
     ]
    },
    {
     "name": "stdout",
     "output_type": "stream",
     "text": [
      "KFdQYdh07MK3DilL8fP6K8CjB7g7Ip4hl3ZvF20XDU96Xlg-5wgYK63kqkFNXrZEtqiHSW9-mdfDmA\n"
     ]
    },
    {
     "name": "stderr",
     "output_type": "stream",
     "text": [
      "\r",
      " 29%|███████████▌                            | 492/1695 [17:53<14:15,  1.41it/s]"
     ]
    },
    {
     "name": "stdout",
     "output_type": "stream",
     "text": [
      "XD_arfH6nA-qcvymnT1tTr5PS05hlRYmdwq2d2biKR57aC-zY6zhjKaCoJreMWRNuUeVt5SbsswLLQ\n"
     ]
    },
    {
     "name": "stderr",
     "output_type": "stream",
     "text": [
      "\r",
      " 29%|███████████▋                            | 493/1695 [17:54<17:43,  1.13it/s]"
     ]
    },
    {
     "name": "stdout",
     "output_type": "stream",
     "text": [
      "JE96ODtsjV5VgoUZfim-D1VZSnBnvhlsVY_kQhtc3x5WThPfRVIbG3zkqtVGMI9bExXMF8ixRBgKJw\n"
     ]
    },
    {
     "name": "stderr",
     "output_type": "stream",
     "text": [
      "\r",
      " 29%|███████████▋                            | 494/1695 [17:55<14:19,  1.40it/s]"
     ]
    },
    {
     "name": "stdout",
     "output_type": "stream",
     "text": [
      "0PV9CFOC0Te4SV-fwuBHOvyNEk1G_ieoP23zHIS7uShCxScOKBJ-stHtGCPC-hLYR78inSdvdO-uXQ\n"
     ]
    },
    {
     "name": "stderr",
     "output_type": "stream",
     "text": [
      "\r",
      " 29%|███████████▋                            | 495/1695 [17:56<17:58,  1.11it/s]"
     ]
    },
    {
     "name": "stdout",
     "output_type": "stream",
     "text": [
      "-U3Drryvhs9ax4HNb2C1kCtdHDphaU7QuHPq73saog70Y8DfBNmTZkliiJpUiXODtkZYMnDF5dtW8A\n"
     ]
    },
    {
     "name": "stderr",
     "output_type": "stream",
     "text": [
      "\r",
      " 29%|███████████▋                            | 496/1695 [17:57<18:53,  1.06it/s]"
     ]
    },
    {
     "name": "stdout",
     "output_type": "stream",
     "text": [
      "4MRQQFxFBbvBeUhL_KRUxNIgmNa1aueWEwTm1gEOSNBQBS6z9WKYNT6I2uPA7spwckStEMVJR-qyrg\n"
     ]
    },
    {
     "name": "stderr",
     "output_type": "stream",
     "text": [
      "\r",
      " 29%|███████████▋                            | 497/1695 [17:57<15:01,  1.33it/s]"
     ]
    },
    {
     "name": "stdout",
     "output_type": "stream",
     "text": [
      "HQosr8D5ePxqEVw4nWbKdPeLPQeeR4ACSVfp7Sd8T53w0as3qS3oya4MY6k-tBNsLdetgCl7Oc6vTg\n"
     ]
    },
    {
     "name": "stderr",
     "output_type": "stream",
     "text": [
      "\r",
      " 29%|███████████▊                            | 498/1695 [17:59<18:16,  1.09it/s]"
     ]
    },
    {
     "name": "stdout",
     "output_type": "stream",
     "text": [
      "k9nKP0y_CEvJo_zfBjocCm1PTvvDn12DDIYKFa8mSn0TjcpSz4VRdag0Lbj3ROg63HGDhLTzEQTfzw\n"
     ]
    },
    {
     "name": "stderr",
     "output_type": "stream",
     "text": [
      "\r",
      " 29%|███████████▊                            | 499/1695 [18:00<18:54,  1.05it/s]"
     ]
    },
    {
     "name": "stdout",
     "output_type": "stream",
     "text": [
      "EwpYOAb_eJ9Mly9RubzmflsnFNePGbIfZjRmIo6ZFEiUeiOVlSo0PkAsrg-w3aiOt7ffNSeqsIa6vg\n"
     ]
    },
    {
     "name": "stderr",
     "output_type": "stream",
     "text": [
      "\r",
      " 29%|███████████▊                            | 500/1695 [18:01<20:33,  1.03s/it]"
     ]
    },
    {
     "name": "stdout",
     "output_type": "stream",
     "text": [
      "dqvoX4TWex0O451sMFJMR4PHAySQlRfCgdZAWO9RNLt0WUdhY8PKrC2WoH-eDh77-lUlvXyBca9GZQ\n"
     ]
    },
    {
     "name": "stderr",
     "output_type": "stream",
     "text": [
      "\r",
      " 30%|███████████▊                            | 501/1695 [18:01<16:09,  1.23it/s]"
     ]
    },
    {
     "name": "stdout",
     "output_type": "stream",
     "text": [
      "Pmt_bpcM1IJoIC2AdjjEX9nTp8hFVggQ7H22xGVQTWh8hcvsw8i5QSVgpJwPrt7btel5t_gb3ZpG5A\n"
     ]
    },
    {
     "name": "stderr",
     "output_type": "stream",
     "text": [
      "\r",
      " 30%|███████████▊                            | 502/1695 [18:02<18:04,  1.10it/s]"
     ]
    },
    {
     "name": "stdout",
     "output_type": "stream",
     "text": [
      "_vfSNEuLTGUBT30UZB10b-N6CajiVUbc9k1ZhgY_MnifhxZfP3xhDn2RWKqcsQ5sfelSq_G0pURFvg\n"
     ]
    },
    {
     "name": "stderr",
     "output_type": "stream",
     "text": [
      "\r",
      " 30%|███████████▊                            | 503/1695 [18:03<14:34,  1.36it/s]"
     ]
    },
    {
     "name": "stdout",
     "output_type": "stream",
     "text": [
      "6MM38xC1dCmrOabQCwzC4PlQTDFOE21FOkBs0S5eP21fzORwM1kmEujpL8gEmJ37ES9bSLEXs8eHzA\n"
     ]
    },
    {
     "name": "stderr",
     "output_type": "stream",
     "text": [
      "\r",
      " 30%|███████████▉                            | 504/1695 [18:03<11:58,  1.66it/s]"
     ]
    },
    {
     "name": "stdout",
     "output_type": "stream",
     "text": [
      "WmW8AQdjHePkcBC7xOBThYP-5y3XBdM3JNyw4_XXN3erRuD38HLvYvAbDGBUB_LazhwDRiH6nu1EWw\n"
     ]
    },
    {
     "name": "stderr",
     "output_type": "stream",
     "text": [
      "\r",
      " 30%|███████████▉                            | 505/1695 [18:03<10:19,  1.92it/s]"
     ]
    },
    {
     "name": "stdout",
     "output_type": "stream",
     "text": [
      "BKm93jr9YKBbPetEUryU7pu81xug2cmKg6NXphza9TNFLZQS67hMWx_FnCOmKRgDA1WG5fBLLxdbqg\n"
     ]
    },
    {
     "name": "stderr",
     "output_type": "stream",
     "text": [
      "\r",
      " 30%|███████████▉                            | 506/1695 [18:04<13:13,  1.50it/s]"
     ]
    },
    {
     "name": "stdout",
     "output_type": "stream",
     "text": [
      "0NaYVcBfYVXt5DB7JTa0aaXvibCiWBnZ1IQ81cj1zecDOX9DIClCWtHlTaUsRcVc_2BEDuGvRExaOg\n"
     ]
    },
    {
     "name": "stderr",
     "output_type": "stream",
     "text": [
      "\r",
      " 30%|███████████▉                            | 507/1695 [18:05<13:04,  1.51it/s]"
     ]
    },
    {
     "name": "stdout",
     "output_type": "stream",
     "text": [
      "h4GHobLwMCbzK7BiKD-Yblm6Q-7C0LzdPLolWUv5mVrVA3B6kYYGRTWGkPC5T7gmvXN3Z6DmCH8jNA\n"
     ]
    },
    {
     "name": "stderr",
     "output_type": "stream",
     "text": [
      "\r",
      " 30%|███████████▉                            | 508/1695 [18:05<11:32,  1.71it/s]"
     ]
    },
    {
     "name": "stdout",
     "output_type": "stream",
     "text": [
      "l30xG0yNhQXKKzdMbepy-I7b9Uiwq9VN97nzOePzE4AGlERoThjdE9pe9HHX4C3K3NQ_5QYExTlX5w\n"
     ]
    },
    {
     "name": "stderr",
     "output_type": "stream",
     "text": [
      "\r",
      " 30%|████████████                            | 509/1695 [18:06<11:31,  1.71it/s]"
     ]
    },
    {
     "name": "stdout",
     "output_type": "stream",
     "text": [
      "o2yFNdSzQQu0FujazaW02uWL2ZGlVHVLTAB1QS1ov9lYMzEs1u2hHaZFP6en-LMox7Dp6o1YxApNMg\n"
     ]
    },
    {
     "name": "stderr",
     "output_type": "stream",
     "text": [
      "\r",
      " 30%|████████████                            | 510/1695 [18:06<10:42,  1.84it/s]"
     ]
    },
    {
     "name": "stdout",
     "output_type": "stream",
     "text": [
      "kaWUsvf6rdp5nOKAa4sF_ILPzIzQvEVOtpQA1sem5KyIUtAK7v5dNhVudDXYND5qiu-NtGfkPxtquQ\n"
     ]
    },
    {
     "name": "stderr",
     "output_type": "stream",
     "text": [
      "\r",
      " 30%|████████████                            | 511/1695 [18:07<11:39,  1.69it/s]"
     ]
    },
    {
     "name": "stdout",
     "output_type": "stream",
     "text": [
      "O-BCV2IJ_gYw9S8KOZsHDjd699jIM8j5ek5ouzeVmsKxf5sl2UK15YPrlCOlcahkaRHbFSI62G8nTw\n"
     ]
    },
    {
     "name": "stderr",
     "output_type": "stream",
     "text": [
      "\r",
      " 30%|████████████                            | 512/1695 [18:08<11:13,  1.76it/s]"
     ]
    },
    {
     "name": "stdout",
     "output_type": "stream",
     "text": [
      "9-NecI3rwL19bcDXpFuqOEvXoS8G0Jd_9ma-YGWiL2_lp0jvm94dff4_dhcwJL3jJK4do8zJZPNrDQ\n"
     ]
    },
    {
     "name": "stderr",
     "output_type": "stream",
     "text": [
      "\r",
      " 30%|████████████                            | 513/1695 [18:08<09:34,  2.06it/s]"
     ]
    },
    {
     "name": "stdout",
     "output_type": "stream",
     "text": [
      "91nY4l-Oi9IkhR4Ocr82JhJAZA-28Y_PTCgNzpilhEmpuwdH16J5YY2B1LOlg8MZspKSACOPhN7nPw\n"
     ]
    },
    {
     "name": "stderr",
     "output_type": "stream",
     "text": [
      "\r",
      " 30%|████████████▏                           | 514/1695 [18:09<11:26,  1.72it/s]"
     ]
    },
    {
     "name": "stdout",
     "output_type": "stream",
     "text": [
      "y0xr513pjAWAz-qJx4DMInurV2_p2v-l6apdUUj2-wXsyNNHbOyBWihxnLKhzcF0u0EEeZKZElv_2Q\n"
     ]
    },
    {
     "name": "stderr",
     "output_type": "stream",
     "text": [
      "\r",
      " 30%|████████████▏                           | 515/1695 [18:09<11:22,  1.73it/s]"
     ]
    },
    {
     "name": "stdout",
     "output_type": "stream",
     "text": [
      "XovDhHhuP1ajEbargvjJ0RKMLiwbgO3qC25Xk6TV0yZ6xmDR5uzUjyEYcU9wLByHQZuYIszW9EOpWg\n"
     ]
    },
    {
     "name": "stderr",
     "output_type": "stream",
     "text": [
      "\r",
      " 30%|████████████▏                           | 516/1695 [18:10<11:20,  1.73it/s]"
     ]
    },
    {
     "name": "stdout",
     "output_type": "stream",
     "text": [
      "2YFfXa768_1uV77RFW9c6OYsjpqLjzQnpQfFv9bYZ2zehG_48J9gph0DTPTzJROzbDAJcS_KMzf-gw\n"
     ]
    },
    {
     "name": "stderr",
     "output_type": "stream",
     "text": [
      "\r",
      " 31%|████████████▏                           | 517/1695 [18:10<09:43,  2.02it/s]"
     ]
    },
    {
     "name": "stdout",
     "output_type": "stream",
     "text": [
      "2dqXndbmlwiKxsXIWYtMbL9hKN0Qihp0N6Aw7dG1OpMhoxzu4Er_KYwKbOKN7lqhn9LpP39lAzY02w\n"
     ]
    },
    {
     "name": "stderr",
     "output_type": "stream",
     "text": [
      "\r",
      " 31%|████████████▏                           | 518/1695 [18:10<08:26,  2.32it/s]"
     ]
    },
    {
     "name": "stdout",
     "output_type": "stream",
     "text": [
      "9Pc7WKnbrmEJErRXy0a-pdkPk2gWQ3_UPkYX_JEJnOp4R6-w__fot6zJFict4Kg0ThBoKCI_NtfCZQ\n"
     ]
    },
    {
     "name": "stderr",
     "output_type": "stream",
     "text": [
      "\r",
      " 31%|████████████▏                           | 519/1695 [18:11<07:41,  2.55it/s]"
     ]
    },
    {
     "name": "stdout",
     "output_type": "stream",
     "text": [
      "VM3zJI6BuLJjBX-qMhhOsbWtyq45KojMbvwXYq-HXDKABfMLG-7q-biw7gfhlN0nTTEDOUijIjZN7A\n"
     ]
    },
    {
     "name": "stderr",
     "output_type": "stream",
     "text": [
      "\r",
      " 31%|████████████▎                           | 520/1695 [18:11<07:06,  2.75it/s]"
     ]
    },
    {
     "name": "stdout",
     "output_type": "stream",
     "text": [
      "mK6F2XQcghVU9hWw8B3OHsSuiRRiMZjrIUBO1zy9HJUOg_1j38YhM2WgK8jd9kX96rtWvI4FYztDOg\n"
     ]
    },
    {
     "name": "stderr",
     "output_type": "stream",
     "text": [
      "\r",
      " 31%|████████████▎                           | 521/1695 [18:11<06:38,  2.95it/s]"
     ]
    },
    {
     "name": "stdout",
     "output_type": "stream",
     "text": [
      "xQCnWT3pUdZml2-qSwJnRWnTbloZql1hVffDgp65akZsrEkPleGRor7B6P_OXARW_7-8EG_d3njggA\n"
     ]
    },
    {
     "name": "stderr",
     "output_type": "stream",
     "text": [
      "\r",
      " 31%|████████████▎                           | 522/1695 [18:12<08:29,  2.30it/s]"
     ]
    },
    {
     "name": "stdout",
     "output_type": "stream",
     "text": [
      "BYTV6YKf89B0t40me-XETSTAIbsV7CsQvFk-DRkXQjgFsdbDqbEGDWJAy9LQzZeXlxDBLfDhj0aEzA\n"
     ]
    },
    {
     "name": "stderr",
     "output_type": "stream",
     "text": [
      "\r",
      " 31%|████████████▎                           | 523/1695 [18:13<10:44,  1.82it/s]"
     ]
    },
    {
     "name": "stdout",
     "output_type": "stream",
     "text": [
      "RqxSmciZFOgG2Zv6YpvMPn-ru8I_qyKqEQdqNLvYLd_45U2IUEEQlmAJuTstl1NQr-H5zBc7D6oDag\n"
     ]
    },
    {
     "name": "stderr",
     "output_type": "stream",
     "text": [
      "\r",
      " 31%|████████████▎                           | 524/1695 [18:14<12:18,  1.59it/s]"
     ]
    },
    {
     "name": "stdout",
     "output_type": "stream",
     "text": [
      "0BKU4t_z3anhBwGoDCPXG0iGcId1KmB8OzOGUIAp12FCTV3H6cmJEL3bgFm7eELxe_MI12UNRwJ4_Q\n"
     ]
    },
    {
     "name": "stderr",
     "output_type": "stream",
     "text": [
      "\r",
      " 31%|████████████▍                           | 525/1695 [18:14<10:19,  1.89it/s]"
     ]
    },
    {
     "name": "stdout",
     "output_type": "stream",
     "text": [
      "RdZGEoG7aRSWcYjAGr2Z5Rzv4ReJAtacogqNTvB3TVBvEQDwseHMqRyElbmdRyReLOvnR7MCekiJMg\n"
     ]
    },
    {
     "name": "stderr",
     "output_type": "stream",
     "text": [
      "\r",
      " 31%|████████████▍                           | 526/1695 [18:14<10:04,  1.94it/s]"
     ]
    },
    {
     "name": "stdout",
     "output_type": "stream",
     "text": [
      "-59iYIVNc-_wrxsSSt3K5BoTisp9E3jMHFlXfNCOP_H7ah3hUnS2Db71R4vij0PX4rJsnav1jqU9rw\n"
     ]
    },
    {
     "name": "stderr",
     "output_type": "stream",
     "text": [
      "\r",
      " 31%|████████████▍                           | 527/1695 [18:15<12:02,  1.62it/s]"
     ]
    },
    {
     "name": "stdout",
     "output_type": "stream",
     "text": [
      "SS1ubKMGz0vHIb4fTPXsYtibPWd-Ei6Agyg54Wq0Q7aw3eivfZ_tinn5UuFdPIsjCUqa0WdA8rtSIA\n"
     ]
    },
    {
     "name": "stderr",
     "output_type": "stream",
     "text": [
      "\r",
      " 31%|████████████▍                           | 528/1695 [18:15<10:16,  1.89it/s]"
     ]
    },
    {
     "name": "stdout",
     "output_type": "stream",
     "text": [
      "afRCMmx3Wo-7kJv_R6aCqvhbFGzKp8Zjyp1Mka4k0z_-8I8AX0gWiH63o-YD-URaHLktEOn1ORseSw\n"
     ]
    },
    {
     "name": "stderr",
     "output_type": "stream",
     "text": [
      "\r",
      " 31%|████████████▍                           | 529/1695 [18:16<08:51,  2.19it/s]"
     ]
    },
    {
     "name": "stdout",
     "output_type": "stream",
     "text": [
      "HuYjJwsviqQKa4gHnKQmUxc4xwSFS8Zt8coxLYzHoQAGBm17OpXJoZYT5PhApAIQ-m9No1kYZHQ29w\n"
     ]
    },
    {
     "name": "stderr",
     "output_type": "stream",
     "text": [
      "\r",
      " 31%|████████████▌                           | 530/1695 [18:16<07:55,  2.45it/s]"
     ]
    },
    {
     "name": "stdout",
     "output_type": "stream",
     "text": [
      "x47I05EwNmGcdX3TpVIpmoDk1ZHc5jg3jbF0VXqiiBswHMky-jt8YIKKrr1CNMdyTrTHvHuptX44pQ\n"
     ]
    },
    {
     "name": "stderr",
     "output_type": "stream",
     "text": [
      "\r",
      " 31%|████████████▌                           | 531/1695 [18:16<07:22,  2.63it/s]"
     ]
    },
    {
     "name": "stdout",
     "output_type": "stream",
     "text": [
      "pA0UeaQz6JLfbWU0ZJqVGUfExEwLr_n3guP2FloBG8iKnvqd_W-VPUvbnEv7X1qqV3YbobV73YZprA\n"
     ]
    },
    {
     "name": "stderr",
     "output_type": "stream",
     "text": [
      "\r",
      " 31%|████████████▌                           | 532/1695 [18:17<06:55,  2.80it/s]"
     ]
    },
    {
     "name": "stdout",
     "output_type": "stream",
     "text": [
      "ZAB9iiEy9hqh_70hlYArhnODUU1uATlHtdQSfySuwE4i8T-L_4jP6MzzdiHLBrdYZkbUf36AN9ZnWg\n"
     ]
    },
    {
     "name": "stderr",
     "output_type": "stream",
     "text": [
      "\r",
      " 31%|████████████▌                           | 533/1695 [18:17<06:44,  2.87it/s]"
     ]
    },
    {
     "name": "stdout",
     "output_type": "stream",
     "text": [
      "7GMOcQbA1L_tNG03seU-j4AcbKGE8gOjCcFJWZZB4mgRf-mP9u9QzO1eqd2jM6ClircH5PnDS1CPIw\n"
     ]
    },
    {
     "name": "stderr",
     "output_type": "stream",
     "text": [
      "\r",
      " 32%|████████████▌                           | 534/1695 [18:17<07:12,  2.68it/s]"
     ]
    },
    {
     "name": "stdout",
     "output_type": "stream",
     "text": [
      "Eq4sEZJZBXdgRVuVRRnxfM180w5hrClDhreoeSosJQPzKS8R0VkNVy7zSgvNkBAdDq0OJE7ihe1nyQ\n"
     ]
    },
    {
     "name": "stderr",
     "output_type": "stream",
     "text": [
      "\r",
      " 32%|████████████▋                           | 535/1695 [18:18<06:41,  2.89it/s]"
     ]
    },
    {
     "name": "stdout",
     "output_type": "stream",
     "text": [
      "L4KImo5qpUazG-d6WLheQy8Ow4lS4us_3X1u301XKUGNQ4jZV4CvEMGRK2yT_gSzGb_c_vizySyTnQ\n"
     ]
    },
    {
     "name": "stderr",
     "output_type": "stream",
     "text": [
      "\r",
      " 32%|████████████▋                           | 536/1695 [18:18<07:33,  2.55it/s]"
     ]
    },
    {
     "name": "stdout",
     "output_type": "stream",
     "text": [
      "yMdzcDTWCSppRnj2Cu8jw6tmQKVb-uQjg4IzWSVt0MRn8R8UUaTgMC8FJV8EzZVDIvEBOhGzTtiW8g\n"
     ]
    },
    {
     "name": "stderr",
     "output_type": "stream",
     "text": [
      "\r",
      " 32%|████████████▋                           | 537/1695 [18:19<08:28,  2.28it/s]"
     ]
    },
    {
     "name": "stdout",
     "output_type": "stream",
     "text": [
      "a5RSlfq_YiKHpde8IceMsDBIyu-hPoJ_pm1Y8ep0eaqu--zpTbSv6DueFXVjTN7uA7I_90U8rcvRiA\n"
     ]
    },
    {
     "name": "stderr",
     "output_type": "stream",
     "text": [
      "\r",
      " 32%|████████████▋                           | 538/1695 [18:19<07:58,  2.42it/s]"
     ]
    },
    {
     "name": "stdout",
     "output_type": "stream",
     "text": [
      "UIbwHuJNZy0myL6OCq_ieR7DsXHUDCCEm9UACy7Se1sedcjtJhyARXNFes_c2SXWMxrc5QJRF4aVrA\n"
     ]
    },
    {
     "name": "stderr",
     "output_type": "stream",
     "text": [
      "\r",
      " 32%|████████████▋                           | 539/1695 [18:20<08:08,  2.37it/s]"
     ]
    },
    {
     "name": "stdout",
     "output_type": "stream",
     "text": [
      "yEa05h3p6NDikwjopxXKWbkHTLW5CgAtJQLvlsb2qrgxbP3b4R0-t37e7MR175oIZvCvevccbuwMkA\n"
     ]
    },
    {
     "name": "stderr",
     "output_type": "stream",
     "text": [
      "\r",
      " 32%|████████████▋                           | 540/1695 [18:20<09:49,  1.96it/s]"
     ]
    },
    {
     "name": "stdout",
     "output_type": "stream",
     "text": [
      "IUXDUnHCbgqFsWyojaXrY-VMLktf-TDgr_SQJ1sFKaeM0uunnTHOfEABOwm28QPMv3nyNFqB-EjtKQ\n"
     ]
    },
    {
     "name": "stderr",
     "output_type": "stream",
     "text": [
      "\r",
      " 32%|████████████▊                           | 541/1695 [18:21<08:33,  2.25it/s]"
     ]
    },
    {
     "name": "stdout",
     "output_type": "stream",
     "text": [
      "L7Qrh7i8ZmnrRIeC2OnYeinY-M-0QycE_wwD2tKNLHPnhayKj6rdVNx8yJ7tK6v5fnRxvISB2rEEIQ\n"
     ]
    },
    {
     "name": "stderr",
     "output_type": "stream",
     "text": [
      "\r",
      " 32%|████████████▊                           | 542/1695 [18:21<08:51,  2.17it/s]"
     ]
    },
    {
     "name": "stdout",
     "output_type": "stream",
     "text": [
      "qAPJQyPtdcvu6SfPw1Eb4Hr__WobLgS9crPwCD9HHG7gIylJxt1QQXtcJq0p7WLqAvML3uTPvYeveA\n"
     ]
    },
    {
     "name": "stderr",
     "output_type": "stream",
     "text": [
      "\r",
      " 32%|████████████▊                           | 543/1695 [18:21<07:52,  2.44it/s]"
     ]
    },
    {
     "name": "stdout",
     "output_type": "stream",
     "text": [
      "VhcbicM48XmiQpYdaDFvZtYFEIZiJGDSECjQE9tDDSxhHzBYcthP6TWqF4QVoelIqp6xMB8x1pJG-g\n"
     ]
    },
    {
     "name": "stderr",
     "output_type": "stream",
     "text": [
      "\r",
      " 32%|████████████▊                           | 544/1695 [18:22<09:39,  1.99it/s]"
     ]
    },
    {
     "name": "stdout",
     "output_type": "stream",
     "text": [
      "ueQbCx9t_ynXg_VPSrwy91WO8Ou-S21Nnqz3iSbqfFjMRGXOSOAYrnMB-egJ-GwLxOvGazm0Iq4eIA\n"
     ]
    },
    {
     "name": "stderr",
     "output_type": "stream",
     "text": [
      "\r",
      " 32%|████████████▊                           | 545/1695 [18:23<11:40,  1.64it/s]"
     ]
    },
    {
     "name": "stdout",
     "output_type": "stream",
     "text": [
      "6aQW5U0ye2xeTwR0nvuRQvPs0v_fZJMNRCHnv38f5v1Yfl1yizxQ94jz5Z5-v9oYwl6S-tAUUrURsg\n"
     ]
    },
    {
     "name": "stderr",
     "output_type": "stream",
     "text": [
      "\r",
      " 32%|████████████▉                           | 546/1695 [18:23<09:53,  1.94it/s]"
     ]
    },
    {
     "name": "stdout",
     "output_type": "stream",
     "text": [
      "6GlOayoe5Qrk-LqtcYHLqFHULV9FdhJKnMQTmIaBj2LAZ_a_PAPs7DaZY9i8E9-HNBpwGpqniAPB0g\n"
     ]
    },
    {
     "name": "stderr",
     "output_type": "stream",
     "text": [
      "\r",
      " 32%|████████████▉                           | 547/1695 [18:23<08:20,  2.29it/s]"
     ]
    },
    {
     "name": "stdout",
     "output_type": "stream",
     "text": [
      "7PR7d5fnM4jOqJJWyzt62Hrb0EPAESFjz7iAnALozzaKxLqs4b_0OU9Jj0vRxyHs-Z5PBd2SaiDQgQ\n"
     ]
    },
    {
     "name": "stderr",
     "output_type": "stream",
     "text": [
      "\r",
      " 32%|████████████▉                           | 548/1695 [18:24<07:20,  2.60it/s]"
     ]
    },
    {
     "name": "stdout",
     "output_type": "stream",
     "text": [
      "uqPWi7Ro0opmYChAC-q39T2WVVPgMf7U7SNOIzkOvwda8BHcf4RQvHHkL8aNIWjrepxH5CShAAg4Hg\n"
     ]
    },
    {
     "name": "stderr",
     "output_type": "stream",
     "text": [
      "\r",
      " 32%|████████████▉                           | 549/1695 [18:24<06:44,  2.83it/s]"
     ]
    },
    {
     "name": "stdout",
     "output_type": "stream",
     "text": [
      "434FHWy5bzWfLQXBzaoZO5K8dWeJ1SF9YkW5Sw_Cr1X6FC9OBqMBvQewcxl29bwts-Oh07HVOaIr0w\n"
     ]
    },
    {
     "name": "stderr",
     "output_type": "stream",
     "text": [
      "\r",
      " 32%|████████████▉                           | 550/1695 [18:25<09:01,  2.11it/s]"
     ]
    },
    {
     "name": "stdout",
     "output_type": "stream",
     "text": [
      "mQJJ6OfnTl3jV4XqTlwdwZYOnFKGoBGYq-Wp5QzzRPqBt0qA83-gh_TOBNRHlhQ30xvq-3UqdsRNVg\n"
     ]
    },
    {
     "name": "stderr",
     "output_type": "stream",
     "text": [
      "\r",
      " 33%|█████████████                           | 551/1695 [18:26<11:07,  1.71it/s]"
     ]
    },
    {
     "name": "stdout",
     "output_type": "stream",
     "text": [
      "g5L0b4SHTMDN3cn5HaT1nV_ip_UTmtMjppSCmqGktErvLmnbZLNmXYoghbNPyDg4Jfaj402I_ei2sA\n"
     ]
    },
    {
     "name": "stderr",
     "output_type": "stream",
     "text": [
      "\r",
      " 33%|█████████████                           | 552/1695 [18:26<09:27,  2.01it/s]"
     ]
    },
    {
     "name": "stdout",
     "output_type": "stream",
     "text": [
      "KcsAUuisr34o3ovqDIt4XcI6wGBa5G9wNfuYp-UXOB5TIHrIXKWgNV9J51BsnDfHnx6qirQ90sZoCg\n"
     ]
    },
    {
     "name": "stderr",
     "output_type": "stream",
     "text": [
      "\r",
      " 33%|█████████████                           | 553/1695 [18:26<08:34,  2.22it/s]"
     ]
    },
    {
     "name": "stdout",
     "output_type": "stream",
     "text": [
      "Q7g6R_DpfB9qF10MDibrXSYvLGxyBeEHJ8doxxoZBjdF3d_3YIfeuYfhQaruV-VFrxbiY4qsemsBEQ\n"
     ]
    },
    {
     "name": "stderr",
     "output_type": "stream",
     "text": [
      "\r",
      " 33%|█████████████                           | 554/1695 [18:27<10:05,  1.88it/s]"
     ]
    },
    {
     "name": "stdout",
     "output_type": "stream",
     "text": [
      "OVpwcZStbpIK0nCEKTVPTDUbgbZTeeG9-FlaSnOuSb8_zLYwJxCul5AUOE_w5eW_HDc9a4_4HGw1Ow\n"
     ]
    },
    {
     "name": "stderr",
     "output_type": "stream",
     "text": [
      "\r",
      " 33%|█████████████                           | 555/1695 [18:27<08:38,  2.20it/s]"
     ]
    },
    {
     "name": "stdout",
     "output_type": "stream",
     "text": [
      "JTRbYRoBDRFCuHf9cNr7IvpxVzmmnfF-tNtkK0XON7w0BDmQDwnEf8W9n-bNQwAppbTKqaHwhFH1dw\n"
     ]
    },
    {
     "name": "stderr",
     "output_type": "stream",
     "text": [
      "\r",
      " 33%|█████████████                           | 556/1695 [18:28<09:28,  2.00it/s]"
     ]
    },
    {
     "name": "stdout",
     "output_type": "stream",
     "text": [
      "5h7GiQVujo7blXSx3m-_p86ArdXBN43SNo3a0PIwqv6uDYeiH73HdViQAGrVkyQmgwtPSF0DgPQI-g\n"
     ]
    },
    {
     "name": "stderr",
     "output_type": "stream",
     "text": [
      "\r",
      " 33%|█████████████▏                          | 557/1695 [18:29<11:16,  1.68it/s]"
     ]
    },
    {
     "name": "stdout",
     "output_type": "stream",
     "text": [
      "dzICfe_fTYNMZNVT2C03sAutOPkFtDPdTKUXsPn35Oxiu5Sn3WcS9eU0gUdh77fiFOt1rzXIupmD5A\n"
     ]
    },
    {
     "name": "stderr",
     "output_type": "stream",
     "text": [
      "\r",
      " 33%|█████████████▏                          | 558/1695 [18:29<11:26,  1.66it/s]"
     ]
    },
    {
     "name": "stdout",
     "output_type": "stream",
     "text": [
      "9ocy1d7Pp9lV2q0KzEug61pVQUT0-DBMXomeK19v0wSkKFuIsf7G1HrAwI6h33VjJgrtv_J-2dqvGw\n"
     ]
    },
    {
     "name": "stderr",
     "output_type": "stream",
     "text": [
      "\r",
      " 33%|█████████████▏                          | 559/1695 [18:30<10:44,  1.76it/s]"
     ]
    },
    {
     "name": "stdout",
     "output_type": "stream",
     "text": [
      "C-rkDqgK0Jyyg4NVOgWTNtqtjpZu2fUg3sBMM7fIBYmczAkica_cuDRq6UlwolLWdevXCTyW0FfQqQ\n"
     ]
    },
    {
     "name": "stderr",
     "output_type": "stream",
     "text": [
      "\r",
      " 33%|█████████████▏                          | 560/1695 [18:30<10:14,  1.85it/s]"
     ]
    },
    {
     "name": "stdout",
     "output_type": "stream",
     "text": [
      "BHQPqnzbRLKeRNuLmOwuYvg90luYoitnjzyyBoEGtIIHUdvj2X4dmlvL4rw6GkMCNvm428vYHLTR_A\n"
     ]
    },
    {
     "name": "stderr",
     "output_type": "stream",
     "text": [
      "\r",
      " 33%|█████████████▏                          | 561/1695 [18:31<09:23,  2.01it/s]"
     ]
    },
    {
     "name": "stdout",
     "output_type": "stream",
     "text": [
      "MWlirsmKMMVLkVjkxfvKh-AyvDK2VUG7qODp9Nbc_xZIcoceTzBIYrZRqNZ8YM5Lep2kayckFqxAXQ\n"
     ]
    },
    {
     "name": "stderr",
     "output_type": "stream",
     "text": [
      "\r",
      " 33%|█████████████▎                          | 562/1695 [18:31<11:00,  1.71it/s]"
     ]
    },
    {
     "name": "stdout",
     "output_type": "stream",
     "text": [
      "2ZMWjVTveKsLEmZIDlh2orVv1D79oVsmGD2p_a471qWSspyqQcazUE0xPL-aIz2JSABFDxVy3pujHQ\n"
     ]
    },
    {
     "name": "stderr",
     "output_type": "stream",
     "text": [
      "\r",
      " 33%|█████████████▎                          | 563/1695 [18:32<13:27,  1.40it/s]"
     ]
    },
    {
     "name": "stdout",
     "output_type": "stream",
     "text": [
      "VfsIieqD7DDJNKJq3KceYSmlQYdj90lHXrhlBdtv8q6W-dNX8PgHhEjWwuJxhycAhoQReNj2OUD2bw\n"
     ]
    },
    {
     "name": "stderr",
     "output_type": "stream",
     "text": [
      "\r",
      " 33%|█████████████▎                          | 564/1695 [18:33<11:03,  1.70it/s]"
     ]
    },
    {
     "name": "stdout",
     "output_type": "stream",
     "text": [
      "XExpJ1W0KHD02vwLyCokWHf8gnmR_e53HWa86wTAiH50bKV7BkfqiedYChc8V3Ka3dFSX7zoEWjGzg\n"
     ]
    },
    {
     "name": "stderr",
     "output_type": "stream",
     "text": [
      "\r",
      " 33%|█████████████▎                          | 565/1695 [18:33<11:32,  1.63it/s]"
     ]
    },
    {
     "name": "stdout",
     "output_type": "stream",
     "text": [
      "CT9IV_bX3YNZ9tPc9ymhqhRKLEpwtFwMTaifMX0-GnuOt5xCY32vD86g0zHMlDtH_RlwRbwB1kYU2w\n"
     ]
    },
    {
     "name": "stderr",
     "output_type": "stream",
     "text": [
      "\r",
      " 33%|█████████████▎                          | 566/1695 [18:34<09:40,  1.94it/s]"
     ]
    },
    {
     "name": "stdout",
     "output_type": "stream",
     "text": [
      "AI--N3030hj_FWaCylQfGfT26DkQOCXGmsg5oHgO0BrbAxaV8hZNN_lb5y-48-eEP23xElKLn-MZcw\n"
     ]
    },
    {
     "name": "stderr",
     "output_type": "stream",
     "text": [
      "\r",
      " 33%|█████████████▍                          | 567/1695 [18:35<12:12,  1.54it/s]"
     ]
    },
    {
     "name": "stdout",
     "output_type": "stream",
     "text": [
      "R3zyuEMw7-xq9ia_6IqgaiJG7zd3G6GDgGZtVo6DLrOP6U9xNED-BVBzx3-wf5xALfvRs9TDbBMR1A\n"
     ]
    },
    {
     "name": "stderr",
     "output_type": "stream",
     "text": [
      "\r",
      " 34%|█████████████▍                          | 568/1695 [18:36<14:27,  1.30it/s]"
     ]
    },
    {
     "name": "stdout",
     "output_type": "stream",
     "text": [
      "3Q8p1jIklKIEi9JnYpCA9O8yy24-j9tveDQIgbe24lfOJuMki7oo3QcHDmN2xhwju4A46cawASjGPw\n"
     ]
    },
    {
     "name": "stderr",
     "output_type": "stream",
     "text": [
      "\r",
      " 34%|█████████████▍                          | 569/1695 [18:36<11:42,  1.60it/s]"
     ]
    },
    {
     "name": "stdout",
     "output_type": "stream",
     "text": [
      "WP3jREhoyRnrIj4YM_eFBdIL71dqzI1z36K-KNk9-G1DMMg0N5EcRZydBQHn_Dk8N2wIOfbP8wasdw\n"
     ]
    },
    {
     "name": "stderr",
     "output_type": "stream",
     "text": [
      "\r",
      " 34%|█████████████▍                          | 570/1695 [18:36<10:23,  1.80it/s]"
     ]
    },
    {
     "name": "stdout",
     "output_type": "stream",
     "text": [
      "vWpB_K8tW8uwr_8-ndb_VP7mQJgzwpd7eaP7MOMWUVz7bVSHh-w6sHARelgvLHUTSCmWIcPwmKAdVQ\n"
     ]
    },
    {
     "name": "stderr",
     "output_type": "stream",
     "text": [
      "\r",
      " 34%|█████████████▍                          | 571/1695 [18:37<08:59,  2.08it/s]"
     ]
    },
    {
     "name": "stdout",
     "output_type": "stream",
     "text": [
      "K3BzN-82j4nzNs95OPonwnr-9g_kx0gRSvIEhVDzlvTx49dFEqJwXwzUhzkJJBIbbG0nOcn59mpiNw\n"
     ]
    },
    {
     "name": "stderr",
     "output_type": "stream",
     "text": [
      "\r",
      " 34%|█████████████▍                          | 572/1695 [18:38<10:46,  1.74it/s]"
     ]
    },
    {
     "name": "stdout",
     "output_type": "stream",
     "text": [
      "ypOjp3X3Pd8tq7xokB8CD6-V6390XiozIM0heAbk_t_VZzt4IaFXatNP6N0kiX9tu52lR7Gm38hkEg\n"
     ]
    },
    {
     "name": "stderr",
     "output_type": "stream",
     "text": [
      "\r",
      " 34%|█████████████▌                          | 573/1695 [18:38<09:50,  1.90it/s]"
     ]
    },
    {
     "name": "stdout",
     "output_type": "stream",
     "text": [
      "kEfn_rdn_0aItMYZKdevHcVOFi9YwpSmoR6JK-0t_Uq1047ryWj5lePGSqF6_NtVzAPvG0LNk8HbHw\n"
     ]
    },
    {
     "name": "stderr",
     "output_type": "stream",
     "text": [
      "\r",
      " 34%|█████████████▌                          | 574/1695 [18:38<08:40,  2.16it/s]"
     ]
    },
    {
     "name": "stdout",
     "output_type": "stream",
     "text": [
      "2cZaVzvZ7OcfdxJIN3h9c4PblFgszzKDC03hJmL2pdcL8wlFtgVFojc9iBtQghK-rfo4_xGE4_oEmw\n"
     ]
    },
    {
     "name": "stderr",
     "output_type": "stream",
     "text": [
      "\r",
      " 34%|█████████████▌                          | 575/1695 [18:39<08:44,  2.13it/s]"
     ]
    },
    {
     "name": "stdout",
     "output_type": "stream",
     "text": [
      "lY1IIdYjP952XZMf6s98Puo2sG55W0iJWmGf-mdIW0nQ8Rlurc-LXA7SEdZxJBR7fWuKSb3SGpjdhw\n"
     ]
    },
    {
     "name": "stderr",
     "output_type": "stream",
     "text": [
      "\r",
      " 34%|█████████████▌                          | 576/1695 [18:39<07:41,  2.43it/s]"
     ]
    },
    {
     "name": "stdout",
     "output_type": "stream",
     "text": [
      "1cmWzaFP7eofGAqVJoANGz51Xa-lZ-_UImUCaNe2YLvVlnigegfNycci7bDd7GZ_S4SNFBiS5WA41w\n"
     ]
    },
    {
     "name": "stderr",
     "output_type": "stream",
     "text": [
      "\r",
      " 34%|█████████████▌                          | 577/1695 [18:39<06:57,  2.68it/s]"
     ]
    },
    {
     "name": "stdout",
     "output_type": "stream",
     "text": [
      "wo7k5iQpzLAfYLvY7vC0_hdE1q1s8m-zfwWtYnu9NLw5chkvDvKguXJVXf15WZRO2Nk-E2wqdNCx2Q\n"
     ]
    },
    {
     "name": "stderr",
     "output_type": "stream",
     "text": [
      "\r",
      " 34%|█████████████▋                          | 578/1695 [18:40<07:26,  2.50it/s]"
     ]
    },
    {
     "name": "stdout",
     "output_type": "stream",
     "text": [
      "_mAo3Xcl2VAXG9YGOIbugpqFeBzRiAh0d4JRG87BS3wq6H2L68uEkb493YDAjcYihKctdSsZr4uFIg\n",
      "api cost full : infinite loop start\n",
      "loop location :  armO-d3oDJ_SOIz8wj6YuNCHII5xg78UqqITAHy_90EfrlmPiKJWIV5mRQ\n",
      "try 10 second wait time\n",
      "429\n",
      "try 10 second wait time\n",
      "429\n",
      "try 10 second wait time\n",
      "429\n",
      "try 10 second wait time\n",
      "429\n",
      "try 10 second wait time\n",
      "429\n",
      "try 10 second wait time\n",
      "429\n",
      "try 10 second wait time\n"
     ]
    },
    {
     "name": "stderr",
     "output_type": "stream",
     "text": [
      "\r",
      " 34%|████████████▉                         | 579/1695 [19:53<6:53:06, 22.21s/it]"
     ]
    },
    {
     "name": "stdout",
     "output_type": "stream",
     "text": [
      "200\n",
      "total wait time :  72.8694908618927\n",
      "recovery api cost\n",
      "mBDdRgQ56a5PkYWZ7tS_74WhjOgYX0Bt2tWeyGLLXsNMY-40Fv8VkQLWy66OKI5QUcE7VuSeRUtAXg\n"
     ]
    },
    {
     "name": "stderr",
     "output_type": "stream",
     "text": [
      "\r",
      " 34%|█████████████                         | 580/1695 [19:53<4:50:44, 15.65s/it]"
     ]
    },
    {
     "name": "stdout",
     "output_type": "stream",
     "text": [
      "O-Ts6UXDfwG3ZfX1gEDphB_jCY0V3ktr-6l5bqXoEK6_UreGspFQ0qGiYs2wQA2FHavXnzRRN0DYGg\n"
     ]
    },
    {
     "name": "stderr",
     "output_type": "stream",
     "text": [
      "\r",
      " 34%|█████████████                         | 581/1695 [19:53<3:24:56, 11.04s/it]"
     ]
    },
    {
     "name": "stdout",
     "output_type": "stream",
     "text": [
      "I8JjOjwy3sLdMzLsITqQhbeNTlQWV8IcifvJUOxACerVOModKCFjB-MTpCnWtIfOMtyuejB-y0Y3qw\n"
     ]
    },
    {
     "name": "stderr",
     "output_type": "stream",
     "text": [
      "\r",
      " 34%|█████████████                         | 582/1695 [19:54<2:24:58,  7.82s/it]"
     ]
    },
    {
     "name": "stdout",
     "output_type": "stream",
     "text": [
      "CoUybMcG3NO2iaWC8j7H46YGbNxrhlPwc_HNYmdAM4F3hItrAxX6YD0Kg4Ecjmhm0QY_erqhHTixAw\n"
     ]
    },
    {
     "name": "stderr",
     "output_type": "stream",
     "text": [
      "\r",
      " 34%|█████████████                         | 583/1695 [19:54<1:43:26,  5.58s/it]"
     ]
    },
    {
     "name": "stdout",
     "output_type": "stream",
     "text": [
      "wqCmrzwETC2dZsgjimwsAOziA6bPuOvfZOgct5_ZthDZ61OknXjMtt1K0kLEXW7O1srcoL3a2naMTA\n"
     ]
    },
    {
     "name": "stderr",
     "output_type": "stream",
     "text": [
      "\r",
      " 34%|█████████████                         | 584/1695 [19:54<1:13:58,  4.00s/it]"
     ]
    },
    {
     "name": "stdout",
     "output_type": "stream",
     "text": [
      "SJ1rLnZbqvzBRUQJvM721dxJbyd5bA6eeJt4jLyNhE2NKkzmzV018Kd8F5HHxv93HSeo-BGiwPbP4w\n"
     ]
    },
    {
     "name": "stderr",
     "output_type": "stream",
     "text": [
      "\r",
      " 35%|█████████████▊                          | 585/1695 [19:55<53:39,  2.90s/it]"
     ]
    },
    {
     "name": "stdout",
     "output_type": "stream",
     "text": [
      "bwDwUZM2O925bhs4_PP9gANUZyYY-TqkYjEKjjRWhepeyFbhkBcO49skHYOkaI7NuCNLOaIM6bcfnA\n"
     ]
    },
    {
     "name": "stderr",
     "output_type": "stream",
     "text": [
      "\r",
      " 35%|█████████████▊                          | 586/1695 [19:55<39:12,  2.12s/it]"
     ]
    },
    {
     "name": "stdout",
     "output_type": "stream",
     "text": [
      "kW7JLIzV6BLvfx9uVc-H6ltes8QdbxBMU0H5BPW6eyKjlgF4g1f2DHJTfsT9cerIbjbjBRmwl_Cu_w\n"
     ]
    },
    {
     "name": "stderr",
     "output_type": "stream",
     "text": [
      "\r",
      " 35%|█████████████▊                          | 587/1695 [19:55<29:00,  1.57s/it]"
     ]
    },
    {
     "name": "stdout",
     "output_type": "stream",
     "text": [
      "fzDvy3EOsMuSvCjiemNHwH5kLH89PwkgjwlvjldQ5NPdv4Fvyfihhg5pL6pSY4bf3ZFNNknMFjxeIA\n"
     ]
    },
    {
     "name": "stderr",
     "output_type": "stream",
     "text": [
      "\r",
      " 35%|█████████████▉                          | 588/1695 [19:56<21:56,  1.19s/it]"
     ]
    },
    {
     "name": "stdout",
     "output_type": "stream",
     "text": [
      "9HS6yk73ColAIIy7zYowme1ejO-LjA0I2i4tWMKHLiqqUqI-Jz1VwT1nsUdM8H5p3ztHYNBJotgSyA\n"
     ]
    },
    {
     "name": "stderr",
     "output_type": "stream",
     "text": [
      "\r",
      " 35%|█████████████▉                          | 589/1695 [19:56<17:38,  1.04it/s]"
     ]
    },
    {
     "name": "stdout",
     "output_type": "stream",
     "text": [
      "XeNHOOzHq9d0U5fg3A4qss6_tuzwLHvBfX0S9rj3d58a2WGrydPBeIcwzSgdqsOYIUiTvAuftTGRsw\n"
     ]
    },
    {
     "name": "stderr",
     "output_type": "stream",
     "text": [
      "\r",
      " 35%|█████████████▉                          | 590/1695 [19:56<13:58,  1.32it/s]"
     ]
    },
    {
     "name": "stdout",
     "output_type": "stream",
     "text": [
      "y0yEZVPn6CHu0KwlK-8lXLqLY7bl7Qnv06fWFUIgiX1199t-4X0ODuvGRsD4bVreDYB5rR6yUrcCtw\n"
     ]
    },
    {
     "name": "stderr",
     "output_type": "stream",
     "text": [
      "\r",
      " 35%|█████████████▉                          | 591/1695 [19:57<11:23,  1.62it/s]"
     ]
    },
    {
     "name": "stdout",
     "output_type": "stream",
     "text": [
      "joBG06ILnW85VNiftj_O9Hycz0SD-WBzjDsXPex6uwrcLnr1QNtdvqhbipZB7QohGAmR2BF-x_HgtQ\n"
     ]
    },
    {
     "name": "stderr",
     "output_type": "stream",
     "text": [
      "\r",
      " 35%|█████████████▉                          | 592/1695 [19:57<09:51,  1.87it/s]"
     ]
    },
    {
     "name": "stdout",
     "output_type": "stream",
     "text": [
      "oA87-cshaWOvh8NvggNGZEZYWnIMXRcopZCm15obTYVpsmEB-UXvloVZcx28s4Q-Ow_DUmg2tA9gww\n"
     ]
    },
    {
     "name": "stderr",
     "output_type": "stream",
     "text": [
      "\r",
      " 35%|█████████████▉                          | 593/1695 [19:57<08:33,  2.15it/s]"
     ]
    },
    {
     "name": "stdout",
     "output_type": "stream",
     "text": [
      "SKfnxZo7T8BwVcpw2WffdKApymy9-AD9cfh04x65AKv-Pcrwho1ranRLFgN1vHS9Xrf20V-Of2_Xgg\n"
     ]
    },
    {
     "name": "stderr",
     "output_type": "stream",
     "text": [
      "\r",
      " 35%|██████████████                          | 594/1695 [19:58<07:35,  2.42it/s]"
     ]
    },
    {
     "name": "stdout",
     "output_type": "stream",
     "text": [
      "KyQM8KhJ4MvPoZYoJ5jDKjoSTSNPAOUjy6t3bZSX88sTP4HbRlEu_qVQRvSIFj9kNlAXo2dsBKdilQ\n"
     ]
    },
    {
     "name": "stderr",
     "output_type": "stream",
     "text": [
      "\r",
      " 35%|██████████████                          | 595/1695 [19:58<06:55,  2.65it/s]"
     ]
    },
    {
     "name": "stdout",
     "output_type": "stream",
     "text": [
      "rVm75KTOTNsw4Dcdcd6L3ccnDNXx13FP1I1Vv_x9EhSV3B1_Po6xc7a9-7o8TR23PSL4A3mFK5SS1g\n"
     ]
    },
    {
     "name": "stderr",
     "output_type": "stream",
     "text": [
      "\r",
      " 35%|██████████████                          | 596/1695 [19:58<06:25,  2.85it/s]"
     ]
    },
    {
     "name": "stdout",
     "output_type": "stream",
     "text": [
      "vNBivrfpPDsr2zDm4oFMSqBOP8UsvCBCMQAlQ0Y1r7Xi2bBg5uvFVqU2dTyX7EzYz3JSLEc4hWxEPQ\n"
     ]
    },
    {
     "name": "stderr",
     "output_type": "stream",
     "text": [
      "\r",
      " 35%|██████████████                          | 597/1695 [19:59<06:59,  2.62it/s]"
     ]
    },
    {
     "name": "stdout",
     "output_type": "stream",
     "text": [
      "BiSe7dJ-ZhxPWXW07-YkX8ZSVNu5i_aLXxYbReAjYNzplPNJOyHQmwzdIWTSEGf5No7bfaOgkogtJQ\n"
     ]
    },
    {
     "name": "stderr",
     "output_type": "stream",
     "text": [
      "\r",
      " 35%|██████████████                          | 598/1695 [19:59<06:28,  2.83it/s]"
     ]
    },
    {
     "name": "stdout",
     "output_type": "stream",
     "text": [
      "ZRoBEXUCGIYy8wusoqXogh129arxFpe-xejt-oBujqdFx6xzdrVjJtChILCWJ_2DxhbSh7wwAW8S3w\n"
     ]
    },
    {
     "name": "stderr",
     "output_type": "stream",
     "text": [
      "\r",
      " 35%|██████████████▏                         | 599/1695 [19:59<06:06,  2.99it/s]"
     ]
    },
    {
     "name": "stdout",
     "output_type": "stream",
     "text": [
      "8rxKsLWKkp38NcYEhxFrImjTW2-4Cgk1K5JUcgZ4kjAIM2Nbyk-kI9ET7ZKtAfIQlOoTQ6s89ZK_GA\n"
     ]
    },
    {
     "name": "stderr",
     "output_type": "stream",
     "text": [
      "\r",
      " 35%|██████████████▏                         | 600/1695 [19:59<05:50,  3.12it/s]"
     ]
    },
    {
     "name": "stdout",
     "output_type": "stream",
     "text": [
      "MQZRXE00VQlPO8km9Rip8VoQ3XnvBvDS86KaCIPM5GZXYob-GexCymhxFkY1nBjk4PY6oyJgi0X-mQ\n"
     ]
    },
    {
     "name": "stderr",
     "output_type": "stream",
     "text": [
      "\r",
      " 35%|██████████████▏                         | 601/1695 [20:00<06:37,  2.75it/s]"
     ]
    },
    {
     "name": "stdout",
     "output_type": "stream",
     "text": [
      "GZbKPPp71RKjmo23TZygjE4caMJdExc8tE-xrH_ZlrxNok8LuaAQ6r3HHF45WC14K1XCPgZgGV13VA\n"
     ]
    },
    {
     "name": "stderr",
     "output_type": "stream",
     "text": [
      "\r",
      " 36%|██████████████▏                         | 602/1695 [20:00<06:16,  2.90it/s]"
     ]
    },
    {
     "name": "stdout",
     "output_type": "stream",
     "text": [
      "KH_7kLNpDAalHb1d7XJ-TU7MNZ2jqFk01h5u2puZQWRoQ-_riKQhFn0eR-JTYB3vpv8txezLFp2WWw\n"
     ]
    },
    {
     "name": "stderr",
     "output_type": "stream",
     "text": [
      "\r",
      " 36%|██████████████▏                         | 603/1695 [20:01<06:08,  2.96it/s]"
     ]
    },
    {
     "name": "stdout",
     "output_type": "stream",
     "text": [
      "7whQ08q8BiNfhWyZmmoxpYy3Xh6S34HrB5bgYZNGA31rZD2wkTh7Wv_CdUIIyjge1MNXcgEcz5cg0A\n"
     ]
    },
    {
     "name": "stderr",
     "output_type": "stream",
     "text": [
      "\r",
      " 36%|██████████████▎                         | 604/1695 [20:01<05:48,  3.13it/s]"
     ]
    },
    {
     "name": "stdout",
     "output_type": "stream",
     "text": [
      "OuEwh-svuSC6r1U7ctBLcZBngUAz_K3NQqaG0wcLtbwIDMaLlh2NQwJoADjmiZFrL4d-4xHZEAPfeA\n"
     ]
    },
    {
     "name": "stderr",
     "output_type": "stream",
     "text": [
      "\r",
      " 36%|██████████████▎                         | 605/1695 [20:01<05:46,  3.14it/s]"
     ]
    },
    {
     "name": "stdout",
     "output_type": "stream",
     "text": [
      "vKkL8mJsKEjW9Z4PIZ-MYzYdt_F5zJdDku_nX3wio2jjwPbOG0aU5-iY63l3vLGtsItcsAYQhgk7DQ\n"
     ]
    },
    {
     "name": "stderr",
     "output_type": "stream",
     "text": [
      "\r",
      " 36%|██████████████▎                         | 606/1695 [20:01<05:39,  3.21it/s]"
     ]
    },
    {
     "name": "stdout",
     "output_type": "stream",
     "text": [
      "doxRljM0kPcW8aHsynWPyR9vRo8hrb9CxFjuTOF7cuRV1__dyt7MTdbeow9bF6uLB_qTPMhAEWHL_w\n"
     ]
    },
    {
     "name": "stderr",
     "output_type": "stream",
     "text": [
      "\r",
      " 36%|██████████████▎                         | 607/1695 [20:02<05:33,  3.26it/s]"
     ]
    },
    {
     "name": "stdout",
     "output_type": "stream",
     "text": [
      "M3dQeaDCxiEnhF-7sUeZXmHalf4lltF2KSzIXl4nrQjQNNZ0X9__xX7HB2OemcptvvxVzOSOHW1DNQ\n"
     ]
    },
    {
     "name": "stderr",
     "output_type": "stream",
     "text": [
      "\r",
      " 36%|██████████████▎                         | 608/1695 [20:02<07:43,  2.35it/s]"
     ]
    },
    {
     "name": "stdout",
     "output_type": "stream",
     "text": [
      "JUWjr-cTP0saWE-X5Xf2ZWSq8kwBpxyxh-jvgfIeRpNuK-FVBkMApsGB90t7nEnJ_AQMYyZcOYwy6g\n"
     ]
    },
    {
     "name": "stderr",
     "output_type": "stream",
     "text": [
      "\r",
      " 36%|██████████████▎                         | 609/1695 [20:03<08:30,  2.13it/s]"
     ]
    },
    {
     "name": "stdout",
     "output_type": "stream",
     "text": [
      "nY9nmfp65zIptDG8TuPQY_tGS9dQyepCy8c4iXF6N0XqfTa1j2b2miC3IX2MxTv522giShhm-DA3wg\n"
     ]
    },
    {
     "name": "stderr",
     "output_type": "stream",
     "text": [
      "\r",
      " 36%|██████████████▍                         | 610/1695 [20:03<07:35,  2.38it/s]"
     ]
    },
    {
     "name": "stdout",
     "output_type": "stream",
     "text": [
      "JcoImBzkVSHrLHTfKycA16ydpiRuXPxRwtmLd799WG4bb0Xl2SLLnoGq-dgHBl0HyhvH64XF42X6yQ\n"
     ]
    },
    {
     "name": "stderr",
     "output_type": "stream",
     "text": [
      "\r",
      " 36%|██████████████▍                         | 611/1695 [20:04<06:52,  2.63it/s]"
     ]
    },
    {
     "name": "stdout",
     "output_type": "stream",
     "text": [
      "ucwCC6for4SX_cDJl7yWup5ywyH7eHdzoMfAQypP9grgwRp_5GZakP8XxzWr-Xwz3GheGsBFzqq1CQ\n"
     ]
    },
    {
     "name": "stderr",
     "output_type": "stream",
     "text": [
      "\r",
      " 36%|██████████████▍                         | 612/1695 [20:04<06:36,  2.73it/s]"
     ]
    },
    {
     "name": "stdout",
     "output_type": "stream",
     "text": [
      "kTQckjsD6QU0IVNN45v_2kCQbYBNSyGGgUIDhhGHrQZNGYs7nk8XczOStFuOf2aJ3Lj-12HXezWI8g\n"
     ]
    },
    {
     "name": "stderr",
     "output_type": "stream",
     "text": [
      "\r",
      " 36%|██████████████▍                         | 613/1695 [20:04<07:06,  2.54it/s]"
     ]
    },
    {
     "name": "stdout",
     "output_type": "stream",
     "text": [
      "NQ645jXUp9KsEH-Lehv6w7AkskglvwFxG4Qyo9_xrrXjrhrczGQR43k6qtd3Wj29w-XMpsBJgWId-w\n"
     ]
    },
    {
     "name": "stderr",
     "output_type": "stream",
     "text": [
      "\r",
      " 36%|██████████████▍                         | 614/1695 [20:05<06:37,  2.72it/s]"
     ]
    },
    {
     "name": "stdout",
     "output_type": "stream",
     "text": [
      "S9VkBYA9ukNs6Dk9mkNAI4uo7GKOp_xkgJVt2In4zjAbxaMYMf-gL7qJgaBjQJT0Pd9rkUOlqrDH6Q\n"
     ]
    },
    {
     "name": "stderr",
     "output_type": "stream",
     "text": [
      "\r",
      " 36%|██████████████▌                         | 615/1695 [20:05<06:07,  2.94it/s]"
     ]
    },
    {
     "name": "stdout",
     "output_type": "stream",
     "text": [
      "oQrwCHdr4RBJxaRYxLX_RRtzxJ72rIJAhdrhDVoTcD8ELU-941ulKnaoPuEfcCHcGksPfWTe69MHAg\n"
     ]
    },
    {
     "name": "stderr",
     "output_type": "stream",
     "text": [
      "\r",
      " 36%|██████████████▌                         | 616/1695 [20:05<05:46,  3.11it/s]"
     ]
    },
    {
     "name": "stdout",
     "output_type": "stream",
     "text": [
      "SdP7pmAYNrIxvhbNHkVv13P_Mvggt86X6GhtOHL3MagP1zIxkJpqtN7nJ74GJeFLgTFp7JRukCLzfQ\n"
     ]
    },
    {
     "name": "stderr",
     "output_type": "stream",
     "text": [
      "\r",
      " 36%|██████████████▌                         | 617/1695 [20:06<07:39,  2.35it/s]"
     ]
    },
    {
     "name": "stdout",
     "output_type": "stream",
     "text": [
      "BDjypdkkdsfZmVDRPoBhYQ0GKVtuC89QLRVuxAgWcbEzIUUJWkATTxrpW-71sFn_IMNXNknmnFhfPg\n"
     ]
    },
    {
     "name": "stderr",
     "output_type": "stream",
     "text": [
      "\r",
      " 36%|██████████████▌                         | 618/1695 [20:06<07:08,  2.51it/s]"
     ]
    },
    {
     "name": "stdout",
     "output_type": "stream",
     "text": [
      "YqtXPB-PW1CH5gpu1TQlYXwnTO87kIkI6BPQEin-dWngUe2mNwZ7tCuG8kJPG09E2eODa7VTuEpFnw\n"
     ]
    },
    {
     "name": "stderr",
     "output_type": "stream",
     "text": [
      "\r",
      " 37%|██████████████▌                         | 619/1695 [20:07<06:38,  2.70it/s]"
     ]
    },
    {
     "name": "stdout",
     "output_type": "stream",
     "text": [
      "jAdGoVTFZxp0p5ZeWG5F6luVlknKJQBXL4o4ikFQbSY_dhs88Lg8rjocq2IeuY1EJDoG3STtpEm9cg\n"
     ]
    },
    {
     "name": "stderr",
     "output_type": "stream",
     "text": [
      "\r",
      " 37%|██████████████▋                         | 620/1695 [20:07<06:50,  2.62it/s]"
     ]
    },
    {
     "name": "stdout",
     "output_type": "stream",
     "text": [
      "-nfmS3nvIbEugwzLmmIejw0zealm2XJhWaOkuLoXhaJD6S29IOdjTtsLQhQNz0BpoxpZWjhsDP0qeA\n"
     ]
    },
    {
     "name": "stderr",
     "output_type": "stream",
     "text": [
      "\r",
      " 37%|██████████████▋                         | 621/1695 [20:07<06:26,  2.78it/s]"
     ]
    },
    {
     "name": "stdout",
     "output_type": "stream",
     "text": [
      "7ZO98h52G5RbICwBeh-irmS2g9vdbVn_QO8qIOL6xGCJMhFeWDG6gDG7J0y-gx3ggkqZU8k5M-DTFA\n"
     ]
    },
    {
     "name": "stderr",
     "output_type": "stream",
     "text": [
      "\r",
      " 37%|██████████████▋                         | 622/1695 [20:08<06:00,  2.98it/s]"
     ]
    },
    {
     "name": "stdout",
     "output_type": "stream",
     "text": [
      "Ye8k2AP7sWicdno0qU4OBgu-KGcBe1LmfCLmaD92pFOm1MuRxp-xj5_K1GArFjMm_if_MyBgLBUZpA\n"
     ]
    },
    {
     "name": "stderr",
     "output_type": "stream",
     "text": [
      "\r",
      " 37%|██████████████▋                         | 623/1695 [20:08<07:30,  2.38it/s]"
     ]
    },
    {
     "name": "stdout",
     "output_type": "stream",
     "text": [
      "tcV3hcTKFB8ORQRtGzho87sdPBh60dwIpRL8t3qXmQREpsitWg0PULTj-g8y7zYFesmIBo43S5XW0A\n"
     ]
    },
    {
     "name": "stderr",
     "output_type": "stream",
     "text": [
      "\r",
      " 37%|██████████████▋                         | 624/1695 [20:09<09:05,  1.96it/s]"
     ]
    },
    {
     "name": "stdout",
     "output_type": "stream",
     "text": [
      "OsWLLeqSRa6g1aU7OmW2Z3XC13SzWNSoS4lTPiISzYJ7Khl2NueEH41PdFwVH8ptVSP1ZJ5XZ_9TfQ\n"
     ]
    },
    {
     "name": "stderr",
     "output_type": "stream",
     "text": [
      "\r",
      " 37%|██████████████▋                         | 625/1695 [20:10<12:22,  1.44it/s]"
     ]
    },
    {
     "name": "stdout",
     "output_type": "stream",
     "text": [
      "bFylvwXcDvu_B-ekx4LYQvKX82_swt4BTOauGqx5abSR_tqBV_LFTpFdEejAiTevKqxtfh9xm4unxQ\n"
     ]
    },
    {
     "name": "stderr",
     "output_type": "stream",
     "text": [
      "\r",
      " 37%|██████████████▊                         | 626/1695 [20:10<10:24,  1.71it/s]"
     ]
    },
    {
     "name": "stdout",
     "output_type": "stream",
     "text": [
      "Az1kJeDgZp3oVGrPVX5xpr0iR87DzuLod2NCfaBxJX3i_j7t2FmQRem_qvRVGeGsrlYUD5befjDUbQ\n"
     ]
    },
    {
     "name": "stderr",
     "output_type": "stream",
     "text": [
      "\r",
      " 37%|██████████████▊                         | 627/1695 [20:11<08:50,  2.01it/s]"
     ]
    },
    {
     "name": "stdout",
     "output_type": "stream",
     "text": [
      "QD1glpUZssWoCCnKRaWVYR1evhVwrsmq_qjclN1Am8RYNJ6Ip42Ta0k09TEulvggLY51Age1h7oXcQ\n"
     ]
    },
    {
     "name": "stderr",
     "output_type": "stream",
     "text": [
      "\r",
      " 37%|██████████████▊                         | 628/1695 [20:11<07:44,  2.30it/s]"
     ]
    },
    {
     "name": "stdout",
     "output_type": "stream",
     "text": [
      "vR19o_lN7f5xLff8oTMOnxVZ6NG84Rui17W4C5HyHHg5TWtmiyiaakz3bQzsYSXCivTSLIiG-RSXrw\n"
     ]
    },
    {
     "name": "stderr",
     "output_type": "stream",
     "text": [
      "\r",
      " 37%|██████████████▊                         | 629/1695 [20:12<09:17,  1.91it/s]"
     ]
    },
    {
     "name": "stdout",
     "output_type": "stream",
     "text": [
      "BhWF9pw35RQObkq7lHmaiM-FxW8Y7TIs3MxEDTMx9CMTgWn8sLzxcNYSB5ucMVEvcqQJSfzz3PnvZQ\n"
     ]
    },
    {
     "name": "stderr",
     "output_type": "stream",
     "text": [
      "\r",
      " 37%|██████████████▊                         | 630/1695 [20:12<09:00,  1.97it/s]"
     ]
    },
    {
     "name": "stdout",
     "output_type": "stream",
     "text": [
      "llq_FtVN7QsGcMyb1Y4T7KexPZ5e4PoRkhFL3jXOuMc2fuEo0hOsZLExybC6gvEloo_bn5gZiauABA\n"
     ]
    },
    {
     "name": "stderr",
     "output_type": "stream",
     "text": [
      "\r",
      " 37%|██████████████▉                         | 631/1695 [20:13<08:24,  2.11it/s]"
     ]
    },
    {
     "name": "stdout",
     "output_type": "stream",
     "text": [
      "1_9FWU9dmb3GVJDQTWdC418BKrrqSTQSVwZiJeB98cV8j5ms9QuCbsxx_N5vpgXTv0Dw91OCs6JGYQ\n"
     ]
    },
    {
     "name": "stderr",
     "output_type": "stream",
     "text": [
      "\r",
      " 37%|██████████████▉                         | 632/1695 [20:13<07:24,  2.39it/s]"
     ]
    },
    {
     "name": "stdout",
     "output_type": "stream",
     "text": [
      "f7wLA_TtYBsocRoEWA5yKH-ljdyzRqLkKwjnO-7QygHUwbXIEtTS5ER0Hm8B87DQx1ptUyyTWtV5lw\n"
     ]
    },
    {
     "name": "stderr",
     "output_type": "stream",
     "text": [
      "\r",
      " 37%|██████████████▉                         | 633/1695 [20:13<06:49,  2.59it/s]"
     ]
    },
    {
     "name": "stdout",
     "output_type": "stream",
     "text": [
      "EcsFqPio28Q4EN8YedZ4XGsxrFItH20jJCpjUdtQdreIKpTgkxnwUt6diCuGFO2L3XHL6atBHQ55YA\n"
     ]
    },
    {
     "name": "stderr",
     "output_type": "stream",
     "text": [
      "\r",
      " 37%|██████████████▉                         | 634/1695 [20:13<06:20,  2.79it/s]"
     ]
    },
    {
     "name": "stdout",
     "output_type": "stream",
     "text": [
      "VYVmOJ5wLVL0MmNoG0gHfQSz4X-xZVlTYcOmB-EprYP4l5VjPUOPilNVOsfIeDev16MWbuo4RexK4g\n"
     ]
    },
    {
     "name": "stderr",
     "output_type": "stream",
     "text": [
      "\r",
      " 37%|██████████████▉                         | 635/1695 [20:14<06:00,  2.94it/s]"
     ]
    },
    {
     "name": "stdout",
     "output_type": "stream",
     "text": [
      "YVS9yPd3ZKg2RbnkOLO35zoRHogIhYAS_zNMcSUrDpUGLkjsjVnH-eu1qRx9RsjjwgAC46GaoEH4bg\n"
     ]
    },
    {
     "name": "stderr",
     "output_type": "stream",
     "text": [
      "\r",
      " 38%|███████████████                         | 636/1695 [20:14<05:47,  3.05it/s]"
     ]
    },
    {
     "name": "stdout",
     "output_type": "stream",
     "text": [
      "Aqsxm0C3H4sW6FO5urSv0z13AT6XhuAUVxstPN5PQfqU2WRugqBEQ7TpdViYYd4B9ip5B7btRdTpoQ\n"
     ]
    },
    {
     "name": "stderr",
     "output_type": "stream",
     "text": [
      "\r",
      " 38%|███████████████                         | 637/1695 [20:14<06:17,  2.80it/s]"
     ]
    },
    {
     "name": "stdout",
     "output_type": "stream",
     "text": [
      "8ezJuD9RlNXwff8SOumkZsoM8VTYxt2wWP2prWB9aAhu_kIoiHJZisPrLlhxSdhynqZYTN8l6Ygdtw\n"
     ]
    },
    {
     "name": "stderr",
     "output_type": "stream",
     "text": [
      "\r",
      " 38%|███████████████                         | 638/1695 [20:15<06:09,  2.86it/s]"
     ]
    },
    {
     "name": "stdout",
     "output_type": "stream",
     "text": [
      "w_WzULpZoMMlDzFHW55nB_Thp0fZs5oRDntKYcg7biqDskdLmYMRpqhfGdpdbXaJ2HdxBDW-WbozFw\n"
     ]
    },
    {
     "name": "stderr",
     "output_type": "stream",
     "text": [
      "\r",
      " 38%|███████████████                         | 639/1695 [20:15<06:03,  2.91it/s]"
     ]
    },
    {
     "name": "stdout",
     "output_type": "stream",
     "text": [
      "O22cO4QOiGVRIdseFtA-JwvHAgqZt6k8eyR0ty1m8VPDHJ27OPZGLXvjB010HZGg5JJqphI0MmugpQ\n"
     ]
    },
    {
     "name": "stderr",
     "output_type": "stream",
     "text": [
      "\r",
      " 38%|███████████████                         | 640/1695 [20:16<06:27,  2.72it/s]"
     ]
    },
    {
     "name": "stdout",
     "output_type": "stream",
     "text": [
      "Snm3_KIKqKTT_P9jaF6ittcY5JHbGy38PS7d1GLzPu19mtVQilkDw_A8K-MKjiklhCOuzFGFEgai4A\n"
     ]
    },
    {
     "name": "stderr",
     "output_type": "stream",
     "text": [
      "\r",
      " 38%|███████████████▏                        | 641/1695 [20:16<05:57,  2.95it/s]"
     ]
    },
    {
     "name": "stdout",
     "output_type": "stream",
     "text": [
      "gG89XgxVw_xU6r3lZzlZ80T7db1A9yic91vYBGWSzniAN8Sh1zq7BNwE3HuB2tW8isiQHk2BWEIaBQ\n"
     ]
    },
    {
     "name": "stderr",
     "output_type": "stream",
     "text": [
      "\r",
      " 38%|███████████████▏                        | 642/1695 [20:16<05:40,  3.09it/s]"
     ]
    },
    {
     "name": "stdout",
     "output_type": "stream",
     "text": [
      "Jx6ChgITFSpBq_gwNBmnnyKvzPM8zsjWQld0j_MZb08xW4WKcDe9ZTdRLkvXsfNRlLXMxJho9ZfgtA\n"
     ]
    },
    {
     "name": "stderr",
     "output_type": "stream",
     "text": [
      "\r",
      " 38%|███████████████▏                        | 643/1695 [20:16<05:28,  3.20it/s]"
     ]
    },
    {
     "name": "stdout",
     "output_type": "stream",
     "text": [
      "0T0ktUfwH7OkIqwO9mkCpri-JHYPElXhORQinQbcIVR65ewKzlCgtIf5h1lusJSAiMelLlQUB1Y6AQ\n"
     ]
    },
    {
     "name": "stderr",
     "output_type": "stream",
     "text": [
      "\r",
      " 38%|███████████████▏                        | 644/1695 [20:17<05:16,  3.32it/s]"
     ]
    },
    {
     "name": "stdout",
     "output_type": "stream",
     "text": [
      "0tAA0nnHk871RGKN-Ax8Bm9FLLlUIaBljkcTlBbet79o4s_L4UPlxdYN0uQQVgGQpf529G-GIvF9hg\n"
     ]
    },
    {
     "name": "stderr",
     "output_type": "stream",
     "text": [
      "\r",
      " 38%|███████████████▏                        | 645/1695 [20:17<05:50,  2.99it/s]"
     ]
    },
    {
     "name": "stdout",
     "output_type": "stream",
     "text": [
      "8bgODopHQaG-F3WEn9OdAXhDOEY9hAUbD26egrZT5u70zlVHSzeKBbc_C8MW8xjRY4GNq7UO6yKmkw\n"
     ]
    },
    {
     "name": "stderr",
     "output_type": "stream",
     "text": [
      "\r",
      " 38%|███████████████▏                        | 646/1695 [20:17<05:40,  3.08it/s]"
     ]
    },
    {
     "name": "stdout",
     "output_type": "stream",
     "text": [
      "zTyNPFOhqG3SaNm0-lw0_hFRC2A_GSEr3eTZe1ewUNryT7YzQ8q1rfnhRf0BBA3FlST8EvSo1aLK8Q\n"
     ]
    },
    {
     "name": "stderr",
     "output_type": "stream",
     "text": [
      "\r",
      " 38%|███████████████▎                        | 647/1695 [20:18<05:53,  2.97it/s]"
     ]
    },
    {
     "name": "stdout",
     "output_type": "stream",
     "text": [
      "SpU3mhHwEofdYdh77iPEE_T45OjbflfDKAAs2UfoQCJbdWcxa-QhwXOB20dUZ-7kaGQlsuCYCX-9Aw\n"
     ]
    },
    {
     "name": "stderr",
     "output_type": "stream",
     "text": [
      "\r",
      " 38%|███████████████▎                        | 648/1695 [20:18<05:37,  3.10it/s]"
     ]
    },
    {
     "name": "stdout",
     "output_type": "stream",
     "text": [
      "FPOBlu7F4xm8piKbvyiyNGKPDVW51REeQJx8K9NlXo9z8Z9Zoz3gS7GH51L-Z81CVi__BdcdLeBsOg\n"
     ]
    },
    {
     "name": "stderr",
     "output_type": "stream",
     "text": [
      "\r",
      " 38%|███████████████▎                        | 649/1695 [20:18<05:29,  3.18it/s]"
     ]
    },
    {
     "name": "stdout",
     "output_type": "stream",
     "text": [
      "JcrnZeydawUDQUIXHauB1NZqznp6GZG0qzELMrSgNpC-2ewF4eSakUK1rvXy3ZPaOcdAuF4T1Bf6Ow\n"
     ]
    },
    {
     "name": "stderr",
     "output_type": "stream",
     "text": [
      "\r",
      " 38%|███████████████▎                        | 650/1695 [20:19<06:04,  2.87it/s]"
     ]
    },
    {
     "name": "stdout",
     "output_type": "stream",
     "text": [
      "vKk7kAXujPClgEBUu_F-yueSx-vOCqu25_jJOxglUS99RGk-UUBG6ZNj8tH3vGcW5twucjIxxwGLBQ\n"
     ]
    },
    {
     "name": "stderr",
     "output_type": "stream",
     "text": [
      "\r",
      " 38%|███████████████▎                        | 651/1695 [20:19<05:53,  2.95it/s]"
     ]
    },
    {
     "name": "stdout",
     "output_type": "stream",
     "text": [
      "1nIu5n1jqRkxAhs4x8cizwsRBFa5-nAHKDF-hN5HO8i1ai0fYf-W0iHmPDh1xlAusKBN8fABTn6JKg\n"
     ]
    },
    {
     "name": "stderr",
     "output_type": "stream",
     "text": [
      "\r",
      " 38%|███████████████▍                        | 652/1695 [20:19<05:39,  3.08it/s]"
     ]
    },
    {
     "name": "stdout",
     "output_type": "stream",
     "text": [
      "69oG-0z0hhNhwmtesEkBZbT8_NYad0vdcBFyRhS-W0y0S2gkWBkH-zl4RqYCzOpD2kgPSvytzEP7Ig\n"
     ]
    },
    {
     "name": "stderr",
     "output_type": "stream",
     "text": [
      "\r",
      " 39%|███████████████▍                        | 653/1695 [20:20<05:25,  3.20it/s]"
     ]
    },
    {
     "name": "stdout",
     "output_type": "stream",
     "text": [
      "1WCQWuLlI-H7_uoL1EiiJdMscuW4kpZV6is1bXWBEx_52HWbL8a-cgOKent_9hWXzkoN8ARw46hq6w\n"
     ]
    },
    {
     "name": "stderr",
     "output_type": "stream",
     "text": [
      "\r",
      " 39%|███████████████▍                        | 654/1695 [20:20<05:19,  3.26it/s]"
     ]
    },
    {
     "name": "stdout",
     "output_type": "stream",
     "text": [
      "MoJIeyz4mvOyeMlANQf-5bLa5X2PzmK92hhCcrQ_YRpZHSbmV5Kp5KpOwnZuDwuKU2iEsl4UeMRM0g\n"
     ]
    },
    {
     "name": "stderr",
     "output_type": "stream",
     "text": [
      "\r",
      " 39%|███████████████▍                        | 655/1695 [20:20<06:12,  2.79it/s]"
     ]
    },
    {
     "name": "stdout",
     "output_type": "stream",
     "text": [
      "2W2yNjYJd_Vaovt6tB3Isk4zMSndAerDdEgO56J-w37XbJseqQypucPCwEZxJl4_txo-9H19tOUt9w\n"
     ]
    },
    {
     "name": "stderr",
     "output_type": "stream",
     "text": [
      "\r",
      " 39%|███████████████▍                        | 656/1695 [20:21<06:41,  2.59it/s]"
     ]
    },
    {
     "name": "stdout",
     "output_type": "stream",
     "text": [
      "bIjBFEdrdO7VIEaakk8lWUvPoI1ZI9p5Ko6U0HBHO1vNTW2Qlh5LlWOGMt1Bnt4_PqSBxMN48ekMFQ\n"
     ]
    },
    {
     "name": "stderr",
     "output_type": "stream",
     "text": [
      "\r",
      " 39%|███████████████▌                        | 657/1695 [20:21<06:15,  2.77it/s]"
     ]
    },
    {
     "name": "stdout",
     "output_type": "stream",
     "text": [
      "PtUmwKahBVD5d4NQuEbiIJyNLkmFaf-24KXl2EXztAkJdE2j3rP9gPliADloEgKgN9b4hTBCnNaztA\n"
     ]
    },
    {
     "name": "stderr",
     "output_type": "stream",
     "text": [
      "\r",
      " 39%|███████████████▌                        | 658/1695 [20:21<05:50,  2.96it/s]"
     ]
    },
    {
     "name": "stdout",
     "output_type": "stream",
     "text": [
      "ZuQI6Nv12rN7oB6NNMbX4-iZQVQrC3i0u6BB7HeejJwrzrIvxj0LkSm2OyNY0jsb-F6D5RfIz9OBNA\n"
     ]
    },
    {
     "name": "stderr",
     "output_type": "stream",
     "text": [
      "\r",
      " 39%|███████████████▌                        | 659/1695 [20:22<05:36,  3.08it/s]"
     ]
    },
    {
     "name": "stdout",
     "output_type": "stream",
     "text": [
      "imMmAHOmeiYAhHe9rLjnzpc5DvMoxEuFfNO_pqKq1F5j0Emebpug1nq4jWomMZJ0o6Ij2e5InCoWsw\n"
     ]
    },
    {
     "name": "stderr",
     "output_type": "stream",
     "text": [
      "\r",
      " 39%|███████████████▌                        | 660/1695 [20:22<05:27,  3.16it/s]"
     ]
    },
    {
     "name": "stdout",
     "output_type": "stream",
     "text": [
      "zB4ehXlOk3dG1eaOit6SPQYyfO9DYwQUptsXqp4XO11G_vtQdpENjXiACbndTVWSyT3QN1wT4FEnvA\n"
     ]
    },
    {
     "name": "stderr",
     "output_type": "stream",
     "text": [
      "\r",
      " 39%|███████████████▌                        | 661/1695 [20:22<05:28,  3.15it/s]"
     ]
    },
    {
     "name": "stdout",
     "output_type": "stream",
     "text": [
      "TeRvCYM0aqi4CY1bYaNI91kuDTO4JvNmxUxvNhL-Aw7jgNAWr5Ry1PsqiM9IOeEvrPbHndUmLNDA7Q\n"
     ]
    },
    {
     "name": "stderr",
     "output_type": "stream",
     "text": [
      "\r",
      " 39%|███████████████▌                        | 662/1695 [20:23<05:18,  3.24it/s]"
     ]
    },
    {
     "name": "stdout",
     "output_type": "stream",
     "text": [
      "InrgVTTcMIoedHpupNn8jjvMluoF9G4qD0vtdMp6b0k71sbBTQ2FwJUgzAxkVZNzoTiFDCw1OLJupA\n"
     ]
    },
    {
     "name": "stderr",
     "output_type": "stream",
     "text": [
      "\r",
      " 39%|███████████████▋                        | 663/1695 [20:23<05:11,  3.32it/s]"
     ]
    },
    {
     "name": "stdout",
     "output_type": "stream",
     "text": [
      "XZ8JMnOzj3Gnv4GoDXju7jo_I-a2-vDzbJlmnrCPkSxtjROjIMYgfuFiysnPFd0o75WYLw-GBo1WMQ\n"
     ]
    },
    {
     "name": "stderr",
     "output_type": "stream",
     "text": [
      "\r",
      " 39%|███████████████▋                        | 664/1695 [20:23<05:10,  3.32it/s]"
     ]
    },
    {
     "name": "stdout",
     "output_type": "stream",
     "text": [
      "Mz9lvBMAtCnLpn9RVD2wvviFWnc8EtQAMohko0M5QDavcjwUMEkTrdiesQJ5s88TM72uG1ywtwkQBw\n"
     ]
    },
    {
     "name": "stderr",
     "output_type": "stream",
     "text": [
      "\r",
      " 39%|███████████████▋                        | 665/1695 [20:24<05:28,  3.14it/s]"
     ]
    },
    {
     "name": "stdout",
     "output_type": "stream",
     "text": [
      "mMp-cDRMwAdwNKbaxaePUB5Oqzn-uc9D9qT4whn38e4SsESZlQMEJAWXWkR0DT_6KrzJ4jfrOd0KFg\n"
     ]
    },
    {
     "name": "stderr",
     "output_type": "stream",
     "text": [
      "\r",
      " 39%|███████████████▋                        | 666/1695 [20:24<05:31,  3.10it/s]"
     ]
    },
    {
     "name": "stdout",
     "output_type": "stream",
     "text": [
      "f0Px8FQIQVNXz7UJdX05bGBVcousJzw-Mn0xYghmRC2GDVXMmojWDJWfMMdWOzRWt3jpjRArpRIz0A\n"
     ]
    },
    {
     "name": "stderr",
     "output_type": "stream",
     "text": [
      "\r",
      " 39%|███████████████▋                        | 667/1695 [20:24<05:20,  3.21it/s]"
     ]
    },
    {
     "name": "stdout",
     "output_type": "stream",
     "text": [
      "kG-VHSlBq1cwn9aPjhtQs_fUhJ6_fPFlfqNWiRAOvXiRiilpRYllfeB04165nvnVffbuLfCNZZxUoQ\n"
     ]
    },
    {
     "name": "stderr",
     "output_type": "stream",
     "text": [
      "\r",
      " 39%|███████████████▊                        | 668/1695 [20:25<05:44,  2.98it/s]"
     ]
    },
    {
     "name": "stdout",
     "output_type": "stream",
     "text": [
      "97A7jD32xdRkNPKB1zXWc7SFTnP9y759Btel6SvMrknTwrQzuKfsfhYLz_z7LX-wYb9WW-YCVtwvJg\n"
     ]
    },
    {
     "name": "stderr",
     "output_type": "stream",
     "text": [
      "\r",
      " 39%|███████████████▊                        | 669/1695 [20:25<05:28,  3.12it/s]"
     ]
    },
    {
     "name": "stdout",
     "output_type": "stream",
     "text": [
      "JgaTcTeiuuNmuNdFfHQWM19yOUHHWTfk3P8VEPwGrxLQTFVGacjP16TBHCWJigtpuTX1ncChVs47sA\n"
     ]
    },
    {
     "name": "stderr",
     "output_type": "stream",
     "text": [
      "\r",
      " 40%|███████████████▊                        | 670/1695 [20:25<05:16,  3.24it/s]"
     ]
    },
    {
     "name": "stdout",
     "output_type": "stream",
     "text": [
      "2LHJpVW74mezywXQEMOYr_MCXKAHLpCUSz3kySCEnstLqMCfbswRh--kk8-52fCcokiYmF0Syh0EdQ\n"
     ]
    },
    {
     "name": "stderr",
     "output_type": "stream",
     "text": [
      "\r",
      " 40%|███████████████▊                        | 671/1695 [20:25<05:10,  3.29it/s]"
     ]
    },
    {
     "name": "stdout",
     "output_type": "stream",
     "text": [
      "O4p2G8dcSsLRLr-9bLYtrTXfq4Kx9m11IIF6KoFqM0BtLexexOnFeJTMRyqFsC0XeJZDD6jPI0IDkg\n"
     ]
    },
    {
     "name": "stderr",
     "output_type": "stream",
     "text": [
      "\r",
      " 40%|███████████████▊                        | 672/1695 [20:26<05:08,  3.32it/s]"
     ]
    },
    {
     "name": "stdout",
     "output_type": "stream",
     "text": [
      "LFeYTqtf1Zz4iD1vhCO02wyJYjrfEzBsbdMeuULkyMm2xF6crHkhxM5YiMAPMG5sEGuQXs919eqExw\n"
     ]
    },
    {
     "name": "stderr",
     "output_type": "stream",
     "text": [
      "\r",
      " 40%|███████████████▉                        | 673/1695 [20:26<05:13,  3.26it/s]"
     ]
    },
    {
     "name": "stdout",
     "output_type": "stream",
     "text": [
      "IC49HFlKpEKf6uFRpkgUYjXx8cRY-wwIRL463XixufWPAut7Nz1iYFRGLit6NInrB2cTjA-QHUmGMA\n"
     ]
    },
    {
     "name": "stderr",
     "output_type": "stream",
     "text": [
      "\r",
      " 40%|███████████████▉                        | 674/1695 [20:26<05:03,  3.37it/s]"
     ]
    },
    {
     "name": "stdout",
     "output_type": "stream",
     "text": [
      "c99C1Vl9Z2fpXwzXkCbiQvzDkTibD_SecV-bolaWeHJPybE4RhpeegqdWk1aZqoozuZlbzoOurFrnQ\n"
     ]
    },
    {
     "name": "stderr",
     "output_type": "stream",
     "text": [
      "\r",
      " 40%|███████████████▉                        | 675/1695 [20:27<05:28,  3.10it/s]"
     ]
    },
    {
     "name": "stdout",
     "output_type": "stream",
     "text": [
      "m74bhJ14n1k2HC9hdX7dT2uQkI9rkIWtFBiLFHiE7D9KfmFret3-6E6vrFpHWy0hRqLbolz1ATHUvg\n"
     ]
    },
    {
     "name": "stderr",
     "output_type": "stream",
     "text": [
      "\r",
      " 40%|███████████████▉                        | 676/1695 [20:27<05:14,  3.24it/s]"
     ]
    },
    {
     "name": "stdout",
     "output_type": "stream",
     "text": [
      "BDj1ahObSs3UiVd3Ttk4CdfuuCIp3jui2SH0Azf79IBsdYtRSr8dGPmR73DbBZKi52Dlcmns5iIibQ\n"
     ]
    },
    {
     "name": "stderr",
     "output_type": "stream",
     "text": [
      "\r",
      " 40%|███████████████▉                        | 677/1695 [20:27<05:15,  3.23it/s]"
     ]
    },
    {
     "name": "stdout",
     "output_type": "stream",
     "text": [
      "YeyYjVsGOsjdZFSuGSdXm8x0Ttg-aFclrokm3DOvbrO-MpXAajn-Yzm4DsqTs5-H1kpJQJctZ0BRdQ\n"
     ]
    },
    {
     "name": "stderr",
     "output_type": "stream",
     "text": [
      "\r",
      " 40%|████████████████                        | 678/1695 [20:28<05:09,  3.28it/s]"
     ]
    },
    {
     "name": "stdout",
     "output_type": "stream",
     "text": [
      "IgV8I-YWQLP5k8-eMNDfSaFWFJeIsIsqdPABk6dxiIaYQoZaw6TzpHp6_-MpMOFC3jra4jJRWixlUQ\n",
      "api cost full : infinite loop start\n",
      "loop location :  q1R8QTdEELheXvz0k3ZN6vWVpB1nh-TW5vlxVrdROYZxvBHocuvkJK_UWQ\n",
      "try 10 second wait time\n",
      "429\n",
      "try 10 second wait time\n",
      "429\n",
      "try 10 second wait time\n",
      "429\n",
      "try 10 second wait time\n",
      "429\n",
      "try 10 second wait time\n",
      "429\n",
      "try 10 second wait time\n",
      "429\n",
      "try 10 second wait time\n",
      "429\n",
      "try 10 second wait time\n",
      "429\n",
      "try 10 second wait time\n"
     ]
    },
    {
     "name": "stderr",
     "output_type": "stream",
     "text": [
      "\r",
      " 40%|███████████████▏                      | 679/1695 [22:02<8:02:11, 28.48s/it]"
     ]
    },
    {
     "name": "stdout",
     "output_type": "stream",
     "text": [
      "200\n",
      "total wait time :  93.98064994812012\n",
      "recovery api cost\n",
      "Z6TaANyYySUOt6HDerPcwe3dy8fDf-bv9FiEQrUw8g1BKJucf7Z-P1551YSlN6KX_heEVpbDsNInSA\n"
     ]
    },
    {
     "name": "stderr",
     "output_type": "stream",
     "text": [
      "\r",
      " 40%|███████████████▏                      | 680/1695 [22:02<5:38:59, 20.04s/it]"
     ]
    },
    {
     "name": "stdout",
     "output_type": "stream",
     "text": [
      "Wp0OinKX-Oud04xwVzWQCVbMJiaAinFYn4GGrvs9sTdmsnYwIHrrsWwaVzx4YGXszdhJi-iO5WLaLw\n"
     ]
    },
    {
     "name": "stderr",
     "output_type": "stream",
     "text": [
      "\r",
      " 40%|███████████████▎                      | 681/1695 [22:04<4:07:01, 14.62s/it]"
     ]
    },
    {
     "name": "stdout",
     "output_type": "stream",
     "text": [
      "_CqjC_xOob7tmq5wZkD-8LsF-OQNGtq-b5201G6vEadQfBBLBxZp6SAd_tjxxijjEv8Bcl19V_giPw\n"
     ]
    },
    {
     "name": "stderr",
     "output_type": "stream",
     "text": [
      "\r",
      " 40%|███████████████▎                      | 682/1695 [22:04<2:54:16, 10.32s/it]"
     ]
    },
    {
     "name": "stdout",
     "output_type": "stream",
     "text": [
      "at55LohwLOkpYUb1MebPpAesdEH5TalN6GFVt5oeR_xXqBBvtKztan_19Qec1ZHCtTnpBxJEhFhFzA\n"
     ]
    },
    {
     "name": "stderr",
     "output_type": "stream",
     "text": [
      "\r",
      " 40%|███████████████▎                      | 683/1695 [22:05<2:03:31,  7.32s/it]"
     ]
    },
    {
     "name": "stdout",
     "output_type": "stream",
     "text": [
      "TBjbR9uXTD-r-erS4LKwamhiNrYu4Tx72bnAXVxPSKwc8EifBZZD2cyHRfUA2-tAmGbzxETXpRWhRQ\n"
     ]
    },
    {
     "name": "stderr",
     "output_type": "stream",
     "text": [
      "\r",
      " 40%|███████████████▎                      | 684/1695 [22:05<1:27:59,  5.22s/it]"
     ]
    },
    {
     "name": "stdout",
     "output_type": "stream",
     "text": [
      "dyfgUzlT5kFbOONwnY06PNGYfcz0tcUaXoc4ccEh0exBEXxAsauKOACKA9DAJBmMP67mwVvY_xVZvQ\n"
     ]
    },
    {
     "name": "stderr",
     "output_type": "stream",
     "text": [
      "\r",
      " 40%|███████████████▎                      | 685/1695 [22:05<1:03:31,  3.77s/it]"
     ]
    },
    {
     "name": "stdout",
     "output_type": "stream",
     "text": [
      "hUTxle3Z9Of5API4verGRt9QOj0hmE6UieA3RgwijtF7OE9ezqqwxmSmGaq5sEY5XvX50EXbCzlkjA\n"
     ]
    },
    {
     "name": "stderr",
     "output_type": "stream",
     "text": [
      "\r",
      " 40%|████████████████▏                       | 686/1695 [22:06<45:52,  2.73s/it]"
     ]
    },
    {
     "name": "stdout",
     "output_type": "stream",
     "text": [
      "ggNwX6l7CNvGXJCQQFr7rhLluVHKArI7wk5KmrPslPobf69k6vksKVxrwAHibvgco0XdMXcJPO6eKA\n"
     ]
    },
    {
     "name": "stderr",
     "output_type": "stream",
     "text": [
      "\r",
      " 41%|████████████████▏                       | 687/1695 [22:06<33:42,  2.01s/it]"
     ]
    },
    {
     "name": "stdout",
     "output_type": "stream",
     "text": [
      "qINPFVfk7HoXwyDKRV5NSDLNKrIE4jQ6M9IYPQ6NKfctVFMpzaLRY0sCAmu5gMNUExgF1aGPVXJTTg\n"
     ]
    },
    {
     "name": "stderr",
     "output_type": "stream",
     "text": [
      "\r",
      " 41%|████████████████▏                       | 688/1695 [22:07<26:57,  1.61s/it]"
     ]
    },
    {
     "name": "stdout",
     "output_type": "stream",
     "text": [
      "_VIDRNEnweHA2kLRknr2mpTWJ2WuEdRlMpB3O0whYogkrgCkilim0ihp3-gVkUvBvb5yqmito5ss3Q\n"
     ]
    },
    {
     "name": "stderr",
     "output_type": "stream",
     "text": [
      "\r",
      " 41%|████████████████▎                       | 689/1695 [22:07<20:19,  1.21s/it]"
     ]
    },
    {
     "name": "stdout",
     "output_type": "stream",
     "text": [
      "NfYzuPkhLdTX_6FyLJksgeyiw2pXqEy_ZRh2tE2n3vBGHk1pSpc4OW3oPG2DtIrDGnaRyiapXdI-yg\n"
     ]
    },
    {
     "name": "stderr",
     "output_type": "stream",
     "text": [
      "\r",
      " 41%|████████████████▎                       | 690/1695 [22:07<16:20,  1.02it/s]"
     ]
    },
    {
     "name": "stdout",
     "output_type": "stream",
     "text": [
      "a12k5R-ZAFfKJaRbtWZmkXKNfudOGRHpSQjEkBNlticclBl-nTxMp-udePSOh3EdtUB8VQwEi30AUA\n"
     ]
    },
    {
     "name": "stderr",
     "output_type": "stream",
     "text": [
      "\r",
      " 41%|████████████████▎                       | 691/1695 [22:08<13:19,  1.26it/s]"
     ]
    },
    {
     "name": "stdout",
     "output_type": "stream",
     "text": [
      "JRiN7h-Lk74gdf5az7uAUFQArcoaSuaSAq0SucPlN4YsNvfzLlvGd6NaSX8x_pVRRhy4qvMH-m2jFQ\n"
     ]
    },
    {
     "name": "stderr",
     "output_type": "stream",
     "text": [
      "\r",
      " 41%|████████████████▎                       | 692/1695 [22:08<10:49,  1.54it/s]"
     ]
    },
    {
     "name": "stdout",
     "output_type": "stream",
     "text": [
      "-7fHMgoXMM6kj6hGTkNK7RMiGlbMXeoQ8EHx_G9kBE92WDzJfaZk-NL8y7iU8ABOGfuxs2iuDPpCgA\n"
     ]
    },
    {
     "name": "stderr",
     "output_type": "stream",
     "text": [
      "\r",
      " 41%|████████████████▎                       | 693/1695 [22:08<08:59,  1.86it/s]"
     ]
    },
    {
     "name": "stdout",
     "output_type": "stream",
     "text": [
      "zW-xf28ADvrWi4OAs_cI_nN8Y_oHozP8n89zUKL3fM0Spl_I9lnI4QCTVrxv6L-mftrRHzdq-40Smg\n"
     ]
    },
    {
     "name": "stderr",
     "output_type": "stream",
     "text": [
      "\r",
      " 41%|████████████████▍                       | 694/1695 [22:09<08:25,  1.98it/s]"
     ]
    },
    {
     "name": "stdout",
     "output_type": "stream",
     "text": [
      "7hnsMtP5Dg-k5nHTDk2r7JvhNw8Xgq2UPpv7FN-T27KfnFox2Nhd4DtvPNnqe8rC60pKLFLvo3LUsQ\n"
     ]
    },
    {
     "name": "stderr",
     "output_type": "stream",
     "text": [
      "\r",
      " 41%|████████████████▍                       | 695/1695 [22:09<07:17,  2.29it/s]"
     ]
    },
    {
     "name": "stdout",
     "output_type": "stream",
     "text": [
      "lB9m0DGCaBe_gHNtDztXYVGXL5G-Owm65WdZo-KTub8y1xYlFhmmDpbdB_W1uweIC0ggv-o7_39grQ\n"
     ]
    },
    {
     "name": "stderr",
     "output_type": "stream",
     "text": [
      "\r",
      " 41%|████████████████▍                       | 696/1695 [22:10<07:29,  2.22it/s]"
     ]
    },
    {
     "name": "stdout",
     "output_type": "stream",
     "text": [
      "5sknH-02oEpPq53XNM2p1qnLOAnghZGEWfqRr2t0Bt1EFfUHyoDDeiIJHMN1P_rv9x5s96gz88zZpA\n"
     ]
    },
    {
     "name": "stderr",
     "output_type": "stream",
     "text": [
      "\r",
      " 41%|████████████████▍                       | 697/1695 [22:10<06:44,  2.47it/s]"
     ]
    },
    {
     "name": "stdout",
     "output_type": "stream",
     "text": [
      "9Zdi3fafgrcQuSpblOWlZ0btF6qQKioEYUiuPxnIP5nU8IdvoHfl9MEZOog5jmztyrdjZJ8LpHjy3Q\n"
     ]
    },
    {
     "name": "stderr",
     "output_type": "stream",
     "text": [
      "\r",
      " 41%|████████████████▍                       | 698/1695 [22:10<06:08,  2.71it/s]"
     ]
    },
    {
     "name": "stdout",
     "output_type": "stream",
     "text": [
      "6UGXvXuBSuO7d1Hpr5nbwAQpmz3rWcnFFyjKH3aFX1FszgKdZGjU16V1VzhYFPSP0etLHaY-3Q394A\n"
     ]
    },
    {
     "name": "stderr",
     "output_type": "stream",
     "text": [
      "\r",
      " 41%|████████████████▍                       | 699/1695 [22:11<05:44,  2.89it/s]"
     ]
    },
    {
     "name": "stdout",
     "output_type": "stream",
     "text": [
      "MjuVleo7Tne14dTKo0WqjPCDSV2H48hP6HKaLzlvINL2r7RWlzrYLlLq0m4nVgGqsG7c-j-M3nIq9A\n"
     ]
    },
    {
     "name": "stderr",
     "output_type": "stream",
     "text": [
      "\r",
      " 41%|████████████████▌                       | 700/1695 [22:11<05:24,  3.07it/s]"
     ]
    },
    {
     "name": "stdout",
     "output_type": "stream",
     "text": [
      "sqmo2-1T03mWC8WgrP9I9h06s_muVPolAy3rLGdw_zJ9oRu4g4P1CSbJ9tkq45_jvfPqzTj1PA120A\n"
     ]
    },
    {
     "name": "stderr",
     "output_type": "stream",
     "text": [
      "\r",
      " 41%|████████████████▌                       | 701/1695 [22:11<05:20,  3.10it/s]"
     ]
    },
    {
     "name": "stdout",
     "output_type": "stream",
     "text": [
      "rnU4KCxbXb0ub02M07Bv0XpjwsikZAJhsvxAI2qs0eTPi117R3tD7oKy-AG9pgy0WkuxlZM6WqEZBg\n"
     ]
    },
    {
     "name": "stderr",
     "output_type": "stream",
     "text": [
      "\r",
      " 41%|████████████████▌                       | 702/1695 [22:12<05:47,  2.85it/s]"
     ]
    },
    {
     "name": "stdout",
     "output_type": "stream",
     "text": [
      "zVe_DoMaID_wI53Jz2BOJFUhWu9JSpC5tOlHO73NwaTtFkm8RchpZABpz6eUvekr48fu76B00f76-Q\n"
     ]
    },
    {
     "name": "stderr",
     "output_type": "stream",
     "text": [
      "\r",
      " 41%|████████████████▌                       | 703/1695 [22:12<05:29,  3.01it/s]"
     ]
    },
    {
     "name": "stdout",
     "output_type": "stream",
     "text": [
      "PrLpJgTVCLJiUkZoWeJ0BNJahFf43fuoRBzpy-FX1xYVsB47jV2XOFSrMK1kl5f0EgO9ChEDE8UywQ\n"
     ]
    },
    {
     "name": "stderr",
     "output_type": "stream",
     "text": [
      "\r",
      " 42%|████████████████▌                       | 704/1695 [22:12<05:18,  3.11it/s]"
     ]
    },
    {
     "name": "stdout",
     "output_type": "stream",
     "text": [
      "Ygj39RmfodF877kocRGAO9RcgHUUhXLkGzORGtD11v6PRiAZljHzKfmHiSQMTQJ5dkgaiug71bXehA\n"
     ]
    },
    {
     "name": "stderr",
     "output_type": "stream",
     "text": [
      "\r",
      " 42%|████████████████▋                       | 705/1695 [22:13<06:12,  2.66it/s]"
     ]
    },
    {
     "name": "stdout",
     "output_type": "stream",
     "text": [
      "x3AdlDZA38iBzUoTus3ERfV3v8iZuUFC1xgRGMxMgBGxuEo9OEbVQuV4nV2FjLvlS1jzhrefdK0PFw\n"
     ]
    },
    {
     "name": "stderr",
     "output_type": "stream",
     "text": [
      "\r",
      " 42%|████████████████▋                       | 706/1695 [22:13<05:46,  2.85it/s]"
     ]
    },
    {
     "name": "stdout",
     "output_type": "stream",
     "text": [
      "WbQl2XXPMhIjKg4aWHALnl03EMlfzPMsvB-5biwzHpe6sJeFAybIHUnzIsJiaIuyLx-wmFHOiN-cSw\n"
     ]
    },
    {
     "name": "stderr",
     "output_type": "stream",
     "text": [
      "\r",
      " 42%|████████████████▋                       | 707/1695 [22:13<05:31,  2.98it/s]"
     ]
    },
    {
     "name": "stdout",
     "output_type": "stream",
     "text": [
      "1zfbTEBArgO3vtI4ICkpD_RkcJwIkoWeJb-vQM9YP6GQJSjAnN3wh5YAinoW97VUObYNgl3j1iyalw\n"
     ]
    },
    {
     "name": "stderr",
     "output_type": "stream",
     "text": [
      "\r",
      " 42%|████████████████▋                       | 708/1695 [22:14<05:18,  3.10it/s]"
     ]
    },
    {
     "name": "stdout",
     "output_type": "stream",
     "text": [
      "Y-MpTWD9B9jNFotcuFeoDb-wdojrvPNehEZNHI9Wo7yluMGsymlok4eu6EScReC2wcLz_hh42_Hl5A\n"
     ]
    },
    {
     "name": "stderr",
     "output_type": "stream",
     "text": [
      "\r",
      " 42%|████████████████▋                       | 709/1695 [22:14<05:06,  3.22it/s]"
     ]
    },
    {
     "name": "stdout",
     "output_type": "stream",
     "text": [
      "KO1EwigID2ZFjrfQDQLvzh1-XI-c77WDoCLgpSOEo0OiwYsfkrdFVDYxqD4Xha09N7QMIxpU1BmRyw\n"
     ]
    },
    {
     "name": "stderr",
     "output_type": "stream",
     "text": [
      "\r",
      " 42%|████████████████▊                       | 710/1695 [22:14<05:07,  3.20it/s]"
     ]
    },
    {
     "name": "stdout",
     "output_type": "stream",
     "text": [
      "sNf3aYrBADi8iaS0V2ZQUMI5idROSUch85b7jmjz5v62dyRtEGKg_cDypNTSFEbcD3cuTCo_YnaYVw\n"
     ]
    },
    {
     "name": "stderr",
     "output_type": "stream",
     "text": [
      "\r",
      " 42%|████████████████▊                       | 711/1695 [22:14<04:55,  3.33it/s]"
     ]
    },
    {
     "name": "stdout",
     "output_type": "stream",
     "text": [
      "hSsjFVgeLsfPDrqZUH7ND3pkN26p53JoCR6__5A68kmVYRsVXKAO92czgIl-geDr9KhRmJYxB7X3zQ\n"
     ]
    },
    {
     "name": "stderr",
     "output_type": "stream",
     "text": [
      "\r",
      " 42%|████████████████▊                       | 712/1695 [22:15<05:05,  3.22it/s]"
     ]
    },
    {
     "name": "stdout",
     "output_type": "stream",
     "text": [
      "_1LoaxnswkMaih9lPSzt-dR5u-SQR2u4CVNRzxuX6ab_fdz414Vse-i6UPpTK4pits86EdouX4U9rw\n"
     ]
    },
    {
     "name": "stderr",
     "output_type": "stream",
     "text": [
      "\r",
      " 42%|████████████████▊                       | 713/1695 [22:15<05:18,  3.08it/s]"
     ]
    },
    {
     "name": "stdout",
     "output_type": "stream",
     "text": [
      "FJGuyKuByPGw4oCUnljJPJIMoFMxi-sWanQCVa4IF4J0nMu_f1HoInBsaas3FrYjIv7RQQ6GYZZkWg\n"
     ]
    },
    {
     "name": "stderr",
     "output_type": "stream",
     "text": [
      "\r",
      " 42%|████████████████▊                       | 714/1695 [22:15<05:02,  3.24it/s]"
     ]
    },
    {
     "name": "stdout",
     "output_type": "stream",
     "text": [
      "Y9MGQiPyLys8Ir_uKnJmV63PCxBoq487INPRIYYmmtUsw1KA86OnjDLEZ-aTiuLupdSSEfwrQqjXVQ\n"
     ]
    },
    {
     "name": "stderr",
     "output_type": "stream",
     "text": [
      "\r",
      " 42%|████████████████▊                       | 715/1695 [22:16<04:50,  3.37it/s]"
     ]
    },
    {
     "name": "stdout",
     "output_type": "stream",
     "text": [
      "qAUOVb-CusawGM5AtofyRstGT2foGEURqt40PdTHKIzValLBNcaTg2eHBQC3K0Rw5m3L3Vtq5e9S6w\n"
     ]
    },
    {
     "name": "stderr",
     "output_type": "stream",
     "text": [
      "\r",
      " 42%|████████████████▉                       | 716/1695 [22:16<04:51,  3.36it/s]"
     ]
    },
    {
     "name": "stdout",
     "output_type": "stream",
     "text": [
      "YQUsVIauf5B0JQBQYq1xGxlLKLHS8Fq5cKXkFm-5fA4ZLrtM-rTkG2Jai3pPl4lRAHfWe8DFqiMMSA\n"
     ]
    },
    {
     "name": "stderr",
     "output_type": "stream",
     "text": [
      "\r",
      " 42%|████████████████▉                       | 717/1695 [22:16<04:46,  3.42it/s]"
     ]
    },
    {
     "name": "stdout",
     "output_type": "stream",
     "text": [
      "JBQpMstb3k52iIaKZjfF0ll2u8Jdn4vPlBCfE7zik2W2nI5jW3dF6_vOFiKvz2dZkQ25p2ApI9gUeA\n"
     ]
    },
    {
     "name": "stderr",
     "output_type": "stream",
     "text": [
      "\r",
      " 42%|████████████████▉                       | 718/1695 [22:16<04:44,  3.44it/s]"
     ]
    },
    {
     "name": "stdout",
     "output_type": "stream",
     "text": [
      "sJJpCsdhKMIGEu7Vnpr-089jfjC-RFL06VGJ3UNfc3ToSE7yYCirNlU32FDCNMYI1QEa3QUmrnvqhQ\n"
     ]
    },
    {
     "name": "stderr",
     "output_type": "stream",
     "text": [
      "\r",
      " 42%|████████████████▉                       | 719/1695 [22:17<04:40,  3.48it/s]"
     ]
    },
    {
     "name": "stdout",
     "output_type": "stream",
     "text": [
      "lWsAJ0V7EOUq-hzO5O7DKiNHsanrEj0IDcHZPI3S3J-s9qwzuCMkZL4kYpLYm768Lm4xd3xcUb5mtg\n"
     ]
    },
    {
     "name": "stderr",
     "output_type": "stream",
     "text": [
      "\r",
      " 42%|████████████████▉                       | 720/1695 [22:17<04:42,  3.45it/s]"
     ]
    },
    {
     "name": "stdout",
     "output_type": "stream",
     "text": [
      "XYQ22q2ZIeli_i7iYzR9GCPyElikwGGgHTGOcjgMEhZtVA5tbyDZC89KCvfb6AHIlP_mRZVZch5NDQ\n"
     ]
    },
    {
     "name": "stderr",
     "output_type": "stream",
     "text": [
      "\r",
      " 43%|█████████████████                       | 721/1695 [22:18<05:36,  2.89it/s]"
     ]
    },
    {
     "name": "stdout",
     "output_type": "stream",
     "text": [
      "n5bx05KnTeKTp5SDEU1A3v29mLGacznazaLIxbCb5h2BQl0J9eWn-tpjfefcp8pWsiW-WfhKpc-ERg\n"
     ]
    },
    {
     "name": "stderr",
     "output_type": "stream",
     "text": [
      "\r",
      " 43%|█████████████████                       | 722/1695 [22:18<06:48,  2.38it/s]"
     ]
    },
    {
     "name": "stdout",
     "output_type": "stream",
     "text": [
      "qtgDxeXNGLGqRohx3p2YD-l46tM8rtMZKuoBPbVefPjbyVL89kUCXrV8ZBWqaTDZUFmwKyx4QuNOEQ\n"
     ]
    },
    {
     "name": "stderr",
     "output_type": "stream",
     "text": [
      "\r",
      " 43%|█████████████████                       | 723/1695 [22:19<07:18,  2.21it/s]"
     ]
    },
    {
     "name": "stdout",
     "output_type": "stream",
     "text": [
      "uG7iulkVCsigeNmBB-LPPzxteYtGJATD846ks5xw4nttUVUQZqmDSbkI-Ginv4n9ytQONFefz34zEg\n"
     ]
    },
    {
     "name": "stderr",
     "output_type": "stream",
     "text": [
      "\r",
      " 43%|█████████████████                       | 724/1695 [22:20<10:54,  1.48it/s]"
     ]
    },
    {
     "name": "stdout",
     "output_type": "stream",
     "text": [
      "zYWKR7bMmXPuYC3eikyUOeGyoTFWE7F2qS5sH5-zoKllhei2jQIMKG_kynwXozgF6K7aRX4ktPhpuw\n"
     ]
    },
    {
     "name": "stderr",
     "output_type": "stream",
     "text": [
      "\r",
      " 43%|█████████████████                       | 725/1695 [22:21<13:50,  1.17it/s]"
     ]
    },
    {
     "name": "stdout",
     "output_type": "stream",
     "text": [
      "pQglB7w-sxGNlxUfvRkv49EsyC113lyAdk91b2YQCLhirywueoQIfoCaUxMPYq7weXQvq_Zg9ZUfwA\n"
     ]
    },
    {
     "name": "stderr",
     "output_type": "stream",
     "text": [
      "\r",
      " 43%|█████████████████▏                      | 726/1695 [22:21<11:07,  1.45it/s]"
     ]
    },
    {
     "name": "stdout",
     "output_type": "stream",
     "text": [
      "PKKzUFpNU-IZ9GvUN6yuW2mOWcXHYx-29XrWNFIbLcehiBbsnjLsheNrGNvMdgsT_-4wVSuuFGWbNA\n"
     ]
    },
    {
     "name": "stderr",
     "output_type": "stream",
     "text": [
      "\r",
      " 43%|█████████████████▏                      | 727/1695 [22:22<12:42,  1.27it/s]"
     ]
    },
    {
     "name": "stdout",
     "output_type": "stream",
     "text": [
      "_1QS0n2jiIvpcDoMSwKlfFJ0LjbWyc2xtA0CHIJulGjYS4aO5jV5rzyBs4_-HkC1-jNSuKEmMQrD3A\n"
     ]
    },
    {
     "name": "stderr",
     "output_type": "stream",
     "text": [
      "\r",
      " 43%|█████████████████▏                      | 728/1695 [22:23<10:22,  1.55it/s]"
     ]
    },
    {
     "name": "stdout",
     "output_type": "stream",
     "text": [
      "nvsU2xHUE60ccsIrsd5kDSAarQpDPpGqNcnAtBbded9Yk0XEs4zFmbwPx5_5nJ4zgTUQ8MMQA6XESQ\n"
     ]
    },
    {
     "name": "stderr",
     "output_type": "stream",
     "text": [
      "\r",
      " 43%|█████████████████▏                      | 729/1695 [22:23<10:42,  1.50it/s]"
     ]
    },
    {
     "name": "stdout",
     "output_type": "stream",
     "text": [
      "TPjRdsSYI3TqRuRT0iCrlWrVq4JPtq-OTRzLX1zhz-aLFjAl7mfdcP7dVZ5YRyX7RGo3pOAWPK2S-A\n"
     ]
    },
    {
     "name": "stderr",
     "output_type": "stream",
     "text": [
      "\r",
      " 43%|█████████████████▏                      | 730/1695 [22:24<11:24,  1.41it/s]"
     ]
    },
    {
     "name": "stdout",
     "output_type": "stream",
     "text": [
      "xLcQr8p78eLmEL1Ph2uOdwK6p99cQdUUfG3zH7QCX8aaX50sj8e24l1bWq4jTzRsfwJmMwn-qFYuQw\n"
     ]
    },
    {
     "name": "stderr",
     "output_type": "stream",
     "text": [
      "\r",
      " 43%|█████████████████▎                      | 731/1695 [22:25<12:30,  1.28it/s]"
     ]
    },
    {
     "name": "stdout",
     "output_type": "stream",
     "text": [
      "Uk-NCyLDXAYa80WUAEoEpd3zs8Cym8hBDKp7QMwBrQpkUMjxGvjQ3sYIM_OqIbJOhl4l7CE8weV_1Q\n"
     ]
    },
    {
     "name": "stderr",
     "output_type": "stream",
     "text": [
      "\r",
      " 43%|█████████████████▎                      | 732/1695 [22:26<10:13,  1.57it/s]"
     ]
    },
    {
     "name": "stdout",
     "output_type": "stream",
     "text": [
      "LurtTDeMpbtjDjV3Eaiyx0wnPDTpH8gNTBcrJ6ZfL4jRMEM7b15WgDpMMsVpVgPlfEoFdqGgqoXmaA\n"
     ]
    },
    {
     "name": "stderr",
     "output_type": "stream",
     "text": [
      "\r",
      " 43%|█████████████████▎                      | 733/1695 [22:26<09:52,  1.62it/s]"
     ]
    },
    {
     "name": "stdout",
     "output_type": "stream",
     "text": [
      "IjR3eO1hRjGfFBznI4c0k6ZnzWh5XWqW_TnL0v_voL6dAfIAlZB4zKQ72tObRgeqLsDrsHTn35UwPg\n"
     ]
    },
    {
     "name": "stderr",
     "output_type": "stream",
     "text": [
      "\r",
      " 43%|█████████████████▎                      | 734/1695 [22:27<09:02,  1.77it/s]"
     ]
    },
    {
     "name": "stdout",
     "output_type": "stream",
     "text": [
      "7tyx4-qqIgtSHuhHmCCJcKrtoWyRKOSeaZ8vl038d7o1zY3MFI9kcQeYJmdjKsK_o3dXC_KP14wYPA\n"
     ]
    },
    {
     "name": "stderr",
     "output_type": "stream",
     "text": [
      "\r",
      " 43%|█████████████████▎                      | 735/1695 [22:27<07:41,  2.08it/s]"
     ]
    },
    {
     "name": "stdout",
     "output_type": "stream",
     "text": [
      "OyCGSAWY2eD0l3663Rpx2Rg9E60U7hl3RKK9J63rYrHrjoxo_-PoDJFzrAWauxGEWJMhxt4lxft8sA\n"
     ]
    },
    {
     "name": "stderr",
     "output_type": "stream",
     "text": [
      "\r",
      " 43%|█████████████████▎                      | 736/1695 [22:27<06:43,  2.38it/s]"
     ]
    },
    {
     "name": "stdout",
     "output_type": "stream",
     "text": [
      "StAyOv5VDnkneRHDvUhnuSmwNcols7hDp5NxjYt9ki4D4Rvk30WQgbiWcBYaib_p0u6SrkaH3T5srA\n"
     ]
    },
    {
     "name": "stderr",
     "output_type": "stream",
     "text": [
      "\r",
      " 43%|█████████████████▍                      | 737/1695 [22:28<07:02,  2.27it/s]"
     ]
    },
    {
     "name": "stdout",
     "output_type": "stream",
     "text": [
      "wcMatiim3C62wKAvlsQYnkH94t-4CUiPa7ycq4huBubPuaz0o4uDZ__147yJ9NxmsnSXuUuimYfK8g\n"
     ]
    },
    {
     "name": "stderr",
     "output_type": "stream",
     "text": [
      "\r",
      " 44%|█████████████████▍                      | 738/1695 [22:28<07:45,  2.06it/s]"
     ]
    },
    {
     "name": "stdout",
     "output_type": "stream",
     "text": [
      "TLM_eJCg9k9wUc5zjm-uNTNKQT1RM6azNCkJNbxm0PnUFnXBYa0R0wPfPkBuIiP4MweQeITxjX3TQw\n"
     ]
    },
    {
     "name": "stderr",
     "output_type": "stream",
     "text": [
      "\r",
      " 44%|█████████████████▍                      | 739/1695 [22:28<06:44,  2.36it/s]"
     ]
    },
    {
     "name": "stdout",
     "output_type": "stream",
     "text": [
      "vO5YENvRfjUISvDA7j-SMiCeHiST3MgbpMczn5nc_agByu-cC7YM2nIrY2Q0cG45n8yEYAyq2FdwWw\n"
     ]
    },
    {
     "name": "stderr",
     "output_type": "stream",
     "text": [
      "\r",
      " 44%|█████████████████▍                      | 740/1695 [22:29<06:53,  2.31it/s]"
     ]
    },
    {
     "name": "stdout",
     "output_type": "stream",
     "text": [
      "D0vNbLkS9L-nNNqi_RmB2RvggHWze5INqwhLZkV4-8on5EiHi44awh1EJXNxbxdRmsCkrwSOtTjczw\n"
     ]
    },
    {
     "name": "stderr",
     "output_type": "stream",
     "text": [
      "\r",
      " 44%|█████████████████▍                      | 741/1695 [22:29<06:35,  2.41it/s]"
     ]
    },
    {
     "name": "stdout",
     "output_type": "stream",
     "text": [
      "5wjiuSn_NPBbJZKRBWbGvvE_BMbGopxfqcdUVxjiYCV5BR7kz4QckNQaRLqzS4Ztaa_21sIIl6AI8g\n"
     ]
    },
    {
     "name": "stderr",
     "output_type": "stream",
     "text": [
      "\r",
      " 44%|█████████████████▌                      | 742/1695 [22:30<07:34,  2.10it/s]"
     ]
    },
    {
     "name": "stdout",
     "output_type": "stream",
     "text": [
      "0njpfTl_cunDbXw0aNAfNUhlRa7S0BDK_cLwxqygHbmSU-Rlnx3_5fB__FHols3q2TmrGHRSL7veyg\n"
     ]
    },
    {
     "name": "stderr",
     "output_type": "stream",
     "text": [
      "\r",
      " 44%|█████████████████▌                      | 743/1695 [22:30<06:43,  2.36it/s]"
     ]
    },
    {
     "name": "stdout",
     "output_type": "stream",
     "text": [
      "MLyWt3icqDvP9UBa46wuGfs_a4VdsSHLef8YCtEbS0QBpPE42ZpsqiIMvgN22_LawFiufnP-XUUc6Q\n"
     ]
    },
    {
     "name": "stderr",
     "output_type": "stream",
     "text": [
      "\r",
      " 44%|█████████████████▌                      | 744/1695 [22:31<08:10,  1.94it/s]"
     ]
    },
    {
     "name": "stdout",
     "output_type": "stream",
     "text": [
      "m-fAhfS3qbebb6eDQVIZmvaLJqwyA6l46FVJ53VaIy55o2Rv37RQcoXSci_VuoD-Nqkcq6EJxB2EiA\n"
     ]
    },
    {
     "name": "stderr",
     "output_type": "stream",
     "text": [
      "\r",
      " 44%|█████████████████▌                      | 745/1695 [22:31<07:14,  2.19it/s]"
     ]
    },
    {
     "name": "stdout",
     "output_type": "stream",
     "text": [
      "ctcEkSwsV-K3excuLpnQ2MP_znZogDXPDfOlK1kAOKlb_bf5Msj_Ihdw3pyI0mxzhbhfnsBvzsjH6Q\n"
     ]
    },
    {
     "name": "stderr",
     "output_type": "stream",
     "text": [
      "\r",
      " 44%|█████████████████▌                      | 746/1695 [22:32<06:24,  2.47it/s]"
     ]
    },
    {
     "name": "stdout",
     "output_type": "stream",
     "text": [
      "zuHa-viYgKHTT-vamlUus7DgmYf2e-UZpIcogLtKiDpZ1QrVYPberzWp4Gz90UQlLYbsW14grITpDw\n"
     ]
    },
    {
     "name": "stderr",
     "output_type": "stream",
     "text": [
      "\r",
      " 44%|█████████████████▋                      | 747/1695 [22:32<05:54,  2.68it/s]"
     ]
    },
    {
     "name": "stdout",
     "output_type": "stream",
     "text": [
      "u0Pb36IsoKTrtqT1BbRS0L2-IE4w_paWv5_XIr931zgjiNIPlkX3EksQiooI505UlNiC4rhnWm3sXg\n"
     ]
    },
    {
     "name": "stderr",
     "output_type": "stream",
     "text": [
      "\r",
      " 44%|█████████████████▋                      | 748/1695 [22:32<05:32,  2.85it/s]"
     ]
    },
    {
     "name": "stdout",
     "output_type": "stream",
     "text": [
      "w0IQtQQiVfoLg8JXldXViKoiYLbymwunQqsEMO1ayM8Sbj3sDxJav-Ln2a7TZ1y5Uw45IeHbBinkYQ\n"
     ]
    },
    {
     "name": "stderr",
     "output_type": "stream",
     "text": [
      "\r",
      " 44%|█████████████████▋                      | 749/1695 [22:32<05:16,  2.99it/s]"
     ]
    },
    {
     "name": "stdout",
     "output_type": "stream",
     "text": [
      "R_YfUcogZjSFhgFA1ssy88GRS-32LEXc2zm2rGZRwW1GgfOV_H5gR1Bhd_lvJc8tnQgJujQSHQj5OA\n"
     ]
    },
    {
     "name": "stderr",
     "output_type": "stream",
     "text": [
      "\r",
      " 44%|█████████████████▋                      | 750/1695 [22:33<06:56,  2.27it/s]"
     ]
    },
    {
     "name": "stdout",
     "output_type": "stream",
     "text": [
      "97a17Hqem5U0Zz_8dxK58-Rgb17eAWszFBerDfYCrLx65yIxzqwkjsHt0fW7y3c1kd2WwSCQSneUjA\n"
     ]
    },
    {
     "name": "stderr",
     "output_type": "stream",
     "text": [
      "\r",
      " 44%|█████████████████▋                      | 751/1695 [22:34<09:14,  1.70it/s]"
     ]
    },
    {
     "name": "stdout",
     "output_type": "stream",
     "text": [
      "QW_bYGD4GbcLTvANnCTUsvmiVuXkOtd8LRtcn_0A6dJJnOt3hTARVhzz5FGgfiBAC1OfNdtep2plVw\n"
     ]
    },
    {
     "name": "stderr",
     "output_type": "stream",
     "text": [
      "\r",
      " 44%|█████████████████▋                      | 752/1695 [22:34<07:50,  2.00it/s]"
     ]
    },
    {
     "name": "stdout",
     "output_type": "stream",
     "text": [
      "RqAL39EIoav-lHqPzTUCb3q47srkJgLtgx25ZOPJ36GE9Oj9Jjge61zn0AMbUKF2pxwleoIbyAvbZA\n"
     ]
    },
    {
     "name": "stderr",
     "output_type": "stream",
     "text": [
      "\r",
      " 44%|█████████████████▊                      | 753/1695 [22:35<06:51,  2.29it/s]"
     ]
    },
    {
     "name": "stdout",
     "output_type": "stream",
     "text": [
      "1HfpXTzfNZyqIQGabmdR4iaBO8ohibuBr5yyXUWKBCMpGMXKkjfZwe-sB3XOsLBJrLXUyuiVCGLgew\n"
     ]
    },
    {
     "name": "stderr",
     "output_type": "stream",
     "text": [
      "\r",
      " 44%|█████████████████▊                      | 754/1695 [22:35<07:46,  2.02it/s]"
     ]
    },
    {
     "name": "stdout",
     "output_type": "stream",
     "text": [
      "fFflB4VFApu98RAjoOtwV3gJQHeIw6FArhnqqa_Xiw5fzg13rj9x3zv1AQHF7sOUV6wQEWz3oa-Ugw\n"
     ]
    },
    {
     "name": "stderr",
     "output_type": "stream",
     "text": [
      "\r",
      " 45%|█████████████████▊                      | 755/1695 [22:36<06:45,  2.32it/s]"
     ]
    },
    {
     "name": "stdout",
     "output_type": "stream",
     "text": [
      "qxXwGZHrrvaJpDC1Abwmb6hcvS-WiFbgNPf2uY3oOpvX9Uo-JgWA7aFHroznKi7Z2y3b-DVFek_6HA\n"
     ]
    },
    {
     "name": "stderr",
     "output_type": "stream",
     "text": [
      "\r",
      " 45%|█████████████████▊                      | 756/1695 [22:36<07:03,  2.21it/s]"
     ]
    },
    {
     "name": "stdout",
     "output_type": "stream",
     "text": [
      "uIFbs0_N3ETS3zh9WOTMXyDNFKX_sIz1eXeX94cSa81ZKHQNpQYfzxDAeS_tCZax7AoJfPZgphiu2g\n"
     ]
    },
    {
     "name": "stderr",
     "output_type": "stream",
     "text": [
      "\r",
      " 45%|█████████████████▊                      | 757/1695 [22:37<07:08,  2.19it/s]"
     ]
    },
    {
     "name": "stdout",
     "output_type": "stream",
     "text": [
      "Cgj6DCXK4EAnTygQrdLwjuqvTMRaxrXpn_B8_M2CHOaHNxMc4d64KEv5jM7DRYcRr6dXA_WWyT_bPQ\n"
     ]
    },
    {
     "name": "stderr",
     "output_type": "stream",
     "text": [
      "\r",
      " 45%|█████████████████▉                      | 758/1695 [22:37<06:15,  2.50it/s]"
     ]
    },
    {
     "name": "stdout",
     "output_type": "stream",
     "text": [
      "tv6d1QOjaAZrwmKbgbn9VvNenmrA-O0fyxITlo_DxGs6LlAh7ID0y8eNJ32fPDMdJvNBFwGSTj7MJw\n"
     ]
    },
    {
     "name": "stderr",
     "output_type": "stream",
     "text": [
      "\r",
      " 45%|█████████████████▉                      | 759/1695 [22:37<06:45,  2.31it/s]"
     ]
    },
    {
     "name": "stdout",
     "output_type": "stream",
     "text": [
      "s7LNeXeaNVVnXv5Oq8zjXMK27WGPnquVU1YytS-8NmJmh-XH8f1md4UYKjTl_Z-mns4WRFP_iwopmQ\n"
     ]
    },
    {
     "name": "stderr",
     "output_type": "stream",
     "text": [
      "\r",
      " 45%|█████████████████▉                      | 760/1695 [22:38<06:20,  2.46it/s]"
     ]
    },
    {
     "name": "stdout",
     "output_type": "stream",
     "text": [
      "ZjpIjQ0AynwZuUndVpU-Y50aFGMJFWGEwPk3dIt-b7BJ08FIdputCRvQBTS2d7nxUl2zYRDVppO2KQ\n"
     ]
    },
    {
     "name": "stderr",
     "output_type": "stream",
     "text": [
      "\r",
      " 45%|█████████████████▉                      | 761/1695 [22:38<06:42,  2.32it/s]"
     ]
    },
    {
     "name": "stdout",
     "output_type": "stream",
     "text": [
      "10YISOZIOC7x5mlJmC2XU8WmZFAslrYlpxn0xd9mnXIZExi4Gn9AvDj-n_cneNxTEYNa4MJ_-uwtEw\n"
     ]
    },
    {
     "name": "stderr",
     "output_type": "stream",
     "text": [
      "\r",
      " 45%|█████████████████▉                      | 762/1695 [22:39<06:34,  2.37it/s]"
     ]
    },
    {
     "name": "stdout",
     "output_type": "stream",
     "text": [
      "LYnSmsw_8ZA-h9N-v4K9KTWWEE6U2GsRj-T_ENKp4ciK-cEsYiqNjKiWZ2FhXIXwEUCgJgAZUelxYA\n"
     ]
    },
    {
     "name": "stderr",
     "output_type": "stream",
     "text": [
      "\r",
      " 45%|██████████████████                      | 763/1695 [22:39<05:57,  2.61it/s]"
     ]
    },
    {
     "name": "stdout",
     "output_type": "stream",
     "text": [
      "zZ-Ibuy1MlYayLr1MT8ueoEH6GRLeUtM94hECO3bo7a6p6KcgifIjW14rC_aGcHQa3OpMB9dzEuqgA\n"
     ]
    },
    {
     "name": "stderr",
     "output_type": "stream",
     "text": [
      "\r",
      " 45%|██████████████████                      | 764/1695 [22:39<05:45,  2.70it/s]"
     ]
    },
    {
     "name": "stdout",
     "output_type": "stream",
     "text": [
      "2rD5B5EIs8-I93BREDQDLznvWONdq0MBtG7twBoIgCDAjtUH89Md-NnICJKSfAI1zeYsFX5THmB-RQ\n"
     ]
    },
    {
     "name": "stderr",
     "output_type": "stream",
     "text": [
      "\r",
      " 45%|██████████████████                      | 765/1695 [22:39<05:29,  2.82it/s]"
     ]
    },
    {
     "name": "stdout",
     "output_type": "stream",
     "text": [
      "_F4NJZr5YhODUBLsPz5vnTWgsep8QVt59IUN4rDgyjlDDFdpRDc275lmlIuUfg7jFGuqc3H3vwi1Tg\n"
     ]
    },
    {
     "name": "stderr",
     "output_type": "stream",
     "text": [
      "\r",
      " 45%|██████████████████                      | 766/1695 [22:40<05:42,  2.71it/s]"
     ]
    },
    {
     "name": "stdout",
     "output_type": "stream",
     "text": [
      "vk0joxotUgRaoFQxNXPXHw7M9Y_RWvoWQKTFCA4v2BlJrtocLUvvDFLJnnKIi7zYQnlDqtycKiAj8w\n"
     ]
    },
    {
     "name": "stderr",
     "output_type": "stream",
     "text": [
      "\r",
      " 45%|██████████████████                      | 767/1695 [22:41<09:05,  1.70it/s]"
     ]
    },
    {
     "name": "stdout",
     "output_type": "stream",
     "text": [
      "AkjWhTpcUiDTjOIZYICZlq-Xj72gmmhh7kGDWH3902s5nyVGb4UHsLE6c1qf9O5BR1iTon4tbgIIlA\n"
     ]
    },
    {
     "name": "stderr",
     "output_type": "stream",
     "text": [
      "\r",
      " 45%|██████████████████                      | 768/1695 [22:42<09:16,  1.66it/s]"
     ]
    },
    {
     "name": "stdout",
     "output_type": "stream",
     "text": [
      "q0sTzLV-ONolrNc-SBKI3JK7mmkFozXtbKojhOi-a2JmNmAmEjleZZbcFoeyf8t63JXH5hCDfZpyng\n"
     ]
    },
    {
     "name": "stderr",
     "output_type": "stream",
     "text": [
      "\r",
      " 45%|██████████████████▏                     | 769/1695 [22:42<07:55,  1.95it/s]"
     ]
    },
    {
     "name": "stdout",
     "output_type": "stream",
     "text": [
      "51Gp9Z9Q1H-9jOgfLTQnMDG9O0cx7TWKrGQ-aa2Oxd7MGwL-1B-49exuSzkU-sUecm7Dx1S-CXQkQw\n"
     ]
    },
    {
     "name": "stderr",
     "output_type": "stream",
     "text": [
      "\r",
      " 45%|██████████████████▏                     | 770/1695 [22:43<08:24,  1.83it/s]"
     ]
    },
    {
     "name": "stdout",
     "output_type": "stream",
     "text": [
      "fGyoptJD32gUaQWmCx7uiY8oTMJiJ3AMTw2iPJEC_wzF8-K-se6JGc6ptEK-zlR4BbMKu-jpfJnVjA\n"
     ]
    },
    {
     "name": "stderr",
     "output_type": "stream",
     "text": [
      "\r",
      " 45%|██████████████████▏                     | 771/1695 [22:43<09:00,  1.71it/s]"
     ]
    },
    {
     "name": "stdout",
     "output_type": "stream",
     "text": [
      "Gxp964V4OT_4s3n1d8L_eUnkrLetNlQQ4gHVBAXGwtGw3L6FGrWQWj-_U39a9YrSBEztqG9psGjw-A\n"
     ]
    },
    {
     "name": "stderr",
     "output_type": "stream",
     "text": [
      "\r",
      " 46%|██████████████████▏                     | 772/1695 [22:44<07:46,  1.98it/s]"
     ]
    },
    {
     "name": "stdout",
     "output_type": "stream",
     "text": [
      "vxuv6YJt-dKMpXvTBULNpHI0TiuY-xHQPFcSHCG_GamAdDbke7w1Qt9RFBKZUsY3K0jkb8A-sCgAow\n"
     ]
    },
    {
     "name": "stderr",
     "output_type": "stream",
     "text": [
      "\r",
      " 46%|██████████████████▏                     | 773/1695 [22:44<06:46,  2.27it/s]"
     ]
    },
    {
     "name": "stdout",
     "output_type": "stream",
     "text": [
      "PoR7FHcDamb73ZDndB0Jvt-lUfL1YHteX-tVul675H150OPFRlx0TgOOSeyN2Z795IGEUWCLA6FAaQ\n"
     ]
    },
    {
     "name": "stderr",
     "output_type": "stream",
     "text": [
      "\r",
      " 46%|██████████████████▎                     | 774/1695 [22:44<06:22,  2.41it/s]"
     ]
    },
    {
     "name": "stdout",
     "output_type": "stream",
     "text": [
      "fId1cqT7CUJNaCBELXE1rAKeKQjU79VbwwYewa6vxZrPW1vidaYLsTsQYjkLmLW2X2z67qEyE44rTQ\n"
     ]
    },
    {
     "name": "stderr",
     "output_type": "stream",
     "text": [
      "\r",
      " 46%|██████████████████▎                     | 775/1695 [22:44<05:47,  2.65it/s]"
     ]
    },
    {
     "name": "stdout",
     "output_type": "stream",
     "text": [
      "qZuLYkw5OA_XoJGwjxi8Q-U9tC4fKL9wYaKSMRqkbkt0lKcz2D1TPUMBPNTQvsjWLvgPu-HFTNa4ow\n"
     ]
    },
    {
     "name": "stderr",
     "output_type": "stream",
     "text": [
      "\r",
      " 46%|██████████████████▎                     | 776/1695 [22:45<05:20,  2.87it/s]"
     ]
    },
    {
     "name": "stdout",
     "output_type": "stream",
     "text": [
      "CrLa4dp9S9zIANLigEr8TEd-VBOd8LMrgZScpbJ9NmhyVIku0w6QZsbAqvvkpiGg4HB9YMqH85SnQg\n"
     ]
    },
    {
     "name": "stderr",
     "output_type": "stream",
     "text": [
      "\r",
      " 46%|██████████████████▎                     | 777/1695 [22:45<05:07,  2.99it/s]"
     ]
    },
    {
     "name": "stdout",
     "output_type": "stream",
     "text": [
      "tplUPg2YHDPdII9i1Kbqd5VcMBcOE-ZN_CUaDmvxH_bBOjyLfP9IV_b3XG_gwquwGjgWlm6nw7jcTQ\n"
     ]
    },
    {
     "name": "stderr",
     "output_type": "stream",
     "text": [
      "\r",
      " 46%|██████████████████▎                     | 778/1695 [22:46<06:34,  2.33it/s]"
     ]
    },
    {
     "name": "stdout",
     "output_type": "stream",
     "text": [
      "2fpHUT9sTo9jX1wUGMpNQMAqUQMCdavTxvjFy7FXh5OEa3qAKn39D5bMBM2YTOEd81YQC03vVcDKhA\n",
      "api cost full : infinite loop start\n",
      "loop location :  OYyUzVHEkwdp_DXUxiEgJy5sB3oiPko5g8J8R-wahiG-0Fc\n",
      "try 10 second wait time\n",
      "429\n",
      "try 10 second wait time\n",
      "429\n",
      "try 10 second wait time\n",
      "429\n",
      "try 10 second wait time\n",
      "429\n",
      "try 10 second wait time\n",
      "429\n",
      "try 10 second wait time\n",
      "429\n",
      "try 10 second wait time\n",
      "429\n",
      "try 10 second wait time\n"
     ]
    },
    {
     "name": "stderr",
     "output_type": "stream",
     "text": [
      "\r",
      " 46%|█████████████████▍                    | 779/1695 [24:10<6:31:29, 25.64s/it]"
     ]
    },
    {
     "name": "stdout",
     "output_type": "stream",
     "text": [
      "200\n",
      "total wait time :  84.24708294868469\n",
      "recovery api cost\n",
      "hZV98rBgn6OkMzNSDui6WEQ4eI_JMsB4ADVEb8nraVyayYivQpVgb2vzgQuha_vKQpW1ShklLjyxNA\n"
     ]
    },
    {
     "name": "stderr",
     "output_type": "stream",
     "text": [
      "\r",
      " 46%|█████████████████▍                    | 780/1695 [24:10<4:35:05, 18.04s/it]"
     ]
    },
    {
     "name": "stdout",
     "output_type": "stream",
     "text": [
      "8a_ggwHA5NZ1wYw_zT5LVJyIKu7FOPVvpFJCVliNzPsb0jHcPmB4SiL6VSOr3_XxwMsSpJ3UmHqetw\n"
     ]
    },
    {
     "name": "stderr",
     "output_type": "stream",
     "text": [
      "\r",
      " 46%|█████████████████▌                    | 781/1695 [24:11<3:13:55, 12.73s/it]"
     ]
    },
    {
     "name": "stdout",
     "output_type": "stream",
     "text": [
      "4Z7dfsfdfASBgX7NDYhIK4uPKQzcAkcLKhWchrPCoGxKHvvCT7C87tP49krPGAyYH0Afzb21BfbQEQ\n"
     ]
    },
    {
     "name": "stderr",
     "output_type": "stream",
     "text": [
      "\r",
      " 46%|█████████████████▌                    | 782/1695 [24:11<2:16:53,  9.00s/it]"
     ]
    },
    {
     "name": "stdout",
     "output_type": "stream",
     "text": [
      "mHYshhryQitcDB4VN5iG8SBOaWMDlBAaeUiipQWi6SvTwYqlctGFA95lTohPsyMU_GTVDhG_J7NZSg\n"
     ]
    },
    {
     "name": "stderr",
     "output_type": "stream",
     "text": [
      "\r",
      " 46%|█████████████████▌                    | 783/1695 [24:11<1:37:18,  6.40s/it]"
     ]
    },
    {
     "name": "stdout",
     "output_type": "stream",
     "text": [
      "ZyuRFI10S90AMPg5vgRcm5RuYDF5Z_yg-Wi90iBanzp1lntCEJgpLcxguKvlIevfjmrLSP1ZAiKKKA\n"
     ]
    },
    {
     "name": "stderr",
     "output_type": "stream",
     "text": [
      "\r",
      " 46%|█████████████████▌                    | 784/1695 [24:12<1:09:21,  4.57s/it]"
     ]
    },
    {
     "name": "stdout",
     "output_type": "stream",
     "text": [
      "BNA0o_05o2rW649uXrln3QnTRdzukEDTd_O_q98PkFFp0BPpHnlBARXi5EI_6PIPav6-2inAH4fkXw\n"
     ]
    },
    {
     "name": "stderr",
     "output_type": "stream",
     "text": [
      "\r",
      " 46%|██████████████████▌                     | 785/1695 [24:12<49:50,  3.29s/it]"
     ]
    },
    {
     "name": "stdout",
     "output_type": "stream",
     "text": [
      "0m2ylrQT7y8B1Qc_Vl2RNYEcPSWkbpyJYS6bJLsFexv3L9zyNwa1volBiy2b2gNhBn2z2cxt9dcTiw\n"
     ]
    },
    {
     "name": "stderr",
     "output_type": "stream",
     "text": [
      "\r",
      " 46%|██████████████████▌                     | 786/1695 [24:12<36:11,  2.39s/it]"
     ]
    },
    {
     "name": "stdout",
     "output_type": "stream",
     "text": [
      "nJkGY4C1ClcNEFe90f_b9kb5vTuh-WuPzvNI80_0UiTCe7u0jVMddzyulbUCHqMlc58z8a5kS1OhSw\n"
     ]
    },
    {
     "name": "stderr",
     "output_type": "stream",
     "text": [
      "\r",
      " 46%|██████████████████▌                     | 787/1695 [24:13<27:16,  1.80s/it]"
     ]
    },
    {
     "name": "stdout",
     "output_type": "stream",
     "text": [
      "D7S6bowjeTU8KgBOKW5902J0y2wymxN5kA9zngFDyOPdKAA_loOvm-6uUlaO3j0-p98u4t4OBpVPhg\n"
     ]
    },
    {
     "name": "stderr",
     "output_type": "stream",
     "text": [
      "\r",
      " 46%|██████████████████▌                     | 788/1695 [24:13<20:34,  1.36s/it]"
     ]
    },
    {
     "name": "stdout",
     "output_type": "stream",
     "text": [
      "yAeLCCN6KseOKvGNqB9wMphIIX9OyslK2f4WUsGsOZlr2_5YaCVSrPvNTsg829lhDq9u_0SbgmcTrQ\n"
     ]
    },
    {
     "name": "stderr",
     "output_type": "stream",
     "text": [
      "\r",
      " 47%|██████████████████▌                     | 789/1695 [24:13<15:45,  1.04s/it]"
     ]
    },
    {
     "name": "stdout",
     "output_type": "stream",
     "text": [
      "czapmFfmPhkzA2vKfMvqwLathsFu3Ihrzkvvgw-FtSisz7z_s8ZGGsIRXXvmY6iRYxZw3H_rUnUNfw\n"
     ]
    },
    {
     "name": "stderr",
     "output_type": "stream",
     "text": [
      "\r",
      " 47%|██████████████████▋                     | 790/1695 [24:14<12:26,  1.21it/s]"
     ]
    },
    {
     "name": "stdout",
     "output_type": "stream",
     "text": [
      "7H1kAUdBxQxvR9SXRqKUjmWkJLATv0jDBby9HdG6mGr8dCfFSIl2icZh0SbiuyMfFGBJa844RytCwA\n"
     ]
    },
    {
     "name": "stderr",
     "output_type": "stream",
     "text": [
      "\r",
      " 47%|██████████████████▋                     | 791/1695 [24:14<10:03,  1.50it/s]"
     ]
    },
    {
     "name": "stdout",
     "output_type": "stream",
     "text": [
      "HXHXVByRe7K-0dZmzrGIKoxXS6wQwlVVG40IRt67IfaeBGGumybSTO93K9GDiU8OmBvQBI5sho5CKw\n"
     ]
    },
    {
     "name": "stderr",
     "output_type": "stream",
     "text": [
      "\r",
      " 47%|██████████████████▋                     | 792/1695 [24:14<08:21,  1.80it/s]"
     ]
    },
    {
     "name": "stdout",
     "output_type": "stream",
     "text": [
      "9YRBFRSf6ct4NKxh5pGB_bHs_Gmzlqwi1cFWEj0bCDzhgUvUOc2Z3Kzq22C6U36BMwsOLnxTFThzBA\n"
     ]
    },
    {
     "name": "stderr",
     "output_type": "stream",
     "text": [
      "\r",
      " 47%|██████████████████▋                     | 793/1695 [24:15<07:10,  2.10it/s]"
     ]
    },
    {
     "name": "stdout",
     "output_type": "stream",
     "text": [
      "kg2bfo3Mdzn4_35s8rUk9gXeM7B-pLPGoglj9RTtyzx2ZXzwniCWL5_Dztm8ARK7PfN9f79-fASCCw\n"
     ]
    },
    {
     "name": "stderr",
     "output_type": "stream",
     "text": [
      "\r",
      " 47%|██████████████████▋                     | 794/1695 [24:15<07:17,  2.06it/s]"
     ]
    },
    {
     "name": "stdout",
     "output_type": "stream",
     "text": [
      "mkAg14g1YZPT3OKe0A25rEF5cPXFAfTlTAAfEr7TDoASlKDr69hMR5lzGj3cqO5Pg9XRO7QVtkbgXw\n"
     ]
    },
    {
     "name": "stderr",
     "output_type": "stream",
     "text": [
      "\r",
      " 47%|██████████████████▊                     | 795/1695 [24:15<06:25,  2.33it/s]"
     ]
    },
    {
     "name": "stdout",
     "output_type": "stream",
     "text": [
      "KY0z7YC6jzy7M8EDyylQglMzSR_Sc7u0Pu9uLbaFS2zovQ0Px8zXsCJcH7UvgfLVyLlog4wZzzabrA\n"
     ]
    },
    {
     "name": "stderr",
     "output_type": "stream",
     "text": [
      "\r",
      " 47%|██████████████████▊                     | 796/1695 [24:16<08:12,  1.83it/s]"
     ]
    },
    {
     "name": "stdout",
     "output_type": "stream",
     "text": [
      "tLnmAA-P4IcyHOOB9LZzZargbaAqVW1lZEXgkVeg1HJDDbbPf41iriTWgI0UOwxEUwtV_DewNaemJw\n"
     ]
    },
    {
     "name": "stderr",
     "output_type": "stream",
     "text": [
      "\r",
      " 47%|██████████████████▊                     | 797/1695 [24:17<08:21,  1.79it/s]"
     ]
    },
    {
     "name": "stdout",
     "output_type": "stream",
     "text": [
      "3IH5ZCMYYJgp9fgi617YhNeBLgMbzLPEL9yfTygyyLTcx9qK59aqb3Qkj01RwFcCS1LsjlQpjJ5znA\n"
     ]
    },
    {
     "name": "stderr",
     "output_type": "stream",
     "text": [
      "\r",
      " 47%|██████████████████▊                     | 798/1695 [24:17<08:41,  1.72it/s]"
     ]
    },
    {
     "name": "stdout",
     "output_type": "stream",
     "text": [
      "gbfMgMdLn7v63KeLVsoe2yxbFmKtyHSr0mX-E5srrj6hkJ6Xg5w2bbv9gKbP5L_XEqsUtZLOql4Spw\n"
     ]
    },
    {
     "name": "stderr",
     "output_type": "stream",
     "text": [
      "\r",
      " 47%|██████████████████▊                     | 799/1695 [24:18<08:22,  1.78it/s]"
     ]
    },
    {
     "name": "stdout",
     "output_type": "stream",
     "text": [
      "QPScvMYHY_fO_jNIfvdl7L0pOvDhzpv7AfJvEvEomP2yQtDuMMYv1auDGB5VNfkrVUVFiMQTLADALw\n"
     ]
    },
    {
     "name": "stderr",
     "output_type": "stream",
     "text": [
      "\r",
      " 47%|██████████████████▉                     | 800/1695 [24:19<09:11,  1.62it/s]"
     ]
    },
    {
     "name": "stdout",
     "output_type": "stream",
     "text": [
      "CZKCmunED4Dm01CpeAJUWdiHVZknXLYijQomW5SIz4JSRRfhvvjoU6lBjsLE5IkmPznugj7TI80OFQ\n"
     ]
    },
    {
     "name": "stderr",
     "output_type": "stream",
     "text": [
      "\r",
      " 47%|██████████████████▉                     | 801/1695 [24:19<09:54,  1.50it/s]"
     ]
    },
    {
     "name": "stdout",
     "output_type": "stream",
     "text": [
      "SHowCNp_GE3YeXC6_t8RvtvIwfrOuSPt4jklnKmqQZsOfMoy2vIfKLbcyWWeIvCO04Y41RE_imlx2g\n"
     ]
    },
    {
     "name": "stderr",
     "output_type": "stream",
     "text": [
      "\r",
      " 47%|██████████████████▉                     | 802/1695 [24:20<09:54,  1.50it/s]"
     ]
    },
    {
     "name": "stdout",
     "output_type": "stream",
     "text": [
      "Bo2fSKTuem959u2WKvprdYwMzNCg-HkJdx_tXaS4u97pAfK_52DMYxvxPb_c2TOP5NqTTAOKSROjUQ\n"
     ]
    },
    {
     "name": "stderr",
     "output_type": "stream",
     "text": [
      "\r",
      " 47%|██████████████████▉                     | 803/1695 [24:21<08:52,  1.67it/s]"
     ]
    },
    {
     "name": "stdout",
     "output_type": "stream",
     "text": [
      "bw_jSZ0Gy8PZ9I6Y8U36k7zLTEUrc_YTMsPCZ0lK0TPP4B3KbTOmrnvtl9xtH8qdxNm6uFwba5vKAA\n"
     ]
    },
    {
     "name": "stderr",
     "output_type": "stream",
     "text": [
      "\r",
      " 47%|██████████████████▉                     | 804/1695 [24:21<07:27,  1.99it/s]"
     ]
    },
    {
     "name": "stdout",
     "output_type": "stream",
     "text": [
      "b6ZTgqDtyuCkcDeIsmD4Cgu35_vEG9fBzfToAUIzqobcU3nHfq2MOsZbjBVnK_F-R4pGKOkQEOzfHg\n"
     ]
    },
    {
     "name": "stderr",
     "output_type": "stream",
     "text": [
      "\r",
      " 47%|██████████████████▉                     | 805/1695 [24:21<07:27,  1.99it/s]"
     ]
    },
    {
     "name": "stdout",
     "output_type": "stream",
     "text": [
      "AaXifJ2Mi7EDrduh3ZKkAP5pEKVp6RVjVzXDXUjJF_VtpF87ZBK3ur9dpCKeKEKZRoPDAmq5iM7x0A\n"
     ]
    },
    {
     "name": "stderr",
     "output_type": "stream",
     "text": [
      "\r",
      " 48%|███████████████████                     | 806/1695 [24:22<07:28,  1.98it/s]"
     ]
    },
    {
     "name": "stdout",
     "output_type": "stream",
     "text": [
      "J12bYxLqIJjLlM5dM6kH1Lx-hECZDEEcm1Peya6OdLWyfo521tFpyc1JKD-J38L7Oe7baeMnu4S7dA\n"
     ]
    },
    {
     "name": "stderr",
     "output_type": "stream",
     "text": [
      "\r",
      " 48%|███████████████████                     | 807/1695 [24:22<07:24,  2.00it/s]"
     ]
    },
    {
     "name": "stdout",
     "output_type": "stream",
     "text": [
      "-UWnQXid13AiiAMrFO-ibYs_1NALD0o0AmZpmWfF-6_sKJmskP8aOVVoQVbMmE66NenQgOdc2anZzA\n"
     ]
    },
    {
     "name": "stderr",
     "output_type": "stream",
     "text": [
      "\r",
      " 48%|███████████████████                     | 808/1695 [24:23<06:26,  2.30it/s]"
     ]
    },
    {
     "name": "stdout",
     "output_type": "stream",
     "text": [
      "bcCJI6TNU9n9lF09jYpIt1ta6BG6LNdV0MxSf9FZyB6nmcNxQwNU_7uiaeOEX-ma-sTz2nr2KqucmQ\n"
     ]
    },
    {
     "name": "stderr",
     "output_type": "stream",
     "text": [
      "\r",
      " 48%|███████████████████                     | 809/1695 [24:23<05:58,  2.47it/s]"
     ]
    },
    {
     "name": "stdout",
     "output_type": "stream",
     "text": [
      "jErc2pHFnChaiaOF2ncaewv97Nmnin2QE0tTeJPsbh7vS8Q-q1mpdxd30HuI0IMFpgrvUSao0WGqCw\n"
     ]
    },
    {
     "name": "stderr",
     "output_type": "stream",
     "text": [
      "\r",
      " 48%|███████████████████                     | 810/1695 [24:23<05:46,  2.55it/s]"
     ]
    },
    {
     "name": "stdout",
     "output_type": "stream",
     "text": [
      "6-Vv72beBBEExoEygwvI2tf_C-n3l-xTUt7L8H2lzHdF1Ufj7dGLjo5Cn3Ii2dLuKeY6GwH36t0cQw\n"
     ]
    },
    {
     "name": "stderr",
     "output_type": "stream",
     "text": [
      "\r",
      " 48%|███████████████████▏                    | 811/1695 [24:24<05:09,  2.86it/s]"
     ]
    },
    {
     "name": "stdout",
     "output_type": "stream",
     "text": [
      "Pk8xp8i6MuJWWO08xkyTs9HMorAXLOJv-PCwELWNwQKDAdsQGaeWzYzM76fRNeqmok-yPqTzfxHvDw\n"
     ]
    },
    {
     "name": "stderr",
     "output_type": "stream",
     "text": [
      "\r",
      " 48%|███████████████████▏                    | 812/1695 [24:24<04:51,  3.03it/s]"
     ]
    },
    {
     "name": "stdout",
     "output_type": "stream",
     "text": [
      "Q6tLlRlJ1nStJVbDA87xSpb-oIjVOZiUrRWw54fdQbUgxjW42xtE80ksITiqXLfDyi6dfQD0ju00uQ\n"
     ]
    },
    {
     "name": "stderr",
     "output_type": "stream",
     "text": [
      "\r",
      " 48%|███████████████████▏                    | 813/1695 [24:24<04:40,  3.14it/s]"
     ]
    },
    {
     "name": "stdout",
     "output_type": "stream",
     "text": [
      "c9lTCadiz3imbdJn2Xl96Db_ivPpKBqYImt3xNS1k56xN3f6IRt4gs9QO55hXwTdGxgeJbqVMFcKbQ\n"
     ]
    },
    {
     "name": "stderr",
     "output_type": "stream",
     "text": [
      "\r",
      " 48%|███████████████████▏                    | 814/1695 [24:25<05:29,  2.67it/s]"
     ]
    },
    {
     "name": "stdout",
     "output_type": "stream",
     "text": [
      "IJo2j4bNeLdszt28jDAukxVm05j7PSbEXsEwlvxyOxPcE62fRdj6pT7KggHKEK25TDqtpxey7WHpqw\n"
     ]
    },
    {
     "name": "stderr",
     "output_type": "stream",
     "text": [
      "\r",
      " 48%|███████████████████▏                    | 815/1695 [24:25<05:06,  2.87it/s]"
     ]
    },
    {
     "name": "stdout",
     "output_type": "stream",
     "text": [
      "gI0MRUWkvKb7Qnv5O1aSKZFDbZRWlJLd4Vbtg13UVQp-OX5KQPcysQeNfMHN_9JPR0eTEYrpGIcJvA\n"
     ]
    },
    {
     "name": "stderr",
     "output_type": "stream",
     "text": [
      "\r",
      " 48%|███████████████████▎                    | 816/1695 [24:25<05:21,  2.74it/s]"
     ]
    },
    {
     "name": "stdout",
     "output_type": "stream",
     "text": [
      "7x8x6J0_OUEe6zgxRoTz1-oy0RpYT5HcH-9M-Z04HUQBKfgP4mvZtNvUUwpdQLCfZ8SrlhtHKyYXKQ\n"
     ]
    },
    {
     "name": "stderr",
     "output_type": "stream",
     "text": [
      "\r",
      " 48%|███████████████████▎                    | 817/1695 [24:26<04:59,  2.93it/s]"
     ]
    },
    {
     "name": "stdout",
     "output_type": "stream",
     "text": [
      "MatQiVleS_7RBToa-qq-IMWLe0aDyt65d1LUJp7HNod5achRVhbip05sl9gtRKY3KzZvZeUBOLBpDA\n"
     ]
    },
    {
     "name": "stderr",
     "output_type": "stream",
     "text": [
      "\r",
      " 48%|███████████████████▎                    | 818/1695 [24:26<05:36,  2.60it/s]"
     ]
    },
    {
     "name": "stdout",
     "output_type": "stream",
     "text": [
      "o_r31KwK7sbIxlCXKvVDwrv16UKxLhBturOtsSvpmI5RGzHEfUYTInh5m_a2_OowDDQv4ovu904aqw\n"
     ]
    },
    {
     "name": "stderr",
     "output_type": "stream",
     "text": [
      "\r",
      " 48%|███████████████████▎                    | 819/1695 [24:27<05:45,  2.54it/s]"
     ]
    },
    {
     "name": "stdout",
     "output_type": "stream",
     "text": [
      "_kbzjmAWsyKwEopjl5pSRt5IQVmQrW0UR3RrmosEorjWd1Rz1moG6yQAfY4UH0NHw5fiFKa2-WMZEw\n"
     ]
    },
    {
     "name": "stderr",
     "output_type": "stream",
     "text": [
      "\r",
      " 48%|███████████████████▎                    | 820/1695 [24:27<05:40,  2.57it/s]"
     ]
    },
    {
     "name": "stdout",
     "output_type": "stream",
     "text": [
      "tjbINQbQYxGuHj8SZsaaRo_DcM8ybPzdIL07eGPlsWPpjlPQFQFqPh53YLkpI8pMSWwTNm9rbaCGYQ\n"
     ]
    },
    {
     "name": "stderr",
     "output_type": "stream",
     "text": [
      "\r",
      " 48%|███████████████████▎                    | 821/1695 [24:27<05:34,  2.61it/s]"
     ]
    },
    {
     "name": "stdout",
     "output_type": "stream",
     "text": [
      "dmA7vaPf1AKeciGaamhnN_VuCi71lMXfTBr8MjswSj_4KTDjop9lWWHy1-Lj9qHh0Nch57mdERpvxg\n"
     ]
    },
    {
     "name": "stderr",
     "output_type": "stream",
     "text": [
      "\r",
      " 48%|███████████████████▍                    | 822/1695 [24:28<05:51,  2.49it/s]"
     ]
    },
    {
     "name": "stdout",
     "output_type": "stream",
     "text": [
      "MeX0acB-Y8f404GYJ8wv200X4L_xmELazObhWW5u6MUIq1RYLVBG1KY-VDduA1y3DL5u33Xr5JNzlA\n"
     ]
    },
    {
     "name": "stderr",
     "output_type": "stream",
     "text": [
      "\r",
      " 49%|███████████████████▍                    | 823/1695 [24:28<05:47,  2.51it/s]"
     ]
    },
    {
     "name": "stdout",
     "output_type": "stream",
     "text": [
      "lzgo8PnVQ_A0V-BJBb0dgustQSMuAu96FrGZsCutGUsZOJYKs40NL3xMqt_vVfojIDtdmfrmAvFOig\n"
     ]
    },
    {
     "name": "stderr",
     "output_type": "stream",
     "text": [
      "\r",
      " 49%|███████████████████▍                    | 824/1695 [24:28<05:14,  2.77it/s]"
     ]
    },
    {
     "name": "stdout",
     "output_type": "stream",
     "text": [
      "xqAQMWu6ZCw5usFp6p8MERAvUb5Y3Nyi-baV178XRiLeRtd4UC3mVPgxJupnlb_acGjxq4uExnTfqQ\n"
     ]
    },
    {
     "name": "stderr",
     "output_type": "stream",
     "text": [
      "\r",
      " 49%|███████████████████▍                    | 825/1695 [24:29<05:22,  2.70it/s]"
     ]
    },
    {
     "name": "stdout",
     "output_type": "stream",
     "text": [
      "9ghZ_eHqUe1mffq5LbdopPByD-gjp_LW1qtnwUwRv6i03UkNq4vtBjENZeHSZrK-J1hFNIbqJoF5UA\n"
     ]
    },
    {
     "name": "stderr",
     "output_type": "stream",
     "text": [
      "\r",
      " 49%|███████████████████▍                    | 826/1695 [24:29<05:13,  2.77it/s]"
     ]
    },
    {
     "name": "stdout",
     "output_type": "stream",
     "text": [
      "52jTksR31yoeuns75onMCrVJArsj9b7bcv4b36ah7KEjQuI7MltTTQzJ7g1gIQDzZlwQZTD0DVcSuQ\n"
     ]
    },
    {
     "name": "stderr",
     "output_type": "stream",
     "text": [
      "\r",
      " 49%|███████████████████▌                    | 827/1695 [24:30<05:42,  2.54it/s]"
     ]
    },
    {
     "name": "stdout",
     "output_type": "stream",
     "text": [
      "ZKwT2Qc2SEDKy57WkA2K-z1O_mvmmC8p8lHD4ZdXPxTY_9zDPAgLru1a5b7GBh6GdGh1uhI6ekroAA\n"
     ]
    },
    {
     "name": "stderr",
     "output_type": "stream",
     "text": [
      "\r",
      " 49%|███████████████████▌                    | 828/1695 [24:30<05:30,  2.62it/s]"
     ]
    },
    {
     "name": "stdout",
     "output_type": "stream",
     "text": [
      "f3lwLKuX1PLH1D-PkvdmBeI4UxqwZGr2j8hTcgU7TxDzPHgBXocvv5-lQT75gkGLuNAh4Nr5oq9eTg\n"
     ]
    },
    {
     "name": "stderr",
     "output_type": "stream",
     "text": [
      "\r",
      " 49%|███████████████████▌                    | 829/1695 [24:30<05:14,  2.75it/s]"
     ]
    },
    {
     "name": "stdout",
     "output_type": "stream",
     "text": [
      "QupYYaYvolun3GpMPzYBHUOi9XYLTAtMz_h1_3ekrByHFbAxfFLCUSf-_y14_YU2cp1sz6WmMC547w\n"
     ]
    },
    {
     "name": "stderr",
     "output_type": "stream",
     "text": [
      "\r",
      " 49%|███████████████████▌                    | 830/1695 [24:31<04:55,  2.92it/s]"
     ]
    },
    {
     "name": "stdout",
     "output_type": "stream",
     "text": [
      "1Fg4bJpc2M8A8Bqwy8V4v_y6V2MMZvHrl-MOvvT0pTjrQ1JmaZXyvV16GGNDEZp50s_uVILPCSSrbw\n"
     ]
    },
    {
     "name": "stderr",
     "output_type": "stream",
     "text": [
      "\r",
      " 49%|███████████████████▌                    | 831/1695 [24:31<05:00,  2.87it/s]"
     ]
    },
    {
     "name": "stdout",
     "output_type": "stream",
     "text": [
      "WBa_0Spm3dxdW93E0JBLTdamJo8Vzy28-rGgtzg7tWlUgPzGzexQLVI3wtOCa6ycFmhxq3_-8RTCKQ\n"
     ]
    },
    {
     "name": "stderr",
     "output_type": "stream",
     "text": [
      "\r",
      " 49%|███████████████████▋                    | 832/1695 [24:31<04:44,  3.03it/s]"
     ]
    },
    {
     "name": "stdout",
     "output_type": "stream",
     "text": [
      "S-9TZbD1prYyp6ZIsGHK07DvyqbUIR4zPCfQX90Nl9pWhXFdffdMPDIMzlTfSgkDzFOt_5dc1nd4Rw\n"
     ]
    },
    {
     "name": "stderr",
     "output_type": "stream",
     "text": [
      "\r",
      " 49%|███████████████████▋                    | 833/1695 [24:32<05:09,  2.78it/s]"
     ]
    },
    {
     "name": "stdout",
     "output_type": "stream",
     "text": [
      "FVVrb-Ode-KHZdEpCPLDAgel48DPhDgxSDV2Q1pz39LU5y3p8cUjkIVQ7eEEPuheDZsgKgOicb7X4Q\n"
     ]
    },
    {
     "name": "stderr",
     "output_type": "stream",
     "text": [
      "\r",
      " 49%|███████████████████▋                    | 834/1695 [24:32<04:57,  2.89it/s]"
     ]
    },
    {
     "name": "stdout",
     "output_type": "stream",
     "text": [
      "oqJX9GIlD-IGxxgkmlmL6aqn4E1hWODNYV8WOeSCHAapY6WQeJWj2Uw1axaZRtJQwyyKYEzVDXVO5Q\n"
     ]
    },
    {
     "name": "stderr",
     "output_type": "stream",
     "text": [
      "\r",
      " 49%|███████████████████▋                    | 835/1695 [24:32<05:10,  2.77it/s]"
     ]
    },
    {
     "name": "stdout",
     "output_type": "stream",
     "text": [
      "pZmtge_NejEbf2Zhsf0JB42A3wgHANoEjoxFxZ431jbL6yqMFoR1DHwbRBtEKs-suJVGMn9p4odDPQ\n"
     ]
    },
    {
     "name": "stderr",
     "output_type": "stream",
     "text": [
      "\r",
      " 49%|███████████████████▋                    | 836/1695 [24:33<04:51,  2.95it/s]"
     ]
    },
    {
     "name": "stdout",
     "output_type": "stream",
     "text": [
      "0jEJvUIjXfb5H2Swww2NHKLLNTu2GWke02o6PLkJOS4G5JkeK6XkYALBFeu6L5C0mxUrou5qE39yqA\n"
     ]
    },
    {
     "name": "stderr",
     "output_type": "stream",
     "text": [
      "\r",
      " 49%|███████████████████▊                    | 837/1695 [24:33<05:46,  2.48it/s]"
     ]
    },
    {
     "name": "stdout",
     "output_type": "stream",
     "text": [
      "YHvcMWBitEJE2quJ-LNDVoDkDHCvPMJLYTMpn1KiHwdF5ktSlrZN2KzYyb_UoFz4AGihU_M7m3VWvQ\n"
     ]
    },
    {
     "name": "stderr",
     "output_type": "stream",
     "text": [
      "\r",
      " 49%|███████████████████▊                    | 838/1695 [24:33<05:13,  2.74it/s]"
     ]
    },
    {
     "name": "stdout",
     "output_type": "stream",
     "text": [
      "JRC-2cYy7OhwrsH4UsKoPI-8XUE_NbgMb6qGYHdjqE4RWB1n9As4MTT59XGGsuU2ir9d7HHb30IySg\n"
     ]
    },
    {
     "name": "stderr",
     "output_type": "stream",
     "text": [
      "\r",
      " 49%|███████████████████▊                    | 839/1695 [24:34<04:52,  2.93it/s]"
     ]
    },
    {
     "name": "stdout",
     "output_type": "stream",
     "text": [
      "jcWvLMwVHv_13qyG6WrIyaEBCTJreqw2NzcVQcWQh5hrAn9m-g9MV1u07N62OK90NM8UWtCEOEr5fg\n"
     ]
    },
    {
     "name": "stderr",
     "output_type": "stream",
     "text": [
      "\r",
      " 50%|███████████████████▊                    | 840/1695 [24:34<05:46,  2.47it/s]"
     ]
    },
    {
     "name": "stdout",
     "output_type": "stream",
     "text": [
      "UFkyHorkzy6gZmUOLkifl6Yu9pFE4BhLBaHvvfI9vBgpuug_Wg0Q7fh8ktFfzkbek1o4Mb5DCE3mMg\n"
     ]
    },
    {
     "name": "stderr",
     "output_type": "stream",
     "text": [
      "\r",
      " 50%|███████████████████▊                    | 841/1695 [24:35<06:01,  2.36it/s]"
     ]
    },
    {
     "name": "stdout",
     "output_type": "stream",
     "text": [
      "flHR14HC1AHj3WxJEq5z-aCzWE_2AIo84nuBuUH6096UBYtdqR750a-d6jXBe1QHneoYJuw8syf_gg\n"
     ]
    },
    {
     "name": "stderr",
     "output_type": "stream",
     "text": [
      "\r",
      " 50%|███████████████████▊                    | 842/1695 [24:35<05:33,  2.55it/s]"
     ]
    },
    {
     "name": "stdout",
     "output_type": "stream",
     "text": [
      "885kgSEGJPL1u48NL6Vc-NcfqFA05ISpOUDK4cyV6FmBzHh5uxDBawCVVpN20Z4PQE4kV67nr-buSw\n"
     ]
    },
    {
     "name": "stderr",
     "output_type": "stream",
     "text": [
      "\r",
      " 50%|███████████████████▉                    | 843/1695 [24:36<05:40,  2.50it/s]"
     ]
    },
    {
     "name": "stdout",
     "output_type": "stream",
     "text": [
      "ttPpSrZxvCe1gQl0FePLJI2MtQcYuspnFHZBSm4s5DSJAhcBatjiv0EdKElY5FoIyF0LwK5QC5iyuw\n"
     ]
    },
    {
     "name": "stderr",
     "output_type": "stream",
     "text": [
      "\r",
      " 50%|███████████████████▉                    | 844/1695 [24:36<05:15,  2.69it/s]"
     ]
    },
    {
     "name": "stdout",
     "output_type": "stream",
     "text": [
      "B1LBbV5U1A6xZUz2IDFZ8dmTkYdPGhCKTvojqd5u04VnQOfNrYtU8pYKsSkPXtrJfTUAKGte0FaMKA\n"
     ]
    },
    {
     "name": "stderr",
     "output_type": "stream",
     "text": [
      "\r",
      " 50%|███████████████████▉                    | 845/1695 [24:36<04:54,  2.88it/s]"
     ]
    },
    {
     "name": "stdout",
     "output_type": "stream",
     "text": [
      "ixaZNuKwIuzhwp2zH00hAPNdQTcoEE-r_cEulzGvMbfBCxPsNgprY6xu7uWTzFwjxOgjutZrADNKLQ\n"
     ]
    },
    {
     "name": "stderr",
     "output_type": "stream",
     "text": [
      "\r",
      " 50%|███████████████████▉                    | 846/1695 [24:36<04:34,  3.09it/s]"
     ]
    },
    {
     "name": "stdout",
     "output_type": "stream",
     "text": [
      "oJbW0hUc5g7Hfx1mu3nSimWkaVMDPqmMPR5lgnasPuxQ7u3uI_arMDyfFuRhO6SZxsvYIR1y2K0rhQ\n"
     ]
    },
    {
     "name": "stderr",
     "output_type": "stream",
     "text": [
      "\r",
      " 50%|███████████████████▉                    | 847/1695 [24:37<06:13,  2.27it/s]"
     ]
    },
    {
     "name": "stdout",
     "output_type": "stream",
     "text": [
      "nWax6q6LRoLdZA4gqH_xRIDbzHDSHTE7PR1hCfrPrWZ0vvxbdYZDyzaU0SX8UJShCr2gf6U8PzmUHw\n"
     ]
    },
    {
     "name": "stderr",
     "output_type": "stream",
     "text": [
      "\r",
      " 50%|████████████████████                    | 848/1695 [24:38<09:11,  1.54it/s]"
     ]
    },
    {
     "name": "stdout",
     "output_type": "stream",
     "text": [
      "ncpFmDdxAq1D2qgcu_Gluf1Vdq1QLr5MpPWuM0P0JClS2VOzYgmg4gkOxSC_GJcivrG8fcYqzSwfLg\n"
     ]
    },
    {
     "name": "stderr",
     "output_type": "stream",
     "text": [
      "\r",
      " 50%|████████████████████                    | 849/1695 [24:39<08:55,  1.58it/s]"
     ]
    },
    {
     "name": "stdout",
     "output_type": "stream",
     "text": [
      "6_J2GrqcJJFTowKbtwxqq4DNha82s4auCATvr-xAex1okkVrpP_N4W1o4_gYC7TSRBIPszKvxzxaRg\n"
     ]
    },
    {
     "name": "stderr",
     "output_type": "stream",
     "text": [
      "\r",
      " 50%|████████████████████                    | 850/1695 [24:39<07:25,  1.89it/s]"
     ]
    },
    {
     "name": "stdout",
     "output_type": "stream",
     "text": [
      "RFNhrikuxLHd-_dJcoiQf9aYUFaeKIJGLX_5oZXkpaBPvRnmxw0IwYqokYkhP5UxFr_6xe-N6wU0Nw\n"
     ]
    },
    {
     "name": "stderr",
     "output_type": "stream",
     "text": [
      "\r",
      " 50%|████████████████████                    | 851/1695 [24:40<07:19,  1.92it/s]"
     ]
    },
    {
     "name": "stdout",
     "output_type": "stream",
     "text": [
      "LVbP810uqgmuE2h8R37AvOcQnemhmtfRJ_JAGFV11BviTSiUCBg1wcPuoGrD9shs78fBguLajgvNtw\n"
     ]
    },
    {
     "name": "stderr",
     "output_type": "stream",
     "text": [
      "\r",
      " 50%|████████████████████                    | 852/1695 [24:40<06:48,  2.07it/s]"
     ]
    },
    {
     "name": "stdout",
     "output_type": "stream",
     "text": [
      "I8rUdjDGDEBJDMOY3e_3_XtZZil6SAbL41vcO9I0WUMf46CxSybeyhU3_eGTUvPz1GPSeEr937xW-Q\n"
     ]
    },
    {
     "name": "stderr",
     "output_type": "stream",
     "text": [
      "\r",
      " 50%|████████████████████▏                   | 853/1695 [24:40<06:00,  2.33it/s]"
     ]
    },
    {
     "name": "stdout",
     "output_type": "stream",
     "text": [
      "M2azVjX3e4zwR7d58APS4TPg_XY_elKO2t5pwOsmHnkqFYonyvBrzFQ6jYEic--W2RDus06upy9DRA\n"
     ]
    },
    {
     "name": "stderr",
     "output_type": "stream",
     "text": [
      "\r",
      " 50%|████████████████████▏                   | 854/1695 [24:41<05:25,  2.59it/s]"
     ]
    },
    {
     "name": "stdout",
     "output_type": "stream",
     "text": [
      "YdeK5mOLrun3Nsquv3enJl3IziQsSPmlQUvnBhVB1OHxiNFRDzfRq239Z1b0CmqtuPcrTEOweSRlOw\n"
     ]
    },
    {
     "name": "stderr",
     "output_type": "stream",
     "text": [
      "\r",
      " 50%|████████████████████▏                   | 855/1695 [24:41<04:58,  2.82it/s]"
     ]
    },
    {
     "name": "stdout",
     "output_type": "stream",
     "text": [
      "NdM-ifX6pV448w-fgqgwPqHB6bxrykHsgHGasoM7xLPUTXoL9sTJGBOpHkpZZM2Li1GsDv5gypVlpg\n"
     ]
    },
    {
     "name": "stderr",
     "output_type": "stream",
     "text": [
      "\r",
      " 51%|████████████████████▏                   | 856/1695 [24:41<04:50,  2.89it/s]"
     ]
    },
    {
     "name": "stdout",
     "output_type": "stream",
     "text": [
      "riMuXSx0IgW_5eLD-e4YO1U7EljRZL55Gz6_IWRaBQ9m1PZZfJZyprxxl0yKrjtvt-yH0UCxHusT_A\n"
     ]
    },
    {
     "name": "stderr",
     "output_type": "stream",
     "text": [
      "\r",
      " 51%|████████████████████▏                   | 857/1695 [24:42<05:15,  2.66it/s]"
     ]
    },
    {
     "name": "stdout",
     "output_type": "stream",
     "text": [
      "GJ6jyAqe7SV9otd3ig_lFDa7HlZySSoWYUlcXVpusmggLh5ZvW2iTSsE-L_lmUi2bCHgTpnp8RZXNA\n"
     ]
    },
    {
     "name": "stderr",
     "output_type": "stream",
     "text": [
      "\r",
      " 51%|████████████████████▏                   | 858/1695 [24:42<04:55,  2.84it/s]"
     ]
    },
    {
     "name": "stdout",
     "output_type": "stream",
     "text": [
      "BUi_jmsG_R6BWz2wfDbC0vJBb_VoeXHw4bhz9enmXlouB2GwC2I-L1G2t_cW2pXZ4HsqndUs5TKU5Q\n"
     ]
    },
    {
     "name": "stderr",
     "output_type": "stream",
     "text": [
      "\r",
      " 51%|████████████████████▎                   | 859/1695 [24:42<05:27,  2.55it/s]"
     ]
    },
    {
     "name": "stdout",
     "output_type": "stream",
     "text": [
      "mFRtkEHt5wbAXfVPPKq4NECDaR_YsDSM2ZupNURhBsmyWsEJMlMrmoVm1e6W-xTmAIjBl_UDZM2-1Q\n"
     ]
    },
    {
     "name": "stderr",
     "output_type": "stream",
     "text": [
      "\r",
      " 51%|████████████████████▎                   | 860/1695 [24:43<05:06,  2.73it/s]"
     ]
    },
    {
     "name": "stdout",
     "output_type": "stream",
     "text": [
      "Jb5kUYDmxb7jEaLBxAyeMHmLrNJD76IV0d16UubGQhgV9EcPJ-U46RUmfwSqA5vKtfGv0d-x1FmkjA\n"
     ]
    },
    {
     "name": "stderr",
     "output_type": "stream",
     "text": [
      "\r",
      " 51%|████████████████████▎                   | 861/1695 [24:43<04:44,  2.93it/s]"
     ]
    },
    {
     "name": "stdout",
     "output_type": "stream",
     "text": [
      "ZIi1P6UujVBmzdOd41k5YEj9EonKIbPhLxH5fjPX9ljxOcYPB4SQm9UTxD_57bVSdepMhsnYH9Lh1Q\n"
     ]
    },
    {
     "name": "stderr",
     "output_type": "stream",
     "text": [
      "\r",
      " 51%|████████████████████▎                   | 862/1695 [24:43<04:57,  2.80it/s]"
     ]
    },
    {
     "name": "stdout",
     "output_type": "stream",
     "text": [
      "hknlWjzUmgI4_8o3xvVn6Fk_Ux5ZeftyVEC9gZj7VkAPg86tPLMpThOkKMhwXcCdYPLq05Bm1bVQXA\n"
     ]
    },
    {
     "name": "stderr",
     "output_type": "stream",
     "text": [
      "\r",
      " 51%|████████████████████▎                   | 863/1695 [24:44<06:23,  2.17it/s]"
     ]
    },
    {
     "name": "stdout",
     "output_type": "stream",
     "text": [
      "ehdMqKMRHL2QisHG___fhZtPu8BVkwqlnb0Drhm4M8XEOo1mnAc2R_yqUUrWFnZrljl1Go-XxaZqiw\n"
     ]
    },
    {
     "name": "stderr",
     "output_type": "stream",
     "text": [
      "\r",
      " 51%|████████████████████▍                   | 864/1695 [24:44<05:53,  2.35it/s]"
     ]
    },
    {
     "name": "stdout",
     "output_type": "stream",
     "text": [
      "Po_cFr25wJqFQdhrDjwz9NRz_BYo4F_RbBuu7knDfFt83dfrxYki3mNyeteXi6sO9WreZaIIqEykkQ\n"
     ]
    },
    {
     "name": "stderr",
     "output_type": "stream",
     "text": [
      "\r",
      " 51%|████████████████████▍                   | 865/1695 [24:45<05:27,  2.53it/s]"
     ]
    },
    {
     "name": "stdout",
     "output_type": "stream",
     "text": [
      "zwAEpv9FN6CzGtE6j_vj2yrAhw5oy8jPuTdU6vp8CzZcQKneUenIqmupI2_ufFZ82PUPNqrJDgWdhw\n"
     ]
    },
    {
     "name": "stderr",
     "output_type": "stream",
     "text": [
      "\r",
      " 51%|████████████████████▍                   | 866/1695 [24:45<05:00,  2.76it/s]"
     ]
    },
    {
     "name": "stdout",
     "output_type": "stream",
     "text": [
      "bpW3To2TaRE6lq13tGkvuTK7jKLfHPnI9nvpvAvubAdwYXjzmHMChkhYN669ngygKdfK4tvzAoKplg\n"
     ]
    },
    {
     "name": "stderr",
     "output_type": "stream",
     "text": [
      "\r",
      " 51%|████████████████████▍                   | 867/1695 [24:46<05:17,  2.60it/s]"
     ]
    },
    {
     "name": "stdout",
     "output_type": "stream",
     "text": [
      "0P1atyRTioBZd2qvQv8LAXqF1igcRXuz6y9eI2OkNDO5r-Cq9Wq4EdS97cKrRsHLZSVoToNafPpF6A\n"
     ]
    },
    {
     "name": "stderr",
     "output_type": "stream",
     "text": [
      "\r",
      " 51%|████████████████████▍                   | 868/1695 [24:46<05:24,  2.55it/s]"
     ]
    },
    {
     "name": "stdout",
     "output_type": "stream",
     "text": [
      "rtaTPQIHdkxUM8Y8k-kJ7QD0mEmOKyzMW2Qf8YhidEueTnMng2TUafanpdiI0FS3gmazU6of7YZwTA\n"
     ]
    },
    {
     "name": "stderr",
     "output_type": "stream",
     "text": [
      "\r",
      " 51%|████████████████████▌                   | 869/1695 [24:46<05:04,  2.71it/s]"
     ]
    },
    {
     "name": "stdout",
     "output_type": "stream",
     "text": [
      "HWKaENLxR9NMkUq7sjprSxhVREhwifveqNf3JhMtt-JjB10F9zQwhxol1VfHutBva7hOw01mzCOTWg\n"
     ]
    },
    {
     "name": "stderr",
     "output_type": "stream",
     "text": [
      "\r",
      " 51%|████████████████████▌                   | 870/1695 [24:47<05:36,  2.45it/s]"
     ]
    },
    {
     "name": "stdout",
     "output_type": "stream",
     "text": [
      "SVi7gZVYs-IOQ-2JCpH_aOYk0SoXK7p4F_kiTh6Wq2kSPJ-qR4EE8_sQdrjLlWgX-4fU3uH_e6hyIQ\n"
     ]
    },
    {
     "name": "stderr",
     "output_type": "stream",
     "text": [
      "\r",
      " 51%|████████████████████▌                   | 871/1695 [24:48<07:11,  1.91it/s]"
     ]
    },
    {
     "name": "stdout",
     "output_type": "stream",
     "text": [
      "lu-Y4cDfKm9tRaM50K29dEjzqCf4M2l8UX5KtzXOWPeemqUU7M0peiexXj40S5mjlNV__wPvaQnBkQ\n"
     ]
    },
    {
     "name": "stderr",
     "output_type": "stream",
     "text": [
      "\r",
      " 51%|████████████████████▌                   | 872/1695 [24:48<08:10,  1.68it/s]"
     ]
    },
    {
     "name": "stdout",
     "output_type": "stream",
     "text": [
      "xAzbYn_XPML6e-0kyjqKqgySCQzZABlROZOKbaVrI8PKcqV4Yhx_GPiuxoPDiY3krqs-pNrroXAU2Q\n"
     ]
    },
    {
     "name": "stderr",
     "output_type": "stream",
     "text": [
      "\r",
      " 52%|████████████████████▌                   | 873/1695 [24:49<07:32,  1.81it/s]"
     ]
    },
    {
     "name": "stdout",
     "output_type": "stream",
     "text": [
      "MwKzL0iwsJAxnZPARcQBXRtulbQCenkDiCDzOFmq-8IshlTwTrH3dRGSPxHD5cgPMxJ1W243X7mj3A\n"
     ]
    },
    {
     "name": "stderr",
     "output_type": "stream",
     "text": [
      "\r",
      " 52%|████████████████████▋                   | 874/1695 [24:50<08:42,  1.57it/s]"
     ]
    },
    {
     "name": "stdout",
     "output_type": "stream",
     "text": [
      "GNcHFUXgG899Z9PEa9DVaRlUKeGpAJDT4j35ZKbf0HIUEdYwFkAW4tUsxFIfavOGuFtF4ePdOqBi0w\n"
     ]
    },
    {
     "name": "stderr",
     "output_type": "stream",
     "text": [
      "\r",
      " 52%|████████████████████▋                   | 875/1695 [24:50<08:15,  1.65it/s]"
     ]
    },
    {
     "name": "stdout",
     "output_type": "stream",
     "text": [
      "tTHuH8o4kyrw5dNXUSA8Trj2SnLS0OdQbKu1RwrKMvxrCuQtKte5ilBM5dOp2dS5V9LsbGR4anNXmQ\n"
     ]
    },
    {
     "name": "stderr",
     "output_type": "stream",
     "text": [
      "\r",
      " 52%|████████████████████▋                   | 876/1695 [24:51<08:07,  1.68it/s]"
     ]
    },
    {
     "name": "stdout",
     "output_type": "stream",
     "text": [
      "mccS2Ctz40J92szrCmWrKqyD28tbnUuMN4W6XFQUVVNqOPQSIOvi6sr7RUHVGRvyJAxNVjTDg_Jm3Q\n"
     ]
    },
    {
     "name": "stderr",
     "output_type": "stream",
     "text": [
      "\r",
      " 52%|████████████████████▋                   | 877/1695 [24:51<07:06,  1.92it/s]"
     ]
    },
    {
     "name": "stdout",
     "output_type": "stream",
     "text": [
      "sOKRL8zq8Qgj8ky5717G9edscflIKXYhSB97lGAjeJoDghQOUGTWJk4hSLP_ZOFWyajZZbBJ3gqr2g\n"
     ]
    },
    {
     "name": "stderr",
     "output_type": "stream",
     "text": [
      "\r",
      " 52%|████████████████████▋                   | 878/1695 [24:52<08:32,  1.59it/s]"
     ]
    },
    {
     "name": "stdout",
     "output_type": "stream",
     "text": [
      "27UcxGMQZefDgGDrKXE7utKzM6Q8OYtrhU0pUMGV7dP0aMkPW7LsjGnd56546r5cFTGZL5HBbCIXAg\n",
      "api cost full : infinite loop start\n",
      "loop location :  7Hj_9hT03n74fOmspWawCUpNWgKGa9unHNH4MputAYK8oXQ_xp634RElfg\n",
      "try 10 second wait time\n",
      "429\n",
      "try 10 second wait time\n",
      "429\n",
      "try 10 second wait time\n",
      "429\n",
      "try 10 second wait time\n",
      "429\n",
      "try 10 second wait time\n",
      "429\n",
      "try 10 second wait time\n",
      "429\n",
      "try 10 second wait time\n",
      "429\n",
      "try 10 second wait time\n"
     ]
    },
    {
     "name": "stderr",
     "output_type": "stream",
     "text": [
      "\r",
      " 52%|███████████████████▋                  | 879/1695 [26:14<5:42:26, 25.18s/it]"
     ]
    },
    {
     "name": "stdout",
     "output_type": "stream",
     "text": [
      "200\n",
      "total wait time :  82.18020009994507\n",
      "recovery api cost\n",
      "UedngSZsZPhEjLZAUdgSZW56en6ja3DF0yEtxM6HRhCoFlZ4B0z3T402fRhTlr2yskOYf86ckUM2pg\n"
     ]
    },
    {
     "name": "stderr",
     "output_type": "stream",
     "text": [
      "\r",
      " 52%|███████████████████▋                  | 880/1695 [26:15<4:00:42, 17.72s/it]"
     ]
    },
    {
     "name": "stdout",
     "output_type": "stream",
     "text": [
      "TNyn8D_vH7VJZsGLck9HpI3zZvnDMsryRvhNUlO2aV9vEP1xSUAtyuzdE2ILJjLB7Z_K6rHUTvF7Dg\n"
     ]
    },
    {
     "name": "stderr",
     "output_type": "stream",
     "text": [
      "\r",
      " 52%|███████████████████▊                  | 881/1695 [26:15<2:51:05, 12.61s/it]"
     ]
    },
    {
     "name": "stdout",
     "output_type": "stream",
     "text": [
      "kq6tsSDo4MiuoqnI35hZHyVda7hSHxeCv4Rn_xHDs8WW4nVf9Pi2418B4RBBq4-rgG2za2j5uegkyw\n"
     ]
    },
    {
     "name": "stderr",
     "output_type": "stream",
     "text": [
      "\r",
      " 52%|███████████████████▊                  | 882/1695 [26:16<2:00:45,  8.91s/it]"
     ]
    },
    {
     "name": "stdout",
     "output_type": "stream",
     "text": [
      "Y80TzjyHImurFzHQ5DX1XirCMIzPy9SvMSp0BRBrurYiAyP3bv0Y9MLlvG7eJa_m9kNwYu4SwCZr_g\n"
     ]
    },
    {
     "name": "stderr",
     "output_type": "stream",
     "text": [
      "\r",
      " 52%|███████████████████▊                  | 883/1695 [26:16<1:26:08,  6.37s/it]"
     ]
    },
    {
     "name": "stdout",
     "output_type": "stream",
     "text": [
      "AlGlVvMstcnFrNEEHhaWHuwvnhj_Oe1IXzcha4RIM2wseTNdxvQC7EoS1Ds0On3cbOHpZyYLLRuVZA\n"
     ]
    },
    {
     "name": "stderr",
     "output_type": "stream",
     "text": [
      "\r",
      " 52%|███████████████████▊                  | 884/1695 [26:16<1:01:16,  4.53s/it]"
     ]
    },
    {
     "name": "stdout",
     "output_type": "stream",
     "text": [
      "mbEvbcur72MiZQsNKmXTxIPe0XfZe4ayyR7rQc7NzkTpGpY4D2ANRPgxnl0pRiYOnkeaK_au5rnT9g\n"
     ]
    },
    {
     "name": "stderr",
     "output_type": "stream",
     "text": [
      "\r",
      " 52%|████████████████████▉                   | 885/1695 [26:17<44:02,  3.26s/it]"
     ]
    },
    {
     "name": "stdout",
     "output_type": "stream",
     "text": [
      "q-NUr40rQf-07M-xe0nbqRffaeagrM88fNn95SWAOXaTKLiYpgjA7LkAwoZFjltv7XWYjYKH9uEarQ\n"
     ]
    },
    {
     "name": "stderr",
     "output_type": "stream",
     "text": [
      "\r",
      " 52%|████████████████████▉                   | 886/1695 [26:17<33:52,  2.51s/it]"
     ]
    },
    {
     "name": "stdout",
     "output_type": "stream",
     "text": [
      "a1KqDKpXAqqRLZuyYe_lUZFauUlrIs9MyjoS5iuUO-FzG6FQjb5fFR3PiPN-y73U1Cys_E0iJ0r8dQ\n"
     ]
    },
    {
     "name": "stderr",
     "output_type": "stream",
     "text": [
      "\r",
      " 52%|████████████████████▉                   | 887/1695 [26:18<24:51,  1.85s/it]"
     ]
    },
    {
     "name": "stdout",
     "output_type": "stream",
     "text": [
      "IoRDPbFfN7PbTAec2aQnzDUH-RAtnYnDxFVsWL3ZgB4YxUPRjeMUga-1qwB-dhn2vxcD-75d__jVkA\n"
     ]
    },
    {
     "name": "stderr",
     "output_type": "stream",
     "text": [
      "\r",
      " 52%|████████████████████▉                   | 888/1695 [26:18<19:37,  1.46s/it]"
     ]
    },
    {
     "name": "stdout",
     "output_type": "stream",
     "text": [
      "9Jb72-4E4VAOdI2etewOvpMuN0jkiZ7XLrdMy4E8AqIT-LgpF_x7pB6TzMZ4vBASVcrbYAImvkvJpA\n"
     ]
    },
    {
     "name": "stderr",
     "output_type": "stream",
     "text": [
      "\r",
      " 52%|████████████████████▉                   | 889/1695 [26:19<16:11,  1.21s/it]"
     ]
    },
    {
     "name": "stdout",
     "output_type": "stream",
     "text": [
      "dluzlUhESe3eK9HgyCloiCrjQMXtrxFVSPpHbm6lSOEtzkonPMG7NoXc03ts0E0C2-W9Gy6YvomumA\n"
     ]
    },
    {
     "name": "stderr",
     "output_type": "stream",
     "text": [
      "\r",
      " 53%|█████████████████████                   | 890/1695 [26:19<12:59,  1.03it/s]"
     ]
    },
    {
     "name": "stdout",
     "output_type": "stream",
     "text": [
      "wyVHFvYO9kEdKmeuBEa9cVhqXInizKkzQy8nKdD4ic-zbLWOFv8NTo0hqXdlkICVyaxFfS8r13xWMg\n"
     ]
    },
    {
     "name": "stderr",
     "output_type": "stream",
     "text": [
      "\r",
      " 53%|█████████████████████                   | 891/1695 [26:20<10:29,  1.28it/s]"
     ]
    },
    {
     "name": "stdout",
     "output_type": "stream",
     "text": [
      "sdQpikvRAdw5eKHbXiIQfe8L3e6nCUuwqEsN-oqwH3PBr0ksnx06pjdO2TU1pTlGZ-RgvxLXhYlVMg\n"
     ]
    },
    {
     "name": "stderr",
     "output_type": "stream",
     "text": [
      "\r",
      " 53%|█████████████████████                   | 892/1695 [26:20<09:12,  1.45it/s]"
     ]
    },
    {
     "name": "stdout",
     "output_type": "stream",
     "text": [
      "B5zl-ajnozOETNWfzuPrR5_iBXbTsYmSrZnlftUUrgcG3V8DuqxUnk5zld0QqIsDk-NAsBFUdlHw2Q\n"
     ]
    },
    {
     "name": "stderr",
     "output_type": "stream",
     "text": [
      "\r",
      " 53%|█████████████████████                   | 893/1695 [26:20<07:33,  1.77it/s]"
     ]
    },
    {
     "name": "stdout",
     "output_type": "stream",
     "text": [
      "Mw5P0oLolt0abyjDeU_Z2ACjFLhTtFOjVYIvx5E5os5PENu8CQA_FfNnxmkAeJ_taEWR-sqSdXgXng\n"
     ]
    },
    {
     "name": "stderr",
     "output_type": "stream",
     "text": [
      "\r",
      " 53%|█████████████████████                   | 894/1695 [26:21<06:20,  2.11it/s]"
     ]
    },
    {
     "name": "stdout",
     "output_type": "stream",
     "text": [
      "i-0B7j-jiSg5i2Loo8Z11H3zVo6imGXeuczRd3j0jSTiyLV3-1GEqchy_QyZipg3LbLi2YiH8-w6qg\n"
     ]
    },
    {
     "name": "stderr",
     "output_type": "stream",
     "text": [
      "\r",
      " 53%|█████████████████████                   | 895/1695 [26:21<05:49,  2.29it/s]"
     ]
    },
    {
     "name": "stdout",
     "output_type": "stream",
     "text": [
      "Ct-JSNKepjLyPiETt-EwIIrcom2jKOSKVyCBDFKQb8NSmaG0QwbP-7oAsEUZKxNf32wO-3xdHgjlHg\n"
     ]
    },
    {
     "name": "stderr",
     "output_type": "stream",
     "text": [
      "\r",
      " 53%|█████████████████████▏                  | 896/1695 [26:21<05:16,  2.53it/s]"
     ]
    },
    {
     "name": "stdout",
     "output_type": "stream",
     "text": [
      "oDoigsNRIEz5qzj35I-FXAzSl60eHiBPsVtSpuSuYisTPgT8aPySZKrQ3spOw7lE4fo_GUC3A1Du3g\n"
     ]
    },
    {
     "name": "stderr",
     "output_type": "stream",
     "text": [
      "\r",
      " 53%|█████████████████████▏                  | 897/1695 [26:22<05:06,  2.60it/s]"
     ]
    },
    {
     "name": "stdout",
     "output_type": "stream",
     "text": [
      "xt17wZzkQGcb8vvv_gkeKYQp0FMUsGeLejfDEeQ2aMdW29C2Nsnm7tebENbasfMlbtgIUk0jYmr9JQ\n"
     ]
    },
    {
     "name": "stderr",
     "output_type": "stream",
     "text": [
      "\r",
      " 53%|█████████████████████▏                  | 898/1695 [26:22<04:33,  2.91it/s]"
     ]
    },
    {
     "name": "stdout",
     "output_type": "stream",
     "text": [
      "lw5RUk0oEGyH8T88irL9AtDRKfGdr3ju-_T8a8lGEr14hSQ2-N2kCjxkavYxogTXYnp99kuh1IsSRw\n"
     ]
    },
    {
     "name": "stderr",
     "output_type": "stream",
     "text": [
      "\r",
      " 53%|█████████████████████▏                  | 899/1695 [26:22<04:34,  2.90it/s]"
     ]
    },
    {
     "name": "stdout",
     "output_type": "stream",
     "text": [
      "IF96fA363OLym8olLDdMnqdnvRRqSyYyUP_9vekt993YJ0cCbLAuGCaQcVK58bCiMgDxVeDeOo0-Bw\n"
     ]
    },
    {
     "name": "stderr",
     "output_type": "stream",
     "text": [
      "\r",
      " 53%|█████████████████████▏                  | 900/1695 [26:23<04:22,  3.03it/s]"
     ]
    },
    {
     "name": "stdout",
     "output_type": "stream",
     "text": [
      "0pK1_-AJmyNvKSRENr0_1_NdmdFuHTi9cC6fRV_r2kGr7Lhv6hsqun9y6t5O92_Twi-KydE3njufFQ\n"
     ]
    },
    {
     "name": "stderr",
     "output_type": "stream",
     "text": [
      "\r",
      " 53%|█████████████████████▎                  | 901/1695 [26:23<04:04,  3.24it/s]"
     ]
    },
    {
     "name": "stdout",
     "output_type": "stream",
     "text": [
      "lawO5QMYC8IFOisUqOI9mJGTOI2ImkiiT8JvEUHLB8Cwj-hGcR_f1X2-atFtpi0aIjRcf4jix-Af1A\n"
     ]
    },
    {
     "name": "stderr",
     "output_type": "stream",
     "text": [
      "\r",
      " 53%|█████████████████████▎                  | 902/1695 [26:23<03:50,  3.44it/s]"
     ]
    },
    {
     "name": "stdout",
     "output_type": "stream",
     "text": [
      "8TQnTBjaB2mUV7p8Cd-FmERf7w4JgNyW-Mik1wg36B_wQ2NXQC-1224LAsOn-xQMBMuhmzKQIbU9Cg\n"
     ]
    },
    {
     "name": "stderr",
     "output_type": "stream",
     "text": [
      "\r",
      " 53%|█████████████████████▎                  | 903/1695 [26:23<03:41,  3.58it/s]"
     ]
    },
    {
     "name": "stdout",
     "output_type": "stream",
     "text": [
      "E1qh-MXPpcdlN8bJ5BlxShwohZlXsg9FfHwBXS5QvT99qNTYEPdQKq6Fvr2AbqNc1GmuFHqrMX2x5A\n"
     ]
    },
    {
     "name": "stderr",
     "output_type": "stream",
     "text": [
      "\r",
      " 53%|█████████████████████▎                  | 904/1695 [26:24<03:33,  3.71it/s]"
     ]
    },
    {
     "name": "stdout",
     "output_type": "stream",
     "text": [
      "HdQtgNvU_id4uL1z5VgV0vofA-SSQ4PvKGEH942FbrYH0jtkhE5N-LRJ5IUGFuJttV5RjFeOBHpLfg\n"
     ]
    },
    {
     "name": "stderr",
     "output_type": "stream",
     "text": [
      "\r",
      " 53%|█████████████████████▎                  | 905/1695 [26:24<05:01,  2.62it/s]"
     ]
    },
    {
     "name": "stdout",
     "output_type": "stream",
     "text": [
      "-rdEdfanCu2xWH472jAJ9MInPFNr_fb72nRhRfXvFa7uVLX51SMl-GplrJy9JYjytyPwJev3UQ9yQw\n"
     ]
    },
    {
     "name": "stderr",
     "output_type": "stream",
     "text": [
      "\r",
      " 53%|█████████████████████▍                  | 906/1695 [26:25<05:57,  2.21it/s]"
     ]
    },
    {
     "name": "stdout",
     "output_type": "stream",
     "text": [
      "BocxQ1x_IJ3uYnTOGxuawfhW1ZvEcwcFtxtVI43KGEcdPl-3XjQeXx9LJv-5ygKTZpahTaW7V0Y3yQ\n"
     ]
    },
    {
     "name": "stderr",
     "output_type": "stream",
     "text": [
      "\r",
      " 54%|█████████████████████▍                  | 907/1695 [26:25<06:34,  2.00it/s]"
     ]
    },
    {
     "name": "stdout",
     "output_type": "stream",
     "text": [
      "tgEw6HnA3G4v4tTjlVY_STrVm4MlNnE8aWZ_7PvYhLqrNASkG4VuO0gDaGjpQV3huEIivdVX83d-Xw\n"
     ]
    },
    {
     "name": "stderr",
     "output_type": "stream",
     "text": [
      "\r",
      " 54%|█████████████████████▍                  | 908/1695 [26:26<07:01,  1.87it/s]"
     ]
    },
    {
     "name": "stdout",
     "output_type": "stream",
     "text": [
      "6k37gnx-SxpLtnKfdP9_RadxH1FtbonOIt-0NSsyYy0PUIisCuuLknlDw03uBmCWpt_s4sJ7i-zmYg\n"
     ]
    },
    {
     "name": "stderr",
     "output_type": "stream",
     "text": [
      "\r",
      " 54%|█████████████████████▍                  | 909/1695 [26:26<05:53,  2.23it/s]"
     ]
    },
    {
     "name": "stdout",
     "output_type": "stream",
     "text": [
      "sh2scKwAVckMDm36dZUhq6YuF9i0xyi22FwiH2GK6y0ZjrqUSXr71bOjaaBMeL0jK-sYNW67isAfBA\n"
     ]
    },
    {
     "name": "stderr",
     "output_type": "stream",
     "text": [
      "\r",
      " 54%|█████████████████████▍                  | 910/1695 [26:27<06:21,  2.06it/s]"
     ]
    },
    {
     "name": "stdout",
     "output_type": "stream",
     "text": [
      "_a9H8H3UBNW10A4XSTWyp8-d0MTsc_xwfstuUkf16gliBQ_M2ySTZydHMQ36epxIBzZd-RqVbSpp7A\n"
     ]
    },
    {
     "name": "stderr",
     "output_type": "stream",
     "text": [
      "\r",
      " 54%|█████████████████████▍                  | 911/1695 [26:27<05:34,  2.34it/s]"
     ]
    },
    {
     "name": "stdout",
     "output_type": "stream",
     "text": [
      "uIuV7Bdg3BZXvzx0hH6UBcDtkHOc94Q1hbSLZKNdhKQvVdKhxrrLECyf3O9rFpqDIGTync-5Lk7yVg\n"
     ]
    },
    {
     "name": "stderr",
     "output_type": "stream",
     "text": [
      "\r",
      " 54%|█████████████████████▌                  | 912/1695 [26:28<05:24,  2.41it/s]"
     ]
    },
    {
     "name": "stdout",
     "output_type": "stream",
     "text": [
      "fbQZs5Aq08jN-QVTMjIgkrhYqWe9Vq14luKTC4zUzIrwm67e3HGImFaOsZYwdyGaQLZapMIYkHhOhA\n"
     ]
    },
    {
     "name": "stderr",
     "output_type": "stream",
     "text": [
      "\r",
      " 54%|█████████████████████▌                  | 913/1695 [26:28<04:52,  2.68it/s]"
     ]
    },
    {
     "name": "stdout",
     "output_type": "stream",
     "text": [
      "_Di1nYtq_geAxFVCU_oRlx_EfXEOHspyF2NIo9uGJO2YuwwK-OJQvYUek4Fo7LkoTDQFQn7wEmpY3g\n"
     ]
    },
    {
     "name": "stderr",
     "output_type": "stream",
     "text": [
      "\r",
      " 54%|█████████████████████▌                  | 914/1695 [26:28<04:24,  2.95it/s]"
     ]
    },
    {
     "name": "stdout",
     "output_type": "stream",
     "text": [
      "YUBbRVFmQw2dMc6-AHVsbbCAtVRGj4hWvEhkm7BTPsrJq1Wrk4IFepuq9R2Z4FRI5iUinof2vmJi8w\n"
     ]
    },
    {
     "name": "stderr",
     "output_type": "stream",
     "text": [
      "\r",
      " 54%|█████████████████████▌                  | 915/1695 [26:28<04:06,  3.17it/s]"
     ]
    },
    {
     "name": "stdout",
     "output_type": "stream",
     "text": [
      "XfrxXAhRF_Rvo_i2zWmPdg1gOJyGo0-T-lIA7u5WJZNMUyOJ08Oc1nLiGVaL8i1Wf3kxEmL0Qall_g\n"
     ]
    },
    {
     "name": "stderr",
     "output_type": "stream",
     "text": [
      "\r",
      " 54%|█████████████████████▌                  | 916/1695 [26:29<05:06,  2.54it/s]"
     ]
    },
    {
     "name": "stdout",
     "output_type": "stream",
     "text": [
      "Lw6sruFUcj53GXfNSiXZ9UPu2Jg96d9VRFNA7ENYSYb_8jIXOnrTXi8CQ0zJT-G3Mq4TnHFHQ7TCaA\n"
     ]
    },
    {
     "name": "stderr",
     "output_type": "stream",
     "text": [
      "\r",
      " 54%|█████████████████████▋                  | 917/1695 [26:29<04:57,  2.62it/s]"
     ]
    },
    {
     "name": "stdout",
     "output_type": "stream",
     "text": [
      "Jbe5kocTLbWGdcHGeU_-8gNLcXhjV6yHgdRaptbKqDuecu1zw7rlu328WzFTVm0OmJw-sSNA9Nv29w\n"
     ]
    },
    {
     "name": "stderr",
     "output_type": "stream",
     "text": [
      "\r",
      " 54%|█████████████████████▋                  | 918/1695 [26:30<04:28,  2.89it/s]"
     ]
    },
    {
     "name": "stdout",
     "output_type": "stream",
     "text": [
      "q8t2gXQqhawFZR5PqgH8twnDrgqZN_DoO4Q_graugsLiGj--cFixJxoP6XTRTpJRzO6uBXaES2U52g\n"
     ]
    },
    {
     "name": "stderr",
     "output_type": "stream",
     "text": [
      "\r",
      " 54%|█████████████████████▋                  | 919/1695 [26:30<05:30,  2.35it/s]"
     ]
    },
    {
     "name": "stdout",
     "output_type": "stream",
     "text": [
      "iyWc0JX4Cas6N6NoDJorlSyb0jwAY2az7rP5-dhHvWhYaCrxlpHDUKfCSNsysSPiQHYSwsPtRfeFkw\n"
     ]
    },
    {
     "name": "stderr",
     "output_type": "stream",
     "text": [
      "\r",
      " 54%|█████████████████████▋                  | 920/1695 [26:31<07:01,  1.84it/s]"
     ]
    },
    {
     "name": "stdout",
     "output_type": "stream",
     "text": [
      "LlqOFYzIEvIa3PHhasBdKeKU7B0aRvaUmiUyIHmvEV_3OFm4s5JROl9uFqz7RwF2kzP7mPt0KHFt_A\n"
     ]
    },
    {
     "name": "stderr",
     "output_type": "stream",
     "text": [
      "\r",
      " 54%|█████████████████████▋                  | 921/1695 [26:32<07:05,  1.82it/s]"
     ]
    },
    {
     "name": "stdout",
     "output_type": "stream",
     "text": [
      "jUbeMXHhYwor7Ss4lDz3q5YSfxgWLFJx9oeY0UtDrCdQIvwoq8rOnDfwsyXskz7oRV1KJm-JY-uY1w\n"
     ]
    },
    {
     "name": "stderr",
     "output_type": "stream",
     "text": [
      "\r",
      " 54%|█████████████████████▊                  | 922/1695 [26:35<17:49,  1.38s/it]"
     ]
    },
    {
     "name": "stdout",
     "output_type": "stream",
     "text": [
      "GII16U2eR8Zjdu12QQMRIQP56pzH6MCHWht6PgbokukUip9PH4UNpxQ8QnZpOTMLfAn_I2W_3S4OdQ\n"
     ]
    },
    {
     "name": "stderr",
     "output_type": "stream",
     "text": [
      "\r",
      " 54%|█████████████████████▊                  | 923/1695 [26:35<13:25,  1.04s/it]"
     ]
    },
    {
     "name": "stdout",
     "output_type": "stream",
     "text": [
      "EZg8g-D5CqEg66qxX5Qdcp4BeN7CJ2k4fmNAjo4s-qGz_wJRvm1I1igaIFEUVTEoYOzB_EbX1vK6GA\n"
     ]
    },
    {
     "name": "stderr",
     "output_type": "stream",
     "text": [
      "\r",
      " 55%|█████████████████████▊                  | 924/1695 [26:35<10:26,  1.23it/s]"
     ]
    },
    {
     "name": "stdout",
     "output_type": "stream",
     "text": [
      "3ADgYq6mPOOyoEoUhUAYb_zKbT2shLuZ6floRCOM6Jb-eH0lovyjb9fvFrHYD4IYsZj8e4SEO5qaIg\n"
     ]
    },
    {
     "name": "stderr",
     "output_type": "stream",
     "text": [
      "\r",
      " 55%|█████████████████████▊                  | 925/1695 [26:36<08:15,  1.55it/s]"
     ]
    },
    {
     "name": "stdout",
     "output_type": "stream",
     "text": [
      "ZW9HQ8jdGbHvHW90-Q3sASGQzeTF-bJpaqNUpXYuRijwm2WKPBY-ewYARClMfRcdcoGm31nKb4uBlA\n"
     ]
    },
    {
     "name": "stderr",
     "output_type": "stream",
     "text": [
      "\r",
      " 55%|█████████████████████▊                  | 926/1695 [26:36<06:52,  1.87it/s]"
     ]
    },
    {
     "name": "stdout",
     "output_type": "stream",
     "text": [
      "uYL-JSMg_E3n-47_ZpxBeFqbSf7YqoJJJw_MN0a3kQo2FbfOi8bDDGwlN2oA6OPN1POXpTuCgPvXBA\n"
     ]
    },
    {
     "name": "stderr",
     "output_type": "stream",
     "text": [
      "\r",
      " 55%|█████████████████████▉                  | 927/1695 [26:36<06:35,  1.94it/s]"
     ]
    },
    {
     "name": "stdout",
     "output_type": "stream",
     "text": [
      "0YRN9h2e0iQ0jIteEkBfaHPH942-Ksm1IMjliQrt-12sv7Q5lwEikAXwEB7kwUcH9iz19kgwZ2uM-Q\n"
     ]
    },
    {
     "name": "stderr",
     "output_type": "stream",
     "text": [
      "\r",
      " 55%|█████████████████████▉                  | 928/1695 [26:37<07:09,  1.79it/s]"
     ]
    },
    {
     "name": "stdout",
     "output_type": "stream",
     "text": [
      "2FyrPM_ZKWwkF6fm9jB7o9N01YYsmXalwyU4eNh0d7UjCTiDEaZ_6duxfMZBgVfTJRL5WcmzdAvmzg\n"
     ]
    },
    {
     "name": "stderr",
     "output_type": "stream",
     "text": [
      "\r",
      " 55%|█████████████████████▉                  | 929/1695 [26:37<05:58,  2.13it/s]"
     ]
    },
    {
     "name": "stdout",
     "output_type": "stream",
     "text": [
      "3X83ztl-fxJp_Z7i2Hhrjj8MKQVkc5LgE4tVdZN3xf5ak7anM28FXdyAylHsXeURChwcAxI2UQtClw\n"
     ]
    },
    {
     "name": "stderr",
     "output_type": "stream",
     "text": [
      "\r",
      " 55%|█████████████████████▉                  | 930/1695 [26:38<05:11,  2.45it/s]"
     ]
    },
    {
     "name": "stdout",
     "output_type": "stream",
     "text": [
      "e8NGuBgKa9d1oW_7LNhLPpDiXQI03bqFw1z9yMTIKJUb-BZZ5Lnm3aPByLEfzDm3D4RAxgU2bazEUg\n"
     ]
    },
    {
     "name": "stderr",
     "output_type": "stream",
     "text": [
      "\r",
      " 55%|█████████████████████▉                  | 931/1695 [26:38<06:14,  2.04it/s]"
     ]
    },
    {
     "name": "stdout",
     "output_type": "stream",
     "text": [
      "3IgksDMDhFE6YAACekjxxAar5gJLqqcDEw12QTq_msOWMrA5jawL957OLKLCYJzuq5qebTDvfaCw_w\n"
     ]
    },
    {
     "name": "stderr",
     "output_type": "stream",
     "text": [
      "\r",
      " 55%|█████████████████████▉                  | 932/1695 [26:39<05:22,  2.37it/s]"
     ]
    },
    {
     "name": "stdout",
     "output_type": "stream",
     "text": [
      "1Dhgjk0gk3VVVp2H1U2A1NtuhwCHBNw56u-nMReedO11hOzDYL4RfW4fjiplT7Zdn5UyV4gsP5kOIA\n"
     ]
    },
    {
     "name": "stderr",
     "output_type": "stream",
     "text": [
      "\r",
      " 55%|██████████████████████                  | 933/1695 [26:39<04:43,  2.69it/s]"
     ]
    },
    {
     "name": "stdout",
     "output_type": "stream",
     "text": [
      "ATfcmKkGg80wjBo-5sSPxD4kktpV02xpMLU5-yqyPIIyTsgvfTS57HgAs_vKnjPCZYXIUncjaIdl3Q\n"
     ]
    },
    {
     "name": "stderr",
     "output_type": "stream",
     "text": [
      "\r",
      " 55%|██████████████████████                  | 934/1695 [26:39<04:15,  2.98it/s]"
     ]
    },
    {
     "name": "stdout",
     "output_type": "stream",
     "text": [
      "3uIHSIk-wlFI3w8I4I5azZnA6cqCazoVgAKV-KQlXC1LBXO0CCH35jSRu97-w0R22inqbsAF6R6o1g\n"
     ]
    },
    {
     "name": "stderr",
     "output_type": "stream",
     "text": [
      "\r",
      " 55%|██████████████████████                  | 935/1695 [26:39<04:30,  2.81it/s]"
     ]
    },
    {
     "name": "stdout",
     "output_type": "stream",
     "text": [
      "14S791bn1jHauQGf0zJaHnedsmpiquEOHD9k5ttfbBDLVm-0cxhQSVQ0NE9zFNgVsRqB61-tZr4yRw\n"
     ]
    },
    {
     "name": "stderr",
     "output_type": "stream",
     "text": [
      "\r",
      " 55%|██████████████████████                  | 936/1695 [26:40<05:14,  2.41it/s]"
     ]
    },
    {
     "name": "stdout",
     "output_type": "stream",
     "text": [
      "Iqky5UdokDjgmD9OcslMibsghSnK1WyReWSkI8XTloOZmpP1jCnlIr0G6gjsH63l8vj_D06Y-Pv7XA\n"
     ]
    },
    {
     "name": "stderr",
     "output_type": "stream",
     "text": [
      "\r",
      " 55%|██████████████████████                  | 937/1695 [26:40<04:45,  2.65it/s]"
     ]
    },
    {
     "name": "stdout",
     "output_type": "stream",
     "text": [
      "dVUm7e825TZjM2AEHXj3e3KTa0MekULht7roOiH4fteeFwEQZniF31lWYxE7aU1tB4jIQSvq3V44Wg\n"
     ]
    },
    {
     "name": "stderr",
     "output_type": "stream",
     "text": [
      "\r",
      " 55%|██████████████████████▏                 | 938/1695 [26:41<04:55,  2.56it/s]"
     ]
    },
    {
     "name": "stdout",
     "output_type": "stream",
     "text": [
      "suK1w_zQsB0ezi6NLmquQ1On9J0mY1J9bc5QeudcaF-UxB2_TjtdalRAD6WobRLomx-asIzvYlOI7A\n"
     ]
    },
    {
     "name": "stderr",
     "output_type": "stream",
     "text": [
      "\r",
      " 55%|██████████████████████▏                 | 939/1695 [26:41<06:10,  2.04it/s]"
     ]
    },
    {
     "name": "stdout",
     "output_type": "stream",
     "text": [
      "p8AaHc1B6ch1mPJHX_2GXocfGWBndg1Kvcs75qxlUz-MQDBRNEUk5m5rZLFaArdRNrpD-Tv5Cq4hQA\n"
     ]
    },
    {
     "name": "stderr",
     "output_type": "stream",
     "text": [
      "\r",
      " 55%|██████████████████████▏                 | 940/1695 [26:42<05:16,  2.39it/s]"
     ]
    },
    {
     "name": "stdout",
     "output_type": "stream",
     "text": [
      "eENMZT4fR8_q3DILHRTzbVAVfIWQ7iI1l2iU2I-2LEsqnBubjfnU6aEVg91VBEJhUo82t_2J6NF8cA\n"
     ]
    },
    {
     "name": "stderr",
     "output_type": "stream",
     "text": [
      "\r",
      " 56%|██████████████████████▏                 | 941/1695 [26:42<04:36,  2.72it/s]"
     ]
    },
    {
     "name": "stdout",
     "output_type": "stream",
     "text": [
      "pVoheECTpAEc8t8BgFY4s8dXsAIyJfllyxH92FtOIuXmYJmVSYDd7UTuDJ2GsZQF3m-so-Oorgz8Mw\n"
     ]
    },
    {
     "name": "stderr",
     "output_type": "stream",
     "text": [
      "\r",
      " 56%|██████████████████████▏                 | 942/1695 [26:42<04:11,  3.00it/s]"
     ]
    },
    {
     "name": "stdout",
     "output_type": "stream",
     "text": [
      "vJp3F1DxS95U9XsdE3JWHh2iQouamHH3dCuOmTBxFIwKIZqOCGoqkZOh2Hcij0-1dMZ4IVMm6ALNuQ\n"
     ]
    },
    {
     "name": "stderr",
     "output_type": "stream",
     "text": [
      "\r",
      " 56%|██████████████████████▎                 | 943/1695 [26:42<03:53,  3.22it/s]"
     ]
    },
    {
     "name": "stdout",
     "output_type": "stream",
     "text": [
      "C6Hq9Pi6Tdldfnantz_2gbwXsTN4NT_bSt3dOLwxyk2PNDT4gxzIeEPWjeVJy0edHl4ya3eIQcq0qA\n"
     ]
    },
    {
     "name": "stderr",
     "output_type": "stream",
     "text": [
      "\r",
      " 56%|██████████████████████▎                 | 944/1695 [26:43<03:42,  3.38it/s]"
     ]
    },
    {
     "name": "stdout",
     "output_type": "stream",
     "text": [
      "Cga0NZ7Np43k7g8egfirGF4o5OBZ41tQWUTipFE8UwU31o3O_nKCNRnn78SE3yH3GK6Jzn2-Zmp87w\n"
     ]
    },
    {
     "name": "stderr",
     "output_type": "stream",
     "text": [
      "\r",
      " 56%|██████████████████████▎                 | 945/1695 [26:43<03:31,  3.55it/s]"
     ]
    },
    {
     "name": "stdout",
     "output_type": "stream",
     "text": [
      "D4QEhql4oga6N6fnvR7g1VAD8vZjdHeUjMU0CduLVIETBuAchBfbDjbKqcups4olFI6ZgAl-gZNz5g\n"
     ]
    },
    {
     "name": "stderr",
     "output_type": "stream",
     "text": [
      "\r",
      " 56%|██████████████████████▎                 | 946/1695 [26:43<03:31,  3.54it/s]"
     ]
    },
    {
     "name": "stdout",
     "output_type": "stream",
     "text": [
      "KpraZuDygZ6by1n_RNjMYTbYuZADSFqlPd533yIeOdv0y8PxQzZQCXBzbeOymfJOUgE9hPatJ0Ksfw\n"
     ]
    },
    {
     "name": "stderr",
     "output_type": "stream",
     "text": [
      "\r",
      " 56%|██████████████████████▎                 | 947/1695 [26:44<04:54,  2.54it/s]"
     ]
    },
    {
     "name": "stdout",
     "output_type": "stream",
     "text": [
      "2DGqHzpvZzgXOc9sPNxRU84VlMJbe9QulyGH2_THC8rS1s4AgDbxBOa_pzOo2Jsx7_6Yf1viETCnyQ\n"
     ]
    },
    {
     "name": "stderr",
     "output_type": "stream",
     "text": [
      "\r",
      " 56%|██████████████████████▎                 | 948/1695 [26:44<04:21,  2.85it/s]"
     ]
    },
    {
     "name": "stdout",
     "output_type": "stream",
     "text": [
      "ObLqq60XdjTf0M9zwCGBiZL0B0HpJTc4KvJBhmZEbu9jMMoYH3T78clCkn31UyVJN0WwpMAN2VOFiA\n"
     ]
    },
    {
     "name": "stderr",
     "output_type": "stream",
     "text": [
      "\r",
      " 56%|██████████████████████▍                 | 949/1695 [26:45<05:37,  2.21it/s]"
     ]
    },
    {
     "name": "stdout",
     "output_type": "stream",
     "text": [
      "-kIm-DdzrVgdT3QI_8qydRpW29Ff9fPqv_akkCeZ7BtjHag_YfZ_AdoIXdMWe48nIOjnrLLVwN4C9w\n"
     ]
    },
    {
     "name": "stderr",
     "output_type": "stream",
     "text": [
      "\r",
      " 56%|██████████████████████▍                 | 950/1695 [26:45<06:31,  1.90it/s]"
     ]
    },
    {
     "name": "stdout",
     "output_type": "stream",
     "text": [
      "ZMKie2b_eCL7ccSVy6Nroydc8hWFrKH9Caz1lk0sDWf9pbcucEXY5ZeZv55No9xvG31QfZfk4LYl-w\n"
     ]
    },
    {
     "name": "stderr",
     "output_type": "stream",
     "text": [
      "\r",
      " 56%|██████████████████████▍                 | 951/1695 [26:46<05:31,  2.24it/s]"
     ]
    },
    {
     "name": "stdout",
     "output_type": "stream",
     "text": [
      "hQyi6Hx2O1k2gd8ymRJKsTX36UiMAPloyksSMsLYod3r1INcr0slpJPCYtp8gK4kLSHUGvZh3CdI2g\n"
     ]
    },
    {
     "name": "stderr",
     "output_type": "stream",
     "text": [
      "\r",
      " 56%|██████████████████████▍                 | 952/1695 [26:46<04:52,  2.54it/s]"
     ]
    },
    {
     "name": "stdout",
     "output_type": "stream",
     "text": [
      "WicoLEVD0kkKJRNnuOezQrTr9sIXq6fOvKPEKIFc16pgI_HJF1eULiyNugjYp2l5jwSaxTpaQDMiEA\n"
     ]
    },
    {
     "name": "stderr",
     "output_type": "stream",
     "text": [
      "\r",
      " 56%|██████████████████████▍                 | 953/1695 [26:47<06:00,  2.06it/s]"
     ]
    },
    {
     "name": "stdout",
     "output_type": "stream",
     "text": [
      "JVlW0Cov90eTTp7lUnEsA-xkUZHowXj6sHg1ARbMgfdsEQwdw-N4f9e_c7tB4lpAObvV8d91QQC7og\n"
     ]
    },
    {
     "name": "stderr",
     "output_type": "stream",
     "text": [
      "\r",
      " 56%|██████████████████████▌                 | 954/1695 [26:47<05:09,  2.39it/s]"
     ]
    },
    {
     "name": "stdout",
     "output_type": "stream",
     "text": [
      "Q6uEr3WDfbT9m6YhRvBqjQaLtIQ23eNfhoijaEGRa8yIk2Dp4Q9SfnKHnAZ48krJUXMjDHkMVv_bNw\n"
     ]
    },
    {
     "name": "stderr",
     "output_type": "stream",
     "text": [
      "\r",
      " 56%|██████████████████████▌                 | 955/1695 [26:47<04:44,  2.60it/s]"
     ]
    },
    {
     "name": "stdout",
     "output_type": "stream",
     "text": [
      "_L1dPR_PuSlrlDDRjXivRHGGIZxHjgTx7HiYaPL3wQ5sgPuCr2lt9pzls0PQ-Ts-lLX_whA_elM3bQ\n"
     ]
    },
    {
     "name": "stderr",
     "output_type": "stream",
     "text": [
      "\r",
      " 56%|██████████████████████▌                 | 956/1695 [26:48<04:20,  2.83it/s]"
     ]
    },
    {
     "name": "stdout",
     "output_type": "stream",
     "text": [
      "nmehnZgAqnPhT7s6SCAgHumhMCtDc1pVjqIL_ClgeSxsJ2BPwg8U3uylIdStOYKAhJvOMFc8X-UzRw\n"
     ]
    },
    {
     "name": "stderr",
     "output_type": "stream",
     "text": [
      "\r",
      " 56%|██████████████████████▌                 | 957/1695 [26:48<03:59,  3.09it/s]"
     ]
    },
    {
     "name": "stdout",
     "output_type": "stream",
     "text": [
      "QtJjjVNpUAsZvrRtvm6teufCMjbn5arXN1290ICzK_rOjsbJKxps8FvDN_W3XDLBLTLrzncbPom_Iw\n"
     ]
    },
    {
     "name": "stderr",
     "output_type": "stream",
     "text": [
      "\r",
      " 57%|██████████████████████▌                 | 958/1695 [26:48<03:52,  3.17it/s]"
     ]
    },
    {
     "name": "stdout",
     "output_type": "stream",
     "text": [
      "nivvouoPA-YIVB0cBTHVYXJvYU0xCCpR0BapLTrLmelgLotBaPUoua5Ndjsz247vX6stxtvbe_036g\n"
     ]
    },
    {
     "name": "stderr",
     "output_type": "stream",
     "text": [
      "\r",
      " 57%|██████████████████████▋                 | 959/1695 [26:49<05:05,  2.41it/s]"
     ]
    },
    {
     "name": "stdout",
     "output_type": "stream",
     "text": [
      "OInEt9kwLgIScluAURa2a-Xx8U7JB3RjMYVSug6OraSV-K1QVk2eNCZXRXQbrrNA6P3axiCkV0M9VQ\n"
     ]
    },
    {
     "name": "stderr",
     "output_type": "stream",
     "text": [
      "\r",
      " 57%|██████████████████████▋                 | 960/1695 [26:49<04:45,  2.58it/s]"
     ]
    },
    {
     "name": "stdout",
     "output_type": "stream",
     "text": [
      "6N9cODQkFM7Sbvl-NSBTIfV_jBSUg_Rhb-djSTUZ-BE22mU15o0PCGd_z6H0KQR0jwkZNNEZpqsk3w\n"
     ]
    },
    {
     "name": "stderr",
     "output_type": "stream",
     "text": [
      "\r",
      " 57%|██████████████████████▋                 | 961/1695 [26:50<05:53,  2.07it/s]"
     ]
    },
    {
     "name": "stdout",
     "output_type": "stream",
     "text": [
      "0MeXOCPL1CgOf8e52Od38GgHG4ouSr_GGqdSqO91vGM6dX1KGIwTOyuURWoooGKuoS7p9vljp4jBJg\n"
     ]
    },
    {
     "name": "stderr",
     "output_type": "stream",
     "text": [
      "\r",
      " 57%|██████████████████████▋                 | 962/1695 [26:50<05:51,  2.08it/s]"
     ]
    },
    {
     "name": "stdout",
     "output_type": "stream",
     "text": [
      "lfuc5K0LErfu9OZZANUVrNoCYJvkNzhBqMPRDa065g2cipjSlEIJanAzldJuRjN1Ht0zWz5ENvyIyg\n"
     ]
    },
    {
     "name": "stderr",
     "output_type": "stream",
     "text": [
      "\r",
      " 57%|██████████████████████▋                 | 963/1695 [26:51<05:06,  2.39it/s]"
     ]
    },
    {
     "name": "stdout",
     "output_type": "stream",
     "text": [
      "X7S6i_ZlE_DK8v1sNI8GqJrV69NgejXT7GBZg-E_PMfn-0hy8_WcN87cCRhh3XTk-maGnJV0nq4Fug\n"
     ]
    },
    {
     "name": "stderr",
     "output_type": "stream",
     "text": [
      "\r",
      " 57%|██████████████████████▋                 | 964/1695 [26:51<04:28,  2.72it/s]"
     ]
    },
    {
     "name": "stdout",
     "output_type": "stream",
     "text": [
      "Qe6JSPeuAbWuuY1W4D_4ys5JiDe48FJjbIpiHz12f53DUSrO1-Opm8arqB3-y3NLbz3r66QIwL-OYA\n"
     ]
    },
    {
     "name": "stderr",
     "output_type": "stream",
     "text": [
      "\r",
      " 57%|██████████████████████▊                 | 965/1695 [26:51<04:04,  2.99it/s]"
     ]
    },
    {
     "name": "stdout",
     "output_type": "stream",
     "text": [
      "22VJqCM8gux5t5OITlLOvvulWxVDXOnBtyjFSXIHiCq1A9VMUi1ZV2FHDBspxX-vD69aJPlLKuhgkA\n"
     ]
    },
    {
     "name": "stderr",
     "output_type": "stream",
     "text": [
      "\r",
      " 57%|██████████████████████▊                 | 966/1695 [26:51<03:56,  3.09it/s]"
     ]
    },
    {
     "name": "stdout",
     "output_type": "stream",
     "text": [
      "h1gNkq5R6-pxguEgj1DLjdIFuWoc4Jj1zr7mJsZwqylbp1PQcVR2r2HKE1hrOsU8GLfUrH4FvZn84A\n"
     ]
    },
    {
     "name": "stderr",
     "output_type": "stream",
     "text": [
      "\r",
      " 57%|██████████████████████▊                 | 967/1695 [26:52<03:45,  3.24it/s]"
     ]
    },
    {
     "name": "stdout",
     "output_type": "stream",
     "text": [
      "fE__REQeZAIxGwGK99h1JuqnZAo1VUQ5v7HHF2gcPzliliD4b1bL9NGqmBuniRmynmQwr8nCepdMaQ\n"
     ]
    },
    {
     "name": "stderr",
     "output_type": "stream",
     "text": [
      "\r",
      " 57%|██████████████████████▊                 | 968/1695 [26:52<04:53,  2.48it/s]"
     ]
    },
    {
     "name": "stdout",
     "output_type": "stream",
     "text": [
      "xtQHCksVeMN39jpBvUc_XLps2FyRxNRS4vXbf9QjGJhp5OhzAHd196ayN_-V3uczmK0V_OQsyX61tQ\n"
     ]
    },
    {
     "name": "stderr",
     "output_type": "stream",
     "text": [
      "\r",
      " 57%|██████████████████████▊                 | 969/1695 [26:53<04:18,  2.80it/s]"
     ]
    },
    {
     "name": "stdout",
     "output_type": "stream",
     "text": [
      "1OP37DIeyuJQNdnUWEfZ5MDNGEYwbTsuFNHC8XxokxHuOkw_E4nI6EZehDXMjGQfd6uzyH9hqWSUcA\n"
     ]
    },
    {
     "name": "stderr",
     "output_type": "stream",
     "text": [
      "\r",
      " 57%|██████████████████████▉                 | 970/1695 [26:53<03:58,  3.04it/s]"
     ]
    },
    {
     "name": "stdout",
     "output_type": "stream",
     "text": [
      "nPPFMQfgN0evrE_1Vmd6GihmY91avQ2tZtLU0mt16pNC54sc8Xuc2KSpyI1EAzmhJgNzlp0NzyXFOw\n"
     ]
    },
    {
     "name": "stderr",
     "output_type": "stream",
     "text": [
      "\r",
      " 57%|██████████████████████▉                 | 971/1695 [26:53<04:40,  2.58it/s]"
     ]
    },
    {
     "name": "stdout",
     "output_type": "stream",
     "text": [
      "3aJcxVUTMd3UBbYlY-WqnD_jDO2Vi12Fb9Rjow79_kh4elKB5xdd4NvIRaMS9gjcRQFSmPrba9yFlw\n"
     ]
    },
    {
     "name": "stderr",
     "output_type": "stream",
     "text": [
      "\r",
      " 57%|██████████████████████▉                 | 972/1695 [26:54<05:16,  2.28it/s]"
     ]
    },
    {
     "name": "stdout",
     "output_type": "stream",
     "text": [
      "vIVF5YKZ421Dici7M-KNCrpQqcAyuvWcmXuKJSWgqIyPN82ydBu7W0YPBQKzLsrb3z2VdpYFw9UnNg\n"
     ]
    },
    {
     "name": "stderr",
     "output_type": "stream",
     "text": [
      "\r",
      " 57%|██████████████████████▉                 | 973/1695 [26:54<04:57,  2.42it/s]"
     ]
    },
    {
     "name": "stdout",
     "output_type": "stream",
     "text": [
      "kh9o_okZzJlBSz3QGmgoQVjp3I6QAK0Uu9NBTiuKC87T9gprwvYCjzVwFqXHxwPIYcJpz8_qFbKu0Q\n"
     ]
    },
    {
     "name": "stderr",
     "output_type": "stream",
     "text": [
      "\r",
      " 57%|██████████████████████▉                 | 974/1695 [26:54<04:31,  2.65it/s]"
     ]
    },
    {
     "name": "stdout",
     "output_type": "stream",
     "text": [
      "1KSg7cYTFuygfGiFTRZOGXu0wP8HIOH2QkHO-EWsyPA4v7mL0mBvgBWXqMtx-6Qzl1ezALoB7SS1VQ\n"
     ]
    },
    {
     "name": "stderr",
     "output_type": "stream",
     "text": [
      "\r",
      " 58%|███████████████████████                 | 975/1695 [26:55<04:03,  2.96it/s]"
     ]
    },
    {
     "name": "stdout",
     "output_type": "stream",
     "text": [
      "w-PyOQhKXghq9KGzf-AVAj06HhBPtgM1rmNtSTq3vdtNhTGRBryP-zak2lbCnXmrMvN5c5OXOWPhZA\n"
     ]
    },
    {
     "name": "stderr",
     "output_type": "stream",
     "text": [
      "\r",
      " 58%|███████████████████████                 | 976/1695 [26:55<03:51,  3.11it/s]"
     ]
    },
    {
     "name": "stdout",
     "output_type": "stream",
     "text": [
      "SQe8xC8VoMCW369P-J3hh4Pb28eiqeYD4sQzj8QYNl4euJkYpQF4ZMJpK15A9-XZaJWkw_7575s7Pw\n"
     ]
    },
    {
     "name": "stderr",
     "output_type": "stream",
     "text": [
      "\r",
      " 58%|███████████████████████                 | 977/1695 [26:55<04:03,  2.95it/s]"
     ]
    },
    {
     "name": "stdout",
     "output_type": "stream",
     "text": [
      "3-UVZREcrCOgwG34P5qxxNpBkZIKq_Vln3Er_5aA9Mo9mfHur4sV3cIO3FOSPsCvU_LjKdj-LIDEJg\n"
     ]
    },
    {
     "name": "stderr",
     "output_type": "stream",
     "text": [
      "\r",
      " 58%|███████████████████████                 | 978/1695 [26:56<03:53,  3.07it/s]"
     ]
    },
    {
     "name": "stdout",
     "output_type": "stream",
     "text": [
      "NQirtPT93APmOCddeeOYkxMboZEm0rOMX4dXGmcew9jZOgdMwXupQK_FW7w-pYone4ergXmCbKSrrQ\n",
      "api cost full : infinite loop start\n",
      "loop location :  qsiZpAoOG_vgzFtNMCM-WwW1FwGZepH4sfy7TZHDKyMLOmU\n",
      "try 10 second wait time\n",
      "429\n",
      "try 10 second wait time\n",
      "429\n",
      "try 10 second wait time\n",
      "429\n",
      "try 10 second wait time\n",
      "429\n",
      "try 10 second wait time\n",
      "429\n",
      "try 10 second wait time\n",
      "429\n",
      "try 10 second wait time\n",
      "429\n",
      "try 10 second wait time\n"
     ]
    },
    {
     "name": "stderr",
     "output_type": "stream",
     "text": [
      "\r",
      " 58%|█████████████████████▉                | 979/1695 [28:17<4:52:36, 24.52s/it]"
     ]
    },
    {
     "name": "stdout",
     "output_type": "stream",
     "text": [
      "200\n",
      "total wait time :  80.76350116729736\n",
      "recovery api cost\n",
      "3NwKE_wVZ-M0PLVTDHcJIvBn5LPuRslY6tgmqVFLrsY31IPesEzI1p7dgcUYvUqILCkWBuAPWZYxvA\n"
     ]
    },
    {
     "name": "stderr",
     "output_type": "stream",
     "text": [
      "\r",
      " 58%|█████████████████████▉                | 980/1695 [28:17<3:26:43, 17.35s/it]"
     ]
    },
    {
     "name": "stdout",
     "output_type": "stream",
     "text": [
      "gQxdYSAHywi6bP1bOJY1SZ-DgG8M6jUIaxm94BkGFJI9LbbfLH8Dq0KbpEDCSxdtvSVqaIWO9QQKOA\n"
     ]
    },
    {
     "name": "stderr",
     "output_type": "stream",
     "text": [
      "\r",
      " 58%|█████████████████████▉                | 981/1695 [28:18<2:26:42, 12.33s/it]"
     ]
    },
    {
     "name": "stdout",
     "output_type": "stream",
     "text": [
      "bIosmCX4yiaVSLlu4dPOhRhVXbSXtaWABqokp4N0mdoDT9klFi6JHGA9vQWHBZSDr7mSsjEAKXeKJA\n"
     ]
    },
    {
     "name": "stderr",
     "output_type": "stream",
     "text": [
      "\r",
      " 58%|██████████████████████                | 982/1695 [28:18<1:43:25,  8.70s/it]"
     ]
    },
    {
     "name": "stdout",
     "output_type": "stream",
     "text": [
      "mG1vSZU2IhxPdPvkb8lgAjCGVI5zUnXK6BSn87pFCeBdPmbSqMTMmV7onQkmdl3XKUuohhpEcI7M4Q\n"
     ]
    },
    {
     "name": "stderr",
     "output_type": "stream",
     "text": [
      "\r",
      " 58%|██████████████████████                | 983/1695 [28:18<1:13:11,  6.17s/it]"
     ]
    },
    {
     "name": "stdout",
     "output_type": "stream",
     "text": [
      "QA8ufKgoua-m1RWHMnKLkc9zBicmA5Di_ZLdWpkNEv2BYST-rSWxqMPVQDJyV8Iah1AsPiuWYZbY8g\n"
     ]
    },
    {
     "name": "stderr",
     "output_type": "stream",
     "text": [
      "\r",
      " 58%|███████████████████████▏                | 984/1695 [28:19<52:04,  4.39s/it]"
     ]
    },
    {
     "name": "stdout",
     "output_type": "stream",
     "text": [
      "7NY1n6Je2Tak_3qhPBXFHFo37GNbtl2_bJltgF8AESjVEMMMr5aLJFn8pz4-P9P_ImvaoYswMIS_Kw\n"
     ]
    },
    {
     "name": "stderr",
     "output_type": "stream",
     "text": [
      "\r",
      " 58%|███████████████████████▏                | 985/1695 [28:19<38:48,  3.28s/it]"
     ]
    },
    {
     "name": "stdout",
     "output_type": "stream",
     "text": [
      "tPRg9N6NiTNOTu_Kc0NcCmTpGk1st0Uhbt4OZFI-VjSqiCa3qNITIv5TEBQe26y13uQOlpNNiqSQFg\n"
     ]
    },
    {
     "name": "stderr",
     "output_type": "stream",
     "text": [
      "\r",
      " 58%|███████████████████████▎                | 986/1695 [28:20<28:03,  2.37s/it]"
     ]
    },
    {
     "name": "stdout",
     "output_type": "stream",
     "text": [
      "nq2scRrVY-fbsigFQK5lCp7Tcb-r0PuUvBuFWwQ91-wckYgPZT3M2b3Uvj0NEkkAZGZ-43LDxGcawA\n"
     ]
    },
    {
     "name": "stderr",
     "output_type": "stream",
     "text": [
      "\r",
      " 58%|███████████████████████▎                | 987/1695 [28:20<22:18,  1.89s/it]"
     ]
    },
    {
     "name": "stdout",
     "output_type": "stream",
     "text": [
      "AVtUnJ_SMiCdTWpZIZ_1aeULLZK4Yzgy-H68VCh4pICjwef4lQi7KrD2YYxV7UmTSy_FzJ2DCDCKfw\n"
     ]
    },
    {
     "name": "stderr",
     "output_type": "stream",
     "text": [
      "\r",
      " 58%|███████████████████████▎                | 988/1695 [28:21<16:57,  1.44s/it]"
     ]
    },
    {
     "name": "stdout",
     "output_type": "stream",
     "text": [
      "kOyo98EWo6ZpWzrPOuEgXXW6EiXdZfzfjp0su3mUhGq1fzCdaXJJtILViJHAQoyL8Bl7Gl-pOvnCIw\n"
     ]
    },
    {
     "name": "stderr",
     "output_type": "stream",
     "text": [
      "\r",
      " 58%|███████████████████████▎                | 989/1695 [28:21<13:11,  1.12s/it]"
     ]
    },
    {
     "name": "stdout",
     "output_type": "stream",
     "text": [
      "hOKWIFUXmUPQCwd5kOaKLAQSFW9X_vWF2lS2WhrHo8Wt-yCeuc2XoCvu8ngDeH2jjzG1lJwnDIrwQA\n"
     ]
    },
    {
     "name": "stderr",
     "output_type": "stream",
     "text": [
      "\r",
      " 58%|███████████████████████▎                | 990/1695 [28:22<10:44,  1.09it/s]"
     ]
    },
    {
     "name": "stdout",
     "output_type": "stream",
     "text": [
      "x3LOyASMk6rhwpnx1FO53M44YtKQ1w5uIFZR0oOlq4cpU0jpuRuKSVwTLtPSNGcymorfeIAfLHEd_g\n"
     ]
    },
    {
     "name": "stderr",
     "output_type": "stream",
     "text": [
      "\r",
      " 58%|███████████████████████▍                | 991/1695 [28:22<08:53,  1.32it/s]"
     ]
    },
    {
     "name": "stdout",
     "output_type": "stream",
     "text": [
      "A-2WACdM01FCoUsWDpIjFuuAfuVSL_Xayrl-hqQzJvGdmsaVSUmk_zajMqcUpJNivzJO6w29n0dMZA\n"
     ]
    },
    {
     "name": "stderr",
     "output_type": "stream",
     "text": [
      "\r",
      " 59%|███████████████████████▍                | 992/1695 [28:23<09:36,  1.22it/s]"
     ]
    },
    {
     "name": "stdout",
     "output_type": "stream",
     "text": [
      "Kfw48s4UpFq53PGZNuxdEuIP0QFE5BB99xF5A8S1HmEbdI7o4fsMruGKODd27BheaOcfZXAZtYgMww\n"
     ]
    },
    {
     "name": "stderr",
     "output_type": "stream",
     "text": [
      "\r",
      " 59%|███████████████████████▍                | 993/1695 [28:23<08:08,  1.44it/s]"
     ]
    },
    {
     "name": "stdout",
     "output_type": "stream",
     "text": [
      "C3tdecqiiTPmffJXAyvTp5csab7A9mCp1Kd4yCUwlD1O2gGuEvYCM-YMlDKZ3PYWZxQ85nYVhAh26Q\n"
     ]
    },
    {
     "name": "stderr",
     "output_type": "stream",
     "text": [
      "\r",
      " 59%|███████████████████████▍                | 994/1695 [28:24<08:14,  1.42it/s]"
     ]
    },
    {
     "name": "stdout",
     "output_type": "stream",
     "text": [
      "3NeFw2fJ-oUh17BMURSrNapYs71eNh7gj8rcrgUHIrDYFmdzKGIVxy0BU9nD5wpJlzNA7VKiuoS9Sw\n"
     ]
    },
    {
     "name": "stderr",
     "output_type": "stream",
     "text": [
      "\r",
      " 59%|███████████████████████▍                | 995/1695 [28:24<06:39,  1.75it/s]"
     ]
    },
    {
     "name": "stdout",
     "output_type": "stream",
     "text": [
      "fyDiUY_l4McKE8MEH0cZulCeFwrKgv0HGsO_N2W-06J0lcDHjJJdhsHZBvl4UuknxPkrCU8MSxazjQ\n"
     ]
    },
    {
     "name": "stderr",
     "output_type": "stream",
     "text": [
      "\r",
      " 59%|███████████████████████▌                | 996/1695 [28:25<06:45,  1.72it/s]"
     ]
    },
    {
     "name": "stdout",
     "output_type": "stream",
     "text": [
      "vOj_h7LhYr23uOAcJyGmyRinygk9v_mvcD9ZMX3C18PbXiOTieHRiZWgRkKctmhGL5IK3IcduwrF1w\n"
     ]
    },
    {
     "name": "stderr",
     "output_type": "stream",
     "text": [
      "\r",
      " 59%|███████████████████████▌                | 997/1695 [28:26<07:22,  1.58it/s]"
     ]
    },
    {
     "name": "stdout",
     "output_type": "stream",
     "text": [
      "BgPpm8UtZX8wleq0nMDy2vIXuFB2nA4WxSS0Vx59rzes_SnGo8ui3J4IGpcoYWAiAco1RQI0ITAsWg\n"
     ]
    },
    {
     "name": "stderr",
     "output_type": "stream",
     "text": [
      "\r",
      " 59%|███████████████████████▌                | 998/1695 [28:28<12:21,  1.06s/it]"
     ]
    },
    {
     "name": "stdout",
     "output_type": "stream",
     "text": [
      "oDueoWXVgCdBC1yMJN4uMLp5LEtXL0-zrXd1iR5MsDLyNaREJc_iBXmY46gdbQW3XzsSve9VW9xkoA\n"
     ]
    },
    {
     "name": "stderr",
     "output_type": "stream",
     "text": [
      "\r",
      " 59%|███████████████████████▌                | 999/1695 [28:28<09:41,  1.20it/s]"
     ]
    },
    {
     "name": "stdout",
     "output_type": "stream",
     "text": [
      "GkKq1aIKD77mD6Idzgk_agIXsoVz5ArNVoo3xHJp-awURBAOMJ06SqnbjkKxXgDCsz_vQgTULHkmlw\n"
     ]
    },
    {
     "name": "stderr",
     "output_type": "stream",
     "text": [
      "\r",
      " 59%|███████████████████████                | 1000/1695 [28:29<09:59,  1.16it/s]"
     ]
    },
    {
     "name": "stdout",
     "output_type": "stream",
     "text": [
      "2XXaL3YYWY0S7184DnEi7gjZnIi-e73wk75MOiYuPdjwMNSwtZNLwiUrn6RQd_3MkaAUWUMmE41afQ\n"
     ]
    },
    {
     "name": "stderr",
     "output_type": "stream",
     "text": [
      "\r",
      " 59%|███████████████████████                | 1001/1695 [28:30<11:15,  1.03it/s]"
     ]
    },
    {
     "name": "stdout",
     "output_type": "stream",
     "text": [
      "FiMOT-wQCJLVYfvxwngI-uW5m79oRwO2MUt5nhYt8kP2A_mmaFxeGSipXxi7WGLBl96Z2Ocyjze0fw\n"
     ]
    },
    {
     "name": "stderr",
     "output_type": "stream",
     "text": [
      "\r",
      " 59%|███████████████████████                | 1002/1695 [28:31<12:08,  1.05s/it]"
     ]
    },
    {
     "name": "stdout",
     "output_type": "stream",
     "text": [
      "XCG7XEreiGo-AH9brgjwe4ZhfGMlmgobznWl60BxbMIRPep8chaAcdyKAAjJxLXepK7pvWLX4nEP6g\n"
     ]
    },
    {
     "name": "stderr",
     "output_type": "stream",
     "text": [
      "\r",
      " 59%|███████████████████████                | 1003/1695 [28:32<11:18,  1.02it/s]"
     ]
    },
    {
     "name": "stdout",
     "output_type": "stream",
     "text": [
      "TueJn4uDIuD_g0tfWdv2MLOdgzrXpkQX6cp3k8hEmaTEiy0BesGD8U8IuW0VbZU2Hh-9WHm-eGUNIA\n"
     ]
    },
    {
     "name": "stderr",
     "output_type": "stream",
     "text": [
      "\r",
      " 59%|███████████████████████                | 1004/1695 [28:32<08:44,  1.32it/s]"
     ]
    },
    {
     "name": "stdout",
     "output_type": "stream",
     "text": [
      "FvDB8fA8FA48Uiq9Gv9d6kpafnykcayVM69csxqk57F6JA-ZysAVmrRAsJaviZDvRfYfJVhj0dv36w\n"
     ]
    },
    {
     "name": "stderr",
     "output_type": "stream",
     "text": [
      "\r",
      " 59%|███████████████████████                | 1005/1695 [28:33<07:00,  1.64it/s]"
     ]
    },
    {
     "name": "stdout",
     "output_type": "stream",
     "text": [
      "skBQpNHhSRy5vjVDnHbb-HU77bDfh8ojadrtVSOXncprFf8ahK3_W2J7Qhya2AOCyK1W7DbmRQcv0w\n"
     ]
    },
    {
     "name": "stderr",
     "output_type": "stream",
     "text": [
      "\r",
      " 59%|███████████████████████▏               | 1006/1695 [28:34<08:05,  1.42it/s]"
     ]
    },
    {
     "name": "stdout",
     "output_type": "stream",
     "text": [
      "cxv8m8-hJvZap1YgnozL2nsQL_uUwrA-9pErXjE1opg2_Br1ezvnmKxieTJD-Xboiw1_pb0J34Dpwg\n"
     ]
    },
    {
     "name": "stderr",
     "output_type": "stream",
     "text": [
      "\r",
      " 59%|███████████████████████▏               | 1007/1695 [28:34<06:36,  1.74it/s]"
     ]
    },
    {
     "name": "stdout",
     "output_type": "stream",
     "text": [
      "s938sv-JNrDUJlKNAV0sBTzX01xHAUKXTAxgFj-GKZCFCfOLZQ2O43t8zD22TmH5WOznyYYh-fjwQw\n"
     ]
    },
    {
     "name": "stderr",
     "output_type": "stream",
     "text": [
      "\r",
      " 59%|███████████████████████▏               | 1008/1695 [28:35<08:29,  1.35it/s]"
     ]
    },
    {
     "name": "stdout",
     "output_type": "stream",
     "text": [
      "8dRBmElkr9bp9niDT-PGPnIpKxoWtRyOjo3ZulZ4LIb2NAygERCB0A0Nqw6OUcFsl0_yVlU9k-ZM6Q\n"
     ]
    },
    {
     "name": "stderr",
     "output_type": "stream",
     "text": [
      "\r",
      " 60%|███████████████████████▏               | 1009/1695 [28:36<07:38,  1.50it/s]"
     ]
    },
    {
     "name": "stdout",
     "output_type": "stream",
     "text": [
      "mjfnrC8Da-ONIMNEQlHIVLpStBWY52HEnIccl2sfb1foBi-6FFg_LYaNrqgmVG6WeqTBI2tNa_vCbQ\n"
     ]
    },
    {
     "name": "stderr",
     "output_type": "stream",
     "text": [
      "\r",
      " 60%|███████████████████████▏               | 1010/1695 [28:36<07:57,  1.43it/s]"
     ]
    },
    {
     "name": "stdout",
     "output_type": "stream",
     "text": [
      "nZYNf_v_lqnW2hE-eYiPR8PWkiCRvTG9Ki5Vptf0Vu_u8FbqNHVd2vOdNZ1C4CwU_PhrB3-QXyNzXQ\n"
     ]
    },
    {
     "name": "stderr",
     "output_type": "stream",
     "text": [
      "\r",
      " 60%|███████████████████████▎               | 1011/1695 [28:37<07:39,  1.49it/s]"
     ]
    },
    {
     "name": "stdout",
     "output_type": "stream",
     "text": [
      "5ncswwv222lZFMBUQ2Bi6RXwXXyfT4OSd86Vox8Lihyo3TpDjwGyxtZiq5OkPKwqhgRV_tXj3ipEXA\n"
     ]
    },
    {
     "name": "stderr",
     "output_type": "stream",
     "text": [
      "\r",
      " 60%|███████████████████████▎               | 1012/1695 [28:37<06:14,  1.83it/s]"
     ]
    },
    {
     "name": "stdout",
     "output_type": "stream",
     "text": [
      "MY1xuOuyyszJuKxBnfUXyRw72VBos0cYsO84-iNZMsYAxjx8vpIZuZxkQfF0Rbm08VDtJbQrF7VqXw\n"
     ]
    },
    {
     "name": "stderr",
     "output_type": "stream",
     "text": [
      "\r",
      " 60%|███████████████████████▎               | 1013/1695 [28:37<05:13,  2.17it/s]"
     ]
    },
    {
     "name": "stdout",
     "output_type": "stream",
     "text": [
      "cAc1Jjlw0rD4-SYsypzG_Eze2fEbPfIujY_soY9P7HZsSmoYUaHnOfKwciK2KWvOxL5bPzdIShjyNQ\n"
     ]
    },
    {
     "name": "stderr",
     "output_type": "stream",
     "text": [
      "\r",
      " 60%|███████████████████████▎               | 1014/1695 [28:38<04:32,  2.50it/s]"
     ]
    },
    {
     "name": "stdout",
     "output_type": "stream",
     "text": [
      "G0_IjWu678O57VGfq2mrMgUqZsuzBvPxPmwiNWz9Lm3r_Ho_T6p4q7DkPa2SMt6LJOhemck1qQZwpA\n"
     ]
    },
    {
     "name": "stderr",
     "output_type": "stream",
     "text": [
      "\r",
      " 60%|███████████████████████▎               | 1015/1695 [28:39<06:48,  1.66it/s]"
     ]
    },
    {
     "name": "stdout",
     "output_type": "stream",
     "text": [
      "IQOXVul3QStZXgrtHxGMkiImHXQjH8Pa_rbkeQbvx2vMHd4AnEXxq5rpnQ1HCIJPaw_fvsexCsHUEw\n"
     ]
    },
    {
     "name": "stderr",
     "output_type": "stream",
     "text": [
      "\r",
      " 60%|███████████████████████▍               | 1016/1695 [28:40<07:32,  1.50it/s]"
     ]
    },
    {
     "name": "stdout",
     "output_type": "stream",
     "text": [
      "HNYb3wjlGOf3uICdxqVEfNxgq-9Onaw-T91gJQhGV-KRPWuKsyGou28Qms1G0oBqVwFBh3S6G1D2rA\n"
     ]
    },
    {
     "name": "stderr",
     "output_type": "stream",
     "text": [
      "\r",
      " 60%|███████████████████████▍               | 1017/1695 [28:40<06:14,  1.81it/s]"
     ]
    },
    {
     "name": "stdout",
     "output_type": "stream",
     "text": [
      "Z7Vt8CcwYjCMsQvmcRSVht6YRFRd6NEuGWqqjaPkE9nikOq_pFn6hYDhVl7SvdgHa2Rej5ln53qyvg\n"
     ]
    },
    {
     "name": "stderr",
     "output_type": "stream",
     "text": [
      "\r",
      " 60%|███████████████████████▍               | 1018/1695 [28:40<05:46,  1.95it/s]"
     ]
    },
    {
     "name": "stdout",
     "output_type": "stream",
     "text": [
      "VBrKnQL99WMFZRvk4HLpEgSb6icFmFM9rRnLj5v8DvfRVyM0D6hNo42Nm27Axt7wO97x8L3TsPi88Q\n"
     ]
    },
    {
     "name": "stderr",
     "output_type": "stream",
     "text": [
      "\r",
      " 60%|███████████████████████▍               | 1019/1695 [28:41<05:06,  2.20it/s]"
     ]
    },
    {
     "name": "stdout",
     "output_type": "stream",
     "text": [
      "CtwQyQw47HcayPft9q98d-uKyITt8k2XYLQ6LJlysV5tTBkYCCeQFQ-I9faypfbwy0mfXLkpol4pEw\n"
     ]
    },
    {
     "name": "stderr",
     "output_type": "stream",
     "text": [
      "\r",
      " 60%|███████████████████████▍               | 1020/1695 [28:42<08:25,  1.34it/s]"
     ]
    },
    {
     "name": "stdout",
     "output_type": "stream",
     "text": [
      "WOzfPf03VnyPsFm15CPOs59P-NGVkYU2eqrSed0rFFmqXvbluiOwT7w3YznBgZLMJotAdJ07ajSTuw\n"
     ]
    },
    {
     "name": "stderr",
     "output_type": "stream",
     "text": [
      "\r",
      " 60%|███████████████████████▍               | 1021/1695 [28:43<10:01,  1.12it/s]"
     ]
    },
    {
     "name": "stdout",
     "output_type": "stream",
     "text": [
      "sczEzRit3fOm5m3BhZ-gbkCdAGg79BIs81LvvBPwbxjzy8T9jx_iBQUo_zX5KlM6jLif7F5fbggiTA\n"
     ]
    },
    {
     "name": "stderr",
     "output_type": "stream",
     "text": [
      "\r",
      " 60%|███████████████████████▌               | 1022/1695 [28:45<11:08,  1.01it/s]"
     ]
    },
    {
     "name": "stdout",
     "output_type": "stream",
     "text": [
      "uYUi4hjsBn-3XOhdIJtYgJAN6310u9cWzqOBkNQYhbfUtRe07ULNznJHbLIMfC5RFFR9Vq0GeC1eCw\n"
     ]
    },
    {
     "name": "stderr",
     "output_type": "stream",
     "text": [
      "\r",
      " 60%|███████████████████████▌               | 1023/1695 [28:46<12:08,  1.08s/it]"
     ]
    },
    {
     "name": "stdout",
     "output_type": "stream",
     "text": [
      "xb0MHKlJ2jexOPKCTV6lZxE3cQOZ675VeO7YEXh8g-0U_dTf1mCQc3CRtKw875_UKTr28V_7NpudIA\n"
     ]
    },
    {
     "name": "stderr",
     "output_type": "stream",
     "text": [
      "\r",
      " 60%|███████████████████████▌               | 1024/1695 [28:47<11:41,  1.05s/it]"
     ]
    },
    {
     "name": "stdout",
     "output_type": "stream",
     "text": [
      "O3_Uj5s3SIybvgNA7lH7DpRwNKlVKGqJsAnQT6NZNvpby1mfA2wScyjZm7olgAWvvfKLuKJ3WB5ILw\n"
     ]
    },
    {
     "name": "stderr",
     "output_type": "stream",
     "text": [
      "\r",
      " 60%|███████████████████████▌               | 1025/1695 [28:47<09:11,  1.22it/s]"
     ]
    },
    {
     "name": "stdout",
     "output_type": "stream",
     "text": [
      "6UNkFqKIxeFfu51PfzUZ7NfCG9YsG5nvpsfyOlc3MZ9N9Rr1xvCaffuKLE-77VFD5k3eWSuWyQEO2A\n"
     ]
    },
    {
     "name": "stderr",
     "output_type": "stream",
     "text": [
      "\r",
      " 61%|███████████████████████▌               | 1026/1695 [28:48<09:31,  1.17it/s]"
     ]
    },
    {
     "name": "stdout",
     "output_type": "stream",
     "text": [
      "hpRoO50dxYOqUMU-8b22miaqb_nClj5K6GoMYXLe4cFa6H_uVgVQwplsegcq3JfBj-TgOGDyMxqWqA\n"
     ]
    },
    {
     "name": "stderr",
     "output_type": "stream",
     "text": [
      "\r",
      " 61%|███████████████████████▋               | 1027/1695 [28:49<10:04,  1.11it/s]"
     ]
    },
    {
     "name": "stdout",
     "output_type": "stream",
     "text": [
      "2T7INE6T-I3Q-GfqObQCRiN4VE2DH0EoIu7Q79nIPOgem8u1HynVdop-AYMEXYOdLN6qdoI-09u9kA\n"
     ]
    },
    {
     "name": "stderr",
     "output_type": "stream",
     "text": [
      "\r",
      " 61%|███████████████████████▋               | 1028/1695 [28:49<08:23,  1.33it/s]"
     ]
    },
    {
     "name": "stdout",
     "output_type": "stream",
     "text": [
      "AtY4_txcFuvkcYINd_KBQwxsf8H-2iwESpgXsGC6abvwFhnvOxZKygJle_vyHjzDAf8y6sa-P79T5w\n"
     ]
    },
    {
     "name": "stderr",
     "output_type": "stream",
     "text": [
      "\r",
      " 61%|███████████████████████▋               | 1029/1695 [28:50<09:17,  1.19it/s]"
     ]
    },
    {
     "name": "stdout",
     "output_type": "stream",
     "text": [
      "U1aZg-iz7gm6vDVDBKAKuCrbu_YbHTlySMd_Q4wSd-pSUEvhs3Ndmt0kRn4Y1rjJLJ8XzKdlXFCGjg\n"
     ]
    },
    {
     "name": "stderr",
     "output_type": "stream",
     "text": [
      "\r",
      " 61%|███████████████████████▋               | 1030/1695 [28:52<10:35,  1.05it/s]"
     ]
    },
    {
     "name": "stdout",
     "output_type": "stream",
     "text": [
      "naNVbhV5H5mUtH2nTT87TiCkz4yQfft2N0ow9R6aCoobJ8CmhbL--IRcmb6QRWHusem4bc6SLS9MUg\n"
     ]
    },
    {
     "name": "stderr",
     "output_type": "stream",
     "text": [
      "\r",
      " 61%|███████████████████████▋               | 1031/1695 [28:52<08:20,  1.33it/s]"
     ]
    },
    {
     "name": "stdout",
     "output_type": "stream",
     "text": [
      "JEdUv2ARUjAzQFlsSvY2_jwJTYkZtgPXQE68xfPa5oKmKmsHjT7tOsWitkHXBLoLhwFC_1FwVbPbUQ\n"
     ]
    },
    {
     "name": "stderr",
     "output_type": "stream",
     "text": [
      "\r",
      " 61%|███████████████████████▋               | 1032/1695 [28:53<08:57,  1.23it/s]"
     ]
    },
    {
     "name": "stdout",
     "output_type": "stream",
     "text": [
      "_Wn6bqljzyE3QiJs-ZCBViy31dbvDqWZkwq7jatZ9VCaVSVsmYcBL8ol_ElgJ38XjSMarahwwcz0FQ\n"
     ]
    },
    {
     "name": "stderr",
     "output_type": "stream",
     "text": [
      "\r",
      " 61%|███████████████████████▊               | 1033/1695 [28:53<07:04,  1.56it/s]"
     ]
    },
    {
     "name": "stdout",
     "output_type": "stream",
     "text": [
      "De5SdqbuJvYE0xjuJOz6dza0AskeRZyBi2F3d5Dg6xRAm-H9PapnOmLJCeSMmWmnc9v8KAvYxZQvjA\n"
     ]
    },
    {
     "name": "stderr",
     "output_type": "stream",
     "text": [
      "\r",
      " 61%|███████████████████████▊               | 1034/1695 [28:54<07:30,  1.47it/s]"
     ]
    },
    {
     "name": "stdout",
     "output_type": "stream",
     "text": [
      "Y01OkXkesUIKqDFpvwndtd5zAd2XmJ6o2qfN5R_JqrywIoS8vpikTaiiA6kjockIQrdNwUxQOUFEFA\n"
     ]
    },
    {
     "name": "stderr",
     "output_type": "stream",
     "text": [
      "\r",
      " 61%|███████████████████████▊               | 1035/1695 [28:54<06:05,  1.81it/s]"
     ]
    },
    {
     "name": "stdout",
     "output_type": "stream",
     "text": [
      "mRRj1OCsybxvc62rAjRC-efuyq16w2ybFLmEHsWeu1DPVBN4W76gcuys8iCdDbE2K_gAsJX1kXZE_A\n"
     ]
    },
    {
     "name": "stderr",
     "output_type": "stream",
     "text": [
      "\r",
      " 61%|███████████████████████▊               | 1036/1695 [28:54<05:09,  2.13it/s]"
     ]
    },
    {
     "name": "stdout",
     "output_type": "stream",
     "text": [
      "NusRjnLiqWN81PVxbLsHg4E7W4IzYrv3B0oiqzl0TJIfEjwURCdkSHA29ed8ogVTZS3-9cl6dZdX1Q\n"
     ]
    },
    {
     "name": "stderr",
     "output_type": "stream",
     "text": [
      "\r",
      " 61%|███████████████████████▊               | 1037/1695 [28:55<05:16,  2.08it/s]"
     ]
    },
    {
     "name": "stdout",
     "output_type": "stream",
     "text": [
      "B07KsGyKnqDvvmG-yw0TgSeMEEM0FfgXgaZ_9GTYhcu2_QPCd2GVNIVnKEbPuwHWQwpalUhClaNyfg\n"
     ]
    },
    {
     "name": "stderr",
     "output_type": "stream",
     "text": [
      "\r",
      " 61%|███████████████████████▉               | 1038/1695 [28:56<05:40,  1.93it/s]"
     ]
    },
    {
     "name": "stdout",
     "output_type": "stream",
     "text": [
      "JpBELF1Ha95Zlspj3AG-hZvh0n2KrrLiFaPb1VQShQAWoTsaLwd7hn5KqTMN571lhz0XQnfcTe0QpQ\n"
     ]
    },
    {
     "name": "stderr",
     "output_type": "stream",
     "text": [
      "\r",
      " 61%|███████████████████████▉               | 1039/1695 [28:56<04:54,  2.23it/s]"
     ]
    },
    {
     "name": "stdout",
     "output_type": "stream",
     "text": [
      "0KRmPCtDTEcDS3TyqBZVNiMGaAzW3a0gGM_eBIInofCSpkbJLETl4_3PuFGTOmC9Gy5iHQAB_K5PQQ\n"
     ]
    },
    {
     "name": "stderr",
     "output_type": "stream",
     "text": [
      "\r",
      " 61%|███████████████████████▉               | 1040/1695 [28:57<07:51,  1.39it/s]"
     ]
    },
    {
     "name": "stdout",
     "output_type": "stream",
     "text": [
      "d5WTStd9cSctShaWjNfsvCTovZ_NvsGu-_Virs-mNIPSC59ad_xZQqGHQa_uIAJsrWIA3uYYAtKjjQ\n"
     ]
    },
    {
     "name": "stderr",
     "output_type": "stream",
     "text": [
      "\r",
      " 61%|███████████████████████▉               | 1041/1695 [28:58<09:30,  1.15it/s]"
     ]
    },
    {
     "name": "stdout",
     "output_type": "stream",
     "text": [
      "_FWCbAmLBrcad4bNEcMBNuvQGNxBP5zMs4ZhpDKYWV0H8nUP_a35XMR9YhSbQZqTTMdTJ_SR7mX1ZA\n"
     ]
    },
    {
     "name": "stderr",
     "output_type": "stream",
     "text": [
      "\r",
      " 61%|███████████████████████▉               | 1042/1695 [28:59<09:59,  1.09it/s]"
     ]
    },
    {
     "name": "stdout",
     "output_type": "stream",
     "text": [
      "E5cDngYLbpvCCqhUaItgC-eDxhWCGWMXRefXk56XEiuuz-my7X7VPW_ci-K-AN1GCoLTtw4nkAyB2Q\n"
     ]
    },
    {
     "name": "stderr",
     "output_type": "stream",
     "text": [
      "\r",
      " 62%|███████████████████████▉               | 1043/1695 [29:01<11:25,  1.05s/it]"
     ]
    },
    {
     "name": "stdout",
     "output_type": "stream",
     "text": [
      "3ZduakoUbcsUwOZW1VT-5lTBjCbOgKkmI4K9C6pY7V5L8daW76MQFdaNXEZqo0RUuyB9r8c1kx9tJQ\n"
     ]
    },
    {
     "name": "stderr",
     "output_type": "stream",
     "text": [
      "\r",
      " 62%|████████████████████████               | 1044/1695 [29:02<12:13,  1.13s/it]"
     ]
    },
    {
     "name": "stdout",
     "output_type": "stream",
     "text": [
      "H8h855ABYLukRaCSkbVPttY06_mSklWHfqH1KxqBBn5iYK_udW947V8Yt9zaYD0rk0l8rDI5AGNY7w\n"
     ]
    },
    {
     "name": "stderr",
     "output_type": "stream",
     "text": [
      "\r",
      " 62%|████████████████████████               | 1045/1695 [29:03<11:51,  1.10s/it]"
     ]
    },
    {
     "name": "stdout",
     "output_type": "stream",
     "text": [
      "KtWaCDvgu_lnyCzRxD0FOeEwoZKsA_ZDD6zS9TNEOlREMC7Atnaxa81aPEV1Ctsg1sW8BT5Yahxpiw\n"
     ]
    },
    {
     "name": "stderr",
     "output_type": "stream",
     "text": [
      "\r",
      " 62%|████████████████████████               | 1046/1695 [29:04<11:36,  1.07s/it]"
     ]
    },
    {
     "name": "stdout",
     "output_type": "stream",
     "text": [
      "yBCa5mIDtmKcq9ZNvzYovNzk47G_jpZEluAqEWaqo3uTI082DaVKuj_xrxB9fyP6FVgVathNcVnPgA\n"
     ]
    },
    {
     "name": "stderr",
     "output_type": "stream",
     "text": [
      "\r",
      " 62%|████████████████████████               | 1047/1695 [29:05<09:10,  1.18it/s]"
     ]
    },
    {
     "name": "stdout",
     "output_type": "stream",
     "text": [
      "l9ZkAyhJ49uCxGDGeKvOxLf0WotjDuWRbJhCx3NYePt9lcWbsWWNwHIG2d9_Z7IZI9Ik3YbK4gI_tw\n"
     ]
    },
    {
     "name": "stderr",
     "output_type": "stream",
     "text": [
      "\r",
      " 62%|████████████████████████               | 1048/1695 [29:05<09:20,  1.15it/s]"
     ]
    },
    {
     "name": "stdout",
     "output_type": "stream",
     "text": [
      "7ll2MJvj4iKDKIndJBmmMCCCIjUPXFNbiUnF-R0DN_GVdiveNHIIIuilHiuyuZWfil1MIp1vws9h7g\n"
     ]
    },
    {
     "name": "stderr",
     "output_type": "stream",
     "text": [
      "\r",
      " 62%|████████████████████████▏              | 1049/1695 [29:06<07:32,  1.43it/s]"
     ]
    },
    {
     "name": "stdout",
     "output_type": "stream",
     "text": [
      "SPXE8nB78mQmTF1yqeRZPwAKmOTj8MFAVSSFPCspQ0xe4LQh0cawxcpMv4LvCmKNvaVda3LKy4eX2w\n"
     ]
    },
    {
     "name": "stderr",
     "output_type": "stream",
     "text": [
      "\r",
      " 62%|████████████████████████▏              | 1050/1695 [29:06<06:43,  1.60it/s]"
     ]
    },
    {
     "name": "stdout",
     "output_type": "stream",
     "text": [
      "DFI7IKYj-TFW8JVtHCoccRN8wvW496cbRinZQw4M1scQXEZqH_N-3ngLxtvjsv08VsNSBbwbjmgR-g\n"
     ]
    },
    {
     "name": "stderr",
     "output_type": "stream",
     "text": [
      "\r",
      " 62%|████████████████████████▏              | 1051/1695 [29:07<06:51,  1.57it/s]"
     ]
    },
    {
     "name": "stdout",
     "output_type": "stream",
     "text": [
      "h7D3k7SH3xElioOVvrupufaTa-ffOlF07PyuNyVOGt1CdB7Kck-4HHXNMhaXgew98dRhPu7gTsm7qQ\n"
     ]
    },
    {
     "name": "stderr",
     "output_type": "stream",
     "text": [
      "\r",
      " 62%|████████████████████████▏              | 1052/1695 [29:07<06:45,  1.58it/s]"
     ]
    },
    {
     "name": "stdout",
     "output_type": "stream",
     "text": [
      "qAGiaq6Rf_aRbKuldJKpmm5n1VytS_NdGobp0l4zghYKu5yA7MBrVH5DtkvzVJcVNVYATOwIO15tZw\n"
     ]
    },
    {
     "name": "stderr",
     "output_type": "stream",
     "text": [
      "\r",
      " 62%|████████████████████████▏              | 1053/1695 [29:08<08:00,  1.34it/s]"
     ]
    },
    {
     "name": "stdout",
     "output_type": "stream",
     "text": [
      "tzbNaQWtMJIXkET-W_FLMZcbJz6DUu_bxNGWjJGTOucl_gC5REworv1a5xOeTxi5Vq__4wUC01uGYQ\n"
     ]
    },
    {
     "name": "stderr",
     "output_type": "stream",
     "text": [
      "\r",
      " 62%|████████████████████████▎              | 1054/1695 [29:09<07:55,  1.35it/s]"
     ]
    },
    {
     "name": "stdout",
     "output_type": "stream",
     "text": [
      "QOqnccsYMk9SCYViMDiwN72WlJe_W_eaneubmyUllIV3GvUGs7tLkpY3ZgcwntuZ4M6-VaL9RksQ7Q\n"
     ]
    },
    {
     "name": "stderr",
     "output_type": "stream",
     "text": [
      "\r",
      " 62%|████████████████████████▎              | 1055/1695 [29:09<06:26,  1.66it/s]"
     ]
    },
    {
     "name": "stdout",
     "output_type": "stream",
     "text": [
      "5cCPFNYw1xLNoRsgtooHRMqe7xC5JuDstphdjLGlGO3MlnBk9a9fY4hrGscB5Szhg80WW22yHflYlA\n"
     ]
    },
    {
     "name": "stderr",
     "output_type": "stream",
     "text": [
      "\r",
      " 62%|████████████████████████▎              | 1056/1695 [29:10<05:57,  1.79it/s]"
     ]
    },
    {
     "name": "stdout",
     "output_type": "stream",
     "text": [
      "J78ew-c_6rlnWAGi2ArdEDbSetIOV0jPX3It_d3hOXMdqKW8XZNiMSIJgni_91dIXeZPNraVSI19ag\n"
     ]
    },
    {
     "name": "stderr",
     "output_type": "stream",
     "text": [
      "\r",
      " 62%|████████████████████████▎              | 1057/1695 [29:10<05:12,  2.04it/s]"
     ]
    },
    {
     "name": "stdout",
     "output_type": "stream",
     "text": [
      "if2xVxve1xukDoda8BlrL1c-trB0b6MkcuX9lLZXzKUE8gaxUeXfntqKtMgR9ZuBHltGEqeBn1ybfw\n"
     ]
    },
    {
     "name": "stderr",
     "output_type": "stream",
     "text": [
      "\r",
      " 62%|████████████████████████▎              | 1058/1695 [29:11<04:24,  2.41it/s]"
     ]
    },
    {
     "name": "stdout",
     "output_type": "stream",
     "text": [
      "uXjhGjO4_AsWPnhjbZMZHNyERLab7cuS4mJ7aVtY0KSzOTnYyDgi9Yv1knV8M0J0_yZ9GYP32bhyVQ\n"
     ]
    },
    {
     "name": "stderr",
     "output_type": "stream",
     "text": [
      "\r",
      " 62%|████████████████████████▎              | 1059/1695 [29:11<05:44,  1.85it/s]"
     ]
    },
    {
     "name": "stdout",
     "output_type": "stream",
     "text": [
      "kmkx979LA4yNUHoCa594C0eGbqsU9E171djsrqsvGXWM7EW978l97_T47zibw2o9kuEpJRNoZr5d2w\n"
     ]
    },
    {
     "name": "stderr",
     "output_type": "stream",
     "text": [
      "\r",
      " 63%|████████████████████████▍              | 1060/1695 [29:12<04:50,  2.19it/s]"
     ]
    },
    {
     "name": "stdout",
     "output_type": "stream",
     "text": [
      "ibiLMdO64suP4bPw-1iW7hDJJ8cDIBqLxzHE4jcO3lK0Ww6e1tqIIZc6KcUCJgTT4rAbDWD2ZZqR8w\n"
     ]
    },
    {
     "name": "stderr",
     "output_type": "stream",
     "text": [
      "\r",
      " 63%|████████████████████████▍              | 1061/1695 [29:12<04:09,  2.54it/s]"
     ]
    },
    {
     "name": "stdout",
     "output_type": "stream",
     "text": [
      "Eb1thh8Yf79fS9UO2pTqD_EeF5C73PFqbppEikrHjdNhe3iwmxMwUcTldaeUWBbU-rNUqKGdhmCMYQ\n"
     ]
    },
    {
     "name": "stderr",
     "output_type": "stream",
     "text": [
      "\r",
      " 63%|████████████████████████▍              | 1062/1695 [29:12<03:53,  2.71it/s]"
     ]
    },
    {
     "name": "stdout",
     "output_type": "stream",
     "text": [
      "iz4dBqz30YWHmqNPBkRiXfpWw-THWVlfscZjjgvUSK1syeVP44dL0OYlaNesLZZVJmghGeDMOWgnjw\n"
     ]
    },
    {
     "name": "stderr",
     "output_type": "stream",
     "text": [
      "\r",
      " 63%|████████████████████████▍              | 1063/1695 [29:12<03:32,  2.98it/s]"
     ]
    },
    {
     "name": "stdout",
     "output_type": "stream",
     "text": [
      "5HAvT9iAPorYw1GLZQ9SwkdiMWA_Y7n9DTc4xc2W66h0zBsmVHtTr5pjgRhs9JujPsi9__6-akFy4Q\n"
     ]
    },
    {
     "name": "stderr",
     "output_type": "stream",
     "text": [
      "\r",
      " 63%|████████████████████████▍              | 1064/1695 [29:13<03:19,  3.17it/s]"
     ]
    },
    {
     "name": "stdout",
     "output_type": "stream",
     "text": [
      "grVKsRVt47XC9GlEOLyxfJ_MiElbQXeCsTEcfz9V_SHRA04IajEPkwGc16RYpLlSvyVIUvoeacZYGQ\n"
     ]
    },
    {
     "name": "stderr",
     "output_type": "stream",
     "text": [
      "\r",
      " 63%|████████████████████████▌              | 1065/1695 [29:13<03:05,  3.39it/s]"
     ]
    },
    {
     "name": "stdout",
     "output_type": "stream",
     "text": [
      "jdgFj2Tl_mqUN8azoW_eYTAsaBN99Uk8omoZEsjibruJ_HvLA3KLBqkaX6JEuB8WllDlOJLiFlG3KQ\n"
     ]
    },
    {
     "name": "stderr",
     "output_type": "stream",
     "text": [
      "\r",
      " 63%|████████████████████████▌              | 1066/1695 [29:14<04:14,  2.47it/s]"
     ]
    },
    {
     "name": "stdout",
     "output_type": "stream",
     "text": [
      "EtC9NOcvHMlmLqQ-ZyCcFu-2KmuHDf0hb-lV7mcbB7qYSmXm6c2ibnvQMdU9EEQCu8im5iUe8AAl4Q\n"
     ]
    },
    {
     "name": "stderr",
     "output_type": "stream",
     "text": [
      "\r",
      " 63%|████████████████████████▌              | 1067/1695 [29:14<03:45,  2.79it/s]"
     ]
    },
    {
     "name": "stdout",
     "output_type": "stream",
     "text": [
      "iPon68UqJWGoMsfYyQv4Dbzukd2BG8LtTcWqR4VvKcQMeM_gzPVMuAWI2Fjp3A4e04-zxxGDYXi54A\n"
     ]
    },
    {
     "name": "stderr",
     "output_type": "stream",
     "text": [
      "\r",
      " 63%|████████████████████████▌              | 1068/1695 [29:14<03:28,  3.01it/s]"
     ]
    },
    {
     "name": "stdout",
     "output_type": "stream",
     "text": [
      "KaifNFrg7eey3QJR347JWlSsGvQUmrOwpEnek19HQR1sP1Z5fjlbL2F0R_aMPTAMWDGUx9h2V2xdPw\n"
     ]
    },
    {
     "name": "stderr",
     "output_type": "stream",
     "text": [
      "\r",
      " 63%|████████████████████████▌              | 1069/1695 [29:14<03:26,  3.03it/s]"
     ]
    },
    {
     "name": "stdout",
     "output_type": "stream",
     "text": [
      "f2gXVSiYYnKYyJnQaV88CwUZBJYIUOegm0EKRo9m6i4ZAQlB7u9u0sIHylJqO0zNtpiTjypxLNCnIQ\n"
     ]
    },
    {
     "name": "stderr",
     "output_type": "stream",
     "text": [
      "\r",
      " 63%|████████████████████████▌              | 1070/1695 [29:15<05:31,  1.89it/s]"
     ]
    },
    {
     "name": "stdout",
     "output_type": "stream",
     "text": [
      "Jh8y-MJW0e5JzXrJVYnJv2PyUeG_CyxAZ1b0lZ1h29iZfx50JB8mkQ4i5qdQFuUw4hDFZ4DxgLXb-Q\n"
     ]
    },
    {
     "name": "stderr",
     "output_type": "stream",
     "text": [
      "\r",
      " 63%|████████████████████████▋              | 1071/1695 [29:16<05:10,  2.01it/s]"
     ]
    },
    {
     "name": "stdout",
     "output_type": "stream",
     "text": [
      "52G7ezOpHGrCct-oE94kFdMR-1Y02QRKeKOLS-Bm2X_hsO2D3bY9NPMmAX5x-73ax5rw2wzaexhVyg\n"
     ]
    },
    {
     "name": "stderr",
     "output_type": "stream",
     "text": [
      "\r",
      " 63%|████████████████████████▋              | 1072/1695 [29:16<04:33,  2.28it/s]"
     ]
    },
    {
     "name": "stdout",
     "output_type": "stream",
     "text": [
      "0E09zvJAnaMIrPtResVxgvHnCLHAEPfuK-KdbCO51tkVnTy_Yz9_qVhkk3Jawd8NSw7GulNjzf3G6Q\n"
     ]
    },
    {
     "name": "stderr",
     "output_type": "stream",
     "text": [
      "\r",
      " 63%|████████████████████████▋              | 1073/1695 [29:17<04:16,  2.43it/s]"
     ]
    },
    {
     "name": "stdout",
     "output_type": "stream",
     "text": [
      "L5WvEG545jIjcsfBnnbuU4mBdWx6UkAiE2oaSFRozcQBEm41bqKiDpHLFU1KTCm931ZRsGuWdxEAjw\n"
     ]
    },
    {
     "name": "stderr",
     "output_type": "stream",
     "text": [
      "\r",
      " 63%|████████████████████████▋              | 1074/1695 [29:17<04:00,  2.58it/s]"
     ]
    },
    {
     "name": "stdout",
     "output_type": "stream",
     "text": [
      "gxdCmBsMb-Xx9oxvRarFVnG1VT40DylKhhgBQQ-9GbegEhImVnP_agglu0v2IVqlqMNKEBFrZyhduA\n"
     ]
    },
    {
     "name": "stderr",
     "output_type": "stream",
     "text": [
      "\r",
      " 63%|████████████████████████▋              | 1075/1695 [29:17<03:41,  2.80it/s]"
     ]
    },
    {
     "name": "stdout",
     "output_type": "stream",
     "text": [
      "pm4-g0_MUO00HKurgxYpCU4Tar8uFtVom6YN2tBPrlZEm8ybpflpUCp3reo6Yib7Iyv3w6l7VyuCGg\n"
     ]
    },
    {
     "name": "stderr",
     "output_type": "stream",
     "text": [
      "\r",
      " 63%|████████████████████████▊              | 1076/1695 [29:17<03:30,  2.94it/s]"
     ]
    },
    {
     "name": "stdout",
     "output_type": "stream",
     "text": [
      "hjn49JHAjXYHb0bABMitxNrc7puj_Au5mz3yDTBji-u-k5hU5oHOHAjHqNzSUREyNxp8D9jP83SJQQ\n"
     ]
    },
    {
     "name": "stderr",
     "output_type": "stream",
     "text": [
      "\r",
      " 64%|████████████████████████▊              | 1077/1695 [29:18<03:17,  3.13it/s]"
     ]
    },
    {
     "name": "stdout",
     "output_type": "stream",
     "text": [
      "yu9Q7CJ2sXcrru_cr1p3pxpnHbSdI0lcyk5k2-1XlS3UEBUvPRleAkHOQpFcy4eidxhmKfXUnRbIzw\n"
     ]
    },
    {
     "name": "stderr",
     "output_type": "stream",
     "text": [
      "\r",
      " 64%|████████████████████████▊              | 1078/1695 [29:18<03:05,  3.33it/s]"
     ]
    },
    {
     "name": "stdout",
     "output_type": "stream",
     "text": [
      "X-XwPU24wDLEnlea3jmERN_slQ7F8A55HmiO_ZxxAsqqxhq9xPySow0A3vO2HNAi0tMyvBm8sDe5KQ\n",
      "api cost full : infinite loop start\n",
      "loop location :  SqGHnV7PKd3L1AG4BVbCqYkkI-VRDgja9sjgXHBBfDCxxMFUjI0kNAM24g\n",
      "try 10 second wait time\n",
      "429\n",
      "try 10 second wait time\n",
      "429\n",
      "try 10 second wait time\n",
      "429\n",
      "try 10 second wait time\n",
      "429\n",
      "try 10 second wait time\n",
      "429\n",
      "try 10 second wait time\n"
     ]
    },
    {
     "name": "stderr",
     "output_type": "stream",
     "text": [
      "\r",
      " 64%|███████████████████████▌             | 1079/1695 [30:20<3:12:29, 18.75s/it]"
     ]
    },
    {
     "name": "stdout",
     "output_type": "stream",
     "text": [
      "200\n",
      "total wait time :  61.58977222442627\n",
      "recovery api cost\n",
      "TEROUc8Hkq30u1sO9IKvm14wBwT4QU_XvRntgXped96jjyZoAKwi03tEdnP2L154M-UBAQqqIHpUPA\n"
     ]
    },
    {
     "name": "stderr",
     "output_type": "stream",
     "text": [
      "\r",
      " 64%|███████████████████████▌             | 1080/1695 [30:20<2:15:17, 13.20s/it]"
     ]
    },
    {
     "name": "stdout",
     "output_type": "stream",
     "text": [
      "-VuNGvUMUXtMcGu5NOfkFDBDmKHIg5zN_d7z9mCJF31py2VujqbHqmTUJJqmHrbOpWOIHFo4xPB4eA\n"
     ]
    },
    {
     "name": "stderr",
     "output_type": "stream",
     "text": [
      "\r",
      " 64%|███████████████████████▌             | 1081/1695 [30:20<1:35:21,  9.32s/it]"
     ]
    },
    {
     "name": "stdout",
     "output_type": "stream",
     "text": [
      "m_VV2HBMZ3iKehGNGr9BtTTnsYQnpcD-bYLCxAGoOr4wYMXHA5nfL1VGoo2MOA5HMKKNdKZXsRxYrw\n"
     ]
    },
    {
     "name": "stderr",
     "output_type": "stream",
     "text": [
      "\r",
      " 64%|███████████████████████▌             | 1082/1695 [30:21<1:07:48,  6.64s/it]"
     ]
    },
    {
     "name": "stdout",
     "output_type": "stream",
     "text": [
      "TbNLKL2P1OHE1S6Byto85okVzKsQlIw7Dv8Ufixadam21FNHwphd9mqGLvKyfkaA_xX5UG46FNrHEQ\n"
     ]
    },
    {
     "name": "stderr",
     "output_type": "stream",
     "text": [
      "\r",
      " 64%|████████████████████████▉              | 1083/1695 [30:21<49:00,  4.81s/it]"
     ]
    },
    {
     "name": "stdout",
     "output_type": "stream",
     "text": [
      "r1ZAKjJrAfxIHsjnZXIwYDGU5xM__-5H-xePguL_-p8RPvbu4_65F7WwGwBT37tqlcfkOWX_SuTYXQ\n"
     ]
    },
    {
     "name": "stderr",
     "output_type": "stream",
     "text": [
      "\r",
      " 64%|████████████████████████▉              | 1084/1695 [30:22<35:23,  3.48s/it]"
     ]
    },
    {
     "name": "stdout",
     "output_type": "stream",
     "text": [
      "0FH5PXZ7BLrAHJTFwi-8qhLGvP0B0otLYXVeXyLTF6xAnCCyoJjlvOPe0ehMzOmJx9ILeS2ezagtBg\n"
     ]
    },
    {
     "name": "stderr",
     "output_type": "stream",
     "text": [
      "\r",
      " 64%|████████████████████████▉              | 1085/1695 [30:22<26:42,  2.63s/it]"
     ]
    },
    {
     "name": "stdout",
     "output_type": "stream",
     "text": [
      "iwshOnlxA2FZOzeLpKEEeSYOc14t-PSqGv87tny0s6h9cG_gcbLstiX_ynmhcsKmFm6JFwOU0x-Ebg\n"
     ]
    },
    {
     "name": "stderr",
     "output_type": "stream",
     "text": [
      "\r",
      " 64%|████████████████████████▉              | 1086/1695 [30:22<19:27,  1.92s/it]"
     ]
    },
    {
     "name": "stdout",
     "output_type": "stream",
     "text": [
      "zbniZej6cSb8qBg3xjva-muL33nWNsILYiskET65QB_nrvYZganqqIVwtauJYsARUo_ov8SaKnHsCQ\n"
     ]
    },
    {
     "name": "stderr",
     "output_type": "stream",
     "text": [
      "\r",
      " 64%|█████████████████████████              | 1087/1695 [30:23<14:37,  1.44s/it]"
     ]
    },
    {
     "name": "stdout",
     "output_type": "stream",
     "text": [
      "3CylZ8bX8-y7N2a_BTbtgDHcVLV_HrQw0OMhPaUDFwApCP_aqb-vZ2p5GDzJXiPkAn13sHCE-6mxPw\n"
     ]
    },
    {
     "name": "stderr",
     "output_type": "stream",
     "text": [
      "\r",
      " 64%|█████████████████████████              | 1088/1695 [30:23<10:58,  1.08s/it]"
     ]
    },
    {
     "name": "stdout",
     "output_type": "stream",
     "text": [
      "yRKMRSJcWmcvBdFeddlXIENLmJ12lyMGmcDBF8RfOxtcEi9OJqwkwF7VXTttodh7j7WVoGhcLbukgA\n"
     ]
    },
    {
     "name": "stderr",
     "output_type": "stream",
     "text": [
      "\r",
      " 64%|█████████████████████████              | 1089/1695 [30:23<08:40,  1.16it/s]"
     ]
    },
    {
     "name": "stdout",
     "output_type": "stream",
     "text": [
      "3l1Mz-3r73yAM0RsCv6DC19Kim2ryorVt_GZhJ4_xrLc0JY4PpzOW4QkHJKKhoWB44G1DaWghEHjPg\n"
     ]
    },
    {
     "name": "stderr",
     "output_type": "stream",
     "text": [
      "\r",
      " 64%|█████████████████████████              | 1090/1695 [30:24<07:14,  1.39it/s]"
     ]
    },
    {
     "name": "stdout",
     "output_type": "stream",
     "text": [
      "5TrFw1GAn8a4rz2To5-2_Piu23UkS6f9wiJ4zqV747-s9RSlA29IkfTx_RQ6CiFb-JXFhOXlrTy1JA\n"
     ]
    },
    {
     "name": "stderr",
     "output_type": "stream",
     "text": [
      "\r",
      " 64%|█████████████████████████              | 1091/1695 [30:24<05:50,  1.72it/s]"
     ]
    },
    {
     "name": "stdout",
     "output_type": "stream",
     "text": [
      "n0DcR_6JXApm5nY0Ck1Zidw6-W1XWQMFAzGy6x_-GRLiajmywrpGdM1w-gN3gqnJQoIO_WPFnjhpKQ\n"
     ]
    },
    {
     "name": "stderr",
     "output_type": "stream",
     "text": [
      "\r",
      " 64%|█████████████████████████▏             | 1092/1695 [30:24<04:51,  2.07it/s]"
     ]
    },
    {
     "name": "stdout",
     "output_type": "stream",
     "text": [
      "9yJAjUlu3HaUZgkYVZDuqmFdkjeud7_g2yY-Ezs85WIcC9ZxqeL-6bsep2O1djWA9srYBvf8JttOcQ\n"
     ]
    },
    {
     "name": "stderr",
     "output_type": "stream",
     "text": [
      "\r",
      " 64%|█████████████████████████▏             | 1093/1695 [30:25<04:22,  2.29it/s]"
     ]
    },
    {
     "name": "stdout",
     "output_type": "stream",
     "text": [
      "o0yAUeMj75SKdLrFpKiw_kuZABhJJ8ISF0zV4sycIcMKhHe0aLof59b7m_AQ_Bm5qywgbJoX7BrseA\n"
     ]
    },
    {
     "name": "stderr",
     "output_type": "stream",
     "text": [
      "\r",
      " 65%|█████████████████████████▏             | 1094/1695 [30:25<03:50,  2.61it/s]"
     ]
    },
    {
     "name": "stdout",
     "output_type": "stream",
     "text": [
      "dK0g8NedNGeObJEZK0orBhKyS6foscLe0D0gy5GZ_zPirFPHa3sDfjat9JUm_FmV-sp_fN-2RA35_w\n"
     ]
    },
    {
     "name": "stderr",
     "output_type": "stream",
     "text": [
      "\r",
      " 65%|█████████████████████████▏             | 1095/1695 [30:25<03:40,  2.72it/s]"
     ]
    },
    {
     "name": "stdout",
     "output_type": "stream",
     "text": [
      "vp-whNWh14f6HYdZascGlJUqt4xgh6XhzoAvRPJoO7M-cMSdknob4nK7Ks5s86lpAvdkBdFZ773ISw\n"
     ]
    },
    {
     "name": "stderr",
     "output_type": "stream",
     "text": [
      "\r",
      " 65%|█████████████████████████▏             | 1096/1695 [30:26<04:00,  2.49it/s]"
     ]
    },
    {
     "name": "stdout",
     "output_type": "stream",
     "text": [
      "IMrqfPUzHmdJnFmzgJsWLR6BxpiwjG1mhl7WSMicO8So6l3yW0Kk5aisFL2sudcntGy3sDXFFxo0Lg\n"
     ]
    },
    {
     "name": "stderr",
     "output_type": "stream",
     "text": [
      "\r",
      " 65%|█████████████████████████▏             | 1097/1695 [30:26<03:37,  2.75it/s]"
     ]
    },
    {
     "name": "stdout",
     "output_type": "stream",
     "text": [
      "y6GGySdMzb_xRkd6X6NURVHZV-IdXbB8FjwFA4sOBjJVl-JGwZRNh53W6-0I2jprh7ZjkYoL6K1hUA\n"
     ]
    },
    {
     "name": "stderr",
     "output_type": "stream",
     "text": [
      "\r",
      " 65%|█████████████████████████▎             | 1098/1695 [30:26<03:15,  3.05it/s]"
     ]
    },
    {
     "name": "stdout",
     "output_type": "stream",
     "text": [
      "Qc8EeTkVppqNZAGwP3UpBxQtv-YcWwQG8_QGIZCKSSAqvSW1yP1M3mxcDaWsNK1MRSJmAMZNq3vvxg\n"
     ]
    },
    {
     "name": "stderr",
     "output_type": "stream",
     "text": [
      "\r",
      " 65%|█████████████████████████▎             | 1099/1695 [30:27<04:24,  2.25it/s]"
     ]
    },
    {
     "name": "stdout",
     "output_type": "stream",
     "text": [
      "H_qGCwJ5elSEADtKTDbnA_cdPpv20fWtKQG-QZpUrnNMt6XeM4A7vXfKw-5_pCihWh01Bpaos5zNLQ\n"
     ]
    },
    {
     "name": "stderr",
     "output_type": "stream",
     "text": [
      "\r",
      " 65%|█████████████████████████▎             | 1100/1695 [30:27<04:02,  2.45it/s]"
     ]
    },
    {
     "name": "stdout",
     "output_type": "stream",
     "text": [
      "VfovTVRCrH0GmKP-g5KMbk32pj5yjeI7FQKYFRlmBCyjA7_8DcPQGqT-Df1nXuRN7m2MfhaTvDt08w\n"
     ]
    },
    {
     "name": "stderr",
     "output_type": "stream",
     "text": [
      "\r",
      " 65%|█████████████████████████▎             | 1101/1695 [30:28<05:30,  1.80it/s]"
     ]
    },
    {
     "name": "stdout",
     "output_type": "stream",
     "text": [
      "5D8Fy2uFEd3oXU_YPuPBbvDrU2yKdLUZH1-SrSNs9-ZIaC0kAuy-EGJtHNpvhBA_G48CobpR8aGxgQ\n"
     ]
    },
    {
     "name": "stderr",
     "output_type": "stream",
     "text": [
      "\r",
      " 65%|█████████████████████████▎             | 1102/1695 [30:28<04:38,  2.13it/s]"
     ]
    },
    {
     "name": "stdout",
     "output_type": "stream",
     "text": [
      "08YTMAIGJuEb-76qOr-yuRE7BtollGxS9O00nTb0LN-xC59yeh5eaMqA9gefpNcilzIc04kApFp9vQ\n"
     ]
    },
    {
     "name": "stderr",
     "output_type": "stream",
     "text": [
      "\r",
      " 65%|█████████████████████████▍             | 1103/1695 [30:29<05:29,  1.80it/s]"
     ]
    },
    {
     "name": "stdout",
     "output_type": "stream",
     "text": [
      "17sFb7EifUziGoAsUUOhHItaC2xVvuR6pAU2cLD9B6bTufnU_KJmLB1luGPNaAG9dGcn3WbIQ0mJbg\n"
     ]
    },
    {
     "name": "stderr",
     "output_type": "stream",
     "text": [
      "\r",
      " 65%|█████████████████████████▍             | 1104/1695 [30:29<04:44,  2.08it/s]"
     ]
    },
    {
     "name": "stdout",
     "output_type": "stream",
     "text": [
      "eKxns154G0nwzFKcr21lcQnCAAfvRqFLnym0auDa7_T2j1zjtj1QEz_l-At7B85a8Y8ByhJsMEA3Tg\n"
     ]
    },
    {
     "name": "stderr",
     "output_type": "stream",
     "text": [
      "\r",
      " 65%|█████████████████████████▍             | 1105/1695 [30:30<04:03,  2.43it/s]"
     ]
    },
    {
     "name": "stdout",
     "output_type": "stream",
     "text": [
      "al7LglsTxBFKh1WDQImnT-EqF4I0jaqYBdQxTFBua0sTyRzLON0EvmMUKt4Za6__klBpG-2AEm14gw\n"
     ]
    },
    {
     "name": "stderr",
     "output_type": "stream",
     "text": [
      "\r",
      " 65%|█████████████████████████▍             | 1106/1695 [30:30<03:51,  2.54it/s]"
     ]
    },
    {
     "name": "stdout",
     "output_type": "stream",
     "text": [
      "0wm669vMjGVAejeoMzmXXPFmNOEmx0dNucRoSHTuU3gNcfJ400yZn1fwJ5ajEPVAHCuPKfR4Sb_cbA\n"
     ]
    },
    {
     "name": "stderr",
     "output_type": "stream",
     "text": [
      "\r",
      " 65%|█████████████████████████▍             | 1107/1695 [30:30<03:47,  2.58it/s]"
     ]
    },
    {
     "name": "stdout",
     "output_type": "stream",
     "text": [
      "x6IgWxZ4vaBOS1618vG-l5sGxbMAgF6Ffxd7zz7GBEoCb1abtZZwFF9uDSzpG7TJdb77e9VB9jM7cw\n"
     ]
    },
    {
     "name": "stderr",
     "output_type": "stream",
     "text": [
      "\r",
      " 65%|█████████████████████████▍             | 1108/1695 [30:31<03:23,  2.88it/s]"
     ]
    },
    {
     "name": "stdout",
     "output_type": "stream",
     "text": [
      "6GNtr4t8gF5c-rZnyMy_3mNDSpLcNYXgaIzGqwuPTVkqsm_KfAOBzcNrFgbOB8zt0gB-Eg1BYwf_NQ\n"
     ]
    },
    {
     "name": "stderr",
     "output_type": "stream",
     "text": [
      "\r",
      " 65%|█████████████████████████▌             | 1109/1695 [30:31<03:12,  3.05it/s]"
     ]
    },
    {
     "name": "stdout",
     "output_type": "stream",
     "text": [
      "NKwb1DA0LK8v7Ug4g5LgGD8bbB4VKnbKKegQhKQz5FjanHdwi2NKdj0KOOw_JoZCt9xk7BLgZ5sMGA\n"
     ]
    },
    {
     "name": "stderr",
     "output_type": "stream",
     "text": [
      "\r",
      " 65%|█████████████████████████▌             | 1110/1695 [30:31<03:03,  3.18it/s]"
     ]
    },
    {
     "name": "stdout",
     "output_type": "stream",
     "text": [
      "DjnwsmIeuoKDcG7T91SoTnIMQbG30Fc_flu8rw0aZQ6R2hxwTt0bHP4iSsh7HDW6gGTMy_qYpOmyFA\n"
     ]
    },
    {
     "name": "stderr",
     "output_type": "stream",
     "text": [
      "\r",
      " 66%|█████████████████████████▌             | 1111/1695 [30:32<04:58,  1.96it/s]"
     ]
    },
    {
     "name": "stdout",
     "output_type": "stream",
     "text": [
      "zLFKaK8kFBpRh2Jr2YXNDzEkMTHhzMrdrmR68hQBlXlVCA5VShxD_fyoXHNbCKULgZjBJ1aVsy5NEQ\n"
     ]
    },
    {
     "name": "stderr",
     "output_type": "stream",
     "text": [
      "\r",
      " 66%|█████████████████████████▌             | 1112/1695 [30:33<04:15,  2.29it/s]"
     ]
    },
    {
     "name": "stdout",
     "output_type": "stream",
     "text": [
      "ZSh7dwS3yWypmJIBu7YlxRj05k7Xt95YxTHbTcSQGlfKAEGzE-3V_ioBEfLNEDW3moQfUzlRDMQvHA\n"
     ]
    },
    {
     "name": "stderr",
     "output_type": "stream",
     "text": [
      "\r",
      " 66%|█████████████████████████▌             | 1113/1695 [30:33<04:03,  2.39it/s]"
     ]
    },
    {
     "name": "stdout",
     "output_type": "stream",
     "text": [
      "Kov_TrhLX_klSytCB5CaaQ0JWz_rsteWSUDJUAP69t5p0PZXUwluna7wSVEjTWbj6375fHMfn3j98g\n"
     ]
    },
    {
     "name": "stderr",
     "output_type": "stream",
     "text": [
      "\r",
      " 66%|█████████████████████████▋             | 1114/1695 [30:33<04:32,  2.13it/s]"
     ]
    },
    {
     "name": "stdout",
     "output_type": "stream",
     "text": [
      "yFiatCzNLTNuWSCU1vDWbmIHgNm595LKNtLupQVpH_5b2627pVGR2YShRUEJduhLFk76V9d97QR7IA\n"
     ]
    },
    {
     "name": "stderr",
     "output_type": "stream",
     "text": [
      "\r",
      " 66%|█████████████████████████▋             | 1115/1695 [30:34<04:57,  1.95it/s]"
     ]
    },
    {
     "name": "stdout",
     "output_type": "stream",
     "text": [
      "qC0sLyK7GLU07x_G__AP_yqEUSMorV8dnyuzlOFhToxf1izBKCrnmoYXi1ONxmIeu9EqyT5OHZV1Yg\n"
     ]
    },
    {
     "name": "stderr",
     "output_type": "stream",
     "text": [
      "\r",
      " 66%|█████████████████████████▋             | 1116/1695 [30:34<04:23,  2.20it/s]"
     ]
    },
    {
     "name": "stdout",
     "output_type": "stream",
     "text": [
      "jY7dY7GolQBPq1xGjWBWqkfuB2SXfCjPX8g8hM-x2yyC7mPy9b0wsf9Qr5QkBLaTGTEokFodYN8uqQ\n"
     ]
    },
    {
     "name": "stderr",
     "output_type": "stream",
     "text": [
      "\r",
      " 66%|█████████████████████████▋             | 1117/1695 [30:35<04:30,  2.14it/s]"
     ]
    },
    {
     "name": "stdout",
     "output_type": "stream",
     "text": [
      "un5MFqAo4GCRTg1m4G8WVblwJiO9WCxEHXUTfA0XrQ4ikDlz7SXZh67yGPTrSuKH-Hz7wAsdjaId0Q\n"
     ]
    },
    {
     "name": "stderr",
     "output_type": "stream",
     "text": [
      "\r",
      " 66%|█████████████████████████▋             | 1118/1695 [30:36<04:55,  1.95it/s]"
     ]
    },
    {
     "name": "stdout",
     "output_type": "stream",
     "text": [
      "THWk01xoNNV7PC3BXT_DsubyMqQSZgEh4MsXq1hL_8309-bo3kuXMGHaELtGrjooDFNRhu8ade_YRQ\n"
     ]
    },
    {
     "name": "stderr",
     "output_type": "stream",
     "text": [
      "\r",
      " 66%|█████████████████████████▋             | 1119/1695 [30:36<05:48,  1.66it/s]"
     ]
    },
    {
     "name": "stdout",
     "output_type": "stream",
     "text": [
      "nEmU1zaB1mz46-2uOVGBHbxLMMt8C_ueU2va51PNTEGpRtBZYbiViCLFxHKsPYPL4qkCktztrmNoEA\n"
     ]
    },
    {
     "name": "stderr",
     "output_type": "stream",
     "text": [
      "\r",
      " 66%|█████████████████████████▊             | 1120/1695 [30:37<04:47,  2.00it/s]"
     ]
    },
    {
     "name": "stdout",
     "output_type": "stream",
     "text": [
      "R7PqmmsGfXQ3ySmOLSS2XJ3vZd8RwNetnh4QeX5z1pwu0b_VM04crFjIYCf0BNrjt8V_nhTrzKm3cw\n"
     ]
    },
    {
     "name": "stderr",
     "output_type": "stream",
     "text": [
      "\r",
      " 66%|█████████████████████████▊             | 1121/1695 [30:37<05:32,  1.72it/s]"
     ]
    },
    {
     "name": "stdout",
     "output_type": "stream",
     "text": [
      "S55tBp2x4yr10NoTaNbPsp_u5b70PSVUrIOJdxYPqbRgvvD5zJIBnd9r7w55Em9RwzM5iPIkwF1o9w\n"
     ]
    },
    {
     "name": "stderr",
     "output_type": "stream",
     "text": [
      "\r",
      " 66%|█████████████████████████▊             | 1122/1695 [30:38<04:33,  2.09it/s]"
     ]
    },
    {
     "name": "stdout",
     "output_type": "stream",
     "text": [
      "NABhoNOzIZeQ_04b3LZoTnrp187Lawg2QpWVm6LV2leS_cbyZ_sMbduVXXHGi-9mIBmDxHyTXDIoKA\n"
     ]
    },
    {
     "name": "stderr",
     "output_type": "stream",
     "text": [
      "\r",
      " 66%|█████████████████████████▊             | 1123/1695 [30:38<04:08,  2.31it/s]"
     ]
    },
    {
     "name": "stdout",
     "output_type": "stream",
     "text": [
      "aobYoAcCLeJDTUKLCNKLwvn1TFtOQ6gjzqLEdX-QT2qMy-iFth5_TCMUO-cT6ANOuLSQcs2mqvjGpg\n"
     ]
    },
    {
     "name": "stderr",
     "output_type": "stream",
     "text": [
      "\r",
      " 66%|█████████████████████████▊             | 1124/1695 [30:39<04:46,  1.99it/s]"
     ]
    },
    {
     "name": "stdout",
     "output_type": "stream",
     "text": [
      "djp2INid9v84EWGYqVpNZtSm-WvEC4qwQgCvgD26E-EO94YuC5d4ng46P2rZdzYbE_0XpMcslT6_Qg\n"
     ]
    },
    {
     "name": "stderr",
     "output_type": "stream",
     "text": [
      "\r",
      " 66%|█████████████████████████▉             | 1125/1695 [30:39<04:12,  2.26it/s]"
     ]
    },
    {
     "name": "stdout",
     "output_type": "stream",
     "text": [
      "HN1NUlu0B32Tmu8X3shMDOXrckmkwk2aGgg7c7Ku-DvWBpQBMM4xGbOL4mveqGsQudHUuYASuUKFYQ\n"
     ]
    },
    {
     "name": "stderr",
     "output_type": "stream",
     "text": [
      "\r",
      " 66%|█████████████████████████▉             | 1126/1695 [30:39<03:45,  2.52it/s]"
     ]
    },
    {
     "name": "stdout",
     "output_type": "stream",
     "text": [
      "4Xa-e4r7oI_uDfnky12fZh4yhGnzTlSLOkZXn_7OhtJ7guok_4y7IKqgGBknrQH5VTA3OPBcwM-75Q\n"
     ]
    },
    {
     "name": "stderr",
     "output_type": "stream",
     "text": [
      "\r",
      " 66%|█████████████████████████▉             | 1127/1695 [30:39<03:19,  2.85it/s]"
     ]
    },
    {
     "name": "stdout",
     "output_type": "stream",
     "text": [
      "gh0u_7UfPgneu9vCAV4KhC_QLACwStc-kQc2k2o3BqjJWZyRIHH2XioEag571h0Nitf8ANgXzuLZHg\n"
     ]
    },
    {
     "name": "stderr",
     "output_type": "stream",
     "text": [
      "\r",
      " 67%|█████████████████████████▉             | 1128/1695 [30:40<03:00,  3.14it/s]"
     ]
    },
    {
     "name": "stdout",
     "output_type": "stream",
     "text": [
      "1DVzCg5E7jcW5vrbLJnh1xX4irRaFFJTifBUjnrak4SPUB_nDeZ03a0JIMvs5bEKfHSu_s9u0wcwFA\n"
     ]
    },
    {
     "name": "stderr",
     "output_type": "stream",
     "text": [
      "\r",
      " 67%|█████████████████████████▉             | 1129/1695 [30:40<02:48,  3.36it/s]"
     ]
    },
    {
     "name": "stdout",
     "output_type": "stream",
     "text": [
      "iqo8XI2zso8JV-b4mXWcXwXiMYzsRUBZBRssQJWNFI2ppjSr3zVm0TEPL_buQH0jBKhhqXV4Z2PRcQ\n"
     ]
    },
    {
     "name": "stderr",
     "output_type": "stream",
     "text": [
      "\r",
      " 67%|██████████████████████████             | 1130/1695 [30:40<02:40,  3.51it/s]"
     ]
    },
    {
     "name": "stdout",
     "output_type": "stream",
     "text": [
      "BiMdFaF0kSXeT1nTC5CQZAOenLxCXIOgM-X5VdNOS4RvH1VLNywrE_Z4ITR99NSeG-iE-BuLuZonGA\n"
     ]
    },
    {
     "name": "stderr",
     "output_type": "stream",
     "text": [
      "\r",
      " 67%|██████████████████████████             | 1131/1695 [30:40<02:35,  3.63it/s]"
     ]
    },
    {
     "name": "stdout",
     "output_type": "stream",
     "text": [
      "ZQz24s_5YJ5msW0TAvnuFKWUZMNgo_YIwSjtQ9X3XOFQyQuf_zmX5xuduKs-sr_O-Hp4ZRbmlJccoQ\n"
     ]
    },
    {
     "name": "stderr",
     "output_type": "stream",
     "text": [
      "\r",
      " 67%|██████████████████████████             | 1132/1695 [30:41<02:31,  3.72it/s]"
     ]
    },
    {
     "name": "stdout",
     "output_type": "stream",
     "text": [
      "hXAbx0oE-sL1jus3G_KDZO5vyCJce15rnwR49linUxh3xxmt0eXC49fS8JJio26H31R0bgB6ihpfvQ\n"
     ]
    },
    {
     "name": "stderr",
     "output_type": "stream",
     "text": [
      "\r",
      " 67%|██████████████████████████             | 1133/1695 [30:41<02:28,  3.78it/s]"
     ]
    },
    {
     "name": "stdout",
     "output_type": "stream",
     "text": [
      "lXDf6JEeDQqRvB5oRygITZPM2He7-jcUnFG6pyed-HDX3-pHIBdO1ZQINh_6fIEBN4Urf9vIjC6Jbw\n"
     ]
    },
    {
     "name": "stderr",
     "output_type": "stream",
     "text": [
      "\r",
      " 67%|██████████████████████████             | 1134/1695 [30:41<02:34,  3.64it/s]"
     ]
    },
    {
     "name": "stdout",
     "output_type": "stream",
     "text": [
      "ua99Wjh0aO4GY5vJYV-nwsc59XCFSz8kp2D1TwNB5ETbSnyUIAmh8zTG-yQEQZIBpNt_d04lZ1p2yg\n"
     ]
    },
    {
     "name": "stderr",
     "output_type": "stream",
     "text": [
      "\r",
      " 67%|██████████████████████████             | 1135/1695 [30:41<02:29,  3.74it/s]"
     ]
    },
    {
     "name": "stdout",
     "output_type": "stream",
     "text": [
      "lX7x_Nb8T5OHv5E7_ssoaegTnkYucfcgleCJvL1zAWXxxqzXkwVcuhcdteHnhB5FKx6bgzuNQTkn1A\n"
     ]
    },
    {
     "name": "stderr",
     "output_type": "stream",
     "text": [
      "\r",
      " 67%|██████████████████████████▏            | 1136/1695 [30:42<02:50,  3.27it/s]"
     ]
    },
    {
     "name": "stdout",
     "output_type": "stream",
     "text": [
      "ZEpmivdiE3vAxvzD8VEwA6lSwbO0cu0yngXpwxx7AZyEKgmOUr5XH7Lp9LtAJoZfnn51-oSJfot7rg\n"
     ]
    },
    {
     "name": "stderr",
     "output_type": "stream",
     "text": [
      "\r",
      " 67%|██████████████████████████▏            | 1137/1695 [30:42<03:39,  2.54it/s]"
     ]
    },
    {
     "name": "stdout",
     "output_type": "stream",
     "text": [
      "7qnG1L_LKuRUoGUODyRJfcbRC_aryj9vMF_x2D5l8Q98LXY6ok5UsMmOWsYF84jg05thhy4Eh0MfIg\n"
     ]
    },
    {
     "name": "stderr",
     "output_type": "stream",
     "text": [
      "\r",
      " 67%|██████████████████████████▏            | 1138/1695 [30:43<03:30,  2.65it/s]"
     ]
    },
    {
     "name": "stdout",
     "output_type": "stream",
     "text": [
      "bPx82OQzp5rqgRSLCKlbG0ScmV0nkL3ZXxmQ5YGUz9PkvxNbVoV2m5Fw1eSB0LPoW7zhLiFeVwXvKg\n"
     ]
    },
    {
     "name": "stderr",
     "output_type": "stream",
     "text": [
      "\r",
      " 67%|██████████████████████████▏            | 1139/1695 [30:43<03:19,  2.79it/s]"
     ]
    },
    {
     "name": "stdout",
     "output_type": "stream",
     "text": [
      "wyXMmCXarh4tnVciHCdSjUWfO5aUiVO5-dRKNmmSwM0_IUKPPiN19GJfJZMYlEMZ4UtJLd4dC8GQog\n"
     ]
    },
    {
     "name": "stderr",
     "output_type": "stream",
     "text": [
      "\r",
      " 67%|██████████████████████████▏            | 1140/1695 [30:44<03:20,  2.77it/s]"
     ]
    },
    {
     "name": "stdout",
     "output_type": "stream",
     "text": [
      "wVauFdNszIWIIGhPqZoHUjqIybztTUOnZcopr8wSkkrYIEKge8-XVGqXArrj1yfx1-z04VgcH81azQ\n"
     ]
    },
    {
     "name": "stderr",
     "output_type": "stream",
     "text": [
      "\r",
      " 67%|██████████████████████████▎            | 1141/1695 [30:44<03:09,  2.92it/s]"
     ]
    },
    {
     "name": "stdout",
     "output_type": "stream",
     "text": [
      "CV7rPOzAnyracY4b5TtpsHwjBuoghlVt0PugAn0EdNyHUOvukf_DYl6MimucmiePFrV1Bd5n8e7EGA\n"
     ]
    },
    {
     "name": "stderr",
     "output_type": "stream",
     "text": [
      "\r",
      " 67%|██████████████████████████▎            | 1142/1695 [30:44<02:58,  3.11it/s]"
     ]
    },
    {
     "name": "stdout",
     "output_type": "stream",
     "text": [
      "PbsIzcAeAfAzBpCYmZA1PuG4eXG7Cqb1AKE1ESDqk_cJ62zEC4jVlGSxp9-48u3xE1zQaZi9C7UYKw\n"
     ]
    },
    {
     "name": "stderr",
     "output_type": "stream",
     "text": [
      "\r",
      " 67%|██████████████████████████▎            | 1143/1695 [30:44<02:45,  3.33it/s]"
     ]
    },
    {
     "name": "stdout",
     "output_type": "stream",
     "text": [
      "-vu_d1uDU0R6WrRCOnebdssBGXTA_GDYAuNExQXgn1nVHQTF0c5kY-qoQJv1fEvIOAKfQvuYY6SVJA\n"
     ]
    },
    {
     "name": "stderr",
     "output_type": "stream",
     "text": [
      "\r",
      " 67%|██████████████████████████▎            | 1144/1695 [30:45<02:38,  3.47it/s]"
     ]
    },
    {
     "name": "stdout",
     "output_type": "stream",
     "text": [
      "zUYOZt9OZyxppOK_dXkoWD15nNo31a_F-Wf5lpE_ES_AlfK-XaFctgx3jd3Q-NKBJ31jFMrIEnhGpg\n"
     ]
    },
    {
     "name": "stderr",
     "output_type": "stream",
     "text": [
      "\r",
      " 68%|██████████████████████████▎            | 1145/1695 [30:45<02:33,  3.59it/s]"
     ]
    },
    {
     "name": "stdout",
     "output_type": "stream",
     "text": [
      "uob82fv2lnNQcIAYlxPjnaywRWynhaFwd0YtrDxEQk6lcRvMU-_bFAQvA4__JLxC1TkllwZftrSuVA\n"
     ]
    },
    {
     "name": "stderr",
     "output_type": "stream",
     "text": [
      "\r",
      " 68%|██████████████████████████▎            | 1146/1695 [30:45<02:36,  3.50it/s]"
     ]
    },
    {
     "name": "stdout",
     "output_type": "stream",
     "text": [
      "JcSLZHYcfcpDpHEvUMu_mOTP1x8VJ8fWsInUcvjmZxqTgpmUmTVWH_oRRc9y_wunLMa4wR7w0ulweA\n"
     ]
    },
    {
     "name": "stderr",
     "output_type": "stream",
     "text": [
      "\r",
      " 68%|██████████████████████████▍            | 1147/1695 [30:45<02:31,  3.61it/s]"
     ]
    },
    {
     "name": "stdout",
     "output_type": "stream",
     "text": [
      "C6X5KQfmwIPt89cbWjHQIlv56ltwyOxxDSHHIAQRD8hi8sh4GrCZukmZ815xtlyo52r3k6wwUV6Jrw\n"
     ]
    },
    {
     "name": "stderr",
     "output_type": "stream",
     "text": [
      "\r",
      " 68%|██████████████████████████▍            | 1148/1695 [30:46<02:27,  3.72it/s]"
     ]
    },
    {
     "name": "stdout",
     "output_type": "stream",
     "text": [
      "zf9QEV2tVUSjnQT9tx35xvesq3j6umo523Z51zxwHHAXRn-LXD30vKXU8yhq9BT8s7nrnb-I5H0ZUQ\n"
     ]
    },
    {
     "name": "stderr",
     "output_type": "stream",
     "text": [
      "\r",
      " 68%|██████████████████████████▍            | 1149/1695 [30:46<02:23,  3.80it/s]"
     ]
    },
    {
     "name": "stdout",
     "output_type": "stream",
     "text": [
      "33BBSMoWiWgbQdqHqha2RE-iotMm70LOKOyVry0osSut_IvomIin5zZlTAKlj3CX29ltEznPv4vSxw\n"
     ]
    },
    {
     "name": "stderr",
     "output_type": "stream",
     "text": [
      "\r",
      " 68%|██████████████████████████▍            | 1150/1695 [30:46<02:21,  3.85it/s]"
     ]
    },
    {
     "name": "stdout",
     "output_type": "stream",
     "text": [
      "ha1s8wgBdGVZ35ziGXGV7ay1U75hTcqvB81vfwy1KGYB1AaFEP4Pj_SWJkZ3O2zeyLh-V24-K_GG0Q\n"
     ]
    },
    {
     "name": "stderr",
     "output_type": "stream",
     "text": [
      "\r",
      " 68%|██████████████████████████▍            | 1151/1695 [30:46<02:18,  3.93it/s]"
     ]
    },
    {
     "name": "stdout",
     "output_type": "stream",
     "text": [
      "RBe7fZRYbaINxYRKakv_F3hJkwtnvDcoO_ADFp1bA_6NlGVJaYZATp1vlXk7cVKaCcFNbjvbScMYfw\n"
     ]
    },
    {
     "name": "stderr",
     "output_type": "stream",
     "text": [
      "\r",
      " 68%|██████████████████████████▌            | 1152/1695 [30:47<02:20,  3.88it/s]"
     ]
    },
    {
     "name": "stdout",
     "output_type": "stream",
     "text": [
      "lE260DWsiBGOkIg7ZIqQheHU7ZTq-aETImz8KUADQjfPZrU-TXgUMnv6l3X5W3YjI9bsoQq4E3oG3g\n"
     ]
    },
    {
     "name": "stderr",
     "output_type": "stream",
     "text": [
      "\r",
      " 68%|██████████████████████████▌            | 1153/1695 [30:47<02:19,  3.90it/s]"
     ]
    },
    {
     "name": "stdout",
     "output_type": "stream",
     "text": [
      "pNdy3dMJp8v-vwY-GE7JRN8YZv1E-xmqsBSdABynGuK5UZ3lrBDTZYc-VBAjkNUKdZgdNMIsXV3glQ\n"
     ]
    },
    {
     "name": "stderr",
     "output_type": "stream",
     "text": [
      "\r",
      " 68%|██████████████████████████▌            | 1154/1695 [30:47<02:20,  3.85it/s]"
     ]
    },
    {
     "name": "stdout",
     "output_type": "stream",
     "text": [
      "u4lGSQ-NCHhekvU1gIjPmqIqmdO4F4jsWql0QrKqr13-oWf1xLfw_NLvv2BGkZ_khccqlocbefOluA\n"
     ]
    },
    {
     "name": "stderr",
     "output_type": "stream",
     "text": [
      "\r",
      " 68%|██████████████████████████▌            | 1155/1695 [30:47<02:21,  3.82it/s]"
     ]
    },
    {
     "name": "stdout",
     "output_type": "stream",
     "text": [
      "lUUec06768rbNQLBh1W3bEgAvSZ221IDXBL_IgK76RgbcpbQWWSfmGGZZZtI7qOMENrkj2PTUcRx1g\n"
     ]
    },
    {
     "name": "stderr",
     "output_type": "stream",
     "text": [
      "\r",
      " 68%|██████████████████████████▌            | 1156/1695 [30:48<02:20,  3.84it/s]"
     ]
    },
    {
     "name": "stdout",
     "output_type": "stream",
     "text": [
      "8GBRv1QPPlUtZDGzvLOlDfpquP8IVRGAIbXJ1Nvm_M9MMoIz7QY8TkrBX-hXvgWcqthH9PJ5P1z_Sg\n"
     ]
    },
    {
     "name": "stderr",
     "output_type": "stream",
     "text": [
      "\r",
      " 68%|██████████████████████████▌            | 1157/1695 [30:48<02:19,  3.85it/s]"
     ]
    },
    {
     "name": "stdout",
     "output_type": "stream",
     "text": [
      "sO8lU3A8_8NO2-T_-0cyeSVdXmMuq2UAsxqWoEVxaAH19ezerwM6XVrDV3PikFPGjX4VrEndkv5omg\n"
     ]
    },
    {
     "name": "stderr",
     "output_type": "stream",
     "text": [
      "\r",
      " 68%|██████████████████████████▋            | 1158/1695 [30:48<02:18,  3.88it/s]"
     ]
    },
    {
     "name": "stdout",
     "output_type": "stream",
     "text": [
      "jO50yh4vhOuXLSluBX_OQNkAtWpU-E8gabrPdqnFQLRYcxS2tybmp6Ty2U4Orxa-Myu1hWL6xFFdzA\n"
     ]
    },
    {
     "name": "stderr",
     "output_type": "stream",
     "text": [
      "\r",
      " 68%|██████████████████████████▋            | 1159/1695 [30:49<03:15,  2.74it/s]"
     ]
    },
    {
     "name": "stdout",
     "output_type": "stream",
     "text": [
      "U6Q09JSwbDcX2Bu50grECNmNpvvvrf5yZWn7fzKjJBLGh8DdlOGdp2pSp0rxG1GOV5YoAaKi4h8xpw\n"
     ]
    },
    {
     "name": "stderr",
     "output_type": "stream",
     "text": [
      "\r",
      " 68%|██████████████████████████▋            | 1160/1695 [30:49<02:57,  3.02it/s]"
     ]
    },
    {
     "name": "stdout",
     "output_type": "stream",
     "text": [
      "HmsL_NksLAWg8Zb3hk5Z62V2MsS_zZffhp91MIYtX69QF0QhZTvgNbsD0G6LGmS6K8W7ha603lyDNA\n"
     ]
    },
    {
     "name": "stderr",
     "output_type": "stream",
     "text": [
      "\r",
      " 68%|██████████████████████████▋            | 1161/1695 [30:50<04:07,  2.16it/s]"
     ]
    },
    {
     "name": "stdout",
     "output_type": "stream",
     "text": [
      "mBf_Tnke4rEeja9EADOlaaoG-pf8Cyi4DijaHOh_ju2ZhuWIuWEOA_aq3ws5O1LxI_vunXFW0oku8Q\n"
     ]
    },
    {
     "name": "stderr",
     "output_type": "stream",
     "text": [
      "\r",
      " 69%|██████████████████████████▋            | 1162/1695 [30:50<03:32,  2.51it/s]"
     ]
    },
    {
     "name": "stdout",
     "output_type": "stream",
     "text": [
      "Fqoq6mQpd67u7kUjmjOKl6ibdRIMr_Tpc4aqLhaIbokO9FYqxYuVDzNc54m7oI61wm8DZ51xu6CS7Q\n"
     ]
    },
    {
     "name": "stderr",
     "output_type": "stream",
     "text": [
      "\r",
      " 69%|██████████████████████████▊            | 1163/1695 [30:50<03:13,  2.76it/s]"
     ]
    },
    {
     "name": "stdout",
     "output_type": "stream",
     "text": [
      "aCGBDgDuAT2uofLHtL4L5sO9-6ugBrJJ4j5OxGKWjNFzlcMWcLStdSnMv-bLIh12_JXGiVjiNIHoAw\n"
     ]
    },
    {
     "name": "stderr",
     "output_type": "stream",
     "text": [
      "\r",
      " 69%|██████████████████████████▊            | 1164/1695 [30:51<02:54,  3.05it/s]"
     ]
    },
    {
     "name": "stdout",
     "output_type": "stream",
     "text": [
      "RgqVacHyO3dcNwZEutGyKPUyiE-7BXsjlBbSd2dzub9ZZP-bVhROpGbroVRLoBQ0I1hWDTs0Ef9Idg\n"
     ]
    },
    {
     "name": "stderr",
     "output_type": "stream",
     "text": [
      "\r",
      " 69%|██████████████████████████▊            | 1165/1695 [30:51<02:41,  3.28it/s]"
     ]
    },
    {
     "name": "stdout",
     "output_type": "stream",
     "text": [
      "K8K5ubNSB_91KGDAXsNtltml8P5qMex3z2rIDr1a8pvVx8hTEoGpLWzV6oYk7ooYjQbIo0OFPu-uVQ\n"
     ]
    },
    {
     "name": "stderr",
     "output_type": "stream",
     "text": [
      "\r",
      " 69%|██████████████████████████▊            | 1166/1695 [30:51<02:33,  3.45it/s]"
     ]
    },
    {
     "name": "stdout",
     "output_type": "stream",
     "text": [
      "CdORzHMUn3KBxgruChMl5mG-fBMe5nTVXRn2KFzhpmjtGXiDfpv1cAeycS7vWxLsy2HO9Zh-zbXS8A\n"
     ]
    },
    {
     "name": "stderr",
     "output_type": "stream",
     "text": [
      "\r",
      " 69%|██████████████████████████▊            | 1167/1695 [30:51<02:25,  3.63it/s]"
     ]
    },
    {
     "name": "stdout",
     "output_type": "stream",
     "text": [
      "agDGb8INNyrH1IwqoizCFD4Z0VW13vZwXtWGmkUrkvfwwIBwSXccSVOcXVDUjL9YcBDQ7pAr_1Yjgg\n"
     ]
    },
    {
     "name": "stderr",
     "output_type": "stream",
     "text": [
      "\r",
      " 69%|██████████████████████████▊            | 1168/1695 [30:52<02:22,  3.69it/s]"
     ]
    },
    {
     "name": "stdout",
     "output_type": "stream",
     "text": [
      "deGApJWjcaJuUTNw5wV0AUlrrya9DoEidKPvFV_-o4paN-fsCdWYnFySK-4o6W9987p2VKDesrxuug\n"
     ]
    },
    {
     "name": "stderr",
     "output_type": "stream",
     "text": [
      "\r",
      " 69%|██████████████████████████▉            | 1169/1695 [30:52<02:19,  3.77it/s]"
     ]
    },
    {
     "name": "stdout",
     "output_type": "stream",
     "text": [
      "w9udrhocXgmM6XwJSYACEslXx_C8gKtAb9XQV_NwXPays4JdYpFiZFXVVsrx33Iz4LjEL75vyl5JxQ\n"
     ]
    },
    {
     "name": "stderr",
     "output_type": "stream",
     "text": [
      "\r",
      " 69%|██████████████████████████▉            | 1170/1695 [30:52<02:16,  3.86it/s]"
     ]
    },
    {
     "name": "stdout",
     "output_type": "stream",
     "text": [
      "0MoX0ge6cYIFepApp9ARgmC8L8tUb-M-oZuYi8r7O6-Dld-EquDQczaSvX42TXXAUNqNC7CkTZ0UlQ\n"
     ]
    },
    {
     "name": "stderr",
     "output_type": "stream",
     "text": [
      "\r",
      " 69%|██████████████████████████▉            | 1171/1695 [30:52<02:13,  3.92it/s]"
     ]
    },
    {
     "name": "stdout",
     "output_type": "stream",
     "text": [
      "owE3QMdjtJG6xbbXKCiC1lNxrMGNOaqxaHWRSdqmbHtO_JnSZg-BHw3oTF6sM_qezgEfL2OdrT4aLA\n"
     ]
    },
    {
     "name": "stderr",
     "output_type": "stream",
     "text": [
      "\r",
      " 69%|██████████████████████████▉            | 1172/1695 [30:53<02:51,  3.05it/s]"
     ]
    },
    {
     "name": "stdout",
     "output_type": "stream",
     "text": [
      "HGzMHbzxPaHgimUSN8fuKXMnEzfa_T6JofhqkyMXul7W03dccbY7eXbICzbUeBgOSs3x0yl-wgu4ag\n"
     ]
    },
    {
     "name": "stderr",
     "output_type": "stream",
     "text": [
      "\r",
      " 69%|██████████████████████████▉            | 1173/1695 [30:53<02:48,  3.10it/s]"
     ]
    },
    {
     "name": "stdout",
     "output_type": "stream",
     "text": [
      "K8fDFDCm6ejPrjb6O9FIrtKALOaA6PKm815c0QJx1eiugr8KE7aYW6cQxBH0sZVRgjyeQGB2EjJI2Q\n"
     ]
    },
    {
     "name": "stderr",
     "output_type": "stream",
     "text": [
      "\r",
      " 69%|███████████████████████████            | 1174/1695 [30:53<02:37,  3.32it/s]"
     ]
    },
    {
     "name": "stdout",
     "output_type": "stream",
     "text": [
      "S3e01tuIWGlSf0mBO9of7KNlJHTYwodIhz93f0q-bLgyTHDsW8k_-NA0Vfzr5awEXci0gWNOG6chBg\n"
     ]
    },
    {
     "name": "stderr",
     "output_type": "stream",
     "text": [
      "\r",
      " 69%|███████████████████████████            | 1175/1695 [30:54<02:29,  3.47it/s]"
     ]
    },
    {
     "name": "stdout",
     "output_type": "stream",
     "text": [
      "Hhck6MZZsyxnTb_ikmqUr5weUDPRzETjAT9gNq_NEodbINRAMub5Al3niQvRnr3CTb4RBq5GjTj3fQ\n"
     ]
    },
    {
     "name": "stderr",
     "output_type": "stream",
     "text": [
      "\r",
      " 69%|███████████████████████████            | 1176/1695 [30:54<02:24,  3.60it/s]"
     ]
    },
    {
     "name": "stdout",
     "output_type": "stream",
     "text": [
      "Fgrnogn24OIExKZS1CtFfDUAGh8PGqvv3Yr09DZr4fuT6xjWoTjOyw6Iwu644bIZh5A4BvZ4YbakVg\n"
     ]
    },
    {
     "name": "stderr",
     "output_type": "stream",
     "text": [
      "\r",
      " 69%|███████████████████████████            | 1177/1695 [30:54<02:21,  3.67it/s]"
     ]
    },
    {
     "name": "stdout",
     "output_type": "stream",
     "text": [
      "Q5Fquhlcp5lcvehk0JyR9gDkURhSqmvxCcZTsjMJ0xp12okBAKNVJT1YXoCaUkq9vpN9pgMdqnxsOQ\n"
     ]
    },
    {
     "name": "stderr",
     "output_type": "stream",
     "text": [
      "\r",
      " 69%|███████████████████████████            | 1178/1695 [30:54<02:16,  3.79it/s]"
     ]
    },
    {
     "name": "stdout",
     "output_type": "stream",
     "text": [
      "QShgd8P38O48yGnb1zJFqg7dIvKUl64CS6IflzvYz02vtxLhy0qGWk4to0EZ-b816pv6Srm9cLF6Ng\n",
      "api cost full : infinite loop start\n",
      "loop location :  DGB3rl2FmXrO0lDuqEwsFuI9OUGxlB_aLw0dpmDLuAkhr96t\n",
      "try 10 second wait time\n",
      "429\n",
      "try 10 second wait time\n",
      "429\n",
      "try 10 second wait time\n",
      "429\n",
      "try 10 second wait time\n",
      "429\n",
      "try 10 second wait time\n",
      "429\n",
      "try 10 second wait time\n",
      "429\n",
      "try 10 second wait time\n",
      "429\n",
      "try 10 second wait time\n",
      "429\n",
      "try 10 second wait time\n"
     ]
    },
    {
     "name": "stderr",
     "output_type": "stream",
     "text": [
      "\r",
      " 70%|█████████████████████████▋           | 1179/1695 [32:29<4:05:20, 28.53s/it]"
     ]
    },
    {
     "name": "stdout",
     "output_type": "stream",
     "text": [
      "200\n",
      "total wait time :  94.05717086791992\n",
      "recovery api cost\n",
      "L6xWA2mfxLw0hyzNbvczdeAhGH_H72ZfbcMzazVOpWeGNzsGYoJNTibH7neQpZy8diB4xkQKSr46eg\n"
     ]
    },
    {
     "name": "stderr",
     "output_type": "stream",
     "text": [
      "\r",
      " 70%|█████████████████████████▊           | 1180/1695 [32:30<2:53:05, 20.17s/it]"
     ]
    },
    {
     "name": "stdout",
     "output_type": "stream",
     "text": [
      "D9UI9Dh-b-AgT8lEAZAHa4wG2ess_ZddckzcCmq3mkSov_vJAcaL32AZI9NQIAFug02T7T2HEDz9qQ\n"
     ]
    },
    {
     "name": "stderr",
     "output_type": "stream",
     "text": [
      "\r",
      " 70%|█████████████████████████▊           | 1181/1695 [32:30<2:01:35, 14.19s/it]"
     ]
    },
    {
     "name": "stdout",
     "output_type": "stream",
     "text": [
      "140hm9vfjjhCk5ZhCkOIUFaTX5wzAzWiSReS-NDMrqPvRsLDOGFWbBV7aBeGIEVNZxe6cM7Ed4wh_g\n"
     ]
    },
    {
     "name": "stderr",
     "output_type": "stream",
     "text": [
      "\r",
      " 70%|█████████████████████████▊           | 1182/1695 [32:30<1:25:39, 10.02s/it]"
     ]
    },
    {
     "name": "stdout",
     "output_type": "stream",
     "text": [
      "j82rp0GiIfZWp6Z-y0kG7lP7GmRuGK140RHK72cct-Gj0AFEUONFP3EdjpvwUGignI7rpzqBokiypw\n"
     ]
    },
    {
     "name": "stderr",
     "output_type": "stream",
     "text": [
      "\r",
      " 70%|█████████████████████████▊           | 1183/1695 [32:31<1:01:37,  7.22s/it]"
     ]
    },
    {
     "name": "stdout",
     "output_type": "stream",
     "text": [
      "fm9lHL2zmEXi5fLEUcw8ciVMmbltWOOe-9FK8NegzGqt_-kf7FRVFugzu35hD44_J1QqRJ1_NJTYug\n"
     ]
    },
    {
     "name": "stderr",
     "output_type": "stream",
     "text": [
      "\r",
      " 70%|███████████████████████████▏           | 1184/1695 [32:32<45:40,  5.36s/it]"
     ]
    },
    {
     "name": "stdout",
     "output_type": "stream",
     "text": [
      "9ww9hX8vOk5N1B1clQjHP9qMDh12qHxLsAItAHQ3dTr5YEZJJ42qYQbYzwag8RgblbueJ3rkgI-MPw\n"
     ]
    },
    {
     "name": "stderr",
     "output_type": "stream",
     "text": [
      "\r",
      " 70%|███████████████████████████▎           | 1185/1695 [32:33<33:51,  3.98s/it]"
     ]
    },
    {
     "name": "stdout",
     "output_type": "stream",
     "text": [
      "JbwjrdgltfsEZsV518P39bksckVOPZFukmEvfaJ3h7vsQCfIOYxLAxDBSyQX6h5dLlR6Gleg2-703g\n"
     ]
    },
    {
     "name": "stderr",
     "output_type": "stream",
     "text": [
      "\r",
      " 70%|███████████████████████████▎           | 1186/1695 [32:33<25:21,  2.99s/it]"
     ]
    },
    {
     "name": "stdout",
     "output_type": "stream",
     "text": [
      "7sF_NqG9lTlAE_cZAUfcXTXVJ8Dy0u7Fz4nDEWMFXPwG1FdfPhBr5Q6uMpbea4M0IBwZ8HwU-VO6zA\n"
     ]
    },
    {
     "name": "stderr",
     "output_type": "stream",
     "text": [
      "\r",
      " 70%|███████████████████████████▎           | 1187/1695 [32:34<18:23,  2.17s/it]"
     ]
    },
    {
     "name": "stdout",
     "output_type": "stream",
     "text": [
      "qc86Bo1Y4WPWvD1SyJrhMXb75NuBAfOsMABlh0tf_C8_QXT5bu0ifT04yN35mGT-2FZntrfcfPfmSQ\n"
     ]
    },
    {
     "name": "stderr",
     "output_type": "stream",
     "text": [
      "\r",
      " 70%|███████████████████████████▎           | 1188/1695 [32:34<13:31,  1.60s/it]"
     ]
    },
    {
     "name": "stdout",
     "output_type": "stream",
     "text": [
      "oLInAK82uxeaSsytOH_ljgvdpUPaMdGARQaRzKefRJJUTnbkXWnLh1HT8xOReDRC0Tz1FqjNfXCJTA\n"
     ]
    },
    {
     "name": "stderr",
     "output_type": "stream",
     "text": [
      "\r",
      " 70%|███████████████████████████▎           | 1189/1695 [32:35<12:09,  1.44s/it]"
     ]
    },
    {
     "name": "stdout",
     "output_type": "stream",
     "text": [
      "MGUMrNwEMcriiB5zxjA12eU4kioTDCfcrw1WMzIPsv60SSz5UzFhjjeJ_EvMdFJVtqXMbQc5wg53PQ\n"
     ]
    },
    {
     "name": "stderr",
     "output_type": "stream",
     "text": [
      "\r",
      " 70%|███████████████████████████▍           | 1190/1695 [32:35<09:10,  1.09s/it]"
     ]
    },
    {
     "name": "stdout",
     "output_type": "stream",
     "text": [
      "LuzHN82auhquHh-Ex-_wvKghPNuboyJBxq4UaXJpHdQ58uLc-y5RoCDwdcfJEn2hoiYDPE1jxI5uTA\n"
     ]
    },
    {
     "name": "stderr",
     "output_type": "stream",
     "text": [
      "\r",
      " 70%|███████████████████████████▍           | 1191/1695 [32:36<07:25,  1.13it/s]"
     ]
    },
    {
     "name": "stdout",
     "output_type": "stream",
     "text": [
      "UlKMisYBRcNxFHxqvxV8IZu4AW8D6bjdzJBGevurdFxpVfdMaI367eO_O0yhOzhjMNiFB8h__ZdECw\n"
     ]
    },
    {
     "name": "stderr",
     "output_type": "stream",
     "text": [
      "\r",
      " 70%|███████████████████████████▍           | 1192/1695 [32:36<07:11,  1.17it/s]"
     ]
    },
    {
     "name": "stdout",
     "output_type": "stream",
     "text": [
      "1BvS3S06MlSPhP2Mwmn35c4uKoZPIOaE03sqZrE7AyTc8KxPgNCSiekw_ZpuVbmM37Bu4lPEnIm0SA\n"
     ]
    },
    {
     "name": "stderr",
     "output_type": "stream",
     "text": [
      "\r",
      " 70%|███████████████████████████▍           | 1193/1695 [32:37<05:45,  1.45it/s]"
     ]
    },
    {
     "name": "stdout",
     "output_type": "stream",
     "text": [
      "hz6tPVrs0_5nxmyZBwUiySKf0sCoaRwzhUaba5FO0pw9Yz9bFPVBN65dMWKnbUtbWXGXNiREl4PC2g\n"
     ]
    },
    {
     "name": "stderr",
     "output_type": "stream",
     "text": [
      "\r",
      " 70%|███████████████████████████▍           | 1194/1695 [32:37<05:51,  1.43it/s]"
     ]
    },
    {
     "name": "stdout",
     "output_type": "stream",
     "text": [
      "SDdULh7AqqthiMjTduje4KR1yzU9hoXEZ2RBz_FSF9uVZw98kDeKEbLvc9-mlePszysQQR-OVbAEWA\n"
     ]
    },
    {
     "name": "stderr",
     "output_type": "stream",
     "text": [
      "\r",
      " 71%|███████████████████████████▍           | 1195/1695 [32:38<05:37,  1.48it/s]"
     ]
    },
    {
     "name": "stdout",
     "output_type": "stream",
     "text": [
      "7ZmgY5QG-M6datPLglXNU9tlPdcCJuiG7HWO8M8Dqmt61bZ4vGUwzqfNTCebGJ8b7XJU-6gAVzp6Lw\n"
     ]
    },
    {
     "name": "stderr",
     "output_type": "stream",
     "text": [
      "\r",
      " 71%|███████████████████████████▌           | 1196/1695 [32:38<04:57,  1.68it/s]"
     ]
    },
    {
     "name": "stdout",
     "output_type": "stream",
     "text": [
      "Y2CZpCPoN96yzgfAU6XrEI6WzaY7izsvKBkuS_5A_GQ5GUXeJ6JlrD1bqZZNY0TeVdpSvdcgNw-eQw\n"
     ]
    },
    {
     "name": "stderr",
     "output_type": "stream",
     "text": [
      "\r",
      " 71%|███████████████████████████▌           | 1197/1695 [32:39<04:26,  1.87it/s]"
     ]
    },
    {
     "name": "stdout",
     "output_type": "stream",
     "text": [
      "ArgVpWtbhDEptWspybN6-Ubvq6NPn9jYJETSH650orwFC35s9mERv3EgLoSW9nufFORRvIPSFU9-Dw\n"
     ]
    },
    {
     "name": "stderr",
     "output_type": "stream",
     "text": [
      "\r",
      " 71%|███████████████████████████▌           | 1198/1695 [32:39<03:42,  2.23it/s]"
     ]
    },
    {
     "name": "stdout",
     "output_type": "stream",
     "text": [
      "93wbJcPBBhIxPrvwDZrP6XaB9ZNv_6JtgJdMIRJUC85y1K_E7Hwysvp3yFmlvFwqnGrmKp7u5EROSw\n"
     ]
    },
    {
     "name": "stderr",
     "output_type": "stream",
     "text": [
      "\r",
      " 71%|███████████████████████████▌           | 1199/1695 [32:39<03:12,  2.57it/s]"
     ]
    },
    {
     "name": "stdout",
     "output_type": "stream",
     "text": [
      "u13KWkjQW8XN5sk20fEz6Iabm9lQCJcQmsYt1-WFZG8KwpHz6EaZrA0Hs-SrnD31WP_6P9awhV8H2g\n"
     ]
    },
    {
     "name": "stderr",
     "output_type": "stream",
     "text": [
      "\r",
      " 71%|███████████████████████████▌           | 1200/1695 [32:40<02:54,  2.84it/s]"
     ]
    },
    {
     "name": "stdout",
     "output_type": "stream",
     "text": [
      "1hkf_G7QR0uvLNIZIrFj33jVxo8xnkOPqYI7m_g5qx8n5Wh5xxCm8HEvR_VC3UozNPn0fRojO1bHNA\n"
     ]
    },
    {
     "name": "stderr",
     "output_type": "stream",
     "text": [
      "\r",
      " 71%|███████████████████████████▋           | 1201/1695 [32:40<02:42,  3.03it/s]"
     ]
    },
    {
     "name": "stdout",
     "output_type": "stream",
     "text": [
      "LhiFNZkwF0wzO1Uza9dFkhncCRuQDnBrms8x9HZ0nCBLYqqxhDJfbZTiZVGWOeQsrke8FtLGRQrHdA\n"
     ]
    },
    {
     "name": "stderr",
     "output_type": "stream",
     "text": [
      "\r",
      " 71%|███████████████████████████▋           | 1202/1695 [32:40<02:36,  3.14it/s]"
     ]
    },
    {
     "name": "stdout",
     "output_type": "stream",
     "text": [
      "FR07CrKl2GnTiTEf-2g3IBxBY4ms02lvBiYErWvApifwc6TCJODPrUMKN_O5ZWSfi0dwvG4Ujdl3dQ\n"
     ]
    },
    {
     "name": "stderr",
     "output_type": "stream",
     "text": [
      "\r",
      " 71%|███████████████████████████▋           | 1203/1695 [32:40<02:31,  3.25it/s]"
     ]
    },
    {
     "name": "stdout",
     "output_type": "stream",
     "text": [
      "F8sQLCf83q9wanMhL6r2OVFnpgYxOOFEUeWq2SEWU3udBqoTVtjwzAFm-Iq9sj2S_mXW3rXmj0uBpg\n"
     ]
    },
    {
     "name": "stderr",
     "output_type": "stream",
     "text": [
      "\r",
      " 71%|███████████████████████████▋           | 1204/1695 [32:41<02:22,  3.45it/s]"
     ]
    },
    {
     "name": "stdout",
     "output_type": "stream",
     "text": [
      "SMn6OXe1ryE_8GbM_U-PGZGygCKmx5Pvrpc8X8gHiw5_nhzndHyMZLxFdSR3Nwc6j9w_SdtgTs8A3w\n"
     ]
    },
    {
     "name": "stderr",
     "output_type": "stream",
     "text": [
      "\r",
      " 71%|███████████████████████████▋           | 1205/1695 [32:41<02:18,  3.54it/s]"
     ]
    },
    {
     "name": "stdout",
     "output_type": "stream",
     "text": [
      "x_ri2TGQ6s3AsCQ4eSTZgMQmkp85kmPruPjU7UFXMlrLA2MKDWpKe0DcfERz5N6UjX5-ahEN-iIZlQ\n"
     ]
    },
    {
     "name": "stderr",
     "output_type": "stream",
     "text": [
      "\r",
      " 71%|███████████████████████████▋           | 1206/1695 [32:41<02:14,  3.64it/s]"
     ]
    },
    {
     "name": "stdout",
     "output_type": "stream",
     "text": [
      "WPZSPeHgaiOOUlBMstNHOHe-qhQNzq4XLD5DLCOssuy1K0iX5elbfsgoFmvmdug2EZFmo2npDI6g2g\n"
     ]
    },
    {
     "name": "stderr",
     "output_type": "stream",
     "text": [
      "\r",
      " 71%|███████████████████████████▊           | 1207/1695 [32:41<02:17,  3.54it/s]"
     ]
    },
    {
     "name": "stdout",
     "output_type": "stream",
     "text": [
      "ke_Y4szT-WEyy42piFzIIW0i6jenH2_TZMiCv4tKSViL2si6qFuOfFmQOL0w1Nksb5mFguKLvxNILA\n"
     ]
    },
    {
     "name": "stderr",
     "output_type": "stream",
     "text": [
      "\r",
      " 71%|███████████████████████████▊           | 1208/1695 [32:42<03:34,  2.27it/s]"
     ]
    },
    {
     "name": "stdout",
     "output_type": "stream",
     "text": [
      "HFXfa5xNDWlA52qkpP8yUG-yevEkX0kFB6c1Ovtsy6KHxz_PIghnzZVuv6qsTGfN0hUF2HlRdFK19Q\n"
     ]
    },
    {
     "name": "stderr",
     "output_type": "stream",
     "text": [
      "\r",
      " 71%|███████████████████████████▊           | 1209/1695 [32:43<03:32,  2.29it/s]"
     ]
    },
    {
     "name": "stdout",
     "output_type": "stream",
     "text": [
      "PZFmLZhCjrnXNkTDJofd_K42vQp5FzSpC5BbejckpL1ePZuGdjhhvlhWbauXrK2o7bo_s4adBBlNUQ\n"
     ]
    },
    {
     "name": "stderr",
     "output_type": "stream",
     "text": [
      "\r",
      " 71%|███████████████████████████▊           | 1210/1695 [32:43<03:03,  2.64it/s]"
     ]
    },
    {
     "name": "stdout",
     "output_type": "stream",
     "text": [
      "clmxViPA-bLUUPdz8ySIe7zcIBDuF2pUnv0zfvWuCmmDtNaY0GxU8ZlhFHLbrE7Q2evUR3BBnCvOJA\n"
     ]
    },
    {
     "name": "stderr",
     "output_type": "stream",
     "text": [
      "\r",
      " 71%|███████████████████████████▊           | 1211/1695 [32:43<02:44,  2.95it/s]"
     ]
    },
    {
     "name": "stdout",
     "output_type": "stream",
     "text": [
      "XAS-yYcNoGSEX7Ugd-DDo0zAfliBC2awAUvSSioSRVasJfo9MeZ00YE2J_5u03hIyF0oFmbSpmjxBw\n"
     ]
    },
    {
     "name": "stderr",
     "output_type": "stream",
     "text": [
      "\r",
      " 72%|███████████████████████████▉           | 1212/1695 [32:44<02:49,  2.86it/s]"
     ]
    },
    {
     "name": "stdout",
     "output_type": "stream",
     "text": [
      "JXBKIpOVkrrdPKcM9m7_f7M2W9b7FyCEUxebjwAfx_pAs_k2WyFzSapGEGdEjRLD-ZNzE5Ibyl7m_Q\n"
     ]
    },
    {
     "name": "stderr",
     "output_type": "stream",
     "text": [
      "\r",
      " 72%|███████████████████████████▉           | 1213/1695 [32:44<02:34,  3.11it/s]"
     ]
    },
    {
     "name": "stdout",
     "output_type": "stream",
     "text": [
      "WC8lXt0m0iVG_5Pu-T6YL9UvSiSHFPWEWENJEl9309V5HB5nsCrSFzcE7Z3oPl2oJQsTT4poevwg7w\n"
     ]
    },
    {
     "name": "stderr",
     "output_type": "stream",
     "text": [
      "\r",
      " 72%|███████████████████████████▉           | 1214/1695 [32:44<02:25,  3.30it/s]"
     ]
    },
    {
     "name": "stdout",
     "output_type": "stream",
     "text": [
      "KHNtUNyfJydt3sqct_i8StYHmsH8mJTxnF-1ioqrFm5V6RdP7l3LRljFoKYDRZgwNUEyOlZw_gSkzA\n"
     ]
    },
    {
     "name": "stderr",
     "output_type": "stream",
     "text": [
      "\r",
      " 72%|███████████████████████████▉           | 1215/1695 [32:44<02:21,  3.40it/s]"
     ]
    },
    {
     "name": "stdout",
     "output_type": "stream",
     "text": [
      "blyjWrmDHY8XR3iCkP6Ws1L9kBvezkQqRRnLw3_nrbDeS0JXRMLOEtXjOI38TTo-Dq_7AZhl2xtNQQ\n"
     ]
    },
    {
     "name": "stderr",
     "output_type": "stream",
     "text": [
      "\r",
      " 72%|███████████████████████████▉           | 1216/1695 [32:45<02:12,  3.61it/s]"
     ]
    },
    {
     "name": "stdout",
     "output_type": "stream",
     "text": [
      "hA9jhFiKDQDFBhoodjIc7Gd2EYuIAANci4Z8ol20JgM_UbwT3XGymWEJLb0i5BpphymbpralRHytVw\n"
     ]
    },
    {
     "name": "stderr",
     "output_type": "stream",
     "text": [
      "\r",
      " 72%|████████████████████████████           | 1217/1695 [32:45<03:20,  2.38it/s]"
     ]
    },
    {
     "name": "stdout",
     "output_type": "stream",
     "text": [
      "wOKEXY8M1Ie9Ya3lAyDGOD4tp094PPeIT74LMVDupAee01PGjcJbAnLuMZnoHPKW9muAa-SnCCoGFA\n"
     ]
    },
    {
     "name": "stderr",
     "output_type": "stream",
     "text": [
      "\r",
      " 72%|████████████████████████████           | 1218/1695 [32:46<02:56,  2.70it/s]"
     ]
    },
    {
     "name": "stdout",
     "output_type": "stream",
     "text": [
      "GYw8k6kzRfWP-32_bvWQ7WNWCTrQV6r9lkl2-IOn8ewxlX8vv5yqkhKOm1Et8mUPueBnuyXfyocC6w\n"
     ]
    },
    {
     "name": "stderr",
     "output_type": "stream",
     "text": [
      "\r",
      " 72%|████████████████████████████           | 1219/1695 [32:46<02:44,  2.89it/s]"
     ]
    },
    {
     "name": "stdout",
     "output_type": "stream",
     "text": [
      "MpmyqC5emydc_GlBgjW1D7-puusAzsc6ahKy2Ls_PhQB-C2EnsfPLGkUnIwlrjL0Dj5OQxhE1h31xg\n"
     ]
    },
    {
     "name": "stderr",
     "output_type": "stream",
     "text": [
      "\r",
      " 72%|████████████████████████████           | 1220/1695 [32:46<03:03,  2.60it/s]"
     ]
    },
    {
     "name": "stdout",
     "output_type": "stream",
     "text": [
      "WTQDPd4Peni6peUSJADDsGZdgVKkxRZvkoKSMhEt_GKxym7HN7hwZeakYMphxcTyyqSLJqk4NuDwUQ\n"
     ]
    },
    {
     "name": "stderr",
     "output_type": "stream",
     "text": [
      "\r",
      " 72%|████████████████████████████           | 1221/1695 [32:47<02:43,  2.90it/s]"
     ]
    },
    {
     "name": "stdout",
     "output_type": "stream",
     "text": [
      "8qJawPC-ljAdpwPzTPwSFPhZ4fzi9Gt2P6ziAEoglohgjTPFSJAcfAhXAOHyi2UPYmOs_yBubqGRSA\n"
     ]
    },
    {
     "name": "stderr",
     "output_type": "stream",
     "text": [
      "\r",
      " 72%|████████████████████████████           | 1222/1695 [32:47<02:32,  3.11it/s]"
     ]
    },
    {
     "name": "stdout",
     "output_type": "stream",
     "text": [
      "cgnXQ5-wvODcm2SBYvRWmDTM083CvGTadmzXRc5XK4DwaoyB3WTCdklkeaDuw_aQP82WT0J7rvYE2w\n"
     ]
    },
    {
     "name": "stderr",
     "output_type": "stream",
     "text": [
      "\r",
      " 72%|████████████████████████████▏          | 1223/1695 [32:47<02:43,  2.89it/s]"
     ]
    },
    {
     "name": "stdout",
     "output_type": "stream",
     "text": [
      "het4LRYTYqLH9-soxTs_MkgJbt95UnI2crzGrJj4qbB0TRoBDpV06KvZG7gCJq1ODb6K4X56_OBRdw\n"
     ]
    },
    {
     "name": "stderr",
     "output_type": "stream",
     "text": [
      "\r",
      " 72%|████████████████████████████▏          | 1224/1695 [32:48<02:29,  3.15it/s]"
     ]
    },
    {
     "name": "stdout",
     "output_type": "stream",
     "text": [
      "DBqJ5wUfS0zHvaRGCIiu6IC7aFyNZJLOm-6kn_t8Y6797fsdkFAJzBtNtUTQJUg654WX428lxlUmrQ\n"
     ]
    },
    {
     "name": "stderr",
     "output_type": "stream",
     "text": [
      "\r",
      " 72%|████████████████████████████▏          | 1225/1695 [32:48<02:25,  3.24it/s]"
     ]
    },
    {
     "name": "stdout",
     "output_type": "stream",
     "text": [
      "ClvSwZu7oo7aIFRbSC5NKFz17ZpgWgY_1_jFbf9edhftAF_uJLimjVdGRssezvHPuNnXEOFfweYiAA\n"
     ]
    },
    {
     "name": "stderr",
     "output_type": "stream",
     "text": [
      "\r",
      " 72%|████████████████████████████▏          | 1226/1695 [32:48<02:18,  3.38it/s]"
     ]
    },
    {
     "name": "stdout",
     "output_type": "stream",
     "text": [
      "0z9br1nppOVYuX0to7wbpIEb0CJOeHsYU1xuM6p1oYjHLKUUo4zCzbE4SV9t8FcEOv5HUUND4IpjrA\n"
     ]
    },
    {
     "name": "stderr",
     "output_type": "stream",
     "text": [
      "\r",
      " 72%|████████████████████████████▏          | 1227/1695 [32:48<02:13,  3.50it/s]"
     ]
    },
    {
     "name": "stdout",
     "output_type": "stream",
     "text": [
      "bieTloHuNZfMJmAn8YYuXBmQbWUHjBKkAbq8S5aGYXH2M3j4gPhDlPWA-F2pZOonICnEglbvjgoirw\n"
     ]
    },
    {
     "name": "stderr",
     "output_type": "stream",
     "text": [
      "\r",
      " 72%|████████████████████████████▎          | 1228/1695 [32:49<02:09,  3.61it/s]"
     ]
    },
    {
     "name": "stdout",
     "output_type": "stream",
     "text": [
      "DW6eX6CXiABtuzICAmYAZH14vXtjCd7zfKSi_Ve3-Zyu-5WaQE9iLv7SAh3NNbjFiHEZqFEE6JNQbA\n"
     ]
    },
    {
     "name": "stderr",
     "output_type": "stream",
     "text": [
      "\r",
      " 73%|████████████████████████████▎          | 1229/1695 [32:49<02:05,  3.72it/s]"
     ]
    },
    {
     "name": "stdout",
     "output_type": "stream",
     "text": [
      "ccgmN-BMA2Bayo2lToEPPj8mXYSMbAA8B5Ub_tDpa3-mWzQf8ElxgNZlliw6yg474BeGuITZOPFo4g\n"
     ]
    },
    {
     "name": "stderr",
     "output_type": "stream",
     "text": [
      "\r",
      " 73%|████████████████████████████▎          | 1230/1695 [32:49<02:48,  2.76it/s]"
     ]
    },
    {
     "name": "stdout",
     "output_type": "stream",
     "text": [
      "H8POzNVH0XaB388Pu1vVktCcf2FKfmLc7hDxjC940DjECPjHEt6rti-MfkDavOMfODb2W5VWftnqKQ\n"
     ]
    },
    {
     "name": "stderr",
     "output_type": "stream",
     "text": [
      "\r",
      " 73%|████████████████████████████▎          | 1231/1695 [32:50<02:32,  3.05it/s]"
     ]
    },
    {
     "name": "stdout",
     "output_type": "stream",
     "text": [
      "h_PC1oybXXIeSKzDkQvDuEltZ-kzATZ3lVY5j-CRiokZARZklX855ShH42IBfwL6MhR72uqxaYoI7w\n"
     ]
    },
    {
     "name": "stderr",
     "output_type": "stream",
     "text": [
      "\r",
      " 73%|████████████████████████████▎          | 1232/1695 [32:50<02:22,  3.25it/s]"
     ]
    },
    {
     "name": "stdout",
     "output_type": "stream",
     "text": [
      "R6IGwQsmJAxrOnOqO5KlZkDpRf6LfZ-1shIb0wnOkOmMf2VkIkq9GZOqRMFHHsNPi100q51YEh0rfA\n"
     ]
    },
    {
     "name": "stderr",
     "output_type": "stream",
     "text": [
      "\r",
      " 73%|████████████████████████████▎          | 1233/1695 [32:51<03:19,  2.32it/s]"
     ]
    },
    {
     "name": "stdout",
     "output_type": "stream",
     "text": [
      "ejjuPOgCbqSbTdp5UHXYfGPU0uGcMaOM8iNHSXhIJ6f-ZXbFiQ0aYRKnIWgLk3zx-D5HO6C8U8_vuQ\n"
     ]
    },
    {
     "name": "stderr",
     "output_type": "stream",
     "text": [
      "\r",
      " 73%|████████████████████████████▍          | 1234/1695 [32:51<02:58,  2.59it/s]"
     ]
    },
    {
     "name": "stdout",
     "output_type": "stream",
     "text": [
      "QRR1q4rdThGHgrXJq2cZFdXathVUZI2KXZb0VQ8RhOFM-QF03WIIwQyBV_7m1cfLtpmhNV-RSm-3Ug\n"
     ]
    },
    {
     "name": "stderr",
     "output_type": "stream",
     "text": [
      "\r",
      " 73%|████████████████████████████▍          | 1235/1695 [32:51<02:58,  2.58it/s]"
     ]
    },
    {
     "name": "stdout",
     "output_type": "stream",
     "text": [
      "Z4EOmMWoJ0jwc81ur7K48WpDLrH3hH20r8XAE9SmSPb9_T_0AfMpqNJGQOCWzy4FqQoQfPdrUqL4Aw\n"
     ]
    },
    {
     "name": "stderr",
     "output_type": "stream",
     "text": [
      "\r",
      " 73%|████████████████████████████▍          | 1236/1695 [32:52<02:39,  2.87it/s]"
     ]
    },
    {
     "name": "stdout",
     "output_type": "stream",
     "text": [
      "D-QhUsIodbptNWktG_8JmtZIgjMqpLV3q_QG9uRiKyWT7gECKN7mTglBDvzqeNNA6GGfJ2rknm42sQ\n"
     ]
    },
    {
     "name": "stderr",
     "output_type": "stream",
     "text": [
      "\r",
      " 73%|████████████████████████████▍          | 1237/1695 [32:52<02:26,  3.14it/s]"
     ]
    },
    {
     "name": "stdout",
     "output_type": "stream",
     "text": [
      "Zj8Mjc5iZo530-i6nWGFgwcYtJN3E4ClIXwIBzv4lVLO0kH9sGZgP6VnHeUycT6sLPZ216vMVBHPkw\n"
     ]
    },
    {
     "name": "stderr",
     "output_type": "stream",
     "text": [
      "\r",
      " 73%|████████████████████████████▍          | 1238/1695 [32:53<03:13,  2.37it/s]"
     ]
    },
    {
     "name": "stdout",
     "output_type": "stream",
     "text": [
      "FO_fe05joJdmw6sso5JgvbetKu_ZTkBXtUloPVeF3txEd_mxslmMOfWWbH05Xa_1rS6cL-_SWNbTuQ\n"
     ]
    },
    {
     "name": "stderr",
     "output_type": "stream",
     "text": [
      "\r",
      " 73%|████████████████████████████▌          | 1239/1695 [32:53<02:49,  2.69it/s]"
     ]
    },
    {
     "name": "stdout",
     "output_type": "stream",
     "text": [
      "Vbi2GlbAShcun6bPc_1p7TGP-sCX6JlxgNKTCvT_nQIHlc5KFaADX9BFKplBie_-ovTgTQWoMjVnTQ\n"
     ]
    },
    {
     "name": "stderr",
     "output_type": "stream",
     "text": [
      "\r",
      " 73%|████████████████████████████▌          | 1240/1695 [32:53<02:34,  2.95it/s]"
     ]
    },
    {
     "name": "stdout",
     "output_type": "stream",
     "text": [
      "gtURzz3Hk_pnOqlgVUPD-Y0YXALB3gb4A7xVxDs69PI_90edKkyJQqliL-1WIYibQOGW0LldPeqgSg\n"
     ]
    },
    {
     "name": "stderr",
     "output_type": "stream",
     "text": [
      "\r",
      " 73%|████████████████████████████▌          | 1241/1695 [32:53<02:26,  3.10it/s]"
     ]
    },
    {
     "name": "stdout",
     "output_type": "stream",
     "text": [
      "gqJRLbC1UicTbmZ_agNw4DB5JXtsAL3aRfuNPEfDOO251u8auEnBICphLw0QkKHVCob6cb78Y5Xa4w\n"
     ]
    },
    {
     "name": "stderr",
     "output_type": "stream",
     "text": [
      "\r",
      " 73%|████████████████████████████▌          | 1242/1695 [32:54<03:08,  2.40it/s]"
     ]
    },
    {
     "name": "stdout",
     "output_type": "stream",
     "text": [
      "pquBt9B49VQD3rsHx4y6CBS-27YYS9Ww3nzpY7bzrtOAo7msPXn4QbqDP5Yl6d9z-3kXf06iQiHPMw\n"
     ]
    },
    {
     "name": "stderr",
     "output_type": "stream",
     "text": [
      "\r",
      " 73%|████████████████████████████▌          | 1243/1695 [32:54<02:52,  2.62it/s]"
     ]
    },
    {
     "name": "stdout",
     "output_type": "stream",
     "text": [
      "6trn5id3cXBZcmM7zaaMilrR7B_GVOmzrR6zjkfG5_r8wV85mtcAam7uXRfcZgzjWYUNaU4co3gemQ\n"
     ]
    },
    {
     "name": "stderr",
     "output_type": "stream",
     "text": [
      "\r",
      " 73%|████████████████████████████▌          | 1244/1695 [32:55<02:40,  2.81it/s]"
     ]
    },
    {
     "name": "stdout",
     "output_type": "stream",
     "text": [
      "lZoCbdJMBOqj8Uz_CiQAhUVcyYj0yu7MxkM20tetfW0q-E5v30GETzIG-zzInmqxT6zmbMbJ0_aa8A\n"
     ]
    },
    {
     "name": "stderr",
     "output_type": "stream",
     "text": [
      "\r",
      " 73%|████████████████████████████▋          | 1245/1695 [32:55<02:26,  3.07it/s]"
     ]
    },
    {
     "name": "stdout",
     "output_type": "stream",
     "text": [
      "PrO4FGsAVpcIsowAKCvBu9qhSOHdqYR3j55muHfrabKQpYd8_kZRSFF4ZJrQ3u7io55rz-scqgjcNA\n"
     ]
    },
    {
     "name": "stderr",
     "output_type": "stream",
     "text": [
      "\r",
      " 74%|████████████████████████████▋          | 1246/1695 [32:56<03:28,  2.16it/s]"
     ]
    },
    {
     "name": "stdout",
     "output_type": "stream",
     "text": [
      "ziufvAypbMZe4esygjhkzWRe2Sh20JbKe32ANEfsmEPoY8DyhD253n2exmpED1_8s2WY7Ob7legKPA\n"
     ]
    },
    {
     "name": "stderr",
     "output_type": "stream",
     "text": [
      "\r",
      " 74%|████████████████████████████▋          | 1247/1695 [32:56<02:59,  2.49it/s]"
     ]
    },
    {
     "name": "stdout",
     "output_type": "stream",
     "text": [
      "c4eH3O_FY7mJqxxL92SQ_WleUNlhllx5WPl-YkqJflqyUJ6l8JTZxXNEExu5-mWiFkA-b70_fyCX-w\n"
     ]
    },
    {
     "name": "stderr",
     "output_type": "stream",
     "text": [
      "\r",
      " 74%|████████████████████████████▋          | 1248/1695 [32:56<03:21,  2.22it/s]"
     ]
    },
    {
     "name": "stdout",
     "output_type": "stream",
     "text": [
      "TcVYRCQs6EIgz2iHKYh_CEkFtAO_kvQiZTiRZTuesHNCaklNZw-jbVTMoAVFp1eGNYH9xns-u_-XUg\n"
     ]
    },
    {
     "name": "stderr",
     "output_type": "stream",
     "text": [
      "\r",
      " 74%|████████████████████████████▋          | 1249/1695 [32:57<03:42,  2.00it/s]"
     ]
    },
    {
     "name": "stdout",
     "output_type": "stream",
     "text": [
      "pmoGleZzse1H9Oq3B0r039375p3aascqJMljCfvli-b9IntappWkNWG7WF-qTl1phHbunHN99mIHeg\n"
     ]
    },
    {
     "name": "stderr",
     "output_type": "stream",
     "text": [
      "\r",
      " 74%|████████████████████████████▊          | 1250/1695 [32:57<03:13,  2.30it/s]"
     ]
    },
    {
     "name": "stdout",
     "output_type": "stream",
     "text": [
      "PECjm5ZV8QM7vb_KNfBDsFvYqZor_nu_epehkkQ9vJ3QGsqJMmBko6_jL2T5aWwWt5NFyJzilPFXWw\n"
     ]
    },
    {
     "name": "stderr",
     "output_type": "stream",
     "text": [
      "\r",
      " 74%|████████████████████████████▊          | 1251/1695 [32:58<02:48,  2.64it/s]"
     ]
    },
    {
     "name": "stdout",
     "output_type": "stream",
     "text": [
      "rPWxy43rYRe4_X9DOX3x2trRzuMQqHkWinFfRZes2Yi0Jt2N0EouiYihWO78V0MhFCPbtUlWN-hF0g\n"
     ]
    },
    {
     "name": "stderr",
     "output_type": "stream",
     "text": [
      "\r",
      " 74%|████████████████████████████▊          | 1252/1695 [32:58<02:34,  2.87it/s]"
     ]
    },
    {
     "name": "stdout",
     "output_type": "stream",
     "text": [
      "oEIH_EXhjYLbpJl9E4zzhagtSpCCUlOfnzflYf8nWJ3g90Q7dKg5Iq7tf2syWqdIyh1LWKfAjrZZCw\n"
     ]
    },
    {
     "name": "stderr",
     "output_type": "stream",
     "text": [
      "\r",
      " 74%|████████████████████████████▊          | 1253/1695 [32:58<03:01,  2.43it/s]"
     ]
    },
    {
     "name": "stdout",
     "output_type": "stream",
     "text": [
      "s4HNaZS4YsA-vDJGsm8te3Vbz82gPmA5OCckwCsMpfdnI9u6NJDl9lQttAa5SRWz_vhxqLENkRXDxg\n"
     ]
    },
    {
     "name": "stderr",
     "output_type": "stream",
     "text": [
      "\r",
      " 74%|████████████████████████████▊          | 1254/1695 [32:59<02:41,  2.73it/s]"
     ]
    },
    {
     "name": "stdout",
     "output_type": "stream",
     "text": [
      "jMyu723z4_I1m3WUJ_RmtBGfNu-PHp2BDsS5uGJALIGtIRuvKNSGerNxxaBSC06BgDtLatNAANKnhg\n"
     ]
    },
    {
     "name": "stderr",
     "output_type": "stream",
     "text": [
      "\r",
      " 74%|████████████████████████████▉          | 1255/1695 [32:59<02:26,  3.00it/s]"
     ]
    },
    {
     "name": "stdout",
     "output_type": "stream",
     "text": [
      "Vlasm7BI69HyZTsqI9MQhFcIQSlEZ0N141UZLS-7GDsLA3gciQDjrFGPHLNWN4tMnj-2_U1sYIC7fw\n"
     ]
    },
    {
     "name": "stderr",
     "output_type": "stream",
     "text": [
      "\r",
      " 74%|████████████████████████████▉          | 1256/1695 [32:59<02:15,  3.24it/s]"
     ]
    },
    {
     "name": "stdout",
     "output_type": "stream",
     "text": [
      "mp3yjNYJjxsXW9MDTkYWVKl-oH3oWeEzZ-iuXqqq3uRWy3ak6UkiwnqERunIPe-7bxR-XxwrRQAF1w\n"
     ]
    },
    {
     "name": "stderr",
     "output_type": "stream",
     "text": [
      "\r",
      " 74%|████████████████████████████▉          | 1257/1695 [32:59<02:08,  3.40it/s]"
     ]
    },
    {
     "name": "stdout",
     "output_type": "stream",
     "text": [
      "ZX-Cb98UJ4_ho8FtqCpcuDFBT2G567rsk5wrd9nBGxmXJhMNulntKnOaIQyP9VYDVEQIq-sN7ywhMA\n"
     ]
    },
    {
     "name": "stderr",
     "output_type": "stream",
     "text": [
      "\r",
      " 74%|████████████████████████████▉          | 1258/1695 [33:00<02:04,  3.52it/s]"
     ]
    },
    {
     "name": "stdout",
     "output_type": "stream",
     "text": [
      "M1sPwiOcMuBy9ZeAZKkx3bfSJXHA6g6VUWp-3IC_T3YHCPO5PlnT0OOSy9LY7V_7gi2WRmoL8sMedQ\n"
     ]
    },
    {
     "name": "stderr",
     "output_type": "stream",
     "text": [
      "\r",
      " 74%|████████████████████████████▉          | 1259/1695 [33:00<01:59,  3.64it/s]"
     ]
    },
    {
     "name": "stdout",
     "output_type": "stream",
     "text": [
      "2-Qh6zO7W_cNm1kQetp2-UctIAX7O_CtobnL2nvgHwIwWKgbVeXdPNj2LVTf4tVlIB28wnGql5xEdw\n"
     ]
    },
    {
     "name": "stderr",
     "output_type": "stream",
     "text": [
      "\r",
      " 74%|████████████████████████████▉          | 1260/1695 [33:00<01:57,  3.72it/s]"
     ]
    },
    {
     "name": "stdout",
     "output_type": "stream",
     "text": [
      "9Tc55WzKkmXDgyOrta66daJcl3zmsmg1FccXVGxGua_N_jC6fuFFmU6x4JfOr6kmnswe0GSLFTEIcg\n"
     ]
    },
    {
     "name": "stderr",
     "output_type": "stream",
     "text": [
      "\r",
      " 74%|█████████████████████████████          | 1261/1695 [33:00<02:01,  3.56it/s]"
     ]
    },
    {
     "name": "stdout",
     "output_type": "stream",
     "text": [
      "ZTxhi4NjNAEEAVqJ6RoxYpphhuqbSMbYtfO3cEGv_gP2yzJfoc1Ym1db2ogJGNNWHDivOFSCfG3OLA\n"
     ]
    },
    {
     "name": "stderr",
     "output_type": "stream",
     "text": [
      "\r",
      " 74%|█████████████████████████████          | 1262/1695 [33:01<01:58,  3.66it/s]"
     ]
    },
    {
     "name": "stdout",
     "output_type": "stream",
     "text": [
      "UaUw9lVkXPMh5nIstyOZnWG6POdMw4sbQo2JM6dNT6MOYXSeCjppbVOf7DTvEHmFZOnxJtnfBdHsfg\n"
     ]
    },
    {
     "name": "stderr",
     "output_type": "stream",
     "text": [
      "\r",
      " 75%|█████████████████████████████          | 1263/1695 [33:01<01:55,  3.76it/s]"
     ]
    },
    {
     "name": "stdout",
     "output_type": "stream",
     "text": [
      "8LzZ1P5XiD7FQqQX9H88Trrs1KJwDmzXhLgXnqDjZeUZUqyqNNGs8a5VmCEZeHhTq1SwW9PTofDmtw\n"
     ]
    },
    {
     "name": "stderr",
     "output_type": "stream",
     "text": [
      "\r",
      " 75%|█████████████████████████████          | 1264/1695 [33:01<01:57,  3.68it/s]"
     ]
    },
    {
     "name": "stdout",
     "output_type": "stream",
     "text": [
      "KPuagkF9OpKkhGr-a0wfy28aUlkgGTjnNH9nMKXXj3i1JG9Rgj5ff1m4k7tP903xquG63VPjUdtCow\n"
     ]
    },
    {
     "name": "stderr",
     "output_type": "stream",
     "text": [
      "\r",
      " 75%|█████████████████████████████          | 1265/1695 [33:02<01:58,  3.63it/s]"
     ]
    },
    {
     "name": "stdout",
     "output_type": "stream",
     "text": [
      "9-9kFN2O7GwOOcBpkN-Ilewi-H4a8xkxkeKZ9LjNSZe3yeugeUlg1wAkQD6Y5kKbDIgu_EyJM4kBcQ\n"
     ]
    },
    {
     "name": "stderr",
     "output_type": "stream",
     "text": [
      "\r",
      " 75%|█████████████████████████████▏         | 1266/1695 [33:02<01:54,  3.74it/s]"
     ]
    },
    {
     "name": "stdout",
     "output_type": "stream",
     "text": [
      "ye7Pwuspmjuki8tNYPvncFC6J38ykPL8nPoeA24wSMfFVjPbhGw2fgBqgDW0hkoKdsasoiUfmoZ3fA\n"
     ]
    },
    {
     "name": "stderr",
     "output_type": "stream",
     "text": [
      "\r",
      " 75%|█████████████████████████████▏         | 1267/1695 [33:02<01:51,  3.83it/s]"
     ]
    },
    {
     "name": "stdout",
     "output_type": "stream",
     "text": [
      "VfJw9A84VtqqiKPe6fUK9HhDxD6CEWf37N6-zct9FdT4Lv6bM-Z0DOwW_0zOhkKv2qB5blxHJioSzw\n"
     ]
    },
    {
     "name": "stderr",
     "output_type": "stream",
     "text": [
      "\r",
      " 75%|█████████████████████████████▏         | 1268/1695 [33:02<01:49,  3.89it/s]"
     ]
    },
    {
     "name": "stdout",
     "output_type": "stream",
     "text": [
      "NWIf0P8sl2wabjiqr8wQaHxS-kfbLBHoKrawNmLnTM_iFxkiQrWfsfdd1G4n4Emcm2rVZnCyxGt8Og\n"
     ]
    },
    {
     "name": "stderr",
     "output_type": "stream",
     "text": [
      "\r",
      " 75%|█████████████████████████████▏         | 1269/1695 [33:03<02:39,  2.68it/s]"
     ]
    },
    {
     "name": "stdout",
     "output_type": "stream",
     "text": [
      "USsquBZ8puRWP-Mtvwd3dkE33jz6hW13jRsEfoSdKpDyOpSkg9I_g3l5mJr3CsvsEfQzhWQMEZzsdA\n"
     ]
    },
    {
     "name": "stderr",
     "output_type": "stream",
     "text": [
      "\r",
      " 75%|█████████████████████████████▏         | 1270/1695 [33:03<02:24,  2.94it/s]"
     ]
    },
    {
     "name": "stdout",
     "output_type": "stream",
     "text": [
      "bDgAoFulHvZf5CuJg82LrG9I6UqL4WwNw7JFSyDG5GQqwqkz-inV9Ozt1IThvs_Jmeh7jso3d0SDYw\n"
     ]
    },
    {
     "name": "stderr",
     "output_type": "stream",
     "text": [
      "\r",
      " 75%|█████████████████████████████▏         | 1271/1695 [33:03<02:14,  3.16it/s]"
     ]
    },
    {
     "name": "stdout",
     "output_type": "stream",
     "text": [
      "eBaLfMl1l9E9ltVQGCAEAm8lGdiNOvKGpa5JxbT6Pf3zHbCv-ISVCXcG5oV1nMwBW_hiSZw1tbILdg\n"
     ]
    },
    {
     "name": "stderr",
     "output_type": "stream",
     "text": [
      "\r",
      " 75%|█████████████████████████████▎         | 1272/1695 [33:04<02:22,  2.96it/s]"
     ]
    },
    {
     "name": "stdout",
     "output_type": "stream",
     "text": [
      "3WbOt-trwn2xkeRAV7Z_1pnzBp7yct0llysP9zzx-IpCHAR_8pegOOmqUcmyIUOVPcx-fx0JT4lVFw\n"
     ]
    },
    {
     "name": "stderr",
     "output_type": "stream",
     "text": [
      "\r",
      " 75%|█████████████████████████████▎         | 1273/1695 [33:04<02:13,  3.17it/s]"
     ]
    },
    {
     "name": "stdout",
     "output_type": "stream",
     "text": [
      "knRCG90tqf_5RwoCgj37bL6oQW4ygWIurSfuw_zSfXJiy_3XR9URbKp3fnxH5sI_8EWhKE_6X9YB-Q\n"
     ]
    },
    {
     "name": "stderr",
     "output_type": "stream",
     "text": [
      "\r",
      " 75%|█████████████████████████████▎         | 1274/1695 [33:04<02:04,  3.39it/s]"
     ]
    },
    {
     "name": "stdout",
     "output_type": "stream",
     "text": [
      "_FIfN0mtbIjxWdzGqrKN8zcX4OtCgfS98Nar5_RoRV94c0zphkJS8FPmUXFCbwtlwQJJW2zRzLnzRg\n"
     ]
    },
    {
     "name": "stderr",
     "output_type": "stream",
     "text": [
      "\r",
      " 75%|█████████████████████████████▎         | 1275/1695 [33:05<02:17,  3.06it/s]"
     ]
    },
    {
     "name": "stdout",
     "output_type": "stream",
     "text": [
      "3rTJqB8-3jA6Rz44oxEnzEo_DIDrGEmecmdkiy9Lfcgvxm4OhLlGtU1rx9UO0y9Ra3h8qB3SW0UPXQ\n"
     ]
    },
    {
     "name": "stderr",
     "output_type": "stream",
     "text": [
      "\r",
      " 75%|█████████████████████████████▎         | 1276/1695 [33:05<02:07,  3.30it/s]"
     ]
    },
    {
     "name": "stdout",
     "output_type": "stream",
     "text": [
      "M4Nso4oHxdNuyJF6woGB6hTHcfUJfW6uChz8uEjy85pMMn1lMgnFcxxolj0dpauvQVNTQojibl27Qg\n"
     ]
    },
    {
     "name": "stderr",
     "output_type": "stream",
     "text": [
      "\r",
      " 75%|█████████████████████████████▍         | 1277/1695 [33:05<02:01,  3.44it/s]"
     ]
    },
    {
     "name": "stdout",
     "output_type": "stream",
     "text": [
      "4HKjKG_c2WezllknciRYw-TEVl9EI_NxN0mps62jBBscxczkGrjq4pv3Ft8027dY26spJ8CocBBRmw\n"
     ]
    },
    {
     "name": "stderr",
     "output_type": "stream",
     "text": [
      "\r",
      " 75%|█████████████████████████████▍         | 1278/1695 [33:06<02:31,  2.75it/s]"
     ]
    },
    {
     "name": "stdout",
     "output_type": "stream",
     "text": [
      "Vh8HQ0pKBes8WESfIq6r5Un4CoZd4vKn-MWW5x3K67-lYTL0UC1amZpwZecfjKkfvWSeeSjPrOBa2A\n",
      "api cost full : infinite loop start\n",
      "loop location :  _4So77E5VNXTzSZqGWZ_vj1REbvBQo4rcmyNj-ljXg1D45w\n",
      "try 10 second wait time\n",
      "429\n",
      "try 10 second wait time\n",
      "429\n",
      "try 10 second wait time\n",
      "429\n",
      "try 10 second wait time\n",
      "429\n",
      "try 10 second wait time\n",
      "429\n",
      "try 10 second wait time\n",
      "429\n",
      "try 10 second wait time\n",
      "429\n",
      "try 10 second wait time\n"
     ]
    },
    {
     "name": "stderr",
     "output_type": "stream",
     "text": [
      "\r",
      " 75%|███████████████████████████▉         | 1279/1695 [34:29<2:54:38, 25.19s/it]"
     ]
    },
    {
     "name": "stdout",
     "output_type": "stream",
     "text": [
      "200\n",
      "total wait time :  82.91780304908752\n",
      "recovery api cost\n",
      "RwQlutG72rWuViQZL8Nv2vLfbBNY4L-53ARtToIK8Z42dPffWPdxA3M5vtftOpNrWp9Vx8vs0BI2PA\n"
     ]
    },
    {
     "name": "stderr",
     "output_type": "stream",
     "text": [
      "\r",
      " 76%|███████████████████████████▉         | 1280/1695 [34:29<2:03:00, 17.79s/it]"
     ]
    },
    {
     "name": "stdout",
     "output_type": "stream",
     "text": [
      "JDzviDThMund2eTbgjdnIkieg8Puc4p200B5Lgbh_BuyGNgEtv7CQr5g5xd0LlPZBBzV5LtI8B8ElA\n"
     ]
    },
    {
     "name": "stderr",
     "output_type": "stream",
     "text": [
      "\r",
      " 76%|███████████████████████████▉         | 1281/1695 [34:30<1:26:25, 12.53s/it]"
     ]
    },
    {
     "name": "stdout",
     "output_type": "stream",
     "text": [
      "QYhKyXlq19jeYbapQwoTGV_mbmQefDz2zRuMWhrg5kfk92vHXbJpfkSz2_vkCTEgm7ZZ0LvtHCDI6g\n"
     ]
    },
    {
     "name": "stderr",
     "output_type": "stream",
     "text": [
      "\r",
      " 76%|███████████████████████████▉         | 1282/1695 [34:31<1:02:47,  9.12s/it]"
     ]
    },
    {
     "name": "stdout",
     "output_type": "stream",
     "text": [
      "maK_ICIajTsxirh5ITDe0nIVLrW5lGhMaazgzT0yJGqgOTGOAtX0p7g9NrII79KfeVHh1FZPPHJ3Sw\n"
     ]
    },
    {
     "name": "stderr",
     "output_type": "stream",
     "text": [
      "\r",
      " 76%|█████████████████████████████▌         | 1283/1695 [34:31<44:25,  6.47s/it]"
     ]
    },
    {
     "name": "stdout",
     "output_type": "stream",
     "text": [
      "aZWhCJB5QhF66NCWk2YkUr-cwseE84yhkfxrd30f-FXQ-46sYXwR4x5zoM9_eb0umdmV9XqQrd2jNQ\n"
     ]
    },
    {
     "name": "stderr",
     "output_type": "stream",
     "text": [
      "\r",
      " 76%|█████████████████████████████▌         | 1284/1695 [34:32<33:14,  4.85s/it]"
     ]
    },
    {
     "name": "stdout",
     "output_type": "stream",
     "text": [
      "tsimNcksZRr_cefKE1UbnvuVS6hy4aX1NT4sMVHmj5FoCIryVTybSHeXwqra0twiKaYGmpuceOsRHg\n"
     ]
    },
    {
     "name": "stderr",
     "output_type": "stream",
     "text": [
      "\r",
      " 76%|█████████████████████████████▌         | 1285/1695 [34:33<25:18,  3.70s/it]"
     ]
    },
    {
     "name": "stdout",
     "output_type": "stream",
     "text": [
      "f9Kt5M3nb_3eFUeoHjszvtENHsJrpttFzjqGobfjgXv3mvEPEtMmVCPMPhsC55cc39PRO9agpe5y8Q\n"
     ]
    },
    {
     "name": "stderr",
     "output_type": "stream",
     "text": [
      "\r",
      " 76%|█████████████████████████████▌         | 1286/1695 [34:34<19:29,  2.86s/it]"
     ]
    },
    {
     "name": "stdout",
     "output_type": "stream",
     "text": [
      "ZbPBMWTMBWrAiqkuHzFHuFDb8ydCZwqzlrLUYgMCtiAJzX-5jOP08iPGaHJzjzOXItCGftlYewZ-Cw\n"
     ]
    },
    {
     "name": "stderr",
     "output_type": "stream",
     "text": [
      "\r",
      " 76%|█████████████████████████████▌         | 1287/1695 [34:34<14:08,  2.08s/it]"
     ]
    },
    {
     "name": "stdout",
     "output_type": "stream",
     "text": [
      "GU7HZUI8xqW5hq-QUcEOxZf4O0-Vjy7R1tpKqX-bKR96TyU1VYp1EZ65LQe_Ft4b9QHG8IelxfNCWg\n"
     ]
    },
    {
     "name": "stderr",
     "output_type": "stream",
     "text": [
      "\r",
      " 76%|█████████████████████████████▋         | 1288/1695 [34:35<11:45,  1.73s/it]"
     ]
    },
    {
     "name": "stdout",
     "output_type": "stream",
     "text": [
      "Yj51BT7A5mktXcx_b57p9njOx2eGiJjgioMyUDtyj9eET93ihzaRfkZ5eswwjXXoCU1_zixJWt7K2A\n"
     ]
    },
    {
     "name": "stderr",
     "output_type": "stream",
     "text": [
      "\r",
      " 76%|█████████████████████████████▋         | 1289/1695 [34:36<10:20,  1.53s/it]"
     ]
    },
    {
     "name": "stdout",
     "output_type": "stream",
     "text": [
      "eRoppzSjFrVBig7Nm4zmUPdGuc_iFfvliWPNor3rHnybEC89MfoDW8EvhMgYovZ4crR3813dIKT7GQ\n"
     ]
    },
    {
     "name": "stderr",
     "output_type": "stream",
     "text": [
      "\r",
      " 76%|█████████████████████████████▋         | 1290/1695 [34:37<09:21,  1.39s/it]"
     ]
    },
    {
     "name": "stdout",
     "output_type": "stream",
     "text": [
      "chDOv4SzFwM9i_hx0y5wIWcFa82OiPk7vT2R13P3ob2YopceWPjMTdfunITKIKJcxI44t9iccHd4cw\n"
     ]
    },
    {
     "name": "stderr",
     "output_type": "stream",
     "text": [
      "\r",
      " 76%|█████████████████████████████▋         | 1291/1695 [34:38<07:04,  1.05s/it]"
     ]
    },
    {
     "name": "stdout",
     "output_type": "stream",
     "text": [
      "3BS9QaTMpJzhdyI3FUqGhx_L7MiiMtxeouuNz7UxJpLoiybgVtYMd642fSTPOhrskWSe5ootmrBljg\n"
     ]
    },
    {
     "name": "stderr",
     "output_type": "stream",
     "text": [
      "\r",
      " 76%|█████████████████████████████▋         | 1292/1695 [34:39<07:03,  1.05s/it]"
     ]
    },
    {
     "name": "stdout",
     "output_type": "stream",
     "text": [
      "YIrNZAQbTZAab6vQFwoIOk1Px0FFu3nXRFG4TgL1tXLEvy4R7LvBzHukVF6by3B5VJMa-ASihW2iFQ\n"
     ]
    },
    {
     "name": "stderr",
     "output_type": "stream",
     "text": [
      "\r",
      " 76%|█████████████████████████████▊         | 1293/1695 [34:40<06:45,  1.01s/it]"
     ]
    },
    {
     "name": "stdout",
     "output_type": "stream",
     "text": [
      "nASrlFM8wPINhXi7dSBGtK4l9owYDvcUBsvX-C4wSgLaYnNxMcB1ekM3MwaqHd7FGugaEY1tNXZLaQ\n"
     ]
    },
    {
     "name": "stderr",
     "output_type": "stream",
     "text": [
      "\r",
      " 76%|█████████████████████████████▊         | 1294/1695 [34:40<05:13,  1.28it/s]"
     ]
    },
    {
     "name": "stdout",
     "output_type": "stream",
     "text": [
      "42T_ltSsCzjFkXG785p3wvxXV9ZGTitxy7VQzLIo-PUdXYBy6OHyB3ExzvXmVEHAKuVdg8Gt_c5_lg\n"
     ]
    },
    {
     "name": "stderr",
     "output_type": "stream",
     "text": [
      "\r",
      " 76%|█████████████████████████████▊         | 1295/1695 [34:40<04:13,  1.58it/s]"
     ]
    },
    {
     "name": "stdout",
     "output_type": "stream",
     "text": [
      "PwFzsXyxUjuwjpdZ2FPaoT4MJbloIgNeUh9XXlLIcfrRLevWOwzn0AfuVkbOYT3cQ--6mjvdI8D6JQ\n"
     ]
    },
    {
     "name": "stderr",
     "output_type": "stream",
     "text": [
      "\r",
      " 76%|█████████████████████████████▊         | 1296/1695 [34:41<04:54,  1.36it/s]"
     ]
    },
    {
     "name": "stdout",
     "output_type": "stream",
     "text": [
      "hlRhSchgvwHC-BvSp-vOv_wysq6TAIksHOakqf4neO-UXwGz5bQGlhWZG7vaej0POUKvFJZWHvEOJA\n"
     ]
    },
    {
     "name": "stderr",
     "output_type": "stream",
     "text": [
      "\r",
      " 77%|█████████████████████████████▊         | 1297/1695 [34:42<05:21,  1.24it/s]"
     ]
    },
    {
     "name": "stdout",
     "output_type": "stream",
     "text": [
      "_zHKa-knL8H03jVNENkoVAXFtA_VvaWM7stClBUeU1tVa0DYzoWWTj-Mx5QeSnQY9oLUWc77TQlOHw\n"
     ]
    },
    {
     "name": "stderr",
     "output_type": "stream",
     "text": [
      "\r",
      " 77%|█████████████████████████████▊         | 1298/1695 [34:43<05:20,  1.24it/s]"
     ]
    },
    {
     "name": "stdout",
     "output_type": "stream",
     "text": [
      "-RL6Q0PMAsJv39kOsjwbQx0lSh4baJbxTx7B7vFfqmBXlO-zdwlO7mRqxGkpdxLsENeZNshse3gG5w\n"
     ]
    },
    {
     "name": "stderr",
     "output_type": "stream",
     "text": [
      "\r",
      " 77%|█████████████████████████████▉         | 1299/1695 [34:44<05:43,  1.15it/s]"
     ]
    },
    {
     "name": "stdout",
     "output_type": "stream",
     "text": [
      "eodhFpaj61Vr1CeM3ZbyzRp0Ue0gwLBoWDecOrLait6NGO3qJegcSKaJbgGtdwqHfQHgbQ09UwR08A\n"
     ]
    },
    {
     "name": "stderr",
     "output_type": "stream",
     "text": [
      "\r",
      " 77%|█████████████████████████████▉         | 1300/1695 [34:45<06:17,  1.05it/s]"
     ]
    },
    {
     "name": "stdout",
     "output_type": "stream",
     "text": [
      "z8mFfjpiu7QfGy2pxSPPCOIg8wrW1RU7uSKDgktQbMg5MHapVU4zjVZ4eyGdRGNuCSjsOceSLDE_yQ\n"
     ]
    },
    {
     "name": "stderr",
     "output_type": "stream",
     "text": [
      "\r",
      " 77%|█████████████████████████████▉         | 1301/1695 [34:45<04:53,  1.34it/s]"
     ]
    },
    {
     "name": "stdout",
     "output_type": "stream",
     "text": [
      "gJdG5bhq2qi9mIuTEWxatl7C82emrIMvAetNi_J_WIUOBGzXZ8DfQQHlhGQkuXoJ9BYiUdo4Xih55w\n"
     ]
    },
    {
     "name": "stderr",
     "output_type": "stream",
     "text": [
      "\r",
      " 77%|█████████████████████████████▉         | 1302/1695 [34:46<04:16,  1.53it/s]"
     ]
    },
    {
     "name": "stdout",
     "output_type": "stream",
     "text": [
      "kz0wAYz5ccu2u7DZYTQceS-_E_GShdJel2jHqk6cdbpQaYA0igltF9JO9Ah5K8uu-jZiHAkx6otsCw\n"
     ]
    },
    {
     "name": "stderr",
     "output_type": "stream",
     "text": [
      "\r",
      " 77%|█████████████████████████████▉         | 1303/1695 [34:46<03:58,  1.64it/s]"
     ]
    },
    {
     "name": "stdout",
     "output_type": "stream",
     "text": [
      "87Nr_a9U9xvqX4BermcPsuW4_1yKgY5vcNsHvjC0B9GxRYPQwG3tReXVUR6rMDg23IXeeLoonZI_Tg\n"
     ]
    },
    {
     "name": "stderr",
     "output_type": "stream",
     "text": [
      "\r",
      " 77%|██████████████████████████████         | 1304/1695 [34:47<03:44,  1.74it/s]"
     ]
    },
    {
     "name": "stdout",
     "output_type": "stream",
     "text": [
      "iHU7OPY5_QXu8EmaI74iay86CYgHztxE13Mt4cTzHhO6-jolKY1fAArDey_Y2QxlXAO2d5fq8OGF2g\n"
     ]
    },
    {
     "name": "stderr",
     "output_type": "stream",
     "text": [
      "\r",
      " 77%|██████████████████████████████         | 1305/1695 [34:47<03:06,  2.09it/s]"
     ]
    },
    {
     "name": "stdout",
     "output_type": "stream",
     "text": [
      "fnPd9hEyRSzsN0M5w7lAINzcausSioqDRTIJY_YzTA0PezmLuWdiIdV5jtYuNkQ3fL_U2nsI-8l-tw\n"
     ]
    },
    {
     "name": "stderr",
     "output_type": "stream",
     "text": [
      "\r",
      " 77%|██████████████████████████████         | 1306/1695 [34:47<02:49,  2.30it/s]"
     ]
    },
    {
     "name": "stdout",
     "output_type": "stream",
     "text": [
      "LhXjfImTcN3HZ2bVGJ1ajxbvS5T6j3tXMcNM48m9UWqBQ51VbVIMSADqOka0u--QsLTqD4j0JFWyFQ\n"
     ]
    },
    {
     "name": "stderr",
     "output_type": "stream",
     "text": [
      "\r",
      " 77%|██████████████████████████████         | 1307/1695 [34:48<02:35,  2.49it/s]"
     ]
    },
    {
     "name": "stdout",
     "output_type": "stream",
     "text": [
      "eDvTFBiEb904SrEK9lhX1ux1YUdd-wbIT4ox5VFMAuHsNV_1qjTyRnA8KGhYNkW5fsTzoyKziqJlHg\n"
     ]
    },
    {
     "name": "stderr",
     "output_type": "stream",
     "text": [
      "\r",
      " 77%|██████████████████████████████         | 1308/1695 [34:48<03:06,  2.07it/s]"
     ]
    },
    {
     "name": "stdout",
     "output_type": "stream",
     "text": [
      "f2yO-XG7JWlZgTEbBLsuLSMZMNSCS8HkjBynLzs1bwFLXYRW6IrCJBZgSviP7IIEbS6e6XYtKUPpsg\n"
     ]
    },
    {
     "name": "stderr",
     "output_type": "stream",
     "text": [
      "\r",
      " 77%|██████████████████████████████         | 1309/1695 [34:49<03:01,  2.12it/s]"
     ]
    },
    {
     "name": "stdout",
     "output_type": "stream",
     "text": [
      "iINA83CgoJG8xMHXFXKhE0hgpljUK0_nDnDnQcCdJ4bLp5cHFJW7gWMVkFeRn_v5-JY26AFTukP7eA\n"
     ]
    },
    {
     "name": "stderr",
     "output_type": "stream",
     "text": [
      "\r",
      " 77%|██████████████████████████████▏        | 1310/1695 [34:49<02:38,  2.43it/s]"
     ]
    },
    {
     "name": "stdout",
     "output_type": "stream",
     "text": [
      "ZyeKFUmn4TfWKeIyc2FjPeiEpz2LTQy9z8d9uO8FqNDH9AI94bL7c1IfkLC4PQ3LrHUYlKyUswl71Q\n"
     ]
    },
    {
     "name": "stderr",
     "output_type": "stream",
     "text": [
      "\r",
      " 77%|██████████████████████████████▏        | 1311/1695 [34:50<02:51,  2.24it/s]"
     ]
    },
    {
     "name": "stdout",
     "output_type": "stream",
     "text": [
      "6l4Ly7onG6cg9IFxi0CiHf4JN4bWLcAZOFIxGCdlhz0MKXYGn9hgJMp8DL5V3uYrUU_HMi4Gg3ssvA\n"
     ]
    },
    {
     "name": "stderr",
     "output_type": "stream",
     "text": [
      "\r",
      " 77%|██████████████████████████████▏        | 1312/1695 [34:50<02:34,  2.48it/s]"
     ]
    },
    {
     "name": "stdout",
     "output_type": "stream",
     "text": [
      "gyUjnmHDKrBIiL-OvcJ5Abja_Gv4rRXJwmJ0-il1kFgQvDczppqFRHJbki6GrPPsEDIgCxO3kAQujQ\n"
     ]
    },
    {
     "name": "stderr",
     "output_type": "stream",
     "text": [
      "\r",
      " 77%|██████████████████████████████▏        | 1313/1695 [34:50<02:15,  2.82it/s]"
     ]
    },
    {
     "name": "stdout",
     "output_type": "stream",
     "text": [
      "wh-we7-PKdlaECPoS8sR0xFegvTQwZl_yXxepuUsPm2jFRMc9xbgpA326qGetoMcN5YrpMbYdi6KgA\n"
     ]
    },
    {
     "name": "stderr",
     "output_type": "stream",
     "text": [
      "\r",
      " 78%|██████████████████████████████▏        | 1314/1695 [34:51<02:11,  2.90it/s]"
     ]
    },
    {
     "name": "stdout",
     "output_type": "stream",
     "text": [
      "r5xVU1b6t6arjrMtHOgNitsrDB1shh0dNb2QDsN06BEVNEdU2fEurW-CjB6-995MaD0O-gAK4QOz-A\n"
     ]
    },
    {
     "name": "stderr",
     "output_type": "stream",
     "text": [
      "\r",
      " 78%|██████████████████████████████▎        | 1315/1695 [34:51<02:58,  2.13it/s]"
     ]
    },
    {
     "name": "stdout",
     "output_type": "stream",
     "text": [
      "xkptJeTJ8KLTmhDO6iTwCq0aclPcnZUMluOsVphWGKhQrC0dtI_Ulm9BBJ5PJ2FXd07LZRopE1Xz2Q\n"
     ]
    },
    {
     "name": "stderr",
     "output_type": "stream",
     "text": [
      "\r",
      " 78%|██████████████████████████████▎        | 1316/1695 [34:52<03:14,  1.95it/s]"
     ]
    },
    {
     "name": "stdout",
     "output_type": "stream",
     "text": [
      "mPm34K-6ax4n0CxoPUayXXC2TRrO3aTgcmW8WL6zBzROUjBnZbWC3ClftboAiE5ScepafehcpEiMbA\n"
     ]
    },
    {
     "name": "stderr",
     "output_type": "stream",
     "text": [
      "\r",
      " 78%|██████████████████████████████▎        | 1317/1695 [34:52<02:48,  2.25it/s]"
     ]
    },
    {
     "name": "stdout",
     "output_type": "stream",
     "text": [
      "-U2WNstMsj7fs66i0AdvOjpDC2UOSa02rU7a_9QS3E4YOKLk8Fl_eJI3fXMkTBG--3uLoyI26_pdrA\n"
     ]
    },
    {
     "name": "stderr",
     "output_type": "stream",
     "text": [
      "\r",
      " 78%|██████████████████████████████▎        | 1318/1695 [34:52<02:28,  2.54it/s]"
     ]
    },
    {
     "name": "stdout",
     "output_type": "stream",
     "text": [
      "stkLaGXJiIOh8s9jKqe9Iiee6RKuwYifc-l4XgQ5hWV3tsIt33XS8wotD5ig97_83cJ8285AS85ggg\n"
     ]
    },
    {
     "name": "stderr",
     "output_type": "stream",
     "text": [
      "\r",
      " 78%|██████████████████████████████▎        | 1319/1695 [34:53<03:36,  1.73it/s]"
     ]
    },
    {
     "name": "stdout",
     "output_type": "stream",
     "text": [
      "nBuLAunAQ12KrbJsvumHP6GWZckNg_iv6oJRD2Ddg-zOdWPECPKd-D-yrzjTJRodGut4HrpOnjRHUw\n"
     ]
    },
    {
     "name": "stderr",
     "output_type": "stream",
     "text": [
      "\r",
      " 78%|██████████████████████████████▎        | 1320/1695 [34:54<02:58,  2.10it/s]"
     ]
    },
    {
     "name": "stdout",
     "output_type": "stream",
     "text": [
      "gmhccYHkjbnyI9f94DA4WmHOqqDtk-2acwPQyaf-hc4N8DBQ-lEYl7NxhwQB_mJB3RNhVwl4cjB9gQ\n"
     ]
    },
    {
     "name": "stderr",
     "output_type": "stream",
     "text": [
      "\r",
      " 78%|██████████████████████████████▍        | 1321/1695 [34:54<02:33,  2.43it/s]"
     ]
    },
    {
     "name": "stdout",
     "output_type": "stream",
     "text": [
      "nYDeOKyB9YkSDsMsORYjfvdnI6a9pgTVxAJFNNQUkwP4ETl3ZvO6mAgi2dObnsQ-LY1zs_hvEvPCbg\n"
     ]
    },
    {
     "name": "stderr",
     "output_type": "stream",
     "text": [
      "\r",
      " 78%|██████████████████████████████▍        | 1322/1695 [34:56<04:42,  1.32it/s]"
     ]
    },
    {
     "name": "stdout",
     "output_type": "stream",
     "text": [
      "KPMVv584vfrrb3nJbf2dAtdnIt_iSPezAtCQvinE5HSOKXMLGy3WDPFPg-3DCm83VtlfRpiuf8OwNw\n"
     ]
    },
    {
     "name": "stderr",
     "output_type": "stream",
     "text": [
      "\r",
      " 78%|██████████████████████████████▍        | 1323/1695 [34:56<04:38,  1.34it/s]"
     ]
    },
    {
     "name": "stdout",
     "output_type": "stream",
     "text": [
      "y6V9dMp6xmMZju91DR5Gu4vAiGSS6FY-_ml_vBK7sQtRxAdfI2ghGTGtRd9htPI-3-09vW3Zxp-J1g\n"
     ]
    },
    {
     "name": "stderr",
     "output_type": "stream",
     "text": [
      "\r",
      " 78%|██████████████████████████████▍        | 1324/1695 [34:57<04:16,  1.45it/s]"
     ]
    },
    {
     "name": "stdout",
     "output_type": "stream",
     "text": [
      "ElTYuS_bDdHBWS4b2BDydforjQMiOwOQhpwE3FBMvR79PH9GG1BNFH2D-8rT76gSn1lLQmRRohPx4A\n"
     ]
    },
    {
     "name": "stderr",
     "output_type": "stream",
     "text": [
      "\r",
      " 78%|██████████████████████████████▍        | 1325/1695 [34:57<03:26,  1.79it/s]"
     ]
    },
    {
     "name": "stdout",
     "output_type": "stream",
     "text": [
      "DxVqsbAnHtrdXjy6uofPt-5UP776lBS4DEztxkt0HvifgooLfw0IOrmmLOWvGum4j6FdUEQdQE9y6Q\n"
     ]
    },
    {
     "name": "stderr",
     "output_type": "stream",
     "text": [
      "\r",
      " 78%|██████████████████████████████▌        | 1326/1695 [34:57<02:52,  2.13it/s]"
     ]
    },
    {
     "name": "stdout",
     "output_type": "stream",
     "text": [
      "yAOBhB2CMug9Vd9PQMRuowg2sEHO7Fs2mlj_Gs-T3UaTyQWtymAjrCvKEy2inFigweWuQ3Mjt-ZnNQ\n"
     ]
    },
    {
     "name": "stderr",
     "output_type": "stream",
     "text": [
      "\r",
      " 78%|██████████████████████████████▌        | 1327/1695 [34:58<03:31,  1.74it/s]"
     ]
    },
    {
     "name": "stdout",
     "output_type": "stream",
     "text": [
      "lganCa2Y3FgpXeZP0K8GdJUC9WJ7FJsCP-KHY3FT7z3gjELpnyGlt51qFI5-L_A8OXi1A2Fm50HrRg\n"
     ]
    },
    {
     "name": "stderr",
     "output_type": "stream",
     "text": [
      "\r",
      " 78%|██████████████████████████████▌        | 1328/1695 [34:58<03:05,  1.98it/s]"
     ]
    },
    {
     "name": "stdout",
     "output_type": "stream",
     "text": [
      "ytFSukf5MYpseTJkDg2sRPJjscA_UhtopvDaxLpTRFAzN4xeQr3tPsmMN-EFvc4vUsDcfvdc3bZuIA\n"
     ]
    },
    {
     "name": "stderr",
     "output_type": "stream",
     "text": [
      "\r",
      " 78%|██████████████████████████████▌        | 1329/1695 [34:59<03:36,  1.69it/s]"
     ]
    },
    {
     "name": "stdout",
     "output_type": "stream",
     "text": [
      "IZHBfZKQivjF3b5gw9b0M-GSAK21zTCy1cPHviyE6v4VC8LQG25n6XVkyzsSY6RjQ4V5mXAjNHttUA\n"
     ]
    },
    {
     "name": "stderr",
     "output_type": "stream",
     "text": [
      "\r",
      " 78%|██████████████████████████████▌        | 1330/1695 [35:00<02:58,  2.04it/s]"
     ]
    },
    {
     "name": "stdout",
     "output_type": "stream",
     "text": [
      "dj6hldeUSYtPwrDztmn1hMh_HQNQ6R9e_md5LkP388gxaR0Upy3LetFCAxaFlnwUJpQutu3OpFIL1w\n"
     ]
    },
    {
     "name": "stderr",
     "output_type": "stream",
     "text": [
      "\r",
      " 79%|██████████████████████████████▌        | 1331/1695 [35:00<03:27,  1.75it/s]"
     ]
    },
    {
     "name": "stdout",
     "output_type": "stream",
     "text": [
      "KCCUHnC_LZDrEKaoOQECItS6d6RpsigUXE-6mccz_Wk-xjY84DJs947Lxjc04C_jcDcbi3YyaFkMjQ\n"
     ]
    },
    {
     "name": "stderr",
     "output_type": "stream",
     "text": [
      "\r",
      " 79%|██████████████████████████████▋        | 1332/1695 [35:01<02:53,  2.10it/s]"
     ]
    },
    {
     "name": "stdout",
     "output_type": "stream",
     "text": [
      "m9iwTELUam4LOrWtkSeveIEUooaeUdEUfiOuHtKSj-fcSVOqVecLCACB5W-7_0hAHj-heBQmtmH0Ig\n"
     ]
    },
    {
     "name": "stderr",
     "output_type": "stream",
     "text": [
      "\r",
      " 79%|██████████████████████████████▋        | 1333/1695 [35:01<02:46,  2.18it/s]"
     ]
    },
    {
     "name": "stdout",
     "output_type": "stream",
     "text": [
      "ljWBjUWKkJQ84id15A5EWv2CYzc0rRJ4sZaEfuXtV2YtFjSv3QC1z7Oi1PdyM2xRffs78YkGoxsPGw\n"
     ]
    },
    {
     "name": "stderr",
     "output_type": "stream",
     "text": [
      "\r",
      " 79%|██████████████████████████████▋        | 1334/1695 [35:01<02:23,  2.52it/s]"
     ]
    },
    {
     "name": "stdout",
     "output_type": "stream",
     "text": [
      "6UuEHyC0MOlb-jsSr9xGsMLACyRMXLXYcfuTOIgbrgnFVpi9fjqpr-2S3EKzEnWSjsq1dy6Tj0fX6A\n"
     ]
    },
    {
     "name": "stderr",
     "output_type": "stream",
     "text": [
      "\r",
      " 79%|██████████████████████████████▋        | 1335/1695 [35:01<02:05,  2.87it/s]"
     ]
    },
    {
     "name": "stdout",
     "output_type": "stream",
     "text": [
      "73dHOA5Ed-wcc6kAI4rQ_4Me-pGFGPANYrbaPozRyAGIt4hwJ4VGwyCmPk61QqyfYbFV8vMnbVCZmw\n"
     ]
    },
    {
     "name": "stderr",
     "output_type": "stream",
     "text": [
      "\r",
      " 79%|██████████████████████████████▋        | 1336/1695 [35:02<02:54,  2.06it/s]"
     ]
    },
    {
     "name": "stdout",
     "output_type": "stream",
     "text": [
      "2-VLxtQ1JdfmTBaMyvvWvAgF9b_rZI9tmuC-UgPP-uBZCvvt6cvdF2jKNJj0KwK5RrtinHsieUAAwA\n"
     ]
    },
    {
     "name": "stderr",
     "output_type": "stream",
     "text": [
      "\r",
      " 79%|██████████████████████████████▊        | 1337/1695 [35:03<02:27,  2.42it/s]"
     ]
    },
    {
     "name": "stdout",
     "output_type": "stream",
     "text": [
      "CEDbGlVNZt5HWBUyUutEQFqP2a96If2LSREHwIP_xA3NwMaWY4jl4Q9R6Lc4jqCgUuaqzMsjuqQLJQ\n"
     ]
    },
    {
     "name": "stderr",
     "output_type": "stream",
     "text": [
      "\r",
      " 79%|██████████████████████████████▊        | 1338/1695 [35:03<02:10,  2.74it/s]"
     ]
    },
    {
     "name": "stdout",
     "output_type": "stream",
     "text": [
      "B_b_f2YMpcADfswod2NbcXsbtJZyUHAZk0rRhFrAE92HxYwSavNI17tLz8fouAjXbFa0vGnFXJPKzw\n"
     ]
    },
    {
     "name": "stderr",
     "output_type": "stream",
     "text": [
      "\r",
      " 79%|██████████████████████████████▊        | 1339/1695 [35:04<02:57,  2.01it/s]"
     ]
    },
    {
     "name": "stdout",
     "output_type": "stream",
     "text": [
      "vsff3Gva-DRhQKRaPEWIqgDy_gCaCiJE_SftLSGH-nmhzf_tfSeKjqAuiaQejqTikCKjQ8JoPUSbkw\n"
     ]
    },
    {
     "name": "stderr",
     "output_type": "stream",
     "text": [
      "\r",
      " 79%|██████████████████████████████▊        | 1340/1695 [35:04<02:29,  2.37it/s]"
     ]
    },
    {
     "name": "stdout",
     "output_type": "stream",
     "text": [
      "SucplNfDd2PXjQAvbBZhJp4PZoSNq9gWqFUL3NyoP60LfaNBuMrXpEwOsH7b_QD4RYapksednDZBrw\n"
     ]
    },
    {
     "name": "stderr",
     "output_type": "stream",
     "text": [
      "\r",
      " 79%|██████████████████████████████▊        | 1341/1695 [35:04<02:11,  2.69it/s]"
     ]
    },
    {
     "name": "stdout",
     "output_type": "stream",
     "text": [
      "c-W_VUMtXfSSBksL3yzP8pyI9kxb7b9l4rMiIRcC1TyRSpdmF4ZtD3aPM1Yzh9r5X8CLX-yvyreM8g\n"
     ]
    },
    {
     "name": "stderr",
     "output_type": "stream",
     "text": [
      "\r",
      " 79%|██████████████████████████████▉        | 1342/1695 [35:05<02:39,  2.22it/s]"
     ]
    },
    {
     "name": "stdout",
     "output_type": "stream",
     "text": [
      "DV6qpuQDBBJuOUsvribGfWCt0tduwjflTk9F1F9dYCg2n58ySuDzBOpp0admHg_ROe2AWU94bgw7QA\n"
     ]
    },
    {
     "name": "stderr",
     "output_type": "stream",
     "text": [
      "\r",
      " 79%|██████████████████████████████▉        | 1343/1695 [35:05<02:44,  2.14it/s]"
     ]
    },
    {
     "name": "stdout",
     "output_type": "stream",
     "text": [
      "zmbo4_cefL4NI1k6d9jp9ICWtfB7MXvSIQOl8gYvU0OXVF8qHGGFU1dGQix1a_YQ9LKv_LNxCoDMRg\n"
     ]
    },
    {
     "name": "stderr",
     "output_type": "stream",
     "text": [
      "\r",
      " 79%|██████████████████████████████▉        | 1344/1695 [35:06<03:21,  1.74it/s]"
     ]
    },
    {
     "name": "stdout",
     "output_type": "stream",
     "text": [
      "MXwESSYttbxmagNYIZtQiyoN0fb6nGlwWH8fWK2gs758JDPhZyUnq-2G1i3xfbDY87wLFioC7TB8aQ\n"
     ]
    },
    {
     "name": "stderr",
     "output_type": "stream",
     "text": [
      "\r",
      " 79%|██████████████████████████████▉        | 1345/1695 [35:07<04:08,  1.41it/s]"
     ]
    },
    {
     "name": "stdout",
     "output_type": "stream",
     "text": [
      "JGv5NjVcDYe7EABfxYx4h9ANk8rAJQBr72oRYZOLjWX229QpYD16J1G7TcX5Z_nX6n90rpTjKVeQHg\n"
     ]
    },
    {
     "name": "stderr",
     "output_type": "stream",
     "text": [
      "\r",
      " 79%|██████████████████████████████▉        | 1346/1695 [35:07<03:21,  1.73it/s]"
     ]
    },
    {
     "name": "stdout",
     "output_type": "stream",
     "text": [
      "DIbywRDDV5iFg3MkhCOS6T8jYoaX4XBy8VVRptlilyYMJ5LZGujWhAiOGFX5ZKmeFqr9uUaFulFt1g\n"
     ]
    },
    {
     "name": "stderr",
     "output_type": "stream",
     "text": [
      "\r",
      " 79%|██████████████████████████████▉        | 1347/1695 [35:08<02:59,  1.94it/s]"
     ]
    },
    {
     "name": "stdout",
     "output_type": "stream",
     "text": [
      "2gDE-b7VOp9qvw-JMOFchStZYJMR0c3QWFdH09C6pESidPBiM-IPlt_or7P6r1KdlhJ6_DJyFfATOA\n"
     ]
    },
    {
     "name": "stderr",
     "output_type": "stream",
     "text": [
      "\r",
      " 80%|███████████████████████████████        | 1348/1695 [35:08<03:06,  1.86it/s]"
     ]
    },
    {
     "name": "stdout",
     "output_type": "stream",
     "text": [
      "xyOkBqMehsfZ9nXtMJc1GnKFpZa6vmoReSISx75QleXSC0bplO-2FIbj8UuF1iTDBParqcg9aDNusw\n"
     ]
    },
    {
     "name": "stderr",
     "output_type": "stream",
     "text": [
      "\r",
      " 80%|███████████████████████████████        | 1349/1695 [35:09<02:54,  1.99it/s]"
     ]
    },
    {
     "name": "stdout",
     "output_type": "stream",
     "text": [
      "hmhd7MNOoX9kbrR7VDbhHKLGxdtUepjBonphGVmMo-xnQj9jdRBLWUGzXA87Z23lKNv9zgZQY8C1zw\n"
     ]
    },
    {
     "name": "stderr",
     "output_type": "stream",
     "text": [
      "\r",
      " 80%|███████████████████████████████        | 1350/1695 [35:09<02:28,  2.33it/s]"
     ]
    },
    {
     "name": "stdout",
     "output_type": "stream",
     "text": [
      "aprfvi6X_mPd7sJVTLjJzCxU4gE7ZwZvVtX83Uo84tVyszWFI7qATpvltk6KZbqkZtfNer2vmjt1Tg\n"
     ]
    },
    {
     "name": "stderr",
     "output_type": "stream",
     "text": [
      "\r",
      " 80%|███████████████████████████████        | 1351/1695 [35:09<02:14,  2.56it/s]"
     ]
    },
    {
     "name": "stdout",
     "output_type": "stream",
     "text": [
      "X_4R3UNDt91Vqh3ZU92Tuhmqr11ckBb61FsWwRFxIBn62DRKMpRghEPKm35zW3acrBy7gvMprnn8ZQ\n"
     ]
    },
    {
     "name": "stderr",
     "output_type": "stream",
     "text": [
      "\r",
      " 80%|███████████████████████████████        | 1352/1695 [35:10<02:16,  2.51it/s]"
     ]
    },
    {
     "name": "stdout",
     "output_type": "stream",
     "text": [
      "iKMt5ntccAzFBUsisMIFNR2rm_00Pk79ee1-_qsry6yUPwI4yFPA63xGh4MRScJl_hq5PhCyy4njJg\n"
     ]
    },
    {
     "name": "stderr",
     "output_type": "stream",
     "text": [
      "\r",
      " 80%|███████████████████████████████▏       | 1353/1695 [35:10<02:02,  2.79it/s]"
     ]
    },
    {
     "name": "stdout",
     "output_type": "stream",
     "text": [
      "gMPehlasIgWJt8Tqy0OUCUYoUrFHOAJkgFxiMqdD3-Y42GRqkY-4nzIMUcEf8ND5PkWGDFAbTBQhNQ\n"
     ]
    },
    {
     "name": "stderr",
     "output_type": "stream",
     "text": [
      "\r",
      " 80%|███████████████████████████████▏       | 1354/1695 [35:10<01:50,  3.08it/s]"
     ]
    },
    {
     "name": "stdout",
     "output_type": "stream",
     "text": [
      "LtIBpQkxF0WVQ267coP3iFazxCZO3QAf1CDD2ShbouQaRzZa0g8UK8InOQvnqeICwLTuaJrJMCt3cA\n"
     ]
    },
    {
     "name": "stderr",
     "output_type": "stream",
     "text": [
      "\r",
      " 80%|███████████████████████████████▏       | 1355/1695 [35:10<01:43,  3.27it/s]"
     ]
    },
    {
     "name": "stdout",
     "output_type": "stream",
     "text": [
      "sGNXwhGM7ie5g9uzcpKBvnJazG-0F37Fg22lE8Ve8TJrlKOXFnnN-_23vbI9hjsxx-YvVrystJpBGA\n"
     ]
    },
    {
     "name": "stderr",
     "output_type": "stream",
     "text": [
      "\r",
      " 80%|███████████████████████████████▏       | 1356/1695 [35:11<01:43,  3.26it/s]"
     ]
    },
    {
     "name": "stdout",
     "output_type": "stream",
     "text": [
      "ap7xAefXXKFSho0P8a7gWfsTaGJGieL0RCwThJ-FZFOE5JM_Gm33SfRaTSpvol5xXXYYq1KO1bYwNA\n"
     ]
    },
    {
     "name": "stderr",
     "output_type": "stream",
     "text": [
      "\r",
      " 80%|███████████████████████████████▏       | 1357/1695 [35:11<01:38,  3.43it/s]"
     ]
    },
    {
     "name": "stdout",
     "output_type": "stream",
     "text": [
      "zc_UsQoOmpjFuBsEVjCj1RftO8F8RwaGf6pDx3KAcnXoUJGC64N2-dSDqo2xiVmufUMhAcht89jOWQ\n"
     ]
    },
    {
     "name": "stderr",
     "output_type": "stream",
     "text": [
      "\r",
      " 80%|███████████████████████████████▏       | 1358/1695 [35:11<01:41,  3.31it/s]"
     ]
    },
    {
     "name": "stdout",
     "output_type": "stream",
     "text": [
      "AnJDO2IW_zsoeCXbNcJOSkK8zN6lDelAZi9LvvdGxKbWBLq8GCOpcQSNFbafHDM41et8n3ZjpsRcOw\n"
     ]
    },
    {
     "name": "stderr",
     "output_type": "stream",
     "text": [
      "\r",
      " 80%|███████████████████████████████▎       | 1359/1695 [35:12<01:36,  3.49it/s]"
     ]
    },
    {
     "name": "stdout",
     "output_type": "stream",
     "text": [
      "8qnq6zsqmXRXD0K9v9JGwb7_om9x8f6vw14CPTwiyrg87r4M_aWClbyMHJAp4L5o55Uz5DQOMOccWQ\n"
     ]
    },
    {
     "name": "stderr",
     "output_type": "stream",
     "text": [
      "\r",
      " 80%|███████████████████████████████▎       | 1360/1695 [35:12<01:33,  3.58it/s]"
     ]
    },
    {
     "name": "stdout",
     "output_type": "stream",
     "text": [
      "BS1mmLYUC9CO0S59CuKGpEZqInfAko5azYghMciVFafNqrU3iKK81B2ECrYY6sTo8vhW7Y2PEFOoLw\n"
     ]
    },
    {
     "name": "stderr",
     "output_type": "stream",
     "text": [
      "\r",
      " 80%|███████████████████████████████▎       | 1361/1695 [35:12<01:29,  3.72it/s]"
     ]
    },
    {
     "name": "stdout",
     "output_type": "stream",
     "text": [
      "HudAOGVjpEBvnswT_po_n3taGx2lm5nsAUjPK86Kor3EShqst710kPMhcu9npXWfW2-9mvHZHyIk-w\n"
     ]
    },
    {
     "name": "stderr",
     "output_type": "stream",
     "text": [
      "\r",
      " 80%|███████████████████████████████▎       | 1362/1695 [35:13<01:46,  3.12it/s]"
     ]
    },
    {
     "name": "stdout",
     "output_type": "stream",
     "text": [
      "20IUT8yLTLnMAmcLZW1F-OkS0Q5Edym6OsfNiTMheAX1lh9jjZe6SNpETS-k76N9oK7v4wTZD_rHLw\n"
     ]
    },
    {
     "name": "stderr",
     "output_type": "stream",
     "text": [
      "\r",
      " 80%|███████████████████████████████▎       | 1363/1695 [35:13<01:55,  2.87it/s]"
     ]
    },
    {
     "name": "stdout",
     "output_type": "stream",
     "text": [
      "XQWlD5hUust8fSl9jOADUEyT3NvQZJs-L3VKJmzbGWxOCwBCPyxfxKSLXoB5c1Ed3LSkxjvolXqH1g\n"
     ]
    },
    {
     "name": "stderr",
     "output_type": "stream",
     "text": [
      "\r",
      " 80%|███████████████████████████████▍       | 1364/1695 [35:13<01:46,  3.12it/s]"
     ]
    },
    {
     "name": "stdout",
     "output_type": "stream",
     "text": [
      "YmKr0mdtQKcy7NncjNqzT0mgHKTMt-x6yKBFDE63n_4q2BMY1mzBY2hMnvr0gHFHXaMgVJESBfutxQ\n"
     ]
    },
    {
     "name": "stderr",
     "output_type": "stream",
     "text": [
      "\r",
      " 81%|███████████████████████████████▍       | 1365/1695 [35:14<01:53,  2.90it/s]"
     ]
    },
    {
     "name": "stdout",
     "output_type": "stream",
     "text": [
      "POChiSmupRteVR-rfMqNkpCcteoPxuM4fd45aDMmrsclZQHzxo7axXEhesPelGGF0DOWw4FpLwT-2A\n"
     ]
    },
    {
     "name": "stderr",
     "output_type": "stream",
     "text": [
      "\r",
      " 81%|███████████████████████████████▍       | 1366/1695 [35:14<01:45,  3.13it/s]"
     ]
    },
    {
     "name": "stdout",
     "output_type": "stream",
     "text": [
      "1Q2wDXsyx0YjIRrvknHmO0464GaYlws1h1UNeP_XhEqebJiEMu_Njk0g0tXG4JOaeqPB423xNJu6Vw\n"
     ]
    },
    {
     "name": "stderr",
     "output_type": "stream",
     "text": [
      "\r",
      " 81%|███████████████████████████████▍       | 1367/1695 [35:15<02:15,  2.42it/s]"
     ]
    },
    {
     "name": "stdout",
     "output_type": "stream",
     "text": [
      "vyP5h52Cvwo1qkCin6UzFG4j_8W-Mx82ImGtmNDB7XwXZH7BmCYfAnBzHOf88HRzlVHMY1EDT7WRlw\n"
     ]
    },
    {
     "name": "stderr",
     "output_type": "stream",
     "text": [
      "\r",
      " 81%|███████████████████████████████▍       | 1368/1695 [35:15<01:59,  2.74it/s]"
     ]
    },
    {
     "name": "stdout",
     "output_type": "stream",
     "text": [
      "W8f72-wrdVymEh9L1lR_DW8-v8KA7LumhsSU5p2OgR296-SWSZowUc6D_WO2OsBJ48-A3EkAY2AOfg\n"
     ]
    },
    {
     "name": "stderr",
     "output_type": "stream",
     "text": [
      "\r",
      " 81%|███████████████████████████████▍       | 1369/1695 [35:15<02:05,  2.60it/s]"
     ]
    },
    {
     "name": "stdout",
     "output_type": "stream",
     "text": [
      "1hyFTUvTnj2YkYqIKukGwJUtwCKR9wntr61laikwiBAU9Ma-r3Ax1taTDSqRtaepl8keb8VllXU2Vw\n"
     ]
    },
    {
     "name": "stderr",
     "output_type": "stream",
     "text": [
      "\r",
      " 81%|███████████████████████████████▌       | 1370/1695 [35:16<02:14,  2.42it/s]"
     ]
    },
    {
     "name": "stdout",
     "output_type": "stream",
     "text": [
      "C3n2cfzCf4pGMnS-TYEBUW-5tUZ4Ql--Zxs1e1yhgSGdsqvc-VnmnKsHXpjPZq50mvVig27jl3HRpw\n"
     ]
    },
    {
     "name": "stderr",
     "output_type": "stream",
     "text": [
      "\r",
      " 81%|███████████████████████████████▌       | 1371/1695 [35:16<01:57,  2.77it/s]"
     ]
    },
    {
     "name": "stdout",
     "output_type": "stream",
     "text": [
      "w2BK6LwISIcRhaTNK3dpknvAvM7OBhY5LP4_LfyN2XIFlTK3j7cryJhJ1QJqOUC-tDo2xYTAE-q7bw\n"
     ]
    },
    {
     "name": "stderr",
     "output_type": "stream",
     "text": [
      "\r",
      " 81%|███████████████████████████████▌       | 1372/1695 [35:16<01:46,  3.02it/s]"
     ]
    },
    {
     "name": "stdout",
     "output_type": "stream",
     "text": [
      "FShnPt-bKOQDLIijo7zFZHCb1qsj23SlCnp0OfwEar9HIHmhhrOzPZQLN0HuA6TwBK7qZyuru80yLQ\n"
     ]
    },
    {
     "name": "stderr",
     "output_type": "stream",
     "text": [
      "\r",
      " 81%|███████████████████████████████▌       | 1373/1695 [35:17<02:06,  2.55it/s]"
     ]
    },
    {
     "name": "stdout",
     "output_type": "stream",
     "text": [
      "OTzMxKpsJofOGZjlPjYEe8e2_stinGK0NnlZ8S6oXFP9wiXWIXVodvhye05RdX9CF_OHi5MCPyL8gQ\n"
     ]
    },
    {
     "name": "stderr",
     "output_type": "stream",
     "text": [
      "\r",
      " 81%|███████████████████████████████▌       | 1374/1695 [35:17<02:37,  2.04it/s]"
     ]
    },
    {
     "name": "stdout",
     "output_type": "stream",
     "text": [
      "N4bVWqOkPBsaHuJe5Mk_0jw8hekmxqbCbgJf1tjUzHnecitGTFUX2Mpd4hotYriCm_HNx5V5FI3t3Q\n"
     ]
    },
    {
     "name": "stderr",
     "output_type": "stream",
     "text": [
      "\r",
      " 81%|███████████████████████████████▋       | 1375/1695 [35:18<02:15,  2.36it/s]"
     ]
    },
    {
     "name": "stdout",
     "output_type": "stream",
     "text": [
      "7DDwdbtm97srK3FDohYFBQ0s_JqX9S045aY5dbdHyViQyMvf3mREMEg_5ziCByMcRI8uHheeib5YDQ\n"
     ]
    },
    {
     "name": "stderr",
     "output_type": "stream",
     "text": [
      "\r",
      " 81%|███████████████████████████████▋       | 1376/1695 [35:18<02:00,  2.66it/s]"
     ]
    },
    {
     "name": "stdout",
     "output_type": "stream",
     "text": [
      "ZZBOJRKyxY_BXIuNxmSmJ_kpvcBhQaL-r-CbOTQESrCR8RMXEgOmmMVgi4kMBRBhuD05m4R9ptE7SA\n"
     ]
    },
    {
     "name": "stderr",
     "output_type": "stream",
     "text": [
      "\r",
      " 81%|███████████████████████████████▋       | 1377/1695 [35:18<01:49,  2.91it/s]"
     ]
    },
    {
     "name": "stdout",
     "output_type": "stream",
     "text": [
      "NEvo8jbZ_SJcCpTz7pkT6QLfQkZx8EEGj-O4Z3IiKv0pnCQ0zc6CTOJH1SDd3aW_-ziwIErxFDEssg\n"
     ]
    },
    {
     "name": "stderr",
     "output_type": "stream",
     "text": [
      "\r",
      " 81%|███████████████████████████████▋       | 1378/1695 [35:19<01:52,  2.83it/s]"
     ]
    },
    {
     "name": "stdout",
     "output_type": "stream",
     "text": [
      "WAk7Y1j3ACjA1CYTOAIEGiHpPa3bXAKxCqMolc26sfpw84FKkYG987qdlKkrF-Vg3mjzexuZQJXO_Q\n",
      "api cost full : infinite loop start\n",
      "loop location :  EK5xBXUOn7URj22CR83wajLBAwMJQA_M6BLpbhDFOp0xm2qw54ePWQl91Q\n",
      "try 10 second wait time\n",
      "429\n",
      "try 10 second wait time\n",
      "429\n",
      "try 10 second wait time\n",
      "429\n",
      "try 10 second wait time\n",
      "429\n",
      "try 10 second wait time\n",
      "429\n",
      "try 10 second wait time\n",
      "429\n",
      "try 10 second wait time\n"
     ]
    },
    {
     "name": "stderr",
     "output_type": "stream",
     "text": [
      "\r",
      " 81%|██████████████████████████████       | 1379/1695 [36:32<1:56:40, 22.15s/it]"
     ]
    },
    {
     "name": "stdout",
     "output_type": "stream",
     "text": [
      "200\n",
      "total wait time :  72.81359100341797\n",
      "recovery api cost\n",
      "rscGMqMFiMxSL6mmg4bNQ8Vf5SzqehB7EatWJEGeqtDCjB_6OiJKIvlwC4KMTW6xCRxHi_LDc7K2BA\n"
     ]
    },
    {
     "name": "stderr",
     "output_type": "stream",
     "text": [
      "\r",
      " 81%|██████████████████████████████       | 1380/1695 [36:32<1:21:53, 15.60s/it]"
     ]
    },
    {
     "name": "stdout",
     "output_type": "stream",
     "text": [
      "60BiRTM78DX7FBzwBIT979N-nov7SlpxwPSLWseJj86s5a4czyfDe0OQ2bjaiB1ueiUQptibDK29uA\n"
     ]
    },
    {
     "name": "stderr",
     "output_type": "stream",
     "text": [
      "\r",
      " 81%|███████████████████████████████▊       | 1381/1695 [36:33<58:17, 11.14s/it]"
     ]
    },
    {
     "name": "stdout",
     "output_type": "stream",
     "text": [
      "cpAQ_ATEjzXfvA_PGv0jZ9zmQuRkGXaHQ8Cy7BGYDjdD1dBq_b71jpGvecZRE6Pkzx1c3M4UIlYylw\n"
     ]
    },
    {
     "name": "stderr",
     "output_type": "stream",
     "text": [
      "\r",
      " 82%|███████████████████████████████▊       | 1382/1695 [36:33<41:06,  7.88s/it]"
     ]
    },
    {
     "name": "stdout",
     "output_type": "stream",
     "text": [
      "D4IZVUTLUWZyypeR1kb3znA6hoHuB9al0pYguJ-sksIsEwTzdw9S6LBPutB0okZvMlza-b3iFbm8Mg\n"
     ]
    },
    {
     "name": "stderr",
     "output_type": "stream",
     "text": [
      "\r",
      " 82%|███████████████████████████████▊       | 1383/1695 [36:34<29:50,  5.74s/it]"
     ]
    },
    {
     "name": "stdout",
     "output_type": "stream",
     "text": [
      "ddWCi7MCBlQLHatwX30rsLr8T5EvIeaETmTGZPctkL0BSytlo5SCr7QMOYSzV5keVaE72-lmb2K7mA\n"
     ]
    },
    {
     "name": "stderr",
     "output_type": "stream",
     "text": [
      "\r",
      " 82%|███████████████████████████████▊       | 1384/1695 [36:34<21:42,  4.19s/it]"
     ]
    },
    {
     "name": "stdout",
     "output_type": "stream",
     "text": [
      "udYVgTOd_IRADHb5MBmfZYYLxKt8quQGj0JtqwutY4x2D0gLw56Ekaee30Iqi5rglMphv7LTAlJ9gw\n"
     ]
    },
    {
     "name": "stderr",
     "output_type": "stream",
     "text": [
      "\r",
      " 82%|███████████████████████████████▊       | 1385/1695 [36:35<15:44,  3.05s/it]"
     ]
    },
    {
     "name": "stdout",
     "output_type": "stream",
     "text": [
      "M0TlRHE5t7GHw7duOkIEj-p8f4UJBMVRTbqQ7VtKm1ojmaOljgn1qvJC1pdoTAO8dOkFq313kUqFxg\n"
     ]
    },
    {
     "name": "stderr",
     "output_type": "stream",
     "text": [
      "\r",
      " 82%|███████████████████████████████▉       | 1386/1695 [36:35<11:35,  2.25s/it]"
     ]
    },
    {
     "name": "stdout",
     "output_type": "stream",
     "text": [
      "gviRsfE4MnAY9nKIo_126LS_wESCivy0cONuNqX8jS0MdCMydNGX8gdYWxe1HBdzxRpng9ZvKnLmjQ\n"
     ]
    },
    {
     "name": "stderr",
     "output_type": "stream",
     "text": [
      "\r",
      " 82%|███████████████████████████████▉       | 1387/1695 [36:35<08:29,  1.66s/it]"
     ]
    },
    {
     "name": "stdout",
     "output_type": "stream",
     "text": [
      "rcIomjhVG23z9gMasmnHuqv11i4_wGEfvvEbwDkUDvo0QBX8na0QNWcth65v6QcooTfbfxsqshGEig\n"
     ]
    },
    {
     "name": "stderr",
     "output_type": "stream",
     "text": [
      "\r",
      " 82%|███████████████████████████████▉       | 1388/1695 [36:36<06:32,  1.28s/it]"
     ]
    },
    {
     "name": "stdout",
     "output_type": "stream",
     "text": [
      "GtcAp0FyfrgNXvrF8Ss6emIW7fXiiPnFoJGpHuOh6ek5fY8mEsMHpAmi3Qc8Z-HEKVPW2XeVl59LVw\n"
     ]
    },
    {
     "name": "stderr",
     "output_type": "stream",
     "text": [
      "\r",
      " 82%|███████████████████████████████▉       | 1389/1695 [36:36<05:09,  1.01s/it]"
     ]
    },
    {
     "name": "stdout",
     "output_type": "stream",
     "text": [
      "GbtqXlojX4IENoI_YpCwnQUs3OHDFfmSLpNIHk7KX3BN6caZm3i1FgplFmrzSzr-xOUaog7Np0IDHw\n"
     ]
    },
    {
     "name": "stderr",
     "output_type": "stream",
     "text": [
      "\r",
      " 82%|███████████████████████████████▉       | 1390/1695 [36:36<04:03,  1.26it/s]"
     ]
    },
    {
     "name": "stdout",
     "output_type": "stream",
     "text": [
      "qnOR23ZwYZ8-49Ehv1IjtvUE2uDk6L0nLB96lLqLvr9VBqTkgLKEoVVLmoPI4nixG9oN2lAXmahvrA\n"
     ]
    },
    {
     "name": "stderr",
     "output_type": "stream",
     "text": [
      "\r",
      " 82%|████████████████████████████████       | 1391/1695 [36:37<03:13,  1.57it/s]"
     ]
    },
    {
     "name": "stdout",
     "output_type": "stream",
     "text": [
      "q7SiBdERTbvEfOyzTHi7jRDnlsVFVAhuFX3RVvQt2EYITxcwsmgpv9OmW7NZLVWI1mV3cPyCZeuBoA\n"
     ]
    },
    {
     "name": "stderr",
     "output_type": "stream",
     "text": [
      "\r",
      " 82%|████████████████████████████████       | 1392/1695 [36:37<03:18,  1.52it/s]"
     ]
    },
    {
     "name": "stdout",
     "output_type": "stream",
     "text": [
      "XV2FagWsSj0SaMnJGpyLZnUX59KgXlksktX4PAbXx9-L1bpeNf5l8SKowvKyrxtgyOlT6n5Z8oyczQ\n"
     ]
    },
    {
     "name": "stderr",
     "output_type": "stream",
     "text": [
      "\r",
      " 82%|████████████████████████████████       | 1393/1695 [36:38<02:41,  1.86it/s]"
     ]
    },
    {
     "name": "stdout",
     "output_type": "stream",
     "text": [
      "4IjDzDb4zkmdy8TRZVYoNqTcngE6ganX3zpmmBnyPMeI1gUjWtPz-LWEliADfqw9vn7mljYJnaXp1A\n"
     ]
    },
    {
     "name": "stderr",
     "output_type": "stream",
     "text": [
      "\r",
      " 82%|████████████████████████████████       | 1394/1695 [36:38<03:04,  1.63it/s]"
     ]
    },
    {
     "name": "stdout",
     "output_type": "stream",
     "text": [
      "HbkE-IMBLzhcC6ASWUrMJgJyqM0q5G8RYpasmlmQse1IZfK5OUXUHWP-7wlgGQf9sm1A7GyFUJBZ2A\n"
     ]
    },
    {
     "name": "stderr",
     "output_type": "stream",
     "text": [
      "\r",
      " 82%|████████████████████████████████       | 1395/1695 [36:39<02:32,  1.97it/s]"
     ]
    },
    {
     "name": "stdout",
     "output_type": "stream",
     "text": [
      "xZJ96EAKQ2KklhDofsmu-IHJUwyWy50XBioCDvZ5aZDcWlomHcP4Kvux-pQV9GNrxB2BjCJPQaHPEw\n"
     ]
    },
    {
     "name": "stderr",
     "output_type": "stream",
     "text": [
      "\r",
      " 82%|████████████████████████████████       | 1396/1695 [36:39<02:36,  1.91it/s]"
     ]
    },
    {
     "name": "stdout",
     "output_type": "stream",
     "text": [
      "QKwwQhZ9VXolI_04l8N3kU9Lo_Y_FQSs2ZrC3MlbYJbKecUiQ6biT5SYuN8Fgl8uf7fXuSrD1RRa6Q\n"
     ]
    },
    {
     "name": "stderr",
     "output_type": "stream",
     "text": [
      "\r",
      " 82%|████████████████████████████████▏      | 1397/1695 [36:40<03:20,  1.49it/s]"
     ]
    },
    {
     "name": "stdout",
     "output_type": "stream",
     "text": [
      "rDxk6Mcv_YjHU62Wqwwd7K9E047ksHed-cgyDcFauY23JrvTqTv0VzYg3NgbU96KHbYUhJ-SkOwLng\n"
     ]
    },
    {
     "name": "stderr",
     "output_type": "stream",
     "text": [
      "\r",
      " 82%|████████████████████████████████▏      | 1398/1695 [36:41<02:43,  1.82it/s]"
     ]
    },
    {
     "name": "stdout",
     "output_type": "stream",
     "text": [
      "wz_QWuLVrK5SNKnlmJhlSc2BRXmFuXy7RLaSGixMQtwEkNh3low9AXBpSW0jPxnpbv4O7OgtRAlbDw\n"
     ]
    },
    {
     "name": "stderr",
     "output_type": "stream",
     "text": [
      "\r",
      " 83%|████████████████████████████████▏      | 1399/1695 [36:42<03:38,  1.36it/s]"
     ]
    },
    {
     "name": "stdout",
     "output_type": "stream",
     "text": [
      "UK_EUsKauva3CH_tWbhwW5N_ytOL6bkwVSY_ZxIMs_iKk4JwqNECsbhzqX40sTYGZuAJNr7UdlH6jQ\n"
     ]
    },
    {
     "name": "stderr",
     "output_type": "stream",
     "text": [
      "\r",
      " 83%|████████████████████████████████▏      | 1400/1695 [36:43<04:02,  1.22it/s]"
     ]
    },
    {
     "name": "stdout",
     "output_type": "stream",
     "text": [
      "EIkOryv7OzuHg04-qhkB_51yxGSNskKIdJfkVTtxsK_dFn6nkTbD0GTR7-c1LU_z9ci6tqGhi11ztA\n"
     ]
    },
    {
     "name": "stderr",
     "output_type": "stream",
     "text": [
      "\r",
      " 83%|████████████████████████████████▏      | 1401/1695 [36:43<03:11,  1.53it/s]"
     ]
    },
    {
     "name": "stdout",
     "output_type": "stream",
     "text": [
      "1BDXJEf07ZU-33MMDcuoWzD2yhwsU2aV3IXaAH0JW47OcRQMBtZeazgd-qKxZP0C5gE81dnzxZ7mwA\n"
     ]
    },
    {
     "name": "stderr",
     "output_type": "stream",
     "text": [
      "\r",
      " 83%|████████████████████████████████▎      | 1402/1695 [36:44<03:04,  1.59it/s]"
     ]
    },
    {
     "name": "stdout",
     "output_type": "stream",
     "text": [
      "fVLkcY6CQcPW9IaFswRJZmHa2E6hc63lO4CrhOTtJlnvXMYrfINoKJ58rqK91C5q-abBXv5RMrI-5A\n"
     ]
    },
    {
     "name": "stderr",
     "output_type": "stream",
     "text": [
      "\r",
      " 83%|████████████████████████████████▎      | 1403/1695 [36:44<02:33,  1.90it/s]"
     ]
    },
    {
     "name": "stdout",
     "output_type": "stream",
     "text": [
      "LV5cCP-72J-Gj3Utu3YlUx4Mq0JGVUGWLrbsK2FwsrYdVkqJkaw4PFhrMpQLmd5K3__6MDV0LyZ_Og\n"
     ]
    },
    {
     "name": "stderr",
     "output_type": "stream",
     "text": [
      "\r",
      " 83%|████████████████████████████████▎      | 1404/1695 [36:44<02:40,  1.81it/s]"
     ]
    },
    {
     "name": "stdout",
     "output_type": "stream",
     "text": [
      "5qRCSxtZXdZTo5QRGoygMA-9ud0lbHie5T3El1sS-QeHlkU05D8qrxz2A5gKbF56trYR3S6FpyBGXw\n"
     ]
    },
    {
     "name": "stderr",
     "output_type": "stream",
     "text": [
      "\r",
      " 83%|████████████████████████████████▎      | 1405/1695 [36:45<02:16,  2.13it/s]"
     ]
    },
    {
     "name": "stdout",
     "output_type": "stream",
     "text": [
      "_Csv1ws0KgF9x3nW58JwUhiPnWj7dDrQDV8rEfElgndznYqGLr7vFVx28BpvgtdcQX_Vkvin4l5kfQ\n"
     ]
    },
    {
     "name": "stderr",
     "output_type": "stream",
     "text": [
      "\r",
      " 83%|████████████████████████████████▎      | 1406/1695 [36:45<01:58,  2.43it/s]"
     ]
    },
    {
     "name": "stdout",
     "output_type": "stream",
     "text": [
      "KV7iys-LL3_kUg2Z_DoZaSe3E4rry5vYKjP0le7OchDE_X3tVLXi_usyCGHjtvVzXOimqAtiiIf9DA\n"
     ]
    },
    {
     "name": "stderr",
     "output_type": "stream",
     "text": [
      "\r",
      " 83%|████████████████████████████████▎      | 1407/1695 [36:46<03:24,  1.41it/s]"
     ]
    },
    {
     "name": "stdout",
     "output_type": "stream",
     "text": [
      "zh_VOzhCCge2WsvHsIvHwoTB04piQgqdke0NGRyFO2db5kyXtcCVn-eiBo7ESGhaEBONhNL0a8mGSA\n"
     ]
    },
    {
     "name": "stderr",
     "output_type": "stream",
     "text": [
      "\r",
      " 83%|████████████████████████████████▍      | 1408/1695 [36:49<05:36,  1.17s/it]"
     ]
    },
    {
     "name": "stdout",
     "output_type": "stream",
     "text": [
      "2sBZ-b1KBIf1wyuJyEUU9nZBjgA3ZHGk0G12fo19JR3S7Njmvw8SpEINUKQsNNf8z68-irIQJiXEzA\n"
     ]
    },
    {
     "name": "stderr",
     "output_type": "stream",
     "text": [
      "\r",
      " 83%|████████████████████████████████▍      | 1409/1695 [36:49<04:17,  1.11it/s]"
     ]
    },
    {
     "name": "stdout",
     "output_type": "stream",
     "text": [
      "gikenQM-RIvp3_20SmTmOu6piMSHBMhMn4ob0vsOizHHk_4HEUaG5T8Fe4Sqpk_NuPU4enKvxukslw\n"
     ]
    },
    {
     "name": "stderr",
     "output_type": "stream",
     "text": [
      "\r",
      " 83%|████████████████████████████████▍      | 1410/1695 [36:50<04:22,  1.09it/s]"
     ]
    },
    {
     "name": "stdout",
     "output_type": "stream",
     "text": [
      "fTwSXt9SIoiHfW-5bORFEy2yuDB4AWPoIvFwzY1aL7UlzGIEv5ogPFk8ryDNDlrp6frctgEqTENhLg\n"
     ]
    },
    {
     "name": "stderr",
     "output_type": "stream",
     "text": [
      "\r",
      " 83%|████████████████████████████████▍      | 1411/1695 [36:51<04:30,  1.05it/s]"
     ]
    },
    {
     "name": "stdout",
     "output_type": "stream",
     "text": [
      "m3jADaOIqZgiKFJBfcMkosGhw9lGk8UGOJwlT1B4DLTscAMY54ByWF-EL_V3avBei5bvN80hAhK-fA\n"
     ]
    },
    {
     "name": "stderr",
     "output_type": "stream",
     "text": [
      "\r",
      " 83%|████████████████████████████████▍      | 1412/1695 [36:51<03:29,  1.35it/s]"
     ]
    },
    {
     "name": "stdout",
     "output_type": "stream",
     "text": [
      "sJBraROjaRjQ8DJudjT4fxpmH8vqvNON5KSc_pPEk9DAPNAcIuzT0ttG7KvwYaXbcDs2DWnBSldx3A\n"
     ]
    },
    {
     "name": "stderr",
     "output_type": "stream",
     "text": [
      "\r",
      " 83%|████████████████████████████████▌      | 1413/1695 [36:52<04:06,  1.15it/s]"
     ]
    },
    {
     "name": "stdout",
     "output_type": "stream",
     "text": [
      "wClpCtcf8zCDsW2YORT2yOjlU4SwRzimzVRX3hogL1xPBtYOEECgUnan_H5rpwlngje4ZmEzFYn9Mw\n"
     ]
    },
    {
     "name": "stderr",
     "output_type": "stream",
     "text": [
      "\r",
      " 83%|████████████████████████████████▌      | 1414/1695 [36:53<03:51,  1.21it/s]"
     ]
    },
    {
     "name": "stdout",
     "output_type": "stream",
     "text": [
      "mEtZD2AZQAem0qOZ1KmqTlzbp6ooqgp46j5cdFvIM-sghAXWdV8OfBdMVlc3sasoExBFlmptzzOnng\n"
     ]
    },
    {
     "name": "stderr",
     "output_type": "stream",
     "text": [
      "\r",
      " 83%|████████████████████████████████▌      | 1415/1695 [36:54<03:48,  1.22it/s]"
     ]
    },
    {
     "name": "stdout",
     "output_type": "stream",
     "text": [
      "QLGbi1OrL1Ic3kcSlXolyraWZMj2Zn3-XW1WlpTXV9OBrS-oCAf9mF1zyXmqx7w9xGg_82YJRCR-6A\n"
     ]
    },
    {
     "name": "stderr",
     "output_type": "stream",
     "text": [
      "\r",
      " 84%|████████████████████████████████▌      | 1416/1695 [36:55<04:15,  1.09it/s]"
     ]
    },
    {
     "name": "stdout",
     "output_type": "stream",
     "text": [
      "eNXn-yjuLVuWDiEAF9cmkBGIMGUXHhmgdRzMq5pXmsFA8yYohvc1y7EpxA-h6N1k4rLd-ZhZ86O5JQ\n"
     ]
    },
    {
     "name": "stderr",
     "output_type": "stream",
     "text": [
      "\r",
      " 84%|████████████████████████████████▌      | 1417/1695 [36:55<03:21,  1.38it/s]"
     ]
    },
    {
     "name": "stdout",
     "output_type": "stream",
     "text": [
      "SeF9hmcu-ttPTMnntdYQWtNeF9pcnOHEGxLc6-1h9-nKEWZNIoxCzYyEjpQui_TlLuynlTWmKtGqIQ\n"
     ]
    },
    {
     "name": "stderr",
     "output_type": "stream",
     "text": [
      "\r",
      " 84%|████████████████████████████████▋      | 1418/1695 [36:56<03:22,  1.37it/s]"
     ]
    },
    {
     "name": "stdout",
     "output_type": "stream",
     "text": [
      "jxTi_sVD2Lr688rWgaO4anafjzgbpMe36vuKIwIAM6Z9BxXLZv42oTi6cQ6TEEZ42uLqv2KOcLilFg\n"
     ]
    },
    {
     "name": "stderr",
     "output_type": "stream",
     "text": [
      "\r",
      " 84%|████████████████████████████████▋      | 1419/1695 [36:57<03:29,  1.32it/s]"
     ]
    },
    {
     "name": "stdout",
     "output_type": "stream",
     "text": [
      "VkiKePxchylebxPtPRiP8H3XbM-iDBSAspXg7rehg2pXWacM8IGjswp79aTrG4cT_wECLVp4HKTlPQ\n"
     ]
    },
    {
     "name": "stderr",
     "output_type": "stream",
     "text": [
      "\r",
      " 84%|████████████████████████████████▋      | 1420/1695 [36:57<03:16,  1.40it/s]"
     ]
    },
    {
     "name": "stdout",
     "output_type": "stream",
     "text": [
      "nuZApcbNn-vJLVQefKPPDMvDELiW8ejiZhIXroTroRfQvs7G5ePhJV-SLjL10S1K0S82pLQLz8NAtw\n"
     ]
    },
    {
     "name": "stderr",
     "output_type": "stream",
     "text": [
      "\r",
      " 84%|████████████████████████████████▋      | 1421/1695 [36:58<03:24,  1.34it/s]"
     ]
    },
    {
     "name": "stdout",
     "output_type": "stream",
     "text": [
      "59KfqMtkgclvwda3Jdc2qXKUm0AdV9HpjhNzHageD6iO1Ndzc-fKRYkBa6k3Pb-XGXRkKP_dSU1yUw\n"
     ]
    },
    {
     "name": "stderr",
     "output_type": "stream",
     "text": [
      "\r",
      " 84%|████████████████████████████████▋      | 1422/1695 [36:59<03:29,  1.30it/s]"
     ]
    },
    {
     "name": "stdout",
     "output_type": "stream",
     "text": [
      "9CnpA_T7JOcsBuRmD-kRs4QnyBRYamd8A1_9XtrYribx4ItuyiA8iLzFqqu0W6M7Tci0Y_fhztZtLA\n"
     ]
    },
    {
     "name": "stderr",
     "output_type": "stream",
     "text": [
      "\r",
      " 84%|████████████████████████████████▋      | 1423/1695 [37:00<03:35,  1.26it/s]"
     ]
    },
    {
     "name": "stdout",
     "output_type": "stream",
     "text": [
      "HwRJtgsQ9n1iZBTS81LJEnccBhu-BIqx115YvCfHNWOg7qTGyLGJvWgIJySyR5yx_0dRunaS6TJvhA\n"
     ]
    },
    {
     "name": "stderr",
     "output_type": "stream",
     "text": [
      "\r",
      " 84%|████████████████████████████████▊      | 1424/1695 [37:01<03:52,  1.16it/s]"
     ]
    },
    {
     "name": "stdout",
     "output_type": "stream",
     "text": [
      "6f3H0HMYviibfjHRjEbOguDhjU7q0n00gsK73FEz-kvWFtAPEiQA5B4kdxQr_d8mhiSbLJY7d429rg\n"
     ]
    },
    {
     "name": "stderr",
     "output_type": "stream",
     "text": [
      "\r",
      " 84%|████████████████████████████████▊      | 1425/1695 [37:01<03:05,  1.46it/s]"
     ]
    },
    {
     "name": "stdout",
     "output_type": "stream",
     "text": [
      "ogvEjXmaUksU5DUgblyzrBkv8Iw27WTLhrLDUQEJzJqYYXjDb0S5AHGWTIaR9aZ1zx4AyoEmXMzMIQ\n"
     ]
    },
    {
     "name": "stderr",
     "output_type": "stream",
     "text": [
      "\r",
      " 84%|████████████████████████████████▊      | 1426/1695 [37:02<03:40,  1.22it/s]"
     ]
    },
    {
     "name": "stdout",
     "output_type": "stream",
     "text": [
      "qKf3VNvbyYGQ2S8JlqTCP1zawW7Au3GUtsZcPG29HhZB-iGnBbho4Syf7V_LwCHZhU47hbc76nMIfA\n"
     ]
    },
    {
     "name": "stderr",
     "output_type": "stream",
     "text": [
      "\r",
      " 84%|████████████████████████████████▊      | 1427/1695 [37:03<03:55,  1.14it/s]"
     ]
    },
    {
     "name": "stdout",
     "output_type": "stream",
     "text": [
      "SJoQokv18o4EVS5IncP7OCNLLdYOEFtiAcRbzLoMs_lS55aTf5WslpBiITFa3BsuKG6GmEuB20KqCQ\n"
     ]
    },
    {
     "name": "stderr",
     "output_type": "stream",
     "text": [
      "\r",
      " 84%|████████████████████████████████▊      | 1428/1695 [37:04<04:06,  1.08it/s]"
     ]
    },
    {
     "name": "stdout",
     "output_type": "stream",
     "text": [
      "E__ARM_utQ9aonT3HTSGogKniPC1tKfn_UJ39gUng5VotitjDAGT8GTXOw2TGS4rhTOeGqHszBwVHQ\n"
     ]
    },
    {
     "name": "stderr",
     "output_type": "stream",
     "text": [
      "\r",
      " 84%|████████████████████████████████▉      | 1429/1695 [37:05<04:13,  1.05it/s]"
     ]
    },
    {
     "name": "stdout",
     "output_type": "stream",
     "text": [
      "c3bFSSFdT3KpCAYSsLYK3JCv5misy0mZtBBZpKzHxzm86i7lu-d3rZjJJlFX-6Q6abbZOcnqvzobYg\n"
     ]
    },
    {
     "name": "stderr",
     "output_type": "stream",
     "text": [
      "\r",
      " 84%|████████████████████████████████▉      | 1430/1695 [37:06<03:17,  1.34it/s]"
     ]
    },
    {
     "name": "stdout",
     "output_type": "stream",
     "text": [
      "pTAzpUBJptRcPVqnXypwzAKAHvb6JXdSNcOAAxozjGZPAbEDY4zhZtMuOfCHfzrouUslTAwllNU4Fg\n"
     ]
    },
    {
     "name": "stderr",
     "output_type": "stream",
     "text": [
      "\r",
      " 84%|████████████████████████████████▉      | 1431/1695 [37:07<03:50,  1.14it/s]"
     ]
    },
    {
     "name": "stdout",
     "output_type": "stream",
     "text": [
      "gYAP8WVGnVXNqKuCcRMDxKuHM9zv0fSPHdL-xwQ9w-zDQT00uKUbWkN39NEqEc0K9cWyP8B__iqv3A\n"
     ]
    },
    {
     "name": "stderr",
     "output_type": "stream",
     "text": [
      "\r",
      " 84%|████████████████████████████████▉      | 1432/1695 [37:07<03:29,  1.26it/s]"
     ]
    },
    {
     "name": "stdout",
     "output_type": "stream",
     "text": [
      "xHxSJy8f77P19OpXnuJtSJPQJhQdTW5PWx1mebMahEk8Y_ow-cSUqVoinl02htxm1ZTliuQg62x20A\n"
     ]
    },
    {
     "name": "stderr",
     "output_type": "stream",
     "text": [
      "\r",
      " 85%|████████████████████████████████▉      | 1433/1695 [37:08<02:45,  1.58it/s]"
     ]
    },
    {
     "name": "stdout",
     "output_type": "stream",
     "text": [
      "UjwdSzxb99M1tZ955Iwoi5Z6pM2ENTZKqMIcsHKjldMqxUqTDNFZAEbN4pKWxtBg46GcIzvxxiu1fw\n"
     ]
    },
    {
     "name": "stderr",
     "output_type": "stream",
     "text": [
      "\r",
      " 85%|████████████████████████████████▉      | 1434/1695 [37:08<02:14,  1.93it/s]"
     ]
    },
    {
     "name": "stdout",
     "output_type": "stream",
     "text": [
      "HwfbXB5gyTkrJmvnqezQyArs7k9f4owJoOzy5mWIUuvHle8HaYeL4NANQT4Ku2yEffL6uk4kbRnNKw\n"
     ]
    },
    {
     "name": "stderr",
     "output_type": "stream",
     "text": [
      "\r",
      " 85%|█████████████████████████████████      | 1435/1695 [37:09<02:31,  1.72it/s]"
     ]
    },
    {
     "name": "stdout",
     "output_type": "stream",
     "text": [
      "bBylI-p9Tjt5r7vN15pMN60UM1i79w7ZrpnpjLnHe_yeVLjLjUZ2N2kK7jVFi4G68GB7eJjHHIvvIA\n"
     ]
    },
    {
     "name": "stderr",
     "output_type": "stream",
     "text": [
      "\r",
      " 85%|█████████████████████████████████      | 1436/1695 [37:09<02:07,  2.02it/s]"
     ]
    },
    {
     "name": "stdout",
     "output_type": "stream",
     "text": [
      "D93zptCDYtycUQRB2Ka56VR83GllRn-gxw1gGgRAiD3VojTaT9Lo2gIHPDqCG2BNbD8UptrE7dZZqQ\n"
     ]
    },
    {
     "name": "stderr",
     "output_type": "stream",
     "text": [
      "\r",
      " 85%|█████████████████████████████████      | 1437/1695 [37:09<02:07,  2.02it/s]"
     ]
    },
    {
     "name": "stdout",
     "output_type": "stream",
     "text": [
      "GgSwoS9_nSnygU-J-A57ZS31RkgBMw-5T0ywaOrKCaZ6mewa14U7aLhuUMhg5dcOMaj3WK0micKbkA\n"
     ]
    },
    {
     "name": "stderr",
     "output_type": "stream",
     "text": [
      "\r",
      " 85%|█████████████████████████████████      | 1438/1695 [37:11<02:48,  1.52it/s]"
     ]
    },
    {
     "name": "stdout",
     "output_type": "stream",
     "text": [
      "a-Z8_7MCOh0_eWRBCRlLVdAcdsvfJBHrn_EcyuQD6RT8134bsBVHcbi_fQAPJzL4o2V-iBIL1cIIAQ\n"
     ]
    },
    {
     "name": "stderr",
     "output_type": "stream",
     "text": [
      "\r",
      " 85%|█████████████████████████████████      | 1439/1695 [37:11<02:17,  1.87it/s]"
     ]
    },
    {
     "name": "stdout",
     "output_type": "stream",
     "text": [
      "6XSmi96xmqRbnnsQ22S20HLAfzm_oHCIXRQOGfZhVXbA_EnqW2NXe9rwyQ_vEA7Ko3k1L7AumkqAlw\n"
     ]
    },
    {
     "name": "stderr",
     "output_type": "stream",
     "text": [
      "\r",
      " 85%|█████████████████████████████████▏     | 1440/1695 [37:12<03:07,  1.36it/s]"
     ]
    },
    {
     "name": "stdout",
     "output_type": "stream",
     "text": [
      "3kf7liTMbxvJLI80Jk9xrRyl_NEQuPXrPyinH16hyJ2TepHKONi9_q7ACNJu7tY04Kue8y5ih0oJ6Q\n"
     ]
    },
    {
     "name": "stderr",
     "output_type": "stream",
     "text": [
      "\r",
      " 85%|█████████████████████████████████▏     | 1441/1695 [37:13<03:44,  1.13it/s]"
     ]
    },
    {
     "name": "stdout",
     "output_type": "stream",
     "text": [
      "nrUiSibC78JvEcS3iJ5-xFB6bY7MKil65O2Mg-cDS8UWuROQ_Xt4HsQLp1d7UX4C86fYijqFraSdWw\n"
     ]
    },
    {
     "name": "stderr",
     "output_type": "stream",
     "text": [
      "\r",
      " 85%|█████████████████████████████████▏     | 1442/1695 [37:13<02:55,  1.44it/s]"
     ]
    },
    {
     "name": "stdout",
     "output_type": "stream",
     "text": [
      "hoemtYsOwpU4dVPi9RZLLDnBBK9cGXOuhoguQMujnAF9XkC4kjqusw81B8jbxuIDeU-gy1GbpH9WJA\n"
     ]
    },
    {
     "name": "stderr",
     "output_type": "stream",
     "text": [
      "\r",
      " 85%|█████████████████████████████████▏     | 1443/1695 [37:15<03:31,  1.19it/s]"
     ]
    },
    {
     "name": "stdout",
     "output_type": "stream",
     "text": [
      "GCTxy56bitDXf_DuSyNGytfPzhhmUr08_oH4FIURGbQ9QpKEcNKDJaI6cwrNelJ7R_qbvS0M2XAozQ\n"
     ]
    },
    {
     "name": "stderr",
     "output_type": "stream",
     "text": [
      "\r",
      " 85%|█████████████████████████████████▏     | 1444/1695 [37:15<03:29,  1.20it/s]"
     ]
    },
    {
     "name": "stdout",
     "output_type": "stream",
     "text": [
      "ToLM1_XT7skjLR5cpyZJRHUCJx6cEiwJyBRdc_-h2X8cYshqHhd1bBBW3OfUljFwgo0aKv1nitEAxw\n"
     ]
    },
    {
     "name": "stderr",
     "output_type": "stream",
     "text": [
      "\r",
      " 85%|█████████████████████████████████▏     | 1445/1695 [37:16<03:27,  1.21it/s]"
     ]
    },
    {
     "name": "stdout",
     "output_type": "stream",
     "text": [
      "Ke0HcJiyzWuv2G7FJZAa6fBtst521EqBcqVRSb9QgCohMIYuRh58OJsx15NvlRGmg9O2li41xM6Rbw\n"
     ]
    },
    {
     "name": "stderr",
     "output_type": "stream",
     "text": [
      "\r",
      " 85%|█████████████████████████████████▎     | 1446/1695 [37:17<02:42,  1.53it/s]"
     ]
    },
    {
     "name": "stdout",
     "output_type": "stream",
     "text": [
      "oG22KLUZ4kstCkEMOdCQlhzqgTbyyNPnKzM0UAHjeL3appXaQPrb2ofF84xEQarLBwfHHwBxS3ZQgw\n"
     ]
    },
    {
     "name": "stderr",
     "output_type": "stream",
     "text": [
      "\r",
      " 85%|█████████████████████████████████▎     | 1447/1695 [37:17<02:36,  1.59it/s]"
     ]
    },
    {
     "name": "stdout",
     "output_type": "stream",
     "text": [
      "K7voVYFVD-alA-rcn07C7vU_kCMmQnKGLcFr_oGXQXV_LHe-lY_xSNz5GSb9gXmHcn7KPXN2bNegbw\n"
     ]
    },
    {
     "name": "stderr",
     "output_type": "stream",
     "text": [
      "\r",
      " 85%|█████████████████████████████████▎     | 1448/1695 [37:17<02:08,  1.93it/s]"
     ]
    },
    {
     "name": "stdout",
     "output_type": "stream",
     "text": [
      "76t-9zvpVvgd9DW8fumgeK_X9Nl4OM0bankfZQO_XAS1GXPBuEbIbWVfyzBBQEcegqUmGcSZHUUZiA\n"
     ]
    },
    {
     "name": "stderr",
     "output_type": "stream",
     "text": [
      "\r",
      " 85%|█████████████████████████████████▎     | 1449/1695 [37:18<02:05,  1.96it/s]"
     ]
    },
    {
     "name": "stdout",
     "output_type": "stream",
     "text": [
      "isv8VAjcRm4zXZbv45nXlmgFXPcMoQVO0HMNKkuon8iC6qeEMMb7tOXWEYwhGU9TE51upYWtHAwvqA\n"
     ]
    },
    {
     "name": "stderr",
     "output_type": "stream",
     "text": [
      "\r",
      " 86%|█████████████████████████████████▎     | 1450/1695 [37:19<02:18,  1.77it/s]"
     ]
    },
    {
     "name": "stdout",
     "output_type": "stream",
     "text": [
      "foFuRH-7mabuFLX0nfKRGJs0REdsfSZ41XlNU4CCEl9AwtpPyMCoJ13s5GesfG1sudvJYZ2fZ91NXQ\n"
     ]
    },
    {
     "name": "stderr",
     "output_type": "stream",
     "text": [
      "\r",
      " 86%|█████████████████████████████████▍     | 1451/1695 [37:19<01:54,  2.13it/s]"
     ]
    },
    {
     "name": "stdout",
     "output_type": "stream",
     "text": [
      "FA8oBAmpnKNPlHuyY4u7_KgvaM-0ZpvL_58cMXyIu5hbiZq2XSfj5r3--PIivWFarqjetGPFZLpDrg\n"
     ]
    },
    {
     "name": "stderr",
     "output_type": "stream",
     "text": [
      "\r",
      " 86%|█████████████████████████████████▍     | 1452/1695 [37:19<01:38,  2.46it/s]"
     ]
    },
    {
     "name": "stdout",
     "output_type": "stream",
     "text": [
      "3kHw6svV36BuTB-hGhA_ElvIN0wXSxslnA05YHGTennFmvfjYiPjupWxrMV-aueXNT3JeYyLfOEqgQ\n"
     ]
    },
    {
     "name": "stderr",
     "output_type": "stream",
     "text": [
      "\r",
      " 86%|█████████████████████████████████▍     | 1453/1695 [37:19<01:27,  2.75it/s]"
     ]
    },
    {
     "name": "stdout",
     "output_type": "stream",
     "text": [
      "YEumZGzLAbPq8rL6WI_q8VaFar3gPPStS8WRdp8A8468RvxrPJSCLqUUDYkPsCQHUaPlDKlwafmEsA\n"
     ]
    },
    {
     "name": "stderr",
     "output_type": "stream",
     "text": [
      "\r",
      " 86%|█████████████████████████████████▍     | 1454/1695 [37:20<01:51,  2.16it/s]"
     ]
    },
    {
     "name": "stdout",
     "output_type": "stream",
     "text": [
      "NZ4zEdZbdJGyICu4DKaMClwYAFyzozkcFFgpttjWbr10XRs0HHfSDMwus7lcigXGrKf-w_lnDMJW0g\n"
     ]
    },
    {
     "name": "stderr",
     "output_type": "stream",
     "text": [
      "\r",
      " 86%|█████████████████████████████████▍     | 1455/1695 [37:21<02:13,  1.79it/s]"
     ]
    },
    {
     "name": "stdout",
     "output_type": "stream",
     "text": [
      "s9ESLUwa6Igx1f9jjOFY88H8epVpziHU8n83mXHPEsdSIGs5Hm3eN-zx5AQjqvv_r7h83sqj1738lA\n"
     ]
    },
    {
     "name": "stderr",
     "output_type": "stream",
     "text": [
      "\r",
      " 86%|█████████████████████████████████▌     | 1456/1695 [37:22<02:41,  1.48it/s]"
     ]
    },
    {
     "name": "stdout",
     "output_type": "stream",
     "text": [
      "kjIU9HwB8ef2tTcFuEcOuV9XDxI-y9C4TkvMLA2_fYeJ80sFxXBazksF0kiuTtYQKtMNIjjFirUR8g\n"
     ]
    },
    {
     "name": "stderr",
     "output_type": "stream",
     "text": [
      "\r",
      " 86%|█████████████████████████████████▌     | 1457/1695 [37:22<02:10,  1.82it/s]"
     ]
    },
    {
     "name": "stdout",
     "output_type": "stream",
     "text": [
      "F1pkNgB867s_Ff63kScX0t0r5tXJ8LSPz5xpvh5OF5tuxoeZrFGZ2vr1zoywPEfInOWLyqNYEU7CUQ\n"
     ]
    },
    {
     "name": "stderr",
     "output_type": "stream",
     "text": [
      "\r",
      " 86%|█████████████████████████████████▌     | 1458/1695 [37:22<01:52,  2.10it/s]"
     ]
    },
    {
     "name": "stdout",
     "output_type": "stream",
     "text": [
      "AsimkroXqEdr4FvLqtCF6Roasl9-vkKVTjcf45ku2rwFkEiiQrJgC_LMtQHnsMfmBKBSPUfYs-0AvA\n"
     ]
    },
    {
     "name": "stderr",
     "output_type": "stream",
     "text": [
      "\r",
      " 86%|█████████████████████████████████▌     | 1459/1695 [37:23<02:07,  1.85it/s]"
     ]
    },
    {
     "name": "stdout",
     "output_type": "stream",
     "text": [
      "Kj_e4zMcfcXFi9qdw3IjT3v_7cTtrVrqT9oqlFC8VhXB3wfJZGhdV9eN35CVZNGVCUFpHWapFqdf3g\n"
     ]
    },
    {
     "name": "stderr",
     "output_type": "stream",
     "text": [
      "\r",
      " 86%|█████████████████████████████████▌     | 1460/1695 [37:23<01:48,  2.17it/s]"
     ]
    },
    {
     "name": "stdout",
     "output_type": "stream",
     "text": [
      "mSemC4qIaK79KnjToUHldijkESKIGinEJubXwfnuxjOBSAN6fq3N8MhVOsIS1xTwVY0uR3dgIRAuzw\n"
     ]
    },
    {
     "name": "stderr",
     "output_type": "stream",
     "text": [
      "\r",
      " 86%|█████████████████████████████████▌     | 1461/1695 [37:24<01:32,  2.52it/s]"
     ]
    },
    {
     "name": "stdout",
     "output_type": "stream",
     "text": [
      "TLrkmkBecUFEmDLHFRSHgS64Ahq5g_ej2thcH9parVbS0syWX0m2dvN7xvj6T_bhH6N76cMTTFb30Q\n"
     ]
    },
    {
     "name": "stderr",
     "output_type": "stream",
     "text": [
      "\r",
      " 86%|█████████████████████████████████▋     | 1462/1695 [37:24<01:25,  2.71it/s]"
     ]
    },
    {
     "name": "stdout",
     "output_type": "stream",
     "text": [
      "trQeUHHUKcVVCjazZ4qgE-TdDfkBSdlbc364AMeJ5Wg8fR9O40JDTXzUgse7X64oamNl7A8DpgWoIg\n"
     ]
    },
    {
     "name": "stderr",
     "output_type": "stream",
     "text": [
      "\r",
      " 86%|█████████████████████████████████▋     | 1463/1695 [37:24<01:19,  2.93it/s]"
     ]
    },
    {
     "name": "stdout",
     "output_type": "stream",
     "text": [
      "QI5ogitsSgzbQrTUg6Rl85jp5QLfhhF_Qshiy2CIo0vQN1SmrjtpxKTpQLfViW5Bx1YO9fKqfpOO0A\n"
     ]
    },
    {
     "name": "stderr",
     "output_type": "stream",
     "text": [
      "\r",
      " 86%|█████████████████████████████████▋     | 1464/1695 [37:24<01:21,  2.83it/s]"
     ]
    },
    {
     "name": "stdout",
     "output_type": "stream",
     "text": [
      "CqYoJMXwWvPsHLdOwvi7yaHf-A8S9R9gDdp9YvRAtmGI7z1Y6FaF9FKzBKZhi9gB-zYVVy_CPK4usQ\n"
     ]
    },
    {
     "name": "stderr",
     "output_type": "stream",
     "text": [
      "\r",
      " 86%|█████████████████████████████████▋     | 1465/1695 [37:25<01:14,  3.07it/s]"
     ]
    },
    {
     "name": "stdout",
     "output_type": "stream",
     "text": [
      "qqkdnMlrjIor7F2iZHLcd8wVdmOv23lNUHGJbFN-k9b97dfLKjrhhwrEz6LMOLaoSg91AQvvsGGByw\n"
     ]
    },
    {
     "name": "stderr",
     "output_type": "stream",
     "text": [
      "\r",
      " 86%|█████████████████████████████████▋     | 1466/1695 [37:25<01:11,  3.21it/s]"
     ]
    },
    {
     "name": "stdout",
     "output_type": "stream",
     "text": [
      "AAbowLcmBMKNdKq9cWZLrT9eDzoGFCaYDkpAWBev8HJMiV-yl-j0qJwWJ9d8LBjG2COKU40KyBt-1Q\n"
     ]
    },
    {
     "name": "stderr",
     "output_type": "stream",
     "text": [
      "\r",
      " 87%|█████████████████████████████████▊     | 1467/1695 [37:25<01:06,  3.41it/s]"
     ]
    },
    {
     "name": "stdout",
     "output_type": "stream",
     "text": [
      "3x1CHuvqEJRHdXeZs8jb-aZAnYD8ZkIBn-r1K_-LSJ7X25_kPdTMigaSidOzfkgQQpVHYEr6e_YD4w\n"
     ]
    },
    {
     "name": "stderr",
     "output_type": "stream",
     "text": [
      "\r",
      " 87%|█████████████████████████████████▊     | 1468/1695 [37:26<01:03,  3.56it/s]"
     ]
    },
    {
     "name": "stdout",
     "output_type": "stream",
     "text": [
      "TT-9WS-5COOK1elgFiMpE2JBav9dOgn_b934-KdYLOKM_nB47aMxBVgW1jI_pyj54PKVmxP0O21rpg\n"
     ]
    },
    {
     "name": "stderr",
     "output_type": "stream",
     "text": [
      "\r",
      " 87%|█████████████████████████████████▊     | 1469/1695 [37:26<01:24,  2.66it/s]"
     ]
    },
    {
     "name": "stdout",
     "output_type": "stream",
     "text": [
      "XOBSqaXqcpUmH8aYs85DjapqXFkDjtW7yk7595LZHX811wlOk21k-LbI37zPHCtoVagp0hp1sv_NWQ\n"
     ]
    },
    {
     "name": "stderr",
     "output_type": "stream",
     "text": [
      "\r",
      " 87%|█████████████████████████████████▊     | 1470/1695 [37:27<01:38,  2.29it/s]"
     ]
    },
    {
     "name": "stdout",
     "output_type": "stream",
     "text": [
      "_R0gYSUnJsxLmwY9z-ZG4t0QvwTvpWYJGHbJLyhaEfFSR1TBe-U9Ecsr_Gwp3lnjtc52HAJ7EcQj5g\n"
     ]
    },
    {
     "name": "stderr",
     "output_type": "stream",
     "text": [
      "\r",
      " 87%|█████████████████████████████████▊     | 1471/1695 [37:27<01:27,  2.57it/s]"
     ]
    },
    {
     "name": "stdout",
     "output_type": "stream",
     "text": [
      "siuRMbDPzMvIZ63pKgeT0bwCYz6YaC84a3G-PuYAeDJjcGS8xYLFuOOd_jX-eyWE-xzi-NbW8s-nEA\n"
     ]
    },
    {
     "name": "stderr",
     "output_type": "stream",
     "text": [
      "\r",
      " 87%|█████████████████████████████████▊     | 1472/1695 [37:27<01:17,  2.87it/s]"
     ]
    },
    {
     "name": "stdout",
     "output_type": "stream",
     "text": [
      "A1scBnCg22PTyPz6sb0SPMHZ4-nT3L1s3fF2m-kXrM-opk1nyjVShUbOj0Ilh_W8z5_wYfnJ6TulbQ\n"
     ]
    },
    {
     "name": "stderr",
     "output_type": "stream",
     "text": [
      "\r",
      " 87%|█████████████████████████████████▉     | 1473/1695 [37:28<01:25,  2.60it/s]"
     ]
    },
    {
     "name": "stdout",
     "output_type": "stream",
     "text": [
      "HiZvubdBx0dcDjhsIYKjddpWrc10nmAlFcSVzxQApBaPzg7n4dYxEYibWx46pXDj3HFib2b2PLC34Q\n"
     ]
    },
    {
     "name": "stderr",
     "output_type": "stream",
     "text": [
      "\r",
      " 87%|█████████████████████████████████▉     | 1474/1695 [37:28<01:29,  2.47it/s]"
     ]
    },
    {
     "name": "stdout",
     "output_type": "stream",
     "text": [
      "MTEttPeRdfPyABoP-LSSldlwzCbix0A9CkuzQmSDeaU-OivaBJ2BHcHUtUlZ_-sRAQZbh9cB0czKsQ\n"
     ]
    },
    {
     "name": "stderr",
     "output_type": "stream",
     "text": [
      "\r",
      " 87%|█████████████████████████████████▉     | 1475/1695 [37:29<01:44,  2.11it/s]"
     ]
    },
    {
     "name": "stdout",
     "output_type": "stream",
     "text": [
      "HQCWSd194Eo3WAWA5ExhXtNcK5Vt_mUApwc2ih10nuuxSZ-JPNys-J1pEhzHy68Yh0LRiX5mstWBzw\n"
     ]
    },
    {
     "name": "stderr",
     "output_type": "stream",
     "text": [
      "\r",
      " 87%|█████████████████████████████████▉     | 1476/1695 [37:29<01:52,  1.94it/s]"
     ]
    },
    {
     "name": "stdout",
     "output_type": "stream",
     "text": [
      "j45dn91RgON4PqgqybHWS9LRlrtc2L80nJKCsX-LAsXRTXDOUwpRl81IdQGe8ZgJ2LN_QRvwOnCR2A\n"
     ]
    },
    {
     "name": "stderr",
     "output_type": "stream",
     "text": [
      "\r",
      " 87%|█████████████████████████████████▉     | 1477/1695 [37:30<01:35,  2.29it/s]"
     ]
    },
    {
     "name": "stdout",
     "output_type": "stream",
     "text": [
      "704s_ZU3T5qa3bxMZGvr-EDndhP78WIokBCfnw2RT-aK4_HZK2xJuXuz7R5s9xu4G_FxcvO-LXQ7dw\n"
     ]
    },
    {
     "name": "stderr",
     "output_type": "stream",
     "text": [
      "\r",
      " 87%|██████████████████████████████████     | 1478/1695 [37:30<01:22,  2.61it/s]"
     ]
    },
    {
     "name": "stdout",
     "output_type": "stream",
     "text": [
      "cZVjsbLfelIIzghYze7ZGLiyL6KWnr61aKXlV2h_a1ckyd4Th-MT2EhhxfGvFWeyAyC60sW80NJzww\n",
      "api cost full : infinite loop start\n",
      "loop location :  Ak2x6MaQKPoguyDlpIh4qTroHwNNm8tEAHHJIQ2agIxmpP8\n",
      "try 10 second wait time\n",
      "429\n",
      "try 10 second wait time\n",
      "429\n",
      "try 10 second wait time\n",
      "429\n",
      "try 10 second wait time\n",
      "429\n",
      "try 10 second wait time\n",
      "429\n",
      "try 10 second wait time\n"
     ]
    },
    {
     "name": "stderr",
     "output_type": "stream",
     "text": [
      "\r",
      " 87%|████████████████████████████████▎    | 1479/1695 [38:32<1:08:16, 18.96s/it]"
     ]
    },
    {
     "name": "stdout",
     "output_type": "stream",
     "text": [
      "200\n",
      "total wait time :  62.11099290847778\n",
      "recovery api cost\n",
      "8DiXBPeJWGmTZAbHqfOdytgXn1JXhEGKXusJvbl5Nfs9juo78f019Eux2n5SGHiatpw_IKy7qJ8Inw\n"
     ]
    },
    {
     "name": "stderr",
     "output_type": "stream",
     "text": [
      "\r",
      " 87%|██████████████████████████████████     | 1480/1695 [38:33<47:56, 13.38s/it]"
     ]
    },
    {
     "name": "stdout",
     "output_type": "stream",
     "text": [
      "b8_1rc3hc_i-6j5Iy-1PQNGgTxfvHRNtioipOiDt1cuzT8VCz4Ex6DQgFyXbaRMyUMP3I7aq1biDAA\n"
     ]
    },
    {
     "name": "stderr",
     "output_type": "stream",
     "text": [
      "\r",
      " 87%|██████████████████████████████████     | 1481/1695 [38:33<34:01,  9.54s/it]"
     ]
    },
    {
     "name": "stdout",
     "output_type": "stream",
     "text": [
      "7ZFmtamk87F8CAnHLXotYr9YU1tTBL7ipm5fvcaO-fKg1srT6PlbOEWya0zBqx1FNEidyq4Ju1x59g\n"
     ]
    },
    {
     "name": "stderr",
     "output_type": "stream",
     "text": [
      "\r",
      " 87%|██████████████████████████████████     | 1482/1695 [38:34<24:37,  6.94s/it]"
     ]
    },
    {
     "name": "stdout",
     "output_type": "stream",
     "text": [
      "u-3WJJGUkDS3pl0eCX-CMS9zPZ1LGqD3IPp9QEoBFhGrKvcI3Un_m7nbCM29nLk71qxePKQXiAgqNg\n"
     ]
    },
    {
     "name": "stderr",
     "output_type": "stream",
     "text": [
      "\r",
      " 87%|██████████████████████████████████     | 1483/1695 [38:35<17:48,  5.04s/it]"
     ]
    },
    {
     "name": "stdout",
     "output_type": "stream",
     "text": [
      "iOsYXsnxifbDpEmPBc-NibdsDbM1eBMwm1ZCbIZVhQqvdR8nZUcYV3doBOG5H721P6i_Ncn3WNontw\n"
     ]
    },
    {
     "name": "stderr",
     "output_type": "stream",
     "text": [
      "\r",
      " 88%|██████████████████████████████████▏    | 1484/1695 [38:35<13:09,  3.74s/it]"
     ]
    },
    {
     "name": "stdout",
     "output_type": "stream",
     "text": [
      "EZHu_g-UoGgMWIC-PpjGW_x1HtsZ0pRjRMn9ppFK-IaRmRwhwPR6VIOXxPw2qknLlPIP6_GhK7BwrA\n"
     ]
    },
    {
     "name": "stderr",
     "output_type": "stream",
     "text": [
      "\r",
      " 88%|██████████████████████████████████▏    | 1485/1695 [38:36<09:43,  2.78s/it]"
     ]
    },
    {
     "name": "stdout",
     "output_type": "stream",
     "text": [
      "HL91IBnBeE-Uje8lMHVkmOG-kl5Z2pjiXDTv_-JmEuSG9oTcZ9oFdn7-KgCXGgCP9LIYA7EFJ72fwQ\n"
     ]
    },
    {
     "name": "stderr",
     "output_type": "stream",
     "text": [
      "\r",
      " 88%|██████████████████████████████████▏    | 1486/1695 [38:36<07:09,  2.05s/it]"
     ]
    },
    {
     "name": "stdout",
     "output_type": "stream",
     "text": [
      "5CQ_HscY0pk51o2P13f4ZrQp0HS_9-rBHF2MI_2dyk7_HNdWBJgmx_jiy-eq86AjdLGKg7e382i5dQ\n"
     ]
    },
    {
     "name": "stderr",
     "output_type": "stream",
     "text": [
      "\r",
      " 88%|██████████████████████████████████▏    | 1487/1695 [38:37<05:40,  1.64s/it]"
     ]
    },
    {
     "name": "stdout",
     "output_type": "stream",
     "text": [
      "nSaNd7k60AAuTfigMeaA0L4W7zeG2ZoWFYThI8vGwD-Jibe0JnQqjyxzmhHpymk0sRxxuAvqAEhQ8Q\n"
     ]
    },
    {
     "name": "stderr",
     "output_type": "stream",
     "text": [
      "\r",
      " 88%|██████████████████████████████████▏    | 1488/1695 [38:37<04:33,  1.32s/it]"
     ]
    },
    {
     "name": "stdout",
     "output_type": "stream",
     "text": [
      "uXChqTAO1pD9QflLwl_eNRSJNtRfzcwbhfJhvsSSQjN7VAVsXkJFhkEyAq7ox4GAshntU5xSUqBHIg\n"
     ]
    },
    {
     "name": "stderr",
     "output_type": "stream",
     "text": [
      "\r",
      " 88%|██████████████████████████████████▎    | 1489/1695 [38:38<03:38,  1.06s/it]"
     ]
    },
    {
     "name": "stdout",
     "output_type": "stream",
     "text": [
      "3APqiTj0P3RnYxB0IwVDbWnc9tnHyZxgsbKugTElSaob5ndWwfzgJRnlkCcqjmJLvsgpueKEWKYQfQ\n"
     ]
    },
    {
     "name": "stderr",
     "output_type": "stream",
     "text": [
      "\r",
      " 88%|██████████████████████████████████▎    | 1490/1695 [38:38<03:03,  1.11it/s]"
     ]
    },
    {
     "name": "stdout",
     "output_type": "stream",
     "text": [
      "_AwU2bZwPbYXLwCp__kMwfShIRSXVMxX6uKh2P3Pl9FXfwOACErUzSUjKu5F_hxEuY0B0aO3U7OEng\n"
     ]
    },
    {
     "name": "stderr",
     "output_type": "stream",
     "text": [
      "\r",
      " 88%|██████████████████████████████████▎    | 1491/1695 [38:39<02:37,  1.29it/s]"
     ]
    },
    {
     "name": "stdout",
     "output_type": "stream",
     "text": [
      "XMN_cVdY7Y96H_jiGNsTkCJoYBQ1xiDsV8JblT5mdmb1BJPCjyuKAa4lmx8AH_9Fjr7pBR3htIBJDA\n"
     ]
    },
    {
     "name": "stderr",
     "output_type": "stream",
     "text": [
      "\r",
      " 88%|██████████████████████████████████▎    | 1492/1695 [38:39<02:11,  1.54it/s]"
     ]
    },
    {
     "name": "stdout",
     "output_type": "stream",
     "text": [
      "73hwCMTFyb8THIwRh5mHaf7exM-nnuV8ahE8L80a5fhBaJ0dtmSaXOCsTXgEMa7LDanLCkq3ba37Rg\n"
     ]
    },
    {
     "name": "stderr",
     "output_type": "stream",
     "text": [
      "\r",
      " 88%|██████████████████████████████████▎    | 1493/1695 [38:40<01:55,  1.75it/s]"
     ]
    },
    {
     "name": "stdout",
     "output_type": "stream",
     "text": [
      "CeHTT7KFBmCqi4fSLibPEOVbfco9xUvn9opC8w8kflPyDpsla-YSZCHTetWTKDvCLav_xnocRu66vQ\n"
     ]
    },
    {
     "name": "stderr",
     "output_type": "stream",
     "text": [
      "\r",
      " 88%|██████████████████████████████████▍    | 1494/1695 [38:40<01:49,  1.84it/s]"
     ]
    },
    {
     "name": "stdout",
     "output_type": "stream",
     "text": [
      "ksdSOtp21NMGlIZpVcKQc05Dwse6AWqhkbXxpCpg1FpMghOMycDPfBahMBBlZiP6_PB-TrIlunOJwQ\n"
     ]
    },
    {
     "name": "stderr",
     "output_type": "stream",
     "text": [
      "\r",
      " 88%|██████████████████████████████████▍    | 1495/1695 [38:40<01:33,  2.14it/s]"
     ]
    },
    {
     "name": "stdout",
     "output_type": "stream",
     "text": [
      "Xewlez6CIjFQLeOaLMSuC69cqIIuO92J99JuctM2VWb79x4SWK1TbArzsKfJt5NZItigGtpzq5o4LA\n"
     ]
    },
    {
     "name": "stderr",
     "output_type": "stream",
     "text": [
      "\r",
      " 88%|██████████████████████████████████▍    | 1496/1695 [38:41<01:32,  2.15it/s]"
     ]
    },
    {
     "name": "stdout",
     "output_type": "stream",
     "text": [
      "MyfvTfE3CVCcFkSurrpwE56v_-w3DFs9OO84s_E7MMlL2QFWopZys4Nw10PRXKmBnDiTH37JjBVNZw\n"
     ]
    },
    {
     "name": "stderr",
     "output_type": "stream",
     "text": [
      "\r",
      " 88%|██████████████████████████████████▍    | 1497/1695 [38:41<01:24,  2.35it/s]"
     ]
    },
    {
     "name": "stdout",
     "output_type": "stream",
     "text": [
      "lUk4K-eKo7Skd2RMPjYe7riteNVF3m5W4Eoq5EAF9Zinuq6QU7TTE4mV7ldAavbHPXBGy9S-v4gY5A\n"
     ]
    },
    {
     "name": "stderr",
     "output_type": "stream",
     "text": [
      "\r",
      " 88%|██████████████████████████████████▍    | 1498/1695 [38:42<01:18,  2.50it/s]"
     ]
    },
    {
     "name": "stdout",
     "output_type": "stream",
     "text": [
      "ekrmUtnQ1p0tWuh-TYEqbF56jlb8DJh8uVIOMC1fTIKVszhbyirTrCGhT8zsT_M-TXaTyCYrFJA_Aw\n"
     ]
    },
    {
     "name": "stderr",
     "output_type": "stream",
     "text": [
      "\r",
      " 88%|██████████████████████████████████▍    | 1499/1695 [38:42<01:17,  2.53it/s]"
     ]
    },
    {
     "name": "stdout",
     "output_type": "stream",
     "text": [
      "bcPwnZnP4TBKYwlYU6UrRuKJD-slf6wQg_yL3L4vKxgOF6B5BRRV5g65ietXzV-0fv1YeGml0jX8mA\n"
     ]
    },
    {
     "name": "stderr",
     "output_type": "stream",
     "text": [
      "\r",
      " 88%|██████████████████████████████████▌    | 1500/1695 [38:42<01:19,  2.46it/s]"
     ]
    },
    {
     "name": "stdout",
     "output_type": "stream",
     "text": [
      "bd3fPrX_kcWxgjvkbb1xD6U7phda5yHw8wryFJS1lbbhKB7YyQlyh4hes2R2aQttvQ0yd1NeX2lM9w\n"
     ]
    },
    {
     "name": "stderr",
     "output_type": "stream",
     "text": [
      "\r",
      " 89%|██████████████████████████████████▌    | 1501/1695 [38:43<01:18,  2.46it/s]"
     ]
    },
    {
     "name": "stdout",
     "output_type": "stream",
     "text": [
      "Rfetuj-88inp3ym-YYac-07UgBkVWbJm-cKU0Nqvi8xCcAtw57qKFOd47g_Zhi_HAbpnQD6uFjbYFw\n"
     ]
    },
    {
     "name": "stderr",
     "output_type": "stream",
     "text": [
      "\r",
      " 89%|██████████████████████████████████▌    | 1502/1695 [38:43<01:24,  2.28it/s]"
     ]
    },
    {
     "name": "stdout",
     "output_type": "stream",
     "text": [
      "NmJT-aUSa8Uvw_NeOWy4RQvytWJiq7hcscMu2J2oAxKd0NWBqqLvWXbDDzv6xCV0OXqo3b1-Xi2Fvw\n"
     ]
    },
    {
     "name": "stderr",
     "output_type": "stream",
     "text": [
      "\r",
      " 89%|██████████████████████████████████▌    | 1503/1695 [38:44<01:18,  2.44it/s]"
     ]
    },
    {
     "name": "stdout",
     "output_type": "stream",
     "text": [
      "crWfPZrhJXUPu-KUS1JgIJ_vlVd4ZgLVZj22d2wa_LPmk6rpop4uSg8nfJrvGrkDX-FyeAI9wZXldg\n"
     ]
    },
    {
     "name": "stderr",
     "output_type": "stream",
     "text": [
      "\r",
      " 89%|██████████████████████████████████▌    | 1504/1695 [38:44<01:34,  2.03it/s]"
     ]
    },
    {
     "name": "stdout",
     "output_type": "stream",
     "text": [
      "bBXU_A1nA8w3nbzMFLqaqjs463Vo7iRR8Hqx5xA9KH4s1g6upvybshWbEmImbUVotullbbZG_g6TqA\n"
     ]
    },
    {
     "name": "stderr",
     "output_type": "stream",
     "text": [
      "\r",
      " 89%|██████████████████████████████████▋    | 1505/1695 [38:45<01:38,  1.93it/s]"
     ]
    },
    {
     "name": "stdout",
     "output_type": "stream",
     "text": [
      "hM46TEwCpfwHpijAticg522jRL3pwrg3tWjcbam_weB-qAavTLJtMrSVZPORUiCZQ9cbEqo3h618UQ\n"
     ]
    },
    {
     "name": "stderr",
     "output_type": "stream",
     "text": [
      "\r",
      " 89%|██████████████████████████████████▋    | 1506/1695 [38:46<01:59,  1.58it/s]"
     ]
    },
    {
     "name": "stdout",
     "output_type": "stream",
     "text": [
      "QWMhxJGmyJ52Qpb_Y6oeK6ChUYqvj_nPT48h06Iq47n51n0jUDhaLHVChzuNz-w122wuSrlJ7IfrHw\n"
     ]
    },
    {
     "name": "stderr",
     "output_type": "stream",
     "text": [
      "\r",
      " 89%|██████████████████████████████████▋    | 1507/1695 [38:47<02:31,  1.24it/s]"
     ]
    },
    {
     "name": "stdout",
     "output_type": "stream",
     "text": [
      "qCqBV4QaKAwNpNtmBMNJu_a2h3Ivkme3u2vRlHMhnTbTetEvadTwrAI9aDx5hKAcoz7jsBIONuzAYw\n"
     ]
    },
    {
     "name": "stderr",
     "output_type": "stream",
     "text": [
      "\r",
      " 89%|██████████████████████████████████▋    | 1508/1695 [38:47<02:01,  1.54it/s]"
     ]
    },
    {
     "name": "stdout",
     "output_type": "stream",
     "text": [
      "AeNUJnOHsGpOOzz3rQf6CANQzOEWCdtfTVhe2NMsdg6KvVEApaxQ16UpOr6qFGHsmhZ9vO2YXhCw5g\n"
     ]
    },
    {
     "name": "stderr",
     "output_type": "stream",
     "text": [
      "\r",
      " 89%|██████████████████████████████████▋    | 1509/1695 [38:48<02:15,  1.38it/s]"
     ]
    },
    {
     "name": "stdout",
     "output_type": "stream",
     "text": [
      "nSDTfftE0S2a3HzzNQCgbCmfMvsMI4AE1r_SozBYIcnD8i1S1WMwLnvxb8TtkNNq7HXEM5u9_X_MmQ\n"
     ]
    },
    {
     "name": "stderr",
     "output_type": "stream",
     "text": [
      "\r",
      " 89%|██████████████████████████████████▋    | 1510/1695 [38:49<01:52,  1.65it/s]"
     ]
    },
    {
     "name": "stdout",
     "output_type": "stream",
     "text": [
      "5QEs0tjdtEpO9a56wgeD-DpRgiVbA2YFH5212elXkhc_2FS-shcXqiB8vxFf246PtFOEeS6MIKn8CA\n"
     ]
    },
    {
     "name": "stderr",
     "output_type": "stream",
     "text": [
      "\r",
      " 89%|██████████████████████████████████▊    | 1511/1695 [38:50<02:11,  1.40it/s]"
     ]
    },
    {
     "name": "stdout",
     "output_type": "stream",
     "text": [
      "nX7I955gdiKM7cdS9CnpSu51z0K797laZyvR_8hrpO0YSWhUm9xQ2ipEKvIPnEl67ROu5dhBlVtTjw\n"
     ]
    },
    {
     "name": "stderr",
     "output_type": "stream",
     "text": [
      "\r",
      " 89%|██████████████████████████████████▊    | 1512/1695 [38:50<01:49,  1.67it/s]"
     ]
    },
    {
     "name": "stdout",
     "output_type": "stream",
     "text": [
      "mSLPACptxA7vWRuVlXWtPsxZWCY_4FW8oBd1EZriCwnb3s_ks5_-WfreCvER5zTSyp6gwOHS3NNdzw\n"
     ]
    },
    {
     "name": "stderr",
     "output_type": "stream",
     "text": [
      "\r",
      " 89%|██████████████████████████████████▊    | 1513/1695 [38:50<01:32,  1.96it/s]"
     ]
    },
    {
     "name": "stdout",
     "output_type": "stream",
     "text": [
      "Ha3caUaP9bNFsjSZ-0bUB81mJ73zVVrT3Ccl-Gr3x9j8_5yY21NJ3n_LVA40_9OwS93HlR4SBamXyg\n"
     ]
    },
    {
     "name": "stderr",
     "output_type": "stream",
     "text": [
      "\r",
      " 89%|██████████████████████████████████▊    | 1514/1695 [38:50<01:19,  2.28it/s]"
     ]
    },
    {
     "name": "stdout",
     "output_type": "stream",
     "text": [
      "u73IROZPvoaEtKrdgPfwzM1UGGXiCt9xdc5-s-H1VmFs5nIlBWaFXObddRB9ivSF0out0sgvSdlQcA\n"
     ]
    },
    {
     "name": "stderr",
     "output_type": "stream",
     "text": [
      "\r",
      " 89%|██████████████████████████████████▊    | 1515/1695 [38:51<01:53,  1.59it/s]"
     ]
    },
    {
     "name": "stdout",
     "output_type": "stream",
     "text": [
      "FhqqxP9PJ6t0luPdRtfCHUnT8b7CzE0PO11lcfCkKC1PqinhvWVr4MG4DcMSObab7TFErV7WQzoUww\n"
     ]
    },
    {
     "name": "stderr",
     "output_type": "stream",
     "text": [
      "\r",
      " 89%|██████████████████████████████████▉    | 1516/1695 [38:53<02:17,  1.30it/s]"
     ]
    },
    {
     "name": "stdout",
     "output_type": "stream",
     "text": [
      "PjFZdXSFAEJqdjQ5lJbXcpgaTjW496i-xv9hsJU4F2pSb4h7unwxz8G2-Dt_GvY6boephj_d_-57FQ\n"
     ]
    },
    {
     "name": "stderr",
     "output_type": "stream",
     "text": [
      "\r",
      " 89%|██████████████████████████████████▉    | 1517/1695 [38:54<02:58,  1.00s/it]"
     ]
    },
    {
     "name": "stdout",
     "output_type": "stream",
     "text": [
      "sAXxesVqKMj1vtqNyK4itw_UWVrhVQgK--ISRuJhRdx0TTptP5Y-31y0i6hcBZOD4r1ElTQZr7qzeA\n"
     ]
    },
    {
     "name": "stderr",
     "output_type": "stream",
     "text": [
      "\r",
      " 90%|██████████████████████████████████▉    | 1518/1695 [38:56<03:19,  1.13s/it]"
     ]
    },
    {
     "name": "stdout",
     "output_type": "stream",
     "text": [
      "sbh-rAJ5XgwfKgXFht-Vwh3UaziFo-_MZ85D_HzubXE2IwP0osK9FtbUHyAxs9avYERzkJopLWeD-Q\n"
     ]
    },
    {
     "name": "stderr",
     "output_type": "stream",
     "text": [
      "\r",
      " 90%|██████████████████████████████████▉    | 1519/1695 [38:56<02:40,  1.10it/s]"
     ]
    },
    {
     "name": "stdout",
     "output_type": "stream",
     "text": [
      "Ge_lL6AJkKosJGlN-4W_bYU6qHYweZ6WAuI0FGQpHxyiSQYeL3RPcAWGZOOKEXZajKsPSsMtSknTSA\n"
     ]
    },
    {
     "name": "stderr",
     "output_type": "stream",
     "text": [
      "\r",
      " 90%|██████████████████████████████████▉    | 1520/1695 [38:57<02:57,  1.01s/it]"
     ]
    },
    {
     "name": "stdout",
     "output_type": "stream",
     "text": [
      "rpmaCGQi4ZE4ksWvB-8SDGA2eYuqqenjCkHEyS8ztJUidQ435KfmtJ826ZWqa2E19eI7ct8hn9mIYw\n"
     ]
    },
    {
     "name": "stderr",
     "output_type": "stream",
     "text": [
      "\r",
      " 90%|██████████████████████████████████▉    | 1521/1695 [38:59<03:39,  1.26s/it]"
     ]
    },
    {
     "name": "stdout",
     "output_type": "stream",
     "text": [
      "KFc1DVtfq___FbT6NuD6ygYV-rcJf0cGv-kEHs9nX4wwRMYsyamArXVx8aLCvlCjYaP-AVJeQYfp6A\n"
     ]
    },
    {
     "name": "stderr",
     "output_type": "stream",
     "text": [
      "\r",
      " 90%|███████████████████████████████████    | 1522/1695 [38:59<02:48,  1.03it/s]"
     ]
    },
    {
     "name": "stdout",
     "output_type": "stream",
     "text": [
      "1IKMkT0LwDs2r292wZE-lEVNS71gKDxxDPjddJBzmqe3dsypG1i9zulH2-XmDcrWF0An0gyUmsJYSw\n"
     ]
    },
    {
     "name": "stderr",
     "output_type": "stream",
     "text": [
      "\r",
      " 90%|███████████████████████████████████    | 1523/1695 [39:01<03:07,  1.09s/it]"
     ]
    },
    {
     "name": "stdout",
     "output_type": "stream",
     "text": [
      "jWfn_3uXU2l_GAmg2UZqWSheo4UGr5HOY0zefy0e_xY8uMNqMg_Vw-wQnNnFwsfO0soSS1QPwzhiVA\n"
     ]
    },
    {
     "name": "stderr",
     "output_type": "stream",
     "text": [
      "\r",
      " 90%|███████████████████████████████████    | 1524/1695 [39:01<02:28,  1.15it/s]"
     ]
    },
    {
     "name": "stdout",
     "output_type": "stream",
     "text": [
      "k1yjjegC4Zn1Kc_WZUI4vyPeN8S4g3ZflwbnPCgfvJ6hkpfA4hCVWKdqyXW-ZE9LhPpRtaqKmEBqOQ\n"
     ]
    },
    {
     "name": "stderr",
     "output_type": "stream",
     "text": [
      "\r",
      " 90%|███████████████████████████████████    | 1525/1695 [39:01<01:59,  1.42it/s]"
     ]
    },
    {
     "name": "stdout",
     "output_type": "stream",
     "text": [
      "drypvrg5gInst5QjEYrjVy8qZ5_EZ5pcmzxNMAnWCYLBRJ73G8aE8Z8nMO3fKIoCXy_Z5zDPe8v-Dw\n"
     ]
    },
    {
     "name": "stderr",
     "output_type": "stream",
     "text": [
      "\r",
      " 90%|███████████████████████████████████    | 1526/1695 [39:03<02:22,  1.18it/s]"
     ]
    },
    {
     "name": "stdout",
     "output_type": "stream",
     "text": [
      "jH696HxxQxGNhYLCAntfSTmcnxJxhO9cHIegvf9S8ltgIGj7IcMf9bSOxW5Eybp-ZkqTq3-inJUCYg\n"
     ]
    },
    {
     "name": "stderr",
     "output_type": "stream",
     "text": [
      "\r",
      " 90%|███████████████████████████████████▏   | 1527/1695 [39:04<02:44,  1.02it/s]"
     ]
    },
    {
     "name": "stdout",
     "output_type": "stream",
     "text": [
      "f8--kDYp9hMM1rsPF95ZEgh8BPbQ8_WrD0sOnc6ckyxBrVOr-sGwfaH4bisfkhdvH1xHCRiJV1haIw\n"
     ]
    },
    {
     "name": "stderr",
     "output_type": "stream",
     "text": [
      "\r",
      " 90%|███████████████████████████████████▏   | 1528/1695 [39:04<02:11,  1.27it/s]"
     ]
    },
    {
     "name": "stdout",
     "output_type": "stream",
     "text": [
      "XhM4PQGMkO9AWwSnZJdaqnszoJEJdVMVWbsIHSJJM74JeEIQu0DUiBStSpsv7gX7k0ueKooVAj9n_Q\n"
     ]
    },
    {
     "name": "stderr",
     "output_type": "stream",
     "text": [
      "\r",
      " 90%|███████████████████████████████████▏   | 1529/1695 [39:05<02:21,  1.17it/s]"
     ]
    },
    {
     "name": "stdout",
     "output_type": "stream",
     "text": [
      "tQA3NArJCO-Z_GSNSAqHi6X3_qYC7MP0Gi6PSTXZaUyRin5leWGHaIaESU5T1oeHZn9rD0GjlgPo6w\n"
     ]
    },
    {
     "name": "stderr",
     "output_type": "stream",
     "text": [
      "\r",
      " 90%|███████████████████████████████████▏   | 1530/1695 [39:06<02:34,  1.07it/s]"
     ]
    },
    {
     "name": "stdout",
     "output_type": "stream",
     "text": [
      "4j_qIVETvi6nTH4LLMuQCQVEICQE1-HVS6H8C-zEkWtsfYXKVzT35JxVcor9hqMTH-Elv8oGdiO5rA\n"
     ]
    },
    {
     "name": "stderr",
     "output_type": "stream",
     "text": [
      "\r",
      " 90%|███████████████████████████████████▏   | 1531/1695 [39:07<02:41,  1.01it/s]"
     ]
    },
    {
     "name": "stdout",
     "output_type": "stream",
     "text": [
      "uwSBQRl31SFK4_WAk81oY1BMhJXL7swjHRljEhko-yXgA5l2di_NRyreb3NybwXKEwijnLsiyH9DUg\n"
     ]
    },
    {
     "name": "stderr",
     "output_type": "stream",
     "text": [
      "\r",
      " 90%|███████████████████████████████████▏   | 1532/1695 [39:08<02:24,  1.13it/s]"
     ]
    },
    {
     "name": "stdout",
     "output_type": "stream",
     "text": [
      "gM331UPmNFnXAMhpaCgjDs7PJvzprezvUHl-0spMEiki-mr0zgJurkIG71Z2iV8Uh2syHF02C9mumQ\n"
     ]
    },
    {
     "name": "stderr",
     "output_type": "stream",
     "text": [
      "\r",
      " 90%|███████████████████████████████████▎   | 1533/1695 [39:08<01:56,  1.40it/s]"
     ]
    },
    {
     "name": "stdout",
     "output_type": "stream",
     "text": [
      "OuOtTEPx0mQMKXYLwbKJHW2wTlu0t-5U9QkzxJp7IN292iGd9-HpN-_RufeSxJRtan5NIdf52Q1qtw\n"
     ]
    },
    {
     "name": "stderr",
     "output_type": "stream",
     "text": [
      "\r",
      " 91%|███████████████████████████████████▎   | 1534/1695 [39:09<01:52,  1.44it/s]"
     ]
    },
    {
     "name": "stdout",
     "output_type": "stream",
     "text": [
      "2M_wAH-VV2rGomU-i0qXDgH256YPLyVzpLvEBsqE1FJ0bxECma9WS0hxC29kn6CcdU7N2z8ylixkFA\n"
     ]
    },
    {
     "name": "stderr",
     "output_type": "stream",
     "text": [
      "\r",
      " 91%|███████████████████████████████████▎   | 1535/1695 [39:10<01:41,  1.58it/s]"
     ]
    },
    {
     "name": "stdout",
     "output_type": "stream",
     "text": [
      "YJf3urTi9hPvnmJjv1j2i225uQzxo7PZEu-uxsG_fHyZahljwdbbOiLmO0gKg3Prc_o3brDGDoi0qQ\n"
     ]
    },
    {
     "name": "stderr",
     "output_type": "stream",
     "text": [
      "\r",
      " 91%|███████████████████████████████████▎   | 1536/1695 [39:10<01:36,  1.65it/s]"
     ]
    },
    {
     "name": "stdout",
     "output_type": "stream",
     "text": [
      "QNoEwcaacTtEEpmg4Cv18OstdQVPjKRn34s9pGCR7IcxuwdPIONBPJ7gS3LJE0IsMt56vHIoI3833Q\n"
     ]
    },
    {
     "name": "stderr",
     "output_type": "stream",
     "text": [
      "\r",
      " 91%|███████████████████████████████████▎   | 1537/1695 [39:11<01:38,  1.60it/s]"
     ]
    },
    {
     "name": "stdout",
     "output_type": "stream",
     "text": [
      "yWlsHy7TL2xNV1OGgvvHoiuB_zK4CxIbft4KYydKrG4-64K-dnyQ5M-vzoVONaWRPJ35hihokmNjgQ\n"
     ]
    },
    {
     "name": "stderr",
     "output_type": "stream",
     "text": [
      "\r",
      " 91%|███████████████████████████████████▍   | 1538/1695 [39:11<01:33,  1.69it/s]"
     ]
    },
    {
     "name": "stdout",
     "output_type": "stream",
     "text": [
      "96MwG2SU766DrLKUPtjpscEBsbPb5b9vFtkYuadV8Y5SWpLjV02WD_7YEsVSRO1Uel0beUPTKn17kA\n"
     ]
    },
    {
     "name": "stderr",
     "output_type": "stream",
     "text": [
      "\r",
      " 91%|███████████████████████████████████▍   | 1539/1695 [39:12<01:29,  1.75it/s]"
     ]
    },
    {
     "name": "stdout",
     "output_type": "stream",
     "text": [
      "yoHRrigMvr5Gk1QhW6eJ0Rg4hFVBqqV-SB8fcJ0jq4Sw8ol2pEh0mDpVsmWcLEuiY8dSo-UbTYbHBA\n"
     ]
    },
    {
     "name": "stderr",
     "output_type": "stream",
     "text": [
      "\r",
      " 91%|███████████████████████████████████▍   | 1540/1695 [39:12<01:16,  2.04it/s]"
     ]
    },
    {
     "name": "stdout",
     "output_type": "stream",
     "text": [
      "TB3mCtCuYf_ifgRaQppi7LesTUizCdPDeSFpq6ZN2rfZDdZwdZlZGc_Zedn1s2t2IJ7UeVdVCZt1eQ\n"
     ]
    },
    {
     "name": "stderr",
     "output_type": "stream",
     "text": [
      "\r",
      " 91%|███████████████████████████████████▍   | 1541/1695 [39:12<01:08,  2.26it/s]"
     ]
    },
    {
     "name": "stdout",
     "output_type": "stream",
     "text": [
      "tpmQcxXzas-IVLHX8xOrEXg0l3pPR1ZIlIQiOodvVIqr7u8xMiQICDucQg_yieG551teih0Fa3uvWQ\n"
     ]
    },
    {
     "name": "stderr",
     "output_type": "stream",
     "text": [
      "\r",
      " 91%|███████████████████████████████████▍   | 1542/1695 [39:13<01:21,  1.88it/s]"
     ]
    },
    {
     "name": "stdout",
     "output_type": "stream",
     "text": [
      "gXRa04qKS97K16RamAvqmspisSJfzwMFZPEbu2LAcHFIqD9qJEY3rV1tJsHe2q_ZY5zB10hzexegaw\n"
     ]
    },
    {
     "name": "stderr",
     "output_type": "stream",
     "text": [
      "\r",
      " 91%|███████████████████████████████████▌   | 1543/1695 [39:14<01:26,  1.75it/s]"
     ]
    },
    {
     "name": "stdout",
     "output_type": "stream",
     "text": [
      "D4T5jMhlMuMex_E7h0xUdFVVsV9DXru2huFqB5kKLTRpi9supNawslqjETGK2VwesLUwy3bHJOnbjw\n"
     ]
    },
    {
     "name": "stderr",
     "output_type": "stream",
     "text": [
      "\r",
      " 91%|███████████████████████████████████▌   | 1544/1695 [39:15<01:53,  1.33it/s]"
     ]
    },
    {
     "name": "stdout",
     "output_type": "stream",
     "text": [
      "UyLZwfFzf_UiqXp3aopgK65TEYLbIFr3XVsOMm6mmFCO6BRqj8HDXyJOGQgupLn5C93OZc-8m6VeXA\n"
     ]
    },
    {
     "name": "stderr",
     "output_type": "stream",
     "text": [
      "\r",
      " 91%|███████████████████████████████████▌   | 1545/1695 [39:16<02:06,  1.19it/s]"
     ]
    },
    {
     "name": "stdout",
     "output_type": "stream",
     "text": [
      "rtSIGSPVkJ60ug6VdjZQR4HGGUaK8Buz_dhtYIkWYW6JjUuCQOaYMRka_A7myaSRG9D_eYg58mfVmg\n"
     ]
    },
    {
     "name": "stderr",
     "output_type": "stream",
     "text": [
      "\r",
      " 91%|███████████████████████████████████▌   | 1546/1695 [39:17<02:16,  1.09it/s]"
     ]
    },
    {
     "name": "stdout",
     "output_type": "stream",
     "text": [
      "pGnSGXDgc_BQUm0usyVeBP7h7UzKeK0UhGiplyuLDUxQCPKKTmO9KKBCKevBtHyyukhB2fWWzBi5oA\n"
     ]
    },
    {
     "name": "stderr",
     "output_type": "stream",
     "text": [
      "\r",
      " 91%|███████████████████████████████████▌   | 1547/1695 [39:18<01:52,  1.32it/s]"
     ]
    },
    {
     "name": "stdout",
     "output_type": "stream",
     "text": [
      "Z5WEaIB0RweulmROqtWpwH-Vt0Hf3HnT96JZFXg2gQOP03qyGjzeQ5A3Rx9Wp0_pYUbdAnCdfwqyUQ\n"
     ]
    },
    {
     "name": "stderr",
     "output_type": "stream",
     "text": [
      "\r",
      " 91%|███████████████████████████████████▌   | 1548/1695 [39:18<01:40,  1.46it/s]"
     ]
    },
    {
     "name": "stdout",
     "output_type": "stream",
     "text": [
      "IIPZpzuTaJVaSh3rwznB_C2M40rP7u3RaHWqZm9EnUh0G2TeNUs_J9DvJefW3TYngDg62svqD3merg\n"
     ]
    },
    {
     "name": "stderr",
     "output_type": "stream",
     "text": [
      "\r",
      " 91%|███████████████████████████████████▋   | 1549/1695 [39:19<01:36,  1.51it/s]"
     ]
    },
    {
     "name": "stdout",
     "output_type": "stream",
     "text": [
      "IAFgQp6uNOvw9JUV3kzsMs6-cItcmMisaEa1cVaBBlwX7dTaAZjWJl1TlD8QUQMEClBoR6wjLZa9Sg\n"
     ]
    },
    {
     "name": "stderr",
     "output_type": "stream",
     "text": [
      "\r",
      " 91%|███████████████████████████████████▋   | 1550/1695 [39:19<01:25,  1.69it/s]"
     ]
    },
    {
     "name": "stdout",
     "output_type": "stream",
     "text": [
      "06I50uPtVbJuIa6yTC7uJ4qWq6-V4s23Ma_h_PkcRXZGqSgSIOtiDnzPXQlAQmyS5naIo5Eii3WSoA\n"
     ]
    },
    {
     "name": "stderr",
     "output_type": "stream",
     "text": [
      "\r",
      " 92%|███████████████████████████████████▋   | 1551/1695 [39:20<01:42,  1.41it/s]"
     ]
    },
    {
     "name": "stdout",
     "output_type": "stream",
     "text": [
      "WxQBH3dWTsiyNLmfmXvCvX0VDTtKzEmyez_eezWi-DCzTVt3vRVl8Qu-GgubogfwzOraaBr6pfFPGw\n"
     ]
    },
    {
     "name": "stderr",
     "output_type": "stream",
     "text": [
      "\r",
      " 92%|███████████████████████████████████▋   | 1552/1695 [39:20<01:28,  1.62it/s]"
     ]
    },
    {
     "name": "stdout",
     "output_type": "stream",
     "text": [
      "Qzmmd37x_JZFIzZD6L6DMD9F0Ayxa6tdVCywC4GYnLXAHM-vL09snVlepEf61HigPGPdJ6w6Kvuabg\n"
     ]
    },
    {
     "name": "stderr",
     "output_type": "stream",
     "text": [
      "\r",
      " 92%|███████████████████████████████████▋   | 1553/1695 [39:21<01:17,  1.84it/s]"
     ]
    },
    {
     "name": "stdout",
     "output_type": "stream",
     "text": [
      "yZiShtOXWJOJ3iEm-PvWCDX3WNIvAV5O2nV5HZahnVrMQBVIOwnNzkf_OV0JjFKeD6oJ7xutAgrPSw\n"
     ]
    },
    {
     "name": "stderr",
     "output_type": "stream",
     "text": [
      "\r",
      " 92%|███████████████████████████████████▊   | 1554/1695 [39:21<01:20,  1.75it/s]"
     ]
    },
    {
     "name": "stdout",
     "output_type": "stream",
     "text": [
      "oaUHigXTpUHlWzzngOZ1hiVpXg3Vud69cD8x1G0tacmfxpOF81QJ0WrRbs4sLFcQQXGNLgr8050dvw\n"
     ]
    },
    {
     "name": "stderr",
     "output_type": "stream",
     "text": [
      "\r",
      " 92%|███████████████████████████████████▊   | 1555/1695 [39:22<01:14,  1.88it/s]"
     ]
    },
    {
     "name": "stdout",
     "output_type": "stream",
     "text": [
      "TOOTwWLdYUwegbVuY3HlBhgA8ZQjdf8pmoGJofS6pvfuP4k9NzkXwmUSOP4qaJZoA_GjyA_oeoZruw\n"
     ]
    },
    {
     "name": "stderr",
     "output_type": "stream",
     "text": [
      "\r",
      " 92%|███████████████████████████████████▊   | 1556/1695 [39:23<01:15,  1.83it/s]"
     ]
    },
    {
     "name": "stdout",
     "output_type": "stream",
     "text": [
      "TApJrPubQGsdzfvAmOECDxH-i7m9NWePk7b9tUzy3-_qW9ktkzqOgkOG-U9PCmmYESgp6skHI1piEA\n"
     ]
    },
    {
     "name": "stderr",
     "output_type": "stream",
     "text": [
      "\r",
      " 92%|███████████████████████████████████▊   | 1557/1695 [39:23<01:08,  2.02it/s]"
     ]
    },
    {
     "name": "stdout",
     "output_type": "stream",
     "text": [
      "vDqkTc_MlqYwHeFa12DM-PgaAQd56Tiv34ZkrzGOepTTmsA5GVkpEPrEYC-Sqxyz7gonJlz2PdSLgQ\n"
     ]
    },
    {
     "name": "stderr",
     "output_type": "stream",
     "text": [
      "\r",
      " 92%|███████████████████████████████████▊   | 1558/1695 [39:23<01:00,  2.25it/s]"
     ]
    },
    {
     "name": "stdout",
     "output_type": "stream",
     "text": [
      "Z4VUjIdICIA8etiGWmkOobnHFrwQOUtF3NmqkkPYGbBqRjvFUuX2h4HMEZATNO-xMSsEYi-Tpz-E-A\n"
     ]
    },
    {
     "name": "stderr",
     "output_type": "stream",
     "text": [
      "\r",
      " 92%|███████████████████████████████████▊   | 1559/1695 [39:24<00:57,  2.38it/s]"
     ]
    },
    {
     "name": "stdout",
     "output_type": "stream",
     "text": [
      "Zh9RlR_dgP0jFs5ckOlDM_T79vVJc6wxYX4Dr9siDY312ElzlJeV5-M3-oODcwLjksOBOlsj6JIzfA\n"
     ]
    },
    {
     "name": "stderr",
     "output_type": "stream",
     "text": [
      "\r",
      " 92%|███████████████████████████████████▉   | 1560/1695 [39:24<00:54,  2.49it/s]"
     ]
    },
    {
     "name": "stdout",
     "output_type": "stream",
     "text": [
      "1aFQ58PkqzDetuwNSXcinx10vh8Zl3f0RUdmdpagjDgstteY6I5yRjdaaan2vxxhOCdIPEty9bkeKw\n"
     ]
    },
    {
     "name": "stderr",
     "output_type": "stream",
     "text": [
      "\r",
      " 92%|███████████████████████████████████▉   | 1561/1695 [39:24<00:53,  2.48it/s]"
     ]
    },
    {
     "name": "stdout",
     "output_type": "stream",
     "text": [
      "r_xa0lQLV0q2QELRQas88WVn_4ffD1nsoT50rDIP0nmhGG2gzLRmdKyHCC6JOK33zaSlHw4NBOj4MA\n"
     ]
    },
    {
     "name": "stderr",
     "output_type": "stream",
     "text": [
      "\r",
      " 92%|███████████████████████████████████▉   | 1562/1695 [39:25<01:03,  2.08it/s]"
     ]
    },
    {
     "name": "stdout",
     "output_type": "stream",
     "text": [
      "n6hqmlDuSsPlMFMpKq2rZdbHDIv6g3JkFmhNg0TVsqBcuk6Tney3s0OYdD9zDXAAU3BuJ5ptyJau_Q\n"
     ]
    },
    {
     "name": "stderr",
     "output_type": "stream",
     "text": [
      "\r",
      " 92%|███████████████████████████████████▉   | 1563/1695 [39:26<01:19,  1.65it/s]"
     ]
    },
    {
     "name": "stdout",
     "output_type": "stream",
     "text": [
      "-LyPkK4fjpXyspl_clRF4KBFEQ0Jx3pIGaGit2ZrzwJiFSUbv76sZJQak62Rn5xg2S4QYGLodHPxcA\n"
     ]
    },
    {
     "name": "stderr",
     "output_type": "stream",
     "text": [
      "\r",
      " 92%|███████████████████████████████████▉   | 1564/1695 [39:26<01:09,  1.88it/s]"
     ]
    },
    {
     "name": "stdout",
     "output_type": "stream",
     "text": [
      "Dmu6HA29jBrn7bp8tQRiMQjr1un0Six-j4kIK5HuxJEvMDx_5AeCTElnbpmlCYAR4ra5qDz4MTqqNg\n"
     ]
    },
    {
     "name": "stderr",
     "output_type": "stream",
     "text": [
      "\r",
      " 92%|████████████████████████████████████   | 1565/1695 [39:27<01:04,  2.00it/s]"
     ]
    },
    {
     "name": "stdout",
     "output_type": "stream",
     "text": [
      "HmHmDap6pAKXhwfc96HhsS1K35bLZFUigMAhlHBvBPsBOAezcJ91rxkJrk5fPSHBaLtRgc02GM3hLg\n"
     ]
    },
    {
     "name": "stderr",
     "output_type": "stream",
     "text": [
      "\r",
      " 92%|████████████████████████████████████   | 1566/1695 [39:28<01:44,  1.23it/s]"
     ]
    },
    {
     "name": "stdout",
     "output_type": "stream",
     "text": [
      "KVtNcfZQV2kb7D6lE1J1MngQrVo92zkqLdvFzPXZIugFTYf4O13RlxJ91xf4Fl65IXOdLM42NVpngA\n"
     ]
    },
    {
     "name": "stderr",
     "output_type": "stream",
     "text": [
      "\r",
      " 92%|████████████████████████████████████   | 1567/1695 [39:29<01:26,  1.48it/s]"
     ]
    },
    {
     "name": "stdout",
     "output_type": "stream",
     "text": [
      "1h1K65XxbAV6Rj-eGSBa6xJGkhD2jNM35YLd4OqrypiXmC3Df7lkwGaOUTHKyV0lyV4wTcWHIoBx3A\n"
     ]
    },
    {
     "name": "stderr",
     "output_type": "stream",
     "text": [
      "\r",
      " 93%|████████████████████████████████████   | 1568/1695 [39:29<01:18,  1.61it/s]"
     ]
    },
    {
     "name": "stdout",
     "output_type": "stream",
     "text": [
      "w4aWzW8X3jLROf6MlAmeD-Hr7gFMJKE1Iar23pHGH7krYJgxd8dfWP-N2toQ3lBe0gKgMCDLXlMZmw\n"
     ]
    },
    {
     "name": "stderr",
     "output_type": "stream",
     "text": [
      "\r",
      " 93%|████████████████████████████████████   | 1569/1695 [39:29<01:06,  1.88it/s]"
     ]
    },
    {
     "name": "stdout",
     "output_type": "stream",
     "text": [
      "ZCByMT1NJVF3nYLCSVDNSf1Kfe7eGr9hESHPCXxlYLLfNHdFiFSB8TRHMgNUQVLpmA9mYJFBj96ceg\n"
     ]
    },
    {
     "name": "stderr",
     "output_type": "stream",
     "text": [
      "\r",
      " 93%|████████████████████████████████████   | 1570/1695 [39:30<01:00,  2.08it/s]"
     ]
    },
    {
     "name": "stdout",
     "output_type": "stream",
     "text": [
      "4769aFCLl0KsnxyC3cXyQcvBci-1mkTPdfyAJVs7DR0BTCt06VQRRBNl0qIPGAV9LwIeeWUiEBUj-w\n"
     ]
    },
    {
     "name": "stderr",
     "output_type": "stream",
     "text": [
      "\r",
      " 93%|████████████████████████████████████▏  | 1571/1695 [39:30<00:54,  2.27it/s]"
     ]
    },
    {
     "name": "stdout",
     "output_type": "stream",
     "text": [
      "mqvAA60fTWik1EJfmgyOBYS_-3tfqOgicLhZbgcR7s2sLj9ibHtNb9a8Q3xSCRFIsVvk7PIP47hokg\n"
     ]
    },
    {
     "name": "stderr",
     "output_type": "stream",
     "text": [
      "\r",
      " 93%|████████████████████████████████████▏  | 1572/1695 [39:31<00:54,  2.27it/s]"
     ]
    },
    {
     "name": "stdout",
     "output_type": "stream",
     "text": [
      "XcAlsya7ATQF3VxllLhOGUJ-Z0ajFdPyFMoHpMAVQatVfT2AV6l2XXznM4gi00Q7bE95QgBr5IgTzA\n"
     ]
    },
    {
     "name": "stderr",
     "output_type": "stream",
     "text": [
      "\r",
      " 93%|████████████████████████████████████▏  | 1573/1695 [39:31<00:49,  2.49it/s]"
     ]
    },
    {
     "name": "stdout",
     "output_type": "stream",
     "text": [
      "2PhhLXRGLpOC6C2JD8GX_h7_W67NFaHeTsMdHJj2gswt7wV7_piOwyGjNr4-PyYfpckvWEXFADknXg\n"
     ]
    },
    {
     "name": "stderr",
     "output_type": "stream",
     "text": [
      "\r",
      " 93%|████████████████████████████████████▏  | 1574/1695 [39:31<00:47,  2.57it/s]"
     ]
    },
    {
     "name": "stdout",
     "output_type": "stream",
     "text": [
      "ItI4IobY4HLN_z4v7NH5Qku2pjrpe7zZTxxBmhfETrnoZt1_2kHkt2oM_61AuESqV51wdF_K2kg16g\n"
     ]
    },
    {
     "name": "stderr",
     "output_type": "stream",
     "text": [
      "\r",
      " 93%|████████████████████████████████████▏  | 1575/1695 [39:33<01:34,  1.27it/s]"
     ]
    },
    {
     "name": "stdout",
     "output_type": "stream",
     "text": [
      "8CSMXUKfd48EFnlhfaXSZwCFMKOlWI0BJIZ4tMQOAa87Pxlq2gTz4UyE64_wwyMuTiKR7mUlZ6BKCA\n"
     ]
    },
    {
     "name": "stderr",
     "output_type": "stream",
     "text": [
      "\r",
      " 93%|████████████████████████████████████▎  | 1576/1695 [39:33<01:16,  1.55it/s]"
     ]
    },
    {
     "name": "stdout",
     "output_type": "stream",
     "text": [
      "fDL0JjDBLheF1ckpmLOWNBrNU71Cq2Zfbt7nZo2_qQYRh9ipb4d6XC_H1aN4ZiL_qmWJF6KpCMcY3A\n"
     ]
    },
    {
     "name": "stderr",
     "output_type": "stream",
     "text": [
      "\r",
      " 93%|████████████████████████████████████▎  | 1577/1695 [39:34<01:11,  1.64it/s]"
     ]
    },
    {
     "name": "stdout",
     "output_type": "stream",
     "text": [
      "EJrZJfZq1OvIoCXDdlu1Ksxc9wtD4GcJcNYF49Mds3r5YgJBP6-2KfGZHblEa-2pMsrONwZ4SI7yfQ\n"
     ]
    },
    {
     "name": "stderr",
     "output_type": "stream",
     "text": [
      "\r",
      " 93%|████████████████████████████████████▎  | 1578/1695 [39:34<00:59,  1.96it/s]"
     ]
    },
    {
     "name": "stdout",
     "output_type": "stream",
     "text": [
      "HYTmf-peHLZ-AjLIzc33X4UypuL5VcUID7TMtaoJ-mjo2akvHjobrhycRoQTv-KRgkOWIaiacZOqdg\n",
      "api cost full : infinite loop start\n",
      "loop location :  wqkX-TNJLB8pjQ4cyr0KhAuoG-FpwTIkwyO84E-OAX8bMOOvpTKoRZfwQA\n",
      "try 10 second wait time\n",
      "429\n",
      "try 10 second wait time\n",
      "429\n",
      "try 10 second wait time\n",
      "429\n",
      "try 10 second wait time\n",
      "429\n",
      "try 10 second wait time\n",
      "429\n",
      "try 10 second wait time\n"
     ]
    },
    {
     "name": "stderr",
     "output_type": "stream",
     "text": [
      "\r",
      " 93%|████████████████████████████████████▎  | 1579/1695 [40:37<37:12, 19.24s/it]"
     ]
    },
    {
     "name": "stdout",
     "output_type": "stream",
     "text": [
      "200\n",
      "total wait time :  62.562893867492676\n",
      "recovery api cost\n",
      "gHADCqir1maYbU7lx-mnd0633bY9UXyGVcLvCct1aML1kbH0xV5vA6c4ikCam44q3ZbkO-zKcs_MsA\n"
     ]
    },
    {
     "name": "stderr",
     "output_type": "stream",
     "text": [
      "\r",
      " 93%|████████████████████████████████████▎  | 1580/1695 [40:38<26:21, 13.75s/it]"
     ]
    },
    {
     "name": "stdout",
     "output_type": "stream",
     "text": [
      "0l_Hi5rMzKsWXi4TXP2dQcfEitV9f47KYpo_engpwC3C4_YHd0Wj_FLMJCKazzwOGkYmnp_LvpSdxQ\n"
     ]
    },
    {
     "name": "stderr",
     "output_type": "stream",
     "text": [
      "\r",
      " 93%|████████████████████████████████████▍  | 1581/1695 [40:38<18:27,  9.71s/it]"
     ]
    },
    {
     "name": "stdout",
     "output_type": "stream",
     "text": [
      "M1LfwddLC-riMds-0FVo6TyF7v7OW0x-Vzq_GX9oUbZ41IurAVd7FTw30J23nrYAQThCXWId0irrUA\n"
     ]
    },
    {
     "name": "stderr",
     "output_type": "stream",
     "text": [
      "\r",
      " 93%|████████████████████████████████████▍  | 1582/1695 [40:38<12:56,  6.87s/it]"
     ]
    },
    {
     "name": "stdout",
     "output_type": "stream",
     "text": [
      "4vxv4mmVJ9PCMS1mqd8rZFfRIWqWKrqz8U39DJgnwJGIbv9TZizwWFZVEXkMPmsv3ihfQ2kl49IF3A\n"
     ]
    },
    {
     "name": "stderr",
     "output_type": "stream",
     "text": [
      "\r",
      " 93%|████████████████████████████████████▍  | 1583/1695 [40:39<09:14,  4.95s/it]"
     ]
    },
    {
     "name": "stdout",
     "output_type": "stream",
     "text": [
      "Hhi193jKHk_hlCEO6rEzljSiME9r14aOlpiIVLHlsiWKeyaR0wrw39pl4aBhq-XyVzGqcLB-Zcy1Bw\n"
     ]
    },
    {
     "name": "stderr",
     "output_type": "stream",
     "text": [
      "\r",
      " 93%|████████████████████████████████████▍  | 1584/1695 [40:39<06:38,  3.59s/it]"
     ]
    },
    {
     "name": "stdout",
     "output_type": "stream",
     "text": [
      "YPxfPy6KuCoVC8_pgHIVxfslYpwXbvI8pVqeksd2wJsgvY61icxRccxcnYHNU8sH--5Ee7drvCE1Rg\n"
     ]
    },
    {
     "name": "stderr",
     "output_type": "stream",
     "text": [
      "\r",
      " 94%|████████████████████████████████████▍  | 1585/1695 [40:40<04:45,  2.59s/it]"
     ]
    },
    {
     "name": "stdout",
     "output_type": "stream",
     "text": [
      "u-ILCyaLSE2Wn26Uh6uJV13H6udTW1XeE0aqkrKhdH7Iwv2n_huhIkyWJLB6MxO0JsFWCZgk7Mhv0Q\n"
     ]
    },
    {
     "name": "stderr",
     "output_type": "stream",
     "text": [
      "\r",
      " 94%|████████████████████████████████████▍  | 1586/1695 [40:40<03:26,  1.89s/it]"
     ]
    },
    {
     "name": "stdout",
     "output_type": "stream",
     "text": [
      "IklRHBWfL4qIZp7tW3PszJtHYsZTY8iWn42FKwdb1uI0s68cXDnsxcJXrn_gvw3zeLYkmwI3vMkfHQ\n"
     ]
    },
    {
     "name": "stderr",
     "output_type": "stream",
     "text": [
      "\r",
      " 94%|████████████████████████████████████▌  | 1587/1695 [40:40<02:37,  1.46s/it]"
     ]
    },
    {
     "name": "stdout",
     "output_type": "stream",
     "text": [
      "FloAJ321GG4AvSexGjcYpOVoczf2lx4fhysulJ5FqhKI-bVSFK4xaasM7mtqu4KTj_OsIdr9WdRIOw\n"
     ]
    },
    {
     "name": "stderr",
     "output_type": "stream",
     "text": [
      "\r",
      " 94%|████████████████████████████████████▌  | 1588/1695 [40:41<01:57,  1.10s/it]"
     ]
    },
    {
     "name": "stdout",
     "output_type": "stream",
     "text": [
      "OuRoy0WOTpgNK61Ypjr5ARa7BT6qYROHRSRcDbKNSPKYLN1bMYBGT4vX6iXaKka4F3z320jcARQL5A\n"
     ]
    },
    {
     "name": "stderr",
     "output_type": "stream",
     "text": [
      "\r",
      " 94%|████████████████████████████████████▌  | 1589/1695 [40:41<01:29,  1.18it/s]"
     ]
    },
    {
     "name": "stdout",
     "output_type": "stream",
     "text": [
      "-PcFBrJoprGe1RsT9kVFxUXezqHuesUpvViliWHQ4q1SN2vRQPvoQ5ZADJ0NEUxn8DTAkNTvxzT6eA\n"
     ]
    },
    {
     "name": "stderr",
     "output_type": "stream",
     "text": [
      "\r",
      " 94%|████████████████████████████████████▌  | 1590/1695 [40:41<01:21,  1.29it/s]"
     ]
    },
    {
     "name": "stdout",
     "output_type": "stream",
     "text": [
      "sFHsjPq3N6wp9MSyvIxChsynQj1U7q5G1Tg3fKsMNhy7Mar8znR2AZPTKtL84CFOahiS40XBFrCilg\n"
     ]
    },
    {
     "name": "stderr",
     "output_type": "stream",
     "text": [
      "\r",
      " 94%|████████████████████████████████████▌  | 1591/1695 [40:42<01:15,  1.38it/s]"
     ]
    },
    {
     "name": "stdout",
     "output_type": "stream",
     "text": [
      "xhjpvimZDfnJX6ZMLAS1pIg2w6BgIoSZR0jr2u1LPLnrFRknfP4z0t8TWx0vuuIpdPDWSglKj55KNA\n"
     ]
    },
    {
     "name": "stderr",
     "output_type": "stream",
     "text": [
      "\r",
      " 94%|████████████████████████████████████▋  | 1592/1695 [40:43<01:11,  1.44it/s]"
     ]
    },
    {
     "name": "stdout",
     "output_type": "stream",
     "text": [
      "DyYnIpoOpCu85KDUUBAJa6Nztt27ggrfapYglLu2SL-Gqcik8RzcIoz6VpTpNVkRzK1upLq6Sroc7A\n"
     ]
    },
    {
     "name": "stderr",
     "output_type": "stream",
     "text": [
      "\r",
      " 94%|████████████████████████████████████▋  | 1593/1695 [40:43<01:05,  1.55it/s]"
     ]
    },
    {
     "name": "stdout",
     "output_type": "stream",
     "text": [
      "s2iN0JvAtJY5-OpjzsFpAU9i2kHDSn7Rp2zzIXkGr6U4fYiUdlC-fxLSmCizXAe2y_vsJZY9-Nz44Q\n"
     ]
    },
    {
     "name": "stderr",
     "output_type": "stream",
     "text": [
      "\r",
      " 94%|████████████████████████████████████▋  | 1594/1695 [40:44<00:56,  1.79it/s]"
     ]
    },
    {
     "name": "stdout",
     "output_type": "stream",
     "text": [
      "KiqjdFPSJHoqFo3yT33RUg08lsFxFGstmSPgc1VJCoeJaIOhyGE88Epw-HFiZN3oZ1912NsWdTt-kw\n"
     ]
    },
    {
     "name": "stderr",
     "output_type": "stream",
     "text": [
      "\r",
      " 94%|████████████████████████████████████▋  | 1595/1695 [40:44<00:49,  2.00it/s]"
     ]
    },
    {
     "name": "stdout",
     "output_type": "stream",
     "text": [
      "4rOzKs_45OE5abqTKnlviJbnVuLAfIyw7R3gCriYfPpmzd5lzpqF8g2jOXVynDPiaxwa5t53AkMFZQ\n"
     ]
    },
    {
     "name": "stderr",
     "output_type": "stream",
     "text": [
      "\r",
      " 94%|████████████████████████████████████▋  | 1596/1695 [40:44<00:42,  2.32it/s]"
     ]
    },
    {
     "name": "stdout",
     "output_type": "stream",
     "text": [
      "PGdpZjKur6NYnF7-BfhWoNtLJNiCqBxlmHJLeYs4cHzVoROccnqSFPFzzTyJjvkc1II14YIj8fYKMQ\n"
     ]
    },
    {
     "name": "stderr",
     "output_type": "stream",
     "text": [
      "\r",
      " 94%|████████████████████████████████████▋  | 1597/1695 [40:45<00:51,  1.92it/s]"
     ]
    },
    {
     "name": "stdout",
     "output_type": "stream",
     "text": [
      "3IKSzycBvxRMN-zfzVqYOTJ2LQb2B6lm9w_dolAqmgVS5USV54oJ0QHIea0_XvpVqrs7dmhaWFYCCQ\n"
     ]
    },
    {
     "name": "stderr",
     "output_type": "stream",
     "text": [
      "\r",
      " 94%|████████████████████████████████████▊  | 1598/1695 [40:46<00:54,  1.77it/s]"
     ]
    },
    {
     "name": "stdout",
     "output_type": "stream",
     "text": [
      "s8ONlkBnjrUT99g7OIKeMaNpVYxYSj7VOIw-IXp_gPWrhcb0kbmKLDeziZXN3B3nvQ2BEJL1UdAJPg\n"
     ]
    },
    {
     "name": "stderr",
     "output_type": "stream",
     "text": [
      "\r",
      " 94%|████████████████████████████████████▊  | 1599/1695 [40:46<00:55,  1.72it/s]"
     ]
    },
    {
     "name": "stdout",
     "output_type": "stream",
     "text": [
      "8Qo1P0sBD7CUfkZfeQILDBKQL2XSFQcneH36aUdHU7cjIibigBppljMyFxhcZueXQvU0Udcv-rTDUg\n"
     ]
    },
    {
     "name": "stderr",
     "output_type": "stream",
     "text": [
      "\r",
      " 94%|████████████████████████████████████▊  | 1600/1695 [40:47<00:47,  1.99it/s]"
     ]
    },
    {
     "name": "stdout",
     "output_type": "stream",
     "text": [
      "vCBTek7jpX5IrTaT7QZJZHfYGBov19TICiZsvJKj1WhI2r0W8N0-6lENhqZjnhSmdmZ91Qg-JqIhwA\n"
     ]
    },
    {
     "name": "stderr",
     "output_type": "stream",
     "text": [
      "\r",
      " 94%|████████████████████████████████████▊  | 1601/1695 [40:47<00:55,  1.70it/s]"
     ]
    },
    {
     "name": "stdout",
     "output_type": "stream",
     "text": [
      "uRkhzJ9iopAoYU16I-vFqbdCsdgRSWzgfE5t2QlB1k8pbdcZn4JOlIpJHHapi5HRyxyH3je0XvzJnA\n"
     ]
    },
    {
     "name": "stderr",
     "output_type": "stream",
     "text": [
      "\r",
      " 95%|████████████████████████████████████▊  | 1602/1695 [40:48<00:45,  2.03it/s]"
     ]
    },
    {
     "name": "stdout",
     "output_type": "stream",
     "text": [
      "PKVnkj1uBoVoF0hgLRvaHiGJjBK6iwpJm4rl-WrjpwISfPTB7pICzZsHr3P93SX8951wLqFH53mPFg\n"
     ]
    },
    {
     "name": "stderr",
     "output_type": "stream",
     "text": [
      "\r",
      " 95%|████████████████████████████████████▉  | 1603/1695 [40:48<00:48,  1.88it/s]"
     ]
    },
    {
     "name": "stdout",
     "output_type": "stream",
     "text": [
      "p8PEhTenyjBn1ojqduR6xb__NE7T0xIo0_5vDb8k-onfwgCgdlbAE7V1sY5tyGVG4NB4NTZTQkOzzg\n"
     ]
    },
    {
     "name": "stderr",
     "output_type": "stream",
     "text": [
      "\r",
      " 95%|████████████████████████████████████▉  | 1604/1695 [40:49<00:56,  1.62it/s]"
     ]
    },
    {
     "name": "stdout",
     "output_type": "stream",
     "text": [
      "TALYzKf1TOYnHlOJlH9sbxr7vdUSrNDW3L0VTc93jFpZXeExJFvla7I5hKvLY2iYMwCUblAoJH_7vw\n"
     ]
    },
    {
     "name": "stderr",
     "output_type": "stream",
     "text": [
      "\r",
      " 95%|████████████████████████████████████▉  | 1605/1695 [40:50<00:54,  1.64it/s]"
     ]
    },
    {
     "name": "stdout",
     "output_type": "stream",
     "text": [
      "B6Jt6d16fUBX2l20mmhfN-AbBRv5Tf3cumxUUm-Sxsp89kgEen_u-lxSFnEHURo6IbX6t7vtpcc-QA\n"
     ]
    },
    {
     "name": "stderr",
     "output_type": "stream",
     "text": [
      "\r",
      " 95%|████████████████████████████████████▉  | 1606/1695 [40:51<01:05,  1.37it/s]"
     ]
    },
    {
     "name": "stdout",
     "output_type": "stream",
     "text": [
      "YLNY1FWxWwbRPjBZBspAV0C19Vgrqv-RqnmIdT2TH4bU7NUyt_odqDtNuNRDbKSFFGP7-TImm48MBQ\n"
     ]
    },
    {
     "name": "stderr",
     "output_type": "stream",
     "text": [
      "\r",
      " 95%|████████████████████████████████████▉  | 1607/1695 [40:51<00:57,  1.53it/s]"
     ]
    },
    {
     "name": "stdout",
     "output_type": "stream",
     "text": [
      "dEkKA3FlBypK6sBnmlGw9VlR3HSXZ42tOtpPIgr9sLqrPuT4-XUnlHtl5t1d77gp2PDUXpl6hkMGWQ\n"
     ]
    },
    {
     "name": "stderr",
     "output_type": "stream",
     "text": [
      "\r",
      " 95%|████████████████████████████████████▉  | 1608/1695 [40:53<01:20,  1.08it/s]"
     ]
    },
    {
     "name": "stdout",
     "output_type": "stream",
     "text": [
      "wxYgcHPOGE3Ea8qibvpBk2S3dVuC_J3ubLPgxsXYhdUnrya4LV-kl1inZSIhUrU5RP1YAC-O9fEQlA\n"
     ]
    },
    {
     "name": "stderr",
     "output_type": "stream",
     "text": [
      "\r",
      " 95%|█████████████████████████████████████  | 1609/1695 [40:53<01:02,  1.39it/s]"
     ]
    },
    {
     "name": "stdout",
     "output_type": "stream",
     "text": [
      "Do0x32Rb8e7sC5TtBjtqhKlrDw7Kzoq0kgqHctbyQ1ZnrMsJF6K4WKh_keY1j7Df1a9OEVbshTYZiw\n"
     ]
    },
    {
     "name": "stderr",
     "output_type": "stream",
     "text": [
      "\r",
      " 95%|█████████████████████████████████████  | 1610/1695 [40:53<00:49,  1.71it/s]"
     ]
    },
    {
     "name": "stdout",
     "output_type": "stream",
     "text": [
      "tc81juw2M2x1Su7gUFvTRajO2PTlfvnHDUPKiV_ixb1v_c49c4f1ZIZf3KjemwDLdo2ieX5kI8ZNSQ\n"
     ]
    },
    {
     "name": "stderr",
     "output_type": "stream",
     "text": [
      "\r",
      " 95%|█████████████████████████████████████  | 1611/1695 [40:53<00:40,  2.06it/s]"
     ]
    },
    {
     "name": "stdout",
     "output_type": "stream",
     "text": [
      "B-k6q1eiEI-raUV80UsAyfW2t1Ns1ptJw8Crbz4KPgcG-C6ETI3I4Ozav3G8chOtWzmc3GOQ15ozvA\n"
     ]
    },
    {
     "name": "stderr",
     "output_type": "stream",
     "text": [
      "\r",
      " 95%|█████████████████████████████████████  | 1612/1695 [40:54<00:34,  2.40it/s]"
     ]
    },
    {
     "name": "stdout",
     "output_type": "stream",
     "text": [
      "LCVtvE26u3ElKjJLtbgpBUOkSlW-V_mixU0jlBi_EVqFDuG3XHZgqIjeoozXfimQ1VxqTCstz-9r3w\n"
     ]
    },
    {
     "name": "stderr",
     "output_type": "stream",
     "text": [
      "\r",
      " 95%|█████████████████████████████████████  | 1613/1695 [40:55<00:44,  1.84it/s]"
     ]
    },
    {
     "name": "stdout",
     "output_type": "stream",
     "text": [
      "1xjFov8Csg471q2tPvvZOT9C2zr3jWt9GH2a6yoRCE80ZhepKfBvfdXej4QCYR8hqrxHlAKb3NdNlA\n"
     ]
    },
    {
     "name": "stderr",
     "output_type": "stream",
     "text": [
      "\r",
      " 95%|█████████████████████████████████████▏ | 1614/1695 [40:55<00:44,  1.80it/s]"
     ]
    },
    {
     "name": "stdout",
     "output_type": "stream",
     "text": [
      "ZT3Yp8rBz_cWMUhJOd220Q1pRsn2BUgFnFNKKAAyCUlBD00wS7k6dc833RseiW2dv_rRz4ME4HBHtw\n"
     ]
    },
    {
     "name": "stderr",
     "output_type": "stream",
     "text": [
      "\r",
      " 95%|█████████████████████████████████████▏ | 1615/1695 [40:56<00:45,  1.75it/s]"
     ]
    },
    {
     "name": "stdout",
     "output_type": "stream",
     "text": [
      "opn0Bwn30PUBVbNwS0jOKQZx6A2do5oPKf6A0ko4sT2tRklmSSyowuXEYhJmgJPEsrd0xWx-gmGBHg\n"
     ]
    },
    {
     "name": "stderr",
     "output_type": "stream",
     "text": [
      "\r",
      " 95%|█████████████████████████████████████▏ | 1616/1695 [40:56<00:47,  1.65it/s]"
     ]
    },
    {
     "name": "stdout",
     "output_type": "stream",
     "text": [
      "pLTll2ZiLoavd9vX-worrXtIBmppvP1i3frFnFt-T6lsOamWZIzJgk7TyYWIU7NKAsgAGgAkXadYFA\n"
     ]
    },
    {
     "name": "stderr",
     "output_type": "stream",
     "text": [
      "\r",
      " 95%|█████████████████████████████████████▏ | 1617/1695 [40:57<00:45,  1.71it/s]"
     ]
    },
    {
     "name": "stdout",
     "output_type": "stream",
     "text": [
      "pLchTVrG4ou1AhSmNFPnVVMNHQ6l3c_ZjYtacASMhRcix7C3zsKgdJNmX6mFeHH16E99LscnWFlrFA\n"
     ]
    },
    {
     "name": "stderr",
     "output_type": "stream",
     "text": [
      "\r",
      " 95%|█████████████████████████████████████▏ | 1618/1695 [40:58<00:47,  1.62it/s]"
     ]
    },
    {
     "name": "stdout",
     "output_type": "stream",
     "text": [
      "KFXeXbIFZC9nVISa2dFRHRaQpo6mFa7JYTykexagDIlYEoY8nwdYlo14lSpJmIEkEhT9_kvpVdiOVA\n"
     ]
    },
    {
     "name": "stderr",
     "output_type": "stream",
     "text": [
      "\r",
      " 96%|█████████████████████████████████████▎ | 1619/1695 [40:58<00:46,  1.62it/s]"
     ]
    },
    {
     "name": "stdout",
     "output_type": "stream",
     "text": [
      "c4iJ8gmjBmaMpNwzp3tIWzipiVIqSvYTCvviUqPiScP_yfp7EWgXlms94EtCM9PhaQXkrttGW2e6ug\n"
     ]
    },
    {
     "name": "stderr",
     "output_type": "stream",
     "text": [
      "\r",
      " 96%|█████████████████████████████████████▎ | 1620/1695 [40:59<00:37,  1.98it/s]"
     ]
    },
    {
     "name": "stdout",
     "output_type": "stream",
     "text": [
      "CvjK0vqcnQcF-AxvxwaJJBPrNt16WpLC50pF4htgEp5p28Ehilrxa81rE1BjOfsvIEwuAIRt2wiYng\n"
     ]
    },
    {
     "name": "stderr",
     "output_type": "stream",
     "text": [
      "\r",
      " 96%|█████████████████████████████████████▎ | 1621/1695 [40:59<00:31,  2.34it/s]"
     ]
    },
    {
     "name": "stdout",
     "output_type": "stream",
     "text": [
      "qiVh7Z7hmFbctlKkIfBGeI5nutzHcOdGpH8wGwENic4jMY88NzhcE8zt_jz15CA3kkBy5MgEUgpOuA\n"
     ]
    },
    {
     "name": "stderr",
     "output_type": "stream",
     "text": [
      "\r",
      " 96%|█████████████████████████████████████▎ | 1622/1695 [40:59<00:30,  2.36it/s]"
     ]
    },
    {
     "name": "stdout",
     "output_type": "stream",
     "text": [
      "3vzi89Pp4oom0tqp9s5Qn8y2yAvpCVcnnwm9qTeFWZobnv-f3IehIPfY4y2Od3H2wQt3Q3GrPH0k1Q\n"
     ]
    },
    {
     "name": "stderr",
     "output_type": "stream",
     "text": [
      "\r",
      " 96%|█████████████████████████████████████▎ | 1623/1695 [40:59<00:26,  2.67it/s]"
     ]
    },
    {
     "name": "stdout",
     "output_type": "stream",
     "text": [
      "MF5Dn9vHR3vOVsYjA9lqUfbHJDoXUCrqL5I_rfv-Ckyzia3DC608aPbXojIg0DQOGw4rSg6ObpoqWg\n"
     ]
    },
    {
     "name": "stderr",
     "output_type": "stream",
     "text": [
      "\r",
      " 96%|█████████████████████████████████████▎ | 1624/1695 [41:00<00:24,  2.94it/s]"
     ]
    },
    {
     "name": "stdout",
     "output_type": "stream",
     "text": [
      "3Cq_QGbiFpIx2HuKU7mnGh_lEZVRDrF6y1dvNsGM4nlh4ihaGfByXYI_UeOQXgO9pUu6eG25Ax9w8Q\n"
     ]
    },
    {
     "name": "stderr",
     "output_type": "stream",
     "text": [
      "\r",
      " 96%|█████████████████████████████████████▍ | 1625/1695 [41:00<00:22,  3.14it/s]"
     ]
    },
    {
     "name": "stdout",
     "output_type": "stream",
     "text": [
      "9qVz-lkCcescJ0JoXVf46RMnMUgfCEBw-WXuswHAX-8g4lCh4FrBKG2BjOUqfu-9p4CLqZH6Cc8uJQ\n"
     ]
    },
    {
     "name": "stderr",
     "output_type": "stream",
     "text": [
      "\r",
      " 96%|█████████████████████████████████████▍ | 1626/1695 [41:00<00:21,  3.22it/s]"
     ]
    },
    {
     "name": "stdout",
     "output_type": "stream",
     "text": [
      "Vp9GmO28XKdf99xBiWxp1kwyxaS4VmpENn0gqoLx-0rxDNPcKr2NsOoppzAD7eEpqiJYqmIppJ5B9A\n"
     ]
    },
    {
     "name": "stderr",
     "output_type": "stream",
     "text": [
      "\r",
      " 96%|█████████████████████████████████████▍ | 1627/1695 [41:01<00:20,  3.35it/s]"
     ]
    },
    {
     "name": "stdout",
     "output_type": "stream",
     "text": [
      "5iPrsVf5EXBeoiSAC6zn2xBvLTfqFHUUqUesWyWSFvOWi-dADI388fp2xgEQiQsnCgjnb4zNLXxjSg\n"
     ]
    },
    {
     "name": "stderr",
     "output_type": "stream",
     "text": [
      "\r",
      " 96%|█████████████████████████████████████▍ | 1628/1695 [41:01<00:19,  3.48it/s]"
     ]
    },
    {
     "name": "stdout",
     "output_type": "stream",
     "text": [
      "My1SfL3e9FukN46k61m57m7WoEtxiTGMjEazRniyCqiAfHCoYPaFR_AA3-iw0s7CdBXRCiIdvfdbyw\n"
     ]
    },
    {
     "name": "stderr",
     "output_type": "stream",
     "text": [
      "\r",
      " 96%|█████████████████████████████████████▍ | 1629/1695 [41:01<00:18,  3.61it/s]"
     ]
    },
    {
     "name": "stdout",
     "output_type": "stream",
     "text": [
      "xvuq-42B9a5eGuHwidW6pTg_ZUvON_LbBvxl41CloPteiMVQG6NA0bWayA_ysTb15KkTr6Ex5dtqMw\n"
     ]
    },
    {
     "name": "stderr",
     "output_type": "stream",
     "text": [
      "\r",
      " 96%|█████████████████████████████████████▌ | 1630/1695 [41:01<00:18,  3.58it/s]"
     ]
    },
    {
     "name": "stdout",
     "output_type": "stream",
     "text": [
      "OXYmVnU7grwdAHIR86uVTl8BKEhU7WU3TB09br7aUeGlpf0f9e0P3DBkiwZYYLRMyeeMjKhQ-7Ab4g\n"
     ]
    },
    {
     "name": "stderr",
     "output_type": "stream",
     "text": [
      "\r",
      " 96%|█████████████████████████████████████▌ | 1631/1695 [41:02<00:19,  3.26it/s]"
     ]
    },
    {
     "name": "stdout",
     "output_type": "stream",
     "text": [
      "cMbILf6f2R_D0VL-NnHpIECt_SdqXH3UQAheayo_cX_k_Rui2J7W1wB07GqwCd6NS5ugLJ69WstFag\n"
     ]
    },
    {
     "name": "stderr",
     "output_type": "stream",
     "text": [
      "\r",
      " 96%|█████████████████████████████████████▌ | 1632/1695 [41:02<00:18,  3.39it/s]"
     ]
    },
    {
     "name": "stdout",
     "output_type": "stream",
     "text": [
      "-oN1LKvhlEjioKuyQgtUjpOrFOtBfARawecyaTeXNgwJ8bQPtuXBhl_3-YXFxamhxWU5YlkQiRhRFw\n"
     ]
    },
    {
     "name": "stderr",
     "output_type": "stream",
     "text": [
      "\r",
      " 96%|█████████████████████████████████████▌ | 1633/1695 [41:02<00:17,  3.55it/s]"
     ]
    },
    {
     "name": "stdout",
     "output_type": "stream",
     "text": [
      "1bNzbVZ5d_aeL7gk834_MI-j74bn6DsKQdxe541wCSlw9rT6_SEKma2t-1u6ltD0lCJmVzHzPqT5zw\n"
     ]
    },
    {
     "name": "stderr",
     "output_type": "stream",
     "text": [
      "\r",
      " 96%|█████████████████████████████████████▌ | 1634/1695 [41:03<00:17,  3.41it/s]"
     ]
    },
    {
     "name": "stdout",
     "output_type": "stream",
     "text": [
      "xC5Yxte-4BhSOT2Lkmc7OwZJVZvAVu_Ar_7oPSk9rBLXBnl2GrI-Tdi-cBgdlZMhKwdz-Qhe7BFcug\n"
     ]
    },
    {
     "name": "stderr",
     "output_type": "stream",
     "text": [
      "\r",
      " 96%|█████████████████████████████████████▌ | 1635/1695 [41:03<00:16,  3.55it/s]"
     ]
    },
    {
     "name": "stdout",
     "output_type": "stream",
     "text": [
      "Qbah3fUi0X_RMbwUeK2eivbwHyO0TiEsdEqAGMeR1b2Hli_1x-eg2H9gYkvA0nx6KlObKEdYm8suag\n"
     ]
    },
    {
     "name": "stderr",
     "output_type": "stream",
     "text": [
      "\r",
      " 97%|█████████████████████████████████████▋ | 1636/1695 [41:03<00:18,  3.21it/s]"
     ]
    },
    {
     "name": "stdout",
     "output_type": "stream",
     "text": [
      "Li5ySbAitcX_q6603B_rX54jXBOjrAc50ixoW3wmB6d2tEnAKvSFvqEw7KM0cKQVc_k0afIP7QsGFw\n"
     ]
    },
    {
     "name": "stderr",
     "output_type": "stream",
     "text": [
      "\r",
      " 97%|█████████████████████████████████████▋ | 1637/1695 [41:04<00:19,  2.90it/s]"
     ]
    },
    {
     "name": "stdout",
     "output_type": "stream",
     "text": [
      "jXADz8S7jCY_0Yp2dslELY7H0rQbGx1CKbkl5uUWTmAjKDUkwzjI-m0m2tMCoo46D5SMYRFUvGHhDw\n"
     ]
    },
    {
     "name": "stderr",
     "output_type": "stream",
     "text": [
      "\r",
      " 97%|█████████████████████████████████████▋ | 1638/1695 [41:04<00:18,  3.14it/s]"
     ]
    },
    {
     "name": "stdout",
     "output_type": "stream",
     "text": [
      "lQGNohuLApVidEFAR6vtCY6SIycBT9WRuhcjM7r3L3_3W97qM9OVGBnH275T8Wzi9VkGbeyMw9VAzQ\n"
     ]
    },
    {
     "name": "stderr",
     "output_type": "stream",
     "text": [
      "\r",
      " 97%|█████████████████████████████████████▋ | 1639/1695 [41:04<00:16,  3.33it/s]"
     ]
    },
    {
     "name": "stdout",
     "output_type": "stream",
     "text": [
      "Y7Gdze7ZBffdVRYXQpGsyznTXFG7Ox_dGFDvzeE8ivqhvWZHY7bTmFYsiScg9D6J-HewvCM2UD2iYA\n"
     ]
    },
    {
     "name": "stderr",
     "output_type": "stream",
     "text": [
      "\r",
      " 97%|█████████████████████████████████████▋ | 1640/1695 [41:05<00:18,  2.97it/s]"
     ]
    },
    {
     "name": "stdout",
     "output_type": "stream",
     "text": [
      "ep7qOUvJddh9GXkOuxdbxAG4qSBkjwx5lr4c-qrEi3L37eOk6M_iAXM1eHMxyjKbnFMpn8PK8RELug\n"
     ]
    },
    {
     "name": "stderr",
     "output_type": "stream",
     "text": [
      "\r",
      " 97%|█████████████████████████████████████▊ | 1641/1695 [41:05<00:19,  2.75it/s]"
     ]
    },
    {
     "name": "stdout",
     "output_type": "stream",
     "text": [
      "qqQjKXWseru2SocTntoq0lbGSL0KPO53uurYpbFrb7a_CIehQC5WDy6JsCjI83iQCSodqu6KFJtIZA\n"
     ]
    },
    {
     "name": "stderr",
     "output_type": "stream",
     "text": [
      "\r",
      " 97%|█████████████████████████████████████▊ | 1642/1695 [41:05<00:17,  3.06it/s]"
     ]
    },
    {
     "name": "stdout",
     "output_type": "stream",
     "text": [
      "DHjnXIdzYmgIY5_b5BoIeepI_fGYIj-avHWH0SxB0buPcJvskqnsljkiNvzGkMcwn69zUSBt1B0F4Q\n"
     ]
    },
    {
     "name": "stderr",
     "output_type": "stream",
     "text": [
      "\r",
      " 97%|█████████████████████████████████████▊ | 1643/1695 [41:06<00:17,  2.94it/s]"
     ]
    },
    {
     "name": "stdout",
     "output_type": "stream",
     "text": [
      "Ben565iIQODOYQ5UJiToczpc_88pENyMyeos3dVXM--lY7vYTPUWW7f1KNFhQeR0qNDvq9iQUeYTNg\n"
     ]
    },
    {
     "name": "stderr",
     "output_type": "stream",
     "text": [
      "\r",
      " 97%|█████████████████████████████████████▊ | 1644/1695 [41:06<00:17,  2.88it/s]"
     ]
    },
    {
     "name": "stdout",
     "output_type": "stream",
     "text": [
      "md6Tark3BYWST7Kdl-YKPpSOF1oVGY3Ko6qUWL34w5YCXuXpSDD7sm4DSN9EH7bW6CqLuGK-VFR-Ug\n"
     ]
    },
    {
     "name": "stderr",
     "output_type": "stream",
     "text": [
      "\r",
      " 97%|█████████████████████████████████████▊ | 1645/1695 [41:06<00:15,  3.17it/s]"
     ]
    },
    {
     "name": "stdout",
     "output_type": "stream",
     "text": [
      "ntgVF1Y16z59yQlB2YtYvOFuCvIA25BKcFhKGCePU902THcMXnEhYGU6sqsK3zrEtklm4h-U8knzAw\n"
     ]
    },
    {
     "name": "stderr",
     "output_type": "stream",
     "text": [
      "\r",
      " 97%|█████████████████████████████████████▊ | 1646/1695 [41:07<00:16,  3.03it/s]"
     ]
    },
    {
     "name": "stdout",
     "output_type": "stream",
     "text": [
      "RVpMncrnG5jCnPpDpxicY0eui7pU4dLg8RO4TYHyy6uZeLF1ajmQs12Ifgn7i3B2QNH9e1zZ7gds2Q\n"
     ]
    },
    {
     "name": "stderr",
     "output_type": "stream",
     "text": [
      "\r",
      " 97%|█████████████████████████████████████▉ | 1647/1695 [41:07<00:18,  2.54it/s]"
     ]
    },
    {
     "name": "stdout",
     "output_type": "stream",
     "text": [
      "hYAsob1bEFYlscO7fYf9-TRJA2Zr7nClUS96allegcZcJYOHhZSP8ug6EW_XQFi_sP82uex0do124w\n"
     ]
    },
    {
     "name": "stderr",
     "output_type": "stream",
     "text": [
      "\r",
      " 97%|█████████████████████████████████████▉ | 1648/1695 [41:07<00:16,  2.81it/s]"
     ]
    },
    {
     "name": "stdout",
     "output_type": "stream",
     "text": [
      "TYv2qhE0XU7RdtSHroQbktqmElH68SNenBpuLklluq2px-tdy7ZnNRyqAmdzoIYab_NpyROKzP2Slg\n"
     ]
    },
    {
     "name": "stderr",
     "output_type": "stream",
     "text": [
      "\r",
      " 97%|█████████████████████████████████████▉ | 1649/1695 [41:08<00:14,  3.08it/s]"
     ]
    },
    {
     "name": "stdout",
     "output_type": "stream",
     "text": [
      "zIdd5fMhhvFHqUxi5hp2qPwVbr6mO4KOL-CeDCtYrsW6U2QvVpunfsxshuB8wkL1mqlH3QOwtKWqyQ\n"
     ]
    },
    {
     "name": "stderr",
     "output_type": "stream",
     "text": [
      "\r",
      " 97%|█████████████████████████████████████▉ | 1650/1695 [41:08<00:15,  2.83it/s]"
     ]
    },
    {
     "name": "stdout",
     "output_type": "stream",
     "text": [
      "Op4mzpbMwmbzewK4DjX8eyup7OKwoNs0nJVWgiGpMxRS_FHRUO2gR7ojxT1UrID6eZoVq67_Fr-vtw\n"
     ]
    },
    {
     "name": "stderr",
     "output_type": "stream",
     "text": [
      "\r",
      " 97%|█████████████████████████████████████▉ | 1651/1695 [41:08<00:14,  3.08it/s]"
     ]
    },
    {
     "name": "stdout",
     "output_type": "stream",
     "text": [
      "oaooSF1UVJ7HQoztAeYfpeDARyWUgND_0aCK_nfgw85VNwFOnoAV8e0vg6LC34PbtA5S-uofzuCLtg\n"
     ]
    },
    {
     "name": "stderr",
     "output_type": "stream",
     "text": [
      "\r",
      " 97%|██████████████████████████████████████ | 1652/1695 [41:09<00:13,  3.28it/s]"
     ]
    },
    {
     "name": "stdout",
     "output_type": "stream",
     "text": [
      "AwX5bQLubPTA4PrZFHBCtTP4023AIvdo2qsJjpb6wTWZ1uOUhOlJ8G6dEFTogEwnNva-6g-a1nQKbw\n"
     ]
    },
    {
     "name": "stderr",
     "output_type": "stream",
     "text": [
      "\r",
      " 98%|██████████████████████████████████████ | 1653/1695 [41:09<00:13,  3.16it/s]"
     ]
    },
    {
     "name": "stdout",
     "output_type": "stream",
     "text": [
      "-sTgBxJa8WQfHK6xwXP8Ngx7RomnjVtCdYdNQy0MuNlO2Z8FnTUkzsuDFluZ4JOeVzknLbcrJCTz9Q\n"
     ]
    },
    {
     "name": "stderr",
     "output_type": "stream",
     "text": [
      "\r",
      " 98%|██████████████████████████████████████ | 1654/1695 [41:09<00:12,  3.28it/s]"
     ]
    },
    {
     "name": "stdout",
     "output_type": "stream",
     "text": [
      "H2Ndkr4MU90qUWdRH8QAZZS1eqC94LHeaEZO5WyW0vdn96HEaGkRNQgcGVyKyk0pj5d4fKtBjURKbQ\n"
     ]
    },
    {
     "name": "stderr",
     "output_type": "stream",
     "text": [
      "\r",
      " 98%|██████████████████████████████████████ | 1655/1695 [41:09<00:12,  3.25it/s]"
     ]
    },
    {
     "name": "stdout",
     "output_type": "stream",
     "text": [
      "5TmKjoTDjDHAKP_TV-L1biQTywQAKFZHED_vMoO3GDgmSzZZ1XkiiwzWgjz-rpHQXwo-hCC6eqyOqQ\n"
     ]
    },
    {
     "name": "stderr",
     "output_type": "stream",
     "text": [
      "\r",
      " 98%|██████████████████████████████████████ | 1656/1695 [41:10<00:11,  3.25it/s]"
     ]
    },
    {
     "name": "stdout",
     "output_type": "stream",
     "text": [
      "o8z-lATUBMZhmW4a8-4Crivv54LvDLWbFnx6uBpsMR_nkLyZy5AMVQ2fPYcdgfXRFFtXTiPa0C_Phg\n"
     ]
    },
    {
     "name": "stderr",
     "output_type": "stream",
     "text": [
      "\r",
      " 98%|██████████████████████████████████████▏| 1657/1695 [41:10<00:11,  3.31it/s]"
     ]
    },
    {
     "name": "stdout",
     "output_type": "stream",
     "text": [
      "n06cDkMhl7fDtdAsVk0ZV7pB5tMYW2ADHg9OlK-YW_kaqa8p-oDqPF2op51UZRI7OiG28cKKAYuzWw\n"
     ]
    },
    {
     "name": "stderr",
     "output_type": "stream",
     "text": [
      "\r",
      " 98%|██████████████████████████████████████▏| 1658/1695 [41:10<00:10,  3.50it/s]"
     ]
    },
    {
     "name": "stdout",
     "output_type": "stream",
     "text": [
      "E_QQ8L6MfHGAInP6nw5QfRicDs-D2W4qDfpT1_CFs1LmBIo0ofWof4Khfmtd4ZZmA-FZqV9eoRzDGw\n"
     ]
    },
    {
     "name": "stderr",
     "output_type": "stream",
     "text": [
      "\r",
      " 98%|██████████████████████████████████████▏| 1659/1695 [41:11<00:09,  3.63it/s]"
     ]
    },
    {
     "name": "stdout",
     "output_type": "stream",
     "text": [
      "mnVn6QHvkW90pxlo-wO467y_S8uvXZOnWX-YhRz3kEV1z9tEbNksdhfp-faK57Mi6-XvlBgVQViMPQ\n"
     ]
    },
    {
     "name": "stderr",
     "output_type": "stream",
     "text": [
      "\r",
      " 98%|██████████████████████████████████████▏| 1660/1695 [41:11<00:09,  3.59it/s]"
     ]
    },
    {
     "name": "stdout",
     "output_type": "stream",
     "text": [
      "uNJUobfoVyHdh5XFm88M01Q4YZ8GozHqAaoq-CoEF1Aic9WgcpSEXvnor85x1g2fRgkHfAPWU6rI6w\n"
     ]
    },
    {
     "name": "stderr",
     "output_type": "stream",
     "text": [
      "\r",
      " 98%|██████████████████████████████████████▏| 1661/1695 [41:11<00:09,  3.73it/s]"
     ]
    },
    {
     "name": "stdout",
     "output_type": "stream",
     "text": [
      "-m0N9FphpLbSvdwyDvbUzgbYug3xtCO7VWO8zENq6OisWx9tFds-Ig5ElhOZFUEluLXPRkZF0xXN8A\n"
     ]
    },
    {
     "name": "stderr",
     "output_type": "stream",
     "text": [
      "\r",
      " 98%|██████████████████████████████████████▏| 1662/1695 [41:11<00:09,  3.61it/s]"
     ]
    },
    {
     "name": "stdout",
     "output_type": "stream",
     "text": [
      "ggvDPKR33oj4Nbe1hAgXmzk9F8lOf5dhiH_s3LbueaOgkyo40EEaEhx-H4j3qz6SQu0xytCSEl2ILA\n"
     ]
    },
    {
     "name": "stderr",
     "output_type": "stream",
     "text": [
      "\r",
      " 98%|██████████████████████████████████████▎| 1663/1695 [41:12<00:08,  3.75it/s]"
     ]
    },
    {
     "name": "stdout",
     "output_type": "stream",
     "text": [
      "4s-qo21QRcPEDHuoPNH0I6KBIi9Ag1ZXWTKMn_2DBXCHnBNvlqTu8yzZLEZcPbRaKnWOee0Yddl9iw\n"
     ]
    },
    {
     "name": "stderr",
     "output_type": "stream",
     "text": [
      "\r",
      " 98%|██████████████████████████████████████▎| 1664/1695 [41:12<00:08,  3.83it/s]"
     ]
    },
    {
     "name": "stdout",
     "output_type": "stream",
     "text": [
      "Q6c2dSVL3b27e4qY2ykCm20Z_CWFA1s9jfmYe1qhQtIugROl4zPmvq2qdloP-57hQ5s_gzViuu4sQA\n"
     ]
    },
    {
     "name": "stderr",
     "output_type": "stream",
     "text": [
      "\r",
      " 98%|██████████████████████████████████████▎| 1665/1695 [41:12<00:07,  3.84it/s]"
     ]
    },
    {
     "name": "stdout",
     "output_type": "stream",
     "text": [
      "B21rVHodKHZIcrfwvyV-ub1_n53N29sOpQHxdVvKxFIi18YlfT8vLuOI6-6AuMCbCKcBdiq40sv1wA\n"
     ]
    },
    {
     "name": "stderr",
     "output_type": "stream",
     "text": [
      "\r",
      " 98%|██████████████████████████████████████▎| 1666/1695 [41:12<00:07,  3.87it/s]"
     ]
    },
    {
     "name": "stdout",
     "output_type": "stream",
     "text": [
      "pthZ-z0rvC72mjLah_Kp-6jgMrLRwlGC3sbmKMC_S7zyQredUED8uoOZeD5lUSztV75yPxzww9Cltw\n"
     ]
    },
    {
     "name": "stderr",
     "output_type": "stream",
     "text": [
      "\r",
      " 98%|██████████████████████████████████████▎| 1667/1695 [41:13<00:07,  3.87it/s]"
     ]
    },
    {
     "name": "stdout",
     "output_type": "stream",
     "text": [
      "cbHO5BBMi19ebDndiyA5XKEZZwIx5Yy7FpTQKbOGzdSS4zRx1qvrGEry1LqZs6R6ajaBJMjc_Uq7Rw\n"
     ]
    },
    {
     "name": "stderr",
     "output_type": "stream",
     "text": [
      "\r",
      " 98%|██████████████████████████████████████▍| 1668/1695 [41:13<00:06,  3.90it/s]"
     ]
    },
    {
     "name": "stdout",
     "output_type": "stream",
     "text": [
      "FrYcXKcC2PBsFzF7N2PdPQjUl-trErp4lJ-yavi1PSADaq3R4jnDLcR4ciOW8MRYX6tJuBqH_colUw\n"
     ]
    },
    {
     "name": "stderr",
     "output_type": "stream",
     "text": [
      "\r",
      " 98%|██████████████████████████████████████▍| 1669/1695 [41:14<00:10,  2.54it/s]"
     ]
    },
    {
     "name": "stdout",
     "output_type": "stream",
     "text": [
      "t1VBeRSHkU5LT9QShkvdmK1wa5z_spZBJ7u6ArY59-VeiLc_JSVjS_Qr5wF1t8ZLdJXnq7gnTYdzhw\n"
     ]
    },
    {
     "name": "stderr",
     "output_type": "stream",
     "text": [
      "\r",
      " 99%|██████████████████████████████████████▍| 1670/1695 [41:14<00:08,  2.79it/s]"
     ]
    },
    {
     "name": "stdout",
     "output_type": "stream",
     "text": [
      "PcJypcGSfviqq7QRn9MV1kYZ_Z2E0EbSQRUVJO3i7KfT52pG_L0z2JQciFBTfOWgfgmu_ogSbYAlpQ\n"
     ]
    },
    {
     "name": "stderr",
     "output_type": "stream",
     "text": [
      "\r",
      " 99%|██████████████████████████████████████▍| 1671/1695 [41:14<00:08,  2.89it/s]"
     ]
    },
    {
     "name": "stdout",
     "output_type": "stream",
     "text": [
      "UfrEuQw6apkxTcYHngx3SQRnDye7Aq40bvR5nG6VuX8AHcK9abkjcSgahX_Hw0zppxHrqTSLibF1lA\n"
     ]
    },
    {
     "name": "stderr",
     "output_type": "stream",
     "text": [
      "\r",
      " 99%|██████████████████████████████████████▍| 1672/1695 [41:14<00:07,  3.18it/s]"
     ]
    },
    {
     "name": "stdout",
     "output_type": "stream",
     "text": [
      "3D3dMrtm6yf5HXE0NK71R3wQ9d5aNUHYfxpwDY-GdO1lUAkJvTgt9Xp4iKh1Nr3PaM6n9x_Snplvbw\n"
     ]
    },
    {
     "name": "stderr",
     "output_type": "stream",
     "text": [
      "\r",
      " 99%|██████████████████████████████████████▍| 1673/1695 [41:15<00:06,  3.36it/s]"
     ]
    },
    {
     "name": "stdout",
     "output_type": "stream",
     "text": [
      "VqIwlkgn2qOzQKY5ToLdX5_4peX1gIrS6TOShkfC16g7Sn0Tx2dzPixeAiEyC5AH3JDrPPXWQfzDtw\n"
     ]
    },
    {
     "name": "stderr",
     "output_type": "stream",
     "text": [
      "\r",
      " 99%|██████████████████████████████████████▌| 1674/1695 [41:15<00:06,  3.41it/s]"
     ]
    },
    {
     "name": "stdout",
     "output_type": "stream",
     "text": [
      "mbMDGVxdnTCsvi85XhwB7n62nS7BNXszEed8j4_Vhnj7nSXJ5F7qjeu8EDjMWwkPikvcOMn90q3Hgg\n"
     ]
    },
    {
     "name": "stderr",
     "output_type": "stream",
     "text": [
      "\r",
      " 99%|██████████████████████████████████████▌| 1675/1695 [41:16<00:08,  2.44it/s]"
     ]
    },
    {
     "name": "stdout",
     "output_type": "stream",
     "text": [
      "J216CjFY5yY1y6wz9j1GNEXqGAFibPd5hZSG8Dj7GI92WNMpeVpy_ME9IionC9WCRLPU_2hfPhh_ng\n"
     ]
    },
    {
     "name": "stderr",
     "output_type": "stream",
     "text": [
      "\r",
      " 99%|██████████████████████████████████████▌| 1676/1695 [41:16<00:06,  2.76it/s]"
     ]
    },
    {
     "name": "stdout",
     "output_type": "stream",
     "text": [
      "fqJPdX1czBpTUwLFzWAYG697VcnCvk7qxmt5w0ZDyZTtpRNIzOoQeWTZvDxuax6woJ6DlwqD-hsSDg\n"
     ]
    },
    {
     "name": "stderr",
     "output_type": "stream",
     "text": [
      "\r",
      " 99%|██████████████████████████████████████▌| 1677/1695 [41:17<00:09,  1.83it/s]"
     ]
    },
    {
     "name": "stdout",
     "output_type": "stream",
     "text": [
      "6V34DC2ZOvSlOfLCEc2b5x40PJLUHt3GVVLX0YjOwWrR0DEM4B3wA6r3bBj-doYbvAYCBtxlbs2-rA\n"
     ]
    },
    {
     "name": "stderr",
     "output_type": "stream",
     "text": [
      "\r",
      " 99%|██████████████████████████████████████▌| 1678/1695 [41:18<00:09,  1.76it/s]"
     ]
    },
    {
     "name": "stdout",
     "output_type": "stream",
     "text": [
      "1At4N9O1SHbfdEGsJgxxMhj8vXX74i28HqpHc7V15Tjo9AbJmAx9BUjwxA0dHPiecha7WcQBGsb5NA\n",
      "api cost full : infinite loop start\n",
      "loop location :  1egusehFuHuRJ81pXVcft-dYzdM34jFGoJjwzm_0qoZSGw\n",
      "try 10 second wait time\n",
      "429\n",
      "try 10 second wait time\n",
      "429\n",
      "try 10 second wait time\n",
      "429\n",
      "try 10 second wait time\n",
      "429\n",
      "try 10 second wait time\n",
      "429\n",
      "try 10 second wait time\n",
      "429\n",
      "try 10 second wait time\n",
      "429\n",
      "try 10 second wait time\n"
     ]
    },
    {
     "name": "stderr",
     "output_type": "stream",
     "text": [
      "\r",
      " 99%|██████████████████████████████████████▋| 1679/1695 [42:44<06:59, 26.20s/it]"
     ]
    },
    {
     "name": "stdout",
     "output_type": "stream",
     "text": [
      "200\n",
      "total wait time :  85.8014829158783\n",
      "recovery api cost\n",
      "t2D9bCupGMA4sFMoFBzrLHeZMMeiGhQM2AREphcc5jBMXoU0IzAe8Vgh7L7tr2BUmMPlS2ln2PQ4vg\n"
     ]
    },
    {
     "name": "stderr",
     "output_type": "stream",
     "text": [
      "\r",
      " 99%|██████████████████████████████████████▋| 1680/1695 [42:44<04:36, 18.43s/it]"
     ]
    },
    {
     "name": "stdout",
     "output_type": "stream",
     "text": [
      "C7u0XJuG-9cCqXqt-z_QgxKAPeirSE9vZAc1Qm7_3LqeuC3JQSnpcnjTHYzsqtMnNDBJJEnterrX5A\n"
     ]
    },
    {
     "name": "stderr",
     "output_type": "stream",
     "text": [
      "\r",
      " 99%|██████████████████████████████████████▋| 1681/1695 [42:45<03:03, 13.13s/it]"
     ]
    },
    {
     "name": "stdout",
     "output_type": "stream",
     "text": [
      "UCloEHytp87P2LBEP6vQFoM8dPkR-UJzRJkclH4meBg2hpOUyr09ugo7lLwnPTfrv7upOZV2W5ytBg\n"
     ]
    },
    {
     "name": "stderr",
     "output_type": "stream",
     "text": [
      "\r",
      " 99%|██████████████████████████████████████▋| 1682/1695 [42:45<02:02,  9.43s/it]"
     ]
    },
    {
     "name": "stdout",
     "output_type": "stream",
     "text": [
      "vMP9QE8Vq5pzAVrPBUmMMM6idpjcFZE4ohpqM_Fm1-XjD2CrKblbmfk5b5qb_EEt7eFvBSM7aI6LWw\n"
     ]
    },
    {
     "name": "stderr",
     "output_type": "stream",
     "text": [
      "\r",
      " 99%|██████████████████████████████████████▋| 1683/1695 [42:46<01:20,  6.67s/it]"
     ]
    },
    {
     "name": "stdout",
     "output_type": "stream",
     "text": [
      "lfyPlwYEKOWKn06tNzO7E-YaTz_-gEnf1sRu_mpOjvxOc-wrg7u99TfyOs0CjvFW15ZZoXY9yFHWHw\n"
     ]
    },
    {
     "name": "stderr",
     "output_type": "stream",
     "text": [
      "\r",
      " 99%|██████████████████████████████████████▋| 1684/1695 [42:47<00:54,  4.97s/it]"
     ]
    },
    {
     "name": "stdout",
     "output_type": "stream",
     "text": [
      "Fc6XldRFfpAZ4PwYPX5U-olVkjL3NJ6goYdX7rnzVEhkZWsQmH_WcUR85wZjbfl2JXU6r25cOaDSUQ\n"
     ]
    },
    {
     "name": "stderr",
     "output_type": "stream",
     "text": [
      "\r",
      " 99%|██████████████████████████████████████▊| 1685/1695 [42:47<00:36,  3.66s/it]"
     ]
    },
    {
     "name": "stdout",
     "output_type": "stream",
     "text": [
      "4ouHrqSwpsPb15FzvnpQERAQxvg9yqjKLxY00CiiBeBK1fU4WypSGA0kv1MQpZHlApZANx_3Momi0A\n"
     ]
    },
    {
     "name": "stderr",
     "output_type": "stream",
     "text": [
      "\r",
      " 99%|██████████████████████████████████████▊| 1686/1695 [42:48<00:23,  2.65s/it]"
     ]
    },
    {
     "name": "stdout",
     "output_type": "stream",
     "text": [
      "eZUhcCcpmh74AiNTISiNFYxLYhwwlb48DEDuYwQYlviiVDdlP7uy0ZoLYjwsEpYhmhBMw215f38oXw\n"
     ]
    },
    {
     "name": "stderr",
     "output_type": "stream",
     "text": [
      "\r",
      "100%|██████████████████████████████████████▊| 1687/1695 [42:48<00:16,  2.01s/it]"
     ]
    },
    {
     "name": "stdout",
     "output_type": "stream",
     "text": [
      "6UDi6a_46GNfs_ZvlrSMZDee83RD5XJkRExgOVaOIuQK2GWcduO16plfQ17LI7o5AVlTWi5SKgryAQ\n"
     ]
    },
    {
     "name": "stderr",
     "output_type": "stream",
     "text": [
      "\r",
      "100%|██████████████████████████████████████▊| 1688/1695 [42:49<00:11,  1.57s/it]"
     ]
    },
    {
     "name": "stdout",
     "output_type": "stream",
     "text": [
      "PqbcE0EpdhJI0kIF2qtLNnbzd8FEjZuT8x0hHvVhMAcyZ85o26BSyx_3T1bTKmafRpG0MicIcQLmHg\n"
     ]
    },
    {
     "name": "stderr",
     "output_type": "stream",
     "text": [
      "\r",
      "100%|██████████████████████████████████████▊| 1689/1695 [42:49<00:07,  1.18s/it]"
     ]
    },
    {
     "name": "stdout",
     "output_type": "stream",
     "text": [
      "LAdF968L3P0IRd3vfdLazlt-Bupbuo7YHA79iRWiYoUzK-VoNVFfBkGqeGzoa_8qj97ZOKZopdOvxQ\n"
     ]
    },
    {
     "name": "stderr",
     "output_type": "stream",
     "text": [
      "\r",
      "100%|██████████████████████████████████████▉| 1690/1695 [42:49<00:04,  1.11it/s]"
     ]
    },
    {
     "name": "stdout",
     "output_type": "stream",
     "text": [
      "mYU7J1S1W0_hXYvuB3vu1UdGDTXBfbfvx3lxoPFtnfM9K11ZUTBCzwqVZWzIBo8acpd8DSdSs8Vh1Q\n"
     ]
    },
    {
     "name": "stderr",
     "output_type": "stream",
     "text": [
      "\r",
      "100%|██████████████████████████████████████▉| 1691/1695 [42:49<00:02,  1.42it/s]"
     ]
    },
    {
     "name": "stdout",
     "output_type": "stream",
     "text": [
      "9tVsUG9jeTwbPzI8E7l1ap6sO5MeRPEHmZ7ge302eQCiPnWExhoEGlEbDnPzrOyO6-rzr0wRO9FbCA\n"
     ]
    },
    {
     "name": "stderr",
     "output_type": "stream",
     "text": [
      "\r",
      "100%|██████████████████████████████████████▉| 1692/1695 [42:50<00:01,  1.63it/s]"
     ]
    },
    {
     "name": "stdout",
     "output_type": "stream",
     "text": [
      "ClKDNJ5luHDhz1UTWYDWePByDdPJQU7cdFmKSWzpqbjHl50Bl_3PWiXskiKO6I8b_s5bZTv8pt_zjA\n"
     ]
    },
    {
     "name": "stderr",
     "output_type": "stream",
     "text": [
      "\r",
      "100%|██████████████████████████████████████▉| 1693/1695 [42:50<00:01,  1.84it/s]"
     ]
    },
    {
     "name": "stdout",
     "output_type": "stream",
     "text": [
      "b1oW0ITSfON2NZ7TjlAilQlmi4oG5W6xjhQm7dWKRI4TuoyGMmrlnWkcth8EXW-cKLdeVd3xu6R2zA\n"
     ]
    },
    {
     "name": "stderr",
     "output_type": "stream",
     "text": [
      "\r",
      "100%|██████████████████████████████████████▉| 1694/1695 [42:51<00:00,  1.97it/s]"
     ]
    },
    {
     "name": "stdout",
     "output_type": "stream",
     "text": [
      "HY77n18GrmNLDH0eGUyIpKSaaTdPQk2seT180TLnQ_DCSqJerolMPPSlXU1CycD9_5p_kqbfEa5Euw\n"
     ]
    },
    {
     "name": "stderr",
     "output_type": "stream",
     "text": [
      "100%|███████████████████████████████████████| 1695/1695 [42:51<00:00,  1.52s/it]"
     ]
    },
    {
     "name": "stdout",
     "output_type": "stream",
     "text": [
      "nVCEEYO2vXMq1OwBVrHBEaF3GXEGjsrXk547LzxBpRcWhmrWyyJ8zi7uPK_PvuJur88M3GIHh_iM6A\n"
     ]
    },
    {
     "name": "stderr",
     "output_type": "stream",
     "text": [
      "\n"
     ]
    }
   ],
   "source": [
    "accountId = {}\n",
    "\n",
    "for i,j in zip(tqdm(summonerId.values()),summonerId.keys()):\n",
    "    url2 = 'https://kr.api.riotgames.com/lol/summoner/v4/summoners/' + i + '?api_key=' + api_key\n",
    "    r = requests.get(url2)\n",
    "    \n",
    "    if r.status_code == 200: # response가 정상이면 바로 맨 밑으로 이동하여 정상적으로 코드 실행\n",
    "        pass\n",
    "    \n",
    "    elif r.status_code == 429:\n",
    "        print('api cost full : infinite loop start')\n",
    "        print('loop location : ',i)\n",
    "        start_time = time.time()\n",
    "        \n",
    "        while True: # 429error가 끝날 때까지 무한 루프\n",
    "            if r.status_code == 429:\n",
    "\n",
    "                print('try 10 second wait time')\n",
    "                time.sleep(10)\n",
    "\n",
    "                r = requests.get(url2)\n",
    "                print(r.status_code)\n",
    "\n",
    "            elif r.status_code == 200: #다시 response 200이면 loop escape\n",
    "                print('total wait time : ', time.time() - start_time)\n",
    "                print('recovery api cost')\n",
    "                break\n",
    "    \n",
    "    r = r.json()['puuid']\n",
    "    print(r)\n",
    "    accountId[j] = r"
   ]
  },
  {
   "cell_type": "code",
   "execution_count": 9,
   "id": "98309488",
   "metadata": {
    "id": "98309488",
    "outputId": "be2ead4b-cf6f-4811-da1c-603667770f5b",
    "scrolled": true
   },
   "outputs": [
    {
     "name": "stderr",
     "output_type": "stream",
     "text": [
      "  3%|█▏                                       | 51/1695 [00:40<22:22,  1.22it/s]"
     ]
    },
    {
     "name": "stdout",
     "output_type": "stream",
     "text": [
      "api cost full : infinite loop start\n",
      "loop location :  cHgDvZAY3P7nsM2SPKn1wGHnmyYC9_LnIbvjmfcIbYOZjx2iG_ifoBCjNSfSQ5RQPUx4CoWgiZk8BQ\n",
      "try 10 second wait time\n",
      "429\n",
      "try 10 second wait time\n",
      "429\n",
      "try 10 second wait time\n",
      "429\n",
      "try 10 second wait time\n",
      "429\n",
      "try 10 second wait time\n",
      "429\n",
      "try 10 second wait time\n",
      "429\n",
      "try 10 second wait time\n",
      "429\n",
      "try 10 second wait time\n",
      "200\n",
      "total wait time :  84.16922497749329\n",
      "recovery api cost\n"
     ]
    },
    {
     "name": "stderr",
     "output_type": "stream",
     "text": [
      "  6%|██▍                                      | 99/1695 [03:02<17:01,  1.56it/s]"
     ]
    },
    {
     "name": "stdout",
     "output_type": "stream",
     "text": [
      "Expecting value: line 1 column 1 (char 0)\n"
     ]
    },
    {
     "name": "stderr",
     "output_type": "stream",
     "text": [
      "  6%|██▍                                     | 103/1695 [03:05<24:50,  1.07it/s]"
     ]
    },
    {
     "name": "stdout",
     "output_type": "stream",
     "text": [
      "0\n",
      "api cost full : infinite loop start\n",
      "loop location :  MfKIrYNjPcU1vY1KBgD46ldDLZ3f4bL2PBaYNVp3Lo-g5QGi0zOsnhoIZJUK99-JuI59i0rlpj8B0A\n",
      "try 10 second wait time\n",
      "429\n",
      "try 10 second wait time\n",
      "429\n",
      "try 10 second wait time\n",
      "429\n",
      "try 10 second wait time\n",
      "429\n",
      "try 10 second wait time\n",
      "429\n",
      "try 10 second wait time\n",
      "200\n",
      "total wait time :  63.42320108413696\n",
      "recovery api cost\n"
     ]
    },
    {
     "name": "stderr",
     "output_type": "stream",
     "text": [
      "  9%|███▌                                    | 153/1695 [05:08<23:40,  1.09it/s]"
     ]
    },
    {
     "name": "stdout",
     "output_type": "stream",
     "text": [
      "api cost full : infinite loop start\n",
      "loop location :  feSBWN5-XY-vLTJDQK7JUhSPl9LLVzlS_-dhFn6ECoJHEECmCbpN1GsHrf5fY-NZ7TF8k3Ut3enJZA\n",
      "try 10 second wait time\n",
      "429\n",
      "try 10 second wait time\n",
      "429\n",
      "try 10 second wait time\n",
      "429\n",
      "try 10 second wait time\n",
      "429\n",
      "try 10 second wait time\n",
      "429\n",
      "try 10 second wait time\n",
      "200\n",
      "total wait time :  61.93172812461853\n",
      "recovery api cost\n"
     ]
    },
    {
     "name": "stderr",
     "output_type": "stream",
     "text": [
      " 12%|████▊                                   | 203/1695 [07:02<18:52,  1.32it/s]"
     ]
    },
    {
     "name": "stdout",
     "output_type": "stream",
     "text": [
      "api cost full : infinite loop start\n",
      "loop location :  cGLrVcXq7q35iRsN5rxTTuGju0F6ym6v51qaqFXVonIIh0ZS2JeJoBD3_cwYm-EErg6R4R15OeWHXg\n",
      "try 10 second wait time\n",
      "429\n",
      "try 10 second wait time\n",
      "429\n",
      "try 10 second wait time\n",
      "429\n",
      "try 10 second wait time\n",
      "429\n",
      "try 10 second wait time\n",
      "429\n",
      "try 10 second wait time\n",
      "429\n",
      "try 10 second wait time\n",
      "200\n",
      "total wait time :  74.92813491821289\n",
      "recovery api cost\n"
     ]
    },
    {
     "name": "stderr",
     "output_type": "stream",
     "text": [
      " 15%|█████▉                                  | 253/1695 [09:18<29:00,  1.21s/it]"
     ]
    },
    {
     "name": "stdout",
     "output_type": "stream",
     "text": [
      "api cost full : infinite loop start\n",
      "loop location :  ifYaZGRrZUK7I8IqPnkThe0jkP5CD_XGzKSaeY8Gv_vTcaTdFLINQhaQ3kYZGgB9-H9Zj5MFcKA3jg\n",
      "try 10 second wait time\n",
      "429\n",
      "try 10 second wait time\n",
      "429\n",
      "try 10 second wait time\n",
      "429\n",
      "try 10 second wait time\n",
      "429\n",
      "try 10 second wait time\n",
      "429\n",
      "try 10 second wait time\n",
      "200\n",
      "total wait time :  63.19206786155701\n",
      "recovery api cost\n"
     ]
    },
    {
     "name": "stderr",
     "output_type": "stream",
     "text": [
      " 18%|███████▏                                | 303/1695 [11:02<22:19,  1.04it/s]"
     ]
    },
    {
     "name": "stdout",
     "output_type": "stream",
     "text": [
      "api cost full : infinite loop start\n",
      "loop location :  aj_1yJYcCumUp6xZuIGoMfviugSOYm-Nn23UiKBDkl32aJi1EjR6_jtQWlbBdVLLdDcdHi1BYqlXgQ\n",
      "try 10 second wait time\n",
      "429\n",
      "try 10 second wait time\n",
      "429\n",
      "try 10 second wait time\n",
      "429\n",
      "try 10 second wait time\n",
      "429\n",
      "try 10 second wait time\n",
      "429\n",
      "try 10 second wait time\n",
      "429\n",
      "try 10 second wait time\n",
      "429\n",
      "try 10 second wait time\n",
      "200\n",
      "total wait time :  83.3782958984375\n",
      "recovery api cost\n"
     ]
    },
    {
     "name": "stderr",
     "output_type": "stream",
     "text": [
      " 21%|████████▎                               | 353/1695 [13:12<28:23,  1.27s/it]"
     ]
    },
    {
     "name": "stdout",
     "output_type": "stream",
     "text": [
      "api cost full : infinite loop start\n",
      "loop location :  6ArIEplOzYsBjfuR2aDcXURS1G_euzMeZamkGl-_B8n0npxV_VqoE0OpSQZFJBDpxQkq4ZmQ-_pSBA\n",
      "try 10 second wait time\n",
      "429\n",
      "try 10 second wait time\n",
      "429\n",
      "try 10 second wait time\n",
      "429\n",
      "try 10 second wait time\n",
      "429\n",
      "try 10 second wait time\n",
      "429\n",
      "try 10 second wait time\n",
      "429\n",
      "try 10 second wait time\n",
      "200\n",
      "total wait time :  74.5237500667572\n",
      "recovery api cost\n"
     ]
    },
    {
     "name": "stderr",
     "output_type": "stream",
     "text": [
      " 24%|█████████▌                              | 403/1695 [15:15<25:43,  1.19s/it]"
     ]
    },
    {
     "name": "stdout",
     "output_type": "stream",
     "text": [
      "api cost full : infinite loop start\n",
      "loop location :  xOp3JLXbzh-XOL2gPgg-xOJw3i_rlqSwja-ca2RlyzcskseiKhf4hJY0X0Z6e_7wCoeFzqrmmq7tfA\n",
      "try 10 second wait time\n",
      "429\n",
      "try 10 second wait time\n",
      "429\n",
      "try 10 second wait time\n",
      "429\n",
      "try 10 second wait time\n",
      "429\n",
      "try 10 second wait time\n",
      "429\n",
      "try 10 second wait time\n",
      "429\n",
      "try 10 second wait time\n",
      "200\n",
      "total wait time :  74.2514762878418\n",
      "recovery api cost\n"
     ]
    },
    {
     "name": "stderr",
     "output_type": "stream",
     "text": [
      " 27%|██████████▋                             | 453/1695 [17:26<16:54,  1.22it/s]"
     ]
    },
    {
     "name": "stdout",
     "output_type": "stream",
     "text": [
      "api cost full : infinite loop start\n",
      "loop location :  3z3icbby3HmFqcA4qaVYbM73Ar_YuYbyyGT4iXnuZVIXhV6R8X26IHP0QYiTfWEs_4srScSsuAujrQ\n",
      "try 10 second wait time\n",
      "429\n",
      "try 10 second wait time\n",
      "429\n",
      "try 10 second wait time\n",
      "429\n",
      "try 10 second wait time\n",
      "429\n",
      "try 10 second wait time\n",
      "429\n",
      "try 10 second wait time\n",
      "200\n",
      "total wait time :  65.48921608924866\n",
      "recovery api cost\n"
     ]
    },
    {
     "name": "stderr",
     "output_type": "stream",
     "text": [
      " 30%|███████████▊                            | 503/1695 [19:22<21:50,  1.10s/it]"
     ]
    },
    {
     "name": "stdout",
     "output_type": "stream",
     "text": [
      "api cost full : infinite loop start\n",
      "loop location :  WmW8AQdjHePkcBC7xOBThYP-5y3XBdM3JNyw4_XXN3erRuD38HLvYvAbDGBUB_LazhwDRiH6nu1EWw\n",
      "try 10 second wait time\n",
      "429\n",
      "try 10 second wait time\n",
      "429\n",
      "try 10 second wait time\n",
      "429\n",
      "try 10 second wait time\n",
      "429\n",
      "try 10 second wait time\n",
      "429\n",
      "try 10 second wait time\n",
      "429\n",
      "try 10 second wait time\n",
      "200\n",
      "total wait time :  73.44426608085632\n",
      "recovery api cost\n"
     ]
    },
    {
     "name": "stderr",
     "output_type": "stream",
     "text": [
      " 33%|█████████████                           | 553/1695 [22:05<31:27,  1.65s/it]"
     ]
    },
    {
     "name": "stdout",
     "output_type": "stream",
     "text": [
      "api cost full : infinite loop start\n",
      "loop location :  OVpwcZStbpIK0nCEKTVPTDUbgbZTeeG9-FlaSnOuSb8_zLYwJxCul5AUOE_w5eW_HDc9a4_4HGw1Ow\n",
      "try 10 second wait time\n",
      "429\n",
      "try 10 second wait time\n",
      "429\n",
      "try 10 second wait time\n",
      "200\n",
      "total wait time :  32.27298378944397\n",
      "recovery api cost\n"
     ]
    },
    {
     "name": "stderr",
     "output_type": "stream",
     "text": [
      " 36%|██████████████▏                         | 603/1695 [23:26<18:22,  1.01s/it]"
     ]
    },
    {
     "name": "stdout",
     "output_type": "stream",
     "text": [
      "api cost full : infinite loop start\n",
      "loop location :  OuEwh-svuSC6r1U7ctBLcZBngUAz_K3NQqaG0wcLtbwIDMaLlh2NQwJoADjmiZFrL4d-4xHZEAPfeA\n",
      "try 10 second wait time\n",
      "429\n",
      "try 10 second wait time\n",
      "429\n",
      "try 10 second wait time\n",
      "429\n",
      "try 10 second wait time\n",
      "429\n",
      "try 10 second wait time\n",
      "429\n",
      "try 10 second wait time\n",
      "429\n",
      "try 10 second wait time\n",
      "200\n",
      "total wait time :  73.23089623451233\n",
      "recovery api cost\n"
     ]
    },
    {
     "name": "stderr",
     "output_type": "stream",
     "text": [
      " 39%|███████████████▍                        | 653/1695 [25:42<18:22,  1.06s/it]"
     ]
    },
    {
     "name": "stdout",
     "output_type": "stream",
     "text": [
      "api cost full : infinite loop start\n",
      "loop location :  MoJIeyz4mvOyeMlANQf-5bLa5X2PzmK92hhCcrQ_YRpZHSbmV5Kp5KpOwnZuDwuKU2iEsl4UeMRM0g\n",
      "try 10 second wait time\n",
      "429\n",
      "try 10 second wait time\n",
      "429\n",
      "try 10 second wait time\n",
      "429\n",
      "try 10 second wait time\n",
      "429\n",
      "try 10 second wait time\n",
      "429\n",
      "try 10 second wait time\n",
      "200\n",
      "total wait time :  63.614476919174194\n",
      "recovery api cost\n"
     ]
    },
    {
     "name": "stderr",
     "output_type": "stream",
     "text": [
      " 41%|████████████████▌                       | 703/1695 [27:32<11:30,  1.44it/s]"
     ]
    },
    {
     "name": "stdout",
     "output_type": "stream",
     "text": [
      "api cost full : infinite loop start\n",
      "loop location :  Ygj39RmfodF877kocRGAO9RcgHUUhXLkGzORGtD11v6PRiAZljHzKfmHiSQMTQJ5dkgaiug71bXehA\n",
      "try 10 second wait time\n",
      "429\n",
      "try 10 second wait time\n",
      "429\n",
      "try 10 second wait time\n",
      "429\n",
      "try 10 second wait time\n",
      "429\n",
      "try 10 second wait time\n",
      "429\n",
      "try 10 second wait time\n",
      "429\n",
      "try 10 second wait time\n",
      "200\n",
      "total wait time :  75.51949095726013\n",
      "recovery api cost\n"
     ]
    },
    {
     "name": "stderr",
     "output_type": "stream",
     "text": [
      " 44%|█████████████████▊                      | 753/1695 [30:00<18:24,  1.17s/it]"
     ]
    },
    {
     "name": "stdout",
     "output_type": "stream",
     "text": [
      "api cost full : infinite loop start\n",
      "loop location :  fFflB4VFApu98RAjoOtwV3gJQHeIw6FArhnqqa_Xiw5fzg13rj9x3zv1AQHF7sOUV6wQEWz3oa-Ugw\n",
      "try 10 second wait time\n",
      "429\n",
      "try 10 second wait time\n",
      "429\n",
      "try 10 second wait time\n",
      "429\n",
      "try 10 second wait time\n",
      "429\n",
      "try 10 second wait time\n",
      "200\n",
      "total wait time :  56.98094916343689\n",
      "recovery api cost\n"
     ]
    },
    {
     "name": "stderr",
     "output_type": "stream",
     "text": [
      " 46%|██████████████████▍                     | 781/1695 [31:27<17:33,  1.15s/it]"
     ]
    },
    {
     "name": "stdout",
     "output_type": "stream",
     "text": [
      "Expecting value: line 1 column 1 (char 0)\n"
     ]
    },
    {
     "name": "stderr",
     "output_type": "stream",
     "text": [
      " 47%|██████████████████▉                     | 804/1695 [31:58<26:49,  1.81s/it]"
     ]
    },
    {
     "name": "stdout",
     "output_type": "stream",
     "text": [
      "0\n",
      "api cost full : infinite loop start\n",
      "loop location :  AaXifJ2Mi7EDrduh3ZKkAP5pEKVp6RVjVzXDXUjJF_VtpF87ZBK3ur9dpCKeKEKZRoPDAmq5iM7x0A\n",
      "try 10 second wait time\n",
      "429\n",
      "try 10 second wait time\n",
      "429\n",
      "try 10 second wait time\n",
      "429\n",
      "try 10 second wait time\n",
      "429\n",
      "try 10 second wait time\n",
      "429\n",
      "try 10 second wait time\n",
      "200\n",
      "total wait time :  64.01669883728027\n",
      "recovery api cost\n"
     ]
    },
    {
     "name": "stderr",
     "output_type": "stream",
     "text": [
      " 50%|████████████████████▏                   | 854/1695 [34:30<29:49,  2.13s/it]"
     ]
    },
    {
     "name": "stdout",
     "output_type": "stream",
     "text": [
      "api cost full : infinite loop start\n",
      "loop location :  NdM-ifX6pV448w-fgqgwPqHB6bxrykHsgHGasoM7xLPUTXoL9sTJGBOpHkpZZM2Li1GsDv5gypVlpg\n",
      "try 10 second wait time\n",
      "429\n",
      "try 10 second wait time\n",
      "429\n",
      "try 10 second wait time\n",
      "200\n",
      "total wait time :  32.38224196434021\n",
      "recovery api cost\n"
     ]
    },
    {
     "name": "stderr",
     "output_type": "stream",
     "text": [
      " 53%|█████████████████████▎                  | 904/1695 [37:02<34:47,  2.64s/it]"
     ]
    },
    {
     "name": "stdout",
     "output_type": "stream",
     "text": [
      "api cost full : infinite loop start\n",
      "loop location :  -rdEdfanCu2xWH472jAJ9MInPFNr_fb72nRhRfXvFa7uVLX51SMl-GplrJy9JYjytyPwJev3UQ9yQw\n",
      "try 10 second wait time\n",
      "200\n",
      "total wait time :  11.679906129837036\n",
      "recovery api cost\n"
     ]
    },
    {
     "name": "stderr",
     "output_type": "stream",
     "text": [
      " 59%|███████████████████████                | 1004/1695 [41:03<28:05,  2.44s/it]"
     ]
    },
    {
     "name": "stdout",
     "output_type": "stream",
     "text": [
      "0\n",
      "api cost full : infinite loop start\n",
      "loop location :  skBQpNHhSRy5vjVDnHbb-HU77bDfh8ojadrtVSOXncprFf8ahK3_W2J7Qhya2AOCyK1W7DbmRQcv0w\n",
      "try 10 second wait time\n",
      "200\n",
      "total wait time :  11.361643075942993\n",
      "recovery api cost\n"
     ]
    },
    {
     "name": "stderr",
     "output_type": "stream",
     "text": [
      " 62%|████████████████████████▎              | 1054/1695 [42:38<08:53,  1.20it/s]"
     ]
    },
    {
     "name": "stdout",
     "output_type": "stream",
     "text": [
      "api cost full : infinite loop start\n",
      "loop location :  5cCPFNYw1xLNoRsgtooHRMqe7xC5JuDstphdjLGlGO3MlnBk9a9fY4hrGscB5Szhg80WW22yHflYlA\n",
      "try 10 second wait time\n",
      "429\n",
      "try 10 second wait time\n",
      "429\n",
      "try 10 second wait time\n",
      "429\n",
      "try 10 second wait time\n",
      "200\n",
      "total wait time :  41.14160990715027\n",
      "recovery api cost\n"
     ]
    },
    {
     "name": "stderr",
     "output_type": "stream",
     "text": [
      " 65%|█████████████████████████▎             | 1101/1695 [44:33<19:10,  1.94s/it]"
     ]
    },
    {
     "name": "stdout",
     "output_type": "stream",
     "text": [
      "Expecting value: line 1 column 1 (char 0)\n"
     ]
    },
    {
     "name": "stderr",
     "output_type": "stream",
     "text": [
      " 65%|█████████████████████████▍             | 1105/1695 [44:43<19:58,  2.03s/it]"
     ]
    },
    {
     "name": "stdout",
     "output_type": "stream",
     "text": [
      "0\n",
      "api cost full : infinite loop start\n",
      "loop location :  0wm669vMjGVAejeoMzmXXPFmNOEmx0dNucRoSHTuU3gNcfJ400yZn1fwJ5ajEPVAHCuPKfR4Sb_cbA\n",
      "try 10 second wait time\n",
      "429\n",
      "try 10 second wait time\n",
      "429\n",
      "try 10 second wait time\n",
      "429\n",
      "try 10 second wait time\n",
      "200\n",
      "total wait time :  43.2200562953949\n",
      "recovery api cost\n"
     ]
    },
    {
     "name": "stderr",
     "output_type": "stream",
     "text": [
      " 68%|██████████████████████████▌            | 1155/1695 [46:51<18:10,  2.02s/it]"
     ]
    },
    {
     "name": "stdout",
     "output_type": "stream",
     "text": [
      "api cost full : infinite loop start\n",
      "loop location :  8GBRv1QPPlUtZDGzvLOlDfpquP8IVRGAIbXJ1Nvm_M9MMoIz7QY8TkrBX-hXvgWcqthH9PJ5P1z_Sg\n",
      "try 10 second wait time\n",
      "429\n",
      "try 10 second wait time\n",
      "429\n",
      "try 10 second wait time\n",
      "429\n",
      "try 10 second wait time\n",
      "200\n",
      "total wait time :  43.23113489151001\n",
      "recovery api cost\n"
     ]
    },
    {
     "name": "stderr",
     "output_type": "stream",
     "text": [
      " 71%|███████████████████████████▋           | 1205/1695 [48:56<17:02,  2.09s/it]"
     ]
    },
    {
     "name": "stdout",
     "output_type": "stream",
     "text": [
      "api cost full : infinite loop start\n",
      "loop location :  WPZSPeHgaiOOUlBMstNHOHe-qhQNzq4XLD5DLCOssuy1K0iX5elbfsgoFmvmdug2EZFmo2npDI6g2g\n",
      "try 10 second wait time\n",
      "429\n",
      "try 10 second wait time\n",
      "429\n",
      "try 10 second wait time\n",
      "429\n",
      "try 10 second wait time\n",
      "200\n",
      "total wait time :  43.99400973320007\n",
      "recovery api cost\n"
     ]
    },
    {
     "name": "stderr",
     "output_type": "stream",
     "text": [
      " 74%|████████████████████████████▉          | 1255/1695 [51:11<09:38,  1.31s/it]"
     ]
    },
    {
     "name": "stdout",
     "output_type": "stream",
     "text": [
      "api cost full : infinite loop start\n",
      "loop location :  mp3yjNYJjxsXW9MDTkYWVKl-oH3oWeEzZ-iuXqqq3uRWy3ak6UkiwnqERunIPe-7bxR-XxwrRQAF1w\n",
      "try 10 second wait time\n",
      "429\n",
      "try 10 second wait time\n",
      "429\n",
      "try 10 second wait time\n",
      "200\n",
      "total wait time :  32.593670129776\n",
      "recovery api cost\n"
     ]
    },
    {
     "name": "stderr",
     "output_type": "stream",
     "text": [
      " 77%|██████████████████████████████         | 1305/1695 [53:20<13:00,  2.00s/it]"
     ]
    },
    {
     "name": "stdout",
     "output_type": "stream",
     "text": [
      "api cost full : infinite loop start\n",
      "loop location :  LhXjfImTcN3HZ2bVGJ1ajxbvS5T6j3tXMcNM48m9UWqBQ51VbVIMSADqOka0u--QsLTqD4j0JFWyFQ\n",
      "try 10 second wait time\n",
      "429\n",
      "try 10 second wait time\n",
      "429\n",
      "try 10 second wait time\n",
      "200\n",
      "total wait time :  32.749950885772705\n",
      "recovery api cost\n"
     ]
    },
    {
     "name": "stderr",
     "output_type": "stream",
     "text": [
      " 80%|███████████████████████████████▏       | 1355/1695 [55:11<05:50,  1.03s/it]"
     ]
    },
    {
     "name": "stdout",
     "output_type": "stream",
     "text": [
      "api cost full : infinite loop start\n",
      "loop location :  ap7xAefXXKFSho0P8a7gWfsTaGJGieL0RCwThJ-FZFOE5JM_Gm33SfRaTSpvol5xXXYYq1KO1bYwNA\n",
      "try 10 second wait time\n",
      "429\n",
      "try 10 second wait time\n",
      "429\n",
      "try 10 second wait time\n",
      "429\n",
      "try 10 second wait time\n",
      "200\n",
      "total wait time :  42.64457702636719\n",
      "recovery api cost\n"
     ]
    },
    {
     "name": "stderr",
     "output_type": "stream",
     "text": [
      " 83%|████████████████████████████████▎      | 1405/1695 [57:10<07:31,  1.56s/it]"
     ]
    },
    {
     "name": "stdout",
     "output_type": "stream",
     "text": [
      "api cost full : infinite loop start\n",
      "loop location :  KV7iys-LL3_kUg2Z_DoZaSe3E4rry5vYKjP0le7OchDE_X3tVLXi_usyCGHjtvVzXOimqAtiiIf9DA\n",
      "try 10 second wait time\n",
      "429\n",
      "try 10 second wait time\n",
      "429\n",
      "try 10 second wait time\n",
      "429\n",
      "try 10 second wait time\n",
      "200\n",
      "total wait time :  43.6929669380188\n",
      "recovery api cost\n"
     ]
    },
    {
     "name": "stderr",
     "output_type": "stream",
     "text": [
      " 86%|█████████████████████████████████▍     | 1455/1695 [58:44<04:44,  1.19s/it]"
     ]
    },
    {
     "name": "stdout",
     "output_type": "stream",
     "text": [
      "api cost full : infinite loop start\n",
      "loop location :  kjIU9HwB8ef2tTcFuEcOuV9XDxI-y9C4TkvMLA2_fYeJ80sFxXBazksF0kiuTtYQKtMNIjjFirUR8g\n",
      "try 10 second wait time\n",
      "429\n",
      "try 10 second wait time\n",
      "429\n",
      "try 10 second wait time\n",
      "429\n",
      "try 10 second wait time\n",
      "429\n",
      "try 10 second wait time\n",
      "429\n",
      "try 10 second wait time\n",
      "429\n",
      "try 10 second wait time\n",
      "200\n",
      "total wait time :  75.31243109703064\n",
      "recovery api cost\n"
     ]
    },
    {
     "name": "stderr",
     "output_type": "stream",
     "text": [
      " 89%|████████████████████████████████▊    | 1505/1695 [1:01:07<02:41,  1.17it/s]"
     ]
    },
    {
     "name": "stdout",
     "output_type": "stream",
     "text": [
      "api cost full : infinite loop start\n",
      "loop location :  QWMhxJGmyJ52Qpb_Y6oeK6ChUYqvj_nPT48h06Iq47n51n0jUDhaLHVChzuNz-w122wuSrlJ7IfrHw\n",
      "try 10 second wait time\n",
      "429\n",
      "try 10 second wait time\n",
      "429\n",
      "try 10 second wait time\n",
      "429\n",
      "try 10 second wait time\n",
      "429\n",
      "try 10 second wait time\n",
      "200\n",
      "total wait time :  54.703473806381226\n",
      "recovery api cost\n"
     ]
    },
    {
     "name": "stderr",
     "output_type": "stream",
     "text": [
      " 92%|█████████████████████████████████▉   | 1555/1695 [1:03:38<04:31,  1.94s/it]"
     ]
    },
    {
     "name": "stdout",
     "output_type": "stream",
     "text": [
      "api cost full : infinite loop start\n",
      "loop location :  TApJrPubQGsdzfvAmOECDxH-i7m9NWePk7b9tUzy3-_qW9ktkzqOgkOG-U9PCmmYESgp6skHI1piEA\n",
      "try 10 second wait time\n",
      "429\n",
      "try 10 second wait time\n",
      "429\n",
      "try 10 second wait time\n",
      "200\n",
      "total wait time :  32.27048707008362\n",
      "recovery api cost\n"
     ]
    },
    {
     "name": "stderr",
     "output_type": "stream",
     "text": [
      " 93%|██████████████████████████████████▌  | 1582/1695 [1:04:55<02:34,  1.37s/it]"
     ]
    },
    {
     "name": "stdout",
     "output_type": "stream",
     "text": [
      "Expecting value: line 1 column 1 (char 0)\n"
     ]
    },
    {
     "name": "stderr",
     "output_type": "stream",
     "text": [
      " 95%|███████████████████████████████████  | 1606/1695 [1:05:23<01:53,  1.28s/it]"
     ]
    },
    {
     "name": "stdout",
     "output_type": "stream",
     "text": [
      "api cost full : infinite loop start\n",
      "loop location :  dEkKA3FlBypK6sBnmlGw9VlR3HSXZ42tOtpPIgr9sLqrPuT4-XUnlHtl5t1d77gp2PDUXpl6hkMGWQ\n",
      "try 10 second wait time\n",
      "429\n",
      "try 10 second wait time\n",
      "429\n",
      "try 10 second wait time\n",
      "429\n",
      "try 10 second wait time\n",
      "429\n",
      "try 10 second wait time\n",
      "200\n",
      "total wait time :  53.39974808692932\n",
      "recovery api cost\n"
     ]
    },
    {
     "name": "stderr",
     "output_type": "stream",
     "text": [
      " 98%|████████████████████████████████████▏| 1656/1695 [1:07:32<00:52,  1.34s/it]"
     ]
    },
    {
     "name": "stdout",
     "output_type": "stream",
     "text": [
      "api cost full : infinite loop start\n",
      "loop location :  n06cDkMhl7fDtdAsVk0ZV7pB5tMYW2ADHg9OlK-YW_kaqa8p-oDqPF2op51UZRI7OiG28cKKAYuzWw\n",
      "try 10 second wait time\n",
      "429\n",
      "try 10 second wait time\n",
      "429\n",
      "try 10 second wait time\n",
      "429\n",
      "try 10 second wait time\n",
      "429\n",
      "try 10 second wait time\n",
      "200\n",
      "total wait time :  52.00765109062195\n",
      "recovery api cost\n"
     ]
    },
    {
     "name": "stderr",
     "output_type": "stream",
     "text": [
      "100%|█████████████████████████████████████| 1695/1695 [1:09:07<00:00,  2.45s/it]\n"
     ]
    },
    {
     "data": {
      "text/plain": [
       "<function Connection.close>"
      ]
     },
     "execution_count": 9,
     "metadata": {},
     "output_type": "execute_result"
    }
   ],
   "source": [
    "gameId = set() #중복된 게임 제거를 위한 set 함수\n",
    "\n",
    "# url3 = 'https://kr.api.riotgames.com/lol/match/v4/matchlists/by-account/hqMv8JiT0hjKc96iqUz9ucXFPgsENmbI_5OHPmlyVOCZxwE?queue=420&api_key=RGAPI-e456f533-671c-4947-b960-98443960695b'\n",
    "\n",
    "for i in tqdm(accountId.values()):\n",
    "    url3 = 'https://asia.api.riotgames.com/lol/match/v5/matches/by-puuid/'+ i +'/ids?start=1&count=20'\n",
    "    r = requests.get(url3, headers=request_header)\n",
    "    \n",
    "    if r.status_code == 200: # response가 정상이면 바로 맨 밑으로 이동하여 정상적으로 코드 실행\n",
    "        pass\n",
    "    \n",
    "    elif r.status_code == 429:\n",
    "        print('api cost full : infinite loop start')\n",
    "        print('loop location : ',i)\n",
    "        start_time = time.time()\n",
    "        \n",
    "        while True: # 429error가 끝날 때까지 무한 루프\n",
    "            if r.status_code == 429:\n",
    "\n",
    "                print('try 10 second wait time')\n",
    "                time.sleep(10)\n",
    "\n",
    "                r = requests.get(url3, headers=request_header)\n",
    "                print(r.status_code)\n",
    "\n",
    "            elif r.status_code == 200: #다시 response 200이면 loop escape\n",
    "                print('total wait time : ', time.time() - start_time)\n",
    "                print('recovery api cost')\n",
    "                break\n",
    "    try:            \n",
    "        r = requests.get(url3, headers=request_header).json() # 해당 게이머의 최근 20경기\n",
    "        for count in range(len(r)): #gameId에 저장\n",
    "            gameId.add(r[count])\n",
    "    except Exception as e:\n",
    "        print(e)\n",
    "        pass\n",
    "        \n",
    "gameId = list(gameId)\n",
    "\n",
    "import sqlite3\n",
    "\n",
    "conn = sqlite3.connect('loldata.db') # 데이터 베이스 생성\n",
    "cur = conn.cursor()\n",
    "\n",
    "for i in range(len(gameId)):\n",
    "    cur.execute(f\"INSERT OR REPLACE INTO gameID('gameID') VALUES ('{gameId[i]}');\")\n",
    "\n",
    "conn.commit()\n",
    "cur.close\n",
    "conn.close"
   ]
  },
  {
   "cell_type": "code",
   "execution_count": 6,
   "id": "6b42952f",
   "metadata": {},
   "outputs": [
    {
     "data": {
      "text/plain": [
       "{'KR_5712310474',\n",
       " 'KR_5752412219',\n",
       " 'KR_5752781146',\n",
       " 'KR_5724391853',\n",
       " 'KR_5721700429',\n",
       " 'KR_5751625300',\n",
       " 'KR_5728867976',\n",
       " 'KR_5750360083',\n",
       " 'KR_5746963784',\n",
       " 'KR_5745699215',\n",
       " 'KR_5738112172',\n",
       " 'KR_5752027033',\n",
       " 'KR_5752842483',\n",
       " 'KR_5751678497',\n",
       " 'KR_5742092955',\n",
       " 'KR_5724280826',\n",
       " 'KR_5743908629',\n",
       " 'KR_5740580172',\n",
       " 'KR_5745410892',\n",
       " 'KR_5704211456',\n",
       " 'KR_5736917231',\n",
       " 'KR_5745181494',\n",
       " 'KR_5749099441',\n",
       " 'KR_5747924922',\n",
       " 'KR_5744908902',\n",
       " 'KR_5742251858',\n",
       " 'KR_5748489318',\n",
       " 'KR_5749689447',\n",
       " 'KR_5741382586',\n",
       " 'KR_5751287141',\n",
       " 'KR_5752539862',\n",
       " 'KR_5751765238',\n",
       " 'KR_5724442882',\n",
       " 'KR_5751715966',\n",
       " 'KR_5749529631',\n",
       " 'KR_5736956469',\n",
       " 'KR_5744110056',\n",
       " 'KR_5742666941',\n",
       " 'KR_5711095365',\n",
       " 'KR_5746195247',\n",
       " 'KR_5750433835',\n",
       " 'KR_5749860826',\n",
       " 'KR_5739695267',\n",
       " 'KR_5748700484',\n",
       " 'KR_5748779437',\n",
       " 'KR_5747216607',\n",
       " 'KR_5738293066',\n",
       " 'KR_5745780989',\n",
       " 'KR_5744994294',\n",
       " 'KR_5738341267',\n",
       " 'KR_5737683919',\n",
       " 'KR_5746159266',\n",
       " 'KR_5740624019',\n",
       " 'KR_5748466228',\n",
       " 'KR_5743555988',\n",
       " 'KR_5738563134',\n",
       " 'KR_5743273235',\n",
       " 'KR_5741402835',\n",
       " 'KR_5747537896',\n",
       " 'KR_5745547864',\n",
       " 'KR_5733506506',\n",
       " 'KR_5740282891',\n",
       " 'KR_5748515695',\n",
       " 'KR_5748205705',\n",
       " 'KR_5746726464',\n",
       " 'KR_5750071449',\n",
       " 'KR_5749596683',\n",
       " 'KR_5745021943',\n",
       " 'KR_5750331917',\n",
       " 'KR_5740596603',\n",
       " 'KR_5750348487',\n",
       " 'KR_5752751409',\n",
       " 'KR_5749025037',\n",
       " 'KR_5747098274',\n",
       " 'KR_5752163163',\n",
       " 'KR_5753297021',\n",
       " 'KR_5735852748',\n",
       " 'KR_5743973755',\n",
       " 'KR_5750172485',\n",
       " 'KR_5751568251',\n",
       " 'KR_5720967065',\n",
       " 'KR_5752619011',\n",
       " 'KR_5749873931',\n",
       " 'KR_5746131969',\n",
       " 'KR_5735643139',\n",
       " 'KR_5729913281',\n",
       " 'KR_5750074715',\n",
       " 'KR_5746443476',\n",
       " 'KR_5740028288',\n",
       " 'KR_5737069386',\n",
       " 'KR_5747502348',\n",
       " 'KR_5745668774',\n",
       " 'KR_5745075655',\n",
       " 'KR_5748267558',\n",
       " 'KR_5751321677',\n",
       " 'KR_5747107041',\n",
       " 'KR_5716688585',\n",
       " 'KR_5751700731',\n",
       " 'KR_5752685712',\n",
       " 'KR_5748438638',\n",
       " 'KR_5741953166',\n",
       " 'KR_5728255611',\n",
       " 'KR_5713304646',\n",
       " 'KR_5753200467',\n",
       " 'KR_5733929598',\n",
       " 'KR_5726715784',\n",
       " 'KR_5751578837',\n",
       " 'KR_5752964214',\n",
       " 'KR_5749577838',\n",
       " 'KR_5740214537',\n",
       " 'KR_5753029956',\n",
       " 'KR_5751776497',\n",
       " 'KR_5752590925',\n",
       " 'KR_5744280922',\n",
       " 'KR_5750544680',\n",
       " 'KR_5711170745',\n",
       " 'KR_5748611238',\n",
       " 'KR_5752839301',\n",
       " 'KR_5749096445',\n",
       " 'KR_5747928195',\n",
       " 'KR_5736839165',\n",
       " 'KR_5748945863',\n",
       " 'KR_5749115990',\n",
       " 'KR_5737389315',\n",
       " 'KR_5750713738',\n",
       " 'KR_5749153033',\n",
       " 'KR_5730915830',\n",
       " 'KR_5722750751',\n",
       " 'KR_5743103817',\n",
       " 'KR_5748146090',\n",
       " 'KR_5750145488',\n",
       " 'KR_5736413127',\n",
       " 'KR_5738891308',\n",
       " 'KR_5753767578',\n",
       " 'KR_5742313110',\n",
       " 'KR_5747524175',\n",
       " 'KR_5748290709',\n",
       " 'KR_5751408766',\n",
       " 'KR_5725934911',\n",
       " 'KR_5736990677',\n",
       " 'KR_5747213125',\n",
       " 'KR_5735002827',\n",
       " 'KR_5744655146',\n",
       " 'KR_5753609554',\n",
       " 'KR_5733830785',\n",
       " 'KR_5753161389',\n",
       " 'KR_5748445847',\n",
       " 'KR_5746707216',\n",
       " 'KR_5750514241',\n",
       " 'KR_5734293925',\n",
       " 'KR_5741663149',\n",
       " 'KR_5751298531',\n",
       " 'KR_5749847880',\n",
       " 'KR_5738563722',\n",
       " 'KR_5746423265',\n",
       " 'KR_5751243874',\n",
       " 'KR_5750707777',\n",
       " 'KR_5733603659',\n",
       " 'KR_5747493444',\n",
       " 'KR_5746591155',\n",
       " 'KR_5749135605',\n",
       " 'KR_5749911098',\n",
       " 'KR_5751968925',\n",
       " 'KR_5741404393',\n",
       " 'KR_5724236172',\n",
       " 'KR_5751795927',\n",
       " 'KR_5742354625',\n",
       " 'KR_5750524651',\n",
       " 'KR_5753228127',\n",
       " 'KR_5748663392',\n",
       " 'KR_5740791261',\n",
       " 'KR_5734662744',\n",
       " 'KR_5748150244',\n",
       " 'KR_5739171298',\n",
       " 'KR_5745036453',\n",
       " 'KR_5748656709',\n",
       " 'KR_5748432352',\n",
       " 'KR_5748656173',\n",
       " 'KR_5745650652',\n",
       " 'KR_5749519835',\n",
       " 'KR_5726597928',\n",
       " 'KR_5748900624',\n",
       " 'KR_5744372722',\n",
       " 'KR_5743892207',\n",
       " 'KR_5750236858',\n",
       " 'KR_5753226417',\n",
       " 'KR_5750440185',\n",
       " 'KR_5749756139',\n",
       " 'KR_5753293244',\n",
       " 'KR_5751430975',\n",
       " 'KR_5709499943',\n",
       " 'KR_5752367820',\n",
       " 'KR_5744547875',\n",
       " 'KR_5749486527',\n",
       " 'KR_5750398292',\n",
       " 'KR_5738271948',\n",
       " 'KR_5744442152',\n",
       " 'KR_5731778915',\n",
       " 'KR_5751606777',\n",
       " 'KR_5748776283',\n",
       " 'KR_5753342342',\n",
       " 'KR_5748733352',\n",
       " 'KR_5752165528',\n",
       " 'KR_5752648626',\n",
       " 'KR_5749320691',\n",
       " 'KR_5748539052',\n",
       " 'KR_5730584659',\n",
       " 'KR_5745630093',\n",
       " 'KR_5740853952',\n",
       " 'KR_5729208215',\n",
       " 'KR_5746663639',\n",
       " 'KR_5746740553',\n",
       " 'KR_5748565227',\n",
       " 'KR_5752729786',\n",
       " 'KR_5752836263',\n",
       " 'KR_5738297351',\n",
       " 'KR_5748741136',\n",
       " 'KR_5736919627',\n",
       " 'KR_5753454910',\n",
       " 'KR_5741995672',\n",
       " 'KR_5735698079',\n",
       " 'KR_5732900523',\n",
       " 'KR_5735774617',\n",
       " 'KR_5747422320',\n",
       " 'KR_5729988119',\n",
       " 'KR_5748666794',\n",
       " 'KR_5734496639',\n",
       " 'KR_5752996657',\n",
       " 'KR_5751891015',\n",
       " 'KR_5751030433',\n",
       " 'KR_5745290483',\n",
       " 'KR_5740703817',\n",
       " 'KR_5715129622',\n",
       " 'KR_5738758537',\n",
       " 'KR_5725211926',\n",
       " 'KR_5749840969',\n",
       " 'KR_5748809510',\n",
       " 'KR_5721674912',\n",
       " 'KR_5750493453',\n",
       " 'KR_5726039813',\n",
       " 'KR_5735143731',\n",
       " 'KR_5746535101',\n",
       " 'KR_5746669429',\n",
       " 'KR_5735767166',\n",
       " 'KR_5751423068',\n",
       " 'KR_5749093205',\n",
       " 'KR_5748228511',\n",
       " 'KR_5738394391',\n",
       " 'KR_5738393447',\n",
       " 'KR_5750560056',\n",
       " 'KR_5726568027',\n",
       " 'KR_5743632567',\n",
       " 'KR_5744876394',\n",
       " 'KR_5744065160',\n",
       " 'KR_5752643111',\n",
       " 'KR_5732145395',\n",
       " 'KR_5748730054',\n",
       " 'KR_5736446659',\n",
       " 'KR_5748117585',\n",
       " 'KR_5743979761',\n",
       " 'KR_5746396937',\n",
       " 'KR_5746147453',\n",
       " 'KR_5688330211',\n",
       " 'KR_5750237668',\n",
       " 'KR_5745686448',\n",
       " 'KR_5736882019',\n",
       " 'KR_5733438088',\n",
       " 'KR_5722466014',\n",
       " 'KR_5743010328',\n",
       " 'KR_5737694217',\n",
       " 'KR_5735235815',\n",
       " 'KR_5750345988',\n",
       " 'KR_5751835962',\n",
       " 'KR_5751431085',\n",
       " 'KR_5720050397',\n",
       " 'KR_5739854349',\n",
       " 'KR_5714062353',\n",
       " 'KR_5748637946',\n",
       " 'KR_5736875828',\n",
       " 'KR_5748951476',\n",
       " 'KR_5743121245',\n",
       " 'KR_5751910145',\n",
       " 'KR_5752981201',\n",
       " 'KR_5740566490',\n",
       " 'KR_5750975465',\n",
       " 'KR_5753265515',\n",
       " 'KR_5743914745',\n",
       " 'KR_5747365762',\n",
       " 'KR_5750682516',\n",
       " 'KR_5746892064',\n",
       " 'KR_5738852610',\n",
       " 'KR_5746892387',\n",
       " 'KR_5714765145',\n",
       " 'KR_5748868176',\n",
       " 'KR_5751432031',\n",
       " 'KR_5750139682',\n",
       " 'KR_5747131991',\n",
       " 'KR_5724800963',\n",
       " 'KR_5743793979',\n",
       " 'KR_5752985164',\n",
       " 'KR_5744215661',\n",
       " 'KR_5727941338',\n",
       " 'KR_5745641900',\n",
       " 'KR_5737701861',\n",
       " 'KR_5751448435',\n",
       " 'KR_5747027673',\n",
       " 'KR_5742032985',\n",
       " 'KR_5740097936',\n",
       " 'KR_5750304674',\n",
       " 'KR_5721171032',\n",
       " 'KR_5737562608',\n",
       " 'KR_5750060972',\n",
       " 'KR_5741958226',\n",
       " 'KR_5750046868',\n",
       " 'KR_5746831223',\n",
       " 'KR_5743060131',\n",
       " 'KR_5752671307',\n",
       " 'KR_5743050431',\n",
       " 'KR_5746839364',\n",
       " 'KR_5722212603',\n",
       " 'KR_5747576246',\n",
       " 'KR_5752274501',\n",
       " 'KR_5732416310',\n",
       " 'KR_5726642345',\n",
       " 'KR_5745154973',\n",
       " 'KR_5752195905',\n",
       " 'KR_5727381241',\n",
       " 'KR_5750092172',\n",
       " 'KR_5749013123',\n",
       " 'KR_5752740604',\n",
       " 'KR_5750448538',\n",
       " 'KR_5749099213',\n",
       " 'KR_5743508094',\n",
       " 'KR_5713956945',\n",
       " 'KR_5745492420',\n",
       " 'KR_5748971064',\n",
       " 'KR_5735554482',\n",
       " 'KR_5743574866',\n",
       " 'KR_5745785965',\n",
       " 'KR_5750450619',\n",
       " 'KR_5745226312',\n",
       " 'KR_5748185142',\n",
       " 'KR_5748969498',\n",
       " 'KR_5745465105',\n",
       " 'KR_5750089440',\n",
       " 'KR_5750008816',\n",
       " 'KR_5732435098',\n",
       " 'KR_5747554525',\n",
       " 'KR_5742800612',\n",
       " 'KR_5751380095',\n",
       " 'KR_5737236122',\n",
       " 'KR_5750459110',\n",
       " 'KR_5751395237',\n",
       " 'KR_5746485213',\n",
       " 'KR_5727932689',\n",
       " 'KR_5745299444',\n",
       " 'KR_5736416693',\n",
       " 'KR_5733815492',\n",
       " 'KR_5750337171',\n",
       " 'KR_5752866722',\n",
       " 'KR_5738715348',\n",
       " 'KR_5752650929',\n",
       " 'KR_5743614296',\n",
       " 'KR_5753006276',\n",
       " 'KR_5747723486',\n",
       " 'KR_5750272604',\n",
       " 'KR_5749080171',\n",
       " 'KR_5749281187',\n",
       " 'KR_5739754516',\n",
       " 'KR_5745028597',\n",
       " 'KR_5748315076',\n",
       " 'KR_5743318114',\n",
       " 'KR_5746737945',\n",
       " 'KR_5754031404',\n",
       " 'KR_5752798361',\n",
       " 'KR_5752765297',\n",
       " 'KR_5750070143',\n",
       " 'KR_5753277785',\n",
       " 'KR_5745559170',\n",
       " 'KR_5746686347',\n",
       " 'KR_5747006681',\n",
       " 'KR_5722924980',\n",
       " 'KR_5746861846',\n",
       " 'KR_5739272230',\n",
       " 'KR_5749806245',\n",
       " 'KR_5741956711',\n",
       " 'KR_5751316246',\n",
       " 'KR_5749760546',\n",
       " 'KR_5749102067',\n",
       " 'KR_5753153896',\n",
       " 'KR_5752982099',\n",
       " 'KR_5747447978',\n",
       " 'KR_5750361738',\n",
       " 'KR_5750310949',\n",
       " 'KR_5728263148',\n",
       " 'KR_5752886716',\n",
       " 'KR_5733746717',\n",
       " 'KR_5744964667',\n",
       " 'KR_5739380955',\n",
       " 'KR_5750460185',\n",
       " 'KR_5751852203',\n",
       " 'KR_5742858435',\n",
       " 'KR_5747971011',\n",
       " 'KR_5748146574',\n",
       " 'KR_5735458350',\n",
       " 'KR_5732600652',\n",
       " 'KR_5743043210',\n",
       " 'KR_5738083328',\n",
       " 'KR_5724959904',\n",
       " 'KR_5753103202',\n",
       " 'KR_5752880199',\n",
       " 'KR_5740972093',\n",
       " 'KR_5738418339',\n",
       " 'KR_5748376533',\n",
       " 'KR_5720162773',\n",
       " 'KR_5750536874',\n",
       " 'KR_5710779372',\n",
       " 'KR_5741369639',\n",
       " 'KR_5739924224',\n",
       " 'KR_5743349525',\n",
       " 'KR_5723003777',\n",
       " 'KR_5747220519',\n",
       " 'KR_5726549181',\n",
       " 'KR_5753551851',\n",
       " 'KR_5744847883',\n",
       " 'KR_5753211350',\n",
       " 'KR_5749566584',\n",
       " 'KR_5752714722',\n",
       " 'KR_5745426164',\n",
       " 'KR_5747991562',\n",
       " 'KR_5750452544',\n",
       " 'KR_5751972461',\n",
       " 'KR_5747437678',\n",
       " 'KR_5753160358',\n",
       " 'KR_5753209784',\n",
       " 'KR_5743192300',\n",
       " 'KR_5752966932',\n",
       " 'KR_5743408839',\n",
       " 'KR_5753009537',\n",
       " 'KR_5743038568',\n",
       " 'KR_5739276982',\n",
       " 'KR_5747489038',\n",
       " 'KR_5743487042',\n",
       " 'KR_5752571453',\n",
       " 'KR_5749873843',\n",
       " 'KR_5754075929',\n",
       " 'KR_5743759203',\n",
       " 'KR_5687899621',\n",
       " 'KR_5744938753',\n",
       " 'KR_5742277843',\n",
       " 'KR_5745403544',\n",
       " 'KR_5753061806',\n",
       " 'KR_5744368633',\n",
       " 'KR_5714233876',\n",
       " 'KR_5750559841',\n",
       " 'KR_5751946902',\n",
       " 'KR_5750325650',\n",
       " 'KR_5746878033',\n",
       " 'KR_5749810840',\n",
       " 'KR_5740459358',\n",
       " 'KR_5750585025',\n",
       " 'KR_5743869044',\n",
       " 'KR_5737634672',\n",
       " 'KR_5749259071',\n",
       " 'KR_5746940677',\n",
       " 'KR_5753557666',\n",
       " 'KR_5751922383',\n",
       " 'KR_5724852504',\n",
       " 'KR_5739861636',\n",
       " 'KR_5753399699',\n",
       " 'KR_5753875576',\n",
       " 'KR_5746670310',\n",
       " 'KR_5753119604',\n",
       " 'KR_5746997833',\n",
       " 'KR_5745431067',\n",
       " 'KR_5727217040',\n",
       " 'KR_5753864138',\n",
       " 'KR_5747435494',\n",
       " 'KR_5747225397',\n",
       " 'KR_5738921989',\n",
       " 'KR_5748950693',\n",
       " 'KR_5753453072',\n",
       " 'KR_5721968998',\n",
       " 'KR_5744101835',\n",
       " 'KR_5736639526',\n",
       " 'KR_5747360902',\n",
       " 'KR_5748658002',\n",
       " 'KR_5731597562',\n",
       " 'KR_5753800451',\n",
       " 'KR_5751171772',\n",
       " 'KR_5746589346',\n",
       " 'KR_5743438075',\n",
       " 'KR_5743672264',\n",
       " 'KR_5750248065',\n",
       " 'KR_5739311604',\n",
       " 'KR_5746473091',\n",
       " 'KR_5753380231',\n",
       " 'KR_5735682531',\n",
       " 'KR_5734371600',\n",
       " 'KR_5720841807',\n",
       " 'KR_5733624128',\n",
       " 'KR_5745829651',\n",
       " 'KR_5748638448',\n",
       " 'KR_5720828056',\n",
       " 'KR_5746822044',\n",
       " 'KR_5750045383',\n",
       " 'KR_5740501904',\n",
       " 'KR_5748348600',\n",
       " 'KR_5743722477',\n",
       " 'KR_5750525208',\n",
       " 'KR_5750110663',\n",
       " 'KR_5746145744',\n",
       " 'KR_5715288942',\n",
       " 'KR_5750946013',\n",
       " 'KR_5751435930',\n",
       " 'KR_5730328719',\n",
       " 'KR_5743512729',\n",
       " 'KR_5741929287',\n",
       " 'KR_5753127344',\n",
       " 'KR_5753456471',\n",
       " 'KR_5727994721',\n",
       " 'KR_5747421035',\n",
       " 'KR_5738648613',\n",
       " 'KR_5750199472',\n",
       " 'KR_5753236164',\n",
       " 'KR_5742359386',\n",
       " 'KR_5743251416',\n",
       " 'KR_5745660488',\n",
       " 'KR_5751870650',\n",
       " 'KR_5733528711',\n",
       " 'KR_5748014623',\n",
       " 'KR_5744963741',\n",
       " 'KR_5751232528',\n",
       " 'KR_5738903688',\n",
       " 'KR_5753062232',\n",
       " 'KR_5746690728',\n",
       " 'KR_5746670653',\n",
       " 'KR_5728873228',\n",
       " 'KR_5749842043',\n",
       " 'KR_5752637983',\n",
       " 'KR_5748487993',\n",
       " 'KR_5751931042',\n",
       " 'KR_5743425915',\n",
       " 'KR_5750602104',\n",
       " 'KR_5753542346',\n",
       " 'KR_5748748920',\n",
       " 'KR_5748837642',\n",
       " 'KR_5752658840',\n",
       " 'KR_5753866538',\n",
       " 'KR_5751858565',\n",
       " 'KR_5753007006',\n",
       " 'KR_5744947616',\n",
       " 'KR_5717848914',\n",
       " 'KR_5745307077',\n",
       " 'KR_5743205800',\n",
       " 'KR_5740108306',\n",
       " 'KR_5751362700',\n",
       " 'KR_5752973875',\n",
       " 'KR_5752224265',\n",
       " 'KR_5751360033',\n",
       " 'KR_5721963690',\n",
       " 'KR_5734167808',\n",
       " 'KR_5750509233',\n",
       " 'KR_5747385250',\n",
       " 'KR_5750546253',\n",
       " 'KR_5735781164',\n",
       " 'KR_5751747769',\n",
       " 'KR_5744918004',\n",
       " 'KR_5725269300',\n",
       " 'KR_5753078159',\n",
       " 'KR_5751695486',\n",
       " 'KR_5742687908',\n",
       " 'KR_5745243407',\n",
       " 'KR_5752648231',\n",
       " 'KR_5743522124',\n",
       " 'KR_5748809843',\n",
       " 'KR_5748939630',\n",
       " 'KR_5745922661',\n",
       " 'KR_5733577656',\n",
       " 'KR_5748577712',\n",
       " 'KR_5747367561',\n",
       " 'KR_5751266252',\n",
       " 'KR_5747514438',\n",
       " 'KR_5740664992',\n",
       " 'KR_5736423874',\n",
       " 'KR_5744006037',\n",
       " 'KR_5748942538',\n",
       " 'KR_5748413757',\n",
       " 'KR_5745863626',\n",
       " 'KR_5749170395',\n",
       " 'KR_5734339834',\n",
       " 'KR_5752584545',\n",
       " 'KR_5738068358',\n",
       " 'KR_5734527374',\n",
       " 'KR_5712384636',\n",
       " 'KR_5745615995',\n",
       " 'KR_5749812608',\n",
       " 'KR_5750051993',\n",
       " 'KR_5753426757',\n",
       " 'KR_5750032470',\n",
       " 'KR_5739999030',\n",
       " 'KR_5722715701',\n",
       " 'KR_5749095033',\n",
       " 'KR_5752557299',\n",
       " 'KR_5741632277',\n",
       " 'KR_5748465628',\n",
       " 'KR_5735291941',\n",
       " 'KR_5752354882',\n",
       " 'KR_5752894493',\n",
       " 'KR_5752747741',\n",
       " 'KR_5743627610',\n",
       " 'KR_5742456699',\n",
       " 'KR_5749335337',\n",
       " 'KR_5740885329',\n",
       " 'KR_5737282612',\n",
       " 'KR_5724681594',\n",
       " 'KR_5751405300',\n",
       " 'KR_5745910757',\n",
       " 'KR_5743363240',\n",
       " 'KR_5752670599',\n",
       " 'KR_5739242086',\n",
       " 'KR_5717526887',\n",
       " 'KR_5750159339',\n",
       " 'KR_5752440152',\n",
       " 'KR_5748316822',\n",
       " 'KR_5753145091',\n",
       " 'KR_5741395618',\n",
       " 'KR_5748544998',\n",
       " 'KR_5740692216',\n",
       " 'KR_5749083075',\n",
       " 'KR_5750471123',\n",
       " 'KR_5752840119',\n",
       " 'KR_5750328915',\n",
       " 'KR_5723188708',\n",
       " 'KR_5751293062',\n",
       " 'KR_5744958082',\n",
       " 'KR_5748468558',\n",
       " 'KR_5734235844',\n",
       " 'KR_5744001674',\n",
       " 'KR_5746636169',\n",
       " 'KR_5751237738',\n",
       " 'KR_5735221964',\n",
       " 'KR_5730046222',\n",
       " 'KR_5748893255',\n",
       " 'KR_5747387674',\n",
       " 'KR_5744447869',\n",
       " 'KR_5736925629',\n",
       " 'KR_5751711210',\n",
       " 'KR_5751172507',\n",
       " 'KR_5752002989',\n",
       " 'KR_5742524075',\n",
       " 'KR_5752894268',\n",
       " 'KR_5742557205',\n",
       " 'KR_5750344682',\n",
       " 'KR_5734583828',\n",
       " 'KR_5747573527',\n",
       " 'KR_5717374827',\n",
       " 'KR_5748617862',\n",
       " 'KR_5743844397',\n",
       " 'KR_5742040162',\n",
       " 'KR_5750197828',\n",
       " 'KR_5751778572',\n",
       " 'KR_5736239565',\n",
       " 'KR_5745879174',\n",
       " 'KR_5752246618',\n",
       " 'KR_5751237744',\n",
       " 'KR_5749263375',\n",
       " 'KR_5749522677',\n",
       " 'KR_5740937306',\n",
       " 'KR_5753408974',\n",
       " 'KR_5746928660',\n",
       " 'KR_5737879640',\n",
       " 'KR_5743834257',\n",
       " 'KR_5750575840',\n",
       " 'KR_5752734917',\n",
       " 'KR_5730947790',\n",
       " 'KR_5752577223',\n",
       " 'KR_5741800585',\n",
       " 'KR_5749963790',\n",
       " 'KR_5752442473',\n",
       " 'KR_5752746347',\n",
       " 'KR_5724760430',\n",
       " 'KR_5752652672',\n",
       " 'KR_5746944598',\n",
       " 'KR_5714610517',\n",
       " 'KR_5743517287',\n",
       " 'KR_5750351525',\n",
       " 'KR_5744619476',\n",
       " 'KR_5751267601',\n",
       " 'KR_5752015596',\n",
       " 'KR_5747679659',\n",
       " 'KR_5752777393',\n",
       " 'KR_5751399959',\n",
       " 'KR_5753885613',\n",
       " 'KR_5726569434',\n",
       " 'KR_5719600053',\n",
       " 'KR_5742099405',\n",
       " 'KR_5749866287',\n",
       " 'KR_5739703578',\n",
       " 'KR_5735960410',\n",
       " 'KR_5741614701',\n",
       " 'KR_5726503106',\n",
       " 'KR_5746874783',\n",
       " 'KR_5734652905',\n",
       " 'KR_5715449481',\n",
       " 'KR_5748012747',\n",
       " 'KR_5747161459',\n",
       " 'KR_5730979876',\n",
       " 'KR_5750996542',\n",
       " 'KR_5748692009',\n",
       " 'KR_5753293525',\n",
       " 'KR_5726618416',\n",
       " 'KR_5753601659',\n",
       " 'KR_5750314166',\n",
       " 'KR_5740884506',\n",
       " 'KR_5751131784',\n",
       " 'KR_5750537241',\n",
       " 'KR_5744049863',\n",
       " 'KR_5748207176',\n",
       " 'KR_5749093620',\n",
       " 'KR_5751761076',\n",
       " 'KR_5750451269',\n",
       " 'KR_5750219387',\n",
       " 'KR_5750977539',\n",
       " 'KR_5750160374',\n",
       " 'KR_5753971228',\n",
       " 'KR_5752930843',\n",
       " 'KR_5747327139',\n",
       " 'KR_5752136685',\n",
       " 'KR_5734153442',\n",
       " 'KR_5751738451',\n",
       " 'KR_5746577654',\n",
       " 'KR_5748286186',\n",
       " 'KR_5742087941',\n",
       " 'KR_5750298491',\n",
       " 'KR_5723419073',\n",
       " 'KR_5751187155',\n",
       " 'KR_5751915241',\n",
       " 'KR_5733864734',\n",
       " 'KR_5743510455',\n",
       " 'KR_5753604030',\n",
       " 'KR_5751456323',\n",
       " 'KR_5748743613',\n",
       " 'KR_5746386263',\n",
       " 'KR_5728286572',\n",
       " 'KR_5740978549',\n",
       " 'KR_5733783768',\n",
       " 'KR_5731791743',\n",
       " 'KR_5735830830',\n",
       " 'KR_5753152068',\n",
       " 'KR_5752849314',\n",
       " 'KR_5743318762',\n",
       " 'KR_5750307786',\n",
       " 'KR_5747382208',\n",
       " 'KR_5752899476',\n",
       " 'KR_5750338557',\n",
       " 'KR_5748222390',\n",
       " 'KR_5748099077',\n",
       " 'KR_5744410147',\n",
       " 'KR_5728607243',\n",
       " 'KR_5728140763',\n",
       " 'KR_5740459936',\n",
       " 'KR_5748481755',\n",
       " 'KR_5749313682',\n",
       " 'KR_5750607614',\n",
       " 'KR_5737682050',\n",
       " 'KR_5748680186',\n",
       " 'KR_5752696711',\n",
       " 'KR_5753398592',\n",
       " 'KR_5746143579',\n",
       " 'KR_5740711893',\n",
       " 'KR_5746737583',\n",
       " 'KR_5750226892',\n",
       " 'KR_5728651136',\n",
       " 'KR_5752583599',\n",
       " 'KR_5740966371',\n",
       " 'KR_5753254757',\n",
       " 'KR_5749535733',\n",
       " 'KR_5748319355',\n",
       " 'KR_5752131174',\n",
       " 'KR_5744220101',\n",
       " 'KR_5751866005',\n",
       " 'KR_5721875336',\n",
       " 'KR_5750498728',\n",
       " 'KR_5715066975',\n",
       " 'KR_5750371246',\n",
       " 'KR_5743884439',\n",
       " 'KR_5750323123',\n",
       " 'KR_5753585707',\n",
       " 'KR_5748637724',\n",
       " 'KR_5710636052',\n",
       " 'KR_5746711237',\n",
       " 'KR_5752959499',\n",
       " 'KR_5728642171',\n",
       " 'KR_5749712730',\n",
       " 'KR_5746805090',\n",
       " 'KR_5745646876',\n",
       " 'KR_5751894178',\n",
       " 'KR_5745928453',\n",
       " 'KR_5751965600',\n",
       " 'KR_5753091646',\n",
       " 'KR_5740573987',\n",
       " 'KR_5746711715',\n",
       " 'KR_5743474625',\n",
       " 'KR_5745321091',\n",
       " 'KR_5752715048',\n",
       " 'KR_5748635191',\n",
       " 'KR_5748669225',\n",
       " 'KR_5748096969',\n",
       " 'KR_5746501311',\n",
       " 'KR_5742815773',\n",
       " 'KR_5748555339',\n",
       " 'KR_5712430981',\n",
       " 'KR_5748862274',\n",
       " 'KR_5735006618',\n",
       " 'KR_5746164155',\n",
       " 'KR_5748976509',\n",
       " 'KR_5754013594',\n",
       " 'KR_5749288258',\n",
       " 'KR_5747150669',\n",
       " 'KR_5746995533',\n",
       " 'KR_5751915411',\n",
       " 'KR_5748525326',\n",
       " 'KR_5740670995',\n",
       " 'KR_5743624500',\n",
       " 'KR_5744132914',\n",
       " 'KR_5730108387',\n",
       " 'KR_5753398970',\n",
       " 'KR_5746670670',\n",
       " 'KR_5751559372',\n",
       " 'KR_5752695960',\n",
       " 'KR_5750505496',\n",
       " 'KR_5743108004',\n",
       " 'KR_5751985666',\n",
       " 'KR_5750521969',\n",
       " 'KR_5750539325',\n",
       " 'KR_5753037308',\n",
       " 'KR_5742888290',\n",
       " 'KR_5724400440',\n",
       " 'KR_5736512162',\n",
       " 'KR_5742818955',\n",
       " 'KR_5754056644',\n",
       " 'KR_5752681373',\n",
       " 'KR_5724367563',\n",
       " 'KR_5737842487',\n",
       " 'KR_5751236342',\n",
       " 'KR_5752140528',\n",
       " 'KR_5753226084',\n",
       " 'KR_5752827911',\n",
       " 'KR_5752790047',\n",
       " 'KR_5720157047',\n",
       " 'KR_5749088423',\n",
       " 'KR_5737226185',\n",
       " 'KR_5750351126',\n",
       " 'KR_5748114808',\n",
       " 'KR_5748567522',\n",
       " 'KR_5752865556',\n",
       " 'KR_5711557186',\n",
       " 'KR_5747258809',\n",
       " 'KR_5747358803',\n",
       " 'KR_5745307198',\n",
       " 'KR_5749541803',\n",
       " 'KR_5750095391',\n",
       " 'KR_5739200313',\n",
       " 'KR_5745093234',\n",
       " 'KR_5751767789',\n",
       " 'KR_5740192219',\n",
       " 'KR_5735794918',\n",
       " 'KR_5712372964',\n",
       " 'KR_5716795732',\n",
       " 'KR_5749313196',\n",
       " 'KR_5740105560',\n",
       " 'KR_5751547953',\n",
       " 'KR_5748770352',\n",
       " 'KR_5736108136',\n",
       " 'KR_5748290025',\n",
       " 'KR_5744655934',\n",
       " 'KR_5723319929',\n",
       " 'KR_5749477962',\n",
       " 'KR_5747262487',\n",
       " 'KR_5753109469',\n",
       " 'KR_5751621587',\n",
       " 'KR_5750244275',\n",
       " 'KR_5740392365',\n",
       " 'KR_5745698797',\n",
       " 'KR_5752662792',\n",
       " 'KR_5749816203',\n",
       " 'KR_5728749757',\n",
       " 'KR_5748631262',\n",
       " 'KR_5722749757',\n",
       " 'KR_5740457209',\n",
       " 'KR_5751432562',\n",
       " 'KR_5752935960',\n",
       " 'KR_5753359604',\n",
       " 'KR_5748650138',\n",
       " 'KR_5751760102',\n",
       " 'KR_5734680197',\n",
       " 'KR_5748634933',\n",
       " 'KR_5752556316',\n",
       " 'KR_5732874474',\n",
       " 'KR_5751872045',\n",
       " 'KR_5742267495',\n",
       " 'KR_5748923414',\n",
       " 'KR_5746522654',\n",
       " 'KR_5742797612',\n",
       " 'KR_5751440035',\n",
       " 'KR_5727359618',\n",
       " 'KR_5748420108',\n",
       " 'KR_5747261835',\n",
       " 'KR_5745213958',\n",
       " 'KR_5745671898',\n",
       " 'KR_5750597598',\n",
       " 'KR_5750116167',\n",
       " 'KR_5745778512',\n",
       " 'KR_5753165756',\n",
       " 'KR_5735397248',\n",
       " 'KR_5742878952',\n",
       " 'KR_5738865130',\n",
       " 'KR_5751294263',\n",
       " 'KR_5752814177',\n",
       " 'KR_5738987382',\n",
       " 'KR_5689587407',\n",
       " 'KR_5713279685',\n",
       " 'KR_5742676216',\n",
       " 'KR_5747760337',\n",
       " 'KR_5719486196',\n",
       " 'KR_5748741438',\n",
       " 'KR_5750456803',\n",
       " 'KR_5718340221',\n",
       " 'KR_5748405298',\n",
       " 'KR_5743692273',\n",
       " 'KR_5738811718',\n",
       " 'KR_5747158875',\n",
       " 'KR_5744982411',\n",
       " 'KR_5752019347',\n",
       " 'KR_5748607696',\n",
       " 'KR_5752919471',\n",
       " 'KR_5740178897',\n",
       " 'KR_5746648975',\n",
       " 'KR_5709283994',\n",
       " 'KR_5750236180',\n",
       " 'KR_5749725478',\n",
       " 'KR_5752837715',\n",
       " 'KR_5747991999',\n",
       " 'KR_5733875202',\n",
       " 'KR_5738045473',\n",
       " 'KR_5750467752',\n",
       " 'KR_5746832591',\n",
       " 'KR_5750297926',\n",
       " 'KR_5736083747',\n",
       " 'KR_5751418229',\n",
       " 'KR_5743433672',\n",
       " 'KR_5745166632',\n",
       " 'KR_5746356655',\n",
       " 'KR_5749345983',\n",
       " 'KR_5749944680',\n",
       " 'KR_5734390483',\n",
       " 'KR_5745169613',\n",
       " 'KR_5738278277',\n",
       " 'KR_5748665633',\n",
       " 'KR_5749137715',\n",
       " 'KR_5751898700',\n",
       " 'KR_5750316048',\n",
       " 'KR_5753555003',\n",
       " 'KR_5748425569',\n",
       " 'KR_5735607431',\n",
       " 'KR_5750293827',\n",
       " 'KR_5743878555',\n",
       " 'KR_5752742734',\n",
       " 'KR_5747248862',\n",
       " 'KR_5748095812',\n",
       " 'KR_5746810591',\n",
       " 'KR_5751914961',\n",
       " 'KR_5742460861',\n",
       " 'KR_5729435257',\n",
       " 'KR_5743415524',\n",
       " 'KR_5745980641',\n",
       " 'KR_5749284807',\n",
       " 'KR_5746844786',\n",
       " 'KR_5708295686',\n",
       " 'KR_5743730022',\n",
       " 'KR_5749724897',\n",
       " 'KR_5749024953',\n",
       " 'KR_5742824241',\n",
       " 'KR_5724219584',\n",
       " 'KR_5735195409',\n",
       " 'KR_5749284115',\n",
       " 'KR_5753204022',\n",
       " 'KR_5746626173',\n",
       " 'KR_5753553646',\n",
       " 'KR_5746920390',\n",
       " 'KR_5751332094',\n",
       " 'KR_5747154791',\n",
       " 'KR_5750499100',\n",
       " 'KR_5747233120',\n",
       " 'KR_5740468736',\n",
       " 'KR_5748310617',\n",
       " 'KR_5720934402',\n",
       " 'KR_5733803599',\n",
       " 'KR_5752386772',\n",
       " ...}"
      ]
     },
     "execution_count": 6,
     "metadata": {},
     "output_type": "execute_result"
    }
   ],
   "source": [
    "gameId"
   ]
  },
  {
   "cell_type": "code",
   "execution_count": 10,
   "id": "d20993cc",
   "metadata": {},
   "outputs": [
    {
     "data": {
      "text/plain": [
       "<function Connection.close>"
      ]
     },
     "execution_count": 10,
     "metadata": {},
     "output_type": "execute_result"
    }
   ],
   "source": [
    "gameId = list(gameId)\n",
    "\n",
    "import sqlite3\n",
    "\n",
    "conn = sqlite3.connect('loldata.db') # 데이터 베이스 생성\n",
    "cur = conn.cursor()\n",
    "\n",
    "cur.execute(\"DROP TABLE IF EXISTS gameID;\")\n",
    "\n",
    "cur.execute(f\"\"\"CREATE TABLE gameID (\n",
    "                gameId NVARCHAR(160) NOT NULL PRIMARY KEY)\n",
    "                ;\"\"\")               # 챔프 ID와 \n",
    "\n",
    "for i in range(len(gameId)):\n",
    "    cur.execute(f\"INSERT OR REPLACE INTO gameID('gameID') VALUES ('{gameId[i]}');\")\n",
    "\n",
    "conn.commit()\n",
    "cur.close\n",
    "conn.close"
   ]
  },
  {
   "cell_type": "code",
   "execution_count": 13,
   "id": "c528dd2a",
   "metadata": {},
   "outputs": [],
   "source": [
    "gameId_master = pd.DataFrame(columns = ['gameId'])"
   ]
  },
  {
   "cell_type": "code",
   "execution_count": 18,
   "id": "9b7f8277",
   "metadata": {},
   "outputs": [],
   "source": [
    "gameId = list(gameId)\n",
    "for i in range(len(gameId)):\n",
    "    input_data = {'gameId' : gameId[i]}\n",
    "    gameId_master.append(input_data, ignore_index = True)"
   ]
  },
  {
   "cell_type": "code",
   "execution_count": 19,
   "id": "0980ad0c",
   "metadata": {
    "id": "0980ad0c",
    "outputId": "fe95a256-f11b-42a0-b12a-531e130fb5d1",
    "scrolled": false
   },
   "outputs": [],
   "source": [
    "gameId_master.to_csv(\"gameId_challanger.csv\", header=True, index = False)"
   ]
  },
  {
   "cell_type": "code",
   "execution_count": null,
   "id": "fab9530a",
   "metadata": {
    "id": "fab9530a"
   },
   "outputs": [],
   "source": [
    "match_grandmaster = pd.DataFrame(columns = ['teamId','win','firstBlood','firstTower','firstInhibitor','firstBaron','firstDragon','firstRiftHerald','championKills', 'towerKills','inhibitorKills','baronKills','dragonKills','riftHeraldKills','bans','gameId'])"
   ]
  },
  {
   "cell_type": "code",
   "execution_count": null,
   "id": "4593122b",
   "metadata": {
    "id": "4593122b",
    "outputId": "b0f577fc-7a6f-4ebe-ef41-fc0f1981fe30"
   },
   "outputs": [
    {
     "name": "stderr",
     "output_type": "stream",
     "text": [
      "100%|████████████████████████████████████████████████████████████████████████████████████| 6/6 [00:03<00:00,  1.89it/s]\n"
     ]
    }
   ],
   "source": [
    "num = 0\n",
    "\n",
    "for a in tqdm(range(len(gameId))):\n",
    "    for b in range(len(gameId[a])):\n",
    "                \n",
    "        url4 =  'https://asia.api.riotgames.com/lol/match/v5/matches/' + str(gameId[a][b])\n",
    "        r = requests.get(url4,headers = request_header)\n",
    "        \n",
    "                \n",
    "        if r.status_code == 200: # response가 정상이면 바로 맨 밑으로 이동하여 정상적으로 코드 실행\n",
    "            pass\n",
    "\n",
    "        elif r.status_code == 429:\n",
    "            print('api cost full : infinite loop start')\n",
    "            print('loop location : ',i)\n",
    "            start_time = time.time()\n",
    "    \n",
    "            while True: # 429error가 끝날 때까지 무한 루프\n",
    "                if r.status_code == 429:\n",
    "\n",
    "                    print('try 10 second wait time')\n",
    "                    time.sleep(10)\n",
    "\n",
    "                    r = requests.get(url4, headers = request_header)\n",
    "                    print(r.status_code)\n",
    "\n",
    "                elif r.status_code == 200: #다시 response 200이면 loop escape\n",
    "                    print('total wait time : ', time.time() - start_time)\n",
    "                    print('recovery api cost')\n",
    "                    break\n",
    "                    \n",
    "        r = requests.get(url4, headers = request_header).json()          \n",
    "        \n",
    "        try:\n",
    "            if r['info']['gameMode'] == 'CLASSIC':\n",
    "                for i in [0,1]:\n",
    "                    if r['info']['teams'][i]['win'] == False:\n",
    "                            input_data = {\n",
    "                                'teamId': str(r['info']['teams'][i]['teamId']),\n",
    "                                'win':r['info']['teams'][i]['win'],\n",
    "                                'firstBlood':r['info']['teams'][i]['objectives']['champion']['first'],\n",
    "                                'firstTower':r['info']['teams'][i]['objectives']['tower']['first'],\n",
    "                                'firstInhibitor':r['info']['teams'][i]['objectives']['inhibitor']['first'],\n",
    "                                'firstBaron':r['info']['teams'][i]['objectives']['baron']['first'],\n",
    "                                'firstDragon':r['info']['teams'][i]['objectives']['dragon']['first'],\n",
    "                                'firstRiftHerald':r['info']['teams'][i]['objectives']['riftHerald']['first'],\n",
    "                                'championKills' : r['info']['teams'][i]['objectives']['champion']['kills'],\n",
    "                                'towerKills':r['info']['teams'][i]['objectives']['tower']['kills'],\n",
    "                                'inhibitorKills':r['info']['teams'][i]['objectives']['inhibitor']['kills'],\n",
    "                                'baronKills':r['info']['teams'][i]['objectives']['baron']['kills'],\n",
    "                                'dragonKills':r['info']['teams'][i]['objectives']['dragon']['kills'],\n",
    "                                'riftHeraldKills':r['info']['teams'][i]['objectives']['riftHerald']['kills'],\n",
    "                                'bans' :r['info']['teams'][i]['bans'],\n",
    "                                'gameId': gameId[a][b]\n",
    "                            }\n",
    "\n",
    "                            match_grandmaster = match_grandmaster.append(input_data, ignore_index = True)\n",
    "                            \n",
    "                    elif r['info']['teams'][i]['win'] == True:\n",
    "                            input_data = {\n",
    "                                'teamId': str(r['info']['teams'][i]['teamId']),\n",
    "                                'win':r['info']['teams'][i]['win'],\n",
    "                                'firstBlood':r['info']['teams'][i]['objectives']['champion']['first'],\n",
    "                                'firstTower':r['info']['teams'][i]['objectives']['tower']['first'],\n",
    "                                'firstInhibitor':r['info']['teams'][i]['objectives']['inhibitor']['first'],\n",
    "                                'firstBaron':r['info']['teams'][i]['objectives']['baron']['first'],\n",
    "                                'firstDragon':r['info']['teams'][i]['objectives']['dragon']['first'],\n",
    "                                'firstRiftHerald':r['info']['teams'][i]['objectives']['riftHerald']['first'],\n",
    "                                'championKills' : r['info']['teams'][i]['objectives']['champion']['kills'],\n",
    "                                'towerKills':r['info']['teams'][i]['objectives']['tower']['kills'],\n",
    "                                'inhibitorKills':r['info']['teams'][i]['objectives']['inhibitor']['kills'],\n",
    "                                'baronKills':r['info']['teams'][i]['objectives']['baron']['kills'],\n",
    "                                'dragonKills':r['info']['teams'][i]['objectives']['dragon']['kills'],\n",
    "                                'riftHeraldKills':r['info']['teams'][i]['objectives']['riftHerald']['kills'],\n",
    "                                'bans' :r['info']['teams'][i]['bans'],\n",
    "                                'gameId': gameId[a][b]\n",
    "                            }\n",
    "                                \n",
    "\n",
    "                            match_grandmaster = match_grandmaster.append(input_data, ignore_index = True)\n",
    "    \n",
    "        except:\n",
    "            print(\"403 에러.api 만료\")"
   ]
  },
  {
   "cell_type": "code",
   "execution_count": null,
   "id": "0727b303",
   "metadata": {
    "id": "0727b303",
    "outputId": "63506949-04e7-4c8f-d122-69fc35160016"
   },
   "outputs": [
    {
     "data": {
      "text/html": [
       "<div>\n",
       "<style scoped>\n",
       "    .dataframe tbody tr th:only-of-type {\n",
       "        vertical-align: middle;\n",
       "    }\n",
       "\n",
       "    .dataframe tbody tr th {\n",
       "        vertical-align: top;\n",
       "    }\n",
       "\n",
       "    .dataframe thead th {\n",
       "        text-align: right;\n",
       "    }\n",
       "</style>\n",
       "<table border=\"1\" class=\"dataframe\">\n",
       "  <thead>\n",
       "    <tr style=\"text-align: right;\">\n",
       "      <th></th>\n",
       "      <th>teamId</th>\n",
       "      <th>win</th>\n",
       "      <th>firstBlood</th>\n",
       "      <th>firstTower</th>\n",
       "      <th>firstInhibitor</th>\n",
       "      <th>firstBaron</th>\n",
       "      <th>firstDragon</th>\n",
       "      <th>firstRiftHerald</th>\n",
       "      <th>championKills</th>\n",
       "      <th>towerKills</th>\n",
       "      <th>inhibitorKills</th>\n",
       "      <th>baronKills</th>\n",
       "      <th>dragonKills</th>\n",
       "      <th>riftHeraldKills</th>\n",
       "      <th>bans</th>\n",
       "      <th>gameId</th>\n",
       "    </tr>\n",
       "  </thead>\n",
       "  <tbody>\n",
       "    <tr>\n",
       "      <th>0</th>\n",
       "      <td>100</td>\n",
       "      <td>True</td>\n",
       "      <td>False</td>\n",
       "      <td>True</td>\n",
       "      <td>True</td>\n",
       "      <td>False</td>\n",
       "      <td>False</td>\n",
       "      <td>True</td>\n",
       "      <td>40</td>\n",
       "      <td>8</td>\n",
       "      <td>2</td>\n",
       "      <td>1</td>\n",
       "      <td>1</td>\n",
       "      <td>1</td>\n",
       "      <td>[{'championId': 711, 'pickTurn': 1}, {'champio...</td>\n",
       "      <td>KR_5685811134</td>\n",
       "    </tr>\n",
       "    <tr>\n",
       "      <th>1</th>\n",
       "      <td>200</td>\n",
       "      <td>False</td>\n",
       "      <td>True</td>\n",
       "      <td>False</td>\n",
       "      <td>False</td>\n",
       "      <td>True</td>\n",
       "      <td>True</td>\n",
       "      <td>False</td>\n",
       "      <td>42</td>\n",
       "      <td>9</td>\n",
       "      <td>4</td>\n",
       "      <td>2</td>\n",
       "      <td>5</td>\n",
       "      <td>1</td>\n",
       "      <td>[{'championId': -1, 'pickTurn': 6}, {'champion...</td>\n",
       "      <td>KR_5685811134</td>\n",
       "    </tr>\n",
       "    <tr>\n",
       "      <th>2</th>\n",
       "      <td>100</td>\n",
       "      <td>True</td>\n",
       "      <td>True</td>\n",
       "      <td>True</td>\n",
       "      <td>True</td>\n",
       "      <td>True</td>\n",
       "      <td>True</td>\n",
       "      <td>False</td>\n",
       "      <td>28</td>\n",
       "      <td>10</td>\n",
       "      <td>2</td>\n",
       "      <td>1</td>\n",
       "      <td>1</td>\n",
       "      <td>1</td>\n",
       "      <td>[{'championId': 64, 'pickTurn': 1}, {'champion...</td>\n",
       "      <td>KR_5684039329</td>\n",
       "    </tr>\n",
       "    <tr>\n",
       "      <th>3</th>\n",
       "      <td>200</td>\n",
       "      <td>False</td>\n",
       "      <td>False</td>\n",
       "      <td>False</td>\n",
       "      <td>False</td>\n",
       "      <td>False</td>\n",
       "      <td>False</td>\n",
       "      <td>True</td>\n",
       "      <td>16</td>\n",
       "      <td>2</td>\n",
       "      <td>0</td>\n",
       "      <td>0</td>\n",
       "      <td>3</td>\n",
       "      <td>1</td>\n",
       "      <td>[{'championId': 154, 'pickTurn': 6}, {'champio...</td>\n",
       "      <td>KR_5684039329</td>\n",
       "    </tr>\n",
       "    <tr>\n",
       "      <th>4</th>\n",
       "      <td>100</td>\n",
       "      <td>True</td>\n",
       "      <td>True</td>\n",
       "      <td>True</td>\n",
       "      <td>True</td>\n",
       "      <td>False</td>\n",
       "      <td>True</td>\n",
       "      <td>True</td>\n",
       "      <td>29</td>\n",
       "      <td>8</td>\n",
       "      <td>1</td>\n",
       "      <td>0</td>\n",
       "      <td>1</td>\n",
       "      <td>2</td>\n",
       "      <td>[{'championId': 89, 'pickTurn': 1}, {'champion...</td>\n",
       "      <td>KR_5686407086</td>\n",
       "    </tr>\n",
       "    <tr>\n",
       "      <th>5</th>\n",
       "      <td>200</td>\n",
       "      <td>False</td>\n",
       "      <td>False</td>\n",
       "      <td>False</td>\n",
       "      <td>False</td>\n",
       "      <td>False</td>\n",
       "      <td>False</td>\n",
       "      <td>False</td>\n",
       "      <td>19</td>\n",
       "      <td>2</td>\n",
       "      <td>0</td>\n",
       "      <td>0</td>\n",
       "      <td>0</td>\n",
       "      <td>0</td>\n",
       "      <td>[{'championId': 58, 'pickTurn': 6}, {'champion...</td>\n",
       "      <td>KR_5686407086</td>\n",
       "    </tr>\n",
       "    <tr>\n",
       "      <th>6</th>\n",
       "      <td>100</td>\n",
       "      <td>False</td>\n",
       "      <td>False</td>\n",
       "      <td>True</td>\n",
       "      <td>False</td>\n",
       "      <td>False</td>\n",
       "      <td>True</td>\n",
       "      <td>True</td>\n",
       "      <td>36</td>\n",
       "      <td>4</td>\n",
       "      <td>0</td>\n",
       "      <td>0</td>\n",
       "      <td>2</td>\n",
       "      <td>2</td>\n",
       "      <td>[{'championId': 76, 'pickTurn': 1}, {'champion...</td>\n",
       "      <td>KR_5685150228</td>\n",
       "    </tr>\n",
       "    <tr>\n",
       "      <th>7</th>\n",
       "      <td>200</td>\n",
       "      <td>True</td>\n",
       "      <td>True</td>\n",
       "      <td>False</td>\n",
       "      <td>True</td>\n",
       "      <td>True</td>\n",
       "      <td>False</td>\n",
       "      <td>False</td>\n",
       "      <td>34</td>\n",
       "      <td>10</td>\n",
       "      <td>2</td>\n",
       "      <td>1</td>\n",
       "      <td>2</td>\n",
       "      <td>0</td>\n",
       "      <td>[{'championId': 51, 'pickTurn': 6}, {'champion...</td>\n",
       "      <td>KR_5685150228</td>\n",
       "    </tr>\n",
       "    <tr>\n",
       "      <th>8</th>\n",
       "      <td>100</td>\n",
       "      <td>True</td>\n",
       "      <td>False</td>\n",
       "      <td>True</td>\n",
       "      <td>True</td>\n",
       "      <td>False</td>\n",
       "      <td>True</td>\n",
       "      <td>True</td>\n",
       "      <td>35</td>\n",
       "      <td>6</td>\n",
       "      <td>1</td>\n",
       "      <td>0</td>\n",
       "      <td>2</td>\n",
       "      <td>2</td>\n",
       "      <td>[{'championId': -1, 'pickTurn': 1}, {'champion...</td>\n",
       "      <td>KR_5685771909</td>\n",
       "    </tr>\n",
       "    <tr>\n",
       "      <th>9</th>\n",
       "      <td>200</td>\n",
       "      <td>False</td>\n",
       "      <td>True</td>\n",
       "      <td>False</td>\n",
       "      <td>False</td>\n",
       "      <td>False</td>\n",
       "      <td>False</td>\n",
       "      <td>False</td>\n",
       "      <td>15</td>\n",
       "      <td>0</td>\n",
       "      <td>0</td>\n",
       "      <td>0</td>\n",
       "      <td>0</td>\n",
       "      <td>0</td>\n",
       "      <td>[{'championId': 104, 'pickTurn': 6}, {'champio...</td>\n",
       "      <td>KR_5685771909</td>\n",
       "    </tr>\n",
       "  </tbody>\n",
       "</table>\n",
       "</div>"
      ],
      "text/plain": [
       "  teamId    win firstBlood firstTower firstInhibitor firstBaron firstDragon  \\\n",
       "0    100   True      False       True           True      False       False   \n",
       "1    200  False       True      False          False       True        True   \n",
       "2    100   True       True       True           True       True        True   \n",
       "3    200  False      False      False          False      False       False   \n",
       "4    100   True       True       True           True      False        True   \n",
       "5    200  False      False      False          False      False       False   \n",
       "6    100  False      False       True          False      False        True   \n",
       "7    200   True       True      False           True       True       False   \n",
       "8    100   True      False       True           True      False        True   \n",
       "9    200  False       True      False          False      False       False   \n",
       "\n",
       "  firstRiftHerald championKills towerKills inhibitorKills baronKills  \\\n",
       "0            True            40          8              2          1   \n",
       "1           False            42          9              4          2   \n",
       "2           False            28         10              2          1   \n",
       "3            True            16          2              0          0   \n",
       "4            True            29          8              1          0   \n",
       "5           False            19          2              0          0   \n",
       "6            True            36          4              0          0   \n",
       "7           False            34         10              2          1   \n",
       "8            True            35          6              1          0   \n",
       "9           False            15          0              0          0   \n",
       "\n",
       "  dragonKills riftHeraldKills  \\\n",
       "0           1               1   \n",
       "1           5               1   \n",
       "2           1               1   \n",
       "3           3               1   \n",
       "4           1               2   \n",
       "5           0               0   \n",
       "6           2               2   \n",
       "7           2               0   \n",
       "8           2               2   \n",
       "9           0               0   \n",
       "\n",
       "                                                bans         gameId  \n",
       "0  [{'championId': 711, 'pickTurn': 1}, {'champio...  KR_5685811134  \n",
       "1  [{'championId': -1, 'pickTurn': 6}, {'champion...  KR_5685811134  \n",
       "2  [{'championId': 64, 'pickTurn': 1}, {'champion...  KR_5684039329  \n",
       "3  [{'championId': 154, 'pickTurn': 6}, {'champio...  KR_5684039329  \n",
       "4  [{'championId': 89, 'pickTurn': 1}, {'champion...  KR_5686407086  \n",
       "5  [{'championId': 58, 'pickTurn': 6}, {'champion...  KR_5686407086  \n",
       "6  [{'championId': 76, 'pickTurn': 1}, {'champion...  KR_5685150228  \n",
       "7  [{'championId': 51, 'pickTurn': 6}, {'champion...  KR_5685150228  \n",
       "8  [{'championId': -1, 'pickTurn': 1}, {'champion...  KR_5685771909  \n",
       "9  [{'championId': 104, 'pickTurn': 6}, {'champio...  KR_5685771909  "
      ]
     },
     "execution_count": 11,
     "metadata": {},
     "output_type": "execute_result"
    }
   ],
   "source": [
    "match_grandmaster"
   ]
  },
  {
   "cell_type": "code",
   "execution_count": null,
   "id": "77d5838a",
   "metadata": {
    "id": "77d5838a"
   },
   "outputs": [],
   "source": [
    "match_grandmaster.to_csv(\"match_challanger.csv\", header=True, index = False)"
   ]
  },
  {
   "cell_type": "code",
   "execution_count": null,
   "id": "6c0dbffb",
   "metadata": {
    "id": "6c0dbffb"
   },
   "outputs": [],
   "source": []
  }
 ],
 "metadata": {
  "colab": {
   "name": "GrandmasterData.ipynb",
   "provenance": []
  },
  "kernelspec": {
   "display_name": "Python 3 (ipykernel)",
   "language": "python",
   "name": "python3"
  },
  "language_info": {
   "codemirror_mode": {
    "name": "ipython",
    "version": 3
   },
   "file_extension": ".py",
   "mimetype": "text/x-python",
   "name": "python",
   "nbconvert_exporter": "python",
   "pygments_lexer": "ipython3",
   "version": "3.9.7"
  }
 },
 "nbformat": 4,
 "nbformat_minor": 5
}
