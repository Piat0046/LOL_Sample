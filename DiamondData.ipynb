{
 "cells": [
  {
   "cell_type": "code",
   "execution_count": 25,
   "id": "c51135e1",
   "metadata": {},
   "outputs": [
    {
     "name": "stdout",
     "output_type": "stream",
     "text": [
      "3189\n",
      "{'정글 위한 탑': 'tScNizmY5ZJ7UQZVVGK4A-JjIRgCRinT_s8lUdNeJudZLKC8', 'Marchen': 'mCU089i3-RuwBa5C2Nm4vmaM-m_Um70Z-3et81ltAel_F3M', 'Y0UTUBE Axiyo': '1KufPq-m4b9GY8U55MqwojXWR9MzFgNKPd_6-TTKFMsAvxGt', 'BT Dosa ': '-etOmhMB6Wd5lxMKiTmp2ZG3JHVGS8VCS6ZArlfT4etGqMD7', 'haoye': 'gpEPgHYfI1Oj2twM2lpqha5mhohAk_zw6Ytn_lxqfsU3DK4n', '강다영': 'sFcm94qnvMag_JzrWk11O_qMC2_LqOMVbitPiLA6n5DDGU6p', '안즈2': 'qJc2lmcYRBR1oMKppntAKgEAq_6b2wtcBQKDp8sz1wut0Hog', '소년가장 원딜': 'ccUw5edj8UnPD1LvdJBeXakmQPRgcSHwyDZBw1HKf7jYPcIt', '정흠이': 'ROYUC54UgG9Uho8EzjNzvB6oA99_WJ0eTzS8QACwEuft6VdM', 'T1 R ADC': '1kmLC-oLp6TmoVeRQ129YvRlTQq9_HRJjBPXD-ak-bXTdTxc', 'Pier0': 'pQ7pDjXwmbIej6nNNtCxFzHyTV_8fVFcHicnKUKMG31I1PKO', '우기영': 'VJA6I1sihTSEU3q23dlSXfW0pionm_zumMhrXDUmiEfRHkBL', '그브 고정밴': 'CDIRST9rPa0krNn3AGZIlWo-sxaAYTemLmSRVpb6mNne4eFp', 'LSB TA K ON': 'p5WskTxTrlNFbjV_5vCRGUZW1FrTilJtljXm4wpExJGRvPU0', 'the Boxer1': 'PFVOziZyv3sjh6RKcjaIxz--YfLcXGISKroyUKngLR-8hJ8n', 'Afreeca 말레맨': 'z_exra3-jPOB4xdT7mLzM7oxJRdO0fbYTIX0wM_HypwgKgwW', '달콤한걸루': '8fhc0W5xfQc5fb0q72N7vQZSskqyf3DMVTjhwRoUSGgxC4r0', '1년은730일': 'SzFg_Ng535cOyVh3hd0yNl2HEC7ai4Oqk3UFuI_1zwwawVYn', '도륜이': 'IIqZcP64J46pYaElVMjFYM0nYVl53CsK9rtIRCQMwZ4YoEY', 'love beijixing': 'djpwlVB_9PocM8CLQ4RI7Xlo_FZQhFQMczxF1WeSeFXSNgDA', 'LimGeunWoo': 'VmXtWOqeal3wgEjBGYCRsiAIY90SUe9OnIFA75yPq09Jxm2W', 'whwrkxsp1': 'YCk5uNW7z-h629P5nWOqJU4Pmq9aY82eFfvGZpDdRQjtCLvt', 'beleubantoseu': '9bUyaKXMU8qWBOdPM9QFxPUlWEn6Q4bifqpXtoGVL_gbMmCE', '댕실댕실이': '84qt2F_7Aiu0IXR8kLkaMCC5sQWAD2rICCAD9KmnISUbrd0', '끝난 이야기': 'L8u_JJe7WMNEGrkmDfY-OR2LEsgBfpiwM7cLJxOA2YXabD0', 'lSFP A': 'f2kN3l6D54lyAQGYtqqRQWYCluSxEx_C4pl6Ihu5hSxWODI', 'YouTube변세윤': 'DIZLBa9RyyJkM8cz2nl1lLeEG9O4-eEMN1guRfBcSI0jS1Y', '처피뱅 카와이': '51g7RsrhqRktd-5wHrBqjjuJmPefuWJglYCzaud8M6iYHq4', 'srysrythxthx': 'UaMsGy-qVd_UeOVM-PUo75cqGivV2COV-dfRKlKYbJOrNA', '렉사O1': 'FTnNh3s7lx2Uoxk1Mq_TX3u_I7NQEIApe1xKvAnIESkWDnQ', '룰루고기': 'byDbDSkySKAWEn2tBPY7O93aVi8fFixcrfotROajjIMAFpA', '달인 카직스': 'KnNQCR2OnlKEF6J9GE1Y1Oj5XidTyq4rw593LMRBgzcvZ7o', '저는울고잇슴니다': 'hGG4Rcj9Iy7QwF8vFHmnMn-aMpwU0N2X-8SkpU8LFgKmMTQ', '구자룡': 'ILJaEssragvi4jTZdQg-rKrSvr-nwREWnHa7_75cNZn8mw', 'Youtube Hongcono': 'hywBF52zpSkYMB1YCjkSGeTS-_E9LcnIo3UD0dlGfqhN3UI', 'baiye': 'W-bqhS5fJro5rChYL-EbxD1e8U7CUd89GS8i6FBRZO0fFp4', 'fxxk trash ad': '6rgHDZc8xpgc4MuSYe1cuHB5KjL5ee-snLulXUEeVRCCaeg', 'B1gFour': 'GKGFB7U58_YcvFfgvpslS5mi-jUSqf9PvzeSt-kHuwtbEQ', '지연누나 이쁘다': 'kNAS30uK5hkHlOpVWkRL7tBwVnGcqIjJH_-XFeUsNCLwCM0', 'cvMex': '6HNzcxzT0shztvheJMJzOoJOQVT6YLuPOg7NbuY3XIc6No0', 'asdqwenmfkr': 'Acj8OU88rLHlInbd-nTYTpRoEs7MntQxSQ_GNKmf-mExwuI', 'Mocha': 'PKxeJSFUgi6G40sHXaK1M6m9vLECImHHWxMn-JboxWVYRgA', '해강고 원딜': 'yooCMQiXz-Mz5BMcb7Oy2HLvx8NAWMQXxWC43sgAvBlfZ0c', '쥐린내': 'Sm_E-BrVWD8ffQpZlqzRVQyqxfofrTD49GINRM0GSSJzXS4', '원딜은 기둥이다': 'EJfCHFMZzfYz4ONif8WLfi7DBxpC8YKEdfilRRJa3rZ8lE0', '뽀식이는 씩씩해': '7s9AYzS1jBVVUVZzDsXvZVCyHgMQFqaArDv033apXg3mPQ', 'Myeong Ju': 'd6rRonXp-QSes7vmugDD1uIgaKk4payHBBFk_Llnt7JYYA', 'kfo': 'Y9xhDtWkG7EROOzCIU9eN4omM63f2XylN3vmz80FnYj32fA', 'XuanFengzz': 'U68HM6qpKZhRSz2UYMvV5z6zbxIyrqk5UwtRL-icv-GLu4E', 'supsup11': 'xut8Sb77YqkuJDy0duTrheLbfr8SK0gyp7zinzncO9G2RG4', '빡 표': 'Po9-zK0FkoCv7gUzP_tsPC-oOrGYoo3AJsNzCOGVd8CJvZA', '렐복치': '8hKQE5mcedllwr-lZMbII8FtvUnpCBl-9Ju5nqEld4PfvII', '블루 먹는 벨코즈': '-ibhzUC80-Wo67DGA6mS0R7_Lg8Waarr87_H_XsVTLv5FAg', 'FA TaNa': 'lPqBHGKEB5_gGCcyWRqXrnZXyD9UFOTtq2YLHB1EJU9eusU', '크리페': 'fx_iqfEVy_Fp6TWiaK_-UcehOjH5o3luq6HTUbjRHTeX9KM', '커피물조절장인': 'rji9TzvOmnhQXZI--u4FpegpVt0JIdhueTVaLsN3vsFDWPs', 'vlrhsgody': 'LUmrln4TLnao3rsGmc6lSGs8jNMWRfV3Sgasq9IxKjvC-F8', '붕어빵호떡볶이': 'qNRQ9BNwmMxdsIRsSkccoUK1Fn5BSSzTcB4LROduWA5Xp2k', '몽키 D 짱구': 'rzK-sGOScRQqXROkKQqLy1IoYWmGw9yWRahDA9cMupyMwg', 'huya jincanyi': '0YwfLrVGn4TVKn3VIG-bO3b5lzy_PtFaET8E6bNFRgtCAg', 'SADJLFKSDJFDLSK': 'MDjb4Zpqzueio9iTnHOUx2mF_eFxn8RnTLz301MkCuHsPhI', 'Psy Shy Cho': 'HbJnawTEKu7J2chbHM0LgIHL_W7dyTZrvpCsNrFrtov_o5U', 'ILLAKlNG': '7YkThQABsaeHh97UH0YHe4m-N5J_d8VsT6CAxAwnnTppYXDzhGR6cmSrIw', 'Iove poppy': 'GHOgw93Mwq3l6uF9lYg9YmHXTw882KwGRZ_6O_sNjx5PVoEkXSPX3SllZQ', '대박슨발록': 'DjBtagsVz28VmhS6nW97yQK7ZLxt8vmIToRmlBH5ptAfffa6i2PYT4AfbQ', 'Hanasanaide': 'DGc7N1W-deDz_gJESpCDRmbeZGrjkcZX57jOcoF0WMcyA7tkw1ubhFovFw', '89235697812': '_QLGQ4iJZygmfc5KpCMxSwkSCKFWL5IddarNKMlIdFqeDmhxTozP-aL5_Q', '저아니 우결': 'AzTycuQamVzJMRXt_2V9WWzQxOwZAcqXFKXh9QRHwJzaJJgyS7eKQB6EsQ', '죠랄죠랄죠랄해': 'y33bp4aLsvN3paOAU7SyJgT-LFzBqGh7U1MvMCpzbrR6iscxxof2wyXQZA', 'sbsbsbsbsbsbsb': 'FzlDO43e26IotuQW20UpvOhKOGzsHN3NBdSMMc7tW1iv60Ygaoi-AvFJVg', 'BJ스푼': 'iJw8XQyAd8q0B_ZLZuhSBw-GDICUR6MEiRm47wbBioST1x-sK3Ei91RSnA', '재훈이의모햄': 'WDagimwEAuo_Fc6FzpkR41oDvJYF30vJ8SKo8OmyYvm6_ZxPcleIyL3Gaw', 'Arssss': 'JGWhiOg5kchXqZFy-ICaUXYp_Bp_2UWSvU8jwml_C2r52dqzqX6IbcF45w', 'dao mei xiao ya': 'nykTsvRUSx4CcQrK1eJQfw88TEgS0TFLCrHSwgJzFGtD7UyRYwOXECcrIg', 'dangyadangyadang': '4mNYhHMk7GxvWTDGiH1flrjyuAs7Ec-0qQPqGzEbEupoPQh1DDSPRgbJXA', 'made in future': 'OTVMuAEDNG8yFRYdaT6V-qgA-LOBcWvgnoXdjnlyKG8BoM_E1kN5AldOlQ', 'WE Shanks FMVP': 'wDj-SW8q-hBTzU8HMhp9EO6FdYn72y4q8TT0004PU4uH0pX4679RAY2kwQ', 'la che xiao zi': '-rvWkjNzhoih3la_v6JMXHM90uOoaBMXnq4QuHNS-PMHh8LSJ7ObJhkKhg', 'Tanghula': 'VZeR7Tn9S2WumMs6PLEdDmeArFPCr12BaYefpX_WPyMJ7TrN9AEMx4Ymdg', 'aaassddffgg': 'EEFVhIzlW6ce3jxa1yaK4SeACXHU58K5dgnBG9ebLfnh2L7_dnnlP3LjSg', '21year0120': 'ItkkyKjm2v71xVJ_6eXP95FUWkNRIljBkThqc1x05IOVyqfWFGIQZwlfcw', 'Lehends': 'Nm_y_a05W3qfymfBdFrgZF-sBAW_lBX9VDa3qLfgQ0IqWz0', 'whywhywhy1': 'lxqBzR1rEI94s0wPLjZs_0AewUbmCUDgB7U7xeb7sULTvmCiOq7AZREk8g', '놀이기구무서워요': 'GU-c2tLWXGiW5-iEB9FVAaOh-uaLi4YSyUcIPEAhWiu_vzUHvbzeSp9hzw', 'luxiaofeng': 'v6pORVDXbq6AFZsABY9EpJcvkflWz_LzIScBPzTBZgTntY0xb0cS387u9g', 'JUGG0D 12': 'aEgJoRlpzXacfKsKwsjRc54r21NTgxLf71cHW6Eub8AuaevoOk43MxNdFA', '홍상현 암살부대': 'eQIOakxmfyKUE8jRIL4cBmYc5_rXRjxGLjKRR0tCX8NpUCk1ToERMicoog', 'pingwozhijiedian': 'buDuTQUwfc--mjdHYiFEmV7UkVuQqmnpjUYZm079dvcdpCk2XcrGGR34MQ', '누구세요5': 'iz1jwf3gYfEPO1WMGogt7RQS6DFHeDETf1WJs7ncs8pm5zdi3vewaRF5eA', '남장구': 'OONz0_2UWaOLeK4cVtgzG8mjKnBw769E0IJapVMkr_v8qUZQgSmhtH-ZFA', '엉뚱하다q': 'xbsHfnQRv5GIJhv-PN37LLOIshvnsKX1Q-JAYfkDpReZX4pnMpMI4XYSOQ', '랙돌좋아요': 'l3OHB7vRXcnCH_1Fj9vc2I5sYCZFiTyjf_GuTeB3qVJmxe_2GPppF6uXnw', 'wwwxd': 'yDRtKQbAhwtxIClbn5ygon5rvVF-qB6DejMC0qUGf55hGRUVjrsXNTeYdg', '2330': 'SMClRbuT1bEKBseRMrrRRm7C4_990xnooNzoBr_tQkV4bbyp-YO0saj8Mw', '노력을 바탕으로': 'IypxAe26pBGd2u444qJlIANpQ9bjxqLoNJaGXdGx8stgNBSv17b-0pxqoQ', '못이겨서미안해요': 'eCSmJ1OY0GxI-ItTzMEFoVpREYOXmOSb5V0XmTe_4l7U9z0n6WuzAfp9dw', '타 잔': 'M7ZSQU_LFH4W6O1rRQM9_SMXeooyPrClda3GLlGjHMg7kBI', 'Wenmin': '475HEYSIYXCjGcWprOjR1vd1dxICv2LanNyM5XoFGx2DDrfyQGSwZ88wig', '김명치': 'puxQLTV_vV7zn94HUos1D91cU-LXle9fqLC6OXlrmlIfa5erFK124czL8A', 'wu tiao jian': 'ulG9bFi8Fl81nZPFJh5WH5rnXGkHr4UrrKvYefbHp0IH9uNPv8hJLSTNgg', 'zhuan yan': 'B9rAIphElSnOplS9Rn04wEJu0SHss6NfT2K57N4-IrRIwNfdjHkLX4gpFQ', 'bu zai bai Ian': 'Up6Blez12fTCMalRUzgW0LsdBDG7C5HXG4oWphgkGuEaLi9MN0cfOhM6IQ', 'neineineinei': 'dZD5j9JnVp96u8P2Khe3UTY88m_WDcOAA6NVIVnhi4HocWIjc_5VbdMpQg', 'rewqasdfvcx': 'iQVpkejcWnKrtKL8Ci4sCqClujIIUJSaa2R7ccUZmN9wvJGBPPkdRLX4JQ', 'zhuangBwang': 'MGr2sfaHeJ9gJ8Zde6Jg0ExwWgaY8PuwbR0gYQwPCGScl7pGbRX6mKecOA', 'zika1': '3eLSJV9MpS9yNRPBiPJ6WEMASyp0fxXVTGxrDK6JoVEnTH5atapSEPvBVg', 'xiao bu dong 12': 'DKk5ETQgAzZjUd3Hi-lTuSfv6I3Wj6f76MorhBMPto1TTcXhCrO-MQqMsw', 'Father cleaner': 'PFHSt7iPupc4F3N7QCjvI5Xisk_u1tl53a_g3E5-r6e81UcUnJ7CIGXboQ', 'Likethefeeling': 'UgsiAJU-BAFGTm5DTB__D7AZpi34XOsGhQRD7lUDDhbDIoEUpI02fUuP7w', '꽃바다인질': 'dAheX7Oe6UIQMYhzluuRFbEIDVgCd6YPLC3Lb0Gmrfr08enUNRE2ilz26A', 'ichi ni Nana': 'wC3fSsONKvcIgMWPteLAxVQ2M2TP-VV3KcGBqXmamiC6liuQ3qA6-AWTEg', 'crystal123': '7Hj_9hT03n74fOmspWawCUpNWgKGa9unHNH4MputAYK8oXQ_xp634RElfg', '내일은안와': 'yHe14bz0wXcpuT5zovkN-cMw0Rzkdby_hicpZDxp2pvWi-OeluwIIOAGaQ', 'qwrihwqikq': 'IeTKh_IaSf6AAvdfFZD1ebJulBFkLJ9gTomJ_Yq6p8xameZwzUK0RbUNLQ', '문영공주재겸왕자': 'Y6VUcRHjnsoiEV8WwxaOhIYsMY1QE7i4R4KfoGd493V-fKbDTqGjKewTOA', '신비한 뱀': 'e5iS04wIQhnZT7QU_58di7UQM3akADMUaR1ZfmFMvShYtcXVeoukW2dX3g', '보스짱구1': 'cMqN9h9BSCecjToAAOTMvla9r_OuGxUL2gbd8ymttCfcLIYMZTcltGcKtg', 'BIue Period': '9sRrQeOmGkmE27VSLgKbXF88xOEvTweqMFlwTN_hhqlzlQ', '겜수준이너무낮다': 'q8BF70vG3PUjtXvmTRAxjxkS6PTQjWNIITNxKlR_lPNnuohH9uh04iCCNQ', '기발한 그브': 'C8ezQV7xQKjNjL5UwWXvAdgRg1ms32T_26UZcWwUxarybNLH2-1Fljn63A', '장군백정숟도구': 'moYVbPNlZ0bjQu9vg4rKkx3k5vIcqaGXP_zJGTXzv6oZD8aEna2FecE5zw', ' Happiness21': 'PaUfY3FvnwiTbxNd7UmP29vJ6kaP2_tgh8848Afj6vAGS07J9xocGc3VfA', 'wuliaodexianshi9': 'P1GiPenorHMA6XjFspMZPvW1P_Bu8KBnjPMrkrNk-u8YffpSTmAHXFbp7w', 'kzkzkzkz9': 'uFXY2lMd3N13NEQwakrky2mWnGDV1ePY9K9hr3UJ4rI2U-WHNqhPunpXCw', '노래잘하는연정': 'PKQCx--ubRn4Fb62Sx2olJ1U9QayRdUqUPpt0u5u2yrYy4Mr7fNBkWQFUQ', 'piaoliang xiaozi': 'uXZibKXq1MJEil8gGSxQFjFOdwuX4-mkUs94xxEKvYkZ9ZNJhbRHywiddg', 'Anni': 'mrurfvuAiulbLyQxkDAiTFn4vpILboCX28qlDs9ddzGW1WsBFOOXD2qCCQ', 'S4GAKING': '-_tuyxnVaUmypSSDYXEiZvrjiw2hi6z0_vR76EHYtmWmoQ', 'FA Young JG': 'PzwYuWq1Vm8qa_3okUDxIHzZSx2zmJgZteX0xNYRaYjSLYTCzj-D39tR_g', '123344': 'UaxFZU6b5T_AriWPeSI_WhR54rYQlfvE-SK-2D6wMZCXF4RA8J5BekNwfw', 'n99d': 'Dv7_wIV1cPsxaIhhy_SZh3XRmlZy6t-8oPUNnCQpf4qexgceWPLaxqPtdQ', '나는수달이좋아': '1RSrkupR8VnLy7yNtZ-1YBAjFA_fq9bxcLN4wQCQg_z29rp2dXhEKUzZXQ', '마래리트': 'BE9_hkZgVz7Zl-cb_roEcGzamdkTthAZ9evDfPo51gahOmW3x8oJmvMSAg', '코다오리': 'ijM82_EEyfhRPXYJZGNaS2ir4UX1Bm1X0U7ooS-Mmo0qAomWiufdp2uFIQ', 'no more BS': 'VVjCls0Te2dH5oW6uyFurQG_zHxEiNFf3mdnY8D7TOyTej5oRTvxdEOF6A', 'confident game': 'KIeYShxDwAjR6syspnQO7LpabNR3eIBAOCyJMRBn_EOQdXLcbNCyALB9RA', '잘해지면돌아올게': '6v3KzbQ1P6KHKFPEKlPSNqymNK9EiO-36HUuybTzA9G74550IoDtpeOxwA', 'Palette all': 'jThW92yP5pm-6UA1Jttbyf6XnZ4amCu9EGXuy9nskW1PtTWqXodNimI6vg', 'zdxndnm': 'Bz3t7_UmcvsYHfk-8uumgcVfOjwqdkxHOD-5xBEEyou_p6LXbmN3NX29LQ', 'Top clown': 'SOS5nn5P7kTI64Q7NKpW-PRTBI6G-loeYlhoIhrY0pznt2c5oaOy0u4ZCA', 'HLE Lure1': 'UfEMZXblfUzeQbhglSr_8phzuP5HZYyNZ4uuzDy5ROJQLsbQ8twMhhHUrA', 'More of you': 'huC7ZM_9nBLSO4r2jXuJyisO2ubXaXwCKxuLwTmTIK0NQ9hJDxmJ6vHq3w', '순뀨박': 'xiM-JiYA7xkZDmPfH09W5dgh-mM9cbnqqEnFpEDFbDrzbkk0y4SNwllPyw', '또깡98': '83XfvCaMRHWyzYYXfWeOr3uYbqND9FDNWvowS1JCuBnWOF8Qj9052N-GNg', 'eat it all': 'ia6pofwtiS5DefU2XzV1vdTa89g1KNiEuPp1AqGgidAFWCJNwFO8r0_Pjg', 'BGB 이승원': 'pOE7AUWWDhVpOIXxaCE7wNkQMz6_rxOcKEIarzD7hNBlnjoWhEI1A0qmIg', 'Like 1999': 'jnIyQYymqOBm1JPN3h_h1BZu8jBEqHOuG4P7zt4cQO6y0gSJ6poV1MrFeg', 'shdysq': 'F-_40VLS_1dok5hLa1O-79l5NGW3wX03OuzJHD4fVmEKxaJdHIn2ssajmA', '서번트 증후군': '0jabWhKm96Kq4my8aTXOOrkSNdCZa6rd2LfnWZtDfl5LM-M4QHgDbh8khA', '역시폭군': 'iTbAtdGYjbhtsYC9sJFbuZOivNCRPZTnIfP_VTZ7aGtx-iBBwfeVLsDH2A', 'yunyanchengyu': 'H_AePqdQzaG11J2kpowDB0O3nuvSsi09DzdEhd4GUtyom8Yfe09sxsrFjQ', 'find sup': 'qUYluM8HRZprs0y8rOvWYXC451Fly3RHiQxfQ-SztVq3anqYpJqbo-qVbA', '카타탈론원챔죽어': 'aZvwV7-qcvk3_zI20U8qLbZiqTglg6ZOeLTVdGPLDN28sBxqfT9D5sg5qA', 'Yuxiangxiaohui': 'jxXIO9j5SdfRzOI_Vi7y3QtF6CQ-W9smmmLNa0ZXuyz11lJkBh3FbzHndw', 'DOGODS': 'xRDKT6mvWONf0jEGzp8GfrNP2QJ3qKxPZskkh-V2C8AMUSQQIFMnciwolQ', '자신감이 곧 실력': 'mEEMW4to02vJpxVQxlp2_4vbxEn_9Z23YVGfM-Mo6Pv-zPUn2xGr2PVZyg', '유채령': 'jBgrT9v1WL1AtTDndYA49Ao-gKN632bjkRoeFgKukJdBYr-d00ClyOas_g', 'xiangmengyiyang': 'k4rmEI40DAXcMXxGWSQDV86xbMc7X2qPoCySGnTi3I7PSHKHJY9KuEEU8Q', 'Bot1999': 'og97WFBISF8-RoFkqsYYfwbcDLlfhKBzHXnvPcmNt7yrwksDRG78kBDXTA', 'SUPDOG 12': 'xHXt7VQ8tXd0OQD4IclG8j4UISMseq3JoyM2YdctgVxr-2rsqP8tf42uRA', 'Xianyufanshen': 'sqA41Bc9hnNiERaphlIXXyDm_KCRewoT2-yT2aYTlIGlK04xpU2qLukDRA', 'Second Doran': 'lEA2USMjqZzP__JTVUhV5IgX1PcYas03cSaYLxatkmAKraO1_teXSzR7fw', '온 재': 'mkr-iUSU3tLBHRSJnvaQqXQ9M5aJTqH0Mb9zVkM4YQypr16K6ZOH7Rn7aA', '트 랩': 'd2aZpScWMJK6pvMPM0l6dP_m5EOuFZCqpM3InVMFrSfk_CLflj54kjHhaA', 'Cookie7': 'fTuCXee3IBzeJPE95zxB0sdpFX1o-156YMX8O2I2lbR-eXAjvTi1ytWN_g', 'Cassiopeia TOP 1': 'goFFdWkq63dLvr-6AkY7VTC6eeTnsUhyzaSAGbzgQEECy3gMfb2hvLL0zQ', '힘들면 쉬자': 'mwJghuY116EjRBaCGDFdAfSs-6oQhxtxwozcozkC4S3GJ4_ifsVRpksDPA', '잘해질게요': 'OBOV1VPv9KsHPSez9HXAZMMx1LImY7ggOeD8LivFyi6nY5NgMlAioT269w', '글래씨': '9SUOnAsulXaSNCPikNZR5dYxw2xhRHjj93bV11lCUbpYgfk8MNhWlDAB9g', 'ra66it': 'jT99-s2Ou-T44f3IRf4SjLS6nxo_JbaxoXKolg6vNIAG6yX82uoA6qAeuQ', 'Not Friends': '6eGc8aYzAUOjP59R08lTyFC0xB2pFqoO2iXyao67xx_0vmcRpNO3x4F_cQ', '다 첼': 'WXbRNmS_sOvPvHtYaSnNBoIFRnAngt5esbw2R4LiC1Nd2j8', 'RAKANPYKE': 'w6Uy9dWRlBLWEDYuzQUiR5AlI4zK05AeS1w_s_Qp6oX7H3aYr4mMDX-0Bw', 'miao wa zhong zi': '6qpu4quSxHOZ_A0Z7HdxBIT1CqEtclNJEtrR1lC6qK1CSnoQU_kqN6QzmA', 'ASE m1dking': 'p3JyU-aqawhoGY0Jcr0QDx-5G9Y5dNhGJEZ9L28nieTBjLlx9eVsTW7IiA', 'Xbm': 'Hdm5tuafvcG6hoOtbNW13zMrPuCi8sMYWosei0QWKy08mVgkSPRmOaVzzA', 'oooovooooo': 'xjiheLPlN3FZ2Eh2Ax_rxnHLeCdw-NLRNQN2bgirt2MsdqUTaf10BY0a5w', 'L Seokgyu': 'C1Ykpvb1xzaRguoYUSp45thTGviKSDIwycQK5chGfsq91tFje6RJxhZnMw', '싫다고했잖아요': 'weUML6yv2zWyy9wjJlXDNY2u3TeBE24sf12WEiCR42XuJaa01alu40VWEQ', '작멍이': 'tB1kjmcB2mFrMXQWz5Db-vvf9JbJ4Ocj22bYraiAEgnQWFR4VBFNkMhS9g', 'Loyswpx': 'ewvZ2TD7GXMXkjl1o4G9meKRIp4KlTTx4npabCZpwdvBsTFdPB-YqeN_Lw', 'hujiaju': 'Fme9O5Aul7uHdZ_xS3bwNe0KryjtalMHobBMfppKXVQmB7ywX2VTxevqrg', 'KZ jg test': 'nNjclseoV7IChLLTDSOXRCuWQpRcrOTg8Z4VaYZgVUsXtf-CPZmQ9vPQ8Q', 'kanohagito': 'l_D8JGH2Ykxg4GT1i3BcV3vsHhA3Mo8mdbHil2UFTlwnLE03XUKI-IiX3Q', 'wo bu hui Hanyu': '3gIL5gcNf6wqv-WXkbDqdAK9axlASjvkb-JdBs9M7FSvKcjVpnHXMo0mBg', '원숭이는우끼끼끼': 'usgO9TNhNDC2-2QxDCYPMtALcAxfiY4W0rKwpXM3P5xETDpELx9mY04xTg', '재현표인데요': 'TlbtbebHBL2P-hXmswaFKT6XZ5K4ve7AGJYLhy0Mx-MtPlEfmMw5HwSpqg', '김타규': 'bPZs6ivvO6bO6U6TmLVv4Zrb4jvWsqZJ03DnMpHOquLRy2wg4EftkK1jMw', '마쎄옐로우3미리': 'VrqJztUGM7BJEHnwaZy4b6VIe9CGtmE5e2RyDHOK-Vif9YTbZ54Z61WK1A', 'CscyDzhbzBZ': 'mIF-hyXXoVZ4HvVLPxcfJapaJzKXWuKEQlVS1bAeLBzXyC98r4q0OF9M0w', '정우도리': 'pUZZ3j_xliNJRK95JZH0KcEGVpjxolZeTLAoATrUumA6afnFAbekITXvFw', '몽대지 fan': 'nxmoc7FxAoK5jq8ZARl7XTRKkXnqcZbDlwkYa4JyALYWFXz7YA66W9ZJJg', 'PPhf  023': 'L8nnZodsBTBYx87BnKlaUVHFzE8GhexBNV12WOQE7Vaa14dNgCMlv9t0kQ', '아다신사랑안해': 'ux49ibVar2J02LKzsF8kcOOq5EcYdlntnbkWl23eZVyv9ZcP7dhq29kdrA', '그릇된 사람': 'f2PFPMH6EXKuG-wiMFn2FTZmJZhT9bLw4yaf5kiK8WNSfds85D6TCQE9tQ', '진심으로 대하다': 'nAcssLHSmkqm9Y2kNtswxTgc5OKhHJ5JjrDtmkkmlRAhbaXj2YrBV0LcEQ', 'Nox808': 'hHScuJE5DNcDp6agHURJOa7saAHzPZwyR7tTxQuL-rWCJaQI2ohIqV_LLg', 'J1M RAYNOR': 'HsVu13vnqssGACbGTBpT2jQlOiJ2KaGJJVjnUb9ksEyAfJHBlpmvToAVtg', 'woxinrugaomu': 'HKBxQutR-sGlNvGHNrFtEyz07-6Z0DjUgCKWKTrHuCJmicVK04BfVtRA2g', '어려워어요': '7ymxRHcoCFo62BqHUTcOvbYA3ki2iCHu4M8K429EjcxgrP0DolHnBo4L_Q', 'iop04': 'IReQQKhG9DxzzZZZdLhCghbmwGO8ZHLZnqA2t7qE9EOq8srqv5dipI-0yw', 'DK vvv': 'fq4RPFrG8VG0-2Ez9DZty7QQkcc3Ci2ExxozTj4GhLMVZkE1vYN7FmPJyw', '잭 호': 'M2F_f0r8gO3ste6o5Z1oX2Dn2XUxQAiZsuc1xR1lEZ_r-gfluE8jDqImbg', '정글 표본': 'tMbRoS4sw3a1unvsU0FsiGzQa2wyVL3QM2Ro4rJhGoj46NF-h5XJKmH9xQ', 'ADCGOD 18': 'e4WFNUtXpCSx8orWiXPZp9EKQ3B_7RIhAO5AUIDPl50tuFO9sYl14wDXug', '6두콩': 'NSVWyDE0PWMfbYY8LsR4Vh7xbr_ITf10FATpMs4Y4oU6yQo', '햇볕과너69': 'rquhfl06XSkrqlhTBkjje_mIJ7VOj1XPIBeIdqinhLUc0G9zhB2xGDRHdQ', '수연 조아': 'Cs3X324ba82e6H6bANL88Vs-OXiFRxP0sRAj-qjKX9_OjQ', '초밥이먹고시퍼': 'kYPsJwSX-91ZuEtrdgjgkJ-_63Fzjf0mdrwLi_NXnmQLJFmKoeXQerYY9A', '불운소년': 'fUnbRFt3itndTelk_5olgcR5FN7Ska2d6uCVFuHK-9tQ2YtkxqNqbTDhPg', 'sssay': '5TTX9j4yf6rzL7GSpisgUs5fEQd8gYlh3Bl6iYyeuxhwGdb9a8bKLyjYsw', '새콤단무지': '0yskv0YzEUT68z3mYwYufOoqRKMzNH1ncKXr1hyWFdFwFDS1UdzB0LTNOg', 'fusu': '785hr7vhE1tVC0_ATU73c19TpkhzY8zLFvgrb6heYz2hFSb92qvcMk8L7A', '07년생 랭킹1위': 'nre9brBilGZDztw9cwu3V61nufynIOjZ8c5_8LJnyn4VPCA3fjAtMnqNSA', 'topkcaj': '6SBijaOCSmj9aiLDCyWnbh7C0RHypmktHW6pZWrLJ46s0aqPA0KTywkdjg', 'yi dao 999': '3iw-V9q9FtEdEfCPzdc6wb4XFTGiWh9qa1RUdrld7SJF-wVFYjxJYDs2WQ', '죽여주마1': 'lwupFeQTjhIlSAf0qlv7UQm-5z1R1fKLg0P-rhZORFAnRcmNZKNsnt_KLg', '덩굴풀': 'u0UeWrt05JLVnaoXIK046GRWawMy6f8pbKKDVaehvmhaTatfaIaYAY2nAA', '050421': 'bixyTXWxdWK7JFCO-A3NozrEzFCkfxLyC0KzV9HUQ1hV1ciByn8bZcDVHw', 'I wanna be Oner': 'wXkXUMGKDiVGK4tSD93VowEbFee6IMuT9rA_yQueGeNHDj3WgTw2jxBgCw', '이기다e': 'k0bEHPdGfI-1-R0ntkbTZlKoUuZoO8ifc5li7UfFDvFNAC1XLsZafSIqLA', '이기다p': 'No30s_9Y1bcwbQhVQMtrJ64ns1R7o4a48P2bNBhsNd5UjgqlnL4mpI5Y7w', '일산전영찬': '5QafC4SyQQYBwjEdfhWh9q5BwnD6CxFlLnK9P8IN7GbqLg927XsIkxyOGw', '경고할게선지켜': 'OtMfxIBeUQfdlW81JbqQHrNPc5ZgC_TxkJPwIcEcDpggsabrT8zq7vZzEA', '전 챌': 'bVTgGCO_3Z2vOTO2HhAWG8ujPOvP7LEnqwm28FLJBBCM0M1CZBsrPMHjzQ', 'sangengbanye': '9C09csojthtGF53Vf8ev6bFor36DSchhpZQxtnvZrLMtG25Tmdp-qdtzvw', 'lhyz': 'wxVtOdbGluPULoTgVTYJE-pKWNJumAX0DQrAFcCqZoCqc-eUbNkQTTkKhA', '올바른 선택': 'lVUS7E91ibdd8izq0EkdixP6i1A4rZaC4Qq1Scpd6R4I3RlSitRr8i1mWQ', 'Poseidon s kiss': 'lEHORk9rvl3fhmJX3xTVbz-92yT1l16T5JZbMh9jRWSkXt5YL6hwk9csPw', 'zzm7': 'c1lJNgfhIPQWSVKyHkikogtkAVINETq8td1593ujDdcKs_swI3Tg3heI3Q', '킨드레드1027': 'ALfghihqMnQc2C85k7xKObqIHKQImY_m2bXT35nZ_tnV4EXl4JTv2kJ-CQ', '생각해봤어1': 'x-xHmDs5YJtMrmwz3NqNkS0QZYhbtER8VoLCQvkLNmbArQ_a-AdYFjmvoA', 'xinuwuchang': 'AT34Z_sGPDFraa66dMEiXGnZT7fbvV3I2okRw_9ODzO6Bv52ne0ygHp9Iw', 'DOK SA': 'yVMzVQAnS-qdMyeuhZUtQ_OqzAjHg8Aggi5MBTV6dRaLXw', '조광희': '8RIvo13gqbABbQULf976x4vVzgFr5BAIJoHYv_tvtQ_Vng', 'Chain of light': 'fJWA9H53Uy5jc_jFkJd0FVQuGRxRcNaUQdvJ4m_Bvaw-Unk', 'SOLO rate ': 'ak2jn6CfIRGOmfGZX3VD2i_P1SQAuK2qjNTjsJh6iZW5ni8', '노묵쿤': 'ZY9bpTRxrnQTx7gkuCa4BrxTcc4gsEVGY-GdZuX6WEzDATE', 'yyxb': 'J8bhDQrYiGFIAwwmoQUPRcDZXmZyEnkK_rRpRkaJPaqfZm8', '소나가 궁을 쏘나': 'ax0tH333s6L66-CIdrJbj-kJBmlrzksAbaMro1hXw2R5jO8', '쉔드백': '9eX8YzBoW8WNJPgduQ4hsYWY9daHCgWRhzONrDYLUOeJlq0', '별사탕이좋아요': 'ngl-9-kXBOmprsMjs1NfwRdLPNFtHqsAKZdWbVyn5L-AOiY', '단군의청춘부재': 'NVcUd--dcq05yEYb3yVqKNqoFUGpdU3GP-ndI5atk31SOA', '우울해': 'sQELxYvPaBYpJ7b3q_fPbX6NtPDaFHmJQumYRgsTNWBQCbo', '우우리': 'vVdk1fV6f8i1ng1v_BvgAM-NkCWE6FG-uk54iT31F8AZSg', 'daesam': 'dhqOzqjH0qKqp3IzALdqO4bR8zQl_jtcGWt80VAVjEeq3w', 'G4MBLEER': 'q2s_d4uz-P1taQiL7pgX-_G_YEReKBWI3iC2BZHBbzv45YI', '옆집김덕배아저씨': 'rC4-XKEa7J3k3Yi72szevLySGdg8Ne_diMO0tkc-3vfjUtM', '김재석': 'kJMQvrW3KUcGfb6DHOBLjqMSmzWmtfYsUEjpQSTeWjHVNio', '비인기비제이': 'c781cWcGsid7ynsKLSJEXXNOq7L8KRZiQznS8mkgfx5m_Q', '천 꽃': '21y9vc0IP1FhBI1eJJT4U1S4Ei_z1ecIMkXOcnVOROeDHjw', 'Nameless PIayer': 'mrTnsF44hkNgDBTNR6xPTTWykm8ZHaVNSDPfpO6-BKpBdQ', 'lofi love': 'V1pR2VUvO_ITgvUXkpTs766Rhg_hrpJrRkdyv57OTZhHiow', 'YouTube 짝강': 'yEkCRbCb4iw5mnRnXEjxf-5xahfEE9Q18446V3d_TpHtBl0', '서폿도 케리가능': 'kDKjn-cJvCjeyYCUyU9CRKUGfXtI-HlYV9kg5hipZWeXSCU', '실수는실력': 'R2lzPWnKgGjezv5-Oaw9Imp9AMXcpcMQRerj5x_d8YOkfLk', '개인팟': 'kTXBKsi1PtpLQWf0CDolkBCmv6cermz6KrbIxvXt689LpQ', '훈이 fan': 'xMvOkjkqTjvMxIgXHzGkVNd2gMHADsnaVzimdyAyGoQQQ38', '에메랄드빛 바다': 'nyvXt3tAlyTHKqhdlSmkrPbhLhn4tXwPwQNHAMi_n5xCIbw', 'Equinox1': 'NwTHjNEU_BDYDmj-3mDjW9EQwvaXTrn9QTIokPAo8oQwNUA', '썩반장': 'nYD9QE8dUQAqV3ZZrflfFll42TFKKLbPW6hI5xQNZwiJ4w', '최강아이돌고세구': 'DJ_CqTxJeyQoDjHIwL06_wwsmE3dx16OZ8Z66tsVbLyqKA', '그 햄 우리는': 'sgTE4NQVg0bDPmbFAcPARzGUSHHBzs7DDdPaudQnkB0rdyw', 'teamluckkK': '_MNCyxdZ2_gzivMHlE6qUJMpm1ZZXUmzI4v1KQ1B5CP5SYo', 'DK ShowMaker': 'x6w9-dVYipYn3HldB1YNfJ__0d4RDFG5nWwNqvB6ZAUAs4I', '코 태': 'Z4YrQXSyT2cPewjxtXruIM5Bgsiq6lGZOXBjHQ02pIjjMLw', '또다시이별': '19kiF0O0OLhhcFqP2IJN8p5L8AK6tiZ1E7gFhXQi72f9gA', '외쳐주유소라갓': '6hIDQck4OaQNaR7DO5l8nxV8tqX07YGWV5CqMUb5WMUIbbY', '전설이 될 남자': 'c70q0Zrcg2byFxZy8vuJoUq0CaUdCDDPlkyeODv0IUajpU4', '구운몽임': 'xpNRU0-uKJTvYdvEQGKTlj9xIkyNKx_5qtjAycsxPuvkZ6k', '야스오 인생': 'LvkAdyzk-eGugzSvaKgRdNUpj-cI1RM5qaR2TQGU1ZCInBE', 'JUGKlNG': 'M8Mjztf0m6BoB-Mqb3CsVLAn_js_ma0w4kUsVI-Tn4ibg4Y', '하인즈': '9UTrZOjQvDDitvvw5dNLphn0ztiC4CZpUEmlGfp58mvjh2k', 'JustLikeThatKR': 'oetV8E-kZno0SQMSRQNK5VVs_oPl0Ezi03PYVEcTw2s_Hg', 'qazesc': 'oL8kQkpTUr68I7MYvjwlmNd_1_H6wCoNeM9-UOOSzNEEft8', 'Zrs': '_MDT7RtADrsraEinC3S75RBuciISR9IMoZ8sBN0FrOFr9eU', '뭐든지찢는이재명': 'H8CbFhefqcWEs_uQSgiAjleMB4MGpXqj-hxUEqNu8akOgBA', '20050916': 'LqBzj2uUYBm2qbLu_OJnEfdsKnYnGlBVy7K8XIQmejHz7Q', 'riteleader': 'qIa3XrgZpya8WsUjLEj3vu1Tqx_2U7wgtWe2qeSGclpOZQ', '역천괴': 'wY6sMJJeI2OHhRLqBfRfBfZZsrR8yH2tCUgoCDhCl3Uba5M', 'feviknight': 'yP9UUsHJHYsB1RGkqHJYEd5Bnzv7R6c81EeB8rgXuyWuP44', '도구는 툴툴': 'VO24OLHosH4ed0AVNKRVxBDxhDDTvbyBivZPcBhbY85Xi18', '엔 비': 'eEBvONb8XlfHVlJROH-185yVXJfSmCaCRNHoAmBCxCPUXek', '왁컬로이두': 'oIvll4IW-kvSPlQON0ZVYPfTkxBkadVYMBkxhNnEw6I5mO4', 'Wilder': 'eATDw_9Lr8a-97wuJM_GRCK9NuEZYyWbtJNxqYMpJicABQ', '그땐 그저 좋았다': 'A2ctGap2VwuiyBfYsVK2nT7zqZz7BY1h9f8vICo7qWIdl9Y', '레무링': 'DSjPnRCa5v1EkgUUctpDd_s-r2jeydzeEzOIswlSSOm6qvA', '중국사람혐오말기': '9ZXmux-tKX8bM-BXv_YsiVla66bYH3cG5CDEmgETdaH7wg', 'hopeisdangerous': 'e4xEGmrKAq5rz09umXjo9z0eFoThN5ZbxZfQL58vqshyuQ', '김 쌍': 'q3TQJbpFSLSPHG47bYcRyZVdJvFAH4EOx7Wz9nUC51Sudw', '호성이': '_7V9a7ZMZ-8mDrgpMtY7ngO3DIo9k_3lSHQ8VmQ_YPgRuQ', 'HLE Key1': '_zIhTpyQIrm859PfT_8dXymNKJ-MzRwWHTXCuXfpyYCsug', 'HELLBOUND1': '_C11o4n_VL4RYCSb3mngEGV3SO4FYOCIEj3VXzflyMiLzGo', 'KT 라스칼': '9MsPFdtMFWjc5MDh8OySZhl017KH1mN-96Gtqfi81eUEQVc', 'PureLlne': 'rLNyVv9ZeYHjq-ADSrpL0qY_OZSgMWtcKUYuVIvYDiY97DM', 'Crulser': 'H8dONowoJc_yk5CXYC5PneesF-mfNulBUdC_7E8MmZEK3UY', '새벽사무소': '6hzeQ6nWdNAYwInVKkbuzXoUlLaJwHJtKUJHwOpCtc1WfA', '07년생 티모장인': 'ooWCxCG3wc55D9SxLrWFTm-LR09bi4doIwePfFvCEkCvWlQ', '장하권너구리': 'pkig9PE4H58sxQ0TQqloLhgSrKFnMtbDITm6ipEfNOnodnc', 'viper3': 'L8D8Yz7xMi8IdKewgXrNyF-0ZrZarF6hZrzoo22ZDvvn7Tw', '불곰국가': '6lXpltE61XF8W0waZpic95liq4MACwwaG7Agv-J19pzI7fQ', 'Uarein': 'eW4H9YWJCBL5eIGj_Zk8j7qUmKUskEOUKmQcT8qOx5H91A', '어쩔카정': 'l9yUxbgF3ApVD6y3b4wJ9mZsGOTuaNpExglkioHt6Yx2tck', '헤 진': 'S2nTPFtTCx9AsrVoIMnpbigYm_QLuQ8x0gR5eU4ImH9mMZs', '기므태이': '1nzpr_FEXhcaV7r8L5S_PQ2QZa0AHmpK5hRiENZpnpbFrgE', 'fdadffdfa': '3Lw9O8HLm4Riaxv0QHl-tPjcBzncheBEBAtpx2y7JKZk5co', '한없이 소중했어': 'HePBSFDfe9IvJkKwHBK1xiXueUR-ukJpkrip7thX0MtCDOU', 'ljcc': 'yQ8kljiIlzKCS_zGGd0CoOZ2KTKmuEgSVsLw777a8gaC_XY', 'ndbb': 'WJEMuG8ZoLb5EjVvPIxr45tDWaLNGzrbKw2-hdvN4mKmaOA', 'Assault0': '1iIM4SXVxRK25aL3uhfQ8lnF4UDvbr2MyhkUr6fguxty8Zg', '쌔 DI': '0KZATaXbkhxw2Png6v0ovuqcG52X28Cng6G0N2ZbVoSfGzo', 'jkjkjkjkk': 'ywtlw1kgmnzWEwzXIBhEpWUhPt9Sd48EdVPkHri4pKv9IQY', 'Zaovvunongren': 'WzyZ5gw3hrgcEkxIh8dkTaO6eSJAuZowzewZ9H2JedJCGe4', '수면소년': '7a5X4qEvE-odcr_zGZLxp22IHe5Xxvi7IAkVLaZxPwOF9Dg', 'EIderwood': 'qZXhk2GMwRpK4XipMCePRGx7qgH8jV2hsiTJTCRNVnMgoDA', 'Chancedong': 'jnDECxXIUeJTOQp7kTTX1d8D2GwxAyfvNlmDJAOVbVi2-8A', 'K T': '9rrByZeaRxQIIm6kmnDvfSbJzd2ww5ihPKkAenxgaKCoYKE', '블 미': 'jIEKUuyW2JRV7aX3wbeUeATqcoH5XPYrk3u-v39UYB8b6W0', '인간시대도배하기': 'vHxl32VEgj2tS8wShc7HRDt4vY2irLPrxLl91g0eQpFlAg', '열정은 꺼저도': 'won2dGO5-8uY00QzO68TcJU_fIc8QO2H2_F3-2rclpixiHg', '송 하 랑': 'mpbc7AO3_wAiwNfyKdMZ4OTPe3q6pfroVmGdPqYWpGSqmw', 'BT Beard': 'wA4tUVt_z_DsIN3DoIKRchwWBKUOrV4WPEN3CjPmTyV5eE0', '선이냥': '1g0SHJkZbvx7ct-l2n_oLXYP7g38lQH0cc41yq_P7Scc7G0', '숨바꼭질': 'rzWk5Nft_2oCJxBhQHIulyrzQcNYtG83I4-Y9eQQ1Zdk0Jk', 'Serin': 'GFeks5LnCGOHM75xvD1X8tppZK_f8IulFYY8CbybrYR227Q', 'Clever9': 'caZPFRXO90h4lQ9aB1A4WatIQYuQQGW_muFeVkfFiGhLlj4', 'Canna00': 'QDs2QbHRnfHCQB0GqF-PJRNgOdGfROVOYhv52rTOENrGJc8', 'fuzhu carry': 'ZWPwizXH5lgPWCUxSBr0YgfskmcHFOwNcIEO2DA3-MNphJY', 'super secret': 'NOmMZzqrSU2bYQJ1VfcHflOIQnFETgterJJm2YsFWrb6MT8', '공부하기시러요': 'HQk8M47r8ulhcjmjA-DT3S0r9bILtme-rKQtWyjIgnuEUzM', '헌애기': 'TQYmiy5-vKBNtvPEX6h2Mtvl0lJc2Yt3x6Ii2WzgSH_6ekc', 'Gen G Quid': 'IFe54wcdw9HyeVOWc-T-aOoXKunwLmFbzqdnOUSFgAT2_qY', 'OneZang': 'aatNE1RyL24PVmjSFEciJZeyfh5cpt_tG1fFaROgT98kUR0', 'hao yun bao bei': '8QoE69vhD12-FXjmZ_vPADRtbTK71L1BKQsvGNyD0uFk8Mo', '비트청산노숙자': 'ie-W7GQ68soyY2lIqvUotN-RbtXWlRGyNXkY47cBwpP2ILY', '전 세 종': 'U5yqWzGzp_fDl_b3IzDHRRZoEuDR7l9ZXOxtaXcsedn3Koc', 'Gen G Mid Chovy': 'Qfr046gbAh6noNw95FHA_J8X0cTIat4874Xq-ZcsTPOi-Q', 'Tiki taka': 'DX_Q2H_WTje8sdaNwUSBFuvgGusubhdY0_YuW5SV0bAYwmY', 'H Agent': 'ptAh03M4t_NPNqxqytq1n4_O9s6yECMsBDBY3fOx_DqXaDE', 'DoJerry': 'HdOm6f7dxi-2Loh8XAiT9Kr8dmQwSh70ARyAaFZmy6cQy8s', 'o1dmaybe': 'SHaVgsA5WvvbrvpjL8xFqFA4ADSpVYt1xtrrEHlr00pwtuc', '미래소년1': 'nJEt-LTQRLUd3e5MBH2WlfgVnVlWL8IdI_1bPwcqpfJ_hzg', '트위치 백색말': 'aUneVEV0yfCx9ksYXfrnKV1VDFj0TE2oCASlwGvKRzenwZQ', '        손 희 찬': 'yXrtWeIUKqnvppMl8Tysm0k556uW_-GIJOqqsnHPQmOv4cc', '오이동생': 'yPs9E8XJxL1I9vDLmAz664XUmAEagDekkhmMN5lmQlQ_rGk', '바텀던지면오픈': 'IBlQKw_Bo5azNetabO7BSPd6Izcc-fX6nJSYXzPLPmQ4Pdw', '쉐도우 에치에치': 'NR8jMfjpFo8JHEr7XGPM4MbGiFAAZD46O1IpZAeeYjx-NnA', '패배를까먹은사람': 'U_MmCEu2wp6djndzIQeFwzxohkLE9yYW-sDvj5lpCJJloCU', '그냥 벽': 'B9f-UUQC_9sFCyXfh5i3TXfQRCySRTdLQvbqMki_MYRmILc', '스물다섯번째밤': 'aQcRmBUUXmLqY0KuGNCvwnZu81IlyHuAOkh5isKm_LM9NKs', '민수는 아가야': 'oVhg7PObeS7j1krYrchv7JOHxibey3lhiwXP2b-ZewKgddo', '전호빗': 'em7z9gx9uVm4GndunnrQ58KjnrMy-xghB59ohfmnyuChnz4', 'RUlNKING': 'zk0IjoVlztNV0bHCEfM65LIfCN4gJEnDe-tOR6fcqI8jfec', '꽃이 흩날리던 봄': 'EIRe1QJ1M8In9U0DD2KJBjbYiDdvV-3XW5jvt2BET-2SdA', 'guerlu': 'bsH50U0bmVuUrmvlOATtURSimcdP_KGC33GI8w991epKpc0', '행복하고픈 선우': 'FMelW64KHnaCuUCLeYXo9w7PuOUNwQp3U7ew18CU5-jrLpc', 'yyzx': 'NW-9pVz2BeSmdmJjPBvjJNIf5m7QC20NC2nFi864guXCTV8', '부들바들보들바드': '1CsxMmJLlTqyuAjg4rIdVEMPD6GUnSOfWbdg8VtC0wXWKQ', 'U Han': 'qUfQnNzISYhw6oqrwHzLvwyN60rj-05NaYyGLQYHgzNO1Qo', '망나니쌍벌': 'ptJYtobdaQ01SQFEuyfcsSzSvWyRbnQV3B1A4sAY92vGPXQ', 'FA Jini': '15c1resLVwTphvnNvN3Ct-YA7bimITQDm-_jiXTtoxy9OZY', 'River9': 'o-oVT6ygWqxvyYArAqa6gINCtFSmjBy3hYjwIJ7GQquljEU', 'Luv you': 'xLCH4X_7EzP5YtUk9YhBXur-fY0MvgHaxtpu0GKU33VFzS8', 'noobjgjg': 'VDKFbQ5Fdoiitt2DHm3Zk6ClP_tgNcFrNcBH0X1bO7QKqKs', '예쁘게 말해줘요': 'sB95o6An_QhnzOHZPc3FgCQXfts_Bro1yBr-6igqVtPCU2s', '블러푸': 'oROjdGdhwq0mGzs9bbgNNrGknVDlGxFleW0BjZNMX9rb4nE', '너의 친구': 'x8ctfckadkKEt0rJACmKc7SfZ2auexRUAM5W5RHDAonbPTM', '뭉탱이123': 'nLyQ7zCl7trRNEMRZndRbfYwISJEnHUzihjzV2QzgFnl1w', '비에고교수님': 'qGZGwKA8xywPY7HXcxXGse-thUW4SrKwANR-0zrtXLdyNQ', 'aahoy': 'z5Z1VMSb5n3ls4u8A6XSp2DhZx3HMUagRVFwGXcX5SL9Edw', '조명가게': '-jpFA2CjQN9YSnDrDAl-o4vGoyiEodU8-moAiyE7_XF4SWk', '아름답고 슬픈 꽃': 'dBL9xH4CEWW5PRX_NgFdlfyj-XecpfH0CLpwrXBrUKVmIRs', 'Smile JG': 'fCF7S4Whq0yIc5VrCQ01p7Rqkq96GaIDTjLhtVPOF7rGsw', 'Death fr0m BeIow': 'xZqg9ehbbcnU0crjnTmkvkpwdcdlVtHAzb2lGC-OcFoIyMA', 'Kead': 'd1K-k7iOvZJRDP1M_EjgH1aLDHJCkC_Bzoocucn4btUr2XM', 'YAE M1KO': 'F0AkBvmW5Kd_wXNijV0p4Zrz-bLJG3KK1dQD2y_65Q-Seyk', 'dududududududu': 'Lp3zPHfu0OyRiNapQzhSKskOw6_t9kZSTrylyAbeN5C_DME', 'fragiIe': 'lIylEieRH7PZBnMOvM2219EZLrWawFQjH0YlbSDS0lPeaHI', 'Enosh3': 'kKxokbuQSpIce7KInszK8-OyiGZlWhQSVAVCnilK9Pm_l9M', '옷코츠 유타1': 'drOgJsJ4WK7-df7zmawhyfE6LFkZ5E5xwftuG9zDz9R26lU', '거부합니다': 'KDf_n5T7NHaThubaiNR65_GMX0kN07-pJRhzYVCRUJGaYbo', '아르바생': 'E51E8OM4sr7qLunaYRmO9SiS7UJ3M7NOQpDg7Q35zneA7Mk', 'wo ai ni gyu ri': 'gf1FpzdrC4KlKnmSEb0YmwjjXMNd6XBf2QtH6sQZ4GH6jsk', 'yan lei dao liu': 'bhsvkYrbEoWAYk4aQPbV8X0MsIfxkMCcldWOTnxFfgMvZNc', 'Juhana': 'pSoMmukTNdNUBbdS10UYNwM52BToVorOOjJ7AXgADCjlAMw', 'Heart': '0nt0-TE99-ZkMYqVdgp4a9bskXIQOKcrLWifEIrRQHSuxg', '달리기 왕': 'D_hGXKgZGAkQtYvxYcqdzJP84oKADI1ijEB8nSqfqHGcx0w', 'CN obi': 'ApAQsIHb7jz-n1gcPjnUgVLOS_-6gIr0To9cPspptXBGfSU', '돼지와함께춤을a': '45JAfYEUa-XyCjpbg7z6cifeSag1YKOE3u-dRWW8y5gliCE', ' Climb Higher': 'D5LTd2vX6jTZC7UW8ehhWjyDXICKvG9YhDkgzsdM4ZV6A40', 'thx u next': 'NuB5wI5uE4CSzb7vFU5pzHgAriN8bJHwKqBii9tXHFxzvLU', 'PPPPPPPPao': 'BqgDlpW18EXD0zeKlVTei5wHKHAd1odpRZlXUn3iJlZ1MOY', 'BashFul': 'KTVLQMIVLdXaBZ3gS-ETqzez2uPli80erznWrdt9D8z_YVA', '폐급정글123': 'c9HLfHifb_d2zaVaQje299MeTn0c2mkDElrdkMzDQnGSmhw', 'keerbisi': 'GUWsHS633T97QzVhBeEJ_GZn28I7uP3XsEVvuJ0TBoGDokU', 'Re2n': 'eV0_Gcblq_-6k2xsgfwHI_I2oqyg-7IPOqqEed7RUeMOnEc', 'AF Roast': 'KPLRfq3v2axh7rbmLhNCktz7389wgTXcLlaNnDNlgCQu0fw', 'Eslup': 'Vkt3BFSpaT-Ej5wCmLBP1Jp6uzfcUC1Tl5yCtD4Z_RFdavg', 'almond bon bon': 'YEFLD8cwp1icOebqvSe_sA1Piq2w6sWtR3Mggq07yVwL_4I', '열심히해볼생각': 'd318lqE1c1QY59cCVbjNVl7xzMUKR7juSOyGDSNZ2VuJRTo', '정승원1': 'fT-XSO9CKKrqPl-F1IOpGuGsBhXrIKm6C43f6VzdhyT1uIc', '히끼꼬무리': 'nwSTTNgrbcxu5TqRYthNGt7W8XXh4eyvYTswgAO7tUC6k4s', '히히 못먹어': 'sFAAfihlU-yVqrRbwuV0l_dDVNQQxlle-q2Rm-_9l1wx15Y', 'Indexy': 'zo-mU2SrGs46y9EJ2W0QPe6BW-JIpdvMlziBEsYqrXCcH1w', 'zqwmh': 'WKjqEFrOub1TCM2q9TF1tPb4XPE7IuyfuhLsJWnqvvXVEfQ', '격공한무': '8BfTpAkJ78Fwq_15yaQKu8uz7CbYgwv909ku1327mm-D_0E', '우연이 영원히': 'Xtb0W6lVhDOJgxCf097MaMsdUIrlo5No0P8l1wXqHKShkGk', 'gkstmdals1': 'JFWuaC1QFIGIB2ODlwqFmX4798RvvzARlHABTBwm_kT1sN0', 'ren jian': 'r5WPSuv4wtjB4iZuh95HJfnS8HlKPYvCL7eQpWGnU80IHFg', 'QmwmQ': 'jRl0gMmKNGrWRDBuPRtHDAN9xSi9AzaevunUPpD9qvZD4AE', '엄청나대단해': 'i3qXLPRy3mr6X5FFm3x5QByrOU7-SprDXWDSercV6yXMcQ', '초보원딜러': 'Amk-ITTJLfzQGwHyYZYgitbzwMT2J-ktViPy-GW2JAD_qEE', '암어바내나': '2IPRHYy77LfopT0eamP8nRoeuLLPOx7GPffU5A5KfU5GFxc', 'Quad': 'EISIh_DJY1HsLuw36ic8VzkzKw5nLjFGjon2tAzTOXRoe1A', 'sldjsm': 'KSb2_WJzM9QMnltOJLhuCbCDbCbbmc4vtes6Rpk4Lt3-guI', 'DRX Bleed ': 'MEiFJ4PNecodVqXr9IY2AU-o0z6bmBFzQdfxBubm6ZWKtAM', 'OHwiN': 'I6obInI3Xp0f7oKEvMNby8rGTlaml5mcXdmMK2UFPFKE7z8', '이렐아칼리': 'fsRnAQSPV-3Q2tOuYFXeYRwnUC8t2ipfEoycDa3djX6ktOQ', 'Youtube heeseong': 'AvBJxEu_9mKu3I3UwHO_xc1V0Ry_1jEJ5qsinB35wzB4ecY', 'NoJlhye': 'klgRq-6NVYBIW3DHk7mOcVMe3_yJDokzMkWgvAeAJry8R9A', '온재 밑 율드댕2': '3IVouM8IHcsLD1MukBRDVhK8UFZkChSoX46N3fAOZGeRheU', '뭐야왜저랩': 'FQNnOeQkHqXtLIa5d-9M5rKDMePUzwLSxlfkVmoyPrKxBco', '쉐도우 호프': 'ivYdcVjISVGyUTGZfXarOgCLiTbpSWLSpVfE7Sdyb0gDMaU', 'white Picture': 'bg9m6AdZ_ap0QAIhukNBCkZMbFgr4q7dmuTp56zZTDPJL9E', '둥 잇': 'LcCKMk7bmwgmZdH27M6X55chRYEpiO4Wd3tvleWECD1Cok0', 'Chasy': 'EJ_LC8vkJrmJsakWgcjapREqm24KSHTiZ-C1r1D3owf6sYE', '기억을잃어버리다': '4sefByWZWDzRWeSdwdv5FRbfKBJn7aB_n5hHOwh1AtBkhx0x', '날먹챔프 안함': 'bIdPpweQoycLvjX15o7tv-xbLi53co2Y90-LxcUJ3lZa-WvY', '귀염뽀짝아기도파': 'zA7_OFBc9PLmYvD4W7c_eQjLfK_E5HR0-x98VVseLGUnMec', '얼음 연꽃': 'pguUg2haZ5vX7m9HEPt3pN-J9agHpH1c8EnJqj8eaPDJeOJ_', '승우아니고승후': '0u-2vIZQo1mXjBQNfpslZ9kD9DnLd7-eUdkGyEwlNgSeTCst', 'F1F2F3F4DF': '0e4_UKmRiMFWadDsQ5IQF_yX1utYwtpldtGRbdrh1Ap22iYf', '노쟈기I': '4UNZkZBzoSkXd48M8nu6n2NkDNypY25XOMShfMeudDdCMeEs', '토토는 내새끼': 'BHUhqvKomSgzJwtGeD0OUBQ3D1mBMxm_9_tD-qbRwpC9mcFd', '쵸비루키페이커띵구쇼메이커비디디': 'Z9eLdOESRSI6X2HIVVjIuDEGHVFcNbXadEQmvo31JJCZp1Yw', '레넥톤따먹고싶당': 'SQe6wxBfjsEA0rB4HdVo1uc4-L3DgDdFgtRaXNJaGm-m46Vv', 'iilillliill': '00QB5NdHNGjQseejUf2bPmXvzNgIP3ifV0Y307OqoyIt7qJJ', '꺄꺄루': 'cQNw3kGD7HccTKHihunRWp_FjcV-hAA1deICjUEaMZMY6IU', '예고없이차단': 'KXyznX2MUF6rrvIajGVt5G2xfkzxWLD2yR5Q8341RZGxXJ9C', '주보리식 정글링': 'BCLDelHsLpVF9ODVr-0jwF9w9RGVFkBfgz8s1vK05SjgVYPZ', 'G0LDGUNS': 'J0BuONgt9jP0JLGsN1vhOj_zmYs9NX1gYXMd-KoFlfHjXaQt', '편채연보고싶다': 'K3waZi0h6fLxNUQ6uAPXmqaAXL_d2REJGIqL0tcFBiIS3gPM', 'Dream9': 'sV22YjAltXbK9sIFbMB8yEWrN5xWSNj1_iksrNEOMIy_lVbs', '이상 하 다z': 'Hb93_QW4iJ11QZjyc3rgd-c6u4V4N0jgMF3-visDM3jNjF1C', '둔촌조기축구회축구공도둑병찬': 'qPaftfb4Zx9hI9ncqRcGJYLLyo98eAQsRpbwD1sIGmJ4m6Ij', 'qwezxasd': 'eQZc71-Wsze-jANbOG9rAAaSalTe1r8-jF2ocfMiE7yxMv-g', 'Secret of winter': 'F_yqwNPT8qa9WzcNNKD_ZhA89TjqRrsZm8eRrAMz8xeqrgwW', '19살 낭만': 'cw-3jhUet2MZHjISPm-gLG47VYUeiXiuVHGdd8dxu4LDSnlu', '얼음치킨장사중': 'lNsPK6VBlZeKAUWw4Wki9pvo8wwOF3vJ2Wdurmm5ydOrfq-Y', 'Sa4ng': 'z-tTnEVc4gZNop1-nNNqL4GWFlaFFlZpof7H7CZb29hD_CQq', 'Make Y0U Mind': 'yZK2IAUKtZVAdwO_HU42bK2VqIndTJvvAIyyUEchTXCGT4QJ', '구자담': 'lDX8teZetcOwSiAhobJYjkX-IViZN_PvTvzu30kiqQmtEkwz', '원딜의바나나': 'KmC7c_uUK5z-4NOvlB20BfunPAISMopE1ktjaOLcJ2728h4', '잠 컨': 'FU92qTZ3wkU4roFwBmIG-lu2w5sarl29aWLRZb3BJCi5XzNN', 'che204': 'WHhruLn22UYkefKyXt4rWcIzF2LFgMu2vw-zsmvGqLsNUvWt', '보스턴블루': 'XL8yDcwxgL3Gsyss4FOFGz9na_nD7rQ0JJmsr7uc0-VLlq3I', 'Keias': 'wsFNFnw5fiBQsCbAttUHWPxfh6Qo30cYqNu49oZu2NyU3M3m', '청약철회아이디': 'm69MdWXFL38k7HD3bdUSyAF1BcwC9aKrLtec6LSC3OL5exp_', '산찡쓰': '1wSUn_4_NJYDpNOAaJqDXyO0dLLnU7uZdyOQR5oAaQFYH2V7', 'Kadoy': 'fynTE-v33CT9MoIs0d6S7rpudPYu1jpL8oLIwdEn4uOHUmdN', '언제나 즐기면서': '2uK3piOpwQvQ1rThQPcysXrsFLn86wyAu9SdMWQwyXkYClYI', 'TW Choco': 'JkjUMDlzfw9Ob8CDrtXN4-5WdOiD9qOPURS6XtOqPzjHjKQm', '제영왕자': 'UxNWK88A9MW9ASh5qU2rltebWWrTdqYpvtCyEpL9du__I2QH', '숏레그 먼치킨': 'LClyyFDm0kUnh5llmAjhrKS3W-O_YMs2v2P4qy3qhn0qXBp5', '재밌는 챔 함': 'pY8VETrKPCrdBc_xClL4aInRvImiU_RhIthWv8OPJyXvhWR6', '황혼 우주 자야': 'EkIWFfJRkH9rLCGP5QrECuDie-cOLIEmgnrPKnhFHH6DJVM2', '힘내요 서폿님': 'hvEemrHgYS0kYMRC-tkgCIAdY_XguQOrU7xR80fWB56JazuX', '탑에후퇴란없다': 'K7leRcSVU01cFdkwNCG7r8iSgeEAirxWMyEwxArAUzS15Y7b', '고속연사포바드': 'EnZCRdIR5xCHn-LP9Y36qt3kYtkHlgOF-WT_fi4mzNypHkw', '가렌안한다': 'YAW3_qGB1kJfGVt6qsQGGadsS4LmePdk-3S9RajUm1OUZB0', '죽으면서한다': 'wV9BTU8ylUm3aWtllwFFDY-hfdmKMXiQmum9Jmb1nnIX0fU', '숟꺄락': 'x-oHbrBeSqHJZ87SVS_Pbufp_Y0pp2RBqasYSybhEo-oEIk', '원딜챔으로탑가여': 'gl-7aBQAxrSsuagEKXgkLiSIGs8UOTc1lKEddwvGyqJvmMo', '무지개 하늘 걸어': 'SB1ijv_M6XPGkVGhdDoPE_X4AuC-5mEQaopLk1MwqthMhRQ', '구근머머': 'jSeaj2PBCri_tsctjPmaHX0rfF18wRD-adjLXIgdTaNVF2c', 'MDtv5327129': '3MXoCV5Ijuw_m-RjiIvAzaqchziOW4d4AP9HIdjytD8x1Zs', '병장 이호성': 'NgP1_1bulPo5ckxeV19YXb4TIpiYCSGuLkS7PBKxfjjuvfY', 'IgNar': 'mRzbZ58qQb1tqwBpIbZSe5-eUnD3yZKMqVqxqO6GK7fvyxk', '발가락 분지르기': '9Ex0s16OQJrQ_TON0UbryXVJm8OFBHkbq1R3MhrnbFeKbJ8', 'bdddbbbd': 'l5mI0uZYwrn6dk2vf8pmYf0gooFxA3IqYcXQmCuTIOeNxCc', '미스포츈외길인생': 'TOCYcDgXHa1B-T8a-yQsZX9p8KQ3ZcWugNNruQyOznnVY6s', '야옹히': 'ofOf6UwR1RFhPgnWLznyb57SRdpncRvm1qZUL-2TwmJwOuA', '갈리오 권위자': 'KsY0kCr4lGq5lGmRp94dKlRcufM9pOZRjZOXzSMWe1Fgr8A', 'lol도날드lol': 'ls--vcnbzErejuJUCQ1OGG_lgXJCa7D3vQ-SqbHJRZvJW7Y', '아르타닝': 'MoJkKDKS6IZqinQVOQKithQb54Cih9rAer_EWvTVdFiBQA', 'Riris1': 'mTKUUi6P6dluswIzJXm7C7YnX_DwOuysh5k2O9qlWiFxFg', '권라떼에': 'xSQenOStlnd93E3Foxjt-PV0wzQbM08sZqVrJI2iu_aZQ8E', '빵사와인직아': 'IwPU393zHlOsobl1QyC8uHaFQ8iDiUoGq5zYqpIfFm9j22Q', '숟호신': 'RWYIDMnOiHYSYsZtGRXI4MEejGWR6R1EaAm7szWQ8e5YH4o', '오스기': '-K1PYmk2tkELKv9zOXzfUp4uq1oIxNdqUwYhrEomoaKiS30', '김말국 bb': '_aNYWmJHiliVXRqEUo26Zw_zeIZfcbbek4KaJxl6APXxYg', '미진토끼': '21ncPQxXNqxewGYPXOvRc2mBf4VI-yd9jEHsQOq2O4PV5cE', 'AK는47': 'UrrlsCmXeYh1K7XQ1PD87TMPdXpjwbVdqfFyawdlx3SxnKc', 'Medication': 'LcCCv1Ra4hs3f3nzgxyJ2YEeazqHgmS9FOlrGEINyhlOvzU', '떡상할게': 'RIWi2o1SX4qiRG6J3YWLXnbJrGtiMuZTcwPQxxGHWQq_0t8', 'cchhssaayy': 'C4gYRS7za4emuS5bbgpBKO4xx8Uns1qIb-UXCZROoV6X3kc', 'DWG Ghost': 'VINQWq7Y6_1KJwsN-U9nSZE0f7c0ddDOKD3tNnkDTrqpLSY', '에르메스 정글': 'XL9jqeCqbAREzBXOk8v2tEPpEv_FIT86kuYBNBzQzFf9Wsc', '탑딜러': '4a2lM0GSXwC-h_KTxJNCkHsEz56FYkUuFEsQzPyEEcYj1GI', 'xiaoyuq': '1-7ZF_mMBtVc-90Z17LTNHG4s7dp4eozK1DYGh6foZkb7Q', '다없수실': 'lsoH1fA5ZLlTMGrW7wawbbk4Oyis7CqgC4MNH3wwM_RRaxs', 'Mage Supporter ': 'w1K9JBRIy39BiKXnWahYjG-j2u4UG4iKAZagc9_UnQGbqxM', '기능장 서폿': 'esBU1xzeH6kvsQ9x62TRxd1QbofkG4cLRUkGgDSUR2qDoGc', 'Yosul': 'fhs3w99pSPPP5l7EiioFDRW9I9LPirTxgUWyf7nQrsfFWQ', 'personay': 'TraZWmJplBgbSjb8G_MJdHxrTbnl3GroXIb2eTMYTGcg8g', 'gtqeti023': 'rD8pchNIxm4n7FMoDVpY6qtV0E-5TqtkhSkY6gkGil2XIS8', '안 헌': 'a6ZMGLDnFX5DG97e2AX8AVqR0gm9Y6R8cnDBzxCkVfBQ3g', 'ZacSUN': 'JmvkB_8MIgt22WFMic6Ph1F8SzH82kmqA31aJCnsFIpvEw', 'DEULDEUL': 'FOdv3NILbxiV-WKk-OAWaPN7U_W5snxRJRWkxe2quZZsWA', '도선규': 'OeqyyKjOyReZj8kUxc9-nDNByI6Ml61zAjXTQrAHC15SsV8', '이 기 다': 'k1L_1DpANxqu1Hrhb74alpOqosypc4_4-S0ymxjw_JLBaiE', '의리신뢰희망승리': 'kclqxpdOGWypduqCFHdLHnsiRoLu9Z6eYAjcNH8fFEzJhY8', '으르러어엉': 'n6jRXpxLTSwaWFogfb05dWzvcUipG1sgW-qfDiqG3pp_6wA', '카타리나 이': '5IISA-WXV5dT1gdV0KXVsjG8pGdKl_LPcxWhQ2qhUQd_M9A', 'Mr 문': 'TKFyssd4qhzpYaJS5jqqbMsUa_6gBr5GAeFMiWq3nIrKKA', '다이아 망령': 'LlJJY4pghLu7MgazrbwRe-sLWv7mHT2Ot3bngLc_b1i4lw', '미란다': 'Nslp67LDbvWjHF_JXAs5-DWYwRe1Dkec2AKYAPcbdvGDQhE', 'Dalun': 'ArRSIyh5l9jk3Xu3zxgZfXmbCmiVbGfLWDHcayf0R1nXt2Y', '너구리 돌아와': 'JOflqQMyY-Mk_PoIb2uq-TAkJIQbRmUzRWVLhLcVVDg_Jjw', 'evil evol': 'IGlX0aU7va6TZQiYQxjlcax_2Wwu_7ZRk0Hvcbnw3kvld-o', 'C9 Reven': '-rRBqB2ibdmCE6psjq2oVM2ctVTr31aT0POS1PQMxAD6KlU', '칼 퇴 근': 'tSuVaWZvw42dIpHnvkDe_ycLhxjNrEh7kHdhsvAr-caz38w', '이정현 fans': 'rcAjs078Y8lJbe0WgclF6WFdkTmBPpziIizTyLpkQ1b93eA', '유미장인강형욱': 's92SBfinxj1gjn-IDcpSQS1xmuFLXHALaeQKtNouI4CdkA', 'Type9763': 'mYj8NpJyGLoGwGMCzOHWqnVRwXshnu4M5A2aotPOoZU59VM', '고수달': 'gApJ7idW5YY-sseJ7VqIeEZaB-ih5hqjmMkwNE1bYZxIFAE', '쇼쵸표여': 'sTeVRLSbEQtjgj2QVwD2vM5B3q5iX8ZCz2Es03Z_gqYkXfY', 'Im모탈': '0xSbXV9iBR8TwESZGry9CXBVSRGgf-K2KNiWtgEvBMiUiw', '블루시티동굴': 'cXeW4nPeRyZfFIh2pJBHtMdbwMAaUqesWsECfamKG62NxA', '03o614': 'XPP4zDB0C8BMa7ZHEcu3W1ivuXYivri3oSJculyomhe8RII', '김법신': 'oKMdgl7sUKbAzxe8uBsqqx69wssXVaAIxbehM1xHt3t25AU', '수련지옥': 'rPImrpHkqosHRC5KQRWddlv63qgj3HfCmCDhbcG5rmRb4Q', '허락보다쉬운용서': '0UFheXtqN8bNty6cZPby9N8zSKrqTnvIBpkOVY11sKuhbSo', '22젠지우승': 'lugawxflwXAMZqMFBe5sVp__kEErJaV4y3Z6Zu3tYfqkgw8', 'Seo Young Min': 'EBe9Ss9WeWyssmX0j0bVP-pTGArG3eUZ65ertSbmRBrsaHE', '환뀨환의머리털': '6p2hIXYYYOOWfypianLe7n-6lZ9t9wJ3ddpjbB9hQRrogw', '놀 토': 'fL87kXAxjDJqFHpifsFZCLepIT6nmBJT1d0h1-gPIXaiCMs', '김 쇼 빈': '8fpaB81zg3I1dlKLxkahQd167Gjroh2hAUlnk96aNdioe3M', '엔마왓슨': 'Pr2jWdxYQnEntDnMfZUu8QeO_uTh8kSfZT5COIe4-yIpGvw', '옹 마': 'BAtWX2Cib4lQeddmM3rcoP3uIMuSrmNBF3IoqLQz6_Q7Jg', '평타가맛있는남자': '45RBzKlgQPthIYj8SHE4akvgQ68VBzwwQ4Dd2kWQiVgpGl8', '니가지켜볼때까지': 'xxrI6ixcWjliexDdQrWXZ7XGe63aqT5jU8Qts4oE0Bi99UM', '허슬 안하는 원딜': 'YOh9yHvQOPnWPnsxkGN-syV73AjiAuUszli9-zeF3zGfiVg', '아우넬리온 솔': 'F4_KXTtkF8Ls-agfoHc8WTIhB0TwOT9QeTFwcgh1l_7PJ-c', '멍우몽우': 'Z7mzFel4uAWddnGGoQa4ftRzvARqpS59tSNAO5dZP2G9Qw', '장단점': 'e90mk4mpnXnt9VnKtVY-RNzIIZ4VMCKArWlabG85oRPqg8I', '크르르릉2': 'LcQjf-wWXHWCRUmN8TzzRlmH59eMU_n1wGWO-_42zoWv2i4', '순둥이 정상수': 'EF2LjHVjDBSALOd9DH7Mw1kt68y3hlVhTKg8DNjFoy5KCiA', '마시엇때': 'Okt6ElM5X5kJkyumOfB7xzmfxG7zjChMglh9m9ikSzBb8Q', 'Naehyun': '5KlIQs2OhOV3JWSOo_FEr-96TQt59kZb5P5iIfhNBL2Zsw', '고민상담사김영환': 'aZZUPcBOw_jP08xZmfiCa8ERlgbXplclf8gkhr4Xwgn1e9c', '아 늘': 'pjAZwYyNnul4O34oqqEJzzefjPYlNfvx_Bj-fHGZjgM4yMc', '지성0153': 'scmZsRlmJKpU8h81rWeFEcKG3N4tYqRBDkDOS7ZLxDFHlcU', 'qiqiguaiguaii': '-mr6Xvv5yyXkpzSlNA4d_rU4JNbw178LOJdNIZlftVIZnck', '마루 가다랑어포': 'WfE0rrwAtrkn0AnES9z8EbaS4LgBZ4OyfMEI_h65FyWySGw', 'WMNMMN': 'cksj8plV88C0hNw9NF6mCCHNSOls2tAH4tkO7rGqDWDu7zo', '돌모아이': 'mY-6O37TvuPO6Ro22nTVbVcLfPVvkYSqRhd3_YEcOIY7Gg', 'Jennie1113': 'n6M3smp53kmZPkpa_K7rs84x-C6FOeMJtyPA7BLVELSpZKcPTrL1O7VUMQ', 'Axiao': 'TSPFciVbmp1AiOVEYKidlhe-PpTWugjrg8df5J-8M11sJNseCWFkfQeMlQ', '하뭉이내끄': '2YkZQ6UwrIc5iHdqVJKiURzLfVuCwiGNJ_wcPc2CQEZ5Q2Q', '초보양학러': 'oSgiecSfref9lVIaJ1y5l3TLk-WHEFEsyUGIDrhP-gWO86zAy1X5PDdvpA', '낭만닥터피터슨': 'piuNn8SjE6JJjO8WOIxRivKqDM4fl7P1N2PkCUiIrIajdkj4Aqboy0mNkw', '마체테쥠돌잔치때': 'BQr3ZVocCJ8jzzL9UTzZ-9Vc5_9z8fuO2woo9itQi7lvkjt3ff0liZSpkQ', '밍 별': 'nF8kLpsvB0cmtCnA2OKbDSZvScVdQKbtocmHmBpUW28kVI7D1nxTA-tIhw', '버프줘바': '4VOf9aV1fETQcJlN5nNUSUFCfr2BYTr8fsJ3t1B9DtaPSbQvCZ6JnHwUJg', 'Iras': 'h18lmfqNhRIxgYWC1PmziofMSLEuHQ1o_6B0gIAFWsn5F9jcwduYVVC8mQ', 'wk3oi5hjkaoi': 'AcVL59I8bJqKMv7bI6oesuyymMsvb9jT5cJxgcb97zaifjt5q6Mafpen0Q', 'NS Carim': 'xms92_YHhd8dSGco5tFTTQf6PDKeB9YDgqVG7Mb3_6Bn5Bm2vpO_rkDo7A', '고3모쏠히키롤창': 'NowHS9GwNTXWbcDXCkALpgU1jIOYZi-gaSV-tbciYqHybpsXlGTK7l-_Tg', '소원누나 이쁘다': '8ifXCMlV0WLlc7f0RUgayoPOI1OStI8JC3p_Tte6oWmkMfIz7_hnihhczg', '라인전이기면패배': 'B5lAm3eEce2COM5Pc2xVUvThVD-bbdkl2GN-RxT-gD1O5kJJxYdbx34rBA', '제때에즐기다': 'FfoNb4mioZ45dpE6m55KnfROlPqbWQc2ScnlewTJcMBLqDveWXR_NnmR6g', 'FM야스오': 'EK5xBXUOn7URj22CR83wajLBAwMJQA_M6BLpbhDFOp0xm2qw54ePWQl91Q', '돈많으면세계정복': 'tO8ORKx7TaCjo6fHQ887VcLNyQFkPR7_i5xHCDjzIFAxAhflJYS_yrzsDw', 'deokdan': 'q9XDSuUe6i3gNOQpgoIeYw_gYLGhRL05CQRhyDLMu7__RSmgmi9T3hG-Ww', '우디르': 'MA7g5fAXqyNBngJeBowhhiTmh-RCyFC_faIdDUoyavV67IQocaLyGv1TKg', '24시간 멍때리기': 'W66sh_zLrlT2ag758iYG3JRQBlrZkuzZJExDSnS4OyRpKy75Hnj3F_aVuA', 'Bing sir': 'Z_T66SGS6GH38XnkI1Qq1K4lIacq-MP2HCzG0Q-Yu9tZ9-7G6V1EoD65aw', 'DK Saint': 'W_gGVlfaBXSRrZneqh_R5a3fSJWmarwtf6naOcYKZ1vqPiZ8Yey_mnYoTg', 'Emilia half elf': 'nluXNwShKa1bTpMzIXW-vWQ-60MAZRO8h2YMpE2o8dqVTxh0iD3WQV_7jQ', '그누링': 'FR-vRmI3mv6FFxGgVfvhBhejXd-sipOD2noWC-yPuc9Bjsk', '카이사만해버리기': 'ET5_83fbnY80CQoSUYrB6oQP86RY6YVDbXdNcIF4KgjfcnouTnDt3-qcQw', '고딩물소대장': 'q8UQ3VfORinfcPlZO8W5DUBD7w2tuXkWWdciPhKr4RSADZZ8Vw5rc3jy4A', 'JUG242SH': 'q1nZ_VGjaOFwhPqv8JqxGM9Bg68MTuzdYL7XpiMwWjBxlw76SS8NbE4CDg', 'LSB Courage': 'UTSNzuSdSStiEu6DhHiRshQOLsUmh5c2bAO3qKJXGO_UnyVMKd6x7qjrtQ', '세이버1': 'B41BiuqmOnMFEUfLHVkLyvXAes4kUhldoPKNfQTqbzbr4qsTlebwN5qIzA', 'qqqaaazzz': 'pgH_TciOcwBUkPEcOsVFtx-ZmMiS2EEayniD5coYekH4bJahj7lYWSCBUQ', 'tu gou yi tiao': 'PGkGhaQISt8VpZs1AkTg_jPaydM2SM0ZHHtzTZcjBNgrSsyJz9yauqt90Q', '프로가꿈인소년': '5DO1OwHbQZV4J94ZNuq-LAvJWxBCJNKj00PetXVrNVHTjGw5vyhvJXR8ow', 'Season12fighting': 'egSyB7Q0GhIPFiMju1PSzB93KvWvJVODfkzN13C7ciVM36Bnpx6RJvKKXA', 'i손나은i': '4gsoI_SzTgUoygHOs5pz_eipDHsubdhM6E0sM36a4cX7bJRlQMPzgjcYPw', '내안의흑렴용': '6o6yAdTprJ8Gn2ODUH3vRNJWSOsCQrro1M3DsJYRocauDqs', 'CameIo Anthony': '8tX5mmyTc1OcwyQm4lvNAWwzmOSNv7F6cJgerpk99Qfv9ne6jRdvwuJoMQ', 'Wintebear': 'QTghpYz8iBgxfuKcwGl0ki2WDgEwnkBf5FFVskMiLG2GysZdkmAAabbXgA', 'ludeshenxian': 'hpneAGe8FJd7s5NBI1LsIs54o3TJXcRWbQjFzk3DeQbGrJhv42iaQKno8g', 'shangdan ligui': 'VkcypEkZm0p4dTvaH7SIN9WPvSQBeBtgw__jp5iq_0W6uRJ72TkzhILSgA', '항복하지 마라': '0r1nTgkIo9-5szRqRu-LPPnWcZCFbkkF-ALmK_D_HWf4-xzn1wU2aCLe8Q', '옆동산외계인': 'aBuMOBH8GSIysVyGKoTEERpaM70AtfB3DnzRIjgbQsAb5oND1-IA2aIchw', 'Yagao': 'XE6fzQcsfEcbMU7VGGGWt60mWc1Oez-2RTEgHCjCkMAJkAaCBDiGb1qvvw', '10hao': 'OJEtX3gbnY5ZGlNKdyQHc3BJ3vXJjrt_zaofnOuZAo5EzuAGzehc3h5AJA', 'wow ohhhhhhhh': 'lF_PRVXSEcFpkCKKpsQHR_EStUY21nsVD0r3jo02mxrrRFfFGEAb6O4Utg', 'wulongcha': 'Wec2EE90SKmoI57shmSaay319nix9EbzrsLHgm6IEYT9yDWaa2n8AQfubQ', 'linlinqqq': '8ovFIW7caUMB578QYNz-6LyFKT8EuPfa5ViS2JzJrr3moJ4d8YVi3dB4lg', 'blingbling1': 'rrBW4VpkBwi7vH61JHMNHR59o9vptI-yuXCUzRwyMbP5WWKZaz9zD1gqwg', '하필칭찬다받': 'OM_eO5tQ9JLYLiqDNkZ4JSCi3wPgUF-MdT4ZpR9HcghttQoYz0cDeEuqHw', 'snmyj': 'zew-s7ajhqLh7Pm9DZvwByjajFHz5bT4rDzvX0oCenL5fgOPIpapSCmOPw', 'me wanna win': '3qZ0MIqsEqHmLq4g5RzgqmM2ltFvJyecuNJ6nmLrOLbz_4yWcPOMOD_ZOg', '123241198321': 'dWgB8BJMKW5wzwQJJFprqiK1KYMci5or-XsD2me8zQpJ7J9CmXtLNb5P8A', 'huangqing': 'y_q9Xfh63myLCuk4DFZ0kj9gSw1Ci_0Oup7FRfVW4L3NVQGG0v9c_1GqEA', 'snow moon4': 'Ns2YE_i4zetmJw-tbJ4skh-7LMy2-LmNHYfPIGcp67I4bCJrxD6oDPMhhw', 'Easylove1': '9zr0IyapwI9p35dhfwV0YCP1dswx_sGB8W7S7kgFJVh8lY5FSdV0xY6Jmw', 'DNK01': 'Qw4cJ7yqF-iQv3fz6FYgXqo7AIIcWYKcgDNsM7r3qyeMC1loXxddsIXzmw', 'ADCCCCCCC': 'xaK3nPaTqIqHltt1PHUrjZ_VJJRvKXU2sV8ID16k382_9Sg0lUTBpYE-1A', 'asdasddsadsa': 'BKkpDo50ANnIzwYEBKC37PdCbkHeHRASbQug63tH7w5dLn8067rSjko5gg', '28 08 2001': '0dyYRPgLoo1F0iEHL6dhLv8Qy0LDuxCwKB-Uuhm9beLXC9_rNqHvNsCmVA', 'Calw down bro': 'YWwNrQHbfj1BjQw71-Yoon_QLP_ZjjWF0ew12FaMpQuLPN1Y-rbO05-VFA', 'a lost boy': 'OooJURhamfVTqaMcDMB_GZ0ovB2f8eJLXUuI-WHePsPCV3AAmD9pjEIlLg', 'u do it': '1ll1sCWB33usfOWx2pqNd3AJYpXkZ79y2h9x3AXhhkVztFxhByt8FDZkZA', 'ye tai chang': '-4-i5bPXyzL4au6MW3z3dqxW2vhI6Fvmlz2IZ_6ohmZKflwG1RUgFo1h_Q', 'Gen G Poo': 'PQJHBnyM0Ox9XcT9h4ySkR-fPOqAPoAGNjsEZheM6aVWFxr-pexrNW1WSA', 'KT R JGL': 'Fel9Pxy_sgcn-1LbKjF9_8-LtVCMxH1b3COn2oEt7UF_N_owYbFPNaOjAA', '05 11 20': 'cczlfFHAzJ-p0CvbDmyttNRe-X_p8sSqYNRP_7DsBJprioAcp9dE27NNBA', 'wuyongdabang': 'Er_dXDb1sASH1I2ueepqM23SDLt4Hb7CTqIizvaVc1pB9YpdT9ritGkCmw', '우와우우와우': 'wo2_FHLLDKw-borGZ1WCPYLdIfKBrxuJW-2bjiJUDVBl-agXV7yHBfoeIQ', 'zhenderlp': 'TovV1aTwkv1aEPuCJr--xhbwCxZDCKHlaHuEVlK48T00JlMWXDjt7HKdAQ', '더성숙한': 'KiwX6-_JIv0I-BQ2W2sWiUfHjmG9ucNLLVpmYY0AInxT0XJifiL7YZR-bQ', 'valar morghu1is': 'qHQUU_JQxkpU4maYFGdHTkEncKXl_6D4tArpFz0MV5tHC3K3i-PrA1gYIA', '1o rm4': 'n40nE0zqvupocpNgFrxL-kSdv4eJxuGnvcEh3v0YoheDk-6awZCZHIGcdA', 'sui ji ying bian': 'AKt8SKMVXxINk4LOj3_mMdBc0y7CDqki63Bcpinao2TDXi27VJ96G6DkTg', 'Le4per': '7diIV3j6JBGdMyVuWHQcQTPVt9FHkEyu1PfTcgA0hZzIaCA-A-4bXiuTnQ', 'li gong xiao zi': 'wozJJ5v0xX9pBfQn98PiUMNgRKJh7yWduq0RRkvZkPVBITjGW8gea1FQPQ', 'IlllllIlIlIIl': 'feyO9-XfvvWocgJ-d5EPgrg-C__YBnqpbFvXtTspxVi1DJdqBE8PFn7_eA', 'dont help me': 'VoD-P6Lpm0yAl-st1Go4ukuuEMrCnKjSAsHDu2R3E0AnNCvlIijXZw3uhQ', 'LSB AD1Top': 'uxkoxIZen9VYoxvCN6-VDve-MMZPGxYJ9Vmb9R1HP-LggsxrJBhfjryODw', 'shenzhenshaoye': '5BbqO5asADBl04HmFAU1CKZ74PVaBF3j2S0k7Jtr1kX1FTq9NwZrCtP_Kg', 'Yohvy': 'P8F0Jj3m0eJeCos74Cms3UxyQ8t-wGYCOzz9iU7SHm1oO0KLxmFUAWjz_w', '전광공석화': '8ozbrE-KNYrTbSaXBIAPWngXkLhNertUz5MyUM8dQc-kEnkFnMOqP5-8RQ', 'oyasimi': 'sOHbdbik08KhNm2f9hmqhVs6WdSiHld3VaLUOt_ycq6w1_df-fbA1KmRgw', 'tao tian zhi shi': 'VKOp30ooJRiCLzI7sTEMJnMEE_Oqwr-tCavchW1JsDegYOyBui8Sf_VrEg', 'hua di wei lao': '1M8XCjVL2lpe-pYO5C0CjIc-IL6mwRLfb2-J2ty6bUB5IO8oMF7OZ3XUNw', '추녀 네즈코': 'UmTtbmNEyAPBLhUKKCn0KKfyNjIwUhj8tV2hY5QT6E7gwyHmgNTIiYVMXw', 'yesdong': 'lMPwJgseaB56WlKMFOQ3h6m5T-gPH8_4xhIMg5PNm99ffdekvvl582IJVA', 'Dispel haze': 'C__xrnAVBTBIKq8uRIkbS-WglPWThT_W3Dgd4tEDU-gO31Uws3Q6gK2-eg', 'L1f': 'yYX2UWxcQfVU_AQnTka0GDMvjOBZqoBy9wR9SMErFqDrLR8bJQwUnCWyKA', 'yue xiang yue qi': 'H_2l0xUnVAABq41-SJPzT-tJOs1a2Q8s_hYfAwB0_QrwAarsXt50kEfBbw', 'juzi jialiao': 'uyGXA-JB8QZXdqZJLfwA_i0HLoO3WCzCBZs_QVUYZDIiz9NqrWQUtusnJQ', '매일 어지러워': 'wjX6shoGnywduaJm2BIJApX9QwO7lgaaFE0Lklg9bsWFwswqrlxU6MilPQ', 'Seize the day11': 'qnD-9ric_RLe0SWF5a4nXKSXfSo-U0VagxyMtNXlkDszHWNSIJ1EB9_l3Q', '카비몬': 'GyIYVeWFRElE9wjUDT_kbTXMLAnhx08FCQMtNBq7kZLmjkUlHQwHi6XyaA', '도망한때심장': 'yTIkKsykNNWKY_2RTejvLmKld6zRzX_7LYNseM6RXmmYjhMjdu_Hbgxabw', '여름의 망령': 'hxqWL7aT0ztjEIqgq7b99Nf3HCDklAvnnKWvITeCuu9bI-tB_tlq_PYMpg', 'Capper': 'UGJILEyCS7_RnEWbR_svRSZs2jv_d-xJG0_ksrmAz37xIRcJXEg2dPAeXQ', 'xiaochouguo': 'mZzQv67rWYbOORBhiI2AfcqwCo0Mzcc1_hJmV_ugtfq7sn7tYKTZlvFAGg', '초반만버티자1': 'P4S3bPNM1gn755X8UJTeWVAvPRKQ-jffPYN-A1agKcuzd3hz4ihTsujzPg', 'ggttlplp002': 'ljMKNtr8txfkjhYD_AuGBb6VD6bUtWGaQh4aStJMtrPD2SSIgzEJOg4EjA', 'Dont Stop Me': 'KoaOVXU_8YgTlK5fD45h8r136qUXyft2A2pQltxdv30AmkO3CrJrgJjDOA', '채팅X 생각하세요': 'O-_SVXwHpH48K96E5jXgbDSYac1S4nSIcMHeX6VwdfHwQVmxadWsX78jyw', 'AP 샤코 AP Shaco': 'TLeJikjh3M3-1WGKkWaJZFbvYsxgDDt7k2VajG0HpFNXeJjdE5fkUNdLpw', '토킁이': 'wI38X9IZLGwe7uLYA67iDEhIONrFvrED0QdQRI4gg7JcnlBxWvmD2qbq2A', 'qwertyuioasd': 'Ik-6oGMEPYioqKHG0nUFrBLUTQfjalzmvXpO0N5ek5yXC1lkdiChZgaHDw', 'yuan liang wo': 'FvgshZgrR6cepZCSgCxI9pSV-GZjACABkK9vNTgZOh9YvprOH-qz6haHRQ', 'unknown mid zz': 'u74CNGbT9Zj8cUbLXKa2mxLQ3l7D5yIinZiHDvYLfvMbb4w_48o2vB2GNA', '나의파트라슈': 'FaOIgXVxDDVLuzmn2QiozE0N3incLNEwr3CUA0RfPOQqk7arPqIEcXdK3Q', '정글차이를극복중': 'v-stACkMtLuQSLQiFcUiGI3WkF8sJf12a-W2e_izLLKzzVq1sgc7e4HFeA', 'Fat Tiger': 'g7CnMfJuaDz-tpIaUrh22PTOgKb7AfwTWK9dvaraTTIAtZ8ijZq8pjn_LA', 'ggArmi': 'kZenFPNXfK8al8aPlWIVt-RKIjExGLfN1aLUOh8n3jLGtLdg4l5NOk7pmA', '2019BLGJAlielie': 'IwhQCrU9DwwiwZRvsfSa5o8CHoIxe3t-DOnn3DIkUSF8doIgPCTjP_9fDQ', 'Adiogs': 'epzS2Iz0TAFWvkk4Xyo_E8Vh7UbbNCsCz-o1IkLex9hC4Kccymsu5qWDXQ', 'Tao Bi Hei Ye': 'Mo43DY7C7gX19Y3f8j-HhdwP8TUvZf8oTceUGLsxrTlcINB2tGFoAxldUA', 'jiangu0qiang': 'csfgaoYOjl1LViWduI6b8v1U1U4CTQQ05e1rwD2PHnxNCNaehUO1K7oTKw', 'AF Rose': '5Bzck7TZWu9UZqNfhyLvOg98cu8jSA3Le-JGk4sky8SI5etOVmbUKU4luQ', 'Hachiya Kinu': '8gc3uMO4tOc8EioWt7QqXx3uKlzJGv0URARRrHAifuDdN5IfIAMHFdEH_A', 'Karinaaa': 'ZxaAcJpPbi8seEo7xKIumvCXneYWy4CQa4KO8X2W37mQqdwqyzn4bEvYFQ', 'wodexinhaolen': 'ZpNG8sbdpWkj72byxd8BblDzDb3fcPUo7xsPYtWwI-HXI1MneL5p9o_9Aw', 'Pill0w Talk': 'BCC0s9VBsoRvUpmh0nOvaSAlZ9qew-kJo_rCAbbpKFINcB6jBJPWHKN-Ug', '김잡초': '4ow0eszjqsIjuP-LS7rW9GoRsKS3AB93Zv9frpw3yBfGN9zzHrbUIiCNNw', '어제보다간절하게': 'LDs7mwhDgLJjHSpgzDt8DWjQprns_4jgFAto-TtGj5CaLVCMZHXg91eq2g', '농심 바이탈': 'B7q2Tbv7DmvZS9_6FWlcXlLpo-HRnTUUYBVs0GGfM4ULee5TyDTsc3Ux0g', 'A JINU F': 'afg-r88Ee7sLOC_69zEiLBbayNO1RC4r6oL63ViHrQn2oa-U4Y3pfoxC7g', '못먹어요': 'GfZAzpFNgnsqIwqwjhyIG_cRj8P1p-cGo92Cm4ogtn7njO3t-dgL2j41VA', '유성에 소원': 'd85iAN2YAgKZXyYqafQiSJNZLZQTU5Iqz2JKk2xfvbNAEKciEQe8eKuN1w', 'LSB Prince': 'ZfW1j1D9TGlcTGEmVjMh0i8S3oZbxp2TPZOJXc39fFTjLjgo0Q3yFxvbPA', 'tybaby': 'hl0wpwOclSfYXnMw6JAw32nhJmRJIBcIDQccaLKL_Ux1wumJqI47hQ4ubw', '심 맹': '2Hg_nCTlXJbCOfQDRewbAOq2CDl6LYDdbKZuCbld1qRo5zMPqBBWgzv6EQ', 'jin dong he': '_OAlRLfb9mG8RjZ9Od2r7uWXfIK_ac02KgK5-f9jeJovwlKkcx4y-28QFg', 'xiaojiajia': 'ZXGOgWacY46-FvEhCarCk3oVAIVa7C7a_OW__BV6QxSAdbH81F9PgLfsAQ', 'zxbaby': 'BXIey2jiKSa8HvilEhyZQgxkh_RV40zwxv44axCcbl86PWXrehZNOEGiyA', 'gnuoy nuj os': '-1Au-6Wso-VOwOTivO-v5uR15QCKVhgfTYnZRmaatwaYNQdAMydAGW11KA', '이도류': 'EgL0uGeysSWxruWRr6LSmvYOo_wU405rfedbpl5wBNTFnTo', 'sn top': 'rL-lcFkj_bjtjOjSFV2IncZSBAlXDntj8ZQF9VjAbRHkJokDeJDj8kK9SA', '또 닷지네': 'kE7CdknuNSHiFDjZkaLK4CQNN0-KO1G_fplcXdBkwi21-FexEi1QkqfnuA', 'scy19980304': 'W_rDj11oh_QqwR2AjkcZa4ty6lF1_wMuO49nJ0facspdtXyCQ2360K5IjA', 'pyke k1ng': 'uAiLPARAriaBqXFEX8k23eadDMqRQKJL7yIGwev7Eey1VmO06Q3t8kUOrg', '미엄캣': 'IDTLD3NR5Gp80nLK_bxzFnuBxRQbovBZIW7WOyTR6BjQzMNh75qcx7hcqA', '98kiw': 'tFMvjAeeodORe0u5SIX6LitnTsy3D7ffNxQSmb7SXbMFIuJfWVA1RJPZYg', '이가은': '3wJPzUdEjYtWkAgcHWBQlGSlN2hPz-d9r__wNcUaXYkwTEtD9oJL-Oq8rw', '기 멘': 'nKKJybHGbtpG3csrt1mSyCkjESqlW8Yhdrr47yHwcSSpc6HYrtrkaekn6g', 'chan9': '4Q6XZKxDqK21HqtkYiE0nW-2RZgmj0gLB3ejlu73WyD9EhWTnq3ZE9eRww', '신 맵': '61Pvkwjuvlfloshyttmtcmo0K9AFQPKHaaAFhJOfAIKcrK9fFyRzMLF9lg', 'big peaches': 'LZIPRqjIymCN0mGgXKeUhBnLzyEwUle2CszfaE5XWPThnQ4FfcQALHOJ8A', '개롭히디망': 'kpPkBDI1Y-lKx1Q03py0W-V0rc6i-ldIGuSrUTYPTGJUj9jaOz_YvYMlyQ', 'nhty': 'kpidytL-njV9-5jUlmhWdDA6mKl6wnRJgQf-px_DaNS1ZpQ6Nl2KK8gnwg', '나 지금 힘들어': '6U09PAbomZCB40pS0KHl4J79-ZLt30rk7sZhT8DDkUJWG9QKO_as8FbJpg', '잘할래요1': 'BpMIFFxKCRJ8HlQXMOkz9s_Eng0iWG7yaE2FIA7OgaqptAPx2CBF7bCHew', 'emo god': 'zy3YZeB9kspinsM0pDQExh_qdoQIyO6mLuwWG8PCsbwsTF8-o5KvyrMq-g', '이세개아이돌': 'Rvbe56ONTOK6Nbc6wl7b3hOU7sksFp7HrjanIlsYyf4MBRNASXN-MlNe2g', 'TOPGOD12': 'wKIeGW541PosqW0N8XRaP-dprzv061Cd1HYwTVMdkyQHIOG3nJjPQaIoYA', '너와 내사이에 은하수를 만들어': 'tjqUW72fCCmvRZKnsIcW7c_ptRXWAmDtAH_NXOfA-UZ2Ft7p92BeqkZ7xA', '아이유백예린치즈': 'ZSOGqLj3C59G-Mu_l8YCean4Iho8TYMCtt0ujWXRndBdXql6s9sOQCGG6g', 'Jg Gaper': 'M-z2oOz4Rje5tn509Bc6MgPhbGOlVmUJXVn-GrnOfnwUAEiZFk2g7xBeNQ', '저 징짜 못해요': '0ZMLVagMKcBIkHuqzTUsCgKMjr19IylIIE6I9fX6-Pz4l7ElGfviEX9OvA', 'Today0326': 'pH0GWy98tyYhntB28nKrKqyJC-EQkMPbKJzXDjobsTpwMQ1r6mtB8Vq0Zg', 'Aespa 윈터여보': 'y_pSmG1LRyXhNuRRhp_uutdB21iXEbtL6dae0Pbu81FVlhhTbVfMXN1ZaQ', '라인전을곁들인': 'F4WeI5a8Apxa2yHOYNRPpVGomQDNIJhtTKw-FcJkXYcHdT5HW_9smUyy9Q', 'Zhaozhiyue': 'HKzJyekt24X-gGDYn3fTbbfBcM6KOgb88kfGKS3dMMK_kmrOtXp7FawwoQ', 'wo shi fe1 wu': '6TPDEvO6nomSECfM0IERf4XzjluXlZ_S9VDL-RpEZMo77Spsaybhwt_OUQ', 'CasTella Lips': 'S5hUh_h6ki4Ej8oANyFGC2txs_tn52aoy7YwnpEJ27RENgtAbKRQvz3H_g', '평화로운 행동대장 에그타르트': 'Q-yMg8nQQ5LxEMz6913bLypqCzsvtKz-7lNCvXaLB3X9BKh0HufBMO1_7Q', 'Chen wei t1ng': '-rAwv-1eIJSPQexBaURvWkIXGxhrTlhTCwgxtNwmlhoC8kAWlh4F15eNXA', 'M64': 'wM6Jrnn6lplghfMlCis80LkXY6-7Dp8xkazOoAfUq00AEFMjhfnFM5X4dA', '05탑봐줘응애': 'MsAmx3_g_mS9415OFiHh-CBCFz7XULg95MyELlpjVk__fkTSIv1K5GdxEA', 'pql': 'ogXlmMksCGdnjgvcx08w1QGpJQ1WNJHXbbr5adHufyfgifr7nWZ7_sLZyg', '첼까지닉변안함': 'QOyHrHm0xoeBSIHSZ1jmXHW18MjQ3nKiJ0ALiLu94xhHSkOPDS5SRqEQow', 'Fighting RyuK': 'MO9G0l-GoebYPDGjBrwJ7DT4nQNd-H-fXyWz1at1STQLMBpOf1XVJlcYZg', 'kxwqf': 'MuR1yDHL9C1--Nm6jrek7wk0uYJxFCVLsk4f6PuDOM9YpGTddegAUdD9Lw', '놀기너무힘들어': 'KwG0aqwlccKbhOGEAzc81HeRqwv1ch5ceAeG4SY9evDLQl0gnn9436hkww', 'Ultraman T1ga': 'TVCMQLYS2PGFB9z7Nl2J1d-H2PDXu3vYjtsc-6Pvh6K3Q0jgWs8b1gjZxg', 'gfsafsaff': 'HM9-Roe4W3tLEj_WYtBrckxV99q3U54wqRSDSvi4Nk4G6zgy3Dzt0Cq0mw', '샤코ban plz': 'vR5oqSRMs5QbSxeizUtgLtC2LE32IqbsqacWBWxPkEj3AN3id5-6SPP9fA', '솔로다리우스': 'rsGpltK2Gr9ozWe3gFqXEi2xgUXAVS8vbGptMQoVRUhX9jHBYwnXEsuH6A', 'emna': 'JNWDhzYnv5NHWCG8S8MMtG_lqHvCLv3o_HWGfKZDfuofrB3ftMlYaymprw', 'after rain1 ': 'S2o19OmVFzR8iOne_yofvm6W8YhZOSVTx6f9Lp42OdbzJjy0NR4CdT0Kzg', '77GameZting': 'nZf-6hcItjgKCcsnbbiQlCItI8htUOG34mjCcHmgcBwkXqeHHOqGcRtapw', 'BEARIVER': 'PPN6akPX_aCLnZ5y8wcSo0isMAj_lSgG70l3o2HK1VPVLzaUCvtXlPW5Yg', 'JUNGIE GOD 12': 'i43v7RR1XnnfzK6pj0gOECoO-OkHux7AAcfERHYsBGcT_t_Oy6AvxS9O1g', 'woxiangzhuanqian': 'hnf7i52_Fa8_N_pvihQt5NAX8FHkbdjhBP2yM7ok5tl98i0Hi9RwgjDFmg', 'azmklernsdfv n4k': '1ZbnUFPb4_xppK_ZiuTA9RuuuEs06JsPyCkbW10MLeI3yCsrGk1kOs4FnA', 'Shadow Rabblt': '9-jopH43IRnA8PsQTs5Ma4hmTxSzFFbqnGV1RhGdY1Y787c5YATemEM2dg', '호감 에서 나오다': 'i2giRDyNeMWW0LRBmbItMSLBQjjBMiIowq3-cv4R2lE_pluIinypI50yyQ', '05년생 서폿고수': 'T0Vsr4u4-qpd5B8O1Tw-oeRsAvkqX_LkCW_rSsNiYbrRllvg3bOwXVNz0g', '부들부들중인가요': 'KyY_zNvXHacBlzyrTmyNRErNIkfHNbMa2dHxaxwQYUNIwBt7I1LB5g7XUg', 'youtube 정글지혁': 'xV9INc-voJCdBct0Fk2rRSGUWDaSGTvNrAXdpUfkEFwwRcrmzioL5iDOcQ', 'Satsa': 'NZYThB2ffAcciKB1qlRakYrUfNdyLFaZqxepSM4haRJBRwRdsUzH9_Y-KQ', 'asdzxcvbnm': 'WOAS8hpEHle4vNKlOI3tre2L6yq5IJWprWoduvxFElrxDXyHfK3Kp_N6MQ', '꿀열매먹고보자': 'MIw5ozrFLH2LT7MvHEZ6n5WS_Nd1_aKLjjrYPztBvKoKWm0N2vTiLWs5Ug', 'xihuanyouyou': 'GqnID585rX932CyMspg4IrTO12iEc-dzdytTST1yMLdRtMX-axJjo8gpLw', '옥수수찡': 'ofV2sh9RcPwNHKFx2IEpzjWNtyRRG5Kp_rwXPe2Np02n-BzabuPGReI8Ew', '더잘해져야해': '9J2NxyLtCRP6P-bVaScCJocGmxw3ImeWl-aPZ6GVkRp3fpE8YbxMNMA5yQ', '흔해빠진원딜로세계최강': 'Ps93IAe4SfOReHVZtxB4AXl1m8cDR_6y_d5-3JAC9ipYWJZqDdxCpcXjqg', 'acbaacaa': 'SSURs0zY6hIII8UWV1o9py3yWwrEb4tOpQwVntuYxSJiBaYA74h9rorJmg', '허스킹': 'iTXGRmmGPRcJ5Xf67zABeMT4grfHVytgzuVzzoA3z3YDIkPmKCecjp3X0Q', 'save1': 'dABcf3PmTtBVW-FtVVzeQ_QYkMrbUP_SpGj3W_wFyO0Stji1M-69wDfLXA', 'M24kiu': 'viT8XMqCIRLMy0OXSeb0fOGqbpUyzwDpkg3qLnCeTyzGVCXMXkvDux5pRA', 'Only go Support': '6lU8g1lb_VYOoFicIfquhVWUwb1yaG9rjTfJiAJa_p4E73L_EG4JvkxWpQ', 'Daisy thy': 'hX_ZJDgYDZfLHextUvOV1ZtaCObya4k6EeWvUwcnQcw2Qy6gGoFVh0iUvw', '선비누나 fan': 'x61bVsPi9nk_AvmO_b4VZnOHwl-CvrBeLUG_FSLAaBKnyByKBIPBDjUYmA', '호나우지헌': 'EUiw93JXVIZVMuRY52LisI5yzRCKLOTUP-apZuIxonw3pA45KcdEORJMNg', '185cm82kg': '789sRJ0jE0xVxCLrjc3uwSh1fzRraZuqbuwk4ExFU6UFCdenr0OcN4iBrQ', 'Let TTi Grab': 'n9Yu0hqw_9DQctKjqwAgs2wlVtAp-8GCSGEwqZO0IZmoypuCZn11oA9DLA', 'JianXlan': '0W6mhpnGXKtg2EUQIjqJTbrHVaed0yI-c_ZaEBCe3j67guQ7a5qZ9qhtnQ', '2준Min': 'PxoyOeA2wmhK67Kr22NjboiD42rchGgWscjQtSLXdXXGicc3cCV6NLIAzQ', 'fo nu huo lian': 'STbW6d8efDdJoOEKHPZy6pwah-JOnKWCd57UPGi3mFQZnDBZBVhWebN_HA', 'Aredbb': 'pSxht4STrdFgpP2y-bH5iWoftJasYFGqXP1ZyR13-3FI_uimpEaFi-absQ', '전지적 1인칭': '0UJ9XotyyrmmHPZz4yc7gIV7xw2PF_Fh5LAJADtvmjbMMFA7GkYwqgSx_A', '좋은 점 ': 'BHiBNry0Z1m_w5yERdLLHOIhhvAJSQZFZdm1FF59wBg-7rtCCgcU-NGfMA', '주 리3': 'yWoq-IcmjJbu_Wsqlnb8liMyr2SvIyTCNmNz1AzrYEa4cUXG2EbIN2sx6g', 'grinder': 'yYl8_5lV8Pv6G9ORW4TH1EIPILOqzNMl6hyfS83Bm_0gzMKBO-dekuQHTg', '재드킹': 'HD_A8Ea0R75pcJqaXptpQvzmwCfMtl9diV6OjCQdga2Sf_NdvpLXrI0s0A', 'EI OV': 'eva3Su0HRJZAmO3mKR8-H1E9BSoBr3leW9XpOtVbMoXtMmTtnz5U7VlOIQ', '화려한 솔로킬': 'IKMo9BR91bNFJ1BfAHad6Kcv-difIJH-nnOH6HeB-LYzGSnM9esa53XvTA', '혼자 돌림': 'L_mQsAil_VGMBPA-kjznQuQhg-hIcj62sTyQzaPlapOAsqXnOjfBvuwb4A', '다리고십어': '6na7P098hrbV2Vkjk1S-4bJxarWfSqanw4-svGSegh9hmjs', 'is world end': 'm4zg_Lz4npsqOOMT-RZIjC1HOj-7gWc7N1CY5jVsIsA6fQFDeM8mJ-gSzw', 'liuxingyu': '0-tp9_n8fGc8v9uwuaMxIeH9Kzvc4z3h9YSPHA7NEMHVyLRIID9wGHJ5Fg', 'Euphorbia': 'mpOnMktiwI6BGJL77NKA6IWEcQLwS0MmM4nDKYocvGg8Z2n0ZhzFtS1GKA', 'Tangyuando': 'tOmqJLrelw5zwGEFwk4nQ7ztRW4wLRXUSxf4_omf60QKHsFCiGlplZrZ7Q', '나제비': 'xS3CJ3gm4UtCryWBbi8MTS5etXI3G7CEb6TeWOn67SKgjnVdF7hAOM2sNg', 'Waiting for ahug': 'NefNYwNk_8gHcL8x3HkcEALpigsDtqB83YrgFFUktrsyTT6AdzaLGkTPSQ', 'adin': 'txUa6_uF5wdwpXPFRbuIVIIa4PMyhjFW4emi44Rb9LBpRPCFmRVohBG6MQ', 'adasdasdfaf': 'G845wRqI5XgCQfz1vChBjIGiSJlVpntzLsnXy9lT3Uc6at80FKTGVg5Juw', 'chericherry': 'l5p-stHaDMlnDXuFkf33QZEkWxKUDVY29h2U_Y0I6v0zfy0hmDiiwhS6SQ', '냥냥공주': 'IRTaTFRzxQcxfYmUIGsPC3XECgynnPBoUbaVxyogHGzdMo71bl0w2moPag', '정글그브픽은오픈': 'XZ9HC_KM9ph1QJYeUwBdXdth7YWAQVtK2jb8bYT1nwTugwzKjoKqjGR7kg', '만련고성': '8KtKApWYKfdv6kmMUYFwqQiKrFl7ER-5J5ujWQ_gYOxnv5BXP1fNj0HIIQ', 'KEEP DOlNG': 'ORN51w77Tm1V_pbvOqKD__uE9JENc-J7M74WgoCcPsYiQfWIg1HpGRrDBQ', 'b1ggieee': 'zrYH5dj1URG7z8fYXfDHkaoeUag3g3md8Lr3k0QVYSEne3PHztlH7DeQDA', 'Factory': 'VKTEGzhq2IODrJfJ8WB8YPcuSZ7uEbvHhYYbCyOgo7_3m3kFyw_qgg7CiQ', 'caIm game': 'oQd-J82fmwOMiKHX3PXR6XEW38pqK8SC9LJJD17qmZrYCqcu_jsgy-rIsA', 'ci jian wu sheng': 'o0Lx5J4HBlMA9C7ZgIXiPwaasfe91DSxamgAxQR_cRxiFwj0kWCujs-EAg', 'coward2': 'Tr84LGhYkfQANJLUEIHU8O6l744UQtgnDuLRICH6Z8FjlPEIEzbgJhXROg', 'luo9': 'Jlk6R0yiJO-qjm5pOYOrbXLTVMTLMaOR-MCn07_jjFgeB9fLqeex9oCEqA', 'Fairyxy': 'BsOGxDZAsJqHPvv_pJy288mNXdhYl1ReNaid60J-3fcnA5cQfHtipsxkig', 'Suuuuumin': 'MAFtivKxbjXGkU6TWyyKtfA8VL50a9sE04mQNqTJJ889Sfs', 'psss': 'QxSzVBJv___51oboFCsfph_1MdxExXC-BftefuKy9gEv5_VdCmYgg3e0KQ', 'CHYOOO': 's76tVK_medgJgF8pXy6MjXEKfN5iRhja9ujnRaEr3une_7pgHbHS-az4Ng', 'USER013f970d': 'eaFqeQkuDumUMadfRkpLPd7AGHLnF-P2MbgOAZp-39cJqW1AjnIymhM1jA', 'ekd83827fuco393u': 'Cp1NrJfoLIwguQaRCyESEL3NZR80q-0oJWZzvCTprBedhKL4p3kcuu_04Q', '난 무조건 잘 돼': 'XFcC859t35oghIqQsqMhOsIRtR9MCcIVLkuqgMe6PuJwauzmlXbrh7XbJA', '파리바게트초코빵': 'sRKS8gN_yAaOCC33qF4SaJNfMYjUULTY4PWCwOzK6pPqvNsR4BogU22o-w', '내동선은완벽': '2jHwdIujRc87YdqQEefB4hWUJs2wbvhqcXEbwkmKHA-nL_cqYQ5N7i62xw', '가수 정승환': 'y_Uzs2hLAeD67dbsKuWhOPJ6JYClsGlZr75pjOb6Q9EYGE4', '유튜브헝구': 'ACscmXxSXFFUMXjRlt6EMzeXlDvemWRMLxptkRAbu5kyqs0LWU0FFHIz1Q', 'lure heart': '8f0Ebg_wGi7R21dQQdgoEG-Cx51Haexq-lHv4Xpbq0c0zIEJVzGlRvznJw', 'TalonQiyana ban': 'NS22m_boh3CxAzEvIpAf9WPdBdrh-b86XGrSHhesD19O2y0VtNnX7BH_oA', '의 태': 'NqofGlj6jDRDY7uNf5DDL9nYSJ8sTPEoQa0jODRrQqa_EfmT_i7hIdGIFQ', '스미쿠쿠치이카논': 'ydZsrDVpntuVCVWJiRvMHfDg6arvHUp24xF-ViLWFyks4j2JR0ErfjuQuA', 'deokdam Fan': '-GA2EQLBQxBc333CLFG5uqNbz3r4azsJGIEzgahQyE1tjvnnY8qu5PPqTg', 'XuQ': 'KHGdA4cvT6fg_u1-rmO_nk2Rp2cO-zI_uSuSp41dCJmIvc4G-mDKIVm8dw', 'wywy': 'i2jnsqScyUJxbG5mQRBYttrD-BflwNaXtXFJuLbK0TXovFFlBFBmZgjgww', '2005 Keria ': 'fI77GmdaCfb_iN4y3jhGj_o-YrGX2guqIFDIfAuYZ-bNADqa8kZLJngvlw', 'Hierba Mala': 'ARDFMFmxS9kx2hCXCDREao86o4KLkCPb41FvsxLki4cw8aVwfG7N9cPpRg', '도마뱀크면 공룡': 'K7Alveqz7Vxsbd7Giu6OUIqoaEgfl2wjutonLu6r67_AH12aOrAQGHzZVQ', 'Makise Kurisu yo': 'Uth-ebLW5YQu1mRokqAv8R9yIoMV96qu2RJJPvij4jNGJZW3DkKUzeHOjA', '유튜브 두태식TV': 'fk8rcBfn0dPeRxdZtcWmsWX_qA3xnAfbkKKyMMy_nVhDXOMiguIDHQ5arw', 'f3ehf9u3qhgp9': 'mWC9pYL3KcEFOB-kxqt7KKa6zIFSa3yGu8DqvtARsmaynXhacUpWgTe2CA', '소통안함올뮤트': 'z5q3jMRA02iR_8872yiC3qvMyOKF88bI9wwnqHQ-IO26DA', '네게 맑아라': 'kIIHVpilEOlvqRuVnL51QU6OUVeKr-_N6xBP34-cH38mThP4m4l06o8IQw', 'AAABBBCCC 3': 'SqONMW5wJZpYCUuKHPTY7cHnAABPbs0BFcFlz6Cjr0BGHt_ChOSoeb0-HQ', 'woshixiaohanbao': 'ZtdEJzUsKzRyKU9g5nAXwpG7rIwVLdKmTuS1Ncu_UfGqUwLXJf3R1ptmjQ', 'KAKAROT22': '11KSKEqz4JcapSqogkQNwnb3C5kT5TwVqVgeZ4I5qWQeDiAlZn-TQ8HbiQ', 'hot6더킹파워': 't3UcRsvJXwQ1kbXqhGi5T0LL7YA1wy3GpfmIjyLfGe9oEpV-uPJQEmosKw', 'whfzdrhwjn': 'EsWKKXo5Rhr5Pnz-oEffwY2cs4h7cvZk_urdt1KfpE2Ay6N80CpHsMKwvQ', 'IGqxz1378038730': 'rweBiCaO80iuLQfUkh0-flyiL1fCfgMJwntcMwq4wPu7hPVEOfyZapxGhw', '리 space 신': 'v39e5xFdxQdumz0nQ3OAXEcwYOWvG5rV3jckJcjrueZXr_u21m6tOFYGNA', '수돗물로지새던밤': '2fOyjzOpqA_BpGZaTCPfuDQeLbQPoOQmR1kXirqjcKhpRqqdbh36SVlgHg', '티끌모아태산1': 'qJ1AYbf4nMM1pW1WC_InM5GiRvcgpCRJDE8QPdxcS2ugqwEEiyOuOnvGdA', '4x6jg': '334NzCwwwEroeL1WDgK7dPo6PRo11uOrmrVQrMUdE1Fo89qV8osVSeRB5Q', 'Heg Heng': 'e13sR0dX46bB6nca2SQXBJzlfROVuOgffL8CS5tqJYaM3fd8TzRAVEd0eA', '가을 하늘은 맑다': 'npXbo9zbspJPKu3LJh6wssE8hs66CPV_KQ1HXObllAo_IZ4', '석짱의피지컬': '_HyiTwLKqf7ad0wKSHMlmrWHyI5mb7KdKZ_SRJkJSA02nQVzRGquGcW-RQ', 'Zorah': 'wQvUfxye0tZCsurHAuFica0Be_ZVHm-SaCcwaQTpI93WwMYVuvkT-HVMpA', 'Wodexinhaolengz': 'TGKpylBZD6TEtVnD2D9J0DoE3zPO40Ob0sJNn_fjAO-HpF4ByfCSoGRZ-Q', 'MIDGOD 14': 'c2J1Gr2GZR1_uV_Pld05Ah5xFs0ePxeV5FRhS0qyj3yco_W273J1dP-ehg', 'sanspareil SV ': 'Fzc7G2wr1eJqmcJmFhOL848cGlFNuHJ4CpevtVGx5XSoaFAtNcP9BkQPdA', 'ya03': '_7Fvq96TvFoX-XE_eGN_ZVZZxELzIfzLxkTaG08uyEXeHJ0HoV-39y6SVQ', 'jrejke': 'yYhkWZ6OSmmhuoaAbJ7XcVd58DgMYLWPsaA2o8CkYT8DGSsUXtc5plq-2w', 'Ahnananananan': 'ca2MxuR0yUT4E0Bj-uig-99RYEVPZVzAQCvCq685z9PILJbMHNl4cKqDtw', 'qian li lu': 'tJ6MwyGB948Ny5MyETIMWq-AKmRZwdVjm72wsgwwhkGuiAv5Hgr0aQDx5g', 'BT ILLUSION': 'alUN9Hy6IV8QiwyfyjTtLoGiZehNEZnkSaC7koWok6JkvZcqcYk1FDn04w', 'ke bao': '7yH-0ZuissSk9cJVa7Aa7jbOPQSTOadL_s7x1dxBhMG6qNiTS_oPxoq4QQ', '민주누나pretty': 'ZtwYFzVWHCfqs5wRKWNr7TOdyrkkq3Y5yDhf2yW1oXgSfRog9_M4Non4Yg', '따 예': 'ovUDg6QT3t-a1ISbt7bUJfxQMbmysIFfzXJ2VXnla6fh_AfnfZRyoVhxgg', 'acet5': 'jIYItS6xxMH36s9kuYTxfofNZrCaOcOZPXWU2SoSxaYSYw9DZCVhW3iVuw', 'JokerHan': 'S5TWMPq6JW9Ef3-J2N6LSgoCgn1d8JXAXRBO61IMBFXvbrGMdmkhCA9Vvg', 'cancan': 'tOG3C_2Vzdi-GD-bdik4BQdquDfwMtYrPzp8amnlv-GZv3nRy1DZZKS0zg', '쇼메보다카타잘함': 'mS2OjkH871f0FCcjfISfA1yV5jwCNzapf_HzJV_Ty6Lia2FMOJSX-Lu45Q', '콤보용': '3YAqEfejztstP0HoSy1biE5vipIKNZ9mlL2vMZlCtWwzlw1ruK8DPKgSbQ', '싫다고해짜나요': 'tQmcoNBKcwXLUlW-VYpognDdRe40Ck9wGuK3dvCn-eeNCPN2-Aq3lH0Qlw', '비챤 누나 사랑해': 'QvurtcSlJUI8lpP73HvovaKMGVkhpnOENlgmDH6ztYeZsV9xSgYSLkYtBg', '점 프': 'LUQX-0FlaHPHhfM3fgV0XjdNFr199XDGzYhvBy0wUZDQiP9v0MXpKNoChw', 'pig1': 'AgfjEvef5_lZ4qokajy2BmSeihZ4Y-Beef3UdRiO3xvFSICy_DvQrQi8WQ', 'iop02': '9jWUVNyrYpDH5qV_j7zmLahQTpS3k1UOngvFSO1rihxxXubJOK4VaJ6fjw', 'ru long': 'dSLkRyIpNIzJ_jKUEk0ZQGj3RaBP7aC712b58m-GGRAeRZ93kvCa4MWfMw', '챌전까지연애안함': 'uWsVyTJB4vJK-_S-p2HAMI1nt2z3am7zX5O4NG8ykzES7EpZq_CSwGuTqA', 'twitch 응애정훈': 'UvUuNa2LyR44RkkARy3Yl0zF_9jP4bEAAQ0I9_LEAMNJqOqfBgixX3-lQQ', 'shulejiushiadgap': 'ypV6CAEfTwI1G141cOvuAYV5ZObWDdEmq9bwYVAtwJ6QDuuwEX2vErqx9g', 'Xia mi': 'qs6TzsEGNJkrSc6LxqaxvAsmreA19ZdASYjpCye0YHbXgQUynDryypJQGQ', 'Maddz': 'noncyE4LVakLfIiZnVYMWRbF4IVu06qrVCZ49Ugqxnf-e5woywPsnl96eg', '잠실 여우': 'cpqPTF90up1FiwZs8nOyxMRbwhCVHDN2LJ4eYUeDbNKf14HhwSxWC-1ddQ', '쮜 재': '96TDHQi2zkjDghwAAyZwxd3e8TMDkkeRPb2P5Lj2LGl9joJdYvsMos7-EA', 'MIDIKING': 'Yntq0BC0gp5AGSbthb44gQN04tfqUHECK5MkVp271KCqjHlF-32XAsUkMw', 'shuigehaojiao': 'TPQ83RJ9sK6ZspeQV6SjUM0AhGUg1mAcX7rze65dl-9FJzFSL-mc6QdWDQ', '쿨 감 제 드': 'e_yN0d_9GEZ1kSfTh8_BMjnQHuZJuadoTg8ZoT16AQfKuxRJaBKR-974cA', '1 year left': 'VKRrhINj3vrFlqnBT7DsVkgNQ6J26RvlsO3LUP4AtjNCy_NxkokDLe-VNA', '영원할 순 없을까': 'Vquv7zoUoxFJ4DxwsUUTS29qHHnpa8cVN_NF1RPEL-9jXtvtr2AhVO0BKg', '찬덩2': 'O_TZ0jBdm6CigL1OO8zJrdO40yMti0RMzinorUNYCA3UmwFk9bwNbEqjug', 'Night Candy': 'bSS7ih-VwJ1w8jZszmVaJiQdjIT3OoHkvg9If-9w7Nux54VaeFI7i8ncaQ', '못할수도있지 너희는 항상잘하니': 'FwtMKBtojNsvQRPvWVXTR-d6GtZRyUVT6sZqHrmBwP83Cof0TB9dLbex_g', 'I Love Rookie': 'e8u8FEf5Eys3oqDvwwU-8xSfboKyxbYdFGim1DHEvfBWGjpCBoVR7lVzEw', 'weinengxiangyong': 'N8dR4RXdjgwuyisCs37rG183AizyxuY0OnrZC0xGesHWTAtswuPav5D2Vg', '콜라z': 'JrTSs0-C1QQKL15BM0o25o8XdjuwT4cKxDlqxJvAPdzc7Eu5a5ehVgaHCA', 'wo mei jiu le': 'bpG8eE625c7v7aYCbEpBpkBz6-9Bd3-RygraeeMMCss7WU5kRni4OxjUPQ', 'Cony': 'hzwrozr-PYRPUhRYa_UpH3woUmXG7P5rUbjFRGGHPNvBwuU', '1vO': 'AwAceaSsp5rkSiM2pr2u2YTbCjok3r0s6otkRIoQxnTNuQFmWbk3movWtw', '43번': 'RgrGp5affIBbLpjQvLCUlhbhyd7nPac6rSCWIMb1hjNDzvVxTNSFXsJ0pA', 'ohhwarm': 'Btwpa1x35Upp-sM83AQPTvPKMIkxQu1TJ3uNEEJS444Zh95ubZf2GBfZ3Q', 'jinghuashuiyue1': '_3-utFCjR2ke0xutKlF1lyB3GjeLPF-7umsl83ul0mPfhxrPppTCr_ENFQ', '오세현대단하다': 'kDcuICth6WCy9lHWBLRwY7iBVFtDOSFD9xyJkHYkCt4PaFGvnn9rrLZ9Yg', '어른답게행동': 'zLKMpJDFsKfxHClFHWtvi9V9iudRgKG9qBLZ3VKRaOXUcvJlMmK64ma2_A', '너나잘해 소울아': 'PzC3zAxS52HhPj7vnhr6FpZs6FSFAIpZXpPw0gBBfYnHL1bOlBT5T1oBZg', 'Sorry But I cant': '_A5ndC9ENnxT9QtlxuAfAR-ddMlwR0RiFuvqvBQpRDhs7KwAVYbUfICDSQ', '토 뇨': 'IL56cKKBsCzPT4swrQj2z5z1vS8qULqFFA2bgp3xi8IiojueHQIEUFUj5Q', 'qqqwwwaaar': 'VL-RImMu6KRVYwlbbZ0SLsAo7NInFmBQZ9G7TgI5PaRZfvmr8sgC_gN8IA', '염 대 킹': 'nQ7y9bugVDmuUrjryWEmqF2zT5IGzrD8W4oiQaPZNzfbaNXvTHDwpZVJ7g', 'coer': 'yXdcEQHsXzF0wuPu_MnNKC7ijqmd2tGniQEB0OnvO-s82vqoyKsklhXOUw', 'thxTnT': 'KHumBvYcHO_UFbxpzN-MkA6IYbvDACmY5KOOHfn5-c_nHca0_RwIlV1EZQ', 'xichuwangwai': 'CT1UcgfCwvoz0BXdJeWnhTJWyQxLgOsPwhs0aXZyurekmdJnF9Oqv5Vgsw', '박종우도파페이커': 'TpvQcY7XkZ4zA7AAJea4Opb6i6sGRVKiLQiRUaL1I7px--A', '최선을다해서하자': 'JCXYORGxyLkuYOM8fFydfDkoWGMPI-nSCjYTDV3TN6ntAa8', 'Heyst': 'PM6cfCMtagApeUy3Li2LL2u3akjNrwV-KYsey47GZiiy3y8', 'rnaster Yi': 'JFZ4CQdVuHEImDbXdxwFrZeZ3wgffEalOH58ED2yGAjf_kI', 'L Y': 'cMkdzsA2NbdaGj-x4bV4naH3Eil2m45B3I8ri8yk-pkDIbU', '레넥톤 장인': 'iSLVYd6Yr5CC75AaOpnXCUZDvo5aHxZOi83SwN-mSSFkXoU', 'DangerousBoy ady': 'AuK82X2S0CzlBnR-78Eq1KXb8Ibnb91S8A5Rf6pUmCHFX-4', '철통밥': 'WF--3czUzug1AGIHhgdd8eHHjeO8J3V1mV2eEu0zxnAtoUk', '잼잼갓': 'YWBaEom2fbUidZZNVubcSjK_6psUpgN0dmzPlmFxsyYErjw', 'Shiranai': 'aIjyKwOUDl5xY-onGf0kW-WYpuvyjIttDKi2bwQyvgPHo9Q', '속 구': 'hBl9A5dqT-t8_nS3LXwXxAV69YIT66cEohA8s9IGX5th7fI', '지누누': 'a8IaiAkgP9OmlZEuc8PwHd90dmlxp4WLaYCAPzh3d97HC8I', '고래피자': 'ZtJspj9maIt_XKMizS8yovyg0rLhreyUKNwWnL0iLN_8B_s', '징징문': 'hNjh_gvAyagBzKHwcIibXW9G5dFJDuPEPEhRBFpDjzgs0RY', '게 걸': '34P1EJTkZKrLnMthLUaeWuEq4NyXsgJ_z02jEKdGMbPVG7M', '달고승턱이': 'BDUhI2AJJBoO_C6F0njTqfRBVO9ht_loVBRIItFCGDT8DfE', '간다라쿤다': '3ZzSPdxaKd-G_XN_HNeh4itqDpb_kaUd0QKMO2Fdrbll60I', '최일수': 'fLnC5U9gA6fwmNmWhOL7zgCKldbPKqr0GW0vrYVrSr_dmTc', '한남 이상훈': 'QAmKyVkR6KcxhN-AJ8A6d4SU-e65sKPq5Lo9fQhS411mzlY', '원딜아로밍감버텨': 'OvAopJjkKhhjEHUmgAeJ0Ljj6Dwb3M9OCQMEZZvla1_xoqc', '카in': 'velFIrW3ce5nyVQ6DmZTUm_4_jHpsN3ZJq6XNiYa5enyZY4', '농심 사또밥': 'DQTE77l-VNfu8i-drI0onokgT6kzdK5ujoVyn5yjnbt-c0E', '내가알아서함제발': 'OXpNxsnmxwZu9uCUxmjRG9MU6T8yj6ZP8r3xubjXtbWTs9s', '카카오배그': 'hFVhLxhrtRyY06BwGft32jcL4kcSTWDJ_1ILLue_W8jqkA', '맛있는거만줘': 'yY1Q2TskyL9SQvaJJ8gRimK9YJMLWEZNTHooUImPMkFgjYE', '티 란 데': '4yK3WnkKsMHu7roWvlwjkQUFmfQ7ulfHs9xyJ791rzItBag', 'Pick Me Elise': 'BbtXjD5aUeC587zHdLV0vjLpaaxc6o9cZHMFSpN_VDNyhg', 'Try xD': 'qP2AHSpWoeHJDSk0Ls3OxZrVjccP3VvtA4pCYSMAUXAg3UQ', '차려진밥상뒤엎기': 'LGaISDoVzUy7Rf8o3HWiN7AmvWlNOtcKBvSeCXLDDrUt3FI', '리그오브레전드ll': '-ZVV6X7EqYWlZJHLRFylovuV2R12NhDvOonAS9Q2JeqWCQ', '암흑의 별 세나': 'sboe9qOKogXWgX-Wf9i5fSBkXKdd-GccK2TyZm_yHASaOSM', 'Gan Niu': 'Y4NBDTFDEy86MTebgiRqgUcWF32MnAoNmKS1fuyl7_jPqqc', 'zhaohui shili': 'f0PVX8iUdZJnNQgoHxfjie5tE3_EOP28Byhza_fMiTk4aF4', '김눌엉': 'f11kgjo4w9hYJXkmSGcMUKjGVYHHdXnxHnZXxl42-sx3rQ', '킬먹으면 짱구': 'E8m3bD9mXH9pUEBUXb4yfpuVWp8OKswZ7V-4TTTpceP78Ak', '아칼리할게요': 'aGZfJ3xPgpSMeoibhTMA_HXnkB_jxwZ6GV7dfQWnRrZ9EFU', '동 슐': 'amrlVY5kwiHLgbUZf1ltqqbCR2o6VD-vPgk0ga8yZzmh6Ws', '럭키 그마 정글러': 'hkc4LIfqoV4fZblR4ah96xsS6xD9naNs3Z_CSBxRikS_pPQ', '어쩔 예후 ': 'ts5Ga5Gb5zq8sTKcnvaA_PxvI8uWrhKN8XM0vs3PMIFKODk', 'BT Khan fan': '3nExXDwWxoqfTbwrKVp8CsuRrLpD8361mVhW456c5B_AHBo', '카 랑': 'k5GRvD7NJbLgk0aDIl1aKsOxZ9n4jyi_gpUQ_Dm6liEHawc', '우리집 개 현준이': 'jK_VSPpn_XF0jpaZe5uPISADTyH_Gr7zMUPLaHrAfn4SA28', '박규열': 'tKnTyckQpT_HBTrjpA8bolLUXsTVCqoyirVp97iv60RMXg', 'incheon meat': 'QqAI6zMcqyieJlxNOEfTxP7ZfVfJfwTnm3EkGsHVU7wqg0w', 'FisH95': 'O3osMCTvrb4KykHLQLQcvoCyuqFEYFwc6Cj-q86_sYfelw', '크린손': 'mvb7Jc4uhv0qp_yJplb6rYlzMcl8prjSBHum7otDPMiQ3_M', 'enrage1': '8tylbcBIzAzJ27wS0cluyq9fp-DY4N4wiiSUZDnKelZ1j_w', '새침한 뚜기': 'UpWk-r1Ve8ehmNfqgGVASkRLsoV7IM-dF193kPst6CyDQA', '강남환자김지호': 'RG3VA8qVZ0z5D0cYMoPPIpotwYRCApweUwys4HNjQjnJhzs', 'geunnnnnnnnn': 'JMdvtgiUk0hv7qWAg7IVFamLaMTWIGnym5dzDJGRX-BFcVw', '한설여우': 'BIqi8i0mOb_KTQoipXODdAQ_HZ1Tgf9hWOeJIXzKOPh-6N0', 'Got your Heart': 'ur-jUhBOVa58R0A5dDUBUJzPcXfh_YdfnG9RkPrCnPQIW24', '89년생 이유희': '0yHvEMkKayw6Y8cwJqWfZr7K2gzAwicPXK0_s0gYo_7fdb8', '그대가함께라면': 'UPksbNC-rwebkN5X3EmhZAWW8Jx6rPJCjnH6e5UN7v58PqU', '갓똥꼬': 'KSJ5Byeu8i5O_-DpiOnYt1weaLQv3PHclq2aO0zHZQEFzQg', '웅오레': 'lQZ3F-2tkmMHnCOKu6Q3plMYIPbjTHrI32jDBFEEYQ9SNA', '후쿠시마산꽃게': 'GOwg0cU3VB9MvmqGkx0Q6qYrwBX2mX1R8zKV4oD1CMOq5g', 'Shadow Ming9': 'RFiJdmZEkurBXaJ3Q7n2NpXmTu3_GhzRgYQ8R4H1XuB_EEw', '그대와둘이서': '4V3eNbDmugkC5gf_-OX4Ap1bGtASHMyx7CnwIpbtkJ2aCdA', '타 숟': 'pRdP7wKEjpJRO2-VyMJR56tMUNR5H0GmYLGBJKyfpXyqolg', '썬스타': 'ULclVMlXyM_GWc2iP01lpEDhibQPDDeVvCdUWQhpRQ7dmg', 'level': 'XyQgOCZYs1YUEVSV71SItWZBviXhPB7SnL6MKenXwIEug2I', '건대부고': '-63zkSDrcpdKs2DjlQCLrb7AFUOtwZfzq_z-n5mkV3EJ8Q', 'LaPerm': 'ihzX-JgSmBWOMZhVl9PHbaMADf0WsRzUwdMqbPHvREkxEYA', '순단무': 'CSufu5uaIxGglue6wPV-dM2wNbJTvwGVFrTBWyeHf43UEK8', '단백질도둑박종우': 'MaCMz8dhzyz3SFr2Kyaf9jiy64Uw6eCqtLdfcjpYfvvsOZs', '달달하구여': 'dhrBJJMaTYUyA1Dqj0QnwOgP2FV4pYq7byTSBcJ2zhvDzxg', 'mysha': 'orkBU00WYTDR-cGYVb5xLi_uIhLXBbC9Y10fh0-qM5P2IA', 'papillae': 'd3TFbaoDJ4D0pXYsg4rRy1PrPFkAHojKDNaT62A6BgkGE4A', '내라인좀와라정글': '4Xg1AQZmjo0NaAeGnpXrsFUVKsuh0CP_vEWUUCmJEDLIdTI', 'IRIDESCNT': 'kzDD_wlX5qsKH_egjLt2kKSmvRi6kMUhQ5tK5SBd0wpMW40', 'KuKuD': 'rJ0i-yNKvTmP_mY5eYZSQm5EUHta7xSCXfLOcnB__4FZDQ', '미치강히': 'P34OkRG01YZBneiLM90mm12Un8za3V75p7VUVpRdOLQxjgc', '인생목표한남더힐': 'KZ0Ff8FVKd3f8JIP1Rbz-erDsxPzPhQoE10Jx-loWAVs-n8', 'smilezyq': 'VbRzZbnvOpB0jFyTFnjKCn1J2K0Bb1re1eP4rxr85vsVHkM', '튼튼껍질 청소부': 'Fl6rF8cHdL_-WSY0__0P7y-RIGa-dnazlck6uXZVaHoheB0', 'BJ 망치부인': 'OdCIrNJxBtbpz895zupGRtSWJv1yKi7p2CPLgUTXBUrWDFM', '내일이 오면1': 'wkwF0udJ6pV8T7qvaM-4zSszM3Rke2NPsYyNEXvmMDJflX8', '독 니': 'OP8ToRhxLVgm8PxqkNz3OCKfZ3PKWjog1dv3nym3uYbOf9o', 'skuzhiwanjiaOwO': 'bEbvQBbDgOXXNw0NIUFAH8KXVPkB0LJg3EcnS2ZXEBtvidQ', '메구밍 도적단': 'N2WhpTO8yeChgs8_fsOL4ElDhl2H6mAN8nMiNrSR4502oXw', '날 도구라고 불러': 'mIyzxQuqVDctmmSvZFMdMYpEk-Uw2Y8hKfTJtTAYj9YkIg', '블리츠크랭크': 'ZmaIgr5fuEeb-_c2KpybRumXZbG6Pq2hiVu7QhnRGtoywA', '일산먹깨비': '60a-xPrEdOfByHscMO7fl4sr6gnqsyrtIfbRkTBxWqb5WkI', '매판 예민한 사람': 'v_gcNB5FIt2B5m1_oHadY2pl7KFkxorrjqnASUKj0NE8LK0', 'Taidimantou': '-fr6WHG5sPb3HwhXyHrEBzYzSpqCq49NSVSg9Rhag3p5HyM', 'Castellan ': 'T7CbWUZZ8EAscJ6zMIILTtur9KUwkpDs8ntRGMoHC-HU3mE', '파 고': 'B3HabvSJY-UH21oGBNqrVvGUPhN_qKP4aA5wWhPYSYCe7lk', '어린이즈': 'YmrxOoDpIVMRrnY9MIdblN7ZA0dt91mVdxh5Z0wOOv0tdC8', '루나어린이': '2hLo6TRPqiEr1S9cn1ELZ0u1W3TZJSAtLjGuBU61n2lsmoE', '히얀이리': 'kD92Ut45NEqLyf5yBJC4CQQm9bza0zXS0x4rUqBBCpxFWP0', 'ITCE': 'VVD3459wqqxuC1fZoDwWKM2kwzJyQDR_6Tcal014v29zhbQ', 'yukee': 'AGFM-W-01-DWUfxn8_BzFOswPj7mKCegfwRXZFIruLudpRk', 'KR Capoo': 'ZxDY1Z83cUva5VxnBMbJTTOXk8ToMhvkQ3VZIZ-bzOw-tAI', 'Ereve': 'ioC0doml6lCokkQcnThK0GWbU8e8R9QgExzJwgCQeF4qKiQ', '하고싶은챔함': 'aYYj4BbcRuyzp5tZh7bB8nf6VMvxQkR9VJ7WdMrHtOCR7FQ', '푸 얌': 'Ui1ljNp5c1vu-RLcjKAlCmEAA_vUej4Q77Z15zsJNsPGnyU', 'Still i luv u': '2iH-rpGN2EibTyG2MvpRi_70WI8vI9PPa_MTDSNEkYQsFpc', '윽 신': 'eLHKyJjmwoyGhsKb1P5jbhwEVYZ0YS_jQm2IXvgjNN6NWg', '패화천': 'K1pcQ5ZWZi3Nd1bK_4uPAP-a3e0JGylC1YsveDWztPa4QQ', 'Seven': 'XcQMfbGs0uLquvWaT0Rb2ao8BG3q4hR5IrDaf_aeAw37Xzw', '아프리카TV 9 밍': '36M4AyOCK9Gml1C1mIEc2kKOHPKHR2q8WaDM8me3Kn0I_Mc', '금비야 한비야 ': 'uFVp2xZckL_jiuWeez5lLTMZuEiRHhfGDzx5DlbV9njAvIU', 'Akeboshi': 'P2HnbXQpLQCxqMyvYPVYd2jYM4Wa-IWHz_GRJp7788XGNbM', 'Twitch 다훈갓': '2P0g6pqy7OfN8EPLvI9O8G4K8CMiM5jPZLuklav1PUUAhw', 'deskdesk': 'ZT0P2HBVS9vW6pD2B2nlJNA0lhzjgaQKjXU37Pg8HgHj9Q', '네이밍없음': 'e9OoNGG241ZQHrQb9PdeU6y5HovfveDRigazOL721rqxNg', '뚜 빈': '4I8wlsxqif2vO1bgyPBddLSjzs60vPSGfTSwqHM_3BM2beM', '댕 써': 'evfVIk-O7z2BWHSuSBus9JRNLOYGQzv1UpzTKpitZfuZiw', '광팔햄': 'KX1feLS4ajcts8NXp22sB3n4YJw273bXKoeMaz2zPjyVSA', '침묵과묵': 'yabOfzoQAN_lCQI-457JYc7EnReNefeaPJCQH6egCuDcbw', 'haixiangdazhiye': 'z5sbpUppjmE32nMsYouLvIWvjGZX9vuSbqlQuW7-lLaI5g', '서울 순록': 'DuPpkQi4gPxrd5lfGrthiSfVEkyI9xfJaMM-zsjqqJHsziA', '져니구': 'soUnYbUlCyNOaAdCeKi_P7thVIgyVIVvgMYfcqGBSh8B7KY', 'P O K M A': 'AYeyHZOyrkZXgtjAmhqOjRSGZeJ8Coo9WRruDDkXrvO9dw', '조댁근1': 'oWazpKJdkyT3OcsHWOVFMC4UaX9Spm9hC81rKFK9OZ9ahvE', '술통 살인사건': 'njKvhSo6wVv-DvHUab-nfsY7ZIGE1ZdZhEbSeZtHTXyaqcA', '널 볼수만 있다면': 'HIEM7eM29f3CAsp2bgSq0N9KTUiSdJL6hr0-qfJAlDsF9g', '서울고속도로': '9RiA42YwHHpF5yUvrofx59bNEMoHicVXBBA7LvrAAImEKSs', '도술사': '9eFl5B_RBASKkXU-wO_ZEI8cY8fSjzpq4vDr0Jyl442fmhY', '순보에 와드': 't0POCB8jwWVl2YUh1-E-4-imF6LDZF12Gw2kyPv0edXf0Ac', 'dev m': '4tQjEOBtFkvJTYcafrFqFkXjzPOv3fEtuv1Ly_ngL6Ey1XM', '비티밍': 'ZOP32B11qv5jLcfwO43FxJAuSoiuPzo6mLlKfrJ682udg3A', 'EQz': 'xQrCKZMT2J3f38N3acCVDb_R8SQ7Y4ZMZ_El9dhUM_vHSjA', 'Priince': 'd7K2utTigzBfc7IAY6qBsO7xzr7EUr6yCrIThDyxy9B2Lg', '땅딸보': 'TldlK6EYly7WezfbY5jHMQg6dL4ZiiQTntHCVkOAFuIz0w', '난나길': '1GyD7ww-NS11VJIrrcvsW031Kj0qZeCB6E4vBuEd8PLQde4', 'LPL KILLER': 'NaU9t_LpfBDx4e4cb6T1nSjr5D3xVnSgJSm98l5xMOkcRI4', '신지드 이해도100': 'PsmISXIAJ4aZH88tifhtlYitaCYPWhfLHTxBvrVu73QCnVQ', '눈깔시려죽겠다': 'KggtJEc9y4T8ry9hxOJTurv4KfMJrHrzQzCpSHL9G5ajD8w', '오경구': 'O3IJbz15aDhEJt0TjC7SiqNc_0L1jsKWk05an-BCTR3LExY', 'BT Regista': 'kHTB0XbkUVB1HLbilU-7_Z4wE1tVTkDet0mWefllXOEjO_o', '청년 이상호': 'VQit2daaRcXChIKXo69krS36MjFAb3jCV09G7rPWrAseQ6k', 'KT UP': 'gLPy22SMPHJfZf4httjVchwRT2ZaeT4260rWnEcVxuHSe_s', 'Kim Sang Hoon': 'S5NdN8qZYRt-kHhawlqLtW666zlCaxvUvlnESxekizR47F8', 'ITZY': 'wbVkdrc05tUd_7x9_z7ILdyrr4h2fDrfjjF9x42tt9Hnwpc', '충주갱수': 't0PKq2wnlScmaLGBs6qC8ygejAzHKjqood3h2jF7LHaoZF0', 'thx u sup': 'uyg-EdObgjySnILCrq_oi5aAkOwOANUvGbdnRD2iUUz68qs', '밤하늘에 펄a': 'xHLThLbvsikmiaGHi_So_jW1JkORfGsv9SBnPfp_9o0pAA', '병1242기': 'MK5BeFuwRdlsFfGQQMeV5Rdr53JtLKGWMiO6-9aoog8XPsk', '아빠한번미드봐': 'nJSLd-u3153TbRwEqCesCDc0CBuM7RUxOwsh6wkAI_fkaa8', '민이나르': 'Dgc_dFr5rAp1-Y0Kjy2bFN0wavGT47A0aCMRUqpaTb0nnC8', 'AL Bowl': 'xxXRWHNLcDqbZp2FQWTANqi2hkF3nYVS8wABF00z3FE6Yoc', '건이냥': 'LDBWkHdaciv60grvfsGkizb98c8I8Ab3g3swwaFaySbiJtU', '이길수있어얘들아': 'nOw_qKBG_qOF3-_HTPssLpUzUyVAqL3d8HtZkuIfOpu6S3c', 'qweasdzxczxcasd': '6utggOqENYyLD2l7aPbg61n_844msC34JL2CfRZY07IIdPg', '화가 나요 안나요': 'EZy51FUaiv6nF8Hy8GDTsOxBDQryu55lU2wEhZmlL_Gengs', 'T1 Gumayusi': 'ywra5nViWLzw2HZJnoe9mizJBecPt8ghAGzZy9tp8U5o4YQ', 'Twitch Fege0128': 'ZJ5U5H0aDhPit2K1m9BU9qz_wUTLckWrdJnMFQej4jUCCSU', 'LIOH미뒤짐': 'e0wV9ykE6XtdaWvQGQ99QkE3DfOu2DXd6-3b04xJhLoXYl4', '치 열': 'TDsSw4UoPkmUm8Gl2wsVhOWQtRugLsKjxR2nNem0EgmPWmA', '종학잇': 'bH-tC0Atjs1JAdyfuHb9VdSsOODgskgXgVKwckOjj-ofkZ8', 'Urki': 'lCfI944RUQuqAwHp49kBoi7zf7iT6nUkoGE3Ertub5BL-Q', '난폭한 양': 's8lBaEuROcQQc1KX29wMGhs32iPMTSB4mD0qGkrjU_uPMDU', '닝겐닝겐낫닝겐': 'Cqu77N7E3v89bBUsm2Z8hw_MhdD6uCnhJ5LpYTB-aKbEqYA', 'Shadow0303': 'j7ltVDgbQGwzHfySyJDfVUN0GrjPpxV20pKtMv8EnKRwI2Q', '대명동숟가락': 'fJL2fDYLs1Nl4PWlQN2S8WvE0H2uVthTicsh9FDJTCKf0AY', '기울어진 협꼭': 'vl9OLcoZOchYWeN_7LvKxJP1-OoTprKx0PD0Wwgkjd_Bt2Q', '꼬마딩구리': '3bahMaxk53S-9grUoT3YIufE8LLBuaoiUuECAG3ULEibpgo', '가대여신채예린': 'Ll0BG9XZFGS2goeY6GC4TrLBRT9OPHwdEJ64HM4LTvtXvQ4', '이로치 비크티니': 'a9z-wI6B9BYHDu9CtGFIyJ-wTG3uY3GCVqIdKZwaT1Cd0Mg', 'Ye Mo': 'f7emjAvm-L8OeapEvcImHqqH2eR3VMMUXfV6OBS9mWh6ei4', 'cvMax 도와줘': '8Eaaao-iy2IrZR6I-b8_3baejOdR7nasd_x7HP3ZqC8x69s', 'Kora': 'APVdWNCNI_Q1p-n8V93sPhmHAC0mXje0NINUTVHGQsxmjL4', 'Spurs and Sonny': 'XpzPqhx_Od-mQ5wxFnxw-NttWE5z4rmxTiDeI9-rw0xJMMM', '김밥오이빼고': 'NUjF8p3NlmGLLaBTSXBqUe5ZLvHz0fo7cpe89ltAH3kNbkM', '레전드오브롤1244': 'p3PM7DlaT3Bl1TUT8PtcouPKSxQEKTpg0ZVFjd32Ki0-58w', 'Seosl': 'aV5Mdb3O5veFSRX8gA-LEEGKjpDw2uYI5KKuHeOIQT3bi-Q', '2여름': 'rJOFjUro8R-qiFfRkprA9EJnq3sxBSgCh3EqU_4vBY5wVd0', 'HLE Roamer': 'GpsXxbW_QaRfh0S-kZ0FAMaHCFwMJFYvCvhFPmeSwnM9dt8', '냥카롱': 'iFkQ3ozRaylfzXc9gVrwW7IoszjOXfinzX035fn-8PkzY7s', '웨이크업미플리즈': 'jlAgNavAMTZ5Alp_gd6FoEp2GpmLxnL9foLpUa7fYlH8YCs', 'nsmarin': '9uwqWNJy5iHJjGtm7TKhOXEwPRelu4rruxiUY8MssyaIIpg', '답답 짜증 힘빠져': 'wiYce5tZ8wqR2iYfhmkkPTJcHt1Fj1ZXmxsoY_XmMeZ1yM8', '씩씩한댕댕이': 'rXSussGfaMACavv2_8Nn_oBvPQKKNW8QBlC12zM-SacR9gk', '일잡빛': 'YJ-sI0H9_M5XPZLLmzsCO8E8ARZLc9g3TNfe4CNPwl1Nii0', '세 난 ': 'Gs1r5ytZkwMwEmlYugH4rwPQH1qsnaaW8DCsVsnjZawjrWQ', '날쌘 화살 신태민': 'AHkl4atfgmz27BarbxEfXj7dJpCmnmcYNTJBq4UMZyN38M8', 'Tiananmenkiller': 'HWFo6xlaSdm_fQ0bzno7mpTEI30wA4ne8GdOvICS6bOpVP8', 'Brrain': 'BgOwGjp6CYVkRP0XvgtejuHBWSrgUNX32i6TdXcAKeLszqk', '상남자 이플이': '97Nn5GiV1gOPqy8UktAiGpqJWpiP8IfjGIfI2I2admL1FzM', 'peww': 'Hg00iHEML3sG2RrLFw-F6tzIU8wr27dgcnBkHGK4etV2gM0', '고유고생': 'LQ8_NYNr6LPYfNCTbqRO3CL_lvsPGr9XXgX5AcjBNZQQ5D4', 'Tia Ray': 'IfCS5Th6OCbCakKKbHd4kunE7U6OW--qwIXUTzj_sSUAR2M', 'GooseGooseDuck': 'LZUsFHXhWmHhSPgbZib5Ktsise07CzwiHPcisB7tJUWwbYA', 'honttoni umai': 'EF5E-D0de-Fb4xMp9nIPT4zaNEahG98z2YK1WSIL82C7og', '재밌드아': 'n_cGU2rCWlmHRUWOonSPrX9Vtps1O6H5xzEmQ1h_YiYX_g', '하앙 좀 더 세게 ': 'RmbZuX86Toesn0KNPwuLe5rkEhikSK_QNe5Qzf5FdT4Wo04', '룰루의아버지': 'LCnW00d2yCUdCTEqzJhixgDQkiBoaRIYt04eWbnYKDf74w', 'whisper snow': 'hRyn1L3Dp-WolEL5VCox7H-P0n3fvWGbq1ril4mJTC4a0uI', '팀운이부족한계정': 'Fk5tche1FGXRv90R0fx8f0JgNzRWsKEjM4UJyjIuHV_CneE', '난 주성이야': '75oNV9gVae8m8wHdv3EaHFN2EtKKR6nZmI7fWH5TP81nqFI', '익창 0호': 'kYfui9znZx-RSQjkRn2jTFOGMIQ46EsD74apoxf3bX_ESqE', '지현아제발노콘좀': 'vELVjhyGWNmjSzraRIWRyOcFT0A0c_gwPVuNHzliUxXzrWo', '돌아온 이상호': 'KEZQZr8HgKAIp-CUG9DuRLGwvrJDCFWraIxyXTKFT_UUOd8', '원딜 왕자 이채환': 'mHUuPGhhRheZiK-ErzDrtoe2_YfbetdTyFZuvsBZwdJ5khk', '아아스크림': 'S0rjhI9WNwVadIU_oVNujmgWB6wiVh9g-mHH1qH5CriJBeI', 'Too much win': 'YgzQJEULZ_oLLs47oNA-Z36dfN8XETSX6dPrvrV7_V0AnzI', 'twitchtv든든국밥': 'E6bZS_GA4weBZaMUwdrr6702Cu4t4Ng-y-rGOZmJ1lE13c4', 'MIDGOD 19': 'MwwGqLtfUh-Rkmzgq2U9ZczDcgxuTSJuLHJxesZWQVf_mpQ', '서폿빼면브론즈': 'mQKOD7NpBduWSqZlCkTrFJLvJzhwBDcySGxHzBUE8Rf8gg', '괴물두더쥐': 'mXlMArnfoFGOHksFdwxUkrBOMqWhl4QK0CprnQ7RgR4hZz0', '27살틀딱피지컬': 'BdEvEuGyrR_hqsv9SELbnGSEFv6uWTT3X0ZlsPC9CuHvE6U', '원딜도하는정글': 'Cg5fajibx4b7gfWg02V-YjNgWQlodcMx-IzcHBAi87SbZ1k', '서폿차이죄송해요': '8m4hrA7ON2UVJs8mnHb6cR2rfelpgkZQSPTw906mkUREG90', '변경소환사이름': 'wAultqTFtRMnDpGn1tilcyDzktR4PeM6TIU1gfvut1uNf0g', 'LaP1s': 'n5gGf9EhoYrV9yP3p01u8VHj6J6Yfg6FpE9ejS-sRiRtTxQ', '욜로 욜로': '1NV85Xr5c--zeQGYgn0ppwgyxwt3OjVZKimoEI8eJmxby8Q', '왁타버스': 'QArtZ2kqZKtEXR3RhenugpOHUyo5RYuyT1JJPFr4WyTV-Q0', '착해지다': 'sng7FggHUrnS19Q24ikxia1bkbAUrgSGk50r3UG-sPvsfiI', 'qcscfcws': 'r2unBVkn9e9ug4lblLyTleqBgBhG1ulCJE_9DoCTN6Odqsw', 'HLE Loki': '5m1_i9MRgf2YCgeAqNwT0Hskq3y9c8oxRn2JYR7oXLdOOBw', '적대현': 'nz_VKton6y_IOHDG5d6sS-AtiD8S5P8nthI9LwVfnahuxvo', '샘물남': '--Uc6rn5aMATWJOw8ffv-HRZUf9hp4YJy1Y-bQGWhcA9tw', '진영진영': 'ExL_GVnS3BR2gFoZx5-gMGxYxGS4nROYOcBjHnCODbYst_U', 'yiwoweizhu': 'FEe0F9mavCKsY-tbkS8Q6UT91IIEmzEaOZ9n14eqXFpOWY8', '별수호자설기주': 'nE4KktmR1hnyxpnGKVzcte03v__sed_O8l_axDyfM3qHSQ', '고 인 영': 'dBRyEt8hhShcROYrj2xIeCRtN5O9JKlZPwDwYeomPAEJzYg', '사자의왕상어': 'pHylg_0sWRxLN6jxYZw2ldyzAarToSyiz2mIzPHBtnOcdMg', 'Zoloft': 'Skvip9NfJ7DYkBjtfrbv9tFzy3WvSbdrFKkOtiBO4qG-1hg', 'Rumea': 'K0Cpv-khjzTDU-Cc0MKxrtcQpXxmxyNhcpjq9MLYQwRM7Xw', 'TianGanB': 'EPEZALXcE0ueHwCkLo_CaTuVShPhENFmnYDGzpioZIE6S3I', 'Player Beru': 'dBrCJYqD3ehEG-H8hyaWHCBEJo8c-5XlJLT5MwXDlE7P72Y', '아다떼고싶다': 'l2Stk1QExrzxibrsdSQYw7Xxe4oR9GyigTowWCtbq6pqtig', '곽두팥': 'Q9_uFS_PRk0jpkK8YgyUQxCCIP-0xcrvp5XpMjxleFUg6jM', '팀과소통안함1': 'uNJYDZdIXAuoy_VoXE4ucMYhN0CR74vnEf_bDXUI1BrM31A', '영도야 너무 매워': 'WSU_BEMzALnKNyxMR8LCC0mT_y8c75lOApuKS6nNGx9XUWQ', 'BJ영만': 'ZjRvyi4tsguAhmR9vYM3hjwoStFhVKtwSa8G3PLvqguqHw', 'MIC 3D': 'ECFtW08moqsP7cCWDqARqCh66i5CO-wVlWCfi2tvd97PqhU', '픽창부터차단해요': '99IIdIJQHpPdkVsSs_WqIWbB3zzqFENkOFRMX4NMtHQ1lHk', '설 탕': 'sYUm8ZK1KIOOeTZynb7xO_5FtwsnFKhPb8XwuC-E5oUuQA', '티 신': 'S4jRA3RmzXPvOm6RxZs_gIXK2f90Ykys9gOxjWHZshRUnHE', 'Time is fast': 'FHfZnsKi8v46T7OWZ27ZWkouanA9iX4P-g0HiK-Lkd3fk5E', '미니맵은장식이냐': 'hbbTcf275Zq0tQxOShww3XgUES9s-kY-d7O-Hw-Txlqf5cE', '겸허 한 사람': '1OZt85RsVso6ti2z-vVrRAaAZ4MCiGqq3oMeVTXzWEZfRsU', '돈 다': '_NrZxnbAlLSwDdRnXn73a-kZs0GKX162Rp70goF19-Irn8Y', 'kukukukuku': 'Av5YuJQrYzy4c1M44A8WJxpWkOUckIrvq_4Yw8DqvfijfV4', '초코시럽 계란': 'OWYb_w9tcDdXpL4hOf5xEg_cTAop66xc7UBCqLofjS5rgaA', '오늘은 피곤해': '4qVmPOqI-Zx2KhCL9uNuiFqePB7oKArEDBcZrBAp462k9Zs', '초가스충이': 'mUOTz5ewUgXOGMK05XsWgMeHfVFttHvrbM-N6W4QnVs0efk', 'cxybaby': '4u2Rl0HzTnaLDySBSTnq6MimtVDgqX3Z7iOvrgWWFS2Wv6U', 'Listo': 'tRk24mBW9aITGERS3QHTWVbKHGxNntL5XqQnH8blvVYBzhs', 'I3oy': 'iQThdWX7diiwZp_KXMMMuTjkLpocabGWE_1tJWclCbCrAT0', '유리민': 'sUUDx8Nmw2CKaPFjHXFBZGv788N63ZnYnu_N9F8vylZ5Pik', '서산 정씨 27대손': 'p8tH6e6HhfJIihfiwu6eijCRtKEG5v3FXZ3eB5hbO-BEapU', '날개달린쩡이': 'XPyauaXuS6ESh_j36IS6oW-I9X1WFObLEThsZIh2E4qkPvY', 'Blossomviol2t': 'qCg08j2sMkv6PAg9asYzWrKd4JLQ7gkiPujb8Qh9MEoIQDg', '충북대 권혁수': 'FE-qQcV_QvLeQPUwrPpxYzGyzymxmv0dSngOHov9PIHYzvY', '날쌘 로밍 조현웅': 'ibntttjRX80MRyPbY0-oxekXEklKQv3lpekKe8AOYL5zy8Q', '헬뽀이': '4jEutQSW7CYd58dJWchVVRQphNAmOhAO81vv7WFYJgyywZM', '다누를 기억해': 'NV30wl_8eKYDRdErZ3RCnjBTMArEQb-nRSYVocQrSzlK0F4', 'podongpodong': 'VdXLrAx_vmMSnrohJYE0wSs51Kx9xJKnRUPRa26yAgxxYG8', '그냥 그리워': 'HMIk2_cfQo3GoPRy7YKIC00fFAjr6D1m6_sB-ySNEJ9Wnuc', 'Woody Fruity': 'FZF_QHag93oyDiTGh5hK2uVJFzIqoDjMbaTjpU4uNnV8Rg', '카르맛': 'OatV5NIDSH7OFnYQbbJAvjd-0OiOJ9Mgd_oYjpkEr7DJ1Q', '여챔프': 'UdKRzJa7xmBo7SsDszH86ISxz1V-wT-1X-VVph1-h0m6pPk', 'IM JBD': '07p7_htINrZLqabgoI3jr7rxH631e2LCgo0Y_k-VWegrZ-Y', '나는선봉장': 'KuLvQXEZXxYYujfHb8LFiO2I7Rc77Q6E6Oxd_cmitsdFRTg', '서면역동전줍기': 'EiUNcGbxwBEoGmj6Loy1yqZ1PlyqfjB6bf5FZXB9T1mYi_g', 'rRuedes': 'fNq27VJ5PjDwKo7_yoKBRER6emUvFw-fYxhwMNNqb3ndIE8', 'NS Sylvie': 'K67eLe6x5uvVFcuA2EVVYKHc5dj7L6vok6X3aAqI5teYeZA', 'gnaixnay': 'bNFIJthZNRW2viSurAF9q2llbVLd0y4iQles-R-sf9KXK-w', '뀨프트': 'LmkTWy2jAqEM5sphTbCh_gRmnjbzX5kZ1GRDyvE1ua7_3Jk', '만쑤르': '_HEYUuBbq6OsxOKMQ6nG2hAqcPIiA2QIa2QKz1Lfw151U_g', '연세현': 'E9El7uHJ1WT7Z7QxgAEtWQvOw7tkhyCGvQ69sV_XeVH3x8w', '선생님못참겠어요': 'p2Al1OVKCLQr6cP24gtgFFfRg1bDlGrftgAsJipZ6QBd4Ek', 'Mr Imsoimportant': 'ViNg8vJZvQlxh8SeSkUrHKairhoIV_8Fld1RqVVPBNQPaos', '09년4월2일생': '7truigfnme8Ft078GOXJkcEuVoRsk-4kRpTNKjPM8-KSYAE', '카이젤릭': 'KzPLL3BXIcuEQrkHbcX80J0I3Ok0y_owPd3YPTMQuMITzPg', 'AnkhL': 'AM1AnXgNtlA4Pcui9bVio-vDGbYBBGLiC8gDrJMx0WhIZZ8', '용서해': 'ZznXGThIVBDMop2gwQ6mY-g1ML_gcmKyvMdaREhsDEkDOD0', 'Sogang Univ Sup': 'SnlID36xvSBInebLVKSU1ByegAVbm7oQ_-pTAJCGCtggmcQ', '재 첩': 'HTkgG0I1hxnSFqIKt1_sSwvYasfnhBNmaiLpYhPNW7YYfw', '슬 믕': 'z0AFg5X7H91-O3lWvyznFsQmFv6XkFUq-6c9BMXhuvk2qhQ', '코뚱잉': 'E-hkeOQtzkg4JDHirHTmO08Btbi4BXwdd0y5mih7HMX2Q6Y', 'FA PanG jin': 'pdLT3zcc-6f6M4fIikUTMr_M1DW6eOJwxTm-Iqk5b-PwTB0', 'Fond': 'cCGoHe1eC2mQXjKziVn068xghEIUQwxQIm2sb_kQZuON-oQ', '소라보니오': 'EvU4RlM4LQuMDjq4DRldBqa8ToVdoHsJozsmP5NJm3O3smY', 'one loser': 'LC4cPJ5pJp0VFaY_LQmGT4YZutA8YKpGqLXMfWG6cUaOLCc', 'Lune de miel': 'UNdudp3kiTi89kzugIrd6RvXmhpaSUHSvhV17NE_Bojgoa8', '우리공쥬님': 'I1pAyq7Nan_MSciiNwE7GL2uQ35TpIR-uy70S_e6ws4bTe4', '엣프피에스타': 'n_9b9_I1RDhnfeyPCfF4h4OStumhX34M_QP7CQEqyQrb38s', 't QuQ': 'T5NTSkRBcuvPY4Na_A4xCS4ZR5A3aVuFrUzWYlF_fL9iW7Y', '너구리독': 'HO8VNtVndRD-uKJk-5uowGxGHyYHmnwTC1uFOq3VOiR4tOA', '하 논': 'zJ8sIebiZwnX-UEJH6_wbTOCpBuJnhnM2WSIJL1UBvfxV9k', 'DK스파이어': 'Bl5-mejY3Qj4qNajnaDvQ_1vmNMKN056BT2tgK9ZIbjZEV8', 'Lutia': 'zYT0nq4QJuNrUwGaM1N8Rvl4nDECRoDeT55w58emfi_zu8s', '로이조 수제자': 'VX0SAed3KdzMb9Pgo1yBqGQRf4jkvrVhaAMEdq5wg_SjEvc', '최죽탱': 'HyrDyc2QxfBkZrCzO1YmOYyANgPuNuFpCCtm4Wg2tNp3x3w', '강아지 FA': 'sYwMwaNkPaKtmdWjebiwJ_Lx_JI1p9A1j7pDyMWz0Llfz_I', '중포반': '6Rpx2fCh8ZMweboQohZl440TpRRyZdtkEMGtmYgYXD0lGgw', 'Peirce': '110Jkyv6YXlNCn2N_epwXfiE3hrPQdU_QfSAVeHoqGvaj_s', 'afdasfclgxsmf': 'KilJ6j1IQkBPQ2Ys92JkfyM-hq8cD7u3bA2GBhXm1iPmTAs', '이니쉬': 'Ejy7sSU4afvc710qvPoauwAltZTr4Oi0AcpcGqbPi1-sTmw', '프 잔나': 'e88oF7b3sjh1BtI8xJEqutqOuolVmfpot-OjhDrjY2-A3Yo', '다 삯': '8WDHCGhSaSpkgBvEoJ8wZeu6sZdDdrXATfCGbFpgMW7TdA', 'yukinoo': 'n5N4Q3eJ9D2yAB9UhSEB_Ii6dA4hvdSgn7dn-Yj5n-fT3-0', '하성린': 'qH8L4GPHYWRv-ChIMb-o-Qew1PC2q3a7AXEbTI_cz-ruDaI', '예쥬닝': 'jSr16TKwDde8JwerHKtzVeLR3ZIRwBLgOWCauf_1eY6Bjs4', '팀끼리그만좀싸워': 'Prbp6LhAgmaq5RzKbyex_Jqahc7xGxr0MfwGPcvxF6Wx434', '방귀웅': 'T9qudI6S7D73_T05O85YcOh75YJ6nB075pVlXFidf0wxXvI', 'LilySua': 'JXrwaYh0HbTjVdydarAJg-eupLedXfKLg8VACJYMCCjbeg', 'T1 Cripple': 'ca-z5gP_YFJMzEqtf3PdaM8aLgT2VNKSACyk5V4f66T_THo', '비알잉': 'FxAA6tzSL7XiQRvo8BrPvYY9vGSKEsLPDrpkOP4lTDxUNo8', 'Trash 0 King': '9Nbz9xZwSz1kEpk65ep_oaqv_XeziD_DHH_nmbHLGIj6hg', '아이린': '6QBCzyDy5VdDfYaXGLjAlpxeZqcjgQap_F67zALJ8J9XSkM', '연극본': '-P6t7oQMRjmOAgNxHC-Q5jDxyQmj3AIlXYSWgrPQKdGyWA', 'wwvwwvwvvwwvwvwv': 'm99y6ZQGdvcHwyjrODuHTmP_e8nNcw0GGpvO8S6xHMuGyqQ', '00OOOOOOOOOOOO00': '_LpSKUoxzqBxlyNpYPBvCnFnkMM3zGuCA3tt6JU6K84wiA', '이쁘면 무죄': 'GtVqwS00jExOSAUqojd76zuRerBM9voTWW997xPXilbqeME', '레이너 특공대': 'OZKQ7FwfuffwlJex77NKQBeaADGwe0xuebWwYo49sJ5YX6g', '멍스타그램': 'cyH0LBMDSFkSKNuu-dGly7Qj2B9JAhYP_ncBGpZC1WjiCtI', 'cant pIay': 'DjR2KY-QQItiJAirxMjwJ4Z9_MX8kqPwJ-WMQSp4AXrzRpU', '마딱이들아비켜라': 'vQEOgeuQFP_bwLC6onjh_BvSkK3oUMi18AIGH9yGLzUJGzQ', 'Baquette': 'xFPXvxrbdltIjJehi-aB26I4sYpLva8YXD7E0yICoTjYmng', 'hyc0505': 'N91SmBqT1r22PQ1hrBRVwX5e5OIi4DiOg6sMmiD73taAxwc', '저 퇴사했어요': 'zmdWR-s_zBhf9lO7X29JUwQvHWcAHqP50LEik9bIUSGDgkM', '276뿡빵이158': 'olVO0CIZIwqxIm2CLuocV7xlwWePweDnsOOhyt-MpLyFzbA', 'Arrest Lux': 'qLpMYjqTMs-Ia-0htIFV5KVpB6cUy5PjP9JGjL_1BiH0Lg', '허허맨': 'XyBsfIZXv2rca8AR3_464p3VScvfiINjutA7RlLsPXukeiQ', 'coop up': 'c_DvNEH6w64zWY5FX3jyZgDiYjkLNL-27pL1y_jxHdZRu-Q', 'MujinKu ADD8E6': '2pfywF7c8voh6h1Ue6sCub139tLuBEs-Df-LfQ3qWKahP1I', '민 카': 'GTGxHK0RPfGzGJ8SFTEUNus9jHu1hX4lX49NBu4hZvcFJKc', '라인전만센남자': '1-ZSxfH_qHvZwR30iekjld133ua-hJIYqGweqfpfIZUbdIk', '맨날동생파는정우': 'l1_tFigsGLo5k819JzTBW2IgV4d4LM-DUGnnAUzl1aGu5a0', 'leguanxiaozi': '4M2P6GRKcx4dSerVeKJGHqvzMoWJqgedxS8ASBR2tyS-NLg', '3lv top gang plz': 'VhkFGabLQjbBjd3MaBue_9DY7p_4gwWXxNA1XUieA7lbaBE', 'chaos fans': 'YIESGofdAXQ9dLvl5eTNO4ZwpZzJC6XOqyT82LIvcD8Tb9w', 'woshizdx': '6ig4lXGMbGPN5SlRJaNVUNi1NEFGBvW-A69NKcZIwl9fy0Y', '자 동': '3fijdBotnPYmMMVKeio6xe8JgKYsvKvSVjsd2kgl8jQXbA', 'Shan Lan': 'FcV7yM7OwOnYSCDwSw5pVdlsbhWODKhXhQ5QX6IiXdfTc9U', '6번째 포지션': '9xw7r3ZsFrGBzqa9TUBA76tJvCt2-4HrU0t3X_8uwuDeLA', '노런색': 'gy5wvUehqjMe9AFuvSALe3AW4ThKButiZkZpMJmJGBZDtl8', '장인 징크스': 'WwSSrh8mAAIPUL6NSh7iPOqWsHu1ibQXuD5rWQL8fnYIng', '노란풍뎅이': 'eeRHbpUV8B7-kshZoeJUyIYPNgP9bg5LULzoP17r3eBLeA', '독꿀벌': 'jDoNCSDB4uL4qbpNF-SLNaSn93pKmqFlKyiPw77p5wQ8qig', 'Freeman Hoily': 'tXzIqAy0wqcUEDQdAzSCqD85qavgeWHFBFkP_THhQ-mdRBM', 'qingxing': 'vn5JI-jpcN-YMMRRs8p1hPMzhGf4W6GnG16Q-AUfnQTHTIs', '고마워요감사해요': 't6cZuack7saQk8trJLHp4uYp_AtwOx0s46BhhTLQTA5MXYo', '망 람': 'SIZCgZp-hbyDZZSePAwYCrahdZOD3WuxyMuRp2f5c85Ocac', 'Statistics': 'NXVqMJWx7u99Icd4voeygXnopRmriPmigAdc9XTJYFX6nlU', '여자랑게임안해요': '_ThLRZNqL_Jgj36xS9mMHDlvp2FYREv_yclxTzYk_sXuc7A', '지효누나 이쁘다': 'AK8q1kpBtawOwwoLjm_cAfN1DKOgKDwJAWY4J5n2DBcg95w', '안타까운 세상': 'KS5LbMbGM5t_sEuTpIoAAN8EX7z8ppDrlhQRsYSW6pNRgbo', '애기공룡 주상': 'tqsdxI55gZLZMe1FkqfAzxhP4u0gG0ZxxlUfpf8lBjpCIAg', 'To Be Hardd': 'mRF8OHD6c_Jv-X3B_bsdzFbp-XFvWPhBt70chOStAJO73E0', '나는결국올라간다': 'jq2zbzaFYpmeG_K1lnX4w8Y8FwGAX_72Dehhc03ivIMndWc', 'n1u n1u': 'srok3yVgB-Ye6XRxCdmOAg78F0WudWFpvCGYuy6TZSaoeR0', '용과호랑이용': 'XKKx7vZrHYQxtf3daSUVxfeMTyw9OuYEVHKNZhPt4ShAEBw', '하나나사랑해요': 'tJwckRtECa_ZEpW_Z2hgL18_tAvRS7VqkhE9GVzBhSEAIYY', 'Herres': 'EnqpDrTzlOKHnXEjJn_4yCm2c4KMzqmHdYZvwY8Qy6q0hE8', '챌린저금방감': 'HxlDHVOjUFVgk1hl5lmoEbZ2oa3RUGxL5fWLVC_IaEGmYno', '한숨 보단 한 수': 'p4BeNeyDBozKYDoGCTTS_FneOVn5fpqtLZc_70WIE4RGmCs', 'HLE Rooster': '7WjHUpBA-MUBL5ZpmUt3WOE4HW1VMwHpt2S8Si0WRoyNjjE', 'Lin guo da': 'iQOkjxpELheMAgbW9rdNs2avC7q_LHPJevmt7XxR97zXtaY', '최선다했': 'SlAYFe7ctjKLhRSMhBYzn0zQc1RKUJN8yq7NpIk48vKNsVk', 'By Today': 'tbydYsBe0Pj0Quy1T8_EtPZpt8IzV0UfP-FJef_7ZshFn3c', '수면의 왕': '2ns3hyuA0YggfHEbFgC-hzDUt2GU3BVovwXJD9PULdfPut8', 'HLE Seonbi': 'nl28ej5JH3N0EjGlalE-P4ppmwXGVxvf1VCqHrjJG80XzyY', 'ShowyRENZO': 'ikP18_HHaIEwTyyjdeLNUocy9cPvcCUpHaaexToxCzPE2nU', 'BAA Lucia': 'oD_S5888UVEovrlxSEgbnEDSvIJDEXGESCVhJD96SeHxo34', '미천한놈': 'eNsc2lM7W2BuaQxGowLIsJUYUDnym_2B8vNw4Q7Uaqo6qz8', '틀니의호흡 제1딱': 'kdhI2kKYwlHSDc7BcKt26M6dcrVmzSTFvI3fS0RyVof1o9A', 'zqxtgbtj': '88tJRGtyi-gLxnZEpzQzIWrQfR498Uov9WSB5a4_hVZLYk8', '백상휘': 'eFluPfwowO5gTkTLYxA4Rj69MzK2DI3W_wMFz1m0ja_E-Es', '킬러톱': 'iALKI4tL7RwMs4S6MCgbRPFKB3xjnyRbce86xGqjoBoc-g', 'JGGOD 2': 'N9Fli1_6NA32-MN8Mq4wh5mQufAP0ytjsnwypj8guHvIYls', '20040728': 'JgyPtNri4OB0yk0ZUyGcEVjKFS_zN4YJOhPD8HnXiW0A7RI', '돌려줘': 'yEFRffUTuc1Hj1z8u3GpIMuEByf9CHUgacEh3obNbvRR-Po', '민트초코왕자': 'BzU6Vs1oZhAKb6-MIRwXB-Bgs5VhWbwIN4hCJ7iIYK4kbQ', '화려하게 살거야': 'Vdv8kpJPvfRIf4IV9j2BBz_h_zOc6iIh75GoMsiqiS0qGFQ', '녕 차': 'lPBHfbJ0J6Dxr8ERRVAZKYvQ_M5WtS7_X7b96FEjiANBGX8', 'qest': 'EH1N_G0rJM3CvqOtOktlnPt0aAxoLG44LbzIkens2o6NJtk', '찌교수님': 'MNWrfJ2YRsTodgMxHKCXmBlVx0xF1N89ntzgX9ICI4HbpEE', '경고했을 텐데': 'bAtxx96Wvc2X1o7OFp_k93Y8PmMK6rrC3Pym1N1-YmTrHA', 'playaLove': '6IEC16-suuszmBV2znSK9AUZeB_GDJMiF6saWXQgXJOye3o', 'shfudwls': 'UjmrlRo8fFQ-RNcwNLwnTBPh-RlXMvAlf2MMuLbJlSTKS_U', 'zl존정글짱고수': '3NvTL0AKxa7MljRbU5crombFvKabVmRa0Tvuy1v1GyfOMYc', '아프리카 마인': '31q4y3rxkGAhM4qc6IMo3ANrj-fRTaPULB8cqjVgwEC2mDI', 'alasseo': '1MwmkvMsMNd9exFptcL8McOAku-e9XMibD7ku8I0lVlP6BQ', '발 곰': 'goPnAuz7rreGs5ivtTk-sLqRKjJya0fCkUTex3Zm1q2L13I', '왕 다': 'JEwkDB0eGNAWsPxDpftlKWTrBxgwmzYDOevYlmXUNVmb0zo', 'CrazzyCat11': 'yhtY1SxHzuYxbMKF9mAhjLtU5ADCWOAJwkFciS1US-Pgcdg', '마법부여 룬의 메아리': 'bR3Yh2-iITl7xKmm-nYE4k-JGZVHECSv56xy0z-0FX8rIxo', 'xiamulan': 'lsB3G86IoYXs2i_oI7rv3_APJ3S7uzD3PdfcqnGdpW-zz6g', 'YubeI': 'arlXHJKzdeOsujHomWJvlYGc79by8XL8l3OhWhpUS-plaFs', '최선을다해볼까': 'hTtIJHNY87O_3XI4KkTSqB3jfaKNZp5chyBF_Ieqp-zL0oM', '샤최미꿈꿨던남자': 'FnhPAVB7KktABtTGVi21hRGpTURd2-5yLxHcuO5KaaoVSpg', 'T1 A Shine': 'AvmyWLSHHp6yiCOEiqu-KPyRhUXZi8RdVOX2jdY_wJYk7_w', 'Lunaa Rby': 'VSiJyBK6qF8NZYCt491ShYBTnp2G5GIxQUA7dGvPWKkppDE', '어쩔팀운': 'sGTK1g-IQMZ_lg3tvU79lot3DfTHEOz46Yw7lID4qJTgSA', '치긴피자햄버거': 'O7mvvzosN-l-x_L0IZ_FGak9sCZskUTgGGVqzUYC2bCBUg', '심수민 암살부대': 'IK_vgVUGXkvZTNCGud4x4xMj2I3nIf2UjIjVSW_2KutTDMc', 'fomalhautdagon': 'Rp18yUeXcq-j5zmequQCCINNMr2hSyboq_uMjK_k6-FVf9Q', 'Botcancarry': 'oW8SjkZ2jqCL9BKBjDSeKh-0Wy5r2Ci1E3ucluMEOqQRtQ', 'AP샤코의신': '49b_P1OG3U3LCpmD6uQYlLizUzDCh31dWgyYJ3oEj2dNGhQ', 'NS Calix': 'ECNyduTsPmZMTBmlKrDrV-YQjFbLMcWnxjC1Kc5N5Usv5pE', 'yoyzxzx': '3Xt4xHVL4hOk_bgsuEvjh1abEpeYF8up2gBz3u-oklyK2i4', '이유 잃다': 'K-tn2O1HP7VwgEwvcLUJcuyepdbP53vH2wNtRllGdCnWwb4', '서강대 뀨마유시': '9Ag-e_LhuMQDH7vFBw-Gmi9W138lapr1uNaO-tSbbzakuSA', '빠르다 시간이': 'PBSIDh4yanxQ4A0Sy-gmRlpT59fanLQIFvpVSTF5bbqrLRI', '싸다만 황족미드': 'KLuyrDBhiF3wClgHbAAOHfu_rcjrSjAgvx0U56e6BEQQKmM', '건들면개처박음': 'xEJ_nbclF1BkmS2IQqEmoKCsiJp4OOkNLoomwvKDVLmAtg', '슈슈파나': '0NhDeqVEcgbd1HsxLHjN3H1eU0c-VeZbaMxykdkuCpogXg', 'NeverLand': 'nOTFmykLpzntcKpQ495zmj3WIQStpsFzmYDw0OQLsQ5lFyA', 'Jeong Tae Hyeong': 'Ak2x6MaQKPoguyDlpIh4qTroHwNNm8tEAHHJIQ2agIxmpP8', '리얼킹갓레전드': 'mwQ3HghgfmS6SWF4mTN52CMs6UzYz0R25RP3A0WG1qom5mjK', 'cursoriness': 'NJP_YzYz9Q5OG_xILSLIutDd6Wo-w3BxrTqMv4r-MEMzgTZt', '애완돌거북': 'ehpBqQt5-Qpql3qdHzYOV3sWMhPmwH_kAiJ53LFQglIO1fdv', 'Nyth': 'KD2J6ARmrkOmDZHje2kLZrUh7NacbPyYKfFj-6y_xdV3WyEQ', '미에킹': 'Y5vDurLNmeT-gSba3U1k5t3NqbhhLWx-2HsFbxeEzT0Cg9Y', '101101001001010': 'w9AsBJgLrPMIb9HiDK6HqvU26xdE1cS8tFzKLYlC-edCzpzT', 'New플라워': '9I26MrZfBM2uJ5VNgE1dA9Oe_1LrgAJyEKFnKSnEbbbUIxoT', 'Jh1N': '2JKORQiTy856Gg5YB8yMx7oR6uagdRfGP1lJjEGmRlybpyg6', 'Angry SoloRank': 'PzIs0XyyRH7OLX1yOFsE60omKKnrgZQj3PoQqm--GpTwff38', '농심라면다내꺼야': 'QdQOS7AWc0ljD39gZ8ieA4fdWVoAysWpbbdWIHxC2fs7RUKW', '방옹시여': 'SxuXasaIzoFakWWE_x1c2imWY6m-vTMSTAkqWd7ob_rclkqr', '실 망': 'zy4uqLty5tZSyyuZcIjLo1umaV1rubG1l058q3zi1YkFvBUc', '10IO': 'iND1tGS0K4AkilF62PjOxhfEM_3CqZQFUFVsktrp3HKDqJqs', '이걸정미니가': 'wRY_VMh8FwDjrvCCrKgMWXITtD_vDN187MjbpcX6-hji5byB', 'Daemon lucifer': 'DlCaLsNdnKQZVP7xLeOaR4hWuwjUTFlMDHqKWz7jzrslu-ek', 'FiRO': '08zawyzufrJAWfRM8Aq5p7z9a4MSem1Aw35uoLzUWYI5zRDr', '지연누나귀여워요': 'V5tzESFiXHlnjqw4CZorTOxke21imiWZI1SfKlRooNSexDQK', 'lose jg': '_HsD_pO-wK7u9G5xFFwd5K3fZN6x8P47FSWY6xbSXFf2-zs3', '챌린저양학계정1': 'tZSRLltqDYoaqWdKSojdUpkjAj-Qir4WCIMvQhkiACHfEgvr', '오희찬': 'Q4KjiVFGhgI4kGjKfsXYtuHgLHJsCcpYgzB2I7tbhVCLLoJ7', 'zhaojing baby': 'eY_D0yOEZ9zW3_JpaaIdjsHFCK9TOATfn0S1FCOcc78rg4eS', '칠전팔기의 남자': 'FB8SKGCGGNFC108ViZ_uzVR569KcuUArxaRXt6W_dMnoay5n', 'DK Pullbae': 'npN8S5ZI60TTb2T_nejvY0Hpa35WvG93ZPVcSmYsAfQzgFfv', '맥그리거1': 'kvRUF-6rA3IOH5sdJ5CztzEK-EstTMETkMbp60S6NdPmQ6dn', 'fxck boredom': 'rY5nKG6xBHGNMSk1Jx0HZKOlglXR_kXVla425cG_AYj551uo', '코치 정상길': '8EZnrPAJ7ngiG7_j0F6A7pEZrhR2HOTAIiuYp1t0xuu2vWxk', '여명여명': 'rEZydHwXSNtQzVsioLnloM0biFGEU_XZ8xrqah9l-6qyPWIs', '조팝인우': 'BE22hD5U56mS3QSPTLzW4qHDnKUFrUC3U6aqGm-x9_DWczDV', '여최미 서림': 'gWc9F0VyEUP_j8PLFERDHxjQJYHbYR0QHOizRiN5HxnSOEDk', '공격 템': 'Jk6Z1q5L4ahUdwY8TDvOms7GAVzqr8GutkZ5GKf7UK4hYDs', '니달리 교수님': 's3lsA9OMphQjNpNwpJC-OIeExED4RoSAgM6MeMo8t0Ul0lg-', '핫 상 민 ': 'QWGUA_724n99Uo9il4rUvWJSdLp87I5JYMXMGT4_KEvmQLyg', '버릇 없게 귤': 'eqs6ZtaqCtMh-oQ7VEBvK7dXfAyGYSxkE3c7j_1FX_ezdnUA', '흰친구': '99YVKOu-IEV_6ZYuy9OLvE8AqCu7iUpgksKtAdKOIumjF2M9', '마스터 이': 'T9JEaknVzwNooImKuuStvVru_lXLKb_XVdpwfH2noJ0Hm0Ty', '단 1주일': 'ijqL1SzepAweKQCWIQ_rRxoxm1gCulNq8e4hyA5cGBNvvcYg', 'DWG ShowWrecker': 'sxTODH0KtxQsfrw9IldYNxTzMW-FyXGzc44udu24UfMeP1YU', 'K0RA': 'qtz0jlnzMTQcaZTFhGNmz64GyiKXuYfiI5vMP5GOCiugnMg', '풀아마': '7Hn0F9ySA8etU16gXTFoky6Nc6GtUQjTgDMtv2cr1HRzig46', 'NJUST graduate': 'xDMySrX2Mmt0YVAnV7_uWOGIOR4K9JFqs0tYTlleaYpE_Tf7', '신이되고싶었는데': 'GsWvP8Y7oL5Npzsuw0NpLnyRHH8XHnbAQdcwYPGU7mV9Qvrp', '레이븐 페르소나': 'LfFLMtyrnL47o0AHMSBFsFF4ofi5dmPmhsdYsr8u7DFDV2X2', '콜르키': '32V62WMdNh7mnDv4-kYjWzckcDwkz-f-D036r4gHSVpINpc', '녕이는 못말려': 'mELSm3klIgGDfYB_5D_4rrNcCW-3LoSfgET6u6qxNBxQPOI', '윱니에여': 'nn6iIJvEFsh8ysuK3LLrTpU5rZccywuGR4A2wlqev5T9yjM', '힘 도 근': '5IuJ7Jh-6CVMj0JLns4iKXuUQ7_bZ2l-vxhrfqAZzD4jTTg', '남 궁원': 'QUbOprtSFg0NPmkwZtEDa1ULQGiaaomzFyiUCVL_-OrVKg', '정6점': 'F9huIueYgNKKOashdYjvXkcLBV-_O0klcMVvDFtPZn5_ww', '천사큐리안': 'nWz2MGn64_kqTFESPBwFOnv2G7Q72N12k4m0rqwxTC35WVA', 'fought': 'TG9R1MYGNEIjaAebYjXm29TFYBKOdvYTRm94PtJAiwLs7bI', '꿀 떨어져': 'K9zLCEb9EmxxpI649RzwWuEiWv8O71LC_buYg8qSAIJZhCU', '연쇄할인범Steam': 'al4cMQ6RbnHVOhsa3t0hl0RVYg3RDnJbpraWwW7ixwhwVg', 'BRO Hena': 'xN5TPMpv13jB_bQxntZ9Wbebk4wwOMjA3jLcSyS5qBMQvGw', '집갈시간': 'eOs3AJ8fGRaDKnMmJIobyXknG2iVFyt5dq0Taz8UW_i06cY', 'SsuHwan': 'r6Zg63lS1LAacUzSDsBHBTPk_O1LkqPP-09SWAJVKhDgBNs', 'gmm': 'JYvt7SpRtWgt7QGlFXHNKL6_iEthLF4J7DZGH-1BbfOkxjE', '잠못잔다람쥐': 'gBvYIZo2DHdHgtV1pmRo9zSSxQolTXmF3CTAtnQ759jvZ3k', '못된말만할래': 'Ehi_OZQt9HFfV7ihaGIr1lKBcerPLkDERVSEHFWMre2RlRA', '1Azure': 'xxF_5hsuGVYr5Yqq6fjGtlIa9VSkjZduL4NO5a8nM1urDuc', '만덕아': 'm4f1k1B2wpXwx_ib3k7plgeBLchzDkKpApkkLwnXbpWU5II', '잠보33': 'chgiB6uLQHetXorZdXgryR1HkDyyLaBf2E0MgnKGcLLbxQ', '메로나 신비': 'mxIPaK7g_qLP3YRQNq1qXZGGMdBAMG9hBthD5iCM0cPcaA', '고자철': 'OHM6txJ5UhOOBw6FHmB96icf5SN8iMuUYwY_kJ-l1IbTwA', '잼민이나와': 'GDs6DIC54MXlOZaPw47Z_D6so5GdOpTssgU5KZmAAjweOHo', 'Make Memories': 'LUpQ1mfKnL389Uy8JCPPGiZF9ELazbMIpPl03oJIEMHCDQ', '볼매 민서깅': 'LBXoUzSmJACAXXVO5XiHeP_egXPdm49V0nqzraPYachGAw', '김지혜왕자님': 'UJUQv_zGWUqzQnvHGVGq1WpiXk_ytnLQsB-tb9C2v8SrhE8', '경 샹': '0nIz-TJQygl464BFhwotrs8svnRWxO7qGt2EddN9XKu0yB4', '확률은50퍼': 'dcLvFlmMvHNqJR2kL0Vxl0CABlqsjMnvTVumZbf23UFGrrs', 'JeongHyeok': 'CRm4OeMLGKBCUr8z4IO_ESknCgtXR-wuUQiELbwHwTbOeIU', '의성 여포': 'm28X8r6IlrwhL3ZFu0QHyz0wKEbCUnVSzlcs8ozFx1s1V58', '전상근 팬': 'h9XllpoMFhHZEHDWfc5-phL3e6ZxRsQHXnXX6cjGuavNzOA', 'TrueDamage Garen': 'RVeFXDMIYgF7wgWSS5dNw3PYTjQmu2eAV05VejGZT7sXGJ0', '드리즐': '8YRjQ4FId00baWK1lg2CKyZherqCqRnIkWchmxQ6L2n_rA', 'Nari': 'q_9CZyHEei9DnNV8EBxsvEbiHVBf_nskDauEIPItSXFjFQ', '무결점 탑솔러': 'Ef9LzPTAYOQNvSBW-dAYceJhSX53us06LOF-YmY8dUOUTQ', '카오스는해봤냐': 't3XZ2rjuK0_L1IGwuiXvNCgTZUBCEJ7gEoxIEzbsT0d0Hg', '탑이블린장인막눈': 'yyWE3abHD8EubjUbqeWEfXYA4zXrZpsFUT-E_yV1i1dOxQ', '강자석': 'TwTTJ0V1ApIGc_XazbrrC9jWq4fP8PLtCQh8yA6WVS8MjA', 'Caxn': 'nLPzX_-ZIFR3dam-uY0g-0PIlVGBdPQXdP8vp15bUN2XJy0', '중고신입': 'Ss1eD0xSAuyNI_bPMjoBOXD4CBd3tVtM_GB30hWkS-DDag', 'jagosipeum': 'MvrD2Qkg1ocLaQJV_fFMse7Iv2iyNeodbgt0cEpfXsukXM8', '데스노트': 'BQxqIwl9kYGqw9N2jQYFWord2Mtqf3TpZJYLlNCpngNKDw', 'Barus': 'vz0d2ORwLQlbn6lKEDsDarQyaPjW56-Nhq1E0NpEU5RpUDs', '센겡미': '__ARcyh6sFW93V4PsiTvTy6g9jng_VRrei9AWGWuCHdYUJI', 'Yerin Beak1': 'nGOzKGhZpDtlWrn7c2FwS2Fsw6HuXC2ACDHv_WKTTyeE-Mk', '표이루': 'ufhp9HVl0IQU32VR0vN4nAHYpIPzzpymcNYaiajAuij3iWA', '고추바사삭배달중': 'eh9irATipp5555s_WpDrw3KHvUggo-EG1OBrwDCRK-TlX-I', '듀시그너': 'RgmB4knjLnHWmKHFKUghqWj0yuKgbh5oRRVkdV4Ob72BK3c', '상근 정원': 'PhLDECCOmyvRDtLfTfRbxMFGyMTAZ_k4UzLQ7klCo3pZUmc', '깊이반성하며': '4APJATbmfKyp8gUBpTFcqPpRVZhcR39DET-3LLxrqDc_F7M', '탑 다리우스 경': 'aaCSwIwkEJCeQzrBx4m3C11eOI4l9E5AfzMNqkZNEwihE_I', '술먹고딸친이재석': 'bAKA46WguEYzcmOh3SSA2xTFxH0iJCZj_lCgWvZDOJRLces', 'Tryxilolz': 'V-sLgc8OnZpM81aElxOzeV2WBdinPgYlLIcMoqMhZ5IN8IM', 'G 헌': 'bEbhvdEB6EFDQjllxYCXZROxXAtkWTDrVSDNhgFEkwLhcHo', 'Hankong': 'xELkvylD1oHDZg1qLHZHEqINGF0KA3UOaOOaRNrDT2QxRNk', 's2on01': 'j0BN5_xaTBajSoi9zVwqD5Qh3qogJg50xPcWNH9rsW9zG_o', 'Weare 모찌': 'eFWD7LaM_FgHU94PZQW7yPWaIVmoTqO1p4kZ_GoPjbhG_TA', '저서주': '2kfbnkYGAi3Ezy2aLjEu79XciUlAsa82dc1uMk9hlZS3hzs', 'XiA 훈': 'r_KPmp_zsKVQ5_F5h30lKIjRZLM1aH9qBGRAey39-F58KcI', '옵 바': 'I0jeG_ZkChTvT-cLi6IKATFO2E727fRx94g_4mRr5-7lX5g', 'Whenever I go': 'JJQ6xnYY50XaqKAnJrTpQTowrz5KCeD_Fz09h8CP0cwVNUY', '음현수 열혈팬': 'xmasSQft-B1u_8PGGDD1yIB6wljRjuZcXjjMIkrNYu2-RoE', 'ZI존정인123': 'nfoYLzvLWa1GLR3_5RZcH7z9CprSmAsSUZOzDgjPh42vIL0', '계 원': 'ChGqmBLigLScejLwzRACcvJhcwrEpm2WvPyBuU59dQ_aNA', 'supuspusupsupsup': 'gO7B-j0sf83fyUmbDjJZTb_1JTGMuH-UmW19diSIZFYX_6k', '큰일은 미드가': 'ik3y8fN3cpvQgiEfo8XGUZNYIJzQcSjycnDl7PCUVioVVdo', '섹파스': 'SaS8hkuXwEdRxBP5P9QEL6CZqyyUEhew9vdOKT5j3GwTZA', 'Migung': '8vyrLBcvV4xGb6uK-NC-iBEzuOnuhdNPZu8yURw_dRGoIVc', 'SDG Sophia': 'IeYBhnI_O-cvZRCZn-HQS0DBgMMCE-xUoTIcvxMJakeuDeM', '관야호': 'k6koncbyBxnxzOVqo54n8Ueax91iSk4PwchcSPaBmbrcrg', '로 팟': 'Nczuf0cpDrRtPNpG5xbvVQUlw7XYFWEg2s9hsDtjfXINTA', '그 봄꽃': 'iHRuDnUoFlNB4AE9XhJEzqvsNV-65kv9yiRp_XsK1-UAoPE', '크림은 달콤해 ': 'xCtU28YuZpDDwWbxqxM2cfJf4MtfzoGIbAfSoIiauPafk-E', 'ZHFLDKS': 'a78QfMk9u6CNqmr2J3IVXvmfjCSqUHqnTpiy3t0n9NaLj1E', '오픈은즐거워': '9_1KYfucLYadxafDM5_J_f0YZakbyIRveSwb6wD88FZlE8c', '성승완': 'SrTuuSif4qwL9cgPesYgbdw8ITKkn6sl8KownRAfGSHJY5E', 'DONGHYEOK': 'kl9ShKohIrH6vD28i_tMsIxjyNr1Ob57-cajg6WfSGGWh0w', '2021년0826제대': 'swGRjagKyQNKJFGEuvJAManqw1x122UHP-JKOXMIKEsFDfc', 'NIA 옥만이': 'qDxSvm9bogi8MBwbGC7Do4Z33eGALpSx818UqEhnbEnX3g', '씨 인 리': 'A--NuYHAU7Yix5HxKN1CvtWuC4SEux7pZjGXPhohfimeXe0', '충남대 케리아': 'LOdG0ROlwaUXwyaOAA7ffIlFJtSSmgxXgE2ETNFUCP48LnE', '한만욱': 'H4TCYODmr1qOXYkT8C3iHt7N5Sh6ETN2iAXdg7yuZBYUoqg', '라이즈그런거몰라': 'GTs4IivtbpoRnd8VnSEREndjExYOIx7ZNTH594K_3qOvyiw', '성배현': 'tVB3klcDxzEJW6DtOPK8ZEoPndRRbjTXIRZAuoZoDuEpsYE', 'Blesses': 'QL24yfK2z45VYKhekYUvAXjb8RwxWC9IZ0JElNKjJRZn9QU', '문다오': 'vJDWNEUOLKet78iRITJs2WUHCQ7p8CyBH_RpvZSXsC5GWUM', '뺨치고명치맞음': 'hEJBjCCurjWHrcMiG875CYCdXbzuCowAysOWbZ4qnRlOiwA', '주브라더': 'AoCD5NdXvMc0H5MOSzUEk9eWcQgD9NhLn_qxkS8A-ET1U9A', 'The Sol Top': 'v42oQ3p99Jr-pIoGABb0grPgi_i-FbrbBxNfxAUiT5POoRo', 'Doram': '4BXlRQhDZMLwV70vgSQSfxstJFndLOb0C0sGWR8eMgg9dPg', 'JunB': 'DJDu-5gRkScset5E9DQ7HGtrr1ZJHjGUl4p4Df9yXcYh6A', '메론맛콧물': 'v7nLx0IaJIpXDqyttn2mejND19eTwNtbcmFERoiOAOe53A', '그랜드마스터99': 'Cs_BCyxH0IbeHYgCcuc9C-v4a7e8-6jXaulrEZYLDjWk0n4', 'Nicha': 'OOkajF8rardUVIxSQrWMWy3fkLJxDhopeCn2TL5cVXmzOoQ', 'Cube desu': 'gIBeLdIML674XX_wFsbdVR2VRSrS5GAz-Un7bnguAKwaew', 'volcanica': 'pVS4CxX_aQoD60YivqnkkahRcvoHxJxX38hUudfW_n3YiA', '은이는내꼬야': 'ZpRj7Pfk9-pkRlM43E5gStcHdClCFz29Avcwm0S0ipWElP8bsQImrrUMhg', 'Pooh n Bene': 'tCbU7jz0f_bztCIP6s8cWQU21Kp7BrdV-esIzAP_1kBbuA', 'mao zedoong': 'NKqhMc5u3cb_ynFEE-iA3hOWVod7jlNPgbRsXIhbM8_Gaw', '펭 브': 'BS0jAgkeV85qTM--3Bk3_TvPvZn-Xg5gVcoW-Ca7VMmkQ34', '은 연': 'Dg1dPMOH0sEdhspBoKx7mdfoxmq1oU9aktSyjZ4u5J7cmXY', 'Mukai': '4gMgSVGnLSVhFPH7LAE7V-0J5ANGIUVDgI_tMt7qMiUACYk', '단밤맛탕': 'lUexcnf6HsPUS9HBMlFVTm5szdXP0kw4WGE-AQ_ZQNiDXQ', 'Top ls god': 'yXTc51iDEtmVVhz2yBVA-uylqK73XMmDxrbCIeYSzpJT57Y', '소년최선을다해라': '42QJ-Rgjrf8BO_m2YcNGagDF6OPhC41yFE8dyDFMedCwfgk', '머리박고난후생각': 'TmWNT5D6iVnoIrdxui-bNhnc2NvFf2FgZHaQQCQMGe2pKPk', '핑핑아 울지마': 'GJuVjKb0zKviomwz9PUS6ayrkX_cgWC2yMgJ_AHkl9xVNw', '태냥이 멍멍이': 'Ch_vsjRCwHkLbgV8jfdJRIrVbpvH5zlvHmtyt1cDzFauNpcVw-UAT16Khg', 'Gardeners 아거': 'SIEirTTFVh2EgKhp2avnIGB6A2ggTF-xiiguu4NYpu94nA', '어머니계셔요': '9GVUXN4iWg13Ba83teTOut_8VrkCDD4Zphwef_UQSPQ48Jw', '벡스는 죽었다': 'Wwa8tuVIyZSurnXKnwADU_xgLC_wx2uzwV-Mm3aBQditgf3jRj7jWj4jUQ', '7kg 야옹이': 'a5dqRRqAGkj5AmerZPRcb4GZVPLC3ZoGulHYobTI2NjmnYrHgYpPiYYjMQ', '김치 맛없다': 'Vihqvorz2FVbU7kVUgM6nzk4elnIUptetLno9yc_6M_8CP8', '준상꽃': 'saM6CMgp0a02GQUYHdaCzUj7BBoYkxzH6iX4E9gHAVB7_21GAZ0I-qLVzg', '살퀸레': 'pEqEX5t6K9dFNexqj6TXe7AEdhpRSBDYgV0Hzyc8paOBeemnu8DhDqu3IQ', '플로트': 'DdHOoM3Q4VEqIjYO0YEVhwdtu78i5-_LM23x7jmAu3aCv_ayjEi-7yT8_g', '수달조개빼앗기': 'uA-jM1cyjnW_kFEm6lrP8_ygy_q0dAJpiwMV2ynbz4anSSOPCyy-a-b3Yw', '너없이는 못살아': '0UCfuLaM2PKsxM2GhfDedGkVwuy3lP_R7ARKIXoY8CXWSr2SrrcPRbTHSw', 'SZF': 'weTmwQPV8l26Qr8042UxhVP3oi0Tr51R2_7E-KEGYWjFGWlLP_J9wq6KnA', '요플래': 'UbZPO-CJ4xk66zNDLrDsNjPG2Dx_vT4J5vtwikQ9tiQLyA', '감정적인 원숭이': 'sZ0HGKu36COhAL7N-2UR_IQ3J0KR5a5G5pr-ZgTGWDez96KH9fXY-7a54g', '뭐요개못하는게': 'O77B71AIpnknDcV1CQUfAetjZR0Vgy2mxP8nH5xsJz57zV4', 'ENVY CeX': 'Ix5bo5bboT0wbe4jVab_-xUB5ZfeCCeYkAGL5So0nyyosjTeGZqYDF-_iw', '갈리오 선생': 'OceK0xHRcS6xYp0CpEpwY0ztKt0b6KnnZZtEbTSKX-VXl25cp6qm08WsfA', '13월 32일 25시': 'Xc4fTH92MrasjUH7jFNPFx4UO8YzEU9UYHJVKfXS76LyqsOtjACivQZRgA', 'such as chovy': 'wxXuTaYkmqExrldrNLO3tpHS2rEye99kRZl-MLDco-AS0VhjfmkJ-roNLg', '곽하늘': 'u60Zb48AKTW6Epd5vtgCGBeSdeeibpYPkmDxF6Wo-IiKb5ieFJvnWfvsnA', 'ILxo': 'v_Sbl6BKyjHPh4l643wNWYA3MuBghz0C4KZE_23YTxjMVa-b2GVIZpNU8Q', 'zxcvyn': 'yh981NokNbgZuCSR0WBDceuTBvlfC5fsZX-Qn0wwNloejIX_6XM_ljSF7A', '괴물미드123': 'FZI4EvjIc2XwFI3Xdt0I4AeYFZh91F_QtsmpHHcwOdFfA9Jo-s7pgvuTvQ', 'guardian1': 'gluAVSOo5VYlh-MPN5JEoKt9vW1Xr4zZsz3tCexbyLseSxEodHU4-To3Ig', '파이리 물고문': 'JhO_v71ROsF-1b4G9t3sEquhDwz7d6Ph7yN05uZhGvE84S8SHd8LhnVeNA', '김종윤22': 'DNNWKZv8U8aWZ83ZO8jX9H0r-goKxT1UVRWp7Mp6B9CDbROTS_brLq_bOw', '공짜로먹는왕자': 'ym4EP-wHAQo39OS5bqsnFh15xLpUBS4T1EswSOx5-G9smlQXH9ztB7Ko-A', '태 릭': 'o7-0J9Qvf4Ytj4tQsmC6-fGt0hvcDz0dzFOibiVQyCU8qkC4X6mgV_aoBQ', 'Toney': 'G3MVnWwjnM38do54n_o1Y25NbwAfnmfzVhn5makRbaDZ_D6zue1ZIHM7sg', '3대300토익도300': 'KWNxImGAF2cOTDmmgQuWJJDN6HD8qW2GoYAREXHY25-p5d2E0UnZK97YHQ', '24하루R Annie': '2LCk5gjvV-k2k178TA2sKd63EzSyNEHvQIYngngIoh0919-QeEWvGtWciQ', '내가바로김영쟁': 'YCSiB5ekdFv06nvCwjF_JDiUN90tJeH5tqhiXgxw7nLkFd5Ga1Ls9jfHuw', 'Lacia5': 'mGDMBRsAz6r1tP9hLDS4hv6j9vW7ys7WMyW3NEl9exOpVGMGE4dgNCgRNQ', '박은빈팬이에요': 'ZK-bL2jAiS_0aHaqRVSwCK_8eJFpA18wH_uy_CcC_IX814aUwWSS7CHqhQ', '언더덕': 'L_xez0EeP_XGkwVEAgc49aQHD6FZ63ykTK-67e1cOJdEvJw', '나는주익': 'ZinABUAul_-wJFA66vBNkUYJZ_YccoHzvRVg05fqYLJQl9A', 'rimidalV': 'Cd1OI0CNAL4apDNhhlExOM6Q_t4o6baMeJMpE25d9X_i230iHHMrDIYb9g', '요치요치 큥': 'ltDw9exxvke277hw9NqLZnk_TvYf1Qtr1OET4QLQk-SalcGCmfGojJj7IQ', '안아줄게용': 'IAqV48Sgem7qXR_WwYZCFYgd-MIQN7XvdINiNvKzvRwV6y0', '전민혁': '2PkHtvIm7uEn6saP25BdCOB4T3VGtATiwCx9uGrjA-EPmAY', 'DWG KIA KANIA': 'EDAqyVAjIdLUdORcQ8EJz4BWMVGjY8qXCwkJ40IFOMGGmqOaXwAxN5BZKQ', 'LSB Rave': 'silhPBgaJA75zry4n93hKlJ-njCDCwz1cHdstqPpgihirbOzgW8riLqTkA', '이해할 수 없네요': 'pR25HIPV7Rvb5g_ef1QSFuLnZyg_rYfs4VmBukLLLDOxN4zT3p7zk1PJZg', '24시간도 부족해': 'p6CTExqKT1QzNjiKXUbvRqxSW6P52ObSF83OgSiL5fMwdvU5TamO8AXrog', '광수야놀자': 'ETM1q-K6-ENm6NaHfdDmEGSs23V0_Fr2xqZxjBgj_3ImGARrtqRWADUjpA', '화내지말고': 'lkJrVp_dNCyizNzEEBARf9tyLSChGJTHC9DHWRhejws2TDIMnEDrN-PtVw', '상태왜이래': '1BNrCSaFZS-VyYj_WaAWXBdQ6oTyR-EURztTZ-Gvv4LMcR0KhY5OSgxuig', '이도하youtube': 'lwcHTOfGV61BZWuMINdIhTF62-NQAVy7KqquQVdBeQIW7FBWlYW-7bjd-g', 'ya li xiao zi ': 'EPaWPx2kAvzKJ7tRTj_OCHDFKbBCD3ElT_lodg-lcO3nezao44JOAypgbA', 'hope3': 'NabxsDBrcDuzrkBirKaT7T7u9t6ftqNhfLf02cWF-FlsnI3zn2bATmgXoQ', '나졸라잘해': 'DDoPSMUcytD3JtakAOIRkGWf8BL0WLZFFaZxaVTEEDKf45YU8SfjSxW8yA', 'dfgfdgfdz': 'kafPryJndh8ftPbqeFKqrCRxHKhJuuaPobgxKUfjagVhYVHKTOTlDAAOFw', 'buxiangwanle': 'EjKsIy0X1KwM4H-6EK89CuYTgsofT5hXpQH5zfXuzcAHiN3SIgaXkrL5_w', '13322133312311': 'zTM2_ES6qU-BnJoKTMrcutRvCXgltrZAqpIaOcs3wWTrrw1TE8Y9BGaF2A', '원딜 왕자 전민혁': 'rE8iB_yLJWAcdhUBlizupW2VMV9Q02EEGa1CIgkLYqUbX7-eEhjcnOsSWw', 'ssunm': 'qjxrMGOP3VNYOM2mLx7XCvb24JUPYjvUFdLSVVzcfiVe8WRXF15uV1x21A', 'BAY헌터': 'VyjiRmIO9dcvAuMInIGwwRNFZantR8FTgEdwncUZrDivZIQ', 'tram cam': 'iZIl9_lihzfEAukbROnKpgh2NTbc1Y2bK326kJzKu6Lwpi9cJWLNy-1l5A', 'Aisha Greyrat': 'kgCh8deCSfpEJiqWSMVtFkv27sbI4wU0Z3gCq_7h9fmB4oj1IzYqolwi4g', 'daw0ls': 'VjJtGC41Nje6HfEsqwUGGoE_Eg1HqYFO-PWLRwgW-GtjtCV1QEE-k5mIZA', 'qwertytuyrw': 'lLmokhfYDWVjnycLyji2ByE9cIfB_VTbscZbbXm_H9V7Vc2Vkj5wrCMw0g', '1vsAll': 'UDJB5L3amd-kwB2OjryEwtKLZ-7IOZAJ4cpi6as3i3sGwcF_2tWeU9RPhg', '뚠 노': 'EX0QCmPAvO7OCaBlsDouUSE3HpLnEs1L2SjiOPUQ4aj8sjLjAS-oizRQUw', '요네는철갑궁': '6dlqM75esdkP9S8wQIITefTiW1he9D1oUd9ZXQa-rGtN1wGFmadkZs6RiQ', 'dream player': '1EAbmN_CLONnDfZ_uK-63lolAKCgZMAbQ90ErNGIgoEmLDo24yAzEEPopQ', 'eszqscwsx': 'mKUw_9uRkbb5JuHQvt9cmSWAdXGjN5i9XzPYb_5IdIi4MrAtHqf7Lwno6w', 'hus15f': 'Ig2Pf47OZzasxtrJrxWWmvfqzGGl7hq9nSeqMqNEO-Tj5_6l0qIhkJ62FA', 'qwerasdxza': 'DAhopazPvkzzzvGZHyYggGH3OdngyqxcMeDNKlANLvxrQt4njQNr1TR1NA', '제발 스킬 좀 빼': 'Ofbx2MxECtLU8ZU2OJOv7WN9wwtPkcFtrztkYxtRWRhsJhqVcCBSCdwrow', 'iznuy': 'pSYTzwUXfG7pBGIAoZLy4FCrs2ZtTi1S0NL31IkKlVcmLyoFbUtU1MUdBQ', '윤용호': 'x-om8nm9-L69_rclQP-VHym39RCA0Ub558l5sN_wSeEODfg', 'Tian ren': 'h5zkN9tLpQWAIq9kkBApFCEt4OM71yksxjhBpFpTTQIPGjSpEMtKnUOYuQ', 'KR Veigar': 'Dk-3rl6mQ_qtzrJlcx2-n0dGK09J4TQCNLhYv_YOh0mEej8FzQtOcriVMg', '떫겪옳밖짢깎훑탔': 'ko7BeTu2E_hpNIrilx9G8qHJiVnD0jt7LphKB-_CueB0q1lJNV6nZIu47w', '편 질': 'A7gG40gGWheb6nYGfKz2c5zgAlSoqHFZpByux-e0y290yRTALSMj1VwAVw', '겐 지': 'ucI4RP_-750C8-fhj_WVdcnZo1mJk0zfL0MXjF5QdsOpunx-a0nR9HUI6g', '05 Viper': 'tQZvX7fTEyRSbPyZgCDhFWCPwYPR2FHVUh0kXpB2S51PT8Jd6A3LbrxJmA', '쭈네프': 'IRcnWlGyb8gQQ4fKmvmrKfK26hEDHzjFvjJlQVtN3TLlmLM3_UsrI_8gqw', 'Soul Shooter66': 'mvdSrSe8BaXaHGIr5-HRo17y3-d-_CR3r1DVXWrTN0blNc8FXTEVdC8Rqw', '명예받고싶은날': 'j4sIgqr3zxHpyajiKCZNG3Ric_S9-Dl-nFUzgKwcNTQvnN5Fqq0Yrc3aAw', '당당해야 하는 법': 'pvR25wdxsk6SuZGeplstaRyh5WF3opuk6FZjMv0oIOpNkLITWi5oLGIEhg', '너의 미소 그리워': 'GLICmzlmdhf3arOB8EvwdLCpXnLcf0jgVvpYFJkdMF-t2GbMnsqrT6zgaQ', 'For my family1': 'etwF4OVDZkaMirIZuOvfv8OTCeqEezAGvMuOj20d6D55kzHaY7rqd4uF3A', '일찍 잠자리에 ': 'uvW8BxTJl1IFjWste0d9HXA1PofImEwzZnwwYjRRoIJOD2trq6nY116Vwg', 'woxiangtiaolou': 'jIvn9q1zc-fIKEkRWyHOzmhnadOMfpNnu14BDxn7dinAVrqG8uZoEtwg5Q', '도전전문유튜버': 'uV-LpYmw2Q4w__A7mIn-LqpX4DvWNSWxX8-58wVXzGF3Vv_AY7fYBMDYSQ', '소스보기': 'VQEc7xZfs6lrPutZUzYZEplMIZ3uq5_SZDUqLFZiw_cE_KdygyKmYacfoA', 'Nidalee OwO': 'mCQ9CtgOGEoCqxsACyJbrnGlEDKCwugVPjM-A_E8MjKMH8BaFDMVfZF7oQ', '왕 성 우': 'V86-t0pT0QRQwnjwzxB8dQZxxP0fNBGWxjgtqHpSJSDAEEFrKJg0o6L9hw', 'LddLdd': 'ZpMvT6AWYycXBFu8SQi7eQTzl02kNxMc9C0ktdPy9DiMjgWvrHY-nVNPPQ', '보고싶다 보름달': 'bZ_ny6l1wvzmpdcp-cYVuLmSITb3eTVcm93QzOQU11bR7fFdmri-LV-Fgg', 'Golden tool': '3tboQL-OYTaa7EwCC3-F0xuUHuyLJLGrsJEC-aHUFPAV-k-fO_KbqsGYzw', '미드가방': 'hgeNZ8B9detEx6Fxv-oSni2dzNmtyrFMT3PZIbhlLy3kcLrLwOB_2IJE1A', '댕댕 오리 쌈무': 'jbOHA5HfcdbSQbW6KKr5VWfm1EvVqEmjf2z2Xh07rS3Ox0g6TXFQM1K2Mg', 'DCT': 'KQtsWto4bEswc71pH6a7cD69shUM6R8MydQYfOp9irtIugqv7Jiu_CEZxg', 'lao di zuo chuan': 'KyvhSk9t85K1jLu3YiF1sazVkFr0i9P1YcgtoWF9Sd7i30n61GtJISmJFQ', 'krats aira': 'SIOUBjz09yaCS3aQrK9dJs3HbtOd2QKaP1mMZRtmO0-CKt4', 'Feisty feliz': '028jX9i_O_KqxqNxgZFXFDPI_rBmTXjNkdmPy1QQ-pJwjTD7A0vwAPLeLg', 'Milica': 's2397x_FZnr90NCmQpx-FyEokYAcSYfMo72pAgh-utKmyjbqF29djT3Nlg', '세상 이뻐': '13bIdPWkhBzH8v9Wg6rZTOG7G4FX7PphUh4qJ2V40238ArAavMct_lshTA', '변하고프다': 'OgpWtM_9qtCu1PwdegOlK0ov6R0X-kjRpE739aPxCrqrkGXM9l5ihEGaiw', '썬더드래곤': 'qhuZwopFKSDg0i9uAEkWdPXfFBgsLlHuKqpgYb5uctb4xfbO1on4NLdfHw', 'ZCT': 'JBaJS9Bf2O9SNfbpLl7BKZkKcxuUDCFoMo5iMfGXJ5D1eP9bEp0iiYM7IA', '비에고사전': 'e28uTAhUp2rgkMVJea-kMdHsWe_823VHWliQ0oaWsbI9RtCRWyxf5JJpZw', 'T1 KolPick': 'QY82WFBhjg3tbP-HjB_hUI9xUtkrmIHUEk9c-O5Oxm2ASUOek7GgrmuMvA', 'Raisng': 'tB8bJStgCk6oocE3H-PuR7GrzxBO8j69UH7rR4snXRa7Bx0ppVND-bSH4Q', '하늘은 왜': 'xKU36Kqh61TYFW6b_Gkga28YlV6Lj5SC5S7pMIhfTgAygfo16OufJABTNw', '98kmn': 'DjKUyqx_DzLYGRe43dqRUuDQGl_vXWYxV-80SRknKBdHU7iUGECP3vK9lw', '낭만원딜러06': 'VWn8phMlPgbbHseenbn-LZIFCq9YcegcOCaQHlelsuCrZXeDOmAP0EeLog', '이정하': 'U7F8rsG6xYlikskPhXk6WK73RfKich7r8DhiHH8ZXxSy6aAUyCBpcP9P7A', '선 공': 'p2Q5Hf3V7G3Kzwxh5kmIO3MT52LLUfFCRW_sWwmpk8BXzMqdnHd3iLJzYw', '워누기분좋아져따': 'f8hiSiCRJkuGfUml3Rs_nVNF5vbVHzTMn7UKQyIFSw2NPZzyfclQxfqOyQ', '카페알바하는사람': 'dGBcNJyeWQPp086Don0KtkZZH0Riw4fMm7YGO6B3J6Nlh6KwC0xvNG1rfw', '다람쥐도토리뺏기': '44BLsnrBwCxJoOR4LEmmHL6Xl8A8V7fvPnr6NAZDZ7_1SAUXl5RpX8X40w', '렝가 명인': 'WyhxBL9oU9XoaCGFbYQ-rI0cx_Vp49UotryH09N6UlGJ0Annoubn2RwLKw', 'Reve Bonheur Toi': 'h3Eb7dD4KoiUtqxTV-YQ4d3V8-AJ04pWZtVVNTquksBn_zIfZM6kK74MeQ', 'Anger king': '5FKUmhrqLO8jldMEX_KMvVi5tOfmNbAHjuixoeLVETVj21BkRKCCMwx0Rw', '주황색 원피스': 'fi6jXm0WgVHy_L6_CumtuQpPgtUNzctbhoDxEopeLCznm5m-L8ikLH5doQ', 'BYG SeNBon': 'JF1dsq_clC195ryLkS6VxNX-Tb-Q2_dZHj7XLyxPBdFLdP0ipwCKZr_UiQ', '뮤탈리스크': 'gG-pRVPKtu1Y8vPlmDqYaCcRzVaSvEt2w53_HzU_nau8PczQQZE2ooIQ7g', 'jiaojiao': 'dlIEEtUmpoxJRL90yH27TWoMMe0-hBmFA8qU5JpLFwm6ecm35iCWU0eCTQ', '사랑나의조국': 'HQDeho_p05kf-9BPgWx6BHjmkOTXWkhcnhqBye-eOlID0OF70JvM0qKpEw', '나 믿고 해라': 'iop6wapMIZvey0m-uFeYuNbRRNLwX8DUs0EeL1QMbXvyY6TnNnXLaM08mg', 'Ke xi mei ru guo': 's5zi9p1WF1-HX-lSeRd5-C80WF6fXkRnY3ODfXWFDavT3CS2f6IFIJ5gRA', '건들면 라인압수': 'fgp_pjSU8nefhDwflAu6MbzMlD_ZPVeeZTHfT9BOW4Nazz_xRgMkGUlGyg', 'ji xing cha': 'HFnazJu3H56t9doLaGVW6NKRdX4Sf45oXUWSWmm30pwE9AJD2Jhf6YFCQA', 'NsNs': '8O7o1wMfE08xHxmt80aviAIH8IBlHQKPZlLdrDWBN0-tGY52NEMbCVIe8Q', 'vaksfjhvaafg': 'mSo44DtppgIdBHVda9orRbP_58uwzJ0kiOlFaSrHZzOp-R95qfDXjMEnxQ', 'WDNNNDT': 'Jr3DTjXYdaXagEOpZryXYfXZsSKo77Rv54eu3nzMRv_01JkVBuvPPopwQQ', 'someret': 'ZZhuW2c8RI7iI4gE_N3jcK3uRydU6aTT4ZSVYoKSdyj918JtvoY-osxqeQ', '0l걸': 'HzH-OJ61rHg_Ki4JPMF8kWnJ_qRnRSPG_Olg6rWi_CDNgbDIO5KHiL_7Dw', 'ni er gul zhenda': 'GtQWgQej33ICNDl9R0a8D4qDvmMBo8-WwzJZk6FGP9x2sdgtGbXkRF-A9Q', '반대 방향 시계': 'flUwby1ig3x6E3Ame91qY2682jk5RfzTi9ec0-08t0Pazgo66J6c5Cso7Q', '방긋방긋미소짓기': 'XmmLO1yhqrV1nWZ2LaC6iQA-c-paxxQMTQOOnnYJcEEuX25NrKZ9hrVIcw', 'Yuzzii': 'MOdLJDt5uzLj1SH62pOcx77AttLLW63hhA2U4yxNs58ltwpbH1SipZWYdA', '처음이라 못해요': 'CbaR6RE3RR1It7tWOw-WKZScfNaTCIbQ3aq3_nrB12TajaxqldEyvSSOOw', '가시요': 'UH9Wh7sLwNfk9R2bUc0zQd0hfguKpWdz-z7s9raYAqtKZy1hze35lYK_AA', 'lIllllIIllllll': 'KWxmhVSy5BH7oe7G6Z-OcYz3vhq0Cop2ZOqiXT4eXNdflbhFARkf_ehCDA', '애기야 야옹해봐': 'QOZKZ8YbrIsEVkC0NtvnOHMTU4eBso_rkSpU82oDgeWc947MnEjQJx31Ig', 'forest짝궁': 'J4vTwdmUnPywP-FSbzxHThMdgdikJebZNGmpGPPn0KwH3qeed-zGWgKwbQ', '아꼬무': 'INRM-n74ghIUQRBa68fGdYifb3g-ClODD0_DavRYq-9_oihyXtQD3dpimw', 'WVVWVWVVWVWWVW': 'E0HNc_DuaJDK5RFFywOnTYsByUeI3dg1Z1sdkROIV69XkzjirJWPY8GAFw', '가상화': 'AP5_2jGz2Eo5vgNrUmNTdUAcpP81GQSE7qATfkkHueTC3PXH1SFfX5GwOw', 'xiaoximeng': 'tvqQhTBbEuCnxDbHPVF9BKwBgB4l_X8QSxsyD7LDlSc2bt7vLEgXmHhYMA', '쪼은아침이야': '5eVYugqfxFYzRdEjW7Yp2FvxmDRqd_C2sJTeZ3QMj_tFdYqv267b4pkwDw', '데굴대굴대굴데굴': '98PuTVZ61DJU-6I-Z5Dsng_wpvbXwOhElj5Y2p6RW4a5b_4', '헌창이': 'jhYFNGeWaL1RoPN1xhz9NY8lFS81YnTQu51X4g9Hp_zVznX9L0NUQtwTsA', '샤오 쑤': 'sPFzPmPnXGFH88QW55nS668f9qzm3xZdxeShuUh_BKO8FduSudkxTObi8A', '코튼튼코': 'FY04hm7pN1_5JEdlyyhJqvrKB-0fs9N47TPwN_ZSnDzdZx9N9L_rW2mQZw', '윤쨩 사랑해유S2': 'tLxK1ItlWIYoIRNS5Mf76P5dJddpbZRFSv1F5EOTJoBuUTA1IvcVeOuPmg', 'ES4BELLA': 'KvZvEgRPnNduq-5TZZuLuSmiRQL2KeZDABMbfeZ8S3o0red6eppreE5V_Q', '젱신벵': 'A4TyC9jM6u1e-chRaR8_KkfmLPmF6vktOR9XIDw6tIhlDXZun0dUmPDA7w', '칫SOL': 'eXVHIjYswhUv2NaN9hxT4PxCVu1tELPm4c6WLQmx83AgrGpNxuagz2R1Bg', '폴 루': 'cL3oWhf6lbeMUNKFaqcz5BFhujdyqv5eQUo8blT93hxwGkZ3-zwCZy8AVw', '희망잃기': '8fzTfaAMHYR7Wdph34lOMXFFeArG0hiubFqqhGrI46PvQ8Avi_F3ZLIZKQ', '나솔직히무섭다': 'nOTSEaFfk4lJ5KPLEJP-nLGvoqamBbB484I2aJKMxajqwY8bdkR6Y_K6Ag', 'Nyht': 'ZjY52u4sE2LBCtIkMS0QV98cAqni2qI4VO4V-i4qAgsoDNWXIBJyKRDnGQ', '불청객2': 'yei0wn31Y-aMtVzblTNc3fmf-Vk1it_YGn56kiehnQ-rE_QxLjiQON2yIg', 'give it too you': 'BjSALykUx4AZK5KUJqnw0mT9U6DFxjAgnQ6N0Oyxfo71x0qLKUPcem6KsQ', '정글황족이다': 'cUEj8XO7r2rKj0D2ocqTVSOnaiU4UzFncu6VwTRB8qNUkf9KJCVjCrzIxg', '챌까지노챗노핑': '6VBWNl2Tc0EHvbdJbN1fdr6vhWG8UeDmvinc5YxSnZ6N6kt-P7R4AWNI5w', 'Zenith2': 'lz08tFHzBkNFtwCUSnXm23BgcszFaeQFNjfRLCrxyUixZZmznLuPH9DH9Q', '진경호두나무': 'Lnik6DzYcD3Z6MAhEnonRLAtqY_KAwBSEEawP2tLu3uywr6Y9zAaxhVsMA', 'OJHOJHOJHOJH': '3DJuVHveEMfnWeg5GXs3z5nuebKfcbAnj5Abm11hgJSeSs9fxNXFXauVyQ', '수지누나 귀여워': 'vBPW-nZsaxZGuevSE9FFkPMxrUdxR-XlM0rjU3LJGPMD0Qf5fhG_S9nBrA', 'Credia': 'er-pU5XDE2-x5ZvXIzW6PbGf7-NpJB_DSTedDOIkuCnpBBzGhXjPFRm3aw', '부부퍼퍼': 'EkjVTPODvTNrSCqiiBcdbXqzCuU_5WuvUA--ix4dMQQDwmmHHEdSfxQdog', 'qweasd0318': 'HYLTMC5avS4tVT2fPJgDS2IV0fx8XkaxX3-aizfLoUo8KkqX8VooW-pp4Q', '강아지로태어날래': 'n71fZZcbvxo6x3u-c9xS6th6jOMUME1F0MPtFoaKPfdhJwE2PylG-msAkA', '어푸1': '5eyE4alKFPgQ6XTdFGtGUiLSaCywVncE1cGEsZ9EHV_Cbiw48wKjd_5UjQ', '제비거북이': 'BDsrITvZnx_mz9boB7OfM_j4azwco-Eq2y8xI6N6vcgznS8', 'danurira': 'yRZLU79RFLFthQZ8wTERItyjEDkZek_kc0QBCrbjqhpXX-SsUh_XhQGHKQ', 'nulixiwang': 'VhbRJYdudHbZP1AcdunWN9sXAkUw1bRtgdt_45ow_Y-gNCu2MEjxO1UVuA', 'C1awsome': 'SREIazLE9FixIB5ETWLFiag4y53VlkvI_n6mstmjuOiyljscLmaJDSLJVw', '민 청': 'OLV1-xkac2sGoreg9OghYt27f2lryEqYpR7_v3pIKbKtVecly-iOz226Fw', 'little christmas': 'ezVjUtRZaOKa6s9DFNpfixhD9NvBrrOm6TjTqU9WPJOVAsI', '김찬양의 개': 'zVIbHHmLKqOYhvTq97G__FhazkdAiyWyHVX9Ix9E7VdNUxKStPyj3N8U0g', '하루종일 졸리다': 'vRcTkAzEPQpYEHJXbdBDm2m5rgfhzf-DBOTaQZrBoVztt6g', 'songjiatong': 'hO7wK-2ysx7Ssq3KWRpyqFo4dNodvc9OLB1kdMWoOCioIEessfOTao0WZw', 'Scharfschutze': 'wvmYF8mbGJKA2kofW32C0m9vS4KpV1iWrRygIya-VW1zYtEMFrP6pz9BiA', '06 King Zac ': '1alRG-eFFvq_beNvR6ihU0CIVgmGA-aoLZH5RvGXB-nRcT6ySe5FWQ21rQ', 'shu xia xiao zi': 'QCGJMkO2-nBbGQfkRZ7C0uTlrugJH5JUJFuo4SMGy95lNxNoAuTR2rgDbQ', 'xiao adc': 'fq2mzjzSKg-XTj6QDqgqkiBJB4xzvjJ7_yoMfxuRUhiEpdOgfjF30jt39g', '괴물 빠숑': 'bzqiAt7jzDVqpMJBOySgopWpZml5DNqL1pp-3SMzgv1bbv_wtjB6MzSqVA', '섹시구': 'X2YEJV9mdX46XZ8qsWMp35oGfhN32RZEoLyQ6KANAnnZ6TxCErIxhAYG1A', '에스지워너비': 'r3bqc1LzEFXmlSmt_YS-jIdaFs4rEvL1Cx3a-R5-w31mA4k', 'nightt': 'fGDw--af-gVzD9WicvZXZFrWhN5D9pjUQlnaGUrgf5xpT7uDcysv5VJKSQ', 'zaochenzzz': 'sh104p9NKRP70NKcViescnioU_AaouNUEnLtn8II6QPgZMs5J3NR0DT9NQ', '똥글똥똥글': 'mlSJtEcxl6vgUx3DoOmYgHAMAXhVk7JuWsZf1w6wcKA77g', 'Sleeping Knights': 'jw4nt6eGxt_BuJFXzYLuvYBjls2TBfTXGvS_kF_Xp0jjO0XAkKpTpwJedw', '제발멘탈잡아줘요': '58XTGvumYGxky-PwW1Bn5IItsq01vBiyNuz_jz7LkNCxnsti3f84nJH80A', 'luowenjun fan': 'zGEF0s1DkiNyahczf8k2snmk7pWa938JapRzePn91MXH6B8vFGMFd29FnA', 'Twitch 악질저격': 'AhqPSTwLxa9XhORjqfJaBgvc7YujkLs59C02UrkAZrNdIeBbZ2Cd_oR28w', '현베인': 'vvw33BLmaAeWX2lRrHmaXfIB0WiVNSW536XxlNqK4JirNfq85F5CeCVY1g', '대전차다리': '6O4KHn3xJjxGSWIVTmn9dVLn60_B8-gohx0F4-PlHL5B3qTJb3_coOTfsw', 'O지민': 'boddl4AdeIjQPEoOo7UZpdZycfFkLPwCDapdqD7_P3J7rvN9HrHLwH7yuQ', '겜대충하면템팜': '8jjciZq48XNWTBIB8mzXv6zp3mtTJ_Tc3yq1TF3THfSbbg0yse-dZ9uo8g', 'dong li xiao zi': 'xzJXKsSPn95p8BjdfaWOkEK0vvElOZ4SnydfmIF0-zlaQwA3k5iVQpyJXA', '나졸려잘꺼얌': '-1yABVdBTQ9L7jP1p7fGfvC78JzOBYmKjd5exKP5uiwdWajsJuZcsWdBmQ', '4warI2il': 'nDvJNl-dxG-vTkgSv74SFNW9jJDJRv8puLdR3ACBIphbUDSETJCJ8SXAgA', '저엉글': 'z8a2N72N0uqfa_-wZEB5DD-CpTY9aEuaJvrZMosiJC2C7xM', '송지아 요정': '5li4VEnD235kr6mxIS2xQ8OcPJldTBtmvszLy9pG2Ezsz_V8RJa37JdhZg', 'zuiaimiaomiao': 'd7oLTrwkXdyVYyId8qHbW13CDGK_mqmunq0_Ms906uxxW-T4x118V7-dvw', '잠자는법잊은사람': 'EeEXGx007q-xbrrGOyr5A_eYJdwvGhzLZ9ystgMFplwl4d_McMN7PrN8Yw', '닥닥이': 'lRdnQkagp7CMT7kbqGC64JW768hbWzhrNYdDkKmFTohTcao', 'Doujbbiewanle': 'X26uhh2e8iGKalXkMAmO6AuELuMQt3wv0ZdDbuvcXxb-h6OHuOpPvYzy8w', 'xin ruan de shen': 'L1MKWN8cAT4jkgE_L-4iza29eq7kXOWby7mzUlAINJsqVu3yeDzU1rfuWw', 'Richard and rosa': 'kxEXRtw221KMgKn9K3imAdtF3FnXoC6ZnaA-h6rYomJm-8JsoDm2tWKU0Q', 'Clozer fan0': 'Npozzbo8NexBKPgiXZq-euVsvhFSCIAhQNoBbUeu5x2tTz196oglP0Vb5w', '98happyteam': 'pbIAzfaZrsvtGVGFGxq7ZS88dnUPnyKLcurHpxlLT3xEHgloMLF4O3FiSw', 'xladnsrodufqkesp': 'wqkX-TNJLB8pjQ4cyr0KhAuoG-FpwTIkwyO84E-OAX8bMOOvpTKoRZfwQA', 'I장군I': 'GKm9Gg2n5WdI8jYPUbfUoncjVLtesHF9NAUfnBpgg_uNu8Ltan_RweTedw', 'sharkzzz9': 'UHgH8JLnVpQ53Rd7bUiJfbrkzG5TDYAswDHeE75fYpvon9kmh1Bl4-kObg', '나무정령 렉사이': 'qh_UtRBrgs95NDBbEj7Gn5fH_LA4Sm0g8HR_dYnjDpKjzwqh8Oy_rlj8Ug', 'msh7': 'AFVQWYPwrvNUDjwIQMFpBrrEdrbxIzkaoYkDS3UqkD7AGzaYGuu9howwsg', 'jinkqng': '7KHbvvK8h2lwiLmvy6FBhVZQvaHDJoANr6N2bxjSofr5Y4Vz2lt54Yta2g', '02년생 자크': 'qAT4yBjTMiNavBHc_sVdyI4G3OVsm6RAWP6SR8ZBadmYIQOqiblWnZqGig', '어려요': 'F25ZsdBQc8t020K_Z7sesg70_tgLAxPnG-W2fsbzHzj1jBv_b2D8bEz98A', '양쌤보고 올렸어': 'eIDJG8Ale6ATzRmKLxHL9gy2sAjRSPFwqibm8kyQn4l8Ma9XAlCGEbjHQg', 'unknownplayer3': 'dzubzwTfOJUBWsi961ocvlJFZlinHrjVGMaayt-0nubmk2dEuNXkcGMdCQ', '영리한 소년0': 'g4_4u_99qD37BdslzCtS1idSfwElt6d74tMk6TX0pc1fZFtThiDltios3A', '동선 예측': 'mlVjgtyxXCkLy-ephLUhtwrjLs0fUCT12xvUKKwQ7ukJopQYR2OjtmMevQ', 'kratosvvn': 'yJK9X0njYsDS_UXVrlK36rZ41MvE9iOFrDDSOL-wyFpm7N7oZ7MF55-ZGQ', '우웩느끼해서뱉어': '5EMhkqbe9Tw3Kf96eAf8iq0a0zrkIt1alQLHdzrxbBC67kA12KWUOi151A', '쿤 자하드': '3rPp005rx3o-ouxSEI2cBK1ZGkUT88PX6dsL7KwA_-SzWt7RE_YuZZBheA', 'final challenger': '4jUbGZSzPLb-T7TTKnZ215AtFyshj1CthzsGzhant-tzYb0Ovzk3LC70mA', 'Kavani': 'pzsqtrTYc9NJpwpvvtFYzewxq05t6vzJlVsRf0-IQkGo-fNddzBGt9Lqpg', 'C9 Malice': '9PiRwcg7wMw-vRSb32AP93ZWsx2M5Th7IpLZLOh4aTgSK-UG7pSZDbkRDQ', 'Sword heart': 'wqB9SfT6E46BlKOpevS6IOBJpyEp9EBffoua243mlzBIIFYZ57fOeNn0FA', 'kratosaw': 'osE8jCiD9NHiLJx6US5PkINj4qPw9eQCklttmeoWbATG_ZmKG56tiWldug', 'yuanlairuci': 'IGlp6YNiWLrA3B28fvrQybaeuWr_XQvGIBJs7hMJ-KDTYqbty9Ggmt6OZQ', 'bobozhizhi': 'linm5S42mBBQWHulR6mDhiiqZlBGsBqZmd_7dH3PN_FY0ucu65om0YYT9Q', 'Twitch 무사시': 'AerYEwdbvua26wENhcMaiG49FVbbrcRMI39IzVCVp_uOpens30SIeyamIA', '공기 좋은 독바위': 'Q7MuGKSvL3RwdmDuY_7MUMDfnrUQC9gcfNC3nrjh6KqBjGlJi2l1ZAZVQg', '모하쉔': 'KMyaoXvZeYREy1RSlsCfznqWyL2PNeoqC2cXfMg-0Ldk7Q', '데프트가짱이야': 'IveS2bmcYc5XYz5-5hlLL_hFA9D0qWffJ3XaoLWk6ra1ljThvTeADbk2ZA', 'Chris2s': 'agIrDZ8QGqVklp6RFcXJ7GU7sEJdYifpO7s0_jldouyMNUrY7L5vv1J5FA', 'TI mo feng': 'Erl09psbCh6XGifwTIYKHoyMiXzBXvwRdQo-wf9ykjF-HIzfi_JK4nBM3g', '억까당한사람1': 'hWuWtbU2M-qjVSBnCZO-mLkYuV1b7pZINCzUiqi6J53fChIIbTC_k0ey7A', 'shadow캐니언': 'QxNxJpZBe0IcxTM6YbL31HIHIr-eOQh7bJX-EGo2Q_3BqnRiOjAY-T0G5Q', 'ggttempp17': 'wygGhazC4DiST2NdAFcYG06d8yE-ahi6Kzh6N3NWoPoAWhjhN-hHtwuLjw', '남콩2': 'npYxu7rXvWHS5k4BsbLQ5t3XHO4JVteyOpBN1a-ftFh4v1njMcI7aI3s3w', 'X allez': 'okf0Wyw0zswvcdtb6OGn4o1tfVHb2zRn_9JOi5M4p9jTmbZOGPe1xAlXHQ', 'qing lian ju shi': 'TkxaF0EF9X5GjQBR1tEQEPhg5iqYJ2EaXy9nxJyKnvPXj0BLhNmCB_q2xg', 'Haixin': '3GN-mu3Bhbr5vHi8tU2-rsPQfj8X9rVDFkrz1uQS1B37bf-zmB9tWsc6gA', 'Erilia des': 'w5l1JLiwHG74DG_WbcBUFvg34XdppvmU_2Lm3XB53gOXPSDAoEXMIksyqA', '응애MID': 'mqGsMqrgayQEAtIdldvLnCInTouVQfPM_Z2sgmxy5lMNaaDSEevUSvWgxw', '귀엽고작은강아지': 'tfnmylxXsadQRe4b6HrD-hZ85vWEzPwstJ1dP-udqKnAbVLAvkpeZAsyoA', '처형자': 'NOUlESLP8vdpftsfCUNlKoE5FfyMIErH4FxLCsj6PC6FTcR1cAEdfIeA4w', '훨 학': '0K1BgyNNreMqIQQGd5jCeRpumH8hbD7fz7SL96yv4AZXZSwk3EmwBkDPcw', '난 행복해야 돼': 'yHrYn0vaXx7PiiW-5F4hhHiOHdwS9cE0dl6c8AjrHUSE6m4pQuu1BFsrAw', '최윤석으깨고싶다': 'axc5ohbXUa94dTmChgr71D7mxTrvugWtxlqB6hZ5dxndFMsNV_HEpGW73w', 'huaquanxiutul': 'u79MZdP19WMR_AjkCwL6ASMdkOxHk_d6FALwhSsVNH3G5MBodw80Z47UCg', '정훈동': 'MXigv5JqAO4PwyXLpt0kDH_hrnbWtLids2Bcfxm7DjiM9mbfgodke6NE8g', '따아아규': 'naS-ua-T8ijq65YpZ0UqiYxZDuNxx-Sfr1a0GUeV4Sv_evDFS1bOegYVOA', 'yaojianqiang': 'DxtacSvVuIg6LB9nGR7RypvJOrcaFqY8CWVQ4N6WObjXCYJJ8qVvsNQFpA', '후이2잉': 'eXum-d3S6JcE82jsVEL2NEXuIFSJ-wOnT3K7lFO_YCAie3PYo5FKoseD0w', 'Canarus': 'MfMcxE-Lq2pLwV8x5hRUBCxwbCi4ayFEm8hs0jRHsy-N4AlgUQxonNwtHw', 's3re': '4SC6MUoYZc7WjNF85foMZLkUFp6GNsFc8AB3-7M6OHCtctdKHbq2cqqeQA', '물고기 눈물': 'xZAoCS1KZ7KkHMl3U_GTiRjpBTX41KUpK8f9LDCah_MPIk2HP0TdXFwpMw', 'FA Choin': 'oM1kdCYvCVROaNy2UVNNngDCu3Ws1cr8nPTFg4LmDAPAc3FJ92ZGtVvgdA', '처음살아보잖아요': 'kj6CO_mzzTvzXvK_J3FE1MdmZROQKQSstpA-ceEqZhRHwFLwrtUXYJS-Mw', 'kiky': 'ACDTqGhSbo-ZHSb1fE8mC74n9hU2udkx5GPwbCIRjO8tZptlRvgXBzVIhA', '젤리 딸기 포도': 'p52HiO29hw35LHyOpBUa1StS110qUlltwu3l5NUE3o9uUV4Ak3kAEcjDpw', 'jhhyg': 'fp3Q52GfUGRanQ0FpO8lwrkTKSOyR5H-x011hW2Kr0WI2Iw6vaWeHTVAEw', '마스크쓰기귀차나': '5FXJs4KG5-2V2IasOfDzjGjDOJyCUuVv5z-bbft60JjYSrDS03sjizJGJg', 'SEXSEXSEXSEXSExX': '6DDoe9FfeKwyvLrCihTwqSxkc-gbFLiUQOpT4qV_qPCQVRCP1TQzauHBoA', 'HCYSDH': 'v5TWm6McEdP5bps5lMXVog83fCCfPox_kXpGiufFTEily9V1O9_0oFbosg', '2001 09 01': 'u8rv_zXcVV8UmeM6TzV2KsJq9TXIXr_oPMMg8SKqLHq_HZ2aiZk7mrKKaw', '히트짱': 'nnsu5bD71MRH8-DmYWWPILeAE7Ufpp8q9uuyGlLZ0EvBORPPyLrzcd6UvA', 'Douyin  Yesan': 'HUx7bdu_6dI5LGx8ZSsh7OCk4oqLTi-_pX-SFJyy1LdkusMUG-MFDrU1Fw', 'Love winter': 'nALHjLlyHIaCyjA05YpYoclODosF2wwoX7Hfw57qRvt8hVDuAl_tAX4lNw', 'xiaoyukino': 'Xd52bU8gEs4gdeRJvD88b4NOOp-d2zFZ772OUDGTb1qu5AyRJajqpt6H6g', '01033309590': 'li_ULuP2Ck7bQLAcgJynRmbX8umbXodR5zlatqlHzxr4znaNZd1WSqoPww', 'jg sup king': 'eGxL_6MfHgStd4jH3rM2Ac6OvOalFojUq4KPH2CSMa_kiDUS2d0duAYYtw', '2005 0421 2005': 'O4kKRwLSgsxlFFuHWNznezCMEs0kTp1KLhUPDRYyQn_2Cz1XfxyjHlGD_A', '로 니': 'M8oyx5OcybzJRtJ285c3SPxFesrPa-Y90K84yOD9JFEjiQABGNfRiyKxBg', 'Crimson Rapture': '_oDnsT1nQr4bsyU1wfCW5w7A0Z-9Q2Z73lj3MwIceMz39paGf-WgfLx6fw', '인간정보육상': 'tyzbVmP7yalJ-rCBOAGv4zwLUC1As37FjMgBq3gag4HGQDHoOrlkwkaNbQ', '피지컬 캐치캐치': 'zm8CELRbWxmLhQH99CuXzHo7H_KqlQn5Y0knAq4TXlRwZpw3GokoUYf1QQ', '리플보기전문가': 'YoJ-glNAHJjefZ-4Oe76sm5buAwaw2-5gtk2Y8q6gZ9xHg1WIrLnpmAzIw', 'Fyz1': 'ya3xam2x18vAG1Thh6XcPP4Dkazj_xopLcc3-zfd-kOlVQw_LZi97j3S4Q', '카타 키아나': 'cWlRXrVtODTuCa7bXSspiuB4jewXcos7LVN7_TgdT0mwANgXWf5CJNU8mw', '초롬냥냥이': 'm-be3h-QqeFMLBSiyL8y7HVLQHPSwC3V71frlLNtItkWLUndoTHMIP9EGA', '아리멍멍이': 'kHykNyN_zk_byq83GEq-NkaClbCkmtEMp-Aiag4jhpwkFcqJbpM8UC0e1A', '06년생 이준혁2': 'xISTLZKkrj0wkRMg-GPF_2PDSvxksGOM84_Lk7m8t1kKz7j9WI8gyKRWcA', 'Top chord three': '7Ti03qBG7FLBj_ftbYjDU_BhocY3QICmA-DLnVz497UZurGiGpY9onFiOw', 'iiig': 'K2ncFD7v_F56c0Z3f8udGwxZAz3EAl0i-Fx3s7a3K3R7Yun0i5sPWI9kVg', 'luo ye ': 'gA4dz8IiOaxGZxTbyzI5tyqxODr7Uz5uwcrVitpB6XXIngXslJgvf-phww', 'cuodebushiwo': 'vmCw7FeqjP8maUtrDvD2N_jOtXd6Ywjf2C-VpoOUSRIzgBDrtfulfpvq6Q', 'love again1': '5pNXMd-f2C_nK4dHsghE-y5Q8xQSCediRpuRgWxxeIBaLRmFP-1jBwy4tw', '중학교 사회': 'ecEnHJbDUprb2cur8YP5JQNL0Tbf3JRrBemqa49I1xxqyqQ', '팀운억까당함': '8g84Wy5MntyvlqdzRYxk12SaiLtFmr_Xtun0KAVmCxwnOXs', '아기구': 'FOw63qufrhj3tAH4pYdsd_pltrpw0m2X1gAy1JZwk6qX0f4', '재롱잔치': 'TRUxbXblaMbzl61dR0fRkFGxbzeZ5DsmrGvuS08zY_faMg', 'prudencia': 'whanRxiwktUtl_31h1qtpiqGmke31yyO6b15JgnchxWR5A', '목숨이두개인사람': 'PCwSqCtJM5r3PTnKaxPmnucSosmN36CnZSYK_wph-ejA2h0', 'lilllllliillll': 'J2pi1ob6-Kgee-o6CMPeSqgJqDNs1g1kf8n8ENOcj8uD_sQ', '중앙처리장치': 'E6a6erXk261ANkrV3ZWk8oIJ7bhmH_DIxOykTNDmY-M_l3A', '소심한데할말다함': '-39g5uqH5cOyITe082JdNE0cw-89k6_nsPH8jQOs9TSX0Yw', '미드가는애니비아': 'lg4dzDOjOmsVNlM-HfZE1o4Hh9vb2ErjZxrEkglv9Bt_G2M', '꼬 형': 'cEsObcB3MAJtsMyEI7i1u71S1K26mrNfG7gMiZGMILwdcLA', '오늘도 뽀삐': 'FAf8jqEv7wfrkqKxZ6VyuMGAXEpuyFkMqq6FvD52sQLwaLg', '강한남자 김동준': '7kDrrBet3sXWGklrVTYPeqtitea5KieyJq8J7nBv6kLG9g', 'ddory love': 'ZKhWjN12cFb8hclV5_UUVzgkNanCJzYVV3ppXbeISrvu4l0', '정쉔권': 'huTqeGH7eYIDnEyv3H6jUScncpcNZ_xgJ4HJb8f3y1ffPVY', '나는증명해야된다': 'ezF5F6Eo-sCuRwRA9JtVdt_8N9ZhLT9RTX9IXC4B2L_ykSM', 'DWG KIA': 'VSt3bzbE2PinmcIQry-dEdO0g1bXj2Lm_NV3GxLX2Q0QQX0', 'IrepresentPusan': 'NoAKWkrbo9jQ97IYfb0ntrhY64thrb8G_kZSALEHXLD89PY', '전기도둑 보이스': 'xtv1NrEA7j3kd6TIkC6mNrzPfCsn_bumdABKy9h8fGiOkDE', '김서윤 사랑해': 'shBl_kOpqYpQD9NyK-hmsiP2a4pbpVGAdWDhcHlDrz9aMZU', '굿모닝야': 'zbv3B4mwch5SkxGyC7U8w1hiI9we0zxwULPVP03dfFvWl_0', '야 뭘봐 뒤질려고': '3jvBa8zzZKmUrZa_RaMPziQrGPAJwDde4wSmb1evZP_CfUo', '피지컬다죽은사람': 'PePlwUeqpYMeck1i0jEXtIDdPoYvKuRmeaNP9iyuRab0sTs', 'ANG TV': 'uCOTPCxu9c5gaMlakXzJY-V83i7YxzFCvaJA5lLLDLWO8Y0', '둥 보': 'LXnNPE8TrtIyp4DXvQ3mftgYlNBx9hQQiX2aOt2O6mQTA38', 'I am a lost boy': 'm1CED64I2satRWafzrr2n_Vk0jEZ5aLKWQwpghJPXIN5Ow', '뒤안봐주면달림': 'LQGPsrcse7ZkUAXhCAVyBwAXOl6129BSB2C5sf2DVB1nFg', 'Weare 하루룽': 'U1bfkvyzf0Lz3Rrkwqz2zm-tR3zYtHnQIqB565q6-ff5Eg', 'HLE Cheoni': 'hsLPor99LNY0pnx8WeKsSVZewsJVLXVFz-soy3pFcq1J-gI', '린 트': 'oMkGrLqZjy0jGhmmyMzq71XSUnK3OUPKT5srf1qnZ3dCBsE', 'Airsalt': 'GJAFoRYmttPuh3YHceqtDpzhZw4CsDXdGsKmGJ5gdrt7J7c', '후시패카나': 'HBCf4bDvAGhVn4uhMNj6sxU2mPaMH0UUWho20g2YrVPlgmE', '카타형': 'PdQucKonvO4UcYHG3VIyiOzOrBx0w7Nir8GfQ6QA6TZLzvs', 'SeongHw4n': 'GloVXDID-DEUmSMlL3U7b4vW2cOH32cJFlL747ikyYAIFcI', '하 넬': '6GFNI-Ye8EQ8fZANKEj8V7F6D6SLbkowBJ5YJVQn0deyPw', '크림소스파스탕': 'uZVaeif-pDhqI4VVgUzlDWycsjyoDcTAFGjYm8oZH5rPYw', '모찌서현': 'uO-E_ZIJbcuuuKapF2bZjlA0TZKbnLi2j852opAABDG7DnA', '민 T': '7MQHb0vKr_VTdZuvGOtvbrELFLMRJJUPcaZUfcMr2MsgC2M', '음치 박치 몸치': 'CLUi9BN5xL7y0mfxIX5gbBj63X0BocsVIQRtYEfkiUyYGZY', '고기만두 사냥꾼': 'D_s6IC_0Z0OhqeG3eCeEEnq0-oUXq6ZLyGk2xzC27vhW93g', '악몽의 초가스': 'bhBVPnmeOBeTkIkM-ebe5hh9Y8-HB325-FC25x4nZIb81kk', '겹살엔비빔각': 'b4qDG6iqHBpc7v4nh7cTNsiScp4MnlW5So-X0fJVDC6BFG0', 'mute all 올차단 ': 'v3FZ8YmtHrNSoBUfnwjhwEGwEuZvuUhhpUO2wW154aQPlw', '뽀장뽀': 'DZg4lMM2CoX3MmC8LINSOBoiQpP3qNK6c_zTs9e8DkvRig', '쥐 려': 'YS3htYPkvLOy3Jm192rFQgg6DgQSVvuC-rgBSbPnTc5P4Q', '군대가서대충함': 'W8H_qtfeY4pXSUAVdRE9FGc3etBrG-LcDzdgf4k8lcrPOfI', '나폴래옹수면법': 'chhYLe_wBOeM-9_NNydGUPZLM_Cm-JGYp0j2vMY-3058oQ', '낭인의 검': '_oWpVzW2NqdcGEP-87Mcgb9qHHCZSf9_U2-aE88oCUwnrwQ', 'Soft ice cream': '-Qt9JIdif4sk66vsoQlHvyLzNS0Tqc8dXxe1WNL-Jxtx48U', 'Oilver': 'D04OcXEmrSPWgtzxA5-8n8XDFNNGUNLnXI7PhVX9zibrQEk', '장재후 ': 'QI6fGj2Y0-x9lQRjjtMTKn-IZAEOqmHt9SxPtETjJZwEdxw', '달려라 재바우': '5hL1kyQRCNu-HQc9Pa1Prd2aIxIvDk0xvjLu0nPEDCV-EbM', 'holly bang fan': 'oTHonc0UnTFkUQC9f4T6PaEJjEzFFlqqzKWXOHSDLc45cg', '노력하는 애': 'DErmcQ1sIGfLGWr6wxrRxKXpLeD-KzFMbSsAE23qu3nbbR4', '송내역 와플': '-zlHIo3XxhRLzRfaFDp-os8w02sy3hFLoabnrRQMG_mpDG0', 'Gen G Ruler': 'M7FHz0b0U9O9e2i8gL_dKi7FUOT_7yH38Sc115uqOICXbFs', '니넨뒤졌다': 'iA4-ewfYosn3Cloq6sBI8TQJx3GGEia28F2BgmyC-Swj5Wk', '외길인생 피즈': '8xzC_kqCsiMtIgdoXxblidsfZut6_rUO2m2RkEY3b3gNBb8', 'Karches': 'qefN6FUkX3opyM45aPsKOqai0QTqptpLVqtwhSwTE1noWp8', '살짝 탄지로': 'AE5hW08i9teOdlFk3wnA5RPCp3ypo9ybd1EkvyRlsVmRfZ4', 'Psycho but Sw22t': 'egRu8iwt2r91yznBUJ3xHxIZTknoY4wKcfdwximKZCZKnX4', '싸우면포기한다': 'elELu6F90778jdUykUOiyF3EzYUMDBJOZ_4Ubr9smJ1emQ', '강먼지': 'k37HZZnHaByp4MdyFDFiS2vP49d8zV3-crFjbjNO1L4Aosg', 'Official fromis9': 'XRcmwlTyuHRnbnTIrEnDHulfkNszaIAfSCyUlErsKY1m5c4', 'Ukon': 'tSxaQl1R7mw6wwiSf46G63d3tHiXdun5pxOGHXMCeRdEmLc', '포근함': 'ooJGVS_ahK58fCvCxGdsqbk6EiFWyjxhtvloS4O0jF7uivw', '천안날다람쥐': 'R_MpqmERXZ-9IcOANuh7Ut65lXZu53RxaaDZwPldoqOK3Q', 'Eyes': 'P1vdkNpiUtZ9mL3Bg9HLjyeD1JPGHWnJy-ZzJC709SdWig', '구관필고': 'd-75TX-s1QYBbsAFe70lxz-CEJbj0hmjjIVGpK7ESG2kTIU', '엄마 손맛 미니언': 'V8WpfwxU9jFgXpX8-HkUkJWSZnrB3f6sTGaejBDquVdEAw', '누가뭔데난리': 'RYmN8fBUlwyuI2gkw7b5vz7WWuE4NKx5PhmGBLN3TK-aaxg', '닉닉넴넴': '2gPLDLUhQlM-fMXbgbSqCwCR7fvplvPHIZey2KXkvr_rSiU', '꼬맹준': '_HO6SzJ9wsvHBsFUeAHUNNGYew324HIRIy5pcSPeKSCsbOo', '첫키스못해본사람': '28BWUEzmOzwWlujVye_TO03FWMnRY1J5hHbbE4BaM4jLcRk', '교육잘받은도구': '4ax2EO1FlHhIXqUS2OYVEltyNjF_rjFE8Z4vIKFm-X9ANHg', '미니밍이': 'yaabJ4dam2MO7-TtWEmJIwSqOSGcjAdC2ENWc9n516UVr3o', '하나둘둘셋셋셋': 'tB5BLQ7mGgU8ZPag8K9l1dEWJ6G1JQtGsQNFJDpACV4V54k', '습관적인사': 's77TrXSkpFPMYPUBHy692Xx2b451SFJh1IuZKNKKv5XoKzw', '2006 03 01': '5SsXZuZPfTLp_nzZOIaWNrYMj6NczVejvBZYpuRhiiWQ9SM', '모모커비': 'Yx_X0GLTnITWFo2mi3h3iHYrKmYXGXFBDOlvyc4soCnKr8I', '한정된시간속여행': 'TGW6wiKwTvjXvqSbkod0QeQPBhLfpXk8VRt9Bif3hSpW8lU', '메건팍': 'JlpChb2M3wstLgMpBsK0EU41LC5vqnzUuJY0bDO9FyJmRV8', '깁홍주': '-ENrUU9rFg1sDvaG-QjsBwWR_90CaaXB8dYnR3piUoo3ZKk', '강동원팬': 'n322SboRO7FIdJmvRYs3C5mb-aLVaqafCmLTGNiTOVhz6u4', '짙은우정': 'lp6iU4HOK_s3zfTR68vVjHvIjt4BhOSDM9IQB3WOzzvicm8', 'C0INKING': '1nFbtJbkrDtcBPSBKtuPCdgeWOm81semjmcSUOHKHV83558', '나는개선할것이다': 'pWGDFwdOSNMSSIRbUpVW1vhLVBLtrq8DabMCx5Uiws1T-Z4', '내가 희생할께': 'XnPvz5G_VMDE_kE0mlMHUTynyJ9km4eGrqrPD4HewnEo-CQ', 'Taloo': 'Iz666MdCH7PO3TRRd9CLNosQKZzwmh8_eFJNopQv4sULVg', 'Raccoon Prince ': 'MWbX6_9QxSGm-NfRmZmzV1DtVzgO3r3Qeke-cPzo6tfkJDA', '운좋은 다이아': '7AhdZQiaTPNorVDoalmuehxRYcR9P1PH_31ubPRn8QuYxfI', '규 보 리': 'miZYg0np-lybg6gea-DLTl9D0es7SX4dJ4SeNTbgO5f4Gho', '효원공주': 'PZKFvT1rrAH6o1xi5O6awIgjYLcEw-PxW5KvoOSwtXiUb5g', '성공할거에요': 'z1wjIH2Ek1ZpKhMVXDD5xLoLc6pslc7i2LqaFTvxbrsv-Ts', '3렙탑갱가요': 'b2tD_xwUANElcXyceP8PXXwOrchWxGpquritDJQOBd2-Sg', '쉔외길인생': 'D2aYIQcD0pyAYJ1s9wbBBVumzCIfILuf4Nf5o5FzvOa2VA', '쵸 내': 'HlXZ7XWwziLnz7LrSxaylV0bbpvyF0b9ymx_Y-cvnLjAfng', 'Quedate': '3Z4jbjGQHMTEcZr6scdeeOikXWhD6m5v_Ffv-TEj61VAnuk', '심데렐라': '_MGxpZrmZErkTFO0qG2Dwemo0964k6uHSrsVDZH19yHrzg', '히 빗': '5Z8weHSblC7gk0Vdqlo9REyFSkbmX7K94aQn82rsMFCR49M', '어디서온 이': 'a-oraaiqy41QXy_SMEqYQyageTWpC0tqa_ZhbT7xeVh3hVI', 'SuipDa': '3PYSbZhTvoszveeQY2FHlFKiW-Ado9YRjAN7MagZV96hZZA', '김따코': 'QEtVGQnLZzo3HFE9J6hTSX1gmNftm2LKYyRVufF-VR68Fw', '경씨익': 'GEjJWRGdgP_mDpK_eB4JQKV7FwWO79mD3PNtVYKjRJdJaa8', 'ignorance master': 'GVnMsyS0mbdyO42n3pw8bUuqvS8h8ft7axzNdSsNsoLxEYo', '백죵원': 'hAfTSyrAPc8zwHJSqXW3ShcWbjxjdUUGFQ5R-UM2VSxaRj0', '천안 덕구': 'rxtcY3zSwboIiDCDzi86us9DG10X-RWdu53C8XGJhouukb0', 'bieshuomeibanfa': '_5pFdOhP429rjXWP2WwTCXxFhZjUnnW1-IrCGjA8xNWlVA', '민씅2': '0_rzYTVdimHBjoGzWHv0Lmi1vLkVDu86hhIjkrjFDfpaWbE', '정승희': 'Prd3A2mi82FIFaauhBiNbkiN7Yo7yTdohPKSAR4St9iwpw', 'wang e': '66Er13XfI-4rSkS9sYg79IQ3_2mRnFNkBJ8zPT7CN_i_lg', '1vs2': 'hH2s_DcneLJrWym0xq9BgaZse2PJJ9sx-OEs4TNUp4cvBA', 'I Just Let It Go': 'sYQl-nYN6Ef5w7awNuAD1Q4ufk7xaTh5dmPFyYEv-BKXqw', 'shenzhen': 'JfJdPna1pybGlpCYvRqeQxWBXs_Atb87CAlrqf-PKzik3w', '강유자': '_xcmXPry7F5jhO7ntWCJov_ER2_mr3cy3DqXRa2HRdmh5A', 'POSIGJA': 'fBR16Mp6r34T3KrIsFvLwbKODu47A2W8yv2IjwX2A9S-KA', '디테일살리기': 'Mq6rbPtSJ8xNaZ4mDOS1VG0r57XXoe8WQqxfS2CyPnV64Q', '널 기다리는 채현': 'EEB-ZqLv7wBP6nRnlL4ORLt6-j2V5-fStnYsa2LchPK8hUs', '와드박기1': 'CSzMPnh8r6--dvV4afuP5ndYiYuuPM9xqzg3knaEl8gDnjU', 'Vayn': 'zjUop6noIvDe-TKPIBJVbOVjmqedJCspQ36o35rD_fOvelU', '탈카니엘': 'rtL72oNfkug7NsiqintnIDHuXsfWyCYlGXG1qTcC7G6FpQ', '진으로 뭘못하나': 'etqaVNgRPuLLgszTKeVLfBLrzV_wuHAxiV7HYxIBqW5ylB8', '사나이온': '_DCfmtP1gCF18H_HTU50KtWXoo9KkGV5-Yi0h1GALy5jXA', 'flower5': 'CoWuWEXEtCI68zSoiFpBnYjI4xJ2o7mXfQH221QOhshdHho', '너가뭘알어': 'bd4oYvfHfSdh8xHmj5RqBwD0xp55nY6FaiJQHv4Ltpr3z7Y', 'SK티 티원 페이커': 'VBqtbBqsvYj_zDUMtesHrc43AUaZOErg2W6J2vjozJ3CJP8', '후라뽀노': '3id3siKrVPjmIi24TlZk428PqNPmvGwYV985YUYExBo-AGQ', '요소로즈라': '99CdfEm1qJLo5iFyg8qOny8HATQzWsji8ul15mQQyGfDUw', '킹리오': '3vyPcAdjVutd6epkAdUpeSmxw7cJ9A5o1n7NxZYc4O1FpFg', '완전작전': '_PytMK8iHJGsJZl9aRxqiA80K_r5xvFn2Yq5wAxgvfaq7f0', '차단노챗베이가': 'bgYsk0HmRk_bYNfLmj7jLmw1oAmNJoqmD_IFmTf3frPabS0', '메이플하기싫음': 'p49Ie5Xz9kUiFa4_RmQ_w2yjOLbPiErwg3TB8DJo_HEXpg', '탱글다희 fan': 'bx9dVId_pxcvTfydfm_nJa8i-b_LomM99kp-dcbgSgh6zA4', '뒤지게 패줄게': 'xrvaQIFKUAUpaVMrML3CTPA0B5fH0PGh2OF4pud9VqYso00', '이현경사랑해': '070fCkfTXMaWLAjiyjRYAAwpKYMs8bjYWwVQNDUdTHGm6A', 'Narak': 'QOnDWvwFRLzRCdjA1sdbso9TUkQd6SZQFukyHeb3cP-SCA', '카운터펀치': 'Zh1Sb9QBtI1y8ZAztr0X3_7GyVGhyVtK5Ep4GOrongOTng', '잖 죠': 'zSn1arAMF8ZdfTlh8TavZn9C6rPAfP0v-eZ5yXXwPqlSUQg', '난최고가될거야': 'sxFxK9nDGZkUTFC0uqMh0eFqfNkX80PILzGvaqvvhCc86K4', 'Yuzukill': 'KOSlQ6Qzy60QnVBSmjn9ViOlvEXINm8KaHwnMjg07g41R_w', '언제나 원딜 곁에': 'tzpVOmwaRp5BACxTk99PsuIjsLY3mCDKz14wwLt0siQOvog', 'lavazz': '1QjuO3eJsFs5tXl3zYOaB7-F38EWgCSPzDBxeYdu0UuOk7U', '공무원 원딜러': 'RweJbbkv4AIyItNiNlriJvMXBlSLX7IUFk9uiuMPSXqe6CE', '어쩌면 영원히': 'UCsHIMALaqbcdCvZlogoTyHbIzqp9ckzwt2B24b35jQFwS8', '먹깨비인직': 'OtwUUVWjT15450G_wqV1sZ-gZHdlgt0AgNOjs1CbWGzvEF8', '서o현': 'ub3nM6i7zgEzOqL_PNd8pLwFFvUnqYByt8l_3J07j-3PcmM', 'Baewoo': '6VKJEaJxtQGlv5Vt6KOQD-n42GcGeulUMIGO4kQcB9nIUA', '갬 성': 'BrIuRfUBsyxuHRZUoQyfNJH0Igwae8_0nijc4cV5TNjduUc', '대야웰백': '_tk2-JmVHFnJr0HRA153FrugDAN8n-NzubfRLx5eczODmA', '야쑤오하고싶다': 'fi5y6g0Z-SFI0F4Sdl4oQK0uEgGsowhspFVZlDoqG8xA-2E', '당바레': '8ZT0iATsgOxlyNrnUwtrW0R_dK-FeQ0T65meNe-fHHcesQ', 'yukiXX': 'UT6PaaLZbMGFJloC1DWfHyqDS59jsU1uV39PgW8a8CEH_c4', 'KFC Talia': 'rymq-rqLS5KA7V6rTDCoFg-iA6ddIUyf4lYh2C7puCIdAxI', '평기공': '9mAdewQLX2zTACsCpGU4SeKSZV6tuC7XY2f4HSS2ijv4bQ', 'hfubVHDVuAWVF ': 'nKt-GSwk-P8K2w4VXT6XaYnccHKweH6VJFYfg5nJbj54Gao', 'Cc3cC': 'iWXDutUUeq5H5GE7B_tMy32_oHOSkpZBhBZ0B_zQpWCJ1Ao', '마딱이편집자': 'KRrs2yIRk_67sM9PUwgSPb19_-676vd2nFudRt-VTOcZJTk', 'Jin Air': 'R6cd-B9ktDRQHINVPJPGxFn3ZYhHNNjZCGzBgECQ148ayvc', '작고 소중한 벡스': 'kVZgcsqp5CvuW5T6PGL-5bC6LxSNtAtuQMErmcma2xBpXWI', '모솔아다백수미필': 'ydpcLXKJ7-WyNriHUU-Ozll17RQv9ZbYop0Cd39TOiXuKew', '동양 탑라이너': 'l1lmzeN0IWLw08548MWuhfn2bwF12n5JaAbFP0wY4mDsWG8', '탑가고픔': 'pDl3Z0Vew8cY1iGdRpqsu1JGNRcoCxJKKC9UAU35PK_H5TU', 'impupupu': 'kF6rojDDu1Wn9vrgGkVZuhr0R7lCp0aLRsRzw5LEjtGCLnU', '짖어라 나는 간다': 'iXSO9VAmruZo2r0TegZWs0SEv3zO4Pot7yvPeKIu9NiGFWU', 'Kim   Gyu   Nam': 'bktqduzoWiXSfWf0s-xtVnqaKwY_WG4zSK9VcezhKEK2pvg', '깜찍이3': 'otplNY7EsCCdDiWbFG97cNOiPfdhrYYmlOVLJxzjtKFdFZs', '꼬꼬마데스': 'oCTYSQCpUD9gkKbw9A6fnMyddejwAMAi0FYxxfORUes2c4M', '너의 로망': 'Z5vr8uSMijczX-9nkrwxkiE1nknfbi77fD_MJZ9KfbTzFNM', '저지방우유좋다': 'peHzqVpraBmEjjHHJsfQr9J-wR-TTDcV0wFanW3bWCp-HZk', '감전 카직스': '5cWu8cS1V-f3mdCJuHQhtlK6eY99QNPWFqQiazjvxqL9dO8', '이마크 남친 ': 'yRtqCTy0RWDNDtE-3Ahz2CiGlsxIWHkc0SU2IdQ0yAN3hOM', '재간승희': 'uwQ91YuWNY0eOAu5dF5xf-q0HZP3SRSPVa32NBS14PJCTmY', 'DK Od eye': 'pORKEX3ngKeO_uY_kBBv1qJwJ0F8zH64X9b1fs8Fq2_SMA4', '바텀십라련들': 'pACJC0r4KnwPrVaviN74MFI6nY03SCEYglctATFEYSom7dM', '프레임40': 'oIACNbJ_JwCX5ARGJIahsSYMl2PtQDsL4oEFoqCqc0Y4Z1k', '웅애뿡애': 'DfeDYYTXm4dyenBxjqMiF7zuC29SSoN1GrdXzPDv7hXZ3t8', '어리고싶다': 'y9PZcld7v3goJWaGqSnxu4YgVfV-nxPN1F1M1-hZuvInQmA', '케이틀린최고야': 'lGpJRvOAU6E2EAM7QOQxYxJ5ClWaRq8srCULqOye4c9-JA', '희포리': '8-odztiGOClkajkREBslvzaRVWiCFIwnt08JmzEGfiBxAes', 'DDAZ': 'eRIrLucT3b5S417XH1so1ZT-yeFANUGsSoyfjIPZ7KX7fJo', '독고윤성': 'T6D7lhSkjHMSR1dUohWeL5PunwuH7Cck0-0nAKRA0VQ4p_k', '뽀삐의 피지컬': '_kSigVrLN8qh_Tr-4pqyozozojPHX71e24pOoCPedBGY7hA', 'lIIIIlIIIIIIIIII': 'nwePWIt1nBSCQyS1GPITOBGgPD5SUEX1JHdgGmTdrOdw9Kg', '생각좀하자시우야': 'NyZASLq17ffJWAoc-O-taisot5gD3xctt1K8wh0YUP6kZAs', 'vrmavlkrmlsmcsd': 'Um3zw8IvFYHRJlUxlZLYUuivjuYxyYGx3Dq6-5kEsjO0ysA', 'Lucky WhaleShark': 'TSZOZrtzyClaZ4uYZ-pU1_wOwUf1sKhJ4Gg_ofQMRIti_Q4', '정점 룰루': 'eXiFBYRjsptLn-2nXElek4F7NGnDwYS2ReK_ybHTj_tJI24', '뽀 윅': 'lXMyi1WwRxJSXneJZo9jaqiEbJoYoKN1A6oQy_9aMjhrzrc', 'Cheese3': 'rr10Qe1ukiD3fGt1hFUx6RYz_8tVAG2it3HIZhSHazVXDiI', 'Lier': 'ELmKkdx2Xcq3ReUQH5goLbTaTTh-tSNL0sak762aAEWOi_c', '테 디 스 틱': 'YX69nGXGBWTKw2eanyIo-xs7vAbW0O1fOrD01BNzT0zlxz4', '쭌 베': 'ArxEbel0F33uUipqrsn-0HzBbIFX0VG3oZOm_VFK5BGSSxc', '안오면죽을게1': '6dZZOJoDMHHd0nIJbYkx9vgtmxkyaLhN0NCjpN1zpWnc5RM', '리신3인칭시점': 'U9j6ZBIZ1uo5xAnYyyKwEfQE49FcKuiC6oYce3EGveSvP5k', 'duibuqiman': 'RiKatFxt3oMg5jTxFSBY0MyP30349QB6NU27Cx1fqfczbTA', '사냥꾼': 'TWKdZtld0Gj9mgui6o5jq_636sJQRscIGBRVcHp34cEfwAA', 'KT Way': 'IXj4qU0LILwM2ruEw0k8q8GApHt8DvgRgwlDWcEc7E9KTB0', '좀비 클레드': 'imkNShz8uwrxPUN16wPmg03Z8e3kNwxO729742tO0xR0sFw', '내빡겜한다햇다이': 'F_R4E1_8ud_va0pzOgP1cohiwpcf9h0XtKgLGrf_3slugQ', '2006 08 05': '6AFrfF0WTPeSVOCID7k-aE5d9x0ocuVGa6YPehvRia5qfyw', 'Endling': 'NZH2X9G3AgInd1ZH8YCHJmpBoX-hWOvxK3JnLJUqF0t_hYM', '외길인생 샤코': 'SR3JPZR-_9cj1kY39tD-oxA0YpZ2shQYwdsw-8rqJEtFlw', 'S벨코즈': 'HmHJdXmV8QXGW9OrI_HvIPw3MPyU9P_4k2eb3YASOzNJlg', '99 RS': 'ME5Oa-Qp4OhMieEqx3tWzir_zSPYCYWhmSHkFfF1TFHrpSc', '쿠크다스밍': 'q7e_RgHjG4ytOoX6zdmGLOCDnXXQKoHsdezgkyH4Kq1Zg4Y', 'FA JG1': '2qTxqkNWTbjv1DypCHrHUq3EWniq5kwNLiWbJ-FrqN-zXhQ', '흐 흑': 'XoFnbQnrrGAt2qfBZ3dv36J171Q0QVIBamFWLerZcL4jXCU', '싸우지마 뽀뽀해': 'QIUhW7_tkuD84VNtOroV6_Ep4wyo4hw5zUrhgM-rZT_s7g', '문스타': 'xWL2SSuPCCe-wr6XIQwJfqFrX32BBYDLpXrPNQoWUg4bJQ', '서울가즈아': '2BBIBI_hW03_7s78a9VZE6BC0twVpvl1Z-79aY6jFrzfA74', '2D가최고지': 'iEtFFxxVURlnJaTqG8FvMxS8_tSY-nT7mi7PbZZVWjL0kA', '이돈녕': 'QjSCy-dsGfd0Fs6WZwxiPK9FtZ8wrNchUBajmPTzMYetGw', '걀 달': 'mb1H81o1198Qht-hOXKun_D9g0Ul6cN1YCxNvanIAT_QBeg', '슬럼프에빠졌어요': 'mlTJp4rVsRqsVHM4n_e6jm0YH7gFbqocTdju_bmQfLlJRyk', '김기민달팽이': 'p-OEQOn_lmqg24bC6Gsr0DwtZmmRcI737Si7HFMRpKjlbg', '담원 챵메이커': 'RU5S1TVgS9iXrG78zEOjr0NswSJMVjeRT7SwJq6Ywp81Gjo', '렝가의신렝가의왕': 'GDN74UGei-3jYTbEduZn7Cgq66pv5U--anGYm_a2nDzKBBo', '못하면패드립': 'rXeC90k9V4v6qhKniJy3QEs8FOq9r5fUa_1xPqC0Uphc3eM', '난 하루만 살아': 'j_0kmCQ23tF00dGB1RE0kOmWWNn56m6So6t8fkcp9562hXQ', 'Bad Bastard': 'Ub7atNoz1tGD3-AkMQR9zJ7ttPRZLDV-VuJxc7gaX_Kne8Q', '정글은 나쁜남자': 'RchNUm9vltNLj7_HanmQerIREFVUvjpxgf-y5ifsWo9EEA', 'SylphyRoxyEris': 'T12goPTdm_iscPQr1ErGguIr899Z2m7gyQFCxJqxGAa5LSI', '비들기야 밥먹자': '-pMFlBG3W2YTyxmsvBbHSpmrjfYzA2rWV3EcfvYgxRxyo6A', '미친야스오': '_GEcrnbSthUzzHw17SWolIhy325UQK-cvNvl2fk0d-h1_A', '죄 지은 자': 'jb6_uvBVdiSBWDV4Jtj6lC0Zcpq4Scce1PkOJHZwwsFK4bY', '사랑하지 않아': 'vwp8EMjsay7-ijWBnf_JTU4CWBFd1ak0SGH8AL15qBg49G8', '아 나이뜨': 'Feg4IJeA2xZbeOE9g6NuPrgwjumwJ5ds5Z79EMCjt7WLs9Q', '누누 안합니다': '2zFOfwQI-si4tZzRuCLWJs6Jhg8fnAnPT_6LVJfuXKlnkAQ', 'DAMOIM': 'd3122pF4cNnoSsa_7g5x-QxruWOUg10pdOCv2HBHYog7Pac', '홍상혁': 'AroTmvfLsLJIbaxbdE4zSkStWiUSKiUjmg3-6FQq05wF9us', 'Imagine Legends': 'tQs9bnhjEp8N1DJm-Ab99zLziPeecurmgg1rj_9e6aadTY4', 'CoBiT': 'zXG0glYDhMltpRahS4c-laRiNtx4_fwbBLxIzFMLiPkgDLc', '빛 플': 'IPC15ZAewPW4pProG33R6vyY0n9wt2wgSFbxA6gPTHOi2vo', 'An bu yu': 'BE-R4XY5FOT9PJkSafm6361bmVuQYSAc9bIeXOivoYHxITg', 'T1 J1': '_wQcY8oWFN9LYfN420c4EVFFP4g1lN7WnJg0213zRtQST0M', 'lllllIIIIllIlI': 'SrFfd5dyjvOfU-pjC_n_OjhGfCVlg6RGbhZ8wnEW7gv8A6I', '매판진지빡겜': 'BlLtxbEhkPUSm4Yi1Knby_wLcqutzRLor96XP4vbP89kbg', '닉이몇글자까지돼': '3CUuPQU9ZSYgnlE4VdO72NLJkY_AR9t_UN6LzrkiIrpPkSI', 'AzrQuQ': 'KIQuxNf15t74wjc1yIlmYpRxXBF_XBVlHlh3JWjZPuapUSY', 'SabuzaK': 'c0RcWpRQJEs0Iafp_wqeGWihuFbpmgXKuLOrPWr8hF8yAg', 'Suweet Fan': 'QPWKdC_aoh3DqjYLimDdm_LGudIJyniAttxGBzFIGeu70g', '배규리 fan': 'WhKrzYQU-VRT5fB386QEe57fdmw2dt55IZ4KsjHhinB0kCM', '시브밍': 'DhWl7pb9mncMen5ehY5KvoMy7l1x-Z16w57e7OT9cKpOcXk', 'BRO Delight': 'Oj74ALgGn7pjdh0JVVlSsQxKSXii6pXCu9kQ-dhLxFP5aEU', '지1랄전문': '9dXyiQ7YT7f6waAlle8RLbqK8uJ25QwfyXPEIEEKj_7gaow', 'LunaLina': 'eowJWpEeL2enQknIZ4Ts0ANUTljV3GPSGCRcLZWJJaWuUmQ', '젤리베어부': 'biRTW6PyohW2-775ohwDKIJIp6d0DhTWweKvmlKDLQ4qZZc', 'HUYATV XiJinping': 'IjEFkzVmEm0n90ZE02oOBEcAx61XSz27T-TlAu94y6kN4g', '폴리스': 'GZ3zLd7K5eRcsVKCmZctWRroP8l3Q_t_4txFtroTfCbUBvI', '왕자를따먹은노예': 'XmadCcbjT4Qr8kRFsBxi8HwE_Mi5tjwy6Q-u3haFCUha8h0', '눈오는날생각난너': '5I1815YDSbqodpDo4mwQ4gMpS4n9r0UBC2BuhlpMlMkL9Ts', '그마못가면삭발': 'qtdBcA24-FARMTvMDqngyw88VjvJ5_SlRyzON8MEg-gmH6k', '정신나갈거같애': 'zSz0Et4FQEXt4OKFUN_0vkfBvOcrj05Z9jvhWcLZtUHGohg', 'Melkiss': 'e_tx7l48eKpqi0ipEOHOEsz7_8X_Cf6LCxPtSwdJkwg3xTo', 'Msyccc': 'PlOFEY6yugbORW4VJLgNtbYI2yxQjC2La9s1iNZ0xaG5BFw', '10shi': 'e8ZGbSLzLviMEF0QYzdrVlVa3PbH0Y5hML-KAp2qti0C6NE', '오리지널찰떡쿠키': 'Sn-HapDmCHYSLCyd8Bq61eqNmieWRkWho_jHgsPs53E2GMk', 'bingbing1': 'QwLz4EGrD5xfF6mBd4fhB235SU98twL1PxLuL-BOqJQI_bk', 'Gilbert 소령': 'qgfCZHNsvfQ3tGL5h3rL-TxJBUdKZXiC_QIXjNuvuNfk9_E', 'Waff3': 'FYGtsMc0IEdLPwaIvOQSR-oNwqg4urh38Yxm3hIetxaIow', '태기베어': 'ALGpW2xa27Z6SsbygFer2XtF7RDlgBAFl9l0ALFd92NtbGo', 'Kniff': 'UtocHxDPA9wgyhO122YLCZGwaS6J3PNFyIa42996xxh2bTk', 'Firefly light': 'SlE5Q816w3eaMafXk9r7LF0Ta8NrT4HELcNx7jOV9V35crg', '란셀러': 'JD1LqhLv4AgCQMnDXTdB3fZ2OJ5suYu39qnP5oaUlVH-gHo', '연 현': 'sANB2J5JgszFsCeFM_y6DpZWg7fGPOTDLLJbOYgKgLz8DE8', '널 본 그 순간': 'QMATNQ4a7F0dveesxNzdbr_sgSigfHPpcvDwx2JPNE_h3k8', 'cola1': 'fN51o6G0u1bSEBePK17UYDIzGgjl-qf_QMZJN2DyGt9Ty6k', '국대TOP': 'E77-Fivr7p4GNM3YGH3TsvJxUII551NMia1gZx4-6hfv3ks', 'HLE Lukalux': 'r-Y4oawYMArFHxZvgKwTuJSVBJivaOda3jkuY-aN4LBZu4M', 'want Happy Day': 'bx6mP-n5K0wasWqYibOcxoOP19rdUQbZjzd0FYEmP2btv8c', '반으로 접어준다': 'g-1pncgJkHWnjT2HmC9BHHTNWWy4jSNg8JeZxdJfH7Xz4fo', '디알엑스스': 'Garhl0T8oPirhpMCv83OsqKUUnKXW1AQPbn9j0hubXPFbVg', 'Imaokai': 'gfGzJVyZUbHpQrCtvmT6NOFDj0KHk_pgM2a_1pGbn7RXwa4', 'JG TTOP': '0pRsoRsL-xVada5ZsbjI3aBZmD_mJUjZN75NV6YRpH7C1iU', '시이스': 'TUYL5jrvGP_AqTRu1S0Mr5MKhQk0K4NzGNEx-D1WQqDmMqs', 'chi ke tang': '00SpUAOnOfFtIHrpwaEFeNkZOnHgC646ymhMTzeAZrn0CFU', 'Mother Cleaner': '4CcJ-x550vT5soccYDpvF9NGuW1eHyrzB2IrZn3RkFHfo8I', 'Thresh Only': 'ziwCDpFVOkZsItHvS7OsxiJzskXMhWsRjTe2Ix8F8aqQoQ', '랭 끄': '6cKoZqtvbtQQmp9E27Wnsv0AcDxa-ijR_8icjWEcId8gTg', 'GALOW': 'V-SqpkZzzuXruUa7BasRkuYndM2gWGxCkvQOul5o_1o_kA', 'holyshift': 'TKOp_iue2rM6IxUMyf9TC-zuxd3Ap7LramSp6Iicik1YkQ', '고구마유시': 'VIEMGqnV5M4FWEoT8_UrxhEtE-MPS-TA37q5iJHs7at0OKg', 'Cute and cute': 'rXyHXx-3ZdxpQrVtIntz-f__zfG6Do8AO09Irr2xBJVZAk8', '찐 조': '3TwVQRT1kf-hWmdlbtyAPAyPfY2e2w-ZOEULWyt9YwKErQQ', '황성동미드': 'vdWSD9yafYC5gO2YvVrqgAMgMTTdAQH5c1SztFW0VwLlUA', 'twitch 일성씌': '22iFto0l4aj7qnXxOvbErW366TpBMMjqt1X0fgdzv6xswKE', '카시스 페델리안': 'IZzfFArr6X1ZnNNOYlJTEhPPTTIXI6TTP4YL1MengrmnLAg', '아이유블린': 'kG63ozWkaU3iky1aXcQ0Qts1uXjCaFpH17iPUTleMJTPu4k', '2019 2018': 'uzQOCVpP1A9zQ3NjMjzq5IfqHYnCOpCYPtOKYLzidtQNwTQ', 'MOUNT OF SKY': 'LC6AQUebMA8FBuy5t5gkC2w7zGNb3BapdM4RjzeKAHpA_WQ', '트페벡스카사딘': '1DKo1KBwI288QGWDgcilSpRZFmzJSW2x2lo9T4ywR30_X80', '마타울프그리고나': 'suZOFFb259JbFKX4lCrcVcUita-Bo4DkH_Q09A-njvESaGE', '9358asd': '7-l4LQYo5dJP6GBUiLk5x-pNZbS_7H8qiMJRwzcNUKSpWQ', '예 뽄': 'zWQ5LB6_zyI-O3j219hyRumSCjSU1E-i4HbpkklWuH2LI9o', 'Je te respecte': 'P_-ISZvWnc5bF_0LASLnEmeAAKOHs82XYaLu4ziHTZ_r7KE', '05년생 AD top1': 'SHmj2eT6QmrfQ-ZSumYTVDn_Z-15E4OQuXlX5NMpassK2ok', 'Snow haIation': 'giNJQw0eghQJhV9NBGjgPMU0mQIvcj6xbsxIYbma3JaXE3w', '해 야': 'EoUuuaU-HJfjWAw9QuLo1NgPHLFuHEmqh0BJNhm5_5tTncU', '엉덩국 갱승제로': 'pQPtDo1LA7DnSIyPErGQE96nzonfY7U0Dewz-Yt5ItR2Vw', '우주최강민경준': 'cn8uyAU6XBKMPKFnj0muS3XrQOUdnSlrp-Wf6SkO3bimu0M', '담 서': 'kik3bJkcsVePrMHZm3OPNSOqeHRlVkDRMwINtS2mkM6DBAE', '불멸의 오장군': 'ncr9lZ1lFI1CQ3lKoX5X1ZKDv5QfX2v-Oy6M5gcryi_c-70', '카정절대안가는놈': 'UrF1BI6kz9lPUlza6r1KiXhwGLa7PQ9dPopRluoRKc7zftg', '진심올라이너': 'cZ9yHoigRMe8xJEZWg5iVS-FjNdjz732AFa3jFTNmcD2Xjg', '준라에몽': 'gljRuijv3VV2b1YhIESPg4Gu1MYTLDaLi-vKJwHkPwjmZl0', '내고양이 구함': 'pYxFzy_n1x5_D3SV1ne3eeZ96MtQv4iMdRi_-JY8WlSE_-M', '희영대': 'v04D3r6pOAIcX4W60n6yGNAJVT8aaYOvurfZHpSP1OdJfvI', '과거로돌아가': 'I3lqX6mTfu4tK5p2n2MhDSGJ2XJG7AT6dwmJcJUHYrPM7Bk', '니달리하면 박음': '0GfcVROIhm7mqq2YpH8vUQoRYbgDuxroKLVmI7Y4CV69mIY', '팀개못하면누누함': 'dw8STHRG79CM-PLXWH6flvjfaneO_8AKI2igo6Tl0LN_FKU', '간호사': 'wDzOOC0MYJNQBH7av-sWaFBtZz-BVQ-I3G9d_7-oAUpvtg', '춘 갈': 'U8HXa2dy_GNEIRBAg5hr8U56lT3xbyP5rqXqJXkIrqODInA', 'Unknowns Foam': 'kjdRfxcKjTVzKoC0uumfeTeju83SGvfnezU_JFQWam6jHTM', '06뚝빼기브레이커': 'I5E8SP-lLnch8PKcgM0DkqIq4gZKbD5I2vjUxdj3Du8FIrw', '제발이러지말아줘': 'QmmHmNsp9Wa64VdHu4MHIGPYH7lsIpmYJNtWgA0DB5A648w', 'lengqingxue2': 'y3YZKg-attgk2uB78rToMmPruMFBJBFWgQmsv3acRHd8AxY', '주0이': '_RXWDTO-lnYLMdkCVvE5Pu67ThGR0nDRxxoccfiGUCcwCLs', 'syz': 'TBnFqz6Ft6mTnyf54B17k9Qtd590LPtKgZ6Nb_T-h_XTOb8', '12o clock sleep': 'yCbHhJlUf9HnQGHJPbGU05ydOPFCSueRGsvmi8VPvXcjjkw', 'twitch 마노애라': '4NXZJnM4lR_XHduaPxS7k9Y1gyScRiPXzmtaE8sUgbK1cys', 'Viper123': 'A-WOWqvyW3CN5bsm_VIgT_fJAY5JAjjX1dGjjs8P6stXD-I', '진벼리': 'CvxZech-5UKon_rMIA98w0tnj8DhlUA-dPJe7CuhobY3Pw', '원딜하고싶은계정': '2b-g5Tztjp9HUJFhUM5sUfVTuJSieryf8AS3En3Ker7xiHg', 'B0RAM': 'l0tinbemH2yurCaZkBZ5UP3wwblnSb1Hww6bLfbqAet1tIo', '김다현 추종자': 'g-fhTpye-r7_PZgnD-7aMxgnz5G_cxEXU-v69r5L88WtZ3M', '영주고김영빈': 'gSJppRGjpvQioWfD9CkUsHB0z2QIvxX7e9HFOqJ-Wtw6Y8o', 'Gamin': 'WsVhpD5Wb4Clxa7fwMLtIG_wLxUoVFgPnKdwETreZrOJKxQ', 'haojiubujian WW': 'PxrJCg2fRHXF7EvB2Qd5zh-NxwAEc5bEefWqr8bI27u1Rno', '기발한 칼리': 'QS7r0RWlnZn_9VuWDMXvHhOvWz0XsK7ucpYpsEHI9Kl5I0w', '쓸데없는채팅혐오': 'dqNYpyjhtfwSSIZIDDo3DRYeu61sm4_EYcPu3Tg7BCtuJPY', 'No Fight No Chat': '8BJ2IjN8rBOkQdjQy-EiEp_D-d-WReHA9tP071XBcCcSQg', 'Gon123': 'Wgb4JutfNwP1UWIjDh9yEYcmcreCDpnhdt6M7ur-QJTxBpQ', 'Gu Ai Ling': 'XdxgiBzbZR0mgdUkVi8Msb5wP7wn8mHsnxnAEluhsGURu9o', '발작하면실력하락': 'H_sNMny2FI9FYzbhDYmL6HWn-2Svjh7IFXQIJxl39R4pjQ', 'Hwe': 'CpzHchka9_r4eXUBUiasvXkRMN5bvvK5t9khLCOLDIg4aDo', '샤워중돌면워싱턴': 'Tz2ToPRtUOOfz0QyrixclnuAoBzz6eUcVEGt0W72Dc1ZxRs', '햄스터쫄병스낵': 'WN-bOLU5GwRJLBTsW6A3QgiwkQyoGeG85BwBjuvYjIGyvQ', '아이유는 내꺼야': '0DtItVtGtkDLNKGzUMdNpVYylrU3O4zTZFn0-awBpS6v8lY', '동냥아치': 'QZf0bqi7uhMGxfhQW17OyWnMkJtTbReHLXOS2GfOFNCKCBA', '병만쨩': 'DepOGeWStHOjknFzfZYg_PF7RMPwEj9uoAcbBa623-PLAcE', 'wind zz': '4tWmcxOv1Y81DGZNwz_H_DyWmuXvVOp-LNSEGkM6wXFnrv4', '량우야': 'EldCq9ov-J-1iWVZZo13FJJFQzVM11DZSdQQNyGb4uDRrt4', '진 쟝': 'nI5EiX0zXVqtG10b_r5C5DNOQTUkJFJ1K96vwm0JJThu79E', '펜플서버원': '3tEhJbgsWbjRJAuwgO5hqgujXcIKXtCT1LtVvCUCfTJpfw', 'JEONGHEESEOK': 'vUGADVJqAIvfqB3VZ9wVaNCooTitSwOp8YGt6XY6Nb31Kl0', '세 체 우': 'CsNuG5ke9gVSrqhBqKKik4Eo4N6dpaNsKzOS1z9T_kG9iG4', '너 없는 하루': '1u3LU0X2KRyG1rxElhu1Ts6lFep6FWtOcJETUavPGne7RQ', 'drh': 'Z09r0m_sqIdNDlAdRfrIxEMa-mfsy30g2UJWKm_6wnP_kHU', '율하고싶은거다해': '4Oj3RooqYavetcCMVi6t1X7wPpnr8OBgLf1VVqtOEra3kx8', '좔리다': 'CbbqMOQQ_EK1d9JIG-qy0K7hd_8b3Tn_Uz1fR4UqGP1Lx5s', 'No Push': '4N1GaTiS1NRblRJ0qG3TS2R_M46QG-wdFmpRDcPBZVzjog', 'hahanss': '6hsd3f6CSmiefNrCUFsOLLB2N5C_iOCOr9GtfMztr9Fh9g', '용팔이날다': 'KqOfmEbnZAgwa_Q3NnEBaK3PZ6tl9Ws8tcpiwRID_-UFfw', '간디도롤하면폭력': 'TDy3uim6T6lDj4rqrtWzoL6WfM8YVnqGZhW0K69a7dR1Ucg', '멘탈터지면대충함': 'ud5mjDc4dxuhqJyhLw_57NZoR11nB-aOch3hYaRR_XMZ0f4', '원딜 왕자 지건 ': '33wRjieRwn5uG0YUhind2B6iMIDbRKLuaakb3LY_JJPctGg', 'Choreo by NOZE': 'XXlBHMyyG_OZos_SqaOLZ6vcGOVeR_lhm8-02nfaw5QbExg', '종글인': 'n8EX6-03gM-Pjngp3PR_ZZ4SDRmhfZpLlhV_vjmMZDUECSw', 'Sun3': 'oKKGFSxbhzwCDZaIE2lnO7XKNO6t0u6bMKQCATQTTOgw7uY', '쉬고싶다람쥐': 'stvX2kjDite1NIIWCxRXranj8peZsgWcjK4b3xoAMQEa5jA', '왁어그자체 ': '8-ktyc7hEtezq_7lWwy1Crc63IAy-tl8qauju2FY7NLYdok', '상대 죽일생각': 'Z_nrz0T6JNQnuXCCXDqki38jS87ZvxkUwURYLxUEOeegm78', '의빈이밥달라': 'lScSA6tQ0HurtmfEtwnlQz04zJW7k0RsUzcpD_odJWzJnes', '버스전복자격증': 'MziCI00wkdcHexzTVt3Kjz0SYSk2cYG-zSZJbxhoFTkaaOE', '하리맛': 'mQOWV361ouuaZvY0KSFnIiwlD--XWL0um0zDLDBuHe0Kmrk', 'hanbye01': 'Fs15kcrneeRWb9VYEIn8CiFn8Uqxr6-MkOeG63FiZAc_Mlg', '전라도키아나': 'Bpt7mhE6t7kf0NqjH4gk0WGQXm7Bx2hhSu0wcd6QfGLOmhs', '쿼카 나뭇잎 먹방': '6u6B0QlwCGXSGtw8SjraJYq565ylPhQJT3Q7pfDhUKORa_w', '유리심장 ': 'AOcIeFG4Z_yG5c0ItDRQlFT4OuAZqCsvCk0Do98WE_CSNTs', 'Lepton': 'Yjl9hgeyqtYNCjz0mr1oRXz9_K_7BuNAhOibJzUj9aS6_xM', '팀을믿지않으며': 'rpW92cMaGZndb6dgtCxyULUeg7ylWEr4zVSIORxw2d-F_sw', 'MeeA': 'z5ZWki2BZtrhsdXj87whlJbfnDwzNQrwmy_aJJkfxTW_u8k', '5p ru83': '_EyHINOgBRDVHyNFMCcAuOYxmvSBFHjPOwNM8g1mv_fluQE', 'Zero상향': 'GW7Eeh54gshB-C4cKoO7VLyPzBo3ekWIZ641XQJcv4A9mew', '정윤면': 'n4M1a6GCgCnDzX6h6VIe1WYTyUy_CqGIoGqQjiE9UFlUeqc', '이 쉉': 'IexPbymzNM_Gmkga7kbKzdVc00iwG4vltprJBzfDa1Jus4w', '백상휘의술주정': 'fo-j6fN53bgKNvnjCnDPDSFtxNfak4_dfEcId-jT5bWx0-A', 'LSB1LSB2BSL': 'hb9WU6yTKTpYmA76jCyjkhlMRXgbybGLNmWxEEjoTSNkJqA', '평정심을 잃지마': 'd6XQBiWt38jbKexFZxu-WcJqziu707fs0EEPxiiyQVMdocU', '훨씬 좋아': 'EXa34ASrUFYNnIJSsY6v4mgGAj8SRwR-89RYRPQFCfY9q0Y', '미드다이김': 'EG7fjLJp765SQ6FwDGBpcgCiLZiWZiWWBfxwHMQ0e_IhPGs', 'T1 A  KIHYUN ': 'jMlyc7gl70qQ-7NwBBzuKsg7R1hvmqkYjCVMsUUltYKcTjo', '건자갓': 'jmbvErGBol6cVhq8O5B2q5s-087tUIE3OXOuGOp1LCnNCTc', '아카시아꽃이활짝': 'I6iISRYTy0zw5OTLoHf3a6SfzTR0OqWnw5UhKegrz59uVns', '제드만못함': 'AsVEhiowcFSbCrM-gCR9wn5_6RALsJOdmsnL9KUuX2cu8iM', 'ni xiao zuo shi': 'C5j6oJvmH0ppoL0xDCm6FtVe_iP51J0nI9xu2tyPNkgyKB0', 'Bright you': '-_XMbBl3t8tpqPm3o7tVMj4dc52_6_c34hlKl1fUx8o-0Y8', '우주1': 'wqp5k94tX0XvwzO2e4E7CkbkWG8cznh7u9pdHEsjnQXlndQ', '정부연': 'JObfLWa75aA4Z2kq65mmK_sfWbTqN6jXUkcv8w897Eo-dZc', '유우키': 'FPnFMZuME088PzHRIe6vgk1jVlNgKe57MeGy-N8AC2SMfqY', '장수열': 'A9cWFYDn0gyYa4ZMY_fuZEYwzJu1MHwrt4oHcj3WuESDhDk', '잘보고던지게': '8Nd2qtqyitDKrPrHcNYDLEGhsP4uWWNd0n9elS4ukQO9Wg', '불필요한채팅안침': 'mEDLkzhewtsbleljdadryb-pcuSdhicXna4u06E3BjmFFL8', 'Adellais': 'LWZxCFmUceASJ-UvOpn7So90d6Hx4zgtL5I4qNorRQO6ag', '지으자닉네임': 'emdKpkUKw37zKC3Obh6EnJJcmplLWbbeeO9NtVJJBRsgoDo', '빨간음료수': 'Liaeo0sHh1_zsS-932lHqpxo5RfkGh8W5yWSYggmQ35rdA', '꽃이 지는': 'Uoq4lcUbecdCgKfPP66xBt3OlJWWUt_c9ZsvbINeeqMMDuE', 'wo aini en e ': 'gK45MYzxGxxn4atb2ECDJu59FZJE6Nu7y7T2IUa-Rh_lHXo', '악몽샤코': 'e6sFgcKorApCjpcJb_Gzj42vO5pjWoRTaXSRcAUqBVcR_sw', '지조있게': 'cbbj3oehWrFeUj65r9HFOPTRcsO-iJxEF8pnXWHOU-5GtA', 'fen zhan dao di': 'I47DP78VT6LVKcNEeOWP4vKe_JOBSssO5cFiPkNc8_o-ahw', 'Noticed': 'W7BFcnobFcZpP-MiSGg81UCPgloABwRuGDO1BgcHwcKsAYk', '모두행복하세요2': '0P3B8727ffkfMtvYjMd_IeD3s98QJ3vWkn24itiottMHyUs', 'BRO Loopy': 'YyyVhcqE3nplkHpbpQdRRY_M8lZA7G0wD7hLqkJU8ZHM-Gs', '라벤더그레이': 'or6Hp2ky4fdd_cLl6dgbVWlE39yoX6N6A1pcjboueIWbVA', '김던갈': 'E21l0IXh40g6IywL1luQKN8wcG2q8os1afV1c38dx5ZAXYU', 'lIlllIlllIIIlll': 'FU4AlDfAP4-RNUh68o-i0-UTnfbJUDA2krONh_fuWcZaeko', 'Preseason C': '1E-ofQE9QJJXeHFWBF3RH89giMKstY8jVnjTpRTdg_tbv0U', '느린 자살': 'bV1c9vLALMCFVFiftvcUOgesZN2BlstVVytOBTcuMFm-624', 'LOVE OO': 'xqFBi1ZViOhMG8ETUDoi_Hd282LQYyRK7y0avir7_IOJ1iY', 'Want LPL LCK': 'UUlGWAdjeX27GzaN4zYhz535D4dpeU0mOX9xVB295Dsfi7g', '이쁜이다찍': 'HaLGb3mvkshyOb82X3jLMSmX-idfy1JQUikVjfJ9RYC61mU', '미드오픈요': 'mX0BM9ApVDWO0SRuTGMoPAVGsUy86YLsScUTfP3mnWGe7A', '밤새도록죽여놓는단마인드': 'jqy4tUPrIaPQSCv3o1qebddLcGOafKA0cZQqofC5FfZIib8', '사신소년': 'Fuw_95PUUN118yhb5RlnZDisl8jhK6E_49l71dICRUhtG-A', 'C1aws0me': 'UZH4kTGewtfN3-TlRu7HDjYNx07uoiq8ARCUqbCPYaOeDXo', '역천꾀': '9xmWjDWRiNFoz-l26bTWq1kFc5A-0pworDwvYHYxo-TkSUs', 'Parries': 'OS4majq3a93zNgm8ucwvZXPEk05uOpXM8WIdIdqQPT1XOw', 'go ward me carry': 'RB8c0OUlgW5iryiDgBnQRMF9MpWJyitdUQydXFStQe6CDaU', 'pls stop dying': 'ld5Phf2wEpEexPZULcnMDFYSOzkVbTCkGEYUoFobnvlWlOg', 'Accelerati0n': '5I3wEX_Bf4SqlFox4hcgApw4_C9LtRfy-hQDb5_bYMg50QM', '하늘나무': 'rveZMUYFNTQj-dcN2rRG3OzEOrHLK2YbjJ3DMWTt8kBbPzE', '고춘맘1': 'pdFRZ8VrIj2DIz7ZEM7xMyZ0riZCdwd3KBE4yvK-fbnc0nI', '지훈이는 신드라를 정말잘해요': 'NDHFiAUUuNEerPhoyUIgyEDz2gLxj_WBXb6Hmzvg3h6IWL4', '희태시기': 'qLPNMIHxlA4XCaN7zyHLPF2QEdR175RCLYPFTvruKmd8obo', '칼 날 묘 ': 'zfcFGF69xR6UkfwhopwS3azyjhfselLhustwLuYIyQtzuAo', 'Flozel': '5BVc47jg28Brckn-M2bnRPyuEzfBUF9M-ifeDYST6EiLUZg', '나 깨달아버렸어': 'rFmcvKr8ZhpVj3V6pT7VAUrwRXjIR3maWAyRnAlcmMWICYY', '돌 꽝': 'OAuDaDbql-jyOj23ZmaymrEVQoXqxSzhA-Pd3ihnnZ4v_iA', 'LSB Foden': 'Tfb7DvM3G5rzxHH3TnzYR5CiUepav9Jek5EWAVUhZ6CV8Jo', '소미새론': 'BbD6f1e0u5aXzy840EAdtv_dUhjLJ1H9zgYC7Rg2bxrIQqo', 'Yellow': 'AI5pZYe5ORQVzfrfKJ1pNmNkeNhrB7Qt_EuD6AgGQJXVkmM', '원딜연습중입니닷': 'UVduHBaE4Ko2qSB3kkqF0RrXhuH40YMiDVjObwTMuzCpT_E', 'Yaoyao1013': 'sAdn34Uq9IMk-XlN2M--OuHeZw_0oeOV4KPaPuN5OnFGimE', '엔재이': '6q44XnmJuu0aoUGO79Pr67jIwzgPkniBP9mHhg7bZ9jNEP8', '냉동참치명치펀치': 'flDQ2HiByKEgaqVP1tVEy2B1dJEmuh1r0fFIl67KeRGdzcY', '18층높이자살유저': '-vw06GsPmOgm0xOW4nl7Gt2tEsDipx-CfDQc-pX_jwtGvr0i', 'AND I RISE': 'WbHGEjLsNnVgcNvLD1_kzg2t11ZUV-GPkln6Wj8QPw05AwOG', '대리충박멸': '0YVd6zmEm5iHyvWJvoF18_AXb7t1gcF4k8Y9_fjXc4OOSoUn', 'Homal E': 'pbsbg2iNr-PBlCDCc9bOVb5Wu1SOY8lOFlpTNNv2h9F055Li', '솔뫼초': 'prqugCXyCPYYolFRlrFjeqd3aQ55IUxvG9SLqrZ7kaV-Gw4', '동하링': 'AlLUlFQs_sQa1Uy3eTcXqDJVFK3i9qcYCPP8KBvpoMgQ56OP', '얼 진': '0EUgKbpFrKKuWZ4CsxX4aqTYY0ycGupAAdIvEMkmfWyY5No', '원신흥동붉은매': 'FUPK1bxXaVGQRkaBU7_OXR1TbH91HbZ8ArRgF12dzOZzZpE', 'IGOLNIK': '7RVVsj9_TOa6QNFhOEL6st4nLKuL7vR975uqT_RjV6LI8xU', 'Qurellia': 'pqLcFeVVi83c5hIYQzVzvH42yTlPA7etXaoLVG-F1GY95eZ8', '봉담쭈니': '0r9bEI55_vMYNXo-Q4TJGbKKs4JH_XvOqi6bmQ8ZjX7Jw-4', '질 듯': 'Nd-Sjd81boc8GVpnLeYiC5Umr9pY520hWDJzN9H4xBrzTW5b', 'Bilibili 47baby': 'zTGxjy5TzsumZhEj0kif7tKrmlbBblaL1m4YhXDxHJlUItEA', '함춘삼0': '77SUkOjPRTEAL3X4qHmwcoLw2s6fjKUaKxWghwbN8eEiN_E', '꼬일대로꼬인사람': 'h5D9uzfxvoLU4rEp8cCgiq9yCaO9kUHZXPAWz5wAyy8rl6p1', '우현균': 'SQDcAOoCbDl3yR5q2x5obBH8ZG2IeYUgx_KXsQx1W20DHydA', '부기패스': 'KTU8G2IxhJxELAEqr9loBoWwcFNuStO49seJzIFCniHgyRtB', '임중짱': 'bweo9jnJmOUf1OzvP-hBKZk0rLQwK5rMlBpRjs2d5EX6HHLv', '빽업안오면무지성': 'vv83sm_ga0yxOJqYvoSswVdmykTDyH8y8CTtfUgKH6pJ5u8i', 'asdfzxcqw': 'FrZ4p0MppxCebFcU8TjkHDVsxjI1FV7Luzk1CbowFvye0kk', '나만의작은계정': 'f3Rwk0hk3keg8IvwCFKFEH_O6bTFAf1S0Z-Eu65_lqasYANr', '쭈가드': 'Bt6E-g1DGY80sziZYFlqRju4ZFsxGMW2PvyZhZn1qAqD7yg', '베 쮜': '0lyF1n8aG6NiG3KLW4Mbt9USRRSdvRDF_pOxekR4cLlRWP4', 'downtime': 'NyClYSLs0aWei4T7WiaFi6PoLZBcQopX1ADnV7A--aQRJWGs', '헤으응 니나브': 'NMEvH6aVgd9GP7804ngB6TN2rjsIGCS_u2qMItpXcpUM9MvM', '떠먹여주면잘함': 'E_Qwc1r3NvxCju0dJrjFscHHkMMSRzhLmSgz_MftoZjDBCzn', '원딜 왕자 장영빈': 'YE5OsKOsbrgvjmbOZB--S1zc_lJsb8UTAUir-GZsdjRDnWD1', 'jg game wait me': 'kVQHo5nG6CJqEsOwFlB2jcdUUlF_rO72s1-7FcfO0SEr5Lju', 'M4ASLR': 'yze9zyUes7ach5ODpQsr6pWVy-XLwEumVFVfUX_XjQeriqzi', '짝동영': 'REn8zgnnSDm98REXSpIO9K-mJXodBg-2-8o0AS-LP5OqmTFc', 'zhxw': 'lLLzWZvKfVzBO9P6I66vRikW9IAYokK_OmadDU6Iu_RL12rk', '유 캣': 'CfoFA_yx8ppW0D8egk5s96IhqHryfE74PiWb3ccuamBf_sSs', 'Lude': '44dMlQ_mmfcK9V2Kvy0WHdU2h-1OyZG37d27AuUoXbwSDH9E', '장난스런 갱킹': 'M8GUabcnYrco27S-ziAiG00bsLtylDzrPY-AgqrZt64TILcM', '표창의 호흡': '1B74co05g9yUKtSfPJVCd-ISr4GSXxY7kOSBfnBe2sB3RQ6P', '정치빼고못하는게없는사람': 'BYxAAnUatuGccyK7PZPiRMzARJKzXrRYsBKVMjVovNfxHyTd', '집중하기': 'oj4KpFX_avq43YkWFCyh0JRNSLsaamVpvjN2ZNr5-vnoL3jR', '술식 파괴살 나침': 'MdowLk-rNc7q2sOLYmJZON7D95_trVLpLMTz5HwfaCVS5cpB', 'like a shadow': 'euNtp9K2_AhspocETtts2uh-cXHgC-Vcys28FwJFeo2u7cVL', 'INFJ 정글': 'c3gKMJwquyV-8o0d4oTxTAzwL5jh0xSaKtGjYOFE_YbDlVma', '코래언': 'vX76n9yFaCyOkOa9Tc8zsTgPR8joa-U_dLai8WpsWCbPB4xo', '노력과도전': 'Id2RkJcVQNHSPWfYsJeV2joR3DGv7vOfGjGi54l-Pt8YMwmm', '단발소녀': 'QbrFn6VST43L2Azc_05AXo2TYp6kt-uMZEgA7-x311vmBQRX', 'Kimiga itakara ': 'D5eFK6JoaLZySlagdUbMma44phQ3AUyCfWImg_z9f0IedHxe', '왕자쥐 땅쥐': 'Wu9UrPzj5nsVXIuuBJp1NtDdWN4HFV2CD31Ke3AxR9gvzQRY', '큐티섹시박찬밥': '-npuNWyZFAEP9nW6WWP9gAC8EqUi6rIwHMJPkxRc_epzDjx8', 'zarim': 'ZbeNDNkJ5_FapNy9rwRrHhShtVnbCIMA_Mw4eD9rT6LUMio', '못하게써어': 'itPfQJ8DTjv8HNjzE97VHWIZ3YXazG41hfyW-gfxqwtQRADx', 'MapleLv216': 'xC9X6T9U2gMM3YbbCHRqFQeqoBoPdcoPULZXkbgsKUo08oJC', '장임박': '60tmy7OndeSc24N3E3EeLaFV8UUHv6I7N2L8eSX1igN6oN4V', '단의 야옹이': 'Rv0a74q_A9nIZO_1v4REgItU3u0M9KKY629rBd-F10-ZI1DL', '세상에 은택아': 'ZLXG8g5OcethFeuN4_QUYDdonq9-Q4W18T5scMhSQXAWULnR', '히내리': 'uD149V6krktWEhdhKnomaXZVDBrdSKLbGGO3UtkAElTCK6yX', 'WWVWWVVWWVW': 'GQcIM2T3EOv0fpBJxdDoAz4oOtV6xK6awYallkhlsXsPzZ1z', '김벨코': '-6p5BWcN_lc2OM2AIkMlH0tpoha7d9rQ-xs1iI0IOKvfMcWz', '왕치쯔돈까스': 'evT-Xvmb9Z7yJq6-BCwy7Te0cL5ZYpkt_eifiRHvpPHRScRI', '규 폿': 'xoKGHEH0nxKwl5s2cx_CagpB24klF3ltzR_jGr05Tzaeb8oP', '사향이 이쁜짓': 'w0UcwyJIhekH7jFfi5w4LpEcmh7zGgZQz9WomyBxrGpEvlgi', '억울한 탑': '_ay27daqGCQ8rTwJz51XtK08uTYoMMw2Od0zQQnjQZgEWGo', '장운동활발한사람': 'YgsdTzU8_6TgjJ1D5SQ0uHopeud38eZU2dl-RVgHFRA-uaY', '왜벌써스물하나지': 'JF340C5OJzbiJCXsgABWuzEB5yKs4CZDEF-DXiUm8Emi0ow', 'Sxoq': '8OT6A1tDLZDa_owkBlmFhRLTxg9L8jnbjSx9ZLbQwUcpMns', 'Jiang xin': '5PMKxCw7-Ccy5j1I69Tx9NS2zIDYS7pA-CGFx0XLXi1-sNE', '텅 빈 그릇 ': 'v5efb1m85jv7Rf49VaC7hy_nMdvFfNB2QHlFa8oh_rqObqM', '애니비아한다': 'k07hhvw-zKWs7zXgb-IzHk9-izvrXlweGioZ-TOjege6-_M', 'Vvong09': '16ypzYxLKZ369tUoQgHNvvLh6NivLR1idLlbvZcBlhH4C8U', '박영진 돼지': 'Hl97JHjgPe-xbMK7ohEMCiF6uKWeVrYIXG2VWaPBktSCbU0', 'ignore aIIl': 'Q79NUogEdyfBfDoEcRmlwZqPqXBqNYgK_20SHiqMMGQEWQk', '설 연': 'Qcv3M8Osmii0QcudXxeoRbyOGId_q0dEvBO9IUea00C7i74', 'PLASTIC MEMORIES': 'nUA1MlxTxEmgNP7PDA8FigUXCJOWdiq4YBR5P7GbS8TUBWM', '기분 걍 메롱': 'kF0ZRoQAEv8TbPfeEu5gQLS4S_nhubvg30fSI-5XOZUB9s4', '원딜하는 콩': 'Zt0SINTdoNz9x6lWmJEFgJ1G7267660mwcDZcnl7Aze7AWs', 'YouTube루이프': 'vqvE_pQYnEQQxdQkujfO6LFFLEHjIhmrKpVuJZtie1m0Vpo', '남탓학개론권위자': 'BBx20YcF2R-Szax9EZXx_hckUE6NpGcyJKUOGmBwRAni2g', '대파쿵야': 'AqupwpI1jirFOwgyH1vTc5l7_PQTlg1LCFuK8NR06zlUvZc', '어서와호식아': 'W1lwL5-SjaHXohe-i6f2Q98bjFViApyx_VmF_KOxZhxp8hU', '북경탕수육': 'fZjK_vCNv12uadozKh2wKgW07XISdYQDxEN_wabzFu8V3Ok', '비지니스': 'zzKucHpdj3d_At1fBUSOrbxjSE2i68nbSzgURP7kkSrheQ', '제드도사': 'tnocnxt6g35TUYwgv-CpJfOwZSiwZQ351xk3tOPm6eTgD2w', '구락스보고싶다': 'Bsy0HKbS286cOoh9OsQWOUdKax_yZS2ZkUs3fs7otMwA4eA', 'Douglas Killer': 'RlAQtKN1-t5mfHrGYa3ZHGF4ayErq7CoCFbYEa8Grg2eSA', '좋았던 날': 'jqd1l39CU2AUJVLXRTZNxb-gN1ifSPavoTIIhI-RX0iTPGk', 'amate a ti mismo': 'B2cTSmbArGATuadBefltLUR2TXGQozcW6hkMRZ1ZXnZUUQ', 'CHAN SAY': 'iNL_-J79z-ZsOYTNB7D-vWwm4i6hRFsi8fmO6zQgAtgr7w', '불라칸': 'JXPAVs5V_jENHM4cEusuob87Do2gSa8zi3O6LDefiMAElQ', '백억원000': 'PWORyxew2IqmwtOGcWlZNGNtNGLqJgmbv_qz6qu4eDMDRg', '회자정리거좌필반': 'VoYfUwKyoHprZHMnJhA5-uFBDZje4BtRvlqQlVS4k0MBfn4', '세상을구한누누': 'lWGjXGgUuSCgWkJWrxlHjua4rqC8E1zvXcLC3JkOqmW53Q', '탑 챔': 'krN6m-Ma4jQagWWmu78ZPABVSJXeiPnjU_9RFxbZ40cNIlo', '심태공': 'sl6U8rvdf6nIqtjsdqxnmLCQFqHQalFeNEbdXPGISEza3R0', '도구와함께하는': 'zDtfnlA19eK9h7lL3AWtDMu8HqlRrVi_QItN_2PLLMIuDoU', 'Sonstar1': 'IhbFIoeFXv3aNVz1KAtUEoagUBfGJq0Z3soHZnAjhTxf3Q', '변박꼼': 'UQQPiSiqxnJU6gjJW5XZuFIr3uQht-AtmBuZHTaAcyEeFys', '킥보드': 'hhEc08kKO99IzWBlxaMsoLBKUfBoY4PioIrchssthmnOCw', '5년뒤에': 'VLxVAf46OGP8n_WvbVtlTiWiYqwm4VLdEHxEoxN9z-iMGg', 'Uniq R Man': 'xOkEyF-HDlPigp8aqCW1RTMvOC9SXJbdmRffB2nGWG1fjuE', 'BARDK1NG': 'r5UUSZa0L_rFxnJDe9Kd0VTNa42Sd-XqCKzjGAXL4ss7qUo', '바텀버리면박음': 'OEBhWsPu5e91GCZtuhSzXZl10c6eosMhL2MZXhcby34w96Q', 'SryMyMlstake': 'W9K0RCy7s9-FCrsERBeRiowOjefyNFwiU7r-V1bRaRXVLHY', 'How to use1': 'Md6V4nubRJcLHOuVdb4lEgyxn1Bapm74eF3vjSkO9GOJGHI', '주사위 소년': 'MVj1cqOjXpMbupHykB00IUlPSDqvHVY2vc8xJ3axBRwnS_o', '나오미중소': '3aZDAVZ08So0NK_rvs2n-GyiHfibJvQi98OV-ZsHnZ5YHks', '너무감사드리구요': 'O94SkOmUYHXGEZkj-jEjw9dT7m3tSF3Hlpp4vkgbteVKyB4', '명품엉덩이': '6yN43Dzjy_I5PEjaVhyyJf86FNPatTTaECckBHmjWWII4Y0', '스바라시맨': 'cdDQo_5hVq_xie_K4M6w5Oy8JzpPYb1DUZabyW9I5XI6rg', 'B누7': '4tdem4wPnQTTgSleFFVa0HAvsBlhqXAVyxC4QwbByDrAnA', 'DWG BoxMaker': 'DJaqesf7SLLef7qA7KW1J_YKBGmbVb6YlgtnEodYes_BEw', '미 토': 'yBH4fQX31CcpbYtfSSeyKSW03sM8AiKUJjDHLm8Wk9LDPQ', 'last Embrace': 'ir_Ef79SQj92y3hD9kSYhF24xhyWU6NnfaWHnNebokJuIg', 'Convic': '1g7fd0vSVM0khtJjrWPzIPRUgVWQVlbRB2bviaMF7KPk7Q', '세트정점': 'xmiMsVGOIFrtG4zBqBBuyG4_LqAcgDzwTIg4v7eGIRqoc7k', '돌아가어서': 'fy0-huN1fLLtDtAi6TAJ9mzKPY9Ph1Sze-ebPfdeVTBJtw', '쩌련2': 'O0S69goVxd6f7Ix5exXRCt9SiQ9KTdl1a9Sd7dFseR083A', '승호로록': 'u9IOIA17Q7zAuaV4xlO11Xl0qciIt53lcc4--v04es5dJkY', '으츄으츄어': 'LU44umMtobTUnBc3YPR1mVzb8DVNe5-krF5xkBxf7Zfjkh0', 'Eclipse Leona': 'o23M_SxBtB9zktfqF0VRt_5yia04E7pb8lCIoeLK1rTAAF0', '지원이당': 'i-9kt0RmRaV29zL_nDFGbjJt-i7lItMDmNFjT2Z1qHvty5c', 'Xpdo': 'lZnxxOYc1JDaCKlKpK6e61DzeyIx-2LOpmpOIsXurvxuBw', 'i치오냥이i': 'LgA18851c5C5TLi3BrkXLxcDv1fYHW775Gd-OsZu1VulpFs', 'vpsha': 'cwzuEnOdww8hyjD3hSofWuomY2nFtNHCmqmiuBQqD2oOAw', 'Loneliest Girl': 'LaWrIB6VWiCMQ3ayeOYNIfuS6YXs7tkmVpFWWV7zRYOBTVY', '그러러러러': 'X5sxuxMrnmt8RApd1Jjoy4VjLVZNuWlzrFvVNG8oNAv4QHM', 'IVIi ru': 'BI26DO7CBZTD1BWbwdQOHA4oNmWzKtguYWLpOdOa01himAY', '하이덕': 'h2mH9-JHTjtg74lyLMuEIV021q7Ool1sqNBUKR-cG75t5EI', '예쁜말만 차단쨩': 'BLS0H7HoAyhA-j_Txq02yHZ1sly6-96CiWaqSDpCJLIlYw', 'xPsD': 'ZE-jGxnTur1aL1ApZ-V1soCvGs9duMFq8p8laD02Yu3t0mA', '김무평': 'Fcn9bhcnIClrsWu2X-u6HCqfh7prV8qXm5cL2bxLEUI17do', 'hqppy game': 'r90kSI0rE3nzQqGPqWWlj0qMGVkpLXmfOhpmOSPpzPWHqz8', '이바네추': 'xtXyfllWB7nLfpCtSgTZ6LNOOlgJ8Htw1j9yIeE7xjF0gsc', 'feviknight fans': '0l1040HvabJfs5hb7nWNEGp9ZPxXg_sCr3sEiv4w6eLt-CM', '낌건우': 'JMZP1sat3NFAEhzbaCZXmnpy8qA8Iqrb6uACPxAiDWiZRZ4', '0S20': 'sHeAhZHxXi82BEiHt-g-J4Aku2-sKKgFmZXEGZ4R_C8r2I8', '리그오브양학게임': 'XHo5jeaxJlkkJ3MwKcksYw3AO0B6POk06yBVAAHLqnYkhH8', '꼬꼬갓': 'RdNOvFGt9X-cOpgQWxAJHhVtG4J0RGg8huFH8Z_5PJa7RQ', 'O1dboy': '0zbmaoHuLe8Z1ZcFjTycM_3IkfMmywYcO1HVVyM_ipRzkaY', '노우찬': 'Q86xHHTUEOPgFm4nJQGsz1I5mFN3WyPBX94tFwGaaBG4GCQ', '서성조': 'mkOkO6T8t0AhhQlC43BlUg737vD0j7WRgl07zEpAj8ZE2NE', '이웃집호빵': 'l3zJxivubuumUXVZbL1TzdW-qgYT205lhW6GK0SsbiGM8AE', '바보트런들': 'eNwqDy9fQl8bNX0qasvVENeyt9A2iKBIXdetafnjGrAI5rc', '기억찾았다': 'zjcqITCvj41Dgk7BEvGMPG3GkUpqH18_yFum5CSU4SjuAac', '문호스트레이독스': '7VN98UJyDS3ZAg2D4R38xEkZf_PfnjuwXOI9ZMTv6DkVvWQ', 'yangyu XD': 'wnpnCsj0xK4Biw0AdrP2IE5II37oz-GEG0lnLbz8Q-C_554', '연파랑색': 'xqsBl2jrh12iT7P_AegEfGen4EnGVC40ku05-OGfes11hA', 'IM OSG': 'gA-SIoy0R-_OfTpqMznBQVaBh8IFSHY4iCgM-306m6Eix5M', '믿을건 뽀돌뿐': 'kfEtSz8P96LlV0up-5mMVF1l3RrF6JFDXdlw8W143wEzsAo', 'Azubu 침착해1': 'ZBb6e9OomLb0bwUnOs-1s_YwMWPVMlqvJrRI6IkkulGVs1M', 'MooJin777': 'kdHhY2ar6u5JDFzWOR6mjUMcflwgW4lakt8IJ4Ic4FQdCDc', '진 은 쓰기나름': 'T2YtkG7f4DtN5cYT_1jdFXs0O1WUouws4nVYCamyETu4EQ', '몽 대 지 ': 's-pcIJOp76d02nMHsFwFoaivids4pH3phDDG_LIyZxcl4ys', 'damn liners': 'yYt34LZsJnjyvgCXvy3alL6nc9AzHxFu4KDUKo5vJvFFRQ', '별조각': '3UMzXm9nK9_97I0IUjUXnPAmhi2SRGvf3BKH6nbUA31OdNY', '손발찬': 'ocjtXPiZDDFGjyaPB2fSIpG6Dx0f39N9pizRSccw1h7xzcM', 'SBXG STD': 'rZOj2c_YNseoJutBAk-xVpkOv0woZsUG8Zm9Pc1xuj29wQ', '쥐  쥐  직': '7fkPsI6zFYB3NOKTRlTRlCarylfwSMArZ_UCGbgtB9fz7s8', '세체정 갓준영': 'eaz1DUQ7vkaIpWSO2SDYCE4Mjx-PnHx1eNqs2d_Dx3rvN5o', '안녕 할배': 'XpczUfSQFXkK8D0fxAaQFJjJTwoDkezQ7AOWh85fVFJZA18', 'XiA young': 'f7tQSSvXHuIxMxqfhN67qVv0blM5GxgpBTXOzPQJZPWfe2gqRH7VA3cUEg', '문신 덩크충': 'znfB1l5HRXzfVNRzHUkn7P05m00yZVaozIH-pvRmr6svG0s', '별하늘난초': '9YPdBFEKxRcQyNj-9rN_pksg-jJMr-2F0FXDJM4i3ckEcHw', 'Tobi666': 'xMLnXfHbjGXfvL5xuq4ICZb9TlLmQO_HH9NuZyksay8Atg', 'HAZl': 'Z8-nQEOw_0iwEtmkej9lVntXxbPtT8P2mGRkjA0-GDKdrQ', '유 틀': 'xSCB761udME8tWA5AqI_TeepsHcykP-dRu_ZWJA8DQQ8JM8', 'MAD SCNTST': 'ysfiIdzZmH3JgAAWUd4f8e0bb-JKXATmRQWHoLt6C5c57g', '방송인들맵좀가려': 'oa7bdR3098RzNDUlaPbXd2lb6m4z5pCmU50w-FYAWy3gYqc', '초밥조아해': 'piFgf_GXwBB0d6n8W90iSQz5EaKPCXuV8QibUb7P8ETUSA', 'Dualtron Eagle': '1HPN1ZkUmKcF5xtHsUe8GwUH2vn-vQwXaC4mwE1t3rtfcw', 'elpins': 'pmYdc2Czv2Pu9j5-0DfA_9aXs-5SWJy2yUR9vFRaC8mx8w', '까비봉': 'zXs2YCXihdrxx3gl50jAArHfeB_L0W3nsTy8yVtlPhyMGw', 'Cervidae': 'EOVaQUYIESuv22cKHELrsBACw_HG9OJZXXpXvKUax2dSTK0', '기도하는 현우': 'BsQBb7pWH8CV4U-ouDjBdVdpW8tJgjUcu89nWUfn4Bi-UEc', '인생존망박종철': '89cbJWdtgK-4K2N9mxK8dKCYtSIKtadCRaBMrvF7aqDxdWI', '정심이친구찐찐이': 'VUtY0UXzz6xos35ADlr3VpJXxWF8mTVz_AptARWTWRH_DY8', '봉 쓴': 'VTqYGDbJ5lRByqNejc8u4q2Zkwl2KZTXY8hJ5aeNecxzFtY', 'Predator': 'QKitmkYSGcCTnm8W_8IlcLLbdsbpyawSuKcbdbMP6eA9Ug', 'GRATITUDE': 'cyAvc4YNVzufrg6qwd4zqfs16wGL0YeTtsmTgdTyImvKx_c', 'Slayerz1': 'gMNj59MAmD0D5jTL5rP32BIx16vMP81nkcAs7JeBvSHx43U', '악동 룰뽀': 'odIToMfsB2WaU2C4pEA1lZIehToCwryEGT7YVT_NvjWNfIA', '이슬톡톡맛있어': 'yDfk4XVFCgqbe9KTzntIcqm-Gh-9M55ktFEA1kSuH71qXmM', '미니미 탈론': 'oqGLYKUVkABcB0xDOzyURsFdmktygHa0rTvFNl5xx8_z_mg', '카운터씹어도충임': 'bQGFx8KBu7yZAWdypfGzeIAsGltLGeA500BCRK1PrPy2GRU', '버스전복박사학위': 'u82Fh2uOKqYiGYn9hIkFWOfxSUUQTb6NavHt75yD3MTkS98', '죽습호크아이': 'XuRtWzsf5Dz9Gq9LzukUtEacy9KfRlgBvtMFntk0rTEA00w', '악마한테영혼팔음': 'SLs1dT1e8MzkPAcUZ7fB7sFuIcXunJ918YPSUKrHkGoNNxE', 'Morely': 'H2FUrlVEd4G4XE8gtvHNmKBWxnpM7Eufi87lYDW9ZDHBSsU', 'Moeu': '1w5uhWXGsTb1MQiBKsZhZZdffeHSpPmMf_GksLJ-LFRuUJg', '나 징짜 화나떠': 'Ag1nQd2gOCOUarntIGcievCaCHoW3x1h7jmp_bVhVjgpr7E', 'namesake': 'rasCjWgZ69K6KKjKB0LVMpkixrYEfzaL1CcFN7RTH5UoXHY', '귀염뽀짝 갈리오': 'sKhEui08L9yejn2DNlPsGmCrk_JQltDTXFMXacw48UkrcHw', '렝가 점프': 'vrrIjiqPui-Lw9cZj4kVAVQp5tBceUClKBFwyPzaDS3o3t0', 'IllIlIIllIIlI': 'HlDjpx-L-yy0-nNRcISaztQ-9YbBbJpAGeTSdsvPP-GkoDk', '코라상': 'iSHHwx1_yX4o9quvlBWhfHxry6lEyIxEO7T1_mosHH4I-w', 'AZIP KING': 'fkzEpIBeZHUCH1R396QQEOy68ySg2yVL1Xs2wePs-O2qJmQ', '선 뭉': 'KGTguD7IjQRj2EQ9Ccm-ZP_8ktqnxXbaEqAtb1Udz5dCDZM', '세체곳': 'Oo6j94BBI5UYByyiossYV9d3KC-VvXkymvLLKhGEsEogMYo', '개벌래새기': 'MLv5II-JDlHldJ9DFHGZCLmOuAZEhxMHWlmNJtjrnBnXPFo', '아리원챔수고요': '1w7fHewA0UciVxx9SaylrBl3nWzX3tXj7B4PcTKl7ADYSw', '나는재림': 'MrdcpiYzdugQq8VnsHyiVYfmLkrvXOsFR14YkDcpUTddUg', '05b9': '0UBHipweOBfr3iwpiC9wTQIMw8FWIy-TaS4MdTGCw5sDQLBJys_ayPQ0Tg', '꿈에 남자': 'EGiW6d18uqobhO_ZG2NFsERs4BL5a5waJsJQ_-VZavDQNwY', '동키D몽진': 'S5f_nivMWY9Lk3TVO3IyhqdVBmwRPAshWkpIP8Fu_aNq3uI', '오완석': 'OYVLrVjOFMMjunsp_wHnwqc9V-TzgBuvtZaU8_5Do6Fo3Q', '미슐랭 셰프': 'GPbb8ixYX4GMYG8j9l4fqFVJSOFLup2wWalSNIWCzW9KBTyp22wNYCzNAA', '어딘가이상한케인': 'lTmoD9mayUGJnXqjsqcs9SstJomqgESuUWrKJQ-OvVX5ErRpUe_m-QB-KQ', 'Moon 45': 'OjjklRKVDOUZq4VzpKl-7aVDN4Vt2VZa37PYDVtpAmsAHzM7xMaiFMYGKQ', 'departuresxx': 'd8fomdBcdgU2WW2rmnT4e2B-LaEsRHKl3-Qa21B5e_jPqVVPGZpEze_DJg', '박새림': 'BMDY5neUqluRLu93b1YSrsMq3rcz1J-cyRYn0iq1_GHiIQIuDK8a3uQn5g', 'du da dak': 'pnZhh7OgtohGqxnTh19Cfe43t1OQbwC7LuveuqKOyZbFXQ', '이 선 넘으면 침범이야 삡': 'W8A9uINc7AlX9L_NjdopAD3xo02bbC6Ay2t0PbphuBVjzrdmxnTXlJvYuQ', '딛고일어서는사람': '6n_KHc8Hpbx4iPuE6dqPhK8Sy3V8FMNjMSJe2-6e0drRu-VQ6Mk__NZ5fg', '고생끝에낙은없다': '7iZ2MZRNDvPXt5cK89mqWLqJ3Xd84gCcvHLmtDfnMcLfwnHycfGfvbWYkA', '06 탑차이': 'YqnZQVilGHqsSYxt1BaxeHwW4gqw7tD30Q86YOcWXA4w4fOmc6AKwJLQMg', '증 언': 'JoDTIKF2fKv0AnWlFk18Hl0HNFW31rPH0eFHGaoD0kv_Slx7ltj0j1QPbA', '3429': 'cxcNHbORNrpvdeNvKRhH4I5pap7U-GoVvlHqHovNwW747LF0RxpKGXPqDA', '모두 모두 잘 될꺼야': 'LWLcfhzlGqU3kH4WwWffk6-NjiqNcQnvk0KeWnd5iKVj2pERvfdZiPx1rg', '하태홍': 'sUDWcnZCaEzysvjNO0Hut79h-irj_O5Rx5gZ579nWs6ofss', 'Kavar': '1YgcnHZohNvJ15xJ_Rzpjhfym2ZJvmlAtQF-_lsrrY3oiuyiLEFF8lQetA', 'deliriously': 'ALYv5QbgakQw6d5zh5d00rF5JrkfIMAyCtsp44AFE9O7m2hkxFAR2j03QQ', '사탕콩': 'ejiwblF4pDc0L0eIqcegUEpSxKk2ESplZ9Yq90kKG8ekurjRxagfBc0wBQ', '환희 죽었어요': 'HiSzooEopHyOQ-aYVkeKcKng0Ug57YL7Sq0YpcNUPxc16CPBa2gvbaGoHw', '우리정글0 상대3': 'fAii-a7BeZcclqa4dn-Ijp-BnweYe6OMs9LC4m4PUbslhGXagHqAYJOu6w', '황종서계정': 'ZKxBZqHK97WxY5-ThYrQpOZKYCw84q8RXs6Nc-nS6ckqWIEEdJPf9X6CZg', 'TYBH': 'u_TDvSoVoJH1hLCHRqBiCDHJznZ2oGWLlL_6fQthTvB36QSXgmAmPEimbQ', '누누와 월남쌈짱': 'EJSUFNLRJNXbPOvVt0tfoFMig4j_-LQVX2so8voqxchuIVU8m8su2_ytJw', '커여운 물개': 'rQVp0-fGLg0nruXjPMx1a6YixWk4JBTG5Lokmfg6pKom8KolaGSB5G1bCw', '놀고먹는게소원': 'EzSZzaqE28eje3DiDgsJKXbHa2tHzs63hyDbQa-U2MX2CqCiLMmeZ4PnXg', 'dudqja': 'lzlLC6yyA0WnIeeTIig8NhnwM31ABrvYADF3By1ZtG2iDANQC6rdKSDX-w', '렐 장인을 꿈꾸다': 'AsJs1SfPNTGtjkucFnYkmbphJF2FUNejmSd1pei2F2hWihgECeUbG8DjtA', '바텀은가지마라': 'wsPD4O01Jh4nXGHnQCmGQB2iY3k2NGrL9WJUF67XI9vDQHYnHQUQTFoOxA', '누룽지도둑1': 'VpfMImmjTHjVxSZja00RdQy8lO7XeUALSaCwtS1HIfwG6iAAmqq8MDY_eA', 'My Worst': 'g1n1MO1VHO5UH190dV1amEPfzdEfeZ3e_grCCIOUEfV0ianjZBVvFBaXTw', '뭔가딱히': 'c2otOzUtXgkPsKEPUC6Q1ejplvF9Gr7-zRIlzcagLHNOBC8873bACrdF5g', 'Code Name Lon': 'FxIwz-0wJowu6ULSR5nFP2HlhoE2gblPMz3TxEyQ-tEMi7u43fbJa59svQ', '굴러굴러굴러가유': 'L7BCgvUTNqejbRyD-lra3YAO_v14JpLQW7wVrln0lQARKqxg1aEnOI9FdA', '간장먹은치킨': 'ITWpNR0J8tADYEyiKCDy1zEdgnZNi9jsmGrRdWF2vbd23PNI5ktvl5M1HQ', '원딜아 라면먹구갈래': 'qd5hLQ4WmWPPbjpCZdrYw4ZbS-dK92h4sjITyGs-3wP9erwm6eiXOO6SVA', '세계1위마스터': 'VSYt2Lp257ksPe8_rM8Vu3GQIsuiDAGubWIX9VdzZvPqU7hOGkWd488InA', '치킨은왜치킨일까': 'U_i9Y2j6UAmSeAS1FjTx-tGtfTvHPfdOLX77RZbeglN26wY', '승지짱': 'o9ASN9TW2BibqcBlL9we456ikLbsf0r6hHV8QASu0j4386A', 'FA Praise': 'QRgU5idI9Bsf1j9VNsR6FedI_3xPxf__OiZZNIqU9pCRhiXxDDEdfSsVMQ', 'KN18': 'i3b94ICrvWhZ4hdsLe7yhvRoX3wKpRmUpSaZWrzero8asoedQB14tnKVZA', '202220222': 'fJbJ-M68fcvi4mlWs8v65TDY9u0oL4z5KTjDp2R6pqUQ23cgN60CgP25tw', 'SUPG0D 12': 'lmvHMoxhW6N51GABhqBT0s_O-fpPed1UryxoyXRVfSoqD9PhnSf0P0NzbA', '월명산 날다람쥐': '6JPjvSEjZM6oNRbez5W1shJbjNUJh6_syQRh80u6nXiWgyE', 'szpt': 'Ti0uKPRmI9rFDgYYjOhjB0UXNjSupiysuMRz5yv29BFDR4o', '끼링맨': '6Yx0lRqFJvPe5smi46qcDBuXHXEEqITefuIwMLWmFvYvOaNCyEypJUKK8g', '삐 웅': 'CSfDDj0sys7lPsskL7t7NDcD2iXZNVPk1j_Wev90LMlsIRGrLXCURmJ2rA', 'cuty sexy pretty': 'xuzOtTxeqtq5fzovv1I6476DuGAl9Z4P7x3-gxwEWK0HtXEP-i87JBn4JA', '321dsadcxzxczx': 'ZzkJAiE33i2jxlnU7qEAx2b3_1SkuTRb72etnMTLBkrbkonHOL1CGNxQpQ', '나기야': 'UakWTxNGTyrxdVEnEpU5FjnIgbyo9WXaMlFiHQm_mVA8A1dOoD1ZOdCbbA', 'lmao dark bruh': 'Y_PlPBaCH3XrjWrW_fZpc3NFG-H20BRLdbBfqP2fRgOKdQGtyviESr_nQA', 'asjkdhakjdhsak': 'rJoTb04g0KzuieQWnZOvjhosEqfYyEJQTx3tbzqUWR-VfMwbAQOPtn50Lg', '1004 BEN': '-ylKVOjINs3JzjrN091Q1P6cXePp4VVr2alpS3MES7i-3-rW2ERTlvoCtQ', '꼬우면 갱오던지': 'Mg4FhD1YEi7j4rMcCrnTyRdEPpvRIat3YRUTElQW-jtW_lgt-gEkRaIrzA', 'kwdsad': 'qgAvQonRxRz4e6pn4SzIIhllOXLiTpEucUjsNk_UTwzKNn6ChImsyS9cfQ', '아직도너무그리워': '06DHu42Xp5I8xwwZ6Me1AS4svm8ZimkQF-Mzy2yBsR-WbkdLrq0was5UuA', 'Azh1': 'FqFGVtZIDN6tnETpcbWUElDU9-gSHyu9Oq8JOSvmxducserDLmOCQQeDnQ', '닥터 블랙잭': 'LAUNdawVWhaINTaa_OWPy4zN63eu9gw4jhLU9o1UStpeJS0rcHvOc1C7kw', 'War3HeroFQQ': '-X7BFRQQDqlgtDuqHI0USwSfv13UFkYxD5xNueIwtI_FvobiwWw9bjX9jQ', 'Slowly Song': 'dz4rZIpV9uFs0NY2fI_sLVUivuvDq2C5dv0FunwaW9as4iMwVKv2vx-Uvw', '상냥한시키모리양': 'xd9ni1SK5U7xCP1rP7UVzsIXhuoePX0zR4U5Jihw3K1CnsoW3jCjDOMPUQ', '재국2': 'iiv8INbQHik0MAsO9AYpnLtQeHLOphw35lD4t6gMu7uC7c5lOSil4Fd8Cw', '한화롯데팬은빠져': 'AGRW60xgib8h5Q4cWk5Asf756TVJs68Q46q3Y5wtyMYh5Twy1_UY-AO77w', 'KR PER': 'x9etuy8ZCaSy67NjZGz-4MtL0bYPpUfMj-67SlFP3dALx1bOVj6eoyBb3w', '미숫갸루': 'lCiICkGoh3yESyFSSC14UIH9PYNwo5DT5qzoooSLMnIiFuoOXnpDs4e4ug', '못 냥': 'L0tqzfVbl25lNoNWuutkXG1wCQzGQnk6yrKSAp3r-dsXiaHy6HuGz56gpQ', 'yin tian ge qian': 'YPm90ShyAaEXF9h2P6CJFk3aFtep0p8yMcOGH406dWVOCONW9a7rt5jVHQ', '슬픈 피오': 'viLOQvDgsjLao99BRBGasQsfWdORy8ZLIoO8-IXVAiwdKtuAO0QOu7dnAw', 'Gumayusl 팬': 'Ff0cEJ1A8mLJDAXdrqb50K067mkhd8gXesWnK2pkpVmCJeweJfmAqJvwBA', '광막한 바다': 'lzI38leFqQcaahJIaDhwCLAxEOI73hbC9htY3fM-pW-YdW5HEQzFD6u8Cg', 'JlJI': 'NsfJ0BAJxCnysItIZp1ewGSQOtktvpxfqXUL-aVaA7ISpfHxqWvmwW783g', 'qeriqrei': 'DBByXVBAbEjXxg257zBlFRnsQPApzmZW08VnlT54mdV2xzLExmFRjQp-8Q', '고대연2': 'bnROkjwc5FLeY0YbSLh2RS7Vjkn_n5md-M7oqQ_AFIcq2SDbZofee_Kyxg', 'kuBicheng': 'BGOZGvY_rj-aFmxh2XfI5blROa1ipGBRWy59PCIkJHkl2J2CC55PFLR1Kw', '아프리카TV코잉': 'LiOqwO8xomTBnTb9B8nAnq5V5ylwhk_1efgSAufGnoJ0xQgLZqmkp_oscA', 'SPOONKING': 'hre5w7Ni3vFprKQLohcH2wCEuRAlwbtoZ0nT2S0pKyYe53DKnyWLgk9kXw', '하주 운이치로': 'BI0BtM_s7eef9xqOu14kxVGrYhPlnmbR0GL4Mn2joGhXWVEXJl7pVXGDKQ', '돌 던지는 아이': 'ltyZBVpcU3_0Gu3Y4GuJbZvjWBQh0k8xYWqvJE8oMtyCnGNxt4CPLwD4bw', '김토벤': 'dwqxANf-zA2s7gBjIc465pjaWYCyZfPlqCbsL9xqC9u3wv7AIa_TJ1O_EQ', 'Love Rochaeng': 'GKk-82W9vY_MgwJ1i_h0fihpKV9WqzuICbC9XF9mgqOh61u9Sz_z0hb5OA', '또띠아맨': 'aRqSb4gg7bpCmN394ZEI6dFJx1EyS7p5zWIMSSI2zRnETqtpdykfuUQKNg', '쉴드쿨이야': '6oyf46CtTdwRN2Rx8U2n2Ju11VGXETYAwGyEPeppjTjH-tfa-Uk480VgUQ', 'Crazy angle ': 'TINQJF9VmWvJJ9G7v1KRebvU68Uh0hanle9GSTJeOQC0NxCsywNs_JVzdw', 'miss u so much': 'XmEkM987p4b9i2Iz_ZfN3yhtpwUQ0_MY5hk4joB3aAVhl8Ry1VjDCB8NvQ', '나를 돌아보다': 'CaSU61ueMzBAcYCrvFjdHhD6st3_B8SZG1ZaBDYFwlXjktkK9yvJGPk5uA', '점점지쳐가': '9cIkz3YYTW9kEKkZruo4WLEkIjq6g0xVkuHvD9SIgyb1LpH3qxb_SnL8DQ', 'sy7': 'gcJNaHogXOZkPY7KUANtqUFq7iaLUuRynoMW85VGwJJgEvkdbyN1KKNQcw', '인재1': 'tzcJtoec8wGh-14qKMX3FuQsakk2-or9YvQiMFEfrXQSZ7FUtso344GYOA', 'luq3547 ': 'ndizsunPrnNs4AabqzVNf9Digx2Rew7IXGIigpZY_1acOmFPhel2XMAj_A', '너를 만나고': 'eUhYlSM4FKWiYHSwgKqUb4HkfWZLY_runQGuQqzm-q6y0cpE7gS7Wn2jVQ', '채원이가 귀엽다': '3ll20Sfmv0aEuKsVPkkjrLRpIz0PXLGD-3PB0RbZElCsLX-lgyNDe5pbSw', '이 촤가 식기전에': 'eJAZFCCNQEtoFHrvuc64S-oCqoz8BKqwiu69ePuzPIO_M3tReH7z-6-o9Q', '토달지마요정글님': '52ZiKFqvRK6Ne2S6mM3XdrOqdzuCY3gaJ9m5_xZbDJrWJT569iYGg90oPQ', '포동포동살찐물개': 'q2mC6lRekXZsuJHg14BSdiLtC3qmE_66N9yV3EcCb3hYsitb17ZtujQH3Q', 'Darkdengel': 'p1BsbAInGBDAAGEJxUsxXHcfWa3nG5CTk5CUYZwHyYMDSfkEwvrEcmZ0dg', 'Walk a dog': 'g40z03hc-FsiFvLjvdFNof1tXl47vyh45L55io72kqiJIazniBkgug-Puw', 'Take 6 Minus 3': 'WsRpwKZY_5gZe3abLHPeZvXb48KCRzyHkMo_m3qXvvkiryncdPsjxTaggQ', 'ZhifeiG1': 'RbI71gVw48O6MFH8okZpT6rGIuQie3waV04tfKQ0hCkgADLGA7cZygtLVw', 'wu yu wu qiu1': 'tPgPwyjL1iszNhYK34vz1emoEZN8jWOML-Ei83oW6jp6JBmegLSW4gaR2Q', '14alice': '80VlRIboHKA0pfcSydsW4El3H5Zup_ATfJiVR-BAA7_IOQkzJbe9LRkTqw', '무지성탑입니다꼬우면오세요': 'JJA-rGMQy2bWGTB2o3-gdXsTu0i5yFPyGZL0IvAIZNXneRTWr0mmXw-KVQ', '왕 자': 'gl2fSeKu9fwz21Oz1JwfBdoWka1btF-Lc3xAQ00gV0nin39V7EZIXjygMA', '응 니오줌이다': '7S2XHQcy1oOqdUTLONKAcr6YpbFeNfsGZUEMABW-vXAFZsGHFhuH50k6Wg', '라데시 너어': 'WBj8uvhnQbXfxnLG4KuQFYVThRDpl83vqUBDY_KiCTFk3nS32THXFcEg4Q', 'Sup Dainslef': '13DQBvvpM2AnrLlcKZ-eFYpRWFsYfCAP_mTL8JxFGEVumWOeFTECFSEUNA', '웃으면서재밌게겜': 'oOlcX9lpnx1i1SCyaolyCohymEjOl2t57fAbTIrvu814JrC86Zc0wiM9Bw', 'W1NTER1': '7Bq66MweHK7fPRUjieg2TXL5Kdc3cEqzZGE0bUH9d6Lc3xU9Jhnwv9sxZg', 'Murder in Mind': 'vckEP-NIGUcHmfA576g6mC88Eu1RbgGpfI0BZGrTuSYmGIGBXSrms2fEpg', 'ailoujiang': 'dNiGu6WWdWxYjYOsKVlfX11f3QEhCcS5XKys3zqgVvJJGlliW-jAoSb_JQ', '별 없는 밤': 'FQTFDsJM4GOJFKfpsH_mrq0dloklofdUGBiuRHcXy3IIF2Ad_2vmsSNZTg', 'yu huo zhan shen': 'japYt17POm4nuaXTzoYVpaQTxbQqn60_d9bXannyB50jPFMA3kteYdaXIg', 'bilibili3030248': 'kgGlP7fuCNse4DF8uTpFqwvmcSS0zpmv4n6GYQZueZ2J6tuL5ORyLJMr5g', 'Celebrity7': 'krJJzbxEMwCstdSgsBrSt1z3N4j4ES8pxIdFbB74-rF53iRM1p4Xw12niQ', '화내지않아': 'XOlfYXWLITvWwmy2YNoDO4HO1_bq-2puBjESPryO8rFiOzVbofW7Iq1lYA', '영등포 유건호': 'mKVXNXgWjQiYwY0dFIwmcIDvB42Zzt92P-3UaOz1Q7Rf-A', '나도 질퍽이': 'ZutQ-2NTav5f42sC0lyT0ljhifqUhXuq-Kz-uQmbm3yd4CGbegWDVlmaRg', 'LV2 달팽이': '6sn1RZRat3RUCr3K9dldQnlLvi8oR-Gf7GUiFZzlGRiME2s', '날 먹 함': 'Ns1p4H7cEFpOnMJ_g1Nl4iBsnJhmyo5vOolT-3jnBzp08z4xe2B1z4MJTw', 'mmuzk': '4f9UZMNPbrF6FLAAQN0a4XViAEW7o7zBnEJExTy2Heq4MfhTpVimlYFmLw', 'Nazarus': 'xx8by0k3I3Y94B1LLfIkP-1nk6oAmJhdVltt9AUNH_O1U-unVP6Ev0MP3Q', '비비는귀엽습니다': 'YMtTl9_P0CKIRmFxqsN_PLBB0dVkr6mss3Z-GEYCMjBwLhNPTaVs2uXjuA', '야 성': '3TZ05LHjPZJDNxpYasRipSFF5jtWN2ebnEUaOgfKQL5-kIPGBHY_E0TOiw', '잠자고싶어여': '2Ybkb1DNOdc0OjPtMEGzLBWgmZjWlVyc7VjJ8OOtW8e7XZHGChMFRoZUbw', 'DK ShowMakxr': 'lB5xr4Z2EmN9wJX7dZ0QFGSHlIxwA9eBeCsNhPCdleNsz5MmmEHQVbSluA', 'xmf': 'O0MOm44yrM74-0UPCkvYup6mipmC_OpjVE2HKOJsReU1bdCA44VuWh2h0A', 'Breathe Me In': '-_2TYuZLP6EQ-MqmCGlQwlSsHAfjEFiRJVrM5lUprVOoxvygE32OPFbolw', 'Alicizations': 'U3eT0eex49mujKYmxAItZ8p4UdMvIDbQpx3aQIqkxcEFwstOh85n8gHzUw', '제드주셈': 'MTx9xXMZHYS4K_l75jx2NX2vMX8thrctyNVapS3u5KUXnnOQSx7rgCJAYw', '87초': 'QtnCbHenNenJTd2ueVx5ym3jn1Texs1ljkX9YXfPaoIQ7ZjntICRxkc6vA', '효도하고싶은사람': 'nBYR7lPRezIBo_JV7LFsKPCvvDK1JG2rMEnxx19QnVS8g4rg0pEW3wxpvQ', 'Time Flies xx': 'QnQI-1P-KVRc1dd85syRaPnrZJI0tKd7Jc9IMny0LjlQiKp0Zku16EEPqQ', 'FA 05미드': 'rPXasoan5Hal8dAF1QhsWKAaBD9pcFjChUQfaxn8HO5h7S0yvjpzfGiuVg', '본능적인 동선': 'uRiX00JX_tXogAd2af_sj-9mUDo2d38lPFv0KL0QCb-dQOAyhYIP6X7Lfw', '탑은최소반반': 'I2jo0NSBLyMUorBsA2WxUQC4uxexRUSHQQeorYoS2NgNylW73s-VWcVrdg', 'P L V': 'Av0PcqOusSpCGxd4YSc2zTiQF0ohoRTzCklWxpCaOs_Pn1ZtIV8SieVoQw', '밤을 달리다1': 'tcvwX6Vka3YfjcUZCoKgyR8z2Wx8WAST52SZH8Ndwc_SuFAqaSzhds3pkA', '아리바리준': 'tJSQH_kH4VNy3de0DA-Cd0NPcw000YRqYpAyxnLa6wWNYkbhH21zvV222Q', '대지고 정글러': 'a7_rY1GANRQbLhQH_StxRJMEvXtp4xuWktFPwwi-JRt1POYC1l5ekkDCmw', 'Arcane 징크스': 'uZNcaYH0M0tZHbhcRGFpkcB5XwbRq4cIXiK09th1p0nmSqLhR2Y8XWUDxQ', 'Falling In loves': 'cuwipIvDfbiNX0sT7TbUPv03aoQbXN0IdSB7vpPlgWWYH5w', '쌉캐리딩거': 'Qn--FEv7iqQ5omtyfAUZz584cRamOC0h78Oly7PIPUxxoaOl2sO7EiTLwQ', 'Loveholic 0': 'nk7XoqA4K6XyCM3XTfkdb8t1TA--u19C2HjIEwZrNF8ZX6AUwR_-EpXOKw', '집중력 부족': 'B7czQkqfoo2oWQqDPC0PNCnWL4sdmLN6_cqUu93FhepfZ5GVL6xgEQz6Kg', 'wobuwanle': 'ou1bbL1vTG627J9NNmxnoegaed8XBKTwwDBuLBXiUpFaRThvojb-FjifVg', '매판잘할수는없어': '1zOAMrxA9mp_qQueJKsCgtdOy4jd_xhpnlb8iaOtrwp_sig', '몰아내는 희지': 'HG9M0GNUl_vC8H9vhN0pQaoCSBxxXlC_SscfPWOoDfLdgUTNxsK-dVrUQQ', 'Wayb 노제여보 ': 'qTx1r9wMweSh8OBkQ5Xsje63O6JrYltof7cPO9sSh12edzSdd9g1w9f69g', '나비뚠': 'haKfsx8DldvhSb-s_WnTYg1niqhRcQXHrrwpQRlBgnrIGHcQnZB7CS4qrA', '현조비사랑해': 'gmMmZp6nSqDRn6JYimLipzIaZSZ5BiiDpoqWL7Irf-7iXIyPOfn70zxjZA', 'Youtube 세그루': '84N6_ZYsa_fR5PWuREm6M0Deq2w6XSOMi48SGrDbygKoJNu4qxPqu32GWQ', '애완 두꺼비 ': 'F9C6q-u219_gWo6N_E-bvs-_MA2MXcq1lWJPiw2sD_GKgqaYjrRxjntYwA', '캐리머신탑신병자': 'hFmC0144o3KBBgTkvUEGJNtoSbKEsxa_FlZ8FF7A2Mp15uBjIGfDonKUhg', 'Shinobi': 'lJj0Kcm8KtXUKGvmP0mUXXjfL9TXqG4hUUxzmia628pa0Jp1o6O2rBAltQ', '띵동 배달이여': 'egY6cvM1rXSfGQxmooiFr8F57qMV20l0xZEcsgGzSUUd7l4', '밥순아': 'E0UnP5FRTZ9nRuNxgGdfO4vO4W91QunL0yo_qFkrK_eKMmUOjWLHShgjQw', '피지컬로 이겨봐': 'uzLdBtgCM9ok85OfmHLc2YFCiC-9epwZObz47nvsmfOIxvL_5K5P6rseHA', '롤잘하고싶어요1': 'hekURV0-8zpjOTc3wIbBBnKk9m2fuRd8ih61DPKUtHF1MCWSiJZFM-T5hw', 'konsu': '0ltCrJEVB03cMFU5xzdndIn0n2ZXhbphfnDfh73HJqrEgJw', '제주시청세금도둑': 'BInz7RvLq_kxoVMqhy4hC-gYu8R8_3MqKiGyV7rPRwxgTK_cX2whOIltsQ', '클 준': 't_vFZwCh0bpMGfDbCBYtGO1s9ipcJUr55W5jgeVpyM1L385SByvTMBRWLQ', 'shenxinghuasheng': 'oKxtqPzgy50arw46ZpjlvQeuRlYT2ens041l2kMnEN30vjSmeVj_l69UOQ', 'Chineseallmomdie': 'C9p_0stZFCTneSYEKnrWe2Jmy8dpda-nIzSY5WhAn_CblZ7j7JNrQJzhMA', '뽀 밍 뀨': 'R2ghp0z7zg-GZFQ20pDcOiI4aF7c6Psp3X397Wr4Ep0HISYuDiko72SPww', 'not kr dog zz': 'zrPZFhYWQcLpOv0MFLh4VDyaClg9cxU3HOfKSaFBglrTNZIpg2pvjgHV5A', 'GOMBUNNY': 'dwkuwZSLq8w3Qq48R4Y9e8HJ230tQam8pTGkCH9gX20cSg', '2007 7 3': 'dOeLbanYNWeGJORijqSWKfpiQGNr0ssB9bscsTL_yqKDBvQlP_4H7TGs4A', '야 아니 뭐해 하': 'St0sAX5R2_Y2TmpcabGQavn46RbUcjHCKRzYzrOu2YKYNyAfKR2jxTHgdA', '롤드컵빈집털이': 'Q-Q-TedhcYdyYHpH1-rI0vfh-ycIR1XMxbpjzz4WN_Mr9fKKHAx5dcTjlg', '힘들어도괜찮아참다보면지나가겠지': 'yYuSV8qY-V1ACj8EbqEGqvHk81orid3VTDZoDzqA5BH9B7CTMZgNn2n4JQ', '폼폼부츠': 'GNY6cI5QSw5_SnJ1gAQiJRMfl84h8DEN_19DbELqKNrejmySddt-fjIDSw', 'zhao si ne': 'X_RCnt-0Bimhlg-wglf2T95czh8HUhNnu1y7yk4DuKED7rwGQ8khdJEVZQ', '십백수 한정수': 'M1K85QkC-IPo9P6lIm-vM3yb0Kf8-s4s57nCQvqI9IWNzlbwws918L3yUA', '포산중미드1등': 'xUNu-oBwiYQ1SHP_9PSm4iuv9xGam1F0BrV24vLpOSW5Xh4nXJWDC3oouA', '다시돌아올꺼야': 'JO--wJ0_-knK1yDumzVpI7PUM-z13cvBVI4tzSOwm-jQ9TtU4QVo7-m8Ew', '케인 니달리': 'nMGpDzfX3NHCTb2ZdHgBdL4kp7BUGCPU78l7isEEgySdEc1uTQwpAfLDaw', 'huopifan': 'fGl7FMDx_hXDUkNpEFQvKaW4nVGot83FmntgfjSCqPD9IlV_FIBBcsShKg', '잼잼톤': 'XGScMrq9PjV_PDlShLLRagGMbPp50FNw82p4WNbFsIs22g', 'GiNoN': 'nXOzEYXhfxVFmP_8IvAHd_bACH3xSiWMZqsDYo2uq0uxXbNMusnyYZFpVw', '블루달라': 'zVn04-27-LGUj3LQuucFVi6M8tLtp-iveTjjPAcwY8C8D8d8WbEOtVB1UA', 'Navy Mood': 'b0bNu3lrsmB9WtsjMnm8gt_Y-NcJjUpj4DT2TVD_2BHE2wgCUCEgs8ajew', '2000 JUG': 'uXQCuMOev1Q2xPUaNEndsdYxcgztKRDYwJaR2S3rTc2K7JIK27ZjilKakA', 'xklm': 'autAeMj-VcvEVZIy7bqI_q9KotJiEJ-N0AMxLLzNJ25TDt8nROLuNx4w7Q', '세무사 박관우': 'QH5GiLDQNS5mYV4h_v3gzCdTSZKSVXEHX4dIiLsmpGewVF81YNdDn74BOg', '05년생 AD0AD0AD': 'Jo6QWsUzdJHAPHRQmxrEzLU2lrxeC0v9qyPhv8rLDyx8gqMe_SLHGWIb9w', 'Hero s Come Back': 'aPyiJ0xg4isQAzJuJCFXz8VPZzh-m5LDUw9S0TXCXeBQqYKsi1eb-uQLeQ', 'Tangyuanfe': 'wjSICCc7PIjDwNud5Tzy2_8ywz1TJwy4yL4yo9duloG1LKmmzyPIKLuNXw', 'E1i5e': 'putptqvQn2Nn_KL2OIdJs7EqwnLht-E3tbOwKWLVTTcwB52kwMmhon-E0A', '46A': 'zqL0zOfVN8obVrgyNsa17nZTBfy2gqxdrC_oS6WcoxqoB6aDZ8A-oyB74Q', '그레이웅즈': '1jQRAQRclorUJt0QNEBuaxR2szuU8FkSVbDJ217L9nMs9kFpFF7y0fO6Gw', 'Moongd': '1wlnryVhLWgwynaHwliVd1qJ_KBfjdktE7_ivVbnKVQPCBjYeqn7wERpbg', 'nswwyxydlj': '3jZOYpQ-l2B0QaFF11SwVW-8uyKVaXs-QI2Voy__CrxQxA60GIXw4dQDjQ', '범코야끼': 'Stm66I21SSfG3S37818zO-FoNu4Gwr6StwkL6atTCcCCE35Isx550pudsQ', 'PPhf  020': 'QYJ79EAdCp-RdIoxUcfVPORhaYLT4rHTwlho7hxCUAkhUtub3Hs-8A2eYA', '우리만복귀텔이야': 'gpO0bLS79Prk1RnWmzTJYGALvCp7Fd71zMaAIr9lnweSTOo9wCKz2Q8Tbg', 'Summoner1': 'vW0pc6Fseahg-Alrb-Al491PO3cbnIwD-ObNSoYvz0luRpcD_sG5vPH3sQ', 'Topking GGbond': 'TIC-_NQDtgbd8_5cZlESnQIoP9gu5O669xIVbzj6gZnxFM5hrU1fhcX_hA', '학습장애': '4HkO4DvlbAXaVHAHGsdvwY0xFOMLGBa1XVsqKkdvbnz3_LyKi1vILy5NGw', 'AD zmon': 'YcNlu1NE38ruF-d2IfY3FRAtaJOvizn5NHl_hIH4eneQYYl6jyqfqoxc6A', '카 럐': 'P4i1gXnCYcBCdyTHmrutZEE0GaGrUSNX9g8Rvphnh5rUUZnjlwBNqWcCUQ', 'rrxrxrrxrxrxx': 'npCzqvxuhV4gQGeeJavhZ_rGhn-fhxnD-sDBymrKaPPB8fEtgOkMn2StSw', '바뱀바': 'wbqPjT_NzH0z0C3_I2HSQ_7cBxKrtZvsu6Ip63EbeF5Q4PQ', 'lv99 aggressive': 'NTTEsiTkTMAXrAdKIcPNbDJm9oyoxTiK8WeyCTWozMIfiKZ1admMrmgJFw', 'jihyun': 'u4kvwxRGfeBEfgSZVW62ukGktxD1cSGEioNYJ6kisKUsisvaQzOIlbPHQg', '나은냥이': 'p1ITbjj8_FWfUCDvSSwi1fVIZQQo_uWyFWTb6gQPOryQymcl-zgTdiqdrA', 'Heartseekeryuumi': 'ocu191F2WYfsbjmz5vu32OorC2a1xeC0gTOhl4j7oiqS9_D4fjof3a1UPA', 'One vs AII': 'IcV6s_3i5j1uJhNwaKtFcl1obF1KvYeLD-12gYy__mKOzKvbBS-qzWz82g', '노른노른노른자': '1PX2ZhPgBDADnCoqVYZbOniHwLBNgNJjmyn9UoZ2pnnYsvN_jysWSHPsog', 'quare': 'ZM4P2_TFob28uPOETx59jzNLqgZvLbURLUQm_9qP6XYFX6eOIHh2m4DU4A', '기세가 대단하다': 'cFEX5F8QOZOhsxTrfAtA0CpfFUgq-adK13dSWc3e-Iy-rNyjGzEwK2os1Q', 'time in a hurry': 'i2W19SmLNL2qnVEeZDTa49lkqank5rWo-lb13R80PvLyu8lr4-oL_1GhZA', '이산고정글': 'ZfxHgvy4j6VNvWkqR5HB4GXYgP763X8yGycsW7ehdppcpJVPf-mCTsVH7Q', 'Confessing yeah': 'D715RMD0PE24GyvbTffHlTyKvmc2AbzTiUL11l1haT-LQXcIkZhQ9G2fwQ', '응애소연아사랑해': 'f7PxCY0dTHhFzCSJiQr1W2RBI8FS9bkr98bS41glF1_T_yMAb-uJ27KoYg', '탁서현': 'lizwdnn3nAA0KQHpUtCRtzpMGHO6fNs_ykUFNq1eb7zRa-zR02yhcccxng', 'asdjjlkgjldsjlf': 'PUnntzA50GsHJh5e7YJ_cqrQPFRmPVYgvRJeXRzeJjk9PVnW_uCZMBTcnw', 'kratosyut': 'hPdSHpE66lsuYvM3Mj8xlyBbPDHWze3RbWM2_XhUA_131Yzfq1a8qnkSvw', 'IIllIllIlll': '3XLqWfIUIiQJdavUbg6-yCPfyP3Hhn1t1k9-GA_4WRIbT3uz1baqy_3MjQ', '개 삐딱구리': '4Gj-DVjcw8oMecvpB7Flri5dyH69xS0fiHSOF_huCzngpi82vrjRIfznjw', '윤 진 요 미': 'apsj9jKC7Jw6OzNUonkAtSNX8zkrhoMV2uhWWWGe3d8oULos4Rwbg0RR5g', 'mor': '9bXjOMcxZwif9AMpdx_IMULpmPU-5brJ0SekRA6X3qG-E3kxBRtep8L7qw', '죽을 고비': '-hxMGnTFJQqd67hTnIhrN3E5ZKr1Srnnrzuv1qLnfzviXHTAxV9i-8bHLg', '만능잡캐': 'jUD33qKVCsew_7SJxT6QILQzIGhDrGr24n7EQkatj5PYD-p5SeZ9tN14qg', 'Songyue03': 'm6nNq5Tj1f3JESdEosDBjR40URmkz0N32iZcLJ7tlAcBzzWiwxpQ7OIZBA', '생배부터챌까지': 'vnDIZ-qFGAHqNcwoNIsUCPa69jio1jYrbcxf4m7ZMcARToX8BD3_o6iYbg', '다비켜올라갈꺼야': 'hG4ZGwdbfN5S3dXbqYZR7IixWsHqWA3zTBDf6WOzmkRmDyAQ6ylHAryPiA', '물푸레청년': '9N7oOhCmW1FVLsoz7xHT6NJCyqbjzYoej0fycVf28qrxxca4D8WaPlaUUg', '06 08 07': 'hqfE_8m5Dl-_m1wU0T-i4V9_UjLt8FJ1K4OmVDzPj6ivKc38nT05juSDiQ', '02 프로G망생': 'l4LkbDVQZq6kpDFSk2P7gOaYbykN0OjWar9DWpf7hd5GtDk4uMUira-bXw', 'Powaro': 'HLWqu3Icy837LkjD2KCO36EDzqKTv_sYBq7Z0dp-a1F0IG2YiUcCkNtY7Q', 'AshenKnightsPyke': 'X3vmUzve7624jFzkQ9hr4Dgu5BPyxrYoEcic_OSaltQqnVwT7CiNZLx_VQ', 'Gen G Wend': 'ybr-hul2osjY9BRwEGoF8Gf29mZXLhNeUTN6SdSUDYU2X3ojYMDIHns42Q', 'STAYC fan ': 'qxTdMF3KPBVvVINXO1nRTDmKY086YrbpamffR-suUN_qL7hi3c4ldyTJpg', '소 영': 'VTUnS8V3DDYcvGmcJ4h8IRKV28p5RIi3y375RAonjIN3xqPh3juurDzr9Q', 'xiaoyu1': '07eUwxO5T2JeXKTLbiUPIusAPTQIsfQpm9Mb9c93l78HG6K3MgVrvA3EGA', '상처받은동크': 'A2uTrRrlb1jAuwrLDzkPMylF8zMZnm-RS2xDNUQ2x2PwPB7h_7IlaZPyHg', '물보라 의 물방울': 'xWZCSUlRd_TgEDbT5i-APV9_cz6lFlCYnpQzWZFdZXO73HHgcLIykQGg9A', 'daoli': 'kResowA_KVCBVJO5aqqYv1vlF3kLmAlID5Nlp9Q8Icr2KehWIzUG0QklDA', 'Wu Shi Zi Tong': 'ba6JTd4R3mag7hd1317mT_PQG5C0RFvDV-S-VnMp2ASEzuQH4AvJ3bpQEA', 'Exin de hanguo': '3uc0aqWAQEpyCj3XhJiChuQ7QwTruCmqXsVced6x4Gfq6ejGRYM4Q0kuNw', 'DouYinPingLunQu': 'yR2rB8bTyWErpt0gp5hRVthVkcbFwcURmMi3nG8dT8CnFwqy_u5iqPfCkw', '일찍자다': 'jk5gDpo7uEKoI-lfBm6Dgxj9sSQKzHcR17KCZIXBHGgdvRracdsNHAh-yw', 'JlSUNG': 'm4pwpidTDNdnFqG7Yy4ovxJT8nWIBBZnocI7Usda-2q3Tl3-0Z9vCxghaA', '타이거신혼마왕': 'XIZoqR8bym9uOrCsoq2zy1gCbKx0j_q_EKusuyL7VJZuo85hRm0ZjzBTRw', 'SPT JunP': 'rZapVBju1RhVoW5et_7T80n-W1Y1QOZi9zBpPStwEToA0wKvwC0K834JCg', 'Bzhantaiyi': 'gax3uva5Zj3Np-Zq70Qk6YRUgKdYzedn48dFyf3_IbGKMJXs8mk6Mv-gVQ', '쮜 멍': '1TiMBXFCkiKN-bmhQeQ6GaqNw8v5vr919BI4NS0xjXDOD3xJGCLyeA87JQ', '김수영': '5oUwhBQZJ8z9-FhakHWeLrHsmRDeDFVpsPWG6ddyCAQs_fv5mJlxqiueQg', '니가 많이 생각나': 'yYav5eHDH2Za9snah1pTNCZH5srtUM49kTw3YmSk0vWOUm7nhcuTUdd36Q', 'Leblans': 'lbw8J9REciD_qDcfC4Pm4i_5vsQYiE1cu7qX1y2IpPdVjHzKQStR2Xnpeg', '전다윤 fan': 'O9ChNzvKxsDNhTZ5HV7wGi3RFRvga_DDuap6THMjJ0BU5k9ybLPnA_ZbvQ', 'Zhuo': 'DiL4LVARRzA7SU_SzQwei6-21voTKVHzN4LhvpgjA34-9XTG7dHzNw-naQ', 'The medicus': 'GQVpvcrfJOynoPBvyR1HbIXtaMAHFGOYDGO39PZ9-CjiNZB-stthUi-5rQ', 'HangzhoucakeQAQ': 'IwHY4CnUpdoxR3V7978iYHhWOUQs_RxfOkmnRI-ckoFFzrS2zZWMhRIDaQ', '프리에이치': 'h1a1i78MIqTBrLIeoBGtzrDHyP7zYd1vKhAln2E5dAmHYcTTm25exIepUw', '최치원의 후손': 'ELMTXyhasOmiSbN5yHQ9hXhI2xla_Nh8GKIae4mGqApxDV91WR4RmRGH6w', 'xiangcai': 'FOWqzdUQSZPXBMH3mqmz9uDxnB2GZk1vbQ3kFEWKFxg8JiNxTGKU_eTUuA', 'megaomegao': 'D7FXibbItrLjpdKs97GMBhCzKYklE7plA_qkwYBwL1tMCq6RqRQiQqlGjA', 'bu hu dong': 'CXeN2dUpAYySG9bQ06lBBGD1QUTvtHAEKM2iswx9ifg3ye59ZRUj76VTHQ', 'zaijianwdqc': '-774D9MmdQYhPVMNNFNakmIwDrqCtbmR6akuEqna7uupKB2kvL7MQASSLw', '몽도리 동마뱀 ': 'y2_N7DsbFU6nqNoiUPtlrh2abihSSKpEZFJxdp7reF9tjrJth0jkmQnBwg', 'This is Whale': '170FmtdV5LIbIBE61hh3adS3AwSwVHqJTmu_y4fcVJ08aIfrrOJ37eJI7A', 'Givebluemecarry': 'v-_XlBHqhOxYyKgOngSCESovSNUh68YU3NdxzljtkJFz_Zyg7_zOVbs_kg', 'come 1v1': 'IBCiUWybgeI9HPqlGr3eqNtSDZd2JVOi8zLPpA6sQqUQg-UMz3yaQ0V4Tg', '계곡을건너장': 'Obk0CvpBadT3nf3nGR2wgq3AkrOHslzwbygOJFtkAZJwfBhuz2PGiFgHfw', '사미라의 신': 'jYoAQMMQw7cgQvVtCiMVi3VWxbibrtQT2fZHATsZBAoH_w', 'aiwujiwu': 'E1zcRoH8mLl1mUycCaBYeTtK6YGB4Bfs_jvl6QCTrQYFjP6G4XhtWhyf2A', '2qqq': 'r5ethsA28_C4LBE8Ji8TdpJb61WcFHBpUZRp44ph_QZ_d7QZLWpAHUrgNw', '번역하다1': 'ljGoR0_vV2BChrmL6bdxzD_xXOHPqdO_ToLeyUO5QMCGtAcBmybYg4oCwQ', '웅톨토리': 'P2JcZRUjv3O9OwXN6Ca_DdAEKQssoqX5YuTDjX2AgTnm1j8FbipdIFdUgA', 'DlSCIPLINE': 'MdDju1Uhr5YyQ03O20R9RhVm9vhHZaUy8LRaI2JnwrBZqzU', '손 이 얼다': 'UJXfY-ZV2zBsDEcN3AJL0Yh1lqwlB2vodh_Lt-wj0kj5vbaVhKi-t1CIWQ', 'xixiaoyankai': '03pjxnJv42-cLJIj1htxPwavD5eY8OkFw1smVsIkpluGKy3KoFsSP3iGTQ', '수수꼐끼': 'WAoRE7B7d-zFMvkTcShlFZ5z2i02KaoGtp3pdQipAC2veaSyaqRN_axuvg', '채문희': 'HpU3xnuCy9jETn-479yrPaWpFGRtwtSTzWD-GaFeXaIONV4RBpdX5qr3oQ', 'UMA PUI PUI': 'E4RequlLyPYOlagW17YCMAe8P-5AYi6KMeO-0BnAe7eJpFg', 'Top Olaf King': 'UlehJlx4OkJIP_v6uMTYc-yml4vIAlITTlSbQcvoMKAc2h0', '뜨뜨야 놀자': 'b2_ogesfaPqDCZ-3S13Z3H5dx5uvJt3EnLqi-5CC0BvyMa8', 'Pudong': 'BGbIL4j-fyF39E-3Y_lOHErWTydG3uf1f7NsLQgrTHeZrqw', '홍찬돌': '4PZWFlkoFulQ8DxLeeDoNDtQMRFe6nZ4rQ6vbRCiVjxwSfk', '메갸빈': 'vqvQUJvkyQpRva84ob6iob_OJd_8fvBBw0UgWDjtl9jIOGs', 'mdkg': 'bLI1gNXDp1B8DIhiNj5IXzpd6_U6a2YiOWEJ8pa0NB4cOwI', '드 드': 'tR-boWmbOv4ifTxbhwDBLpNHj65BF9n7GPwkuQq_VUi5DRE', '무기좀바꾸자': 'op4c_7pht2vu7tWc6kwQInmhvv5DK64tBiw9-bIInT1IL_E', 'ehlsmsrpdjqtsp': 'WLNQFOSs7HE1VF5gQo2pc7jDPZulHnAPdYaGWyLuT3IMooo', '부두술사 곰': 'ibyOOm23ujn8YfSHjvI99i9IbhNrkSE1K0WJDbmlsEq6qYI', 'nboy': '6uRk6YFsZX3b6onLLlJqnMJA45G-QdzsZI5FjkEuyYkpk6E', '뒤돌면 뒤진다': 'f3NIJxgmzoaiRy7gSM6n4CFsbRNxHXF63Z4cgjQOkQmocc8', 'happy   game ': 'YokDh86O1t1DkZQO_CYRq2PiEXqKJV88RntCCOYKhvPKp8A', '감히 귀여워1': 'uy3i6SW5uE0TQKWgW9-Dc8dJmBBXZlSfwZjVFSE7PjrF55s', '알파몬 왕룡검': '4APod1VacYOCKO01dc4M4_Ax6tvKV-uUBVO6aXM-sk2UQFY', 'versaceMint': 'P4e-_eDNPy5effy38kXGeUuzbqE3sjWEJCrpm3n73u4m7BM', 'fine player': 'IsRptt8LfMUpVhyI38WkQHGXJcqi-qH_8adigw3uPyFnvzk', '초코는에몽': '_LHrYn7PjMspO3C77dSwVelqwo_csAyAqMHfWFhgtZWtdEw', '선산중 마오카이': 'rOfXxKhI5wB_9XP2KaVEOa26DsoTXPp9i2m4kogqaHDMfDM', '돌아가는길을몰라': 'ciBsNWVa0cBcBm1J99pR9JyzPGIq1ZoSszL4_sPNOexBTk8', '늑대를판다': '_FeJWnRns_d5kAUeVoCUEsTsQOn8GZC0MU6MS4G3zFRM2e8', '화장실지키미쿠키': 'qAFH-deiBYyn7-mww7HP1_oXObG58-Sj7cWasaEmNi-aTl8', '괴물 유충': 'nB9b8r_WS4JlymUU3ZeAiqaTpfwcTn8lleCaw3zkr2YEkv4', '이짱주': 'NXpSSkd113h9IAWlTRLo_C43LbuNVkDsMOGp6Q2TSGhCcJk', 'Deadly Toe Pain': 'ET9WPmNfqLb3lbBWOzwgmbUeFbvKBcKTXOU8uF5JggHW7D8', '굿바이 요릭 선언': 'XEt3BOLrs4hRyV6hIOsd-eKSGxTR7tAr2cFYQxypj3NSZec', '원정1': '_PuBFKe2P4qg937u-Tgf_dloTnAaS8FlZdKfy1Ea1azZUi4', '원딜억까는좀': 'jUHFffTj__1HaTxyfEEShVak6xIHyHjCci-rD2ayNqm3ZCk', 'aloh': 'g1kbMBE4dm12TOpsK9axUBIf3ov1CiDYXILAqg20x8Niekw', '멍뭉이왕': 'RkuNU0NsO75uOOMg0mLtbvRU3kGnHqPO0uPssHx3h5Xn69U', '양 복': '5BkC4xIKiXA0rQOdOXLlnNfoWE-qjhCcW3e5TFm789Nzfw', '기 류': 'jnyqIG68JqMVI0WjokRSunv4L0vYxj3bnRMgmSDnOKyYZw', 'beamman': 'RVxjR6ijgDrNArctAlBobYyv4UodB1jrNOdmo89puRN1PQ', '이게내다': 'ZUEk2LlcRTHhk_uQ5BZN14p3wCrwuSblIukqPOtTvS7mrw', '동헌아언제이길래': 'dZlHkifNzOY2tgLkLn52ahKqY6bWQmFlAl0wB1onHApKQLY', '권테헌': 'eGuUt97IQQ4rrhPzI3GCOvmiwDyFRJXldNZp2v_KfCN9uSk', 'skinoo': 'yPoAr2wx7FhY1_qtLlHXOQX6NsSCrnAIv9LUkDMv26rCBw', '현명하도록': 'o5d9gmccAgkIu0oBANaD8OFqWNIkV9qGzRwUKAZ0JDYRWho', 'The ender dragon': 'y1vi2ptRB5pw_98FXQhM5Mn8R9iXD3HGYKCcJXsTP5xHgoQ', '오리엔테이션': 'CpiEmlpfbaeyWke4sallj2lyS06d9lNk8FOlMnHaHX1ne4k', 'Basic of Support': 'X4WXRGmfSfP-wzd62-T7PBqPKWck8pPVCLTFzpaUZsT-rw', '청주샤코': '2gawfPOv25mNxyeoZB3BvkWkfvJolbj-zfgrUoAX8eeRe_w', '귀가 후 손 씻기': '6cREFualtr-Lxigzcqmb56sgJrfGImHafLGZDXMH1AIeIb4', '모르가나미유저': 'P7cXFya3_fPIXLrIB6Xos5FbtrU50OP3QEWG0dIJrTFlMuM', '아냐 안 취했어': 'cWtJh0r7uVbiYXzzzUsQrF59gIpJp1fZxnkqEz3lGtrXiuc', '다니엘준': 'JeMoD28Xru2E27hUV7xzCVIm7V49kkwtvNrQOo5ptJJRcKo', '마린엔스팀팩': '53L1RjH8HXyalNbu--IeKtUyUT77x_nv2SlwFrOryrcN3Yc', 'YUIPYON': '_MeQDrABwDAveF0H6YvfK7F0cN787fF44viBdUkNxHIS9sU', '세체렝': 's9gSorxkB-1qdxBBWZwd4ARO8hswBRKiUK8GiMWw8Mbbsgo', '보고싶다고난리얌': 'lZP2I3t0Q7ecVLPUkV2YS8YGs_PWq6iG2AsPhpnyOz0pWYA', 'bush on Alice ': 'df2EjGItgpy8WmwOo5Qs9EIClpbwo0HfsnQqpz83okeD9eo', '내일만공쥬': 'na7-1QcLvbBtvfECNZaX6Oif4PwKqVn09dNDeXrUrfInlyQ', '임한별빛': 'XUOIryZAeAFdDK3gIB4GsZ9v1iPXj31iqTzKBj7iove17g', 'Liiv 엔비 ': '2YEPCOb6IX25WHXBnlgD6c4jvwnGxWtFVSTP5FgOSGpI138', '시무라 야줌마': '8aWfAL-4cPTb8Sg1UJOynWt84nrpT7D4TO5Lv9p9mHZTmus', '인생은토박이다': 'otFMFNPAGMw1t9U8VyJR5qjdrVMC1MWc3QwQYjPNQvZRkbE', '반새로이': 'RKc7-vz-dItnXa5SXGAEKazoJsbduQgAwJ4odcYjq6O3Cr4', '도지 선넘지마': '_r-_1mHIdSrozZK-oM0r1KW863W9p0wn6i4MMtb_ku1huXM', 'Cute boy Hyunvin': 'j7FXF7nvpbgr8_ADAicqPPxx7QaH7a6ytUG1zEKbEc57hgM', 'zvnc': 'caPiwDCTc-BeG8colIKVTyELlyyfhgRjMweTKeSioM5Sp20', '나똥잘싸지': 'EXRqYmguxarQYM9m1KDipW3Oh-LfsMK83Zetjs4LLr9DFGY', '끄으러쉬': 'YKx7Ky-Mn07Y0BW8dpMceeBZO_nnNY3lWkmm698nm8aXt1o', '이상의 날개': '7APA-5I3AqxVO3i74CAVZsk-eh4D7fo9c9NNxCoDf7qcmr0', '나락 캐리': 'MYOTi_3ev7ZJLc_m9Y-X5KX5F5g0lvk5zyBl0hirMfFDQGw', 'Dumayusi': 'eCixZ5VYOsZk2EluunSuJG5rulCZtQ2PLUJO9HqtL6YJ2BY', '떠리둥절': '4EQRXWK0d1HSgqqK2kGmth_9jrVp52_EsHKAzq0UvMeOvg', '해적욍이될사나이': 'pzeeO_w7E_WcTYsmjwY1aiSJtoEzWKW8W7R_6nuQKDWV7w', '븟 다': 'G6Dwx497EoMbknbX1lvteO34XncnMS0Xo6V32JptbqrVdg', '계집은집에서빨래': 'MRbvlXrT9Mw9iQ88Kf69aV8v1WdCUT9rMnF7nqVJX_ZX_D8', 'jijijijijijlll': '-lSXEfDAzvUFfsnFKxOwe84-JWMvudl79I9fF6gw3pmB4OI', '미로베': 'NKJKwuB8MYCNbQ0qggxtaQT0gQtCSpLaPOKqIR-GDw_Hrw', 'NO 15GG NO OPEN': 'WVfDni72W2XBJT7Ftv49BFXwIHubQOs99iTSpAnUWupc9Dk', 'Kayn is King': 'UJgOYzriCCJ97lQrTOXpSW598Jl5qDy65jIIofDFdfhEow', '하늘킹': 'N3PN797coOARu9xuBuHpDZC4ymozhv4gp-6CtV7fAIOIANE', '칼빼면시체': 'JVf-WBvyebwgmdh3fkmquTbuTeLNqbNRvsqJR641DjMcaeM', '스물다섯번쩨밤': 'j6roMWviyTUgzSO2fUQ1RtCZKF7p2FwgLrPtJcz5SBY4sgA', '김남하': '5QCXv7J8ovuGH3SRkF6qtQVqApiUPE7wUoK1LaEZxXaBolI', '분노유발장치': 'YLfScEESNEmKf2lcAaNdMt2bn2ZNz8mg1Vdb_8Gp9jOAjsA', '꽃보다남자이승국': 'kAQEgRv-TdoHRiRvew3od80NFK4w89ZnaavAoxObwyIrpsk', '피그론': 'Vikahu0X-C0kbLBaTetWmGyyQrPStUN1dXGbGKUGWOwqYQ', 'xiao7': 'AH1sijLoKeavIH-M9JyU_rxSvPhNdgVniTzE5zTI2ivuVNg', 'Thomasft': '8uQSq81WldS-mkMAXlWYDRIiPayxJ96-ab69pxZLWcy57x4', '연습이 지옥같게': 'uET7UsB8vxIlqYDlrMhLrpX3YRk1us3FlfGKelqlvzLr_RA', '잘하십니다': '7tv_C5HH_UrN1fzlkJGD_Mpo2K5fWwN3moWtjyu-ZiwPf1A', '도현이는 간절해': 'nwI-2-QPg4t9O_K7KXF_3cPQmmcnce-_UuV-ivD0D1N_Q5I', '오 나 홀가분해': 'beI7bs9pYS5UBIhDxuzeBUcotKnsVL_kAqXT-jg-9R54qQ', 'WeiB': 'C4oyR2blF0bsWrlrHShEJzAOOcAhek27IukMogGFJznySt4', '원딜 골통부수기': 'PrnZsE7LPNwpW93fw4TDyUDkrMgGfGAvoCfP0dcyIjcaHhw', '7Kaede': 'BiYpOl8KKGD-J0NCHNDn7Hi6RNeoZPAkET2gqTjWnEp-rio', '얌체처럼': 'J9JkG_YFJ7iNxO5jH1rGCXBDGJP-k50M5xXdK0FTcGMZeY0', 'can l love you': 'q-RpEsrqdlWxI8X4oBZSHK9n0EaBaq-bUonJ2GC8MxIsPwI', 'Carbonara': 'E5NxQrvj5PLp9beykD3fdpNIg8saoLcToZGQMkn3DV2-0A', '이기고싶나껄껄껄': 'L5DQBGvrakWr_yVw_DuTK46vi1csMNinM7YeXgNHwsXFA54', 'Catopia ': 'DYKaPSbY3icQA_4bBHwcY58xd6wrsN39dabigbDOwOzPgWQ', '의지박약꿀돼지': 'TdrQB8jb79EELWaLW6keNfu8ErWUC2gpC_OYVV8BAfAL1qU', '노네임S': 'pzzX70tNurQaPwzNhX5xKp5h0DflSYLDsV4ieybBXx4ooOo', '에 넥': 'IY5TWVcGhFTooCmyaptfAcNSzZ_YaWAITd4QTQlwcYdauz0', '일차원': 'f0HT_K_GhsiESACkCuu5LhUdcMsFrBeR0l4yFb2nyhokQhA', '쑤미마셍': '-j0Sb-sH0yCsGLaIOYHNA8BcK_q1sPNzAkf7NtX2UudBzw', '나는너가노담이면': 'xHgvlrWrTp1fz-efW4bMnxJLFN9au219vf0CxoFhWHDQbUw', '쓰읍 이상하다': '2qa1nmJ0MW_a1gixFQmvBMfAXjf8CQAZ5xAvQk-t6AabtdI', '바 드': 'K8PAF5wXNYX4LzW4_dRVwogmQ3TXK5IENrxUrumffZC5Wiw', 'Mippy': 'MxOXUm6FfQjKhQuiEK0DjWtyZSP1VDZS22V-FnGal8HPSU4', '남우기둥': 'a_8lr1LZjLxGCaAp2ZYZUZg1HcMkvdHamvbs-Q8Fcph5MSo', '헬퍼인척하는사람': 's67bBqRaFHb9NC6sIS_Ikr1jAvOBTBwTjChi-sQQlIgZVzY', '슥 넨': 'bpNAvR48myawA4d2IYPJZZFeCaTiB4Z7pczcbf-Pzqq4UA', '순보왕': 'KKbGg1_5l5Ki_7MQn3UDwwS9zA0_z9IHCMeuSyu8u3-lg_w', '흡연충': 'Xj8Cwd5mt8X7gffdohfUEDxSD68jG57c_dg_mpT-KnFHej4', 'AnneTree': 'DXTUhOsbcbHodW1HymOXqREZXujL6gjx51KwzuJmzInWfF4', '응애 나 아가서폿': 'UtQLSA7oRGmPZ8UNjdjnZJJnIn5KjFjsZ4_cLCzZzSXWp6o', '비주류전문가': '4yWzB7GLBmwihi4R0TW8_37AOMD0U57aPQ7IqHvMCYLYeds', '퓨으응': '9Py2fQwfhIRI5FuCGxVQ_aPoBee_QXkzoa_3mp3IjSuYWjM', '박재윤': 'ZAnEKdKHBQckpOV99gWbZiSGKvRDB40t35q2SN4GJWNg0QM', 'OMYGIRL죠린': 'gobxobxT9eVcUFfkxAuMJ2udds84xmILm-0k3mXAYme7WBs', '어른이 된다는 게': 'RFHyF1HccYBERnPBk0jb65sHIQqm8PUzDQwzYS6HP35tcJM', '03 APKING ': 'jWI45YhuxAPpBAM6k3KQXaYzzPguwgbukfR8zreJ0BRGFa8', '변종 나서스': 'UGgM-z3o2HpGcjlpO9DfqDPPwPe4AY4yz1C2BJh5crOu_tM', 'SElZE THE DAY': 'dcgdnSCfXX7ngma40UdTWrcmyxOCyLg4HWexXD8xfs_vEWA', 'ilIIlliiIIllIlIi': 'X6C15ZXs1t_VOGGufTfsFZAfIJVrc_sk4tqy_pkFpFFIeL8', '디듀르': 'c-aCkYlw1dv8zx37qHWRPDf688H3eS0Xx0z4vGKKhU4uksg', '사주세여': 'bwgVN3MxE-re3AcOkrCKOm_Qwzn0VOqLz3tfleZsc3NkCA', '탑    황': 'E6_MTaFVrz2vq1_31k9w9GGnbpZG0nRquGV902IiWwl2bw', '멍멍펀치': 'juhWUeUy_owVnU-G6-DJC0fB-cy6r4-m-IN1fd-nkAiwR5A', '하모함오': '36SmHMz-wi3j6MR3lGq99IVqC6sBwzlXnk2FN3A-uey3YFU', '개같은 나무': 'YE-Vp-XxQBisUUf5Ljji9J4iJYWLHzw10C6okYAPMSmCVWY', 'lllllllllf': 'nqt-4uaKDBx2Y5depT0OjvApkoVJPwXAU-I5gpbVVeoCsww', 'evade': 'qRbnNLo52f6Xq_gwMfcJhlnkiJ_MrvzANaQWJJHQacn2ltc', '핑크핑크돼지당': 'Z5yZDuwBYdaH6mP65RDHV4AyL20JB7ewu0jYSW8sS1mRKQc', '무지성의 대명사': 'uxO14oI8HG61aDtl4hj-FVAYMi8IJqAjWdKUQLYqvGJrJ64', '독도새우': 'la_U3vN_B7H_NRLAgeL0tXt2f4zBaslsrvgjB8MdvfrUn7s', '딩거명인': 'Eu6O6iWpOX77NYZaR6i0gANUucqCHJBgv986wDX7joAC84E', '지원팬티핥짝핥짝': 'AVW-yU0BRX-kYoeyh2xSQVRP_6Go8RuHRrgPShrfeCUXQz8', '쀼식이': 'L8Y39dIlWl3jy0IEClUSYTjNjeCWGXk5nquV0KY0wcIwUOo', 'MOMOMOMOMOMO': 'qdnh5wPsJv0AuEJcpcMt6kwpN2_jJRO2t2kw_moEfJk3IQ', '마꾸이잉': 'nLOLuLV-33rlNrNB7nfcrVemnuXztisL-qaD5AVGHEhC2w', 'Take Me With You': 'ZTVoiV4qjdNBcSXnytYR8kl-TzCkFLrsBXvxfMJCfNep-4o', '울어봐': 'mR-htsRUhAUZlJZlVADJNmd1NnMBJhwChZsMx0ZOIRcB6g', '죄수번호20161117': 'PzR3UvIN0ali8FOEs5C6qmFy253kF6viqVQ2OwhLiikyGHg', 'MNMMNNN': 'ZUgNBjDJDSr9xbqwpeBXLpiJzA13HbCvwk3DOitP91JgX1I', 'sgy 9': 'v2euOQKr2InYkQvhvTwA3UqlirYWyLN41VYxGAzttEuIqTM', '노원준': 'JL0dNrNHseMvL6Zp2UykDq9W4nKHFC6_FCxSGuT8ir9GaDw', 'AHBGF': 'hpeynLphuXSNDgYwHyJIIDd5MRSP9Oyk_MN9AB6VfLEEcg', '최지맨': 'GoUqFrQY7Z4R7z1NSWx0yTjC428D-FX_x7U6L7hxlZE-_5I', '바다나비': 'zeKUC3BsI2YwdOAsKTp9sGcEjjxUSLtZBpGqwAJH9U14zTo', 'orca1': 'F8aMGRk3Y530y1b_TyGGoODJEtePSpqAPdZNE4ZsPsRHA4I', 'hua zuo likai ni': 'C28RO3w29oIl54sifaDO-tENDilBymx4UELaPgxbpsDkVQ0', 'overweight': '6moQ0B5Eb4Q1ZPh8SLqReDWAqxLDvA3Mj_8gzmXn2jPq0g', '정우김': '-AaIMm3bExau13_Jt7gr1pBBr_MIBNxgzdlCovDZIXEXWg', 'new bs106': 'yFFWgoMPulmxywABXVgvr1K1C4MRkq_UI3iVOpadsHbEWxQ', '즐거운 상우기': 'FqicR7QjEsLJ9sPTA3hg7Qsz3tGHxjSoRVdjFAMjvbOyoQU', 'K플래시': 'uwDvRCkOc_wwgc91eajpQ-SMWXNJfyZVfz8iLNGIaHsRHls', '섹시그루브이동욱': 'AjZns7EZkQ3ffOkN_isU8PMKL06lJBGIN-caoTd_7T8ebqQ', '세 긴': 'XjVTDqSB_johNJSRphiWKt-5EymeqjGA3Xsx5g5toBESKoI', '길의 끝': '5f1xo6X7fzjsBO41n145NjUOX-dB9YL3Oz01Qza8chCOgFk', 'Be동사형': '7Q1uXPTb7fXgC6REsVIKIk0Y77hzFXi-eTswr7Bs997PbA', 'WoogieG': 'yg0xfowA8Q5FYgooUmIWu4dylpNUAQbVaj4FFNMFgFD6-Q', '저는 윤택이에요': 'JPkNArzwz1rm5Vpf63e_5XMYPBD_kWoGeva9SD2JbZPYxfw', '모든라인스웨인': 'anNiye-3umZpniJX-YkQv-c-Qn5Ap3uRI5iaeLyCWMeHpw', '무등산2': 'LSbvKUDr5VApdXuRCRDpcv05um7IB4zw0yj78_UMYapeZA', '라 등장': 'ZPPyhIjAe50qe2lvGckA77XIe6GO8IV5-EiYN0zId5WYtYU', '오징어께임': '0oYh2yAoTt2G3hTvs39c4W2MGOBlg6UFJ2rF8Fef-N8grA', 'DetectiveAmelia': 'jRkofZ5jtiWsg6TMuQlN-JAgSD_-2yeJb-QjnMZZtRmrJQ', 'i hate laziness': 'Y0qaX9sW9aGAyLm5ZjIyZe6rfm_vZ8MG7y2wXq7HDM3Y9Q', 'soybean King': '9chfQTd-9ekV_8-44RfGyHYToKsjCvv4mREIacUrFyyQMHY', 'Ravenda98': 'CNbfgxKknlw3B84_i6v_zF6cMJvzBvu6FndUOe0cUoL4fg', '변화없인실패한것': 'a0MwSzL_HZJkLIib6b4Of9up6XtaaugARmcy003iF6hkdJE', '전사링링': 'MNpsapjCE94oc0rwinWm4vltVQMxn_Ko1E5DohKgw0b8ep4', 'Zi존파워세림짱짱': 'lvK5nwURtMaHiHI8GtkdAHshjLOQa8-MnfZeV9Wq56MNZw', '이이이인우': 'AhacpXu_LhcSXv-8pnWLwA-ALk2TarMMwOIv_R7BYuxROGo', '마스터보고싶다': 'bYWzK5S7TcyzOogGhGHP0hsLVVUZIhpqjpRHmoDZj7V012Q', '럼블님 ': 'Gcz_mjJEJ4PMI7dzl9gPguE1K7ErUQfPlNDX4cY6QfqAJjc', '화났네엥': 'MLc_JBvT5AjVle_-Nq7VqCgxQ9TxCXpxePsYRRgponnn1bE', '이희태': 'jQryjMhp5W5ilEtmyMGjPKevSQsEWaDZmGslou0K_NaPpN0', 'Bae Lina': 'PgCh6pIXS7hdll5ShsHPmepaFG_uXsxRqFLTWS8z0pMyYlw', '레넥톤까스윙스': 'pLTVBU1r5exwoQmuOP-EImK83ozk9JD0wmbemXb8cBxaLkA', '용용이의하루': 'ha4Narsx349OMMRcIBAZAZsz6dzZQCSZIRd8Er2UWoC1gA', '히로 하루': 'obE1NtzAm1yc-hUNeHDSPMjXkXaPQzI8ukx3OXlAhIJ1AQ', 'sdlojfjeroir': 'unRwoweVuPZLisVMO7u4WWhx6qLnGUedResEBAaxC_PEqw', 'wavyonurwave': 'b405gc7Kb2B6uWFgSZaOHl673CInk_C20BidPWp3M0l18g', 'dliuilb': '-T5GkjS7cPbl1ojivfu_oYThR2HGx89fs6ID8bvcL9VYCA', '사 용': '2ztTvjOK-QYMIcNtOkeuBWkOaCoi0PFcCBE2N_4Eg-utrw', '서아가': 'r4Gu0oJ0KMJOBpaCRbenpCbaTvbhtHhErTk_jqlwSWTI_Q', 'Mltsuha1': 'uHvv2q-ErGzs6JsptUpqCLmpIx3eF2LRG54dW_bkBSxruA', '소금노예': 'nC4Kqy3K7IciVU1kwoFDj2IxbFLxwlXDdoQGvR8beYILXrk', '복돼지3': 'g4BPR8BzD8hGfDyaSYL9hnP8GTg7TxzTs2wRgMXHr-oXng', '악질 머한': '0WhenAkzgdJf7w8fcdH5gbrEO_-2NZCGCgmDguFyVLLz_w', '무닉네임': 'g8cv2h8AjGJVq7CDAIucQM9ZnX5tZQQOT-FAcyBSCr-gmg', '버프열심히드려요': 'O7SvgRW5csgcZNUyMFqYj_MoY8JYzItEbZ9o8yRSlIJ8znw', '원딜몰래대포먹기': 'suPr5TAuXp4Xf0OUjiHR7cC5T0o-2UXM1ZAvEh0k_LI80N4', '마석누런펭귄': 'QwlkGJfxETAMdMiJzN30ck9M3RDXNVMmsMbuOAe1CkBBDbI', '2006 09 09': 'eTfaj8vWHy0uuX2XPXzrrCWb4mWZbRJQ9Tqnzjf_YvVjeY0', '불 물 바람 흙': '1ktfPkZizzxUqeUBPSBo55NRjFVz5nVMaCSdEDW5PgCqJng', 'JUNNYUNG': '_XVP7zSBqYsdP1-2v-gzydJW6m0sJDuKhpquDzXr0KNKFA', '철이럼블 안티팬': 'UpE32GurSXaEB_bYXdIqYlwG3-t6NGAsAzGm0SVsgN9L2g', '이코어': 'Vo62uwTQ3ZTVD05uoKY2OluD1fTZRUhv4mXqhUZ8yVsTkQ', 'Belassen': '3LPlm21mdfPZXe3LAosNRVMzJUBpIZpIwR3INV_BM61n0Zg', '우람늘': 'ewE3lNKH_kliwDCdMmLvgZcsM4BEKoG9t2iJlPUAOCzz-w', '이길수있게해줘요': 'xHoU6OVpOk8Y7tDgITwVu9ibsKuaB-NgCRUyvZP_2SBa660', '발러야 밥먹자': 'qOBm-TCVLFUDlL_jX6LCPILYlUWgiAeGuBJY5LFGdj3HeqI', 'dew fan': 'JcRVieXbh9fC4UvfOq5F4uHs8EqSDDPe0xCQGItVdkCDOg', '울부짖는 쉔': 'ix42PpJJ1ki54K1V2oemzP8jSvDrw-O_8CnQGIEotnqwWA', '인욱아 이리온': 'HFa3swyGQr6_v-SIv2Jl5j91tYH4e9Vi_ivnm6SBwWojsw', '초심쓰레쉬': 'qS6XOkmNRIeBek2RJKeD-bVAwUDf6BKGa32vcFJxyMan8g', '워킹맘': 'RTxnu4zuBrw63lWzVuPw4BgmC667ZICL5_Df2ZhlfOtC4xo', '춤신춤왕 공덕현': '8Ir8TBPmaM6fv98w5AA7LapD-ALag_b9Ny15N1J189oZfA', '케빈츄': 'sk3xL8hncPvx-xIR6AnyLSAnvk3ceHAC2aD3rqgbJaYRow', '용찌뺭': 'A6CmQhrD0B7NFWzHrhPPkM8D2qPxzRC0tMujQrIzc9oidQ', '수유 Madlife': 'qnPl1DS4EUiCqBtzNdDaG9FHnh8K1F6h38bad_L6rWYPcxE', 'hehehohohahaha': 'y66y5JAuuPqTi9apDF5KdnQL1EstZUKOHW0c_-UTg_Nqx1I', '꽃길만이 내길': 'W2uhyvQtoajMmwZwbW2gIkLV9xzNatvLCXRDJmmwxElWouY', 'LazyFeel': 'zqP1kxBSw4q1nE4nAD5x0whWapcms0rKqTHK0yVMxWtNqrA', 'AmesIowa': 'Fz5FusWiwJuRm1GSJ1I2kWhqjlTRG3AlG6i34O1dvlkxIys', '신성한 안개': 'VhSDjphr-V-dsQo-BHFQAYaFFNn8fhx892j_1igVAVQevng', '흰머리난알파카': 'Uku_2gNVSEjJKkMmhxXAzJtbx8PujkexEUchaapgyQsZQwc', '지혁갓 캐리좀': 'T4tl_eYnqoAxLuJqqddo2GlagiCeW9oPE2ItAi6LzSzYdFQ', 'TUK KYU': 'fW21ghosG5T-pF49HusISpBveAHtD17brdq9uSvlHPbVtZ4', '잼밍석': '-Bi0C2nXwFKTdvl2NmrYiN7F4nr9u4o_svEI60rkbbIj1Ik', '빵 테': 'QAwGZSlxrXTjlkppeuWORz6tIheufWm4a3IhqLbbQXzsBWQ', 'ggwq': '4c8YeCtx9KSalaANXAurNxf-XOLjAkKTXKclYBncEbAaoNE', '가영 키우기': 'lU4GXZrUnKUv0eilOrPAumLmTCpS4IBRs7ARrf_PLoBDGQ', '체태영': 'umJFtngMFO9Zw1YUYCKBXSX8xvkSKK6QzYYB-dtcN0SwAgc', 'happy ovo': 'xTcTNF1ZsqqGgsNYUldMf38PTFD3CdnVNJephSod9NUDb2M', '도와줘 룰루에몽': 'i_IzLLulzlqGBqNTb8Fd2ULWGA66m8MxUfFFs6EqqLceevY', 'zztqzz': 'DHKoSUciK82anCyjFnBXte9U_YWViSEpgz9mJF1eU4sELl4', '211216': 'YV3bTLR2507NSypFqE96HUE5VfDZ4vdwXk9l5wonQLRM5oI', 'PAKA PAN T': 'yRJwKZrQzF8CKKSVMXxIF6Tr3O_jbrT4pGewMxAgJf-gGKU', 'unknown89': 'q6vCBc3iWIWvQGxb7hhxRK5wxj-pMw7u_ypqOCjKwt_-2qU', '나여니바라기': '7wCZxgXtgwJG5-Ixc2P2HPP_WrGFBWj_b6alNE9i7ELTyqc', '술 잘 마셔요': 'zol77E2Ri1WUt5p1n4KCmOcJ5vXObI297dJ5CNbuuM_wLeo', '꿀꿀꿀탱꿀탱': 'oO_8ifar02C4vnTKZXNtTQivdDmAJsMFQlFr5fTYo9oyr4E', 'Laeis': '9JurvBdFDEbbgPeAGc47n5LtpklSwKBevxPc9y0-UyCpNug', '영준백': '5tQGaoE4GY2kTe0rboWDOkPiEwK_6P66_7tWnIVdZ1GmWSk', '닮 마 왕': 'JWQVD7fjwk_WHTijkFtwZ9Q63t7QeEQCL_4sw9iUnJXGNA', '체스 뭐같이 두네': '7cf4jYrDbTio-JsAZyUVzYCc7YUWRi7qqSMfUV8Dvmamag', '아자아자잘해보자': 'Utw25KTCYyVX9i0_7vbCWZH7lvxn3vo8zqjjdvIFe8jA72w', '이충헌': 'JtQKeqUx57SWVq0-IlfbSK9WGttPcUMl085w9ff_OTiyNVs', '앤 무': '0wa3_yJ4xzlfyxEWudbZEEagVYu-XIdj7U9uRbaRXfCmaLQ', 'IlIlIIIllllIIlI': 'ok4PWhG1GvHrzw9bkRkpmpMq2iQ8u1lK5hINSezcgJv5xsw', '192cm82kg': 'GPl0KLuUNYSV3lOzREr5skUyeRq04guGsoPeMzqCfvJ-KpM', '이블린6전올차단': 'fjqi--dsJkQIfyxtcA0iNIWcz-K1mjUHTeb7ao5pNjlEhKg', '광장동꿀주먹': 'EI0ILCZCtvtxe3TGqoPYweepNr-sMRmQc_-AKPeoi_eO7i4', 'DK BAEDONGMAN': 'QxveYM2MrmpyPKIUHgQKb76fvgxABgRRJl8jvf3-gid31SQ', '마뽀삐쭈': 'x9ow13aEOJwp-lXOTcd1taLjbOcraF5MEMwYsaKhdePxlA', '쓰레기라인미드': 'ZC9saZGeax30WfZKMtgqvmbp7fUgZCVB4hAMZ3qg6gRyKw', '후운팡팡': '5oVAmpoWucCQwVuwMxmvtbErMUb90LHlJbMPRV-TSp9W_Q', '몽총몽총': 'itp1eSJJ_tmhCVXRmcZjPJpJ_E5eVL_ibWRMlgHurU1B0w', '잠수빈': 'EZ3pqMCKQ4r7RSR_dnwNM00pbsftxhNyO9HappyvinckTfE', '별 법': '69Jutqi4HQakABOZWguWbW4VJtQxJMaHHcgiPiT0_IbxKBQ', '김성수1': 'tb-dL30izntCd2uBdL5Y8jfmCeU5Z4Ndn1rMpivyNLLX1Rc', 'Epoon': '6Chl3Nixpb0_zNakHHo9A40oL8Seym6KsJyWg2pfjMIk-AI', '학 엽': 'd7Obli5nArqPDcqiLWdRbiLAN43IzIaJmTcUVGrka4aHbg', 'zzzcxzcssdg': 'w_xHZhYiqy9tFo2PvthUSZe9rEspFVhFOAu960dK-fWCkw', 'supsupsupzz': 'Zpbg-tnZtIFugCyN2Aev3lciHk5_LfepUFTldo3BtiWKEuY', '다딱이 모찌': 'RZYHxvdI0tird1um66oYZC-zQhkrvPRGaMkcW6_se-dVXFg', 'firsky': 'Swa3b5HOZmM3fvqnfx3k3QWZxW3HV2mU43shqTaDwZltY2c', '하늘에얼음이있음': 'zJZyQAjN6IW6Ffhoueo-RaoPjDluDjA__qh7tuXci11Q2fY', '감수성수': '4pEHnrt0_ABMKXaTDOXkZRuI_N0wzjjSeGiDM8HK64m7JHk', '하이머딩동': 'eaAeSgdevJdGXyLiti-mAPzhkXCAAiDBgR1d7Lss8os7Sw', 'Jotmanski': 'GQbEJbGjYzxd0i5g-cxraqZrzLutzLQPjq1y0PNDlXGhEZY', '생크수': 'JzWU47byqD_NNYCLHRz2piXC6zyncRpUjMpLQ7d1Sls6xw', '아이마스 타카네': 'G3fEcFcTS6HRBm9KWqeRSLNeZfmhH7Lt2rUerPv7tjc568E', '구여름': 'bFaOQ-CsaZtdkFcW8bV2b6XGg8WGrbF6vQClZu0m4dGY0DY', '토닥임': 'FHez_COKjgp2IUpfhAiG44fma_tcnFb_214YvKL1Kvpdvw', '리젠스': 'H-AoiETfnyuCdaEerERoDM8itrfXo13kLnagoBj30aGLUmY', '쌍 꽁': 'C98nZHGwFOJowMPZxsNAw-0lTcLK6iH5ri3xFg9hBS6KmpI', '박지복': 'fECu-I7MqEg9Cu8XZU56KAkYDK5pguQB6okR35Euc_zAXg', '프리타먹고싶어': 'tjije_1TmKWb7FNwZbldgktH7-L8e8pMHDNSJGUZzh0ALQs', '햄버거는맘스땃쥐': 'IpgfupgnX0zQe9jK3mYJMx_iREEc7OiibTuSpjwiw_lTsic', 'JG noob solo TOP': '_p6rTRqAdFrR41ztx63V9Jvlouu0-oEU6CebWZWVK_UMmw0', '광주사람': 'kArLy-pxYqU_ilCUROsj0f1nSgqymLwLFr34965hZyxA_To', '금 화': 'pnL65N3JnUx4Rqb-cXK1djifhtLh75gaIyH6fDJ0P1UDiYw', '737420': 'jb6BIXnjUtGVq4oJ-FutrX4IsZXXGI8Ua4IeH8j0f3Y5RCE', '나그만잘게요': 'JwhLRZ6DZHak0lho0BBf_MLEFqRqg97prWIiI-uvyD8k8N8', 'Ai no Supreme': 'Ngp5q4P93l8Tv9sRfwrRzICXyi7QPASZ4PQidguFs00dtWE', '드르스꾸울': 'vPwOSH7THXA1CGU-ZJxvmFRrNtoAFH8Ihjb_LKyk2fPeXu4', '탱 문': 'KkmEzv9cQAbrvfLJofaHJnH_f1eaLHp6lzAMAAAPLPWQFx8', '난 J': 'r1WhmdzNABSYIoccO_YuwzmE67GmaJbtMQ_w2mywYUAb9D0', '최상수': 'tCNDXQkiH1oGR1WhASoaU0z7sRGxBhrY7iPwQ5FeHOePjm8', '해보던동': 'FQhiiq_RC0w46VgKEQX6Ij30vUBczsGUs-oez9MB8c_OgA', 'FA Mazino': 'X8ol31rImmAgCph3Yd5nqXYFvKHJRC7OBEPJr32zFyeG90M', 'GALA123': 'J0Wr52-cyvZj9wvfUzJDPv9At6M3PF4MUKJftxahl9MoCA', '도뗑도뗑': 'f0i-XGKU24HGWMhkUQmiLACswUMi3C_HRNCCe4wi-dSArCc', 'UijU': 'KgC1sz8cxKAzZYGaWd-I5v76As5kSK-JU13qnXVeLwKTXZw', 'AD Carry Montage': '4A0s_vpQE3OGcLYnJy4HQ-V9mBlND9ZeJe5pqTVSoi8-SQc', '가위주머니': '34sNQZCiuNm03TqlfRZTx0JDMNAeFgBdsPZOVsAdTPfMsk0', 'buyaoxiangtaiduo': '0jSBXFeED5aGEVRKlPi9p__UD4ftpEvdmUPGdR6XtXsmtac', '야 튀어 빨리': 'rLZZGKeldUJDJQ_1nGQUb84BokGFLTg7Myn3qG7FEkfmVBc', '매번잘할수있나': '83m_U7w-eVvcMjuMWYTQqtTh8kmWIHErKtq7sDWQZoyKGPE', '언젠간 빛날거야': '7wyZsjDHqJ1JNMq0oDNOePO0VKHvSXVSWLlSpDFdCDdIBw', 'Rengar': 'LkkpONUlxTZOPCZrOZ9fFkfnym-W1Djqb6tzVpDHZPGi6g', 'ldhsky': 'RH4e_68pm-5OoHUtfPyqtwora6RPx56Z8T8KALfKaBPCdHY', '주근척': 'jFCKh5tJPrMr9mwpBcAIDOhFMtiswD0kg2l8NLCUAnML7hE', 'Andrea Pirlo': 'Yccn9TxQHT10wNPhNNambeCgav18JOH1KQRi-0ErXiO2yIw', '메접공부취업': 'ky5akUUpitFYkKTT0huAjGQ-trcdlSCUsPtd7fs-yLFFSFM', '서연이 귀여워': 'P-vD83DVWJN-HPU-AnzKJ4an402RQ0pbu3tyND-BhO557YY', '충오브충베인충': 'IlkiXIW4JRp7OSaPKpB-sFI5btuzkLDa6LlNu6k7RU1mBg', 'A3S2D1': 'alaQEfW_aQkxwjQR9YPDsy_BLSPlFQUeDZnXahsdZHEePvM', '곤삼고': '7klcBFoMinP3xSHPkrlf6HGwhA1bT5p165tRY6wZb_hHsA', 'Joosiqq': 'YFwW988bqNtuRtP2_rbLFam3rHNMUJoKgm3PnTn5ptN8gw', 'flawless love': '4IYbSGBQf_hhdnVOYf2kXRoagyILGhuPzyKlZKd2c6T_Xp0', '9 1 off': 'EtbX9BKaSIOFaAZG_XiwRnXHdoLg8rkEkwFwGVkNr-leMWw', '나 빽업못감': 'NVPpOmAiy354iImvJfg099u_NM3t4pXJITOgaIn_OArvVg', '찬 님': 'i7t4pUmpxRgCFDN5RUCYEAq3UIVHLGcQQTyyoSaVLSZAStg', '울보뮤뮤': '8MZszgj1zgNFg8IuXQap81pjM8yncugpypvnk9rfO3VPCQ', 'answers': 'H3TcJruZ2MQMxWjLJkYiFF8C6KPAVx6Znr1bJvz5FjPi3Po', 'Coach Dawn': '5Wi0wC_zn9Un7E5ls97XGU6YoewR-o7Lvm_pbSuOK4appw', '수면은 거들 뿐': 'yQ6g7dM8Srx6t7K4RTlHBLnS78RtYvKLjt-tqERTT8JaAW0', 'Nunu and Willump': 'QUhID7EdxBJLrb29KySdtCB0LAgDnLbEEfie8p5UbDE-WwA', '제리가 좋아요': 'l4zyMLPKEEZwKZ0TPtTwIwFQ6ylwJ2XKqOAV8pYsHu5Ak20', 'FA 06 탑': 'NLcqUyTYL3hItBgvTQaiOqw3tgFBjFCuoQwEzWowqK4KM-w', '잉징이': 'KulXIqmJu9b-iwIb6n2QvgaaBdgn5fHjShSvLdJWQHNIiS4', '고기는 항상 옳아': 'rbMYvONQtp6llrGHHgGjtGJAkX90emoDQKgjBu7ofdmMUew', 'hu ya518512': 'GYoOFLnx1FUNWzjJI76naRUraE9cCrrAaax5tkSwuUJFaow', '11baby': '4UUY5LMFLVYvghCi2JZr21XxcxB3GcF1VK9qZ7BbcpXZFz0', '정신차리자이재혁': 'x18fNWHK1E3_4di33Ldpa7HxUdJdNIEzMdtbV_5HUgdTvvk', 'pewpewpewad12a3': 'g8S8i5PgoLtBGedje8NdpGcCdOkH7QrDlWFF2sAmEZvb6EQ', '덤벼라아': 'uCEdSQEPbFBtH_pIoJwQJ86xJYhVWoubz772iUuanO0QYQ', 'god jeong': '_Xb2kGe7MtqyLjiSq8xBaqgqVVOAhkyIwhhCJHZPfMg3gw', '므 갸': 'wsKSf4npDQYIHbKq3cZg17o9ABZ_F87atkUEnG6C6sQB7zA', '파이터똔': 'CYzhRwmH-SNjhZV9F4htsXBfPQbJnL_v5s0yEjewnt13QA', '우얄티비': 'ag1z3UlvLNuD4bx8dmsLq0Fsd81gdOolmfUAWOf7pVM7H9c', '한휘동': '99_KkghvV6-GC-lY7DhZGknvaklHeN4ZbQF4SHtpRPRnxQQ', '캐리하러왔다구요': 'ZN0GlkO-vJTh27KoFPk4e-sFZosrTOfIe720WIkGE_098fg', 'vwvwvvvwvvw': 'UIWcrOojfVFVPVI12unCZnT0FdKuQsjm2tjk7vWW2RhwSSE', 'well dawn': 'R86x4Ak1ECTTzsR5pCF45GQGaL1uEfTorByvC6ymLffLfOg', '와르가르': 'kOGTk-PVbsucRsQyw-1Nj5TgKJas0ibD2j1-YLIj7WKFi1w', ' 바비인형': 'kKhRhogzWNWcTuzPxBDOfxJmfdtZ_ODqZVn_FansiVRkvT4', '원딜을 잘해요': 'w8nMqVlqd_rKXfW3BatN4Nvbj_Sa-MzyQAzkkD7vNRHFmQ', 'SounDA': 'BjPswznbrHsJ1wQ4I-9bI5ESNnt9GYIEFdMzubYmFtzwN0o', '고백해': 'GvURyjJ7Y6aVeGjGoozawnwZtVO98JScXLyi2TcVeq_NXQ', '나는80KG이다': 'DHP7JCTu5adLJdapTWFfbRBDwmbXeIO0OUeIb7ZqQQpV9A', '의심하지말것': 'zKKl7m0SgbimwCVRkYxKzeEp3SqaSCf-SJXiBl9llXWsTmA', '그 라인들이 또': 'CpLbNWMsFdo1H3NHzBSUaK0iIyDWi1S-TMBVAVgitm7I4w', '2011 04 11': 'rXo_w9hUM80Z0CoTRVRiTTXOMgcqRNGEh-Eo_YLE5FtDkBE', 'No longer expect': 'XKqpUYBOM_2ZeGDNIUgBlXa70xxIWAiNwvwjbznJI6UZEak', 'The Shy 팬': 'aVL01rMRriGYuSSdvKtnUjT5QFl9hfDvJRZJr4Bj-YJRFoI', '새이름 새출발': 'Lv_YEbjD7XliQXOXnajJmtpxy9lRpfaxxhnEHYAg5UYwvA', 'Synze2': 'XyA37oFECppKx5rM7bPGa_6gMIaq7EcrXvxdws37HHxqmIU', '동그라시': '02FUs-zIiOfYiW0ffPq6yjRhGksgxhB1bIAkBjpRiAESXQ', '간절한 초계국수': 'UyQZnns30gQgXzxh3yTf3VlX2aoRLgInDHn_Vom05sO0PLk', '나락간 윤호': 'yOT2ZO-x_R5r4oHbb5oF4FRubCNRPKMXx4z-PQqw4S2lG2E', 'Umi is cute': 'mmp3gxSC7FncJflUuYyTfodIN5q5rNyOSDpERwMukcBLjO4', '비비빅1': 'ATlPpj1UdmdHWS-c1NzGR2TrQxHe8Tkcdd72GEhL8o2P87A', '뇽 순': 'BAJ68EsQW6-iTc8JVUja__EpeUbKBFUQGhEX-AIp6YuUcXE', 'ILLIONAIRE 11 11': '1H6mrLLEGvKheIvjh9KOgTn7L0Ls0YtudKkEGCxMY8kO0kU', '호감형 탑라이너': 'XXm9c-SwzsS827LCVltSyHiLl5rPxxneCjPfONsN_l98BEk', '디센트럴랜드17층': '9xyKoM-3CCeCKeu9efNv5QcNcu_03723SQiJtsgc1I04dw', '아무도찾지못하길': 'JCRmW_du3ypI7Nq_1l_7DYjTTL3sCWxQOtLRj0PfnPs3iWQ', '신아 철주 길우': 'oZbvPwwYDfsZ-R9xdEfj6sBwjA5JDsUgtCY_RN-X5Qvhjb4', '핑크봉봉': 'qWJ0dJDn3UjUG5YK-b9p7aY0EtxJaRSeCJkQUGigNNp7lw', '일단 한타 걸어봐': '_udVztJk5PcOabIHa1vIbZiutzK1xktdsbUlcxq1cbYMBcE', '섹드레드': '7FvT5B_Xwq7GIK9O2ao0xFdaY55gPupI8blgMTSAQOEstCA', '자바칩프라포치노': 'TqUbQht8rcw7-mwfj7Xl-mghhWDye3UCpoZptEhNcSv2yQ', '신속보달전문': '6iaA55swXArO8Qk1PLk8vUS7Enn6T8YXTd9FmZEbLIvpUg', 'Saebyuck': 'POESefuicph1wIXc-LsMln1G1yZOvrsuTVdLxB7GohMLYpk', 'FA 긍정맨 ': 'YEqTe4p3jhRjjhUyq2dIrx3U-YBdWIPhFhWfHfV3lFQWCQ8', '님들미니맵좀보셈': 'HUClw3WJBLHdctpmV3_H2KYnxEqc0zvL7he0mZqseuYhiiE', '김현당긴': 'Av9O_Znv4hcFY7478PB9zRaHLPvZGexicMUXJbxdgW0YtNs', '난무지성으로할래': 'CQXWXJgkAbLr1TC5ckZSO8z2h5H3eHCWFkYSBOwMrz5Wxsk', '해피뉴시즌': 'oRWADMlE_0oPckxgA2kKk6rtGP5pZpx_7OCCfTtx1zO40jw', '우승하는계정': 'MYD7f9Okb47tKf7lVfu-NC9RhjbPJC1HX-8-lU9iQedKtSI', 'one die 15 gg': 'kbC5S7Qhjzhw3FyFG4Cr2f4D0U2dK6FB2-MahFdpLmiPpF8', '베아트리체': 'y1u8j_yVhYLWIrGWjkXQXpkE5mQGM-WOK8KFoVMD-bQHcv8', '힘내세요 화이팅': 'e8-sFWQMH282AbmqyksU-1MXVWF5Wm80x_IHJRRsrebKGdc', '비모 안돼': 'HycRU_znx2aiQg17__I1qfVUovC9WQZ_nJv2aPblujRXUQw', '달려오는트럭 쿵': 'ZVhwIjLF1lWIkkVwXh0DX4uUUuiA992cH0Nw4YqQzQLvkRs', 'Ant of Atreus': 'EVRrGFqb7piAhu6mTPzEO6cTuN4ZvV_q9To33UM4pMfdGgo', 'can see u': 'tHsFcSxLl8jEylm8ETOUjphtHB7afKLKjSGVD9zFAr17eKs', 'play rakan i afk': '9DimV4lD0KZM8Tj49Y_MNZLyMRedjzyxOVeBjPw9Sz1bV-g', 'daye 어려운': 'HmofrSTkzcChi1X9YvMWEY42YjmXnPCJvX6Pf-ChwWaunu0', 'YOTUBE깐굴': 'WRBBvYPS7_91uYlyJvhckhq6owB78b2UBQZCJmPEXw5QZcg', '나는 돈이 좋아': 'M7eYHKrMRFXzNQOvU9Y-py7FlUGw0UtjfDVBxVtRxAtN4BA', '헴 오': 'o1pkzwovLsucURWFhW0Ra3TJjRiGsmj1EqcWil6uCwsKG64', 'Temco 300원기원 ': 'Yc-6xDbUB4fIliTWk0q0gyMbtURQxY6ky2V1O2lhMQrtoLQ', '이변은 없었다': 'G8FVmHDol-6uQL1c5ZJkEFgVY_0AMGHdK-OXKT77Wnk-hmE', '칠리즈1불기원': 'ADIL0rgZSaWh4J9MdCHVYRGeafVw8AAF2hwMW-L51I0b0Q', '창모보다갱잘부름': 'FC_Kc15IzHG8jwfvNbBexNoCr5a48UEYKpgdESP6D3Saaw', '한번도안해본게임': 'IoKK04cOWWdoy_dneO8jTHvrjBd3ZgWl9fKPZeBvsJeNp8Q', '올힘 물리 카사딘': 'tgE-98QjTmCWzewy5aYVNERvk7xLbMvERIGI9JeuxPEpwA', '랑이솔': 'c2ctnDGJrpPAp9ExbmUCoF4oWqtPpTR9SMC4EA_6ycQ5wYc', '나의한수': 'fv6T5AzBGfcToQ7lHC-McdNk1KJ4DDfbaV9qEp0LSvA1kYg', '내탐켄치는좀달라': 'o_b45hLJCpVRKFMh6XaPfAoYAM89y7N3abAzCRS-d50p27s', '고독한괴물': '4w0BctLYyelN4u0aaL3zyDUdZ8H23Cqpx_4KQkq2hEMT-zs', 'cleft': 'jzb2f_JZFpU9sakucidDoualt3WvDWFwJihN95a7QNUkDg', 'Carrot': 'G3VC-IDJrocR2L72V9L2xVd-FNkmifAghhI2gnBgmF0aAXE', '클템먹고싶어': 'f-IH1gS2oj5ZxaTUuXw-kNtx89CWhsOkgF1Rr1Q0krepjtE', '한요한 반복': '9oX845ZF1D98lyEqbqGFB9ViEg10xgIC_M7cZ2UIzscmQA', 'Greatness top': '2aPFRJgni-COTLkevUg5Bk_7-htrqptV3s62b4agqQsfuxk', 'My red light': 'UsFe2WG18RsBwnSn7cUhpHvi0kA8m03DoTsQItgwdWjbqDs', '배화교': 'vzRNs0ij6Ct86eHQXM0WTEBAsUiqJQg8wlwdrERdKs_G9Q', '사리기싫어1': 'f7tM-7PytVub5K1_mEcJ5Md_gxaZrGs566896HcTw4WitEA', 'TW KR': 'PTiK-H40IBeFo7R33ui8SgRmsoyP1e5jQz-6UwbbkMOdXpA', 'lIIIllIIllIlI': 'PmjmM5EjCbWj0ERBG3Y1eWiLSSwFafOuZY4-wJndyrmnYr4', 'HOR0': 'CpigXfTfvIKGIDsi1Hqc1fc2OrzVHJpA1VkBoCYTOXCSZbE', 'BIackd': 'PZrT6z00j3Yk-KwST1aeEJaq0DaGEYkIjrffbRXLk-eEKnk', '인성 성격 훈훈': '5NwulvX5CYb7uRrMO0x1wyo-QAIi9o-NG6xuUEb8Wx7IPPQ', '01 Teddyy': 'G-uCzOs-p0DzG2K4ZWmOIUTtMvYm6Km_PeUV1r7QrU9j1Ko', '신종팔': 'l8LfEWs2R4FsjCdi-5HeY3yxZzkCez0PCKvZy0QV9YJeDQ', '악질리거누': 'AQo-Y6unGSgVZa_21R9zOIHKujq6pi2jwjKUvQCUfZ1vhA', '정신병말기야스오': 'zcC5dVTfuRhnPuM_A80kpHyQJcNqtcax7QWSi5QZpvbo6Q', 'ParadoX Prof': 'XqyAg2e9EPcDlZ5kJ8cgYJRYf3S9MzJ6sBjmlG5CIRv30A', '2005MIDKING': 'otAe60yHb-sNmwLY9a5m6aBNChEJsFAGYCFoXeo6eYT70LA', 'wowns2': 'R0m-Pu-YbvLuPzVaLI2O5yYgJ5V0_wqPrImMd6QL-TgzOC8', '둥두리당당': 'YJEtIorvVCkdG999mVRHzvhpnMVA1kLbUBO0fXZZf1fdJz4', '승희 티비': 'HGhl3VR-4M1-0C6oxrf6YwN6-CotxTAjGzHMQZD96iHM8hw', '강제종': 'WTjFZJfRk10dcauhJEOG1e6Ul3p4EKoFYicqEeOeuHbYb20', 'Viinkell': 'CsgVqnV7PB1B9JWB2E8P-LICaqtxKNZbysUIno1zVZ4wKAg', '니째앰': 'AMcrKrt_AKFvI-UdHgWvWX__4loTYTz7SiSoeFQ-8CAaNxU', 'xiaoye': 'qiyLaEFwC3XA6Bt9DzDzphHfAKjXYRjwlpxwAM83-oOLbTg', '이구역딜량일등': 'Ct2rbZXZ6Enf6lAC1tWFNXZVKQkjhg-DNuhw3Rb82U5kTqY', '적 토': 'Pm3dzE3MxbwjwEMsxDCw4yCHramzJZTKV5crKpKAb2D44Ds', 'Childhood Dream': 'ki5YERChY719ajExgl8CbuNgnJhlm-WpkWAMYFoPpSiMk1M', 'Gen G Kr1s': 'yJOmpCzY2CNjYu6ekftdBjOiLhu1il6f9jXWi6E8MXTP03M', 'boosted': 'eZb8riqM_TxLDA7XKxc5-ayyyDvb9SaRyoGPlAvhKNTIde0', 'rayydayy': '8nJEDB_iMyIK0BsMcDpedVBpboDxA4xR2YY5Y_ERQk8wqdU', 'poteusa fan': 'E74z3Dv9eHcl36-IXEvMVnVaoeAAv-OJ-we92G76KSpGUsY', '시즌마지막날미안': 'PBQhmAFQ7ikI5grHofbc2B6z2T4kZbdy83SeaIV_wgLhQQs', 'Design Studio': 'JdLNvb5ih14d2se-Up1_bvw6tbaPepXxSONrEdWe9MEnO1E', '꼬우면와서말해': 'ykofQhRKZnlT0QyxEEZvqTlmHmtC3T1AlykTguo0IJs0kJU', '돌고래가돌면돌핀': 'Vbp1Se0l39wRmRkxxHxC1qbAoJ4D7w6GtCN3Rc_GhDnn_LE', 'Far the stars': 'vg5n8HZvZobhoJkSUwILq3a7vzJ3u9xIGafTLEzRqSCas6Y', '04 vendi': 'CMCHQyQYKRJccmBAbhkjOonDUXoIdhBsKoojCMuzcki0ccA', '드래곤주먹지대호': 'VkmmoOum7D1z6oQ5BiB3GnKQ-hrKBN1W0ljmq-b6c9bbwy4', 'Heru821': 'CqYrJI8XlzyMLlJliPUuh51TZkYlu8f0HY1Uf1MH2vXpLGk', 'Lan se dahai': 'u55lmj0-JrGJ5GbfxpVNeetvDCFofjXRC70W9lPQ2PBs4Q0', '홍명보겸 fan': 'xeyNczYed6aoNaoAPjVulswMqaD-x5v3dGLCg1z1CZ1Uyt4', 'gksrp': '7F2kcc0-wayfLCJSr2z7AQTX4WlDBz_nka0gZ-urz7fQ04Q', 'SOkoNYUN20': 'ILU42AJoDvN1HduAGdLRz9voA2RBbloomqqTExiqWHgm0MY', 'chen wu fan lan': 'rmX_yq8x9USJSL1STSbXaLZhaav2McbmmHZR_xHL8dt48IY', 'th피드': '6j-MpCFva8uw8F_ayajo-735RvzENnocFERLp0KYiAsj5g', '빛 탑': 'FSeRZw4IpjoQ6tK-xxgFE_tH9TLH1dewM5KBoShQMc1Yo0g', 'OTZL': 'OlG5MPu5qG-wtfA-GKVQiunDGjTrVqmb_DvM7NCFQbvkNZ0', '포항사는 진재승': 'QExFkVGeiorzT5XmJUEGDQ32vF33llgrvtjUgw0_UlJffFE', 'Balboa': 'jX904QpXnXAg5-nv6UNYoSNQNC_Mwny7Ljx482x2N9HQd3k', '난 잘수 없다': 'FkvqMjxKEpEWALRSVstkEhv_c1ew1nnYvSRdt7_ltWXYleU', '한셀 2022': 'UgYRIy4cu-Qb4WqMO0RhMRe-cBoY9vk9Ch9_JihcCoeiEw', '너드캣': 'MYHkqQisj1c3BrzDAKRt18tvd4QpatndoPp42L9NINn026k', '정국 오빠 fan': 'ZRrMfkQBExdSfPCskAd34QmNAnQ83tb-TxWgCumZP-3BtYI', '뿌요는 못말려': 'wxXWj2tulW68ncv15HZNdAI867MrkWLMDPlmDraPJpzno7Q', '마가도': 'j2tAUrsWhtEiwL3AS7OmboYJ1MIY1deSdMXh2WuxEOB2KO8', 'CHADDADDA': 'CyfoY4txSXcJbBHxIDJrLZrGcXVTjyDK7kb80yjjlyVJGlM', 'aegis424': '_z6krB2FairyO6cDCzVLchcfMFBVoBlqKMBtNwQcbXZ-9lw', '민배인': 'C03Sa3D4w6r6fAJJR7IrdZIsbYX4c-Rk-fsXEb39cBDkbQM', 'Peach': 'T4_vLswP5dUFPXIrB-lcz_IKAWu_qTl8zAAaapeG3Q9SZUU', '백정 그것이 나다': 'vVAGYHDQPInRgyKxB-pfCCJTDm-698oMumFC7t5_dswDMsA', '탑 안보면 던진다': 'r74Mc-Iakfet0ejTZabyPZkSQ0msqzYKhOL_jAEMY9_8QxE', 'T0P GAME': 'MHgzJWY6AIBhcAfW9FegoAgjzLntD_vIt87LciNG7m1fiOw', 'lad1t': 'E5eEfjLXhuQsz8hHu52OaY6GFSI9A7eLDbZVMRAENnXpHL4', '불꽃성훈': 'kAzP1P4OaWy9Cv_oS-tPTkgy8_5HUlLNMOC64lxI4Ovo1Mw', '헌  언': 'DWYnG7xhj7MzTfGHwTtLKX4_KC_HGEiFuLKw3gAhTsBfbqw', 'wdbyzmw': '8YQRKzt74Pvjw6jQFnxRuoNadVbFIwpBsYtAmqzECRzlpXY', '오늘따라 보고싶어서 그래': '6Uz5i7zjbrCISW-Mar96Eyx-dqgqFHXlz3y-efjwZbqQVy4', '아니진짜엄준식이사람이름이라고': 'qNdK3dnyDOfMrtR8Sd_2g0cjqcQRad73GP81ERcDu938zoU', '아가맹수은규': 'KluGOSnhxHuRpc2MN0k8VApsfZWU_5k89a8M9oTww1fX_dc', '블 가': 'naCuF2zSTbuLe9mapPvUWl0SipE_5ZXleEePfGwupQoiANU', '춥하춥스': 'pwUfIJ8jPnBfYoKz3qnWy8xyZv9KFWRNc3y8hiCftrwhcro', '솔직히펩시맛있음': 'N-SevOqEkUrMW6jf0MhBZzprrD__pUAVt80SN2lNeaaL68M', 'AfreecaTV 케석대': 'UqACW98j_cbqE3tWxLHFe_LtNn63X2LcHdGQLDa4_yJgR4Y', '마베찡': '-PZMHl5qP63yE1FtA5sIoms8BmpmFWIYSP5GR06Qr-lA_6w', '녹차맛 자크': 'MNaavh3uua1_Ih_U5z_UACuFif88xhB3NzpXYhPAw3Sdmg', '이준우똥받이 퉤': '9arQzMC0eveLXE54Mpo5vOd6Bw4rhTIljwQbFhK1nYmWBt8', '귀욥고 소중해': 'SEQaaQswJraGM8HwKgQoxn4StADTFiySqYxciTddhN0MQg', '챌까지미드마오함': 'us8e2WL3d92dfqOTxeS6tZK5lGKNLdhHQdEW9nrFqSXpzw', '최고를 향해': 'Y4tT35NtWr6FSMS9WG_MG_pvocqoEez0qQp4Cki31HTyuvg', '165201300deI': '-lOBb_MytjNi1TpVw68lGcLzy6WV2TJmFL6kgRwbiGBGQxY', 'IIIIlIlIIllIIII': '9yHH2yPo7nrQyR752atZaUSCcqIoJwOxPu3dsCpPDnALScU', '고민해봄': 'Ox61nu7o4DUUm2cFu5pCMMnI3VSR94Gr7ogO8dw8QXrfiiQ', '토닥익': 'W5_vTFS4eJGS4UN-8_nURsZU3w3FybUyb3bP7yRAWTbqOLQ', '카서스상향좀': 'w1lZtdNVZOxF2d_fADnbxr18KmpPGq5ME0g44nCjmFDt6A', '가장현': 'rpZFMmphxxkFrjxaJp8GkaUyZuQIo-U3IySsCswvMsVjBp8', '칼과 망치 바위': '14928rU5s0nmCKCqRhDASjtHvsAo7Q1kigFozTQ7r3Q3RA', '27살 박용현': 'kovkiuzn5djyw5tLP78vzWTOoUC1zVras98WdPvKrUNAy7M', '렌트카': '8U8IDYkNWCNBiey8vp9AkZsUmBSTZ8IIWqTHjQDHUo2R6Q', '달콤가득 공주님': '0Kz_57w5Sn_pSPss1pSz_AFJfO7ZHCslW8hYiZNHww9WO-g', 'RozenP': '5TvC9AfSXm35dPq1OZ4DqpOAc3j9F82yJeIm6bwyYdP0HBw', '으 끙': 'JLKn_8lj3BkM5x_Zdjvyzr0Ubow0cF_1OXFWLFH153tUE34'}\n"
     ]
    }
   ],
   "source": [
    "import requests\n",
    "import json\n",
    "import time\n",
    "import pprint\n",
    "import pandas as pd\n",
    "from tqdm import tqdm\n",
    "pp = pprint.PrettyPrinter(indent=4)\n",
    "request_header = {\n",
    "                    \"User-Agent\": \"Mozilla/5.0 (Windows NT 10.0; Win64; x64) AppleWebKit/537.36 (KHTML, like Gecko) Chrome/91.0.4472.164 Safari/537.36\",\n",
    "                    \"Accept-Language\": \"ko,en-US;q=0.9,en;q=0.8,es;q=0.7\",\n",
    "                    \"Accept-Charset\": \"application/x-www-form-urlencoded; charset=UTF-8\",\n",
    "                    \"Origin\": \"https://developer.riotgames.com\",\n",
    "                    \"X-Riot-Token\": 'RGAPI-55811a54-c60b-4c9d-a490-0cfab529c7b3'\n",
    "                }\n",
    "api_key = 'RGAPI-55811a54-c60b-4c9d-a490-0cfab529c7b3'\n",
    "\n",
    "#제공받은 라이브러리키 입력\n",
    "summonerId = {}\n",
    "num = 0\n",
    "\n",
    "## 소환사의 ID수집\n",
    "\n",
    "for i in range(1,5):\n",
    "    for b in range(1,20):\n",
    "        if i == 1 :\n",
    "            i = 'I'\n",
    "        elif i == 2 :\n",
    "            i = 'II'\n",
    "        elif i == 3 :\n",
    "            i = 'III'\n",
    "        elif i == 4:\n",
    "            i = 'IV'\n",
    "        b = str(b)\n",
    "        url = 'https://kr.api.riotgames.com/lol/league/v4/entries/RANKED_SOLO_5x5/DIAMOND/'+ i + '?page=' + b\n",
    "\n",
    "        r = requests.get(url, headers=request_header).json()\n",
    "\n",
    "        for a in range(len(r)):\n",
    "            summonerId[r[a]['summonerName']] = r[a]['summonerId']\n",
    "            num += 1\n",
    "\n",
    "print(num)\n",
    "print(summonerId)"
   ]
  },
  {
   "cell_type": "code",
   "execution_count": null,
   "id": "51172dd6",
   "metadata": {},
   "outputs": [
    {
     "name": "stderr",
     "output_type": "stream",
     "text": [
      "  0%|                                                                                 | 1/3118 [00:00<13:02,  3.99it/s]"
     ]
    },
    {
     "name": "stdout",
     "output_type": "stream",
     "text": [
      "RhneVmFbKqThO9qhNKs3st0MNwWlI7RCny_9QNyJK9Hnsza3TVxLFlxAQXDzu1lIMUVmbutK0iL2DA\n"
     ]
    },
    {
     "name": "stderr",
     "output_type": "stream",
     "text": [
      "  0%|                                                                                 | 2/3118 [00:00<25:44,  2.02it/s]"
     ]
    },
    {
     "name": "stdout",
     "output_type": "stream",
     "text": [
      "z67XecHdgV-joFssN_bs54EUMNdq-wi0ZW8sLXWl5cORCiBrTW-ki8npNE7Iviy-LkT_AJN7K8Q3Hw\n"
     ]
    },
    {
     "name": "stderr",
     "output_type": "stream",
     "text": [
      "  0%|                                                                                 | 3/3118 [00:01<26:23,  1.97it/s]"
     ]
    },
    {
     "name": "stdout",
     "output_type": "stream",
     "text": [
      "K963tXNuyn0_yjbWyjsHsj5jbujW3zZBJEsSVCnpgs9gYNNIG0ZqEU_s6EuL2BZWnu71dWdepcpXUg\n"
     ]
    },
    {
     "name": "stderr",
     "output_type": "stream",
     "text": [
      "  0%|                                                                                 | 4/3118 [00:01<21:07,  2.46it/s]"
     ]
    },
    {
     "name": "stdout",
     "output_type": "stream",
     "text": [
      "GyZm1fT8vnSgs-GMwt6jGJ0aH8Cq_A8r3qqCeaNzSTYUPtIBoNn-C8Vm_6vDbAb6gdBFzWfM8wXuuw\n"
     ]
    },
    {
     "name": "stderr",
     "output_type": "stream",
     "text": [
      "  0%|▏                                                                                | 5/3118 [00:01<18:53,  2.75it/s]"
     ]
    },
    {
     "name": "stdout",
     "output_type": "stream",
     "text": [
      "R4dkfE-eafgO_aW-yXZpFI97cTeeVWbUTrhN0MHZABskSpEnziXITctROcyXdohbIdogtp8KrfMqzg\n"
     ]
    },
    {
     "name": "stderr",
     "output_type": "stream",
     "text": [
      "  0%|▏                                                                                | 6/3118 [00:02<29:55,  1.73it/s]"
     ]
    },
    {
     "name": "stdout",
     "output_type": "stream",
     "text": [
      "YAgjTeUw_byn0N8fhn0kdI1A2y9HOBskstBVGv5z-RZykyQxpAh7-SrpgX1H_uA8_cW57rNb6gw70Q\n"
     ]
    },
    {
     "name": "stderr",
     "output_type": "stream",
     "text": [
      "  0%|▏                                                                                | 7/3118 [00:03<27:45,  1.87it/s]"
     ]
    },
    {
     "name": "stdout",
     "output_type": "stream",
     "text": [
      "nEmU1zaB1mz46-2uOVGBHbxLMMt8C_ueU2va51PNTEGpRtBZYbiViCLFxHKsPYPL4qkCktztrmNoEA\n"
     ]
    },
    {
     "name": "stderr",
     "output_type": "stream",
     "text": [
      "  0%|▏                                                                                | 8/3118 [00:03<23:16,  2.23it/s]"
     ]
    },
    {
     "name": "stdout",
     "output_type": "stream",
     "text": [
      "ZkC0awoaD5t4MBmBBg493AKkjyOrGkKxaNxBh4VuoMLcVd7bIw2s0X2_VJLUYKKcA-z1Zrk-LcorVg\n"
     ]
    },
    {
     "name": "stderr",
     "output_type": "stream",
     "text": [
      "  0%|▏                                                                                | 9/3118 [00:03<20:37,  2.51it/s]"
     ]
    },
    {
     "name": "stdout",
     "output_type": "stream",
     "text": [
      "Bo2fSKTuem959u2WKvprdYwMzNCg-HkJdx_tXaS4u97pAfK_52DMYxvxPb_c2TOP5NqTTAOKSROjUQ\n"
     ]
    },
    {
     "name": "stderr",
     "output_type": "stream",
     "text": [
      "  0%|▎                                                                               | 10/3118 [00:04<18:21,  2.82it/s]"
     ]
    },
    {
     "name": "stdout",
     "output_type": "stream",
     "text": [
      "BTJlvX-z_TGFOIkD-3VjUG3YpOJohC-5AHOzefkMKyFRRKxJr8X9IAeyvqNBFkfwTlKIzwknRRbMHg\n"
     ]
    },
    {
     "name": "stderr",
     "output_type": "stream",
     "text": [
      "  0%|▎                                                                               | 11/3118 [00:04<16:38,  3.11it/s]"
     ]
    },
    {
     "name": "stdout",
     "output_type": "stream",
     "text": [
      "cyCkZkIDFc-DruDqAB6D5BYfr4j6sUII1ZJRi9PFVLQAKU9JcmH-sBTptvEi5s9xgsfsJAnuOrXySw\n"
     ]
    },
    {
     "name": "stderr",
     "output_type": "stream",
     "text": [
      "  0%|▎                                                                               | 12/3118 [00:04<15:39,  3.30it/s]"
     ]
    },
    {
     "name": "stdout",
     "output_type": "stream",
     "text": [
      "ucKOBu4AShQvTT537bZzJYKGCmhfoVupef4us0kXIyYhGkUqTFv0FC-_GWEo9R-XbuWwRatge5UFaw\n",
      "api cost full : infinite loop start\n",
      "loop location :  CDIRST9rPa0krNn3AGZIlWo-sxaAYTemLmSRVpb6mNne4eFp\n",
      "try 10 second wait time\n",
      "429\n",
      "try 10 second wait time\n",
      "429\n",
      "try 10 second wait time\n",
      "429\n",
      "try 10 second wait time\n",
      "429\n",
      "try 10 second wait time\n"
     ]
    },
    {
     "name": "stderr",
     "output_type": "stream",
     "text": [
      "  0%|▎                                                                            | 13/3118 [00:56<13:42:22, 15.89s/it]"
     ]
    },
    {
     "name": "stdout",
     "output_type": "stream",
     "text": [
      "200\n",
      "total wait time :  51.55155944824219\n",
      "recovery api cost\n",
      "h4aurDxPZqrCOx7jKItnGosHIzz25O1ssP24Au6r1t0-GGoIVbAlE6w-uAMClGq3121zldCNPLtC3g\n"
     ]
    },
    {
     "name": "stderr",
     "output_type": "stream",
     "text": [
      "  0%|▎                                                                             | 14/3118 [00:56<9:37:44, 11.17s/it]"
     ]
    },
    {
     "name": "stdout",
     "output_type": "stream",
     "text": [
      "PhzOEsI7jQNlS5M4KPo5T0eEidWy8E_Eso0sQadLyRb5IRnR35Nwuu8SvIImdRepaMS-iQMvIFRBKQ\n"
     ]
    },
    {
     "name": "stderr",
     "output_type": "stream",
     "text": [
      "  0%|▍                                                                             | 15/3118 [00:57<6:48:25,  7.90s/it]"
     ]
    },
    {
     "name": "stdout",
     "output_type": "stream",
     "text": [
      "hfFEA4PekUJxBU_L2lKF1_-0-HH2UkdWOoj40Mi5lI9mSjt_X-MIor9l_JjdtMExqBo_7bcumpu56A\n"
     ]
    },
    {
     "name": "stderr",
     "output_type": "stream",
     "text": [
      "  1%|▍                                                                             | 16/3118 [00:57<4:54:57,  5.71s/it]"
     ]
    },
    {
     "name": "stdout",
     "output_type": "stream",
     "text": [
      "YNEt4jLf88zu8bXJsqY3y948oRdNhkEG1rc7VJVl0tgZ7fzsAUzKsGTFlBQHWw5YOzyrtHZPCb3d9w\n"
     ]
    },
    {
     "name": "stderr",
     "output_type": "stream",
     "text": [
      "  1%|▍                                                                             | 17/3118 [00:57<3:30:06,  4.07s/it]"
     ]
    },
    {
     "name": "stdout",
     "output_type": "stream",
     "text": [
      "uPR92dRSPOmySUNKCnUbGnL0LDob-iZ6CI7qLGA-AjLuVJnMIi98ikWxRvsH4o7s83j55aU1f5nxhw\n"
     ]
    },
    {
     "name": "stderr",
     "output_type": "stream",
     "text": [
      "  1%|▍                                                                             | 18/3118 [00:58<2:30:48,  2.92s/it]"
     ]
    },
    {
     "name": "stdout",
     "output_type": "stream",
     "text": [
      "NKAWiQVcN1-iBtWCUNV76K5K7BEP30B56fcPF7qor6uQFR_3UGO9rOqioSZgtLwgsbycDr3LejDABw\n"
     ]
    },
    {
     "name": "stderr",
     "output_type": "stream",
     "text": [
      "  1%|▍                                                                             | 19/3118 [00:58<1:49:39,  2.12s/it]"
     ]
    },
    {
     "name": "stdout",
     "output_type": "stream",
     "text": [
      "7r0T_fCqkHhdLod5K3F1MKei26NFJ5D4WsaYGPJI49JBlONBumEKYoRDIm0o2S3UfFqbFSOIW96PEw\n"
     ]
    },
    {
     "name": "stderr",
     "output_type": "stream",
     "text": [
      "  1%|▌                                                                             | 20/3118 [00:58<1:22:55,  1.61s/it]"
     ]
    },
    {
     "name": "stdout",
     "output_type": "stream",
     "text": [
      "InrgVTTcMIoedHpupNn8jjvMluoF9G4qD0vtdMp6b0k71sbBTQ2FwJUgzAxkVZNzoTiFDCw1OLJupA\n"
     ]
    },
    {
     "name": "stderr",
     "output_type": "stream",
     "text": [
      "  1%|▌                                                                             | 21/3118 [00:59<1:02:27,  1.21s/it]"
     ]
    },
    {
     "name": "stdout",
     "output_type": "stream",
     "text": [
      "fm0uS_L11fU6XsufpY5c9ikac9BUdKUm7hX5K892U1XzHhJzTWX9c_-5DcWrBKnfY7ngqBNJG_6tIw\n"
     ]
    },
    {
     "name": "stderr",
     "output_type": "stream",
     "text": [
      "  1%|▌                                                                               | 22/3118 [00:59<48:14,  1.07it/s]"
     ]
    },
    {
     "name": "stdout",
     "output_type": "stream",
     "text": [
      "whRW-FoG7O5IY6yaJxMhchHMeigTHuezwCvCgjm94ruackpj23C5fyTVwmDNhG-eoqRITMg6-qDmPQ\n"
     ]
    },
    {
     "name": "stderr",
     "output_type": "stream",
     "text": [
      "  1%|▌                                                                               | 23/3118 [00:59<37:54,  1.36it/s]"
     ]
    },
    {
     "name": "stdout",
     "output_type": "stream",
     "text": [
      "E9g_qLNPZvUl1YKil_Dqa4KZgWi9KsthxBJNnixd-NhNjwnc5BvGfcpY3N1USv91dB40sDwUydE6Xw\n"
     ]
    },
    {
     "name": "stderr",
     "output_type": "stream",
     "text": [
      "  1%|▌                                                                               | 24/3118 [01:00<32:51,  1.57it/s]"
     ]
    },
    {
     "name": "stdout",
     "output_type": "stream",
     "text": [
      "zeBtR-f5IAlw7qGTtg-AsWyXQ-06ry5zmXzw7BgelqVXc6AI8_gtZlMTx6huu3JBsQ6jozVf8CAFsw\n"
     ]
    },
    {
     "name": "stderr",
     "output_type": "stream",
     "text": [
      "  1%|▋                                                                               | 25/3118 [01:00<27:25,  1.88it/s]"
     ]
    },
    {
     "name": "stdout",
     "output_type": "stream",
     "text": [
      "jAdGoVTFZxp0p5ZeWG5F6luVlknKJQBXL4o4ikFQbSY_dhs88Lg8rjocq2IeuY1EJDoG3STtpEm9cg\n"
     ]
    },
    {
     "name": "stderr",
     "output_type": "stream",
     "text": [
      "  1%|▋                                                                               | 26/3118 [01:00<23:20,  2.21it/s]"
     ]
    },
    {
     "name": "stdout",
     "output_type": "stream",
     "text": [
      "lB9m0DGCaBe_gHNtDztXYVGXL5G-Owm65WdZo-KTub8y1xYlFhmmDpbdB_W1uweIC0ggv-o7_39grQ\n"
     ]
    },
    {
     "name": "stderr",
     "output_type": "stream",
     "text": [
      "  1%|▋                                                                               | 27/3118 [01:00<20:04,  2.57it/s]"
     ]
    },
    {
     "name": "stdout",
     "output_type": "stream",
     "text": [
      "Vb2r8DX1TXUMwgfpC3PYNsxgjr-oOT0IpPdkzSWGivGAXdzYTrcApPZ5SQ6wJFfhWX8fyHcO73MQFA\n"
     ]
    },
    {
     "name": "stderr",
     "output_type": "stream",
     "text": [
      "  1%|▋                                                                               | 28/3118 [01:01<17:49,  2.89it/s]"
     ]
    },
    {
     "name": "stdout",
     "output_type": "stream",
     "text": [
      "xJKYESrxCrWqQCFjOJHNYGqECKPyd_Y6D5vY5DlyOfG7jxgTqO_CrHxa3dICCgwfjSM7gGA1_HErrQ\n"
     ]
    },
    {
     "name": "stderr",
     "output_type": "stream",
     "text": [
      "  1%|▋                                                                               | 29/3118 [01:01<18:46,  2.74it/s]"
     ]
    },
    {
     "name": "stdout",
     "output_type": "stream",
     "text": [
      "KDHdh_hPAQESOaSTJfAL1TU87wyRgIvf_TbdQfjYkbycTOgUpv_ARTRyhT0Io0CV-S9J6aN-bZJd9A\n"
     ]
    },
    {
     "name": "stderr",
     "output_type": "stream",
     "text": [
      "  1%|▊                                                                               | 30/3118 [01:02<20:29,  2.51it/s]"
     ]
    },
    {
     "name": "stdout",
     "output_type": "stream",
     "text": [
      "FDKkVSEjcVDiwfyhichJblc-HVgHTTbaa5NpBQuxLmBtmTDuqcd25fMY9SNDUGU00p5zKg3Foc0SHw\n"
     ]
    },
    {
     "name": "stderr",
     "output_type": "stream",
     "text": [
      "  1%|▊                                                                               | 31/3118 [01:02<18:15,  2.82it/s]"
     ]
    },
    {
     "name": "stdout",
     "output_type": "stream",
     "text": [
      "OwqF0tefe-v41PBZk5lPk26iTqukh7U5vvvkarxMF9HztSdH7KxNqRE2HSrrpJX3NECCHu_uLfK_qA\n"
     ]
    },
    {
     "name": "stderr",
     "output_type": "stream",
     "text": [
      "  1%|▊                                                                               | 32/3118 [01:02<16:37,  3.09it/s]"
     ]
    },
    {
     "name": "stdout",
     "output_type": "stream",
     "text": [
      "E8N5EFPXHKSWHrSsFKMhZgOmohhXmKPQMmEJXAqc2q3Zj8Pb5EoX_VigX8pbbhbYCc11Et55OSKF9w\n"
     ]
    },
    {
     "name": "stderr",
     "output_type": "stream",
     "text": [
      "  1%|▊                                                                               | 33/3118 [01:02<17:07,  3.00it/s]"
     ]
    },
    {
     "name": "stdout",
     "output_type": "stream",
     "text": [
      "EYUEN1opMShDmizG3ipMyskxvjvnfczuVKaRvR8NGJ1S0bCmslbC3laLQPhaWFzIWhgTRkZqaygB9Q\n"
     ]
    },
    {
     "name": "stderr",
     "output_type": "stream",
     "text": [
      "  1%|▊                                                                               | 34/3118 [01:03<16:03,  3.20it/s]"
     ]
    },
    {
     "name": "stdout",
     "output_type": "stream",
     "text": [
      "_Hoys5NVt3_SXwAoZhyIZHNhNmJCgpeJGHBV3j0IlTp5iHGnTeeVTZyLkSQxy6MrNibOgLFw4mzORQ\n"
     ]
    },
    {
     "name": "stderr",
     "output_type": "stream",
     "text": [
      "  1%|▉                                                                               | 35/3118 [01:03<17:04,  3.01it/s]"
     ]
    },
    {
     "name": "stdout",
     "output_type": "stream",
     "text": [
      "6DxABsE8NtGkEzx68tMXc0SePRf3f_W4sgqFgSNztfl-m4z_Dl0lys-jdNSldNIm4dF_s8oGRlbRQA\n"
     ]
    },
    {
     "name": "stderr",
     "output_type": "stream",
     "text": [
      "  1%|▉                                                                               | 36/3118 [01:04<19:31,  2.63it/s]"
     ]
    },
    {
     "name": "stdout",
     "output_type": "stream",
     "text": [
      "KnH5JVZirxyaQkpc5Hbk0RYioWJe_eqoPpYfwIJbuoCTT328tpRMuvaPcQ5CorYYWkQPaj7QgcLbFQ\n"
     ]
    },
    {
     "name": "stderr",
     "output_type": "stream",
     "text": [
      "  1%|▉                                                                               | 37/3118 [01:04<17:28,  2.94it/s]"
     ]
    },
    {
     "name": "stdout",
     "output_type": "stream",
     "text": [
      "zovxdldXt-pUpaxUzrOe7Ch5dk8muvlaB-5Wrms5XVuS15WffIMG9ATvFbBr6T4DpFFr53Ik3fnLIA\n"
     ]
    },
    {
     "name": "stderr",
     "output_type": "stream",
     "text": [
      "  1%|▉                                                                               | 38/3118 [01:04<15:51,  3.24it/s]"
     ]
    },
    {
     "name": "stdout",
     "output_type": "stream",
     "text": [
      "LlqOFYzIEvIa3PHhasBdKeKU7B0aRvaUmiUyIHmvEV_3OFm4s5JROl9uFqz7RwF2kzP7mPt0KHFt_A\n"
     ]
    },
    {
     "name": "stderr",
     "output_type": "stream",
     "text": [
      "  1%|█                                                                               | 39/3118 [01:04<14:58,  3.43it/s]"
     ]
    },
    {
     "name": "stdout",
     "output_type": "stream",
     "text": [
      "e4koCi7SSDFK341-VNkFzpGrDGWNjZ8lu-6Mu_UOtmDgBi4RZxYMc38SQGootxW3QNn6GyM-HJm6zw\n"
     ]
    },
    {
     "name": "stderr",
     "output_type": "stream",
     "text": [
      "  1%|█                                                                               | 40/3118 [01:05<16:37,  3.09it/s]"
     ]
    },
    {
     "name": "stdout",
     "output_type": "stream",
     "text": [
      "SzE5uTW5vLjpZPPdd2OqMlMqA8qBdssXYwzU9LI_Sm-J62siQofOhimqZesYg3M6Xa-Sq_wU13i6cw\n"
     ]
    },
    {
     "name": "stderr",
     "output_type": "stream",
     "text": [
      "  1%|█                                                                               | 41/3118 [01:05<16:53,  3.04it/s]"
     ]
    },
    {
     "name": "stdout",
     "output_type": "stream",
     "text": [
      "tW0duwI04j_2rb1FHn1dlxD0VtB8OcuGsWVnGJOm6v1KmzTIlk6N5qdGg6ui5KHPeZSEYo-hOJusbw\n"
     ]
    },
    {
     "name": "stderr",
     "output_type": "stream",
     "text": [
      "  1%|█                                                                               | 42/3118 [01:05<15:54,  3.22it/s]"
     ]
    },
    {
     "name": "stdout",
     "output_type": "stream",
     "text": [
      "oeRoy1GRJLHeu9_Yb43Nq-2KlXsl1sdn6ET3MTZ9Zjxv0wFpJiN0fE7txxKimkK5lWm-A4_1OzrKxQ\n"
     ]
    },
    {
     "name": "stderr",
     "output_type": "stream",
     "text": [
      "  1%|█                                                                               | 43/3118 [01:06<15:49,  3.24it/s]"
     ]
    },
    {
     "name": "stdout",
     "output_type": "stream",
     "text": [
      "3PtZ2OZkOCS7x_6P8jp9WR5HcFGtRkqzBOu6ws22Bldvh_I7jI6ohtWQZFdzUnkjDOoMoUTgl-c5Wg\n"
     ]
    },
    {
     "name": "stderr",
     "output_type": "stream",
     "text": [
      "  1%|█▏                                                                              | 44/3118 [01:06<14:57,  3.42it/s]"
     ]
    },
    {
     "name": "stdout",
     "output_type": "stream",
     "text": [
      "awsOUqlqr4X-bY8QvJRUn7AVo0qS2fxp42h6EzXsbbIQnmgQc15W1uWwzh073ABFdXG5CgLMjfPgrA\n"
     ]
    },
    {
     "name": "stderr",
     "output_type": "stream",
     "text": [
      "  1%|█▏                                                                              | 45/3118 [01:06<14:20,  3.57it/s]"
     ]
    },
    {
     "name": "stdout",
     "output_type": "stream",
     "text": [
      "X0cvhgQ224pg7M5ysWTuOxe-F33BnuBw_YxBAPL41-qXRG44WVoWIPJKPgGnkyfP0w3XEGunipURJQ\n"
     ]
    },
    {
     "name": "stderr",
     "output_type": "stream",
     "text": [
      "  1%|█▏                                                                              | 46/3118 [01:06<13:53,  3.69it/s]"
     ]
    },
    {
     "name": "stdout",
     "output_type": "stream",
     "text": [
      "mEtZD2AZQAem0qOZ1KmqTlzbp6ooqgp46j5cdFvIM-sghAXWdV8OfBdMVlc3sasoExBFlmptzzOnng\n"
     ]
    },
    {
     "name": "stderr",
     "output_type": "stream",
     "text": [
      "  2%|█▏                                                                              | 47/3118 [01:07<16:46,  3.05it/s]"
     ]
    },
    {
     "name": "stdout",
     "output_type": "stream",
     "text": [
      "XuA1h9UdibddOWh3HXpVNvLq5u_qA6boUh7keMJhOhkfD3rdID5DgfGx9rac5wLwaVoOyix4mzlPjA\n"
     ]
    },
    {
     "name": "stderr",
     "output_type": "stream",
     "text": [
      "  2%|█▏                                                                              | 48/3118 [01:07<17:49,  2.87it/s]"
     ]
    },
    {
     "name": "stdout",
     "output_type": "stream",
     "text": [
      "TlCYYi8NmBhQY-whqURneZcCryIloTQuzvVUO6YsxfRL-BC4lhd6XMZUCoD5CGpg4lZKePVYf6Saww\n"
     ]
    },
    {
     "name": "stderr",
     "output_type": "stream",
     "text": [
      "  2%|█▎                                                                              | 49/3118 [01:08<18:02,  2.83it/s]"
     ]
    },
    {
     "name": "stdout",
     "output_type": "stream",
     "text": [
      "ePBqgw3NhRxKS20maGUmJh3iOKuSJPRwFfBTTnN16GhFDqvJF6EQdpx9edMCKqCpWA25aK8VZ28hFw\n"
     ]
    },
    {
     "name": "stderr",
     "output_type": "stream",
     "text": [
      "  2%|█▎                                                                              | 50/3118 [01:08<23:15,  2.20it/s]"
     ]
    },
    {
     "name": "stdout",
     "output_type": "stream",
     "text": [
      "eT3qK-FdGIY7MZSHnSaLVtq48IYH8FqS3e-mCvx7-A8LXqlwvtATK5WCk0tIQvGyvbINJwcCbyR04w\n"
     ]
    },
    {
     "name": "stderr",
     "output_type": "stream",
     "text": [
      "  2%|█▎                                                                              | 51/3118 [01:09<21:07,  2.42it/s]"
     ]
    },
    {
     "name": "stdout",
     "output_type": "stream",
     "text": [
      "-N0rY1XEP9vmcPIa-4JzCu04PCGrnSM4eRtvdS-RBeYEd8e6EBUZs0wggI-chd_eqiOSNf5rVW2XDA\n"
     ]
    },
    {
     "name": "stderr",
     "output_type": "stream",
     "text": [
      "  2%|█▎                                                                              | 52/3118 [01:09<25:02,  2.04it/s]"
     ]
    },
    {
     "name": "stdout",
     "output_type": "stream",
     "text": [
      "BwNQMiE6JN0xQ53oKDABuw_7mY5PQIGLnyM8rq3hKkKQMPqKgr-weuF8V0zeE41Xfpl2oAE5z6xVyQ\n"
     ]
    },
    {
     "name": "stderr",
     "output_type": "stream",
     "text": [
      "  2%|█▎                                                                              | 53/3118 [01:10<21:42,  2.35it/s]"
     ]
    },
    {
     "name": "stdout",
     "output_type": "stream",
     "text": [
      "pNdy3dMJp8v-vwY-GE7JRN8YZv1E-xmqsBSdABynGuK5UZ3lrBDTZYc-VBAjkNUKdZgdNMIsXV3glQ\n"
     ]
    },
    {
     "name": "stderr",
     "output_type": "stream",
     "text": [
      "  2%|█▍                                                                              | 54/3118 [01:10<19:23,  2.63it/s]"
     ]
    },
    {
     "name": "stdout",
     "output_type": "stream",
     "text": [
      "0aViV6EZUd6ZTkVF96Gv_SPrkX4STy9uHXjH56uAPKwUfOrLuUoy6CYdhF_28fwtckZE3VqFy13CmQ\n"
     ]
    },
    {
     "name": "stderr",
     "output_type": "stream",
     "text": [
      "  2%|█▍                                                                              | 55/3118 [01:10<18:00,  2.83it/s]"
     ]
    },
    {
     "name": "stdout",
     "output_type": "stream",
     "text": [
      "pssyz3MkyDBwFawisES1jTse_MiifyyPWUF-XBdWj8wIX8yWemw1KLffyYdGuNwq9paqjhRmD0bFrg\n"
     ]
    },
    {
     "name": "stderr",
     "output_type": "stream",
     "text": [
      "  2%|█▍                                                                              | 56/3118 [01:10<16:59,  3.00it/s]"
     ]
    },
    {
     "name": "stdout",
     "output_type": "stream",
     "text": [
      "pjMDCRUpc2E3wtqYbU_38hr62YerLa6A3_JPhrbIUpZfRXbIpWX_to6jT-_EBb95OYdz9Oi4sWueLQ\n"
     ]
    },
    {
     "name": "stderr",
     "output_type": "stream",
     "text": [
      "  2%|█▍                                                                              | 57/3118 [01:11<16:07,  3.16it/s]"
     ]
    },
    {
     "name": "stdout",
     "output_type": "stream",
     "text": [
      "SMn6OXe1ryE_8GbM_U-PGZGygCKmx5Pvrpc8X8gHiw5_nhzndHyMZLxFdSR3Nwc6j9w_SdtgTs8A3w\n"
     ]
    },
    {
     "name": "stderr",
     "output_type": "stream",
     "text": [
      "  2%|█▍                                                                              | 58/3118 [01:11<15:54,  3.21it/s]"
     ]
    },
    {
     "name": "stdout",
     "output_type": "stream",
     "text": [
      "9ZLK81U4unrEP3E6k3RFV9x0FNkctFVMoWFy8pm69m7zTAIY7s90ARkee--ekergcmHIi1SOEohClA\n"
     ]
    },
    {
     "name": "stderr",
     "output_type": "stream",
     "text": [
      "  2%|█▌                                                                              | 59/3118 [01:11<15:17,  3.34it/s]"
     ]
    },
    {
     "name": "stdout",
     "output_type": "stream",
     "text": [
      "8uSwK5xysfr7UdfU7rYPA1SLpRTw52nGXI1chJ7pdzfZEsCcnNmRLiXI0qaTfXhGN4Vq9VnrEE_Xdw\n"
     ]
    },
    {
     "name": "stderr",
     "output_type": "stream",
     "text": [
      "  2%|█▌                                                                              | 60/3118 [01:11<14:54,  3.42it/s]"
     ]
    },
    {
     "name": "stdout",
     "output_type": "stream",
     "text": [
      "wIMXcQdW4goRw00KpJcT7uK-gBrpivuBG6M7PCXY8NmL9xK6ysidfHfJFaUV1X4DvqaewJr8h053CA\n"
     ]
    },
    {
     "name": "stderr",
     "output_type": "stream",
     "text": [
      "  2%|█▌                                                                              | 61/3118 [01:13<32:04,  1.59it/s]"
     ]
    },
    {
     "name": "stdout",
     "output_type": "stream",
     "text": [
      "y8RpEe_ealpt18Tnh7oKsY50jQKGKqDQiOTpPyeQvvu6WaPICeLu0FkflujPnWISpgVOTY1SmmgwZA\n"
     ]
    },
    {
     "name": "stderr",
     "output_type": "stream",
     "text": [
      "  2%|█▌                                                                              | 62/3118 [01:13<30:15,  1.68it/s]"
     ]
    },
    {
     "name": "stdout",
     "output_type": "stream",
     "text": [
      "l-6oP6PlvbmkNlRsdJjqi9xXBXNlAhPrXn90ZEBgEcm-JxNNKcYYHVqj5QqkgfXS35Joz57W9Si0yw\n"
     ]
    },
    {
     "name": "stderr",
     "output_type": "stream",
     "text": [
      "  2%|█▌                                                                              | 63/3118 [01:14<25:04,  2.03it/s]"
     ]
    },
    {
     "name": "stdout",
     "output_type": "stream",
     "text": [
      "MZ-bRrNQMiNmCiQmJvv1GC_y4YrzoFY94mB9AEjvrtTYXmeodAVQ94F9Dam2PpqO9_QGBOOug8L8UA\n"
     ]
    },
    {
     "name": "stderr",
     "output_type": "stream",
     "text": [
      "  2%|█▋                                                                              | 64/3118 [01:14<21:54,  2.32it/s]"
     ]
    },
    {
     "name": "stdout",
     "output_type": "stream",
     "text": [
      "NPwAO58b3ktIhPEpeVIQxF0U0pTMpsdxMNHNX9-ZMXEhzOA6u-P0c3ylJ-q3-neLs1vicSKBrE_4eA\n"
     ]
    },
    {
     "name": "stderr",
     "output_type": "stream",
     "text": [
      "  2%|█▋                                                                              | 65/3118 [01:14<19:17,  2.64it/s]"
     ]
    },
    {
     "name": "stdout",
     "output_type": "stream",
     "text": [
      "RAJTp51BHE1po93Jq8UWx5-GMAia5IG0d-WvNiEkfmU4z3cLG7UTINK6e_xR7RGMbbiHKJcdoDDpyA\n"
     ]
    },
    {
     "name": "stderr",
     "output_type": "stream",
     "text": [
      "  2%|█▋                                                                              | 66/3118 [01:15<21:55,  2.32it/s]"
     ]
    },
    {
     "name": "stdout",
     "output_type": "stream",
     "text": [
      "FN3A3CLvgE9IeiqnYJXwjF1KV9O_XN4gBdeC6R5UDTEgWWsqrO-gWnUPjWk-Chjl4jBYqmcaR-b50g\n"
     ]
    },
    {
     "name": "stderr",
     "output_type": "stream",
     "text": [
      "  2%|█▋                                                                              | 67/3118 [01:15<19:04,  2.67it/s]"
     ]
    },
    {
     "name": "stdout",
     "output_type": "stream",
     "text": [
      "UxjkadHQIuw_8kLhxOX-PGaVEvRReeZm32omhKoHEv3duFGuZo3MkJofvBmXSNAb-R9Mwv3rv5pv6Q\n"
     ]
    },
    {
     "name": "stderr",
     "output_type": "stream",
     "text": [
      "  2%|█▋                                                                              | 68/3118 [01:15<20:01,  2.54it/s]"
     ]
    },
    {
     "name": "stdout",
     "output_type": "stream",
     "text": [
      "ZV6uIgDpE6QNek1eijdrFjEMO_jpjiTiPnUP-N3f96dqDnIfHOv5DmvYb03xr7z9B8VKA7FND1OodA\n"
     ]
    },
    {
     "name": "stderr",
     "output_type": "stream",
     "text": [
      "  2%|█▊                                                                              | 69/3118 [01:16<20:32,  2.47it/s]"
     ]
    },
    {
     "name": "stdout",
     "output_type": "stream",
     "text": [
      "uYl5qYbkaZGpuL87u34gZ-DTCHRHfgpL98tPpJCEfn8T33OM6z1I1IyHlaT_AK6iAyN7m08kKWP0MA\n"
     ]
    },
    {
     "name": "stderr",
     "output_type": "stream",
     "text": [
      "  2%|█▊                                                                              | 70/3118 [01:16<19:57,  2.55it/s]"
     ]
    },
    {
     "name": "stdout",
     "output_type": "stream",
     "text": [
      "6Sne8nkYhKLCF_V_Cb-hAsB_pwVzZYt5TgJG2krZgLu2tAEOXy4UMVs79olAg-LdIFqPmkddSsrAYg\n"
     ]
    },
    {
     "name": "stderr",
     "output_type": "stream",
     "text": [
      "  2%|█▊                                                                              | 71/3118 [01:17<20:19,  2.50it/s]"
     ]
    },
    {
     "name": "stdout",
     "output_type": "stream",
     "text": [
      "nrUiSibC78JvEcS3iJ5-xFB6bY7MKil65O2Mg-cDS8UWuROQ_Xt4HsQLp1d7UX4C86fYijqFraSdWw\n"
     ]
    },
    {
     "name": "stderr",
     "output_type": "stream",
     "text": [
      "  2%|█▊                                                                              | 72/3118 [01:17<18:07,  2.80it/s]"
     ]
    },
    {
     "name": "stdout",
     "output_type": "stream",
     "text": [
      "Yvm7Xis908TY0Vg1SES2xf_H3gi_vOZtjnijNXKt-lj6Gnp1PDD95nVv8z255puB66VRvcB2ZCFTjw\n"
     ]
    },
    {
     "name": "stderr",
     "output_type": "stream",
     "text": [
      "  2%|█▊                                                                              | 73/3118 [01:17<18:22,  2.76it/s]"
     ]
    },
    {
     "name": "stdout",
     "output_type": "stream",
     "text": [
      "Hhck6MZZsyxnTb_ikmqUr5weUDPRzETjAT9gNq_NEodbINRAMub5Al3niQvRnr3CTb4RBq5GjTj3fQ\n"
     ]
    },
    {
     "name": "stderr",
     "output_type": "stream",
     "text": [
      "  2%|█▉                                                                              | 74/3118 [01:18<16:32,  3.07it/s]"
     ]
    },
    {
     "name": "stdout",
     "output_type": "stream",
     "text": [
      "KkYPM9DVpAdKIsX9UlTF90VMn9qasKFfT3Ty-U1NUjcjWSF1-O6ksf2IGQpW7EQIcJXSoLV4j_z_lA\n"
     ]
    },
    {
     "name": "stderr",
     "output_type": "stream",
     "text": [
      "  2%|█▉                                                                              | 75/3118 [01:18<15:19,  3.31it/s]"
     ]
    },
    {
     "name": "stdout",
     "output_type": "stream",
     "text": [
      "WAk7Y1j3ACjA1CYTOAIEGiHpPa3bXAKxCqMolc26sfpw84FKkYG987qdlKkrF-Vg3mjzexuZQJXO_Q\n"
     ]
    },
    {
     "name": "stderr",
     "output_type": "stream",
     "text": [
      "  2%|█▉                                                                              | 76/3118 [01:18<16:12,  3.13it/s]"
     ]
    },
    {
     "name": "stdout",
     "output_type": "stream",
     "text": [
      "dUQQzyMcoNWyRgBPv-T1mlGjcIfRa0QbUySpYVDTCUbfzw0qtutJg_tStwOyaMdteX2-GIHFwcGqNA\n"
     ]
    },
    {
     "name": "stderr",
     "output_type": "stream",
     "text": [
      "  2%|█▉                                                                              | 77/3118 [01:18<15:44,  3.22it/s]"
     ]
    },
    {
     "name": "stdout",
     "output_type": "stream",
     "text": [
      "DzH217znw7N-u9t_XfDV49JhXZEV8WwzfT4lJYvt9-j1dJPQzv8OSh2cxXI6-GdqdKOyPgehruy5eg\n"
     ]
    },
    {
     "name": "stderr",
     "output_type": "stream",
     "text": [
      "  3%|██                                                                              | 78/3118 [01:19<14:58,  3.38it/s]"
     ]
    },
    {
     "name": "stdout",
     "output_type": "stream",
     "text": [
      "hDJ0wJRVbTvVqMxR3Wp2B3eeq_OKBobwxXNSDG-3RSUEkebXC94mg8jypwqY3E-PIBiE5Xc4EV5qcg\n"
     ]
    },
    {
     "name": "stderr",
     "output_type": "stream",
     "text": [
      "  3%|██                                                                              | 79/3118 [01:19<16:59,  2.98it/s]"
     ]
    },
    {
     "name": "stdout",
     "output_type": "stream",
     "text": [
      "PNGe-H3Msl1_4ABPmNfEUpyA2pzi4M1bRLqfm1mnzmJPDUyslYEbCz74eHB8yaYHxEaFEE_5TTZAfA\n"
     ]
    },
    {
     "name": "stderr",
     "output_type": "stream",
     "text": [
      "  3%|██                                                                              | 80/3118 [01:19<15:46,  3.21it/s]"
     ]
    },
    {
     "name": "stdout",
     "output_type": "stream",
     "text": [
      "2w6htGQWRe24pXbtgdqGdfSnauo2L31EeB8DZ3-SdSAs4OyXmrkVzqDRw4lIqyeqpnccRv7QYrdPeQ\n"
     ]
    },
    {
     "name": "stderr",
     "output_type": "stream",
     "text": [
      "  3%|██                                                                              | 81/3118 [01:20<18:00,  2.81it/s]"
     ]
    },
    {
     "name": "stdout",
     "output_type": "stream",
     "text": [
      "4O8yROwSr1vcDJuLJSj1YBIM3x5uBTqQRxYsTg6BTymqyhA08TGapnBOv6n7ey3WLd4CF-ahStE6ew\n"
     ]
    },
    {
     "name": "stderr",
     "output_type": "stream",
     "text": [
      "  3%|██                                                                              | 82/3118 [01:20<16:19,  3.10it/s]"
     ]
    },
    {
     "name": "stdout",
     "output_type": "stream",
     "text": [
      "g2RKTQF_fum23-Q8Au53h1R3xZtqUO-oKDqsRIUJHIV4xT6qFyr2CcOMcJ9OJxAdookgmvO_XLay0Q\n"
     ]
    },
    {
     "name": "stderr",
     "output_type": "stream",
     "text": [
      "  3%|██▏                                                                             | 83/3118 [01:20<15:44,  3.21it/s]"
     ]
    },
    {
     "name": "stdout",
     "output_type": "stream",
     "text": [
      "eGwVNGe1xy69YWhUHID8maKhcLMtaF1l6Mdd4CthiI5H1HNL95JPrWvwYo-uMXv0OgGX2cPlsrkRrg\n"
     ]
    },
    {
     "name": "stderr",
     "output_type": "stream",
     "text": [
      "  3%|██▏                                                                             | 84/3118 [01:21<15:44,  3.21it/s]"
     ]
    },
    {
     "name": "stdout",
     "output_type": "stream",
     "text": [
      "IckowDzwx5ER8d-AUs9oSO8xApSmU3xB7sfaSjW8w_dBeGzVkQwYYz7Qg9bD8wJvUaX38AjoUQ2o7g\n"
     ]
    },
    {
     "name": "stderr",
     "output_type": "stream",
     "text": [
      "  3%|██▏                                                                             | 85/3118 [01:21<15:05,  3.35it/s]"
     ]
    },
    {
     "name": "stdout",
     "output_type": "stream",
     "text": [
      "ikTnGmim2vEu56xIxz5Xj0szydR8FZrNXQ12gDAPnK-teD_eXZf4Oq7tqEftFdycFRubrtcmmH0m9A\n"
     ]
    },
    {
     "name": "stderr",
     "output_type": "stream",
     "text": [
      "  3%|██▏                                                                             | 86/3118 [01:22<19:23,  2.61it/s]"
     ]
    },
    {
     "name": "stdout",
     "output_type": "stream",
     "text": [
      "wY4xxTFd_KgjrDjJy6EUQwt4DG0ybB_reQnYP2X-pXnKyAYpuEMosDHBC1D0kIIxnbjEwnEBJaI0Zg\n"
     ]
    },
    {
     "name": "stderr",
     "output_type": "stream",
     "text": [
      "  3%|██▏                                                                             | 87/3118 [01:22<17:17,  2.92it/s]"
     ]
    },
    {
     "name": "stdout",
     "output_type": "stream",
     "text": [
      "gazXE8HPO22bsK6DTysfQKhBJVxNbL66H4sDtsQyw0fz9vQ6ywvtWgndZTRX_qDY2nAWOr8fGY-DLg\n"
     ]
    },
    {
     "name": "stderr",
     "output_type": "stream",
     "text": [
      "  3%|██▎                                                                             | 88/3118 [01:22<15:57,  3.16it/s]"
     ]
    },
    {
     "name": "stdout",
     "output_type": "stream",
     "text": [
      "okO0Nvyu3AX_kOfyU5pD8jvUQqZdbfGFOOP15Qn6L7m2Ov9QnMuHD22oojdtj5PnBQwIClBRoa1L1w\n"
     ]
    },
    {
     "name": "stderr",
     "output_type": "stream",
     "text": [
      "  3%|██▎                                                                             | 89/3118 [01:22<15:04,  3.35it/s]"
     ]
    },
    {
     "name": "stdout",
     "output_type": "stream",
     "text": [
      "U6_e0EtvWVLpRuOpUxMyVE7E9pInRWZjeZ0PdNkIwwd_jdRxeif3CjiKNWfTiY2TpEtMFk9Nv8RRXw\n"
     ]
    },
    {
     "name": "stderr",
     "output_type": "stream",
     "text": [
      "  3%|██▎                                                                             | 90/3118 [01:23<14:18,  3.53it/s]"
     ]
    },
    {
     "name": "stdout",
     "output_type": "stream",
     "text": [
      "9Q8QzmxT-cAY5mYUWC__4Djr_KBd6sagcoyvcH4IX_TEH8yZcyVcY9TedfqqfDxaDK6C43JNchiLkA\n"
     ]
    },
    {
     "name": "stderr",
     "output_type": "stream",
     "text": [
      "  3%|██▎                                                                             | 91/3118 [01:23<13:45,  3.67it/s]"
     ]
    },
    {
     "name": "stdout",
     "output_type": "stream",
     "text": [
      "TNI_0eW2s-X3O73_wkYUcTPKGCUt6guWkp7HjNubsTNvMiGsL5kyl7YvZrkGWbnYV7RIp2u-1wzxvA\n"
     ]
    },
    {
     "name": "stderr",
     "output_type": "stream",
     "text": [
      "  3%|██▎                                                                             | 92/3118 [01:23<13:53,  3.63it/s]"
     ]
    },
    {
     "name": "stdout",
     "output_type": "stream",
     "text": [
      "2brBKENIutUqrIIh6-k-D3k48pBTKc64I4nUkub5tVOyMHhmrPqndqfq_ro6Ok-HbjyxQxocHbLf1Q\n"
     ]
    },
    {
     "name": "stderr",
     "output_type": "stream",
     "text": [
      "  3%|██▍                                                                             | 93/3118 [01:23<13:28,  3.74it/s]"
     ]
    },
    {
     "name": "stdout",
     "output_type": "stream",
     "text": [
      "5eCF6zn-OlF33BVYTihEgGaopcIo1U-Fp6OdW8lh9AWxl2btkisAcMrAOII2m6oezLw_fgpo_-wSsQ\n"
     ]
    },
    {
     "name": "stderr",
     "output_type": "stream",
     "text": [
      "  3%|██▍                                                                             | 94/3118 [01:24<13:13,  3.81it/s]"
     ]
    },
    {
     "name": "stdout",
     "output_type": "stream",
     "text": [
      "PFNNaBWn04UascIetNEgHs3QlboNZjPFEdDdA4dqUbyio9oxt5ZmKTJDnCqWngt1NdODG3XM5BZmQg\n"
     ]
    },
    {
     "name": "stderr",
     "output_type": "stream",
     "text": [
      "  3%|██▍                                                                             | 95/3118 [01:24<14:29,  3.48it/s]"
     ]
    },
    {
     "name": "stdout",
     "output_type": "stream",
     "text": [
      "6JMCbUSqA5SM_6VAER2sp7BIkfu-QXTiKSNfkytsCz1JFJJFJCEYPCrPDJK_H7S5R61KPTYO3mf0Aw\n"
     ]
    },
    {
     "name": "stderr",
     "output_type": "stream",
     "text": [
      "  3%|██▍                                                                             | 96/3118 [01:24<15:38,  3.22it/s]"
     ]
    },
    {
     "name": "stdout",
     "output_type": "stream",
     "text": [
      "7x8x6J0_OUEe6zgxRoTz1-oy0RpYT5HcH-9M-Z04HUQBKfgP4mvZtNvUUwpdQLCfZ8SrlhtHKyYXKQ\n"
     ]
    },
    {
     "name": "stderr",
     "output_type": "stream",
     "text": [
      "  3%|██▍                                                                             | 97/3118 [01:25<19:42,  2.56it/s]"
     ]
    },
    {
     "name": "stdout",
     "output_type": "stream",
     "text": [
      "dWw515kyruB2zJbqg6DtbddCxVPRv1F57vyJxievdMDBHQCz1S9efqtGP9U7G5PyRdnInjHvE8YNKw\n"
     ]
    },
    {
     "name": "stderr",
     "output_type": "stream",
     "text": [
      "  3%|██▌                                                                             | 98/3118 [01:25<17:53,  2.81it/s]"
     ]
    },
    {
     "name": "stdout",
     "output_type": "stream",
     "text": [
      "9DlRX4qLtYpK7T15A5-qx-YrjaohTBvLO5mTrJ_AZ76IjAz-9OH2BAtAc_wuBBsw1M5OKtW8m_xNgw\n"
     ]
    },
    {
     "name": "stderr",
     "output_type": "stream",
     "text": [
      "  3%|██▌                                                                             | 99/3118 [01:25<18:01,  2.79it/s]"
     ]
    },
    {
     "name": "stdout",
     "output_type": "stream",
     "text": [
      "e5wTeLFHhPWdsYJrDj7L_IfsldAjrDsQONXb2DP_ckXi8H_ulCPmmFtHtTQ-d9mlFGa7SHC9GXrf5w\n"
     ]
    },
    {
     "name": "stderr",
     "output_type": "stream",
     "text": [
      "  3%|██▌                                                                            | 100/3118 [01:26<16:26,  3.06it/s]"
     ]
    },
    {
     "name": "stdout",
     "output_type": "stream",
     "text": [
      "f5EOspbjctF2iRKmg_E-1llK2wR8VlGx8G1NInzh8AU-iuw_-7zAR9vDpDgatQjCOA6LavlxggcEhA\n"
     ]
    },
    {
     "name": "stderr",
     "output_type": "stream",
     "text": [
      "  3%|██▌                                                                            | 101/3118 [01:26<17:25,  2.88it/s]"
     ]
    },
    {
     "name": "stdout",
     "output_type": "stream",
     "text": [
      "x82-CCEVkImqoU5Zhri8gyj_sCDZ_NjSI4UAsVNICh_bBSBatqUQlWx9cJd1kJPrrgJ7p2zNMgdPQQ\n"
     ]
    },
    {
     "name": "stderr",
     "output_type": "stream",
     "text": [
      "  3%|██▌                                                                            | 102/3118 [01:27<21:35,  2.33it/s]"
     ]
    },
    {
     "name": "stdout",
     "output_type": "stream",
     "text": [
      "FEozdl7xzBETz3kTrsxhIwUv4bdV2myo8kFb1DBY3XkJsqNWwFRFQvF_1AxGjNiGuSVZt0jY-V7dWw\n"
     ]
    },
    {
     "name": "stderr",
     "output_type": "stream",
     "text": [
      "  3%|██▌                                                                            | 103/3118 [01:27<21:01,  2.39it/s]"
     ]
    },
    {
     "name": "stdout",
     "output_type": "stream",
     "text": [
      "Q8bIfhi5uhddYw8fmZHu4TleiojYNzt1OxhcUJHCq2qea8vUzWnXcAEPr03GLkcDe3ZuMxD13VV2dw\n"
     ]
    },
    {
     "name": "stderr",
     "output_type": "stream",
     "text": [
      "  3%|██▋                                                                            | 104/3118 [01:27<19:04,  2.63it/s]"
     ]
    },
    {
     "name": "stdout",
     "output_type": "stream",
     "text": [
      "HwRJtgsQ9n1iZBTS81LJEnccBhu-BIqx115YvCfHNWOg7qTGyLGJvWgIJySyR5yx_0dRunaS6TJvhA\n"
     ]
    },
    {
     "name": "stderr",
     "output_type": "stream",
     "text": [
      "  3%|██▋                                                                            | 105/3118 [01:28<17:52,  2.81it/s]"
     ]
    },
    {
     "name": "stdout",
     "output_type": "stream",
     "text": [
      "dayfwZ13FzB04UWc_bQsJIW_DmUNPI0FR9SzEse0Ay-n_tY9napMukMUg4DMU4IGDhcS06nKpDyDgg\n"
     ]
    },
    {
     "name": "stderr",
     "output_type": "stream",
     "text": [
      "  3%|██▋                                                                            | 106/3118 [01:28<22:40,  2.21it/s]"
     ]
    },
    {
     "name": "stdout",
     "output_type": "stream",
     "text": [
      "u177FIdK455iaAUTqCMF41-0bow-0Js9zDj-3M0UP2TBfRQA6OUm6p2AwMJcBave5mJowkUGiAf-9w\n"
     ]
    },
    {
     "name": "stderr",
     "output_type": "stream",
     "text": [
      "  3%|██▋                                                                            | 107/3118 [01:29<21:11,  2.37it/s]"
     ]
    },
    {
     "name": "stdout",
     "output_type": "stream",
     "text": [
      "w_P_Hixm8OJDl9z9ZzQgYp8yCttqXsarczcL3X4bnFvZttIiNbTHEDlP92OJRYkZY5Cxd1iC0as0oQ\n"
     ]
    },
    {
     "name": "stderr",
     "output_type": "stream",
     "text": [
      "  3%|██▋                                                                            | 108/3118 [01:29<18:31,  2.71it/s]"
     ]
    },
    {
     "name": "stdout",
     "output_type": "stream",
     "text": [
      "Uw5bwrTrYi6nfqqhuoUoAjTYkrRDd3CzGs1HQRiEByo65DdKsGd8MV_qJmXW4cET6oI38s2uAJMh2A\n"
     ]
    },
    {
     "name": "stderr",
     "output_type": "stream",
     "text": [
      "  3%|██▊                                                                            | 109/3118 [01:29<17:14,  2.91it/s]"
     ]
    },
    {
     "name": "stdout",
     "output_type": "stream",
     "text": [
      "cJOgwUy_MSulNnSiXnEGBJxL1FPJ6llB8gf7KdZhRd60l_61tlr2R1zS87U62It6PL8rlSi6CZwCPw\n"
     ]
    },
    {
     "name": "stderr",
     "output_type": "stream",
     "text": [
      "  4%|██▊                                                                            | 110/3118 [01:30<16:33,  3.03it/s]"
     ]
    },
    {
     "name": "stdout",
     "output_type": "stream",
     "text": [
      "XT8HMrJ0um0ogufma3UTc81vYk8GTXXU6wlUgmX7R1KX1OsJdcIj3ke37vzl-OVMn4P-XJOXp6UoqQ\n"
     ]
    },
    {
     "name": "stderr",
     "output_type": "stream",
     "text": [
      "  4%|██▊                                                                            | 111/3118 [01:30<18:15,  2.74it/s]"
     ]
    },
    {
     "name": "stdout",
     "output_type": "stream",
     "text": [
      "L3WsPBTcxQdQ2v82QbYxGiNdmJHGRmuHxQB-5yAPOyOPrBLY_tpLslcMWMwaN5xL9yLSEhOeyOUzrQ\n"
     ]
    },
    {
     "name": "stderr",
     "output_type": "stream",
     "text": [
      "  4%|██▊                                                                            | 112/3118 [01:30<16:39,  3.01it/s]"
     ]
    },
    {
     "name": "stdout",
     "output_type": "stream",
     "text": [
      "UedngSZsZPhEjLZAUdgSZW56en6ja3DF0yEtxM6HRhCoFlZ4B0z3T402fRhTlr2yskOYf86ckUM2pg\n",
      "api cost full : infinite loop start\n",
      "loop location :  yHe14bz0wXcpuT5zovkN-cMw0Rzkdby_hicpZDxp2pvWi-OeluwIIOAGaQ\n",
      "try 10 second wait time\n",
      "429\n",
      "try 10 second wait time\n",
      "429\n",
      "try 10 second wait time\n",
      "429\n",
      "try 10 second wait time\n",
      "429\n",
      "try 10 second wait time\n",
      "429\n",
      "try 10 second wait time\n",
      "429\n",
      "try 10 second wait time\n",
      "429\n",
      "try 10 second wait time\n",
      "429\n",
      "try 10 second wait time\n"
     ]
    },
    {
     "name": "stderr",
     "output_type": "stream",
     "text": [
      "  4%|██▊                                                                         | 113/3118 [03:03<23:27:45, 28.11s/it]"
     ]
    },
    {
     "name": "stdout",
     "output_type": "stream",
     "text": [
      "200\n",
      "total wait time :  92.70319938659668\n",
      "recovery api cost\n",
      "LHf1ziZ-gSvohW6k3s5XdVo5W4f57tOi8VZHvxQudGMqt7oPWc3Zz8Lq8zDTscZPkO9BL9qIkSpjPA\n"
     ]
    },
    {
     "name": "stderr",
     "output_type": "stream",
     "text": [
      "  4%|██▊                                                                         | 114/3118 [03:04<16:30:27, 19.78s/it]"
     ]
    },
    {
     "name": "stdout",
     "output_type": "stream",
     "text": [
      "JPadPNPqExWJFylrbT8tzV1iCvSV-KmAV1ijANZJiDthYU3BKGrBAG2tpOMkXVRQqaavYftd5lGT2A\n"
     ]
    },
    {
     "name": "stderr",
     "output_type": "stream",
     "text": [
      "  4%|██▊                                                                         | 115/3118 [03:04<11:36:53, 13.92s/it]"
     ]
    },
    {
     "name": "stdout",
     "output_type": "stream",
     "text": [
      "WufJJy6bDjTuvwvWse9B4b82qS3qYBaUvG8JsV1lAS0dI258DlaG3eNe2ugJBPabaGKrLdxeZu2hCQ\n"
     ]
    },
    {
     "name": "stderr",
     "output_type": "stream",
     "text": [
      "  4%|██▊                                                                          | 116/3118 [03:04<8:14:57,  9.89s/it]"
     ]
    },
    {
     "name": "stdout",
     "output_type": "stream",
     "text": [
      "9MNehNMhKBrrQsnVuz2XnSfm4nXMqK4FSLv0Mj7tKFCS5Mw3KpUOLgpX4FxIccHlXUdz8NiFiqkqXw\n"
     ]
    },
    {
     "name": "stderr",
     "output_type": "stream",
     "text": [
      "  4%|██▉                                                                          | 117/3118 [03:05<5:50:06,  7.00s/it]"
     ]
    },
    {
     "name": "stdout",
     "output_type": "stream",
     "text": [
      "GINeXHr0T_opfrWSrz7P0LyQTfwzF1VQ9T6Q3oWWXFlpQSspRXm823J20QmY6ZW1VVlb57xg1ltNvw\n"
     ]
    },
    {
     "name": "stderr",
     "output_type": "stream",
     "text": [
      "  4%|██▉                                                                          | 118/3118 [03:05<4:09:04,  4.98s/it]"
     ]
    },
    {
     "name": "stdout",
     "output_type": "stream",
     "text": [
      "NIae-CTjf6YTV6q5ezFboA9inmZM_jKUB-nYWmN17846cDdZWnwyPPxBMX-Uz19BgFEz6xen2Cl6KA\n"
     ]
    },
    {
     "name": "stderr",
     "output_type": "stream",
     "text": [
      "  4%|██▉                                                                          | 119/3118 [03:05<2:58:55,  3.58s/it]"
     ]
    },
    {
     "name": "stdout",
     "output_type": "stream",
     "text": [
      "PjYejyxkmeySChhUEaxOkzqoEVH5f3AcjDfZGvIOW_hQqep2FSi94MbFEyeiYgqBOMexRVn99CXTQg\n"
     ]
    },
    {
     "name": "stderr",
     "output_type": "stream",
     "text": [
      "  4%|██▉                                                                          | 120/3118 [03:06<2:10:50,  2.62s/it]"
     ]
    },
    {
     "name": "stdout",
     "output_type": "stream",
     "text": [
      "PqbcE0EpdhJI0kIF2qtLNnbzd8FEjZuT8x0hHvVhMAcyZ85o26BSyx_3T1bTKmafRpG0MicIcQLmHg\n"
     ]
    },
    {
     "name": "stderr",
     "output_type": "stream",
     "text": [
      "  4%|██▉                                                                          | 121/3118 [03:06<1:35:26,  1.91s/it]"
     ]
    },
    {
     "name": "stdout",
     "output_type": "stream",
     "text": [
      "fMzrN0XHxLQ7CdD-BsNzpAkqib1Eup0taSJO55oXtNM3vDoR6HiXxB5HX8KXcH6lm1QMv7slhfxfQg\n"
     ]
    },
    {
     "name": "stderr",
     "output_type": "stream",
     "text": [
      "  4%|███                                                                          | 122/3118 [03:06<1:15:05,  1.50s/it]"
     ]
    },
    {
     "name": "stdout",
     "output_type": "stream",
     "text": [
      "FtiyOdSuCBON7C7D9gjfV2uKB3CtUErnqbB5OKOIQ5dn7AqxiWbHyWhL-6GSMtcaU-RfNDyhAo4eGg\n"
     ]
    },
    {
     "name": "stderr",
     "output_type": "stream",
     "text": [
      "  4%|███                                                                            | 123/3118 [03:07<58:17,  1.17s/it]"
     ]
    },
    {
     "name": "stdout",
     "output_type": "stream",
     "text": [
      "9f59seSnH5uO_rwk90YND2CuJqP1efFOenoFgINbleEtErJek2JEqN7OYQwRHN6iHDJsxyJE9OmQmg\n"
     ]
    },
    {
     "name": "stderr",
     "output_type": "stream",
     "text": [
      "  4%|███▏                                                                           | 124/3118 [03:07<45:05,  1.11it/s]"
     ]
    },
    {
     "name": "stdout",
     "output_type": "stream",
     "text": [
      "3lVHe8hvqgJQIaipU3LBKd9CBiUxAc6PqBH0C2LdCluNe92r6Svu1uSNFYhf3PFgaJmlg6ZuEaalxg\n"
     ]
    },
    {
     "name": "stderr",
     "output_type": "stream",
     "text": [
      "  4%|███▏                                                                           | 125/3118 [03:07<36:32,  1.37it/s]"
     ]
    },
    {
     "name": "stdout",
     "output_type": "stream",
     "text": [
      "TuiPPeVQTp_gfOBWe3uA6JCYW5nsl1h1KcXJuS8fZ1aAYSYtfSRmzoQNT4qdxmZ5apXdGJbNkNj8Ig\n"
     ]
    },
    {
     "name": "stderr",
     "output_type": "stream",
     "text": [
      "  4%|███▏                                                                           | 126/3118 [03:08<29:41,  1.68it/s]"
     ]
    },
    {
     "name": "stdout",
     "output_type": "stream",
     "text": [
      "BNA0o_05o2rW649uXrln3QnTRdzukEDTd_O_q98PkFFp0BPpHnlBARXi5EI_6PIPav6-2inAH4fkXw\n"
     ]
    },
    {
     "name": "stderr",
     "output_type": "stream",
     "text": [
      "  4%|███▏                                                                           | 127/3118 [03:08<25:05,  1.99it/s]"
     ]
    },
    {
     "name": "stdout",
     "output_type": "stream",
     "text": [
      "AFgMJRbi35TvKikZiHPHy_gCeW9UmahIvmAfsHiGeS3UayhLvGAWb8olah_mzPoYpQf_H1qao2O_sg\n"
     ]
    },
    {
     "name": "stderr",
     "output_type": "stream",
     "text": [
      "  4%|███▏                                                                           | 128/3118 [03:08<21:07,  2.36it/s]"
     ]
    },
    {
     "name": "stdout",
     "output_type": "stream",
     "text": [
      "0MoX0ge6cYIFepApp9ARgmC8L8tUb-M-oZuYi8r7O6-Dld-EquDQczaSvX42TXXAUNqNC7CkTZ0UlQ\n"
     ]
    },
    {
     "name": "stderr",
     "output_type": "stream",
     "text": [
      "  4%|███▎                                                                           | 129/3118 [03:09<24:05,  2.07it/s]"
     ]
    },
    {
     "name": "stdout",
     "output_type": "stream",
     "text": [
      "8t7O_LKyuy0tYNbKmNVlKgJsF9INiEbiUjHmFLwYvd8QhPNAVKri1ditKEsIgOz7IIy1rexTTtuapQ\n"
     ]
    },
    {
     "name": "stderr",
     "output_type": "stream",
     "text": [
      "  4%|███▎                                                                           | 130/3118 [03:09<23:54,  2.08it/s]"
     ]
    },
    {
     "name": "stdout",
     "output_type": "stream",
     "text": [
      "WGdjqNwSPFOLIoevRYE1Y7hvrDYdR7zGVqIWRxiknxhG_xuWcarKSqSSka-mSDoSul1Lf96_PGs5ZA\n"
     ]
    },
    {
     "name": "stderr",
     "output_type": "stream",
     "text": [
      "  4%|███▎                                                                           | 131/3118 [03:10<21:09,  2.35it/s]"
     ]
    },
    {
     "name": "stdout",
     "output_type": "stream",
     "text": [
      "Y4vCKLg3ofHV5fGlE4VFxN9Nq30ayi4Sh1g0W5xazgD-C3Le6svlcdKWczMciRVlb9HLyKkDO_713Q\n"
     ]
    },
    {
     "name": "stderr",
     "output_type": "stream",
     "text": [
      "  4%|███▎                                                                           | 132/3118 [03:10<19:19,  2.58it/s]"
     ]
    },
    {
     "name": "stdout",
     "output_type": "stream",
     "text": [
      "LcozeTeJcYNknl-ipJMy8lLZfD3-VghKUoiBsY9bIDwQ3uVZ4YiBhm1e5X4QVoXQq-XJlTjfW9okhQ\n"
     ]
    },
    {
     "name": "stderr",
     "output_type": "stream",
     "text": [
      "  4%|███▎                                                                           | 133/3118 [03:10<17:15,  2.88it/s]"
     ]
    },
    {
     "name": "stdout",
     "output_type": "stream",
     "text": [
      "Gc7ZUiezq5bq8XN8b9_LQlgWXy0B4shkLhiEIFIJ1ZNjzJVAorcsIC8qYDYgdBbeCLCce4WgsrtQEQ\n"
     ]
    },
    {
     "name": "stderr",
     "output_type": "stream",
     "text": [
      "  4%|███▍                                                                           | 134/3118 [03:10<16:02,  3.10it/s]"
     ]
    },
    {
     "name": "stdout",
     "output_type": "stream",
     "text": [
      "rPiZZuIilxuwq7z7gsnVGqKsFNzGgHrcrlXxalFVGyo32MSh5h_H8SvJMUgmiQnFALiBWWyQ5yzchw\n"
     ]
    },
    {
     "name": "stderr",
     "output_type": "stream",
     "text": [
      "  4%|███▍                                                                           | 135/3118 [03:11<14:57,  3.32it/s]"
     ]
    },
    {
     "name": "stdout",
     "output_type": "stream",
     "text": [
      "uKXZ_QcHA0T3cfvSOb0H9ZkRq-Oz_NTUUSRqkxqKFSDTaXCCQQkIMstmS2bWoI9EFZIM376eIZ9OnQ\n"
     ]
    },
    {
     "name": "stderr",
     "output_type": "stream",
     "text": [
      "  4%|███▍                                                                           | 136/3118 [03:11<14:19,  3.47it/s]"
     ]
    },
    {
     "name": "stdout",
     "output_type": "stream",
     "text": [
      "qdkgcqsfg3GLEPLuTe2Gmnk6jJtPXXfXUUV8fT7mYKEmVWorYEFYSwjidXNxIgIuYe9yJzYIKSy_iw\n"
     ]
    },
    {
     "name": "stderr",
     "output_type": "stream",
     "text": [
      "  4%|███▍                                                                           | 137/3118 [03:11<14:13,  3.49it/s]"
     ]
    },
    {
     "name": "stdout",
     "output_type": "stream",
     "text": [
      "dbR3_8aDcwe_xfp4LoOcVqJL8LB1i8pNUY5MWMSWujTbKZGPsOzCnu9XbHUZ_fUrwn5gZB7aywTNnw\n"
     ]
    },
    {
     "name": "stderr",
     "output_type": "stream",
     "text": [
      "  4%|███▍                                                                           | 138/3118 [03:11<14:34,  3.41it/s]"
     ]
    },
    {
     "name": "stdout",
     "output_type": "stream",
     "text": [
      "qQTrX-g_SUwDhlPYEuiYiXVZv7FihDx7R5q_1H1uOzghcPDXGKM8-bKEeNF1r4X8V6ESpTL8IROW7w\n"
     ]
    },
    {
     "name": "stderr",
     "output_type": "stream",
     "text": [
      "  4%|███▌                                                                           | 139/3118 [03:12<14:31,  3.42it/s]"
     ]
    },
    {
     "name": "stdout",
     "output_type": "stream",
     "text": [
      "Rbl1laalx3n4ePm6SFTlbVylpZCV4h9oDV4g3RjLLzLiHrRnIq3FrLn6njUCF9RP3Vo7z91SsrjPNA\n"
     ]
    },
    {
     "name": "stderr",
     "output_type": "stream",
     "text": [
      "  4%|███▌                                                                           | 140/3118 [03:12<17:00,  2.92it/s]"
     ]
    },
    {
     "name": "stdout",
     "output_type": "stream",
     "text": [
      "ONCqZrYHPMqVHIUPrcck1WbcGQmrUFWZ8IpiECmrIC9hytKOUQnbBMuYWMr78MOM8Q92xCWQL-_JVQ\n"
     ]
    },
    {
     "name": "stderr",
     "output_type": "stream",
     "text": [
      "  5%|███▌                                                                           | 141/3118 [03:12<16:00,  3.10it/s]"
     ]
    },
    {
     "name": "stdout",
     "output_type": "stream",
     "text": [
      "86jJfjgqWhi-mQVHeKqMO72rHSINvbb78N_vHNaeOsjHCRUHHxjuTnZU_OYzppsBEtYb1koefentrw\n"
     ]
    },
    {
     "name": "stderr",
     "output_type": "stream",
     "text": [
      "  5%|███▌                                                                           | 142/3118 [03:13<15:15,  3.25it/s]"
     ]
    },
    {
     "name": "stdout",
     "output_type": "stream",
     "text": [
      "L8UA04uAgWVTJKB3WRTBQ0KyW2syKfjGPuSTlzuD1bDu0IIvI6FA9qFwLZ63beWmQTitsku7EisL8Q\n"
     ]
    },
    {
     "name": "stderr",
     "output_type": "stream",
     "text": [
      "  5%|███▌                                                                           | 143/3118 [03:13<14:28,  3.42it/s]"
     ]
    },
    {
     "name": "stdout",
     "output_type": "stream",
     "text": [
      "ABeF-4upR0BDn2xXUFgXdkZgWxVuPjeBEgKpjO3Fh0OgEs-AoSqr7WzFdXOSa-MV10YUGexCkTxDTQ\n"
     ]
    },
    {
     "name": "stderr",
     "output_type": "stream",
     "text": [
      "  5%|███▋                                                                           | 144/3118 [03:13<13:57,  3.55it/s]"
     ]
    },
    {
     "name": "stdout",
     "output_type": "stream",
     "text": [
      "CGP-_AZWGZsrrh_QacblwdQ83i7d9iNnGYrPbuck9LuHiMRApRq-A8UN7eWoUrlLEOSR9WKuv_12QA\n"
     ]
    },
    {
     "name": "stderr",
     "output_type": "stream",
     "text": [
      "  5%|███▋                                                                           | 145/3118 [03:14<13:42,  3.62it/s]"
     ]
    },
    {
     "name": "stdout",
     "output_type": "stream",
     "text": [
      "DvjZxD7N0P-vKcDQeeKt76Mt0scms4QG2k0sUfP-k1WIZF6nL4n3Ms15yFMZh10eh0RhK0dRCQLwjQ\n"
     ]
    },
    {
     "name": "stderr",
     "output_type": "stream",
     "text": [
      "  5%|███▋                                                                           | 146/3118 [03:14<13:32,  3.66it/s]"
     ]
    },
    {
     "name": "stdout",
     "output_type": "stream",
     "text": [
      "A3UZesCdNjCk8yGsjMrUj5EdWJMvLWnee_bbBQCiH0oghUDQix3GOiQIE4vE2fMMWGS9GqZp7NhH8g\n"
     ]
    },
    {
     "name": "stderr",
     "output_type": "stream",
     "text": [
      "  5%|███▋                                                                           | 147/3118 [03:14<15:09,  3.26it/s]"
     ]
    },
    {
     "name": "stdout",
     "output_type": "stream",
     "text": [
      "FL9LUgG-w1XNzYgV-lh0UVk3YJmKf16lXL3zwjsAv00jxiVcnLteZo41a-yUjxQOeHeXMHUwaYPlWw\n"
     ]
    },
    {
     "name": "stderr",
     "output_type": "stream",
     "text": [
      "  5%|███▋                                                                           | 148/3118 [03:14<14:38,  3.38it/s]"
     ]
    },
    {
     "name": "stdout",
     "output_type": "stream",
     "text": [
      "dhbeZRCqm47Gtb-B1WwA0lyumm6dVp9DeTH7D1BY4c744PrlXtnxpgSQ4Aayg-esTUTeLoZPZvQDLQ\n"
     ]
    },
    {
     "name": "stderr",
     "output_type": "stream",
     "text": [
      "  5%|███▊                                                                           | 149/3118 [03:15<16:08,  3.07it/s]"
     ]
    },
    {
     "name": "stdout",
     "output_type": "stream",
     "text": [
      "8HsOwBV1WNv8kI6vjJnqTb-wX1KhzWpxITHyV6sZkd3TnJfBOyebQHBEEySOIvWKL7RAQJtHBj72IQ\n"
     ]
    },
    {
     "name": "stderr",
     "output_type": "stream",
     "text": [
      "  5%|███▊                                                                           | 150/3118 [03:15<17:31,  2.82it/s]"
     ]
    },
    {
     "name": "stdout",
     "output_type": "stream",
     "text": [
      "pcOKrOaZ-qRBOrPMLKW8TK7f8lgyV6weRz3tXHOWHlmy2tzvb3-QTuqY06s43qXC2NMiSO39ejU1yg\n"
     ]
    },
    {
     "name": "stderr",
     "output_type": "stream",
     "text": [
      "  5%|███▊                                                                           | 151/3118 [03:16<20:37,  2.40it/s]"
     ]
    },
    {
     "name": "stdout",
     "output_type": "stream",
     "text": [
      "IDLl_3BC7NNEfoGDoxtG7uZ3_boywnpZr789nNMMEqJt9NkoBsRhop_2y41jozJhoTi6W2zc0rHRtA\n"
     ]
    },
    {
     "name": "stderr",
     "output_type": "stream",
     "text": [
      "  5%|███▊                                                                           | 152/3118 [03:16<18:24,  2.68it/s]"
     ]
    },
    {
     "name": "stdout",
     "output_type": "stream",
     "text": [
      "A6i6e0sktIlrQzKu8sN22Om62Bb--cquNgIML-_Ytjl3yObePQKEeN9j-olNH4wcgqGLUTkhg7gwWA\n"
     ]
    },
    {
     "name": "stderr",
     "output_type": "stream",
     "text": [
      "  5%|███▉                                                                           | 153/3118 [03:17<22:48,  2.17it/s]"
     ]
    },
    {
     "name": "stdout",
     "output_type": "stream",
     "text": [
      "l4IZtWeD-B5fr1xjA7OjweVuJD7Q6TfLHdwy6BWrgOtLQG6g7rWaZDiLKZr4c_CmtB8V244MZy_q6w\n"
     ]
    },
    {
     "name": "stderr",
     "output_type": "stream",
     "text": [
      "  5%|███▉                                                                           | 154/3118 [03:17<19:50,  2.49it/s]"
     ]
    },
    {
     "name": "stdout",
     "output_type": "stream",
     "text": [
      "QYhKyXlq19jeYbapQwoTGV_mbmQefDz2zRuMWhrg5kfk92vHXbJpfkSz2_vkCTEgm7ZZ0LvtHCDI6g\n"
     ]
    },
    {
     "name": "stderr",
     "output_type": "stream",
     "text": [
      "  5%|███▉                                                                           | 155/3118 [03:17<17:56,  2.75it/s]"
     ]
    },
    {
     "name": "stdout",
     "output_type": "stream",
     "text": [
      "erXJyK54V4HXzEIr7EK1oVWiCAvBrFChXapmf5ebC2NFz4gRJzkKxwzkN0QTh6txHPEF0cgrmlCSCQ\n"
     ]
    },
    {
     "name": "stderr",
     "output_type": "stream",
     "text": [
      "  5%|███▉                                                                           | 156/3118 [03:18<21:13,  2.33it/s]"
     ]
    },
    {
     "name": "stdout",
     "output_type": "stream",
     "text": [
      "tZtYrm13hYy3r30NOHag5TuVNJD0KEYF8v84s-iHzdazRgDsLIl776lXPJ8t7EJw_idcQJRS4fQzrA\n"
     ]
    },
    {
     "name": "stderr",
     "output_type": "stream",
     "text": [
      "  5%|███▉                                                                           | 157/3118 [03:18<18:36,  2.65it/s]"
     ]
    },
    {
     "name": "stdout",
     "output_type": "stream",
     "text": [
      "kypceNXSoewNJsczwMjvv13J4WmmyDa6N9YNgbP0riqwB67HVXPvV-I74ebh7gLlm19zR3p-eDTdHQ\n"
     ]
    },
    {
     "name": "stderr",
     "output_type": "stream",
     "text": [
      "  5%|████                                                                           | 158/3118 [03:18<18:19,  2.69it/s]"
     ]
    },
    {
     "name": "stdout",
     "output_type": "stream",
     "text": [
      "JVyRUhFXxCy8g3mhJby2H-M4ipNZXLHp4pYA1Y7gXBkmH9MHNy7oJEr5TRTD8IgqlrS7JVCsKahS2g\n"
     ]
    },
    {
     "name": "stderr",
     "output_type": "stream",
     "text": [
      "  5%|████                                                                           | 159/3118 [03:19<16:31,  2.99it/s]"
     ]
    },
    {
     "name": "stdout",
     "output_type": "stream",
     "text": [
      "nwLO3LvVyUV2YjNhWlinu2RLVmb1i8_XRb6lcYkyrIODtpo8XDFqAfIr5kZuJ0Y4Ei_DsRbQcvIpRw\n"
     ]
    },
    {
     "name": "stderr",
     "output_type": "stream",
     "text": [
      "  5%|████                                                                           | 160/3118 [03:19<15:10,  3.25it/s]"
     ]
    },
    {
     "name": "stdout",
     "output_type": "stream",
     "text": [
      "PU3RAHvxRhM6fE6qY6VhksiFt_c-IwTX3kG2G2s7DOMqmqU5WETzoNfX7zQr3x_rT9V9ZWZgwQuzww\n"
     ]
    },
    {
     "name": "stderr",
     "output_type": "stream",
     "text": [
      "  5%|████                                                                           | 161/3118 [03:19<15:03,  3.27it/s]"
     ]
    },
    {
     "name": "stdout",
     "output_type": "stream",
     "text": [
      "YqtXPB-PW1CH5gpu1TQlYXwnTO87kIkI6BPQEin-dWngUe2mNwZ7tCuG8kJPG09E2eODa7VTuEpFnw\n"
     ]
    },
    {
     "name": "stderr",
     "output_type": "stream",
     "text": [
      "  5%|████                                                                           | 162/3118 [03:20<14:45,  3.34it/s]"
     ]
    },
    {
     "name": "stdout",
     "output_type": "stream",
     "text": [
      "3SR1mhPwQe01b8oGCOrOz_sg0kdpvVCcmoOlcb6zk4Ei8Z2pAYtgxtiQGvqPhiQ2advbMuo-FzSEsg\n"
     ]
    },
    {
     "name": "stderr",
     "output_type": "stream",
     "text": [
      "  5%|████▏                                                                          | 163/3118 [03:20<16:04,  3.06it/s]"
     ]
    },
    {
     "name": "stdout",
     "output_type": "stream",
     "text": [
      "cLB9oOiJICJVunill-XyxqB0iaNh_svMl84vF6TxwB6J6sQKS_OMWHvGvO5UMybJushAGIzB9b3HJw\n"
     ]
    },
    {
     "name": "stderr",
     "output_type": "stream",
     "text": [
      "  5%|████▏                                                                          | 164/3118 [03:21<20:08,  2.44it/s]"
     ]
    },
    {
     "name": "stdout",
     "output_type": "stream",
     "text": [
      "QVaTXYzBVlLy_ipX48NNqNgc39kwlmMXv813o0s8m3j5XeRufoFiZcdkKd0fWyngcZ6KSUTcG3BeUA\n"
     ]
    },
    {
     "name": "stderr",
     "output_type": "stream",
     "text": [
      "  5%|████▏                                                                          | 165/3118 [03:21<19:19,  2.55it/s]"
     ]
    },
    {
     "name": "stdout",
     "output_type": "stream",
     "text": [
      "hrR4UBsybW3CPFv1aaJlwmn4kmNpkktgIxePnETsjd4ZvDWvjhrjBTkmFFwoaGR1E1afhod0T4MVIA\n"
     ]
    },
    {
     "name": "stderr",
     "output_type": "stream",
     "text": [
      "  5%|████▏                                                                          | 166/3118 [03:21<20:09,  2.44it/s]"
     ]
    },
    {
     "name": "stdout",
     "output_type": "stream",
     "text": [
      "LV5cCP-72J-Gj3Utu3YlUx4Mq0JGVUGWLrbsK2FwsrYdVkqJkaw4PFhrMpQLmd5K3__6MDV0LyZ_Og\n"
     ]
    },
    {
     "name": "stderr",
     "output_type": "stream",
     "text": [
      "  5%|████▏                                                                          | 167/3118 [03:22<17:43,  2.78it/s]"
     ]
    },
    {
     "name": "stdout",
     "output_type": "stream",
     "text": [
      "YLBy10TeILlUqrxPtOO2Ry5m8eSe6oU7jxtQqJELX4MfgeuD_d1M07A8IwlvxpL9k3xnxedsn6LlZg\n"
     ]
    },
    {
     "name": "stderr",
     "output_type": "stream",
     "text": [
      "  5%|████▎                                                                          | 168/3118 [03:22<16:00,  3.07it/s]"
     ]
    },
    {
     "name": "stdout",
     "output_type": "stream",
     "text": [
      "put7WmuP2Mz_XeTKt19hxKxFxiAWyM26LnNbJbE8LJzz4ft99MRF6CcTzjbs4qFfnDr694HfyxW_wQ\n"
     ]
    },
    {
     "name": "stderr",
     "output_type": "stream",
     "text": [
      "  5%|████▎                                                                          | 169/3118 [03:22<14:44,  3.34it/s]"
     ]
    },
    {
     "name": "stdout",
     "output_type": "stream",
     "text": [
      "9NEgZxvIAnmPgnGPm_j2Gieuhp0iLR3WbP2JREj8Gi1vgN5zGUrubJ9Cctyo8R7qFQoXxhBYQXyLNA\n"
     ]
    },
    {
     "name": "stderr",
     "output_type": "stream",
     "text": [
      "  5%|████▎                                                                          | 170/3118 [03:22<14:13,  3.45it/s]"
     ]
    },
    {
     "name": "stdout",
     "output_type": "stream",
     "text": [
      "jOv4S6H9ITzkLXISrB26XIZOFh6v9lD-e_0cKr2W6Xelb60g65_K5T083JET85aZxW5z5tp7lffFww\n"
     ]
    },
    {
     "name": "stderr",
     "output_type": "stream",
     "text": [
      "  5%|████▎                                                                          | 171/3118 [03:23<13:35,  3.62it/s]"
     ]
    },
    {
     "name": "stdout",
     "output_type": "stream",
     "text": [
      "8UYJ3gBcxz0Rb7UnTen3YjujOLpjxwcqs-4uy4Y9fuDgk6hD5je0GmpjT1DwVahcg6fK-IJIbw4cIA\n"
     ]
    },
    {
     "name": "stderr",
     "output_type": "stream",
     "text": [
      "  6%|████▎                                                                          | 172/3118 [03:23<13:09,  3.73it/s]"
     ]
    },
    {
     "name": "stdout",
     "output_type": "stream",
     "text": [
      "Dk2WuKsltS5k2vvynYrYaG_PtH1d0y-zFnNgLCCbf4DCcHBMQ8mBteqyl1xnA2Xu_4eoO6X0rO5dEg\n"
     ]
    },
    {
     "name": "stderr",
     "output_type": "stream",
     "text": [
      "  6%|████▍                                                                          | 173/3118 [03:23<13:08,  3.73it/s]"
     ]
    },
    {
     "name": "stdout",
     "output_type": "stream",
     "text": [
      "JhNlYEU7HN93nJKHP9dYVg4bh2pCwszVKJzYIfADf1FKJcghiuBxGH7VJ5OR3QUfWRKa9z00kk5-hQ\n"
     ]
    },
    {
     "name": "stderr",
     "output_type": "stream",
     "text": [
      "  6%|████▍                                                                          | 174/3118 [03:23<14:01,  3.50it/s]"
     ]
    },
    {
     "name": "stdout",
     "output_type": "stream",
     "text": [
      "COKSxRIU0CXwWusBV-jVPG73fYuaXly6amZl7aMaV7kfHO89Iz-wccQdUN_M6TWE31qDAUmb2ofJqg\n"
     ]
    },
    {
     "name": "stderr",
     "output_type": "stream",
     "text": [
      "  6%|████▍                                                                          | 175/3118 [03:24<14:49,  3.31it/s]"
     ]
    },
    {
     "name": "stdout",
     "output_type": "stream",
     "text": [
      "DD7aCbMlPfaFYLC_p06XqnwgPfq8qNo5TfkkIJgtfyNX9G4WNI0ZnA8A93vlvYF2cXtqRvhPIVjemg\n"
     ]
    },
    {
     "name": "stderr",
     "output_type": "stream",
     "text": [
      "  6%|████▍                                                                          | 176/3118 [03:24<13:57,  3.51it/s]"
     ]
    },
    {
     "name": "stdout",
     "output_type": "stream",
     "text": [
      "kNG3VgHEUrti5JjATbPvNS3YE6bt7IzIuxZtzcUIWsHRB8xjDuwSbhwEUqIzr20PtS32_35D1DeYsw\n"
     ]
    },
    {
     "name": "stderr",
     "output_type": "stream",
     "text": [
      "  6%|████▍                                                                          | 177/3118 [03:24<13:25,  3.65it/s]"
     ]
    },
    {
     "name": "stdout",
     "output_type": "stream",
     "text": [
      "m8pmATSGOyQuAEvEa7Dv1C-9A39j9lloKii7yCBNStHAZoEql_Ky82y3Xys-D78ICFbJoKZOKi6itQ\n"
     ]
    },
    {
     "name": "stderr",
     "output_type": "stream",
     "text": [
      "  6%|████▌                                                                          | 178/3118 [03:25<12:57,  3.78it/s]"
     ]
    },
    {
     "name": "stdout",
     "output_type": "stream",
     "text": [
      "__3ZoGJSm50SZ6GaLO37i3xXn3hnlD-STssYEEvrNugy3scmcbZ3MwrSmx0j8o6aQwrhE08q4ZylQw\n"
     ]
    },
    {
     "name": "stderr",
     "output_type": "stream",
     "text": [
      "  6%|████▌                                                                          | 179/3118 [03:25<13:12,  3.71it/s]"
     ]
    },
    {
     "name": "stdout",
     "output_type": "stream",
     "text": [
      "723XEvilXZVBi5FHytrKLipFxHyp2Jiz4OtJi0NizNZZBIq1Vy7ESCZCXPmWX9zBNlC3CTTe27wYYg\n"
     ]
    },
    {
     "name": "stderr",
     "output_type": "stream",
     "text": [
      "  6%|████▌                                                                          | 180/3118 [03:25<12:59,  3.77it/s]"
     ]
    },
    {
     "name": "stdout",
     "output_type": "stream",
     "text": [
      "FVVrb-Ode-KHZdEpCPLDAgel48DPhDgxSDV2Q1pz39LU5y3p8cUjkIVQ7eEEPuheDZsgKgOicb7X4Q\n"
     ]
    },
    {
     "name": "stderr",
     "output_type": "stream",
     "text": [
      "  6%|████▌                                                                          | 181/3118 [03:25<13:38,  3.59it/s]"
     ]
    },
    {
     "name": "stdout",
     "output_type": "stream",
     "text": [
      "fAPNyETPDsOehwHJbZhg1T_5H_Q_CFgbF7Yk5Ak2mfPnSwtahasZuCAMMsWkqgk-QSqZhfolvpPfxw\n"
     ]
    },
    {
     "name": "stderr",
     "output_type": "stream",
     "text": [
      "  6%|████▌                                                                          | 182/3118 [03:26<13:21,  3.66it/s]"
     ]
    },
    {
     "name": "stdout",
     "output_type": "stream",
     "text": [
      "OlR937HaGHoTMbMzBxLyEkyotdSyO8RZqNd7v0tt843G7NXrTLNeZy8HpDpiwptNjnhGII57NzXZ9g\n"
     ]
    },
    {
     "name": "stderr",
     "output_type": "stream",
     "text": [
      "  6%|████▋                                                                          | 183/3118 [03:26<13:09,  3.72it/s]"
     ]
    },
    {
     "name": "stdout",
     "output_type": "stream",
     "text": [
      "5GpPnPdlI7s3QGVza05puIV_4da_2Z_xelkyJ7A6BLzTwT_9ci3geYxOwQls08-GEShI2WeoaSYrmw\n"
     ]
    },
    {
     "name": "stderr",
     "output_type": "stream",
     "text": [
      "  6%|████▋                                                                          | 184/3118 [03:26<13:01,  3.76it/s]"
     ]
    },
    {
     "name": "stdout",
     "output_type": "stream",
     "text": [
      "YE-vgMjZLT69AijqnB9Qft6_DlDlc1tK1blGgMXcv6HbWuOye9eqXGlWBR9x7hR4sw_2ujU4qsmNAQ\n"
     ]
    },
    {
     "name": "stderr",
     "output_type": "stream",
     "text": [
      "  6%|████▋                                                                          | 185/3118 [03:27<14:40,  3.33it/s]"
     ]
    },
    {
     "name": "stdout",
     "output_type": "stream",
     "text": [
      "2ISV308jdME_I-hPhSGfQ_JTJPeUHGM5suVtSE4TSkvEgnvVEiFdDuuDmrPuFvZG7Z6IVjmuV7IFmg\n"
     ]
    },
    {
     "name": "stderr",
     "output_type": "stream",
     "text": [
      "  6%|████▋                                                                          | 186/3118 [03:27<13:53,  3.52it/s]"
     ]
    },
    {
     "name": "stdout",
     "output_type": "stream",
     "text": [
      "Sc6bFvIyYQpvZ2UBMYUezi3HCB3lIIsR5rmH3hFV8SGCkdLMdz6yCPJKg61ljj3H7FwuEbd1Z6NduQ\n"
     ]
    },
    {
     "name": "stderr",
     "output_type": "stream",
     "text": [
      "  6%|████▋                                                                          | 187/3118 [03:27<13:24,  3.64it/s]"
     ]
    },
    {
     "name": "stdout",
     "output_type": "stream",
     "text": [
      "HwfbXB5gyTkrJmvnqezQyArs7k9f4owJoOzy5mWIUuvHle8HaYeL4NANQT4Ku2yEffL6uk4kbRnNKw\n"
     ]
    },
    {
     "name": "stderr",
     "output_type": "stream",
     "text": [
      "  6%|████▊                                                                          | 188/3118 [03:27<12:57,  3.77it/s]"
     ]
    },
    {
     "name": "stdout",
     "output_type": "stream",
     "text": [
      "ZDeShwKplEtfZ-JVTaRywfgtWtTvI7rNLuhJatcKejBZ3ZmOm5l1tg2Te2y2oWiQCQI9kAIGp0h_lg\n"
     ]
    },
    {
     "name": "stderr",
     "output_type": "stream",
     "text": [
      "  6%|████▊                                                                          | 189/3118 [03:28<12:42,  3.84it/s]"
     ]
    },
    {
     "name": "stdout",
     "output_type": "stream",
     "text": [
      "1HCTklV3MJ48FIqn8Fr6PKlwFNhQpIxdUtfD5njj8B44BuFkNyVM_W9riZa9W6vifDwsyqS98arwqw\n"
     ]
    },
    {
     "name": "stderr",
     "output_type": "stream",
     "text": [
      "  6%|████▊                                                                          | 190/3118 [03:28<12:46,  3.82it/s]"
     ]
    },
    {
     "name": "stdout",
     "output_type": "stream",
     "text": [
      "Z4y0yAjmRG97NVCdReT_sgbLq7Q7v7gUkUPgke9M1Lh_yfks1EoE4ndbgww45Mar7PNfFOqgPyv_OA\n"
     ]
    },
    {
     "name": "stderr",
     "output_type": "stream",
     "text": [
      "  6%|████▊                                                                          | 191/3118 [03:28<12:32,  3.89it/s]"
     ]
    },
    {
     "name": "stdout",
     "output_type": "stream",
     "text": [
      "3j4Ut4J62mN2QW_XDaI2Oebx5fMe1AqRA_8FD4LsfVleQFAytbod3D10AilX4oiRk1KwEK5peSb4yg\n"
     ]
    },
    {
     "name": "stderr",
     "output_type": "stream",
     "text": [
      "  6%|████▊                                                                          | 192/3118 [03:28<12:35,  3.87it/s]"
     ]
    },
    {
     "name": "stdout",
     "output_type": "stream",
     "text": [
      "qLSzsoH9ujFJIaz5Z5YaBg4mHCoArLtLXU-4CFyaPlfRb4IsVhL93Yyr-sru-YrDbs9j00mK1HQdNw\n"
     ]
    },
    {
     "name": "stderr",
     "output_type": "stream",
     "text": [
      "  6%|████▉                                                                          | 193/3118 [03:29<12:38,  3.86it/s]"
     ]
    },
    {
     "name": "stdout",
     "output_type": "stream",
     "text": [
      "RwyUr01fTebU9vCyRd-eDz2NRAAjReAboGRnbRAVunku5_k3R9-Ne13JAWUwdPSWquaPTeBT91S7SQ\n"
     ]
    },
    {
     "name": "stderr",
     "output_type": "stream",
     "text": [
      "  6%|████▉                                                                          | 194/3118 [03:29<12:40,  3.84it/s]"
     ]
    },
    {
     "name": "stdout",
     "output_type": "stream",
     "text": [
      "7OPPELr2k11Aua_cT-zQcF0n1g5keb_xdDnACxMpVK7RKDrDh8tRxrNGA2xkfBXqa4TrybuTKyfg_g\n"
     ]
    },
    {
     "name": "stderr",
     "output_type": "stream",
     "text": [
      "  6%|████▉                                                                          | 195/3118 [03:29<12:56,  3.76it/s]"
     ]
    },
    {
     "name": "stdout",
     "output_type": "stream",
     "text": [
      "aqFQSgyswSaSypEO1XXT-MMlgY8ZXNtbf7MqnosyDI899IQwcAJCJdRFtN9hVHYmoiQ8pLTdNb2NKg\n"
     ]
    },
    {
     "name": "stderr",
     "output_type": "stream",
     "text": [
      "  6%|████▉                                                                          | 196/3118 [03:29<13:03,  3.73it/s]"
     ]
    },
    {
     "name": "stdout",
     "output_type": "stream",
     "text": [
      "nXsytxI9sgEA6DLqpRngOHNR6W3Dew13zOYwpzOKF9UyjYhQI6LjoReuLWtvVF-EOimRrYmZspOscQ\n"
     ]
    },
    {
     "name": "stderr",
     "output_type": "stream",
     "text": [
      "  6%|████▉                                                                          | 197/3118 [03:30<12:48,  3.80it/s]"
     ]
    },
    {
     "name": "stdout",
     "output_type": "stream",
     "text": [
      "wqhMkiRYJvv-OW9KOiG-pNgPVlzTzqg3_FE0X7viAXfan2mizntU5ENr2sW40VdGF6q-ogGRazAL_g\n"
     ]
    },
    {
     "name": "stderr",
     "output_type": "stream",
     "text": [
      "  6%|█████                                                                          | 198/3118 [03:30<14:24,  3.38it/s]"
     ]
    },
    {
     "name": "stdout",
     "output_type": "stream",
     "text": [
      "97a17Hqem5U0Zz_8dxK58-Rgb17eAWszFBerDfYCrLx65yIxzqwkjsHt0fW7y3c1kd2WwSCQSneUjA\n"
     ]
    },
    {
     "name": "stderr",
     "output_type": "stream",
     "text": [
      "  6%|█████                                                                          | 199/3118 [03:30<14:08,  3.44it/s]"
     ]
    },
    {
     "name": "stdout",
     "output_type": "stream",
     "text": [
      "4Z7dfsfdfASBgX7NDYhIK4uPKQzcAkcLKhWchrPCoGxKHvvCT7C87tP49krPGAyYH0Afzb21BfbQEQ\n"
     ]
    },
    {
     "name": "stderr",
     "output_type": "stream",
     "text": [
      "  6%|█████                                                                          | 200/3118 [03:31<13:35,  3.58it/s]"
     ]
    },
    {
     "name": "stdout",
     "output_type": "stream",
     "text": [
      "NBljlkBKh0mNMrspyLSRhOcs6KUpTFN8-gnJ1zhnRA-igrejFIm5Wkla29TuDtaumLp0JsB1526g3w\n"
     ]
    },
    {
     "name": "stderr",
     "output_type": "stream",
     "text": [
      "  6%|█████                                                                          | 201/3118 [03:31<13:02,  3.73it/s]"
     ]
    },
    {
     "name": "stdout",
     "output_type": "stream",
     "text": [
      "8f68nw7Z4jEaohr-JxqL8yIzlYGCXAOZXZI6B7cGJmQknzLl0I1QYkVQ8upW6llTbG-SIfmawfxEhA\n"
     ]
    },
    {
     "name": "stderr",
     "output_type": "stream",
     "text": [
      "  6%|█████                                                                          | 202/3118 [03:31<12:41,  3.83it/s]"
     ]
    },
    {
     "name": "stdout",
     "output_type": "stream",
     "text": [
      "V051l6nAheMLNdvYyasvOr6HdhNZqgNwTKkWINM68mRJRjg9o6AStyfE_ycbzSpdqLu65GWw83RbMQ\n"
     ]
    },
    {
     "name": "stderr",
     "output_type": "stream",
     "text": [
      "  7%|█████▏                                                                         | 203/3118 [03:31<12:28,  3.89it/s]"
     ]
    },
    {
     "name": "stdout",
     "output_type": "stream",
     "text": [
      "LuzHN82auhquHh-Ex-_wvKghPNuboyJBxq4UaXJpHdQ58uLc-y5RoCDwdcfJEn2hoiYDPE1jxI5uTA\n"
     ]
    },
    {
     "name": "stderr",
     "output_type": "stream",
     "text": [
      "  7%|█████▏                                                                         | 204/3118 [03:32<12:14,  3.97it/s]"
     ]
    },
    {
     "name": "stdout",
     "output_type": "stream",
     "text": [
      "ePigPqH8e-XxtCq9qnambfjuH-yd6-aO8rHD3iwwUbmUZIMENp1PbzuVSFF_UL5SVpYoJHMq6ohshA\n"
     ]
    },
    {
     "name": "stderr",
     "output_type": "stream",
     "text": [
      "  7%|█████▏                                                                         | 205/3118 [03:32<15:09,  3.20it/s]"
     ]
    },
    {
     "name": "stdout",
     "output_type": "stream",
     "text": [
      "ZzLJa6627DKFIvvmDJ4CB-8Be92nYcqDjQMTLsyNkVhss80DcQmyxaELJM5_FiFCh4Ds-b-ukmiS9w\n"
     ]
    },
    {
     "name": "stderr",
     "output_type": "stream",
     "text": [
      "  7%|█████▏                                                                         | 206/3118 [03:32<14:38,  3.31it/s]"
     ]
    },
    {
     "name": "stdout",
     "output_type": "stream",
     "text": [
      "_C88EvJQ_oQRdC5Jie3EOM1VXHC0JwG01j2yxz1J75UtjrNHG38BxPJrLTopEUp_gRBH__MBz_gzBA\n"
     ]
    },
    {
     "name": "stderr",
     "output_type": "stream",
     "text": [
      "  7%|█████▏                                                                         | 207/3118 [03:32<14:02,  3.46it/s]"
     ]
    },
    {
     "name": "stdout",
     "output_type": "stream",
     "text": [
      "v_e2lzHLpDpa6-ahVV49EOuzkHv3ioqx6qu0HVOl33r3Ux6HmgBCDYbK-xbcMbKAa2NjrMKQtytQJg\n"
     ]
    },
    {
     "name": "stderr",
     "output_type": "stream",
     "text": [
      "  7%|█████▎                                                                         | 208/3118 [03:33<13:26,  3.61it/s]"
     ]
    },
    {
     "name": "stdout",
     "output_type": "stream",
     "text": [
      "wyXMmCXarh4tnVciHCdSjUWfO5aUiVO5-dRKNmmSwM0_IUKPPiN19GJfJZMYlEMZ4UtJLd4dC8GQog\n"
     ]
    },
    {
     "name": "stderr",
     "output_type": "stream",
     "text": [
      "  7%|█████▎                                                                         | 209/3118 [03:33<12:55,  3.75it/s]"
     ]
    },
    {
     "name": "stdout",
     "output_type": "stream",
     "text": [
      "KF80A1pWNe_LFcAcEAVEmf5v_CQQeA3zM9ZRUM0bxBxFAmR8bsg4aLBMNxae68xp5S-ctFVb8rGE0w\n"
     ]
    },
    {
     "name": "stderr",
     "output_type": "stream",
     "text": [
      "  7%|█████▎                                                                         | 210/3118 [03:33<12:51,  3.77it/s]"
     ]
    },
    {
     "name": "stdout",
     "output_type": "stream",
     "text": [
      "kkAscZd6hMRMFnjXKNhcDyKfLXj1oUrrgRyw13Zh-WCjNjSo73SSAmAhb87QiE77byUwTn-8vS7gCA\n"
     ]
    },
    {
     "name": "stderr",
     "output_type": "stream",
     "text": [
      "  7%|█████▎                                                                         | 211/3118 [03:33<12:31,  3.87it/s]"
     ]
    },
    {
     "name": "stdout",
     "output_type": "stream",
     "text": [
      "Xq-zxs_rUuD3ylBLXTbJx8vRxDtjX_hju_259NmF4Fc6Wvm5jLvkMbhKI2JkMqhdEasJF3iZXHLovQ\n"
     ]
    },
    {
     "name": "stderr",
     "output_type": "stream",
     "text": [
      "  7%|█████▎                                                                         | 212/3118 [03:34<12:26,  3.89it/s]"
     ]
    },
    {
     "name": "stdout",
     "output_type": "stream",
     "text": [
      "ivxN_noywwPXYVTrXBdLA0qXB2O9I3UoJsPzEn65azFLQwjMIQB4ypiVBPixTBcGYVQWn-JiCkxR9A\n",
      "api cost full : infinite loop start\n",
      "loop location :  785hr7vhE1tVC0_ATU73c19TpkhzY8zLFvgrb6heYz2hFSb92qvcMk8L7A\n",
      "try 10 second wait time\n",
      "429\n",
      "try 10 second wait time\n",
      "429\n",
      "try 10 second wait time\n",
      "429\n",
      "try 10 second wait time\n",
      "429\n",
      "try 10 second wait time\n",
      "429\n",
      "try 10 second wait time\n",
      "429\n",
      "try 10 second wait time\n",
      "429\n",
      "try 10 second wait time\n",
      "429\n",
      "try 10 second wait time\n"
     ]
    },
    {
     "name": "stderr",
     "output_type": "stream",
     "text": [
      "  7%|█████▏                                                                      | 213/3118 [05:06<22:33:18, 27.95s/it]"
     ]
    },
    {
     "name": "stdout",
     "output_type": "stream",
     "text": [
      "200\n",
      "total wait time :  92.32223343849182\n",
      "recovery api cost\n",
      "3pq_sOr1_4zxEXqI622BfI1kxLKJ_qeE-DZperxEFAAy-VnmvHRM26igdJScPi-LR7hDeVDaEnuOow\n"
     ]
    },
    {
     "name": "stderr",
     "output_type": "stream",
     "text": [
      "  7%|█████▏                                                                      | 214/3118 [05:07<15:53:25, 19.70s/it]"
     ]
    },
    {
     "name": "stdout",
     "output_type": "stream",
     "text": [
      "F9e4npn0S6BwNwcvIXWti18UOJQfXVfPHDHaAljsxU-9u5-lWIl29VTRpRQIVb8-uBra_Y4dOF271Q\n"
     ]
    },
    {
     "name": "stderr",
     "output_type": "stream",
     "text": [
      "  7%|█████▏                                                                      | 215/3118 [05:07<11:11:40, 13.88s/it]"
     ]
    },
    {
     "name": "stdout",
     "output_type": "stream",
     "text": [
      "3S47h4CxtHQIdBIBliix3-_iFMy3sVI0i3rlIysyqKg0ZsY8grYk4p46fz8SdhxRYbbcR2cSzIZsvQ\n"
     ]
    },
    {
     "name": "stderr",
     "output_type": "stream",
     "text": [
      "  7%|█████▎                                                                       | 216/3118 [05:07<7:54:06,  9.80s/it]"
     ]
    },
    {
     "name": "stdout",
     "output_type": "stream",
     "text": [
      "n7D4yLMVfxeV8KSKlkhonBDIoOcAg_Vn4AZx1R3fyIOUxuId-v8Z0kYFjAe5ywzB0XadUZRyRmpkjg\n"
     ]
    },
    {
     "name": "stderr",
     "output_type": "stream",
     "text": [
      "  7%|█████▎                                                                       | 217/3118 [05:08<5:35:27,  6.94s/it]"
     ]
    },
    {
     "name": "stdout",
     "output_type": "stream",
     "text": [
      "B5KSO2Ya6veWbrIZN4xNnsNFoV9QCb4H0Pnn4AJWRWWbBpU8__IPVNuFqj9iVEf_nRazeWb9zLLAaQ\n"
     ]
    },
    {
     "name": "stderr",
     "output_type": "stream",
     "text": [
      "  7%|█████▍                                                                       | 218/3118 [05:08<3:58:50,  4.94s/it]"
     ]
    },
    {
     "name": "stdout",
     "output_type": "stream",
     "text": [
      "Q5Fquhlcp5lcvehk0JyR9gDkURhSqmvxCcZTsjMJ0xp12okBAKNVJT1YXoCaUkq9vpN9pgMdqnxsOQ\n"
     ]
    },
    {
     "name": "stderr",
     "output_type": "stream",
     "text": [
      "  7%|█████▍                                                                       | 219/3118 [05:08<2:50:49,  3.54s/it]"
     ]
    },
    {
     "name": "stdout",
     "output_type": "stream",
     "text": [
      "CrbbyiRUwozYHflhq-JCn5H_JC781JYfPPsW1YK9OcB0kr64m0-_RuNOj7YbyrrycXyPH6VkCSOozQ\n"
     ]
    },
    {
     "name": "stderr",
     "output_type": "stream",
     "text": [
      "  7%|█████▍                                                                       | 220/3118 [05:08<2:03:22,  2.55s/it]"
     ]
    },
    {
     "name": "stdout",
     "output_type": "stream",
     "text": [
      "Tda1h9T6GpU7WUlVKWkug0Ns_Cma11Oz30vuDmtPa0_J7Hv8VQv0mEpNfScSQfCjhFzs6KtQTw4Esg\n"
     ]
    },
    {
     "name": "stderr",
     "output_type": "stream",
     "text": [
      "  7%|█████▍                                                                       | 221/3118 [05:09<1:30:16,  1.87s/it]"
     ]
    },
    {
     "name": "stdout",
     "output_type": "stream",
     "text": [
      "3Q8p1jIklKIEi9JnYpCA9O8yy24-j9tveDQIgbe24lfOJuMki7oo3QcHDmN2xhwju4A46cawASjGPw\n"
     ]
    },
    {
     "name": "stderr",
     "output_type": "stream",
     "text": [
      "  7%|█████▍                                                                       | 222/3118 [05:09<1:07:25,  1.40s/it]"
     ]
    },
    {
     "name": "stdout",
     "output_type": "stream",
     "text": [
      "rN9WwKgokV8ph-7GA_5FBy09C9noFHrzXNfZovf5MZ6d8lgCKvxwqhdAvSGW-iRkoZktqo1vDrW71g\n"
     ]
    },
    {
     "name": "stderr",
     "output_type": "stream",
     "text": [
      "  7%|█████▋                                                                         | 223/3118 [05:09<51:13,  1.06s/it]"
     ]
    },
    {
     "name": "stdout",
     "output_type": "stream",
     "text": [
      "he5-ZBYqE7OzkMgp7AlaDOQ3F9LmQkCIgX9jhk8YRb6whaIqJ6qlrFeAn2Jn-WRX1qw4Soxk9cQOMg\n"
     ]
    },
    {
     "name": "stderr",
     "output_type": "stream",
     "text": [
      "  7%|█████▋                                                                         | 224/3118 [05:09<39:13,  1.23it/s]"
     ]
    },
    {
     "name": "stdout",
     "output_type": "stream",
     "text": [
      "Y23XufDKxu-jZKbsEJTUaq7x6hOamItt-rhdnjnWxiMbOFZY2bLFdeXer02qNwVxNou1-hR5Kgwg2A\n"
     ]
    },
    {
     "name": "stderr",
     "output_type": "stream",
     "text": [
      "  7%|█████▋                                                                         | 225/3118 [05:10<31:12,  1.55it/s]"
     ]
    },
    {
     "name": "stdout",
     "output_type": "stream",
     "text": [
      "7znW0EGdf11tXfW-ZMeuJUU7HDNvgvAEVGCujfYa097xD902mr_C1E9ttjVJW5oJjYlm1GboG2FrrQ\n"
     ]
    },
    {
     "name": "stderr",
     "output_type": "stream",
     "text": [
      "  7%|█████▋                                                                         | 226/3118 [05:10<25:38,  1.88it/s]"
     ]
    },
    {
     "name": "stdout",
     "output_type": "stream",
     "text": [
      "1DMf5SDqsj55aeBgxWjbr_NukSS5URFLwwLBqQQOvKD8KR86dPrfzlNmXVkmjE8ITTbfzjJFREiO0w\n"
     ]
    },
    {
     "name": "stderr",
     "output_type": "stream",
     "text": [
      "  7%|█████▊                                                                         | 227/3118 [05:10<22:24,  2.15it/s]"
     ]
    },
    {
     "name": "stdout",
     "output_type": "stream",
     "text": [
      "Ho2g_Wm1jO1D_rure0xgThDfIeVWIHa1be4AFPXlOwvKJHa7KxEl2ItXkhXo-V-IsFYaailtqn9h4Q\n"
     ]
    },
    {
     "name": "stderr",
     "output_type": "stream",
     "text": [
      "  7%|█████▊                                                                         | 228/3118 [05:11<19:22,  2.49it/s]"
     ]
    },
    {
     "name": "stdout",
     "output_type": "stream",
     "text": [
      "HU0py2gmhL4yIGkJYtjombVAbO3aYpfSndM-plNN_xkjGBRR_r3tInfrGOLPpTiD-YNcej_CHB-_aw\n"
     ]
    },
    {
     "name": "stderr",
     "output_type": "stream",
     "text": [
      "  7%|█████▊                                                                         | 229/3118 [05:11<18:57,  2.54it/s]"
     ]
    },
    {
     "name": "stdout",
     "output_type": "stream",
     "text": [
      "xxX_2NLE7qbnc3Pu6OFxwcTC0ggDtNLdxBVN3gGb0WaJoeMN9hZ1KcrZApWRwe3YmUuFUn8ssQGFpQ\n"
     ]
    },
    {
     "name": "stderr",
     "output_type": "stream",
     "text": [
      "  7%|█████▊                                                                         | 230/3118 [05:11<16:53,  2.85it/s]"
     ]
    },
    {
     "name": "stdout",
     "output_type": "stream",
     "text": [
      "oQzQdd03Q2mDolqEowVQ-bqjPw8eM5t3xlU1S8ABRHAvQ0Az-JykuokEnZMWsPEwV7GGl_thePZcEQ\n"
     ]
    },
    {
     "name": "stderr",
     "output_type": "stream",
     "text": [
      "  7%|█████▊                                                                         | 231/3118 [05:11<15:50,  3.04it/s]"
     ]
    },
    {
     "name": "stdout",
     "output_type": "stream",
     "text": [
      "4ktCE7-7Kz1fNZ3_MHq2jR4G2ghLEybD7Ng8lMM9mGZ9272MIPvLGvRGX6vCqYYT03m3IDx0BICA0A\n"
     ]
    },
    {
     "name": "stderr",
     "output_type": "stream",
     "text": [
      "  7%|█████▉                                                                         | 232/3118 [05:12<15:09,  3.17it/s]"
     ]
    },
    {
     "name": "stdout",
     "output_type": "stream",
     "text": [
      "11DvBptc3u6p3E4LLQZyTNsWYoKA6gGKLF0NshJwDIs06u68VvYqb1S13QqgaZywr--Uii9sGMsGiA\n"
     ]
    },
    {
     "name": "stderr",
     "output_type": "stream",
     "text": [
      "  7%|█████▉                                                                         | 233/3118 [05:12<14:15,  3.37it/s]"
     ]
    },
    {
     "name": "stdout",
     "output_type": "stream",
     "text": [
      "XIl5zXZ_CKrpfSfooNbf-T0V4SrSytWg3CcNOmAGoHzC6JlcW4P00LTIButE3NwPTdCX6wLXPoG7DA\n"
     ]
    },
    {
     "name": "stderr",
     "output_type": "stream",
     "text": [
      "  8%|█████▉                                                                         | 234/3118 [05:12<14:23,  3.34it/s]"
     ]
    },
    {
     "name": "stdout",
     "output_type": "stream",
     "text": [
      "wfCFMqINrkk3LOVw6ZQb9ACbmtDaC9AaM6z3_a6I3zMZUmYGOfUjdvQtKmyrxRbe-DATtnM_dGfKCA\n"
     ]
    },
    {
     "name": "stderr",
     "output_type": "stream",
     "text": [
      "  8%|█████▉                                                                         | 235/3118 [05:13<13:47,  3.49it/s]"
     ]
    },
    {
     "name": "stdout",
     "output_type": "stream",
     "text": [
      "chDOv4SzFwM9i_hx0y5wIWcFa82OiPk7vT2R13P3ob2YopceWPjMTdfunITKIKJcxI44t9iccHd4cw\n"
     ]
    },
    {
     "name": "stderr",
     "output_type": "stream",
     "text": [
      "  8%|█████▉                                                                         | 236/3118 [05:13<14:05,  3.41it/s]"
     ]
    },
    {
     "name": "stdout",
     "output_type": "stream",
     "text": [
      "9Zdi3fafgrcQuSpblOWlZ0btF6qQKioEYUiuPxnIP5nU8IdvoHfl9MEZOog5jmztyrdjZJ8LpHjy3Q\n"
     ]
    },
    {
     "name": "stderr",
     "output_type": "stream",
     "text": [
      "  8%|██████                                                                         | 237/3118 [05:13<14:22,  3.34it/s]"
     ]
    },
    {
     "name": "stdout",
     "output_type": "stream",
     "text": [
      "MQfpMaa6o46aIwokfguH0XSSLwkcLqp9oZ5Z15wUAJTyN9UrVUvXqwAoKZ8bV68spWgsNPxJJdK_VA\n"
     ]
    },
    {
     "name": "stderr",
     "output_type": "stream",
     "text": [
      "  8%|██████                                                                         | 238/3118 [05:14<15:52,  3.02it/s]"
     ]
    },
    {
     "name": "stdout",
     "output_type": "stream",
     "text": [
      "ArsTfI50M1IOxnvxnEwMwj1FM9-19eZRLXC2PFxuzXcOFA9xQ29fYg7ovbVtLY9qWqXzIwijf1Rjew\n"
     ]
    },
    {
     "name": "stderr",
     "output_type": "stream",
     "text": [
      "  8%|██████                                                                         | 239/3118 [05:14<14:47,  3.24it/s]"
     ]
    },
    {
     "name": "stdout",
     "output_type": "stream",
     "text": [
      "LjBBGxzeGnswZKuaeIR8v7cWLgftWGFt_wuYDEuUgZlTS8a-swe0hkiPTkCujQ8a3cBnH3cRvPmwWA\n"
     ]
    },
    {
     "name": "stderr",
     "output_type": "stream",
     "text": [
      "  8%|██████                                                                         | 240/3118 [05:14<14:32,  3.30it/s]"
     ]
    },
    {
     "name": "stdout",
     "output_type": "stream",
     "text": [
      "74NJ-l-a-aI0J6S994I1RepE0loqrym-S-0_9js5VZQe6i-IWyHzuIP6mEe3vL8MTF_UKHtgL-uyFw\n"
     ]
    },
    {
     "name": "stderr",
     "output_type": "stream",
     "text": [
      "  8%|██████                                                                         | 241/3118 [05:14<13:55,  3.44it/s]"
     ]
    },
    {
     "name": "stdout",
     "output_type": "stream",
     "text": [
      "CskWlSunYLQHl7uXDraVDDQRtGt21Z9XG-RWoegx0hrH8cpO9726DPKLKAerzuKAujVfBNDlBWNbXA\n"
     ]
    },
    {
     "name": "stderr",
     "output_type": "stream",
     "text": [
      "  8%|██████▏                                                                        | 242/3118 [05:15<13:35,  3.53it/s]"
     ]
    },
    {
     "name": "stdout",
     "output_type": "stream",
     "text": [
      "WSEuq7-GfKATZzyPTv-jGW45xYZJtwLG9yzlvokBeH-r7hKnm6efWSQrnHVqFbUO6LX5mjcy0dUyDA\n"
     ]
    },
    {
     "name": "stderr",
     "output_type": "stream",
     "text": [
      "  8%|██████▏                                                                        | 243/3118 [05:15<13:57,  3.43it/s]"
     ]
    },
    {
     "name": "stdout",
     "output_type": "stream",
     "text": [
      "rWfJLjiriFoNZn-45Dz7iRiR0L0mvZkqcALTp-S6Q7TU8R3J-86n8KGy-uUaWtCXV4pIqxw4kmI7oA\n"
     ]
    },
    {
     "name": "stderr",
     "output_type": "stream",
     "text": [
      "  8%|██████▏                                                                        | 244/3118 [05:15<13:37,  3.52it/s]"
     ]
    },
    {
     "name": "stdout",
     "output_type": "stream",
     "text": [
      "goPVjZu8PRXKU0ldkgGC9KLBmUmTouU2JqGctitvgg0cnN7H2Ob1bK3Vj5gFs9u1KafnLXCwc3n3hA\n"
     ]
    },
    {
     "name": "stderr",
     "output_type": "stream",
     "text": [
      "  8%|██████▏                                                                        | 245/3118 [05:16<13:26,  3.56it/s]"
     ]
    },
    {
     "name": "stdout",
     "output_type": "stream",
     "text": [
      "16-tj37dyKqA4YXO1tRaxJJahTjA7w__Iam0NQ3H1lOXPamHsriX65B8ofTROOhDcqQ2-7V0enIDFg\n"
     ]
    },
    {
     "name": "stderr",
     "output_type": "stream",
     "text": [
      "  8%|██████▏                                                                        | 246/3118 [05:16<14:22,  3.33it/s]"
     ]
    },
    {
     "name": "stdout",
     "output_type": "stream",
     "text": [
      "d8hcl1a3bXXRqBS3zgB3dBKvPAt8JPpTMvvFDqCpg7oqkEk3xRv61SajqvhwartaOJ0lN2VEyMgImA\n"
     ]
    },
    {
     "name": "stderr",
     "output_type": "stream",
     "text": [
      "  8%|██████▎                                                                        | 247/3118 [05:16<14:03,  3.41it/s]"
     ]
    },
    {
     "name": "stdout",
     "output_type": "stream",
     "text": [
      "wn9toF5pIbl7pmvyDF5GXQfZdsCAhmgfVub6v07Rzqa1w78RM_XDEaaz689wSptTxB4e3kcujZDKmw\n"
     ]
    },
    {
     "name": "stderr",
     "output_type": "stream",
     "text": [
      "  8%|██████▎                                                                        | 248/3118 [05:16<13:56,  3.43it/s]"
     ]
    },
    {
     "name": "stdout",
     "output_type": "stream",
     "text": [
      "k92Asa4PO3vsEVu6-78_nF2LuYa0P7xbsjHsV7BIy0ZSnU7ve6PcFBBP-sDlxQxx0UbIoULYYKO_Qw\n"
     ]
    },
    {
     "name": "stderr",
     "output_type": "stream",
     "text": [
      "  8%|██████▎                                                                        | 249/3118 [05:17<13:31,  3.53it/s]"
     ]
    },
    {
     "name": "stdout",
     "output_type": "stream",
     "text": [
      "Ccuy9joVpDhiTuEIk9kdMCaCc6sHv2k-dMQi15z2ufmuU2n4ocHebdd1B4e3Ouyq0G2C3YXl2zMwWw\n"
     ]
    },
    {
     "name": "stderr",
     "output_type": "stream",
     "text": [
      "  8%|██████▎                                                                        | 250/3118 [05:17<12:52,  3.71it/s]"
     ]
    },
    {
     "name": "stdout",
     "output_type": "stream",
     "text": [
      "Tz-u2wMPAtCQsp68Qz4xdVimseT7jjJYnXmTqrsldMr6XdXonVolqiW--Z8MjwGnGHqcOnqfxxG6GA\n"
     ]
    },
    {
     "name": "stderr",
     "output_type": "stream",
     "text": [
      "  8%|██████▎                                                                        | 251/3118 [05:17<13:15,  3.60it/s]"
     ]
    },
    {
     "name": "stdout",
     "output_type": "stream",
     "text": [
      "eV3KMNePJRESLPRVxCWat9x9skAYLUPf-TXPveflKLsmhpTyD23WkDUc3NnDOZGfsT4pWFOZ9l5sMQ\n"
     ]
    },
    {
     "name": "stderr",
     "output_type": "stream",
     "text": [
      "  8%|██████▍                                                                        | 252/3118 [05:18<13:12,  3.62it/s]"
     ]
    },
    {
     "name": "stdout",
     "output_type": "stream",
     "text": [
      "6kN1IeeU52UueTKqDhghezssS03GzKdD93EH8885MiwyBdZCz4lT_vm6CiWrpooZitGO-ufwq6P3lg\n"
     ]
    },
    {
     "name": "stderr",
     "output_type": "stream",
     "text": [
      "  8%|██████▍                                                                        | 253/3118 [05:18<12:46,  3.74it/s]"
     ]
    },
    {
     "name": "stdout",
     "output_type": "stream",
     "text": [
      "ve8PW5jZFdGIYII3C6N9d93oRRSWBmJKu8BtU_rpRmWHeH03gCN8p7tdlJajk8P_Ci2HoEBNJz0wOw\n"
     ]
    },
    {
     "name": "stderr",
     "output_type": "stream",
     "text": [
      "  8%|██████▍                                                                        | 254/3118 [05:18<12:36,  3.78it/s]"
     ]
    },
    {
     "name": "stdout",
     "output_type": "stream",
     "text": [
      "1C0meBsfrUvT_juTplPHZvYh26wbXpUOG211Chmw6CsMBy-9LZhjxGg15gkEwAp5LfuOCmEr_8iGgg\n"
     ]
    },
    {
     "name": "stderr",
     "output_type": "stream",
     "text": [
      "  8%|██████▍                                                                        | 255/3118 [05:18<13:30,  3.53it/s]"
     ]
    },
    {
     "name": "stdout",
     "output_type": "stream",
     "text": [
      "WLFbBK_ZnqKbpGVI0ij4iLPg3fNcLcuW3H_7BgWGAkJob2IoZJd_k2v5C9UgFPP2jx2oHPZ7zSVx2w\n"
     ]
    },
    {
     "name": "stderr",
     "output_type": "stream",
     "text": [
      "  8%|██████▍                                                                        | 256/3118 [05:19<13:10,  3.62it/s]"
     ]
    },
    {
     "name": "stdout",
     "output_type": "stream",
     "text": [
      "j3P-dxQ6hLUrsNLn_kB18CUVaoBYOid8a_LhTYpq-T0x1bWiPR6LOX1_VHcraKhRDDD4UWs0esRikQ\n"
     ]
    },
    {
     "name": "stderr",
     "output_type": "stream",
     "text": [
      "  8%|██████▌                                                                        | 257/3118 [05:19<13:05,  3.64it/s]"
     ]
    },
    {
     "name": "stdout",
     "output_type": "stream",
     "text": [
      "eFWgtVyd1IfPgLh_8s0BHBNEojJBkNp2Dp8VtFVOLjWUdMN6K1y_4tRX65iSsP7fQeIIbMKxnzO2Ww\n"
     ]
    },
    {
     "name": "stderr",
     "output_type": "stream",
     "text": [
      "  8%|██████▌                                                                        | 258/3118 [05:19<12:38,  3.77it/s]"
     ]
    },
    {
     "name": "stdout",
     "output_type": "stream",
     "text": [
      "Wo_Jsu75s1u3JP-fp1Pc5-KpAnx7jWrMGoxuBoVbDi_qgnJYcjFuqu1XXRNgdRMFWuVysCTThSt8yA\n"
     ]
    },
    {
     "name": "stderr",
     "output_type": "stream",
     "text": [
      "  8%|██████▌                                                                        | 259/3118 [05:19<14:15,  3.34it/s]"
     ]
    },
    {
     "name": "stdout",
     "output_type": "stream",
     "text": [
      "uQw0JwaAJVy0I5_HcWQBSlLXXgyXIrC8Mtfzu8mdK5UOtqUiptoNz8PZ6lweNI11ssWi6y0OXsK6UA\n"
     ]
    },
    {
     "name": "stderr",
     "output_type": "stream",
     "text": [
      "  8%|██████▌                                                                        | 260/3118 [05:20<14:16,  3.34it/s]"
     ]
    },
    {
     "name": "stdout",
     "output_type": "stream",
     "text": [
      "Xte79caxXcyEfI4JmBDJelLAQNgRmVxI_VQLDaseVEiyF1z072B2raZETi2oupyspfNGC0GWgXy4TQ\n"
     ]
    },
    {
     "name": "stderr",
     "output_type": "stream",
     "text": [
      "  8%|██████▌                                                                        | 261/3118 [05:20<13:40,  3.48it/s]"
     ]
    },
    {
     "name": "stdout",
     "output_type": "stream",
     "text": [
      "QcE59XKxpN7a8vv-ayk0v54jmWXixS7RvWCeS_1Gh2gtxK-jyVc9VU_Ze4uXBHLsVAicaMKmtmG5wg\n"
     ]
    },
    {
     "name": "stderr",
     "output_type": "stream",
     "text": [
      "  8%|██████▋                                                                        | 262/3118 [05:20<13:09,  3.62it/s]"
     ]
    },
    {
     "name": "stdout",
     "output_type": "stream",
     "text": [
      "jnf0wW8OszF3jEdLRdFRV-oRY3BeNnO_Wtgli1eeEW2PaSnn9B5LklwLkZTZVSup-IriXAmvozZL-g\n"
     ]
    },
    {
     "name": "stderr",
     "output_type": "stream",
     "text": [
      "  8%|██████▋                                                                        | 263/3118 [05:21<12:49,  3.71it/s]"
     ]
    },
    {
     "name": "stdout",
     "output_type": "stream",
     "text": [
      "M4Op_a70C2Zf7wGBOvfZkhHACRpeU1sPSwyamO-bI-gNjcXb8CCgjDCkzXK5bj1eI4jY7xMG7ydr4Q\n"
     ]
    },
    {
     "name": "stderr",
     "output_type": "stream",
     "text": [
      "  8%|██████▋                                                                        | 264/3118 [05:21<12:31,  3.80it/s]"
     ]
    },
    {
     "name": "stdout",
     "output_type": "stream",
     "text": [
      "v85s7wGcPuZ6E1n62NX162m12X92JVVp4BXMYzbtYCw6KyZzyuOmFxYzhuCt6qaaXv025TxEKhguPQ\n"
     ]
    },
    {
     "name": "stderr",
     "output_type": "stream",
     "text": [
      "  8%|██████▋                                                                        | 265/3118 [05:21<12:46,  3.72it/s]"
     ]
    },
    {
     "name": "stdout",
     "output_type": "stream",
     "text": [
      "r0Ca36z6qtcoR0YFQ8JClFTNSflw_LCe8WKDce5kwSR5NgYFb4dK0NE1X6TujR5XAJ1zWUwuoTh7rg\n"
     ]
    },
    {
     "name": "stderr",
     "output_type": "stream",
     "text": [
      "  9%|██████▋                                                                        | 266/3118 [05:21<12:37,  3.77it/s]"
     ]
    },
    {
     "name": "stdout",
     "output_type": "stream",
     "text": [
      "51VskLaOhffxyZLPERpv3kbKRGDeFdx-2rjf3KQMv5uduUa_aBQabjpfZFYQJqDgQkrDG0QblNkkxQ\n"
     ]
    },
    {
     "name": "stderr",
     "output_type": "stream",
     "text": [
      "  9%|██████▊                                                                        | 267/3118 [05:22<12:35,  3.77it/s]"
     ]
    },
    {
     "name": "stdout",
     "output_type": "stream",
     "text": [
      "fG5fZyV6t_flF2drSkfTSFfm8ehrp5tWQz87Ryq6emr8N8PL_qRNb0ZJ27Of9v9CLiiqOthQVbDVgw\n"
     ]
    },
    {
     "name": "stderr",
     "output_type": "stream",
     "text": [
      "  9%|██████▊                                                                        | 268/3118 [05:22<12:18,  3.86it/s]"
     ]
    },
    {
     "name": "stdout",
     "output_type": "stream",
     "text": [
      "BFmKmCUkj6DGO8aGAgVu6C9E_yRgUJ3L9mL_G_AMe-07FWWY-YEYJloaNOjP4AoJPFYxaHlWNQA0Mw\n"
     ]
    },
    {
     "name": "stderr",
     "output_type": "stream",
     "text": [
      "  9%|██████▊                                                                        | 269/3118 [05:22<12:25,  3.82it/s]"
     ]
    },
    {
     "name": "stdout",
     "output_type": "stream",
     "text": [
      "Bp_8wCNcCot03opfVRH2HGzt9X6sWCRh-t1-Wk_JT2g-gzazb8eSwSu88XrBkgxhPPyfm0OSiLWlQA\n"
     ]
    },
    {
     "name": "stderr",
     "output_type": "stream",
     "text": [
      "  9%|██████▊                                                                        | 270/3118 [05:22<13:29,  3.52it/s]"
     ]
    },
    {
     "name": "stdout",
     "output_type": "stream",
     "text": [
      "68_K_hv2uasAHw8GJBnWy8BXrBT8DFE055BQ-m67M-akPlchHMLRPdPk_w_sO75_IManOTiH9Yz5kw\n"
     ]
    },
    {
     "name": "stderr",
     "output_type": "stream",
     "text": [
      "  9%|██████▊                                                                        | 271/3118 [05:23<12:45,  3.72it/s]"
     ]
    },
    {
     "name": "stdout",
     "output_type": "stream",
     "text": [
      "IqcEj0mezT16rT_UHQXg-IJtK8ZgWuu5TLSwaQSuJx5n3uI_uJCpJWmvfmCjh2NYWYbn0QaQKEW3cA\n"
     ]
    },
    {
     "name": "stderr",
     "output_type": "stream",
     "text": [
      "  9%|██████▉                                                                        | 272/3118 [05:23<12:41,  3.74it/s]"
     ]
    },
    {
     "name": "stdout",
     "output_type": "stream",
     "text": [
      "F8IXfmowR49gHi9oMji8lwjoMwfv7eGqiO0uPvvY-pSIX8GJ4oz9COMxp6gG7dQQ9qq2qPrE8Y4ywA\n"
     ]
    },
    {
     "name": "stderr",
     "output_type": "stream",
     "text": [
      "  9%|██████▉                                                                        | 273/3118 [05:23<13:22,  3.55it/s]"
     ]
    },
    {
     "name": "stdout",
     "output_type": "stream",
     "text": [
      "DNoRqYEMsjvN6yPv7eTTQtsHcIBdAEAtmTGV9-uNtZE90ckOot4VW1hDWBYpeblktp_2pMwu_3dzHg\n"
     ]
    },
    {
     "name": "stderr",
     "output_type": "stream",
     "text": [
      "  9%|██████▉                                                                        | 274/3118 [05:24<13:38,  3.47it/s]"
     ]
    },
    {
     "name": "stdout",
     "output_type": "stream",
     "text": [
      "91nY4l-Oi9IkhR4Ocr82JhJAZA-28Y_PTCgNzpilhEmpuwdH16J5YY2B1LOlg8MZspKSACOPhN7nPw\n"
     ]
    },
    {
     "name": "stderr",
     "output_type": "stream",
     "text": [
      "  9%|██████▉                                                                        | 275/3118 [05:24<12:57,  3.66it/s]"
     ]
    },
    {
     "name": "stdout",
     "output_type": "stream",
     "text": [
      "dmknQ4scuRjUW6uijtYQsX1zON2TcOhA2RGwF0xmVsbaN5Xa0avpLQ8DGSWMxBQcMysQiqKLqoFIEw\n"
     ]
    },
    {
     "name": "stderr",
     "output_type": "stream",
     "text": [
      "  9%|██████▉                                                                        | 276/3118 [05:24<12:43,  3.72it/s]"
     ]
    },
    {
     "name": "stdout",
     "output_type": "stream",
     "text": [
      "DB2RjBdAQkK2GgNP5k6UpPXUW338mBk62EB2auhpW_GVbT12Bw0YJb5ln9CpGt7gjU4IycUx9NYtkA\n"
     ]
    },
    {
     "name": "stderr",
     "output_type": "stream",
     "text": [
      "  9%|███████                                                                        | 277/3118 [05:24<12:32,  3.78it/s]"
     ]
    },
    {
     "name": "stdout",
     "output_type": "stream",
     "text": [
      "fDDBZ0yJjinrivT2pscs8qJy5DST6_2sOhleJBEgkhhi2yKQ9dAKQb6KnOi4g2GNrlZnHMl8H9RLmA\n"
     ]
    },
    {
     "name": "stderr",
     "output_type": "stream",
     "text": [
      "  9%|███████                                                                        | 278/3118 [05:25<12:22,  3.82it/s]"
     ]
    },
    {
     "name": "stdout",
     "output_type": "stream",
     "text": [
      "_FIfN0mtbIjxWdzGqrKN8zcX4OtCgfS98Nar5_RoRV94c0zphkJS8FPmUXFCbwtlwQJJW2zRzLnzRg\n"
     ]
    },
    {
     "name": "stderr",
     "output_type": "stream",
     "text": [
      "  9%|███████                                                                        | 279/3118 [05:25<12:14,  3.87it/s]"
     ]
    },
    {
     "name": "stdout",
     "output_type": "stream",
     "text": [
      "rA53m5oqfAezD19rtL9HplkaawGER4rW1rhFwxZu4Ij8oQE6S994lJd9b4x5_aMnmLATPYmakjXycA\n"
     ]
    },
    {
     "name": "stderr",
     "output_type": "stream",
     "text": [
      "  9%|███████                                                                        | 280/3118 [05:25<12:33,  3.77it/s]"
     ]
    },
    {
     "name": "stdout",
     "output_type": "stream",
     "text": [
      "7aBQ14B_nhPRabgKjT5E4yaLFFld91shPF40h9JsYIcqb0wYCf4S7yTsLD8XaEQ9m7GCLM6a-R40EQ\n"
     ]
    },
    {
     "name": "stderr",
     "output_type": "stream",
     "text": [
      "  9%|███████                                                                        | 281/3118 [05:25<13:24,  3.53it/s]"
     ]
    },
    {
     "name": "stdout",
     "output_type": "stream",
     "text": [
      "FvDB8fA8FA48Uiq9Gv9d6kpafnykcayVM69csxqk57F6JA-ZysAVmrRAsJaviZDvRfYfJVhj0dv36w\n"
     ]
    },
    {
     "name": "stderr",
     "output_type": "stream",
     "text": [
      "  9%|███████▏                                                                       | 282/3118 [05:26<12:51,  3.68it/s]"
     ]
    },
    {
     "name": "stdout",
     "output_type": "stream",
     "text": [
      "wOP9Dz_v6nPxxmXa44FWGkkAahXUHHC2KDIrPwKLotA87PAU-DYIWH5i3waaa5POBQGRrTO4qs-WUg\n"
     ]
    },
    {
     "name": "stderr",
     "output_type": "stream",
     "text": [
      "  9%|███████▏                                                                       | 283/3118 [05:26<12:55,  3.65it/s]"
     ]
    },
    {
     "name": "stdout",
     "output_type": "stream",
     "text": [
      "mp3yjNYJjxsXW9MDTkYWVKl-oH3oWeEzZ-iuXqqq3uRWy3ak6UkiwnqERunIPe-7bxR-XxwrRQAF1w\n"
     ]
    },
    {
     "name": "stderr",
     "output_type": "stream",
     "text": [
      "  9%|███████▏                                                                       | 284/3118 [05:26<12:28,  3.79it/s]"
     ]
    },
    {
     "name": "stdout",
     "output_type": "stream",
     "text": [
      "AeXXvu59hyIwdNvSjtHuxDUOjwkPAfXs1TpD02BwCl32Nl6QeLsSyqXwwzhraxnwI00oZWmutv6UOQ\n"
     ]
    },
    {
     "name": "stderr",
     "output_type": "stream",
     "text": [
      "  9%|███████▏                                                                       | 285/3118 [05:26<12:23,  3.81it/s]"
     ]
    },
    {
     "name": "stdout",
     "output_type": "stream",
     "text": [
      "iCZaefaTbRvHogjnhn9NiFujHKkQhgZRJ30lzwoYzYCptR0EPRRvMP9ITwdNWdZI1G12lIV7H4oszA\n"
     ]
    },
    {
     "name": "stderr",
     "output_type": "stream",
     "text": [
      "  9%|███████▏                                                                       | 286/3118 [05:27<12:18,  3.83it/s]"
     ]
    },
    {
     "name": "stdout",
     "output_type": "stream",
     "text": [
      "oDBKrzMxZSIx9YuMheLwfcZZXTxdI2IFW5HGHObXzqkWYScY0Ue4qygqBmT6mcMYAE9-PtHXlwVvYg\n"
     ]
    },
    {
     "name": "stderr",
     "output_type": "stream",
     "text": [
      "  9%|███████▎                                                                       | 287/3118 [05:27<12:06,  3.89it/s]"
     ]
    },
    {
     "name": "stdout",
     "output_type": "stream",
     "text": [
      "hpRoO50dxYOqUMU-8b22miaqb_nClj5K6GoMYXLe4cFa6H_uVgVQwplsegcq3JfBj-TgOGDyMxqWqA\n"
     ]
    },
    {
     "name": "stderr",
     "output_type": "stream",
     "text": [
      "  9%|███████▎                                                                       | 288/3118 [05:27<12:01,  3.92it/s]"
     ]
    },
    {
     "name": "stdout",
     "output_type": "stream",
     "text": [
      "jKzoJkWVMNP2Y8iXtiWR7j0jeCOAy7u_2Tfihcwgo72UtYLJvw9Htzmq3J_ygObi6S9cg8u-dknOjA\n"
     ]
    },
    {
     "name": "stderr",
     "output_type": "stream",
     "text": [
      "  9%|███████▎                                                                       | 289/3118 [05:27<11:52,  3.97it/s]"
     ]
    },
    {
     "name": "stdout",
     "output_type": "stream",
     "text": [
      "6GNtr4t8gF5c-rZnyMy_3mNDSpLcNYXgaIzGqwuPTVkqsm_KfAOBzcNrFgbOB8zt0gB-Eg1BYwf_NQ\n"
     ]
    },
    {
     "name": "stderr",
     "output_type": "stream",
     "text": [
      "  9%|███████▎                                                                       | 290/3118 [05:28<12:16,  3.84it/s]"
     ]
    },
    {
     "name": "stdout",
     "output_type": "stream",
     "text": [
      "GNdUsxj56lss3pPfNhUT8Igcoktdun0WFq-WRKxGJpEw7m63XIqfiKzlny411gt3eAifsy5MlpJPXQ\n"
     ]
    },
    {
     "name": "stderr",
     "output_type": "stream",
     "text": [
      "  9%|███████▎                                                                       | 291/3118 [05:28<12:07,  3.88it/s]"
     ]
    },
    {
     "name": "stdout",
     "output_type": "stream",
     "text": [
      "lkk4YePjfocrpbBaPP62ZWeJP3XLQkQD0xqNPlKgQqQ4FMvAOoJ2z-HQUo_ADsq8GJKAg9Yvvdx0MQ\n"
     ]
    },
    {
     "name": "stderr",
     "output_type": "stream",
     "text": [
      "  9%|███████▍                                                                       | 292/3118 [05:28<11:48,  3.99it/s]"
     ]
    },
    {
     "name": "stdout",
     "output_type": "stream",
     "text": [
      "AQAVbf62eRMi2hmpZEqbXPBRdh_mDRsuoAQGB2hMQp4AcYIeMBHBrXzHKWNTcmZrIr3U68Oj_DszyQ\n"
     ]
    },
    {
     "name": "stderr",
     "output_type": "stream",
     "text": [
      "  9%|███████▍                                                                       | 293/3118 [05:29<12:17,  3.83it/s]"
     ]
    },
    {
     "name": "stdout",
     "output_type": "stream",
     "text": [
      "u4fU2yBKRxXw4LN2UhXrUuIfv0eNuz6ZHIO9Shh5eXCqk-WSE6oAXFDWty-pBdCavEH2O7uv1DjXaQ\n"
     ]
    },
    {
     "name": "stderr",
     "output_type": "stream",
     "text": [
      "  9%|███████▍                                                                       | 294/3118 [05:29<11:57,  3.94it/s]"
     ]
    },
    {
     "name": "stdout",
     "output_type": "stream",
     "text": [
      "EOb5Zdl9quKGlR3FqPuBMix-B24Msvedz2a1LpeNAlPmV1s23qUC8Ag6SLG4xAzx0mG2ocVG29X4Mw\n"
     ]
    },
    {
     "name": "stderr",
     "output_type": "stream",
     "text": [
      "  9%|███████▍                                                                       | 295/3118 [05:29<12:05,  3.89it/s]"
     ]
    },
    {
     "name": "stdout",
     "output_type": "stream",
     "text": [
      "-loBK9iWPZht90T4yHk0cktbfvNFjS3e2M1DyfhWu4XGe1UMHRqp_i0Btym4QEX2u4X0I_rkDGqtgQ\n"
     ]
    },
    {
     "name": "stderr",
     "output_type": "stream",
     "text": [
      "  9%|███████▍                                                                       | 296/3118 [05:29<11:54,  3.95it/s]"
     ]
    },
    {
     "name": "stdout",
     "output_type": "stream",
     "text": [
      "tXzcj5b1zDdA21cvzDF8h0UuV0v7gf5qmb4Kwylf3aEDEpnmKdsbClM0_t7olL6VFdKGLvpyLCrSXg\n"
     ]
    },
    {
     "name": "stderr",
     "output_type": "stream",
     "text": [
      " 10%|███████▌                                                                       | 297/3118 [05:30<11:56,  3.94it/s]"
     ]
    },
    {
     "name": "stdout",
     "output_type": "stream",
     "text": [
      "ewa7ZEifhmUBNJk7K71zoa9BC0SPfyFcnjeNOE0ikK-S2Gr_G2adxK8ixfbftMR6FRgH1Ls7luB9Zw\n"
     ]
    },
    {
     "name": "stderr",
     "output_type": "stream",
     "text": [
      " 10%|███████▌                                                                       | 298/3118 [05:30<12:14,  3.84it/s]"
     ]
    },
    {
     "name": "stdout",
     "output_type": "stream",
     "text": [
      "TjVO_2-vcVlw1ow3MCOryuZeQuuIlHhwusF6AQ2lU3Jl7ejtgT3g-F3LYIt04Bg5RWygXoP1UTKz2Q\n"
     ]
    },
    {
     "name": "stderr",
     "output_type": "stream",
     "text": [
      " 10%|███████▌                                                                       | 299/3118 [05:30<12:41,  3.70it/s]"
     ]
    },
    {
     "name": "stdout",
     "output_type": "stream",
     "text": [
      "I_maK0CgNvTcJpZAYp7ilTkmPL-rke-K65B40fQESPrCc0wz2aTn7M9IYqp4PkFQS1gnfkCjkqCWfA\n"
     ]
    },
    {
     "name": "stderr",
     "output_type": "stream",
     "text": [
      " 10%|███████▌                                                                       | 300/3118 [05:31<14:55,  3.15it/s]"
     ]
    },
    {
     "name": "stdout",
     "output_type": "stream",
     "text": [
      "riMuXSx0IgW_5eLD-e4YO1U7EljRZL55Gz6_IWRaBQ9m1PZZfJZyprxxl0yKrjtvt-yH0UCxHusT_A\n"
     ]
    },
    {
     "name": "stderr",
     "output_type": "stream",
     "text": [
      " 10%|███████▋                                                                       | 301/3118 [05:31<14:36,  3.22it/s]"
     ]
    },
    {
     "name": "stdout",
     "output_type": "stream",
     "text": [
      "FgpIPUYvFQjmmKl3mwycxznS3ePfNO8Ystg_26F6Y9fKQQHv-xPnPSXLvKDtCJJuUegwIyMGbupkRw\n"
     ]
    },
    {
     "name": "stderr",
     "output_type": "stream",
     "text": [
      " 10%|███████▋                                                                       | 302/3118 [05:31<13:54,  3.37it/s]"
     ]
    },
    {
     "name": "stdout",
     "output_type": "stream",
     "text": [
      "GC6xCFxJoW_3sfLpkGoCM-4aCgaTUYC5rrDIJ53KucD6i58Cgs0ygQVoiVKllSNhqI5jB7JaCUru3w\n"
     ]
    },
    {
     "name": "stderr",
     "output_type": "stream",
     "text": [
      " 10%|███████▋                                                                       | 303/3118 [05:31<13:18,  3.53it/s]"
     ]
    },
    {
     "name": "stdout",
     "output_type": "stream",
     "text": [
      "zp022t57VrBa1qmEu4kY58XE_x_wXS5FEJdwHZ4Y5iDbI6CHuDlhH94teeN0Lez8aoE8OGcPmk0qlA\n"
     ]
    },
    {
     "name": "stderr",
     "output_type": "stream",
     "text": [
      " 10%|███████▋                                                                       | 304/3118 [05:32<12:49,  3.66it/s]"
     ]
    },
    {
     "name": "stdout",
     "output_type": "stream",
     "text": [
      "dOwmKimXAVCTq7jYL1-ArQKxaorDWpyW27C74lXjqWwZ6DyEV6io0JMzXP3BThvUlWYo2XS3rhQi7g\n"
     ]
    },
    {
     "name": "stderr",
     "output_type": "stream",
     "text": [
      " 10%|███████▋                                                                       | 305/3118 [05:32<13:53,  3.38it/s]"
     ]
    },
    {
     "name": "stdout",
     "output_type": "stream",
     "text": [
      "-m0N9FphpLbSvdwyDvbUzgbYug3xtCO7VWO8zENq6OisWx9tFds-Ig5ElhOZFUEluLXPRkZF0xXN8A\n"
     ]
    },
    {
     "name": "stderr",
     "output_type": "stream",
     "text": [
      " 10%|███████▊                                                                       | 306/3118 [05:32<13:37,  3.44it/s]"
     ]
    },
    {
     "name": "stdout",
     "output_type": "stream",
     "text": [
      "yEa05h3p6NDikwjopxXKWbkHTLW5CgAtJQLvlsb2qrgxbP3b4R0-t37e7MR175oIZvCvevccbuwMkA\n"
     ]
    },
    {
     "name": "stderr",
     "output_type": "stream",
     "text": [
      " 10%|███████▊                                                                       | 307/3118 [05:32<13:16,  3.53it/s]"
     ]
    },
    {
     "name": "stdout",
     "output_type": "stream",
     "text": [
      "yHbeOUCIwKsHRKrXxxUz4KDpLFYEZCxJNcfR3-XiowFMASwKKJUEpkFhGyAGl0ViuoDBgu5u4hHDJw\n"
     ]
    },
    {
     "name": "stderr",
     "output_type": "stream",
     "text": [
      " 10%|███████▊                                                                       | 308/3118 [05:33<13:00,  3.60it/s]"
     ]
    },
    {
     "name": "stdout",
     "output_type": "stream",
     "text": [
      "0E09zvJAnaMIrPtResVxgvHnCLHAEPfuK-KdbCO51tkVnTy_Yz9_qVhkk3Jawd8NSw7GulNjzf3G6Q\n"
     ]
    },
    {
     "name": "stderr",
     "output_type": "stream",
     "text": [
      " 10%|███████▊                                                                       | 309/3118 [05:33<12:43,  3.68it/s]"
     ]
    },
    {
     "name": "stdout",
     "output_type": "stream",
     "text": [
      "vCBTek7jpX5IrTaT7QZJZHfYGBov19TICiZsvJKj1WhI2r0W8N0-6lENhqZjnhSmdmZ91Qg-JqIhwA\n"
     ]
    },
    {
     "name": "stderr",
     "output_type": "stream",
     "text": [
      " 10%|███████▊                                                                       | 310/3118 [05:33<12:27,  3.76it/s]"
     ]
    },
    {
     "name": "stdout",
     "output_type": "stream",
     "text": [
      "5o7aYe6nAaKDGajwwdjNEi028H6DKV8h9qZ0lrtd17-UJw4-Cs-s2fZt9Pcgn69pm_BYPjIAzYTsKA\n"
     ]
    },
    {
     "name": "stderr",
     "output_type": "stream",
     "text": [
      " 10%|███████▉                                                                       | 311/3118 [05:34<12:25,  3.77it/s]"
     ]
    },
    {
     "name": "stdout",
     "output_type": "stream",
     "text": [
      "D9UI9Dh-b-AgT8lEAZAHa4wG2ess_ZddckzcCmq3mkSov_vJAcaL32AZI9NQIAFug02T7T2HEDz9qQ\n"
     ]
    },
    {
     "name": "stderr",
     "output_type": "stream",
     "text": [
      " 10%|███████▉                                                                       | 312/3118 [05:34<12:13,  3.82it/s]"
     ]
    },
    {
     "name": "stdout",
     "output_type": "stream",
     "text": [
      "1UiPiMr9hW16drJjfYkRXo_2m12RLQwbhCy-2A5xJ-XqGo31BvdYFvDkdwCwKRlSSzdtiK65edPq4Q\n",
      "api cost full : infinite loop start\n",
      "loop location :  WzyZ5gw3hrgcEkxIh8dkTaO6eSJAuZowzewZ9H2JedJCGe4\n",
      "try 10 second wait time\n",
      "429\n",
      "try 10 second wait time\n",
      "429\n",
      "try 10 second wait time\n",
      "429\n",
      "try 10 second wait time\n",
      "429\n",
      "try 10 second wait time\n",
      "429\n",
      "try 10 second wait time\n",
      "429\n",
      "try 10 second wait time\n",
      "429\n",
      "try 10 second wait time\n",
      "429\n",
      "try 10 second wait time\n"
     ]
    },
    {
     "name": "stderr",
     "output_type": "stream",
     "text": [
      " 10%|███████▋                                                                    | 313/3118 [07:06<21:47:16, 27.96s/it]"
     ]
    },
    {
     "name": "stdout",
     "output_type": "stream",
     "text": [
      "200\n",
      "total wait time :  92.39886212348938\n",
      "recovery api cost\n",
      "VrWJ5DMsW8PXR-TgQirtmgBNhgIAHvnosUB_WKVq2Zc9ZJpIy-wpFDOETFXOn3m4c4fTU0z65s-iHA\n"
     ]
    },
    {
     "name": "stderr",
     "output_type": "stream",
     "text": [
      " 10%|███████▋                                                                    | 314/3118 [07:07<15:19:07, 19.67s/it]"
     ]
    },
    {
     "name": "stdout",
     "output_type": "stream",
     "text": [
      "JnNJrnVo5Q5jMgjIMlFwsnKJb5CryqveBhaH__RqmjRJSrd2TaO_r17qmGcEPy8-xrJV8tw1S66i2g\n"
     ]
    },
    {
     "name": "stderr",
     "output_type": "stream",
     "text": [
      " 10%|███████▋                                                                    | 315/3118 [07:07<10:47:15, 13.85s/it]"
     ]
    },
    {
     "name": "stdout",
     "output_type": "stream",
     "text": [
      "yBCa5mIDtmKcq9ZNvzYovNzk47G_jpZEluAqEWaqo3uTI082DaVKuj_xrxB9fyP6FVgVathNcVnPgA\n"
     ]
    },
    {
     "name": "stderr",
     "output_type": "stream",
     "text": [
      " 10%|███████▊                                                                     | 316/3118 [07:07<7:36:30,  9.78s/it]"
     ]
    },
    {
     "name": "stdout",
     "output_type": "stream",
     "text": [
      "tou8KwQrSJVRGYrTF1eacMmKDmk8eKQzROmHV20qULMa2z8RUaorccyoCRIP1MTbdwzViuYdQ0lNeg\n"
     ]
    },
    {
     "name": "stderr",
     "output_type": "stream",
     "text": [
      " 10%|███████▊                                                                     | 317/3118 [07:07<5:23:17,  6.93s/it]"
     ]
    },
    {
     "name": "stdout",
     "output_type": "stream",
     "text": [
      "oyW0cvs5oEp-nHcoq6vEvdPbyAeS_hXo_KQvPGR8aHbqYPPX--_YSYaAvJTufTtGs06lcjUrMyOuSw\n"
     ]
    },
    {
     "name": "stderr",
     "output_type": "stream",
     "text": [
      " 10%|███████▊                                                                     | 318/3118 [07:08<3:50:05,  4.93s/it]"
     ]
    },
    {
     "name": "stdout",
     "output_type": "stream",
     "text": [
      "TXrUeufC9sM9XZJVAEdxKK1tflK-21nouHV1jZXVDe3I-0ptOg4cs5K-bO6JvEBJ_425IbGw-k8QIQ\n"
     ]
    },
    {
     "name": "stderr",
     "output_type": "stream",
     "text": [
      " 10%|███████▉                                                                     | 319/3118 [07:08<2:44:32,  3.53s/it]"
     ]
    },
    {
     "name": "stdout",
     "output_type": "stream",
     "text": [
      "eRoppzSjFrVBig7Nm4zmUPdGuc_iFfvliWPNor3rHnybEC89MfoDW8EvhMgYovZ4crR3813dIKT7GQ\n"
     ]
    },
    {
     "name": "stderr",
     "output_type": "stream",
     "text": [
      " 10%|███████▉                                                                     | 320/3118 [07:08<1:58:36,  2.54s/it]"
     ]
    },
    {
     "name": "stdout",
     "output_type": "stream",
     "text": [
      "i7F2jZL_zXZDuKhtpIdJgn7BR49nGBGBhia0IBRS9M2N111OtV_2B1n3MqvUanIigDGkdJnBag8-rA\n"
     ]
    },
    {
     "name": "stderr",
     "output_type": "stream",
     "text": [
      " 10%|███████▉                                                                     | 321/3118 [07:09<1:26:34,  1.86s/it]"
     ]
    },
    {
     "name": "stdout",
     "output_type": "stream",
     "text": [
      "7MqxOZIG-Yrq846jQHVVXvOceKlXRaC4h1p1m7pfmOokB8bHK0dYHO0eBxnmlfQTpiVuydwaTFXiCQ\n"
     ]
    },
    {
     "name": "stderr",
     "output_type": "stream",
     "text": [
      " 10%|███████▉                                                                     | 322/3118 [07:09<1:03:52,  1.37s/it]"
     ]
    },
    {
     "name": "stdout",
     "output_type": "stream",
     "text": [
      "TRNCtB6rA0uI11XoT6sN8awRPKR8gU3g2hdvVD-uvroSpMefwStD2BlLjE_ckCPC7bHYogxGWp4Zow\n"
     ]
    },
    {
     "name": "stderr",
     "output_type": "stream",
     "text": [
      " 10%|████████▏                                                                      | 323/3118 [07:09<48:41,  1.05s/it]"
     ]
    },
    {
     "name": "stdout",
     "output_type": "stream",
     "text": [
      "4VKc1VaH4sDDTYgIICYpuFZnuSp8zRdtI3feDbIFWjxFK18zAVV38MjmAscXGd2E1a7suWVICzTkIQ\n"
     ]
    },
    {
     "name": "stderr",
     "output_type": "stream",
     "text": [
      " 10%|████████▏                                                                      | 324/3118 [07:09<37:39,  1.24it/s]"
     ]
    },
    {
     "name": "stdout",
     "output_type": "stream",
     "text": [
      "xwV0AuG_cnUMDFGRBDObLULVzFg0dyrKgnFrTZGvhTi-3Bd1x52wsnYUjqehzU6WI7myYzOf-cg3oQ\n"
     ]
    },
    {
     "name": "stderr",
     "output_type": "stream",
     "text": [
      " 10%|████████▏                                                                      | 325/3118 [07:10<30:10,  1.54it/s]"
     ]
    },
    {
     "name": "stdout",
     "output_type": "stream",
     "text": [
      "-RvufQVryBz8wL1l8xUP5ztUcc5lctBUt5zWTfHBLo6ixYf0oE8DdCgI8hZPmJgAoSLD87P2u2Fgfw\n"
     ]
    },
    {
     "name": "stderr",
     "output_type": "stream",
     "text": [
      " 10%|████████▎                                                                      | 326/3118 [07:10<24:35,  1.89it/s]"
     ]
    },
    {
     "name": "stdout",
     "output_type": "stream",
     "text": [
      "_D6mP16aHnicpp8H_riXFB9z-bJupA9Snh1LUtuc7xYJho3VRxYhfaPYAtwtri2dTIwGWUkGpkSm2Q\n"
     ]
    },
    {
     "name": "stderr",
     "output_type": "stream",
     "text": [
      " 10%|████████▎                                                                      | 327/3118 [07:10<21:23,  2.17it/s]"
     ]
    },
    {
     "name": "stdout",
     "output_type": "stream",
     "text": [
      "VhOdgr1S8GwfePEplaO381Us3pBLeff0vkKl0N7PPzOIn29ST6OWa4UklP-XQUAaal_616t6sR1AzA\n"
     ]
    },
    {
     "name": "stderr",
     "output_type": "stream",
     "text": [
      " 11%|████████▎                                                                      | 328/3118 [07:10<18:29,  2.52it/s]"
     ]
    },
    {
     "name": "stdout",
     "output_type": "stream",
     "text": [
      "9rj4j3hUA3B8IB9sYDLypYQzIO1aOSutAYouAmSFUdEt7N4-rXNj0JuT61K8Kqk3fn83Omh7oPLPJQ\n"
     ]
    },
    {
     "name": "stderr",
     "output_type": "stream",
     "text": [
      " 11%|████████▎                                                                      | 329/3118 [07:11<16:26,  2.83it/s]"
     ]
    },
    {
     "name": "stdout",
     "output_type": "stream",
     "text": [
      "rnU4KCxbXb0ub02M07Bv0XpjwsikZAJhsvxAI2qs0eTPi117R3tD7oKy-AG9pgy0WkuxlZM6WqEZBg\n"
     ]
    },
    {
     "name": "stderr",
     "output_type": "stream",
     "text": [
      " 11%|████████▎                                                                      | 330/3118 [07:11<14:47,  3.14it/s]"
     ]
    },
    {
     "name": "stdout",
     "output_type": "stream",
     "text": [
      "30bXe_rrU0tfH6gDDNp8vDrSORTBelzfJb41XMQnDB0pjDsSZnxaXGwn-xK9irED1Ce6E4Vod00Vkg\n"
     ]
    },
    {
     "name": "stderr",
     "output_type": "stream",
     "text": [
      " 11%|████████▍                                                                      | 331/3118 [07:11<13:48,  3.36it/s]"
     ]
    },
    {
     "name": "stdout",
     "output_type": "stream",
     "text": [
      "gkqgv8KufyU5mSW3bz6liCC2iB7hkKuhrDw1rDBBRTaZi75xMvjW_hILLpQg4rphUmqonp6mTTwspg\n"
     ]
    },
    {
     "name": "stderr",
     "output_type": "stream",
     "text": [
      " 11%|████████▍                                                                      | 332/3118 [07:12<16:30,  2.81it/s]"
     ]
    },
    {
     "name": "stdout",
     "output_type": "stream",
     "text": [
      "wSwuwe92jeg3Jmxk6kAjoNpo7miqEBMfRudgYDvPWAkIlW2DSgeaGrMb3PQe00_ishXUjEOaVxwN2g\n"
     ]
    },
    {
     "name": "stderr",
     "output_type": "stream",
     "text": [
      " 11%|████████▍                                                                      | 333/3118 [07:12<15:09,  3.06it/s]"
     ]
    },
    {
     "name": "stdout",
     "output_type": "stream",
     "text": [
      "YxdUOKq7xVljB6u-UJewAiZOoIt28rL9Hga4L1DC_VTtFUYBvvlAvmQROpJKkNoKp200sQLboPvVFQ\n"
     ]
    },
    {
     "name": "stderr",
     "output_type": "stream",
     "text": [
      " 11%|████████▍                                                                      | 334/3118 [07:12<13:48,  3.36it/s]"
     ]
    },
    {
     "name": "stdout",
     "output_type": "stream",
     "text": [
      "OTzMxKpsJofOGZjlPjYEe8e2_stinGK0NnlZ8S6oXFP9wiXWIXVodvhye05RdX9CF_OHi5MCPyL8gQ\n"
     ]
    },
    {
     "name": "stderr",
     "output_type": "stream",
     "text": [
      " 11%|████████▍                                                                      | 335/3118 [07:13<19:28,  2.38it/s]"
     ]
    },
    {
     "name": "stdout",
     "output_type": "stream",
     "text": [
      "OuCz9BX0oyF-YB-Jdnb3Ze9XsWFS7d-GI_VYMZ0wmMLMYwhbzQYnK7KEx7YY2PvsApYDrBskOFoXzw\n"
     ]
    },
    {
     "name": "stderr",
     "output_type": "stream",
     "text": [
      " 11%|████████▌                                                                      | 336/3118 [07:13<18:01,  2.57it/s]"
     ]
    },
    {
     "name": "stdout",
     "output_type": "stream",
     "text": [
      "jO50yh4vhOuXLSluBX_OQNkAtWpU-E8gabrPdqnFQLRYcxS2tybmp6Ty2U4Orxa-Myu1hWL6xFFdzA\n"
     ]
    },
    {
     "name": "stderr",
     "output_type": "stream",
     "text": [
      " 11%|████████▌                                                                      | 337/3118 [07:13<16:33,  2.80it/s]"
     ]
    },
    {
     "name": "stdout",
     "output_type": "stream",
     "text": [
      "53a_bPXq0tmOO2lafpNlm1PXmDN6wBwUCwaAVR9Y8uHOZ_Fegj-ieJIZ2qxYXrK4nuSwQsLwb7WFZw\n"
     ]
    },
    {
     "name": "stderr",
     "output_type": "stream",
     "text": [
      " 11%|████████▌                                                                      | 338/3118 [07:14<15:31,  2.98it/s]"
     ]
    },
    {
     "name": "stdout",
     "output_type": "stream",
     "text": [
      "wVauFdNszIWIIGhPqZoHUjqIybztTUOnZcopr8wSkkrYIEKge8-XVGqXArrj1yfx1-z04VgcH81azQ\n"
     ]
    },
    {
     "name": "stderr",
     "output_type": "stream",
     "text": [
      " 11%|████████▌                                                                      | 339/3118 [07:15<28:52,  1.60it/s]"
     ]
    },
    {
     "name": "stdout",
     "output_type": "stream",
     "text": [
      "J-13dB6PjaR_3EpJso8zXPV8IQmxyul_GoYTD-8XKTjO_NR5osL_o8KYehfffk20-ILywQm4EmVF7w\n"
     ]
    },
    {
     "name": "stderr",
     "output_type": "stream",
     "text": [
      " 11%|████████▌                                                                      | 340/3118 [07:15<25:16,  1.83it/s]"
     ]
    },
    {
     "name": "stdout",
     "output_type": "stream",
     "text": [
      "uDWseYYwELyUs7j3LO1In41RM50tq2O4oCAWCd03bXITcWbk3K11Vl-lgMgoSyRY-WAkvbJFvt97GA\n"
     ]
    },
    {
     "name": "stderr",
     "output_type": "stream",
     "text": [
      " 11%|████████▋                                                                      | 341/3118 [07:16<21:32,  2.15it/s]"
     ]
    },
    {
     "name": "stdout",
     "output_type": "stream",
     "text": [
      "o_Ydq45cgEwjGETXKG-BfVI69FM2GuF0exWMMqueSPowukx8p_Ya_cfg1xjB3bCpW3eCONWvqPYrOQ\n"
     ]
    },
    {
     "name": "stderr",
     "output_type": "stream",
     "text": [
      " 11%|████████▋                                                                      | 342/3118 [07:16<18:23,  2.52it/s]"
     ]
    },
    {
     "name": "stdout",
     "output_type": "stream",
     "text": [
      "SFG_qvu3jejzbhh2fzPqEO29J25S0w9beYwKnbzMeeuMzrTknARsNh5w4vvRbR3rSLObCLhSa8MPzw\n"
     ]
    },
    {
     "name": "stderr",
     "output_type": "stream",
     "text": [
      " 11%|████████▋                                                                      | 343/3118 [07:16<16:19,  2.83it/s]"
     ]
    },
    {
     "name": "stdout",
     "output_type": "stream",
     "text": [
      "39NQyjGH-_7O3vTYd8r6cXDzSRoyaNZ0J1kc5ZhaQywJdC2CL5Lia6cKQcWSrZwU2rOVSnu9Ojjkzw\n"
     ]
    },
    {
     "name": "stderr",
     "output_type": "stream",
     "text": [
      " 11%|████████▋                                                                      | 344/3118 [07:16<14:45,  3.13it/s]"
     ]
    },
    {
     "name": "stdout",
     "output_type": "stream",
     "text": [
      "hknlWjzUmgI4_8o3xvVn6Fk_Ux5ZeftyVEC9gZj7VkAPg86tPLMpThOkKMhwXcCdYPLq05Bm1bVQXA\n"
     ]
    },
    {
     "name": "stderr",
     "output_type": "stream",
     "text": [
      " 11%|████████▋                                                                      | 345/3118 [07:17<13:41,  3.37it/s]"
     ]
    },
    {
     "name": "stdout",
     "output_type": "stream",
     "text": [
      "q4YLBCp0awBTVmJn1H1CxesKrlCpW7bhlMpbL8xWFbLCPg-24fNHx1bF-xEP8xia0-wnFOGq1Pffsw\n"
     ]
    },
    {
     "name": "stderr",
     "output_type": "stream",
     "text": [
      " 11%|████████▊                                                                      | 346/3118 [07:17<14:15,  3.24it/s]"
     ]
    },
    {
     "name": "stdout",
     "output_type": "stream",
     "text": [
      "wsx_EtEii4k_vSGP5AQT0ctrVSyvPG_tNcfIM9nRfrPLLXVpu4bBS8JEY4Dh26ziJgid-rsvEbkKvw\n"
     ]
    },
    {
     "name": "stderr",
     "output_type": "stream",
     "text": [
      " 11%|████████▊                                                                      | 347/3118 [07:17<13:34,  3.40it/s]"
     ]
    },
    {
     "name": "stdout",
     "output_type": "stream",
     "text": [
      "zW_AzvZhZJXvV4xfnJfjf-7i5MQGyqhTDwyuoBAhVZydisFeSYMO7VIR2Y_8ZCPEF_Iwo11K_ZQieA\n"
     ]
    },
    {
     "name": "stderr",
     "output_type": "stream",
     "text": [
      " 11%|████████▊                                                                      | 348/3118 [07:18<14:19,  3.22it/s]"
     ]
    },
    {
     "name": "stdout",
     "output_type": "stream",
     "text": [
      "z03G28uwTE6GSZoSH3-U5k5Lu2RgD0HFBaRhuxfjh2zlrleSzJ8PmK4sVDSMji5iWFBln6xhpXMqMw\n"
     ]
    },
    {
     "name": "stderr",
     "output_type": "stream",
     "text": [
      " 11%|████████▊                                                                      | 349/3118 [07:18<18:05,  2.55it/s]"
     ]
    },
    {
     "name": "stdout",
     "output_type": "stream",
     "text": [
      "RgqVacHyO3dcNwZEutGyKPUyiE-7BXsjlBbSd2dzub9ZZP-bVhROpGbroVRLoBQ0I1hWDTs0Ef9Idg\n"
     ]
    },
    {
     "name": "stderr",
     "output_type": "stream",
     "text": [
      " 11%|████████▊                                                                      | 350/3118 [07:19<21:29,  2.15it/s]"
     ]
    },
    {
     "name": "stdout",
     "output_type": "stream",
     "text": [
      "QD5L1zJHC1XfYhu05QWOjGRbzecqR7yzq6lOIot7kFsB1iSrv9Au6wmD6RzBpkcxOBiOXxPI76JONQ\n"
     ]
    },
    {
     "name": "stderr",
     "output_type": "stream",
     "text": [
      " 11%|████████▉                                                                      | 351/3118 [07:19<18:35,  2.48it/s]"
     ]
    },
    {
     "name": "stdout",
     "output_type": "stream",
     "text": [
      "kX1zsy4FVX1JcMizbnYPCMa-VHPtrXeZZ91CrPwyp3XaKTV4H7iLzrZzWpPp_eSdaW22f-1CXepbCQ\n"
     ]
    },
    {
     "name": "stderr",
     "output_type": "stream",
     "text": [
      " 11%|████████▉                                                                      | 352/3118 [07:19<18:36,  2.48it/s]"
     ]
    },
    {
     "name": "stdout",
     "output_type": "stream",
     "text": [
      "Y0246aARU4FNAgtu52COUbQA4WJTQQ6MbBwpdtchYgNxkHPDQ71YZdd0lXwul4EyvY5rAtivBDQXHg\n"
     ]
    },
    {
     "name": "stderr",
     "output_type": "stream",
     "text": [
      " 11%|████████▉                                                                      | 353/3118 [07:20<17:18,  2.66it/s]"
     ]
    },
    {
     "name": "stdout",
     "output_type": "stream",
     "text": [
      "Yb4OKpjPhjchQeFwwHcuTDueCXN9OFSRxzJt_3FpgtslFBPo9UZXhQfby8F3ZfPxKvoHo8k4ftz_HQ\n"
     ]
    },
    {
     "name": "stderr",
     "output_type": "stream",
     "text": [
      " 11%|████████▉                                                                      | 354/3118 [07:20<18:37,  2.47it/s]"
     ]
    },
    {
     "name": "stdout",
     "output_type": "stream",
     "text": [
      "kKdGUGUxWq9mrI0nCCbKWZyXH_VBcUC85el7D_SQr-X-kKlkk62FRwKwsQDGbRY63yacDm-EwrwZvQ\n"
     ]
    },
    {
     "name": "stderr",
     "output_type": "stream",
     "text": [
      " 11%|████████▉                                                                      | 355/3118 [07:20<16:39,  2.77it/s]"
     ]
    },
    {
     "name": "stdout",
     "output_type": "stream",
     "text": [
      "qxIcGx7d6tWx4A4NUrdAa71ICZihluDuyc7KZykRrPY2gjMDH9aNtZ1AGzOz_OxGwc61b9b3kbHWoQ\n"
     ]
    },
    {
     "name": "stderr",
     "output_type": "stream",
     "text": [
      " 11%|█████████                                                                      | 356/3118 [07:21<17:08,  2.69it/s]"
     ]
    },
    {
     "name": "stdout",
     "output_type": "stream",
     "text": [
      "SWQDZeEfDFDsKb3dQ92KtpclHxLlMOWNJt3PnCvJ3I6IWwjuSHgbwk02WjiPn2KaeJEb3MegrQWFXA\n"
     ]
    },
    {
     "name": "stderr",
     "output_type": "stream",
     "text": [
      " 11%|█████████                                                                      | 357/3118 [07:21<16:07,  2.85it/s]"
     ]
    },
    {
     "name": "stdout",
     "output_type": "stream",
     "text": [
      "svGEa61CxfoOLT87UuGFC2iUZWyvzvRIFge9ROr3FjHeJXtH5Tj8GmIHifuKyzyLSP5VbJG9Na5TMg\n"
     ]
    },
    {
     "name": "stderr",
     "output_type": "stream",
     "text": [
      " 11%|█████████                                                                      | 358/3118 [07:21<14:45,  3.12it/s]"
     ]
    },
    {
     "name": "stdout",
     "output_type": "stream",
     "text": [
      "G3kQhP47blLtQf-LIgGQeX6COvr6Pn18vK3V7TMWB7Fh21rPnPMHUCih6usM4jTX4bc2CvM3qmuDxw\n"
     ]
    },
    {
     "name": "stderr",
     "output_type": "stream",
     "text": [
      " 12%|█████████                                                                      | 359/3118 [07:22<15:51,  2.90it/s]"
     ]
    },
    {
     "name": "stdout",
     "output_type": "stream",
     "text": [
      "FKU2Zke_Q5E_lI8v21RIxkUBS7LyyEXEFHnwifH2f6dNxdv3cbvOGbcx6PwBscxMugNmn6D4HpnzHg\n"
     ]
    },
    {
     "name": "stderr",
     "output_type": "stream",
     "text": [
      " 12%|█████████                                                                      | 360/3118 [07:22<15:00,  3.06it/s]"
     ]
    },
    {
     "name": "stdout",
     "output_type": "stream",
     "text": [
      "CHJxsLHVUYXf2m-XEgXWnlC8iKU9ZZTQ9EYzR6suwGtxu7UXSiLZ-FenduPoGmlOKk8HesWtGFDcXQ\n"
     ]
    },
    {
     "name": "stderr",
     "output_type": "stream",
     "text": [
      " 12%|█████████▏                                                                     | 361/3118 [07:22<15:50,  2.90it/s]"
     ]
    },
    {
     "name": "stdout",
     "output_type": "stream",
     "text": [
      "fjRReuTudUwaWa7OGGcUPIvpVqz7c2XESSxkFXaB2GohPgEPAvjosdkblUK1sqIObph6YXQZaZJPug\n"
     ]
    },
    {
     "name": "stderr",
     "output_type": "stream",
     "text": [
      " 12%|█████████▏                                                                     | 362/3118 [07:23<17:54,  2.56it/s]"
     ]
    },
    {
     "name": "stdout",
     "output_type": "stream",
     "text": [
      "w_BElHM8F_SQY4yxsk7xfXlLtX3J023vy6PIZtTY6-gdvGany1JgARvrF_x6TmtIAusnbP3Csw9XFw\n"
     ]
    },
    {
     "name": "stderr",
     "output_type": "stream",
     "text": [
      " 12%|█████████▏                                                                     | 363/3118 [07:24<21:30,  2.13it/s]"
     ]
    },
    {
     "name": "stdout",
     "output_type": "stream",
     "text": [
      "pLchTVrG4ou1AhSmNFPnVVMNHQ6l3c_ZjYtacASMhRcix7C3zsKgdJNmX6mFeHH16E99LscnWFlrFA\n"
     ]
    },
    {
     "name": "stderr",
     "output_type": "stream",
     "text": [
      " 12%|█████████▏                                                                     | 364/3118 [07:24<20:33,  2.23it/s]"
     ]
    },
    {
     "name": "stdout",
     "output_type": "stream",
     "text": [
      "-fKk-60y300IIQtHQjyPsVBRR1h7-6CsPbz_IT3Z7XSACi-bVJo95bvsoVgU9EtkiDO3iMHSdFQJpQ\n"
     ]
    },
    {
     "name": "stderr",
     "output_type": "stream",
     "text": [
      " 12%|█████████▏                                                                     | 365/3118 [07:25<27:01,  1.70it/s]"
     ]
    },
    {
     "name": "stdout",
     "output_type": "stream",
     "text": [
      "deGApJWjcaJuUTNw5wV0AUlrrya9DoEidKPvFV_-o4paN-fsCdWYnFySK-4o6W9987p2VKDesrxuug\n"
     ]
    },
    {
     "name": "stderr",
     "output_type": "stream",
     "text": [
      " 12%|█████████▎                                                                     | 366/3118 [07:26<28:28,  1.61it/s]"
     ]
    },
    {
     "name": "stdout",
     "output_type": "stream",
     "text": [
      "u-gYsdYuxdJYgRHwvGz3La-Bms8tSTwhy5xJPxcqxIGAb19Q4XCpBNEaVbVVq3353-gASncdXDakkQ\n"
     ]
    },
    {
     "name": "stderr",
     "output_type": "stream",
     "text": [
      " 12%|█████████▎                                                                     | 367/3118 [07:26<23:34,  1.94it/s]"
     ]
    },
    {
     "name": "stdout",
     "output_type": "stream",
     "text": [
      "FDPBj7mg9ZGjIhDtPT5J4HzisRih-NlQ5iTqhom8FofJ-jNNAYiIbQE_EAuz_Nd4jX2IsYsXFumZcw\n"
     ]
    },
    {
     "name": "stderr",
     "output_type": "stream",
     "text": [
      " 12%|█████████▎                                                                     | 368/3118 [07:26<19:56,  2.30it/s]"
     ]
    },
    {
     "name": "stdout",
     "output_type": "stream",
     "text": [
      "-ywBfXVh2YVJ250S-9t1fTGkvKzTOUTNM6LwwNl6w3UpiQGxB6UqFwQnirnapl4VTCRybK80YxLOOA\n"
     ]
    },
    {
     "name": "stderr",
     "output_type": "stream",
     "text": [
      " 12%|█████████▎                                                                     | 369/3118 [07:27<19:06,  2.40it/s]"
     ]
    },
    {
     "name": "stdout",
     "output_type": "stream",
     "text": [
      "704s_ZU3T5qa3bxMZGvr-EDndhP78WIokBCfnw2RT-aK4_HZK2xJuXuz7R5s9xu4G_FxcvO-LXQ7dw\n"
     ]
    },
    {
     "name": "stderr",
     "output_type": "stream",
     "text": [
      " 12%|█████████▎                                                                     | 370/3118 [07:27<16:51,  2.72it/s]"
     ]
    },
    {
     "name": "stdout",
     "output_type": "stream",
     "text": [
      "XH9uBPRz804fBE1wFHlha515oDKPj_UF8IX8N-TWKImm2ir8kwRlXl_6EUPJkH9R_wFdTjkB7WGclA\n"
     ]
    },
    {
     "name": "stderr",
     "output_type": "stream",
     "text": [
      " 12%|█████████▍                                                                     | 371/3118 [07:27<19:41,  2.33it/s]"
     ]
    },
    {
     "name": "stdout",
     "output_type": "stream",
     "text": [
      "_WmgrDNSeyGbHmRV79jTz_US3s6e_r5WH9zvn53HfAOewAiiSfmlH-Pv2FL8e03-R18sY2HoD1J4uA\n"
     ]
    },
    {
     "name": "stderr",
     "output_type": "stream",
     "text": [
      " 12%|█████████▍                                                                     | 372/3118 [07:28<22:11,  2.06it/s]"
     ]
    },
    {
     "name": "stdout",
     "output_type": "stream",
     "text": [
      "FpKEijm2p_YXfkQ2WvR08jpNAyqhSCi-kK7PscKLqYW99j-Pa7OvdAm_xSftnKZ30EvaBdWcrmcD3Q\n"
     ]
    },
    {
     "name": "stderr",
     "output_type": "stream",
     "text": [
      " 12%|█████████▍                                                                     | 373/3118 [07:28<19:01,  2.40it/s]"
     ]
    },
    {
     "name": "stdout",
     "output_type": "stream",
     "text": [
      "5SAFPgydBAj34ohxAPIv92IoCOyPvu04mKMJLwQE52pT_cHJUFY2gDISpg1mysTcGHJAzCYvgOja1g\n"
     ]
    },
    {
     "name": "stderr",
     "output_type": "stream",
     "text": [
      " 12%|█████████▍                                                                     | 374/3118 [07:28<16:34,  2.76it/s]"
     ]
    },
    {
     "name": "stdout",
     "output_type": "stream",
     "text": [
      "bHZ5IkHtnVUg2LotJaOQsVkdQzj47fzmVKnQGjFKWEZf03BrHjf-5ptSSNwJdhIjhtvqUSsDaAvAmQ\n"
     ]
    },
    {
     "name": "stderr",
     "output_type": "stream",
     "text": [
      " 12%|█████████▌                                                                     | 375/3118 [07:29<19:25,  2.35it/s]"
     ]
    },
    {
     "name": "stdout",
     "output_type": "stream",
     "text": [
      "TT-9WS-5COOK1elgFiMpE2JBav9dOgn_b934-KdYLOKM_nB47aMxBVgW1jI_pyj54PKVmxP0O21rpg\n"
     ]
    },
    {
     "name": "stderr",
     "output_type": "stream",
     "text": [
      " 12%|█████████▌                                                                     | 376/3118 [07:29<17:57,  2.55it/s]"
     ]
    },
    {
     "name": "stdout",
     "output_type": "stream",
     "text": [
      "3Ka8bmboXNTO44yTG35-l_OkzICXhqeUpm5uQwh3CGQUElWHh8myGv3wP3PLuMTN6yr5Vsg2pHjnaw\n"
     ]
    },
    {
     "name": "stderr",
     "output_type": "stream",
     "text": [
      " 12%|█████████▌                                                                     | 377/3118 [07:30<16:06,  2.84it/s]"
     ]
    },
    {
     "name": "stdout",
     "output_type": "stream",
     "text": [
      "KH_7kLNpDAalHb1d7XJ-TU7MNZ2jqFk01h5u2puZQWRoQ-_riKQhFn0eR-JTYB3vpv8txezLFp2WWw\n"
     ]
    },
    {
     "name": "stderr",
     "output_type": "stream",
     "text": [
      " 12%|█████████▌                                                                     | 378/3118 [07:30<18:29,  2.47it/s]"
     ]
    },
    {
     "name": "stdout",
     "output_type": "stream",
     "text": [
      "NDDLfMmZ4M76vhiz9YeQz2w48ZjTXA2LMP2XM_QYqugU386-UvF9-uy9d1oGHwbrnuAOGIYOws8KrQ\n"
     ]
    },
    {
     "name": "stderr",
     "output_type": "stream",
     "text": [
      " 12%|█████████▌                                                                     | 379/3118 [07:30<16:28,  2.77it/s]"
     ]
    },
    {
     "name": "stdout",
     "output_type": "stream",
     "text": [
      "FvwhIZv0wEb8VT9Yja9CKj91B-UtuUgSp8n5kAz5gQjdU4GldI4b2z1FckVA0ty5ihiSEyPbOXP3Ag\n"
     ]
    },
    {
     "name": "stderr",
     "output_type": "stream",
     "text": [
      " 12%|█████████▋                                                                     | 380/3118 [07:31<14:50,  3.07it/s]"
     ]
    },
    {
     "name": "stdout",
     "output_type": "stream",
     "text": [
      "0wm669vMjGVAejeoMzmXXPFmNOEmx0dNucRoSHTuU3gNcfJ400yZn1fwJ5ajEPVAHCuPKfR4Sb_cbA\n"
     ]
    },
    {
     "name": "stderr",
     "output_type": "stream",
     "text": [
      " 12%|█████████▋                                                                     | 381/3118 [07:31<13:48,  3.30it/s]"
     ]
    },
    {
     "name": "stdout",
     "output_type": "stream",
     "text": [
      "1jhFUnXsh2Tm7q6feL79Xqb-I2PKNBgl21_PWXQP2kefL1jfra_8yvn-fr8GJTcKdhlg5K8FZakwvw\n"
     ]
    },
    {
     "name": "stderr",
     "output_type": "stream",
     "text": [
      " 12%|█████████▋                                                                     | 382/3118 [07:31<13:41,  3.33it/s]"
     ]
    },
    {
     "name": "stdout",
     "output_type": "stream",
     "text": [
      "OteY3WHl3D6VVxVcrm4Mxbt0J2zv7yrBfbkImo4ccOVff0jEZ8x1fx-A-l86rrkXzX_7Yl250l7kRA\n"
     ]
    },
    {
     "name": "stderr",
     "output_type": "stream",
     "text": [
      " 12%|█████████▋                                                                     | 383/3118 [07:31<13:28,  3.38it/s]"
     ]
    },
    {
     "name": "stdout",
     "output_type": "stream",
     "text": [
      "TcvZjn0k6Z0Ct_Ndw_eRU8ju3l1v6UtDinOiOR3eGwsIWt7HPOx-dgNFKcSQpKBL9-qwi3dYbe7PMg\n"
     ]
    },
    {
     "name": "stderr",
     "output_type": "stream",
     "text": [
      " 12%|█████████▋                                                                     | 384/3118 [07:32<14:42,  3.10it/s]"
     ]
    },
    {
     "name": "stdout",
     "output_type": "stream",
     "text": [
      "WzgPd-tF_iVjtiDfQ3kixb4a_gozuTYc_OR3LVWaBpW4yqEC7utqPCzWbOyXKNxh6PIiElW3S9UBRg\n"
     ]
    },
    {
     "name": "stderr",
     "output_type": "stream",
     "text": [
      " 12%|█████████▊                                                                     | 385/3118 [07:32<13:59,  3.26it/s]"
     ]
    },
    {
     "name": "stdout",
     "output_type": "stream",
     "text": [
      "y7OlJEvhpVfkr57pPTZIm7FcwyTTMk65NuaNYzbeJMzVq1ktAfTdPHcBLfn5lMHY70avuoma7bHxHA\n"
     ]
    },
    {
     "name": "stderr",
     "output_type": "stream",
     "text": [
      " 12%|█████████▊                                                                     | 386/3118 [07:33<15:38,  2.91it/s]"
     ]
    },
    {
     "name": "stdout",
     "output_type": "stream",
     "text": [
      "VfsIieqD7DDJNKJq3KceYSmlQYdj90lHXrhlBdtv8q6W-dNX8PgHhEjWwuJxhycAhoQReNj2OUD2bw\n"
     ]
    },
    {
     "name": "stderr",
     "output_type": "stream",
     "text": [
      " 12%|█████████▊                                                                     | 387/3118 [07:33<14:38,  3.11it/s]"
     ]
    },
    {
     "name": "stdout",
     "output_type": "stream",
     "text": [
      "ehuTuogBsfl7P_YVyItdUyS2LIDX8u_VbvHNz-4tkYyr9--YJlZ8u5Rq9_JwV1X4RJULXHi9BKVy1Q\n"
     ]
    },
    {
     "name": "stderr",
     "output_type": "stream",
     "text": [
      " 12%|█████████▊                                                                     | 388/3118 [07:34<19:39,  2.31it/s]"
     ]
    },
    {
     "name": "stdout",
     "output_type": "stream",
     "text": [
      "8gFjVMINuDWVJAgOxG7tapb_iIiaf-DLwVCX0QMFyxN7Uijfi39JVwgNHMoyrAnmj8K3n98Z3H88lA\n"
     ]
    },
    {
     "name": "stderr",
     "output_type": "stream",
     "text": [
      " 12%|█████████▊                                                                     | 389/3118 [07:34<24:48,  1.83it/s]"
     ]
    },
    {
     "name": "stdout",
     "output_type": "stream",
     "text": [
      "S8dYtHRyFdqJZwGYCqu96mioqXB-bh5Bczd5gktsM7hLtU3DtBLRMnwLcFQ6ouexDbo8KDYeVJacfg\n"
     ]
    },
    {
     "name": "stderr",
     "output_type": "stream",
     "text": [
      " 13%|█████████▉                                                                     | 390/3118 [07:35<20:43,  2.19it/s]"
     ]
    },
    {
     "name": "stdout",
     "output_type": "stream",
     "text": [
      "w2BK6LwISIcRhaTNK3dpknvAvM7OBhY5LP4_LfyN2XIFlTK3j7cryJhJ1QJqOUC-tDo2xYTAE-q7bw\n"
     ]
    },
    {
     "name": "stderr",
     "output_type": "stream",
     "text": [
      " 13%|█████████▉                                                                     | 391/3118 [07:35<19:27,  2.34it/s]"
     ]
    },
    {
     "name": "stdout",
     "output_type": "stream",
     "text": [
      "Hd4jInJkMIIzWVxQjK9eKoTPE2Nm37S_s_e-y0F__fmhtZzv8FgdssxE_YeDxKy13SoHsJqZCUbxjw\n"
     ]
    },
    {
     "name": "stderr",
     "output_type": "stream",
     "text": [
      " 13%|█████████▉                                                                     | 392/3118 [07:35<19:24,  2.34it/s]"
     ]
    },
    {
     "name": "stdout",
     "output_type": "stream",
     "text": [
      "NQ645jXUp9KsEH-Lehv6w7AkskglvwFxG4Qyo9_xrrXjrhrczGQR43k6qtd3Wj29w-XMpsBJgWId-w\n"
     ]
    },
    {
     "name": "stderr",
     "output_type": "stream",
     "text": [
      " 13%|█████████▉                                                                     | 393/3118 [07:36<16:56,  2.68it/s]"
     ]
    },
    {
     "name": "stdout",
     "output_type": "stream",
     "text": [
      "dHQrM6etqPGKacq5XSO5kgZ4d96L9Ap_WexpUAjfpFPkCIxwUUqsS9V41jBLk_lO8S0b40nJQ76xuQ\n"
     ]
    },
    {
     "name": "stderr",
     "output_type": "stream",
     "text": [
      " 13%|█████████▉                                                                     | 394/3118 [07:36<15:27,  2.94it/s]"
     ]
    },
    {
     "name": "stdout",
     "output_type": "stream",
     "text": [
      "L5WvEG545jIjcsfBnnbuU4mBdWx6UkAiE2oaSFRozcQBEm41bqKiDpHLFU1KTCm931ZRsGuWdxEAjw\n"
     ]
    },
    {
     "name": "stderr",
     "output_type": "stream",
     "text": [
      " 13%|██████████                                                                     | 395/3118 [07:36<15:51,  2.86it/s]"
     ]
    },
    {
     "name": "stdout",
     "output_type": "stream",
     "text": [
      "fGyoptJD32gUaQWmCx7uiY8oTMJiJ3AMTw2iPJEC_wzF8-K-se6JGc6ptEK-zlR4BbMKu-jpfJnVjA\n"
     ]
    },
    {
     "name": "stderr",
     "output_type": "stream",
     "text": [
      " 13%|██████████                                                                     | 396/3118 [07:37<16:17,  2.78it/s]"
     ]
    },
    {
     "name": "stdout",
     "output_type": "stream",
     "text": [
      "FRxFR9z9pv-aVsOyNSvMIlpcH8vRC84m9QuKyIwCrKitVXwRwQ2YM0HgHIVz3k4SSB1sHLd-oliHxw\n"
     ]
    },
    {
     "name": "stderr",
     "output_type": "stream",
     "text": [
      " 13%|██████████                                                                     | 397/3118 [07:37<15:37,  2.90it/s]"
     ]
    },
    {
     "name": "stdout",
     "output_type": "stream",
     "text": [
      "HkoMy2iWi6B3ZGjs3piwtM5Ou9rpWUfTBpukAM0gU_xUq--kp10A2wfqhh9pIKjIAZkPMhR5VnAUwg\n"
     ]
    },
    {
     "name": "stderr",
     "output_type": "stream",
     "text": [
      " 13%|██████████                                                                     | 398/3118 [07:37<14:25,  3.14it/s]"
     ]
    },
    {
     "name": "stdout",
     "output_type": "stream",
     "text": [
      "-7quJ2Yg53vrVbTMxYjJUcDLF0Sl4VFsqY5036tdZYIv2W6U0DUAjRZQ-ZsvOYXjVU_c-72BXgG6Mg\n"
     ]
    },
    {
     "name": "stderr",
     "output_type": "stream",
     "text": [
      " 13%|██████████                                                                     | 399/3118 [07:38<14:26,  3.14it/s]"
     ]
    },
    {
     "name": "stdout",
     "output_type": "stream",
     "text": [
      "OdOxkSibL_cq16N48XBOIF9Nu1c3nh2rc7B7ih1uISXRbNw5HER46o4-1zfpCeh0dBA_rjyhJ91iew\n"
     ]
    },
    {
     "name": "stderr",
     "output_type": "stream",
     "text": [
      " 13%|██████████▏                                                                    | 400/3118 [07:38<14:04,  3.22it/s]"
     ]
    },
    {
     "name": "stdout",
     "output_type": "stream",
     "text": [
      "xI4FkZnLz9sCIzdOdzhTc-5d9QcXO8TogNLnMttKTy9iIB0SIhd_lOIHca6glyu1ev7YDjHWSJhBGw\n"
     ]
    },
    {
     "name": "stderr",
     "output_type": "stream",
     "text": [
      " 13%|██████████▏                                                                    | 401/3118 [07:38<13:19,  3.40it/s]"
     ]
    },
    {
     "name": "stdout",
     "output_type": "stream",
     "text": [
      "W0WyrBiCcehlMXXLAVQn1DmkIyNj6oxeamv33VjF2ldU8TkID1qLYqBmq8aFCLR60Npi-v3WZurNbA\n"
     ]
    },
    {
     "name": "stderr",
     "output_type": "stream",
     "text": [
      " 13%|██████████▏                                                                    | 402/3118 [07:39<15:30,  2.92it/s]"
     ]
    },
    {
     "name": "stdout",
     "output_type": "stream",
     "text": [
      "sqfcFcT7gI2T8oFBmbQbAwlWyDJSV5phQEi30_EsECA3_vrRWSqr8STIv1bZi7ZDySItIG9LBzYgNA\n"
     ]
    },
    {
     "name": "stderr",
     "output_type": "stream",
     "text": [
      " 13%|██████████▏                                                                    | 403/3118 [07:39<15:00,  3.02it/s]"
     ]
    },
    {
     "name": "stdout",
     "output_type": "stream",
     "text": [
      "WHCBCCayQYLAWFE_VMMRQ3I6XN6fugiyyGXAtdRkK3X7cp-0ouAzfkH-rOujDXepOZ5Q837AP1g9Fw\n"
     ]
    },
    {
     "name": "stderr",
     "output_type": "stream",
     "text": [
      " 13%|██████████▏                                                                    | 404/3118 [07:39<14:31,  3.11it/s]"
     ]
    },
    {
     "name": "stdout",
     "output_type": "stream",
     "text": [
      "ZIKexKKrCtn9orJ6yaVlhXqbxyLO2_IdBkyZ-qx9bplchVLcp_XDKCPimUP1-3Sple75CbnKV_wcow\n"
     ]
    },
    {
     "name": "stderr",
     "output_type": "stream",
     "text": [
      " 13%|██████████▎                                                                    | 405/3118 [07:39<14:39,  3.09it/s]"
     ]
    },
    {
     "name": "stdout",
     "output_type": "stream",
     "text": [
      "hfSCu-syXHfY8e8sFBDp8ePMG9RirWb6_E0pBTC-9SHFabB3LSq9HkQR8FEcqPHBT6yyXl4Q8CtPKw\n"
     ]
    },
    {
     "name": "stderr",
     "output_type": "stream",
     "text": [
      " 13%|██████████▎                                                                    | 406/3118 [07:40<13:33,  3.33it/s]"
     ]
    },
    {
     "name": "stdout",
     "output_type": "stream",
     "text": [
      "u7zv2kCvBWozqdMO0ALgy0EBfWO2mXXj86pxdjYmB6GIaHyUkLK9DxLigC01VjkhF1jfMOpHbBlxew\n"
     ]
    },
    {
     "name": "stderr",
     "output_type": "stream",
     "text": [
      " 13%|██████████▎                                                                    | 407/3118 [07:40<12:59,  3.48it/s]"
     ]
    },
    {
     "name": "stdout",
     "output_type": "stream",
     "text": [
      "DfDFTp1hBk82Gs19bsop9Yp2uHmrzEyN4XduJhKJNwgw5n0To_CmaduFx6LNsd7hcb6mjoPMQzI71g\n"
     ]
    },
    {
     "name": "stderr",
     "output_type": "stream",
     "text": [
      " 13%|██████████▎                                                                    | 408/3118 [07:40<13:48,  3.27it/s]"
     ]
    },
    {
     "name": "stdout",
     "output_type": "stream",
     "text": [
      "Ef071iBO-U_vSM_ispOoweWmll0pvCbcwk1xYF7MnxDDKUIVyRN4sMvcFiyOVLJqnNNQj2IhsyLubA\n"
     ]
    },
    {
     "name": "stderr",
     "output_type": "stream",
     "text": [
      " 13%|██████████▎                                                                    | 409/3118 [07:41<13:07,  3.44it/s]"
     ]
    },
    {
     "name": "stdout",
     "output_type": "stream",
     "text": [
      "sqYI4CrQTOTVlDAKww9x6HIK2qiD-cOuslETwdffvtzZvy53YD9G6VAT_BaOcPy7z5zxIJ9BwpHeJQ\n"
     ]
    },
    {
     "name": "stderr",
     "output_type": "stream",
     "text": [
      " 13%|██████████▍                                                                    | 410/3118 [07:41<13:38,  3.31it/s]"
     ]
    },
    {
     "name": "stdout",
     "output_type": "stream",
     "text": [
      "9UqLYatPPZFw-WukQeOJUDoTPXGcUmNIAqxB_VT1rWYWGPwZO5MyXRnVK0Jk8YXVI0Jmzc1Fa9BySQ\n"
     ]
    },
    {
     "name": "stderr",
     "output_type": "stream",
     "text": [
      " 13%|██████████▍                                                                    | 411/3118 [07:41<13:22,  3.37it/s]"
     ]
    },
    {
     "name": "stdout",
     "output_type": "stream",
     "text": [
      "sqmo2-1T03mWC8WgrP9I9h06s_muVPolAy3rLGdw_zJ9oRu4g4P1CSbJ9tkq45_jvfPqzTj1PA120A\n"
     ]
    },
    {
     "name": "stderr",
     "output_type": "stream",
     "text": [
      " 13%|██████████▍                                                                    | 412/3118 [07:42<14:30,  3.11it/s]"
     ]
    },
    {
     "name": "stdout",
     "output_type": "stream",
     "text": [
      "ITTADOy6s7G6oj8k4F3cv5tNaSzukXy7HmVQd4b1Sd3lf04zlnAFHpoKnMnZEcDy5OxNT9XbrMZB7g\n",
      "api cost full : infinite loop start\n",
      "loop location :  2IPRHYy77LfopT0eamP8nRoeuLLPOx7GPffU5A5KfU5GFxc\n",
      "try 10 second wait time\n",
      "429\n",
      "try 10 second wait time\n",
      "429\n",
      "try 10 second wait time\n",
      "429\n",
      "try 10 second wait time\n",
      "429\n",
      "try 10 second wait time\n",
      "429\n",
      "try 10 second wait time\n",
      "429\n",
      "try 10 second wait time\n",
      "429\n",
      "try 10 second wait time\n",
      "429\n",
      "try 10 second wait time\n"
     ]
    },
    {
     "name": "stderr",
     "output_type": "stream",
     "text": [
      " 13%|██████████                                                                  | 413/3118 [09:14<21:02:26, 28.00s/it]"
     ]
    },
    {
     "name": "stdout",
     "output_type": "stream",
     "text": [
      "200\n",
      "total wait time :  92.36976051330566\n",
      "recovery api cost\n",
      "bieTloHuNZfMJmAn8YYuXBmQbWUHjBKkAbq8S5aGYXH2M3j4gPhDlPWA-F2pZOonICnEglbvjgoirw\n"
     ]
    },
    {
     "name": "stderr",
     "output_type": "stream",
     "text": [
      " 13%|██████████                                                                  | 414/3118 [09:14<14:47:06, 19.68s/it]"
     ]
    },
    {
     "name": "stdout",
     "output_type": "stream",
     "text": [
      "oWt-yA69Zz8DiaFxuMw5midWjSB62_FsknthMGq4vJtuQYhtN9WHBzJ_SwE4CQEVTDwldRgj0fYjHA\n"
     ]
    },
    {
     "name": "stderr",
     "output_type": "stream",
     "text": [
      " 13%|██████████                                                                  | 415/3118 [09:15<10:24:02, 13.85s/it]"
     ]
    },
    {
     "name": "stdout",
     "output_type": "stream",
     "text": [
      "4rHr7x3xGzGMe_l1p4wHQwR0CdPNROl-BtrG6vCV6fXiGGuXFCtNOgFbiLIiTxOyGREn__ooCe8iyQ\n"
     ]
    },
    {
     "name": "stderr",
     "output_type": "stream",
     "text": [
      " 13%|██████████▎                                                                  | 416/3118 [09:15<7:20:01,  9.77s/it]"
     ]
    },
    {
     "name": "stdout",
     "output_type": "stream",
     "text": [
      "6m16CdiOG9bckVKITJy0qwHTfnDJ0UQuiwJeaYdr2B3rZJwhbxRRUPHA4BqlFqNBnASOIc1LbwISBg\n"
     ]
    },
    {
     "name": "stderr",
     "output_type": "stream",
     "text": [
      " 13%|██████████▎                                                                  | 417/3118 [09:15<5:13:36,  6.97s/it]"
     ]
    },
    {
     "name": "stdout",
     "output_type": "stream",
     "text": [
      "JpBELF1Ha95Zlspj3AG-hZvh0n2KrrLiFaPb1VQShQAWoTsaLwd7hn5KqTMN571lhz0XQnfcTe0QpQ\n"
     ]
    },
    {
     "name": "stderr",
     "output_type": "stream",
     "text": [
      " 13%|██████████▎                                                                  | 418/3118 [09:16<3:42:45,  4.95s/it]"
     ]
    },
    {
     "name": "stdout",
     "output_type": "stream",
     "text": [
      "VC-K2PYFuYqKTMXRDNqyxxoB0aOIz4qAbjoTGnPqc93r3_TQ_ap0kQSOQ_mRKlZY-nPKf0jwDlkRjA\n"
     ]
    },
    {
     "name": "stderr",
     "output_type": "stream",
     "text": [
      " 13%|██████████▎                                                                  | 419/3118 [09:16<2:39:25,  3.54s/it]"
     ]
    },
    {
     "name": "stdout",
     "output_type": "stream",
     "text": [
      "hjn49JHAjXYHb0bABMitxNrc7puj_Au5mz3yDTBji-u-k5hU5oHOHAjHqNzSUREyNxp8D9jP83SJQQ\n"
     ]
    },
    {
     "name": "stderr",
     "output_type": "stream",
     "text": [
      " 13%|██████████▎                                                                  | 420/3118 [09:16<1:55:02,  2.56s/it]"
     ]
    },
    {
     "name": "stdout",
     "output_type": "stream",
     "text": [
      "u0Pb36IsoKTrtqT1BbRS0L2-IE4w_paWv5_XIr931zgjiNIPlkX3EksQiooI505UlNiC4rhnWm3sXg\n"
     ]
    },
    {
     "name": "stderr",
     "output_type": "stream",
     "text": [
      " 14%|██████████▍                                                                  | 421/3118 [09:16<1:23:52,  1.87s/it]"
     ]
    },
    {
     "name": "stdout",
     "output_type": "stream",
     "text": [
      "cycjAtDWDdd1WKXOfAryqZtNpEfir_KLhQuxJ5QYbU7WXyx2akBP74NTObkRLBU7Lh8_uxDMX79fFw\n"
     ]
    },
    {
     "name": "stderr",
     "output_type": "stream",
     "text": [
      " 14%|██████████▍                                                                  | 422/3118 [09:17<1:01:58,  1.38s/it]"
     ]
    },
    {
     "name": "stdout",
     "output_type": "stream",
     "text": [
      "sdQpikvRAdw5eKHbXiIQfe8L3e6nCUuwqEsN-oqwH3PBr0ksnx06pjdO2TU1pTlGZ-RgvxLXhYlVMg\n"
     ]
    },
    {
     "name": "stderr",
     "output_type": "stream",
     "text": [
      " 14%|██████████▋                                                                    | 423/3118 [09:17<46:37,  1.04s/it]"
     ]
    },
    {
     "name": "stdout",
     "output_type": "stream",
     "text": [
      "Gpcyxdb4cwcG5YobbkjBzpRAZhxJiNDQBaBGxcwwbyr2Xc-T0ZmdJwlML19Csn7q8EYiU7zKLCRwWA\n"
     ]
    },
    {
     "name": "stderr",
     "output_type": "stream",
     "text": [
      " 14%|██████████▋                                                                    | 424/3118 [09:17<36:21,  1.23it/s]"
     ]
    },
    {
     "name": "stdout",
     "output_type": "stream",
     "text": [
      "vp-whNWh14f6HYdZascGlJUqt4xgh6XhzoAvRPJoO7M-cMSdknob4nK7Ks5s86lpAvdkBdFZ773ISw\n"
     ]
    },
    {
     "name": "stderr",
     "output_type": "stream",
     "text": [
      " 14%|██████████▊                                                                    | 425/3118 [09:17<28:47,  1.56it/s]"
     ]
    },
    {
     "name": "stdout",
     "output_type": "stream",
     "text": [
      "67KG_skhTydjsHiQ35T6lQfdAidCPNNbO5hl_OTn92xd7qGuzfDfgdI0GXZmXaw4BTQ_0XkHnD8vRA\n"
     ]
    },
    {
     "name": "stderr",
     "output_type": "stream",
     "text": [
      " 14%|██████████▊                                                                    | 426/3118 [09:18<29:37,  1.51it/s]"
     ]
    },
    {
     "name": "stdout",
     "output_type": "stream",
     "text": [
      "BZGgwOdZ1Smt3_fwa2VBmT_MvxaigJlHex9v_LgIAbs05ZctRf4LT-aiG3C1-51DgCtwx4mFQQXvXw\n"
     ]
    },
    {
     "name": "stderr",
     "output_type": "stream",
     "text": [
      " 14%|██████████▊                                                                    | 427/3118 [09:18<24:20,  1.84it/s]"
     ]
    },
    {
     "name": "stdout",
     "output_type": "stream",
     "text": [
      "zW-xf28ADvrWi4OAs_cI_nN8Y_oHozP8n89zUKL3fM0Spl_I9lnI4QCTVrxv6L-mftrRHzdq-40Smg\n"
     ]
    },
    {
     "name": "stderr",
     "output_type": "stream",
     "text": [
      " 14%|██████████▊                                                                    | 428/3118 [09:19<22:09,  2.02it/s]"
     ]
    },
    {
     "name": "stdout",
     "output_type": "stream",
     "text": [
      "CT9IV_bX3YNZ9tPc9ymhqhRKLEpwtFwMTaifMX0-GnuOt5xCY32vD86g0zHMlDtH_RlwRbwB1kYU2w\n"
     ]
    },
    {
     "name": "stderr",
     "output_type": "stream",
     "text": [
      " 14%|██████████▊                                                                    | 429/3118 [09:19<19:03,  2.35it/s]"
     ]
    },
    {
     "name": "stdout",
     "output_type": "stream",
     "text": [
      "YeyYjVsGOsjdZFSuGSdXm8x0Ttg-aFclrokm3DOvbrO-MpXAajn-Yzm4DsqTs5-H1kpJQJctZ0BRdQ\n"
     ]
    },
    {
     "name": "stderr",
     "output_type": "stream",
     "text": [
      " 14%|██████████▉                                                                    | 430/3118 [09:19<16:47,  2.67it/s]"
     ]
    },
    {
     "name": "stdout",
     "output_type": "stream",
     "text": [
      "ywJ824UAOwGrrI17I0zKWZuESUuZg7KXhN6QBcNfft55vdnnJPZ52EhFr4AWAptAMHZIZqbldGCVlA\n"
     ]
    },
    {
     "name": "stderr",
     "output_type": "stream",
     "text": [
      " 14%|██████████▉                                                                    | 431/3118 [09:20<17:15,  2.60it/s]"
     ]
    },
    {
     "name": "stdout",
     "output_type": "stream",
     "text": [
      "i_mI4VsaYNP15l-obSqQaW-4QdDyrlzaCjbCcQ0kdOd7C3Pzn6MSCSBTH8A7VBrsnVSeK0hxz4701w\n"
     ]
    },
    {
     "name": "stderr",
     "output_type": "stream",
     "text": [
      " 14%|██████████▉                                                                    | 432/3118 [09:20<15:19,  2.92it/s]"
     ]
    },
    {
     "name": "stdout",
     "output_type": "stream",
     "text": [
      "dxe7b3NOS6g8P7BgnVGsSB6fPjdxAdvdQfaVVYE_Mr8XrST2kdhS-36uj7sq8Yk8yqBQ4DMtpDpP1w\n"
     ]
    },
    {
     "name": "stderr",
     "output_type": "stream",
     "text": [
      " 14%|██████████▉                                                                    | 433/3118 [09:20<14:04,  3.18it/s]"
     ]
    },
    {
     "name": "stdout",
     "output_type": "stream",
     "text": [
      "uG7iulkVCsigeNmBB-LPPzxteYtGJATD846ks5xw4nttUVUQZqmDSbkI-Ginv4n9ytQONFefz34zEg\n"
     ]
    },
    {
     "name": "stderr",
     "output_type": "stream",
     "text": [
      " 14%|██████████▉                                                                    | 434/3118 [09:20<13:35,  3.29it/s]"
     ]
    },
    {
     "name": "stdout",
     "output_type": "stream",
     "text": [
      "AGH5LQKrP53tTh4kb3xSrExEXvsJrzejWYde8Iu1KyrLiVRO4t0lzSnHzTSlkTvaLXpi0IL7ULXj5w\n"
     ]
    },
    {
     "name": "stderr",
     "output_type": "stream",
     "text": [
      " 14%|███████████                                                                    | 435/3118 [09:21<13:21,  3.35it/s]"
     ]
    },
    {
     "name": "stdout",
     "output_type": "stream",
     "text": [
      "JDl7AahcYiO7M1h0gFrr9zfdaPOdBklMj_dXvALtQnnYEuH7iVDFuUlq7Q1mBLBKdYVho4SvPTHO0A\n"
     ]
    },
    {
     "name": "stderr",
     "output_type": "stream",
     "text": [
      " 14%|███████████                                                                    | 436/3118 [09:21<12:37,  3.54it/s]"
     ]
    },
    {
     "name": "stdout",
     "output_type": "stream",
     "text": [
      "q9brmf75hqCsEmPVTtdHB3aQ1s4Xhg65HC9uj3OpwjER-_1-XdiYppbN-S3RGRAa1qsi0mgaHmnJ6Q\n"
     ]
    },
    {
     "name": "stderr",
     "output_type": "stream",
     "text": [
      " 14%|███████████                                                                    | 437/3118 [09:21<12:11,  3.67it/s]"
     ]
    },
    {
     "name": "stdout",
     "output_type": "stream",
     "text": [
      "YRtc4xkFvAPaDcX8jcyUVaI3hrSoR8XmA9BXm4_Q5OCRKs5DlVGR9mlhwRXF3Os51OlATMN-m96KaQ\n"
     ]
    },
    {
     "name": "stderr",
     "output_type": "stream",
     "text": [
      " 14%|███████████                                                                    | 438/3118 [09:22<13:38,  3.28it/s]"
     ]
    },
    {
     "name": "stdout",
     "output_type": "stream",
     "text": [
      "zAcH4o4IhHro8zp3r4KdOfQVzYvokisFupN-_OBVEWaD6PhUy0ZRkXATzkmHIgGCBtZGndabNt6YjQ\n"
     ]
    },
    {
     "name": "stderr",
     "output_type": "stream",
     "text": [
      " 14%|███████████                                                                    | 439/3118 [09:22<13:43,  3.25it/s]"
     ]
    },
    {
     "name": "stdout",
     "output_type": "stream",
     "text": [
      "AS-O4GLHYstcHDvu2z7Ws4OOt-A1PBwyZavf5rv4bvX6Ob9jbMA5ephLxjaFEU-WREZfT3RKMWuR4Q\n"
     ]
    },
    {
     "name": "stderr",
     "output_type": "stream",
     "text": [
      " 14%|███████████▏                                                                   | 440/3118 [09:22<12:58,  3.44it/s]"
     ]
    },
    {
     "name": "stdout",
     "output_type": "stream",
     "text": [
      "K8K5ubNSB_91KGDAXsNtltml8P5qMex3z2rIDr1a8pvVx8hTEoGpLWzV6oYk7ooYjQbIo0OFPu-uVQ\n"
     ]
    },
    {
     "name": "stderr",
     "output_type": "stream",
     "text": [
      " 14%|███████████▏                                                                   | 441/3118 [09:22<12:28,  3.58it/s]"
     ]
    },
    {
     "name": "stdout",
     "output_type": "stream",
     "text": [
      "1Dhgjk0gk3VVVp2H1U2A1NtuhwCHBNw56u-nMReedO11hOzDYL4RfW4fjiplT7Zdn5UyV4gsP5kOIA\n"
     ]
    },
    {
     "name": "stderr",
     "output_type": "stream",
     "text": [
      " 14%|███████████▏                                                                   | 442/3118 [09:23<13:35,  3.28it/s]"
     ]
    },
    {
     "name": "stdout",
     "output_type": "stream",
     "text": [
      "x6nbUneeGP2WAADAUPFilHDZeQ8wgoD1LBCArnw-xT20I2UyuKhnDQrKqkrS8uKtOVUQ8ZyNDImkfA\n"
     ]
    },
    {
     "name": "stderr",
     "output_type": "stream",
     "text": [
      " 14%|███████████▏                                                                   | 443/3118 [09:23<12:48,  3.48it/s]"
     ]
    },
    {
     "name": "stdout",
     "output_type": "stream",
     "text": [
      "aL9kMClZPaXUjfRXeGLuzZNAuQY-Bqnfbi9dQBfoS_mvRC183g79awkU8so_DV6MsO-L4-YxEURO4A\n"
     ]
    },
    {
     "name": "stderr",
     "output_type": "stream",
     "text": [
      " 14%|███████████▏                                                                   | 444/3118 [09:23<12:31,  3.56it/s]"
     ]
    },
    {
     "name": "stdout",
     "output_type": "stream",
     "text": [
      "MFz8mlEgOAPrJPj972Qvf-_rHmAgn68c0QUWFyFL4sUmdmvII6KVeJPGk9DRvFCEiOR3Nj10HiyWTQ\n"
     ]
    },
    {
     "name": "stderr",
     "output_type": "stream",
     "text": [
      " 14%|███████████▎                                                                   | 445/3118 [09:24<12:12,  3.65it/s]"
     ]
    },
    {
     "name": "stdout",
     "output_type": "stream",
     "text": [
      "rlYlezKS4WISmXvs7sH9IezDIKzIW7SnCNuhoXWh2QCegLg0Y8h9sqMXRCiLFPDjAA8nojdLob88mQ\n"
     ]
    },
    {
     "name": "stderr",
     "output_type": "stream",
     "text": [
      " 14%|███████████▎                                                                   | 446/3118 [09:24<13:12,  3.37it/s]"
     ]
    },
    {
     "name": "stdout",
     "output_type": "stream",
     "text": [
      "KVtNcfZQV2kb7D6lE1J1MngQrVo92zkqLdvFzPXZIugFTYf4O13RlxJ91xf4Fl65IXOdLM42NVpngA\n"
     ]
    },
    {
     "name": "stderr",
     "output_type": "stream",
     "text": [
      " 14%|███████████▎                                                                   | 447/3118 [09:24<13:54,  3.20it/s]"
     ]
    },
    {
     "name": "stdout",
     "output_type": "stream",
     "text": [
      "ZWtCX4lSeOQkhpqGkuMMYP5NixONt75Rlou24homj-jmUYbipr_Hoc27dWtvW7U4lFXZ05Db2giaqA\n"
     ]
    },
    {
     "name": "stderr",
     "output_type": "stream",
     "text": [
      " 14%|███████████▎                                                                   | 448/3118 [09:24<13:17,  3.35it/s]"
     ]
    },
    {
     "name": "stdout",
     "output_type": "stream",
     "text": [
      "VmdGq03EIJztG2TM8ATMEryVuVxaOFlyrofzpCYorfZHwDwVGpvwEJgru50apUo9tDx8OTiVUocC_g\n"
     ]
    },
    {
     "name": "stderr",
     "output_type": "stream",
     "text": [
      " 14%|███████████▍                                                                   | 449/3118 [09:25<12:51,  3.46it/s]"
     ]
    },
    {
     "name": "stdout",
     "output_type": "stream",
     "text": [
      "h7D3k7SH3xElioOVvrupufaTa-ffOlF07PyuNyVOGt1CdB7Kck-4HHXNMhaXgew98dRhPu7gTsm7qQ\n"
     ]
    },
    {
     "name": "stderr",
     "output_type": "stream",
     "text": [
      " 14%|███████████▍                                                                   | 450/3118 [09:25<12:48,  3.47it/s]"
     ]
    },
    {
     "name": "stdout",
     "output_type": "stream",
     "text": [
      "p07I6I5bV4kuZCQ7R91MVVr9nybmau4BEejccQK1vl4HkHpT7AWLQvS6_oohp2JesA1ibmpIcSxBQg\n"
     ]
    },
    {
     "name": "stderr",
     "output_type": "stream",
     "text": [
      " 14%|███████████▍                                                                   | 451/3118 [09:25<12:26,  3.57it/s]"
     ]
    },
    {
     "name": "stdout",
     "output_type": "stream",
     "text": [
      "xkjC-qz45M_WchsVFdoeov9CtqbSh-oPmHzg65pUvWflDJHIiLdD3--AhwkFOBaJZupgilIUOvG-7A\n"
     ]
    },
    {
     "name": "stderr",
     "output_type": "stream",
     "text": [
      " 14%|███████████▍                                                                   | 452/3118 [09:26<12:44,  3.49it/s]"
     ]
    },
    {
     "name": "stdout",
     "output_type": "stream",
     "text": [
      "uH7KdhCuTEfhNA5WHZT8lhtzG0dpfLq69FjKjAZVhlkrQUHO429OLvWLH3WxUNQF7SG83mXmcu6XDg\n"
     ]
    },
    {
     "name": "stderr",
     "output_type": "stream",
     "text": [
      " 15%|███████████▍                                                                   | 453/3118 [09:26<12:22,  3.59it/s]"
     ]
    },
    {
     "name": "stdout",
     "output_type": "stream",
     "text": [
      "dRegWr97zmfsmgcnqzD0ST7I5waxs0dKnq2upqw3tsiXczHM4lmD7zdOJE51CxLCP6WN-yXY2un0DA\n"
     ]
    },
    {
     "name": "stderr",
     "output_type": "stream",
     "text": [
      " 15%|███████████▌                                                                   | 454/3118 [09:26<12:28,  3.56it/s]"
     ]
    },
    {
     "name": "stdout",
     "output_type": "stream",
     "text": [
      "374iR0FJhPmj1db0tIeR1yzPso5dFjvj0cVbo8GHOAT35tAfr8OYWQFc7z9wjcYxTu768yryElddrA\n"
     ]
    },
    {
     "name": "stderr",
     "output_type": "stream",
     "text": [
      " 15%|███████████▌                                                                   | 455/3118 [09:26<12:51,  3.45it/s]"
     ]
    },
    {
     "name": "stdout",
     "output_type": "stream",
     "text": [
      "MZw0o6kJKIBst_FZcB9AX7vt03HijZCpUy2jh1D2JHopC-4Uiv_mszhI5eWuKIhK8RjpcvpHEVaXYg\n"
     ]
    },
    {
     "name": "stderr",
     "output_type": "stream",
     "text": [
      " 15%|███████████▌                                                                   | 456/3118 [09:27<12:45,  3.48it/s]"
     ]
    },
    {
     "name": "stdout",
     "output_type": "stream",
     "text": [
      "KQ7Ktp5qC0HH9kP1aWBf1_8PasxfC-5DQ3jUbvwe4Cb0rxdo8-MCBPYponl1P7ZW9CiZZCdoYnBGng\n"
     ]
    },
    {
     "name": "stderr",
     "output_type": "stream",
     "text": [
      " 15%|███████████▌                                                                   | 457/3118 [09:27<12:51,  3.45it/s]"
     ]
    },
    {
     "name": "stdout",
     "output_type": "stream",
     "text": [
      "C7jq8F1Bhs4jfWmhvLvEqciH28YNjM7U_RYQSMc6d8ZZ-ny8JM7wFWDA78zqBeU4Y16sHBRvCaeUDA\n"
     ]
    },
    {
     "name": "stderr",
     "output_type": "stream",
     "text": [
      " 15%|███████████▌                                                                   | 458/3118 [09:27<12:46,  3.47it/s]"
     ]
    },
    {
     "name": "stdout",
     "output_type": "stream",
     "text": [
      "A-PaQRCSehzSuuAtSDNPVxy0UzHaJD6UmkwurT4x7NL6JYh7o32YTqb1uyF2IgF38OQd_HdvH16KYQ\n"
     ]
    },
    {
     "name": "stderr",
     "output_type": "stream",
     "text": [
      " 15%|███████████▋                                                                   | 459/3118 [09:28<12:12,  3.63it/s]"
     ]
    },
    {
     "name": "stdout",
     "output_type": "stream",
     "text": [
      "RtrG2gYwjDMghDr3UNhUbNeroaQOJU1eC2IyNyaMgq5eX-D1dqnr0MGrxlkw_0Ikdtw5EDMxXj_neQ\n"
     ]
    },
    {
     "name": "stderr",
     "output_type": "stream",
     "text": [
      " 15%|███████████▋                                                                   | 460/3118 [09:28<14:55,  2.97it/s]"
     ]
    },
    {
     "name": "stdout",
     "output_type": "stream",
     "text": [
      "U1-m5J4P5C-BZrzwPEOIM6R9x1MLqta04pLhyITZ7JheKjpeJwjEs7cWS5bvblOmqqCzDjrdipoE_A\n"
     ]
    },
    {
     "name": "stderr",
     "output_type": "stream",
     "text": [
      " 15%|███████████▋                                                                   | 461/3118 [09:28<13:37,  3.25it/s]"
     ]
    },
    {
     "name": "stdout",
     "output_type": "stream",
     "text": [
      "V3z94JflBla93TIYWypRM20ZC852bDcrPjPUEoCbfm5YQonxUtR1Lm0nwM6CS-f8lUoDDhyBPadgVg\n"
     ]
    },
    {
     "name": "stderr",
     "output_type": "stream",
     "text": [
      " 15%|███████████▋                                                                   | 462/3118 [09:29<13:45,  3.22it/s]"
     ]
    },
    {
     "name": "stdout",
     "output_type": "stream",
     "text": [
      "khgizdVvza0PY7dr0nkm6n3IN4hrj3ZdFIXc8mXGyLK7BWBB90RMvIJwGwDbuC2SJ95zQ1-sdeVmPA\n"
     ]
    },
    {
     "name": "stderr",
     "output_type": "stream",
     "text": [
      " 15%|███████████▋                                                                   | 463/3118 [09:29<12:54,  3.43it/s]"
     ]
    },
    {
     "name": "stdout",
     "output_type": "stream",
     "text": [
      "x_I85mh67i25lZ2CNvjnFvgmUKLhfKfymQtjNC_pBtKLeLUGTM2Jtqeg38YhpX4P31ps-dbyM6CbDA\n"
     ]
    },
    {
     "name": "stderr",
     "output_type": "stream",
     "text": [
      " 15%|███████████▊                                                                   | 464/3118 [09:29<12:55,  3.42it/s]"
     ]
    },
    {
     "name": "stdout",
     "output_type": "stream",
     "text": [
      "Mt10_GLsE3orRD_40IYvJ4t-RDXMaYoUQ_W-M6DpaOJ8yyDMLB491gVVS7nfY-LlGgpUHiQcWpSARg\n"
     ]
    },
    {
     "name": "stderr",
     "output_type": "stream",
     "text": [
      " 15%|███████████▊                                                                   | 465/3118 [09:30<17:35,  2.51it/s]"
     ]
    },
    {
     "name": "stdout",
     "output_type": "stream",
     "text": [
      "DiS3yZgOocSRm5slCaCxPKxUDhPQz8xXiasEuP69Zc7S_1ds96J6iY0HW503emaW1Te2wFw0fpdNbQ\n"
     ]
    },
    {
     "name": "stderr",
     "output_type": "stream",
     "text": [
      " 15%|███████████▊                                                                   | 466/3118 [09:30<18:28,  2.39it/s]"
     ]
    },
    {
     "name": "stdout",
     "output_type": "stream",
     "text": [
      "QNSlYBdkmjRMnZjGOUjUp9mhVZdG0cPa59YiObpIuVqYarSNXBgcy4YpEK1V-y9oTbZBJJZQ8Che3A\n"
     ]
    },
    {
     "name": "stderr",
     "output_type": "stream",
     "text": [
      " 15%|███████████▊                                                                   | 467/3118 [09:31<16:51,  2.62it/s]"
     ]
    },
    {
     "name": "stdout",
     "output_type": "stream",
     "text": [
      "ib8l5gudZHWEPLRhlc5z3EznhiOcLxoByXLJl3j_ERnmLg8_dPMpjV8c7ojbUTcfQo9nsv4xyP8HFw\n"
     ]
    },
    {
     "name": "stderr",
     "output_type": "stream",
     "text": [
      " 15%|███████████▊                                                                   | 468/3118 [09:31<23:02,  1.92it/s]"
     ]
    },
    {
     "name": "stdout",
     "output_type": "stream",
     "text": [
      "lfSxEsJn07Ol7xo8IDQjKTOASuCsnTDqWKRrQKBkTShsCDCvhnZoaNdo3KE8ywO2vzazck36q4UGXA\n"
     ]
    },
    {
     "name": "stderr",
     "output_type": "stream",
     "text": [
      " 15%|███████████▉                                                                   | 469/3118 [09:32<19:34,  2.26it/s]"
     ]
    },
    {
     "name": "stdout",
     "output_type": "stream",
     "text": [
      "Brj-ha2llRWrxg4jzUi3gSPIzNBsTF9R0ekXLqxmvn3S_ucmxxYUVa0uijx2VL_Yx8iWqzr26ar_qQ\n"
     ]
    },
    {
     "name": "stderr",
     "output_type": "stream",
     "text": [
      " 15%|███████████▉                                                                   | 470/3118 [09:32<22:07,  1.99it/s]"
     ]
    },
    {
     "name": "stdout",
     "output_type": "stream",
     "text": [
      "RJnmXB9i_Bz0rgh06zbktkM5VWfklIKpVN3rLU4w6Ji4OKcv59x5xX1FqIlwyyWPqQ9Mv0AfJcxpLQ\n"
     ]
    },
    {
     "name": "stderr",
     "output_type": "stream",
     "text": [
      " 15%|███████████▉                                                                   | 471/3118 [09:33<18:54,  2.33it/s]"
     ]
    },
    {
     "name": "stdout",
     "output_type": "stream",
     "text": [
      "aSViC3gXahBwMgxCHHeGGjIjqR3X_96Q2k2PmQqTZF0Mzu2hTCjrMt5cdT5N7IOFzt-gDlvHV8TMeQ\n"
     ]
    },
    {
     "name": "stderr",
     "output_type": "stream",
     "text": [
      " 15%|███████████▉                                                                   | 472/3118 [09:33<16:35,  2.66it/s]"
     ]
    },
    {
     "name": "stdout",
     "output_type": "stream",
     "text": [
      "N4_rashy7WlpYDjIqZ3rYGeKMl3R_bAajj0HTVzuuXoHuPhmTu6_rszv3XhY7ZPOUVYDRfbSKWXS-Q\n"
     ]
    },
    {
     "name": "stderr",
     "output_type": "stream",
     "text": [
      " 15%|███████████▉                                                                   | 473/3118 [09:33<15:08,  2.91it/s]"
     ]
    },
    {
     "name": "stdout",
     "output_type": "stream",
     "text": [
      "rBDjUjYvNJMibbUCRPsH7vrzcFEDwMHAMdtV0we1tNrGTzudbKbhH0kGWZZLf4eK-appdZal8SsExQ\n"
     ]
    },
    {
     "name": "stderr",
     "output_type": "stream",
     "text": [
      " 15%|████████████                                                                   | 474/3118 [09:34<16:09,  2.73it/s]"
     ]
    },
    {
     "name": "stdout",
     "output_type": "stream",
     "text": [
      "lJ7nEbAUoJDdqXeOD1wyASFzI4_wYO6r4qSQpj7faC7YfhNp10IXzbXl7UhNay2O_BxeaQ2l8bA31w\n"
     ]
    },
    {
     "name": "stderr",
     "output_type": "stream",
     "text": [
      " 15%|████████████                                                                   | 475/3118 [09:34<14:43,  2.99it/s]"
     ]
    },
    {
     "name": "stdout",
     "output_type": "stream",
     "text": [
      "zlABzPztrX189KciibndRKLmvk_AdrgMTK7Trd0YS8WvgfLRmM1UkYvP83YMPhU763j5XiyonYaBDQ\n"
     ]
    },
    {
     "name": "stderr",
     "output_type": "stream",
     "text": [
      " 15%|████████████                                                                   | 476/3118 [09:34<13:34,  3.24it/s]"
     ]
    },
    {
     "name": "stdout",
     "output_type": "stream",
     "text": [
      "2p-JidUFjJAdOK-vl073dzJhWEupzsJfXw-_2-CpwJJFZ3IVZkBTMnBgCbQj3PUtfEBRdNX4MlZpiQ\n"
     ]
    },
    {
     "name": "stderr",
     "output_type": "stream",
     "text": [
      " 15%|████████████                                                                   | 477/3118 [09:34<13:01,  3.38it/s]"
     ]
    },
    {
     "name": "stdout",
     "output_type": "stream",
     "text": [
      "W7qKIegLkr_W3YwbaU_JmUAk5jFJdtfuCrG3W6Vevs_Vk5RBWlVzjXqpm1cj7IAncWMD40l8rjoJow\n"
     ]
    },
    {
     "name": "stderr",
     "output_type": "stream",
     "text": [
      " 15%|████████████                                                                   | 478/3118 [09:35<12:24,  3.55it/s]"
     ]
    },
    {
     "name": "stdout",
     "output_type": "stream",
     "text": [
      "IxYNCwNn6wyMNXEaQ3eWnwCJzsMDLURPTLSjKZ0xfDjp3viWDpmaL0lxTtBjT9wudpggySPPlU6cow\n"
     ]
    },
    {
     "name": "stderr",
     "output_type": "stream",
     "text": [
      " 15%|████████████▏                                                                  | 479/3118 [09:35<12:00,  3.66it/s]"
     ]
    },
    {
     "name": "stdout",
     "output_type": "stream",
     "text": [
      "M-2FhS0-kYOa1bp10Ru_siLgwGBlmsxjePa8mq5IY2g0TJfuZMi_lhyOBpX4yGrScZ1MrqjVZS7Rsg\n"
     ]
    },
    {
     "name": "stderr",
     "output_type": "stream",
     "text": [
      " 15%|████████████▏                                                                  | 480/3118 [09:35<13:06,  3.35it/s]"
     ]
    },
    {
     "name": "stdout",
     "output_type": "stream",
     "text": [
      "QmPCVH8Pczt9W7XgVAsju-ooTBSORnkQQbYmOf59PbghAC0ZECBEn1YeOCKFYl87B7ihoj06AFPc7g\n"
     ]
    },
    {
     "name": "stderr",
     "output_type": "stream",
     "text": [
      " 15%|████████████▏                                                                  | 481/3118 [09:35<12:26,  3.53it/s]"
     ]
    },
    {
     "name": "stdout",
     "output_type": "stream",
     "text": [
      "D7S6bowjeTU8KgBOKW5902J0y2wymxN5kA9zngFDyOPdKAA_loOvm-6uUlaO3j0-p98u4t4OBpVPhg\n"
     ]
    },
    {
     "name": "stderr",
     "output_type": "stream",
     "text": [
      " 15%|████████████▏                                                                  | 482/3118 [09:36<14:15,  3.08it/s]"
     ]
    },
    {
     "name": "stdout",
     "output_type": "stream",
     "text": [
      "4bHF8pHU5nfd-LvFX-AD00l5wokkE5vq7k7e6zXNAMBIY4WR4MCgbDtC-2YFCtpEO2GuW25nCzDnsg\n"
     ]
    },
    {
     "name": "stderr",
     "output_type": "stream",
     "text": [
      " 15%|████████████▏                                                                  | 483/3118 [09:36<13:15,  3.31it/s]"
     ]
    },
    {
     "name": "stdout",
     "output_type": "stream",
     "text": [
      "a2t2Y0pLmlfd451-koCW7FF3NKAXG-JvAiSyY0U_S9CNkAgpTQzSSwNEadf02FkHme5JOzSJ02TeZg\n"
     ]
    },
    {
     "name": "stderr",
     "output_type": "stream",
     "text": [
      " 16%|████████████▎                                                                  | 484/3118 [09:36<12:48,  3.43it/s]"
     ]
    },
    {
     "name": "stdout",
     "output_type": "stream",
     "text": [
      "uzFeAvU4w9Z06O4w0VC_avcP-wL1LaD4cT8vfVuk1jNcKYscPu57GIQVk7jWtQ7Q4SX06ySF2BwFmw\n"
     ]
    },
    {
     "name": "stderr",
     "output_type": "stream",
     "text": [
      " 16%|████████████▎                                                                  | 485/3118 [09:37<12:12,  3.59it/s]"
     ]
    },
    {
     "name": "stdout",
     "output_type": "stream",
     "text": [
      "SAJ52UIqlz42IwBlYAzdTURCCFt7Kzv88YXkTfnNdvPw7_yiussbKeA5IRbIbBJeiPvgozuxseD6rg\n"
     ]
    },
    {
     "name": "stderr",
     "output_type": "stream",
     "text": [
      " 16%|████████████▎                                                                  | 486/3118 [09:37<11:43,  3.74it/s]"
     ]
    },
    {
     "name": "stdout",
     "output_type": "stream",
     "text": [
      "Ge_lL6AJkKosJGlN-4W_bYU6qHYweZ6WAuI0FGQpHxyiSQYeL3RPcAWGZOOKEXZajKsPSsMtSknTSA\n"
     ]
    },
    {
     "name": "stderr",
     "output_type": "stream",
     "text": [
      " 16%|████████████▎                                                                  | 487/3118 [09:37<11:37,  3.77it/s]"
     ]
    },
    {
     "name": "stdout",
     "output_type": "stream",
     "text": [
      "0BKU4t_z3anhBwGoDCPXG0iGcId1KmB8OzOGUIAp12FCTV3H6cmJEL3bgFm7eELxe_MI12UNRwJ4_Q\n"
     ]
    },
    {
     "name": "stderr",
     "output_type": "stream",
     "text": [
      " 16%|████████████▎                                                                  | 488/3118 [09:37<11:38,  3.76it/s]"
     ]
    },
    {
     "name": "stdout",
     "output_type": "stream",
     "text": [
      "GtcAp0FyfrgNXvrF8Ss6emIW7fXiiPnFoJGpHuOh6ek5fY8mEsMHpAmi3Qc8Z-HEKVPW2XeVl59LVw\n"
     ]
    },
    {
     "name": "stderr",
     "output_type": "stream",
     "text": [
      " 16%|████████████▍                                                                  | 489/3118 [09:38<11:33,  3.79it/s]"
     ]
    },
    {
     "name": "stdout",
     "output_type": "stream",
     "text": [
      "Kf1NPghRS65Zv9lZdUYLtn9dfqDJ13IcDlitkh9rO53FUzhFBjuOFpd1NFqz7pQBE5AEUsd5s7rXWQ\n"
     ]
    },
    {
     "name": "stderr",
     "output_type": "stream",
     "text": [
      " 16%|████████████▍                                                                  | 490/3118 [09:38<11:57,  3.66it/s]"
     ]
    },
    {
     "name": "stdout",
     "output_type": "stream",
     "text": [
      "3-_qt5hslXLipRZW2hq46QcVDr3nGAFkBjYbMPXs-vRnW4-dR7hDvTWc67S9mXe3bDLTDCLmamMy7Q\n"
     ]
    },
    {
     "name": "stderr",
     "output_type": "stream",
     "text": [
      " 16%|████████████▍                                                                  | 491/3118 [09:38<11:56,  3.67it/s]"
     ]
    },
    {
     "name": "stdout",
     "output_type": "stream",
     "text": [
      "vsff3Gva-DRhQKRaPEWIqgDy_gCaCiJE_SftLSGH-nmhzf_tfSeKjqAuiaQejqTikCKjQ8JoPUSbkw\n"
     ]
    },
    {
     "name": "stderr",
     "output_type": "stream",
     "text": [
      " 16%|████████████▍                                                                  | 492/3118 [09:38<11:40,  3.75it/s]"
     ]
    },
    {
     "name": "stdout",
     "output_type": "stream",
     "text": [
      "5ylCExPQotmpokY1E56H6z7DE1TAK2W_9dQ3ssDkmAXGITyKBRlq0NFMif5Nw9CocwA3HkoFd2lXAw\n"
     ]
    },
    {
     "name": "stderr",
     "output_type": "stream",
     "text": [
      " 16%|████████████▍                                                                  | 493/3118 [09:39<11:41,  3.74it/s]"
     ]
    },
    {
     "name": "stdout",
     "output_type": "stream",
     "text": [
      "lJ9SNI2i7AECQoLPgrXIrOOb-8pWSdZqbCaxyTSAyvIUW1mDAsnhm43yX6lAdihhuf1zE4Og9nC5cg\n"
     ]
    },
    {
     "name": "stderr",
     "output_type": "stream",
     "text": [
      " 16%|████████████▌                                                                  | 494/3118 [09:39<11:30,  3.80it/s]"
     ]
    },
    {
     "name": "stdout",
     "output_type": "stream",
     "text": [
      "arOtKdm9YqQMD5k6CcyyFSia50sOvQgso2Gfl-o2h2_jOcE9imIyF0-ntaK0d1a4mo0YHO5dAaOWIQ\n"
     ]
    },
    {
     "name": "stderr",
     "output_type": "stream",
     "text": [
      " 16%|████████████▌                                                                  | 495/3118 [09:39<11:17,  3.87it/s]"
     ]
    },
    {
     "name": "stdout",
     "output_type": "stream",
     "text": [
      "5p3sHQOYgZ1HnFz9cLSKDziQ1Y8HTw4R83Suhud7YI21E9d2a8gRitlbgFwgoXHaoQjGgOgPHLNl2w\n"
     ]
    },
    {
     "name": "stderr",
     "output_type": "stream",
     "text": [
      " 16%|████████████▌                                                                  | 496/3118 [09:39<11:07,  3.93it/s]"
     ]
    },
    {
     "name": "stdout",
     "output_type": "stream",
     "text": [
      "IF96fA363OLym8olLDdMnqdnvRRqSyYyUP_9vekt993YJ0cCbLAuGCaQcVK58bCiMgDxVeDeOo0-Bw\n"
     ]
    },
    {
     "name": "stderr",
     "output_type": "stream",
     "text": [
      " 16%|████████████▌                                                                  | 497/3118 [09:40<11:08,  3.92it/s]"
     ]
    },
    {
     "name": "stdout",
     "output_type": "stream",
     "text": [
      "0tAA0nnHk871RGKN-Ax8Bm9FLLlUIaBljkcTlBbet79o4s_L4UPlxdYN0uQQVgGQpf529G-GIvF9hg\n"
     ]
    },
    {
     "name": "stderr",
     "output_type": "stream",
     "text": [
      " 16%|████████████▌                                                                  | 498/3118 [09:40<11:14,  3.88it/s]"
     ]
    },
    {
     "name": "stdout",
     "output_type": "stream",
     "text": [
      "Qkz3noPSD-EJdrcdG6vCkOzyrVb0Y1S5rgMMMaKFDnOLZwkfKVs_61ExGACGsConSelJsPFdd9qPjw\n"
     ]
    },
    {
     "name": "stderr",
     "output_type": "stream",
     "text": [
      " 16%|████████████▋                                                                  | 499/3118 [09:40<11:50,  3.69it/s]"
     ]
    },
    {
     "name": "stdout",
     "output_type": "stream",
     "text": [
      "sURlD0KJ4Dh6MY3vvp_ivuEtZS4YkmEa7BsG1ZtFbrxx6agpTyxwrxZt1zmzhWO73ZW9WXYocNNC2w\n"
     ]
    },
    {
     "name": "stderr",
     "output_type": "stream",
     "text": [
      " 16%|████████████▋                                                                  | 500/3118 [09:41<11:40,  3.74it/s]"
     ]
    },
    {
     "name": "stdout",
     "output_type": "stream",
     "text": [
      "VN5xSCzeagLrSMD1mD6fvThqJ84lmARnlVSmxj-o9-PLD6mQxpZCUZSdIwpsWZ_0gXRfEM9B_g8ovA\n"
     ]
    },
    {
     "name": "stderr",
     "output_type": "stream",
     "text": [
      " 16%|████████████▋                                                                  | 501/3118 [09:41<11:30,  3.79it/s]"
     ]
    },
    {
     "name": "stdout",
     "output_type": "stream",
     "text": [
      "sFHsjPq3N6wp9MSyvIxChsynQj1U7q5G1Tg3fKsMNhy7Mar8znR2AZPTKtL84CFOahiS40XBFrCilg\n"
     ]
    },
    {
     "name": "stderr",
     "output_type": "stream",
     "text": [
      " 16%|████████████▋                                                                  | 502/3118 [09:41<11:48,  3.69it/s]"
     ]
    },
    {
     "name": "stdout",
     "output_type": "stream",
     "text": [
      "_FWCbAmLBrcad4bNEcMBNuvQGNxBP5zMs4ZhpDKYWV0H8nUP_a35XMR9YhSbQZqTTMdTJ_SR7mX1ZA\n"
     ]
    },
    {
     "name": "stderr",
     "output_type": "stream",
     "text": [
      " 16%|████████████▋                                                                  | 503/3118 [09:41<12:12,  3.57it/s]"
     ]
    },
    {
     "name": "stdout",
     "output_type": "stream",
     "text": [
      "jtzrWXmP7dzfubLK5eSnO-ujo64RvJkXkVqxCflgfW2O-7by9HnoErcYb6TuOXIzJe2yLgoFiSJtBA\n"
     ]
    },
    {
     "name": "stderr",
     "output_type": "stream",
     "text": [
      " 16%|████████████▊                                                                  | 504/3118 [09:42<11:45,  3.71it/s]"
     ]
    },
    {
     "name": "stdout",
     "output_type": "stream",
     "text": [
      "MCksqaLyCd5iZ0lcdLUZklH3RHhUdAxhO9Ct0NHKUGnpK0bF4aOSUz0XOVeFMcr5CG2wKiEASGSAuQ\n"
     ]
    },
    {
     "name": "stderr",
     "output_type": "stream",
     "text": [
      " 16%|████████████▊                                                                  | 505/3118 [09:42<15:17,  2.85it/s]"
     ]
    },
    {
     "name": "stdout",
     "output_type": "stream",
     "text": [
      "CfG7nEHGJYrOy6JitV3c5CikwGS33M4CFd2bO-2qJWYYdbChVrDMz6Kx3b6efui2K8OhCTCEavT8hQ\n"
     ]
    },
    {
     "name": "stderr",
     "output_type": "stream",
     "text": [
      " 16%|████████████▊                                                                  | 506/3118 [09:42<13:57,  3.12it/s]"
     ]
    },
    {
     "name": "stdout",
     "output_type": "stream",
     "text": [
      "MyfvTfE3CVCcFkSurrpwE56v_-w3DFs9OO84s_E7MMlL2QFWopZys4Nw10PRXKmBnDiTH37JjBVNZw\n"
     ]
    },
    {
     "name": "stderr",
     "output_type": "stream",
     "text": [
      " 16%|████████████▊                                                                  | 507/3118 [09:43<18:27,  2.36it/s]"
     ]
    }
   ],
   "source": [
    "accountId = {}\n",
    "\n",
    "for i,j in zip(tqdm(summonerId.values()),summonerId.keys()):\n",
    "    url2 = 'https://kr.api.riotgames.com/lol/summoner/v4/summoners/' + i + '?api_key=' + api_key\n",
    "    r = requests.get(url2)\n",
    "    \n",
    "    if r.status_code == 200: # response가 정상이면 바로 맨 밑으로 이동하여 정상적으로 코드 실행\n",
    "        pass\n",
    "    \n",
    "    elif r.status_code == 429:\n",
    "        print('api cost full : infinite loop start')\n",
    "        print('loop location : ',i)\n",
    "        start_time = time.time()\n",
    "        \n",
    "        while True: # 429error가 끝날 때까지 무한 루프\n",
    "            if r.status_code == 429:\n",
    "\n",
    "                print('try 10 second wait time')\n",
    "                time.sleep(10)\n",
    "\n",
    "                r = requests.get(url2)\n",
    "                print(r.status_code)\n",
    "\n",
    "            elif r.status_code == 200: #다시 response 200이면 loop escape\n",
    "                print('total wait time : ', time.time() - start_time)\n",
    "                print('recovery api cost')\n",
    "                break\n",
    "    \n",
    "    r = r.json()['puuid']\n",
    "    print(r)\n",
    "    accountId[j] = r"
   ]
  },
  {
   "cell_type": "code",
   "execution_count": 3,
   "id": "4a42e9b4",
   "metadata": {},
   "outputs": [
    {
     "ename": "NameError",
     "evalue": "name 'accountId' is not defined",
     "output_type": "error",
     "traceback": [
      "\u001b[1;31m---------------------------------------------------------------------------\u001b[0m",
      "\u001b[1;31mNameError\u001b[0m                                 Traceback (most recent call last)",
      "\u001b[1;32m~\\AppData\\Local\\Temp/ipykernel_15212/1774221417.py\u001b[0m in \u001b[0;36m<module>\u001b[1;34m\u001b[0m\n\u001b[0;32m      5\u001b[0m \u001b[1;33m\u001b[0m\u001b[0m\n\u001b[0;32m      6\u001b[0m \u001b[1;33m\u001b[0m\u001b[0m\n\u001b[1;32m----> 7\u001b[1;33m \u001b[1;32mfor\u001b[0m \u001b[0mi\u001b[0m \u001b[1;32min\u001b[0m \u001b[0mtqdm\u001b[0m\u001b[1;33m(\u001b[0m\u001b[0maccountId\u001b[0m\u001b[1;33m.\u001b[0m\u001b[0mvalues\u001b[0m\u001b[1;33m(\u001b[0m\u001b[1;33m)\u001b[0m\u001b[1;33m)\u001b[0m\u001b[1;33m:\u001b[0m\u001b[1;33m\u001b[0m\u001b[1;33m\u001b[0m\u001b[0m\n\u001b[0m\u001b[0;32m      8\u001b[0m     \u001b[0murl3\u001b[0m \u001b[1;33m=\u001b[0m \u001b[1;34m'https://asia.api.riotgames.com/lol/match/v5/matches/by-puuid/'\u001b[0m\u001b[1;33m+\u001b[0m \u001b[0mi\u001b[0m \u001b[1;33m+\u001b[0m\u001b[1;34m'/ids?start=1&count=20'\u001b[0m\u001b[1;33m\u001b[0m\u001b[1;33m\u001b[0m\u001b[0m\n\u001b[0;32m      9\u001b[0m     \u001b[0mr\u001b[0m \u001b[1;33m=\u001b[0m \u001b[0mrequests\u001b[0m\u001b[1;33m.\u001b[0m\u001b[0mget\u001b[0m\u001b[1;33m(\u001b[0m\u001b[0murl3\u001b[0m\u001b[1;33m)\u001b[0m\u001b[1;33m\u001b[0m\u001b[1;33m\u001b[0m\u001b[0m\n",
      "\u001b[1;31mNameError\u001b[0m: name 'accountId' is not defined"
     ]
    }
   ],
   "source": [
    "gameId = []\n",
    "import pprint\n",
    "# url3 = 'https://kr.api.riotgames.com/lol/match/v4/matchlists/by-account/hqMv8JiT0hjKc96iqUz9ucXFPgsENmbI_5OHPmlyVOCZxwE?queue=420&api_key=RGAPI-e456f533-671c-4947-b960-98443960695b'\n",
    "\n",
    "\n",
    "\n",
    "for i in tqdm(accountId.values()):\n",
    "    url3 = 'https://asia.api.riotgames.com/lol/match/v5/matches/by-puuid/'+ i +'/ids?start=1&count=20'\n",
    "    r = requests.get(url3)\n",
    "    \n",
    "    if r.status_code == 200: # response가 정상이면 바로 맨 밑으로 이동하여 정상적으로 코드 실행\n",
    "        pass\n",
    "    \n",
    "    elif r.status_code == 429:\n",
    "        print('api cost full : infinite loop start')\n",
    "        print('loop location : ',i)\n",
    "        start_time = time.time()\n",
    "        \n",
    "        while True: # 429error가 끝날 때까지 무한 루프\n",
    "            if r.status_code == 429:\n",
    "\n",
    "                print('try 10 second wait time')\n",
    "                time.sleep(10)\n",
    "\n",
    "                r = requests.get(url2)\n",
    "                print(r.status_code)\n",
    "\n",
    "            elif r.status_code == 200: #다시 response 200이면 loop escape\n",
    "                print('total wait time : ', time.time() - start_time)\n",
    "                print('recovery api cost')\n",
    "                break\n",
    "                \n",
    "    r = requests.get(url3, headers=request_header).json()\n",
    "    gameId.append(r)"
   ]
  },
  {
   "cell_type": "code",
   "execution_count": 15,
   "id": "ae2884d8",
   "metadata": {},
   "outputs": [
    {
     "data": {
      "text/plain": [
       "'KR_5671738633'"
      ]
     },
     "execution_count": 15,
     "metadata": {},
     "output_type": "execute_result"
    }
   ],
   "source": [
    "gameId[0][2]"
   ]
  },
  {
   "cell_type": "code",
   "execution_count": 16,
   "id": "a03b59cb",
   "metadata": {},
   "outputs": [
    {
     "data": {
      "text/plain": [
       "{'metadata': {'dataVersion': '2',\n",
       "  'matchId': 'KR_5671738633',\n",
       "  'participants': ['gQEz5pzJ23bmw_efhLiEYhckpIjmTNK1SrD1IQo1wGKUBcA0kcmNvMnA2P0X_bjhWAh76z6QOYn6hw',\n",
       "   'x5iagNlhdQeZDqq27NBfcB_BaiiL1HwCg41ObOTeqAjq8JFm9bKAFipE2tejqkUILy5ok-vSueKwFw',\n",
       "   'jMig6W7zeDR2Ed_6Ry3kJ0vWKtW-pv_zqjoMaxgUDZJuSPEK9_EaH2rKldwvKtTABw3OIRe8VSuPyg',\n",
       "   'eOQ9JlQA0RcZW4da84XksR7fBxWGh6ZRYf3bTlYospxtUvw34UvI_ciKelgFFKDq9H5tMSQBqZi4PQ',\n",
       "   'QvCnkusu8d-z5bD2UeNkxQMYfcC6LWp_RNhYx872m6zyQxUIVXq7z-rLh7uU8iQvxu9M4zs3xSLYbw',\n",
       "   'l_4wZy87Sns8jCcr8WNJI1cRBtV3IwkkNYasYnPF1wGOo3LjYFvO1UFxDWjUagHPIA0d1IlYMiXT4Q',\n",
       "   '5JE3_wcOm7bHf0OATqBeRzgTN0tlH9cLeDH13FZhvEt2yMOfD9FpipKAwYJNSaxMS6tGczlQioxQog',\n",
       "   '1DuEU_BPh9hfGKcguC1Yl5IRNPExfYeMBvdl54y0Ee26XuM6TXEGYXtATchmHw-L_dC64PZeNteA7g',\n",
       "   '3VG4-t7zlDMdP1ahZIKJ_OYr0an7B1UOHJ3Kt-vK6hfczqWUMP_lsgWuQtXOM1-9VulaAc77mtHhKw',\n",
       "   'U7ACnhTWGL-tpYYYWzcMUGjcmlo6weqf2CZQLDbMmkqypQcMj1oU4dDB_Tbynuxp2jpz-nLETFSbvg']},\n",
       " 'info': {'gameCreation': 1641375962000,\n",
       "  'gameDuration': 1762,\n",
       "  'gameEndTimestamp': 1641377745466,\n",
       "  'gameId': 5671738633,\n",
       "  'gameMode': 'CLASSIC',\n",
       "  'gameName': 'teambuilder-match-5671738633',\n",
       "  'gameStartTimestamp': 1641375983014,\n",
       "  'gameType': 'MATCHED_GAME',\n",
       "  'gameVersion': '12.1.414.6260',\n",
       "  'mapId': 11,\n",
       "  'participants': [{'assists': 14,\n",
       "    'baronKills': 0,\n",
       "    'bountyLevel': 1,\n",
       "    'champExperience': 15088,\n",
       "    'champLevel': 16,\n",
       "    'championId': 78,\n",
       "    'championName': 'Poppy',\n",
       "    'championTransform': 0,\n",
       "    'consumablesPurchased': 1,\n",
       "    'damageDealtToBuildings': 5016,\n",
       "    'damageDealtToObjectives': 6285,\n",
       "    'damageDealtToTurrets': 5016,\n",
       "    'damageSelfMitigated': 39821,\n",
       "    'deaths': 5,\n",
       "    'detectorWardsPlaced': 0,\n",
       "    'doubleKills': 1,\n",
       "    'dragonKills': 0,\n",
       "    'firstBloodAssist': True,\n",
       "    'firstBloodKill': False,\n",
       "    'firstTowerAssist': False,\n",
       "    'firstTowerKill': False,\n",
       "    'gameEndedInEarlySurrender': False,\n",
       "    'gameEndedInSurrender': False,\n",
       "    'goldEarned': 11774,\n",
       "    'goldSpent': 10950,\n",
       "    'individualPosition': 'TOP',\n",
       "    'inhibitorKills': 0,\n",
       "    'inhibitorTakedowns': 1,\n",
       "    'inhibitorsLost': 0,\n",
       "    'item0': 3047,\n",
       "    'item1': 0,\n",
       "    'item2': 3053,\n",
       "    'item3': 6632,\n",
       "    'item4': 4401,\n",
       "    'item5': 0,\n",
       "    'item6': 3340,\n",
       "    'itemsPurchased': 18,\n",
       "    'killingSprees': 1,\n",
       "    'kills': 7,\n",
       "    'lane': 'TOP',\n",
       "    'largestCriticalStrike': 0,\n",
       "    'largestKillingSpree': 3,\n",
       "    'largestMultiKill': 2,\n",
       "    'longestTimeSpentLiving': 661,\n",
       "    'magicDamageDealt': 5891,\n",
       "    'magicDamageDealtToChampions': 3632,\n",
       "    'magicDamageTaken': 10726,\n",
       "    'neutralMinionsKilled': 4,\n",
       "    'nexusKills': 0,\n",
       "    'nexusLost': 0,\n",
       "    'nexusTakedowns': 1,\n",
       "    'objectivesStolen': 0,\n",
       "    'objectivesStolenAssists': 0,\n",
       "    'participantId': 1,\n",
       "    'pentaKills': 0,\n",
       "    'perks': {'statPerks': {'defense': 5002, 'flex': 5008, 'offense': 5008},\n",
       "     'styles': [{'description': 'primaryStyle',\n",
       "       'selections': [{'perk': 8437, 'var1': 1617, 'var2': 1390, 'var3': 0},\n",
       "        {'perk': 8401, 'var1': 517, 'var2': 0, 'var3': 0},\n",
       "        {'perk': 8473, 'var1': 516, 'var2': 0, 'var3': 0},\n",
       "        {'perk': 8453, 'var1': 1090, 'var2': 1484, 'var3': 0}],\n",
       "       'style': 8400},\n",
       "      {'description': 'subStyle',\n",
       "       'selections': [{'perk': 8345, 'var1': 3, 'var2': 0, 'var3': 0},\n",
       "        {'perk': 8352, 'var1': 464, 'var2': 2375, 'var3': 1312}],\n",
       "       'style': 8300}]},\n",
       "    'physicalDamageDealt': 112078,\n",
       "    'physicalDamageDealtToChampions': 22427,\n",
       "    'physicalDamageTaken': 17387,\n",
       "    'profileIcon': 3495,\n",
       "    'puuid': 'gQEz5pzJ23bmw_efhLiEYhckpIjmTNK1SrD1IQo1wGKUBcA0kcmNvMnA2P0X_bjhWAh76z6QOYn6hw',\n",
       "    'quadraKills': 0,\n",
       "    'riotIdName': '',\n",
       "    'riotIdTagline': '',\n",
       "    'role': 'SOLO',\n",
       "    'sightWardsBoughtInGame': 0,\n",
       "    'spell1Casts': 114,\n",
       "    'spell2Casts': 30,\n",
       "    'spell3Casts': 41,\n",
       "    'spell4Casts': 9,\n",
       "    'summoner1Casts': 4,\n",
       "    'summoner1Id': 12,\n",
       "    'summoner2Casts': 4,\n",
       "    'summoner2Id': 4,\n",
       "    'summonerId': 'nkNGeAPDfdmZTAOLCcKyV49LEPJTjHlrnFHjYd5vtH7eAb0',\n",
       "    'summonerLevel': 468,\n",
       "    'summonerName': '칼과 창 방패',\n",
       "    'teamEarlySurrendered': False,\n",
       "    'teamId': 100,\n",
       "    'teamPosition': 'TOP',\n",
       "    'timeCCingOthers': 32,\n",
       "    'timePlayed': 1762,\n",
       "    'totalDamageDealt': 118307,\n",
       "    'totalDamageDealtToChampions': 26397,\n",
       "    'totalDamageShieldedOnTeammates': 0,\n",
       "    'totalDamageTaken': 30925,\n",
       "    'totalHeal': 11331,\n",
       "    'totalHealsOnTeammates': 0,\n",
       "    'totalMinionsKilled': 143,\n",
       "    'totalTimeCCDealt': 576,\n",
       "    'totalTimeSpentDead': 181,\n",
       "    'totalUnitsHealed': 1,\n",
       "    'tripleKills': 0,\n",
       "    'trueDamageDealt': 337,\n",
       "    'trueDamageDealtToChampions': 337,\n",
       "    'trueDamageTaken': 2810,\n",
       "    'turretKills': 1,\n",
       "    'turretTakedowns': 4,\n",
       "    'turretsLost': 5,\n",
       "    'unrealKills': 0,\n",
       "    'visionScore': 8,\n",
       "    'visionWardsBoughtInGame': 0,\n",
       "    'wardsKilled': 1,\n",
       "    'wardsPlaced': 7,\n",
       "    'win': True},\n",
       "   {'assists': 10,\n",
       "    'baronKills': 0,\n",
       "    'bountyLevel': 0,\n",
       "    'champExperience': 15355,\n",
       "    'champLevel': 16,\n",
       "    'championId': 421,\n",
       "    'championName': 'RekSai',\n",
       "    'championTransform': 0,\n",
       "    'consumablesPurchased': 4,\n",
       "    'damageDealtToBuildings': 1002,\n",
       "    'damageDealtToObjectives': 32506,\n",
       "    'damageDealtToTurrets': 1002,\n",
       "    'damageSelfMitigated': 19438,\n",
       "    'deaths': 8,\n",
       "    'detectorWardsPlaced': 4,\n",
       "    'doubleKills': 3,\n",
       "    'dragonKills': 1,\n",
       "    'firstBloodAssist': False,\n",
       "    'firstBloodKill': True,\n",
       "    'firstTowerAssist': False,\n",
       "    'firstTowerKill': False,\n",
       "    'gameEndedInEarlySurrender': False,\n",
       "    'gameEndedInSurrender': False,\n",
       "    'goldEarned': 14916,\n",
       "    'goldSpent': 14100,\n",
       "    'individualPosition': 'JUNGLE',\n",
       "    'inhibitorKills': 0,\n",
       "    'inhibitorTakedowns': 0,\n",
       "    'inhibitorsLost': 0,\n",
       "    'item0': 3814,\n",
       "    'item1': 6693,\n",
       "    'item2': 6695,\n",
       "    'item3': 3026,\n",
       "    'item4': 3134,\n",
       "    'item5': 3047,\n",
       "    'item6': 3364,\n",
       "    'itemsPurchased': 25,\n",
       "    'killingSprees': 3,\n",
       "    'kills': 16,\n",
       "    'lane': 'JUNGLE',\n",
       "    'largestCriticalStrike': 0,\n",
       "    'largestKillingSpree': 6,\n",
       "    'largestMultiKill': 3,\n",
       "    'longestTimeSpentLiving': 526,\n",
       "    'magicDamageDealt': 7411,\n",
       "    'magicDamageDealtToChampions': 0,\n",
       "    'magicDamageTaken': 11934,\n",
       "    'neutralMinionsKilled': 155,\n",
       "    'nexusKills': 0,\n",
       "    'nexusLost': 0,\n",
       "    'nexusTakedowns': 0,\n",
       "    'objectivesStolen': 0,\n",
       "    'objectivesStolenAssists': 0,\n",
       "    'participantId': 2,\n",
       "    'pentaKills': 0,\n",
       "    'perks': {'statPerks': {'defense': 5002, 'flex': 5008, 'offense': 5005},\n",
       "     'styles': [{'description': 'primaryStyle',\n",
       "       'selections': [{'perk': 8010, 'var1': 437, 'var2': 0, 'var3': 0},\n",
       "        {'perk': 9111, 'var1': 1536, 'var2': 520, 'var3': 0},\n",
       "        {'perk': 9105, 'var1': 12, 'var2': 10, 'var3': 0},\n",
       "        {'perk': 8014, 'var1': 638, 'var2': 0, 'var3': 0}],\n",
       "       'style': 8000},\n",
       "      {'description': 'subStyle',\n",
       "       'selections': [{'perk': 8304, 'var1': 9, 'var2': 0, 'var3': 0},\n",
       "        {'perk': 8347, 'var1': 0, 'var2': 0, 'var3': 0}],\n",
       "       'style': 8300}]},\n",
       "    'physicalDamageDealt': 150033,\n",
       "    'physicalDamageDealtToChampions': 19675,\n",
       "    'physicalDamageTaken': 18714,\n",
       "    'profileIcon': 23,\n",
       "    'puuid': 'x5iagNlhdQeZDqq27NBfcB_BaiiL1HwCg41ObOTeqAjq8JFm9bKAFipE2tejqkUILy5ok-vSueKwFw',\n",
       "    'quadraKills': 0,\n",
       "    'riotIdName': '',\n",
       "    'riotIdTagline': '',\n",
       "    'role': 'NONE',\n",
       "    'sightWardsBoughtInGame': 0,\n",
       "    'spell1Casts': 178,\n",
       "    'spell2Casts': 181,\n",
       "    'spell3Casts': 130,\n",
       "    'spell4Casts': 10,\n",
       "    'summoner1Casts': 19,\n",
       "    'summoner1Id': 11,\n",
       "    'summoner2Casts': 5,\n",
       "    'summoner2Id': 4,\n",
       "    'summonerId': 'FvBmISuY1hJRse96Bxx3Ord8MfWgDjOq2jYNs0rgXD-Vafi8pfnCgKHDgQ',\n",
       "    'summonerLevel': 183,\n",
       "    'summonerName': '돌아와요 박효신 ',\n",
       "    'teamEarlySurrendered': False,\n",
       "    'teamId': 100,\n",
       "    'teamPosition': 'JUNGLE',\n",
       "    'timeCCingOthers': 22,\n",
       "    'timePlayed': 1762,\n",
       "    'totalDamageDealt': 189237,\n",
       "    'totalDamageDealtToChampions': 24282,\n",
       "    'totalDamageShieldedOnTeammates': 0,\n",
       "    'totalDamageTaken': 31995,\n",
       "    'totalHeal': 13290,\n",
       "    'totalHealsOnTeammates': 0,\n",
       "    'totalMinionsKilled': 28,\n",
       "    'totalTimeCCDealt': 271,\n",
       "    'totalTimeSpentDead': 261,\n",
       "    'totalUnitsHealed': 1,\n",
       "    'tripleKills': 1,\n",
       "    'trueDamageDealt': 31792,\n",
       "    'trueDamageDealtToChampions': 4607,\n",
       "    'trueDamageTaken': 1346,\n",
       "    'turretKills': 0,\n",
       "    'turretTakedowns': 3,\n",
       "    'turretsLost': 5,\n",
       "    'unrealKills': 0,\n",
       "    'visionScore': 34,\n",
       "    'visionWardsBoughtInGame': 4,\n",
       "    'wardsKilled': 5,\n",
       "    'wardsPlaced': 6,\n",
       "    'win': True},\n",
       "   {'assists': 19,\n",
       "    'baronKills': 0,\n",
       "    'bountyLevel': 0,\n",
       "    'champExperience': 16147,\n",
       "    'champLevel': 16,\n",
       "    'championId': 13,\n",
       "    'championName': 'Ryze',\n",
       "    'championTransform': 0,\n",
       "    'consumablesPurchased': 5,\n",
       "    'damageDealtToBuildings': 1090,\n",
       "    'damageDealtToObjectives': 9658,\n",
       "    'damageDealtToTurrets': 1090,\n",
       "    'damageSelfMitigated': 26739,\n",
       "    'deaths': 7,\n",
       "    'detectorWardsPlaced': 3,\n",
       "    'doubleKills': 1,\n",
       "    'dragonKills': 1,\n",
       "    'firstBloodAssist': True,\n",
       "    'firstBloodKill': False,\n",
       "    'firstTowerAssist': False,\n",
       "    'firstTowerKill': False,\n",
       "    'gameEndedInEarlySurrender': False,\n",
       "    'gameEndedInSurrender': False,\n",
       "    'goldEarned': 12969,\n",
       "    'goldSpent': 13875,\n",
       "    'individualPosition': 'MIDDLE',\n",
       "    'inhibitorKills': 1,\n",
       "    'inhibitorTakedowns': 1,\n",
       "    'inhibitorsLost': 0,\n",
       "    'item0': 6656,\n",
       "    'item1': 4401,\n",
       "    'item2': 3121,\n",
       "    'item3': 3110,\n",
       "    'item4': 2055,\n",
       "    'item5': 3158,\n",
       "    'item6': 3364,\n",
       "    'itemsPurchased': 27,\n",
       "    'killingSprees': 2,\n",
       "    'kills': 7,\n",
       "    'lane': 'MIDDLE',\n",
       "    'largestCriticalStrike': 0,\n",
       "    'largestKillingSpree': 3,\n",
       "    'largestMultiKill': 2,\n",
       "    'longestTimeSpentLiving': 469,\n",
       "    'magicDamageDealt': 144054,\n",
       "    'magicDamageDealtToChampions': 18581,\n",
       "    'magicDamageTaken': 10460,\n",
       "    'neutralMinionsKilled': 40,\n",
       "    'nexusKills': 0,\n",
       "    'nexusLost': 0,\n",
       "    'nexusTakedowns': 0,\n",
       "    'objectivesStolen': 0,\n",
       "    'objectivesStolenAssists': 0,\n",
       "    'participantId': 3,\n",
       "    'pentaKills': 0,\n",
       "    'perks': {'statPerks': {'defense': 5003, 'flex': 5008, 'offense': 5005},\n",
       "     'styles': [{'description': 'primaryStyle',\n",
       "       'selections': [{'perk': 8230, 'var1': 24, 'var2': 0, 'var3': 0},\n",
       "        {'perk': 8226, 'var1': 250, 'var2': 1774, 'var3': 0},\n",
       "        {'perk': 8210, 'var1': 15, 'var2': 0, 'var3': 0},\n",
       "        {'perk': 8232, 'var1': 3, 'var2': 10, 'var3': 0}],\n",
       "       'style': 8200},\n",
       "      {'description': 'subStyle',\n",
       "       'selections': [{'perk': 8345, 'var1': 3, 'var2': 0, 'var3': 0},\n",
       "        {'perk': 8352, 'var1': 431, 'var2': 2466, 'var3': 1740}],\n",
       "       'style': 8300}]},\n",
       "    'physicalDamageDealt': 12552,\n",
       "    'physicalDamageDealtToChampions': 2727,\n",
       "    'physicalDamageTaken': 17361,\n",
       "    'profileIcon': 4912,\n",
       "    'puuid': 'jMig6W7zeDR2Ed_6Ry3kJ0vWKtW-pv_zqjoMaxgUDZJuSPEK9_EaH2rKldwvKtTABw3OIRe8VSuPyg',\n",
       "    'quadraKills': 0,\n",
       "    'riotIdName': '',\n",
       "    'riotIdTagline': '',\n",
       "    'role': 'DUO',\n",
       "    'sightWardsBoughtInGame': 0,\n",
       "    'spell1Casts': 249,\n",
       "    'spell2Casts': 69,\n",
       "    'spell3Casts': 349,\n",
       "    'spell4Casts': 10,\n",
       "    'summoner1Casts': 5,\n",
       "    'summoner1Id': 4,\n",
       "    'summoner2Casts': 5,\n",
       "    'summoner2Id': 12,\n",
       "    'summonerId': 'nR9AA6PjCmvh6cdWVuGFHO9W14sAn8aGPnzjH-4KUuu2_oEj',\n",
       "    'summonerLevel': 400,\n",
       "    'summonerName': 'qwezxasd',\n",
       "    'teamEarlySurrendered': False,\n",
       "    'teamId': 100,\n",
       "    'teamPosition': 'MIDDLE',\n",
       "    'timeCCingOthers': 35,\n",
       "    'timePlayed': 1762,\n",
       "    'totalDamageDealt': 157371,\n",
       "    'totalDamageDealtToChampions': 21765,\n",
       "    'totalDamageShieldedOnTeammates': 0,\n",
       "    'totalDamageTaken': 30212,\n",
       "    'totalHeal': 2483,\n",
       "    'totalHealsOnTeammates': 0,\n",
       "    'totalMinionsKilled': 185,\n",
       "    'totalTimeCCDealt': 390,\n",
       "    'totalTimeSpentDead': 227,\n",
       "    'totalUnitsHealed': 1,\n",
       "    'tripleKills': 0,\n",
       "    'trueDamageDealt': 764,\n",
       "    'trueDamageDealtToChampions': 456,\n",
       "    'trueDamageTaken': 2391,\n",
       "    'turretKills': 0,\n",
       "    'turretTakedowns': 2,\n",
       "    'turretsLost': 5,\n",
       "    'unrealKills': 0,\n",
       "    'visionScore': 26,\n",
       "    'visionWardsBoughtInGame': 5,\n",
       "    'wardsKilled': 7,\n",
       "    'wardsPlaced': 5,\n",
       "    'win': True},\n",
       "   {'assists': 17,\n",
       "    'baronKills': 0,\n",
       "    'bountyLevel': 3,\n",
       "    'champExperience': 16572,\n",
       "    'champLevel': 17,\n",
       "    'championId': 115,\n",
       "    'championName': 'Ziggs',\n",
       "    'championTransform': 0,\n",
       "    'consumablesPurchased': 5,\n",
       "    'damageDealtToBuildings': 31191,\n",
       "    'damageDealtToObjectives': 34889,\n",
       "    'damageDealtToTurrets': 31191,\n",
       "    'damageSelfMitigated': 8119,\n",
       "    'deaths': 5,\n",
       "    'detectorWardsPlaced': 3,\n",
       "    'doubleKills': 2,\n",
       "    'dragonKills': 0,\n",
       "    'firstBloodAssist': False,\n",
       "    'firstBloodKill': False,\n",
       "    'firstTowerAssist': False,\n",
       "    'firstTowerKill': True,\n",
       "    'gameEndedInEarlySurrender': False,\n",
       "    'gameEndedInSurrender': False,\n",
       "    'goldEarned': 17485,\n",
       "    'goldSpent': 15675,\n",
       "    'individualPosition': 'BOTTOM',\n",
       "    'inhibitorKills': 0,\n",
       "    'inhibitorTakedowns': 1,\n",
       "    'inhibitorsLost': 0,\n",
       "    'item0': 3135,\n",
       "    'item1': 6653,\n",
       "    'item2': 3041,\n",
       "    'item3': 3089,\n",
       "    'item4': 3165,\n",
       "    'item5': 3020,\n",
       "    'item6': 3363,\n",
       "    'itemsPurchased': 24,\n",
       "    'killingSprees': 4,\n",
       "    'kills': 16,\n",
       "    'lane': 'MIDDLE',\n",
       "    'largestCriticalStrike': 0,\n",
       "    'largestKillingSpree': 5,\n",
       "    'largestMultiKill': 3,\n",
       "    'longestTimeSpentLiving': 504,\n",
       "    'magicDamageDealt': 188158,\n",
       "    'magicDamageDealtToChampions': 41614,\n",
       "    'magicDamageTaken': 3712,\n",
       "    'neutralMinionsKilled': 20,\n",
       "    'nexusKills': 1,\n",
       "    'nexusLost': 0,\n",
       "    'nexusTakedowns': 1,\n",
       "    'objectivesStolen': 0,\n",
       "    'objectivesStolenAssists': 0,\n",
       "    'participantId': 4,\n",
       "    'pentaKills': 0,\n",
       "    'perks': {'statPerks': {'defense': 5002, 'flex': 5008, 'offense': 5008},\n",
       "     'styles': [{'description': 'primaryStyle',\n",
       "       'selections': [{'perk': 8229, 'var1': 2837, 'var2': 0, 'var3': 0},\n",
       "        {'perk': 8226, 'var1': 250, 'var2': 1227, 'var3': 0},\n",
       "        {'perk': 8210, 'var1': 41, 'var2': 0, 'var3': 0},\n",
       "        {'perk': 8237, 'var1': 711, 'var2': 0, 'var3': 0}],\n",
       "       'style': 8200},\n",
       "      {'description': 'subStyle',\n",
       "       'selections': [{'perk': 8345, 'var1': 3, 'var2': 0, 'var3': 0},\n",
       "        {'perk': 8347, 'var1': 0, 'var2': 0, 'var3': 0}],\n",
       "       'style': 8300}]},\n",
       "    'physicalDamageDealt': 10802,\n",
       "    'physicalDamageDealtToChampions': 2223,\n",
       "    'physicalDamageTaken': 10991,\n",
       "    'profileIcon': 4,\n",
       "    'puuid': 'eOQ9JlQA0RcZW4da84XksR7fBxWGh6ZRYf3bTlYospxtUvw34UvI_ciKelgFFKDq9H5tMSQBqZi4PQ',\n",
       "    'quadraKills': 0,\n",
       "    'riotIdName': '',\n",
       "    'riotIdTagline': '',\n",
       "    'role': 'DUO',\n",
       "    'sightWardsBoughtInGame': 0,\n",
       "    'spell1Casts': 188,\n",
       "    'spell2Casts': 61,\n",
       "    'spell3Casts': 49,\n",
       "    'spell4Casts': 11,\n",
       "    'summoner1Casts': 4,\n",
       "    'summoner1Id': 4,\n",
       "    'summoner2Casts': 4,\n",
       "    'summoner2Id': 12,\n",
       "    'summonerId': 'Cvn2E5w-3H_SiR93smPY84EDzciA3vrVIdfxGhXqMyHZS76TZejpQGHIWg',\n",
       "    'summonerLevel': 183,\n",
       "    'summonerName': 'ADCGOD 12',\n",
       "    'teamEarlySurrendered': False,\n",
       "    'teamId': 100,\n",
       "    'teamPosition': 'BOTTOM',\n",
       "    'timeCCingOthers': 24,\n",
       "    'timePlayed': 1762,\n",
       "    'totalDamageDealt': 220340,\n",
       "    'totalDamageDealtToChampions': 44590,\n",
       "    'totalDamageShieldedOnTeammates': 0,\n",
       "    'totalDamageTaken': 15258,\n",
       "    'totalHeal': 270,\n",
       "    'totalHealsOnTeammates': 0,\n",
       "    'totalMinionsKilled': 238,\n",
       "    'totalTimeCCDealt': 253,\n",
       "    'totalTimeSpentDead': 175,\n",
       "    'totalUnitsHealed': 1,\n",
       "    'tripleKills': 1,\n",
       "    'trueDamageDealt': 21379,\n",
       "    'trueDamageDealtToChampions': 753,\n",
       "    'trueDamageTaken': 554,\n",
       "    'turretKills': 7,\n",
       "    'turretTakedowns': 7,\n",
       "    'turretsLost': 5,\n",
       "    'unrealKills': 0,\n",
       "    'visionScore': 19,\n",
       "    'visionWardsBoughtInGame': 3,\n",
       "    'wardsKilled': 4,\n",
       "    'wardsPlaced': 8,\n",
       "    'win': True},\n",
       "   {'assists': 28,\n",
       "    'baronKills': 0,\n",
       "    'bountyLevel': 0,\n",
       "    'champExperience': 12785,\n",
       "    'champLevel': 14,\n",
       "    'championId': 53,\n",
       "    'championName': 'Blitzcrank',\n",
       "    'championTransform': 0,\n",
       "    'consumablesPurchased': 11,\n",
       "    'damageDealtToBuildings': 30,\n",
       "    'damageDealtToObjectives': 30,\n",
       "    'damageDealtToTurrets': 30,\n",
       "    'damageSelfMitigated': 27601,\n",
       "    'deaths': 3,\n",
       "    'detectorWardsPlaced': 7,\n",
       "    'doubleKills': 0,\n",
       "    'dragonKills': 0,\n",
       "    'firstBloodAssist': False,\n",
       "    'firstBloodKill': False,\n",
       "    'firstTowerAssist': True,\n",
       "    'firstTowerKill': False,\n",
       "    'gameEndedInEarlySurrender': False,\n",
       "    'gameEndedInSurrender': False,\n",
       "    'goldEarned': 9594,\n",
       "    'goldSpent': 8575,\n",
       "    'individualPosition': 'UTILITY',\n",
       "    'inhibitorKills': 0,\n",
       "    'inhibitorTakedowns': 1,\n",
       "    'inhibitorsLost': 0,\n",
       "    'item0': 0,\n",
       "    'item1': 3190,\n",
       "    'item2': 3860,\n",
       "    'item3': 3109,\n",
       "    'item4': 3067,\n",
       "    'item5': 3117,\n",
       "    'item6': 3364,\n",
       "    'itemsPurchased': 30,\n",
       "    'killingSprees': 1,\n",
       "    'kills': 3,\n",
       "    'lane': 'BOTTOM',\n",
       "    'largestCriticalStrike': 0,\n",
       "    'largestKillingSpree': 2,\n",
       "    'largestMultiKill': 1,\n",
       "    'longestTimeSpentLiving': 845,\n",
       "    'magicDamageDealt': 12070,\n",
       "    'magicDamageDealtToChampions': 5951,\n",
       "    'magicDamageTaken': 5646,\n",
       "    'neutralMinionsKilled': 4,\n",
       "    'nexusKills': 0,\n",
       "    'nexusLost': 0,\n",
       "    'nexusTakedowns': 1,\n",
       "    'objectivesStolen': 0,\n",
       "    'objectivesStolenAssists': 0,\n",
       "    'participantId': 5,\n",
       "    'pentaKills': 0,\n",
       "    'perks': {'statPerks': {'defense': 5002, 'flex': 5008, 'offense': 5008},\n",
       "     'styles': [{'description': 'primaryStyle',\n",
       "       'selections': [{'perk': 8439, 'var1': 491, 'var2': 1210, 'var3': 0},\n",
       "        {'perk': 8463, 'var1': 1165, 'var2': 0, 'var3': 0},\n",
       "        {'perk': 8473, 'var1': 520, 'var2': 0, 'var3': 0},\n",
       "        {'perk': 8242, 'var1': 62, 'var2': 0, 'var3': 0}],\n",
       "       'style': 8400},\n",
       "      {'description': 'subStyle',\n",
       "       'selections': [{'perk': 8345, 'var1': 3, 'var2': 0, 'var3': 0},\n",
       "        {'perk': 8347, 'var1': 0, 'var2': 0, 'var3': 0}],\n",
       "       'style': 8300}]},\n",
       "    'physicalDamageDealt': 5892,\n",
       "    'physicalDamageDealtToChampions': 2854,\n",
       "    'physicalDamageTaken': 16580,\n",
       "    'profileIcon': 4022,\n",
       "    'puuid': 'QvCnkusu8d-z5bD2UeNkxQMYfcC6LWp_RNhYx872m6zyQxUIVXq7z-rLh7uU8iQvxu9M4zs3xSLYbw',\n",
       "    'quadraKills': 0,\n",
       "    'riotIdName': '',\n",
       "    'riotIdTagline': '',\n",
       "    'role': 'SOLO',\n",
       "    'sightWardsBoughtInGame': 0,\n",
       "    'spell1Casts': 31,\n",
       "    'spell2Casts': 64,\n",
       "    'spell3Casts': 49,\n",
       "    'spell4Casts': 11,\n",
       "    'summoner1Casts': 7,\n",
       "    'summoner1Id': 14,\n",
       "    'summoner2Casts': 5,\n",
       "    'summoner2Id': 4,\n",
       "    'summonerId': 'x-gku8EcjFsTK5qwFGs8nJLn95HHv9Z3grrOMu_VYfYS4ZU',\n",
       "    'summonerLevel': 230,\n",
       "    'summonerName': '유백진',\n",
       "    'teamEarlySurrendered': False,\n",
       "    'teamId': 100,\n",
       "    'teamPosition': 'UTILITY',\n",
       "    'timeCCingOthers': 41,\n",
       "    'timePlayed': 1762,\n",
       "    'totalDamageDealt': 24804,\n",
       "    'totalDamageDealtToChampions': 9555,\n",
       "    'totalDamageShieldedOnTeammates': 1548,\n",
       "    'totalDamageTaken': 23446,\n",
       "    'totalHeal': 3254,\n",
       "    'totalHealsOnTeammates': 661,\n",
       "    'totalMinionsKilled': 41,\n",
       "    'totalTimeCCDealt': 173,\n",
       "    'totalTimeSpentDead': 112,\n",
       "    'totalUnitsHealed': 5,\n",
       "    'tripleKills': 0,\n",
       "    'trueDamageDealt': 6840,\n",
       "    'trueDamageDealtToChampions': 750,\n",
       "    'trueDamageTaken': 1219,\n",
       "    'turretKills': 0,\n",
       "    'turretTakedowns': 4,\n",
       "    'turretsLost': 5,\n",
       "    'unrealKills': 0,\n",
       "    'visionScore': 71,\n",
       "    'visionWardsBoughtInGame': 8,\n",
       "    'wardsKilled': 10,\n",
       "    'wardsPlaced': 26,\n",
       "    'win': True},\n",
       "   {'assists': 10,\n",
       "    'baronKills': 0,\n",
       "    'bountyLevel': 0,\n",
       "    'champExperience': 14688,\n",
       "    'champLevel': 15,\n",
       "    'championId': 14,\n",
       "    'championName': 'Sion',\n",
       "    'championTransform': 0,\n",
       "    'consumablesPurchased': 2,\n",
       "    'damageDealtToBuildings': 1766,\n",
       "    'damageDealtToObjectives': 3466,\n",
       "    'damageDealtToTurrets': 1766,\n",
       "    'damageSelfMitigated': 82453,\n",
       "    'deaths': 6,\n",
       "    'detectorWardsPlaced': 1,\n",
       "    'doubleKills': 0,\n",
       "    'dragonKills': 0,\n",
       "    'firstBloodAssist': False,\n",
       "    'firstBloodKill': False,\n",
       "    'firstTowerAssist': False,\n",
       "    'firstTowerKill': False,\n",
       "    'gameEndedInEarlySurrender': False,\n",
       "    'gameEndedInSurrender': False,\n",
       "    'goldEarned': 11630,\n",
       "    'goldSpent': 11755,\n",
       "    'individualPosition': 'TOP',\n",
       "    'inhibitorKills': 0,\n",
       "    'inhibitorTakedowns': 0,\n",
       "    'inhibitorsLost': 1,\n",
       "    'item0': 3211,\n",
       "    'item1': 1028,\n",
       "    'item2': 6662,\n",
       "    'item3': 3047,\n",
       "    'item4': 4401,\n",
       "    'item5': 3075,\n",
       "    'item6': 3340,\n",
       "    'itemsPurchased': 21,\n",
       "    'killingSprees': 2,\n",
       "    'kills': 6,\n",
       "    'lane': 'TOP',\n",
       "    'largestCriticalStrike': 0,\n",
       "    'largestKillingSpree': 2,\n",
       "    'largestMultiKill': 1,\n",
       "    'longestTimeSpentLiving': 880,\n",
       "    'magicDamageDealt': 48286,\n",
       "    'magicDamageDealtToChampions': 9806,\n",
       "    'magicDamageTaken': 20820,\n",
       "    'neutralMinionsKilled': 2,\n",
       "    'nexusKills': 0,\n",
       "    'nexusLost': 1,\n",
       "    'nexusTakedowns': 0,\n",
       "    'objectivesStolen': 0,\n",
       "    'objectivesStolenAssists': 0,\n",
       "    'participantId': 6,\n",
       "    'pentaKills': 0,\n",
       "    'perks': {'statPerks': {'defense': 5002, 'flex': 5002, 'offense': 5005},\n",
       "     'styles': [{'description': 'primaryStyle',\n",
       "       'selections': [{'perk': 8437, 'var1': 1949, 'var2': 1593, 'var3': 0},\n",
       "        {'perk': 8401, 'var1': 759, 'var2': 0, 'var3': 0},\n",
       "        {'perk': 8473, 'var1': 768, 'var2': 0, 'var3': 0},\n",
       "        {'perk': 8451, 'var1': 255, 'var2': 0, 'var3': 0}],\n",
       "       'style': 8400},\n",
       "      {'description': 'subStyle',\n",
       "       'selections': [{'perk': 8304, 'var1': 10, 'var2': 3, 'var3': 0},\n",
       "        {'perk': 8345, 'var1': 3, 'var2': 0, 'var3': 0}],\n",
       "       'style': 8300}]},\n",
       "    'physicalDamageDealt': 75648,\n",
       "    'physicalDamageDealtToChampions': 10886,\n",
       "    'physicalDamageTaken': 21930,\n",
       "    'profileIcon': 29,\n",
       "    'puuid': 'l_4wZy87Sns8jCcr8WNJI1cRBtV3IwkkNYasYnPF1wGOo3LjYFvO1UFxDWjUagHPIA0d1IlYMiXT4Q',\n",
       "    'quadraKills': 0,\n",
       "    'riotIdName': '',\n",
       "    'riotIdTagline': '',\n",
       "    'role': 'SOLO',\n",
       "    'sightWardsBoughtInGame': 0,\n",
       "    'spell1Casts': 83,\n",
       "    'spell2Casts': 87,\n",
       "    'spell3Casts': 45,\n",
       "    'spell4Casts': 9,\n",
       "    'summoner1Casts': 4,\n",
       "    'summoner1Id': 4,\n",
       "    'summoner2Casts': 3,\n",
       "    'summoner2Id': 12,\n",
       "    'summonerId': '2LXM3EABvX8pJ_S-NeDNoVIl7WmGEoRSDEDZgikF55j4lBQHUDQeRrmrQg',\n",
       "    'summonerLevel': 200,\n",
       "    'summonerName': 'buxiangwanle',\n",
       "    'teamEarlySurrendered': False,\n",
       "    'teamId': 200,\n",
       "    'teamPosition': 'TOP',\n",
       "    'timeCCingOthers': 65,\n",
       "    'timePlayed': 1762,\n",
       "    'totalDamageDealt': 125502,\n",
       "    'totalDamageDealtToChampions': 21236,\n",
       "    'totalDamageShieldedOnTeammates': 0,\n",
       "    'totalDamageTaken': 44701,\n",
       "    'totalHeal': 5370,\n",
       "    'totalHealsOnTeammates': 0,\n",
       "    'totalMinionsKilled': 153,\n",
       "    'totalTimeCCDealt': 1187,\n",
       "    'totalTimeSpentDead': 186,\n",
       "    'totalUnitsHealed': 1,\n",
       "    'tripleKills': 0,\n",
       "    'trueDamageDealt': 1566,\n",
       "    'trueDamageDealtToChampions': 542,\n",
       "    'trueDamageTaken': 1950,\n",
       "    'turretKills': 0,\n",
       "    'turretTakedowns': 2,\n",
       "    'turretsLost': 8,\n",
       "    'unrealKills': 0,\n",
       "    'visionScore': 18,\n",
       "    'visionWardsBoughtInGame': 1,\n",
       "    'wardsKilled': 1,\n",
       "    'wardsPlaced': 11,\n",
       "    'win': False},\n",
       "   {'assists': 13,\n",
       "    'baronKills': 1,\n",
       "    'bountyLevel': 0,\n",
       "    'champExperience': 15204,\n",
       "    'champLevel': 16,\n",
       "    'championId': 104,\n",
       "    'championName': 'Graves',\n",
       "    'championTransform': 0,\n",
       "    'consumablesPurchased': 10,\n",
       "    'damageDealtToBuildings': 308,\n",
       "    'damageDealtToObjectives': 17751,\n",
       "    'damageDealtToTurrets': 308,\n",
       "    'damageSelfMitigated': 28643,\n",
       "    'deaths': 12,\n",
       "    'detectorWardsPlaced': 8,\n",
       "    'doubleKills': 1,\n",
       "    'dragonKills': 2,\n",
       "    'firstBloodAssist': False,\n",
       "    'firstBloodKill': False,\n",
       "    'firstTowerAssist': False,\n",
       "    'firstTowerKill': False,\n",
       "    'gameEndedInEarlySurrender': False,\n",
       "    'gameEndedInSurrender': False,\n",
       "    'goldEarned': 11992,\n",
       "    'goldSpent': 11850,\n",
       "    'individualPosition': 'JUNGLE',\n",
       "    'inhibitorKills': 0,\n",
       "    'inhibitorTakedowns': 0,\n",
       "    'inhibitorsLost': 1,\n",
       "    'item0': 3072,\n",
       "    'item1': 2055,\n",
       "    'item2': 6673,\n",
       "    'item3': 3036,\n",
       "    'item4': 0,\n",
       "    'item5': 3111,\n",
       "    'item6': 3364,\n",
       "    'itemsPurchased': 29,\n",
       "    'killingSprees': 1,\n",
       "    'kills': 5,\n",
       "    'lane': 'JUNGLE',\n",
       "    'largestCriticalStrike': 304,\n",
       "    'largestKillingSpree': 2,\n",
       "    'largestMultiKill': 2,\n",
       "    'longestTimeSpentLiving': 446,\n",
       "    'magicDamageDealt': 6980,\n",
       "    'magicDamageDealtToChampions': 571,\n",
       "    'magicDamageTaken': 14735,\n",
       "    'neutralMinionsKilled': 130,\n",
       "    'nexusKills': 0,\n",
       "    'nexusLost': 1,\n",
       "    'nexusTakedowns': 0,\n",
       "    'objectivesStolen': 0,\n",
       "    'objectivesStolenAssists': 0,\n",
       "    'participantId': 7,\n",
       "    'pentaKills': 0,\n",
       "    'perks': {'statPerks': {'defense': 5002, 'flex': 5008, 'offense': 5005},\n",
       "     'styles': [{'description': 'primaryStyle',\n",
       "       'selections': [{'perk': 8021, 'var1': 2622, 'var2': 1709, 'var3': 0},\n",
       "        {'perk': 9101, 'var1': 2453, 'var2': 3183, 'var3': 0},\n",
       "        {'perk': 9104, 'var1': 12, 'var2': 20, 'var3': 0},\n",
       "        {'perk': 8014, 'var1': 546, 'var2': 0, 'var3': 0}],\n",
       "       'style': 8000},\n",
       "      {'description': 'subStyle',\n",
       "       'selections': [{'perk': 8304, 'var1': 9, 'var2': 4, 'var3': 5},\n",
       "        {'perk': 8347, 'var1': 0, 'var2': 0, 'var3': 0}],\n",
       "       'style': 8300}]},\n",
       "    'physicalDamageDealt': 144233,\n",
       "    'physicalDamageDealtToChampions': 19091,\n",
       "    'physicalDamageTaken': 15357,\n",
       "    'profileIcon': 5090,\n",
       "    'puuid': '5JE3_wcOm7bHf0OATqBeRzgTN0tlH9cLeDH13FZhvEt2yMOfD9FpipKAwYJNSaxMS6tGczlQioxQog',\n",
       "    'quadraKills': 0,\n",
       "    'riotIdName': '',\n",
       "    'riotIdTagline': '',\n",
       "    'role': 'NONE',\n",
       "    'sightWardsBoughtInGame': 0,\n",
       "    'spell1Casts': 77,\n",
       "    'spell2Casts': 27,\n",
       "    'spell3Casts': 40,\n",
       "    'spell4Casts': 11,\n",
       "    'summoner1Casts': 18,\n",
       "    'summoner1Id': 11,\n",
       "    'summoner2Casts': 3,\n",
       "    'summoner2Id': 4,\n",
       "    'summonerId': 'arU0FpTHHLG7kxrCaYi5DaLsoCUHAe3bdQj0bBmmeQ-5hA',\n",
       "    'summonerLevel': 667,\n",
       "    'summonerName': 'Wilder',\n",
       "    'teamEarlySurrendered': False,\n",
       "    'teamId': 200,\n",
       "    'teamPosition': 'JUNGLE',\n",
       "    'timeCCingOthers': 21,\n",
       "    'timePlayed': 1762,\n",
       "    'totalDamageDealt': 162146,\n",
       "    'totalDamageDealtToChampions': 21148,\n",
       "    'totalDamageShieldedOnTeammates': 0,\n",
       "    'totalDamageTaken': 31511,\n",
       "    'totalHeal': 5751,\n",
       "    'totalHealsOnTeammates': 0,\n",
       "    'totalMinionsKilled': 65,\n",
       "    'totalTimeCCDealt': 397,\n",
       "    'totalTimeSpentDead': 399,\n",
       "    'totalUnitsHealed': 1,\n",
       "    'tripleKills': 0,\n",
       "    'trueDamageDealt': 10931,\n",
       "    'trueDamageDealtToChampions': 1485,\n",
       "    'trueDamageTaken': 1417,\n",
       "    'turretKills': 1,\n",
       "    'turretTakedowns': 1,\n",
       "    'turretsLost': 8,\n",
       "    'unrealKills': 0,\n",
       "    'visionScore': 45,\n",
       "    'visionWardsBoughtInGame': 10,\n",
       "    'wardsKilled': 12,\n",
       "    'wardsPlaced': 9,\n",
       "    'win': False},\n",
       "   {'assists': 4,\n",
       "    'baronKills': 0,\n",
       "    'bountyLevel': 0,\n",
       "    'champExperience': 16020,\n",
       "    'champLevel': 16,\n",
       "    'championId': 142,\n",
       "    'championName': 'Zoe',\n",
       "    'championTransform': 0,\n",
       "    'consumablesPurchased': 2,\n",
       "    'damageDealtToBuildings': 5372,\n",
       "    'damageDealtToObjectives': 7383,\n",
       "    'damageDealtToTurrets': 5372,\n",
       "    'damageSelfMitigated': 8487,\n",
       "    'deaths': 9,\n",
       "    'detectorWardsPlaced': 0,\n",
       "    'doubleKills': 1,\n",
       "    'dragonKills': 0,\n",
       "    'firstBloodAssist': False,\n",
       "    'firstBloodKill': False,\n",
       "    'firstTowerAssist': False,\n",
       "    'firstTowerKill': False,\n",
       "    'gameEndedInEarlySurrender': False,\n",
       "    'gameEndedInSurrender': False,\n",
       "    'goldEarned': 15033,\n",
       "    'goldSpent': 14350,\n",
       "    'individualPosition': 'MIDDLE',\n",
       "    'inhibitorKills': 0,\n",
       "    'inhibitorTakedowns': 0,\n",
       "    'inhibitorsLost': 1,\n",
       "    'item0': 4645,\n",
       "    'item1': 6656,\n",
       "    'item2': 3089,\n",
       "    'item3': 4628,\n",
       "    'item4': 3158,\n",
       "    'item5': 1082,\n",
       "    'item6': 3364,\n",
       "    'itemsPurchased': 20,\n",
       "    'killingSprees': 2,\n",
       "    'kills': 10,\n",
       "    'lane': 'MIDDLE',\n",
       "    'largestCriticalStrike': 0,\n",
       "    'largestKillingSpree': 5,\n",
       "    'largestMultiKill': 2,\n",
       "    'longestTimeSpentLiving': 450,\n",
       "    'magicDamageDealt': 138918,\n",
       "    'magicDamageDealtToChampions': 23086,\n",
       "    'magicDamageTaken': 13198,\n",
       "    'neutralMinionsKilled': 4,\n",
       "    'nexusKills': 0,\n",
       "    'nexusLost': 1,\n",
       "    'nexusTakedowns': 0,\n",
       "    'objectivesStolen': 0,\n",
       "    'objectivesStolenAssists': 0,\n",
       "    'participantId': 8,\n",
       "    'pentaKills': 0,\n",
       "    'perks': {'statPerks': {'defense': 5003, 'flex': 5008, 'offense': 5005},\n",
       "     'styles': [{'description': 'primaryStyle',\n",
       "       'selections': [{'perk': 8360, 'var1': 10, 'var2': 0, 'var3': 0},\n",
       "        {'perk': 8313, 'var1': 0, 'var2': 0, 'var3': 0},\n",
       "        {'perk': 8316, 'var1': 6545, 'var2': 0, 'var3': 0},\n",
       "        {'perk': 8352, 'var1': 189, 'var2': 1021, 'var3': 787}],\n",
       "       'style': 8300},\n",
       "      {'description': 'subStyle',\n",
       "       'selections': [{'perk': 8139, 'var1': 1103, 'var2': 0, 'var3': 0},\n",
       "        {'perk': 8135, 'var1': 888, 'var2': 4, 'var3': 0}],\n",
       "       'style': 8100}]},\n",
       "    'physicalDamageDealt': 17680,\n",
       "    'physicalDamageDealtToChampions': 2515,\n",
       "    'physicalDamageTaken': 9790,\n",
       "    'profileIcon': 5177,\n",
       "    'puuid': '1DuEU_BPh9hfGKcguC1Yl5IRNPExfYeMBvdl54y0Ee26XuM6TXEGYXtATchmHw-L_dC64PZeNteA7g',\n",
       "    'quadraKills': 0,\n",
       "    'riotIdName': '',\n",
       "    'riotIdTagline': '',\n",
       "    'role': 'SOLO',\n",
       "    'sightWardsBoughtInGame': 0,\n",
       "    'spell1Casts': 287,\n",
       "    'spell2Casts': 20,\n",
       "    'spell3Casts': 53,\n",
       "    'spell4Casts': 36,\n",
       "    'summoner1Casts': 7,\n",
       "    'summoner1Id': 4,\n",
       "    'summoner2Casts': 5,\n",
       "    'summoner2Id': 12,\n",
       "    'summonerId': 'rZDxG7teBHbYVe5czColr0yc1GO3U0-WCpBQzCRX9ELFz7XPPq9fxVMcLg',\n",
       "    'summonerLevel': 233,\n",
       "    'summonerName': 'dfgfdgfdz',\n",
       "    'teamEarlySurrendered': False,\n",
       "    'teamId': 200,\n",
       "    'teamPosition': 'MIDDLE',\n",
       "    'timeCCingOthers': 61,\n",
       "    'timePlayed': 1762,\n",
       "    'totalDamageDealt': 164339,\n",
       "    'totalDamageDealtToChampions': 29577,\n",
       "    'totalDamageShieldedOnTeammates': 445,\n",
       "    'totalDamageTaken': 23712,\n",
       "    'totalHeal': 3050,\n",
       "    'totalHealsOnTeammates': 0,\n",
       "    'totalMinionsKilled': 207,\n",
       "    'totalTimeCCDealt': 240,\n",
       "    'totalTimeSpentDead': 235,\n",
       "    'totalUnitsHealed': 1,\n",
       "    'tripleKills': 0,\n",
       "    'trueDamageDealt': 7740,\n",
       "    'trueDamageDealtToChampions': 3974,\n",
       "    'trueDamageTaken': 722,\n",
       "    'turretKills': 3,\n",
       "    'turretTakedowns': 3,\n",
       "    'turretsLost': 8,\n",
       "    'unrealKills': 0,\n",
       "    'visionScore': 4,\n",
       "    'visionWardsBoughtInGame': 2,\n",
       "    'wardsKilled': 0,\n",
       "    'wardsPlaced': 3,\n",
       "    'win': False},\n",
       "   {'assists': 13,\n",
       "    'baronKills': 0,\n",
       "    'bountyLevel': 0,\n",
       "    'champExperience': 13956,\n",
       "    'champLevel': 15,\n",
       "    'championId': 222,\n",
       "    'championName': 'Jinx',\n",
       "    'championTransform': 0,\n",
       "    'consumablesPurchased': 7,\n",
       "    'damageDealtToBuildings': 2654,\n",
       "    'damageDealtToObjectives': 7692,\n",
       "    'damageDealtToTurrets': 2654,\n",
       "    'damageSelfMitigated': 7122,\n",
       "    'deaths': 11,\n",
       "    'detectorWardsPlaced': 4,\n",
       "    'doubleKills': 0,\n",
       "    'dragonKills': 0,\n",
       "    'firstBloodAssist': False,\n",
       "    'firstBloodKill': False,\n",
       "    'firstTowerAssist': False,\n",
       "    'firstTowerKill': False,\n",
       "    'gameEndedInEarlySurrender': False,\n",
       "    'gameEndedInSurrender': False,\n",
       "    'goldEarned': 12357,\n",
       "    'goldSpent': 12350,\n",
       "    'individualPosition': 'BOTTOM',\n",
       "    'inhibitorKills': 0,\n",
       "    'inhibitorTakedowns': 0,\n",
       "    'inhibitorsLost': 1,\n",
       "    'item0': 6671,\n",
       "    'item1': 2421,\n",
       "    'item2': 1018,\n",
       "    'item3': 3031,\n",
       "    'item4': 3046,\n",
       "    'item5': 3006,\n",
       "    'item6': 3363,\n",
       "    'itemsPurchased': 27,\n",
       "    'killingSprees': 1,\n",
       "    'kills': 5,\n",
       "    'lane': 'BOTTOM',\n",
       "    'largestCriticalStrike': 458,\n",
       "    'largestKillingSpree': 2,\n",
       "    'largestMultiKill': 1,\n",
       "    'longestTimeSpentLiving': 399,\n",
       "    'magicDamageDealt': 1790,\n",
       "    'magicDamageDealtToChampions': 1410,\n",
       "    'magicDamageTaken': 11007,\n",
       "    'neutralMinionsKilled': 12,\n",
       "    'nexusKills': 0,\n",
       "    'nexusLost': 1,\n",
       "    'nexusTakedowns': 0,\n",
       "    'objectivesStolen': 0,\n",
       "    'objectivesStolenAssists': 0,\n",
       "    'participantId': 9,\n",
       "    'pentaKills': 0,\n",
       "    'perks': {'statPerks': {'defense': 5003, 'flex': 5008, 'offense': 5005},\n",
       "     'styles': [{'description': 'primaryStyle',\n",
       "       'selections': [{'perk': 8008, 'var1': 46, 'var2': 10, 'var3': 0},\n",
       "        {'perk': 8009, 'var1': 2135, 'var2': 0, 'var3': 0},\n",
       "        {'perk': 9103, 'var1': 20, 'var2': 20, 'var3': 0},\n",
       "        {'perk': 8017, 'var1': 1748, 'var2': 0, 'var3': 0}],\n",
       "       'style': 8000},\n",
       "      {'description': 'subStyle',\n",
       "       'selections': [{'perk': 8345, 'var1': 3, 'var2': 0, 'var3': 0},\n",
       "        {'perk': 8347, 'var1': 0, 'var2': 0, 'var3': 0}],\n",
       "       'style': 8300}]},\n",
       "    'physicalDamageDealt': 123789,\n",
       "    'physicalDamageDealtToChampions': 18489,\n",
       "    'physicalDamageTaken': 11618,\n",
       "    'profileIcon': 22,\n",
       "    'puuid': '3VG4-t7zlDMdP1ahZIKJ_OYr0an7B1UOHJ3Kt-vK6hfczqWUMP_lsgWuQtXOM1-9VulaAc77mtHhKw',\n",
       "    'quadraKills': 0,\n",
       "    'riotIdName': '',\n",
       "    'riotIdTagline': '',\n",
       "    'role': 'CARRY',\n",
       "    'sightWardsBoughtInGame': 0,\n",
       "    'spell1Casts': 162,\n",
       "    'spell2Casts': 54,\n",
       "    'spell3Casts': 20,\n",
       "    'spell4Casts': 11,\n",
       "    'summoner1Casts': 4,\n",
       "    'summoner1Id': 4,\n",
       "    'summoner2Casts': 6,\n",
       "    'summoner2Id': 7,\n",
       "    'summonerId': 'Yxw3DqjPEsc8xqrR4xDQmWZlFiVZN5AvQMNN_JXUAqs9xsYAhqBPrGX0DQ',\n",
       "    'summonerLevel': 169,\n",
       "    'summonerName': 'hope3',\n",
       "    'teamEarlySurrendered': False,\n",
       "    'teamId': 200,\n",
       "    'teamPosition': 'BOTTOM',\n",
       "    'timeCCingOthers': 26,\n",
       "    'timePlayed': 1762,\n",
       "    'totalDamageDealt': 127253,\n",
       "    'totalDamageDealtToChampions': 21032,\n",
       "    'totalDamageShieldedOnTeammates': 0,\n",
       "    'totalDamageTaken': 23013,\n",
       "    'totalHeal': 2075,\n",
       "    'totalHealsOnTeammates': 613,\n",
       "    'totalMinionsKilled': 186,\n",
       "    'totalTimeCCDealt': 130,\n",
       "    'totalTimeSpentDead': 318,\n",
       "    'totalUnitsHealed': 3,\n",
       "    'tripleKills': 0,\n",
       "    'trueDamageDealt': 1673,\n",
       "    'trueDamageDealtToChampions': 1131,\n",
       "    'trueDamageTaken': 388,\n",
       "    'turretKills': 0,\n",
       "    'turretTakedowns': 1,\n",
       "    'turretsLost': 8,\n",
       "    'unrealKills': 0,\n",
       "    'visionScore': 26,\n",
       "    'visionWardsBoughtInGame': 4,\n",
       "    'wardsKilled': 4,\n",
       "    'wardsPlaced': 13,\n",
       "    'win': False},\n",
       "   {'assists': 14,\n",
       "    'baronKills': 0,\n",
       "    'bountyLevel': 0,\n",
       "    'champExperience': 9559,\n",
       "    'champLevel': 12,\n",
       "    'championId': 111,\n",
       "    'championName': 'Nautilus',\n",
       "    'championTransform': 0,\n",
       "    'consumablesPurchased': 13,\n",
       "    'damageDealtToBuildings': 0,\n",
       "    'damageDealtToObjectives': 0,\n",
       "    'damageDealtToTurrets': 0,\n",
       "    'damageSelfMitigated': 28790,\n",
       "    'deaths': 11,\n",
       "    'detectorWardsPlaced': 8,\n",
       "    'doubleKills': 0,\n",
       "    'dragonKills': 0,\n",
       "    'firstBloodAssist': False,\n",
       "    'firstBloodKill': False,\n",
       "    'firstTowerAssist': False,\n",
       "    'firstTowerKill': False,\n",
       "    'gameEndedInEarlySurrender': False,\n",
       "    'gameEndedInSurrender': False,\n",
       "    'goldEarned': 8030,\n",
       "    'goldSpent': 7850,\n",
       "    'individualPosition': 'UTILITY',\n",
       "    'inhibitorKills': 0,\n",
       "    'inhibitorTakedowns': 0,\n",
       "    'inhibitorsLost': 1,\n",
       "    'item0': 3001,\n",
       "    'item1': 3857,\n",
       "    'item2': 2055,\n",
       "    'item3': 3158,\n",
       "    'item4': 8020,\n",
       "    'item5': 1028,\n",
       "    'item6': 3364,\n",
       "    'itemsPurchased': 29,\n",
       "    'killingSprees': 0,\n",
       "    'kills': 2,\n",
       "    'lane': 'BOTTOM',\n",
       "    'largestCriticalStrike': 0,\n",
       "    'largestKillingSpree': 0,\n",
       "    'largestMultiKill': 1,\n",
       "    'longestTimeSpentLiving': 372,\n",
       "    'magicDamageDealt': 9632,\n",
       "    'magicDamageDealtToChampions': 5737,\n",
       "    'magicDamageTaken': 11872,\n",
       "    'neutralMinionsKilled': 0,\n",
       "    'nexusKills': 0,\n",
       "    'nexusLost': 1,\n",
       "    'nexusTakedowns': 0,\n",
       "    'objectivesStolen': 0,\n",
       "    'objectivesStolenAssists': 0,\n",
       "    'participantId': 10,\n",
       "    'pentaKills': 0,\n",
       "    'perks': {'statPerks': {'defense': 5003, 'flex': 5003, 'offense': 5008},\n",
       "     'styles': [{'description': 'primaryStyle',\n",
       "       'selections': [{'perk': 8439, 'var1': 746, 'var2': 2101, 'var3': 0},\n",
       "        {'perk': 8463, 'var1': 1931, 'var2': 0, 'var3': 0},\n",
       "        {'perk': 8473, 'var1': 647, 'var2': 0, 'var3': 0},\n",
       "        {'perk': 8242, 'var1': 104, 'var2': 0, 'var3': 0}],\n",
       "       'style': 8400},\n",
       "      {'description': 'subStyle',\n",
       "       'selections': [{'perk': 8306, 'var1': 3, 'var2': 0, 'var3': 0},\n",
       "        {'perk': 8352, 'var1': 44, 'var2': 184, 'var3': 0}],\n",
       "       'style': 8300}]},\n",
       "    'physicalDamageDealt': 6716,\n",
       "    'physicalDamageDealtToChampions': 2591,\n",
       "    'physicalDamageTaken': 10644,\n",
       "    'profileIcon': 10,\n",
       "    'puuid': 'U7ACnhTWGL-tpYYYWzcMUGjcmlo6weqf2CZQLDbMmkqypQcMj1oU4dDB_Tbynuxp2jpz-nLETFSbvg',\n",
       "    'quadraKills': 0,\n",
       "    'riotIdName': '',\n",
       "    'riotIdTagline': '',\n",
       "    'role': 'SUPPORT',\n",
       "    'sightWardsBoughtInGame': 0,\n",
       "    'spell1Casts': 76,\n",
       "    'spell2Casts': 43,\n",
       "    'spell3Casts': 27,\n",
       "    'spell4Casts': 11,\n",
       "    'summoner1Casts': 7,\n",
       "    'summoner1Id': 4,\n",
       "    'summoner2Casts': 7,\n",
       "    'summoner2Id': 14,\n",
       "    'summonerId': 'xXysgEgBE2ZAHuKUxOZblgElDVxVtiOtbnq0xpS0Wa5DqBzHvq-MGmnypQ',\n",
       "    'summonerLevel': 195,\n",
       "    'summonerName': 'SUPG0D 12',\n",
       "    'teamEarlySurrendered': False,\n",
       "    'teamId': 200,\n",
       "    'teamPosition': 'UTILITY',\n",
       "    'timeCCingOthers': 77,\n",
       "    'timePlayed': 1762,\n",
       "    'totalDamageDealt': 24756,\n",
       "    'totalDamageDealtToChampions': 9516,\n",
       "    'totalDamageShieldedOnTeammates': 0,\n",
       "    'totalDamageTaken': 24943,\n",
       "    'totalHeal': 1958,\n",
       "    'totalHealsOnTeammates': 1044,\n",
       "    'totalMinionsKilled': 29,\n",
       "    'totalTimeCCDealt': 374,\n",
       "    'totalTimeSpentDead': 292,\n",
       "    'totalUnitsHealed': 5,\n",
       "    'tripleKills': 0,\n",
       "    'trueDamageDealt': 8407,\n",
       "    'trueDamageDealtToChampions': 1187,\n",
       "    'trueDamageTaken': 2426,\n",
       "    'turretKills': 0,\n",
       "    'turretTakedowns': 0,\n",
       "    'turretsLost': 8,\n",
       "    'unrealKills': 0,\n",
       "    'visionScore': 74,\n",
       "    'visionWardsBoughtInGame': 10,\n",
       "    'wardsKilled': 5,\n",
       "    'wardsPlaced': 37,\n",
       "    'win': False}],\n",
       "  'platformId': 'KR',\n",
       "  'queueId': 420,\n",
       "  'teams': [{'bans': [{'championId': 711, 'pickTurn': 1},\n",
       "     {'championId': 51, 'pickTurn': 2},\n",
       "     {'championId': 41, 'pickTurn': 3},\n",
       "     {'championId': 91, 'pickTurn': 4},\n",
       "     {'championId': 7, 'pickTurn': 5}],\n",
       "    'objectives': {'baron': {'first': False, 'kills': 0},\n",
       "     'champion': {'first': True, 'kills': 49},\n",
       "     'dragon': {'first': False, 'kills': 2},\n",
       "     'inhibitor': {'first': True, 'kills': 1},\n",
       "     'riftHerald': {'first': True, 'kills': 2},\n",
       "     'tower': {'first': True, 'kills': 8}},\n",
       "    'teamId': 100,\n",
       "    'win': True},\n",
       "   {'bans': [{'championId': 246, 'pickTurn': 6},\n",
       "     {'championId': 112, 'pickTurn': 7},\n",
       "     {'championId': -1, 'pickTurn': 8},\n",
       "     {'championId': -1, 'pickTurn': 9},\n",
       "     {'championId': 30, 'pickTurn': 10}],\n",
       "    'objectives': {'baron': {'first': True, 'kills': 1},\n",
       "     'champion': {'first': False, 'kills': 28},\n",
       "     'dragon': {'first': True, 'kills': 2},\n",
       "     'inhibitor': {'first': False, 'kills': 0},\n",
       "     'riftHerald': {'first': False, 'kills': 0},\n",
       "     'tower': {'first': False, 'kills': 5}},\n",
       "    'teamId': 200,\n",
       "    'win': False}],\n",
       "  'tournamentCode': ''}}"
      ]
     },
     "execution_count": 16,
     "metadata": {},
     "output_type": "execute_result"
    }
   ],
   "source": [
    "url4 = \"https://asia.api.riotgames.com/lol/match/v5/matches/KR_5671738633\"\n",
    "r = requests.get(url4, headers=request_header).json()\n",
    "r"
   ]
  },
  {
   "cell_type": "code",
   "execution_count": 46,
   "id": "9e6c588a",
   "metadata": {},
   "outputs": [
    {
     "data": {
      "text/plain": [
       "{'bans': [{'championId': -1, 'pickTurn': 6},\n",
       "  {'championId': 24, 'pickTurn': 7},\n",
       "  {'championId': 234, 'pickTurn': 8},\n",
       "  {'championId': 91, 'pickTurn': 9},\n",
       "  {'championId': 134, 'pickTurn': 10}],\n",
       " 'objectives': {'baron': {'first': False, 'kills': 0},\n",
       "  'champion': {'first': True, 'kills': 34},\n",
       "  'dragon': {'first': True, 'kills': 2},\n",
       "  'inhibitor': {'first': True, 'kills': 1},\n",
       "  'riftHerald': {'first': True, 'kills': 2},\n",
       "  'tower': {'first': True, 'kills': 8}},\n",
       " 'teamId': 200,\n",
       " 'win': True}"
      ]
     },
     "execution_count": 46,
     "metadata": {},
     "output_type": "execute_result"
    }
   ],
   "source": [
    "r['info']['teams'][1]\n"
   ]
  },
  {
   "cell_type": "code",
   "execution_count": 47,
   "id": "194b198b",
   "metadata": {},
   "outputs": [
    {
     "data": {
      "text/plain": [
       "{'bans': [{'championId': 91, 'pickTurn': 1},\n",
       "  {'championId': -1, 'pickTurn': 2},\n",
       "  {'championId': 39, 'pickTurn': 3},\n",
       "  {'championId': -1, 'pickTurn': 4},\n",
       "  {'championId': 222, 'pickTurn': 5}],\n",
       " 'objectives': {'baron': {'first': False, 'kills': 0},\n",
       "  'champion': {'first': False, 'kills': 18},\n",
       "  'dragon': {'first': False, 'kills': 1},\n",
       "  'inhibitor': {'first': False, 'kills': 0},\n",
       "  'riftHerald': {'first': False, 'kills': 0},\n",
       "  'tower': {'first': False, 'kills': 3}},\n",
       " 'teamId': 100,\n",
       " 'win': False}"
      ]
     },
     "execution_count": 47,
     "metadata": {},
     "output_type": "execute_result"
    }
   ],
   "source": [
    "r['info']['teams'][0]"
   ]
  },
  {
   "cell_type": "code",
   "execution_count": 56,
   "id": "0f143269",
   "metadata": {},
   "outputs": [
    {
     "data": {
      "text/plain": [
       "200"
      ]
     },
     "execution_count": 56,
     "metadata": {},
     "output_type": "execute_result"
    }
   ],
   "source": [
    "r['info']['participants'][5\n",
    "                         ]['teamId']"
   ]
  },
  {
   "cell_type": "code",
   "execution_count": null,
   "id": "bc2ad63b",
   "metadata": {},
   "outputs": [],
   "source": []
  }
 ],
 "metadata": {
  "kernelspec": {
   "display_name": "Python 3 (ipykernel)",
   "language": "python",
   "name": "python3"
  },
  "language_info": {
   "codemirror_mode": {
    "name": "ipython",
    "version": 3
   },
   "file_extension": ".py",
   "mimetype": "text/x-python",
   "name": "python",
   "nbconvert_exporter": "python",
   "pygments_lexer": "ipython3",
   "version": "3.9.7"
  }
 },
 "nbformat": 4,
 "nbformat_minor": 5
}
