{
 "cells": [
  {
   "cell_type": "code",
   "execution_count": null,
   "id": "65525325",
   "metadata": {},
   "outputs": [
    {
     "name": "stderr",
     "output_type": "stream",
     "text": [
      "\r",
      "  0%|                                                 | 0/10000 [00:00<?, ?it/s]"
     ]
    },
    {
     "name": "stdout",
     "output_type": "stream",
     "text": [
      "KR_5733280634의 데이터 수집을 시작합니다.\n"
     ]
    },
    {
     "name": "stderr",
     "output_type": "stream",
     "text": [
      "\r",
      "  0%|                                      | 1/10000 [00:13<38:40:12, 13.92s/it]"
     ]
    },
    {
     "name": "stdout",
     "output_type": "stream",
     "text": [
      "KR_5733280634의 데이터 수집이 완료되었습니다\n",
      "KR_5733280742의 데이터 수집을 시작합니다.\n"
     ]
    },
    {
     "name": "stderr",
     "output_type": "stream",
     "text": [
      "\r",
      "  0%|                                      | 2/10000 [00:27<38:12:45, 13.76s/it]"
     ]
    },
    {
     "name": "stdout",
     "output_type": "stream",
     "text": [
      "KR_5733280742의 데이터 수집이 완료되었습니다\n",
      "KR_5733281380의 데이터 수집을 시작합니다.\n",
      "api cost full : infinite loop start\n",
      "try 10 second wait time\n",
      "429\n",
      "try 10 second wait time\n",
      "429\n",
      "try 10 second wait time\n",
      "429\n",
      "try 10 second wait time\n",
      "429\n",
      "try 10 second wait time\n",
      "429\n",
      "try 10 second wait time\n",
      "429\n",
      "try 10 second wait time\n",
      "429\n",
      "try 10 second wait time\n",
      "429\n",
      "try 10 second wait time\n",
      "200\n",
      "total wait time :  92.34814786911011\n",
      "recovery api cost\n"
     ]
    },
    {
     "name": "stderr",
     "output_type": "stream",
     "text": [
      "\r",
      "  0%|                                     | 3/10000 [02:13<154:36:45, 55.68s/it]"
     ]
    },
    {
     "name": "stdout",
     "output_type": "stream",
     "text": [
      "KR_5733281380의 데이터 수집이 완료되었습니다\n",
      "KR_5733282593의 데이터 수집을 시작합니다.\n"
     ]
    },
    {
     "name": "stderr",
     "output_type": "stream",
     "text": [
      "\r",
      "  0%|                                     | 4/10000 [02:27<109:34:28, 39.46s/it]"
     ]
    },
    {
     "name": "stdout",
     "output_type": "stream",
     "text": [
      "KR_5733282593의 데이터 수집이 완료되었습니다\n",
      "KR_5733283520의 데이터 수집을 시작합니다.\n"
     ]
    },
    {
     "name": "stderr",
     "output_type": "stream",
     "text": [
      "\r",
      "  0%|                                      | 5/10000 [02:41<83:38:18, 30.12s/it]"
     ]
    },
    {
     "name": "stdout",
     "output_type": "stream",
     "text": [
      "KR_5733283520의 데이터 수집이 완료되었습니다\n",
      "KR_5733283790의 데이터 수집을 시작합니다.\n",
      "api cost full : infinite loop start\n",
      "try 10 second wait time\n",
      "429\n",
      "try 10 second wait time\n",
      "429\n",
      "try 10 second wait time\n",
      "429\n",
      "try 10 second wait time\n",
      "429\n",
      "try 10 second wait time\n",
      "429\n",
      "try 10 second wait time\n",
      "429\n",
      "try 10 second wait time\n",
      "429\n",
      "try 10 second wait time\n",
      "429\n",
      "try 10 second wait time\n",
      "200\n",
      "total wait time :  92.40227103233337\n",
      "recovery api cost\n"
     ]
    },
    {
     "name": "stderr",
     "output_type": "stream",
     "text": [
      "\r",
      "  0%|                                     | 6/10000 [04:28<155:57:51, 56.18s/it]"
     ]
    },
    {
     "name": "stdout",
     "output_type": "stream",
     "text": [
      "KR_5733283790의 데이터 수집이 완료되었습니다\n",
      "KR_5733284523의 데이터 수집을 시작합니다.\n"
     ]
    },
    {
     "name": "stderr",
     "output_type": "stream",
     "text": [
      "\r",
      "  0%|                                     | 7/10000 [04:42<118:03:09, 42.53s/it]"
     ]
    },
    {
     "name": "stdout",
     "output_type": "stream",
     "text": [
      "KR_5733284523의 데이터 수집이 완료되었습니다\n",
      "KR_5733286641의 데이터 수집을 시작합니다.\n",
      "api cost full : infinite loop start\n",
      "try 10 second wait time\n",
      "429\n",
      "try 10 second wait time\n",
      "429\n",
      "try 10 second wait time\n",
      "429\n",
      "try 10 second wait time\n",
      "429\n",
      "try 10 second wait time\n",
      "429\n",
      "try 10 second wait time\n",
      "429\n",
      "try 10 second wait time\n",
      "429\n",
      "try 10 second wait time\n",
      "429\n",
      "try 10 second wait time\n",
      "200\n",
      "total wait time :  92.31289196014404\n",
      "recovery api cost\n"
     ]
    },
    {
     "name": "stderr",
     "output_type": "stream",
     "text": [
      "\r",
      "  0%|                                     | 8/10000 [06:28<174:01:42, 62.70s/it]"
     ]
    },
    {
     "name": "stdout",
     "output_type": "stream",
     "text": [
      "KR_5733286641의 데이터 수집이 완료되었습니다\n",
      "KR_5733286895의 데이터 수집을 시작합니다.\n"
     ]
    },
    {
     "name": "stderr",
     "output_type": "stream",
     "text": [
      "\r",
      "  0%|                                     | 9/10000 [06:42<131:55:16, 47.53s/it]"
     ]
    },
    {
     "name": "stdout",
     "output_type": "stream",
     "text": [
      "KR_5733286895의 데이터 수집이 완료되었습니다\n",
      "KR_5733288089의 데이터 수집을 시작합니다.\n"
     ]
    },
    {
     "name": "stderr",
     "output_type": "stream",
     "text": [
      "\r",
      "  0%|                                    | 10/10000 [06:56<103:32:17, 37.31s/it]"
     ]
    },
    {
     "name": "stdout",
     "output_type": "stream",
     "text": [
      "KR_5733288089의 데이터 수집이 완료되었습니다\n",
      "KR_5733290985의 데이터 수집을 시작합니다.\n",
      "api cost full : infinite loop start\n",
      "try 10 second wait time\n",
      "429\n",
      "try 10 second wait time\n",
      "429\n",
      "try 10 second wait time\n",
      "429\n",
      "try 10 second wait time\n",
      "429\n",
      "try 10 second wait time\n",
      "429\n",
      "try 10 second wait time\n",
      "429\n",
      "try 10 second wait time\n",
      "429\n",
      "try 10 second wait time\n",
      "429\n",
      "try 10 second wait time\n",
      "200\n",
      "total wait time :  92.48715376853943\n",
      "recovery api cost\n"
     ]
    },
    {
     "name": "stderr",
     "output_type": "stream",
     "text": [
      "\r",
      "  0%|                                    | 11/10000 [08:42<161:38:11, 58.25s/it]"
     ]
    },
    {
     "name": "stdout",
     "output_type": "stream",
     "text": [
      "KR_5733290985의 데이터 수집이 완료되었습니다\n",
      "KR_5733291439의 데이터 수집을 시작합니다.\n"
     ]
    },
    {
     "name": "stderr",
     "output_type": "stream",
     "text": [
      "\r",
      "  0%|                                    | 12/10000 [08:56<123:49:56, 44.63s/it]"
     ]
    },
    {
     "name": "stdout",
     "output_type": "stream",
     "text": [
      "KR_5733291439의 데이터 수집이 완료되었습니다\n",
      "KR_5733291639의 데이터 수집을 시작합니다.\n",
      "api cost full : infinite loop start\n",
      "try 10 second wait time\n",
      "429\n",
      "try 10 second wait time\n",
      "429\n",
      "try 10 second wait time\n",
      "429\n",
      "try 10 second wait time\n",
      "429\n",
      "try 10 second wait time\n",
      "429\n",
      "try 10 second wait time\n",
      "429\n",
      "try 10 second wait time\n",
      "429\n",
      "try 10 second wait time\n",
      "429\n",
      "try 10 second wait time\n",
      "200\n",
      "total wait time :  92.40917921066284\n",
      "recovery api cost\n"
     ]
    },
    {
     "name": "stderr",
     "output_type": "stream",
     "text": [
      "\r",
      "  0%|                                    | 13/10000 [10:41<175:08:20, 63.13s/it]"
     ]
    },
    {
     "name": "stdout",
     "output_type": "stream",
     "text": [
      "KR_5733291639의 데이터 수집이 완료되었습니다\n",
      "KR_5733292265의 데이터 수집을 시작합니다.\n"
     ]
    },
    {
     "name": "stderr",
     "output_type": "stream",
     "text": [
      "\r",
      "  0%|                                    | 14/10000 [10:56<134:10:18, 48.37s/it]"
     ]
    },
    {
     "name": "stdout",
     "output_type": "stream",
     "text": [
      "KR_5733292265의 데이터 수집이 완료되었습니다\n",
      "KR_5733293681의 데이터 수집을 시작합니다.\n"
     ]
    },
    {
     "name": "stderr",
     "output_type": "stream",
     "text": [
      "\r",
      "  0%|                                    | 15/10000 [11:12<107:09:03, 38.63s/it]"
     ]
    },
    {
     "name": "stdout",
     "output_type": "stream",
     "text": [
      "KR_5733293681의 데이터 수집이 완료되었습니다\n",
      "KR_5733294549의 데이터 수집을 시작합니다.\n",
      "api cost full : infinite loop start\n",
      "try 10 second wait time\n",
      "429\n",
      "try 10 second wait time\n",
      "429\n",
      "try 10 second wait time\n",
      "429\n",
      "try 10 second wait time\n",
      "429\n",
      "try 10 second wait time\n",
      "429\n",
      "try 10 second wait time\n",
      "429\n",
      "try 10 second wait time\n",
      "429\n",
      "try 10 second wait time\n",
      "429\n",
      "try 10 second wait time\n",
      "200\n",
      "total wait time :  92.23863911628723\n",
      "recovery api cost\n"
     ]
    },
    {
     "name": "stderr",
     "output_type": "stream",
     "text": [
      "\r",
      "  0%|                                    | 16/10000 [12:58<163:44:03, 59.04s/it]"
     ]
    },
    {
     "name": "stdout",
     "output_type": "stream",
     "text": [
      "KR_5733294549의 데이터 수집이 완료되었습니다\n",
      "KR_5733294578의 데이터 수집을 시작합니다.\n"
     ]
    },
    {
     "name": "stderr",
     "output_type": "stream",
     "text": [
      "\r",
      "  0%|                                    | 17/10000 [13:11<125:29:32, 45.25s/it]"
     ]
    },
    {
     "name": "stdout",
     "output_type": "stream",
     "text": [
      "KR_5733294578의 데이터 수집이 완료되었습니다\n",
      "KR_5733294603의 데이터 수집을 시작합니다.\n",
      "api cost full : infinite loop start\n",
      "try 10 second wait time\n",
      "429\n",
      "try 10 second wait time\n",
      "429\n",
      "try 10 second wait time\n",
      "429\n",
      "try 10 second wait time\n",
      "429\n",
      "try 10 second wait time\n",
      "429\n",
      "try 10 second wait time\n",
      "429\n",
      "try 10 second wait time\n",
      "429\n",
      "try 10 second wait time\n",
      "429\n",
      "try 10 second wait time\n",
      "200\n",
      "total wait time :  92.24131894111633\n",
      "recovery api cost\n"
     ]
    },
    {
     "name": "stderr",
     "output_type": "stream",
     "text": [
      "\r",
      "  0%|                                    | 18/10000 [14:58<176:16:26, 63.57s/it]"
     ]
    },
    {
     "name": "stdout",
     "output_type": "stream",
     "text": [
      "KR_5733294603의 데이터 수집이 완료되었습니다\n",
      "KR_5733294725의 데이터 수집을 시작합니다.\n"
     ]
    },
    {
     "name": "stderr",
     "output_type": "stream",
     "text": [
      "\r",
      "  0%|                                    | 19/10000 [15:12<135:31:36, 48.88s/it]"
     ]
    },
    {
     "name": "stdout",
     "output_type": "stream",
     "text": [
      "KR_5733294725의 데이터 수집이 완료되었습니다\n",
      "KR_5733295554의 데이터 수집을 시작합니다.\n"
     ]
    },
    {
     "name": "stderr",
     "output_type": "stream",
     "text": [
      "\r",
      "  0%|                                    | 20/10000 [15:26<106:07:56, 38.28s/it]"
     ]
    },
    {
     "name": "stdout",
     "output_type": "stream",
     "text": [
      "KR_5733295554의 데이터 수집이 완료되었습니다\n",
      "KR_5733298653의 데이터 수집을 시작합니다.\n",
      "api cost full : infinite loop start\n",
      "try 10 second wait time\n",
      "429\n",
      "try 10 second wait time\n",
      "429\n",
      "try 10 second wait time\n",
      "429\n",
      "try 10 second wait time\n",
      "429\n",
      "try 10 second wait time\n",
      "429\n",
      "try 10 second wait time\n",
      "429\n",
      "try 10 second wait time\n",
      "429\n",
      "try 10 second wait time\n",
      "429\n",
      "try 10 second wait time\n",
      "200\n",
      "total wait time :  92.21748375892639\n",
      "recovery api cost\n"
     ]
    },
    {
     "name": "stderr",
     "output_type": "stream",
     "text": [
      "\r",
      "  0%|                                    | 21/10000 [17:12<162:21:57, 58.57s/it]"
     ]
    },
    {
     "name": "stdout",
     "output_type": "stream",
     "text": [
      "KR_5733298653의 데이터 수집이 완료되었습니다\n",
      "KR_5733299381의 데이터 수집을 시작합니다.\n"
     ]
    },
    {
     "name": "stderr",
     "output_type": "stream",
     "text": [
      "\r",
      "  0%|                                    | 22/10000 [17:25<125:05:05, 45.13s/it]"
     ]
    },
    {
     "name": "stdout",
     "output_type": "stream",
     "text": [
      "KR_5733299381의 데이터 수집이 완료되었습니다\n",
      "KR_5733299872의 데이터 수집을 시작합니다.\n",
      "api cost full : infinite loop start\n",
      "try 10 second wait time\n",
      "429\n",
      "try 10 second wait time\n",
      "429\n",
      "try 10 second wait time\n",
      "429\n",
      "try 10 second wait time\n",
      "429\n",
      "try 10 second wait time\n",
      "429\n",
      "try 10 second wait time\n",
      "429\n",
      "try 10 second wait time\n",
      "429\n",
      "try 10 second wait time\n",
      "429\n",
      "try 10 second wait time\n",
      "200\n",
      "total wait time :  92.31479382514954\n",
      "recovery api cost\n"
     ]
    },
    {
     "name": "stderr",
     "output_type": "stream",
     "text": [
      "\r",
      "  0%|                                    | 23/10000 [19:11<175:39:18, 63.38s/it]"
     ]
    },
    {
     "name": "stdout",
     "output_type": "stream",
     "text": [
      "KR_5733299872의 데이터 수집이 완료되었습니다\n",
      "KR_5733300639의 데이터 수집을 시작합니다.\n"
     ]
    },
    {
     "name": "stderr",
     "output_type": "stream",
     "text": [
      "\r",
      "  0%|                                    | 24/10000 [19:25<134:00:11, 48.36s/it]"
     ]
    },
    {
     "name": "stdout",
     "output_type": "stream",
     "text": [
      "KR_5733300639의 데이터 수집이 완료되었습니다\n",
      "KR_5733301970의 데이터 수집을 시작합니다.\n"
     ]
    },
    {
     "name": "stderr",
     "output_type": "stream",
     "text": [
      "\r",
      "  0%|                                    | 25/10000 [19:38<104:41:17, 37.78s/it]"
     ]
    },
    {
     "name": "stdout",
     "output_type": "stream",
     "text": [
      "KR_5733301970의 데이터 수집이 완료되었습니다\n",
      "KR_5733303851의 데이터 수집을 시작합니다.\n",
      "api cost full : infinite loop start\n",
      "try 10 second wait time\n",
      "429\n",
      "try 10 second wait time\n",
      "429\n",
      "try 10 second wait time\n",
      "429\n",
      "try 10 second wait time\n",
      "429\n",
      "try 10 second wait time\n",
      "429\n",
      "try 10 second wait time\n",
      "429\n",
      "try 10 second wait time\n",
      "429\n",
      "try 10 second wait time\n",
      "429\n",
      "try 10 second wait time\n",
      "200\n",
      "total wait time :  92.64985918998718\n",
      "recovery api cost\n"
     ]
    },
    {
     "name": "stderr",
     "output_type": "stream",
     "text": [
      "\r",
      "  0%|                                    | 26/10000 [21:24<161:29:31, 58.29s/it]"
     ]
    },
    {
     "name": "stdout",
     "output_type": "stream",
     "text": [
      "KR_5733303851의 데이터 수집이 완료되었습니다\n",
      "KR_5733304540의 데이터 수집을 시작합니다.\n"
     ]
    },
    {
     "name": "stderr",
     "output_type": "stream",
     "text": [
      "\r",
      "  0%|                                    | 27/10000 [21:37<124:08:41, 44.81s/it]"
     ]
    },
    {
     "name": "stdout",
     "output_type": "stream",
     "text": [
      "KR_5733304540의 데이터 수집이 완료되었습니다\n",
      "KR_5733306163의 데이터 수집을 시작합니다.\n",
      "api cost full : infinite loop start\n",
      "try 10 second wait time\n",
      "429\n",
      "try 10 second wait time\n",
      "429\n",
      "try 10 second wait time\n",
      "429\n",
      "try 10 second wait time\n",
      "429\n",
      "try 10 second wait time\n",
      "429\n",
      "try 10 second wait time\n",
      "429\n",
      "try 10 second wait time\n",
      "429\n",
      "try 10 second wait time\n",
      "429\n",
      "try 10 second wait time\n",
      "200\n",
      "total wait time :  92.53281807899475\n",
      "recovery api cost\n"
     ]
    },
    {
     "name": "stderr",
     "output_type": "stream",
     "text": [
      "\r",
      "  0%|                                    | 28/10000 [23:23<174:34:34, 63.02s/it]"
     ]
    },
    {
     "name": "stdout",
     "output_type": "stream",
     "text": [
      "KR_5733306163의 데이터 수집이 완료되었습니다\n",
      "KR_5733307327의 데이터 수집을 시작합니다.\n"
     ]
    },
    {
     "name": "stderr",
     "output_type": "stream",
     "text": [
      "\r",
      "  0%|                                    | 29/10000 [23:36<133:13:02, 48.10s/it]"
     ]
    },
    {
     "name": "stdout",
     "output_type": "stream",
     "text": [
      "KR_5733307327의 데이터 수집이 완료되었습니다\n",
      "KR_5733308757의 데이터 수집을 시작합니다.\n"
     ]
    },
    {
     "name": "stderr",
     "output_type": "stream",
     "text": [
      "\r",
      "  0%|                                    | 30/10000 [23:50<104:25:21, 37.71s/it]"
     ]
    },
    {
     "name": "stdout",
     "output_type": "stream",
     "text": [
      "KR_5733308757의 데이터 수집이 완료되었습니다\n",
      "KR_5733309132의 데이터 수집을 시작합니다.\n",
      "api cost full : infinite loop start\n",
      "try 10 second wait time\n",
      "429\n",
      "try 10 second wait time\n",
      "429\n",
      "try 10 second wait time\n",
      "429\n",
      "try 10 second wait time\n",
      "429\n",
      "try 10 second wait time\n",
      "429\n",
      "try 10 second wait time\n",
      "429\n",
      "try 10 second wait time\n",
      "429\n",
      "try 10 second wait time\n",
      "429\n",
      "try 10 second wait time\n",
      "200\n",
      "total wait time :  92.37547206878662\n",
      "recovery api cost\n"
     ]
    },
    {
     "name": "stderr",
     "output_type": "stream",
     "text": [
      "\r",
      "  0%|                                    | 31/10000 [25:35<160:45:34, 58.05s/it]"
     ]
    },
    {
     "name": "stdout",
     "output_type": "stream",
     "text": [
      "KR_5733309132의 데이터 수집이 완료되었습니다\n",
      "KR_5733310656의 데이터 수집을 시작합니다.\n"
     ]
    },
    {
     "name": "stderr",
     "output_type": "stream",
     "text": [
      "\r",
      "  0%|                                    | 32/10000 [25:49<123:57:45, 44.77s/it]"
     ]
    },
    {
     "name": "stdout",
     "output_type": "stream",
     "text": [
      "KR_5733310656의 데이터 수집이 완료되었습니다\n",
      "KR_5733310735의 데이터 수집을 시작합니다.\n",
      "api cost full : infinite loop start\n",
      "try 10 second wait time\n",
      "429\n",
      "try 10 second wait time\n",
      "429\n",
      "try 10 second wait time\n",
      "429\n",
      "try 10 second wait time\n",
      "429\n",
      "try 10 second wait time\n",
      "429\n",
      "try 10 second wait time\n",
      "429\n",
      "try 10 second wait time\n",
      "429\n",
      "try 10 second wait time\n",
      "429\n",
      "try 10 second wait time\n",
      "200\n",
      "total wait time :  92.47021818161011\n",
      "recovery api cost\n"
     ]
    },
    {
     "name": "stderr",
     "output_type": "stream",
     "text": [
      "\r",
      "  0%|                                    | 33/10000 [27:35<175:14:07, 63.29s/it]"
     ]
    },
    {
     "name": "stdout",
     "output_type": "stream",
     "text": [
      "KR_5733310735의 데이터 수집이 완료되었습니다\n",
      "KR_5733311095의 데이터 수집을 시작합니다.\n"
     ]
    },
    {
     "name": "stderr",
     "output_type": "stream",
     "text": [
      "\r",
      "  0%|                                    | 34/10000 [27:49<133:33:12, 48.24s/it]"
     ]
    },
    {
     "name": "stdout",
     "output_type": "stream",
     "text": [
      "KR_5733311095의 데이터 수집이 완료되었습니다\n",
      "KR_5733311418의 데이터 수집을 시작합니다.\n"
     ]
    },
    {
     "name": "stderr",
     "output_type": "stream",
     "text": [
      "\r",
      "  0%|▏                                   | 35/10000 [28:02<104:57:08, 37.92s/it]"
     ]
    },
    {
     "name": "stdout",
     "output_type": "stream",
     "text": [
      "KR_5733311418의 데이터 수집이 완료되었습니다\n",
      "KR_5733311470의 데이터 수집을 시작합니다.\n",
      "api cost full : infinite loop start\n",
      "try 10 second wait time\n",
      "429\n",
      "try 10 second wait time\n",
      "429\n",
      "try 10 second wait time\n",
      "429\n",
      "try 10 second wait time\n",
      "429\n",
      "try 10 second wait time\n",
      "429\n",
      "try 10 second wait time\n",
      "429\n",
      "try 10 second wait time\n",
      "429\n",
      "try 10 second wait time\n",
      "429\n",
      "try 10 second wait time\n",
      "200\n",
      "total wait time :  92.40555500984192\n",
      "recovery api cost\n"
     ]
    },
    {
     "name": "stderr",
     "output_type": "stream",
     "text": [
      "\r",
      "  0%|▏                                   | 36/10000 [29:48<161:32:58, 58.37s/it]"
     ]
    },
    {
     "name": "stdout",
     "output_type": "stream",
     "text": [
      "KR_5733311470의 데이터 수집이 완료되었습니다\n",
      "KR_5733311939의 데이터 수집을 시작합니다.\n"
     ]
    },
    {
     "name": "stderr",
     "output_type": "stream",
     "text": [
      "\r",
      "  0%|▏                                   | 37/10000 [30:02<124:20:16, 44.93s/it]"
     ]
    },
    {
     "name": "stdout",
     "output_type": "stream",
     "text": [
      "KR_5733311939의 데이터 수집이 완료되었습니다\n",
      "KR_5733312605의 데이터 수집을 시작합니다.\n",
      "api cost full : infinite loop start\n",
      "try 10 second wait time\n",
      "429\n",
      "try 10 second wait time\n",
      "429\n",
      "try 10 second wait time\n",
      "429\n",
      "try 10 second wait time\n",
      "429\n",
      "try 10 second wait time\n",
      "429\n",
      "try 10 second wait time\n",
      "429\n",
      "try 10 second wait time\n",
      "429\n",
      "try 10 second wait time\n",
      "429\n",
      "try 10 second wait time\n",
      "200\n",
      "total wait time :  92.38169598579407\n",
      "recovery api cost\n"
     ]
    },
    {
     "name": "stderr",
     "output_type": "stream",
     "text": [
      "\r",
      "  0%|▏                                   | 38/10000 [31:48<174:49:33, 63.18s/it]"
     ]
    },
    {
     "name": "stdout",
     "output_type": "stream",
     "text": [
      "KR_5733312605의 데이터 수집이 완료되었습니다\n",
      "KR_5733315223의 데이터 수집을 시작합니다.\n"
     ]
    },
    {
     "name": "stderr",
     "output_type": "stream",
     "text": [
      "\r",
      "  0%|▏                                   | 39/10000 [32:02<133:47:32, 48.35s/it]"
     ]
    },
    {
     "name": "stdout",
     "output_type": "stream",
     "text": [
      "KR_5733315223의 데이터 수집이 완료되었습니다\n",
      "KR_5733315757의 데이터 수집을 시작합니다.\n"
     ]
    },
    {
     "name": "stderr",
     "output_type": "stream",
     "text": [
      "\r",
      "  0%|▏                                   | 40/10000 [32:15<104:59:26, 37.95s/it]"
     ]
    },
    {
     "name": "stdout",
     "output_type": "stream",
     "text": [
      "KR_5733315757의 데이터 수집이 완료되었습니다\n",
      "KR_5733316054의 데이터 수집을 시작합니다.\n",
      "api cost full : infinite loop start\n",
      "try 10 second wait time\n",
      "429\n",
      "try 10 second wait time\n",
      "429\n",
      "try 10 second wait time\n",
      "429\n",
      "try 10 second wait time\n",
      "429\n",
      "try 10 second wait time\n",
      "429\n",
      "try 10 second wait time\n",
      "429\n",
      "try 10 second wait time\n",
      "429\n",
      "try 10 second wait time\n",
      "429\n",
      "try 10 second wait time\n",
      "200\n",
      "total wait time :  92.50583600997925\n",
      "recovery api cost\n"
     ]
    },
    {
     "name": "stderr",
     "output_type": "stream",
     "text": [
      "\r",
      "  0%|▏                                   | 41/10000 [34:02<162:18:23, 58.67s/it]"
     ]
    },
    {
     "name": "stdout",
     "output_type": "stream",
     "text": [
      "KR_5733316054의 데이터 수집이 완료되었습니다\n",
      "KR_5733317769의 데이터 수집을 시작합니다.\n"
     ]
    },
    {
     "name": "stderr",
     "output_type": "stream",
     "text": [
      "\r",
      "  0%|▏                                   | 42/10000 [34:16<124:53:43, 45.15s/it]"
     ]
    },
    {
     "name": "stdout",
     "output_type": "stream",
     "text": [
      "KR_5733317769의 데이터 수집이 완료되었습니다\n",
      "KR_5733318421의 데이터 수집을 시작합니다.\n",
      "api cost full : infinite loop start\n",
      "try 10 second wait time\n",
      "429\n",
      "try 10 second wait time\n",
      "429\n",
      "try 10 second wait time\n",
      "429\n",
      "try 10 second wait time\n",
      "429\n",
      "try 10 second wait time\n",
      "429\n",
      "try 10 second wait time\n",
      "429\n",
      "try 10 second wait time\n",
      "429\n",
      "try 10 second wait time\n",
      "429\n",
      "try 10 second wait time\n",
      "200\n",
      "total wait time :  92.48049187660217\n",
      "recovery api cost\n"
     ]
    },
    {
     "name": "stderr",
     "output_type": "stream",
     "text": [
      "\r",
      "  0%|▏                                   | 43/10000 [36:01<175:05:23, 63.30s/it]"
     ]
    },
    {
     "name": "stdout",
     "output_type": "stream",
     "text": [
      "KR_5733318421의 데이터 수집이 완료되었습니다\n",
      "KR_5733318966의 데이터 수집을 시작합니다.\n"
     ]
    },
    {
     "name": "stderr",
     "output_type": "stream",
     "text": [
      "\r",
      "  0%|▏                                   | 44/10000 [36:17<135:37:08, 49.04s/it]"
     ]
    },
    {
     "name": "stdout",
     "output_type": "stream",
     "text": [
      "KR_5733318966의 데이터 수집이 완료되었습니다\n",
      "KR_5733319394의 데이터 수집을 시작합니다.\n"
     ]
    },
    {
     "name": "stderr",
     "output_type": "stream",
     "text": [
      "\r",
      "  0%|▏                                   | 45/10000 [36:31<106:12:07, 38.41s/it]"
     ]
    },
    {
     "name": "stdout",
     "output_type": "stream",
     "text": [
      "KR_5733319394의 데이터 수집이 완료되었습니다\n",
      "KR_5733319755의 데이터 수집을 시작합니다.\n",
      "api cost full : infinite loop start\n",
      "try 10 second wait time\n",
      "429\n",
      "try 10 second wait time\n",
      "429\n",
      "try 10 second wait time\n",
      "429\n",
      "try 10 second wait time\n",
      "429\n",
      "try 10 second wait time\n",
      "429\n",
      "try 10 second wait time\n",
      "429\n",
      "try 10 second wait time\n",
      "429\n",
      "try 10 second wait time\n",
      "429\n",
      "try 10 second wait time\n",
      "200\n",
      "total wait time :  92.41150712966919\n",
      "recovery api cost\n"
     ]
    },
    {
     "name": "stderr",
     "output_type": "stream",
     "text": [
      "\r",
      "  0%|▏                                   | 46/10000 [38:17<162:27:59, 58.76s/it]"
     ]
    },
    {
     "name": "stdout",
     "output_type": "stream",
     "text": [
      "KR_5733319755의 데이터 수집이 완료되었습니다\n",
      "KR_5733320448의 데이터 수집을 시작합니다.\n"
     ]
    },
    {
     "name": "stderr",
     "output_type": "stream",
     "text": [
      "\r",
      "  0%|▏                                   | 47/10000 [38:31<124:56:33, 45.19s/it]"
     ]
    },
    {
     "name": "stdout",
     "output_type": "stream",
     "text": [
      "KR_5733320448의 데이터 수집이 완료되었습니다\n",
      "KR_5733322561의 데이터 수집을 시작합니다.\n",
      "api cost full : infinite loop start\n",
      "try 10 second wait time\n",
      "429\n",
      "try 10 second wait time\n",
      "429\n",
      "try 10 second wait time\n",
      "429\n",
      "try 10 second wait time\n",
      "429\n",
      "try 10 second wait time\n",
      "429\n",
      "try 10 second wait time\n",
      "429\n",
      "try 10 second wait time\n",
      "429\n",
      "try 10 second wait time\n",
      "429\n",
      "try 10 second wait time\n",
      "200\n",
      "total wait time :  92.52948307991028\n",
      "recovery api cost\n"
     ]
    },
    {
     "name": "stderr",
     "output_type": "stream",
     "text": [
      "\r",
      "  0%|▏                                   | 48/10000 [40:17<175:55:43, 63.64s/it]"
     ]
    },
    {
     "name": "stdout",
     "output_type": "stream",
     "text": [
      "KR_5733322561의 데이터 수집이 완료되었습니다\n",
      "KR_5733327208의 데이터 수집을 시작합니다.\n"
     ]
    },
    {
     "name": "stderr",
     "output_type": "stream",
     "text": [
      "\r",
      "  0%|▏                                   | 49/10000 [40:31<134:07:25, 48.52s/it]"
     ]
    },
    {
     "name": "stdout",
     "output_type": "stream",
     "text": [
      "KR_5733327208의 데이터 수집이 완료되었습니다\n",
      "KR_5733327343의 데이터 수집을 시작합니다.\n"
     ]
    },
    {
     "name": "stderr",
     "output_type": "stream",
     "text": [
      "\r",
      "  0%|▏                                   | 50/10000 [40:44<104:56:39, 37.97s/it]"
     ]
    },
    {
     "name": "stdout",
     "output_type": "stream",
     "text": [
      "KR_5733327343의 데이터 수집이 완료되었습니다\n",
      "KR_5733328694의 데이터 수집을 시작합니다.\n",
      "api cost full : infinite loop start\n",
      "try 10 second wait time\n",
      "429\n",
      "try 10 second wait time\n",
      "429\n",
      "try 10 second wait time\n",
      "429\n",
      "try 10 second wait time\n",
      "429\n",
      "try 10 second wait time\n",
      "429\n",
      "try 10 second wait time\n",
      "429\n",
      "try 10 second wait time\n",
      "429\n",
      "try 10 second wait time\n",
      "429\n",
      "try 10 second wait time\n",
      "200\n",
      "total wait time :  92.39818501472473\n",
      "recovery api cost\n"
     ]
    },
    {
     "name": "stderr",
     "output_type": "stream",
     "text": [
      "\r",
      "  1%|▏                                   | 51/10000 [42:30<161:11:54, 58.33s/it]"
     ]
    },
    {
     "name": "stdout",
     "output_type": "stream",
     "text": [
      "KR_5733328694의 데이터 수집이 완료되었습니다\n",
      "KR_5733328839의 데이터 수집을 시작합니다.\n"
     ]
    },
    {
     "name": "stderr",
     "output_type": "stream",
     "text": [
      "\r",
      "  1%|▏                                   | 52/10000 [42:43<123:44:12, 44.78s/it]"
     ]
    },
    {
     "name": "stdout",
     "output_type": "stream",
     "text": [
      "KR_5733328839의 데이터 수집이 완료되었습니다\n",
      "KR_5733330681의 데이터 수집을 시작합니다.\n",
      "api cost full : infinite loop start\n",
      "try 10 second wait time\n",
      "429\n",
      "try 10 second wait time\n",
      "429\n",
      "try 10 second wait time\n",
      "429\n",
      "try 10 second wait time\n",
      "429\n",
      "try 10 second wait time\n",
      "429\n",
      "try 10 second wait time\n",
      "429\n",
      "try 10 second wait time\n",
      "429\n",
      "try 10 second wait time\n",
      "429\n",
      "try 10 second wait time\n",
      "200\n",
      "total wait time :  92.26360297203064\n",
      "recovery api cost\n"
     ]
    },
    {
     "name": "stderr",
     "output_type": "stream",
     "text": [
      "\r",
      "  1%|▏                                   | 53/10000 [44:29<174:11:55, 63.05s/it]"
     ]
    },
    {
     "name": "stdout",
     "output_type": "stream",
     "text": [
      "KR_5733330681의 데이터 수집이 완료되었습니다\n",
      "KR_5733335356의 데이터 수집을 시작합니다.\n"
     ]
    },
    {
     "name": "stderr",
     "output_type": "stream",
     "text": [
      "\r",
      "  1%|▏                                   | 54/10000 [44:43<133:46:26, 48.42s/it]"
     ]
    },
    {
     "name": "stdout",
     "output_type": "stream",
     "text": [
      "KR_5733335356의 데이터 수집이 완료되었습니다\n",
      "KR_5733336075의 데이터 수집을 시작합니다.\n"
     ]
    },
    {
     "name": "stderr",
     "output_type": "stream",
     "text": [
      "\r",
      "  1%|▏                                   | 55/10000 [44:56<104:34:22, 37.85s/it]"
     ]
    },
    {
     "name": "stdout",
     "output_type": "stream",
     "text": [
      "KR_5733336075의 데이터 수집이 완료되었습니다\n",
      "KR_5733336265의 데이터 수집을 시작합니다.\n",
      "api cost full : infinite loop start\n",
      "try 10 second wait time\n",
      "429\n",
      "try 10 second wait time\n",
      "429\n",
      "try 10 second wait time\n",
      "429\n",
      "try 10 second wait time\n",
      "429\n",
      "try 10 second wait time\n",
      "429\n",
      "try 10 second wait time\n",
      "429\n",
      "try 10 second wait time\n",
      "429\n",
      "try 10 second wait time\n",
      "429\n",
      "try 10 second wait time\n",
      "200\n",
      "total wait time :  92.20967102050781\n",
      "recovery api cost\n"
     ]
    },
    {
     "name": "stderr",
     "output_type": "stream",
     "text": [
      "\r",
      "  1%|▏                                   | 56/10000 [46:41<160:30:42, 58.11s/it]"
     ]
    },
    {
     "name": "stdout",
     "output_type": "stream",
     "text": [
      "KR_5733336265의 데이터 수집이 완료되었습니다\n",
      "KR_5733338597의 데이터 수집을 시작합니다.\n"
     ]
    },
    {
     "name": "stderr",
     "output_type": "stream",
     "text": [
      "\r",
      "  1%|▏                                   | 57/10000 [46:55<123:37:30, 44.76s/it]"
     ]
    },
    {
     "name": "stdout",
     "output_type": "stream",
     "text": [
      "KR_5733338597의 데이터 수집이 완료되었습니다\n",
      "KR_5733338758의 데이터 수집을 시작합니다.\n",
      "api cost full : infinite loop start\n",
      "try 10 second wait time\n",
      "429\n",
      "try 10 second wait time\n",
      "429\n",
      "try 10 second wait time\n",
      "429\n",
      "try 10 second wait time\n",
      "429\n",
      "try 10 second wait time\n",
      "429\n",
      "try 10 second wait time\n",
      "429\n",
      "try 10 second wait time\n",
      "429\n",
      "try 10 second wait time\n",
      "429\n",
      "try 10 second wait time\n",
      "200\n",
      "total wait time :  92.33663606643677\n",
      "recovery api cost\n"
     ]
    },
    {
     "name": "stderr",
     "output_type": "stream",
     "text": [
      "\r",
      "  1%|▏                                   | 58/10000 [48:41<174:27:16, 63.17s/it]"
     ]
    },
    {
     "name": "stdout",
     "output_type": "stream",
     "text": [
      "KR_5733338758의 데이터 수집이 완료되었습니다\n",
      "KR_5733340775의 데이터 수집을 시작합니다.\n"
     ]
    },
    {
     "name": "stderr",
     "output_type": "stream",
     "text": [
      "\r",
      "  1%|▏                                   | 59/10000 [48:54<133:01:44, 48.17s/it]"
     ]
    },
    {
     "name": "stdout",
     "output_type": "stream",
     "text": [
      "KR_5733340775의 데이터 수집이 완료되었습니다\n",
      "KR_5733340806의 데이터 수집을 시작합니다.\n"
     ]
    },
    {
     "name": "stderr",
     "output_type": "stream",
     "text": [
      "\r",
      "  1%|▏                                   | 60/10000 [49:10<106:10:38, 38.45s/it]"
     ]
    },
    {
     "name": "stdout",
     "output_type": "stream",
     "text": [
      "KR_5733340806의 데이터 수집이 완료되었습니다\n",
      "KR_5733340913의 데이터 수집을 시작합니다.\n",
      "api cost full : infinite loop start\n",
      "try 10 second wait time\n",
      "429\n",
      "try 10 second wait time\n",
      "429\n",
      "try 10 second wait time\n",
      "429\n",
      "try 10 second wait time\n",
      "429\n",
      "try 10 second wait time\n",
      "429\n",
      "try 10 second wait time\n",
      "429\n",
      "try 10 second wait time\n",
      "429\n",
      "try 10 second wait time\n",
      "429\n",
      "try 10 second wait time\n",
      "200\n",
      "total wait time :  92.58865404129028\n",
      "recovery api cost\n"
     ]
    },
    {
     "name": "stderr",
     "output_type": "stream",
     "text": [
      "\r",
      "  1%|▏                                   | 61/10000 [50:56<162:09:14, 58.73s/it]"
     ]
    },
    {
     "name": "stdout",
     "output_type": "stream",
     "text": [
      "KR_5733340913의 데이터 수집이 완료되었습니다\n",
      "KR_5733341026의 데이터 수집을 시작합니다.\n"
     ]
    },
    {
     "name": "stderr",
     "output_type": "stream",
     "text": [
      "\r",
      "  1%|▏                                   | 62/10000 [51:10<124:47:03, 45.20s/it]"
     ]
    },
    {
     "name": "stdout",
     "output_type": "stream",
     "text": [
      "KR_5733341026의 데이터 수집이 완료되었습니다\n",
      "KR_5733344231의 데이터 수집을 시작합니다.\n",
      "api cost full : infinite loop start\n",
      "try 10 second wait time\n",
      "429\n",
      "try 10 second wait time\n",
      "429\n",
      "try 10 second wait time\n",
      "429\n",
      "try 10 second wait time\n",
      "429\n",
      "try 10 second wait time\n",
      "429\n",
      "try 10 second wait time\n",
      "429\n",
      "try 10 second wait time\n",
      "429\n",
      "try 10 second wait time\n",
      "429\n",
      "try 10 second wait time\n",
      "200\n",
      "total wait time :  92.40938186645508\n",
      "recovery api cost\n"
     ]
    },
    {
     "name": "stderr",
     "output_type": "stream",
     "text": [
      "\r",
      "  1%|▏                                   | 63/10000 [52:56<175:02:07, 63.41s/it]"
     ]
    },
    {
     "name": "stdout",
     "output_type": "stream",
     "text": [
      "KR_5733344231의 데이터 수집이 완료되었습니다\n",
      "KR_5733345349의 데이터 수집을 시작합니다.\n"
     ]
    },
    {
     "name": "stderr",
     "output_type": "stream",
     "text": [
      "\r",
      "  1%|▏                                   | 64/10000 [53:10<133:58:24, 48.54s/it]"
     ]
    },
    {
     "name": "stdout",
     "output_type": "stream",
     "text": [
      "KR_5733345349의 데이터 수집이 완료되었습니다\n",
      "KR_5733345796의 데이터 수집을 시작합니다.\n"
     ]
    },
    {
     "name": "stderr",
     "output_type": "stream",
     "text": [
      "\r",
      "  1%|▏                                   | 65/10000 [53:23<104:56:55, 38.03s/it]"
     ]
    },
    {
     "name": "stdout",
     "output_type": "stream",
     "text": [
      "KR_5733345796의 데이터 수집이 완료되었습니다\n",
      "KR_5733345824의 데이터 수집을 시작합니다.\n",
      "api cost full : infinite loop start\n",
      "try 10 second wait time\n",
      "429\n",
      "try 10 second wait time\n",
      "429\n",
      "try 10 second wait time\n",
      "429\n",
      "try 10 second wait time\n",
      "429\n",
      "try 10 second wait time\n",
      "429\n",
      "try 10 second wait time\n",
      "429\n",
      "try 10 second wait time\n",
      "429\n",
      "try 10 second wait time\n",
      "429\n",
      "try 10 second wait time\n",
      "200\n",
      "total wait time :  92.29566097259521\n",
      "recovery api cost\n"
     ]
    },
    {
     "name": "stderr",
     "output_type": "stream",
     "text": [
      "\r",
      "  1%|▏                                   | 66/10000 [55:09<160:52:20, 58.30s/it]"
     ]
    },
    {
     "name": "stdout",
     "output_type": "stream",
     "text": [
      "KR_5733345824의 데이터 수집이 완료되었습니다\n",
      "KR_5733346375의 데이터 수집을 시작합니다.\n"
     ]
    },
    {
     "name": "stderr",
     "output_type": "stream",
     "text": [
      "\r",
      "  1%|▏                                   | 67/10000 [55:22<123:33:18, 44.78s/it]"
     ]
    },
    {
     "name": "stdout",
     "output_type": "stream",
     "text": [
      "KR_5733346375의 데이터 수집이 완료되었습니다\n",
      "KR_5733347772의 데이터 수집을 시작합니다.\n",
      "api cost full : infinite loop start\n",
      "try 10 second wait time\n",
      "429\n",
      "try 10 second wait time\n",
      "429\n",
      "try 10 second wait time\n",
      "429\n",
      "try 10 second wait time\n",
      "429\n",
      "try 10 second wait time\n",
      "429\n",
      "try 10 second wait time\n",
      "429\n",
      "try 10 second wait time\n",
      "429\n",
      "try 10 second wait time\n",
      "429\n",
      "try 10 second wait time\n",
      "200\n",
      "total wait time :  92.40580892562866\n",
      "recovery api cost\n"
     ]
    },
    {
     "name": "stderr",
     "output_type": "stream",
     "text": [
      "\r",
      "  1%|▏                                   | 68/10000 [57:08<174:01:26, 63.08s/it]"
     ]
    },
    {
     "name": "stdout",
     "output_type": "stream",
     "text": [
      "KR_5733347772의 데이터 수집이 완료되었습니다\n",
      "KR_5733350385의 데이터 수집을 시작합니다.\n"
     ]
    },
    {
     "name": "stderr",
     "output_type": "stream",
     "text": [
      "\r",
      "  1%|▏                                   | 69/10000 [57:21<132:36:17, 48.07s/it]"
     ]
    },
    {
     "name": "stdout",
     "output_type": "stream",
     "text": [
      "KR_5733350385의 데이터 수집이 완료되었습니다\n",
      "KR_5733353103의 데이터 수집을 시작합니다.\n"
     ]
    },
    {
     "name": "stderr",
     "output_type": "stream",
     "text": [
      "\r",
      "  1%|▎                                   | 70/10000 [57:34<103:42:43, 37.60s/it]"
     ]
    },
    {
     "name": "stdout",
     "output_type": "stream",
     "text": [
      "KR_5733353103의 데이터 수집이 완료되었습니다\n",
      "KR_5733353803의 데이터 수집을 시작합니다.\n",
      "api cost full : infinite loop start\n",
      "try 10 second wait time\n",
      "429\n",
      "try 10 second wait time\n",
      "429\n",
      "try 10 second wait time\n",
      "429\n",
      "try 10 second wait time\n",
      "429\n",
      "try 10 second wait time\n",
      "429\n",
      "try 10 second wait time\n",
      "429\n",
      "try 10 second wait time\n",
      "429\n",
      "try 10 second wait time\n",
      "429\n",
      "try 10 second wait time\n",
      "200\n",
      "total wait time :  92.30350708961487\n",
      "recovery api cost\n"
     ]
    },
    {
     "name": "stderr",
     "output_type": "stream",
     "text": [
      "\r",
      "  1%|▎                                   | 71/10000 [59:19<159:55:16, 57.98s/it]"
     ]
    },
    {
     "name": "stdout",
     "output_type": "stream",
     "text": [
      "KR_5733353803의 데이터 수집이 완료되었습니다\n",
      "KR_5733354909의 데이터 수집을 시작합니다.\n"
     ]
    },
    {
     "name": "stderr",
     "output_type": "stream",
     "text": [
      "\r",
      "  1%|▎                                   | 72/10000 [59:33<122:51:12, 44.55s/it]"
     ]
    },
    {
     "name": "stdout",
     "output_type": "stream",
     "text": [
      "KR_5733354909의 데이터 수집이 완료되었습니다\n",
      "KR_5733357288의 데이터 수집을 시작합니다.\n",
      "api cost full : infinite loop start\n",
      "try 10 second wait time\n",
      "429\n",
      "try 10 second wait time\n",
      "429\n",
      "try 10 second wait time\n",
      "429\n",
      "try 10 second wait time\n",
      "429\n",
      "try 10 second wait time\n",
      "429\n",
      "try 10 second wait time\n",
      "429\n",
      "try 10 second wait time\n",
      "429\n",
      "try 10 second wait time\n",
      "429\n",
      "try 10 second wait time\n",
      "200\n",
      "total wait time :  92.47672390937805\n",
      "recovery api cost\n"
     ]
    },
    {
     "name": "stderr",
     "output_type": "stream",
     "text": [
      "\r",
      "  1%|▏                                 | 73/10000 [1:01:18<173:24:23, 62.89s/it]"
     ]
    },
    {
     "name": "stdout",
     "output_type": "stream",
     "text": [
      "KR_5733357288의 데이터 수집이 완료되었습니다\n",
      "KR_5733358766의 데이터 수집을 시작합니다.\n"
     ]
    },
    {
     "name": "stderr",
     "output_type": "stream",
     "text": [
      "\r",
      "  1%|▎                                 | 74/10000 [1:01:32<132:19:40, 47.99s/it]"
     ]
    },
    {
     "name": "stdout",
     "output_type": "stream",
     "text": [
      "KR_5733358766의 데이터 수집이 완료되었습니다\n",
      "KR_5733359381의 데이터 수집을 시작합니다.\n"
     ]
    },
    {
     "name": "stderr",
     "output_type": "stream",
     "text": [
      "\r",
      "  1%|▎                                 | 75/10000 [1:01:45<103:46:49, 37.64s/it]"
     ]
    },
    {
     "name": "stdout",
     "output_type": "stream",
     "text": [
      "KR_5733359381의 데이터 수집이 완료되었습니다\n",
      "KR_5733360919의 데이터 수집을 시작합니다.\n",
      "api cost full : infinite loop start\n",
      "try 10 second wait time\n",
      "429\n",
      "try 10 second wait time\n",
      "429\n",
      "try 10 second wait time\n",
      "429\n",
      "try 10 second wait time\n",
      "429\n",
      "try 10 second wait time\n",
      "429\n",
      "try 10 second wait time\n",
      "429\n",
      "try 10 second wait time\n",
      "429\n",
      "try 10 second wait time\n",
      "429\n",
      "try 10 second wait time\n",
      "200\n",
      "total wait time :  92.20136022567749\n",
      "recovery api cost\n"
     ]
    },
    {
     "name": "stderr",
     "output_type": "stream",
     "text": [
      "\r",
      "  1%|▎                                 | 76/10000 [1:03:30<159:50:45, 57.99s/it]"
     ]
    },
    {
     "name": "stdout",
     "output_type": "stream",
     "text": [
      "KR_5733360919의 데이터 수집이 완료되었습니다\n",
      "KR_5733360939의 데이터 수집을 시작합니다.\n"
     ]
    },
    {
     "name": "stderr",
     "output_type": "stream",
     "text": [
      "\r",
      "  1%|▎                                 | 77/10000 [1:03:44<123:02:59, 44.64s/it]"
     ]
    },
    {
     "name": "stdout",
     "output_type": "stream",
     "text": [
      "KR_5733360939의 데이터 수집이 완료되었습니다\n",
      "KR_5733361638의 데이터 수집을 시작합니다.\n",
      "api cost full : infinite loop start\n",
      "try 10 second wait time\n",
      "429\n",
      "try 10 second wait time\n",
      "429\n",
      "try 10 second wait time\n",
      "429\n",
      "try 10 second wait time\n",
      "429\n",
      "try 10 second wait time\n",
      "429\n",
      "try 10 second wait time\n",
      "429\n",
      "try 10 second wait time\n",
      "429\n",
      "try 10 second wait time\n",
      "429\n",
      "try 10 second wait time\n",
      "200\n",
      "total wait time :  92.42635798454285\n",
      "recovery api cost\n"
     ]
    },
    {
     "name": "stderr",
     "output_type": "stream",
     "text": [
      "\r",
      "  1%|▎                                 | 78/10000 [1:05:30<174:03:55, 63.16s/it]"
     ]
    },
    {
     "name": "stdout",
     "output_type": "stream",
     "text": [
      "KR_5733361638의 데이터 수집이 완료되었습니다\n",
      "KR_5733363215의 데이터 수집을 시작합니다.\n"
     ]
    },
    {
     "name": "stderr",
     "output_type": "stream",
     "text": [
      "\r",
      "  1%|▎                                 | 79/10000 [1:05:43<132:31:21, 48.09s/it]"
     ]
    },
    {
     "name": "stdout",
     "output_type": "stream",
     "text": [
      "KR_5733363215의 데이터 수집이 완료되었습니다\n",
      "KR_5733364314의 데이터 수집을 시작합니다.\n"
     ]
    },
    {
     "name": "stderr",
     "output_type": "stream",
     "text": [
      "\r",
      "  1%|▎                                 | 80/10000 [1:05:57<103:46:29, 37.66s/it]"
     ]
    },
    {
     "name": "stdout",
     "output_type": "stream",
     "text": [
      "KR_5733364314의 데이터 수집이 완료되었습니다\n",
      "KR_5733365423의 데이터 수집을 시작합니다.\n",
      "api cost full : infinite loop start\n",
      "try 10 second wait time\n",
      "429\n",
      "try 10 second wait time\n",
      "429\n",
      "try 10 second wait time\n",
      "429\n",
      "try 10 second wait time\n",
      "429\n",
      "try 10 second wait time\n",
      "429\n",
      "try 10 second wait time\n",
      "429\n",
      "try 10 second wait time\n",
      "429\n",
      "try 10 second wait time\n",
      "429\n",
      "try 10 second wait time\n",
      "200\n",
      "total wait time :  92.38879990577698\n",
      "recovery api cost\n"
     ]
    },
    {
     "name": "stderr",
     "output_type": "stream",
     "text": [
      "\r",
      "  1%|▎                                 | 81/10000 [1:07:42<159:38:45, 57.94s/it]"
     ]
    },
    {
     "name": "stdout",
     "output_type": "stream",
     "text": [
      "KR_5733365423의 데이터 수집이 완료되었습니다\n",
      "KR_5733369881의 데이터 수집을 시작합니다.\n"
     ]
    },
    {
     "name": "stderr",
     "output_type": "stream",
     "text": [
      "\r",
      "  1%|▎                                 | 82/10000 [1:07:55<122:50:54, 44.59s/it]"
     ]
    },
    {
     "name": "stdout",
     "output_type": "stream",
     "text": [
      "KR_5733369881의 데이터 수집이 완료되었습니다\n",
      "KR_5733371394의 데이터 수집을 시작합니다.\n",
      "api cost full : infinite loop start\n",
      "try 10 second wait time\n",
      "429\n",
      "try 10 second wait time\n",
      "429\n",
      "try 10 second wait time\n",
      "429\n",
      "try 10 second wait time\n",
      "429\n",
      "try 10 second wait time\n",
      "429\n",
      "try 10 second wait time\n",
      "429\n",
      "try 10 second wait time\n",
      "429\n",
      "try 10 second wait time\n",
      "429\n",
      "try 10 second wait time\n",
      "200\n",
      "total wait time :  92.27721810340881\n",
      "recovery api cost\n"
     ]
    },
    {
     "name": "stderr",
     "output_type": "stream",
     "text": [
      "\r",
      "  1%|▎                                 | 83/10000 [1:09:41<173:11:19, 62.87s/it]"
     ]
    },
    {
     "name": "stdout",
     "output_type": "stream",
     "text": [
      "KR_5733371394의 데이터 수집이 완료되었습니다\n",
      "KR_5733371453의 데이터 수집을 시작합니다.\n"
     ]
    },
    {
     "name": "stderr",
     "output_type": "stream",
     "text": [
      "\r",
      "  1%|▎                                 | 84/10000 [1:09:53<131:10:21, 47.62s/it]"
     ]
    },
    {
     "name": "stdout",
     "output_type": "stream",
     "text": [
      "KR_5733371473의 데이터 수집을 시작합니다.\n",
      "api cost full : infinite loop start\n",
      "try 10 second wait time\n",
      "429\n",
      "try 10 second wait time\n",
      "429\n",
      "try 10 second wait time\n",
      "429\n",
      "try 10 second wait time\n",
      "429\n",
      "try 10 second wait time\n",
      "429\n",
      "try 10 second wait time\n",
      "429\n",
      "try 10 second wait time\n",
      "429\n",
      "try 10 second wait time\n",
      "429\n",
      "try 10 second wait time\n",
      "429\n",
      "try 10 second wait time\n",
      "200\n",
      "total wait time :  102.58447694778442\n",
      "recovery api cost\n"
     ]
    },
    {
     "name": "stderr",
     "output_type": "stream",
     "text": [
      "\r",
      "  1%|▎                                 | 85/10000 [1:11:50<188:37:43, 68.49s/it]"
     ]
    },
    {
     "name": "stdout",
     "output_type": "stream",
     "text": [
      "KR_5733371473의 데이터 수집이 완료되었습니다\n",
      "KR_5733373608의 데이터 수집을 시작합니다.\n",
      "api cost full : infinite loop start\n",
      "try 10 second wait time\n",
      "429\n",
      "try 10 second wait time\n",
      "429\n",
      "try 10 second wait time\n",
      "429\n",
      "try 10 second wait time\n",
      "429\n",
      "try 10 second wait time\n",
      "429\n",
      "try 10 second wait time\n",
      "429\n",
      "try 10 second wait time\n",
      "429\n",
      "try 10 second wait time\n",
      "429\n",
      "try 10 second wait time\n",
      "429\n",
      "try 10 second wait time\n",
      "429\n",
      "try 10 second wait time\n",
      "200\n",
      "total wait time :  112.7885730266571\n",
      "recovery api cost\n"
     ]
    },
    {
     "name": "stderr",
     "output_type": "stream",
     "text": [
      "\r",
      "  1%|▎                                 | 86/10000 [1:13:57<236:35:34, 85.91s/it]"
     ]
    },
    {
     "name": "stdout",
     "output_type": "stream",
     "text": [
      "KR_5733373608의 데이터 수집이 완료되었습니다\n",
      "KR_5733375047의 데이터 수집을 시작합니다.\n"
     ]
    },
    {
     "name": "stderr",
     "output_type": "stream",
     "text": [
      "\r",
      "  1%|▎                                 | 87/10000 [1:14:03<170:54:36, 62.07s/it]"
     ]
    },
    {
     "name": "stdout",
     "output_type": "stream",
     "text": [
      "KR_5733379309의 데이터 수집을 시작합니다.\n",
      "api cost full : infinite loop start\n",
      "try 10 second wait time\n",
      "429\n",
      "try 10 second wait time\n",
      "429\n",
      "try 10 second wait time\n",
      "429\n",
      "try 10 second wait time\n",
      "429\n",
      "try 10 second wait time\n",
      "429\n",
      "try 10 second wait time\n",
      "429\n",
      "try 10 second wait time\n",
      "429\n",
      "try 10 second wait time\n",
      "429\n",
      "try 10 second wait time\n",
      "429\n",
      "try 10 second wait time\n",
      "200\n",
      "total wait time :  102.64682412147522\n",
      "recovery api cost\n"
     ]
    },
    {
     "name": "stderr",
     "output_type": "stream",
     "text": [
      "\r",
      "  1%|▎                                 | 88/10000 [1:15:59<215:33:37, 78.29s/it]"
     ]
    },
    {
     "name": "stdout",
     "output_type": "stream",
     "text": [
      "KR_5733379309의 데이터 수집이 완료되었습니다\n",
      "KR_5733379479의 데이터 수집을 시작합니다.\n",
      "api cost full : infinite loop start\n",
      "try 10 second wait time\n",
      "429\n",
      "try 10 second wait time\n",
      "429\n",
      "try 10 second wait time\n",
      "429\n",
      "try 10 second wait time\n",
      "429\n",
      "try 10 second wait time\n",
      "429\n",
      "try 10 second wait time\n",
      "429\n",
      "try 10 second wait time\n",
      "429\n",
      "try 10 second wait time\n",
      "429\n",
      "try 10 second wait time\n",
      "429\n",
      "try 10 second wait time\n",
      "429\n",
      "try 10 second wait time\n",
      "200\n",
      "total wait time :  112.72114396095276\n",
      "recovery api cost\n"
     ]
    },
    {
     "name": "stderr",
     "output_type": "stream",
     "text": [
      "\r",
      "  1%|▎                                 | 89/10000 [1:18:05<254:46:44, 92.54s/it]"
     ]
    },
    {
     "name": "stdout",
     "output_type": "stream",
     "text": [
      "KR_5733379479의 데이터 수집이 완료되었습니다\n",
      "KR_5733380147의 데이터 수집을 시작합니다.\n"
     ]
    },
    {
     "name": "stderr",
     "output_type": "stream",
     "text": [
      "\r",
      "  1%|▎                                 | 90/10000 [1:18:12<184:04:03, 66.87s/it]"
     ]
    },
    {
     "name": "stdout",
     "output_type": "stream",
     "text": [
      "KR_5733383284의 데이터 수집을 시작합니다.\n",
      "api cost full : infinite loop start\n",
      "try 10 second wait time\n",
      "429\n",
      "try 10 second wait time\n",
      "429\n",
      "try 10 second wait time\n",
      "429\n",
      "try 10 second wait time\n",
      "429\n",
      "try 10 second wait time\n",
      "429\n",
      "try 10 second wait time\n",
      "429\n",
      "try 10 second wait time\n",
      "429\n",
      "try 10 second wait time\n",
      "429\n",
      "try 10 second wait time\n",
      "429\n",
      "try 10 second wait time\n",
      "200\n",
      "total wait time :  102.63210988044739\n",
      "recovery api cost\n"
     ]
    },
    {
     "name": "stderr",
     "output_type": "stream",
     "text": [
      "\r",
      "  1%|▎                                 | 91/10000 [1:20:08<224:51:14, 81.69s/it]"
     ]
    },
    {
     "name": "stdout",
     "output_type": "stream",
     "text": [
      "KR_5733383284의 데이터 수집이 완료되었습니다\n",
      "KR_5733386498의 데이터 수집을 시작합니다.\n",
      "api cost full : infinite loop start\n",
      "try 10 second wait time\n",
      "429\n",
      "try 10 second wait time\n",
      "429\n",
      "try 10 second wait time\n",
      "429\n",
      "try 10 second wait time\n",
      "429\n",
      "try 10 second wait time\n",
      "429\n",
      "try 10 second wait time\n",
      "429\n",
      "try 10 second wait time\n",
      "429\n",
      "try 10 second wait time\n",
      "429\n",
      "try 10 second wait time\n",
      "429\n",
      "try 10 second wait time\n",
      "200\n",
      "total wait time :  102.6897542476654\n",
      "recovery api cost\n"
     ]
    },
    {
     "name": "stderr",
     "output_type": "stream",
     "text": [
      "\r",
      "  1%|▎                                 | 92/10000 [1:22:04<252:49:29, 91.86s/it]"
     ]
    },
    {
     "name": "stdout",
     "output_type": "stream",
     "text": [
      "KR_5733386498의 데이터 수집이 완료되었습니다\n",
      "KR_5733387490의 데이터 수집을 시작합니다.\n"
     ]
    },
    {
     "name": "stderr",
     "output_type": "stream",
     "text": [
      "\r",
      "  1%|▎                                 | 93/10000 [1:22:16<186:52:06, 67.90s/it]"
     ]
    },
    {
     "name": "stdout",
     "output_type": "stream",
     "text": [
      "KR_5733390574의 데이터 수집을 시작합니다.\n",
      "api cost full : infinite loop start\n",
      "try 10 second wait time\n",
      "429\n",
      "try 10 second wait time\n",
      "429\n",
      "try 10 second wait time\n",
      "429\n",
      "try 10 second wait time\n",
      "429\n",
      "try 10 second wait time\n",
      "429\n",
      "try 10 second wait time\n",
      "429\n",
      "try 10 second wait time\n",
      "429\n",
      "try 10 second wait time\n",
      "429\n",
      "try 10 second wait time\n",
      "429\n",
      "try 10 second wait time\n",
      "200\n",
      "total wait time :  102.73529195785522\n",
      "recovery api cost\n"
     ]
    },
    {
     "name": "stderr",
     "output_type": "stream",
     "text": [
      "\r",
      "  1%|▎                                 | 94/10000 [1:24:12<226:29:44, 82.31s/it]"
     ]
    },
    {
     "name": "stdout",
     "output_type": "stream",
     "text": [
      "KR_5733390574의 데이터 수집이 완료되었습니다\n",
      "KR_5733391306의 데이터 수집을 시작합니다.\n"
     ]
    },
    {
     "name": "stderr",
     "output_type": "stream",
     "text": [
      "\r",
      "  1%|▎                                 | 95/10000 [1:24:16<161:40:20, 58.76s/it]"
     ]
    },
    {
     "name": "stdout",
     "output_type": "stream",
     "text": [
      "KR_5733392435의 데이터 수집을 시작합니다.\n",
      "api cost full : infinite loop start\n",
      "try 10 second wait time\n",
      "429\n",
      "try 10 second wait time\n",
      "429\n",
      "try 10 second wait time\n",
      "429\n",
      "try 10 second wait time\n",
      "429\n",
      "try 10 second wait time\n",
      "429\n",
      "try 10 second wait time\n",
      "429\n",
      "try 10 second wait time\n",
      "429\n",
      "try 10 second wait time\n",
      "429\n",
      "try 10 second wait time\n",
      "429\n",
      "try 10 second wait time\n",
      "200\n",
      "total wait time :  102.91320395469666\n",
      "recovery api cost\n"
     ]
    },
    {
     "name": "stderr",
     "output_type": "stream",
     "text": [
      "\r",
      "  1%|▎                                 | 96/10000 [1:26:11<208:48:39, 75.90s/it]"
     ]
    },
    {
     "name": "stdout",
     "output_type": "stream",
     "text": [
      "KR_5733392435의 데이터 수집이 완료되었습니다\n",
      "KR_5733392516의 데이터 수집을 시작합니다.\n",
      "api cost full : infinite loop start\n",
      "try 10 second wait time\n",
      "429\n",
      "try 10 second wait time\n",
      "429\n",
      "try 10 second wait time\n",
      "429\n",
      "try 10 second wait time\n",
      "429\n",
      "try 10 second wait time\n",
      "429\n",
      "try 10 second wait time\n",
      "429\n",
      "try 10 second wait time\n",
      "429\n",
      "try 10 second wait time\n",
      "429\n",
      "try 10 second wait time\n",
      "429\n",
      "try 10 second wait time\n",
      "429\n",
      "try 10 second wait time\n",
      "200\n",
      "total wait time :  113.22410011291504\n",
      "recovery api cost\n"
     ]
    },
    {
     "name": "stderr",
     "output_type": "stream",
     "text": [
      "\r",
      "  1%|▎                                 | 97/10000 [1:28:18<250:49:57, 91.18s/it]"
     ]
    },
    {
     "name": "stdout",
     "output_type": "stream",
     "text": [
      "KR_5733392516의 데이터 수집이 완료되었습니다\n",
      "KR_5733393328의 데이터 수집을 시작합니다.\n"
     ]
    },
    {
     "name": "stderr",
     "output_type": "stream",
     "text": [
      "\r",
      "  1%|▎                                 | 98/10000 [1:28:27<182:44:53, 66.44s/it]"
     ]
    },
    {
     "name": "stdout",
     "output_type": "stream",
     "text": [
      "KR_5733395592의 데이터 수집을 시작합니다.\n",
      "api cost full : infinite loop start\n",
      "try 10 second wait time\n",
      "429\n",
      "try 10 second wait time\n",
      "429\n",
      "try 10 second wait time\n",
      "429\n",
      "try 10 second wait time\n",
      "429\n",
      "try 10 second wait time\n",
      "429\n",
      "try 10 second wait time\n",
      "429\n",
      "try 10 second wait time\n",
      "429\n",
      "try 10 second wait time\n",
      "429\n",
      "try 10 second wait time\n",
      "429\n",
      "try 10 second wait time\n",
      "200\n",
      "total wait time :  102.71905708312988\n",
      "recovery api cost\n"
     ]
    },
    {
     "name": "stderr",
     "output_type": "stream",
     "text": [
      "\r",
      "  1%|▎                                 | 99/10000 [1:30:23<223:45:39, 81.36s/it]"
     ]
    },
    {
     "name": "stdout",
     "output_type": "stream",
     "text": [
      "KR_5733395592의 데이터 수집이 완료되었습니다\n",
      "KR_5733397131의 데이터 수집을 시작합니다.\n"
     ]
    },
    {
     "name": "stderr",
     "output_type": "stream",
     "text": [
      "\r",
      "  1%|▎                                | 100/10000 [1:30:27<159:46:57, 58.10s/it]"
     ]
    },
    {
     "name": "stdout",
     "output_type": "stream",
     "text": [
      "KR_5733397463의 데이터 수집을 시작합니다.\n",
      "api cost full : infinite loop start\n",
      "try 10 second wait time\n",
      "429\n",
      "try 10 second wait time\n",
      "429\n",
      "try 10 second wait time\n",
      "429\n",
      "try 10 second wait time\n",
      "429\n",
      "try 10 second wait time\n",
      "429\n",
      "try 10 second wait time\n",
      "429\n",
      "try 10 second wait time\n",
      "429\n",
      "try 10 second wait time\n",
      "429\n",
      "try 10 second wait time\n",
      "429\n",
      "try 10 second wait time\n",
      "200\n",
      "total wait time :  102.91958785057068\n",
      "recovery api cost\n"
     ]
    },
    {
     "name": "stderr",
     "output_type": "stream",
     "text": [
      "\r",
      "  1%|▎                                | 101/10000 [1:32:23<207:53:34, 75.61s/it]"
     ]
    },
    {
     "name": "stdout",
     "output_type": "stream",
     "text": [
      "KR_5733397463의 데이터 수집이 완료되었습니다\n",
      "KR_5733399229의 데이터 수집을 시작합니다.\n",
      "api cost full : infinite loop start\n",
      "try 10 second wait time\n",
      "429\n",
      "try 10 second wait time\n",
      "429\n",
      "try 10 second wait time\n",
      "429\n",
      "try 10 second wait time\n",
      "429\n",
      "try 10 second wait time\n",
      "429\n",
      "try 10 second wait time\n",
      "429\n",
      "try 10 second wait time\n",
      "429\n",
      "try 10 second wait time\n",
      "429\n",
      "try 10 second wait time\n",
      "429\n",
      "try 10 second wait time\n",
      "429\n",
      "try 10 second wait time\n",
      "200\n",
      "total wait time :  112.93492007255554\n",
      "recovery api cost\n"
     ]
    },
    {
     "name": "stderr",
     "output_type": "stream",
     "text": [
      "\r",
      "  1%|▎                                | 102/10000 [1:34:30<249:55:14, 90.90s/it]"
     ]
    },
    {
     "name": "stdout",
     "output_type": "stream",
     "text": [
      "KR_5733399229의 데이터 수집이 완료되었습니다\n",
      "KR_5733401584의 데이터 수집을 시작합니다.\n"
     ]
    },
    {
     "name": "stderr",
     "output_type": "stream",
     "text": [
      "\r",
      "  1%|▎                                | 103/10000 [1:34:37<180:56:23, 65.82s/it]"
     ]
    },
    {
     "name": "stdout",
     "output_type": "stream",
     "text": [
      "KR_5733401827의 데이터 수집을 시작합니다.\n",
      "api cost full : infinite loop start\n",
      "try 10 second wait time\n",
      "429\n",
      "try 10 second wait time\n",
      "429\n",
      "try 10 second wait time\n",
      "429\n",
      "try 10 second wait time\n",
      "429\n",
      "try 10 second wait time\n",
      "429\n",
      "try 10 second wait time\n",
      "429\n",
      "try 10 second wait time\n",
      "429\n",
      "try 10 second wait time\n",
      "429\n",
      "try 10 second wait time\n",
      "429\n",
      "try 10 second wait time\n",
      "200\n",
      "total wait time :  102.85473895072937\n",
      "recovery api cost\n"
     ]
    },
    {
     "name": "stderr",
     "output_type": "stream",
     "text": [
      "\r",
      "  1%|▎                                | 104/10000 [1:36:33<222:23:30, 80.90s/it]"
     ]
    },
    {
     "name": "stdout",
     "output_type": "stream",
     "text": [
      "KR_5733401827의 데이터 수집이 완료되었습니다\n",
      "KR_5733402373의 데이터 수집을 시작합니다.\n",
      "api cost full : infinite loop start\n",
      "try 10 second wait time\n",
      "429\n",
      "try 10 second wait time\n",
      "429\n",
      "try 10 second wait time\n",
      "429\n",
      "try 10 second wait time\n",
      "429\n",
      "try 10 second wait time\n",
      "429\n",
      "try 10 second wait time\n",
      "429\n",
      "try 10 second wait time\n",
      "429\n",
      "try 10 second wait time\n",
      "429\n",
      "try 10 second wait time\n",
      "429\n",
      "try 10 second wait time\n",
      "429\n",
      "try 10 second wait time\n",
      "200\n",
      "total wait time :  113.12965512275696\n",
      "recovery api cost\n"
     ]
    },
    {
     "name": "stderr",
     "output_type": "stream",
     "text": [
      "\r",
      "  1%|▎                                | 105/10000 [1:38:40<260:08:03, 94.64s/it]"
     ]
    },
    {
     "name": "stdout",
     "output_type": "stream",
     "text": [
      "KR_5733402373의 데이터 수집이 완료되었습니다\n",
      "KR_5733402497의 데이터 수집을 시작합니다.\n"
     ]
    },
    {
     "name": "stderr",
     "output_type": "stream",
     "text": [
      "\r",
      "  1%|▎                                | 106/10000 [1:38:47<187:51:00, 68.35s/it]"
     ]
    },
    {
     "name": "stdout",
     "output_type": "stream",
     "text": [
      "KR_5733402881의 데이터 수집을 시작합니다.\n",
      "api cost full : infinite loop start\n",
      "try 10 second wait time\n",
      "429\n",
      "try 10 second wait time\n",
      "429\n",
      "try 10 second wait time\n",
      "429\n",
      "try 10 second wait time\n",
      "429\n",
      "try 10 second wait time\n",
      "429\n",
      "try 10 second wait time\n",
      "429\n",
      "try 10 second wait time\n",
      "429\n",
      "try 10 second wait time\n",
      "429\n",
      "try 10 second wait time\n",
      "429\n",
      "try 10 second wait time\n",
      "429\n",
      "try 10 second wait time\n",
      "200\n",
      "total wait time :  112.8001639842987\n",
      "recovery api cost\n"
     ]
    },
    {
     "name": "stderr",
     "output_type": "stream",
     "text": [
      "\r",
      "  1%|▎                                | 107/10000 [1:40:53<235:37:41, 85.74s/it]"
     ]
    },
    {
     "name": "stdout",
     "output_type": "stream",
     "text": [
      "KR_5733402881의 데이터 수집이 완료되었습니다\n",
      "KR_5733402893의 데이터 수집을 시작합니다.\n",
      "api cost full : infinite loop start\n",
      "try 10 second wait time\n",
      "429\n",
      "try 10 second wait time\n",
      "429\n",
      "try 10 second wait time\n",
      "429\n",
      "try 10 second wait time\n",
      "429\n",
      "try 10 second wait time\n",
      "429\n",
      "try 10 second wait time\n",
      "429\n",
      "try 10 second wait time\n",
      "429\n",
      "try 10 second wait time\n",
      "429\n",
      "try 10 second wait time\n",
      "429\n",
      "try 10 second wait time\n",
      "429\n",
      "try 10 second wait time\n",
      "200\n",
      "total wait time :  112.8935899734497\n",
      "recovery api cost\n"
     ]
    },
    {
     "name": "stderr",
     "output_type": "stream",
     "text": [
      "\r",
      "  1%|▎                                | 108/10000 [1:43:00<269:01:10, 97.90s/it]"
     ]
    },
    {
     "name": "stdout",
     "output_type": "stream",
     "text": [
      "KR_5733402893의 데이터 수집이 완료되었습니다\n",
      "KR_5733403966의 데이터 수집을 시작합니다.\n",
      "api cost full : infinite loop start\n",
      "try 10 second wait time\n",
      "429\n",
      "try 10 second wait time\n",
      "429\n",
      "try 10 second wait time\n",
      "429\n",
      "try 10 second wait time\n",
      "429\n",
      "try 10 second wait time\n",
      "429\n",
      "try 10 second wait time\n",
      "429\n",
      "try 10 second wait time\n",
      "429\n",
      "try 10 second wait time\n",
      "429\n",
      "try 10 second wait time\n",
      "429\n",
      "try 10 second wait time\n",
      "429\n",
      "try 10 second wait time\n",
      "200\n",
      "total wait time :  112.81075406074524\n",
      "recovery api cost\n"
     ]
    },
    {
     "name": "stderr",
     "output_type": "stream",
     "text": [
      "\r",
      "  1%|▎                               | 109/10000 [1:45:05<291:47:54, 106.21s/it]"
     ]
    },
    {
     "name": "stdout",
     "output_type": "stream",
     "text": [
      "KR_5733403966의 데이터 수집이 완료되었습니다\n",
      "KR_5733404538의 데이터 수집을 시작합니다.\n",
      "api cost full : infinite loop start\n",
      "try 10 second wait time\n",
      "429\n",
      "try 10 second wait time\n",
      "429\n",
      "try 10 second wait time\n",
      "429\n",
      "try 10 second wait time\n",
      "429\n",
      "try 10 second wait time\n",
      "429\n",
      "try 10 second wait time\n",
      "429\n",
      "try 10 second wait time\n",
      "429\n",
      "try 10 second wait time\n",
      "429\n",
      "try 10 second wait time\n",
      "429\n",
      "try 10 second wait time\n",
      "429\n",
      "try 10 second wait time\n",
      "200\n",
      "total wait time :  112.92644619941711\n",
      "recovery api cost\n"
     ]
    },
    {
     "name": "stderr",
     "output_type": "stream",
     "text": [
      "\r",
      "  1%|▎                               | 110/10000 [1:47:12<308:24:31, 112.26s/it]"
     ]
    },
    {
     "name": "stdout",
     "output_type": "stream",
     "text": [
      "KR_5733404538의 데이터 수집이 완료되었습니다\n",
      "KR_5733404743의 데이터 수집을 시작합니다.\n"
     ]
    },
    {
     "name": "stderr",
     "output_type": "stream",
     "text": [
      "\r",
      "  1%|▎                                | 111/10000 [1:47:25<226:32:27, 82.47s/it]"
     ]
    },
    {
     "name": "stdout",
     "output_type": "stream",
     "text": [
      "KR_5733404743의 데이터 수집이 완료되었습니다\n",
      "KR_5733404991의 데이터 수집을 시작합니다.\n",
      "api cost full : infinite loop start\n",
      "try 10 second wait time\n",
      "429\n",
      "try 10 second wait time\n",
      "429\n",
      "try 10 second wait time\n",
      "429\n",
      "try 10 second wait time\n",
      "429\n",
      "try 10 second wait time\n",
      "429\n",
      "try 10 second wait time\n",
      "429\n",
      "try 10 second wait time\n",
      "429\n",
      "try 10 second wait time\n",
      "429\n",
      "try 10 second wait time\n",
      "429\n",
      "try 10 second wait time\n",
      "429\n",
      "try 10 second wait time\n",
      "200\n",
      "total wait time :  112.98044800758362\n",
      "recovery api cost\n",
      "api cost full : infinite loop start\n",
      "try 10 second wait time\n",
      "429\n",
      "try 10 second wait time\n",
      "429\n",
      "try 10 second wait time\n",
      "429\n",
      "try 10 second wait time\n",
      "429\n",
      "try 10 second wait time\n",
      "429\n",
      "try 10 second wait time\n",
      "429\n",
      "try 10 second wait time\n",
      "429\n",
      "try 10 second wait time\n",
      "429\n",
      "try 10 second wait time\n",
      "429\n",
      "try 10 second wait time\n",
      "200\n",
      "total wait time :  102.50517082214355\n",
      "recovery api cost\n"
     ]
    },
    {
     "name": "stderr",
     "output_type": "stream",
     "text": [
      "\r",
      "  1%|▎                               | 112/10000 [1:51:13<346:58:33, 126.33s/it]"
     ]
    },
    {
     "name": "stdout",
     "output_type": "stream",
     "text": [
      "KR_5733404991의 데이터 수집이 완료되었습니다\n",
      "KR_5733405692의 데이터 수집을 시작합니다.\n"
     ]
    },
    {
     "name": "stderr",
     "output_type": "stream",
     "text": [
      "\r",
      "  1%|▎                                | 113/10000 [1:51:26<253:38:08, 92.35s/it]"
     ]
    },
    {
     "name": "stdout",
     "output_type": "stream",
     "text": [
      "KR_5733405692의 데이터 수집이 완료되었습니다\n",
      "KR_5733405940의 데이터 수집을 시작합니다.\n"
     ]
    },
    {
     "name": "stderr",
     "output_type": "stream",
     "text": [
      "\r",
      "  1%|▍                                | 114/10000 [1:51:28<179:01:27, 65.19s/it]"
     ]
    },
    {
     "name": "stdout",
     "output_type": "stream",
     "text": [
      "KR_5733408564의 데이터 수집을 시작합니다.\n",
      "api cost full : infinite loop start\n",
      "try 10 second wait time\n",
      "429\n",
      "try 10 second wait time\n",
      "429\n",
      "try 10 second wait time\n",
      "429\n",
      "try 10 second wait time\n",
      "429\n",
      "try 10 second wait time\n",
      "429\n",
      "try 10 second wait time\n",
      "429\n",
      "try 10 second wait time\n",
      "429\n",
      "try 10 second wait time\n",
      "429\n",
      "try 10 second wait time\n",
      "429\n",
      "try 10 second wait time\n",
      "200\n",
      "total wait time :  102.76872301101685\n",
      "recovery api cost\n"
     ]
    },
    {
     "name": "stderr",
     "output_type": "stream",
     "text": [
      "\r",
      "  1%|▍                                | 115/10000 [1:53:25<221:17:04, 80.59s/it]"
     ]
    },
    {
     "name": "stdout",
     "output_type": "stream",
     "text": [
      "KR_5733408564의 데이터 수집이 완료되었습니다\n",
      "KR_5733410396의 데이터 수집을 시작합니다.\n"
     ]
    },
    {
     "name": "stderr",
     "output_type": "stream",
     "text": [
      "\r",
      "  1%|▍                                | 116/10000 [1:53:33<161:37:02, 58.87s/it]"
     ]
    },
    {
     "name": "stdout",
     "output_type": "stream",
     "text": [
      "KR_5733412623의 데이터 수집을 시작합니다.\n",
      "api cost full : infinite loop start\n",
      "try 10 second wait time\n",
      "429\n",
      "try 10 second wait time\n",
      "429\n",
      "try 10 second wait time\n",
      "429\n",
      "try 10 second wait time\n",
      "429\n",
      "try 10 second wait time\n",
      "429\n",
      "try 10 second wait time\n",
      "429\n",
      "try 10 second wait time\n",
      "429\n",
      "try 10 second wait time\n",
      "429\n",
      "try 10 second wait time\n",
      "429\n",
      "try 10 second wait time\n",
      "200\n",
      "total wait time :  102.56781792640686\n",
      "recovery api cost\n"
     ]
    },
    {
     "name": "stderr",
     "output_type": "stream",
     "text": [
      "\r",
      "  1%|▍                                | 117/10000 [1:55:28<208:17:10, 75.87s/it]"
     ]
    },
    {
     "name": "stdout",
     "output_type": "stream",
     "text": [
      "KR_5733412623의 데이터 수집이 완료되었습니다\n",
      "KR_5733412795의 데이터 수집을 시작합니다.\n",
      "api cost full : infinite loop start\n",
      "try 10 second wait time\n",
      "429\n",
      "try 10 second wait time\n",
      "429\n",
      "try 10 second wait time\n",
      "429\n",
      "try 10 second wait time\n",
      "429\n",
      "try 10 second wait time\n",
      "429\n",
      "try 10 second wait time\n",
      "429\n",
      "try 10 second wait time\n",
      "429\n",
      "try 10 second wait time\n",
      "429\n",
      "try 10 second wait time\n",
      "429\n",
      "try 10 second wait time\n",
      "429\n",
      "try 10 second wait time\n",
      "200\n",
      "total wait time :  113.09523105621338\n",
      "recovery api cost\n"
     ]
    },
    {
     "name": "stderr",
     "output_type": "stream",
     "text": [
      "\r",
      "  1%|▍                                | 118/10000 [1:57:35<249:59:48, 91.07s/it]"
     ]
    },
    {
     "name": "stdout",
     "output_type": "stream",
     "text": [
      "KR_5733412795의 데이터 수집이 완료되었습니다\n",
      "KR_5733413061의 데이터 수집을 시작합니다.\n"
     ]
    },
    {
     "name": "stderr",
     "output_type": "stream",
     "text": [
      "\r",
      "  1%|▍                                | 119/10000 [1:57:43<181:53:05, 66.27s/it]"
     ]
    },
    {
     "name": "stdout",
     "output_type": "stream",
     "text": [
      "KR_5733418062의 데이터 수집을 시작합니다.\n",
      "api cost full : infinite loop start\n",
      "try 10 second wait time\n",
      "429\n",
      "try 10 second wait time\n",
      "429\n",
      "try 10 second wait time\n",
      "429\n",
      "try 10 second wait time\n",
      "429\n",
      "try 10 second wait time\n",
      "429\n",
      "try 10 second wait time\n",
      "429\n",
      "try 10 second wait time\n",
      "429\n",
      "try 10 second wait time\n",
      "429\n",
      "try 10 second wait time\n",
      "429\n",
      "try 10 second wait time\n",
      "200\n",
      "total wait time :  102.50326704978943\n",
      "recovery api cost\n"
     ]
    },
    {
     "name": "stderr",
     "output_type": "stream",
     "text": [
      "\r",
      "  1%|▍                                | 120/10000 [1:59:39<222:24:57, 81.04s/it]"
     ]
    },
    {
     "name": "stdout",
     "output_type": "stream",
     "text": [
      "KR_5733418062의 데이터 수집이 완료되었습니다\n",
      "KR_5733418091의 데이터 수집을 시작합니다.\n",
      "api cost full : infinite loop start\n",
      "try 10 second wait time\n",
      "429\n",
      "try 10 second wait time\n",
      "429\n",
      "try 10 second wait time\n",
      "429\n",
      "try 10 second wait time\n",
      "429\n",
      "try 10 second wait time\n",
      "429\n",
      "try 10 second wait time\n",
      "429\n",
      "try 10 second wait time\n",
      "429\n",
      "try 10 second wait time\n",
      "429\n",
      "try 10 second wait time\n",
      "429\n",
      "try 10 second wait time\n",
      "429\n",
      "try 10 second wait time\n",
      "200\n",
      "total wait time :  112.8930721282959\n",
      "recovery api cost\n"
     ]
    },
    {
     "name": "stderr",
     "output_type": "stream",
     "text": [
      "\r",
      "  1%|▍                                | 121/10000 [2:01:46<260:17:58, 94.86s/it]"
     ]
    },
    {
     "name": "stdout",
     "output_type": "stream",
     "text": [
      "KR_5733418091의 데이터 수집이 완료되었습니다\n",
      "KR_5733420867의 데이터 수집을 시작합니다.\n"
     ]
    },
    {
     "name": "stderr",
     "output_type": "stream",
     "text": [
      "\r",
      "  1%|▍                                | 122/10000 [2:01:53<188:06:24, 68.55s/it]"
     ]
    },
    {
     "name": "stdout",
     "output_type": "stream",
     "text": [
      "KR_5733421234의 데이터 수집을 시작합니다.\n",
      "api cost full : infinite loop start\n",
      "try 10 second wait time\n",
      "429\n",
      "try 10 second wait time\n",
      "429\n",
      "try 10 second wait time\n",
      "429\n",
      "try 10 second wait time\n",
      "429\n",
      "try 10 second wait time\n",
      "429\n",
      "try 10 second wait time\n",
      "429\n",
      "try 10 second wait time\n",
      "429\n",
      "try 10 second wait time\n",
      "429\n",
      "try 10 second wait time\n",
      "429\n",
      "try 10 second wait time\n",
      "200\n",
      "total wait time :  102.69277000427246\n",
      "recovery api cost\n"
     ]
    },
    {
     "name": "stderr",
     "output_type": "stream",
     "text": [
      "\r",
      "  1%|▍                                | 123/10000 [2:03:50<228:04:47, 83.13s/it]"
     ]
    },
    {
     "name": "stdout",
     "output_type": "stream",
     "text": [
      "KR_5733421234의 데이터 수집이 완료되었습니다\n",
      "KR_5733423317의 데이터 수집을 시작합니다.\n"
     ]
    },
    {
     "name": "stderr",
     "output_type": "stream",
     "text": [
      "\r",
      "  1%|▍                                | 124/10000 [2:03:54<162:50:31, 59.36s/it]"
     ]
    },
    {
     "name": "stdout",
     "output_type": "stream",
     "text": [
      "KR_5733425627의 데이터 수집을 시작합니다.\n",
      "api cost full : infinite loop start\n",
      "try 10 second wait time\n",
      "429\n",
      "try 10 second wait time\n",
      "429\n",
      "try 10 second wait time\n",
      "429\n",
      "try 10 second wait time\n",
      "429\n",
      "try 10 second wait time\n",
      "429\n",
      "try 10 second wait time\n",
      "429\n",
      "try 10 second wait time\n",
      "429\n",
      "try 10 second wait time\n",
      "429\n",
      "try 10 second wait time\n",
      "429\n",
      "try 10 second wait time\n",
      "200\n",
      "total wait time :  102.79935789108276\n",
      "recovery api cost\n"
     ]
    },
    {
     "name": "stderr",
     "output_type": "stream",
     "text": [
      "\r",
      "  1%|▍                                | 125/10000 [2:05:50<209:34:48, 76.40s/it]"
     ]
    },
    {
     "name": "stdout",
     "output_type": "stream",
     "text": [
      "KR_5733425627의 데이터 수집이 완료되었습니다\n",
      "KR_5733427581의 데이터 수집을 시작합니다.\n",
      "api cost full : infinite loop start\n",
      "try 10 second wait time\n",
      "429\n",
      "try 10 second wait time\n",
      "429\n",
      "try 10 second wait time\n",
      "429\n",
      "try 10 second wait time\n",
      "429\n",
      "try 10 second wait time\n",
      "429\n",
      "try 10 second wait time\n",
      "429\n",
      "try 10 second wait time\n",
      "429\n",
      "try 10 second wait time\n",
      "429\n",
      "try 10 second wait time\n",
      "429\n",
      "try 10 second wait time\n",
      "429\n",
      "try 10 second wait time\n",
      "200\n",
      "total wait time :  112.9046700000763\n",
      "recovery api cost\n"
     ]
    },
    {
     "name": "stderr",
     "output_type": "stream",
     "text": [
      "\r",
      "  1%|▍                                | 126/10000 [2:07:57<250:51:33, 91.46s/it]"
     ]
    },
    {
     "name": "stdout",
     "output_type": "stream",
     "text": [
      "KR_5733427581의 데이터 수집이 완료되었습니다\n",
      "KR_5733428010의 데이터 수집을 시작합니다.\n",
      "api cost full : infinite loop start\n",
      "try 10 second wait time\n",
      "429\n",
      "try 10 second wait time\n",
      "429\n",
      "try 10 second wait time\n",
      "429\n",
      "try 10 second wait time\n",
      "429\n",
      "try 10 second wait time\n",
      "429\n",
      "try 10 second wait time\n",
      "429\n",
      "try 10 second wait time\n",
      "429\n",
      "try 10 second wait time\n",
      "429\n",
      "try 10 second wait time\n",
      "429\n",
      "try 10 second wait time\n",
      "429\n",
      "try 10 second wait time\n",
      "200\n",
      "total wait time :  112.92744970321655\n",
      "recovery api cost\n"
     ]
    },
    {
     "name": "stderr",
     "output_type": "stream",
     "text": [
      "\r",
      "  1%|▍                               | 127/10000 [2:10:03<279:01:15, 101.74s/it]"
     ]
    },
    {
     "name": "stdout",
     "output_type": "stream",
     "text": [
      "KR_5733428010의 데이터 수집이 완료되었습니다\n",
      "KR_5733429428의 데이터 수집을 시작합니다.\n"
     ]
    },
    {
     "name": "stderr",
     "output_type": "stream",
     "text": [
      "\r",
      "  1%|▍                                | 128/10000 [2:10:13<203:28:29, 74.20s/it]"
     ]
    },
    {
     "name": "stdout",
     "output_type": "stream",
     "text": [
      "KR_5733430815의 데이터 수집을 시작합니다.\n",
      "api cost full : infinite loop start\n",
      "try 10 second wait time\n",
      "429\n",
      "try 10 second wait time\n",
      "429\n",
      "try 10 second wait time\n",
      "429\n",
      "try 10 second wait time\n",
      "429\n",
      "try 10 second wait time\n",
      "429\n",
      "try 10 second wait time\n",
      "429\n",
      "try 10 second wait time\n",
      "429\n",
      "try 10 second wait time\n",
      "429\n",
      "try 10 second wait time\n",
      "429\n",
      "try 10 second wait time\n",
      "429\n",
      "try 10 second wait time\n",
      "200\n",
      "total wait time :  112.9044349193573\n",
      "recovery api cost\n"
     ]
    },
    {
     "name": "stderr",
     "output_type": "stream",
     "text": [
      "\r",
      "  1%|▍                                | 129/10000 [2:12:19<245:56:27, 89.70s/it]"
     ]
    },
    {
     "name": "stdout",
     "output_type": "stream",
     "text": [
      "KR_5733430815의 데이터 수집이 완료되었습니다\n",
      "KR_5733431077의 데이터 수집을 시작합니다.\n"
     ]
    },
    {
     "name": "stderr",
     "output_type": "stream",
     "text": [
      "\r",
      "  1%|▍                                | 130/10000 [2:12:23<175:37:57, 64.06s/it]"
     ]
    },
    {
     "name": "stdout",
     "output_type": "stream",
     "text": [
      "KR_5733432443의 데이터 수집을 시작합니다.\n",
      "api cost full : infinite loop start\n",
      "try 10 second wait time\n",
      "429\n",
      "try 10 second wait time\n",
      "429\n",
      "try 10 second wait time\n",
      "429\n",
      "try 10 second wait time\n",
      "429\n",
      "try 10 second wait time\n",
      "429\n",
      "try 10 second wait time\n",
      "429\n",
      "try 10 second wait time\n",
      "429\n",
      "try 10 second wait time\n",
      "429\n",
      "try 10 second wait time\n",
      "429\n",
      "try 10 second wait time\n",
      "429\n",
      "try 10 second wait time\n",
      "200\n",
      "total wait time :  112.77200388908386\n",
      "recovery api cost\n"
     ]
    },
    {
     "name": "stderr",
     "output_type": "stream",
     "text": [
      "\r",
      "  1%|▍                                | 131/10000 [2:14:28<226:19:48, 82.56s/it]"
     ]
    },
    {
     "name": "stdout",
     "output_type": "stream",
     "text": [
      "KR_5733432443의 데이터 수집이 완료되었습니다\n",
      "KR_5733435069의 데이터 수집을 시작합니다.\n",
      "api cost full : infinite loop start\n",
      "try 10 second wait time\n",
      "429\n",
      "try 10 second wait time\n",
      "429\n",
      "try 10 second wait time\n",
      "429\n",
      "try 10 second wait time\n",
      "429\n",
      "try 10 second wait time\n",
      "429\n",
      "try 10 second wait time\n",
      "429\n",
      "try 10 second wait time\n",
      "429\n",
      "try 10 second wait time\n",
      "429\n",
      "try 10 second wait time\n",
      "429\n",
      "try 10 second wait time\n",
      "429\n",
      "try 10 second wait time\n",
      "200\n",
      "total wait time :  112.8288209438324\n",
      "recovery api cost\n"
     ]
    },
    {
     "name": "stderr",
     "output_type": "stream",
     "text": [
      "\r",
      "  1%|▍                                | 132/10000 [2:16:34<261:59:52, 95.58s/it]"
     ]
    },
    {
     "name": "stdout",
     "output_type": "stream",
     "text": [
      "KR_5733435069의 데이터 수집이 완료되었습니다\n",
      "KR_5733436271의 데이터 수집을 시작합니다.\n",
      "api cost full : infinite loop start\n",
      "try 10 second wait time\n",
      "429\n",
      "try 10 second wait time\n",
      "429\n",
      "try 10 second wait time\n",
      "429\n",
      "try 10 second wait time\n",
      "429\n",
      "try 10 second wait time\n",
      "429\n",
      "try 10 second wait time\n",
      "429\n",
      "try 10 second wait time\n",
      "429\n",
      "try 10 second wait time\n",
      "429\n",
      "try 10 second wait time\n",
      "429\n",
      "try 10 second wait time\n",
      "429\n",
      "try 10 second wait time\n",
      "200\n",
      "total wait time :  112.7876980304718\n",
      "recovery api cost\n"
     ]
    },
    {
     "name": "stderr",
     "output_type": "stream",
     "text": [
      "\r",
      "  1%|▍                               | 133/10000 [2:18:41<287:14:57, 104.80s/it]"
     ]
    },
    {
     "name": "stdout",
     "output_type": "stream",
     "text": [
      "KR_5733436271의 데이터 수집이 완료되었습니다\n",
      "KR_5733437187의 데이터 수집을 시작합니다.\n"
     ]
    },
    {
     "name": "stderr",
     "output_type": "stream",
     "text": [
      "\r",
      "  1%|▍                                | 134/10000 [2:18:50<208:50:11, 76.20s/it]"
     ]
    },
    {
     "name": "stdout",
     "output_type": "stream",
     "text": [
      "KR_5733437844의 데이터 수집을 시작합니다.\n",
      "api cost full : infinite loop start\n",
      "try 10 second wait time\n",
      "429\n",
      "try 10 second wait time\n",
      "429\n",
      "try 10 second wait time\n",
      "429\n",
      "try 10 second wait time\n",
      "429\n",
      "try 10 second wait time\n",
      "429\n",
      "try 10 second wait time\n",
      "429\n",
      "try 10 second wait time\n",
      "429\n",
      "try 10 second wait time\n",
      "429\n",
      "try 10 second wait time\n",
      "429\n",
      "try 10 second wait time\n",
      "429\n",
      "try 10 second wait time\n",
      "200\n",
      "total wait time :  112.79719710350037\n",
      "recovery api cost\n"
     ]
    },
    {
     "name": "stderr",
     "output_type": "stream",
     "text": [
      "\r",
      "  1%|▍                                | 135/10000 [2:20:56<249:52:53, 91.19s/it]"
     ]
    },
    {
     "name": "stdout",
     "output_type": "stream",
     "text": [
      "KR_5733437844의 데이터 수집이 완료되었습니다\n",
      "KR_5733439575의 데이터 수집을 시작합니다.\n",
      "api cost full : infinite loop start\n",
      "try 10 second wait time\n",
      "429\n",
      "try 10 second wait time\n",
      "429\n",
      "try 10 second wait time\n",
      "429\n",
      "try 10 second wait time\n",
      "429\n",
      "try 10 second wait time\n",
      "429\n",
      "try 10 second wait time\n",
      "429\n",
      "try 10 second wait time\n",
      "429\n",
      "try 10 second wait time\n",
      "429\n",
      "try 10 second wait time\n",
      "429\n",
      "try 10 second wait time\n",
      "429\n",
      "try 10 second wait time\n",
      "200\n",
      "total wait time :  113.08402371406555\n",
      "recovery api cost\n"
     ]
    },
    {
     "name": "stderr",
     "output_type": "stream",
     "text": [
      "\r",
      "  1%|▍                               | 136/10000 [2:23:03<278:38:31, 101.69s/it]"
     ]
    },
    {
     "name": "stdout",
     "output_type": "stream",
     "text": [
      "KR_5733439575의 데이터 수집이 완료되었습니다\n",
      "KR_5733439901의 데이터 수집을 시작합니다.\n",
      "api cost full : infinite loop start\n",
      "try 10 second wait time\n",
      "429\n",
      "try 10 second wait time\n",
      "429\n",
      "try 10 second wait time\n",
      "429\n",
      "try 10 second wait time\n",
      "429\n",
      "try 10 second wait time\n",
      "429\n",
      "try 10 second wait time\n",
      "429\n",
      "try 10 second wait time\n",
      "429\n",
      "try 10 second wait time\n",
      "429\n",
      "try 10 second wait time\n",
      "429\n",
      "try 10 second wait time\n",
      "429\n",
      "try 10 second wait time\n",
      "200\n",
      "total wait time :  112.74259686470032\n",
      "recovery api cost\n"
     ]
    },
    {
     "name": "stderr",
     "output_type": "stream",
     "text": [
      "\r",
      "  1%|▍                               | 137/10000 [2:25:08<298:17:57, 108.88s/it]"
     ]
    },
    {
     "name": "stdout",
     "output_type": "stream",
     "text": [
      "KR_5733439901의 데이터 수집이 완료되었습니다\n",
      "KR_5733441420의 데이터 수집을 시작합니다.\n",
      "api cost full : infinite loop start\n",
      "try 10 second wait time\n",
      "429\n",
      "try 10 second wait time\n",
      "429\n",
      "try 10 second wait time\n",
      "429\n",
      "try 10 second wait time\n",
      "429\n",
      "try 10 second wait time\n",
      "429\n",
      "try 10 second wait time\n",
      "429\n",
      "try 10 second wait time\n",
      "429\n",
      "try 10 second wait time\n",
      "429\n",
      "try 10 second wait time\n",
      "429\n",
      "try 10 second wait time\n",
      "429\n",
      "try 10 second wait time\n",
      "200\n",
      "total wait time :  112.93497109413147\n",
      "recovery api cost\n"
     ]
    },
    {
     "name": "stderr",
     "output_type": "stream",
     "text": [
      "\r",
      "  1%|▍                               | 138/10000 [2:27:14<312:23:43, 114.04s/it]"
     ]
    },
    {
     "name": "stdout",
     "output_type": "stream",
     "text": [
      "KR_5733441420의 데이터 수집이 완료되었습니다\n",
      "KR_5733443097의 데이터 수집을 시작합니다.\n"
     ]
    },
    {
     "name": "stderr",
     "output_type": "stream",
     "text": [
      "\r",
      "  1%|▍                                | 139/10000 [2:27:28<229:32:10, 83.80s/it]"
     ]
    },
    {
     "name": "stdout",
     "output_type": "stream",
     "text": [
      "KR_5733443097의 데이터 수집이 완료되었습니다\n",
      "KR_5733443621의 데이터 수집을 시작합니다.\n",
      "api cost full : infinite loop start\n",
      "try 10 second wait time\n",
      "429\n",
      "try 10 second wait time\n",
      "429\n",
      "try 10 second wait time\n",
      "429\n",
      "try 10 second wait time\n",
      "429\n",
      "try 10 second wait time\n",
      "429\n",
      "try 10 second wait time\n",
      "429\n",
      "try 10 second wait time\n",
      "429\n",
      "try 10 second wait time\n",
      "429\n",
      "try 10 second wait time\n",
      "429\n",
      "try 10 second wait time\n",
      "429\n",
      "try 10 second wait time\n",
      "200\n",
      "total wait time :  112.75205302238464\n",
      "recovery api cost\n"
     ]
    },
    {
     "name": "stderr",
     "output_type": "stream",
     "text": [
      "\r",
      "  1%|▍                                | 140/10000 [2:29:33<263:51:02, 96.33s/it]"
     ]
    },
    {
     "name": "stdout",
     "output_type": "stream",
     "text": [
      "KR_5733443621의 데이터 수집이 완료되었습니다\n",
      "KR_5733444680의 데이터 수집을 시작합니다.\n",
      "api cost full : infinite loop start\n",
      "try 10 second wait time\n",
      "429\n",
      "try 10 second wait time\n",
      "429\n",
      "try 10 second wait time\n",
      "429\n",
      "try 10 second wait time\n",
      "429\n",
      "try 10 second wait time\n",
      "429\n",
      "try 10 second wait time\n",
      "429\n",
      "try 10 second wait time\n",
      "429\n",
      "try 10 second wait time\n",
      "429\n",
      "try 10 second wait time\n",
      "429\n",
      "try 10 second wait time\n",
      "429\n",
      "try 10 second wait time\n",
      "200\n",
      "total wait time :  112.85963702201843\n",
      "recovery api cost\n"
     ]
    },
    {
     "name": "stderr",
     "output_type": "stream",
     "text": [
      "\r",
      "  1%|▍                               | 141/10000 [2:31:39<288:20:51, 105.29s/it]"
     ]
    },
    {
     "name": "stdout",
     "output_type": "stream",
     "text": [
      "KR_5733444680의 데이터 수집이 완료되었습니다\n",
      "KR_5733444971의 데이터 수집을 시작합니다.\n",
      "api cost full : infinite loop start\n",
      "try 10 second wait time\n",
      "429\n",
      "try 10 second wait time\n",
      "429\n",
      "try 10 second wait time\n",
      "429\n",
      "try 10 second wait time\n",
      "429\n",
      "try 10 second wait time\n",
      "429\n",
      "try 10 second wait time\n",
      "429\n",
      "try 10 second wait time\n",
      "429\n",
      "try 10 second wait time\n",
      "429\n",
      "try 10 second wait time\n",
      "429\n",
      "try 10 second wait time\n",
      "429\n",
      "try 10 second wait time\n",
      "200\n",
      "total wait time :  112.89865779876709\n",
      "recovery api cost\n"
     ]
    },
    {
     "name": "stderr",
     "output_type": "stream",
     "text": [
      "\r",
      "  1%|▍                               | 142/10000 [2:33:45<305:09:43, 111.44s/it]"
     ]
    },
    {
     "name": "stdout",
     "output_type": "stream",
     "text": [
      "KR_5733444971의 데이터 수집이 완료되었습니다\n",
      "KR_5733445003의 데이터 수집을 시작합니다.\n",
      "api cost full : infinite loop start\n",
      "try 10 second wait time\n",
      "429\n",
      "try 10 second wait time\n",
      "429\n",
      "try 10 second wait time\n",
      "429\n",
      "try 10 second wait time\n",
      "429\n",
      "try 10 second wait time\n",
      "429\n",
      "try 10 second wait time\n",
      "429\n",
      "try 10 second wait time\n",
      "429\n",
      "try 10 second wait time\n",
      "429\n",
      "try 10 second wait time\n",
      "429\n",
      "try 10 second wait time\n",
      "429\n",
      "try 10 second wait time\n",
      "200\n",
      "total wait time :  112.86282110214233\n",
      "recovery api cost\n"
     ]
    },
    {
     "name": "stderr",
     "output_type": "stream",
     "text": [
      "\r",
      "  1%|▍                               | 143/10000 [2:35:51<316:56:34, 115.75s/it]"
     ]
    },
    {
     "name": "stdout",
     "output_type": "stream",
     "text": [
      "KR_5733445003의 데이터 수집이 완료되었습니다\n",
      "KR_5733445358의 데이터 수집을 시작합니다.\n"
     ]
    },
    {
     "name": "stderr",
     "output_type": "stream",
     "text": [
      "\r",
      "  1%|▍                                | 144/10000 [2:36:04<232:47:12, 85.03s/it]"
     ]
    },
    {
     "name": "stdout",
     "output_type": "stream",
     "text": [
      "KR_5733445358의 데이터 수집이 완료되었습니다\n",
      "KR_5733445591의 데이터 수집을 시작합니다.\n",
      "api cost full : infinite loop start\n",
      "try 10 second wait time\n",
      "429\n",
      "try 10 second wait time\n",
      "429\n",
      "try 10 second wait time\n",
      "429\n",
      "try 10 second wait time\n",
      "429\n",
      "try 10 second wait time\n",
      "429\n",
      "try 10 second wait time\n",
      "429\n",
      "try 10 second wait time\n",
      "429\n",
      "try 10 second wait time\n",
      "429\n",
      "try 10 second wait time\n",
      "429\n",
      "try 10 second wait time\n",
      "429\n",
      "try 10 second wait time\n",
      "200\n",
      "total wait time :  112.81477308273315\n",
      "recovery api cost\n"
     ]
    },
    {
     "name": "stderr",
     "output_type": "stream",
     "text": [
      "\r",
      "  1%|▍                                | 145/10000 [2:38:09<265:27:00, 96.97s/it]"
     ]
    },
    {
     "name": "stdout",
     "output_type": "stream",
     "text": [
      "KR_5733446058의 데이터 수집을 시작합니다.\n",
      "api cost full : infinite loop start\n",
      "try 10 second wait time\n",
      "429\n",
      "try 10 second wait time\n",
      "429\n",
      "try 10 second wait time\n",
      "429\n",
      "try 10 second wait time\n",
      "429\n",
      "try 10 second wait time\n",
      "429\n",
      "try 10 second wait time\n",
      "429\n",
      "try 10 second wait time\n",
      "429\n",
      "try 10 second wait time\n",
      "429\n",
      "try 10 second wait time\n",
      "429\n",
      "try 10 second wait time\n",
      "200\n",
      "total wait time :  102.63533592224121\n",
      "recovery api cost\n"
     ]
    },
    {
     "name": "stderr",
     "output_type": "stream",
     "text": [
      "\r",
      "  1%|▍                               | 146/10000 [2:40:05<281:13:29, 102.74s/it]"
     ]
    },
    {
     "name": "stdout",
     "output_type": "stream",
     "text": [
      "KR_5733446058의 데이터 수집이 완료되었습니다\n",
      "KR_5733446263의 데이터 수집을 시작합니다.\n",
      "api cost full : infinite loop start\n",
      "try 10 second wait time\n",
      "429\n",
      "try 10 second wait time\n",
      "429\n",
      "try 10 second wait time\n",
      "429\n",
      "try 10 second wait time\n",
      "429\n",
      "try 10 second wait time\n",
      "429\n",
      "try 10 second wait time\n",
      "429\n",
      "try 10 second wait time\n",
      "429\n",
      "try 10 second wait time\n",
      "429\n",
      "try 10 second wait time\n",
      "429\n",
      "try 10 second wait time\n",
      "429\n",
      "try 10 second wait time\n",
      "200\n",
      "total wait time :  113.08917999267578\n",
      "recovery api cost\n"
     ]
    },
    {
     "name": "stderr",
     "output_type": "stream",
     "text": [
      "\r",
      "  1%|▍                               | 147/10000 [2:42:12<300:38:59, 109.85s/it]"
     ]
    },
    {
     "name": "stdout",
     "output_type": "stream",
     "text": [
      "KR_5733446263의 데이터 수집이 완료되었습니다\n",
      "KR_5733447315의 데이터 수집을 시작합니다.\n",
      "api cost full : infinite loop start\n",
      "try 10 second wait time\n",
      "429\n",
      "try 10 second wait time\n",
      "429\n",
      "try 10 second wait time\n",
      "429\n",
      "try 10 second wait time\n",
      "429\n",
      "try 10 second wait time\n",
      "429\n",
      "try 10 second wait time\n",
      "429\n",
      "try 10 second wait time\n",
      "429\n",
      "try 10 second wait time\n",
      "429\n",
      "try 10 second wait time\n",
      "429\n",
      "try 10 second wait time\n",
      "429\n",
      "try 10 second wait time\n",
      "200\n",
      "total wait time :  113.19736313819885\n",
      "recovery api cost\n"
     ]
    },
    {
     "name": "stderr",
     "output_type": "stream",
     "text": [
      "\r",
      "  1%|▍                               | 148/10000 [2:44:18<314:09:59, 114.80s/it]"
     ]
    },
    {
     "name": "stdout",
     "output_type": "stream",
     "text": [
      "KR_5733447315의 데이터 수집이 완료되었습니다\n",
      "KR_5733447511의 데이터 수집을 시작합니다.\n",
      "api cost full : infinite loop start\n",
      "try 10 second wait time\n",
      "429\n",
      "try 10 second wait time\n",
      "429\n",
      "try 10 second wait time\n",
      "429\n",
      "try 10 second wait time\n",
      "429\n",
      "try 10 second wait time\n",
      "429\n",
      "try 10 second wait time\n",
      "429\n",
      "try 10 second wait time\n",
      "429\n",
      "try 10 second wait time\n",
      "429\n",
      "try 10 second wait time\n",
      "429\n",
      "try 10 second wait time\n",
      "429\n",
      "try 10 second wait time\n",
      "200\n",
      "total wait time :  112.80861473083496\n",
      "recovery api cost\n"
     ]
    },
    {
     "name": "stderr",
     "output_type": "stream",
     "text": [
      "\r",
      "  1%|▍                               | 149/10000 [2:46:24<323:17:41, 118.15s/it]"
     ]
    },
    {
     "name": "stdout",
     "output_type": "stream",
     "text": [
      "KR_5733447511의 데이터 수집이 완료되었습니다\n",
      "KR_5733448200의 데이터 수집을 시작합니다.\n"
     ]
    },
    {
     "name": "stderr",
     "output_type": "stream",
     "text": [
      "\r",
      "  2%|▍                                | 150/10000 [2:46:38<237:33:01, 86.82s/it]"
     ]
    },
    {
     "name": "stdout",
     "output_type": "stream",
     "text": [
      "KR_5733448200의 데이터 수집이 완료되었습니다\n",
      "KR_5733451475의 데이터 수집을 시작합니다.\n",
      "api cost full : infinite loop start\n",
      "try 10 second wait time\n",
      "429\n",
      "try 10 second wait time\n",
      "429\n",
      "try 10 second wait time\n",
      "429\n",
      "try 10 second wait time\n",
      "429\n",
      "try 10 second wait time\n",
      "429\n",
      "try 10 second wait time\n",
      "429\n",
      "try 10 second wait time\n",
      "429\n",
      "try 10 second wait time\n",
      "429\n",
      "try 10 second wait time\n",
      "429\n",
      "try 10 second wait time\n",
      "200\n",
      "total wait time :  102.67998218536377\n",
      "recovery api cost\n"
     ]
    },
    {
     "name": "stderr",
     "output_type": "stream",
     "text": [
      "\r",
      "  2%|▍                                | 151/10000 [2:48:34<261:50:13, 95.71s/it]"
     ]
    },
    {
     "name": "stdout",
     "output_type": "stream",
     "text": [
      "KR_5733451475의 데이터 수집이 완료되었습니다\n",
      "KR_5733452338의 데이터 수집을 시작합니다.\n"
     ]
    },
    {
     "name": "stderr",
     "output_type": "stream",
     "text": [
      "\r",
      "  2%|▌                                | 152/10000 [2:48:41<189:00:47, 69.09s/it]"
     ]
    },
    {
     "name": "stdout",
     "output_type": "stream",
     "text": [
      "KR_5733454841의 데이터 수집을 시작합니다.\n",
      "api cost full : infinite loop start\n",
      "try 10 second wait time\n",
      "429\n",
      "try 10 second wait time\n",
      "429\n",
      "try 10 second wait time\n",
      "429\n",
      "try 10 second wait time\n",
      "429\n",
      "try 10 second wait time\n",
      "429\n",
      "try 10 second wait time\n",
      "429\n",
      "try 10 second wait time\n",
      "429\n",
      "try 10 second wait time\n",
      "429\n",
      "try 10 second wait time\n",
      "429\n",
      "try 10 second wait time\n",
      "200\n",
      "total wait time :  102.5303361415863\n",
      "recovery api cost\n"
     ]
    },
    {
     "name": "stderr",
     "output_type": "stream",
     "text": [
      "\r",
      "  2%|▌                                | 153/10000 [2:50:36<226:50:17, 82.93s/it]"
     ]
    },
    {
     "name": "stdout",
     "output_type": "stream",
     "text": [
      "KR_5733454841의 데이터 수집이 완료되었습니다\n",
      "KR_5733455413의 데이터 수집을 시작합니다.\n",
      "api cost full : infinite loop start\n",
      "try 10 second wait time\n",
      "429\n",
      "try 10 second wait time\n",
      "429\n",
      "try 10 second wait time\n",
      "429\n",
      "try 10 second wait time\n",
      "429\n",
      "try 10 second wait time\n",
      "429\n",
      "try 10 second wait time\n",
      "429\n",
      "try 10 second wait time\n",
      "429\n",
      "try 10 second wait time\n",
      "429\n",
      "try 10 second wait time\n",
      "429\n",
      "try 10 second wait time\n",
      "429\n",
      "try 10 second wait time\n",
      "200\n",
      "total wait time :  112.80419397354126\n",
      "recovery api cost\n"
     ]
    },
    {
     "name": "stderr",
     "output_type": "stream",
     "text": [
      "\r",
      "  2%|▌                                | 154/10000 [2:52:42<261:56:50, 95.78s/it]"
     ]
    },
    {
     "name": "stdout",
     "output_type": "stream",
     "text": [
      "KR_5733455413의 데이터 수집이 완료되었습니다\n",
      "KR_5733456348의 데이터 수집을 시작합니다.\n",
      "api cost full : infinite loop start\n",
      "try 10 second wait time\n",
      "429\n",
      "try 10 second wait time\n",
      "429\n",
      "try 10 second wait time\n",
      "429\n",
      "try 10 second wait time\n",
      "429\n",
      "try 10 second wait time\n",
      "429\n",
      "try 10 second wait time\n",
      "429\n",
      "try 10 second wait time\n",
      "429\n",
      "try 10 second wait time\n",
      "429\n",
      "try 10 second wait time\n",
      "429\n",
      "try 10 second wait time\n",
      "429\n",
      "try 10 second wait time\n",
      "200\n",
      "total wait time :  112.78509426116943\n",
      "recovery api cost\n"
     ]
    },
    {
     "name": "stderr",
     "output_type": "stream",
     "text": [
      "\r",
      "  2%|▍                               | 155/10000 [2:54:48<286:25:09, 104.73s/it]"
     ]
    },
    {
     "name": "stdout",
     "output_type": "stream",
     "text": [
      "KR_5733456348의 데이터 수집이 완료되었습니다\n",
      "KR_5733456924의 데이터 수집을 시작합니다.\n",
      "api cost full : infinite loop start\n",
      "try 10 second wait time\n",
      "429\n",
      "try 10 second wait time\n",
      "429\n",
      "try 10 second wait time\n",
      "429\n",
      "try 10 second wait time\n",
      "429\n",
      "try 10 second wait time\n",
      "429\n",
      "try 10 second wait time\n",
      "429\n",
      "try 10 second wait time\n",
      "429\n",
      "try 10 second wait time\n",
      "429\n",
      "try 10 second wait time\n",
      "429\n",
      "try 10 second wait time\n",
      "429\n",
      "try 10 second wait time\n",
      "200\n",
      "total wait time :  113.20421004295349\n",
      "recovery api cost\n"
     ]
    },
    {
     "name": "stderr",
     "output_type": "stream",
     "text": [
      "\r",
      "  2%|▍                               | 156/10000 [2:56:55<304:36:39, 111.40s/it]"
     ]
    },
    {
     "name": "stdout",
     "output_type": "stream",
     "text": [
      "KR_5733456924의 데이터 수집이 완료되었습니다\n",
      "KR_5733457590의 데이터 수집을 시작합니다.\n"
     ]
    },
    {
     "name": "stderr",
     "output_type": "stream",
     "text": [
      "\r",
      "  2%|▌                                | 157/10000 [2:57:08<224:07:51, 81.97s/it]"
     ]
    },
    {
     "name": "stdout",
     "output_type": "stream",
     "text": [
      "KR_5733457590의 데이터 수집이 완료되었습니다\n",
      "KR_5733457603의 데이터 수집을 시작합니다.\n",
      "api cost full : infinite loop start\n",
      "try 10 second wait time\n",
      "429\n",
      "try 10 second wait time\n",
      "429\n",
      "try 10 second wait time\n",
      "429\n",
      "try 10 second wait time\n",
      "429\n",
      "try 10 second wait time\n",
      "429\n",
      "try 10 second wait time\n",
      "429\n",
      "try 10 second wait time\n",
      "429\n",
      "try 10 second wait time\n",
      "429\n",
      "try 10 second wait time\n",
      "429\n",
      "try 10 second wait time\n",
      "200\n",
      "total wait time :  102.58098101615906\n",
      "recovery api cost\n"
     ]
    },
    {
     "name": "stderr",
     "output_type": "stream",
     "text": [
      "\r",
      "  2%|▌                                | 158/10000 [2:59:04<251:51:16, 92.12s/it]"
     ]
    },
    {
     "name": "stdout",
     "output_type": "stream",
     "text": [
      "KR_5733457603의 데이터 수집이 완료되었습니다\n",
      "KR_5733463565의 데이터 수집을 시작합니다.\n",
      "api cost full : infinite loop start\n",
      "try 10 second wait time\n",
      "429\n",
      "try 10 second wait time\n",
      "429\n",
      "try 10 second wait time\n",
      "429\n",
      "try 10 second wait time\n",
      "429\n",
      "try 10 second wait time\n",
      "429\n",
      "try 10 second wait time\n",
      "429\n",
      "try 10 second wait time\n",
      "429\n",
      "try 10 second wait time\n",
      "429\n",
      "try 10 second wait time\n",
      "429\n",
      "try 10 second wait time\n",
      "200\n",
      "total wait time :  102.64077806472778\n",
      "recovery api cost\n"
     ]
    },
    {
     "name": "stderr",
     "output_type": "stream",
     "text": [
      "\r",
      "  2%|▌                                | 159/10000 [3:01:00<271:21:21, 99.27s/it]"
     ]
    },
    {
     "name": "stdout",
     "output_type": "stream",
     "text": [
      "KR_5733463565의 데이터 수집이 완료되었습니다\n",
      "KR_5733468376의 데이터 수집을 시작합니다.\n",
      "api cost full : infinite loop start\n",
      "try 10 second wait time\n",
      "429\n",
      "try 10 second wait time\n",
      "429\n",
      "try 10 second wait time\n",
      "429\n",
      "try 10 second wait time\n",
      "429\n",
      "try 10 second wait time\n",
      "429\n",
      "try 10 second wait time\n",
      "429\n",
      "try 10 second wait time\n",
      "429\n",
      "try 10 second wait time\n",
      "429\n",
      "try 10 second wait time\n",
      "429\n",
      "try 10 second wait time\n",
      "429\n",
      "try 10 second wait time\n",
      "200\n",
      "total wait time :  112.88420915603638\n",
      "recovery api cost\n"
     ]
    },
    {
     "name": "stderr",
     "output_type": "stream",
     "text": [
      "\r",
      "  2%|▌                               | 160/10000 [3:03:06<293:17:40, 107.30s/it]"
     ]
    },
    {
     "name": "stdout",
     "output_type": "stream",
     "text": [
      "KR_5733468376의 데이터 수집이 완료되었습니다\n",
      "KR_5733468816의 데이터 수집을 시작합니다.\n"
     ]
    },
    {
     "name": "stderr",
     "output_type": "stream",
     "text": [
      "\r",
      "  2%|▌                                | 161/10000 [3:03:19<215:47:31, 78.96s/it]"
     ]
    },
    {
     "name": "stdout",
     "output_type": "stream",
     "text": [
      "KR_5733468816의 데이터 수집이 완료되었습니다\n",
      "KR_5733470310의 데이터 수집을 시작합니다.\n",
      "api cost full : infinite loop start\n",
      "try 10 second wait time\n",
      "429\n",
      "try 10 second wait time\n",
      "429\n",
      "try 10 second wait time\n",
      "429\n",
      "try 10 second wait time\n",
      "429\n",
      "try 10 second wait time\n",
      "429\n",
      "try 10 second wait time\n",
      "429\n",
      "try 10 second wait time\n",
      "429\n",
      "try 10 second wait time\n",
      "429\n",
      "try 10 second wait time\n",
      "429\n",
      "try 10 second wait time\n",
      "429\n",
      "try 10 second wait time\n",
      "200\n",
      "total wait time :  112.8464708328247\n",
      "recovery api cost\n"
     ]
    },
    {
     "name": "stderr",
     "output_type": "stream",
     "text": [
      "\r",
      "  2%|▌                                | 162/10000 [3:05:22<252:22:23, 92.35s/it]"
     ]
    },
    {
     "name": "stdout",
     "output_type": "stream",
     "text": [
      "KR_5733470310의 데이터 수집이 완료되었습니다\n",
      "KR_5733474659의 데이터 수집을 시작합니다.\n",
      "api cost full : infinite loop start\n",
      "try 10 second wait time\n",
      "429\n",
      "try 10 second wait time\n",
      "429\n",
      "try 10 second wait time\n",
      "429\n",
      "try 10 second wait time\n",
      "429\n",
      "try 10 second wait time\n",
      "429\n",
      "try 10 second wait time\n",
      "429\n",
      "try 10 second wait time\n",
      "429\n",
      "try 10 second wait time\n",
      "429\n",
      "try 10 second wait time\n",
      "429\n",
      "try 10 second wait time\n",
      "429\n",
      "try 10 second wait time\n",
      "200\n",
      "total wait time :  112.76660299301147\n",
      "recovery api cost\n"
     ]
    },
    {
     "name": "stderr",
     "output_type": "stream",
     "text": [
      "\r",
      "  2%|▌                               | 163/10000 [3:07:28<279:26:53, 102.27s/it]"
     ]
    },
    {
     "name": "stdout",
     "output_type": "stream",
     "text": [
      "KR_5733474659의 데이터 수집이 완료되었습니다\n",
      "KR_5733476375의 데이터 수집을 시작합니다.\n"
     ]
    },
    {
     "name": "stderr",
     "output_type": "stream",
     "text": [
      "\r",
      "  2%|▌                                | 164/10000 [3:07:36<202:16:04, 74.03s/it]"
     ]
    },
    {
     "name": "stdout",
     "output_type": "stream",
     "text": [
      "KR_5733478991의 데이터 수집을 시작합니다.\n",
      "api cost full : infinite loop start\n",
      "try 10 second wait time\n",
      "429\n",
      "try 10 second wait time\n",
      "429\n",
      "try 10 second wait time\n",
      "429\n",
      "try 10 second wait time\n",
      "429\n",
      "try 10 second wait time\n",
      "429\n",
      "try 10 second wait time\n",
      "429\n",
      "try 10 second wait time\n",
      "429\n",
      "try 10 second wait time\n",
      "429\n",
      "try 10 second wait time\n",
      "429\n",
      "try 10 second wait time\n",
      "429\n",
      "try 10 second wait time\n",
      "200\n",
      "total wait time :  112.81730198860168\n",
      "recovery api cost\n"
     ]
    },
    {
     "name": "stderr",
     "output_type": "stream",
     "text": [
      "\r",
      "  2%|▌                                | 165/10000 [3:09:42<244:37:51, 89.54s/it]"
     ]
    },
    {
     "name": "stdout",
     "output_type": "stream",
     "text": [
      "KR_5733478991의 데이터 수집이 완료되었습니다\n",
      "KR_5733479499의 데이터 수집을 시작합니다.\n"
     ]
    },
    {
     "name": "stderr",
     "output_type": "stream",
     "text": [
      "\r",
      "  2%|▌                                | 166/10000 [3:09:45<174:14:40, 63.79s/it]"
     ]
    },
    {
     "name": "stdout",
     "output_type": "stream",
     "text": [
      "KR_5733481380의 데이터 수집을 시작합니다.\n",
      "api cost full : infinite loop start\n",
      "try 10 second wait time\n",
      "429\n",
      "try 10 second wait time\n",
      "429\n",
      "try 10 second wait time\n",
      "429\n",
      "try 10 second wait time\n",
      "429\n",
      "try 10 second wait time\n",
      "429\n",
      "try 10 second wait time\n",
      "429\n",
      "try 10 second wait time\n",
      "429\n",
      "try 10 second wait time\n",
      "429\n",
      "try 10 second wait time\n",
      "429\n",
      "try 10 second wait time\n",
      "429\n",
      "try 10 second wait time\n",
      "200\n",
      "total wait time :  112.91224908828735\n",
      "recovery api cost\n"
     ]
    },
    {
     "name": "stderr",
     "output_type": "stream",
     "text": [
      "\r",
      "  2%|▌                                | 167/10000 [3:11:51<224:49:01, 82.31s/it]"
     ]
    },
    {
     "name": "stdout",
     "output_type": "stream",
     "text": [
      "KR_5733481380의 데이터 수집이 완료되었습니다\n",
      "KR_5733482989의 데이터 수집을 시작합니다.\n",
      "api cost full : infinite loop start\n",
      "try 10 second wait time\n",
      "429\n",
      "try 10 second wait time\n",
      "429\n",
      "try 10 second wait time\n",
      "429\n",
      "try 10 second wait time\n",
      "429\n",
      "try 10 second wait time\n",
      "429\n",
      "try 10 second wait time\n",
      "429\n",
      "try 10 second wait time\n",
      "429\n",
      "try 10 second wait time\n",
      "429\n",
      "try 10 second wait time\n",
      "429\n",
      "try 10 second wait time\n",
      "429\n",
      "try 10 second wait time\n",
      "200\n",
      "total wait time :  112.96284699440002\n",
      "recovery api cost\n"
     ]
    },
    {
     "name": "stderr",
     "output_type": "stream",
     "text": [
      "\r",
      "  2%|▌                                | 168/10000 [3:13:57<261:01:03, 95.57s/it]"
     ]
    },
    {
     "name": "stdout",
     "output_type": "stream",
     "text": [
      "KR_5733482989의 데이터 수집이 완료되었습니다\n",
      "KR_5733483094의 데이터 수집을 시작합니다.\n",
      "api cost full : infinite loop start\n",
      "try 10 second wait time\n",
      "429\n",
      "try 10 second wait time\n",
      "429\n",
      "try 10 second wait time\n",
      "429\n",
      "try 10 second wait time\n",
      "429\n",
      "try 10 second wait time\n",
      "429\n",
      "try 10 second wait time\n",
      "429\n",
      "try 10 second wait time\n",
      "429\n",
      "try 10 second wait time\n",
      "429\n",
      "try 10 second wait time\n",
      "429\n",
      "try 10 second wait time\n",
      "429\n",
      "try 10 second wait time\n",
      "200\n",
      "total wait time :  112.93931889533997\n",
      "recovery api cost\n"
     ]
    },
    {
     "name": "stderr",
     "output_type": "stream",
     "text": [
      "\r",
      "  2%|▌                               | 169/10000 [3:16:04<286:46:34, 105.01s/it]"
     ]
    },
    {
     "name": "stdout",
     "output_type": "stream",
     "text": [
      "KR_5733483094의 데이터 수집이 완료되었습니다\n",
      "KR_5733483211의 데이터 수집을 시작합니다.\n"
     ]
    },
    {
     "name": "stderr",
     "output_type": "stream",
     "text": [
      "\r",
      "  2%|▌                                | 170/10000 [3:16:14<208:47:39, 76.47s/it]"
     ]
    },
    {
     "name": "stdout",
     "output_type": "stream",
     "text": [
      "KR_5733483962의 데이터 수집을 시작합니다.\n",
      "api cost full : infinite loop start\n",
      "try 10 second wait time\n",
      "429\n",
      "try 10 second wait time\n",
      "429\n",
      "try 10 second wait time\n",
      "429\n",
      "try 10 second wait time\n",
      "429\n",
      "try 10 second wait time\n",
      "429\n",
      "try 10 second wait time\n",
      "429\n",
      "try 10 second wait time\n",
      "429\n",
      "try 10 second wait time\n",
      "429\n",
      "try 10 second wait time\n",
      "429\n",
      "try 10 second wait time\n",
      "429\n",
      "try 10 second wait time\n",
      "200\n",
      "total wait time :  112.7897720336914\n",
      "recovery api cost\n"
     ]
    },
    {
     "name": "stderr",
     "output_type": "stream",
     "text": [
      "\r",
      "  2%|▌                                | 171/10000 [3:18:21<249:53:15, 91.52s/it]"
     ]
    },
    {
     "name": "stdout",
     "output_type": "stream",
     "text": [
      "KR_5733483962의 데이터 수집이 완료되었습니다\n",
      "KR_5733486220의 데이터 수집을 시작합니다.\n"
     ]
    },
    {
     "name": "stderr",
     "output_type": "stream",
     "text": [
      "\r",
      "  2%|▌                                | 172/10000 [3:18:24<177:47:37, 65.13s/it]"
     ]
    },
    {
     "name": "stdout",
     "output_type": "stream",
     "text": [
      "KR_5733487915의 데이터 수집을 시작합니다.\n",
      "api cost full : infinite loop start\n",
      "try 10 second wait time\n",
      "429\n",
      "try 10 second wait time\n",
      "429\n",
      "try 10 second wait time\n",
      "429\n",
      "try 10 second wait time\n",
      "429\n",
      "try 10 second wait time\n",
      "429\n",
      "try 10 second wait time\n",
      "429\n",
      "try 10 second wait time\n",
      "429\n",
      "try 10 second wait time\n",
      "429\n",
      "try 10 second wait time\n",
      "429\n",
      "try 10 second wait time\n",
      "200\n",
      "total wait time :  102.44550204277039\n",
      "recovery api cost\n"
     ]
    },
    {
     "name": "stderr",
     "output_type": "stream",
     "text": [
      "\r",
      "  2%|▌                                | 173/10000 [3:20:21<219:33:17, 80.43s/it]"
     ]
    },
    {
     "name": "stdout",
     "output_type": "stream",
     "text": [
      "KR_5733487915의 데이터 수집이 완료되었습니다\n",
      "KR_5733489056의 데이터 수집을 시작합니다.\n"
     ]
    },
    {
     "name": "stderr",
     "output_type": "stream",
     "text": [
      "\r",
      "  2%|▌                                | 174/10000 [3:20:28<159:59:54, 58.62s/it]"
     ]
    },
    {
     "name": "stdout",
     "output_type": "stream",
     "text": [
      "KR_5733490343의 데이터 수집을 시작합니다.\n",
      "api cost full : infinite loop start\n",
      "try 10 second wait time\n",
      "429\n",
      "try 10 second wait time\n",
      "429\n",
      "try 10 second wait time\n",
      "429\n",
      "try 10 second wait time\n",
      "429\n",
      "try 10 second wait time\n",
      "429\n",
      "try 10 second wait time\n",
      "429\n",
      "try 10 second wait time\n",
      "429\n",
      "try 10 second wait time\n",
      "429\n",
      "try 10 second wait time\n",
      "429\n",
      "try 10 second wait time\n",
      "200\n",
      "total wait time :  102.50270986557007\n",
      "recovery api cost\n"
     ]
    },
    {
     "name": "stderr",
     "output_type": "stream",
     "text": [
      "\r",
      "  2%|▌                                | 175/10000 [3:22:24<206:46:31, 75.77s/it]"
     ]
    },
    {
     "name": "stdout",
     "output_type": "stream",
     "text": [
      "KR_5733490343의 데이터 수집이 완료되었습니다\n",
      "KR_5733490807의 데이터 수집을 시작합니다.\n"
     ]
    },
    {
     "name": "stderr",
     "output_type": "stream",
     "text": [
      "\r",
      "  2%|▌                                | 176/10000 [3:22:28<148:04:10, 54.26s/it]"
     ]
    },
    {
     "name": "stdout",
     "output_type": "stream",
     "text": [
      "KR_5733491253의 데이터 수집을 시작합니다.\n",
      "api cost full : infinite loop start\n",
      "try 10 second wait time\n",
      "429\n",
      "try 10 second wait time\n",
      "429\n",
      "try 10 second wait time\n",
      "429\n",
      "try 10 second wait time\n",
      "429\n",
      "try 10 second wait time\n",
      "429\n",
      "try 10 second wait time\n",
      "429\n",
      "try 10 second wait time\n",
      "429\n",
      "try 10 second wait time\n",
      "429\n",
      "try 10 second wait time\n",
      "429\n",
      "try 10 second wait time\n",
      "200\n",
      "total wait time :  102.63108682632446\n",
      "recovery api cost\n"
     ]
    },
    {
     "name": "stderr",
     "output_type": "stream",
     "text": [
      "\r",
      "  2%|▌                                | 177/10000 [3:24:24<198:21:11, 72.69s/it]"
     ]
    },
    {
     "name": "stdout",
     "output_type": "stream",
     "text": [
      "KR_5733491253의 데이터 수집이 완료되었습니다\n",
      "KR_5733491846의 데이터 수집을 시작합니다.\n"
     ]
    },
    {
     "name": "stderr",
     "output_type": "stream",
     "text": [
      "\r",
      "  2%|▌                                | 178/10000 [3:24:32<145:31:13, 53.34s/it]"
     ]
    },
    {
     "name": "stdout",
     "output_type": "stream",
     "text": [
      "KR_5733492453의 데이터 수집을 시작합니다.\n",
      "api cost full : infinite loop start\n",
      "try 10 second wait time\n",
      "429\n",
      "try 10 second wait time\n",
      "429\n",
      "try 10 second wait time\n",
      "429\n",
      "try 10 second wait time\n",
      "429\n",
      "try 10 second wait time\n",
      "429\n",
      "try 10 second wait time\n",
      "429\n",
      "try 10 second wait time\n",
      "429\n",
      "try 10 second wait time\n",
      "429\n",
      "try 10 second wait time\n",
      "429\n",
      "try 10 second wait time\n",
      "200\n",
      "total wait time :  102.5315752029419\n",
      "recovery api cost\n"
     ]
    },
    {
     "name": "stderr",
     "output_type": "stream",
     "text": [
      "\r",
      "  2%|▌                                | 179/10000 [3:26:27<196:19:27, 71.96s/it]"
     ]
    },
    {
     "name": "stdout",
     "output_type": "stream",
     "text": [
      "KR_5733492453의 데이터 수집이 완료되었습니다\n",
      "KR_5733493213의 데이터 수집을 시작합니다.\n",
      "api cost full : infinite loop start\n",
      "try 10 second wait time\n",
      "429\n",
      "try 10 second wait time\n",
      "429\n",
      "try 10 second wait time\n",
      "429\n",
      "try 10 second wait time\n",
      "429\n",
      "try 10 second wait time\n",
      "429\n",
      "try 10 second wait time\n",
      "429\n",
      "try 10 second wait time\n",
      "429\n",
      "try 10 second wait time\n",
      "429\n",
      "try 10 second wait time\n",
      "429\n",
      "try 10 second wait time\n",
      "429\n",
      "try 10 second wait time\n",
      "200\n",
      "total wait time :  112.91940808296204\n",
      "recovery api cost\n"
     ]
    },
    {
     "name": "stderr",
     "output_type": "stream",
     "text": [
      "\r",
      "  2%|▌                                | 180/10000 [3:28:33<240:28:28, 88.16s/it]"
     ]
    },
    {
     "name": "stdout",
     "output_type": "stream",
     "text": [
      "KR_5733493213의 데이터 수집이 완료되었습니다\n",
      "KR_5733494183의 데이터 수집을 시작합니다.\n"
     ]
    },
    {
     "name": "stderr",
     "output_type": "stream",
     "text": [
      "\r",
      "  2%|▌                                | 181/10000 [3:28:40<173:51:44, 63.74s/it]"
     ]
    },
    {
     "name": "stdout",
     "output_type": "stream",
     "text": [
      "KR_5733496528의 데이터 수집을 시작합니다.\n",
      "api cost full : infinite loop start\n",
      "try 10 second wait time\n",
      "429\n",
      "try 10 second wait time\n",
      "429\n",
      "try 10 second wait time\n",
      "429\n",
      "try 10 second wait time\n",
      "429\n",
      "try 10 second wait time\n",
      "429\n",
      "try 10 second wait time\n",
      "429\n",
      "try 10 second wait time\n",
      "429\n",
      "try 10 second wait time\n",
      "429\n",
      "try 10 second wait time\n",
      "429\n",
      "try 10 second wait time\n",
      "429\n",
      "try 10 second wait time\n",
      "200\n",
      "total wait time :  112.87304925918579\n",
      "recovery api cost\n"
     ]
    },
    {
     "name": "stderr",
     "output_type": "stream",
     "text": [
      "\r",
      "  2%|▌                                | 182/10000 [3:30:47<225:07:38, 82.55s/it]"
     ]
    },
    {
     "name": "stdout",
     "output_type": "stream",
     "text": [
      "KR_5733496528의 데이터 수집이 완료되었습니다\n",
      "KR_5733498284의 데이터 수집을 시작합니다.\n",
      "api cost full : infinite loop start\n",
      "try 10 second wait time\n",
      "429\n",
      "try 10 second wait time\n",
      "429\n",
      "try 10 second wait time\n",
      "429\n",
      "try 10 second wait time\n",
      "429\n",
      "try 10 second wait time\n",
      "429\n",
      "try 10 second wait time\n",
      "429\n",
      "try 10 second wait time\n",
      "429\n",
      "try 10 second wait time\n",
      "429\n",
      "try 10 second wait time\n",
      "429\n",
      "try 10 second wait time\n",
      "200\n",
      "total wait time :  104.71997499465942\n",
      "recovery api cost\n"
     ]
    },
    {
     "name": "stderr",
     "output_type": "stream",
     "text": [
      "\r",
      "  2%|▌                                | 183/10000 [3:32:45<254:30:46, 93.33s/it]"
     ]
    },
    {
     "name": "stdout",
     "output_type": "stream",
     "text": [
      "KR_5733498284의 데이터 수집이 완료되었습니다\n",
      "KR_5733502119의 데이터 수집을 시작합니다.\n"
     ]
    },
    {
     "name": "stderr",
     "output_type": "stream",
     "text": [
      "\r",
      "  2%|▌                                | 184/10000 [3:32:55<186:23:51, 68.36s/it]"
     ]
    },
    {
     "name": "stdout",
     "output_type": "stream",
     "text": [
      "KR_5733502558의 데이터 수집을 시작합니다.\n",
      "api cost full : infinite loop start\n",
      "try 10 second wait time\n",
      "429\n",
      "try 10 second wait time\n",
      "429\n",
      "try 10 second wait time\n",
      "429\n",
      "try 10 second wait time\n",
      "429\n",
      "try 10 second wait time\n",
      "429\n",
      "try 10 second wait time\n",
      "429\n",
      "try 10 second wait time\n",
      "429\n",
      "try 10 second wait time\n",
      "429\n",
      "try 10 second wait time\n",
      "429\n",
      "try 10 second wait time\n",
      "200\n",
      "total wait time :  102.62176299095154\n",
      "recovery api cost\n"
     ]
    },
    {
     "name": "stderr",
     "output_type": "stream",
     "text": [
      "\r",
      "  2%|▌                                | 185/10000 [3:34:51<225:16:30, 82.63s/it]"
     ]
    },
    {
     "name": "stdout",
     "output_type": "stream",
     "text": [
      "KR_5733502558의 데이터 수집이 완료되었습니다\n",
      "KR_5733502767의 데이터 수집을 시작합니다.\n",
      "api cost full : infinite loop start\n",
      "try 10 second wait time\n",
      "429\n",
      "try 10 second wait time\n",
      "429\n",
      "try 10 second wait time\n",
      "429\n",
      "try 10 second wait time\n",
      "429\n",
      "try 10 second wait time\n",
      "429\n",
      "try 10 second wait time\n",
      "429\n",
      "try 10 second wait time\n",
      "429\n",
      "try 10 second wait time\n",
      "429\n",
      "try 10 second wait time\n",
      "429\n",
      "try 10 second wait time\n",
      "429\n",
      "try 10 second wait time\n",
      "200\n",
      "total wait time :  114.97781586647034\n",
      "recovery api cost\n"
     ]
    },
    {
     "name": "stderr",
     "output_type": "stream",
     "text": [
      "\r",
      "  2%|▌                                | 186/10000 [3:36:59<262:21:15, 96.24s/it]"
     ]
    },
    {
     "name": "stdout",
     "output_type": "stream",
     "text": [
      "KR_5733502767의 데이터 수집이 완료되었습니다\n",
      "KR_5733502788의 데이터 수집을 시작합니다.\n",
      "api cost full : infinite loop start\n",
      "try 10 second wait time\n",
      "429\n",
      "try 10 second wait time\n",
      "429\n",
      "try 10 second wait time\n",
      "429\n",
      "try 10 second wait time\n",
      "429\n",
      "try 10 second wait time\n",
      "429\n",
      "try 10 second wait time\n",
      "429\n",
      "try 10 second wait time\n",
      "429\n",
      "try 10 second wait time\n",
      "429\n",
      "try 10 second wait time\n",
      "429\n",
      "try 10 second wait time\n",
      "429\n",
      "try 10 second wait time\n",
      "200\n",
      "total wait time :  112.78054094314575\n",
      "recovery api cost\n"
     ]
    },
    {
     "name": "stderr",
     "output_type": "stream",
     "text": [
      "\r",
      "  2%|▌                               | 187/10000 [3:39:05<286:20:31, 105.05s/it]"
     ]
    },
    {
     "name": "stdout",
     "output_type": "stream",
     "text": [
      "KR_5733502788의 데이터 수집이 완료되었습니다\n",
      "KR_5733504072의 데이터 수집을 시작합니다.\n",
      "api cost full : infinite loop start\n",
      "try 10 second wait time\n",
      "429\n",
      "try 10 second wait time\n",
      "429\n",
      "try 10 second wait time\n",
      "429\n",
      "try 10 second wait time\n",
      "429\n",
      "try 10 second wait time\n",
      "429\n",
      "try 10 second wait time\n",
      "429\n",
      "try 10 second wait time\n",
      "429\n",
      "try 10 second wait time\n",
      "429\n",
      "try 10 second wait time\n",
      "429\n",
      "try 10 second wait time\n",
      "429\n",
      "try 10 second wait time\n",
      "200\n",
      "total wait time :  112.71402096748352\n",
      "recovery api cost\n"
     ]
    },
    {
     "name": "stderr",
     "output_type": "stream",
     "text": [
      "\r",
      "  2%|▌                               | 188/10000 [3:41:10<303:14:08, 111.26s/it]"
     ]
    },
    {
     "name": "stdout",
     "output_type": "stream",
     "text": [
      "KR_5733504072의 데이터 수집이 완료되었습니다\n",
      "KR_5733506506의 데이터 수집을 시작합니다.\n"
     ]
    },
    {
     "name": "stderr",
     "output_type": "stream",
     "text": [
      "\r",
      "  2%|▌                                | 189/10000 [3:41:24<222:58:30, 81.82s/it]"
     ]
    },
    {
     "name": "stdout",
     "output_type": "stream",
     "text": [
      "KR_5733506506의 데이터 수집이 완료되었습니다\n",
      "KR_5733506633의 데이터 수집을 시작합니다.\n",
      "api cost full : infinite loop start\n",
      "try 10 second wait time\n",
      "429\n",
      "try 10 second wait time\n",
      "429\n",
      "try 10 second wait time\n",
      "429\n",
      "try 10 second wait time\n",
      "429\n",
      "try 10 second wait time\n",
      "429\n",
      "try 10 second wait time\n",
      "429\n",
      "try 10 second wait time\n",
      "429\n",
      "try 10 second wait time\n",
      "429\n",
      "try 10 second wait time\n",
      "429\n",
      "try 10 second wait time\n",
      "429\n",
      "try 10 second wait time\n",
      "200\n",
      "total wait time :  112.8861289024353\n",
      "recovery api cost\n"
     ]
    },
    {
     "name": "stderr",
     "output_type": "stream",
     "text": [
      "\r",
      "  2%|▋                                | 190/10000 [3:43:29<258:55:27, 95.02s/it]"
     ]
    },
    {
     "name": "stdout",
     "output_type": "stream",
     "text": [
      "KR_5733506633의 데이터 수집이 완료되었습니다\n",
      "KR_5733507259의 데이터 수집을 시작합니다.\n",
      "api cost full : infinite loop start\n",
      "try 10 second wait time\n",
      "429\n",
      "try 10 second wait time\n",
      "429\n",
      "try 10 second wait time\n",
      "429\n",
      "try 10 second wait time\n",
      "429\n",
      "try 10 second wait time\n",
      "429\n",
      "try 10 second wait time\n",
      "429\n",
      "try 10 second wait time\n",
      "429\n",
      "try 10 second wait time\n",
      "429\n",
      "try 10 second wait time\n",
      "429\n",
      "try 10 second wait time\n",
      "429\n",
      "try 10 second wait time\n",
      "200\n",
      "total wait time :  112.9848530292511\n",
      "recovery api cost\n"
     ]
    },
    {
     "name": "stderr",
     "output_type": "stream",
     "text": [
      "\r",
      "  2%|▌                               | 191/10000 [3:45:35<284:11:11, 104.30s/it]"
     ]
    },
    {
     "name": "stdout",
     "output_type": "stream",
     "text": [
      "KR_5733507259의 데이터 수집이 완료되었습니다\n",
      "KR_5733507614의 데이터 수집을 시작합니다.\n"
     ]
    },
    {
     "name": "stderr",
     "output_type": "stream",
     "text": [
      "\r",
      "  2%|▋                                | 192/10000 [3:45:42<204:23:52, 75.02s/it]"
     ]
    },
    {
     "name": "stdout",
     "output_type": "stream",
     "text": [
      "KR_5733511235의 데이터 수집을 시작합니다.\n",
      "api cost full : infinite loop start\n",
      "try 10 second wait time\n",
      "429\n",
      "try 10 second wait time\n",
      "429\n",
      "try 10 second wait time\n",
      "429\n",
      "try 10 second wait time\n",
      "429\n",
      "try 10 second wait time\n",
      "429\n",
      "try 10 second wait time\n",
      "429\n",
      "try 10 second wait time\n",
      "429\n",
      "try 10 second wait time\n",
      "429\n",
      "try 10 second wait time\n",
      "429\n",
      "try 10 second wait time\n",
      "429\n",
      "try 10 second wait time\n",
      "200\n",
      "total wait time :  112.92689394950867\n",
      "recovery api cost\n"
     ]
    },
    {
     "name": "stderr",
     "output_type": "stream",
     "text": [
      "\r",
      "  2%|▋                                | 193/10000 [3:47:48<245:50:52, 90.25s/it]"
     ]
    },
    {
     "name": "stdout",
     "output_type": "stream",
     "text": [
      "KR_5733511235의 데이터 수집이 완료되었습니다\n",
      "KR_5733511427의 데이터 수집을 시작합니다.\n",
      "api cost full : infinite loop start\n",
      "try 10 second wait time\n",
      "429\n",
      "try 10 second wait time\n",
      "429\n",
      "try 10 second wait time\n",
      "429\n",
      "try 10 second wait time\n",
      "429\n",
      "try 10 second wait time\n",
      "429\n",
      "try 10 second wait time\n",
      "429\n",
      "try 10 second wait time\n",
      "429\n",
      "try 10 second wait time\n",
      "429\n",
      "try 10 second wait time\n",
      "429\n",
      "try 10 second wait time\n",
      "429\n",
      "try 10 second wait time\n",
      "200\n",
      "total wait time :  112.80393290519714\n",
      "recovery api cost\n"
     ]
    },
    {
     "name": "stderr",
     "output_type": "stream",
     "text": [
      "\r",
      "  2%|▌                               | 194/10000 [3:49:54<275:22:17, 101.09s/it]"
     ]
    },
    {
     "name": "stdout",
     "output_type": "stream",
     "text": [
      "KR_5733511427의 데이터 수집이 완료되었습니다\n",
      "KR_5733511862의 데이터 수집을 시작합니다.\n",
      "api cost full : infinite loop start\n",
      "try 10 second wait time\n",
      "429\n",
      "try 10 second wait time\n",
      "429\n",
      "try 10 second wait time\n",
      "429\n",
      "try 10 second wait time\n",
      "429\n",
      "try 10 second wait time\n",
      "429\n",
      "try 10 second wait time\n",
      "429\n",
      "try 10 second wait time\n",
      "429\n",
      "try 10 second wait time\n",
      "429\n",
      "try 10 second wait time\n",
      "429\n",
      "try 10 second wait time\n",
      "429\n",
      "try 10 second wait time\n",
      "200\n",
      "total wait time :  110.60696697235107\n",
      "recovery api cost\n"
     ]
    },
    {
     "name": "stderr",
     "output_type": "stream",
     "text": [
      "\r",
      "  2%|▌                               | 195/10000 [3:51:58<293:50:34, 107.89s/it]"
     ]
    },
    {
     "name": "stdout",
     "output_type": "stream",
     "text": [
      "KR_5733511862의 데이터 수집이 완료되었습니다\n",
      "KR_5733513964의 데이터 수집을 시작합니다.\n",
      "api cost full : infinite loop start\n",
      "try 10 second wait time\n",
      "429\n",
      "try 10 second wait time\n",
      "429\n",
      "try 10 second wait time\n",
      "429\n",
      "try 10 second wait time\n",
      "429\n",
      "try 10 second wait time\n",
      "429\n",
      "try 10 second wait time\n",
      "429\n",
      "try 10 second wait time\n",
      "429\n",
      "try 10 second wait time\n",
      "429\n",
      "try 10 second wait time\n",
      "429\n",
      "try 10 second wait time\n",
      "429\n",
      "try 10 second wait time\n",
      "200\n",
      "total wait time :  112.78940320014954\n",
      "recovery api cost\n"
     ]
    },
    {
     "name": "stderr",
     "output_type": "stream",
     "text": [
      "\r",
      "  2%|▋                               | 196/10000 [3:54:04<308:14:21, 113.18s/it]"
     ]
    },
    {
     "name": "stdout",
     "output_type": "stream",
     "text": [
      "KR_5733513964의 데이터 수집이 완료되었습니다\n",
      "KR_5733515705의 데이터 수집을 시작합니다.\n"
     ]
    },
    {
     "name": "stderr",
     "output_type": "stream",
     "text": [
      "\r",
      "  2%|▋                                | 197/10000 [3:54:17<226:35:03, 83.21s/it]"
     ]
    },
    {
     "name": "stdout",
     "output_type": "stream",
     "text": [
      "KR_5733515705의 데이터 수집이 완료되었습니다\n",
      "KR_5733516252의 데이터 수집을 시작합니다.\n",
      "api cost full : infinite loop start\n",
      "try 10 second wait time\n",
      "429\n",
      "try 10 second wait time\n",
      "429\n",
      "try 10 second wait time\n",
      "429\n",
      "try 10 second wait time\n",
      "429\n",
      "try 10 second wait time\n",
      "429\n",
      "try 10 second wait time\n",
      "429\n",
      "try 10 second wait time\n",
      "429\n",
      "try 10 second wait time\n",
      "429\n",
      "try 10 second wait time\n",
      "429\n",
      "try 10 second wait time\n",
      "429\n",
      "try 10 second wait time\n",
      "200\n",
      "total wait time :  112.79585480690002\n",
      "recovery api cost\n",
      "api cost full : infinite loop start\n",
      "try 10 second wait time\n",
      "429\n",
      "try 10 second wait time\n",
      "429\n",
      "try 10 second wait time\n",
      "429\n",
      "try 10 second wait time\n",
      "429\n",
      "try 10 second wait time\n",
      "429\n",
      "try 10 second wait time\n",
      "429\n",
      "try 10 second wait time\n",
      "429\n",
      "try 10 second wait time\n",
      "429\n",
      "try 10 second wait time\n",
      "429\n",
      "try 10 second wait time\n",
      "200\n",
      "total wait time :  102.54748582839966\n",
      "recovery api cost\n"
     ]
    },
    {
     "name": "stderr",
     "output_type": "stream",
     "text": [
      "\r",
      "  2%|▋                               | 198/10000 [3:58:06<345:31:17, 126.90s/it]"
     ]
    },
    {
     "name": "stdout",
     "output_type": "stream",
     "text": [
      "KR_5733516252의 데이터 수집이 완료되었습니다\n",
      "KR_5733516807의 데이터 수집을 시작합니다.\n"
     ]
    },
    {
     "name": "stderr",
     "output_type": "stream",
     "text": [
      "\r",
      "  2%|▋                                | 199/10000 [3:58:19<252:25:33, 92.72s/it]"
     ]
    },
    {
     "name": "stdout",
     "output_type": "stream",
     "text": [
      "KR_5733516807의 데이터 수집이 완료되었습니다\n",
      "KR_5733517061의 데이터 수집을 시작합니다.\n"
     ]
    },
    {
     "name": "stderr",
     "output_type": "stream",
     "text": [
      "\r",
      "  2%|▋                                | 200/10000 [3:58:21<178:40:15, 65.63s/it]"
     ]
    },
    {
     "name": "stdout",
     "output_type": "stream",
     "text": [
      "KR_5733517314의 데이터 수집을 시작합니다.\n",
      "api cost full : infinite loop start\n",
      "try 10 second wait time\n",
      "429\n",
      "try 10 second wait time\n",
      "429\n",
      "try 10 second wait time\n",
      "429\n",
      "try 10 second wait time\n",
      "429\n",
      "try 10 second wait time\n",
      "429\n",
      "try 10 second wait time\n",
      "429\n",
      "try 10 second wait time\n",
      "429\n",
      "try 10 second wait time\n",
      "429\n",
      "try 10 second wait time\n",
      "429\n",
      "try 10 second wait time\n",
      "200\n",
      "total wait time :  102.69712328910828\n",
      "recovery api cost\n"
     ]
    },
    {
     "name": "stderr",
     "output_type": "stream",
     "text": [
      "\r",
      "  2%|▋                                | 201/10000 [4:00:17<219:54:18, 80.79s/it]"
     ]
    },
    {
     "name": "stdout",
     "output_type": "stream",
     "text": [
      "KR_5733517314의 데이터 수집이 완료되었습니다\n",
      "KR_5733518072의 데이터 수집을 시작합니다.\n",
      "api cost full : infinite loop start\n",
      "try 10 second wait time\n",
      "429\n",
      "try 10 second wait time\n",
      "429\n",
      "try 10 second wait time\n",
      "429\n",
      "try 10 second wait time\n",
      "429\n",
      "try 10 second wait time\n",
      "429\n",
      "try 10 second wait time\n",
      "429\n",
      "try 10 second wait time\n",
      "429\n",
      "try 10 second wait time\n",
      "429\n",
      "try 10 second wait time\n",
      "429\n",
      "try 10 second wait time\n",
      "429\n",
      "try 10 second wait time\n",
      "200\n",
      "total wait time :  112.99064183235168\n",
      "recovery api cost\n"
     ]
    },
    {
     "name": "stderr",
     "output_type": "stream",
     "text": [
      "\r",
      "  2%|▋                                | 202/10000 [4:02:23<256:51:19, 94.37s/it]"
     ]
    },
    {
     "name": "stdout",
     "output_type": "stream",
     "text": [
      "KR_5733518072의 데이터 수집이 완료되었습니다\n",
      "KR_5733518270의 데이터 수집을 시작합니다.\n"
     ]
    },
    {
     "name": "stderr",
     "output_type": "stream",
     "text": [
      "\r",
      "  2%|▋                                | 203/10000 [4:02:30<185:34:05, 68.19s/it]"
     ]
    },
    {
     "name": "stdout",
     "output_type": "stream",
     "text": [
      "KR_5733520990의 데이터 수집을 시작합니다.\n",
      "api cost full : infinite loop start\n",
      "try 10 second wait time\n",
      "429\n",
      "try 10 second wait time\n",
      "429\n",
      "try 10 second wait time\n",
      "429\n",
      "try 10 second wait time\n",
      "429\n",
      "try 10 second wait time\n",
      "429\n",
      "try 10 second wait time\n",
      "429\n",
      "try 10 second wait time\n",
      "429\n",
      "try 10 second wait time\n",
      "429\n",
      "try 10 second wait time\n",
      "429\n",
      "try 10 second wait time\n",
      "429\n",
      "try 10 second wait time\n",
      "200\n",
      "total wait time :  112.8451840877533\n",
      "recovery api cost\n"
     ]
    },
    {
     "name": "stderr",
     "output_type": "stream",
     "text": [
      "\r",
      "  2%|▋                                | 204/10000 [4:04:37<232:56:37, 85.61s/it]"
     ]
    },
    {
     "name": "stdout",
     "output_type": "stream",
     "text": [
      "KR_5733520990의 데이터 수집이 완료되었습니다\n",
      "KR_5733523834의 데이터 수집을 시작합니다.\n"
     ]
    },
    {
     "name": "stderr",
     "output_type": "stream",
     "text": [
      "\r",
      "  2%|▋                                | 205/10000 [4:04:40<166:10:01, 61.07s/it]"
     ]
    },
    {
     "name": "stdout",
     "output_type": "stream",
     "text": [
      "KR_5733524210의 데이터 수집을 시작합니다.\n",
      "api cost full : infinite loop start\n",
      "try 10 second wait time\n",
      "429\n",
      "try 10 second wait time\n",
      "429\n",
      "try 10 second wait time\n",
      "429\n",
      "try 10 second wait time\n",
      "429\n",
      "try 10 second wait time\n",
      "429\n",
      "try 10 second wait time\n",
      "429\n",
      "try 10 second wait time\n",
      "429\n",
      "try 10 second wait time\n",
      "429\n",
      "try 10 second wait time\n",
      "429\n",
      "try 10 second wait time\n",
      "429\n",
      "try 10 second wait time\n",
      "200\n",
      "total wait time :  115.05111980438232\n",
      "recovery api cost\n"
     ]
    },
    {
     "name": "stderr",
     "output_type": "stream",
     "text": [
      "\r",
      "  2%|▋                                | 206/10000 [4:06:48<220:42:40, 81.13s/it]"
     ]
    },
    {
     "name": "stdout",
     "output_type": "stream",
     "text": [
      "KR_5733524210의 데이터 수집이 완료되었습니다\n",
      "KR_5733524524의 데이터 수집을 시작합니다.\n",
      "api cost full : infinite loop start\n",
      "try 10 second wait time\n",
      "429\n",
      "try 10 second wait time\n",
      "429\n",
      "try 10 second wait time\n",
      "429\n",
      "try 10 second wait time\n",
      "429\n",
      "try 10 second wait time\n",
      "429\n",
      "try 10 second wait time\n",
      "429\n",
      "try 10 second wait time\n",
      "429\n",
      "try 10 second wait time\n",
      "429\n",
      "try 10 second wait time\n",
      "429\n",
      "try 10 second wait time\n",
      "429\n",
      "try 10 second wait time\n",
      "200\n",
      "total wait time :  112.7627580165863\n",
      "recovery api cost\n"
     ]
    },
    {
     "name": "stderr",
     "output_type": "stream",
     "text": [
      "\r",
      "  2%|▋                                | 207/10000 [4:08:54<257:22:24, 94.61s/it]"
     ]
    },
    {
     "name": "stdout",
     "output_type": "stream",
     "text": [
      "KR_5733524524의 데이터 수집이 완료되었습니다\n",
      "KR_5733525596의 데이터 수집을 시작합니다.\n"
     ]
    },
    {
     "name": "stderr",
     "output_type": "stream",
     "text": [
      "\r",
      "  2%|▋                                | 208/10000 [4:09:01<185:39:57, 68.26s/it]"
     ]
    },
    {
     "name": "stdout",
     "output_type": "stream",
     "text": [
      "KR_5733526063의 데이터 수집을 시작합니다.\n",
      "api cost full : infinite loop start\n",
      "try 10 second wait time\n",
      "429\n",
      "try 10 second wait time\n",
      "429\n",
      "try 10 second wait time\n",
      "429\n",
      "try 10 second wait time\n",
      "429\n",
      "try 10 second wait time\n",
      "429\n",
      "try 10 second wait time\n",
      "429\n",
      "try 10 second wait time\n",
      "429\n",
      "try 10 second wait time\n",
      "429\n",
      "try 10 second wait time\n",
      "429\n",
      "try 10 second wait time\n",
      "429\n",
      "try 10 second wait time\n",
      "200\n",
      "total wait time :  112.82883310317993\n",
      "recovery api cost\n"
     ]
    },
    {
     "name": "stderr",
     "output_type": "stream",
     "text": [
      "\r",
      "  2%|▋                                | 209/10000 [4:11:07<232:46:53, 85.59s/it]"
     ]
    },
    {
     "name": "stdout",
     "output_type": "stream",
     "text": [
      "KR_5733526063의 데이터 수집이 완료되었습니다\n",
      "KR_5733527241의 데이터 수집을 시작합니다.\n"
     ]
    },
    {
     "name": "stderr",
     "output_type": "stream",
     "text": [
      "\r",
      "  2%|▋                                | 210/10000 [4:11:11<166:23:53, 61.19s/it]"
     ]
    },
    {
     "name": "stdout",
     "output_type": "stream",
     "text": [
      "KR_5733527838의 데이터 수집을 시작합니다.\n",
      "api cost full : infinite loop start\n",
      "try 10 second wait time\n",
      "429\n",
      "try 10 second wait time\n",
      "429\n",
      "try 10 second wait time\n",
      "429\n",
      "try 10 second wait time\n",
      "429\n",
      "try 10 second wait time\n",
      "429\n",
      "try 10 second wait time\n",
      "429\n",
      "try 10 second wait time\n",
      "429\n",
      "try 10 second wait time\n",
      "429\n",
      "try 10 second wait time\n",
      "429\n",
      "try 10 second wait time\n",
      "429\n",
      "try 10 second wait time\n",
      "200\n",
      "total wait time :  112.79218077659607\n",
      "recovery api cost\n"
     ]
    },
    {
     "name": "stderr",
     "output_type": "stream",
     "text": [
      "\r",
      "  2%|▋                                | 211/10000 [4:13:18<219:47:43, 80.83s/it]"
     ]
    },
    {
     "name": "stdout",
     "output_type": "stream",
     "text": [
      "KR_5733527838의 데이터 수집이 완료되었습니다\n",
      "KR_5733528564의 데이터 수집을 시작합니다.\n"
     ]
    },
    {
     "name": "stderr",
     "output_type": "stream",
     "text": [
      "\r",
      "  2%|▋                                | 212/10000 [4:13:22<156:40:01, 57.62s/it]"
     ]
    },
    {
     "name": "stdout",
     "output_type": "stream",
     "text": [
      "KR_5733531344의 데이터 수집을 시작합니다.\n",
      "api cost full : infinite loop start\n",
      "try 10 second wait time\n",
      "429\n",
      "try 10 second wait time\n",
      "429\n",
      "try 10 second wait time\n",
      "429\n",
      "try 10 second wait time\n",
      "429\n",
      "try 10 second wait time\n",
      "429\n",
      "try 10 second wait time\n",
      "429\n",
      "try 10 second wait time\n",
      "429\n",
      "try 10 second wait time\n",
      "429\n",
      "try 10 second wait time\n",
      "429\n",
      "try 10 second wait time\n",
      "200\n",
      "total wait time :  102.59905791282654\n",
      "recovery api cost\n"
     ]
    },
    {
     "name": "stderr",
     "output_type": "stream",
     "text": [
      "\r",
      "  2%|▋                                | 213/10000 [4:15:18<204:34:51, 75.25s/it]"
     ]
    },
    {
     "name": "stdout",
     "output_type": "stream",
     "text": [
      "KR_5733531344의 데이터 수집이 완료되었습니다\n",
      "KR_5733531580의 데이터 수집을 시작합니다.\n"
     ]
    },
    {
     "name": "stderr",
     "output_type": "stream",
     "text": [
      "\r",
      "  2%|▋                                | 214/10000 [4:15:21<146:01:19, 53.72s/it]"
     ]
    },
    {
     "name": "stdout",
     "output_type": "stream",
     "text": [
      "KR_5733531845의 데이터 수집을 시작합니다.\n",
      "api cost full : infinite loop start\n",
      "try 10 second wait time\n",
      "429\n",
      "try 10 second wait time\n",
      "429\n",
      "try 10 second wait time\n",
      "429\n",
      "try 10 second wait time\n",
      "429\n",
      "try 10 second wait time\n",
      "429\n",
      "try 10 second wait time\n",
      "429\n",
      "try 10 second wait time\n",
      "429\n",
      "try 10 second wait time\n",
      "429\n",
      "try 10 second wait time\n",
      "429\n",
      "try 10 second wait time\n",
      "429\n",
      "try 10 second wait time\n",
      "200\n",
      "total wait time :  112.91472697257996\n",
      "recovery api cost\n"
     ]
    },
    {
     "name": "stderr",
     "output_type": "stream",
     "text": [
      "\r",
      "  2%|▋                                | 215/10000 [4:17:27<204:48:18, 75.35s/it]"
     ]
    },
    {
     "name": "stdout",
     "output_type": "stream",
     "text": [
      "KR_5733531845의 데이터 수집이 완료되었습니다\n",
      "KR_5733532443의 데이터 수집을 시작합니다.\n",
      "api cost full : infinite loop start\n",
      "try 10 second wait time\n",
      "429\n",
      "try 10 second wait time\n",
      "429\n",
      "try 10 second wait time\n",
      "429\n",
      "try 10 second wait time\n",
      "429\n",
      "try 10 second wait time\n",
      "429\n",
      "try 10 second wait time\n",
      "429\n",
      "try 10 second wait time\n",
      "429\n",
      "try 10 second wait time\n",
      "429\n",
      "try 10 second wait time\n",
      "429\n",
      "try 10 second wait time\n",
      "200\n",
      "total wait time :  102.72092080116272\n",
      "recovery api cost\n"
     ]
    },
    {
     "name": "stderr",
     "output_type": "stream",
     "text": [
      "\r",
      "  2%|▋                                | 216/10000 [4:19:24<238:23:46, 87.72s/it]"
     ]
    },
    {
     "name": "stdout",
     "output_type": "stream",
     "text": [
      "KR_5733532443의 데이터 수집이 완료되었습니다\n",
      "KR_5733534703의 데이터 수집을 시작합니다.\n"
     ]
    },
    {
     "name": "stderr",
     "output_type": "stream",
     "text": [
      "\r",
      "  2%|▋                                | 217/10000 [4:19:27<169:43:04, 62.45s/it]"
     ]
    },
    {
     "name": "stdout",
     "output_type": "stream",
     "text": [
      "KR_5733539563의 데이터 수집을 시작합니다.\n",
      "api cost full : infinite loop start\n",
      "try 10 second wait time\n",
      "429\n",
      "try 10 second wait time\n",
      "429\n",
      "try 10 second wait time\n",
      "429\n",
      "try 10 second wait time\n",
      "429\n",
      "try 10 second wait time\n",
      "429\n",
      "try 10 second wait time\n",
      "429\n",
      "try 10 second wait time\n",
      "429\n",
      "try 10 second wait time\n",
      "429\n",
      "try 10 second wait time\n",
      "429\n",
      "try 10 second wait time\n",
      "200\n",
      "total wait time :  102.54261994361877\n",
      "recovery api cost\n"
     ]
    },
    {
     "name": "stderr",
     "output_type": "stream",
     "text": [
      "\r",
      "  2%|▋                                | 218/10000 [4:21:23<213:11:46, 78.46s/it]"
     ]
    },
    {
     "name": "stdout",
     "output_type": "stream",
     "text": [
      "KR_5733539563의 데이터 수집이 완료되었습니다\n",
      "KR_5733541080의 데이터 수집을 시작합니다.\n",
      "api cost full : infinite loop start\n",
      "try 10 second wait time\n",
      "429\n",
      "try 10 second wait time\n",
      "429\n",
      "try 10 second wait time\n",
      "429\n",
      "try 10 second wait time\n",
      "429\n",
      "try 10 second wait time\n",
      "429\n",
      "try 10 second wait time\n",
      "429\n",
      "try 10 second wait time\n",
      "429\n",
      "try 10 second wait time\n",
      "429\n",
      "try 10 second wait time\n",
      "429\n",
      "try 10 second wait time\n",
      "429\n",
      "try 10 second wait time\n",
      "200\n",
      "total wait time :  112.98886299133301\n",
      "recovery api cost\n"
     ]
    },
    {
     "name": "stderr",
     "output_type": "stream",
     "text": [
      "\r",
      "  2%|▋                                | 219/10000 [4:23:29<251:43:24, 92.65s/it]"
     ]
    },
    {
     "name": "stdout",
     "output_type": "stream",
     "text": [
      "KR_5733541080의 데이터 수집이 완료되었습니다\n",
      "KR_5733542069의 데이터 수집을 시작합니다.\n",
      "api cost full : infinite loop start\n",
      "try 10 second wait time\n",
      "429\n",
      "try 10 second wait time\n",
      "429\n",
      "try 10 second wait time\n",
      "429\n",
      "try 10 second wait time\n",
      "429\n",
      "try 10 second wait time\n",
      "429\n",
      "try 10 second wait time\n",
      "429\n",
      "try 10 second wait time\n",
      "429\n",
      "try 10 second wait time\n",
      "429\n",
      "try 10 second wait time\n",
      "429\n",
      "try 10 second wait time\n",
      "429\n",
      "try 10 second wait time\n",
      "200\n",
      "total wait time :  112.85504293441772\n",
      "recovery api cost\n"
     ]
    },
    {
     "name": "stderr",
     "output_type": "stream",
     "text": [
      "\r",
      "  2%|▋                               | 220/10000 [4:25:35<278:34:28, 102.54s/it]"
     ]
    },
    {
     "name": "stdout",
     "output_type": "stream",
     "text": [
      "KR_5733542069의 데이터 수집이 완료되었습니다\n",
      "KR_5733543175의 데이터 수집을 시작합니다.\n",
      "api cost full : infinite loop start\n",
      "try 10 second wait time\n",
      "429\n",
      "try 10 second wait time\n",
      "429\n",
      "try 10 second wait time\n",
      "429\n",
      "try 10 second wait time\n",
      "429\n",
      "try 10 second wait time\n",
      "429\n",
      "try 10 second wait time\n",
      "429\n",
      "try 10 second wait time\n",
      "429\n",
      "try 10 second wait time\n",
      "429\n",
      "try 10 second wait time\n",
      "429\n",
      "try 10 second wait time\n",
      "429\n",
      "try 10 second wait time\n",
      "200\n",
      "total wait time :  112.90419721603394\n",
      "recovery api cost\n"
     ]
    },
    {
     "name": "stderr",
     "output_type": "stream",
     "text": [
      "\r",
      "  2%|▋                               | 221/10000 [4:27:40<297:35:59, 109.56s/it]"
     ]
    },
    {
     "name": "stdout",
     "output_type": "stream",
     "text": [
      "KR_5733543175의 데이터 수집이 완료되었습니다\n",
      "KR_5733543427의 데이터 수집을 시작합니다.\n"
     ]
    },
    {
     "name": "stderr",
     "output_type": "stream",
     "text": [
      "\r",
      "  2%|▋                                | 222/10000 [4:27:53<218:53:50, 80.59s/it]"
     ]
    },
    {
     "name": "stdout",
     "output_type": "stream",
     "text": [
      "KR_5733543427의 데이터 수집이 완료되었습니다\n",
      "KR_5733545040의 데이터 수집을 시작합니다.\n",
      "api cost full : infinite loop start\n",
      "try 10 second wait time\n",
      "429\n",
      "try 10 second wait time\n",
      "429\n",
      "try 10 second wait time\n",
      "429\n",
      "try 10 second wait time\n",
      "429\n",
      "try 10 second wait time\n",
      "429\n",
      "try 10 second wait time\n",
      "429\n",
      "try 10 second wait time\n",
      "429\n",
      "try 10 second wait time\n",
      "429\n",
      "try 10 second wait time\n",
      "429\n",
      "try 10 second wait time\n",
      "429\n",
      "try 10 second wait time\n",
      "200\n",
      "total wait time :  112.94059085845947\n",
      "recovery api cost\n",
      "api cost full : infinite loop start\n",
      "try 10 second wait time\n",
      "429\n",
      "try 10 second wait time\n",
      "429\n",
      "try 10 second wait time\n",
      "429\n",
      "try 10 second wait time\n",
      "429\n",
      "try 10 second wait time\n",
      "429\n",
      "try 10 second wait time\n",
      "429\n",
      "try 10 second wait time\n",
      "429\n",
      "try 10 second wait time\n",
      "429\n",
      "try 10 second wait time\n",
      "429\n",
      "try 10 second wait time\n",
      "200\n",
      "total wait time :  102.5819878578186\n",
      "recovery api cost\n"
     ]
    },
    {
     "name": "stderr",
     "output_type": "stream",
     "text": [
      "\r",
      "  2%|▋                               | 223/10000 [4:31:42<339:10:57, 124.89s/it]"
     ]
    },
    {
     "name": "stdout",
     "output_type": "stream",
     "text": [
      "KR_5733545040의 데이터 수집이 완료되었습니다\n",
      "KR_5733545614의 데이터 수집을 시작합니다.\n"
     ]
    },
    {
     "name": "stderr",
     "output_type": "stream",
     "text": [
      "\r",
      "  2%|▋                                | 224/10000 [4:31:55<248:03:48, 91.35s/it]"
     ]
    },
    {
     "name": "stdout",
     "output_type": "stream",
     "text": [
      "KR_5733545614의 데이터 수집이 완료되었습니다\n",
      "KR_5733545717의 데이터 수집을 시작합니다.\n",
      "api cost full : infinite loop start\n",
      "try 10 second wait time\n",
      "429\n",
      "try 10 second wait time\n",
      "429\n",
      "try 10 second wait time\n",
      "429\n",
      "try 10 second wait time\n",
      "429\n",
      "try 10 second wait time\n",
      "429\n",
      "try 10 second wait time\n",
      "429\n",
      "try 10 second wait time\n",
      "429\n",
      "try 10 second wait time\n",
      "429\n",
      "try 10 second wait time\n",
      "429\n",
      "try 10 second wait time\n",
      "429\n",
      "try 10 second wait time\n",
      "200\n",
      "total wait time :  112.76545715332031\n",
      "recovery api cost\n"
     ]
    },
    {
     "name": "stderr",
     "output_type": "stream",
     "text": [
      "\r",
      "  2%|▋                               | 225/10000 [4:34:01<276:00:08, 101.65s/it]"
     ]
    },
    {
     "name": "stdout",
     "output_type": "stream",
     "text": [
      "KR_5733545717의 데이터 수집이 완료되었습니다\n",
      "KR_5733545874의 데이터 수집을 시작합니다.\n"
     ]
    },
    {
     "name": "stderr",
     "output_type": "stream",
     "text": [
      "\r",
      "  2%|▋                                | 226/10000 [4:34:06<197:48:16, 72.86s/it]"
     ]
    },
    {
     "name": "stdout",
     "output_type": "stream",
     "text": [
      "KR_5733546547의 데이터 수집을 시작합니다.\n",
      "api cost full : infinite loop start\n",
      "try 10 second wait time\n",
      "429\n",
      "try 10 second wait time\n",
      "429\n",
      "try 10 second wait time\n",
      "429\n",
      "try 10 second wait time\n",
      "429\n",
      "try 10 second wait time\n",
      "429\n",
      "try 10 second wait time\n",
      "429\n",
      "try 10 second wait time\n",
      "429\n",
      "try 10 second wait time\n",
      "429\n",
      "try 10 second wait time\n",
      "429\n",
      "try 10 second wait time\n",
      "429\n",
      "try 10 second wait time\n",
      "200\n",
      "total wait time :  112.88978910446167\n",
      "recovery api cost\n",
      "api cost full : infinite loop start\n",
      "try 10 second wait time\n",
      "429\n",
      "try 10 second wait time\n",
      "429\n",
      "try 10 second wait time\n",
      "429\n",
      "try 10 second wait time\n",
      "429\n",
      "try 10 second wait time\n",
      "429\n",
      "try 10 second wait time\n",
      "429\n",
      "try 10 second wait time\n",
      "429\n",
      "try 10 second wait time\n",
      "429\n",
      "try 10 second wait time\n",
      "429\n",
      "try 10 second wait time\n",
      "200\n",
      "total wait time :  102.49354004859924\n",
      "recovery api cost\n"
     ]
    },
    {
     "name": "stderr",
     "output_type": "stream",
     "text": [
      "\r",
      "  2%|▋                               | 227/10000 [4:37:54<324:19:59, 119.47s/it]"
     ]
    },
    {
     "name": "stdout",
     "output_type": "stream",
     "text": [
      "KR_5733546547의 데이터 수집이 완료되었습니다\n",
      "KR_5733546910의 데이터 수집을 시작합니다.\n"
     ]
    },
    {
     "name": "stderr",
     "output_type": "stream",
     "text": [
      "\r",
      "  2%|▊                                | 228/10000 [4:38:08<237:53:17, 87.64s/it]"
     ]
    },
    {
     "name": "stdout",
     "output_type": "stream",
     "text": [
      "KR_5733546910의 데이터 수집이 완료되었습니다\n",
      "KR_5733551427의 데이터 수집을 시작합니다.\n"
     ]
    },
    {
     "name": "stderr",
     "output_type": "stream",
     "text": [
      "\r",
      "  2%|▊                                | 229/10000 [4:38:10<167:57:35, 61.88s/it]"
     ]
    },
    {
     "name": "stdout",
     "output_type": "stream",
     "text": [
      "KR_5733552263의 데이터 수집을 시작합니다.\n",
      "api cost full : infinite loop start\n",
      "try 10 second wait time\n",
      "429\n",
      "try 10 second wait time\n",
      "429\n",
      "try 10 second wait time\n",
      "429\n",
      "try 10 second wait time\n",
      "429\n",
      "try 10 second wait time\n",
      "429\n",
      "try 10 second wait time\n",
      "429\n",
      "try 10 second wait time\n",
      "429\n",
      "try 10 second wait time\n",
      "429\n",
      "try 10 second wait time\n",
      "429\n",
      "try 10 second wait time\n",
      "200\n",
      "total wait time :  102.61465191841125\n",
      "recovery api cost\n"
     ]
    },
    {
     "name": "stderr",
     "output_type": "stream",
     "text": [
      "\r",
      "  2%|▊                                | 230/10000 [4:40:05<211:43:08, 78.01s/it]"
     ]
    },
    {
     "name": "stdout",
     "output_type": "stream",
     "text": [
      "KR_5733552263의 데이터 수집이 완료되었습니다\n",
      "KR_5733554797의 데이터 수집을 시작합니다.\n",
      "api cost full : infinite loop start\n",
      "try 10 second wait time\n",
      "429\n",
      "try 10 second wait time\n",
      "429\n",
      "try 10 second wait time\n",
      "429\n",
      "try 10 second wait time\n",
      "429\n",
      "try 10 second wait time\n",
      "429\n",
      "try 10 second wait time\n",
      "429\n",
      "try 10 second wait time\n",
      "429\n",
      "try 10 second wait time\n",
      "429\n",
      "try 10 second wait time\n",
      "429\n",
      "try 10 second wait time\n",
      "429\n",
      "try 10 second wait time\n",
      "200\n",
      "total wait time :  112.80812907218933\n",
      "recovery api cost\n"
     ]
    },
    {
     "name": "stderr",
     "output_type": "stream",
     "text": [
      "\r",
      "  2%|▊                                | 231/10000 [4:42:11<250:49:03, 92.43s/it]"
     ]
    },
    {
     "name": "stdout",
     "output_type": "stream",
     "text": [
      "KR_5733554797의 데이터 수집이 완료되었습니다\n",
      "KR_5733555326의 데이터 수집을 시작합니다.\n",
      "api cost full : infinite loop start\n",
      "try 10 second wait time\n",
      "429\n",
      "try 10 second wait time\n",
      "429\n",
      "try 10 second wait time\n",
      "429\n",
      "try 10 second wait time\n",
      "429\n",
      "try 10 second wait time\n",
      "429\n",
      "try 10 second wait time\n",
      "429\n",
      "try 10 second wait time\n",
      "429\n",
      "try 10 second wait time\n",
      "429\n",
      "try 10 second wait time\n",
      "429\n",
      "try 10 second wait time\n",
      "429\n",
      "try 10 second wait time\n",
      "200\n",
      "total wait time :  113.13854217529297\n",
      "recovery api cost\n"
     ]
    },
    {
     "name": "stderr",
     "output_type": "stream",
     "text": [
      "\r",
      "  2%|▋                               | 232/10000 [4:44:18<278:47:22, 102.75s/it]"
     ]
    },
    {
     "name": "stdout",
     "output_type": "stream",
     "text": [
      "KR_5733555326의 데이터 수집이 완료되었습니다\n",
      "KR_5733556389의 데이터 수집을 시작합니다.\n",
      "api cost full : infinite loop start\n",
      "try 10 second wait time\n",
      "429\n",
      "try 10 second wait time\n",
      "429\n",
      "try 10 second wait time\n",
      "429\n",
      "try 10 second wait time\n",
      "429\n",
      "try 10 second wait time\n",
      "429\n",
      "try 10 second wait time\n",
      "429\n",
      "try 10 second wait time\n",
      "429\n",
      "try 10 second wait time\n",
      "429\n",
      "try 10 second wait time\n",
      "429\n",
      "try 10 second wait time\n",
      "429\n",
      "try 10 second wait time\n",
      "200\n",
      "total wait time :  112.79781794548035\n",
      "recovery api cost\n"
     ]
    },
    {
     "name": "stderr",
     "output_type": "stream",
     "text": [
      "\r",
      "  2%|▋                               | 233/10000 [4:46:24<297:16:53, 109.57s/it]"
     ]
    },
    {
     "name": "stdout",
     "output_type": "stream",
     "text": [
      "KR_5733556389의 데이터 수집이 완료되었습니다\n",
      "KR_5733558181의 데이터 수집을 시작합니다.\n"
     ]
    },
    {
     "name": "stderr",
     "output_type": "stream",
     "text": [
      "\r",
      "  2%|▊                                | 234/10000 [4:46:36<218:33:55, 80.57s/it]"
     ]
    },
    {
     "name": "stdout",
     "output_type": "stream",
     "text": [
      "KR_5733558181의 데이터 수집이 완료되었습니다\n",
      "KR_5733558604의 데이터 수집을 시작합니다.\n",
      "api cost full : infinite loop start\n",
      "try 10 second wait time\n",
      "429\n",
      "try 10 second wait time\n",
      "429\n",
      "try 10 second wait time\n",
      "429\n",
      "try 10 second wait time\n",
      "429\n",
      "try 10 second wait time\n",
      "429\n",
      "try 10 second wait time\n",
      "429\n",
      "try 10 second wait time\n",
      "429\n",
      "try 10 second wait time\n",
      "429\n",
      "try 10 second wait time\n",
      "429\n",
      "try 10 second wait time\n",
      "429\n",
      "try 10 second wait time\n",
      "200\n",
      "total wait time :  112.71047401428223\n",
      "recovery api cost\n"
     ]
    },
    {
     "name": "stderr",
     "output_type": "stream",
     "text": [
      "\r",
      "  2%|▊                                | 235/10000 [4:48:42<255:26:47, 94.17s/it]"
     ]
    },
    {
     "name": "stdout",
     "output_type": "stream",
     "text": [
      "KR_5733558604의 데이터 수집이 완료되었습니다\n",
      "KR_5733559838의 데이터 수집을 시작합니다.\n",
      "api cost full : infinite loop start\n",
      "try 10 second wait time\n",
      "429\n",
      "try 10 second wait time\n",
      "429\n",
      "try 10 second wait time\n",
      "429\n",
      "try 10 second wait time\n",
      "429\n",
      "try 10 second wait time\n",
      "429\n",
      "try 10 second wait time\n",
      "429\n",
      "try 10 second wait time\n",
      "429\n",
      "try 10 second wait time\n",
      "429\n",
      "try 10 second wait time\n",
      "429\n",
      "try 10 second wait time\n",
      "429\n",
      "try 10 second wait time\n",
      "200\n",
      "total wait time :  112.9244019985199\n",
      "recovery api cost\n"
     ]
    },
    {
     "name": "stderr",
     "output_type": "stream",
     "text": [
      "\r",
      "  2%|▊                               | 236/10000 [4:50:49<281:50:31, 103.92s/it]"
     ]
    },
    {
     "name": "stdout",
     "output_type": "stream",
     "text": [
      "KR_5733559838의 데이터 수집이 완료되었습니다\n",
      "KR_5733560823의 데이터 수집을 시작합니다.\n",
      "api cost full : infinite loop start\n",
      "try 10 second wait time\n",
      "429\n",
      "try 10 second wait time\n",
      "429\n",
      "try 10 second wait time\n",
      "429\n",
      "try 10 second wait time\n",
      "429\n",
      "try 10 second wait time\n",
      "429\n",
      "try 10 second wait time\n",
      "429\n",
      "try 10 second wait time\n",
      "429\n",
      "try 10 second wait time\n",
      "429\n",
      "try 10 second wait time\n",
      "429\n",
      "try 10 second wait time\n",
      "429\n",
      "try 10 second wait time\n",
      "200\n",
      "total wait time :  112.99556469917297\n",
      "recovery api cost\n"
     ]
    },
    {
     "name": "stderr",
     "output_type": "stream",
     "text": [
      "\r",
      "  2%|▊                               | 237/10000 [4:52:55<300:03:03, 110.64s/it]"
     ]
    },
    {
     "name": "stdout",
     "output_type": "stream",
     "text": [
      "KR_5733560823의 데이터 수집이 완료되었습니다\n",
      "KR_5733561156의 데이터 수집을 시작합니다.\n",
      "api cost full : infinite loop start\n",
      "try 10 second wait time\n",
      "429\n",
      "try 10 second wait time\n",
      "429\n",
      "try 10 second wait time\n",
      "429\n",
      "try 10 second wait time\n",
      "429\n",
      "try 10 second wait time\n",
      "429\n",
      "try 10 second wait time\n",
      "429\n",
      "try 10 second wait time\n",
      "429\n",
      "try 10 second wait time\n",
      "429\n",
      "try 10 second wait time\n",
      "429\n",
      "try 10 second wait time\n",
      "429\n",
      "try 10 second wait time\n",
      "200\n",
      "total wait time :  112.7182879447937\n",
      "recovery api cost\n"
     ]
    },
    {
     "name": "stderr",
     "output_type": "stream",
     "text": [
      "\r",
      "  2%|▊                               | 238/10000 [4:55:01<312:27:52, 115.23s/it]"
     ]
    },
    {
     "name": "stdout",
     "output_type": "stream",
     "text": [
      "KR_5733561156의 데이터 수집이 완료되었습니다\n",
      "KR_5733562717의 데이터 수집을 시작합니다.\n"
     ]
    },
    {
     "name": "stderr",
     "output_type": "stream",
     "text": [
      "\r",
      "  2%|▊                                | 239/10000 [4:55:14<229:07:36, 84.51s/it]"
     ]
    },
    {
     "name": "stdout",
     "output_type": "stream",
     "text": [
      "KR_5733562717의 데이터 수집이 완료되었습니다\n",
      "KR_5733563184의 데이터 수집을 시작합니다.\n",
      "api cost full : infinite loop start\n",
      "try 10 second wait time\n",
      "429\n",
      "try 10 second wait time\n",
      "429\n",
      "try 10 second wait time\n",
      "429\n",
      "try 10 second wait time\n",
      "429\n",
      "try 10 second wait time\n",
      "429\n",
      "try 10 second wait time\n",
      "429\n",
      "try 10 second wait time\n",
      "429\n",
      "try 10 second wait time\n",
      "429\n",
      "try 10 second wait time\n",
      "429\n",
      "try 10 second wait time\n",
      "429\n",
      "try 10 second wait time\n",
      "200\n",
      "total wait time :  112.74786019325256\n",
      "recovery api cost\n"
     ]
    },
    {
     "name": "stderr",
     "output_type": "stream",
     "text": [
      "\r",
      "  2%|▊                                | 240/10000 [4:57:20<262:38:07, 96.87s/it]"
     ]
    },
    {
     "name": "stdout",
     "output_type": "stream",
     "text": [
      "KR_5733563184의 데이터 수집이 완료되었습니다\n",
      "KR_5733564661의 데이터 수집을 시작합니다.\n",
      "api cost full : infinite loop start\n",
      "try 10 second wait time\n",
      "429\n",
      "try 10 second wait time\n",
      "429\n",
      "try 10 second wait time\n",
      "429\n",
      "try 10 second wait time\n",
      "429\n",
      "try 10 second wait time\n",
      "429\n",
      "try 10 second wait time\n",
      "429\n",
      "try 10 second wait time\n",
      "429\n",
      "try 10 second wait time\n",
      "429\n",
      "try 10 second wait time\n",
      "429\n",
      "try 10 second wait time\n",
      "429\n",
      "try 10 second wait time\n",
      "200\n",
      "total wait time :  113.36095690727234\n",
      "recovery api cost\n"
     ]
    },
    {
     "name": "stderr",
     "output_type": "stream",
     "text": [
      "\r",
      "  2%|▊                               | 241/10000 [4:59:28<287:48:20, 106.17s/it]"
     ]
    },
    {
     "name": "stdout",
     "output_type": "stream",
     "text": [
      "KR_5733564661의 데이터 수집이 완료되었습니다\n",
      "KR_5733564820의 데이터 수집을 시작합니다.\n",
      "api cost full : infinite loop start\n",
      "try 10 second wait time\n",
      "429\n",
      "try 10 second wait time\n",
      "429\n",
      "try 10 second wait time\n",
      "429\n",
      "try 10 second wait time\n",
      "429\n",
      "try 10 second wait time\n",
      "429\n",
      "try 10 second wait time\n",
      "429\n",
      "try 10 second wait time\n",
      "429\n",
      "try 10 second wait time\n",
      "429\n",
      "try 10 second wait time\n",
      "429\n",
      "try 10 second wait time\n",
      "200\n",
      "total wait time :  102.86891484260559\n",
      "recovery api cost\n"
     ]
    },
    {
     "name": "stderr",
     "output_type": "stream",
     "text": [
      "\r",
      "  2%|▊                               | 242/10000 [5:01:25<296:32:31, 109.40s/it]"
     ]
    },
    {
     "name": "stdout",
     "output_type": "stream",
     "text": [
      "KR_5733564820의 데이터 수집이 완료되었습니다\n",
      "KR_5733565667의 데이터 수집을 시작합니다.\n"
     ]
    },
    {
     "name": "stderr",
     "output_type": "stream",
     "text": [
      "\r",
      "  2%|▊                                | 243/10000 [5:01:34<215:17:17, 79.43s/it]"
     ]
    },
    {
     "name": "stdout",
     "output_type": "stream",
     "text": [
      "KR_5733567678의 데이터 수집을 시작합니다.\n",
      "api cost full : infinite loop start\n",
      "try 10 second wait time\n",
      "429\n",
      "try 10 second wait time\n",
      "429\n",
      "try 10 second wait time\n",
      "429\n",
      "try 10 second wait time\n",
      "429\n",
      "try 10 second wait time\n",
      "429\n",
      "try 10 second wait time\n",
      "429\n",
      "try 10 second wait time\n",
      "429\n",
      "try 10 second wait time\n",
      "429\n",
      "try 10 second wait time\n",
      "429\n",
      "try 10 second wait time\n",
      "429\n",
      "try 10 second wait time\n",
      "200\n",
      "total wait time :  112.82053184509277\n",
      "recovery api cost\n"
     ]
    },
    {
     "name": "stderr",
     "output_type": "stream",
     "text": [
      "\r",
      "  2%|▊                                | 244/10000 [5:03:41<253:26:12, 93.52s/it]"
     ]
    },
    {
     "name": "stdout",
     "output_type": "stream",
     "text": [
      "KR_5733567678의 데이터 수집이 완료되었습니다\n",
      "KR_5733567905의 데이터 수집을 시작합니다.\n",
      "api cost full : infinite loop start\n",
      "try 10 second wait time\n",
      "429\n",
      "try 10 second wait time\n",
      "429\n",
      "try 10 second wait time\n",
      "429\n",
      "try 10 second wait time\n",
      "429\n",
      "try 10 second wait time\n",
      "429\n",
      "try 10 second wait time\n",
      "429\n",
      "try 10 second wait time\n",
      "429\n",
      "try 10 second wait time\n",
      "429\n",
      "try 10 second wait time\n",
      "429\n",
      "try 10 second wait time\n",
      "429\n",
      "try 10 second wait time\n",
      "200\n",
      "total wait time :  112.86134576797485\n",
      "recovery api cost\n"
     ]
    },
    {
     "name": "stderr",
     "output_type": "stream",
     "text": [
      "\r",
      "  2%|▊                               | 245/10000 [5:05:47<279:50:07, 103.27s/it]"
     ]
    },
    {
     "name": "stdout",
     "output_type": "stream",
     "text": [
      "KR_5733567905의 데이터 수집이 완료되었습니다\n",
      "KR_5733568336의 데이터 수집을 시작합니다.\n"
     ]
    },
    {
     "name": "stderr",
     "output_type": "stream",
     "text": [
      "\r",
      "  2%|▊                                | 246/10000 [5:05:54<201:32:33, 74.39s/it]"
     ]
    },
    {
     "name": "stdout",
     "output_type": "stream",
     "text": [
      "KR_5733568945의 데이터 수집을 시작합니다.\n",
      "api cost full : infinite loop start\n",
      "try 10 second wait time\n",
      "429\n",
      "try 10 second wait time\n",
      "429\n",
      "try 10 second wait time\n",
      "429\n",
      "try 10 second wait time\n",
      "429\n",
      "try 10 second wait time\n",
      "429\n",
      "try 10 second wait time\n",
      "429\n",
      "try 10 second wait time\n",
      "429\n",
      "try 10 second wait time\n",
      "429\n",
      "try 10 second wait time\n",
      "429\n",
      "try 10 second wait time\n",
      "429\n",
      "try 10 second wait time\n",
      "200\n",
      "total wait time :  112.86705279350281\n",
      "recovery api cost\n"
     ]
    },
    {
     "name": "stderr",
     "output_type": "stream",
     "text": [
      "\r",
      "  2%|▊                                | 247/10000 [5:07:59<243:14:15, 89.78s/it]"
     ]
    },
    {
     "name": "stdout",
     "output_type": "stream",
     "text": [
      "KR_5733568945의 데이터 수집이 완료되었습니다\n",
      "KR_5733569258의 데이터 수집을 시작합니다.\n"
     ]
    },
    {
     "name": "stderr",
     "output_type": "stream",
     "text": [
      "\r",
      "  2%|▊                                | 248/10000 [5:08:03<173:29:21, 64.04s/it]"
     ]
    },
    {
     "name": "stdout",
     "output_type": "stream",
     "text": [
      "KR_5733570211의 데이터 수집을 시작합니다.\n",
      "api cost full : infinite loop start\n",
      "try 10 second wait time\n",
      "429\n",
      "try 10 second wait time\n",
      "429\n",
      "try 10 second wait time\n",
      "429\n",
      "try 10 second wait time\n",
      "429\n",
      "try 10 second wait time\n",
      "429\n",
      "try 10 second wait time\n",
      "429\n",
      "try 10 second wait time\n",
      "429\n",
      "try 10 second wait time\n",
      "429\n",
      "try 10 second wait time\n",
      "429\n",
      "try 10 second wait time\n",
      "429\n",
      "try 10 second wait time\n",
      "200\n",
      "total wait time :  113.16783404350281\n",
      "recovery api cost\n"
     ]
    },
    {
     "name": "stderr",
     "output_type": "stream",
     "text": [
      "\r",
      "  2%|▊                                | 249/10000 [5:10:09<223:40:33, 82.58s/it]"
     ]
    },
    {
     "name": "stdout",
     "output_type": "stream",
     "text": [
      "KR_5733570211의 데이터 수집이 완료되었습니다\n",
      "KR_5733571582의 데이터 수집을 시작합니다.\n",
      "api cost full : infinite loop start\n",
      "try 10 second wait time\n",
      "429\n",
      "try 10 second wait time\n",
      "429\n",
      "try 10 second wait time\n",
      "429\n",
      "try 10 second wait time\n",
      "429\n",
      "try 10 second wait time\n",
      "429\n",
      "try 10 second wait time\n",
      "429\n",
      "try 10 second wait time\n",
      "429\n",
      "try 10 second wait time\n",
      "429\n",
      "try 10 second wait time\n",
      "429\n",
      "try 10 second wait time\n",
      "429\n",
      "try 10 second wait time\n",
      "200\n",
      "total wait time :  112.86833596229553\n",
      "recovery api cost\n"
     ]
    },
    {
     "name": "stderr",
     "output_type": "stream",
     "text": [
      "\r",
      "  2%|▊                                | 250/10000 [5:12:15<258:43:06, 95.53s/it]"
     ]
    },
    {
     "name": "stdout",
     "output_type": "stream",
     "text": [
      "KR_5733571582의 데이터 수집이 완료되었습니다\n",
      "KR_5733574297의 데이터 수집을 시작합니다.\n"
     ]
    },
    {
     "name": "stderr",
     "output_type": "stream",
     "text": [
      "\r",
      "  3%|▊                                | 251/10000 [5:12:22<186:39:23, 68.93s/it]"
     ]
    },
    {
     "name": "stdout",
     "output_type": "stream",
     "text": [
      "KR_5733574867의 데이터 수집을 시작합니다.\n",
      "api cost full : infinite loop start\n",
      "try 10 second wait time\n",
      "429\n",
      "try 10 second wait time\n",
      "429\n",
      "try 10 second wait time\n",
      "429\n",
      "try 10 second wait time\n",
      "429\n",
      "try 10 second wait time\n",
      "429\n",
      "try 10 second wait time\n",
      "429\n",
      "try 10 second wait time\n",
      "429\n",
      "try 10 second wait time\n",
      "429\n",
      "try 10 second wait time\n",
      "429\n",
      "try 10 second wait time\n",
      "429\n",
      "try 10 second wait time\n",
      "200\n",
      "total wait time :  112.89022517204285\n",
      "recovery api cost\n"
     ]
    },
    {
     "name": "stderr",
     "output_type": "stream",
     "text": [
      "\r",
      "  3%|▊                                | 252/10000 [5:14:27<232:46:48, 85.97s/it]"
     ]
    },
    {
     "name": "stdout",
     "output_type": "stream",
     "text": [
      "KR_5733574867의 데이터 수집이 완료되었습니다\n",
      "KR_5733575083의 데이터 수집을 시작합니다.\n",
      "api cost full : infinite loop start\n",
      "try 10 second wait time\n",
      "429\n",
      "try 10 second wait time\n",
      "429\n",
      "try 10 second wait time\n",
      "429\n",
      "try 10 second wait time\n",
      "429\n",
      "try 10 second wait time\n",
      "429\n",
      "try 10 second wait time\n",
      "429\n",
      "try 10 second wait time\n",
      "429\n",
      "try 10 second wait time\n",
      "429\n",
      "try 10 second wait time\n",
      "429\n",
      "try 10 second wait time\n",
      "429\n",
      "try 10 second wait time\n",
      "200\n",
      "total wait time :  113.04666304588318\n",
      "recovery api cost\n"
     ]
    },
    {
     "name": "stderr",
     "output_type": "stream",
     "text": [
      "\r",
      "  3%|▊                                | 253/10000 [5:16:33<264:53:04, 97.83s/it]"
     ]
    },
    {
     "name": "stdout",
     "output_type": "stream",
     "text": [
      "KR_5733575083의 데이터 수집이 완료되었습니다\n",
      "KR_5733576514의 데이터 수집을 시작합니다.\n",
      "api cost full : infinite loop start\n",
      "try 10 second wait time\n",
      "429\n",
      "try 10 second wait time\n",
      "429\n",
      "try 10 second wait time\n",
      "429\n",
      "try 10 second wait time\n",
      "429\n",
      "try 10 second wait time\n",
      "429\n",
      "try 10 second wait time\n",
      "429\n",
      "try 10 second wait time\n",
      "429\n",
      "try 10 second wait time\n",
      "429\n",
      "try 10 second wait time\n",
      "429\n",
      "try 10 second wait time\n",
      "429\n",
      "try 10 second wait time\n",
      "200\n",
      "total wait time :  112.79888916015625\n",
      "recovery api cost\n"
     ]
    },
    {
     "name": "stderr",
     "output_type": "stream",
     "text": [
      "\r",
      "  3%|▊                               | 254/10000 [5:18:39<287:26:47, 106.18s/it]"
     ]
    },
    {
     "name": "stdout",
     "output_type": "stream",
     "text": [
      "KR_5733576514의 데이터 수집이 완료되었습니다\n",
      "KR_5733577024의 데이터 수집을 시작합니다.\n"
     ]
    },
    {
     "name": "stderr",
     "output_type": "stream",
     "text": [
      "\r",
      "  3%|▊                                | 255/10000 [5:18:49<209:19:59, 77.33s/it]"
     ]
    },
    {
     "name": "stdout",
     "output_type": "stream",
     "text": [
      "KR_5733577232의 데이터 수집을 시작합니다.\n",
      "api cost full : infinite loop start\n",
      "try 10 second wait time\n",
      "429\n",
      "try 10 second wait time\n",
      "429\n",
      "try 10 second wait time\n",
      "429\n",
      "try 10 second wait time\n",
      "429\n",
      "try 10 second wait time\n",
      "429\n",
      "try 10 second wait time\n",
      "429\n",
      "try 10 second wait time\n",
      "429\n",
      "try 10 second wait time\n",
      "429\n",
      "try 10 second wait time\n",
      "429\n",
      "try 10 second wait time\n",
      "200\n",
      "total wait time :  102.54356718063354\n",
      "recovery api cost\n"
     ]
    },
    {
     "name": "stderr",
     "output_type": "stream",
     "text": [
      "\r",
      "  3%|▊                                | 256/10000 [5:20:45<240:37:32, 88.90s/it]"
     ]
    },
    {
     "name": "stdout",
     "output_type": "stream",
     "text": [
      "KR_5733577232의 데이터 수집이 완료되었습니다\n",
      "KR_5733578407의 데이터 수집을 시작합니다.\n",
      "api cost full : infinite loop start\n",
      "try 10 second wait time\n",
      "429\n",
      "try 10 second wait time\n",
      "429\n",
      "try 10 second wait time\n",
      "429\n",
      "try 10 second wait time\n",
      "429\n",
      "try 10 second wait time\n",
      "429\n",
      "try 10 second wait time\n",
      "429\n",
      "try 10 second wait time\n",
      "429\n",
      "try 10 second wait time\n",
      "429\n",
      "try 10 second wait time\n",
      "429\n",
      "try 10 second wait time\n",
      "429\n",
      "try 10 second wait time\n",
      "200\n",
      "total wait time :  112.78054189682007\n",
      "recovery api cost\n"
     ]
    },
    {
     "name": "stderr",
     "output_type": "stream",
     "text": [
      "\r",
      "  3%|▊                               | 257/10000 [5:22:51<270:46:05, 100.05s/it]"
     ]
    },
    {
     "name": "stdout",
     "output_type": "stream",
     "text": [
      "KR_5733578407의 데이터 수집이 완료되었습니다\n",
      "KR_5733579266의 데이터 수집을 시작합니다.\n",
      "api cost full : infinite loop start\n",
      "try 10 second wait time\n",
      "429\n",
      "try 10 second wait time\n",
      "429\n",
      "try 10 second wait time\n",
      "429\n",
      "try 10 second wait time\n",
      "429\n",
      "try 10 second wait time\n",
      "429\n",
      "try 10 second wait time\n",
      "429\n",
      "try 10 second wait time\n",
      "429\n",
      "try 10 second wait time\n",
      "429\n",
      "try 10 second wait time\n",
      "429\n",
      "try 10 second wait time\n",
      "429\n",
      "try 10 second wait time\n",
      "200\n",
      "total wait time :  112.7437047958374\n",
      "recovery api cost\n"
     ]
    },
    {
     "name": "stderr",
     "output_type": "stream",
     "text": [
      "\r",
      "  3%|▊                               | 258/10000 [5:24:56<291:09:13, 107.59s/it]"
     ]
    },
    {
     "name": "stdout",
     "output_type": "stream",
     "text": [
      "KR_5733579266의 데이터 수집이 완료되었습니다\n",
      "KR_5733588223의 데이터 수집을 시작합니다.\n"
     ]
    },
    {
     "name": "stderr",
     "output_type": "stream",
     "text": [
      "\r",
      "  3%|▊                                | 259/10000 [5:25:06<211:53:36, 78.31s/it]"
     ]
    },
    {
     "name": "stdout",
     "output_type": "stream",
     "text": [
      "KR_5733588613의 데이터 수집을 시작합니다.\n",
      "api cost full : infinite loop start\n",
      "try 10 second wait time\n",
      "429\n",
      "try 10 second wait time\n",
      "429\n",
      "try 10 second wait time\n",
      "429\n",
      "try 10 second wait time\n",
      "429\n",
      "try 10 second wait time\n",
      "429\n",
      "try 10 second wait time\n",
      "429\n",
      "try 10 second wait time\n",
      "429\n",
      "try 10 second wait time\n",
      "429\n",
      "try 10 second wait time\n",
      "429\n",
      "try 10 second wait time\n",
      "200\n",
      "total wait time :  102.75819802284241\n",
      "recovery api cost\n"
     ]
    },
    {
     "name": "stderr",
     "output_type": "stream",
     "text": [
      "\r",
      "  3%|▊                                | 260/10000 [5:27:02<242:45:55, 89.73s/it]"
     ]
    },
    {
     "name": "stdout",
     "output_type": "stream",
     "text": [
      "KR_5733588613의 데이터 수집이 완료되었습니다\n",
      "KR_5733592418의 데이터 수집을 시작합니다.\n"
     ]
    },
    {
     "name": "stderr",
     "output_type": "stream",
     "text": [
      "\r",
      "  3%|▊                                | 261/10000 [5:27:10<175:59:07, 65.05s/it]"
     ]
    },
    {
     "name": "stdout",
     "output_type": "stream",
     "text": [
      "KR_5733593023의 데이터 수집을 시작합니다.\n",
      "api cost full : infinite loop start\n",
      "try 10 second wait time\n",
      "429\n",
      "try 10 second wait time\n",
      "429\n",
      "try 10 second wait time\n",
      "429\n",
      "try 10 second wait time\n",
      "429\n",
      "try 10 second wait time\n",
      "429\n",
      "try 10 second wait time\n",
      "429\n",
      "try 10 second wait time\n",
      "429\n",
      "try 10 second wait time\n",
      "429\n",
      "try 10 second wait time\n",
      "429\n",
      "try 10 second wait time\n",
      "200\n",
      "total wait time :  102.74136590957642\n",
      "recovery api cost\n"
     ]
    },
    {
     "name": "stderr",
     "output_type": "stream",
     "text": [
      "\r",
      "  3%|▊                                | 262/10000 [5:29:08<218:50:26, 80.90s/it]"
     ]
    },
    {
     "name": "stdout",
     "output_type": "stream",
     "text": [
      "KR_5733593023의 데이터 수집이 완료되었습니다\n",
      "KR_5733593727의 데이터 수집을 시작합니다.\n"
     ]
    },
    {
     "name": "stderr",
     "output_type": "stream",
     "text": [
      "\r",
      "  3%|▊                                | 263/10000 [5:29:11<156:09:26, 57.74s/it]"
     ]
    },
    {
     "name": "stdout",
     "output_type": "stream",
     "text": [
      "KR_5733593933의 데이터 수집을 시작합니다.\n",
      "api cost full : infinite loop start\n",
      "try 10 second wait time\n",
      "429\n",
      "try 10 second wait time\n",
      "429\n",
      "try 10 second wait time\n",
      "429\n",
      "try 10 second wait time\n",
      "429\n",
      "try 10 second wait time\n",
      "429\n",
      "try 10 second wait time\n",
      "429\n",
      "try 10 second wait time\n",
      "429\n",
      "try 10 second wait time\n",
      "429\n",
      "try 10 second wait time\n",
      "429\n",
      "try 10 second wait time\n",
      "200\n",
      "total wait time :  102.58801794052124\n",
      "recovery api cost\n"
     ]
    },
    {
     "name": "stderr",
     "output_type": "stream",
     "text": [
      "\r",
      "  3%|▊                                | 264/10000 [5:31:07<202:55:45, 75.04s/it]"
     ]
    },
    {
     "name": "stdout",
     "output_type": "stream",
     "text": [
      "KR_5733593933의 데이터 수집이 완료되었습니다\n",
      "KR_5733595343의 데이터 수집을 시작합니다.\n",
      "api cost full : infinite loop start\n",
      "try 10 second wait time\n",
      "429\n",
      "try 10 second wait time\n",
      "429\n",
      "try 10 second wait time\n",
      "429\n",
      "try 10 second wait time\n",
      "429\n",
      "try 10 second wait time\n",
      "429\n",
      "try 10 second wait time\n",
      "429\n",
      "try 10 second wait time\n",
      "429\n",
      "try 10 second wait time\n",
      "429\n",
      "try 10 second wait time\n",
      "429\n",
      "try 10 second wait time\n",
      "429\n",
      "try 10 second wait time\n",
      "200\n",
      "total wait time :  112.70829892158508\n",
      "recovery api cost\n"
     ]
    },
    {
     "name": "stderr",
     "output_type": "stream",
     "text": [
      "\r",
      "  3%|▊                                | 265/10000 [5:33:13<244:13:39, 90.32s/it]"
     ]
    },
    {
     "name": "stdout",
     "output_type": "stream",
     "text": [
      "KR_5733595343의 데이터 수집이 완료되었습니다\n",
      "KR_5733595969의 데이터 수집을 시작합니다.\n",
      "api cost full : infinite loop start\n",
      "try 10 second wait time\n",
      "429\n",
      "try 10 second wait time\n",
      "429\n",
      "try 10 second wait time\n",
      "429\n",
      "try 10 second wait time\n",
      "429\n",
      "try 10 second wait time\n",
      "429\n",
      "try 10 second wait time\n",
      "429\n",
      "try 10 second wait time\n",
      "429\n",
      "try 10 second wait time\n",
      "429\n",
      "try 10 second wait time\n",
      "429\n",
      "try 10 second wait time\n",
      "429\n",
      "try 10 second wait time\n",
      "200\n",
      "total wait time :  112.79482007026672\n",
      "recovery api cost\n"
     ]
    },
    {
     "name": "stderr",
     "output_type": "stream",
     "text": [
      "\r",
      "  3%|▊                               | 266/10000 [5:35:18<272:52:06, 100.92s/it]"
     ]
    },
    {
     "name": "stdout",
     "output_type": "stream",
     "text": [
      "KR_5733595969의 데이터 수집이 완료되었습니다\n",
      "KR_5733596867의 데이터 수집을 시작합니다.\n",
      "api cost full : infinite loop start\n",
      "try 10 second wait time\n",
      "429\n",
      "try 10 second wait time\n",
      "429\n",
      "try 10 second wait time\n",
      "429\n",
      "try 10 second wait time\n",
      "429\n",
      "try 10 second wait time\n",
      "429\n",
      "try 10 second wait time\n",
      "429\n",
      "try 10 second wait time\n",
      "429\n",
      "try 10 second wait time\n",
      "429\n",
      "try 10 second wait time\n",
      "429\n",
      "try 10 second wait time\n",
      "429\n",
      "try 10 second wait time\n",
      "200\n",
      "total wait time :  112.77452373504639\n",
      "recovery api cost\n"
     ]
    },
    {
     "name": "stderr",
     "output_type": "stream",
     "text": [
      "\r",
      "  3%|▊                               | 267/10000 [5:37:24<293:12:38, 108.45s/it]"
     ]
    },
    {
     "name": "stdout",
     "output_type": "stream",
     "text": [
      "KR_5733596867의 데이터 수집이 완료되었습니다\n",
      "KR_5733597336의 데이터 수집을 시작합니다.\n"
     ]
    },
    {
     "name": "stderr",
     "output_type": "stream",
     "text": [
      "\r",
      "  3%|▉                                | 268/10000 [5:37:37<215:47:33, 79.82s/it]"
     ]
    },
    {
     "name": "stdout",
     "output_type": "stream",
     "text": [
      "KR_5733597336의 데이터 수집이 완료되었습니다\n",
      "KR_5733598372의 데이터 수집을 시작합니다.\n",
      "api cost full : infinite loop start\n",
      "try 10 second wait time\n",
      "429\n",
      "try 10 second wait time\n",
      "429\n",
      "try 10 second wait time\n",
      "429\n",
      "try 10 second wait time\n",
      "429\n",
      "try 10 second wait time\n",
      "429\n",
      "try 10 second wait time\n",
      "429\n",
      "try 10 second wait time\n",
      "429\n",
      "try 10 second wait time\n",
      "429\n",
      "try 10 second wait time\n",
      "429\n",
      "try 10 second wait time\n",
      "429\n",
      "try 10 second wait time\n",
      "200\n",
      "total wait time :  112.78424429893494\n",
      "recovery api cost\n"
     ]
    },
    {
     "name": "stderr",
     "output_type": "stream",
     "text": [
      "\r",
      "  3%|▉                                | 269/10000 [5:39:41<251:30:16, 93.04s/it]"
     ]
    },
    {
     "name": "stdout",
     "output_type": "stream",
     "text": [
      "KR_5733598821의 데이터 수집을 시작합니다.\n",
      "api cost full : infinite loop start\n",
      "try 10 second wait time\n",
      "429\n",
      "try 10 second wait time\n",
      "429\n",
      "try 10 second wait time\n",
      "429\n",
      "try 10 second wait time\n",
      "429\n",
      "try 10 second wait time\n",
      "429\n",
      "try 10 second wait time\n",
      "429\n",
      "try 10 second wait time\n",
      "429\n",
      "try 10 second wait time\n",
      "429\n",
      "try 10 second wait time\n",
      "429\n",
      "try 10 second wait time\n",
      "200\n",
      "total wait time :  102.56216979026794\n",
      "recovery api cost\n"
     ]
    },
    {
     "name": "stderr",
     "output_type": "stream",
     "text": [
      "\r",
      "  3%|▉                                | 270/10000 [5:41:36<269:16:45, 99.63s/it]"
     ]
    },
    {
     "name": "stdout",
     "output_type": "stream",
     "text": [
      "KR_5733598821의 데이터 수집이 완료되었습니다\n",
      "KR_5733600347의 데이터 수집을 시작합니다.\n",
      "api cost full : infinite loop start\n",
      "try 10 second wait time\n",
      "429\n",
      "try 10 second wait time\n",
      "429\n",
      "try 10 second wait time\n",
      "429\n",
      "try 10 second wait time\n",
      "429\n",
      "try 10 second wait time\n",
      "429\n",
      "try 10 second wait time\n",
      "429\n",
      "try 10 second wait time\n",
      "429\n",
      "try 10 second wait time\n",
      "429\n",
      "try 10 second wait time\n",
      "429\n",
      "try 10 second wait time\n",
      "429\n",
      "try 10 second wait time\n",
      "200\n",
      "total wait time :  112.80761408805847\n",
      "recovery api cost\n"
     ]
    },
    {
     "name": "stderr",
     "output_type": "stream",
     "text": [
      "\r",
      "  3%|▊                               | 271/10000 [5:43:42<290:08:09, 107.36s/it]"
     ]
    },
    {
     "name": "stdout",
     "output_type": "stream",
     "text": [
      "KR_5733600347의 데이터 수집이 완료되었습니다\n",
      "KR_5733601602의 데이터 수집을 시작합니다.\n",
      "api cost full : infinite loop start\n",
      "try 10 second wait time\n",
      "429\n",
      "try 10 second wait time\n",
      "429\n",
      "try 10 second wait time\n",
      "429\n",
      "try 10 second wait time\n",
      "429\n",
      "try 10 second wait time\n",
      "429\n",
      "try 10 second wait time\n",
      "429\n",
      "try 10 second wait time\n",
      "429\n",
      "try 10 second wait time\n",
      "429\n",
      "try 10 second wait time\n",
      "429\n",
      "try 10 second wait time\n",
      "429\n",
      "try 10 second wait time\n",
      "200\n",
      "total wait time :  112.72389912605286\n",
      "recovery api cost\n"
     ]
    },
    {
     "name": "stderr",
     "output_type": "stream",
     "text": [
      "\r",
      "  3%|▊                               | 272/10000 [5:45:48<305:19:08, 112.99s/it]"
     ]
    },
    {
     "name": "stdout",
     "output_type": "stream",
     "text": [
      "KR_5733601602의 데이터 수집이 완료되었습니다\n",
      "KR_5733603357의 데이터 수집을 시작합니다.\n"
     ]
    },
    {
     "name": "stderr",
     "output_type": "stream",
     "text": [
      "\r",
      "  3%|▉                                | 273/10000 [5:45:57<221:25:48, 81.95s/it]"
     ]
    },
    {
     "name": "stdout",
     "output_type": "stream",
     "text": [
      "KR_5733603415의 데이터 수집을 시작합니다.\n",
      "api cost full : infinite loop start\n",
      "try 10 second wait time\n",
      "429\n",
      "try 10 second wait time\n",
      "429\n",
      "try 10 second wait time\n",
      "429\n",
      "try 10 second wait time\n",
      "429\n",
      "try 10 second wait time\n",
      "429\n",
      "try 10 second wait time\n",
      "429\n",
      "try 10 second wait time\n",
      "429\n",
      "try 10 second wait time\n",
      "429\n",
      "try 10 second wait time\n",
      "429\n",
      "try 10 second wait time\n",
      "429\n",
      "try 10 second wait time\n",
      "200\n",
      "total wait time :  112.79075694084167\n",
      "recovery api cost\n"
     ]
    },
    {
     "name": "stderr",
     "output_type": "stream",
     "text": [
      "\r",
      "  3%|▉                                | 274/10000 [5:48:03<256:40:05, 95.00s/it]"
     ]
    },
    {
     "name": "stdout",
     "output_type": "stream",
     "text": [
      "KR_5733603415의 데이터 수집이 완료되었습니다\n",
      "KR_5733603663의 데이터 수집을 시작합니다.\n"
     ]
    },
    {
     "name": "stderr",
     "output_type": "stream",
     "text": [
      "\r",
      "  3%|▉                                | 275/10000 [5:48:07<182:55:06, 67.71s/it]"
     ]
    },
    {
     "name": "stdout",
     "output_type": "stream",
     "text": [
      "KR_5733604625의 데이터 수집을 시작합니다.\n",
      "api cost full : infinite loop start\n",
      "try 10 second wait time\n",
      "429\n",
      "try 10 second wait time\n",
      "429\n",
      "try 10 second wait time\n",
      "429\n",
      "try 10 second wait time\n",
      "429\n",
      "try 10 second wait time\n",
      "429\n",
      "try 10 second wait time\n",
      "429\n",
      "try 10 second wait time\n",
      "429\n",
      "try 10 second wait time\n",
      "429\n",
      "try 10 second wait time\n",
      "429\n",
      "try 10 second wait time\n",
      "429\n",
      "try 10 second wait time\n",
      "200\n",
      "total wait time :  112.75015616416931\n",
      "recovery api cost\n"
     ]
    },
    {
     "name": "stderr",
     "output_type": "stream",
     "text": [
      "\r",
      "  3%|▉                                | 276/10000 [5:50:12<229:57:48, 85.14s/it]"
     ]
    },
    {
     "name": "stdout",
     "output_type": "stream",
     "text": [
      "KR_5733604625의 데이터 수집이 완료되었습니다\n",
      "KR_5733605095의 데이터 수집을 시작합니다.\n",
      "api cost full : infinite loop start\n",
      "try 10 second wait time\n",
      "429\n",
      "try 10 second wait time\n",
      "429\n",
      "try 10 second wait time\n",
      "429\n",
      "try 10 second wait time\n",
      "429\n",
      "try 10 second wait time\n",
      "429\n",
      "try 10 second wait time\n",
      "429\n",
      "try 10 second wait time\n",
      "429\n",
      "try 10 second wait time\n",
      "429\n",
      "try 10 second wait time\n",
      "429\n",
      "try 10 second wait time\n",
      "429\n",
      "try 10 second wait time\n",
      "200\n",
      "total wait time :  112.98159289360046\n",
      "recovery api cost\n"
     ]
    },
    {
     "name": "stderr",
     "output_type": "stream",
     "text": [
      "\r",
      "  3%|▉                                | 277/10000 [5:52:18<262:47:49, 97.30s/it]"
     ]
    },
    {
     "name": "stdout",
     "output_type": "stream",
     "text": [
      "KR_5733605095의 데이터 수집이 완료되었습니다\n",
      "KR_5733607329의 데이터 수집을 시작합니다.\n",
      "api cost full : infinite loop start\n",
      "try 10 second wait time\n",
      "429\n",
      "try 10 second wait time\n",
      "429\n",
      "try 10 second wait time\n",
      "429\n",
      "try 10 second wait time\n",
      "429\n",
      "try 10 second wait time\n",
      "429\n",
      "try 10 second wait time\n",
      "429\n",
      "try 10 second wait time\n",
      "429\n",
      "try 10 second wait time\n",
      "429\n",
      "try 10 second wait time\n",
      "429\n",
      "try 10 second wait time\n",
      "429\n",
      "try 10 second wait time\n",
      "200\n",
      "total wait time :  112.86282086372375\n",
      "recovery api cost\n"
     ]
    },
    {
     "name": "stderr",
     "output_type": "stream",
     "text": [
      "\r",
      "  3%|▉                               | 278/10000 [5:54:24<285:37:59, 105.77s/it]"
     ]
    },
    {
     "name": "stdout",
     "output_type": "stream",
     "text": [
      "KR_5733607329의 데이터 수집이 완료되었습니다\n",
      "KR_5733608353의 데이터 수집을 시작합니다.\n",
      "api cost full : infinite loop start\n",
      "try 10 second wait time\n",
      "429\n",
      "try 10 second wait time\n",
      "429\n",
      "try 10 second wait time\n",
      "429\n",
      "try 10 second wait time\n",
      "429\n",
      "try 10 second wait time\n",
      "429\n",
      "try 10 second wait time\n",
      "429\n",
      "try 10 second wait time\n",
      "429\n",
      "try 10 second wait time\n",
      "429\n",
      "try 10 second wait time\n",
      "429\n",
      "try 10 second wait time\n",
      "429\n",
      "try 10 second wait time\n",
      "200\n",
      "total wait time :  112.77477192878723\n",
      "recovery api cost\n"
     ]
    },
    {
     "name": "stderr",
     "output_type": "stream",
     "text": [
      "\r",
      "  3%|▉                               | 279/10000 [5:56:30<301:52:29, 111.79s/it]"
     ]
    },
    {
     "name": "stdout",
     "output_type": "stream",
     "text": [
      "KR_5733608353의 데이터 수집이 완료되었습니다\n",
      "KR_5733611671의 데이터 수집을 시작합니다.\n"
     ]
    },
    {
     "name": "stderr",
     "output_type": "stream",
     "text": [
      "\r",
      "  3%|▉                                | 280/10000 [5:56:43<222:06:59, 82.27s/it]"
     ]
    },
    {
     "name": "stdout",
     "output_type": "stream",
     "text": [
      "KR_5733611671의 데이터 수집이 완료되었습니다\n",
      "KR_5733611974의 데이터 수집을 시작합니다.\n",
      "api cost full : infinite loop start\n",
      "try 10 second wait time\n",
      "429\n",
      "try 10 second wait time\n",
      "429\n",
      "try 10 second wait time\n",
      "429\n",
      "try 10 second wait time\n",
      "429\n",
      "try 10 second wait time\n",
      "429\n",
      "try 10 second wait time\n",
      "429\n",
      "try 10 second wait time\n",
      "429\n",
      "try 10 second wait time\n",
      "429\n",
      "try 10 second wait time\n",
      "429\n",
      "try 10 second wait time\n",
      "200\n",
      "total wait time :  102.56930208206177\n",
      "recovery api cost\n"
     ]
    },
    {
     "name": "stderr",
     "output_type": "stream",
     "text": [
      "\r",
      "  3%|▉                                | 281/10000 [5:58:39<249:07:49, 92.28s/it]"
     ]
    },
    {
     "name": "stdout",
     "output_type": "stream",
     "text": [
      "KR_5733611974의 데이터 수집이 완료되었습니다\n",
      "KR_5733613511의 데이터 수집을 시작합니다.\n"
     ]
    },
    {
     "name": "stderr",
     "output_type": "stream",
     "text": [
      "\r",
      "  3%|▉                                | 282/10000 [5:58:47<181:09:50, 67.11s/it]"
     ]
    },
    {
     "name": "stdout",
     "output_type": "stream",
     "text": [
      "KR_5733614731의 데이터 수집을 시작합니다.\n",
      "api cost full : infinite loop start\n",
      "try 10 second wait time\n",
      "429\n",
      "try 10 second wait time\n",
      "429\n",
      "try 10 second wait time\n",
      "429\n",
      "try 10 second wait time\n",
      "429\n",
      "try 10 second wait time\n",
      "429\n",
      "try 10 second wait time\n",
      "429\n",
      "try 10 second wait time\n",
      "429\n",
      "try 10 second wait time\n",
      "429\n",
      "try 10 second wait time\n",
      "429\n",
      "try 10 second wait time\n",
      "200\n",
      "total wait time :  102.43244409561157\n",
      "recovery api cost\n"
     ]
    },
    {
     "name": "stderr",
     "output_type": "stream",
     "text": [
      "\r",
      "  3%|▉                                | 283/10000 [6:00:42<220:07:15, 81.55s/it]"
     ]
    },
    {
     "name": "stdout",
     "output_type": "stream",
     "text": [
      "KR_5733614731의 데이터 수집이 완료되었습니다\n",
      "KR_5733618870의 데이터 수집을 시작합니다.\n",
      "api cost full : infinite loop start\n",
      "try 10 second wait time\n",
      "429\n",
      "try 10 second wait time\n",
      "429\n",
      "try 10 second wait time\n",
      "429\n",
      "try 10 second wait time\n",
      "429\n",
      "try 10 second wait time\n",
      "429\n",
      "try 10 second wait time\n",
      "429\n",
      "try 10 second wait time\n",
      "429\n",
      "try 10 second wait time\n",
      "429\n",
      "try 10 second wait time\n",
      "429\n",
      "try 10 second wait time\n",
      "429\n",
      "try 10 second wait time\n",
      "200\n",
      "total wait time :  112.9200530052185\n",
      "recovery api cost\n"
     ]
    },
    {
     "name": "stderr",
     "output_type": "stream",
     "text": [
      "\r",
      "  3%|▉                                | 284/10000 [6:02:48<255:56:29, 94.83s/it]"
     ]
    },
    {
     "name": "stdout",
     "output_type": "stream",
     "text": [
      "KR_5733618870의 데이터 수집이 완료되었습니다\n",
      "KR_5733619170의 데이터 수집을 시작합니다.\n",
      "api cost full : infinite loop start\n",
      "try 10 second wait time\n",
      "429\n",
      "try 10 second wait time\n",
      "429\n",
      "try 10 second wait time\n",
      "429\n",
      "try 10 second wait time\n",
      "429\n",
      "try 10 second wait time\n",
      "429\n",
      "try 10 second wait time\n",
      "429\n",
      "try 10 second wait time\n",
      "429\n",
      "try 10 second wait time\n",
      "429\n",
      "try 10 second wait time\n",
      "429\n",
      "try 10 second wait time\n",
      "429\n",
      "try 10 second wait time\n",
      "200\n",
      "total wait time :  112.73822212219238\n",
      "recovery api cost\n"
     ]
    },
    {
     "name": "stderr",
     "output_type": "stream",
     "text": [
      "\r",
      "  3%|▉                               | 285/10000 [6:04:54<281:02:46, 104.14s/it]"
     ]
    },
    {
     "name": "stdout",
     "output_type": "stream",
     "text": [
      "KR_5733619170의 데이터 수집이 완료되었습니다\n",
      "KR_5733619292의 데이터 수집을 시작합니다.\n",
      "api cost full : infinite loop start\n",
      "try 10 second wait time\n",
      "429\n",
      "try 10 second wait time\n",
      "429\n",
      "try 10 second wait time\n",
      "429\n",
      "try 10 second wait time\n",
      "429\n",
      "try 10 second wait time\n",
      "429\n",
      "try 10 second wait time\n",
      "429\n",
      "try 10 second wait time\n",
      "429\n",
      "try 10 second wait time\n",
      "429\n",
      "try 10 second wait time\n",
      "429\n",
      "try 10 second wait time\n",
      "429\n",
      "try 10 second wait time\n",
      "200\n",
      "total wait time :  112.82334589958191\n",
      "recovery api cost\n"
     ]
    },
    {
     "name": "stderr",
     "output_type": "stream",
     "text": [
      "\r",
      "  3%|▉                               | 286/10000 [6:06:59<298:22:36, 110.58s/it]"
     ]
    },
    {
     "name": "stdout",
     "output_type": "stream",
     "text": [
      "KR_5733619292의 데이터 수집이 완료되었습니다\n",
      "KR_5733620037의 데이터 수집을 시작합니다.\n"
     ]
    },
    {
     "name": "stderr",
     "output_type": "stream",
     "text": [
      "\r",
      "  3%|▉                                | 287/10000 [6:07:13<219:29:58, 81.35s/it]"
     ]
    },
    {
     "name": "stdout",
     "output_type": "stream",
     "text": [
      "KR_5733620037의 데이터 수집이 완료되었습니다\n",
      "KR_5733621263의 데이터 수집을 시작합니다.\n",
      "api cost full : infinite loop start\n",
      "try 10 second wait time\n",
      "429\n",
      "try 10 second wait time\n",
      "429\n",
      "try 10 second wait time\n",
      "429\n",
      "try 10 second wait time\n",
      "429\n",
      "try 10 second wait time\n",
      "429\n",
      "try 10 second wait time\n",
      "429\n",
      "try 10 second wait time\n",
      "429\n",
      "try 10 second wait time\n",
      "429\n",
      "try 10 second wait time\n",
      "429\n",
      "try 10 second wait time\n",
      "200\n",
      "total wait time :  102.72310590744019\n",
      "recovery api cost\n"
     ]
    },
    {
     "name": "stderr",
     "output_type": "stream",
     "text": [
      "\r",
      "  3%|▉                                | 288/10000 [6:09:09<247:38:59, 91.80s/it]"
     ]
    },
    {
     "name": "stdout",
     "output_type": "stream",
     "text": [
      "KR_5733621263의 데이터 수집이 완료되었습니다\n",
      "KR_5733621506의 데이터 수집을 시작합니다.\n"
     ]
    },
    {
     "name": "stderr",
     "output_type": "stream",
     "text": [
      "\r",
      "  3%|▉                                | 289/10000 [6:09:17<180:16:14, 66.83s/it]"
     ]
    },
    {
     "name": "stdout",
     "output_type": "stream",
     "text": [
      "KR_5733623161의 데이터 수집을 시작합니다.\n",
      "api cost full : infinite loop start\n",
      "try 10 second wait time\n",
      "429\n",
      "try 10 second wait time\n",
      "429\n",
      "try 10 second wait time\n",
      "429\n",
      "try 10 second wait time\n",
      "429\n",
      "try 10 second wait time\n",
      "429\n",
      "try 10 second wait time\n",
      "429\n",
      "try 10 second wait time\n",
      "429\n",
      "try 10 second wait time\n",
      "429\n",
      "try 10 second wait time\n",
      "429\n",
      "try 10 second wait time\n",
      "200\n",
      "total wait time :  102.51140522956848\n",
      "recovery api cost\n"
     ]
    },
    {
     "name": "stderr",
     "output_type": "stream",
     "text": [
      "\r",
      "  3%|▉                                | 290/10000 [6:11:13<219:37:48, 81.43s/it]"
     ]
    },
    {
     "name": "stdout",
     "output_type": "stream",
     "text": [
      "KR_5733623161의 데이터 수집이 완료되었습니다\n",
      "KR_5733623308의 데이터 수집을 시작합니다.\n",
      "api cost full : infinite loop start\n",
      "try 10 second wait time\n",
      "429\n",
      "try 10 second wait time\n",
      "429\n",
      "try 10 second wait time\n",
      "429\n",
      "try 10 second wait time\n",
      "429\n",
      "try 10 second wait time\n",
      "429\n",
      "try 10 second wait time\n",
      "429\n",
      "try 10 second wait time\n",
      "429\n",
      "try 10 second wait time\n",
      "429\n",
      "try 10 second wait time\n",
      "429\n",
      "try 10 second wait time\n",
      "429\n",
      "try 10 second wait time\n",
      "200\n",
      "total wait time :  112.81977701187134\n",
      "recovery api cost\n"
     ]
    },
    {
     "name": "stderr",
     "output_type": "stream",
     "text": [
      "\r",
      "  3%|▉                                | 291/10000 [6:13:18<255:20:04, 94.68s/it]"
     ]
    },
    {
     "name": "stdout",
     "output_type": "stream",
     "text": [
      "KR_5733623308의 데이터 수집이 완료되었습니다\n",
      "KR_5733623382의 데이터 수집을 시작합니다.\n"
     ]
    },
    {
     "name": "stderr",
     "output_type": "stream",
     "text": [
      "\r",
      "  3%|▉                                | 292/10000 [6:13:26<185:00:34, 68.61s/it]"
     ]
    },
    {
     "name": "stdout",
     "output_type": "stream",
     "text": [
      "KR_5733624389의 데이터 수집을 시작합니다.\n",
      "api cost full : infinite loop start\n",
      "try 10 second wait time\n",
      "429\n",
      "try 10 second wait time\n",
      "429\n",
      "try 10 second wait time\n",
      "429\n",
      "try 10 second wait time\n",
      "429\n",
      "try 10 second wait time\n",
      "429\n",
      "try 10 second wait time\n",
      "429\n",
      "try 10 second wait time\n",
      "429\n",
      "try 10 second wait time\n",
      "429\n",
      "try 10 second wait time\n",
      "429\n",
      "try 10 second wait time\n",
      "200\n",
      "total wait time :  102.642404794693\n",
      "recovery api cost\n"
     ]
    },
    {
     "name": "stderr",
     "output_type": "stream",
     "text": [
      "\r",
      "  3%|▉                                | 293/10000 [6:15:22<223:00:53, 82.71s/it]"
     ]
    },
    {
     "name": "stdout",
     "output_type": "stream",
     "text": [
      "KR_5733624389의 데이터 수집이 완료되었습니다\n",
      "KR_5733625352의 데이터 수집을 시작합니다.\n"
     ]
    },
    {
     "name": "stderr",
     "output_type": "stream",
     "text": [
      "\r",
      "  3%|▉                                | 294/10000 [6:15:25<158:58:10, 58.96s/it]"
     ]
    },
    {
     "name": "stdout",
     "output_type": "stream",
     "text": [
      "KR_5733626334의 데이터 수집을 시작합니다.\n",
      "api cost full : infinite loop start\n",
      "try 10 second wait time\n",
      "429\n",
      "try 10 second wait time\n",
      "429\n",
      "try 10 second wait time\n",
      "429\n",
      "try 10 second wait time\n",
      "429\n",
      "try 10 second wait time\n",
      "429\n",
      "try 10 second wait time\n",
      "429\n",
      "try 10 second wait time\n",
      "429\n",
      "try 10 second wait time\n",
      "429\n",
      "try 10 second wait time\n",
      "429\n",
      "try 10 second wait time\n",
      "429\n",
      "try 10 second wait time\n",
      "200\n",
      "total wait time :  112.81313705444336\n",
      "recovery api cost\n"
     ]
    },
    {
     "name": "stderr",
     "output_type": "stream",
     "text": [
      "\r",
      "  3%|▉                                | 295/10000 [6:17:32<213:15:09, 79.10s/it]"
     ]
    },
    {
     "name": "stdout",
     "output_type": "stream",
     "text": [
      "KR_5733626334의 데이터 수집이 완료되었습니다\n",
      "KR_5733628588의 데이터 수집을 시작합니다.\n"
     ]
    },
    {
     "name": "stderr",
     "output_type": "stream",
     "text": [
      "\r",
      "  3%|▉                                | 296/10000 [6:17:36<152:33:47, 56.60s/it]"
     ]
    },
    {
     "name": "stdout",
     "output_type": "stream",
     "text": [
      "KR_5733631609의 데이터 수집을 시작합니다.\n",
      "api cost full : infinite loop start\n",
      "try 10 second wait time\n",
      "429\n",
      "try 10 second wait time\n",
      "429\n",
      "try 10 second wait time\n",
      "429\n",
      "try 10 second wait time\n",
      "429\n",
      "try 10 second wait time\n",
      "429\n",
      "try 10 second wait time\n",
      "429\n",
      "try 10 second wait time\n",
      "429\n",
      "try 10 second wait time\n",
      "429\n",
      "try 10 second wait time\n",
      "429\n",
      "try 10 second wait time\n",
      "200\n",
      "total wait time :  103.1050398349762\n",
      "recovery api cost\n"
     ]
    },
    {
     "name": "stderr",
     "output_type": "stream",
     "text": [
      "\r",
      "  3%|▉                                | 297/10000 [6:19:33<201:26:58, 74.74s/it]"
     ]
    },
    {
     "name": "stdout",
     "output_type": "stream",
     "text": [
      "KR_5733631609의 데이터 수집이 완료되었습니다\n",
      "KR_5733632678의 데이터 수집을 시작합니다.\n"
     ]
    },
    {
     "name": "stderr",
     "output_type": "stream",
     "text": [
      "\r",
      "  3%|▉                                | 298/10000 [6:19:37<144:31:17, 53.63s/it]"
     ]
    },
    {
     "name": "stdout",
     "output_type": "stream",
     "text": [
      "KR_5733632717의 데이터 수집을 시작합니다.\n",
      "api cost full : infinite loop start\n",
      "try 10 second wait time\n",
      "429\n",
      "try 10 second wait time\n",
      "429\n",
      "try 10 second wait time\n",
      "429\n",
      "try 10 second wait time\n",
      "429\n",
      "try 10 second wait time\n",
      "429\n",
      "try 10 second wait time\n",
      "429\n",
      "try 10 second wait time\n",
      "429\n",
      "try 10 second wait time\n",
      "429\n",
      "try 10 second wait time\n",
      "429\n",
      "try 10 second wait time\n",
      "200\n",
      "total wait time :  102.47015404701233\n",
      "recovery api cost\n"
     ]
    },
    {
     "name": "stderr",
     "output_type": "stream",
     "text": [
      "\r",
      "  3%|▉                                | 299/10000 [6:21:33<194:36:53, 72.22s/it]"
     ]
    },
    {
     "name": "stdout",
     "output_type": "stream",
     "text": [
      "KR_5733632717의 데이터 수집이 완료되었습니다\n",
      "KR_5733634133의 데이터 수집을 시작합니다.\n"
     ]
    },
    {
     "name": "stderr",
     "output_type": "stream",
     "text": [
      "\r",
      "  3%|▉                                | 300/10000 [6:21:36<139:20:17, 51.71s/it]"
     ]
    },
    {
     "name": "stdout",
     "output_type": "stream",
     "text": [
      "KR_5733634810의 데이터 수집을 시작합니다.\n",
      "api cost full : infinite loop start\n",
      "try 10 second wait time\n",
      "429\n",
      "try 10 second wait time\n",
      "429\n",
      "try 10 second wait time\n",
      "429\n",
      "try 10 second wait time\n",
      "429\n",
      "try 10 second wait time\n",
      "429\n",
      "try 10 second wait time\n",
      "429\n",
      "try 10 second wait time\n",
      "429\n",
      "try 10 second wait time\n",
      "429\n",
      "try 10 second wait time\n",
      "429\n",
      "try 10 second wait time\n",
      "429\n",
      "try 10 second wait time\n",
      "200\n",
      "total wait time :  112.76142692565918\n",
      "recovery api cost\n"
     ]
    },
    {
     "name": "stderr",
     "output_type": "stream",
     "text": [
      "\r",
      "  3%|▉                                | 301/10000 [6:23:42<199:04:48, 73.89s/it]"
     ]
    },
    {
     "name": "stdout",
     "output_type": "stream",
     "text": [
      "KR_5733634810의 데이터 수집이 완료되었습니다\n",
      "KR_5733634868의 데이터 수집을 시작합니다.\n"
     ]
    },
    {
     "name": "stderr",
     "output_type": "stream",
     "text": [
      "\r",
      "  3%|▉                                | 302/10000 [6:23:46<142:09:51, 52.77s/it]"
     ]
    },
    {
     "name": "stdout",
     "output_type": "stream",
     "text": [
      "KR_5733634952의 데이터 수집을 시작합니다.\n",
      "api cost full : infinite loop start\n",
      "try 10 second wait time\n",
      "429\n",
      "try 10 second wait time\n",
      "429\n",
      "try 10 second wait time\n",
      "429\n",
      "try 10 second wait time\n",
      "429\n",
      "try 10 second wait time\n",
      "429\n",
      "try 10 second wait time\n",
      "429\n",
      "try 10 second wait time\n",
      "429\n",
      "try 10 second wait time\n",
      "429\n",
      "try 10 second wait time\n",
      "429\n",
      "try 10 second wait time\n",
      "429\n",
      "try 10 second wait time\n",
      "200\n",
      "total wait time :  112.91030192375183\n",
      "recovery api cost\n"
     ]
    },
    {
     "name": "stderr",
     "output_type": "stream",
     "text": [
      "\r",
      "  3%|▉                                | 303/10000 [6:25:51<200:58:28, 74.61s/it]"
     ]
    },
    {
     "name": "stdout",
     "output_type": "stream",
     "text": [
      "KR_5733634952의 데이터 수집이 완료되었습니다\n",
      "KR_5733635118의 데이터 수집을 시작합니다.\n",
      "api cost full : infinite loop start\n",
      "try 10 second wait time\n",
      "429\n",
      "try 10 second wait time\n",
      "429\n",
      "try 10 second wait time\n",
      "429\n",
      "try 10 second wait time\n",
      "429\n",
      "try 10 second wait time\n",
      "429\n",
      "try 10 second wait time\n",
      "429\n",
      "try 10 second wait time\n",
      "429\n",
      "try 10 second wait time\n",
      "429\n",
      "try 10 second wait time\n",
      "429\n",
      "try 10 second wait time\n",
      "429\n",
      "try 10 second wait time\n",
      "200\n",
      "total wait time :  113.04620385169983\n",
      "recovery api cost\n"
     ]
    },
    {
     "name": "stderr",
     "output_type": "stream",
     "text": [
      "\r",
      "  3%|█                                | 304/10000 [6:27:57<242:25:33, 90.01s/it]"
     ]
    },
    {
     "name": "stdout",
     "output_type": "stream",
     "text": [
      "KR_5733635118의 데이터 수집이 완료되었습니다\n",
      "KR_5733635265의 데이터 수집을 시작합니다.\n"
     ]
    },
    {
     "name": "stderr",
     "output_type": "stream",
     "text": [
      "\r",
      "  3%|█                                | 305/10000 [6:28:05<176:06:04, 65.39s/it]"
     ]
    },
    {
     "name": "stdout",
     "output_type": "stream",
     "text": [
      "KR_5733635849의 데이터 수집을 시작합니다.\n",
      "api cost full : infinite loop start\n",
      "try 10 second wait time\n",
      "429\n",
      "try 10 second wait time\n",
      "429\n",
      "try 10 second wait time\n",
      "429\n",
      "try 10 second wait time\n",
      "429\n",
      "try 10 second wait time\n",
      "429\n",
      "try 10 second wait time\n",
      "429\n",
      "try 10 second wait time\n",
      "429\n",
      "try 10 second wait time\n",
      "429\n",
      "try 10 second wait time\n",
      "429\n",
      "try 10 second wait time\n",
      "200\n",
      "total wait time :  102.51172184944153\n",
      "recovery api cost\n"
     ]
    },
    {
     "name": "stderr",
     "output_type": "stream",
     "text": [
      "\r",
      "  3%|█                                | 306/10000 [6:30:01<216:40:09, 80.46s/it]"
     ]
    },
    {
     "name": "stdout",
     "output_type": "stream",
     "text": [
      "KR_5733635849의 데이터 수집이 완료되었습니다\n",
      "KR_5733636599의 데이터 수집을 시작합니다.\n",
      "api cost full : infinite loop start\n",
      "try 10 second wait time\n",
      "429\n",
      "try 10 second wait time\n",
      "429\n",
      "try 10 second wait time\n",
      "429\n",
      "try 10 second wait time\n",
      "429\n",
      "try 10 second wait time\n",
      "429\n",
      "try 10 second wait time\n",
      "429\n",
      "try 10 second wait time\n",
      "429\n",
      "try 10 second wait time\n",
      "429\n",
      "try 10 second wait time\n",
      "429\n",
      "try 10 second wait time\n",
      "200\n",
      "total wait time :  102.46649479866028\n",
      "recovery api cost\n"
     ]
    },
    {
     "name": "stderr",
     "output_type": "stream",
     "text": [
      "\r",
      "  3%|█                                | 307/10000 [6:31:59<247:21:57, 91.87s/it]"
     ]
    },
    {
     "name": "stdout",
     "output_type": "stream",
     "text": [
      "KR_5733636599의 데이터 수집이 완료되었습니다\n",
      "KR_5733637327의 데이터 수집을 시작합니다.\n",
      "api cost full : infinite loop start\n",
      "try 10 second wait time\n",
      "429\n",
      "try 10 second wait time\n",
      "429\n",
      "try 10 second wait time\n",
      "429\n",
      "try 10 second wait time\n",
      "429\n",
      "try 10 second wait time\n",
      "429\n",
      "try 10 second wait time\n",
      "429\n",
      "try 10 second wait time\n",
      "429\n",
      "try 10 second wait time\n",
      "429\n",
      "try 10 second wait time\n",
      "429\n",
      "try 10 second wait time\n",
      "429\n",
      "try 10 second wait time\n",
      "200\n",
      "total wait time :  113.14774703979492\n",
      "recovery api cost\n"
     ]
    },
    {
     "name": "stderr",
     "output_type": "stream",
     "text": [
      "\r",
      "  3%|▉                               | 308/10000 [6:34:05<274:53:58, 102.11s/it]"
     ]
    },
    {
     "name": "stdout",
     "output_type": "stream",
     "text": [
      "KR_5733637327의 데이터 수집이 완료되었습니다\n",
      "KR_5733639498의 데이터 수집을 시작합니다.\n"
     ]
    },
    {
     "name": "stderr",
     "output_type": "stream",
     "text": [
      "\r",
      "  3%|█                                | 309/10000 [6:34:18<202:44:14, 75.31s/it]"
     ]
    },
    {
     "name": "stdout",
     "output_type": "stream",
     "text": [
      "KR_5733639498의 데이터 수집이 완료되었습니다\n",
      "KR_5733640309의 데이터 수집을 시작합니다.\n",
      "api cost full : infinite loop start\n",
      "try 10 second wait time\n",
      "429\n",
      "try 10 second wait time\n",
      "429\n",
      "try 10 second wait time\n",
      "429\n",
      "try 10 second wait time\n",
      "429\n",
      "try 10 second wait time\n",
      "429\n",
      "try 10 second wait time\n",
      "429\n",
      "try 10 second wait time\n",
      "429\n",
      "try 10 second wait time\n",
      "429\n",
      "try 10 second wait time\n",
      "429\n",
      "try 10 second wait time\n",
      "429\n",
      "try 10 second wait time\n",
      "200\n",
      "total wait time :  113.70670890808105\n",
      "recovery api cost\n"
     ]
    },
    {
     "name": "stderr",
     "output_type": "stream",
     "text": [
      "\r",
      "  3%|█                                | 310/10000 [6:36:25<244:37:17, 90.88s/it]"
     ]
    },
    {
     "name": "stdout",
     "output_type": "stream",
     "text": [
      "KR_5733640309의 데이터 수집이 완료되었습니다\n",
      "KR_5733640987의 데이터 수집을 시작합니다.\n",
      "api cost full : infinite loop start\n",
      "try 10 second wait time\n",
      "429\n",
      "try 10 second wait time\n",
      "429\n",
      "try 10 second wait time\n",
      "429\n",
      "try 10 second wait time\n",
      "429\n",
      "try 10 second wait time\n",
      "429\n",
      "try 10 second wait time\n",
      "429\n",
      "try 10 second wait time\n",
      "429\n",
      "try 10 second wait time\n",
      "429\n",
      "try 10 second wait time\n",
      "429\n",
      "try 10 second wait time\n",
      "429\n",
      "try 10 second wait time\n",
      "200\n",
      "total wait time :  112.80402421951294\n",
      "recovery api cost\n"
     ]
    },
    {
     "name": "stderr",
     "output_type": "stream",
     "text": [
      "\r",
      "  3%|▉                               | 311/10000 [6:38:31<272:59:03, 101.43s/it]"
     ]
    },
    {
     "name": "stdout",
     "output_type": "stream",
     "text": [
      "KR_5733640987의 데이터 수집이 완료되었습니다\n",
      "KR_5733641223의 데이터 수집을 시작합니다.\n"
     ]
    },
    {
     "name": "stderr",
     "output_type": "stream",
     "text": [
      "\r",
      "  3%|█                                | 312/10000 [6:38:39<197:25:29, 73.36s/it]"
     ]
    },
    {
     "name": "stdout",
     "output_type": "stream",
     "text": [
      "KR_5733643558의 데이터 수집을 시작합니다.\n",
      "api cost full : infinite loop start\n",
      "try 10 second wait time\n",
      "429\n",
      "try 10 second wait time\n",
      "429\n",
      "try 10 second wait time\n",
      "429\n",
      "try 10 second wait time\n",
      "429\n",
      "try 10 second wait time\n",
      "429\n",
      "try 10 second wait time\n",
      "429\n",
      "try 10 second wait time\n",
      "429\n",
      "try 10 second wait time\n",
      "429\n",
      "try 10 second wait time\n",
      "429\n",
      "try 10 second wait time\n",
      "200\n",
      "total wait time :  102.65053820610046\n",
      "recovery api cost\n"
     ]
    },
    {
     "name": "stderr",
     "output_type": "stream",
     "text": [
      "\r",
      "  3%|█                                | 313/10000 [6:40:35<231:49:09, 86.15s/it]"
     ]
    },
    {
     "name": "stdout",
     "output_type": "stream",
     "text": [
      "KR_5733643558의 데이터 수집이 완료되었습니다\n",
      "KR_5733644232의 데이터 수집을 시작합니다.\n"
     ]
    },
    {
     "name": "stderr",
     "output_type": "stream",
     "text": [
      "\r",
      "  3%|█                                | 314/10000 [6:40:43<168:32:10, 62.64s/it]"
     ]
    },
    {
     "name": "stdout",
     "output_type": "stream",
     "text": [
      "KR_5733644929의 데이터 수집을 시작합니다.\n",
      "api cost full : infinite loop start\n",
      "try 10 second wait time\n",
      "429\n",
      "try 10 second wait time\n",
      "429\n",
      "try 10 second wait time\n",
      "429\n",
      "try 10 second wait time\n",
      "429\n",
      "try 10 second wait time\n",
      "429\n",
      "try 10 second wait time\n",
      "429\n",
      "try 10 second wait time\n",
      "429\n",
      "try 10 second wait time\n",
      "429\n",
      "try 10 second wait time\n",
      "429\n",
      "try 10 second wait time\n",
      "200\n",
      "total wait time :  102.58262586593628\n",
      "recovery api cost\n"
     ]
    },
    {
     "name": "stderr",
     "output_type": "stream",
     "text": [
      "\r",
      "  3%|█                                | 315/10000 [6:42:38<211:01:48, 78.44s/it]"
     ]
    },
    {
     "name": "stdout",
     "output_type": "stream",
     "text": [
      "KR_5733644929의 데이터 수집이 완료되었습니다\n",
      "KR_5733644939의 데이터 수집을 시작합니다.\n",
      "api cost full : infinite loop start\n",
      "try 10 second wait time\n",
      "429\n",
      "try 10 second wait time\n",
      "429\n",
      "try 10 second wait time\n",
      "429\n",
      "try 10 second wait time\n",
      "429\n",
      "try 10 second wait time\n",
      "429\n",
      "try 10 second wait time\n",
      "429\n",
      "try 10 second wait time\n",
      "429\n",
      "try 10 second wait time\n",
      "429\n",
      "try 10 second wait time\n",
      "429\n",
      "try 10 second wait time\n",
      "429\n",
      "try 10 second wait time\n",
      "200\n",
      "total wait time :  112.72079825401306\n",
      "recovery api cost\n"
     ]
    },
    {
     "name": "stderr",
     "output_type": "stream",
     "text": [
      "\r",
      "  3%|█                                | 316/10000 [6:44:44<248:56:12, 92.54s/it]"
     ]
    },
    {
     "name": "stdout",
     "output_type": "stream",
     "text": [
      "KR_5733644939의 데이터 수집이 완료되었습니다\n",
      "KR_5733645586의 데이터 수집을 시작합니다.\n"
     ]
    },
    {
     "name": "stderr",
     "output_type": "stream",
     "text": [
      "\r",
      "  3%|█                                | 317/10000 [6:44:51<180:30:23, 67.11s/it]"
     ]
    },
    {
     "name": "stdout",
     "output_type": "stream",
     "text": [
      "KR_5733645688의 데이터 수집을 시작합니다.\n",
      "api cost full : infinite loop start\n",
      "try 10 second wait time\n",
      "429\n",
      "try 10 second wait time\n",
      "429\n",
      "try 10 second wait time\n",
      "429\n",
      "try 10 second wait time\n",
      "429\n",
      "try 10 second wait time\n",
      "429\n",
      "try 10 second wait time\n",
      "429\n",
      "try 10 second wait time\n",
      "429\n",
      "try 10 second wait time\n",
      "429\n",
      "try 10 second wait time\n",
      "429\n",
      "try 10 second wait time\n",
      "429\n",
      "try 10 second wait time\n",
      "200\n",
      "total wait time :  112.7977967262268\n",
      "recovery api cost\n"
     ]
    },
    {
     "name": "stderr",
     "output_type": "stream",
     "text": [
      "\r",
      "  3%|█                                | 318/10000 [6:46:57<227:54:18, 84.74s/it]"
     ]
    },
    {
     "name": "stdout",
     "output_type": "stream",
     "text": [
      "KR_5733645688의 데이터 수집이 완료되었습니다\n",
      "KR_5733646871의 데이터 수집을 시작합니다.\n",
      "api cost full : infinite loop start\n",
      "try 10 second wait time\n",
      "429\n",
      "try 10 second wait time\n",
      "429\n",
      "try 10 second wait time\n",
      "429\n",
      "try 10 second wait time\n",
      "429\n",
      "try 10 second wait time\n",
      "429\n",
      "try 10 second wait time\n",
      "429\n",
      "try 10 second wait time\n",
      "429\n",
      "try 10 second wait time\n",
      "429\n",
      "try 10 second wait time\n",
      "429\n",
      "try 10 second wait time\n",
      "429\n",
      "try 10 second wait time\n",
      "200\n",
      "total wait time :  112.80597615242004\n",
      "recovery api cost\n"
     ]
    },
    {
     "name": "stderr",
     "output_type": "stream",
     "text": [
      "\r",
      "  3%|█                                | 319/10000 [6:49:03<261:01:46, 97.07s/it]"
     ]
    },
    {
     "name": "stdout",
     "output_type": "stream",
     "text": [
      "KR_5733646871의 데이터 수집이 완료되었습니다\n",
      "KR_5733648350의 데이터 수집을 시작합니다.\n"
     ]
    },
    {
     "name": "stderr",
     "output_type": "stream",
     "text": [
      "\r",
      "  3%|█                                | 320/10000 [6:49:10<188:32:13, 70.12s/it]"
     ]
    },
    {
     "name": "stdout",
     "output_type": "stream",
     "text": [
      "KR_5733649213의 데이터 수집을 시작합니다.\n",
      "api cost full : infinite loop start\n",
      "try 10 second wait time\n",
      "429\n",
      "try 10 second wait time\n",
      "429\n",
      "try 10 second wait time\n",
      "429\n",
      "try 10 second wait time\n",
      "429\n",
      "try 10 second wait time\n",
      "429\n",
      "try 10 second wait time\n",
      "429\n",
      "try 10 second wait time\n",
      "429\n",
      "try 10 second wait time\n",
      "429\n",
      "try 10 second wait time\n",
      "429\n",
      "try 10 second wait time\n",
      "200\n",
      "total wait time :  102.66604018211365\n",
      "recovery api cost\n"
     ]
    },
    {
     "name": "stderr",
     "output_type": "stream",
     "text": [
      "\r",
      "  3%|█                                | 321/10000 [6:51:06<225:31:15, 83.88s/it]"
     ]
    },
    {
     "name": "stdout",
     "output_type": "stream",
     "text": [
      "KR_5733649213의 데이터 수집이 완료되었습니다\n",
      "KR_5733650053의 데이터 수집을 시작합니다.\n",
      "api cost full : infinite loop start\n",
      "try 10 second wait time\n",
      "429\n",
      "try 10 second wait time\n",
      "429\n",
      "try 10 second wait time\n",
      "429\n",
      "try 10 second wait time\n",
      "429\n",
      "try 10 second wait time\n",
      "429\n",
      "try 10 second wait time\n",
      "429\n",
      "try 10 second wait time\n",
      "429\n",
      "try 10 second wait time\n",
      "429\n",
      "try 10 second wait time\n",
      "429\n",
      "try 10 second wait time\n",
      "200\n",
      "total wait time :  102.43392491340637\n",
      "recovery api cost\n"
     ]
    },
    {
     "name": "stderr",
     "output_type": "stream",
     "text": [
      "\r",
      "  3%|█                                | 322/10000 [6:53:02<251:04:08, 93.39s/it]"
     ]
    },
    {
     "name": "stdout",
     "output_type": "stream",
     "text": [
      "KR_5733650053의 데이터 수집이 완료되었습니다\n",
      "KR_5733650113의 데이터 수집을 시작합니다.\n"
     ]
    },
    {
     "name": "stderr",
     "output_type": "stream",
     "text": [
      "\r",
      "  3%|█                                | 323/10000 [6:53:13<184:56:58, 68.80s/it]"
     ]
    },
    {
     "name": "stdout",
     "output_type": "stream",
     "text": [
      "KR_5733650321의 데이터 수집을 시작합니다.\n",
      "api cost full : infinite loop start\n",
      "try 10 second wait time\n",
      "429\n",
      "try 10 second wait time\n",
      "429\n",
      "try 10 second wait time\n",
      "429\n",
      "try 10 second wait time\n",
      "429\n",
      "try 10 second wait time\n",
      "429\n",
      "try 10 second wait time\n",
      "429\n",
      "try 10 second wait time\n",
      "429\n",
      "try 10 second wait time\n",
      "429\n",
      "try 10 second wait time\n",
      "429\n",
      "try 10 second wait time\n",
      "200\n",
      "total wait time :  102.68769001960754\n",
      "recovery api cost\n"
     ]
    },
    {
     "name": "stderr",
     "output_type": "stream",
     "text": [
      "\r",
      "  3%|█                                | 324/10000 [6:55:09<222:47:49, 82.89s/it]"
     ]
    },
    {
     "name": "stdout",
     "output_type": "stream",
     "text": [
      "KR_5733650321의 데이터 수집이 완료되었습니다\n",
      "KR_5733650823의 데이터 수집을 시작합니다.\n",
      "api cost full : infinite loop start\n",
      "try 10 second wait time\n",
      "429\n",
      "try 10 second wait time\n",
      "429\n",
      "try 10 second wait time\n",
      "429\n",
      "try 10 second wait time\n",
      "429\n",
      "try 10 second wait time\n",
      "429\n",
      "try 10 second wait time\n",
      "429\n",
      "try 10 second wait time\n",
      "429\n",
      "try 10 second wait time\n",
      "429\n",
      "try 10 second wait time\n",
      "429\n",
      "try 10 second wait time\n",
      "200\n",
      "total wait time :  102.49706292152405\n",
      "recovery api cost\n"
     ]
    },
    {
     "name": "stderr",
     "output_type": "stream",
     "text": [
      "\r",
      "  3%|█                                | 325/10000 [6:57:05<249:18:43, 92.77s/it]"
     ]
    },
    {
     "name": "stdout",
     "output_type": "stream",
     "text": [
      "KR_5733650823의 데이터 수집이 완료되었습니다\n",
      "KR_5733651612의 데이터 수집을 시작합니다.\n",
      "api cost full : infinite loop start\n",
      "try 10 second wait time\n",
      "429\n",
      "try 10 second wait time\n",
      "429\n",
      "try 10 second wait time\n",
      "429\n",
      "try 10 second wait time\n",
      "429\n",
      "try 10 second wait time\n",
      "429\n",
      "try 10 second wait time\n",
      "429\n",
      "try 10 second wait time\n",
      "429\n",
      "try 10 second wait time\n",
      "429\n",
      "try 10 second wait time\n",
      "429\n",
      "try 10 second wait time\n",
      "429\n",
      "try 10 second wait time\n",
      "200\n",
      "total wait time :  112.91481971740723\n",
      "recovery api cost\n"
     ]
    },
    {
     "name": "stderr",
     "output_type": "stream",
     "text": [
      "\r",
      "  3%|█                               | 326/10000 [6:59:12<276:34:11, 102.92s/it]"
     ]
    },
    {
     "name": "stdout",
     "output_type": "stream",
     "text": [
      "KR_5733651612의 데이터 수집이 완료되었습니다\n",
      "KR_5733652902의 데이터 수집을 시작합니다.\n"
     ]
    },
    {
     "name": "stderr",
     "output_type": "stream",
     "text": [
      "\r",
      "  3%|█                                | 327/10000 [6:59:24<203:49:36, 75.86s/it]"
     ]
    },
    {
     "name": "stdout",
     "output_type": "stream",
     "text": [
      "KR_5733652902의 데이터 수집이 완료되었습니다\n",
      "KR_5733653137의 데이터 수집을 시작합니다.\n"
     ]
    },
    {
     "name": "stderr",
     "output_type": "stream",
     "text": [
      "\r",
      "  3%|█                                | 328/10000 [6:59:27<144:33:22, 53.81s/it]"
     ]
    },
    {
     "name": "stdout",
     "output_type": "stream",
     "text": [
      "KR_5733653499의 데이터 수집을 시작합니다.\n",
      "api cost full : infinite loop start\n",
      "try 10 second wait time\n",
      "429\n",
      "try 10 second wait time\n",
      "429\n",
      "try 10 second wait time\n",
      "429\n",
      "try 10 second wait time\n",
      "429\n",
      "try 10 second wait time\n",
      "429\n",
      "try 10 second wait time\n",
      "429\n",
      "try 10 second wait time\n",
      "429\n",
      "try 10 second wait time\n",
      "429\n",
      "try 10 second wait time\n",
      "429\n",
      "try 10 second wait time\n",
      "200\n",
      "total wait time :  102.80897212028503\n",
      "recovery api cost\n"
     ]
    },
    {
     "name": "stderr",
     "output_type": "stream",
     "text": [
      "\r",
      "  3%|█                                | 329/10000 [7:01:22<194:15:22, 72.31s/it]"
     ]
    },
    {
     "name": "stdout",
     "output_type": "stream",
     "text": [
      "KR_5733653499의 데이터 수집이 완료되었습니다\n",
      "KR_5733653987의 데이터 수집을 시작합니다.\n",
      "api cost full : infinite loop start\n",
      "try 10 second wait time\n",
      "429\n",
      "try 10 second wait time\n",
      "429\n",
      "try 10 second wait time\n",
      "429\n",
      "try 10 second wait time\n",
      "429\n",
      "try 10 second wait time\n",
      "429\n",
      "try 10 second wait time\n",
      "429\n",
      "try 10 second wait time\n",
      "429\n",
      "try 10 second wait time\n",
      "429\n",
      "try 10 second wait time\n",
      "429\n",
      "try 10 second wait time\n",
      "429\n",
      "try 10 second wait time\n",
      "200\n",
      "total wait time :  112.8425440788269\n",
      "recovery api cost\n"
     ]
    },
    {
     "name": "stderr",
     "output_type": "stream",
     "text": [
      "\r",
      "  3%|█                                | 330/10000 [7:03:28<237:28:38, 88.41s/it]"
     ]
    },
    {
     "name": "stdout",
     "output_type": "stream",
     "text": [
      "KR_5733653987의 데이터 수집이 완료되었습니다\n",
      "KR_5733654428의 데이터 수집을 시작합니다.\n",
      "api cost full : infinite loop start\n",
      "try 10 second wait time\n",
      "429\n",
      "try 10 second wait time\n",
      "429\n",
      "try 10 second wait time\n",
      "429\n",
      "try 10 second wait time\n",
      "429\n",
      "try 10 second wait time\n",
      "429\n",
      "try 10 second wait time\n",
      "429\n",
      "try 10 second wait time\n",
      "429\n",
      "try 10 second wait time\n",
      "429\n",
      "try 10 second wait time\n",
      "429\n",
      "try 10 second wait time\n",
      "429\n",
      "try 10 second wait time\n",
      "200\n",
      "total wait time :  112.9353768825531\n",
      "recovery api cost\n"
     ]
    },
    {
     "name": "stderr",
     "output_type": "stream",
     "text": [
      "\r",
      "  3%|█                                | 331/10000 [7:05:34<267:41:56, 99.67s/it]"
     ]
    },
    {
     "name": "stdout",
     "output_type": "stream",
     "text": [
      "KR_5733654428의 데이터 수집이 완료되었습니다\n",
      "KR_5733655901의 데이터 수집을 시작합니다.\n",
      "api cost full : infinite loop start\n",
      "try 10 second wait time\n",
      "429\n",
      "try 10 second wait time\n",
      "429\n",
      "try 10 second wait time\n",
      "429\n",
      "try 10 second wait time\n",
      "429\n",
      "try 10 second wait time\n",
      "429\n",
      "try 10 second wait time\n",
      "429\n",
      "try 10 second wait time\n",
      "429\n",
      "try 10 second wait time\n",
      "429\n",
      "try 10 second wait time\n",
      "429\n",
      "try 10 second wait time\n",
      "429\n",
      "try 10 second wait time\n",
      "200\n",
      "total wait time :  112.83004188537598\n",
      "recovery api cost\n"
     ]
    },
    {
     "name": "stderr",
     "output_type": "stream",
     "text": [
      "\r",
      "  3%|█                               | 332/10000 [7:07:40<289:00:01, 107.61s/it]"
     ]
    },
    {
     "name": "stdout",
     "output_type": "stream",
     "text": [
      "KR_5733655901의 데이터 수집이 완료되었습니다\n",
      "KR_5733657047의 데이터 수집을 시작합니다.\n"
     ]
    },
    {
     "name": "stderr",
     "output_type": "stream",
     "text": [
      "\r",
      "  3%|█                                | 333/10000 [7:07:53<212:52:09, 79.27s/it]"
     ]
    },
    {
     "name": "stdout",
     "output_type": "stream",
     "text": [
      "KR_5733657047의 데이터 수집이 완료되었습니다\n",
      "KR_5733658544의 데이터 수집을 시작합니다.\n",
      "api cost full : infinite loop start\n",
      "try 10 second wait time\n",
      "429\n",
      "try 10 second wait time\n",
      "429\n",
      "try 10 second wait time\n",
      "429\n",
      "try 10 second wait time\n",
      "429\n",
      "try 10 second wait time\n",
      "429\n",
      "try 10 second wait time\n",
      "429\n",
      "try 10 second wait time\n",
      "429\n",
      "try 10 second wait time\n",
      "429\n",
      "try 10 second wait time\n",
      "429\n",
      "try 10 second wait time\n",
      "429\n",
      "try 10 second wait time\n",
      "200\n",
      "total wait time :  112.96033096313477\n",
      "recovery api cost\n"
     ]
    },
    {
     "name": "stderr",
     "output_type": "stream",
     "text": [
      "\r",
      "  3%|█                                | 334/10000 [7:09:58<249:43:29, 93.01s/it]"
     ]
    },
    {
     "name": "stdout",
     "output_type": "stream",
     "text": [
      "KR_5733659237의 데이터 수집을 시작합니다.\n",
      "api cost full : infinite loop start\n",
      "try 10 second wait time\n",
      "429\n",
      "try 10 second wait time\n",
      "429\n",
      "try 10 second wait time\n",
      "429\n",
      "try 10 second wait time\n",
      "429\n",
      "try 10 second wait time\n",
      "429\n",
      "try 10 second wait time\n",
      "429\n",
      "try 10 second wait time\n",
      "429\n",
      "try 10 second wait time\n",
      "429\n",
      "try 10 second wait time\n",
      "429\n",
      "try 10 second wait time\n",
      "200\n",
      "total wait time :  102.49957084655762\n",
      "recovery api cost\n"
     ]
    },
    {
     "name": "stderr",
     "output_type": "stream",
     "text": [
      "\r",
      "  3%|█                                | 335/10000 [7:11:54<267:47:25, 99.75s/it]"
     ]
    },
    {
     "name": "stdout",
     "output_type": "stream",
     "text": [
      "KR_5733659237의 데이터 수집이 완료되었습니다\n",
      "KR_5733659860의 데이터 수집을 시작합니다.\n",
      "api cost full : infinite loop start\n",
      "try 10 second wait time\n",
      "429\n",
      "try 10 second wait time\n",
      "429\n",
      "try 10 second wait time\n",
      "429\n",
      "try 10 second wait time\n",
      "429\n",
      "try 10 second wait time\n",
      "429\n",
      "try 10 second wait time\n",
      "429\n",
      "try 10 second wait time\n",
      "429\n",
      "try 10 second wait time\n",
      "429\n",
      "try 10 second wait time\n",
      "429\n",
      "try 10 second wait time\n",
      "429\n",
      "try 10 second wait time\n",
      "200\n",
      "total wait time :  112.87947487831116\n",
      "recovery api cost\n"
     ]
    },
    {
     "name": "stderr",
     "output_type": "stream",
     "text": [
      "\r",
      "  3%|█                               | 336/10000 [7:14:00<288:38:24, 107.52s/it]"
     ]
    },
    {
     "name": "stdout",
     "output_type": "stream",
     "text": [
      "KR_5733659860의 데이터 수집이 완료되었습니다\n",
      "KR_5733660247의 데이터 수집을 시작합니다.\n"
     ]
    },
    {
     "name": "stderr",
     "output_type": "stream",
     "text": [
      "\r",
      "  3%|█                                | 337/10000 [7:14:06<207:31:05, 77.31s/it]"
     ]
    },
    {
     "name": "stdout",
     "output_type": "stream",
     "text": [
      "KR_5733661120의 데이터 수집을 시작합니다.\n",
      "api cost full : infinite loop start\n",
      "try 10 second wait time\n",
      "429\n",
      "try 10 second wait time\n",
      "429\n",
      "try 10 second wait time\n",
      "429\n",
      "try 10 second wait time\n",
      "429\n",
      "try 10 second wait time\n",
      "429\n",
      "try 10 second wait time\n",
      "429\n",
      "try 10 second wait time\n",
      "429\n",
      "try 10 second wait time\n",
      "429\n",
      "try 10 second wait time\n",
      "429\n",
      "try 10 second wait time\n",
      "429\n",
      "try 10 second wait time\n",
      "200\n",
      "total wait time :  113.13858103752136\n",
      "recovery api cost\n"
     ]
    },
    {
     "name": "stderr",
     "output_type": "stream",
     "text": [
      "\r",
      "  3%|█                                | 338/10000 [7:16:13<246:59:42, 92.03s/it]"
     ]
    },
    {
     "name": "stdout",
     "output_type": "stream",
     "text": [
      "KR_5733661120의 데이터 수집이 완료되었습니다\n",
      "KR_5733661550의 데이터 수집을 시작합니다.\n",
      "api cost full : infinite loop start\n",
      "try 10 second wait time\n",
      "429\n",
      "try 10 second wait time\n",
      "429\n",
      "try 10 second wait time\n",
      "429\n",
      "try 10 second wait time\n",
      "429\n",
      "try 10 second wait time\n",
      "429\n",
      "try 10 second wait time\n",
      "429\n",
      "try 10 second wait time\n",
      "429\n",
      "try 10 second wait time\n",
      "429\n",
      "try 10 second wait time\n",
      "429\n",
      "try 10 second wait time\n",
      "429\n",
      "try 10 second wait time\n",
      "200\n",
      "total wait time :  112.8557858467102\n",
      "recovery api cost\n"
     ]
    },
    {
     "name": "stderr",
     "output_type": "stream",
     "text": [
      "\r",
      "  3%|█                               | 339/10000 [7:18:18<274:01:11, 102.11s/it]"
     ]
    },
    {
     "name": "stdout",
     "output_type": "stream",
     "text": [
      "KR_5733661550의 데이터 수집이 완료되었습니다\n",
      "KR_5733661595의 데이터 수집을 시작합니다.\n",
      "api cost full : infinite loop start\n",
      "try 10 second wait time\n",
      "429\n",
      "try 10 second wait time\n",
      "429\n",
      "try 10 second wait time\n",
      "429\n",
      "try 10 second wait time\n",
      "429\n",
      "try 10 second wait time\n",
      "429\n",
      "try 10 second wait time\n",
      "429\n",
      "try 10 second wait time\n",
      "429\n",
      "try 10 second wait time\n",
      "429\n",
      "try 10 second wait time\n",
      "429\n",
      "try 10 second wait time\n",
      "200\n",
      "total wait time :  102.53059792518616\n",
      "recovery api cost\n"
     ]
    },
    {
     "name": "stderr",
     "output_type": "stream",
     "text": [
      "\r",
      "  3%|█                               | 340/10000 [7:20:16<286:32:57, 106.79s/it]"
     ]
    },
    {
     "name": "stdout",
     "output_type": "stream",
     "text": [
      "KR_5733661595의 데이터 수집이 완료되었습니다\n",
      "KR_5733661971의 데이터 수집을 시작합니다.\n"
     ]
    },
    {
     "name": "stderr",
     "output_type": "stream",
     "text": [
      "\r",
      "  3%|█▏                               | 341/10000 [7:20:29<211:06:50, 78.68s/it]"
     ]
    },
    {
     "name": "stdout",
     "output_type": "stream",
     "text": [
      "KR_5733661971의 데이터 수집이 완료되었습니다\n",
      "KR_5733665757의 데이터 수집을 시작합니다.\n"
     ]
    },
    {
     "name": "stderr",
     "output_type": "stream",
     "text": [
      "\r",
      "  3%|█▏                               | 342/10000 [7:20:31<149:11:20, 55.61s/it]"
     ]
    },
    {
     "name": "stdout",
     "output_type": "stream",
     "text": [
      "KR_5733665987의 데이터 수집을 시작합니다.\n",
      "api cost full : infinite loop start\n",
      "try 10 second wait time\n",
      "429\n",
      "try 10 second wait time\n",
      "429\n",
      "try 10 second wait time\n",
      "429\n",
      "try 10 second wait time\n",
      "429\n",
      "try 10 second wait time\n",
      "429\n",
      "try 10 second wait time\n",
      "429\n",
      "try 10 second wait time\n",
      "429\n",
      "try 10 second wait time\n",
      "429\n",
      "try 10 second wait time\n",
      "429\n",
      "try 10 second wait time\n",
      "200\n",
      "total wait time :  102.64615797996521\n",
      "recovery api cost\n"
     ]
    },
    {
     "name": "stderr",
     "output_type": "stream",
     "text": [
      "\r",
      "  3%|█▏                               | 343/10000 [7:22:27<197:50:33, 73.75s/it]"
     ]
    },
    {
     "name": "stdout",
     "output_type": "stream",
     "text": [
      "KR_5733665987의 데이터 수집이 완료되었습니다\n",
      "KR_5733666007의 데이터 수집을 시작합니다.\n",
      "api cost full : infinite loop start\n",
      "try 10 second wait time\n",
      "429\n",
      "try 10 second wait time\n",
      "429\n",
      "try 10 second wait time\n",
      "429\n",
      "try 10 second wait time\n",
      "429\n",
      "try 10 second wait time\n",
      "429\n",
      "try 10 second wait time\n",
      "429\n",
      "try 10 second wait time\n",
      "429\n",
      "try 10 second wait time\n",
      "429\n",
      "try 10 second wait time\n",
      "429\n",
      "try 10 second wait time\n",
      "429\n",
      "try 10 second wait time\n",
      "200\n",
      "total wait time :  112.9408209323883\n",
      "recovery api cost\n"
     ]
    },
    {
     "name": "stderr",
     "output_type": "stream",
     "text": [
      "\r",
      "  3%|█▏                               | 344/10000 [7:24:34<240:31:56, 89.68s/it]"
     ]
    },
    {
     "name": "stdout",
     "output_type": "stream",
     "text": [
      "KR_5733666007의 데이터 수집이 완료되었습니다\n",
      "KR_5733667149의 데이터 수집을 시작합니다.\n",
      "api cost full : infinite loop start\n",
      "try 10 second wait time\n",
      "429\n",
      "try 10 second wait time\n",
      "429\n",
      "try 10 second wait time\n",
      "429\n",
      "try 10 second wait time\n",
      "429\n",
      "try 10 second wait time\n",
      "429\n",
      "try 10 second wait time\n",
      "429\n",
      "try 10 second wait time\n",
      "429\n",
      "try 10 second wait time\n",
      "429\n",
      "try 10 second wait time\n",
      "429\n",
      "try 10 second wait time\n",
      "429\n",
      "try 10 second wait time\n",
      "200\n",
      "total wait time :  112.72439122200012\n",
      "recovery api cost\n"
     ]
    },
    {
     "name": "stderr",
     "output_type": "stream",
     "text": [
      "\r",
      "  3%|█                               | 345/10000 [7:26:39<269:16:33, 100.40s/it]"
     ]
    },
    {
     "name": "stdout",
     "output_type": "stream",
     "text": [
      "KR_5733667149의 데이터 수집이 완료되었습니다\n",
      "KR_5733668498의 데이터 수집을 시작합니다.\n",
      "api cost full : infinite loop start\n",
      "try 10 second wait time\n",
      "429\n",
      "try 10 second wait time\n",
      "429\n",
      "try 10 second wait time\n",
      "429\n",
      "try 10 second wait time\n",
      "429\n",
      "try 10 second wait time\n",
      "429\n",
      "try 10 second wait time\n",
      "429\n",
      "try 10 second wait time\n",
      "429\n",
      "try 10 second wait time\n",
      "429\n",
      "try 10 second wait time\n",
      "429\n",
      "try 10 second wait time\n",
      "429\n",
      "try 10 second wait time\n",
      "200\n",
      "total wait time :  112.79031586647034\n",
      "recovery api cost\n"
     ]
    },
    {
     "name": "stderr",
     "output_type": "stream",
     "text": [
      "\r",
      "  3%|█                               | 346/10000 [7:28:45<289:38:29, 108.01s/it]"
     ]
    },
    {
     "name": "stdout",
     "output_type": "stream",
     "text": [
      "KR_5733668498의 데이터 수집이 완료되었습니다\n",
      "KR_5733668788의 데이터 수집을 시작합니다.\n"
     ]
    },
    {
     "name": "stderr",
     "output_type": "stream",
     "text": [
      "\r",
      "  3%|█▏                               | 347/10000 [7:28:59<213:36:22, 79.66s/it]"
     ]
    },
    {
     "name": "stdout",
     "output_type": "stream",
     "text": [
      "KR_5733668788의 데이터 수집이 완료되었습니다\n",
      "KR_5733669490의 데이터 수집을 시작합니다.\n",
      "api cost full : infinite loop start\n",
      "try 10 second wait time\n",
      "429\n",
      "try 10 second wait time\n",
      "429\n",
      "try 10 second wait time\n",
      "429\n",
      "try 10 second wait time\n",
      "429\n",
      "try 10 second wait time\n",
      "429\n",
      "try 10 second wait time\n",
      "429\n",
      "try 10 second wait time\n",
      "429\n",
      "try 10 second wait time\n",
      "429\n",
      "try 10 second wait time\n",
      "429\n",
      "try 10 second wait time\n",
      "200\n",
      "total wait time :  102.84870767593384\n",
      "recovery api cost\n"
     ]
    },
    {
     "name": "stderr",
     "output_type": "stream",
     "text": [
      "\r",
      "  3%|█▏                               | 348/10000 [7:30:54<242:39:16, 90.51s/it]"
     ]
    },
    {
     "name": "stdout",
     "output_type": "stream",
     "text": [
      "KR_5733669490의 데이터 수집이 완료되었습니다\n",
      "KR_5733670557의 데이터 수집을 시작합니다.\n"
     ]
    },
    {
     "name": "stderr",
     "output_type": "stream",
     "text": [
      "\r",
      "  3%|█▏                               | 349/10000 [7:30:59<173:12:30, 64.61s/it]"
     ]
    },
    {
     "name": "stdout",
     "output_type": "stream",
     "text": [
      "KR_5733670597의 데이터 수집을 시작합니다.\n",
      "api cost full : infinite loop start\n",
      "try 10 second wait time\n",
      "429\n",
      "try 10 second wait time\n",
      "429\n",
      "try 10 second wait time\n",
      "429\n",
      "try 10 second wait time\n",
      "429\n",
      "try 10 second wait time\n",
      "429\n",
      "try 10 second wait time\n",
      "429\n",
      "try 10 second wait time\n",
      "429\n",
      "try 10 second wait time\n",
      "429\n",
      "try 10 second wait time\n",
      "429\n",
      "try 10 second wait time\n",
      "200\n",
      "total wait time :  102.62601327896118\n",
      "recovery api cost\n"
     ]
    },
    {
     "name": "stderr",
     "output_type": "stream",
     "text": [
      "\r",
      "  4%|█▏                               | 350/10000 [7:32:55<214:44:15, 80.11s/it]"
     ]
    },
    {
     "name": "stdout",
     "output_type": "stream",
     "text": [
      "KR_5733670597의 데이터 수집이 완료되었습니다\n",
      "KR_5733671405의 데이터 수집을 시작합니다.\n",
      "api cost full : infinite loop start\n",
      "try 10 second wait time\n",
      "429\n",
      "try 10 second wait time\n",
      "429\n",
      "try 10 second wait time\n",
      "429\n",
      "try 10 second wait time\n",
      "429\n",
      "try 10 second wait time\n",
      "429\n",
      "try 10 second wait time\n",
      "429\n",
      "try 10 second wait time\n",
      "429\n",
      "try 10 second wait time\n",
      "429\n",
      "try 10 second wait time\n",
      "429\n",
      "try 10 second wait time\n",
      "200\n",
      "total wait time :  102.76152110099792\n",
      "recovery api cost\n"
     ]
    },
    {
     "name": "stderr",
     "output_type": "stream",
     "text": [
      "\r",
      "  4%|█▏                               | 351/10000 [7:34:51<243:26:48, 90.83s/it]"
     ]
    },
    {
     "name": "stdout",
     "output_type": "stream",
     "text": [
      "KR_5733671405의 데이터 수집이 완료되었습니다\n",
      "KR_5733672278의 데이터 수집을 시작합니다.\n"
     ]
    },
    {
     "name": "stderr",
     "output_type": "stream",
     "text": [
      "\r",
      "  4%|█▏                               | 352/10000 [7:35:03<180:03:53, 67.19s/it]"
     ]
    },
    {
     "name": "stdout",
     "output_type": "stream",
     "text": [
      "KR_5733680001의 데이터 수집을 시작합니다.\n",
      "api cost full : infinite loop start\n",
      "try 10 second wait time\n",
      "429\n",
      "try 10 second wait time\n",
      "429\n",
      "try 10 second wait time\n",
      "429\n",
      "try 10 second wait time\n",
      "429\n",
      "try 10 second wait time\n",
      "429\n",
      "try 10 second wait time\n",
      "429\n",
      "try 10 second wait time\n",
      "429\n",
      "try 10 second wait time\n",
      "429\n",
      "try 10 second wait time\n",
      "429\n",
      "try 10 second wait time\n",
      "200\n",
      "total wait time :  102.6568009853363\n",
      "recovery api cost\n"
     ]
    },
    {
     "name": "stderr",
     "output_type": "stream",
     "text": [
      "\r",
      "  4%|█▏                               | 353/10000 [7:36:59<219:50:31, 82.04s/it]"
     ]
    },
    {
     "name": "stdout",
     "output_type": "stream",
     "text": [
      "KR_5733680001의 데이터 수집이 완료되었습니다\n",
      "KR_5733680302의 데이터 수집을 시작합니다.\n",
      "api cost full : infinite loop start\n",
      "try 10 second wait time\n",
      "429\n",
      "try 10 second wait time\n",
      "429\n",
      "try 10 second wait time\n",
      "429\n",
      "try 10 second wait time\n",
      "429\n",
      "try 10 second wait time\n",
      "429\n",
      "try 10 second wait time\n",
      "429\n",
      "try 10 second wait time\n",
      "429\n",
      "try 10 second wait time\n",
      "429\n",
      "try 10 second wait time\n",
      "429\n",
      "try 10 second wait time\n",
      "200\n",
      "total wait time :  102.67902994155884\n",
      "recovery api cost\n"
     ]
    },
    {
     "name": "stderr",
     "output_type": "stream",
     "text": [
      "\r",
      "  4%|█▏                               | 354/10000 [7:38:55<246:57:43, 92.17s/it]"
     ]
    },
    {
     "name": "stdout",
     "output_type": "stream",
     "text": [
      "KR_5733680302의 데이터 수집이 완료되었습니다\n",
      "KR_5733680688의 데이터 수집을 시작합니다.\n",
      "api cost full : infinite loop start\n",
      "try 10 second wait time\n",
      "429\n",
      "try 10 second wait time\n",
      "429\n",
      "try 10 second wait time\n",
      "429\n",
      "try 10 second wait time\n",
      "429\n",
      "try 10 second wait time\n",
      "429\n",
      "try 10 second wait time\n",
      "429\n",
      "try 10 second wait time\n",
      "429\n",
      "try 10 second wait time\n",
      "429\n",
      "try 10 second wait time\n",
      "429\n",
      "try 10 second wait time\n",
      "429\n",
      "try 10 second wait time\n",
      "200\n",
      "total wait time :  112.75044178962708\n",
      "recovery api cost\n"
     ]
    },
    {
     "name": "stderr",
     "output_type": "stream",
     "text": [
      "\r",
      "  4%|█▏                              | 355/10000 [7:41:02<274:34:30, 102.49s/it]"
     ]
    },
    {
     "name": "stdout",
     "output_type": "stream",
     "text": [
      "KR_5733680688의 데이터 수집이 완료되었습니다\n",
      "KR_5733681674의 데이터 수집을 시작합니다.\n",
      "api cost full : infinite loop start\n",
      "try 10 second wait time\n",
      "429\n",
      "try 10 second wait time\n",
      "429\n",
      "try 10 second wait time\n",
      "429\n",
      "try 10 second wait time\n",
      "429\n",
      "try 10 second wait time\n",
      "429\n",
      "try 10 second wait time\n",
      "429\n",
      "try 10 second wait time\n",
      "429\n",
      "try 10 second wait time\n",
      "429\n",
      "try 10 second wait time\n",
      "429\n",
      "try 10 second wait time\n",
      "429\n",
      "try 10 second wait time\n",
      "200\n",
      "total wait time :  112.75411581993103\n",
      "recovery api cost\n"
     ]
    },
    {
     "name": "stderr",
     "output_type": "stream",
     "text": [
      "\r",
      "  4%|█▏                              | 356/10000 [7:43:08<293:38:44, 109.61s/it]"
     ]
    },
    {
     "name": "stdout",
     "output_type": "stream",
     "text": [
      "KR_5733681674의 데이터 수집이 완료되었습니다\n",
      "KR_5733682122의 데이터 수집을 시작합니다.\n"
     ]
    },
    {
     "name": "stderr",
     "output_type": "stream",
     "text": [
      "\r",
      "  4%|█▏                               | 357/10000 [7:43:21<215:46:16, 80.55s/it]"
     ]
    },
    {
     "name": "stdout",
     "output_type": "stream",
     "text": [
      "KR_5733682122의 데이터 수집이 완료되었습니다\n",
      "KR_5733682401의 데이터 수집을 시작합니다.\n",
      "api cost full : infinite loop start\n",
      "try 10 second wait time\n",
      "429\n",
      "try 10 second wait time\n",
      "429\n",
      "try 10 second wait time\n",
      "429\n",
      "try 10 second wait time\n",
      "429\n",
      "try 10 second wait time\n",
      "429\n",
      "try 10 second wait time\n",
      "429\n",
      "try 10 second wait time\n",
      "429\n",
      "try 10 second wait time\n",
      "429\n",
      "try 10 second wait time\n",
      "429\n",
      "try 10 second wait time\n",
      "429\n",
      "try 10 second wait time\n",
      "200\n",
      "total wait time :  112.79918694496155\n",
      "recovery api cost\n",
      "api cost full : infinite loop start\n",
      "try 10 second wait time\n",
      "429\n",
      "try 10 second wait time\n",
      "429\n",
      "try 10 second wait time\n",
      "429\n",
      "try 10 second wait time\n",
      "429\n",
      "try 10 second wait time\n",
      "429\n",
      "try 10 second wait time\n",
      "429\n",
      "try 10 second wait time\n",
      "429\n",
      "try 10 second wait time\n",
      "429\n",
      "try 10 second wait time\n",
      "429\n",
      "try 10 second wait time\n",
      "200\n",
      "total wait time :  102.66976380348206\n",
      "recovery api cost\n"
     ]
    },
    {
     "name": "stderr",
     "output_type": "stream",
     "text": [
      "\r",
      "  4%|█▏                              | 358/10000 [7:47:10<335:01:11, 125.09s/it]"
     ]
    },
    {
     "name": "stdout",
     "output_type": "stream",
     "text": [
      "KR_5733682401의 데이터 수집이 완료되었습니다\n",
      "KR_5733683809의 데이터 수집을 시작합니다.\n"
     ]
    },
    {
     "name": "stderr",
     "output_type": "stream",
     "text": [
      "\r",
      "  4%|█▏                               | 359/10000 [7:47:23<245:20:42, 91.61s/it]"
     ]
    },
    {
     "name": "stdout",
     "output_type": "stream",
     "text": [
      "KR_5733683809의 데이터 수집이 완료되었습니다\n",
      "KR_5733683853의 데이터 수집을 시작합니다.\n"
     ]
    },
    {
     "name": "stderr",
     "output_type": "stream",
     "text": [
      "\r",
      "  4%|█▏                               | 360/10000 [7:47:25<173:06:57, 64.65s/it]"
     ]
    },
    {
     "name": "stdout",
     "output_type": "stream",
     "text": [
      "KR_5733684861의 데이터 수집을 시작합니다.\n",
      "api cost full : infinite loop start\n",
      "try 10 second wait time\n",
      "429\n",
      "try 10 second wait time\n",
      "429\n",
      "try 10 second wait time\n",
      "429\n",
      "try 10 second wait time\n",
      "429\n",
      "try 10 second wait time\n",
      "429\n",
      "try 10 second wait time\n",
      "429\n",
      "try 10 second wait time\n",
      "429\n",
      "try 10 second wait time\n",
      "429\n",
      "try 10 second wait time\n",
      "429\n",
      "try 10 second wait time\n",
      "200\n",
      "total wait time :  102.65659427642822\n",
      "recovery api cost\n"
     ]
    },
    {
     "name": "stderr",
     "output_type": "stream",
     "text": [
      "\r",
      "  4%|█▏                               | 361/10000 [7:49:21<214:19:56, 80.05s/it]"
     ]
    },
    {
     "name": "stdout",
     "output_type": "stream",
     "text": [
      "KR_5733684861의 데이터 수집이 완료되었습니다\n",
      "KR_5733685982의 데이터 수집을 시작합니다.\n",
      "api cost full : infinite loop start\n",
      "try 10 second wait time\n",
      "429\n",
      "try 10 second wait time\n",
      "429\n",
      "try 10 second wait time\n",
      "429\n",
      "try 10 second wait time\n",
      "429\n",
      "try 10 second wait time\n",
      "429\n",
      "try 10 second wait time\n",
      "429\n",
      "try 10 second wait time\n",
      "429\n",
      "try 10 second wait time\n",
      "429\n",
      "try 10 second wait time\n",
      "429\n",
      "try 10 second wait time\n",
      "429\n",
      "try 10 second wait time\n",
      "200\n",
      "total wait time :  112.81059217453003\n",
      "recovery api cost\n"
     ]
    },
    {
     "name": "stderr",
     "output_type": "stream",
     "text": [
      "\r",
      "  4%|█▏                               | 362/10000 [7:51:27<251:12:58, 93.83s/it]"
     ]
    },
    {
     "name": "stdout",
     "output_type": "stream",
     "text": [
      "KR_5733685982의 데이터 수집이 완료되었습니다\n",
      "KR_5733686204의 데이터 수집을 시작합니다.\n",
      "api cost full : infinite loop start\n",
      "try 10 second wait time\n",
      "429\n",
      "try 10 second wait time\n",
      "429\n",
      "try 10 second wait time\n",
      "429\n",
      "try 10 second wait time\n",
      "429\n",
      "try 10 second wait time\n",
      "429\n",
      "try 10 second wait time\n",
      "429\n",
      "try 10 second wait time\n",
      "429\n",
      "try 10 second wait time\n",
      "429\n",
      "try 10 second wait time\n",
      "429\n",
      "try 10 second wait time\n",
      "429\n",
      "try 10 second wait time\n",
      "200\n",
      "total wait time :  112.74902009963989\n",
      "recovery api cost\n"
     ]
    },
    {
     "name": "stderr",
     "output_type": "stream",
     "text": [
      "\r",
      "  4%|█▏                              | 363/10000 [7:53:33<276:46:28, 103.39s/it]"
     ]
    },
    {
     "name": "stdout",
     "output_type": "stream",
     "text": [
      "KR_5733686204의 데이터 수집이 완료되었습니다\n",
      "KR_5733686239의 데이터 수집을 시작합니다.\n",
      "api cost full : infinite loop start\n",
      "try 10 second wait time\n",
      "429\n",
      "try 10 second wait time\n",
      "429\n",
      "try 10 second wait time\n",
      "429\n",
      "try 10 second wait time\n",
      "429\n",
      "try 10 second wait time\n",
      "429\n",
      "try 10 second wait time\n",
      "429\n",
      "try 10 second wait time\n",
      "429\n",
      "try 10 second wait time\n",
      "429\n",
      "try 10 second wait time\n",
      "429\n",
      "try 10 second wait time\n",
      "429\n",
      "try 10 second wait time\n",
      "200\n",
      "total wait time :  113.21136379241943\n",
      "recovery api cost\n"
     ]
    },
    {
     "name": "stderr",
     "output_type": "stream",
     "text": [
      "\r",
      "  4%|█▏                              | 364/10000 [7:55:39<295:11:05, 110.28s/it]"
     ]
    },
    {
     "name": "stdout",
     "output_type": "stream",
     "text": [
      "KR_5733686239의 데이터 수집이 완료되었습니다\n",
      "KR_5733686366의 데이터 수집을 시작합니다.\n"
     ]
    },
    {
     "name": "stderr",
     "output_type": "stream",
     "text": [
      "\r",
      "  4%|█▏                               | 365/10000 [7:55:52<216:49:38, 81.01s/it]"
     ]
    },
    {
     "name": "stdout",
     "output_type": "stream",
     "text": [
      "KR_5733686366의 데이터 수집이 완료되었습니다\n",
      "KR_5733686965의 데이터 수집을 시작합니다.\n",
      "api cost full : infinite loop start\n",
      "try 10 second wait time\n",
      "429\n",
      "try 10 second wait time\n",
      "429\n",
      "try 10 second wait time\n",
      "429\n",
      "try 10 second wait time\n",
      "429\n",
      "try 10 second wait time\n",
      "429\n",
      "try 10 second wait time\n",
      "429\n",
      "try 10 second wait time\n",
      "429\n",
      "try 10 second wait time\n",
      "429\n",
      "try 10 second wait time\n",
      "429\n",
      "try 10 second wait time\n",
      "429\n",
      "try 10 second wait time\n",
      "200\n",
      "total wait time :  112.83072686195374\n",
      "recovery api cost\n"
     ]
    },
    {
     "name": "stderr",
     "output_type": "stream",
     "text": [
      "\r",
      "  4%|█▏                               | 366/10000 [7:57:57<252:21:12, 94.30s/it]"
     ]
    },
    {
     "name": "stdout",
     "output_type": "stream",
     "text": [
      "KR_5733686965의 데이터 수집이 완료되었습니다\n",
      "KR_5733687443의 데이터 수집을 시작합니다.\n",
      "api cost full : infinite loop start\n",
      "try 10 second wait time\n",
      "429\n",
      "try 10 second wait time\n",
      "429\n",
      "try 10 second wait time\n",
      "429\n",
      "try 10 second wait time\n",
      "429\n",
      "try 10 second wait time\n",
      "429\n",
      "try 10 second wait time\n",
      "429\n",
      "try 10 second wait time\n",
      "429\n",
      "try 10 second wait time\n",
      "429\n",
      "try 10 second wait time\n",
      "429\n",
      "try 10 second wait time\n",
      "429\n",
      "try 10 second wait time\n",
      "200\n",
      "total wait time :  112.99579381942749\n",
      "recovery api cost\n"
     ]
    },
    {
     "name": "stderr",
     "output_type": "stream",
     "text": [
      "\r",
      "  4%|█▏                              | 367/10000 [8:00:04<278:40:46, 104.15s/it]"
     ]
    },
    {
     "name": "stdout",
     "output_type": "stream",
     "text": [
      "KR_5733687443의 데이터 수집이 완료되었습니다\n",
      "KR_5733687617의 데이터 수집을 시작합니다.\n",
      "api cost full : infinite loop start\n",
      "try 10 second wait time\n",
      "429\n",
      "try 10 second wait time\n",
      "429\n",
      "try 10 second wait time\n",
      "429\n",
      "try 10 second wait time\n",
      "429\n",
      "try 10 second wait time\n",
      "429\n",
      "try 10 second wait time\n",
      "429\n",
      "try 10 second wait time\n",
      "429\n",
      "try 10 second wait time\n",
      "429\n",
      "try 10 second wait time\n",
      "429\n",
      "try 10 second wait time\n",
      "429\n",
      "try 10 second wait time\n",
      "200\n",
      "total wait time :  112.83465385437012\n",
      "recovery api cost\n"
     ]
    },
    {
     "name": "stderr",
     "output_type": "stream",
     "text": [
      "\r",
      "  4%|█▏                              | 368/10000 [8:02:10<296:18:22, 110.75s/it]"
     ]
    },
    {
     "name": "stdout",
     "output_type": "stream",
     "text": [
      "KR_5733687617의 데이터 수집이 완료되었습니다\n",
      "KR_5733687978의 데이터 수집을 시작합니다.\n",
      "api cost full : infinite loop start\n",
      "try 10 second wait time\n",
      "429\n",
      "try 10 second wait time\n",
      "429\n",
      "try 10 second wait time\n",
      "429\n",
      "try 10 second wait time\n",
      "429\n",
      "try 10 second wait time\n",
      "429\n",
      "try 10 second wait time\n",
      "429\n",
      "try 10 second wait time\n",
      "429\n",
      "try 10 second wait time\n",
      "429\n",
      "try 10 second wait time\n",
      "429\n",
      "try 10 second wait time\n",
      "429\n",
      "try 10 second wait time\n",
      "200\n",
      "total wait time :  112.89611911773682\n",
      "recovery api cost\n"
     ]
    },
    {
     "name": "stderr",
     "output_type": "stream",
     "text": [
      "\r",
      "  4%|█▏                              | 369/10000 [8:04:16<308:20:27, 115.26s/it]"
     ]
    },
    {
     "name": "stdout",
     "output_type": "stream",
     "text": [
      "KR_5733687978의 데이터 수집이 완료되었습니다\n",
      "KR_5733688255의 데이터 수집을 시작합니다.\n"
     ]
    },
    {
     "name": "stderr",
     "output_type": "stream",
     "text": [
      "\r",
      "  4%|█▏                               | 370/10000 [8:04:29<226:18:58, 84.60s/it]"
     ]
    },
    {
     "name": "stdout",
     "output_type": "stream",
     "text": [
      "KR_5733688255의 데이터 수집이 완료되었습니다\n",
      "KR_5733695458의 데이터 수집을 시작합니다.\n",
      "api cost full : infinite loop start\n",
      "try 10 second wait time\n",
      "429\n",
      "try 10 second wait time\n",
      "429\n",
      "try 10 second wait time\n",
      "429\n",
      "try 10 second wait time\n",
      "429\n",
      "try 10 second wait time\n",
      "429\n",
      "try 10 second wait time\n",
      "429\n",
      "try 10 second wait time\n",
      "429\n",
      "try 10 second wait time\n",
      "429\n",
      "try 10 second wait time\n",
      "429\n",
      "try 10 second wait time\n",
      "429\n",
      "try 10 second wait time\n",
      "200\n",
      "total wait time :  112.78376173973083\n",
      "recovery api cost\n",
      "api cost full : infinite loop start\n",
      "try 10 second wait time\n",
      "429\n",
      "try 10 second wait time\n",
      "429\n",
      "try 10 second wait time\n",
      "429\n",
      "try 10 second wait time\n",
      "429\n",
      "try 10 second wait time\n",
      "429\n",
      "try 10 second wait time\n",
      "429\n",
      "try 10 second wait time\n",
      "429\n",
      "try 10 second wait time\n",
      "429\n",
      "try 10 second wait time\n",
      "429\n",
      "try 10 second wait time\n",
      "200\n",
      "total wait time :  102.59741306304932\n",
      "recovery api cost\n"
     ]
    },
    {
     "name": "stderr",
     "output_type": "stream",
     "text": [
      "\r",
      "  4%|█▏                              | 371/10000 [8:08:18<341:50:37, 127.81s/it]"
     ]
    },
    {
     "name": "stdout",
     "output_type": "stream",
     "text": [
      "KR_5733695458의 데이터 수집이 완료되었습니다\n",
      "KR_5733700406의 데이터 수집을 시작합니다.\n"
     ]
    },
    {
     "name": "stderr",
     "output_type": "stream",
     "text": [
      "\r",
      "  4%|█▏                               | 372/10000 [8:08:31<249:35:06, 93.32s/it]"
     ]
    },
    {
     "name": "stdout",
     "output_type": "stream",
     "text": [
      "KR_5733700406의 데이터 수집이 완료되었습니다\n",
      "KR_5733700559의 데이터 수집을 시작합니다.\n",
      "api cost full : infinite loop start\n",
      "try 10 second wait time\n",
      "429\n",
      "try 10 second wait time\n",
      "429\n",
      "try 10 second wait time\n",
      "429\n",
      "try 10 second wait time\n",
      "429\n",
      "try 10 second wait time\n",
      "429\n",
      "try 10 second wait time\n",
      "429\n",
      "try 10 second wait time\n",
      "429\n",
      "try 10 second wait time\n",
      "429\n",
      "try 10 second wait time\n",
      "429\n",
      "try 10 second wait time\n",
      "429\n",
      "try 10 second wait time\n",
      "200\n",
      "total wait time :  112.82229828834534\n",
      "recovery api cost\n"
     ]
    },
    {
     "name": "stderr",
     "output_type": "stream",
     "text": [
      "\r",
      "  4%|█▏                              | 373/10000 [8:10:37<275:50:27, 103.15s/it]"
     ]
    },
    {
     "name": "stdout",
     "output_type": "stream",
     "text": [
      "KR_5733700559의 데이터 수집이 완료되었습니다\n",
      "KR_5733703179의 데이터 수집을 시작합니다.\n",
      "api cost full : infinite loop start\n",
      "try 10 second wait time\n",
      "429\n",
      "try 10 second wait time\n",
      "429\n",
      "try 10 second wait time\n",
      "429\n",
      "try 10 second wait time\n",
      "429\n",
      "try 10 second wait time\n",
      "429\n",
      "try 10 second wait time\n",
      "429\n",
      "try 10 second wait time\n",
      "429\n",
      "try 10 second wait time\n",
      "429\n",
      "try 10 second wait time\n",
      "429\n",
      "try 10 second wait time\n",
      "429\n",
      "try 10 second wait time\n",
      "200\n",
      "total wait time :  112.91762495040894\n",
      "recovery api cost\n"
     ]
    },
    {
     "name": "stderr",
     "output_type": "stream",
     "text": [
      "\r",
      "  4%|█▏                              | 374/10000 [8:12:43<294:18:14, 110.07s/it]"
     ]
    },
    {
     "name": "stdout",
     "output_type": "stream",
     "text": [
      "KR_5733703179의 데이터 수집이 완료되었습니다\n",
      "KR_5733704041의 데이터 수집을 시작합니다.\n"
     ]
    },
    {
     "name": "stderr",
     "output_type": "stream",
     "text": [
      "\r",
      "  4%|█▏                               | 375/10000 [8:12:52<212:59:18, 79.66s/it]"
     ]
    },
    {
     "name": "stdout",
     "output_type": "stream",
     "text": [
      "KR_5733704926의 데이터 수집을 시작합니다.\n",
      "api cost full : infinite loop start\n",
      "try 10 second wait time\n",
      "429\n",
      "try 10 second wait time\n",
      "429\n",
      "try 10 second wait time\n",
      "429\n",
      "try 10 second wait time\n",
      "429\n",
      "try 10 second wait time\n",
      "429\n",
      "try 10 second wait time\n",
      "429\n",
      "try 10 second wait time\n",
      "429\n",
      "try 10 second wait time\n",
      "429\n",
      "try 10 second wait time\n",
      "429\n",
      "try 10 second wait time\n",
      "429\n",
      "try 10 second wait time\n",
      "200\n",
      "total wait time :  112.98911690711975\n",
      "recovery api cost\n"
     ]
    },
    {
     "name": "stderr",
     "output_type": "stream",
     "text": [
      "\r",
      "  4%|█▏                               | 376/10000 [8:14:58<250:35:18, 93.74s/it]"
     ]
    },
    {
     "name": "stdout",
     "output_type": "stream",
     "text": [
      "KR_5733704926의 데이터 수집이 완료되었습니다\n",
      "KR_5733705075의 데이터 수집을 시작합니다.\n"
     ]
    },
    {
     "name": "stderr",
     "output_type": "stream",
     "text": [
      "\r",
      "  4%|█▏                               | 377/10000 [8:15:02<178:35:17, 66.81s/it]"
     ]
    },
    {
     "name": "stdout",
     "output_type": "stream",
     "text": [
      "KR_5733705416의 데이터 수집을 시작합니다.\n",
      "api cost full : infinite loop start\n",
      "try 10 second wait time\n",
      "429\n",
      "try 10 second wait time\n",
      "429\n",
      "try 10 second wait time\n",
      "429\n",
      "try 10 second wait time\n",
      "429\n",
      "try 10 second wait time\n",
      "429\n",
      "try 10 second wait time\n",
      "429\n",
      "try 10 second wait time\n",
      "429\n",
      "try 10 second wait time\n",
      "429\n",
      "try 10 second wait time\n",
      "429\n",
      "try 10 second wait time\n",
      "200\n",
      "total wait time :  102.78756189346313\n",
      "recovery api cost\n"
     ]
    },
    {
     "name": "stderr",
     "output_type": "stream",
     "text": [
      "\r",
      "  4%|█▏                               | 378/10000 [8:16:59<218:17:00, 81.67s/it]"
     ]
    },
    {
     "name": "stdout",
     "output_type": "stream",
     "text": [
      "KR_5733705416의 데이터 수집이 완료되었습니다\n",
      "KR_5733709196의 데이터 수집을 시작합니다.\n"
     ]
    },
    {
     "name": "stderr",
     "output_type": "stream",
     "text": [
      "\r",
      "  4%|█▎                               | 379/10000 [8:17:02<155:46:29, 58.29s/it]"
     ]
    },
    {
     "name": "stdout",
     "output_type": "stream",
     "text": [
      "KR_5733709430의 데이터 수집을 시작합니다.\n",
      "api cost full : infinite loop start\n",
      "try 10 second wait time\n",
      "429\n",
      "try 10 second wait time\n",
      "429\n",
      "try 10 second wait time\n",
      "429\n",
      "try 10 second wait time\n",
      "429\n",
      "try 10 second wait time\n",
      "429\n",
      "try 10 second wait time\n",
      "429\n",
      "try 10 second wait time\n",
      "429\n",
      "try 10 second wait time\n",
      "429\n",
      "try 10 second wait time\n",
      "429\n",
      "try 10 second wait time\n",
      "429\n",
      "try 10 second wait time\n",
      "200\n",
      "total wait time :  112.83528804779053\n",
      "recovery api cost\n",
      "api cost full : infinite loop start\n",
      "try 10 second wait time\n",
      "429\n",
      "try 10 second wait time\n",
      "429\n",
      "try 10 second wait time\n",
      "429\n",
      "try 10 second wait time\n",
      "429\n",
      "try 10 second wait time\n",
      "429\n",
      "try 10 second wait time\n",
      "429\n",
      "try 10 second wait time\n",
      "429\n",
      "try 10 second wait time\n",
      "429\n",
      "try 10 second wait time\n",
      "429\n",
      "try 10 second wait time\n",
      "200\n",
      "total wait time :  102.89132404327393\n",
      "recovery api cost\n"
     ]
    },
    {
     "name": "stderr",
     "output_type": "stream",
     "text": [
      "\r",
      "  4%|█▏                              | 380/10000 [8:20:51<292:26:42, 109.44s/it]"
     ]
    },
    {
     "name": "stdout",
     "output_type": "stream",
     "text": [
      "KR_5733709430의 데이터 수집이 완료되었습니다\n",
      "KR_5733710351의 데이터 수집을 시작합니다.\n"
     ]
    },
    {
     "name": "stderr",
     "output_type": "stream",
     "text": [
      "\r",
      "  4%|█▎                               | 381/10000 [8:21:04<214:49:10, 80.40s/it]"
     ]
    },
    {
     "name": "stdout",
     "output_type": "stream",
     "text": [
      "KR_5733710351의 데이터 수집이 완료되었습니다\n",
      "KR_5733710684의 데이터 수집을 시작합니다.\n",
      "api cost full : infinite loop start\n",
      "try 10 second wait time\n",
      "429\n",
      "try 10 second wait time\n",
      "429\n",
      "try 10 second wait time\n",
      "429\n",
      "try 10 second wait time\n",
      "429\n",
      "try 10 second wait time\n",
      "429\n",
      "try 10 second wait time\n",
      "429\n",
      "try 10 second wait time\n",
      "429\n",
      "try 10 second wait time\n",
      "429\n",
      "try 10 second wait time\n",
      "429\n",
      "try 10 second wait time\n",
      "429\n",
      "try 10 second wait time\n",
      "200\n",
      "total wait time :  112.89659380912781\n",
      "recovery api cost\n"
     ]
    },
    {
     "name": "stderr",
     "output_type": "stream",
     "text": [
      "\r",
      "  4%|█▎                               | 382/10000 [8:23:10<251:39:44, 94.20s/it]"
     ]
    },
    {
     "name": "stdout",
     "output_type": "stream",
     "text": [
      "KR_5733710684의 데이터 수집이 완료되었습니다\n",
      "KR_5733713642의 데이터 수집을 시작합니다.\n",
      "api cost full : infinite loop start\n",
      "try 10 second wait time\n",
      "429\n",
      "try 10 second wait time\n",
      "429\n",
      "try 10 second wait time\n",
      "429\n",
      "try 10 second wait time\n",
      "429\n",
      "try 10 second wait time\n",
      "429\n",
      "try 10 second wait time\n",
      "429\n",
      "try 10 second wait time\n",
      "429\n",
      "try 10 second wait time\n",
      "429\n",
      "try 10 second wait time\n",
      "429\n",
      "try 10 second wait time\n",
      "200\n",
      "total wait time :  102.61348485946655\n",
      "recovery api cost\n"
     ]
    },
    {
     "name": "stderr",
     "output_type": "stream",
     "text": [
      "\r",
      "  4%|█▏                              | 383/10000 [8:25:06<268:41:17, 100.58s/it]"
     ]
    },
    {
     "name": "stdout",
     "output_type": "stream",
     "text": [
      "KR_5733713642의 데이터 수집이 완료되었습니다\n",
      "KR_5733714149의 데이터 수집을 시작합니다.\n"
     ]
    },
    {
     "name": "stderr",
     "output_type": "stream",
     "text": [
      "\r",
      "  4%|█▎                               | 384/10000 [8:25:14<195:07:51, 73.05s/it]"
     ]
    },
    {
     "name": "stdout",
     "output_type": "stream",
     "text": [
      "KR_5733714476의 데이터 수집을 시작합니다.\n",
      "api cost full : infinite loop start\n",
      "try 10 second wait time\n",
      "429\n",
      "try 10 second wait time\n",
      "429\n",
      "try 10 second wait time\n",
      "429\n",
      "try 10 second wait time\n",
      "429\n",
      "try 10 second wait time\n",
      "429\n",
      "try 10 second wait time\n",
      "429\n",
      "try 10 second wait time\n",
      "429\n",
      "try 10 second wait time\n",
      "429\n",
      "try 10 second wait time\n",
      "429\n",
      "try 10 second wait time\n",
      "429\n",
      "try 10 second wait time\n",
      "200\n",
      "total wait time :  112.79516577720642\n",
      "recovery api cost\n"
     ]
    },
    {
     "name": "stderr",
     "output_type": "stream",
     "text": [
      "\r",
      "  4%|█▎                               | 385/10000 [8:27:21<237:39:12, 88.98s/it]"
     ]
    },
    {
     "name": "stdout",
     "output_type": "stream",
     "text": [
      "KR_5733714476의 데이터 수집이 완료되었습니다\n",
      "KR_5733714531의 데이터 수집을 시작합니다.\n",
      "api cost full : infinite loop start\n",
      "try 10 second wait time\n",
      "429\n",
      "try 10 second wait time\n",
      "429\n",
      "try 10 second wait time\n",
      "429\n",
      "try 10 second wait time\n",
      "429\n",
      "try 10 second wait time\n",
      "429\n",
      "try 10 second wait time\n",
      "429\n",
      "try 10 second wait time\n",
      "429\n",
      "try 10 second wait time\n",
      "429\n",
      "try 10 second wait time\n",
      "429\n",
      "try 10 second wait time\n",
      "429\n",
      "try 10 second wait time\n",
      "200\n",
      "total wait time :  113.13518118858337\n",
      "recovery api cost\n"
     ]
    },
    {
     "name": "stderr",
     "output_type": "stream",
     "text": [
      "\r",
      "  4%|█▏                              | 386/10000 [8:29:27<267:32:04, 100.18s/it]"
     ]
    },
    {
     "name": "stdout",
     "output_type": "stream",
     "text": [
      "KR_5733714531의 데이터 수집이 완료되었습니다\n",
      "KR_5733714538의 데이터 수집을 시작합니다.\n",
      "api cost full : infinite loop start\n",
      "try 10 second wait time\n",
      "429\n",
      "try 10 second wait time\n",
      "429\n",
      "try 10 second wait time\n",
      "429\n",
      "try 10 second wait time\n",
      "429\n",
      "try 10 second wait time\n",
      "429\n",
      "try 10 second wait time\n",
      "429\n",
      "try 10 second wait time\n",
      "429\n",
      "try 10 second wait time\n",
      "429\n",
      "try 10 second wait time\n",
      "429\n",
      "try 10 second wait time\n",
      "429\n",
      "try 10 second wait time\n",
      "200\n",
      "total wait time :  112.82616925239563\n",
      "recovery api cost\n"
     ]
    },
    {
     "name": "stderr",
     "output_type": "stream",
     "text": [
      "\r",
      "  4%|█▏                              | 387/10000 [8:31:34<288:45:31, 108.14s/it]"
     ]
    },
    {
     "name": "stdout",
     "output_type": "stream",
     "text": [
      "KR_5733714538의 데이터 수집이 완료되었습니다\n",
      "KR_5733719590의 데이터 수집을 시작합니다.\n",
      "api cost full : infinite loop start\n",
      "try 10 second wait time\n",
      "429\n",
      "try 10 second wait time\n",
      "429\n",
      "try 10 second wait time\n",
      "429\n",
      "try 10 second wait time\n",
      "429\n",
      "try 10 second wait time\n",
      "429\n",
      "try 10 second wait time\n",
      "429\n",
      "try 10 second wait time\n",
      "429\n",
      "try 10 second wait time\n",
      "429\n",
      "try 10 second wait time\n",
      "429\n",
      "try 10 second wait time\n",
      "429\n",
      "try 10 second wait time\n",
      "200\n",
      "total wait time :  113.07311391830444\n",
      "recovery api cost\n"
     ]
    },
    {
     "name": "stderr",
     "output_type": "stream",
     "text": [
      "\r",
      "  4%|█▏                              | 388/10000 [8:33:40<303:40:04, 113.73s/it]"
     ]
    },
    {
     "name": "stdout",
     "output_type": "stream",
     "text": [
      "KR_5733719590의 데이터 수집이 완료되었습니다\n",
      "KR_5733722283의 데이터 수집을 시작합니다.\n"
     ]
    },
    {
     "name": "stderr",
     "output_type": "stream",
     "text": [
      "\r",
      "  4%|█▎                               | 389/10000 [8:33:54<223:08:36, 83.58s/it]"
     ]
    },
    {
     "name": "stdout",
     "output_type": "stream",
     "text": [
      "KR_5733722283의 데이터 수집이 완료되었습니다\n",
      "KR_5733723095의 데이터 수집을 시작합니다.\n",
      "api cost full : infinite loop start\n",
      "try 10 second wait time\n",
      "429\n",
      "try 10 second wait time\n",
      "429\n",
      "try 10 second wait time\n",
      "429\n",
      "try 10 second wait time\n",
      "429\n",
      "try 10 second wait time\n",
      "429\n",
      "try 10 second wait time\n",
      "429\n",
      "try 10 second wait time\n",
      "429\n",
      "try 10 second wait time\n",
      "429\n",
      "try 10 second wait time\n",
      "429\n",
      "try 10 second wait time\n",
      "200\n",
      "total wait time :  102.6971447467804\n",
      "recovery api cost\n"
     ]
    },
    {
     "name": "stderr",
     "output_type": "stream",
     "text": [
      "\r",
      "  4%|█▎                               | 390/10000 [8:35:49<248:55:26, 93.25s/it]"
     ]
    },
    {
     "name": "stdout",
     "output_type": "stream",
     "text": [
      "KR_5733723095의 데이터 수집이 완료되었습니다\n",
      "KR_5733724317의 데이터 수집을 시작합니다.\n"
     ]
    },
    {
     "name": "stderr",
     "output_type": "stream",
     "text": [
      "\r",
      "  4%|█▎                               | 391/10000 [8:35:57<180:23:07, 67.58s/it]"
     ]
    },
    {
     "name": "stdout",
     "output_type": "stream",
     "text": [
      "KR_5733724714의 데이터 수집을 시작합니다.\n",
      "api cost full : infinite loop start\n",
      "try 10 second wait time\n",
      "429\n",
      "try 10 second wait time\n",
      "429\n",
      "try 10 second wait time\n",
      "429\n",
      "try 10 second wait time\n",
      "429\n",
      "try 10 second wait time\n",
      "429\n",
      "try 10 second wait time\n",
      "429\n",
      "try 10 second wait time\n",
      "429\n",
      "try 10 second wait time\n",
      "429\n",
      "try 10 second wait time\n",
      "429\n",
      "try 10 second wait time\n",
      "200\n",
      "total wait time :  102.56440997123718\n",
      "recovery api cost\n"
     ]
    },
    {
     "name": "stderr",
     "output_type": "stream",
     "text": [
      "\r",
      "  4%|█▎                               | 392/10000 [8:37:53<219:29:45, 82.24s/it]"
     ]
    },
    {
     "name": "stdout",
     "output_type": "stream",
     "text": [
      "KR_5733724714의 데이터 수집이 완료되었습니다\n",
      "KR_5733725244의 데이터 수집을 시작합니다.\n",
      "api cost full : infinite loop start\n",
      "try 10 second wait time\n",
      "429\n",
      "try 10 second wait time\n",
      "429\n",
      "try 10 second wait time\n",
      "429\n",
      "try 10 second wait time\n",
      "429\n",
      "try 10 second wait time\n",
      "429\n",
      "try 10 second wait time\n",
      "429\n",
      "try 10 second wait time\n",
      "429\n",
      "try 10 second wait time\n",
      "429\n",
      "try 10 second wait time\n",
      "429\n",
      "try 10 second wait time\n",
      "429\n",
      "try 10 second wait time\n",
      "200\n",
      "total wait time :  112.86006665229797\n",
      "recovery api cost\n"
     ]
    },
    {
     "name": "stderr",
     "output_type": "stream",
     "text": [
      "\r",
      "  4%|█▎                               | 393/10000 [8:40:00<254:36:23, 95.41s/it]"
     ]
    },
    {
     "name": "stdout",
     "output_type": "stream",
     "text": [
      "KR_5733725244의 데이터 수집이 완료되었습니다\n",
      "KR_5733726270의 데이터 수집을 시작합니다.\n",
      "api cost full : infinite loop start\n",
      "try 10 second wait time\n",
      "429\n",
      "try 10 second wait time\n",
      "429\n",
      "try 10 second wait time\n",
      "429\n",
      "try 10 second wait time\n",
      "429\n",
      "try 10 second wait time\n",
      "429\n",
      "try 10 second wait time\n",
      "429\n",
      "try 10 second wait time\n",
      "429\n",
      "try 10 second wait time\n",
      "429\n",
      "try 10 second wait time\n",
      "429\n",
      "try 10 second wait time\n",
      "429\n",
      "try 10 second wait time\n",
      "200\n",
      "total wait time :  112.78000783920288\n",
      "recovery api cost\n"
     ]
    },
    {
     "name": "stderr",
     "output_type": "stream",
     "text": [
      "\r",
      "  4%|█▎                              | 394/10000 [8:42:06<279:40:09, 104.81s/it]"
     ]
    },
    {
     "name": "stdout",
     "output_type": "stream",
     "text": [
      "KR_5733726270의 데이터 수집이 완료되었습니다\n",
      "KR_5733726635의 데이터 수집을 시작합니다.\n",
      "api cost full : infinite loop start\n",
      "try 10 second wait time\n",
      "429\n",
      "try 10 second wait time\n",
      "429\n",
      "try 10 second wait time\n",
      "429\n",
      "try 10 second wait time\n",
      "429\n",
      "try 10 second wait time\n",
      "429\n",
      "try 10 second wait time\n",
      "429\n",
      "try 10 second wait time\n",
      "429\n",
      "try 10 second wait time\n",
      "429\n",
      "try 10 second wait time\n",
      "429\n",
      "try 10 second wait time\n",
      "429\n",
      "try 10 second wait time\n",
      "200\n",
      "total wait time :  112.92332792282104\n",
      "recovery api cost\n"
     ]
    },
    {
     "name": "stderr",
     "output_type": "stream",
     "text": [
      "\r",
      "  4%|█▎                              | 395/10000 [8:44:13<297:18:49, 111.43s/it]"
     ]
    },
    {
     "name": "stdout",
     "output_type": "stream",
     "text": [
      "KR_5733726635의 데이터 수집이 완료되었습니다\n",
      "KR_5733726746의 데이터 수집을 시작합니다.\n"
     ]
    },
    {
     "name": "stderr",
     "output_type": "stream",
     "text": [
      "\r",
      "  4%|█▎                               | 396/10000 [8:44:27<219:03:05, 82.11s/it]"
     ]
    },
    {
     "name": "stdout",
     "output_type": "stream",
     "text": [
      "KR_5733726746의 데이터 수집이 완료되었습니다\n",
      "KR_5733727240의 데이터 수집을 시작합니다.\n",
      "api cost full : infinite loop start\n",
      "try 10 second wait time\n",
      "429\n",
      "try 10 second wait time\n",
      "429\n",
      "try 10 second wait time\n",
      "429\n",
      "try 10 second wait time\n",
      "429\n",
      "try 10 second wait time\n",
      "429\n",
      "try 10 second wait time\n",
      "429\n",
      "try 10 second wait time\n",
      "429\n",
      "try 10 second wait time\n",
      "429\n",
      "try 10 second wait time\n",
      "429\n",
      "try 10 second wait time\n",
      "200\n",
      "total wait time :  103.71082901954651\n",
      "recovery api cost\n"
     ]
    },
    {
     "name": "stderr",
     "output_type": "stream",
     "text": [
      "\r",
      "  4%|█▎                               | 397/10000 [8:46:25<247:25:06, 92.75s/it]"
     ]
    },
    {
     "name": "stdout",
     "output_type": "stream",
     "text": [
      "KR_5733727240의 데이터 수집이 완료되었습니다\n",
      "KR_5733727374의 데이터 수집을 시작합니다.\n",
      "api cost full : infinite loop start\n",
      "try 10 second wait time\n",
      "429\n",
      "try 10 second wait time\n",
      "429\n",
      "try 10 second wait time\n",
      "429\n",
      "try 10 second wait time\n",
      "429\n",
      "try 10 second wait time\n",
      "429\n",
      "try 10 second wait time\n",
      "429\n",
      "try 10 second wait time\n",
      "429\n",
      "try 10 second wait time\n",
      "429\n",
      "try 10 second wait time\n",
      "429\n",
      "try 10 second wait time\n",
      "200\n",
      "total wait time :  102.84110808372498\n",
      "recovery api cost\n"
     ]
    },
    {
     "name": "stderr",
     "output_type": "stream",
     "text": [
      "\r",
      "  4%|█▎                               | 398/10000 [8:48:21<266:13:45, 99.82s/it]"
     ]
    },
    {
     "name": "stdout",
     "output_type": "stream",
     "text": [
      "KR_5733727374의 데이터 수집이 완료되었습니다\n",
      "KR_5733728997의 데이터 수집을 시작합니다.\n"
     ]
    },
    {
     "name": "stderr",
     "output_type": "stream",
     "text": [
      "\r",
      "  4%|█▎                               | 399/10000 [8:48:33<196:10:17, 73.56s/it]"
     ]
    },
    {
     "name": "stdout",
     "output_type": "stream",
     "text": [
      "KR_5733733176의 데이터 수집을 시작합니다.\n",
      "api cost full : infinite loop start\n",
      "try 10 second wait time\n",
      "429\n",
      "try 10 second wait time\n",
      "429\n",
      "try 10 second wait time\n",
      "429\n",
      "try 10 second wait time\n",
      "429\n",
      "try 10 second wait time\n",
      "429\n",
      "try 10 second wait time\n",
      "429\n",
      "try 10 second wait time\n",
      "429\n",
      "try 10 second wait time\n",
      "429\n",
      "try 10 second wait time\n",
      "429\n",
      "try 10 second wait time\n",
      "200\n",
      "total wait time :  102.88096594810486\n",
      "recovery api cost\n"
     ]
    },
    {
     "name": "stderr",
     "output_type": "stream",
     "text": [
      "\r",
      "  4%|█▎                               | 400/10000 [8:50:29<229:55:40, 86.22s/it]"
     ]
    },
    {
     "name": "stdout",
     "output_type": "stream",
     "text": [
      "KR_5733733176의 데이터 수집이 완료되었습니다\n",
      "KR_5733733328의 데이터 수집을 시작합니다.\n"
     ]
    },
    {
     "name": "stderr",
     "output_type": "stream",
     "text": [
      "\r",
      "  4%|█▎                               | 401/10000 [8:50:33<164:09:43, 61.57s/it]"
     ]
    },
    {
     "name": "stdout",
     "output_type": "stream",
     "text": [
      "KR_5733734220의 데이터 수집을 시작합니다.\n",
      "api cost full : infinite loop start\n",
      "try 10 second wait time\n",
      "429\n",
      "try 10 second wait time\n",
      "429\n",
      "try 10 second wait time\n",
      "429\n",
      "try 10 second wait time\n",
      "429\n",
      "try 10 second wait time\n",
      "429\n",
      "try 10 second wait time\n",
      "429\n",
      "try 10 second wait time\n",
      "429\n",
      "try 10 second wait time\n",
      "429\n",
      "try 10 second wait time\n",
      "429\n",
      "try 10 second wait time\n",
      "429\n",
      "try 10 second wait time\n",
      "200\n",
      "total wait time :  112.78060412406921\n",
      "recovery api cost\n"
     ]
    },
    {
     "name": "stderr",
     "output_type": "stream",
     "text": [
      "\r",
      "  4%|█▎                               | 402/10000 [8:52:39<215:21:06, 80.77s/it]"
     ]
    },
    {
     "name": "stdout",
     "output_type": "stream",
     "text": [
      "KR_5733734220의 데이터 수집이 완료되었습니다\n",
      "KR_5733736572의 데이터 수집을 시작합니다.\n",
      "api cost full : infinite loop start\n",
      "try 10 second wait time\n",
      "429\n",
      "try 10 second wait time\n",
      "429\n",
      "try 10 second wait time\n",
      "429\n",
      "try 10 second wait time\n",
      "429\n",
      "try 10 second wait time\n",
      "429\n",
      "try 10 second wait time\n",
      "429\n",
      "try 10 second wait time\n",
      "429\n",
      "try 10 second wait time\n",
      "429\n",
      "try 10 second wait time\n",
      "429\n",
      "try 10 second wait time\n",
      "429\n",
      "try 10 second wait time\n",
      "200\n",
      "total wait time :  112.76117300987244\n",
      "recovery api cost\n"
     ]
    },
    {
     "name": "stderr",
     "output_type": "stream",
     "text": [
      "\r",
      "  4%|█▎                               | 403/10000 [8:54:44<251:22:18, 94.29s/it]"
     ]
    },
    {
     "name": "stdout",
     "output_type": "stream",
     "text": [
      "KR_5733736572의 데이터 수집이 완료되었습니다\n",
      "KR_5733737587의 데이터 수집을 시작합니다.\n",
      "api cost full : infinite loop start\n",
      "try 10 second wait time\n",
      "429\n",
      "try 10 second wait time\n",
      "429\n",
      "try 10 second wait time\n",
      "429\n",
      "try 10 second wait time\n",
      "429\n",
      "try 10 second wait time\n",
      "429\n",
      "try 10 second wait time\n",
      "429\n",
      "try 10 second wait time\n",
      "429\n",
      "try 10 second wait time\n",
      "429\n",
      "try 10 second wait time\n",
      "429\n",
      "try 10 second wait time\n",
      "429\n",
      "try 10 second wait time\n",
      "200\n",
      "total wait time :  112.85403895378113\n",
      "recovery api cost\n"
     ]
    },
    {
     "name": "stderr",
     "output_type": "stream",
     "text": [
      "\r",
      "  4%|█▎                              | 404/10000 [8:56:51<277:02:11, 103.93s/it]"
     ]
    },
    {
     "name": "stdout",
     "output_type": "stream",
     "text": [
      "KR_5733737587의 데이터 수집이 완료되었습니다\n",
      "KR_5733737879의 데이터 수집을 시작합니다.\n"
     ]
    },
    {
     "name": "stderr",
     "output_type": "stream",
     "text": [
      "\r",
      "  4%|█▎                               | 405/10000 [8:57:01<202:24:40, 75.94s/it]"
     ]
    },
    {
     "name": "stdout",
     "output_type": "stream",
     "text": [
      "KR_5733737988의 데이터 수집을 시작합니다.\n",
      "api cost full : infinite loop start\n",
      "try 10 second wait time\n",
      "429\n",
      "try 10 second wait time\n",
      "429\n",
      "try 10 second wait time\n",
      "429\n",
      "try 10 second wait time\n",
      "429\n",
      "try 10 second wait time\n",
      "429\n",
      "try 10 second wait time\n",
      "429\n",
      "try 10 second wait time\n",
      "429\n",
      "try 10 second wait time\n",
      "429\n",
      "try 10 second wait time\n",
      "429\n",
      "try 10 second wait time\n",
      "200\n",
      "total wait time :  102.55922198295593\n",
      "recovery api cost\n"
     ]
    },
    {
     "name": "stderr",
     "output_type": "stream",
     "text": [
      "\r",
      "  4%|█▎                               | 406/10000 [8:58:57<233:52:50, 87.76s/it]"
     ]
    },
    {
     "name": "stdout",
     "output_type": "stream",
     "text": [
      "KR_5733737988의 데이터 수집이 완료되었습니다\n",
      "KR_5733738018의 데이터 수집을 시작합니다.\n"
     ]
    },
    {
     "name": "stderr",
     "output_type": "stream",
     "text": [
      "\r",
      "  4%|█▎                               | 407/10000 [8:59:05<170:28:56, 63.98s/it]"
     ]
    },
    {
     "name": "stdout",
     "output_type": "stream",
     "text": [
      "KR_5733738157의 데이터 수집을 시작합니다.\n",
      "api cost full : infinite loop start\n",
      "try 10 second wait time\n",
      "429\n",
      "try 10 second wait time\n",
      "429\n",
      "try 10 second wait time\n",
      "429\n",
      "try 10 second wait time\n",
      "429\n",
      "try 10 second wait time\n",
      "429\n",
      "try 10 second wait time\n",
      "429\n",
      "try 10 second wait time\n",
      "429\n",
      "try 10 second wait time\n",
      "429\n",
      "try 10 second wait time\n",
      "429\n",
      "try 10 second wait time\n",
      "200\n",
      "total wait time :  102.72705006599426\n",
      "recovery api cost\n"
     ]
    },
    {
     "name": "stderr",
     "output_type": "stream",
     "text": [
      "\r",
      "  4%|█▎                               | 408/10000 [9:01:03<213:24:29, 80.09s/it]"
     ]
    },
    {
     "name": "stdout",
     "output_type": "stream",
     "text": [
      "KR_5733738157의 데이터 수집이 완료되었습니다\n",
      "KR_5733738333의 데이터 수집을 시작합니다.\n",
      "api cost full : infinite loop start\n",
      "try 10 second wait time\n",
      "429\n",
      "try 10 second wait time\n",
      "429\n",
      "try 10 second wait time\n",
      "429\n",
      "try 10 second wait time\n",
      "429\n",
      "try 10 second wait time\n",
      "429\n",
      "try 10 second wait time\n",
      "429\n",
      "try 10 second wait time\n",
      "429\n",
      "try 10 second wait time\n",
      "429\n",
      "try 10 second wait time\n",
      "429\n",
      "try 10 second wait time\n",
      "200\n",
      "total wait time :  102.5230770111084\n",
      "recovery api cost\n"
     ]
    },
    {
     "name": "stderr",
     "output_type": "stream",
     "text": [
      "\r",
      "  4%|█▎                               | 409/10000 [9:02:58<241:43:51, 90.73s/it]"
     ]
    },
    {
     "name": "stdout",
     "output_type": "stream",
     "text": [
      "KR_5733738333의 데이터 수집이 완료되었습니다\n",
      "KR_5733738862의 데이터 수집을 시작합니다.\n",
      "api cost full : infinite loop start\n",
      "try 10 second wait time\n",
      "429\n",
      "try 10 second wait time\n",
      "429\n",
      "try 10 second wait time\n",
      "429\n",
      "try 10 second wait time\n",
      "429\n",
      "try 10 second wait time\n",
      "429\n",
      "try 10 second wait time\n",
      "429\n",
      "try 10 second wait time\n",
      "429\n",
      "try 10 second wait time\n",
      "429\n",
      "try 10 second wait time\n",
      "429\n",
      "try 10 second wait time\n",
      "429\n",
      "try 10 second wait time\n",
      "200\n",
      "total wait time :  112.80099582672119\n",
      "recovery api cost\n"
     ]
    },
    {
     "name": "stderr",
     "output_type": "stream",
     "text": [
      "\r",
      "  4%|█▎                              | 410/10000 [9:05:05<270:08:31, 101.41s/it]"
     ]
    },
    {
     "name": "stdout",
     "output_type": "stream",
     "text": [
      "KR_5733738862의 데이터 수집이 완료되었습니다\n",
      "KR_5733738956의 데이터 수집을 시작합니다.\n"
     ]
    },
    {
     "name": "stderr",
     "output_type": "stream",
     "text": [
      "\r",
      "  4%|█▎                               | 411/10000 [9:05:15<197:04:09, 73.99s/it]"
     ]
    },
    {
     "name": "stdout",
     "output_type": "stream",
     "text": [
      "KR_5733740843의 데이터 수집을 시작합니다.\n",
      "api cost full : infinite loop start\n",
      "try 10 second wait time\n",
      "429\n",
      "try 10 second wait time\n",
      "429\n",
      "try 10 second wait time\n",
      "429\n",
      "try 10 second wait time\n",
      "429\n",
      "try 10 second wait time\n",
      "429\n",
      "try 10 second wait time\n",
      "429\n",
      "try 10 second wait time\n",
      "429\n",
      "try 10 second wait time\n",
      "429\n",
      "try 10 second wait time\n",
      "429\n",
      "try 10 second wait time\n",
      "429\n",
      "try 10 second wait time\n",
      "200\n",
      "total wait time :  113.0042519569397\n",
      "recovery api cost\n"
     ]
    },
    {
     "name": "stderr",
     "output_type": "stream",
     "text": [
      "\r",
      "  4%|█▎                               | 412/10000 [9:07:22<239:18:20, 89.85s/it]"
     ]
    },
    {
     "name": "stdout",
     "output_type": "stream",
     "text": [
      "KR_5733740843의 데이터 수집이 완료되었습니다\n",
      "KR_5733741222의 데이터 수집을 시작합니다.\n"
     ]
    },
    {
     "name": "stderr",
     "output_type": "stream",
     "text": [
      "\r",
      "  4%|█▎                               | 413/10000 [9:07:26<171:15:31, 64.31s/it]"
     ]
    },
    {
     "name": "stdout",
     "output_type": "stream",
     "text": [
      "KR_5733741642의 데이터 수집을 시작합니다.\n",
      "api cost full : infinite loop start\n",
      "try 10 second wait time\n",
      "429\n",
      "try 10 second wait time\n",
      "429\n",
      "try 10 second wait time\n",
      "429\n",
      "try 10 second wait time\n",
      "429\n",
      "try 10 second wait time\n",
      "429\n",
      "try 10 second wait time\n",
      "429\n",
      "try 10 second wait time\n",
      "429\n",
      "try 10 second wait time\n",
      "429\n",
      "try 10 second wait time\n",
      "429\n",
      "try 10 second wait time\n",
      "200\n",
      "total wait time :  102.5851640701294\n",
      "recovery api cost\n"
     ]
    },
    {
     "name": "stderr",
     "output_type": "stream",
     "text": [
      "\r",
      "  4%|█▎                               | 414/10000 [9:09:23<213:18:08, 80.11s/it]"
     ]
    },
    {
     "name": "stdout",
     "output_type": "stream",
     "text": [
      "KR_5733741642의 데이터 수집이 완료되었습니다\n",
      "KR_5733741928의 데이터 수집을 시작합니다.\n"
     ]
    },
    {
     "name": "stderr",
     "output_type": "stream",
     "text": [
      "\r",
      "  4%|█▎                               | 415/10000 [9:09:28<153:12:37, 57.54s/it]"
     ]
    },
    {
     "name": "stdout",
     "output_type": "stream",
     "text": [
      "KR_5733742722의 데이터 수집을 시작합니다.\n",
      "api cost full : infinite loop start\n",
      "try 10 second wait time\n",
      "429\n",
      "try 10 second wait time\n",
      "429\n",
      "try 10 second wait time\n",
      "429\n",
      "try 10 second wait time\n",
      "429\n",
      "try 10 second wait time\n",
      "429\n",
      "try 10 second wait time\n",
      "429\n",
      "try 10 second wait time\n",
      "429\n",
      "try 10 second wait time\n",
      "429\n",
      "try 10 second wait time\n",
      "429\n",
      "try 10 second wait time\n",
      "200\n",
      "total wait time :  102.70778799057007\n",
      "recovery api cost\n"
     ]
    },
    {
     "name": "stderr",
     "output_type": "stream",
     "text": [
      "\r",
      "  4%|█▎                               | 416/10000 [9:11:25<200:24:15, 75.28s/it]"
     ]
    },
    {
     "name": "stdout",
     "output_type": "stream",
     "text": [
      "KR_5733742722의 데이터 수집이 완료되었습니다\n",
      "KR_5733743898의 데이터 수집을 시작합니다.\n"
     ]
    },
    {
     "name": "stderr",
     "output_type": "stream",
     "text": [
      "\r",
      "  4%|█▍                               | 417/10000 [9:11:29<143:40:29, 53.97s/it]"
     ]
    },
    {
     "name": "stdout",
     "output_type": "stream",
     "text": [
      "KR_5733746224의 데이터 수집을 시작합니다.\n",
      "api cost full : infinite loop start\n",
      "try 10 second wait time\n",
      "429\n",
      "try 10 second wait time\n",
      "429\n",
      "try 10 second wait time\n",
      "429\n",
      "try 10 second wait time\n",
      "429\n",
      "try 10 second wait time\n",
      "429\n",
      "try 10 second wait time\n",
      "429\n",
      "try 10 second wait time\n",
      "429\n",
      "try 10 second wait time\n",
      "429\n",
      "try 10 second wait time\n",
      "429\n",
      "try 10 second wait time\n",
      "200\n",
      "total wait time :  102.79987287521362\n",
      "recovery api cost\n"
     ]
    },
    {
     "name": "stderr",
     "output_type": "stream",
     "text": [
      "\r",
      "  4%|█▍                               | 418/10000 [9:13:26<193:50:40, 72.83s/it]"
     ]
    },
    {
     "name": "stdout",
     "output_type": "stream",
     "text": [
      "KR_5733746224의 데이터 수집이 완료되었습니다\n",
      "KR_5733748566의 데이터 수집을 시작합니다.\n",
      "api cost full : infinite loop start\n",
      "try 10 second wait time\n",
      "429\n",
      "try 10 second wait time\n",
      "429\n",
      "try 10 second wait time\n",
      "429\n",
      "try 10 second wait time\n",
      "429\n",
      "try 10 second wait time\n",
      "429\n",
      "try 10 second wait time\n",
      "429\n",
      "try 10 second wait time\n",
      "429\n",
      "try 10 second wait time\n",
      "429\n",
      "try 10 second wait time\n",
      "429\n",
      "try 10 second wait time\n",
      "429\n",
      "try 10 second wait time\n",
      "200\n",
      "total wait time :  113.01909875869751\n",
      "recovery api cost\n"
     ]
    },
    {
     "name": "stderr",
     "output_type": "stream",
     "text": [
      "\r",
      "  4%|█▍                               | 419/10000 [9:15:32<236:12:23, 88.75s/it]"
     ]
    },
    {
     "name": "stdout",
     "output_type": "stream",
     "text": [
      "KR_5733748566의 데이터 수집이 완료되었습니다\n",
      "KR_5733749992의 데이터 수집을 시작합니다.\n",
      "api cost full : infinite loop start\n",
      "try 10 second wait time\n",
      "429\n",
      "try 10 second wait time\n",
      "429\n",
      "try 10 second wait time\n",
      "429\n",
      "try 10 second wait time\n",
      "429\n",
      "try 10 second wait time\n",
      "429\n",
      "try 10 second wait time\n",
      "429\n",
      "try 10 second wait time\n",
      "429\n",
      "try 10 second wait time\n",
      "429\n",
      "try 10 second wait time\n",
      "429\n",
      "try 10 second wait time\n",
      "429\n",
      "try 10 second wait time\n",
      "200\n",
      "total wait time :  113.10208892822266\n",
      "recovery api cost\n"
     ]
    },
    {
     "name": "stderr",
     "output_type": "stream",
     "text": [
      "\r",
      "  4%|█▎                              | 420/10000 [9:17:39<267:06:56, 100.38s/it]"
     ]
    },
    {
     "name": "stdout",
     "output_type": "stream",
     "text": [
      "KR_5733749992의 데이터 수집이 완료되었습니다\n",
      "KR_5733750268의 데이터 수집을 시작합니다.\n",
      "api cost full : infinite loop start\n",
      "try 10 second wait time\n",
      "429\n",
      "try 10 second wait time\n",
      "429\n",
      "try 10 second wait time\n",
      "429\n",
      "try 10 second wait time\n",
      "429\n",
      "try 10 second wait time\n",
      "429\n",
      "try 10 second wait time\n",
      "429\n",
      "try 10 second wait time\n",
      "429\n",
      "try 10 second wait time\n",
      "429\n",
      "try 10 second wait time\n",
      "429\n",
      "try 10 second wait time\n",
      "429\n",
      "try 10 second wait time\n",
      "200\n",
      "total wait time :  112.98872685432434\n",
      "recovery api cost\n"
     ]
    },
    {
     "name": "stderr",
     "output_type": "stream",
     "text": [
      "\r",
      "  4%|█▎                              | 421/10000 [9:19:46<288:18:03, 108.35s/it]"
     ]
    },
    {
     "name": "stdout",
     "output_type": "stream",
     "text": [
      "KR_5733750268의 데이터 수집이 완료되었습니다\n",
      "KR_5733751535의 데이터 수집을 시작합니다.\n"
     ]
    },
    {
     "name": "stderr",
     "output_type": "stream",
     "text": [
      "\r",
      "  4%|█▍                               | 422/10000 [9:20:00<212:33:08, 79.89s/it]"
     ]
    },
    {
     "name": "stdout",
     "output_type": "stream",
     "text": [
      "KR_5733751535의 데이터 수집이 완료되었습니다\n",
      "KR_5733751697의 데이터 수집을 시작합니다.\n",
      "api cost full : infinite loop start\n",
      "try 10 second wait time\n",
      "429\n",
      "try 10 second wait time\n",
      "429\n",
      "try 10 second wait time\n",
      "429\n",
      "try 10 second wait time\n",
      "429\n",
      "try 10 second wait time\n",
      "429\n",
      "try 10 second wait time\n",
      "429\n",
      "try 10 second wait time\n",
      "429\n",
      "try 10 second wait time\n",
      "429\n",
      "try 10 second wait time\n",
      "429\n",
      "try 10 second wait time\n",
      "200\n",
      "total wait time :  102.44138479232788\n",
      "recovery api cost\n"
     ]
    },
    {
     "name": "stderr",
     "output_type": "stream",
     "text": [
      "\r",
      "  4%|█▍                               | 423/10000 [9:21:56<241:21:14, 90.73s/it]"
     ]
    },
    {
     "name": "stdout",
     "output_type": "stream",
     "text": [
      "KR_5733751697의 데이터 수집이 완료되었습니다\n",
      "KR_5733751779의 데이터 수집을 시작합니다.\n"
     ]
    },
    {
     "name": "stderr",
     "output_type": "stream",
     "text": [
      "\r",
      "  4%|█▍                               | 424/10000 [9:21:59<171:32:44, 64.49s/it]"
     ]
    },
    {
     "name": "stdout",
     "output_type": "stream",
     "text": [
      "KR_5733752256의 데이터 수집을 시작합니다.\n",
      "api cost full : infinite loop start\n",
      "try 10 second wait time\n",
      "429\n",
      "try 10 second wait time\n",
      "429\n",
      "try 10 second wait time\n",
      "429\n",
      "try 10 second wait time\n",
      "429\n",
      "try 10 second wait time\n",
      "429\n",
      "try 10 second wait time\n",
      "429\n",
      "try 10 second wait time\n",
      "429\n",
      "try 10 second wait time\n",
      "429\n",
      "try 10 second wait time\n",
      "429\n",
      "try 10 second wait time\n",
      "200\n",
      "total wait time :  102.5731520652771\n",
      "recovery api cost\n"
     ]
    },
    {
     "name": "stderr",
     "output_type": "stream",
     "text": [
      "\r",
      "  4%|█▍                               | 425/10000 [9:23:55<212:42:52, 79.98s/it]"
     ]
    },
    {
     "name": "stdout",
     "output_type": "stream",
     "text": [
      "KR_5733752256의 데이터 수집이 완료되었습니다\n",
      "KR_5733754264의 데이터 수집을 시작합니다.\n",
      "api cost full : infinite loop start\n",
      "try 10 second wait time\n",
      "429\n",
      "try 10 second wait time\n",
      "429\n",
      "try 10 second wait time\n",
      "429\n",
      "try 10 second wait time\n",
      "429\n",
      "try 10 second wait time\n",
      "429\n",
      "try 10 second wait time\n",
      "429\n",
      "try 10 second wait time\n",
      "429\n",
      "try 10 second wait time\n",
      "429\n",
      "try 10 second wait time\n",
      "429\n",
      "try 10 second wait time\n",
      "429\n",
      "try 10 second wait time\n",
      "200\n",
      "total wait time :  112.76771688461304\n",
      "recovery api cost\n"
     ]
    },
    {
     "name": "stderr",
     "output_type": "stream",
     "text": [
      "\r",
      "  4%|█▍                               | 426/10000 [9:26:02<249:51:16, 93.95s/it]"
     ]
    },
    {
     "name": "stdout",
     "output_type": "stream",
     "text": [
      "KR_5733754264의 데이터 수집이 완료되었습니다\n",
      "KR_5733757101의 데이터 수집을 시작합니다.\n"
     ]
    },
    {
     "name": "stderr",
     "output_type": "stream",
     "text": [
      "\r",
      "  4%|█▍                               | 427/10000 [9:26:08<179:58:01, 67.68s/it]"
     ]
    },
    {
     "name": "stdout",
     "output_type": "stream",
     "text": [
      "KR_5733757147의 데이터 수집을 시작합니다.\n",
      "api cost full : infinite loop start\n",
      "try 10 second wait time\n",
      "429\n",
      "try 10 second wait time\n",
      "429\n",
      "try 10 second wait time\n",
      "429\n",
      "try 10 second wait time\n",
      "429\n",
      "try 10 second wait time\n",
      "429\n",
      "try 10 second wait time\n",
      "429\n",
      "try 10 second wait time\n",
      "429\n",
      "try 10 second wait time\n",
      "429\n",
      "try 10 second wait time\n",
      "429\n",
      "try 10 second wait time\n",
      "429\n",
      "try 10 second wait time\n",
      "200\n",
      "total wait time :  112.87402319908142\n",
      "recovery api cost\n"
     ]
    },
    {
     "name": "stderr",
     "output_type": "stream",
     "text": [
      "\r",
      "  4%|█▍                               | 428/10000 [9:28:14<226:03:54, 85.02s/it]"
     ]
    },
    {
     "name": "stdout",
     "output_type": "stream",
     "text": [
      "KR_5733757147의 데이터 수집이 완료되었습니다\n",
      "KR_5733757218의 데이터 수집을 시작합니다.\n",
      "api cost full : infinite loop start\n",
      "try 10 second wait time\n",
      "429\n",
      "try 10 second wait time\n",
      "429\n",
      "try 10 second wait time\n",
      "429\n",
      "try 10 second wait time\n",
      "429\n",
      "try 10 second wait time\n",
      "429\n",
      "try 10 second wait time\n",
      "429\n",
      "try 10 second wait time\n",
      "429\n",
      "try 10 second wait time\n",
      "429\n",
      "try 10 second wait time\n",
      "429\n",
      "try 10 second wait time\n",
      "429\n",
      "try 10 second wait time\n",
      "200\n",
      "total wait time :  112.7946150302887\n",
      "recovery api cost\n"
     ]
    },
    {
     "name": "stderr",
     "output_type": "stream",
     "text": [
      "\r",
      "  4%|█▍                               | 429/10000 [9:30:21<259:44:48, 97.70s/it]"
     ]
    },
    {
     "name": "stdout",
     "output_type": "stream",
     "text": [
      "KR_5733757218의 데이터 수집이 완료되었습니다\n",
      "KR_5733758300의 데이터 수집을 시작합니다.\n"
     ]
    },
    {
     "name": "stderr",
     "output_type": "stream",
     "text": [
      "\r",
      "  4%|█▍                               | 430/10000 [9:30:28<187:28:45, 70.53s/it]"
     ]
    },
    {
     "name": "stdout",
     "output_type": "stream",
     "text": [
      "KR_5733758880의 데이터 수집을 시작합니다.\n",
      "api cost full : infinite loop start\n",
      "try 10 second wait time\n",
      "429\n",
      "try 10 second wait time\n",
      "429\n",
      "try 10 second wait time\n",
      "429\n",
      "try 10 second wait time\n",
      "429\n",
      "try 10 second wait time\n",
      "429\n",
      "try 10 second wait time\n",
      "429\n",
      "try 10 second wait time\n",
      "429\n",
      "try 10 second wait time\n",
      "429\n",
      "try 10 second wait time\n",
      "429\n",
      "try 10 second wait time\n",
      "200\n",
      "total wait time :  102.81861877441406\n",
      "recovery api cost\n"
     ]
    },
    {
     "name": "stderr",
     "output_type": "stream",
     "text": [
      "\r",
      "  4%|█▍                               | 431/10000 [9:32:25<224:25:22, 84.43s/it]"
     ]
    },
    {
     "name": "stdout",
     "output_type": "stream",
     "text": [
      "KR_5733758880의 데이터 수집이 완료되었습니다\n",
      "KR_5733759827의 데이터 수집을 시작합니다.\n",
      "api cost full : infinite loop start\n",
      "try 10 second wait time\n",
      "429\n",
      "try 10 second wait time\n",
      "429\n",
      "try 10 second wait time\n",
      "429\n",
      "try 10 second wait time\n",
      "429\n",
      "try 10 second wait time\n",
      "429\n",
      "try 10 second wait time\n",
      "429\n",
      "try 10 second wait time\n",
      "429\n",
      "try 10 second wait time\n",
      "429\n",
      "try 10 second wait time\n",
      "429\n",
      "try 10 second wait time\n",
      "200\n",
      "total wait time :  103.08871603012085\n",
      "recovery api cost\n"
     ]
    },
    {
     "name": "stderr",
     "output_type": "stream",
     "text": [
      "\r",
      "  4%|█▍                               | 432/10000 [9:34:22<250:23:47, 94.21s/it]"
     ]
    },
    {
     "name": "stdout",
     "output_type": "stream",
     "text": [
      "KR_5733759827의 데이터 수집이 완료되었습니다\n",
      "KR_5733761073의 데이터 수집을 시작합니다.\n",
      "api cost full : infinite loop start\n",
      "try 10 second wait time\n",
      "429\n",
      "try 10 second wait time\n",
      "429\n",
      "try 10 second wait time\n",
      "429\n",
      "try 10 second wait time\n",
      "429\n",
      "try 10 second wait time\n",
      "429\n",
      "try 10 second wait time\n",
      "429\n",
      "try 10 second wait time\n",
      "429\n",
      "try 10 second wait time\n",
      "429\n",
      "try 10 second wait time\n",
      "429\n",
      "try 10 second wait time\n",
      "429\n",
      "try 10 second wait time\n",
      "200\n",
      "total wait time :  113.08920216560364\n",
      "recovery api cost\n"
     ]
    },
    {
     "name": "stderr",
     "output_type": "stream",
     "text": [
      "\r",
      "  4%|█▍                              | 433/10000 [9:36:29<276:54:52, 104.20s/it]"
     ]
    },
    {
     "name": "stdout",
     "output_type": "stream",
     "text": [
      "KR_5733761073의 데이터 수집이 완료되었습니다\n",
      "KR_5733762186의 데이터 수집을 시작합니다.\n"
     ]
    },
    {
     "name": "stderr",
     "output_type": "stream",
     "text": [
      "\r",
      "  4%|█▍                               | 434/10000 [9:36:39<201:01:55, 75.65s/it]"
     ]
    },
    {
     "name": "stdout",
     "output_type": "stream",
     "text": [
      "KR_5733763095의 데이터 수집을 시작합니다.\n",
      "api cost full : infinite loop start\n",
      "try 10 second wait time\n",
      "429\n",
      "try 10 second wait time\n",
      "429\n",
      "try 10 second wait time\n",
      "429\n",
      "try 10 second wait time\n",
      "429\n",
      "try 10 second wait time\n",
      "429\n",
      "try 10 second wait time\n",
      "429\n",
      "try 10 second wait time\n",
      "429\n",
      "try 10 second wait time\n",
      "429\n",
      "try 10 second wait time\n",
      "429\n",
      "try 10 second wait time\n",
      "200\n",
      "total wait time :  102.62102603912354\n",
      "recovery api cost\n"
     ]
    },
    {
     "name": "stderr",
     "output_type": "stream",
     "text": [
      "\r",
      "  4%|█▍                               | 435/10000 [9:38:35<233:17:11, 87.80s/it]"
     ]
    },
    {
     "name": "stdout",
     "output_type": "stream",
     "text": [
      "KR_5733763095의 데이터 수집이 완료되었습니다\n",
      "KR_5733764200의 데이터 수집을 시작합니다.\n",
      "api cost full : infinite loop start\n",
      "try 10 second wait time\n",
      "429\n",
      "try 10 second wait time\n",
      "429\n",
      "try 10 second wait time\n",
      "429\n",
      "try 10 second wait time\n",
      "429\n",
      "try 10 second wait time\n",
      "429\n",
      "try 10 second wait time\n",
      "429\n",
      "try 10 second wait time\n",
      "429\n",
      "try 10 second wait time\n",
      "429\n",
      "try 10 second wait time\n",
      "429\n",
      "try 10 second wait time\n",
      "429\n",
      "try 10 second wait time\n",
      "200\n",
      "total wait time :  112.77302408218384\n",
      "recovery api cost\n"
     ]
    },
    {
     "name": "stderr",
     "output_type": "stream",
     "text": [
      "\r",
      "  4%|█▍                               | 436/10000 [9:40:40<263:26:51, 99.16s/it]"
     ]
    },
    {
     "name": "stdout",
     "output_type": "stream",
     "text": [
      "KR_5733764200의 데이터 수집이 완료되었습니다\n",
      "KR_5733764475의 데이터 수집을 시작합니다.\n"
     ]
    },
    {
     "name": "stderr",
     "output_type": "stream",
     "text": [
      "\r",
      "  4%|█▍                               | 437/10000 [9:40:47<189:55:27, 71.50s/it]"
     ]
    },
    {
     "name": "stdout",
     "output_type": "stream",
     "text": [
      "KR_5733764643의 데이터 수집을 시작합니다.\n",
      "api cost full : infinite loop start\n",
      "try 10 second wait time\n",
      "429\n",
      "try 10 second wait time\n",
      "429\n",
      "try 10 second wait time\n",
      "429\n",
      "try 10 second wait time\n",
      "429\n",
      "try 10 second wait time\n",
      "429\n",
      "try 10 second wait time\n",
      "429\n",
      "try 10 second wait time\n",
      "429\n",
      "try 10 second wait time\n",
      "429\n",
      "try 10 second wait time\n",
      "429\n",
      "try 10 second wait time\n",
      "429\n",
      "try 10 second wait time\n",
      "200\n",
      "total wait time :  112.78453087806702\n",
      "recovery api cost\n",
      "api cost full : infinite loop start\n",
      "try 10 second wait time\n",
      "429\n",
      "try 10 second wait time\n",
      "429\n",
      "try 10 second wait time\n",
      "429\n",
      "try 10 second wait time\n",
      "429\n",
      "try 10 second wait time\n",
      "429\n",
      "try 10 second wait time\n",
      "429\n",
      "try 10 second wait time\n",
      "429\n",
      "try 10 second wait time\n",
      "429\n",
      "try 10 second wait time\n",
      "429\n",
      "try 10 second wait time\n",
      "200\n",
      "total wait time :  102.54292392730713\n",
      "recovery api cost\n"
     ]
    },
    {
     "name": "stderr",
     "output_type": "stream",
     "text": [
      "\r",
      "  4%|█▍                              | 438/10000 [9:44:37<316:12:08, 119.05s/it]"
     ]
    },
    {
     "name": "stdout",
     "output_type": "stream",
     "text": [
      "KR_5733764643의 데이터 수집이 완료되었습니다\n",
      "KR_5733764885의 데이터 수집을 시작합니다.\n"
     ]
    },
    {
     "name": "stderr",
     "output_type": "stream",
     "text": [
      "\r",
      "  4%|█▍                               | 439/10000 [9:44:53<233:34:28, 87.95s/it]"
     ]
    },
    {
     "name": "stdout",
     "output_type": "stream",
     "text": [
      "KR_5733764885의 데이터 수집이 완료되었습니다\n",
      "KR_5733765928의 데이터 수집을 시작합니다.\n"
     ]
    },
    {
     "name": "stderr",
     "output_type": "stream",
     "text": [
      "\r",
      "  4%|█▍                               | 440/10000 [9:44:55<164:59:32, 62.13s/it]"
     ]
    },
    {
     "name": "stdout",
     "output_type": "stream",
     "text": [
      "KR_5733766343의 데이터 수집을 시작합니다.\n",
      "api cost full : infinite loop start\n",
      "try 10 second wait time\n",
      "429\n",
      "try 10 second wait time\n",
      "429\n",
      "try 10 second wait time\n",
      "429\n",
      "try 10 second wait time\n",
      "429\n",
      "try 10 second wait time\n",
      "429\n",
      "try 10 second wait time\n",
      "429\n",
      "try 10 second wait time\n",
      "429\n",
      "try 10 second wait time\n",
      "429\n",
      "try 10 second wait time\n",
      "429\n",
      "try 10 second wait time\n",
      "200\n",
      "total wait time :  102.80312490463257\n",
      "recovery api cost\n"
     ]
    },
    {
     "name": "stderr",
     "output_type": "stream",
     "text": [
      "\r",
      "  4%|█▍                               | 441/10000 [9:46:51<208:06:54, 78.38s/it]"
     ]
    },
    {
     "name": "stdout",
     "output_type": "stream",
     "text": [
      "KR_5733766343의 데이터 수집이 완료되었습니다\n",
      "KR_5733766770의 데이터 수집을 시작합니다.\n",
      "api cost full : infinite loop start\n",
      "try 10 second wait time\n",
      "429\n",
      "try 10 second wait time\n",
      "429\n",
      "try 10 second wait time\n",
      "429\n",
      "try 10 second wait time\n",
      "429\n",
      "try 10 second wait time\n",
      "429\n",
      "try 10 second wait time\n",
      "429\n",
      "try 10 second wait time\n",
      "429\n",
      "try 10 second wait time\n",
      "429\n",
      "try 10 second wait time\n",
      "429\n",
      "try 10 second wait time\n",
      "429\n",
      "try 10 second wait time\n",
      "200\n",
      "total wait time :  113.35769176483154\n",
      "recovery api cost\n"
     ]
    },
    {
     "name": "stderr",
     "output_type": "stream",
     "text": [
      "\r",
      "  4%|█▍                               | 442/10000 [9:48:58<247:15:14, 93.13s/it]"
     ]
    },
    {
     "name": "stdout",
     "output_type": "stream",
     "text": [
      "KR_5733766770의 데이터 수집이 완료되었습니다\n",
      "KR_5733767419의 데이터 수집을 시작합니다.\n"
     ]
    },
    {
     "name": "stderr",
     "output_type": "stream",
     "text": [
      "\r",
      "  4%|█▍                               | 443/10000 [9:49:05<178:41:57, 67.31s/it]"
     ]
    },
    {
     "name": "stdout",
     "output_type": "stream",
     "text": [
      "KR_5733767917의 데이터 수집을 시작합니다.\n",
      "api cost full : infinite loop start\n",
      "try 10 second wait time\n",
      "429\n",
      "try 10 second wait time\n",
      "429\n",
      "try 10 second wait time\n",
      "429\n",
      "try 10 second wait time\n",
      "429\n",
      "try 10 second wait time\n",
      "429\n",
      "try 10 second wait time\n",
      "429\n",
      "try 10 second wait time\n",
      "429\n",
      "try 10 second wait time\n",
      "429\n",
      "try 10 second wait time\n",
      "429\n",
      "try 10 second wait time\n",
      "200\n",
      "total wait time :  103.1929440498352\n",
      "recovery api cost\n"
     ]
    },
    {
     "name": "stderr",
     "output_type": "stream",
     "text": [
      "\r",
      "  4%|█▍                               | 444/10000 [9:51:02<217:51:00, 82.07s/it]"
     ]
    },
    {
     "name": "stdout",
     "output_type": "stream",
     "text": [
      "KR_5733767917의 데이터 수집이 완료되었습니다\n",
      "KR_5733769872의 데이터 수집을 시작합니다.\n"
     ]
    },
    {
     "name": "stderr",
     "output_type": "stream",
     "text": [
      "\r",
      "  4%|█▍                               | 445/10000 [9:51:06<155:35:35, 58.62s/it]"
     ]
    },
    {
     "name": "stdout",
     "output_type": "stream",
     "text": [
      "KR_5733770476의 데이터 수집을 시작합니다.\n",
      "api cost full : infinite loop start\n",
      "try 10 second wait time\n",
      "429\n",
      "try 10 second wait time\n",
      "429\n",
      "try 10 second wait time\n",
      "429\n",
      "try 10 second wait time\n",
      "429\n",
      "try 10 second wait time\n",
      "429\n",
      "try 10 second wait time\n",
      "429\n",
      "try 10 second wait time\n",
      "429\n",
      "try 10 second wait time\n",
      "429\n",
      "try 10 second wait time\n",
      "429\n",
      "try 10 second wait time\n",
      "200\n",
      "total wait time :  102.6043028831482\n",
      "recovery api cost\n"
     ]
    },
    {
     "name": "stderr",
     "output_type": "stream",
     "text": [
      "\r",
      "  4%|█▍                               | 446/10000 [9:53:02<201:36:04, 75.96s/it]"
     ]
    },
    {
     "name": "stdout",
     "output_type": "stream",
     "text": [
      "KR_5733770476의 데이터 수집이 완료되었습니다\n",
      "KR_5733770883의 데이터 수집을 시작합니다.\n",
      "api cost full : infinite loop start\n",
      "try 10 second wait time\n",
      "429\n",
      "try 10 second wait time\n",
      "429\n",
      "try 10 second wait time\n",
      "429\n",
      "try 10 second wait time\n",
      "429\n",
      "try 10 second wait time\n",
      "429\n",
      "try 10 second wait time\n",
      "429\n",
      "try 10 second wait time\n",
      "429\n",
      "try 10 second wait time\n",
      "429\n",
      "try 10 second wait time\n",
      "429\n",
      "try 10 second wait time\n",
      "200\n",
      "total wait time :  102.6667640209198\n",
      "recovery api cost\n"
     ]
    },
    {
     "name": "stderr",
     "output_type": "stream",
     "text": [
      "\r",
      "  4%|█▍                               | 447/10000 [9:54:59<233:45:35, 88.09s/it]"
     ]
    },
    {
     "name": "stdout",
     "output_type": "stream",
     "text": [
      "KR_5733770883의 데이터 수집이 완료되었습니다\n",
      "KR_5733771425의 데이터 수집을 시작합니다.\n"
     ]
    },
    {
     "name": "stderr",
     "output_type": "stream",
     "text": [
      "\r",
      "  4%|█▍                               | 448/10000 [9:55:06<169:33:40, 63.90s/it]"
     ]
    },
    {
     "name": "stdout",
     "output_type": "stream",
     "text": [
      "KR_5733771623의 데이터 수집을 시작합니다.\n",
      "api cost full : infinite loop start\n",
      "try 10 second wait time\n",
      "429\n",
      "try 10 second wait time\n",
      "429\n",
      "try 10 second wait time\n",
      "429\n",
      "try 10 second wait time\n",
      "429\n",
      "try 10 second wait time\n",
      "429\n",
      "try 10 second wait time\n",
      "429\n",
      "try 10 second wait time\n",
      "429\n",
      "try 10 second wait time\n",
      "429\n",
      "try 10 second wait time\n",
      "429\n",
      "try 10 second wait time\n",
      "200\n",
      "total wait time :  102.82419610023499\n",
      "recovery api cost\n"
     ]
    },
    {
     "name": "stderr",
     "output_type": "stream",
     "text": [
      "\r",
      "  4%|█▍                               | 449/10000 [9:57:03<211:45:48, 79.82s/it]"
     ]
    },
    {
     "name": "stdout",
     "output_type": "stream",
     "text": [
      "KR_5733771623의 데이터 수집이 완료되었습니다\n",
      "KR_5733772558의 데이터 수집을 시작합니다.\n"
     ]
    },
    {
     "name": "stderr",
     "output_type": "stream",
     "text": [
      "\r",
      "  4%|█▍                               | 450/10000 [9:57:07<151:31:06, 57.12s/it]"
     ]
    },
    {
     "name": "stdout",
     "output_type": "stream",
     "text": [
      "KR_5733772599의 데이터 수집을 시작합니다.\n",
      "api cost full : infinite loop start\n",
      "try 10 second wait time\n",
      "429\n",
      "try 10 second wait time\n",
      "429\n",
      "try 10 second wait time\n",
      "429\n",
      "try 10 second wait time\n",
      "429\n",
      "try 10 second wait time\n",
      "429\n",
      "try 10 second wait time\n",
      "429\n",
      "try 10 second wait time\n",
      "429\n",
      "try 10 second wait time\n",
      "429\n",
      "try 10 second wait time\n",
      "429\n",
      "try 10 second wait time\n",
      "200\n",
      "total wait time :  102.49573969841003\n",
      "recovery api cost\n"
     ]
    },
    {
     "name": "stderr",
     "output_type": "stream",
     "text": [
      "\r",
      "  5%|█▍                               | 451/10000 [9:59:03<197:50:56, 74.59s/it]"
     ]
    },
    {
     "name": "stdout",
     "output_type": "stream",
     "text": [
      "KR_5733772599의 데이터 수집이 완료되었습니다\n",
      "KR_5733772927의 데이터 수집을 시작합니다.\n"
     ]
    },
    {
     "name": "stderr",
     "output_type": "stream",
     "text": [
      "\r",
      "  5%|█▍                               | 452/10000 [9:59:07<141:52:40, 53.49s/it]"
     ]
    },
    {
     "name": "stdout",
     "output_type": "stream",
     "text": [
      "KR_5733774170의 데이터 수집을 시작합니다.\n",
      "api cost full : infinite loop start\n",
      "try 10 second wait time\n",
      "429\n",
      "try 10 second wait time\n",
      "429\n",
      "try 10 second wait time\n",
      "429\n",
      "try 10 second wait time\n",
      "429\n",
      "try 10 second wait time\n",
      "429\n",
      "try 10 second wait time\n",
      "429\n",
      "try 10 second wait time\n",
      "429\n",
      "try 10 second wait time\n",
      "429\n",
      "try 10 second wait time\n",
      "429\n",
      "try 10 second wait time\n",
      "429\n",
      "try 10 second wait time\n",
      "200\n",
      "total wait time :  113.08052492141724\n",
      "recovery api cost\n"
     ]
    },
    {
     "name": "stderr",
     "output_type": "stream",
     "text": [
      "\r",
      "  5%|█▍                              | 453/10000 [10:01:14<200:20:49, 75.55s/it]"
     ]
    },
    {
     "name": "stdout",
     "output_type": "stream",
     "text": [
      "KR_5733774170의 데이터 수집이 완료되었습니다\n",
      "KR_5733775108의 데이터 수집을 시작합니다.\n",
      "api cost full : infinite loop start\n",
      "try 10 second wait time\n",
      "429\n",
      "try 10 second wait time\n",
      "429\n",
      "try 10 second wait time\n",
      "429\n",
      "try 10 second wait time\n",
      "429\n",
      "try 10 second wait time\n",
      "429\n",
      "try 10 second wait time\n",
      "429\n",
      "try 10 second wait time\n",
      "429\n",
      "try 10 second wait time\n",
      "429\n",
      "try 10 second wait time\n",
      "429\n",
      "try 10 second wait time\n",
      "200\n",
      "total wait time :  102.91215372085571\n",
      "recovery api cost\n"
     ]
    },
    {
     "name": "stderr",
     "output_type": "stream",
     "text": [
      "\r",
      "  5%|█▍                              | 454/10000 [10:03:10<232:40:59, 87.75s/it]"
     ]
    },
    {
     "name": "stdout",
     "output_type": "stream",
     "text": [
      "KR_5733775108의 데이터 수집이 완료되었습니다\n",
      "KR_5733776139의 데이터 수집을 시작합니다.\n",
      "api cost full : infinite loop start\n",
      "try 10 second wait time\n",
      "429\n",
      "try 10 second wait time\n",
      "429\n",
      "try 10 second wait time\n",
      "429\n",
      "try 10 second wait time\n",
      "429\n",
      "try 10 second wait time\n",
      "429\n",
      "try 10 second wait time\n",
      "429\n",
      "try 10 second wait time\n",
      "429\n",
      "try 10 second wait time\n",
      "429\n",
      "try 10 second wait time\n",
      "429\n",
      "try 10 second wait time\n",
      "200\n",
      "total wait time :  102.57462406158447\n",
      "recovery api cost\n"
     ]
    },
    {
     "name": "stderr",
     "output_type": "stream",
     "text": [
      "\r",
      "  5%|█▍                              | 455/10000 [10:05:07<255:34:27, 96.39s/it]"
     ]
    },
    {
     "name": "stdout",
     "output_type": "stream",
     "text": [
      "KR_5733776139의 데이터 수집이 완료되었습니다\n",
      "KR_5733777590의 데이터 수집을 시작합니다.\n"
     ]
    },
    {
     "name": "stderr",
     "output_type": "stream",
     "text": [
      "\r",
      "  5%|█▍                              | 456/10000 [10:05:22<190:54:42, 72.01s/it]"
     ]
    },
    {
     "name": "stdout",
     "output_type": "stream",
     "text": [
      "KR_5733777590의 데이터 수집이 완료되었습니다\n",
      "KR_5733777988의 데이터 수집을 시작합니다.\n",
      "api cost full : infinite loop start\n",
      "try 10 second wait time\n",
      "429\n",
      "try 10 second wait time\n",
      "429\n",
      "try 10 second wait time\n",
      "429\n",
      "try 10 second wait time\n",
      "429\n",
      "try 10 second wait time\n",
      "429\n",
      "try 10 second wait time\n",
      "429\n",
      "try 10 second wait time\n",
      "429\n",
      "try 10 second wait time\n",
      "429\n",
      "try 10 second wait time\n",
      "429\n",
      "try 10 second wait time\n",
      "200\n",
      "total wait time :  102.91213798522949\n",
      "recovery api cost\n"
     ]
    },
    {
     "name": "stderr",
     "output_type": "stream",
     "text": [
      "\r",
      "  5%|█▍                              | 457/10000 [10:07:18<226:09:53, 85.32s/it]"
     ]
    },
    {
     "name": "stdout",
     "output_type": "stream",
     "text": [
      "KR_5733777988의 데이터 수집이 완료되었습니다\n",
      "KR_5733777993의 데이터 수집을 시작합니다.\n"
     ]
    },
    {
     "name": "stderr",
     "output_type": "stream",
     "text": [
      "\r",
      "  5%|█▍                              | 458/10000 [10:07:24<162:52:54, 61.45s/it]"
     ]
    },
    {
     "name": "stdout",
     "output_type": "stream",
     "text": [
      "KR_5733778120의 데이터 수집을 시작합니다.\n",
      "api cost full : infinite loop start\n",
      "try 10 second wait time\n",
      "429\n",
      "try 10 second wait time\n",
      "429\n",
      "try 10 second wait time\n",
      "429\n",
      "try 10 second wait time\n",
      "429\n",
      "try 10 second wait time\n",
      "429\n",
      "try 10 second wait time\n",
      "429\n",
      "try 10 second wait time\n",
      "429\n",
      "try 10 second wait time\n",
      "429\n",
      "try 10 second wait time\n",
      "429\n",
      "try 10 second wait time\n",
      "200\n",
      "total wait time :  102.85366487503052\n",
      "recovery api cost\n"
     ]
    },
    {
     "name": "stderr",
     "output_type": "stream",
     "text": [
      "\r",
      "  5%|█▍                              | 459/10000 [10:09:21<206:57:24, 78.09s/it]"
     ]
    },
    {
     "name": "stdout",
     "output_type": "stream",
     "text": [
      "KR_5733778120의 데이터 수집이 완료되었습니다\n",
      "KR_5733778394의 데이터 수집을 시작합니다.\n"
     ]
    },
    {
     "name": "stderr",
     "output_type": "stream",
     "text": [
      "\r",
      "  5%|█▍                              | 460/10000 [10:09:24<147:40:13, 55.72s/it]"
     ]
    },
    {
     "name": "stdout",
     "output_type": "stream",
     "text": [
      "KR_5733779514의 데이터 수집을 시작합니다.\n",
      "api cost full : infinite loop start\n",
      "try 10 second wait time\n",
      "429\n",
      "try 10 second wait time\n",
      "429\n",
      "try 10 second wait time\n",
      "429\n",
      "try 10 second wait time\n",
      "429\n",
      "try 10 second wait time\n",
      "429\n",
      "try 10 second wait time\n",
      "429\n",
      "try 10 second wait time\n",
      "429\n",
      "try 10 second wait time\n",
      "429\n",
      "try 10 second wait time\n",
      "429\n",
      "try 10 second wait time\n",
      "200\n",
      "total wait time :  102.97581911087036\n",
      "recovery api cost\n"
     ]
    },
    {
     "name": "stderr",
     "output_type": "stream",
     "text": [
      "\r",
      "  5%|█▍                              | 461/10000 [10:11:21<196:12:57, 74.05s/it]"
     ]
    },
    {
     "name": "stdout",
     "output_type": "stream",
     "text": [
      "KR_5733779514의 데이터 수집이 완료되었습니다\n",
      "KR_5733780439의 데이터 수집을 시작합니다.\n",
      "api cost full : infinite loop start\n",
      "try 10 second wait time\n",
      "429\n",
      "try 10 second wait time\n",
      "429\n",
      "try 10 second wait time\n",
      "429\n",
      "try 10 second wait time\n",
      "429\n",
      "try 10 second wait time\n",
      "429\n",
      "try 10 second wait time\n",
      "429\n",
      "try 10 second wait time\n",
      "429\n",
      "try 10 second wait time\n",
      "429\n",
      "try 10 second wait time\n",
      "429\n",
      "try 10 second wait time\n",
      "429\n",
      "try 10 second wait time\n",
      "200\n",
      "total wait time :  112.78595495223999\n",
      "recovery api cost\n"
     ]
    },
    {
     "name": "stderr",
     "output_type": "stream",
     "text": [
      "\r",
      "  5%|█▍                              | 462/10000 [10:13:27<237:13:59, 89.54s/it]"
     ]
    },
    {
     "name": "stdout",
     "output_type": "stream",
     "text": [
      "KR_5733780439의 데이터 수집이 완료되었습니다\n",
      "KR_5733783668의 데이터 수집을 시작합니다.\n",
      "api cost full : infinite loop start\n",
      "try 10 second wait time\n",
      "429\n",
      "try 10 second wait time\n",
      "429\n",
      "try 10 second wait time\n",
      "429\n",
      "try 10 second wait time\n",
      "429\n",
      "try 10 second wait time\n",
      "429\n",
      "try 10 second wait time\n",
      "429\n",
      "try 10 second wait time\n",
      "429\n",
      "try 10 second wait time\n",
      "429\n",
      "try 10 second wait time\n",
      "429\n",
      "try 10 second wait time\n",
      "429\n",
      "try 10 second wait time\n",
      "200\n",
      "total wait time :  112.86324977874756\n",
      "recovery api cost\n"
     ]
    },
    {
     "name": "stderr",
     "output_type": "stream",
     "text": [
      "\r",
      "  5%|█▍                             | 463/10000 [10:15:32<265:49:15, 100.34s/it]"
     ]
    },
    {
     "name": "stdout",
     "output_type": "stream",
     "text": [
      "KR_5733783668의 데이터 수집이 완료되었습니다\n",
      "KR_5733783943의 데이터 수집을 시작합니다.\n",
      "api cost full : infinite loop start\n",
      "try 10 second wait time\n",
      "429\n",
      "try 10 second wait time\n",
      "429\n",
      "try 10 second wait time\n",
      "429\n",
      "try 10 second wait time\n",
      "429\n",
      "try 10 second wait time\n",
      "429\n",
      "try 10 second wait time\n",
      "429\n",
      "try 10 second wait time\n",
      "429\n",
      "try 10 second wait time\n",
      "429\n",
      "try 10 second wait time\n",
      "429\n",
      "try 10 second wait time\n",
      "429\n",
      "try 10 second wait time\n",
      "200\n",
      "total wait time :  113.0907621383667\n",
      "recovery api cost\n"
     ]
    },
    {
     "name": "stderr",
     "output_type": "stream",
     "text": [
      "\r",
      "  5%|█▍                             | 464/10000 [10:17:40<287:39:17, 108.59s/it]"
     ]
    },
    {
     "name": "stdout",
     "output_type": "stream",
     "text": [
      "KR_5733783943의 데이터 수집이 완료되었습니다\n",
      "KR_5733785108의 데이터 수집을 시작합니다.\n"
     ]
    },
    {
     "name": "stderr",
     "output_type": "stream",
     "text": [
      "\r",
      "  5%|█▍                              | 465/10000 [10:17:56<214:10:17, 80.86s/it]"
     ]
    },
    {
     "name": "stdout",
     "output_type": "stream",
     "text": [
      "KR_5733785108의 데이터 수집이 완료되었습니다\n",
      "KR_5733785421의 데이터 수집을 시작합니다.\n",
      "api cost full : infinite loop start\n",
      "try 10 second wait time\n",
      "429\n",
      "try 10 second wait time\n",
      "429\n",
      "try 10 second wait time\n",
      "429\n",
      "try 10 second wait time\n",
      "429\n",
      "try 10 second wait time\n",
      "429\n",
      "try 10 second wait time\n",
      "429\n",
      "try 10 second wait time\n",
      "429\n",
      "try 10 second wait time\n",
      "429\n",
      "try 10 second wait time\n",
      "429\n",
      "try 10 second wait time\n",
      "200\n",
      "total wait time :  102.48120903968811\n",
      "recovery api cost\n"
     ]
    },
    {
     "name": "stderr",
     "output_type": "stream",
     "text": [
      "\r",
      "  5%|█▍                              | 466/10000 [10:19:55<244:07:27, 92.18s/it]"
     ]
    },
    {
     "name": "stdout",
     "output_type": "stream",
     "text": [
      "KR_5733785421의 데이터 수집이 완료되었습니다\n",
      "KR_5733785713의 데이터 수집을 시작합니다.\n"
     ]
    },
    {
     "name": "stderr",
     "output_type": "stream",
     "text": [
      "\r",
      "  5%|█▍                              | 467/10000 [10:19:58<173:13:15, 65.41s/it]"
     ]
    },
    {
     "name": "stdout",
     "output_type": "stream",
     "text": [
      "KR_5733786291의 데이터 수집을 시작합니다.\n",
      "api cost full : infinite loop start\n",
      "try 10 second wait time\n",
      "429\n",
      "try 10 second wait time\n",
      "429\n",
      "try 10 second wait time\n",
      "429\n",
      "try 10 second wait time\n",
      "429\n",
      "try 10 second wait time\n",
      "429\n",
      "try 10 second wait time\n",
      "429\n",
      "try 10 second wait time\n",
      "429\n",
      "try 10 second wait time\n",
      "429\n",
      "try 10 second wait time\n",
      "429\n",
      "try 10 second wait time\n",
      "200\n",
      "total wait time :  102.48376703262329\n",
      "recovery api cost\n"
     ]
    },
    {
     "name": "stderr",
     "output_type": "stream",
     "text": [
      "\r",
      "  5%|█▍                              | 468/10000 [10:21:55<213:48:04, 80.75s/it]"
     ]
    },
    {
     "name": "stdout",
     "output_type": "stream",
     "text": [
      "KR_5733786291의 데이터 수집이 완료되었습니다\n",
      "KR_5733787950의 데이터 수집을 시작합니다.\n",
      "api cost full : infinite loop start\n",
      "try 10 second wait time\n",
      "429\n",
      "try 10 second wait time\n",
      "429\n",
      "try 10 second wait time\n",
      "429\n",
      "try 10 second wait time\n",
      "429\n",
      "try 10 second wait time\n",
      "429\n",
      "try 10 second wait time\n",
      "429\n",
      "try 10 second wait time\n",
      "429\n",
      "try 10 second wait time\n",
      "429\n",
      "try 10 second wait time\n",
      "429\n",
      "try 10 second wait time\n",
      "429\n",
      "try 10 second wait time\n",
      "200\n",
      "total wait time :  112.7895359992981\n",
      "recovery api cost\n"
     ]
    },
    {
     "name": "stderr",
     "output_type": "stream",
     "text": [
      "\r",
      "  5%|█▌                              | 469/10000 [10:24:01<250:11:32, 94.50s/it]"
     ]
    },
    {
     "name": "stdout",
     "output_type": "stream",
     "text": [
      "KR_5733787950의 데이터 수집이 완료되었습니다\n",
      "KR_5733787978의 데이터 수집을 시작합니다.\n",
      "api cost full : infinite loop start\n",
      "try 10 second wait time\n",
      "429\n",
      "try 10 second wait time\n",
      "429\n",
      "try 10 second wait time\n",
      "429\n",
      "try 10 second wait time\n",
      "429\n",
      "try 10 second wait time\n",
      "429\n",
      "try 10 second wait time\n",
      "429\n",
      "try 10 second wait time\n",
      "429\n",
      "try 10 second wait time\n",
      "429\n",
      "try 10 second wait time\n",
      "429\n",
      "try 10 second wait time\n",
      "429\n",
      "try 10 second wait time\n",
      "200\n",
      "total wait time :  112.96220898628235\n",
      "recovery api cost\n"
     ]
    },
    {
     "name": "stderr",
     "output_type": "stream",
     "text": [
      "\r",
      "  5%|█▍                             | 470/10000 [10:26:07<275:26:27, 104.05s/it]"
     ]
    },
    {
     "name": "stdout",
     "output_type": "stream",
     "text": [
      "KR_5733787978의 데이터 수집이 완료되었습니다\n",
      "KR_5733788020의 데이터 수집을 시작합니다.\n",
      "api cost full : infinite loop start\n",
      "try 10 second wait time\n",
      "429\n",
      "try 10 second wait time\n",
      "429\n",
      "try 10 second wait time\n",
      "429\n",
      "try 10 second wait time\n",
      "429\n",
      "try 10 second wait time\n",
      "429\n",
      "try 10 second wait time\n",
      "429\n",
      "try 10 second wait time\n",
      "429\n",
      "try 10 second wait time\n",
      "429\n",
      "try 10 second wait time\n",
      "429\n",
      "try 10 second wait time\n",
      "429\n",
      "try 10 second wait time\n",
      "200\n",
      "total wait time :  112.9583969116211\n",
      "recovery api cost\n"
     ]
    },
    {
     "name": "stderr",
     "output_type": "stream",
     "text": [
      "\r",
      "  5%|█▍                             | 471/10000 [10:28:14<293:02:17, 110.71s/it]"
     ]
    },
    {
     "name": "stdout",
     "output_type": "stream",
     "text": [
      "KR_5733788020의 데이터 수집이 완료되었습니다\n",
      "KR_5733788061의 데이터 수집을 시작합니다.\n"
     ]
    },
    {
     "name": "stderr",
     "output_type": "stream",
     "text": [
      "\r",
      "  5%|█▌                              | 472/10000 [10:28:27<216:00:27, 81.61s/it]"
     ]
    },
    {
     "name": "stdout",
     "output_type": "stream",
     "text": [
      "KR_5733788061의 데이터 수집이 완료되었습니다\n",
      "KR_5733788783의 데이터 수집을 시작합니다.\n",
      "api cost full : infinite loop start\n",
      "try 10 second wait time\n",
      "429\n",
      "try 10 second wait time\n",
      "429\n",
      "try 10 second wait time\n",
      "429\n",
      "try 10 second wait time\n",
      "429\n",
      "try 10 second wait time\n",
      "429\n",
      "try 10 second wait time\n",
      "429\n",
      "try 10 second wait time\n",
      "429\n",
      "try 10 second wait time\n",
      "429\n",
      "try 10 second wait time\n",
      "429\n",
      "try 10 second wait time\n",
      "429\n",
      "try 10 second wait time\n",
      "200\n",
      "total wait time :  112.8247139453888\n",
      "recovery api cost\n",
      "api cost full : infinite loop start\n",
      "try 10 second wait time\n",
      "429\n",
      "try 10 second wait time\n",
      "429\n",
      "try 10 second wait time\n",
      "429\n",
      "try 10 second wait time\n",
      "429\n",
      "try 10 second wait time\n",
      "429\n",
      "try 10 second wait time\n",
      "429\n",
      "try 10 second wait time\n",
      "429\n",
      "try 10 second wait time\n",
      "429\n",
      "try 10 second wait time\n",
      "429\n",
      "try 10 second wait time\n",
      "200\n",
      "total wait time :  102.75280499458313\n",
      "recovery api cost\n"
     ]
    },
    {
     "name": "stderr",
     "output_type": "stream",
     "text": [
      "\r",
      "  5%|█▍                             | 473/10000 [10:32:16<332:38:53, 125.70s/it]"
     ]
    },
    {
     "name": "stdout",
     "output_type": "stream",
     "text": [
      "KR_5733788783의 데이터 수집이 완료되었습니다\n",
      "KR_5733789520의 데이터 수집을 시작합니다.\n"
     ]
    },
    {
     "name": "stderr",
     "output_type": "stream",
     "text": [
      "\r",
      "  5%|█▌                              | 474/10000 [10:32:31<244:25:13, 92.37s/it]"
     ]
    },
    {
     "name": "stdout",
     "output_type": "stream",
     "text": [
      "KR_5733789520의 데이터 수집이 완료되었습니다\n",
      "KR_5733791260의 데이터 수집을 시작합니다.\n",
      "api cost full : infinite loop start\n",
      "try 10 second wait time\n",
      "429\n",
      "try 10 second wait time\n",
      "429\n",
      "try 10 second wait time\n",
      "429\n",
      "try 10 second wait time\n",
      "429\n",
      "try 10 second wait time\n",
      "429\n",
      "try 10 second wait time\n",
      "429\n",
      "try 10 second wait time\n",
      "429\n",
      "try 10 second wait time\n",
      "429\n",
      "try 10 second wait time\n",
      "429\n",
      "try 10 second wait time\n",
      "200\n",
      "total wait time :  102.56165409088135\n",
      "recovery api cost\n"
     ]
    },
    {
     "name": "stderr",
     "output_type": "stream",
     "text": [
      "\r",
      "  5%|█▌                              | 475/10000 [10:34:27<263:36:26, 99.63s/it]"
     ]
    },
    {
     "name": "stdout",
     "output_type": "stream",
     "text": [
      "KR_5733791260의 데이터 수집이 완료되었습니다\n",
      "KR_5733791299의 데이터 수집을 시작합니다.\n"
     ]
    },
    {
     "name": "stderr",
     "output_type": "stream",
     "text": [
      "\r",
      "  5%|█▌                              | 476/10000 [10:34:34<189:48:01, 71.74s/it]"
     ]
    },
    {
     "name": "stdout",
     "output_type": "stream",
     "text": [
      "KR_5733791655의 데이터 수집을 시작합니다.\n",
      "api cost full : infinite loop start\n",
      "try 10 second wait time\n",
      "429\n",
      "try 10 second wait time\n",
      "429\n",
      "try 10 second wait time\n",
      "429\n",
      "try 10 second wait time\n",
      "429\n",
      "try 10 second wait time\n",
      "429\n",
      "try 10 second wait time\n",
      "429\n",
      "try 10 second wait time\n",
      "429\n",
      "try 10 second wait time\n",
      "429\n",
      "try 10 second wait time\n",
      "429\n",
      "try 10 second wait time\n",
      "200\n",
      "total wait time :  102.99118709564209\n",
      "recovery api cost\n"
     ]
    },
    {
     "name": "stderr",
     "output_type": "stream",
     "text": [
      "\r",
      "  5%|█▌                              | 477/10000 [10:36:30<225:07:18, 85.10s/it]"
     ]
    },
    {
     "name": "stdout",
     "output_type": "stream",
     "text": [
      "KR_5733791655의 데이터 수집이 완료되었습니다\n",
      "KR_5733793498의 데이터 수집을 시작합니다.\n",
      "api cost full : infinite loop start\n",
      "try 10 second wait time\n",
      "429\n",
      "try 10 second wait time\n",
      "429\n",
      "try 10 second wait time\n",
      "429\n",
      "try 10 second wait time\n",
      "429\n",
      "try 10 second wait time\n",
      "429\n",
      "try 10 second wait time\n",
      "429\n",
      "try 10 second wait time\n",
      "429\n",
      "try 10 second wait time\n",
      "429\n",
      "try 10 second wait time\n",
      "429\n",
      "try 10 second wait time\n",
      "200\n",
      "total wait time :  102.56342315673828\n",
      "recovery api cost\n"
     ]
    },
    {
     "name": "stderr",
     "output_type": "stream",
     "text": [
      "\r",
      "  5%|█▌                              | 478/10000 [10:38:29<251:46:19, 95.19s/it]"
     ]
    },
    {
     "name": "stdout",
     "output_type": "stream",
     "text": [
      "KR_5733793498의 데이터 수집이 완료되었습니다\n",
      "KR_5733794232의 데이터 수집을 시작합니다.\n"
     ]
    },
    {
     "name": "stderr",
     "output_type": "stream",
     "text": [
      "\r",
      "  5%|█▌                              | 479/10000 [10:38:37<182:53:25, 69.15s/it]"
     ]
    },
    {
     "name": "stdout",
     "output_type": "stream",
     "text": [
      "KR_5733796143의 데이터 수집을 시작합니다.\n",
      "api cost full : infinite loop start\n",
      "try 10 second wait time\n",
      "429\n",
      "try 10 second wait time\n",
      "429\n",
      "try 10 second wait time\n",
      "429\n",
      "try 10 second wait time\n",
      "429\n",
      "try 10 second wait time\n",
      "429\n",
      "try 10 second wait time\n",
      "429\n",
      "try 10 second wait time\n",
      "429\n",
      "try 10 second wait time\n",
      "429\n",
      "try 10 second wait time\n",
      "429\n",
      "try 10 second wait time\n",
      "200\n",
      "total wait time :  103.08071184158325\n",
      "recovery api cost\n"
     ]
    },
    {
     "name": "stderr",
     "output_type": "stream",
     "text": [
      "\r",
      "  5%|█▌                              | 480/10000 [10:40:35<221:15:07, 83.67s/it]"
     ]
    },
    {
     "name": "stdout",
     "output_type": "stream",
     "text": [
      "KR_5733796143의 데이터 수집이 완료되었습니다\n",
      "KR_5733797622의 데이터 수집을 시작합니다.\n"
     ]
    },
    {
     "name": "stderr",
     "output_type": "stream",
     "text": [
      "\r",
      "  5%|█▌                              | 481/10000 [10:40:38<157:18:46, 59.49s/it]"
     ]
    },
    {
     "name": "stdout",
     "output_type": "stream",
     "text": [
      "KR_5733800602의 데이터 수집을 시작합니다.\n",
      "api cost full : infinite loop start\n",
      "try 10 second wait time\n",
      "429\n",
      "try 10 second wait time\n",
      "429\n",
      "try 10 second wait time\n",
      "429\n",
      "try 10 second wait time\n",
      "429\n",
      "try 10 second wait time\n",
      "429\n",
      "try 10 second wait time\n",
      "429\n",
      "try 10 second wait time\n",
      "429\n",
      "try 10 second wait time\n",
      "429\n",
      "try 10 second wait time\n",
      "429\n",
      "try 10 second wait time\n",
      "200\n",
      "total wait time :  103.39117193222046\n",
      "recovery api cost\n"
     ]
    },
    {
     "name": "stderr",
     "output_type": "stream",
     "text": [
      "\r",
      "  5%|█▌                              | 482/10000 [10:42:36<203:42:07, 77.05s/it]"
     ]
    },
    {
     "name": "stdout",
     "output_type": "stream",
     "text": [
      "KR_5733800602의 데이터 수집이 완료되었습니다\n",
      "KR_5733802262의 데이터 수집을 시작합니다.\n",
      "api cost full : infinite loop start\n",
      "try 10 second wait time\n",
      "429\n",
      "try 10 second wait time\n",
      "429\n",
      "try 10 second wait time\n",
      "429\n",
      "try 10 second wait time\n",
      "429\n",
      "try 10 second wait time\n",
      "429\n",
      "try 10 second wait time\n",
      "429\n",
      "try 10 second wait time\n",
      "429\n",
      "try 10 second wait time\n",
      "429\n",
      "try 10 second wait time\n",
      "429\n",
      "try 10 second wait time\n",
      "200\n",
      "total wait time :  102.59248304367065\n",
      "recovery api cost\n"
     ]
    },
    {
     "name": "stderr",
     "output_type": "stream",
     "text": [
      "\r",
      "  5%|█▌                              | 483/10000 [10:44:32<234:56:45, 88.87s/it]"
     ]
    },
    {
     "name": "stdout",
     "output_type": "stream",
     "text": [
      "KR_5733802262의 데이터 수집이 완료되었습니다\n",
      "KR_5733802625의 데이터 수집을 시작합니다.\n"
     ]
    },
    {
     "name": "stderr",
     "output_type": "stream",
     "text": [
      "\r",
      "  5%|█▌                              | 484/10000 [10:44:39<170:07:03, 64.36s/it]"
     ]
    },
    {
     "name": "stdout",
     "output_type": "stream",
     "text": [
      "KR_5733803763의 데이터 수집을 시작합니다.\n",
      "api cost full : infinite loop start\n",
      "try 10 second wait time\n",
      "429\n",
      "try 10 second wait time\n",
      "429\n",
      "try 10 second wait time\n",
      "429\n",
      "try 10 second wait time\n",
      "429\n",
      "try 10 second wait time\n",
      "429\n",
      "try 10 second wait time\n",
      "429\n",
      "try 10 second wait time\n",
      "429\n",
      "try 10 second wait time\n",
      "429\n",
      "try 10 second wait time\n",
      "429\n",
      "try 10 second wait time\n",
      "200\n",
      "total wait time :  102.8786633014679\n",
      "recovery api cost\n"
     ]
    },
    {
     "name": "stderr",
     "output_type": "stream",
     "text": [
      "\r",
      "  5%|█▌                              | 485/10000 [10:46:37<212:02:37, 80.23s/it]"
     ]
    },
    {
     "name": "stdout",
     "output_type": "stream",
     "text": [
      "KR_5733803763의 데이터 수집이 완료되었습니다\n",
      "KR_5733803986의 데이터 수집을 시작합니다.\n",
      "api cost full : infinite loop start\n",
      "try 10 second wait time\n",
      "429\n",
      "try 10 second wait time\n",
      "429\n",
      "try 10 second wait time\n",
      "429\n",
      "try 10 second wait time\n",
      "429\n",
      "try 10 second wait time\n",
      "429\n",
      "try 10 second wait time\n",
      "429\n",
      "try 10 second wait time\n",
      "429\n",
      "try 10 second wait time\n",
      "429\n",
      "try 10 second wait time\n",
      "429\n",
      "try 10 second wait time\n",
      "429\n",
      "try 10 second wait time\n",
      "200\n",
      "total wait time :  112.79090404510498\n",
      "recovery api cost\n"
     ]
    },
    {
     "name": "stderr",
     "output_type": "stream",
     "text": [
      "\r",
      "  5%|█▌                              | 486/10000 [10:48:43<248:46:26, 94.13s/it]"
     ]
    },
    {
     "name": "stdout",
     "output_type": "stream",
     "text": [
      "KR_5733803986의 데이터 수집이 완료되었습니다\n",
      "KR_5733805434의 데이터 수집을 시작합니다.\n"
     ]
    },
    {
     "name": "stderr",
     "output_type": "stream",
     "text": [
      "\r",
      "  5%|█▌                              | 487/10000 [10:48:51<180:07:58, 68.17s/it]"
     ]
    },
    {
     "name": "stdout",
     "output_type": "stream",
     "text": [
      "KR_5733806485의 데이터 수집을 시작합니다.\n",
      "api cost full : infinite loop start\n",
      "try 10 second wait time\n",
      "429\n",
      "try 10 second wait time\n",
      "429\n",
      "try 10 second wait time\n",
      "429\n",
      "try 10 second wait time\n",
      "429\n",
      "try 10 second wait time\n",
      "429\n",
      "try 10 second wait time\n",
      "429\n",
      "try 10 second wait time\n",
      "429\n",
      "try 10 second wait time\n",
      "429\n",
      "try 10 second wait time\n",
      "429\n",
      "try 10 second wait time\n",
      "200\n",
      "total wait time :  102.92384672164917\n",
      "recovery api cost\n"
     ]
    },
    {
     "name": "stderr",
     "output_type": "stream",
     "text": [
      "\r",
      "  5%|█▌                              | 488/10000 [10:50:48<218:49:11, 82.82s/it]"
     ]
    },
    {
     "name": "stdout",
     "output_type": "stream",
     "text": [
      "KR_5733806485의 데이터 수집이 완료되었습니다\n",
      "KR_5733807537의 데이터 수집을 시작합니다.\n"
     ]
    },
    {
     "name": "stderr",
     "output_type": "stream",
     "text": [
      "\r",
      "  5%|█▌                              | 489/10000 [10:50:51<155:56:12, 59.02s/it]"
     ]
    },
    {
     "name": "stdout",
     "output_type": "stream",
     "text": [
      "KR_5733807820의 데이터 수집을 시작합니다.\n",
      "api cost full : infinite loop start\n",
      "try 10 second wait time\n",
      "429\n",
      "try 10 second wait time\n",
      "429\n",
      "try 10 second wait time\n",
      "429\n",
      "try 10 second wait time\n",
      "429\n",
      "try 10 second wait time\n",
      "429\n",
      "try 10 second wait time\n",
      "429\n",
      "try 10 second wait time\n",
      "429\n",
      "try 10 second wait time\n",
      "429\n",
      "try 10 second wait time\n",
      "429\n",
      "try 10 second wait time\n",
      "200\n",
      "total wait time :  103.03717494010925\n",
      "recovery api cost\n"
     ]
    },
    {
     "name": "stderr",
     "output_type": "stream",
     "text": [
      "\r",
      "  5%|█▌                              | 490/10000 [10:52:47<201:03:15, 76.11s/it]"
     ]
    },
    {
     "name": "stdout",
     "output_type": "stream",
     "text": [
      "KR_5733807820의 데이터 수집이 완료되었습니다\n",
      "KR_5733808381의 데이터 수집을 시작합니다.\n",
      "api cost full : infinite loop start\n",
      "try 10 second wait time\n",
      "429\n",
      "try 10 second wait time\n",
      "429\n",
      "try 10 second wait time\n",
      "429\n",
      "try 10 second wait time\n",
      "429\n",
      "try 10 second wait time\n",
      "429\n",
      "try 10 second wait time\n",
      "429\n",
      "try 10 second wait time\n",
      "429\n",
      "try 10 second wait time\n",
      "429\n",
      "try 10 second wait time\n",
      "429\n",
      "try 10 second wait time\n",
      "429\n",
      "try 10 second wait time\n",
      "200\n",
      "total wait time :  113.0734510421753\n",
      "recovery api cost\n"
     ]
    },
    {
     "name": "stderr",
     "output_type": "stream",
     "text": [
      "\r",
      "  5%|█▌                              | 491/10000 [10:54:54<241:01:49, 91.25s/it]"
     ]
    },
    {
     "name": "stdout",
     "output_type": "stream",
     "text": [
      "KR_5733808381의 데이터 수집이 완료되었습니다\n",
      "KR_5733808451의 데이터 수집을 시작합니다.\n",
      "api cost full : infinite loop start\n",
      "try 10 second wait time\n",
      "429\n",
      "try 10 second wait time\n",
      "429\n",
      "try 10 second wait time\n",
      "429\n",
      "try 10 second wait time\n",
      "429\n",
      "try 10 second wait time\n",
      "429\n",
      "try 10 second wait time\n",
      "429\n",
      "try 10 second wait time\n",
      "429\n",
      "try 10 second wait time\n",
      "429\n",
      "try 10 second wait time\n",
      "429\n",
      "try 10 second wait time\n",
      "429\n",
      "try 10 second wait time\n",
      "200\n",
      "total wait time :  113.26027393341064\n",
      "recovery api cost\n"
     ]
    },
    {
     "name": "stderr",
     "output_type": "stream",
     "text": [
      "\r",
      "  5%|█▌                             | 492/10000 [10:57:01<269:26:38, 102.02s/it]"
     ]
    },
    {
     "name": "stdout",
     "output_type": "stream",
     "text": [
      "KR_5733808451의 데이터 수집이 완료되었습니다\n",
      "KR_5733809475의 데이터 수집을 시작합니다.\n",
      "api cost full : infinite loop start\n",
      "try 10 second wait time\n",
      "429\n",
      "try 10 second wait time\n",
      "429\n",
      "try 10 second wait time\n",
      "429\n",
      "try 10 second wait time\n",
      "429\n",
      "try 10 second wait time\n",
      "429\n",
      "try 10 second wait time\n",
      "429\n",
      "try 10 second wait time\n",
      "429\n",
      "try 10 second wait time\n",
      "429\n",
      "try 10 second wait time\n",
      "429\n",
      "try 10 second wait time\n",
      "200\n",
      "total wait time :  103.95330572128296\n",
      "recovery api cost\n"
     ]
    },
    {
     "name": "stderr",
     "output_type": "stream",
     "text": [
      "\r",
      "  5%|█▌                             | 493/10000 [10:58:59<281:59:56, 106.78s/it]"
     ]
    },
    {
     "name": "stdout",
     "output_type": "stream",
     "text": [
      "KR_5733809475의 데이터 수집이 완료되었습니다\n",
      "KR_5733809766의 데이터 수집을 시작합니다.\n"
     ]
    },
    {
     "name": "stderr",
     "output_type": "stream",
     "text": [
      "\r",
      "  5%|█▌                              | 494/10000 [10:59:13<208:17:14, 78.88s/it]"
     ]
    },
    {
     "name": "stdout",
     "output_type": "stream",
     "text": [
      "KR_5733809766의 데이터 수집이 완료되었습니다\n",
      "KR_5733810311의 데이터 수집을 시작합니다.\n",
      "api cost full : infinite loop start\n",
      "try 10 second wait time\n",
      "429\n",
      "try 10 second wait time\n",
      "429\n",
      "try 10 second wait time\n",
      "429\n",
      "try 10 second wait time\n",
      "429\n",
      "try 10 second wait time\n",
      "429\n",
      "try 10 second wait time\n",
      "429\n",
      "try 10 second wait time\n",
      "429\n",
      "try 10 second wait time\n",
      "429\n",
      "try 10 second wait time\n",
      "429\n",
      "try 10 second wait time\n",
      "200\n",
      "total wait time :  102.69579696655273\n",
      "recovery api cost\n"
     ]
    },
    {
     "name": "stderr",
     "output_type": "stream",
     "text": [
      "\r",
      "  5%|█▌                              | 495/10000 [11:01:10<238:34:21, 90.36s/it]"
     ]
    },
    {
     "name": "stdout",
     "output_type": "stream",
     "text": [
      "KR_5733810311의 데이터 수집이 완료되었습니다\n",
      "KR_5733812314의 데이터 수집을 시작합니다.\n",
      "api cost full : infinite loop start\n",
      "try 10 second wait time\n",
      "429\n",
      "try 10 second wait time\n",
      "429\n",
      "try 10 second wait time\n",
      "429\n",
      "try 10 second wait time\n",
      "429\n",
      "try 10 second wait time\n",
      "429\n",
      "try 10 second wait time\n",
      "429\n",
      "try 10 second wait time\n",
      "429\n",
      "try 10 second wait time\n",
      "429\n",
      "try 10 second wait time\n",
      "429\n",
      "try 10 second wait time\n",
      "200\n",
      "total wait time :  103.18116307258606\n",
      "recovery api cost\n"
     ]
    },
    {
     "name": "stderr",
     "output_type": "stream",
     "text": [
      "\r",
      "  5%|█▌                              | 496/10000 [11:03:07<259:31:13, 98.30s/it]"
     ]
    },
    {
     "name": "stdout",
     "output_type": "stream",
     "text": [
      "KR_5733812314의 데이터 수집이 완료되었습니다\n",
      "KR_5733813119의 데이터 수집을 시작합니다.\n"
     ]
    },
    {
     "name": "stderr",
     "output_type": "stream",
     "text": [
      "\r",
      "  5%|█▌                              | 497/10000 [11:03:14<187:43:08, 71.11s/it]"
     ]
    },
    {
     "name": "stdout",
     "output_type": "stream",
     "text": [
      "KR_5733813644의 데이터 수집을 시작합니다.\n",
      "api cost full : infinite loop start\n",
      "try 10 second wait time\n",
      "429\n",
      "try 10 second wait time\n",
      "429\n",
      "try 10 second wait time\n",
      "429\n",
      "try 10 second wait time\n",
      "429\n",
      "try 10 second wait time\n",
      "429\n",
      "try 10 second wait time\n",
      "429\n",
      "try 10 second wait time\n",
      "429\n",
      "try 10 second wait time\n",
      "429\n",
      "try 10 second wait time\n",
      "429\n",
      "try 10 second wait time\n",
      "200\n",
      "total wait time :  103.07190704345703\n",
      "recovery api cost\n"
     ]
    },
    {
     "name": "stderr",
     "output_type": "stream",
     "text": [
      "\r",
      "  5%|█▌                              | 498/10000 [11:05:11<223:29:05, 84.67s/it]"
     ]
    },
    {
     "name": "stdout",
     "output_type": "stream",
     "text": [
      "KR_5733813644의 데이터 수집이 완료되었습니다\n",
      "KR_5733816516의 데이터 수집을 시작합니다.\n",
      "api cost full : infinite loop start\n",
      "try 10 second wait time\n",
      "429\n",
      "try 10 second wait time\n",
      "429\n",
      "try 10 second wait time\n",
      "429\n",
      "try 10 second wait time\n",
      "429\n",
      "try 10 second wait time\n",
      "429\n",
      "try 10 second wait time\n",
      "429\n",
      "try 10 second wait time\n",
      "429\n",
      "try 10 second wait time\n",
      "429\n",
      "try 10 second wait time\n",
      "429\n",
      "try 10 second wait time\n",
      "429\n",
      "try 10 second wait time\n",
      "200\n",
      "total wait time :  112.9008219242096\n",
      "recovery api cost\n"
     ]
    },
    {
     "name": "stderr",
     "output_type": "stream",
     "text": [
      "\r",
      "  5%|█▌                              | 499/10000 [11:07:18<256:53:46, 97.34s/it]"
     ]
    },
    {
     "name": "stdout",
     "output_type": "stream",
     "text": [
      "KR_5733816516의 데이터 수집이 완료되었습니다\n",
      "KR_5733817235의 데이터 수집을 시작합니다.\n",
      "api cost full : infinite loop start\n",
      "try 10 second wait time\n",
      "429\n",
      "try 10 second wait time\n",
      "429\n",
      "try 10 second wait time\n",
      "429\n",
      "try 10 second wait time\n",
      "429\n",
      "try 10 second wait time\n",
      "429\n",
      "try 10 second wait time\n",
      "429\n",
      "try 10 second wait time\n",
      "429\n",
      "try 10 second wait time\n",
      "429\n",
      "try 10 second wait time\n",
      "429\n",
      "try 10 second wait time\n",
      "200\n",
      "total wait time :  102.52809977531433\n",
      "recovery api cost\n"
     ]
    },
    {
     "name": "stderr",
     "output_type": "stream",
     "text": [
      "\r",
      "  5%|█▌                             | 500/10000 [11:09:14<272:01:58, 103.09s/it]"
     ]
    },
    {
     "name": "stdout",
     "output_type": "stream",
     "text": [
      "KR_5733817235의 데이터 수집이 완료되었습니다\n",
      "KR_5733819143의 데이터 수집을 시작합니다.\n"
     ]
    },
    {
     "name": "stderr",
     "output_type": "stream",
     "text": [
      "\r",
      "  5%|█▌                              | 501/10000 [11:09:26<199:53:53, 75.76s/it]"
     ]
    },
    {
     "name": "stdout",
     "output_type": "stream",
     "text": [
      "KR_5733820107의 데이터 수집을 시작합니다.\n",
      "api cost full : infinite loop start\n",
      "try 10 second wait time\n",
      "429\n",
      "try 10 second wait time\n",
      "429\n",
      "try 10 second wait time\n",
      "429\n",
      "try 10 second wait time\n",
      "429\n",
      "try 10 second wait time\n",
      "429\n",
      "try 10 second wait time\n",
      "429\n",
      "try 10 second wait time\n",
      "429\n",
      "try 10 second wait time\n",
      "429\n",
      "try 10 second wait time\n",
      "429\n",
      "try 10 second wait time\n",
      "200\n",
      "total wait time :  102.68095374107361\n",
      "recovery api cost\n"
     ]
    },
    {
     "name": "stderr",
     "output_type": "stream",
     "text": [
      "\r",
      "  5%|█▌                              | 502/10000 [11:11:23<232:36:34, 88.17s/it]"
     ]
    },
    {
     "name": "stdout",
     "output_type": "stream",
     "text": [
      "KR_5733820107의 데이터 수집이 완료되었습니다\n",
      "KR_5733820244의 데이터 수집을 시작합니다.\n",
      "api cost full : infinite loop start\n",
      "try 10 second wait time\n",
      "429\n",
      "try 10 second wait time\n",
      "429\n",
      "try 10 second wait time\n",
      "429\n",
      "try 10 second wait time\n",
      "429\n",
      "try 10 second wait time\n",
      "429\n",
      "try 10 second wait time\n",
      "429\n",
      "try 10 second wait time\n",
      "429\n",
      "try 10 second wait time\n",
      "429\n",
      "try 10 second wait time\n",
      "429\n",
      "try 10 second wait time\n",
      "200\n",
      "total wait time :  103.01152896881104\n",
      "recovery api cost\n"
     ]
    },
    {
     "name": "stderr",
     "output_type": "stream",
     "text": [
      "\r",
      "  5%|█▌                              | 503/10000 [11:13:20<255:34:23, 96.88s/it]"
     ]
    },
    {
     "name": "stdout",
     "output_type": "stream",
     "text": [
      "KR_5733820244의 데이터 수집이 완료되었습니다\n",
      "KR_5733820563의 데이터 수집을 시작합니다.\n",
      "api cost full : infinite loop start\n",
      "try 10 second wait time\n",
      "429\n",
      "try 10 second wait time\n",
      "429\n",
      "try 10 second wait time\n",
      "429\n",
      "try 10 second wait time\n",
      "429\n",
      "try 10 second wait time\n",
      "429\n",
      "try 10 second wait time\n",
      "429\n",
      "try 10 second wait time\n",
      "429\n",
      "try 10 second wait time\n",
      "429\n",
      "try 10 second wait time\n",
      "429\n",
      "try 10 second wait time\n",
      "200\n",
      "total wait time :  103.61853218078613\n",
      "recovery api cost\n"
     ]
    },
    {
     "name": "stderr",
     "output_type": "stream",
     "text": [
      "\r",
      "  5%|█▌                             | 504/10000 [11:15:19<272:38:21, 103.36s/it]"
     ]
    },
    {
     "name": "stdout",
     "output_type": "stream",
     "text": [
      "KR_5733820563의 데이터 수집이 완료되었습니다\n",
      "KR_5733820856의 데이터 수집을 시작합니다.\n",
      "api cost full : infinite loop start\n",
      "try 10 second wait time\n",
      "429\n",
      "try 10 second wait time\n",
      "429\n",
      "try 10 second wait time\n",
      "429\n",
      "try 10 second wait time\n",
      "429\n",
      "try 10 second wait time\n",
      "429\n",
      "try 10 second wait time\n",
      "429\n",
      "try 10 second wait time\n",
      "429\n",
      "try 10 second wait time\n",
      "429\n",
      "try 10 second wait time\n",
      "429\n",
      "try 10 second wait time\n",
      "200\n",
      "total wait time :  103.14647698402405\n",
      "recovery api cost\n"
     ]
    },
    {
     "name": "stderr",
     "output_type": "stream",
     "text": [
      "\r",
      "  5%|█▌                             | 505/10000 [11:17:17<284:13:47, 107.76s/it]"
     ]
    },
    {
     "name": "stdout",
     "output_type": "stream",
     "text": [
      "KR_5733820856의 데이터 수집이 완료되었습니다\n",
      "KR_5733821008의 데이터 수집을 시작합니다.\n"
     ]
    },
    {
     "name": "stderr",
     "output_type": "stream",
     "text": [
      "\r",
      "  5%|█▌                              | 506/10000 [11:17:31<210:20:01, 79.76s/it]"
     ]
    },
    {
     "name": "stdout",
     "output_type": "stream",
     "text": [
      "KR_5733821008의 데이터 수집이 완료되었습니다\n",
      "KR_5733822724의 데이터 수집을 시작합니다.\n",
      "api cost full : infinite loop start\n",
      "try 10 second wait time\n",
      "429\n",
      "try 10 second wait time\n",
      "429\n",
      "try 10 second wait time\n",
      "429\n",
      "try 10 second wait time\n",
      "429\n",
      "try 10 second wait time\n",
      "429\n",
      "try 10 second wait time\n",
      "429\n",
      "try 10 second wait time\n",
      "429\n",
      "try 10 second wait time\n",
      "429\n",
      "try 10 second wait time\n",
      "429\n",
      "try 10 second wait time\n",
      "200\n",
      "total wait time :  102.52619123458862\n",
      "recovery api cost\n"
     ]
    },
    {
     "name": "stderr",
     "output_type": "stream",
     "text": [
      "\r",
      "  5%|█▌                              | 507/10000 [11:19:28<239:21:40, 90.77s/it]"
     ]
    },
    {
     "name": "stdout",
     "output_type": "stream",
     "text": [
      "KR_5733822724의 데이터 수집이 완료되었습니다\n",
      "KR_5733822778의 데이터 수집을 시작합니다.\n"
     ]
    },
    {
     "name": "stderr",
     "output_type": "stream",
     "text": [
      "\r",
      "  5%|█▋                              | 508/10000 [11:19:32<170:34:07, 64.69s/it]"
     ]
    },
    {
     "name": "stdout",
     "output_type": "stream",
     "text": [
      "KR_5733823255의 데이터 수집을 시작합니다.\n",
      "api cost full : infinite loop start\n",
      "try 10 second wait time\n",
      "429\n",
      "try 10 second wait time\n",
      "429\n",
      "try 10 second wait time\n",
      "429\n",
      "try 10 second wait time\n",
      "429\n",
      "try 10 second wait time\n",
      "429\n",
      "try 10 second wait time\n",
      "429\n",
      "try 10 second wait time\n",
      "429\n",
      "try 10 second wait time\n",
      "429\n",
      "try 10 second wait time\n",
      "429\n",
      "try 10 second wait time\n",
      "200\n",
      "total wait time :  102.85659790039062\n",
      "recovery api cost\n"
     ]
    },
    {
     "name": "stderr",
     "output_type": "stream",
     "text": [
      "\r",
      "  5%|█▋                              | 509/10000 [11:21:29<211:49:10, 80.34s/it]"
     ]
    },
    {
     "name": "stdout",
     "output_type": "stream",
     "text": [
      "KR_5733823255의 데이터 수집이 완료되었습니다\n",
      "KR_5733823575의 데이터 수집을 시작합니다.\n",
      "api cost full : infinite loop start\n",
      "try 10 second wait time\n",
      "429\n",
      "try 10 second wait time\n",
      "429\n",
      "try 10 second wait time\n",
      "429\n",
      "try 10 second wait time\n",
      "429\n",
      "try 10 second wait time\n",
      "429\n",
      "try 10 second wait time\n",
      "429\n",
      "try 10 second wait time\n",
      "429\n",
      "try 10 second wait time\n",
      "429\n",
      "try 10 second wait time\n",
      "429\n",
      "try 10 second wait time\n",
      "429\n",
      "try 10 second wait time\n",
      "200\n",
      "total wait time :  112.91996693611145\n",
      "recovery api cost\n"
     ]
    },
    {
     "name": "stderr",
     "output_type": "stream",
     "text": [
      "\r",
      "  5%|█▋                              | 510/10000 [11:23:36<249:11:18, 94.53s/it]"
     ]
    },
    {
     "name": "stdout",
     "output_type": "stream",
     "text": [
      "KR_5733823575의 데이터 수집이 완료되었습니다\n",
      "KR_5733824270의 데이터 수집을 시작합니다.\n",
      "api cost full : infinite loop start\n",
      "try 10 second wait time\n",
      "429\n",
      "try 10 second wait time\n",
      "429\n",
      "try 10 second wait time\n",
      "429\n",
      "try 10 second wait time\n",
      "429\n",
      "try 10 second wait time\n",
      "429\n",
      "try 10 second wait time\n",
      "429\n",
      "try 10 second wait time\n",
      "429\n",
      "try 10 second wait time\n",
      "429\n",
      "try 10 second wait time\n",
      "429\n",
      "try 10 second wait time\n",
      "200\n",
      "total wait time :  102.73103404045105\n",
      "recovery api cost\n"
     ]
    },
    {
     "name": "stderr",
     "output_type": "stream",
     "text": [
      "\r",
      "  5%|█▌                             | 511/10000 [11:25:33<266:40:37, 101.17s/it]"
     ]
    },
    {
     "name": "stdout",
     "output_type": "stream",
     "text": [
      "KR_5733824270의 데이터 수집이 완료되었습니다\n",
      "KR_5733826198의 데이터 수집을 시작합니다.\n",
      "api cost full : infinite loop start\n",
      "try 10 second wait time\n",
      "429\n",
      "try 10 second wait time\n",
      "429\n",
      "try 10 second wait time\n",
      "429\n",
      "try 10 second wait time\n",
      "429\n",
      "try 10 second wait time\n",
      "429\n",
      "try 10 second wait time\n",
      "429\n",
      "try 10 second wait time\n",
      "429\n",
      "try 10 second wait time\n",
      "429\n",
      "try 10 second wait time\n",
      "429\n",
      "try 10 second wait time\n",
      "200\n",
      "total wait time :  102.52480292320251\n",
      "recovery api cost\n"
     ]
    },
    {
     "name": "stderr",
     "output_type": "stream",
     "text": [
      "\r",
      "  5%|█▌                             | 512/10000 [11:27:31<279:50:46, 106.18s/it]"
     ]
    },
    {
     "name": "stdout",
     "output_type": "stream",
     "text": [
      "KR_5733826198의 데이터 수집이 완료되었습니다\n",
      "KR_5733826531의 데이터 수집을 시작합니다.\n"
     ]
    },
    {
     "name": "stderr",
     "output_type": "stream",
     "text": [
      "\r",
      "  5%|█▋                              | 513/10000 [11:27:44<206:35:30, 78.39s/it]"
     ]
    },
    {
     "name": "stdout",
     "output_type": "stream",
     "text": [
      "KR_5733826531의 데이터 수집이 완료되었습니다\n",
      "KR_5733826810의 데이터 수집을 시작합니다.\n",
      "api cost full : infinite loop start\n",
      "try 10 second wait time\n",
      "429\n",
      "try 10 second wait time\n",
      "429\n",
      "try 10 second wait time\n",
      "429\n",
      "try 10 second wait time\n",
      "429\n",
      "try 10 second wait time\n",
      "429\n",
      "try 10 second wait time\n",
      "429\n",
      "try 10 second wait time\n",
      "429\n",
      "try 10 second wait time\n",
      "429\n",
      "try 10 second wait time\n",
      "429\n",
      "try 10 second wait time\n",
      "200\n",
      "total wait time :  102.72215294837952\n",
      "recovery api cost\n"
     ]
    },
    {
     "name": "stderr",
     "output_type": "stream",
     "text": [
      "\r",
      "  5%|█▋                              | 514/10000 [11:29:41<236:53:38, 89.90s/it]"
     ]
    },
    {
     "name": "stdout",
     "output_type": "stream",
     "text": [
      "KR_5733826810의 데이터 수집이 완료되었습니다\n",
      "KR_5733827035의 데이터 수집을 시작합니다.\n"
     ]
    },
    {
     "name": "stderr",
     "output_type": "stream",
     "text": [
      "\r",
      "  5%|█▋                              | 515/10000 [11:29:45<168:37:20, 64.00s/it]"
     ]
    },
    {
     "name": "stdout",
     "output_type": "stream",
     "text": [
      "KR_5733828619의 데이터 수집을 시작합니다.\n",
      "api cost full : infinite loop start\n",
      "try 10 second wait time\n",
      "429\n",
      "try 10 second wait time\n",
      "429\n",
      "try 10 second wait time\n",
      "429\n",
      "try 10 second wait time\n",
      "429\n",
      "try 10 second wait time\n",
      "429\n",
      "try 10 second wait time\n",
      "429\n",
      "try 10 second wait time\n",
      "429\n",
      "try 10 second wait time\n",
      "429\n",
      "try 10 second wait time\n",
      "429\n",
      "try 10 second wait time\n",
      "200\n",
      "total wait time :  103.17105007171631\n",
      "recovery api cost\n"
     ]
    },
    {
     "name": "stderr",
     "output_type": "stream",
     "text": [
      "\r",
      "  5%|█▋                              | 516/10000 [11:31:42<210:26:00, 79.88s/it]"
     ]
    },
    {
     "name": "stdout",
     "output_type": "stream",
     "text": [
      "KR_5733828619의 데이터 수집이 완료되었습니다\n",
      "KR_5733829092의 데이터 수집을 시작합니다.\n"
     ]
    },
    {
     "name": "stderr",
     "output_type": "stream",
     "text": [
      "\r",
      "  5%|█▋                              | 517/10000 [11:31:45<150:25:17, 57.10s/it]"
     ]
    },
    {
     "name": "stdout",
     "output_type": "stream",
     "text": [
      "KR_5733829325의 데이터 수집을 시작합니다.\n",
      "api cost full : infinite loop start\n",
      "try 10 second wait time\n",
      "429\n",
      "try 10 second wait time\n",
      "429\n",
      "try 10 second wait time\n",
      "429\n",
      "try 10 second wait time\n",
      "429\n",
      "try 10 second wait time\n",
      "429\n",
      "try 10 second wait time\n",
      "429\n",
      "try 10 second wait time\n",
      "429\n",
      "try 10 second wait time\n",
      "429\n",
      "try 10 second wait time\n",
      "429\n",
      "try 10 second wait time\n",
      "200\n",
      "total wait time :  102.76781105995178\n",
      "recovery api cost\n"
     ]
    },
    {
     "name": "stderr",
     "output_type": "stream",
     "text": [
      "\r",
      "  5%|█▋                              | 518/10000 [11:33:42<197:08:11, 74.85s/it]"
     ]
    },
    {
     "name": "stdout",
     "output_type": "stream",
     "text": [
      "KR_5733829325의 데이터 수집이 완료되었습니다\n",
      "KR_5733830045의 데이터 수집을 시작합니다.\n"
     ]
    },
    {
     "name": "stderr",
     "output_type": "stream",
     "text": [
      "\r",
      "  5%|█▋                              | 519/10000 [11:33:45<140:46:41, 53.45s/it]"
     ]
    },
    {
     "name": "stdout",
     "output_type": "stream",
     "text": [
      "KR_5733830327의 데이터 수집을 시작합니다.\n",
      "api cost full : infinite loop start\n",
      "try 10 second wait time\n",
      "429\n",
      "try 10 second wait time\n",
      "429\n",
      "try 10 second wait time\n",
      "429\n",
      "try 10 second wait time\n",
      "429\n",
      "try 10 second wait time\n",
      "429\n",
      "try 10 second wait time\n",
      "429\n",
      "try 10 second wait time\n",
      "429\n",
      "try 10 second wait time\n",
      "429\n",
      "try 10 second wait time\n",
      "429\n",
      "try 10 second wait time\n",
      "200\n",
      "total wait time :  103.19855380058289\n",
      "recovery api cost\n"
     ]
    },
    {
     "name": "stderr",
     "output_type": "stream",
     "text": [
      "\r",
      "  5%|█▋                              | 520/10000 [11:35:45<192:45:11, 73.20s/it]"
     ]
    },
    {
     "name": "stdout",
     "output_type": "stream",
     "text": [
      "KR_5733830327의 데이터 수집이 완료되었습니다\n",
      "KR_5733830727의 데이터 수집을 시작합니다.\n",
      "api cost full : infinite loop start\n",
      "try 10 second wait time\n",
      "429\n",
      "try 10 second wait time\n",
      "429\n",
      "try 10 second wait time\n",
      "429\n",
      "try 10 second wait time\n",
      "429\n",
      "try 10 second wait time\n",
      "429\n",
      "try 10 second wait time\n",
      "429\n",
      "try 10 second wait time\n",
      "429\n",
      "try 10 second wait time\n",
      "429\n",
      "try 10 second wait time\n",
      "429\n",
      "try 10 second wait time\n",
      "200\n",
      "total wait time :  102.9702980518341\n",
      "recovery api cost\n"
     ]
    },
    {
     "name": "stderr",
     "output_type": "stream",
     "text": [
      "\r",
      "  5%|█▋                              | 521/10000 [11:37:43<228:37:33, 86.83s/it]"
     ]
    },
    {
     "name": "stdout",
     "output_type": "stream",
     "text": [
      "KR_5733830727의 데이터 수집이 완료되었습니다\n",
      "KR_5733830930의 데이터 수집을 시작합니다.\n",
      "api cost full : infinite loop start\n",
      "try 10 second wait time\n",
      "429\n",
      "try 10 second wait time\n",
      "429\n",
      "try 10 second wait time\n",
      "429\n",
      "try 10 second wait time\n",
      "429\n",
      "try 10 second wait time\n",
      "429\n",
      "try 10 second wait time\n",
      "429\n",
      "try 10 second wait time\n",
      "429\n",
      "try 10 second wait time\n",
      "429\n",
      "try 10 second wait time\n",
      "429\n",
      "try 10 second wait time\n",
      "200\n",
      "total wait time :  102.65675377845764\n",
      "recovery api cost\n"
     ]
    },
    {
     "name": "stderr",
     "output_type": "stream",
     "text": [
      "\r",
      "  5%|█▋                              | 522/10000 [11:39:41<253:02:45, 96.11s/it]"
     ]
    },
    {
     "name": "stdout",
     "output_type": "stream",
     "text": [
      "KR_5733830930의 데이터 수집이 완료되었습니다\n",
      "KR_5733831132의 데이터 수집을 시작합니다.\n",
      "api cost full : infinite loop start\n",
      "try 10 second wait time\n",
      "429\n",
      "try 10 second wait time\n",
      "429\n",
      "try 10 second wait time\n",
      "429\n",
      "try 10 second wait time\n",
      "429\n",
      "try 10 second wait time\n",
      "429\n",
      "try 10 second wait time\n",
      "429\n",
      "try 10 second wait time\n",
      "429\n",
      "try 10 second wait time\n",
      "429\n",
      "try 10 second wait time\n",
      "429\n",
      "try 10 second wait time\n",
      "200\n",
      "total wait time :  102.8845841884613\n",
      "recovery api cost\n"
     ]
    },
    {
     "name": "stderr",
     "output_type": "stream",
     "text": [
      "\r",
      "  5%|█▌                             | 523/10000 [11:41:38<269:31:56, 102.39s/it]"
     ]
    },
    {
     "name": "stdout",
     "output_type": "stream",
     "text": [
      "KR_5733831132의 데이터 수집이 완료되었습니다\n",
      "KR_5733833241의 데이터 수집을 시작합니다.\n"
     ]
    },
    {
     "name": "stderr",
     "output_type": "stream",
     "text": [
      "\r",
      "  5%|█▋                              | 524/10000 [11:41:52<199:43:59, 75.88s/it]"
     ]
    },
    {
     "name": "stdout",
     "output_type": "stream",
     "text": [
      "KR_5733833571의 데이터 수집을 시작합니다.\n",
      "api cost full : infinite loop start\n",
      "try 10 second wait time\n",
      "429\n",
      "try 10 second wait time\n",
      "429\n",
      "try 10 second wait time\n",
      "429\n",
      "try 10 second wait time\n",
      "429\n",
      "try 10 second wait time\n",
      "429\n",
      "try 10 second wait time\n",
      "429\n",
      "try 10 second wait time\n",
      "429\n",
      "try 10 second wait time\n",
      "429\n",
      "try 10 second wait time\n",
      "429\n",
      "try 10 second wait time\n",
      "200\n",
      "total wait time :  102.59368324279785\n",
      "recovery api cost\n"
     ]
    },
    {
     "name": "stderr",
     "output_type": "stream",
     "text": [
      "\r",
      "  5%|█▋                              | 525/10000 [11:43:50<232:53:56, 88.49s/it]"
     ]
    },
    {
     "name": "stdout",
     "output_type": "stream",
     "text": [
      "KR_5733833571의 데이터 수집이 완료되었습니다\n",
      "KR_5733833852의 데이터 수집을 시작합니다.\n"
     ]
    },
    {
     "name": "stderr",
     "output_type": "stream",
     "text": [
      "\r",
      "  5%|█▋                              | 526/10000 [11:43:54<166:16:40, 63.18s/it]"
     ]
    },
    {
     "name": "stdout",
     "output_type": "stream",
     "text": [
      "KR_5733834297의 데이터 수집을 시작합니다.\n",
      "api cost full : infinite loop start\n",
      "try 10 second wait time\n",
      "429\n",
      "try 10 second wait time\n",
      "429\n",
      "try 10 second wait time\n",
      "429\n",
      "try 10 second wait time\n",
      "429\n",
      "try 10 second wait time\n",
      "429\n",
      "try 10 second wait time\n",
      "429\n",
      "try 10 second wait time\n",
      "429\n",
      "try 10 second wait time\n",
      "429\n",
      "try 10 second wait time\n",
      "429\n",
      "try 10 second wait time\n",
      "200\n",
      "total wait time :  103.28732490539551\n",
      "recovery api cost\n"
     ]
    },
    {
     "name": "stderr",
     "output_type": "stream",
     "text": [
      "\r",
      "  5%|█▋                              | 527/10000 [11:45:51<208:57:58, 79.41s/it]"
     ]
    },
    {
     "name": "stdout",
     "output_type": "stream",
     "text": [
      "KR_5733834297의 데이터 수집이 완료되었습니다\n",
      "KR_5733834389의 데이터 수집을 시작합니다.\n"
     ]
    },
    {
     "name": "stderr",
     "output_type": "stream",
     "text": [
      "\r",
      "  5%|█▋                              | 528/10000 [11:45:56<149:34:42, 56.85s/it]"
     ]
    },
    {
     "name": "stdout",
     "output_type": "stream",
     "text": [
      "KR_5733834401의 데이터 수집을 시작합니다.\n",
      "api cost full : infinite loop start\n",
      "try 10 second wait time\n",
      "429\n",
      "try 10 second wait time\n",
      "429\n",
      "try 10 second wait time\n",
      "429\n",
      "try 10 second wait time\n",
      "429\n",
      "try 10 second wait time\n",
      "429\n",
      "try 10 second wait time\n",
      "429\n",
      "try 10 second wait time\n",
      "429\n",
      "try 10 second wait time\n",
      "429\n",
      "try 10 second wait time\n",
      "429\n",
      "try 10 second wait time\n",
      "200\n",
      "total wait time :  102.49145293235779\n",
      "recovery api cost\n"
     ]
    },
    {
     "name": "stderr",
     "output_type": "stream",
     "text": [
      "\r",
      "  5%|█▋                              | 529/10000 [11:47:53<197:13:20, 74.97s/it]"
     ]
    },
    {
     "name": "stdout",
     "output_type": "stream",
     "text": [
      "KR_5733834401의 데이터 수집이 완료되었습니다\n",
      "KR_5733834621의 데이터 수집을 시작합니다.\n"
     ]
    },
    {
     "name": "stderr",
     "output_type": "stream",
     "text": [
      "\r",
      "  5%|█▋                              | 530/10000 [11:47:56<140:42:43, 53.49s/it]"
     ]
    },
    {
     "name": "stdout",
     "output_type": "stream",
     "text": [
      "KR_5733835088의 데이터 수집을 시작합니다.\n",
      "api cost full : infinite loop start\n",
      "try 10 second wait time\n",
      "429\n",
      "try 10 second wait time\n",
      "429\n",
      "try 10 second wait time\n",
      "429\n",
      "try 10 second wait time\n",
      "429\n",
      "try 10 second wait time\n",
      "429\n",
      "try 10 second wait time\n",
      "429\n",
      "try 10 second wait time\n",
      "429\n",
      "try 10 second wait time\n",
      "429\n",
      "try 10 second wait time\n",
      "429\n",
      "try 10 second wait time\n",
      "200\n",
      "total wait time :  103.77430391311646\n",
      "recovery api cost\n"
     ]
    },
    {
     "name": "stderr",
     "output_type": "stream",
     "text": [
      "\r",
      "  5%|█▋                              | 531/10000 [11:49:55<191:57:14, 72.98s/it]"
     ]
    },
    {
     "name": "stdout",
     "output_type": "stream",
     "text": [
      "KR_5733835088의 데이터 수집이 완료되었습니다\n",
      "KR_5733837914의 데이터 수집을 시작합니다.\n",
      "api cost full : infinite loop start\n",
      "try 10 second wait time\n",
      "429\n",
      "try 10 second wait time\n",
      "429\n",
      "try 10 second wait time\n",
      "429\n",
      "try 10 second wait time\n",
      "429\n",
      "try 10 second wait time\n",
      "429\n",
      "try 10 second wait time\n",
      "429\n",
      "try 10 second wait time\n",
      "429\n",
      "try 10 second wait time\n",
      "429\n",
      "try 10 second wait time\n",
      "429\n",
      "try 10 second wait time\n",
      "200\n",
      "total wait time :  102.5187177658081\n",
      "recovery api cost\n"
     ]
    },
    {
     "name": "stderr",
     "output_type": "stream",
     "text": [
      "\r",
      "  5%|█▋                              | 532/10000 [11:51:51<226:29:14, 86.12s/it]"
     ]
    },
    {
     "name": "stdout",
     "output_type": "stream",
     "text": [
      "KR_5733837914의 데이터 수집이 완료되었습니다\n",
      "KR_5733838228의 데이터 수집을 시작합니다.\n"
     ]
    },
    {
     "name": "stderr",
     "output_type": "stream",
     "text": [
      "\r",
      "  5%|█▋                              | 533/10000 [11:51:59<164:35:03, 62.59s/it]"
     ]
    },
    {
     "name": "stdout",
     "output_type": "stream",
     "text": [
      "KR_5733842318의 데이터 수집을 시작합니다.\n",
      "api cost full : infinite loop start\n",
      "try 10 second wait time\n",
      "429\n",
      "try 10 second wait time\n",
      "429\n",
      "try 10 second wait time\n",
      "429\n",
      "try 10 second wait time\n",
      "429\n",
      "try 10 second wait time\n",
      "429\n",
      "try 10 second wait time\n",
      "429\n",
      "try 10 second wait time\n",
      "429\n",
      "try 10 second wait time\n",
      "429\n",
      "try 10 second wait time\n",
      "429\n",
      "try 10 second wait time\n",
      "200\n",
      "total wait time :  102.76291728019714\n",
      "recovery api cost\n"
     ]
    },
    {
     "name": "stderr",
     "output_type": "stream",
     "text": [
      "\r",
      "  5%|█▋                              | 534/10000 [11:53:56<207:27:27, 78.90s/it]"
     ]
    },
    {
     "name": "stdout",
     "output_type": "stream",
     "text": [
      "KR_5733842318의 데이터 수집이 완료되었습니다\n",
      "KR_5733842361의 데이터 수집을 시작합니다.\n",
      "api cost full : infinite loop start\n",
      "try 10 second wait time\n",
      "429\n",
      "try 10 second wait time\n",
      "429\n",
      "try 10 second wait time\n",
      "429\n",
      "try 10 second wait time\n",
      "429\n",
      "try 10 second wait time\n",
      "429\n",
      "try 10 second wait time\n",
      "429\n",
      "try 10 second wait time\n",
      "429\n",
      "try 10 second wait time\n",
      "429\n",
      "try 10 second wait time\n",
      "429\n",
      "try 10 second wait time\n",
      "429\n",
      "try 10 second wait time\n",
      "200\n",
      "total wait time :  113.15211200714111\n",
      "recovery api cost\n"
     ]
    },
    {
     "name": "stderr",
     "output_type": "stream",
     "text": [
      "\r",
      "  5%|█▋                              | 535/10000 [11:56:04<246:03:29, 93.59s/it]"
     ]
    },
    {
     "name": "stdout",
     "output_type": "stream",
     "text": [
      "KR_5733842361의 데이터 수집이 완료되었습니다\n",
      "KR_5733842438의 데이터 수집을 시작합니다.\n"
     ]
    },
    {
     "name": "stderr",
     "output_type": "stream",
     "text": [
      "\r",
      "  5%|█▋                              | 536/10000 [11:56:10<176:57:03, 67.31s/it]"
     ]
    },
    {
     "name": "stdout",
     "output_type": "stream",
     "text": [
      "KR_5733844703의 데이터 수집을 시작합니다.\n",
      "api cost full : infinite loop start\n",
      "try 10 second wait time\n",
      "429\n",
      "try 10 second wait time\n",
      "429\n",
      "try 10 second wait time\n",
      "429\n",
      "try 10 second wait time\n",
      "429\n",
      "try 10 second wait time\n",
      "429\n",
      "try 10 second wait time\n",
      "429\n",
      "try 10 second wait time\n",
      "429\n",
      "try 10 second wait time\n",
      "429\n",
      "try 10 second wait time\n",
      "429\n",
      "try 10 second wait time\n",
      "200\n",
      "total wait time :  102.63389897346497\n",
      "recovery api cost\n"
     ]
    },
    {
     "name": "stderr",
     "output_type": "stream",
     "text": [
      "\r",
      "  5%|█▋                              | 537/10000 [11:58:06<215:10:25, 81.86s/it]"
     ]
    },
    {
     "name": "stdout",
     "output_type": "stream",
     "text": [
      "KR_5733844703의 데이터 수집이 완료되었습니다\n",
      "KR_5733845846의 데이터 수집을 시작합니다.\n"
     ]
    },
    {
     "name": "stderr",
     "output_type": "stream",
     "text": [
      "\r",
      "  5%|█▋                              | 538/10000 [11:58:10<153:51:40, 58.54s/it]"
     ]
    },
    {
     "name": "stdout",
     "output_type": "stream",
     "text": [
      "KR_5733847255의 데이터 수집을 시작합니다.\n",
      "api cost full : infinite loop start\n",
      "try 10 second wait time\n",
      "429\n",
      "try 10 second wait time\n",
      "429\n",
      "try 10 second wait time\n",
      "429\n",
      "try 10 second wait time\n",
      "429\n",
      "try 10 second wait time\n",
      "429\n",
      "try 10 second wait time\n",
      "429\n",
      "try 10 second wait time\n",
      "429\n",
      "try 10 second wait time\n",
      "429\n",
      "try 10 second wait time\n",
      "429\n",
      "try 10 second wait time\n",
      "429\n",
      "try 10 second wait time\n",
      "200\n",
      "total wait time :  112.94809913635254\n",
      "recovery api cost\n",
      "api cost full : infinite loop start\n",
      "try 10 second wait time\n",
      "429\n",
      "try 10 second wait time\n",
      "429\n",
      "try 10 second wait time\n",
      "429\n",
      "try 10 second wait time\n",
      "429\n",
      "try 10 second wait time\n",
      "429\n",
      "try 10 second wait time\n",
      "429\n",
      "try 10 second wait time\n",
      "429\n",
      "try 10 second wait time\n",
      "429\n",
      "try 10 second wait time\n",
      "429\n",
      "try 10 second wait time\n",
      "200\n",
      "total wait time :  102.57669591903687\n",
      "recovery api cost\n"
     ]
    },
    {
     "name": "stderr",
     "output_type": "stream",
     "text": [
      "\r",
      "  5%|█▋                             | 539/10000 [12:01:59<288:42:07, 109.85s/it]"
     ]
    },
    {
     "name": "stdout",
     "output_type": "stream",
     "text": [
      "KR_5733847255의 데이터 수집이 완료되었습니다\n",
      "KR_5733847348의 데이터 수집을 시작합니다.\n"
     ]
    },
    {
     "name": "stderr",
     "output_type": "stream",
     "text": [
      "\r",
      "  5%|█▋                              | 540/10000 [12:02:14<213:11:40, 81.13s/it]"
     ]
    },
    {
     "name": "stdout",
     "output_type": "stream",
     "text": [
      "KR_5733847348의 데이터 수집이 완료되었습니다\n",
      "KR_5733848650의 데이터 수집을 시작합니다.\n"
     ]
    },
    {
     "name": "stderr",
     "output_type": "stream",
     "text": [
      "\r",
      "  5%|█▋                              | 541/10000 [12:02:17<152:16:51, 57.96s/it]"
     ]
    },
    {
     "name": "stdout",
     "output_type": "stream",
     "text": [
      "KR_5733849933의 데이터 수집을 시작합니다.\n",
      "api cost full : infinite loop start\n",
      "try 10 second wait time\n",
      "429\n",
      "try 10 second wait time\n",
      "429\n",
      "try 10 second wait time\n",
      "429\n",
      "try 10 second wait time\n",
      "429\n",
      "try 10 second wait time\n",
      "429\n",
      "try 10 second wait time\n",
      "429\n",
      "try 10 second wait time\n",
      "429\n",
      "try 10 second wait time\n",
      "429\n",
      "try 10 second wait time\n",
      "429\n",
      "try 10 second wait time\n",
      "200\n",
      "total wait time :  103.12619495391846\n",
      "recovery api cost\n"
     ]
    },
    {
     "name": "stderr",
     "output_type": "stream",
     "text": [
      "\r",
      "  5%|█▋                              | 542/10000 [12:04:14<198:36:51, 75.60s/it]"
     ]
    },
    {
     "name": "stdout",
     "output_type": "stream",
     "text": [
      "KR_5733849933의 데이터 수집이 완료되었습니다\n",
      "KR_5733851136의 데이터 수집을 시작합니다.\n",
      "api cost full : infinite loop start\n",
      "try 10 second wait time\n",
      "429\n",
      "try 10 second wait time\n",
      "429\n",
      "try 10 second wait time\n",
      "429\n",
      "try 10 second wait time\n",
      "429\n",
      "try 10 second wait time\n",
      "429\n",
      "try 10 second wait time\n",
      "429\n",
      "try 10 second wait time\n",
      "429\n",
      "try 10 second wait time\n",
      "429\n",
      "try 10 second wait time\n",
      "429\n",
      "try 10 second wait time\n",
      "429\n",
      "try 10 second wait time\n",
      "200\n",
      "total wait time :  112.83647584915161\n",
      "recovery api cost\n"
     ]
    },
    {
     "name": "stderr",
     "output_type": "stream",
     "text": [
      "\r",
      "  5%|█▋                              | 543/10000 [12:06:20<238:22:26, 90.74s/it]"
     ]
    },
    {
     "name": "stdout",
     "output_type": "stream",
     "text": [
      "KR_5733851136의 데이터 수집이 완료되었습니다\n",
      "KR_5733852277의 데이터 수집을 시작합니다.\n",
      "api cost full : infinite loop start\n",
      "try 10 second wait time\n",
      "429\n",
      "try 10 second wait time\n",
      "429\n",
      "try 10 second wait time\n",
      "429\n",
      "try 10 second wait time\n",
      "429\n",
      "try 10 second wait time\n",
      "429\n",
      "try 10 second wait time\n",
      "429\n",
      "try 10 second wait time\n",
      "429\n",
      "try 10 second wait time\n",
      "429\n",
      "try 10 second wait time\n",
      "429\n",
      "try 10 second wait time\n",
      "429\n",
      "try 10 second wait time\n",
      "200\n",
      "total wait time :  112.76844716072083\n",
      "recovery api cost\n"
     ]
    },
    {
     "name": "stderr",
     "output_type": "stream",
     "text": [
      "\r",
      "  5%|█▋                             | 544/10000 [12:08:27<267:00:56, 101.66s/it]"
     ]
    },
    {
     "name": "stdout",
     "output_type": "stream",
     "text": [
      "KR_5733852277의 데이터 수집이 완료되었습니다\n",
      "KR_5733853956의 데이터 수집을 시작합니다.\n"
     ]
    },
    {
     "name": "stderr",
     "output_type": "stream",
     "text": [
      "\r",
      "  5%|█▋                              | 545/10000 [12:08:38<195:02:54, 74.26s/it]"
     ]
    },
    {
     "name": "stdout",
     "output_type": "stream",
     "text": [
      "KR_5733855316의 데이터 수집을 시작합니다.\n",
      "api cost full : infinite loop start\n",
      "try 10 second wait time\n",
      "429\n",
      "try 10 second wait time\n",
      "429\n",
      "try 10 second wait time\n",
      "429\n",
      "try 10 second wait time\n",
      "429\n",
      "try 10 second wait time\n",
      "429\n",
      "try 10 second wait time\n",
      "429\n",
      "try 10 second wait time\n",
      "429\n",
      "try 10 second wait time\n",
      "429\n",
      "try 10 second wait time\n",
      "429\n",
      "try 10 second wait time\n",
      "200\n",
      "total wait time :  102.7116858959198\n",
      "recovery api cost\n"
     ]
    },
    {
     "name": "stderr",
     "output_type": "stream",
     "text": [
      "\r",
      "  5%|█▋                              | 546/10000 [12:10:34<228:10:40, 86.89s/it]"
     ]
    },
    {
     "name": "stdout",
     "output_type": "stream",
     "text": [
      "KR_5733855316의 데이터 수집이 완료되었습니다\n",
      "KR_5733856010의 데이터 수집을 시작합니다.\n",
      "api cost full : infinite loop start\n",
      "try 10 second wait time\n",
      "429\n",
      "try 10 second wait time\n",
      "429\n",
      "try 10 second wait time\n",
      "429\n",
      "try 10 second wait time\n",
      "429\n",
      "try 10 second wait time\n",
      "429\n",
      "try 10 second wait time\n",
      "429\n",
      "try 10 second wait time\n",
      "429\n",
      "try 10 second wait time\n",
      "429\n",
      "try 10 second wait time\n",
      "429\n",
      "try 10 second wait time\n",
      "200\n",
      "total wait time :  103.11295413970947\n",
      "recovery api cost\n"
     ]
    },
    {
     "name": "stderr",
     "output_type": "stream",
     "text": [
      "\r",
      "  5%|█▊                              | 547/10000 [12:12:31<252:11:26, 96.04s/it]"
     ]
    },
    {
     "name": "stdout",
     "output_type": "stream",
     "text": [
      "KR_5733856010의 데이터 수집이 완료되었습니다\n",
      "KR_5733856589의 데이터 수집을 시작합니다.\n",
      "api cost full : infinite loop start\n",
      "try 10 second wait time\n",
      "429\n",
      "try 10 second wait time\n",
      "429\n",
      "try 10 second wait time\n",
      "429\n",
      "try 10 second wait time\n",
      "429\n",
      "try 10 second wait time\n",
      "429\n",
      "try 10 second wait time\n",
      "429\n",
      "try 10 second wait time\n",
      "429\n",
      "try 10 second wait time\n",
      "429\n",
      "try 10 second wait time\n",
      "429\n",
      "try 10 second wait time\n",
      "200\n",
      "total wait time :  102.77027082443237\n",
      "recovery api cost\n"
     ]
    },
    {
     "name": "stderr",
     "output_type": "stream",
     "text": [
      "\r",
      "  5%|█▋                             | 548/10000 [12:14:28<268:14:12, 102.16s/it]"
     ]
    },
    {
     "name": "stdout",
     "output_type": "stream",
     "text": [
      "KR_5733856589의 데이터 수집이 완료되었습니다\n",
      "KR_5733856806의 데이터 수집을 시작합니다.\n"
     ]
    },
    {
     "name": "stderr",
     "output_type": "stream",
     "text": [
      "\r",
      "  5%|█▊                              | 549/10000 [12:14:41<198:22:26, 75.56s/it]"
     ]
    },
    {
     "name": "stdout",
     "output_type": "stream",
     "text": [
      "KR_5733856806의 데이터 수집이 완료되었습니다\n",
      "KR_5733857134의 데이터 수집을 시작합니다.\n",
      "api cost full : infinite loop start\n",
      "try 10 second wait time\n",
      "429\n",
      "try 10 second wait time\n",
      "429\n",
      "try 10 second wait time\n",
      "429\n",
      "try 10 second wait time\n",
      "429\n",
      "try 10 second wait time\n",
      "429\n",
      "try 10 second wait time\n",
      "429\n",
      "try 10 second wait time\n",
      "429\n",
      "try 10 second wait time\n",
      "429\n",
      "try 10 second wait time\n",
      "429\n",
      "try 10 second wait time\n",
      "200\n",
      "total wait time :  102.63166403770447\n",
      "recovery api cost\n"
     ]
    },
    {
     "name": "stderr",
     "output_type": "stream",
     "text": [
      "\r",
      "  6%|█▊                              | 550/10000 [12:16:39<231:08:44, 88.06s/it]"
     ]
    },
    {
     "name": "stdout",
     "output_type": "stream",
     "text": [
      "KR_5733857134의 데이터 수집이 완료되었습니다\n",
      "KR_5733857286의 데이터 수집을 시작합니다.\n",
      "api cost full : infinite loop start\n",
      "try 10 second wait time\n",
      "429\n",
      "try 10 second wait time\n",
      "429\n",
      "try 10 second wait time\n",
      "429\n",
      "try 10 second wait time\n",
      "429\n",
      "try 10 second wait time\n",
      "429\n",
      "try 10 second wait time\n",
      "429\n",
      "try 10 second wait time\n",
      "429\n",
      "try 10 second wait time\n",
      "429\n",
      "try 10 second wait time\n",
      "429\n",
      "try 10 second wait time\n",
      "200\n",
      "total wait time :  102.84315490722656\n",
      "recovery api cost\n"
     ]
    },
    {
     "name": "stderr",
     "output_type": "stream",
     "text": [
      "\r",
      "  6%|█▊                              | 551/10000 [12:18:36<254:31:45, 96.97s/it]"
     ]
    },
    {
     "name": "stdout",
     "output_type": "stream",
     "text": [
      "KR_5733857286의 데이터 수집이 완료되었습니다\n",
      "KR_5733858070의 데이터 수집을 시작합니다.\n"
     ]
    },
    {
     "name": "stderr",
     "output_type": "stream",
     "text": [
      "\r",
      "  6%|█▊                              | 552/10000 [12:18:45<184:54:33, 70.46s/it]"
     ]
    },
    {
     "name": "stdout",
     "output_type": "stream",
     "text": [
      "KR_5733858819의 데이터 수집을 시작합니다.\n",
      "api cost full : infinite loop start\n",
      "try 10 second wait time\n",
      "429\n",
      "try 10 second wait time\n",
      "429\n",
      "try 10 second wait time\n",
      "429\n",
      "try 10 second wait time\n",
      "429\n",
      "try 10 second wait time\n",
      "429\n",
      "try 10 second wait time\n",
      "429\n",
      "try 10 second wait time\n",
      "429\n",
      "try 10 second wait time\n",
      "429\n",
      "try 10 second wait time\n",
      "429\n",
      "try 10 second wait time\n",
      "200\n",
      "total wait time :  102.50634598731995\n",
      "recovery api cost\n"
     ]
    },
    {
     "name": "stderr",
     "output_type": "stream",
     "text": [
      "\r",
      "  6%|█▊                              | 553/10000 [12:20:41<220:30:30, 84.03s/it]"
     ]
    },
    {
     "name": "stdout",
     "output_type": "stream",
     "text": [
      "KR_5733858819의 데이터 수집이 완료되었습니다\n",
      "KR_5733859290의 데이터 수집을 시작합니다.\n"
     ]
    },
    {
     "name": "stderr",
     "output_type": "stream",
     "text": [
      "\r",
      "  6%|█▊                              | 554/10000 [12:20:45<157:38:58, 60.08s/it]"
     ]
    },
    {
     "name": "stdout",
     "output_type": "stream",
     "text": [
      "KR_5733859793의 데이터 수집을 시작합니다.\n",
      "api cost full : infinite loop start\n",
      "try 10 second wait time\n",
      "429\n",
      "try 10 second wait time\n",
      "429\n",
      "try 10 second wait time\n",
      "429\n",
      "try 10 second wait time\n",
      "429\n",
      "try 10 second wait time\n",
      "429\n",
      "try 10 second wait time\n",
      "429\n",
      "try 10 second wait time\n",
      "429\n",
      "try 10 second wait time\n",
      "429\n",
      "try 10 second wait time\n",
      "429\n",
      "try 10 second wait time\n",
      "200\n",
      "total wait time :  102.59647607803345\n",
      "recovery api cost\n"
     ]
    },
    {
     "name": "stderr",
     "output_type": "stream",
     "text": [
      "\r",
      "  6%|█▊                              | 555/10000 [12:22:41<201:42:54, 76.88s/it]"
     ]
    },
    {
     "name": "stdout",
     "output_type": "stream",
     "text": [
      "KR_5733859793의 데이터 수집이 완료되었습니다\n",
      "KR_5733860092의 데이터 수집을 시작합니다.\n"
     ]
    },
    {
     "name": "stderr",
     "output_type": "stream",
     "text": [
      "\r",
      "  6%|█▊                              | 556/10000 [12:22:45<144:36:40, 55.12s/it]"
     ]
    },
    {
     "name": "stdout",
     "output_type": "stream",
     "text": [
      "KR_5733861036의 데이터 수집을 시작합니다.\n",
      "api cost full : infinite loop start\n",
      "try 10 second wait time\n",
      "429\n",
      "try 10 second wait time\n",
      "429\n",
      "try 10 second wait time\n",
      "429\n",
      "try 10 second wait time\n",
      "429\n",
      "try 10 second wait time\n",
      "429\n",
      "try 10 second wait time\n",
      "429\n",
      "try 10 second wait time\n",
      "429\n",
      "try 10 second wait time\n",
      "429\n",
      "try 10 second wait time\n",
      "429\n",
      "try 10 second wait time\n",
      "200\n",
      "total wait time :  102.48929595947266\n",
      "recovery api cost\n"
     ]
    },
    {
     "name": "stderr",
     "output_type": "stream",
     "text": [
      "\r",
      "  6%|█▊                              | 557/10000 [12:24:41<192:34:06, 73.41s/it]"
     ]
    },
    {
     "name": "stdout",
     "output_type": "stream",
     "text": [
      "KR_5733861036의 데이터 수집이 완료되었습니다\n",
      "KR_5733861494의 데이터 수집을 시작합니다.\n",
      "api cost full : infinite loop start\n",
      "try 10 second wait time\n",
      "429\n",
      "try 10 second wait time\n",
      "429\n",
      "try 10 second wait time\n",
      "429\n",
      "try 10 second wait time\n",
      "429\n",
      "try 10 second wait time\n",
      "429\n",
      "try 10 second wait time\n",
      "429\n",
      "try 10 second wait time\n",
      "429\n",
      "try 10 second wait time\n",
      "429\n",
      "try 10 second wait time\n",
      "429\n",
      "try 10 second wait time\n",
      "429\n",
      "try 10 second wait time\n",
      "200\n",
      "total wait time :  113.02682399749756\n",
      "recovery api cost\n"
     ]
    },
    {
     "name": "stderr",
     "output_type": "stream",
     "text": [
      "\r",
      "  6%|█▊                              | 558/10000 [12:26:49<234:51:14, 89.54s/it]"
     ]
    },
    {
     "name": "stdout",
     "output_type": "stream",
     "text": [
      "KR_5733861494의 데이터 수집이 완료되었습니다\n",
      "KR_5733861672의 데이터 수집을 시작합니다.\n",
      "api cost full : infinite loop start\n",
      "try 10 second wait time\n",
      "429\n",
      "try 10 second wait time\n",
      "429\n",
      "try 10 second wait time\n",
      "429\n",
      "try 10 second wait time\n",
      "429\n",
      "try 10 second wait time\n",
      "429\n",
      "try 10 second wait time\n",
      "429\n",
      "try 10 second wait time\n",
      "429\n",
      "try 10 second wait time\n",
      "429\n",
      "try 10 second wait time\n",
      "429\n",
      "try 10 second wait time\n",
      "429\n",
      "try 10 second wait time\n",
      "200\n",
      "total wait time :  113.4520571231842\n",
      "recovery api cost\n"
     ]
    },
    {
     "name": "stderr",
     "output_type": "stream",
     "text": [
      "\r",
      "  6%|█▋                             | 559/10000 [12:28:56<264:16:43, 100.77s/it]"
     ]
    },
    {
     "name": "stdout",
     "output_type": "stream",
     "text": [
      "KR_5733861676의 데이터 수집을 시작합니다.\n",
      "api cost full : infinite loop start\n",
      "try 10 second wait time\n",
      "429\n",
      "try 10 second wait time\n",
      "429\n",
      "try 10 second wait time\n",
      "429\n",
      "try 10 second wait time\n",
      "429\n",
      "try 10 second wait time\n",
      "429\n",
      "try 10 second wait time\n",
      "429\n",
      "try 10 second wait time\n",
      "429\n",
      "try 10 second wait time\n",
      "429\n",
      "try 10 second wait time\n",
      "429\n",
      "try 10 second wait time\n",
      "429\n",
      "try 10 second wait time\n",
      "200\n",
      "total wait time :  113.29962086677551\n",
      "recovery api cost\n"
     ]
    },
    {
     "name": "stderr",
     "output_type": "stream",
     "text": [
      "\r",
      "  6%|█▋                             | 560/10000 [12:31:03<284:54:02, 108.65s/it]"
     ]
    },
    {
     "name": "stdout",
     "output_type": "stream",
     "text": [
      "KR_5733861992의 데이터 수집을 시작합니다.\n",
      "api cost full : infinite loop start\n",
      "try 10 second wait time\n",
      "429\n",
      "try 10 second wait time\n",
      "429\n",
      "try 10 second wait time\n",
      "429\n",
      "try 10 second wait time\n",
      "429\n",
      "try 10 second wait time\n",
      "429\n",
      "try 10 second wait time\n",
      "429\n",
      "try 10 second wait time\n",
      "429\n",
      "try 10 second wait time\n",
      "429\n",
      "try 10 second wait time\n",
      "429\n",
      "try 10 second wait time\n",
      "429\n",
      "try 10 second wait time\n",
      "200\n",
      "total wait time :  113.2927041053772\n",
      "recovery api cost\n"
     ]
    },
    {
     "name": "stderr",
     "output_type": "stream",
     "text": [
      "\r",
      "  6%|█▋                             | 561/10000 [12:33:08<297:59:05, 113.65s/it]"
     ]
    },
    {
     "name": "stdout",
     "output_type": "stream",
     "text": [
      "KR_5733864416의 데이터 수집을 시작합니다.\n",
      "api cost full : infinite loop start\n",
      "try 10 second wait time\n",
      "429\n",
      "try 10 second wait time\n",
      "429\n",
      "try 10 second wait time\n",
      "429\n",
      "try 10 second wait time\n",
      "429\n",
      "try 10 second wait time\n",
      "429\n",
      "try 10 second wait time\n",
      "429\n",
      "try 10 second wait time\n",
      "429\n",
      "try 10 second wait time\n",
      "429\n",
      "try 10 second wait time\n",
      "429\n",
      "try 10 second wait time\n",
      "429\n",
      "try 10 second wait time\n",
      "200\n",
      "total wait time :  113.4554181098938\n",
      "recovery api cost\n"
     ]
    },
    {
     "name": "stderr",
     "output_type": "stream",
     "text": [
      "\r",
      "  6%|█▋                             | 562/10000 [12:35:14<307:56:10, 117.46s/it]"
     ]
    },
    {
     "name": "stdout",
     "output_type": "stream",
     "text": [
      "KR_5733864460의 데이터 수집을 시작합니다.\n",
      "api cost full : infinite loop start\n",
      "try 10 second wait time\n",
      "429\n",
      "try 10 second wait time\n",
      "429\n",
      "try 10 second wait time\n",
      "429\n",
      "try 10 second wait time\n",
      "429\n",
      "try 10 second wait time\n",
      "429\n",
      "try 10 second wait time\n",
      "429\n",
      "try 10 second wait time\n",
      "429\n",
      "try 10 second wait time\n",
      "429\n",
      "try 10 second wait time\n",
      "429\n",
      "try 10 second wait time\n",
      "429\n",
      "try 10 second wait time\n",
      "200\n",
      "total wait time :  113.00654292106628\n",
      "recovery api cost\n",
      "api cost full : infinite loop start\n",
      "try 10 second wait time\n",
      "429\n",
      "try 10 second wait time\n",
      "429\n",
      "try 10 second wait time\n",
      "429\n",
      "try 10 second wait time\n",
      "429\n",
      "try 10 second wait time\n",
      "429\n",
      "try 10 second wait time\n",
      "429\n",
      "try 10 second wait time\n",
      "429\n",
      "try 10 second wait time\n",
      "429\n",
      "try 10 second wait time\n",
      "429\n",
      "try 10 second wait time\n",
      "429\n",
      "try 10 second wait time\n",
      "200\n",
      "total wait time :  113.18211197853088\n",
      "recovery api cost\n"
     ]
    },
    {
     "name": "stderr",
     "output_type": "stream",
     "text": [
      "\r",
      "  6%|█▋                             | 563/10000 [12:39:14<404:25:11, 154.28s/it]"
     ]
    },
    {
     "name": "stdout",
     "output_type": "stream",
     "text": [
      "KR_5733864460의 데이터 수집이 완료되었습니다\n",
      "KR_5733865296의 데이터 수집을 시작합니다.\n",
      "api cost full : infinite loop start\n",
      "try 10 second wait time\n",
      "429\n",
      "try 10 second wait time\n",
      "429\n",
      "try 10 second wait time\n",
      "429\n",
      "try 10 second wait time\n",
      "429\n",
      "try 10 second wait time\n",
      "429\n",
      "try 10 second wait time\n",
      "429\n",
      "try 10 second wait time\n",
      "429\n",
      "try 10 second wait time\n",
      "429\n",
      "try 10 second wait time\n",
      "429\n",
      "try 10 second wait time\n",
      "429\n",
      "try 10 second wait time\n",
      "200\n",
      "total wait time :  113.39391112327576\n",
      "recovery api cost\n"
     ]
    },
    {
     "name": "stderr",
     "output_type": "stream",
     "text": [
      "\r",
      "  6%|█▋                             | 564/10000 [12:41:23<383:58:34, 146.49s/it]"
     ]
    },
    {
     "name": "stdout",
     "output_type": "stream",
     "text": [
      "KR_5733865296의 데이터 수집이 완료되었습니다\n",
      "KR_5733865642의 데이터 수집을 시작합니다.\n",
      "api cost full : infinite loop start\n",
      "try 10 second wait time\n",
      "429\n",
      "try 10 second wait time\n",
      "429\n",
      "try 10 second wait time\n",
      "429\n",
      "try 10 second wait time\n",
      "429\n",
      "try 10 second wait time\n",
      "429\n",
      "try 10 second wait time\n",
      "429\n",
      "try 10 second wait time\n",
      "429\n",
      "try 10 second wait time\n",
      "429\n",
      "try 10 second wait time\n",
      "429\n",
      "try 10 second wait time\n",
      "429\n",
      "try 10 second wait time\n",
      "200\n",
      "total wait time :  113.14624500274658\n",
      "recovery api cost\n"
     ]
    },
    {
     "name": "stderr",
     "output_type": "stream",
     "text": [
      "\r",
      "  6%|█▊                             | 565/10000 [12:43:30<368:48:37, 140.72s/it]"
     ]
    },
    {
     "name": "stdout",
     "output_type": "stream",
     "text": [
      "KR_5733865642의 데이터 수집이 완료되었습니다\n",
      "KR_5733866564의 데이터 수집을 시작합니다.\n",
      "api cost full : infinite loop start\n",
      "try 10 second wait time\n",
      "429\n",
      "try 10 second wait time\n",
      "429\n",
      "try 10 second wait time\n",
      "429\n",
      "try 10 second wait time\n",
      "429\n",
      "try 10 second wait time\n",
      "429\n",
      "try 10 second wait time\n",
      "429\n",
      "try 10 second wait time\n",
      "429\n",
      "try 10 second wait time\n",
      "429\n",
      "try 10 second wait time\n",
      "429\n",
      "try 10 second wait time\n",
      "429\n",
      "try 10 second wait time\n",
      "200\n",
      "total wait time :  113.0254578590393\n",
      "recovery api cost\n"
     ]
    },
    {
     "name": "stderr",
     "output_type": "stream",
     "text": [
      "\r",
      "  6%|█▊                             | 566/10000 [12:45:38<358:50:03, 136.93s/it]"
     ]
    },
    {
     "name": "stdout",
     "output_type": "stream",
     "text": [
      "KR_5733866564의 데이터 수집이 완료되었습니다\n",
      "KR_5733866853의 데이터 수집을 시작합니다.\n"
     ]
    },
    {
     "name": "stderr",
     "output_type": "stream",
     "text": [
      "\r",
      "  6%|█▊                              | 567/10000 [12:45:42<254:08:35, 96.99s/it]"
     ]
    },
    {
     "name": "stdout",
     "output_type": "stream",
     "text": [
      "KR_5733867222의 데이터 수집을 시작합니다.\n",
      "api cost full : infinite loop start\n",
      "try 10 second wait time\n",
      "429\n",
      "try 10 second wait time\n",
      "429\n",
      "try 10 second wait time\n",
      "429\n",
      "try 10 second wait time\n",
      "429\n",
      "try 10 second wait time\n",
      "429\n",
      "try 10 second wait time\n",
      "429\n",
      "try 10 second wait time\n",
      "429\n",
      "try 10 second wait time\n",
      "429\n",
      "try 10 second wait time\n",
      "429\n",
      "try 10 second wait time\n",
      "429\n",
      "try 10 second wait time\n",
      "200\n",
      "total wait time :  114.25619912147522\n",
      "recovery api cost\n",
      "api cost full : infinite loop start\n",
      "try 10 second wait time\n",
      "429\n",
      "try 10 second wait time\n",
      "429\n",
      "try 10 second wait time\n",
      "429\n",
      "try 10 second wait time\n",
      "429\n",
      "try 10 second wait time\n",
      "429\n",
      "try 10 second wait time\n",
      "429\n",
      "try 10 second wait time\n",
      "429\n",
      "try 10 second wait time\n",
      "429\n",
      "try 10 second wait time\n",
      "429\n",
      "try 10 second wait time\n",
      "429\n",
      "try 10 second wait time\n",
      "200\n",
      "total wait time :  113.03458213806152\n",
      "recovery api cost\n"
     ]
    },
    {
     "name": "stderr",
     "output_type": "stream",
     "text": [
      "\r",
      "  6%|█▊                             | 568/10000 [12:49:44<368:24:19, 140.61s/it]"
     ]
    },
    {
     "name": "stdout",
     "output_type": "stream",
     "text": [
      "KR_5733867222의 데이터 수집이 완료되었습니다\n",
      "KR_5733867537의 데이터 수집을 시작합니다.\n",
      "api cost full : infinite loop start\n",
      "try 10 second wait time\n",
      "429\n",
      "try 10 second wait time\n",
      "429\n",
      "try 10 second wait time\n",
      "429\n",
      "try 10 second wait time\n",
      "429\n",
      "try 10 second wait time\n",
      "429\n",
      "try 10 second wait time\n",
      "429\n",
      "try 10 second wait time\n",
      "429\n",
      "try 10 second wait time\n",
      "429\n",
      "try 10 second wait time\n",
      "429\n",
      "try 10 second wait time\n",
      "429\n",
      "try 10 second wait time\n",
      "200\n",
      "total wait time :  112.97288084030151\n",
      "recovery api cost\n"
     ]
    },
    {
     "name": "stderr",
     "output_type": "stream",
     "text": [
      "\r",
      "  6%|█▊                             | 569/10000 [12:51:51<357:49:30, 136.59s/it]"
     ]
    },
    {
     "name": "stdout",
     "output_type": "stream",
     "text": [
      "KR_5733867537의 데이터 수집이 완료되었습니다\n",
      "KR_5733868008의 데이터 수집을 시작합니다.\n",
      "api cost full : infinite loop start\n",
      "try 10 second wait time\n",
      "429\n",
      "try 10 second wait time\n",
      "429\n",
      "try 10 second wait time\n",
      "429\n",
      "try 10 second wait time\n",
      "429\n",
      "try 10 second wait time\n",
      "429\n",
      "try 10 second wait time\n",
      "429\n",
      "try 10 second wait time\n",
      "429\n",
      "try 10 second wait time\n",
      "429\n",
      "try 10 second wait time\n",
      "429\n",
      "try 10 second wait time\n",
      "429\n",
      "try 10 second wait time\n",
      "200\n",
      "total wait time :  113.52585172653198\n",
      "recovery api cost\n"
     ]
    },
    {
     "name": "stderr",
     "output_type": "stream",
     "text": [
      "\r",
      "  6%|█▊                             | 570/10000 [12:54:00<351:13:42, 134.09s/it]"
     ]
    },
    {
     "name": "stdout",
     "output_type": "stream",
     "text": [
      "KR_5733868008의 데이터 수집이 완료되었습니다\n",
      "KR_5733868472의 데이터 수집을 시작합니다.\n"
     ]
    },
    {
     "name": "stderr",
     "output_type": "stream",
     "text": [
      "\r",
      "  6%|█▊                              | 571/10000 [12:54:03<248:27:45, 94.86s/it]"
     ]
    },
    {
     "name": "stdout",
     "output_type": "stream",
     "text": [
      "KR_5733868708의 데이터 수집을 시작합니다.\n",
      "api cost full : infinite loop start\n",
      "try 10 second wait time\n",
      "429\n",
      "try 10 second wait time\n",
      "429\n",
      "try 10 second wait time\n",
      "429\n",
      "try 10 second wait time\n",
      "429\n",
      "try 10 second wait time\n",
      "429\n",
      "try 10 second wait time\n",
      "429\n",
      "try 10 second wait time\n",
      "429\n",
      "try 10 second wait time\n",
      "429\n",
      "try 10 second wait time\n",
      "429\n",
      "try 10 second wait time\n",
      "429\n",
      "try 10 second wait time\n",
      "200\n",
      "total wait time :  113.0459132194519\n",
      "recovery api cost\n"
     ]
    },
    {
     "name": "stderr",
     "output_type": "stream",
     "text": [
      "\r",
      "  6%|█▊                             | 572/10000 [12:56:09<273:06:00, 104.28s/it]"
     ]
    },
    {
     "name": "stdout",
     "output_type": "stream",
     "text": [
      "KR_5733869228의 데이터 수집을 시작합니다.\n",
      "api cost full : infinite loop start\n",
      "try 10 second wait time\n",
      "429\n",
      "try 10 second wait time\n",
      "429\n",
      "try 10 second wait time\n",
      "429\n",
      "try 10 second wait time\n",
      "429\n",
      "try 10 second wait time\n",
      "429\n",
      "try 10 second wait time\n",
      "429\n",
      "try 10 second wait time\n",
      "429\n",
      "try 10 second wait time\n",
      "429\n",
      "try 10 second wait time\n",
      "429\n",
      "try 10 second wait time\n",
      "429\n",
      "try 10 second wait time\n",
      "200\n",
      "total wait time :  112.92525291442871\n",
      "recovery api cost\n",
      "api cost full : infinite loop start\n",
      "try 10 second wait time\n",
      "429\n",
      "try 10 second wait time\n",
      "429\n",
      "try 10 second wait time\n",
      "429\n",
      "try 10 second wait time\n",
      "429\n",
      "try 10 second wait time\n",
      "429\n",
      "try 10 second wait time\n",
      "429\n",
      "try 10 second wait time\n",
      "429\n",
      "try 10 second wait time\n",
      "429\n",
      "try 10 second wait time\n",
      "429\n",
      "try 10 second wait time\n",
      "429\n",
      "try 10 second wait time\n",
      "200\n",
      "total wait time :  113.05197167396545\n",
      "recovery api cost\n"
     ]
    },
    {
     "name": "stderr",
     "output_type": "stream",
     "text": [
      "\r",
      "  6%|█▊                             | 573/10000 [13:00:11<381:04:37, 145.53s/it]"
     ]
    },
    {
     "name": "stdout",
     "output_type": "stream",
     "text": [
      "KR_5733869228의 데이터 수집이 완료되었습니다\n",
      "KR_5733869303의 데이터 수집을 시작합니다.\n"
     ]
    },
    {
     "name": "stderr",
     "output_type": "stream",
     "text": [
      "\r",
      "  6%|█▊                             | 574/10000 [13:00:20<273:30:07, 104.46s/it]"
     ]
    },
    {
     "name": "stdout",
     "output_type": "stream",
     "text": [
      "KR_5733869342의 데이터 수집을 시작합니다.\n",
      "api cost full : infinite loop start\n",
      "try 10 second wait time\n",
      "429\n",
      "try 10 second wait time\n",
      "429\n",
      "try 10 second wait time\n",
      "429\n",
      "try 10 second wait time\n",
      "429\n",
      "try 10 second wait time\n",
      "429\n",
      "try 10 second wait time\n",
      "429\n",
      "try 10 second wait time\n",
      "429\n",
      "try 10 second wait time\n",
      "429\n",
      "try 10 second wait time\n",
      "429\n",
      "try 10 second wait time\n",
      "429\n",
      "try 10 second wait time\n",
      "200\n",
      "total wait time :  113.53502702713013\n",
      "recovery api cost\n"
     ]
    },
    {
     "name": "stderr",
     "output_type": "stream",
     "text": [
      "\r",
      "  6%|█▊                             | 575/10000 [13:02:26<290:18:08, 110.88s/it]"
     ]
    },
    {
     "name": "stdout",
     "output_type": "stream",
     "text": [
      "KR_5733869659의 데이터 수집을 시작합니다.\n",
      "api cost full : infinite loop start\n",
      "try 10 second wait time\n",
      "429\n",
      "try 10 second wait time\n",
      "429\n",
      "try 10 second wait time\n",
      "429\n",
      "try 10 second wait time\n",
      "429\n",
      "try 10 second wait time\n",
      "429\n",
      "try 10 second wait time\n",
      "429\n",
      "try 10 second wait time\n",
      "429\n",
      "try 10 second wait time\n",
      "429\n",
      "try 10 second wait time\n",
      "429\n",
      "try 10 second wait time\n",
      "429\n",
      "try 10 second wait time\n",
      "200\n",
      "total wait time :  112.97619915008545\n",
      "recovery api cost\n"
     ]
    },
    {
     "name": "stderr",
     "output_type": "stream",
     "text": [
      "\r",
      "  6%|█▊                             | 576/10000 [13:04:31<301:50:53, 115.31s/it]"
     ]
    },
    {
     "name": "stdout",
     "output_type": "stream",
     "text": [
      "KR_5733870459의 데이터 수집을 시작합니다.\n",
      "api cost full : infinite loop start\n",
      "try 10 second wait time\n",
      "429\n",
      "try 10 second wait time\n",
      "429\n",
      "try 10 second wait time\n",
      "429\n",
      "try 10 second wait time\n",
      "429\n",
      "try 10 second wait time\n",
      "429\n",
      "try 10 second wait time\n",
      "429\n",
      "try 10 second wait time\n",
      "429\n",
      "try 10 second wait time\n",
      "429\n",
      "try 10 second wait time\n",
      "429\n",
      "try 10 second wait time\n",
      "429\n",
      "try 10 second wait time\n",
      "200\n",
      "total wait time :  113.60230088233948\n",
      "recovery api cost\n",
      "api cost full : infinite loop start\n",
      "try 10 second wait time\n",
      "429\n",
      "try 10 second wait time\n",
      "429\n",
      "try 10 second wait time\n",
      "429\n",
      "try 10 second wait time\n",
      "429\n",
      "try 10 second wait time\n",
      "429\n",
      "try 10 second wait time\n",
      "429\n",
      "try 10 second wait time\n",
      "429\n",
      "try 10 second wait time\n",
      "429\n",
      "try 10 second wait time\n",
      "429\n",
      "try 10 second wait time\n",
      "429\n",
      "try 10 second wait time\n",
      "200\n",
      "total wait time :  113.31032395362854\n",
      "recovery api cost\n"
     ]
    },
    {
     "name": "stderr",
     "output_type": "stream",
     "text": [
      "\r",
      "  6%|█▊                             | 577/10000 [13:08:33<401:00:35, 153.20s/it]"
     ]
    },
    {
     "name": "stdout",
     "output_type": "stream",
     "text": [
      "KR_5733870459의 데이터 수집이 완료되었습니다\n",
      "KR_5733871421의 데이터 수집을 시작합니다.\n"
     ]
    },
    {
     "name": "stderr",
     "output_type": "stream",
     "text": [
      "\r",
      "  6%|█▊                             | 578/10000 [13:08:43<288:31:53, 110.24s/it]"
     ]
    },
    {
     "name": "stdout",
     "output_type": "stream",
     "text": [
      "KR_5733871847의 데이터 수집을 시작합니다.\n",
      "api cost full : infinite loop start\n",
      "try 10 second wait time\n",
      "429\n",
      "try 10 second wait time\n",
      "429\n",
      "try 10 second wait time\n",
      "429\n",
      "try 10 second wait time\n",
      "429\n",
      "try 10 second wait time\n",
      "429\n",
      "try 10 second wait time\n",
      "429\n",
      "try 10 second wait time\n",
      "429\n",
      "try 10 second wait time\n",
      "429\n",
      "try 10 second wait time\n",
      "429\n",
      "try 10 second wait time\n",
      "429\n",
      "try 10 second wait time\n",
      "200\n",
      "total wait time :  113.51280570030212\n",
      "recovery api cost\n",
      "api cost full : infinite loop start\n",
      "try 10 second wait time\n",
      "429\n",
      "try 10 second wait time\n",
      "429\n",
      "try 10 second wait time\n",
      "429\n",
      "try 10 second wait time\n",
      "429\n",
      "try 10 second wait time\n",
      "429\n",
      "try 10 second wait time\n",
      "429\n",
      "try 10 second wait time\n",
      "429\n",
      "try 10 second wait time\n",
      "429\n",
      "try 10 second wait time\n",
      "429\n",
      "try 10 second wait time\n",
      "429\n",
      "try 10 second wait time\n",
      "200\n",
      "total wait time :  113.43877816200256\n",
      "recovery api cost\n"
     ]
    },
    {
     "name": "stderr",
     "output_type": "stream",
     "text": [
      "\r",
      "  6%|█▊                             | 579/10000 [13:12:44<391:26:56, 149.58s/it]"
     ]
    },
    {
     "name": "stdout",
     "output_type": "stream",
     "text": [
      "KR_5733871847의 데이터 수집이 완료되었습니다\n",
      "KR_5733872030의 데이터 수집을 시작합니다.\n"
     ]
    },
    {
     "name": "stderr",
     "output_type": "stream",
     "text": [
      "\r",
      "  6%|█▊                             | 580/10000 [13:12:54<281:43:16, 107.66s/it]"
     ]
    },
    {
     "name": "stdout",
     "output_type": "stream",
     "text": [
      "KR_5733873203의 데이터 수집을 시작합니다.\n",
      "api cost full : infinite loop start\n",
      "try 10 second wait time\n",
      "429\n",
      "try 10 second wait time\n",
      "429\n",
      "try 10 second wait time\n",
      "429\n",
      "try 10 second wait time\n",
      "429\n",
      "try 10 second wait time\n",
      "429\n",
      "try 10 second wait time\n",
      "429\n",
      "try 10 second wait time\n",
      "429\n",
      "try 10 second wait time\n",
      "429\n",
      "try 10 second wait time\n",
      "429\n",
      "try 10 second wait time\n",
      "429\n",
      "try 10 second wait time\n",
      "200\n",
      "total wait time :  113.02334117889404\n",
      "recovery api cost\n"
     ]
    },
    {
     "name": "stderr",
     "output_type": "stream",
     "text": [
      "\r",
      "  6%|█▊                             | 581/10000 [13:15:00<295:48:00, 113.06s/it]"
     ]
    },
    {
     "name": "stdout",
     "output_type": "stream",
     "text": [
      "KR_5733873315의 데이터 수집을 시작합니다.\n",
      "api cost full : infinite loop start\n",
      "try 10 second wait time\n",
      "429\n",
      "try 10 second wait time\n",
      "429\n",
      "try 10 second wait time\n",
      "429\n",
      "try 10 second wait time\n",
      "429\n",
      "try 10 second wait time\n",
      "429\n",
      "try 10 second wait time\n",
      "429\n",
      "try 10 second wait time\n",
      "429\n",
      "try 10 second wait time\n",
      "429\n",
      "try 10 second wait time\n",
      "429\n",
      "try 10 second wait time\n",
      "429\n",
      "try 10 second wait time\n",
      "200\n",
      "total wait time :  115.51404285430908\n",
      "recovery api cost\n"
     ]
    },
    {
     "name": "stderr",
     "output_type": "stream",
     "text": [
      "\r",
      "  6%|█▊                             | 582/10000 [13:17:05<305:40:24, 116.84s/it]"
     ]
    },
    {
     "name": "stdout",
     "output_type": "stream",
     "text": [
      "KR_5733875319의 데이터 수집을 시작합니다.\n",
      "api cost full : infinite loop start\n",
      "try 10 second wait time\n",
      "429\n",
      "try 10 second wait time\n",
      "429\n",
      "try 10 second wait time\n",
      "429\n",
      "try 10 second wait time\n",
      "429\n",
      "try 10 second wait time\n",
      "429\n",
      "try 10 second wait time\n",
      "429\n",
      "try 10 second wait time\n",
      "429\n",
      "try 10 second wait time\n",
      "429\n",
      "try 10 second wait time\n",
      "429\n",
      "try 10 second wait time\n",
      "429\n",
      "try 10 second wait time\n",
      "200\n",
      "total wait time :  112.84645700454712\n",
      "recovery api cost\n"
     ]
    },
    {
     "name": "stderr",
     "output_type": "stream",
     "text": [
      "\r",
      "  6%|█▊                             | 583/10000 [13:19:10<311:52:55, 119.23s/it]"
     ]
    },
    {
     "name": "stdout",
     "output_type": "stream",
     "text": [
      "KR_5733876099의 데이터 수집을 시작합니다.\n",
      "api cost full : infinite loop start\n",
      "try 10 second wait time\n",
      "429\n",
      "try 10 second wait time\n",
      "429\n",
      "try 10 second wait time\n",
      "429\n",
      "try 10 second wait time\n",
      "429\n",
      "try 10 second wait time\n",
      "429\n",
      "try 10 second wait time\n",
      "429\n",
      "try 10 second wait time\n",
      "429\n",
      "try 10 second wait time\n",
      "429\n",
      "try 10 second wait time\n",
      "429\n",
      "try 10 second wait time\n",
      "429\n",
      "try 10 second wait time\n",
      "200\n",
      "total wait time :  113.6706690788269\n",
      "recovery api cost\n"
     ]
    },
    {
     "name": "stderr",
     "output_type": "stream",
     "text": [
      "\r",
      "  6%|█▊                             | 584/10000 [13:21:15<316:20:58, 120.95s/it]"
     ]
    },
    {
     "name": "stdout",
     "output_type": "stream",
     "text": [
      "KR_5733876120의 데이터 수집을 시작합니다.\n",
      "api cost full : infinite loop start\n",
      "try 10 second wait time\n",
      "429\n",
      "try 10 second wait time\n",
      "429\n",
      "try 10 second wait time\n",
      "429\n",
      "try 10 second wait time\n",
      "429\n",
      "try 10 second wait time\n",
      "429\n",
      "try 10 second wait time\n",
      "429\n",
      "try 10 second wait time\n",
      "429\n",
      "try 10 second wait time\n",
      "429\n",
      "try 10 second wait time\n",
      "429\n",
      "try 10 second wait time\n",
      "429\n",
      "try 10 second wait time\n",
      "200\n",
      "total wait time :  113.10325503349304\n",
      "recovery api cost\n",
      "api cost full : infinite loop start\n",
      "try 10 second wait time\n",
      "429\n",
      "try 10 second wait time\n",
      "429\n",
      "try 10 second wait time\n",
      "429\n",
      "try 10 second wait time\n",
      "429\n",
      "try 10 second wait time\n",
      "429\n",
      "try 10 second wait time\n",
      "429\n",
      "try 10 second wait time\n",
      "429\n",
      "try 10 second wait time\n",
      "429\n",
      "try 10 second wait time\n",
      "429\n",
      "try 10 second wait time\n",
      "429\n",
      "try 10 second wait time\n",
      "200\n",
      "total wait time :  113.49812889099121\n",
      "recovery api cost\n"
     ]
    },
    {
     "name": "stderr",
     "output_type": "stream",
     "text": [
      "\r",
      "  6%|█▊                             | 585/10000 [13:25:17<410:51:33, 157.10s/it]"
     ]
    },
    {
     "name": "stdout",
     "output_type": "stream",
     "text": [
      "KR_5733876120의 데이터 수집이 완료되었습니다\n",
      "KR_5733876163의 데이터 수집을 시작합니다.\n"
     ]
    },
    {
     "name": "stderr",
     "output_type": "stream",
     "text": [
      "\r",
      "  6%|█▊                             | 586/10000 [13:25:26<294:58:46, 112.80s/it]"
     ]
    },
    {
     "name": "stdout",
     "output_type": "stream",
     "text": [
      "KR_5733877574의 데이터 수집을 시작합니다.\n",
      "api cost full : infinite loop start\n",
      "try 10 second wait time\n",
      "429\n",
      "try 10 second wait time\n",
      "429\n",
      "try 10 second wait time\n",
      "429\n",
      "try 10 second wait time\n",
      "429\n",
      "try 10 second wait time\n",
      "429\n",
      "try 10 second wait time\n",
      "429\n",
      "try 10 second wait time\n",
      "429\n",
      "try 10 second wait time\n",
      "429\n",
      "try 10 second wait time\n",
      "429\n",
      "try 10 second wait time\n",
      "429\n",
      "try 10 second wait time\n",
      "200\n",
      "total wait time :  113.10144901275635\n",
      "recovery api cost\n",
      "api cost full : infinite loop start\n",
      "try 10 second wait time\n",
      "429\n",
      "try 10 second wait time\n",
      "429\n",
      "try 10 second wait time\n",
      "429\n",
      "try 10 second wait time\n",
      "429\n",
      "try 10 second wait time\n",
      "429\n",
      "try 10 second wait time\n",
      "429\n",
      "try 10 second wait time\n",
      "429\n",
      "try 10 second wait time\n",
      "429\n",
      "try 10 second wait time\n",
      "429\n",
      "try 10 second wait time\n",
      "429\n",
      "try 10 second wait time\n",
      "200\n",
      "total wait time :  113.31728982925415\n",
      "recovery api cost\n"
     ]
    },
    {
     "name": "stderr",
     "output_type": "stream",
     "text": [
      "\r",
      "  6%|█▊                             | 587/10000 [13:29:27<395:42:02, 151.34s/it]"
     ]
    },
    {
     "name": "stdout",
     "output_type": "stream",
     "text": [
      "KR_5733877574의 데이터 수집이 완료되었습니다\n",
      "KR_5733879905의 데이터 수집을 시작합니다.\n"
     ]
    },
    {
     "name": "stderr",
     "output_type": "stream",
     "text": [
      "\r",
      "  6%|█▊                             | 588/10000 [13:29:39<285:59:15, 109.39s/it]"
     ]
    },
    {
     "name": "stdout",
     "output_type": "stream",
     "text": [
      "KR_5733882315의 데이터 수집을 시작합니다.\n",
      "api cost full : infinite loop start\n",
      "try 10 second wait time\n",
      "429\n",
      "try 10 second wait time\n",
      "429\n",
      "try 10 second wait time\n",
      "429\n",
      "try 10 second wait time\n",
      "429\n",
      "try 10 second wait time\n",
      "429\n",
      "try 10 second wait time\n",
      "429\n",
      "try 10 second wait time\n",
      "429\n",
      "try 10 second wait time\n",
      "429\n",
      "try 10 second wait time\n",
      "429\n",
      "try 10 second wait time\n",
      "429\n",
      "try 10 second wait time\n",
      "200\n",
      "total wait time :  113.39428114891052\n",
      "recovery api cost\n",
      "api cost full : infinite loop start\n",
      "try 10 second wait time\n",
      "429\n",
      "try 10 second wait time\n",
      "429\n",
      "try 10 second wait time\n",
      "429\n",
      "try 10 second wait time\n",
      "429\n",
      "try 10 second wait time\n",
      "429\n",
      "try 10 second wait time\n",
      "429\n",
      "try 10 second wait time\n",
      "429\n",
      "try 10 second wait time\n",
      "429\n",
      "try 10 second wait time\n",
      "429\n",
      "try 10 second wait time\n",
      "429\n",
      "try 10 second wait time\n",
      "200\n",
      "total wait time :  112.92326402664185\n",
      "recovery api cost\n"
     ]
    },
    {
     "name": "stderr",
     "output_type": "stream",
     "text": [
      "\r",
      "  6%|█▊                             | 589/10000 [13:33:39<388:41:01, 148.68s/it]"
     ]
    },
    {
     "name": "stdout",
     "output_type": "stream",
     "text": [
      "KR_5733882315의 데이터 수집이 완료되었습니다\n",
      "KR_5733882680의 데이터 수집을 시작합니다.\n"
     ]
    },
    {
     "name": "stderr",
     "output_type": "stream",
     "text": [
      "\r",
      "  6%|█▊                             | 590/10000 [13:33:49<279:57:07, 107.10s/it]"
     ]
    },
    {
     "name": "stdout",
     "output_type": "stream",
     "text": [
      "KR_5733883019의 데이터 수집을 시작합니다.\n",
      "api cost full : infinite loop start\n",
      "try 10 second wait time\n",
      "429\n",
      "try 10 second wait time\n",
      "429\n",
      "try 10 second wait time\n",
      "429\n",
      "try 10 second wait time\n",
      "429\n",
      "try 10 second wait time\n",
      "429\n",
      "try 10 second wait time\n",
      "429\n",
      "try 10 second wait time\n",
      "429\n",
      "try 10 second wait time\n",
      "429\n",
      "try 10 second wait time\n",
      "429\n",
      "try 10 second wait time\n",
      "429\n",
      "try 10 second wait time\n",
      "200\n",
      "total wait time :  114.21422004699707\n",
      "recovery api cost\n"
     ]
    },
    {
     "name": "stderr",
     "output_type": "stream",
     "text": [
      "\r",
      "  6%|█▊                             | 591/10000 [13:36:00<298:23:19, 114.17s/it]"
     ]
    },
    {
     "name": "stdout",
     "output_type": "stream",
     "text": [
      "KR_5733883480의 데이터 수집을 시작합니다.\n",
      "api cost full : infinite loop start\n",
      "try 10 second wait time\n",
      "429\n",
      "try 10 second wait time\n",
      "429\n",
      "try 10 second wait time\n",
      "429\n",
      "try 10 second wait time\n",
      "429\n",
      "try 10 second wait time\n",
      "429\n",
      "try 10 second wait time\n",
      "429\n",
      "try 10 second wait time\n",
      "429\n",
      "try 10 second wait time\n",
      "429\n",
      "try 10 second wait time\n",
      "429\n",
      "try 10 second wait time\n",
      "200\n",
      "total wait time :  102.69734692573547\n",
      "recovery api cost\n",
      "api cost full : infinite loop start\n",
      "try 10 second wait time\n",
      "429\n",
      "try 10 second wait time\n",
      "429\n",
      "try 10 second wait time\n",
      "429\n",
      "try 10 second wait time\n",
      "429\n",
      "try 10 second wait time\n",
      "429\n",
      "try 10 second wait time\n",
      "429\n",
      "try 10 second wait time\n",
      "429\n",
      "try 10 second wait time\n",
      "429\n",
      "try 10 second wait time\n",
      "429\n",
      "try 10 second wait time\n",
      "429\n",
      "try 10 second wait time\n",
      "200\n",
      "total wait time :  113.646240234375\n",
      "recovery api cost\n"
     ]
    },
    {
     "name": "stderr",
     "output_type": "stream",
     "text": [
      "\r",
      "  6%|█▊                             | 592/10000 [13:39:54<392:41:49, 150.27s/it]"
     ]
    },
    {
     "name": "stdout",
     "output_type": "stream",
     "text": [
      "KR_5733883480의 데이터 수집이 완료되었습니다\n",
      "KR_5733885101의 데이터 수집을 시작합니다.\n"
     ]
    },
    {
     "name": "stderr",
     "output_type": "stream",
     "text": [
      "\r",
      "  6%|█▊                             | 593/10000 [13:40:07<284:43:59, 108.97s/it]"
     ]
    },
    {
     "name": "stdout",
     "output_type": "stream",
     "text": [
      "KR_5733885319의 데이터 수집을 시작합니다.\n",
      "api cost full : infinite loop start\n",
      "try 10 second wait time\n",
      "429\n",
      "try 10 second wait time\n",
      "429\n",
      "try 10 second wait time\n",
      "429\n",
      "try 10 second wait time\n",
      "429\n",
      "try 10 second wait time\n",
      "429\n",
      "try 10 second wait time\n",
      "429\n",
      "try 10 second wait time\n",
      "429\n",
      "try 10 second wait time\n",
      "429\n",
      "try 10 second wait time\n",
      "429\n",
      "try 10 second wait time\n",
      "429\n",
      "try 10 second wait time\n",
      "200\n",
      "total wait time :  112.91530919075012\n",
      "recovery api cost\n"
     ]
    },
    {
     "name": "stderr",
     "output_type": "stream",
     "text": [
      "\r",
      "  6%|█▊                             | 594/10000 [13:42:07<293:19:28, 112.27s/it]"
     ]
    },
    {
     "name": "stdout",
     "output_type": "stream",
     "text": [
      "KR_5733887435의 데이터 수집을 시작합니다.\n",
      "api cost full : infinite loop start\n",
      "try 10 second wait time\n",
      "429\n",
      "try 10 second wait time\n",
      "429\n",
      "try 10 second wait time\n",
      "429\n",
      "try 10 second wait time\n",
      "429\n",
      "try 10 second wait time\n",
      "429\n",
      "try 10 second wait time\n",
      "429\n",
      "try 10 second wait time\n",
      "429\n",
      "try 10 second wait time\n",
      "429\n",
      "try 10 second wait time\n",
      "429\n",
      "try 10 second wait time\n",
      "429\n",
      "try 10 second wait time\n",
      "200\n",
      "total wait time :  113.3247299194336\n",
      "recovery api cost\n",
      "api cost full : infinite loop start\n",
      "try 10 second wait time\n",
      "429\n",
      "try 10 second wait time\n",
      "429\n",
      "try 10 second wait time\n",
      "429\n",
      "try 10 second wait time\n",
      "429\n",
      "try 10 second wait time\n",
      "429\n",
      "try 10 second wait time\n",
      "429\n",
      "try 10 second wait time\n",
      "429\n",
      "try 10 second wait time\n",
      "429\n",
      "try 10 second wait time\n",
      "429\n",
      "try 10 second wait time\n",
      "429\n",
      "try 10 second wait time\n",
      "200\n",
      "total wait time :  113.43220400810242\n",
      "recovery api cost\n"
     ]
    },
    {
     "name": "stderr",
     "output_type": "stream",
     "text": [
      "\r",
      "  6%|█▊                             | 595/10000 [13:46:08<393:59:03, 150.81s/it]"
     ]
    },
    {
     "name": "stdout",
     "output_type": "stream",
     "text": [
      "KR_5733887435의 데이터 수집이 완료되었습니다\n",
      "KR_5733887543의 데이터 수집을 시작합니다.\n"
     ]
    },
    {
     "name": "stderr",
     "output_type": "stream",
     "text": [
      "\r",
      "  6%|█▊                             | 596/10000 [13:46:18<283:36:02, 108.57s/it]"
     ]
    },
    {
     "name": "stdout",
     "output_type": "stream",
     "text": [
      "KR_5733887746의 데이터 수집을 시작합니다.\n",
      "api cost full : infinite loop start\n",
      "try 10 second wait time\n",
      "429\n",
      "try 10 second wait time\n",
      "429\n",
      "try 10 second wait time\n",
      "429\n",
      "try 10 second wait time\n",
      "429\n",
      "try 10 second wait time\n",
      "429\n",
      "try 10 second wait time\n",
      "429\n",
      "try 10 second wait time\n",
      "429\n",
      "try 10 second wait time\n",
      "429\n",
      "try 10 second wait time\n",
      "429\n",
      "try 10 second wait time\n",
      "429\n",
      "try 10 second wait time\n",
      "200\n",
      "total wait time :  113.29037404060364\n",
      "recovery api cost\n"
     ]
    },
    {
     "name": "stderr",
     "output_type": "stream",
     "text": [
      "\r",
      "  6%|█▊                             | 597/10000 [13:48:25<298:18:58, 114.21s/it]"
     ]
    },
    {
     "name": "stdout",
     "output_type": "stream",
     "text": [
      "KR_5733888267의 데이터 수집을 시작합니다.\n",
      "api cost full : infinite loop start\n",
      "try 10 second wait time\n",
      "429\n",
      "try 10 second wait time\n",
      "429\n",
      "try 10 second wait time\n",
      "429\n",
      "try 10 second wait time\n",
      "429\n",
      "try 10 second wait time\n",
      "429\n",
      "try 10 second wait time\n",
      "429\n",
      "try 10 second wait time\n",
      "429\n",
      "try 10 second wait time\n",
      "429\n",
      "try 10 second wait time\n",
      "429\n",
      "try 10 second wait time\n",
      "429\n",
      "try 10 second wait time\n",
      "200\n",
      "total wait time :  113.28854990005493\n",
      "recovery api cost\n",
      "api cost full : infinite loop start\n",
      "try 10 second wait time\n",
      "429\n",
      "try 10 second wait time\n",
      "429\n",
      "try 10 second wait time\n",
      "429\n",
      "try 10 second wait time\n",
      "429\n",
      "try 10 second wait time\n",
      "429\n",
      "try 10 second wait time\n",
      "429\n",
      "try 10 second wait time\n",
      "429\n",
      "try 10 second wait time\n",
      "429\n",
      "try 10 second wait time\n",
      "429\n",
      "try 10 second wait time\n",
      "429\n",
      "try 10 second wait time\n",
      "200\n",
      "total wait time :  112.97648000717163\n",
      "recovery api cost\n"
     ]
    },
    {
     "name": "stderr",
     "output_type": "stream",
     "text": [
      "\r",
      "  6%|█▊                             | 598/10000 [13:52:25<397:04:43, 152.04s/it]"
     ]
    },
    {
     "name": "stdout",
     "output_type": "stream",
     "text": [
      "KR_5733888267의 데이터 수집이 완료되었습니다\n",
      "KR_5733888399의 데이터 수집을 시작합니다.\n"
     ]
    },
    {
     "name": "stderr",
     "output_type": "stream",
     "text": [
      "\r",
      "  6%|█▊                             | 599/10000 [13:52:36<286:35:20, 109.75s/it]"
     ]
    },
    {
     "name": "stdout",
     "output_type": "stream",
     "text": [
      "KR_5733889015의 데이터 수집을 시작합니다.\n",
      "api cost full : infinite loop start\n",
      "try 10 second wait time\n",
      "429\n",
      "try 10 second wait time\n",
      "429\n",
      "try 10 second wait time\n",
      "429\n",
      "try 10 second wait time\n",
      "429\n",
      "try 10 second wait time\n",
      "429\n",
      "try 10 second wait time\n",
      "429\n",
      "try 10 second wait time\n",
      "429\n",
      "try 10 second wait time\n",
      "429\n",
      "try 10 second wait time\n",
      "429\n",
      "try 10 second wait time\n",
      "429\n",
      "try 10 second wait time\n",
      "200\n",
      "total wait time :  112.87136578559875\n",
      "recovery api cost\n",
      "api cost full : infinite loop start\n",
      "try 10 second wait time\n",
      "429\n",
      "try 10 second wait time\n",
      "429\n",
      "try 10 second wait time\n",
      "429\n",
      "try 10 second wait time\n",
      "429\n",
      "try 10 second wait time\n",
      "429\n",
      "try 10 second wait time\n",
      "429\n",
      "try 10 second wait time\n",
      "429\n",
      "try 10 second wait time\n",
      "429\n",
      "try 10 second wait time\n",
      "429\n",
      "try 10 second wait time\n",
      "429\n",
      "try 10 second wait time\n",
      "200\n",
      "total wait time :  112.80850410461426\n",
      "recovery api cost\n"
     ]
    },
    {
     "name": "stderr",
     "output_type": "stream",
     "text": [
      "\r",
      "  6%|█▊                             | 600/10000 [13:56:36<387:51:32, 148.54s/it]"
     ]
    },
    {
     "name": "stdout",
     "output_type": "stream",
     "text": [
      "KR_5733889015의 데이터 수집이 완료되었습니다\n",
      "KR_5733889232의 데이터 수집을 시작합니다.\n",
      "api cost full : infinite loop start\n",
      "try 10 second wait time\n",
      "429\n",
      "try 10 second wait time\n",
      "429\n",
      "try 10 second wait time\n",
      "429\n",
      "try 10 second wait time\n",
      "429\n",
      "try 10 second wait time\n",
      "429\n",
      "try 10 second wait time\n",
      "429\n",
      "try 10 second wait time\n",
      "429\n",
      "try 10 second wait time\n",
      "429\n",
      "try 10 second wait time\n",
      "429\n",
      "try 10 second wait time\n",
      "429\n",
      "try 10 second wait time\n",
      "200\n",
      "total wait time :  113.30919599533081\n",
      "recovery api cost\n"
     ]
    },
    {
     "name": "stderr",
     "output_type": "stream",
     "text": [
      "\r",
      "  6%|█▊                             | 601/10000 [13:58:44<371:52:49, 142.44s/it]"
     ]
    },
    {
     "name": "stdout",
     "output_type": "stream",
     "text": [
      "KR_5733889232의 데이터 수집이 완료되었습니다\n",
      "KR_5733889729의 데이터 수집을 시작합니다.\n",
      "api cost full : infinite loop start\n",
      "try 10 second wait time\n",
      "429\n",
      "try 10 second wait time\n",
      "429\n",
      "try 10 second wait time\n",
      "429\n",
      "try 10 second wait time\n",
      "429\n",
      "try 10 second wait time\n",
      "429\n",
      "try 10 second wait time\n",
      "429\n",
      "try 10 second wait time\n",
      "429\n",
      "try 10 second wait time\n",
      "429\n",
      "try 10 second wait time\n",
      "429\n",
      "try 10 second wait time\n",
      "429\n",
      "try 10 second wait time\n",
      "200\n",
      "total wait time :  114.31737279891968\n",
      "recovery api cost\n"
     ]
    },
    {
     "name": "stderr",
     "output_type": "stream",
     "text": [
      "\r",
      "  6%|█▊                             | 602/10000 [14:00:53<361:33:02, 138.50s/it]"
     ]
    },
    {
     "name": "stdout",
     "output_type": "stream",
     "text": [
      "KR_5733889729의 데이터 수집이 완료되었습니다\n",
      "KR_5733890735의 데이터 수집을 시작합니다.\n"
     ]
    },
    {
     "name": "stderr",
     "output_type": "stream",
     "text": [
      "\r",
      "  6%|█▉                              | 603/10000 [14:00:57<256:19:27, 98.20s/it]"
     ]
    },
    {
     "name": "stdout",
     "output_type": "stream",
     "text": [
      "KR_5733890813의 데이터 수집을 시작합니다.\n",
      "api cost full : infinite loop start\n",
      "try 10 second wait time\n",
      "429\n",
      "try 10 second wait time\n",
      "429\n",
      "try 10 second wait time\n",
      "429\n",
      "try 10 second wait time\n",
      "429\n",
      "try 10 second wait time\n",
      "429\n",
      "try 10 second wait time\n",
      "429\n",
      "try 10 second wait time\n",
      "429\n",
      "try 10 second wait time\n",
      "429\n",
      "try 10 second wait time\n",
      "429\n",
      "try 10 second wait time\n",
      "429\n",
      "try 10 second wait time\n",
      "200\n",
      "total wait time :  114.32827687263489\n",
      "recovery api cost\n"
     ]
    },
    {
     "name": "stderr",
     "output_type": "stream",
     "text": [
      "\r",
      "  6%|█▊                             | 604/10000 [14:03:03<277:33:41, 106.35s/it]"
     ]
    },
    {
     "name": "stdout",
     "output_type": "stream",
     "text": [
      "KR_5733893095의 데이터 수집을 시작합니다.\n",
      "api cost full : infinite loop start\n",
      "try 10 second wait time\n",
      "429\n",
      "try 10 second wait time\n",
      "429\n",
      "try 10 second wait time\n",
      "429\n",
      "try 10 second wait time\n",
      "429\n",
      "try 10 second wait time\n",
      "429\n",
      "try 10 second wait time\n",
      "429\n",
      "try 10 second wait time\n",
      "429\n",
      "try 10 second wait time\n",
      "429\n",
      "try 10 second wait time\n",
      "429\n",
      "try 10 second wait time\n",
      "429\n",
      "try 10 second wait time\n",
      "200\n",
      "total wait time :  113.40071415901184\n",
      "recovery api cost\n"
     ]
    },
    {
     "name": "stderr",
     "output_type": "stream",
     "text": [
      "\r",
      "  6%|█▉                             | 605/10000 [14:05:09<293:05:32, 112.31s/it]"
     ]
    },
    {
     "name": "stdout",
     "output_type": "stream",
     "text": [
      "KR_5733893326의 데이터 수집을 시작합니다.\n",
      "api cost full : infinite loop start\n",
      "try 10 second wait time\n",
      "429\n",
      "try 10 second wait time\n",
      "429\n",
      "try 10 second wait time\n",
      "429\n",
      "try 10 second wait time\n",
      "429\n",
      "try 10 second wait time\n",
      "429\n",
      "try 10 second wait time\n",
      "429\n",
      "try 10 second wait time\n",
      "429\n",
      "try 10 second wait time\n",
      "429\n",
      "try 10 second wait time\n",
      "429\n",
      "try 10 second wait time\n",
      "429\n",
      "try 10 second wait time\n",
      "200\n",
      "total wait time :  113.41101908683777\n",
      "recovery api cost\n"
     ]
    },
    {
     "name": "stderr",
     "output_type": "stream",
     "text": [
      "\r",
      "  6%|█▉                             | 606/10000 [14:07:15<303:36:22, 116.35s/it]"
     ]
    },
    {
     "name": "stdout",
     "output_type": "stream",
     "text": [
      "KR_5733893913의 데이터 수집을 시작합니다.\n",
      "api cost full : infinite loop start\n",
      "try 10 second wait time\n",
      "429\n",
      "try 10 second wait time\n",
      "429\n",
      "try 10 second wait time\n",
      "429\n",
      "try 10 second wait time\n",
      "429\n",
      "try 10 second wait time\n",
      "429\n",
      "try 10 second wait time\n",
      "429\n",
      "try 10 second wait time\n",
      "429\n",
      "try 10 second wait time\n",
      "429\n",
      "try 10 second wait time\n",
      "429\n",
      "try 10 second wait time\n",
      "429\n",
      "try 10 second wait time\n",
      "200\n",
      "total wait time :  114.1203408241272\n",
      "recovery api cost\n",
      "api cost full : infinite loop start\n",
      "try 10 second wait time\n",
      "429\n",
      "try 10 second wait time\n",
      "429\n",
      "try 10 second wait time\n",
      "429\n",
      "try 10 second wait time\n",
      "429\n",
      "try 10 second wait time\n",
      "429\n",
      "try 10 second wait time\n",
      "429\n",
      "try 10 second wait time\n",
      "429\n",
      "try 10 second wait time\n",
      "429\n",
      "try 10 second wait time\n",
      "429\n",
      "try 10 second wait time\n",
      "429\n",
      "try 10 second wait time\n",
      "200\n",
      "total wait time :  113.02145576477051\n",
      "recovery api cost\n"
     ]
    },
    {
     "name": "stderr",
     "output_type": "stream",
     "text": [
      "\r",
      "  6%|█▉                             | 607/10000 [14:11:16<401:20:10, 153.82s/it]"
     ]
    },
    {
     "name": "stdout",
     "output_type": "stream",
     "text": [
      "KR_5733893913의 데이터 수집이 완료되었습니다\n",
      "KR_5733894726의 데이터 수집을 시작합니다.\n"
     ]
    },
    {
     "name": "stderr",
     "output_type": "stream",
     "text": [
      "\r",
      "  6%|█▉                             | 608/10000 [14:11:26<288:53:35, 110.73s/it]"
     ]
    },
    {
     "name": "stdout",
     "output_type": "stream",
     "text": [
      "KR_5733895653의 데이터 수집을 시작합니다.\n",
      "api cost full : infinite loop start\n",
      "try 10 second wait time\n",
      "429\n",
      "try 10 second wait time\n",
      "429\n",
      "try 10 second wait time\n",
      "429\n",
      "try 10 second wait time\n",
      "429\n",
      "try 10 second wait time\n",
      "429\n",
      "try 10 second wait time\n",
      "429\n",
      "try 10 second wait time\n",
      "429\n",
      "try 10 second wait time\n",
      "429\n",
      "try 10 second wait time\n",
      "429\n",
      "try 10 second wait time\n",
      "429\n",
      "try 10 second wait time\n",
      "200\n",
      "total wait time :  113.1389799118042\n",
      "recovery api cost\n"
     ]
    },
    {
     "name": "stderr",
     "output_type": "stream",
     "text": [
      "\r",
      "  6%|█▉                             | 609/10000 [14:13:31<300:00:46, 115.01s/it]"
     ]
    },
    {
     "name": "stdout",
     "output_type": "stream",
     "text": [
      "KR_5733896434의 데이터 수집을 시작합니다.\n",
      "api cost full : infinite loop start\n",
      "try 10 second wait time\n",
      "429\n",
      "try 10 second wait time\n",
      "429\n",
      "try 10 second wait time\n",
      "429\n",
      "try 10 second wait time\n",
      "429\n",
      "try 10 second wait time\n",
      "429\n",
      "try 10 second wait time\n",
      "429\n",
      "try 10 second wait time\n",
      "429\n",
      "try 10 second wait time\n",
      "429\n",
      "try 10 second wait time\n",
      "429\n",
      "try 10 second wait time\n",
      "429\n",
      "try 10 second wait time\n",
      "200\n",
      "total wait time :  113.93851518630981\n",
      "recovery api cost\n"
     ]
    },
    {
     "name": "stderr",
     "output_type": "stream",
     "text": [
      "\r",
      "  6%|█▉                             | 610/10000 [14:15:37<308:32:58, 118.29s/it]"
     ]
    },
    {
     "name": "stdout",
     "output_type": "stream",
     "text": [
      "KR_5733897275의 데이터 수집을 시작합니다.\n",
      "api cost full : infinite loop start\n",
      "try 10 second wait time\n",
      "429\n",
      "try 10 second wait time\n",
      "429\n",
      "try 10 second wait time\n",
      "429\n",
      "try 10 second wait time\n",
      "429\n",
      "try 10 second wait time\n",
      "429\n",
      "try 10 second wait time\n",
      "429\n",
      "try 10 second wait time\n",
      "429\n",
      "try 10 second wait time\n",
      "429\n",
      "try 10 second wait time\n",
      "429\n",
      "try 10 second wait time\n",
      "429\n",
      "try 10 second wait time\n",
      "200\n",
      "total wait time :  113.35545682907104\n",
      "recovery api cost\n",
      "api cost full : infinite loop start\n",
      "try 10 second wait time\n",
      "429\n",
      "try 10 second wait time\n",
      "429\n",
      "try 10 second wait time\n",
      "429\n",
      "try 10 second wait time\n",
      "429\n",
      "try 10 second wait time\n",
      "429\n",
      "try 10 second wait time\n",
      "429\n",
      "try 10 second wait time\n",
      "429\n",
      "try 10 second wait time\n",
      "429\n",
      "try 10 second wait time\n",
      "429\n",
      "try 10 second wait time\n",
      "429\n",
      "try 10 second wait time\n",
      "200\n",
      "total wait time :  113.10181975364685\n",
      "recovery api cost\n"
     ]
    },
    {
     "name": "stderr",
     "output_type": "stream",
     "text": [
      "\r",
      "  6%|█▉                             | 611/10000 [14:19:39<405:40:50, 155.55s/it]"
     ]
    },
    {
     "name": "stdout",
     "output_type": "stream",
     "text": [
      "KR_5733897275의 데이터 수집이 완료되었습니다\n",
      "KR_5733897511의 데이터 수집을 시작합니다.\n"
     ]
    },
    {
     "name": "stderr",
     "output_type": "stream",
     "text": [
      "\r",
      "  6%|█▉                             | 612/10000 [14:19:50<292:08:51, 112.03s/it]"
     ]
    },
    {
     "name": "stdout",
     "output_type": "stream",
     "text": [
      "KR_5733899221의 데이터 수집을 시작합니다.\n",
      "api cost full : infinite loop start\n",
      "try 10 second wait time\n",
      "429\n",
      "try 10 second wait time\n",
      "429\n",
      "try 10 second wait time\n",
      "429\n",
      "try 10 second wait time\n",
      "429\n",
      "try 10 second wait time\n",
      "429\n",
      "try 10 second wait time\n",
      "429\n",
      "try 10 second wait time\n",
      "429\n",
      "try 10 second wait time\n",
      "429\n",
      "try 10 second wait time\n",
      "429\n",
      "try 10 second wait time\n",
      "429\n",
      "try 10 second wait time\n",
      "200\n",
      "total wait time :  113.56898283958435\n",
      "recovery api cost\n",
      "api cost full : infinite loop start\n",
      "try 10 second wait time\n",
      "429\n",
      "try 10 second wait time\n",
      "429\n",
      "try 10 second wait time\n",
      "429\n",
      "try 10 second wait time\n",
      "429\n",
      "try 10 second wait time\n",
      "429\n",
      "try 10 second wait time\n",
      "429\n",
      "try 10 second wait time\n",
      "429\n",
      "try 10 second wait time\n",
      "429\n",
      "try 10 second wait time\n",
      "429\n",
      "try 10 second wait time\n",
      "429\n",
      "try 10 second wait time\n",
      "200\n",
      "total wait time :  113.62655711174011\n",
      "recovery api cost\n"
     ]
    },
    {
     "name": "stderr",
     "output_type": "stream",
     "text": [
      "\r",
      "  6%|█▉                             | 613/10000 [14:23:52<394:09:26, 151.16s/it]"
     ]
    },
    {
     "name": "stdout",
     "output_type": "stream",
     "text": [
      "KR_5733899221의 데이터 수집이 완료되었습니다\n",
      "KR_5733899401의 데이터 수집을 시작합니다.\n",
      "api cost full : infinite loop start\n",
      "try 10 second wait time\n",
      "429\n",
      "try 10 second wait time\n",
      "429\n",
      "try 10 second wait time\n",
      "429\n",
      "try 10 second wait time\n",
      "429\n",
      "try 10 second wait time\n",
      "429\n",
      "try 10 second wait time\n",
      "429\n",
      "try 10 second wait time\n",
      "429\n",
      "try 10 second wait time\n",
      "429\n",
      "try 10 second wait time\n",
      "429\n",
      "try 10 second wait time\n",
      "429\n",
      "try 10 second wait time\n",
      "200\n",
      "total wait time :  113.51261687278748\n",
      "recovery api cost\n"
     ]
    },
    {
     "name": "stderr",
     "output_type": "stream",
     "text": [
      "\r",
      "  6%|█▉                             | 614/10000 [14:26:00<375:31:37, 144.03s/it]"
     ]
    },
    {
     "name": "stdout",
     "output_type": "stream",
     "text": [
      "KR_5733899401의 데이터 수집이 완료되었습니다\n",
      "KR_5733899850의 데이터 수집을 시작합니다.\n",
      "api cost full : infinite loop start\n",
      "try 10 second wait time\n",
      "429\n",
      "try 10 second wait time\n",
      "429\n",
      "try 10 second wait time\n",
      "429\n",
      "try 10 second wait time\n",
      "429\n",
      "try 10 second wait time\n",
      "429\n",
      "try 10 second wait time\n",
      "429\n",
      "try 10 second wait time\n",
      "429\n",
      "try 10 second wait time\n",
      "429\n",
      "try 10 second wait time\n",
      "429\n",
      "try 10 second wait time\n",
      "429\n",
      "try 10 second wait time\n",
      "200\n",
      "total wait time :  113.106271982193\n",
      "recovery api cost\n"
     ]
    },
    {
     "name": "stderr",
     "output_type": "stream",
     "text": [
      "\r",
      "  6%|█▉                             | 615/10000 [14:28:07<362:18:07, 138.98s/it]"
     ]
    },
    {
     "name": "stdout",
     "output_type": "stream",
     "text": [
      "KR_5733899850의 데이터 수집이 완료되었습니다\n",
      "KR_5733899972의 데이터 수집을 시작합니다.\n",
      "api cost full : infinite loop start\n",
      "try 10 second wait time\n",
      "429\n",
      "try 10 second wait time\n",
      "429\n",
      "try 10 second wait time\n",
      "429\n",
      "try 10 second wait time\n",
      "429\n",
      "try 10 second wait time\n",
      "429\n",
      "try 10 second wait time\n",
      "429\n",
      "try 10 second wait time\n",
      "429\n",
      "try 10 second wait time\n",
      "429\n",
      "try 10 second wait time\n",
      "429\n",
      "try 10 second wait time\n",
      "429\n",
      "try 10 second wait time\n",
      "200\n",
      "total wait time :  112.9428973197937\n",
      "recovery api cost\n"
     ]
    },
    {
     "name": "stderr",
     "output_type": "stream",
     "text": [
      "\r",
      "  6%|█▉                             | 616/10000 [14:30:15<353:44:10, 135.70s/it]"
     ]
    },
    {
     "name": "stdout",
     "output_type": "stream",
     "text": [
      "KR_5733899972의 데이터 수집이 완료되었습니다\n",
      "KR_5733900064의 데이터 수집을 시작합니다.\n"
     ]
    },
    {
     "name": "stderr",
     "output_type": "stream",
     "text": [
      "\r",
      "  6%|█▉                              | 617/10000 [14:30:17<249:29:41, 95.72s/it]"
     ]
    },
    {
     "name": "stdout",
     "output_type": "stream",
     "text": [
      "KR_5733900086의 데이터 수집을 시작합니다.\n",
      "api cost full : infinite loop start\n",
      "try 10 second wait time\n",
      "429\n",
      "try 10 second wait time\n",
      "429\n",
      "try 10 second wait time\n",
      "429\n",
      "try 10 second wait time\n",
      "429\n",
      "try 10 second wait time\n",
      "429\n",
      "try 10 second wait time\n",
      "429\n",
      "try 10 second wait time\n",
      "429\n",
      "try 10 second wait time\n",
      "429\n",
      "try 10 second wait time\n",
      "429\n",
      "try 10 second wait time\n",
      "429\n",
      "try 10 second wait time\n",
      "200\n",
      "total wait time :  113.6901159286499\n",
      "recovery api cost\n"
     ]
    },
    {
     "name": "stderr",
     "output_type": "stream",
     "text": [
      "\r",
      "  6%|█▉                             | 618/10000 [14:32:24<273:32:58, 104.96s/it]"
     ]
    },
    {
     "name": "stdout",
     "output_type": "stream",
     "text": [
      "KR_5733900199의 데이터 수집을 시작합니다.\n",
      "api cost full : infinite loop start\n",
      "try 10 second wait time\n",
      "429\n",
      "try 10 second wait time\n",
      "429\n",
      "try 10 second wait time\n",
      "429\n",
      "try 10 second wait time\n",
      "429\n",
      "try 10 second wait time\n",
      "429\n",
      "try 10 second wait time\n",
      "429\n",
      "try 10 second wait time\n",
      "429\n",
      "try 10 second wait time\n",
      "429\n",
      "try 10 second wait time\n",
      "429\n",
      "try 10 second wait time\n",
      "429\n",
      "try 10 second wait time\n",
      "200\n",
      "total wait time :  112.89563202857971\n",
      "recovery api cost\n",
      "api cost full : infinite loop start\n",
      "try 10 second wait time\n",
      "429\n",
      "try 10 second wait time\n",
      "429\n",
      "try 10 second wait time\n",
      "429\n",
      "try 10 second wait time\n",
      "429\n",
      "try 10 second wait time\n",
      "429\n",
      "try 10 second wait time\n",
      "429\n",
      "try 10 second wait time\n",
      "429\n",
      "try 10 second wait time\n",
      "429\n",
      "try 10 second wait time\n",
      "429\n",
      "try 10 second wait time\n",
      "429\n",
      "try 10 second wait time\n",
      "200\n",
      "total wait time :  113.21930313110352\n",
      "recovery api cost\n"
     ]
    },
    {
     "name": "stderr",
     "output_type": "stream",
     "text": [
      "\r",
      "  6%|█▉                             | 619/10000 [14:36:24<379:21:08, 145.58s/it]"
     ]
    },
    {
     "name": "stdout",
     "output_type": "stream",
     "text": [
      "KR_5733900199의 데이터 수집이 완료되었습니다\n",
      "KR_5733902815의 데이터 수집을 시작합니다.\n",
      "api cost full : infinite loop start\n",
      "try 10 second wait time\n",
      "429\n",
      "try 10 second wait time\n",
      "429\n",
      "try 10 second wait time\n",
      "429\n",
      "try 10 second wait time\n",
      "429\n",
      "try 10 second wait time\n",
      "429\n",
      "try 10 second wait time\n",
      "429\n",
      "try 10 second wait time\n",
      "429\n",
      "try 10 second wait time\n",
      "429\n",
      "try 10 second wait time\n",
      "429\n",
      "try 10 second wait time\n",
      "429\n",
      "try 10 second wait time\n",
      "200\n",
      "total wait time :  113.3771300315857\n",
      "recovery api cost\n"
     ]
    },
    {
     "name": "stderr",
     "output_type": "stream",
     "text": [
      "\r",
      "  6%|█▉                             | 620/10000 [14:38:32<365:31:42, 140.29s/it]"
     ]
    },
    {
     "name": "stdout",
     "output_type": "stream",
     "text": [
      "KR_5733902815의 데이터 수집이 완료되었습니다\n",
      "KR_5733903691의 데이터 수집을 시작합니다.\n"
     ]
    },
    {
     "name": "stderr",
     "output_type": "stream",
     "text": [
      "\r",
      "  6%|█▉                             | 621/10000 [14:38:40<261:53:44, 100.53s/it]"
     ]
    },
    {
     "name": "stdout",
     "output_type": "stream",
     "text": [
      "KR_5733904264의 데이터 수집을 시작합니다.\n",
      "api cost full : infinite loop start\n",
      "try 10 second wait time\n",
      "429\n",
      "try 10 second wait time\n",
      "429\n",
      "try 10 second wait time\n",
      "429\n",
      "try 10 second wait time\n",
      "429\n",
      "try 10 second wait time\n",
      "429\n",
      "try 10 second wait time\n",
      "429\n",
      "try 10 second wait time\n",
      "429\n",
      "try 10 second wait time\n",
      "429\n",
      "try 10 second wait time\n",
      "429\n",
      "try 10 second wait time\n",
      "429\n",
      "try 10 second wait time\n",
      "200\n",
      "total wait time :  113.28566908836365\n",
      "recovery api cost\n",
      "api cost full : infinite loop start\n",
      "try 10 second wait time\n",
      "429\n",
      "try 10 second wait time\n",
      "429\n",
      "try 10 second wait time\n",
      "429\n",
      "try 10 second wait time\n",
      "429\n",
      "try 10 second wait time\n",
      "429\n",
      "try 10 second wait time\n",
      "429\n",
      "try 10 second wait time\n",
      "429\n",
      "try 10 second wait time\n",
      "429\n",
      "try 10 second wait time\n",
      "429\n",
      "try 10 second wait time\n",
      "429\n",
      "try 10 second wait time\n",
      "200\n",
      "total wait time :  113.54323101043701\n",
      "recovery api cost\n"
     ]
    },
    {
     "name": "stderr",
     "output_type": "stream",
     "text": [
      "\r",
      "  6%|█▉                             | 622/10000 [14:42:41<371:44:01, 142.70s/it]"
     ]
    },
    {
     "name": "stdout",
     "output_type": "stream",
     "text": [
      "KR_5733904264의 데이터 수집이 완료되었습니다\n",
      "KR_5733904322의 데이터 수집을 시작합니다.\n"
     ]
    },
    {
     "name": "stderr",
     "output_type": "stream",
     "text": [
      "\r",
      "  6%|█▉                             | 623/10000 [14:42:50<267:20:11, 102.64s/it]"
     ]
    },
    {
     "name": "stdout",
     "output_type": "stream",
     "text": [
      "KR_5733904351의 데이터 수집을 시작합니다.\n",
      "api cost full : infinite loop start\n",
      "try 10 second wait time\n",
      "429\n",
      "try 10 second wait time\n",
      "429\n",
      "try 10 second wait time\n",
      "429\n",
      "try 10 second wait time\n",
      "429\n",
      "try 10 second wait time\n",
      "429\n",
      "try 10 second wait time\n",
      "429\n",
      "try 10 second wait time\n",
      "429\n",
      "try 10 second wait time\n",
      "429\n",
      "try 10 second wait time\n",
      "429\n",
      "try 10 second wait time\n",
      "429\n",
      "try 10 second wait time\n",
      "200\n",
      "total wait time :  113.28256893157959\n",
      "recovery api cost\n"
     ]
    },
    {
     "name": "stderr",
     "output_type": "stream",
     "text": [
      "\r",
      "  6%|█▉                             | 624/10000 [14:44:56<284:56:51, 109.41s/it]"
     ]
    },
    {
     "name": "stdout",
     "output_type": "stream",
     "text": [
      "KR_5733906075의 데이터 수집을 시작합니다.\n",
      "api cost full : infinite loop start\n",
      "try 10 second wait time\n",
      "429\n",
      "try 10 second wait time\n",
      "429\n",
      "try 10 second wait time\n",
      "429\n",
      "try 10 second wait time\n",
      "429\n",
      "try 10 second wait time\n",
      "429\n",
      "try 10 second wait time\n",
      "429\n",
      "try 10 second wait time\n",
      "429\n",
      "try 10 second wait time\n",
      "429\n",
      "try 10 second wait time\n",
      "429\n",
      "try 10 second wait time\n",
      "429\n",
      "try 10 second wait time\n",
      "200\n",
      "total wait time :  113.2587239742279\n",
      "recovery api cost\n",
      "api cost full : infinite loop start\n",
      "try 10 second wait time\n",
      "429\n",
      "try 10 second wait time\n",
      "429\n",
      "try 10 second wait time\n",
      "429\n",
      "try 10 second wait time\n",
      "429\n",
      "try 10 second wait time\n",
      "429\n",
      "try 10 second wait time\n",
      "429\n",
      "try 10 second wait time\n",
      "429\n",
      "try 10 second wait time\n",
      "429\n",
      "try 10 second wait time\n",
      "429\n",
      "try 10 second wait time\n",
      "429\n",
      "try 10 second wait time\n",
      "200\n",
      "total wait time :  113.11937499046326\n",
      "recovery api cost\n"
     ]
    },
    {
     "name": "stderr",
     "output_type": "stream",
     "text": [
      "\r",
      "  6%|█▉                             | 625/10000 [14:48:57<388:27:36, 149.17s/it]"
     ]
    },
    {
     "name": "stdout",
     "output_type": "stream",
     "text": [
      "KR_5733906075의 데이터 수집이 완료되었습니다\n",
      "KR_5733907930의 데이터 수집을 시작합니다.\n",
      "api cost full : infinite loop start\n",
      "try 10 second wait time\n",
      "429\n",
      "try 10 second wait time\n",
      "429\n",
      "try 10 second wait time\n",
      "429\n",
      "try 10 second wait time\n",
      "429\n",
      "try 10 second wait time\n",
      "429\n",
      "try 10 second wait time\n",
      "429\n",
      "try 10 second wait time\n",
      "429\n",
      "try 10 second wait time\n",
      "429\n",
      "try 10 second wait time\n",
      "429\n",
      "try 10 second wait time\n",
      "429\n",
      "try 10 second wait time\n",
      "200\n",
      "total wait time :  113.12804508209229\n",
      "recovery api cost\n"
     ]
    },
    {
     "name": "stderr",
     "output_type": "stream",
     "text": [
      "\r",
      "  6%|█▉                             | 626/10000 [14:51:05<371:53:44, 142.82s/it]"
     ]
    },
    {
     "name": "stdout",
     "output_type": "stream",
     "text": [
      "KR_5733907930의 데이터 수집이 완료되었습니다\n",
      "KR_5733908088의 데이터 수집을 시작합니다.\n"
     ]
    },
    {
     "name": "stderr",
     "output_type": "stream",
     "text": [
      "\r",
      "  6%|█▉                             | 627/10000 [14:51:12<265:27:38, 101.96s/it]"
     ]
    },
    {
     "name": "stdout",
     "output_type": "stream",
     "text": [
      "KR_5733908602의 데이터 수집을 시작합니다.\n",
      "api cost full : infinite loop start\n",
      "try 10 second wait time\n",
      "429\n",
      "try 10 second wait time\n",
      "429\n",
      "try 10 second wait time\n",
      "429\n",
      "try 10 second wait time\n",
      "429\n",
      "try 10 second wait time\n",
      "429\n",
      "try 10 second wait time\n",
      "429\n",
      "try 10 second wait time\n",
      "429\n",
      "try 10 second wait time\n",
      "429\n",
      "try 10 second wait time\n",
      "429\n",
      "try 10 second wait time\n",
      "429\n",
      "try 10 second wait time\n",
      "200\n",
      "total wait time :  113.02579617500305\n",
      "recovery api cost\n"
     ]
    },
    {
     "name": "stderr",
     "output_type": "stream",
     "text": [
      "\r",
      "  6%|█▉                             | 628/10000 [14:53:18<284:21:59, 109.23s/it]"
     ]
    },
    {
     "name": "stdout",
     "output_type": "stream",
     "text": [
      "KR_5733910700의 데이터 수집을 시작합니다.\n",
      "api cost full : infinite loop start\n",
      "try 10 second wait time\n",
      "429\n",
      "try 10 second wait time\n",
      "429\n",
      "try 10 second wait time\n",
      "429\n",
      "try 10 second wait time\n",
      "429\n",
      "try 10 second wait time\n",
      "429\n",
      "try 10 second wait time\n",
      "429\n",
      "try 10 second wait time\n",
      "429\n",
      "try 10 second wait time\n",
      "429\n",
      "try 10 second wait time\n",
      "429\n",
      "try 10 second wait time\n",
      "429\n",
      "try 10 second wait time\n",
      "200\n",
      "total wait time :  113.11343789100647\n",
      "recovery api cost\n",
      "api cost full : infinite loop start\n",
      "try 10 second wait time\n",
      "429\n",
      "try 10 second wait time\n",
      "429\n",
      "try 10 second wait time\n",
      "429\n",
      "try 10 second wait time\n",
      "429\n",
      "try 10 second wait time\n",
      "429\n",
      "try 10 second wait time\n",
      "429\n",
      "try 10 second wait time\n",
      "429\n",
      "try 10 second wait time\n",
      "429\n",
      "try 10 second wait time\n",
      "429\n",
      "try 10 second wait time\n",
      "429\n",
      "try 10 second wait time\n",
      "200\n",
      "total wait time :  112.78037309646606\n",
      "recovery api cost\n"
     ]
    },
    {
     "name": "stderr",
     "output_type": "stream",
     "text": [
      "\r",
      "  6%|█▉                             | 629/10000 [14:57:18<385:58:07, 148.28s/it]"
     ]
    },
    {
     "name": "stdout",
     "output_type": "stream",
     "text": [
      "KR_5733910700의 데이터 수집이 완료되었습니다\n",
      "KR_5733910970의 데이터 수집을 시작합니다.\n"
     ]
    },
    {
     "name": "stderr",
     "output_type": "stream",
     "text": [
      "\r",
      "  6%|█▉                             | 630/10000 [14:57:29<278:58:07, 107.18s/it]"
     ]
    },
    {
     "name": "stdout",
     "output_type": "stream",
     "text": [
      "KR_5733911482의 데이터 수집을 시작합니다.\n",
      "api cost full : infinite loop start\n",
      "try 10 second wait time\n",
      "429\n",
      "try 10 second wait time\n",
      "429\n",
      "try 10 second wait time\n",
      "429\n",
      "try 10 second wait time\n",
      "429\n",
      "try 10 second wait time\n",
      "429\n",
      "try 10 second wait time\n",
      "429\n",
      "try 10 second wait time\n",
      "429\n",
      "try 10 second wait time\n",
      "429\n",
      "try 10 second wait time\n",
      "429\n",
      "try 10 second wait time\n",
      "429\n",
      "try 10 second wait time\n",
      "200\n",
      "total wait time :  113.12899804115295\n",
      "recovery api cost\n",
      "api cost full : infinite loop start\n",
      "try 10 second wait time\n",
      "429\n",
      "try 10 second wait time\n",
      "429\n",
      "try 10 second wait time\n",
      "429\n",
      "try 10 second wait time\n",
      "429\n",
      "try 10 second wait time\n",
      "429\n",
      "try 10 second wait time\n",
      "429\n",
      "try 10 second wait time\n",
      "429\n",
      "try 10 second wait time\n",
      "429\n",
      "try 10 second wait time\n",
      "429\n",
      "try 10 second wait time\n",
      "429\n",
      "try 10 second wait time\n",
      "200\n",
      "total wait time :  113.18508815765381\n",
      "recovery api cost\n"
     ]
    },
    {
     "name": "stderr",
     "output_type": "stream",
     "text": [
      "\r",
      "  6%|█▉                             | 631/10000 [15:01:30<383:30:40, 147.36s/it]"
     ]
    },
    {
     "name": "stdout",
     "output_type": "stream",
     "text": [
      "KR_5733911482의 데이터 수집이 완료되었습니다\n",
      "KR_5733912089의 데이터 수집을 시작합니다.\n"
     ]
    },
    {
     "name": "stderr",
     "output_type": "stream",
     "text": [
      "\r",
      "  6%|█▉                             | 632/10000 [15:01:39<275:30:28, 105.87s/it]"
     ]
    },
    {
     "name": "stdout",
     "output_type": "stream",
     "text": [
      "KR_5733912209의 데이터 수집을 시작합니다.\n",
      "api cost full : infinite loop start\n",
      "try 10 second wait time\n",
      "429\n",
      "try 10 second wait time\n",
      "429\n",
      "try 10 second wait time\n",
      "429\n",
      "try 10 second wait time\n",
      "429\n",
      "try 10 second wait time\n",
      "429\n",
      "try 10 second wait time\n",
      "429\n",
      "try 10 second wait time\n",
      "429\n",
      "try 10 second wait time\n",
      "429\n",
      "try 10 second wait time\n",
      "429\n",
      "try 10 second wait time\n",
      "429\n",
      "try 10 second wait time\n",
      "200\n",
      "total wait time :  113.82217693328857\n",
      "recovery api cost\n",
      "api cost full : infinite loop start\n",
      "try 10 second wait time\n",
      "429\n",
      "try 10 second wait time\n",
      "429\n",
      "try 10 second wait time\n",
      "429\n",
      "try 10 second wait time\n",
      "429\n",
      "try 10 second wait time\n",
      "429\n",
      "try 10 second wait time\n",
      "429\n",
      "try 10 second wait time\n",
      "429\n",
      "try 10 second wait time\n",
      "429\n",
      "try 10 second wait time\n",
      "429\n",
      "try 10 second wait time\n",
      "429\n",
      "try 10 second wait time\n",
      "200\n",
      "total wait time :  113.08446478843689\n",
      "recovery api cost\n"
     ]
    },
    {
     "name": "stderr",
     "output_type": "stream",
     "text": [
      "\r",
      "  6%|█▉                             | 633/10000 [15:05:41<381:43:28, 146.71s/it]"
     ]
    },
    {
     "name": "stdout",
     "output_type": "stream",
     "text": [
      "KR_5733912209의 데이터 수집이 완료되었습니다\n",
      "KR_5733913126의 데이터 수집을 시작합니다.\n",
      "api cost full : infinite loop start\n",
      "try 10 second wait time\n",
      "429\n",
      "try 10 second wait time\n",
      "429\n",
      "try 10 second wait time\n",
      "429\n",
      "try 10 second wait time\n",
      "429\n",
      "try 10 second wait time\n",
      "429\n",
      "try 10 second wait time\n",
      "429\n",
      "try 10 second wait time\n",
      "429\n",
      "try 10 second wait time\n",
      "429\n",
      "try 10 second wait time\n",
      "429\n",
      "try 10 second wait time\n",
      "429\n",
      "try 10 second wait time\n",
      "200\n",
      "total wait time :  113.05834698677063\n",
      "recovery api cost\n"
     ]
    },
    {
     "name": "stderr",
     "output_type": "stream",
     "text": [
      "\r",
      "  6%|█▉                             | 634/10000 [15:07:49<366:50:33, 141.00s/it]"
     ]
    },
    {
     "name": "stdout",
     "output_type": "stream",
     "text": [
      "KR_5733913126의 데이터 수집이 완료되었습니다\n",
      "KR_5733913204의 데이터 수집을 시작합니다.\n"
     ]
    },
    {
     "name": "stderr",
     "output_type": "stream",
     "text": [
      "\r",
      "  6%|█▉                             | 635/10000 [15:07:57<262:50:42, 101.04s/it]"
     ]
    },
    {
     "name": "stdout",
     "output_type": "stream",
     "text": [
      "KR_5733914856의 데이터 수집을 시작합니다.\n",
      "api cost full : infinite loop start\n",
      "try 10 second wait time\n",
      "429\n",
      "try 10 second wait time\n",
      "429\n",
      "try 10 second wait time\n",
      "429\n",
      "try 10 second wait time\n",
      "429\n",
      "try 10 second wait time\n",
      "429\n",
      "try 10 second wait time\n",
      "429\n",
      "try 10 second wait time\n",
      "429\n",
      "try 10 second wait time\n",
      "429\n",
      "try 10 second wait time\n",
      "429\n",
      "try 10 second wait time\n",
      "429\n",
      "try 10 second wait time\n",
      "200\n",
      "total wait time :  113.05743503570557\n",
      "recovery api cost\n"
     ]
    },
    {
     "name": "stderr",
     "output_type": "stream",
     "text": [
      "\r",
      "  6%|█▉                             | 636/10000 [15:10:02<281:32:09, 108.24s/it]"
     ]
    },
    {
     "name": "stdout",
     "output_type": "stream",
     "text": [
      "KR_5733915205의 데이터 수집을 시작합니다.\n",
      "api cost full : infinite loop start\n",
      "try 10 second wait time\n",
      "429\n",
      "try 10 second wait time\n",
      "429\n",
      "try 10 second wait time\n",
      "429\n",
      "try 10 second wait time\n",
      "429\n",
      "try 10 second wait time\n",
      "429\n",
      "try 10 second wait time\n",
      "429\n",
      "try 10 second wait time\n",
      "429\n",
      "try 10 second wait time\n",
      "429\n",
      "try 10 second wait time\n",
      "429\n",
      "try 10 second wait time\n",
      "429\n",
      "try 10 second wait time\n",
      "200\n",
      "total wait time :  112.94396781921387\n",
      "recovery api cost\n"
     ]
    },
    {
     "name": "stderr",
     "output_type": "stream",
     "text": [
      "\r",
      "  6%|█▉                             | 637/10000 [15:12:07<295:03:59, 113.45s/it]"
     ]
    },
    {
     "name": "stdout",
     "output_type": "stream",
     "text": [
      "KR_5733915485의 데이터 수집을 시작합니다.\n",
      "api cost full : infinite loop start\n",
      "try 10 second wait time\n",
      "429\n",
      "try 10 second wait time\n",
      "429\n",
      "try 10 second wait time\n",
      "429\n",
      "try 10 second wait time\n",
      "429\n",
      "try 10 second wait time\n",
      "429\n",
      "try 10 second wait time\n",
      "429\n",
      "try 10 second wait time\n",
      "429\n",
      "try 10 second wait time\n",
      "429\n",
      "try 10 second wait time\n",
      "429\n",
      "try 10 second wait time\n",
      "429\n",
      "try 10 second wait time\n",
      "200\n",
      "total wait time :  113.07264995574951\n",
      "recovery api cost\n"
     ]
    },
    {
     "name": "stderr",
     "output_type": "stream",
     "text": [
      "\r",
      "  6%|█▉                             | 638/10000 [15:14:12<303:43:14, 116.79s/it]"
     ]
    },
    {
     "name": "stdout",
     "output_type": "stream",
     "text": [
      "KR_5733916853의 데이터 수집을 시작합니다.\n",
      "api cost full : infinite loop start\n",
      "try 10 second wait time\n",
      "429\n",
      "try 10 second wait time\n",
      "429\n",
      "try 10 second wait time\n",
      "429\n",
      "try 10 second wait time\n",
      "429\n",
      "try 10 second wait time\n",
      "429\n",
      "try 10 second wait time\n",
      "429\n",
      "try 10 second wait time\n",
      "429\n",
      "try 10 second wait time\n",
      "429\n",
      "try 10 second wait time\n",
      "429\n",
      "try 10 second wait time\n",
      "429\n",
      "try 10 second wait time\n",
      "200\n",
      "total wait time :  113.05952405929565\n",
      "recovery api cost\n",
      "api cost full : infinite loop start\n",
      "try 10 second wait time\n",
      "429\n",
      "try 10 second wait time\n",
      "429\n",
      "try 10 second wait time\n",
      "429\n",
      "try 10 second wait time\n",
      "429\n",
      "try 10 second wait time\n",
      "429\n",
      "try 10 second wait time\n",
      "429\n",
      "try 10 second wait time\n",
      "429\n",
      "try 10 second wait time\n",
      "429\n",
      "try 10 second wait time\n",
      "429\n",
      "try 10 second wait time\n",
      "429\n",
      "try 10 second wait time\n",
      "200\n",
      "total wait time :  112.85994696617126\n",
      "recovery api cost\n"
     ]
    },
    {
     "name": "stderr",
     "output_type": "stream",
     "text": [
      "\r",
      "  6%|█▉                             | 639/10000 [15:18:12<399:41:19, 153.71s/it]"
     ]
    },
    {
     "name": "stdout",
     "output_type": "stream",
     "text": [
      "KR_5733916853의 데이터 수집이 완료되었습니다\n",
      "KR_5733916913의 데이터 수집을 시작합니다.\n"
     ]
    },
    {
     "name": "stderr",
     "output_type": "stream",
     "text": [
      "\r",
      "  6%|█▉                             | 640/10000 [15:18:23<288:29:27, 110.96s/it]"
     ]
    },
    {
     "name": "stdout",
     "output_type": "stream",
     "text": [
      "KR_5733916983의 데이터 수집을 시작합니다.\n",
      "api cost full : infinite loop start\n",
      "try 10 second wait time\n",
      "429\n",
      "try 10 second wait time\n",
      "429\n",
      "try 10 second wait time\n",
      "429\n",
      "try 10 second wait time\n",
      "429\n",
      "try 10 second wait time\n",
      "429\n",
      "try 10 second wait time\n",
      "429\n",
      "try 10 second wait time\n",
      "429\n",
      "try 10 second wait time\n",
      "429\n",
      "try 10 second wait time\n",
      "429\n",
      "try 10 second wait time\n",
      "429\n",
      "try 10 second wait time\n",
      "200\n",
      "total wait time :  112.92909908294678\n",
      "recovery api cost\n"
     ]
    },
    {
     "name": "stderr",
     "output_type": "stream",
     "text": [
      "\r",
      "  6%|█▉                             | 641/10000 [15:20:28<299:42:25, 115.28s/it]"
     ]
    },
    {
     "name": "stdout",
     "output_type": "stream",
     "text": [
      "KR_5733918058의 데이터 수집을 시작합니다.\n",
      "api cost full : infinite loop start\n",
      "try 10 second wait time\n",
      "429\n",
      "try 10 second wait time\n",
      "429\n",
      "try 10 second wait time\n",
      "429\n",
      "try 10 second wait time\n",
      "429\n",
      "try 10 second wait time\n",
      "429\n",
      "try 10 second wait time\n",
      "429\n",
      "try 10 second wait time\n",
      "429\n",
      "try 10 second wait time\n",
      "429\n",
      "try 10 second wait time\n",
      "429\n",
      "try 10 second wait time\n",
      "429\n",
      "try 10 second wait time\n",
      "200\n",
      "total wait time :  113.16467571258545\n",
      "recovery api cost\n",
      "api cost full : infinite loop start\n",
      "try 10 second wait time\n",
      "429\n",
      "try 10 second wait time\n",
      "429\n",
      "try 10 second wait time\n",
      "429\n",
      "try 10 second wait time\n",
      "429\n",
      "try 10 second wait time\n",
      "429\n",
      "try 10 second wait time\n",
      "429\n",
      "try 10 second wait time\n",
      "429\n",
      "try 10 second wait time\n",
      "429\n",
      "try 10 second wait time\n",
      "429\n",
      "try 10 second wait time\n",
      "429\n",
      "try 10 second wait time\n",
      "200\n",
      "total wait time :  113.00071978569031\n",
      "recovery api cost\n"
     ]
    },
    {
     "name": "stderr",
     "output_type": "stream",
     "text": [
      "\r",
      "  6%|█▉                             | 642/10000 [15:24:29<397:47:19, 153.03s/it]"
     ]
    },
    {
     "name": "stdout",
     "output_type": "stream",
     "text": [
      "KR_5733918058의 데이터 수집이 완료되었습니다\n",
      "KR_5733919558의 데이터 수집을 시작합니다.\n",
      "api cost full : infinite loop start\n",
      "try 10 second wait time\n",
      "429\n",
      "try 10 second wait time\n",
      "429\n",
      "try 10 second wait time\n",
      "429\n",
      "try 10 second wait time\n",
      "429\n",
      "try 10 second wait time\n",
      "429\n",
      "try 10 second wait time\n",
      "429\n",
      "try 10 second wait time\n",
      "429\n",
      "try 10 second wait time\n",
      "429\n",
      "try 10 second wait time\n",
      "429\n",
      "try 10 second wait time\n",
      "429\n",
      "try 10 second wait time\n",
      "200\n",
      "total wait time :  112.96018505096436\n",
      "recovery api cost\n"
     ]
    },
    {
     "name": "stderr",
     "output_type": "stream",
     "text": [
      "\r",
      "  6%|█▉                             | 643/10000 [15:26:39<379:08:32, 145.87s/it]"
     ]
    },
    {
     "name": "stdout",
     "output_type": "stream",
     "text": [
      "KR_5733919558의 데이터 수집이 완료되었습니다\n",
      "KR_5733919628의 데이터 수집을 시작합니다.\n",
      "api cost full : infinite loop start\n",
      "try 10 second wait time\n",
      "429\n",
      "try 10 second wait time\n",
      "429\n",
      "try 10 second wait time\n",
      "429\n",
      "try 10 second wait time\n",
      "429\n",
      "try 10 second wait time\n",
      "429\n",
      "try 10 second wait time\n",
      "429\n",
      "try 10 second wait time\n",
      "429\n",
      "try 10 second wait time\n",
      "429\n",
      "try 10 second wait time\n",
      "429\n",
      "try 10 second wait time\n",
      "429\n",
      "try 10 second wait time\n",
      "200\n",
      "total wait time :  113.0654809474945\n",
      "recovery api cost\n"
     ]
    },
    {
     "name": "stderr",
     "output_type": "stream",
     "text": [
      "\r",
      "  6%|█▉                             | 644/10000 [15:28:45<363:43:48, 139.96s/it]"
     ]
    },
    {
     "name": "stdout",
     "output_type": "stream",
     "text": [
      "KR_5733919628의 데이터 수집이 완료되었습니다\n",
      "KR_5733920458의 데이터 수집을 시작합니다.\n"
     ]
    },
    {
     "name": "stderr",
     "output_type": "stream",
     "text": [
      "\r",
      "  6%|█▉                             | 645/10000 [15:28:52<259:59:12, 100.05s/it]"
     ]
    },
    {
     "name": "stdout",
     "output_type": "stream",
     "text": [
      "KR_5733920829의 데이터 수집을 시작합니다.\n",
      "api cost full : infinite loop start\n",
      "try 10 second wait time\n",
      "429\n",
      "try 10 second wait time\n",
      "429\n",
      "try 10 second wait time\n",
      "429\n",
      "try 10 second wait time\n",
      "429\n",
      "try 10 second wait time\n",
      "429\n",
      "try 10 second wait time\n",
      "429\n",
      "try 10 second wait time\n",
      "429\n",
      "try 10 second wait time\n",
      "429\n",
      "try 10 second wait time\n",
      "429\n",
      "try 10 second wait time\n",
      "429\n",
      "try 10 second wait time\n",
      "200\n",
      "total wait time :  113.23607778549194\n",
      "recovery api cost\n",
      "api cost full : infinite loop start\n",
      "try 10 second wait time\n",
      "429\n",
      "try 10 second wait time\n",
      "429\n",
      "try 10 second wait time\n",
      "429\n",
      "try 10 second wait time\n",
      "429\n",
      "try 10 second wait time\n",
      "429\n",
      "try 10 second wait time\n",
      "429\n",
      "try 10 second wait time\n",
      "429\n",
      "try 10 second wait time\n",
      "429\n",
      "try 10 second wait time\n",
      "429\n",
      "try 10 second wait time\n",
      "429\n",
      "try 10 second wait time\n",
      "200\n",
      "total wait time :  113.40879392623901\n",
      "recovery api cost\n"
     ]
    },
    {
     "name": "stderr",
     "output_type": "stream",
     "text": [
      "\r",
      "  6%|██                             | 646/10000 [15:32:55<371:53:11, 143.13s/it]"
     ]
    },
    {
     "name": "stdout",
     "output_type": "stream",
     "text": [
      "KR_5733920829의 데이터 수집이 완료되었습니다\n",
      "KR_5733922189의 데이터 수집을 시작합니다.\n"
     ]
    },
    {
     "name": "stderr",
     "output_type": "stream",
     "text": [
      "\r",
      "  6%|██                             | 647/10000 [15:33:04<267:00:46, 102.77s/it]"
     ]
    },
    {
     "name": "stdout",
     "output_type": "stream",
     "text": [
      "KR_5733923129의 데이터 수집을 시작합니다.\n",
      "api cost full : infinite loop start\n",
      "try 10 second wait time\n",
      "429\n",
      "try 10 second wait time\n",
      "429\n",
      "try 10 second wait time\n",
      "429\n",
      "try 10 second wait time\n",
      "429\n",
      "try 10 second wait time\n",
      "429\n",
      "try 10 second wait time\n",
      "429\n",
      "try 10 second wait time\n",
      "429\n",
      "try 10 second wait time\n",
      "429\n",
      "try 10 second wait time\n",
      "429\n",
      "try 10 second wait time\n",
      "429\n",
      "try 10 second wait time\n",
      "200\n",
      "total wait time :  113.32914304733276\n",
      "recovery api cost\n",
      "api cost full : infinite loop start\n",
      "try 10 second wait time\n",
      "429\n",
      "try 10 second wait time\n",
      "429\n",
      "try 10 second wait time\n",
      "429\n",
      "try 10 second wait time\n",
      "429\n",
      "try 10 second wait time\n",
      "429\n",
      "try 10 second wait time\n",
      "429\n",
      "try 10 second wait time\n",
      "429\n",
      "try 10 second wait time\n",
      "429\n",
      "try 10 second wait time\n",
      "429\n",
      "try 10 second wait time\n",
      "429\n",
      "try 10 second wait time\n",
      "200\n",
      "total wait time :  113.29557299613953\n",
      "recovery api cost\n"
     ]
    },
    {
     "name": "stderr",
     "output_type": "stream",
     "text": [
      "\r",
      "  6%|██                             | 648/10000 [15:37:05<374:42:37, 144.24s/it]"
     ]
    },
    {
     "name": "stdout",
     "output_type": "stream",
     "text": [
      "KR_5733923129의 데이터 수집이 완료되었습니다\n",
      "KR_5733923400의 데이터 수집을 시작합니다.\n",
      "api cost full : infinite loop start\n",
      "try 10 second wait time\n",
      "429\n",
      "try 10 second wait time\n",
      "429\n",
      "try 10 second wait time\n",
      "429\n",
      "try 10 second wait time\n",
      "429\n",
      "try 10 second wait time\n",
      "429\n",
      "try 10 second wait time\n",
      "429\n",
      "try 10 second wait time\n",
      "429\n",
      "try 10 second wait time\n",
      "429\n",
      "try 10 second wait time\n",
      "429\n",
      "try 10 second wait time\n",
      "429\n",
      "try 10 second wait time\n",
      "200\n",
      "total wait time :  112.88183498382568\n",
      "recovery api cost\n"
     ]
    },
    {
     "name": "stderr",
     "output_type": "stream",
     "text": [
      "\r",
      "  6%|██                             | 649/10000 [15:39:13<361:45:00, 139.27s/it]"
     ]
    },
    {
     "name": "stdout",
     "output_type": "stream",
     "text": [
      "KR_5733923400의 데이터 수집이 완료되었습니다\n",
      "KR_5733923954의 데이터 수집을 시작합니다.\n",
      "api cost full : infinite loop start\n",
      "try 10 second wait time\n",
      "429\n",
      "try 10 second wait time\n",
      "429\n",
      "try 10 second wait time\n",
      "429\n",
      "try 10 second wait time\n",
      "429\n",
      "try 10 second wait time\n",
      "429\n",
      "try 10 second wait time\n",
      "429\n",
      "try 10 second wait time\n",
      "429\n",
      "try 10 second wait time\n",
      "429\n",
      "try 10 second wait time\n",
      "429\n",
      "try 10 second wait time\n",
      "429\n",
      "try 10 second wait time\n",
      "200\n",
      "total wait time :  113.0624988079071\n",
      "recovery api cost\n"
     ]
    },
    {
     "name": "stderr",
     "output_type": "stream",
     "text": [
      "\r",
      "  6%|██                             | 650/10000 [15:41:19<352:03:01, 135.55s/it]"
     ]
    },
    {
     "name": "stdout",
     "output_type": "stream",
     "text": [
      "KR_5733923954의 데이터 수집이 완료되었습니다\n",
      "KR_5733925956의 데이터 수집을 시작합니다.\n",
      "api cost full : infinite loop start\n",
      "try 10 second wait time\n",
      "429\n",
      "try 10 second wait time\n",
      "429\n",
      "try 10 second wait time\n",
      "429\n",
      "try 10 second wait time\n",
      "429\n",
      "try 10 second wait time\n",
      "429\n",
      "try 10 second wait time\n",
      "429\n",
      "try 10 second wait time\n",
      "429\n",
      "try 10 second wait time\n",
      "429\n",
      "try 10 second wait time\n",
      "429\n",
      "try 10 second wait time\n",
      "429\n",
      "try 10 second wait time\n",
      "200\n",
      "total wait time :  113.04089617729187\n",
      "recovery api cost\n"
     ]
    },
    {
     "name": "stderr",
     "output_type": "stream",
     "text": [
      "\r",
      "  7%|██                             | 651/10000 [15:43:28<346:51:17, 133.56s/it]"
     ]
    },
    {
     "name": "stdout",
     "output_type": "stream",
     "text": [
      "KR_5733925956의 데이터 수집이 완료되었습니다\n",
      "KR_5733926498의 데이터 수집을 시작합니다.\n",
      "api cost full : infinite loop start\n",
      "try 10 second wait time\n",
      "429\n",
      "try 10 second wait time\n",
      "429\n",
      "try 10 second wait time\n",
      "429\n",
      "try 10 second wait time\n",
      "429\n",
      "try 10 second wait time\n",
      "429\n",
      "try 10 second wait time\n",
      "429\n",
      "try 10 second wait time\n",
      "429\n",
      "try 10 second wait time\n",
      "429\n",
      "try 10 second wait time\n",
      "429\n",
      "try 10 second wait time\n",
      "429\n",
      "try 10 second wait time\n",
      "200\n",
      "total wait time :  113.3936538696289\n",
      "recovery api cost\n"
     ]
    },
    {
     "name": "stderr",
     "output_type": "stream",
     "text": [
      "\r",
      "  7%|██                             | 652/10000 [15:45:36<341:59:32, 131.70s/it]"
     ]
    },
    {
     "name": "stdout",
     "output_type": "stream",
     "text": [
      "KR_5733926498의 데이터 수집이 완료되었습니다\n",
      "KR_5733926602의 데이터 수집을 시작합니다.\n",
      "api cost full : infinite loop start\n",
      "try 10 second wait time\n",
      "429\n",
      "try 10 second wait time\n",
      "429\n",
      "try 10 second wait time\n",
      "429\n",
      "try 10 second wait time\n",
      "429\n",
      "try 10 second wait time\n",
      "429\n",
      "try 10 second wait time\n",
      "429\n",
      "try 10 second wait time\n",
      "429\n",
      "try 10 second wait time\n",
      "429\n",
      "try 10 second wait time\n",
      "429\n",
      "try 10 second wait time\n",
      "429\n",
      "try 10 second wait time\n",
      "200\n",
      "total wait time :  113.02896118164062\n",
      "recovery api cost\n"
     ]
    },
    {
     "name": "stderr",
     "output_type": "stream",
     "text": [
      "\r",
      "  7%|██                             | 653/10000 [15:47:42<337:26:56, 129.97s/it]"
     ]
    },
    {
     "name": "stdout",
     "output_type": "stream",
     "text": [
      "KR_5733926806의 데이터 수집을 시작합니다.\n",
      "api cost full : infinite loop start\n",
      "try 10 second wait time\n",
      "429\n",
      "try 10 second wait time\n",
      "429\n",
      "try 10 second wait time\n",
      "429\n",
      "try 10 second wait time\n",
      "429\n",
      "try 10 second wait time\n",
      "429\n",
      "try 10 second wait time\n",
      "429\n",
      "try 10 second wait time\n",
      "429\n",
      "try 10 second wait time\n",
      "429\n",
      "try 10 second wait time\n",
      "429\n",
      "try 10 second wait time\n",
      "429\n",
      "try 10 second wait time\n",
      "200\n",
      "total wait time :  113.88649296760559\n",
      "recovery api cost\n",
      "api cost full : infinite loop start\n",
      "try 10 second wait time\n",
      "429\n",
      "try 10 second wait time\n",
      "429\n",
      "try 10 second wait time\n",
      "429\n",
      "try 10 second wait time\n",
      "429\n",
      "try 10 second wait time\n",
      "429\n",
      "try 10 second wait time\n",
      "429\n",
      "try 10 second wait time\n",
      "429\n",
      "try 10 second wait time\n",
      "429\n",
      "try 10 second wait time\n",
      "429\n",
      "try 10 second wait time\n",
      "429\n",
      "try 10 second wait time\n",
      "200\n",
      "total wait time :  113.35306525230408\n",
      "recovery api cost\n"
     ]
    },
    {
     "name": "stderr",
     "output_type": "stream",
     "text": [
      "\r",
      "  7%|██                             | 654/10000 [15:51:43<424:08:53, 163.38s/it]"
     ]
    },
    {
     "name": "stdout",
     "output_type": "stream",
     "text": [
      "KR_5733926806의 데이터 수집이 완료되었습니다\n",
      "KR_5733927820의 데이터 수집을 시작합니다.\n"
     ]
    },
    {
     "name": "stderr",
     "output_type": "stream",
     "text": [
      "\r",
      "  7%|██                             | 655/10000 [15:51:52<304:05:55, 117.15s/it]"
     ]
    },
    {
     "name": "stdout",
     "output_type": "stream",
     "text": [
      "KR_5733928569의 데이터 수집을 시작합니다.\n",
      "api cost full : infinite loop start\n",
      "try 10 second wait time\n",
      "429\n",
      "try 10 second wait time\n",
      "429\n",
      "try 10 second wait time\n",
      "429\n",
      "try 10 second wait time\n",
      "429\n",
      "try 10 second wait time\n",
      "429\n",
      "try 10 second wait time\n",
      "429\n",
      "try 10 second wait time\n",
      "429\n",
      "try 10 second wait time\n",
      "429\n",
      "try 10 second wait time\n",
      "429\n",
      "try 10 second wait time\n",
      "429\n",
      "try 10 second wait time\n",
      "200\n",
      "total wait time :  113.03586792945862\n",
      "recovery api cost\n",
      "api cost full : infinite loop start\n",
      "try 10 second wait time\n",
      "429\n",
      "try 10 second wait time\n",
      "429\n",
      "try 10 second wait time\n",
      "429\n",
      "try 10 second wait time\n",
      "429\n",
      "try 10 second wait time\n",
      "429\n",
      "try 10 second wait time\n",
      "429\n",
      "try 10 second wait time\n",
      "429\n",
      "try 10 second wait time\n",
      "429\n",
      "try 10 second wait time\n",
      "429\n",
      "try 10 second wait time\n",
      "429\n",
      "try 10 second wait time\n",
      "200\n",
      "total wait time :  113.38719582557678\n",
      "recovery api cost\n"
     ]
    },
    {
     "name": "stderr",
     "output_type": "stream",
     "text": [
      "\r",
      "  7%|██                             | 656/10000 [15:55:53<400:24:26, 154.27s/it]"
     ]
    },
    {
     "name": "stdout",
     "output_type": "stream",
     "text": [
      "KR_5733928569의 데이터 수집이 완료되었습니다\n",
      "KR_5733928734의 데이터 수집을 시작합니다.\n"
     ]
    },
    {
     "name": "stderr",
     "output_type": "stream",
     "text": [
      "\r",
      "  7%|██                             | 657/10000 [15:56:03<287:56:53, 110.95s/it]"
     ]
    },
    {
     "name": "stdout",
     "output_type": "stream",
     "text": [
      "KR_5733928901의 데이터 수집을 시작합니다.\n",
      "api cost full : infinite loop start\n",
      "try 10 second wait time\n",
      "429\n",
      "try 10 second wait time\n",
      "429\n",
      "try 10 second wait time\n",
      "429\n",
      "try 10 second wait time\n",
      "429\n",
      "try 10 second wait time\n",
      "429\n",
      "try 10 second wait time\n",
      "429\n",
      "try 10 second wait time\n",
      "429\n",
      "try 10 second wait time\n",
      "429\n",
      "try 10 second wait time\n",
      "429\n",
      "try 10 second wait time\n",
      "429\n",
      "try 10 second wait time\n",
      "200\n",
      "total wait time :  112.8785560131073\n",
      "recovery api cost\n"
     ]
    },
    {
     "name": "stderr",
     "output_type": "stream",
     "text": [
      "\r",
      "  7%|██                             | 658/10000 [15:58:09<299:33:37, 115.44s/it]"
     ]
    },
    {
     "name": "stdout",
     "output_type": "stream",
     "text": [
      "KR_5733929050의 데이터 수집을 시작합니다.\n",
      "api cost full : infinite loop start\n",
      "try 10 second wait time\n",
      "429\n",
      "try 10 second wait time\n",
      "429\n",
      "try 10 second wait time\n",
      "429\n",
      "try 10 second wait time\n",
      "429\n",
      "try 10 second wait time\n",
      "429\n",
      "try 10 second wait time\n",
      "429\n",
      "try 10 second wait time\n",
      "429\n",
      "try 10 second wait time\n",
      "429\n",
      "try 10 second wait time\n",
      "429\n",
      "try 10 second wait time\n",
      "429\n",
      "try 10 second wait time\n",
      "200\n",
      "total wait time :  112.93055486679077\n",
      "recovery api cost\n"
     ]
    },
    {
     "name": "stderr",
     "output_type": "stream",
     "text": [
      "\r",
      "  7%|██                             | 659/10000 [16:00:14<307:22:54, 118.46s/it]"
     ]
    },
    {
     "name": "stdout",
     "output_type": "stream",
     "text": [
      "KR_5733929414의 데이터 수집을 시작합니다.\n",
      "api cost full : infinite loop start\n",
      "try 10 second wait time\n",
      "429\n",
      "try 10 second wait time\n",
      "429\n",
      "try 10 second wait time\n",
      "429\n",
      "try 10 second wait time\n",
      "429\n",
      "try 10 second wait time\n",
      "429\n",
      "try 10 second wait time\n",
      "429\n",
      "try 10 second wait time\n",
      "429\n",
      "try 10 second wait time\n",
      "429\n",
      "try 10 second wait time\n",
      "429\n",
      "try 10 second wait time\n",
      "429\n",
      "try 10 second wait time\n",
      "200\n",
      "total wait time :  114.08895087242126\n",
      "recovery api cost\n",
      "api cost full : infinite loop start\n",
      "try 10 second wait time\n",
      "429\n",
      "try 10 second wait time\n",
      "429\n",
      "try 10 second wait time\n",
      "429\n",
      "try 10 second wait time\n",
      "429\n",
      "try 10 second wait time\n",
      "429\n",
      "try 10 second wait time\n",
      "429\n",
      "try 10 second wait time\n",
      "429\n",
      "try 10 second wait time\n",
      "429\n",
      "try 10 second wait time\n",
      "429\n",
      "try 10 second wait time\n",
      "429\n",
      "try 10 second wait time\n",
      "200\n",
      "total wait time :  113.46048212051392\n",
      "recovery api cost\n"
     ]
    },
    {
     "name": "stderr",
     "output_type": "stream",
     "text": [
      "\r",
      "  7%|██                             | 660/10000 [16:04:17<404:02:37, 155.73s/it]"
     ]
    },
    {
     "name": "stdout",
     "output_type": "stream",
     "text": [
      "KR_5733929414의 데이터 수집이 완료되었습니다\n",
      "KR_5733929473의 데이터 수집을 시작합니다.\n",
      "api cost full : infinite loop start\n",
      "try 10 second wait time\n",
      "429\n",
      "try 10 second wait time\n",
      "429\n",
      "try 10 second wait time\n",
      "429\n",
      "try 10 second wait time\n",
      "429\n",
      "try 10 second wait time\n",
      "429\n",
      "try 10 second wait time\n",
      "429\n",
      "try 10 second wait time\n",
      "429\n",
      "try 10 second wait time\n",
      "429\n",
      "try 10 second wait time\n",
      "429\n",
      "try 10 second wait time\n",
      "429\n",
      "try 10 second wait time\n",
      "200\n",
      "total wait time :  113.39226293563843\n",
      "recovery api cost\n"
     ]
    },
    {
     "name": "stderr",
     "output_type": "stream",
     "text": [
      "\r",
      "  7%|██                             | 661/10000 [16:06:26<383:22:08, 147.78s/it]"
     ]
    },
    {
     "name": "stdout",
     "output_type": "stream",
     "text": [
      "KR_5733929473의 데이터 수집이 완료되었습니다\n",
      "KR_5733929598의 데이터 수집을 시작합니다.\n",
      "api cost full : infinite loop start\n",
      "try 10 second wait time\n",
      "429\n",
      "try 10 second wait time\n",
      "429\n",
      "try 10 second wait time\n",
      "429\n",
      "try 10 second wait time\n",
      "429\n",
      "try 10 second wait time\n",
      "429\n",
      "try 10 second wait time\n",
      "429\n",
      "try 10 second wait time\n",
      "429\n",
      "try 10 second wait time\n",
      "429\n",
      "try 10 second wait time\n",
      "429\n",
      "try 10 second wait time\n",
      "429\n",
      "try 10 second wait time\n",
      "200\n",
      "total wait time :  113.46053814888\n",
      "recovery api cost\n"
     ]
    },
    {
     "name": "stderr",
     "output_type": "stream",
     "text": [
      "\r",
      "  7%|██                             | 662/10000 [16:08:35<368:08:22, 141.93s/it]"
     ]
    },
    {
     "name": "stdout",
     "output_type": "stream",
     "text": [
      "KR_5733929598의 데이터 수집이 완료되었습니다\n",
      "KR_5733930511의 데이터 수집을 시작합니다.\n",
      "api cost full : infinite loop start\n",
      "try 10 second wait time\n",
      "429\n",
      "try 10 second wait time\n",
      "429\n",
      "try 10 second wait time\n",
      "429\n",
      "try 10 second wait time\n",
      "429\n",
      "try 10 second wait time\n",
      "429\n",
      "try 10 second wait time\n",
      "429\n",
      "try 10 second wait time\n",
      "429\n",
      "try 10 second wait time\n",
      "429\n",
      "try 10 second wait time\n",
      "429\n",
      "try 10 second wait time\n",
      "429\n",
      "try 10 second wait time\n",
      "200\n",
      "total wait time :  113.89055109024048\n",
      "recovery api cost\n"
     ]
    },
    {
     "name": "stderr",
     "output_type": "stream",
     "text": [
      "\r",
      "  7%|██                             | 663/10000 [16:10:44<358:19:44, 138.16s/it]"
     ]
    },
    {
     "name": "stdout",
     "output_type": "stream",
     "text": [
      "KR_5733930511의 데이터 수집이 완료되었습니다\n",
      "KR_5733930915의 데이터 수집을 시작합니다.\n"
     ]
    },
    {
     "name": "stderr",
     "output_type": "stream",
     "text": [
      "\r",
      "  7%|██                              | 664/10000 [16:10:46<252:28:33, 97.36s/it]"
     ]
    },
    {
     "name": "stdout",
     "output_type": "stream",
     "text": [
      "KR_5733931682의 데이터 수집을 시작합니다.\n",
      "api cost full : infinite loop start\n",
      "try 10 second wait time\n",
      "429\n",
      "try 10 second wait time\n",
      "429\n",
      "try 10 second wait time\n",
      "429\n",
      "try 10 second wait time\n",
      "429\n",
      "try 10 second wait time\n",
      "429\n",
      "try 10 second wait time\n",
      "429\n",
      "try 10 second wait time\n",
      "429\n",
      "try 10 second wait time\n",
      "429\n",
      "try 10 second wait time\n",
      "429\n",
      "try 10 second wait time\n",
      "429\n",
      "try 10 second wait time\n",
      "200\n",
      "total wait time :  113.36138486862183\n",
      "recovery api cost\n"
     ]
    },
    {
     "name": "stderr",
     "output_type": "stream",
     "text": [
      "\r",
      "  7%|██                             | 665/10000 [16:12:52<274:29:15, 105.85s/it]"
     ]
    },
    {
     "name": "stdout",
     "output_type": "stream",
     "text": [
      "KR_5733931858의 데이터 수집을 시작합니다.\n",
      "api cost full : infinite loop start\n",
      "try 10 second wait time\n",
      "429\n",
      "try 10 second wait time\n",
      "429\n",
      "try 10 second wait time\n",
      "429\n",
      "try 10 second wait time\n",
      "429\n",
      "try 10 second wait time\n",
      "429\n",
      "try 10 second wait time\n",
      "429\n",
      "try 10 second wait time\n",
      "429\n",
      "try 10 second wait time\n",
      "429\n",
      "try 10 second wait time\n",
      "429\n",
      "try 10 second wait time\n",
      "429\n",
      "try 10 second wait time\n",
      "200\n",
      "total wait time :  113.1983859539032\n",
      "recovery api cost\n"
     ]
    },
    {
     "name": "stderr",
     "output_type": "stream",
     "text": [
      "\r",
      "  7%|██                             | 666/10000 [16:14:57<289:48:32, 111.78s/it]"
     ]
    },
    {
     "name": "stdout",
     "output_type": "stream",
     "text": [
      "KR_5733932534의 데이터 수집을 시작합니다.\n",
      "api cost full : infinite loop start\n",
      "try 10 second wait time\n",
      "429\n",
      "try 10 second wait time\n",
      "429\n",
      "try 10 second wait time\n",
      "429\n",
      "try 10 second wait time\n",
      "429\n",
      "try 10 second wait time\n",
      "429\n",
      "try 10 second wait time\n",
      "429\n",
      "try 10 second wait time\n",
      "429\n",
      "try 10 second wait time\n",
      "429\n",
      "try 10 second wait time\n",
      "429\n",
      "try 10 second wait time\n",
      "429\n",
      "try 10 second wait time\n",
      "200\n",
      "total wait time :  112.44091272354126\n",
      "recovery api cost\n"
     ]
    },
    {
     "name": "stderr",
     "output_type": "stream",
     "text": [
      "\r",
      "  7%|██                             | 667/10000 [16:17:02<299:35:05, 115.56s/it]"
     ]
    },
    {
     "name": "stdout",
     "output_type": "stream",
     "text": [
      "KR_5733934593의 데이터 수집을 시작합니다.\n",
      "api cost full : infinite loop start\n",
      "try 10 second wait time\n",
      "429\n",
      "try 10 second wait time\n",
      "429\n",
      "try 10 second wait time\n",
      "429\n",
      "try 10 second wait time\n",
      "429\n",
      "try 10 second wait time\n",
      "429\n",
      "try 10 second wait time\n",
      "429\n",
      "try 10 second wait time\n",
      "429\n",
      "try 10 second wait time\n",
      "429\n",
      "try 10 second wait time\n",
      "429\n",
      "try 10 second wait time\n",
      "429\n",
      "try 10 second wait time\n",
      "200\n",
      "total wait time :  113.2899432182312\n",
      "recovery api cost\n",
      "api cost full : infinite loop start\n",
      "try 10 second wait time\n",
      "429\n",
      "try 10 second wait time\n",
      "429\n",
      "try 10 second wait time\n",
      "429\n",
      "try 10 second wait time\n",
      "429\n",
      "try 10 second wait time\n",
      "429\n",
      "try 10 second wait time\n",
      "429\n",
      "try 10 second wait time\n",
      "429\n",
      "try 10 second wait time\n",
      "429\n",
      "try 10 second wait time\n",
      "429\n",
      "try 10 second wait time\n",
      "429\n",
      "try 10 second wait time\n",
      "200\n",
      "total wait time :  112.8392608165741\n",
      "recovery api cost\n"
     ]
    },
    {
     "name": "stderr",
     "output_type": "stream",
     "text": [
      "\r",
      "  7%|██                             | 668/10000 [16:21:04<398:01:49, 153.55s/it]"
     ]
    },
    {
     "name": "stdout",
     "output_type": "stream",
     "text": [
      "KR_5733934593의 데이터 수집이 완료되었습니다\n",
      "KR_5733934623의 데이터 수집을 시작합니다.\n"
     ]
    },
    {
     "name": "stderr",
     "output_type": "stream",
     "text": [
      "\r",
      "  7%|██                             | 669/10000 [16:21:12<285:01:31, 109.97s/it]"
     ]
    },
    {
     "name": "stdout",
     "output_type": "stream",
     "text": [
      "KR_5733934996의 데이터 수집을 시작합니다.\n",
      "api cost full : infinite loop start\n",
      "try 10 second wait time\n",
      "429\n",
      "try 10 second wait time\n",
      "429\n",
      "try 10 second wait time\n",
      "429\n",
      "try 10 second wait time\n",
      "429\n",
      "try 10 second wait time\n",
      "429\n",
      "try 10 second wait time\n",
      "429\n",
      "try 10 second wait time\n",
      "429\n",
      "try 10 second wait time\n",
      "429\n",
      "try 10 second wait time\n",
      "429\n",
      "try 10 second wait time\n",
      "429\n",
      "try 10 second wait time\n",
      "200\n",
      "total wait time :  112.55351400375366\n",
      "recovery api cost\n"
     ]
    },
    {
     "name": "stderr",
     "output_type": "stream",
     "text": [
      "\r",
      "  7%|██                             | 670/10000 [16:23:16<295:34:56, 114.05s/it]"
     ]
    },
    {
     "name": "stdout",
     "output_type": "stream",
     "text": [
      "KR_5733936344의 데이터 수집을 시작합니다.\n",
      "api cost full : infinite loop start\n",
      "try 10 second wait time\n",
      "429\n",
      "try 10 second wait time\n",
      "429\n",
      "try 10 second wait time\n",
      "429\n",
      "try 10 second wait time\n",
      "429\n",
      "try 10 second wait time\n",
      "429\n",
      "try 10 second wait time\n",
      "429\n",
      "try 10 second wait time\n",
      "429\n",
      "try 10 second wait time\n",
      "429\n",
      "try 10 second wait time\n",
      "429\n",
      "try 10 second wait time\n",
      "429\n",
      "try 10 second wait time\n",
      "200\n",
      "total wait time :  112.42425394058228\n",
      "recovery api cost\n"
     ]
    },
    {
     "name": "stderr",
     "output_type": "stream",
     "text": [
      "\r",
      "  7%|██                             | 671/10000 [16:25:21<304:01:39, 117.32s/it]"
     ]
    },
    {
     "name": "stdout",
     "output_type": "stream",
     "text": [
      "KR_5733936467의 데이터 수집을 시작합니다.\n",
      "api cost full : infinite loop start\n",
      "try 10 second wait time\n",
      "429\n",
      "try 10 second wait time\n",
      "429\n",
      "try 10 second wait time\n",
      "429\n",
      "try 10 second wait time\n",
      "429\n",
      "try 10 second wait time\n",
      "429\n",
      "try 10 second wait time\n",
      "429\n",
      "try 10 second wait time\n",
      "429\n",
      "try 10 second wait time\n",
      "429\n",
      "try 10 second wait time\n",
      "429\n",
      "try 10 second wait time\n",
      "429\n",
      "try 10 second wait time\n",
      "200\n",
      "total wait time :  112.65826511383057\n",
      "recovery api cost\n",
      "api cost full : infinite loop start\n",
      "try 10 second wait time\n",
      "429\n",
      "try 10 second wait time\n",
      "429\n",
      "try 10 second wait time\n",
      "429\n",
      "try 10 second wait time\n",
      "429\n",
      "try 10 second wait time\n",
      "429\n",
      "try 10 second wait time\n",
      "429\n",
      "try 10 second wait time\n",
      "429\n",
      "try 10 second wait time\n",
      "429\n",
      "try 10 second wait time\n",
      "429\n",
      "try 10 second wait time\n",
      "429\n",
      "try 10 second wait time\n",
      "200\n",
      "total wait time :  113.6666202545166\n",
      "recovery api cost\n"
     ]
    },
    {
     "name": "stderr",
     "output_type": "stream",
     "text": [
      "\r",
      "  7%|██                             | 672/10000 [16:29:20<398:51:48, 153.94s/it]"
     ]
    },
    {
     "name": "stdout",
     "output_type": "stream",
     "text": [
      "KR_5733936467의 데이터 수집이 완료되었습니다\n",
      "KR_5733936834의 데이터 수집을 시작합니다.\n"
     ]
    },
    {
     "name": "stderr",
     "output_type": "stream",
     "text": [
      "\r",
      "  7%|██                             | 673/10000 [16:29:30<286:33:30, 110.60s/it]"
     ]
    },
    {
     "name": "stdout",
     "output_type": "stream",
     "text": [
      "KR_5733936991의 데이터 수집을 시작합니다.\n",
      "api cost full : infinite loop start\n",
      "try 10 second wait time\n",
      "429\n",
      "try 10 second wait time\n",
      "429\n",
      "try 10 second wait time\n",
      "429\n",
      "try 10 second wait time\n",
      "429\n",
      "try 10 second wait time\n",
      "429\n",
      "try 10 second wait time\n",
      "429\n",
      "try 10 second wait time\n",
      "429\n",
      "try 10 second wait time\n",
      "429\n",
      "try 10 second wait time\n",
      "429\n",
      "try 10 second wait time\n",
      "429\n",
      "try 10 second wait time\n",
      "200\n",
      "total wait time :  113.11982607841492\n",
      "recovery api cost\n",
      "api cost full : infinite loop start\n",
      "try 10 second wait time\n",
      "429\n",
      "try 10 second wait time\n",
      "429\n",
      "try 10 second wait time\n",
      "429\n",
      "try 10 second wait time\n",
      "429\n",
      "try 10 second wait time\n",
      "429\n",
      "try 10 second wait time\n",
      "429\n",
      "try 10 second wait time\n",
      "429\n",
      "try 10 second wait time\n",
      "429\n",
      "try 10 second wait time\n",
      "429\n",
      "try 10 second wait time\n",
      "429\n",
      "try 10 second wait time\n",
      "200\n",
      "total wait time :  112.99543499946594\n",
      "recovery api cost\n"
     ]
    },
    {
     "name": "stderr",
     "output_type": "stream",
     "text": [
      "\r",
      "  7%|██                             | 674/10000 [16:33:31<388:04:04, 149.80s/it]"
     ]
    },
    {
     "name": "stdout",
     "output_type": "stream",
     "text": [
      "KR_5733936991의 데이터 수집이 완료되었습니다\n",
      "KR_5733937229의 데이터 수집을 시작합니다.\n"
     ]
    },
    {
     "name": "stderr",
     "output_type": "stream",
     "text": [
      "\r",
      "  7%|██                             | 675/10000 [16:33:40<278:54:19, 107.67s/it]"
     ]
    },
    {
     "name": "stdout",
     "output_type": "stream",
     "text": [
      "KR_5733937237의 데이터 수집을 시작합니다.\n",
      "api cost full : infinite loop start\n",
      "try 10 second wait time\n",
      "429\n",
      "try 10 second wait time\n",
      "429\n",
      "try 10 second wait time\n",
      "429\n",
      "try 10 second wait time\n",
      "429\n",
      "try 10 second wait time\n",
      "429\n",
      "try 10 second wait time\n",
      "429\n",
      "try 10 second wait time\n",
      "429\n",
      "try 10 second wait time\n",
      "429\n",
      "try 10 second wait time\n",
      "429\n",
      "try 10 second wait time\n",
      "429\n",
      "try 10 second wait time\n",
      "200\n",
      "total wait time :  112.9094090461731\n",
      "recovery api cost\n"
     ]
    },
    {
     "name": "stderr",
     "output_type": "stream",
     "text": [
      "\r",
      "  7%|██                             | 676/10000 [16:35:45<291:43:24, 112.63s/it]"
     ]
    },
    {
     "name": "stdout",
     "output_type": "stream",
     "text": [
      "KR_5733939061의 데이터 수집을 시작합니다.\n",
      "api cost full : infinite loop start\n",
      "try 10 second wait time\n",
      "429\n",
      "try 10 second wait time\n",
      "429\n",
      "try 10 second wait time\n",
      "429\n",
      "try 10 second wait time\n",
      "429\n",
      "try 10 second wait time\n",
      "429\n",
      "try 10 second wait time\n",
      "429\n",
      "try 10 second wait time\n",
      "429\n",
      "try 10 second wait time\n",
      "429\n",
      "try 10 second wait time\n",
      "429\n",
      "try 10 second wait time\n",
      "429\n",
      "try 10 second wait time\n",
      "200\n",
      "total wait time :  113.27893471717834\n",
      "recovery api cost\n"
     ]
    },
    {
     "name": "stderr",
     "output_type": "stream",
     "text": [
      "\r",
      "  7%|██                             | 677/10000 [16:37:50<301:37:43, 116.47s/it]"
     ]
    },
    {
     "name": "stdout",
     "output_type": "stream",
     "text": [
      "KR_5733939219의 데이터 수집을 시작합니다.\n",
      "api cost full : infinite loop start\n",
      "try 10 second wait time\n",
      "429\n",
      "try 10 second wait time\n",
      "429\n",
      "try 10 second wait time\n",
      "429\n",
      "try 10 second wait time\n",
      "429\n",
      "try 10 second wait time\n",
      "429\n",
      "try 10 second wait time\n",
      "429\n",
      "try 10 second wait time\n",
      "429\n",
      "try 10 second wait time\n",
      "429\n",
      "try 10 second wait time\n",
      "429\n",
      "try 10 second wait time\n",
      "429\n",
      "try 10 second wait time\n",
      "200\n",
      "total wait time :  113.6562020778656\n",
      "recovery api cost\n",
      "api cost full : infinite loop start\n",
      "try 10 second wait time\n",
      "429\n",
      "try 10 second wait time\n",
      "429\n",
      "try 10 second wait time\n",
      "429\n",
      "try 10 second wait time\n",
      "429\n",
      "try 10 second wait time\n",
      "429\n",
      "try 10 second wait time\n",
      "429\n",
      "try 10 second wait time\n",
      "429\n",
      "try 10 second wait time\n",
      "429\n",
      "try 10 second wait time\n",
      "429\n",
      "try 10 second wait time\n",
      "429\n",
      "try 10 second wait time\n",
      "200\n",
      "total wait time :  113.0312819480896\n",
      "recovery api cost\n"
     ]
    },
    {
     "name": "stderr",
     "output_type": "stream",
     "text": [
      "\r",
      "  7%|██                             | 678/10000 [16:41:53<399:38:54, 154.34s/it]"
     ]
    },
    {
     "name": "stdout",
     "output_type": "stream",
     "text": [
      "KR_5733939219의 데이터 수집이 완료되었습니다\n",
      "KR_5733939723의 데이터 수집을 시작합니다.\n"
     ]
    },
    {
     "name": "stderr",
     "output_type": "stream",
     "text": [
      "\r",
      "  7%|██                             | 679/10000 [16:42:03<287:51:32, 111.18s/it]"
     ]
    },
    {
     "name": "stdout",
     "output_type": "stream",
     "text": [
      "KR_5733941430의 데이터 수집을 시작합니다.\n",
      "api cost full : infinite loop start\n",
      "try 10 second wait time\n",
      "429\n",
      "try 10 second wait time\n",
      "429\n",
      "try 10 second wait time\n",
      "429\n",
      "try 10 second wait time\n",
      "429\n",
      "try 10 second wait time\n",
      "429\n",
      "try 10 second wait time\n",
      "429\n",
      "try 10 second wait time\n",
      "429\n",
      "try 10 second wait time\n",
      "429\n",
      "try 10 second wait time\n",
      "429\n",
      "try 10 second wait time\n",
      "429\n",
      "try 10 second wait time\n",
      "200\n",
      "total wait time :  114.83276319503784\n",
      "recovery api cost\n"
     ]
    },
    {
     "name": "stderr",
     "output_type": "stream",
     "text": [
      "\r",
      "  7%|██                             | 680/10000 [16:44:09<299:19:21, 115.62s/it]"
     ]
    },
    {
     "name": "stdout",
     "output_type": "stream",
     "text": [
      "KR_5733942918의 데이터 수집을 시작합니다.\n",
      "api cost full : infinite loop start\n",
      "try 10 second wait time\n",
      "429\n",
      "try 10 second wait time\n",
      "429\n",
      "try 10 second wait time\n",
      "429\n",
      "try 10 second wait time\n",
      "429\n",
      "try 10 second wait time\n",
      "429\n",
      "try 10 second wait time\n",
      "429\n",
      "try 10 second wait time\n",
      "429\n",
      "try 10 second wait time\n",
      "429\n",
      "try 10 second wait time\n",
      "429\n",
      "try 10 second wait time\n",
      "429\n",
      "try 10 second wait time\n",
      "200\n",
      "total wait time :  114.07700419425964\n",
      "recovery api cost\n"
     ]
    },
    {
     "name": "stderr",
     "output_type": "stream",
     "text": [
      "\r",
      "  7%|██                             | 681/10000 [16:46:15<307:16:33, 118.70s/it]"
     ]
    },
    {
     "name": "stdout",
     "output_type": "stream",
     "text": [
      "KR_5733943499의 데이터 수집을 시작합니다.\n",
      "api cost full : infinite loop start\n",
      "try 10 second wait time\n",
      "429\n",
      "try 10 second wait time\n",
      "429\n",
      "try 10 second wait time\n",
      "429\n",
      "try 10 second wait time\n",
      "429\n",
      "try 10 second wait time\n",
      "429\n",
      "try 10 second wait time\n",
      "429\n",
      "try 10 second wait time\n",
      "429\n",
      "try 10 second wait time\n",
      "429\n",
      "try 10 second wait time\n",
      "429\n",
      "try 10 second wait time\n",
      "429\n",
      "try 10 second wait time\n",
      "200\n",
      "total wait time :  113.90745496749878\n",
      "recovery api cost\n",
      "api cost full : infinite loop start\n",
      "try 10 second wait time\n",
      "429\n",
      "try 10 second wait time\n",
      "429\n",
      "try 10 second wait time\n",
      "429\n",
      "try 10 second wait time\n",
      "429\n",
      "try 10 second wait time\n",
      "429\n",
      "try 10 second wait time\n",
      "429\n",
      "try 10 second wait time\n",
      "429\n",
      "try 10 second wait time\n",
      "429\n",
      "try 10 second wait time\n",
      "429\n",
      "try 10 second wait time\n",
      "429\n",
      "try 10 second wait time\n",
      "200\n",
      "total wait time :  113.80922102928162\n",
      "recovery api cost\n"
     ]
    },
    {
     "name": "stderr",
     "output_type": "stream",
     "text": [
      "\r",
      "  7%|██                             | 682/10000 [16:50:20<404:57:15, 156.45s/it]"
     ]
    },
    {
     "name": "stdout",
     "output_type": "stream",
     "text": [
      "KR_5733943499의 데이터 수집이 완료되었습니다\n",
      "KR_5733943730의 데이터 수집을 시작합니다.\n"
     ]
    },
    {
     "name": "stderr",
     "output_type": "stream",
     "text": [
      "\r",
      "  7%|██                             | 683/10000 [16:50:27<288:59:23, 111.66s/it]"
     ]
    },
    {
     "name": "stdout",
     "output_type": "stream",
     "text": [
      "KR_5733944296의 데이터 수집을 시작합니다.\n",
      "api cost full : infinite loop start\n",
      "try 10 second wait time\n",
      "429\n",
      "try 10 second wait time\n",
      "429\n",
      "try 10 second wait time\n",
      "429\n",
      "try 10 second wait time\n",
      "429\n",
      "try 10 second wait time\n",
      "429\n",
      "try 10 second wait time\n",
      "429\n",
      "try 10 second wait time\n",
      "429\n",
      "try 10 second wait time\n",
      "429\n",
      "try 10 second wait time\n",
      "429\n",
      "try 10 second wait time\n",
      "200\n",
      "total wait time :  103.01414179801941\n",
      "recovery api cost\n"
     ]
    },
    {
     "name": "stderr",
     "output_type": "stream",
     "text": [
      "\r",
      "  7%|██                             | 684/10000 [16:52:23<292:30:50, 113.04s/it]"
     ]
    },
    {
     "name": "stdout",
     "output_type": "stream",
     "text": [
      "KR_5733944359의 데이터 수집을 시작합니다.\n",
      "api cost full : infinite loop start\n",
      "try 10 second wait time\n",
      "429\n",
      "try 10 second wait time\n",
      "429\n",
      "try 10 second wait time\n",
      "429\n",
      "try 10 second wait time\n",
      "429\n",
      "try 10 second wait time\n",
      "429\n",
      "try 10 second wait time\n",
      "429\n",
      "try 10 second wait time\n",
      "429\n",
      "try 10 second wait time\n",
      "429\n",
      "try 10 second wait time\n",
      "429\n",
      "try 10 second wait time\n",
      "429\n",
      "try 10 second wait time\n",
      "200\n",
      "total wait time :  113.79382419586182\n",
      "recovery api cost\n"
     ]
    },
    {
     "name": "stderr",
     "output_type": "stream",
     "text": [
      "\r",
      "  7%|██                             | 685/10000 [16:54:28<301:50:45, 116.66s/it]"
     ]
    },
    {
     "name": "stdout",
     "output_type": "stream",
     "text": [
      "KR_5733945566의 데이터 수집을 시작합니다.\n",
      "api cost full : infinite loop start\n",
      "try 10 second wait time\n",
      "429\n",
      "try 10 second wait time\n",
      "429\n",
      "try 10 second wait time\n",
      "429\n",
      "try 10 second wait time\n",
      "429\n",
      "try 10 second wait time\n",
      "429\n",
      "try 10 second wait time\n",
      "429\n",
      "try 10 second wait time\n",
      "429\n",
      "try 10 second wait time\n",
      "429\n",
      "try 10 second wait time\n",
      "429\n",
      "try 10 second wait time\n",
      "429\n",
      "try 10 second wait time\n",
      "200\n",
      "total wait time :  113.98356604576111\n",
      "recovery api cost\n"
     ]
    },
    {
     "name": "stderr",
     "output_type": "stream",
     "text": [
      "\r",
      "  7%|██▏                            | 686/10000 [16:56:36<310:40:24, 120.08s/it]"
     ]
    },
    {
     "name": "stdout",
     "output_type": "stream",
     "text": [
      "KR_5733946315의 데이터 수집을 시작합니다.\n",
      "api cost full : infinite loop start\n",
      "try 10 second wait time\n",
      "429\n",
      "try 10 second wait time\n",
      "429\n",
      "try 10 second wait time\n",
      "429\n",
      "try 10 second wait time\n",
      "429\n",
      "try 10 second wait time\n",
      "429\n",
      "try 10 second wait time\n",
      "429\n",
      "try 10 second wait time\n",
      "429\n",
      "try 10 second wait time\n",
      "429\n",
      "try 10 second wait time\n",
      "429\n",
      "try 10 second wait time\n",
      "429\n",
      "try 10 second wait time\n",
      "200\n",
      "total wait time :  113.4832820892334\n",
      "recovery api cost\n",
      "api cost full : infinite loop start\n",
      "try 10 second wait time\n",
      "429\n",
      "try 10 second wait time\n",
      "429\n",
      "try 10 second wait time\n",
      "429\n",
      "try 10 second wait time\n",
      "429\n",
      "try 10 second wait time\n",
      "429\n",
      "try 10 second wait time\n",
      "429\n",
      "try 10 second wait time\n",
      "429\n",
      "try 10 second wait time\n",
      "429\n",
      "try 10 second wait time\n",
      "429\n",
      "try 10 second wait time\n",
      "429\n",
      "try 10 second wait time\n",
      "200\n",
      "total wait time :  113.98128581047058\n",
      "recovery api cost\n"
     ]
    },
    {
     "name": "stderr",
     "output_type": "stream",
     "text": [
      "\r",
      "  7%|██▏                            | 687/10000 [17:00:38<405:22:52, 156.70s/it]"
     ]
    },
    {
     "name": "stdout",
     "output_type": "stream",
     "text": [
      "KR_5733946315의 데이터 수집이 완료되었습니다\n",
      "KR_5733947335의 데이터 수집을 시작합니다.\n",
      "api cost full : infinite loop start\n",
      "try 10 second wait time\n",
      "429\n",
      "try 10 second wait time\n",
      "502\n"
     ]
    },
    {
     "name": "stderr",
     "output_type": "stream",
     "text": [
      "\r",
      "  7%|█▉                           | 688/10000 [17:54:55<2810:39:11, 1086.59s/it]"
     ]
    },
    {
     "name": "stdout",
     "output_type": "stream",
     "text": [
      "KR_5733947902의 데이터 수집을 시작합니다.\n"
     ]
    },
    {
     "name": "stderr",
     "output_type": "stream",
     "text": [
      "\r",
      "  7%|██                            | 689/10000 [17:55:04<1974:17:27, 763.34s/it]"
     ]
    },
    {
     "name": "stdout",
     "output_type": "stream",
     "text": [
      "KR_5733948595의 데이터 수집을 시작합니다.\n",
      "api cost full : infinite loop start\n",
      "try 10 second wait time\n",
      "429\n",
      "try 10 second wait time\n",
      "429\n",
      "try 10 second wait time\n",
      "429\n",
      "try 10 second wait time\n",
      "429\n",
      "try 10 second wait time\n",
      "429\n",
      "try 10 second wait time\n",
      "429\n",
      "try 10 second wait time\n",
      "429\n",
      "try 10 second wait time\n",
      "429\n",
      "try 10 second wait time\n",
      "429\n",
      "try 10 second wait time\n",
      "200\n",
      "total wait time :  104.28988313674927\n",
      "recovery api cost\n"
     ]
    },
    {
     "name": "stderr",
     "output_type": "stream",
     "text": [
      "\r",
      "  7%|██                            | 690/10000 [17:57:05<1475:53:16, 570.70s/it]"
     ]
    },
    {
     "name": "stdout",
     "output_type": "stream",
     "text": [
      "KR_5733948681의 데이터 수집을 시작합니다.\n",
      "api cost full : infinite loop start\n",
      "try 10 second wait time\n",
      "429\n",
      "try 10 second wait time\n",
      "429\n",
      "try 10 second wait time\n",
      "429\n",
      "try 10 second wait time\n",
      "429\n",
      "try 10 second wait time\n",
      "429\n",
      "try 10 second wait time\n",
      "429\n",
      "try 10 second wait time\n",
      "429\n",
      "try 10 second wait time\n",
      "429\n",
      "try 10 second wait time\n",
      "429\n",
      "try 10 second wait time\n",
      "200\n",
      "total wait time :  103.78368926048279\n",
      "recovery api cost\n"
     ]
    },
    {
     "name": "stderr",
     "output_type": "stream",
     "text": [
      "\r",
      "  7%|██                            | 691/10000 [17:59:08<1128:13:41, 436.31s/it]"
     ]
    },
    {
     "name": "stdout",
     "output_type": "stream",
     "text": [
      "KR_5733948681의 데이터 수집이 완료되었습니다\n",
      "KR_5733949807의 데이터 수집을 시작합니다.\n"
     ]
    },
    {
     "name": "stderr",
     "output_type": "stream",
     "text": [
      "\r",
      "  7%|██▏                            | 692/10000 [17:59:09<791:01:00, 305.94s/it]"
     ]
    },
    {
     "name": "stdout",
     "output_type": "stream",
     "text": [
      "KR_5733949996의 데이터 수집을 시작합니다.\n",
      "api cost full : infinite loop start\n",
      "try 10 second wait time\n",
      "429\n",
      "try 10 second wait time\n",
      "429\n",
      "try 10 second wait time\n",
      "429\n",
      "try 10 second wait time\n",
      "429\n",
      "try 10 second wait time\n",
      "429\n",
      "try 10 second wait time\n",
      "429\n",
      "try 10 second wait time\n",
      "429\n",
      "try 10 second wait time\n",
      "429\n",
      "try 10 second wait time\n",
      "429\n",
      "try 10 second wait time\n",
      "200\n",
      "total wait time :  105.63432908058167\n",
      "recovery api cost\n",
      "api cost full : infinite loop start\n",
      "try 10 second wait time\n",
      "429\n",
      "try 10 second wait time\n",
      "429\n",
      "try 10 second wait time\n",
      "429\n",
      "try 10 second wait time\n",
      "429\n",
      "try 10 second wait time\n",
      "429\n",
      "try 10 second wait time\n",
      "429\n",
      "try 10 second wait time\n",
      "429\n",
      "try 10 second wait time\n",
      "429\n",
      "try 10 second wait time\n",
      "429\n",
      "try 10 second wait time\n",
      "200\n",
      "total wait time :  107.50960111618042\n",
      "recovery api cost\n"
     ]
    },
    {
     "name": "stderr",
     "output_type": "stream",
     "text": [
      "\r",
      "  7%|██▏                            | 693/10000 [18:03:00<732:22:15, 283.29s/it]"
     ]
    },
    {
     "name": "stdout",
     "output_type": "stream",
     "text": [
      "KR_5733949996의 데이터 수집이 완료되었습니다\n",
      "KR_5733950323의 데이터 수집을 시작합니다.\n"
     ]
    },
    {
     "name": "stderr",
     "output_type": "stream",
     "text": [
      "\r",
      "  7%|██▏                            | 694/10000 [18:03:21<529:24:03, 204.80s/it]"
     ]
    },
    {
     "name": "stdout",
     "output_type": "stream",
     "text": [
      "KR_5733950767의 데이터 수집을 시작합니다.\n",
      "api cost full : infinite loop start\n",
      "try 10 second wait time\n",
      "429\n",
      "try 10 second wait time\n",
      "429\n",
      "try 10 second wait time\n",
      "429\n",
      "try 10 second wait time\n",
      "429\n",
      "try 10 second wait time\n",
      "429\n",
      "try 10 second wait time\n",
      "429\n",
      "try 10 second wait time\n",
      "429\n",
      "try 10 second wait time\n",
      "429\n",
      "try 10 second wait time\n",
      "200\n",
      "total wait time :  96.56798911094666\n",
      "recovery api cost\n"
     ]
    },
    {
     "name": "stderr",
     "output_type": "stream",
     "text": [
      "\r",
      "  7%|██▏                            | 695/10000 [18:05:20<462:07:37, 178.79s/it]"
     ]
    },
    {
     "name": "stdout",
     "output_type": "stream",
     "text": [
      "KR_5733950767의 데이터 수집이 완료되었습니다\n",
      "KR_5733950878의 데이터 수집을 시작합니다.\n",
      "api cost full : infinite loop start\n",
      "try 10 second wait time\n",
      "429\n",
      "try 10 second wait time\n",
      "429\n",
      "try 10 second wait time\n",
      "429\n",
      "try 10 second wait time\n",
      "429\n",
      "try 10 second wait time\n",
      "429\n",
      "try 10 second wait time\n",
      "429\n",
      "try 10 second wait time\n",
      "429\n",
      "try 10 second wait time\n",
      "429\n",
      "try 10 second wait time\n",
      "429\n",
      "try 10 second wait time\n",
      "200\n",
      "total wait time :  103.17072796821594\n",
      "recovery api cost\n"
     ]
    },
    {
     "name": "stderr",
     "output_type": "stream",
     "text": [
      "\r",
      "  7%|██▏                            | 696/10000 [18:07:20<417:09:36, 161.41s/it]"
     ]
    },
    {
     "name": "stdout",
     "output_type": "stream",
     "text": [
      "KR_5733951020의 데이터 수집을 시작합니다.\n",
      "api cost full : infinite loop start\n",
      "try 10 second wait time\n",
      "429\n",
      "try 10 second wait time\n",
      "429\n",
      "try 10 second wait time\n",
      "429\n",
      "try 10 second wait time\n",
      "429\n",
      "try 10 second wait time\n",
      "429\n",
      "try 10 second wait time\n",
      "429\n",
      "try 10 second wait time\n",
      "429\n",
      "try 10 second wait time\n",
      "429\n",
      "try 10 second wait time\n",
      "429\n",
      "try 10 second wait time\n",
      "200\n",
      "total wait time :  103.96178483963013\n",
      "recovery api cost\n",
      "api cost full : infinite loop start\n",
      "try 10 second wait time\n",
      "429\n",
      "try 10 second wait time\n",
      "429\n",
      "try 10 second wait time\n",
      "429\n",
      "try 10 second wait time\n",
      "429\n",
      "try 10 second wait time\n",
      "429\n",
      "try 10 second wait time\n",
      "429\n",
      "try 10 second wait time\n",
      "429\n",
      "try 10 second wait time\n",
      "429\n",
      "try 10 second wait time\n",
      "429\n",
      "try 10 second wait time\n",
      "200\n",
      "total wait time :  105.14974308013916\n",
      "recovery api cost\n"
     ]
    },
    {
     "name": "stderr",
     "output_type": "stream",
     "text": [
      "\r",
      "  7%|██▏                            | 697/10000 [18:11:09<468:54:19, 181.45s/it]"
     ]
    },
    {
     "name": "stdout",
     "output_type": "stream",
     "text": [
      "KR_5733951020의 데이터 수집이 완료되었습니다\n",
      "KR_5733951272의 데이터 수집을 시작합니다.\n"
     ]
    },
    {
     "name": "stderr",
     "output_type": "stream",
     "text": [
      "\r",
      "  7%|██▏                            | 698/10000 [18:11:28<343:06:59, 132.79s/it]"
     ]
    },
    {
     "name": "stdout",
     "output_type": "stream",
     "text": [
      "KR_5733951272의 데이터 수집이 완료되었습니다\n",
      "KR_5733951675의 데이터 수집을 시작합니다.\n",
      "api cost full : infinite loop start\n",
      "try 10 second wait time\n",
      "429\n",
      "try 10 second wait time\n",
      "429\n",
      "try 10 second wait time\n",
      "429\n",
      "try 10 second wait time\n",
      "429\n",
      "try 10 second wait time\n",
      "429\n",
      "try 10 second wait time\n",
      "429\n",
      "try 10 second wait time\n",
      "429\n",
      "try 10 second wait time\n",
      "429\n",
      "try 10 second wait time\n",
      "429\n",
      "try 10 second wait time\n",
      "200\n",
      "total wait time :  104.92980575561523\n",
      "recovery api cost\n",
      "api cost full : infinite loop start\n",
      "try 10 second wait time\n",
      "429\n",
      "try 10 second wait time\n",
      "429\n",
      "try 10 second wait time\n",
      "429\n",
      "try 10 second wait time\n",
      "429\n",
      "try 10 second wait time\n",
      "429\n",
      "try 10 second wait time\n",
      "429\n",
      "try 10 second wait time\n",
      "429\n",
      "try 10 second wait time\n",
      "429\n",
      "try 10 second wait time\n",
      "429\n",
      "try 10 second wait time\n",
      "200\n",
      "total wait time :  103.19330883026123\n",
      "recovery api cost\n"
     ]
    },
    {
     "name": "stderr",
     "output_type": "stream",
     "text": [
      "\r",
      "  7%|██▏                            | 699/10000 [18:15:19<419:22:29, 162.32s/it]"
     ]
    },
    {
     "name": "stdout",
     "output_type": "stream",
     "text": [
      "KR_5733951675의 데이터 수집이 완료되었습니다\n",
      "KR_5733952088의 데이터 수집을 시작합니다.\n"
     ]
    },
    {
     "name": "stderr",
     "output_type": "stream",
     "text": [
      "\r",
      "  7%|██▏                            | 700/10000 [18:15:43<312:24:05, 120.93s/it]"
     ]
    },
    {
     "name": "stdout",
     "output_type": "stream",
     "text": [
      "KR_5733952556의 데이터 수집을 시작합니다.\n",
      "api cost full : infinite loop start\n",
      "try 10 second wait time\n",
      "429\n",
      "try 10 second wait time\n",
      "429\n",
      "try 10 second wait time\n",
      "429\n",
      "try 10 second wait time\n",
      "429\n",
      "try 10 second wait time\n",
      "429\n",
      "try 10 second wait time\n",
      "429\n",
      "try 10 second wait time\n",
      "429\n",
      "try 10 second wait time\n",
      "429\n",
      "try 10 second wait time\n",
      "200\n",
      "total wait time :  95.54483580589294\n",
      "recovery api cost\n",
      "api cost full : infinite loop start\n",
      "try 10 second wait time\n",
      "429\n",
      "try 10 second wait time\n",
      "429\n",
      "try 10 second wait time\n",
      "429\n",
      "try 10 second wait time\n",
      "429\n",
      "try 10 second wait time\n",
      "429\n",
      "try 10 second wait time\n",
      "429\n",
      "try 10 second wait time\n",
      "429\n",
      "try 10 second wait time\n",
      "429\n",
      "try 10 second wait time\n",
      "429\n",
      "try 10 second wait time\n",
      "200\n",
      "total wait time :  103.18861174583435\n",
      "recovery api cost\n"
     ]
    },
    {
     "name": "stderr",
     "output_type": "stream",
     "text": [
      "\r",
      "  7%|██▏                            | 701/10000 [18:19:27<392:10:19, 151.82s/it]"
     ]
    },
    {
     "name": "stdout",
     "output_type": "stream",
     "text": [
      "KR_5733952556의 데이터 수집이 완료되었습니다\n",
      "KR_5733952956의 데이터 수집을 시작합니다.\n"
     ]
    },
    {
     "name": "stderr",
     "output_type": "stream",
     "text": [
      "\r",
      "  7%|██▏                            | 702/10000 [18:19:39<283:13:35, 109.66s/it]"
     ]
    },
    {
     "name": "stdout",
     "output_type": "stream",
     "text": [
      "KR_5733953856의 데이터 수집을 시작합니다.\n",
      "api cost full : infinite loop start\n",
      "try 10 second wait time\n",
      "429\n",
      "try 10 second wait time\n",
      "429\n",
      "try 10 second wait time\n",
      "429\n",
      "try 10 second wait time\n",
      "429\n",
      "try 10 second wait time\n",
      "429\n",
      "try 10 second wait time\n",
      "429\n",
      "try 10 second wait time\n",
      "429\n",
      "try 10 second wait time\n",
      "429\n",
      "try 10 second wait time\n",
      "429\n",
      "try 10 second wait time\n",
      "429\n",
      "try 10 second wait time\n",
      "200\n",
      "total wait time :  113.98716902732849\n",
      "recovery api cost\n"
     ]
    },
    {
     "name": "stderr",
     "output_type": "stream",
     "text": [
      "\r",
      "  7%|██▏                            | 703/10000 [18:21:48<298:47:33, 115.70s/it]"
     ]
    },
    {
     "name": "stdout",
     "output_type": "stream",
     "text": [
      "KR_5733953964의 데이터 수집을 시작합니다.\n",
      "api cost full : infinite loop start\n",
      "try 10 second wait time\n",
      "429\n",
      "try 10 second wait time\n",
      "429\n",
      "try 10 second wait time\n",
      "429\n",
      "try 10 second wait time\n",
      "429\n",
      "try 10 second wait time\n",
      "429\n",
      "try 10 second wait time\n",
      "429\n",
      "try 10 second wait time\n",
      "429\n",
      "try 10 second wait time\n",
      "429\n",
      "try 10 second wait time\n",
      "429\n",
      "try 10 second wait time\n",
      "200\n",
      "total wait time :  104.45529079437256\n",
      "recovery api cost\n"
     ]
    },
    {
     "name": "stderr",
     "output_type": "stream",
     "text": [
      "\r",
      "  7%|██▏                            | 704/10000 [18:23:48<301:30:57, 116.77s/it]"
     ]
    },
    {
     "name": "stdout",
     "output_type": "stream",
     "text": [
      "KR_5733956600의 데이터 수집을 시작합니다.\n",
      "api cost full : infinite loop start\n",
      "try 10 second wait time\n",
      "429\n",
      "try 10 second wait time\n",
      "429\n",
      "try 10 second wait time\n",
      "429\n",
      "try 10 second wait time\n",
      "429\n",
      "try 10 second wait time\n",
      "429\n",
      "try 10 second wait time\n",
      "429\n",
      "try 10 second wait time\n",
      "429\n",
      "try 10 second wait time\n",
      "429\n",
      "try 10 second wait time\n",
      "429\n",
      "try 10 second wait time\n",
      "429\n",
      "try 10 second wait time\n",
      "200\n",
      "total wait time :  115.50853681564331\n",
      "recovery api cost\n",
      "api cost full : infinite loop start\n",
      "try 10 second wait time\n",
      "429\n",
      "try 10 second wait time\n",
      "429\n",
      "try 10 second wait time\n",
      "429\n",
      "try 10 second wait time\n",
      "429\n",
      "try 10 second wait time\n",
      "429\n",
      "try 10 second wait time\n",
      "429\n",
      "try 10 second wait time\n",
      "429\n",
      "try 10 second wait time\n",
      "429\n",
      "try 10 second wait time\n",
      "429\n",
      "try 10 second wait time\n",
      "200\n",
      "total wait time :  105.84546184539795\n",
      "recovery api cost\n"
     ]
    },
    {
     "name": "stderr",
     "output_type": "stream",
     "text": [
      "\r",
      "  7%|██▏                            | 705/10000 [18:27:53<400:56:12, 155.28s/it]"
     ]
    },
    {
     "name": "stdout",
     "output_type": "stream",
     "text": [
      "KR_5733956600의 데이터 수집이 완료되었습니다\n",
      "KR_5733958079의 데이터 수집을 시작합니다.\n",
      "api cost full : infinite loop start\n",
      "try 10 second wait time\n",
      "429\n",
      "try 10 second wait time\n",
      "429\n",
      "try 10 second wait time\n",
      "429\n",
      "try 10 second wait time\n",
      "429\n",
      "try 10 second wait time\n",
      "429\n",
      "try 10 second wait time\n",
      "429\n",
      "try 10 second wait time\n",
      "429\n",
      "try 10 second wait time\n",
      "429\n",
      "try 10 second wait time\n",
      "429\n",
      "try 10 second wait time\n",
      "200\n",
      "total wait time :  103.87758803367615\n",
      "recovery api cost\n"
     ]
    },
    {
     "name": "stderr",
     "output_type": "stream",
     "text": [
      "\r",
      "  7%|██▏                            | 706/10000 [18:29:58<377:52:05, 146.37s/it]"
     ]
    },
    {
     "name": "stdout",
     "output_type": "stream",
     "text": [
      "KR_5733958079의 데이터 수집이 완료되었습니다\n",
      "KR_5733958159의 데이터 수집을 시작합니다.\n",
      "api cost full : infinite loop start\n",
      "try 10 second wait time\n",
      "429\n",
      "try 10 second wait time\n",
      "429\n",
      "try 10 second wait time\n",
      "429\n",
      "try 10 second wait time\n",
      "429\n",
      "try 10 second wait time\n",
      "429\n",
      "try 10 second wait time\n",
      "429\n",
      "try 10 second wait time\n",
      "429\n",
      "try 10 second wait time\n",
      "429\n",
      "try 10 second wait time\n",
      "200\n",
      "total wait time :  98.47342801094055\n",
      "recovery api cost\n"
     ]
    },
    {
     "name": "stderr",
     "output_type": "stream",
     "text": [
      "\r",
      "  7%|██▏                            | 707/10000 [18:32:11<367:31:22, 142.37s/it]"
     ]
    },
    {
     "name": "stdout",
     "output_type": "stream",
     "text": [
      "KR_5733958159의 데이터 수집이 완료되었습니다\n",
      "KR_5733958650의 데이터 수집을 시작합니다.\n",
      "api cost full : infinite loop start\n",
      "try 10 second wait time\n",
      "429\n",
      "try 10 second wait time\n",
      "429\n",
      "try 10 second wait time\n",
      "429\n",
      "try 10 second wait time\n",
      "429\n",
      "try 10 second wait time\n",
      "429\n",
      "try 10 second wait time\n",
      "429\n",
      "try 10 second wait time\n",
      "429\n",
      "try 10 second wait time\n",
      "429\n",
      "try 10 second wait time\n",
      "200\n",
      "total wait time :  93.56282377243042\n",
      "recovery api cost\n"
     ]
    },
    {
     "name": "stderr",
     "output_type": "stream",
     "text": [
      "\r",
      "  7%|██▏                            | 708/10000 [18:34:15<353:11:45, 136.84s/it]"
     ]
    },
    {
     "name": "stdout",
     "output_type": "stream",
     "text": [
      "KR_5733958650의 데이터 수집이 완료되었습니다\n",
      "KR_5733960014의 데이터 수집을 시작합니다.\n",
      "api cost full : infinite loop start\n",
      "try 10 second wait time\n",
      "429\n",
      "try 10 second wait time\n",
      "429\n",
      "try 10 second wait time\n",
      "429\n",
      "try 10 second wait time\n",
      "429\n",
      "try 10 second wait time\n",
      "429\n",
      "try 10 second wait time\n",
      "429\n",
      "try 10 second wait time\n",
      "429\n",
      "try 10 second wait time\n",
      "429\n",
      "try 10 second wait time\n",
      "429\n",
      "try 10 second wait time\n",
      "200\n",
      "total wait time :  104.64411401748657\n",
      "recovery api cost\n"
     ]
    },
    {
     "name": "stderr",
     "output_type": "stream",
     "text": [
      "\r",
      "  7%|██▏                            | 709/10000 [18:36:17<341:18:39, 132.25s/it]"
     ]
    },
    {
     "name": "stdout",
     "output_type": "stream",
     "text": [
      "KR_5733960887의 데이터 수집을 시작합니다.\n",
      "api cost full : infinite loop start\n",
      "try 10 second wait time\n",
      "429\n",
      "try 10 second wait time\n",
      "429\n",
      "try 10 second wait time\n",
      "429\n",
      "try 10 second wait time\n",
      "429\n",
      "try 10 second wait time\n",
      "429\n",
      "try 10 second wait time\n",
      "429\n",
      "try 10 second wait time\n",
      "429\n",
      "try 10 second wait time\n",
      "429\n",
      "try 10 second wait time\n",
      "429\n",
      "try 10 second wait time\n",
      "200\n",
      "total wait time :  106.76962113380432\n",
      "recovery api cost\n",
      "api cost full : infinite loop start\n",
      "try 10 second wait time\n",
      "429\n",
      "try 10 second wait time\n",
      "429\n",
      "try 10 second wait time\n",
      "429\n",
      "try 10 second wait time\n",
      "429\n",
      "try 10 second wait time\n",
      "429\n",
      "try 10 second wait time\n",
      "429\n",
      "try 10 second wait time\n",
      "429\n",
      "try 10 second wait time\n",
      "429\n",
      "try 10 second wait time\n",
      "429\n",
      "try 10 second wait time\n",
      "200\n",
      "total wait time :  104.19522023200989\n",
      "recovery api cost\n"
     ]
    },
    {
     "name": "stderr",
     "output_type": "stream",
     "text": [
      "\r",
      "  7%|██▏                            | 710/10000 [18:40:16<423:39:49, 164.18s/it]"
     ]
    },
    {
     "name": "stdout",
     "output_type": "stream",
     "text": [
      "KR_5733960887의 데이터 수집이 완료되었습니다\n",
      "KR_5733961394의 데이터 수집을 시작합니다.\n"
     ]
    },
    {
     "name": "stderr",
     "output_type": "stream",
     "text": [
      "\r",
      "  7%|██▏                            | 711/10000 [18:40:30<307:35:55, 119.21s/it]"
     ]
    },
    {
     "name": "stdout",
     "output_type": "stream",
     "text": [
      "KR_5733961492의 데이터 수집을 시작합니다.\n",
      "api cost full : infinite loop start\n",
      "try 10 second wait time\n",
      "429\n",
      "try 10 second wait time\n",
      "429\n",
      "try 10 second wait time\n",
      "429\n",
      "try 10 second wait time\n",
      "429\n",
      "try 10 second wait time\n",
      "429\n",
      "try 10 second wait time\n",
      "429\n",
      "try 10 second wait time\n",
      "429\n",
      "try 10 second wait time\n",
      "429\n",
      "try 10 second wait time\n",
      "429\n",
      "try 10 second wait time\n",
      "200\n",
      "total wait time :  104.34097790718079\n",
      "recovery api cost\n"
     ]
    },
    {
     "name": "stderr",
     "output_type": "stream",
     "text": [
      "\r",
      "  7%|██▏                            | 712/10000 [18:42:37<313:30:22, 121.51s/it]"
     ]
    },
    {
     "name": "stdout",
     "output_type": "stream",
     "text": [
      "KR_5733961550의 데이터 수집을 시작합니다.\n",
      "api cost full : infinite loop start\n",
      "try 10 second wait time\n",
      "429\n",
      "try 10 second wait time\n",
      "429\n",
      "try 10 second wait time\n",
      "429\n",
      "try 10 second wait time\n",
      "429\n",
      "try 10 second wait time\n",
      "429\n",
      "try 10 second wait time\n",
      "429\n",
      "try 10 second wait time\n",
      "429\n",
      "try 10 second wait time\n",
      "429\n",
      "try 10 second wait time\n",
      "200\n",
      "total wait time :  93.61976885795593\n",
      "recovery api cost\n"
     ]
    },
    {
     "name": "stderr",
     "output_type": "stream",
     "text": [
      "\r",
      "  7%|██▏                            | 713/10000 [18:44:28<305:49:18, 118.55s/it]"
     ]
    },
    {
     "name": "stdout",
     "output_type": "stream",
     "text": [
      "KR_5733963047의 데이터 수집을 시작합니다.\n",
      "api cost full : infinite loop start\n",
      "try 10 second wait time\n",
      "429\n",
      "try 10 second wait time\n",
      "429\n",
      "try 10 second wait time\n",
      "429\n",
      "try 10 second wait time\n",
      "429\n",
      "try 10 second wait time\n",
      "429\n",
      "try 10 second wait time\n",
      "429\n",
      "try 10 second wait time\n",
      "429\n",
      "try 10 second wait time\n",
      "429\n",
      "try 10 second wait time\n",
      "429\n",
      "try 10 second wait time\n",
      "200\n",
      "total wait time :  103.4450421333313\n",
      "recovery api cost\n"
     ]
    },
    {
     "name": "stderr",
     "output_type": "stream",
     "text": [
      "\r",
      "  7%|██▏                            | 714/10000 [18:46:29<307:43:50, 119.30s/it]"
     ]
    },
    {
     "name": "stdout",
     "output_type": "stream",
     "text": [
      "KR_5733963441의 데이터 수집을 시작합니다.\n",
      "api cost full : infinite loop start\n",
      "try 10 second wait time\n",
      "429\n",
      "try 10 second wait time\n",
      "429\n",
      "try 10 second wait time\n",
      "429\n",
      "try 10 second wait time\n",
      "429\n",
      "try 10 second wait time\n",
      "429\n",
      "try 10 second wait time\n",
      "429\n",
      "try 10 second wait time\n",
      "429\n",
      "try 10 second wait time\n",
      "429\n",
      "try 10 second wait time\n",
      "429\n",
      "try 10 second wait time\n",
      "200\n",
      "total wait time :  106.8087899684906\n",
      "recovery api cost\n",
      "api cost full : infinite loop start\n",
      "try 10 second wait time\n",
      "429\n",
      "try 10 second wait time\n",
      "429\n",
      "try 10 second wait time\n",
      "429\n",
      "try 10 second wait time\n",
      "429\n",
      "try 10 second wait time\n",
      "429\n",
      "try 10 second wait time\n",
      "429\n",
      "try 10 second wait time\n",
      "429\n",
      "try 10 second wait time\n",
      "429\n",
      "try 10 second wait time\n",
      "429\n",
      "try 10 second wait time\n",
      "200\n",
      "total wait time :  105.83705115318298\n",
      "recovery api cost\n"
     ]
    },
    {
     "name": "stderr",
     "output_type": "stream",
     "text": [
      "\r",
      "  7%|██▏                            | 715/10000 [18:50:23<395:49:38, 153.47s/it]"
     ]
    },
    {
     "name": "stdout",
     "output_type": "stream",
     "text": [
      "KR_5733963441의 데이터 수집이 완료되었습니다\n",
      "KR_5733965152의 데이터 수집을 시작합니다.\n",
      "api cost full : infinite loop start\n",
      "try 10 second wait time\n",
      "429\n",
      "try 10 second wait time\n",
      "429\n",
      "try 10 second wait time\n",
      "429\n",
      "try 10 second wait time\n",
      "429\n",
      "try 10 second wait time\n",
      "429\n",
      "try 10 second wait time\n",
      "429\n",
      "try 10 second wait time\n",
      "429\n",
      "try 10 second wait time\n",
      "429\n",
      "try 10 second wait time\n",
      "429\n",
      "try 10 second wait time\n",
      "200\n",
      "total wait time :  106.85017108917236\n",
      "recovery api cost\n"
     ]
    },
    {
     "name": "stderr",
     "output_type": "stream",
     "text": [
      "\r",
      "  7%|██▏                            | 716/10000 [18:52:31<376:42:25, 146.07s/it]"
     ]
    },
    {
     "name": "stdout",
     "output_type": "stream",
     "text": [
      "KR_5733965152의 데이터 수집이 완료되었습니다\n",
      "KR_5733965653의 데이터 수집을 시작합니다.\n",
      "api cost full : infinite loop start\n",
      "try 10 second wait time\n",
      "429\n",
      "try 10 second wait time\n",
      "429\n",
      "try 10 second wait time\n",
      "429\n",
      "try 10 second wait time\n",
      "429\n",
      "try 10 second wait time\n",
      "429\n",
      "try 10 second wait time\n",
      "429\n",
      "try 10 second wait time\n",
      "429\n",
      "try 10 second wait time\n",
      "429\n",
      "try 10 second wait time\n",
      "429\n",
      "try 10 second wait time\n",
      "200\n",
      "total wait time :  104.04558897018433\n",
      "recovery api cost\n"
     ]
    },
    {
     "name": "stderr",
     "output_type": "stream",
     "text": [
      "\r",
      "  7%|██▏                            | 717/10000 [18:54:41<364:10:24, 141.23s/it]"
     ]
    },
    {
     "name": "stdout",
     "output_type": "stream",
     "text": [
      "KR_5733965653의 데이터 수집이 완료되었습니다\n",
      "KR_5733966033의 데이터 수집을 시작합니다.\n"
     ]
    },
    {
     "name": "stderr",
     "output_type": "stream",
     "text": [
      "\r",
      "  7%|██▏                            | 718/10000 [18:54:53<263:29:42, 102.20s/it]"
     ]
    },
    {
     "name": "stdout",
     "output_type": "stream",
     "text": [
      "KR_5733966193의 데이터 수집을 시작합니다.\n",
      "api cost full : infinite loop start\n",
      "try 10 second wait time\n",
      "429\n",
      "try 10 second wait time\n",
      "429\n",
      "try 10 second wait time\n",
      "429\n",
      "try 10 second wait time\n",
      "429\n",
      "try 10 second wait time\n",
      "429\n",
      "try 10 second wait time\n",
      "429\n",
      "try 10 second wait time\n",
      "429\n",
      "try 10 second wait time\n",
      "429\n",
      "try 10 second wait time\n",
      "200\n",
      "total wait time :  95.25109195709229\n",
      "recovery api cost\n"
     ]
    },
    {
     "name": "stderr",
     "output_type": "stream",
     "text": [
      "\r",
      "  7%|██▏                            | 719/10000 [18:56:42<269:06:38, 104.39s/it]"
     ]
    },
    {
     "name": "stdout",
     "output_type": "stream",
     "text": [
      "KR_5733966193의 데이터 수집이 완료되었습니다\n",
      "KR_5733967525의 데이터 수집을 시작합니다.\n"
     ]
    },
    {
     "name": "stderr",
     "output_type": "stream",
     "text": [
      "\r",
      "  7%|██▎                             | 720/10000 [18:56:44<190:08:08, 73.76s/it]"
     ]
    },
    {
     "name": "stdout",
     "output_type": "stream",
     "text": [
      "KR_5733967574의 데이터 수집을 시작합니다.\n",
      "api cost full : infinite loop start\n",
      "try 10 second wait time\n",
      "429\n",
      "try 10 second wait time\n",
      "429\n",
      "try 10 second wait time\n",
      "429\n",
      "try 10 second wait time\n",
      "429\n",
      "try 10 second wait time\n",
      "429\n",
      "try 10 second wait time\n",
      "429\n",
      "try 10 second wait time\n",
      "429\n",
      "try 10 second wait time\n",
      "429\n",
      "try 10 second wait time\n",
      "429\n",
      "try 10 second wait time\n",
      "200\n",
      "total wait time :  103.91258597373962\n",
      "recovery api cost\n"
     ]
    },
    {
     "name": "stderr",
     "output_type": "stream",
     "text": [
      "\r",
      "  7%|██▎                             | 721/10000 [18:58:49<229:36:10, 89.08s/it]"
     ]
    },
    {
     "name": "stdout",
     "output_type": "stream",
     "text": [
      "KR_5733967589의 데이터 수집을 시작합니다.\n",
      "api cost full : infinite loop start\n",
      "try 10 second wait time\n",
      "429\n",
      "try 10 second wait time\n",
      "429\n",
      "try 10 second wait time\n",
      "429\n",
      "try 10 second wait time\n",
      "429\n",
      "try 10 second wait time\n",
      "429\n",
      "try 10 second wait time\n",
      "429\n",
      "try 10 second wait time\n",
      "429\n",
      "try 10 second wait time\n",
      "429\n",
      "try 10 second wait time\n",
      "429\n",
      "try 10 second wait time\n",
      "200\n",
      "total wait time :  108.65967988967896\n",
      "recovery api cost\n",
      "api cost full : infinite loop start\n",
      "try 10 second wait time\n",
      "429\n",
      "try 10 second wait time\n",
      "429\n",
      "try 10 second wait time\n",
      "429\n",
      "try 10 second wait time\n",
      "429\n",
      "try 10 second wait time\n",
      "429\n",
      "try 10 second wait time\n",
      "429\n",
      "try 10 second wait time\n",
      "429\n",
      "try 10 second wait time\n",
      "429\n",
      "try 10 second wait time\n",
      "429\n",
      "try 10 second wait time\n",
      "200\n",
      "total wait time :  106.90685606002808\n",
      "recovery api cost\n"
     ]
    },
    {
     "name": "stderr",
     "output_type": "stream",
     "text": [
      "\r",
      "  7%|██▏                            | 722/10000 [19:02:54<350:04:27, 135.83s/it]"
     ]
    },
    {
     "name": "stdout",
     "output_type": "stream",
     "text": [
      "KR_5733967589의 데이터 수집이 완료되었습니다\n",
      "KR_5733969299의 데이터 수집을 시작합니다.\n"
     ]
    },
    {
     "name": "stderr",
     "output_type": "stream",
     "text": [
      "\r",
      "  7%|██▎                             | 723/10000 [19:03:08<255:52:57, 99.30s/it]"
     ]
    },
    {
     "name": "stdout",
     "output_type": "stream",
     "text": [
      "KR_5733969613의 데이터 수집을 시작합니다.\n",
      "api cost full : infinite loop start\n",
      "try 10 second wait time\n",
      "429\n",
      "try 10 second wait time\n",
      "429\n",
      "try 10 second wait time\n",
      "429\n",
      "try 10 second wait time\n",
      "429\n",
      "try 10 second wait time\n",
      "429\n",
      "try 10 second wait time\n",
      "429\n",
      "try 10 second wait time\n",
      "429\n",
      "try 10 second wait time\n",
      "200\n",
      "total wait time :  84.75745010375977\n",
      "recovery api cost\n"
     ]
    },
    {
     "name": "stderr",
     "output_type": "stream",
     "text": [
      "\r",
      "  7%|██▏                            | 724/10000 [19:04:59<264:52:18, 102.80s/it]"
     ]
    },
    {
     "name": "stdout",
     "output_type": "stream",
     "text": [
      "KR_5733969613의 데이터 수집이 완료되었습니다\n",
      "KR_5733970301의 데이터 수집을 시작합니다.\n",
      "api cost full : infinite loop start\n",
      "try 10 second wait time\n",
      "429\n",
      "try 10 second wait time\n",
      "429\n",
      "try 10 second wait time\n",
      "429\n",
      "try 10 second wait time\n",
      "429\n",
      "try 10 second wait time\n",
      "429\n",
      "try 10 second wait time\n",
      "429\n",
      "try 10 second wait time\n",
      "429\n",
      "try 10 second wait time\n",
      "429\n",
      "try 10 second wait time\n",
      "429\n",
      "try 10 second wait time\n",
      "200\n",
      "total wait time :  103.8102970123291\n",
      "recovery api cost\n",
      "api cost full : infinite loop start\n",
      "try 10 second wait time\n",
      "429\n",
      "try 10 second wait time\n",
      "429\n",
      "try 10 second wait time\n",
      "429\n",
      "try 10 second wait time\n",
      "429\n",
      "try 10 second wait time\n",
      "429\n",
      "try 10 second wait time\n",
      "429\n",
      "try 10 second wait time\n",
      "429\n",
      "try 10 second wait time\n",
      "429\n",
      "try 10 second wait time\n",
      "429\n",
      "try 10 second wait time\n",
      "200\n",
      "total wait time :  105.85034108161926\n",
      "recovery api cost\n"
     ]
    },
    {
     "name": "stderr",
     "output_type": "stream",
     "text": [
      "\r",
      "  7%|██▏                            | 725/10000 [19:08:52<365:43:09, 141.95s/it]"
     ]
    },
    {
     "name": "stdout",
     "output_type": "stream",
     "text": [
      "KR_5733970301의 데이터 수집이 완료되었습니다\n",
      "KR_5733971195의 데이터 수집을 시작합니다.\n",
      "api cost full : infinite loop start\n",
      "try 10 second wait time\n",
      "429\n",
      "try 10 second wait time\n",
      "429\n",
      "try 10 second wait time\n",
      "429\n",
      "try 10 second wait time\n",
      "429\n",
      "try 10 second wait time\n",
      "429\n",
      "try 10 second wait time\n",
      "429\n",
      "try 10 second wait time\n",
      "429\n",
      "try 10 second wait time\n",
      "429\n",
      "try 10 second wait time\n",
      "429\n",
      "try 10 second wait time\n",
      "200\n",
      "total wait time :  105.04539895057678\n",
      "recovery api cost\n"
     ]
    },
    {
     "name": "stderr",
     "output_type": "stream",
     "text": [
      "\r",
      "  7%|██▎                            | 726/10000 [19:11:07<359:38:42, 139.61s/it]"
     ]
    },
    {
     "name": "stdout",
     "output_type": "stream",
     "text": [
      "KR_5733971195의 데이터 수집이 완료되었습니다\n",
      "KR_5733971299의 데이터 수집을 시작합니다.\n"
     ]
    },
    {
     "name": "stderr",
     "output_type": "stream",
     "text": [
      "\r",
      "  7%|██▎                            | 727/10000 [19:11:18<260:51:26, 101.27s/it]"
     ]
    },
    {
     "name": "stdout",
     "output_type": "stream",
     "text": [
      "KR_5733972582의 데이터 수집을 시작합니다.\n",
      "api cost full : infinite loop start\n",
      "try 10 second wait time\n",
      "429\n",
      "try 10 second wait time\n",
      "429\n",
      "try 10 second wait time\n",
      "429\n",
      "try 10 second wait time\n",
      "429\n",
      "try 10 second wait time\n",
      "429\n",
      "try 10 second wait time\n",
      "429\n",
      "try 10 second wait time\n",
      "429\n",
      "try 10 second wait time\n",
      "429\n",
      "try 10 second wait time\n",
      "429\n",
      "try 10 second wait time\n",
      "200\n",
      "total wait time :  104.4289858341217\n",
      "recovery api cost\n"
     ]
    },
    {
     "name": "stderr",
     "output_type": "stream",
     "text": [
      "\r",
      "  7%|██▎                            | 728/10000 [19:13:20<276:49:05, 107.48s/it]"
     ]
    },
    {
     "name": "stdout",
     "output_type": "stream",
     "text": [
      "KR_5733972582의 데이터 수집이 완료되었습니다\n",
      "KR_5733972610의 데이터 수집을 시작합니다.\n",
      "api cost full : infinite loop start\n",
      "try 10 second wait time\n",
      "429\n",
      "try 10 second wait time\n",
      "429\n",
      "try 10 second wait time\n",
      "429\n",
      "try 10 second wait time\n",
      "429\n",
      "try 10 second wait time\n",
      "429\n",
      "try 10 second wait time\n",
      "429\n",
      "try 10 second wait time\n",
      "429\n",
      "try 10 second wait time\n",
      "429\n",
      "try 10 second wait time\n",
      "429\n",
      "try 10 second wait time\n",
      "200\n",
      "total wait time :  104.1608657836914\n",
      "recovery api cost\n"
     ]
    },
    {
     "name": "stderr",
     "output_type": "stream",
     "text": [
      "\r",
      "  7%|██▎                            | 729/10000 [19:15:26<290:31:23, 112.81s/it]"
     ]
    },
    {
     "name": "stdout",
     "output_type": "stream",
     "text": [
      "KR_5733972827의 데이터 수집을 시작합니다.\n",
      "api cost full : infinite loop start\n",
      "try 10 second wait time\n",
      "429\n",
      "try 10 second wait time\n",
      "429\n",
      "try 10 second wait time\n",
      "429\n",
      "try 10 second wait time\n",
      "429\n",
      "try 10 second wait time\n",
      "429\n",
      "try 10 second wait time\n",
      "429\n",
      "try 10 second wait time\n",
      "429\n",
      "try 10 second wait time\n",
      "429\n",
      "try 10 second wait time\n",
      "429\n",
      "try 10 second wait time\n",
      "200\n",
      "total wait time :  107.18811106681824\n",
      "recovery api cost\n"
     ]
    },
    {
     "name": "stderr",
     "output_type": "stream",
     "text": [
      "\r",
      "  7%|██▎                            | 730/10000 [19:17:31<300:29:32, 116.70s/it]"
     ]
    },
    {
     "name": "stdout",
     "output_type": "stream",
     "text": [
      "KR_5733973202의 데이터 수집을 시작합니다.\n",
      "api cost full : infinite loop start\n",
      "try 10 second wait time\n",
      "429\n",
      "try 10 second wait time\n",
      "429\n",
      "try 10 second wait time\n",
      "429\n",
      "try 10 second wait time\n",
      "429\n",
      "try 10 second wait time\n",
      "429\n",
      "try 10 second wait time\n",
      "429\n",
      "try 10 second wait time\n",
      "429\n",
      "try 10 second wait time\n",
      "429\n",
      "try 10 second wait time\n",
      "429\n",
      "try 10 second wait time\n",
      "200\n",
      "total wait time :  103.29292631149292\n",
      "recovery api cost\n"
     ]
    },
    {
     "name": "stderr",
     "output_type": "stream",
     "text": [
      "\r",
      "  7%|██▎                            | 731/10000 [19:19:31<302:45:05, 117.59s/it]"
     ]
    },
    {
     "name": "stdout",
     "output_type": "stream",
     "text": [
      "KR_5733973232의 데이터 수집을 시작합니다.\n",
      "api cost full : infinite loop start\n",
      "try 10 second wait time\n",
      "429\n",
      "try 10 second wait time\n",
      "429\n",
      "try 10 second wait time\n",
      "429\n",
      "try 10 second wait time\n",
      "429\n",
      "try 10 second wait time\n",
      "429\n",
      "try 10 second wait time\n",
      "429\n",
      "try 10 second wait time\n",
      "429\n",
      "try 10 second wait time\n",
      "429\n",
      "try 10 second wait time\n",
      "429\n",
      "try 10 second wait time\n",
      "200\n",
      "total wait time :  104.27990102767944\n",
      "recovery api cost\n"
     ]
    },
    {
     "name": "stderr",
     "output_type": "stream",
     "text": [
      "\r",
      "  7%|██▎                            | 732/10000 [19:21:30<304:12:41, 118.17s/it]"
     ]
    },
    {
     "name": "stdout",
     "output_type": "stream",
     "text": [
      "KR_5733974542의 데이터 수집을 시작합니다.\n",
      "api cost full : infinite loop start\n",
      "try 10 second wait time\n",
      "429\n",
      "try 10 second wait time\n",
      "429\n",
      "try 10 second wait time\n",
      "429\n",
      "try 10 second wait time\n",
      "429\n",
      "try 10 second wait time\n",
      "429\n",
      "try 10 second wait time\n",
      "429\n",
      "try 10 second wait time\n",
      "429\n",
      "try 10 second wait time\n",
      "429\n",
      "try 10 second wait time\n",
      "429\n",
      "try 10 second wait time\n",
      "200\n",
      "total wait time :  104.07804203033447\n",
      "recovery api cost\n"
     ]
    },
    {
     "name": "stderr",
     "output_type": "stream",
     "text": [
      "\r",
      "  7%|██▎                            | 733/10000 [19:23:32<306:26:30, 119.05s/it]"
     ]
    },
    {
     "name": "stdout",
     "output_type": "stream",
     "text": [
      "KR_5733974542의 데이터 수집이 완료되었습니다\n",
      "KR_5733974706의 데이터 수집을 시작합니다.\n",
      "api cost full : infinite loop start\n",
      "try 10 second wait time\n",
      "429\n",
      "try 10 second wait time\n",
      "429\n",
      "try 10 second wait time\n",
      "429\n",
      "try 10 second wait time\n",
      "429\n",
      "try 10 second wait time\n",
      "429\n",
      "try 10 second wait time\n",
      "429\n",
      "try 10 second wait time\n",
      "429\n",
      "try 10 second wait time\n",
      "429\n",
      "try 10 second wait time\n",
      "429\n",
      "try 10 second wait time\n",
      "200\n",
      "total wait time :  103.87450075149536\n",
      "recovery api cost\n"
     ]
    },
    {
     "name": "stderr",
     "output_type": "stream",
     "text": [
      "\r",
      "  7%|██▎                            | 734/10000 [19:25:33<308:09:14, 119.72s/it]"
     ]
    },
    {
     "name": "stdout",
     "output_type": "stream",
     "text": [
      "KR_5733976512의 데이터 수집을 시작합니다.\n",
      "api cost full : infinite loop start\n",
      "try 10 second wait time\n",
      "429\n",
      "try 10 second wait time\n",
      "429\n",
      "try 10 second wait time\n",
      "429\n",
      "try 10 second wait time\n",
      "429\n",
      "try 10 second wait time\n",
      "429\n",
      "try 10 second wait time\n",
      "429\n",
      "try 10 second wait time\n",
      "429\n",
      "try 10 second wait time\n",
      "429\n",
      "try 10 second wait time\n",
      "429\n",
      "try 10 second wait time\n",
      "200\n",
      "total wait time :  105.61665606498718\n",
      "recovery api cost\n"
     ]
    },
    {
     "name": "stderr",
     "output_type": "stream",
     "text": [
      "\r",
      "  7%|██▎                            | 735/10000 [19:27:34<309:17:43, 120.18s/it]"
     ]
    },
    {
     "name": "stdout",
     "output_type": "stream",
     "text": [
      "KR_5733976512의 데이터 수집이 완료되었습니다\n",
      "KR_5733977863의 데이터 수집을 시작합니다.\n",
      "api cost full : infinite loop start\n",
      "try 10 second wait time\n",
      "429\n",
      "try 10 second wait time\n",
      "429\n",
      "try 10 second wait time\n",
      "429\n",
      "try 10 second wait time\n",
      "429\n",
      "try 10 second wait time\n",
      "429\n",
      "try 10 second wait time\n",
      "429\n",
      "try 10 second wait time\n",
      "429\n",
      "try 10 second wait time\n",
      "429\n",
      "try 10 second wait time\n",
      "429\n",
      "try 10 second wait time\n",
      "200\n",
      "total wait time :  103.01287698745728\n",
      "recovery api cost\n",
      "api cost full : infinite loop start\n",
      "try 10 second wait time\n",
      "429\n",
      "try 10 second wait time\n",
      "429\n",
      "try 10 second wait time\n",
      "429\n",
      "try 10 second wait time\n",
      "429\n",
      "try 10 second wait time\n",
      "429\n",
      "try 10 second wait time\n",
      "429\n",
      "try 10 second wait time\n",
      "429\n",
      "try 10 second wait time\n",
      "429\n",
      "try 10 second wait time\n",
      "429\n",
      "try 10 second wait time\n",
      "429\n",
      "try 10 second wait time\n",
      "200\n",
      "total wait time :  114.69551730155945\n",
      "recovery api cost\n"
     ]
    },
    {
     "name": "stderr",
     "output_type": "stream",
     "text": [
      "\r",
      "  7%|██▎                            | 736/10000 [19:31:30<398:45:05, 154.96s/it]"
     ]
    },
    {
     "name": "stdout",
     "output_type": "stream",
     "text": [
      "KR_5733977863의 데이터 수집이 완료되었습니다\n",
      "KR_5733980483의 데이터 수집을 시작합니다.\n"
     ]
    },
    {
     "name": "stderr",
     "output_type": "stream",
     "text": [
      "\r",
      "  7%|██▎                            | 737/10000 [19:31:44<289:39:38, 112.57s/it]"
     ]
    },
    {
     "name": "stdout",
     "output_type": "stream",
     "text": [
      "KR_5733980687의 데이터 수집을 시작합니다.\n",
      "api cost full : infinite loop start\n",
      "try 10 second wait time\n",
      "429\n",
      "try 10 second wait time\n",
      "429\n",
      "try 10 second wait time\n",
      "429\n",
      "try 10 second wait time\n",
      "429\n",
      "try 10 second wait time\n",
      "429\n",
      "try 10 second wait time\n",
      "429\n",
      "try 10 second wait time\n",
      "429\n",
      "try 10 second wait time\n",
      "429\n",
      "try 10 second wait time\n",
      "429\n",
      "try 10 second wait time\n",
      "200\n",
      "total wait time :  105.34457182884216\n",
      "recovery api cost\n",
      "api cost full : infinite loop start\n",
      "try 10 second wait time\n",
      "429\n",
      "try 10 second wait time\n",
      "429\n",
      "try 10 second wait time\n",
      "429\n",
      "try 10 second wait time\n",
      "429\n",
      "try 10 second wait time\n",
      "429\n",
      "try 10 second wait time\n",
      "429\n",
      "try 10 second wait time\n",
      "429\n",
      "try 10 second wait time\n",
      "429\n",
      "try 10 second wait time\n",
      "429\n",
      "try 10 second wait time\n",
      "200\n",
      "total wait time :  104.17299389839172\n",
      "recovery api cost\n"
     ]
    },
    {
     "name": "stderr",
     "output_type": "stream",
     "text": [
      "\r",
      "  7%|██▎                            | 738/10000 [19:35:38<383:45:15, 149.16s/it]"
     ]
    },
    {
     "name": "stdout",
     "output_type": "stream",
     "text": [
      "KR_5733980687의 데이터 수집이 완료되었습니다\n",
      "KR_5733981119의 데이터 수집을 시작합니다.\n"
     ]
    },
    {
     "name": "stderr",
     "output_type": "stream",
     "text": [
      "\r",
      "  7%|██▎                            | 739/10000 [19:35:55<281:42:25, 109.51s/it]"
     ]
    },
    {
     "name": "stdout",
     "output_type": "stream",
     "text": [
      "KR_5733981392의 데이터 수집을 시작합니다.\n",
      "api cost full : infinite loop start\n",
      "try 10 second wait time\n",
      "429\n",
      "try 10 second wait time\n",
      "429\n",
      "try 10 second wait time\n",
      "429\n",
      "try 10 second wait time\n",
      "429\n",
      "try 10 second wait time\n",
      "429\n",
      "try 10 second wait time\n",
      "429\n",
      "try 10 second wait time\n",
      "429\n",
      "try 10 second wait time\n",
      "429\n",
      "try 10 second wait time\n",
      "429\n",
      "try 10 second wait time\n",
      "200\n",
      "total wait time :  103.72560286521912\n",
      "recovery api cost\n",
      "api cost full : infinite loop start\n",
      "try 10 second wait time\n",
      "429\n",
      "try 10 second wait time\n",
      "429\n",
      "try 10 second wait time\n",
      "429\n",
      "try 10 second wait time\n",
      "429\n",
      "try 10 second wait time\n",
      "429\n",
      "try 10 second wait time\n",
      "429\n",
      "try 10 second wait time\n",
      "429\n",
      "try 10 second wait time\n",
      "429\n",
      "try 10 second wait time\n",
      "429\n",
      "try 10 second wait time\n",
      "200\n",
      "total wait time :  105.13148164749146\n",
      "recovery api cost\n"
     ]
    },
    {
     "name": "stderr",
     "output_type": "stream",
     "text": [
      "\r",
      "  7%|██▎                            | 740/10000 [19:39:52<379:45:02, 147.64s/it]"
     ]
    },
    {
     "name": "stdout",
     "output_type": "stream",
     "text": [
      "KR_5733981392의 데이터 수집이 완료되었습니다\n",
      "KR_5733981840의 데이터 수집을 시작합니다.\n",
      "api cost full : infinite loop start\n",
      "try 10 second wait time\n",
      "429\n",
      "try 10 second wait time\n",
      "429\n",
      "try 10 second wait time\n",
      "429\n",
      "try 10 second wait time\n",
      "429\n",
      "try 10 second wait time\n",
      "429\n",
      "try 10 second wait time\n",
      "429\n",
      "try 10 second wait time\n",
      "429\n",
      "try 10 second wait time\n",
      "429\n",
      "try 10 second wait time\n",
      "200\n",
      "total wait time :  93.6700050830841\n",
      "recovery api cost\n"
     ]
    },
    {
     "name": "stderr",
     "output_type": "stream",
     "text": [
      "\r",
      "  7%|██▎                            | 741/10000 [19:41:59<363:49:48, 141.46s/it]"
     ]
    },
    {
     "name": "stdout",
     "output_type": "stream",
     "text": [
      "KR_5733981840의 데이터 수집이 완료되었습니다\n",
      "KR_5733981870의 데이터 수집을 시작합니다.\n"
     ]
    },
    {
     "name": "stderr",
     "output_type": "stream",
     "text": [
      "\r",
      "  7%|██▎                            | 742/10000 [19:42:17<268:21:44, 104.35s/it]"
     ]
    },
    {
     "name": "stdout",
     "output_type": "stream",
     "text": [
      "KR_5733981884의 데이터 수집을 시작합니다.\n",
      "api cost full : infinite loop start\n",
      "try 10 second wait time\n",
      "429\n",
      "try 10 second wait time\n",
      "429\n",
      "try 10 second wait time\n",
      "429\n",
      "try 10 second wait time\n",
      "429\n",
      "try 10 second wait time\n",
      "429\n",
      "try 10 second wait time\n",
      "429\n",
      "try 10 second wait time\n",
      "429\n",
      "try 10 second wait time\n",
      "429\n",
      "try 10 second wait time\n",
      "200\n",
      "total wait time :  93.68845701217651\n",
      "recovery api cost\n"
     ]
    },
    {
     "name": "stderr",
     "output_type": "stream",
     "text": [
      "\r",
      "  7%|██▎                            | 743/10000 [19:44:07<272:46:01, 106.08s/it]"
     ]
    },
    {
     "name": "stdout",
     "output_type": "stream",
     "text": [
      "KR_5733982065의 데이터 수집을 시작합니다.\n",
      "api cost full : infinite loop start\n",
      "try 10 second wait time\n",
      "429\n",
      "try 10 second wait time\n",
      "429\n",
      "try 10 second wait time\n",
      "429\n",
      "try 10 second wait time\n",
      "429\n",
      "try 10 second wait time\n",
      "429\n",
      "try 10 second wait time\n",
      "429\n",
      "try 10 second wait time\n",
      "429\n",
      "try 10 second wait time\n",
      "429\n",
      "try 10 second wait time\n",
      "429\n",
      "try 10 second wait time\n",
      "200\n",
      "total wait time :  105.97522115707397\n",
      "recovery api cost\n",
      "api cost full : infinite loop start\n",
      "try 10 second wait time\n",
      "429\n",
      "try 10 second wait time\n",
      "429\n",
      "try 10 second wait time\n",
      "429\n",
      "try 10 second wait time\n",
      "429\n",
      "try 10 second wait time\n",
      "429\n",
      "try 10 second wait time\n",
      "429\n",
      "try 10 second wait time\n",
      "429\n",
      "try 10 second wait time\n",
      "429\n",
      "try 10 second wait time\n",
      "429\n",
      "try 10 second wait time\n",
      "200\n",
      "total wait time :  103.55021405220032\n",
      "recovery api cost\n"
     ]
    },
    {
     "name": "stderr",
     "output_type": "stream",
     "text": [
      "\r",
      "  7%|██▎                            | 744/10000 [19:47:58<369:15:57, 143.62s/it]"
     ]
    },
    {
     "name": "stdout",
     "output_type": "stream",
     "text": [
      "KR_5733982065의 데이터 수집이 완료되었습니다\n",
      "KR_5733982185의 데이터 수집을 시작합니다.\n"
     ]
    },
    {
     "name": "stderr",
     "output_type": "stream",
     "text": [
      "\r",
      "  7%|██▎                            | 745/10000 [19:48:10<267:42:37, 104.13s/it]"
     ]
    },
    {
     "name": "stdout",
     "output_type": "stream",
     "text": [
      "KR_5733982435의 데이터 수집을 시작합니다.\n",
      "api cost full : infinite loop start\n",
      "try 10 second wait time\n",
      "429\n",
      "try 10 second wait time\n",
      "429\n",
      "try 10 second wait time\n",
      "429\n",
      "try 10 second wait time\n",
      "429\n",
      "try 10 second wait time\n",
      "429\n",
      "try 10 second wait time\n",
      "429\n",
      "try 10 second wait time\n",
      "429\n",
      "try 10 second wait time\n",
      "429\n",
      "try 10 second wait time\n",
      "429\n",
      "try 10 second wait time\n",
      "200\n",
      "total wait time :  103.89830422401428\n",
      "recovery api cost\n"
     ]
    },
    {
     "name": "stderr",
     "output_type": "stream",
     "text": [
      "\r",
      "  7%|██▎                            | 746/10000 [19:50:08<278:08:21, 108.20s/it]"
     ]
    },
    {
     "name": "stdout",
     "output_type": "stream",
     "text": [
      "KR_5733982512의 데이터 수집을 시작합니다.\n",
      "api cost full : infinite loop start\n",
      "try 10 second wait time\n",
      "429\n",
      "try 10 second wait time\n",
      "429\n",
      "try 10 second wait time\n",
      "429\n",
      "try 10 second wait time\n",
      "429\n",
      "try 10 second wait time\n",
      "429\n",
      "try 10 second wait time\n",
      "429\n",
      "try 10 second wait time\n",
      "429\n",
      "try 10 second wait time\n",
      "429\n",
      "try 10 second wait time\n",
      "429\n",
      "try 10 second wait time\n",
      "429\n",
      "try 10 second wait time\n",
      "200\n",
      "total wait time :  113.48421621322632\n",
      "recovery api cost\n",
      "api cost full : infinite loop start\n",
      "try 10 second wait time\n",
      "429\n",
      "try 10 second wait time\n",
      "429\n",
      "try 10 second wait time\n",
      "429\n",
      "try 10 second wait time\n",
      "429\n",
      "try 10 second wait time\n",
      "429\n",
      "try 10 second wait time\n",
      "429\n",
      "try 10 second wait time\n",
      "429\n",
      "try 10 second wait time\n",
      "429\n",
      "try 10 second wait time\n",
      "429\n",
      "try 10 second wait time\n",
      "429\n",
      "try 10 second wait time\n",
      "200\n",
      "total wait time :  113.1833119392395\n",
      "recovery api cost\n"
     ]
    },
    {
     "name": "stderr",
     "output_type": "stream",
     "text": [
      "\r",
      "  7%|██▎                            | 747/10000 [19:54:11<382:00:09, 148.62s/it]"
     ]
    },
    {
     "name": "stdout",
     "output_type": "stream",
     "text": [
      "KR_5733982512의 데이터 수집이 완료되었습니다\n",
      "KR_5733982988의 데이터 수집을 시작합니다.\n",
      "api cost full : infinite loop start\n",
      "try 10 second wait time\n",
      "429\n",
      "try 10 second wait time\n",
      "429\n",
      "try 10 second wait time\n",
      "429\n",
      "try 10 second wait time\n",
      "429\n",
      "try 10 second wait time\n",
      "429\n",
      "try 10 second wait time\n",
      "429\n",
      "try 10 second wait time\n",
      "429\n",
      "try 10 second wait time\n",
      "429\n",
      "try 10 second wait time\n",
      "429\n",
      "try 10 second wait time\n",
      "429\n",
      "try 10 second wait time\n",
      "200\n",
      "total wait time :  114.28168320655823\n",
      "recovery api cost\n"
     ]
    },
    {
     "name": "stderr",
     "output_type": "stream",
     "text": [
      "\r",
      "  7%|██▎                            | 748/10000 [19:56:26<371:25:37, 144.52s/it]"
     ]
    },
    {
     "name": "stdout",
     "output_type": "stream",
     "text": [
      "KR_5733982988의 데이터 수집이 완료되었습니다\n",
      "KR_5733989407의 데이터 수집을 시작합니다.\n",
      "api cost full : infinite loop start\n",
      "try 10 second wait time\n",
      "429\n",
      "try 10 second wait time\n",
      "429\n",
      "try 10 second wait time\n",
      "429\n",
      "try 10 second wait time\n",
      "429\n",
      "try 10 second wait time\n",
      "429\n",
      "try 10 second wait time\n",
      "429\n",
      "try 10 second wait time\n",
      "429\n",
      "try 10 second wait time\n",
      "429\n",
      "try 10 second wait time\n",
      "429\n",
      "try 10 second wait time\n",
      "200\n",
      "total wait time :  104.45458769798279\n",
      "recovery api cost\n"
     ]
    },
    {
     "name": "stderr",
     "output_type": "stream",
     "text": [
      "\r",
      "  7%|██▎                            | 749/10000 [19:58:32<357:03:59, 138.95s/it]"
     ]
    },
    {
     "name": "stdout",
     "output_type": "stream",
     "text": [
      "KR_5733989407의 데이터 수집이 완료되었습니다\n",
      "KR_5733990005의 데이터 수집을 시작합니다.\n"
     ]
    },
    {
     "name": "stderr",
     "output_type": "stream",
     "text": [
      "\r",
      "  8%|██▍                             | 750/10000 [19:58:38<254:44:53, 99.15s/it]"
     ]
    },
    {
     "name": "stdout",
     "output_type": "stream",
     "text": [
      "KR_5733990226의 데이터 수집을 시작합니다.\n",
      "api cost full : infinite loop start\n",
      "try 10 second wait time\n",
      "429\n",
      "try 10 second wait time\n",
      "429\n",
      "try 10 second wait time\n",
      "429\n",
      "try 10 second wait time\n",
      "429\n",
      "try 10 second wait time\n",
      "429\n",
      "try 10 second wait time\n",
      "429\n",
      "try 10 second wait time\n",
      "429\n",
      "try 10 second wait time\n",
      "429\n",
      "try 10 second wait time\n",
      "429\n",
      "try 10 second wait time\n",
      "200\n",
      "total wait time :  102.92490601539612\n",
      "recovery api cost\n"
     ]
    },
    {
     "name": "stderr",
     "output_type": "stream",
     "text": [
      "\r",
      "  8%|██▎                            | 751/10000 [20:00:36<269:16:41, 104.81s/it]"
     ]
    },
    {
     "name": "stdout",
     "output_type": "stream",
     "text": [
      "KR_5733990657의 데이터 수집을 시작합니다.\n",
      "api cost full : infinite loop start\n",
      "try 10 second wait time\n",
      "429\n",
      "try 10 second wait time\n",
      "429\n",
      "try 10 second wait time\n",
      "429\n",
      "try 10 second wait time\n",
      "429\n",
      "try 10 second wait time\n",
      "429\n",
      "try 10 second wait time\n",
      "429\n",
      "try 10 second wait time\n",
      "429\n",
      "try 10 second wait time\n",
      "429\n",
      "try 10 second wait time\n",
      "429\n",
      "try 10 second wait time\n",
      "200\n",
      "total wait time :  103.83091115951538\n",
      "recovery api cost\n"
     ]
    },
    {
     "name": "stderr",
     "output_type": "stream",
     "text": [
      "\r",
      "  8%|██▎                            | 752/10000 [20:02:38<282:17:49, 109.89s/it]"
     ]
    },
    {
     "name": "stdout",
     "output_type": "stream",
     "text": [
      "KR_5733990657의 데이터 수집이 완료되었습니다\n",
      "KR_5733991360의 데이터 수집을 시작합니다.\n",
      "api cost full : infinite loop start\n",
      "try 10 second wait time\n",
      "429\n",
      "try 10 second wait time\n",
      "429\n",
      "try 10 second wait time\n",
      "429\n",
      "try 10 second wait time\n",
      "429\n",
      "try 10 second wait time\n",
      "429\n",
      "try 10 second wait time\n",
      "429\n",
      "try 10 second wait time\n",
      "429\n",
      "try 10 second wait time\n",
      "429\n",
      "try 10 second wait time\n",
      "429\n",
      "try 10 second wait time\n",
      "200\n",
      "total wait time :  104.05128574371338\n",
      "recovery api cost\n",
      "api cost full : infinite loop start\n",
      "try 10 second wait time\n",
      "429\n",
      "try 10 second wait time\n",
      "429\n",
      "try 10 second wait time\n",
      "429\n",
      "try 10 second wait time\n",
      "429\n",
      "try 10 second wait time\n",
      "429\n",
      "try 10 second wait time\n",
      "429\n",
      "try 10 second wait time\n",
      "429\n",
      "try 10 second wait time\n",
      "429\n",
      "try 10 second wait time\n",
      "429\n",
      "try 10 second wait time\n",
      "200\n",
      "total wait time :  104.29699802398682\n",
      "recovery api cost\n"
     ]
    },
    {
     "name": "stderr",
     "output_type": "stream",
     "text": [
      "\r",
      "  8%|██▎                            | 753/10000 [20:06:26<373:50:10, 145.54s/it]"
     ]
    },
    {
     "name": "stdout",
     "output_type": "stream",
     "text": [
      "KR_5733991360의 데이터 수집이 완료되었습니다\n",
      "KR_5733992978의 데이터 수집을 시작합니다.\n",
      "api cost full : infinite loop start\n",
      "try 10 second wait time\n",
      "429\n",
      "try 10 second wait time\n",
      "429\n",
      "try 10 second wait time\n",
      "429\n",
      "try 10 second wait time\n",
      "429\n",
      "try 10 second wait time\n",
      "429\n",
      "try 10 second wait time\n",
      "429\n",
      "try 10 second wait time\n",
      "429\n",
      "try 10 second wait time\n",
      "429\n",
      "try 10 second wait time\n",
      "429\n",
      "try 10 second wait time\n",
      "429\n",
      "try 10 second wait time\n",
      "200\n",
      "total wait time :  114.85611414909363\n",
      "recovery api cost\n"
     ]
    },
    {
     "name": "stderr",
     "output_type": "stream",
     "text": [
      "\r",
      "  8%|██▎                            | 754/10000 [20:08:38<363:15:55, 141.44s/it]"
     ]
    },
    {
     "name": "stdout",
     "output_type": "stream",
     "text": [
      "KR_5733992978의 데이터 수집이 완료되었습니다\n",
      "KR_5733993320의 데이터 수집을 시작합니다.\n"
     ]
    },
    {
     "name": "stderr",
     "output_type": "stream",
     "text": [
      "\r",
      "  8%|██▎                            | 755/10000 [20:08:48<261:41:23, 101.90s/it]"
     ]
    },
    {
     "name": "stdout",
     "output_type": "stream",
     "text": [
      "KR_5733993382의 데이터 수집을 시작합니다.\n",
      "api cost full : infinite loop start\n",
      "try 10 second wait time\n",
      "429\n",
      "try 10 second wait time\n",
      "429\n",
      "try 10 second wait time\n",
      "429\n",
      "try 10 second wait time\n",
      "429\n",
      "try 10 second wait time\n",
      "429\n",
      "try 10 second wait time\n",
      "429\n",
      "try 10 second wait time\n",
      "429\n",
      "try 10 second wait time\n",
      "429\n",
      "try 10 second wait time\n",
      "200\n",
      "total wait time :  98.6334478855133\n",
      "recovery api cost\n"
     ]
    },
    {
     "name": "stderr",
     "output_type": "stream",
     "text": [
      "\r",
      "  8%|██▎                            | 756/10000 [20:10:43<271:33:19, 105.75s/it]"
     ]
    },
    {
     "name": "stdout",
     "output_type": "stream",
     "text": [
      "KR_5733993578의 데이터 수집을 시작합니다.\n",
      "api cost full : infinite loop start\n",
      "try 10 second wait time\n",
      "429\n",
      "try 10 second wait time\n",
      "429\n",
      "try 10 second wait time\n",
      "429\n",
      "try 10 second wait time\n",
      "429\n",
      "try 10 second wait time\n",
      "429\n",
      "try 10 second wait time\n",
      "429\n",
      "try 10 second wait time\n",
      "429\n",
      "try 10 second wait time\n",
      "429\n",
      "try 10 second wait time\n",
      "429\n",
      "try 10 second wait time\n",
      "200\n",
      "total wait time :  104.24012970924377\n",
      "recovery api cost\n",
      "api cost full : infinite loop start\n",
      "try 10 second wait time\n",
      "429\n",
      "try 10 second wait time\n",
      "429\n",
      "try 10 second wait time\n",
      "429\n",
      "try 10 second wait time\n",
      "429\n",
      "try 10 second wait time\n",
      "429\n",
      "try 10 second wait time\n",
      "429\n",
      "try 10 second wait time\n",
      "429\n",
      "try 10 second wait time\n",
      "429\n",
      "try 10 second wait time\n",
      "429\n",
      "try 10 second wait time\n",
      "200\n",
      "total wait time :  104.29442501068115\n",
      "recovery api cost\n"
     ]
    },
    {
     "name": "stderr",
     "output_type": "stream",
     "text": [
      "\r",
      "  8%|██▎                            | 757/10000 [20:14:30<364:56:00, 142.14s/it]"
     ]
    },
    {
     "name": "stdout",
     "output_type": "stream",
     "text": [
      "KR_5733993578의 데이터 수집이 완료되었습니다\n",
      "KR_5733993644의 데이터 수집을 시작합니다.\n"
     ]
    },
    {
     "name": "stderr",
     "output_type": "stream",
     "text": [
      "\r",
      "  8%|██▎                            | 758/10000 [20:14:49<270:04:00, 105.20s/it]"
     ]
    },
    {
     "name": "stdout",
     "output_type": "stream",
     "text": [
      "KR_5733994071의 데이터 수집을 시작합니다.\n",
      "api cost full : infinite loop start\n",
      "try 10 second wait time\n",
      "429\n",
      "try 10 second wait time\n",
      "429\n",
      "try 10 second wait time\n",
      "429\n",
      "try 10 second wait time\n",
      "429\n",
      "try 10 second wait time\n",
      "429\n",
      "try 10 second wait time\n",
      "429\n",
      "try 10 second wait time\n",
      "429\n",
      "try 10 second wait time\n",
      "429\n",
      "try 10 second wait time\n",
      "429\n",
      "try 10 second wait time\n",
      "200\n",
      "total wait time :  102.93586993217468\n",
      "recovery api cost\n"
     ]
    },
    {
     "name": "stderr",
     "output_type": "stream",
     "text": [
      "\r",
      "  8%|██▎                            | 759/10000 [20:16:47<280:15:22, 109.18s/it]"
     ]
    },
    {
     "name": "stdout",
     "output_type": "stream",
     "text": [
      "KR_5733994297의 데이터 수집을 시작합니다.\n",
      "api cost full : infinite loop start\n",
      "try 10 second wait time\n",
      "429\n",
      "try 10 second wait time\n",
      "429\n",
      "try 10 second wait time\n",
      "429\n",
      "try 10 second wait time\n",
      "429\n",
      "try 10 second wait time\n",
      "429\n",
      "try 10 second wait time\n",
      "429\n",
      "try 10 second wait time\n",
      "429\n",
      "try 10 second wait time\n",
      "429\n",
      "try 10 second wait time\n",
      "429\n",
      "try 10 second wait time\n",
      "200\n",
      "total wait time :  103.43556094169617\n",
      "recovery api cost\n"
     ]
    },
    {
     "name": "stderr",
     "output_type": "stream",
     "text": [
      "\r",
      "  8%|██▎                            | 760/10000 [20:18:48<288:46:25, 112.51s/it]"
     ]
    },
    {
     "name": "stdout",
     "output_type": "stream",
     "text": [
      "KR_5733994297의 데이터 수집이 완료되었습니다\n",
      "KR_5733995437의 데이터 수집을 시작합니다.\n"
     ]
    },
    {
     "name": "stderr",
     "output_type": "stream",
     "text": [
      "\r",
      "  8%|██▍                             | 761/10000 [20:18:52<205:38:30, 80.13s/it]"
     ]
    },
    {
     "name": "stdout",
     "output_type": "stream",
     "text": [
      "KR_5733996353의 데이터 수집을 시작합니다.\n",
      "api cost full : infinite loop start\n",
      "try 10 second wait time\n",
      "429\n",
      "try 10 second wait time\n",
      "429\n",
      "try 10 second wait time\n",
      "429\n",
      "try 10 second wait time\n",
      "429\n",
      "try 10 second wait time\n",
      "429\n",
      "try 10 second wait time\n",
      "429\n",
      "try 10 second wait time\n",
      "429\n",
      "try 10 second wait time\n",
      "429\n",
      "try 10 second wait time\n",
      "429\n",
      "try 10 second wait time\n",
      "200\n",
      "total wait time :  102.6367781162262\n",
      "recovery api cost\n"
     ]
    },
    {
     "name": "stderr",
     "output_type": "stream",
     "text": [
      "\r",
      "  8%|██▍                             | 762/10000 [20:20:50<234:34:32, 91.41s/it]"
     ]
    },
    {
     "name": "stdout",
     "output_type": "stream",
     "text": [
      "KR_5733998211의 데이터 수집을 시작합니다.\n",
      "api cost full : infinite loop start\n",
      "try 10 second wait time\n",
      "429\n",
      "try 10 second wait time\n",
      "429\n",
      "try 10 second wait time\n",
      "429\n",
      "try 10 second wait time\n",
      "429\n",
      "try 10 second wait time\n",
      "429\n",
      "try 10 second wait time\n",
      "429\n",
      "try 10 second wait time\n",
      "429\n",
      "try 10 second wait time\n",
      "429\n",
      "try 10 second wait time\n",
      "429\n",
      "try 10 second wait time\n",
      "429\n",
      "try 10 second wait time\n",
      "200\n",
      "total wait time :  113.40686368942261\n",
      "recovery api cost\n"
     ]
    },
    {
     "name": "stderr",
     "output_type": "stream",
     "text": [
      "\r",
      "  8%|██▎                            | 763/10000 [20:22:57<262:06:27, 102.15s/it]"
     ]
    },
    {
     "name": "stdout",
     "output_type": "stream",
     "text": [
      "KR_5734000816의 데이터 수집을 시작합니다.\n",
      "api cost full : infinite loop start\n",
      "try 10 second wait time\n",
      "429\n",
      "try 10 second wait time\n",
      "429\n",
      "try 10 second wait time\n",
      "429\n",
      "try 10 second wait time\n",
      "429\n",
      "try 10 second wait time\n",
      "429\n",
      "try 10 second wait time\n",
      "429\n",
      "try 10 second wait time\n",
      "429\n",
      "try 10 second wait time\n",
      "429\n",
      "try 10 second wait time\n",
      "429\n",
      "try 10 second wait time\n",
      "429\n",
      "try 10 second wait time\n",
      "200\n",
      "total wait time :  115.51098203659058\n",
      "recovery api cost\n",
      "api cost full : infinite loop start\n",
      "try 10 second wait time\n",
      "429\n",
      "try 10 second wait time\n",
      "429\n",
      "try 10 second wait time\n",
      "429\n",
      "try 10 second wait time\n",
      "429\n",
      "try 10 second wait time\n",
      "429\n",
      "try 10 second wait time\n",
      "429\n",
      "try 10 second wait time\n",
      "429\n",
      "try 10 second wait time\n",
      "429\n",
      "try 10 second wait time\n",
      "200\n",
      "total wait time :  92.71232008934021\n",
      "recovery api cost\n"
     ]
    },
    {
     "name": "stderr",
     "output_type": "stream",
     "text": [
      "\r",
      "  8%|██▎                            | 764/10000 [20:26:51<363:47:58, 141.80s/it]"
     ]
    },
    {
     "name": "stdout",
     "output_type": "stream",
     "text": [
      "KR_5734000816의 데이터 수집이 완료되었습니다\n",
      "KR_5734000882의 데이터 수집을 시작합니다.\n",
      "api cost full : infinite loop start\n",
      "try 10 second wait time\n",
      "429\n",
      "try 10 second wait time\n",
      "429\n",
      "try 10 second wait time\n",
      "429\n",
      "try 10 second wait time\n",
      "429\n",
      "try 10 second wait time\n",
      "429\n",
      "try 10 second wait time\n",
      "429\n",
      "try 10 second wait time\n",
      "429\n",
      "try 10 second wait time\n",
      "429\n",
      "try 10 second wait time\n",
      "429\n",
      "try 10 second wait time\n",
      "429\n",
      "try 10 second wait time\n",
      "200\n",
      "total wait time :  114.98223280906677\n",
      "recovery api cost\n"
     ]
    },
    {
     "name": "stderr",
     "output_type": "stream",
     "text": [
      "\r",
      "  8%|██▎                            | 765/10000 [20:29:06<358:25:22, 139.72s/it]"
     ]
    },
    {
     "name": "stdout",
     "output_type": "stream",
     "text": [
      "KR_5734000882의 데이터 수집이 완료되었습니다\n",
      "KR_5734002435의 데이터 수집을 시작합니다.\n",
      "api cost full : infinite loop start\n",
      "try 10 second wait time\n",
      "429\n",
      "try 10 second wait time\n",
      "429\n",
      "try 10 second wait time\n",
      "429\n",
      "try 10 second wait time\n",
      "429\n",
      "try 10 second wait time\n",
      "429\n",
      "try 10 second wait time\n",
      "429\n",
      "try 10 second wait time\n",
      "429\n",
      "try 10 second wait time\n",
      "429\n",
      "try 10 second wait time\n",
      "429\n",
      "try 10 second wait time\n",
      "200\n",
      "total wait time :  104.09863901138306\n",
      "recovery api cost\n"
     ]
    },
    {
     "name": "stderr",
     "output_type": "stream",
     "text": [
      "\r",
      "  8%|██▎                            | 766/10000 [20:31:05<341:55:32, 133.30s/it]"
     ]
    },
    {
     "name": "stdout",
     "output_type": "stream",
     "text": [
      "KR_5734002845의 데이터 수집을 시작합니다.\n",
      "api cost full : infinite loop start\n",
      "try 10 second wait time\n",
      "429\n",
      "try 10 second wait time\n",
      "429\n",
      "try 10 second wait time\n",
      "429\n",
      "try 10 second wait time\n",
      "429\n",
      "try 10 second wait time\n",
      "429\n",
      "try 10 second wait time\n",
      "429\n",
      "try 10 second wait time\n",
      "429\n",
      "try 10 second wait time\n",
      "429\n",
      "try 10 second wait time\n",
      "429\n",
      "try 10 second wait time\n",
      "429\n",
      "try 10 second wait time\n",
      "200\n",
      "total wait time :  114.36012291908264\n",
      "recovery api cost\n",
      "api cost full : infinite loop start\n",
      "try 10 second wait time\n",
      "429\n",
      "try 10 second wait time\n",
      "429\n",
      "try 10 second wait time\n",
      "429\n",
      "try 10 second wait time\n",
      "429\n",
      "try 10 second wait time\n",
      "429\n",
      "try 10 second wait time\n",
      "429\n",
      "try 10 second wait time\n",
      "429\n",
      "try 10 second wait time\n",
      "429\n",
      "try 10 second wait time\n",
      "429\n",
      "try 10 second wait time\n",
      "200\n",
      "total wait time :  103.8829300403595\n",
      "recovery api cost\n"
     ]
    },
    {
     "name": "stderr",
     "output_type": "stream",
     "text": [
      "\r",
      "  8%|██▍                            | 767/10000 [20:35:07<426:02:57, 166.12s/it]"
     ]
    },
    {
     "name": "stdout",
     "output_type": "stream",
     "text": [
      "KR_5734002845의 데이터 수집이 완료되었습니다\n",
      "KR_5734002866의 데이터 수집을 시작합니다.\n",
      "api cost full : infinite loop start\n",
      "try 10 second wait time\n",
      "429\n",
      "try 10 second wait time\n",
      "429\n",
      "try 10 second wait time\n",
      "429\n",
      "try 10 second wait time\n",
      "429\n",
      "try 10 second wait time\n",
      "429\n",
      "try 10 second wait time\n",
      "429\n",
      "try 10 second wait time\n",
      "429\n",
      "try 10 second wait time\n",
      "429\n",
      "try 10 second wait time\n",
      "429\n",
      "try 10 second wait time\n",
      "200\n",
      "total wait time :  106.24083256721497\n",
      "recovery api cost\n"
     ]
    },
    {
     "name": "stderr",
     "output_type": "stream",
     "text": [
      "\r",
      "  8%|██▍                            | 768/10000 [20:37:14<395:25:50, 154.20s/it]"
     ]
    },
    {
     "name": "stdout",
     "output_type": "stream",
     "text": [
      "KR_5734002866의 데이터 수집이 완료되었습니다\n",
      "KR_5734003837의 데이터 수집을 시작합니다.\n",
      "api cost full : infinite loop start\n",
      "try 10 second wait time\n",
      "429\n",
      "try 10 second wait time\n",
      "429\n",
      "try 10 second wait time\n",
      "429\n",
      "try 10 second wait time\n",
      "429\n",
      "try 10 second wait time\n",
      "429\n",
      "try 10 second wait time\n",
      "429\n",
      "try 10 second wait time\n",
      "429\n",
      "try 10 second wait time\n",
      "429\n",
      "try 10 second wait time\n",
      "429\n",
      "try 10 second wait time\n",
      "200\n",
      "total wait time :  107.15574097633362\n",
      "recovery api cost\n"
     ]
    },
    {
     "name": "stderr",
     "output_type": "stream",
     "text": [
      "\r",
      "  8%|██▍                            | 769/10000 [20:39:25<377:54:11, 147.38s/it]"
     ]
    },
    {
     "name": "stdout",
     "output_type": "stream",
     "text": [
      "KR_5734003837의 데이터 수집이 완료되었습니다\n",
      "KR_5734004812의 데이터 수집을 시작합니다.\n",
      "api cost full : infinite loop start\n",
      "try 10 second wait time\n",
      "429\n",
      "try 10 second wait time\n",
      "429\n",
      "try 10 second wait time\n",
      "429\n",
      "try 10 second wait time\n",
      "429\n",
      "try 10 second wait time\n",
      "429\n",
      "try 10 second wait time\n",
      "429\n",
      "try 10 second wait time\n",
      "429\n",
      "try 10 second wait time\n",
      "429\n",
      "try 10 second wait time\n",
      "200\n",
      "total wait time :  94.46216201782227\n",
      "recovery api cost\n"
     ]
    },
    {
     "name": "stderr",
     "output_type": "stream",
     "text": [
      "\r",
      "  8%|██▍                            | 770/10000 [20:41:36<365:00:33, 142.37s/it]"
     ]
    },
    {
     "name": "stdout",
     "output_type": "stream",
     "text": [
      "KR_5734004812의 데이터 수집이 완료되었습니다\n",
      "KR_5734005008의 데이터 수집을 시작합니다.\n",
      "api cost full : infinite loop start\n",
      "try 10 second wait time\n",
      "429\n",
      "try 10 second wait time\n",
      "429\n",
      "try 10 second wait time\n",
      "429\n",
      "try 10 second wait time\n",
      "429\n",
      "try 10 second wait time\n",
      "429\n",
      "try 10 second wait time\n",
      "429\n",
      "try 10 second wait time\n",
      "429\n",
      "try 10 second wait time\n",
      "429\n",
      "try 10 second wait time\n",
      "200\n",
      "total wait time :  93.29583096504211\n",
      "recovery api cost\n"
     ]
    },
    {
     "name": "stderr",
     "output_type": "stream",
     "text": [
      "\r",
      "  8%|██▍                            | 771/10000 [20:43:32<344:38:13, 134.43s/it]"
     ]
    },
    {
     "name": "stdout",
     "output_type": "stream",
     "text": [
      "KR_5734005755의 데이터 수집을 시작합니다.\n",
      "api cost full : infinite loop start\n",
      "try 10 second wait time\n",
      "429\n",
      "try 10 second wait time\n",
      "429\n",
      "try 10 second wait time\n",
      "429\n",
      "try 10 second wait time\n",
      "429\n",
      "try 10 second wait time\n",
      "429\n",
      "try 10 second wait time\n",
      "429\n",
      "try 10 second wait time\n",
      "429\n",
      "try 10 second wait time\n",
      "429\n",
      "try 10 second wait time\n",
      "429\n",
      "try 10 second wait time\n",
      "200\n",
      "total wait time :  105.24953007698059\n",
      "recovery api cost\n",
      "api cost full : infinite loop start\n",
      "try 10 second wait time\n",
      "429\n",
      "try 10 second wait time\n",
      "429\n",
      "try 10 second wait time\n",
      "429\n",
      "try 10 second wait time\n",
      "429\n",
      "try 10 second wait time\n",
      "429\n",
      "try 10 second wait time\n",
      "429\n",
      "try 10 second wait time\n",
      "429\n",
      "try 10 second wait time\n",
      "429\n",
      "try 10 second wait time\n",
      "429\n",
      "try 10 second wait time\n",
      "429\n",
      "try 10 second wait time\n",
      "200\n",
      "total wait time :  114.39400815963745\n",
      "recovery api cost\n"
     ]
    },
    {
     "name": "stderr",
     "output_type": "stream",
     "text": [
      "\r",
      "  8%|██▍                            | 772/10000 [20:47:27<422:17:55, 164.75s/it]"
     ]
    },
    {
     "name": "stdout",
     "output_type": "stream",
     "text": [
      "KR_5734005755의 데이터 수집이 완료되었습니다\n",
      "KR_5734005912의 데이터 수집을 시작합니다.\n",
      "api cost full : infinite loop start\n",
      "try 10 second wait time\n",
      "429\n",
      "try 10 second wait time\n",
      "429\n",
      "try 10 second wait time\n",
      "429\n",
      "try 10 second wait time\n",
      "429\n",
      "try 10 second wait time\n",
      "429\n",
      "try 10 second wait time\n",
      "429\n",
      "try 10 second wait time\n",
      "429\n",
      "try 10 second wait time\n",
      "429\n",
      "try 10 second wait time\n",
      "429\n",
      "try 10 second wait time\n",
      "429\n",
      "try 10 second wait time\n",
      "200\n",
      "total wait time :  113.93923878669739\n",
      "recovery api cost\n"
     ]
    },
    {
     "name": "stderr",
     "output_type": "stream",
     "text": [
      "\r",
      "  8%|██▍                            | 773/10000 [20:49:37<395:02:21, 154.13s/it]"
     ]
    },
    {
     "name": "stdout",
     "output_type": "stream",
     "text": [
      "KR_5734005912의 데이터 수집이 완료되었습니다\n",
      "KR_5734005939의 데이터 수집을 시작합니다.\n",
      "api cost full : infinite loop start\n",
      "try 10 second wait time\n",
      "429\n",
      "try 10 second wait time\n",
      "429\n",
      "try 10 second wait time\n",
      "429\n",
      "try 10 second wait time\n",
      "429\n",
      "try 10 second wait time\n",
      "429\n",
      "try 10 second wait time\n",
      "429\n",
      "try 10 second wait time\n",
      "429\n",
      "try 10 second wait time\n",
      "429\n",
      "try 10 second wait time\n",
      "429\n",
      "try 10 second wait time\n",
      "200\n",
      "total wait time :  105.84125018119812\n",
      "recovery api cost\n"
     ]
    },
    {
     "name": "stderr",
     "output_type": "stream",
     "text": [
      "\r",
      "  8%|██▍                            | 774/10000 [20:51:41<372:26:23, 145.33s/it]"
     ]
    },
    {
     "name": "stdout",
     "output_type": "stream",
     "text": [
      "KR_5734005939의 데이터 수집이 완료되었습니다\n",
      "KR_5734005940의 데이터 수집을 시작합니다.\n"
     ]
    },
    {
     "name": "stderr",
     "output_type": "stream",
     "text": [
      "\r",
      "  8%|██▍                            | 775/10000 [20:51:47<264:49:22, 103.35s/it]"
     ]
    },
    {
     "name": "stdout",
     "output_type": "stream",
     "text": [
      "KR_5734008135의 데이터 수집을 시작합니다.\n",
      "api cost full : infinite loop start\n",
      "try 10 second wait time\n",
      "429\n",
      "try 10 second wait time\n",
      "429\n",
      "try 10 second wait time\n",
      "429\n",
      "try 10 second wait time\n",
      "429\n",
      "try 10 second wait time\n",
      "429\n",
      "try 10 second wait time\n",
      "429\n",
      "try 10 second wait time\n",
      "429\n",
      "try 10 second wait time\n",
      "429\n",
      "try 10 second wait time\n",
      "429\n",
      "try 10 second wait time\n",
      "200\n",
      "total wait time :  103.52483415603638\n",
      "recovery api cost\n"
     ]
    },
    {
     "name": "stderr",
     "output_type": "stream",
     "text": [
      "\r",
      "  8%|██▍                            | 776/10000 [20:53:47<278:06:30, 108.54s/it]"
     ]
    },
    {
     "name": "stdout",
     "output_type": "stream",
     "text": [
      "KR_5734008135의 데이터 수집이 완료되었습니다\n",
      "KR_5734008602의 데이터 수집을 시작합니다.\n",
      "api cost full : infinite loop start\n",
      "try 10 second wait time\n",
      "429\n",
      "try 10 second wait time\n",
      "429\n",
      "try 10 second wait time\n",
      "429\n",
      "try 10 second wait time\n",
      "429\n",
      "try 10 second wait time\n",
      "429\n",
      "try 10 second wait time\n",
      "429\n",
      "try 10 second wait time\n",
      "429\n",
      "try 10 second wait time\n",
      "429\n",
      "try 10 second wait time\n",
      "429\n",
      "try 10 second wait time\n",
      "200\n",
      "total wait time :  105.24574685096741\n",
      "recovery api cost\n"
     ]
    },
    {
     "name": "stderr",
     "output_type": "stream",
     "text": [
      "\r",
      "  8%|██▍                            | 777/10000 [20:55:54<291:46:45, 113.89s/it]"
     ]
    },
    {
     "name": "stdout",
     "output_type": "stream",
     "text": [
      "KR_5734010781의 데이터 수집을 시작합니다.\n",
      "api cost full : infinite loop start\n",
      "try 10 second wait time\n",
      "429\n",
      "try 10 second wait time\n",
      "429\n",
      "try 10 second wait time\n",
      "429\n",
      "try 10 second wait time\n",
      "429\n",
      "try 10 second wait time\n",
      "429\n",
      "try 10 second wait time\n",
      "429\n",
      "try 10 second wait time\n",
      "429\n",
      "try 10 second wait time\n",
      "429\n",
      "try 10 second wait time\n",
      "429\n",
      "try 10 second wait time\n",
      "200\n",
      "total wait time :  102.67653512954712\n",
      "recovery api cost\n",
      "api cost full : infinite loop start\n",
      "try 10 second wait time\n",
      "429\n",
      "try 10 second wait time\n",
      "429\n",
      "try 10 second wait time\n",
      "429\n",
      "try 10 second wait time\n",
      "429\n",
      "try 10 second wait time\n",
      "429\n",
      "try 10 second wait time\n",
      "429\n",
      "try 10 second wait time\n",
      "429\n",
      "try 10 second wait time\n",
      "429\n",
      "try 10 second wait time\n",
      "429\n",
      "try 10 second wait time\n",
      "200\n",
      "total wait time :  103.92335104942322\n",
      "recovery api cost\n"
     ]
    },
    {
     "name": "stderr",
     "output_type": "stream",
     "text": [
      "\r",
      "  8%|██▍                            | 778/10000 [20:59:40<378:06:46, 147.60s/it]"
     ]
    },
    {
     "name": "stdout",
     "output_type": "stream",
     "text": [
      "KR_5734010781의 데이터 수집이 완료되었습니다\n",
      "KR_5734011156의 데이터 수집을 시작합니다.\n",
      "api cost full : infinite loop start\n",
      "try 10 second wait time\n",
      "429\n",
      "try 10 second wait time\n",
      "429\n",
      "try 10 second wait time\n",
      "429\n",
      "try 10 second wait time\n",
      "429\n",
      "try 10 second wait time\n",
      "429\n",
      "try 10 second wait time\n",
      "429\n",
      "try 10 second wait time\n",
      "429\n",
      "try 10 second wait time\n",
      "429\n",
      "try 10 second wait time\n",
      "429\n",
      "try 10 second wait time\n",
      "200\n",
      "total wait time :  102.82207894325256\n",
      "recovery api cost\n"
     ]
    },
    {
     "name": "stderr",
     "output_type": "stream",
     "text": [
      "\r",
      "  8%|██▍                            | 779/10000 [21:01:46<361:05:54, 140.98s/it]"
     ]
    },
    {
     "name": "stdout",
     "output_type": "stream",
     "text": [
      "KR_5734011156의 데이터 수집이 완료되었습니다\n",
      "KR_5734011451의 데이터 수집을 시작합니다.\n"
     ]
    },
    {
     "name": "stderr",
     "output_type": "stream",
     "text": [
      "\r",
      "  8%|██▍                            | 780/10000 [21:01:55<260:13:14, 101.60s/it]"
     ]
    },
    {
     "name": "stdout",
     "output_type": "stream",
     "text": [
      "KR_5734011526의 데이터 수집을 시작합니다.\n",
      "api cost full : infinite loop start\n",
      "try 10 second wait time\n",
      "429\n",
      "try 10 second wait time\n",
      "429\n",
      "try 10 second wait time\n",
      "429\n",
      "try 10 second wait time\n",
      "429\n",
      "try 10 second wait time\n",
      "429\n",
      "try 10 second wait time\n",
      "429\n",
      "try 10 second wait time\n",
      "429\n",
      "try 10 second wait time\n",
      "429\n",
      "try 10 second wait time\n",
      "429\n",
      "try 10 second wait time\n",
      "200\n",
      "total wait time :  103.24428391456604\n",
      "recovery api cost\n"
     ]
    },
    {
     "name": "stderr",
     "output_type": "stream",
     "text": [
      "\r",
      "  8%|██▍                            | 781/10000 [21:03:53<272:31:57, 106.42s/it]"
     ]
    },
    {
     "name": "stdout",
     "output_type": "stream",
     "text": [
      "KR_5734011928의 데이터 수집을 시작합니다.\n",
      "api cost full : infinite loop start\n",
      "try 10 second wait time\n",
      "429\n",
      "try 10 second wait time\n",
      "429\n",
      "try 10 second wait time\n",
      "429\n",
      "try 10 second wait time\n",
      "429\n",
      "try 10 second wait time\n",
      "429\n",
      "try 10 second wait time\n",
      "429\n",
      "try 10 second wait time\n",
      "429\n",
      "try 10 second wait time\n",
      "429\n",
      "try 10 second wait time\n",
      "429\n",
      "try 10 second wait time\n",
      "429\n",
      "try 10 second wait time\n",
      "200\n",
      "total wait time :  113.57403683662415\n",
      "recovery api cost\n",
      "api cost full : infinite loop start\n",
      "try 10 second wait time\n",
      "429\n",
      "try 10 second wait time\n",
      "429\n",
      "try 10 second wait time\n",
      "429\n",
      "try 10 second wait time\n",
      "429\n",
      "try 10 second wait time\n",
      "429\n",
      "try 10 second wait time\n",
      "429\n",
      "try 10 second wait time\n",
      "429\n",
      "try 10 second wait time\n",
      "429\n",
      "try 10 second wait time\n",
      "429\n",
      "try 10 second wait time\n",
      "429\n",
      "try 10 second wait time\n",
      "200\n",
      "total wait time :  113.47871422767639\n",
      "recovery api cost\n"
     ]
    },
    {
     "name": "stderr",
     "output_type": "stream",
     "text": [
      "\r",
      "  8%|██▍                            | 782/10000 [21:08:00<380:41:36, 148.68s/it]"
     ]
    },
    {
     "name": "stdout",
     "output_type": "stream",
     "text": [
      "KR_5734011928의 데이터 수집이 완료되었습니다\n",
      "KR_5734012011의 데이터 수집을 시작합니다.\n"
     ]
    },
    {
     "name": "stderr",
     "output_type": "stream",
     "text": [
      "\r",
      "  8%|██▍                            | 783/10000 [21:08:09<273:34:54, 106.86s/it]"
     ]
    },
    {
     "name": "stdout",
     "output_type": "stream",
     "text": [
      "KR_5734012480의 데이터 수집을 시작합니다.\n",
      "api cost full : infinite loop start\n",
      "try 10 second wait time\n",
      "429\n",
      "try 10 second wait time\n",
      "429\n",
      "try 10 second wait time\n",
      "429\n",
      "try 10 second wait time\n",
      "429\n",
      "try 10 second wait time\n",
      "429\n",
      "try 10 second wait time\n",
      "429\n",
      "try 10 second wait time\n",
      "429\n",
      "try 10 second wait time\n",
      "429\n",
      "try 10 second wait time\n",
      "429\n",
      "try 10 second wait time\n",
      "429\n",
      "try 10 second wait time\n",
      "200\n",
      "total wait time :  113.84341406822205\n",
      "recovery api cost\n",
      "api cost full : infinite loop start\n",
      "try 10 second wait time\n",
      "429\n",
      "try 10 second wait time\n",
      "429\n",
      "try 10 second wait time\n",
      "429\n",
      "try 10 second wait time\n",
      "429\n",
      "try 10 second wait time\n",
      "429\n",
      "try 10 second wait time\n",
      "429\n",
      "try 10 second wait time\n",
      "429\n",
      "try 10 second wait time\n",
      "429\n",
      "try 10 second wait time\n",
      "429\n",
      "try 10 second wait time\n",
      "429\n",
      "try 10 second wait time\n",
      "200\n",
      "total wait time :  114.01816487312317\n",
      "recovery api cost\n"
     ]
    },
    {
     "name": "stderr",
     "output_type": "stream",
     "text": [
      "\r",
      "  8%|██▍                            | 784/10000 [21:12:13<378:23:54, 147.81s/it]"
     ]
    },
    {
     "name": "stdout",
     "output_type": "stream",
     "text": [
      "KR_5734012480의 데이터 수집이 완료되었습니다\n",
      "KR_5734013217의 데이터 수집을 시작합니다.\n"
     ]
    },
    {
     "name": "stderr",
     "output_type": "stream",
     "text": [
      "\r",
      "  8%|██▍                            | 785/10000 [21:12:22<272:02:08, 106.28s/it]"
     ]
    },
    {
     "name": "stdout",
     "output_type": "stream",
     "text": [
      "KR_5734013466의 데이터 수집을 시작합니다.\n",
      "api cost full : infinite loop start\n",
      "try 10 second wait time\n",
      "429\n",
      "try 10 second wait time\n",
      "429\n",
      "try 10 second wait time\n",
      "429\n",
      "try 10 second wait time\n",
      "429\n",
      "try 10 second wait time\n",
      "429\n",
      "try 10 second wait time\n",
      "429\n",
      "try 10 second wait time\n",
      "429\n",
      "try 10 second wait time\n",
      "429\n",
      "try 10 second wait time\n",
      "429\n",
      "try 10 second wait time\n",
      "429\n",
      "try 10 second wait time\n",
      "200\n",
      "total wait time :  113.19541811943054\n",
      "recovery api cost\n",
      "api cost full : infinite loop start\n",
      "try 10 second wait time\n",
      "429\n",
      "try 10 second wait time\n",
      "429\n",
      "try 10 second wait time\n",
      "429\n",
      "try 10 second wait time\n",
      "429\n",
      "try 10 second wait time\n",
      "429\n",
      "try 10 second wait time\n",
      "429\n",
      "try 10 second wait time\n",
      "429\n",
      "try 10 second wait time\n",
      "429\n",
      "try 10 second wait time\n",
      "429\n",
      "try 10 second wait time\n",
      "429\n",
      "try 10 second wait time\n",
      "200\n",
      "total wait time :  113.27957606315613\n",
      "recovery api cost\n"
     ]
    },
    {
     "name": "stderr",
     "output_type": "stream",
     "text": [
      "\r",
      "  8%|██▍                            | 786/10000 [21:16:22<374:49:48, 146.45s/it]"
     ]
    },
    {
     "name": "stdout",
     "output_type": "stream",
     "text": [
      "KR_5734013466의 데이터 수집이 완료되었습니다\n",
      "KR_5734013676의 데이터 수집을 시작합니다.\n",
      "api cost full : infinite loop start\n",
      "try 10 second wait time\n",
      "429\n",
      "try 10 second wait time\n",
      "429\n",
      "try 10 second wait time\n",
      "429\n",
      "try 10 second wait time\n",
      "429\n",
      "try 10 second wait time\n",
      "429\n",
      "try 10 second wait time\n",
      "429\n",
      "try 10 second wait time\n",
      "429\n",
      "try 10 second wait time\n",
      "429\n",
      "try 10 second wait time\n",
      "429\n",
      "try 10 second wait time\n",
      "429\n",
      "try 10 second wait time\n",
      "200\n",
      "total wait time :  113.50271892547607\n",
      "recovery api cost\n"
     ]
    },
    {
     "name": "stderr",
     "output_type": "stream",
     "text": [
      "\r",
      "  8%|██▍                            | 787/10000 [21:18:30<360:29:13, 140.86s/it]"
     ]
    },
    {
     "name": "stdout",
     "output_type": "stream",
     "text": [
      "KR_5734013676의 데이터 수집이 완료되었습니다\n",
      "KR_5734013884의 데이터 수집을 시작합니다.\n",
      "api cost full : infinite loop start\n",
      "try 10 second wait time\n",
      "429\n",
      "try 10 second wait time\n",
      "429\n",
      "try 10 second wait time\n",
      "429\n",
      "try 10 second wait time\n",
      "429\n",
      "try 10 second wait time\n",
      "429\n",
      "try 10 second wait time\n",
      "429\n",
      "try 10 second wait time\n",
      "429\n",
      "try 10 second wait time\n",
      "429\n",
      "try 10 second wait time\n",
      "429\n",
      "try 10 second wait time\n",
      "429\n",
      "try 10 second wait time\n",
      "200\n",
      "total wait time :  113.12236285209656\n",
      "recovery api cost\n"
     ]
    },
    {
     "name": "stderr",
     "output_type": "stream",
     "text": [
      "\r",
      "  8%|██▍                            | 788/10000 [21:20:38<350:27:53, 136.96s/it]"
     ]
    },
    {
     "name": "stdout",
     "output_type": "stream",
     "text": [
      "KR_5734013884의 데이터 수집이 완료되었습니다\n",
      "KR_5734014420의 데이터 수집을 시작합니다.\n",
      "api cost full : infinite loop start\n",
      "try 10 second wait time\n",
      "429\n",
      "try 10 second wait time\n",
      "429\n",
      "try 10 second wait time\n",
      "429\n",
      "try 10 second wait time\n",
      "429\n",
      "try 10 second wait time\n",
      "429\n",
      "try 10 second wait time\n",
      "429\n",
      "try 10 second wait time\n",
      "429\n",
      "try 10 second wait time\n",
      "429\n",
      "try 10 second wait time\n",
      "429\n",
      "try 10 second wait time\n",
      "429\n",
      "try 10 second wait time\n",
      "200\n",
      "total wait time :  113.72938394546509\n",
      "recovery api cost\n"
     ]
    },
    {
     "name": "stderr",
     "output_type": "stream",
     "text": [
      "\r",
      "  8%|██▍                            | 789/10000 [21:22:49<345:29:13, 135.03s/it]"
     ]
    },
    {
     "name": "stdout",
     "output_type": "stream",
     "text": [
      "KR_5734014420의 데이터 수집이 완료되었습니다\n",
      "KR_5734015981의 데이터 수집을 시작합니다.\n",
      "api cost full : infinite loop start\n",
      "try 10 second wait time\n",
      "429\n",
      "try 10 second wait time\n",
      "429\n",
      "try 10 second wait time\n",
      "429\n",
      "try 10 second wait time\n",
      "429\n",
      "try 10 second wait time\n",
      "429\n",
      "try 10 second wait time\n",
      "429\n",
      "try 10 second wait time\n",
      "429\n",
      "try 10 second wait time\n",
      "429\n",
      "try 10 second wait time\n",
      "429\n",
      "try 10 second wait time\n",
      "429\n",
      "try 10 second wait time\n",
      "200\n",
      "total wait time :  113.38082194328308\n",
      "recovery api cost\n"
     ]
    },
    {
     "name": "stderr",
     "output_type": "stream",
     "text": [
      "\r",
      "  8%|██▍                            | 790/10000 [21:24:57<340:08:38, 132.96s/it]"
     ]
    },
    {
     "name": "stdout",
     "output_type": "stream",
     "text": [
      "KR_5734015981의 데이터 수집이 완료되었습니다\n",
      "KR_5734016772의 데이터 수집을 시작합니다.\n",
      "api cost full : infinite loop start\n",
      "try 10 second wait time\n",
      "429\n",
      "try 10 second wait time\n",
      "429\n",
      "try 10 second wait time\n",
      "429\n",
      "try 10 second wait time\n",
      "429\n",
      "try 10 second wait time\n",
      "429\n",
      "try 10 second wait time\n",
      "429\n",
      "try 10 second wait time\n",
      "429\n",
      "try 10 second wait time\n",
      "429\n",
      "try 10 second wait time\n",
      "429\n",
      "try 10 second wait time\n",
      "429\n",
      "try 10 second wait time\n",
      "200\n",
      "total wait time :  113.32078170776367\n",
      "recovery api cost\n",
      "api cost full : infinite loop start\n",
      "try 10 second wait time\n",
      "429\n",
      "try 10 second wait time\n",
      "429\n",
      "try 10 second wait time\n",
      "429\n",
      "try 10 second wait time\n",
      "429\n",
      "try 10 second wait time\n",
      "429\n",
      "try 10 second wait time\n",
      "429\n",
      "try 10 second wait time\n",
      "429\n",
      "try 10 second wait time\n",
      "429\n",
      "try 10 second wait time\n",
      "429\n",
      "try 10 second wait time\n",
      "429\n",
      "try 10 second wait time\n",
      "200\n",
      "total wait time :  113.13512015342712\n",
      "recovery api cost\n"
     ]
    },
    {
     "name": "stderr",
     "output_type": "stream",
     "text": [
      "\r",
      "  8%|██▍                            | 791/10000 [21:29:00<425:09:35, 166.20s/it]"
     ]
    },
    {
     "name": "stdout",
     "output_type": "stream",
     "text": [
      "KR_5734016772의 데이터 수집이 완료되었습니다\n",
      "KR_5734017645의 데이터 수집을 시작합니다.\n"
     ]
    },
    {
     "name": "stderr",
     "output_type": "stream",
     "text": [
      "\r",
      "  8%|██▍                            | 792/10000 [21:29:13<306:55:22, 120.00s/it]"
     ]
    },
    {
     "name": "stdout",
     "output_type": "stream",
     "text": [
      "KR_5734018229의 데이터 수집을 시작합니다.\n",
      "api cost full : infinite loop start\n",
      "try 10 second wait time\n",
      "429\n",
      "try 10 second wait time\n",
      "429\n",
      "try 10 second wait time\n",
      "429\n",
      "try 10 second wait time\n",
      "429\n",
      "try 10 second wait time\n",
      "429\n",
      "try 10 second wait time\n",
      "429\n",
      "try 10 second wait time\n",
      "429\n",
      "try 10 second wait time\n",
      "429\n",
      "try 10 second wait time\n",
      "429\n",
      "try 10 second wait time\n",
      "200\n",
      "total wait time :  103.75598883628845\n",
      "recovery api cost\n",
      "api cost full : infinite loop start\n",
      "try 10 second wait time\n",
      "429\n",
      "try 10 second wait time\n",
      "429\n",
      "try 10 second wait time\n",
      "429\n",
      "try 10 second wait time\n",
      "429\n",
      "try 10 second wait time\n",
      "429\n",
      "try 10 second wait time\n",
      "429\n",
      "try 10 second wait time\n",
      "429\n",
      "try 10 second wait time\n",
      "429\n",
      "try 10 second wait time\n",
      "429\n",
      "try 10 second wait time\n",
      "429\n",
      "try 10 second wait time\n",
      "200\n",
      "total wait time :  114.99165725708008\n",
      "recovery api cost\n"
     ]
    },
    {
     "name": "stderr",
     "output_type": "stream",
     "text": [
      "\r",
      "  8%|██▍                            | 793/10000 [21:33:13<398:52:31, 155.96s/it]"
     ]
    },
    {
     "name": "stdout",
     "output_type": "stream",
     "text": [
      "KR_5734018229의 데이터 수집이 완료되었습니다\n",
      "KR_5734020460의 데이터 수집을 시작합니다.\n",
      "api cost full : infinite loop start\n",
      "try 10 second wait time\n",
      "429\n",
      "try 10 second wait time\n",
      "429\n",
      "try 10 second wait time\n",
      "429\n",
      "try 10 second wait time\n",
      "429\n",
      "try 10 second wait time\n",
      "429\n",
      "try 10 second wait time\n",
      "429\n",
      "try 10 second wait time\n",
      "429\n",
      "try 10 second wait time\n",
      "429\n",
      "try 10 second wait time\n",
      "429\n",
      "try 10 second wait time\n",
      "200\n",
      "total wait time :  103.56392812728882\n",
      "recovery api cost\n"
     ]
    },
    {
     "name": "stderr",
     "output_type": "stream",
     "text": [
      "\r",
      "  8%|██▍                            | 794/10000 [21:35:20<377:02:50, 147.44s/it]"
     ]
    },
    {
     "name": "stdout",
     "output_type": "stream",
     "text": [
      "KR_5734020460의 데이터 수집이 완료되었습니다\n",
      "KR_5734020597의 데이터 수집을 시작합니다.\n"
     ]
    },
    {
     "name": "stderr",
     "output_type": "stream",
     "text": [
      "\r",
      "  8%|██▍                            | 795/10000 [21:35:31<272:15:59, 106.48s/it]"
     ]
    },
    {
     "name": "stdout",
     "output_type": "stream",
     "text": [
      "KR_5734021284의 데이터 수집을 시작합니다.\n",
      "api cost full : infinite loop start\n",
      "try 10 second wait time\n",
      "429\n",
      "try 10 second wait time\n",
      "429\n",
      "try 10 second wait time\n",
      "429\n",
      "try 10 second wait time\n",
      "429\n",
      "try 10 second wait time\n",
      "429\n",
      "try 10 second wait time\n",
      "429\n",
      "try 10 second wait time\n",
      "429\n",
      "try 10 second wait time\n",
      "429\n",
      "try 10 second wait time\n",
      "429\n",
      "try 10 second wait time\n",
      "200\n",
      "total wait time :  102.78382301330566\n",
      "recovery api cost\n"
     ]
    },
    {
     "name": "stderr",
     "output_type": "stream",
     "text": [
      "\r",
      "  8%|██▍                            | 796/10000 [21:37:31<282:22:05, 110.44s/it]"
     ]
    },
    {
     "name": "stdout",
     "output_type": "stream",
     "text": [
      "KR_5734021327의 데이터 수집을 시작합니다.\n",
      "api cost full : infinite loop start\n",
      "try 10 second wait time\n",
      "429\n",
      "try 10 second wait time\n",
      "429\n",
      "try 10 second wait time\n",
      "429\n",
      "try 10 second wait time\n",
      "429\n",
      "try 10 second wait time\n",
      "429\n",
      "try 10 second wait time\n",
      "429\n",
      "try 10 second wait time\n",
      "429\n",
      "try 10 second wait time\n",
      "429\n",
      "try 10 second wait time\n",
      "429\n",
      "try 10 second wait time\n",
      "200\n",
      "total wait time :  103.73803806304932\n",
      "recovery api cost\n"
     ]
    },
    {
     "name": "stderr",
     "output_type": "stream",
     "text": [
      "\r",
      "  8%|██▍                            | 797/10000 [21:39:30<289:13:34, 113.14s/it]"
     ]
    },
    {
     "name": "stdout",
     "output_type": "stream",
     "text": [
      "KR_5734022983의 데이터 수집을 시작합니다.\n",
      "api cost full : infinite loop start\n",
      "try 10 second wait time\n",
      "429\n",
      "try 10 second wait time\n",
      "429\n",
      "try 10 second wait time\n",
      "429\n",
      "try 10 second wait time\n",
      "429\n",
      "try 10 second wait time\n",
      "429\n",
      "try 10 second wait time\n",
      "429\n",
      "try 10 second wait time\n",
      "429\n",
      "try 10 second wait time\n",
      "429\n",
      "try 10 second wait time\n",
      "429\n",
      "try 10 second wait time\n",
      "429\n",
      "try 10 second wait time\n",
      "200\n",
      "total wait time :  113.5287013053894\n",
      "recovery api cost\n"
     ]
    },
    {
     "name": "stderr",
     "output_type": "stream",
     "text": [
      "\r",
      "  8%|██▍                            | 798/10000 [21:41:37<299:29:05, 117.16s/it]"
     ]
    },
    {
     "name": "stdout",
     "output_type": "stream",
     "text": [
      "KR_5734023763의 데이터 수집을 시작합니다.\n",
      "api cost full : infinite loop start\n",
      "try 10 second wait time\n",
      "429\n",
      "try 10 second wait time\n",
      "429\n",
      "try 10 second wait time\n",
      "429\n",
      "try 10 second wait time\n",
      "429\n",
      "try 10 second wait time\n",
      "429\n",
      "try 10 second wait time\n",
      "429\n",
      "try 10 second wait time\n",
      "429\n",
      "try 10 second wait time\n",
      "429\n",
      "try 10 second wait time\n",
      "429\n",
      "try 10 second wait time\n",
      "429\n",
      "try 10 second wait time\n",
      "200\n",
      "total wait time :  114.49000096321106\n",
      "recovery api cost\n"
     ]
    },
    {
     "name": "stderr",
     "output_type": "stream",
     "text": [
      "\r",
      "  8%|██▍                            | 799/10000 [21:43:44<307:02:51, 120.14s/it]"
     ]
    },
    {
     "name": "stdout",
     "output_type": "stream",
     "text": [
      "KR_5734023986의 데이터 수집을 시작합니다.\n",
      "api cost full : infinite loop start\n",
      "try 10 second wait time\n",
      "429\n",
      "try 10 second wait time\n",
      "429\n",
      "try 10 second wait time\n",
      "429\n",
      "try 10 second wait time\n",
      "429\n",
      "try 10 second wait time\n",
      "429\n",
      "try 10 second wait time\n",
      "429\n",
      "try 10 second wait time\n",
      "429\n",
      "try 10 second wait time\n",
      "429\n",
      "try 10 second wait time\n",
      "429\n",
      "try 10 second wait time\n",
      "429\n",
      "try 10 second wait time\n",
      "200\n",
      "total wait time :  114.21633505821228\n",
      "recovery api cost\n"
     ]
    },
    {
     "name": "stderr",
     "output_type": "stream",
     "text": [
      "\r",
      "  8%|██▍                            | 800/10000 [21:45:52<313:20:07, 122.61s/it]"
     ]
    },
    {
     "name": "stdout",
     "output_type": "stream",
     "text": [
      "KR_5734024443의 데이터 수집을 시작합니다.\n",
      "api cost full : infinite loop start\n",
      "try 10 second wait time\n",
      "429\n",
      "try 10 second wait time\n",
      "429\n",
      "try 10 second wait time\n",
      "429\n",
      "try 10 second wait time\n",
      "429\n",
      "try 10 second wait time\n",
      "429\n",
      "try 10 second wait time\n",
      "429\n",
      "try 10 second wait time\n",
      "429\n",
      "try 10 second wait time\n",
      "429\n",
      "try 10 second wait time\n",
      "429\n",
      "try 10 second wait time\n",
      "429\n",
      "try 10 second wait time\n",
      "200\n",
      "total wait time :  112.91428112983704\n",
      "recovery api cost\n"
     ]
    },
    {
     "name": "stderr",
     "output_type": "stream",
     "text": [
      "\r",
      "  8%|██▍                            | 801/10000 [21:48:00<316:59:32, 124.05s/it]"
     ]
    },
    {
     "name": "stdout",
     "output_type": "stream",
     "text": [
      "KR_5734024693의 데이터 수집을 시작합니다.\n",
      "api cost full : infinite loop start\n",
      "try 10 second wait time\n",
      "429\n",
      "try 10 second wait time\n",
      "429\n",
      "try 10 second wait time\n",
      "429\n",
      "try 10 second wait time\n",
      "429\n",
      "try 10 second wait time\n",
      "429\n",
      "try 10 second wait time\n",
      "429\n",
      "try 10 second wait time\n",
      "429\n",
      "try 10 second wait time\n",
      "429\n",
      "try 10 second wait time\n",
      "429\n",
      "try 10 second wait time\n",
      "429\n",
      "try 10 second wait time\n",
      "200\n",
      "total wait time :  113.19876098632812\n",
      "recovery api cost\n",
      "api cost full : infinite loop start\n",
      "try 10 second wait time\n",
      "429\n",
      "try 10 second wait time\n",
      "429\n",
      "try 10 second wait time\n",
      "429\n",
      "try 10 second wait time\n",
      "429\n",
      "try 10 second wait time\n",
      "429\n",
      "try 10 second wait time\n",
      "429\n",
      "try 10 second wait time\n",
      "429\n",
      "try 10 second wait time\n",
      "429\n",
      "try 10 second wait time\n",
      "429\n",
      "try 10 second wait time\n",
      "429\n",
      "try 10 second wait time\n",
      "200\n",
      "total wait time :  113.46816396713257\n",
      "recovery api cost\n"
     ]
    },
    {
     "name": "stderr",
     "output_type": "stream",
     "text": [
      "\r",
      "  8%|██▍                            | 802/10000 [21:52:01<407:06:13, 159.34s/it]"
     ]
    },
    {
     "name": "stdout",
     "output_type": "stream",
     "text": [
      "KR_5734024693의 데이터 수집이 완료되었습니다\n",
      "KR_5734025464의 데이터 수집을 시작합니다.\n",
      "api cost full : infinite loop start\n",
      "try 10 second wait time\n",
      "429\n",
      "try 10 second wait time\n",
      "429\n",
      "try 10 second wait time\n",
      "429\n",
      "try 10 second wait time\n",
      "429\n",
      "try 10 second wait time\n",
      "429\n",
      "try 10 second wait time\n",
      "429\n",
      "try 10 second wait time\n",
      "429\n",
      "try 10 second wait time\n",
      "429\n",
      "try 10 second wait time\n",
      "429\n",
      "try 10 second wait time\n",
      "429\n",
      "try 10 second wait time\n",
      "200\n",
      "total wait time :  113.47509288787842\n",
      "recovery api cost\n"
     ]
    },
    {
     "name": "stderr",
     "output_type": "stream",
     "text": [
      "\r",
      "  8%|██▍                            | 803/10000 [21:54:09<383:08:25, 149.97s/it]"
     ]
    },
    {
     "name": "stdout",
     "output_type": "stream",
     "text": [
      "KR_5734025464의 데이터 수집이 완료되었습니다\n",
      "KR_5734026988의 데이터 수집을 시작합니다.\n",
      "api cost full : infinite loop start\n",
      "try 10 second wait time\n",
      "429\n",
      "try 10 second wait time\n",
      "429\n",
      "try 10 second wait time\n",
      "429\n",
      "try 10 second wait time\n",
      "429\n",
      "try 10 second wait time\n",
      "429\n",
      "try 10 second wait time\n",
      "429\n",
      "try 10 second wait time\n",
      "429\n",
      "try 10 second wait time\n",
      "429\n",
      "try 10 second wait time\n",
      "429\n",
      "try 10 second wait time\n",
      "429\n",
      "try 10 second wait time\n",
      "200\n",
      "total wait time :  113.28078007698059\n",
      "recovery api cost\n"
     ]
    },
    {
     "name": "stderr",
     "output_type": "stream",
     "text": [
      "\r",
      "  8%|██▍                            | 804/10000 [21:56:17<366:07:56, 143.33s/it]"
     ]
    },
    {
     "name": "stdout",
     "output_type": "stream",
     "text": [
      "KR_5734026988의 데이터 수집이 완료되었습니다\n",
      "KR_5734027115의 데이터 수집을 시작합니다.\n",
      "api cost full : infinite loop start\n",
      "try 10 second wait time\n",
      "429\n",
      "try 10 second wait time\n",
      "429\n",
      "try 10 second wait time\n",
      "429\n",
      "try 10 second wait time\n",
      "429\n",
      "try 10 second wait time\n",
      "429\n",
      "try 10 second wait time\n",
      "429\n",
      "try 10 second wait time\n",
      "429\n",
      "try 10 second wait time\n",
      "429\n",
      "try 10 second wait time\n",
      "429\n",
      "try 10 second wait time\n",
      "429\n",
      "try 10 second wait time\n",
      "200\n",
      "total wait time :  113.92277097702026\n",
      "recovery api cost\n"
     ]
    },
    {
     "name": "stderr",
     "output_type": "stream",
     "text": [
      "\r",
      "  8%|██▍                            | 805/10000 [21:58:25<354:06:51, 138.64s/it]"
     ]
    },
    {
     "name": "stdout",
     "output_type": "stream",
     "text": [
      "KR_5734027115의 데이터 수집이 완료되었습니다\n",
      "KR_5734029519의 데이터 수집을 시작합니다.\n"
     ]
    },
    {
     "name": "stderr",
     "output_type": "stream",
     "text": [
      "\r",
      "  8%|██▌                             | 806/10000 [21:58:26<248:51:47, 97.44s/it]"
     ]
    },
    {
     "name": "stdout",
     "output_type": "stream",
     "text": [
      "KR_5734031884의 데이터 수집을 시작합니다.\n",
      "api cost full : infinite loop start\n",
      "try 10 second wait time\n",
      "429\n",
      "try 10 second wait time\n",
      "429\n",
      "try 10 second wait time\n",
      "429\n",
      "try 10 second wait time\n",
      "429\n",
      "try 10 second wait time\n",
      "429\n",
      "try 10 second wait time\n",
      "429\n",
      "try 10 second wait time\n",
      "429\n",
      "try 10 second wait time\n",
      "429\n",
      "try 10 second wait time\n",
      "429\n",
      "try 10 second wait time\n",
      "429\n",
      "try 10 second wait time\n",
      "200\n",
      "total wait time :  112.82850694656372\n",
      "recovery api cost\n"
     ]
    },
    {
     "name": "stderr",
     "output_type": "stream",
     "text": [
      "\r",
      "  8%|██▌                            | 807/10000 [22:00:31<270:06:25, 105.77s/it]"
     ]
    },
    {
     "name": "stdout",
     "output_type": "stream",
     "text": [
      "KR_5734031972의 데이터 수집을 시작합니다.\n",
      "api cost full : infinite loop start\n",
      "try 10 second wait time\n",
      "429\n",
      "try 10 second wait time\n",
      "429\n",
      "try 10 second wait time\n",
      "429\n",
      "try 10 second wait time\n",
      "429\n",
      "try 10 second wait time\n",
      "429\n",
      "try 10 second wait time\n",
      "429\n",
      "try 10 second wait time\n",
      "429\n",
      "try 10 second wait time\n",
      "429\n",
      "try 10 second wait time\n",
      "429\n",
      "try 10 second wait time\n",
      "429\n",
      "try 10 second wait time\n",
      "200\n",
      "total wait time :  113.43950295448303\n",
      "recovery api cost\n"
     ]
    },
    {
     "name": "stderr",
     "output_type": "stream",
     "text": [
      "\r",
      "  8%|██▌                            | 808/10000 [22:02:37<284:56:37, 111.60s/it]"
     ]
    },
    {
     "name": "stdout",
     "output_type": "stream",
     "text": [
      "KR_5734032661의 데이터 수집을 시작합니다.\n",
      "api cost full : infinite loop start\n",
      "try 10 second wait time\n",
      "429\n",
      "try 10 second wait time\n",
      "429\n",
      "try 10 second wait time\n",
      "429\n",
      "try 10 second wait time\n",
      "429\n",
      "try 10 second wait time\n",
      "429\n",
      "try 10 second wait time\n",
      "429\n",
      "try 10 second wait time\n",
      "429\n",
      "try 10 second wait time\n",
      "429\n",
      "try 10 second wait time\n",
      "429\n",
      "try 10 second wait time\n",
      "429\n",
      "try 10 second wait time\n",
      "200\n",
      "total wait time :  113.62057590484619\n",
      "recovery api cost\n"
     ]
    },
    {
     "name": "stderr",
     "output_type": "stream",
     "text": [
      "\r",
      "  8%|██▌                            | 809/10000 [22:04:42<295:32:07, 115.76s/it]"
     ]
    },
    {
     "name": "stdout",
     "output_type": "stream",
     "text": [
      "KR_5734032786의 데이터 수집을 시작합니다.\n",
      "api cost full : infinite loop start\n",
      "try 10 second wait time\n",
      "429\n",
      "try 10 second wait time\n",
      "429\n",
      "try 10 second wait time\n",
      "429\n",
      "try 10 second wait time\n",
      "429\n",
      "try 10 second wait time\n",
      "429\n",
      "try 10 second wait time\n",
      "429\n",
      "try 10 second wait time\n",
      "429\n",
      "try 10 second wait time\n",
      "429\n",
      "try 10 second wait time\n",
      "429\n",
      "try 10 second wait time\n",
      "429\n",
      "try 10 second wait time\n",
      "200\n",
      "total wait time :  113.77745008468628\n",
      "recovery api cost\n",
      "api cost full : infinite loop start\n",
      "try 10 second wait time\n",
      "429\n",
      "try 10 second wait time\n",
      "429\n",
      "try 10 second wait time\n",
      "429\n",
      "try 10 second wait time\n",
      "429\n",
      "try 10 second wait time\n",
      "429\n",
      "try 10 second wait time\n",
      "429\n",
      "try 10 second wait time\n",
      "429\n",
      "try 10 second wait time\n",
      "429\n",
      "try 10 second wait time\n",
      "429\n",
      "try 10 second wait time\n",
      "429\n",
      "try 10 second wait time\n",
      "200\n",
      "total wait time :  113.08734512329102\n",
      "recovery api cost\n"
     ]
    },
    {
     "name": "stderr",
     "output_type": "stream",
     "text": [
      "\r",
      "  8%|██▌                            | 810/10000 [22:08:47<394:03:06, 154.36s/it]"
     ]
    },
    {
     "name": "stdout",
     "output_type": "stream",
     "text": [
      "KR_5734032786의 데이터 수집이 완료되었습니다\n",
      "KR_5734033398의 데이터 수집을 시작합니다.\n",
      "api cost full : infinite loop start\n",
      "try 10 second wait time\n",
      "429\n",
      "try 10 second wait time\n",
      "429\n",
      "try 10 second wait time\n",
      "429\n",
      "try 10 second wait time\n",
      "429\n",
      "try 10 second wait time\n",
      "429\n",
      "try 10 second wait time\n",
      "429\n",
      "try 10 second wait time\n",
      "429\n",
      "try 10 second wait time\n",
      "429\n",
      "try 10 second wait time\n",
      "429\n",
      "try 10 second wait time\n",
      "429\n",
      "try 10 second wait time\n",
      "200\n",
      "total wait time :  113.1361711025238\n",
      "recovery api cost\n"
     ]
    },
    {
     "name": "stderr",
     "output_type": "stream",
     "text": [
      "\r",
      "  8%|██▌                            | 811/10000 [22:10:54<373:07:20, 146.18s/it]"
     ]
    },
    {
     "name": "stdout",
     "output_type": "stream",
     "text": [
      "KR_5734033398의 데이터 수집이 완료되었습니다\n",
      "KR_5734036013의 데이터 수집을 시작합니다.\n",
      "api cost full : infinite loop start\n",
      "try 10 second wait time\n",
      "429\n",
      "try 10 second wait time\n",
      "429\n",
      "try 10 second wait time\n",
      "429\n",
      "try 10 second wait time\n",
      "429\n",
      "try 10 second wait time\n",
      "429\n",
      "try 10 second wait time\n",
      "429\n",
      "try 10 second wait time\n",
      "429\n",
      "try 10 second wait time\n",
      "429\n",
      "try 10 second wait time\n",
      "429\n",
      "try 10 second wait time\n",
      "429\n",
      "try 10 second wait time\n",
      "200\n",
      "total wait time :  113.23737287521362\n",
      "recovery api cost\n"
     ]
    },
    {
     "name": "stderr",
     "output_type": "stream",
     "text": [
      "\r",
      "  8%|██▌                            | 812/10000 [22:13:06<362:40:52, 142.10s/it]"
     ]
    },
    {
     "name": "stdout",
     "output_type": "stream",
     "text": [
      "KR_5734036013의 데이터 수집이 완료되었습니다\n",
      "KR_5734036903의 데이터 수집을 시작합니다.\n",
      "api cost full : infinite loop start\n",
      "try 10 second wait time\n",
      "429\n",
      "try 10 second wait time\n",
      "429\n",
      "try 10 second wait time\n",
      "429\n",
      "try 10 second wait time\n",
      "429\n",
      "try 10 second wait time\n",
      "429\n",
      "try 10 second wait time\n",
      "429\n",
      "try 10 second wait time\n",
      "429\n",
      "try 10 second wait time\n",
      "429\n",
      "try 10 second wait time\n",
      "429\n",
      "try 10 second wait time\n",
      "429\n",
      "try 10 second wait time\n",
      "200\n",
      "total wait time :  113.99740386009216\n",
      "recovery api cost\n"
     ]
    },
    {
     "name": "stderr",
     "output_type": "stream",
     "text": [
      "\r",
      "  8%|██▌                            | 813/10000 [22:15:15<352:22:30, 138.08s/it]"
     ]
    },
    {
     "name": "stdout",
     "output_type": "stream",
     "text": [
      "KR_5734036903의 데이터 수집이 완료되었습니다\n",
      "KR_5734038265의 데이터 수집을 시작합니다.\n"
     ]
    },
    {
     "name": "stderr",
     "output_type": "stream",
     "text": [
      "\r",
      "  8%|██▌                             | 814/10000 [22:15:19<249:38:52, 97.84s/it]"
     ]
    },
    {
     "name": "stdout",
     "output_type": "stream",
     "text": [
      "KR_5734038822의 데이터 수집을 시작합니다.\n",
      "api cost full : infinite loop start\n",
      "try 10 second wait time\n",
      "429\n",
      "try 10 second wait time\n",
      "429\n",
      "try 10 second wait time\n",
      "429\n",
      "try 10 second wait time\n",
      "429\n",
      "try 10 second wait time\n",
      "429\n",
      "try 10 second wait time\n",
      "429\n",
      "try 10 second wait time\n",
      "429\n",
      "try 10 second wait time\n",
      "429\n",
      "try 10 second wait time\n",
      "429\n",
      "try 10 second wait time\n",
      "429\n",
      "try 10 second wait time\n",
      "200\n",
      "total wait time :  113.47130584716797\n",
      "recovery api cost\n",
      "api cost full : infinite loop start\n",
      "try 10 second wait time\n",
      "429\n",
      "try 10 second wait time\n",
      "429\n",
      "try 10 second wait time\n",
      "429\n",
      "try 10 second wait time\n",
      "429\n",
      "try 10 second wait time\n",
      "429\n",
      "try 10 second wait time\n",
      "429\n",
      "try 10 second wait time\n",
      "429\n",
      "try 10 second wait time\n",
      "429\n",
      "try 10 second wait time\n",
      "429\n",
      "try 10 second wait time\n",
      "429\n",
      "try 10 second wait time\n",
      "200\n",
      "total wait time :  113.28622198104858\n",
      "recovery api cost\n"
     ]
    },
    {
     "name": "stderr",
     "output_type": "stream",
     "text": [
      "\r",
      "  8%|██▌                            | 815/10000 [22:19:20<359:17:31, 140.82s/it]"
     ]
    },
    {
     "name": "stdout",
     "output_type": "stream",
     "text": [
      "KR_5734038822의 데이터 수집이 완료되었습니다\n",
      "KR_5734038827의 데이터 수집을 시작합니다.\n"
     ]
    },
    {
     "name": "stderr",
     "output_type": "stream",
     "text": [
      "\r",
      "  8%|██▌                            | 816/10000 [22:19:31<259:43:39, 101.81s/it]"
     ]
    },
    {
     "name": "stdout",
     "output_type": "stream",
     "text": [
      "KR_5734039978의 데이터 수집을 시작합니다.\n",
      "api cost full : infinite loop start\n",
      "try 10 second wait time\n",
      "429\n",
      "try 10 second wait time\n",
      "429\n",
      "try 10 second wait time\n",
      "429\n",
      "try 10 second wait time\n",
      "429\n",
      "try 10 second wait time\n",
      "429\n",
      "try 10 second wait time\n",
      "429\n",
      "try 10 second wait time\n",
      "429\n",
      "try 10 second wait time\n",
      "429\n",
      "try 10 second wait time\n",
      "429\n",
      "try 10 second wait time\n",
      "429\n",
      "try 10 second wait time\n",
      "200\n",
      "total wait time :  112.99766087532043\n",
      "recovery api cost\n"
     ]
    },
    {
     "name": "stderr",
     "output_type": "stream",
     "text": [
      "\r",
      "  8%|██▌                            | 817/10000 [22:21:34<276:14:32, 108.29s/it]"
     ]
    },
    {
     "name": "stdout",
     "output_type": "stream",
     "text": [
      "KR_5734040064의 데이터 수집을 시작합니다.\n",
      "api cost full : infinite loop start\n",
      "try 10 second wait time\n",
      "429\n",
      "try 10 second wait time\n",
      "429\n",
      "try 10 second wait time\n",
      "429\n",
      "try 10 second wait time\n",
      "429\n",
      "try 10 second wait time\n",
      "429\n",
      "try 10 second wait time\n",
      "429\n",
      "try 10 second wait time\n",
      "429\n",
      "try 10 second wait time\n",
      "429\n",
      "try 10 second wait time\n",
      "429\n",
      "try 10 second wait time\n",
      "429\n",
      "try 10 second wait time\n",
      "200\n",
      "total wait time :  112.87805199623108\n",
      "recovery api cost\n",
      "api cost full : infinite loop start\n",
      "try 10 second wait time\n",
      "429\n",
      "try 10 second wait time\n",
      "429\n",
      "try 10 second wait time\n",
      "429\n",
      "try 10 second wait time\n",
      "429\n",
      "try 10 second wait time\n",
      "429\n",
      "try 10 second wait time\n",
      "429\n",
      "try 10 second wait time\n",
      "429\n",
      "try 10 second wait time\n",
      "429\n",
      "try 10 second wait time\n",
      "429\n",
      "try 10 second wait time\n",
      "429\n",
      "try 10 second wait time\n",
      "200\n",
      "total wait time :  113.15887522697449\n",
      "recovery api cost\n"
     ]
    },
    {
     "name": "stderr",
     "output_type": "stream",
     "text": [
      "\r",
      "  8%|██▌                            | 818/10000 [22:25:34<376:32:30, 147.63s/it]"
     ]
    },
    {
     "name": "stdout",
     "output_type": "stream",
     "text": [
      "KR_5734040064의 데이터 수집이 완료되었습니다\n",
      "KR_5734040847의 데이터 수집을 시작합니다.\n"
     ]
    },
    {
     "name": "stderr",
     "output_type": "stream",
     "text": [
      "\r",
      "  8%|██▌                            | 819/10000 [22:25:43<270:50:24, 106.20s/it]"
     ]
    },
    {
     "name": "stdout",
     "output_type": "stream",
     "text": [
      "KR_5734041629의 데이터 수집을 시작합니다.\n",
      "api cost full : infinite loop start\n",
      "try 10 second wait time\n",
      "429\n",
      "try 10 second wait time\n",
      "429\n",
      "try 10 second wait time\n",
      "429\n",
      "try 10 second wait time\n",
      "429\n",
      "try 10 second wait time\n",
      "429\n",
      "try 10 second wait time\n",
      "429\n",
      "try 10 second wait time\n",
      "429\n",
      "try 10 second wait time\n",
      "429\n",
      "try 10 second wait time\n",
      "429\n",
      "try 10 second wait time\n",
      "429\n",
      "try 10 second wait time\n",
      "200\n",
      "total wait time :  113.36734390258789\n",
      "recovery api cost\n"
     ]
    },
    {
     "name": "stderr",
     "output_type": "stream",
     "text": [
      "\r",
      "  8%|██▌                            | 820/10000 [22:27:49<285:34:37, 111.99s/it]"
     ]
    },
    {
     "name": "stdout",
     "output_type": "stream",
     "text": [
      "KR_5734042163의 데이터 수집을 시작합니다.\n",
      "api cost full : infinite loop start\n",
      "try 10 second wait time\n",
      "429\n",
      "try 10 second wait time\n",
      "429\n",
      "try 10 second wait time\n",
      "429\n",
      "try 10 second wait time\n",
      "429\n",
      "try 10 second wait time\n",
      "429\n",
      "try 10 second wait time\n",
      "429\n",
      "try 10 second wait time\n",
      "429\n",
      "try 10 second wait time\n",
      "429\n",
      "try 10 second wait time\n",
      "429\n",
      "try 10 second wait time\n",
      "429\n",
      "try 10 second wait time\n",
      "200\n",
      "total wait time :  112.89801812171936\n",
      "recovery api cost\n"
     ]
    },
    {
     "name": "stderr",
     "output_type": "stream",
     "text": [
      "\r",
      "  8%|██▌                            | 821/10000 [22:29:53<295:11:57, 115.78s/it]"
     ]
    },
    {
     "name": "stdout",
     "output_type": "stream",
     "text": [
      "KR_5734042250의 데이터 수집을 시작합니다.\n",
      "api cost full : infinite loop start\n",
      "try 10 second wait time\n",
      "429\n",
      "try 10 second wait time\n",
      "429\n",
      "try 10 second wait time\n",
      "429\n",
      "try 10 second wait time\n",
      "429\n",
      "try 10 second wait time\n",
      "429\n",
      "try 10 second wait time\n",
      "429\n",
      "try 10 second wait time\n",
      "429\n",
      "try 10 second wait time\n",
      "429\n",
      "try 10 second wait time\n",
      "429\n",
      "try 10 second wait time\n",
      "429\n",
      "try 10 second wait time\n",
      "200\n",
      "total wait time :  112.92537760734558\n",
      "recovery api cost\n",
      "api cost full : infinite loop start\n",
      "try 10 second wait time\n",
      "429\n",
      "try 10 second wait time\n",
      "429\n",
      "try 10 second wait time\n",
      "429\n",
      "try 10 second wait time\n",
      "429\n",
      "try 10 second wait time\n",
      "429\n",
      "try 10 second wait time\n",
      "429\n",
      "try 10 second wait time\n",
      "429\n",
      "try 10 second wait time\n",
      "429\n",
      "try 10 second wait time\n",
      "429\n",
      "try 10 second wait time\n",
      "429\n",
      "try 10 second wait time\n",
      "200\n",
      "total wait time :  113.14728498458862\n",
      "recovery api cost\n"
     ]
    },
    {
     "name": "stderr",
     "output_type": "stream",
     "text": [
      "\r",
      "  8%|██▌                            | 822/10000 [22:33:53<390:12:36, 153.06s/it]"
     ]
    },
    {
     "name": "stdout",
     "output_type": "stream",
     "text": [
      "KR_5734042250의 데이터 수집이 완료되었습니다\n",
      "KR_5734042933의 데이터 수집을 시작합니다.\n",
      "api cost full : infinite loop start\n",
      "try 10 second wait time\n",
      "429\n",
      "try 10 second wait time\n",
      "429\n",
      "try 10 second wait time\n",
      "429\n",
      "try 10 second wait time\n",
      "429\n",
      "try 10 second wait time\n",
      "429\n",
      "try 10 second wait time\n",
      "429\n",
      "try 10 second wait time\n",
      "429\n",
      "try 10 second wait time\n",
      "429\n",
      "try 10 second wait time\n",
      "429\n",
      "try 10 second wait time\n",
      "429\n",
      "try 10 second wait time\n",
      "200\n",
      "total wait time :  114.01811408996582\n",
      "recovery api cost\n"
     ]
    },
    {
     "name": "stderr",
     "output_type": "stream",
     "text": [
      "\r",
      "  8%|██▌                            | 823/10000 [22:36:00<370:19:00, 145.27s/it]"
     ]
    },
    {
     "name": "stdout",
     "output_type": "stream",
     "text": [
      "KR_5734042933의 데이터 수집이 완료되었습니다\n",
      "KR_5734043300의 데이터 수집을 시작합니다.\n",
      "api cost full : infinite loop start\n",
      "try 10 second wait time\n",
      "429\n",
      "try 10 second wait time\n",
      "429\n",
      "try 10 second wait time\n",
      "429\n",
      "try 10 second wait time\n",
      "429\n",
      "try 10 second wait time\n",
      "429\n",
      "try 10 second wait time\n",
      "429\n",
      "try 10 second wait time\n",
      "429\n",
      "try 10 second wait time\n",
      "429\n",
      "try 10 second wait time\n",
      "429\n",
      "try 10 second wait time\n",
      "429\n",
      "try 10 second wait time\n",
      "200\n",
      "total wait time :  113.105801820755\n",
      "recovery api cost\n"
     ]
    },
    {
     "name": "stderr",
     "output_type": "stream",
     "text": [
      "\r",
      "  8%|██▌                            | 824/10000 [22:38:08<356:54:13, 140.02s/it]"
     ]
    },
    {
     "name": "stdout",
     "output_type": "stream",
     "text": [
      "KR_5734043300의 데이터 수집이 완료되었습니다\n",
      "KR_5734043611의 데이터 수집을 시작합니다.\n",
      "api cost full : infinite loop start\n",
      "try 10 second wait time\n",
      "429\n",
      "try 10 second wait time\n",
      "429\n",
      "try 10 second wait time\n",
      "429\n",
      "try 10 second wait time\n",
      "429\n",
      "try 10 second wait time\n",
      "429\n",
      "try 10 second wait time\n",
      "429\n",
      "try 10 second wait time\n",
      "429\n",
      "try 10 second wait time\n",
      "429\n",
      "try 10 second wait time\n",
      "429\n",
      "try 10 second wait time\n",
      "429\n",
      "try 10 second wait time\n",
      "200\n",
      "total wait time :  113.11168217658997\n",
      "recovery api cost\n"
     ]
    },
    {
     "name": "stderr",
     "output_type": "stream",
     "text": [
      "\r",
      "  8%|██▌                            | 825/10000 [22:40:16<347:53:49, 136.50s/it]"
     ]
    },
    {
     "name": "stdout",
     "output_type": "stream",
     "text": [
      "KR_5734043611의 데이터 수집이 완료되었습니다\n",
      "KR_5734044188의 데이터 수집을 시작합니다.\n",
      "api cost full : infinite loop start\n",
      "try 10 second wait time\n",
      "429\n",
      "try 10 second wait time\n",
      "429\n",
      "try 10 second wait time\n",
      "429\n",
      "try 10 second wait time\n",
      "429\n",
      "try 10 second wait time\n",
      "429\n",
      "try 10 second wait time\n",
      "429\n",
      "try 10 second wait time\n",
      "429\n",
      "try 10 second wait time\n",
      "429\n",
      "try 10 second wait time\n",
      "429\n",
      "try 10 second wait time\n",
      "429\n",
      "try 10 second wait time\n",
      "200\n",
      "total wait time :  113.79267311096191\n",
      "recovery api cost\n"
     ]
    },
    {
     "name": "stderr",
     "output_type": "stream",
     "text": [
      "\r",
      "  8%|██▌                            | 826/10000 [22:42:24<341:16:39, 133.92s/it]"
     ]
    },
    {
     "name": "stdout",
     "output_type": "stream",
     "text": [
      "KR_5734044188의 데이터 수집이 완료되었습니다\n",
      "KR_5734044280의 데이터 수집을 시작합니다.\n"
     ]
    },
    {
     "name": "stderr",
     "output_type": "stream",
     "text": [
      "\r",
      "  8%|██▋                             | 827/10000 [22:42:26<240:25:03, 94.35s/it]"
     ]
    },
    {
     "name": "stdout",
     "output_type": "stream",
     "text": [
      "KR_5734044329의 데이터 수집을 시작합니다.\n",
      "api cost full : infinite loop start\n",
      "try 10 second wait time\n",
      "429\n",
      "try 10 second wait time\n",
      "429\n",
      "try 10 second wait time\n",
      "429\n",
      "try 10 second wait time\n",
      "429\n",
      "try 10 second wait time\n",
      "429\n",
      "try 10 second wait time\n",
      "429\n",
      "try 10 second wait time\n",
      "429\n",
      "try 10 second wait time\n",
      "429\n",
      "try 10 second wait time\n",
      "429\n",
      "try 10 second wait time\n",
      "429\n",
      "try 10 second wait time\n",
      "200\n",
      "total wait time :  113.12531089782715\n",
      "recovery api cost\n"
     ]
    },
    {
     "name": "stderr",
     "output_type": "stream",
     "text": [
      "\r",
      "  8%|██▌                            | 828/10000 [22:44:32<264:04:52, 103.65s/it]"
     ]
    },
    {
     "name": "stdout",
     "output_type": "stream",
     "text": [
      "KR_5734044708의 데이터 수집을 시작합니다.\n",
      "api cost full : infinite loop start\n",
      "try 10 second wait time\n",
      "429\n",
      "try 10 second wait time\n",
      "429\n",
      "try 10 second wait time\n",
      "429\n",
      "try 10 second wait time\n",
      "429\n",
      "try 10 second wait time\n",
      "429\n",
      "try 10 second wait time\n",
      "429\n",
      "try 10 second wait time\n",
      "429\n",
      "try 10 second wait time\n",
      "429\n",
      "try 10 second wait time\n",
      "429\n",
      "try 10 second wait time\n",
      "429\n",
      "try 10 second wait time\n",
      "200\n",
      "total wait time :  112.92591309547424\n",
      "recovery api cost\n",
      "api cost full : infinite loop start\n",
      "try 10 second wait time\n",
      "429\n",
      "try 10 second wait time\n",
      "429\n",
      "try 10 second wait time\n",
      "429\n",
      "try 10 second wait time\n",
      "429\n",
      "try 10 second wait time\n",
      "429\n",
      "try 10 second wait time\n",
      "429\n",
      "try 10 second wait time\n",
      "429\n",
      "try 10 second wait time\n",
      "429\n",
      "try 10 second wait time\n",
      "429\n",
      "try 10 second wait time\n",
      "429\n",
      "try 10 second wait time\n",
      "200\n",
      "total wait time :  113.67283892631531\n",
      "recovery api cost\n"
     ]
    },
    {
     "name": "stderr",
     "output_type": "stream",
     "text": [
      "\r",
      "  8%|██▌                            | 829/10000 [22:48:33<369:23:27, 145.00s/it]"
     ]
    },
    {
     "name": "stdout",
     "output_type": "stream",
     "text": [
      "KR_5734044708의 데이터 수집이 완료되었습니다\n",
      "KR_5734044951의 데이터 수집을 시작합니다.\n",
      "api cost full : infinite loop start\n",
      "try 10 second wait time\n",
      "429\n",
      "try 10 second wait time\n",
      "429\n",
      "try 10 second wait time\n",
      "429\n",
      "try 10 second wait time\n",
      "429\n",
      "try 10 second wait time\n",
      "429\n",
      "try 10 second wait time\n",
      "429\n",
      "try 10 second wait time\n",
      "429\n",
      "try 10 second wait time\n",
      "429\n",
      "try 10 second wait time\n",
      "429\n",
      "try 10 second wait time\n",
      "429\n",
      "try 10 second wait time\n",
      "200\n",
      "total wait time :  112.87629818916321\n",
      "recovery api cost\n"
     ]
    },
    {
     "name": "stderr",
     "output_type": "stream",
     "text": [
      "\r",
      "  8%|██▌                            | 830/10000 [22:50:40<355:07:06, 139.41s/it]"
     ]
    },
    {
     "name": "stdout",
     "output_type": "stream",
     "text": [
      "KR_5734044951의 데이터 수집이 완료되었습니다\n",
      "KR_5734045062의 데이터 수집을 시작합니다.\n",
      "api cost full : infinite loop start\n",
      "try 10 second wait time\n",
      "429\n",
      "try 10 second wait time\n",
      "429\n",
      "try 10 second wait time\n",
      "429\n",
      "try 10 second wait time\n",
      "429\n",
      "try 10 second wait time\n",
      "429\n",
      "try 10 second wait time\n",
      "429\n",
      "try 10 second wait time\n",
      "429\n",
      "try 10 second wait time\n",
      "429\n",
      "try 10 second wait time\n",
      "429\n",
      "try 10 second wait time\n",
      "429\n",
      "try 10 second wait time\n",
      "200\n",
      "total wait time :  113.1147608757019\n",
      "recovery api cost\n"
     ]
    },
    {
     "name": "stderr",
     "output_type": "stream",
     "text": [
      "\r",
      "  8%|██▌                            | 831/10000 [22:52:45<344:36:41, 135.30s/it]"
     ]
    },
    {
     "name": "stdout",
     "output_type": "stream",
     "text": [
      "KR_5734045062의 데이터 수집이 완료되었습니다\n",
      "KR_5734046640의 데이터 수집을 시작합니다.\n"
     ]
    },
    {
     "name": "stderr",
     "output_type": "stream",
     "text": [
      "\r",
      "  8%|██▋                             | 832/10000 [22:52:50<245:10:08, 96.27s/it]"
     ]
    },
    {
     "name": "stdout",
     "output_type": "stream",
     "text": [
      "KR_5734047260의 데이터 수집을 시작합니다.\n",
      "api cost full : infinite loop start\n",
      "try 10 second wait time\n",
      "429\n",
      "try 10 second wait time\n",
      "429\n",
      "try 10 second wait time\n",
      "429\n",
      "try 10 second wait time\n",
      "429\n",
      "try 10 second wait time\n",
      "429\n",
      "try 10 second wait time\n",
      "429\n",
      "try 10 second wait time\n",
      "429\n",
      "try 10 second wait time\n",
      "429\n",
      "try 10 second wait time\n",
      "429\n",
      "try 10 second wait time\n",
      "429\n",
      "try 10 second wait time\n",
      "200\n",
      "total wait time :  113.02482986450195\n",
      "recovery api cost\n"
     ]
    },
    {
     "name": "stderr",
     "output_type": "stream",
     "text": [
      "\r",
      "  8%|██▌                            | 833/10000 [22:54:56<267:47:29, 105.17s/it]"
     ]
    },
    {
     "name": "stdout",
     "output_type": "stream",
     "text": [
      "KR_5734049123의 데이터 수집을 시작합니다.\n",
      "api cost full : infinite loop start\n",
      "try 10 second wait time\n",
      "429\n",
      "try 10 second wait time\n",
      "429\n",
      "try 10 second wait time\n",
      "429\n",
      "try 10 second wait time\n",
      "429\n",
      "try 10 second wait time\n",
      "429\n",
      "try 10 second wait time\n",
      "429\n",
      "try 10 second wait time\n",
      "429\n",
      "try 10 second wait time\n",
      "429\n",
      "try 10 second wait time\n",
      "429\n",
      "try 10 second wait time\n",
      "429\n",
      "try 10 second wait time\n",
      "200\n",
      "total wait time :  112.74866604804993\n",
      "recovery api cost\n"
     ]
    },
    {
     "name": "stderr",
     "output_type": "stream",
     "text": [
      "\r",
      "  8%|██▌                            | 834/10000 [22:57:02<283:00:48, 111.16s/it]"
     ]
    },
    {
     "name": "stdout",
     "output_type": "stream",
     "text": [
      "KR_5734049748의 데이터 수집을 시작합니다.\n",
      "api cost full : infinite loop start\n",
      "try 10 second wait time\n",
      "429\n",
      "try 10 second wait time\n",
      "429\n",
      "try 10 second wait time\n",
      "429\n",
      "try 10 second wait time\n",
      "429\n",
      "try 10 second wait time\n"
     ]
    }
   ],
   "source": [
    "from tracemalloc import stop\n",
    "import requests\n",
    "import json\n",
    "import time\n",
    "import pprint\n",
    "import pandas as pd\n",
    "from urllib import parse\n",
    "pp = pprint.PrettyPrinter(indent=4)\n",
    "request_header = {\n",
    "                    \"User-Agent\": \"Mozilla/5.0 (Windows NT 10.0; Win64; x64) AppleWebKit/537.36 (KHTML, like Gecko) Chrome/91.0.4472.164 Safari/537.36\",\n",
    "                    \"Accept-Language\": \"ko,en-US;q=0.9,en;q=0.8,es;q=0.7\",\n",
    "                    \"Accept-Charset\": \"application/x-www-form-urlencoded; charset=UTF-8\",\n",
    "                    \"Origin\": \"https://developer.riotgames.com\",\n",
    "                    \"X-Riot-Token\": 'RGAPI-73e288ef-e47e-4716-a487-13c0df8f9c8e'\n",
    "                }\n",
    "\n",
    "# for문 진행률 확인 라이브러리\n",
    "from tqdm import tqdm\n",
    "\n",
    "def check(url):\n",
    "    r = requests.get(url, headers=request_header)\n",
    "    if r.status_code == 200: # response가 정상이면 바로 맨 밑으로 이동하여 정상적으로 코드 실행\n",
    "        pass\n",
    "    \n",
    "    elif r.status_code == 429:\n",
    "        print('api cost full : infinite loop start')\n",
    "        start_time = time.time()\n",
    "        \n",
    "        while True: # 429error가 끝날 때까지 무한 루프\n",
    "            if r.status_code == 429:\n",
    "\n",
    "                print('try 10 second wait time')\n",
    "                time.sleep(10)\n",
    "\n",
    "                r = requests.get(url, headers=request_header)\n",
    "                print(r.status_code)\n",
    "\n",
    "            elif r.status_code == 200: #다시 response 200이면 loop escape\n",
    "                print('total wait time : ', time.time() - start_time)\n",
    "                print('recovery api cost')\n",
    "                break\n",
    "\n",
    "def check2(url):\n",
    "    r = requests.get(url, headers=request_header)\n",
    "    if r.status_code == 200: # response가 정상이면 바로 맨 밑으로 이동하여 정상적으로 코드 실행\n",
    "        m = '200, pass'\n",
    "        pass\n",
    "    elif r.status_code == 403:\n",
    "        m = '403, fail'\n",
    "    elif r.status_code == 429:\n",
    "        print('api cost full : infinite loop start')\n",
    "        start_time = time.time()\n",
    "        \n",
    "        while True: # 429error가 끝날 때까지 무한 루프\n",
    "            if r.status_code == 429:\n",
    "\n",
    "                print('try 10 second wait time')\n",
    "                time.sleep(10)\n",
    "\n",
    "                r = requests.get(url, headers=request_header)\n",
    "                print(r.status_code)\n",
    "\n",
    "            elif r.status_code == 200: #다시 response 200이면 loop escape\n",
    "                print('total wait time : ', time.time() - start_time)\n",
    "                print('recovery api cost')\n",
    "                m = 'pass'\n",
    "                break\n",
    "\n",
    "            else:\n",
    "                m = '알수없음 fail'\n",
    "                break\n",
    "    \n",
    "    else:\n",
    "        m = '알수없음 fail'\n",
    "    return m\n",
    "\n",
    "nick = '콩나물이좋'\n",
    "url_nick = f'https://kr.api.riotgames.com/lol/summoner/v4/summoners/by-name/{parse.quote(nick)}'\n",
    "m = check2(url_nick)\n",
    "if m == 'fail':\n",
    "    m = '소환사를 찾을 수 없습니다.'\n",
    "    print('소환사를 찾을 수 없습니다.')\n",
    "\n",
    "elif m == 'pass':\n",
    "    nick_to_id = requests.get(url_nick, headers=request_header).json()\n",
    "    input_id = nick_to_id['id']\n",
    "\n",
    "    url_game = f'https://kr.api.riotgames.com/lol/spectator/v4/active-games/by-summoner/{parse.quote(input_id)}'\n",
    "    m = check2(url_game)\n",
    "    \n",
    "    if m == 'fail':\n",
    "        m = '소환사가 게임중이 아닙니다'\n",
    "        print('소환사가 게임중이 아닙니다')\n",
    "\n",
    "    elif m == 'pass':\n",
    "\n",
    "        data = requests.get(url_game, headers=request_header).json()\n",
    "\n",
    "        dic = []\n",
    "\n",
    "        for i in range(0,10):\n",
    "            champ_id = data['participants'][i]['championId']\n",
    "            summoner_Id = data['participants'][i]['summonerId']\n",
    "            champ_status_url = f\"https://kr.api.riotgames.com/lol/champion-mastery/v4/champion-masteries/by-summoner/{parse.quote(summoner_Id)}/by-champion/{champ_id}\"\n",
    "            m = check2(champ_status_url)\n",
    "            print(m)\n",
    "            champ_status = requests.get(champ_status_url, headers=request_header).json()\n",
    "            champ_point = champ_status['championPoints']\n",
    "            dic.append(champ_id)\n",
    "            dic.append(champ_point)\n",
    "\n",
    "        from flask import Flask, render_template, request\n",
    "        import pickle\n",
    "        import sqlite3\n",
    "        import pandas as pd\n",
    "        from xgboost import XGBClassifier\n",
    "        #def create_app():\n",
    "\n",
    "        app = Flask(__name__)\n",
    "\n",
    "        model = None\n",
    "\n",
    "        with open('model4.pkl', 'rb') as file:\n",
    "            model = pickle.load(file)\n",
    "\n",
    "        columns = ['1', '1score', '2', '2score', '3', '3score', '4', '4score', '5', '5score', '6', '6score', '7', '7score', '8', '8score', '9', '9score', '10', '10score']\n",
    "        df = pd.DataFrame(columns = columns)\n",
    "        input_data = {\n",
    "                    '1' : dic[0],\n",
    "                    '1score' : dic[1],\n",
    "                    '2' : dic[2],\n",
    "                    '2score' :dic[3],\n",
    "                    '3' : dic[4],\n",
    "                    '3score' : dic[5],\n",
    "                    '4' : dic[6],\n",
    "                    '4score' : dic[7],\n",
    "                    '5' : dic[8],\n",
    "                    '5score' : dic[9],\n",
    "                    '6' : dic[10],\n",
    "                    '6score' : dic[11],\n",
    "                    '7' : dic[12],\n",
    "                    '7score' : dic[13],\n",
    "                    '8' : dic[14],\n",
    "                    '8score' : dic[15],\n",
    "                    '9' : dic[16],\n",
    "                    '9score' : dic[17],\n",
    "                    '10' : dic[18],\n",
    "                    '10score' : dic[19],\n",
    "                    }\n",
    "        X_test = df.append(input_data, ignore_index=True)\n",
    "        X_test = X_test.astype(int)\n",
    "        y_pred = list(model.predict(X_test))[0]\n",
    "        c=model.predict_proba(X_test).reshape(-1,1)\n",
    "\n",
    "        if y_pred == 200:\n",
    "            y_pred = '레드팀'\n",
    "        else:\n",
    "            y_pred = '블루팀'\n",
    "\n",
    "        print(f'예상승리팀={y_pred}, 예상 확률 블루팀={int(list(c[0])[0]*100)}%, 레드팀{int(list(c[1])[0]*100)}% ')"
   ]
  },
  {
   "cell_type": "code",
   "execution_count": null,
   "id": "4de28d90",
   "metadata": {},
   "outputs": [],
   "source": []
  }
 ],
 "metadata": {
  "kernelspec": {
   "display_name": "Python 3 (ipykernel)",
   "language": "python",
   "name": "python3"
  },
  "language_info": {
   "codemirror_mode": {
    "name": "ipython",
    "version": 3
   },
   "file_extension": ".py",
   "mimetype": "text/x-python",
   "name": "python",
   "nbconvert_exporter": "python",
   "pygments_lexer": "ipython3",
   "version": "3.9.7"
  }
 },
 "nbformat": 4,
 "nbformat_minor": 5
}
