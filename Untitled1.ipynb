{
 "cells": [
  {
   "cell_type": "code",
   "execution_count": 10,
   "id": "63d3c82e",
   "metadata": {},
   "outputs": [],
   "source": [
    "import pandas as pd\n",
    "col = ['win_team','1','1score','2','2score','3','3score','4','4score','5','5score']\n",
    "learn_data = pd.DataFrame(columns = col)"
   ]
  },
  {
   "cell_type": "code",
   "execution_count": 11,
   "id": "b59e16e2",
   "metadata": {},
   "outputs": [
    {
     "data": {
      "text/plain": [
       "['win_team',\n",
       " '1',\n",
       " '1score',\n",
       " '2',\n",
       " '2score',\n",
       " '3',\n",
       " '3score',\n",
       " '4',\n",
       " '4score',\n",
       " '5',\n",
       " '5score']"
      ]
     },
     "execution_count": 11,
     "metadata": {},
     "output_type": "execute_result"
    }
   ],
   "source": [
    "col"
   ]
  },
  {
   "cell_type": "code",
   "execution_count": 12,
   "id": "b89d9cf4",
   "metadata": {},
   "outputs": [
    {
     "data": {
      "text/html": [
       "<div>\n",
       "<style scoped>\n",
       "    .dataframe tbody tr th:only-of-type {\n",
       "        vertical-align: middle;\n",
       "    }\n",
       "\n",
       "    .dataframe tbody tr th {\n",
       "        vertical-align: top;\n",
       "    }\n",
       "\n",
       "    .dataframe thead th {\n",
       "        text-align: right;\n",
       "    }\n",
       "</style>\n",
       "<table border=\"1\" class=\"dataframe\">\n",
       "  <thead>\n",
       "    <tr style=\"text-align: right;\">\n",
       "      <th></th>\n",
       "      <th>win_team</th>\n",
       "      <th>1</th>\n",
       "      <th>1score</th>\n",
       "      <th>2</th>\n",
       "      <th>2score</th>\n",
       "      <th>3</th>\n",
       "      <th>3score</th>\n",
       "      <th>4</th>\n",
       "      <th>4score</th>\n",
       "      <th>5</th>\n",
       "      <th>5score</th>\n",
       "    </tr>\n",
       "  </thead>\n",
       "  <tbody>\n",
       "  </tbody>\n",
       "</table>\n",
       "</div>"
      ],
      "text/plain": [
       "Empty DataFrame\n",
       "Columns: [win_team, 1, 1score, 2, 2score, 3, 3score, 4, 4score, 5, 5score]\n",
       "Index: []"
      ]
     },
     "execution_count": 12,
     "metadata": {},
     "output_type": "execute_result"
    }
   ],
   "source": [
    "learn_data"
   ]
  },
  {
   "cell_type": "code",
   "execution_count": null,
   "id": "1f48ed51",
   "metadata": {},
   "outputs": [],
   "source": []
  }
 ],
 "metadata": {
  "kernelspec": {
   "display_name": "Python 3 (ipykernel)",
   "language": "python",
   "name": "python3"
  },
  "language_info": {
   "codemirror_mode": {
    "name": "ipython",
    "version": 3
   },
   "file_extension": ".py",
   "mimetype": "text/x-python",
   "name": "python",
   "nbconvert_exporter": "python",
   "pygments_lexer": "ipython3",
   "version": "3.9.7"
  }
 },
 "nbformat": 4,
 "nbformat_minor": 5
}
