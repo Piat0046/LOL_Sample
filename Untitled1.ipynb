{
 "cells": [
  {
   "cell_type": "code",
   "execution_count": 18,
   "id": "acd680c1",
   "metadata": {},
   "outputs": [
    {
     "data": {
      "text/plain": [
       "<function Connection.close>"
      ]
     },
     "execution_count": 18,
     "metadata": {},
     "output_type": "execute_result"
    }
   ],
   "source": [
    "import sqlite3\n",
    "\n",
    "conn = sqlite3.connect('loldata.db')\n",
    "cur = conn.cursor()\n",
    "\n",
    "cur.execute(\"DROP TABLE IF EXISTS Log_data;\")\n",
    "cur.execute(f\"\"\"CREATE TABLE Log_data (\n",
    "                \"ID\" INTEGER NOT NULL PRIMARY KEY,\n",
    "                \"Input_name\" NVARCHAR(160) NOT NULL,\n",
    "                \"Ingame\" bool,\n",
    "                \"1pick_id\" NVARCHAR(160),\n",
    "                \"1pick\" NVARCHAR(160),\n",
    "                \"1score\" INTEGER,\n",
    "                \"2pick_id\" NVARCHAR(160),\n",
    "                \"2pick\" NVARCHAR(160),\n",
    "                \"2score\" INTEGER,\n",
    "                \"3pick_id\" NVARCHAR(160),\n",
    "                \"3pick\" NVARCHAR(160),\n",
    "                \"3score\" INTEGER,\n",
    "                \"4pick_id\" NVARCHAR(160),\n",
    "                \"4pick\" NVARCHAR(160),\n",
    "                \"4score\" INTEGER,\n",
    "                \"5pick_id\" NVARCHAR(160),\n",
    "                \"5pick\" NVARCHAR(160),\n",
    "                \"5score\" INTEGER,\n",
    "                \"6pick_id\" NVARCHAR(160),\n",
    "                \"6pick\" NVARCHAR(160),\n",
    "                \"6score\" INTEGER,\n",
    "                \"7pick_id\" NVARCHAR(160),\n",
    "                \"7pick\" NVARCHAR(160),\n",
    "                \"7score\" INTEGER,\n",
    "                \"8pick_id\" NVARCHAR(160),\n",
    "                \"8pick\" NVARCHAR(160),\n",
    "                \"8score\" INTEGER,\n",
    "                \"9pick_id\" NVARCHAR(160),\n",
    "                \"9pick\" NVARCHAR(160),\n",
    "                \"9score\" INTEGER,\n",
    "                \"10pick_id\" NVARCHAR(160),\n",
    "                \"10pick\" NVARCHAR(160),\n",
    "                \"10score\" INTEGER               \n",
    "                );\"\"\")\n",
    "conn.commit()\n",
    "cur.close\n",
    "conn.close\n",
    "\n"
   ]
  },
  {
   "cell_type": "code",
   "execution_count": 12,
   "id": "7809655a",
   "metadata": {},
   "outputs": [],
   "source": [
    "for i in range(len(gameId_list)):\n",
    "    try:\n",
    "        import sqlite3\n",
    "\n",
    "        conn = sqlite3.connect('loldata.db') # 데이터 베이스 생성\n",
    "        cur = conn.cursor()\n",
    "\n",
    "\n",
    "        cur.execute(f\"\"\"INSERT OR REPLACE INTO Matchdata(\"Id\", \"gameid\", \"win_team\",  \"1pick\", \"1score\",\n",
    "                                                                                        \"2pick\", \"2score\",\n",
    "                                                                                        \"3pick\", \"3score\",\n",
    "                                                                                        \"4pick\", \"4score\",\n",
    "                                                                                        \"5pick\", \"5score\",\n",
    "                                                                                        \"6pick\", \"6score\",\n",
    "                                                                                        \"7pick\", \"7score\",\n",
    "                                                                                        \"8pick\", \"8score\",\n",
    "                                                                                        \"9pick\", \"9score\",\n",
    "                                                                                        \"10pick\", \"10score\"\n",
    "                                                                            )\n",
    "                    VALUES (?,?,?,?,?,?,?,?,?,?,?,?,?,?,?,?,?,?,?,?,?,?,?);\"\"\", gameId_list[i])\n",
    "\n",
    "        conn.commit()\n",
    "        cur.close\n",
    "        conn.close\n",
    "    except:\n",
    "        pass\n"
   ]
  },
  {
   "cell_type": "code",
   "execution_count": 26,
   "id": "de7be12c",
   "metadata": {},
   "outputs": [
    {
     "name": "stdout",
     "output_type": "stream",
     "text": [
      "(0,)\n"
     ]
    }
   ],
   "source": [
    "import sqlite3\n",
    "\n",
    "conn = sqlite3.connect('loldata.db') # 데이터 베이스 생성\n",
    "cur = conn.cursor()\n",
    "cur.execute(\"SELECT COUNT(ld.ID) from Log_data ld\")\n",
    "print(cur.fetchone())"
   ]
  },
  {
   "cell_type": "code",
   "execution_count": 10,
   "id": "1d4074d3",
   "metadata": {},
   "outputs": [],
   "source": [
    "import psycopg2\n",
    "\n",
    "conn = psycopg2.connect(\n",
    "    host=\"satao.db.elephantsql.com\",\n",
    "    database=\"ljwsehvw\",\n",
    "    user=\"ljwsehvw\",\n",
    "    password=\"f8GNVPTHztqqk13i-cO5VQUVLbaHrBvm\"\n",
    "    )\n",
    "\n"
   ]
  },
  {
   "cell_type": "code",
   "execution_count": 14,
   "id": "1d7c1d87",
   "metadata": {},
   "outputs": [
    {
     "data": {
      "text/plain": [
       "<function connection.close>"
      ]
     },
     "execution_count": 14,
     "metadata": {},
     "output_type": "execute_result"
    }
   ],
   "source": [
    "cur = conn.cursor()\n",
    "cur.execute(\"ROLLBACK\")\n",
    "cur.execute(\"DROP TABLE IF EXISTS log_data;\")\n",
    "cur.execute(\"\"\"CREATE TABLE log_data (\n",
    "                \"ID\" INTEGER NOT NULL PRIMARY KEY,\n",
    "                \"Input_name\" VARCHAR(160) NOT NULL,\n",
    "                \"1pick_id\" VARCHAR(160),\n",
    "                \"1pick\" VARCHAR(160),\n",
    "                \"1score\" INTEGER,\n",
    "                \"2pick_id\" VARCHAR(160),\n",
    "                \"2pick\" VARCHAR(160),\n",
    "                \"2score\" INTEGER,\n",
    "                \"3pick_id\" VARCHAR(160),\n",
    "                \"3pick\" VARCHAR(160),\n",
    "                \"3score\" INTEGER,\n",
    "                \"4pick_id\" VARCHAR(160),\n",
    "                \"4pick\" VARCHAR(160),\n",
    "                \"4score\" INTEGER,\n",
    "                \"5pick_id\" VARCHAR(160),\n",
    "                \"5pick\" VARCHAR(160),\n",
    "                \"5score\" INTEGER,\n",
    "                \"6pick_id\" VARCHAR(160),\n",
    "                \"6pick\" VARCHAR(160),\n",
    "                \"6score\" INTEGER,\n",
    "                \"7pick_id\" VARCHAR(160),\n",
    "                \"7pick\" VARCHAR(160),\n",
    "                \"7score\" INTEGER,\n",
    "                \"8pick_id\" VARCHAR(160),\n",
    "                \"8pick\" VARCHAR(160),\n",
    "                \"8score\" INTEGER,\n",
    "                \"9pick_id\" VARCHAR(160),\n",
    "                \"9pick\" VARCHAR(160),\n",
    "                \"9score\" INTEGER,\n",
    "                \"10pick_id\" VARCHAR(160),\n",
    "                \"10pick\" VARCHAR(160),\n",
    "                \"10score\" INTEGER               \n",
    "                )\"\"\")\n",
    "conn.commit()\n",
    "cur.close\n",
    "conn.close"
   ]
  },
  {
   "cell_type": "code",
   "execution_count": null,
   "id": "e445dd2e",
   "metadata": {},
   "outputs": [],
   "source": []
  }
 ],
 "metadata": {
  "kernelspec": {
   "display_name": "Python 3 (ipykernel)",
   "language": "python",
   "name": "python3"
  },
  "language_info": {
   "codemirror_mode": {
    "name": "ipython",
    "version": 3
   },
   "file_extension": ".py",
   "mimetype": "text/x-python",
   "name": "python",
   "nbconvert_exporter": "python",
   "pygments_lexer": "ipython3",
   "version": "3.9.7"
  }
 },
 "nbformat": 4,
 "nbformat_minor": 5
}
