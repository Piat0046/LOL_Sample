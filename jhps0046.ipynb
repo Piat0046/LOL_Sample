{
 "cells": [
  {
   "cell_type": "code",
   "execution_count": null,
   "id": "06df9b35",
   "metadata": {},
   "outputs": [
    {
     "name": "stderr",
     "output_type": "stream",
     "text": [
      "\r",
      "  0%|                                                 | 0/10000 [00:00<?, ?it/s]"
     ]
    },
    {
     "name": "stdout",
     "output_type": "stream",
     "text": [
      "KR_5733280634의 데이터 수집을 시작합니다.\n"
     ]
    },
    {
     "name": "stderr",
     "output_type": "stream",
     "text": [
      "\r",
      "  0%|                                      | 1/10000 [00:13<36:56:24, 13.30s/it]"
     ]
    },
    {
     "name": "stdout",
     "output_type": "stream",
     "text": [
      "KR_5733280634의 데이터 수집이 완료되었습니다\n",
      "KR_5733280742의 데이터 수집을 시작합니다.\n"
     ]
    },
    {
     "name": "stderr",
     "output_type": "stream",
     "text": [
      "\r",
      "  0%|                                      | 2/10000 [00:29<42:07:12, 15.17s/it]"
     ]
    },
    {
     "name": "stdout",
     "output_type": "stream",
     "text": [
      "KR_5733280742의 데이터 수집이 완료되었습니다\n",
      "KR_5733281380의 데이터 수집을 시작합니다.\n",
      "api cost full : infinite loop start\n",
      "try 10 second wait time\n",
      "429\n",
      "try 10 second wait time\n",
      "429\n",
      "try 10 second wait time\n",
      "429\n",
      "try 10 second wait time\n",
      "429\n",
      "try 10 second wait time\n",
      "429\n",
      "try 10 second wait time\n",
      "429\n",
      "try 10 second wait time\n",
      "429\n",
      "try 10 second wait time\n",
      "429\n",
      "try 10 second wait time\n",
      "200\n",
      "total wait time :  92.31852316856384\n",
      "recovery api cost\n"
     ]
    },
    {
     "name": "stderr",
     "output_type": "stream",
     "text": [
      "\r",
      "  0%|                                     | 3/10000 [02:15<157:00:00, 56.54s/it]"
     ]
    },
    {
     "name": "stdout",
     "output_type": "stream",
     "text": [
      "KR_5733281380의 데이터 수집이 완료되었습니다\n",
      "KR_5733282593의 데이터 수집을 시작합니다.\n"
     ]
    },
    {
     "name": "stderr",
     "output_type": "stream",
     "text": [
      "\r",
      "  0%|                                     | 4/10000 [02:29<110:26:29, 39.77s/it]"
     ]
    },
    {
     "name": "stdout",
     "output_type": "stream",
     "text": [
      "KR_5733282593의 데이터 수집이 완료되었습니다\n",
      "KR_5733283520의 데이터 수집을 시작합니다.\n"
     ]
    },
    {
     "name": "stderr",
     "output_type": "stream",
     "text": [
      "\r",
      "  0%|                                      | 5/10000 [02:42<83:45:27, 30.17s/it]"
     ]
    },
    {
     "name": "stdout",
     "output_type": "stream",
     "text": [
      "KR_5733283520의 데이터 수집이 완료되었습니다\n",
      "KR_5733283790의 데이터 수집을 시작합니다.\n",
      "api cost full : infinite loop start\n",
      "try 10 second wait time\n",
      "429\n",
      "try 10 second wait time\n",
      "429\n",
      "try 10 second wait time\n",
      "429\n",
      "try 10 second wait time\n",
      "429\n",
      "try 10 second wait time\n",
      "429\n",
      "try 10 second wait time\n",
      "429\n",
      "try 10 second wait time\n",
      "429\n",
      "try 10 second wait time\n",
      "429\n",
      "try 10 second wait time\n",
      "200\n",
      "total wait time :  92.26737308502197\n",
      "recovery api cost\n"
     ]
    },
    {
     "name": "stderr",
     "output_type": "stream",
     "text": [
      "\r",
      "  0%|                                     | 6/10000 [04:29<155:41:09, 56.08s/it]"
     ]
    },
    {
     "name": "stdout",
     "output_type": "stream",
     "text": [
      "KR_5733283790의 데이터 수집이 완료되었습니다\n",
      "KR_5733284523의 데이터 수집을 시작합니다.\n"
     ]
    },
    {
     "name": "stderr",
     "output_type": "stream",
     "text": [
      "\r",
      "  0%|                                     | 7/10000 [04:42<117:15:36, 42.24s/it]"
     ]
    },
    {
     "name": "stdout",
     "output_type": "stream",
     "text": [
      "KR_5733284523의 데이터 수집이 완료되었습니다\n",
      "KR_5733286641의 데이터 수집을 시작합니다.\n",
      "api cost full : infinite loop start\n",
      "try 10 second wait time\n",
      "429\n",
      "try 10 second wait time\n",
      "429\n",
      "try 10 second wait time\n",
      "429\n",
      "try 10 second wait time\n",
      "429\n",
      "try 10 second wait time\n",
      "429\n",
      "try 10 second wait time\n",
      "429\n",
      "try 10 second wait time\n",
      "429\n",
      "try 10 second wait time\n",
      "429\n",
      "try 10 second wait time\n",
      "200\n",
      "total wait time :  92.24317693710327\n",
      "recovery api cost\n"
     ]
    },
    {
     "name": "stderr",
     "output_type": "stream",
     "text": [
      "\r",
      "  0%|                                     | 8/10000 [06:28<173:25:19, 62.48s/it]"
     ]
    },
    {
     "name": "stdout",
     "output_type": "stream",
     "text": [
      "KR_5733286641의 데이터 수집이 완료되었습니다\n",
      "KR_5733286895의 데이터 수집을 시작합니다.\n"
     ]
    },
    {
     "name": "stderr",
     "output_type": "stream",
     "text": [
      "\r",
      "  0%|                                     | 9/10000 [06:41<130:39:07, 47.08s/it]"
     ]
    },
    {
     "name": "stdout",
     "output_type": "stream",
     "text": [
      "KR_5733286895의 데이터 수집이 완료되었습니다\n",
      "KR_5733288089의 데이터 수집을 시작합니다.\n"
     ]
    },
    {
     "name": "stderr",
     "output_type": "stream",
     "text": [
      "\r",
      "  0%|                                    | 10/10000 [06:55<101:40:10, 36.64s/it]"
     ]
    },
    {
     "name": "stdout",
     "output_type": "stream",
     "text": [
      "KR_5733288089의 데이터 수집이 완료되었습니다\n",
      "KR_5733290985의 데이터 수집을 시작합니다.\n",
      "api cost full : infinite loop start\n",
      "try 10 second wait time\n",
      "429\n",
      "try 10 second wait time\n",
      "429\n",
      "try 10 second wait time\n",
      "429\n",
      "try 10 second wait time\n",
      "429\n",
      "try 10 second wait time\n",
      "429\n",
      "try 10 second wait time\n",
      "429\n",
      "try 10 second wait time\n",
      "429\n",
      "try 10 second wait time\n",
      "429\n",
      "try 10 second wait time\n",
      "200\n",
      "total wait time :  92.22867321968079\n",
      "recovery api cost\n"
     ]
    },
    {
     "name": "stderr",
     "output_type": "stream",
     "text": [
      "\r",
      "  0%|                                    | 11/10000 [08:40<159:58:20, 57.65s/it]"
     ]
    },
    {
     "name": "stdout",
     "output_type": "stream",
     "text": [
      "KR_5733290985의 데이터 수집이 완료되었습니다\n",
      "KR_5733291439의 데이터 수집을 시작합니다.\n"
     ]
    },
    {
     "name": "stderr",
     "output_type": "stream",
     "text": [
      "\r",
      "  0%|                                    | 12/10000 [08:53<122:26:17, 44.13s/it]"
     ]
    },
    {
     "name": "stdout",
     "output_type": "stream",
     "text": [
      "KR_5733291439의 데이터 수집이 완료되었습니다\n",
      "KR_5733291639의 데이터 수집을 시작합니다.\n",
      "api cost full : infinite loop start\n",
      "try 10 second wait time\n",
      "429\n",
      "try 10 second wait time\n",
      "429\n",
      "try 10 second wait time\n",
      "429\n",
      "try 10 second wait time\n",
      "429\n",
      "try 10 second wait time\n",
      "429\n",
      "try 10 second wait time\n",
      "429\n",
      "try 10 second wait time\n",
      "429\n",
      "try 10 second wait time\n",
      "429\n",
      "try 10 second wait time\n",
      "200\n",
      "total wait time :  92.40131998062134\n",
      "recovery api cost\n"
     ]
    },
    {
     "name": "stderr",
     "output_type": "stream",
     "text": [
      "\r",
      "  0%|                                    | 13/10000 [10:40<174:55:32, 63.06s/it]"
     ]
    },
    {
     "name": "stdout",
     "output_type": "stream",
     "text": [
      "KR_5733291639의 데이터 수집이 완료되었습니다\n",
      "KR_5733292265의 데이터 수집을 시작합니다.\n"
     ]
    },
    {
     "name": "stderr",
     "output_type": "stream",
     "text": [
      "\r",
      "  0%|                                    | 14/10000 [10:54<133:53:12, 48.27s/it]"
     ]
    },
    {
     "name": "stdout",
     "output_type": "stream",
     "text": [
      "KR_5733292265의 데이터 수집이 완료되었습니다\n",
      "KR_5733293681의 데이터 수집을 시작합니다.\n"
     ]
    },
    {
     "name": "stderr",
     "output_type": "stream",
     "text": [
      "\r",
      "  0%|                                    | 15/10000 [11:11<107:28:40, 38.75s/it]"
     ]
    },
    {
     "name": "stdout",
     "output_type": "stream",
     "text": [
      "KR_5733293681의 데이터 수집이 완료되었습니다\n",
      "KR_5733294549의 데이터 수집을 시작합니다.\n",
      "api cost full : infinite loop start\n",
      "try 10 second wait time\n",
      "429\n",
      "try 10 second wait time\n",
      "429\n",
      "try 10 second wait time\n",
      "429\n",
      "try 10 second wait time\n",
      "429\n",
      "try 10 second wait time\n",
      "429\n",
      "try 10 second wait time\n",
      "429\n",
      "try 10 second wait time\n",
      "429\n",
      "try 10 second wait time\n",
      "200\n",
      "total wait time :  81.96609497070312\n",
      "recovery api cost\n"
     ]
    },
    {
     "name": "stderr",
     "output_type": "stream",
     "text": [
      "\r",
      "  0%|                                    | 16/10000 [12:46<154:30:59, 55.72s/it]"
     ]
    },
    {
     "name": "stdout",
     "output_type": "stream",
     "text": [
      "KR_5733294549의 데이터 수집이 완료되었습니다\n",
      "KR_5733294578의 데이터 수집을 시작합니다.\n"
     ]
    },
    {
     "name": "stderr",
     "output_type": "stream",
     "text": [
      "\r",
      "  0%|                                    | 17/10000 [12:59<119:15:37, 43.01s/it]"
     ]
    },
    {
     "name": "stdout",
     "output_type": "stream",
     "text": [
      "KR_5733294578의 데이터 수집이 완료되었습니다\n",
      "KR_5733294603의 데이터 수집을 시작합니다.\n",
      "api cost full : infinite loop start\n",
      "try 10 second wait time\n",
      "429\n",
      "try 10 second wait time\n",
      "429\n",
      "try 10 second wait time\n",
      "429\n",
      "try 10 second wait time\n",
      "429\n",
      "try 10 second wait time\n",
      "429\n",
      "try 10 second wait time\n",
      "429\n",
      "try 10 second wait time\n",
      "429\n",
      "try 10 second wait time\n",
      "429\n",
      "try 10 second wait time\n",
      "200\n",
      "total wait time :  92.22653818130493\n",
      "recovery api cost\n"
     ]
    },
    {
     "name": "stderr",
     "output_type": "stream",
     "text": [
      "\r",
      "  0%|                                    | 18/10000 [14:44<170:38:38, 61.54s/it]"
     ]
    },
    {
     "name": "stdout",
     "output_type": "stream",
     "text": [
      "KR_5733294603의 데이터 수집이 완료되었습니다\n",
      "KR_5733294725의 데이터 수집을 시작합니다.\n"
     ]
    },
    {
     "name": "stderr",
     "output_type": "stream",
     "text": [
      "\r",
      "  0%|                                    | 19/10000 [14:57<130:17:30, 46.99s/it]"
     ]
    },
    {
     "name": "stdout",
     "output_type": "stream",
     "text": [
      "KR_5733294725의 데이터 수집이 완료되었습니다\n",
      "KR_5733295554의 데이터 수집을 시작합니다.\n"
     ]
    },
    {
     "name": "stderr",
     "output_type": "stream",
     "text": [
      "\r",
      "  0%|                                    | 20/10000 [15:11<102:51:41, 37.10s/it]"
     ]
    },
    {
     "name": "stdout",
     "output_type": "stream",
     "text": [
      "KR_5733295554의 데이터 수집이 완료되었습니다\n",
      "KR_5733298653의 데이터 수집을 시작합니다.\n",
      "api cost full : infinite loop start\n",
      "try 10 second wait time\n",
      "429\n",
      "try 10 second wait time\n",
      "429\n",
      "try 10 second wait time\n",
      "429\n",
      "try 10 second wait time\n",
      "429\n",
      "try 10 second wait time\n",
      "429\n",
      "try 10 second wait time\n",
      "429\n",
      "try 10 second wait time\n",
      "429\n",
      "try 10 second wait time\n",
      "429\n",
      "try 10 second wait time\n",
      "200\n",
      "total wait time :  92.56274199485779\n",
      "recovery api cost\n"
     ]
    },
    {
     "name": "stderr",
     "output_type": "stream",
     "text": [
      "\r",
      "  0%|                                    | 21/10000 [16:56<159:35:46, 57.58s/it]"
     ]
    },
    {
     "name": "stdout",
     "output_type": "stream",
     "text": [
      "KR_5733298653의 데이터 수집이 완료되었습니다\n",
      "KR_5733299381의 데이터 수집을 시작합니다.\n"
     ]
    },
    {
     "name": "stderr",
     "output_type": "stream",
     "text": [
      "\r",
      "  0%|                                    | 22/10000 [17:10<123:11:19, 44.45s/it]"
     ]
    },
    {
     "name": "stdout",
     "output_type": "stream",
     "text": [
      "KR_5733299381의 데이터 수집이 완료되었습니다\n",
      "KR_5733299872의 데이터 수집을 시작합니다.\n",
      "api cost full : infinite loop start\n",
      "try 10 second wait time\n",
      "429\n",
      "try 10 second wait time\n",
      "429\n",
      "try 10 second wait time\n",
      "429\n",
      "try 10 second wait time\n",
      "429\n",
      "try 10 second wait time\n",
      "429\n",
      "try 10 second wait time\n",
      "429\n",
      "try 10 second wait time\n",
      "429\n",
      "try 10 second wait time\n",
      "429\n",
      "try 10 second wait time\n",
      "200\n",
      "total wait time :  92.5871307849884\n",
      "recovery api cost\n"
     ]
    },
    {
     "name": "stderr",
     "output_type": "stream",
     "text": [
      "\r",
      "  0%|                                    | 23/10000 [18:57<174:41:26, 63.03s/it]"
     ]
    },
    {
     "name": "stdout",
     "output_type": "stream",
     "text": [
      "KR_5733299872의 데이터 수집이 완료되었습니다\n",
      "KR_5733300639의 데이터 수집을 시작합니다.\n"
     ]
    },
    {
     "name": "stderr",
     "output_type": "stream",
     "text": [
      "\r",
      "  0%|                                    | 24/10000 [19:10<133:14:45, 48.08s/it]"
     ]
    },
    {
     "name": "stdout",
     "output_type": "stream",
     "text": [
      "KR_5733300639의 데이터 수집이 완료되었습니다\n",
      "KR_5733301970의 데이터 수집을 시작합니다.\n"
     ]
    },
    {
     "name": "stderr",
     "output_type": "stream",
     "text": [
      "\r",
      "  0%|                                    | 25/10000 [19:24<104:50:43, 37.84s/it]"
     ]
    },
    {
     "name": "stdout",
     "output_type": "stream",
     "text": [
      "KR_5733301970의 데이터 수집이 완료되었습니다\n",
      "KR_5733303851의 데이터 수집을 시작합니다.\n",
      "api cost full : infinite loop start\n",
      "try 10 second wait time\n",
      "429\n",
      "try 10 second wait time\n",
      "429\n",
      "try 10 second wait time\n",
      "429\n",
      "try 10 second wait time\n",
      "429\n",
      "try 10 second wait time\n",
      "429\n",
      "try 10 second wait time\n",
      "429\n",
      "try 10 second wait time\n",
      "429\n",
      "try 10 second wait time\n",
      "429\n",
      "try 10 second wait time\n",
      "200\n",
      "total wait time :  92.25708198547363\n",
      "recovery api cost\n"
     ]
    },
    {
     "name": "stderr",
     "output_type": "stream",
     "text": [
      "\r",
      "  0%|                                    | 26/10000 [21:09<161:04:14, 58.14s/it]"
     ]
    },
    {
     "name": "stdout",
     "output_type": "stream",
     "text": [
      "KR_5733303851의 데이터 수집이 완료되었습니다\n",
      "KR_5733304540의 데이터 수집을 시작합니다.\n"
     ]
    },
    {
     "name": "stderr",
     "output_type": "stream",
     "text": [
      "\r",
      "  0%|                                    | 27/10000 [21:23<124:03:35, 44.78s/it]"
     ]
    },
    {
     "name": "stdout",
     "output_type": "stream",
     "text": [
      "KR_5733304540의 데이터 수집이 완료되었습니다\n",
      "KR_5733306163의 데이터 수집을 시작합니다.\n",
      "api cost full : infinite loop start\n",
      "try 10 second wait time\n",
      "429\n",
      "try 10 second wait time\n",
      "429\n",
      "try 10 second wait time\n",
      "429\n",
      "try 10 second wait time\n",
      "429\n",
      "try 10 second wait time\n",
      "429\n",
      "try 10 second wait time\n",
      "429\n",
      "try 10 second wait time\n",
      "429\n",
      "try 10 second wait time\n",
      "429\n",
      "try 10 second wait time\n",
      "200\n",
      "total wait time :  92.48293614387512\n",
      "recovery api cost\n"
     ]
    },
    {
     "name": "stderr",
     "output_type": "stream",
     "text": [
      "\r",
      "  0%|                                    | 28/10000 [23:09<175:16:23, 63.28s/it]"
     ]
    },
    {
     "name": "stdout",
     "output_type": "stream",
     "text": [
      "KR_5733306163의 데이터 수집이 완료되었습니다\n",
      "KR_5733307327의 데이터 수집을 시작합니다.\n"
     ]
    },
    {
     "name": "stderr",
     "output_type": "stream",
     "text": [
      "\r",
      "  0%|                                    | 29/10000 [23:23<134:08:15, 48.43s/it]"
     ]
    },
    {
     "name": "stdout",
     "output_type": "stream",
     "text": [
      "KR_5733307327의 데이터 수집이 완료되었습니다\n",
      "KR_5733308757의 데이터 수집을 시작합니다.\n"
     ]
    },
    {
     "name": "stderr",
     "output_type": "stream",
     "text": [
      "\r",
      "  0%|                                    | 30/10000 [23:36<105:03:28, 37.93s/it]"
     ]
    },
    {
     "name": "stdout",
     "output_type": "stream",
     "text": [
      "KR_5733308757의 데이터 수집이 완료되었습니다\n",
      "KR_5733309132의 데이터 수집을 시작합니다.\n",
      "api cost full : infinite loop start\n",
      "try 10 second wait time\n",
      "429\n",
      "try 10 second wait time\n",
      "429\n",
      "try 10 second wait time\n",
      "429\n",
      "try 10 second wait time\n",
      "429\n",
      "try 10 second wait time\n",
      "429\n",
      "try 10 second wait time\n",
      "429\n",
      "try 10 second wait time\n",
      "429\n",
      "try 10 second wait time\n",
      "429\n",
      "try 10 second wait time\n",
      "200\n",
      "total wait time :  92.25434708595276\n",
      "recovery api cost\n"
     ]
    },
    {
     "name": "stderr",
     "output_type": "stream",
     "text": [
      "\r",
      "  0%|                                    | 31/10000 [25:23<161:46:39, 58.42s/it]"
     ]
    },
    {
     "name": "stdout",
     "output_type": "stream",
     "text": [
      "KR_5733309132의 데이터 수집이 완료되었습니다\n",
      "KR_5733310656의 데이터 수집을 시작합니다.\n"
     ]
    },
    {
     "name": "stderr",
     "output_type": "stream",
     "text": [
      "\r",
      "  0%|                                    | 32/10000 [25:36<124:25:42, 44.94s/it]"
     ]
    },
    {
     "name": "stdout",
     "output_type": "stream",
     "text": [
      "KR_5733310656의 데이터 수집이 완료되었습니다\n",
      "KR_5733310735의 데이터 수집을 시작합니다.\n",
      "api cost full : infinite loop start\n",
      "try 10 second wait time\n",
      "429\n",
      "try 10 second wait time\n",
      "429\n",
      "try 10 second wait time\n",
      "429\n",
      "try 10 second wait time\n",
      "429\n",
      "try 10 second wait time\n",
      "429\n",
      "try 10 second wait time\n",
      "429\n",
      "try 10 second wait time\n",
      "429\n",
      "try 10 second wait time\n",
      "429\n",
      "try 10 second wait time\n",
      "200\n",
      "total wait time :  92.28237509727478\n",
      "recovery api cost\n"
     ]
    },
    {
     "name": "stderr",
     "output_type": "stream",
     "text": [
      "\r",
      "  0%|                                    | 33/10000 [27:22<175:21:10, 63.34s/it]"
     ]
    },
    {
     "name": "stdout",
     "output_type": "stream",
     "text": [
      "KR_5733310735의 데이터 수집이 완료되었습니다\n",
      "KR_5733311095의 데이터 수집을 시작합니다.\n"
     ]
    },
    {
     "name": "stderr",
     "output_type": "stream",
     "text": [
      "\r",
      "  0%|                                    | 34/10000 [27:36<134:17:30, 48.51s/it]"
     ]
    },
    {
     "name": "stdout",
     "output_type": "stream",
     "text": [
      "KR_5733311095의 데이터 수집이 완료되었습니다\n",
      "KR_5733311418의 데이터 수집을 시작합니다.\n"
     ]
    },
    {
     "name": "stderr",
     "output_type": "stream",
     "text": [
      "\r",
      "  0%|▏                                   | 35/10000 [27:49<104:56:42, 37.91s/it]"
     ]
    },
    {
     "name": "stdout",
     "output_type": "stream",
     "text": [
      "KR_5733311418의 데이터 수집이 완료되었습니다\n",
      "KR_5733311470의 데이터 수집을 시작합니다.\n",
      "api cost full : infinite loop start\n",
      "try 10 second wait time\n",
      "429\n",
      "try 10 second wait time\n",
      "429\n",
      "try 10 second wait time\n",
      "429\n",
      "try 10 second wait time\n",
      "429\n",
      "try 10 second wait time\n",
      "429\n",
      "try 10 second wait time\n",
      "429\n",
      "try 10 second wait time\n",
      "429\n",
      "try 10 second wait time\n",
      "429\n",
      "try 10 second wait time\n",
      "200\n",
      "total wait time :  92.32687497138977\n",
      "recovery api cost\n"
     ]
    },
    {
     "name": "stderr",
     "output_type": "stream",
     "text": [
      "\r",
      "  0%|▏                                   | 36/10000 [29:35<161:15:52, 58.26s/it]"
     ]
    },
    {
     "name": "stdout",
     "output_type": "stream",
     "text": [
      "KR_5733311470의 데이터 수집이 완료되었습니다\n",
      "KR_5733311939의 데이터 수집을 시작합니다.\n"
     ]
    },
    {
     "name": "stderr",
     "output_type": "stream",
     "text": [
      "\r",
      "  0%|▏                                   | 37/10000 [29:49<124:09:50, 44.87s/it]"
     ]
    },
    {
     "name": "stdout",
     "output_type": "stream",
     "text": [
      "KR_5733311939의 데이터 수집이 완료되었습니다\n",
      "KR_5733312605의 데이터 수집을 시작합니다.\n",
      "api cost full : infinite loop start\n",
      "try 10 second wait time\n",
      "429\n",
      "try 10 second wait time\n",
      "429\n",
      "try 10 second wait time\n",
      "429\n",
      "try 10 second wait time\n",
      "429\n",
      "try 10 second wait time\n",
      "429\n",
      "try 10 second wait time\n",
      "429\n",
      "try 10 second wait time\n",
      "429\n",
      "try 10 second wait time\n",
      "429\n",
      "try 10 second wait time\n",
      "200\n",
      "total wait time :  92.76251220703125\n",
      "recovery api cost\n"
     ]
    },
    {
     "name": "stderr",
     "output_type": "stream",
     "text": [
      "\r",
      "  0%|▏                                   | 38/10000 [31:36<175:29:47, 63.42s/it]"
     ]
    },
    {
     "name": "stdout",
     "output_type": "stream",
     "text": [
      "KR_5733312605의 데이터 수집이 완료되었습니다\n",
      "KR_5733315223의 데이터 수집을 시작합니다.\n"
     ]
    },
    {
     "name": "stderr",
     "output_type": "stream",
     "text": [
      "\r",
      "  0%|▏                                   | 39/10000 [31:49<133:55:07, 48.40s/it]"
     ]
    },
    {
     "name": "stdout",
     "output_type": "stream",
     "text": [
      "KR_5733315223의 데이터 수집이 완료되었습니다\n",
      "KR_5733315757의 데이터 수집을 시작합니다.\n"
     ]
    },
    {
     "name": "stderr",
     "output_type": "stream",
     "text": [
      "\r",
      "  0%|▏                                   | 40/10000 [32:03<105:02:46, 37.97s/it]"
     ]
    },
    {
     "name": "stdout",
     "output_type": "stream",
     "text": [
      "KR_5733315757의 데이터 수집이 완료되었습니다\n",
      "KR_5733316054의 데이터 수집을 시작합니다.\n",
      "api cost full : infinite loop start\n",
      "try 10 second wait time\n",
      "429\n",
      "try 10 second wait time\n",
      "429\n",
      "try 10 second wait time\n",
      "429\n",
      "try 10 second wait time\n",
      "429\n",
      "try 10 second wait time\n",
      "429\n",
      "try 10 second wait time\n",
      "429\n",
      "try 10 second wait time\n",
      "429\n",
      "try 10 second wait time\n",
      "429\n",
      "try 10 second wait time\n",
      "200\n",
      "total wait time :  94.4278929233551\n",
      "recovery api cost\n"
     ]
    },
    {
     "name": "stderr",
     "output_type": "stream",
     "text": [
      "\r",
      "  0%|▏                                   | 41/10000 [33:51<163:23:40, 59.06s/it]"
     ]
    },
    {
     "name": "stdout",
     "output_type": "stream",
     "text": [
      "KR_5733316054의 데이터 수집이 완료되었습니다\n",
      "KR_5733317769의 데이터 수집을 시작합니다.\n"
     ]
    },
    {
     "name": "stderr",
     "output_type": "stream",
     "text": [
      "\r",
      "  0%|▏                                   | 42/10000 [34:04<125:33:02, 45.39s/it]"
     ]
    },
    {
     "name": "stdout",
     "output_type": "stream",
     "text": [
      "KR_5733317769의 데이터 수집이 완료되었습니다\n",
      "KR_5733318421의 데이터 수집을 시작합니다.\n",
      "api cost full : infinite loop start\n",
      "try 10 second wait time\n",
      "429\n",
      "try 10 second wait time\n",
      "429\n",
      "try 10 second wait time\n",
      "429\n",
      "try 10 second wait time\n",
      "429\n",
      "try 10 second wait time\n",
      "429\n",
      "try 10 second wait time\n",
      "429\n",
      "try 10 second wait time\n",
      "429\n",
      "try 10 second wait time\n",
      "429\n",
      "try 10 second wait time\n",
      "200\n",
      "total wait time :  92.29076623916626\n",
      "recovery api cost\n"
     ]
    },
    {
     "name": "stderr",
     "output_type": "stream",
     "text": [
      "\r",
      "  0%|▏                                   | 43/10000 [35:50<175:33:05, 63.47s/it]"
     ]
    },
    {
     "name": "stdout",
     "output_type": "stream",
     "text": [
      "KR_5733318421의 데이터 수집이 완료되었습니다\n",
      "KR_5733318966의 데이터 수집을 시작합니다.\n"
     ]
    },
    {
     "name": "stderr",
     "output_type": "stream",
     "text": [
      "\r",
      "  0%|▏                                   | 44/10000 [36:03<133:36:56, 48.31s/it]"
     ]
    },
    {
     "name": "stdout",
     "output_type": "stream",
     "text": [
      "KR_5733318966의 데이터 수집이 완료되었습니다\n",
      "KR_5733319394의 데이터 수집을 시작합니다.\n"
     ]
    },
    {
     "name": "stderr",
     "output_type": "stream",
     "text": [
      "\r",
      "  0%|▏                                   | 45/10000 [36:18<105:38:31, 38.20s/it]"
     ]
    },
    {
     "name": "stdout",
     "output_type": "stream",
     "text": [
      "KR_5733319394의 데이터 수집이 완료되었습니다\n",
      "KR_5733319755의 데이터 수집을 시작합니다.\n",
      "api cost full : infinite loop start\n",
      "try 10 second wait time\n",
      "429\n",
      "try 10 second wait time\n",
      "429\n",
      "try 10 second wait time\n",
      "429\n",
      "try 10 second wait time\n",
      "429\n",
      "try 10 second wait time\n",
      "429\n",
      "try 10 second wait time\n",
      "429\n",
      "try 10 second wait time\n",
      "429\n",
      "try 10 second wait time\n",
      "429\n",
      "try 10 second wait time\n",
      "200\n",
      "total wait time :  92.25742697715759\n",
      "recovery api cost\n"
     ]
    },
    {
     "name": "stderr",
     "output_type": "stream",
     "text": [
      "\r",
      "  0%|▏                                   | 46/10000 [38:03<161:07:59, 58.28s/it]"
     ]
    },
    {
     "name": "stdout",
     "output_type": "stream",
     "text": [
      "KR_5733319755의 데이터 수집이 완료되었습니다\n",
      "KR_5733320448의 데이터 수집을 시작합니다.\n"
     ]
    },
    {
     "name": "stderr",
     "output_type": "stream",
     "text": [
      "\r",
      "  0%|▏                                   | 47/10000 [38:16<123:39:20, 44.73s/it]"
     ]
    },
    {
     "name": "stdout",
     "output_type": "stream",
     "text": [
      "KR_5733320448의 데이터 수집이 완료되었습니다\n",
      "KR_5733322561의 데이터 수집을 시작합니다.\n",
      "api cost full : infinite loop start\n",
      "try 10 second wait time\n",
      "429\n",
      "try 10 second wait time\n",
      "429\n",
      "try 10 second wait time\n",
      "429\n",
      "try 10 second wait time\n",
      "429\n",
      "try 10 second wait time\n",
      "429\n",
      "try 10 second wait time\n",
      "429\n",
      "try 10 second wait time\n",
      "429\n",
      "try 10 second wait time\n",
      "429\n",
      "try 10 second wait time\n",
      "200\n",
      "total wait time :  92.30526804924011\n",
      "recovery api cost\n"
     ]
    },
    {
     "name": "stderr",
     "output_type": "stream",
     "text": [
      "\r",
      "  0%|▏                                   | 48/10000 [40:01<173:43:59, 62.85s/it]"
     ]
    },
    {
     "name": "stdout",
     "output_type": "stream",
     "text": [
      "KR_5733322561의 데이터 수집이 완료되었습니다\n",
      "KR_5733327208의 데이터 수집을 시작합니다.\n"
     ]
    },
    {
     "name": "stderr",
     "output_type": "stream",
     "text": [
      "\r",
      "  0%|▏                                   | 49/10000 [40:14<132:29:35, 47.93s/it]"
     ]
    },
    {
     "name": "stdout",
     "output_type": "stream",
     "text": [
      "KR_5733327208의 데이터 수집이 완료되었습니다\n",
      "KR_5733327343의 데이터 수집을 시작합니다.\n"
     ]
    },
    {
     "name": "stderr",
     "output_type": "stream",
     "text": [
      "\r",
      "  0%|▏                                   | 50/10000 [40:28<104:06:59, 37.67s/it]"
     ]
    },
    {
     "name": "stdout",
     "output_type": "stream",
     "text": [
      "KR_5733327343의 데이터 수집이 완료되었습니다\n",
      "KR_5733328694의 데이터 수집을 시작합니다.\n",
      "api cost full : infinite loop start\n",
      "try 10 second wait time\n",
      "429\n",
      "try 10 second wait time\n",
      "429\n",
      "try 10 second wait time\n",
      "429\n",
      "try 10 second wait time\n",
      "429\n",
      "try 10 second wait time\n",
      "429\n",
      "try 10 second wait time\n",
      "429\n",
      "try 10 second wait time\n",
      "429\n",
      "try 10 second wait time\n",
      "429\n",
      "try 10 second wait time\n",
      "200\n",
      "total wait time :  92.2347400188446\n",
      "recovery api cost\n"
     ]
    },
    {
     "name": "stderr",
     "output_type": "stream",
     "text": [
      "\r",
      "  1%|▏                                   | 51/10000 [42:13<160:04:25, 57.92s/it]"
     ]
    },
    {
     "name": "stdout",
     "output_type": "stream",
     "text": [
      "KR_5733328694의 데이터 수집이 완료되었습니다\n",
      "KR_5733328839의 데이터 수집을 시작합니다.\n"
     ]
    },
    {
     "name": "stderr",
     "output_type": "stream",
     "text": [
      "\r",
      "  1%|▏                                   | 52/10000 [42:26<123:02:21, 44.53s/it]"
     ]
    },
    {
     "name": "stdout",
     "output_type": "stream",
     "text": [
      "KR_5733328839의 데이터 수집이 완료되었습니다\n",
      "KR_5733330681의 데이터 수집을 시작합니다.\n",
      "api cost full : infinite loop start\n",
      "try 10 second wait time\n",
      "429\n",
      "try 10 second wait time\n",
      "429\n",
      "try 10 second wait time\n",
      "429\n",
      "try 10 second wait time\n",
      "429\n",
      "try 10 second wait time\n",
      "429\n",
      "try 10 second wait time\n",
      "429\n",
      "try 10 second wait time\n",
      "429\n",
      "try 10 second wait time\n",
      "429\n",
      "try 10 second wait time\n",
      "200\n",
      "total wait time :  92.29181599617004\n",
      "recovery api cost\n"
     ]
    },
    {
     "name": "stderr",
     "output_type": "stream",
     "text": [
      "\r",
      "  1%|▏                                   | 53/10000 [44:12<173:26:18, 62.77s/it]"
     ]
    },
    {
     "name": "stdout",
     "output_type": "stream",
     "text": [
      "KR_5733330681의 데이터 수집이 완료되었습니다\n",
      "KR_5733335356의 데이터 수집을 시작합니다.\n"
     ]
    },
    {
     "name": "stderr",
     "output_type": "stream",
     "text": [
      "\r",
      "  1%|▏                                   | 54/10000 [44:25<132:24:35, 47.93s/it]"
     ]
    },
    {
     "name": "stdout",
     "output_type": "stream",
     "text": [
      "KR_5733335356의 데이터 수집이 완료되었습니다\n",
      "KR_5733336075의 데이터 수집을 시작합니다.\n"
     ]
    },
    {
     "name": "stderr",
     "output_type": "stream",
     "text": [
      "\r",
      "  1%|▏                                   | 55/10000 [44:38<103:50:34, 37.59s/it]"
     ]
    },
    {
     "name": "stdout",
     "output_type": "stream",
     "text": [
      "KR_5733336075의 데이터 수집이 완료되었습니다\n",
      "KR_5733336265의 데이터 수집을 시작합니다.\n",
      "api cost full : infinite loop start\n",
      "try 10 second wait time\n",
      "429\n",
      "try 10 second wait time\n",
      "429\n",
      "try 10 second wait time\n",
      "429\n",
      "try 10 second wait time\n",
      "429\n",
      "try 10 second wait time\n",
      "429\n",
      "try 10 second wait time\n",
      "429\n",
      "try 10 second wait time\n",
      "429\n",
      "try 10 second wait time\n",
      "429\n",
      "try 10 second wait time\n",
      "200\n",
      "total wait time :  92.34016418457031\n",
      "recovery api cost\n"
     ]
    },
    {
     "name": "stderr",
     "output_type": "stream",
     "text": [
      "\r",
      "  1%|▏                                   | 56/10000 [46:24<160:07:40, 57.97s/it]"
     ]
    },
    {
     "name": "stdout",
     "output_type": "stream",
     "text": [
      "KR_5733336265의 데이터 수집이 완료되었습니다\n",
      "KR_5733338597의 데이터 수집을 시작합니다.\n"
     ]
    },
    {
     "name": "stderr",
     "output_type": "stream",
     "text": [
      "\r",
      "  1%|▏                                   | 57/10000 [46:37<123:24:51, 44.68s/it]"
     ]
    },
    {
     "name": "stdout",
     "output_type": "stream",
     "text": [
      "KR_5733338597의 데이터 수집이 완료되었습니다\n",
      "KR_5733338758의 데이터 수집을 시작합니다.\n",
      "api cost full : infinite loop start\n",
      "try 10 second wait time\n",
      "429\n",
      "try 10 second wait time\n",
      "429\n",
      "try 10 second wait time\n",
      "429\n",
      "try 10 second wait time\n",
      "429\n",
      "try 10 second wait time\n",
      "429\n",
      "try 10 second wait time\n",
      "429\n",
      "try 10 second wait time\n",
      "429\n",
      "try 10 second wait time\n",
      "429\n",
      "try 10 second wait time\n",
      "200\n",
      "total wait time :  92.23545789718628\n",
      "recovery api cost\n"
     ]
    },
    {
     "name": "stderr",
     "output_type": "stream",
     "text": [
      "\r",
      "  1%|▏                                   | 58/10000 [48:23<173:44:54, 62.91s/it]"
     ]
    },
    {
     "name": "stdout",
     "output_type": "stream",
     "text": [
      "KR_5733338758의 데이터 수집이 완료되었습니다\n",
      "KR_5733340775의 데이터 수집을 시작합니다.\n"
     ]
    },
    {
     "name": "stderr",
     "output_type": "stream",
     "text": [
      "\r",
      "  1%|▏                                   | 59/10000 [48:37<133:19:24, 48.28s/it]"
     ]
    },
    {
     "name": "stdout",
     "output_type": "stream",
     "text": [
      "KR_5733340775의 데이터 수집이 완료되었습니다\n",
      "KR_5733340806의 데이터 수집을 시작합니다.\n"
     ]
    },
    {
     "name": "stderr",
     "output_type": "stream",
     "text": [
      "\r",
      "  1%|▏                                   | 60/10000 [48:51<104:50:02, 37.97s/it]"
     ]
    },
    {
     "name": "stdout",
     "output_type": "stream",
     "text": [
      "KR_5733340806의 데이터 수집이 완료되었습니다\n",
      "KR_5733340913의 데이터 수집을 시작합니다.\n",
      "api cost full : infinite loop start\n",
      "try 10 second wait time\n",
      "429\n",
      "try 10 second wait time\n",
      "429\n",
      "try 10 second wait time\n",
      "429\n",
      "try 10 second wait time\n",
      "429\n",
      "try 10 second wait time\n",
      "429\n",
      "try 10 second wait time\n",
      "429\n",
      "try 10 second wait time\n",
      "429\n",
      "try 10 second wait time\n",
      "429\n",
      "try 10 second wait time\n",
      "200\n",
      "total wait time :  92.48928213119507\n",
      "recovery api cost\n"
     ]
    },
    {
     "name": "stderr",
     "output_type": "stream",
     "text": [
      "\r",
      "  1%|▏                                   | 61/10000 [50:37<161:11:32, 58.39s/it]"
     ]
    },
    {
     "name": "stdout",
     "output_type": "stream",
     "text": [
      "KR_5733340913의 데이터 수집이 완료되었습니다\n",
      "KR_5733341026의 데이터 수집을 시작합니다.\n"
     ]
    },
    {
     "name": "stderr",
     "output_type": "stream",
     "text": [
      "\r",
      "  1%|▏                                   | 62/10000 [50:51<124:09:49, 44.98s/it]"
     ]
    },
    {
     "name": "stdout",
     "output_type": "stream",
     "text": [
      "KR_5733341026의 데이터 수집이 완료되었습니다\n",
      "KR_5733344231의 데이터 수집을 시작합니다.\n",
      "api cost full : infinite loop start\n",
      "try 10 second wait time\n",
      "429\n",
      "try 10 second wait time\n",
      "429\n",
      "try 10 second wait time\n",
      "429\n",
      "try 10 second wait time\n",
      "429\n",
      "try 10 second wait time\n",
      "429\n",
      "try 10 second wait time\n",
      "429\n",
      "try 10 second wait time\n",
      "429\n",
      "try 10 second wait time\n",
      "429\n",
      "try 10 second wait time\n",
      "200\n",
      "total wait time :  92.28413414955139\n",
      "recovery api cost\n"
     ]
    },
    {
     "name": "stderr",
     "output_type": "stream",
     "text": [
      "\r",
      "  1%|▏                                   | 63/10000 [52:36<174:22:39, 63.17s/it]"
     ]
    },
    {
     "name": "stdout",
     "output_type": "stream",
     "text": [
      "KR_5733344231의 데이터 수집이 완료되었습니다\n",
      "KR_5733345349의 데이터 수집을 시작합니다.\n"
     ]
    },
    {
     "name": "stderr",
     "output_type": "stream",
     "text": [
      "\r",
      "  1%|▏                                   | 64/10000 [52:50<132:59:30, 48.19s/it]"
     ]
    },
    {
     "name": "stdout",
     "output_type": "stream",
     "text": [
      "KR_5733345349의 데이터 수집이 완료되었습니다\n",
      "KR_5733345796의 데이터 수집을 시작합니다.\n"
     ]
    },
    {
     "name": "stderr",
     "output_type": "stream",
     "text": [
      "\r",
      "  1%|▏                                   | 65/10000 [53:03<104:02:50, 37.70s/it]"
     ]
    },
    {
     "name": "stdout",
     "output_type": "stream",
     "text": [
      "KR_5733345796의 데이터 수집이 완료되었습니다\n",
      "KR_5733345824의 데이터 수집을 시작합니다.\n",
      "api cost full : infinite loop start\n",
      "try 10 second wait time\n",
      "429\n",
      "try 10 second wait time\n",
      "429\n",
      "try 10 second wait time\n",
      "429\n",
      "try 10 second wait time\n",
      "429\n",
      "try 10 second wait time\n",
      "429\n",
      "try 10 second wait time\n",
      "429\n",
      "try 10 second wait time\n",
      "429\n",
      "try 10 second wait time\n",
      "429\n",
      "try 10 second wait time\n",
      "200\n",
      "total wait time :  92.63263702392578\n",
      "recovery api cost\n"
     ]
    },
    {
     "name": "stderr",
     "output_type": "stream",
     "text": [
      "\r",
      "  1%|▏                                   | 66/10000 [54:50<161:23:23, 58.49s/it]"
     ]
    },
    {
     "name": "stdout",
     "output_type": "stream",
     "text": [
      "KR_5733345824의 데이터 수집이 완료되었습니다\n",
      "KR_5733346375의 데이터 수집을 시작합니다.\n"
     ]
    },
    {
     "name": "stderr",
     "output_type": "stream",
     "text": [
      "\r",
      "  1%|▏                                   | 67/10000 [55:03<123:53:39, 44.90s/it]"
     ]
    },
    {
     "name": "stdout",
     "output_type": "stream",
     "text": [
      "KR_5733346375의 데이터 수집이 완료되었습니다\n",
      "KR_5733347772의 데이터 수집을 시작합니다.\n",
      "api cost full : infinite loop start\n",
      "try 10 second wait time\n",
      "429\n",
      "try 10 second wait time\n",
      "429\n",
      "try 10 second wait time\n",
      "429\n",
      "try 10 second wait time\n",
      "429\n",
      "try 10 second wait time\n",
      "429\n",
      "try 10 second wait time\n",
      "429\n",
      "try 10 second wait time\n",
      "429\n",
      "try 10 second wait time\n",
      "429\n",
      "try 10 second wait time\n",
      "200\n",
      "total wait time :  92.30653810501099\n",
      "recovery api cost\n"
     ]
    },
    {
     "name": "stderr",
     "output_type": "stream",
     "text": [
      "\r",
      "  1%|▏                                   | 68/10000 [56:49<174:16:20, 63.17s/it]"
     ]
    },
    {
     "name": "stdout",
     "output_type": "stream",
     "text": [
      "KR_5733347772의 데이터 수집이 완료되었습니다\n",
      "KR_5733350385의 데이터 수집을 시작합니다.\n"
     ]
    },
    {
     "name": "stderr",
     "output_type": "stream",
     "text": [
      "\r",
      "  1%|▏                                   | 69/10000 [57:02<132:52:27, 48.17s/it]"
     ]
    },
    {
     "name": "stdout",
     "output_type": "stream",
     "text": [
      "KR_5733350385의 데이터 수집이 완료되었습니다\n",
      "KR_5733353103의 데이터 수집을 시작합니다.\n"
     ]
    },
    {
     "name": "stderr",
     "output_type": "stream",
     "text": [
      "\r",
      "  1%|▎                                   | 70/10000 [57:15<104:04:36, 37.73s/it]"
     ]
    },
    {
     "name": "stdout",
     "output_type": "stream",
     "text": [
      "KR_5733353103의 데이터 수집이 완료되었습니다\n",
      "KR_5733353803의 데이터 수집을 시작합니다.\n",
      "api cost full : infinite loop start\n",
      "try 10 second wait time\n",
      "429\n",
      "try 10 second wait time\n",
      "429\n",
      "try 10 second wait time\n",
      "429\n",
      "try 10 second wait time\n",
      "429\n",
      "try 10 second wait time\n",
      "429\n",
      "try 10 second wait time\n",
      "429\n",
      "try 10 second wait time\n",
      "429\n",
      "try 10 second wait time\n",
      "429\n",
      "try 10 second wait time\n",
      "200\n",
      "total wait time :  92.73702311515808\n",
      "recovery api cost\n"
     ]
    },
    {
     "name": "stderr",
     "output_type": "stream",
     "text": [
      "\r",
      "  1%|▎                                   | 71/10000 [59:02<160:47:38, 58.30s/it]"
     ]
    },
    {
     "name": "stdout",
     "output_type": "stream",
     "text": [
      "KR_5733353803의 데이터 수집이 완료되었습니다\n",
      "KR_5733354909의 데이터 수집을 시작합니다.\n"
     ]
    },
    {
     "name": "stderr",
     "output_type": "stream",
     "text": [
      "\r",
      "  1%|▎                                   | 72/10000 [59:15<123:45:08, 44.87s/it]"
     ]
    },
    {
     "name": "stdout",
     "output_type": "stream",
     "text": [
      "KR_5733354909의 데이터 수집이 완료되었습니다\n",
      "KR_5733357288의 데이터 수집을 시작합니다.\n",
      "api cost full : infinite loop start\n",
      "try 10 second wait time\n",
      "429\n",
      "try 10 second wait time\n",
      "429\n",
      "try 10 second wait time\n",
      "429\n",
      "try 10 second wait time\n",
      "429\n",
      "try 10 second wait time\n",
      "429\n",
      "try 10 second wait time\n",
      "429\n",
      "try 10 second wait time\n",
      "429\n",
      "try 10 second wait time\n",
      "429\n",
      "try 10 second wait time\n",
      "200\n",
      "total wait time :  92.41730880737305\n",
      "recovery api cost\n"
     ]
    },
    {
     "name": "stderr",
     "output_type": "stream",
     "text": [
      "\r",
      "  1%|▏                                 | 73/10000 [1:01:00<173:42:07, 62.99s/it]"
     ]
    },
    {
     "name": "stdout",
     "output_type": "stream",
     "text": [
      "KR_5733357288의 데이터 수집이 완료되었습니다\n",
      "KR_5733358766의 데이터 수집을 시작합니다.\n"
     ]
    },
    {
     "name": "stderr",
     "output_type": "stream",
     "text": [
      "\r",
      "  1%|▎                                 | 74/10000 [1:01:14<133:06:03, 48.27s/it]"
     ]
    },
    {
     "name": "stdout",
     "output_type": "stream",
     "text": [
      "KR_5733358766의 데이터 수집이 완료되었습니다\n",
      "KR_5733359381의 데이터 수집을 시작합니다.\n"
     ]
    },
    {
     "name": "stderr",
     "output_type": "stream",
     "text": [
      "\r",
      "  1%|▎                                 | 75/10000 [1:01:28<104:10:50, 37.79s/it]"
     ]
    },
    {
     "name": "stdout",
     "output_type": "stream",
     "text": [
      "KR_5733359381의 데이터 수집이 완료되었습니다\n",
      "KR_5733360919의 데이터 수집을 시작합니다.\n",
      "api cost full : infinite loop start\n",
      "try 10 second wait time\n",
      "429\n",
      "try 10 second wait time\n",
      "429\n",
      "try 10 second wait time\n",
      "429\n",
      "try 10 second wait time\n",
      "429\n",
      "try 10 second wait time\n",
      "429\n",
      "try 10 second wait time\n",
      "429\n",
      "try 10 second wait time\n",
      "429\n",
      "try 10 second wait time\n",
      "429\n",
      "try 10 second wait time\n",
      "200\n",
      "total wait time :  92.2147650718689\n",
      "recovery api cost\n"
     ]
    },
    {
     "name": "stderr",
     "output_type": "stream",
     "text": [
      "\r",
      "  1%|▎                                 | 76/10000 [1:03:14<160:35:55, 58.26s/it]"
     ]
    },
    {
     "name": "stdout",
     "output_type": "stream",
     "text": [
      "KR_5733360919의 데이터 수집이 완료되었습니다\n",
      "KR_5733360939의 데이터 수집을 시작합니다.\n"
     ]
    },
    {
     "name": "stderr",
     "output_type": "stream",
     "text": [
      "\r",
      "  1%|▎                                 | 77/10000 [1:03:26<122:57:15, 44.61s/it]"
     ]
    },
    {
     "name": "stdout",
     "output_type": "stream",
     "text": [
      "KR_5733360939의 데이터 수집이 완료되었습니다\n",
      "KR_5733361638의 데이터 수집을 시작합니다.\n",
      "api cost full : infinite loop start\n",
      "try 10 second wait time\n",
      "429\n",
      "try 10 second wait time\n",
      "429\n",
      "try 10 second wait time\n",
      "429\n",
      "try 10 second wait time\n",
      "429\n",
      "try 10 second wait time\n",
      "429\n",
      "try 10 second wait time\n",
      "429\n",
      "try 10 second wait time\n",
      "429\n",
      "try 10 second wait time\n",
      "429\n",
      "try 10 second wait time\n",
      "200\n",
      "total wait time :  92.4157919883728\n",
      "recovery api cost\n"
     ]
    },
    {
     "name": "stderr",
     "output_type": "stream",
     "text": [
      "\r",
      "  1%|▎                                 | 78/10000 [1:05:12<173:08:41, 62.82s/it]"
     ]
    },
    {
     "name": "stdout",
     "output_type": "stream",
     "text": [
      "KR_5733361638의 데이터 수집이 완료되었습니다\n",
      "KR_5733363215의 데이터 수집을 시작합니다.\n"
     ]
    },
    {
     "name": "stderr",
     "output_type": "stream",
     "text": [
      "\r",
      "  1%|▎                                 | 79/10000 [1:05:25<132:18:28, 48.01s/it]"
     ]
    },
    {
     "name": "stdout",
     "output_type": "stream",
     "text": [
      "KR_5733363215의 데이터 수집이 완료되었습니다\n",
      "KR_5733364314의 데이터 수집을 시작합니다.\n"
     ]
    },
    {
     "name": "stderr",
     "output_type": "stream",
     "text": [
      "\r",
      "  1%|▎                                 | 80/10000 [1:05:38<103:28:58, 37.55s/it]"
     ]
    },
    {
     "name": "stdout",
     "output_type": "stream",
     "text": [
      "KR_5733364314의 데이터 수집이 완료되었습니다\n",
      "KR_5733365423의 데이터 수집을 시작합니다.\n",
      "api cost full : infinite loop start\n",
      "try 10 second wait time\n",
      "429\n",
      "try 10 second wait time\n",
      "429\n",
      "try 10 second wait time\n",
      "429\n",
      "try 10 second wait time\n",
      "429\n",
      "try 10 second wait time\n",
      "429\n",
      "try 10 second wait time\n",
      "429\n",
      "try 10 second wait time\n",
      "429\n",
      "try 10 second wait time\n",
      "429\n",
      "try 10 second wait time\n",
      "200\n",
      "total wait time :  92.22760128974915\n",
      "recovery api cost\n"
     ]
    },
    {
     "name": "stderr",
     "output_type": "stream",
     "text": [
      "\r",
      "  1%|▎                                 | 81/10000 [1:07:24<159:52:31, 58.03s/it]"
     ]
    },
    {
     "name": "stdout",
     "output_type": "stream",
     "text": [
      "KR_5733365423의 데이터 수집이 완료되었습니다\n",
      "KR_5733369881의 데이터 수집을 시작합니다.\n"
     ]
    },
    {
     "name": "stderr",
     "output_type": "stream",
     "text": [
      "\r",
      "  1%|▎                                 | 82/10000 [1:07:37<122:48:33, 44.58s/it]"
     ]
    },
    {
     "name": "stdout",
     "output_type": "stream",
     "text": [
      "KR_5733369881의 데이터 수집이 완료되었습니다\n",
      "KR_5733371394의 데이터 수집을 시작합니다.\n",
      "api cost full : infinite loop start\n",
      "try 10 second wait time\n",
      "429\n",
      "try 10 second wait time\n",
      "429\n",
      "try 10 second wait time\n",
      "429\n",
      "try 10 second wait time\n",
      "429\n",
      "try 10 second wait time\n",
      "429\n",
      "try 10 second wait time\n",
      "429\n",
      "try 10 second wait time\n",
      "429\n",
      "try 10 second wait time\n",
      "429\n",
      "try 10 second wait time\n",
      "200\n",
      "total wait time :  92.6452248096466\n",
      "recovery api cost\n"
     ]
    },
    {
     "name": "stderr",
     "output_type": "stream",
     "text": [
      "\r",
      "  1%|▎                                 | 83/10000 [1:09:24<173:41:16, 63.05s/it]"
     ]
    },
    {
     "name": "stdout",
     "output_type": "stream",
     "text": [
      "KR_5733371394의 데이터 수집이 완료되었습니다\n",
      "KR_5733371453의 데이터 수집을 시작합니다.\n"
     ]
    },
    {
     "name": "stderr",
     "output_type": "stream",
     "text": [
      "\r",
      "  1%|▎                                 | 84/10000 [1:09:38<133:14:53, 48.38s/it]"
     ]
    },
    {
     "name": "stdout",
     "output_type": "stream",
     "text": [
      "KR_5733371453의 데이터 수집이 완료되었습니다\n",
      "KR_5733371473의 데이터 수집을 시작합니다.\n"
     ]
    },
    {
     "name": "stderr",
     "output_type": "stream",
     "text": [
      "\r",
      "  1%|▎                                 | 85/10000 [1:09:51<104:39:51, 38.00s/it]"
     ]
    },
    {
     "name": "stdout",
     "output_type": "stream",
     "text": [
      "KR_5733371473의 데이터 수집이 완료되었습니다\n",
      "KR_5733373608의 데이터 수집을 시작합니다.\n",
      "api cost full : infinite loop start\n",
      "try 10 second wait time\n",
      "429\n",
      "try 10 second wait time\n",
      "429\n",
      "try 10 second wait time\n",
      "429\n",
      "try 10 second wait time\n",
      "429\n",
      "try 10 second wait time\n",
      "429\n",
      "try 10 second wait time\n",
      "429\n",
      "try 10 second wait time\n",
      "429\n",
      "try 10 second wait time\n",
      "429\n",
      "try 10 second wait time\n",
      "200\n",
      "total wait time :  92.32069993019104\n",
      "recovery api cost\n"
     ]
    },
    {
     "name": "stderr",
     "output_type": "stream",
     "text": [
      "\r",
      "  1%|▎                                 | 86/10000 [1:11:37<160:29:14, 58.28s/it]"
     ]
    },
    {
     "name": "stdout",
     "output_type": "stream",
     "text": [
      "KR_5733373608의 데이터 수집이 완료되었습니다\n",
      "KR_5733375047의 데이터 수집을 시작합니다.\n"
     ]
    },
    {
     "name": "stderr",
     "output_type": "stream",
     "text": [
      "\r",
      "  1%|▎                                 | 87/10000 [1:11:51<123:50:09, 44.97s/it]"
     ]
    },
    {
     "name": "stdout",
     "output_type": "stream",
     "text": [
      "KR_5733375047의 데이터 수집이 완료되었습니다\n",
      "KR_5733379309의 데이터 수집을 시작합니다.\n",
      "api cost full : infinite loop start\n",
      "try 10 second wait time\n",
      "429\n",
      "try 10 second wait time\n",
      "429\n",
      "try 10 second wait time\n",
      "429\n",
      "try 10 second wait time\n",
      "429\n",
      "try 10 second wait time\n",
      "429\n",
      "try 10 second wait time\n",
      "429\n",
      "try 10 second wait time\n",
      "429\n",
      "try 10 second wait time\n",
      "429\n",
      "try 10 second wait time\n",
      "200\n",
      "total wait time :  92.29695582389832\n",
      "recovery api cost\n"
     ]
    },
    {
     "name": "stderr",
     "output_type": "stream",
     "text": [
      "\r",
      "  1%|▎                                 | 88/10000 [1:13:37<174:14:59, 63.29s/it]"
     ]
    },
    {
     "name": "stdout",
     "output_type": "stream",
     "text": [
      "KR_5733379309의 데이터 수집이 완료되었습니다\n",
      "KR_5733379479의 데이터 수집을 시작합니다.\n"
     ]
    },
    {
     "name": "stderr",
     "output_type": "stream",
     "text": [
      "\r",
      "  1%|▎                                 | 89/10000 [1:13:51<133:15:54, 48.41s/it]"
     ]
    },
    {
     "name": "stdout",
     "output_type": "stream",
     "text": [
      "KR_5733379479의 데이터 수집이 완료되었습니다\n",
      "KR_5733380147의 데이터 수집을 시작합니다.\n"
     ]
    },
    {
     "name": "stderr",
     "output_type": "stream",
     "text": [
      "\r",
      "  1%|▎                                 | 90/10000 [1:14:04<104:19:03, 37.90s/it]"
     ]
    },
    {
     "name": "stdout",
     "output_type": "stream",
     "text": [
      "KR_5733380147의 데이터 수집이 완료되었습니다\n",
      "KR_5733383284의 데이터 수집을 시작합니다.\n",
      "api cost full : infinite loop start\n",
      "try 10 second wait time\n",
      "429\n",
      "try 10 second wait time\n",
      "429\n",
      "try 10 second wait time\n",
      "429\n",
      "try 10 second wait time\n",
      "429\n",
      "try 10 second wait time\n",
      "429\n",
      "try 10 second wait time\n",
      "429\n",
      "try 10 second wait time\n",
      "429\n",
      "try 10 second wait time\n",
      "429\n",
      "try 10 second wait time\n",
      "200\n",
      "total wait time :  92.61292099952698\n",
      "recovery api cost\n"
     ]
    },
    {
     "name": "stderr",
     "output_type": "stream",
     "text": [
      "\r",
      "  1%|▎                                 | 91/10000 [1:15:51<161:23:46, 58.64s/it]"
     ]
    },
    {
     "name": "stdout",
     "output_type": "stream",
     "text": [
      "KR_5733383284의 데이터 수집이 완료되었습니다\n",
      "KR_5733386498의 데이터 수집을 시작합니다.\n"
     ]
    },
    {
     "name": "stderr",
     "output_type": "stream",
     "text": [
      "\r",
      "  1%|▎                                 | 92/10000 [1:16:05<124:07:50, 45.10s/it]"
     ]
    },
    {
     "name": "stdout",
     "output_type": "stream",
     "text": [
      "KR_5733386498의 데이터 수집이 완료되었습니다\n",
      "KR_5733387490의 데이터 수집을 시작합니다.\n",
      "api cost full : infinite loop start\n",
      "try 10 second wait time\n",
      "429\n",
      "try 10 second wait time\n",
      "429\n",
      "try 10 second wait time\n",
      "429\n",
      "try 10 second wait time\n",
      "429\n",
      "try 10 second wait time\n",
      "429\n",
      "try 10 second wait time\n",
      "429\n",
      "try 10 second wait time\n",
      "429\n",
      "try 10 second wait time\n",
      "429\n",
      "try 10 second wait time\n",
      "200\n",
      "total wait time :  92.37636518478394\n",
      "recovery api cost\n"
     ]
    },
    {
     "name": "stderr",
     "output_type": "stream",
     "text": [
      "\r",
      "  1%|▎                                 | 93/10000 [1:17:51<174:56:20, 63.57s/it]"
     ]
    },
    {
     "name": "stdout",
     "output_type": "stream",
     "text": [
      "KR_5733387490의 데이터 수집이 완료되었습니다\n",
      "KR_5733390574의 데이터 수집을 시작합니다.\n"
     ]
    },
    {
     "name": "stderr",
     "output_type": "stream",
     "text": [
      "\r",
      "  1%|▎                                 | 94/10000 [1:18:05<133:30:36, 48.52s/it]"
     ]
    },
    {
     "name": "stdout",
     "output_type": "stream",
     "text": [
      "KR_5733390574의 데이터 수집이 완료되었습니다\n",
      "KR_5733391306의 데이터 수집을 시작합니다.\n"
     ]
    },
    {
     "name": "stderr",
     "output_type": "stream",
     "text": [
      "\r",
      "  1%|▎                                 | 95/10000 [1:18:18<104:27:11, 37.96s/it]"
     ]
    },
    {
     "name": "stdout",
     "output_type": "stream",
     "text": [
      "KR_5733391306의 데이터 수집이 완료되었습니다\n",
      "KR_5733392435의 데이터 수집을 시작합니다.\n",
      "api cost full : infinite loop start\n",
      "try 10 second wait time\n",
      "429\n",
      "try 10 second wait time\n",
      "429\n",
      "try 10 second wait time\n",
      "429\n",
      "try 10 second wait time\n",
      "429\n",
      "try 10 second wait time\n",
      "429\n",
      "try 10 second wait time\n",
      "429\n",
      "try 10 second wait time\n",
      "429\n",
      "try 10 second wait time\n",
      "429\n",
      "try 10 second wait time\n",
      "200\n",
      "total wait time :  92.5852222442627\n",
      "recovery api cost\n"
     ]
    },
    {
     "name": "stderr",
     "output_type": "stream",
     "text": [
      "\r",
      "  1%|▎                                 | 96/10000 [1:20:04<160:51:14, 58.47s/it]"
     ]
    },
    {
     "name": "stdout",
     "output_type": "stream",
     "text": [
      "KR_5733392435의 데이터 수집이 완료되었습니다\n",
      "KR_5733392516의 데이터 수집을 시작합니다.\n"
     ]
    },
    {
     "name": "stderr",
     "output_type": "stream",
     "text": [
      "\r",
      "  1%|▎                                 | 97/10000 [1:20:18<123:30:12, 44.90s/it]"
     ]
    },
    {
     "name": "stdout",
     "output_type": "stream",
     "text": [
      "KR_5733392516의 데이터 수집이 완료되었습니다\n",
      "KR_5733393328의 데이터 수집을 시작합니다.\n",
      "api cost full : infinite loop start\n",
      "try 10 second wait time\n",
      "429\n",
      "try 10 second wait time\n",
      "429\n",
      "try 10 second wait time\n",
      "429\n",
      "try 10 second wait time\n",
      "429\n",
      "try 10 second wait time\n",
      "429\n",
      "try 10 second wait time\n",
      "429\n",
      "try 10 second wait time\n",
      "429\n",
      "try 10 second wait time\n",
      "429\n",
      "try 10 second wait time\n",
      "200\n",
      "total wait time :  92.25124597549438\n",
      "recovery api cost\n"
     ]
    },
    {
     "name": "stderr",
     "output_type": "stream",
     "text": [
      "\r",
      "  1%|▎                                 | 98/10000 [1:22:03<173:19:35, 63.02s/it]"
     ]
    },
    {
     "name": "stdout",
     "output_type": "stream",
     "text": [
      "KR_5733393328의 데이터 수집이 완료되었습니다\n",
      "KR_5733395592의 데이터 수집을 시작합니다.\n"
     ]
    },
    {
     "name": "stderr",
     "output_type": "stream",
     "text": [
      "\r",
      "  1%|▎                                 | 99/10000 [1:22:17<133:22:55, 48.50s/it]"
     ]
    },
    {
     "name": "stdout",
     "output_type": "stream",
     "text": [
      "KR_5733395592의 데이터 수집이 완료되었습니다\n",
      "KR_5733397131의 데이터 수집을 시작합니다.\n"
     ]
    },
    {
     "name": "stderr",
     "output_type": "stream",
     "text": [
      "\r",
      "  1%|▎                                | 100/10000 [1:22:32<105:09:47, 38.24s/it]"
     ]
    },
    {
     "name": "stdout",
     "output_type": "stream",
     "text": [
      "KR_5733397131의 데이터 수집이 완료되었습니다\n",
      "KR_5733397463의 데이터 수집을 시작합니다.\n",
      "api cost full : infinite loop start\n",
      "try 10 second wait time\n",
      "429\n",
      "try 10 second wait time\n",
      "429\n",
      "try 10 second wait time\n",
      "429\n",
      "try 10 second wait time\n",
      "429\n",
      "try 10 second wait time\n",
      "429\n",
      "try 10 second wait time\n",
      "429\n",
      "try 10 second wait time\n",
      "429\n",
      "try 10 second wait time\n",
      "429\n",
      "try 10 second wait time\n",
      "200\n",
      "total wait time :  92.29785799980164\n",
      "recovery api cost\n"
     ]
    },
    {
     "name": "stderr",
     "output_type": "stream",
     "text": [
      "\r",
      "  1%|▎                                | 101/10000 [1:24:19<161:54:22, 58.88s/it]"
     ]
    },
    {
     "name": "stdout",
     "output_type": "stream",
     "text": [
      "KR_5733397463의 데이터 수집이 완료되었습니다\n",
      "KR_5733399229의 데이터 수집을 시작합니다.\n"
     ]
    },
    {
     "name": "stderr",
     "output_type": "stream",
     "text": [
      "\r",
      "  1%|▎                                | 102/10000 [1:24:32<124:15:21, 45.19s/it]"
     ]
    },
    {
     "name": "stdout",
     "output_type": "stream",
     "text": [
      "KR_5733399229의 데이터 수집이 완료되었습니다\n",
      "KR_5733401584의 데이터 수집을 시작합니다.\n",
      "api cost full : infinite loop start\n",
      "try 10 second wait time\n",
      "429\n",
      "try 10 second wait time\n",
      "429\n",
      "try 10 second wait time\n",
      "429\n",
      "try 10 second wait time\n",
      "429\n",
      "try 10 second wait time\n",
      "429\n",
      "try 10 second wait time\n",
      "429\n",
      "try 10 second wait time\n",
      "429\n",
      "try 10 second wait time\n",
      "429\n",
      "try 10 second wait time\n",
      "200\n",
      "total wait time :  92.30900025367737\n",
      "recovery api cost\n"
     ]
    },
    {
     "name": "stderr",
     "output_type": "stream",
     "text": [
      "\r",
      "  1%|▎                                | 103/10000 [1:26:17<173:50:31, 63.23s/it]"
     ]
    },
    {
     "name": "stdout",
     "output_type": "stream",
     "text": [
      "KR_5733401584의 데이터 수집이 완료되었습니다\n",
      "KR_5733401827의 데이터 수집을 시작합니다.\n"
     ]
    },
    {
     "name": "stderr",
     "output_type": "stream",
     "text": [
      "\r",
      "  1%|▎                                | 104/10000 [1:26:31<132:58:52, 48.38s/it]"
     ]
    },
    {
     "name": "stdout",
     "output_type": "stream",
     "text": [
      "KR_5733401827의 데이터 수집이 완료되었습니다\n",
      "KR_5733402373의 데이터 수집을 시작합니다.\n"
     ]
    },
    {
     "name": "stderr",
     "output_type": "stream",
     "text": [
      "\r",
      "  1%|▎                                | 105/10000 [1:26:45<104:27:40, 38.01s/it]"
     ]
    },
    {
     "name": "stdout",
     "output_type": "stream",
     "text": [
      "KR_5733402373의 데이터 수집이 완료되었습니다\n",
      "KR_5733402497의 데이터 수집을 시작합니다.\n",
      "api cost full : infinite loop start\n",
      "try 10 second wait time\n",
      "429\n",
      "try 10 second wait time\n",
      "429\n",
      "try 10 second wait time\n",
      "429\n",
      "try 10 second wait time\n",
      "429\n",
      "try 10 second wait time\n",
      "429\n",
      "try 10 second wait time\n",
      "429\n",
      "try 10 second wait time\n",
      "429\n",
      "try 10 second wait time\n",
      "429\n",
      "try 10 second wait time\n",
      "200\n",
      "total wait time :  92.42831802368164\n",
      "recovery api cost\n"
     ]
    },
    {
     "name": "stderr",
     "output_type": "stream",
     "text": [
      "\r",
      "  1%|▎                                | 106/10000 [1:28:31<160:20:09, 58.34s/it]"
     ]
    },
    {
     "name": "stdout",
     "output_type": "stream",
     "text": [
      "KR_5733402497의 데이터 수집이 완료되었습니다\n",
      "KR_5733402881의 데이터 수집을 시작합니다.\n"
     ]
    },
    {
     "name": "stderr",
     "output_type": "stream",
     "text": [
      "\r",
      "  1%|▎                                | 107/10000 [1:28:44<123:14:42, 44.85s/it]"
     ]
    },
    {
     "name": "stdout",
     "output_type": "stream",
     "text": [
      "KR_5733402881의 데이터 수집이 완료되었습니다\n",
      "KR_5733402893의 데이터 수집을 시작합니다.\n",
      "api cost full : infinite loop start\n",
      "try 10 second wait time\n",
      "429\n",
      "try 10 second wait time\n",
      "429\n",
      "try 10 second wait time\n",
      "429\n",
      "try 10 second wait time\n",
      "429\n",
      "try 10 second wait time\n",
      "429\n",
      "try 10 second wait time\n",
      "429\n",
      "try 10 second wait time\n",
      "429\n",
      "try 10 second wait time\n",
      "429\n",
      "try 10 second wait time\n",
      "200\n",
      "total wait time :  92.31352496147156\n",
      "recovery api cost\n"
     ]
    },
    {
     "name": "stderr",
     "output_type": "stream",
     "text": [
      "\r",
      "  1%|▎                                | 108/10000 [1:30:30<173:32:39, 63.16s/it]"
     ]
    },
    {
     "name": "stdout",
     "output_type": "stream",
     "text": [
      "KR_5733402893의 데이터 수집이 완료되었습니다\n",
      "KR_5733403966의 데이터 수집을 시작합니다.\n"
     ]
    },
    {
     "name": "stderr",
     "output_type": "stream",
     "text": [
      "\r",
      "  1%|▎                                | 109/10000 [1:30:43<132:19:35, 48.16s/it]"
     ]
    },
    {
     "name": "stdout",
     "output_type": "stream",
     "text": [
      "KR_5733403966의 데이터 수집이 완료되었습니다\n",
      "KR_5733404538의 데이터 수집을 시작합니다.\n"
     ]
    },
    {
     "name": "stderr",
     "output_type": "stream",
     "text": [
      "\r",
      "  1%|▎                                | 110/10000 [1:30:56<103:37:03, 37.72s/it]"
     ]
    },
    {
     "name": "stdout",
     "output_type": "stream",
     "text": [
      "KR_5733404538의 데이터 수집이 완료되었습니다\n",
      "KR_5733404743의 데이터 수집을 시작합니다.\n",
      "api cost full : infinite loop start\n",
      "try 10 second wait time\n",
      "429\n",
      "try 10 second wait time\n",
      "429\n",
      "try 10 second wait time\n",
      "429\n",
      "try 10 second wait time\n",
      "429\n",
      "try 10 second wait time\n",
      "429\n",
      "try 10 second wait time\n",
      "429\n",
      "try 10 second wait time\n",
      "429\n",
      "try 10 second wait time\n",
      "429\n",
      "try 10 second wait time\n",
      "200\n",
      "total wait time :  92.70572280883789\n",
      "recovery api cost\n"
     ]
    },
    {
     "name": "stderr",
     "output_type": "stream",
     "text": [
      "\r",
      "  1%|▎                                | 111/10000 [1:32:43<159:54:39, 58.21s/it]"
     ]
    },
    {
     "name": "stdout",
     "output_type": "stream",
     "text": [
      "KR_5733404743의 데이터 수집이 완료되었습니다\n",
      "KR_5733404991의 데이터 수집을 시작합니다.\n"
     ]
    },
    {
     "name": "stderr",
     "output_type": "stream",
     "text": [
      "\r",
      "  1%|▎                                | 112/10000 [1:32:56<122:47:04, 44.70s/it]"
     ]
    },
    {
     "name": "stdout",
     "output_type": "stream",
     "text": [
      "KR_5733404991의 데이터 수집이 완료되었습니다\n",
      "KR_5733405692의 데이터 수집을 시작합니다.\n",
      "api cost full : infinite loop start\n",
      "try 10 second wait time\n",
      "429\n",
      "try 10 second wait time\n",
      "429\n",
      "try 10 second wait time\n",
      "429\n",
      "try 10 second wait time\n",
      "429\n",
      "try 10 second wait time\n",
      "429\n",
      "try 10 second wait time\n",
      "429\n",
      "try 10 second wait time\n",
      "429\n",
      "try 10 second wait time\n",
      "429\n",
      "try 10 second wait time\n",
      "200\n",
      "total wait time :  92.38802289962769\n",
      "recovery api cost\n"
     ]
    },
    {
     "name": "stderr",
     "output_type": "stream",
     "text": [
      "\r",
      "  1%|▎                                | 113/10000 [1:34:42<173:13:00, 63.07s/it]"
     ]
    },
    {
     "name": "stdout",
     "output_type": "stream",
     "text": [
      "KR_5733405692의 데이터 수집이 완료되었습니다\n",
      "KR_5733405940의 데이터 수집을 시작합니다.\n"
     ]
    },
    {
     "name": "stderr",
     "output_type": "stream",
     "text": [
      "\r",
      "  1%|▍                                | 114/10000 [1:34:55<132:40:11, 48.31s/it]"
     ]
    },
    {
     "name": "stdout",
     "output_type": "stream",
     "text": [
      "KR_5733405940의 데이터 수집이 완료되었습니다\n",
      "KR_5733408564의 데이터 수집을 시작합니다.\n"
     ]
    },
    {
     "name": "stderr",
     "output_type": "stream",
     "text": [
      "\r",
      "  1%|▍                                | 115/10000 [1:35:09<103:47:30, 37.80s/it]"
     ]
    },
    {
     "name": "stdout",
     "output_type": "stream",
     "text": [
      "KR_5733408564의 데이터 수집이 완료되었습니다\n",
      "KR_5733410396의 데이터 수집을 시작합니다.\n",
      "api cost full : infinite loop start\n",
      "try 10 second wait time\n",
      "429\n",
      "try 10 second wait time\n",
      "429\n",
      "try 10 second wait time\n",
      "429\n",
      "try 10 second wait time\n",
      "429\n",
      "try 10 second wait time\n",
      "429\n",
      "try 10 second wait time\n",
      "429\n",
      "try 10 second wait time\n",
      "429\n",
      "try 10 second wait time\n",
      "429\n",
      "try 10 second wait time\n",
      "200\n",
      "total wait time :  92.40093612670898\n",
      "recovery api cost\n"
     ]
    },
    {
     "name": "stderr",
     "output_type": "stream",
     "text": [
      "\r",
      "  1%|▍                                | 116/10000 [1:36:55<159:47:48, 58.20s/it]"
     ]
    },
    {
     "name": "stdout",
     "output_type": "stream",
     "text": [
      "KR_5733410396의 데이터 수집이 완료되었습니다\n",
      "KR_5733412623의 데이터 수집을 시작합니다.\n"
     ]
    },
    {
     "name": "stderr",
     "output_type": "stream",
     "text": [
      "\r",
      "  1%|▍                                | 117/10000 [1:37:08<122:46:29, 44.72s/it]"
     ]
    },
    {
     "name": "stdout",
     "output_type": "stream",
     "text": [
      "KR_5733412623의 데이터 수집이 완료되었습니다\n",
      "KR_5733412795의 데이터 수집을 시작합니다.\n",
      "api cost full : infinite loop start\n",
      "try 10 second wait time\n",
      "429\n",
      "try 10 second wait time\n",
      "429\n",
      "try 10 second wait time\n",
      "429\n",
      "try 10 second wait time\n",
      "429\n",
      "try 10 second wait time\n",
      "429\n",
      "try 10 second wait time\n",
      "429\n",
      "try 10 second wait time\n",
      "429\n",
      "try 10 second wait time\n",
      "429\n",
      "try 10 second wait time\n",
      "200\n",
      "total wait time :  92.28627896308899\n",
      "recovery api cost\n"
     ]
    },
    {
     "name": "stderr",
     "output_type": "stream",
     "text": [
      "\r",
      "  1%|▍                                | 118/10000 [1:38:55<173:46:58, 63.31s/it]"
     ]
    },
    {
     "name": "stdout",
     "output_type": "stream",
     "text": [
      "KR_5733412795의 데이터 수집이 완료되었습니다\n",
      "KR_5733413061의 데이터 수집을 시작합니다.\n"
     ]
    },
    {
     "name": "stderr",
     "output_type": "stream",
     "text": [
      "\r",
      "  1%|▍                                | 119/10000 [1:39:09<133:20:53, 48.58s/it]"
     ]
    },
    {
     "name": "stdout",
     "output_type": "stream",
     "text": [
      "KR_5733413061의 데이터 수집이 완료되었습니다\n",
      "KR_5733418062의 데이터 수집을 시작합니다.\n"
     ]
    },
    {
     "name": "stderr",
     "output_type": "stream",
     "text": [
      "\r",
      "  1%|▍                                | 120/10000 [1:39:23<105:02:41, 38.28s/it]"
     ]
    },
    {
     "name": "stdout",
     "output_type": "stream",
     "text": [
      "KR_5733418062의 데이터 수집이 완료되었습니다\n",
      "KR_5733418091의 데이터 수집을 시작합니다.\n",
      "api cost full : infinite loop start\n",
      "try 10 second wait time\n",
      "429\n",
      "try 10 second wait time\n",
      "429\n",
      "try 10 second wait time\n",
      "429\n",
      "try 10 second wait time\n",
      "429\n",
      "try 10 second wait time\n",
      "429\n",
      "try 10 second wait time\n",
      "429\n",
      "try 10 second wait time\n",
      "429\n",
      "try 10 second wait time\n",
      "429\n",
      "try 10 second wait time\n",
      "200\n",
      "total wait time :  92.33281207084656\n",
      "recovery api cost\n"
     ]
    },
    {
     "name": "stderr",
     "output_type": "stream",
     "text": [
      "\r",
      "  1%|▍                                | 121/10000 [1:41:11<162:04:27, 59.06s/it]"
     ]
    },
    {
     "name": "stdout",
     "output_type": "stream",
     "text": [
      "KR_5733418091의 데이터 수집이 완료되었습니다\n",
      "KR_5733420867의 데이터 수집을 시작합니다.\n"
     ]
    },
    {
     "name": "stderr",
     "output_type": "stream",
     "text": [
      "\r",
      "  1%|▍                                | 122/10000 [1:41:24<124:43:57, 45.46s/it]"
     ]
    },
    {
     "name": "stdout",
     "output_type": "stream",
     "text": [
      "KR_5733420867의 데이터 수집이 완료되었습니다\n",
      "KR_5733421234의 데이터 수집을 시작합니다.\n",
      "api cost full : infinite loop start\n",
      "try 10 second wait time\n",
      "429\n",
      "try 10 second wait time\n",
      "429\n",
      "try 10 second wait time\n",
      "429\n",
      "try 10 second wait time\n",
      "429\n",
      "try 10 second wait time\n",
      "429\n",
      "try 10 second wait time\n",
      "429\n",
      "try 10 second wait time\n",
      "429\n",
      "try 10 second wait time\n",
      "429\n",
      "try 10 second wait time\n",
      "200\n",
      "total wait time :  92.34296202659607\n",
      "recovery api cost\n"
     ]
    },
    {
     "name": "stderr",
     "output_type": "stream",
     "text": [
      "\r",
      "  1%|▍                                | 123/10000 [1:43:10<174:09:40, 63.48s/it]"
     ]
    },
    {
     "name": "stdout",
     "output_type": "stream",
     "text": [
      "KR_5733421234의 데이터 수집이 완료되었습니다\n",
      "KR_5733423317의 데이터 수집을 시작합니다.\n"
     ]
    },
    {
     "name": "stderr",
     "output_type": "stream",
     "text": [
      "\r",
      "  1%|▍                                | 124/10000 [1:43:24<133:12:40, 48.56s/it]"
     ]
    },
    {
     "name": "stdout",
     "output_type": "stream",
     "text": [
      "KR_5733423317의 데이터 수집이 완료되었습니다\n",
      "KR_5733425627의 데이터 수집을 시작합니다.\n"
     ]
    },
    {
     "name": "stderr",
     "output_type": "stream",
     "text": [
      "\r",
      "  1%|▍                                | 125/10000 [1:43:38<105:00:59, 38.28s/it]"
     ]
    },
    {
     "name": "stdout",
     "output_type": "stream",
     "text": [
      "KR_5733425627의 데이터 수집이 완료되었습니다\n",
      "KR_5733427581의 데이터 수집을 시작합니다.\n",
      "api cost full : infinite loop start\n",
      "try 10 second wait time\n",
      "429\n",
      "try 10 second wait time\n",
      "429\n",
      "try 10 second wait time\n",
      "429\n",
      "try 10 second wait time\n",
      "429\n",
      "try 10 second wait time\n",
      "429\n",
      "try 10 second wait time\n",
      "429\n",
      "try 10 second wait time\n",
      "429\n",
      "try 10 second wait time\n",
      "429\n",
      "try 10 second wait time\n",
      "200\n",
      "total wait time :  93.19925475120544\n",
      "recovery api cost\n"
     ]
    },
    {
     "name": "stderr",
     "output_type": "stream",
     "text": [
      "\r",
      "  1%|▍                                | 126/10000 [1:45:24<160:55:28, 58.67s/it]"
     ]
    },
    {
     "name": "stdout",
     "output_type": "stream",
     "text": [
      "KR_5733427581의 데이터 수집이 완료되었습니다\n",
      "KR_5733428010의 데이터 수집을 시작합니다.\n"
     ]
    },
    {
     "name": "stderr",
     "output_type": "stream",
     "text": [
      "\r",
      "  1%|▍                                | 127/10000 [1:45:37<123:31:10, 45.04s/it]"
     ]
    },
    {
     "name": "stdout",
     "output_type": "stream",
     "text": [
      "KR_5733428010의 데이터 수집이 완료되었습니다\n",
      "KR_5733429428의 데이터 수집을 시작합니다.\n",
      "api cost full : infinite loop start\n",
      "try 10 second wait time\n",
      "429\n",
      "try 10 second wait time\n",
      "429\n",
      "try 10 second wait time\n",
      "429\n",
      "try 10 second wait time\n",
      "429\n",
      "try 10 second wait time\n",
      "429\n",
      "try 10 second wait time\n",
      "429\n",
      "try 10 second wait time\n",
      "429\n",
      "try 10 second wait time\n",
      "429\n",
      "try 10 second wait time\n",
      "200\n",
      "total wait time :  92.37852001190186\n",
      "recovery api cost\n"
     ]
    },
    {
     "name": "stderr",
     "output_type": "stream",
     "text": [
      "\r",
      "  1%|▍                                | 128/10000 [1:47:23<173:40:00, 63.33s/it]"
     ]
    },
    {
     "name": "stdout",
     "output_type": "stream",
     "text": [
      "KR_5733429428의 데이터 수집이 완료되었습니다\n",
      "KR_5733430815의 데이터 수집을 시작합니다.\n"
     ]
    },
    {
     "name": "stderr",
     "output_type": "stream",
     "text": [
      "\r",
      "  1%|▍                                | 129/10000 [1:47:37<132:42:48, 48.40s/it]"
     ]
    },
    {
     "name": "stdout",
     "output_type": "stream",
     "text": [
      "KR_5733430815의 데이터 수집이 완료되었습니다\n",
      "KR_5733431077의 데이터 수집을 시작합니다.\n"
     ]
    },
    {
     "name": "stderr",
     "output_type": "stream",
     "text": [
      "\r",
      "  1%|▍                                | 130/10000 [1:47:50<103:44:19, 37.84s/it]"
     ]
    },
    {
     "name": "stdout",
     "output_type": "stream",
     "text": [
      "KR_5733431077의 데이터 수집이 완료되었습니다\n",
      "KR_5733432443의 데이터 수집을 시작합니다.\n",
      "api cost full : infinite loop start\n",
      "try 10 second wait time\n",
      "429\n",
      "try 10 second wait time\n",
      "429\n",
      "try 10 second wait time\n",
      "429\n",
      "try 10 second wait time\n",
      "429\n",
      "try 10 second wait time\n",
      "429\n",
      "try 10 second wait time\n",
      "429\n",
      "try 10 second wait time\n",
      "429\n",
      "try 10 second wait time\n",
      "429\n",
      "try 10 second wait time\n",
      "200\n",
      "total wait time :  92.32151985168457\n",
      "recovery api cost\n"
     ]
    },
    {
     "name": "stderr",
     "output_type": "stream",
     "text": [
      "\r",
      "  1%|▍                                | 131/10000 [1:49:36<159:22:53, 58.14s/it]"
     ]
    },
    {
     "name": "stdout",
     "output_type": "stream",
     "text": [
      "KR_5733432443의 데이터 수집이 완료되었습니다\n",
      "KR_5733435069의 데이터 수집을 시작합니다.\n"
     ]
    },
    {
     "name": "stderr",
     "output_type": "stream",
     "text": [
      "\r",
      "  1%|▍                                | 132/10000 [1:49:49<122:16:19, 44.61s/it]"
     ]
    },
    {
     "name": "stdout",
     "output_type": "stream",
     "text": [
      "KR_5733435069의 데이터 수집이 완료되었습니다\n",
      "KR_5733436271의 데이터 수집을 시작합니다.\n",
      "api cost full : infinite loop start\n",
      "try 10 second wait time\n",
      "429\n",
      "try 10 second wait time\n",
      "429\n",
      "try 10 second wait time\n",
      "429\n",
      "try 10 second wait time\n",
      "429\n",
      "try 10 second wait time\n",
      "429\n",
      "try 10 second wait time\n",
      "429\n",
      "try 10 second wait time\n",
      "429\n",
      "try 10 second wait time\n",
      "429\n",
      "try 10 second wait time\n",
      "200\n",
      "total wait time :  92.33054995536804\n",
      "recovery api cost\n"
     ]
    },
    {
     "name": "stderr",
     "output_type": "stream",
     "text": [
      "\r",
      "  1%|▍                                | 133/10000 [1:51:34<172:13:05, 62.83s/it]"
     ]
    },
    {
     "name": "stdout",
     "output_type": "stream",
     "text": [
      "KR_5733436271의 데이터 수집이 완료되었습니다\n",
      "KR_5733437187의 데이터 수집을 시작합니다.\n"
     ]
    },
    {
     "name": "stderr",
     "output_type": "stream",
     "text": [
      "\r",
      "  1%|▍                                | 134/10000 [1:51:47<131:34:28, 48.01s/it]"
     ]
    },
    {
     "name": "stdout",
     "output_type": "stream",
     "text": [
      "KR_5733437187의 데이터 수집이 완료되었습니다\n",
      "KR_5733437844의 데이터 수집을 시작합니다.\n"
     ]
    },
    {
     "name": "stderr",
     "output_type": "stream",
     "text": [
      "\r",
      "  1%|▍                                | 135/10000 [1:52:01<102:55:23, 37.56s/it]"
     ]
    },
    {
     "name": "stdout",
     "output_type": "stream",
     "text": [
      "KR_5733437844의 데이터 수집이 완료되었습니다\n",
      "KR_5733439575의 데이터 수집을 시작합니다.\n",
      "api cost full : infinite loop start\n",
      "try 10 second wait time\n",
      "429\n",
      "try 10 second wait time\n",
      "429\n",
      "try 10 second wait time\n",
      "429\n",
      "try 10 second wait time\n",
      "429\n",
      "try 10 second wait time\n",
      "429\n",
      "try 10 second wait time\n",
      "429\n",
      "try 10 second wait time\n",
      "429\n",
      "try 10 second wait time\n",
      "429\n",
      "try 10 second wait time\n",
      "200\n",
      "total wait time :  92.36980295181274\n",
      "recovery api cost\n"
     ]
    },
    {
     "name": "stderr",
     "output_type": "stream",
     "text": [
      "\r",
      "  1%|▍                                | 136/10000 [1:53:46<158:43:14, 57.93s/it]"
     ]
    },
    {
     "name": "stdout",
     "output_type": "stream",
     "text": [
      "KR_5733439575의 데이터 수집이 완료되었습니다\n",
      "KR_5733439901의 데이터 수집을 시작합니다.\n"
     ]
    },
    {
     "name": "stderr",
     "output_type": "stream",
     "text": [
      "\r",
      "  1%|▍                                | 137/10000 [1:53:59<121:47:06, 44.45s/it]"
     ]
    },
    {
     "name": "stdout",
     "output_type": "stream",
     "text": [
      "KR_5733439901의 데이터 수집이 완료되었습니다\n",
      "KR_5733441420의 데이터 수집을 시작합니다.\n",
      "api cost full : infinite loop start\n",
      "try 10 second wait time\n",
      "429\n",
      "try 10 second wait time\n",
      "429\n",
      "try 10 second wait time\n",
      "429\n",
      "try 10 second wait time\n",
      "429\n",
      "try 10 second wait time\n",
      "429\n",
      "try 10 second wait time\n",
      "429\n",
      "try 10 second wait time\n",
      "429\n",
      "try 10 second wait time\n",
      "429\n",
      "try 10 second wait time\n",
      "200\n",
      "total wait time :  92.28962111473083\n",
      "recovery api cost\n"
     ]
    },
    {
     "name": "stderr",
     "output_type": "stream",
     "text": [
      "\r",
      "  1%|▍                                | 138/10000 [1:55:45<172:37:06, 63.01s/it]"
     ]
    },
    {
     "name": "stdout",
     "output_type": "stream",
     "text": [
      "KR_5733441420의 데이터 수집이 완료되었습니다\n",
      "KR_5733443097의 데이터 수집을 시작합니다.\n"
     ]
    },
    {
     "name": "stderr",
     "output_type": "stream",
     "text": [
      "\r",
      "  1%|▍                                | 139/10000 [1:55:59<131:50:54, 48.13s/it]"
     ]
    },
    {
     "name": "stdout",
     "output_type": "stream",
     "text": [
      "KR_5733443097의 데이터 수집이 완료되었습니다\n",
      "KR_5733443621의 데이터 수집을 시작합니다.\n"
     ]
    },
    {
     "name": "stderr",
     "output_type": "stream",
     "text": [
      "\r",
      "  1%|▍                                | 140/10000 [1:56:12<103:21:02, 37.73s/it]"
     ]
    },
    {
     "name": "stdout",
     "output_type": "stream",
     "text": [
      "KR_5733443621의 데이터 수집이 완료되었습니다\n",
      "KR_5733444680의 데이터 수집을 시작합니다.\n",
      "api cost full : infinite loop start\n",
      "try 10 second wait time\n",
      "429\n",
      "try 10 second wait time\n",
      "429\n",
      "try 10 second wait time\n",
      "429\n",
      "try 10 second wait time\n",
      "429\n",
      "try 10 second wait time\n",
      "429\n",
      "try 10 second wait time\n",
      "429\n",
      "try 10 second wait time\n",
      "429\n",
      "try 10 second wait time\n",
      "429\n",
      "try 10 second wait time\n",
      "200\n",
      "total wait time :  92.27610111236572\n",
      "recovery api cost\n"
     ]
    },
    {
     "name": "stderr",
     "output_type": "stream",
     "text": [
      "\r",
      "  1%|▍                                | 141/10000 [1:57:58<159:23:42, 58.20s/it]"
     ]
    },
    {
     "name": "stdout",
     "output_type": "stream",
     "text": [
      "KR_5733444680의 데이터 수집이 완료되었습니다\n",
      "KR_5733444971의 데이터 수집을 시작합니다.\n"
     ]
    },
    {
     "name": "stderr",
     "output_type": "stream",
     "text": [
      "\r",
      "  1%|▍                                | 142/10000 [1:58:12<122:47:00, 44.84s/it]"
     ]
    },
    {
     "name": "stdout",
     "output_type": "stream",
     "text": [
      "KR_5733444971의 데이터 수집이 완료되었습니다\n",
      "KR_5733445003의 데이터 수집을 시작합니다.\n",
      "api cost full : infinite loop start\n",
      "try 10 second wait time\n",
      "429\n",
      "try 10 second wait time\n",
      "429\n",
      "try 10 second wait time\n",
      "429\n",
      "try 10 second wait time\n",
      "429\n",
      "try 10 second wait time\n",
      "429\n",
      "try 10 second wait time\n",
      "429\n",
      "try 10 second wait time\n",
      "429\n",
      "try 10 second wait time\n",
      "429\n",
      "try 10 second wait time\n",
      "200\n",
      "total wait time :  92.3769428730011\n",
      "recovery api cost\n"
     ]
    },
    {
     "name": "stderr",
     "output_type": "stream",
     "text": [
      "\r",
      "  1%|▍                                | 143/10000 [1:59:57<172:31:56, 63.01s/it]"
     ]
    },
    {
     "name": "stdout",
     "output_type": "stream",
     "text": [
      "KR_5733445003의 데이터 수집이 완료되었습니다\n",
      "KR_5733445358의 데이터 수집을 시작합니다.\n"
     ]
    },
    {
     "name": "stderr",
     "output_type": "stream",
     "text": [
      "\r",
      "  1%|▍                                | 144/10000 [2:00:11<132:00:35, 48.22s/it]"
     ]
    },
    {
     "name": "stdout",
     "output_type": "stream",
     "text": [
      "KR_5733445358의 데이터 수집이 완료되었습니다\n",
      "KR_5733445591의 데이터 수집을 시작합니다.\n"
     ]
    },
    {
     "name": "stderr",
     "output_type": "stream",
     "text": [
      "\r",
      "  1%|▍                                | 145/10000 [2:00:25<103:38:42, 37.86s/it]"
     ]
    },
    {
     "name": "stdout",
     "output_type": "stream",
     "text": [
      "KR_5733445591의 데이터 수집이 완료되었습니다\n",
      "KR_5733446058의 데이터 수집을 시작합니다.\n",
      "api cost full : infinite loop start\n",
      "try 10 second wait time\n",
      "429\n",
      "try 10 second wait time\n",
      "429\n",
      "try 10 second wait time\n",
      "429\n",
      "try 10 second wait time\n",
      "429\n",
      "try 10 second wait time\n",
      "429\n",
      "try 10 second wait time\n",
      "429\n",
      "try 10 second wait time\n",
      "429\n",
      "try 10 second wait time\n",
      "429\n",
      "try 10 second wait time\n",
      "200\n",
      "total wait time :  92.4077250957489\n",
      "recovery api cost\n"
     ]
    },
    {
     "name": "stderr",
     "output_type": "stream",
     "text": [
      "\r",
      "  1%|▍                                | 146/10000 [2:02:10<159:16:46, 58.19s/it]"
     ]
    },
    {
     "name": "stdout",
     "output_type": "stream",
     "text": [
      "KR_5733446058의 데이터 수집이 완료되었습니다\n",
      "KR_5733446263의 데이터 수집을 시작합니다.\n"
     ]
    },
    {
     "name": "stderr",
     "output_type": "stream",
     "text": [
      "\r",
      "  1%|▍                                | 147/10000 [2:02:24<122:45:32, 44.85s/it]"
     ]
    },
    {
     "name": "stdout",
     "output_type": "stream",
     "text": [
      "KR_5733446263의 데이터 수집이 완료되었습니다\n",
      "KR_5733447315의 데이터 수집을 시작합니다.\n",
      "api cost full : infinite loop start\n",
      "try 10 second wait time\n",
      "429\n",
      "try 10 second wait time\n",
      "429\n",
      "try 10 second wait time\n",
      "429\n",
      "try 10 second wait time\n",
      "429\n",
      "try 10 second wait time\n",
      "429\n",
      "try 10 second wait time\n",
      "429\n",
      "try 10 second wait time\n",
      "429\n",
      "try 10 second wait time\n",
      "429\n",
      "try 10 second wait time\n",
      "200\n",
      "total wait time :  92.27307391166687\n",
      "recovery api cost\n"
     ]
    },
    {
     "name": "stderr",
     "output_type": "stream",
     "text": [
      "\r",
      "  1%|▍                                | 148/10000 [2:04:10<173:02:34, 63.23s/it]"
     ]
    },
    {
     "name": "stdout",
     "output_type": "stream",
     "text": [
      "KR_5733447315의 데이터 수집이 완료되었습니다\n",
      "KR_5733447511의 데이터 수집을 시작합니다.\n"
     ]
    },
    {
     "name": "stderr",
     "output_type": "stream",
     "text": [
      "\r",
      "  1%|▍                                | 149/10000 [2:04:23<132:00:45, 48.24s/it]"
     ]
    },
    {
     "name": "stdout",
     "output_type": "stream",
     "text": [
      "KR_5733447511의 데이터 수집이 완료되었습니다\n",
      "KR_5733448200의 데이터 수집을 시작합니다.\n"
     ]
    },
    {
     "name": "stderr",
     "output_type": "stream",
     "text": [
      "\r",
      "  2%|▍                                | 150/10000 [2:04:37<103:39:47, 37.89s/it]"
     ]
    },
    {
     "name": "stdout",
     "output_type": "stream",
     "text": [
      "KR_5733448200의 데이터 수집이 완료되었습니다\n",
      "KR_5733451475의 데이터 수집을 시작합니다.\n",
      "api cost full : infinite loop start\n",
      "try 10 second wait time\n",
      "429\n",
      "try 10 second wait time\n",
      "429\n",
      "try 10 second wait time\n",
      "429\n",
      "try 10 second wait time\n",
      "429\n",
      "try 10 second wait time\n",
      "429\n",
      "try 10 second wait time\n",
      "429\n",
      "try 10 second wait time\n",
      "429\n",
      "try 10 second wait time\n",
      "429\n",
      "try 10 second wait time\n",
      "200\n",
      "total wait time :  92.4324688911438\n",
      "recovery api cost\n"
     ]
    },
    {
     "name": "stderr",
     "output_type": "stream",
     "text": [
      "\r",
      "  2%|▍                                | 151/10000 [2:06:23<159:33:25, 58.32s/it]"
     ]
    },
    {
     "name": "stdout",
     "output_type": "stream",
     "text": [
      "KR_5733451475의 데이터 수집이 완료되었습니다\n",
      "KR_5733452338의 데이터 수집을 시작합니다.\n"
     ]
    },
    {
     "name": "stderr",
     "output_type": "stream",
     "text": [
      "\r",
      "  2%|▌                                | 152/10000 [2:06:36<122:35:29, 44.81s/it]"
     ]
    },
    {
     "name": "stdout",
     "output_type": "stream",
     "text": [
      "KR_5733452338의 데이터 수집이 완료되었습니다\n",
      "KR_5733454841의 데이터 수집을 시작합니다.\n",
      "api cost full : infinite loop start\n",
      "try 10 second wait time\n",
      "429\n",
      "try 10 second wait time\n",
      "429\n",
      "try 10 second wait time\n",
      "429\n",
      "try 10 second wait time\n",
      "429\n",
      "try 10 second wait time\n",
      "429\n",
      "try 10 second wait time\n",
      "429\n",
      "try 10 second wait time\n",
      "429\n",
      "try 10 second wait time\n",
      "429\n",
      "try 10 second wait time\n",
      "200\n",
      "total wait time :  92.2997989654541\n",
      "recovery api cost\n"
     ]
    },
    {
     "name": "stderr",
     "output_type": "stream",
     "text": [
      "\r",
      "  2%|▌                                | 153/10000 [2:08:22<172:38:43, 63.12s/it]"
     ]
    },
    {
     "name": "stdout",
     "output_type": "stream",
     "text": [
      "KR_5733454841의 데이터 수집이 완료되었습니다\n",
      "KR_5733455413의 데이터 수집을 시작합니다.\n"
     ]
    },
    {
     "name": "stderr",
     "output_type": "stream",
     "text": [
      "\r",
      "  2%|▌                                | 154/10000 [2:08:35<131:34:28, 48.11s/it]"
     ]
    },
    {
     "name": "stdout",
     "output_type": "stream",
     "text": [
      "KR_5733455413의 데이터 수집이 완료되었습니다\n",
      "KR_5733456348의 데이터 수집을 시작합니다.\n"
     ]
    },
    {
     "name": "stderr",
     "output_type": "stream",
     "text": [
      "\r",
      "  2%|▌                                | 155/10000 [2:08:49<103:06:22, 37.70s/it]"
     ]
    },
    {
     "name": "stdout",
     "output_type": "stream",
     "text": [
      "KR_5733456348의 데이터 수집이 완료되었습니다\n",
      "KR_5733456924의 데이터 수집을 시작합니다.\n",
      "api cost full : infinite loop start\n",
      "try 10 second wait time\n",
      "429\n",
      "try 10 second wait time\n",
      "429\n",
      "try 10 second wait time\n",
      "429\n",
      "try 10 second wait time\n",
      "429\n",
      "try 10 second wait time\n",
      "429\n",
      "try 10 second wait time\n",
      "429\n",
      "try 10 second wait time\n",
      "429\n",
      "try 10 second wait time\n",
      "429\n",
      "try 10 second wait time\n",
      "200\n",
      "total wait time :  92.48783612251282\n",
      "recovery api cost\n"
     ]
    },
    {
     "name": "stderr",
     "output_type": "stream",
     "text": [
      "\r",
      "  2%|▌                                | 156/10000 [2:10:34<158:50:00, 58.09s/it]"
     ]
    },
    {
     "name": "stdout",
     "output_type": "stream",
     "text": [
      "KR_5733456924의 데이터 수집이 완료되었습니다\n",
      "KR_5733457590의 데이터 수집을 시작합니다.\n"
     ]
    },
    {
     "name": "stderr",
     "output_type": "stream",
     "text": [
      "\r",
      "  2%|▌                                | 157/10000 [2:10:48<122:15:25, 44.71s/it]"
     ]
    },
    {
     "name": "stdout",
     "output_type": "stream",
     "text": [
      "KR_5733457590의 데이터 수집이 완료되었습니다\n",
      "KR_5733457603의 데이터 수집을 시작합니다.\n",
      "api cost full : infinite loop start\n",
      "try 10 second wait time\n",
      "429\n",
      "try 10 second wait time\n",
      "429\n",
      "try 10 second wait time\n",
      "429\n",
      "try 10 second wait time\n",
      "429\n",
      "try 10 second wait time\n",
      "429\n",
      "try 10 second wait time\n",
      "429\n",
      "try 10 second wait time\n",
      "429\n",
      "try 10 second wait time\n",
      "429\n",
      "try 10 second wait time\n",
      "200\n",
      "total wait time :  92.27855277061462\n",
      "recovery api cost\n"
     ]
    },
    {
     "name": "stderr",
     "output_type": "stream",
     "text": [
      "\r",
      "  2%|▌                                | 158/10000 [2:12:34<172:23:15, 63.06s/it]"
     ]
    },
    {
     "name": "stdout",
     "output_type": "stream",
     "text": [
      "KR_5733457603의 데이터 수집이 완료되었습니다\n",
      "KR_5733463565의 데이터 수집을 시작합니다.\n"
     ]
    },
    {
     "name": "stderr",
     "output_type": "stream",
     "text": [
      "\r",
      "  2%|▌                                | 159/10000 [2:12:47<131:51:25, 48.24s/it]"
     ]
    },
    {
     "name": "stdout",
     "output_type": "stream",
     "text": [
      "KR_5733463565의 데이터 수집이 완료되었습니다\n",
      "KR_5733468376의 데이터 수집을 시작합니다.\n"
     ]
    },
    {
     "name": "stderr",
     "output_type": "stream",
     "text": [
      "\r",
      "  2%|▌                                | 160/10000 [2:13:01<103:13:38, 37.77s/it]"
     ]
    },
    {
     "name": "stdout",
     "output_type": "stream",
     "text": [
      "KR_5733468376의 데이터 수집이 완료되었습니다\n",
      "KR_5733468816의 데이터 수집을 시작합니다.\n",
      "api cost full : infinite loop start\n",
      "try 10 second wait time\n",
      "429\n",
      "try 10 second wait time\n",
      "429\n",
      "try 10 second wait time\n",
      "429\n",
      "try 10 second wait time\n",
      "429\n",
      "try 10 second wait time\n",
      "429\n",
      "try 10 second wait time\n",
      "429\n",
      "try 10 second wait time\n",
      "429\n",
      "try 10 second wait time\n",
      "429\n",
      "try 10 second wait time\n",
      "200\n",
      "total wait time :  92.39509510993958\n",
      "recovery api cost\n"
     ]
    },
    {
     "name": "stderr",
     "output_type": "stream",
     "text": [
      "\r",
      "  2%|▌                                | 161/10000 [2:14:47<159:05:03, 58.21s/it]"
     ]
    },
    {
     "name": "stdout",
     "output_type": "stream",
     "text": [
      "KR_5733468816의 데이터 수집이 완료되었습니다\n",
      "KR_5733470310의 데이터 수집을 시작합니다.\n"
     ]
    },
    {
     "name": "stderr",
     "output_type": "stream",
     "text": [
      "\r",
      "  2%|▌                                | 162/10000 [2:15:00<122:29:05, 44.82s/it]"
     ]
    },
    {
     "name": "stdout",
     "output_type": "stream",
     "text": [
      "KR_5733470310의 데이터 수집이 완료되었습니다\n",
      "KR_5733474659의 데이터 수집을 시작합니다.\n",
      "api cost full : infinite loop start\n",
      "try 10 second wait time\n",
      "429\n",
      "try 10 second wait time\n",
      "429\n",
      "try 10 second wait time\n",
      "429\n",
      "try 10 second wait time\n",
      "429\n",
      "try 10 second wait time\n",
      "429\n",
      "try 10 second wait time\n",
      "429\n",
      "try 10 second wait time\n",
      "429\n",
      "try 10 second wait time\n",
      "429\n",
      "try 10 second wait time\n",
      "200\n",
      "total wait time :  92.27965712547302\n",
      "recovery api cost\n"
     ]
    },
    {
     "name": "stderr",
     "output_type": "stream",
     "text": [
      "\r",
      "  2%|▌                                | 163/10000 [2:16:46<172:49:39, 63.25s/it]"
     ]
    },
    {
     "name": "stdout",
     "output_type": "stream",
     "text": [
      "KR_5733474659의 데이터 수집이 완료되었습니다\n",
      "KR_5733476375의 데이터 수집을 시작합니다.\n"
     ]
    },
    {
     "name": "stderr",
     "output_type": "stream",
     "text": [
      "\r",
      "  2%|▌                                | 164/10000 [2:17:00<131:58:49, 48.31s/it]"
     ]
    },
    {
     "name": "stdout",
     "output_type": "stream",
     "text": [
      "KR_5733476375의 데이터 수집이 완료되었습니다\n",
      "KR_5733478991의 데이터 수집을 시작합니다.\n"
     ]
    },
    {
     "name": "stderr",
     "output_type": "stream",
     "text": [
      "\r",
      "  2%|▌                                | 165/10000 [2:17:13<103:05:56, 37.74s/it]"
     ]
    },
    {
     "name": "stdout",
     "output_type": "stream",
     "text": [
      "KR_5733478991의 데이터 수집이 완료되었습니다\n",
      "KR_5733479499의 데이터 수집을 시작합니다.\n",
      "api cost full : infinite loop start\n",
      "try 10 second wait time\n",
      "429\n",
      "try 10 second wait time\n",
      "429\n",
      "try 10 second wait time\n",
      "429\n",
      "try 10 second wait time\n",
      "429\n",
      "try 10 second wait time\n",
      "429\n",
      "try 10 second wait time\n",
      "429\n",
      "try 10 second wait time\n",
      "429\n",
      "try 10 second wait time\n",
      "429\n",
      "try 10 second wait time\n",
      "200\n",
      "total wait time :  92.49319124221802\n",
      "recovery api cost\n"
     ]
    },
    {
     "name": "stderr",
     "output_type": "stream",
     "text": [
      "\r",
      "  2%|▌                                | 166/10000 [2:18:59<159:10:11, 58.27s/it]"
     ]
    },
    {
     "name": "stdout",
     "output_type": "stream",
     "text": [
      "KR_5733479499의 데이터 수집이 완료되었습니다\n",
      "KR_5733481380의 데이터 수집을 시작합니다.\n"
     ]
    },
    {
     "name": "stderr",
     "output_type": "stream",
     "text": [
      "\r",
      "  2%|▌                                | 167/10000 [2:19:12<122:04:56, 44.70s/it]"
     ]
    },
    {
     "name": "stdout",
     "output_type": "stream",
     "text": [
      "KR_5733481380의 데이터 수집이 완료되었습니다\n",
      "KR_5733482989의 데이터 수집을 시작합니다.\n",
      "api cost full : infinite loop start\n",
      "try 10 second wait time\n",
      "429\n",
      "try 10 second wait time\n",
      "429\n",
      "try 10 second wait time\n",
      "429\n",
      "try 10 second wait time\n",
      "429\n",
      "try 10 second wait time\n",
      "429\n",
      "try 10 second wait time\n",
      "429\n",
      "try 10 second wait time\n",
      "429\n",
      "try 10 second wait time\n",
      "429\n",
      "try 10 second wait time\n",
      "200\n",
      "total wait time :  93.15327286720276\n",
      "recovery api cost\n"
     ]
    },
    {
     "name": "stderr",
     "output_type": "stream",
     "text": [
      "\r",
      "  2%|▌                                | 168/10000 [2:20:59<172:56:04, 63.32s/it]"
     ]
    },
    {
     "name": "stdout",
     "output_type": "stream",
     "text": [
      "KR_5733482989의 데이터 수집이 완료되었습니다\n",
      "KR_5733483094의 데이터 수집을 시작합니다.\n"
     ]
    },
    {
     "name": "stderr",
     "output_type": "stream",
     "text": [
      "\r",
      "  2%|▌                                | 169/10000 [2:21:12<131:53:38, 48.30s/it]"
     ]
    },
    {
     "name": "stdout",
     "output_type": "stream",
     "text": [
      "KR_5733483094의 데이터 수집이 완료되었습니다\n",
      "KR_5733483211의 데이터 수집을 시작합니다.\n"
     ]
    },
    {
     "name": "stderr",
     "output_type": "stream",
     "text": [
      "\r",
      "  2%|▌                                | 170/10000 [2:21:26<103:34:51, 37.93s/it]"
     ]
    },
    {
     "name": "stdout",
     "output_type": "stream",
     "text": [
      "KR_5733483211의 데이터 수집이 완료되었습니다\n",
      "KR_5733483962의 데이터 수집을 시작합니다.\n",
      "api cost full : infinite loop start\n",
      "try 10 second wait time\n",
      "429\n",
      "try 10 second wait time\n",
      "429\n",
      "try 10 second wait time\n",
      "429\n",
      "try 10 second wait time\n",
      "429\n",
      "try 10 second wait time\n",
      "429\n",
      "try 10 second wait time\n",
      "429\n",
      "try 10 second wait time\n",
      "429\n",
      "try 10 second wait time\n",
      "429\n",
      "try 10 second wait time\n",
      "200\n",
      "total wait time :  92.29122400283813\n",
      "recovery api cost\n"
     ]
    },
    {
     "name": "stderr",
     "output_type": "stream",
     "text": [
      "\r",
      "  2%|▌                                | 171/10000 [2:23:12<159:03:40, 58.26s/it]"
     ]
    },
    {
     "name": "stdout",
     "output_type": "stream",
     "text": [
      "KR_5733483962의 데이터 수집이 완료되었습니다\n",
      "KR_5733486220의 데이터 수집을 시작합니다.\n"
     ]
    },
    {
     "name": "stderr",
     "output_type": "stream",
     "text": [
      "\r",
      "  2%|▌                                | 172/10000 [2:23:25<122:35:19, 44.90s/it]"
     ]
    },
    {
     "name": "stdout",
     "output_type": "stream",
     "text": [
      "KR_5733486220의 데이터 수집이 완료되었습니다\n",
      "KR_5733487915의 데이터 수집을 시작합니다.\n",
      "api cost full : infinite loop start\n",
      "try 10 second wait time\n",
      "429\n",
      "try 10 second wait time\n",
      "429\n",
      "try 10 second wait time\n",
      "429\n",
      "try 10 second wait time\n",
      "429\n",
      "try 10 second wait time\n",
      "429\n",
      "try 10 second wait time\n",
      "429\n",
      "try 10 second wait time\n",
      "429\n",
      "try 10 second wait time\n",
      "429\n",
      "try 10 second wait time\n",
      "200\n",
      "total wait time :  92.32693195343018\n",
      "recovery api cost\n"
     ]
    },
    {
     "name": "stderr",
     "output_type": "stream",
     "text": [
      "\r",
      "  2%|▌                                | 173/10000 [2:25:11<172:13:06, 63.09s/it]"
     ]
    },
    {
     "name": "stdout",
     "output_type": "stream",
     "text": [
      "KR_5733487915의 데이터 수집이 완료되었습니다\n",
      "KR_5733489056의 데이터 수집을 시작합니다.\n"
     ]
    },
    {
     "name": "stderr",
     "output_type": "stream",
     "text": [
      "\r",
      "  2%|▌                                | 174/10000 [2:25:25<131:40:27, 48.24s/it]"
     ]
    },
    {
     "name": "stdout",
     "output_type": "stream",
     "text": [
      "KR_5733489056의 데이터 수집이 완료되었습니다\n",
      "KR_5733490343의 데이터 수집을 시작합니다.\n"
     ]
    },
    {
     "name": "stderr",
     "output_type": "stream",
     "text": [
      "\r",
      "  2%|▌                                | 175/10000 [2:25:38<102:55:20, 37.71s/it]"
     ]
    },
    {
     "name": "stdout",
     "output_type": "stream",
     "text": [
      "KR_5733490343의 데이터 수집이 완료되었습니다\n",
      "KR_5733490807의 데이터 수집을 시작합니다.\n",
      "api cost full : infinite loop start\n",
      "try 10 second wait time\n",
      "429\n",
      "try 10 second wait time\n",
      "429\n",
      "try 10 second wait time\n",
      "429\n",
      "try 10 second wait time\n",
      "429\n",
      "try 10 second wait time\n",
      "429\n",
      "try 10 second wait time\n",
      "429\n",
      "try 10 second wait time\n",
      "429\n",
      "try 10 second wait time\n",
      "429\n",
      "try 10 second wait time\n",
      "200\n",
      "total wait time :  92.63341808319092\n",
      "recovery api cost\n"
     ]
    },
    {
     "name": "stderr",
     "output_type": "stream",
     "text": [
      "\r",
      "  2%|▌                                | 176/10000 [2:27:24<159:20:25, 58.39s/it]"
     ]
    },
    {
     "name": "stdout",
     "output_type": "stream",
     "text": [
      "KR_5733490807의 데이터 수집이 완료되었습니다\n",
      "KR_5733491253의 데이터 수집을 시작합니다.\n"
     ]
    },
    {
     "name": "stderr",
     "output_type": "stream",
     "text": [
      "\r",
      "  2%|▌                                | 177/10000 [2:27:37<122:13:05, 44.79s/it]"
     ]
    },
    {
     "name": "stdout",
     "output_type": "stream",
     "text": [
      "KR_5733491253의 데이터 수집이 완료되었습니다\n",
      "KR_5733491846의 데이터 수집을 시작합니다.\n",
      "api cost full : infinite loop start\n",
      "try 10 second wait time\n",
      "429\n",
      "try 10 second wait time\n",
      "429\n",
      "try 10 second wait time\n",
      "429\n",
      "try 10 second wait time\n",
      "429\n",
      "try 10 second wait time\n",
      "429\n",
      "try 10 second wait time\n",
      "429\n",
      "try 10 second wait time\n",
      "429\n",
      "try 10 second wait time\n",
      "429\n",
      "try 10 second wait time\n",
      "200\n",
      "total wait time :  92.30877900123596\n",
      "recovery api cost\n"
     ]
    },
    {
     "name": "stderr",
     "output_type": "stream",
     "text": [
      "\r",
      "  2%|▌                                | 178/10000 [2:29:23<172:00:39, 63.05s/it]"
     ]
    },
    {
     "name": "stdout",
     "output_type": "stream",
     "text": [
      "KR_5733491846의 데이터 수집이 완료되었습니다\n",
      "KR_5733492453의 데이터 수집을 시작합니다.\n"
     ]
    },
    {
     "name": "stderr",
     "output_type": "stream",
     "text": [
      "\r",
      "  2%|▌                                | 179/10000 [2:29:36<131:20:05, 48.14s/it]"
     ]
    },
    {
     "name": "stdout",
     "output_type": "stream",
     "text": [
      "KR_5733492453의 데이터 수집이 완료되었습니다\n",
      "KR_5733493213의 데이터 수집을 시작합니다.\n"
     ]
    },
    {
     "name": "stderr",
     "output_type": "stream",
     "text": [
      "\r",
      "  2%|▌                                | 180/10000 [2:29:50<103:14:04, 37.85s/it]"
     ]
    },
    {
     "name": "stdout",
     "output_type": "stream",
     "text": [
      "KR_5733493213의 데이터 수집이 완료되었습니다\n",
      "KR_5733494183의 데이터 수집을 시작합니다.\n",
      "api cost full : infinite loop start\n",
      "try 10 second wait time\n",
      "429\n",
      "try 10 second wait time\n",
      "429\n",
      "try 10 second wait time\n",
      "429\n",
      "try 10 second wait time\n",
      "429\n",
      "try 10 second wait time\n",
      "429\n",
      "try 10 second wait time\n",
      "429\n",
      "try 10 second wait time\n",
      "429\n",
      "try 10 second wait time\n",
      "429\n",
      "try 10 second wait time\n",
      "200\n",
      "total wait time :  92.30210518836975\n",
      "recovery api cost\n"
     ]
    },
    {
     "name": "stderr",
     "output_type": "stream",
     "text": [
      "\r",
      "  2%|▌                                | 181/10000 [2:31:36<158:32:19, 58.13s/it]"
     ]
    },
    {
     "name": "stdout",
     "output_type": "stream",
     "text": [
      "KR_5733494183의 데이터 수집이 완료되었습니다\n",
      "KR_5733496528의 데이터 수집을 시작합니다.\n"
     ]
    },
    {
     "name": "stderr",
     "output_type": "stream",
     "text": [
      "\r",
      "  2%|▌                                | 182/10000 [2:31:49<121:59:26, 44.73s/it]"
     ]
    },
    {
     "name": "stdout",
     "output_type": "stream",
     "text": [
      "KR_5733496528의 데이터 수집이 완료되었습니다\n",
      "KR_5733498284의 데이터 수집을 시작합니다.\n",
      "api cost full : infinite loop start\n",
      "try 10 second wait time\n",
      "429\n",
      "try 10 second wait time\n",
      "429\n",
      "try 10 second wait time\n",
      "429\n",
      "try 10 second wait time\n",
      "429\n",
      "try 10 second wait time\n",
      "429\n",
      "try 10 second wait time\n",
      "429\n",
      "try 10 second wait time\n",
      "429\n",
      "try 10 second wait time\n",
      "429\n",
      "try 10 second wait time\n",
      "200\n",
      "total wait time :  92.34915900230408\n",
      "recovery api cost\n"
     ]
    },
    {
     "name": "stderr",
     "output_type": "stream",
     "text": [
      "\r",
      "  2%|▌                                | 183/10000 [2:33:35<171:54:34, 63.04s/it]"
     ]
    },
    {
     "name": "stdout",
     "output_type": "stream",
     "text": [
      "KR_5733498284의 데이터 수집이 완료되었습니다\n",
      "KR_5733502119의 데이터 수집을 시작합니다.\n"
     ]
    },
    {
     "name": "stderr",
     "output_type": "stream",
     "text": [
      "\r",
      "  2%|▌                                | 184/10000 [2:33:48<131:13:46, 48.13s/it]"
     ]
    },
    {
     "name": "stdout",
     "output_type": "stream",
     "text": [
      "KR_5733502119의 데이터 수집이 완료되었습니다\n",
      "KR_5733502558의 데이터 수집을 시작합니다.\n"
     ]
    },
    {
     "name": "stderr",
     "output_type": "stream",
     "text": [
      "\r",
      "  2%|▌                                | 185/10000 [2:34:01<102:42:30, 37.67s/it]"
     ]
    },
    {
     "name": "stdout",
     "output_type": "stream",
     "text": [
      "KR_5733502558의 데이터 수집이 완료되었습니다\n",
      "KR_5733502767의 데이터 수집을 시작합니다.\n",
      "api cost full : infinite loop start\n",
      "try 10 second wait time\n",
      "429\n",
      "try 10 second wait time\n",
      "429\n",
      "try 10 second wait time\n",
      "429\n",
      "try 10 second wait time\n",
      "429\n",
      "try 10 second wait time\n",
      "429\n",
      "try 10 second wait time\n",
      "429\n",
      "try 10 second wait time\n",
      "429\n",
      "try 10 second wait time\n",
      "429\n",
      "try 10 second wait time\n",
      "200\n",
      "total wait time :  92.31695294380188\n",
      "recovery api cost\n"
     ]
    },
    {
     "name": "stderr",
     "output_type": "stream",
     "text": [
      "\r",
      "  2%|▌                                | 186/10000 [2:35:47<158:10:43, 58.02s/it]"
     ]
    },
    {
     "name": "stdout",
     "output_type": "stream",
     "text": [
      "KR_5733502767의 데이터 수집이 완료되었습니다\n",
      "KR_5733502788의 데이터 수집을 시작합니다.\n"
     ]
    },
    {
     "name": "stderr",
     "output_type": "stream",
     "text": [
      "\r",
      "  2%|▌                                | 187/10000 [2:36:00<121:43:13, 44.65s/it]"
     ]
    },
    {
     "name": "stdout",
     "output_type": "stream",
     "text": [
      "KR_5733502788의 데이터 수집이 완료되었습니다\n",
      "KR_5733504072의 데이터 수집을 시작합니다.\n",
      "api cost full : infinite loop start\n",
      "try 10 second wait time\n",
      "429\n",
      "try 10 second wait time\n",
      "429\n",
      "try 10 second wait time\n",
      "429\n",
      "try 10 second wait time\n",
      "429\n",
      "try 10 second wait time\n",
      "429\n",
      "try 10 second wait time\n",
      "429\n",
      "try 10 second wait time\n",
      "429\n",
      "try 10 second wait time\n",
      "429\n",
      "try 10 second wait time\n",
      "200\n",
      "total wait time :  92.31578183174133\n",
      "recovery api cost\n"
     ]
    },
    {
     "name": "stderr",
     "output_type": "stream",
     "text": [
      "\r",
      "  2%|▌                                | 188/10000 [2:37:46<171:43:26, 63.01s/it]"
     ]
    },
    {
     "name": "stdout",
     "output_type": "stream",
     "text": [
      "KR_5733504072의 데이터 수집이 완료되었습니다\n",
      "KR_5733506506의 데이터 수집을 시작합니다.\n"
     ]
    },
    {
     "name": "stderr",
     "output_type": "stream",
     "text": [
      "\r",
      "  2%|▌                                | 189/10000 [2:38:00<131:14:56, 48.16s/it]"
     ]
    },
    {
     "name": "stdout",
     "output_type": "stream",
     "text": [
      "KR_5733506506의 데이터 수집이 완료되었습니다\n",
      "KR_5733506633의 데이터 수집을 시작합니다.\n"
     ]
    },
    {
     "name": "stderr",
     "output_type": "stream",
     "text": [
      "\r",
      "  2%|▋                                | 190/10000 [2:38:13<102:53:28, 37.76s/it]"
     ]
    },
    {
     "name": "stdout",
     "output_type": "stream",
     "text": [
      "KR_5733506633의 데이터 수집이 완료되었습니다\n",
      "KR_5733507259의 데이터 수집을 시작합니다.\n",
      "api cost full : infinite loop start\n",
      "try 10 second wait time\n",
      "429\n",
      "try 10 second wait time\n",
      "429\n",
      "try 10 second wait time\n",
      "429\n",
      "try 10 second wait time\n",
      "429\n",
      "try 10 second wait time\n",
      "429\n",
      "try 10 second wait time\n",
      "429\n",
      "try 10 second wait time\n",
      "429\n",
      "try 10 second wait time\n",
      "429\n",
      "try 10 second wait time\n",
      "200\n",
      "total wait time :  92.40136098861694\n",
      "recovery api cost\n"
     ]
    },
    {
     "name": "stderr",
     "output_type": "stream",
     "text": [
      "\r",
      "  2%|▋                                | 191/10000 [2:39:59<158:30:03, 58.17s/it]"
     ]
    },
    {
     "name": "stdout",
     "output_type": "stream",
     "text": [
      "KR_5733507259의 데이터 수집이 완료되었습니다\n",
      "KR_5733507614의 데이터 수집을 시작합니다.\n"
     ]
    },
    {
     "name": "stderr",
     "output_type": "stream",
     "text": [
      "\r",
      "  2%|▋                                | 192/10000 [2:40:13<122:09:31, 44.84s/it]"
     ]
    },
    {
     "name": "stdout",
     "output_type": "stream",
     "text": [
      "KR_5733507614의 데이터 수집이 완료되었습니다\n",
      "KR_5733511235의 데이터 수집을 시작합니다.\n",
      "api cost full : infinite loop start\n",
      "try 10 second wait time\n",
      "429\n",
      "try 10 second wait time\n",
      "429\n",
      "try 10 second wait time\n",
      "429\n",
      "try 10 second wait time\n",
      "429\n",
      "try 10 second wait time\n",
      "429\n",
      "try 10 second wait time\n",
      "429\n",
      "try 10 second wait time\n",
      "429\n",
      "try 10 second wait time\n",
      "429\n",
      "try 10 second wait time\n",
      "200\n",
      "total wait time :  92.40178298950195\n",
      "recovery api cost\n"
     ]
    },
    {
     "name": "stderr",
     "output_type": "stream",
     "text": [
      "\r",
      "  2%|▋                                | 193/10000 [2:41:59<172:03:53, 63.16s/it]"
     ]
    },
    {
     "name": "stdout",
     "output_type": "stream",
     "text": [
      "KR_5733511235의 데이터 수집이 완료되었습니다\n",
      "KR_5733511427의 데이터 수집을 시작합니다.\n"
     ]
    },
    {
     "name": "stderr",
     "output_type": "stream",
     "text": [
      "\r",
      "  2%|▋                                | 194/10000 [2:42:12<131:06:33, 48.13s/it]"
     ]
    },
    {
     "name": "stdout",
     "output_type": "stream",
     "text": [
      "KR_5733511427의 데이터 수집이 완료되었습니다\n",
      "KR_5733511862의 데이터 수집을 시작합니다.\n"
     ]
    },
    {
     "name": "stderr",
     "output_type": "stream",
     "text": [
      "\r",
      "  2%|▋                                | 195/10000 [2:42:25<102:37:42, 37.68s/it]"
     ]
    },
    {
     "name": "stdout",
     "output_type": "stream",
     "text": [
      "KR_5733511862의 데이터 수집이 완료되었습니다\n",
      "KR_5733513964의 데이터 수집을 시작합니다.\n",
      "api cost full : infinite loop start\n",
      "try 10 second wait time\n",
      "429\n",
      "try 10 second wait time\n",
      "429\n",
      "try 10 second wait time\n",
      "429\n",
      "try 10 second wait time\n",
      "429\n",
      "try 10 second wait time\n",
      "429\n",
      "try 10 second wait time\n",
      "429\n",
      "try 10 second wait time\n",
      "429\n",
      "try 10 second wait time\n",
      "429\n",
      "try 10 second wait time\n",
      "200\n",
      "total wait time :  92.2609498500824\n",
      "recovery api cost\n"
     ]
    },
    {
     "name": "stderr",
     "output_type": "stream",
     "text": [
      "\r",
      "  2%|▋                                | 196/10000 [2:44:11<158:00:54, 58.02s/it]"
     ]
    },
    {
     "name": "stdout",
     "output_type": "stream",
     "text": [
      "KR_5733513964의 데이터 수집이 완료되었습니다\n",
      "KR_5733515705의 데이터 수집을 시작합니다.\n"
     ]
    },
    {
     "name": "stderr",
     "output_type": "stream",
     "text": [
      "\r",
      "  2%|▋                                | 197/10000 [2:44:25<122:06:51, 44.84s/it]"
     ]
    },
    {
     "name": "stdout",
     "output_type": "stream",
     "text": [
      "KR_5733515705의 데이터 수집이 완료되었습니다\n",
      "KR_5733516252의 데이터 수집을 시작합니다.\n",
      "api cost full : infinite loop start\n",
      "try 10 second wait time\n",
      "429\n",
      "try 10 second wait time\n",
      "429\n",
      "try 10 second wait time\n",
      "429\n",
      "try 10 second wait time\n",
      "429\n",
      "try 10 second wait time\n",
      "429\n",
      "try 10 second wait time\n",
      "429\n",
      "try 10 second wait time\n",
      "429\n",
      "try 10 second wait time\n",
      "429\n",
      "try 10 second wait time\n",
      "200\n",
      "total wait time :  92.3779399394989\n",
      "recovery api cost\n"
     ]
    },
    {
     "name": "stderr",
     "output_type": "stream",
     "text": [
      "\r",
      "  2%|▋                                | 198/10000 [2:46:11<172:03:27, 63.19s/it]"
     ]
    },
    {
     "name": "stdout",
     "output_type": "stream",
     "text": [
      "KR_5733516252의 데이터 수집이 완료되었습니다\n",
      "KR_5733516807의 데이터 수집을 시작합니다.\n"
     ]
    },
    {
     "name": "stderr",
     "output_type": "stream",
     "text": [
      "\r",
      "  2%|▋                                | 199/10000 [2:46:24<131:05:45, 48.15s/it]"
     ]
    },
    {
     "name": "stdout",
     "output_type": "stream",
     "text": [
      "KR_5733516807의 데이터 수집이 완료되었습니다\n",
      "KR_5733517061의 데이터 수집을 시작합니다.\n"
     ]
    },
    {
     "name": "stderr",
     "output_type": "stream",
     "text": [
      "\r",
      "  2%|▋                                | 200/10000 [2:46:37<102:33:36, 37.68s/it]"
     ]
    },
    {
     "name": "stdout",
     "output_type": "stream",
     "text": [
      "KR_5733517061의 데이터 수집이 완료되었습니다\n",
      "KR_5733517314의 데이터 수집을 시작합니다.\n",
      "api cost full : infinite loop start\n",
      "try 10 second wait time\n",
      "429\n",
      "try 10 second wait time\n",
      "429\n",
      "try 10 second wait time\n",
      "429\n",
      "try 10 second wait time\n",
      "429\n",
      "try 10 second wait time\n",
      "429\n",
      "try 10 second wait time\n",
      "429\n",
      "try 10 second wait time\n",
      "429\n",
      "try 10 second wait time\n",
      "429\n",
      "try 10 second wait time\n",
      "200\n",
      "total wait time :  92.26632595062256\n",
      "recovery api cost\n"
     ]
    },
    {
     "name": "stderr",
     "output_type": "stream",
     "text": [
      "\r",
      "  2%|▋                                | 201/10000 [2:48:23<158:09:46, 58.11s/it]"
     ]
    },
    {
     "name": "stdout",
     "output_type": "stream",
     "text": [
      "KR_5733517314의 데이터 수집이 완료되었습니다\n",
      "KR_5733518072의 데이터 수집을 시작합니다.\n"
     ]
    },
    {
     "name": "stderr",
     "output_type": "stream",
     "text": [
      "\r",
      "  2%|▋                                | 202/10000 [2:48:36<121:45:58, 44.74s/it]"
     ]
    },
    {
     "name": "stdout",
     "output_type": "stream",
     "text": [
      "KR_5733518072의 데이터 수집이 완료되었습니다\n",
      "KR_5733518270의 데이터 수집을 시작합니다.\n",
      "api cost full : infinite loop start\n",
      "try 10 second wait time\n",
      "429\n",
      "try 10 second wait time\n",
      "429\n",
      "try 10 second wait time\n",
      "429\n",
      "try 10 second wait time\n",
      "429\n",
      "try 10 second wait time\n",
      "429\n",
      "try 10 second wait time\n",
      "429\n",
      "try 10 second wait time\n",
      "429\n",
      "try 10 second wait time\n",
      "429\n",
      "try 10 second wait time\n",
      "200\n",
      "total wait time :  92.36715292930603\n",
      "recovery api cost\n"
     ]
    },
    {
     "name": "stderr",
     "output_type": "stream",
     "text": [
      "\r",
      "  2%|▋                                | 203/10000 [2:50:22<171:23:51, 62.98s/it]"
     ]
    },
    {
     "name": "stdout",
     "output_type": "stream",
     "text": [
      "KR_5733518270의 데이터 수집이 완료되었습니다\n",
      "KR_5733520990의 데이터 수집을 시작합니다.\n"
     ]
    },
    {
     "name": "stderr",
     "output_type": "stream",
     "text": [
      "\r",
      "  2%|▋                                | 204/10000 [2:50:36<131:29:53, 48.33s/it]"
     ]
    },
    {
     "name": "stdout",
     "output_type": "stream",
     "text": [
      "KR_5733520990의 데이터 수집이 완료되었습니다\n",
      "KR_5733523834의 데이터 수집을 시작합니다.\n"
     ]
    },
    {
     "name": "stderr",
     "output_type": "stream",
     "text": [
      "\r",
      "  2%|▋                                | 205/10000 [2:50:49<102:50:33, 37.80s/it]"
     ]
    },
    {
     "name": "stdout",
     "output_type": "stream",
     "text": [
      "KR_5733523834의 데이터 수집이 완료되었습니다\n",
      "KR_5733524210의 데이터 수집을 시작합니다.\n",
      "api cost full : infinite loop start\n",
      "try 10 second wait time\n",
      "429\n",
      "try 10 second wait time\n",
      "429\n",
      "try 10 second wait time\n",
      "429\n",
      "try 10 second wait time\n",
      "429\n",
      "try 10 second wait time\n",
      "429\n",
      "try 10 second wait time\n",
      "429\n",
      "try 10 second wait time\n",
      "429\n",
      "try 10 second wait time\n",
      "429\n",
      "try 10 second wait time\n",
      "200\n",
      "total wait time :  92.3192069530487\n",
      "recovery api cost\n"
     ]
    },
    {
     "name": "stderr",
     "output_type": "stream",
     "text": [
      "\r",
      "  2%|▋                                | 206/10000 [2:52:35<158:31:48, 58.27s/it]"
     ]
    },
    {
     "name": "stdout",
     "output_type": "stream",
     "text": [
      "KR_5733524210의 데이터 수집이 완료되었습니다\n",
      "KR_5733524524의 데이터 수집을 시작합니다.\n"
     ]
    },
    {
     "name": "stderr",
     "output_type": "stream",
     "text": [
      "\r",
      "  2%|▋                                | 207/10000 [2:52:49<121:56:37, 44.83s/it]"
     ]
    },
    {
     "name": "stdout",
     "output_type": "stream",
     "text": [
      "KR_5733524524의 데이터 수집이 완료되었습니다\n",
      "KR_5733525596의 데이터 수집을 시작합니다.\n",
      "api cost full : infinite loop start\n",
      "try 10 second wait time\n",
      "429\n",
      "try 10 second wait time\n",
      "429\n",
      "try 10 second wait time\n",
      "429\n",
      "try 10 second wait time\n",
      "429\n",
      "try 10 second wait time\n",
      "429\n",
      "try 10 second wait time\n",
      "429\n",
      "try 10 second wait time\n",
      "429\n",
      "try 10 second wait time\n",
      "429\n",
      "try 10 second wait time\n",
      "200\n",
      "total wait time :  92.3313901424408\n",
      "recovery api cost\n"
     ]
    },
    {
     "name": "stderr",
     "output_type": "stream",
     "text": [
      "\r",
      "  2%|▋                                | 208/10000 [2:54:34<171:27:29, 63.04s/it]"
     ]
    },
    {
     "name": "stdout",
     "output_type": "stream",
     "text": [
      "KR_5733525596의 데이터 수집이 완료되었습니다\n",
      "KR_5733526063의 데이터 수집을 시작합니다.\n"
     ]
    },
    {
     "name": "stderr",
     "output_type": "stream",
     "text": [
      "\r",
      "  2%|▋                                | 209/10000 [2:54:48<130:54:25, 48.13s/it]"
     ]
    },
    {
     "name": "stdout",
     "output_type": "stream",
     "text": [
      "KR_5733526063의 데이터 수집이 완료되었습니다\n",
      "KR_5733527241의 데이터 수집을 시작합니다.\n"
     ]
    },
    {
     "name": "stderr",
     "output_type": "stream",
     "text": [
      "\r",
      "  2%|▋                                | 210/10000 [2:55:01<102:25:59, 37.67s/it]"
     ]
    },
    {
     "name": "stdout",
     "output_type": "stream",
     "text": [
      "KR_5733527241의 데이터 수집이 완료되었습니다\n",
      "KR_5733527838의 데이터 수집을 시작합니다.\n",
      "api cost full : infinite loop start\n",
      "try 10 second wait time\n",
      "429\n",
      "try 10 second wait time\n",
      "429\n",
      "try 10 second wait time\n",
      "429\n",
      "try 10 second wait time\n",
      "429\n",
      "try 10 second wait time\n",
      "429\n",
      "try 10 second wait time\n",
      "429\n",
      "try 10 second wait time\n",
      "429\n",
      "try 10 second wait time\n",
      "429\n",
      "try 10 second wait time\n",
      "200\n",
      "total wait time :  92.55074262619019\n",
      "recovery api cost\n"
     ]
    },
    {
     "name": "stderr",
     "output_type": "stream",
     "text": [
      "\r",
      "  2%|▋                                | 211/10000 [2:56:47<158:21:33, 58.24s/it]"
     ]
    },
    {
     "name": "stdout",
     "output_type": "stream",
     "text": [
      "KR_5733527838의 데이터 수집이 완료되었습니다\n",
      "KR_5733528564의 데이터 수집을 시작합니다.\n"
     ]
    },
    {
     "name": "stderr",
     "output_type": "stream",
     "text": [
      "\r",
      "  2%|▋                                | 212/10000 [2:57:00<121:40:11, 44.75s/it]"
     ]
    },
    {
     "name": "stdout",
     "output_type": "stream",
     "text": [
      "KR_5733528564의 데이터 수집이 완료되었습니다\n",
      "KR_5733531344의 데이터 수집을 시작합니다.\n",
      "api cost full : infinite loop start\n",
      "try 10 second wait time\n",
      "429\n",
      "try 10 second wait time\n",
      "429\n",
      "try 10 second wait time\n",
      "429\n",
      "try 10 second wait time\n",
      "429\n",
      "try 10 second wait time\n",
      "429\n",
      "try 10 second wait time\n",
      "429\n",
      "try 10 second wait time\n",
      "429\n",
      "try 10 second wait time\n",
      "429\n",
      "try 10 second wait time\n",
      "200\n",
      "total wait time :  92.43417811393738\n",
      "recovery api cost\n"
     ]
    },
    {
     "name": "stderr",
     "output_type": "stream",
     "text": [
      "\r",
      "  2%|▋                                | 213/10000 [2:58:46<171:42:59, 63.16s/it]"
     ]
    },
    {
     "name": "stdout",
     "output_type": "stream",
     "text": [
      "KR_5733531344의 데이터 수집이 완료되었습니다\n",
      "KR_5733531580의 데이터 수집을 시작합니다.\n"
     ]
    },
    {
     "name": "stderr",
     "output_type": "stream",
     "text": [
      "\r",
      "  2%|▋                                | 214/10000 [2:59:00<131:05:26, 48.22s/it]"
     ]
    },
    {
     "name": "stdout",
     "output_type": "stream",
     "text": [
      "KR_5733531580의 데이터 수집이 완료되었습니다\n",
      "KR_5733531845의 데이터 수집을 시작합니다.\n"
     ]
    },
    {
     "name": "stderr",
     "output_type": "stream",
     "text": [
      "\r",
      "  2%|▋                                | 215/10000 [2:59:14<103:03:16, 37.91s/it]"
     ]
    },
    {
     "name": "stdout",
     "output_type": "stream",
     "text": [
      "KR_5733531845의 데이터 수집이 완료되었습니다\n",
      "KR_5733532443의 데이터 수집을 시작합니다.\n",
      "api cost full : infinite loop start\n",
      "try 10 second wait time\n",
      "429\n",
      "try 10 second wait time\n",
      "429\n",
      "try 10 second wait time\n",
      "429\n",
      "try 10 second wait time\n",
      "429\n",
      "try 10 second wait time\n",
      "429\n",
      "try 10 second wait time\n",
      "429\n",
      "try 10 second wait time\n",
      "429\n",
      "try 10 second wait time\n",
      "429\n",
      "try 10 second wait time\n",
      "200\n",
      "total wait time :  92.32946491241455\n",
      "recovery api cost\n"
     ]
    },
    {
     "name": "stderr",
     "output_type": "stream",
     "text": [
      "\r",
      "  2%|▋                                | 216/10000 [3:00:59<158:07:43, 58.18s/it]"
     ]
    },
    {
     "name": "stdout",
     "output_type": "stream",
     "text": [
      "KR_5733532443의 데이터 수집이 완료되었습니다\n",
      "KR_5733534703의 데이터 수집을 시작합니다.\n"
     ]
    },
    {
     "name": "stderr",
     "output_type": "stream",
     "text": [
      "\r",
      "  2%|▋                                | 217/10000 [3:01:13<121:54:15, 44.86s/it]"
     ]
    },
    {
     "name": "stdout",
     "output_type": "stream",
     "text": [
      "KR_5733534703의 데이터 수집이 완료되었습니다\n",
      "KR_5733539563의 데이터 수집을 시작합니다.\n",
      "api cost full : infinite loop start\n",
      "try 10 second wait time\n",
      "429\n",
      "try 10 second wait time\n",
      "429\n",
      "try 10 second wait time\n",
      "429\n",
      "try 10 second wait time\n",
      "429\n",
      "try 10 second wait time\n",
      "429\n",
      "try 10 second wait time\n",
      "429\n",
      "try 10 second wait time\n",
      "429\n",
      "try 10 second wait time\n",
      "429\n",
      "try 10 second wait time\n",
      "200\n",
      "total wait time :  92.32447910308838\n",
      "recovery api cost\n"
     ]
    },
    {
     "name": "stderr",
     "output_type": "stream",
     "text": [
      "\r",
      "  2%|▋                                | 218/10000 [3:02:58<171:18:47, 63.05s/it]"
     ]
    },
    {
     "name": "stdout",
     "output_type": "stream",
     "text": [
      "KR_5733539563의 데이터 수집이 완료되었습니다\n",
      "KR_5733541080의 데이터 수집을 시작합니다.\n"
     ]
    },
    {
     "name": "stderr",
     "output_type": "stream",
     "text": [
      "\r",
      "  2%|▋                                | 219/10000 [3:03:12<130:55:02, 48.19s/it]"
     ]
    },
    {
     "name": "stdout",
     "output_type": "stream",
     "text": [
      "KR_5733541080의 데이터 수집이 완료되었습니다\n",
      "KR_5733542069의 데이터 수집을 시작합니다.\n"
     ]
    },
    {
     "name": "stderr",
     "output_type": "stream",
     "text": [
      "\r",
      "  2%|▋                                | 220/10000 [3:03:26<102:51:58, 37.86s/it]"
     ]
    },
    {
     "name": "stdout",
     "output_type": "stream",
     "text": [
      "KR_5733542069의 데이터 수집이 완료되었습니다\n",
      "KR_5733543175의 데이터 수집을 시작합니다.\n",
      "api cost full : infinite loop start\n",
      "try 10 second wait time\n",
      "429\n",
      "try 10 second wait time\n",
      "429\n",
      "try 10 second wait time\n",
      "429\n",
      "try 10 second wait time\n",
      "429\n",
      "try 10 second wait time\n",
      "429\n",
      "try 10 second wait time\n",
      "429\n",
      "try 10 second wait time\n",
      "429\n",
      "try 10 second wait time\n",
      "429\n",
      "try 10 second wait time\n",
      "200\n",
      "total wait time :  90.57728171348572\n",
      "recovery api cost\n"
     ]
    },
    {
     "name": "stderr",
     "output_type": "stream",
     "text": [
      "\r",
      "  2%|▋                                | 221/10000 [3:05:10<156:37:53, 57.66s/it]"
     ]
    },
    {
     "name": "stdout",
     "output_type": "stream",
     "text": [
      "KR_5733543175의 데이터 수집이 완료되었습니다\n",
      "KR_5733543427의 데이터 수집을 시작합니다.\n"
     ]
    },
    {
     "name": "stderr",
     "output_type": "stream",
     "text": [
      "\r",
      "  2%|▋                                | 222/10000 [3:05:24<121:34:11, 44.76s/it]"
     ]
    },
    {
     "name": "stdout",
     "output_type": "stream",
     "text": [
      "KR_5733543427의 데이터 수집이 완료되었습니다\n",
      "KR_5733545040의 데이터 수집을 시작합니다.\n",
      "api cost full : infinite loop start\n",
      "try 10 second wait time\n",
      "429\n",
      "try 10 second wait time\n",
      "429\n",
      "try 10 second wait time\n",
      "429\n",
      "try 10 second wait time\n",
      "429\n",
      "try 10 second wait time\n",
      "429\n",
      "try 10 second wait time\n",
      "429\n",
      "try 10 second wait time\n",
      "429\n",
      "try 10 second wait time\n",
      "429\n",
      "try 10 second wait time\n",
      "200\n",
      "total wait time :  92.26258683204651\n",
      "recovery api cost\n"
     ]
    },
    {
     "name": "stderr",
     "output_type": "stream",
     "text": [
      "\r",
      "  2%|▋                                | 223/10000 [3:07:10<170:51:25, 62.91s/it]"
     ]
    },
    {
     "name": "stdout",
     "output_type": "stream",
     "text": [
      "KR_5733545040의 데이터 수집이 완료되었습니다\n",
      "KR_5733545614의 데이터 수집을 시작합니다.\n"
     ]
    },
    {
     "name": "stderr",
     "output_type": "stream",
     "text": [
      "\r",
      "  2%|▋                                | 224/10000 [3:07:23<130:15:41, 47.97s/it]"
     ]
    },
    {
     "name": "stdout",
     "output_type": "stream",
     "text": [
      "KR_5733545614의 데이터 수집이 완료되었습니다\n",
      "KR_5733545717의 데이터 수집을 시작합니다.\n"
     ]
    },
    {
     "name": "stderr",
     "output_type": "stream",
     "text": [
      "\r",
      "  2%|▋                                | 225/10000 [3:07:36<102:26:53, 37.73s/it]"
     ]
    },
    {
     "name": "stdout",
     "output_type": "stream",
     "text": [
      "KR_5733545717의 데이터 수집이 완료되었습니다\n",
      "KR_5733545874의 데이터 수집을 시작합니다.\n",
      "api cost full : infinite loop start\n",
      "try 10 second wait time\n",
      "429\n",
      "try 10 second wait time\n",
      "429\n",
      "try 10 second wait time\n",
      "429\n",
      "try 10 second wait time\n",
      "429\n",
      "try 10 second wait time\n",
      "429\n",
      "try 10 second wait time\n",
      "429\n",
      "try 10 second wait time\n",
      "429\n",
      "try 10 second wait time\n",
      "429\n",
      "try 10 second wait time\n",
      "200\n",
      "total wait time :  92.37153100967407\n",
      "recovery api cost\n"
     ]
    },
    {
     "name": "stderr",
     "output_type": "stream",
     "text": [
      "\r",
      "  2%|▋                                | 226/10000 [3:09:22<157:37:21, 58.06s/it]"
     ]
    },
    {
     "name": "stdout",
     "output_type": "stream",
     "text": [
      "KR_5733545874의 데이터 수집이 완료되었습니다\n",
      "KR_5733546547의 데이터 수집을 시작합니다.\n"
     ]
    },
    {
     "name": "stderr",
     "output_type": "stream",
     "text": [
      "\r",
      "  2%|▋                                | 227/10000 [3:09:35<121:07:57, 44.62s/it]"
     ]
    },
    {
     "name": "stdout",
     "output_type": "stream",
     "text": [
      "KR_5733546547의 데이터 수집이 완료되었습니다\n",
      "KR_5733546910의 데이터 수집을 시작합니다.\n",
      "api cost full : infinite loop start\n",
      "try 10 second wait time\n",
      "429\n",
      "try 10 second wait time\n",
      "429\n",
      "try 10 second wait time\n",
      "429\n",
      "try 10 second wait time\n",
      "429\n",
      "try 10 second wait time\n",
      "429\n",
      "try 10 second wait time\n",
      "429\n",
      "try 10 second wait time\n",
      "429\n",
      "try 10 second wait time\n",
      "429\n",
      "try 10 second wait time\n",
      "200\n",
      "total wait time :  92.37158417701721\n",
      "recovery api cost\n"
     ]
    },
    {
     "name": "stderr",
     "output_type": "stream",
     "text": [
      "\r",
      "  2%|▊                                | 228/10000 [3:11:21<170:43:16, 62.89s/it]"
     ]
    },
    {
     "name": "stdout",
     "output_type": "stream",
     "text": [
      "KR_5733546910의 데이터 수집이 완료되었습니다\n",
      "KR_5733551427의 데이터 수집을 시작합니다.\n"
     ]
    },
    {
     "name": "stderr",
     "output_type": "stream",
     "text": [
      "\r",
      "  2%|▊                                | 229/10000 [3:11:34<130:05:02, 47.93s/it]"
     ]
    },
    {
     "name": "stdout",
     "output_type": "stream",
     "text": [
      "KR_5733551427의 데이터 수집이 완료되었습니다\n",
      "KR_5733552263의 데이터 수집을 시작합니다.\n"
     ]
    },
    {
     "name": "stderr",
     "output_type": "stream",
     "text": [
      "\r",
      "  2%|▊                                | 230/10000 [3:11:48<102:17:03, 37.69s/it]"
     ]
    },
    {
     "name": "stdout",
     "output_type": "stream",
     "text": [
      "KR_5733552263의 데이터 수집이 완료되었습니다\n",
      "KR_5733554797의 데이터 수집을 시작합니다.\n",
      "api cost full : infinite loop start\n",
      "try 10 second wait time\n",
      "429\n",
      "try 10 second wait time\n",
      "429\n",
      "try 10 second wait time\n",
      "429\n",
      "try 10 second wait time\n",
      "429\n",
      "try 10 second wait time\n",
      "429\n",
      "try 10 second wait time\n",
      "429\n",
      "try 10 second wait time\n",
      "429\n",
      "try 10 second wait time\n",
      "429\n",
      "try 10 second wait time\n",
      "200\n",
      "total wait time :  92.24599289894104\n",
      "recovery api cost\n"
     ]
    },
    {
     "name": "stderr",
     "output_type": "stream",
     "text": [
      "\r",
      "  2%|▊                                | 231/10000 [3:13:33<157:24:32, 58.01s/it]"
     ]
    },
    {
     "name": "stdout",
     "output_type": "stream",
     "text": [
      "KR_5733554797의 데이터 수집이 완료되었습니다\n",
      "KR_5733555326의 데이터 수집을 시작합니다.\n"
     ]
    },
    {
     "name": "stderr",
     "output_type": "stream",
     "text": [
      "\r",
      "  2%|▊                                | 232/10000 [3:13:47<121:15:56, 44.69s/it]"
     ]
    },
    {
     "name": "stdout",
     "output_type": "stream",
     "text": [
      "KR_5733555326의 데이터 수집이 완료되었습니다\n",
      "KR_5733556389의 데이터 수집을 시작합니다.\n",
      "api cost full : infinite loop start\n",
      "try 10 second wait time\n",
      "429\n",
      "try 10 second wait time\n",
      "429\n",
      "try 10 second wait time\n",
      "429\n",
      "try 10 second wait time\n",
      "429\n",
      "try 10 second wait time\n",
      "429\n",
      "try 10 second wait time\n",
      "429\n",
      "try 10 second wait time\n",
      "429\n",
      "try 10 second wait time\n",
      "429\n",
      "try 10 second wait time\n",
      "200\n",
      "total wait time :  92.37259316444397\n",
      "recovery api cost\n"
     ]
    },
    {
     "name": "stderr",
     "output_type": "stream",
     "text": [
      "\r",
      "  2%|▊                                | 233/10000 [3:15:32<170:54:52, 63.00s/it]"
     ]
    },
    {
     "name": "stdout",
     "output_type": "stream",
     "text": [
      "KR_5733556389의 데이터 수집이 완료되었습니다\n",
      "KR_5733558181의 데이터 수집을 시작합니다.\n"
     ]
    },
    {
     "name": "stderr",
     "output_type": "stream",
     "text": [
      "\r",
      "  2%|▊                                | 234/10000 [3:15:45<130:15:42, 48.02s/it]"
     ]
    },
    {
     "name": "stdout",
     "output_type": "stream",
     "text": [
      "KR_5733558181의 데이터 수집이 완료되었습니다\n",
      "KR_5733558604의 데이터 수집을 시작합니다.\n"
     ]
    },
    {
     "name": "stderr",
     "output_type": "stream",
     "text": [
      "\r",
      "  2%|▊                                | 235/10000 [3:15:59<102:25:09, 37.76s/it]"
     ]
    },
    {
     "name": "stdout",
     "output_type": "stream",
     "text": [
      "KR_5733558604의 데이터 수집이 완료되었습니다\n",
      "KR_5733559838의 데이터 수집을 시작합니다.\n",
      "api cost full : infinite loop start\n",
      "try 10 second wait time\n",
      "429\n",
      "try 10 second wait time\n",
      "429\n",
      "try 10 second wait time\n",
      "429\n",
      "try 10 second wait time\n",
      "429\n",
      "try 10 second wait time\n",
      "429\n",
      "try 10 second wait time\n",
      "429\n",
      "try 10 second wait time\n",
      "429\n",
      "try 10 second wait time\n",
      "429\n",
      "try 10 second wait time\n",
      "200\n",
      "total wait time :  93.24086308479309\n",
      "recovery api cost\n"
     ]
    },
    {
     "name": "stderr",
     "output_type": "stream",
     "text": [
      "\r",
      "  2%|▊                                | 236/10000 [3:17:46<158:28:10, 58.43s/it]"
     ]
    },
    {
     "name": "stdout",
     "output_type": "stream",
     "text": [
      "KR_5733559838의 데이터 수집이 완료되었습니다\n",
      "KR_5733560823의 데이터 수집을 시작합니다.\n"
     ]
    },
    {
     "name": "stderr",
     "output_type": "stream",
     "text": [
      "\r",
      "  2%|▊                                | 237/10000 [3:18:00<122:04:01, 45.01s/it]"
     ]
    },
    {
     "name": "stdout",
     "output_type": "stream",
     "text": [
      "KR_5733560823의 데이터 수집이 완료되었습니다\n",
      "KR_5733561156의 데이터 수집을 시작합니다.\n",
      "api cost full : infinite loop start\n",
      "try 10 second wait time\n",
      "429\n",
      "try 10 second wait time\n",
      "429\n",
      "try 10 second wait time\n",
      "429\n",
      "try 10 second wait time\n",
      "429\n",
      "try 10 second wait time\n",
      "429\n",
      "try 10 second wait time\n",
      "429\n",
      "try 10 second wait time\n",
      "429\n",
      "try 10 second wait time\n",
      "429\n",
      "try 10 second wait time\n",
      "200\n",
      "total wait time :  92.37932109832764\n",
      "recovery api cost\n"
     ]
    },
    {
     "name": "stderr",
     "output_type": "stream",
     "text": [
      "\r",
      "  2%|▊                                | 238/10000 [3:19:45<171:14:05, 63.15s/it]"
     ]
    },
    {
     "name": "stdout",
     "output_type": "stream",
     "text": [
      "KR_5733561156의 데이터 수집이 완료되었습니다\n",
      "KR_5733562717의 데이터 수집을 시작합니다.\n"
     ]
    },
    {
     "name": "stderr",
     "output_type": "stream",
     "text": [
      "\r",
      "  2%|▊                                | 239/10000 [3:19:58<130:35:25, 48.16s/it]"
     ]
    },
    {
     "name": "stdout",
     "output_type": "stream",
     "text": [
      "KR_5733562717의 데이터 수집이 완료되었습니다\n",
      "KR_5733563184의 데이터 수집을 시작합니다.\n"
     ]
    },
    {
     "name": "stderr",
     "output_type": "stream",
     "text": [
      "\r",
      "  2%|▊                                | 240/10000 [3:20:11<102:10:30, 37.69s/it]"
     ]
    },
    {
     "name": "stdout",
     "output_type": "stream",
     "text": [
      "KR_5733563184의 데이터 수집이 완료되었습니다\n",
      "KR_5733564661의 데이터 수집을 시작합니다.\n",
      "api cost full : infinite loop start\n",
      "try 10 second wait time\n",
      "429\n",
      "try 10 second wait time\n",
      "429\n",
      "try 10 second wait time\n",
      "429\n",
      "try 10 second wait time\n",
      "429\n",
      "try 10 second wait time\n",
      "429\n",
      "try 10 second wait time\n",
      "429\n",
      "try 10 second wait time\n",
      "429\n",
      "try 10 second wait time\n",
      "429\n",
      "try 10 second wait time\n",
      "200\n",
      "total wait time :  92.330393075943\n",
      "recovery api cost\n"
     ]
    },
    {
     "name": "stderr",
     "output_type": "stream",
     "text": [
      "\r",
      "  2%|▊                                | 241/10000 [3:21:57<157:25:34, 58.07s/it]"
     ]
    },
    {
     "name": "stdout",
     "output_type": "stream",
     "text": [
      "KR_5733564661의 데이터 수집이 완료되었습니다\n",
      "KR_5733564820의 데이터 수집을 시작합니다.\n"
     ]
    },
    {
     "name": "stderr",
     "output_type": "stream",
     "text": [
      "\r",
      "  2%|▊                                | 242/10000 [3:22:11<121:06:23, 44.68s/it]"
     ]
    },
    {
     "name": "stdout",
     "output_type": "stream",
     "text": [
      "KR_5733564820의 데이터 수집이 완료되었습니다\n",
      "KR_5733565667의 데이터 수집을 시작합니다.\n",
      "api cost full : infinite loop start\n",
      "try 10 second wait time\n",
      "429\n",
      "try 10 second wait time\n",
      "429\n",
      "try 10 second wait time\n",
      "429\n",
      "try 10 second wait time\n",
      "429\n",
      "try 10 second wait time\n",
      "429\n",
      "try 10 second wait time\n",
      "429\n",
      "try 10 second wait time\n",
      "429\n",
      "try 10 second wait time\n",
      "429\n",
      "try 10 second wait time\n",
      "200\n",
      "total wait time :  92.3106541633606\n",
      "recovery api cost\n"
     ]
    },
    {
     "name": "stderr",
     "output_type": "stream",
     "text": [
      "\r",
      "  2%|▊                                | 243/10000 [3:23:56<170:23:19, 62.87s/it]"
     ]
    },
    {
     "name": "stdout",
     "output_type": "stream",
     "text": [
      "KR_5733565667의 데이터 수집이 완료되었습니다\n",
      "KR_5733567678의 데이터 수집을 시작합니다.\n"
     ]
    },
    {
     "name": "stderr",
     "output_type": "stream",
     "text": [
      "\r",
      "  2%|▊                                | 244/10000 [3:24:09<130:06:03, 48.01s/it]"
     ]
    },
    {
     "name": "stdout",
     "output_type": "stream",
     "text": [
      "KR_5733567678의 데이터 수집이 완료되었습니다\n",
      "KR_5733567905의 데이터 수집을 시작합니다.\n"
     ]
    },
    {
     "name": "stderr",
     "output_type": "stream",
     "text": [
      "\r",
      "  2%|▊                                | 245/10000 [3:24:23<102:12:17, 37.72s/it]"
     ]
    },
    {
     "name": "stdout",
     "output_type": "stream",
     "text": [
      "KR_5733567905의 데이터 수집이 완료되었습니다\n",
      "KR_5733568336의 데이터 수집을 시작합니다.\n",
      "api cost full : infinite loop start\n",
      "try 10 second wait time\n",
      "429\n",
      "try 10 second wait time\n",
      "429\n",
      "try 10 second wait time\n",
      "429\n",
      "try 10 second wait time\n",
      "429\n",
      "try 10 second wait time\n",
      "429\n",
      "try 10 second wait time\n",
      "429\n",
      "try 10 second wait time\n",
      "429\n",
      "try 10 second wait time\n",
      "429\n",
      "try 10 second wait time\n",
      "200\n",
      "total wait time :  92.4947578907013\n",
      "recovery api cost\n"
     ]
    },
    {
     "name": "stderr",
     "output_type": "stream",
     "text": [
      "\r",
      "  2%|▊                                | 246/10000 [3:26:08<157:22:48, 58.09s/it]"
     ]
    },
    {
     "name": "stdout",
     "output_type": "stream",
     "text": [
      "KR_5733568336의 데이터 수집이 완료되었습니다\n",
      "KR_5733568945의 데이터 수집을 시작합니다.\n"
     ]
    },
    {
     "name": "stderr",
     "output_type": "stream",
     "text": [
      "\r",
      "  2%|▊                                | 247/10000 [3:26:22<121:01:23, 44.67s/it]"
     ]
    },
    {
     "name": "stdout",
     "output_type": "stream",
     "text": [
      "KR_5733568945의 데이터 수집이 완료되었습니다\n",
      "KR_5733569258의 데이터 수집을 시작합니다.\n",
      "api cost full : infinite loop start\n",
      "try 10 second wait time\n",
      "429\n",
      "try 10 second wait time\n",
      "429\n",
      "try 10 second wait time\n",
      "429\n",
      "try 10 second wait time\n",
      "429\n",
      "try 10 second wait time\n",
      "429\n",
      "try 10 second wait time\n",
      "429\n",
      "try 10 second wait time\n",
      "429\n",
      "try 10 second wait time\n",
      "429\n",
      "try 10 second wait time\n",
      "200\n",
      "total wait time :  92.27712416648865\n",
      "recovery api cost\n"
     ]
    },
    {
     "name": "stderr",
     "output_type": "stream",
     "text": [
      "\r",
      "  2%|▊                                | 248/10000 [3:28:08<171:01:16, 63.13s/it]"
     ]
    },
    {
     "name": "stdout",
     "output_type": "stream",
     "text": [
      "KR_5733569258의 데이터 수집이 완료되었습니다\n",
      "KR_5733570211의 데이터 수집을 시작합니다.\n"
     ]
    },
    {
     "name": "stderr",
     "output_type": "stream",
     "text": [
      "\r",
      "  2%|▊                                | 249/10000 [3:28:22<130:47:43, 48.29s/it]"
     ]
    },
    {
     "name": "stdout",
     "output_type": "stream",
     "text": [
      "KR_5733570211의 데이터 수집이 완료되었습니다\n",
      "KR_5733571582의 데이터 수집을 시작합니다.\n"
     ]
    },
    {
     "name": "stderr",
     "output_type": "stream",
     "text": [
      "\r",
      "  2%|▊                                | 250/10000 [3:28:35<102:39:15, 37.90s/it]"
     ]
    },
    {
     "name": "stdout",
     "output_type": "stream",
     "text": [
      "KR_5733571582의 데이터 수집이 완료되었습니다\n",
      "KR_5733574297의 데이터 수집을 시작합니다.\n",
      "api cost full : infinite loop start\n",
      "try 10 second wait time\n",
      "429\n",
      "try 10 second wait time\n",
      "429\n",
      "try 10 second wait time\n",
      "429\n",
      "try 10 second wait time\n",
      "429\n",
      "try 10 second wait time\n",
      "429\n",
      "try 10 second wait time\n",
      "429\n",
      "try 10 second wait time\n",
      "429\n",
      "try 10 second wait time\n",
      "429\n",
      "try 10 second wait time\n",
      "200\n",
      "total wait time :  92.34812307357788\n",
      "recovery api cost\n"
     ]
    },
    {
     "name": "stderr",
     "output_type": "stream",
     "text": [
      "\r",
      "  3%|▊                                | 251/10000 [3:30:23<158:59:08, 58.71s/it]"
     ]
    },
    {
     "name": "stdout",
     "output_type": "stream",
     "text": [
      "KR_5733574297의 데이터 수집이 완료되었습니다\n",
      "KR_5733574867의 데이터 수집을 시작합니다.\n"
     ]
    },
    {
     "name": "stderr",
     "output_type": "stream",
     "text": [
      "\r",
      "  3%|▊                                | 252/10000 [3:30:36<122:04:50, 45.09s/it]"
     ]
    },
    {
     "name": "stdout",
     "output_type": "stream",
     "text": [
      "KR_5733574867의 데이터 수집이 완료되었습니다\n",
      "KR_5733575083의 데이터 수집을 시작합니다.\n",
      "api cost full : infinite loop start\n",
      "try 10 second wait time\n",
      "429\n",
      "try 10 second wait time\n",
      "429\n",
      "try 10 second wait time\n",
      "429\n",
      "try 10 second wait time\n",
      "429\n",
      "try 10 second wait time\n",
      "429\n",
      "try 10 second wait time\n",
      "429\n",
      "try 10 second wait time\n",
      "429\n",
      "try 10 second wait time\n",
      "429\n",
      "try 10 second wait time\n",
      "200\n",
      "total wait time :  92.59023809432983\n",
      "recovery api cost\n"
     ]
    },
    {
     "name": "stderr",
     "output_type": "stream",
     "text": [
      "\r",
      "  3%|▊                                | 253/10000 [3:32:22<171:48:21, 63.46s/it]"
     ]
    },
    {
     "name": "stdout",
     "output_type": "stream",
     "text": [
      "KR_5733575083의 데이터 수집이 완료되었습니다\n",
      "KR_5733576514의 데이터 수집을 시작합니다.\n"
     ]
    },
    {
     "name": "stderr",
     "output_type": "stream",
     "text": [
      "\r",
      "  3%|▊                                | 254/10000 [3:32:36<131:47:46, 48.68s/it]"
     ]
    },
    {
     "name": "stdout",
     "output_type": "stream",
     "text": [
      "KR_5733576514의 데이터 수집이 완료되었습니다\n",
      "KR_5733577024의 데이터 수집을 시작합니다.\n"
     ]
    },
    {
     "name": "stderr",
     "output_type": "stream",
     "text": [
      "\r",
      "  3%|▊                                | 255/10000 [3:32:50<102:56:33, 38.03s/it]"
     ]
    },
    {
     "name": "stdout",
     "output_type": "stream",
     "text": [
      "KR_5733577024의 데이터 수집이 완료되었습니다\n",
      "KR_5733577232의 데이터 수집을 시작합니다.\n",
      "api cost full : infinite loop start\n",
      "try 10 second wait time\n",
      "429\n",
      "try 10 second wait time\n",
      "429\n",
      "try 10 second wait time\n",
      "429\n",
      "try 10 second wait time\n",
      "429\n",
      "try 10 second wait time\n",
      "429\n",
      "try 10 second wait time\n",
      "429\n",
      "try 10 second wait time\n",
      "429\n",
      "try 10 second wait time\n",
      "429\n",
      "try 10 second wait time\n",
      "200\n",
      "total wait time :  92.34898519515991\n",
      "recovery api cost\n"
     ]
    },
    {
     "name": "stderr",
     "output_type": "stream",
     "text": [
      "\r",
      "  3%|▊                                | 256/10000 [3:34:38<159:48:10, 59.04s/it]"
     ]
    },
    {
     "name": "stdout",
     "output_type": "stream",
     "text": [
      "KR_5733577232의 데이터 수집이 완료되었습니다\n",
      "KR_5733578407의 데이터 수집을 시작합니다.\n"
     ]
    },
    {
     "name": "stderr",
     "output_type": "stream",
     "text": [
      "\r",
      "  3%|▊                                | 257/10000 [3:34:51<123:01:03, 45.45s/it]"
     ]
    },
    {
     "name": "stdout",
     "output_type": "stream",
     "text": [
      "KR_5733578407의 데이터 수집이 완료되었습니다\n",
      "KR_5733579266의 데이터 수집을 시작합니다.\n",
      "api cost full : infinite loop start\n",
      "try 10 second wait time\n",
      "429\n",
      "try 10 second wait time\n",
      "429\n",
      "try 10 second wait time\n",
      "429\n",
      "try 10 second wait time\n",
      "429\n",
      "try 10 second wait time\n",
      "429\n",
      "try 10 second wait time\n",
      "429\n",
      "try 10 second wait time\n",
      "429\n",
      "try 10 second wait time\n",
      "429\n",
      "try 10 second wait time\n",
      "200\n",
      "total wait time :  92.29841780662537\n",
      "recovery api cost\n"
     ]
    },
    {
     "name": "stderr",
     "output_type": "stream",
     "text": [
      "\r",
      "  3%|▊                                | 258/10000 [3:36:37<171:43:24, 63.46s/it]"
     ]
    },
    {
     "name": "stdout",
     "output_type": "stream",
     "text": [
      "KR_5733579266의 데이터 수집이 완료되었습니다\n",
      "KR_5733588223의 데이터 수집을 시작합니다.\n"
     ]
    },
    {
     "name": "stderr",
     "output_type": "stream",
     "text": [
      "\r",
      "  3%|▊                                | 259/10000 [3:36:50<130:44:47, 48.32s/it]"
     ]
    },
    {
     "name": "stdout",
     "output_type": "stream",
     "text": [
      "KR_5733588223의 데이터 수집이 완료되었습니다\n",
      "KR_5733588613의 데이터 수집을 시작합니다.\n"
     ]
    },
    {
     "name": "stderr",
     "output_type": "stream",
     "text": [
      "\r",
      "  3%|▊                                | 260/10000 [3:37:04<102:38:23, 37.94s/it]"
     ]
    },
    {
     "name": "stdout",
     "output_type": "stream",
     "text": [
      "KR_5733588613의 데이터 수집이 완료되었습니다\n",
      "KR_5733592418의 데이터 수집을 시작합니다.\n",
      "api cost full : infinite loop start\n",
      "try 10 second wait time\n",
      "429\n",
      "try 10 second wait time\n",
      "429\n",
      "try 10 second wait time\n",
      "429\n",
      "try 10 second wait time\n",
      "429\n",
      "try 10 second wait time\n",
      "429\n",
      "try 10 second wait time\n",
      "429\n",
      "try 10 second wait time\n",
      "429\n",
      "try 10 second wait time\n",
      "429\n",
      "try 10 second wait time\n",
      "200\n",
      "total wait time :  92.349445104599\n",
      "recovery api cost\n"
     ]
    },
    {
     "name": "stderr",
     "output_type": "stream",
     "text": [
      "\r",
      "  3%|▊                                | 261/10000 [3:38:49<157:43:27, 58.30s/it]"
     ]
    },
    {
     "name": "stdout",
     "output_type": "stream",
     "text": [
      "KR_5733592418의 데이터 수집이 완료되었습니다\n",
      "KR_5733593023의 데이터 수집을 시작합니다.\n"
     ]
    },
    {
     "name": "stderr",
     "output_type": "stream",
     "text": [
      "\r",
      "  3%|▊                                | 262/10000 [3:39:02<120:55:56, 44.71s/it]"
     ]
    },
    {
     "name": "stdout",
     "output_type": "stream",
     "text": [
      "KR_5733593023의 데이터 수집이 완료되었습니다\n",
      "KR_5733593727의 데이터 수집을 시작합니다.\n",
      "api cost full : infinite loop start\n",
      "try 10 second wait time\n",
      "429\n",
      "try 10 second wait time\n",
      "429\n",
      "try 10 second wait time\n",
      "429\n",
      "try 10 second wait time\n",
      "429\n",
      "try 10 second wait time\n",
      "429\n",
      "try 10 second wait time\n",
      "429\n",
      "try 10 second wait time\n",
      "429\n",
      "try 10 second wait time\n",
      "429\n",
      "try 10 second wait time\n",
      "200\n",
      "total wait time :  92.6342830657959\n",
      "recovery api cost\n"
     ]
    },
    {
     "name": "stderr",
     "output_type": "stream",
     "text": [
      "\r",
      "  3%|▊                                | 263/10000 [3:40:48<170:36:31, 63.08s/it]"
     ]
    },
    {
     "name": "stdout",
     "output_type": "stream",
     "text": [
      "KR_5733593727의 데이터 수집이 완료되었습니다\n",
      "KR_5733593933의 데이터 수집을 시작합니다.\n"
     ]
    },
    {
     "name": "stderr",
     "output_type": "stream",
     "text": [
      "\r",
      "  3%|▊                                | 264/10000 [3:41:02<130:13:49, 48.15s/it]"
     ]
    },
    {
     "name": "stdout",
     "output_type": "stream",
     "text": [
      "KR_5733593933의 데이터 수집이 완료되었습니다\n",
      "KR_5733595343의 데이터 수집을 시작합니다.\n"
     ]
    },
    {
     "name": "stderr",
     "output_type": "stream",
     "text": [
      "\r",
      "  3%|▊                                | 265/10000 [3:41:15<102:00:07, 37.72s/it]"
     ]
    },
    {
     "name": "stdout",
     "output_type": "stream",
     "text": [
      "KR_5733595343의 데이터 수집이 완료되었습니다\n",
      "KR_5733595969의 데이터 수집을 시작합니다.\n",
      "api cost full : infinite loop start\n",
      "try 10 second wait time\n",
      "429\n",
      "try 10 second wait time\n",
      "429\n",
      "try 10 second wait time\n",
      "429\n",
      "try 10 second wait time\n",
      "429\n",
      "try 10 second wait time\n",
      "429\n",
      "try 10 second wait time\n",
      "429\n",
      "try 10 second wait time\n",
      "429\n",
      "try 10 second wait time\n",
      "429\n",
      "try 10 second wait time\n",
      "200\n",
      "total wait time :  92.27033805847168\n",
      "recovery api cost\n"
     ]
    },
    {
     "name": "stderr",
     "output_type": "stream",
     "text": [
      "\r",
      "  3%|▉                                | 266/10000 [3:43:01<157:06:47, 58.11s/it]"
     ]
    },
    {
     "name": "stdout",
     "output_type": "stream",
     "text": [
      "KR_5733595969의 데이터 수집이 완료되었습니다\n",
      "KR_5733596867의 데이터 수집을 시작합니다.\n"
     ]
    },
    {
     "name": "stderr",
     "output_type": "stream",
     "text": [
      "\r",
      "  3%|▉                                | 267/10000 [3:43:14<120:51:48, 44.70s/it]"
     ]
    },
    {
     "name": "stdout",
     "output_type": "stream",
     "text": [
      "KR_5733596867의 데이터 수집이 완료되었습니다\n",
      "KR_5733597336의 데이터 수집을 시작합니다.\n",
      "api cost full : infinite loop start\n",
      "try 10 second wait time\n",
      "429\n",
      "try 10 second wait time\n",
      "429\n",
      "try 10 second wait time\n",
      "429\n",
      "try 10 second wait time\n",
      "429\n",
      "try 10 second wait time\n",
      "429\n",
      "try 10 second wait time\n",
      "429\n",
      "try 10 second wait time\n",
      "429\n",
      "try 10 second wait time\n",
      "429\n",
      "try 10 second wait time\n",
      "200\n",
      "total wait time :  92.36465096473694\n",
      "recovery api cost\n"
     ]
    },
    {
     "name": "stderr",
     "output_type": "stream",
     "text": [
      "\r",
      "  3%|▉                                | 268/10000 [3:45:00<170:18:02, 63.00s/it]"
     ]
    },
    {
     "name": "stdout",
     "output_type": "stream",
     "text": [
      "KR_5733597336의 데이터 수집이 완료되었습니다\n",
      "KR_5733598372의 데이터 수집을 시작합니다.\n"
     ]
    },
    {
     "name": "stderr",
     "output_type": "stream",
     "text": [
      "\r",
      "  3%|▉                                | 269/10000 [3:45:13<130:10:53, 48.16s/it]"
     ]
    },
    {
     "name": "stdout",
     "output_type": "stream",
     "text": [
      "KR_5733598372의 데이터 수집이 완료되었습니다\n",
      "KR_5733598821의 데이터 수집을 시작합니다.\n"
     ]
    },
    {
     "name": "stderr",
     "output_type": "stream",
     "text": [
      "\r",
      "  3%|▉                                | 270/10000 [3:45:27<102:09:12, 37.80s/it]"
     ]
    },
    {
     "name": "stdout",
     "output_type": "stream",
     "text": [
      "KR_5733598821의 데이터 수집이 완료되었습니다\n",
      "KR_5733600347의 데이터 수집을 시작합니다.\n",
      "api cost full : infinite loop start\n",
      "try 10 second wait time\n",
      "429\n",
      "try 10 second wait time\n",
      "429\n",
      "try 10 second wait time\n",
      "429\n",
      "try 10 second wait time\n",
      "429\n",
      "try 10 second wait time\n",
      "429\n",
      "try 10 second wait time\n",
      "429\n",
      "try 10 second wait time\n",
      "429\n",
      "try 10 second wait time\n",
      "429\n",
      "try 10 second wait time\n",
      "200\n",
      "total wait time :  92.33630704879761\n",
      "recovery api cost\n"
     ]
    },
    {
     "name": "stderr",
     "output_type": "stream",
     "text": [
      "\r",
      "  3%|▉                                | 271/10000 [3:47:12<156:52:06, 58.05s/it]"
     ]
    },
    {
     "name": "stdout",
     "output_type": "stream",
     "text": [
      "KR_5733600347의 데이터 수집이 완료되었습니다\n",
      "KR_5733601602의 데이터 수집을 시작합니다.\n"
     ]
    },
    {
     "name": "stderr",
     "output_type": "stream",
     "text": [
      "\r",
      "  3%|▉                                | 272/10000 [3:47:26<120:30:52, 44.60s/it]"
     ]
    },
    {
     "name": "stdout",
     "output_type": "stream",
     "text": [
      "KR_5733601602의 데이터 수집이 완료되었습니다\n",
      "KR_5733603357의 데이터 수집을 시작합니다.\n",
      "api cost full : infinite loop start\n",
      "try 10 second wait time\n",
      "429\n",
      "try 10 second wait time\n",
      "429\n",
      "try 10 second wait time\n",
      "429\n",
      "try 10 second wait time\n",
      "429\n",
      "try 10 second wait time\n",
      "429\n",
      "try 10 second wait time\n",
      "429\n",
      "try 10 second wait time\n",
      "429\n",
      "try 10 second wait time\n",
      "429\n",
      "try 10 second wait time\n",
      "200\n",
      "total wait time :  92.25689339637756\n",
      "recovery api cost\n"
     ]
    },
    {
     "name": "stderr",
     "output_type": "stream",
     "text": [
      "\r",
      "  3%|▉                                | 273/10000 [3:49:11<169:55:25, 62.89s/it]"
     ]
    },
    {
     "name": "stdout",
     "output_type": "stream",
     "text": [
      "KR_5733603357의 데이터 수집이 완료되었습니다\n",
      "KR_5733603415의 데이터 수집을 시작합니다.\n"
     ]
    },
    {
     "name": "stderr",
     "output_type": "stream",
     "text": [
      "\r",
      "  3%|▉                                | 274/10000 [3:49:24<129:42:57, 48.01s/it]"
     ]
    },
    {
     "name": "stdout",
     "output_type": "stream",
     "text": [
      "KR_5733603415의 데이터 수집이 완료되었습니다\n",
      "KR_5733603663의 데이터 수집을 시작합니다.\n"
     ]
    },
    {
     "name": "stderr",
     "output_type": "stream",
     "text": [
      "\r",
      "  3%|▉                                | 275/10000 [3:49:38<101:23:32, 37.53s/it]"
     ]
    },
    {
     "name": "stdout",
     "output_type": "stream",
     "text": [
      "KR_5733603663의 데이터 수집이 완료되었습니다\n",
      "KR_5733604625의 데이터 수집을 시작합니다.\n",
      "api cost full : infinite loop start\n",
      "try 10 second wait time\n",
      "429\n",
      "try 10 second wait time\n",
      "429\n",
      "try 10 second wait time\n",
      "429\n",
      "try 10 second wait time\n",
      "429\n",
      "try 10 second wait time\n",
      "429\n",
      "try 10 second wait time\n",
      "429\n",
      "try 10 second wait time\n",
      "429\n",
      "try 10 second wait time\n",
      "429\n",
      "try 10 second wait time\n",
      "200\n",
      "total wait time :  90.07171773910522\n",
      "recovery api cost\n"
     ]
    },
    {
     "name": "stderr",
     "output_type": "stream",
     "text": [
      "\r",
      "  3%|▉                                | 276/10000 [3:51:21<154:38:42, 57.25s/it]"
     ]
    },
    {
     "name": "stdout",
     "output_type": "stream",
     "text": [
      "KR_5733604625의 데이터 수집이 완료되었습니다\n",
      "KR_5733605095의 데이터 수집을 시작합니다.\n"
     ]
    },
    {
     "name": "stderr",
     "output_type": "stream",
     "text": [
      "\r",
      "  3%|▉                                | 277/10000 [3:51:34<119:15:14, 44.15s/it]"
     ]
    },
    {
     "name": "stdout",
     "output_type": "stream",
     "text": [
      "KR_5733605095의 데이터 수집이 완료되었습니다\n",
      "KR_5733607329의 데이터 수집을 시작합니다.\n",
      "api cost full : infinite loop start\n",
      "try 10 second wait time\n",
      "429\n",
      "try 10 second wait time\n",
      "429\n",
      "try 10 second wait time\n",
      "429\n",
      "try 10 second wait time\n",
      "429\n",
      "try 10 second wait time\n",
      "429\n",
      "try 10 second wait time\n",
      "429\n",
      "try 10 second wait time\n",
      "429\n",
      "try 10 second wait time\n",
      "429\n",
      "try 10 second wait time\n",
      "200\n",
      "total wait time :  92.4702820777893\n",
      "recovery api cost\n"
     ]
    },
    {
     "name": "stderr",
     "output_type": "stream",
     "text": [
      "\r",
      "  3%|▉                                | 278/10000 [3:53:20<169:03:22, 62.60s/it]"
     ]
    },
    {
     "name": "stdout",
     "output_type": "stream",
     "text": [
      "KR_5733607329의 데이터 수집이 완료되었습니다\n",
      "KR_5733608353의 데이터 수집을 시작합니다.\n"
     ]
    },
    {
     "name": "stderr",
     "output_type": "stream",
     "text": [
      "\r",
      "  3%|▉                                | 279/10000 [3:53:33<128:47:35, 47.70s/it]"
     ]
    },
    {
     "name": "stdout",
     "output_type": "stream",
     "text": [
      "KR_5733608353의 데이터 수집이 완료되었습니다\n",
      "KR_5733611671의 데이터 수집을 시작합니다.\n"
     ]
    },
    {
     "name": "stderr",
     "output_type": "stream",
     "text": [
      "\r",
      "  3%|▉                                | 280/10000 [3:53:47<101:40:34, 37.66s/it]"
     ]
    },
    {
     "name": "stdout",
     "output_type": "stream",
     "text": [
      "KR_5733611671의 데이터 수집이 완료되었습니다\n",
      "KR_5733611974의 데이터 수집을 시작합니다.\n",
      "api cost full : infinite loop start\n",
      "try 10 second wait time\n",
      "429\n",
      "try 10 second wait time\n",
      "429\n",
      "try 10 second wait time\n",
      "429\n",
      "try 10 second wait time\n",
      "429\n",
      "try 10 second wait time\n",
      "429\n",
      "try 10 second wait time\n",
      "429\n",
      "try 10 second wait time\n",
      "429\n",
      "try 10 second wait time\n",
      "429\n",
      "try 10 second wait time\n",
      "200\n",
      "total wait time :  92.373526096344\n",
      "recovery api cost\n"
     ]
    },
    {
     "name": "stderr",
     "output_type": "stream",
     "text": [
      "\r",
      "  3%|▉                                | 281/10000 [3:55:33<157:07:22, 58.20s/it]"
     ]
    },
    {
     "name": "stdout",
     "output_type": "stream",
     "text": [
      "KR_5733611974의 데이터 수집이 완료되었습니다\n",
      "KR_5733613511의 데이터 수집을 시작합니다.\n"
     ]
    },
    {
     "name": "stderr",
     "output_type": "stream",
     "text": [
      "\r",
      "  3%|▉                                | 282/10000 [3:55:46<120:34:21, 44.67s/it]"
     ]
    },
    {
     "name": "stdout",
     "output_type": "stream",
     "text": [
      "KR_5733613511의 데이터 수집이 완료되었습니다\n",
      "KR_5733614731의 데이터 수집을 시작합니다.\n",
      "api cost full : infinite loop start\n",
      "try 10 second wait time\n",
      "429\n",
      "try 10 second wait time\n",
      "429\n",
      "try 10 second wait time\n",
      "429\n",
      "try 10 second wait time\n",
      "429\n",
      "try 10 second wait time\n",
      "429\n",
      "try 10 second wait time\n",
      "429\n",
      "try 10 second wait time\n",
      "429\n",
      "try 10 second wait time\n",
      "429\n",
      "try 10 second wait time\n",
      "200\n",
      "total wait time :  92.56222581863403\n",
      "recovery api cost\n"
     ]
    },
    {
     "name": "stderr",
     "output_type": "stream",
     "text": [
      "\r",
      "  3%|▉                                | 283/10000 [3:57:32<170:10:58, 63.05s/it]"
     ]
    },
    {
     "name": "stdout",
     "output_type": "stream",
     "text": [
      "KR_5733614731의 데이터 수집이 완료되었습니다\n",
      "KR_5733618870의 데이터 수집을 시작합니다.\n"
     ]
    },
    {
     "name": "stderr",
     "output_type": "stream",
     "text": [
      "\r",
      "  3%|▉                                | 284/10000 [3:57:45<129:41:49, 48.06s/it]"
     ]
    },
    {
     "name": "stdout",
     "output_type": "stream",
     "text": [
      "KR_5733618870의 데이터 수집이 완료되었습니다\n",
      "KR_5733619170의 데이터 수집을 시작합니다.\n"
     ]
    },
    {
     "name": "stderr",
     "output_type": "stream",
     "text": [
      "\r",
      "  3%|▉                                | 285/10000 [3:57:59<101:45:47, 37.71s/it]"
     ]
    },
    {
     "name": "stdout",
     "output_type": "stream",
     "text": [
      "KR_5733619170의 데이터 수집이 완료되었습니다\n",
      "KR_5733619292의 데이터 수집을 시작합니다.\n",
      "api cost full : infinite loop start\n",
      "try 10 second wait time\n",
      "429\n",
      "try 10 second wait time\n",
      "429\n",
      "try 10 second wait time\n",
      "429\n",
      "try 10 second wait time\n",
      "429\n",
      "try 10 second wait time\n",
      "429\n",
      "try 10 second wait time\n",
      "429\n",
      "try 10 second wait time\n",
      "429\n",
      "try 10 second wait time\n",
      "429\n",
      "try 10 second wait time\n",
      "200\n",
      "total wait time :  92.32883524894714\n",
      "recovery api cost\n"
     ]
    },
    {
     "name": "stderr",
     "output_type": "stream",
     "text": [
      "\r",
      "  3%|▉                                | 286/10000 [3:59:45<157:06:55, 58.23s/it]"
     ]
    },
    {
     "name": "stdout",
     "output_type": "stream",
     "text": [
      "KR_5733619292의 데이터 수집이 완료되었습니다\n",
      "KR_5733620037의 데이터 수집을 시작합니다.\n"
     ]
    },
    {
     "name": "stderr",
     "output_type": "stream",
     "text": [
      "\r",
      "  3%|▉                                | 287/10000 [3:59:59<120:59:27, 44.84s/it]"
     ]
    },
    {
     "name": "stdout",
     "output_type": "stream",
     "text": [
      "KR_5733620037의 데이터 수집이 완료되었습니다\n",
      "KR_5733621263의 데이터 수집을 시작합니다.\n",
      "api cost full : infinite loop start\n",
      "try 10 second wait time\n",
      "429\n",
      "try 10 second wait time\n",
      "429\n",
      "try 10 second wait time\n",
      "429\n",
      "try 10 second wait time\n",
      "429\n",
      "try 10 second wait time\n",
      "429\n",
      "try 10 second wait time\n",
      "429\n",
      "try 10 second wait time\n",
      "429\n",
      "try 10 second wait time\n",
      "429\n",
      "try 10 second wait time\n",
      "200\n",
      "total wait time :  92.28892588615417\n",
      "recovery api cost\n"
     ]
    },
    {
     "name": "stderr",
     "output_type": "stream",
     "text": [
      "\r",
      "  3%|▉                                | 288/10000 [4:01:46<171:10:26, 63.45s/it]"
     ]
    },
    {
     "name": "stdout",
     "output_type": "stream",
     "text": [
      "KR_5733621263의 데이터 수집이 완료되었습니다\n",
      "KR_5733621506의 데이터 수집을 시작합니다.\n"
     ]
    },
    {
     "name": "stderr",
     "output_type": "stream",
     "text": [
      "\r",
      "  3%|▉                                | 289/10000 [4:01:59<130:43:56, 48.46s/it]"
     ]
    },
    {
     "name": "stdout",
     "output_type": "stream",
     "text": [
      "KR_5733621506의 데이터 수집이 완료되었습니다\n",
      "KR_5733623161의 데이터 수집을 시작합니다.\n"
     ]
    },
    {
     "name": "stderr",
     "output_type": "stream",
     "text": [
      "\r",
      "  3%|▉                                | 290/10000 [4:02:13<102:42:10, 38.08s/it]"
     ]
    },
    {
     "name": "stdout",
     "output_type": "stream",
     "text": [
      "KR_5733623161의 데이터 수집이 완료되었습니다\n",
      "KR_5733623308의 데이터 수집을 시작합니다.\n",
      "api cost full : infinite loop start\n",
      "try 10 second wait time\n",
      "429\n",
      "try 10 second wait time\n",
      "429\n",
      "try 10 second wait time\n",
      "429\n",
      "try 10 second wait time\n",
      "429\n",
      "try 10 second wait time\n",
      "429\n",
      "try 10 second wait time\n",
      "429\n",
      "try 10 second wait time\n",
      "429\n",
      "try 10 second wait time\n",
      "429\n",
      "try 10 second wait time\n",
      "200\n",
      "total wait time :  92.38655686378479\n",
      "recovery api cost\n"
     ]
    },
    {
     "name": "stderr",
     "output_type": "stream",
     "text": [
      "\r",
      "  3%|▉                                | 291/10000 [4:03:59<157:40:39, 58.47s/it]"
     ]
    },
    {
     "name": "stdout",
     "output_type": "stream",
     "text": [
      "KR_5733623308의 데이터 수집이 완료되었습니다\n",
      "KR_5733623382의 데이터 수집을 시작합니다.\n"
     ]
    },
    {
     "name": "stderr",
     "output_type": "stream",
     "text": [
      "\r",
      "  3%|▉                                | 292/10000 [4:04:12<121:07:44, 44.92s/it]"
     ]
    },
    {
     "name": "stdout",
     "output_type": "stream",
     "text": [
      "KR_5733623382의 데이터 수집이 완료되었습니다\n",
      "KR_5733624389의 데이터 수집을 시작합니다.\n",
      "api cost full : infinite loop start\n",
      "try 10 second wait time\n",
      "429\n",
      "try 10 second wait time\n",
      "429\n",
      "try 10 second wait time\n",
      "429\n",
      "try 10 second wait time\n",
      "429\n",
      "try 10 second wait time\n",
      "429\n",
      "try 10 second wait time\n",
      "429\n",
      "try 10 second wait time\n",
      "429\n",
      "try 10 second wait time\n",
      "429\n",
      "try 10 second wait time\n",
      "200\n",
      "total wait time :  94.64124011993408\n",
      "recovery api cost\n"
     ]
    },
    {
     "name": "stderr",
     "output_type": "stream",
     "text": [
      "\r",
      "  3%|▉                                | 293/10000 [4:06:01<172:32:54, 63.99s/it]"
     ]
    },
    {
     "name": "stdout",
     "output_type": "stream",
     "text": [
      "KR_5733624389의 데이터 수집이 완료되었습니다\n",
      "KR_5733625352의 데이터 수집을 시작합니다.\n"
     ]
    },
    {
     "name": "stderr",
     "output_type": "stream",
     "text": [
      "\r",
      "  3%|▉                                | 294/10000 [4:06:15<132:16:34, 49.06s/it]"
     ]
    },
    {
     "name": "stdout",
     "output_type": "stream",
     "text": [
      "KR_5733625352의 데이터 수집이 완료되었습니다\n",
      "KR_5733626334의 데이터 수집을 시작합니다.\n"
     ]
    },
    {
     "name": "stderr",
     "output_type": "stream",
     "text": [
      "\r",
      "  3%|▉                                | 295/10000 [4:06:28<103:27:01, 38.37s/it]"
     ]
    },
    {
     "name": "stdout",
     "output_type": "stream",
     "text": [
      "KR_5733626334의 데이터 수집이 완료되었습니다\n",
      "KR_5733628588의 데이터 수집을 시작합니다.\n",
      "api cost full : infinite loop start\n",
      "try 10 second wait time\n",
      "429\n",
      "try 10 second wait time\n",
      "429\n",
      "try 10 second wait time\n",
      "429\n",
      "try 10 second wait time\n",
      "429\n",
      "try 10 second wait time\n",
      "429\n",
      "try 10 second wait time\n",
      "429\n",
      "try 10 second wait time\n",
      "429\n",
      "try 10 second wait time\n",
      "429\n",
      "try 10 second wait time\n",
      "200\n",
      "total wait time :  92.4062111377716\n",
      "recovery api cost\n"
     ]
    },
    {
     "name": "stderr",
     "output_type": "stream",
     "text": [
      "\r",
      "  3%|▉                                | 296/10000 [4:08:14<157:48:24, 58.54s/it]"
     ]
    },
    {
     "name": "stdout",
     "output_type": "stream",
     "text": [
      "KR_5733628588의 데이터 수집이 완료되었습니다\n",
      "KR_5733631609의 데이터 수집을 시작합니다.\n"
     ]
    },
    {
     "name": "stderr",
     "output_type": "stream",
     "text": [
      "\r",
      "  3%|▉                                | 297/10000 [4:08:27<121:16:28, 45.00s/it]"
     ]
    },
    {
     "name": "stdout",
     "output_type": "stream",
     "text": [
      "KR_5733631609의 데이터 수집이 완료되었습니다\n",
      "KR_5733632678의 데이터 수집을 시작합니다.\n",
      "api cost full : infinite loop start\n",
      "try 10 second wait time\n",
      "429\n",
      "try 10 second wait time\n",
      "429\n",
      "try 10 second wait time\n",
      "429\n",
      "try 10 second wait time\n",
      "429\n",
      "try 10 second wait time\n",
      "429\n",
      "try 10 second wait time\n",
      "429\n",
      "try 10 second wait time\n",
      "429\n",
      "try 10 second wait time\n",
      "429\n",
      "try 10 second wait time\n",
      "200\n",
      "total wait time :  92.24209713935852\n",
      "recovery api cost\n"
     ]
    },
    {
     "name": "stderr",
     "output_type": "stream",
     "text": [
      "\r",
      "  3%|▉                                | 298/10000 [4:10:13<170:04:52, 63.11s/it]"
     ]
    },
    {
     "name": "stdout",
     "output_type": "stream",
     "text": [
      "KR_5733632678의 데이터 수집이 완료되었습니다\n",
      "KR_5733632717의 데이터 수집을 시작합니다.\n"
     ]
    },
    {
     "name": "stderr",
     "output_type": "stream",
     "text": [
      "\r",
      "  3%|▉                                | 299/10000 [4:10:27<130:31:54, 48.44s/it]"
     ]
    },
    {
     "name": "stdout",
     "output_type": "stream",
     "text": [
      "KR_5733632717의 데이터 수집이 완료되었습니다\n",
      "KR_5733634133의 데이터 수집을 시작합니다.\n"
     ]
    },
    {
     "name": "stderr",
     "output_type": "stream",
     "text": [
      "\r",
      "  3%|▉                                | 300/10000 [4:10:41<102:21:09, 37.99s/it]"
     ]
    },
    {
     "name": "stdout",
     "output_type": "stream",
     "text": [
      "KR_5733634133의 데이터 수집이 완료되었습니다\n",
      "KR_5733634810의 데이터 수집을 시작합니다.\n",
      "api cost full : infinite loop start\n",
      "try 10 second wait time\n",
      "429\n",
      "try 10 second wait time\n",
      "429\n",
      "try 10 second wait time\n",
      "429\n",
      "try 10 second wait time\n",
      "429\n",
      "try 10 second wait time\n",
      "429\n",
      "try 10 second wait time\n",
      "429\n",
      "try 10 second wait time\n",
      "429\n",
      "try 10 second wait time\n",
      "429\n",
      "try 10 second wait time\n",
      "200\n",
      "total wait time :  92.53421068191528\n",
      "recovery api cost\n"
     ]
    },
    {
     "name": "stderr",
     "output_type": "stream",
     "text": [
      "\r",
      "  3%|▉                                | 301/10000 [4:12:26<157:01:43, 58.28s/it]"
     ]
    },
    {
     "name": "stdout",
     "output_type": "stream",
     "text": [
      "KR_5733634810의 데이터 수집이 완료되었습니다\n",
      "KR_5733634868의 데이터 수집을 시작합니다.\n"
     ]
    },
    {
     "name": "stderr",
     "output_type": "stream",
     "text": [
      "\r",
      "  3%|▉                                | 302/10000 [4:12:39<120:39:08, 44.79s/it]"
     ]
    },
    {
     "name": "stdout",
     "output_type": "stream",
     "text": [
      "KR_5733634868의 데이터 수집이 완료되었습니다\n",
      "KR_5733634952의 데이터 수집을 시작합니다.\n",
      "api cost full : infinite loop start\n",
      "try 10 second wait time\n",
      "429\n",
      "try 10 second wait time\n",
      "429\n",
      "try 10 second wait time\n",
      "429\n",
      "try 10 second wait time\n",
      "429\n",
      "try 10 second wait time\n",
      "429\n",
      "try 10 second wait time\n",
      "429\n",
      "try 10 second wait time\n",
      "429\n",
      "try 10 second wait time\n",
      "429\n",
      "try 10 second wait time\n",
      "200\n",
      "total wait time :  92.44919919967651\n",
      "recovery api cost\n"
     ]
    },
    {
     "name": "stderr",
     "output_type": "stream",
     "text": [
      "\r",
      "  3%|▉                                | 303/10000 [4:14:25<169:54:27, 63.08s/it]"
     ]
    },
    {
     "name": "stdout",
     "output_type": "stream",
     "text": [
      "KR_5733634952의 데이터 수집이 완료되었습니다\n",
      "KR_5733635118의 데이터 수집을 시작합니다.\n"
     ]
    },
    {
     "name": "stderr",
     "output_type": "stream",
     "text": [
      "\r",
      "  3%|█                                | 304/10000 [4:14:39<129:39:37, 48.14s/it]"
     ]
    },
    {
     "name": "stdout",
     "output_type": "stream",
     "text": [
      "KR_5733635118의 데이터 수집이 완료되었습니다\n",
      "KR_5733635265의 데이터 수집을 시작합니다.\n"
     ]
    },
    {
     "name": "stderr",
     "output_type": "stream",
     "text": [
      "\r",
      "  3%|█                                | 305/10000 [4:14:52<101:36:36, 37.73s/it]"
     ]
    },
    {
     "name": "stdout",
     "output_type": "stream",
     "text": [
      "KR_5733635265의 데이터 수집이 완료되었습니다\n",
      "KR_5733635849의 데이터 수집을 시작합니다.\n",
      "api cost full : infinite loop start\n",
      "try 10 second wait time\n",
      "429\n",
      "try 10 second wait time\n",
      "429\n",
      "try 10 second wait time\n",
      "429\n",
      "try 10 second wait time\n",
      "429\n",
      "try 10 second wait time\n",
      "429\n",
      "try 10 second wait time\n",
      "429\n",
      "try 10 second wait time\n",
      "429\n",
      "try 10 second wait time\n",
      "429\n",
      "try 10 second wait time\n",
      "200\n",
      "total wait time :  92.35634684562683\n",
      "recovery api cost\n"
     ]
    },
    {
     "name": "stderr",
     "output_type": "stream",
     "text": [
      "\r",
      "  3%|█                                | 306/10000 [4:16:37<156:05:33, 57.97s/it]"
     ]
    },
    {
     "name": "stdout",
     "output_type": "stream",
     "text": [
      "KR_5733635849의 데이터 수집이 완료되었습니다\n",
      "KR_5733636599의 데이터 수집을 시작합니다.\n"
     ]
    },
    {
     "name": "stderr",
     "output_type": "stream",
     "text": [
      "\r",
      "  3%|█                                | 307/10000 [4:16:51<120:09:53, 44.63s/it]"
     ]
    },
    {
     "name": "stdout",
     "output_type": "stream",
     "text": [
      "KR_5733636599의 데이터 수집이 완료되었습니다\n",
      "KR_5733637327의 데이터 수집을 시작합니다.\n",
      "api cost full : infinite loop start\n",
      "try 10 second wait time\n",
      "429\n",
      "try 10 second wait time\n",
      "429\n",
      "try 10 second wait time\n",
      "429\n",
      "try 10 second wait time\n",
      "429\n",
      "try 10 second wait time\n",
      "429\n",
      "try 10 second wait time\n",
      "429\n",
      "try 10 second wait time\n",
      "429\n",
      "try 10 second wait time\n",
      "429\n",
      "try 10 second wait time\n",
      "200\n",
      "total wait time :  92.40286707878113\n",
      "recovery api cost\n"
     ]
    },
    {
     "name": "stderr",
     "output_type": "stream",
     "text": [
      "\r",
      "  3%|█                                | 308/10000 [4:18:36<169:27:47, 62.95s/it]"
     ]
    },
    {
     "name": "stdout",
     "output_type": "stream",
     "text": [
      "KR_5733637327의 데이터 수집이 완료되었습니다\n",
      "KR_5733639498의 데이터 수집을 시작합니다.\n"
     ]
    },
    {
     "name": "stderr",
     "output_type": "stream",
     "text": [
      "\r",
      "  3%|█                                | 309/10000 [4:18:50<129:50:46, 48.24s/it]"
     ]
    },
    {
     "name": "stdout",
     "output_type": "stream",
     "text": [
      "KR_5733639498의 데이터 수집이 완료되었습니다\n",
      "KR_5733640309의 데이터 수집을 시작합니다.\n"
     ]
    },
    {
     "name": "stderr",
     "output_type": "stream",
     "text": [
      "\r",
      "  3%|█                                | 310/10000 [4:19:03<101:29:48, 37.71s/it]"
     ]
    },
    {
     "name": "stdout",
     "output_type": "stream",
     "text": [
      "KR_5733640309의 데이터 수집이 완료되었습니다\n",
      "KR_5733640987의 데이터 수집을 시작합니다.\n",
      "api cost full : infinite loop start\n",
      "try 10 second wait time\n",
      "429\n",
      "try 10 second wait time\n",
      "429\n",
      "try 10 second wait time\n",
      "429\n",
      "try 10 second wait time\n",
      "429\n",
      "try 10 second wait time\n",
      "429\n",
      "try 10 second wait time\n",
      "429\n",
      "try 10 second wait time\n",
      "429\n",
      "try 10 second wait time\n",
      "429\n",
      "try 10 second wait time\n",
      "200\n",
      "total wait time :  92.30278396606445\n",
      "recovery api cost\n"
     ]
    },
    {
     "name": "stderr",
     "output_type": "stream",
     "text": [
      "\r",
      "  3%|█                                | 311/10000 [4:20:49<156:16:42, 58.07s/it]"
     ]
    },
    {
     "name": "stdout",
     "output_type": "stream",
     "text": [
      "KR_5733640987의 데이터 수집이 완료되었습니다\n",
      "KR_5733641223의 데이터 수집을 시작합니다.\n"
     ]
    },
    {
     "name": "stderr",
     "output_type": "stream",
     "text": [
      "\r",
      "  3%|█                                | 312/10000 [4:21:02<120:15:19, 44.69s/it]"
     ]
    },
    {
     "name": "stdout",
     "output_type": "stream",
     "text": [
      "KR_5733641223의 데이터 수집이 완료되었습니다\n",
      "KR_5733643558의 데이터 수집을 시작합니다.\n",
      "api cost full : infinite loop start\n",
      "try 10 second wait time\n",
      "429\n",
      "try 10 second wait time\n",
      "429\n",
      "try 10 second wait time\n",
      "429\n",
      "try 10 second wait time\n",
      "429\n",
      "try 10 second wait time\n",
      "429\n",
      "try 10 second wait time\n",
      "429\n",
      "try 10 second wait time\n",
      "429\n",
      "try 10 second wait time\n",
      "429\n",
      "try 10 second wait time\n",
      "200\n",
      "total wait time :  92.23405504226685\n",
      "recovery api cost\n"
     ]
    },
    {
     "name": "stderr",
     "output_type": "stream",
     "text": [
      "\r",
      "  3%|█                                | 313/10000 [4:22:48<169:29:13, 62.99s/it]"
     ]
    },
    {
     "name": "stdout",
     "output_type": "stream",
     "text": [
      "KR_5733643558의 데이터 수집이 완료되었습니다\n",
      "KR_5733644232의 데이터 수집을 시작합니다.\n"
     ]
    },
    {
     "name": "stderr",
     "output_type": "stream",
     "text": [
      "\r",
      "  3%|█                                | 314/10000 [4:23:01<129:19:23, 48.07s/it]"
     ]
    },
    {
     "name": "stdout",
     "output_type": "stream",
     "text": [
      "KR_5733644232의 데이터 수집이 완료되었습니다\n",
      "KR_5733644929의 데이터 수집을 시작합니다.\n"
     ]
    },
    {
     "name": "stderr",
     "output_type": "stream",
     "text": [
      "\r",
      "  3%|█                                | 315/10000 [4:23:15<101:26:30, 37.71s/it]"
     ]
    },
    {
     "name": "stdout",
     "output_type": "stream",
     "text": [
      "KR_5733644929의 데이터 수집이 완료되었습니다\n",
      "KR_5733644939의 데이터 수집을 시작합니다.\n",
      "api cost full : infinite loop start\n",
      "try 10 second wait time\n",
      "429\n",
      "try 10 second wait time\n",
      "429\n",
      "try 10 second wait time\n",
      "429\n",
      "try 10 second wait time\n",
      "429\n",
      "try 10 second wait time\n",
      "429\n",
      "try 10 second wait time\n",
      "429\n",
      "try 10 second wait time\n",
      "429\n",
      "try 10 second wait time\n",
      "429\n",
      "try 10 second wait time\n",
      "200\n",
      "total wait time :  92.2918848991394\n",
      "recovery api cost\n"
     ]
    },
    {
     "name": "stderr",
     "output_type": "stream",
     "text": [
      "\r",
      "  3%|█                                | 316/10000 [4:25:00<156:05:23, 58.03s/it]"
     ]
    },
    {
     "name": "stdout",
     "output_type": "stream",
     "text": [
      "KR_5733644939의 데이터 수집이 완료되었습니다\n",
      "KR_5733645586의 데이터 수집을 시작합니다.\n"
     ]
    },
    {
     "name": "stderr",
     "output_type": "stream",
     "text": [
      "\r",
      "  3%|█                                | 317/10000 [4:25:14<120:30:35, 44.80s/it]"
     ]
    },
    {
     "name": "stdout",
     "output_type": "stream",
     "text": [
      "KR_5733645586의 데이터 수집이 완료되었습니다\n",
      "KR_5733645688의 데이터 수집을 시작합니다.\n",
      "api cost full : infinite loop start\n",
      "try 10 second wait time\n",
      "429\n",
      "try 10 second wait time\n",
      "429\n",
      "try 10 second wait time\n",
      "429\n",
      "try 10 second wait time\n",
      "429\n",
      "try 10 second wait time\n",
      "429\n",
      "try 10 second wait time\n",
      "429\n",
      "try 10 second wait time\n",
      "429\n",
      "try 10 second wait time\n",
      "429\n",
      "try 10 second wait time\n",
      "200\n",
      "total wait time :  92.46666193008423\n",
      "recovery api cost\n"
     ]
    },
    {
     "name": "stderr",
     "output_type": "stream",
     "text": [
      "\r",
      "  3%|█                                | 318/10000 [4:27:00<169:56:18, 63.19s/it]"
     ]
    },
    {
     "name": "stdout",
     "output_type": "stream",
     "text": [
      "KR_5733645688의 데이터 수집이 완료되었습니다\n",
      "KR_5733646871의 데이터 수집을 시작합니다.\n"
     ]
    },
    {
     "name": "stderr",
     "output_type": "stream",
     "text": [
      "\r",
      "  3%|█                                | 319/10000 [4:27:14<129:53:25, 48.30s/it]"
     ]
    },
    {
     "name": "stdout",
     "output_type": "stream",
     "text": [
      "KR_5733646871의 데이터 수집이 완료되었습니다\n",
      "KR_5733648350의 데이터 수집을 시작합니다.\n"
     ]
    },
    {
     "name": "stderr",
     "output_type": "stream",
     "text": [
      "\r",
      "  3%|█                                | 320/10000 [4:27:27<101:35:28, 37.78s/it]"
     ]
    },
    {
     "name": "stdout",
     "output_type": "stream",
     "text": [
      "KR_5733648350의 데이터 수집이 완료되었습니다\n",
      "KR_5733649213의 데이터 수집을 시작합니다.\n",
      "api cost full : infinite loop start\n",
      "try 10 second wait time\n",
      "429\n",
      "try 10 second wait time\n",
      "429\n",
      "try 10 second wait time\n",
      "429\n",
      "try 10 second wait time\n",
      "429\n",
      "try 10 second wait time\n",
      "429\n",
      "try 10 second wait time\n",
      "429\n",
      "try 10 second wait time\n",
      "429\n",
      "try 10 second wait time\n",
      "429\n",
      "try 10 second wait time\n",
      "200\n",
      "total wait time :  92.43059301376343\n",
      "recovery api cost\n"
     ]
    },
    {
     "name": "stderr",
     "output_type": "stream",
     "text": [
      "\r",
      "  3%|█                                | 321/10000 [4:29:13<156:11:41, 58.09s/it]"
     ]
    },
    {
     "name": "stdout",
     "output_type": "stream",
     "text": [
      "KR_5733649213의 데이터 수집이 완료되었습니다\n",
      "KR_5733650053의 데이터 수집을 시작합니다.\n"
     ]
    },
    {
     "name": "stderr",
     "output_type": "stream",
     "text": [
      "\r",
      "  3%|█                                | 322/10000 [4:29:26<119:47:10, 44.56s/it]"
     ]
    },
    {
     "name": "stdout",
     "output_type": "stream",
     "text": [
      "KR_5733650053의 데이터 수집이 완료되었습니다\n",
      "KR_5733650113의 데이터 수집을 시작합니다.\n",
      "api cost full : infinite loop start\n",
      "try 10 second wait time\n",
      "429\n",
      "try 10 second wait time\n",
      "429\n",
      "try 10 second wait time\n",
      "429\n",
      "try 10 second wait time\n",
      "429\n",
      "try 10 second wait time\n",
      "429\n",
      "try 10 second wait time\n",
      "429\n",
      "try 10 second wait time\n",
      "429\n",
      "try 10 second wait time\n",
      "429\n",
      "try 10 second wait time\n",
      "200\n",
      "total wait time :  92.42376017570496\n",
      "recovery api cost\n"
     ]
    },
    {
     "name": "stderr",
     "output_type": "stream",
     "text": [
      "\r",
      "  3%|█                                | 323/10000 [4:31:11<169:00:07, 62.87s/it]"
     ]
    },
    {
     "name": "stdout",
     "output_type": "stream",
     "text": [
      "KR_5733650113의 데이터 수집이 완료되었습니다\n",
      "KR_5733650321의 데이터 수집을 시작합니다.\n"
     ]
    },
    {
     "name": "stderr",
     "output_type": "stream",
     "text": [
      "\r",
      "  3%|█                                | 324/10000 [4:31:25<129:26:34, 48.16s/it]"
     ]
    },
    {
     "name": "stdout",
     "output_type": "stream",
     "text": [
      "KR_5733650321의 데이터 수집이 완료되었습니다\n",
      "KR_5733650823의 데이터 수집을 시작합니다.\n"
     ]
    },
    {
     "name": "stderr",
     "output_type": "stream",
     "text": [
      "\r",
      "  3%|█                                | 325/10000 [4:31:39<101:36:36, 37.81s/it]"
     ]
    },
    {
     "name": "stdout",
     "output_type": "stream",
     "text": [
      "KR_5733650823의 데이터 수집이 완료되었습니다\n",
      "KR_5733651612의 데이터 수집을 시작합니다.\n",
      "api cost full : infinite loop start\n",
      "try 10 second wait time\n",
      "429\n",
      "try 10 second wait time\n",
      "429\n",
      "try 10 second wait time\n",
      "429\n",
      "try 10 second wait time\n",
      "429\n",
      "try 10 second wait time\n",
      "429\n",
      "try 10 second wait time\n",
      "429\n",
      "try 10 second wait time\n",
      "429\n",
      "try 10 second wait time\n",
      "429\n",
      "try 10 second wait time\n",
      "200\n",
      "total wait time :  92.27729511260986\n",
      "recovery api cost\n"
     ]
    },
    {
     "name": "stderr",
     "output_type": "stream",
     "text": [
      "\r",
      "  3%|█                                | 326/10000 [4:33:24<156:12:18, 58.13s/it]"
     ]
    },
    {
     "name": "stdout",
     "output_type": "stream",
     "text": [
      "KR_5733651612의 데이터 수집이 완료되었습니다\n",
      "KR_5733652902의 데이터 수집을 시작합니다.\n"
     ]
    },
    {
     "name": "stderr",
     "output_type": "stream",
     "text": [
      "\r",
      "  3%|█                                | 327/10000 [4:33:37<119:56:12, 44.64s/it]"
     ]
    },
    {
     "name": "stdout",
     "output_type": "stream",
     "text": [
      "KR_5733652902의 데이터 수집이 완료되었습니다\n",
      "KR_5733653137의 데이터 수집을 시작합니다.\n",
      "api cost full : infinite loop start\n",
      "try 10 second wait time\n",
      "429\n",
      "try 10 second wait time\n",
      "429\n",
      "try 10 second wait time\n",
      "429\n",
      "try 10 second wait time\n",
      "429\n",
      "try 10 second wait time\n",
      "429\n",
      "try 10 second wait time\n",
      "429\n",
      "try 10 second wait time\n",
      "429\n",
      "try 10 second wait time\n",
      "429\n",
      "try 10 second wait time\n",
      "200\n",
      "total wait time :  92.24424910545349\n",
      "recovery api cost\n"
     ]
    },
    {
     "name": "stderr",
     "output_type": "stream",
     "text": [
      "\r",
      "  3%|█                                | 328/10000 [4:35:24<169:27:12, 63.07s/it]"
     ]
    },
    {
     "name": "stdout",
     "output_type": "stream",
     "text": [
      "KR_5733653137의 데이터 수집이 완료되었습니다\n",
      "KR_5733653499의 데이터 수집을 시작합니다.\n"
     ]
    },
    {
     "name": "stderr",
     "output_type": "stream",
     "text": [
      "\r",
      "  3%|█                                | 329/10000 [4:35:37<129:18:16, 48.13s/it]"
     ]
    },
    {
     "name": "stdout",
     "output_type": "stream",
     "text": [
      "KR_5733653499의 데이터 수집이 완료되었습니다\n",
      "KR_5733653987의 데이터 수집을 시작합니다.\n"
     ]
    },
    {
     "name": "stderr",
     "output_type": "stream",
     "text": [
      "\r",
      "  3%|█                                | 330/10000 [4:35:50<101:10:26, 37.67s/it]"
     ]
    },
    {
     "name": "stdout",
     "output_type": "stream",
     "text": [
      "KR_5733653987의 데이터 수집이 완료되었습니다\n",
      "KR_5733654428의 데이터 수집을 시작합니다.\n",
      "api cost full : infinite loop start\n",
      "try 10 second wait time\n",
      "429\n",
      "try 10 second wait time\n",
      "429\n",
      "try 10 second wait time\n",
      "429\n",
      "try 10 second wait time\n",
      "429\n",
      "try 10 second wait time\n",
      "429\n",
      "try 10 second wait time\n",
      "429\n",
      "try 10 second wait time\n",
      "429\n",
      "try 10 second wait time\n",
      "429\n",
      "try 10 second wait time\n",
      "200\n",
      "total wait time :  92.43025422096252\n",
      "recovery api cost\n"
     ]
    },
    {
     "name": "stderr",
     "output_type": "stream",
     "text": [
      "\r",
      "  3%|█                                | 331/10000 [4:37:36<156:10:52, 58.15s/it]"
     ]
    },
    {
     "name": "stdout",
     "output_type": "stream",
     "text": [
      "KR_5733654428의 데이터 수집이 완료되었습니다\n",
      "KR_5733655901의 데이터 수집을 시작합니다.\n"
     ]
    },
    {
     "name": "stderr",
     "output_type": "stream",
     "text": [
      "\r",
      "  3%|█                                | 332/10000 [4:37:49<119:49:12, 44.62s/it]"
     ]
    },
    {
     "name": "stdout",
     "output_type": "stream",
     "text": [
      "KR_5733655901의 데이터 수집이 완료되었습니다\n",
      "KR_5733657047의 데이터 수집을 시작합니다.\n",
      "api cost full : infinite loop start\n",
      "try 10 second wait time\n",
      "429\n",
      "try 10 second wait time\n",
      "429\n",
      "try 10 second wait time\n",
      "429\n",
      "try 10 second wait time\n",
      "429\n",
      "try 10 second wait time\n",
      "429\n",
      "try 10 second wait time\n",
      "429\n",
      "try 10 second wait time\n",
      "429\n",
      "try 10 second wait time\n",
      "429\n",
      "try 10 second wait time\n",
      "200\n",
      "total wait time :  92.27174806594849\n",
      "recovery api cost\n"
     ]
    },
    {
     "name": "stderr",
     "output_type": "stream",
     "text": [
      "\r",
      "  3%|█                                | 333/10000 [4:39:35<168:54:15, 62.90s/it]"
     ]
    },
    {
     "name": "stdout",
     "output_type": "stream",
     "text": [
      "KR_5733657047의 데이터 수집이 완료되었습니다\n",
      "KR_5733658544의 데이터 수집을 시작합니다.\n"
     ]
    },
    {
     "name": "stderr",
     "output_type": "stream",
     "text": [
      "\r",
      "  3%|█                                | 334/10000 [4:39:48<129:10:27, 48.11s/it]"
     ]
    },
    {
     "name": "stdout",
     "output_type": "stream",
     "text": [
      "KR_5733658544의 데이터 수집이 완료되었습니다\n",
      "KR_5733659237의 데이터 수집을 시작합니다.\n"
     ]
    },
    {
     "name": "stderr",
     "output_type": "stream",
     "text": [
      "\r",
      "  3%|█                                | 335/10000 [4:40:02<101:27:39, 37.79s/it]"
     ]
    },
    {
     "name": "stdout",
     "output_type": "stream",
     "text": [
      "KR_5733659237의 데이터 수집이 완료되었습니다\n",
      "KR_5733659860의 데이터 수집을 시작합니다.\n",
      "api cost full : infinite loop start\n",
      "try 10 second wait time\n",
      "429\n",
      "try 10 second wait time\n",
      "429\n",
      "try 10 second wait time\n",
      "429\n",
      "try 10 second wait time\n",
      "429\n",
      "try 10 second wait time\n",
      "429\n",
      "try 10 second wait time\n",
      "429\n",
      "try 10 second wait time\n",
      "429\n",
      "try 10 second wait time\n",
      "429\n",
      "try 10 second wait time\n",
      "200\n",
      "total wait time :  92.28871488571167\n",
      "recovery api cost\n"
     ]
    },
    {
     "name": "stderr",
     "output_type": "stream",
     "text": [
      "\r",
      "  3%|█                                | 336/10000 [4:41:48<156:25:46, 58.27s/it]"
     ]
    },
    {
     "name": "stdout",
     "output_type": "stream",
     "text": [
      "KR_5733659860의 데이터 수집이 완료되었습니다\n",
      "KR_5733660247의 데이터 수집을 시작합니다.\n"
     ]
    },
    {
     "name": "stderr",
     "output_type": "stream",
     "text": [
      "\r",
      "  3%|█                                | 337/10000 [4:42:02<120:36:10, 44.93s/it]"
     ]
    },
    {
     "name": "stdout",
     "output_type": "stream",
     "text": [
      "KR_5733660247의 데이터 수집이 완료되었습니다\n",
      "KR_5733661120의 데이터 수집을 시작합니다.\n",
      "api cost full : infinite loop start\n",
      "try 10 second wait time\n",
      "429\n",
      "try 10 second wait time\n",
      "429\n",
      "try 10 second wait time\n",
      "429\n",
      "try 10 second wait time\n",
      "429\n",
      "try 10 second wait time\n",
      "429\n",
      "try 10 second wait time\n",
      "429\n",
      "try 10 second wait time\n",
      "429\n",
      "try 10 second wait time\n",
      "429\n",
      "try 10 second wait time\n",
      "200\n",
      "total wait time :  92.44178318977356\n",
      "recovery api cost\n"
     ]
    },
    {
     "name": "stderr",
     "output_type": "stream",
     "text": [
      "\r",
      "  3%|█                                | 338/10000 [4:43:48<169:39:59, 63.22s/it]"
     ]
    },
    {
     "name": "stdout",
     "output_type": "stream",
     "text": [
      "KR_5733661120의 데이터 수집이 완료되었습니다\n",
      "KR_5733661550의 데이터 수집을 시작합니다.\n"
     ]
    },
    {
     "name": "stderr",
     "output_type": "stream",
     "text": [
      "\r",
      "  3%|█                                | 339/10000 [4:44:01<129:10:13, 48.13s/it]"
     ]
    },
    {
     "name": "stdout",
     "output_type": "stream",
     "text": [
      "KR_5733661550의 데이터 수집이 완료되었습니다\n",
      "KR_5733661595의 데이터 수집을 시작합니다.\n"
     ]
    },
    {
     "name": "stderr",
     "output_type": "stream",
     "text": [
      "\r",
      "  3%|█                                | 340/10000 [4:44:14<101:15:03, 37.73s/it]"
     ]
    },
    {
     "name": "stdout",
     "output_type": "stream",
     "text": [
      "KR_5733661595의 데이터 수집이 완료되었습니다\n",
      "KR_5733661971의 데이터 수집을 시작합니다.\n",
      "api cost full : infinite loop start\n",
      "try 10 second wait time\n",
      "429\n",
      "try 10 second wait time\n",
      "429\n",
      "try 10 second wait time\n",
      "429\n",
      "try 10 second wait time\n",
      "429\n",
      "try 10 second wait time\n",
      "429\n",
      "try 10 second wait time\n",
      "429\n",
      "try 10 second wait time\n",
      "429\n",
      "try 10 second wait time\n",
      "429\n",
      "try 10 second wait time\n",
      "200\n",
      "total wait time :  92.279305934906\n",
      "recovery api cost\n"
     ]
    },
    {
     "name": "stderr",
     "output_type": "stream",
     "text": [
      "\r",
      "  3%|█▏                               | 341/10000 [4:46:00<156:17:29, 58.25s/it]"
     ]
    },
    {
     "name": "stdout",
     "output_type": "stream",
     "text": [
      "KR_5733661971의 데이터 수집이 완료되었습니다\n",
      "KR_5733665757의 데이터 수집을 시작합니다.\n"
     ]
    },
    {
     "name": "stderr",
     "output_type": "stream",
     "text": [
      "\r",
      "  3%|█▏                               | 342/10000 [4:46:15<121:14:21, 45.19s/it]"
     ]
    },
    {
     "name": "stdout",
     "output_type": "stream",
     "text": [
      "KR_5733665757의 데이터 수집이 완료되었습니다\n",
      "KR_5733665987의 데이터 수집을 시작합니다.\n",
      "api cost full : infinite loop start\n",
      "try 10 second wait time\n",
      "429\n",
      "try 10 second wait time\n",
      "429\n",
      "try 10 second wait time\n",
      "429\n",
      "try 10 second wait time\n",
      "429\n",
      "try 10 second wait time\n",
      "429\n",
      "try 10 second wait time\n",
      "429\n",
      "try 10 second wait time\n",
      "429\n",
      "try 10 second wait time\n",
      "429\n",
      "try 10 second wait time\n",
      "200\n",
      "total wait time :  92.58081316947937\n",
      "recovery api cost\n"
     ]
    },
    {
     "name": "stderr",
     "output_type": "stream",
     "text": [
      "\r",
      "  3%|█▏                               | 343/10000 [4:48:01<170:15:53, 63.47s/it]"
     ]
    },
    {
     "name": "stdout",
     "output_type": "stream",
     "text": [
      "KR_5733665987의 데이터 수집이 완료되었습니다\n",
      "KR_5733666007의 데이터 수집을 시작합니다.\n"
     ]
    },
    {
     "name": "stderr",
     "output_type": "stream",
     "text": [
      "\r",
      "  3%|█▏                               | 344/10000 [4:48:14<129:49:55, 48.40s/it]"
     ]
    },
    {
     "name": "stdout",
     "output_type": "stream",
     "text": [
      "KR_5733666007의 데이터 수집이 완료되었습니다\n",
      "KR_5733667149의 데이터 수집을 시작합니다.\n"
     ]
    },
    {
     "name": "stderr",
     "output_type": "stream",
     "text": [
      "\r",
      "  3%|█▏                               | 345/10000 [4:48:28<101:47:36, 37.96s/it]"
     ]
    },
    {
     "name": "stdout",
     "output_type": "stream",
     "text": [
      "KR_5733667149의 데이터 수집이 완료되었습니다\n",
      "KR_5733668498의 데이터 수집을 시작합니다.\n",
      "api cost full : infinite loop start\n",
      "try 10 second wait time\n",
      "429\n",
      "try 10 second wait time\n",
      "429\n",
      "try 10 second wait time\n",
      "429\n",
      "try 10 second wait time\n",
      "429\n",
      "try 10 second wait time\n",
      "429\n",
      "try 10 second wait time\n",
      "429\n",
      "try 10 second wait time\n",
      "429\n",
      "try 10 second wait time\n",
      "429\n",
      "try 10 second wait time\n",
      "200\n",
      "total wait time :  92.32076811790466\n",
      "recovery api cost\n"
     ]
    },
    {
     "name": "stderr",
     "output_type": "stream",
     "text": [
      "\r",
      "  3%|█▏                               | 346/10000 [4:50:14<156:27:32, 58.34s/it]"
     ]
    },
    {
     "name": "stdout",
     "output_type": "stream",
     "text": [
      "KR_5733668498의 데이터 수집이 완료되었습니다\n",
      "KR_5733668788의 데이터 수집을 시작합니다.\n"
     ]
    },
    {
     "name": "stderr",
     "output_type": "stream",
     "text": [
      "\r",
      "  3%|█▏                               | 347/10000 [4:50:27<120:13:06, 44.83s/it]"
     ]
    },
    {
     "name": "stdout",
     "output_type": "stream",
     "text": [
      "KR_5733668788의 데이터 수집이 완료되었습니다\n",
      "KR_5733669490의 데이터 수집을 시작합니다.\n",
      "api cost full : infinite loop start\n",
      "try 10 second wait time\n",
      "429\n",
      "try 10 second wait time\n",
      "429\n",
      "try 10 second wait time\n",
      "429\n",
      "try 10 second wait time\n",
      "429\n",
      "try 10 second wait time\n",
      "429\n",
      "try 10 second wait time\n",
      "429\n",
      "try 10 second wait time\n",
      "429\n",
      "try 10 second wait time\n",
      "429\n",
      "try 10 second wait time\n",
      "200\n",
      "total wait time :  92.36573481559753\n",
      "recovery api cost\n"
     ]
    },
    {
     "name": "stderr",
     "output_type": "stream",
     "text": [
      "\r",
      "  3%|█▏                               | 348/10000 [4:52:13<169:24:13, 63.18s/it]"
     ]
    },
    {
     "name": "stdout",
     "output_type": "stream",
     "text": [
      "KR_5733669490의 데이터 수집이 완료되었습니다\n",
      "KR_5733670557의 데이터 수집을 시작합니다.\n"
     ]
    },
    {
     "name": "stderr",
     "output_type": "stream",
     "text": [
      "\r",
      "  3%|█▏                               | 349/10000 [4:52:26<129:18:05, 48.23s/it]"
     ]
    },
    {
     "name": "stdout",
     "output_type": "stream",
     "text": [
      "KR_5733670557의 데이터 수집이 완료되었습니다\n",
      "KR_5733670597의 데이터 수집을 시작합니다.\n"
     ]
    },
    {
     "name": "stderr",
     "output_type": "stream",
     "text": [
      "\r",
      "  4%|█▏                               | 350/10000 [4:52:40<101:10:04, 37.74s/it]"
     ]
    },
    {
     "name": "stdout",
     "output_type": "stream",
     "text": [
      "KR_5733670597의 데이터 수집이 완료되었습니다\n",
      "KR_5733671405의 데이터 수집을 시작합니다.\n",
      "api cost full : infinite loop start\n",
      "try 10 second wait time\n",
      "429\n",
      "try 10 second wait time\n",
      "429\n",
      "try 10 second wait time\n",
      "429\n",
      "try 10 second wait time\n",
      "429\n",
      "try 10 second wait time\n",
      "429\n",
      "try 10 second wait time\n",
      "429\n",
      "try 10 second wait time\n",
      "429\n",
      "try 10 second wait time\n",
      "429\n",
      "try 10 second wait time\n",
      "200\n",
      "total wait time :  92.3758819103241\n",
      "recovery api cost\n"
     ]
    },
    {
     "name": "stderr",
     "output_type": "stream",
     "text": [
      "\r",
      "  4%|█▏                               | 351/10000 [4:54:25<155:38:46, 58.07s/it]"
     ]
    },
    {
     "name": "stdout",
     "output_type": "stream",
     "text": [
      "KR_5733671405의 데이터 수집이 완료되었습니다\n",
      "KR_5733672278의 데이터 수집을 시작합니다.\n"
     ]
    },
    {
     "name": "stderr",
     "output_type": "stream",
     "text": [
      "\r",
      "  4%|█▏                               | 352/10000 [4:54:39<119:41:32, 44.66s/it]"
     ]
    },
    {
     "name": "stdout",
     "output_type": "stream",
     "text": [
      "KR_5733672278의 데이터 수집이 완료되었습니다\n",
      "KR_5733680001의 데이터 수집을 시작합니다.\n",
      "api cost full : infinite loop start\n",
      "try 10 second wait time\n",
      "429\n",
      "try 10 second wait time\n",
      "429\n",
      "try 10 second wait time\n",
      "429\n",
      "try 10 second wait time\n",
      "429\n",
      "try 10 second wait time\n",
      "429\n",
      "try 10 second wait time\n",
      "429\n",
      "try 10 second wait time\n",
      "429\n",
      "try 10 second wait time\n",
      "429\n",
      "try 10 second wait time\n",
      "200\n",
      "total wait time :  92.3260350227356\n",
      "recovery api cost\n"
     ]
    },
    {
     "name": "stderr",
     "output_type": "stream",
     "text": [
      "\r",
      "  4%|█▏                               | 353/10000 [4:56:24<168:51:58, 63.02s/it]"
     ]
    },
    {
     "name": "stdout",
     "output_type": "stream",
     "text": [
      "KR_5733680001의 데이터 수집이 완료되었습니다\n",
      "KR_5733680302의 데이터 수집을 시작합니다.\n"
     ]
    },
    {
     "name": "stderr",
     "output_type": "stream",
     "text": [
      "\r",
      "  4%|█▏                               | 354/10000 [4:56:38<129:00:05, 48.14s/it]"
     ]
    },
    {
     "name": "stdout",
     "output_type": "stream",
     "text": [
      "KR_5733680302의 데이터 수집이 완료되었습니다\n",
      "KR_5733680688의 데이터 수집을 시작합니다.\n"
     ]
    },
    {
     "name": "stderr",
     "output_type": "stream",
     "text": [
      "\r",
      "  4%|█▏                               | 355/10000 [4:56:52<101:30:25, 37.89s/it]"
     ]
    },
    {
     "name": "stdout",
     "output_type": "stream",
     "text": [
      "KR_5733680688의 데이터 수집이 완료되었습니다\n",
      "KR_5733681674의 데이터 수집을 시작합니다.\n",
      "api cost full : infinite loop start\n",
      "try 10 second wait time\n",
      "429\n",
      "try 10 second wait time\n",
      "429\n",
      "try 10 second wait time\n",
      "429\n",
      "try 10 second wait time\n",
      "429\n",
      "try 10 second wait time\n",
      "429\n",
      "try 10 second wait time\n",
      "429\n",
      "try 10 second wait time\n",
      "429\n",
      "try 10 second wait time\n",
      "429\n",
      "try 10 second wait time\n",
      "200\n",
      "total wait time :  93.31223392486572\n",
      "recovery api cost\n"
     ]
    },
    {
     "name": "stderr",
     "output_type": "stream",
     "text": [
      "\r",
      "  4%|█▏                               | 356/10000 [4:58:40<157:46:07, 58.89s/it]"
     ]
    },
    {
     "name": "stdout",
     "output_type": "stream",
     "text": [
      "KR_5733681674의 데이터 수집이 완료되었습니다\n",
      "KR_5733682122의 데이터 수집을 시작합니다.\n"
     ]
    },
    {
     "name": "stderr",
     "output_type": "stream",
     "text": [
      "\r",
      "  4%|█▏                               | 357/10000 [4:58:54<122:04:50, 45.58s/it]"
     ]
    },
    {
     "name": "stdout",
     "output_type": "stream",
     "text": [
      "KR_5733682122의 데이터 수집이 완료되었습니다\n",
      "KR_5733682401의 데이터 수집을 시작합니다.\n",
      "api cost full : infinite loop start\n",
      "try 10 second wait time\n",
      "429\n",
      "try 10 second wait time\n",
      "429\n",
      "try 10 second wait time\n",
      "429\n",
      "try 10 second wait time\n",
      "429\n",
      "try 10 second wait time\n",
      "429\n",
      "try 10 second wait time\n",
      "429\n",
      "try 10 second wait time\n",
      "429\n",
      "try 10 second wait time\n",
      "429\n",
      "try 10 second wait time\n",
      "200\n",
      "total wait time :  92.49258232116699\n",
      "recovery api cost\n"
     ]
    },
    {
     "name": "stderr",
     "output_type": "stream",
     "text": [
      "\r",
      "  4%|█▏                               | 358/10000 [5:00:41<170:58:38, 63.84s/it]"
     ]
    },
    {
     "name": "stdout",
     "output_type": "stream",
     "text": [
      "KR_5733682401의 데이터 수집이 완료되었습니다\n",
      "KR_5733683809의 데이터 수집을 시작합니다.\n"
     ]
    },
    {
     "name": "stderr",
     "output_type": "stream",
     "text": [
      "\r",
      "  4%|█▏                               | 359/10000 [5:00:54<130:22:28, 48.68s/it]"
     ]
    },
    {
     "name": "stdout",
     "output_type": "stream",
     "text": [
      "KR_5733683809의 데이터 수집이 완료되었습니다\n",
      "KR_5733683853의 데이터 수집을 시작합니다.\n"
     ]
    },
    {
     "name": "stderr",
     "output_type": "stream",
     "text": [
      "\r",
      "  4%|█▏                               | 360/10000 [5:01:07<102:00:31, 38.09s/it]"
     ]
    },
    {
     "name": "stdout",
     "output_type": "stream",
     "text": [
      "KR_5733683853의 데이터 수집이 완료되었습니다\n",
      "KR_5733684861의 데이터 수집을 시작합니다.\n",
      "api cost full : infinite loop start\n",
      "try 10 second wait time\n",
      "429\n",
      "try 10 second wait time\n",
      "429\n",
      "try 10 second wait time\n",
      "429\n",
      "try 10 second wait time\n",
      "429\n",
      "try 10 second wait time\n",
      "429\n",
      "try 10 second wait time\n",
      "429\n",
      "try 10 second wait time\n",
      "429\n",
      "try 10 second wait time\n",
      "429\n",
      "try 10 second wait time\n",
      "200\n",
      "total wait time :  92.25393986701965\n",
      "recovery api cost\n"
     ]
    },
    {
     "name": "stderr",
     "output_type": "stream",
     "text": [
      "\r",
      "  4%|█▏                               | 361/10000 [5:02:53<156:00:25, 58.27s/it]"
     ]
    },
    {
     "name": "stdout",
     "output_type": "stream",
     "text": [
      "KR_5733684861의 데이터 수집이 완료되었습니다\n",
      "KR_5733685982의 데이터 수집을 시작합니다.\n"
     ]
    },
    {
     "name": "stderr",
     "output_type": "stream",
     "text": [
      "\r",
      "  4%|█▏                               | 362/10000 [5:03:06<119:51:04, 44.77s/it]"
     ]
    },
    {
     "name": "stdout",
     "output_type": "stream",
     "text": [
      "KR_5733685982의 데이터 수집이 완료되었습니다\n",
      "KR_5733686204의 데이터 수집을 시작합니다.\n",
      "api cost full : infinite loop start\n",
      "try 10 second wait time\n",
      "429\n",
      "try 10 second wait time\n",
      "429\n",
      "try 10 second wait time\n",
      "429\n",
      "try 10 second wait time\n",
      "429\n",
      "try 10 second wait time\n",
      "429\n",
      "try 10 second wait time\n",
      "429\n",
      "try 10 second wait time\n",
      "429\n",
      "try 10 second wait time\n",
      "429\n",
      "try 10 second wait time\n",
      "200\n",
      "total wait time :  92.42040395736694\n",
      "recovery api cost\n"
     ]
    },
    {
     "name": "stderr",
     "output_type": "stream",
     "text": [
      "\r",
      "  4%|█▏                               | 363/10000 [5:04:52<168:52:05, 63.08s/it]"
     ]
    },
    {
     "name": "stdout",
     "output_type": "stream",
     "text": [
      "KR_5733686204의 데이터 수집이 완료되었습니다\n",
      "KR_5733686239의 데이터 수집을 시작합니다.\n"
     ]
    },
    {
     "name": "stderr",
     "output_type": "stream",
     "text": [
      "\r",
      "  4%|█▏                               | 364/10000 [5:05:05<128:46:57, 48.11s/it]"
     ]
    },
    {
     "name": "stdout",
     "output_type": "stream",
     "text": [
      "KR_5733686239의 데이터 수집이 완료되었습니다\n",
      "KR_5733686366의 데이터 수집을 시작합니다.\n"
     ]
    },
    {
     "name": "stderr",
     "output_type": "stream",
     "text": [
      "\r",
      "  4%|█▏                               | 365/10000 [5:05:18<100:57:50, 37.72s/it]"
     ]
    },
    {
     "name": "stdout",
     "output_type": "stream",
     "text": [
      "KR_5733686366의 데이터 수집이 완료되었습니다\n",
      "KR_5733686965의 데이터 수집을 시작합니다.\n",
      "api cost full : infinite loop start\n",
      "try 10 second wait time\n",
      "429\n",
      "try 10 second wait time\n",
      "429\n",
      "try 10 second wait time\n",
      "429\n",
      "try 10 second wait time\n",
      "429\n",
      "try 10 second wait time\n",
      "429\n",
      "try 10 second wait time\n",
      "429\n",
      "try 10 second wait time\n",
      "429\n",
      "try 10 second wait time\n",
      "429\n",
      "try 10 second wait time\n",
      "200\n",
      "total wait time :  92.64527916908264\n",
      "recovery api cost\n"
     ]
    },
    {
     "name": "stderr",
     "output_type": "stream",
     "text": [
      "\r",
      "  4%|█▏                               | 366/10000 [5:07:04<155:13:00, 58.00s/it]"
     ]
    },
    {
     "name": "stdout",
     "output_type": "stream",
     "text": [
      "KR_5733686965의 데이터 수집이 완료되었습니다\n",
      "KR_5733687443의 데이터 수집을 시작합니다.\n"
     ]
    },
    {
     "name": "stderr",
     "output_type": "stream",
     "text": [
      "\r",
      "  4%|█▏                               | 367/10000 [5:07:17<119:28:02, 44.65s/it]"
     ]
    },
    {
     "name": "stdout",
     "output_type": "stream",
     "text": [
      "KR_5733687443의 데이터 수집이 완료되었습니다\n",
      "KR_5733687617의 데이터 수집을 시작합니다.\n",
      "api cost full : infinite loop start\n",
      "try 10 second wait time\n",
      "429\n",
      "try 10 second wait time\n",
      "429\n",
      "try 10 second wait time\n",
      "429\n",
      "try 10 second wait time\n",
      "429\n",
      "try 10 second wait time\n",
      "429\n",
      "try 10 second wait time\n",
      "429\n",
      "try 10 second wait time\n",
      "429\n",
      "try 10 second wait time\n",
      "429\n",
      "try 10 second wait time\n",
      "200\n",
      "total wait time :  92.29972195625305\n",
      "recovery api cost\n"
     ]
    },
    {
     "name": "stderr",
     "output_type": "stream",
     "text": [
      "\r",
      "  4%|█▏                               | 368/10000 [5:09:03<168:18:37, 62.91s/it]"
     ]
    },
    {
     "name": "stdout",
     "output_type": "stream",
     "text": [
      "KR_5733687617의 데이터 수집이 완료되었습니다\n",
      "KR_5733687978의 데이터 수집을 시작합니다.\n"
     ]
    },
    {
     "name": "stderr",
     "output_type": "stream",
     "text": [
      "\r",
      "  4%|█▏                               | 369/10000 [5:09:15<127:55:12, 47.82s/it]"
     ]
    },
    {
     "name": "stdout",
     "output_type": "stream",
     "text": [
      "KR_5733687978의 데이터 수집이 완료되었습니다\n",
      "KR_5733688255의 데이터 수집을 시작합니다.\n"
     ]
    },
    {
     "name": "stderr",
     "output_type": "stream",
     "text": [
      "\r",
      "  4%|█▏                               | 370/10000 [5:09:29<100:24:04, 37.53s/it]"
     ]
    },
    {
     "name": "stdout",
     "output_type": "stream",
     "text": [
      "KR_5733688255의 데이터 수집이 완료되었습니다\n",
      "KR_5733695458의 데이터 수집을 시작합니다.\n",
      "api cost full : infinite loop start\n",
      "try 10 second wait time\n",
      "429\n",
      "try 10 second wait time\n",
      "429\n",
      "try 10 second wait time\n",
      "429\n",
      "try 10 second wait time\n",
      "429\n",
      "try 10 second wait time\n",
      "429\n",
      "try 10 second wait time\n",
      "429\n",
      "try 10 second wait time\n",
      "429\n",
      "try 10 second wait time\n",
      "429\n",
      "try 10 second wait time\n",
      "200\n",
      "total wait time :  92.33413004875183\n",
      "recovery api cost\n"
     ]
    },
    {
     "name": "stderr",
     "output_type": "stream",
     "text": [
      "\r",
      "  4%|█▏                               | 371/10000 [5:11:14<154:49:46, 57.89s/it]"
     ]
    },
    {
     "name": "stdout",
     "output_type": "stream",
     "text": [
      "KR_5733695458의 데이터 수집이 완료되었습니다\n",
      "KR_5733700406의 데이터 수집을 시작합니다.\n"
     ]
    },
    {
     "name": "stderr",
     "output_type": "stream",
     "text": [
      "\r",
      "  4%|█▏                               | 372/10000 [5:11:27<118:49:34, 44.43s/it]"
     ]
    },
    {
     "name": "stdout",
     "output_type": "stream",
     "text": [
      "KR_5733700406의 데이터 수집이 완료되었습니다\n",
      "KR_5733700559의 데이터 수집을 시작합니다.\n",
      "api cost full : infinite loop start\n",
      "try 10 second wait time\n",
      "429\n",
      "try 10 second wait time\n",
      "429\n",
      "try 10 second wait time\n",
      "429\n",
      "try 10 second wait time\n",
      "429\n",
      "try 10 second wait time\n",
      "429\n",
      "try 10 second wait time\n",
      "429\n",
      "try 10 second wait time\n",
      "429\n",
      "try 10 second wait time\n",
      "429\n",
      "try 10 second wait time\n",
      "200\n",
      "total wait time :  92.26846194267273\n",
      "recovery api cost\n"
     ]
    },
    {
     "name": "stderr",
     "output_type": "stream",
     "text": [
      "\r",
      "  4%|█▏                               | 373/10000 [5:13:13<167:49:19, 62.76s/it]"
     ]
    },
    {
     "name": "stdout",
     "output_type": "stream",
     "text": [
      "KR_5733700559의 데이터 수집이 완료되었습니다\n",
      "KR_5733703179의 데이터 수집을 시작합니다.\n"
     ]
    },
    {
     "name": "stderr",
     "output_type": "stream",
     "text": [
      "\r",
      "  4%|█▏                               | 374/10000 [5:13:26<128:03:51, 47.89s/it]"
     ]
    },
    {
     "name": "stdout",
     "output_type": "stream",
     "text": [
      "KR_5733703179의 데이터 수집이 완료되었습니다\n",
      "KR_5733704041의 데이터 수집을 시작합니다.\n"
     ]
    },
    {
     "name": "stderr",
     "output_type": "stream",
     "text": [
      "\r",
      "  4%|█▏                               | 375/10000 [5:13:39<100:01:09, 37.41s/it]"
     ]
    },
    {
     "name": "stdout",
     "output_type": "stream",
     "text": [
      "KR_5733704041의 데이터 수집이 완료되었습니다\n",
      "KR_5733704926의 데이터 수집을 시작합니다.\n",
      "api cost full : infinite loop start\n",
      "try 10 second wait time\n",
      "429\n",
      "try 10 second wait time\n",
      "429\n",
      "try 10 second wait time\n",
      "429\n",
      "try 10 second wait time\n",
      "429\n",
      "try 10 second wait time\n",
      "429\n",
      "try 10 second wait time\n",
      "429\n",
      "try 10 second wait time\n",
      "429\n",
      "try 10 second wait time\n",
      "429\n",
      "try 10 second wait time\n",
      "200\n",
      "total wait time :  92.46674013137817\n",
      "recovery api cost\n"
     ]
    },
    {
     "name": "stderr",
     "output_type": "stream",
     "text": [
      "\r",
      "  4%|█▏                               | 376/10000 [5:15:25<154:46:08, 57.89s/it]"
     ]
    },
    {
     "name": "stdout",
     "output_type": "stream",
     "text": [
      "KR_5733704926의 데이터 수집이 완료되었습니다\n",
      "KR_5733705075의 데이터 수집을 시작합니다.\n"
     ]
    },
    {
     "name": "stderr",
     "output_type": "stream",
     "text": [
      "\r",
      "  4%|█▏                               | 377/10000 [5:15:38<118:40:08, 44.39s/it]"
     ]
    },
    {
     "name": "stdout",
     "output_type": "stream",
     "text": [
      "KR_5733705075의 데이터 수집이 완료되었습니다\n",
      "KR_5733705416의 데이터 수집을 시작합니다.\n",
      "api cost full : infinite loop start\n",
      "try 10 second wait time\n",
      "429\n",
      "try 10 second wait time\n",
      "429\n",
      "try 10 second wait time\n",
      "429\n",
      "try 10 second wait time\n",
      "429\n",
      "try 10 second wait time\n",
      "429\n",
      "try 10 second wait time\n",
      "429\n",
      "try 10 second wait time\n",
      "429\n",
      "try 10 second wait time\n",
      "429\n",
      "try 10 second wait time\n",
      "200\n",
      "total wait time :  92.24976801872253\n",
      "recovery api cost\n"
     ]
    },
    {
     "name": "stderr",
     "output_type": "stream",
     "text": [
      "\r",
      "  4%|█▏                               | 378/10000 [5:17:23<167:28:42, 62.66s/it]"
     ]
    },
    {
     "name": "stdout",
     "output_type": "stream",
     "text": [
      "KR_5733705416의 데이터 수집이 완료되었습니다\n",
      "KR_5733709196의 데이터 수집을 시작합니다.\n"
     ]
    },
    {
     "name": "stderr",
     "output_type": "stream",
     "text": [
      "\r",
      "  4%|█▎                               | 379/10000 [5:17:36<127:46:58, 47.81s/it]"
     ]
    },
    {
     "name": "stdout",
     "output_type": "stream",
     "text": [
      "KR_5733709196의 데이터 수집이 완료되었습니다\n",
      "KR_5733709430의 데이터 수집을 시작합니다.\n"
     ]
    },
    {
     "name": "stderr",
     "output_type": "stream",
     "text": [
      "\r",
      "  4%|█▎                                | 380/10000 [5:17:49<99:57:59, 37.41s/it]"
     ]
    },
    {
     "name": "stdout",
     "output_type": "stream",
     "text": [
      "KR_5733709430의 데이터 수집이 완료되었습니다\n",
      "KR_5733710351의 데이터 수집을 시작합니다.\n",
      "api cost full : infinite loop start\n",
      "try 10 second wait time\n",
      "429\n",
      "try 10 second wait time\n",
      "429\n",
      "try 10 second wait time\n",
      "429\n",
      "try 10 second wait time\n",
      "429\n",
      "try 10 second wait time\n",
      "429\n",
      "try 10 second wait time\n",
      "429\n",
      "try 10 second wait time\n",
      "429\n",
      "try 10 second wait time\n",
      "429\n",
      "try 10 second wait time\n",
      "200\n",
      "total wait time :  92.25719714164734\n",
      "recovery api cost\n"
     ]
    },
    {
     "name": "stderr",
     "output_type": "stream",
     "text": [
      "\r",
      "  4%|█▎                               | 381/10000 [5:19:35<154:37:32, 57.87s/it]"
     ]
    },
    {
     "name": "stdout",
     "output_type": "stream",
     "text": [
      "KR_5733710351의 데이터 수집이 완료되었습니다\n",
      "KR_5733710684의 데이터 수집을 시작합니다.\n"
     ]
    },
    {
     "name": "stderr",
     "output_type": "stream",
     "text": [
      "\r",
      "  4%|█▎                               | 382/10000 [5:19:48<118:58:11, 44.53s/it]"
     ]
    },
    {
     "name": "stdout",
     "output_type": "stream",
     "text": [
      "KR_5733710684의 데이터 수집이 완료되었습니다\n",
      "KR_5733713642의 데이터 수집을 시작합니다.\n",
      "api cost full : infinite loop start\n",
      "try 10 second wait time\n",
      "429\n",
      "try 10 second wait time\n",
      "429\n",
      "try 10 second wait time\n",
      "429\n",
      "try 10 second wait time\n",
      "429\n",
      "try 10 second wait time\n",
      "429\n",
      "try 10 second wait time\n",
      "429\n",
      "try 10 second wait time\n",
      "429\n",
      "try 10 second wait time\n",
      "429\n",
      "try 10 second wait time\n",
      "200\n",
      "total wait time :  92.32559108734131\n",
      "recovery api cost\n"
     ]
    },
    {
     "name": "stderr",
     "output_type": "stream",
     "text": [
      "\r",
      "  4%|█▎                               | 383/10000 [5:21:34<168:04:49, 62.92s/it]"
     ]
    },
    {
     "name": "stdout",
     "output_type": "stream",
     "text": [
      "KR_5733713642의 데이터 수집이 완료되었습니다\n",
      "KR_5733714149의 데이터 수집을 시작합니다.\n"
     ]
    },
    {
     "name": "stderr",
     "output_type": "stream",
     "text": [
      "\r",
      "  4%|█▎                               | 384/10000 [5:21:48<129:00:08, 48.30s/it]"
     ]
    },
    {
     "name": "stdout",
     "output_type": "stream",
     "text": [
      "KR_5733714149의 데이터 수집이 완료되었습니다\n",
      "KR_5733714476의 데이터 수집을 시작합니다.\n"
     ]
    },
    {
     "name": "stderr",
     "output_type": "stream",
     "text": [
      "\r",
      "  4%|█▎                               | 385/10000 [5:22:01<100:23:01, 37.59s/it]"
     ]
    },
    {
     "name": "stdout",
     "output_type": "stream",
     "text": [
      "KR_5733714476의 데이터 수집이 완료되었습니다\n",
      "KR_5733714531의 데이터 수집을 시작합니다.\n",
      "api cost full : infinite loop start\n",
      "try 10 second wait time\n",
      "429\n",
      "try 10 second wait time\n",
      "429\n",
      "try 10 second wait time\n",
      "429\n",
      "try 10 second wait time\n",
      "429\n",
      "try 10 second wait time\n",
      "429\n",
      "try 10 second wait time\n",
      "429\n",
      "try 10 second wait time\n",
      "429\n",
      "try 10 second wait time\n",
      "429\n",
      "try 10 second wait time\n",
      "200\n",
      "total wait time :  92.44824600219727\n",
      "recovery api cost\n"
     ]
    },
    {
     "name": "stderr",
     "output_type": "stream",
     "text": [
      "\r",
      "  4%|█▎                               | 386/10000 [5:23:47<155:08:26, 58.09s/it]"
     ]
    },
    {
     "name": "stdout",
     "output_type": "stream",
     "text": [
      "KR_5733714531의 데이터 수집이 완료되었습니다\n",
      "KR_5733714538의 데이터 수집을 시작합니다.\n"
     ]
    },
    {
     "name": "stderr",
     "output_type": "stream",
     "text": [
      "\r",
      "  4%|█▎                               | 387/10000 [5:24:00<118:55:43, 44.54s/it]"
     ]
    },
    {
     "name": "stdout",
     "output_type": "stream",
     "text": [
      "KR_5733714538의 데이터 수집이 완료되었습니다\n",
      "KR_5733719590의 데이터 수집을 시작합니다.\n",
      "api cost full : infinite loop start\n",
      "try 10 second wait time\n",
      "429\n",
      "try 10 second wait time\n",
      "429\n",
      "try 10 second wait time\n",
      "429\n",
      "try 10 second wait time\n",
      "429\n",
      "try 10 second wait time\n",
      "429\n",
      "try 10 second wait time\n",
      "429\n",
      "try 10 second wait time\n",
      "429\n",
      "try 10 second wait time\n",
      "429\n",
      "try 10 second wait time\n",
      "200\n",
      "total wait time :  92.3005530834198\n",
      "recovery api cost\n"
     ]
    },
    {
     "name": "stderr",
     "output_type": "stream",
     "text": [
      "\r",
      "  4%|█▎                               | 388/10000 [5:25:46<168:03:11, 62.94s/it]"
     ]
    },
    {
     "name": "stdout",
     "output_type": "stream",
     "text": [
      "KR_5733719590의 데이터 수집이 완료되었습니다\n",
      "KR_5733722283의 데이터 수집을 시작합니다.\n"
     ]
    },
    {
     "name": "stderr",
     "output_type": "stream",
     "text": [
      "\r",
      "  4%|█▎                               | 389/10000 [5:25:59<128:38:51, 48.19s/it]"
     ]
    },
    {
     "name": "stdout",
     "output_type": "stream",
     "text": [
      "KR_5733722283의 데이터 수집이 완료되었습니다\n",
      "KR_5733723095의 데이터 수집을 시작합니다.\n"
     ]
    },
    {
     "name": "stderr",
     "output_type": "stream",
     "text": [
      "\r",
      "  4%|█▎                               | 390/10000 [5:26:12<100:14:51, 37.55s/it]"
     ]
    },
    {
     "name": "stdout",
     "output_type": "stream",
     "text": [
      "KR_5733723095의 데이터 수집이 완료되었습니다\n",
      "KR_5733724317의 데이터 수집을 시작합니다.\n",
      "api cost full : infinite loop start\n",
      "try 10 second wait time\n",
      "429\n",
      "try 10 second wait time\n",
      "429\n",
      "try 10 second wait time\n",
      "429\n",
      "try 10 second wait time\n",
      "429\n",
      "try 10 second wait time\n",
      "429\n",
      "try 10 second wait time\n",
      "429\n",
      "try 10 second wait time\n",
      "429\n",
      "try 10 second wait time\n",
      "429\n",
      "try 10 second wait time\n",
      "200\n",
      "total wait time :  92.2503170967102\n",
      "recovery api cost\n"
     ]
    },
    {
     "name": "stderr",
     "output_type": "stream",
     "text": [
      "\r",
      "  4%|█▎                               | 391/10000 [5:27:57<154:27:09, 57.87s/it]"
     ]
    },
    {
     "name": "stdout",
     "output_type": "stream",
     "text": [
      "KR_5733724317의 데이터 수집이 완료되었습니다\n",
      "KR_5733724714의 데이터 수집을 시작합니다.\n"
     ]
    },
    {
     "name": "stderr",
     "output_type": "stream",
     "text": [
      "\r",
      "  4%|█▎                               | 392/10000 [5:28:12<120:07:01, 45.01s/it]"
     ]
    },
    {
     "name": "stdout",
     "output_type": "stream",
     "text": [
      "KR_5733724714의 데이터 수집이 완료되었습니다\n",
      "KR_5733725244의 데이터 수집을 시작합니다.\n",
      "api cost full : infinite loop start\n",
      "try 10 second wait time\n",
      "429\n",
      "try 10 second wait time\n",
      "429\n",
      "try 10 second wait time\n",
      "429\n",
      "try 10 second wait time\n",
      "429\n",
      "try 10 second wait time\n",
      "429\n",
      "try 10 second wait time\n",
      "429\n",
      "try 10 second wait time\n",
      "429\n",
      "try 10 second wait time\n",
      "429\n",
      "try 10 second wait time\n",
      "200\n",
      "total wait time :  92.58144688606262\n",
      "recovery api cost\n"
     ]
    },
    {
     "name": "stderr",
     "output_type": "stream",
     "text": [
      "\r",
      "  4%|█▎                               | 393/10000 [5:29:58<168:48:58, 63.26s/it]"
     ]
    },
    {
     "name": "stdout",
     "output_type": "stream",
     "text": [
      "KR_5733725244의 데이터 수집이 완료되었습니다\n",
      "KR_5733726270의 데이터 수집을 시작합니다.\n"
     ]
    },
    {
     "name": "stderr",
     "output_type": "stream",
     "text": [
      "\r",
      "  4%|█▎                               | 394/10000 [5:30:11<128:17:49, 48.08s/it]"
     ]
    },
    {
     "name": "stdout",
     "output_type": "stream",
     "text": [
      "KR_5733726270의 데이터 수집이 완료되었습니다\n",
      "KR_5733726635의 데이터 수집을 시작합니다.\n"
     ]
    },
    {
     "name": "stderr",
     "output_type": "stream",
     "text": [
      "\r",
      "  4%|█▎                               | 395/10000 [5:30:24<100:01:22, 37.49s/it]"
     ]
    },
    {
     "name": "stdout",
     "output_type": "stream",
     "text": [
      "KR_5733726635의 데이터 수집이 완료되었습니다\n",
      "KR_5733726746의 데이터 수집을 시작합니다.\n",
      "api cost full : infinite loop start\n",
      "try 10 second wait time\n",
      "429\n",
      "try 10 second wait time\n",
      "429\n",
      "try 10 second wait time\n",
      "429\n",
      "try 10 second wait time\n",
      "429\n",
      "try 10 second wait time\n",
      "429\n",
      "try 10 second wait time\n",
      "429\n",
      "try 10 second wait time\n",
      "429\n",
      "try 10 second wait time\n",
      "429\n",
      "try 10 second wait time\n",
      "200\n",
      "total wait time :  93.29150986671448\n",
      "recovery api cost\n"
     ]
    },
    {
     "name": "stderr",
     "output_type": "stream",
     "text": [
      "\r",
      "  4%|█▎                               | 396/10000 [5:32:11<155:41:48, 58.36s/it]"
     ]
    },
    {
     "name": "stdout",
     "output_type": "stream",
     "text": [
      "KR_5733726746의 데이터 수집이 완료되었습니다\n",
      "KR_5733727240의 데이터 수집을 시작합니다.\n"
     ]
    },
    {
     "name": "stderr",
     "output_type": "stream",
     "text": [
      "\r",
      "  4%|█▎                               | 397/10000 [5:32:24<119:22:09, 44.75s/it]"
     ]
    },
    {
     "name": "stdout",
     "output_type": "stream",
     "text": [
      "KR_5733727240의 데이터 수집이 완료되었습니다\n",
      "KR_5733727374의 데이터 수집을 시작합니다.\n",
      "api cost full : infinite loop start\n",
      "try 10 second wait time\n",
      "429\n",
      "try 10 second wait time\n",
      "429\n",
      "try 10 second wait time\n",
      "429\n",
      "try 10 second wait time\n",
      "429\n",
      "try 10 second wait time\n",
      "429\n",
      "try 10 second wait time\n",
      "429\n",
      "try 10 second wait time\n",
      "429\n",
      "try 10 second wait time\n",
      "429\n",
      "try 10 second wait time\n",
      "200\n",
      "total wait time :  92.2988338470459\n",
      "recovery api cost\n"
     ]
    },
    {
     "name": "stderr",
     "output_type": "stream",
     "text": [
      "\r",
      "  4%|█▎                               | 398/10000 [5:34:11<169:18:59, 63.48s/it]"
     ]
    },
    {
     "name": "stdout",
     "output_type": "stream",
     "text": [
      "KR_5733727374의 데이터 수집이 완료되었습니다\n",
      "KR_5733728997의 데이터 수집을 시작합니다.\n"
     ]
    },
    {
     "name": "stderr",
     "output_type": "stream",
     "text": [
      "\r",
      "  4%|█▎                               | 399/10000 [5:34:25<129:31:49, 48.57s/it]"
     ]
    },
    {
     "name": "stdout",
     "output_type": "stream",
     "text": [
      "KR_5733728997의 데이터 수집이 완료되었습니다\n",
      "KR_5733733176의 데이터 수집을 시작합니다.\n"
     ]
    },
    {
     "name": "stderr",
     "output_type": "stream",
     "text": [
      "\r",
      "  4%|█▎                               | 400/10000 [5:34:38<101:03:21, 37.90s/it]"
     ]
    },
    {
     "name": "stdout",
     "output_type": "stream",
     "text": [
      "KR_5733733176의 데이터 수집이 완료되었습니다\n",
      "KR_5733733328의 데이터 수집을 시작합니다.\n",
      "api cost full : infinite loop start\n",
      "try 10 second wait time\n",
      "429\n",
      "try 10 second wait time\n",
      "429\n",
      "try 10 second wait time\n",
      "429\n",
      "try 10 second wait time\n",
      "429\n",
      "try 10 second wait time\n",
      "429\n",
      "try 10 second wait time\n",
      "429\n",
      "try 10 second wait time\n",
      "429\n",
      "try 10 second wait time\n",
      "429\n",
      "try 10 second wait time\n",
      "200\n",
      "total wait time :  92.3763198852539\n",
      "recovery api cost\n"
     ]
    },
    {
     "name": "stderr",
     "output_type": "stream",
     "text": [
      "\r",
      "  4%|█▎                               | 401/10000 [5:36:23<155:17:21, 58.24s/it]"
     ]
    },
    {
     "name": "stdout",
     "output_type": "stream",
     "text": [
      "KR_5733733328의 데이터 수집이 완료되었습니다\n",
      "KR_5733734220의 데이터 수집을 시작합니다.\n"
     ]
    },
    {
     "name": "stderr",
     "output_type": "stream",
     "text": [
      "\r",
      "  4%|█▎                               | 402/10000 [5:36:37<119:21:08, 44.77s/it]"
     ]
    },
    {
     "name": "stdout",
     "output_type": "stream",
     "text": [
      "KR_5733734220의 데이터 수집이 완료되었습니다\n",
      "KR_5733736572의 데이터 수집을 시작합니다.\n",
      "api cost full : infinite loop start\n",
      "try 10 second wait time\n",
      "429\n",
      "try 10 second wait time\n",
      "429\n",
      "try 10 second wait time\n",
      "429\n",
      "try 10 second wait time\n",
      "429\n",
      "try 10 second wait time\n",
      "429\n",
      "try 10 second wait time\n",
      "429\n",
      "try 10 second wait time\n",
      "429\n",
      "try 10 second wait time\n",
      "429\n",
      "try 10 second wait time\n",
      "200\n",
      "total wait time :  92.31782102584839\n",
      "recovery api cost\n"
     ]
    },
    {
     "name": "stderr",
     "output_type": "stream",
     "text": [
      "\r",
      "  4%|█▎                               | 403/10000 [5:38:22<167:39:35, 62.89s/it]"
     ]
    },
    {
     "name": "stdout",
     "output_type": "stream",
     "text": [
      "KR_5733736572의 데이터 수집이 완료되었습니다\n",
      "KR_5733737587의 데이터 수집을 시작합니다.\n"
     ]
    },
    {
     "name": "stderr",
     "output_type": "stream",
     "text": [
      "\r",
      "  4%|█▎                               | 404/10000 [5:38:37<129:06:18, 48.43s/it]"
     ]
    },
    {
     "name": "stdout",
     "output_type": "stream",
     "text": [
      "KR_5733737587의 데이터 수집이 완료되었습니다\n",
      "KR_5733737879의 데이터 수집을 시작합니다.\n"
     ]
    },
    {
     "name": "stderr",
     "output_type": "stream",
     "text": [
      "\r",
      "  4%|█▎                               | 405/10000 [5:38:50<100:53:49, 37.86s/it]"
     ]
    },
    {
     "name": "stdout",
     "output_type": "stream",
     "text": [
      "KR_5733737879의 데이터 수집이 완료되었습니다\n",
      "KR_5733737988의 데이터 수집을 시작합니다.\n",
      "api cost full : infinite loop start\n",
      "try 10 second wait time\n",
      "429\n",
      "try 10 second wait time\n",
      "429\n",
      "try 10 second wait time\n",
      "429\n",
      "try 10 second wait time\n",
      "429\n",
      "try 10 second wait time\n",
      "429\n",
      "try 10 second wait time\n",
      "429\n",
      "try 10 second wait time\n",
      "429\n",
      "try 10 second wait time\n",
      "429\n",
      "try 10 second wait time\n",
      "200\n",
      "total wait time :  92.30441308021545\n",
      "recovery api cost\n"
     ]
    },
    {
     "name": "stderr",
     "output_type": "stream",
     "text": [
      "\r",
      "  4%|█▎                               | 406/10000 [5:40:35<154:44:53, 58.07s/it]"
     ]
    },
    {
     "name": "stdout",
     "output_type": "stream",
     "text": [
      "KR_5733737988의 데이터 수집이 완료되었습니다\n",
      "KR_5733738018의 데이터 수집을 시작합니다.\n"
     ]
    },
    {
     "name": "stderr",
     "output_type": "stream",
     "text": [
      "\r",
      "  4%|█▎                               | 407/10000 [5:40:48<118:31:31, 44.48s/it]"
     ]
    },
    {
     "name": "stdout",
     "output_type": "stream",
     "text": [
      "KR_5733738018의 데이터 수집이 완료되었습니다\n",
      "KR_5733738157의 데이터 수집을 시작합니다.\n",
      "api cost full : infinite loop start\n",
      "try 10 second wait time\n",
      "429\n",
      "try 10 second wait time\n",
      "429\n",
      "try 10 second wait time\n",
      "429\n",
      "try 10 second wait time\n",
      "429\n",
      "try 10 second wait time\n",
      "429\n",
      "try 10 second wait time\n",
      "429\n",
      "try 10 second wait time\n",
      "429\n",
      "try 10 second wait time\n",
      "429\n",
      "try 10 second wait time\n",
      "200\n",
      "total wait time :  92.34317588806152\n",
      "recovery api cost\n"
     ]
    },
    {
     "name": "stderr",
     "output_type": "stream",
     "text": [
      "\r",
      "  4%|█▎                               | 408/10000 [5:42:33<167:01:41, 62.69s/it]"
     ]
    },
    {
     "name": "stdout",
     "output_type": "stream",
     "text": [
      "KR_5733738157의 데이터 수집이 완료되었습니다\n",
      "KR_5733738333의 데이터 수집을 시작합니다.\n"
     ]
    },
    {
     "name": "stderr",
     "output_type": "stream",
     "text": [
      "\r",
      "  4%|█▎                               | 409/10000 [5:42:46<127:18:44, 47.79s/it]"
     ]
    },
    {
     "name": "stdout",
     "output_type": "stream",
     "text": [
      "KR_5733738333의 데이터 수집이 완료되었습니다\n",
      "KR_5733738862의 데이터 수집을 시작합니다.\n"
     ]
    },
    {
     "name": "stderr",
     "output_type": "stream",
     "text": [
      "\r",
      "  4%|█▍                                | 410/10000 [5:42:59<99:30:09, 37.35s/it]"
     ]
    },
    {
     "name": "stdout",
     "output_type": "stream",
     "text": [
      "KR_5733738862의 데이터 수집이 완료되었습니다\n",
      "KR_5733738956의 데이터 수집을 시작합니다.\n",
      "api cost full : infinite loop start\n",
      "try 10 second wait time\n",
      "429\n",
      "try 10 second wait time\n",
      "429\n",
      "try 10 second wait time\n",
      "429\n",
      "try 10 second wait time\n",
      "429\n",
      "try 10 second wait time\n",
      "429\n",
      "try 10 second wait time\n",
      "429\n",
      "try 10 second wait time\n",
      "429\n",
      "try 10 second wait time\n",
      "429\n",
      "try 10 second wait time\n",
      "200\n",
      "total wait time :  92.26153588294983\n",
      "recovery api cost\n"
     ]
    },
    {
     "name": "stderr",
     "output_type": "stream",
     "text": [
      "\r",
      "  4%|█▎                               | 411/10000 [5:44:44<153:50:25, 57.76s/it]"
     ]
    },
    {
     "name": "stdout",
     "output_type": "stream",
     "text": [
      "KR_5733738956의 데이터 수집이 완료되었습니다\n",
      "KR_5733740843의 데이터 수집을 시작합니다.\n"
     ]
    },
    {
     "name": "stderr",
     "output_type": "stream",
     "text": [
      "\r",
      "  4%|█▎                               | 412/10000 [5:44:58<118:17:36, 44.42s/it]"
     ]
    },
    {
     "name": "stdout",
     "output_type": "stream",
     "text": [
      "KR_5733740843의 데이터 수집이 완료되었습니다\n",
      "KR_5733741222의 데이터 수집을 시작합니다.\n",
      "api cost full : infinite loop start\n",
      "try 10 second wait time\n",
      "429\n",
      "try 10 second wait time\n",
      "429\n",
      "try 10 second wait time\n",
      "429\n",
      "try 10 second wait time\n",
      "429\n",
      "try 10 second wait time\n",
      "429\n",
      "try 10 second wait time\n",
      "429\n",
      "try 10 second wait time\n",
      "429\n",
      "try 10 second wait time\n",
      "429\n",
      "try 10 second wait time\n",
      "200\n",
      "total wait time :  92.26395010948181\n",
      "recovery api cost\n"
     ]
    },
    {
     "name": "stderr",
     "output_type": "stream",
     "text": [
      "\r",
      "  4%|█▎                               | 413/10000 [5:46:43<166:42:03, 62.60s/it]"
     ]
    },
    {
     "name": "stdout",
     "output_type": "stream",
     "text": [
      "KR_5733741222의 데이터 수집이 완료되었습니다\n",
      "KR_5733741642의 데이터 수집을 시작합니다.\n"
     ]
    },
    {
     "name": "stderr",
     "output_type": "stream",
     "text": [
      "\r",
      "  4%|█▎                               | 414/10000 [5:46:55<126:52:23, 47.65s/it]"
     ]
    },
    {
     "name": "stdout",
     "output_type": "stream",
     "text": [
      "KR_5733741642의 데이터 수집이 완료되었습니다\n",
      "KR_5733741928의 데이터 수집을 시작합니다.\n"
     ]
    },
    {
     "name": "stderr",
     "output_type": "stream",
     "text": [
      "\r",
      "  4%|█▍                                | 415/10000 [5:47:08<99:08:16, 37.23s/it]"
     ]
    },
    {
     "name": "stdout",
     "output_type": "stream",
     "text": [
      "KR_5733741928의 데이터 수집이 완료되었습니다\n",
      "KR_5733742722의 데이터 수집을 시작합니다.\n",
      "api cost full : infinite loop start\n",
      "try 10 second wait time\n",
      "429\n",
      "try 10 second wait time\n",
      "429\n",
      "try 10 second wait time\n",
      "429\n",
      "try 10 second wait time\n",
      "429\n",
      "try 10 second wait time\n",
      "429\n",
      "try 10 second wait time\n",
      "429\n",
      "try 10 second wait time\n",
      "429\n",
      "try 10 second wait time\n",
      "429\n",
      "try 10 second wait time\n",
      "200\n",
      "total wait time :  92.22691106796265\n",
      "recovery api cost\n"
     ]
    },
    {
     "name": "stderr",
     "output_type": "stream",
     "text": [
      "\r",
      "  4%|█▎                               | 416/10000 [5:48:53<153:25:43, 57.63s/it]"
     ]
    },
    {
     "name": "stdout",
     "output_type": "stream",
     "text": [
      "KR_5733742722의 데이터 수집이 완료되었습니다\n",
      "KR_5733743898의 데이터 수집을 시작합니다.\n"
     ]
    },
    {
     "name": "stderr",
     "output_type": "stream",
     "text": [
      "\r",
      "  4%|█▍                               | 417/10000 [5:49:07<118:28:06, 44.50s/it]"
     ]
    },
    {
     "name": "stdout",
     "output_type": "stream",
     "text": [
      "KR_5733743898의 데이터 수집이 완료되었습니다\n",
      "KR_5733746224의 데이터 수집을 시작합니다.\n",
      "api cost full : infinite loop start\n",
      "try 10 second wait time\n",
      "429\n",
      "try 10 second wait time\n",
      "429\n",
      "try 10 second wait time\n",
      "429\n",
      "try 10 second wait time\n",
      "429\n",
      "try 10 second wait time\n",
      "429\n",
      "try 10 second wait time\n",
      "429\n",
      "try 10 second wait time\n",
      "429\n",
      "try 10 second wait time\n",
      "429\n",
      "try 10 second wait time\n",
      "200\n",
      "total wait time :  92.2217149734497\n",
      "recovery api cost\n"
     ]
    },
    {
     "name": "stderr",
     "output_type": "stream",
     "text": [
      "\r",
      "  4%|█▍                               | 418/10000 [5:50:53<166:58:11, 62.73s/it]"
     ]
    },
    {
     "name": "stdout",
     "output_type": "stream",
     "text": [
      "KR_5733746224의 데이터 수집이 완료되었습니다\n",
      "KR_5733748566의 데이터 수집을 시작합니다.\n"
     ]
    },
    {
     "name": "stderr",
     "output_type": "stream",
     "text": [
      "\r",
      "  4%|█▍                               | 419/10000 [5:51:05<127:07:38, 47.77s/it]"
     ]
    },
    {
     "name": "stdout",
     "output_type": "stream",
     "text": [
      "KR_5733748566의 데이터 수집이 완료되었습니다\n",
      "KR_5733749992의 데이터 수집을 시작합니다.\n"
     ]
    },
    {
     "name": "stderr",
     "output_type": "stream",
     "text": [
      "\r",
      "  4%|█▍                                | 420/10000 [5:51:19<99:32:28, 37.41s/it]"
     ]
    },
    {
     "name": "stdout",
     "output_type": "stream",
     "text": [
      "KR_5733749992의 데이터 수집이 완료되었습니다\n",
      "KR_5733750268의 데이터 수집을 시작합니다.\n",
      "api cost full : infinite loop start\n",
      "try 10 second wait time\n",
      "429\n",
      "try 10 second wait time\n",
      "429\n",
      "try 10 second wait time\n",
      "429\n",
      "try 10 second wait time\n",
      "429\n",
      "try 10 second wait time\n",
      "429\n",
      "try 10 second wait time\n",
      "429\n",
      "try 10 second wait time\n",
      "429\n",
      "try 10 second wait time\n",
      "429\n",
      "try 10 second wait time\n",
      "200\n",
      "total wait time :  92.25492906570435\n",
      "recovery api cost\n"
     ]
    },
    {
     "name": "stderr",
     "output_type": "stream",
     "text": [
      "\r",
      "  4%|█▍                               | 421/10000 [5:53:05<154:09:34, 57.94s/it]"
     ]
    },
    {
     "name": "stdout",
     "output_type": "stream",
     "text": [
      "KR_5733750268의 데이터 수집이 완료되었습니다\n",
      "KR_5733751535의 데이터 수집을 시작합니다.\n"
     ]
    },
    {
     "name": "stderr",
     "output_type": "stream",
     "text": [
      "\r",
      "  4%|█▍                               | 422/10000 [5:53:18<118:32:30, 44.56s/it]"
     ]
    },
    {
     "name": "stdout",
     "output_type": "stream",
     "text": [
      "KR_5733751535의 데이터 수집이 완료되었습니다\n",
      "KR_5733751697의 데이터 수집을 시작합니다.\n",
      "api cost full : infinite loop start\n",
      "try 10 second wait time\n",
      "429\n",
      "try 10 second wait time\n",
      "429\n",
      "try 10 second wait time\n",
      "429\n",
      "try 10 second wait time\n",
      "429\n",
      "try 10 second wait time\n",
      "429\n",
      "try 10 second wait time\n",
      "429\n",
      "try 10 second wait time\n",
      "429\n",
      "try 10 second wait time\n",
      "429\n",
      "try 10 second wait time\n",
      "200\n",
      "total wait time :  92.33986210823059\n",
      "recovery api cost\n"
     ]
    },
    {
     "name": "stderr",
     "output_type": "stream",
     "text": [
      "\r",
      "  4%|█▍                               | 423/10000 [5:55:03<166:53:46, 62.74s/it]"
     ]
    },
    {
     "name": "stdout",
     "output_type": "stream",
     "text": [
      "KR_5733751697의 데이터 수집이 완료되었습니다\n",
      "KR_5733751779의 데이터 수집을 시작합니다.\n"
     ]
    },
    {
     "name": "stderr",
     "output_type": "stream",
     "text": [
      "\r",
      "  4%|█▍                               | 424/10000 [5:55:16<127:28:28, 47.92s/it]"
     ]
    },
    {
     "name": "stdout",
     "output_type": "stream",
     "text": [
      "KR_5733751779의 데이터 수집이 완료되었습니다\n",
      "KR_5733752256의 데이터 수집을 시작합니다.\n"
     ]
    },
    {
     "name": "stderr",
     "output_type": "stream",
     "text": [
      "\r",
      "  4%|█▍                                | 425/10000 [5:55:30<99:53:22, 37.56s/it]"
     ]
    },
    {
     "name": "stdout",
     "output_type": "stream",
     "text": [
      "KR_5733752256의 데이터 수집이 완료되었습니다\n",
      "KR_5733754264의 데이터 수집을 시작합니다.\n",
      "api cost full : infinite loop start\n",
      "try 10 second wait time\n",
      "429\n",
      "try 10 second wait time\n",
      "429\n",
      "try 10 second wait time\n",
      "429\n",
      "try 10 second wait time\n",
      "429\n",
      "try 10 second wait time\n",
      "429\n",
      "try 10 second wait time\n",
      "429\n",
      "try 10 second wait time\n",
      "429\n",
      "try 10 second wait time\n",
      "429\n",
      "try 10 second wait time\n",
      "200\n",
      "total wait time :  92.29239296913147\n",
      "recovery api cost\n"
     ]
    },
    {
     "name": "stderr",
     "output_type": "stream",
     "text": [
      "\r",
      "  4%|█▍                               | 426/10000 [5:57:15<154:13:47, 57.99s/it]"
     ]
    },
    {
     "name": "stdout",
     "output_type": "stream",
     "text": [
      "KR_5733754264의 데이터 수집이 완료되었습니다\n",
      "KR_5733757101의 데이터 수집을 시작합니다.\n"
     ]
    },
    {
     "name": "stderr",
     "output_type": "stream",
     "text": [
      "\r",
      "  4%|█▍                               | 427/10000 [5:57:29<118:22:34, 44.52s/it]"
     ]
    },
    {
     "name": "stdout",
     "output_type": "stream",
     "text": [
      "KR_5733757101의 데이터 수집이 완료되었습니다\n",
      "KR_5733757147의 데이터 수집을 시작합니다.\n",
      "api cost full : infinite loop start\n",
      "try 10 second wait time\n",
      "429\n",
      "try 10 second wait time\n",
      "429\n",
      "try 10 second wait time\n",
      "429\n",
      "try 10 second wait time\n",
      "429\n",
      "try 10 second wait time\n",
      "429\n",
      "try 10 second wait time\n",
      "429\n",
      "try 10 second wait time\n",
      "429\n",
      "try 10 second wait time\n",
      "429\n",
      "try 10 second wait time\n",
      "200\n",
      "total wait time :  92.33114814758301\n",
      "recovery api cost\n"
     ]
    },
    {
     "name": "stderr",
     "output_type": "stream",
     "text": [
      "\r",
      "  4%|█▍                               | 428/10000 [5:59:14<167:05:36, 62.84s/it]"
     ]
    },
    {
     "name": "stdout",
     "output_type": "stream",
     "text": [
      "KR_5733757147의 데이터 수집이 완료되었습니다\n",
      "KR_5733757218의 데이터 수집을 시작합니다.\n"
     ]
    },
    {
     "name": "stderr",
     "output_type": "stream",
     "text": [
      "\r",
      "  4%|█▍                               | 429/10000 [5:59:27<127:29:07, 47.95s/it]"
     ]
    },
    {
     "name": "stdout",
     "output_type": "stream",
     "text": [
      "KR_5733757218의 데이터 수집이 완료되었습니다\n",
      "KR_5733758300의 데이터 수집을 시작합니다.\n"
     ]
    },
    {
     "name": "stderr",
     "output_type": "stream",
     "text": [
      "\r",
      "  4%|█▍                                | 430/10000 [5:59:40<99:21:02, 37.37s/it]"
     ]
    },
    {
     "name": "stdout",
     "output_type": "stream",
     "text": [
      "KR_5733758300의 데이터 수집이 완료되었습니다\n",
      "KR_5733758880의 데이터 수집을 시작합니다.\n",
      "api cost full : infinite loop start\n",
      "try 10 second wait time\n",
      "429\n",
      "try 10 second wait time\n",
      "429\n",
      "try 10 second wait time\n",
      "429\n",
      "try 10 second wait time\n",
      "429\n",
      "try 10 second wait time\n",
      "429\n",
      "try 10 second wait time\n",
      "429\n",
      "try 10 second wait time\n",
      "429\n",
      "try 10 second wait time\n",
      "429\n",
      "try 10 second wait time\n",
      "200\n",
      "total wait time :  92.27373218536377\n",
      "recovery api cost\n"
     ]
    },
    {
     "name": "stderr",
     "output_type": "stream",
     "text": [
      "\r",
      "  4%|█▍                               | 431/10000 [6:01:25<153:19:47, 57.68s/it]"
     ]
    },
    {
     "name": "stdout",
     "output_type": "stream",
     "text": [
      "KR_5733758880의 데이터 수집이 완료되었습니다\n",
      "KR_5733759827의 데이터 수집을 시작합니다.\n"
     ]
    },
    {
     "name": "stderr",
     "output_type": "stream",
     "text": [
      "\r",
      "  4%|█▍                               | 432/10000 [6:01:38<117:41:35, 44.28s/it]"
     ]
    },
    {
     "name": "stdout",
     "output_type": "stream",
     "text": [
      "KR_5733759827의 데이터 수집이 완료되었습니다\n",
      "KR_5733761073의 데이터 수집을 시작합니다.\n",
      "api cost full : infinite loop start\n",
      "try 10 second wait time\n",
      "429\n",
      "try 10 second wait time\n",
      "429\n",
      "try 10 second wait time\n",
      "429\n",
      "try 10 second wait time\n",
      "429\n",
      "try 10 second wait time\n",
      "429\n",
      "try 10 second wait time\n",
      "429\n",
      "try 10 second wait time\n",
      "429\n",
      "try 10 second wait time\n",
      "429\n",
      "try 10 second wait time\n",
      "200\n",
      "total wait time :  92.29172205924988\n",
      "recovery api cost\n"
     ]
    },
    {
     "name": "stderr",
     "output_type": "stream",
     "text": [
      "\r",
      "  4%|█▍                               | 433/10000 [6:03:24<166:33:39, 62.68s/it]"
     ]
    },
    {
     "name": "stdout",
     "output_type": "stream",
     "text": [
      "KR_5733761073의 데이터 수집이 완료되었습니다\n",
      "KR_5733762186의 데이터 수집을 시작합니다.\n"
     ]
    },
    {
     "name": "stderr",
     "output_type": "stream",
     "text": [
      "\r",
      "  4%|█▍                               | 434/10000 [6:03:37<126:56:01, 47.77s/it]"
     ]
    },
    {
     "name": "stdout",
     "output_type": "stream",
     "text": [
      "KR_5733762186의 데이터 수집이 완료되었습니다\n",
      "KR_5733763095의 데이터 수집을 시작합니다.\n"
     ]
    },
    {
     "name": "stderr",
     "output_type": "stream",
     "text": [
      "\r",
      "  4%|█▍                                | 435/10000 [6:03:50<99:06:01, 37.30s/it]"
     ]
    },
    {
     "name": "stdout",
     "output_type": "stream",
     "text": [
      "KR_5733763095의 데이터 수집이 완료되었습니다\n",
      "KR_5733764200의 데이터 수집을 시작합니다.\n",
      "api cost full : infinite loop start\n",
      "try 10 second wait time\n",
      "429\n",
      "try 10 second wait time\n",
      "429\n",
      "try 10 second wait time\n",
      "429\n",
      "try 10 second wait time\n",
      "429\n",
      "try 10 second wait time\n",
      "429\n",
      "try 10 second wait time\n",
      "429\n",
      "try 10 second wait time\n",
      "429\n",
      "try 10 second wait time\n",
      "429\n",
      "try 10 second wait time\n",
      "200\n",
      "total wait time :  92.41091918945312\n",
      "recovery api cost\n"
     ]
    },
    {
     "name": "stderr",
     "output_type": "stream",
     "text": [
      "\r",
      "  4%|█▍                               | 436/10000 [6:05:35<153:24:13, 57.74s/it]"
     ]
    },
    {
     "name": "stdout",
     "output_type": "stream",
     "text": [
      "KR_5733764200의 데이터 수집이 완료되었습니다\n",
      "KR_5733764475의 데이터 수집을 시작합니다.\n"
     ]
    },
    {
     "name": "stderr",
     "output_type": "stream",
     "text": [
      "\r",
      "  4%|█▍                               | 437/10000 [6:05:48<117:42:34, 44.31s/it]"
     ]
    },
    {
     "name": "stdout",
     "output_type": "stream",
     "text": [
      "KR_5733764475의 데이터 수집이 완료되었습니다\n",
      "KR_5733764643의 데이터 수집을 시작합니다.\n",
      "api cost full : infinite loop start\n",
      "try 10 second wait time\n",
      "429\n",
      "try 10 second wait time\n",
      "429\n",
      "try 10 second wait time\n",
      "429\n",
      "try 10 second wait time\n",
      "429\n",
      "try 10 second wait time\n",
      "429\n",
      "try 10 second wait time\n",
      "429\n",
      "try 10 second wait time\n",
      "429\n",
      "try 10 second wait time\n",
      "429\n",
      "try 10 second wait time\n",
      "200\n",
      "total wait time :  92.25574803352356\n",
      "recovery api cost\n"
     ]
    },
    {
     "name": "stderr",
     "output_type": "stream",
     "text": [
      "\r",
      "  4%|█▍                               | 438/10000 [6:07:33<166:28:04, 62.67s/it]"
     ]
    },
    {
     "name": "stdout",
     "output_type": "stream",
     "text": [
      "KR_5733764643의 데이터 수집이 완료되었습니다\n",
      "KR_5733764885의 데이터 수집을 시작합니다.\n"
     ]
    },
    {
     "name": "stderr",
     "output_type": "stream",
     "text": [
      "\r",
      "  4%|█▍                               | 439/10000 [6:07:47<127:02:58, 47.84s/it]"
     ]
    },
    {
     "name": "stdout",
     "output_type": "stream",
     "text": [
      "KR_5733764885의 데이터 수집이 완료되었습니다\n",
      "KR_5733765928의 데이터 수집을 시작합니다.\n"
     ]
    },
    {
     "name": "stderr",
     "output_type": "stream",
     "text": [
      "\r",
      "  4%|█▍                                | 440/10000 [6:08:00<99:17:30, 37.39s/it]"
     ]
    },
    {
     "name": "stdout",
     "output_type": "stream",
     "text": [
      "KR_5733765928의 데이터 수집이 완료되었습니다\n",
      "KR_5733766343의 데이터 수집을 시작합니다.\n",
      "api cost full : infinite loop start\n",
      "try 10 second wait time\n",
      "429\n",
      "try 10 second wait time\n",
      "429\n",
      "try 10 second wait time\n",
      "429\n",
      "try 10 second wait time\n",
      "429\n",
      "try 10 second wait time\n",
      "429\n",
      "try 10 second wait time\n",
      "429\n",
      "try 10 second wait time\n",
      "429\n",
      "try 10 second wait time\n",
      "429\n",
      "try 10 second wait time\n",
      "200\n",
      "total wait time :  92.2664520740509\n",
      "recovery api cost\n"
     ]
    },
    {
     "name": "stderr",
     "output_type": "stream",
     "text": [
      "\r",
      "  4%|█▍                               | 441/10000 [6:09:46<153:50:19, 57.94s/it]"
     ]
    },
    {
     "name": "stdout",
     "output_type": "stream",
     "text": [
      "KR_5733766343의 데이터 수집이 완료되었습니다\n",
      "KR_5733766770의 데이터 수집을 시작합니다.\n"
     ]
    },
    {
     "name": "stderr",
     "output_type": "stream",
     "text": [
      "\r",
      "  4%|█▍                               | 442/10000 [6:09:59<118:02:50, 44.46s/it]"
     ]
    },
    {
     "name": "stdout",
     "output_type": "stream",
     "text": [
      "KR_5733766770의 데이터 수집이 완료되었습니다\n",
      "KR_5733767419의 데이터 수집을 시작합니다.\n",
      "api cost full : infinite loop start\n",
      "try 10 second wait time\n",
      "429\n",
      "try 10 second wait time\n",
      "429\n",
      "try 10 second wait time\n",
      "429\n",
      "try 10 second wait time\n",
      "429\n",
      "try 10 second wait time\n",
      "429\n",
      "try 10 second wait time\n",
      "429\n",
      "try 10 second wait time\n",
      "429\n",
      "try 10 second wait time\n",
      "429\n",
      "try 10 second wait time\n",
      "200\n",
      "total wait time :  92.28048086166382\n",
      "recovery api cost\n"
     ]
    },
    {
     "name": "stderr",
     "output_type": "stream",
     "text": [
      "\r",
      "  4%|█▍                               | 443/10000 [6:11:44<166:46:29, 62.82s/it]"
     ]
    },
    {
     "name": "stdout",
     "output_type": "stream",
     "text": [
      "KR_5733767419의 데이터 수집이 완료되었습니다\n",
      "KR_5733767917의 데이터 수집을 시작합니다.\n"
     ]
    },
    {
     "name": "stderr",
     "output_type": "stream",
     "text": [
      "\r",
      "  4%|█▍                               | 444/10000 [6:11:58<127:41:09, 48.10s/it]"
     ]
    },
    {
     "name": "stdout",
     "output_type": "stream",
     "text": [
      "KR_5733767917의 데이터 수집이 완료되었습니다\n",
      "KR_5733769872의 데이터 수집을 시작합니다.\n"
     ]
    },
    {
     "name": "stderr",
     "output_type": "stream",
     "text": [
      "\r",
      "  4%|█▌                                | 445/10000 [6:12:11<99:45:30, 37.59s/it]"
     ]
    },
    {
     "name": "stdout",
     "output_type": "stream",
     "text": [
      "KR_5733769872의 데이터 수집이 완료되었습니다\n",
      "KR_5733770476의 데이터 수집을 시작합니다.\n",
      "api cost full : infinite loop start\n",
      "try 10 second wait time\n",
      "429\n",
      "try 10 second wait time\n",
      "429\n",
      "try 10 second wait time\n",
      "429\n",
      "try 10 second wait time\n",
      "429\n",
      "try 10 second wait time\n",
      "429\n",
      "try 10 second wait time\n",
      "429\n",
      "try 10 second wait time\n",
      "429\n",
      "try 10 second wait time\n",
      "429\n",
      "try 10 second wait time\n",
      "200\n",
      "total wait time :  92.43633794784546\n",
      "recovery api cost\n"
     ]
    },
    {
     "name": "stderr",
     "output_type": "stream",
     "text": [
      "\r",
      "  4%|█▍                               | 446/10000 [6:13:57<153:52:20, 57.98s/it]"
     ]
    },
    {
     "name": "stdout",
     "output_type": "stream",
     "text": [
      "KR_5733770476의 데이터 수집이 완료되었습니다\n",
      "KR_5733770883의 데이터 수집을 시작합니다.\n"
     ]
    },
    {
     "name": "stderr",
     "output_type": "stream",
     "text": [
      "\r",
      "  4%|█▍                               | 447/10000 [6:14:10<118:04:28, 44.50s/it]"
     ]
    },
    {
     "name": "stdout",
     "output_type": "stream",
     "text": [
      "KR_5733770883의 데이터 수집이 완료되었습니다\n",
      "KR_5733771425의 데이터 수집을 시작합니다.\n",
      "api cost full : infinite loop start\n",
      "try 10 second wait time\n",
      "429\n",
      "try 10 second wait time\n",
      "429\n",
      "try 10 second wait time\n",
      "429\n",
      "try 10 second wait time\n",
      "429\n",
      "try 10 second wait time\n",
      "429\n",
      "try 10 second wait time\n",
      "429\n",
      "try 10 second wait time\n",
      "429\n",
      "try 10 second wait time\n",
      "429\n",
      "try 10 second wait time\n",
      "200\n",
      "total wait time :  92.30441498756409\n",
      "recovery api cost\n"
     ]
    },
    {
     "name": "stderr",
     "output_type": "stream",
     "text": [
      "\r",
      "  4%|█▍                               | 448/10000 [6:15:55<166:26:01, 62.73s/it]"
     ]
    },
    {
     "name": "stdout",
     "output_type": "stream",
     "text": [
      "KR_5733771425의 데이터 수집이 완료되었습니다\n",
      "KR_5733771623의 데이터 수집을 시작합니다.\n"
     ]
    },
    {
     "name": "stderr",
     "output_type": "stream",
     "text": [
      "\r",
      "  4%|█▍                               | 449/10000 [6:16:08<126:59:01, 47.86s/it]"
     ]
    },
    {
     "name": "stdout",
     "output_type": "stream",
     "text": [
      "KR_5733771623의 데이터 수집이 완료되었습니다\n",
      "KR_5733772558의 데이터 수집을 시작합니다.\n"
     ]
    },
    {
     "name": "stderr",
     "output_type": "stream",
     "text": [
      "\r",
      "  4%|█▌                                | 450/10000 [6:16:22<99:40:50, 37.58s/it]"
     ]
    },
    {
     "name": "stdout",
     "output_type": "stream",
     "text": [
      "KR_5733772558의 데이터 수집이 완료되었습니다\n",
      "KR_5733772599의 데이터 수집을 시작합니다.\n",
      "api cost full : infinite loop start\n",
      "try 10 second wait time\n",
      "429\n",
      "try 10 second wait time\n",
      "429\n",
      "try 10 second wait time\n",
      "429\n",
      "try 10 second wait time\n",
      "429\n",
      "try 10 second wait time\n",
      "429\n",
      "try 10 second wait time\n",
      "429\n",
      "try 10 second wait time\n",
      "429\n",
      "try 10 second wait time\n",
      "429\n",
      "try 10 second wait time\n",
      "200\n",
      "total wait time :  93.04285383224487\n",
      "recovery api cost\n"
     ]
    },
    {
     "name": "stderr",
     "output_type": "stream",
     "text": [
      "\r",
      "  5%|█▍                               | 451/10000 [6:18:12<157:15:48, 59.29s/it]"
     ]
    },
    {
     "name": "stdout",
     "output_type": "stream",
     "text": [
      "KR_5733772599의 데이터 수집이 완료되었습니다\n",
      "KR_5733772927의 데이터 수집을 시작합니다.\n"
     ]
    },
    {
     "name": "stderr",
     "output_type": "stream",
     "text": [
      "\r",
      "  5%|█▍                               | 452/10000 [6:18:28<122:42:07, 46.26s/it]"
     ]
    },
    {
     "name": "stdout",
     "output_type": "stream",
     "text": [
      "KR_5733772927의 데이터 수집이 완료되었습니다\n",
      "KR_5733774170의 데이터 수집을 시작합니다.\n",
      "api cost full : infinite loop start\n",
      "try 10 second wait time\n",
      "429\n",
      "try 10 second wait time\n",
      "429\n",
      "try 10 second wait time\n",
      "429\n",
      "try 10 second wait time\n",
      "429\n",
      "try 10 second wait time\n",
      "429\n",
      "try 10 second wait time\n",
      "429\n",
      "try 10 second wait time\n",
      "429\n",
      "try 10 second wait time\n",
      "200\n",
      "total wait time :  82.47652983665466\n",
      "recovery api cost\n"
     ]
    },
    {
     "name": "stderr",
     "output_type": "stream",
     "text": [
      "\r",
      "  5%|█▍                               | 453/10000 [6:20:05<163:21:27, 61.60s/it]"
     ]
    },
    {
     "name": "stdout",
     "output_type": "stream",
     "text": [
      "KR_5733774170의 데이터 수집이 완료되었습니다\n",
      "KR_5733775108의 데이터 수집을 시작합니다.\n"
     ]
    },
    {
     "name": "stderr",
     "output_type": "stream",
     "text": [
      "\r",
      "  5%|█▍                               | 454/10000 [6:20:19<125:36:19, 47.37s/it]"
     ]
    },
    {
     "name": "stdout",
     "output_type": "stream",
     "text": [
      "KR_5733775108의 데이터 수집이 완료되었습니다\n",
      "KR_5733776139의 데이터 수집을 시작합니다.\n"
     ]
    },
    {
     "name": "stderr",
     "output_type": "stream",
     "text": [
      "\r",
      "  5%|█▌                                | 455/10000 [6:20:32<98:12:30, 37.04s/it]"
     ]
    },
    {
     "name": "stdout",
     "output_type": "stream",
     "text": [
      "KR_5733776139의 데이터 수집이 완료되었습니다\n",
      "KR_5733777590의 데이터 수집을 시작합니다.\n",
      "api cost full : infinite loop start\n",
      "try 10 second wait time\n",
      "429\n",
      "try 10 second wait time\n",
      "429\n",
      "try 10 second wait time\n",
      "429\n",
      "try 10 second wait time\n",
      "429\n",
      "try 10 second wait time\n",
      "429\n",
      "try 10 second wait time\n",
      "429\n",
      "try 10 second wait time\n",
      "429\n",
      "try 10 second wait time\n",
      "429\n",
      "try 10 second wait time\n",
      "200\n",
      "total wait time :  92.2636399269104\n",
      "recovery api cost\n"
     ]
    },
    {
     "name": "stderr",
     "output_type": "stream",
     "text": [
      "\r",
      "  5%|█▌                               | 456/10000 [6:22:18<152:47:31, 57.63s/it]"
     ]
    },
    {
     "name": "stdout",
     "output_type": "stream",
     "text": [
      "KR_5733777590의 데이터 수집이 완료되었습니다\n",
      "KR_5733777988의 데이터 수집을 시작합니다.\n"
     ]
    },
    {
     "name": "stderr",
     "output_type": "stream",
     "text": [
      "\r",
      "  5%|█▌                               | 457/10000 [6:22:32<117:55:10, 44.48s/it]"
     ]
    },
    {
     "name": "stdout",
     "output_type": "stream",
     "text": [
      "KR_5733777988의 데이터 수집이 완료되었습니다\n",
      "KR_5733777993의 데이터 수집을 시작합니다.\n",
      "api cost full : infinite loop start\n",
      "try 10 second wait time\n",
      "429\n",
      "try 10 second wait time\n",
      "429\n",
      "try 10 second wait time\n",
      "429\n",
      "try 10 second wait time\n",
      "429\n",
      "try 10 second wait time\n",
      "429\n",
      "try 10 second wait time\n",
      "429\n",
      "try 10 second wait time\n",
      "429\n",
      "try 10 second wait time\n",
      "429\n",
      "try 10 second wait time\n",
      "200\n",
      "total wait time :  92.24807977676392\n",
      "recovery api cost\n"
     ]
    },
    {
     "name": "stderr",
     "output_type": "stream",
     "text": [
      "\r",
      "  5%|█▌                               | 458/10000 [6:24:17<166:08:08, 62.68s/it]"
     ]
    },
    {
     "name": "stdout",
     "output_type": "stream",
     "text": [
      "KR_5733777993의 데이터 수집이 완료되었습니다\n",
      "KR_5733778120의 데이터 수집을 시작합니다.\n"
     ]
    },
    {
     "name": "stderr",
     "output_type": "stream",
     "text": [
      "\r",
      "  5%|█▌                               | 459/10000 [6:24:30<126:53:28, 47.88s/it]"
     ]
    },
    {
     "name": "stdout",
     "output_type": "stream",
     "text": [
      "KR_5733778120의 데이터 수집이 완료되었습니다\n",
      "KR_5733778394의 데이터 수집을 시작합니다.\n"
     ]
    },
    {
     "name": "stderr",
     "output_type": "stream",
     "text": [
      "\r",
      "  5%|█▌                                | 460/10000 [6:24:44<99:33:56, 37.57s/it]"
     ]
    },
    {
     "name": "stdout",
     "output_type": "stream",
     "text": [
      "KR_5733778394의 데이터 수집이 완료되었습니다\n",
      "KR_5733779514의 데이터 수집을 시작합니다.\n",
      "api cost full : infinite loop start\n",
      "try 10 second wait time\n",
      "429\n",
      "try 10 second wait time\n",
      "429\n",
      "try 10 second wait time\n",
      "429\n",
      "try 10 second wait time\n",
      "429\n",
      "try 10 second wait time\n",
      "429\n",
      "try 10 second wait time\n",
      "429\n",
      "try 10 second wait time\n",
      "429\n",
      "try 10 second wait time\n",
      "429\n",
      "try 10 second wait time\n",
      "200\n",
      "total wait time :  92.24831080436707\n",
      "recovery api cost\n"
     ]
    },
    {
     "name": "stderr",
     "output_type": "stream",
     "text": [
      "\r",
      "  5%|█▌                               | 461/10000 [6:26:29<153:21:21, 57.88s/it]"
     ]
    },
    {
     "name": "stdout",
     "output_type": "stream",
     "text": [
      "KR_5733779514의 데이터 수집이 완료되었습니다\n",
      "KR_5733780439의 데이터 수집을 시작합니다.\n"
     ]
    },
    {
     "name": "stderr",
     "output_type": "stream",
     "text": [
      "\r",
      "  5%|█▌                               | 462/10000 [6:26:42<118:06:18, 44.58s/it]"
     ]
    },
    {
     "name": "stdout",
     "output_type": "stream",
     "text": [
      "KR_5733780439의 데이터 수집이 완료되었습니다\n",
      "KR_5733783668의 데이터 수집을 시작합니다.\n",
      "api cost full : infinite loop start\n",
      "try 10 second wait time\n",
      "429\n",
      "try 10 second wait time\n",
      "429\n",
      "try 10 second wait time\n",
      "429\n",
      "try 10 second wait time\n",
      "429\n",
      "try 10 second wait time\n",
      "429\n",
      "try 10 second wait time\n",
      "429\n",
      "try 10 second wait time\n",
      "429\n",
      "try 10 second wait time\n",
      "429\n",
      "try 10 second wait time\n",
      "200\n",
      "total wait time :  92.28636074066162\n",
      "recovery api cost\n"
     ]
    },
    {
     "name": "stderr",
     "output_type": "stream",
     "text": [
      "\r",
      "  5%|█▌                               | 463/10000 [6:28:28<166:34:27, 62.88s/it]"
     ]
    },
    {
     "name": "stdout",
     "output_type": "stream",
     "text": [
      "KR_5733783668의 데이터 수집이 완료되었습니다\n",
      "KR_5733783943의 데이터 수집을 시작합니다.\n"
     ]
    },
    {
     "name": "stderr",
     "output_type": "stream",
     "text": [
      "\r",
      "  5%|█▌                               | 464/10000 [6:28:41<127:17:23, 48.05s/it]"
     ]
    },
    {
     "name": "stdout",
     "output_type": "stream",
     "text": [
      "KR_5733783943의 데이터 수집이 완료되었습니다\n",
      "KR_5733785108의 데이터 수집을 시작합니다.\n"
     ]
    },
    {
     "name": "stderr",
     "output_type": "stream",
     "text": [
      "\r",
      "  5%|█▌                                | 465/10000 [6:28:54<99:24:56, 37.54s/it]"
     ]
    },
    {
     "name": "stdout",
     "output_type": "stream",
     "text": [
      "KR_5733785108의 데이터 수집이 완료되었습니다\n",
      "KR_5733785421의 데이터 수집을 시작합니다.\n",
      "api cost full : infinite loop start\n",
      "try 10 second wait time\n",
      "429\n",
      "try 10 second wait time\n",
      "429\n",
      "try 10 second wait time\n",
      "429\n",
      "try 10 second wait time\n",
      "429\n",
      "try 10 second wait time\n",
      "429\n",
      "try 10 second wait time\n",
      "429\n",
      "try 10 second wait time\n",
      "429\n",
      "try 10 second wait time\n",
      "429\n",
      "try 10 second wait time\n",
      "200\n",
      "total wait time :  92.42041206359863\n",
      "recovery api cost\n"
     ]
    },
    {
     "name": "stderr",
     "output_type": "stream",
     "text": [
      "\r",
      "  5%|█▌                               | 466/10000 [6:30:40<153:22:04, 57.91s/it]"
     ]
    },
    {
     "name": "stdout",
     "output_type": "stream",
     "text": [
      "KR_5733785421의 데이터 수집이 완료되었습니다\n",
      "KR_5733785713의 데이터 수집을 시작합니다.\n"
     ]
    },
    {
     "name": "stderr",
     "output_type": "stream",
     "text": [
      "\r",
      "  5%|█▌                               | 467/10000 [6:30:53<118:07:28, 44.61s/it]"
     ]
    },
    {
     "name": "stdout",
     "output_type": "stream",
     "text": [
      "KR_5733785713의 데이터 수집이 완료되었습니다\n",
      "KR_5733786291의 데이터 수집을 시작합니다.\n",
      "api cost full : infinite loop start\n",
      "try 10 second wait time\n",
      "429\n",
      "try 10 second wait time\n",
      "429\n",
      "try 10 second wait time\n",
      "429\n",
      "try 10 second wait time\n",
      "429\n",
      "try 10 second wait time\n",
      "429\n",
      "try 10 second wait time\n",
      "429\n",
      "try 10 second wait time\n",
      "429\n",
      "try 10 second wait time\n",
      "429\n",
      "try 10 second wait time\n",
      "200\n",
      "total wait time :  92.25370502471924\n",
      "recovery api cost\n"
     ]
    },
    {
     "name": "stderr",
     "output_type": "stream",
     "text": [
      "\r",
      "  5%|█▌                               | 468/10000 [6:32:39<166:23:42, 62.84s/it]"
     ]
    },
    {
     "name": "stdout",
     "output_type": "stream",
     "text": [
      "KR_5733786291의 데이터 수집이 완료되었습니다\n",
      "KR_5733787950의 데이터 수집을 시작합니다.\n"
     ]
    },
    {
     "name": "stderr",
     "output_type": "stream",
     "text": [
      "\r",
      "  5%|█▌                               | 469/10000 [6:32:53<127:33:35, 48.18s/it]"
     ]
    },
    {
     "name": "stdout",
     "output_type": "stream",
     "text": [
      "KR_5733787950의 데이터 수집이 완료되었습니다\n",
      "KR_5733787978의 데이터 수집을 시작합니다.\n"
     ]
    },
    {
     "name": "stderr",
     "output_type": "stream",
     "text": [
      "\r",
      "  5%|█▌                               | 470/10000 [6:33:07<100:14:18, 37.87s/it]"
     ]
    },
    {
     "name": "stdout",
     "output_type": "stream",
     "text": [
      "KR_5733787978의 데이터 수집이 완료되었습니다\n",
      "KR_5733788020의 데이터 수집을 시작합니다.\n",
      "api cost full : infinite loop start\n",
      "try 10 second wait time\n",
      "429\n",
      "try 10 second wait time\n",
      "429\n",
      "try 10 second wait time\n",
      "429\n",
      "try 10 second wait time\n",
      "429\n",
      "try 10 second wait time\n",
      "429\n",
      "try 10 second wait time\n",
      "429\n",
      "try 10 second wait time\n",
      "429\n",
      "try 10 second wait time\n",
      "429\n",
      "try 10 second wait time\n",
      "200\n",
      "total wait time :  92.32575678825378\n",
      "recovery api cost\n"
     ]
    },
    {
     "name": "stderr",
     "output_type": "stream",
     "text": [
      "\r",
      "  5%|█▌                               | 471/10000 [6:34:53<154:27:18, 58.35s/it]"
     ]
    },
    {
     "name": "stdout",
     "output_type": "stream",
     "text": [
      "KR_5733788020의 데이터 수집이 완료되었습니다\n",
      "KR_5733788061의 데이터 수집을 시작합니다.\n"
     ]
    },
    {
     "name": "stderr",
     "output_type": "stream",
     "text": [
      "\r",
      "  5%|█▌                               | 472/10000 [6:35:07<119:05:43, 45.00s/it]"
     ]
    },
    {
     "name": "stdout",
     "output_type": "stream",
     "text": [
      "KR_5733788061의 데이터 수집이 완료되었습니다\n",
      "KR_5733788783의 데이터 수집을 시작합니다.\n",
      "api cost full : infinite loop start\n",
      "try 10 second wait time\n",
      "429\n",
      "try 10 second wait time\n",
      "429\n",
      "try 10 second wait time\n",
      "429\n",
      "try 10 second wait time\n",
      "429\n",
      "try 10 second wait time\n",
      "429\n",
      "try 10 second wait time\n",
      "429\n",
      "try 10 second wait time\n",
      "429\n",
      "try 10 second wait time\n",
      "429\n",
      "try 10 second wait time\n",
      "200\n",
      "total wait time :  92.24439978599548\n",
      "recovery api cost\n"
     ]
    },
    {
     "name": "stderr",
     "output_type": "stream",
     "text": [
      "\r",
      "  5%|█▌                               | 473/10000 [6:36:52<167:12:20, 63.18s/it]"
     ]
    },
    {
     "name": "stdout",
     "output_type": "stream",
     "text": [
      "KR_5733788783의 데이터 수집이 완료되었습니다\n",
      "KR_5733789520의 데이터 수집을 시작합니다.\n"
     ]
    },
    {
     "name": "stderr",
     "output_type": "stream",
     "text": [
      "\r",
      "  5%|█▌                               | 474/10000 [6:37:06<127:46:56, 48.29s/it]"
     ]
    },
    {
     "name": "stdout",
     "output_type": "stream",
     "text": [
      "KR_5733789520의 데이터 수집이 완료되었습니다\n",
      "KR_5733791260의 데이터 수집을 시작합니다.\n"
     ]
    },
    {
     "name": "stderr",
     "output_type": "stream",
     "text": [
      "\r",
      "  5%|█▌                               | 475/10000 [6:37:19<100:03:15, 37.82s/it]"
     ]
    },
    {
     "name": "stdout",
     "output_type": "stream",
     "text": [
      "KR_5733791260의 데이터 수집이 완료되었습니다\n",
      "KR_5733791299의 데이터 수집을 시작합니다.\n",
      "api cost full : infinite loop start\n",
      "try 10 second wait time\n",
      "429\n",
      "try 10 second wait time\n",
      "429\n",
      "try 10 second wait time\n",
      "429\n",
      "try 10 second wait time\n",
      "429\n",
      "try 10 second wait time\n",
      "429\n",
      "try 10 second wait time\n",
      "429\n",
      "try 10 second wait time\n",
      "429\n",
      "try 10 second wait time\n",
      "429\n",
      "try 10 second wait time\n",
      "200\n",
      "total wait time :  92.25866508483887\n",
      "recovery api cost\n"
     ]
    },
    {
     "name": "stderr",
     "output_type": "stream",
     "text": [
      "\r",
      "  5%|█▌                               | 476/10000 [6:39:05<153:52:37, 58.16s/it]"
     ]
    },
    {
     "name": "stdout",
     "output_type": "stream",
     "text": [
      "KR_5733791299의 데이터 수집이 완료되었습니다\n",
      "KR_5733791655의 데이터 수집을 시작합니다.\n"
     ]
    },
    {
     "name": "stderr",
     "output_type": "stream",
     "text": [
      "\r",
      "  5%|█▌                               | 477/10000 [6:39:18<118:16:04, 44.71s/it]"
     ]
    },
    {
     "name": "stdout",
     "output_type": "stream",
     "text": [
      "KR_5733791655의 데이터 수집이 완료되었습니다\n",
      "KR_5733793498의 데이터 수집을 시작합니다.\n",
      "api cost full : infinite loop start\n",
      "try 10 second wait time\n",
      "429\n",
      "try 10 second wait time\n",
      "429\n",
      "try 10 second wait time\n",
      "429\n",
      "try 10 second wait time\n",
      "429\n",
      "try 10 second wait time\n",
      "429\n",
      "try 10 second wait time\n",
      "429\n",
      "try 10 second wait time\n",
      "429\n",
      "try 10 second wait time\n",
      "429\n",
      "try 10 second wait time\n",
      "200\n",
      "total wait time :  92.48247289657593\n",
      "recovery api cost\n"
     ]
    },
    {
     "name": "stderr",
     "output_type": "stream",
     "text": [
      "\r",
      "  5%|█▌                               | 478/10000 [6:41:04<167:06:35, 63.18s/it]"
     ]
    },
    {
     "name": "stdout",
     "output_type": "stream",
     "text": [
      "KR_5733793498의 데이터 수집이 완료되었습니다\n",
      "KR_5733794232의 데이터 수집을 시작합니다.\n"
     ]
    },
    {
     "name": "stderr",
     "output_type": "stream",
     "text": [
      "\r",
      "  5%|█▌                               | 479/10000 [6:41:18<127:39:37, 48.27s/it]"
     ]
    },
    {
     "name": "stdout",
     "output_type": "stream",
     "text": [
      "KR_5733794232의 데이터 수집이 완료되었습니다\n",
      "KR_5733796143의 데이터 수집을 시작합니다.\n"
     ]
    },
    {
     "name": "stderr",
     "output_type": "stream",
     "text": [
      "\r",
      "  5%|█▋                                | 480/10000 [6:41:31<99:37:36, 37.67s/it]"
     ]
    },
    {
     "name": "stdout",
     "output_type": "stream",
     "text": [
      "KR_5733796143의 데이터 수집이 완료되었습니다\n",
      "KR_5733797622의 데이터 수집을 시작합니다.\n",
      "api cost full : infinite loop start\n",
      "try 10 second wait time\n",
      "429\n",
      "try 10 second wait time\n",
      "429\n",
      "try 10 second wait time\n",
      "429\n",
      "try 10 second wait time\n",
      "429\n",
      "try 10 second wait time\n",
      "429\n",
      "try 10 second wait time\n",
      "429\n",
      "try 10 second wait time\n",
      "429\n",
      "try 10 second wait time\n",
      "429\n",
      "try 10 second wait time\n",
      "200\n",
      "total wait time :  92.33999109268188\n",
      "recovery api cost\n"
     ]
    },
    {
     "name": "stderr",
     "output_type": "stream",
     "text": [
      "\r",
      "  5%|█▌                               | 481/10000 [6:43:17<153:53:54, 58.20s/it]"
     ]
    },
    {
     "name": "stdout",
     "output_type": "stream",
     "text": [
      "KR_5733797622의 데이터 수집이 완료되었습니다\n",
      "KR_5733800602의 데이터 수집을 시작합니다.\n"
     ]
    },
    {
     "name": "stderr",
     "output_type": "stream",
     "text": [
      "\r",
      "  5%|█▌                               | 482/10000 [6:43:30<118:09:29, 44.69s/it]"
     ]
    },
    {
     "name": "stdout",
     "output_type": "stream",
     "text": [
      "KR_5733800602의 데이터 수집이 완료되었습니다\n",
      "KR_5733802262의 데이터 수집을 시작합니다.\n",
      "api cost full : infinite loop start\n",
      "try 10 second wait time\n",
      "429\n",
      "try 10 second wait time\n",
      "429\n",
      "try 10 second wait time\n",
      "429\n",
      "try 10 second wait time\n",
      "429\n",
      "try 10 second wait time\n",
      "429\n",
      "try 10 second wait time\n",
      "429\n",
      "try 10 second wait time\n",
      "429\n",
      "try 10 second wait time\n",
      "429\n",
      "try 10 second wait time\n",
      "200\n",
      "total wait time :  92.31818532943726\n",
      "recovery api cost\n"
     ]
    },
    {
     "name": "stderr",
     "output_type": "stream",
     "text": [
      "\r",
      "  5%|█▌                               | 483/10000 [6:45:16<166:54:53, 63.14s/it]"
     ]
    },
    {
     "name": "stdout",
     "output_type": "stream",
     "text": [
      "KR_5733802262의 데이터 수집이 완료되었습니다\n",
      "KR_5733802625의 데이터 수집을 시작합니다.\n"
     ]
    },
    {
     "name": "stderr",
     "output_type": "stream",
     "text": [
      "\r",
      "  5%|█▌                               | 484/10000 [6:45:30<127:29:33, 48.23s/it]"
     ]
    },
    {
     "name": "stdout",
     "output_type": "stream",
     "text": [
      "KR_5733802625의 데이터 수집이 완료되었습니다\n",
      "KR_5733803763의 데이터 수집을 시작합니다.\n"
     ]
    },
    {
     "name": "stderr",
     "output_type": "stream",
     "text": [
      "\r",
      "  5%|█▋                                | 485/10000 [6:45:43<99:49:27, 37.77s/it]"
     ]
    },
    {
     "name": "stdout",
     "output_type": "stream",
     "text": [
      "KR_5733803763의 데이터 수집이 완료되었습니다\n",
      "KR_5733803986의 데이터 수집을 시작합니다.\n",
      "api cost full : infinite loop start\n",
      "try 10 second wait time\n",
      "429\n",
      "try 10 second wait time\n",
      "429\n",
      "try 10 second wait time\n",
      "429\n",
      "try 10 second wait time\n",
      "429\n",
      "try 10 second wait time\n",
      "429\n",
      "try 10 second wait time\n",
      "429\n",
      "try 10 second wait time\n",
      "429\n",
      "try 10 second wait time\n",
      "429\n",
      "try 10 second wait time\n",
      "200\n",
      "total wait time :  92.28945779800415\n",
      "recovery api cost\n"
     ]
    },
    {
     "name": "stderr",
     "output_type": "stream",
     "text": [
      "\r",
      "  5%|█▌                               | 486/10000 [6:47:29<153:35:49, 58.12s/it]"
     ]
    },
    {
     "name": "stdout",
     "output_type": "stream",
     "text": [
      "KR_5733803986의 데이터 수집이 완료되었습니다\n",
      "KR_5733805434의 데이터 수집을 시작합니다.\n"
     ]
    },
    {
     "name": "stderr",
     "output_type": "stream",
     "text": [
      "\r",
      "  5%|█▌                               | 487/10000 [6:47:42<117:54:10, 44.62s/it]"
     ]
    },
    {
     "name": "stdout",
     "output_type": "stream",
     "text": [
      "KR_5733805434의 데이터 수집이 완료되었습니다\n",
      "KR_5733806485의 데이터 수집을 시작합니다.\n",
      "api cost full : infinite loop start\n",
      "try 10 second wait time\n",
      "429\n",
      "try 10 second wait time\n",
      "429\n",
      "try 10 second wait time\n",
      "429\n",
      "try 10 second wait time\n",
      "429\n",
      "try 10 second wait time\n",
      "429\n",
      "try 10 second wait time\n",
      "429\n",
      "try 10 second wait time\n",
      "429\n",
      "try 10 second wait time\n",
      "429\n",
      "try 10 second wait time\n",
      "200\n",
      "total wait time :  92.29670906066895\n",
      "recovery api cost\n"
     ]
    },
    {
     "name": "stderr",
     "output_type": "stream",
     "text": [
      "\r",
      "  5%|█▌                               | 488/10000 [6:49:27<166:00:18, 62.83s/it]"
     ]
    },
    {
     "name": "stdout",
     "output_type": "stream",
     "text": [
      "KR_5733806485의 데이터 수집이 완료되었습니다\n",
      "KR_5733807537의 데이터 수집을 시작합니다.\n"
     ]
    },
    {
     "name": "stderr",
     "output_type": "stream",
     "text": [
      "\r",
      "  5%|█▌                               | 489/10000 [6:49:41<126:54:53, 48.04s/it]"
     ]
    },
    {
     "name": "stdout",
     "output_type": "stream",
     "text": [
      "KR_5733807537의 데이터 수집이 완료되었습니다\n",
      "KR_5733807820의 데이터 수집을 시작합니다.\n"
     ]
    },
    {
     "name": "stderr",
     "output_type": "stream",
     "text": [
      "\r",
      "  5%|█▋                                | 490/10000 [6:49:55<99:55:24, 37.83s/it]"
     ]
    },
    {
     "name": "stdout",
     "output_type": "stream",
     "text": [
      "KR_5733807820의 데이터 수집이 완료되었습니다\n",
      "KR_5733808381의 데이터 수집을 시작합니다.\n",
      "api cost full : infinite loop start\n",
      "try 10 second wait time\n",
      "429\n",
      "try 10 second wait time\n",
      "429\n",
      "try 10 second wait time\n",
      "429\n",
      "try 10 second wait time\n",
      "429\n",
      "try 10 second wait time\n",
      "429\n",
      "try 10 second wait time\n",
      "429\n",
      "try 10 second wait time\n",
      "429\n",
      "try 10 second wait time\n",
      "429\n",
      "try 10 second wait time\n",
      "200\n",
      "total wait time :  92.2140440940857\n",
      "recovery api cost\n"
     ]
    },
    {
     "name": "stderr",
     "output_type": "stream",
     "text": [
      "\r",
      "  5%|█▌                               | 491/10000 [6:51:40<153:37:14, 58.16s/it]"
     ]
    },
    {
     "name": "stdout",
     "output_type": "stream",
     "text": [
      "KR_5733808381의 데이터 수집이 완료되었습니다\n",
      "KR_5733808451의 데이터 수집을 시작합니다.\n"
     ]
    },
    {
     "name": "stderr",
     "output_type": "stream",
     "text": [
      "\r",
      "  5%|█▌                               | 492/10000 [6:51:53<117:48:45, 44.61s/it]"
     ]
    },
    {
     "name": "stdout",
     "output_type": "stream",
     "text": [
      "KR_5733808451의 데이터 수집이 완료되었습니다\n",
      "KR_5733809475의 데이터 수집을 시작합니다.\n",
      "api cost full : infinite loop start\n",
      "try 10 second wait time\n",
      "429\n",
      "try 10 second wait time\n",
      "429\n",
      "try 10 second wait time\n",
      "429\n",
      "try 10 second wait time\n",
      "429\n",
      "try 10 second wait time\n",
      "429\n",
      "try 10 second wait time\n",
      "429\n",
      "try 10 second wait time\n",
      "429\n",
      "try 10 second wait time\n",
      "429\n",
      "try 10 second wait time\n",
      "200\n",
      "total wait time :  92.25924706459045\n",
      "recovery api cost\n"
     ]
    },
    {
     "name": "stderr",
     "output_type": "stream",
     "text": [
      "\r",
      "  5%|█▋                               | 493/10000 [6:53:39<166:13:14, 62.94s/it]"
     ]
    },
    {
     "name": "stdout",
     "output_type": "stream",
     "text": [
      "KR_5733809475의 데이터 수집이 완료되었습니다\n",
      "KR_5733809766의 데이터 수집을 시작합니다.\n"
     ]
    },
    {
     "name": "stderr",
     "output_type": "stream",
     "text": [
      "\r",
      "  5%|█▋                               | 494/10000 [6:53:52<127:01:22, 48.10s/it]"
     ]
    },
    {
     "name": "stdout",
     "output_type": "stream",
     "text": [
      "KR_5733809766의 데이터 수집이 완료되었습니다\n",
      "KR_5733810311의 데이터 수집을 시작합니다.\n"
     ]
    },
    {
     "name": "stderr",
     "output_type": "stream",
     "text": [
      "\r",
      "  5%|█▋                                | 495/10000 [6:54:05<99:17:47, 37.61s/it]"
     ]
    },
    {
     "name": "stdout",
     "output_type": "stream",
     "text": [
      "KR_5733810311의 데이터 수집이 완료되었습니다\n",
      "KR_5733812314의 데이터 수집을 시작합니다.\n",
      "api cost full : infinite loop start\n",
      "try 10 second wait time\n",
      "429\n",
      "try 10 second wait time\n",
      "429\n",
      "try 10 second wait time\n",
      "429\n",
      "try 10 second wait time\n",
      "429\n",
      "try 10 second wait time\n",
      "429\n",
      "try 10 second wait time\n",
      "429\n",
      "try 10 second wait time\n",
      "429\n",
      "try 10 second wait time\n",
      "429\n",
      "try 10 second wait time\n",
      "200\n",
      "total wait time :  92.28639197349548\n",
      "recovery api cost\n"
     ]
    },
    {
     "name": "stderr",
     "output_type": "stream",
     "text": [
      "\r",
      "  5%|█▋                               | 496/10000 [6:55:51<153:02:26, 57.97s/it]"
     ]
    },
    {
     "name": "stdout",
     "output_type": "stream",
     "text": [
      "KR_5733812314의 데이터 수집이 완료되었습니다\n",
      "KR_5733813119의 데이터 수집을 시작합니다.\n"
     ]
    },
    {
     "name": "stderr",
     "output_type": "stream",
     "text": [
      "\r",
      "  5%|█▋                               | 497/10000 [6:56:04<117:30:23, 44.51s/it]"
     ]
    },
    {
     "name": "stdout",
     "output_type": "stream",
     "text": [
      "KR_5733813119의 데이터 수집이 완료되었습니다\n",
      "KR_5733813644의 데이터 수집을 시작합니다.\n",
      "api cost full : infinite loop start\n",
      "try 10 second wait time\n",
      "429\n",
      "try 10 second wait time\n",
      "429\n",
      "try 10 second wait time\n",
      "429\n",
      "try 10 second wait time\n",
      "429\n",
      "try 10 second wait time\n",
      "429\n",
      "try 10 second wait time\n",
      "429\n",
      "try 10 second wait time\n",
      "429\n",
      "try 10 second wait time\n",
      "429\n",
      "try 10 second wait time\n",
      "200\n",
      "total wait time :  92.34647679328918\n",
      "recovery api cost\n"
     ]
    },
    {
     "name": "stderr",
     "output_type": "stream",
     "text": [
      "\r",
      "  5%|█▋                               | 498/10000 [6:57:50<166:21:03, 63.03s/it]"
     ]
    },
    {
     "name": "stdout",
     "output_type": "stream",
     "text": [
      "KR_5733813644의 데이터 수집이 완료되었습니다\n",
      "KR_5733816516의 데이터 수집을 시작합니다.\n"
     ]
    },
    {
     "name": "stderr",
     "output_type": "stream",
     "text": [
      "\r",
      "  5%|█▋                               | 499/10000 [6:58:03<126:39:43, 47.99s/it]"
     ]
    },
    {
     "name": "stdout",
     "output_type": "stream",
     "text": [
      "KR_5733816516의 데이터 수집이 완료되었습니다\n",
      "KR_5733817235의 데이터 수집을 시작합니다.\n"
     ]
    },
    {
     "name": "stderr",
     "output_type": "stream",
     "text": [
      "\r",
      "  5%|█▋                                | 500/10000 [6:58:17<99:23:18, 37.66s/it]"
     ]
    },
    {
     "name": "stdout",
     "output_type": "stream",
     "text": [
      "KR_5733817235의 데이터 수집이 완료되었습니다\n",
      "KR_5733819143의 데이터 수집을 시작합니다.\n",
      "api cost full : infinite loop start\n",
      "try 10 second wait time\n",
      "429\n",
      "try 10 second wait time\n",
      "429\n",
      "try 10 second wait time\n",
      "429\n",
      "try 10 second wait time\n",
      "429\n",
      "try 10 second wait time\n",
      "429\n",
      "try 10 second wait time\n",
      "429\n",
      "try 10 second wait time\n",
      "429\n",
      "try 10 second wait time\n",
      "429\n",
      "try 10 second wait time\n",
      "200\n",
      "total wait time :  92.28723216056824\n",
      "recovery api cost\n"
     ]
    },
    {
     "name": "stderr",
     "output_type": "stream",
     "text": [
      "\r",
      "  5%|█▋                               | 501/10000 [7:00:03<153:18:50, 58.10s/it]"
     ]
    },
    {
     "name": "stdout",
     "output_type": "stream",
     "text": [
      "KR_5733819143의 데이터 수집이 완료되었습니다\n",
      "KR_5733820107의 데이터 수집을 시작합니다.\n"
     ]
    },
    {
     "name": "stderr",
     "output_type": "stream",
     "text": [
      "\r",
      "  5%|█▋                               | 502/10000 [7:00:16<117:34:44, 44.57s/it]"
     ]
    },
    {
     "name": "stdout",
     "output_type": "stream",
     "text": [
      "KR_5733820107의 데이터 수집이 완료되었습니다\n",
      "KR_5733820244의 데이터 수집을 시작합니다.\n",
      "api cost full : infinite loop start\n",
      "try 10 second wait time\n",
      "429\n",
      "try 10 second wait time\n",
      "429\n",
      "try 10 second wait time\n",
      "429\n",
      "try 10 second wait time\n",
      "429\n",
      "try 10 second wait time\n",
      "429\n",
      "try 10 second wait time\n",
      "429\n",
      "try 10 second wait time\n",
      "429\n",
      "try 10 second wait time\n",
      "429\n",
      "try 10 second wait time\n",
      "200\n",
      "total wait time :  92.64256477355957\n",
      "recovery api cost\n"
     ]
    },
    {
     "name": "stderr",
     "output_type": "stream",
     "text": [
      "\r",
      "  5%|█▋                               | 503/10000 [7:02:01<165:55:59, 62.90s/it]"
     ]
    },
    {
     "name": "stdout",
     "output_type": "stream",
     "text": [
      "KR_5733820244의 데이터 수집이 완료되었습니다\n",
      "KR_5733820563의 데이터 수집을 시작합니다.\n"
     ]
    },
    {
     "name": "stderr",
     "output_type": "stream",
     "text": [
      "\r",
      "  5%|█▋                               | 504/10000 [7:02:15<126:59:18, 48.14s/it]"
     ]
    },
    {
     "name": "stdout",
     "output_type": "stream",
     "text": [
      "KR_5733820563의 데이터 수집이 완료되었습니다\n",
      "KR_5733820856의 데이터 수집을 시작합니다.\n"
     ]
    },
    {
     "name": "stderr",
     "output_type": "stream",
     "text": [
      "\r",
      "  5%|█▋                                | 505/10000 [7:02:28<99:10:24, 37.60s/it]"
     ]
    },
    {
     "name": "stdout",
     "output_type": "stream",
     "text": [
      "KR_5733820856의 데이터 수집이 완료되었습니다\n",
      "KR_5733821008의 데이터 수집을 시작합니다.\n",
      "api cost full : infinite loop start\n",
      "try 10 second wait time\n",
      "429\n",
      "try 10 second wait time\n",
      "429\n",
      "try 10 second wait time\n",
      "429\n",
      "try 10 second wait time\n",
      "429\n",
      "try 10 second wait time\n",
      "429\n",
      "try 10 second wait time\n",
      "429\n",
      "try 10 second wait time\n",
      "429\n",
      "try 10 second wait time\n",
      "429\n",
      "try 10 second wait time\n",
      "200\n",
      "total wait time :  92.58242392539978\n",
      "recovery api cost\n"
     ]
    },
    {
     "name": "stderr",
     "output_type": "stream",
     "text": [
      "\r",
      "  5%|█▋                               | 506/10000 [7:04:14<153:11:15, 58.09s/it]"
     ]
    },
    {
     "name": "stdout",
     "output_type": "stream",
     "text": [
      "KR_5733821008의 데이터 수집이 완료되었습니다\n",
      "KR_5733822724의 데이터 수집을 시작합니다.\n"
     ]
    },
    {
     "name": "stderr",
     "output_type": "stream",
     "text": [
      "\r",
      "  5%|█▋                               | 507/10000 [7:04:27<117:29:26, 44.56s/it]"
     ]
    },
    {
     "name": "stdout",
     "output_type": "stream",
     "text": [
      "KR_5733822724의 데이터 수집이 완료되었습니다\n",
      "KR_5733822778의 데이터 수집을 시작합니다.\n",
      "api cost full : infinite loop start\n",
      "try 10 second wait time\n",
      "429\n",
      "try 10 second wait time\n",
      "429\n",
      "try 10 second wait time\n",
      "429\n",
      "try 10 second wait time\n",
      "429\n",
      "try 10 second wait time\n",
      "429\n",
      "try 10 second wait time\n",
      "429\n",
      "try 10 second wait time\n",
      "429\n",
      "try 10 second wait time\n",
      "429\n",
      "try 10 second wait time\n",
      "200\n",
      "total wait time :  92.50403594970703\n",
      "recovery api cost\n"
     ]
    },
    {
     "name": "stderr",
     "output_type": "stream",
     "text": [
      "\r",
      "  5%|█▋                               | 508/10000 [7:06:13<166:09:45, 63.02s/it]"
     ]
    },
    {
     "name": "stdout",
     "output_type": "stream",
     "text": [
      "KR_5733822778의 데이터 수집이 완료되었습니다\n",
      "KR_5733823255의 데이터 수집을 시작합니다.\n"
     ]
    },
    {
     "name": "stderr",
     "output_type": "stream",
     "text": [
      "\r",
      "  5%|█▋                               | 509/10000 [7:06:27<127:46:16, 48.46s/it]"
     ]
    },
    {
     "name": "stdout",
     "output_type": "stream",
     "text": [
      "KR_5733823255의 데이터 수집이 완료되었습니다\n",
      "KR_5733823575의 데이터 수집을 시작합니다.\n"
     ]
    },
    {
     "name": "stderr",
     "output_type": "stream",
     "text": [
      "\r",
      "  5%|█▋                               | 510/10000 [7:06:41<100:11:41, 38.01s/it]"
     ]
    },
    {
     "name": "stdout",
     "output_type": "stream",
     "text": [
      "KR_5733823575의 데이터 수집이 완료되었습니다\n",
      "KR_5733824270의 데이터 수집을 시작합니다.\n",
      "api cost full : infinite loop start\n",
      "try 10 second wait time\n",
      "429\n",
      "try 10 second wait time\n",
      "429\n",
      "try 10 second wait time\n",
      "429\n",
      "try 10 second wait time\n",
      "429\n",
      "try 10 second wait time\n",
      "429\n",
      "try 10 second wait time\n",
      "429\n",
      "try 10 second wait time\n",
      "429\n",
      "try 10 second wait time\n",
      "429\n",
      "try 10 second wait time\n",
      "200\n",
      "total wait time :  92.42002367973328\n",
      "recovery api cost\n"
     ]
    },
    {
     "name": "stderr",
     "output_type": "stream",
     "text": [
      "\r",
      "  5%|█▋                               | 511/10000 [7:08:27<153:50:52, 58.37s/it]"
     ]
    },
    {
     "name": "stdout",
     "output_type": "stream",
     "text": [
      "KR_5733824270의 데이터 수집이 완료되었습니다\n",
      "KR_5733826198의 데이터 수집을 시작합니다.\n"
     ]
    },
    {
     "name": "stderr",
     "output_type": "stream",
     "text": [
      "\r",
      "  5%|█▋                               | 512/10000 [7:08:40<118:16:02, 44.87s/it]"
     ]
    },
    {
     "name": "stdout",
     "output_type": "stream",
     "text": [
      "KR_5733826198의 데이터 수집이 완료되었습니다\n",
      "KR_5733826531의 데이터 수집을 시작합니다.\n",
      "api cost full : infinite loop start\n",
      "try 10 second wait time\n",
      "429\n",
      "try 10 second wait time\n",
      "429\n",
      "try 10 second wait time\n",
      "429\n",
      "try 10 second wait time\n",
      "429\n",
      "try 10 second wait time\n",
      "429\n",
      "try 10 second wait time\n",
      "429\n",
      "try 10 second wait time\n",
      "429\n",
      "try 10 second wait time\n",
      "429\n",
      "try 10 second wait time\n",
      "200\n",
      "total wait time :  92.29752016067505\n",
      "recovery api cost\n"
     ]
    },
    {
     "name": "stderr",
     "output_type": "stream",
     "text": [
      "\r",
      "  5%|█▋                               | 513/10000 [7:10:26<166:18:15, 63.11s/it]"
     ]
    },
    {
     "name": "stdout",
     "output_type": "stream",
     "text": [
      "KR_5733826531의 데이터 수집이 완료되었습니다\n",
      "KR_5733826810의 데이터 수집을 시작합니다.\n"
     ]
    },
    {
     "name": "stderr",
     "output_type": "stream",
     "text": [
      "\r",
      "  5%|█▋                               | 514/10000 [7:10:39<127:01:08, 48.20s/it]"
     ]
    },
    {
     "name": "stdout",
     "output_type": "stream",
     "text": [
      "KR_5733826810의 데이터 수집이 완료되었습니다\n",
      "KR_5733827035의 데이터 수집을 시작합니다.\n"
     ]
    },
    {
     "name": "stderr",
     "output_type": "stream",
     "text": [
      "\r",
      "  5%|█▊                                | 515/10000 [7:10:53<99:20:51, 37.71s/it]"
     ]
    },
    {
     "name": "stdout",
     "output_type": "stream",
     "text": [
      "KR_5733827035의 데이터 수집이 완료되었습니다\n",
      "KR_5733828619의 데이터 수집을 시작합니다.\n",
      "api cost full : infinite loop start\n",
      "try 10 second wait time\n",
      "429\n",
      "try 10 second wait time\n",
      "429\n",
      "try 10 second wait time\n",
      "429\n",
      "try 10 second wait time\n",
      "429\n",
      "try 10 second wait time\n",
      "429\n",
      "try 10 second wait time\n",
      "429\n",
      "try 10 second wait time\n",
      "429\n",
      "try 10 second wait time\n",
      "429\n",
      "try 10 second wait time\n",
      "200\n",
      "total wait time :  92.34009790420532\n",
      "recovery api cost\n"
     ]
    },
    {
     "name": "stderr",
     "output_type": "stream",
     "text": [
      "\r",
      "  5%|█▋                               | 516/10000 [7:12:38<153:14:55, 58.17s/it]"
     ]
    },
    {
     "name": "stdout",
     "output_type": "stream",
     "text": [
      "KR_5733828619의 데이터 수집이 완료되었습니다\n",
      "KR_5733829092의 데이터 수집을 시작합니다.\n"
     ]
    },
    {
     "name": "stderr",
     "output_type": "stream",
     "text": [
      "\r",
      "  5%|█▋                               | 517/10000 [7:12:53<118:42:19, 45.06s/it]"
     ]
    },
    {
     "name": "stdout",
     "output_type": "stream",
     "text": [
      "KR_5733829092의 데이터 수집이 완료되었습니다\n",
      "KR_5733829325의 데이터 수집을 시작합니다.\n",
      "api cost full : infinite loop start\n",
      "try 10 second wait time\n",
      "429\n",
      "try 10 second wait time\n",
      "429\n",
      "try 10 second wait time\n",
      "429\n",
      "try 10 second wait time\n",
      "429\n",
      "try 10 second wait time\n",
      "429\n",
      "try 10 second wait time\n",
      "429\n",
      "try 10 second wait time\n",
      "429\n",
      "try 10 second wait time\n",
      "429\n",
      "try 10 second wait time\n",
      "200\n",
      "total wait time :  92.47203803062439\n",
      "recovery api cost\n"
     ]
    },
    {
     "name": "stderr",
     "output_type": "stream",
     "text": [
      "\r",
      "  5%|█▋                               | 518/10000 [7:14:38<166:23:02, 63.17s/it]"
     ]
    },
    {
     "name": "stdout",
     "output_type": "stream",
     "text": [
      "KR_5733829325의 데이터 수집이 완료되었습니다\n",
      "KR_5733830045의 데이터 수집을 시작합니다.\n"
     ]
    },
    {
     "name": "stderr",
     "output_type": "stream",
     "text": [
      "\r",
      "  5%|█▋                               | 519/10000 [7:14:52<127:24:48, 48.38s/it]"
     ]
    },
    {
     "name": "stdout",
     "output_type": "stream",
     "text": [
      "KR_5733830045의 데이터 수집이 완료되었습니다\n",
      "KR_5733830327의 데이터 수집을 시작합니다.\n"
     ]
    },
    {
     "name": "stderr",
     "output_type": "stream",
     "text": [
      "\r",
      "  5%|█▋                               | 520/10000 [7:15:06<100:17:29, 38.09s/it]"
     ]
    },
    {
     "name": "stdout",
     "output_type": "stream",
     "text": [
      "KR_5733830327의 데이터 수집이 완료되었습니다\n",
      "KR_5733830727의 데이터 수집을 시작합니다.\n",
      "api cost full : infinite loop start\n",
      "try 10 second wait time\n",
      "429\n",
      "try 10 second wait time\n",
      "429\n",
      "try 10 second wait time\n",
      "429\n",
      "try 10 second wait time\n",
      "429\n",
      "try 10 second wait time\n",
      "429\n",
      "try 10 second wait time\n",
      "429\n",
      "try 10 second wait time\n",
      "429\n",
      "try 10 second wait time\n",
      "429\n",
      "try 10 second wait time\n",
      "200\n",
      "total wait time :  92.48362684249878\n",
      "recovery api cost\n"
     ]
    },
    {
     "name": "stderr",
     "output_type": "stream",
     "text": [
      "\r",
      "  5%|█▋                               | 521/10000 [7:16:52<154:00:10, 58.49s/it]"
     ]
    },
    {
     "name": "stdout",
     "output_type": "stream",
     "text": [
      "KR_5733830727의 데이터 수집이 완료되었습니다\n",
      "KR_5733830930의 데이터 수집을 시작합니다.\n"
     ]
    },
    {
     "name": "stderr",
     "output_type": "stream",
     "text": [
      "\r",
      "  5%|█▋                               | 522/10000 [7:17:06<118:24:35, 44.98s/it]"
     ]
    },
    {
     "name": "stdout",
     "output_type": "stream",
     "text": [
      "KR_5733830930의 데이터 수집이 완료되었습니다\n",
      "KR_5733831132의 데이터 수집을 시작합니다.\n",
      "api cost full : infinite loop start\n",
      "try 10 second wait time\n",
      "429\n",
      "try 10 second wait time\n",
      "429\n",
      "try 10 second wait time\n",
      "429\n",
      "try 10 second wait time\n",
      "429\n",
      "try 10 second wait time\n",
      "429\n",
      "try 10 second wait time\n",
      "429\n",
      "try 10 second wait time\n",
      "429\n",
      "try 10 second wait time\n",
      "429\n",
      "try 10 second wait time\n",
      "200\n",
      "total wait time :  92.47613501548767\n",
      "recovery api cost\n"
     ]
    },
    {
     "name": "stderr",
     "output_type": "stream",
     "text": [
      "\r",
      "  5%|█▋                               | 523/10000 [7:18:52<166:46:24, 63.35s/it]"
     ]
    },
    {
     "name": "stdout",
     "output_type": "stream",
     "text": [
      "KR_5733831132의 데이터 수집이 완료되었습니다\n",
      "KR_5733833241의 데이터 수집을 시작합니다.\n"
     ]
    },
    {
     "name": "stderr",
     "output_type": "stream",
     "text": [
      "\r",
      "  5%|█▋                               | 524/10000 [7:19:06<127:23:04, 48.39s/it]"
     ]
    },
    {
     "name": "stdout",
     "output_type": "stream",
     "text": [
      "KR_5733833241의 데이터 수집이 완료되었습니다\n",
      "KR_5733833571의 데이터 수집을 시작합니다.\n"
     ]
    },
    {
     "name": "stderr",
     "output_type": "stream",
     "text": [
      "\r",
      "  5%|█▊                                | 525/10000 [7:19:19<99:35:06, 37.84s/it]"
     ]
    },
    {
     "name": "stdout",
     "output_type": "stream",
     "text": [
      "KR_5733833571의 데이터 수집이 완료되었습니다\n",
      "KR_5733833852의 데이터 수집을 시작합니다.\n",
      "api cost full : infinite loop start\n",
      "try 10 second wait time\n",
      "429\n",
      "try 10 second wait time\n",
      "429\n",
      "try 10 second wait time\n",
      "429\n",
      "try 10 second wait time\n",
      "429\n",
      "try 10 second wait time\n",
      "429\n",
      "try 10 second wait time\n",
      "429\n",
      "try 10 second wait time\n",
      "429\n",
      "try 10 second wait time\n",
      "429\n",
      "try 10 second wait time\n",
      "200\n",
      "total wait time :  92.3045608997345\n",
      "recovery api cost\n"
     ]
    },
    {
     "name": "stderr",
     "output_type": "stream",
     "text": [
      "\r",
      "  5%|█▋                               | 526/10000 [7:21:05<153:14:57, 58.23s/it]"
     ]
    },
    {
     "name": "stdout",
     "output_type": "stream",
     "text": [
      "KR_5733833852의 데이터 수집이 완료되었습니다\n",
      "KR_5733834297의 데이터 수집을 시작합니다.\n"
     ]
    },
    {
     "name": "stderr",
     "output_type": "stream",
     "text": [
      "\r",
      "  5%|█▋                               | 527/10000 [7:21:18<117:42:33, 44.73s/it]"
     ]
    },
    {
     "name": "stdout",
     "output_type": "stream",
     "text": [
      "KR_5733834297의 데이터 수집이 완료되었습니다\n",
      "KR_5733834389의 데이터 수집을 시작합니다.\n",
      "api cost full : infinite loop start\n",
      "try 10 second wait time\n",
      "429\n",
      "try 10 second wait time\n",
      "429\n",
      "try 10 second wait time\n",
      "429\n",
      "try 10 second wait time\n",
      "429\n",
      "try 10 second wait time\n",
      "429\n",
      "try 10 second wait time\n",
      "429\n",
      "try 10 second wait time\n",
      "429\n",
      "try 10 second wait time\n",
      "429\n",
      "try 10 second wait time\n",
      "200\n",
      "total wait time :  92.55092406272888\n",
      "recovery api cost\n"
     ]
    },
    {
     "name": "stderr",
     "output_type": "stream",
     "text": [
      "\r",
      "  5%|█▋                               | 528/10000 [7:23:04<166:00:33, 63.09s/it]"
     ]
    },
    {
     "name": "stdout",
     "output_type": "stream",
     "text": [
      "KR_5733834389의 데이터 수집이 완료되었습니다\n",
      "KR_5733834401의 데이터 수집을 시작합니다.\n"
     ]
    },
    {
     "name": "stderr",
     "output_type": "stream",
     "text": [
      "\r",
      "  5%|█▋                               | 529/10000 [7:23:17<126:33:36, 48.11s/it]"
     ]
    },
    {
     "name": "stdout",
     "output_type": "stream",
     "text": [
      "KR_5733834401의 데이터 수집이 완료되었습니다\n",
      "KR_5733834621의 데이터 수집을 시작합니다.\n"
     ]
    },
    {
     "name": "stderr",
     "output_type": "stream",
     "text": [
      "\r",
      "  5%|█▊                                | 530/10000 [7:23:30<98:55:33, 37.61s/it]"
     ]
    },
    {
     "name": "stdout",
     "output_type": "stream",
     "text": [
      "KR_5733834621의 데이터 수집이 완료되었습니다\n",
      "KR_5733835088의 데이터 수집을 시작합니다.\n",
      "api cost full : infinite loop start\n",
      "try 10 second wait time\n",
      "429\n",
      "try 10 second wait time\n",
      "429\n",
      "try 10 second wait time\n",
      "429\n",
      "try 10 second wait time\n",
      "429\n",
      "try 10 second wait time\n",
      "429\n",
      "try 10 second wait time\n",
      "429\n",
      "try 10 second wait time\n",
      "429\n",
      "try 10 second wait time\n",
      "429\n",
      "try 10 second wait time\n",
      "200\n",
      "total wait time :  92.43800902366638\n",
      "recovery api cost\n"
     ]
    },
    {
     "name": "stderr",
     "output_type": "stream",
     "text": [
      "\r",
      "  5%|█▊                               | 531/10000 [7:25:16<152:46:44, 58.08s/it]"
     ]
    },
    {
     "name": "stdout",
     "output_type": "stream",
     "text": [
      "KR_5733835088의 데이터 수집이 완료되었습니다\n",
      "KR_5733837914의 데이터 수집을 시작합니다.\n"
     ]
    },
    {
     "name": "stderr",
     "output_type": "stream",
     "text": [
      "\r",
      "  5%|█▊                               | 532/10000 [7:25:30<117:46:53, 44.78s/it]"
     ]
    },
    {
     "name": "stdout",
     "output_type": "stream",
     "text": [
      "KR_5733837914의 데이터 수집이 완료되었습니다\n",
      "KR_5733838228의 데이터 수집을 시작합니다.\n",
      "api cost full : infinite loop start\n",
      "try 10 second wait time\n",
      "429\n",
      "try 10 second wait time\n",
      "429\n",
      "try 10 second wait time\n",
      "429\n",
      "try 10 second wait time\n",
      "429\n",
      "try 10 second wait time\n",
      "429\n",
      "try 10 second wait time\n",
      "429\n",
      "try 10 second wait time\n",
      "429\n",
      "try 10 second wait time\n",
      "429\n",
      "try 10 second wait time\n",
      "200\n",
      "total wait time :  92.36125802993774\n",
      "recovery api cost\n"
     ]
    },
    {
     "name": "stderr",
     "output_type": "stream",
     "text": [
      "\r",
      "  5%|█▊                               | 533/10000 [7:27:16<166:06:16, 63.16s/it]"
     ]
    },
    {
     "name": "stdout",
     "output_type": "stream",
     "text": [
      "KR_5733838228의 데이터 수집이 완료되었습니다\n",
      "KR_5733842318의 데이터 수집을 시작합니다.\n"
     ]
    },
    {
     "name": "stderr",
     "output_type": "stream",
     "text": [
      "\r",
      "  5%|█▊                               | 534/10000 [7:27:29<126:46:04, 48.21s/it]"
     ]
    },
    {
     "name": "stdout",
     "output_type": "stream",
     "text": [
      "KR_5733842318의 데이터 수집이 완료되었습니다\n",
      "KR_5733842361의 데이터 수집을 시작합니다.\n"
     ]
    },
    {
     "name": "stderr",
     "output_type": "stream",
     "text": [
      "\r",
      "  5%|█▊                               | 535/10000 [7:27:43<100:05:26, 38.07s/it]"
     ]
    },
    {
     "name": "stdout",
     "output_type": "stream",
     "text": [
      "KR_5733842361의 데이터 수집이 완료되었습니다\n",
      "KR_5733842438의 데이터 수집을 시작합니다.\n",
      "api cost full : infinite loop start\n",
      "try 10 second wait time\n",
      "429\n",
      "try 10 second wait time\n",
      "429\n",
      "try 10 second wait time\n",
      "429\n",
      "try 10 second wait time\n",
      "429\n",
      "try 10 second wait time\n",
      "429\n",
      "try 10 second wait time\n",
      "429\n",
      "try 10 second wait time\n",
      "429\n",
      "try 10 second wait time\n",
      "429\n",
      "try 10 second wait time\n",
      "200\n",
      "total wait time :  92.96996092796326\n",
      "recovery api cost\n"
     ]
    },
    {
     "name": "stderr",
     "output_type": "stream",
     "text": [
      "\r",
      "  5%|█▊                               | 536/10000 [7:29:29<153:28:01, 58.38s/it]"
     ]
    },
    {
     "name": "stdout",
     "output_type": "stream",
     "text": [
      "KR_5733842438의 데이터 수집이 완료되었습니다\n",
      "KR_5733844703의 데이터 수집을 시작합니다.\n"
     ]
    },
    {
     "name": "stderr",
     "output_type": "stream",
     "text": [
      "\r",
      "  5%|█▊                               | 537/10000 [7:29:43<118:17:11, 45.00s/it]"
     ]
    },
    {
     "name": "stdout",
     "output_type": "stream",
     "text": [
      "KR_5733844703의 데이터 수집이 완료되었습니다\n",
      "KR_5733845846의 데이터 수집을 시작합니다.\n",
      "api cost full : infinite loop start\n",
      "try 10 second wait time\n",
      "429\n",
      "try 10 second wait time\n",
      "429\n",
      "try 10 second wait time\n",
      "429\n",
      "try 10 second wait time\n",
      "429\n",
      "try 10 second wait time\n",
      "429\n",
      "try 10 second wait time\n",
      "429\n",
      "try 10 second wait time\n",
      "429\n",
      "try 10 second wait time\n",
      "429\n",
      "try 10 second wait time\n",
      "200\n",
      "total wait time :  92.23538994789124\n",
      "recovery api cost\n"
     ]
    },
    {
     "name": "stderr",
     "output_type": "stream",
     "text": [
      "\r",
      "  5%|█▊                               | 538/10000 [7:31:28<165:51:50, 63.11s/it]"
     ]
    },
    {
     "name": "stdout",
     "output_type": "stream",
     "text": [
      "KR_5733845846의 데이터 수집이 완료되었습니다\n",
      "KR_5733847255의 데이터 수집을 시작합니다.\n"
     ]
    },
    {
     "name": "stderr",
     "output_type": "stream",
     "text": [
      "\r",
      "  5%|█▊                               | 539/10000 [7:31:42<126:36:57, 48.18s/it]"
     ]
    },
    {
     "name": "stdout",
     "output_type": "stream",
     "text": [
      "KR_5733847255의 데이터 수집이 완료되었습니다\n",
      "KR_5733847348의 데이터 수집을 시작합니다.\n"
     ]
    },
    {
     "name": "stderr",
     "output_type": "stream",
     "text": [
      "\r",
      "  5%|█▊                                | 540/10000 [7:31:55<99:00:20, 37.68s/it]"
     ]
    },
    {
     "name": "stdout",
     "output_type": "stream",
     "text": [
      "KR_5733847348의 데이터 수집이 완료되었습니다\n",
      "KR_5733848650의 데이터 수집을 시작합니다.\n",
      "api cost full : infinite loop start\n",
      "try 10 second wait time\n",
      "429\n",
      "try 10 second wait time\n",
      "429\n",
      "try 10 second wait time\n",
      "429\n",
      "try 10 second wait time\n",
      "429\n",
      "try 10 second wait time\n",
      "429\n",
      "try 10 second wait time\n",
      "429\n",
      "try 10 second wait time\n",
      "429\n",
      "try 10 second wait time\n",
      "429\n",
      "try 10 second wait time\n",
      "200\n",
      "total wait time :  92.3236129283905\n",
      "recovery api cost\n"
     ]
    },
    {
     "name": "stderr",
     "output_type": "stream",
     "text": [
      "\r",
      "  5%|█▊                               | 541/10000 [7:33:41<153:06:13, 58.27s/it]"
     ]
    },
    {
     "name": "stdout",
     "output_type": "stream",
     "text": [
      "KR_5733848650의 데이터 수집이 완료되었습니다\n",
      "KR_5733849933의 데이터 수집을 시작합니다.\n"
     ]
    },
    {
     "name": "stderr",
     "output_type": "stream",
     "text": [
      "\r",
      "  5%|█▊                               | 542/10000 [7:33:56<118:42:36, 45.18s/it]"
     ]
    },
    {
     "name": "stdout",
     "output_type": "stream",
     "text": [
      "KR_5733849933의 데이터 수집이 완료되었습니다\n",
      "KR_5733851136의 데이터 수집을 시작합니다.\n",
      "api cost full : infinite loop start\n",
      "try 10 second wait time\n",
      "429\n",
      "try 10 second wait time\n",
      "429\n",
      "try 10 second wait time\n",
      "429\n",
      "try 10 second wait time\n",
      "429\n",
      "try 10 second wait time\n",
      "429\n",
      "try 10 second wait time\n",
      "429\n",
      "try 10 second wait time\n",
      "429\n",
      "try 10 second wait time\n",
      "429\n",
      "try 10 second wait time\n",
      "200\n",
      "total wait time :  92.26976180076599\n",
      "recovery api cost\n"
     ]
    },
    {
     "name": "stderr",
     "output_type": "stream",
     "text": [
      "\r",
      "  5%|█▊                               | 543/10000 [7:35:42<166:24:33, 63.35s/it]"
     ]
    },
    {
     "name": "stdout",
     "output_type": "stream",
     "text": [
      "KR_5733851136의 데이터 수집이 완료되었습니다\n",
      "KR_5733852277의 데이터 수집을 시작합니다.\n"
     ]
    },
    {
     "name": "stderr",
     "output_type": "stream",
     "text": [
      "\r",
      "  5%|█▊                               | 544/10000 [7:35:56<127:31:19, 48.55s/it]"
     ]
    },
    {
     "name": "stdout",
     "output_type": "stream",
     "text": [
      "KR_5733852277의 데이터 수집이 완료되었습니다\n",
      "KR_5733853956의 데이터 수집을 시작합니다.\n"
     ]
    },
    {
     "name": "stderr",
     "output_type": "stream",
     "text": [
      "\r",
      "  5%|█▊                               | 545/10000 [7:36:10<100:53:26, 38.41s/it]"
     ]
    },
    {
     "name": "stdout",
     "output_type": "stream",
     "text": [
      "KR_5733853956의 데이터 수집이 완료되었습니다\n",
      "KR_5733855316의 데이터 수집을 시작합니다.\n",
      "api cost full : infinite loop start\n",
      "try 10 second wait time\n",
      "429\n",
      "try 10 second wait time\n",
      "429\n",
      "try 10 second wait time\n",
      "429\n",
      "try 10 second wait time\n",
      "429\n",
      "try 10 second wait time\n",
      "429\n",
      "try 10 second wait time\n",
      "429\n",
      "try 10 second wait time\n",
      "429\n",
      "try 10 second wait time\n",
      "429\n",
      "try 10 second wait time\n",
      "200\n",
      "total wait time :  92.30682396888733\n",
      "recovery api cost\n"
     ]
    },
    {
     "name": "stderr",
     "output_type": "stream",
     "text": [
      "\r",
      "  5%|█▊                               | 546/10000 [7:37:56<154:11:39, 58.72s/it]"
     ]
    },
    {
     "name": "stdout",
     "output_type": "stream",
     "text": [
      "KR_5733855316의 데이터 수집이 완료되었습니다\n",
      "KR_5733856010의 데이터 수집을 시작합니다.\n"
     ]
    },
    {
     "name": "stderr",
     "output_type": "stream",
     "text": [
      "\r",
      "  5%|█▊                               | 547/10000 [7:38:09<117:59:28, 44.93s/it]"
     ]
    },
    {
     "name": "stdout",
     "output_type": "stream",
     "text": [
      "KR_5733856010의 데이터 수집이 완료되었습니다\n",
      "KR_5733856589의 데이터 수집을 시작합니다.\n",
      "api cost full : infinite loop start\n",
      "try 10 second wait time\n",
      "429\n",
      "try 10 second wait time\n",
      "429\n",
      "try 10 second wait time\n",
      "429\n",
      "try 10 second wait time\n",
      "429\n",
      "try 10 second wait time\n",
      "429\n",
      "try 10 second wait time\n",
      "429\n",
      "try 10 second wait time\n",
      "429\n",
      "try 10 second wait time\n",
      "429\n",
      "try 10 second wait time\n",
      "200\n",
      "total wait time :  92.44601917266846\n",
      "recovery api cost\n"
     ]
    },
    {
     "name": "stderr",
     "output_type": "stream",
     "text": [
      "\r",
      "  5%|█▊                               | 548/10000 [7:39:56<166:46:47, 63.52s/it]"
     ]
    },
    {
     "name": "stdout",
     "output_type": "stream",
     "text": [
      "KR_5733856589의 데이터 수집이 완료되었습니다\n",
      "KR_5733856806의 데이터 수집을 시작합니다.\n"
     ]
    },
    {
     "name": "stderr",
     "output_type": "stream",
     "text": [
      "\r",
      "  5%|█▊                               | 549/10000 [7:40:09<127:06:43, 48.42s/it]"
     ]
    },
    {
     "name": "stdout",
     "output_type": "stream",
     "text": [
      "KR_5733856806의 데이터 수집이 완료되었습니다\n",
      "KR_5733857134의 데이터 수집을 시작합니다.\n"
     ]
    },
    {
     "name": "stderr",
     "output_type": "stream",
     "text": [
      "\r",
      "  6%|█▊                                | 550/10000 [7:40:23<99:51:46, 38.04s/it]"
     ]
    },
    {
     "name": "stdout",
     "output_type": "stream",
     "text": [
      "KR_5733857134의 데이터 수집이 완료되었습니다\n",
      "KR_5733857286의 데이터 수집을 시작합니다.\n",
      "api cost full : infinite loop start\n",
      "try 10 second wait time\n",
      "429\n",
      "try 10 second wait time\n",
      "429\n",
      "try 10 second wait time\n",
      "429\n",
      "try 10 second wait time\n",
      "429\n",
      "try 10 second wait time\n",
      "429\n",
      "try 10 second wait time\n",
      "429\n",
      "try 10 second wait time\n",
      "429\n",
      "try 10 second wait time\n",
      "429\n",
      "try 10 second wait time\n",
      "200\n",
      "total wait time :  92.35462665557861\n",
      "recovery api cost\n"
     ]
    },
    {
     "name": "stderr",
     "output_type": "stream",
     "text": [
      "\r",
      "  6%|█▊                               | 551/10000 [7:42:09<153:01:22, 58.30s/it]"
     ]
    },
    {
     "name": "stdout",
     "output_type": "stream",
     "text": [
      "KR_5733857286의 데이터 수집이 완료되었습니다\n",
      "KR_5733858070의 데이터 수집을 시작합니다.\n"
     ]
    },
    {
     "name": "stderr",
     "output_type": "stream",
     "text": [
      "\r",
      "  6%|█▊                               | 552/10000 [7:42:22<117:39:12, 44.83s/it]"
     ]
    },
    {
     "name": "stdout",
     "output_type": "stream",
     "text": [
      "KR_5733858070의 데이터 수집이 완료되었습니다\n",
      "KR_5733858819의 데이터 수집을 시작합니다.\n",
      "api cost full : infinite loop start\n",
      "try 10 second wait time\n",
      "429\n",
      "try 10 second wait time\n",
      "429\n",
      "try 10 second wait time\n",
      "429\n",
      "try 10 second wait time\n",
      "429\n",
      "try 10 second wait time\n",
      "429\n",
      "try 10 second wait time\n",
      "429\n",
      "try 10 second wait time\n",
      "429\n",
      "try 10 second wait time\n",
      "429\n",
      "try 10 second wait time\n",
      "200\n",
      "total wait time :  92.30514311790466\n",
      "recovery api cost\n"
     ]
    },
    {
     "name": "stderr",
     "output_type": "stream",
     "text": [
      "\r",
      "  6%|█▊                               | 553/10000 [7:44:08<165:55:31, 63.23s/it]"
     ]
    },
    {
     "name": "stdout",
     "output_type": "stream",
     "text": [
      "KR_5733858819의 데이터 수집이 완료되었습니다\n",
      "KR_5733859290의 데이터 수집을 시작합니다.\n"
     ]
    },
    {
     "name": "stderr",
     "output_type": "stream",
     "text": [
      "\r",
      "  6%|█▊                               | 554/10000 [7:44:22<126:36:57, 48.26s/it]"
     ]
    },
    {
     "name": "stdout",
     "output_type": "stream",
     "text": [
      "KR_5733859290의 데이터 수집이 완료되었습니다\n",
      "KR_5733859793의 데이터 수집을 시작합니다.\n"
     ]
    },
    {
     "name": "stderr",
     "output_type": "stream",
     "text": [
      "\r",
      "  6%|█▉                                | 555/10000 [7:44:35<99:11:33, 37.81s/it]"
     ]
    },
    {
     "name": "stdout",
     "output_type": "stream",
     "text": [
      "KR_5733859793의 데이터 수집이 완료되었습니다\n",
      "KR_5733860092의 데이터 수집을 시작합니다.\n",
      "api cost full : infinite loop start\n",
      "try 10 second wait time\n",
      "429\n",
      "try 10 second wait time\n",
      "429\n",
      "try 10 second wait time\n",
      "429\n",
      "try 10 second wait time\n",
      "429\n",
      "try 10 second wait time\n",
      "429\n",
      "try 10 second wait time\n",
      "429\n",
      "try 10 second wait time\n",
      "429\n",
      "try 10 second wait time\n",
      "429\n",
      "try 10 second wait time\n",
      "200\n",
      "total wait time :  92.40984082221985\n",
      "recovery api cost\n"
     ]
    },
    {
     "name": "stderr",
     "output_type": "stream",
     "text": [
      "\r",
      "  6%|█▊                               | 556/10000 [7:46:20<152:16:37, 58.05s/it]"
     ]
    },
    {
     "name": "stdout",
     "output_type": "stream",
     "text": [
      "KR_5733860092의 데이터 수집이 완료되었습니다\n",
      "KR_5733861036의 데이터 수집을 시작합니다.\n"
     ]
    },
    {
     "name": "stderr",
     "output_type": "stream",
     "text": [
      "\r",
      "  6%|█▊                               | 557/10000 [7:46:34<117:15:32, 44.70s/it]"
     ]
    },
    {
     "name": "stdout",
     "output_type": "stream",
     "text": [
      "KR_5733861036의 데이터 수집이 완료되었습니다\n",
      "KR_5733861494의 데이터 수집을 시작합니다.\n",
      "api cost full : infinite loop start\n",
      "try 10 second wait time\n",
      "429\n",
      "try 10 second wait time\n",
      "429\n",
      "try 10 second wait time\n",
      "429\n",
      "try 10 second wait time\n",
      "429\n",
      "try 10 second wait time\n",
      "429\n",
      "try 10 second wait time\n",
      "429\n",
      "try 10 second wait time\n",
      "429\n",
      "try 10 second wait time\n",
      "429\n",
      "try 10 second wait time\n",
      "200\n",
      "total wait time :  92.35954594612122\n",
      "recovery api cost\n"
     ]
    },
    {
     "name": "stderr",
     "output_type": "stream",
     "text": [
      "\r",
      "  6%|█▊                               | 558/10000 [7:48:20<165:50:34, 63.23s/it]"
     ]
    },
    {
     "name": "stdout",
     "output_type": "stream",
     "text": [
      "KR_5733861494의 데이터 수집이 완료되었습니다\n",
      "KR_5733861672의 데이터 수집을 시작합니다.\n"
     ]
    },
    {
     "name": "stderr",
     "output_type": "stream",
     "text": [
      "\r",
      "  6%|█▊                               | 559/10000 [7:48:33<126:23:52, 48.20s/it]"
     ]
    },
    {
     "name": "stdout",
     "output_type": "stream",
     "text": [
      "KR_5733861672의 데이터 수집이 완료되었습니다\n",
      "KR_5733861676의 데이터 수집을 시작합니다.\n"
     ]
    },
    {
     "name": "stderr",
     "output_type": "stream",
     "text": [
      "\r",
      "  6%|█▉                                | 560/10000 [7:48:47<98:50:02, 37.69s/it]"
     ]
    },
    {
     "name": "stdout",
     "output_type": "stream",
     "text": [
      "KR_5733861676의 데이터 수집이 완료되었습니다\n",
      "KR_5733861992의 데이터 수집을 시작합니다.\n",
      "api cost full : infinite loop start\n",
      "try 10 second wait time\n",
      "429\n",
      "try 10 second wait time\n",
      "429\n",
      "try 10 second wait time\n",
      "429\n",
      "try 10 second wait time\n",
      "429\n",
      "try 10 second wait time\n",
      "429\n",
      "try 10 second wait time\n",
      "429\n",
      "try 10 second wait time\n",
      "429\n",
      "try 10 second wait time\n",
      "429\n",
      "try 10 second wait time\n",
      "200\n",
      "total wait time :  92.33129119873047\n",
      "recovery api cost\n"
     ]
    },
    {
     "name": "stderr",
     "output_type": "stream",
     "text": [
      "\r",
      "  6%|█▊                               | 561/10000 [7:50:32<151:44:30, 57.87s/it]"
     ]
    },
    {
     "name": "stdout",
     "output_type": "stream",
     "text": [
      "KR_5733861992의 데이터 수집이 완료되었습니다\n",
      "KR_5733864416의 데이터 수집을 시작합니다.\n"
     ]
    },
    {
     "name": "stderr",
     "output_type": "stream",
     "text": [
      "\r",
      "  6%|█▊                               | 562/10000 [7:50:45<116:57:56, 44.62s/it]"
     ]
    },
    {
     "name": "stdout",
     "output_type": "stream",
     "text": [
      "KR_5733864416의 데이터 수집이 완료되었습니다\n",
      "KR_5733864460의 데이터 수집을 시작합니다.\n",
      "api cost full : infinite loop start\n",
      "try 10 second wait time\n",
      "429\n",
      "try 10 second wait time\n",
      "429\n",
      "try 10 second wait time\n",
      "429\n",
      "try 10 second wait time\n",
      "429\n",
      "try 10 second wait time\n",
      "429\n",
      "try 10 second wait time\n",
      "429\n",
      "try 10 second wait time\n",
      "429\n",
      "try 10 second wait time\n",
      "429\n",
      "try 10 second wait time\n",
      "200\n",
      "total wait time :  92.70418286323547\n",
      "recovery api cost\n"
     ]
    },
    {
     "name": "stderr",
     "output_type": "stream",
     "text": [
      "\r",
      "  6%|█▊                               | 563/10000 [7:52:31<165:24:32, 63.10s/it]"
     ]
    },
    {
     "name": "stdout",
     "output_type": "stream",
     "text": [
      "KR_5733864460의 데이터 수집이 완료되었습니다\n",
      "KR_5733865296의 데이터 수집을 시작합니다.\n"
     ]
    },
    {
     "name": "stderr",
     "output_type": "stream",
     "text": [
      "\r",
      "  6%|█▊                               | 564/10000 [7:52:44<125:38:06, 47.93s/it]"
     ]
    },
    {
     "name": "stdout",
     "output_type": "stream",
     "text": [
      "KR_5733865296의 데이터 수집이 완료되었습니다\n",
      "KR_5733865642의 데이터 수집을 시작합니다.\n"
     ]
    },
    {
     "name": "stderr",
     "output_type": "stream",
     "text": [
      "\r",
      "  6%|█▉                                | 565/10000 [7:52:57<98:27:06, 37.57s/it]"
     ]
    },
    {
     "name": "stdout",
     "output_type": "stream",
     "text": [
      "KR_5733865642의 데이터 수집이 완료되었습니다\n",
      "KR_5733866564의 데이터 수집을 시작합니다.\n",
      "api cost full : infinite loop start\n",
      "try 10 second wait time\n",
      "429\n",
      "try 10 second wait time\n",
      "429\n",
      "try 10 second wait time\n",
      "429\n",
      "try 10 second wait time\n",
      "429\n",
      "try 10 second wait time\n",
      "429\n",
      "try 10 second wait time\n",
      "429\n",
      "try 10 second wait time\n",
      "429\n",
      "try 10 second wait time\n",
      "429\n",
      "try 10 second wait time\n",
      "200\n",
      "total wait time :  92.41272592544556\n",
      "recovery api cost\n"
     ]
    },
    {
     "name": "stderr",
     "output_type": "stream",
     "text": [
      "\r",
      "  6%|█▊                               | 566/10000 [7:54:43<152:10:05, 58.07s/it]"
     ]
    },
    {
     "name": "stdout",
     "output_type": "stream",
     "text": [
      "KR_5733866564의 데이터 수집이 완료되었습니다\n",
      "KR_5733866853의 데이터 수집을 시작합니다.\n"
     ]
    },
    {
     "name": "stderr",
     "output_type": "stream",
     "text": [
      "\r",
      "  6%|█▊                               | 567/10000 [7:54:56<116:39:58, 44.52s/it]"
     ]
    },
    {
     "name": "stdout",
     "output_type": "stream",
     "text": [
      "KR_5733866853의 데이터 수집이 완료되었습니다\n",
      "KR_5733867222의 데이터 수집을 시작합니다.\n",
      "api cost full : infinite loop start\n",
      "try 10 second wait time\n",
      "429\n",
      "try 10 second wait time\n",
      "429\n",
      "try 10 second wait time\n",
      "429\n",
      "try 10 second wait time\n",
      "429\n",
      "try 10 second wait time\n",
      "429\n",
      "try 10 second wait time\n",
      "429\n",
      "try 10 second wait time\n",
      "429\n",
      "try 10 second wait time\n",
      "429\n",
      "try 10 second wait time\n",
      "200\n",
      "total wait time :  92.28098726272583\n",
      "recovery api cost\n"
     ]
    },
    {
     "name": "stderr",
     "output_type": "stream",
     "text": [
      "\r",
      "  6%|█▊                               | 568/10000 [7:56:42<164:54:11, 62.94s/it]"
     ]
    },
    {
     "name": "stdout",
     "output_type": "stream",
     "text": [
      "KR_5733867222의 데이터 수집이 완료되었습니다\n",
      "KR_5733867537의 데이터 수집을 시작합니다.\n"
     ]
    },
    {
     "name": "stderr",
     "output_type": "stream",
     "text": [
      "\r",
      "  6%|█▉                               | 569/10000 [7:56:56<126:06:35, 48.14s/it]"
     ]
    },
    {
     "name": "stdout",
     "output_type": "stream",
     "text": [
      "KR_5733867537의 데이터 수집이 완료되었습니다\n",
      "KR_5733868008의 데이터 수집을 시작합니다.\n"
     ]
    },
    {
     "name": "stderr",
     "output_type": "stream",
     "text": [
      "\r",
      "  6%|█▉                                | 570/10000 [7:57:10<99:10:34, 37.86s/it]"
     ]
    },
    {
     "name": "stdout",
     "output_type": "stream",
     "text": [
      "KR_5733868008의 데이터 수집이 완료되었습니다\n",
      "KR_5733868472의 데이터 수집을 시작합니다.\n",
      "api cost full : infinite loop start\n",
      "try 10 second wait time\n",
      "429\n",
      "try 10 second wait time\n",
      "429\n",
      "try 10 second wait time\n",
      "429\n",
      "try 10 second wait time\n",
      "429\n",
      "try 10 second wait time\n",
      "429\n",
      "try 10 second wait time\n",
      "429\n",
      "try 10 second wait time\n",
      "429\n",
      "try 10 second wait time\n",
      "429\n",
      "try 10 second wait time\n",
      "200\n",
      "total wait time :  92.56045794487\n",
      "recovery api cost\n"
     ]
    },
    {
     "name": "stderr",
     "output_type": "stream",
     "text": [
      "\r",
      "  6%|█▉                               | 571/10000 [7:58:56<152:48:41, 58.34s/it]"
     ]
    },
    {
     "name": "stdout",
     "output_type": "stream",
     "text": [
      "KR_5733868472의 데이터 수집이 완료되었습니다\n",
      "KR_5733868708의 데이터 수집을 시작합니다.\n"
     ]
    },
    {
     "name": "stderr",
     "output_type": "stream",
     "text": [
      "\r",
      "  6%|█▉                               | 572/10000 [7:59:10<118:21:35, 45.19s/it]"
     ]
    },
    {
     "name": "stdout",
     "output_type": "stream",
     "text": [
      "KR_5733868708의 데이터 수집이 완료되었습니다\n",
      "KR_5733869228의 데이터 수집을 시작합니다.\n",
      "api cost full : infinite loop start\n",
      "try 10 second wait time\n",
      "429\n",
      "try 10 second wait time\n",
      "429\n",
      "try 10 second wait time\n",
      "429\n",
      "try 10 second wait time\n",
      "429\n",
      "try 10 second wait time\n",
      "429\n",
      "try 10 second wait time\n",
      "429\n",
      "try 10 second wait time\n",
      "429\n",
      "try 10 second wait time\n",
      "429\n",
      "try 10 second wait time\n",
      "200\n",
      "total wait time :  92.34771299362183\n",
      "recovery api cost\n"
     ]
    },
    {
     "name": "stderr",
     "output_type": "stream",
     "text": [
      "\r",
      "  6%|█▉                               | 573/10000 [8:00:56<166:05:25, 63.43s/it]"
     ]
    },
    {
     "name": "stdout",
     "output_type": "stream",
     "text": [
      "KR_5733869228의 데이터 수집이 완료되었습니다\n",
      "KR_5733869303의 데이터 수집을 시작합니다.\n"
     ]
    },
    {
     "name": "stderr",
     "output_type": "stream",
     "text": [
      "\r",
      "  6%|█▉                               | 574/10000 [8:01:10<127:03:32, 48.53s/it]"
     ]
    },
    {
     "name": "stdout",
     "output_type": "stream",
     "text": [
      "KR_5733869303의 데이터 수집이 완료되었습니다\n",
      "KR_5733869342의 데이터 수집을 시작합니다.\n"
     ]
    },
    {
     "name": "stderr",
     "output_type": "stream",
     "text": [
      "\r",
      "  6%|█▉                                | 575/10000 [8:01:23<99:24:03, 37.97s/it]"
     ]
    },
    {
     "name": "stdout",
     "output_type": "stream",
     "text": [
      "KR_5733869342의 데이터 수집이 완료되었습니다\n",
      "KR_5733869659의 데이터 수집을 시작합니다.\n",
      "api cost full : infinite loop start\n",
      "try 10 second wait time\n",
      "429\n",
      "try 10 second wait time\n",
      "429\n",
      "try 10 second wait time\n",
      "429\n",
      "try 10 second wait time\n",
      "429\n",
      "try 10 second wait time\n",
      "429\n",
      "try 10 second wait time\n",
      "429\n",
      "try 10 second wait time\n",
      "429\n",
      "try 10 second wait time\n",
      "429\n",
      "try 10 second wait time\n",
      "200\n",
      "total wait time :  92.38033199310303\n",
      "recovery api cost\n"
     ]
    },
    {
     "name": "stderr",
     "output_type": "stream",
     "text": [
      "\r",
      "  6%|█▉                               | 576/10000 [8:03:10<153:07:37, 58.50s/it]"
     ]
    },
    {
     "name": "stdout",
     "output_type": "stream",
     "text": [
      "KR_5733869659의 데이터 수집이 완료되었습니다\n",
      "KR_5733870459의 데이터 수집을 시작합니다.\n"
     ]
    },
    {
     "name": "stderr",
     "output_type": "stream",
     "text": [
      "\r",
      "  6%|█▉                               | 577/10000 [8:03:23<117:25:16, 44.86s/it]"
     ]
    },
    {
     "name": "stdout",
     "output_type": "stream",
     "text": [
      "KR_5733870459의 데이터 수집이 완료되었습니다\n",
      "KR_5733871421의 데이터 수집을 시작합니다.\n",
      "api cost full : infinite loop start\n",
      "try 10 second wait time\n",
      "429\n",
      "try 10 second wait time\n",
      "429\n",
      "try 10 second wait time\n",
      "429\n",
      "try 10 second wait time\n",
      "429\n",
      "try 10 second wait time\n",
      "429\n",
      "try 10 second wait time\n",
      "429\n",
      "try 10 second wait time\n",
      "429\n",
      "try 10 second wait time\n",
      "429\n",
      "try 10 second wait time\n",
      "200\n",
      "total wait time :  92.28761911392212\n",
      "recovery api cost\n"
     ]
    },
    {
     "name": "stderr",
     "output_type": "stream",
     "text": [
      "\r",
      "  6%|█▉                               | 578/10000 [8:05:09<165:17:14, 63.15s/it]"
     ]
    },
    {
     "name": "stdout",
     "output_type": "stream",
     "text": [
      "KR_5733871421의 데이터 수집이 완료되었습니다\n",
      "KR_5733871847의 데이터 수집을 시작합니다.\n"
     ]
    },
    {
     "name": "stderr",
     "output_type": "stream",
     "text": [
      "\r",
      "  6%|█▉                               | 579/10000 [8:05:22<126:38:28, 48.39s/it]"
     ]
    },
    {
     "name": "stdout",
     "output_type": "stream",
     "text": [
      "KR_5733871847의 데이터 수집이 완료되었습니다\n",
      "KR_5733872030의 데이터 수집을 시작합니다.\n"
     ]
    },
    {
     "name": "stderr",
     "output_type": "stream",
     "text": [
      "\r",
      "  6%|█▉                                | 580/10000 [8:05:35<98:30:23, 37.65s/it]"
     ]
    },
    {
     "name": "stdout",
     "output_type": "stream",
     "text": [
      "KR_5733872030의 데이터 수집이 완료되었습니다\n",
      "KR_5733873203의 데이터 수집을 시작합니다.\n",
      "api cost full : infinite loop start\n",
      "try 10 second wait time\n",
      "429\n",
      "try 10 second wait time\n",
      "429\n",
      "try 10 second wait time\n",
      "429\n",
      "try 10 second wait time\n",
      "429\n",
      "try 10 second wait time\n",
      "429\n",
      "try 10 second wait time\n",
      "429\n",
      "try 10 second wait time\n",
      "429\n",
      "try 10 second wait time\n",
      "429\n",
      "try 10 second wait time\n",
      "200\n",
      "total wait time :  92.73758316040039\n",
      "recovery api cost\n"
     ]
    },
    {
     "name": "stderr",
     "output_type": "stream",
     "text": [
      "\r",
      "  6%|█▉                               | 581/10000 [8:07:21<152:05:09, 58.13s/it]"
     ]
    },
    {
     "name": "stdout",
     "output_type": "stream",
     "text": [
      "KR_5733873203의 데이터 수집이 완료되었습니다\n",
      "KR_5733873315의 데이터 수집을 시작합니다.\n"
     ]
    },
    {
     "name": "stderr",
     "output_type": "stream",
     "text": [
      "\r",
      "  6%|█▉                               | 582/10000 [8:07:34<116:56:53, 44.70s/it]"
     ]
    },
    {
     "name": "stdout",
     "output_type": "stream",
     "text": [
      "KR_5733873315의 데이터 수집이 완료되었습니다\n",
      "KR_5733875319의 데이터 수집을 시작합니다.\n",
      "api cost full : infinite loop start\n",
      "try 10 second wait time\n",
      "429\n",
      "try 10 second wait time\n",
      "429\n",
      "try 10 second wait time\n",
      "429\n",
      "try 10 second wait time\n",
      "429\n",
      "try 10 second wait time\n",
      "429\n",
      "try 10 second wait time\n",
      "429\n",
      "try 10 second wait time\n",
      "429\n",
      "try 10 second wait time\n",
      "429\n",
      "try 10 second wait time\n",
      "200\n",
      "total wait time :  92.62990307807922\n",
      "recovery api cost\n"
     ]
    },
    {
     "name": "stderr",
     "output_type": "stream",
     "text": [
      "\r",
      "  6%|█▉                               | 583/10000 [8:09:20<165:00:54, 63.08s/it]"
     ]
    },
    {
     "name": "stdout",
     "output_type": "stream",
     "text": [
      "KR_5733875319의 데이터 수집이 완료되었습니다\n",
      "KR_5733876099의 데이터 수집을 시작합니다.\n"
     ]
    },
    {
     "name": "stderr",
     "output_type": "stream",
     "text": [
      "\r",
      "  6%|█▉                               | 584/10000 [8:09:34<126:31:56, 48.38s/it]"
     ]
    },
    {
     "name": "stdout",
     "output_type": "stream",
     "text": [
      "KR_5733876099의 데이터 수집이 완료되었습니다\n",
      "KR_5733876120의 데이터 수집을 시작합니다.\n"
     ]
    },
    {
     "name": "stderr",
     "output_type": "stream",
     "text": [
      "\r",
      "  6%|█▉                                | 585/10000 [8:09:48<98:58:45, 37.85s/it]"
     ]
    },
    {
     "name": "stdout",
     "output_type": "stream",
     "text": [
      "KR_5733876120의 데이터 수집이 완료되었습니다\n",
      "KR_5733876163의 데이터 수집을 시작합니다.\n",
      "api cost full : infinite loop start\n",
      "try 10 second wait time\n",
      "429\n",
      "try 10 second wait time\n",
      "429\n",
      "try 10 second wait time\n",
      "429\n",
      "try 10 second wait time\n",
      "429\n",
      "try 10 second wait time\n",
      "429\n",
      "try 10 second wait time\n",
      "429\n",
      "try 10 second wait time\n",
      "429\n",
      "try 10 second wait time\n",
      "429\n",
      "try 10 second wait time\n",
      "200\n",
      "total wait time :  92.36917662620544\n",
      "recovery api cost\n"
     ]
    },
    {
     "name": "stderr",
     "output_type": "stream",
     "text": [
      "\r",
      "  6%|█▉                               | 586/10000 [8:11:34<152:28:43, 58.31s/it]"
     ]
    },
    {
     "name": "stdout",
     "output_type": "stream",
     "text": [
      "KR_5733876163의 데이터 수집이 완료되었습니다\n",
      "KR_5733877574의 데이터 수집을 시작합니다.\n"
     ]
    },
    {
     "name": "stderr",
     "output_type": "stream",
     "text": [
      "\r",
      "  6%|█▉                               | 587/10000 [8:11:46<116:38:25, 44.61s/it]"
     ]
    },
    {
     "name": "stdout",
     "output_type": "stream",
     "text": [
      "KR_5733877574의 데이터 수집이 완료되었습니다\n",
      "KR_5733879905의 데이터 수집을 시작합니다.\n",
      "api cost full : infinite loop start\n",
      "try 10 second wait time\n",
      "429\n",
      "try 10 second wait time\n",
      "429\n",
      "try 10 second wait time\n",
      "429\n",
      "try 10 second wait time\n",
      "429\n",
      "try 10 second wait time\n",
      "429\n",
      "try 10 second wait time\n",
      "429\n",
      "try 10 second wait time\n",
      "429\n",
      "try 10 second wait time\n",
      "429\n",
      "try 10 second wait time\n",
      "200\n",
      "total wait time :  92.28111696243286\n",
      "recovery api cost\n"
     ]
    },
    {
     "name": "stderr",
     "output_type": "stream",
     "text": [
      "\r",
      "  6%|█▉                               | 588/10000 [8:13:32<164:18:22, 62.85s/it]"
     ]
    },
    {
     "name": "stdout",
     "output_type": "stream",
     "text": [
      "KR_5733879905의 데이터 수집이 완료되었습니다\n",
      "KR_5733882315의 데이터 수집을 시작합니다.\n"
     ]
    },
    {
     "name": "stderr",
     "output_type": "stream",
     "text": [
      "\r",
      "  6%|█▉                               | 589/10000 [8:13:45<125:39:24, 48.07s/it]"
     ]
    },
    {
     "name": "stdout",
     "output_type": "stream",
     "text": [
      "KR_5733882315의 데이터 수집이 완료되었습니다\n",
      "KR_5733882680의 데이터 수집을 시작합니다.\n"
     ]
    },
    {
     "name": "stderr",
     "output_type": "stream",
     "text": [
      "\r",
      "  6%|██                                | 590/10000 [8:13:59<98:41:25, 37.76s/it]"
     ]
    },
    {
     "name": "stdout",
     "output_type": "stream",
     "text": [
      "KR_5733882680의 데이터 수집이 완료되었습니다\n",
      "KR_5733883019의 데이터 수집을 시작합니다.\n",
      "api cost full : infinite loop start\n",
      "try 10 second wait time\n",
      "429\n",
      "try 10 second wait time\n",
      "429\n",
      "try 10 second wait time\n",
      "429\n",
      "try 10 second wait time\n",
      "429\n",
      "try 10 second wait time\n",
      "429\n",
      "try 10 second wait time\n",
      "429\n",
      "try 10 second wait time\n",
      "429\n",
      "try 10 second wait time\n",
      "429\n",
      "try 10 second wait time\n",
      "200\n",
      "total wait time :  92.33389282226562\n",
      "recovery api cost\n"
     ]
    },
    {
     "name": "stderr",
     "output_type": "stream",
     "text": [
      "\r",
      "  6%|█▉                               | 591/10000 [8:15:45<151:48:44, 58.09s/it]"
     ]
    },
    {
     "name": "stdout",
     "output_type": "stream",
     "text": [
      "KR_5733883019의 데이터 수집이 완료되었습니다\n",
      "KR_5733883480의 데이터 수집을 시작합니다.\n"
     ]
    },
    {
     "name": "stderr",
     "output_type": "stream",
     "text": [
      "\r",
      "  6%|█▉                               | 592/10000 [8:15:58<116:47:26, 44.69s/it]"
     ]
    },
    {
     "name": "stdout",
     "output_type": "stream",
     "text": [
      "KR_5733883480의 데이터 수집이 완료되었습니다\n",
      "KR_5733885101의 데이터 수집을 시작합니다.\n",
      "api cost full : infinite loop start\n",
      "try 10 second wait time\n",
      "429\n",
      "try 10 second wait time\n",
      "429\n",
      "try 10 second wait time\n",
      "429\n",
      "try 10 second wait time\n",
      "429\n",
      "try 10 second wait time\n",
      "429\n",
      "try 10 second wait time\n",
      "429\n",
      "try 10 second wait time\n",
      "429\n",
      "try 10 second wait time\n",
      "429\n",
      "try 10 second wait time\n",
      "200\n",
      "total wait time :  92.2465591430664\n",
      "recovery api cost\n"
     ]
    },
    {
     "name": "stderr",
     "output_type": "stream",
     "text": [
      "\r",
      "  6%|█▉                               | 593/10000 [8:17:44<164:29:47, 62.95s/it]"
     ]
    },
    {
     "name": "stdout",
     "output_type": "stream",
     "text": [
      "KR_5733885101의 데이터 수집이 완료되었습니다\n",
      "KR_5733885319의 데이터 수집을 시작합니다.\n"
     ]
    },
    {
     "name": "stderr",
     "output_type": "stream",
     "text": [
      "\r",
      "  6%|█▉                               | 594/10000 [8:17:57<125:35:56, 48.07s/it]"
     ]
    },
    {
     "name": "stdout",
     "output_type": "stream",
     "text": [
      "KR_5733885319의 데이터 수집이 완료되었습니다\n",
      "KR_5733887435의 데이터 수집을 시작합니다.\n"
     ]
    },
    {
     "name": "stderr",
     "output_type": "stream",
     "text": [
      "\r",
      "  6%|██                                | 595/10000 [8:18:11<98:39:34, 37.76s/it]"
     ]
    },
    {
     "name": "stdout",
     "output_type": "stream",
     "text": [
      "KR_5733887435의 데이터 수집이 완료되었습니다\n",
      "KR_5733887543의 데이터 수집을 시작합니다.\n",
      "api cost full : infinite loop start\n",
      "try 10 second wait time\n",
      "429\n",
      "try 10 second wait time\n",
      "429\n",
      "try 10 second wait time\n",
      "429\n",
      "try 10 second wait time\n",
      "429\n",
      "try 10 second wait time\n",
      "429\n",
      "try 10 second wait time\n",
      "429\n",
      "try 10 second wait time\n",
      "429\n",
      "try 10 second wait time\n",
      "429\n",
      "try 10 second wait time\n",
      "200\n",
      "total wait time :  92.36493015289307\n",
      "recovery api cost\n"
     ]
    },
    {
     "name": "stderr",
     "output_type": "stream",
     "text": [
      "\r",
      "  6%|█▉                               | 596/10000 [8:19:57<152:04:54, 58.22s/it]"
     ]
    },
    {
     "name": "stdout",
     "output_type": "stream",
     "text": [
      "KR_5733887543의 데이터 수집이 완료되었습니다\n",
      "KR_5733887746의 데이터 수집을 시작합니다.\n"
     ]
    },
    {
     "name": "stderr",
     "output_type": "stream",
     "text": [
      "\r",
      "  6%|█▉                               | 597/10000 [8:20:10<116:57:49, 44.78s/it]"
     ]
    },
    {
     "name": "stdout",
     "output_type": "stream",
     "text": [
      "KR_5733887746의 데이터 수집이 완료되었습니다\n",
      "KR_5733888267의 데이터 수집을 시작합니다.\n",
      "api cost full : infinite loop start\n",
      "try 10 second wait time\n",
      "429\n",
      "try 10 second wait time\n",
      "429\n",
      "try 10 second wait time\n",
      "429\n",
      "try 10 second wait time\n",
      "429\n",
      "try 10 second wait time\n",
      "429\n",
      "try 10 second wait time\n",
      "429\n",
      "try 10 second wait time\n",
      "429\n",
      "try 10 second wait time\n",
      "429\n",
      "try 10 second wait time\n",
      "200\n",
      "total wait time :  92.35733675956726\n",
      "recovery api cost\n"
     ]
    },
    {
     "name": "stderr",
     "output_type": "stream",
     "text": [
      "\r",
      "  6%|█▉                               | 598/10000 [8:21:56<165:01:17, 63.19s/it]"
     ]
    },
    {
     "name": "stdout",
     "output_type": "stream",
     "text": [
      "KR_5733888267의 데이터 수집이 완료되었습니다\n",
      "KR_5733888399의 데이터 수집을 시작합니다.\n"
     ]
    },
    {
     "name": "stderr",
     "output_type": "stream",
     "text": [
      "\r",
      "  6%|█▉                               | 599/10000 [8:22:09<125:45:20, 48.16s/it]"
     ]
    },
    {
     "name": "stdout",
     "output_type": "stream",
     "text": [
      "KR_5733888399의 데이터 수집이 완료되었습니다\n",
      "KR_5733889015의 데이터 수집을 시작합니다.\n"
     ]
    },
    {
     "name": "stderr",
     "output_type": "stream",
     "text": [
      "\r",
      "  6%|██                                | 600/10000 [8:22:22<98:03:48, 37.56s/it]"
     ]
    },
    {
     "name": "stdout",
     "output_type": "stream",
     "text": [
      "KR_5733889015의 데이터 수집이 완료되었습니다\n",
      "KR_5733889232의 데이터 수집을 시작합니다.\n",
      "api cost full : infinite loop start\n",
      "try 10 second wait time\n",
      "429\n",
      "try 10 second wait time\n",
      "429\n",
      "try 10 second wait time\n",
      "429\n",
      "try 10 second wait time\n",
      "429\n",
      "try 10 second wait time\n",
      "429\n",
      "try 10 second wait time\n",
      "429\n",
      "try 10 second wait time\n",
      "429\n",
      "try 10 second wait time\n",
      "429\n",
      "try 10 second wait time\n",
      "200\n",
      "total wait time :  92.33272004127502\n",
      "recovery api cost\n"
     ]
    },
    {
     "name": "stderr",
     "output_type": "stream",
     "text": [
      "\r",
      "  6%|█▉                               | 601/10000 [8:24:08<151:23:36, 57.99s/it]"
     ]
    },
    {
     "name": "stdout",
     "output_type": "stream",
     "text": [
      "KR_5733889232의 데이터 수집이 완료되었습니다\n",
      "KR_5733889729의 데이터 수집을 시작합니다.\n"
     ]
    },
    {
     "name": "stderr",
     "output_type": "stream",
     "text": [
      "\r",
      "  6%|█▉                               | 602/10000 [8:24:21<116:14:35, 44.53s/it]"
     ]
    },
    {
     "name": "stdout",
     "output_type": "stream",
     "text": [
      "KR_5733889729의 데이터 수집이 완료되었습니다\n",
      "KR_5733890735의 데이터 수집을 시작합니다.\n",
      "api cost full : infinite loop start\n",
      "try 10 second wait time\n",
      "429\n",
      "try 10 second wait time\n",
      "429\n",
      "try 10 second wait time\n",
      "429\n",
      "try 10 second wait time\n",
      "429\n",
      "try 10 second wait time\n",
      "429\n",
      "try 10 second wait time\n",
      "429\n",
      "try 10 second wait time\n",
      "429\n",
      "try 10 second wait time\n",
      "429\n",
      "try 10 second wait time\n",
      "200\n",
      "total wait time :  92.25800323486328\n",
      "recovery api cost\n"
     ]
    },
    {
     "name": "stderr",
     "output_type": "stream",
     "text": [
      "\r",
      "  6%|█▉                               | 603/10000 [8:26:07<164:12:04, 62.91s/it]"
     ]
    },
    {
     "name": "stdout",
     "output_type": "stream",
     "text": [
      "KR_5733890735의 데이터 수집이 완료되었습니다\n",
      "KR_5733890813의 데이터 수집을 시작합니다.\n"
     ]
    },
    {
     "name": "stderr",
     "output_type": "stream",
     "text": [
      "\r",
      "  6%|█▉                               | 604/10000 [8:26:21<125:54:58, 48.24s/it]"
     ]
    },
    {
     "name": "stdout",
     "output_type": "stream",
     "text": [
      "KR_5733890813의 데이터 수집이 완료되었습니다\n",
      "KR_5733893095의 데이터 수집을 시작합니다.\n"
     ]
    },
    {
     "name": "stderr",
     "output_type": "stream",
     "text": [
      "\r",
      "  6%|██                                | 605/10000 [8:26:34<98:47:39, 37.86s/it]"
     ]
    },
    {
     "name": "stdout",
     "output_type": "stream",
     "text": [
      "KR_5733893095의 데이터 수집이 완료되었습니다\n",
      "KR_5733893326의 데이터 수집을 시작합니다.\n",
      "api cost full : infinite loop start\n",
      "try 10 second wait time\n",
      "429\n",
      "try 10 second wait time\n",
      "429\n",
      "try 10 second wait time\n",
      "429\n",
      "try 10 second wait time\n",
      "429\n",
      "try 10 second wait time\n",
      "429\n",
      "try 10 second wait time\n",
      "429\n",
      "try 10 second wait time\n",
      "429\n",
      "try 10 second wait time\n",
      "429\n",
      "try 10 second wait time\n",
      "200\n",
      "total wait time :  92.76169395446777\n",
      "recovery api cost\n"
     ]
    },
    {
     "name": "stderr",
     "output_type": "stream",
     "text": [
      "\r",
      "  6%|█▉                               | 606/10000 [8:28:21<152:49:19, 58.56s/it]"
     ]
    },
    {
     "name": "stdout",
     "output_type": "stream",
     "text": [
      "KR_5733893326의 데이터 수집이 완료되었습니다\n",
      "KR_5733893913의 데이터 수집을 시작합니다.\n"
     ]
    },
    {
     "name": "stderr",
     "output_type": "stream",
     "text": [
      "\r",
      "  6%|██                               | 607/10000 [8:28:34<117:02:38, 44.86s/it]"
     ]
    },
    {
     "name": "stdout",
     "output_type": "stream",
     "text": [
      "KR_5733893913의 데이터 수집이 완료되었습니다\n",
      "KR_5733894726의 데이터 수집을 시작합니다.\n",
      "api cost full : infinite loop start\n",
      "try 10 second wait time\n",
      "429\n",
      "try 10 second wait time\n",
      "429\n",
      "try 10 second wait time\n",
      "429\n",
      "try 10 second wait time\n",
      "429\n",
      "try 10 second wait time\n",
      "429\n",
      "try 10 second wait time\n",
      "429\n",
      "try 10 second wait time\n",
      "429\n",
      "try 10 second wait time\n",
      "429\n",
      "try 10 second wait time\n",
      "200\n",
      "total wait time :  92.26910591125488\n",
      "recovery api cost\n"
     ]
    },
    {
     "name": "stderr",
     "output_type": "stream",
     "text": [
      "\r",
      "  6%|██                               | 608/10000 [8:30:20<164:38:19, 63.11s/it]"
     ]
    },
    {
     "name": "stdout",
     "output_type": "stream",
     "text": [
      "KR_5733894726의 데이터 수집이 완료되었습니다\n",
      "KR_5733895653의 데이터 수집을 시작합니다.\n"
     ]
    },
    {
     "name": "stderr",
     "output_type": "stream",
     "text": [
      "\r",
      "  6%|██                               | 609/10000 [8:30:33<125:27:03, 48.09s/it]"
     ]
    },
    {
     "name": "stdout",
     "output_type": "stream",
     "text": [
      "KR_5733895653의 데이터 수집이 완료되었습니다\n",
      "KR_5733896434의 데이터 수집을 시작합니다.\n"
     ]
    },
    {
     "name": "stderr",
     "output_type": "stream",
     "text": [
      "\r",
      "  6%|██                                | 610/10000 [8:30:45<97:41:48, 37.46s/it]"
     ]
    },
    {
     "name": "stdout",
     "output_type": "stream",
     "text": [
      "KR_5733896434의 데이터 수집이 완료되었습니다\n",
      "KR_5733897275의 데이터 수집을 시작합니다.\n",
      "api cost full : infinite loop start\n",
      "try 10 second wait time\n",
      "429\n",
      "try 10 second wait time\n",
      "429\n",
      "try 10 second wait time\n",
      "429\n",
      "try 10 second wait time\n",
      "429\n",
      "try 10 second wait time\n",
      "429\n",
      "try 10 second wait time\n",
      "429\n",
      "try 10 second wait time\n",
      "429\n",
      "try 10 second wait time\n",
      "429\n",
      "try 10 second wait time\n",
      "200\n",
      "total wait time :  92.35627007484436\n",
      "recovery api cost\n"
     ]
    },
    {
     "name": "stderr",
     "output_type": "stream",
     "text": [
      "\r",
      "  6%|██                               | 611/10000 [8:32:31<151:19:04, 58.02s/it]"
     ]
    },
    {
     "name": "stdout",
     "output_type": "stream",
     "text": [
      "KR_5733897275의 데이터 수집이 완료되었습니다\n",
      "KR_5733897511의 데이터 수집을 시작합니다.\n"
     ]
    },
    {
     "name": "stderr",
     "output_type": "stream",
     "text": [
      "\r",
      "  6%|██                               | 612/10000 [8:32:45<116:48:07, 44.79s/it]"
     ]
    },
    {
     "name": "stdout",
     "output_type": "stream",
     "text": [
      "KR_5733897511의 데이터 수집이 완료되었습니다\n",
      "KR_5733899221의 데이터 수집을 시작합니다.\n",
      "api cost full : infinite loop start\n",
      "try 10 second wait time\n",
      "429\n",
      "try 10 second wait time\n",
      "429\n",
      "try 10 second wait time\n",
      "429\n",
      "try 10 second wait time\n",
      "429\n",
      "try 10 second wait time\n",
      "429\n",
      "try 10 second wait time\n",
      "429\n",
      "try 10 second wait time\n",
      "429\n",
      "try 10 second wait time\n",
      "429\n",
      "try 10 second wait time\n",
      "200\n",
      "total wait time :  92.73513770103455\n",
      "recovery api cost\n"
     ]
    },
    {
     "name": "stderr",
     "output_type": "stream",
     "text": [
      "\r",
      "  6%|██                               | 613/10000 [8:34:32<164:52:02, 63.23s/it]"
     ]
    },
    {
     "name": "stdout",
     "output_type": "stream",
     "text": [
      "KR_5733899221의 데이터 수집이 완료되었습니다\n",
      "KR_5733899401의 데이터 수집을 시작합니다.\n"
     ]
    },
    {
     "name": "stderr",
     "output_type": "stream",
     "text": [
      "\r",
      "  6%|██                               | 614/10000 [8:34:45<125:42:11, 48.21s/it]"
     ]
    },
    {
     "name": "stdout",
     "output_type": "stream",
     "text": [
      "KR_5733899401의 데이터 수집이 완료되었습니다\n",
      "KR_5733899850의 데이터 수집을 시작합니다.\n"
     ]
    },
    {
     "name": "stderr",
     "output_type": "stream",
     "text": [
      "\r",
      "  6%|██                                | 615/10000 [8:34:58<98:28:12, 37.77s/it]"
     ]
    },
    {
     "name": "stdout",
     "output_type": "stream",
     "text": [
      "KR_5733899850의 데이터 수집이 완료되었습니다\n",
      "KR_5733899972의 데이터 수집을 시작합니다.\n",
      "api cost full : infinite loop start\n",
      "try 10 second wait time\n",
      "429\n",
      "try 10 second wait time\n",
      "429\n",
      "try 10 second wait time\n",
      "429\n",
      "try 10 second wait time\n",
      "429\n",
      "try 10 second wait time\n",
      "429\n",
      "try 10 second wait time\n",
      "429\n",
      "try 10 second wait time\n",
      "429\n",
      "try 10 second wait time\n",
      "429\n",
      "try 10 second wait time\n",
      "200\n",
      "total wait time :  92.32055568695068\n",
      "recovery api cost\n"
     ]
    },
    {
     "name": "stderr",
     "output_type": "stream",
     "text": [
      "\r",
      "  6%|██                               | 616/10000 [8:36:44<151:53:57, 58.27s/it]"
     ]
    },
    {
     "name": "stdout",
     "output_type": "stream",
     "text": [
      "KR_5733899972의 데이터 수집이 완료되었습니다\n",
      "KR_5733900064의 데이터 수집을 시작합니다.\n"
     ]
    },
    {
     "name": "stderr",
     "output_type": "stream",
     "text": [
      "\r",
      "  6%|██                               | 617/10000 [8:36:58<117:07:29, 44.94s/it]"
     ]
    },
    {
     "name": "stdout",
     "output_type": "stream",
     "text": [
      "KR_5733900064의 데이터 수집이 완료되었습니다\n",
      "KR_5733900086의 데이터 수집을 시작합니다.\n",
      "api cost full : infinite loop start\n",
      "try 10 second wait time\n",
      "429\n",
      "try 10 second wait time\n",
      "429\n",
      "try 10 second wait time\n",
      "429\n",
      "try 10 second wait time\n",
      "429\n",
      "try 10 second wait time\n",
      "429\n",
      "try 10 second wait time\n",
      "429\n",
      "try 10 second wait time\n",
      "429\n",
      "try 10 second wait time\n",
      "429\n",
      "try 10 second wait time\n",
      "200\n",
      "total wait time :  92.34504103660583\n",
      "recovery api cost\n"
     ]
    },
    {
     "name": "stderr",
     "output_type": "stream",
     "text": [
      "\r",
      "  6%|██                               | 618/10000 [8:38:44<164:41:43, 63.20s/it]"
     ]
    },
    {
     "name": "stdout",
     "output_type": "stream",
     "text": [
      "KR_5733900086의 데이터 수집이 완료되었습니다\n",
      "KR_5733900199의 데이터 수집을 시작합니다.\n"
     ]
    },
    {
     "name": "stderr",
     "output_type": "stream",
     "text": [
      "\r",
      "  6%|██                               | 619/10000 [8:38:58<126:38:42, 48.60s/it]"
     ]
    },
    {
     "name": "stdout",
     "output_type": "stream",
     "text": [
      "KR_5733900199의 데이터 수집이 완료되었습니다\n",
      "KR_5733902815의 데이터 수집을 시작합니다.\n"
     ]
    },
    {
     "name": "stderr",
     "output_type": "stream",
     "text": [
      "\r",
      "  6%|██                                | 620/10000 [8:39:13<99:38:51, 38.24s/it]"
     ]
    },
    {
     "name": "stdout",
     "output_type": "stream",
     "text": [
      "KR_5733902815의 데이터 수집이 완료되었습니다\n",
      "KR_5733903691의 데이터 수집을 시작합니다.\n",
      "api cost full : infinite loop start\n",
      "try 10 second wait time\n",
      "429\n",
      "try 10 second wait time\n",
      "429\n",
      "try 10 second wait time\n",
      "429\n",
      "try 10 second wait time\n",
      "429\n",
      "try 10 second wait time\n",
      "429\n",
      "try 10 second wait time\n",
      "429\n",
      "try 10 second wait time\n",
      "429\n",
      "try 10 second wait time\n",
      "429\n",
      "try 10 second wait time\n",
      "200\n",
      "total wait time :  92.74162101745605\n",
      "recovery api cost\n"
     ]
    },
    {
     "name": "stderr",
     "output_type": "stream",
     "text": [
      "\r",
      "  6%|██                               | 621/10000 [8:40:59<153:10:41, 58.80s/it]"
     ]
    },
    {
     "name": "stdout",
     "output_type": "stream",
     "text": [
      "KR_5733903691의 데이터 수집이 완료되었습니다\n",
      "KR_5733904264의 데이터 수집을 시작합니다.\n"
     ]
    },
    {
     "name": "stderr",
     "output_type": "stream",
     "text": [
      "\r",
      "  6%|██                               | 622/10000 [8:41:13<117:52:05, 45.25s/it]"
     ]
    },
    {
     "name": "stdout",
     "output_type": "stream",
     "text": [
      "KR_5733904264의 데이터 수집이 완료되었습니다\n",
      "KR_5733904322의 데이터 수집을 시작합니다.\n",
      "api cost full : infinite loop start\n",
      "try 10 second wait time\n",
      "429\n",
      "try 10 second wait time\n",
      "429\n",
      "try 10 second wait time\n",
      "429\n",
      "try 10 second wait time\n",
      "429\n",
      "try 10 second wait time\n",
      "429\n",
      "try 10 second wait time\n",
      "429\n",
      "try 10 second wait time\n",
      "429\n",
      "try 10 second wait time\n",
      "429\n",
      "try 10 second wait time\n",
      "200\n",
      "total wait time :  92.84011220932007\n",
      "recovery api cost\n"
     ]
    },
    {
     "name": "stderr",
     "output_type": "stream",
     "text": [
      "\r",
      "  6%|██                               | 623/10000 [8:43:00<165:55:53, 63.70s/it]"
     ]
    },
    {
     "name": "stdout",
     "output_type": "stream",
     "text": [
      "KR_5733904322의 데이터 수집이 완료되었습니다\n",
      "KR_5733904351의 데이터 수집을 시작합니다.\n"
     ]
    },
    {
     "name": "stderr",
     "output_type": "stream",
     "text": [
      "\r",
      "  6%|██                               | 624/10000 [8:43:13<126:25:03, 48.54s/it]"
     ]
    },
    {
     "name": "stdout",
     "output_type": "stream",
     "text": [
      "KR_5733904351의 데이터 수집이 완료되었습니다\n",
      "KR_5733906075의 데이터 수집을 시작합니다.\n"
     ]
    },
    {
     "name": "stderr",
     "output_type": "stream",
     "text": [
      "\r",
      "  6%|██▏                               | 625/10000 [8:43:26<98:46:12, 37.93s/it]"
     ]
    },
    {
     "name": "stdout",
     "output_type": "stream",
     "text": [
      "KR_5733906075의 데이터 수집이 완료되었습니다\n",
      "KR_5733907930의 데이터 수집을 시작합니다.\n",
      "api cost full : infinite loop start\n",
      "try 10 second wait time\n",
      "429\n",
      "try 10 second wait time\n",
      "429\n",
      "try 10 second wait time\n",
      "429\n",
      "try 10 second wait time\n",
      "429\n",
      "try 10 second wait time\n",
      "429\n",
      "try 10 second wait time\n",
      "429\n",
      "try 10 second wait time\n",
      "429\n",
      "try 10 second wait time\n",
      "429\n",
      "try 10 second wait time\n",
      "200\n",
      "total wait time :  92.34817481040955\n",
      "recovery api cost\n"
     ]
    },
    {
     "name": "stderr",
     "output_type": "stream",
     "text": [
      "\r",
      "  6%|██                               | 626/10000 [8:45:12<152:05:46, 58.41s/it]"
     ]
    },
    {
     "name": "stdout",
     "output_type": "stream",
     "text": [
      "KR_5733907930의 데이터 수집이 완료되었습니다\n",
      "KR_5733908088의 데이터 수집을 시작합니다.\n"
     ]
    },
    {
     "name": "stderr",
     "output_type": "stream",
     "text": [
      "\r",
      "  6%|██                               | 627/10000 [8:45:25<116:33:52, 44.77s/it]"
     ]
    },
    {
     "name": "stdout",
     "output_type": "stream",
     "text": [
      "KR_5733908088의 데이터 수집이 완료되었습니다\n",
      "KR_5733908602의 데이터 수집을 시작합니다.\n",
      "api cost full : infinite loop start\n",
      "try 10 second wait time\n",
      "429\n",
      "try 10 second wait time\n",
      "429\n",
      "try 10 second wait time\n",
      "429\n",
      "try 10 second wait time\n",
      "429\n",
      "try 10 second wait time\n",
      "429\n",
      "try 10 second wait time\n",
      "429\n",
      "try 10 second wait time\n",
      "429\n",
      "try 10 second wait time\n",
      "429\n",
      "try 10 second wait time\n",
      "200\n",
      "total wait time :  92.53941202163696\n",
      "recovery api cost\n"
     ]
    },
    {
     "name": "stderr",
     "output_type": "stream",
     "text": [
      "\r",
      "  6%|██                               | 628/10000 [8:47:12<164:59:10, 63.37s/it]"
     ]
    },
    {
     "name": "stdout",
     "output_type": "stream",
     "text": [
      "KR_5733908602의 데이터 수집이 완료되었습니다\n",
      "KR_5733910700의 데이터 수집을 시작합니다.\n"
     ]
    },
    {
     "name": "stderr",
     "output_type": "stream",
     "text": [
      "\r",
      "  6%|██                               | 629/10000 [8:47:26<126:10:30, 48.47s/it]"
     ]
    },
    {
     "name": "stdout",
     "output_type": "stream",
     "text": [
      "KR_5733910700의 데이터 수집이 완료되었습니다\n",
      "KR_5733910970의 데이터 수집을 시작합니다.\n"
     ]
    },
    {
     "name": "stderr",
     "output_type": "stream",
     "text": [
      "\r",
      "  6%|██▏                               | 630/10000 [8:47:39<98:48:34, 37.96s/it]"
     ]
    },
    {
     "name": "stdout",
     "output_type": "stream",
     "text": [
      "KR_5733910970의 데이터 수집이 완료되었습니다\n",
      "KR_5733911482의 데이터 수집을 시작합니다.\n",
      "api cost full : infinite loop start\n",
      "try 10 second wait time\n",
      "429\n",
      "try 10 second wait time\n",
      "429\n",
      "try 10 second wait time\n",
      "429\n",
      "try 10 second wait time\n",
      "429\n",
      "try 10 second wait time\n",
      "429\n",
      "try 10 second wait time\n",
      "429\n",
      "try 10 second wait time\n",
      "429\n",
      "try 10 second wait time\n",
      "429\n",
      "try 10 second wait time\n",
      "200\n",
      "total wait time :  92.3272180557251\n",
      "recovery api cost\n"
     ]
    },
    {
     "name": "stderr",
     "output_type": "stream",
     "text": [
      "\r",
      "  6%|██                               | 631/10000 [8:49:25<151:38:56, 58.27s/it]"
     ]
    },
    {
     "name": "stdout",
     "output_type": "stream",
     "text": [
      "KR_5733911482의 데이터 수집이 완료되었습니다\n",
      "KR_5733912089의 데이터 수집을 시작합니다.\n"
     ]
    },
    {
     "name": "stderr",
     "output_type": "stream",
     "text": [
      "\r",
      "  6%|██                               | 632/10000 [8:49:38<116:44:28, 44.86s/it]"
     ]
    },
    {
     "name": "stdout",
     "output_type": "stream",
     "text": [
      "KR_5733912089의 데이터 수집이 완료되었습니다\n",
      "KR_5733912209의 데이터 수집을 시작합니다.\n",
      "api cost full : infinite loop start\n",
      "try 10 second wait time\n",
      "429\n",
      "try 10 second wait time\n",
      "429\n",
      "try 10 second wait time\n",
      "429\n",
      "try 10 second wait time\n",
      "429\n",
      "try 10 second wait time\n",
      "429\n",
      "try 10 second wait time\n",
      "429\n",
      "try 10 second wait time\n",
      "429\n",
      "try 10 second wait time\n",
      "429\n",
      "try 10 second wait time\n",
      "200\n",
      "total wait time :  92.23652195930481\n",
      "recovery api cost\n"
     ]
    },
    {
     "name": "stderr",
     "output_type": "stream",
     "text": [
      "\r",
      "  6%|██                               | 633/10000 [8:51:24<164:20:57, 63.16s/it]"
     ]
    },
    {
     "name": "stdout",
     "output_type": "stream",
     "text": [
      "KR_5733912209의 데이터 수집이 완료되었습니다\n",
      "KR_5733913126의 데이터 수집을 시작합니다.\n"
     ]
    },
    {
     "name": "stderr",
     "output_type": "stream",
     "text": [
      "\r",
      "  6%|██                               | 634/10000 [8:51:37<124:59:35, 48.04s/it]"
     ]
    },
    {
     "name": "stdout",
     "output_type": "stream",
     "text": [
      "KR_5733913126의 데이터 수집이 완료되었습니다\n",
      "KR_5733913204의 데이터 수집을 시작합니다.\n"
     ]
    },
    {
     "name": "stderr",
     "output_type": "stream",
     "text": [
      "\r",
      "  6%|██▏                               | 635/10000 [8:51:50<97:44:37, 37.57s/it]"
     ]
    },
    {
     "name": "stdout",
     "output_type": "stream",
     "text": [
      "KR_5733913204의 데이터 수집이 완료되었습니다\n",
      "KR_5733914856의 데이터 수집을 시작합니다.\n",
      "api cost full : infinite loop start\n",
      "try 10 second wait time\n",
      "429\n",
      "try 10 second wait time\n",
      "429\n",
      "try 10 second wait time\n",
      "429\n",
      "try 10 second wait time\n",
      "429\n",
      "try 10 second wait time\n",
      "429\n",
      "try 10 second wait time\n",
      "429\n",
      "try 10 second wait time\n",
      "429\n",
      "try 10 second wait time\n",
      "429\n",
      "try 10 second wait time\n",
      "200\n",
      "total wait time :  92.42761278152466\n",
      "recovery api cost\n"
     ]
    },
    {
     "name": "stderr",
     "output_type": "stream",
     "text": [
      "\r",
      "  6%|██                               | 636/10000 [8:53:36<150:51:56, 58.00s/it]"
     ]
    },
    {
     "name": "stdout",
     "output_type": "stream",
     "text": [
      "KR_5733914856의 데이터 수집이 완료되었습니다\n",
      "KR_5733915205의 데이터 수집을 시작합니다.\n"
     ]
    },
    {
     "name": "stderr",
     "output_type": "stream",
     "text": [
      "\r",
      "  6%|██                               | 637/10000 [8:53:49<115:44:19, 44.50s/it]"
     ]
    },
    {
     "name": "stdout",
     "output_type": "stream",
     "text": [
      "KR_5733915205의 데이터 수집이 완료되었습니다\n",
      "KR_5733915485의 데이터 수집을 시작합니다.\n",
      "api cost full : infinite loop start\n",
      "try 10 second wait time\n",
      "429\n",
      "try 10 second wait time\n",
      "429\n",
      "try 10 second wait time\n",
      "429\n",
      "try 10 second wait time\n",
      "429\n",
      "try 10 second wait time\n",
      "429\n",
      "try 10 second wait time\n",
      "429\n",
      "try 10 second wait time\n",
      "429\n",
      "try 10 second wait time\n",
      "429\n",
      "try 10 second wait time\n",
      "200\n",
      "total wait time :  92.4288399219513\n",
      "recovery api cost\n"
     ]
    },
    {
     "name": "stderr",
     "output_type": "stream",
     "text": [
      "\r",
      "  6%|██                               | 638/10000 [8:55:35<163:43:52, 62.96s/it]"
     ]
    },
    {
     "name": "stdout",
     "output_type": "stream",
     "text": [
      "KR_5733915485의 데이터 수집이 완료되었습니다\n",
      "KR_5733916853의 데이터 수집을 시작합니다.\n"
     ]
    },
    {
     "name": "stderr",
     "output_type": "stream",
     "text": [
      "\r",
      "  6%|██                               | 639/10000 [8:55:48<125:16:12, 48.18s/it]"
     ]
    },
    {
     "name": "stdout",
     "output_type": "stream",
     "text": [
      "KR_5733916853의 데이터 수집이 완료되었습니다\n",
      "KR_5733916913의 데이터 수집을 시작합니다.\n"
     ]
    },
    {
     "name": "stderr",
     "output_type": "stream",
     "text": [
      "\r",
      "  6%|██▏                               | 640/10000 [8:56:02<97:55:35, 37.66s/it]"
     ]
    },
    {
     "name": "stdout",
     "output_type": "stream",
     "text": [
      "KR_5733916913의 데이터 수집이 완료되었습니다\n",
      "KR_5733916983의 데이터 수집을 시작합니다.\n",
      "api cost full : infinite loop start\n",
      "try 10 second wait time\n",
      "429\n",
      "try 10 second wait time\n",
      "429\n",
      "try 10 second wait time\n",
      "429\n",
      "try 10 second wait time\n",
      "429\n",
      "try 10 second wait time\n",
      "429\n",
      "try 10 second wait time\n",
      "429\n",
      "try 10 second wait time\n",
      "429\n",
      "try 10 second wait time\n",
      "429\n",
      "try 10 second wait time\n",
      "200\n",
      "total wait time :  92.45286297798157\n",
      "recovery api cost\n"
     ]
    },
    {
     "name": "stderr",
     "output_type": "stream",
     "text": [
      "\r",
      "  6%|██                               | 641/10000 [8:57:48<151:13:02, 58.17s/it]"
     ]
    },
    {
     "name": "stdout",
     "output_type": "stream",
     "text": [
      "KR_5733916983의 데이터 수집이 완료되었습니다\n",
      "KR_5733918058의 데이터 수집을 시작합니다.\n"
     ]
    },
    {
     "name": "stderr",
     "output_type": "stream",
     "text": [
      "\r",
      "  6%|██                               | 642/10000 [8:58:01<115:55:56, 44.60s/it]"
     ]
    },
    {
     "name": "stdout",
     "output_type": "stream",
     "text": [
      "KR_5733918058의 데이터 수집이 완료되었습니다\n",
      "KR_5733919558의 데이터 수집을 시작합니다.\n",
      "api cost full : infinite loop start\n",
      "try 10 second wait time\n",
      "429\n",
      "try 10 second wait time\n",
      "429\n",
      "try 10 second wait time\n",
      "429\n",
      "try 10 second wait time\n",
      "429\n",
      "try 10 second wait time\n",
      "429\n",
      "try 10 second wait time\n",
      "429\n",
      "try 10 second wait time\n",
      "429\n",
      "try 10 second wait time\n",
      "429\n",
      "try 10 second wait time\n",
      "200\n",
      "total wait time :  92.42551398277283\n",
      "recovery api cost\n"
     ]
    },
    {
     "name": "stderr",
     "output_type": "stream",
     "text": [
      "\r",
      "  6%|██                               | 643/10000 [8:59:47<163:52:48, 63.05s/it]"
     ]
    },
    {
     "name": "stdout",
     "output_type": "stream",
     "text": [
      "KR_5733919558의 데이터 수집이 완료되었습니다\n",
      "KR_5733919628의 데이터 수집을 시작합니다.\n"
     ]
    },
    {
     "name": "stderr",
     "output_type": "stream",
     "text": [
      "\r",
      "  6%|██▏                              | 644/10000 [9:00:02<126:27:04, 48.66s/it]"
     ]
    },
    {
     "name": "stdout",
     "output_type": "stream",
     "text": [
      "KR_5733919628의 데이터 수집이 완료되었습니다\n",
      "KR_5733920458의 데이터 수집을 시작합니다.\n"
     ]
    },
    {
     "name": "stderr",
     "output_type": "stream",
     "text": [
      "\r",
      "  6%|██▏                               | 645/10000 [9:00:16<99:47:23, 38.40s/it]"
     ]
    },
    {
     "name": "stdout",
     "output_type": "stream",
     "text": [
      "KR_5733920458의 데이터 수집이 완료되었습니다\n",
      "KR_5733920829의 데이터 수집을 시작합니다.\n",
      "api cost full : infinite loop start\n",
      "try 10 second wait time\n",
      "429\n",
      "try 10 second wait time\n",
      "429\n",
      "try 10 second wait time\n",
      "429\n",
      "try 10 second wait time\n",
      "429\n",
      "try 10 second wait time\n",
      "429\n",
      "try 10 second wait time\n",
      "429\n",
      "try 10 second wait time\n",
      "429\n",
      "try 10 second wait time\n",
      "429\n",
      "try 10 second wait time\n",
      "200\n",
      "total wait time :  92.31121516227722\n",
      "recovery api cost\n"
     ]
    },
    {
     "name": "stderr",
     "output_type": "stream",
     "text": [
      "\r",
      "  6%|██▏                              | 646/10000 [9:02:02<152:33:15, 58.71s/it]"
     ]
    },
    {
     "name": "stdout",
     "output_type": "stream",
     "text": [
      "KR_5733920829의 데이터 수집이 완료되었습니다\n",
      "KR_5733922189의 데이터 수집을 시작합니다.\n"
     ]
    },
    {
     "name": "stderr",
     "output_type": "stream",
     "text": [
      "\r",
      "  6%|██▏                              | 647/10000 [9:02:15<117:04:34, 45.06s/it]"
     ]
    },
    {
     "name": "stdout",
     "output_type": "stream",
     "text": [
      "KR_5733922189의 데이터 수집이 완료되었습니다\n",
      "KR_5733923129의 데이터 수집을 시작합니다.\n",
      "api cost full : infinite loop start\n",
      "try 10 second wait time\n",
      "429\n",
      "try 10 second wait time\n",
      "429\n",
      "try 10 second wait time\n",
      "429\n",
      "try 10 second wait time\n",
      "429\n",
      "try 10 second wait time\n",
      "429\n",
      "try 10 second wait time\n",
      "429\n",
      "try 10 second wait time\n",
      "429\n",
      "try 10 second wait time\n",
      "429\n",
      "try 10 second wait time\n",
      "200\n",
      "total wait time :  92.63507914543152\n",
      "recovery api cost\n"
     ]
    },
    {
     "name": "stderr",
     "output_type": "stream",
     "text": [
      "\r",
      "  6%|██▏                              | 648/10000 [9:04:01<164:25:47, 63.30s/it]"
     ]
    },
    {
     "name": "stdout",
     "output_type": "stream",
     "text": [
      "KR_5733923129의 데이터 수집이 완료되었습니다\n",
      "KR_5733923400의 데이터 수집을 시작합니다.\n"
     ]
    },
    {
     "name": "stderr",
     "output_type": "stream",
     "text": [
      "\r",
      "  6%|██▏                              | 649/10000 [9:04:14<125:13:53, 48.21s/it]"
     ]
    },
    {
     "name": "stdout",
     "output_type": "stream",
     "text": [
      "KR_5733923400의 데이터 수집이 완료되었습니다\n",
      "KR_5733923954의 데이터 수집을 시작합니다.\n"
     ]
    },
    {
     "name": "stderr",
     "output_type": "stream",
     "text": [
      "\r",
      "  6%|██▏                               | 650/10000 [9:04:29<98:52:53, 38.07s/it]"
     ]
    },
    {
     "name": "stdout",
     "output_type": "stream",
     "text": [
      "KR_5733923954의 데이터 수집이 완료되었습니다\n",
      "KR_5733925956의 데이터 수집을 시작합니다.\n",
      "api cost full : infinite loop start\n",
      "try 10 second wait time\n",
      "429\n",
      "try 10 second wait time\n",
      "429\n",
      "try 10 second wait time\n",
      "429\n",
      "try 10 second wait time\n",
      "429\n",
      "try 10 second wait time\n",
      "429\n",
      "try 10 second wait time\n",
      "429\n",
      "try 10 second wait time\n",
      "429\n",
      "try 10 second wait time\n",
      "429\n",
      "try 10 second wait time\n",
      "200\n",
      "total wait time :  92.66040229797363\n",
      "recovery api cost\n"
     ]
    },
    {
     "name": "stderr",
     "output_type": "stream",
     "text": [
      "\r",
      "  7%|██▏                              | 651/10000 [9:06:16<152:29:09, 58.72s/it]"
     ]
    },
    {
     "name": "stdout",
     "output_type": "stream",
     "text": [
      "KR_5733925956의 데이터 수집이 완료되었습니다\n",
      "KR_5733926498의 데이터 수집을 시작합니다.\n"
     ]
    },
    {
     "name": "stderr",
     "output_type": "stream",
     "text": [
      "\r",
      "  7%|██▏                              | 652/10000 [9:06:30<117:59:39, 45.44s/it]"
     ]
    },
    {
     "name": "stdout",
     "output_type": "stream",
     "text": [
      "KR_5733926498의 데이터 수집이 완료되었습니다\n",
      "KR_5733926602의 데이터 수집을 시작합니다.\n",
      "api cost full : infinite loop start\n",
      "try 10 second wait time\n",
      "429\n",
      "try 10 second wait time\n",
      "429\n",
      "try 10 second wait time\n",
      "429\n",
      "try 10 second wait time\n",
      "429\n",
      "try 10 second wait time\n",
      "429\n",
      "try 10 second wait time\n",
      "429\n",
      "try 10 second wait time\n",
      "429\n",
      "try 10 second wait time\n",
      "429\n",
      "try 10 second wait time\n",
      "200\n",
      "total wait time :  92.4162130355835\n",
      "recovery api cost\n"
     ]
    },
    {
     "name": "stderr",
     "output_type": "stream",
     "text": [
      "\r",
      "  7%|██▏                              | 653/10000 [9:08:17<165:55:24, 63.91s/it]"
     ]
    },
    {
     "name": "stdout",
     "output_type": "stream",
     "text": [
      "KR_5733926602의 데이터 수집이 완료되었습니다\n",
      "KR_5733926806의 데이터 수집을 시작합니다.\n"
     ]
    },
    {
     "name": "stderr",
     "output_type": "stream",
     "text": [
      "\r",
      "  7%|██▏                              | 654/10000 [9:08:33<128:18:56, 49.43s/it]"
     ]
    },
    {
     "name": "stdout",
     "output_type": "stream",
     "text": [
      "KR_5733926806의 데이터 수집이 완료되었습니다\n",
      "KR_5733927820의 데이터 수집을 시작합니다.\n"
     ]
    },
    {
     "name": "stderr",
     "output_type": "stream",
     "text": [
      "\r",
      "  7%|██▏                              | 655/10000 [9:08:48<101:32:09, 39.11s/it]"
     ]
    },
    {
     "name": "stdout",
     "output_type": "stream",
     "text": [
      "KR_5733927820의 데이터 수집이 완료되었습니다\n",
      "KR_5733928569의 데이터 수집을 시작합니다.\n",
      "api cost full : infinite loop start\n",
      "try 10 second wait time\n",
      "429\n",
      "try 10 second wait time\n",
      "429\n",
      "try 10 second wait time\n",
      "429\n",
      "try 10 second wait time\n",
      "429\n",
      "try 10 second wait time\n",
      "429\n",
      "try 10 second wait time\n",
      "429\n",
      "try 10 second wait time\n",
      "429\n",
      "try 10 second wait time\n",
      "200\n",
      "total wait time :  82.07326197624207\n",
      "recovery api cost\n"
     ]
    },
    {
     "name": "stderr",
     "output_type": "stream",
     "text": [
      "\r",
      "  7%|██▏                              | 656/10000 [9:10:24<145:38:51, 56.11s/it]"
     ]
    },
    {
     "name": "stdout",
     "output_type": "stream",
     "text": [
      "KR_5733928569의 데이터 수집이 완료되었습니다\n",
      "KR_5733928734의 데이터 수집을 시작합니다.\n"
     ]
    },
    {
     "name": "stderr",
     "output_type": "stream",
     "text": [
      "\r",
      "  7%|██▏                              | 657/10000 [9:10:37<112:28:25, 43.34s/it]"
     ]
    },
    {
     "name": "stdout",
     "output_type": "stream",
     "text": [
      "KR_5733928734의 데이터 수집이 완료되었습니다\n",
      "KR_5733928901의 데이터 수집을 시작합니다.\n",
      "api cost full : infinite loop start\n",
      "try 10 second wait time\n",
      "429\n",
      "try 10 second wait time\n",
      "429\n",
      "try 10 second wait time\n",
      "429\n",
      "try 10 second wait time\n",
      "429\n",
      "try 10 second wait time\n",
      "429\n",
      "try 10 second wait time\n",
      "429\n",
      "try 10 second wait time\n",
      "429\n",
      "try 10 second wait time\n",
      "429\n",
      "try 10 second wait time\n",
      "200\n",
      "total wait time :  92.35291695594788\n",
      "recovery api cost\n"
     ]
    },
    {
     "name": "stderr",
     "output_type": "stream",
     "text": [
      "\r",
      "  7%|██▏                              | 658/10000 [9:12:22<160:39:58, 61.91s/it]"
     ]
    },
    {
     "name": "stdout",
     "output_type": "stream",
     "text": [
      "KR_5733928901의 데이터 수집이 완료되었습니다\n",
      "KR_5733929050의 데이터 수집을 시작합니다.\n"
     ]
    },
    {
     "name": "stderr",
     "output_type": "stream",
     "text": [
      "\r",
      "  7%|██▏                              | 659/10000 [9:12:36<123:09:17, 47.46s/it]"
     ]
    },
    {
     "name": "stdout",
     "output_type": "stream",
     "text": [
      "KR_5733929050의 데이터 수집이 완료되었습니다\n",
      "KR_5733929414의 데이터 수집을 시작합니다.\n"
     ]
    },
    {
     "name": "stderr",
     "output_type": "stream",
     "text": [
      "\r",
      "  7%|██▏                               | 660/10000 [9:12:50<97:00:47, 37.39s/it]"
     ]
    },
    {
     "name": "stdout",
     "output_type": "stream",
     "text": [
      "KR_5733929414의 데이터 수집이 완료되었습니다\n",
      "KR_5733929473의 데이터 수집을 시작합니다.\n",
      "api cost full : infinite loop start\n",
      "try 10 second wait time\n",
      "429\n",
      "try 10 second wait time\n",
      "429\n",
      "try 10 second wait time\n",
      "429\n",
      "try 10 second wait time\n",
      "429\n",
      "try 10 second wait time\n",
      "429\n",
      "try 10 second wait time\n",
      "429\n",
      "try 10 second wait time\n",
      "429\n",
      "try 10 second wait time\n",
      "429\n",
      "try 10 second wait time\n",
      "200\n",
      "total wait time :  92.39144396781921\n",
      "recovery api cost\n"
     ]
    },
    {
     "name": "stderr",
     "output_type": "stream",
     "text": [
      "\r",
      "  7%|██▏                              | 661/10000 [9:14:36<150:31:32, 58.02s/it]"
     ]
    },
    {
     "name": "stdout",
     "output_type": "stream",
     "text": [
      "KR_5733929473의 데이터 수집이 완료되었습니다\n",
      "KR_5733929598의 데이터 수집을 시작합니다.\n"
     ]
    },
    {
     "name": "stderr",
     "output_type": "stream",
     "text": [
      "\r",
      "  7%|██▏                              | 662/10000 [9:14:52<117:41:21, 45.37s/it]"
     ]
    },
    {
     "name": "stdout",
     "output_type": "stream",
     "text": [
      "KR_5733929598의 데이터 수집이 완료되었습니다\n",
      "KR_5733930511의 데이터 수집을 시작합니다.\n",
      "api cost full : infinite loop start\n",
      "try 10 second wait time\n",
      "429\n",
      "try 10 second wait time\n",
      "429\n",
      "try 10 second wait time\n",
      "429\n",
      "try 10 second wait time\n",
      "429\n",
      "try 10 second wait time\n",
      "429\n",
      "try 10 second wait time\n",
      "429\n",
      "try 10 second wait time\n",
      "429\n",
      "try 10 second wait time\n",
      "429\n",
      "try 10 second wait time\n",
      "200\n",
      "total wait time :  92.39163589477539\n",
      "recovery api cost\n"
     ]
    },
    {
     "name": "stderr",
     "output_type": "stream",
     "text": [
      "\r",
      "  7%|██▏                              | 663/10000 [9:16:38<164:58:11, 63.61s/it]"
     ]
    },
    {
     "name": "stdout",
     "output_type": "stream",
     "text": [
      "KR_5733930511의 데이터 수집이 완료되었습니다\n",
      "KR_5733930915의 데이터 수집을 시작합니다.\n"
     ]
    },
    {
     "name": "stderr",
     "output_type": "stream",
     "text": [
      "\r",
      "  7%|██▏                              | 664/10000 [9:16:52<126:02:19, 48.60s/it]"
     ]
    },
    {
     "name": "stdout",
     "output_type": "stream",
     "text": [
      "KR_5733930915의 데이터 수집이 완료되었습니다\n",
      "KR_5733931682의 데이터 수집을 시작합니다.\n"
     ]
    },
    {
     "name": "stderr",
     "output_type": "stream",
     "text": [
      "\r",
      "  7%|██▎                               | 665/10000 [9:17:05<98:43:54, 38.08s/it]"
     ]
    },
    {
     "name": "stdout",
     "output_type": "stream",
     "text": [
      "KR_5733931682의 데이터 수집이 완료되었습니다\n",
      "KR_5733931858의 데이터 수집을 시작합니다.\n",
      "api cost full : infinite loop start\n",
      "try 10 second wait time\n",
      "429\n",
      "try 10 second wait time\n",
      "429\n",
      "try 10 second wait time\n",
      "429\n",
      "try 10 second wait time\n",
      "429\n",
      "try 10 second wait time\n",
      "429\n",
      "try 10 second wait time\n",
      "429\n",
      "try 10 second wait time\n",
      "429\n",
      "try 10 second wait time\n",
      "429\n",
      "try 10 second wait time\n",
      "200\n",
      "total wait time :  92.89453506469727\n",
      "recovery api cost\n"
     ]
    },
    {
     "name": "stderr",
     "output_type": "stream",
     "text": [
      "\r",
      "  7%|██▏                              | 666/10000 [9:18:51<151:36:21, 58.47s/it]"
     ]
    },
    {
     "name": "stdout",
     "output_type": "stream",
     "text": [
      "KR_5733931858의 데이터 수집이 완료되었습니다\n",
      "KR_5733932534의 데이터 수집을 시작합니다.\n"
     ]
    },
    {
     "name": "stderr",
     "output_type": "stream",
     "text": [
      "\r",
      "  7%|██▏                              | 667/10000 [9:19:04<115:58:18, 44.73s/it]"
     ]
    },
    {
     "name": "stdout",
     "output_type": "stream",
     "text": [
      "KR_5733932534의 데이터 수집이 완료되었습니다\n",
      "KR_5733934593의 데이터 수집을 시작합니다.\n",
      "api cost full : infinite loop start\n",
      "try 10 second wait time\n",
      "429\n",
      "try 10 second wait time\n",
      "429\n",
      "try 10 second wait time\n",
      "429\n",
      "try 10 second wait time\n",
      "429\n",
      "try 10 second wait time\n",
      "429\n",
      "try 10 second wait time\n",
      "429\n",
      "try 10 second wait time\n",
      "429\n",
      "try 10 second wait time\n",
      "429\n",
      "try 10 second wait time\n",
      "200\n",
      "total wait time :  92.26997494697571\n",
      "recovery api cost\n"
     ]
    },
    {
     "name": "stderr",
     "output_type": "stream",
     "text": [
      "\r",
      "  7%|██▏                              | 668/10000 [9:20:51<164:00:58, 63.27s/it]"
     ]
    },
    {
     "name": "stdout",
     "output_type": "stream",
     "text": [
      "KR_5733934593의 데이터 수집이 완료되었습니다\n",
      "KR_5733934623의 데이터 수집을 시작합니다.\n"
     ]
    },
    {
     "name": "stderr",
     "output_type": "stream",
     "text": [
      "\r",
      "  7%|██▏                              | 669/10000 [9:21:04<125:14:46, 48.32s/it]"
     ]
    },
    {
     "name": "stdout",
     "output_type": "stream",
     "text": [
      "KR_5733934623의 데이터 수집이 완료되었습니다\n",
      "KR_5733934996의 데이터 수집을 시작합니다.\n"
     ]
    },
    {
     "name": "stderr",
     "output_type": "stream",
     "text": [
      "\r",
      "  7%|██▎                               | 670/10000 [9:21:17<98:07:09, 37.86s/it]"
     ]
    },
    {
     "name": "stdout",
     "output_type": "stream",
     "text": [
      "KR_5733934996의 데이터 수집이 완료되었습니다\n",
      "KR_5733936344의 데이터 수집을 시작합니다.\n",
      "api cost full : infinite loop start\n",
      "try 10 second wait time\n",
      "429\n",
      "try 10 second wait time\n",
      "429\n",
      "try 10 second wait time\n",
      "429\n",
      "try 10 second wait time\n",
      "429\n",
      "try 10 second wait time\n",
      "429\n",
      "try 10 second wait time\n",
      "429\n",
      "try 10 second wait time\n",
      "429\n",
      "try 10 second wait time\n",
      "429\n",
      "try 10 second wait time\n",
      "200\n",
      "total wait time :  92.50763607025146\n",
      "recovery api cost\n"
     ]
    },
    {
     "name": "stderr",
     "output_type": "stream",
     "text": [
      "\r",
      "  7%|██▏                              | 671/10000 [9:23:03<150:28:31, 58.07s/it]"
     ]
    },
    {
     "name": "stdout",
     "output_type": "stream",
     "text": [
      "KR_5733936344의 데이터 수집이 완료되었습니다\n",
      "KR_5733936467의 데이터 수집을 시작합니다.\n"
     ]
    },
    {
     "name": "stderr",
     "output_type": "stream",
     "text": [
      "\r",
      "  7%|██▏                              | 672/10000 [9:23:16<116:02:16, 44.78s/it]"
     ]
    },
    {
     "name": "stdout",
     "output_type": "stream",
     "text": [
      "KR_5733936467의 데이터 수집이 완료되었습니다\n",
      "KR_5733936834의 데이터 수집을 시작합니다.\n",
      "api cost full : infinite loop start\n",
      "try 10 second wait time\n",
      "429\n",
      "try 10 second wait time\n",
      "429\n",
      "try 10 second wait time\n",
      "429\n",
      "try 10 second wait time\n",
      "429\n",
      "try 10 second wait time\n",
      "429\n",
      "try 10 second wait time\n",
      "429\n",
      "try 10 second wait time\n",
      "429\n",
      "try 10 second wait time\n",
      "429\n",
      "try 10 second wait time\n",
      "200\n",
      "total wait time :  93.56591391563416\n",
      "recovery api cost\n"
     ]
    },
    {
     "name": "stderr",
     "output_type": "stream",
     "text": [
      "\r",
      "  7%|██▏                              | 673/10000 [9:25:04<164:41:05, 63.56s/it]"
     ]
    },
    {
     "name": "stdout",
     "output_type": "stream",
     "text": [
      "KR_5733936834의 데이터 수집이 완료되었습니다\n",
      "KR_5733936991의 데이터 수집을 시작합니다.\n"
     ]
    },
    {
     "name": "stderr",
     "output_type": "stream",
     "text": [
      "\r",
      "  7%|██▏                              | 674/10000 [9:25:17<125:33:25, 48.47s/it]"
     ]
    },
    {
     "name": "stdout",
     "output_type": "stream",
     "text": [
      "KR_5733936991의 데이터 수집이 완료되었습니다\n",
      "KR_5733937229의 데이터 수집을 시작합니다.\n"
     ]
    },
    {
     "name": "stderr",
     "output_type": "stream",
     "text": [
      "\r",
      "  7%|██▎                               | 675/10000 [9:25:30<98:11:04, 37.91s/it]"
     ]
    },
    {
     "name": "stdout",
     "output_type": "stream",
     "text": [
      "KR_5733937229의 데이터 수집이 완료되었습니다\n",
      "KR_5733937237의 데이터 수집을 시작합니다.\n",
      "api cost full : infinite loop start\n",
      "try 10 second wait time\n",
      "429\n",
      "try 10 second wait time\n",
      "429\n",
      "try 10 second wait time\n",
      "429\n",
      "try 10 second wait time\n",
      "429\n",
      "try 10 second wait time\n",
      "429\n",
      "try 10 second wait time\n",
      "429\n",
      "try 10 second wait time\n",
      "429\n",
      "try 10 second wait time\n",
      "429\n",
      "try 10 second wait time\n",
      "200\n",
      "total wait time :  92.32503294944763\n",
      "recovery api cost\n"
     ]
    },
    {
     "name": "stderr",
     "output_type": "stream",
     "text": [
      "\r",
      "  7%|██▏                              | 676/10000 [9:27:15<150:25:00, 58.08s/it]"
     ]
    },
    {
     "name": "stdout",
     "output_type": "stream",
     "text": [
      "KR_5733937237의 데이터 수집이 완료되었습니다\n",
      "KR_5733939061의 데이터 수집을 시작합니다.\n"
     ]
    },
    {
     "name": "stderr",
     "output_type": "stream",
     "text": [
      "\r",
      "  7%|██▏                              | 677/10000 [9:27:29<116:07:07, 44.84s/it]"
     ]
    },
    {
     "name": "stdout",
     "output_type": "stream",
     "text": [
      "KR_5733939061의 데이터 수집이 완료되었습니다\n",
      "KR_5733939219의 데이터 수집을 시작합니다.\n",
      "api cost full : infinite loop start\n",
      "try 10 second wait time\n",
      "429\n",
      "try 10 second wait time\n",
      "429\n",
      "try 10 second wait time\n",
      "429\n",
      "try 10 second wait time\n",
      "429\n",
      "try 10 second wait time\n",
      "429\n",
      "try 10 second wait time\n",
      "429\n",
      "try 10 second wait time\n",
      "429\n",
      "try 10 second wait time\n",
      "429\n",
      "try 10 second wait time\n",
      "200\n",
      "total wait time :  92.69972491264343\n",
      "recovery api cost\n"
     ]
    },
    {
     "name": "stderr",
     "output_type": "stream",
     "text": [
      "\r",
      "  7%|██▏                              | 678/10000 [9:29:16<163:49:56, 63.27s/it]"
     ]
    },
    {
     "name": "stdout",
     "output_type": "stream",
     "text": [
      "KR_5733939219의 데이터 수집이 완료되었습니다\n",
      "KR_5733939723의 데이터 수집을 시작합니다.\n"
     ]
    },
    {
     "name": "stderr",
     "output_type": "stream",
     "text": [
      "\r",
      "  7%|██▏                              | 679/10000 [9:29:29<125:07:40, 48.33s/it]"
     ]
    },
    {
     "name": "stdout",
     "output_type": "stream",
     "text": [
      "KR_5733939723의 데이터 수집이 완료되었습니다\n",
      "KR_5733941430의 데이터 수집을 시작합니다.\n"
     ]
    },
    {
     "name": "stderr",
     "output_type": "stream",
     "text": [
      "\r",
      "  7%|██▎                               | 680/10000 [9:29:42<97:48:00, 37.78s/it]"
     ]
    },
    {
     "name": "stdout",
     "output_type": "stream",
     "text": [
      "KR_5733941430의 데이터 수집이 완료되었습니다\n",
      "KR_5733942918의 데이터 수집을 시작합니다.\n",
      "api cost full : infinite loop start\n",
      "try 10 second wait time\n",
      "429\n",
      "try 10 second wait time\n",
      "429\n",
      "try 10 second wait time\n",
      "429\n",
      "try 10 second wait time\n",
      "429\n",
      "try 10 second wait time\n",
      "429\n",
      "try 10 second wait time\n",
      "429\n",
      "try 10 second wait time\n",
      "429\n",
      "try 10 second wait time\n",
      "429\n",
      "try 10 second wait time\n",
      "200\n",
      "total wait time :  92.3351469039917\n",
      "recovery api cost\n"
     ]
    },
    {
     "name": "stderr",
     "output_type": "stream",
     "text": [
      "\r",
      "  7%|██▏                              | 681/10000 [9:31:28<150:22:25, 58.09s/it]"
     ]
    },
    {
     "name": "stdout",
     "output_type": "stream",
     "text": [
      "KR_5733942918의 데이터 수집이 완료되었습니다\n",
      "KR_5733943499의 데이터 수집을 시작합니다.\n"
     ]
    },
    {
     "name": "stderr",
     "output_type": "stream",
     "text": [
      "\r",
      "  7%|██▎                              | 682/10000 [9:31:41<115:32:41, 44.64s/it]"
     ]
    },
    {
     "name": "stdout",
     "output_type": "stream",
     "text": [
      "KR_5733943499의 데이터 수집이 완료되었습니다\n",
      "KR_5733943730의 데이터 수집을 시작합니다.\n",
      "api cost full : infinite loop start\n",
      "try 10 second wait time\n",
      "429\n",
      "try 10 second wait time\n",
      "429\n",
      "try 10 second wait time\n",
      "429\n",
      "try 10 second wait time\n",
      "429\n",
      "try 10 second wait time\n",
      "429\n",
      "try 10 second wait time\n",
      "429\n",
      "try 10 second wait time\n",
      "429\n",
      "try 10 second wait time\n",
      "429\n",
      "try 10 second wait time\n",
      "200\n",
      "total wait time :  92.29974818229675\n",
      "recovery api cost\n"
     ]
    },
    {
     "name": "stderr",
     "output_type": "stream",
     "text": [
      "\r",
      "  7%|██▎                              | 683/10000 [9:33:27<163:24:29, 63.14s/it]"
     ]
    },
    {
     "name": "stdout",
     "output_type": "stream",
     "text": [
      "KR_5733943730의 데이터 수집이 완료되었습니다\n",
      "KR_5733944296의 데이터 수집을 시작합니다.\n"
     ]
    },
    {
     "name": "stderr",
     "output_type": "stream",
     "text": [
      "\r",
      "  7%|██▎                              | 684/10000 [9:33:42<125:29:03, 48.49s/it]"
     ]
    },
    {
     "name": "stdout",
     "output_type": "stream",
     "text": [
      "KR_5733944296의 데이터 수집이 완료되었습니다\n",
      "KR_5733944359의 데이터 수집을 시작합니다.\n"
     ]
    },
    {
     "name": "stderr",
     "output_type": "stream",
     "text": [
      "\r",
      "  7%|██▎                               | 685/10000 [9:33:56<98:34:27, 38.10s/it]"
     ]
    },
    {
     "name": "stdout",
     "output_type": "stream",
     "text": [
      "KR_5733944359의 데이터 수집이 완료되었습니다\n",
      "KR_5733945566의 데이터 수집을 시작합니다.\n",
      "api cost full : infinite loop start\n",
      "try 10 second wait time\n",
      "429\n",
      "try 10 second wait time\n",
      "429\n",
      "try 10 second wait time\n",
      "429\n",
      "try 10 second wait time\n",
      "429\n",
      "try 10 second wait time\n",
      "429\n",
      "try 10 second wait time\n",
      "429\n",
      "try 10 second wait time\n",
      "429\n",
      "try 10 second wait time\n",
      "429\n",
      "try 10 second wait time\n",
      "200\n",
      "total wait time :  92.36168313026428\n",
      "recovery api cost\n"
     ]
    },
    {
     "name": "stderr",
     "output_type": "stream",
     "text": [
      "\r",
      "  7%|██▎                              | 686/10000 [9:35:41<151:09:44, 58.43s/it]"
     ]
    },
    {
     "name": "stdout",
     "output_type": "stream",
     "text": [
      "KR_5733945566의 데이터 수집이 완료되었습니다\n",
      "KR_5733946315의 데이터 수집을 시작합니다.\n"
     ]
    },
    {
     "name": "stderr",
     "output_type": "stream",
     "text": [
      "\r",
      "  7%|██▎                              | 687/10000 [9:35:56<116:45:36, 45.13s/it]"
     ]
    },
    {
     "name": "stdout",
     "output_type": "stream",
     "text": [
      "KR_5733946315의 데이터 수집이 완료되었습니다\n",
      "KR_5733947335의 데이터 수집을 시작합니다.\n",
      "api cost full : infinite loop start\n",
      "try 10 second wait time\n",
      "429\n",
      "try 10 second wait time\n",
      "429\n",
      "try 10 second wait time\n",
      "429\n",
      "try 10 second wait time\n",
      "429\n",
      "try 10 second wait time\n",
      "429\n",
      "try 10 second wait time\n",
      "429\n",
      "try 10 second wait time\n",
      "429\n",
      "try 10 second wait time\n",
      "429\n",
      "try 10 second wait time\n",
      "200\n",
      "total wait time :  92.24311685562134\n",
      "recovery api cost\n"
     ]
    },
    {
     "name": "stderr",
     "output_type": "stream",
     "text": [
      "\r",
      "  7%|██▎                              | 688/10000 [9:37:42<164:10:16, 63.47s/it]"
     ]
    },
    {
     "name": "stdout",
     "output_type": "stream",
     "text": [
      "KR_5733947335의 데이터 수집이 완료되었습니다\n",
      "KR_5733947902의 데이터 수집을 시작합니다.\n"
     ]
    },
    {
     "name": "stderr",
     "output_type": "stream",
     "text": [
      "\r",
      "  7%|██▎                              | 689/10000 [9:37:55<125:14:45, 48.42s/it]"
     ]
    },
    {
     "name": "stdout",
     "output_type": "stream",
     "text": [
      "KR_5733947902의 데이터 수집이 완료되었습니다\n",
      "KR_5733948595의 데이터 수집을 시작합니다.\n"
     ]
    },
    {
     "name": "stderr",
     "output_type": "stream",
     "text": [
      "\r",
      "  7%|██▎                               | 690/10000 [9:38:09<98:41:38, 38.16s/it]"
     ]
    },
    {
     "name": "stdout",
     "output_type": "stream",
     "text": [
      "KR_5733948595의 데이터 수집이 완료되었습니다\n",
      "KR_5733948681의 데이터 수집을 시작합니다.\n",
      "api cost full : infinite loop start\n",
      "try 10 second wait time\n",
      "429\n",
      "try 10 second wait time\n",
      "429\n",
      "try 10 second wait time\n",
      "429\n",
      "try 10 second wait time\n",
      "429\n",
      "try 10 second wait time\n",
      "429\n",
      "try 10 second wait time\n",
      "429\n",
      "try 10 second wait time\n",
      "429\n",
      "try 10 second wait time\n",
      "429\n",
      "try 10 second wait time\n",
      "200\n",
      "total wait time :  92.31207489967346\n",
      "recovery api cost\n"
     ]
    },
    {
     "name": "stderr",
     "output_type": "stream",
     "text": [
      "\r",
      "  7%|██▎                              | 691/10000 [9:39:55<150:59:01, 58.39s/it]"
     ]
    },
    {
     "name": "stdout",
     "output_type": "stream",
     "text": [
      "KR_5733948681의 데이터 수집이 완료되었습니다\n",
      "KR_5733949807의 데이터 수집을 시작합니다.\n"
     ]
    },
    {
     "name": "stderr",
     "output_type": "stream",
     "text": [
      "\r",
      "  7%|██▎                              | 692/10000 [9:40:08<116:12:57, 44.95s/it]"
     ]
    },
    {
     "name": "stdout",
     "output_type": "stream",
     "text": [
      "KR_5733949807의 데이터 수집이 완료되었습니다\n",
      "KR_5733949996의 데이터 수집을 시작합니다.\n",
      "api cost full : infinite loop start\n",
      "try 10 second wait time\n",
      "429\n",
      "try 10 second wait time\n",
      "429\n",
      "try 10 second wait time\n",
      "429\n",
      "try 10 second wait time\n",
      "429\n",
      "try 10 second wait time\n",
      "429\n",
      "try 10 second wait time\n",
      "429\n",
      "try 10 second wait time\n",
      "429\n",
      "try 10 second wait time\n",
      "429\n",
      "try 10 second wait time\n",
      "200\n",
      "total wait time :  92.27444100379944\n",
      "recovery api cost\n"
     ]
    },
    {
     "name": "stderr",
     "output_type": "stream",
     "text": [
      "\r",
      "  7%|██▎                              | 693/10000 [9:41:55<163:57:32, 63.42s/it]"
     ]
    },
    {
     "name": "stdout",
     "output_type": "stream",
     "text": [
      "KR_5733949996의 데이터 수집이 완료되었습니다\n",
      "KR_5733950323의 데이터 수집을 시작합니다.\n"
     ]
    },
    {
     "name": "stderr",
     "output_type": "stream",
     "text": [
      "\r",
      "  7%|██▎                              | 694/10000 [9:42:09<125:22:32, 48.50s/it]"
     ]
    },
    {
     "name": "stdout",
     "output_type": "stream",
     "text": [
      "KR_5733950323의 데이터 수집이 완료되었습니다\n",
      "KR_5733950767의 데이터 수집을 시작합니다.\n"
     ]
    },
    {
     "name": "stderr",
     "output_type": "stream",
     "text": [
      "\r",
      "  7%|██▎                               | 695/10000 [9:42:22<98:15:54, 38.02s/it]"
     ]
    },
    {
     "name": "stdout",
     "output_type": "stream",
     "text": [
      "KR_5733950767의 데이터 수집이 완료되었습니다\n",
      "KR_5733950878의 데이터 수집을 시작합니다.\n",
      "api cost full : infinite loop start\n",
      "try 10 second wait time\n",
      "429\n",
      "try 10 second wait time\n",
      "429\n",
      "try 10 second wait time\n",
      "429\n",
      "try 10 second wait time\n",
      "429\n",
      "try 10 second wait time\n",
      "429\n",
      "try 10 second wait time\n",
      "429\n",
      "try 10 second wait time\n",
      "429\n",
      "try 10 second wait time\n",
      "429\n",
      "try 10 second wait time\n",
      "200\n",
      "total wait time :  92.32257914543152\n",
      "recovery api cost\n"
     ]
    },
    {
     "name": "stderr",
     "output_type": "stream",
     "text": [
      "\r",
      "  7%|██▎                              | 696/10000 [9:44:08<150:51:54, 58.37s/it]"
     ]
    },
    {
     "name": "stdout",
     "output_type": "stream",
     "text": [
      "KR_5733950878의 데이터 수집이 완료되었습니다\n",
      "KR_5733951020의 데이터 수집을 시작합니다.\n"
     ]
    },
    {
     "name": "stderr",
     "output_type": "stream",
     "text": [
      "\r",
      "  7%|██▎                              | 697/10000 [9:44:22<116:24:12, 45.04s/it]"
     ]
    },
    {
     "name": "stdout",
     "output_type": "stream",
     "text": [
      "KR_5733951020의 데이터 수집이 완료되었습니다\n",
      "KR_5733951272의 데이터 수집을 시작합니다.\n",
      "api cost full : infinite loop start\n",
      "try 10 second wait time\n",
      "429\n",
      "try 10 second wait time\n",
      "429\n",
      "try 10 second wait time\n",
      "429\n",
      "try 10 second wait time\n",
      "429\n",
      "try 10 second wait time\n",
      "429\n",
      "try 10 second wait time\n",
      "429\n",
      "try 10 second wait time\n",
      "429\n",
      "try 10 second wait time\n",
      "429\n",
      "try 10 second wait time\n",
      "200\n",
      "total wait time :  92.35743522644043\n",
      "recovery api cost\n"
     ]
    },
    {
     "name": "stderr",
     "output_type": "stream",
     "text": [
      "\r",
      "  7%|██▎                              | 698/10000 [9:46:07<163:09:43, 63.15s/it]"
     ]
    },
    {
     "name": "stdout",
     "output_type": "stream",
     "text": [
      "KR_5733951272의 데이터 수집이 완료되었습니다\n",
      "KR_5733951675의 데이터 수집을 시작합니다.\n"
     ]
    },
    {
     "name": "stderr",
     "output_type": "stream",
     "text": [
      "\r",
      "  7%|██▎                              | 699/10000 [9:46:21<124:35:40, 48.22s/it]"
     ]
    },
    {
     "name": "stdout",
     "output_type": "stream",
     "text": [
      "KR_5733951675의 데이터 수집이 완료되었습니다\n",
      "KR_5733952088의 데이터 수집을 시작합니다.\n"
     ]
    },
    {
     "name": "stderr",
     "output_type": "stream",
     "text": [
      "\r",
      "  7%|██▍                               | 700/10000 [9:46:35<97:55:39, 37.91s/it]"
     ]
    },
    {
     "name": "stdout",
     "output_type": "stream",
     "text": [
      "KR_5733952088의 데이터 수집이 완료되었습니다\n",
      "KR_5733952556의 데이터 수집을 시작합니다.\n",
      "api cost full : infinite loop start\n",
      "try 10 second wait time\n",
      "429\n",
      "try 10 second wait time\n",
      "429\n",
      "try 10 second wait time\n",
      "429\n",
      "try 10 second wait time\n",
      "429\n",
      "try 10 second wait time\n",
      "429\n",
      "try 10 second wait time\n",
      "429\n",
      "try 10 second wait time\n",
      "429\n",
      "try 10 second wait time\n",
      "429\n",
      "try 10 second wait time\n",
      "200\n",
      "total wait time :  92.44053912162781\n",
      "recovery api cost\n"
     ]
    },
    {
     "name": "stderr",
     "output_type": "stream",
     "text": [
      "\r",
      "  7%|██▎                              | 701/10000 [9:48:21<151:07:52, 58.51s/it]"
     ]
    },
    {
     "name": "stdout",
     "output_type": "stream",
     "text": [
      "KR_5733952556의 데이터 수집이 완료되었습니다\n",
      "KR_5733952956의 데이터 수집을 시작합니다.\n"
     ]
    },
    {
     "name": "stderr",
     "output_type": "stream",
     "text": [
      "\r",
      "  7%|██▎                              | 702/10000 [9:48:35<116:14:46, 45.01s/it]"
     ]
    },
    {
     "name": "stdout",
     "output_type": "stream",
     "text": [
      "KR_5733952956의 데이터 수집이 완료되었습니다\n",
      "KR_5733953856의 데이터 수집을 시작합니다.\n",
      "api cost full : infinite loop start\n",
      "try 10 second wait time\n",
      "429\n",
      "try 10 second wait time\n",
      "429\n",
      "try 10 second wait time\n",
      "429\n",
      "try 10 second wait time\n",
      "429\n",
      "try 10 second wait time\n",
      "429\n",
      "try 10 second wait time\n",
      "429\n",
      "try 10 second wait time\n",
      "429\n",
      "try 10 second wait time\n",
      "429\n",
      "try 10 second wait time\n",
      "200\n",
      "total wait time :  92.49196124076843\n",
      "recovery api cost\n"
     ]
    },
    {
     "name": "stderr",
     "output_type": "stream",
     "text": [
      "\r",
      "  7%|██▎                              | 703/10000 [9:50:21<163:32:06, 63.32s/it]"
     ]
    },
    {
     "name": "stdout",
     "output_type": "stream",
     "text": [
      "KR_5733953856의 데이터 수집이 완료되었습니다\n",
      "KR_5733953964의 데이터 수집을 시작합니다.\n"
     ]
    },
    {
     "name": "stderr",
     "output_type": "stream",
     "text": [
      "\r",
      "  7%|██▎                              | 704/10000 [9:50:35<125:12:21, 48.49s/it]"
     ]
    },
    {
     "name": "stdout",
     "output_type": "stream",
     "text": [
      "KR_5733953964의 데이터 수집이 완료되었습니다\n",
      "KR_5733956600의 데이터 수집을 시작합니다.\n"
     ]
    },
    {
     "name": "stderr",
     "output_type": "stream",
     "text": [
      "\r",
      "  7%|██▍                               | 705/10000 [9:50:49<98:41:32, 38.22s/it]"
     ]
    },
    {
     "name": "stdout",
     "output_type": "stream",
     "text": [
      "KR_5733956600의 데이터 수집이 완료되었습니다\n",
      "KR_5733958079의 데이터 수집을 시작합니다.\n",
      "api cost full : infinite loop start\n",
      "try 10 second wait time\n",
      "429\n",
      "try 10 second wait time\n",
      "429\n",
      "try 10 second wait time\n",
      "429\n",
      "try 10 second wait time\n",
      "429\n",
      "try 10 second wait time\n",
      "429\n",
      "try 10 second wait time\n",
      "429\n",
      "try 10 second wait time\n",
      "429\n",
      "try 10 second wait time\n",
      "429\n",
      "try 10 second wait time\n",
      "200\n",
      "total wait time :  92.81779098510742\n",
      "recovery api cost\n"
     ]
    },
    {
     "name": "stderr",
     "output_type": "stream",
     "text": [
      "\r",
      "  7%|██▎                              | 706/10000 [9:52:36<151:53:19, 58.83s/it]"
     ]
    },
    {
     "name": "stdout",
     "output_type": "stream",
     "text": [
      "KR_5733958079의 데이터 수집이 완료되었습니다\n",
      "KR_5733958159의 데이터 수집을 시작합니다.\n"
     ]
    },
    {
     "name": "stderr",
     "output_type": "stream",
     "text": [
      "\r",
      "  7%|██▎                              | 707/10000 [9:52:50<117:16:45, 45.43s/it]"
     ]
    },
    {
     "name": "stdout",
     "output_type": "stream",
     "text": [
      "KR_5733958159의 데이터 수집이 완료되었습니다\n",
      "KR_5733958650의 데이터 수집을 시작합니다.\n",
      "api cost full : infinite loop start\n",
      "try 10 second wait time\n",
      "429\n",
      "try 10 second wait time\n",
      "429\n",
      "try 10 second wait time\n",
      "429\n",
      "try 10 second wait time\n",
      "429\n",
      "try 10 second wait time\n",
      "429\n",
      "try 10 second wait time\n",
      "429\n",
      "try 10 second wait time\n",
      "429\n",
      "try 10 second wait time\n",
      "429\n",
      "try 10 second wait time\n",
      "200\n",
      "total wait time :  92.40841698646545\n",
      "recovery api cost\n"
     ]
    },
    {
     "name": "stderr",
     "output_type": "stream",
     "text": [
      "\r",
      "  7%|██▎                              | 708/10000 [9:54:36<164:30:28, 63.74s/it]"
     ]
    },
    {
     "name": "stdout",
     "output_type": "stream",
     "text": [
      "KR_5733958650의 데이터 수집이 완료되었습니다\n",
      "KR_5733960014의 데이터 수집을 시작합니다.\n"
     ]
    },
    {
     "name": "stderr",
     "output_type": "stream",
     "text": [
      "\r",
      "  7%|██▎                              | 709/10000 [9:54:51<126:03:06, 48.84s/it]"
     ]
    },
    {
     "name": "stdout",
     "output_type": "stream",
     "text": [
      "KR_5733960014의 데이터 수집이 완료되었습니다\n",
      "KR_5733960887의 데이터 수집을 시작합니다.\n"
     ]
    },
    {
     "name": "stderr",
     "output_type": "stream",
     "text": [
      "\r",
      "  7%|██▍                               | 710/10000 [9:55:05<99:32:16, 38.57s/it]"
     ]
    },
    {
     "name": "stdout",
     "output_type": "stream",
     "text": [
      "KR_5733960887의 데이터 수집이 완료되었습니다\n",
      "KR_5733961394의 데이터 수집을 시작합니다.\n",
      "api cost full : infinite loop start\n",
      "try 10 second wait time\n",
      "429\n",
      "try 10 second wait time\n",
      "429\n",
      "try 10 second wait time\n",
      "429\n",
      "try 10 second wait time\n",
      "429\n",
      "try 10 second wait time\n",
      "429\n",
      "try 10 second wait time\n",
      "429\n",
      "try 10 second wait time\n",
      "429\n",
      "try 10 second wait time\n",
      "429\n",
      "try 10 second wait time\n",
      "200\n",
      "total wait time :  92.34377884864807\n",
      "recovery api cost\n"
     ]
    },
    {
     "name": "stderr",
     "output_type": "stream",
     "text": [
      "\r",
      "  7%|██▎                              | 711/10000 [9:56:51<151:46:24, 58.82s/it]"
     ]
    },
    {
     "name": "stdout",
     "output_type": "stream",
     "text": [
      "KR_5733961394의 데이터 수집이 완료되었습니다\n",
      "KR_5733961492의 데이터 수집을 시작합니다.\n"
     ]
    },
    {
     "name": "stderr",
     "output_type": "stream",
     "text": [
      "\r",
      "  7%|██▎                              | 712/10000 [9:57:05<116:59:56, 45.35s/it]"
     ]
    },
    {
     "name": "stdout",
     "output_type": "stream",
     "text": [
      "KR_5733961492의 데이터 수집이 완료되었습니다\n",
      "KR_5733961550의 데이터 수집을 시작합니다.\n",
      "api cost full : infinite loop start\n",
      "try 10 second wait time\n",
      "429\n",
      "try 10 second wait time\n",
      "429\n",
      "try 10 second wait time\n",
      "429\n",
      "try 10 second wait time\n",
      "429\n",
      "try 10 second wait time\n",
      "429\n",
      "try 10 second wait time\n",
      "429\n",
      "try 10 second wait time\n",
      "429\n",
      "try 10 second wait time\n",
      "429\n",
      "try 10 second wait time\n",
      "200\n",
      "total wait time :  92.36741399765015\n",
      "recovery api cost\n"
     ]
    },
    {
     "name": "stderr",
     "output_type": "stream",
     "text": [
      "\r",
      "  7%|██▎                              | 713/10000 [9:58:52<164:45:02, 63.86s/it]"
     ]
    },
    {
     "name": "stdout",
     "output_type": "stream",
     "text": [
      "KR_5733961550의 데이터 수집이 완료되었습니다\n",
      "KR_5733963047의 데이터 수집을 시작합니다.\n"
     ]
    },
    {
     "name": "stderr",
     "output_type": "stream",
     "text": [
      "\r",
      "  7%|██▎                              | 714/10000 [9:59:05<125:26:12, 48.63s/it]"
     ]
    },
    {
     "name": "stdout",
     "output_type": "stream",
     "text": [
      "KR_5733963047의 데이터 수집이 완료되었습니다\n",
      "KR_5733963441의 데이터 수집을 시작합니다.\n"
     ]
    },
    {
     "name": "stderr",
     "output_type": "stream",
     "text": [
      "\r",
      "  7%|██▍                               | 715/10000 [9:59:19<98:24:39, 38.16s/it]"
     ]
    },
    {
     "name": "stdout",
     "output_type": "stream",
     "text": [
      "KR_5733963441의 데이터 수집이 완료되었습니다\n",
      "KR_5733965152의 데이터 수집을 시작합니다.\n",
      "api cost full : infinite loop start\n",
      "try 10 second wait time\n",
      "429\n",
      "try 10 second wait time\n",
      "429\n",
      "try 10 second wait time\n",
      "429\n",
      "try 10 second wait time\n",
      "429\n",
      "try 10 second wait time\n",
      "429\n",
      "try 10 second wait time\n",
      "429\n",
      "try 10 second wait time\n",
      "429\n",
      "try 10 second wait time\n",
      "429\n",
      "try 10 second wait time\n",
      "200\n",
      "total wait time :  92.57921504974365\n",
      "recovery api cost\n"
     ]
    },
    {
     "name": "stderr",
     "output_type": "stream",
     "text": [
      "\r",
      "  7%|██▎                             | 716/10000 [10:01:05<151:09:41, 58.62s/it]"
     ]
    },
    {
     "name": "stdout",
     "output_type": "stream",
     "text": [
      "KR_5733965152의 데이터 수집이 완료되었습니다\n",
      "KR_5733965653의 데이터 수집을 시작합니다.\n"
     ]
    },
    {
     "name": "stderr",
     "output_type": "stream",
     "text": [
      "\r",
      "  7%|██▎                             | 717/10000 [10:01:20<116:58:33, 45.36s/it]"
     ]
    },
    {
     "name": "stdout",
     "output_type": "stream",
     "text": [
      "KR_5733965653의 데이터 수집이 완료되었습니다\n",
      "KR_5733966033의 데이터 수집을 시작합니다.\n",
      "api cost full : infinite loop start\n",
      "try 10 second wait time\n",
      "429\n",
      "try 10 second wait time\n",
      "429\n",
      "try 10 second wait time\n",
      "429\n",
      "try 10 second wait time\n",
      "429\n",
      "try 10 second wait time\n",
      "429\n",
      "try 10 second wait time\n",
      "429\n",
      "try 10 second wait time\n",
      "429\n",
      "try 10 second wait time\n",
      "429\n",
      "try 10 second wait time\n",
      "200\n",
      "total wait time :  92.27878785133362\n",
      "recovery api cost\n"
     ]
    },
    {
     "name": "stderr",
     "output_type": "stream",
     "text": [
      "\r",
      "  7%|██▎                             | 718/10000 [10:03:07<164:56:46, 63.97s/it]"
     ]
    },
    {
     "name": "stdout",
     "output_type": "stream",
     "text": [
      "KR_5733966033의 데이터 수집이 완료되었습니다\n",
      "KR_5733966193의 데이터 수집을 시작합니다.\n"
     ]
    },
    {
     "name": "stderr",
     "output_type": "stream",
     "text": [
      "\r",
      "  7%|██▎                             | 719/10000 [10:03:22<126:47:38, 49.18s/it]"
     ]
    },
    {
     "name": "stdout",
     "output_type": "stream",
     "text": [
      "KR_5733966193의 데이터 수집이 완료되었습니다\n",
      "KR_5733967525의 데이터 수집을 시작합니다.\n"
     ]
    },
    {
     "name": "stderr",
     "output_type": "stream",
     "text": [
      "\r",
      "  7%|██▍                              | 720/10000 [10:03:35<99:04:38, 38.44s/it]"
     ]
    },
    {
     "name": "stdout",
     "output_type": "stream",
     "text": [
      "KR_5733967525의 데이터 수집이 완료되었습니다\n",
      "KR_5733967574의 데이터 수집을 시작합니다.\n"
     ]
    }
   ],
   "source": [
    "import requests\n",
    "import json\n",
    "import time\n",
    "import pprint\n",
    "from urllib import parse\n",
    "from tqdm import tqdm\n",
    "pp = pprint.PrettyPrinter(indent=4)\n",
    "request_header = {\n",
    "                    \"User-Agent\": \"Mozilla/5.0 (Windows NT 10.0; Win64; x64) AppleWebKit/537.36 (KHTML, like Gecko) Chrome/91.0.4472.164 Safari/537.36\",\n",
    "                    \"Accept-Language\": \"ko,en-US;q=0.9,en;q=0.8,es;q=0.7\",\n",
    "                    \"Accept-Charset\": \"application/x-www-form-urlencoded; charset=UTF-8\",\n",
    "                    \"Origin\": \"https://developer.riotgames.com\",\n",
    "                    \"X-Riot-Token\": 'RGAPI-d3c33fe3-ffda-4f45-bdec-7a51a2605447'\n",
    "                }\n",
    "\n",
    "def check(url):\n",
    "    r = requests.get(url, headers=request_header)\n",
    "    if r.status_code == 200: # response가 정상이면 바로 맨 밑으로 이동하여 정상적으로 코드 실행\n",
    "        pass\n",
    "    \n",
    "    elif r.status_code == 429:\n",
    "        print('api cost full : infinite loop start')\n",
    "        start_time = time.time()\n",
    "        \n",
    "        while True: # 429error가 끝날 때까지 무한 루프\n",
    "            if r.status_code == 429:\n",
    "\n",
    "                print('try 10 second wait time')\n",
    "                time.sleep(10)\n",
    "\n",
    "                r = requests.get(url, headers=request_header)\n",
    "                print(r.status_code)\n",
    "\n",
    "            elif r.status_code == 200: #다시 response 200이면 loop escape\n",
    "                print('total wait time : ', time.time() - start_time)\n",
    "                print('recovery api cost')\n",
    "                break\n",
    "\n",
    "def save_mongo(name_str, data_name):\n",
    "    from http import client\n",
    "    from xml.dom.minidom import Document\n",
    "    from pymongo import MongoClient\n",
    "    import certifi\n",
    "    \n",
    "    ##몽고db 계정정보\n",
    "    HOST = 'cluster0.l3phm.mongodb.net'\n",
    "    USER = 'jhp0046'\n",
    "    PASSWORD = 'qkrwlgns0046'\n",
    "    DATABASE_NAME = 'myFirstDatabase'\n",
    "    COLLECTION_NAME = name_str\n",
    "    MONGO_URI = f\"mongodb+srv://{USER}:{PASSWORD}@{HOST}/{DATABASE_NAME}?retryWrites=true&w=majority\"\n",
    "    ca = certifi.where()\n",
    "    \n",
    "    client = MongoClient(MONGO_URI, tlsCAFile=certifi.where())\n",
    "\n",
    "    db = client[DATABASE_NAME]\n",
    "\n",
    "    col = db[COLLECTION_NAME]\n",
    "\n",
    "    col.insert_one(data_name)\n",
    "\n",
    "    \n",
    "def gamedata(gameId):\n",
    "    print(f'{gameId}의 데이터 수집을 시작합니다.')\n",
    "    data_list = {}\n",
    "    url = f\"https://asia.api.riotgames.com/lol/match/v5/matches/{gameId}\"\n",
    "    check(url)\n",
    "    data = requests.get(url, headers=request_header).json()\n",
    "    \n",
    "    if data['info']['teams'][0]['win'] == True:\n",
    "        data_list[gameId] = data['info']['teams'][0]['teamId']\n",
    "    else:\n",
    "        data_list[gameId] = data['info']['teams'][1]['teamId']\n",
    "                        \n",
    "    for user_num in range(0,10):\n",
    "        puuid = data['info']['participants'][user_num]['puuid']\n",
    "        champ_name = data['info']['participants'][user_num]['championName']\n",
    "        champ_id = data['info']['participants'][user_num]['championId']\n",
    "        status_url = f\"https://kr.api.riotgames.com/lol/summoner/v4/summoners/by-puuid/{parse.quote(puuid)}\"\n",
    "        check(status_url)\n",
    "        status = requests.get(status_url, headers=request_header).json()\n",
    "        champ_status_url = f\"https://kr.api.riotgames.com/lol/champion-mastery/v4/champion-masteries/by-summoner/{parse.quote(status['id'])}/by-champion/{champ_id}\"\n",
    "        check(champ_status_url)\n",
    "        champ_status = requests.get(champ_status_url, headers=request_header).json()\n",
    "        champ_point = champ_status['championPoints']\n",
    "        data_list[champ_name] = [champ_point, champ_id]\n",
    "    \n",
    "    \n",
    "    save_mongo('loldata' , data_list)\n",
    "    \n",
    "    return print(f'{gameId}의 데이터 수집이 완료되었습니다')\n",
    "\n",
    "\n",
    "import sqlite3\n",
    "\n",
    "conn = sqlite3.connect('loldata.db')\n",
    "cur = conn.cursor()\n",
    "gameId_list = [] \n",
    "for row in cur.execute(\"SELECT * FROM gameID ORDER BY gameid ASC\"):\n",
    "    gameId_list.append(str(row).split('\\'')[1])\n",
    "\n",
    "conn.commit()\n",
    "cur.close\n",
    "conn.close\n",
    "\n",
    "for i in tqdm(gameId_list[20000:30000]):\n",
    "    try:\n",
    "        gamedata(i)\n",
    "    except:\n",
    "        pass"
   ]
  },
  {
   "cell_type": "code",
   "execution_count": null,
   "id": "b926c5c4",
   "metadata": {},
   "outputs": [],
   "source": []
  }
 ],
 "metadata": {
  "kernelspec": {
   "display_name": "Python 3 (ipykernel)",
   "language": "python",
   "name": "python3"
  },
  "language_info": {
   "codemirror_mode": {
    "name": "ipython",
    "version": 3
   },
   "file_extension": ".py",
   "mimetype": "text/x-python",
   "name": "python",
   "nbconvert_exporter": "python",
   "pygments_lexer": "ipython3",
   "version": "3.9.7"
  }
 },
 "nbformat": 4,
 "nbformat_minor": 5
}
