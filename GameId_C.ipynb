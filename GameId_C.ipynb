{
 "cells": [
  {
   "cell_type": "code",
   "execution_count": 1,
   "id": "f04bc266",
   "metadata": {
    "id": "f04bc266",
    "outputId": "ea136cc4-4591-4de6-91ce-81fc49b9bfbf"
   },
   "outputs": [
    {
     "name": "stdout",
     "output_type": "stream",
     "text": [
      "229\n",
      "{'Hide on bush': 'yR5HY9oQDxk6jvmTIdm6Ewyrm4H-kobFulC8zYCOQ3_t9g', 'vicky99': 'l9hflyeJc_OxvUoUDkcGHSnHgKnRxgeSy6TqOW9nGldQNoQoIsHY7TiMLw', '미니멜츠빅': 'Mgy4DpNt9GeeQRuIpprgoceXz9iMo-6sl-LN_q1zcqUHSQs', 'zzzusss': 'rSSkVxNl3kiHMaS2u_ttrwDYahXrHPGqXPOXz4fj24GiqQM', 'eeyo': 'H2F1XG0VqUBtp6U7SaKrS4euHhFwCDfOnYvNJ3xuYdGzXEaJ', '평범한 숟가락': 'Mu-3wak8BMgDdosCN4RKgqLf-JESAh0RYOdnZN5PfWF9zGyG', '이렐아칼리': '5F68UgXhaK00eXwVnf6g_5rw3B6VFT76xqekhqMzI-OX-e4', 'jkjkjkjkk': 'XQ-iOEa1D2w2Ll6YzjKTHrTZmXlqHZc5jM2-PF12e14ZtHA', 'Sweet OwO': 'L-A85MU4f8vFcW6a8udCuci_ckOQNST2kJBm6Q4qChV1BSU', 'cheng xiao yu': 'm_yiyCe_8bZAhCULr7qKFIH09ozL78B-Ra10ZG_e8xGC5RdD65TADMYUCg', 'hulatang': 'c9qI7URzqKINjwu-gze6Yyqf9FtbOuxYWbDDCQyzi0BQweN5v2sHGNk_8w', 'Byangde': 'hvUeieLW8cVW-S50ZvM9DeEJXpn4b3xKqnG19yPHoFojQJk', 'Serin': 'GytuzdOu17eAwlfBA3wRq-_sLhtyIiNmh6Myg8-Ua2o0J0s', '신상공원': '3VoyX2cezNDZnAgwKPFi26LhTI7SKcnlPg62L-aWYXqEvVo', 'GGGori': 'ZsZs7Z4kletT1sN6KVqlR0WyzcAlBBmdcwK07JxDy7u-VQ4', 'bie fanren': 'MiKs8p6NmYp-EVksjiMBSo3cO46KBchlNI_35boMox9oolRt9t_72PHeUA', '전서방 닭갈비': 't3Gklw_K2wQpdDmgYqQkw-HoJ0s8eV4t3vYd6ZjC7ikhbb9_', 'lztxljjianiaijia': 'C_8d-A9YgGlInWQCr3CT1-_GQamEtAEcGpf_4MonU4Tku0PM8C7PH36UGg', 'nodfan': 'o7mg7LbriqzSAUt7ng7Bph1vlhUMPmzz4WG-Hx2NJT87lJ9le2GngbXaSA', '매 혹': 'F-vJd-y9nJkKJROVmppJr4kSUZDPF_b6aQgoF5AL1Kv3qg-YA3ymsiVH_w', '나는개선할것이다': 'Nb-hSdJGIhDE8rya_S65kHEJut4HbvLgWFuDNkmILyQ7qdI', '길리안 짐승': 'Uw6A3NTlGtA9uUD5r9QTMJGGxgsa1s67uAaZzrFXxxDYMFA', '감정조차없다': '1lvPOaO0Lj6P_lBKPKDfX00Ey7EflY1W6e3o4h5g8TWzJaNsRxf0C2RqWA', 'tianqizhizi': 'Nzdth5aSwqS7e9RUcAybmQGVgf1BpLz3EBFRxzeog-pdMBxv4qTMZVWzfQ', '남탓전니실력을봐': 'LikScLpqy1pDIjRaSWKS16r87BMch49QY-z7Q_7-jpayDJpidpjaFR1hfQ', 'Never Stop Me': 'X-tZ05Z2sAdepVae6dpBTffQtNd9U2d8eoz36TYBhEBgKhk', 'bilibili23918786': 'rLXJBIoj-wnX92bbbeny_rpXjD-A6ABOoT1BfomiXxdRA8L-SrLSKf3gkg', '패배를까먹은사람': 'bglEGi74Zsv78wn5KR-DDfOhPSD8kA8pwWxC9_365fJgfkM', '힘들어요잘자요': '3uXdh_5QDdq9oP3nWDxj8GkReynI2EXhCenS6aeFva0NVcztM1Ma5AAnxA', '누쇤퍅': '7QwhHnGiOSPQdLTa2r1le6NASkRxRSOYMxT2U9h21RKZBcw', 'LSB Envy': 'HfQF_ZLcRXUjQi8yPDEGSiL5CAhyO-3AZCh_fW9gqLQrXZ4', '버기해적단 버기': 'ktACZvVscrpvALbLeLKGOllCK9-sKVVhr9gtWbUJJuAW6mQ', '코 태': 'SoxGpzf0exw5dPS4YBxBJGQsWoUYessL80U5Vdr-wyysMBU', 'XiaoHuaSheng7': 'LuApsRjwF6G-I0Uu_J4QPB2Tszf3TJEtALyByBwdqpLuuBg', '순뀨박': 'F55RvEpFKZzDkPJK9DdhQts_-OTW-w4wENzMRsflnUfkD0Nmv6OxAuQl4A', '도구는 툴툴': 'VzA5kCP7zt_kO-OphNS8tG5dYq0P0KPEfCuzzmjy7OBUdEQ', 'CN Wuhan ': 'bE1ILKW78jRS5tH11elr34OhGvoFho2aMUrWlf_6s4rGfAy7cgUzjdzWHw', '간다라쿤다': 'P8XuVR2sKwBBvb08RE5nEAyQsGU7nHYAL2CYUpej8KvkjT8', '나도모르는사이에': 'X6yN_Ug9F5_Y3SEvtzBHiYgEHllg-uUPIJRMpkt0LLT4lms9vWe9SBprVw', 'Chancedong': 'RW5PAoYVjS8-vJsDtwdcer0nEk5xuPtSOVgFUvRp_vbELtY', 'wdscsafdasf': 'QK1zNnvyCBHTPj1ZooOW4fVmzR0OLyykfNAySsQfretMKfN1hN_FqO9ELw', '박 구 원': '0sjESAg9hqEx9xyv-20rOh9XBLQszQChS9HJnZSpRDTx8j0', 'LinaBell': 'zUlxUEo0O4MKPh2b5Ee1gkMfG9FAQDiOvf2cQ8goGjv3l-tyDfCHtxhRug', 'Indexy': 'p__NXvtmS40f4lqFRX7yxLVEu9MI9HcqhAslRi3SCq_7SZk', 'Zeus Fan1': '5Pg0iKj4JaD9WtkaAQJsHfJq1Os1x6loJUcbXfKFONY_-RY', 'Emilia tan': 'gT-WI--C2VyWTmEBC0g_oMVRXtEr-bKYRFuX01SCcHq3o4g', 'Yaoyao1013': 'p3WpZF5_GDIdtVxrdSja30oDVYZTxjp4Xm_8KaGHoGaPRDI', 'Xbm': 'XU-KswzTrPmrCLbNRAUjjtYMLN5BEgQDJwozv4erTgVU0pBcjNqXr6g2fg', 'x1aohuangren': '6WPIxVZYs2CKT2RovPSATBTXb-KH0sLY30qAb5J1I9LbiHqiNLI55I4eyQ', 'Top clown': 'x9ML6dtfE3PRBT1XN-hWJojCEECoeyNsOfLszd9nioE7A-tC3WYMKho1xg', '유튜브 야망': 'PtcGSARCSleYF_87RaBKGauHvpKtNAao7typw07xWmlRnH2BNIM-pKsBVw', 'IRIDESCNT': 'Lc0LLCmGXSKP43FGvpcDA5_PLy0put_PzN31DWMVtHqOyz0', 'Gen G Ruler': 'ELFwS3f-9JJdY8Wgzzq00vbfluf2mTCuMJT55xuU5iBqfnA', '앞뒤옆다막히면위': 'ePd8O3lUrN9QRs5EjvF_oIHr4-x6sk1-r5zR7k27nukO4xQ', '어상내하': 'oYpB55lwoS-5ieeKmBfHkknDWLco10wDFvktbb1dAIHt-9YR-P2-nHinfg', 'Gen G Quid': '0C6sycPLsPmsodEtdhdy_S_bSkkvkMZDtkPuvt_9KPoHtgA', '해강고 원딜': 'Q62irGmwnPbZqBvHIACZCIrV2-U5fVfgww7wz_z0cXgqRsw', '레넥톤 장인': 'IS3hSFkf4Zg2RbFBicTZGOoO4MXMQnJvQ86WVKNNHtezW9g', '에 넥': '7JOci6jit4UrBsxTIpqS2Kvq__iy8Tcha-crzaJX3h6IHtw', 'SwordArt77777': '64YGXjrOGubchyNCUbUKrtQ0MHUs1fUrtV3HDr9XTWiAQ5LVOXofWyNloQ', 'BRO Soboro': 'fpAZTsjyzTGWiIpJtM8JDDwRp0RinhIO3s9wNKrcmEjwaauq6DSMs-lNOw', '김잡초': '1w8nmVgm_g623scPjytVHFK0NPDPEFaKIbYqVPqLbjpMEHSvgXZGAZN3wQ', 'PowderSn0w': 'PcVBbhB8y19ob8KZUCMOGdzRUe0sUQsAaGkMRuxCYzTgXA', 'qiyaQAQ': 'fhsV5Sq_QU2V7GOPLo5eSh-hJ9dRibIB3fpCRxi_UM2ivQRDIrZuPBTWxw', 'Bring Me Love': 'dmCi_BpVkeBTSxZDzHEDDROs2YpngWyIt8XXIeGsI8oF8-L2oCLaVjZ74w', 'zuohaoziji': 'L2MtjbO2GcwMREDwnYn78Gs1KdE_jWSkJRSWVUsJab9hAthTEIU93JeAXw', 'zika1': 'pBNHJXOvnH3GA_o-Q_hq6Ka2-87Tdql1fZrO_N5KYXngU7-IfvCo2lfnqw', 'DWG KIA': '9XeH_knP-yeA2oeFpHsM3pXro518T6ZCC9DRUEKMPe8QmDo', '더블큐티준서버거': 'xtlgiHx7go0PlQVz-M1iWUAWhAhVFvMp3Cv_O21fqCIZVGA', 'Lv 1 호야': 'TQVkvK33cuSTh9npVOQ6EZVF717HAbNliZJsSA9lUa0r5_s', 'Slow start 1': '2JIN2bS7npiwMhE_1N9EWyN1U2ldkkkEjhDBp8x6nS_WikU', 'KDF Moham': '9R3YaPPcShn18JfmLrIWiOFgDCemRrYOZ7N6ioohLbvTowtH', 'ggg666': 'TNP0nbOrdWD1f5kQGlkwSXDhmFAlfP4VugtKXW0JaoDyvo5Nvkv8D43ZcQ', 'Kishimiyu': 'qsZdYcExEDDyl32faOZjIOyRvLS91ZgQbdLdkanu13Z-rVAbuW0z2a1UkQ', 'Crulser': 'NvaD4SL359cuBqmdGxqEgBGweyn0bevs9xcTKE9-vFu1uMc', 'bao9': 'u9FKxxiWgaTz14QejF67Pc0GDRZ9y-3NrNB1QIinS_ia2_A', 'HLE OnFleek': 'wJB08_FRbc0YF3UOJq6m4vYTdpeqjQ7Ik27kH1Ro7gcj7r4', '읽씹맨': 'EfnlPQx_VdoNzCThdM3Z8VnMMxZtB-YnPQX2ETVWnmDvasM', 'UijU': 'ZQqmRwWt5aH3SMUpLvtnIEvgIrlCqg-pip4-kYefYN3mKTU', '열심히해볼생각': 'a9j8G1KMT9ChUOwupsiF5IO34rz0aJwm1vPKiJbVnAMio4g', '헤나의 룩북': 'bC29n9nwN3j9R6X5oSYKtQYrtFe78vnRGiRJ1ejiabBlzhU', 'M1nit': 'eWyIOiXdFdrO7JSlVoirDoqsXkU98dNbn5z2FQHcaSBSqyY', 'come on and win': 'l2vbiMGvFlS9gRbX5ZBw0AB6nOUdZzWob-cohm8MRGjvZ1wWStxfeKNhZg', '디알엑스 태윤': 'gnNXItXsSfBQkV_K3x71W1eaZoi48j9cilD-RwNFMbj-gH0', 'DK Rahel': '5u7dO13trBoTW05EOWDO2bjVOyjEANB_xc-O1CfLo7PoMW4', 'FA BaeKHo': 'Omk0-Bu2Unewy-U2yZ2g2y_yelJWttD-XDwU1IlTWZJAr3I', 'dao liu shi jian': 'Mnw9zOeCBe_QyuJ2mGg46GgrVy7U533IB49g3g_heFEnbMZgp-B5rdwDVQ', 'dayuluoxia': 'MstBfQ0XjjsAFIkEyXs8wJRAFPnBrTLT3ncwqHuv5PmkShFYWxOG4AkEUQ', 'Destiny': 'R68AhE5bnjvLr23gmX8om7x7Vt2fA_q_mXO0lry3ITrl3n4', '나이트퓨리의선물': '10lFoEI0dgPXiwagBnxVk01b2k7UBcXEUVV7JToJgHZWlEA', 's1eepyhead': 'oJe8eoTmAhJKVTBBswSz_pqRntvdomo89LLeYXFUj6Q3M6hayWQewGbHJA', 'KING MIR': '3dSy7qtRnFzvWRlk78D6fvpD0ImFWLT2Xods2pu3VjWY7Kk', 'iamoookay': 'm3oqpd0tbWIXjUbeKd-aRQEmMEXrWRbdy-r3cGyoZhqXvLeGpXrfeBRxxQ', '태양 은 무겁다': 'I6o9liwlc3f6R4AFe2IqvSTqiKe-a4cR4RqsecmDix1bcgkVQS8yL7nlwA', '댕청잇': '8lYyfV2uAYmm93SG-AujVYqKTLrPGsgdShfLAhwkacX9z24', 'ziyou': 'kdvFYo4qaat4hGBGzCfMUN-jN183Ch1qU3NJ1gd01WZ3o14', 'doujianghuimian': 'F3wCURTwgv9IzF5qaUPNrGOv_di7bG_5n8ZcxMBiDPSotoGqakO-ffNcUA', '폼 팡': 'BhauR5oTJrrlIuKNfrGTk30oH7F-36F0VE9i6kqvJIF6zjU', 'xasdafsc': '8U4LXH1ZZ6y1IkBH32v5VYg1KkS_PifuE0s32iylZdQIXWULYDxtWS1rxQ', 'Gen G Peyz': 'DytLg6qrxfN6v5p7tr3GcDQidnNlp8ZeGr337YJ9PbE-wZU', 'megaomegao': 'I0eDFFXCVw0eSAq7etzNqzqZ3ZpiW3H_GOqBj1k1PXwbg65kHOf2ftM2Fg', '역시폭군': 'Qo3QqKRWm9kBhcMQwS-6-h6hhwnvvCfLs_b9OCLb-uKJTBFgkC8yuIu3dw', '하 루 가절 반 ': '6cjK4PpxESXp2Nlju9L47x0ToaDsvoRWEJUYUpLtDv5UjN8', '늙고 병든 용진이': 'tC59dfUUd7_o15gaIDCcdTvAPzeCP57577pC4AnEe-LYL5U', 'Honp1': 'NavVRT-lb9PeKcyUiHunF6qRoV-1kzQyX6mUiqHOQoh10hinBD5ByaC1Rw', 'Love ShengJiaran': 'SrmdICMNw-vTZnD_0jG2pcll1JFtEfGOhtiPIqKEgqjHHCo', 'Yellow': 'gyDX4VkYQJja6xtZIXb4_NcXYEFqcjQ5Vw4d0fj0bZgBgsE', '타 잔': 'KhNemV7pUiuFKNsDeAfKl-bidPTN9GVOJK2zxskM2wbpoLk', '날으는참새1': 'u4aYm4RJBG6yRKuS-an9ux3Ze2-8NgR50g5uMXGhkorFlpVAm7ytcDyZmg', 'KT Castle': 'USNMBdYgS-xt6wliWabbkydSGAgoXvRZmUr3EnAyGKSNPcQ', 'laji fuzhu': '7D0XNH_rhiPXZKzKAVuPzIljFDekhUm2q-mkzh68e9UCj8UK1CoVGZn3jQ', 'LSB KingKong': 'Ao5WijXUqhqXZcOUXTgY_dPbg7EmEpr8RvzHp9ZjUu9B9XM', 'Cisum': 'UzYwd654Cl3HJ4R1WD7KGNq2zZUS5llSDRZG1T9mxO22lNGu5mM0r4tQtg', '듀오강의코코팀': 'HfUEonnBU-YJPBQeqc97-QyiAjSwNg-UeiLlhES9nw6vzclTeFDEMCBuAQ', 'sksqnf': 'MhitUwHcv_xoVs07yDK70HTEOEPTMPE6-tPrIbnvuf2Scy0', 'Porte de I Enfer': 'vsMmWLd1ItMxwYevvZVHB_zOQM4EdBIdXXtA92xGqVFRNkQ', '일산전영찬': 'v3te64pa_bW1bF8aw4n9aRn_DPwi2Zz0goYm7vJWKhlrRf-5DX_A8J-AHA', 'sldjsm': 'pm3cWWKlk5_HRGfmQ1XvTcRGe7vbcPd5xXz9HaGmcmYRb4o', '구글롤플릭스검색': 'o64NwbOpjxfFbyoxCHVeHnIiruTarZjGS-CJHN9_aQRFw6ARyKzKKglANg', 'NS FIESTA': 'ovn6l320RxEULaJglQM1nFn-BZ2LZ0GHvBjemufgd8uYLT8', '콩나물이좋아요': 'cFL7NopjnlCpqdMi4hzY2FCByXvDiUH25E96aDEpBj1X3q0', 'xiangcai': 'FOt9xUvZCXrm3Z2aE2Srtnd7r57uXSGQBrg8-_Im90ldvs54tSj6awbu9w', 'whisper snow': 'OCemWVjmkEmtuNjAJnoVPl-sL4ZoO-lEiw1zwM-eZX7txu0', 'asdasasdasd': '5XmgV6gnI0mGaEP4Y94aAza8DIjTsmFplKyoOmtqHq6FsS2m85U_GnMmhw', '제드팀 누누문의': 'RzKXJnr0mO8tt9hIKNy7Sqc_h6yzWpDh91JZMtJexsViA9_VlahfkvXJAw', 'Chasy': 'Wk1p1lQsLr8ib8PBomPw-frkjSMcik9X3eddukaD6rxAopE', '권 지 인': '8QeSpax9oFCZ5YPUoHH8H_UBNs38e4tl_Mq4mTT53xrc_5g', '땅에 묻히다': '1kgcj_-_YOrurTUoZFOYwHcXy9HGnF-rwnJyeViT2kUNVrohCZJ7Gw_kHg', 'ben ben pei wan': 'YAqdCwhsG7P7XhYEFt8CRPk_dU7CHECpIcLeuclsI46ic78', '13aize': 'TA7j1IseKebEfP_KGswXuGACWpphfPYJER7fj8aHc_WOkg', '구글 롤브라더스': 'hbVBENrehuvQC1V4fNmkp72xe9mfsvebLxSVb8ZfaGUT0rSeMGsrcRVBLw', 'Twitch Tv 근성맨': 'oxIZWAHk7lIyviMiOy0Q_cgVxXB3SjLaHGKAl8rJdEglC7xO', 'Ninja3': 'wWdeGPD__hLFsgpSSTLNc2Amj28sR2QzSAjShVr2ceUmVsgloLmWLI1_bA', 'FA 정훈': 'z6VxsFCf7D2JTBptt1v9-YzullQ5Lw4ZpbB3uNoLLVDRPqA', '룡식2': 'ffvAdHx5DU54LwWM4eY40Dz_vmmf5rhgTKj9nj03g5a6bUw', '찬구형1': '75yYuQfovtUhMmhFDrDXc5wH3eY6VS4rP3faLhZZEjPQ1W9fHRFa2LyEfQ', ' Happiness21': 'abxkntaSeTtpw7Bqcmn2xyutgCUKQprqVStyQ3_vw8NNAxzlmKrMi3lTqw', 'qweasdfl': '5nburFnRP4kqDZrCr0gd-7_tMPxG9SZ2Ezkh9wA7prxpfcU', 'lengqingxue2': '1ymgAXVOra8LdSkd-wOgHJPkAs6M7S97AGGXei9xeFJiOBA', 'IllIlIIIlllII': '29qFjwyO8NazFtM7rzaSmsIqiMtlOim8z2SEXaAD0yVqGLBImqj4DM0bww', '찬구형2': 'VBrD-hSGiqnylR2l64mZ08UQacs_h-2iptZJiUrgIOaror4', '기지개펴는다람쥐': 'fE8o5Ew9moJP-VS06FdzzgFZsDWsz-bn6XLd2JastRuiIFI', 'zhzj': 'vy1kPdPF-4kM9SEwzAMrauQi-AjLxbgHrfgw6SM0bBLFD_EGaXa3BJFbdg', 'msyslor': '-dGgtOjQrdsaexb340A4xO4IILJAgCPTn6Zo7jp3AFk8ud6O-w1oGGNeYA', 'Leminem': '4fuCumDjlUaGr8XuZlcyDG0U8aK4mZaVYKAYm_Lew5JoJPScyB4iCPdyIw', 'pig cage': 'v6ikM6dTaLXv1KzDfbuNWWP9KXJzdysEKYSAjZxRSOiDOCU', 'Twitch 다훈갓': '3u3o5ZXHZweb9563LpGE72qpddxseI1b1XlE2pvaUi-nvg', 'ldmzz1': 'NdkOGGw4-OpavcXLGJBrzjuc4Cv23ErgU0piCPnEQCDgOXY-sHuKuaHANQ', 'zzm7': 'wn9oyrOXIc21pQrJ1B899-fdEL_rtzU6X2TOhzT-T8_0fUFT4NuqamBShQ', '지훈백크': 'pnU0Pvmgqbba7Zk0mH7M1LXhXU3tlGslfsZ6PnZ_1oxP59-bpUqQBnlaDw', 'Liiv Howling': 'u9LMuEhteqwYE-87PaHagP1mO-jPpKz260RZJ05Mvb4zC-s', '갱붕이': 'z4JPI5-e_bnvS4vrFig9S0Msjr3lv4aTSes4cEu12CONEWw', '쿠 리': 'us3tAEQvlkkAfoiobjl28PM1RK_arfZ5AZcglasZAx7eNZ4', '남장구': 'BJAj1Csn5Q7YeF9NwP17DBWFj9U3qZu_W7XrSLq97gwMzRl1IgWmeG8SgA', 'HLE Lure1': 'tLXXgh7a0KYmJrudRqp_fCZGYyw45GNdOx9jZS-LUjccNLz0c_5V3JZduQ', 'happy   game ': 'vEXLsi7qhp7017odYM9hh6KF6my2uFsTupEMKLgN-Z6ZYGI', 'duibuqiman': 'wvn7jHXcEyMkOJSbBs4aYeE58M5C1_EPLS99F04OAFHhvis', 'Narah': '-eAX-zb43jMEjXdZJXcoFnrbc_-yAyNpYCPWUQc2rwl1D1k', '쪼렙이다말로하자': 'UDs_0WDTEdAYB25x80_x4NZUXcjM1zNpw7bk2dI5B8Wwdg', 'Canna00': '6wjAVGHqK87kAwCZ8SPHRB2TzPTM5tAc1wYWxljvSaMGa8g', '병권좌': 'UxuPDbfHCxs4buvhzbBlBfsHLcYVfzsbc0XKeX5JYcW5tQ', '채은누나 예쁘다 ': 'aJnc2l-pOHg3sLBTghc3PHv6pUEQi8ZSVmWRUl_MhZzrTNA3', '워웍뿌삐': '0wlnaAtLvX__zThTj8-G3UMRdvefiRm_bV_3jinY0KU2L0U', '힐안주면그만이야': 'gQOx7MD0ucWs88zncn0xeY0s_Ic72r0BWKFdPRdRVRNzA2A', 'Celinain': '3FD_7k4QLlfKbBcZ5BEabiq_3F0lmsH8R0HJBsWLhy5AnZLl48Pu_uWn0w', '칼과 창 방패': 'd2XnkXOkRnRzQo-Ep7ZkrS3cs7vXU5CoYn3KpCRiJZgEZ9Q', '팀개못하면누누함': '81nFBc3TiPwUQTYTWTBffeK67Zw-wNfqE7WGBxdK-VaCI-w', '재훈이의모함': 'wa9DFnc0q1v7OsHfEWmyQjiuD5w5sc7qPK9v-X_1XYqp2_qUy8xKMcCMtA', '땀비몬': 'Eu-KAUk7ZZMnZT82J_MWAYoI5i1H7gkPOcw7C8lYnydpxA', 'Kim Sang Hoon': '5_83NX43xbRMZp9s38pGWO-aTB9vwBuwj2hIrk6TA8Upqow', '은가뉴': 'pzozFMvYJYNizYpnpGoiXbCzeiXRrRFbKmgHqq8PrEjjzD0', 'JUGKlNG': 'gRHCf7r9hvsddeiQOac0bywkhqYiefFvrEDzSS4cWXS-vcs', 'Witt Mid': 'xDylLxgN7S8nh3-zRBpZC4VGLvVvpzC_CgKWBFLp_-_TOAQ', 'Epilogue for u': 'm6vCixy55Y3WWwGw30njx4-3IPdq3x2Gs7YJHVkPr9FF80EZbCHYcS7N0g', '크로꼬': 'lrLtw-cbUwDik0kTY8XFlKAOTnwknuwlynoXxvd7PNIe-ddm', '0o0OoO': 'xUGLQycsu-ZIwIvlE7Mg_tu52xUgMopIo7YwhW2kcI0uxb15EfLWsHXoOg', '이 차가 식기전에': 'zQxNFMu1Qi3Sklol3aG3gIxm7DHUaHFQXqQXFqRLLUPmDDY', 'Bearduck': 'tDjBZcDwzdUXkR27JmIMTlMXZ2WpxON7vtMwNL-gfYipjA', 'yyzx': 'UF3a2XLC5_7C9AkoU20TNyPjrAHy-j3XZWmalxnyI_n_F0I', '커피물조절장인': '6EDnJnyDWbWHWuLJFGnj4_2LjVwIzDJX0K2qwKR3nVyPPek', 'By 불비': '0PelUcB08hc2b-Qr0ps5hmZccqes4SSGS8oufcjlqNVsREA', 'fragiIe': 'HFN4o-eOtlmNB9bPjVOS3cf4daTHNWJDfGN0AqWBXMK0sBw', 'BRO Hena': 'Jia0DlYh1IjVrx_L6IS8KNUJ-4cZh8s47M7gtoidNg_NOZw', '유백진': 'GSgoLYHPsrigrBTnsQgGzjKTTM_YqVWMlDqoqeCXc3D8azk', '아무것도안하는삶': 'ZYI4yoYajeCZH5MsLuw339dI3FMSAAWtyqbcVBp6Ecj1j5o4AlQHcSEzWg', 'lhyz': 'HAZrHID6PeskxApHUM7t-vDXlxQgnP86SMZ_0ChjLbm3-vMwy3hMS87Tfw', '농심라면다내꺼야': 'l_Mgqjw06oM6PB8NVXWG9QrgeldpH0GRkOStAROIpQ1qXFdS', 'ben di ren': 'WHyTZgK6cIViEJWIk4EaN4OKk0uNLLhAArieNWJR1w19zCldm2mCr1k5RQ', 'JUNGIE GOD 12': 'GETpX5wnWz8N8mhkb90qh2A5OpJnuMtK-0q_U-JsoHmZBtsu4VOSty8N4g', 'LSB Kael': 'vJiSmr_k-jgjikD3TX5aq12pY6nyqGaDEKdgpgif3AcBZmg', 'Ninja33': 'MD65lP8mrd0BRwoFc-tYhlbZXnBxRXq3wXHZcDq00Sah0gvZFlTYOCqMGQ', 'Mg mid': 'LlJE_nxcFe--GtGla0-UK0S_L-aer30rXLMm1pFuIQRpB0a-', 'beisishu': 'cbYs4eMS1Ou8gZx3wVkKILPCE1Y0gMUTcQxDvyoUyfYu7tc6EVVOSLDMPw', '숨바꼭질': 'pPh5eaY6CIzGVZ2RBMrLDU1RTlfpO__fJG_w1wgDxMcgPhI', 'HLE Willer1': '9cS0Ev50ZKPU_Hsx2gE_0QAZcVCOGQlfVRmBrXEaL4254js', 'nimamazhenduo': '0Ei1ISbX2Sv0V229lPRnIG_ZDUKteADmxorsN4AtmzoMB6xD3DdYcxn4yA', 'Cc3cC': 'LegBRvBXwjyHDUl6FI7ATDH4nq_Az-2cHaKkcMem6tSmyRM', 'MUDAI': 'wshfa5PnEzL4_AXD8Xm7qtpLiPOYvZtv9RH72DQ2ygD46rc', 'BRO Delight': 'hyYHcI4ng8VkrfJ9kKBSI4zaSXV02qe6ebbpeq9VkbePKb0', '이도류': 'PHFGDqZ1mnZwWK4i11IDuEQbetrLRBhesKcX-eUR3BLafvo', 'HamBak1': '3RJ1AmboJ3ajYbhCUpVYJiRJosXXskiyxb8yKehu2JHvW1I', 'adasdasdfaf': '255kWE1dgxGsWYR_MegLZ-MiapDAZKeeCZta2Mg8OIIOoFK2bB9YN5WsJA', '역천괴': 'PinsyRg2BjR3IsMizsK-GN6eYEhWaGmrsP5CAi0QrrI2J0Q', 'T1 Gumayusi': 'mScKhxxZyb6l4FDncN7ecMWzzRICWRLrPu_R_v2Tkf282E0', '왁컬로이두': 'J7iIq7-zGa5GNfKGWhhPlm9iiEwrnxmUyrfsA_7JeUs3uOY', 'Nation Blue': 'upZgCHwf4CU3jvLiZ6xKdT75tOb9STR51VEszY0SypmTopU', '우찬굳': '9FHxpEKsr_91laj46mS6ex9xzFNSTDvsgtxZCoEaxwqzK-U', 'Yagao12': 'Or-_-6ulR_u0VQQxk0gAtcplUDpTOV9z_EDQIW4ffbCfz9VcyNbIzrhPQA', 'Marchen': 'ZTbNp6eVjZUCvTi5SsvJVsS0P8cwdsTjihm57okesBe1WwQ', '아이린': 'JXn0bdsXwhbr5ewGdI8FAVBiNNQMCDD7JBDet4bwtkGbDoI', 'NiHuiZaiNaNeIlI': '4aK04SRMSoZX-LuOktz_5ZINwIrNynrLMf54UrDud0SrMWnWs1A0NaXawA', 'NeedAspirin': 'O5-ekhorRw-Z3qbPbfU8yb7EHGcpGzAWp4XXXaT3FP5bNaDeL94HwAtbCQ', 'not worth it': 'dK0lFJq4DaNO5ptnUP8IwaqjqfHFbm9V5mDsaU5fiEmQ2LE', 'Samver': 'G3cO9OqKgLZyHCso_Wv4XhbjfZ--C-9rXAYA_P4ef_h9N2M', '잘하자 이현2022': '8lCcoCGzXMC2dPP0Aku1FwA6dWTVbo2PJmA_cROcDd-BIQ', 'Noticed': 'f5LgTfWNgzcZLaWbbrqwvTQ7zoauhvIiMPAOp7eNbgwFxgc', 'ren jian': 'F91itNiTY7FbV7qK_cFlziUKEzNavGiDkVlgt3tkyo7bmuE', 'E T E R N U M l': 't0Mi0ad_9W2FcApUqSzB2cMVi3641c3FL-bg9GwcfF9zdMZFAlAlT3xPpw', 'su yi ming': 'DInVApbfp-c9_d91dASzdSmcM2mWf65QX1-RB9DlR5tl9E7imuySfdHH_Q', '초보강아지': 'fCq8mlPX_QdUIN6Wcja6Fai-Qu5Cx5tCHGRXkWPVXNdo9g', 'zxcasqwe': 'LfrLg8RovuThMR0nFTUcUdGDyT9RwDwhDUnuNUx0OR6kuF_2Km7OPztMVg', 'NS Sylvie': 'H19a2HlHo1nsGdxout3GHwEIMGaItcju4POsSgGvC3Gepsg', '엉덩국 갱승제로': '2xf006_WOkpy_Sh6pQx1RsibGNvpKL1wvo6l5npiRcqThA', '사막여우겨울나기': 'ptdjXz0tMeax7ZApBV8ZusE7pho1y5k78NRcPxfJe3R2QbxOdteu467nWw', '어리고싶다': 'm2bacLcShwf0OSt4jRypfVYe2PaDF8rIDNALjvJXqnc1Jx4', '뉘셰핑': 'Spf4JotpUK4oAR-f2L9i5Wk6PfWRZCq_fmMy6fAOb4hOqTv_5EeHVW7-wA', 'xinuwuchang': 'jBZ9DB1AYdTAxmYn_HRLTeasVdzasCseErSGXMfD7YNJmpyj8WbkOkEtWw', 'DK Lucid': 'mQ7U2bmCBCXZcUj-BABplc9iTBttq89K_mHkHptMY5EtHtKR', '전상득': 'PnAPNnwQ9Ya0MwU9cCHDr5DrNarIw-9yVDlE_HXFTYM1gZA'}\n"
     ]
    }
   ],
   "source": [
    "import requests\n",
    "import json\n",
    "import time\n",
    "import pprint\n",
    "import pandas as pd\n",
    "\n",
    "pp = pprint.PrettyPrinter(indent=4)\n",
    "request_header = {\n",
    "                    \"User-Agent\": \"Mozilla/5.0 (Windows NT 10.0; Win64; x64) AppleWebKit/537.36 (KHTML, like Gecko) Chrome/91.0.4472.164 Safari/537.36\",\n",
    "                    \"Accept-Language\": \"ko,en-US;q=0.9,en;q=0.8,es;q=0.7\",\n",
    "                    \"Accept-Charset\": \"application/x-www-form-urlencoded; charset=UTF-8\",\n",
    "                    \"Origin\": \"https://developer.riotgames.com\",\n",
    "                    \"X-Riot-Token\": 'RGAPI-6a708b0f-f6a1-4a00-a1a4-21f6c260734a'\n",
    "                }\n",
    "\n",
    "# for문 진행률 확인 라이브러리\n",
    "from tqdm import tqdm\n",
    "\n",
    "#제공받은 라이브러리키 입력\n",
    "\n",
    "api_key = 'RGAPI-6a708b0f-f6a1-4a00-a1a4-21f6c260734a'\n",
    "\n",
    "## 소환사의 ID수집\n",
    "url = 'https://kr.api.riotgames.com/lol/league/v4/challengerleagues/by-queue/RANKED_SOLO_5x5?api_key=' + api_key\n",
    "\n",
    "summonerId = {}\n",
    "\n",
    "r = requests.get(url)\n",
    "r = r.json()['entries']#소환사의 고유 id\n",
    "# print(r.json())\n",
    "\n",
    "num = 0\n",
    "for i in r:\n",
    "#     print(i)\n",
    "#     print(i['summonerId'], i['summonerName'])\n",
    "    summonerId[i['summonerName']] = i['summonerId']\n",
    "\n",
    "    num += 1\n",
    "print(num)\n",
    "print(summonerId)"
   ]
  },
  {
   "cell_type": "code",
   "execution_count": 8,
   "id": "01664b15",
   "metadata": {
    "id": "01664b15",
    "outputId": "a3ab6756-c145-4d76-a18f-0ee44bd40e8d",
    "scrolled": true
   },
   "outputs": [
    {
     "name": "stderr",
     "output_type": "stream",
     "text": [
      "  0%|▏                                          | 1/229 [00:00<02:52,  1.32it/s]"
     ]
    },
    {
     "name": "stdout",
     "output_type": "stream",
     "text": [
      "pMhkIiP97s1TK-flG6SN52mbsfpA5OhfwuviopXzyMyf7a2HBGvOehETg9bzYZt6dJpblR1dSOWRzw\n"
     ]
    },
    {
     "name": "stderr",
     "output_type": "stream",
     "text": [
      "\r",
      "  1%|▍                                          | 2/229 [00:01<01:48,  2.09it/s]"
     ]
    },
    {
     "name": "stdout",
     "output_type": "stream",
     "text": [
      "R0MRydc63m4pWrZyi2x_ERFAxX7usLsav3Gw8tSMgvhFHcDuXffskGh-n1Um00T5806a6xOKTkY2Bw\n"
     ]
    },
    {
     "name": "stderr",
     "output_type": "stream",
     "text": [
      "\r",
      "  1%|▌                                          | 3/229 [00:01<01:25,  2.65it/s]"
     ]
    },
    {
     "name": "stdout",
     "output_type": "stream",
     "text": [
      "RbEzKvJa2KvvQGb-mWfgRii9prCjwSaxuU4vyG-SZdD272KM4sq3ORgfkXLtkAY6IxnhYyEHCWymFA\n"
     ]
    },
    {
     "name": "stderr",
     "output_type": "stream",
     "text": [
      "\r",
      "  2%|▊                                          | 4/229 [00:01<01:26,  2.61it/s]"
     ]
    },
    {
     "name": "stdout",
     "output_type": "stream",
     "text": [
      "7fn_jis4LGtF-k92wuuy9tuFdnmnijA7gb9ds6HQRZ_6V6VVdxEGpbNS5QCKW56nM524_83tqCtrEQ\n"
     ]
    },
    {
     "name": "stderr",
     "output_type": "stream",
     "text": [
      "\r",
      "  2%|▉                                          | 5/229 [00:01<01:19,  2.82it/s]"
     ]
    },
    {
     "name": "stdout",
     "output_type": "stream",
     "text": [
      "LvRJfRvO5EtGnk2fYSyc9hcQI-xF0inVygxRl5c7NbtQ3QUFnbWtXZCKqpApVqH6P0F0PEG6G7azTg\n"
     ]
    },
    {
     "name": "stderr",
     "output_type": "stream",
     "text": [
      "\r",
      "  3%|█▏                                         | 6/229 [00:02<01:13,  3.04it/s]"
     ]
    },
    {
     "name": "stdout",
     "output_type": "stream",
     "text": [
      "gIViyh6-R5g2o24GOPyOdWji3iXiAhLzvFxznc4CkscPqTtFoXEht6ss1GSEYhg5zb4uty7tpipOAw\n"
     ]
    },
    {
     "name": "stderr",
     "output_type": "stream",
     "text": [
      "\r",
      "  3%|█▎                                         | 7/229 [00:02<01:08,  3.23it/s]"
     ]
    },
    {
     "name": "stdout",
     "output_type": "stream",
     "text": [
      "E0kFh7IGswvJ15cD3cYUI8RuUktHSo3H8YwF11qKL0g3k9BwT2wv-fJkR06ksCvwK0gAwVfqVTxvDQ\n"
     ]
    },
    {
     "name": "stderr",
     "output_type": "stream",
     "text": [
      "\r",
      "  3%|█▌                                         | 8/229 [00:02<01:04,  3.42it/s]"
     ]
    },
    {
     "name": "stdout",
     "output_type": "stream",
     "text": [
      "leMeecj34NufVcmDKtk6-dKgedvBUYoPvl3s6Nl6AbqvT_NQjtPAMfvA_FgDFlQzEyOR-5guBEXwiQ\n"
     ]
    },
    {
     "name": "stderr",
     "output_type": "stream",
     "text": [
      "\r",
      "  4%|█▋                                         | 9/229 [00:03<01:02,  3.53it/s]"
     ]
    },
    {
     "name": "stdout",
     "output_type": "stream",
     "text": [
      "jBm1OHyZIqwGSWouzoCsqacKM8psOrsFHl3KaMi75ttODuzNJ1ThzrwW17jO5olqeGYHsRIazs3jjQ\n"
     ]
    },
    {
     "name": "stderr",
     "output_type": "stream",
     "text": [
      "\r",
      "  4%|█▊                                        | 10/229 [00:03<01:01,  3.55it/s]"
     ]
    },
    {
     "name": "stdout",
     "output_type": "stream",
     "text": [
      "FSOYcrPUs1ykFzNXkGLsm82nfoZSZGFi3TUZXa4bBteyyG_viD3mOK-zM8RyBrTI0vMJDkwkoHXaPw\n"
     ]
    },
    {
     "name": "stderr",
     "output_type": "stream",
     "text": [
      "\r",
      "  5%|██                                        | 11/229 [00:03<01:00,  3.60it/s]"
     ]
    },
    {
     "name": "stdout",
     "output_type": "stream",
     "text": [
      "XjYMeMGawApVDpBp0_NQhoayrOjxf8GhEQpNOLCsaSQnFMooP6gQla-d5-ZXzID6zDkR61Pqri4NCA\n"
     ]
    },
    {
     "name": "stderr",
     "output_type": "stream",
     "text": [
      "\r",
      "  5%|██▏                                       | 12/229 [00:03<00:59,  3.64it/s]"
     ]
    },
    {
     "name": "stdout",
     "output_type": "stream",
     "text": [
      "NZWI16kWcRtAXLfz-w0ZcMMYaDtCJ0teiYmeztP3PhomwleLCPshvGoiVBcJA6h8UHgyxchkN78GsA\n"
     ]
    },
    {
     "name": "stderr",
     "output_type": "stream",
     "text": [
      "\r",
      "  6%|██▍                                       | 13/229 [00:04<01:00,  3.57it/s]"
     ]
    },
    {
     "name": "stdout",
     "output_type": "stream",
     "text": [
      "hVj6ZpcQIkTgBuhwBWPvZE30YGuZYghkUoO12FQr-GxTvJUosM6_48DEisliB6GLsnMpOKRQOBCcKA\n"
     ]
    },
    {
     "name": "stderr",
     "output_type": "stream",
     "text": [
      "\r",
      "  6%|██▌                                       | 14/229 [00:04<01:00,  3.54it/s]"
     ]
    },
    {
     "name": "stdout",
     "output_type": "stream",
     "text": [
      "RhxlXLp9de_2-4HgEZp9Fga8QSTcqG_yTfnefZ6NO4fFC3A324PgBRdfemaMNgzXJwHC0pGu4HU-2g\n"
     ]
    },
    {
     "name": "stderr",
     "output_type": "stream",
     "text": [
      "\r",
      "  7%|██▊                                       | 15/229 [00:04<01:00,  3.52it/s]"
     ]
    },
    {
     "name": "stdout",
     "output_type": "stream",
     "text": [
      "hCRNwecta5QGz_4zmkhXcK3688aH7Rs_Ku9gr58-6SqR0Cr1XUt340qqxvBYWGu9j_29FjM5ZF52Xg\n"
     ]
    },
    {
     "name": "stderr",
     "output_type": "stream",
     "text": [
      "\r",
      "  7%|██▉                                       | 16/229 [00:05<01:06,  3.19it/s]"
     ]
    },
    {
     "name": "stdout",
     "output_type": "stream",
     "text": [
      "b9UPjZYI6qoyBKAUwxJR0hrIJBfVX7Y60xOdPAGAyhl9XKwZavjqprpB1bfQF7LppESvKryMq_onfA\n"
     ]
    },
    {
     "name": "stderr",
     "output_type": "stream",
     "text": [
      "\r",
      "  7%|███                                       | 17/229 [00:05<01:04,  3.27it/s]"
     ]
    },
    {
     "name": "stdout",
     "output_type": "stream",
     "text": [
      "SjYkhgb7nGnunuremy1d4_6v4XSNu8yky07V-AtlhyRhQ0RtcvV10QmDGqTQAigl1yiff5itxaY8lQ\n"
     ]
    },
    {
     "name": "stderr",
     "output_type": "stream",
     "text": [
      "\r",
      "  8%|███▎                                      | 18/229 [00:05<01:07,  3.11it/s]"
     ]
    },
    {
     "name": "stdout",
     "output_type": "stream",
     "text": [
      "vWv3NtfsCmiEpp4DoYlxAcJxMzzUf3ywVPsOAigM7qkwGjno7jJplZah42geGxxQgXTP7we1f0iX3A\n"
     ]
    },
    {
     "name": "stderr",
     "output_type": "stream",
     "text": [
      "\r",
      "  8%|███▍                                      | 19/229 [00:06<01:05,  3.21it/s]"
     ]
    },
    {
     "name": "stdout",
     "output_type": "stream",
     "text": [
      "A002pRC_5BAIQtfEqh7G4RWC2h2CuDceuAOXoIebm1B8THVglP5TjyDzKvyyzyRnYrrrRddSUWEmXQ\n"
     ]
    },
    {
     "name": "stderr",
     "output_type": "stream",
     "text": [
      "\r",
      "  9%|███▋                                      | 20/229 [00:06<01:03,  3.31it/s]"
     ]
    },
    {
     "name": "stdout",
     "output_type": "stream",
     "text": [
      "QOw0aGYjH92GwBjMwH5Id1xlEBxozXbNwCLzLRCijk-wPCwjJAn3s56m8PrZl04LQoq-tUPXmF5EPA\n"
     ]
    },
    {
     "name": "stderr",
     "output_type": "stream",
     "text": [
      "\r",
      "  9%|███▊                                      | 21/229 [00:06<01:00,  3.44it/s]"
     ]
    },
    {
     "name": "stdout",
     "output_type": "stream",
     "text": [
      "z_RQ5iG8Z9m6mka9UwWHZM67JtnxPF8idz9sJnxA_0YzU7w9OzQVAvj0dS21bb7vmHUb2sF4eUf7iA\n"
     ]
    },
    {
     "name": "stderr",
     "output_type": "stream",
     "text": [
      "\r",
      " 10%|████                                      | 22/229 [00:06<00:59,  3.48it/s]"
     ]
    },
    {
     "name": "stdout",
     "output_type": "stream",
     "text": [
      "tud0WLp3nNOqUsnBGJkr1s02jhvOHLHT2mFeba4FcsWdDE2wN6qir7p9WicxFviwMYQx_2V962eHiw\n"
     ]
    },
    {
     "name": "stderr",
     "output_type": "stream",
     "text": [
      "\r",
      " 10%|████▏                                     | 23/229 [00:07<01:06,  3.09it/s]"
     ]
    },
    {
     "name": "stdout",
     "output_type": "stream",
     "text": [
      "uTpuoqv4kaXASKF6cFFhoaTzZoMHT5RKd0pHlZWHs4Jdi2T8rNd2dw4P_qA-XLo8vGSYeKbm78O27A\n"
     ]
    },
    {
     "name": "stderr",
     "output_type": "stream",
     "text": [
      "\r",
      " 10%|████▍                                     | 24/229 [00:07<01:03,  3.20it/s]"
     ]
    },
    {
     "name": "stdout",
     "output_type": "stream",
     "text": [
      "Ao6yLBufZP1nfRF9Y4zkTtrmwbSBWYIxouSBiVYUsYn3eMZxY6QcTZlV6onWd7dWhCzV-iQ9Vn7ppQ\n"
     ]
    },
    {
     "name": "stderr",
     "output_type": "stream",
     "text": [
      "\r",
      " 11%|████▌                                     | 25/229 [00:07<01:01,  3.30it/s]"
     ]
    },
    {
     "name": "stdout",
     "output_type": "stream",
     "text": [
      "Itn0rCg-SKMSjv5WJzgG5KItjdBK6FZdOzHc8L5CaFpJmXT4jkiNHbIAN9xWNZPR_lybmTbEazy1mQ\n"
     ]
    },
    {
     "name": "stderr",
     "output_type": "stream",
     "text": [
      "\r",
      " 11%|████▊                                     | 26/229 [00:08<00:59,  3.39it/s]"
     ]
    },
    {
     "name": "stdout",
     "output_type": "stream",
     "text": [
      "8huiU6VILkkG7s6dtoGOSD0kVDVefr2ZXG86Lsj2LnJcw1jmZr6mhDIJ-ByvUF7nXirtW551-fKMAw\n"
     ]
    },
    {
     "name": "stderr",
     "output_type": "stream",
     "text": [
      "\r",
      " 12%|████▉                                     | 27/229 [00:08<01:14,  2.71it/s]"
     ]
    },
    {
     "name": "stdout",
     "output_type": "stream",
     "text": [
      "G6k68HW3L8JNfMDlRPZTuyd6aPlg0vlAP6hqZw99EDps_Zc8ELYP0OmCf5NDPnbXUGFiMdp3r2OEsQ\n"
     ]
    },
    {
     "name": "stderr",
     "output_type": "stream",
     "text": [
      "\r",
      " 12%|█████▏                                    | 28/229 [00:09<01:18,  2.56it/s]"
     ]
    },
    {
     "name": "stdout",
     "output_type": "stream",
     "text": [
      "s6KjjSy0RJyYOMdriiSyUsU06CphWbfe48c_twEAsBfy_lY483-VbPKLEVihRWeK-ko6T5MZpjfw4A\n"
     ]
    },
    {
     "name": "stderr",
     "output_type": "stream",
     "text": [
      "\r",
      " 13%|█████▎                                    | 29/229 [00:09<01:15,  2.66it/s]"
     ]
    },
    {
     "name": "stdout",
     "output_type": "stream",
     "text": [
      "ABwr9aVCUsTfyPfAw9bDr8aHXX_UpaK_mlEN6IUAWkrTa4xqipfWHaAFWXUrXKkSmTTy7DQCeW-MCw\n"
     ]
    },
    {
     "name": "stderr",
     "output_type": "stream",
     "text": [
      "\r",
      " 13%|█████▌                                    | 30/229 [00:09<01:11,  2.79it/s]"
     ]
    },
    {
     "name": "stdout",
     "output_type": "stream",
     "text": [
      "G1TpW4Y121qpP5iUwJ5H69xjuZ-SB2fGSzBMI6Ub-oHlW4nCN6FAe6-Lq9FaPEj6-SOh-OS9SWUAfQ\n"
     ]
    },
    {
     "name": "stderr",
     "output_type": "stream",
     "text": [
      "\r",
      " 14%|█████▋                                    | 31/229 [00:10<01:06,  2.98it/s]"
     ]
    },
    {
     "name": "stdout",
     "output_type": "stream",
     "text": [
      "80uXtsp-YGxC3oqZxZEmjF79PFGRJblJWX2e6WNs3Eg25QcIVvpA_DEy--hWu9kHmHExbCfACS_sgQ\n"
     ]
    },
    {
     "name": "stderr",
     "output_type": "stream",
     "text": [
      "\r",
      " 14%|█████▊                                    | 32/229 [00:10<01:02,  3.15it/s]"
     ]
    },
    {
     "name": "stdout",
     "output_type": "stream",
     "text": [
      "oHEFzxCNF3fKcOb-3oQyX2u8pYH7IbzNCI8kZI-fVnvE1mU17CukIE8qx_iCOHcYoCwbFOQbKd0yFg\n"
     ]
    },
    {
     "name": "stderr",
     "output_type": "stream",
     "text": [
      "\r",
      " 14%|██████                                    | 33/229 [00:10<00:59,  3.32it/s]"
     ]
    },
    {
     "name": "stdout",
     "output_type": "stream",
     "text": [
      "ClAbAMcxign3oBHbXY_HLRAcOpdwG7KHdDbfY2mpmBEt1Yik1cJgw-5AY8EDagCnJX6H8ku9nS2Xcg\n"
     ]
    },
    {
     "name": "stderr",
     "output_type": "stream",
     "text": [
      "\r",
      " 15%|██████▏                                   | 34/229 [00:10<00:57,  3.39it/s]"
     ]
    },
    {
     "name": "stdout",
     "output_type": "stream",
     "text": [
      "wV-T5XlPS--iR3o_-f2ByJSEkMdW9bSN2jAeSnmiuO4wjMcJu94AwXYBodSC7YBJ7WeiiGEoYaU0yA\n"
     ]
    },
    {
     "name": "stderr",
     "output_type": "stream",
     "text": [
      "\r",
      " 15%|██████▍                                   | 35/229 [00:11<00:56,  3.44it/s]"
     ]
    },
    {
     "name": "stdout",
     "output_type": "stream",
     "text": [
      "MklAevtU2vg7b_j5bijzZFnu3y6K3s9BQVAwyAEqwQryty7MdysWwHN1aq7bPFuqHZSVWWyAtNsxCw\n"
     ]
    },
    {
     "name": "stderr",
     "output_type": "stream",
     "text": [
      "\r",
      " 16%|██████▌                                   | 36/229 [00:11<00:54,  3.52it/s]"
     ]
    },
    {
     "name": "stdout",
     "output_type": "stream",
     "text": [
      "9aGDWNzfgSSqE4xdTNd2sY75LNjj3T5_FIEHX7DWYVeXUUyzNaXP2fpUplGq6tAcA3MEW0NQbtDBYA\n"
     ]
    },
    {
     "name": "stderr",
     "output_type": "stream",
     "text": [
      "\r",
      " 16%|██████▊                                   | 37/229 [00:11<00:55,  3.48it/s]"
     ]
    },
    {
     "name": "stdout",
     "output_type": "stream",
     "text": [
      "jLkek8aqKUZEgnBdrLIMI8lSbw_P0nnIr3bbse26C8WkeYkmoepQ2POYiQnDGRzrQtf8oAmdAGxKXg\n"
     ]
    },
    {
     "name": "stderr",
     "output_type": "stream",
     "text": [
      "\r",
      " 17%|██████▉                                   | 38/229 [00:11<00:53,  3.57it/s]"
     ]
    },
    {
     "name": "stdout",
     "output_type": "stream",
     "text": [
      "LBs8zXheFAeAn85QPJd_QnjxgZYc3_Moh7ym-hrarxRU0XszVuY-4qPgHhJNkPpGqonMO25X2S-nWw\n"
     ]
    },
    {
     "name": "stderr",
     "output_type": "stream",
     "text": [
      "\r",
      " 17%|███████▏                                  | 39/229 [00:12<00:52,  3.63it/s]"
     ]
    },
    {
     "name": "stdout",
     "output_type": "stream",
     "text": [
      "1qmpagc5Y3ti0t2GNDsfo3B9iHaVeddw6S9jIqa7QZIqk2e7qtsdbgJTo9CgyrC7LJyJWnMfTxNFQg\n"
     ]
    },
    {
     "name": "stderr",
     "output_type": "stream",
     "text": [
      "\r",
      " 17%|███████▎                                  | 40/229 [00:12<00:52,  3.58it/s]"
     ]
    },
    {
     "name": "stdout",
     "output_type": "stream",
     "text": [
      "azSfCm4b1Zfu5MIJ7RKR4LeoW6DB1cmPiCZLrmk25QftTVl4svW0iHs956Vkj8lFynuUKyfp9339BA\n"
     ]
    },
    {
     "name": "stderr",
     "output_type": "stream",
     "text": [
      "\r",
      " 18%|███████▌                                  | 41/229 [00:12<00:54,  3.46it/s]"
     ]
    },
    {
     "name": "stdout",
     "output_type": "stream",
     "text": [
      "1czNGtts2wK2DoYfEiZq4w6EJxa-Q6qDDdcA3VTh5eXYeuEK0bJ3u6ZJOezx7uGy-jco3ulpULuMHg\n"
     ]
    },
    {
     "name": "stderr",
     "output_type": "stream",
     "text": [
      "\r",
      " 18%|███████▋                                  | 42/229 [00:13<01:02,  2.99it/s]"
     ]
    },
    {
     "name": "stdout",
     "output_type": "stream",
     "text": [
      "y3xTSQihOZrJQ8U7f4nIjM2XgTb9SuuhsNQKcdJVxDSXzjNAM2D6vSynYuWoDJLAbI7Ms0PSRzHjSw\n"
     ]
    },
    {
     "name": "stderr",
     "output_type": "stream",
     "text": [
      "\r",
      " 19%|███████▉                                  | 43/229 [00:13<00:59,  3.15it/s]"
     ]
    },
    {
     "name": "stdout",
     "output_type": "stream",
     "text": [
      "mtPXL3H0KeY8WiRLPOye_whmCzAPVKVQW3VxQy1fFAsyEvLuQ6kyhpw5Ajw5BqW6zTm_PiLlYznTVw\n"
     ]
    },
    {
     "name": "stderr",
     "output_type": "stream",
     "text": [
      "\r",
      " 19%|████████                                  | 44/229 [00:13<00:56,  3.28it/s]"
     ]
    },
    {
     "name": "stdout",
     "output_type": "stream",
     "text": [
      "OSisUnEEngeBg3dk67j_ni4ITodvneU9aQLVR--IDx_2lTh0HVsJCd5rRo27Y4pzbeJMiu03VvRTDw\n"
     ]
    },
    {
     "name": "stderr",
     "output_type": "stream",
     "text": [
      "\r",
      " 20%|████████▎                                 | 45/229 [00:14<00:54,  3.40it/s]"
     ]
    },
    {
     "name": "stdout",
     "output_type": "stream",
     "text": [
      "aeWLdoNdeILFIDXmG63V8ICiN8AQcJRbGYrDY9bHCTOZtbubXKP751rEtTurgGaneMDUir1KRTObcA\n"
     ]
    },
    {
     "name": "stderr",
     "output_type": "stream",
     "text": [
      "\r",
      " 20%|████████▍                                 | 46/229 [00:14<00:52,  3.48it/s]"
     ]
    },
    {
     "name": "stdout",
     "output_type": "stream",
     "text": [
      "rHx3T-pKfnHuvn_fJ1N8UuxLSygwySgBHS-kUt3si05-bGPYiosFsZ0YZeKfzjrwzy0alva5g3-JVA\n"
     ]
    },
    {
     "name": "stderr",
     "output_type": "stream",
     "text": [
      "\r",
      " 21%|████████▌                                 | 47/229 [00:14<00:53,  3.43it/s]"
     ]
    },
    {
     "name": "stdout",
     "output_type": "stream",
     "text": [
      "PamxAdFInn-xXoH7FjBZu0F4OlynCixvW1g5iWGw9p_eOQfenCiX8TvbewdZfHWintDt_AY8LO09lw\n"
     ]
    },
    {
     "name": "stderr",
     "output_type": "stream",
     "text": [
      "\r",
      " 21%|████████▊                                 | 48/229 [00:14<00:53,  3.39it/s]"
     ]
    },
    {
     "name": "stdout",
     "output_type": "stream",
     "text": [
      "OyCCu2Lx83YKbp1r7cNvyj4ToLt1FCr3hwPKcezViWPPWM0E7EqqiVIzPNM8NV7pxwtlxI9TRZBrtA\n"
     ]
    },
    {
     "name": "stderr",
     "output_type": "stream",
     "text": [
      "\r",
      " 21%|████████▉                                 | 49/229 [00:15<00:52,  3.44it/s]"
     ]
    },
    {
     "name": "stdout",
     "output_type": "stream",
     "text": [
      "2KMiU1IUCNqnUAogsW-ZupqzI6Md3AW_yDFznqsPIRWFYo8Xi1e9SpQrVdzEZz1Xf8FxvTZD0AqK8g\n"
     ]
    },
    {
     "name": "stderr",
     "output_type": "stream",
     "text": [
      "\r",
      " 22%|█████████▏                                | 50/229 [00:15<00:51,  3.45it/s]"
     ]
    },
    {
     "name": "stdout",
     "output_type": "stream",
     "text": [
      "ScTj0UoGb47flXDpdYwmTH6vH_0RwZukSrLFCm09erm6pQtPhmOwK3emfxxd1ejBPXaFYWdHwwco4w\n"
     ]
    },
    {
     "name": "stderr",
     "output_type": "stream",
     "text": [
      "\r",
      " 22%|█████████▎                                | 51/229 [00:15<00:51,  3.47it/s]"
     ]
    },
    {
     "name": "stdout",
     "output_type": "stream",
     "text": [
      "iQy16IAsbTaf0aNilI3jJBE5Gj8WxxpMHyy5_E6e_RKfDP9eEKnk6jtIABPsQOyrYPp4w3oESO5s3w\n"
     ]
    },
    {
     "name": "stderr",
     "output_type": "stream",
     "text": [
      "\r",
      " 23%|█████████▌                                | 52/229 [00:16<00:52,  3.37it/s]"
     ]
    },
    {
     "name": "stdout",
     "output_type": "stream",
     "text": [
      "TjvrghE7n3BJif7yuZ8IVlU3o5j4KsAAEengPN_NSHubodDhPgQkjkZUovh_metmXweYA8wFTrIFiw\n"
     ]
    },
    {
     "name": "stderr",
     "output_type": "stream",
     "text": [
      "\r",
      " 23%|█████████▋                                | 53/229 [00:16<00:53,  3.31it/s]"
     ]
    },
    {
     "name": "stdout",
     "output_type": "stream",
     "text": [
      "iqj_3Hj_F0xgcwpEt2OGTyPswPnUD1u4u3jKqQ6TycTpHowG-x3C-6-kKqn5OUd12oHNEvRamgZEAw\n"
     ]
    },
    {
     "name": "stderr",
     "output_type": "stream",
     "text": [
      "\r",
      " 24%|█████████▉                                | 54/229 [00:16<00:52,  3.33it/s]"
     ]
    },
    {
     "name": "stdout",
     "output_type": "stream",
     "text": [
      "_vxxM3MTeO7BOyskf2NHQEWvQaFoXCVrQNcBePrygTeJEPCWbezG7Zj3sCIEEgSMfNvJ-PVODYwRhA\n"
     ]
    },
    {
     "name": "stderr",
     "output_type": "stream",
     "text": [
      "\r",
      " 24%|██████████                                | 55/229 [00:17<00:51,  3.35it/s]"
     ]
    },
    {
     "name": "stdout",
     "output_type": "stream",
     "text": [
      "gWwJ2cdb5YE22TkVFUAuOyYhd0kXa9onkjB8Xz_PgM9dNK44hfC9y0O191RyADl5JvnTg555gSu7bg\n"
     ]
    },
    {
     "name": "stderr",
     "output_type": "stream",
     "text": [
      "\r",
      " 24%|██████████▎                               | 56/229 [00:17<00:50,  3.44it/s]"
     ]
    },
    {
     "name": "stdout",
     "output_type": "stream",
     "text": [
      "gs1VZoqg2vkBn8vnmYP6nO9D2BYLB4HiL1dlI49DFu_APOriEOLp3QQxjq03K3JBdcrE93wVBcZ53Q\n"
     ]
    },
    {
     "name": "stderr",
     "output_type": "stream",
     "text": [
      "\r",
      " 25%|██████████▍                               | 57/229 [00:17<00:49,  3.46it/s]"
     ]
    },
    {
     "name": "stdout",
     "output_type": "stream",
     "text": [
      "FrXKOVZJpKTp4FKVK17tG_Bwu-gZk9NGUvYC1eX5lkAI124gl-IxM6nf-kYBm_jifLDheBz3tHk_3Q\n"
     ]
    },
    {
     "name": "stderr",
     "output_type": "stream",
     "text": [
      "\r",
      " 25%|██████████▋                               | 58/229 [00:17<00:48,  3.54it/s]"
     ]
    },
    {
     "name": "stdout",
     "output_type": "stream",
     "text": [
      "IE5k5U2lHw3P90jTGl3rqQ-SCSHsmEzU9QnajrPA0OCOGxVSvn0GbPmcjMBTYfJZvym121bbOtyHXQ\n"
     ]
    },
    {
     "name": "stderr",
     "output_type": "stream",
     "text": [
      "\r",
      " 26%|██████████▊                               | 59/229 [00:18<00:47,  3.56it/s]"
     ]
    },
    {
     "name": "stdout",
     "output_type": "stream",
     "text": [
      "ZBoiXOM1gEwL-d868vXlxPFHrwSjtgK3EsalHfONhSUSOGRwMi5Oz7hUzPjCrwkotHBH0c7vMT7O1w\n"
     ]
    },
    {
     "name": "stderr",
     "output_type": "stream",
     "text": [
      "\r",
      " 26%|███████████                               | 60/229 [00:18<00:47,  3.52it/s]"
     ]
    },
    {
     "name": "stdout",
     "output_type": "stream",
     "text": [
      "WqW2-AdwRNjOC2zntcybaBQ5GKvAewDdmXZ29QOflATe3CgwqfIfEfa6QZVrwzWSzmJ4tph3M_Wb4w\n"
     ]
    },
    {
     "name": "stderr",
     "output_type": "stream",
     "text": [
      "\r",
      " 27%|███████████▏                              | 61/229 [00:18<00:55,  3.04it/s]"
     ]
    },
    {
     "name": "stdout",
     "output_type": "stream",
     "text": [
      "7UzOW6d6jbTPY_Pz-oo4rsBi96zIfCxxhxbAVFs67zl4t4jL_Tr_l-3MWv7obxytkUyWSV53EOMU6A\n"
     ]
    },
    {
     "name": "stderr",
     "output_type": "stream",
     "text": [
      "\r",
      " 27%|███████████▎                              | 62/229 [00:19<00:52,  3.18it/s]"
     ]
    },
    {
     "name": "stdout",
     "output_type": "stream",
     "text": [
      "jEH8M5kEiJTMf-VGHfsvINpmL-nEGKdQQMGgfQWZoIA7mdfzkcVaE0Ku0-crHhaqP0W9mLVI8wlYNQ\n"
     ]
    },
    {
     "name": "stderr",
     "output_type": "stream",
     "text": [
      "\r",
      " 28%|███████████▌                              | 63/229 [00:19<00:50,  3.27it/s]"
     ]
    },
    {
     "name": "stdout",
     "output_type": "stream",
     "text": [
      "BCyTqd5O-Pmfv9-gtOfKFSR5kw5NoutY_037zAEYPXUXcW20HuiyqBwV2axKBHscs5RIBrRQidmOTg\n"
     ]
    },
    {
     "name": "stderr",
     "output_type": "stream",
     "text": [
      "\r",
      " 28%|███████████▋                              | 64/229 [00:19<00:56,  2.92it/s]"
     ]
    },
    {
     "name": "stdout",
     "output_type": "stream",
     "text": [
      "JL42wQrzCh8dgbheHoY7qWaSYg0KzJu3KquPiK0FysbSDPNg15nooOt_tXD1Z38EkQX6JNdmqlib8Q\n"
     ]
    },
    {
     "name": "stderr",
     "output_type": "stream",
     "text": [
      "\r",
      " 28%|███████████▉                              | 65/229 [00:20<00:53,  3.07it/s]"
     ]
    },
    {
     "name": "stdout",
     "output_type": "stream",
     "text": [
      "MZOSHgi5tOaZ0oQ38Ck9KiFy7U6-3HZ01ZFEpaBlONH6KKYepjJP4TJJ6yfrr_r3aVw13P2jBZ_waA\n"
     ]
    },
    {
     "name": "stderr",
     "output_type": "stream",
     "text": [
      "\r",
      " 29%|████████████                              | 66/229 [00:20<00:49,  3.27it/s]"
     ]
    },
    {
     "name": "stdout",
     "output_type": "stream",
     "text": [
      "kOa1vVSH7OaPLamNRQVCvZczH4ywv2H0lzbpHF15V0r9bh2dpUBpgfCREORJ2kikRTT2AyFHXOki6g\n"
     ]
    },
    {
     "name": "stderr",
     "output_type": "stream",
     "text": [
      "\r",
      " 29%|████████████▎                             | 67/229 [00:20<00:47,  3.40it/s]"
     ]
    },
    {
     "name": "stdout",
     "output_type": "stream",
     "text": [
      "gKrMkHRhQyTv0Up_vc2vjItjeklntZQ3ZMo77KmT7c0JNrZ3ibPK-ninz1gDnOHsvyUqlPKguIZ6Yg\n"
     ]
    },
    {
     "name": "stderr",
     "output_type": "stream",
     "text": [
      "\r",
      " 30%|████████████▍                             | 68/229 [00:20<00:46,  3.46it/s]"
     ]
    },
    {
     "name": "stdout",
     "output_type": "stream",
     "text": [
      "s5kZg7yDdDE6LzEXKYWgp5A3NWXZqMFf-6UNMLv0lsKXTRujWITOXLba-WwSQSlqranfs0ZsELBRPw\n"
     ]
    },
    {
     "name": "stderr",
     "output_type": "stream",
     "text": [
      "\r",
      " 30%|████████████▋                             | 69/229 [00:21<00:45,  3.50it/s]"
     ]
    },
    {
     "name": "stdout",
     "output_type": "stream",
     "text": [
      "AZ8mlsmRc8EQh7ifzavAl8kL3f0PFZ5oKA4tpi_zkE3oQQjXpfM-G-Skkd-7qekv2lcNg8FVTXVIuw\n"
     ]
    },
    {
     "name": "stderr",
     "output_type": "stream",
     "text": [
      "\r",
      " 31%|████████████▊                             | 70/229 [00:21<00:45,  3.49it/s]"
     ]
    },
    {
     "name": "stdout",
     "output_type": "stream",
     "text": [
      "1SzzmSecGRH35WsuAupAGltRePjAZfCzFAUM_R2LnyzxBpuxFej3zzZuo60MAcfxoYT1AEU5Ucch_Q\n"
     ]
    },
    {
     "name": "stderr",
     "output_type": "stream",
     "text": [
      "\r",
      " 31%|█████████████                             | 71/229 [00:21<00:44,  3.56it/s]"
     ]
    },
    {
     "name": "stdout",
     "output_type": "stream",
     "text": [
      "OTYlOqMR_r7LxRZrh5aqo5VFsOB3VwbfWW8azWbmGr0c5unwI63trxxcp0VvhdPtBDJtWVJhEo-8oQ\n"
     ]
    },
    {
     "name": "stderr",
     "output_type": "stream",
     "text": [
      "\r",
      " 31%|█████████████▏                            | 72/229 [00:22<00:43,  3.57it/s]"
     ]
    },
    {
     "name": "stdout",
     "output_type": "stream",
     "text": [
      "lhXyJEEhd7qYyuZFp6km_tp7dGw0qKQ4RMiZXDQfuBn0g3wmdxmoTdAyQwcKrSEvo1kRJnjKMoJhzQ\n"
     ]
    },
    {
     "name": "stderr",
     "output_type": "stream",
     "text": [
      "\r",
      " 32%|█████████████▍                            | 73/229 [00:22<00:44,  3.48it/s]"
     ]
    },
    {
     "name": "stdout",
     "output_type": "stream",
     "text": [
      "AL8tVRxjjIu62KoWO5yMHez5vz5dAQoZ4ln72pKB4euuitkh4UfDKZPLVJ3pOcjuWSRaX7-Zm-v7Uw\n"
     ]
    },
    {
     "name": "stderr",
     "output_type": "stream",
     "text": [
      "\r",
      " 32%|█████████████▌                            | 74/229 [00:22<00:43,  3.58it/s]"
     ]
    },
    {
     "name": "stdout",
     "output_type": "stream",
     "text": [
      "ncMF525BBQU0TVfkaSqdLiG61EZjWJj04-Gmxdpz7c5yqZGvQIjl031txWPFJfn0Dl8aVBRc3dmfEg\n"
     ]
    },
    {
     "name": "stderr",
     "output_type": "stream",
     "text": [
      "\r",
      " 33%|█████████████▊                            | 75/229 [00:23<00:47,  3.24it/s]"
     ]
    },
    {
     "name": "stdout",
     "output_type": "stream",
     "text": [
      "OTPEb8yvzqDmq-HrQLIwTXpOgqvTBIrjJT-5rt_gmf-ndJWEhOuNVNMW_caybDC5TWcPbP5TK_JYiA\n"
     ]
    },
    {
     "name": "stderr",
     "output_type": "stream",
     "text": [
      "\r",
      " 33%|█████████████▉                            | 76/229 [00:23<00:45,  3.36it/s]"
     ]
    },
    {
     "name": "stdout",
     "output_type": "stream",
     "text": [
      "VOhW0PbKm9ePXt26ZXn_jMXuqZaRPR2Fn48WFVe7w9BHu3jfkhKmdITbDIAgtLj9j3i63mvrNGbqsQ\n"
     ]
    },
    {
     "name": "stderr",
     "output_type": "stream",
     "text": [
      "\r",
      " 34%|██████████████                            | 77/229 [00:23<00:44,  3.41it/s]"
     ]
    },
    {
     "name": "stdout",
     "output_type": "stream",
     "text": [
      "tK_h0pNak9QrijrXwTyh8qdm6UIzS2dKO7EpuC58B1RTxmqfNm6U2phlJoIrg47Cf65xV3q911fkdw\n"
     ]
    },
    {
     "name": "stderr",
     "output_type": "stream",
     "text": [
      "\r",
      " 34%|██████████████▎                           | 78/229 [00:23<00:43,  3.50it/s]"
     ]
    },
    {
     "name": "stdout",
     "output_type": "stream",
     "text": [
      "hwtPv14aPO4whIaqOZhNe2jzoTFLSg51V4vw1iIE2YXjQy7XKozs3eRncq712gNvYCjVNN54lsYuVw\n"
     ]
    },
    {
     "name": "stderr",
     "output_type": "stream",
     "text": [
      "\r",
      " 34%|██████████████▍                           | 79/229 [00:24<00:42,  3.51it/s]"
     ]
    },
    {
     "name": "stdout",
     "output_type": "stream",
     "text": [
      "S73Q033WJhDOj6kS6I3v-wOPYvlujRCo6zUx1PnbDbQ3A2zmiAb9pMjCPMdjI03Jrir6v1UtxlYLGA\n"
     ]
    },
    {
     "name": "stderr",
     "output_type": "stream",
     "text": [
      "\r",
      " 35%|██████████████▋                           | 80/229 [00:24<00:41,  3.55it/s]"
     ]
    },
    {
     "name": "stdout",
     "output_type": "stream",
     "text": [
      "qm7ZYQgIWiLdbSal4aDRi10k5NidM-VG1FhlgPqyT-zNvRmkLri1NcLky0caIOpyaL2rXC3RyGvvrg\n"
     ]
    },
    {
     "name": "stderr",
     "output_type": "stream",
     "text": [
      "\r",
      " 35%|██████████████▊                           | 81/229 [00:24<00:41,  3.58it/s]"
     ]
    },
    {
     "name": "stdout",
     "output_type": "stream",
     "text": [
      "nkT5ePw7Gy2OvRUGv4LxSBfPZDl7yfzw3su_8gheZXpT33SpVEP-eX6R3VH-yHc4cT4Y2Gb8Vc9O9Q\n"
     ]
    },
    {
     "name": "stderr",
     "output_type": "stream",
     "text": [
      "\r",
      " 36%|███████████████                           | 82/229 [00:24<00:40,  3.65it/s]"
     ]
    },
    {
     "name": "stdout",
     "output_type": "stream",
     "text": [
      "j1QUs0l9IT-7SxRBZ8PE3ULqFW6YmlytbCKZagbj6kIuSJmG70Bg8ujrotpjIwf1XtTJF4GghUnGwg\n"
     ]
    },
    {
     "name": "stderr",
     "output_type": "stream",
     "text": [
      "\r",
      " 36%|███████████████▏                          | 83/229 [00:25<00:42,  3.42it/s]"
     ]
    },
    {
     "name": "stdout",
     "output_type": "stream",
     "text": [
      "nluHYe_jWqke_GhSsET31rQBOByk_2YUnf45Os9xklsgU2dKZ3-9_jTlwKvF5E4xSKcMjPQNM_UAWg\n"
     ]
    },
    {
     "name": "stderr",
     "output_type": "stream",
     "text": [
      "\r",
      " 37%|███████████████▍                          | 84/229 [00:25<00:42,  3.42it/s]"
     ]
    },
    {
     "name": "stdout",
     "output_type": "stream",
     "text": [
      "juJYNIdcsF_EwXTQhYky86pHGczopcNiIaY1i07i4AJFDPT0JnsZDBjv_Jr51D5iilBljwuJKu4AMw\n"
     ]
    },
    {
     "name": "stderr",
     "output_type": "stream",
     "text": [
      "\r",
      " 37%|███████████████▌                          | 85/229 [00:25<00:41,  3.45it/s]"
     ]
    },
    {
     "name": "stdout",
     "output_type": "stream",
     "text": [
      "jO3TF5B-_bspr7n47Un2BumSzQ3ZF9Ip09ATYQo-JW4C6VL1fIlnMdQVqV-Xbi29YvehAAUi94yb5w\n"
     ]
    },
    {
     "name": "stderr",
     "output_type": "stream",
     "text": [
      "\r",
      " 38%|███████████████▊                          | 86/229 [00:26<00:41,  3.48it/s]"
     ]
    },
    {
     "name": "stdout",
     "output_type": "stream",
     "text": [
      "rDWADDbA2jD9Ltj1ntVfkSYHEgyPf3-ofuX7WFEsc2zyg3CoBLAqd_FgHgns-BrTejM-hiEg1P6yjA\n"
     ]
    },
    {
     "name": "stderr",
     "output_type": "stream",
     "text": [
      "\r",
      " 38%|███████████████▉                          | 87/229 [00:26<00:39,  3.56it/s]"
     ]
    },
    {
     "name": "stdout",
     "output_type": "stream",
     "text": [
      "fZVYPO7CooAkeojDFzcdV8fOA0Gzx9-KBNS_-qWMlE1n4WhVlughhehwKdVon1Typ_GnYKLQrK22Cg\n"
     ]
    },
    {
     "name": "stderr",
     "output_type": "stream",
     "text": [
      "\r",
      " 38%|████████████████▏                         | 88/229 [00:26<00:39,  3.57it/s]"
     ]
    },
    {
     "name": "stdout",
     "output_type": "stream",
     "text": [
      "z-CeLuR1TpKRgRdMsCJ9XssLCc0QAtuCGBL7Aa3xMJDkh8_aIqCgURLWIsSsymOiegxYILAFG_7V1Q\n"
     ]
    },
    {
     "name": "stderr",
     "output_type": "stream",
     "text": [
      "\r",
      " 39%|████████████████▎                         | 89/229 [00:26<00:39,  3.53it/s]"
     ]
    },
    {
     "name": "stdout",
     "output_type": "stream",
     "text": [
      "qAyrXu1MJMfbLJn30gCk2NO0kqp2optMigMO8hvXl0Cuk2pOdOG7tOmyYzaZWjbkO0qrKr3_No3k3Q\n"
     ]
    },
    {
     "name": "stderr",
     "output_type": "stream",
     "text": [
      "\r",
      " 39%|████████████████▌                         | 90/229 [00:27<00:39,  3.51it/s]"
     ]
    },
    {
     "name": "stdout",
     "output_type": "stream",
     "text": [
      "V9Tof27WQKlxAXu62r6t14K0Cze9ig9GNwwwK0p9Wdq3YCuk9pBWnlFlGFL3_nE3zgSsLMfkfT8w_w\n"
     ]
    },
    {
     "name": "stderr",
     "output_type": "stream",
     "text": [
      "\r",
      " 40%|████████████████▋                         | 91/229 [00:27<00:39,  3.48it/s]"
     ]
    },
    {
     "name": "stdout",
     "output_type": "stream",
     "text": [
      "E46bcBwk3iesXe3AwokpHBuIuiXElKd9oDsWxpKFLQcNwc-6TI5JL_BhCTQl0XgmxGnJpo8jnle1WQ\n"
     ]
    },
    {
     "name": "stderr",
     "output_type": "stream",
     "text": [
      "\r",
      " 40%|████████████████▊                         | 92/229 [00:27<00:38,  3.55it/s]"
     ]
    },
    {
     "name": "stdout",
     "output_type": "stream",
     "text": [
      "39RJW9MVQxBkLv66FO1fFX8hSsXSGQ2mogD4GUrsAJVLrH50zmP6DZIg7Mta1jr_fLBEwtM_TEHgOA\n"
     ]
    },
    {
     "name": "stderr",
     "output_type": "stream",
     "text": [
      "\r",
      " 41%|█████████████████                         | 93/229 [00:28<00:37,  3.62it/s]"
     ]
    },
    {
     "name": "stdout",
     "output_type": "stream",
     "text": [
      "DKZtW6es96r6hlCaMjJAOGoIjQTrEwR_d9RF9N1W5XPED9VBAfFmkMIWy7Cp74ln15w_tEVxvTs15w\n"
     ]
    },
    {
     "name": "stderr",
     "output_type": "stream",
     "text": [
      "\r",
      " 41%|█████████████████▏                        | 94/229 [00:28<00:38,  3.48it/s]"
     ]
    },
    {
     "name": "stdout",
     "output_type": "stream",
     "text": [
      "hlYizmUDtsWC6WjyWl776HVjGPwhD6wo0Y9SijraEpNAgCTSMOeM-HWzzIVy4ahfmskHIAa1z5yX7g\n"
     ]
    },
    {
     "name": "stderr",
     "output_type": "stream",
     "text": [
      "\r",
      " 41%|█████████████████▍                        | 95/229 [00:28<00:45,  2.92it/s]"
     ]
    },
    {
     "name": "stdout",
     "output_type": "stream",
     "text": [
      "xYib8H9GbMPhhA27nDWz1PGZaUdMlMTLhgGdvasOmEBYmJ8dAwrsN_ZviyPvsbVNj3vF2cAwNCUQBA\n"
     ]
    },
    {
     "name": "stderr",
     "output_type": "stream",
     "text": [
      "\r",
      " 42%|█████████████████▌                        | 96/229 [00:29<00:42,  3.10it/s]"
     ]
    },
    {
     "name": "stdout",
     "output_type": "stream",
     "text": [
      "i0BQMTWBTRQGnRGFrL4ZoYCAvbVDMCS-uC3S480pWyyb9QlsN5B4HB1GDSlVV-YswVsNz80hoXZwRg\n"
     ]
    },
    {
     "name": "stderr",
     "output_type": "stream",
     "text": [
      "\r",
      " 42%|█████████████████▊                        | 97/229 [00:29<00:40,  3.25it/s]"
     ]
    },
    {
     "name": "stdout",
     "output_type": "stream",
     "text": [
      "shQPjBmp_6GX4aJT1DPreVcssAkXJbhxFaptWQzVXF4j_ZDnyRwZcGhrtcqy2JfBWOqKTADtUzRIlg\n"
     ]
    },
    {
     "name": "stderr",
     "output_type": "stream",
     "text": [
      "\r",
      " 43%|█████████████████▉                        | 98/229 [00:29<00:39,  3.36it/s]"
     ]
    },
    {
     "name": "stdout",
     "output_type": "stream",
     "text": [
      "FiBs2j7_0qR2BBXO9hxpL7HgTUJKN88_UaOg0Dk2CfKp6_rSq7P7AN5QfodevPXVvqC_kq8uNga6pw\n"
     ]
    },
    {
     "name": "stderr",
     "output_type": "stream",
     "text": [
      "\r",
      " 43%|██████████████████▏                       | 99/229 [00:29<00:37,  3.45it/s]"
     ]
    },
    {
     "name": "stdout",
     "output_type": "stream",
     "text": [
      "g9pB4eLisEGFBTUC9TgKYq-cn0UyxrVjWNcU5y9sK4I0xA0YDmGoGF069vOi61tNMgA2t6N91dukEw\n"
     ]
    },
    {
     "name": "stderr",
     "output_type": "stream",
     "text": [
      "\r",
      " 44%|█████████████████▉                       | 100/229 [00:30<00:36,  3.51it/s]"
     ]
    },
    {
     "name": "stdout",
     "output_type": "stream",
     "text": [
      "BuptCsRQ6TWdVN3S-L2S7EkVu1IXdUDmVQ8ClRiI0xUeBlbF-dTAhGW0aRAAfodcltNma_DnBzALaw\n",
      "api cost full : infinite loop start\n",
      "loop location :  I0eDFFXCVw0eSAq7etzNqzqZ3ZpiW3H_GOqBj1k1PXwbg65kHOf2ftM2Fg\n",
      "try 10 second wait time\n",
      "429\n",
      "try 10 second wait time\n",
      "429\n",
      "try 10 second wait time\n",
      "429\n",
      "try 10 second wait time\n",
      "429\n",
      "try 10 second wait time\n",
      "429\n",
      "try 10 second wait time\n",
      "429\n",
      "try 10 second wait time\n",
      "429\n",
      "try 10 second wait time\n",
      "429\n",
      "try 10 second wait time\n"
     ]
    },
    {
     "name": "stderr",
     "output_type": "stream",
     "text": [
      "\r",
      " 44%|██████████████████                       | 101/229 [02:02<59:41, 27.98s/it]"
     ]
    },
    {
     "name": "stdout",
     "output_type": "stream",
     "text": [
      "200\n",
      "total wait time :  92.38516497612\n",
      "recovery api cost\n",
      "E8gJWiR8Qwa3nDt0nEu4M9gECxYrRZrYzUu-UbwrUBqqK_SzRKJG7lSmWU1tHbCyITkLnYz-hL20vA\n"
     ]
    },
    {
     "name": "stderr",
     "output_type": "stream",
     "text": [
      "\r",
      " 45%|██████████████████▎                      | 102/229 [02:03<41:40, 19.69s/it]"
     ]
    },
    {
     "name": "stdout",
     "output_type": "stream",
     "text": [
      "XTZ72T34iHj5GXkGyGPuNYWqod8GpT8KkU4WE8OoS46WR2zmxggdKh45t43Bc-bsCLja4tO8RH-UWA\n"
     ]
    },
    {
     "name": "stderr",
     "output_type": "stream",
     "text": [
      "\r",
      " 45%|██████████████████▍                      | 103/229 [02:03<29:07, 13.87s/it]"
     ]
    },
    {
     "name": "stdout",
     "output_type": "stream",
     "text": [
      "Bc8b0ZJL2-IMMWo4sdYgfy5bL3BeqNhbAGYDxLJXnZO6uVYUklN3y80Sb7eUCVM37JFJWXIeTSazYA\n"
     ]
    },
    {
     "name": "stderr",
     "output_type": "stream",
     "text": [
      "\r",
      " 45%|██████████████████▌                      | 104/229 [02:03<20:25,  9.80s/it]"
     ]
    },
    {
     "name": "stdout",
     "output_type": "stream",
     "text": [
      "Ykg7twc6cIASaLMrKvJyXQvlSn_K-5LNf-kZswrI2YbeIPsSqPihvkXQqG7gaCefSdCtDxDDhFGS7g\n"
     ]
    },
    {
     "name": "stderr",
     "output_type": "stream",
     "text": [
      "\r",
      " 46%|██████████████████▊                      | 105/229 [02:04<14:21,  6.95s/it]"
     ]
    },
    {
     "name": "stdout",
     "output_type": "stream",
     "text": [
      "Kj2ATAg1GsyJmdGp29Pj_CmXFg2P4zVbgAtO_fxphgt_9Fqx1BVaAXjKucPAgOKs6m84XcDirQhSjg\n"
     ]
    },
    {
     "name": "stderr",
     "output_type": "stream",
     "text": [
      "\r",
      " 46%|██████████████████▉                      | 106/229 [02:04<10:08,  4.95s/it]"
     ]
    },
    {
     "name": "stdout",
     "output_type": "stream",
     "text": [
      "gHyazwcG49WOwX-sj6x4ojjYfHnFvEaAkni6aQthn2tGbhCQqNApXnAk4nwUvJ4TgjexZgycJAYjCw\n"
     ]
    },
    {
     "name": "stderr",
     "output_type": "stream",
     "text": [
      "\r",
      " 47%|███████████████████▏                     | 107/229 [02:04<07:12,  3.55s/it]"
     ]
    },
    {
     "name": "stdout",
     "output_type": "stream",
     "text": [
      "n7MwlB3LLwWJi1SlHjkvPhDcmEhqHxCxcguznE3ShGQUwT8JFIUNlvKHv1Dao9mpjywuwVmakHDF3Q\n"
     ]
    },
    {
     "name": "stderr",
     "output_type": "stream",
     "text": [
      "\r",
      " 47%|███████████████████▎                     | 108/229 [02:05<05:16,  2.62s/it]"
     ]
    },
    {
     "name": "stdout",
     "output_type": "stream",
     "text": [
      "I7Jfr_H9Kb-VJem2OX7hh6XbF6f7CEWQyg5H4x3tiR_WObtIUCv7vN9qWTPbgGEZK6oOT_79OXo1ow\n"
     ]
    },
    {
     "name": "stderr",
     "output_type": "stream",
     "text": [
      "\r",
      " 48%|███████████████████▌                     | 109/229 [02:05<03:49,  1.92s/it]"
     ]
    },
    {
     "name": "stdout",
     "output_type": "stream",
     "text": [
      "CDJab-Sw9G-xYyAKkooZsUIM6RK6KoWZnl_UwGCv4l6W7eD3pvpvWmCdbv4wTsGt1_X6TXqG7z9deQ\n"
     ]
    },
    {
     "name": "stderr",
     "output_type": "stream",
     "text": [
      "\r",
      " 48%|███████████████████▋                     | 110/229 [02:05<02:51,  1.44s/it]"
     ]
    },
    {
     "name": "stdout",
     "output_type": "stream",
     "text": [
      "bEVnFQTWpqDizUwhd11kR4SzJbfz8MBXGPiy3Z8ZwK1IZwRjw2H-Q4mGYBQ3MGTL3v8cF2HW2XbgjQ\n"
     ]
    },
    {
     "name": "stderr",
     "output_type": "stream",
     "text": [
      "\r",
      " 48%|███████████████████▊                     | 111/229 [02:05<02:09,  1.09s/it]"
     ]
    },
    {
     "name": "stdout",
     "output_type": "stream",
     "text": [
      "6VDWnRnKSuDr_hGoApF7_1k7Cok1srcz83mUfvV11EUKkY2xx8jbhAyov38xnkIeiLUdhDxE9DvEaw\n"
     ]
    },
    {
     "name": "stderr",
     "output_type": "stream",
     "text": [
      "\r",
      " 49%|████████████████████                     | 112/229 [02:06<01:39,  1.17it/s]"
     ]
    },
    {
     "name": "stdout",
     "output_type": "stream",
     "text": [
      "YqRDij7rhXtDxNKOtIVf9prDY_w0kXxIPt5glOh1S64-Rurm3GZrAVts6ucuKM-YsWIQXnADUEY2fw\n"
     ]
    },
    {
     "name": "stderr",
     "output_type": "stream",
     "text": [
      "\r",
      " 49%|████████████████████▏                    | 113/229 [02:06<01:20,  1.44it/s]"
     ]
    },
    {
     "name": "stdout",
     "output_type": "stream",
     "text": [
      "Kzrq3Ja0zRO4bruTt4v-u6m2_BgYvXaGPYvt0qTxmSuFuu_rObSmyaJU5182T8bH2D8CsVrhLsLxUg\n"
     ]
    },
    {
     "name": "stderr",
     "output_type": "stream",
     "text": [
      "\r",
      " 50%|████████████████████▍                    | 114/229 [02:06<01:05,  1.74it/s]"
     ]
    },
    {
     "name": "stdout",
     "output_type": "stream",
     "text": [
      "qWs1eMgtUi5QXr3JTed11VlV97O3yLuBMS3yN0BHyEYJHIOPM8VCYLngG4E8Tz_XxX89dI7bDGRnPg\n"
     ]
    },
    {
     "name": "stderr",
     "output_type": "stream",
     "text": [
      "\r",
      " 50%|████████████████████▌                    | 115/229 [02:07<00:55,  2.06it/s]"
     ]
    },
    {
     "name": "stdout",
     "output_type": "stream",
     "text": [
      "vPho9M0FecUc8clymSGWXEDZX61XZfvohaLdUfmPbcKm-hOJqqnplAfRTxT1PPafmCVTRgiiQnC3lw\n"
     ]
    },
    {
     "name": "stderr",
     "output_type": "stream",
     "text": [
      "\r",
      " 51%|████████████████████▊                    | 116/229 [02:07<00:49,  2.26it/s]"
     ]
    },
    {
     "name": "stdout",
     "output_type": "stream",
     "text": [
      "eMt-r4kG6hr36ASkBS87ggg-15OPnkuvpbXoeLb9X0ct9lE4J8QpPLkad3y5bqsypY8wpMI59UkG6w\n"
     ]
    },
    {
     "name": "stderr",
     "output_type": "stream",
     "text": [
      "\r",
      " 51%|████████████████████▉                    | 117/229 [02:08<00:51,  2.17it/s]"
     ]
    },
    {
     "name": "stdout",
     "output_type": "stream",
     "text": [
      "hVXpwBt-xoNhCuZympITJJaPIBMqpGvFsWLwunZy6PiSZTuYRrr3wgxOE0AS6GZdq7L7i7G_tg6mVg\n"
     ]
    },
    {
     "name": "stderr",
     "output_type": "stream",
     "text": [
      "\r",
      " 52%|█████████████████████▏                   | 118/229 [02:08<00:45,  2.45it/s]"
     ]
    },
    {
     "name": "stdout",
     "output_type": "stream",
     "text": [
      "dZ_GL2oHa-paz9FaMBWIrWR4YHIArp83P_Rbsy0fCH3O877GPOE7yUqmifsl5o4Axs6Rc34oZDK27Q\n"
     ]
    },
    {
     "name": "stderr",
     "output_type": "stream",
     "text": [
      "\r",
      " 52%|█████████████████████▎                   | 119/229 [02:08<00:45,  2.44it/s]"
     ]
    },
    {
     "name": "stdout",
     "output_type": "stream",
     "text": [
      "N3DXUCl3FldEL8IjY1MOcvl1dPV1V5VojVt4B2obSgakn03m_olk3DgbnFrBbh1-iloB_B3W6uGrPQ\n"
     ]
    },
    {
     "name": "stderr",
     "output_type": "stream",
     "text": [
      "\r",
      " 52%|█████████████████████▍                   | 120/229 [02:09<00:41,  2.64it/s]"
     ]
    },
    {
     "name": "stdout",
     "output_type": "stream",
     "text": [
      "jWe4mMGr8se29R0Y6ELnJCfkdxwLNlnXTWpmNO--BiOwmCXsn7QkE3FzdwfJMQEZkYLI1xnh83woLg\n"
     ]
    },
    {
     "name": "stderr",
     "output_type": "stream",
     "text": [
      "\r",
      " 53%|█████████████████████▋                   | 121/229 [02:09<00:37,  2.89it/s]"
     ]
    },
    {
     "name": "stdout",
     "output_type": "stream",
     "text": [
      "6FrAfQxvA6v49BLahFrTgTSawuqeXhNo1PZ5vjZtadk5Sp0KnewRwpDZjiiRe6FKF3AhNaXfXo_0ww\n"
     ]
    },
    {
     "name": "stderr",
     "output_type": "stream",
     "text": [
      "\r",
      " 53%|█████████████████████▊                   | 122/229 [02:09<00:34,  3.09it/s]"
     ]
    },
    {
     "name": "stdout",
     "output_type": "stream",
     "text": [
      "doMgPoECuvdDn6eoCGFK3c0fACoVgrfGlx22-P8kq9MN1D8ZHsSvma3f39CLi4OiaOOTV3JRzqL7OA\n"
     ]
    },
    {
     "name": "stderr",
     "output_type": "stream",
     "text": [
      "\r",
      " 54%|██████████████████████                   | 123/229 [02:09<00:34,  3.10it/s]"
     ]
    },
    {
     "name": "stdout",
     "output_type": "stream",
     "text": [
      "cfs0FeHzuBG-dJKUd-dkcT6rBegO3pzuhpwPXn_NJ0Tsmp3XS-WjEjK9_k0K1WaDLj2rEaBHLVkhkQ\n"
     ]
    },
    {
     "name": "stderr",
     "output_type": "stream",
     "text": [
      "\r",
      " 54%|██████████████████████▏                  | 124/229 [02:10<00:32,  3.23it/s]"
     ]
    },
    {
     "name": "stdout",
     "output_type": "stream",
     "text": [
      "eGhaKknd6_8pVk820pzy4OVPZbkRULzlplcF36hCQiayE57tzU7p3EDCgK1iREbYvGATDwxV-thn0w\n"
     ]
    },
    {
     "name": "stderr",
     "output_type": "stream",
     "text": [
      "\r",
      " 55%|██████████████████████▍                  | 125/229 [02:10<00:31,  3.31it/s]"
     ]
    },
    {
     "name": "stdout",
     "output_type": "stream",
     "text": [
      "XCVAZ6lhOx_6yAsNibdbleNyB283KWrH7ApWueE1DBfXM1-BzrYk8Ji6YluoKgG22x-uw3u4xUDnZA\n"
     ]
    },
    {
     "name": "stderr",
     "output_type": "stream",
     "text": [
      "\r",
      " 55%|██████████████████████▌                  | 126/229 [02:10<00:31,  3.29it/s]"
     ]
    },
    {
     "name": "stdout",
     "output_type": "stream",
     "text": [
      "Q8QTlvAdaycVSnz2jPOQz7qE9NEinX6eJfnFfIB9WAhsTOmbHxslkYmmKk88jmU-sl60hw-F0w5Png\n"
     ]
    },
    {
     "name": "stderr",
     "output_type": "stream",
     "text": [
      "\r",
      " 55%|██████████████████████▋                  | 127/229 [02:11<00:30,  3.40it/s]"
     ]
    },
    {
     "name": "stdout",
     "output_type": "stream",
     "text": [
      "KoOmcgn-b5NmQgMluQeXeX3Ufb7yIds1ccbbelRVVdeS_19EttoEOXUSKYkwZCL86HugX7C_2ycDPw\n"
     ]
    },
    {
     "name": "stderr",
     "output_type": "stream",
     "text": [
      "\r",
      " 56%|██████████████████████▉                  | 128/229 [02:11<00:28,  3.49it/s]"
     ]
    },
    {
     "name": "stdout",
     "output_type": "stream",
     "text": [
      "VGaAnuHIC54dyfRZRGEqP9AOhT7AcNg259uulm8VNDFDIGeOS1xToZzT5Qe2n0_mxIIJqMfsldut4g\n"
     ]
    },
    {
     "name": "stderr",
     "output_type": "stream",
     "text": [
      "\r",
      " 56%|███████████████████████                  | 129/229 [02:11<00:28,  3.51it/s]"
     ]
    },
    {
     "name": "stdout",
     "output_type": "stream",
     "text": [
      "0jUaofLTph6J1wpPPbx8fne3gKicfJC-qZFilm2x6v6tYmOseVc-hYNvx_dcUR1zVWcKpSFZ8_b-XQ\n"
     ]
    },
    {
     "name": "stderr",
     "output_type": "stream",
     "text": [
      "\r",
      " 57%|███████████████████████▎                 | 130/229 [02:11<00:28,  3.50it/s]"
     ]
    },
    {
     "name": "stdout",
     "output_type": "stream",
     "text": [
      "Ych5IqQPCttnNmwzl-fE_-eHm8N-ikYfEkgP49V8Mq7eOtTDyr-2FsXNPl5S1nj85ukcq3vmNvSUSw\n"
     ]
    },
    {
     "name": "stderr",
     "output_type": "stream",
     "text": [
      "\r",
      " 57%|███████████████████████▍                 | 131/229 [02:12<00:27,  3.51it/s]"
     ]
    },
    {
     "name": "stdout",
     "output_type": "stream",
     "text": [
      "iNwp5JaaQUzzgfSeiLKK9FJuK19AiN6hqlEdVNXPmL5oevAvCbgu30L1BFu0M6HvSISFR66wWKIUpA\n"
     ]
    },
    {
     "name": "stderr",
     "output_type": "stream",
     "text": [
      "\r",
      " 58%|███████████████████████▋                 | 132/229 [02:12<00:27,  3.49it/s]"
     ]
    },
    {
     "name": "stdout",
     "output_type": "stream",
     "text": [
      "8XzQ1gtpqM6DUMi-bse1ZjjitnxsvuydzXPEtE3AiDyI1aZQOwjeLf8rmXhrzen68qbgphL5UG2m0g\n"
     ]
    },
    {
     "name": "stderr",
     "output_type": "stream",
     "text": [
      "\r",
      " 58%|███████████████████████▊                 | 133/229 [02:12<00:27,  3.55it/s]"
     ]
    },
    {
     "name": "stdout",
     "output_type": "stream",
     "text": [
      "ryDGZvOpEMlk7tCI4pV7U4sl0W0oleAEHIBRP9O6g4JEHAPfZvM_d67euTcVkDg-T1JieusEiWW2Rw\n"
     ]
    },
    {
     "name": "stderr",
     "output_type": "stream",
     "text": [
      "\r",
      " 59%|███████████████████████▉                 | 134/229 [02:12<00:26,  3.56it/s]"
     ]
    },
    {
     "name": "stdout",
     "output_type": "stream",
     "text": [
      "Bfdy09k7sn180CxIPbbdfLV9wWd4ors89HpyMuvYRT51DtPp5RKB3PYb-BawPui-2I2TiayJF5FFPg\n"
     ]
    },
    {
     "name": "stderr",
     "output_type": "stream",
     "text": [
      "\r",
      " 59%|████████████████████████▏                | 135/229 [02:13<00:30,  3.04it/s]"
     ]
    },
    {
     "name": "stdout",
     "output_type": "stream",
     "text": [
      "ON4IWaU-gi1CKeUx3LsLKRQAp9-D7DfCWzZao745CkJC9CSZEOllh-8SyOho1Ie6J2-IztHy8ZhjHQ\n"
     ]
    },
    {
     "name": "stderr",
     "output_type": "stream",
     "text": [
      "\r",
      " 59%|████████████████████████▎                | 136/229 [02:13<00:29,  3.19it/s]"
     ]
    },
    {
     "name": "stdout",
     "output_type": "stream",
     "text": [
      "kA2aHqozFXa_63VSwXRNG8ARNYNV2Yil0y14Z3s2ZZLDM7BbgCG-EWdTAzqnt8EGCSo6YBCX8QenNg\n"
     ]
    },
    {
     "name": "stderr",
     "output_type": "stream",
     "text": [
      "\r",
      " 60%|████████████████████████▌                | 137/229 [02:13<00:27,  3.31it/s]"
     ]
    },
    {
     "name": "stdout",
     "output_type": "stream",
     "text": [
      "UyFUvH776oZC7aaWi5XBS1ZiJP5e-sIBsE7itjXSuR22k9aWPo9VjZyGVdzNnKM9I-EUldyuv-8-Lw\n"
     ]
    },
    {
     "name": "stderr",
     "output_type": "stream",
     "text": [
      "\r",
      " 60%|████████████████████████▋                | 138/229 [02:14<00:27,  3.31it/s]"
     ]
    },
    {
     "name": "stdout",
     "output_type": "stream",
     "text": [
      "Rl_oIH3JyWP26BBO2YIxel3w2OUGS3njv6o0z0V9myW_v-f76uXisDfA6UayAnFSGL91RqlZiSFGAA\n"
     ]
    },
    {
     "name": "stderr",
     "output_type": "stream",
     "text": [
      "\r",
      " 61%|████████████████████████▉                | 139/229 [02:14<00:26,  3.38it/s]"
     ]
    },
    {
     "name": "stdout",
     "output_type": "stream",
     "text": [
      "o30pd5AzdDgdHi04ydr7LIeCccHriEKjarrzGJtXXyOL2ieQe54Er6c-vzS1YXJIcfVsKNvgBViWsg\n"
     ]
    },
    {
     "name": "stderr",
     "output_type": "stream",
     "text": [
      "\r",
      " 61%|█████████████████████████                | 140/229 [02:14<00:27,  3.24it/s]"
     ]
    },
    {
     "name": "stdout",
     "output_type": "stream",
     "text": [
      "AzsXQorPq0AePJVCsVyb6vfwa7dup1MLRSpCM0v1js_e39caQP0czVNlEN3en5Bu_VjfRS7QzGIDXA\n"
     ]
    },
    {
     "name": "stderr",
     "output_type": "stream",
     "text": [
      "\r",
      " 62%|█████████████████████████▏               | 141/229 [02:15<00:26,  3.30it/s]"
     ]
    },
    {
     "name": "stdout",
     "output_type": "stream",
     "text": [
      "81RfiSLYjRnExuQISp0tGM7EvKDwQ3E7zPcF1Y88E6nEqRFBMEg60ZfHo-puwkAmLBaIJlxqsoMzgA\n"
     ]
    },
    {
     "name": "stderr",
     "output_type": "stream",
     "text": [
      "\r",
      " 62%|█████████████████████████▍               | 142/229 [02:15<00:25,  3.35it/s]"
     ]
    },
    {
     "name": "stdout",
     "output_type": "stream",
     "text": [
      "aph8IuBxbs0cUZofW8EBj5FMBlVkGHZ2WlAlgPpvpb7kHAkP_YtL49eJcEF0JBGe8ZcqteDqNxzNkg\n"
     ]
    },
    {
     "name": "stderr",
     "output_type": "stream",
     "text": [
      "\r",
      " 62%|█████████████████████████▌               | 143/229 [02:15<00:25,  3.41it/s]"
     ]
    },
    {
     "name": "stdout",
     "output_type": "stream",
     "text": [
      "iODCliFTI-kqBEDZ78l7yrQMSPZAKFvmUi9yg2QxV1EACx4geNx9_lwUb1ydD_B-g_ir936iQCn2Lw\n"
     ]
    },
    {
     "name": "stderr",
     "output_type": "stream",
     "text": [
      "\r",
      " 63%|█████████████████████████▊               | 144/229 [02:16<00:24,  3.42it/s]"
     ]
    },
    {
     "name": "stdout",
     "output_type": "stream",
     "text": [
      "Bif64K3ANJ_yu_xFPUZxOpI78j2DFNVYhaj3WM_yyNKHcX0_Ll2-myWMyCbBrLC1R6B5_UkcxdKoZQ\n"
     ]
    },
    {
     "name": "stderr",
     "output_type": "stream",
     "text": [
      "\r",
      " 63%|█████████████████████████▉               | 145/229 [02:16<00:25,  3.31it/s]"
     ]
    },
    {
     "name": "stdout",
     "output_type": "stream",
     "text": [
      "C5O7QWQNPNk9RY-dkkh-MTgzY4TS4qXxupnC4-9xuJ-3WMLogQ7q6uLoT9HukQ0elNftd4Aj3cBhWw\n"
     ]
    },
    {
     "name": "stderr",
     "output_type": "stream",
     "text": [
      "\r",
      " 64%|██████████████████████████▏              | 146/229 [02:16<00:25,  3.27it/s]"
     ]
    },
    {
     "name": "stdout",
     "output_type": "stream",
     "text": [
      "FFhgyRfvSQ4P1SbNsjbdajeRjN8HKD5W2OkiNONurQqpxrIn-GqMt2yG5nZ3-5p9ub5HtMPDX-vNJQ\n"
     ]
    },
    {
     "name": "stderr",
     "output_type": "stream",
     "text": [
      "\r",
      " 64%|██████████████████████████▎              | 147/229 [02:16<00:24,  3.36it/s]"
     ]
    },
    {
     "name": "stdout",
     "output_type": "stream",
     "text": [
      "5FyiyomB5oqvoiSL_mZxlWqilsW89bd8IVpZhhXStk_ks70ARPUhePwwcrJKWwhj_AhT_WPi2-lcDQ\n"
     ]
    },
    {
     "name": "stderr",
     "output_type": "stream",
     "text": [
      "\r",
      " 65%|██████████████████████████▍              | 148/229 [02:17<00:23,  3.40it/s]"
     ]
    },
    {
     "name": "stdout",
     "output_type": "stream",
     "text": [
      "__WfKDCrkKCGUiJdow-eImJyKsfc0pJL-XvxnGW2HRC_t-Gfla3NqEbTp1OZqwbkFJNYQsnEvbyaOg\n"
     ]
    },
    {
     "name": "stderr",
     "output_type": "stream",
     "text": [
      "\r",
      " 65%|██████████████████████████▋              | 149/229 [02:17<00:24,  3.33it/s]"
     ]
    },
    {
     "name": "stdout",
     "output_type": "stream",
     "text": [
      "VZNWnTDv_21NEa54b2YEuu_mRyQZwJRG-4j_Fu3BBcWKjPwCNWSOM8MAM1AUA_pmuk_BPIw9JRQZ1A\n"
     ]
    },
    {
     "name": "stderr",
     "output_type": "stream",
     "text": [
      "\r",
      " 66%|██████████████████████████▊              | 150/229 [02:17<00:23,  3.43it/s]"
     ]
    },
    {
     "name": "stdout",
     "output_type": "stream",
     "text": [
      "od8tTjnSL8nlSm8PD346qzbRImKwgSFITWcBpFJ-co4tVxLBzk6IC4yl3ZUCt2D2ZpAf9bYZMGqjRw\n"
     ]
    },
    {
     "name": "stderr",
     "output_type": "stream",
     "text": [
      "\r",
      " 66%|███████████████████████████              | 151/229 [02:18<00:24,  3.24it/s]"
     ]
    },
    {
     "name": "stdout",
     "output_type": "stream",
     "text": [
      "V_uw1eigJDPpBEsL-IPdiMG3JxDdH82E18WZ598cv-5gT5BHHUaubNEfAVo_CGhI9UbkBbw1wmF0rg\n"
     ]
    },
    {
     "name": "stderr",
     "output_type": "stream",
     "text": [
      "\r",
      " 66%|███████████████████████████▏             | 152/229 [02:18<00:23,  3.33it/s]"
     ]
    },
    {
     "name": "stdout",
     "output_type": "stream",
     "text": [
      "ctHMDUg9lO-YrKheIHIkq5oNSg3b8YJlqyp_WMAO5Ez5GQoqVS0g-SCwgl8qJd_W4fIkH1PwTb0cIA\n"
     ]
    },
    {
     "name": "stderr",
     "output_type": "stream",
     "text": [
      "\r",
      " 67%|███████████████████████████▍             | 153/229 [02:18<00:22,  3.38it/s]"
     ]
    },
    {
     "name": "stdout",
     "output_type": "stream",
     "text": [
      "T9zg5-JSX8DsZME_xl4s3D55iaWKCI2apZH8X6KCUpbCq08E2JqyiqPo594ukMRBBL8FrtpSxIBBug\n"
     ]
    },
    {
     "name": "stderr",
     "output_type": "stream",
     "text": [
      "\r",
      " 67%|███████████████████████████▌             | 154/229 [02:19<00:21,  3.44it/s]"
     ]
    },
    {
     "name": "stdout",
     "output_type": "stream",
     "text": [
      "Hrh7B7IeYPsFvG1G57RUhwmgWnksBM6RK_yirJT2npkoMQOrvF-MAr9Byrm9m7hX0vwy69u7hzWIKg\n"
     ]
    },
    {
     "name": "stderr",
     "output_type": "stream",
     "text": [
      "\r",
      " 68%|███████████████████████████▊             | 155/229 [02:19<00:21,  3.49it/s]"
     ]
    },
    {
     "name": "stdout",
     "output_type": "stream",
     "text": [
      "lI1t3vgi1CEhATp2cqJ8dHPbLfNQgML5DDyr8IG7zu4gaEKUwlxktM8awPh7FVlmsA9pyhgQwX5HYQ\n"
     ]
    },
    {
     "name": "stderr",
     "output_type": "stream",
     "text": [
      "\r",
      " 68%|███████████████████████████▉             | 156/229 [02:19<00:20,  3.57it/s]"
     ]
    },
    {
     "name": "stdout",
     "output_type": "stream",
     "text": [
      "AH0X5E6fBNBlQtnT4Z2WM0XDVSDPtYvgd-tM6-VZYShBfGoMq78rVwRShvEIoElrRhED3dtSMlxiBA\n"
     ]
    },
    {
     "name": "stderr",
     "output_type": "stream",
     "text": [
      "\r",
      " 69%|████████████████████████████             | 157/229 [02:19<00:19,  3.61it/s]"
     ]
    },
    {
     "name": "stdout",
     "output_type": "stream",
     "text": [
      "_wyFzBqViv4KRG-kxkO3QiiYzWdVV6bw_DS2c0VHx-aOFz7d-GkhLrn8DrtrOl8voHOB3tbP8a52XQ\n"
     ]
    },
    {
     "name": "stderr",
     "output_type": "stream",
     "text": [
      "\r",
      " 69%|████████████████████████████▎            | 158/229 [02:20<00:19,  3.64it/s]"
     ]
    },
    {
     "name": "stdout",
     "output_type": "stream",
     "text": [
      "4KMPHf-9x7x0TLBZeQ_yU7KlqCdNPdx80f_nVruNXPVM4-q1NRpgzCa165gvuBBrfmniueAFvCvQlw\n"
     ]
    },
    {
     "name": "stderr",
     "output_type": "stream",
     "text": [
      "\r",
      " 69%|████████████████████████████▍            | 159/229 [02:20<00:19,  3.63it/s]"
     ]
    },
    {
     "name": "stdout",
     "output_type": "stream",
     "text": [
      "zeoJILri7aG_jn4OqYvptJGtMAxbWnHecTlupQaOBPu23jwdFK99QhxTlTnDqveRr0_qybjXgBROFg\n"
     ]
    },
    {
     "name": "stderr",
     "output_type": "stream",
     "text": [
      "\r",
      " 70%|████████████████████████████▋            | 160/229 [02:20<00:18,  3.66it/s]"
     ]
    },
    {
     "name": "stdout",
     "output_type": "stream",
     "text": [
      "ErDVFUy80piJI_j0SSAUZOOUVH1zLVGknxJ0BVbj4ha9ZBfVRimLhkibWRszEx5IYSwcPArbmhCvlw\n"
     ]
    },
    {
     "name": "stderr",
     "output_type": "stream",
     "text": [
      "\r",
      " 70%|████████████████████████████▊            | 161/229 [02:20<00:18,  3.69it/s]"
     ]
    },
    {
     "name": "stdout",
     "output_type": "stream",
     "text": [
      "Z0OEINa4jUPTU675IaqwsaWFCaWdtncKg5hIjRhqJtBwQbBYCe9oguTINW6tHRGmYPY86c_duioF5w\n"
     ]
    },
    {
     "name": "stderr",
     "output_type": "stream",
     "text": [
      "\r",
      " 71%|█████████████████████████████            | 162/229 [02:21<00:17,  3.74it/s]"
     ]
    },
    {
     "name": "stdout",
     "output_type": "stream",
     "text": [
      "IAM2QHdZCT7ZhSMOFXP1EtKFfTS9qixocNUzCLebb0RatzgCviLuapaOtH9hsTQPE42JlFvX_Yw2ww\n"
     ]
    },
    {
     "name": "stderr",
     "output_type": "stream",
     "text": [
      "\r",
      " 71%|█████████████████████████████▏           | 163/229 [02:21<00:17,  3.70it/s]"
     ]
    },
    {
     "name": "stdout",
     "output_type": "stream",
     "text": [
      "RpLLsgzAwiM1FxgD7PwOIyk2_6Nvi98-qgpj8Je7gQZSq6Rn6bhjYgI0vh5GHd-cblDyVI7_H6C9Jg\n"
     ]
    },
    {
     "name": "stderr",
     "output_type": "stream",
     "text": [
      "\r",
      " 72%|█████████████████████████████▎           | 164/229 [02:21<00:18,  3.56it/s]"
     ]
    },
    {
     "name": "stdout",
     "output_type": "stream",
     "text": [
      "6wS031Bh2m6OyICbO7Q8aSrcTZ-bvkddbDetphxLQWNChA9tvUlK9QIsflOxNTMP47mNnklFrjAwnA\n"
     ]
    },
    {
     "name": "stderr",
     "output_type": "stream",
     "text": [
      "\r",
      " 72%|█████████████████████████████▌           | 165/229 [02:22<00:18,  3.43it/s]"
     ]
    },
    {
     "name": "stdout",
     "output_type": "stream",
     "text": [
      "yMNMYSPZNVnxiaKlpM4aR6wLlsQwynQX5d4trDKEBP5ibg4B5DiEV9duLcndisfNejR609cVSkLxoA\n"
     ]
    },
    {
     "name": "stderr",
     "output_type": "stream",
     "text": [
      "\r",
      " 72%|█████████████████████████████▋           | 166/229 [02:22<00:18,  3.42it/s]"
     ]
    },
    {
     "name": "stdout",
     "output_type": "stream",
     "text": [
      "COl4PJE87F8VNWEkWH_wkerVDqj72l4PelJ_e8rt58lIGiD_rzaN3goVmd8lOahTaQcYqogB2ZzCZA\n"
     ]
    },
    {
     "name": "stderr",
     "output_type": "stream",
     "text": [
      "\r",
      " 73%|█████████████████████████████▉           | 167/229 [02:22<00:17,  3.47it/s]"
     ]
    },
    {
     "name": "stdout",
     "output_type": "stream",
     "text": [
      "njcncgYqn47h15Pby3aYm0FDS_y7UzSecATw677V4ljUiC6SIhnTQ91tBpeCH-GI-JccGNV1XFqq4g\n"
     ]
    },
    {
     "name": "stderr",
     "output_type": "stream",
     "text": [
      "\r",
      " 73%|██████████████████████████████           | 168/229 [02:22<00:17,  3.50it/s]"
     ]
    },
    {
     "name": "stdout",
     "output_type": "stream",
     "text": [
      "SUMWByLiUoFGjXONNAepozrhMazoSjuNZvsOmRrXOL272svz1uN39hk-ENHi1YlP5oABfsjkUSsFFw\n"
     ]
    },
    {
     "name": "stderr",
     "output_type": "stream",
     "text": [
      "\r",
      " 74%|██████████████████████████████▎          | 169/229 [02:23<00:17,  3.41it/s]"
     ]
    },
    {
     "name": "stdout",
     "output_type": "stream",
     "text": [
      "t3wEZxiObgJXy_Y_8KiF0ozSOcD38xr8Ry-wfwaFz6CXkJJLzAMwcVGiczvo0Thp5Tna2PV1KamBlw\n"
     ]
    },
    {
     "name": "stderr",
     "output_type": "stream",
     "text": [
      "\r",
      " 74%|██████████████████████████████▍          | 170/229 [02:23<00:17,  3.46it/s]"
     ]
    },
    {
     "name": "stdout",
     "output_type": "stream",
     "text": [
      "oVW_fb6vWePebDdS_UCqcVTI0Wz6EdsNyqOBz_YEFym0ZcMIUEy2oQ6KknVh339xvHqOL7GRCPE0mg\n"
     ]
    },
    {
     "name": "stderr",
     "output_type": "stream",
     "text": [
      "\r",
      " 75%|██████████████████████████████▌          | 171/229 [02:23<00:16,  3.47it/s]"
     ]
    },
    {
     "name": "stdout",
     "output_type": "stream",
     "text": [
      "Q0oYyabdS7c1kAMn0ZoWlEuYalNMvIWoCI9LCaoYoB4FgHpUmlamK8ddkGDvIUs1isjFmn1RTkSKkA\n"
     ]
    },
    {
     "name": "stderr",
     "output_type": "stream",
     "text": [
      "\r",
      " 75%|██████████████████████████████▊          | 172/229 [02:24<00:16,  3.52it/s]"
     ]
    },
    {
     "name": "stdout",
     "output_type": "stream",
     "text": [
      "9CO69qUqvEVq0CT7ipf2C6UJSiwdFgAywx2jl20dsu4tAWWS5SpGk5ED81BWD4zuboI15gJ2H-vm9w\n"
     ]
    },
    {
     "name": "stderr",
     "output_type": "stream",
     "text": [
      "\r",
      " 76%|██████████████████████████████▉          | 173/229 [02:24<00:17,  3.27it/s]"
     ]
    },
    {
     "name": "stdout",
     "output_type": "stream",
     "text": [
      "rIKzNzMHvNlMezgpleC7gcgMBJGy9mbkviX0JZRClVinRBqp_5_HVxwPk_U3N7ck6EvucRvDBqL6Wg\n"
     ]
    },
    {
     "name": "stderr",
     "output_type": "stream",
     "text": [
      "\r",
      " 76%|███████████████████████████████▏         | 174/229 [02:24<00:16,  3.33it/s]"
     ]
    },
    {
     "name": "stdout",
     "output_type": "stream",
     "text": [
      "ENM92uuKD-hlMhB99lSxXlOuOncHKDK40ubGvvtrXpvjz73j5OTOejWBLIORxbxsGjupmSRHDfL9cA\n"
     ]
    },
    {
     "name": "stderr",
     "output_type": "stream",
     "text": [
      "\r",
      " 76%|███████████████████████████████▎         | 175/229 [02:24<00:15,  3.43it/s]"
     ]
    },
    {
     "name": "stdout",
     "output_type": "stream",
     "text": [
      "E-JWHpGWIID-SEkwUXw_0tmah0iDbktLef_v9Hg5mfEsdTU1oQ-FJzj5D3dWn2e8TS9tXpb5jqLPkw\n"
     ]
    },
    {
     "name": "stderr",
     "output_type": "stream",
     "text": [
      "\r",
      " 77%|███████████████████████████████▌         | 176/229 [02:25<00:15,  3.49it/s]"
     ]
    },
    {
     "name": "stdout",
     "output_type": "stream",
     "text": [
      "H8-kvSaY1NLEQkBPL3apNeC7PJ-4wWaqv6CYSDo71Hs04fhebELxXZYscaT9ppyYCoSBQJ55PnPb7Q\n"
     ]
    },
    {
     "name": "stderr",
     "output_type": "stream",
     "text": [
      "\r",
      " 77%|███████████████████████████████▋         | 177/229 [02:25<00:15,  3.42it/s]"
     ]
    },
    {
     "name": "stdout",
     "output_type": "stream",
     "text": [
      "LTeZo3VU6ZVSuGs1EZ1cHhPOs-l5puccG09cXZ-n4UiAGpaCmUFU4EUBlhGHs2xAzFeFysTWIgxyOw\n"
     ]
    },
    {
     "name": "stderr",
     "output_type": "stream",
     "text": [
      "\r",
      " 78%|███████████████████████████████▊         | 178/229 [02:26<00:18,  2.83it/s]"
     ]
    },
    {
     "name": "stdout",
     "output_type": "stream",
     "text": [
      "bZzgdWXOcHRThgoys01XKfAqJMNSrieoPLgxZfvJxZ19UWAgXDxkOVsxfJCeaUdm3ixE2l9kH_KMQw\n"
     ]
    },
    {
     "name": "stderr",
     "output_type": "stream",
     "text": [
      "\r",
      " 78%|████████████████████████████████         | 179/229 [02:26<00:20,  2.39it/s]"
     ]
    },
    {
     "name": "stdout",
     "output_type": "stream",
     "text": [
      "PA41s65Jl7Nyi8fSXuqbfAjQXpDFb5IjxztKUPpLQY36ryigMCT6AzLbQlbNQQblDcJ_B0Mz6tPLdw\n"
     ]
    },
    {
     "name": "stderr",
     "output_type": "stream",
     "text": [
      "\r",
      " 79%|████████████████████████████████▏        | 180/229 [02:26<00:19,  2.58it/s]"
     ]
    },
    {
     "name": "stdout",
     "output_type": "stream",
     "text": [
      "veBYSAZ2nLeA_qQBoKOoxf0ci0nZVX9Bhrcow9y7fzqj1X1wrY5XkVTFRAGub9a8iDM5CJ7zPswsWw\n"
     ]
    },
    {
     "name": "stderr",
     "output_type": "stream",
     "text": [
      "\r",
      " 79%|████████████████████████████████▍        | 181/229 [02:27<00:17,  2.81it/s]"
     ]
    },
    {
     "name": "stdout",
     "output_type": "stream",
     "text": [
      "jytwbqfZcU7ox9ZBSuyNeorH_yK473d3AVRs3UJBCZ-1GZZWvFdeNV1sUC5RwppkTCHmVow2-w4xcw\n"
     ]
    },
    {
     "name": "stderr",
     "output_type": "stream",
     "text": [
      "\r",
      " 79%|████████████████████████████████▌        | 182/229 [02:27<00:15,  3.00it/s]"
     ]
    },
    {
     "name": "stdout",
     "output_type": "stream",
     "text": [
      "x-BmQeJy8JTzec2rXHu9d144wg9JdLSVdnJR89NPrO4e9WcK5M9NLJCB6A3Ogioh3Bifdi2SuE6Zjg\n"
     ]
    },
    {
     "name": "stderr",
     "output_type": "stream",
     "text": [
      "\r",
      " 80%|████████████████████████████████▊        | 183/229 [02:27<00:14,  3.19it/s]"
     ]
    },
    {
     "name": "stdout",
     "output_type": "stream",
     "text": [
      "StyPSF9Jo-j5EK0xg1TcbyMl6cwFLybIg3MUnJCRozb0vtn465wq0AJHupiRqgQrmX3RIfuUWHLFSA\n"
     ]
    },
    {
     "name": "stderr",
     "output_type": "stream",
     "text": [
      "\r",
      " 80%|████████████████████████████████▉        | 184/229 [02:28<00:13,  3.22it/s]"
     ]
    },
    {
     "name": "stdout",
     "output_type": "stream",
     "text": [
      "2laL7FbKtROQL_qp9IaNafXibFstMHylJT402LLe210fiL80La95TChUaHe8iSDJVysmPcx5nHb78g\n"
     ]
    },
    {
     "name": "stderr",
     "output_type": "stream",
     "text": [
      "\r",
      " 81%|█████████████████████████████████        | 185/229 [02:28<00:13,  3.36it/s]"
     ]
    },
    {
     "name": "stdout",
     "output_type": "stream",
     "text": [
      "Bw3HfVb3KthDsdRPVvCQeDW7c9rtZtfUKruHLAMQC0SvVty4IzEoCUloa4e7pYy18oTeo9El6i2Exg\n"
     ]
    },
    {
     "name": "stderr",
     "output_type": "stream",
     "text": [
      "\r",
      " 81%|█████████████████████████████████▎       | 186/229 [02:28<00:12,  3.42it/s]"
     ]
    },
    {
     "name": "stdout",
     "output_type": "stream",
     "text": [
      "OLfXL0gC_RCYo-rnfuqoEElpChQ4vkbsdSAFWSGbQxeQs1cchEw0WWDpSSydZzxrlDxtitegiC2OGw\n"
     ]
    },
    {
     "name": "stderr",
     "output_type": "stream",
     "text": [
      "\r",
      " 82%|█████████████████████████████████▍       | 187/229 [02:28<00:11,  3.51it/s]"
     ]
    },
    {
     "name": "stdout",
     "output_type": "stream",
     "text": [
      "GvZcVKI2cuwK1rxHIrQNu1SxRVwyttihTN5cAO4afD4E1Ef2dCkdW32opvyRPwWPlQcsWqGXUIvjqw\n"
     ]
    },
    {
     "name": "stderr",
     "output_type": "stream",
     "text": [
      "\r",
      " 82%|█████████████████████████████████▋       | 188/229 [02:29<00:11,  3.54it/s]"
     ]
    },
    {
     "name": "stdout",
     "output_type": "stream",
     "text": [
      "XWpdjFpWLHEPZQSwkFfu6waV7pm_bQ4oyPsRsjOZD0t0MXK6wjLxndbqGpl23MO0tvAP79fN4OngRg\n"
     ]
    },
    {
     "name": "stderr",
     "output_type": "stream",
     "text": [
      "\r",
      " 83%|█████████████████████████████████▊       | 189/229 [02:29<00:11,  3.55it/s]"
     ]
    },
    {
     "name": "stdout",
     "output_type": "stream",
     "text": [
      "KVj0kCKNLnqmtrnpw-zEFJwds-1WRP9UXhDDu-KjYz3hi5FFYGzgs0nHIclMolqF4XmjO0G411OokA\n"
     ]
    },
    {
     "name": "stderr",
     "output_type": "stream",
     "text": [
      "\r",
      " 83%|██████████████████████████████████       | 190/229 [02:29<00:10,  3.56it/s]"
     ]
    },
    {
     "name": "stdout",
     "output_type": "stream",
     "text": [
      "ozsAtXGpuS2DxvLG7_53rZDEbQwcqWWYG6VGG1SluxVudr8Cb6EuWkil5gyJlh2MlWzb100pxVkGvQ\n"
     ]
    },
    {
     "name": "stderr",
     "output_type": "stream",
     "text": [
      "\r",
      " 83%|██████████████████████████████████▏      | 191/229 [02:30<00:10,  3.52it/s]"
     ]
    },
    {
     "name": "stdout",
     "output_type": "stream",
     "text": [
      "uGbwlDWVfWWEtHdcNR9Qgx5re6x7cLzu4vlNRBKIXd-qgkU1GS-KOOJNlyDcyt22m28PNU7V8L2JmQ\n"
     ]
    },
    {
     "name": "stderr",
     "output_type": "stream",
     "text": [
      "\r",
      " 84%|██████████████████████████████████▍      | 192/229 [02:30<00:10,  3.42it/s]"
     ]
    },
    {
     "name": "stdout",
     "output_type": "stream",
     "text": [
      "l_jsLTI9UW_fp2_tKeyknDppj5t_EP5IWoR6MqISUF4DdSQlwn9N5DtTrT-g7CjTIr0B47iL1h2d2w\n"
     ]
    },
    {
     "name": "stderr",
     "output_type": "stream",
     "text": [
      "\r",
      " 84%|██████████████████████████████████▌      | 193/229 [02:30<00:10,  3.48it/s]"
     ]
    },
    {
     "name": "stdout",
     "output_type": "stream",
     "text": [
      "k2fiakCipHhPKV69r8SoGCha-iCfqfZtMtYh3tdQK7l0blv4RnA3QboCAZRcbHSBiwGNSTqH0zHmWA\n"
     ]
    },
    {
     "name": "stderr",
     "output_type": "stream",
     "text": [
      "\r",
      " 85%|██████████████████████████████████▋      | 194/229 [02:30<00:10,  3.41it/s]"
     ]
    },
    {
     "name": "stdout",
     "output_type": "stream",
     "text": [
      "Tk-0p0uZ8GECZ9K6qkGtkB5wxOk2oNiHGaEXmVsySG_R5aEZ3pGgexntvsTLjjPI-yHvPXTdlZhPZA\n"
     ]
    },
    {
     "name": "stderr",
     "output_type": "stream",
     "text": [
      "\r",
      " 85%|██████████████████████████████████▉      | 195/229 [02:31<00:10,  3.33it/s]"
     ]
    },
    {
     "name": "stdout",
     "output_type": "stream",
     "text": [
      "3pAaDbiPzyTGpnSmfHwmw1m4wJmDhi_cxBJFz_SO4TpF9cVCpZo9iF72kckFPGiSCl94gu23uUdMCA\n"
     ]
    },
    {
     "name": "stderr",
     "output_type": "stream",
     "text": [
      "\r",
      " 86%|███████████████████████████████████      | 196/229 [02:31<00:11,  2.96it/s]"
     ]
    },
    {
     "name": "stdout",
     "output_type": "stream",
     "text": [
      "8Z_IclcP7EodvyVcNgSu-zKMHeq3kCuFe-BcKQyec-W8AbKRc-Wxn7cafdCJgch9HlXC3dI3kD3T2w\n"
     ]
    },
    {
     "name": "stderr",
     "output_type": "stream",
     "text": [
      "\r",
      " 86%|███████████████████████████████████▎     | 197/229 [02:31<00:10,  3.15it/s]"
     ]
    },
    {
     "name": "stdout",
     "output_type": "stream",
     "text": [
      "WCtcetiPLjLNpPgcvYAK2z_aVp2UoXTiFH1vjRHmg-JZKqPXFwa5JBX_ZRE7cmTJ4EhHUK3N1jQ-2A\n"
     ]
    },
    {
     "name": "stderr",
     "output_type": "stream",
     "text": [
      "\r",
      " 86%|███████████████████████████████████▍     | 198/229 [02:32<00:09,  3.30it/s]"
     ]
    },
    {
     "name": "stdout",
     "output_type": "stream",
     "text": [
      "9kOj7ARARLyqjEtTdooycHV-2Qpwc41NzsLstXqIYseQ3pWVK9wMHqRjkd4-YhfDVGFjTD5R1xFyZg\n"
     ]
    },
    {
     "name": "stderr",
     "output_type": "stream",
     "text": [
      "\r",
      " 87%|███████████████████████████████████▋     | 199/229 [02:32<00:08,  3.37it/s]"
     ]
    },
    {
     "name": "stdout",
     "output_type": "stream",
     "text": [
      "R99lLYbtVF5MPkYJCO9lmtFWQyCUxuovb_Z0A5exQ3h_AnnF5e9t2trwsi5SERUhSjCW79DWYrUYRw\n"
     ]
    },
    {
     "name": "stderr",
     "output_type": "stream",
     "text": [
      "\r",
      " 87%|███████████████████████████████████▊     | 200/229 [02:32<00:09,  3.19it/s]"
     ]
    },
    {
     "name": "stdout",
     "output_type": "stream",
     "text": [
      "3KM0eSzVkCMDg7_N1oJRTmIMyPWK8YMS-Lq__Rab3doQT8duF4J61ZJc8nLU6Dx0c6yoRsKFDiiONw\n",
      "api cost full : infinite loop start\n",
      "loop location :  3RJ1AmboJ3ajYbhCUpVYJiRJosXXskiyxb8yKehu2JHvW1I\n",
      "try 10 second wait time\n",
      "429\n",
      "try 10 second wait time\n",
      "429\n",
      "try 10 second wait time\n",
      "429\n",
      "try 10 second wait time\n",
      "429\n",
      "try 10 second wait time\n",
      "429\n",
      "try 10 second wait time\n",
      "429\n",
      "try 10 second wait time\n",
      "429\n",
      "try 10 second wait time\n",
      "429\n",
      "try 10 second wait time\n"
     ]
    },
    {
     "name": "stderr",
     "output_type": "stream",
     "text": [
      "\r",
      " 88%|███████████████████████████████████▉     | 201/229 [04:05<13:05, 28.06s/it]"
     ]
    },
    {
     "name": "stdout",
     "output_type": "stream",
     "text": [
      "200\n",
      "total wait time :  92.56546688079834\n",
      "recovery api cost\n",
      "y5YeKJ5y3rX5v9rlDYOMjZiBy4YSYRGYbNtEqrCRxkSATHCZcNFmvrn27uTBvgq2a2ViPj_yP-MceQ\n"
     ]
    },
    {
     "name": "stderr",
     "output_type": "stream",
     "text": [
      "\r",
      " 88%|████████████████████████████████████▏    | 202/229 [04:05<08:52, 19.73s/it]"
     ]
    },
    {
     "name": "stdout",
     "output_type": "stream",
     "text": [
      "DH9x1a73rZG1YBmiagUQgY93w-eTVJ68t_k4TSjK0MS-HskpCdXOyqIb1UIpW8ypf5-8fAuyrPTzhQ\n"
     ]
    },
    {
     "name": "stderr",
     "output_type": "stream",
     "text": [
      "\r",
      " 89%|████████████████████████████████████▎    | 203/229 [04:06<06:01, 13.90s/it]"
     ]
    },
    {
     "name": "stdout",
     "output_type": "stream",
     "text": [
      "3Zieblhceel3g67m_NyXEFhDRSF-jRBe46y7_9svkvHiQKoQEUHOx58oRVXvM4BFjjOD-bKk2HWGqw\n"
     ]
    },
    {
     "name": "stderr",
     "output_type": "stream",
     "text": [
      "\r",
      " 89%|████████████████████████████████████▌    | 204/229 [04:06<04:05,  9.81s/it]"
     ]
    },
    {
     "name": "stdout",
     "output_type": "stream",
     "text": [
      "hFNtDvjD4IDDQCDT4VZAgAVPR9SghBv6nN6vo17aEoM1mEm_mjCgANtfQs9RUAkMWIQQCCHrKfTLoQ\n"
     ]
    },
    {
     "name": "stderr",
     "output_type": "stream",
     "text": [
      "\r",
      " 90%|████████████████████████████████████▋    | 205/229 [04:06<02:47,  6.96s/it]"
     ]
    },
    {
     "name": "stdout",
     "output_type": "stream",
     "text": [
      "0DqSLtqBhYpNh0-nqQe-qopxOL4zxnw6g0iYhFk1YB78CY2cr_r5vSIi27RDn8lo5uKZtIyVFkp3Qg\n"
     ]
    },
    {
     "name": "stderr",
     "output_type": "stream",
     "text": [
      "\r",
      " 90%|████████████████████████████████████▉    | 206/229 [04:07<01:54,  4.96s/it]"
     ]
    },
    {
     "name": "stdout",
     "output_type": "stream",
     "text": [
      "6ia2dlb9qBG9C24apJv8BsFx-O1imw3JKzCZkOSxnkPIrsWkH80nhYbGK1ZVi1YBai_AXn9xtDGscw\n"
     ]
    },
    {
     "name": "stderr",
     "output_type": "stream",
     "text": [
      "\r",
      " 90%|█████████████████████████████████████    | 207/229 [04:07<01:18,  3.56s/it]"
     ]
    },
    {
     "name": "stdout",
     "output_type": "stream",
     "text": [
      "o48e-N9_eFJvfwoC9rGmA_52Bkx_OYn5hE73pDnVwOECxxtnMinKefdQ22J8Go-VK7_7Dz5ino4iEQ\n"
     ]
    },
    {
     "name": "stderr",
     "output_type": "stream",
     "text": [
      "\r",
      " 91%|█████████████████████████████████████▏   | 208/229 [04:07<00:54,  2.58s/it]"
     ]
    },
    {
     "name": "stdout",
     "output_type": "stream",
     "text": [
      "OSez6JuTgLuk5wrswAudSaeUUZPHBn_H9QDFllY4fXaa3AYbPGJmnMQBkqzaLBky0boRjRZuAFJLwQ\n"
     ]
    },
    {
     "name": "stderr",
     "output_type": "stream",
     "text": [
      "\r",
      " 91%|█████████████████████████████████████▍   | 209/229 [04:08<00:38,  1.94s/it]"
     ]
    },
    {
     "name": "stdout",
     "output_type": "stream",
     "text": [
      "IqKsR-7Ip2mD8cczBU1b2Dd9Mb4NiYMGR5_OrRQQcwwI2_ap4qnDh2pUA7P80WcVjvN_ILpqLEwgpw\n"
     ]
    },
    {
     "name": "stderr",
     "output_type": "stream",
     "text": [
      "\r",
      " 92%|█████████████████████████████████████▌   | 210/229 [04:08<00:27,  1.45s/it]"
     ]
    },
    {
     "name": "stdout",
     "output_type": "stream",
     "text": [
      "Kzs7ZrElE7-FhlgR4mPcqwWU_t7gd7uzVUnKthJs_jnv8C4fo-NQ2YMe3hmzMM7ECsrFPwXE1vF_OA\n"
     ]
    },
    {
     "name": "stderr",
     "output_type": "stream",
     "text": [
      "\r",
      " 92%|█████████████████████████████████████▊   | 211/229 [04:08<00:19,  1.10s/it]"
     ]
    },
    {
     "name": "stdout",
     "output_type": "stream",
     "text": [
      "9W78hy4neLetvj69VsEcT3Zt8tICxegDCFlXlsWplTHKmuBhswhfbeWf1WGW42pESazplzE-5kCl4Q\n"
     ]
    },
    {
     "name": "stderr",
     "output_type": "stream",
     "text": [
      "\r",
      " 93%|█████████████████████████████████████▉   | 212/229 [04:09<00:14,  1.17it/s]"
     ]
    },
    {
     "name": "stdout",
     "output_type": "stream",
     "text": [
      "1mAjhhnJ4laE29pWN75A6SViKwPZy5U5Ah6LZ-z2gWWARjS2TgBw4fE3A9VSVv4tCPwchkim3FMRwg\n"
     ]
    },
    {
     "name": "stderr",
     "output_type": "stream",
     "text": [
      "\r",
      " 93%|██████████████████████████████████████▏  | 213/229 [04:09<00:11,  1.44it/s]"
     ]
    },
    {
     "name": "stdout",
     "output_type": "stream",
     "text": [
      "KL0ifLujasOH2V6ckOh2Lvuy4ESg8ppLItGRe8x5_FGxiCsRrqHh0VCs8T5J3k_6sMJigxkfgNzjDQ\n"
     ]
    },
    {
     "name": "stderr",
     "output_type": "stream",
     "text": [
      "\r",
      " 93%|██████████████████████████████████████▎  | 214/229 [04:09<00:08,  1.76it/s]"
     ]
    },
    {
     "name": "stdout",
     "output_type": "stream",
     "text": [
      "Jvvxns0zwDVipk6urH9lDeQ3yKwBMasnReFf7-TyxT-ObxCu7l5LauWHolDbCo066FUC6gg7AD3Nqg\n"
     ]
    },
    {
     "name": "stderr",
     "output_type": "stream",
     "text": [
      "\r",
      " 94%|██████████████████████████████████████▍  | 215/229 [04:09<00:06,  2.09it/s]"
     ]
    },
    {
     "name": "stdout",
     "output_type": "stream",
     "text": [
      "h8At4RQP1M9c73vL6hVynMMKu4qUKOz7K4jY9h2WpQIcFHqX2iYOqN12IHWBc-_DM_4bVqaQVpNI3w\n"
     ]
    },
    {
     "name": "stderr",
     "output_type": "stream",
     "text": [
      "\r",
      " 94%|██████████████████████████████████████▋  | 216/229 [04:10<00:05,  2.41it/s]"
     ]
    },
    {
     "name": "stdout",
     "output_type": "stream",
     "text": [
      "AujqjMzrer7x7KlDu-EvIIzmAPYtlAcSYse9yUnAS8YLN12T4-D4FpFLz1m-Po2KdZ5j8cpRYCR-zg\n"
     ]
    },
    {
     "name": "stderr",
     "output_type": "stream",
     "text": [
      "\r",
      " 95%|██████████████████████████████████████▊  | 217/229 [04:10<00:04,  2.65it/s]"
     ]
    },
    {
     "name": "stdout",
     "output_type": "stream",
     "text": [
      "txLd4oUyc9tYcsgen_WbKsU8petqu-MWBiRnQQmdHBra7sta8_0p6WrNw_KZ37qGOcCjkngtujQxwg\n"
     ]
    },
    {
     "name": "stderr",
     "output_type": "stream",
     "text": [
      "\r",
      " 95%|███████████████████████████████████████  | 218/229 [04:10<00:03,  2.90it/s]"
     ]
    },
    {
     "name": "stdout",
     "output_type": "stream",
     "text": [
      "bmp0SDmiYwojAV73xGiYTFkysjtyXMjSL6w2o0wQQcP9vAuxnKhTF7noFNuvsQhS86FPAwlkefToXQ\n"
     ]
    },
    {
     "name": "stderr",
     "output_type": "stream",
     "text": [
      "\r",
      " 96%|███████████████████████████████████████▏ | 219/229 [04:10<00:03,  3.07it/s]"
     ]
    },
    {
     "name": "stdout",
     "output_type": "stream",
     "text": [
      "lXJWTRnoWUuF5TRdTAtsmlOgjQeaQCwhKjTY5dY4Ovo4db8DOkXGi97Hpz7BCW6l1BPC6kyetwEfdg\n"
     ]
    },
    {
     "name": "stderr",
     "output_type": "stream",
     "text": [
      "\r",
      " 96%|███████████████████████████████████████▍ | 220/229 [04:11<00:02,  3.21it/s]"
     ]
    },
    {
     "name": "stdout",
     "output_type": "stream",
     "text": [
      "hsvKe4WvywbqhQlZRp_eipygRuhhCqF-XQh0VJfCWdKkj8Pi4BBbrYQHqmi8eRfs-6RZuAzcpBc-pA\n"
     ]
    },
    {
     "name": "stderr",
     "output_type": "stream",
     "text": [
      "\r",
      " 97%|███████████████████████████████████████▌ | 221/229 [04:11<00:02,  3.17it/s]"
     ]
    },
    {
     "name": "stdout",
     "output_type": "stream",
     "text": [
      "3rbMlG05Cbrr_nAZbkfoRJO_PTQ11A_i4V3UAghjSwnacn71XpZzeac25WC4B8OnYTJKX9Xags-l5A\n"
     ]
    },
    {
     "name": "stderr",
     "output_type": "stream",
     "text": [
      "\r",
      " 97%|███████████████████████████████████████▋ | 222/229 [04:11<00:02,  3.29it/s]"
     ]
    },
    {
     "name": "stdout",
     "output_type": "stream",
     "text": [
      "GF7KpvTA4mlQT-EwuygdJU2ZZFrUCwtChOV9umfaax5Rz4VIWZ760GEe7Kfm5fl27eS0PLGPp4-AwQ\n"
     ]
    },
    {
     "name": "stderr",
     "output_type": "stream",
     "text": [
      "\r",
      " 97%|███████████████████████████████████████▉ | 223/229 [04:12<00:01,  3.38it/s]"
     ]
    },
    {
     "name": "stdout",
     "output_type": "stream",
     "text": [
      "sW8S6lZNQik4La-NapCubGnMThKuGsBXb7f3EwAoHte-08uFawc1Vg5q3I53TzGkQYzjmCI1YYBFCQ\n"
     ]
    },
    {
     "name": "stderr",
     "output_type": "stream",
     "text": [
      "\r",
      " 98%|████████████████████████████████████████ | 224/229 [04:12<00:01,  3.41it/s]"
     ]
    },
    {
     "name": "stdout",
     "output_type": "stream",
     "text": [
      "MiKMjUGFtnkPHelI9VnrBuuIYqynk27jtp4OW-_PNWwZlczcUs97gSdGFuBwA36rHNFbJSw4nVq1jg\n"
     ]
    },
    {
     "name": "stderr",
     "output_type": "stream",
     "text": [
      "\r",
      " 98%|████████████████████████████████████████▎| 225/229 [04:12<00:01,  2.90it/s]"
     ]
    },
    {
     "name": "stdout",
     "output_type": "stream",
     "text": [
      "6tCSY9iw2k2hKwvdlF4FbPnogXjvhxLlF0EzRIiQTMXEMqvNgiqNaMtoYgGRZBVF_16NmBk1a3vZyA\n"
     ]
    },
    {
     "name": "stderr",
     "output_type": "stream",
     "text": [
      "\r",
      " 99%|████████████████████████████████████████▍| 226/229 [04:13<00:01,  2.95it/s]"
     ]
    },
    {
     "name": "stdout",
     "output_type": "stream",
     "text": [
      "T7ZY_D3kVEoHwePkpevtCgz0FFeY6Vc3lWIYcNzKT81HW7jwb-ibfc70EOIvbBhgxDd2oHu83Kwx3A\n"
     ]
    },
    {
     "name": "stderr",
     "output_type": "stream",
     "text": [
      "\r",
      " 99%|████████████████████████████████████████▋| 227/229 [04:13<00:00,  3.12it/s]"
     ]
    },
    {
     "name": "stdout",
     "output_type": "stream",
     "text": [
      "FAcMT9Ptz8utSoiNNXKEkERDIw8fbDw5ylcWhX8ne_nSsgwMODmWBuo81r-JU_QP3p-VgUIF4ybXDQ\n"
     ]
    },
    {
     "name": "stderr",
     "output_type": "stream",
     "text": [
      "\r",
      "100%|████████████████████████████████████████▊| 228/229 [04:13<00:00,  2.69it/s]"
     ]
    },
    {
     "name": "stdout",
     "output_type": "stream",
     "text": [
      "as59QFGxqnnUMuvOnPUTKT5lhNvkFyEEAZ0oIhi4jX2FInfxDn-dVEj2aNc-0UBhA6zokqIWv4_V9A\n"
     ]
    },
    {
     "name": "stderr",
     "output_type": "stream",
     "text": [
      "100%|█████████████████████████████████████████| 229/229 [04:14<00:00,  1.11s/it]"
     ]
    },
    {
     "name": "stdout",
     "output_type": "stream",
     "text": [
      "1enyFV-m-7LrgObgadgDsfUgGLvu79a6Nd_R0YOAS2h4FTWiRtzM6DiHNENBgZDSSbZqgxOOSswE8Q\n"
     ]
    },
    {
     "name": "stderr",
     "output_type": "stream",
     "text": [
      "\n"
     ]
    }
   ],
   "source": [
    "accountId = {}\n",
    "\n",
    "for i,j in zip(tqdm(summonerId.values()),summonerId.keys()):\n",
    "    url2 = 'https://kr.api.riotgames.com/lol/summoner/v4/summoners/' + i + '?api_key=' + api_key\n",
    "    r = requests.get(url2)\n",
    "    \n",
    "    if r.status_code == 200: # response가 정상이면 바로 맨 밑으로 이동하여 정상적으로 코드 실행\n",
    "        pass\n",
    "    \n",
    "    elif r.status_code == 429:\n",
    "        print('api cost full : infinite loop start')\n",
    "        print('loop location : ',i)\n",
    "        start_time = time.time()\n",
    "        \n",
    "        while True: # 429error가 끝날 때까지 무한 루프\n",
    "            if r.status_code == 429:\n",
    "\n",
    "                print('try 10 second wait time')\n",
    "                time.sleep(10)\n",
    "\n",
    "                r = requests.get(url2)\n",
    "                print(r.status_code)\n",
    "\n",
    "            elif r.status_code == 200: #다시 response 200이면 loop escape\n",
    "                print('total wait time : ', time.time() - start_time)\n",
    "                print('recovery api cost')\n",
    "                break\n",
    "    \n",
    "    r = r.json()['puuid']\n",
    "    print(r)\n",
    "    accountId[j] = r"
   ]
  },
  {
   "cell_type": "code",
   "execution_count": 9,
   "id": "98309488",
   "metadata": {
    "id": "98309488",
    "outputId": "be2ead4b-cf6f-4811-da1c-603667770f5b",
    "scrolled": true
   },
   "outputs": [
    {
     "name": "stderr",
     "output_type": "stream",
     "text": [
      " 21%|████████▊                                 | 48/229 [00:27<01:40,  1.80it/s]"
     ]
    },
    {
     "name": "stdout",
     "output_type": "stream",
     "text": [
      "api cost full : infinite loop start\n",
      "loop location :  2KMiU1IUCNqnUAogsW-ZupqzI6Md3AW_yDFznqsPIRWFYo8Xi1e9SpQrVdzEZz1Xf8FxvTZD0AqK8g\n",
      "try 10 second wait time\n",
      "429\n",
      "try 10 second wait time\n",
      "429\n",
      "try 10 second wait time\n",
      "429\n",
      "try 10 second wait time\n",
      "429\n",
      "try 10 second wait time\n",
      "429\n",
      "try 10 second wait time\n",
      "429\n",
      "try 10 second wait time\n",
      "429\n",
      "try 10 second wait time\n",
      "429\n",
      "try 10 second wait time\n",
      "429\n",
      "try 10 second wait time\n",
      "200\n",
      "total wait time :  102.63625597953796\n",
      "recovery api cost\n"
     ]
    },
    {
     "name": "stderr",
     "output_type": "stream",
     "text": [
      " 41%|█████████████████▍                        | 95/229 [02:40<01:19,  1.68it/s]"
     ]
    },
    {
     "name": "stdout",
     "output_type": "stream",
     "text": [
      "api cost full : infinite loop start\n",
      "loop location :  i0BQMTWBTRQGnRGFrL4ZoYCAvbVDMCS-uC3S480pWyyb9QlsN5B4HB1GDSlVV-YswVsNz80hoXZwRg\n",
      "try 10 second wait time\n",
      "429\n",
      "try 10 second wait time\n",
      "429\n",
      "try 10 second wait time\n",
      "429\n",
      "try 10 second wait time\n",
      "429\n",
      "try 10 second wait time\n",
      "429\n",
      "try 10 second wait time\n",
      "429\n",
      "try 10 second wait time\n",
      "429\n",
      "try 10 second wait time\n",
      "429\n",
      "try 10 second wait time\n",
      "200\n",
      "total wait time :  92.50674414634705\n",
      "recovery api cost\n"
     ]
    },
    {
     "name": "stderr",
     "output_type": "stream",
     "text": [
      " 62%|█████████████████████████▌               | 143/229 [04:39<00:47,  1.81it/s]"
     ]
    },
    {
     "name": "stdout",
     "output_type": "stream",
     "text": [
      "api cost full : infinite loop start\n",
      "loop location :  Bif64K3ANJ_yu_xFPUZxOpI78j2DFNVYhaj3WM_yyNKHcX0_Ll2-myWMyCbBrLC1R6B5_UkcxdKoZQ\n",
      "try 10 second wait time\n",
      "429\n",
      "try 10 second wait time\n",
      "429\n",
      "try 10 second wait time\n",
      "429\n",
      "try 10 second wait time\n",
      "429\n",
      "try 10 second wait time\n",
      "429\n",
      "try 10 second wait time\n",
      "429\n",
      "try 10 second wait time\n",
      "429\n",
      "try 10 second wait time\n",
      "429\n",
      "try 10 second wait time\n",
      "429\n",
      "try 10 second wait time\n",
      "200\n",
      "total wait time :  102.58704996109009\n",
      "recovery api cost\n"
     ]
    },
    {
     "name": "stderr",
     "output_type": "stream",
     "text": [
      " 83%|██████████████████████████████████       | 190/229 [06:49<00:22,  1.71it/s]"
     ]
    },
    {
     "name": "stdout",
     "output_type": "stream",
     "text": [
      "api cost full : infinite loop start\n",
      "loop location :  uGbwlDWVfWWEtHdcNR9Qgx5re6x7cLzu4vlNRBKIXd-qgkU1GS-KOOJNlyDcyt22m28PNU7V8L2JmQ\n",
      "try 10 second wait time\n",
      "429\n",
      "try 10 second wait time\n",
      "429\n",
      "try 10 second wait time\n",
      "429\n",
      "try 10 second wait time\n",
      "429\n",
      "try 10 second wait time\n",
      "429\n",
      "try 10 second wait time\n",
      "429\n",
      "try 10 second wait time\n",
      "429\n",
      "try 10 second wait time\n",
      "429\n",
      "try 10 second wait time\n",
      "200\n",
      "total wait time :  92.62303519248962\n",
      "recovery api cost\n"
     ]
    },
    {
     "name": "stderr",
     "output_type": "stream",
     "text": [
      "100%|█████████████████████████████████████████| 229/229 [08:47<00:00,  2.30s/it]\n"
     ]
    }
   ],
   "source": [
    "gameId = set() #중복된 게임 제거를 위한 set 함수\n",
    "\n",
    "# url3 = 'https://kr.api.riotgames.com/lol/match/v4/matchlists/by-account/hqMv8JiT0hjKc96iqUz9ucXFPgsENmbI_5OHPmlyVOCZxwE?queue=420&api_key=RGAPI-e456f533-671c-4947-b960-98443960695b'\n",
    "\n",
    "for i in tqdm(accountId.values()):\n",
    "    url3 = 'https://asia.api.riotgames.com/lol/match/v5/matches/by-puuid/'+ i +'/ids?start=1&count=1'\n",
    "    r = requests.get(url3, headers=request_header)\n",
    "    \n",
    "    if r.status_code == 200: # response가 정상이면 바로 맨 밑으로 이동하여 정상적으로 코드 실행\n",
    "        pass\n",
    "    \n",
    "    elif r.status_code == 429:\n",
    "        print('api cost full : infinite loop start')\n",
    "        print('loop location : ',i)\n",
    "        start_time = time.time()\n",
    "        \n",
    "        while True: # 429error가 끝날 때까지 무한 루프\n",
    "            if r.status_code == 429:\n",
    "\n",
    "                print('try 10 second wait time')\n",
    "                time.sleep(10)\n",
    "\n",
    "                r = requests.get(url3, headers=request_header)\n",
    "                print(r.status_code)\n",
    "\n",
    "            elif r.status_code == 200: #다시 response 200이면 loop escape\n",
    "                print('total wait time : ', time.time() - start_time)\n",
    "                print('recovery api cost')\n",
    "                break\n",
    "                \n",
    "    r = requests.get(url3, headers=request_header).json() # 해당 게이머의 최근 20경기\n",
    "    for count in range(len(r)): #gameId에 저장\n",
    "        gameId.add(r[count])"
   ]
  },
  {
   "cell_type": "code",
   "execution_count": 10,
   "id": "14a26551",
   "metadata": {},
   "outputs": [
    {
     "data": {
      "text/plain": [
       "<function Connection.close>"
      ]
     },
     "execution_count": 10,
     "metadata": {},
     "output_type": "execute_result"
    }
   ],
   "source": [
    "\n",
    "gameId = list(gameId)\n",
    "\n",
    "import sqlite3\n",
    "\n",
    "conn = sqlite3.connect('loldata.db') # 데이터 베이스 생성\n",
    "cur = conn.cursor()\n",
    "\n",
    "for i in range(len(gameId)):\n",
    "    cur.execute(f\"INSERT OR REPLACE INTO gameID('gameID') VALUES ('{gameId[i]}');\")\n",
    "\n",
    "conn.commit()\n",
    "cur.close\n",
    "conn.close"
   ]
  },
  {
   "cell_type": "code",
   "execution_count": 13,
   "id": "c528dd2a",
   "metadata": {},
   "outputs": [],
   "source": [
    "gameId_challanger = pd.DataFrame(columns = ['gameId'])"
   ]
  },
  {
   "cell_type": "code",
   "execution_count": 18,
   "id": "9b7f8277",
   "metadata": {},
   "outputs": [],
   "source": [
    "gameId = list(gameId)\n",
    "for i in range(len(gameId)):\n",
    "    input_data = {'gameId' : gameId[i]}\n",
    "    gameId_challanger.append(input_data, ignore_index = True)"
   ]
  },
  {
   "cell_type": "code",
   "execution_count": 19,
   "id": "0980ad0c",
   "metadata": {
    "id": "0980ad0c",
    "outputId": "fe95a256-f11b-42a0-b12a-531e130fb5d1",
    "scrolled": false
   },
   "outputs": [],
   "source": [
    "gameId_challanger.to_csv(\"gameId_challanger.csv\", header=True, index = False)"
   ]
  },
  {
   "cell_type": "code",
   "execution_count": null,
   "id": "fab9530a",
   "metadata": {
    "id": "fab9530a"
   },
   "outputs": [],
   "source": [
    "match_grandmaster = pd.DataFrame(columns = ['teamId','win','firstBlood','firstTower','firstInhibitor','firstBaron','firstDragon','firstRiftHerald','championKills', 'towerKills','inhibitorKills','baronKills','dragonKills','riftHeraldKills','bans','gameId'])"
   ]
  },
  {
   "cell_type": "code",
   "execution_count": null,
   "id": "4593122b",
   "metadata": {
    "id": "4593122b",
    "outputId": "b0f577fc-7a6f-4ebe-ef41-fc0f1981fe30"
   },
   "outputs": [
    {
     "name": "stderr",
     "output_type": "stream",
     "text": [
      "100%|████████████████████████████████████████████████████████████████████████████████████| 6/6 [00:03<00:00,  1.89it/s]\n"
     ]
    }
   ],
   "source": [
    "num = 0\n",
    "\n",
    "for a in tqdm(range(len(gameId))):\n",
    "    for b in range(len(gameId[a])):\n",
    "                \n",
    "        url4 =  'https://asia.api.riotgames.com/lol/match/v5/matches/' + str(gameId[a][b])\n",
    "        r = requests.get(url4,headers = request_header)\n",
    "        \n",
    "                \n",
    "        if r.status_code == 200: # response가 정상이면 바로 맨 밑으로 이동하여 정상적으로 코드 실행\n",
    "            pass\n",
    "\n",
    "        elif r.status_code == 429:\n",
    "            print('api cost full : infinite loop start')\n",
    "            print('loop location : ',i)\n",
    "            start_time = time.time()\n",
    "    \n",
    "            while True: # 429error가 끝날 때까지 무한 루프\n",
    "                if r.status_code == 429:\n",
    "\n",
    "                    print('try 10 second wait time')\n",
    "                    time.sleep(10)\n",
    "\n",
    "                    r = requests.get(url4, headers = request_header)\n",
    "                    print(r.status_code)\n",
    "\n",
    "                elif r.status_code == 200: #다시 response 200이면 loop escape\n",
    "                    print('total wait time : ', time.time() - start_time)\n",
    "                    print('recovery api cost')\n",
    "                    break\n",
    "                    \n",
    "        r = requests.get(url4, headers = request_header).json()          \n",
    "        \n",
    "        try:\n",
    "            if r['info']['gameMode'] == 'CLASSIC':\n",
    "                for i in [0,1]:\n",
    "                    if r['info']['teams'][i]['win'] == False:\n",
    "                            input_data = {\n",
    "                                'teamId': str(r['info']['teams'][i]['teamId']),\n",
    "                                'win':r['info']['teams'][i]['win'],\n",
    "                                'firstBlood':r['info']['teams'][i]['objectives']['champion']['first'],\n",
    "                                'firstTower':r['info']['teams'][i]['objectives']['tower']['first'],\n",
    "                                'firstInhibitor':r['info']['teams'][i]['objectives']['inhibitor']['first'],\n",
    "                                'firstBaron':r['info']['teams'][i]['objectives']['baron']['first'],\n",
    "                                'firstDragon':r['info']['teams'][i]['objectives']['dragon']['first'],\n",
    "                                'firstRiftHerald':r['info']['teams'][i]['objectives']['riftHerald']['first'],\n",
    "                                'championKills' : r['info']['teams'][i]['objectives']['champion']['kills'],\n",
    "                                'towerKills':r['info']['teams'][i]['objectives']['tower']['kills'],\n",
    "                                'inhibitorKills':r['info']['teams'][i]['objectives']['inhibitor']['kills'],\n",
    "                                'baronKills':r['info']['teams'][i]['objectives']['baron']['kills'],\n",
    "                                'dragonKills':r['info']['teams'][i]['objectives']['dragon']['kills'],\n",
    "                                'riftHeraldKills':r['info']['teams'][i]['objectives']['riftHerald']['kills'],\n",
    "                                'bans' :r['info']['teams'][i]['bans'],\n",
    "                                'gameId': gameId[a][b]\n",
    "                            }\n",
    "\n",
    "                            match_grandmaster = match_grandmaster.append(input_data, ignore_index = True)\n",
    "                            \n",
    "                    elif r['info']['teams'][i]['win'] == True:\n",
    "                            input_data = {\n",
    "                                'teamId': str(r['info']['teams'][i]['teamId']),\n",
    "                                'win':r['info']['teams'][i]['win'],\n",
    "                                'firstBlood':r['info']['teams'][i]['objectives']['champion']['first'],\n",
    "                                'firstTower':r['info']['teams'][i]['objectives']['tower']['first'],\n",
    "                                'firstInhibitor':r['info']['teams'][i]['objectives']['inhibitor']['first'],\n",
    "                                'firstBaron':r['info']['teams'][i]['objectives']['baron']['first'],\n",
    "                                'firstDragon':r['info']['teams'][i]['objectives']['dragon']['first'],\n",
    "                                'firstRiftHerald':r['info']['teams'][i]['objectives']['riftHerald']['first'],\n",
    "                                'championKills' : r['info']['teams'][i]['objectives']['champion']['kills'],\n",
    "                                'towerKills':r['info']['teams'][i]['objectives']['tower']['kills'],\n",
    "                                'inhibitorKills':r['info']['teams'][i]['objectives']['inhibitor']['kills'],\n",
    "                                'baronKills':r['info']['teams'][i]['objectives']['baron']['kills'],\n",
    "                                'dragonKills':r['info']['teams'][i]['objectives']['dragon']['kills'],\n",
    "                                'riftHeraldKills':r['info']['teams'][i]['objectives']['riftHerald']['kills'],\n",
    "                                'bans' :r['info']['teams'][i]['bans'],\n",
    "                                'gameId': gameId[a][b]\n",
    "                            }\n",
    "                                \n",
    "\n",
    "                            match_grandmaster = match_grandmaster.append(input_data, ignore_index = True)\n",
    "    \n",
    "        except:\n",
    "            print(\"403 에러.api 만료\")"
   ]
  },
  {
   "cell_type": "code",
   "execution_count": null,
   "id": "0727b303",
   "metadata": {
    "id": "0727b303",
    "outputId": "63506949-04e7-4c8f-d122-69fc35160016"
   },
   "outputs": [
    {
     "data": {
      "text/html": [
       "<div>\n",
       "<style scoped>\n",
       "    .dataframe tbody tr th:only-of-type {\n",
       "        vertical-align: middle;\n",
       "    }\n",
       "\n",
       "    .dataframe tbody tr th {\n",
       "        vertical-align: top;\n",
       "    }\n",
       "\n",
       "    .dataframe thead th {\n",
       "        text-align: right;\n",
       "    }\n",
       "</style>\n",
       "<table border=\"1\" class=\"dataframe\">\n",
       "  <thead>\n",
       "    <tr style=\"text-align: right;\">\n",
       "      <th></th>\n",
       "      <th>teamId</th>\n",
       "      <th>win</th>\n",
       "      <th>firstBlood</th>\n",
       "      <th>firstTower</th>\n",
       "      <th>firstInhibitor</th>\n",
       "      <th>firstBaron</th>\n",
       "      <th>firstDragon</th>\n",
       "      <th>firstRiftHerald</th>\n",
       "      <th>championKills</th>\n",
       "      <th>towerKills</th>\n",
       "      <th>inhibitorKills</th>\n",
       "      <th>baronKills</th>\n",
       "      <th>dragonKills</th>\n",
       "      <th>riftHeraldKills</th>\n",
       "      <th>bans</th>\n",
       "      <th>gameId</th>\n",
       "    </tr>\n",
       "  </thead>\n",
       "  <tbody>\n",
       "    <tr>\n",
       "      <th>0</th>\n",
       "      <td>100</td>\n",
       "      <td>True</td>\n",
       "      <td>False</td>\n",
       "      <td>True</td>\n",
       "      <td>True</td>\n",
       "      <td>False</td>\n",
       "      <td>False</td>\n",
       "      <td>True</td>\n",
       "      <td>40</td>\n",
       "      <td>8</td>\n",
       "      <td>2</td>\n",
       "      <td>1</td>\n",
       "      <td>1</td>\n",
       "      <td>1</td>\n",
       "      <td>[{'championId': 711, 'pickTurn': 1}, {'champio...</td>\n",
       "      <td>KR_5685811134</td>\n",
       "    </tr>\n",
       "    <tr>\n",
       "      <th>1</th>\n",
       "      <td>200</td>\n",
       "      <td>False</td>\n",
       "      <td>True</td>\n",
       "      <td>False</td>\n",
       "      <td>False</td>\n",
       "      <td>True</td>\n",
       "      <td>True</td>\n",
       "      <td>False</td>\n",
       "      <td>42</td>\n",
       "      <td>9</td>\n",
       "      <td>4</td>\n",
       "      <td>2</td>\n",
       "      <td>5</td>\n",
       "      <td>1</td>\n",
       "      <td>[{'championId': -1, 'pickTurn': 6}, {'champion...</td>\n",
       "      <td>KR_5685811134</td>\n",
       "    </tr>\n",
       "    <tr>\n",
       "      <th>2</th>\n",
       "      <td>100</td>\n",
       "      <td>True</td>\n",
       "      <td>True</td>\n",
       "      <td>True</td>\n",
       "      <td>True</td>\n",
       "      <td>True</td>\n",
       "      <td>True</td>\n",
       "      <td>False</td>\n",
       "      <td>28</td>\n",
       "      <td>10</td>\n",
       "      <td>2</td>\n",
       "      <td>1</td>\n",
       "      <td>1</td>\n",
       "      <td>1</td>\n",
       "      <td>[{'championId': 64, 'pickTurn': 1}, {'champion...</td>\n",
       "      <td>KR_5684039329</td>\n",
       "    </tr>\n",
       "    <tr>\n",
       "      <th>3</th>\n",
       "      <td>200</td>\n",
       "      <td>False</td>\n",
       "      <td>False</td>\n",
       "      <td>False</td>\n",
       "      <td>False</td>\n",
       "      <td>False</td>\n",
       "      <td>False</td>\n",
       "      <td>True</td>\n",
       "      <td>16</td>\n",
       "      <td>2</td>\n",
       "      <td>0</td>\n",
       "      <td>0</td>\n",
       "      <td>3</td>\n",
       "      <td>1</td>\n",
       "      <td>[{'championId': 154, 'pickTurn': 6}, {'champio...</td>\n",
       "      <td>KR_5684039329</td>\n",
       "    </tr>\n",
       "    <tr>\n",
       "      <th>4</th>\n",
       "      <td>100</td>\n",
       "      <td>True</td>\n",
       "      <td>True</td>\n",
       "      <td>True</td>\n",
       "      <td>True</td>\n",
       "      <td>False</td>\n",
       "      <td>True</td>\n",
       "      <td>True</td>\n",
       "      <td>29</td>\n",
       "      <td>8</td>\n",
       "      <td>1</td>\n",
       "      <td>0</td>\n",
       "      <td>1</td>\n",
       "      <td>2</td>\n",
       "      <td>[{'championId': 89, 'pickTurn': 1}, {'champion...</td>\n",
       "      <td>KR_5686407086</td>\n",
       "    </tr>\n",
       "    <tr>\n",
       "      <th>5</th>\n",
       "      <td>200</td>\n",
       "      <td>False</td>\n",
       "      <td>False</td>\n",
       "      <td>False</td>\n",
       "      <td>False</td>\n",
       "      <td>False</td>\n",
       "      <td>False</td>\n",
       "      <td>False</td>\n",
       "      <td>19</td>\n",
       "      <td>2</td>\n",
       "      <td>0</td>\n",
       "      <td>0</td>\n",
       "      <td>0</td>\n",
       "      <td>0</td>\n",
       "      <td>[{'championId': 58, 'pickTurn': 6}, {'champion...</td>\n",
       "      <td>KR_5686407086</td>\n",
       "    </tr>\n",
       "    <tr>\n",
       "      <th>6</th>\n",
       "      <td>100</td>\n",
       "      <td>False</td>\n",
       "      <td>False</td>\n",
       "      <td>True</td>\n",
       "      <td>False</td>\n",
       "      <td>False</td>\n",
       "      <td>True</td>\n",
       "      <td>True</td>\n",
       "      <td>36</td>\n",
       "      <td>4</td>\n",
       "      <td>0</td>\n",
       "      <td>0</td>\n",
       "      <td>2</td>\n",
       "      <td>2</td>\n",
       "      <td>[{'championId': 76, 'pickTurn': 1}, {'champion...</td>\n",
       "      <td>KR_5685150228</td>\n",
       "    </tr>\n",
       "    <tr>\n",
       "      <th>7</th>\n",
       "      <td>200</td>\n",
       "      <td>True</td>\n",
       "      <td>True</td>\n",
       "      <td>False</td>\n",
       "      <td>True</td>\n",
       "      <td>True</td>\n",
       "      <td>False</td>\n",
       "      <td>False</td>\n",
       "      <td>34</td>\n",
       "      <td>10</td>\n",
       "      <td>2</td>\n",
       "      <td>1</td>\n",
       "      <td>2</td>\n",
       "      <td>0</td>\n",
       "      <td>[{'championId': 51, 'pickTurn': 6}, {'champion...</td>\n",
       "      <td>KR_5685150228</td>\n",
       "    </tr>\n",
       "    <tr>\n",
       "      <th>8</th>\n",
       "      <td>100</td>\n",
       "      <td>True</td>\n",
       "      <td>False</td>\n",
       "      <td>True</td>\n",
       "      <td>True</td>\n",
       "      <td>False</td>\n",
       "      <td>True</td>\n",
       "      <td>True</td>\n",
       "      <td>35</td>\n",
       "      <td>6</td>\n",
       "      <td>1</td>\n",
       "      <td>0</td>\n",
       "      <td>2</td>\n",
       "      <td>2</td>\n",
       "      <td>[{'championId': -1, 'pickTurn': 1}, {'champion...</td>\n",
       "      <td>KR_5685771909</td>\n",
       "    </tr>\n",
       "    <tr>\n",
       "      <th>9</th>\n",
       "      <td>200</td>\n",
       "      <td>False</td>\n",
       "      <td>True</td>\n",
       "      <td>False</td>\n",
       "      <td>False</td>\n",
       "      <td>False</td>\n",
       "      <td>False</td>\n",
       "      <td>False</td>\n",
       "      <td>15</td>\n",
       "      <td>0</td>\n",
       "      <td>0</td>\n",
       "      <td>0</td>\n",
       "      <td>0</td>\n",
       "      <td>0</td>\n",
       "      <td>[{'championId': 104, 'pickTurn': 6}, {'champio...</td>\n",
       "      <td>KR_5685771909</td>\n",
       "    </tr>\n",
       "  </tbody>\n",
       "</table>\n",
       "</div>"
      ],
      "text/plain": [
       "  teamId    win firstBlood firstTower firstInhibitor firstBaron firstDragon  \\\n",
       "0    100   True      False       True           True      False       False   \n",
       "1    200  False       True      False          False       True        True   \n",
       "2    100   True       True       True           True       True        True   \n",
       "3    200  False      False      False          False      False       False   \n",
       "4    100   True       True       True           True      False        True   \n",
       "5    200  False      False      False          False      False       False   \n",
       "6    100  False      False       True          False      False        True   \n",
       "7    200   True       True      False           True       True       False   \n",
       "8    100   True      False       True           True      False        True   \n",
       "9    200  False       True      False          False      False       False   \n",
       "\n",
       "  firstRiftHerald championKills towerKills inhibitorKills baronKills  \\\n",
       "0            True            40          8              2          1   \n",
       "1           False            42          9              4          2   \n",
       "2           False            28         10              2          1   \n",
       "3            True            16          2              0          0   \n",
       "4            True            29          8              1          0   \n",
       "5           False            19          2              0          0   \n",
       "6            True            36          4              0          0   \n",
       "7           False            34         10              2          1   \n",
       "8            True            35          6              1          0   \n",
       "9           False            15          0              0          0   \n",
       "\n",
       "  dragonKills riftHeraldKills  \\\n",
       "0           1               1   \n",
       "1           5               1   \n",
       "2           1               1   \n",
       "3           3               1   \n",
       "4           1               2   \n",
       "5           0               0   \n",
       "6           2               2   \n",
       "7           2               0   \n",
       "8           2               2   \n",
       "9           0               0   \n",
       "\n",
       "                                                bans         gameId  \n",
       "0  [{'championId': 711, 'pickTurn': 1}, {'champio...  KR_5685811134  \n",
       "1  [{'championId': -1, 'pickTurn': 6}, {'champion...  KR_5685811134  \n",
       "2  [{'championId': 64, 'pickTurn': 1}, {'champion...  KR_5684039329  \n",
       "3  [{'championId': 154, 'pickTurn': 6}, {'champio...  KR_5684039329  \n",
       "4  [{'championId': 89, 'pickTurn': 1}, {'champion...  KR_5686407086  \n",
       "5  [{'championId': 58, 'pickTurn': 6}, {'champion...  KR_5686407086  \n",
       "6  [{'championId': 76, 'pickTurn': 1}, {'champion...  KR_5685150228  \n",
       "7  [{'championId': 51, 'pickTurn': 6}, {'champion...  KR_5685150228  \n",
       "8  [{'championId': -1, 'pickTurn': 1}, {'champion...  KR_5685771909  \n",
       "9  [{'championId': 104, 'pickTurn': 6}, {'champio...  KR_5685771909  "
      ]
     },
     "execution_count": 11,
     "metadata": {},
     "output_type": "execute_result"
    }
   ],
   "source": [
    "match_grandmaster"
   ]
  },
  {
   "cell_type": "code",
   "execution_count": null,
   "id": "77d5838a",
   "metadata": {
    "id": "77d5838a"
   },
   "outputs": [],
   "source": [
    "match_grandmaster.to_csv(\"match_challanger.csv\", header=True, index = False)"
   ]
  },
  {
   "cell_type": "code",
   "execution_count": null,
   "id": "6c0dbffb",
   "metadata": {
    "id": "6c0dbffb"
   },
   "outputs": [],
   "source": []
  }
 ],
 "metadata": {
  "colab": {
   "name": "GrandmasterData.ipynb",
   "provenance": []
  },
  "kernelspec": {
   "display_name": "Python 3 (ipykernel)",
   "language": "python",
   "name": "python3"
  },
  "language_info": {
   "codemirror_mode": {
    "name": "ipython",
    "version": 3
   },
   "file_extension": ".py",
   "mimetype": "text/x-python",
   "name": "python",
   "nbconvert_exporter": "python",
   "pygments_lexer": "ipython3",
   "version": "3.9.7"
  }
 },
 "nbformat": 4,
 "nbformat_minor": 5
}
