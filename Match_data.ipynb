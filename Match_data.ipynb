{
 "cells": [
  {
   "cell_type": "code",
   "execution_count": 1,
   "id": "1f48ed51",
   "metadata": {},
   "outputs": [],
   "source": [
    "from http import client\n",
    "from xml.dom.minidom import Document\n",
    "from pymongo import MongoClient\n",
    "import certifi\n",
    "import pandas as pd\n",
    "\n",
    "col = ['gameid','win_team','1','1score','2','2score','3','3score','4','4score','5','5score','6','6score','7','7score','8','8score','9','9score','10','10score']\n",
    "learn_data = pd.DataFrame(columns = col)\n",
    "\n",
    "##몽고db 계정정보\n",
    "HOST = 'cluster0.l3phm.mongodb.net'\n",
    "USER = 'jhp0046'\n",
    "PASSWORD = 'qkrwlgns0046'\n",
    "DATABASE_NAME = 'myFirstDatabase'\n",
    "COLLECTION_NAME = 'loldata'\n",
    "MONGO_URI = f\"mongodb+srv://{USER}:{PASSWORD}@{HOST}/{DATABASE_NAME}?retryWrites=true&w=majority\"\n",
    "ca = certifi.where()\n",
    "\n",
    "client = MongoClient(MONGO_URI, tlsCAFile=certifi.where())\n",
    "\n",
    "db = client[DATABASE_NAME]\n",
    "\n",
    "col = db[COLLECTION_NAME]\n",
    "\n",
    "doc = col.find({})\n",
    "\n",
    "game_data = []\n",
    "\n",
    "for i in doc:\n",
    "    game_data.append(i)\n",
    "\n",
    "game_data = game_data[95:]"
   ]
  },
  {
   "cell_type": "code",
   "execution_count": 4,
   "id": "5cfcf4d9",
   "metadata": {
    "scrolled": true
   },
   "outputs": [
    {
     "data": {
      "text/plain": [
       "<function Connection.close>"
      ]
     },
     "execution_count": 4,
     "metadata": {},
     "output_type": "execute_result"
    }
   ],
   "source": [
    "import sqlite3\n",
    "\n",
    "conn = sqlite3.connect('loldata.db') # 데이터 베이스 생성\n",
    "cur = conn.cursor()\n",
    "\n",
    "cur.execute(\"DROP TABLE IF EXISTS Match_data;\")\n",
    "\n",
    "cur.execute(f\"\"\"CREATE TABLE Match_data (\n",
    "                \"Id\" INTEGER NOT NULL PRIMARY KEY,\n",
    "                \"gameid\" NVARCHAR(160) NOT NULL,\n",
    "                \"win_team\" NVARCHAR(160) NOT NULL,\n",
    "                \"1pick\" INTEGER NOT NULL,\n",
    "                \"1score\" INTEGER NOT NULL,\n",
    "                \"2pick\" INTEGER NOT NULL,\n",
    "                \"2score\" INTEGER NOT NULL,\n",
    "                \"3pick\" INTEGER NOT NULL,\n",
    "                \"3score\" INTEGER NOT NULL,\n",
    "                \"4pick\" INTEGER NOT NULL,\n",
    "                \"4score\" INTEGER NOT NULL,\n",
    "                \"5pick\" INTEGER NOT NULL,\n",
    "                \"5score\" INTEGER NOT NULL,\n",
    "                \"6pick\" INTEGER NOT NULL,\n",
    "                \"6score\" INTEGER NOT NULL,\n",
    "                \"7pick\" INTEGER NOT NULL,\n",
    "                \"7score\" INTEGER NOT NULL,\n",
    "                \"8pick\" INTEGER NOT NULL,\n",
    "                \"8score\" INTEGER NOT NULL,\n",
    "                \"9pick\" INTEGER NOT NULL,\n",
    "                \"9score\" INTEGER NOT NULL,\n",
    "                \"10pick\" INTEGER NOT NULL,\n",
    "                \"10score\" INTEGER NOT NULL               \n",
    "                )\n",
    "                ;\"\"\")\n",
    "\n",
    "conn.commit()\n",
    "cur.close\n",
    "conn.close"
   ]
  },
  {
   "cell_type": "code",
   "execution_count": 5,
   "id": "cebe0e06",
   "metadata": {},
   "outputs": [
    {
     "name": "stderr",
     "output_type": "stream",
     "text": [
      "100%|██████████████████████████████████████| 8276/8276 [00:26<00:00, 313.26it/s]\n"
     ]
    }
   ],
   "source": [
    "from tqdm import tqdm\n",
    "for i in tqdm(range(len(game_data))):\n",
    "    try:\n",
    "        keys = list(game_data[i].keys())\n",
    "        gamedata = game_data[i]\n",
    "        input_data = {'gameid': keys[1],\n",
    "                      'win_team': gamedata[keys[1]],\n",
    "                      '1' : gamedata[keys[2]][1],\n",
    "                      '1score' : gamedata[keys[2]][0],\n",
    "                      '2' : gamedata[keys[3]][1],\n",
    "                      '2score' : gamedata[keys[3]][0],\n",
    "                      '3' : gamedata[keys[4]][1],\n",
    "                      '3score' : gamedata[keys[4]][0],\n",
    "                      '4' : gamedata[keys[5]][1],\n",
    "                      '4score' : gamedata[keys[5]][0],\n",
    "                      '5' : gamedata[keys[6]][1],\n",
    "                      '5score' : gamedata[keys[6]][0],\n",
    "                      '6' : gamedata[keys[7]][1],\n",
    "                      '6score' : gamedata[keys[7]][0],\n",
    "                      '7' : gamedata[keys[8]][1],\n",
    "                      '7score' : gamedata[keys[8]][0],\n",
    "                      '8' : gamedata[keys[9]][1],\n",
    "                      '8score' : gamedata[keys[9]][0],\n",
    "                      '9' : gamedata[keys[10]][1],\n",
    "                      '9score' : gamedata[keys[10]][0],\n",
    "                      '10' : gamedata[keys[11]][1],\n",
    "                      '10score' : gamedata[keys[11]][0],\n",
    "                      }\n",
    "        import sqlite3\n",
    "\n",
    "        conn = sqlite3.connect('loldata.db') # 데이터 베이스 생성\n",
    "        cur = conn.cursor()\n",
    "\n",
    "\n",
    "        cur.execute(f\"\"\"INSERT OR REPLACE INTO Match_data(\"Id\", \"gameid\", \"win_team\",  \"1pick\", \"1score\",\n",
    "                                                                                        \"2pick\", \"2score\",\n",
    "                                                                                        \"3pick\", \"3score\",\n",
    "                                                                                        \"4pick\", \"4score\",\n",
    "                                                                                        \"5pick\", \"5score\",\n",
    "                                                                                        \"6pick\", \"6score\",\n",
    "                                                                                        \"7pick\", \"7score\",\n",
    "                                                                                        \"8pick\", \"8score\",\n",
    "                                                                                        \"9pick\", \"9score\",\n",
    "                                                                                        \"10pick\", \"10score\"\n",
    "                                                                            )\n",
    "                    VALUES ({i},?,?,?,?,?,?,?,?,?,?,?,?,?,?,?,?,?,?,?,?,?,?);\"\"\", list(input_data.values()))\n",
    "\n",
    "        conn.commit()\n",
    "        cur.close\n",
    "        conn.close\n",
    "\n",
    "        learn_data = learn_data.append(input_data, ignore_index=True)\n",
    "    except:\n",
    "        pass"
   ]
  },
  {
   "cell_type": "code",
   "execution_count": 5,
   "id": "aa3c7d30",
   "metadata": {},
   "outputs": [],
   "source": [
    "df = learn_data\n",
    "df = df.drop_duplicates()\n",
    "df = df.drop(['gameid'],axis =1) \n",
    "df = df.reset_index(drop = True)"
   ]
  },
  {
   "cell_type": "code",
   "execution_count": 6,
   "id": "507bf1d4",
   "metadata": {},
   "outputs": [],
   "source": [
    "from sklearn.model_selection import train_test_split, GridSearchCV\n",
    "from sklearn.model_selection import KFold\n",
    " \n",
    "train, val =  train_test_split(df, test_size=0.2, train_size= 0.8, random_state=10)\n",
    "target = 'win_team'\n",
    "features = train.drop(columns=[target]).columns\n",
    "\n",
    "X_train = train[features]\n",
    "y_train = train[target]\n",
    "\n",
    "X_val = val[features]\n",
    "y_val = val[target]"
   ]
  },
  {
   "cell_type": "code",
   "execution_count": 7,
   "id": "d337c902",
   "metadata": {},
   "outputs": [],
   "source": [
    "from category_encoders import OrdinalEncoder\n",
    "encoder = OrdinalEncoder()\n",
    "X_train_encoded = encoder.fit_transform(X_train)\n",
    "X_val_encoded = encoder.transform(X_val)"
   ]
  },
  {
   "cell_type": "code",
   "execution_count": 8,
   "id": "db7751c7",
   "metadata": {},
   "outputs": [
    {
     "ename": "XGBoostError",
     "evalue": "\nXGBoost Library (libxgboost.dylib) could not be loaded.\nLikely causes:\n  * OpenMP runtime is not installed\n    - vcomp140.dll or libgomp-1.dll for Windows\n    - libomp.dylib for Mac OSX\n    - libgomp.so for Linux and other UNIX-like OSes\n    Mac OSX users: Run `brew install libomp` to install OpenMP runtime.\n\n  * You are running 32-bit Python on a 64-bit OS\n\nError message(s): [\"dlopen(/Users/piat/opt/anaconda3/lib/python3.9/site-packages/xgboost/lib/libxgboost.dylib, 0x0006): Library not loaded: /usr/local/opt/libomp/lib/libomp.dylib\\n  Referenced from: /Users/piat/opt/anaconda3/lib/python3.9/site-packages/xgboost/lib/libxgboost.dylib\\n  Reason: tried: '/usr/local/opt/libomp/lib/libomp.dylib' (no such file), '/usr/local/lib/libomp.dylib' (no such file), '/usr/lib/libomp.dylib' (no such file)\"]\n",
     "output_type": "error",
     "traceback": [
      "\u001b[0;31m---------------------------------------------------------------------------\u001b[0m",
      "\u001b[0;31mXGBoostError\u001b[0m                              Traceback (most recent call last)",
      "\u001b[0;32m/var/folders/3c/txdgx5zd3bg8qy5j74jgm8hw0000gn/T/ipykernel_96278/2734319298.py\u001b[0m in \u001b[0;36m<module>\u001b[0;34m\u001b[0m\n\u001b[0;32m----> 1\u001b[0;31m \u001b[0;32mfrom\u001b[0m \u001b[0mxgboost\u001b[0m \u001b[0;32mimport\u001b[0m \u001b[0mXGBClassifier\u001b[0m\u001b[0;34m\u001b[0m\u001b[0;34m\u001b[0m\u001b[0m\n\u001b[0m\u001b[1;32m      2\u001b[0m \u001b[0;32mfrom\u001b[0m \u001b[0msklearn\u001b[0m\u001b[0;34m.\u001b[0m\u001b[0mmodel_selection\u001b[0m \u001b[0;32mimport\u001b[0m \u001b[0mGridSearchCV\u001b[0m\u001b[0;34m\u001b[0m\u001b[0;34m\u001b[0m\u001b[0m\n\u001b[1;32m      3\u001b[0m xgb = XGBClassifier(n_jobs=-1,\n\u001b[1;32m      4\u001b[0m                     random_state = 10)\n\u001b[1;32m      5\u001b[0m \u001b[0;34m\u001b[0m\u001b[0m\n",
      "\u001b[0;32m~/opt/anaconda3/lib/python3.9/site-packages/xgboost/__init__.py\u001b[0m in \u001b[0;36m<module>\u001b[0;34m\u001b[0m\n\u001b[1;32m      7\u001b[0m \u001b[0;32mimport\u001b[0m \u001b[0mos\u001b[0m\u001b[0;34m\u001b[0m\u001b[0;34m\u001b[0m\u001b[0m\n\u001b[1;32m      8\u001b[0m \u001b[0;34m\u001b[0m\u001b[0m\n\u001b[0;32m----> 9\u001b[0;31m \u001b[0;32mfrom\u001b[0m \u001b[0;34m.\u001b[0m\u001b[0mcore\u001b[0m \u001b[0;32mimport\u001b[0m \u001b[0mDMatrix\u001b[0m\u001b[0;34m,\u001b[0m \u001b[0mDeviceQuantileDMatrix\u001b[0m\u001b[0;34m,\u001b[0m \u001b[0mBooster\u001b[0m\u001b[0;34m,\u001b[0m \u001b[0mDataIter\u001b[0m\u001b[0;34m\u001b[0m\u001b[0;34m\u001b[0m\u001b[0m\n\u001b[0m\u001b[1;32m     10\u001b[0m \u001b[0;32mfrom\u001b[0m \u001b[0;34m.\u001b[0m\u001b[0mtraining\u001b[0m \u001b[0;32mimport\u001b[0m \u001b[0mtrain\u001b[0m\u001b[0;34m,\u001b[0m \u001b[0mcv\u001b[0m\u001b[0;34m\u001b[0m\u001b[0;34m\u001b[0m\u001b[0m\n\u001b[1;32m     11\u001b[0m \u001b[0;32mfrom\u001b[0m \u001b[0;34m.\u001b[0m \u001b[0;32mimport\u001b[0m \u001b[0mrabit\u001b[0m  \u001b[0;31m# noqa\u001b[0m\u001b[0;34m\u001b[0m\u001b[0;34m\u001b[0m\u001b[0m\n",
      "\u001b[0;32m~/opt/anaconda3/lib/python3.9/site-packages/xgboost/core.py\u001b[0m in \u001b[0;36m<module>\u001b[0;34m\u001b[0m\n\u001b[1;32m    201\u001b[0m \u001b[0;34m\u001b[0m\u001b[0m\n\u001b[1;32m    202\u001b[0m \u001b[0;31m# load the XGBoost library globally\u001b[0m\u001b[0;34m\u001b[0m\u001b[0;34m\u001b[0m\u001b[0m\n\u001b[0;32m--> 203\u001b[0;31m \u001b[0m_LIB\u001b[0m \u001b[0;34m=\u001b[0m \u001b[0m_load_lib\u001b[0m\u001b[0;34m(\u001b[0m\u001b[0;34m)\u001b[0m\u001b[0;34m\u001b[0m\u001b[0;34m\u001b[0m\u001b[0m\n\u001b[0m\u001b[1;32m    204\u001b[0m \u001b[0;34m\u001b[0m\u001b[0m\n\u001b[1;32m    205\u001b[0m \u001b[0;34m\u001b[0m\u001b[0m\n",
      "\u001b[0;32m~/opt/anaconda3/lib/python3.9/site-packages/xgboost/core.py\u001b[0m in \u001b[0;36m_load_lib\u001b[0;34m()\u001b[0m\n\u001b[1;32m    179\u001b[0m     \u001b[0;32mif\u001b[0m \u001b[0;32mnot\u001b[0m \u001b[0mlib_success\u001b[0m\u001b[0;34m:\u001b[0m\u001b[0;34m\u001b[0m\u001b[0;34m\u001b[0m\u001b[0m\n\u001b[1;32m    180\u001b[0m         \u001b[0mlibname\u001b[0m \u001b[0;34m=\u001b[0m \u001b[0mos\u001b[0m\u001b[0;34m.\u001b[0m\u001b[0mpath\u001b[0m\u001b[0;34m.\u001b[0m\u001b[0mbasename\u001b[0m\u001b[0;34m(\u001b[0m\u001b[0mlib_paths\u001b[0m\u001b[0;34m[\u001b[0m\u001b[0;36m0\u001b[0m\u001b[0;34m]\u001b[0m\u001b[0;34m)\u001b[0m\u001b[0;34m\u001b[0m\u001b[0;34m\u001b[0m\u001b[0m\n\u001b[0;32m--> 181\u001b[0;31m         raise XGBoostError(\n\u001b[0m\u001b[1;32m    182\u001b[0m             f\"\"\"\n\u001b[1;32m    183\u001b[0m \u001b[0mXGBoost\u001b[0m \u001b[0mLibrary\u001b[0m \u001b[0;34m(\u001b[0m\u001b[0;34m{\u001b[0m\u001b[0mlibname\u001b[0m\u001b[0;34m}\u001b[0m\u001b[0;34m)\u001b[0m \u001b[0mcould\u001b[0m \u001b[0;32mnot\u001b[0m \u001b[0mbe\u001b[0m \u001b[0mloaded\u001b[0m\u001b[0;34m.\u001b[0m\u001b[0;34m\u001b[0m\u001b[0;34m\u001b[0m\u001b[0m\n",
      "\u001b[0;31mXGBoostError\u001b[0m: \nXGBoost Library (libxgboost.dylib) could not be loaded.\nLikely causes:\n  * OpenMP runtime is not installed\n    - vcomp140.dll or libgomp-1.dll for Windows\n    - libomp.dylib for Mac OSX\n    - libgomp.so for Linux and other UNIX-like OSes\n    Mac OSX users: Run `brew install libomp` to install OpenMP runtime.\n\n  * You are running 32-bit Python on a 64-bit OS\n\nError message(s): [\"dlopen(/Users/piat/opt/anaconda3/lib/python3.9/site-packages/xgboost/lib/libxgboost.dylib, 0x0006): Library not loaded: /usr/local/opt/libomp/lib/libomp.dylib\\n  Referenced from: /Users/piat/opt/anaconda3/lib/python3.9/site-packages/xgboost/lib/libxgboost.dylib\\n  Reason: tried: '/usr/local/opt/libomp/lib/libomp.dylib' (no such file), '/usr/local/lib/libomp.dylib' (no such file), '/usr/lib/libomp.dylib' (no such file)\"]\n"
     ]
    }
   ],
   "source": [
    "from xgboost import XGBClassifier\n",
    "from sklearn.model_selection import GridSearchCV\n",
    "xgb = XGBClassifier(n_jobs=-1,\n",
    "                    random_state = 10)\n",
    "\n",
    "dists = {'n_estimators' : [100,200,300,400,500,600],\n",
    "        'learning_rate': [0.1, 0.2, 0.3],\n",
    "        'max_depth' : [4,5,6,7]\n",
    "        }\n",
    "\n",
    "clf_xgb = GridSearchCV(\n",
    "    xgb, \n",
    "    param_grid = dists,  \n",
    "    cv=3, \n",
    "    scoring='f1',  \n",
    "    verbose=1,\n",
    "    )\n",
    "\n",
    "clf_xgb.fit(X_train_encoded, y_train)"
   ]
  },
  {
   "cell_type": "code",
   "execution_count": null,
   "id": "96623467",
   "metadata": {},
   "outputs": [],
   "source": [
    "clf_xgb.best_estimator_"
   ]
  },
  {
   "cell_type": "code",
   "execution_count": 156,
   "id": "18247e8e",
   "metadata": {},
   "outputs": [
    {
     "name": "stdout",
     "output_type": "stream",
     "text": [
      "Collecting xgboost\n",
      "  Downloading xgboost-1.5.2-py3-none-macosx_10_15_x86_64.macosx_11_0_x86_64.macosx_12_0_x86_64.whl (1.3 MB)\n",
      "\u001b[K     |████████████████████████████████| 1.3 MB 7.9 MB/s eta 0:00:01\n",
      "\u001b[?25hRequirement already satisfied: scipy in /Users/piat/opt/anaconda3/lib/python3.9/site-packages (from xgboost) (1.7.1)\n",
      "Requirement already satisfied: numpy in /Users/piat/opt/anaconda3/lib/python3.9/site-packages (from xgboost) (1.20.3)\n",
      "Installing collected packages: xgboost\n",
      "Successfully installed xgboost-1.5.2\n",
      "Note: you may need to restart the kernel to use updated packages.\n"
     ]
    }
   ],
   "source": [
    "pip install xgboost"
   ]
  },
  {
   "cell_type": "code",
   "execution_count": 9,
   "id": "11a49927",
   "metadata": {
    "scrolled": true
   },
   "outputs": [
    {
     "ename": "SyntaxError",
     "evalue": "invalid syntax (1673928220.py, line 1)",
     "output_type": "error",
     "traceback": [
      "\u001b[0;36m  File \u001b[0;32m\"/var/folders/3c/txdgx5zd3bg8qy5j74jgm8hw0000gn/T/ipykernel_96278/1673928220.py\"\u001b[0;36m, line \u001b[0;32m1\u001b[0m\n\u001b[0;31m    brew install cmake libomp\u001b[0m\n\u001b[0m         ^\u001b[0m\n\u001b[0;31mSyntaxError\u001b[0m\u001b[0;31m:\u001b[0m invalid syntax\n"
     ]
    }
   ],
   "source": []
  },
  {
   "cell_type": "code",
   "execution_count": null,
   "id": "2f86074d",
   "metadata": {},
   "outputs": [],
   "source": []
  }
 ],
 "metadata": {
  "kernelspec": {
   "display_name": "Python 3 (ipykernel)",
   "language": "python",
   "name": "python3"
  },
  "language_info": {
   "codemirror_mode": {
    "name": "ipython",
    "version": 3
   },
   "file_extension": ".py",
   "mimetype": "text/x-python",
   "name": "python",
   "nbconvert_exporter": "python",
   "pygments_lexer": "ipython3",
   "version": "3.9.7"
  }
 },
 "nbformat": 4,
 "nbformat_minor": 5
}
