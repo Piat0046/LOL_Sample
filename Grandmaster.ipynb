{
 "cells": [
  {
   "cell_type": "code",
   "execution_count": 20,
   "id": "f04bc266",
   "metadata": {
    "id": "f04bc266",
    "outputId": "ea136cc4-4591-4de6-91ce-81fc49b9bfbf"
   },
   "outputs": [
    {
     "name": "stdout",
     "output_type": "stream",
     "text": [
      "621\n",
      "{'살퀸레': 'pEqEX5t6K9dFNexqj6TXe7AEdhpRSBDYgV0Hzyc8paOBeemnu8DhDqu3IQ', '뽀장뽀': 'DZg4lMM2CoX3MmC8LINSOBoiQpP3qNK6c_zTs9e8DkvRig', 'astrum1': 'UHdfEUP20IcI2Ya4Nj-P0ktBybxMA5ylFTtpypvPAd8sRQ', 'ynnkaa': 'B9rAIphElSnOplS9Rn04wEJu0SHss6NfT2K57N4-IrRIwNfdjHkLX4gpFQ', '첼까지닉변안함': 'QOyHrHm0xoeBSIHSZ1jmXHW18MjQ3nKiJ0ALiLu94xhHSkOPDS5SRqEQow', '공부하기시러요': 'HQk8M47r8ulhcjmjA-DT3S0r9bILtme-rKQtWyjIgnuEUzM', '하뭉이내끄': '2YkZQ6UwrIc5iHdqVJKiURzLfVuCwiGNJ_wcPc2CQEZ5Q2Q', '변세윤': 'DIZLBa9RyyJkM8cz2nl1lLeEG9O4-eEMN1guRfBcSI0jS1Y', '61110002': 'ptM6BUppf8wdCcYzo8DtnUVqki3sf-p0aPHzotBEV51p5A', 'Honpi': 'VnuPKGI6tX4MrrHr0BcR06v_KoQTqLNfMClHh1d5sSaypjA', 'Reve Bonheur Toi': 'h3Eb7dD4KoiUtqxTV-YQ4d3V8-AJ04pWZtVVNTquksBn_zIfZM6kK74MeQ', 'doubiewanle': 'IDFqDWjmTsX_QSrRovSQrsGjq9UnhV0UTwgoCwVWrPs3A5NR20QH77MJCg', 'Gen G Poo': 'PQJHBnyM0Ox9XcT9h4ySkR-fPOqAPoAGNjsEZheM6aVWFxr-pexrNW1WSA', 'LunaIina': 'oGOH_wE5CP4KU-zOWPuxzc4GdIBA-c6kcub31yzEQNMpn8Y', '쭌 베': 'ArxEbel0F33uUipqrsn-0HzBbIFX0VG3oZOm_VFK5BGSSxc', 'OneZang': 'aatNE1RyL24PVmjSFEciJZeyfh5cpt_tG1fFaROgT98kUR0', 'Shadow Ming9': 'RFiJdmZEkurBXaJ3Q7n2NpXmTu3_GhzRgYQ8R4H1XuB_EEw', '뽀삐의 피지컬': '_kSigVrLN8qh_Tr-4pqyozozojPHX71e24pOoCPedBGY7hA', '패치가가장강하다': 'A3g-kQihBLDLP6O5Zq9f-PIXyENTDS-V8dUgR7gH4pm4mjg', 'Frog프로그': 'EcCDzjbdpefgqQ7taVdzLSHmTPzLIeCJy7QMmCn2zLXffN0', 'sanspareil2': 'GtaXPDbNumOSYD6FhJkg3LWLiijKzjo3VGizw-0GOpWRs-2witDtXRd3PQ', '트위치티비호붕이': 'i0oTggG3HXj0kDyR7oECQHLVFVPmLLmBuo8iQ2aIqVpAxPo', '펭귄빙산추락': 'ijP86M977YBso1pgjD0ghW-Lm0Q6g8X6wRVvhvi0N7Xi-N4', 'Map1eStory275Lv': '1_s04Av8MUvGncaHGaFsH8Qf48LmsJQRXkzZRw-emje9PSy0McQ5AOsFWw', 'Love SaintDiana': 'wC3fSsONKvcIgMWPteLAxVQ2M2TP-VV3KcGBqXmamiC6liuQ3qA6-AWTEg', 'DK Sharvel': 'gf1FpzdrC4KlKnmSEb0YmwjjXMNd6XBf2QtH6sQZ4GH6jsk', 'JD fans': 'hokHzE0IZzVfr9ci03N-siaJ58LT9J3qur-uPTmDpt1Vaks', '착해지다': 'sng7FggHUrnS19Q24ikxia1bkbAUrgSGk50r3UG-sPvsfiI', '조유리조유리조유리조유리조유리4': 's9GIcVhQiWZEEjG9BF-15uZnysVk8LUBIrLUjqa-U_M5gdFveG08FbroqQ', 'Daye2': 'Y6VUcRHjnsoiEV8WwxaOhIYsMY1QE7i4R4KfoGd493V-fKbDTqGjKewTOA', '넌 정말 섹시해': 'qCrsgV4qKvfIjAvke9ALcdiXJ5l6CuKlJ1gvh0j9zWZYOQ', '디아루가1': '8BfTpAkJ78Fwq_15yaQKu8uz7CbYgwv909ku1327mm-D_0E', '3donghezecaoxian': 'FmG_8A-TcDH2Ty7_jAsMlQk18e7fjZ1MPY3zSA2jFc76Zsw', 'LSB Prove': 'HTqk4KnhjVZvYog4--trJbgv4cSdvyhWCzU_jjV7Bwd9Ia8', 'talasha': 'M-wtahep5xIwySS7XsoCkY6S4eTh6NzaDWstoKwGbLHOGQ', 'dansafakez': 'p1FauuOa4Ai-gy_3pitmqlsOz8HO77Mm5FvsONL-9u-7yDKZ03Fe9NbUPQ', '서번트 증후군': '0jabWhKm96Kq4my8aTXOOrkSNdCZa6rd2LfnWZtDfl5LM-M4QHgDbh8khA', 'Hwimin': 'MwwGqLtfUh-Rkmzgq2U9ZczDcgxuTSJuLHJxesZWQVf_mpQ', 'ggggggffggg': 'yualKvHTQcepX0NtGn-44T61ZZqrw_uPxDf9EOKexfc0Dg8', 'Rio Kairos': 'SzFg_Ng535cOyVh3hd0yNl2HEC7ai4Oqk3UFuI_1zwwawVYn', 'najiukaibai': 'fz5EUh82H6J2JueJ7Osfml_NJgvYOTe76JgFbWjrn5iyTUC0aPmcr7pkdw', 'FA Raphael': '2H6QeAXKxcGZpVFSudWNyzutmi3jzmiCCqyAJF4yP9iHmZRCQaLmQaX-Gg', '유미보이면닷지': 'A90voJ65XkKLoQ94rmb1g9psDMwWD3QNZIEIV-sXtxJSCij6', '호잇이': 'zQl0uiKJRENhyWRvqZgAnbQymgJgNJzKhXcEc6DfsseIXFQ', '여행 떠나기': 'UTtLL4spsRqHWvPT6mxT6a54Y3gE0e9ln_ha8hFWm_vOKt4', 'krats aira': 'SIOUBjz09yaCS3aQrK9dJs3HbtOd2QKaP1mMZRtmO0-CKt4', '포식자': 'j7xzgs00EYExmwtDGfTSIzRuarcHc4kWe7g-HCUByoQVIGQ', '후쿠시마산꽃게': 'GOwg0cU3VB9MvmqGkx0Q6qYrwBX2mX1R8zKV4oD1CMOq5g', '채원 펫': '2q3yZwRsrQT7mudZyAL0Qrj3P9cAO8s4Px55XzyXNo8XhVWzBDl-S3ndJg', '은하수의 별': 'pMyR6YhzT4bq8-ormg2RE4sL_jN82Y1yLduYT8G2caQOBvg', 'Listo': 'tRk24mBW9aITGERS3QHTWVbKHGxNntL5XqQnH8blvVYBzhs', '박치기공룡입니다': 'PlCwZJmuc2NnxBf10YLpcKPsfYSTRQOqavdy8DI51k4npcc', '20050726정글': 'wRUpliLCk2Kk6d7Du2Q2rxWYrTetBrauF03t-ZHORmZlbPiLf6Pw9HZnCg', '위믹스노애미': 'UbZPO-CJ4xk66zNDLrDsNjPG2Dx_vT4J5vtwikQ9tiQLyA', '올곧고바르게살자': 'IzZEkvLfV7rutHRMippHCYzG50SffYTWjLg_cEYKmuZK6NiEqPbSdp_Now', 'if lose jug gap': '334NzCwwwEroeL1WDgK7dPo6PRo11uOrmrVQrMUdE1Fo89qV8osVSeRB5Q', 'Fa 둥이': 'tKJHzNYrFOU5jcSx9kjB6YV3Oy5UD8i2C_5nZ6BBHXELtMu0VcZWOo_O_g', '단백질도둑박종우': 'MaCMz8dhzyz3SFr2Kyaf9jiy64Uw6eCqtLdfcjpYfvvsOZs', 'Kynel99': 'eOs3AJ8fGRaDKnMmJIobyXknG2iVFyt5dq0Taz8UW_i06cY', 'Tiger Den': 'WI6_GZ4zQGUMra7d_OyW0XMmcleYKk-ULV_v18-Epq1R2ss', 'bugouyangguang': 'ApAQsIHb7jz-n1gcPjnUgVLOS_-6gIr0To9cPspptXBGfSU', '쉔으로 챌도전': 'kTC_iMn9WWpsXcRupFIsoP58N5Wx0bA7TxUi8GA5dL2_nARQ', '모해야징 ': 'qxSDjRiiFn3iCIEOXpr1NCAx1jUWT9cWl51aCTVIqmOwIICCJiP3THZVRA', '내옆에물컵': 'P3iEWcIO-etA4GQ5QIeXf3RMgU12hqeBkWcfBmPH0ikOWJg', 'sup3r nov4': 'PPFMh36mYkKwHjTKnJNAGVzFjEBntAl9lxgamtCPq9H0OR4ZbjaVCwW_hg', 'wu tiao jian': 'ulG9bFi8Fl81nZPFJh5WH5rnXGkHr4UrrKvYefbHp0IH9uNPv8hJLSTNgg', '꼭대기': 'tD6_i0HhGsLM4tEj4if2psbIrv7TppU4z-67M4z_iw_nV-k', '한없이 짖어': 'p17I91sSn79qcsDmN0y6rTqcwSA1FvrUPRzTXVkterXtnUu4VpF03zkb4g', '므라기': 'Cpuq4PDT73f6cm744y1lENdyTpmrQV9v4a7Jf1Jl3lpkoA', 'Rio Hather': 'GsWvP8Y7oL5Npzsuw0NpLnyRHH8XHnbAQdcwYPGU7mV9Qvrp', '젠지보면박음': 'khKz1brTva5aPffPXABb7eA1iDyy6Inlj1ZTl4oB3HR6qaJD', 'Yosul': 'fhs3w99pSPPP5l7EiioFDRW9I9LPirTxgUWyf7nQrsfFWQ', '김갑수빈': '8fpaB81zg3I1dlKLxkahQd167Gjroh2hAUlnk96aNdioe3M', 'bymyself1': 'eOMaa4I2dRzKKwZwhJKY5Jryk0lu6PFHNhrDs-Cv8W0wU-Ih', 'kfo': 'Y9xhDtWkG7EROOzCIU9eN4omM63f2XylN3vmz80FnYj32fA', 'Lu Guo ren jian': '2qSJz-ZNOnqoLoYpam0jkHEP_E7hhzHaIxCKWa31zPJkSAtpOOVCEon1Pw', 'zhonglexuruosan': 'aEgJoRlpzXacfKsKwsjRc54r21NTgxLf71cHW6Eub8AuaevoOk43MxNdFA', 'HamBak1': 'wr-RQi4pMiyEcZbPusZztn6QpvVmOPsUWEHEyc7nQJ_cPtw', 'Xiaoyu ToKey3': '6KVTW8M4ZCcUHPvW8Rdxpgt2XSdVMx51juA4YdAIZHMgAg4M5FumPW7Gfw', '하얗고예쁨': '7U-sU7nDiTezZP0aIYFp9mRLB9y3uVFsveb42tpMf2Xb95g', 'happy   game ': 'YokDh86O1t1DkZQO_CYRq2PiEXqKJV88RntCCOYKhvPKp8A', 'Aileri': 'hVNW6VeQJcy5awd70xi5sW2TPU7TB7Np0obVvQzFToMu6eqT', '우우리': 'vVdk1fV6f8i1ng1v_BvgAM-NkCWE6FG-uk54iT31F8AZSg', '힉힉호무리1': '4ChCuqPM5z_plOPhhdoIFOTJIXXJNCx90ulQVkDycbRcd-0', 'DK ShowMaker': 'x6w9-dVYipYn3HldB1YNfJ__0d4RDFG5nWwNqvB6ZAUAs4I', 'Uneasy12': 'tjQh5lzxTLqJ7-p0wBqY_HDOv2GJTQ_kYEE8uKKrBvOltzU', 's1eepyhead': 'h1vpd-6EkMcOpvlLLOaq3S9EslquJTLNDbwnELQkPy7f3BEp19oc80zTdA', '화내 지 마12': 'mAhTmLukvgCqIr7eoOV3gU6qmzUrFC5Yj4IhvqNMMRlHDpA', '맵안보고쳐박음': 'Rp18yUeXcq-j5zmequQCCINNMr2hSyboq_uMjK_k6-FVf9Q', 'Kingen': 'I6q3Zi1PG-PB19UuxLCBmWY6MJWDOID1e83c-oxJNGccWMo', 'hellosanha': 'Skvip9NfJ7DYkBjtfrbv9tFzy3WvSbdrFKkOtiBO4qG-1hg', '너의 친구': 'x8ctfckadkKEt0rJACmKc7SfZ2auexRUAM5W5RHDAonbPTM', '갬 성': 'BrIuRfUBsyxuHRZUoQyfNJH0Igwae8_0nijc4cV5TNjduUc', '고래 칭찬하는': 'borRlraCj30tsrZxG9_tRXONmIetnGEI0NtaRTOw778U2hg', '해달아니예여': 'Slq7KynglycijDwL4Fx0-QumNMr7iZTW7zdQaKkfmpV_w4o', '진심으로 대하다': 'nAcssLHSmkqm9Y2kNtswxTgc5OKhHJ5JjrDtmkkmlRAhbaXj2YrBV0LcEQ', 'LSB KingKong': '7JSh6jjU1LjRvnMz8yyzG8UjEfj2QsnxtkLwrlEUlKW6qYs', '영원한 신': '97juuCL4qdasJWGpROAHQIsKMYwvhAF2FMVnstmp5s7Z4r47kmsVL3ebDA', '땅우양3': 'ZfW1j1D9TGlcTGEmVjMh0i8S3oZbxp2TPZOJXc39fFTjLjgo0Q3yFxvbPA', '병장 이승빈': 'sUkLOjA4_Iy3Xk5xjTKmisRg6nSmfJFR1IUytAUJzGGPIAM', '사랑하지 않아': 'vwp8EMjsay7-ijWBnf_JTU4CWBFd1ak0SGH8AL15qBg49G8', '별사탕이좋아요': 'ngl-9-kXBOmprsMjs1NfwRdLPNFtHqsAKZdWbVyn5L-AOiY', 'HL2 Baut': 'sgTE4NQVg0bDPmbFAcPARzGUSHHBzs7DDdPaudQnkB0rdyw', 'xiaoohao': '4M2P6GRKcx4dSerVeKJGHqvzMoWJqgedxS8ASBR2tyS-NLg', 'qwertyuioasd': 'Ik-6oGMEPYioqKHG0nUFrBLUTQfjalzmvXpO0N5ek5yXC1lkdiChZgaHDw', '핏빛 계약': 'oZX0LCAfEHGoNoQnmEbUXx39V_9i9PT74mEZUugCbsdQ2oE', '아끙이': 'JtWQeZtJi8up3qeFEqsHHlB9bTzKi3ALWtUeaTBjXyoBMw', '대야웰백': '_tk2-JmVHFnJr0HRA153FrugDAN8n-NzubfRLx5eczODmA', 'huazouye': '3HriZ3eEJodjGnbvwpznIiW4qxxAFlT_J2W1Ob9PUPcYqOhNk_iQJqqYoA', 'hyc0505': 'N91SmBqT1r22PQ1hrBRVwX5e5OIi4DiOg6sMmiD73taAxwc', 'emo kid': 'bhsvkYrbEoWAYk4aQPbV8X0MsIfxkMCcldWOTnxFfgMvZNc', '크리스탈Krystal': 'mkigeM4hlI5OS25UCyoxX0ZqtDjoH9cuVw2Uw6xX8zbW9PqBzo3_Dh7PCg', 'Estoy muerta': 'qSdM-pzM7fmNib0GqXVmdYlO6t-lTuKIvHm6C_cx3BocAiVwxG0Sxa09VA', '다이아는죄악이다': 'pHylg_0sWRxLN6jxYZw2ldyzAarToSyiz2mIzPHBtnOcdMg', 'pure1ove': 'UrsWzaGw6J9K5-oiata9LiXx7jqdM9Q_Vww9ZJgIgL7BUmclot5sFHtdJg', '마스터 이': 'T9JEaknVzwNooImKuuStvVru_lXLKb_XVdpwfH2noJ0Hm0Ty', '연습용124': 'oUwBqwPcdzDFt7GPrV_EzL9UnLkmkWmwgNf26FKPmxIov1g', 'Saebyuck9': 'CBZ8wX8u68emIyeEUN3iA1K5p3M3P4qOL95f1dCW64sllPHQ', '애디는말안두뤄': 'AuK82X2S0CzlBnR-78Eq1KXb8Ibnb91S8A5Rf6pUmCHFX-4', 'FA TaNa': 'lPqBHGKEB5_gGCcyWRqXrnZXyD9UFOTtq2YLHB1EJU9eusU', 'Zrs': '_MDT7RtADrsraEinC3S75RBuciISR9IMoZ8sBN0FrOFr9eU', '이펙트1': 'nE2OOUk-35-Jt-TtjlgNiOwU_Qlf4Z4YxTqCpy9nWHjJqeE', 'skuzhiwanjiaOwO': 'bEbvQBbDgOXXNw0NIUFAH8KXVPkB0LJg3EcnS2ZXEBtvidQ', 'Attacking giants': 'uFXY2lMd3N13NEQwakrky2mWnGDV1ePY9K9hr3UJ4rI2U-WHNqhPunpXCw', '입이 나쁜 남자': 'NefNYwNk_8gHcL8x3HkcEALpigsDtqB83YrgFFUktrsyTT6AdzaLGkTPSQ', 'LaP1s': 'n5gGf9EhoYrV9yP3p01u8VHj6J6Yfg6FpE9ejS-sRiRtTxQ', '히히 못먹어': 'sFAAfihlU-yVqrRbwuV0l_dDVNQQxlle-q2Rm-_9l1wx15Y', 'enrage1': '8tylbcBIzAzJ27wS0cluyq9fp-DY4N4wiiSUZDnKelZ1j_w', '나가스톰': 'ie-W7GQ68soyY2lIqvUotN-RbtXWlRGyNXkY47cBwpP2ILY', 'sldjsm': 'KSb2_WJzM9QMnltOJLhuCbCDbCbbmc4vtes6Rpk4Lt3-guI', 'langman de': 'Nn0rMQKEAZfonwctviWADUmJp1kJ0OMWjiklbe83yqbl994', '흠 산': 'W_b1PwuB1AyB3iifmnxfhUOiihc9G9JsOPb9dhvXcp6pYP0OP2txfZ8wlA', '우헤헤헤헹': 'aDtsGDy8dueIUdsMnQqkZZVCcUH76qryX37U9hTKWq1SZTQ', 'U Han': 'qUfQnNzISYhw6oqrwHzLvwyN60rj-05NaYyGLQYHgzNO1Qo', '실직자 조': 'oFfwyxrMDeERsfykHmilCAaDF101trqwWcQS69pleY_OhCs', '하다 캐리': '8NClNfpDKsQTh0fm2XgrAwsfl2YazWweUOamCVnUQHkNIR0fsBo63fi8UQ', 'RHEFNQ': 'T49NQ3Ufuwo5x6Mx075zZsYPrH-RpyAWyaAB6ZbD7PS0KLnbWNnj0_vIpQ', '오뚜기3분미트볼': 'gPydejFlOJE0n8A85bCXhhuOnUBI2azogEIlGUNuX2IyzYE', '징징문': 'hNjh_gvAyagBzKHwcIibXW9G5dFJDuPEPEhRBFpDjzgs0RY', '율자주세요': 'GfkhX3_sT1QcDTwbAFQ17bXW5weJ1Fa3pTs8IGPIC3O9cxs', 'T1 Venus': 'pNAt3RHvm3PehT4h8PMrt5DWbraaQpIt2OvhLbasIN8OMGs', 'HLE Karis1': 'uGxJEs0u92X2UgAiaj1RkshNn2bcDDMI8SkKDQ5IZ2k6ah4', 'adc on1y': 'T2QY809-yRpcivQKxLDq3ypsN9DW5kkXTChPknp_ng_CJW8', '2020년8월': '93nDKV3cS1x6r-3pxNT8X4pYOiQaMB6KqIntt07LEcOtENM', '6두콩': 'NSVWyDE0PWMfbYY8LsR4Vh7xbr_ITf10FATpMs4Y4oU6yQo', '와리가리 피하기': 'c2J1Gr2GZR1_uV_Pld05Ah5xFs0ePxeV5FRhS0qyj3yco_W273J1dP-ehg', 'talnyon': '0xSbXV9iBR8TwESZGry9CXBVSRGgf-K2KNiWtgEvBMiUiw', 'yu yeshou': 'RMFaaf6Rh3ELwYIQ7Q2FH1uhPuNlscqB9RZS2kgcpmJQAbU65N6he1g4Jg', 'BT Dosa ': '-etOmhMB6Wd5lxMKiTmp2ZG3JHVGS8VCS6ZArlfT4etGqMD7', '연세현': 'E9El7uHJ1WT7Z7QxgAEtWQvOw7tkhyCGvQ69sV_XeVH3x8w', '듀오강의코코팀': '6Rq5-XkgPSUErhVPI9ZxFUmZhnwqp1Rzhx2s8KeocNuYOYv4d0lbiLLbsg', '밤을 달리다1': 'tcvwX6Vka3YfjcUZCoKgyR8z2Wx8WAST52SZH8Ndwc_SuFAqaSzhds3pkA', 'KadaI': 'x3Lw8CulWQdzaO-X_5_tM3Yamcl0htNynNYihR_tOg8yG4RgJMD-khQhzw', '18세 기모진': 'oaDPDAKi7YZ89LX6raBXrWJy8fWjK9ytD34jsxM0eJ4U-d8', '브레이그': '46qq6M1Ok1r0p65YP73oIwNjjx2PamodkdYu76lc1QwIzd1Pnj77kgPl3w', '문세훈팬보이': 'gzLj2z5NU5zqvYJsnnAEldh2aUaNP-PA3NC1beGEqfxX-JXEVxWh2gP2cw', 'Uzui Tengen1': 'ORC3S6M-B3Da3X_BFK8CPGjY_tWUfAQEbObQ4RGg2jX1g5k', 'OMGzhao619275291': 'cg93HAbAP1Jj5IN7lSNb9VQxXQNs77eroskaLpOlmE1NFLkaP05qQ9pQKw', '아이러니2': '-ZjdMhsdgRFJTBwlMiHccdxrNEaI8BbGY0gCwMpeZI-m9cY', 'nyxxynxyn': 'dBv7-Pb5BjMNA3bR2m06YTkC00EEbq5hvd_IRHG0GKOJwnA', 'UCAL': 'vrv6CWSlQ1qntlTVNCexaDrGrfA0Km15mnohilW0yLE4SKY', '노갱뒷감당알아서': 'xZqg9ehbbcnU0crjnTmkvkpwdcdlVtHAzb2lGC-OcFoIyMA', ' 이성조': 'g_QBeDd_nFXzvbrjHNR5KUB4tfjGXWFNAvP69-H9xDESgMQ', 'KT VicLa': '9l7FIFyPPVMvjCQD2op3d_l8X58tZCZoAUjuEstY3z5EVH8', '골목대장 태훈이': 'cwXJViveHQeLWdeSJr_orDEvYYzE0R2mtaUWe-QoQm6uqFA', 'Naehyun': '5KlIQs2OhOV3JWSOo_FEr-96TQt59kZb5P5iIfhNBL2Zsw', 'No longer love': '3JiY10Vh4PNoCybyG7vC6IO3RnYW86C4KFTalEBNEBxzNg', '원딜은 기둥이다': 'EJfCHFMZzfYz4ONif8WLfi7DBxpC8YKEdfilRRJa3rZ8lE0', 'k범진k': 'tJwckRtECa_ZEpW_Z2hgL18_tAvRS7VqkhE9GVzBhSEAIYY', 'teamluckkK': '_MNCyxdZ2_gzivMHlE6qUJMpm1ZZXUmzI4v1KQ1B5CP5SYo', 'cuihuibin': 'zLKMpJDFsKfxHClFHWtvi9V9iudRgKG9qBLZ3VKRaOXUcvJlMmK64ma2_A', '나 너무 피곤해1': 'DxPK0CuCyslnIQbgeBBLt0pUAE--XYYSqP2XPdCtoM08JdwQJy1fD1cCkQ', 'bieshuomeibanfa': '_5pFdOhP429rjXWP2WwTCXxFhZjUnnW1-IrCGjA8xNWlVA', '쉔글벙글': '--CbRZL_Jl0hv3uxGTio4DtDXygQ_Gt0R6uYD0PwEhwchpM', '김수영': '5oUwhBQZJ8z9-FhakHWeLrHsmRDeDFVpsPWG6ddyCAQs_fv5mJlxqiueQg', 'asdfdkkksz': 'ccwMSOzKPF4hCZHBw5x-0dLToZCEW0JtuDPnCK7RbtADi2lVBYrWkNgdXg', '청년 이상호': 'VQit2daaRcXChIKXo69krS36MjFAb3jCV09G7rPWrAseQ6k', 'VG 뽀오': 'd8FgwcIu4FIAT3soJ25UG1g3YQX6FpkAOaUaReUXYSrddLQ', 'DK Kingdom': 'rIV93ImIiRtb83q6o0Q9pZOkhdoIoxd2NvtmoCyp0FfeYgs', 'lyy2': 'CT1UcgfCwvoz0BXdJeWnhTJWyQxLgOsPwhs0aXZyurekmdJnF9Oqv5Vgsw', '나솔직히무섭다': 'nOTSEaFfk4lJ5KPLEJP-nLGvoqamBbB484I2aJKMxajqwY8bdkR6Y_K6Ag', 'asdqwezxcl': 'JxQkdY3PaRJ_qGKMuiZXqwhVSZHNakztY3b-nFJH0gct6M4', '문필이': 'kLfiz0daqTakcWN4eS5QKxaHwU1gvkNmLKezL-lZdnMAeaI', 'qazxswdz': 'AS_93eSgtf_Tc5_szNKVs3MH5qMaL53aBnTM8gakgM27Q5CW6Xox8Em9Ng', '일산사이먼도미닉': 'wn4iujAJ7y-Z9BnUVRr8CpRTulvEmM3q87QF0fLibSq0-X_TzG2XgL7udw', '탑딜러': '4a2lM0GSXwC-h_KTxJNCkHsEz56FYkUuFEsQzPyEEcYj1GI', '2005 05 01': 'hak0N81fr4XJSFLYLoL6YfSQVG0Wk4Ln5nSLCtrQ7NVD9tU', 'Feistyy': 'yZ-TcxV2ATMUcVS8_yp2yogyG-fE2pe2TkL5l3W9CduShBe_9GxABboHmw', '괜찮아나쁘지않아': 'r_Hj5PTUXyJjmyPdlwesH2vX2kn6Vxf5vsA0ceKPHwy6wf0', '야옹히': 'ofOf6UwR1RFhPgnWLznyb57SRdpncRvm1qZUL-2TwmJwOuA', '1998zhg': 'RlSwXQVf0qKFkxIFm69u536cIqwGTpRd-unpycgc6-XnqVI', 'BJ 망치부인': 'OdCIrNJxBtbpz895zupGRtSWJv1yKi7p2CPLgUTXBUrWDFM', 'HOR0': 'CpigXfTfvIKGIDsi1Hqc1fc2OrzVHJpA1VkBoCYTOXCSZbE', '1000jg': 'HbxO9ioRYK12C67SpQ6BIbjqO3WEqgdDwQnnBV8IAVEq7MM', 'Eyes': 'P1vdkNpiUtZ9mL3Bg9HLjyeD1JPGHWnJy-ZzJC709SdWig', 'Hegforelly': 'eW3C6f5PETUzAHGVAyeGBnK7lxvLOK5zeyqrHvPXSmf_wop3pCRy1wqz0A', '눈 딱감고 낙하아': 'HvHxGlvnVcZinlS5Hq5Fv2I88pgwIk-zwAoCfJ7Ph4ebTdz61_Hd-0sgqA', 'djha': 'rR7btWJLj4SOeCWxFQs8Xlkb-l5LCQJr53m18oMwrBye2P1H', '주상이의모험': '2eTFu18HR4afVsZCTNctmZTIZ63VlDyIwc7f5HXCmYh7PTIC', 'LNGRather': 'HJDqYEOHsYSOouDaZBecCjjfR5YPzNEIRLz96tGt1BqdyqzHIoOt8Z18VQ', '가민준': 'NOKolWYusEdKL9GZmgUl9r-jCqxwccviJksnfSD7HLzIdcj7', 'mqmm': 'CmapNE9izqavPo6IrdYW38asTlkr42w9cqfrtbZCgjyWzGyTFBRlFwdwsw', '마레리트': 'AYD6__9xZLIce-FVbD7MnlqZ8Ote8xeyY4b7QVjK_4Oe8F4', '오이동생': 'yPs9E8XJxL1I9vDLmAz664XUmAEagDekkhmMN5lmQlQ_rGk', '크리페': 'fx_iqfEVy_Fp6TWiaK_-UcehOjH5o3luq6HTUbjRHTeX9KM', '잘해질게요': 'OBOV1VPv9KsHPSez9HXAZMMx1LImY7ggOeD8LivFyi6nY5NgMlAioT269w', '어쩔라구욤': 'm7OUz9EdleW0EqzC4vlgROPrgBU0bdcxpsodJfygghz8V_M', '비엘지 탑': '4GV3UMmfkn4Og6lZvtMuUkY1hy2SJVidcD64dU3yMMB75Yg9OclF9Ezrlw', 'HLE Loki': '5m1_i9MRgf2YCgeAqNwT0Hskq3y9c8oxRn2JYR7oXLdOOBw', '레이븐 페르소나': 'LfFLMtyrnL47o0AHMSBFsFF4ofi5dmPmhsdYsr8u7DFDV2X2', '지금바로너랑애월': 'NWoTM_83L95asyL-H_7CN5v6znex4tjUeUAQ2bq8-1GrMJk54ZlSMFFyDQ', 'sbsbsbsbsbsbsb': 'FzlDO43e26IotuQW20UpvOhKOGzsHN3NBdSMMc7tW1iv60Ygaoi-AvFJVg', 'fotune': 'W41Wtp_zpgdw-iE6fCHmud-jadH4LQ-OMbh5Qejw0C93glHXhHhq-kbGFw', 'zxlkcjqwpe': 'MIt619_MJrPfYdB0sYu4n4uZKZlGCvVgV974P-81uX7wUTavD9untx_ppA', 'intp1': 'K0LYMYZRiRZdWwKhbhd9gfQCaEKgR-oBn-ADRypJvD1wJw', '인생뭐있냠': 'FVYIHvkmBrSx8OMzxcMkMlfYAA0bvEKuCJS9bD11ysyoiVI', '6738945363': 'CzvMa6ii-rGhJQtGts_Drx9M1ZzpVxdatqnnGcWS_8mr_WA', '박지복': 'fECu-I7MqEg9Cu8XZU56KAkYDK5pguQB6okR35Euc_zAXg', '간절해야 하는 법': 'kOPlvMgL6Ya2FdqBMde83NFo1hktY6fSuApTQGKosgJjfYQ', 'Twitch Tv 쥐린내': 'Sm_E-BrVWD8ffQpZlqzRVQyqxfofrTD49GINRM0GSSJzXS4', 'Let me sup': 'J-QHEqFFS1U0hSJS7B099hxNYIq6twmdCxM79Fk77GXXRHE', 'Uarein': 'eW4H9YWJCBL5eIGj_Zk8j7qUmKUskEOUKmQcT8qOx5H91A', '그땐 그저 좋았다': 'A2ctGap2VwuiyBfYsVK2nT7zqZz7BY1h9f8vICo7qWIdl9Y', 'Hakunaa Matata': 'Rlj7toVoee5iCxyAmBiboNAIwwcvEKtZltZ5Og_bLHQO6Ab7SqZR8NH4XA', '07년생 티모장인': 'ooWCxCG3wc55D9SxLrWFTm-LR09bi4doIwePfFvCEkCvWlQ', 'ToIanD': '8GZDbuzsFMK5Ohswwq0nqNrjWdi6CthEb86Dwzw2v1teaz0', 'trimester': 'bqCryGP6L3vX_thYo-3JJtqby1JOqDGlMH90PN50lUMkcXNOHhi90pvP6A', '롤브라더스 검색': '-ffpUUxuVaKdrWQZaTs-xLb4ig1KkE0dho7gWxABcj49mAU', '펜니르': 'Tlr9LP6MA1XrSehRhHwpV9RK-QLvzdUD6Gs3dMFbgaPUFZk', 'Regret the past': '9JurvBdFDEbbgPeAGc47n5LtpklSwKBevxPc9y0-UyCpNug', '콜르키': '32V62WMdNh7mnDv4-kYjWzckcDwkz-f-D036r4gHSVpINpc', '퉤 현': 'j_15JFK6qKxgca7C0CxmPkgmtpIjeoTpPEwSAgKFk1RM-QM', '네 화났어요': 'WYB8AtXzswaj-k3Kg-1EWWs9wG9_2uQ-GBdPaV1wsIS8gSFH_QhXcvQFYg', 'yishannunuhao': 'N59rDcUuppzA3MPm1bd__gVdEX4oLqpueGdcZ3PUgPS2JkE4lrKoH7XQZw', 'ertkvngkcxv': '7jqulF8GHBl7scGM0feorNCNw5GBjBYrhJlrmnBx4GuBTNwenxf0JpkOUw', 'pilotl0l': 'cLSewGI23k_CH_yVitIKV3lvI__e8n9oV-YM9UIz3-1S4w', '팀에 벽 느낌': 'ZXM0fkdttqZ51XhtkhFkwe3NGSkgX-_EtEQ1XOBcrOYHclQ', '독기품기': '6VCAAEZO8wIRMUOZtdlbyTF5IsBtvQ0VvXhXlNJJshmMYXQ', 'Stay Home': '3OchDBoUCoiAysV9ph1AIpghPPyCpkbsGUanL8XTpbuK97k', '뉘셰핑': 'rFS_LjnKokAtqhttSMEmmQCttaPIIZyGsCsDZkvPq4mYUcWOxBt0j4rR5w', '규 보 리': 'miZYg0np-lybg6gea-DLTl9D0es7SX4dJ4SeNTbgO5f4Gho', 'frewd': '-vC--L8nICnA8Rtfag8VtvUImHrOUGWTfddaO67vfu7yC5XeS0IfxpmBog', '인생은회전목마아': '0Pj3Zsu4J1qbK507BJgXt1AGw4Zig6j6Aqt8dIVsAGZuOJgC', 'ClearLove9': 'nre9brBilGZDztw9cwu3V61nufynIOjZ8c5_8LJnyn4VPCA3fjAtMnqNSA', '유백진': 'HQ6XvpzM5UEGqe6cBkxiblxPwxGmMitPgG8uV1kz4LWV-ak', 'buhuiwanbiewan': '5CchJ6EGRfWZ5ioXmQihSli6UtezrXV1JwCutQWbDv7Kv2xt3yDToGqvDw', '전종진이다': 'uVx-HO8cjXNfMIol60DSBWjKvYqJoTLGNwHtZv0YSqbcw80', 'Capper': 'UGJILEyCS7_RnEWbR_svRSZs2jv_d-xJG0_ksrmAz37xIRcJXEg2dPAeXQ', 'wobushigegeouo': '3kIA4yIEwl3hLXLRH62rRfXiHJLHdlzhywnjH5muUA1FhgatToy8Dxuf-w', 'ggg666': 'ou1bbL1vTG627J9NNmxnoegaed8XBKTwwDBuLBXiUpFaRThvojb-FjifVg', '마쎄옐로우3미리': 'VrqJztUGM7BJEHnwaZy4b6VIe9CGtmE5e2RyDHOK-Vif9YTbZ54Z61WK1A', 'htrec': 'D_6ccBkeFzDRkikyWUzAoceb_75N4e0-w-8x_IqY9NkBaTlhoHhXP__-KQ', 'Ninja3': 'Vytl7Am1ZNHNeB98PeTCOBqwXJg7_ZWGLfXEGjl3TO9OOddaPwWq1vxg4A', '나 요': '2IKahtW5gBBpUZOYuot9xXA9nzSu37bPC-KAzY1XDv6caY4', '메론 마싯다': 'arY-uhbo_zZszqBOC47jVhDsCtuNjBubOUJjlMk3Pyxfkc9OjZrN2rqqgQ', 'Rio hanbyeol': 'Fs15kcrneeRWb9VYEIn8CiFn8Uqxr6-MkOeG63FiZAc_Mlg', '젤다 OuO': 'PBSIDh4yanxQ4A0Sy-gmRlpT59fanLQIFvpVSTF5bbqrLRI', '파 고': 'B3HabvSJY-UH21oGBNqrVvGUPhN_qKP4aA5wWhPYSYCe7lk', '푸 얌': 'Ui1ljNp5c1vu-RLcjKAlCmEAA_vUej4Q77Z15zsJNsPGnyU', 'FATE': 'cRZTPnDW86zflXnQjM3lWecK0Ml02WjZLFOgh1r2AjqWT2k', '371946285': 'P1GiPenorHMA6XjFspMZPvW1P_Bu8KBnjPMrkrNk-u8YffpSTmAHXFbp7w', 'K T': '-pMFlBG3W2YTyxmsvBbHSpmrjfYzA2rWV3EcfvYgxRxyo6A', 'NA Nellum': 'ZI2qJt0L0LIYp_T9q561aHyu7fEbceN3b7PG8GSxO_D-jzEGZVJROVhzxQ', '콩팥강도': 'wEgm2Jn42D-gkYkCeWykPNTjK_0Woiu_zma1tF4ByE7bCQ', '서 미 오': 'c0VReHBSFjd38koVAKNTh5sH4CgQGIAqwRFVw-LuAhpVRzFF-AU5fBer7g', 'daesam': 'dhqOzqjH0qKqp3IzALdqO4bR8zQl_jtcGWt80VAVjEeq3w', '검은폭우 네오': '2AF96af70oIz_LLYzmtSQlPGemqR6oiaFL8DS_HQmCi8y2esXpqBDlsX1g', '남색빛깔얇은비단': 'RZK8Hc1FiGgzfX7Um_12WZRHZkec8UXACtz30SMS6Bwft9E', 'Guaqi': 'QwLz4EGrD5xfF6mBd4fhB235SU98twL1PxLuL-BOqJQI_bk', 'Fk sup': 'usxNRrMP_QztTInaSe1stE5x8eiPHDOMeTEzRp5H59Ly8IIa', '소년가장 원딜': 'ccUw5edj8UnPD1LvdJBeXakmQPRgcSHwyDZBw1HKf7jYPcIt', '탑 가엔싸개': 'rC4-XKEa7J3k3Yi72szevLySGdg8Ne_diMO0tkc-3vfjUtM', '띄 뭉': 'djY12Rw6bYYTrDk1BRGPTj9PrS8jWmMKMIonzdMasATisQE', '언니우기': 'JmvkB_8MIgt22WFMic6Ph1F8SzH82kmqA31aJCnsFIpvEw', '듀오강의롤베스트': 'UQpPd4_pM5FlPn1ob_kg-OmTu0H2AoDgTbvSyn92LXi_jj3qKFN88OYvGA', '모티포마': 'dmgxTe-avvE5EYdjDJ3L825VrB4L4ypxtpblIyRvLILfDTxMVJtl4gEn3Q', 'woxinruhuo': 'Fme9O5Aul7uHdZ_xS3bwNe0KryjtalMHobBMfppKXVQmB7ywX2VTxevqrg', '의성 여포': 'm28X8r6IlrwhL3ZFu0QHyz0wKEbCUnVSzlcs8ozFx1s1V58', 'qwesadf': 'HCR6NS2c3gRA5BrqQLnw8wiIiHglk5o-eR7T1_Ok0WpKqUU0XI_zNotLRw', 'OnOnOnOnOnOnOnO': 'cMoRbjxXi19wu8uCTdBZxR65K7by9H4Zitd_FY6Pyo2sOSVf1M88O1CA9w', 'BernKasteI': 'YysOZKEcbsGwhIqhucDTFQhPipL0ZexJxlbNYZsY6Nc-Ex-pHV_tBPBR4Q', 'KDF BuLLDoG': 'Z_TMtpkwxXpDeZhnAKETpENK-RrqaOKqv82rxYd94iSZXy0', '기라티나1': 'sFcm94qnvMag_JzrWk11O_qMC2_LqOMVbitPiLA6n5DDGU6p', 'askjdfkajoseke': 'HvgLNtG--JZxA4byi8_KQuwTLZmVUiuwBhY9c0ZYWiRuI65jZRZuZZS6Bg', 'Ke xi mei ru guo': 's5zi9p1WF1-HX-lSeRd5-C80WF6fXkRnY3ODfXWFDavT3CS2f6IFIJ5gRA', '고속연사포바드': 'EnZCRdIR5xCHn-LP9Y36qt3kYtkHlgOF-WT_fi4mzNypHkw', '꿀잼사과잼': 'LkkkNaEiPw2U5-5tzuyTzRzjysPzYnpDuNj5z0ScxQqggz8', '0429 0506': 'aQAchGtcs4GEWUu9dZXmi_q872iK6j1gpnry4EZvTneMzfQaVmrmTvtNcg', '쇼메보다카타잘함': 'mS2OjkH871f0FCcjfISfA1yV5jwCNzapf_HzJV_Ty6Lia2FMOJSX-Lu45Q', 'Game Changer': 'FbFVi3ZiJtOXCr5ZUY9bEFznLlzZQvvByiMUlDryiw6knug', 'Hanasanaide': 'DGc7N1W-deDz_gJESpCDRmbeZGrjkcZX57jOcoF0WMcyA7tkw1ubhFovFw', 'HLE Cracker': 'jRl0gMmKNGrWRDBuPRtHDAN9xSi9AzaevunUPpD9qvZD4AE', 'YouTube 짝강': 'yEkCRbCb4iw5mnRnXEjxf-5xahfEE9Q18446V3d_TpHtBl0', '포퉁이': 'zxktu4WYFDKRgFHhQo6ml4G09VEdzbWaaKy8tarrUYFRrVM', 'T1 Smash1': '1kmLC-oLp6TmoVeRQ129YvRlTQq9_HRJjBPXD-ak-bXTdTxc', '마오킹': 'EF5E-D0de-Fb4xMp9nIPT4zaNEahG98z2YK1WSIL82C7og', '물방울석입': 'cPTIZJv_54ILTCSw1KS6j0F9OuhIfUjIuBIrChnFg7gcAw8', 'Adiogs': 'epzS2Iz0TAFWvkk4Xyo_E8Vh7UbbNCsCz-o1IkLex9hC4Kccymsu5qWDXQ', 'Kiyono Rin': 'xblfH0ZUPqK1o2eAlnbLb8GrOnP3V8PKAdzwY6_brHdP99NXt0h9gE8I9w', 'Fat Tiger': 'g7CnMfJuaDz-tpIaUrh22PTOgKb7AfwTWK9dvaraTTIAtZ8ijZq8pjn_LA', '재밌는 챔 함': 'pY8VETrKPCrdBc_xClL4aInRvImiU_RhIthWv8OPJyXvhWR6', 'DK Pullbae': 'npN8S5ZI60TTb2T_nejvY0Hpa35WvG93ZPVcSmYsAfQzgFfv', 'zoe xin': '8uVGI_7RvMnw6qac3p2_vJXM8oB_t2iAVP5AeeK7ivJ7zRxzgN8fKVDJKA', 'DRX Deft 팬': '7WfnZpI5RZPYkP_nZmLgizC_MhT88GVXQFPGnDm7FhbP4A', 'Songxingyao': 'ZtdEJzUsKzRyKU9g5nAXwpG7rIwVLdKmTuS1Ncu_UfGqUwLXJf3R1ptmjQ', '소매치기 준형': 'ncz4ikUDnSG7yioQ40_Oub3paO7be7xoQVRNUtbArAV0sy8', 'waiga': 'V2QEJB56fOF4ilE_QTmyBSmgdQ1MydhxOIOBqurTs395AX_onWNE2pnPeQ', '광연4': 'TdKGUUGG02L7z2QyRiQYCbyv0QYhrQ--B6jvDNCrhBEE2Oo', '나제비': 'xS3CJ3gm4UtCryWBbi8MTS5etXI3G7CEb6TeWOn67SKgjnVdF7hAOM2sNg', '잠 컨': 'FU92qTZ3wkU4roFwBmIG-lu2w5sarl29aWLRZb3BJCi5XzNN', '엉아가조타': 'Pp5-SpTliDROCqfjFmUCDfiFVdbRLJwknx8-y6pfKWS7x8o', 'fangqing': '6N9Org9M4A2UMClK7UZzeQa2pZdi0m5K-lrxKkfczw5orxu0yxJ0OlX0_Q', 'DRX 홍창현': 'PqhrB923iTVhZ3XvbbJr9VOzTgm2Fc49_KFD3xQ6cD7UTtI', '우리정글탑갱X': 'j8mAVNCKOtjycDG9896nYuxUYTcuAlkOjs03_tSRVc4vYABI0Gl-q0Ckbg', '카타형': 'PdQucKonvO4UcYHG3VIyiOzOrBx0w7Nir8GfQ6QA6TZLzvs', 'Luckyy game': 'j5UX6eW3x2Nlb8ek-ro36P2vSuWE7ZAg07QfA4dFV1gFZJXJw3uOye5jRw', '부산대부교공결혼': 'GA6eyCpZfFY2IQ2hYtSZuz8OTt5-wP_OFQfOXAkoBMRsHuY', 'sanrenchenghu': 'CSQGjFWzxtU08ZwUTUhqkIFwDNjCgs-8ahW9m3TWtfgE5nZRI2lXC7sWhQ', '민수99': 'l9Bafsh6MrZ65YKXMZGGEjuy39Gf1w5RedZW9U3L5zdIUsAIZTvX2yiEcQ', 'LSB DDahyuk': '2DkimTcCjlKmQceIsbjl6ba-ZQ6wkkdO_jeHhF91J17G_nA', 'aahoy': 'z5Z1VMSb5n3ls4u8A6XSp2DhZx3HMUagRVFwGXcX5SL9Edw', '박흥호': 'AzTycuQamVzJMRXt_2V9WWzQxOwZAcqXFKXh9QRHwJzaJJgyS7eKQB6EsQ', 'LaPerm': 'ihzX-JgSmBWOMZhVl9PHbaMADf0WsRzUwdMqbPHvREkxEYA', 'Heyst': 'PM6cfCMtagApeUy3Li2LL2u3akjNrwV-KYsey47GZiiy3y8', '유령송 1시간반복': '2TorHWK97HuEG1slIcYrVbsbwj_SkBLAqhpbYnQKyHX_SXg', '자신감이 곧 실력': 'mEEMW4to02vJpxVQxlp2_4vbxEn_9Z23YVGfM-Mo6Pv-zPUn2xGr2PVZyg', 'H Agent': 'ptAh03M4t_NPNqxqytq1n4_O9s6yECMsBDBY3fOx_DqXaDE', '힘들어귀찮아그만': 'kik3bJkcsVePrMHZm3OPNSOqeHRlVkDRMwINtS2mkM6DBAE', '엠포지': 'XTaaPUQXF30nym9PFbmw3ZgblqGQgvqTFHn6RmF8CxHlKw0', 'ride on': 'MaS3518TVNKO5_0hXUueel6hZr3Deb_z2EeNYCMl9NX0kW_Ug8EHQ8Jwwg', 'shunshunshunshun': 'TjhHxn4tpIvU8zlaxveUTF-9ujpTikDPnYT0ytvbYCJIj2h29T-OTDsaYg', '하인즈': '9UTrZOjQvDDitvvw5dNLphn0ztiC4CZpUEmlGfp58mvjh2k', 'R NERO': 'MJkWn2P3SlFXCKVDSoj3aG3lSX_bGhx1xOJ1I40xefAP7Yj7dBjL0Bqi4w', 'elole': 'TwnwB8pplIJ_UBFosBGkTYXQvl7xxIxYmSHh3tFh34K7wQ', '생각좀생각좀생각': 'Zc8_f1o8dtpzECJOXNhDP7N96GSUbu9VZZR9_73qLUEptU9Z', 'HLE Cheoni': 'hsLPor99LNY0pnx8WeKsSVZewsJVLXVFz-soy3pFcq1J-gI', 'sta1t 0ver': 'lPQEmTo7bCJrnXlfHjLTVWsSvisSFFw7y2LjbX3EnNphhqo53h58BreRPg', '간다라쿤다': '3ZzSPdxaKd-G_XN_HNeh4itqDpb_kaUd0QKMO2Fdrbll60I', '나의 문제1': 'SlAYFe7ctjKLhRSMhBYzn0zQc1RKUJN8yq7NpIk48vKNsVk', 'Juhana': 'pSoMmukTNdNUBbdS10UYNwM52BToVorOOjJ7AXgADCjlAMw', 'beisishu': '_bi8ni6Ftv_Z4ryIiYnyZdNVnxHnrr0W2ecoJmrAnf6-S9EY8NzM4RuAcw', 'Fayer': '3Z4jbjGQHMTEcZr6scdeeOikXWhD6m5v_Ffv-TEj61VAnuk', '석효신의 방패': 'TmWNT5D6iVnoIrdxui-bNhnc2NvFf2FgZHaQQCQMGe2pKPk', '늪에 빠지다1': 'td0ueqnqXMOaaOVq8N2TA-YzmVjDcCqnfjS3OCKIcUzYRoI', '지응성': '-w6neG1j0JhsESIz2ANqv_zX6C-fFM0OrIH-4LhEc8ZPD8wLCOh8fjlpoQ', '박 구 원': 'ocgkc__p2ePZHrW7p4-9MXOqsuMxQ0yZPYRkLYglMEdL4kg', 'PSG Tank': '7truigfnme8Ft078GOXJkcEuVoRsk-4kRpTNKjPM8-KSYAE', '치 동': 'ECUPeSgHHwEvZCtqtuOxlPypsJV-JE-LGBrSWrx64CUMhw', 'BlueRiver': 'pBJrt59TGYcK__cfWXuQCD8uzX7Yevv7a83-bStrJuwTNUZnHAmZeQUjew', '뭘 보냐 디질래': 'PLAaynX0Rj-GoHygqspHxKfg82DSMx9DHTsf8jJWDtFuw0U', '한바키': 'LYNzlme9myUM6CWpewA9JtGlgPehQqPZC_em7MYDKBmI8gw', 'manmanO': 'ZZ6W4tAd5gDdII08n9jSYRkMjy4-pazF-EKkcIQg3mZisy7SIZHW7Zuw5A', 'T1 Dal': 'E5eEfjLXhuQsz8hHu52OaY6GFSI9A7eLDbZVMRAENnXpHL4', '조울증게임': 'kpidytL-njV9-5jUlmhWdDA6mKl6wnRJgQf-px_DaNS1ZpQ6Nl2KK8gnwg', '율천고 김솔빈': 'y_pSmG1LRyXhNuRRhp_uutdB21iXEbtL6dae0Pbu81FVlhhTbVfMXN1ZaQ', 'cxybaby': '4u2Rl0HzTnaLDySBSTnq6MimtVDgqX3Z7iOvrgWWFS2Wv6U', 'BT Sake': 'O-vtzFyKvfIoi7N8Z9Viv6PuSnW0-xlnfAC5q-X5emrz6I0', 'beleubantoseu': '9bUyaKXMU8qWBOdPM9QFxPUlWEn6Q4bifqpXtoGVL_gbMmCE', '17 world no1 mid': '1DLK0Cjbq5nvUqQiHzhXx4vnboFQ_2ODOE1tuQ5z8MqXo-P21Wj81z6EXQ', '양희지': 'YKohrat_PvjgBdR3D7W0qA_DvKOc9Q7YqGdtDe_Hk9WM_TI', 'Doyeonie': '92xsqX61ruX2MgodIyQAzql6c8q9czwZ5-EQAtukeyzP2yrn', '들을수없는사람': '0qBKg3NMaq5syeGG7ZRhw9dlJiTDmtMfiNhJyRKw53zjAqiOX71iGPTSAA', '메로나마싯다': 'QF9FPZ6ITSSkk79QdLdHF-4Xzpo3k9JQFirxaAO8i2XLFmpsgt18SatSFw', '부흥고 서폿': 'pQ7pDjXwmbIej6nNNtCxFzHyTV_8fVFcHicnKUKMG31I1PKO', 'E dal': 'dLaTTTZ-AvtFo5moxLfjpyxYK6xaQoLWYUT_8JQGffq0OEU', '생명이끊어진사람': 'l02rGLvD5KeeHGwHdjwBgI4pBN-mn5dmJxtvVr6eEJSsRP4', '강의듀오코코팀': '0oNyQ5nraghHdEfnRvWOmHASKlzPhsfosHIFz5xYu0Z3cmLQO6iMkxkCqQ', 'Sleepwalker': 'xoob0n-PL5BoeGHzRRxlt34X5VTxJS6gHFcQ7C7bpm8mdQ', 'Seven': 'XcQMfbGs0uLquvWaT0Rb2ao8BG3q4hR5IrDaf_aeAw37Xzw', '1달안에챌린저': 'F2PHkNbxM1jxV7WzNzU-eHhuVspoXJ-qdi_yb6zBsgNU8rq5sGa3G_DTiQ', 'dalongmeil': 'p3ZlVBTf5nTZoSzIZzuabZX9nr0m5sOYowsz-_IT-71eZ6bpdcUQkmK1bg', 'SKY Aomine': 'JVTHB8H_N5PllKjJKBqQVY57YCd-aNEZu3OIBzjg2IR4e8Eq2uspe35ENA', '틀니의호흡 제1딱': 'kdhI2kKYwlHSDc7BcKt26M6dcrVmzSTFvI3fS0RyVof1o9A', '농바 심이탈': 'QGmG11RX46E9bR_hNmxKXknAGHSKG8xz6evVsGuJ4Tfcag1OpqX_yuYbDw', '장수열': 'A9cWFYDn0gyYa4ZMY_fuZEYwzJu1MHwrt4oHcj3WuESDhDk', 'nsdndn1': 'JlpChb2M3wstLgMpBsK0EU41LC5vqnzUuJY0bDO9FyJmRV8', 'jingjingDebaba': 'Erl09psbCh6XGifwTIYKHoyMiXzBXvwRdQo-wf9ykjF-HIzfi_JK4nBM3g', 'Z7xZ7': 'nLyQ7zCl7trRNEMRZndRbfYwISJEnHUzihjzV2QzgFnl1w', '원딜아로밍감버텨': 'OvAopJjkKhhjEHUmgAeJ0Ljj6Dwb3M9OCQMEZZvla1_xoqc', 'Yorick': 'AwmGDxd9rgfd9AwDs-nLRfBYJfyVPLB2ja9q9VT7IIL8UDc', 'T1 포톤': '6tnJdl_7xKU7efsLRJpnTpDDhTsThHrB1VSydfZUL8j4EC9CR0JFyb9E0g', '프로연락친추주셍': 'mc7-uq2iTdSEHo94MC-apj9r3ey6uNyg1twJDD-heM7NFDg', 'zwhy1': 'MKwCe5KMmy8pNbKw47rGbBkg_YgHpEtubJ6k7OYL-ZLxhgV_4MvI-ynbDw', '꽃이 흩날리던 봄': 'EIRe1QJ1M8In9U0DD2KJBjbYiDdvV-3XW5jvt2BET-2SdA', '실패실패또실패': 'f3g75hwuJy-1SPkiy3w9lGMcu2ypmN8zELUbD4B84qF62pE', '봇버리면그만이야': 'ZIjCRhDRjkQA-i2yIxaKUBWxgm23LyWmzNMrxTMjPPF86u4', '호프1': 'IFoU9-wN1w8Jm9Qx9i5OfD4Ai48ysx9rA1ZRfIwVHJ5PAozTJ49gPKxxmw', 'The B0xer J': 'PUNewBT-Ys0vmMWhXpuwrzsZ3bybs88Yzh8JbWy0ZJRlQ4XGMWWmYHatGw', '나영 누나 fan': 'lWP9j-gJLE7MI3-9Q-bR1cPqu5zMoMNr4aMHPuv2blco2pI', 'Qusiba daye': 'rGZwZyGBKoGZXOm_xCc2SbTfMYIRbZdrg9Z59zxi7muoVec', '재선이': 'B_JshtF4R9kXtKwSfaF0VFZQ5O3dXkUsHZ3hs4Y_qEnbaOo', '버리기 장인': 'MMPlLaWyGVEajY5n6CL7iE7Cn7xM11rMvj8HaoO-GyvCJrc', 'FA Decky': 'bRUNNqG2Asjr8zVOmdaEFX8WrO9bPRzdW5Y8gI35MK7CWdk', '가오 띵띵': 'j7M6uMYeBB2G9YroCtmri0haHH0GNEMabbLbeGJia_C7jvU', 'yoyzxzx': '3Xt4xHVL4hOk_bgsuEvjh1abEpeYF8up2gBz3u-oklyK2i4', '다없수질': 'ZuJC8xN8FYPCnME_MGGAHCoBWAay0V7Br1YXxpuLrWtSFh8', '명당정고난': 'BtlivOCA-PIziBWp9Fxl_uF5qQ--Xm7g_GtV-LBzGzgoxGgXZHyWibO4NQ', '구I두라미': '-FNA3K5OQNIbc6HyUW0TbWEz2UgPdDTX1p34i54jU-M9WZ0', 'cold skin': '08YACfjlmb47cY6wBZ-jig9ZE1EyWQ7gA2yB08JnQGlvKBw', 'anarchyyy': '3HtfbxDxMcw4Gn5uTBcGoSYtblg1zD-CLdriWr1nsJTAk04', '강타자다': '-ak1F_vci_p3RxrBuGIuNUjcNJ9V6V0uhjAqV7B90juF_R8', '떡상할게': 'RIWi2o1SX4qiRG6J3YWLXnbJrGtiMuZTcwPQxxGHWQq_0t8', 'Gon123': 'Wgb4JutfNwP1UWIjDh9yEYcmcreCDpnhdt6M7ur-QJTxBpQ', '멘탈씹부처': 'nn6iIJvEFsh8ysuK3LLrTpU5rZccywuGR4A2wlqev5T9yjM', 'NekoL': 'uURWPk3iT8ttdM0sc0DTI6uM0zHepx5VX-oapGGe7HfZLw', 'kukukukuku': 'Av5YuJQrYzy4c1M44A8WJxpWkOUckIrvq_4Yw8DqvfijfV4', 'ta ru xu kong': 'HKzJyekt24X-gGDYn3fTbbfBcM6KOgb88kfGKS3dMMK_kmrOtXp7FawwoQ', '저MMR고실력자': 'e-RGxLw10GJjnune-64-pi4SKTzgUxx54ulvW4f8q_NuUx2KqCpd193PUA', '율천고 강동희': 'qTx1r9wMweSh8OBkQ5Xsje63O6JrYltof7cPO9sSh12edzSdd9g1w9f69g', '그대의 용': 'Z17LpVCtdO6EjBiaifb3e3LajwyoA4QlAZldBlS02c1M8E0', 'nodfan': 'ggg4bx_8Sm-7LOir_GJ2ZUUtHeue1HhyQ-zBwBrTtMEilqvMbjzBO8wOUw', 'LSB Winter': 'vo1WpelZdP2n34Vo7X3DvRLQbhzsCUKz5XAOISa3odngFtg', 'Clever9': 'caZPFRXO90h4lQ9aB1A4WatIQYuQQGW_muFeVkfFiGhLlj4', 'ajfafjasdkas1': 'EOSLdhAnz5iETgAG0f86_46lKQkczMgEBv3pnE0NvCTi5WPdpqWr3arIUA', 'Lehends': 'Nm_y_a05W3qfymfBdFrgZF-sBAW_lBX9VDa3qLfgQ0IqWz0', 'fwqeaji': 'Garhl0T8oPirhpMCv83OsqKUUnKXW1AQPbn9j0hubXPFbVg', 'LCK Progamer': 'IT_ZN6jx0G2Y5pQHkyT0munwuenEuh1z_BUNdf94Zpx6mzaqBXHzG7c4BQ', '아우넬리온 솔': 'F4_KXTtkF8Ls-agfoHc8WTIhB0TwOT9QeTFwcgh1l_7PJ-c', '2549896543': 'x4l2yvjFGJcNVr-ixVhkgz6OaRwGSja6yzkd3BLmcm3g-5Q', '에 넥': 'IY5TWVcGhFTooCmyaptfAcNSzZ_YaWAITd4QTQlwcYdauz0', 'Jg Gaper': 'M-z2oOz4Rje5tn509Bc6MgPhbGOlVmUJXVn-GrnOfnwUAEiZFk2g7xBeNQ', '세 긴': 'XjVTDqSB_johNJSRphiWKt-5EymeqjGA3Xsx5g5toBESKoI', 'qwerty789': '7znQ4HQ04tKAgW9bqYBdct4mmoWWSaQ7kU502Y7n3SJMFIPs4U1Ws5b96w', '아프리카TV소신': 'yZK2IAUKtZVAdwO_HU42bK2VqIndTJvvAIyyUEchTXCGT4QJ', '스물다섯번쩨밤': 'j6roMWviyTUgzSO2fUQ1RtCZKF7p2FwgLrPtJcz5SBY4sgA', '진지빡겜함1': 'ouvYFDOaxhgP2Dbz5YJhfaUEL4dfoqUJUKKL2MnbH5hZnSkDe9UCZUyiWA', 'FIORAKlNG': 'NJ_ZutZX-KINM1qotxgBz2h0re9Hyole70SSwH5mmTZ5WA', 'IgNar': 'mRzbZ58qQb1tqwBpIbZSe5-eUnD3yZKMqVqxqO6GK7fvyxk', '치즈너구리뽀실': 'JmhYBve6F0Ba7J6sYgkowQlSz-rgAqz7R9Cd3y5qn8jJy0k', '쫌비킹': 'KluGOSnhxHuRpc2MN0k8VApsfZWU_5k89a8M9oTww1fX_dc', 'chebaby': 'aiPM2pOhRj1a5ZeUSLeZQa9BSBZ9SNy_6paOi3Ux1UauLOeqf6zfh35CJA', 'Iove poppy': 'GHOgw93Mwq3l6uF9lYg9YmHXTw882KwGRZ_6O_sNjx5PVoEkXSPX3SllZQ', '스물다섯번째밤': 'aQcRmBUUXmLqY0KuGNCvwnZu81IlyHuAOkh5isKm_LM9NKs', 'lavazz': '1QjuO3eJsFs5tXl3zYOaB7-F38EWgCSPzDBxeYdu0UuOk7U', 'Like 1999': 'jnIyQYymqOBm1JPN3h_h1BZu8jBEqHOuG4P7zt4cQO6y0gSJ6poV1MrFeg', '현주입니다': 'BKfIVf5-rh4zCSPCtoYSofXZr71xUBJ478dghZjT9CAAChQ', '동냥아치': 'QZf0bqi7uhMGxfhQW17OyWnMkJtTbReHLXOS2GfOFNCKCBA', '종글인': 'n8EX6-03gM-Pjngp3PR_ZZ4SDRmhfZpLlhV_vjmMZDUECSw', 'Gen G Quad': 'EISIh_DJY1HsLuw36ic8VzkzKw5nLjFGjon2tAzTOXRoe1A', '2001 03 15': 'V1pR2VUvO_ITgvUXkpTs766Rhg_hrpJrRkdyv57OTZhHiow', '석효신의 검': '16zPQA_M_KPRTeD7nHIEMer2dp_toHD-gYkdrg8WxqMjJG4', 'LAY2022': 't-0RS25UTXy8Tv7GCNTlFgqGCG3mmMlRz6pkU1rOsZiosB2n11xAV-4ETQ', 'XuanFengzz': 'U68HM6qpKZhRSz2UYMvV5z6zbxIyrqk5UwtRL-icv-GLu4E', '한없이 소중했어': 'HePBSFDfe9IvJkKwHBK1xiXueUR-ukJpkrip7thX0MtCDOU', '농심 바이탈': 'B7q2Tbv7DmvZS9_6FWlcXlLpo-HRnTUUYBVs0GGfM4ULee5TyDTsc3Ux0g', '지으자닉네임': 'emdKpkUKw37zKC3Obh6EnJJcmplLWbbeeO9NtVJJBRsgoDo', 'kgcjhADHSADN': 'UkEFxeS7J1mvbQ8dHyhi5zf-EQrYenD-tfQ5NoMV9lagU3Gnr229ZapleQ', '블러푸': 'oROjdGdhwq0mGzs9bbgNNrGknVDlGxFleW0BjZNMX9rb4nE', 'LSB Carrot': 'uxkoxIZen9VYoxvCN6-VDve-MMZPGxYJ9Vmb9R1HP-LggsxrJBhfjryODw', 'aeinnej': 'n6M3smp53kmZPkpa_K7rs84x-C6FOeMJtyPA7BLVELSpZKcPTrL1O7VUMQ', '박찬진찬박': 'KS5LbMbGM5t_sEuTpIoAAN8EX7z8ppDrlhQRsYSW6pNRgbo', '메이비1004': 'DcXrkPWvC0Gimx9h211pcJH38OBpe22vQY6946DGtWIndno', '민이나르': 'Dgc_dFr5rAp1-Y0Kjy2bFN0wavGT47A0aCMRUqpaTb0nnC8', '꽃바다인질': 'dAheX7Oe6UIQMYhzluuRFbEIDVgCd6YPLC3Lb0Gmrfr08enUNRE2ilz26A', '가오띵띵만남박음': 'aZvwV7-qcvk3_zI20U8qLbZiqTglg6ZOeLTVdGPLDN28sBxqfT9D5sg5qA', 'yue xiang yue qi': 'H_2l0xUnVAABq41-SJPzT-tJOs1a2Q8s_hYfAwB0_QrwAarsXt50kEfBbw', 'Mocha': 'PKxeJSFUgi6G40sHXaK1M6m9vLECImHHWxMn-JboxWVYRgA', '천하제패일기당천': 'HpU3xnuCy9jETn-479yrPaWpFGRtwtSTzWD-GaFeXaIONV4RBpdX5qr3oQ', 'snmyj': 'xBAckPt5FtJcrmyTuoIy6r4wStxHTebxBErFwGvuhS-rFjCO2mTnlkUKTw', '웃는걸까먹은남자': 'yt_txmFq3HCUETdY5ajfV3FZLqWzACIVP4U4NxXDlvOv8n4v', '백상휘': 'eFluPfwowO5gTkTLYxA4Rj69MzK2DI3W_wMFz1m0ja_E-Es', 'ra66it': 'jT99-s2Ou-T44f3IRf4SjLS6nxo_JbaxoXKolg6vNIAG6yX82uoA6qAeuQ', 'yydyh': 'yTIkKsykNNWKY_2RTejvLmKld6zRzX_7LYNseM6RXmmYjhMjdu_Hbgxabw', '처형자': 'NOUlESLP8vdpftsfCUNlKoE5FfyMIErH4FxLCsj6PC6FTcR1cAEdfIeA4w', 'wobunenglijie': 'z5sbpUppjmE32nMsYouLvIWvjGZX9vuSbqlQuW7-lLaI5g', '이상의 날개': '7APA-5I3AqxVO3i74CAVZsk-eh4D7fo9c9NNxCoDf7qcmr0', 'haoye': 'gpEPgHYfI1Oj2twM2lpqha5mhohAk_zw6Ytn_lxqfsU3DK4n', 'yesdong': 'lMPwJgseaB56WlKMFOQ3h6m5T-gPH8_4xhIMg5PNm99ffdekvvl582IJVA', 'V5 R1ch': 'bDI7aj7mIrQwyDjxo_fnMBcOpCaLVBsuQWrSxkd_xzHi3XbTTr4ZCjd1NA', '멍우몽우': 'Z7mzFel4uAWddnGGoQa4ftRzvARqpS59tSNAO5dZP2G9Qw', '원딜 왕자 이채환': 'mHUuPGhhRheZiK-ErzDrtoe2_YfbetdTyFZuvsBZwdJ5khk', '구글에롤브라더스': 'vJDWNEUOLKet78iRITJs2WUHCQ7p8CyBH_RpvZSXsC5GWUM', 'ben di ren': 'Dqc_u-0SwnP0QbPzzRL-IDWqAume10anzOB7Kj54PLSjjIDQMWzgwoEwTA', 'BJ이미냉이': 'y_Uzs2hLAeD67dbsKuWhOPJ6JYClsGlZr75pjOb6Q9EYGE4', '사 용 수': 'TNy724wV3-76qcZGitvWyjjR8c2dCEXzEOw2_UBZOPGIXAg', 'zxcvyn': 'yh981NokNbgZuCSR0WBDceuTBvlfC5fsZX-Qn0wwNloejIX_6XM_ljSF7A', 'AFTV 문성규': 'iSVJzfP_Ru1wQ9mWiWrAb_lnf4Ol4cEeXkSJi431V81_nPY', '교생관양': 'NqX92cHbqdFCrxe7GR93d6FFp4J3gIJVihQH0KlfBZtKTHg', '아아스크림': 'S0rjhI9WNwVadIU_oVNujmgWB6wiVh9g-mHH1qH5CriJBeI', '심장을모아바쳐도': 'lwupFeQTjhIlSAf0qlv7UQm-5z1R1fKLg0P-rhZORFAnRcmNZKNsnt_KLg', '03o614': 'XPP4zDB0C8BMa7ZHEcu3W1ivuXYivri3oSJculyomhe8RII', '칭찬좀해주세용': 'tUeli_xTW40zhjAKHoovH1Rv-6hyiemPZndRCCBRF17zfZvak-dHk6YmsQ', '포항 양덕 허우혁': 'ZTmlEpUgzhUpjM0SWAshMrsc-0TZxn-ZEy4RVoalWLTFswI', 'jiaojiao3': 'qYW2FofFHNHK0dLke5eUFPuX53mTidDuhJ0p1nDCe2YVbYQ', 'LVLVLVLVLVLV': 'dhiPzghSyFUqlyjZBbXjltppk2UCc1QkkXspoibKx_YvPhL2vc51eCMJLg', 'cvMex': '6HNzcxzT0shztvheJMJzOoJOQVT6YLuPOg7NbuY3XIc6No0', 'Neth3rworld': '6xVQwyYN0hiwOm68mnmLSdyIIxPJSRCOZhurbNi_RID3ABs', '더이상만나': 'HKvfc8OJeDWDCxr-nzey0ulp9ADwEFe6dzjaJyW4utIvqso', '구글 검색 코코팀': 'NuRHl5N7B1dn7QMK2tk8YQ6QMARo06_Y3ok45srMg0SlfeT9OnECMDFtOg', 'Rio Carpe': '78hJS96NL3Ib-1zpW4RgJu_ZsdwVlkVh3-u54s9KGBqOxq_rkdO9KcT5iQ', '이품진': '9za25GE5C80O5juL7V_c_NTSYLGKBdcN1mg3FB4Jt_oDxeOy4LuicTSt0w', 'LSB Courage': 'e1PMlTnwHoyLAWJan9LU8RvuESJ7hM7Bdxg-ci-TChf36mFx', 'hwaljjak': 'SNtx6hAl0vEVjjmRZ7kDDxTzpX3BC-KSKaf-a5rZMNtaIG8', '리그오브레전드ll': '-ZVV6X7EqYWlZJHLRFylovuV2R12NhDvOonAS9Q2JeqWCQ', '1345649': '2eUTXsveOz8uPM8E2euyWnxCh7Z83Bm6wZ2W9SIHPQLTt54-1VL_9Qneaw', 'MedunLo': 'LmkTWy2jAqEM5sphTbCh_gRmnjbzX5kZ1GRDyvE1ua7_3Jk', '바 드 본 좌': '2mRXF3vnH27l_WHLBvOGD957Q3R0bkv0BbMXJJf4gOjRNQ', 'FisH95': 'O3osMCTvrb4KykHLQLQcvoCyuqFEYFwc6Cj-q86_sYfelw', '폴 루': 'cL3oWhf6lbeMUNKFaqcz5BFhujdyqv5eQUo8blT93hxwGkZ3-zwCZy8AVw', 'gdfrwfc': '0eVHr76Hkpu9yraen-eTQBmn-kOmC6LTlfFwUGZitjly5f5yGS5vKLORDg', '고길동의마스터이': 'Icez6nRCjT4hhuzykcRH5gTmPoP0D94wuwfIOW80UHa0aQ', 'SounDA': 'BjPswznbrHsJ1wQ4I-9bI5ESNnt9GYIEFdMzubYmFtzwN0o', '3trawbe44y ': 'nkUHZfo28oWAB5y5Jyoq7B1kUaFD0tNy22H_ALQXhxeU5Co', '오리지널찰떡쿠키': 'Sn-HapDmCHYSLCyd8Bq61eqNmieWRkWho_jHgsPs53E2GMk', 'lIlIIllIlIIllIlI': 'o3F3aTriA7-rEkb0tX65MklEmUW5J0B8VAPRZcfu_zczzMk', '블루리쉬잘해요': 'RgyNVsWNym2x-VXwVhH4_Lq5gF6ZUpy0Krsgdsyi4Z45f54', 'we1shengjian': 'JFWuaC1QFIGIB2ODlwqFmX4798RvvzARlHABTBwm_kT1sN0', '처피뱅 카와이': '51g7RsrhqRktd-5wHrBqjjuJmPefuWJglYCzaud8M6iYHq4', '벼향기': '6kKOxLDKs3KwwB1cX4-6C6TI8AhpJSkYRlWdrlQ3QLkylZ_wolfDnfxBWA', 'Deti': '9sfCETfqemzGRwHbJl8zXgGQzeV89MgzyI4zJq8sg_rpt-I', 'AF Rose': '5Bzck7TZWu9UZqNfhyLvOg98cu8jSA3Le-JGk4sky8SI5etOVmbUKU4luQ', '천 꽃': '21y9vc0IP1FhBI1eJJT4U1S4Ei_z1ecIMkXOcnVOROeDHjw', 'iop04': 'IReQQKhG9DxzzZZZdLhCghbmwGO8ZHLZnqA2t7qE9EOq8srqv5dipI-0yw', '호우시우보': 'GWhPzK5pPSim1YBQmSQuvFFpUWm9ktOz3aaAKLo6BXuw6vs', 'Anger king': '5FKUmhrqLO8jldMEX_KMvVi5tOfmNbAHjuixoeLVETVj21BkRKCCMwx0Rw', 'Ruaaaaaaa': 'bM9m7jT5spmKJnAn7R0gNcBB4B18KA_Zp-1ut1D48_4uRg85', '찬구형1': 'y7533h_kybv1rwBQhTzFLYQqKyuGpL3AyHnvyu09VspwTjPNLZIw_39JXw', '도구들은다개짐승': 'VmXtWOqeal3wgEjBGYCRsiAIY90SUe9OnIFA75yPq09Jxm2W', '댕실댕실이': '84qt2F_7Aiu0IXR8kLkaMCC5sQWAD2rICCAD9KmnISUbrd0', '넌 별로': 'eva3Su0HRJZAmO3mKR8-H1E9BSoBr3leW9XpOtVbMoXtMmTtnz5U7VlOIQ', 'qweasdzxczxcasd': '6utggOqENYyLD2l7aPbg61n_844msC34JL2CfRZY07IIdPg', 'IM JBD': '07p7_htINrZLqabgoI3jr7rxH631e2LCgo0Y_k-VWegrZ-Y', '온 재': 'mkr-iUSU3tLBHRSJnvaQqXQ9M5aJTqH0Mb9zVkM4YQypr16K6ZOH7Rn7aA', '이건 맛없네': 'BdEvEuGyrR_hqsv9SELbnGSEFv6uWTT3X0ZlsPC9CuHvE6U', 'DOK SA': 'yVMzVQAnS-qdMyeuhZUtQ_OqzAjHg8Aggi5MBTV6dRaLXw', '끝날때까지잘할게': 'sIbtRUPFsdJG6Wd2P72RQzAuJu590H4wZ9Tl8DR0EZxmKMPJeSp89E137w', 'Lumen AD': 'nIGcNivHz-hrO1B6uRrv3BTrKzXiSis5xWIBkd6lMpQ93d8', '진짜개못하는미드': 'RgiGzUU2R_etqMWMlXNkruWzw2zoIJChB-y5DnRqieHTTi4', '0432984732984791': 'nXbWZqc8u9HGwvse4khxyoyISOwIyaKa9shXDcHjqu3U6p0XEje7-AyrbA', '노력 집념 열정': 'Vkt3BFSpaT-Ej5wCmLBP1Jp6uzfcUC1Tl5yCtD4Z_RFdavg', 'T1 A Panda': 'hOgaqeQis-gRtE9Eoc7MOvG4VFsXDQGPDX-3Sp5wV2tmz4c', 'Nalalala': 'kWamnmg_yZEd-VcLqvEFKDEWLZeCBaK_8gNY9eVm2FZQDlI', '젤라또 푸딩': '6bejqvVoFmthM_imZpMbj5zPbJrsU0D5qAMafbUlwAEEE5A', '삼귀다': 'HSc6SXO7bEaWNNSlZeMba8IHxizyIVhPH-0kiJg3Q3T_W3eXfToFwuLMUQ', '청포도육포': 'UTSNzuSdSStiEu6DhHiRshQOLsUmh5c2bAO3qKJXGO_UnyVMKd6x7qjrtQ', 'DBZB3OT': 'qPaftfb4Zx9hI9ncqRcGJYLLyo98eAQsRpbwD1sIGmJ4m6Ij', '04 10 07': 'pDoNTgmAj8TAGqXIwzwqMf-qgAqo497zTasw1WaUA-gUGZUYlJUAisWk_A', '자다가잠꼬대': 'ZMZW8GEuMv9yvjJaB2eE6H-aYjuK5RAPqzFE47EniDXvXYk', 'Brrain': 'BgOwGjp6CYVkRP0XvgtejuHBWSrgUNX32i6TdXcAKeLszqk', 'Zap3': 'm4zg_Lz4npsqOOMT-RZIjC1HOj-7gWc7N1CY5jVsIsA6fQFDeM8mJ-gSzw', 'bang bu liao wo': 'japYt17POm4nuaXTzoYVpaQTxbQqn60_d9bXannyB50jPFMA3kteYdaXIg', 'qasdcsazxc': '6TPDEvO6nomSECfM0IERf4XzjluXlZ_S9VDL-RpEZMo77Spsaybhwt_OUQ', 'T1 F0rest': 'IioKwLmVQDiQsKEEtwFZHfnIg_f9k76OE9iZCl05CdUUdPA', 'tbtbtbr': 'qNRQ9BNwmMxdsIRsSkccoUK1Fn5BSSzTcB4LROduWA5Xp2k', '실수는실력': 'R2lzPWnKgGjezv5-Oaw9Imp9AMXcpcMQRerj5x_d8YOkfLk', 'nibabazhenduo': 'PW6CFk7NCDwmtHltv_yXHoIdXHcWsP5YtZWHu2gaASx98h0AtSBUmvWrew', '트위치 미드동선': 'SwlBdQRM--JbOeQNdXGfWfB4NWl_87nScKa-lxS0J20AJZKg', '따봉 람머스': 'HahVg09FBP-VzJ8idGBrSWfotxuI4TAzw095z0fgM-nE_2I', 'pingwozhijiedian': 'buDuTQUwfc--mjdHYiFEmV7UkVuQqmnpjUYZm079dvcdpCk2XcrGGR34MQ', '진짜 어려운 롤': 'cn8uyAU6XBKMPKFnj0muS3XrQOUdnSlrp-Wf6SkO3bimu0M', '자신감결여탑솔러': 'isk6IVNR2j-1stKwm9AlALauMKprQnjDqbg6u2WXrKs7rt51XWxdfXIfCA', '난 무조건 잘 돼': 'XFcC859t35oghIqQsqMhOsIRtR9MCcIVLkuqgMe6PuJwauzmlXbrh7XbJA', 'qiyaQAQ': 'yXKwQd_0mRWkSyElbxOd6xrpK-GFdg-YJ0JxtFIFDqv02C3Iel-PjTd5Hg', 'xiamulan': 'lsB3G86IoYXs2i_oI7rv3_APJ3S7uzD3PdfcqnGdpW-zz6g', 'KAINIX': '3oMcJY8k_BkUOpF-opHeKChcIMbeaWTfWt_Ox-KKBAFYiCxp8Z9z4rvjQw', '화려하게 살거야': 'Vdv8kpJPvfRIf4IV9j2BBz_h_zOc6iIh75GoMsiqiS0qGFQ', 'zenbukorosu': 'NePS8JnuvucG3Z54sKxDTgdXEFX4eIgWcpaT66PpC6wfKHk', 'ZED99': 'FszAlbGCp_yWFUA9sucqgXqap3Hbda_0FJKKFu1frQd48_o', 'xiao ke tang': '4oawCh_aunjWcOa60OOLfv-aNqZb2cGe4kQkjlzISqXyCSVOtTcx0l3pwg', '구글 롤브라더스': 'eGxL_6MfHgStd4jH3rM2Ac6OvOalFojUq4KPH2CSMa_kiDUS2d0duAYYtw', '슬럼프에갇힌사람': 'bZQ1ilIPZZyNlB3eyqxtyn6KJs4W9OhaDqs4MUUh-galVCY', '상근 정원': 'PhLDECCOmyvRDtLfTfRbxMFGyMTAZ_k4UzLQ7klCo3pZUmc', 'tianxuanziren': 'nkeWyN8Ds-HzTGgJ5TmlV-zexEKXw8TTuMbseWMWilXIyms2ucjStNWPig', 'dia de sorte': '6U8MiZPz5bn_8AQm_0CCYY0iN5BdKEVSPtxSsImbALuX4D0', '카오스는해봤냐': 't3XZ2rjuK0_L1IGwuiXvNCgTZUBCEJ7gEoxIEzbsT0d0Hg', 'yyzx': 'NW-9pVz2BeSmdmJjPBvjJNIf5m7QC20NC2nFi864guXCTV8', 'ANG TV': 'uCOTPCxu9c5gaMlakXzJY-V83i7YxzFCvaJA5lLLDLWO8Y0', '박지투': '5k7P7FU9_U-ZzphlaGQixmnie8izV7ui4Cd-afcbOBYFPRmRMYxw6GbQYQ', 'piglo': 'yYhkWZ6OSmmhuoaAbJ7XcVd58DgMYLWPsaA2o8CkYT8DGSsUXtc5plq-2w', 'the Boxer1': 'PFVOziZyv3sjh6RKcjaIxz--YfLcXGISKroyUKngLR-8hJ8n', '혜지태현': 'vg5n8HZvZobhoJkSUwILq3a7vzJ3u9xIGafTLEzRqSCas6Y', 'cryscata': 'WfE0rrwAtrkn0AnES9z8EbaS4LgBZ4OyfMEI_h65FyWySGw', '현우문': 'o8cKt7BUf6VZ4JGpFEVirm-_dW_IQXSvOTdKWJLYHcgf_oJS7LGrfTN4Rg', '프레임40': 'oIACNbJ_JwCX5ARGJIahsSYMl2PtQDsL4oEFoqCqc0Y4Z1k', '00OOOOOOOOOOOO00': '_LpSKUoxzqBxlyNpYPBvCnFnkMM3zGuCA3tt6JU6K84wiA', 'LSB TA K ON': 'p5WskTxTrlNFbjV_5vCRGUZW1FrTilJtljXm4wpExJGRvPU0', '호감 에서 나오다': 'i2giRDyNeMWW0LRBmbItMSLBQjjBMiIowq3-cv4R2lE_pluIinypI50yyQ', 'hunzi2': 'xKQGLheJlTraywxAqSdxQBqG3J6qy37aqPyY4c1B9WwSDuVEit2IBQcUhQ', 'yi jian tian hai': 'p7eTaFa2cDeOX0vs_pnit9ELtp2curZEdVmcql8ZOPydEWJPdbCW6296uQ', 'bao shou zhe mo': 'SKYQGuLLm4L7gkfYTQ4SuxcUxjMeqfG6lLbM0P483GvHUzNijZJWZnmA1w', 'Raindrops Flower': 'F8rufWpq1YNSB37urP9EsII0Ni7hnrODBn-9IB7YHUP8knSnunAwIEt4rw', '김도칠': 'PF4MdzRk0x5sQxVPwufuSFGim94lLmPK_lLV4BOVACXWyIU', '짐승과빡빡이1': '7tX7Bqtc5d2Lhq-tQpfYFJXgxOvd7nG0nzAovvr9MdQ9bDRw', '인디언식 카정법': 'F2_hgkhA2xhuyVQ4tdvucWOXLs65K3sNs4iQbpOr2c9Z1dQ', '젠지 가습기도둑': 'rtAq2FsAe5brO-d40lrjEE-d3xXZ-Q17qJNQJOSi4oVyyu6DrNpm97cgQA', 'Cisum': '8f0Ebg_wGi7R21dQQdgoEG-Cx51Haexq-lHv4Xpbq0c0zIEJVzGlRvznJw', '2duanQsaomiao': 'wfFx2QNejfU8CnsXyIUp32nHDKRyt46DiiDhI976hJspk8f17DnjjLTe5g', 'Xiaohu666': 'UhW0d59OaIw-0Np-47M2WfET4eRE5jq57a-8MD3C9LlhDCFQKTp1O3pgrQ', 'kn1ght12': 'cAjkml3vTAA37_PDfuS42YTdIdhdDb6vYTc6-UTh9eY7lSYwO27pq2RXug', 'Too coId': '1DfcP9Sa_8xF8zGxqd2c0OuMLwfGdXDUBWAv6g8FrwSd3z6E5J6v-DVsYA', 'Duran1': 'TfWDVL2E_DAuQX6SsMaq3UIiNjdCZVe1glf7NsuSjujmK2Saiji7fgjZPg', '레전드오브롤1244': 'p3PM7DlaT3Bl1TUT8PtcouPKSxQEKTpg0ZVFjd32Ki0-58w', 'DK Lucid': 'FoF7lWFWFna9QrDv58zENTy_MqIu9aQxJHOSQ-wAQwKryZdr', 'asdasdfdafqw': '6v9tphGHbpncZ_LCWrdFa2tR9I1YkF1WlH-pRUew-xCp9fnKiK2ObBHFVQ', 'just want focus': 'DfqrpgXoK1_X7z7aBBroi7Hm7z9emo0d2mR79WhE_6zXqSI', '동대장님': 'gKqbPJvDw-r_Ga7iEdcjIMWqabCZEW2QtGZuav-UxtrZKhKW', '섹파스': 'SaS8hkuXwEdRxBP5P9QEL6CZqyyUEhew9vdOKT5j3GwTZA', '고마워요감사해요': 't6cZuack7saQk8trJLHp4uYp_AtwOx0s46BhhTLQTA5MXYo', 'V5 Rlch': '9HPF6Huv9b7DLOyua-JaB71yRNCVSQiPL1aCdIECINV-F4g', '제리고수 강제리': 'zSn1arAMF8ZdfTlh8TavZn9C6rPAfP0v-eZ5yXXwPqlSUQg', 'New year2022': 'K5Ayyy4NLbnJKgl5vBrVRcE6kLONqWEL1k5o5zS7_F8yXPqypmyhN01nBg', '시부야카논사랑해': 'hAqc1w5FJymIga5DR0mt2w1pfd0NH3M0k4pELEOdcPOqbg', 'BZZZIII': 'RdH4etEG7fqEgPFGcKa816mOfe0QetAwTWHw6A3YDOVL69ziJJPdAV4buQ', '꼼나요': 'UQQPiSiqxnJU6gjJW5XZuFIr3uQht-AtmBuZHTaAcyEeFys', '진린1': '0mZbFIiERLFmSyg4iaLT8X7DwoHABFkgiLbOWs51ThidswI', '장임박': '60tmy7OndeSc24N3E3EeLaFV8UUHv6I7N2L8eSX1igN6oN4V', '하데스9': 'uvW8BxTJl1IFjWste0d9HXA1PofImEwzZnwwYjRRoIJOD2trq6nY116Vwg', 'chen wu fan lan': 'rmX_yq8x9USJSL1STSbXaLZhaav2McbmmHZR_xHL8dt48IY', 'alasseo': '1MwmkvMsMNd9exFptcL8McOAku-e9XMibD7ku8I0lVlP6BQ', '복슬복슬겨드랑이': 'sb1SItKg1yAFFmKZlfczHas1HZfmHo9pWft9NpBncwaJxQ', '왁물원 침팬치1': 'wgQBn-CHWc_61bIj9k33ELe78A2XQ2da5WXjg-XogYMLT6Y', '마 오': '9Uu8ZYxzUAg2f-T4vmoLjllkIzGSE_GjN_6WEYwk4qEfzA', '그것이 매지컬': 'Qp8xhAQQ6J1JuhGUGfnwjNbYvalToJ6TrFhIEKFLpA15mg', 'Switch Lanes': 'FRXBZNi73RTNDuu4U0CYHe-y2nLsOvDbs7CKRzgcGtS4OjA', 'JG24number': 'I47DP78VT6LVKcNEeOWP4vKe_JOBSssO5cFiPkNc8_o-ahw', '달인 카직스': 'KnNQCR2OnlKEF6J9GE1Y1Oj5XidTyq4rw593LMRBgzcvZ7o', '그마탈출시닉변': '9MsPFdtMFWjc5MDh8OySZhl017KH1mN-96Gtqfi81eUEQVc', 'bie fanren': 'DS3RSCAN9rtxcNZmVjNcDUneV62VznscnHdo6H_JbWwZSQy7vT_wqgZJbQ', '김찌미': 'ad0FcCwQeSqLbtVv8173OezpstQA43b5wTIx0n3hfPZnlCU', 'Wilder': 'eATDw_9Lr8a-97wuJM_GRCK9NuEZYyWbtJNxqYMpJicABQ', '1000bot': 'ZfpBmRBZwErJFT7LOfjV9PUFbcetRczA2pRSFFhQ2w_9Vlw'}\n"
     ]
    }
   ],
   "source": [
    "import requests\n",
    "import json\n",
    "import time\n",
    "import pprint\n",
    "import pandas as pd\n",
    "\n",
    "pp = pprint.PrettyPrinter(indent=4)\n",
    "request_header = {\n",
    "                    \"User-Agent\": \"Mozilla/5.0 (Windows NT 10.0; Win64; x64) AppleWebKit/537.36 (KHTML, like Gecko) Chrome/91.0.4472.164 Safari/537.36\",\n",
    "                    \"Accept-Language\": \"ko,en-US;q=0.9,en;q=0.8,es;q=0.7\",\n",
    "                    \"Accept-Charset\": \"application/x-www-form-urlencoded; charset=UTF-8\",\n",
    "                    \"Origin\": \"https://developer.riotgames.com\",\n",
    "                    \"X-Riot-Token\": 'RGAPI-13ad71e3-3996-477f-a27c-5245b4f8da33'\n",
    "                }\n",
    "\n",
    "# for문 진행률 확인 라이브러리\n",
    "from tqdm import tqdm\n",
    "\n",
    "#제공받은 라이브러리키 입력\n",
    "\n",
    "api_key = 'RGAPI-13ad71e3-3996-477f-a27c-5245b4f8da33'\n",
    "\n",
    "## 소환사의 ID수집\n",
    "url = 'https://kr.api.riotgames.com/lol/league/v4/grandmasterleagues/by-queue/RANKED_SOLO_5x5?api_key=' + api_key\n",
    "\n",
    "summonerId = {}\n",
    "\n",
    "r = requests.get(url)\n",
    "r = r.json()['entries']#소환사의 고유 id\n",
    "# print(r.json())\n",
    "\n",
    "num = 0\n",
    "for i in r:\n",
    "#     print(i)\n",
    "#     print(i['summonerId'], i['summonerName'])\n",
    "    summonerId[i['summonerName']] = i['summonerId']\n",
    "\n",
    "    num += 1\n",
    "print(num)\n",
    "print(summonerId)"
   ]
  },
  {
   "cell_type": "code",
   "execution_count": 22,
   "id": "01664b15",
   "metadata": {
    "id": "01664b15",
    "outputId": "a3ab6756-c145-4d76-a18f-0ee44bd40e8d",
    "scrolled": true
   },
   "outputs": [
    {
     "name": "stderr",
     "output_type": "stream",
     "text": [
      "\r",
      "  0%|                                                   | 0/621 [00:00<?, ?it/s]"
     ]
    },
    {
     "name": "stdout",
     "output_type": "stream",
     "text": [
      "api cost full : infinite loop start\n",
      "loop location :  pEqEX5t6K9dFNexqj6TXe7AEdhpRSBDYgV0Hzyc8paOBeemnu8DhDqu3IQ\n",
      "try 10 second wait time\n",
      "429\n",
      "try 10 second wait time\n",
      "429\n",
      "try 10 second wait time\n",
      "429\n",
      "try 10 second wait time\n",
      "429\n",
      "try 10 second wait time\n",
      "429\n",
      "try 10 second wait time\n"
     ]
    },
    {
     "name": "stderr",
     "output_type": "stream",
     "text": [
      "\r",
      "  0%|                                        | 1/621 [01:03<10:56:34, 63.54s/it]"
     ]
    },
    {
     "name": "stdout",
     "output_type": "stream",
     "text": [
      "200\n",
      "total wait time :  63.28429293632507\n",
      "recovery api cost\n",
      "pQPG-jsrbGusA0J_0s-PqR_alLL_kZWINq6IsmFAk7zlkGXlccaCdZ2iVduH0UiIoJiEZO1yA6cR-A\n"
     ]
    },
    {
     "name": "stderr",
     "output_type": "stream",
     "text": [
      "\r",
      "  0%|▏                                        | 2/621 [01:03<4:32:21, 26.40s/it]"
     ]
    },
    {
     "name": "stdout",
     "output_type": "stream",
     "text": [
      "Y-fAI9DAvCTI8amypDoQjj13r7TNSbjBWZMVPX0xRInW_GYRs6Td6nxIr_yyXTAevT4KvfDrMKmZdQ\n"
     ]
    },
    {
     "name": "stderr",
     "output_type": "stream",
     "text": [
      "\r",
      "  0%|▏                                        | 3/621 [01:04<2:30:40, 14.63s/it]"
     ]
    },
    {
     "name": "stdout",
     "output_type": "stream",
     "text": [
      "2XPIBoIIafciQ0b6KrYU7inKDsDOmYfBYN-vWLvVfAmnRCqb4Fk0xdSJCLpWoigyv7PnnbP0ftHP5g\n"
     ]
    },
    {
     "name": "stderr",
     "output_type": "stream",
     "text": [
      "\r",
      "  1%|▎                                        | 4/621 [01:04<1:32:14,  8.97s/it]"
     ]
    },
    {
     "name": "stdout",
     "output_type": "stream",
     "text": [
      "x82-CCEVkImqoU5Zhri8gyj_sCDZ_NjSI4UAsVNICh_bBSBatqUQlWx9cJd1kJPrrgJ7p2zNMgdPQQ\n"
     ]
    },
    {
     "name": "stderr",
     "output_type": "stream",
     "text": [
      "\r",
      "  1%|▎                                          | 5/621 [01:05<59:59,  5.84s/it]"
     ]
    },
    {
     "name": "stdout",
     "output_type": "stream",
     "text": [
      "ni5uG1QVlWn1YivDdkvmAHWyA-ScHKoW-GiDbKrXEeyzFzFSw8_rFI4rYngivzJ-zH6YIWkAgXhGtg\n"
     ]
    },
    {
     "name": "stderr",
     "output_type": "stream",
     "text": [
      "\r",
      "  1%|▍                                          | 6/621 [01:05<40:33,  3.96s/it]"
     ]
    },
    {
     "name": "stdout",
     "output_type": "stream",
     "text": [
      "30bXe_rrU0tfH6gDDNp8vDrSORTBelzfJb41XMQnDB0pjDsSZnxaXGwn-xK9irED1Ce6E4Vod00Vkg\n"
     ]
    },
    {
     "name": "stderr",
     "output_type": "stream",
     "text": [
      "\r",
      "  1%|▍                                          | 7/621 [01:05<28:16,  2.76s/it]"
     ]
    },
    {
     "name": "stdout",
     "output_type": "stream",
     "text": [
      "klLZr5WfQ1G8ib9q8q94gpoREq0DtnXwLfwKRd-ORATsZtNlOVce__3dV7JN5lmvZD_DFDrVqBOEyA\n"
     ]
    },
    {
     "name": "stderr",
     "output_type": "stream",
     "text": [
      "\r",
      "  1%|▌                                          | 8/621 [01:06<21:21,  2.09s/it]"
     ]
    },
    {
     "name": "stdout",
     "output_type": "stream",
     "text": [
      "Vb2r8DX1TXUMwgfpC3PYNsxgjr-oOT0IpPdkzSWGivGAXdzYTrcApPZ5SQ6wJFfhWX8fyHcO73MQFA\n"
     ]
    },
    {
     "name": "stderr",
     "output_type": "stream",
     "text": [
      "\r",
      "  1%|▌                                          | 9/621 [01:06<15:44,  1.54s/it]"
     ]
    },
    {
     "name": "stdout",
     "output_type": "stream",
     "text": [
      "S69M8-y9ldpa0uNILhaULADv4zTBRtre9eu71Bq73cpGv8PMZAxCsUQqQVNQvpTsigbyDNLmgCwxvw\n"
     ]
    },
    {
     "name": "stderr",
     "output_type": "stream",
     "text": [
      "\r",
      "  2%|▋                                         | 10/621 [01:07<11:48,  1.16s/it]"
     ]
    },
    {
     "name": "stdout",
     "output_type": "stream",
     "text": [
      "X9MqyWY33shaq1gShzjt01llUnV6hTBPXR_NTEsYxop9u6VFk2x2HvI9z_tK4XRCpQep_Hu6CIiTOQ\n"
     ]
    },
    {
     "name": "stderr",
     "output_type": "stream",
     "text": [
      "\r",
      "  2%|▋                                         | 11/621 [01:07<09:33,  1.06it/s]"
     ]
    },
    {
     "name": "stdout",
     "output_type": "stream",
     "text": [
      "xCzwTby2UEAa0kRnaZ0g_sdLsi0nBCFmU5hpGDTgzIjS4Q7koWx0AaiGPf95LjW_l95dIPxcPf3iNw\n"
     ]
    },
    {
     "name": "stderr",
     "output_type": "stream",
     "text": [
      "\r",
      "  2%|▊                                         | 12/621 [01:07<07:41,  1.32it/s]"
     ]
    },
    {
     "name": "stdout",
     "output_type": "stream",
     "text": [
      "UDHyXuAOgWKAnjUIG1WZzjFqZj2b-k9aBbK0TvQ-4eVRq2MPMWPTy3JdIh4rQq3TJ19WQE59FwmXKg\n"
     ]
    },
    {
     "name": "stderr",
     "output_type": "stream",
     "text": [
      "\r",
      "  2%|▉                                         | 13/621 [01:08<06:15,  1.62it/s]"
     ]
    },
    {
     "name": "stdout",
     "output_type": "stream",
     "text": [
      "5qnkTT_FrF5xjvWxfUgIPMYtMlgYx6JI19vd9j0joEEX2cdiDsRMaoviFxCmC7RlENDAAr2xS7H99Q\n"
     ]
    },
    {
     "name": "stderr",
     "output_type": "stream",
     "text": [
      "\r",
      "  2%|▉                                         | 14/621 [01:08<05:24,  1.87it/s]"
     ]
    },
    {
     "name": "stdout",
     "output_type": "stream",
     "text": [
      "BHtxjnUl5tiYyTqOmBhxJGEt9tOfBdKYsSzoyYJI2r0CTq369FDKwhchCHccvsdr9wsMJxeImYeI7A\n"
     ]
    },
    {
     "name": "stderr",
     "output_type": "stream",
     "text": [
      "\r",
      "  2%|█                                         | 15/621 [01:08<05:00,  2.02it/s]"
     ]
    },
    {
     "name": "stdout",
     "output_type": "stream",
     "text": [
      "JTt3HtNGEwcGP6d7a-sFAdVrC0ee_JYyOqkmDkRCV5oYrvGnlPp_TMwqNNW__HqWZBuSk6chie1A3w\n"
     ]
    },
    {
     "name": "stderr",
     "output_type": "stream",
     "text": [
      "\r",
      "  3%|█                                         | 16/621 [01:09<04:36,  2.19it/s]"
     ]
    },
    {
     "name": "stdout",
     "output_type": "stream",
     "text": [
      "YxdUOKq7xVljB6u-UJewAiZOoIt28rL9Hga4L1DC_VTtFUYBvvlAvmQROpJKkNoKp200sQLboPvVFQ\n"
     ]
    },
    {
     "name": "stderr",
     "output_type": "stream",
     "text": [
      "\r",
      "  3%|█▏                                        | 17/621 [01:09<04:08,  2.43it/s]"
     ]
    },
    {
     "name": "stdout",
     "output_type": "stream",
     "text": [
      "H6frUT89BxE63mcu6wE6cUU3_8GACXhFNyeOhZvqMQcqMZf5Xr5In4uXasmtGJysPUbm8YTVWHBBEQ\n"
     ]
    },
    {
     "name": "stderr",
     "output_type": "stream",
     "text": [
      "\r",
      "  3%|█▏                                        | 18/621 [01:09<03:45,  2.67it/s]"
     ]
    },
    {
     "name": "stdout",
     "output_type": "stream",
     "text": [
      "75uT9_M4IpUstsrkTQCD60NfymSHulVsiDplOHcT64olNvs2NjFleAm4SPbDsCgikjhbnKUDX-BHrw\n"
     ]
    },
    {
     "name": "stderr",
     "output_type": "stream",
     "text": [
      "\r",
      "  3%|█▎                                        | 19/621 [01:10<04:38,  2.16it/s]"
     ]
    },
    {
     "name": "stdout",
     "output_type": "stream",
     "text": [
      "bWb8diM4X_qJ9ymyaPtnRYxCJasPL-O9FJLLZOn_gb2UItUL7NY9Q7eYHlozlQh_3L3HGBwnwCe_ew\n"
     ]
    },
    {
     "name": "stderr",
     "output_type": "stream",
     "text": [
      "\r",
      "  3%|█▎                                        | 20/621 [01:11<05:05,  1.97it/s]"
     ]
    },
    {
     "name": "stdout",
     "output_type": "stream",
     "text": [
      "dvLoqaj6AVS927Y25Q-TN7I4NLISWouSLaNk1P4x_FsTUjw1MNeC0675NtleR_BbkRjWXgR4J9nu0Q\n"
     ]
    },
    {
     "name": "stderr",
     "output_type": "stream",
     "text": [
      "\r",
      "  3%|█▍                                        | 21/621 [01:11<04:26,  2.25it/s]"
     ]
    },
    {
     "name": "stdout",
     "output_type": "stream",
     "text": [
      "Oye_knwTaHwsAta9E0nRdMa1irTCL8Ch-Wu2lvy1fkE5FJe-w2xI_4mc9o9M5D4jMRy5_zqxp86uXg\n"
     ]
    },
    {
     "name": "stderr",
     "output_type": "stream",
     "text": [
      "\r",
      "  4%|█▍                                        | 22/621 [01:12<05:17,  1.89it/s]"
     ]
    },
    {
     "name": "stdout",
     "output_type": "stream",
     "text": [
      "D56uy5yyL6SCbZXUNokF9-0Kebg_50b0vYVQ4jpv5bDe6AydxW01Cj5gQOq5jRjI4HNHmzpMDQHooA\n"
     ]
    },
    {
     "name": "stderr",
     "output_type": "stream",
     "text": [
      "\r",
      "  4%|█▌                                        | 23/621 [01:12<05:32,  1.80it/s]"
     ]
    },
    {
     "name": "stdout",
     "output_type": "stream",
     "text": [
      "bkaauDsDnUkZxFbdiwHEFuITJq1z69HYP6b0WCdAIFz_hL4WYglRYrUtFrhx7kZWWcRTjVMpyU6ynw\n"
     ]
    },
    {
     "name": "stderr",
     "output_type": "stream",
     "text": [
      "\r",
      "  4%|█▌                                        | 24/621 [01:13<05:08,  1.93it/s]"
     ]
    },
    {
     "name": "stdout",
     "output_type": "stream",
     "text": [
      "8awvdUtA7NPH7a7gpFYMQK-_krbRLj1VJIf_rz_nIcaVhhKWmYI4rr9ttbVYgswOE-H1zcGx5JH_Rw\n"
     ]
    },
    {
     "name": "stderr",
     "output_type": "stream",
     "text": [
      "\r",
      "  4%|█▋                                        | 25/621 [01:13<04:34,  2.17it/s]"
     ]
    },
    {
     "name": "stdout",
     "output_type": "stream",
     "text": [
      "L3WsPBTcxQdQ2v82QbYxGiNdmJHGRmuHxQB-5yAPOyOPrBLY_tpLslcMWMwaN5xL9yLSEhOeyOUzrQ\n"
     ]
    },
    {
     "name": "stderr",
     "output_type": "stream",
     "text": [
      "\r",
      "  4%|█▊                                        | 26/621 [01:13<04:13,  2.35it/s]"
     ]
    },
    {
     "name": "stdout",
     "output_type": "stream",
     "text": [
      "TcvZjn0k6Z0Ct_Ndw_eRU8ju3l1v6UtDinOiOR3eGwsIWt7HPOx-dgNFKcSQpKBL9-qwi3dYbe7PMg\n"
     ]
    },
    {
     "name": "stderr",
     "output_type": "stream",
     "text": [
      "\r",
      "  4%|█▊                                        | 27/621 [01:14<05:09,  1.92it/s]"
     ]
    },
    {
     "name": "stdout",
     "output_type": "stream",
     "text": [
      "8WMhBwP1F5vh50LVsweS_tjAfqthUve6hO78FPpy5JBMZVJkmFhUAMhJZIsQap2gc-5F-xPP01JF-w\n"
     ]
    },
    {
     "name": "stderr",
     "output_type": "stream",
     "text": [
      "\r",
      "  5%|█▉                                        | 28/621 [01:14<04:29,  2.20it/s]"
     ]
    },
    {
     "name": "stdout",
     "output_type": "stream",
     "text": [
      "UWsySAjP408nKewNSp2vccrz-gasCg2s4ppuB6u-yyeqn8QFqw1UzdXblVCP0TzYXj6_5Ka3lK6JeA\n"
     ]
    },
    {
     "name": "stderr",
     "output_type": "stream",
     "text": [
      "\r",
      "  5%|█▉                                        | 29/621 [01:15<04:01,  2.45it/s]"
     ]
    },
    {
     "name": "stdout",
     "output_type": "stream",
     "text": [
      "ykF5FOchQMDUXAIYA4slo_AoGAN1f-T6-7Z0X-7BxIp5CXZd4LKveQ0sfxLqUqKWt1qfdw5CJbQ1Mw\n"
     ]
    },
    {
     "name": "stderr",
     "output_type": "stream",
     "text": [
      "\r",
      "  5%|██                                        | 30/621 [01:15<04:12,  2.34it/s]"
     ]
    },
    {
     "name": "stdout",
     "output_type": "stream",
     "text": [
      "WufJJy6bDjTuvwvWse9B4b82qS3qYBaUvG8JsV1lAS0dI258DlaG3eNe2ugJBPabaGKrLdxeZu2hCQ\n"
     ]
    },
    {
     "name": "stderr",
     "output_type": "stream",
     "text": [
      "\r",
      "  5%|██                                        | 31/621 [01:16<04:36,  2.14it/s]"
     ]
    },
    {
     "name": "stdout",
     "output_type": "stream",
     "text": [
      "VzlCAb4LsiODSFLNrF14wzej1uoQnbDoaUTfbuGIKRQnGtE69vf_7USc_TA5GhdW7p3KZnXLJGo3cg\n"
     ]
    },
    {
     "name": "stderr",
     "output_type": "stream",
     "text": [
      "\r",
      "  5%|██▏                                       | 32/621 [01:16<04:07,  2.38it/s]"
     ]
    },
    {
     "name": "stdout",
     "output_type": "stream",
     "text": [
      "u7zv2kCvBWozqdMO0ALgy0EBfWO2mXXj86pxdjYmB6GIaHyUkLK9DxLigC01VjkhF1jfMOpHbBlxew\n"
     ]
    },
    {
     "name": "stderr",
     "output_type": "stream",
     "text": [
      "\r",
      "  5%|██▏                                       | 33/621 [01:17<04:27,  2.20it/s]"
     ]
    },
    {
     "name": "stdout",
     "output_type": "stream",
     "text": [
      "SDBlDDgq4VnfabpLqckLgCDlqgg5UOKy7qk4dq10iulyPDeLJQlTtkcns0IlBNXEcJj1mObJtWiN_g\n"
     ]
    },
    {
     "name": "stderr",
     "output_type": "stream",
     "text": [
      "\r",
      "  5%|██▎                                       | 34/621 [01:17<04:51,  2.02it/s]"
     ]
    },
    {
     "name": "stdout",
     "output_type": "stream",
     "text": [
      "oJd-q-_7pohle_7M50Ya_f0gQYUdxc-3pUPMa8RnxUfFi97ga6X4nZZ_cL6CpL9OQTetA-DscLcDfw\n"
     ]
    },
    {
     "name": "stderr",
     "output_type": "stream",
     "text": [
      "\r",
      "  6%|██▎                                       | 35/621 [01:18<05:11,  1.88it/s]"
     ]
    },
    {
     "name": "stdout",
     "output_type": "stream",
     "text": [
      "JVBYFCT65-IculcPde8wcNXjg-ilCe2MPljtRToerw2ODV85Y0iUpclLNCQ0-G0Icfkpr4WLCW7zUw\n"
     ]
    },
    {
     "name": "stderr",
     "output_type": "stream",
     "text": [
      "\r",
      "  6%|██▍                                       | 36/621 [01:18<04:54,  1.98it/s]"
     ]
    },
    {
     "name": "stdout",
     "output_type": "stream",
     "text": [
      "4Vh98Q98We_-s4W7Aj0EJ6UqhOJl-sCEtaux1fuagjsEqpFXZVmyCBfKpEgWsomvqVsGkcNPgnG-DA\n"
     ]
    },
    {
     "name": "stderr",
     "output_type": "stream",
     "text": [
      "\r",
      "  6%|██▌                                       | 37/621 [01:19<04:18,  2.26it/s]"
     ]
    },
    {
     "name": "stdout",
     "output_type": "stream",
     "text": [
      "8HsOwBV1WNv8kI6vjJnqTb-wX1KhzWpxITHyV6sZkd3TnJfBOyebQHBEEySOIvWKL7RAQJtHBj72IQ\n"
     ]
    },
    {
     "name": "stderr",
     "output_type": "stream",
     "text": [
      "\r",
      "  6%|██▌                                       | 38/621 [01:19<05:37,  1.73it/s]"
     ]
    },
    {
     "name": "stdout",
     "output_type": "stream",
     "text": [
      "lFBXQqFPGY8ywcJ4zDSsmelySSEvZ-PPY3t7r-HqaZNDE6hHDEj3nJEqmjdsZ4O9YbESy7bNQU54PA\n"
     ]
    },
    {
     "name": "stderr",
     "output_type": "stream",
     "text": [
      "\r",
      "  6%|██▋                                       | 39/621 [01:20<04:48,  2.02it/s]"
     ]
    },
    {
     "name": "stdout",
     "output_type": "stream",
     "text": [
      "tISr5X-zt93mRLStUIaKR0Q0U6khidW8Z0lzsmSvZVtiSare_sFdGVfFSDziYRiyY1w-9YM584FRVA\n"
     ]
    },
    {
     "name": "stderr",
     "output_type": "stream",
     "text": [
      "\r",
      "  6%|██▋                                       | 40/621 [01:21<06:38,  1.46it/s]"
     ]
    },
    {
     "name": "stdout",
     "output_type": "stream",
     "text": [
      "NKAWiQVcN1-iBtWCUNV76K5K7BEP30B56fcPF7qor6uQFR_3UGO9rOqioSZgtLwgsbycDr3LejDABw\n"
     ]
    },
    {
     "name": "stderr",
     "output_type": "stream",
     "text": [
      "\r",
      "  7%|██▊                                       | 41/621 [01:22<07:01,  1.38it/s]"
     ]
    },
    {
     "name": "stdout",
     "output_type": "stream",
     "text": [
      "9sHD8mBs-OHckiggCe4Z9ZOsXPrWDCPxiVWTaXwXJeeIi3V8SywIchsSSul1Fvb0QChbpLZTdsvniQ\n"
     ]
    },
    {
     "name": "stderr",
     "output_type": "stream",
     "text": [
      "\r",
      "  7%|██▊                                       | 42/621 [01:22<07:16,  1.33it/s]"
     ]
    },
    {
     "name": "stdout",
     "output_type": "stream",
     "text": [
      "zb0ebYKdveb2BeLvNP-froWS96fV9K1smCGzTNVAewNcCaiGFLXg5kNjtdYl3NrxMjdTnNCPokGT8Q\n"
     ]
    },
    {
     "name": "stderr",
     "output_type": "stream",
     "text": [
      "\r",
      "  7%|██▉                                       | 43/621 [01:24<08:38,  1.12it/s]"
     ]
    },
    {
     "name": "stdout",
     "output_type": "stream",
     "text": [
      "WrYBbMUeed6FKhqmpsWzlHhE9CF484xoBzoLQRMp6ZOXnDNZJi5PS9Lah0C2e5FOI_FI5lCBwa2XGg\n"
     ]
    },
    {
     "name": "stderr",
     "output_type": "stream",
     "text": [
      "\r",
      "  7%|██▉                                       | 44/621 [01:25<08:59,  1.07it/s]"
     ]
    },
    {
     "name": "stdout",
     "output_type": "stream",
     "text": [
      "eRJZ0LzsANZdIJhlecBiJ62eSBZ0y8TWrRJPpV4K-CqkAQ-r9gfk1dahfqhCQDghEU_jsKiGcihCsQ\n"
     ]
    },
    {
     "name": "stderr",
     "output_type": "stream",
     "text": [
      "\r",
      "  7%|███                                       | 45/621 [01:25<07:09,  1.34it/s]"
     ]
    },
    {
     "name": "stdout",
     "output_type": "stream",
     "text": [
      "qRyPPpmZrdWUFAYylRg6rDHv2_Q4lgig6A_NZfRsIUvxD97DOHjw-tEuhB0jV60CmSNa0tWWvgjrIg\n"
     ]
    },
    {
     "name": "stderr",
     "output_type": "stream",
     "text": [
      "\r",
      "  7%|███                                       | 46/621 [01:25<05:51,  1.64it/s]"
     ]
    },
    {
     "name": "stdout",
     "output_type": "stream",
     "text": [
      "1Kr8K3AxF6iHC-U0nTh0Jbx9wvgGAfvLSwCNPpJ3GOh_qPuImJeQV6WFVPnh7kg_z6aBVjNC9Kpx4w\n"
     ]
    },
    {
     "name": "stderr",
     "output_type": "stream",
     "text": [
      "\r",
      "  8%|███▏                                      | 47/621 [01:27<07:39,  1.25it/s]"
     ]
    },
    {
     "name": "stdout",
     "output_type": "stream",
     "text": [
      "oGLUrRELV4UQ80VjOeQnXpcJHtP1KYpgmH8ceBZ5VnORQnJC9-OubieL2jZ9XNZzE9zeNn04hjz8Pg\n"
     ]
    },
    {
     "name": "stderr",
     "output_type": "stream",
     "text": [
      "\r",
      "  8%|███▏                                      | 48/621 [01:27<06:11,  1.54it/s]"
     ]
    },
    {
     "name": "stdout",
     "output_type": "stream",
     "text": [
      "JXuVwNdjrchMWe0GsLdBtiaOXmWG_TlSBXNFjK_Dn-PqvmQ76iSZf5HsfUB8hlvm1CksGdjEnSENkQ\n"
     ]
    },
    {
     "name": "stderr",
     "output_type": "stream",
     "text": [
      "\r",
      "  8%|███▎                                      | 49/621 [01:27<05:12,  1.83it/s]"
     ]
    },
    {
     "name": "stdout",
     "output_type": "stream",
     "text": [
      "jV2Vz7LAcd1TQS5MnNZSyQ_qx2KL4drOKYjY5WGOXxZuR9Sw3a6tTqDoUiaIeeDreJnJnHQwlGniAw\n"
     ]
    },
    {
     "name": "stderr",
     "output_type": "stream",
     "text": [
      "\r",
      "  8%|███▍                                      | 50/621 [01:28<06:00,  1.58it/s]"
     ]
    },
    {
     "name": "stdout",
     "output_type": "stream",
     "text": [
      "2kDaqV2VVSgkPyVfXpvhzAlLeVNpovSuXSBcY31ythZNYV7FeFLkbQpaCR-1tT53DyEu7lVKfQCIow\n"
     ]
    },
    {
     "name": "stderr",
     "output_type": "stream",
     "text": [
      "\r",
      "  8%|███▍                                      | 51/621 [01:29<06:32,  1.45it/s]"
     ]
    },
    {
     "name": "stdout",
     "output_type": "stream",
     "text": [
      "Y9rX7sx5WF4uElAtVYJc4ojThRycgbGD9XBXyaLMZ5S3wIG1DDzvUi0YBd7G_x2-L6rcKrd9U0DyDA\n"
     ]
    },
    {
     "name": "stderr",
     "output_type": "stream",
     "text": [
      "\r",
      "  8%|███▌                                      | 52/621 [01:29<05:33,  1.71it/s]"
     ]
    },
    {
     "name": "stdout",
     "output_type": "stream",
     "text": [
      "Iqeqo1CpVm_5B1ZFnCXhglKNwHuBPNMAyi_V1aspqF4xZupKu0up26nvgfXBT1BEJeNqb2Lwh3OAqg\n"
     ]
    },
    {
     "name": "stderr",
     "output_type": "stream",
     "text": [
      "\r",
      "  9%|███▌                                      | 53/621 [01:30<05:47,  1.63it/s]"
     ]
    },
    {
     "name": "stdout",
     "output_type": "stream",
     "text": [
      "Dvdqv-Hc_1qo04rkFSeZlC7XGfniWe6EsCmE_qN_3CdTOOyLgAUtzxVcVJ0w6noEniXK2csDsxu2rA\n"
     ]
    },
    {
     "name": "stderr",
     "output_type": "stream",
     "text": [
      "\r",
      "  9%|███▋                                      | 54/621 [01:30<04:59,  1.89it/s]"
     ]
    },
    {
     "name": "stdout",
     "output_type": "stream",
     "text": [
      "2BIBEo33Lr5CPC1Eo1HeYcuW899Qb9toy-7Rwjs3_u0zt9OkYocgcosda2sBYhRHHOsNNRUwW6Fnjg\n"
     ]
    },
    {
     "name": "stderr",
     "output_type": "stream",
     "text": [
      "\r",
      "  9%|███▋                                      | 55/621 [01:31<05:27,  1.73it/s]"
     ]
    },
    {
     "name": "stdout",
     "output_type": "stream",
     "text": [
      "VXT_jPwE9xvk_R9ApTZAJqn4_HkaikbWUh499Rnre7nPdg7UKsUFMFI__IUhzNPRa4A4s7O-CYg8kw\n"
     ]
    },
    {
     "name": "stderr",
     "output_type": "stream",
     "text": [
      "\r",
      "  9%|███▊                                      | 56/621 [01:31<04:37,  2.03it/s]"
     ]
    },
    {
     "name": "stdout",
     "output_type": "stream",
     "text": [
      "zT5jRM23QSME7UOG2Mne34f8-U6DtaFXxXGaaaH7oa6hjj04f26yfs_KOxiOVsB-1USpa9QfDtAaFA\n"
     ]
    },
    {
     "name": "stderr",
     "output_type": "stream",
     "text": [
      "\r",
      "  9%|███▊                                      | 57/621 [01:31<04:07,  2.28it/s]"
     ]
    },
    {
     "name": "stdout",
     "output_type": "stream",
     "text": [
      "NYKCxAwx6kvvdTA2PWrc5sOEDH4gNgEC6frpO3VYmai4yCzMuYtKw480ZJ2cSbNfe5aUeAVIgaegqw\n"
     ]
    },
    {
     "name": "stderr",
     "output_type": "stream",
     "text": [
      "\r",
      "  9%|███▉                                      | 58/621 [01:32<03:43,  2.52it/s]"
     ]
    },
    {
     "name": "stdout",
     "output_type": "stream",
     "text": [
      "Y2z4eHng4gDarrIQIG6VZVT3yeFI98vPmJgIwg5I34w_9sVjxBkScbQHMuA-EQ1ntU5u37jiKhjMbQ\n"
     ]
    },
    {
     "name": "stderr",
     "output_type": "stream",
     "text": [
      "\r",
      " 10%|███▉                                      | 59/621 [01:32<04:05,  2.29it/s]"
     ]
    },
    {
     "name": "stdout",
     "output_type": "stream",
     "text": [
      "BCqofv2EMX4Wa5QBn0Jim7iyIetv-SwCSgHq4gZJ3YNVVsyqpEH7PsTAdMKCjnX6UtWn9-KDTt6fDA\n"
     ]
    },
    {
     "name": "stderr",
     "output_type": "stream",
     "text": [
      "\r",
      " 10%|████                                      | 60/621 [01:33<03:40,  2.54it/s]"
     ]
    },
    {
     "name": "stdout",
     "output_type": "stream",
     "text": [
      "F-EBOKXQU-wxhBhgU8kpj_fi2fsnl_quQloBUSV1E8cPtiprIDowkMcPO8eONKoOkdpsVKWEl8s-3Q\n"
     ]
    },
    {
     "name": "stderr",
     "output_type": "stream",
     "text": [
      "\r",
      " 10%|████▏                                     | 61/621 [01:33<03:24,  2.74it/s]"
     ]
    },
    {
     "name": "stdout",
     "output_type": "stream",
     "text": [
      "8gFjVMINuDWVJAgOxG7tapb_iIiaf-DLwVCX0QMFyxN7Uijfi39JVwgNHMoyrAnmj8K3n98Z3H88lA\n"
     ]
    },
    {
     "name": "stderr",
     "output_type": "stream",
     "text": [
      "\r",
      " 10%|████▏                                     | 62/621 [01:33<03:11,  2.92it/s]"
     ]
    },
    {
     "name": "stdout",
     "output_type": "stream",
     "text": [
      "HzaPKRxAqiLm_BxjXhScJGtDDeTSFQWL7mHtZ9b4XWtAeZiRITHWq6drdcdPRlri3GWwHAwW6PXzjQ\n"
     ]
    },
    {
     "name": "stderr",
     "output_type": "stream",
     "text": [
      "\r",
      " 10%|████▎                                     | 63/621 [01:34<04:20,  2.14it/s]"
     ]
    },
    {
     "name": "stdout",
     "output_type": "stream",
     "text": [
      "p0YEAX6IznV5tc_mwPFCc3HwzlROF-1TLm8asdYbWvjJ-dz_XkO1d7uhG5kycmdqTpY523jagp4EeA\n"
     ]
    },
    {
     "name": "stderr",
     "output_type": "stream",
     "text": [
      "\r",
      " 10%|████▎                                     | 64/621 [01:34<03:53,  2.39it/s]"
     ]
    },
    {
     "name": "stdout",
     "output_type": "stream",
     "text": [
      "TrVIqZu0d6X5gN5Jl2t16q7BspQD00jt_UdChl78tmwfZ98ZKpfeJSlsYL1j5_vnL9uZrLQVlaerMw\n"
     ]
    },
    {
     "name": "stderr",
     "output_type": "stream",
     "text": [
      "\r",
      " 10%|████▍                                     | 65/621 [01:35<03:33,  2.60it/s]"
     ]
    },
    {
     "name": "stdout",
     "output_type": "stream",
     "text": [
      "zta0aA5HJbeHVpcy-ty1N5DnNTFsWTyztOXyOGClTAWtaX8DnkFCdsZHy26mOZPhH7oB0X7Bfmur7A\n"
     ]
    },
    {
     "name": "stderr",
     "output_type": "stream",
     "text": [
      "\r",
      " 11%|████▍                                     | 66/621 [01:35<03:18,  2.80it/s]"
     ]
    },
    {
     "name": "stdout",
     "output_type": "stream",
     "text": [
      "f5EOspbjctF2iRKmg_E-1llK2wR8VlGx8G1NInzh8AU-iuw_-7zAR9vDpDgatQjCOA6LavlxggcEhA\n"
     ]
    },
    {
     "name": "stderr",
     "output_type": "stream",
     "text": [
      "\r",
      " 11%|████▌                                     | 67/621 [01:35<03:27,  2.67it/s]"
     ]
    },
    {
     "name": "stdout",
     "output_type": "stream",
     "text": [
      "jZrqmaQqKBCXyRcwnLNzEhxoxevREaTx8-9T4AVj0sCr_ujo4jWZNstsG5bmgLtj-rDDNWKIT4sjtA\n"
     ]
    },
    {
     "name": "stderr",
     "output_type": "stream",
     "text": [
      "\r",
      " 11%|████▌                                     | 68/621 [01:37<06:17,  1.46it/s]"
     ]
    },
    {
     "name": "stdout",
     "output_type": "stream",
     "text": [
      "o0HyK_We0UMNnFrfVf9o0j7pm5ckyphqCn0l8zXOup9V5RAGK12oZWQ-oWj0XXQcxAIegXTsFcHpGA\n"
     ]
    },
    {
     "name": "stderr",
     "output_type": "stream",
     "text": [
      "\r",
      " 11%|████▋                                     | 69/621 [01:37<05:13,  1.76it/s]"
     ]
    },
    {
     "name": "stdout",
     "output_type": "stream",
     "text": [
      "PFV05-nbUe5tW1sqrr1fxvKZiDMHxI-axKL8P3r5EkSBSv7JLTQsyoMvu6gtksB0_v-mHH54AEa-Ww\n"
     ]
    },
    {
     "name": "stderr",
     "output_type": "stream",
     "text": [
      "\r",
      " 11%|████▋                                     | 70/621 [01:38<05:28,  1.68it/s]"
     ]
    },
    {
     "name": "stdout",
     "output_type": "stream",
     "text": [
      "14zEGiLnz8fWARVzTHPdKKLsSYATLLaf5u8w6XrmT1CeqIh-Enqsji4Aapr8L5BnI5ezmw1I0lwoZg\n"
     ]
    },
    {
     "name": "stderr",
     "output_type": "stream",
     "text": [
      "\r",
      " 11%|████▊                                     | 71/621 [01:38<04:38,  1.97it/s]"
     ]
    },
    {
     "name": "stdout",
     "output_type": "stream",
     "text": [
      "ueyW1m4305T-yJyD14e-UEq8C5pSLseCw3JqOL39ngDqx8qo4sDt3WmGiAy74dKrZ36Rus-9jWLnYA\n"
     ]
    },
    {
     "name": "stderr",
     "output_type": "stream",
     "text": [
      "\r",
      " 12%|████▊                                     | 72/621 [01:38<04:04,  2.25it/s]"
     ]
    },
    {
     "name": "stdout",
     "output_type": "stream",
     "text": [
      "MCksqaLyCd5iZ0lcdLUZklH3RHhUdAxhO9Ct0NHKUGnpK0bF4aOSUz0XOVeFMcr5CG2wKiEASGSAuQ\n"
     ]
    },
    {
     "name": "stderr",
     "output_type": "stream",
     "text": [
      "\r",
      " 12%|████▉                                     | 73/621 [01:39<03:40,  2.49it/s]"
     ]
    },
    {
     "name": "stdout",
     "output_type": "stream",
     "text": [
      "MIz7_p9mTURrGd0--aEclKbN4VXFT3mmWZQY25E-T8LV2onusU99fo35qtULpRNVEa1UXQGbrgnvAA\n"
     ]
    },
    {
     "name": "stderr",
     "output_type": "stream",
     "text": [
      "\r",
      " 12%|█████                                     | 74/621 [01:39<03:35,  2.54it/s]"
     ]
    },
    {
     "name": "stdout",
     "output_type": "stream",
     "text": [
      "3gjWhIAVn0S1V8gMDa9u1kmdMwBMalVx4Yw6zWbQ8wiOyT_vL8qV0S9394iKptfP9wos4anbG8AONg\n"
     ]
    },
    {
     "name": "stderr",
     "output_type": "stream",
     "text": [
      "\r",
      " 12%|█████                                     | 75/621 [01:39<04:03,  2.24it/s]"
     ]
    },
    {
     "name": "stdout",
     "output_type": "stream",
     "text": [
      "TlCYYi8NmBhQY-whqURneZcCryIloTQuzvVUO6YsxfRL-BC4lhd6XMZUCoD5CGpg4lZKePVYf6Saww\n"
     ]
    },
    {
     "name": "stderr",
     "output_type": "stream",
     "text": [
      "\r",
      " 12%|█████▏                                    | 76/621 [01:40<03:39,  2.49it/s]"
     ]
    },
    {
     "name": "stdout",
     "output_type": "stream",
     "text": [
      "UVq7xzXkGjqFpZA6mMbNMHgFEunWYB60gIi4LdSiDDrFuec1PJyh1lLm2FA-vNn1uLne0NLan6E5VQ\n"
     ]
    },
    {
     "name": "stderr",
     "output_type": "stream",
     "text": [
      "\r",
      " 12%|█████▏                                    | 77/621 [01:40<03:24,  2.66it/s]"
     ]
    },
    {
     "name": "stdout",
     "output_type": "stream",
     "text": [
      "wY4xxTFd_KgjrDjJy6EUQwt4DG0ybB_reQnYP2X-pXnKyAYpuEMosDHBC1D0kIIxnbjEwnEBJaI0Zg\n"
     ]
    },
    {
     "name": "stderr",
     "output_type": "stream",
     "text": [
      "\r",
      " 13%|█████▎                                    | 78/621 [01:40<03:18,  2.73it/s]"
     ]
    },
    {
     "name": "stdout",
     "output_type": "stream",
     "text": [
      "Ic0bo2FOlWQGfLmjAcnYB21aoKJUx6XKGaK20TEh52tp1XuemY-ltIt9hLZ40h3OIYR7HlvX4X9kaQ\n"
     ]
    },
    {
     "name": "stderr",
     "output_type": "stream",
     "text": [
      "\r",
      " 13%|█████▎                                    | 79/621 [01:41<03:09,  2.86it/s]"
     ]
    },
    {
     "name": "stdout",
     "output_type": "stream",
     "text": [
      "f9mFXUfy7BAScZCp5xv3tNJlp0hxlefBns62YXNve6FvPi_ehQiPG9foTGTJ4Wt9hPLCPrKJd-NQ0A\n"
     ]
    },
    {
     "name": "stderr",
     "output_type": "stream",
     "text": [
      "\r",
      " 13%|█████▍                                    | 80/621 [01:41<03:08,  2.87it/s]"
     ]
    },
    {
     "name": "stdout",
     "output_type": "stream",
     "text": [
      "E2oSl5LzCnE9Na9mNhdpgOJqJpeSpA6j0XTFJE8A04vrXdXf5XRSzRVbPZi0YX-JE-5jwGhsVfWgag\n"
     ]
    },
    {
     "name": "stderr",
     "output_type": "stream",
     "text": [
      "\r",
      " 13%|█████▍                                    | 81/621 [01:41<03:06,  2.90it/s]"
     ]
    },
    {
     "name": "stdout",
     "output_type": "stream",
     "text": [
      "aZv8elodMB2AT3pKOlfGxNBrzG0DAvaruwr20dyAd_ylOM1SzGTFgNBLLb_li8TSk_MuXkrz-Ne0zw\n"
     ]
    },
    {
     "name": "stderr",
     "output_type": "stream",
     "text": [
      "\r",
      " 13%|█████▌                                    | 82/621 [01:42<02:59,  3.01it/s]"
     ]
    },
    {
     "name": "stdout",
     "output_type": "stream",
     "text": [
      "MT1Hfzcy1wXgbDz-_B8NtgqcRCjMW-29-7HtXmZ_FKJ7SBwRsx3tULHVrhjXc1hnOzAsqfESxZ16Mg\n"
     ]
    },
    {
     "name": "stderr",
     "output_type": "stream",
     "text": [
      "\r",
      " 13%|█████▌                                    | 83/621 [01:43<04:49,  1.86it/s]"
     ]
    },
    {
     "name": "stdout",
     "output_type": "stream",
     "text": [
      "16-tj37dyKqA4YXO1tRaxJJahTjA7w__Iam0NQ3H1lOXPamHsriX65B8ofTROOhDcqQ2-7V0enIDFg\n"
     ]
    },
    {
     "name": "stderr",
     "output_type": "stream",
     "text": [
      "\r",
      " 14%|█████▋                                    | 84/621 [01:43<04:09,  2.15it/s]"
     ]
    },
    {
     "name": "stdout",
     "output_type": "stream",
     "text": [
      "bm6oatcrdWclov4WWLHF-D7n6O3hBDYd0XkFE4ltBfs1jretr268FzxNkDMFS-pqMgQsbT1vOAyGJw\n"
     ]
    },
    {
     "name": "stderr",
     "output_type": "stream",
     "text": [
      "\r",
      " 14%|█████▋                                    | 85/621 [01:43<03:49,  2.34it/s]"
     ]
    },
    {
     "name": "stdout",
     "output_type": "stream",
     "text": [
      "r0Ca36z6qtcoR0YFQ8JClFTNSflw_LCe8WKDce5kwSR5NgYFb4dK0NE1X6TujR5XAJ1zWUwuoTh7rg\n"
     ]
    },
    {
     "name": "stderr",
     "output_type": "stream",
     "text": [
      "\r",
      " 14%|█████▊                                    | 86/621 [01:45<05:54,  1.51it/s]"
     ]
    },
    {
     "name": "stdout",
     "output_type": "stream",
     "text": [
      "m-cyHpeIUWZnllv555xP8oT1kT30W-8c07EPJbdZqeCprwGMLr9SEqBl8d7AUHQqJfixCaDYaVSQcQ\n"
     ]
    },
    {
     "name": "stderr",
     "output_type": "stream",
     "text": [
      "\r",
      " 14%|█████▉                                    | 87/621 [01:46<07:57,  1.12it/s]"
     ]
    },
    {
     "name": "stdout",
     "output_type": "stream",
     "text": [
      "ozbpsz0_gPtUXnaFmXkC-OdUqdiYtL-YRgQ2bGdAyH8g-EPBr449jisngRdCj2xkyfPxu547JL7GwQ\n"
     ]
    },
    {
     "name": "stderr",
     "output_type": "stream",
     "text": [
      "\r",
      " 14%|█████▉                                    | 88/621 [01:47<08:17,  1.07it/s]"
     ]
    },
    {
     "name": "stdout",
     "output_type": "stream",
     "text": [
      "pMf2Wcz78RNvzZm1zqR3wz4jYGc8aRlRGSQymZgB-kaJR64tivkM1nBBPFxS26J1PKzU113P9GVRAw\n"
     ]
    },
    {
     "name": "stderr",
     "output_type": "stream",
     "text": [
      "\r",
      " 14%|██████                                    | 89/621 [01:48<07:25,  1.19it/s]"
     ]
    },
    {
     "name": "stdout",
     "output_type": "stream",
     "text": [
      "Kc_xqH9mwx4E7_jO7eTBRYUnzYqUXWzcHlfLdLyeQpPXVjAisv5-rPotkQ_hUB0HynvhhE4jz3ghuw\n"
     ]
    },
    {
     "name": "stderr",
     "output_type": "stream",
     "text": [
      "\r",
      " 14%|██████                                    | 90/621 [01:48<06:41,  1.32it/s]"
     ]
    },
    {
     "name": "stdout",
     "output_type": "stream",
     "text": [
      "iaUjZr8B6BiHpb1nhR0D_Te0XGbtDQuSsvCPAX9jufd5NohJ0oiAOS2g6n8mRPgYA7WlRvhghn0a5A\n"
     ]
    },
    {
     "name": "stderr",
     "output_type": "stream",
     "text": [
      "\r",
      " 15%|██████▏                                   | 91/621 [01:49<06:25,  1.37it/s]"
     ]
    },
    {
     "name": "stdout",
     "output_type": "stream",
     "text": [
      "jyDZYqW-UXk7lK9KVaYDC_v7pip9HyZyavHOQIHDmzuzRcsiBXKZfhCHqLVNmtsagtLvf1tCh_WIVg\n"
     ]
    },
    {
     "name": "stderr",
     "output_type": "stream",
     "text": [
      "\r",
      " 15%|██████▏                                   | 92/621 [01:49<05:18,  1.66it/s]"
     ]
    },
    {
     "name": "stdout",
     "output_type": "stream",
     "text": [
      "FDPBj7mg9ZGjIhDtPT5J4HzisRih-NlQ5iTqhom8FofJ-jNNAYiIbQE_EAuz_Nd4jX2IsYsXFumZcw\n"
     ]
    },
    {
     "name": "stderr",
     "output_type": "stream",
     "text": [
      "\r",
      " 15%|██████▎                                   | 93/621 [01:50<04:46,  1.84it/s]"
     ]
    },
    {
     "name": "stdout",
     "output_type": "stream",
     "text": [
      "BeU4yY28KEx48wTjYeygFKBSLLI2R2JwtbngkG0r3C4oJ8VzzgQFOSkvq8dFsPCbPEOsjaXWpSNkAA\n"
     ]
    },
    {
     "name": "stderr",
     "output_type": "stream",
     "text": [
      "\r",
      " 15%|██████▎                                   | 94/621 [01:50<05:14,  1.68it/s]"
     ]
    },
    {
     "name": "stdout",
     "output_type": "stream",
     "text": [
      "12hf9e_JkODdoAPKqtwYhpX2tcy788Yf446-E7NXNHJ9T5KjJDLvh36X-P3brCF9KBTfTgt6v-CbMA\n"
     ]
    },
    {
     "name": "stderr",
     "output_type": "stream",
     "text": [
      "\r",
      " 15%|██████▍                                   | 95/621 [01:51<05:16,  1.66it/s]"
     ]
    },
    {
     "name": "stdout",
     "output_type": "stream",
     "text": [
      "LsM0079m3JEkconiFrqmTRWpJGewq6uzswuhcRAKe-6SdRMwLt8M1AyOoDUxzyir3dGoycxeBpDc4Q\n"
     ]
    },
    {
     "name": "stderr",
     "output_type": "stream",
     "text": [
      "\r",
      " 15%|██████▍                                   | 96/621 [01:51<04:29,  1.95it/s]"
     ]
    },
    {
     "name": "stdout",
     "output_type": "stream",
     "text": [
      "nXsytxI9sgEA6DLqpRngOHNR6W3Dew13zOYwpzOKF9UyjYhQI6LjoReuLWtvVF-EOimRrYmZspOscQ\n"
     ]
    },
    {
     "name": "stderr",
     "output_type": "stream",
     "text": [
      "\r",
      " 16%|██████▌                                   | 97/621 [01:52<05:01,  1.74it/s]"
     ]
    },
    {
     "name": "stdout",
     "output_type": "stream",
     "text": [
      "199ZUCo2R7bT0bZBwlcc_Th6rbSed9qp3MFYcqjzjZ45JwFVClSR99WNpRqfJVOmelbtFAI1tXFFnA\n"
     ]
    },
    {
     "name": "stderr",
     "output_type": "stream",
     "text": [
      "\r",
      " 16%|██████▋                                   | 98/621 [01:52<04:18,  2.03it/s]"
     ]
    },
    {
     "name": "stdout",
     "output_type": "stream",
     "text": [
      "JKTSnTiNhSMKgPATo9rfNyPQxTvgp5SF62pWXS6IAjhFy379F1TuZUoC1DmxcMVE-MXr1BLLKgaiXw\n"
     ]
    },
    {
     "name": "stderr",
     "output_type": "stream",
     "text": [
      "\r",
      " 16%|██████▋                                   | 99/621 [01:53<04:52,  1.78it/s]"
     ]
    },
    {
     "name": "stdout",
     "output_type": "stream",
     "text": [
      "9sBzTpQEOq0EBkRYjnbf_HF-OPn1hijj4qIGiClBH3hz3m7bn8bvhzfh-Dbc9lwQTS2xgbu2FTp0Lg\n"
     ]
    },
    {
     "name": "stderr",
     "output_type": "stream",
     "text": [
      "\r",
      " 16%|██████▌                                  | 100/621 [01:53<04:10,  2.08it/s]"
     ]
    },
    {
     "name": "stdout",
     "output_type": "stream",
     "text": [
      "9lbeE4LcBqo5yi3itkQ0g5dLA3qXlaidV1CCxgmYqlJaxUz6iJ8XKTwEaxaS-2Np7QZGRMTQ0-A1sg\n",
      "api cost full : infinite loop start\n",
      "loop location :  vwp8EMjsay7-ijWBnf_JTU4CWBFd1ak0SGH8AL15qBg49G8\n",
      "try 10 second wait time\n",
      "429\n",
      "try 10 second wait time\n",
      "429\n",
      "try 10 second wait time\n",
      "429\n",
      "try 10 second wait time\n",
      "429\n",
      "try 10 second wait time\n",
      "429\n",
      "try 10 second wait time\n",
      "429\n",
      "try 10 second wait time\n"
     ]
    },
    {
     "name": "stderr",
     "output_type": "stream",
     "text": [
      "\r",
      " 16%|██████▎                                | 101/621 [03:07<3:14:12, 22.41s/it]"
     ]
    },
    {
     "name": "stdout",
     "output_type": "stream",
     "text": [
      "200\n",
      "total wait time :  72.63675427436829\n",
      "recovery api cost\n",
      "l6Vf6fyqRLEge-8PWvy-mXxYbbB09B_SW5TXrfNMVcwXI9GO2aNtJNQo4z1NmF7o1xRe4SPmUmX0XA\n"
     ]
    },
    {
     "name": "stderr",
     "output_type": "stream",
     "text": [
      "\r",
      " 16%|██████▍                                | 102/621 [03:07<2:16:27, 15.78s/it]"
     ]
    },
    {
     "name": "stdout",
     "output_type": "stream",
     "text": [
      "WSEuq7-GfKATZzyPTv-jGW45xYZJtwLG9yzlvokBeH-r7hKnm6efWSQrnHVqFbUO6LX5mjcy0dUyDA\n"
     ]
    },
    {
     "name": "stderr",
     "output_type": "stream",
     "text": [
      "\r",
      " 17%|██████▍                                | 103/621 [03:08<1:36:51, 11.22s/it]"
     ]
    },
    {
     "name": "stdout",
     "output_type": "stream",
     "text": [
      "M4Op_a70C2Zf7wGBOvfZkhHACRpeU1sPSwyamO-bI-gNjcXb8CCgjDCkzXK5bj1eI4jY7xMG7ydr4Q\n"
     ]
    },
    {
     "name": "stderr",
     "output_type": "stream",
     "text": [
      "\r",
      " 17%|██████▌                                | 104/621 [03:08<1:08:24,  7.94s/it]"
     ]
    },
    {
     "name": "stdout",
     "output_type": "stream",
     "text": [
      "53sCbe8tKeH1TkAolH3R4LrkJGOMGhRRxxBJQA19rIScc1A2raZMuY_G9uxG2G6rAiq5RcApYU4KLA\n"
     ]
    },
    {
     "name": "stderr",
     "output_type": "stream",
     "text": [
      "\r",
      " 17%|██████▉                                  | 105/621 [03:08<48:47,  5.67s/it]"
     ]
    },
    {
     "name": "stdout",
     "output_type": "stream",
     "text": [
      "CXCUxW94odh9TBDCBu1rHsMANlNTQFBhqqrUcjueE_PQOkJPgUmnC9yADiK-03QDJgB-EHMG6sd60w\n"
     ]
    },
    {
     "name": "stderr",
     "output_type": "stream",
     "text": [
      "\r",
      " 17%|██████▉                                  | 106/621 [03:10<37:05,  4.32s/it]"
     ]
    },
    {
     "name": "stdout",
     "output_type": "stream",
     "text": [
      "4o7HO-vBPZAxuYO3xiAtajTInM7AfCcVGzCQtsm9m8nAm0qeVwlbfgZi45K9dNMK7sju0OMo0ep0yA\n"
     ]
    },
    {
     "name": "stderr",
     "output_type": "stream",
     "text": [
      "\r",
      " 17%|███████                                  | 107/621 [03:11<28:32,  3.33s/it]"
     ]
    },
    {
     "name": "stdout",
     "output_type": "stream",
     "text": [
      "BMnWzEvjfFZVBaXAOr90F5RIlAtK3XGuG96bm9kldJ94Wt5q4f26GPRAmkFlTrq0LxzYEg_xuo_R6A\n"
     ]
    },
    {
     "name": "stderr",
     "output_type": "stream",
     "text": [
      "\r",
      " 17%|███████▏                                 | 108/621 [03:11<21:01,  2.46s/it]"
     ]
    },
    {
     "name": "stdout",
     "output_type": "stream",
     "text": [
      "TYOY_r87aaUAdGiw53cFyhl4DMDwnw68rRdkxOQdZ5VwC5A2ly7lZw4xFbVVwZcMw4losxj3iJosOw\n"
     ]
    },
    {
     "name": "stderr",
     "output_type": "stream",
     "text": [
      "\r",
      " 18%|███████▏                                 | 109/621 [03:11<15:30,  1.82s/it]"
     ]
    },
    {
     "name": "stdout",
     "output_type": "stream",
     "text": [
      "WKBQw3mxDGXqlR7DcOQ96yNhCFpazLXbdzWjNa-ljBDohbOiGZOuE0LIbycbofuRGYuD1OFUV7yKUg\n"
     ]
    },
    {
     "name": "stderr",
     "output_type": "stream",
     "text": [
      "\r",
      " 18%|███████▎                                 | 110/621 [03:12<11:36,  1.36s/it]"
     ]
    },
    {
     "name": "stdout",
     "output_type": "stream",
     "text": [
      "HEywFYxa-6cWfxZ4Nit_xHss31MvvvEreFi38K6ITMZBrsKq_QSQTB-bI0CNaFhTgJ19_fa8j81dyQ\n"
     ]
    },
    {
     "name": "stderr",
     "output_type": "stream",
     "text": [
      "\r",
      " 18%|███████▎                                 | 111/621 [03:12<10:06,  1.19s/it]"
     ]
    },
    {
     "name": "stdout",
     "output_type": "stream",
     "text": [
      "WzgPd-tF_iVjtiDfQ3kixb4a_gozuTYc_OR3LVWaBpW4yqEC7utqPCzWbOyXKNxh6PIiElW3S9UBRg\n"
     ]
    },
    {
     "name": "stderr",
     "output_type": "stream",
     "text": [
      "\r",
      " 18%|███████▍                                 | 112/621 [03:13<09:03,  1.07s/it]"
     ]
    },
    {
     "name": "stdout",
     "output_type": "stream",
     "text": [
      "ZeXqClILrHfJsl56NWD0biWEe6H3uUkYnxNP4vvLe_RiP3bYkEydy0RK_6qX6gk345re3XPHK5wV4w\n"
     ]
    },
    {
     "name": "stderr",
     "output_type": "stream",
     "text": [
      "\r",
      " 18%|███████▍                                 | 113/621 [03:14<09:03,  1.07s/it]"
     ]
    },
    {
     "name": "stdout",
     "output_type": "stream",
     "text": [
      "rayFGuvGFCW5PCuDSty1xfZKIMG0ZvEnNBJDVQrRYQufchza87_mNvz5OGEslV-E9ugHwPAiyx1oaQ\n"
     ]
    },
    {
     "name": "stderr",
     "output_type": "stream",
     "text": [
      "\r",
      " 18%|███████▌                                 | 114/621 [03:15<08:24,  1.01it/s]"
     ]
    },
    {
     "name": "stdout",
     "output_type": "stream",
     "text": [
      "Km66gSiZOgXwBmkz-aSr5jgr0MyTThUb-qZMwhsEbBvlsgFb7xb-_rRKZEMSLbEYardiYURKHp8qcA\n"
     ]
    },
    {
     "name": "stderr",
     "output_type": "stream",
     "text": [
      "\r",
      " 19%|███████▌                                 | 115/621 [03:16<07:04,  1.19it/s]"
     ]
    },
    {
     "name": "stdout",
     "output_type": "stream",
     "text": [
      "wh2IZqbol_ReaZf12daELhst_TRrqF3DbuKuMhq-LkHcmhHaW7EHRwgRK-sGEdD1F7f-j8CUsL4sAw\n"
     ]
    },
    {
     "name": "stderr",
     "output_type": "stream",
     "text": [
      "\r",
      " 19%|███████▋                                 | 116/621 [03:16<05:40,  1.48it/s]"
     ]
    },
    {
     "name": "stdout",
     "output_type": "stream",
     "text": [
      "vRm2Tu4O36v0PWDl8WHo8KdY9LtkRYzWBYyxSC1TB65CxZU07X3ScJ_EMV7HaWoowFhXASMmldp_cw\n"
     ]
    },
    {
     "name": "stderr",
     "output_type": "stream",
     "text": [
      "\r",
      " 19%|███████▋                                 | 117/621 [03:17<05:38,  1.49it/s]"
     ]
    },
    {
     "name": "stdout",
     "output_type": "stream",
     "text": [
      "05IjQfdmMiEd6a5Pq0DuQrRvSih-Vykc-2RcnYYbkrOBbwyhk468U08ot1Vzj_aY-WCOEpky6mYWLg\n"
     ]
    },
    {
     "name": "stderr",
     "output_type": "stream",
     "text": [
      "\r",
      " 19%|███████▊                                 | 118/621 [03:17<05:29,  1.53it/s]"
     ]
    },
    {
     "name": "stdout",
     "output_type": "stream",
     "text": [
      "hVg12Dp-elwOh_vn8g8kIh_-BVqPrCVX9E4LZP5LNtLcQjTWBLNrmJ1XSHGsi3dpId69O93RCo4V6Q\n"
     ]
    },
    {
     "name": "stderr",
     "output_type": "stream",
     "text": [
      "\r",
      " 19%|███████▊                                 | 119/621 [03:18<05:52,  1.42it/s]"
     ]
    },
    {
     "name": "stdout",
     "output_type": "stream",
     "text": [
      "qggn2r8ra506wJoXQH6WBEtWRS3gSgRBqusck0juiB283n5o8fS0qMDYI4imuQLeYvTWOujQmIo59A\n"
     ]
    },
    {
     "name": "stderr",
     "output_type": "stream",
     "text": [
      "\r",
      " 19%|███████▉                                 | 120/621 [03:18<04:50,  1.72it/s]"
     ]
    },
    {
     "name": "stdout",
     "output_type": "stream",
     "text": [
      "0aViV6EZUd6ZTkVF96Gv_SPrkX4STy9uHXjH56uAPKwUfOrLuUoy6CYdhF_28fwtckZE3VqFy13CmQ\n"
     ]
    },
    {
     "name": "stderr",
     "output_type": "stream",
     "text": [
      "\r",
      " 19%|███████▉                                 | 121/621 [03:19<04:06,  2.03it/s]"
     ]
    },
    {
     "name": "stdout",
     "output_type": "stream",
     "text": [
      "DB2RjBdAQkK2GgNP5k6UpPXUW338mBk62EB2auhpW_GVbT12Bw0YJb5ln9CpGt7gjU4IycUx9NYtkA\n"
     ]
    },
    {
     "name": "stderr",
     "output_type": "stream",
     "text": [
      "\r",
      " 20%|████████                                 | 122/621 [03:19<04:29,  1.85it/s]"
     ]
    },
    {
     "name": "stdout",
     "output_type": "stream",
     "text": [
      "-DNtFTdB4sZLNf5fLkgcgoXGXuM22Wv_Vjr3P8mt81syJj4sbYGppPgR-XxQ6HdFLlzuLt_cEsy_FA\n"
     ]
    },
    {
     "name": "stderr",
     "output_type": "stream",
     "text": [
      "\r",
      " 20%|████████                                 | 123/621 [03:20<03:58,  2.09it/s]"
     ]
    },
    {
     "name": "stdout",
     "output_type": "stream",
     "text": [
      "m7oo76VEE4oRkTV9Kk1MJe8r0pjhN97Nx-Ba0gfQlF_a-RoNml70efU6-UnyJhhluuXYYNfyyHzLrA\n"
     ]
    },
    {
     "name": "stderr",
     "output_type": "stream",
     "text": [
      "\r",
      " 20%|████████▏                                | 124/621 [03:20<04:29,  1.84it/s]"
     ]
    },
    {
     "name": "stdout",
     "output_type": "stream",
     "text": [
      "3lVHe8hvqgJQIaipU3LBKd9CBiUxAc6PqBH0C2LdCluNe92r6Svu1uSNFYhf3PFgaJmlg6ZuEaalxg\n"
     ]
    },
    {
     "name": "stderr",
     "output_type": "stream",
     "text": [
      "\r",
      " 20%|████████▎                                | 125/621 [03:21<04:00,  2.06it/s]"
     ]
    },
    {
     "name": "stdout",
     "output_type": "stream",
     "text": [
      "o30dpEZr0AFS9Ga1S1HHJ4Xd9J-1qN4d4XvUOGnwDrCOPKcfX7aLFj5Z08CscOzR9TLHju4rEL-jmA\n"
     ]
    },
    {
     "name": "stderr",
     "output_type": "stream",
     "text": [
      "\r",
      " 20%|████████▎                                | 126/621 [03:21<03:42,  2.22it/s]"
     ]
    },
    {
     "name": "stdout",
     "output_type": "stream",
     "text": [
      "xgNd78VMVg_VI5JFUNZXlp5vt9HZ0wrYBEQqyQzJYW5xzvJ8TWy2P5JrITkcruujvMUcE3mCpwtjWw\n"
     ]
    },
    {
     "name": "stderr",
     "output_type": "stream",
     "text": [
      "\r",
      " 20%|████████▍                                | 127/621 [03:21<03:20,  2.46it/s]"
     ]
    },
    {
     "name": "stdout",
     "output_type": "stream",
     "text": [
      "WHCBCCayQYLAWFE_VMMRQ3I6XN6fugiyyGXAtdRkK3X7cp-0ouAzfkH-rOujDXepOZ5Q837AP1g9Fw\n"
     ]
    },
    {
     "name": "stderr",
     "output_type": "stream",
     "text": [
      "\r",
      " 21%|████████▍                                | 128/621 [03:22<03:08,  2.61it/s]"
     ]
    },
    {
     "name": "stdout",
     "output_type": "stream",
     "text": [
      "txfNs6gknu6ac5Pm0NjnHXoTNG2VR3nRpfm2dPzPJ439aN3g4tvtRZ3SLYQ3r2LlGM5M-ThIZIBLzA\n"
     ]
    },
    {
     "name": "stderr",
     "output_type": "stream",
     "text": [
      "\r",
      " 21%|████████▌                                | 129/621 [03:22<03:54,  2.10it/s]"
     ]
    },
    {
     "name": "stdout",
     "output_type": "stream",
     "text": [
      "OuCz9BX0oyF-YB-Jdnb3Ze9XsWFS7d-GI_VYMZ0wmMLMYwhbzQYnK7KEx7YY2PvsApYDrBskOFoXzw\n"
     ]
    },
    {
     "name": "stderr",
     "output_type": "stream",
     "text": [
      "\r",
      " 21%|████████▌                                | 130/621 [03:23<03:30,  2.34it/s]"
     ]
    },
    {
     "name": "stdout",
     "output_type": "stream",
     "text": [
      "4rHr7x3xGzGMe_l1p4wHQwR0CdPNROl-BtrG6vCV6fXiGGuXFCtNOgFbiLIiTxOyGREn__ooCe8iyQ\n"
     ]
    },
    {
     "name": "stderr",
     "output_type": "stream",
     "text": [
      "\r",
      " 21%|████████▋                                | 131/621 [03:23<04:30,  1.81it/s]"
     ]
    },
    {
     "name": "stdout",
     "output_type": "stream",
     "text": [
      "Pv0O7T62Pb0BhGgjMakhMHUpNPebG_vaDKGEDCdsf24ITZfeTzDVXibmKh33JxCPP5UwUbP_Mm3VwA\n"
     ]
    },
    {
     "name": "stderr",
     "output_type": "stream",
     "text": [
      "\r",
      " 21%|████████▋                                | 132/621 [03:24<03:59,  2.05it/s]"
     ]
    },
    {
     "name": "stdout",
     "output_type": "stream",
     "text": [
      "uT2hPhC4NOwFfHfEKOIPJyu3DKttsvJQelRkVD-rs8y1ixZCp2-5c3u-ldnjRqANEkstMu7UY1hEvQ\n"
     ]
    },
    {
     "name": "stderr",
     "output_type": "stream",
     "text": [
      "\r",
      " 21%|████████▊                                | 133/621 [03:24<03:31,  2.31it/s]"
     ]
    },
    {
     "name": "stdout",
     "output_type": "stream",
     "text": [
      "gCYuOoiwRVMGUSbgYO1LDEH9FL2D9PDWcuwoO9H58hTFyTzPtLmx7bSgLdFyIf_GDvumUSu6qvnaMg\n"
     ]
    },
    {
     "name": "stderr",
     "output_type": "stream",
     "text": [
      "\r",
      " 22%|████████▊                                | 134/621 [03:25<03:34,  2.27it/s]"
     ]
    },
    {
     "name": "stdout",
     "output_type": "stream",
     "text": [
      "FKU2Zke_Q5E_lI8v21RIxkUBS7LyyEXEFHnwifH2f6dNxdv3cbvOGbcx6PwBscxMugNmn6D4HpnzHg\n"
     ]
    },
    {
     "name": "stderr",
     "output_type": "stream",
     "text": [
      "\r",
      " 22%|████████▉                                | 135/621 [03:25<03:13,  2.51it/s]"
     ]
    },
    {
     "name": "stdout",
     "output_type": "stream",
     "text": [
      "BF7j2R1KUFf5vs_K8-oQ_jxaP1YegUQ_bIXVQR1wIlLOQ6fe38Rv77Mwu-dZhJDB_wLZA6hDkfgc7w\n"
     ]
    },
    {
     "name": "stderr",
     "output_type": "stream",
     "text": [
      "\r",
      " 22%|████████▉                                | 136/621 [03:25<02:58,  2.72it/s]"
     ]
    },
    {
     "name": "stdout",
     "output_type": "stream",
     "text": [
      "GxViGbtz7w5a018voIv91eLqtFIc3xVh2RSlfHc_01tZsaM2rYYm_g2MqpwCkNnxcEHhW9CVQoeRoA\n"
     ]
    },
    {
     "name": "stderr",
     "output_type": "stream",
     "text": [
      "\r",
      " 22%|█████████                                | 137/621 [03:25<02:48,  2.88it/s]"
     ]
    },
    {
     "name": "stdout",
     "output_type": "stream",
     "text": [
      "DQVMzC9DBsHyOP-X23UIkTv3M4o1jLHLef4GneDeBlm1rghZXs63HEbjQ4xSxvA7kZIA1MHk32SwXA\n"
     ]
    },
    {
     "name": "stderr",
     "output_type": "stream",
     "text": [
      "\r",
      " 22%|█████████                                | 138/621 [03:26<02:40,  3.01it/s]"
     ]
    },
    {
     "name": "stdout",
     "output_type": "stream",
     "text": [
      "YCdzHOB31NjLDhQvb9BR0lF1Ach17hBK9eGFZ9USk6Ukr-xiDxFOtRtHiKZvsECmb2ct0gm-1OgqUw\n"
     ]
    },
    {
     "name": "stderr",
     "output_type": "stream",
     "text": [
      "\r",
      " 22%|█████████▏                               | 139/621 [03:26<02:42,  2.97it/s]"
     ]
    },
    {
     "name": "stdout",
     "output_type": "stream",
     "text": [
      "w266eI7nBD4i-7dnJyMmgwJcCgAkYlqxd5iuFUpub6YPA4p6GqWd9U065C_6i1rVYSa5uaX5uh92UQ\n"
     ]
    },
    {
     "name": "stderr",
     "output_type": "stream",
     "text": [
      "\r",
      " 23%|█████████▏                               | 140/621 [03:26<02:36,  3.08it/s]"
     ]
    },
    {
     "name": "stdout",
     "output_type": "stream",
     "text": [
      "UFwm54DtcRdhAngcr0vD-iFlrc5BLoBwFMnWnLlgr03ety4FQz3qr07GLOStwmq4d_vmwcW8sjZCFA\n"
     ]
    },
    {
     "name": "stderr",
     "output_type": "stream",
     "text": [
      "\r",
      " 23%|█████████▎                               | 141/621 [03:27<03:17,  2.43it/s]"
     ]
    },
    {
     "name": "stdout",
     "output_type": "stream",
     "text": [
      "Q9modomoJNEgHrXvoJ87W4g0j6ZhVcitEbAta4DGlmmg6Y0nwbCFaUHqSecXym_CazxDfbLC5QMZWw\n"
     ]
    },
    {
     "name": "stderr",
     "output_type": "stream",
     "text": [
      "\r",
      " 23%|█████████▍                               | 142/621 [03:27<03:25,  2.33it/s]"
     ]
    },
    {
     "name": "stdout",
     "output_type": "stream",
     "text": [
      "7kdUyTbKS2dslI93RWvf69KXfpzJMo9-2tL7s_zJu14UP-WOoP_secC03g5paGi2e9GOO1BV3qoung\n"
     ]
    },
    {
     "name": "stderr",
     "output_type": "stream",
     "text": [
      "\r",
      " 23%|█████████▍                               | 143/621 [03:28<04:41,  1.70it/s]"
     ]
    },
    {
     "name": "stdout",
     "output_type": "stream",
     "text": [
      "RUtnepoijVeBI1yrG2UNN_CXpoWSmpgbyDN5i92yqrGeDjDFsyxxTXaiGQelc78_qnkxBS_ESsiXyA\n"
     ]
    },
    {
     "name": "stderr",
     "output_type": "stream",
     "text": [
      "\r",
      " 23%|█████████▌                               | 144/621 [03:29<05:14,  1.52it/s]"
     ]
    },
    {
     "name": "stdout",
     "output_type": "stream",
     "text": [
      "vUcPoIl1IURD1j79egfJ6galK2UKZH77uOCv3AuWb1uq2s_H5wUXETQRxgh3PS29Z2dccLhvhLg7nw\n"
     ]
    },
    {
     "name": "stderr",
     "output_type": "stream",
     "text": [
      "\r",
      " 23%|█████████▌                               | 145/621 [03:30<04:27,  1.78it/s]"
     ]
    },
    {
     "name": "stdout",
     "output_type": "stream",
     "text": [
      "_C88EvJQ_oQRdC5Jie3EOM1VXHC0JwG01j2yxz1J75UtjrNHG38BxPJrLTopEUp_gRBH__MBz_gzBA\n"
     ]
    },
    {
     "name": "stderr",
     "output_type": "stream",
     "text": [
      "\r",
      " 24%|█████████▋                               | 146/621 [03:30<04:44,  1.67it/s]"
     ]
    },
    {
     "name": "stdout",
     "output_type": "stream",
     "text": [
      "dbisYzhJ_-HaSPbcMFK32MroopBJScS3xWwQlAkHrxNO0L3usp1XTbmxmgdSG56jO9QhK2aDMLQM8g\n"
     ]
    },
    {
     "name": "stderr",
     "output_type": "stream",
     "text": [
      "\r",
      " 24%|█████████▋                               | 147/621 [03:31<04:46,  1.66it/s]"
     ]
    },
    {
     "name": "stdout",
     "output_type": "stream",
     "text": [
      "CZB_MYd0ErVNV-aw8PAztKiU_U4nEHwzaLopBW_2QjMjP_Y8or8LVtkMSI7o7sNvDPFma9CMWNeWjg\n"
     ]
    },
    {
     "name": "stderr",
     "output_type": "stream",
     "text": [
      "\r",
      " 24%|█████████▊                               | 148/621 [03:31<04:17,  1.84it/s]"
     ]
    },
    {
     "name": "stdout",
     "output_type": "stream",
     "text": [
      "ZEKCy6QtcQDIOlukJIFXWC_TxhrTFGCYEPyMH9COjI0DIUAZoQkHq1X2jDYz6M1GKdEK74a4WTgH4w\n"
     ]
    },
    {
     "name": "stderr",
     "output_type": "stream",
     "text": [
      "\r",
      " 24%|█████████▊                               | 149/621 [03:32<04:04,  1.93it/s]"
     ]
    },
    {
     "name": "stdout",
     "output_type": "stream",
     "text": [
      "GyZm1fT8vnSgs-GMwt6jGJ0aH8Cq_A8r3qqCeaNzSTYUPtIBoNn-C8Vm_6vDbAb6gdBFzWfM8wXuuw\n"
     ]
    },
    {
     "name": "stderr",
     "output_type": "stream",
     "text": [
      "\r",
      " 24%|█████████▉                               | 150/621 [03:32<03:45,  2.09it/s]"
     ]
    },
    {
     "name": "stdout",
     "output_type": "stream",
     "text": [
      "Aleg3xrJvxdyoRBVF_Y6STeZ2M1JlqnF0XL5knqqbRc4HKyXxssB3dGlAbCuoX6H7njdt10zV3zWAg\n"
     ]
    },
    {
     "name": "stderr",
     "output_type": "stream",
     "text": [
      "\r",
      " 24%|█████████▉                               | 151/621 [03:32<03:20,  2.35it/s]"
     ]
    },
    {
     "name": "stdout",
     "output_type": "stream",
     "text": [
      "wQtCGt82r-PcDYwE07RSzfsqOslvvfi9qOdCFu5SAJC_sXD-N2pRz3uyaHPBj2adga8SIeAU3MVWRQ\n"
     ]
    },
    {
     "name": "stderr",
     "output_type": "stream",
     "text": [
      "\r",
      " 24%|██████████                               | 152/621 [03:33<03:05,  2.53it/s]"
     ]
    },
    {
     "name": "stdout",
     "output_type": "stream",
     "text": [
      "2_p822APkoRREv_lOczZlfw3XXsuGa6ssMe7NVpPnRSipevha0rDQRYLTfFIn053N3C-mT7Y0oQuZg\n"
     ]
    },
    {
     "name": "stderr",
     "output_type": "stream",
     "text": [
      "\r",
      " 25%|██████████                               | 153/621 [03:33<02:52,  2.72it/s]"
     ]
    },
    {
     "name": "stdout",
     "output_type": "stream",
     "text": [
      "U7X034nhTKZFWQOcspmO4Aky4SRpsSdX8SBZiwcylKD9KIAFzgOFsRj4tYPevG7eyzqEAZ64PclY_A\n"
     ]
    },
    {
     "name": "stderr",
     "output_type": "stream",
     "text": [
      "\r",
      " 25%|██████████▏                              | 154/621 [03:34<03:04,  2.54it/s]"
     ]
    },
    {
     "name": "stdout",
     "output_type": "stream",
     "text": [
      "ua8wT2aD5fSXDV8pFe9m71AJXMujt5Y7fIQsUXPstfm4zMxIa0hHdEzSrJWkPqM5GoRG3bqz28jI_w\n"
     ]
    },
    {
     "name": "stderr",
     "output_type": "stream",
     "text": [
      "\r",
      " 25%|██████████▏                              | 155/621 [03:34<03:00,  2.59it/s]"
     ]
    },
    {
     "name": "stdout",
     "output_type": "stream",
     "text": [
      "T9ca3U0soynJh90saxLCW7k3Q3xiauWtkTMQ6e6JJwgWoMcToc8eaPXWJluJNG7GjpkwyYbiarco2Q\n"
     ]
    },
    {
     "name": "stderr",
     "output_type": "stream",
     "text": [
      "\r",
      " 25%|██████████▎                              | 156/621 [03:34<02:46,  2.80it/s]"
     ]
    },
    {
     "name": "stdout",
     "output_type": "stream",
     "text": [
      "rDZkY-nyqd6lMI9vWMXUJXcHMmNN1d37dE4mWFa_MofEPtrBYFtnTX3bqqz5WYrRpZTyZE2sl6ut3Q\n"
     ]
    },
    {
     "name": "stderr",
     "output_type": "stream",
     "text": [
      "\r",
      " 25%|██████████▎                              | 157/621 [03:35<02:38,  2.93it/s]"
     ]
    },
    {
     "name": "stdout",
     "output_type": "stream",
     "text": [
      "_hrq8HAh_ePPmdWEngDD0BP8955hvx2JFrpVlYfRdFVvxuKFKtxWSoXDKv7V92rbti4rrnSs52WZkw\n"
     ]
    },
    {
     "name": "stderr",
     "output_type": "stream",
     "text": [
      "\r",
      " 25%|██████████▍                              | 158/621 [03:35<02:34,  3.00it/s]"
     ]
    },
    {
     "name": "stdout",
     "output_type": "stream",
     "text": [
      "yV3O0yc9Juvnoyy542VL3Qib4b-2eN7KAOJzyRBgAV4X1NhPo_w-svza6ItpyPu4YPb9GrLObritsQ\n"
     ]
    },
    {
     "name": "stderr",
     "output_type": "stream",
     "text": [
      "\r",
      " 26%|██████████▍                              | 159/621 [03:35<03:09,  2.44it/s]"
     ]
    },
    {
     "name": "stdout",
     "output_type": "stream",
     "text": [
      "wS5kR34HButdaJr9oeIqzGbyWE2OaBmvzcbLDeoI6rV1sQrigmbYQ2_DAv8f0EyJik-aFey1W16H7Q\n"
     ]
    },
    {
     "name": "stderr",
     "output_type": "stream",
     "text": [
      "\r",
      " 26%|██████████▌                              | 160/621 [03:36<02:55,  2.63it/s]"
     ]
    },
    {
     "name": "stdout",
     "output_type": "stream",
     "text": [
      "tWMLgyV21ROTLOIOCBOAOAizNaDb4RPwmCxPIFL-4qqo0mTiKdA1RH3QEyKtawUthlf5HKmslHul9Q\n"
     ]
    },
    {
     "name": "stderr",
     "output_type": "stream",
     "text": [
      "\r",
      " 26%|██████████▋                              | 161/621 [03:36<02:44,  2.80it/s]"
     ]
    },
    {
     "name": "stdout",
     "output_type": "stream",
     "text": [
      "uMvA1IASHJ5IyKdSZ1omTAqpZ3ROEQll6DzwNZp8D072UQrDcdH-ZSx1TDQu1A136cNHjhvesKBFAQ\n"
     ]
    },
    {
     "name": "stderr",
     "output_type": "stream",
     "text": [
      "\r",
      " 26%|██████████▋                              | 162/621 [03:36<02:36,  2.94it/s]"
     ]
    },
    {
     "name": "stdout",
     "output_type": "stream",
     "text": [
      "bHZ5IkHtnVUg2LotJaOQsVkdQzj47fzmVKnQGjFKWEZf03BrHjf-5ptSSNwJdhIjhtvqUSsDaAvAmQ\n"
     ]
    },
    {
     "name": "stderr",
     "output_type": "stream",
     "text": [
      "\r",
      " 26%|██████████▊                              | 163/621 [03:37<02:44,  2.78it/s]"
     ]
    },
    {
     "name": "stdout",
     "output_type": "stream",
     "text": [
      "-zzEe8AqOzgdAeEsQqYRScLEUhjmtJS67bAZCVkBXykRIxNxqPJ0Jo39-z6RWl4hRGJ6HAtAEhMDYg\n"
     ]
    },
    {
     "name": "stderr",
     "output_type": "stream",
     "text": [
      "\r",
      " 26%|██████████▊                              | 164/621 [03:37<02:35,  2.93it/s]"
     ]
    },
    {
     "name": "stdout",
     "output_type": "stream",
     "text": [
      "eBWV4wYmI8f3Pf-tUhMiPcl4sz2MkBEsFVuh5g520RlTULXNGaDEedtHaAALWdpD0UbJ1KcKVNjOug\n"
     ]
    },
    {
     "name": "stderr",
     "output_type": "stream",
     "text": [
      "\r",
      " 27%|██████████▉                              | 165/621 [03:37<02:34,  2.94it/s]"
     ]
    },
    {
     "name": "stdout",
     "output_type": "stream",
     "text": [
      "t6MPyupKaTBN9cfsifI5mABTbIvIvPd-nTUiBophbSmgl10mWS4l-QzhVZl6GgOhv1z_Bl-hbjaBZw\n"
     ]
    },
    {
     "name": "stderr",
     "output_type": "stream",
     "text": [
      "\r",
      " 27%|██████████▉                              | 166/621 [03:38<02:30,  3.02it/s]"
     ]
    },
    {
     "name": "stdout",
     "output_type": "stream",
     "text": [
      "7uVLy15J47NNeHBaY2ljSRxMhN6aoP8RcemvCQpO4y7pp72fjg9Lsg-ENDlt1zQt-sRRmbvHfvuyWA\n"
     ]
    },
    {
     "name": "stderr",
     "output_type": "stream",
     "text": [
      "\r",
      " 27%|███████████                              | 167/621 [03:38<02:26,  3.10it/s]"
     ]
    },
    {
     "name": "stdout",
     "output_type": "stream",
     "text": [
      "SRgik8TzoA_D6L3b11SxSfNq4Ge7eD9Z81D8iPmIKNFQPBVsLMcnFxpjJxrtl5Df2Wes1ekG4VKCfw\n"
     ]
    },
    {
     "name": "stderr",
     "output_type": "stream",
     "text": [
      "\r",
      " 27%|███████████                              | 168/621 [03:38<02:22,  3.17it/s]"
     ]
    },
    {
     "name": "stdout",
     "output_type": "stream",
     "text": [
      "X0cvhgQ224pg7M5ysWTuOxe-F33BnuBw_YxBAPL41-qXRG44WVoWIPJKPgGnkyfP0w3XEGunipURJQ\n"
     ]
    },
    {
     "name": "stderr",
     "output_type": "stream",
     "text": [
      "\r",
      " 27%|███████████▏                             | 169/621 [03:39<03:03,  2.46it/s]"
     ]
    },
    {
     "name": "stdout",
     "output_type": "stream",
     "text": [
      "84B-FBB-22Uumk6r-GCOTgIjReEwC42Ew6MGnX2q_EkdLcPvOakuGTSUAQsv50dHlm0nUPRGnL5qgg\n"
     ]
    },
    {
     "name": "stderr",
     "output_type": "stream",
     "text": [
      "\r",
      " 27%|███████████▏                             | 170/621 [03:40<03:59,  1.89it/s]"
     ]
    },
    {
     "name": "stdout",
     "output_type": "stream",
     "text": [
      "v85s7wGcPuZ6E1n62NX162m12X92JVVp4BXMYzbtYCw6KyZzyuOmFxYzhuCt6qaaXv025TxEKhguPQ\n"
     ]
    },
    {
     "name": "stderr",
     "output_type": "stream",
     "text": [
      "\r",
      " 28%|███████████▎                             | 171/621 [03:40<03:32,  2.12it/s]"
     ]
    },
    {
     "name": "stdout",
     "output_type": "stream",
     "text": [
      "D_WEnJq1WiD0_y7GCJgHQDToV8ubXJb3WjjjQveNDp9rHM1FHzG6wcK0djXnXGmJAGNqHdN3v2MYHQ\n"
     ]
    },
    {
     "name": "stderr",
     "output_type": "stream",
     "text": [
      "\r",
      " 28%|███████████▎                             | 172/621 [03:41<04:01,  1.86it/s]"
     ]
    },
    {
     "name": "stdout",
     "output_type": "stream",
     "text": [
      "T4VhhXKA-KtXxzA-LgpmSIOZqP_vkV0jkH6bpK5s9Vc3BJITwmRACXeIQftPHiyARYzBja54yTrLeg\n"
     ]
    },
    {
     "name": "stderr",
     "output_type": "stream",
     "text": [
      "\r",
      " 28%|███████████▍                             | 173/621 [03:42<04:38,  1.61it/s]"
     ]
    },
    {
     "name": "stdout",
     "output_type": "stream",
     "text": [
      "g4qUGgg4FkT6fo8O5xecf6az63JmvdLAD2-92mIaQfwdm1zCFV9LRg4ib-8-rjnukaZyYrcq5F1NEg\n"
     ]
    },
    {
     "name": "stderr",
     "output_type": "stream",
     "text": [
      "\r",
      " 28%|███████████▍                             | 174/621 [03:42<03:54,  1.90it/s]"
     ]
    },
    {
     "name": "stdout",
     "output_type": "stream",
     "text": [
      "aLe8ssQuURtTOojD0tsJcJoAEkT_MymQMR_XpWkclqqi3i2cCkd-1j3Focq07eUXoh4Umk_3xATGhg\n"
     ]
    },
    {
     "name": "stderr",
     "output_type": "stream",
     "text": [
      "\r",
      " 28%|███████████▌                             | 175/621 [03:43<04:20,  1.71it/s]"
     ]
    },
    {
     "name": "stdout",
     "output_type": "stream",
     "text": [
      "kZvuFBEYuGmwgcfxFvLRY2-tPUHtwua1aqxwMeIP_4yY0kFDbu0hWNAHAcRvRaic51dyQB1rKJj0cA\n"
     ]
    },
    {
     "name": "stderr",
     "output_type": "stream",
     "text": [
      "\r",
      " 28%|███████████▌                             | 176/621 [03:43<04:24,  1.68it/s]"
     ]
    },
    {
     "name": "stdout",
     "output_type": "stream",
     "text": [
      "jG09EKzBDzXt22cPhhtUPSrtLoW_lgkQSn4OOvXDSqvpE80lz4m2NN43zvqP8go1h3PHU5-oA5uQ4w\n"
     ]
    },
    {
     "name": "stderr",
     "output_type": "stream",
     "text": [
      "\r",
      " 29%|███████████▋                             | 177/621 [03:43<03:42,  1.99it/s]"
     ]
    },
    {
     "name": "stdout",
     "output_type": "stream",
     "text": [
      "CLCDJPpl6kiw78wWHZbk4_lLfzZhVf182naXZTXgbHHQ92xE4mJCI2b50nZO2l_bHyPk5v7ob5JHLw\n"
     ]
    },
    {
     "name": "stderr",
     "output_type": "stream",
     "text": [
      "\r",
      " 29%|███████████▊                             | 178/621 [03:44<04:13,  1.75it/s]"
     ]
    },
    {
     "name": "stdout",
     "output_type": "stream",
     "text": [
      "vNf2aFYw3v3EtsDuOJA07oWaQZoFSJ3eXf4ca41I40-46Uci0mtZrm75OTYZc9HGK5jYxJfwVOS2YA\n"
     ]
    },
    {
     "name": "stderr",
     "output_type": "stream",
     "text": [
      "\r",
      " 29%|███████████▊                             | 179/621 [03:45<03:37,  2.04it/s]"
     ]
    },
    {
     "name": "stdout",
     "output_type": "stream",
     "text": [
      "N9fxPuOPpSZYcWSO5QZonoygL6IbC5QfQ58db7-X77Fs6GfGRfVElg4RN1Ri8Xq-BcxwPKzz0nL-2w\n"
     ]
    },
    {
     "name": "stderr",
     "output_type": "stream",
     "text": [
      "\r",
      " 29%|███████████▉                             | 180/621 [03:45<04:07,  1.78it/s]"
     ]
    },
    {
     "name": "stdout",
     "output_type": "stream",
     "text": [
      "8lTu5RLgcqX6F8JcOtCetGjwfu3l1TFuZTgbiqAgYV90GSlI8JiY0fBHzdPg9g9XZpCz0fY9408vSw\n"
     ]
    },
    {
     "name": "stderr",
     "output_type": "stream",
     "text": [
      "\r",
      " 29%|███████████▉                             | 181/621 [03:47<06:01,  1.22it/s]"
     ]
    },
    {
     "name": "stdout",
     "output_type": "stream",
     "text": [
      "rQXRZrdZV2ao6Vv5PajdT_30lWn7apFu9RpneMyhYLqNfQfJKXgMkcxTP4OHX26sj2ibU6qwJ8hZHQ\n"
     ]
    },
    {
     "name": "stderr",
     "output_type": "stream",
     "text": [
      "\r",
      " 29%|████████████                             | 182/621 [03:47<04:51,  1.50it/s]"
     ]
    },
    {
     "name": "stdout",
     "output_type": "stream",
     "text": [
      "9zsP6abQt0DHPADFeaQRBpwPVrHNf2otWjWiU0E_m_q8lSgLP7nUDljsCNDbJYaqLGoZfcRAMyqAhA\n"
     ]
    },
    {
     "name": "stderr",
     "output_type": "stream",
     "text": [
      "\r",
      " 29%|████████████                             | 183/621 [03:48<05:53,  1.24it/s]"
     ]
    },
    {
     "name": "stdout",
     "output_type": "stream",
     "text": [
      "puAVEpdoaSqrSE_OlLkE1NDX_z7SFHGmTzXNlicB7CG7grSjM6lnpEILNGnV_qfif5kqTiLOt0qNUw\n"
     ]
    },
    {
     "name": "stderr",
     "output_type": "stream",
     "text": [
      "\r",
      " 30%|████████████▏                            | 184/621 [03:49<06:47,  1.07it/s]"
     ]
    },
    {
     "name": "stdout",
     "output_type": "stream",
     "text": [
      "i_ZNR6rHhkv2-Z6w4PI8xwQjnoF2EvT712bFJV99s75msu5my6IrKT8rFKpe4FElvbhMKB607JGSGA\n"
     ]
    },
    {
     "name": "stderr",
     "output_type": "stream",
     "text": [
      "\r",
      " 30%|████████████▏                            | 185/621 [03:51<07:25,  1.02s/it]"
     ]
    },
    {
     "name": "stdout",
     "output_type": "stream",
     "text": [
      "_KCTq94Z_5uNv78LL4LViWDYA-fm24SBfJ5FjSl6E-dgcOeJaDx705Oz1MkZHVyo0TxT6WAdfq28Cg\n"
     ]
    },
    {
     "name": "stderr",
     "output_type": "stream",
     "text": [
      "\r",
      " 30%|████████████▎                            | 186/621 [03:51<05:49,  1.25it/s]"
     ]
    },
    {
     "name": "stdout",
     "output_type": "stream",
     "text": [
      "sURlD0KJ4Dh6MY3vvp_ivuEtZS4YkmEa7BsG1ZtFbrxx6agpTyxwrxZt1zmzhWO73ZW9WXYocNNC2w\n"
     ]
    },
    {
     "name": "stderr",
     "output_type": "stream",
     "text": [
      "\r",
      " 30%|████████████▎                            | 187/621 [03:52<07:25,  1.03s/it]"
     ]
    },
    {
     "name": "stdout",
     "output_type": "stream",
     "text": [
      "navIFOiVihWtSU_-GPIzLkBSzm_P1IEeCRJpx_MQ27R8exwUKQCyDYJXdla_tQyRtwK7zA-HkvGwJA\n"
     ]
    },
    {
     "name": "stderr",
     "output_type": "stream",
     "text": [
      "\r",
      " 30%|████████████▍                            | 188/621 [03:53<05:57,  1.21it/s]"
     ]
    },
    {
     "name": "stdout",
     "output_type": "stream",
     "text": [
      "fCXIh6aGhQBQWAJpwp6lTmp3QVOATbMf6D24gmuU4HrUdxjw7Hd1tIRdO9dvMKBOvePxpX3VXF1ylQ\n"
     ]
    },
    {
     "name": "stderr",
     "output_type": "stream",
     "text": [
      "\r",
      " 30%|████████████▍                            | 189/621 [03:53<04:49,  1.49it/s]"
     ]
    },
    {
     "name": "stdout",
     "output_type": "stream",
     "text": [
      "rwJcCus0fBkVyH6uPeoqqqHVoUHPDNDNHRtR2R5OT6aJgQEgkOeDdzgSP-VSyOhwfy0D3ma9db51tQ\n"
     ]
    },
    {
     "name": "stderr",
     "output_type": "stream",
     "text": [
      "\r",
      " 31%|████████████▌                            | 190/621 [03:54<04:23,  1.64it/s]"
     ]
    },
    {
     "name": "stdout",
     "output_type": "stream",
     "text": [
      "4bHF8pHU5nfd-LvFX-AD00l5wokkE5vq7k7e6zXNAMBIY4WR4MCgbDtC-2YFCtpEO2GuW25nCzDnsg\n"
     ]
    },
    {
     "name": "stderr",
     "output_type": "stream",
     "text": [
      "\r",
      " 31%|████████████▌                            | 191/621 [03:54<03:46,  1.90it/s]"
     ]
    },
    {
     "name": "stdout",
     "output_type": "stream",
     "text": [
      "2dZIIEaP6Kk2M9hnfx3rssiUe5kk4N2lxwR3oC7PgIoTV6pR6YaUn13REeQiqWnU-_UjVbw48XwOkQ\n"
     ]
    },
    {
     "name": "stderr",
     "output_type": "stream",
     "text": [
      "\r",
      " 31%|████████████▋                            | 192/621 [03:55<05:12,  1.37it/s]"
     ]
    },
    {
     "name": "stdout",
     "output_type": "stream",
     "text": [
      "MNAX6cDGgCPyCH1PATePASMntV1vym2zA96OC3YKkS1yqGfjCm2FugmQNE2f0vx-Kg_gjWbwSDNEmg\n"
     ]
    },
    {
     "name": "stderr",
     "output_type": "stream",
     "text": [
      "\r",
      " 31%|████████████▋                            | 193/621 [03:57<06:42,  1.06it/s]"
     ]
    },
    {
     "name": "stdout",
     "output_type": "stream",
     "text": [
      "-ozE4eRF4n9eOykkfMnTP4UOfFOPozL6gzuhDR101mXeTvGhE3TfuS1wdU26bEJhGCOnk9_idr5A0g\n"
     ]
    },
    {
     "name": "stderr",
     "output_type": "stream",
     "text": [
      "\r",
      " 31%|████████████▊                            | 194/621 [03:58<06:51,  1.04it/s]"
     ]
    },
    {
     "name": "stdout",
     "output_type": "stream",
     "text": [
      "SO9IT3kkeldspCvvVfYTxXHe_S7m4SODnsJu4PUOjVUO-bboHdMf8zApDAYVP-iDIZQtM581ONtdrQ\n"
     ]
    },
    {
     "name": "stderr",
     "output_type": "stream",
     "text": [
      "\r",
      " 31%|████████████▊                            | 195/621 [03:58<06:32,  1.08it/s]"
     ]
    },
    {
     "name": "stdout",
     "output_type": "stream",
     "text": [
      "G4EsxEJqFSZZlk2wz5hVRk0Y3uDe1hOl2n0EcTP2xatSrkp1j3vFCowNeX9T-FEgS06JB3vrSPrh0Q\n"
     ]
    },
    {
     "name": "stderr",
     "output_type": "stream",
     "text": [
      "\r",
      " 32%|████████████▉                            | 196/621 [03:59<05:13,  1.36it/s]"
     ]
    },
    {
     "name": "stdout",
     "output_type": "stream",
     "text": [
      "6ORvSlOuRpP0vK7bJyv9iT1-X3ApXTG5oJzl9-PJz-yZJOsCtySzwPr4azklOGGOoe_WGIF_bhz3nw\n"
     ]
    },
    {
     "name": "stderr",
     "output_type": "stream",
     "text": [
      "\r",
      " 32%|█████████████                            | 197/621 [03:59<04:21,  1.62it/s]"
     ]
    },
    {
     "name": "stdout",
     "output_type": "stream",
     "text": [
      "hGHQahRcN0jV8Gv77tun-J_tzm0XG-7gWMHAajhqfAUCNzPSZD7jvWckZHN5hR3_9eunLUEPb8vS-w\n"
     ]
    },
    {
     "name": "stderr",
     "output_type": "stream",
     "text": [
      "\r",
      " 32%|█████████████                            | 198/621 [04:00<05:08,  1.37it/s]"
     ]
    },
    {
     "name": "stdout",
     "output_type": "stream",
     "text": [
      "1WWW3nJdW_7HqSW56UrJ8ChEN5veLzVGyT_YpesAmY_xfzcHIoZ9fV4Qpw3nvs21611IY_YfH_domg\n"
     ]
    },
    {
     "name": "stderr",
     "output_type": "stream",
     "text": [
      "\r",
      " 32%|█████████████▏                           | 199/621 [04:00<04:13,  1.66it/s]"
     ]
    },
    {
     "name": "stdout",
     "output_type": "stream",
     "text": [
      "2uPPOQenEiQQO7PdKAvJVCsNy6exfsbirHUp8czucWQfwvsTEO_I-5_b0fx948J_QqLvwUDHB6SRHQ\n"
     ]
    },
    {
     "name": "stderr",
     "output_type": "stream",
     "text": [
      "\r",
      " 32%|█████████████▏                           | 200/621 [04:01<03:36,  1.94it/s]"
     ]
    },
    {
     "name": "stdout",
     "output_type": "stream",
     "text": [
      "HexU1LwLxp2LHef0TTgQd0tPmfqDxiNsbC6JzkFAPdhI-lbbW1ZlCj8b4TGci79iOX6pTKHrNmmG1Q\n",
      "api cost full : infinite loop start\n",
      "loop location :  NOKolWYusEdKL9GZmgUl9r-jCqxwccviJksnfSD7HLzIdcj7\n",
      "try 10 second wait time\n",
      "429\n",
      "try 10 second wait time\n",
      "429\n",
      "try 10 second wait time\n",
      "429\n",
      "try 10 second wait time\n",
      "429\n",
      "try 10 second wait time\n",
      "429\n",
      "try 10 second wait time\n",
      "429\n",
      "try 10 second wait time\n"
     ]
    },
    {
     "name": "stderr",
     "output_type": "stream",
     "text": [
      "\r",
      " 32%|████████████▌                          | 201/621 [05:15<2:38:10, 22.60s/it]"
     ]
    },
    {
     "name": "stdout",
     "output_type": "stream",
     "text": [
      "200\n",
      "total wait time :  72.89286994934082\n",
      "recovery api cost\n",
      "bZhUShX8d6fg_FQBQ2rmNBj1QGjUwoKytEFSRb3PM7GAEYTqtmyHe_oooMCKe7S103pRLiGf5DSp5w\n"
     ]
    },
    {
     "name": "stderr",
     "output_type": "stream",
     "text": [
      "\r",
      " 33%|████████████▋                          | 202/621 [05:15<1:51:04, 15.90s/it]"
     ]
    },
    {
     "name": "stdout",
     "output_type": "stream",
     "text": [
      "l-dRAV6BQUEpnvlzdz0nLNXUAHxGfvTamhNZzke-wJwW5tSeQ_AYITqoKL5qrflCk6ejzg9N3svu2Q\n"
     ]
    },
    {
     "name": "stderr",
     "output_type": "stream",
     "text": [
      "\r",
      " 33%|████████████▋                          | 203/621 [05:15<1:18:09, 11.22s/it]"
     ]
    },
    {
     "name": "stdout",
     "output_type": "stream",
     "text": [
      "QTlPXf2XV5xVgPNee096EgRv0gJQY51NNPocHvDtOJBE0mOuoRwN7ee_FtJRs-rUurk4u0TTRvB7YA\n"
     ]
    },
    {
     "name": "stderr",
     "output_type": "stream",
     "text": [
      "\r",
      " 33%|█████████████▍                           | 204/621 [05:16<55:15,  7.95s/it]"
     ]
    },
    {
     "name": "stdout",
     "output_type": "stream",
     "text": [
      "q4YLBCp0awBTVmJn1H1CxesKrlCpW7bhlMpbL8xWFbLCPg-24fNHx1bF-xEP8xia0-wnFOGq1Pffsw\n"
     ]
    },
    {
     "name": "stderr",
     "output_type": "stream",
     "text": [
      "\r",
      " 33%|█████████████▌                           | 205/621 [05:16<39:44,  5.73s/it]"
     ]
    },
    {
     "name": "stdout",
     "output_type": "stream",
     "text": [
      "pssyz3MkyDBwFawisES1jTse_MiifyyPWUF-XBdWj8wIX8yWemw1KLffyYdGuNwq9paqjhRmD0bFrg\n"
     ]
    },
    {
     "name": "stderr",
     "output_type": "stream",
     "text": [
      "\r",
      " 33%|█████████████▌                           | 206/621 [05:16<28:19,  4.10s/it]"
     ]
    },
    {
     "name": "stdout",
     "output_type": "stream",
     "text": [
      "put7WmuP2Mz_XeTKt19hxKxFxiAWyM26LnNbJbE8LJzz4ft99MRF6CcTzjbs4qFfnDr694HfyxW_wQ\n"
     ]
    },
    {
     "name": "stderr",
     "output_type": "stream",
     "text": [
      "\r",
      " 33%|█████████████▋                           | 207/621 [05:17<20:22,  2.95s/it]"
     ]
    },
    {
     "name": "stdout",
     "output_type": "stream",
     "text": [
      "Ou6PVabXJDNPapUpFVr_bEn3nXsIY4NZV-7tTmlMsLjXiD2ZsJ9FL5bc6PU2vocV4Dhcn6KdqjgxBw\n"
     ]
    },
    {
     "name": "stderr",
     "output_type": "stream",
     "text": [
      "\r",
      " 33%|█████████████▋                           | 208/621 [05:17<14:59,  2.18s/it]"
     ]
    },
    {
     "name": "stdout",
     "output_type": "stream",
     "text": [
      "8942qJUCzGzjrABVMHmm0YfMMmhIjY2GV7VpfXsZvRem4NB0dSuoeU4b9H12zedbQEkrb7w7LAXHrA\n"
     ]
    },
    {
     "name": "stderr",
     "output_type": "stream",
     "text": [
      "\r",
      " 34%|█████████████▊                           | 209/621 [05:17<11:01,  1.61s/it]"
     ]
    },
    {
     "name": "stdout",
     "output_type": "stream",
     "text": [
      "gKKqOZlMLOVxvyzEpO5S0_7bqblTfgWdqsbvrjJTY8yyoCwh0KgvNVRE2Ni8kqFXPvTCSKvP0bdN_g\n"
     ]
    },
    {
     "name": "stderr",
     "output_type": "stream",
     "text": [
      "\r",
      " 34%|█████████████▊                           | 210/621 [05:18<08:35,  1.26s/it]"
     ]
    },
    {
     "name": "stdout",
     "output_type": "stream",
     "text": [
      "CMy8ikZl9aTGxa1mW7AYI0xG4rAzvLx3VxprwW0l4g7ascL7fceakJCAquVilFFqfx4aoHL0mSRwlg\n"
     ]
    },
    {
     "name": "stderr",
     "output_type": "stream",
     "text": [
      "\r",
      " 34%|█████████████▉                           | 211/621 [05:18<07:15,  1.06s/it]"
     ]
    },
    {
     "name": "stdout",
     "output_type": "stream",
     "text": [
      "05-4egm1Ru2zjwGXnFHj0REodAu-4Cy8j1NVuXS2e1itwKSq3OZaLptUQE_hd9LgeAQ0OFkVkTHp7g\n"
     ]
    },
    {
     "name": "stderr",
     "output_type": "stream",
     "text": [
      "\r",
      " 34%|█████████████▉                           | 212/621 [05:19<06:44,  1.01it/s]"
     ]
    },
    {
     "name": "stdout",
     "output_type": "stream",
     "text": [
      "6Sne8nkYhKLCF_V_Cb-hAsB_pwVzZYt5TgJG2krZgLu2tAEOXy4UMVs79olAg-LdIFqPmkddSsrAYg\n"
     ]
    },
    {
     "name": "stderr",
     "output_type": "stream",
     "text": [
      "\r",
      " 34%|██████████████                           | 213/621 [05:20<05:33,  1.22it/s]"
     ]
    },
    {
     "name": "stdout",
     "output_type": "stream",
     "text": [
      "-6p3YD7mHIfGSIB_YCHK6kTDuqOIrRd37RP7BJCtnqav-6XkbIA5XccxuVyAomQpAZEgwOSm273znw\n"
     ]
    },
    {
     "name": "stderr",
     "output_type": "stream",
     "text": [
      "\r",
      " 34%|██████████████▏                          | 214/621 [05:21<05:56,  1.14it/s]"
     ]
    },
    {
     "name": "stdout",
     "output_type": "stream",
     "text": [
      "JTLBFe3eiWFRR2AgurpixutENvc7fuaA5i058uJ1yutYKXB-v3ZdESlQP80rWnNUi1vp9CBKmdvrdg\n"
     ]
    },
    {
     "name": "stderr",
     "output_type": "stream",
     "text": [
      "\r",
      " 35%|██████████████▏                          | 215/621 [05:21<05:24,  1.25it/s]"
     ]
    },
    {
     "name": "stdout",
     "output_type": "stream",
     "text": [
      "zv5CF3gk40GlqUA-gGnplPLzNxpktepnTAQTxocoeAAuGt4inIlwaC98DlqszJcZrt9SuPsZmia_9w\n"
     ]
    },
    {
     "name": "stderr",
     "output_type": "stream",
     "text": [
      "\r",
      " 35%|██████████████▎                          | 216/621 [05:22<05:00,  1.35it/s]"
     ]
    },
    {
     "name": "stdout",
     "output_type": "stream",
     "text": [
      "qpSpfCnLjviH8i4vKBN_3sCsUm_HIlken0hXdt-F4SvJKvYSKRH5hACuqK8kI7gJlWZsXsJDVVG2Yw\n"
     ]
    },
    {
     "name": "stderr",
     "output_type": "stream",
     "text": [
      "\r",
      " 35%|██████████████▎                          | 217/621 [05:23<04:44,  1.42it/s]"
     ]
    },
    {
     "name": "stdout",
     "output_type": "stream",
     "text": [
      "64qXtY7zlfBKVXp1CcC98_HjB5X3tnCuvMS9S8CCrfyeZBwiu0SsGWHTlRbmTpFTcdNOwPd0Eut9Pg\n"
     ]
    },
    {
     "name": "stderr",
     "output_type": "stream",
     "text": [
      "\r",
      " 35%|██████████████▍                          | 218/621 [05:23<03:52,  1.74it/s]"
     ]
    },
    {
     "name": "stdout",
     "output_type": "stream",
     "text": [
      "28uhuZxqWlH4tXEWe_1yebfuYoTloSAToVzt-iljiSTsrpnneKjbS9FW6HzT532xqsdYb5FJjrQzXg\n"
     ]
    },
    {
     "name": "stderr",
     "output_type": "stream",
     "text": [
      "\r",
      " 35%|██████████████▍                          | 219/621 [05:23<03:25,  1.95it/s]"
     ]
    },
    {
     "name": "stdout",
     "output_type": "stream",
     "text": [
      "e4Mw8_PaLSu8WwDlSsXoZwx0ShysKsw1PPy4qub9lhxpvrxot7pE6-2XQkWXmu-Fe8af0nd0Gfg7fQ\n"
     ]
    },
    {
     "name": "stderr",
     "output_type": "stream",
     "text": [
      "\r",
      " 35%|██████████████▌                          | 220/621 [05:24<03:07,  2.13it/s]"
     ]
    },
    {
     "name": "stdout",
     "output_type": "stream",
     "text": [
      "awsOUqlqr4X-bY8QvJRUn7AVo0qS2fxp42h6EzXsbbIQnmgQc15W1uWwzh073ABFdXG5CgLMjfPgrA\n"
     ]
    },
    {
     "name": "stderr",
     "output_type": "stream",
     "text": [
      "\r",
      " 36%|██████████████▌                          | 221/621 [05:24<03:26,  1.94it/s]"
     ]
    },
    {
     "name": "stdout",
     "output_type": "stream",
     "text": [
      "q8mPHQwo2Lmv20m6WnAqdCcKTA5Vqu-xgPra3D20yIrtx3_HQMhrAuOhSdlvJsTDrY7yZxDg3Q1B6w\n"
     ]
    },
    {
     "name": "stderr",
     "output_type": "stream",
     "text": [
      "\r",
      " 36%|██████████████▋                          | 222/621 [05:24<02:59,  2.23it/s]"
     ]
    },
    {
     "name": "stdout",
     "output_type": "stream",
     "text": [
      "GC6xCFxJoW_3sfLpkGoCM-4aCgaTUYC5rrDIJ53KucD6i58Cgs0ygQVoiVKllSNhqI5jB7JaCUru3w\n"
     ]
    },
    {
     "name": "stderr",
     "output_type": "stream",
     "text": [
      "\r",
      " 36%|██████████████▋                          | 223/621 [05:25<03:57,  1.68it/s]"
     ]
    },
    {
     "name": "stdout",
     "output_type": "stream",
     "text": [
      "oDBKrzMxZSIx9YuMheLwfcZZXTxdI2IFW5HGHObXzqkWYScY0Ue4qygqBmT6mcMYAE9-PtHXlwVvYg\n"
     ]
    },
    {
     "name": "stderr",
     "output_type": "stream",
     "text": [
      "\r",
      " 36%|██████████████▊                          | 224/621 [05:26<04:23,  1.51it/s]"
     ]
    },
    {
     "name": "stdout",
     "output_type": "stream",
     "text": [
      "9kWquY8i2DhLQfZrfyyIJ2oyR9nLXCkaR_78AG2hPs5xMWkk2tF6RdSeE59D1te_qTF_s3lXYCu10g\n"
     ]
    },
    {
     "name": "stderr",
     "output_type": "stream",
     "text": [
      "\r",
      " 36%|██████████████▊                          | 225/621 [05:27<04:16,  1.54it/s]"
     ]
    },
    {
     "name": "stdout",
     "output_type": "stream",
     "text": [
      "TjVO_2-vcVlw1ow3MCOryuZeQuuIlHhwusF6AQ2lU3Jl7ejtgT3g-F3LYIt04Bg5RWygXoP1UTKz2Q\n"
     ]
    },
    {
     "name": "stderr",
     "output_type": "stream",
     "text": [
      "\r",
      " 36%|██████████████▉                          | 226/621 [05:27<04:12,  1.56it/s]"
     ]
    },
    {
     "name": "stdout",
     "output_type": "stream",
     "text": [
      "OGGZTUD41OyHPxmKp11GQqVwxlwcseb_FIQjsFcYoBhjjnHLccQFgpLefjy8-XdA-hRbe_AXa2TsBQ\n"
     ]
    },
    {
     "name": "stderr",
     "output_type": "stream",
     "text": [
      "\r",
      " 37%|██████████████▉                          | 227/621 [05:28<03:35,  1.83it/s]"
     ]
    },
    {
     "name": "stdout",
     "output_type": "stream",
     "text": [
      "eKdPW3h3U7aNOMmd9iHv3qANvPJFUkJL-Sb_yUCzefeZWTMyayNiqq1nQ1cIGghat3WyC9_rGnraXQ\n"
     ]
    },
    {
     "name": "stderr",
     "output_type": "stream",
     "text": [
      "\r",
      " 37%|███████████████                          | 228/621 [05:28<03:52,  1.69it/s]"
     ]
    },
    {
     "name": "stdout",
     "output_type": "stream",
     "text": [
      "XYGI-xRtNGuvcE_Cn3uRd47qE1YuQhLvvmy_d-DxjM-PSzitmmCmPIvDvkJbOS8sVUgIr4_C4v5xdg\n"
     ]
    },
    {
     "name": "stderr",
     "output_type": "stream",
     "text": [
      "\r",
      " 37%|███████████████                          | 229/621 [05:29<03:19,  1.97it/s]"
     ]
    },
    {
     "name": "stdout",
     "output_type": "stream",
     "text": [
      "8DFoVqFRbCcdfi4KBMJsSekWlM9xtpIpKsHkAznQPG1EMjDUNQsMe4IPYAYX5sXBPBjOvYungEq_Wg\n"
     ]
    },
    {
     "name": "stderr",
     "output_type": "stream",
     "text": [
      "\r",
      " 37%|███████████████▏                         | 230/621 [05:29<03:41,  1.76it/s]"
     ]
    },
    {
     "name": "stdout",
     "output_type": "stream",
     "text": [
      "PtCbwn0BX6eIjL7S7ioRSn1KOV_qILeTbzLdY7mfGPX1RzWFmLCMMOo6q0UQPRzMDoneJduOgAEoNQ\n"
     ]
    },
    {
     "name": "stderr",
     "output_type": "stream",
     "text": [
      "\r",
      " 37%|███████████████▎                         | 231/621 [05:30<03:46,  1.72it/s]"
     ]
    },
    {
     "name": "stdout",
     "output_type": "stream",
     "text": [
      "EGUaREm6nnh_CYlWXUPfUro53TFlW7PsYCvyI8JVccisjBPe_vQ4UGfiZSt_NLOuWJcq_iEH7h8X1Q\n"
     ]
    },
    {
     "name": "stderr",
     "output_type": "stream",
     "text": [
      "\r",
      " 37%|███████████████▎                         | 232/621 [05:30<03:16,  1.98it/s]"
     ]
    },
    {
     "name": "stdout",
     "output_type": "stream",
     "text": [
      "PguXXYwn_pbu69rIKH2yMD_awp9sXevXMETLCQvpHiJb-8QN_hXjBMnkR3zZH7mNsMwi0NFsZhd36A\n"
     ]
    },
    {
     "name": "stderr",
     "output_type": "stream",
     "text": [
      "\r",
      " 38%|███████████████▍                         | 233/621 [05:31<02:51,  2.26it/s]"
     ]
    },
    {
     "name": "stdout",
     "output_type": "stream",
     "text": [
      "914L4qBoAYAVp7f5juylDkU1fn4Gkq4QszzlDpZDzHtcesEWUxlIojMSUOayZduugQxH-XJtjaJwEg\n"
     ]
    },
    {
     "name": "stderr",
     "output_type": "stream",
     "text": [
      "\r",
      " 38%|███████████████▍                         | 234/621 [05:31<03:10,  2.04it/s]"
     ]
    },
    {
     "name": "stdout",
     "output_type": "stream",
     "text": [
      "VZqJS8pLKTxR1uEJ8oPUxJk6dqZBips95rhrRg8GOkCWXU8tRP4BtYKI6A8OH9FC-0BasfHeOpJgww\n"
     ]
    },
    {
     "name": "stderr",
     "output_type": "stream",
     "text": [
      "\r",
      " 38%|███████████████▌                         | 235/621 [05:32<03:47,  1.70it/s]"
     ]
    },
    {
     "name": "stdout",
     "output_type": "stream",
     "text": [
      "onOQUssVnFhuAYAEcUz3wM1fDjjQ5tLiAy5J5of4NRrtVLV5tFtnhOIw5KJqgGD5cY6ah5r2f8SC2Q\n"
     ]
    },
    {
     "name": "stderr",
     "output_type": "stream",
     "text": [
      "\r",
      " 38%|███████████████▌                         | 236/621 [05:32<03:13,  1.98it/s]"
     ]
    },
    {
     "name": "stdout",
     "output_type": "stream",
     "text": [
      "zxMKXeHmR_QyUdzQ9--Myx433EMSkxUZNDlyxjZvT5m05cE4v7YS3InUOT4fREVzC0bII2MRs8AfJw\n"
     ]
    },
    {
     "name": "stderr",
     "output_type": "stream",
     "text": [
      "\r",
      " 38%|███████████████▋                         | 237/621 [05:33<02:48,  2.28it/s]"
     ]
    },
    {
     "name": "stdout",
     "output_type": "stream",
     "text": [
      "eAkSYAvTxyNcngCFoP6iRj2U79CJ4fDEil8xn8oKVJZ0-Lsb3_8mEZWBW7VAr365D27APPCwmJ05Hw\n"
     ]
    },
    {
     "name": "stderr",
     "output_type": "stream",
     "text": [
      "\r",
      " 38%|███████████████▋                         | 238/621 [05:33<02:30,  2.55it/s]"
     ]
    },
    {
     "name": "stdout",
     "output_type": "stream",
     "text": [
      "rYuQlxtVAEIgxFEsACODE3IMf7t7tPoKkTwwmuqS2YmDuk73Kjz5tG1icjLUuC5qEnAfh7fiBs95hA\n"
     ]
    },
    {
     "name": "stderr",
     "output_type": "stream",
     "text": [
      "\r",
      " 38%|███████████████▊                         | 239/621 [05:34<02:49,  2.25it/s]"
     ]
    },
    {
     "name": "stdout",
     "output_type": "stream",
     "text": [
      "wcX4tFNn5ykSEL1sdhTa5tLLvqdeCd4ecEh8IBxQbtTvLw4SsixsH0QUc6vo2uZr4cr-peW7Z-wJRQ\n"
     ]
    },
    {
     "name": "stderr",
     "output_type": "stream",
     "text": [
      "\r",
      " 39%|███████████████▊                         | 240/621 [05:34<02:27,  2.58it/s]"
     ]
    },
    {
     "name": "stdout",
     "output_type": "stream",
     "text": [
      "0jnDwqJ-xKUV5mjTaoS-dtAc9YtaGRrn3sBDyyLCH_uh3lADCX8nySWTLRbahtJbn8fjsuzUSCN50Q\n"
     ]
    },
    {
     "name": "stderr",
     "output_type": "stream",
     "text": [
      "\r",
      " 39%|███████████████▉                         | 241/621 [05:34<02:18,  2.75it/s]"
     ]
    },
    {
     "name": "stdout",
     "output_type": "stream",
     "text": [
      "-YIR8sVAZdrdLQXDk2xUjCdvMXLRDvbhEE-3lN4dqSy0pEUiLW54J-7bfozL_5HWvzl0ol7o5V4RCA\n"
     ]
    },
    {
     "name": "stderr",
     "output_type": "stream",
     "text": [
      "\r",
      " 39%|███████████████▉                         | 242/621 [05:35<02:46,  2.28it/s]"
     ]
    },
    {
     "name": "stdout",
     "output_type": "stream",
     "text": [
      "ldt5LbWtQM9ylMjPElxpxMjASX2PfVkpIYskIk4LEBI32hbvdxLHB00lv3wlkiJ2G2RlwwT40UQ3JA\n"
     ]
    },
    {
     "name": "stderr",
     "output_type": "stream",
     "text": [
      "\r",
      " 39%|████████████████                         | 243/621 [05:35<02:44,  2.30it/s]"
     ]
    },
    {
     "name": "stdout",
     "output_type": "stream",
     "text": [
      "hRz03XAyKkCA8KzjTj-3pt9KDnOiEcstMWebT6bSVW9rnvBX2nMbjUp6s__TJAweBpCIgIp-DW7PwA\n"
     ]
    },
    {
     "name": "stderr",
     "output_type": "stream",
     "text": [
      "\r",
      " 39%|████████████████                         | 244/621 [05:35<02:29,  2.53it/s]"
     ]
    },
    {
     "name": "stdout",
     "output_type": "stream",
     "text": [
      "F9e4npn0S6BwNwcvIXWti18UOJQfXVfPHDHaAljsxU-9u5-lWIl29VTRpRQIVb8-uBra_Y4dOF271Q\n"
     ]
    },
    {
     "name": "stderr",
     "output_type": "stream",
     "text": [
      "\r",
      " 39%|████████████████▏                        | 245/621 [05:36<02:17,  2.74it/s]"
     ]
    },
    {
     "name": "stdout",
     "output_type": "stream",
     "text": [
      "3NsbNShsOGRiJLYRTj8eJCQXcUtD2ZfxALQWKWZCH5aoFSU-k7iDW3NcO19E1kcXARsk7zikqN5f9Q\n"
     ]
    },
    {
     "name": "stderr",
     "output_type": "stream",
     "text": [
      "\r",
      " 40%|████████████████▏                        | 246/621 [05:37<03:59,  1.57it/s]"
     ]
    },
    {
     "name": "stdout",
     "output_type": "stream",
     "text": [
      "3uPO2qPFEQqMWf9EMRjr1xW88Grj-cWYf3K-tPD7zpWqJaTq9dL3nAq7s1pQCYiBrR0waYFLRK37xg\n"
     ]
    },
    {
     "name": "stderr",
     "output_type": "stream",
     "text": [
      "\r",
      " 40%|████████████████▎                        | 247/621 [05:38<04:41,  1.33it/s]"
     ]
    },
    {
     "name": "stdout",
     "output_type": "stream",
     "text": [
      "Kd71zAg87P0I6HIsi9LSarpVOra1jkNhYQcCFeTygGfceGrLCUGZONb0iSD4g2r1AhUK0E3S3dSyFw\n"
     ]
    },
    {
     "name": "stderr",
     "output_type": "stream",
     "text": [
      "\r",
      " 40%|████████████████▎                        | 248/621 [05:39<04:42,  1.32it/s]"
     ]
    },
    {
     "name": "stdout",
     "output_type": "stream",
     "text": [
      "i40fMzw8juJ-qXW5jhJaZvg3-9ZQl8i6iVR9_SQ2Z4XLoWsXf8MY5u_g3rFhxugUwMb3DrusdSmpaQ\n"
     ]
    },
    {
     "name": "stderr",
     "output_type": "stream",
     "text": [
      "\r",
      " 40%|████████████████▍                        | 249/621 [05:40<05:17,  1.17it/s]"
     ]
    },
    {
     "name": "stdout",
     "output_type": "stream",
     "text": [
      "DYSFIQNgwfMCRaimaXBph53UWn5QziuodEu46McrswaPsTfDRU-QV2uMAfB8_w4ilVOs_NPl4JEoVg\n"
     ]
    },
    {
     "name": "stderr",
     "output_type": "stream",
     "text": [
      "\r",
      " 40%|████████████████▌                        | 250/621 [05:41<05:58,  1.03it/s]"
     ]
    },
    {
     "name": "stdout",
     "output_type": "stream",
     "text": [
      "pUsOofcB5rY3PTheXUfu6hbHt7puvyRJjH51prpnKk1Iq4ma_HdGuSqgr3NU0vHd59npsObz2dqO2A\n"
     ]
    },
    {
     "name": "stderr",
     "output_type": "stream",
     "text": [
      "\r",
      " 40%|████████████████▌                        | 251/621 [05:42<06:25,  1.04s/it]"
     ]
    },
    {
     "name": "stdout",
     "output_type": "stream",
     "text": [
      "1HCTklV3MJ48FIqn8Fr6PKlwFNhQpIxdUtfD5njj8B44BuFkNyVM_W9riZa9W6vifDwsyqS98arwqw\n"
     ]
    },
    {
     "name": "stderr",
     "output_type": "stream",
     "text": [
      "\r",
      " 41%|████████████████▋                        | 252/621 [05:43<05:03,  1.22it/s]"
     ]
    },
    {
     "name": "stdout",
     "output_type": "stream",
     "text": [
      "UlDV7p6EHllMM0DzkqehPB_yoDH-nCGbCWXGb_3NAUukxiRSc8yimwxnZrRkYDkJPevrT8oAXlkChQ\n"
     ]
    },
    {
     "name": "stderr",
     "output_type": "stream",
     "text": [
      "\r",
      " 41%|████████████████▋                        | 253/621 [05:43<04:58,  1.23it/s]"
     ]
    },
    {
     "name": "stdout",
     "output_type": "stream",
     "text": [
      "hI3o3Jj7F-ow9f-rveo_aPzlvD6blLPY8YrQTobDc59MzyFN94vlQ7XsLJMBQCst2RV_ctpUv3I36A\n"
     ]
    },
    {
     "name": "stderr",
     "output_type": "stream",
     "text": [
      "\r",
      " 41%|████████████████▊                        | 254/621 [05:44<05:14,  1.17it/s]"
     ]
    },
    {
     "name": "stdout",
     "output_type": "stream",
     "text": [
      "v0Iz-HIPrdkjfm5VSTHJuvp549FcTikQ5QsS3sxT8HDWJkdBsshIO02pxLdHTp63Invs08x6uC1Zjg\n"
     ]
    },
    {
     "name": "stderr",
     "output_type": "stream",
     "text": [
      "\r",
      " 41%|████████████████▊                        | 255/621 [05:45<04:11,  1.45it/s]"
     ]
    },
    {
     "name": "stdout",
     "output_type": "stream",
     "text": [
      "0-c0Myr-4tciy3U0to3xcZlOXF9SZ_raOlk7HcaI6R308cX12liNf6bRkhgjiDAGCCrF1dL43o8HXA\n"
     ]
    },
    {
     "name": "stderr",
     "output_type": "stream",
     "text": [
      "\r",
      " 41%|████████████████▉                        | 256/621 [05:46<04:37,  1.31it/s]"
     ]
    },
    {
     "name": "stdout",
     "output_type": "stream",
     "text": [
      "ZUtUDCkuO5XaMoDA27vCajDJEvEaP_MrCWkBFq7_UJorScOz_MqVeaNeYX9KwvZiu1n5Slzl0FYxrQ\n"
     ]
    },
    {
     "name": "stderr",
     "output_type": "stream",
     "text": [
      "\r",
      " 41%|████████████████▉                        | 257/621 [05:46<03:50,  1.58it/s]"
     ]
    },
    {
     "name": "stdout",
     "output_type": "stream",
     "text": [
      "YGcyGiOWJgCK_SD0VWOUXkZll2TiQLgZcHePuVozOKkVoicRKa5zfZR8mZtNEoPMqCI4AMn3JYEpmg\n"
     ]
    },
    {
     "name": "stderr",
     "output_type": "stream",
     "text": [
      "\r",
      " 42%|█████████████████                        | 258/621 [05:47<03:56,  1.54it/s]"
     ]
    },
    {
     "name": "stdout",
     "output_type": "stream",
     "text": [
      "bZmO3xleGhXHcFTuvFyo4ZRE-GpTUrMX6V4kcHEHSyOsLXlWdLa4me7f5AfNHoa6TWOABmfLFeAOLQ\n"
     ]
    },
    {
     "name": "stderr",
     "output_type": "stream",
     "text": [
      "\r",
      " 42%|█████████████████                        | 259/621 [05:47<03:14,  1.86it/s]"
     ]
    },
    {
     "name": "stdout",
     "output_type": "stream",
     "text": [
      "kIWke3l_3BJo6fMeZDiDQ_kInC2tF1kfQrukSU5qt9lXDx28QCVVF7H6tuSrF2y7yjfKzlft5iIG_Q\n"
     ]
    },
    {
     "name": "stderr",
     "output_type": "stream",
     "text": [
      "\r",
      " 42%|█████████████████▏                       | 260/621 [05:48<03:36,  1.67it/s]"
     ]
    },
    {
     "name": "stdout",
     "output_type": "stream",
     "text": [
      "XJiNjoovV5tRU7DwK3EhA07XpPTbl5JeqrY2XRs-75KbcVCbPDj2HAlsQdDhGa2wMggpNiyYYt3Bog\n"
     ]
    },
    {
     "name": "stderr",
     "output_type": "stream",
     "text": [
      "\r",
      " 42%|█████████████████▏                       | 261/621 [05:48<03:14,  1.85it/s]"
     ]
    },
    {
     "name": "stdout",
     "output_type": "stream",
     "text": [
      "9f59seSnH5uO_rwk90YND2CuJqP1efFOenoFgINbleEtErJek2JEqN7OYQwRHN6iHDJsxyJE9OmQmg\n"
     ]
    },
    {
     "name": "stderr",
     "output_type": "stream",
     "text": [
      "\r",
      " 42%|█████████████████▎                       | 262/621 [05:50<04:51,  1.23it/s]"
     ]
    },
    {
     "name": "stdout",
     "output_type": "stream",
     "text": [
      "9LC5X7e3VJil6A9hycs3va3k14j7Ha40veOWvkZJsU9Xg33nkEiOVQtWzDYr4_q8Ra8j9G1ifsY_5w\n"
     ]
    },
    {
     "name": "stderr",
     "output_type": "stream",
     "text": [
      "\r",
      " 42%|█████████████████▎                       | 263/621 [05:53<08:52,  1.49s/it]"
     ]
    },
    {
     "name": "stdout",
     "output_type": "stream",
     "text": [
      "Bnw5702CXhzGw2hbsz3ynoF_vh4Y_-AGoMMlloxtTwzRx7WW0XmJTnsk1Z_dN6B8odicclNy4TFFVw\n"
     ]
    },
    {
     "name": "stderr",
     "output_type": "stream",
     "text": [
      "\r",
      " 43%|█████████████████▍                       | 264/621 [05:53<06:44,  1.13s/it]"
     ]
    },
    {
     "name": "stdout",
     "output_type": "stream",
     "text": [
      "41QXUDv1RemFmLMnsuUDYD9XrUeAADlkaYwzk-LmzkZQx15KhJUgVaI00KyLe0UOrbavD1ftF5CA1w\n"
     ]
    },
    {
     "name": "stderr",
     "output_type": "stream",
     "text": [
      "\r",
      " 43%|█████████████████▍                       | 265/621 [05:53<05:13,  1.14it/s]"
     ]
    },
    {
     "name": "stdout",
     "output_type": "stream",
     "text": [
      "4T_B2Le3nMUjGGz9O2my7dzVszzcsiXy7pwaFcWhVigKGqBkW_TYZzINCO81m8p14wJRsTixbrZMmQ\n"
     ]
    },
    {
     "name": "stderr",
     "output_type": "stream",
     "text": [
      "\r",
      " 43%|█████████████████▌                       | 266/621 [05:54<04:09,  1.42it/s]"
     ]
    },
    {
     "name": "stdout",
     "output_type": "stream",
     "text": [
      "d8hcl1a3bXXRqBS3zgB3dBKvPAt8JPpTMvvFDqCpg7oqkEk3xRv61SajqvhwartaOJ0lN2VEyMgImA\n"
     ]
    },
    {
     "name": "stderr",
     "output_type": "stream",
     "text": [
      "\r",
      " 43%|█████████████████▋                       | 267/621 [05:55<05:20,  1.10it/s]"
     ]
    },
    {
     "name": "stdout",
     "output_type": "stream",
     "text": [
      "DvflMflzW083Do1DPO8-u-1-OMhkPYR4zqPO2hiCwa2zDbgr1b9WXvqItoKed3CI31kcLWt4rpmHiw\n"
     ]
    },
    {
     "name": "stderr",
     "output_type": "stream",
     "text": [
      "\r",
      " 43%|█████████████████▋                       | 268/621 [05:56<05:57,  1.01s/it]"
     ]
    },
    {
     "name": "stdout",
     "output_type": "stream",
     "text": [
      "dEnjWsANyAVYBF8kjE_UqTFsq4mD3W9bstH1iBestpWXHhLh5sS1zMlSO-1v1_zKKWTK0s2s1luvZw\n"
     ]
    },
    {
     "name": "stderr",
     "output_type": "stream",
     "text": [
      "\r",
      " 43%|█████████████████▊                       | 269/621 [05:57<05:53,  1.00s/it]"
     ]
    },
    {
     "name": "stdout",
     "output_type": "stream",
     "text": [
      "dDqImJ4JrjMKvt9CR-Bh5JK2Bzsjodb0rEVTx6pz65KJZmFBrVZ5Jxfxi0ALzsfFNjVVPm3FIvYIKw\n"
     ]
    },
    {
     "name": "stderr",
     "output_type": "stream",
     "text": [
      "\r",
      " 43%|█████████████████▊                       | 270/621 [05:58<06:16,  1.07s/it]"
     ]
    },
    {
     "name": "stdout",
     "output_type": "stream",
     "text": [
      "K_JGJj3QuittiSon5R7xCYLqddkr-KXk47kFQJ05Z0Gd7vypnsdLld3In0LGz408BtP4Dhaq0YHlnw\n"
     ]
    },
    {
     "name": "stderr",
     "output_type": "stream",
     "text": [
      "\r",
      " 44%|█████████████████▉                       | 271/621 [05:59<04:52,  1.20it/s]"
     ]
    },
    {
     "name": "stdout",
     "output_type": "stream",
     "text": [
      "ZkC0awoaD5t4MBmBBg493AKkjyOrGkKxaNxBh4VuoMLcVd7bIw2s0X2_VJLUYKKcA-z1Zrk-LcorVg\n"
     ]
    },
    {
     "name": "stderr",
     "output_type": "stream",
     "text": [
      "\r",
      " 44%|█████████████████▉                       | 272/621 [06:00<05:24,  1.08it/s]"
     ]
    },
    {
     "name": "stdout",
     "output_type": "stream",
     "text": [
      "k92Asa4PO3vsEVu6-78_nF2LuYa0P7xbsjHsV7BIy0ZSnU7ve6PcFBBP-sDlxQxx0UbIoULYYKO_Qw\n"
     ]
    },
    {
     "name": "stderr",
     "output_type": "stream",
     "text": [
      "\r",
      " 44%|██████████████████                       | 273/621 [06:00<04:31,  1.28it/s]"
     ]
    },
    {
     "name": "stdout",
     "output_type": "stream",
     "text": [
      "d7pYtWO-LFGmOBSgp3iHMAxOQbLtKDgMNo3NgPR6mxT2xo06C54czsyiGo-BvPOM0aBqC9mkjlL_Xw\n"
     ]
    },
    {
     "name": "stderr",
     "output_type": "stream",
     "text": [
      "\r",
      " 44%|██████████████████                       | 274/621 [06:01<03:42,  1.56it/s]"
     ]
    },
    {
     "name": "stdout",
     "output_type": "stream",
     "text": [
      "YOGknDBpYaomHlCYw7QPxXPaRn3vPv6VCrFQAhoaB45qhsFIRXsHsP9ABDLWahnyKRKWX8i9RCvpmQ\n"
     ]
    },
    {
     "name": "stderr",
     "output_type": "stream",
     "text": [
      "\r",
      " 44%|██████████████████▏                      | 275/621 [06:01<03:04,  1.87it/s]"
     ]
    },
    {
     "name": "stdout",
     "output_type": "stream",
     "text": [
      "QhBvkR9tn5Fc7zLklOQG_V_Q7eZO8vF4218QAr1kz0Ki7Ypbt31bEOdBHIhoHiAi1_TO-s8xswhdDg\n"
     ]
    },
    {
     "name": "stderr",
     "output_type": "stream",
     "text": [
      "\r",
      " 44%|██████████████████▏                      | 276/621 [06:02<03:54,  1.47it/s]"
     ]
    },
    {
     "name": "stdout",
     "output_type": "stream",
     "text": [
      "Ly_kMTbU6uLkT3VsxWtF14FtujZtwbvCL6uaceWtRkZf4EM7aw3aw_ATpQzqkcNlcA4TYibesa7IJw\n"
     ]
    },
    {
     "name": "stderr",
     "output_type": "stream",
     "text": [
      "\r",
      " 45%|██████████████████▎                      | 277/621 [06:02<03:12,  1.79it/s]"
     ]
    },
    {
     "name": "stdout",
     "output_type": "stream",
     "text": [
      "OlR937HaGHoTMbMzBxLyEkyotdSyO8RZqNd7v0tt843G7NXrTLNeZy8HpDpiwptNjnhGII57NzXZ9g\n"
     ]
    },
    {
     "name": "stderr",
     "output_type": "stream",
     "text": [
      "\r",
      " 45%|██████████████████▎                      | 278/621 [06:03<03:51,  1.48it/s]"
     ]
    },
    {
     "name": "stdout",
     "output_type": "stream",
     "text": [
      "fy44ujfj8VBr3lGgXCt7m-fJ6Zv27Qoy7ZxxYQ5sLgWcQpY61jo6-HtwGgj3CTg0AG_-bRz2NombwQ\n"
     ]
    },
    {
     "name": "stderr",
     "output_type": "stream",
     "text": [
      "\r",
      " 45%|██████████████████▍                      | 279/621 [06:03<03:17,  1.73it/s]"
     ]
    },
    {
     "name": "stdout",
     "output_type": "stream",
     "text": [
      "Yyi01fYveTlHHuDN_GgXW9whu3wLK_YsYtsf5SESHjiNjgx5A37jfIdAU06a1lAzzOW-9XDjdC3chQ\n"
     ]
    },
    {
     "name": "stderr",
     "output_type": "stream",
     "text": [
      "\r",
      " 45%|██████████████████▍                      | 280/621 [06:04<03:48,  1.49it/s]"
     ]
    },
    {
     "name": "stdout",
     "output_type": "stream",
     "text": [
      "9S8dOH0n7nhxEian3JNMSb4iHjyqDmXyzDSEVu05abP8T2QRA8qyc7XM7S1ykp8KFDWwjy_1IDP6bQ\n"
     ]
    },
    {
     "name": "stderr",
     "output_type": "stream",
     "text": [
      "\r",
      " 45%|██████████████████▌                      | 281/621 [06:05<03:09,  1.80it/s]"
     ]
    },
    {
     "name": "stdout",
     "output_type": "stream",
     "text": [
      "MvHydqhVZqjJ5J-oFFAldisn6BYnX-5gOO_zKNzX38d8ko-D0BRrIbUkrZHwxWGDLE6OOqP1BHKZCw\n"
     ]
    },
    {
     "name": "stderr",
     "output_type": "stream",
     "text": [
      "\r",
      " 45%|██████████████████▌                      | 282/621 [06:05<02:39,  2.12it/s]"
     ]
    },
    {
     "name": "stdout",
     "output_type": "stream",
     "text": [
      "pSr6svmnDUeLoF7k9kTeN9uiyzJT8XhaN1C2NsSwATH2WnohWASsLiXrhKFsOIZrCW65sA_BrOHq2Q\n"
     ]
    },
    {
     "name": "stderr",
     "output_type": "stream",
     "text": [
      "\r",
      " 46%|██████████████████▋                      | 283/621 [06:05<02:20,  2.40it/s]"
     ]
    },
    {
     "name": "stdout",
     "output_type": "stream",
     "text": [
      "YAgjTeUw_byn0N8fhn0kdI1A2y9HOBskstBVGv5z-RZykyQxpAh7-SrpgX1H_uA8_cW57rNb6gw70Q\n"
     ]
    },
    {
     "name": "stderr",
     "output_type": "stream",
     "text": [
      "\r",
      " 46%|██████████████████▊                      | 284/621 [06:05<02:06,  2.67it/s]"
     ]
    },
    {
     "name": "stdout",
     "output_type": "stream",
     "text": [
      "_HhxVeKO7enXtbi21NaUqnMfQI-LGMd9UA6GjkHj3ppNymNvVRMMrQVKD7ai88W51hFv07PwW1DAOQ\n"
     ]
    },
    {
     "name": "stderr",
     "output_type": "stream",
     "text": [
      "\r",
      " 46%|██████████████████▊                      | 285/621 [06:06<02:14,  2.51it/s]"
     ]
    },
    {
     "name": "stdout",
     "output_type": "stream",
     "text": [
      "JbwJlftNitdm3nlEUe2X-l0ubXQlJMJJF65J7NTnDW3DJD_r79oOMdcMfw-BbuLGT3fKLrNQ1VwvUg\n"
     ]
    },
    {
     "name": "stderr",
     "output_type": "stream",
     "text": [
      "\r",
      " 46%|██████████████████▉                      | 286/621 [06:06<02:04,  2.70it/s]"
     ]
    },
    {
     "name": "stdout",
     "output_type": "stream",
     "text": [
      "Brj-ha2llRWrxg4jzUi3gSPIzNBsTF9R0ekXLqxmvn3S_ucmxxYUVa0uijx2VL_Yx8iWqzr26ar_qQ\n"
     ]
    },
    {
     "name": "stderr",
     "output_type": "stream",
     "text": [
      "\r",
      " 46%|██████████████████▉                      | 287/621 [06:06<01:56,  2.88it/s]"
     ]
    },
    {
     "name": "stdout",
     "output_type": "stream",
     "text": [
      "TWdiEOKTxADtPESxQcpholRPwM9vOLMUKzV40FquUOst2o5mo7a2uuvJYlK8DwLSqVttNn_-RyuHZA\n"
     ]
    },
    {
     "name": "stderr",
     "output_type": "stream",
     "text": [
      "\r",
      " 46%|███████████████████                      | 288/621 [06:07<01:50,  3.01it/s]"
     ]
    },
    {
     "name": "stdout",
     "output_type": "stream",
     "text": [
      "sKh5X_Rk_dunVS7ZGFbNza-XjBw8_QkgTltVFQjxzkB0L6VtfSf74oBrLCAM2gGoGVzSih_evCJKGA\n"
     ]
    },
    {
     "name": "stderr",
     "output_type": "stream",
     "text": [
      "\r",
      " 47%|███████████████████                      | 289/621 [06:07<01:45,  3.13it/s]"
     ]
    },
    {
     "name": "stdout",
     "output_type": "stream",
     "text": [
      "QRBagaWgafDMDdrSJY39GlLqSrpU9Q6NMVZ6Lk4cXXGCm_TevasTpZtZP1o7zNsuAZ8E5hyw94iaiQ\n",
      "api cost full : infinite loop start\n",
      "loop location :  FbFVi3ZiJtOXCr5ZUY9bEFznLlzZQvvByiMUlDryiw6knug\n",
      "try 10 second wait time\n",
      "429\n",
      "try 10 second wait time\n",
      "429\n",
      "try 10 second wait time\n",
      "429\n",
      "try 10 second wait time\n",
      "429\n",
      "try 10 second wait time\n",
      "429\n",
      "try 10 second wait time\n",
      "429\n",
      "try 10 second wait time\n"
     ]
    },
    {
     "name": "stderr",
     "output_type": "stream",
     "text": [
      "\r",
      " 47%|██████████████████▏                    | 290/621 [07:20<2:01:20, 21.99s/it]"
     ]
    },
    {
     "name": "stdout",
     "output_type": "stream",
     "text": [
      "200\n",
      "total wait time :  72.1658661365509\n",
      "recovery api cost\n",
      "wznq6VJ8pbyLXAQ7hGyTkkO23zDstu5zcmub_tIypVnd_OAm3huisnssEE27Z30iEKlGOKwIQQh6wA\n"
     ]
    },
    {
     "name": "stderr",
     "output_type": "stream",
     "text": [
      "\r",
      " 47%|██████████████████▎                    | 291/621 [07:20<1:25:12, 15.49s/it]"
     ]
    },
    {
     "name": "stdout",
     "output_type": "stream",
     "text": [
      "FN3A3CLvgE9IeiqnYJXwjF1KV9O_XN4gBdeC6R5UDTEgWWsqrO-gWnUPjWk-Chjl4jBYqmcaR-b50g\n"
     ]
    },
    {
     "name": "stderr",
     "output_type": "stream",
     "text": [
      "\r",
      " 47%|███████████████████▎                     | 292/621 [07:20<59:59, 10.94s/it]"
     ]
    },
    {
     "name": "stdout",
     "output_type": "stream",
     "text": [
      "9UqLYatPPZFw-WukQeOJUDoTPXGcUmNIAqxB_VT1rWYWGPwZO5MyXRnVK0Jk8YXVI0Jmzc1Fa9BySQ\n"
     ]
    },
    {
     "name": "stderr",
     "output_type": "stream",
     "text": [
      "\r",
      " 47%|███████████████████▎                     | 293/621 [07:21<42:30,  7.78s/it]"
     ]
    },
    {
     "name": "stdout",
     "output_type": "stream",
     "text": [
      "1C0meBsfrUvT_juTplPHZvYh26wbXpUOG211Chmw6CsMBy-9LZhjxGg15gkEwAp5LfuOCmEr_8iGgg\n"
     ]
    },
    {
     "name": "stderr",
     "output_type": "stream",
     "text": [
      "\r",
      " 47%|███████████████████▍                     | 294/621 [07:21<30:42,  5.63s/it]"
     ]
    },
    {
     "name": "stdout",
     "output_type": "stream",
     "text": [
      "Pesw1J0b7sQetaTuTGstRACDIofCFN9Wtb-NNIOA8PxTUc3-Ar-Sq94Yg5Yj9qkQeQwJBAfWz-13sw\n"
     ]
    },
    {
     "name": "stderr",
     "output_type": "stream",
     "text": [
      "\r",
      " 48%|███████████████████▍                     | 295/621 [07:22<21:56,  4.04s/it]"
     ]
    },
    {
     "name": "stdout",
     "output_type": "stream",
     "text": [
      "BTJlvX-z_TGFOIkD-3VjUG3YpOJohC-5AHOzefkMKyFRRKxJr8X9IAeyvqNBFkfwTlKIzwknRRbMHg\n"
     ]
    },
    {
     "name": "stderr",
     "output_type": "stream",
     "text": [
      "\r",
      " 48%|███████████████████▌                     | 296/621 [07:22<15:46,  2.91s/it]"
     ]
    },
    {
     "name": "stdout",
     "output_type": "stream",
     "text": [
      "61YVHrFMgk4wkjIkNLc23YuYOlUX-p4Nb0M8uIGWTKExa32j2eyFL2zQxKfij_OAxTcyu5Jm--z06A\n"
     ]
    },
    {
     "name": "stderr",
     "output_type": "stream",
     "text": [
      "\r",
      " 48%|███████████████████▌                     | 297/621 [07:22<11:28,  2.13s/it]"
     ]
    },
    {
     "name": "stdout",
     "output_type": "stream",
     "text": [
      "vM3gJikJes9gtmdj8A4jb2CmUKy5QXi12Z6Xh4LdUgj9LHbQbDvVNBpumNXcl5WaTiuXFD1hbYjQyA\n"
     ]
    },
    {
     "name": "stderr",
     "output_type": "stream",
     "text": [
      "\r",
      " 48%|███████████████████▋                     | 298/621 [07:23<08:34,  1.59s/it]"
     ]
    },
    {
     "name": "stdout",
     "output_type": "stream",
     "text": [
      "LblGvQ-moO91KMAnosDVv-xATSMg1wrKsVpgqr4J-P8qmF4wDLyIIgYa6OOUMSDZcfl2v6X69lvzew\n"
     ]
    },
    {
     "name": "stderr",
     "output_type": "stream",
     "text": [
      "\r",
      " 48%|███████████████████▋                     | 299/621 [07:23<06:28,  1.21s/it]"
     ]
    },
    {
     "name": "stdout",
     "output_type": "stream",
     "text": [
      "KkqOzcUxEduPoJSO7Whagt5FGjWLxBdwA6mP6MoN6Aphk3GN4hNyTvxVds-6BIoMY7IRX0vIoW5XCw\n"
     ]
    },
    {
     "name": "stderr",
     "output_type": "stream",
     "text": [
      "\r",
      " 48%|███████████████████▊                     | 300/621 [07:23<04:58,  1.08it/s]"
     ]
    },
    {
     "name": "stdout",
     "output_type": "stream",
     "text": [
      "ylwQXnFLWsQ8LXzBA3KG41cUQI1zl2RKI-D_8cagv5xZiTTBhed3PA9Lzdfe3KLTQddPokpXXvxVuQ\n"
     ]
    },
    {
     "name": "stderr",
     "output_type": "stream",
     "text": [
      "\r",
      " 48%|███████████████████▊                     | 301/621 [07:23<03:54,  1.36it/s]"
     ]
    },
    {
     "name": "stdout",
     "output_type": "stream",
     "text": [
      "DiS3yZgOocSRm5slCaCxPKxUDhPQz8xXiasEuP69Zc7S_1ds96J6iY0HW503emaW1Te2wFw0fpdNbQ\n"
     ]
    },
    {
     "name": "stderr",
     "output_type": "stream",
     "text": [
      "\r",
      " 49%|███████████████████▉                     | 302/621 [07:24<03:13,  1.65it/s]"
     ]
    },
    {
     "name": "stdout",
     "output_type": "stream",
     "text": [
      "ogOx62Eo2HBsbhr_9f4Hb9gagiODTBFj_QJeN78rxXfXguWjFbE0FG8b5LoO_XVcc7y9-0nljDFU6A\n"
     ]
    },
    {
     "name": "stderr",
     "output_type": "stream",
     "text": [
      "\r",
      " 49%|████████████████████                     | 303/621 [07:24<02:51,  1.86it/s]"
     ]
    },
    {
     "name": "stdout",
     "output_type": "stream",
     "text": [
      "rJqDj_kihkHBSaR6_fcPwA1vGg6IjoUtxSqh9p-7u2vqmNgrDmi7w3n63H8rOCuGflUFodJKpm8hBA\n"
     ]
    },
    {
     "name": "stderr",
     "output_type": "stream",
     "text": [
      "\r",
      " 49%|████████████████████                     | 304/621 [07:24<02:28,  2.13it/s]"
     ]
    },
    {
     "name": "stdout",
     "output_type": "stream",
     "text": [
      "o3VjNWxnDMiUp820LCBmepThrQ2UoXFmq-amC7wjQH7_UO_--kL7D_LhAPmY4CRu3f79-NmXNOMF2w\n"
     ]
    },
    {
     "name": "stderr",
     "output_type": "stream",
     "text": [
      "\r",
      " 49%|████████████████████▏                    | 305/621 [07:25<02:26,  2.16it/s]"
     ]
    },
    {
     "name": "stdout",
     "output_type": "stream",
     "text": [
      "xFpdMKY8aNyib5GOihim9kJMbaCj4IRwip_WVqbVynyPq5zB3Nz35R3wRMkgPqYIkA2G5GET7bSr1w\n"
     ]
    },
    {
     "name": "stderr",
     "output_type": "stream",
     "text": [
      "\r",
      " 49%|████████████████████▏                    | 306/621 [07:25<02:11,  2.39it/s]"
     ]
    },
    {
     "name": "stdout",
     "output_type": "stream",
     "text": [
      "1EdDIlAqspj8J2qflIuzkCmg30RRBcEt3l5WR4Fa3ZnIaZFVxYwsp_OTcpO9-Jsd7_FMqQqhgG17PA\n"
     ]
    },
    {
     "name": "stderr",
     "output_type": "stream",
     "text": [
      "\r",
      " 49%|████████████████████▎                    | 307/621 [07:26<02:18,  2.26it/s]"
     ]
    },
    {
     "name": "stdout",
     "output_type": "stream",
     "text": [
      "2qa5uQ6HlB0ZYxTnq36QudH-YHJOp1AHwbqqQZljUbg53eG_xN282S27DIP_NEUJ5x3UppXKw9OjwA\n"
     ]
    },
    {
     "name": "stderr",
     "output_type": "stream",
     "text": [
      "\r",
      " 50%|████████████████████▎                    | 308/621 [07:26<02:34,  2.03it/s]"
     ]
    },
    {
     "name": "stdout",
     "output_type": "stream",
     "text": [
      "WPLLzMbBafl_89UEg96FTBP9QVYISpC8Fg8UOOKfYUNetqf9tWSxQVpJh71-Lk7-61C92TtceFn5EA\n"
     ]
    },
    {
     "name": "stderr",
     "output_type": "stream",
     "text": [
      "\r",
      " 50%|████████████████████▍                    | 309/621 [07:27<02:14,  2.32it/s]"
     ]
    },
    {
     "name": "stdout",
     "output_type": "stream",
     "text": [
      "rp_DfMnob0WCdob_pwGFIsDPXXzDCQ29eKCoXdOqyTvaXzSfdKfkoXv1uRWUc2iQI2hpuP2eambptQ\n"
     ]
    },
    {
     "name": "stderr",
     "output_type": "stream",
     "text": [
      "\r",
      " 50%|████████████████████▍                    | 310/621 [07:27<02:01,  2.55it/s]"
     ]
    },
    {
     "name": "stdout",
     "output_type": "stream",
     "text": [
      "374iR0FJhPmj1db0tIeR1yzPso5dFjvj0cVbo8GHOAT35tAfr8OYWQFc7z9wjcYxTu768yryElddrA\n"
     ]
    },
    {
     "name": "stderr",
     "output_type": "stream",
     "text": [
      "\r",
      " 50%|████████████████████▌                    | 311/621 [07:27<01:51,  2.78it/s]"
     ]
    },
    {
     "name": "stdout",
     "output_type": "stream",
     "text": [
      "H2Bbs-JFWyWLHbnO32haV_ZZWW_cXy6YbEWTV21sN9LCwTq5wFHOzc_YNJ8bWlvpOV0SihXbKNmpjg\n"
     ]
    },
    {
     "name": "stderr",
     "output_type": "stream",
     "text": [
      "\r",
      " 50%|████████████████████▌                    | 312/621 [07:28<01:59,  2.59it/s]"
     ]
    },
    {
     "name": "stdout",
     "output_type": "stream",
     "text": [
      "EAGQORvuJwHImGzuJTCsqUhtWdCJ_mf1ebKqEfK7a-cur8oleqKt92WggvAaDeydc1IoBzngrzbhyw\n"
     ]
    },
    {
     "name": "stderr",
     "output_type": "stream",
     "text": [
      "\r",
      " 50%|████████████████████▋                    | 313/621 [07:28<01:51,  2.76it/s]"
     ]
    },
    {
     "name": "stdout",
     "output_type": "stream",
     "text": [
      "x-auFz8zQDSsCSulbkYOr4e9Mi1YT0bCafWuBH7jlJg_uPJafE1yi37j0UyqDY7fBJ2QRCc8iJSiiA\n"
     ]
    },
    {
     "name": "stderr",
     "output_type": "stream",
     "text": [
      "\r",
      " 51%|████████████████████▋                    | 314/621 [07:28<01:44,  2.94it/s]"
     ]
    },
    {
     "name": "stdout",
     "output_type": "stream",
     "text": [
      "RLuywYpoDafON3XOUjQYyMDAePr6RGqNl0tbHu8lKr5e1-b83RcLUUhQtAqKErgCZ73sMwDP4-5ycQ\n"
     ]
    },
    {
     "name": "stderr",
     "output_type": "stream",
     "text": [
      "\r",
      " 51%|████████████████████▊                    | 315/621 [07:29<01:41,  3.03it/s]"
     ]
    },
    {
     "name": "stdout",
     "output_type": "stream",
     "text": [
      "xMF1WejZfz1Wh6zC8M2yeL5ICD_o_B9jxqu5iInsRVC9XzpxGPq-cysmxuOsmYzUnr8-IPVU-FZGRA\n"
     ]
    },
    {
     "name": "stderr",
     "output_type": "stream",
     "text": [
      "\r",
      " 51%|████████████████████▊                    | 316/621 [07:29<01:38,  3.11it/s]"
     ]
    },
    {
     "name": "stdout",
     "output_type": "stream",
     "text": [
      "uYV-4an03OHRpr4NZRrB679Bvd6Hv9S8nYr_DVE77OeXM7bGyz4D0kCrzpz9FwxJYxyuCLhjTe4Q0w\n"
     ]
    },
    {
     "name": "stderr",
     "output_type": "stream",
     "text": [
      "\r",
      " 51%|████████████████████▉                    | 317/621 [07:29<01:35,  3.18it/s]"
     ]
    },
    {
     "name": "stdout",
     "output_type": "stream",
     "text": [
      "CBcVzY_KxCI47Y0SjyT_bnLpIMsvdRrcGsSKGLitIy8Sv96xFS7_ta8bXcRRTkq4Sjm_fPwDNMAwYw\n"
     ]
    },
    {
     "name": "stderr",
     "output_type": "stream",
     "text": [
      "\r",
      " 51%|████████████████████▉                    | 318/621 [07:29<01:33,  3.24it/s]"
     ]
    },
    {
     "name": "stdout",
     "output_type": "stream",
     "text": [
      "VIMJxuq6SxLFNexyNC0chIlqxFVOVdP35hxxpm9RrSYDUFTSHFafJonxzK0dTusVQuIeV6G963kyAA\n"
     ]
    },
    {
     "name": "stderr",
     "output_type": "stream",
     "text": [
      "\r",
      " 51%|█████████████████████                    | 319/621 [07:30<01:31,  3.29it/s]"
     ]
    },
    {
     "name": "stdout",
     "output_type": "stream",
     "text": [
      "qxjBMF-D5gQewgmQRxi_v28U-Z-51a-WLX7Hc7jM0fOAaEIoeYb2-UzpnqQ76lEpQO0y73el_v5G3Q\n"
     ]
    },
    {
     "name": "stderr",
     "output_type": "stream",
     "text": [
      "\r",
      " 52%|█████████████████████▏                   | 320/621 [07:30<01:30,  3.31it/s]"
     ]
    },
    {
     "name": "stdout",
     "output_type": "stream",
     "text": [
      "fOw8YLmDbYOXRyy4E_dR-qhHA7FoX4rOnta-3S_ANQmmNbN4E7YkIEcRBgbWb3FBZNrkUwub2xRRng\n"
     ]
    },
    {
     "name": "stderr",
     "output_type": "stream",
     "text": [
      "\r",
      " 52%|█████████████████████▏                   | 321/621 [07:30<01:29,  3.36it/s]"
     ]
    },
    {
     "name": "stdout",
     "output_type": "stream",
     "text": [
      "XH9uBPRz804fBE1wFHlha515oDKPj_UF8IX8N-TWKImm2ir8kwRlXl_6EUPJkH9R_wFdTjkB7WGclA\n"
     ]
    },
    {
     "name": "stderr",
     "output_type": "stream",
     "text": [
      "\r",
      " 52%|█████████████████████▎                   | 322/621 [07:31<01:29,  3.36it/s]"
     ]
    },
    {
     "name": "stdout",
     "output_type": "stream",
     "text": [
      "ZV6uIgDpE6QNek1eijdrFjEMO_jpjiTiPnUP-N3f96dqDnIfHOv5DmvYb03xr7z9B8VKA7FND1OodA\n"
     ]
    },
    {
     "name": "stderr",
     "output_type": "stream",
     "text": [
      "\r",
      " 52%|█████████████████████▎                   | 323/621 [07:31<01:28,  3.38it/s]"
     ]
    },
    {
     "name": "stdout",
     "output_type": "stream",
     "text": [
      "xIBlK7jspD2PfVB0Iacj2f3AXI98MNhU-LeshIBFSKT89sWnNJgn_lSjzOmz4KjTAnyMH732sCcBkA\n"
     ]
    },
    {
     "name": "stderr",
     "output_type": "stream",
     "text": [
      "\r",
      " 52%|█████████████████████▍                   | 324/621 [07:31<01:29,  3.30it/s]"
     ]
    },
    {
     "name": "stdout",
     "output_type": "stream",
     "text": [
      "wb-mbIH2vfVBBKtP8QTyeRT1YQmD2r8tRnUDwuzjvXDNO5PGejjijND-QxNPeG0dd_kh3q6o-6Wa0Q\n"
     ]
    },
    {
     "name": "stderr",
     "output_type": "stream",
     "text": [
      "\r",
      " 52%|█████████████████████▍                   | 325/621 [07:32<01:34,  3.12it/s]"
     ]
    },
    {
     "name": "stdout",
     "output_type": "stream",
     "text": [
      "5ubzT6dgggYgcYTKtzD5-fqxax5wXCIhGVi-zRV61Bppmooj1-LVjDeaqVNH6W4qrsLuEHRbCmrO0w\n"
     ]
    },
    {
     "name": "stderr",
     "output_type": "stream",
     "text": [
      "\r",
      " 52%|█████████████████████▌                   | 326/621 [07:32<01:31,  3.23it/s]"
     ]
    },
    {
     "name": "stdout",
     "output_type": "stream",
     "text": [
      "tZtYrm13hYy3r30NOHag5TuVNJD0KEYF8v84s-iHzdazRgDsLIl776lXPJ8t7EJw_idcQJRS4fQzrA\n"
     ]
    },
    {
     "name": "stderr",
     "output_type": "stream",
     "text": [
      "\r",
      " 53%|█████████████████████▌                   | 327/621 [07:32<01:29,  3.28it/s]"
     ]
    },
    {
     "name": "stdout",
     "output_type": "stream",
     "text": [
      "J-13dB6PjaR_3EpJso8zXPV8IQmxyul_GoYTD-8XKTjO_NR5osL_o8KYehfffk20-ILywQm4EmVF7w\n"
     ]
    },
    {
     "name": "stderr",
     "output_type": "stream",
     "text": [
      "\r",
      " 53%|█████████████████████▋                   | 328/621 [07:32<01:27,  3.33it/s]"
     ]
    },
    {
     "name": "stdout",
     "output_type": "stream",
     "text": [
      "46XA418qBe2IWOvH8KqIKaO_NIht2M3E6CClEFOz58Jo_qZWr-RbVm7iNCLElidP7O8jwo4h3PTr2w\n"
     ]
    },
    {
     "name": "stderr",
     "output_type": "stream",
     "text": [
      "\r",
      " 53%|█████████████████████▋                   | 329/621 [07:33<01:38,  2.96it/s]"
     ]
    },
    {
     "name": "stdout",
     "output_type": "stream",
     "text": [
      "8xmP_8ptuvu40X7njnS1-xpw5Zo_wE7wKIDKTRLjAwEEvu-KqKasC_daMCqK5fgmQ_q4AB54KmpPbw\n"
     ]
    },
    {
     "name": "stderr",
     "output_type": "stream",
     "text": [
      "\r",
      " 53%|█████████████████████▊                   | 330/621 [07:33<01:34,  3.08it/s]"
     ]
    },
    {
     "name": "stdout",
     "output_type": "stream",
     "text": [
      "FtR2a_GqgUVTzeHk0GS0TfWavoRrV1Y5CIl5YSYIDlwlyPrHnXjoHbw8ryuq5tMlwMzHKQMdlb8QQw\n"
     ]
    },
    {
     "name": "stderr",
     "output_type": "stream",
     "text": [
      "\r",
      " 53%|█████████████████████▊                   | 331/621 [07:33<01:30,  3.21it/s]"
     ]
    },
    {
     "name": "stdout",
     "output_type": "stream",
     "text": [
      "fjLUNiziLTqmu-EiDDjBDbXi-GiLbLIKaHU6dY6gj9e-3q1TFuK1ZpXj7Q-VAxYUhGdkLQRrBbHntQ\n"
     ]
    },
    {
     "name": "stderr",
     "output_type": "stream",
     "text": [
      "\r",
      " 53%|█████████████████████▉                   | 332/621 [07:34<01:27,  3.30it/s]"
     ]
    },
    {
     "name": "stdout",
     "output_type": "stream",
     "text": [
      "DNoRqYEMsjvN6yPv7eTTQtsHcIBdAEAtmTGV9-uNtZE90ckOot4VW1hDWBYpeblktp_2pMwu_3dzHg\n"
     ]
    },
    {
     "name": "stderr",
     "output_type": "stream",
     "text": [
      "\r",
      " 54%|█████████████████████▉                   | 333/621 [07:34<01:26,  3.34it/s]"
     ]
    },
    {
     "name": "stdout",
     "output_type": "stream",
     "text": [
      "JbPgqt8c79p9h1Xik3OFn4IRxRGXC79SwtHy52OAf2BwB9ldJBpIaQPnTQU2pKh_FcRMGIr18Sth1g\n"
     ]
    },
    {
     "name": "stderr",
     "output_type": "stream",
     "text": [
      "\r",
      " 54%|██████████████████████                   | 334/621 [07:34<01:24,  3.38it/s]"
     ]
    },
    {
     "name": "stdout",
     "output_type": "stream",
     "text": [
      "qVl4h7dZSNfNnSULTk74muPrGGVRGU9dVSyTs4q9_vSDk91juh3CMH09d4lzDjYpW9EAIbNiNVdLhw\n"
     ]
    },
    {
     "name": "stderr",
     "output_type": "stream",
     "text": [
      "\r",
      " 54%|██████████████████████                   | 335/621 [07:35<01:22,  3.45it/s]"
     ]
    },
    {
     "name": "stdout",
     "output_type": "stream",
     "text": [
      "kAxqAiOfGNjOvbrXQFmzb1VeC2xBEaQrsXXeJGlc7yD3EoaPvQ37U2r1kqcoAZI3rumqD2wJAGIkUw\n"
     ]
    },
    {
     "name": "stderr",
     "output_type": "stream",
     "text": [
      "\r",
      " 54%|██████████████████████▏                  | 336/621 [07:35<01:22,  3.47it/s]"
     ]
    },
    {
     "name": "stdout",
     "output_type": "stream",
     "text": [
      "SzCELzHqUzv0n2zNbB-kylVGtcpuLJLHyaCm38ndVjpRkm4tRxu-OJOjQRSmCUavPqh__7eNGBhZ4Q\n"
     ]
    },
    {
     "name": "stderr",
     "output_type": "stream",
     "text": [
      "\r",
      " 54%|██████████████████████▏                  | 337/621 [07:35<01:36,  2.95it/s]"
     ]
    },
    {
     "name": "stdout",
     "output_type": "stream",
     "text": [
      "hzTilfxRS7Ql5ueQq_WJ2EftnWkgnf6xCkPSb7aAHBvcyWq6sX_auBW2NxR6nRGZErU55KXPTI2hRw\n"
     ]
    },
    {
     "name": "stderr",
     "output_type": "stream",
     "text": [
      "\r",
      " 54%|██████████████████████▎                  | 338/621 [07:36<01:34,  3.00it/s]"
     ]
    },
    {
     "name": "stdout",
     "output_type": "stream",
     "text": [
      "0VAoBYWs0M8kqoETAllh6d_ONM5Np_9eX9Om4V2sRhY1Z3J-omtCE0Q3Go621asrwsLzURr4AJJK6Q\n"
     ]
    },
    {
     "name": "stderr",
     "output_type": "stream",
     "text": [
      "\r",
      " 55%|██████████████████████▍                  | 339/621 [07:36<01:35,  2.94it/s]"
     ]
    },
    {
     "name": "stdout",
     "output_type": "stream",
     "text": [
      "7jUtsYRZ4-OywoAkIu4mvCcraR8JQ0NQHIsL4MZ8LwZP-oZB-B8FhlvnrGrHNyVDz57xLDCH9cfkCg\n"
     ]
    },
    {
     "name": "stderr",
     "output_type": "stream",
     "text": [
      "\r",
      " 55%|██████████████████████▍                  | 340/621 [07:36<01:31,  3.06it/s]"
     ]
    },
    {
     "name": "stdout",
     "output_type": "stream",
     "text": [
      "y7OlJEvhpVfkr57pPTZIm7FcwyTTMk65NuaNYzbeJMzVq1ktAfTdPHcBLfn5lMHY70avuoma7bHxHA\n",
      "api cost full : infinite loop start\n",
      "loop location :  _bi8ni6Ftv_Z4ryIiYnyZdNVnxHnrr0W2ecoJmrAnf6-S9EY8NzM4RuAcw\n",
      "try 10 second wait time\n",
      "429\n",
      "try 10 second wait time\n",
      "429\n",
      "try 10 second wait time\n",
      "429\n",
      "try 10 second wait time\n",
      "429\n",
      "try 10 second wait time\n",
      "429\n",
      "try 10 second wait time\n",
      "429\n",
      "try 10 second wait time\n",
      "429\n",
      "try 10 second wait time\n",
      "429\n",
      "try 10 second wait time\n",
      "429\n",
      "try 10 second wait time\n"
     ]
    },
    {
     "name": "stderr",
     "output_type": "stream",
     "text": [
      "\r",
      " 55%|█████████████████████▍                 | 341/621 [09:22<2:28:43, 31.87s/it]"
     ]
    },
    {
     "name": "stdout",
     "output_type": "stream",
     "text": [
      "200\n",
      "total wait time :  105.22564792633057\n",
      "recovery api cost\n",
      "HJnDRrExFTZN0cco9SbM6t8zUR9hL-xfhgy5EdRpelQdPVrkbkJzcuRF3y80xjBJmMq6G-qkVJT-AQ\n"
     ]
    },
    {
     "name": "stderr",
     "output_type": "stream",
     "text": [
      "\r",
      " 55%|█████████████████████▍                 | 342/621 [09:23<1:44:52, 22.55s/it]"
     ]
    },
    {
     "name": "stdout",
     "output_type": "stream",
     "text": [
      "ZYrtqw6oS-L-gC50bHX1L4qETOGEbhoXyd5buzcr1gZvrAHeaAzpW0sGh-ygiA3AmFOgNQ09gZz8_w\n"
     ]
    },
    {
     "name": "stderr",
     "output_type": "stream",
     "text": [
      "\r",
      " 55%|█████████████████████▌                 | 343/621 [09:23<1:14:15, 16.03s/it]"
     ]
    },
    {
     "name": "stdout",
     "output_type": "stream",
     "text": [
      "z639yw5eQBeke4HJB3X9opwSKee6OCcEdHp8t0McbYF-tdGl-Xo20Rcy9wl_4sThaLszQmnLUYJjeg\n"
     ]
    },
    {
     "name": "stderr",
     "output_type": "stream",
     "text": [
      "\r",
      " 55%|██████████████████████▋                  | 344/621 [09:25<53:24, 11.57s/it]"
     ]
    },
    {
     "name": "stdout",
     "output_type": "stream",
     "text": [
      "-Qwo0IeLXWbCga7MJsjTL1ebrTCU8d05d4kk6WqZjfQqDM8eH6a2xidD6dtA6Nhi77zJDbp-hOj-7A\n"
     ]
    },
    {
     "name": "stderr",
     "output_type": "stream",
     "text": [
      "\r",
      " 56%|██████████████████████▊                  | 345/621 [09:26<38:57,  8.47s/it]"
     ]
    },
    {
     "name": "stdout",
     "output_type": "stream",
     "text": [
      "VMW0LJMw-7oveohjbFFADSTvw5Rhrc-Q3TCT-xkBBkNeuCGVYyEIZ8ltVA4tadqQRhZyC5zjiGQMtQ\n"
     ]
    },
    {
     "name": "stderr",
     "output_type": "stream",
     "text": [
      "\r",
      " 56%|██████████████████████▊                  | 346/621 [09:26<27:38,  6.03s/it]"
     ]
    },
    {
     "name": "stdout",
     "output_type": "stream",
     "text": [
      "MArFmdq-L_szJUU47Kpf6C6WolvILcSiQeMnVIV5R1fXcRP9oYWoR-MKM12YystFhyOVNWuLxVJl_A\n"
     ]
    },
    {
     "name": "stderr",
     "output_type": "stream",
     "text": [
      "\r",
      " 56%|██████████████████████▉                  | 347/621 [09:27<20:16,  4.44s/it]"
     ]
    },
    {
     "name": "stdout",
     "output_type": "stream",
     "text": [
      "NcZixxsKdcwNq4fNy4w3fZ07DD7s-fyyzM42hMnKnY5K-c-EY6soHahO1E2I11QjesXR3D1tVyvrVQ\n"
     ]
    },
    {
     "name": "stderr",
     "output_type": "stream",
     "text": [
      "\r",
      " 56%|██████████████████████▉                  | 348/621 [09:27<15:01,  3.30s/it]"
     ]
    },
    {
     "name": "stdout",
     "output_type": "stream",
     "text": [
      "snuOo-lCowLapXWZc1RUL4D6XTjoDrtIq-XkKfpxyAB4VMpaJpaKvp3WAPppisv3_Ly9naxPBCP4vw\n"
     ]
    },
    {
     "name": "stderr",
     "output_type": "stream",
     "text": [
      "\r",
      " 56%|███████████████████████                  | 349/621 [09:28<11:35,  2.56s/it]"
     ]
    },
    {
     "name": "stdout",
     "output_type": "stream",
     "text": [
      "iRJ5f2HvAdQSmWF0ayUWdR4vF4LR_WYpYBVeh3cqIsHeeeiQYBayQAxJslSYbm-ivMAUD5zbocN09g\n"
     ]
    },
    {
     "name": "stderr",
     "output_type": "stream",
     "text": [
      "\r",
      " 56%|███████████████████████                  | 350/621 [09:29<08:28,  1.88s/it]"
     ]
    },
    {
     "name": "stdout",
     "output_type": "stream",
     "text": [
      "J02bNJ9ONRGEbdG_Tw9MwrgkZz91XT8JBgW3mLRwDejSFhppm5CZJoNBQ9o8_y0m0eHBjPGTCYkjBQ\n"
     ]
    },
    {
     "name": "stderr",
     "output_type": "stream",
     "text": [
      "\r",
      " 57%|███████████████████████▏                 | 351/621 [09:29<06:24,  1.42s/it]"
     ]
    },
    {
     "name": "stdout",
     "output_type": "stream",
     "text": [
      "kzox3W9qE146gkAHvTKb-gauANacexDinKpzFngfP-pf9V04RGgMS0Wr6FeYOLA1S7NhVm8ynWS6rg\n"
     ]
    },
    {
     "name": "stderr",
     "output_type": "stream",
     "text": [
      "\r",
      " 57%|███████████████████████▏                 | 352/621 [09:29<05:04,  1.13s/it]"
     ]
    },
    {
     "name": "stdout",
     "output_type": "stream",
     "text": [
      "x1ncZwDV1H1Mcpf_FNpak8RHtZIC5NrKaVMTNabwno6W01mJsfntYsJNtLng6c6d0E5-MwGgLYX30Q\n"
     ]
    },
    {
     "name": "stderr",
     "output_type": "stream",
     "text": [
      "\r",
      " 57%|███████████████████████▎                 | 353/621 [09:30<03:54,  1.14it/s]"
     ]
    },
    {
     "name": "stdout",
     "output_type": "stream",
     "text": [
      "Ae7rDWhrL_48wSsrjaCfJH1Qrd4cteyVCVwSrausU22osqakcxrEh-uApCU7yv1ALkjbIAJbuxJUkg\n"
     ]
    },
    {
     "name": "stderr",
     "output_type": "stream",
     "text": [
      "\r",
      " 57%|███████████████████████▎                 | 354/621 [09:30<03:07,  1.42it/s]"
     ]
    },
    {
     "name": "stdout",
     "output_type": "stream",
     "text": [
      "E2rPitEpoLE3rt1_BGnM0nbah7Qej_SBWgS6aBCrAnmEwFeWDs8MxzDAIceDXBFpewVdS8ZJV4WbUg\n"
     ]
    },
    {
     "name": "stderr",
     "output_type": "stream",
     "text": [
      "\r",
      " 57%|███████████████████████▍                 | 355/621 [09:30<02:34,  1.72it/s]"
     ]
    },
    {
     "name": "stdout",
     "output_type": "stream",
     "text": [
      "09qwGoobknDFqVJRlBgkUjjfgMLTZOOACYDjY-aNJIULmpiIiqvi2lB9BaGAtmzGkN2WqU7pi_ZpbA\n"
     ]
    },
    {
     "name": "stderr",
     "output_type": "stream",
     "text": [
      "\r",
      " 57%|███████████████████████▌                 | 356/621 [09:31<02:16,  1.94it/s]"
     ]
    },
    {
     "name": "stdout",
     "output_type": "stream",
     "text": [
      "9a31OsuWXrftbIsImIFmYEzf7BjapErr-JaVgj3C8Tt7-Fmt00-UZbEUUsCSu6bAUKGElTNdRGUcYA\n"
     ]
    },
    {
     "name": "stderr",
     "output_type": "stream",
     "text": [
      "\r",
      " 57%|███████████████████████▌                 | 357/621 [09:31<01:57,  2.24it/s]"
     ]
    },
    {
     "name": "stdout",
     "output_type": "stream",
     "text": [
      "FR6Jun3rubQCYyUxQ-IZV926rTzcdgvrMsQWjlyWUwKvabmqVkX9BSkkLbRv1VGGgqHP_XNkvnPJNw\n"
     ]
    },
    {
     "name": "stderr",
     "output_type": "stream",
     "text": [
      "\r",
      " 58%|███████████████████████▋                 | 358/621 [09:31<02:06,  2.08it/s]"
     ]
    },
    {
     "name": "stdout",
     "output_type": "stream",
     "text": [
      "E9g_qLNPZvUl1YKil_Dqa4KZgWi9KsthxBJNnixd-NhNjwnc5BvGfcpY3N1USv91dB40sDwUydE6Xw\n"
     ]
    },
    {
     "name": "stderr",
     "output_type": "stream",
     "text": [
      "\r",
      " 58%|███████████████████████▋                 | 359/621 [09:32<02:22,  1.83it/s]"
     ]
    },
    {
     "name": "stdout",
     "output_type": "stream",
     "text": [
      "R0BSXj1fHSTkStBFKgjb1BSNYNmbIQOEMVPuFBpb6bvKQTqMypHQJCDN1wzrr0LmufG3Cemdz8ayqA\n"
     ]
    },
    {
     "name": "stderr",
     "output_type": "stream",
     "text": [
      "\r",
      " 58%|███████████████████████▊                 | 360/621 [09:32<02:02,  2.13it/s]"
     ]
    },
    {
     "name": "stdout",
     "output_type": "stream",
     "text": [
      "8dereFCyd3GiYarh1r-uxyKRmCA7OBYc57iPyAcp7ghmNm5dkfHDoWvp9GUJ4FUWSNlNhWb3TS74gQ\n"
     ]
    },
    {
     "name": "stderr",
     "output_type": "stream",
     "text": [
      "\r",
      " 58%|███████████████████████▊                 | 361/621 [09:33<01:50,  2.34it/s]"
     ]
    },
    {
     "name": "stdout",
     "output_type": "stream",
     "text": [
      "zwBs1OCIUMWTyQaAJs9ZOQUQO4Yfr9xXH7XLH1ol-_YUTWNV1vd7hHdEfSigyIBJ_TfbFox8bv9bdw\n"
     ]
    },
    {
     "name": "stderr",
     "output_type": "stream",
     "text": [
      "\r",
      " 58%|███████████████████████▉                 | 362/621 [09:33<01:43,  2.50it/s]"
     ]
    },
    {
     "name": "stdout",
     "output_type": "stream",
     "text": [
      "1NM-NN4NwKV5hmXi6lI5ruFP7lzv5gCKsdv7kY3T5hAJT8e9AXrqsOETr6zbWgJixA9_suBuK8jdBg\n"
     ]
    },
    {
     "name": "stderr",
     "output_type": "stream",
     "text": [
      "\r",
      " 58%|███████████████████████▉                 | 363/621 [09:33<01:36,  2.67it/s]"
     ]
    },
    {
     "name": "stdout",
     "output_type": "stream",
     "text": [
      "9_2N8Iipl4fbnVNqow1OESiqCqiziOwoWTQNW1SPAb2Qu9vkbRYmU7ApXGTM0MB0amQU0MKa-o__hA\n"
     ]
    },
    {
     "name": "stderr",
     "output_type": "stream",
     "text": [
      "\r",
      " 59%|████████████████████████                 | 364/621 [09:34<01:31,  2.80it/s]"
     ]
    },
    {
     "name": "stdout",
     "output_type": "stream",
     "text": [
      "cyCkZkIDFc-DruDqAB6D5BYfr4j6sUII1ZJRi9PFVLQAKU9JcmH-sBTptvEi5s9xgsfsJAnuOrXySw\n"
     ]
    },
    {
     "name": "stderr",
     "output_type": "stream",
     "text": [
      "\r",
      " 59%|████████████████████████                 | 365/621 [09:34<01:25,  2.99it/s]"
     ]
    },
    {
     "name": "stdout",
     "output_type": "stream",
     "text": [
      "t_1RGwDkAxWmxjwg1aYc0lRkr2SJclwyoJCgBRrNDmYYGn3jPU4lTr5gGbxOW6RdjM0ftMpkSonUkw\n"
     ]
    },
    {
     "name": "stderr",
     "output_type": "stream",
     "text": [
      "\r",
      " 59%|████████████████████████▏                | 366/621 [09:34<01:22,  3.08it/s]"
     ]
    },
    {
     "name": "stdout",
     "output_type": "stream",
     "text": [
      "gfRFzmGgm0CcpHDW0lPI3G1fRbN7GohhPwtLNgui_k-EDFRO5uErSYNHO9IY6QTZ60UYblJux7vg-g\n"
     ]
    },
    {
     "name": "stderr",
     "output_type": "stream",
     "text": [
      "\r",
      " 59%|████████████████████████▏                | 367/621 [09:35<01:27,  2.91it/s]"
     ]
    },
    {
     "name": "stdout",
     "output_type": "stream",
     "text": [
      "uzTLIVa8VXNgBwrfOqvwJSV0hOdu4zBEjJuW7KdZfnNgmd1Rwe8hbV3gYcwJU8tW5MRahqA6Q1zOQQ\n"
     ]
    },
    {
     "name": "stderr",
     "output_type": "stream",
     "text": [
      "\r",
      " 59%|████████████████████████▎                | 368/621 [09:35<01:21,  3.09it/s]"
     ]
    },
    {
     "name": "stdout",
     "output_type": "stream",
     "text": [
      "mbdL_VPwzS7HNhLZ8VvTkc0RwdOCeRowKsxCsxYxtYI9MIu6D_jnqdx4gnu7_UCR4JGG9pyxdD7sdQ\n"
     ]
    },
    {
     "name": "stderr",
     "output_type": "stream",
     "text": [
      "\r",
      " 59%|████████████████████████▎                | 369/621 [09:35<01:18,  3.22it/s]"
     ]
    },
    {
     "name": "stdout",
     "output_type": "stream",
     "text": [
      "EZge9NBBTfO9n7DULVS2S3A5Op1w7umK6s6dv9Thm3-N2tXNe89EyWP74Dqf85uw63KSDPip1kbO4Q\n"
     ]
    },
    {
     "name": "stderr",
     "output_type": "stream",
     "text": [
      "\r",
      " 60%|████████████████████████▍                | 370/621 [09:36<01:22,  3.03it/s]"
     ]
    },
    {
     "name": "stdout",
     "output_type": "stream",
     "text": [
      "vb6-9zR_WZVVcvHUSVtFvEBCsVl82ZMjjroGceR0Itmlkh57vENZNhql8uAkIKUAImlYl1mQM_cwWg\n"
     ]
    },
    {
     "name": "stderr",
     "output_type": "stream",
     "text": [
      "\r",
      " 60%|████████████████████████▍                | 371/621 [09:36<01:19,  3.13it/s]"
     ]
    },
    {
     "name": "stdout",
     "output_type": "stream",
     "text": [
      "B26r_MYicQWQNoodiizZ1fmN5Bqi2J3e36gFSQKkDT1-02tnYHMG38cQO_ivqUYhOj92kWJXXr6CQw\n"
     ]
    },
    {
     "name": "stderr",
     "output_type": "stream",
     "text": [
      "\r",
      " 60%|████████████████████████▌                | 372/621 [09:36<01:16,  3.24it/s]"
     ]
    },
    {
     "name": "stdout",
     "output_type": "stream",
     "text": [
      "Bg8bu9xh7--xNSiY0DNpT0_OpyHVxzbPGTMAPQhqM1CXnQUjJgpv46My5p-QWy-78rmpl1hKpe_sgg\n"
     ]
    },
    {
     "name": "stderr",
     "output_type": "stream",
     "text": [
      "\r",
      " 60%|████████████████████████▋                | 373/621 [09:37<01:15,  3.27it/s]"
     ]
    },
    {
     "name": "stdout",
     "output_type": "stream",
     "text": [
      "rFP2qHkc2BEN3XljOUfr2faP6QWn2pZVQX31gNyZGqOyjVu5VvtKHmzwZJ7B1Vlw4cCZiWSEaBlwoQ\n"
     ]
    },
    {
     "name": "stderr",
     "output_type": "stream",
     "text": [
      "\r",
      " 60%|████████████████████████▋                | 374/621 [09:37<01:14,  3.31it/s]"
     ]
    },
    {
     "name": "stdout",
     "output_type": "stream",
     "text": [
      "CS7kW6cmV969UnTSxBarAK5_kU3m-i2BGqIFC1JcdvuoxUkYJmOyumwYw0ZSajQw0GbAq-lRu5ep4A\n"
     ]
    },
    {
     "name": "stderr",
     "output_type": "stream",
     "text": [
      "\r",
      " 60%|████████████████████████▊                | 375/621 [09:37<01:19,  3.09it/s]"
     ]
    },
    {
     "name": "stdout",
     "output_type": "stream",
     "text": [
      "Bg84wuqeJlYg-qgSqY3hLyEQpjcIJeESolOPC173hHmp0s4iGKnl7F4wuVqVMli98EdX04SdUYA1XQ\n"
     ]
    },
    {
     "name": "stderr",
     "output_type": "stream",
     "text": [
      "\r",
      " 61%|████████████████████████▊                | 376/621 [09:38<01:18,  3.11it/s]"
     ]
    },
    {
     "name": "stdout",
     "output_type": "stream",
     "text": [
      "Shu8TTLB6rke1VIJ72SWzyQh73Y05qLrV9QURR_Le7_3tMkD62MDGPF942GmLv3ItXN-hInkTOwU8Q\n"
     ]
    },
    {
     "name": "stderr",
     "output_type": "stream",
     "text": [
      "\r",
      " 61%|████████████████████████▉                | 377/621 [09:38<01:15,  3.24it/s]"
     ]
    },
    {
     "name": "stdout",
     "output_type": "stream",
     "text": [
      "sj3BeY46zyXfMV-SRv3ZIfU6004n28aq1C9WVUPT4TCHNPfsVvg31vusPBilFnoQ84FLaFg12kQZYg\n"
     ]
    },
    {
     "name": "stderr",
     "output_type": "stream",
     "text": [
      "\r",
      " 61%|████████████████████████▉                | 378/621 [09:38<01:12,  3.33it/s]"
     ]
    },
    {
     "name": "stdout",
     "output_type": "stream",
     "text": [
      "-ywBfXVh2YVJ250S-9t1fTGkvKzTOUTNM6LwwNl6w3UpiQGxB6UqFwQnirnapl4VTCRybK80YxLOOA\n"
     ]
    },
    {
     "name": "stderr",
     "output_type": "stream",
     "text": [
      "\r",
      " 61%|█████████████████████████                | 379/621 [09:38<01:15,  3.20it/s]"
     ]
    },
    {
     "name": "stdout",
     "output_type": "stream",
     "text": [
      "Zx41RxppCISo8dB4JdWYzEXgvktDaRyadXh2UO3KxPY5ummP1xIKkJaTNH0qEWQ3L1fIk11GMAvKkQ\n"
     ]
    },
    {
     "name": "stderr",
     "output_type": "stream",
     "text": [
      "\r",
      " 61%|█████████████████████████                | 380/621 [09:39<01:13,  3.27it/s]"
     ]
    },
    {
     "name": "stdout",
     "output_type": "stream",
     "text": [
      "z5VMii2f0C4Yme_vWkognroLfdE60kb4Vet--yfbAt53DRPqceFRr3jvuYZtYRS1hCBYhv2061U6wA\n"
     ]
    },
    {
     "name": "stderr",
     "output_type": "stream",
     "text": [
      "\r",
      " 61%|█████████████████████████▏               | 381/621 [09:39<01:12,  3.30it/s]"
     ]
    },
    {
     "name": "stdout",
     "output_type": "stream",
     "text": [
      "0zaW6R19wSvTycHmbuVF9nfU_-xlhBj76UeEwAFIsosFy8VdxaB_-dZdzB7Ihn-Z9C3bqzdBur-kRg\n"
     ]
    },
    {
     "name": "stderr",
     "output_type": "stream",
     "text": [
      "\r",
      " 62%|█████████████████████████▏               | 382/621 [09:39<01:11,  3.33it/s]"
     ]
    },
    {
     "name": "stdout",
     "output_type": "stream",
     "text": [
      "6IBgPO_L0kK9zyxdtUPdoq9jmKvnPqzb6wlL7qqEDJL96MnReWkkmA943HbeZ2O71SEalfTVhG1qRQ\n"
     ]
    },
    {
     "name": "stderr",
     "output_type": "stream",
     "text": [
      "\r",
      " 62%|█████████████████████████▎               | 383/621 [09:40<01:10,  3.40it/s]"
     ]
    },
    {
     "name": "stdout",
     "output_type": "stream",
     "text": [
      "cT9fr7oboi1OIksChayzh2W_h4Lcb50Jg-xnSL6b1-OtbigXfdrmU5CDaHH-1VFlxxgEwdUZakTH7A\n"
     ]
    },
    {
     "name": "stderr",
     "output_type": "stream",
     "text": [
      "\r",
      " 62%|█████████████████████████▎               | 384/621 [09:40<01:09,  3.41it/s]"
     ]
    },
    {
     "name": "stdout",
     "output_type": "stream",
     "text": [
      "kKdGUGUxWq9mrI0nCCbKWZyXH_VBcUC85el7D_SQr-X-kKlkk62FRwKwsQDGbRY63yacDm-EwrwZvQ\n"
     ]
    },
    {
     "name": "stderr",
     "output_type": "stream",
     "text": [
      "\r",
      " 62%|█████████████████████████▍               | 385/621 [09:40<01:09,  3.40it/s]"
     ]
    },
    {
     "name": "stdout",
     "output_type": "stream",
     "text": [
      "tf0L1xHK5hmsEmdRJnAH1F7KtCRa2FBkVL5DJijSZsVWrO_1B7_fHPW0qkAvludvB4xRTu2Mb_5C3Q\n"
     ]
    },
    {
     "name": "stderr",
     "output_type": "stream",
     "text": [
      "\r",
      " 62%|█████████████████████████▍               | 386/621 [09:40<01:08,  3.43it/s]"
     ]
    },
    {
     "name": "stdout",
     "output_type": "stream",
     "text": [
      "jXgLBv4nAPoW9Eq8mUcE2sB8BcdE0Lhu_GS_vSNMLeHUrPR6GhJME-UZET2sAP9iK6wC5Clnqt8dNg\n"
     ]
    },
    {
     "name": "stderr",
     "output_type": "stream",
     "text": [
      "\r",
      " 62%|█████████████████████████▌               | 387/621 [09:41<01:08,  3.44it/s]"
     ]
    },
    {
     "name": "stdout",
     "output_type": "stream",
     "text": [
      "eSaEj25iRmcGDRcakBoyve7Y_GJhIPFqUTlNg9FXTBBH8Kqnx607aofM88CVFCCNXIco6vu4AFyS6w\n"
     ]
    },
    {
     "name": "stderr",
     "output_type": "stream",
     "text": [
      "\r",
      " 62%|█████████████████████████▌               | 388/621 [09:41<01:10,  3.31it/s]"
     ]
    },
    {
     "name": "stdout",
     "output_type": "stream",
     "text": [
      "DNw88PgWAcQ_iKhTCDKoF_9ofx8o9qzZA29yTEyQf8ofcepSrQpUV9sdt4UMQ5cd9roSZKVv0b-Jmw\n"
     ]
    },
    {
     "name": "stderr",
     "output_type": "stream",
     "text": [
      "\r",
      " 63%|█████████████████████████▋               | 389/621 [09:41<01:10,  3.30it/s]"
     ]
    },
    {
     "name": "stdout",
     "output_type": "stream",
     "text": [
      "GctpkYmiLzz-U9bMEuplOb-1LgOnpwPcxsJZKVXX56Yd6bLZmqQBMZv_xmvKakmHOI9Gk-tunTishg\n",
      "api cost full : infinite loop start\n",
      "loop location :  rGZwZyGBKoGZXOm_xCc2SbTfMYIRbZdrg9Z59zxi7muoVec\n",
      "try 10 second wait time\n",
      "429\n",
      "try 10 second wait time\n",
      "429\n",
      "try 10 second wait time\n",
      "429\n",
      "try 10 second wait time\n",
      "429\n",
      "try 10 second wait time\n",
      "429\n",
      "try 10 second wait time\n",
      "429\n",
      "try 10 second wait time\n",
      "429\n",
      "try 10 second wait time\n",
      "429\n",
      "try 10 second wait time\n",
      "429\n",
      "try 10 second wait time\n"
     ]
    },
    {
     "name": "stderr",
     "output_type": "stream",
     "text": [
      "\r",
      " 63%|████████████████████████▍              | 390/621 [11:25<2:00:48, 31.38s/it]"
     ]
    },
    {
     "name": "stdout",
     "output_type": "stream",
     "text": [
      "200\n",
      "total wait time :  103.64857292175293\n",
      "recovery api cost\n",
      "5R_mOkumidPDE8QEdI6peJEDR3uzr4dBJjFKZXun23KXQphbs5_wQ0fkymUpCiSmaUvP4COWxdr3mQ\n"
     ]
    },
    {
     "name": "stderr",
     "output_type": "stream",
     "text": [
      "\r",
      " 63%|████████████████████████▌              | 391/621 [11:26<1:25:12, 22.23s/it]"
     ]
    },
    {
     "name": "stdout",
     "output_type": "stream",
     "text": [
      "cePv5_WKECtze7Gfw8fopJnxkXRRb3ZogQh5QouXID-CWOIi8DKZZoep7FiaaOHIgJ1RGPjEu7zovw\n"
     ]
    },
    {
     "name": "stderr",
     "output_type": "stream",
     "text": [
      "\r",
      " 63%|█████████████████████████▉               | 392/621 [11:26<59:45, 15.66s/it]"
     ]
    },
    {
     "name": "stdout",
     "output_type": "stream",
     "text": [
      "eu_AH-90d4UrK0lnr9bgv7IbZ-ONFtEKBq48RsgZY_iV1h39cefLSN_y33Y1DmKXqPm4hDO5NxaRJA\n"
     ]
    },
    {
     "name": "stderr",
     "output_type": "stream",
     "text": [
      "\r",
      " 63%|█████████████████████████▉               | 393/621 [11:27<42:47, 11.26s/it]"
     ]
    },
    {
     "name": "stdout",
     "output_type": "stream",
     "text": [
      "PcGfkDfFIakmUTvm_-mpessT9aiddAD5O4gM_kkQOYV4hnAqLhnFkO9HIxf6YVQ4NHX8Hk4NGXMkYg\n"
     ]
    },
    {
     "name": "stderr",
     "output_type": "stream",
     "text": [
      "\r",
      " 63%|██████████████████████████               | 394/621 [11:28<30:47,  8.14s/it]"
     ]
    },
    {
     "name": "stdout",
     "output_type": "stream",
     "text": [
      "ryy7Qhcc6PPqbkxu0noKvLeiAet_6c1E2ejEorxB9xATwuk2bXOYz8Mtj5212pAynnRrPwS7OSS_jw\n"
     ]
    },
    {
     "name": "stderr",
     "output_type": "stream",
     "text": [
      "\r",
      " 64%|██████████████████████████               | 395/621 [11:29<21:47,  5.79s/it]"
     ]
    },
    {
     "name": "stdout",
     "output_type": "stream",
     "text": [
      "Z7mv9kzJ_s9j6TgI1nsnQEnCFI4DIT1P9qj4KLOWO3nDIOs5fizCsXI5j-AuR9I4F4RLTyl3yeovWA\n"
     ]
    },
    {
     "name": "stderr",
     "output_type": "stream",
     "text": [
      "\r",
      " 64%|██████████████████████████▏              | 396/621 [11:29<15:49,  4.22s/it]"
     ]
    },
    {
     "name": "stdout",
     "output_type": "stream",
     "text": [
      "puzAqEEHyzM2nr21R4n1e4FMEtHh8SF8kgSGHkZdHNbVHvBEQFq4YlSysob58I9GvYnt6NyXCtNJwg\n"
     ]
    },
    {
     "name": "stderr",
     "output_type": "stream",
     "text": [
      "\r",
      " 64%|██████████████████████████▏              | 397/621 [11:30<11:49,  3.17s/it]"
     ]
    },
    {
     "name": "stdout",
     "output_type": "stream",
     "text": [
      "_8wgXKIMdnmKoEw945fzFfmcpxuoDb2BYZxleEKaAphCuT6QC5H199lT9QJF-Ppzsja9sSKulh16UA\n"
     ]
    },
    {
     "name": "stderr",
     "output_type": "stream",
     "text": [
      "\r",
      " 64%|██████████████████████████▎              | 398/621 [11:30<08:34,  2.31s/it]"
     ]
    },
    {
     "name": "stdout",
     "output_type": "stream",
     "text": [
      "s-T7GfDK-0cIPUNifEUd3rRT2V4jLoyNf9ydBDmfMV1BXJUQ1ud_61Uud8Ocuyfg_LNONVz-ZqRFKQ\n"
     ]
    },
    {
     "name": "stderr",
     "output_type": "stream",
     "text": [
      "\r",
      " 64%|██████████████████████████▎              | 399/621 [11:31<07:00,  1.89s/it]"
     ]
    },
    {
     "name": "stdout",
     "output_type": "stream",
     "text": [
      "KjpHeYGA4UFYsXW1_-aBYGBbTgdVw4in2CY5JiSlxQ5UA8kOb24VWOkPP_EV-d7y1mPlQTD5T3Q3lQ\n"
     ]
    },
    {
     "name": "stderr",
     "output_type": "stream",
     "text": [
      "\r",
      " 64%|██████████████████████████▍              | 400/621 [11:32<05:17,  1.44s/it]"
     ]
    },
    {
     "name": "stdout",
     "output_type": "stream",
     "text": [
      "XuUDEzdiDIlMsXmzFJkSZ4UNgKotPJ2Rnn023_ERrn96mlttTKcRm6BDGULDyoS5V4tXYqfmjiZSPQ\n"
     ]
    },
    {
     "name": "stderr",
     "output_type": "stream",
     "text": [
      "\r",
      " 65%|██████████████████████████▍              | 401/621 [11:32<04:00,  1.09s/it]"
     ]
    },
    {
     "name": "stdout",
     "output_type": "stream",
     "text": [
      "7M5FFWanYM9Sl518xPUfDVQR3MnUoLQQ7SvI2HLkDNdxUxArVEqFx5qQ8-mPuwGOmddgCDUzVw3U7Q\n"
     ]
    },
    {
     "name": "stderr",
     "output_type": "stream",
     "text": [
      "\r",
      " 65%|██████████████████████████▌              | 402/621 [11:32<03:07,  1.17it/s]"
     ]
    },
    {
     "name": "stdout",
     "output_type": "stream",
     "text": [
      "5p3sHQOYgZ1HnFz9cLSKDziQ1Y8HTw4R83Suhud7YI21E9d2a8gRitlbgFwgoXHaoQjGgOgPHLNl2w\n"
     ]
    },
    {
     "name": "stderr",
     "output_type": "stream",
     "text": [
      "\r",
      " 65%|██████████████████████████▌              | 403/621 [11:33<02:50,  1.28it/s]"
     ]
    },
    {
     "name": "stdout",
     "output_type": "stream",
     "text": [
      "Z5r4BO7OgS1TIocSRyD6XqLBE94iVECEQ6XSQ8n_140oCz_3RrD_6PI9DaAm3RIfp3FYzQwRQSFQHw\n"
     ]
    },
    {
     "name": "stderr",
     "output_type": "stream",
     "text": [
      "\r",
      " 65%|██████████████████████████▋              | 404/621 [11:33<02:18,  1.56it/s]"
     ]
    },
    {
     "name": "stdout",
     "output_type": "stream",
     "text": [
      "DS6Par49tE9xfWTJHlALMEhvjeUIdGVrKzuMYVeYH7miczXGmQS0tsozcs4Gh35johmvYhf1z-kO7A\n"
     ]
    },
    {
     "name": "stderr",
     "output_type": "stream",
     "text": [
      "\r",
      " 65%|██████████████████████████▋              | 405/621 [11:33<01:55,  1.87it/s]"
     ]
    },
    {
     "name": "stdout",
     "output_type": "stream",
     "text": [
      "55IYUmQliLbpjRWqUnL78f-bgZqKqo4mpu6JOBlGoBtNXg3QfdtNlK8MQEAKnSnI0NAu-3elOnw1NA\n"
     ]
    },
    {
     "name": "stderr",
     "output_type": "stream",
     "text": [
      "\r",
      " 65%|██████████████████████████▊              | 406/621 [11:34<01:40,  2.14it/s]"
     ]
    },
    {
     "name": "stdout",
     "output_type": "stream",
     "text": [
      "pyAxe26qjmzKRTI--DNpyQeOw1gGz3WrdgBgO2mmCVvzslYv5W8RiXk7H58eqpbWmSPm1HPZQ_JipQ\n"
     ]
    },
    {
     "name": "stderr",
     "output_type": "stream",
     "text": [
      "\r",
      " 66%|██████████████████████████▊              | 407/621 [11:34<01:34,  2.26it/s]"
     ]
    },
    {
     "name": "stdout",
     "output_type": "stream",
     "text": [
      "X-3RPHL3Svc98wcXbB81MtnM1W478vlfRguZfD8PN83-5kmX7xBDfBwh8ElhbxHPUKBvna4H1msxQw\n"
     ]
    },
    {
     "name": "stderr",
     "output_type": "stream",
     "text": [
      "\r",
      " 66%|██████████████████████████▉              | 408/621 [11:34<01:25,  2.50it/s]"
     ]
    },
    {
     "name": "stdout",
     "output_type": "stream",
     "text": [
      "wN1ibC8ZN9QOfawlEvbBlVmqpWTCvWDAVBF41cSyJSZlB7ThYjbi35MhJV4SjGesRzeLX0gTW_qqOw\n"
     ]
    },
    {
     "name": "stderr",
     "output_type": "stream",
     "text": [
      "\r",
      " 66%|███████████████████████████              | 409/621 [11:35<01:32,  2.30it/s]"
     ]
    },
    {
     "name": "stdout",
     "output_type": "stream",
     "text": [
      "hjP2K6r3dJ0uE3KMm4D9ff_cCWJgc1z1PQrrWV5dlvyC6XikdyXMVbyyZAKu-fOrPONRXe_T9b3JJw\n"
     ]
    },
    {
     "name": "stderr",
     "output_type": "stream",
     "text": [
      "\r",
      " 66%|███████████████████████████              | 410/621 [11:35<01:23,  2.54it/s]"
     ]
    },
    {
     "name": "stdout",
     "output_type": "stream",
     "text": [
      "1wHSGNNv9q7QUesGBlFVjQodymwGyF6IwAMj_QU-5ulkanILVQjxIzlNUlAtlj2cTSxiTaE2OmsjZA\n"
     ]
    },
    {
     "name": "stderr",
     "output_type": "stream",
     "text": [
      "\r",
      " 66%|███████████████████████████▏             | 411/621 [11:35<01:15,  2.77it/s]"
     ]
    },
    {
     "name": "stdout",
     "output_type": "stream",
     "text": [
      "8xvSECUKj1qnsrvujKdtEo8M9Omqg8_DR9nQD3tYT2KBBzXolrUqqsboE42Hq6Z2kU9FJNv03ojIYA\n"
     ]
    },
    {
     "name": "stderr",
     "output_type": "stream",
     "text": [
      "\r",
      " 66%|███████████████████████████▏             | 412/621 [11:36<01:10,  2.96it/s]"
     ]
    },
    {
     "name": "stdout",
     "output_type": "stream",
     "text": [
      "2zrWP1YzSr9NqcHAlWgj4CTUjeNiT83UUkioT_91hN1ofbswFq_zvnb_NKeE8FbEfIMK-jLbNP8uZA\n"
     ]
    },
    {
     "name": "stderr",
     "output_type": "stream",
     "text": [
      "\r",
      " 67%|███████████████████████████▎             | 413/621 [11:39<03:56,  1.14s/it]"
     ]
    },
    {
     "name": "stdout",
     "output_type": "stream",
     "text": [
      "_D6mP16aHnicpp8H_riXFB9z-bJupA9Snh1LUtuc7xYJho3VRxYhfaPYAtwtri2dTIwGWUkGpkSm2Q\n"
     ]
    },
    {
     "name": "stderr",
     "output_type": "stream",
     "text": [
      "\r",
      " 67%|███████████████████████████▎             | 414/621 [11:39<03:15,  1.06it/s]"
     ]
    },
    {
     "name": "stdout",
     "output_type": "stream",
     "text": [
      "u7I25L8HbeGih7Pm5-dXcVKqcD_Qs5j9c3M5gHUWaxnHnFScylevFX3OqiMCShomJEIBq8SpcXI3ZQ\n"
     ]
    },
    {
     "name": "stderr",
     "output_type": "stream",
     "text": [
      "\r",
      " 67%|███████████████████████████▍             | 415/621 [11:40<02:54,  1.18it/s]"
     ]
    },
    {
     "name": "stdout",
     "output_type": "stream",
     "text": [
      "g2RKTQF_fum23-Q8Au53h1R3xZtqUO-oKDqsRIUJHIV4xT6qFyr2CcOMcJ9OJxAdookgmvO_XLay0Q\n"
     ]
    },
    {
     "name": "stderr",
     "output_type": "stream",
     "text": [
      "\r",
      " 67%|███████████████████████████▍             | 416/621 [11:40<02:32,  1.35it/s]"
     ]
    },
    {
     "name": "stdout",
     "output_type": "stream",
     "text": [
      "uvbD2qlRZUjhTZaTK-WatWFj0THmm4xEdQy1K2-6zNjfLwAcBgdvEg3yTUS8MR7EySxa_w8PaWV84g\n"
     ]
    },
    {
     "name": "stderr",
     "output_type": "stream",
     "text": [
      "\r",
      " 67%|███████████████████████████▌             | 417/621 [11:41<02:03,  1.65it/s]"
     ]
    },
    {
     "name": "stdout",
     "output_type": "stream",
     "text": [
      "pOLmzJAhFBsPyN1R0tl2EVPT81zNyWyWcIZEY1Ij-Vm7Z2deAnEsp3Gr74-mg7ZTosXygC5WenCDFQ\n"
     ]
    },
    {
     "name": "stderr",
     "output_type": "stream",
     "text": [
      "\r",
      " 67%|███████████████████████████▌             | 418/621 [11:41<01:46,  1.91it/s]"
     ]
    },
    {
     "name": "stdout",
     "output_type": "stream",
     "text": [
      "JSmiiWxCJeQVlrXg_OEtskjRPxDSVJ2uZd03QmQOWlGhmPo_4s_nqJukuLMsJyrMJ_byNdT0YPhptw\n"
     ]
    },
    {
     "name": "stderr",
     "output_type": "stream",
     "text": [
      "\r",
      " 67%|███████████████████████████▋             | 419/621 [11:42<02:04,  1.62it/s]"
     ]
    },
    {
     "name": "stdout",
     "output_type": "stream",
     "text": [
      "gDWwY37IdkO26q81-t-IgUmpntFNIvFjljL7yyc3AvF25xJb9wCkFl4kelesRBM3xuIalhyHdo-vtg\n"
     ]
    },
    {
     "name": "stderr",
     "output_type": "stream",
     "text": [
      "\r",
      " 68%|███████████████████████████▋             | 420/621 [11:42<02:02,  1.64it/s]"
     ]
    },
    {
     "name": "stdout",
     "output_type": "stream",
     "text": [
      "-BbivjlEvbbuPcV7h7AQUJ-rJkZ-zR-feVn7G67jJdFPSdFYNpsOwV8EPSsrOgSV0dxBl0qeTDkRyg\n"
     ]
    },
    {
     "name": "stderr",
     "output_type": "stream",
     "text": [
      "\r",
      " 68%|███████████████████████████▊             | 421/621 [11:43<02:02,  1.63it/s]"
     ]
    },
    {
     "name": "stdout",
     "output_type": "stream",
     "text": [
      "rTMtlvPUvEvB3oCJP5YQ6BU4e8i8cXQTQlldjNlt9whnTDT5VzHcmQIMYefNfB-EKijCmK4POoWPJw\n"
     ]
    },
    {
     "name": "stderr",
     "output_type": "stream",
     "text": [
      "\r",
      " 68%|███████████████████████████▊             | 422/621 [11:43<01:44,  1.91it/s]"
     ]
    },
    {
     "name": "stdout",
     "output_type": "stream",
     "text": [
      "4YVRIY1RnPcaI1euHhT3ae9YmnEdbzvdJOJAno1eK2FnxpLyrOgmYyh5EwfcZF_5WLgjHzqcnDoQ9Q\n"
     ]
    },
    {
     "name": "stderr",
     "output_type": "stream",
     "text": [
      "\r",
      " 68%|███████████████████████████▉             | 423/621 [11:44<01:38,  2.00it/s]"
     ]
    },
    {
     "name": "stdout",
     "output_type": "stream",
     "text": [
      "qsgdg497x09IKT990Aw-7a08OcCGNSvn7zNc96SDulaVxLZL5GxdDdcBe70A3KMWnVDMtqh9iFpKTw\n"
     ]
    },
    {
     "name": "stderr",
     "output_type": "stream",
     "text": [
      "\r",
      " 68%|███████████████████████████▉             | 424/621 [11:44<01:31,  2.14it/s]"
     ]
    },
    {
     "name": "stdout",
     "output_type": "stream",
     "text": [
      "xkjC-qz45M_WchsVFdoeov9CtqbSh-oPmHzg65pUvWflDJHIiLdD3--AhwkFOBaJZupgilIUOvG-7A\n"
     ]
    },
    {
     "name": "stderr",
     "output_type": "stream",
     "text": [
      "\r",
      " 68%|████████████████████████████             | 425/621 [11:44<01:20,  2.42it/s]"
     ]
    },
    {
     "name": "stdout",
     "output_type": "stream",
     "text": [
      "w_6t8gzykgVonur2IUhAflcwVCT6rwF_nfkbwrhvKmSjrnpx7_pize3dYUOExD_HVh8iJN5IWkgpkg\n"
     ]
    },
    {
     "name": "stderr",
     "output_type": "stream",
     "text": [
      "\r",
      " 69%|████████████████████████████▏            | 426/621 [11:45<01:12,  2.68it/s]"
     ]
    },
    {
     "name": "stdout",
     "output_type": "stream",
     "text": [
      "J20AprcNu6bbQioA2oG_xbM5h3EEPYtVn0z0OWd8XQADMo8zrO32ybec8NI62-H27FH-xCec3xOHNQ\n"
     ]
    },
    {
     "name": "stderr",
     "output_type": "stream",
     "text": [
      "\r",
      " 69%|████████████████████████████▏            | 427/621 [11:45<01:18,  2.48it/s]"
     ]
    },
    {
     "name": "stdout",
     "output_type": "stream",
     "text": [
      "CaonrkuNL01O-x9F5R1cn8s8jJBtrbYuzNETbVYfDn4OE4sNKNMwmYN3_UWqu7URceVj-BsQnAa4Qg\n"
     ]
    },
    {
     "name": "stderr",
     "output_type": "stream",
     "text": [
      "\r",
      " 69%|████████████████████████████▎            | 428/621 [11:46<01:15,  2.56it/s]"
     ]
    },
    {
     "name": "stdout",
     "output_type": "stream",
     "text": [
      "IxYNCwNn6wyMNXEaQ3eWnwCJzsMDLURPTLSjKZ0xfDjp3viWDpmaL0lxTtBjT9wudpggySPPlU6cow\n"
     ]
    },
    {
     "name": "stderr",
     "output_type": "stream",
     "text": [
      "\r",
      " 69%|████████████████████████████▎            | 429/621 [11:46<01:10,  2.72it/s]"
     ]
    },
    {
     "name": "stdout",
     "output_type": "stream",
     "text": [
      "DlejHAu2aBHdLTbLwphX6LnZhKaxBU7ibiNsUql1maJzJczKJ83w73i3eUD8VHd7bZDC246Uuktxuw\n"
     ]
    },
    {
     "name": "stderr",
     "output_type": "stream",
     "text": [
      "\r",
      " 69%|████████████████████████████▍            | 430/621 [11:46<01:05,  2.90it/s]"
     ]
    },
    {
     "name": "stdout",
     "output_type": "stream",
     "text": [
      "PwcrkWMQ396r2-HVGd8Ajn5UdYAsLdVMvZcDsnY1k1-VfaRZCjgJcR4qGTKxan1ephtJAKo9Apb-UQ\n"
     ]
    },
    {
     "name": "stderr",
     "output_type": "stream",
     "text": [
      "\r",
      " 69%|████████████████████████████▍            | 431/621 [11:46<01:02,  3.02it/s]"
     ]
    },
    {
     "name": "stdout",
     "output_type": "stream",
     "text": [
      "nEJfXfrjjRQ109--TwUYvs6H4tJ6k7I5OEq5RzW3D-62kqJReXpCju2w8kU9TG3708oh_drv6vz4Mg\n"
     ]
    },
    {
     "name": "stderr",
     "output_type": "stream",
     "text": [
      "\r",
      " 70%|████████████████████████████▌            | 432/621 [11:47<01:00,  3.12it/s]"
     ]
    },
    {
     "name": "stdout",
     "output_type": "stream",
     "text": [
      "NPwAO58b3ktIhPEpeVIQxF0U0pTMpsdxMNHNX9-ZMXEhzOA6u-P0c3ylJ-q3-neLs1vicSKBrE_4eA\n"
     ]
    },
    {
     "name": "stderr",
     "output_type": "stream",
     "text": [
      "\r",
      " 70%|████████████████████████████▌            | 433/621 [11:47<00:58,  3.19it/s]"
     ]
    },
    {
     "name": "stdout",
     "output_type": "stream",
     "text": [
      "QD5L1zJHC1XfYhu05QWOjGRbzecqR7yzq6lOIot7kFsB1iSrv9Au6wmD6RzBpkcxOBiOXxPI76JONQ\n"
     ]
    },
    {
     "name": "stderr",
     "output_type": "stream",
     "text": [
      "\r",
      " 70%|████████████████████████████▋            | 434/621 [11:47<00:57,  3.25it/s]"
     ]
    },
    {
     "name": "stdout",
     "output_type": "stream",
     "text": [
      "aasSK1L1h5w9pV69yzOE_zHEO4VVs4lq5xWNJOp5L22J2G6rTNIrWfmX6X87ecY39yuSF71vj7MyZA\n"
     ]
    },
    {
     "name": "stderr",
     "output_type": "stream",
     "text": [
      "\r",
      " 70%|████████████████████████████▋            | 435/621 [11:48<00:56,  3.27it/s]"
     ]
    },
    {
     "name": "stdout",
     "output_type": "stream",
     "text": [
      "FL9LUgG-w1XNzYgV-lh0UVk3YJmKf16lXL3zwjsAv00jxiVcnLteZo41a-yUjxQOeHeXMHUwaYPlWw\n"
     ]
    },
    {
     "name": "stderr",
     "output_type": "stream",
     "text": [
      "\r",
      " 70%|████████████████████████████▊            | 436/621 [11:48<00:55,  3.33it/s]"
     ]
    },
    {
     "name": "stdout",
     "output_type": "stream",
     "text": [
      "fs28cJWcuWzAhmsSGJSyIiImE_kq7mjmvbk_6HIZETQy7vOMkpCXUzijRKZB0xO1-rT4AEY_SmvW2A\n"
     ]
    },
    {
     "name": "stderr",
     "output_type": "stream",
     "text": [
      "\r",
      " 70%|████████████████████████████▊            | 437/621 [11:48<00:54,  3.38it/s]"
     ]
    },
    {
     "name": "stdout",
     "output_type": "stream",
     "text": [
      "0jkOlwAKOQm80nbN_W3Imo0y4QEcP1OZVxfiYLReOaZNbs5XgffsvlUKunVtLaKUzHRMRuSrFngC3w\n"
     ]
    },
    {
     "name": "stderr",
     "output_type": "stream",
     "text": [
      "\r",
      " 71%|████████████████████████████▉            | 438/621 [11:49<01:06,  2.75it/s]"
     ]
    },
    {
     "name": "stdout",
     "output_type": "stream",
     "text": [
      "-rZo7Bq4CJ1uyBkrT8RkkhBWUEXroaCEpKtaisbVnUMEufOBkth6ZoS2faMHF3UY4hpEQrqcVOv05Q\n"
     ]
    },
    {
     "name": "stderr",
     "output_type": "stream",
     "text": [
      "\r",
      " 71%|████████████████████████████▉            | 439/621 [11:49<01:11,  2.54it/s]"
     ]
    },
    {
     "name": "stdout",
     "output_type": "stream",
     "text": [
      "oWt-yA69Zz8DiaFxuMw5midWjSB62_FsknthMGq4vJtuQYhtN9WHBzJ_SwE4CQEVTDwldRgj0fYjHA\n",
      "api cost full : infinite loop start\n",
      "loop location :  V1pR2VUvO_ITgvUXkpTs766Rhg_hrpJrRkdyv57OTZhHiow\n",
      "try 10 second wait time\n",
      "429\n",
      "try 10 second wait time\n",
      "429\n",
      "try 10 second wait time\n",
      "429\n",
      "try 10 second wait time\n",
      "429\n",
      "try 10 second wait time\n",
      "429\n",
      "try 10 second wait time\n",
      "429\n",
      "try 10 second wait time\n",
      "429\n",
      "try 10 second wait time\n",
      "429\n",
      "try 10 second wait time\n"
     ]
    },
    {
     "name": "stderr",
     "output_type": "stream",
     "text": [
      "\r",
      " 71%|███████████████████████████▋           | 440/621 [13:27<1:29:10, 29.56s/it]"
     ]
    },
    {
     "name": "stdout",
     "output_type": "stream",
     "text": [
      "200\n",
      "total wait time :  96.94086813926697\n",
      "recovery api cost\n",
      "ve8PW5jZFdGIYII3C6N9d93oRRSWBmJKu8BtU_rpRmWHeH03gCN8p7tdlJajk8P_Ci2HoEBNJz0wOw\n"
     ]
    },
    {
     "name": "stderr",
     "output_type": "stream",
     "text": [
      "\r",
      " 71%|███████████████████████████▋           | 441/621 [13:27<1:02:27, 20.82s/it]"
     ]
    },
    {
     "name": "stdout",
     "output_type": "stream",
     "text": [
      "RXeMdxfRztnFhm0p93HQ30FKs9UDQe3v9wbzAhRc8tNozRCcxGWugC31a4cDaT1vS-9yDnRsKZgVsQ\n"
     ]
    },
    {
     "name": "stderr",
     "output_type": "stream",
     "text": [
      "\r",
      " 71%|█████████████████████████████▏           | 442/621 [13:28<43:49, 14.69s/it]"
     ]
    },
    {
     "name": "stdout",
     "output_type": "stream",
     "text": [
      "mpV-JeioKYgJAOPvXvtX86qbaaD-CTgHizxBPBL13yxrZ6-XoGccgjAX1iaQLT-F4U-hxsNwHv_dAg\n"
     ]
    },
    {
     "name": "stderr",
     "output_type": "stream",
     "text": [
      "\r",
      " 71%|█████████████████████████████▏           | 443/621 [13:28<30:56, 10.43s/it]"
     ]
    },
    {
     "name": "stdout",
     "output_type": "stream",
     "text": [
      "ePBqgw3NhRxKS20maGUmJh3iOKuSJPRwFfBTTnN16GhFDqvJF6EQdpx9edMCKqCpWA25aK8VZ28hFw\n"
     ]
    },
    {
     "name": "stderr",
     "output_type": "stream",
     "text": [
      "\r",
      " 71%|█████████████████████████████▎           | 444/621 [13:29<21:55,  7.43s/it]"
     ]
    },
    {
     "name": "stdout",
     "output_type": "stream",
     "text": [
      "yHbeOUCIwKsHRKrXxxUz4KDpLFYEZCxJNcfR3-XiowFMASwKKJUEpkFhGyAGl0ViuoDBgu5u4hHDJw\n"
     ]
    },
    {
     "name": "stderr",
     "output_type": "stream",
     "text": [
      "\r",
      " 72%|█████████████████████████████▍           | 445/621 [13:29<15:30,  5.29s/it]"
     ]
    },
    {
     "name": "stdout",
     "output_type": "stream",
     "text": [
      "0UFfqohuUmN8dmDRtJyNspY18l2V-IoiRhlAgmCJINE1X5tHo5ktkHgKlMR-SRpOUWIUhyrETwmGTw\n"
     ]
    },
    {
     "name": "stderr",
     "output_type": "stream",
     "text": [
      "\r",
      " 72%|█████████████████████████████▍           | 446/621 [13:29<11:16,  3.87s/it]"
     ]
    },
    {
     "name": "stdout",
     "output_type": "stream",
     "text": [
      "czHgmMxfjZ4LBfMaq4B1PWIgYw-bXzjt64_DXPQqnVrK9p3BBoWbIFrF3HILGlmpqKHYUA-2LXKJRA\n"
     ]
    },
    {
     "name": "stderr",
     "output_type": "stream",
     "text": [
      "\r",
      " 72%|█████████████████████████████▌           | 447/621 [13:30<08:07,  2.80s/it]"
     ]
    },
    {
     "name": "stdout",
     "output_type": "stream",
     "text": [
      "4OgLKwGeUdVCumhNduQWSu-6y4hnljAKBxdWmqy9p0g_iCZJWt253HrGu1FjXspdcolJh7C_6Y_MRw\n"
     ]
    },
    {
     "name": "stderr",
     "output_type": "stream",
     "text": [
      "\r",
      " 72%|█████████████████████████████▌           | 448/621 [13:30<06:05,  2.11s/it]"
     ]
    },
    {
     "name": "stdout",
     "output_type": "stream",
     "text": [
      "u-gYsdYuxdJYgRHwvGz3La-Bms8tSTwhy5xJPxcqxIGAb19Q4XCpBNEaVbVVq3353-gASncdXDakkQ\n"
     ]
    },
    {
     "name": "stderr",
     "output_type": "stream",
     "text": [
      "\r",
      " 72%|█████████████████████████████▋           | 449/621 [13:31<04:34,  1.60s/it]"
     ]
    },
    {
     "name": "stdout",
     "output_type": "stream",
     "text": [
      "PDzkCCHUeWSTP1Wqbom_4VSR6F8qJGXPMQ_tjRy1NcPOWr4jbapPbrwpuMt4uZ1xSJDVk_eAUUbTtA\n"
     ]
    },
    {
     "name": "stderr",
     "output_type": "stream",
     "text": [
      "\r",
      " 72%|█████████████████████████████▋           | 450/621 [13:31<03:26,  1.21s/it]"
     ]
    },
    {
     "name": "stdout",
     "output_type": "stream",
     "text": [
      "yEsKyz2UrsyKt015nIo-fQFFX9g-tFTDVnFgib-vd6nOLoFhhkdnbdal9Xrsg9GjxMrtzLHi4-2MBg\n"
     ]
    },
    {
     "name": "stderr",
     "output_type": "stream",
     "text": [
      "\r",
      " 73%|█████████████████████████████▊           | 451/621 [13:31<02:38,  1.07it/s]"
     ]
    },
    {
     "name": "stdout",
     "output_type": "stream",
     "text": [
      "yJUqfB16DQWrHa0XOTo4kv4uk1VKja_hdatPJoy8SwKE2YPRQzzqhGlIR7-n8dKPk8qWC9oGj9tnng\n"
     ]
    },
    {
     "name": "stderr",
     "output_type": "stream",
     "text": [
      "\r",
      " 73%|█████████████████████████████▊           | 452/621 [13:31<02:07,  1.33it/s]"
     ]
    },
    {
     "name": "stdout",
     "output_type": "stream",
     "text": [
      "CJvuDLe1hVUuA0i28O2FIi5ukRQKQorDSOrxYAwm6J_HxqAHGoNYfU2rrU5nS9wZiF1oAsfWMfiHvA\n"
     ]
    },
    {
     "name": "stderr",
     "output_type": "stream",
     "text": [
      "\r",
      " 73%|█████████████████████████████▉           | 453/621 [13:32<01:47,  1.56it/s]"
     ]
    },
    {
     "name": "stdout",
     "output_type": "stream",
     "text": [
      "KusekYmrD_V2btO4yMPfXnL1XRIjSrcsZASA7Zw1swjisUWW0clrUgh7WRbTRseQ-aCUqu32Kpp1Qg\n"
     ]
    },
    {
     "name": "stderr",
     "output_type": "stream",
     "text": [
      "\r",
      " 73%|█████████████████████████████▉           | 454/621 [13:32<01:28,  1.88it/s]"
     ]
    },
    {
     "name": "stdout",
     "output_type": "stream",
     "text": [
      "XT8HMrJ0um0ogufma3UTc81vYk8GTXXU6wlUgmX7R1KX1OsJdcIj3ke37vzl-OVMn4P-XJOXp6UoqQ\n"
     ]
    },
    {
     "name": "stderr",
     "output_type": "stream",
     "text": [
      "\r",
      " 73%|██████████████████████████████           | 455/621 [13:32<01:19,  2.10it/s]"
     ]
    },
    {
     "name": "stdout",
     "output_type": "stream",
     "text": [
      "l4IZtWeD-B5fr1xjA7OjweVuJD7Q6TfLHdwy6BWrgOtLQG6g7rWaZDiLKZr4c_CmtB8V244MZy_q6w\n"
     ]
    },
    {
     "name": "stderr",
     "output_type": "stream",
     "text": [
      "\r",
      " 73%|██████████████████████████████           | 456/621 [13:33<01:08,  2.39it/s]"
     ]
    },
    {
     "name": "stdout",
     "output_type": "stream",
     "text": [
      "LC-092xMi-F4iQXjOIAbhm0hpa7HhNg9MDglFcJf6C5SqsSf3ildBRGmJsGk21knKpuwxlKXZpmqQQ\n"
     ]
    },
    {
     "name": "stderr",
     "output_type": "stream",
     "text": [
      "\r",
      " 74%|██████████████████████████████▏          | 457/621 [13:33<01:02,  2.63it/s]"
     ]
    },
    {
     "name": "stdout",
     "output_type": "stream",
     "text": [
      "oeRoy1GRJLHeu9_Yb43Nq-2KlXsl1sdn6ET3MTZ9Zjxv0wFpJiN0fE7txxKimkK5lWm-A4_1OzrKxQ\n"
     ]
    },
    {
     "name": "stderr",
     "output_type": "stream",
     "text": [
      "\r",
      " 74%|██████████████████████████████▏          | 458/621 [13:33<00:59,  2.74it/s]"
     ]
    },
    {
     "name": "stdout",
     "output_type": "stream",
     "text": [
      "qposofL13B7eOH_MAQVEReFC7ahrsmCKGW7uzoPteRxbQiBfGYOLqa2a4rkyRaYsJEVLN4d7wiTfFA\n"
     ]
    },
    {
     "name": "stderr",
     "output_type": "stream",
     "text": [
      "\r",
      " 74%|██████████████████████████████▎          | 459/621 [13:34<00:55,  2.92it/s]"
     ]
    },
    {
     "name": "stdout",
     "output_type": "stream",
     "text": [
      "_jzDbA2Z5rrON4LrnHc1Rje8-s-kxPaH_fyyvqFXtsORGUKmfA_BPnQMFhx-grpE-mwX6svQc8Xsww\n"
     ]
    },
    {
     "name": "stderr",
     "output_type": "stream",
     "text": [
      "\r",
      " 74%|██████████████████████████████▎          | 460/621 [13:34<00:58,  2.78it/s]"
     ]
    },
    {
     "name": "stdout",
     "output_type": "stream",
     "text": [
      "9v8BixtjQVyKhHw7CTVTkqXoo0BYHIlal9H58rRL53xrJ9rQr9C-zYeJyJt8Pc6H4Uk6jHc2JkqmxA\n"
     ]
    },
    {
     "name": "stderr",
     "output_type": "stream",
     "text": [
      "\r",
      " 74%|██████████████████████████████▍          | 461/621 [13:35<01:09,  2.30it/s]"
     ]
    },
    {
     "name": "stdout",
     "output_type": "stream",
     "text": [
      "KfdN0sl_8a9Uso27HfRTOrXPNCcTIUcdaJgShkLWJJkB4ExAyPa2MrmD8lfSGFDesdpZ7JCOHLf2Tg\n"
     ]
    },
    {
     "name": "stderr",
     "output_type": "stream",
     "text": [
      "\r",
      " 74%|██████████████████████████████▌          | 462/621 [13:35<01:00,  2.62it/s]"
     ]
    },
    {
     "name": "stdout",
     "output_type": "stream",
     "text": [
      "jOv4S6H9ITzkLXISrB26XIZOFh6v9lD-e_0cKr2W6Xelb60g65_K5T083JET85aZxW5z5tp7lffFww\n"
     ]
    },
    {
     "name": "stderr",
     "output_type": "stream",
     "text": [
      "\r",
      " 75%|██████████████████████████████▌          | 463/621 [13:35<00:55,  2.84it/s]"
     ]
    },
    {
     "name": "stdout",
     "output_type": "stream",
     "text": [
      "y-ZN8BKbLFvyEuIy3dk9HDSUayhK4v8_obmR58Ur4uco7OkSZn4y4cQHQuwCCfBRXlveh_sHEIeVBA\n"
     ]
    },
    {
     "name": "stderr",
     "output_type": "stream",
     "text": [
      "\r",
      " 75%|██████████████████████████████▋          | 464/621 [13:36<00:52,  2.99it/s]"
     ]
    },
    {
     "name": "stdout",
     "output_type": "stream",
     "text": [
      "v9rpMcv34ktZGg7kFL2-rzhcRWbF_ZOvPZbG3zneMsMj_dCgFmpTBR3K1X2_2fm9dBmf9WQ2j4E1CA\n"
     ]
    },
    {
     "name": "stderr",
     "output_type": "stream",
     "text": [
      "\r",
      " 75%|██████████████████████████████▋          | 465/621 [13:36<00:50,  3.10it/s]"
     ]
    },
    {
     "name": "stdout",
     "output_type": "stream",
     "text": [
      "ausGLTyBchAfFMzaWKHUK3p_KWEjyMG8nd9sm3TF-bV2nlMyk3WS7xpAAIiCcD2ym4UdWhMhzNArgQ\n"
     ]
    },
    {
     "name": "stderr",
     "output_type": "stream",
     "text": [
      "\r",
      " 75%|██████████████████████████████▊          | 466/621 [13:36<00:50,  3.08it/s]"
     ]
    },
    {
     "name": "stdout",
     "output_type": "stream",
     "text": [
      "cxHBYdfCUzzxFbIuekEt9-hWDntUDOUxyUiIxsgycduoXQIPsNTLR1VLPqbBDhNsjg2tAbtxqvMvFA\n"
     ]
    },
    {
     "name": "stderr",
     "output_type": "stream",
     "text": [
      "\r",
      " 75%|██████████████████████████████▊          | 467/621 [13:37<00:51,  2.97it/s]"
     ]
    },
    {
     "name": "stdout",
     "output_type": "stream",
     "text": [
      "R4dkfE-eafgO_aW-yXZpFI97cTeeVWbUTrhN0MHZABskSpEnziXITctROcyXdohbIdogtp8KrfMqzg\n"
     ]
    },
    {
     "name": "stderr",
     "output_type": "stream",
     "text": [
      "\r",
      " 75%|██████████████████████████████▉          | 468/621 [13:37<00:48,  3.14it/s]"
     ]
    },
    {
     "name": "stdout",
     "output_type": "stream",
     "text": [
      "HVZi_ER5ng4wo4LJTDhwSn3otlWuz1rTfr3s1hjlXv3ZFYtBAY96TI-HKVqkeFfncrALkFxIczgJcQ\n"
     ]
    },
    {
     "name": "stderr",
     "output_type": "stream",
     "text": [
      "\r",
      " 76%|██████████████████████████████▉          | 469/621 [13:37<00:51,  2.93it/s]"
     ]
    },
    {
     "name": "stdout",
     "output_type": "stream",
     "text": [
      "9aI0HDRo903QihKzBthfFwOCMslXP1TAtRKb76fIb5t9mjNm4f08B24cI6qrpwfhKVII53NwlK2LYg\n"
     ]
    },
    {
     "name": "stderr",
     "output_type": "stream",
     "text": [
      "\r",
      " 76%|███████████████████████████████          | 470/621 [13:38<00:50,  3.00it/s]"
     ]
    },
    {
     "name": "stdout",
     "output_type": "stream",
     "text": [
      "KP5jhciD3RnDWIxs6QpCJ7g_LvbxAEoJ5GWcXiLtRsK138eyLyoi_6AeWw3zzBaDG9At1OpcwPcMNA\n"
     ]
    },
    {
     "name": "stderr",
     "output_type": "stream",
     "text": [
      "\r",
      " 76%|███████████████████████████████          | 471/621 [13:38<00:51,  2.89it/s]"
     ]
    },
    {
     "name": "stdout",
     "output_type": "stream",
     "text": [
      "EW83jdhUQO75QvUWYrNq2D9lcoSRMxX3GaNTu5_Fe1IYJRsCrAELBFLcvhRB2hTYptuBgulr58VG0g\n"
     ]
    },
    {
     "name": "stderr",
     "output_type": "stream",
     "text": [
      "\r",
      " 76%|███████████████████████████████▏         | 472/621 [13:38<00:49,  3.00it/s]"
     ]
    },
    {
     "name": "stdout",
     "output_type": "stream",
     "text": [
      "nboGlOPri8e6gXlIurt3sLyOYu22NEehiwt96n7eoSq2RYHjF3EFtYe1BYPDLbzFefhy9G_gXCf-0w\n"
     ]
    },
    {
     "name": "stderr",
     "output_type": "stream",
     "text": [
      "\r",
      " 76%|███████████████████████████████▏         | 473/621 [13:39<00:49,  3.01it/s]"
     ]
    },
    {
     "name": "stdout",
     "output_type": "stream",
     "text": [
      "ajbRawGa4dpAlbI9LxvyzJ5YHGuuB5xfQH0WCGUCzjv12atKZJvjq_HVhkO_zx6puv3dQQ1vuStpZg\n"
     ]
    },
    {
     "name": "stderr",
     "output_type": "stream",
     "text": [
      "\r",
      " 76%|███████████████████████████████▎         | 474/621 [13:39<00:48,  3.05it/s]"
     ]
    },
    {
     "name": "stdout",
     "output_type": "stream",
     "text": [
      "G852po2Xxc6nzVS1FfMHlti9PlwxuZkvW1Ak_LMBovrzlYbGvmFak0OIi1VO4bY1vV0Kq2zwkUmL1A\n"
     ]
    },
    {
     "name": "stderr",
     "output_type": "stream",
     "text": [
      "\r",
      " 76%|███████████████████████████████▎         | 475/621 [13:39<00:47,  3.10it/s]"
     ]
    },
    {
     "name": "stdout",
     "output_type": "stream",
     "text": [
      "ar6Y4pGJC7gWeiwbAlcAZB8GvXEQVuixtuNtEvijAKK-TOOQtFr6vFyf8oFXPoy7cm64hoh8-CZEQg\n"
     ]
    },
    {
     "name": "stderr",
     "output_type": "stream",
     "text": [
      "\r",
      " 77%|███████████████████████████████▍         | 476/621 [13:39<00:46,  3.11it/s]"
     ]
    },
    {
     "name": "stdout",
     "output_type": "stream",
     "text": [
      "MvqTBh5_cyFsaiC3Llhu15KNEVmztcfeaQjvzv8leQFj_GbhscFrGoz8dR-KYx3hwB68zH4Dp-bNQA\n"
     ]
    },
    {
     "name": "stderr",
     "output_type": "stream",
     "text": [
      "\r",
      " 77%|███████████████████████████████▍         | 477/621 [13:40<00:45,  3.16it/s]"
     ]
    },
    {
     "name": "stdout",
     "output_type": "stream",
     "text": [
      "7G4Ln8DNOaTJWSYQyYxZTth9hj9JKLO00B6OfUOxbeY3DlDERZ6-75bC7WBXxJKYPuqlk6l4A1eogg\n"
     ]
    },
    {
     "name": "stderr",
     "output_type": "stream",
     "text": [
      "\r",
      " 77%|███████████████████████████████▌         | 478/621 [13:40<00:44,  3.21it/s]"
     ]
    },
    {
     "name": "stdout",
     "output_type": "stream",
     "text": [
      "9NgYWKEDHgBD3HJw7I893R_Fn-XE3V08RYV4faC0NDfpBWkvGTy4CcQsDz3Ng_czChRK39a3Ea7snQ\n"
     ]
    },
    {
     "name": "stderr",
     "output_type": "stream",
     "text": [
      "\r",
      " 77%|███████████████████████████████▌         | 479/621 [13:40<00:43,  3.25it/s]"
     ]
    },
    {
     "name": "stdout",
     "output_type": "stream",
     "text": [
      "lGtpBONw5x769R1NMTOrUQIN44atPJSdisqsXfFCKqtARbNHPwpTIsnvZe9oDHgREaV0A88goGIiqA\n"
     ]
    },
    {
     "name": "stderr",
     "output_type": "stream",
     "text": [
      "\r",
      " 77%|███████████████████████████████▋         | 480/621 [13:41<00:42,  3.34it/s]"
     ]
    },
    {
     "name": "stdout",
     "output_type": "stream",
     "text": [
      "B5KSO2Ya6veWbrIZN4xNnsNFoV9QCb4H0Pnn4AJWRWWbBpU8__IPVNuFqj9iVEf_nRazeWb9zLLAaQ\n"
     ]
    },
    {
     "name": "stderr",
     "output_type": "stream",
     "text": [
      "\r",
      " 77%|███████████████████████████████▊         | 481/621 [13:41<00:41,  3.36it/s]"
     ]
    },
    {
     "name": "stdout",
     "output_type": "stream",
     "text": [
      "TSP7X0oXq3mzSLY2XXwYPfjZ41v-QZk70MUnmLPrjMbyg9Xa8T3x_mZFq9ClIBShVRyC5QBh1FM9sg\n"
     ]
    },
    {
     "name": "stderr",
     "output_type": "stream",
     "text": [
      "\r",
      " 78%|███████████████████████████████▊         | 482/621 [13:41<00:42,  3.26it/s]"
     ]
    },
    {
     "name": "stdout",
     "output_type": "stream",
     "text": [
      "fOL9YvUUe8lFROea3qtafRrN5aQVCedWDnqoKYEFvs8osucddxc63t1DcwpLrwv18z-5ZmL7IYaSJQ\n"
     ]
    },
    {
     "name": "stderr",
     "output_type": "stream",
     "text": [
      "\r",
      " 78%|███████████████████████████████▉         | 483/621 [13:42<00:51,  2.69it/s]"
     ]
    },
    {
     "name": "stdout",
     "output_type": "stream",
     "text": [
      "tjVQ6Ta4ayqDY_Tv9L1G2-z3vx-Ei0oHCkVWbMgHaTFD0kyGiCP5jye4gMWUaJgTrBIlVTr7qB3PHg\n"
     ]
    },
    {
     "name": "stderr",
     "output_type": "stream",
     "text": [
      "\r",
      " 78%|███████████████████████████████▉         | 484/621 [13:42<00:47,  2.89it/s]"
     ]
    },
    {
     "name": "stdout",
     "output_type": "stream",
     "text": [
      "tqyyAtCQ6hxzdkNoZv7gnx9HwHWjAFQcb97FUxJl7NyPUABfAcqc4Fe_Wlvx82-z4ptQzBvuaqU1_Q\n"
     ]
    },
    {
     "name": "stderr",
     "output_type": "stream",
     "text": [
      "\r",
      " 78%|████████████████████████████████         | 485/621 [13:42<00:44,  3.03it/s]"
     ]
    },
    {
     "name": "stdout",
     "output_type": "stream",
     "text": [
      "yDuIAkccyEttrZV1Ta98zqbKvAHkv8HySEK9P_TVcUu5i8T6edfHw1BOYC7EMpNVr7LF5KbopE1Zrw\n"
     ]
    },
    {
     "name": "stderr",
     "output_type": "stream",
     "text": [
      "\r",
      " 78%|████████████████████████████████         | 486/621 [13:43<00:53,  2.51it/s]"
     ]
    },
    {
     "name": "stdout",
     "output_type": "stream",
     "text": [
      "SzE5uTW5vLjpZPPdd2OqMlMqA8qBdssXYwzU9LI_Sm-J62siQofOhimqZesYg3M6Xa-Sq_wU13i6cw\n"
     ]
    },
    {
     "name": "stderr",
     "output_type": "stream",
     "text": [
      "\r",
      " 78%|████████████████████████████████▏        | 487/621 [13:43<00:49,  2.73it/s]"
     ]
    },
    {
     "name": "stdout",
     "output_type": "stream",
     "text": [
      "Bqfre8q11ln0XQqmfy3YoG_1lD7_pkHYSI6uYkbzUGHQGfkhHI8hHCj_1Xx941ao-kJT6DekBkDUAQ\n",
      "api cost full : infinite loop start\n",
      "loop location :  HKvfc8OJeDWDCxr-nzey0ulp9ADwEFe6dzjaJyW4utIvqso\n",
      "try 10 second wait time\n",
      "429\n",
      "try 10 second wait time\n",
      "429\n",
      "try 10 second wait time\n",
      "429\n",
      "try 10 second wait time\n",
      "429\n",
      "try 10 second wait time\n",
      "429\n",
      "try 10 second wait time\n",
      "429\n",
      "try 10 second wait time\n",
      "429\n",
      "try 10 second wait time\n",
      "429\n",
      "try 10 second wait time\n",
      "429\n",
      "try 10 second wait time\n"
     ]
    },
    {
     "name": "stderr",
     "output_type": "stream",
     "text": [
      "\r",
      " 79%|██████████████████████████████▋        | 488/621 [15:27<1:09:34, 31.39s/it]"
     ]
    },
    {
     "name": "stdout",
     "output_type": "stream",
     "text": [
      "200\n",
      "total wait time :  103.3594651222229\n",
      "recovery api cost\n",
      "vy3Mq-Ci65_xRZMzdi-XPZPq0Dptj6n-cLt5CzwQF1u2Y5UvJRVyGR0rjgk1XWwxMJ_Y_RWjwJpHGw\n"
     ]
    },
    {
     "name": "stderr",
     "output_type": "stream",
     "text": [
      "\r",
      " 79%|████████████████████████████████▎        | 489/621 [15:27<48:31, 22.06s/it]"
     ]
    },
    {
     "name": "stdout",
     "output_type": "stream",
     "text": [
      "hEWdBqvLYfOQ1rohs6_uITwxx5tnZQhsfQIdF5JmupW0bA1pqfYmqJfkVMqzpg6Zgp2gh-ONlSbfUg\n"
     ]
    },
    {
     "name": "stderr",
     "output_type": "stream",
     "text": [
      "\r",
      " 79%|████████████████████████████████▎        | 490/621 [15:28<34:05, 15.61s/it]"
     ]
    },
    {
     "name": "stdout",
     "output_type": "stream",
     "text": [
      "ayNlGnsgW-7b4GSV5RQY0yi93bMWQPLxqCNlebxwQN-QUJVQ9bkVQjTcgAnWiiIcY-nMYbxTkZg4CA\n"
     ]
    },
    {
     "name": "stderr",
     "output_type": "stream",
     "text": [
      "\r",
      " 79%|████████████████████████████████▍        | 491/621 [15:29<24:10, 11.16s/it]"
     ]
    },
    {
     "name": "stdout",
     "output_type": "stream",
     "text": [
      "-xAqlOaMGrr4-xHH1F-8UuSFUJ-74PO_PcWnQKVe0coUCbXQkp5yudfd0y-aFVO4iYtdH5e-_lyeow\n"
     ]
    },
    {
     "name": "stderr",
     "output_type": "stream",
     "text": [
      "\r",
      " 79%|████████████████████████████████▍        | 492/621 [15:30<17:24,  8.09s/it]"
     ]
    },
    {
     "name": "stdout",
     "output_type": "stream",
     "text": [
      "yuk5ATYTwm_bnw8xOgJEaP7h9N_jMfelIsOikF1kZjUNGrpU8k70FnveZeQbdPVUMM6VLvFX1e8_jw\n"
     ]
    },
    {
     "name": "stderr",
     "output_type": "stream",
     "text": [
      "\r",
      " 79%|████████████████████████████████▌        | 493/621 [15:30<12:16,  5.75s/it]"
     ]
    },
    {
     "name": "stdout",
     "output_type": "stream",
     "text": [
      "SGr7js50PSGV0qIPSz81j71OwlnRj-qN-S5AiV6HNzZh3lfJdRqC4iPWSlPza8HIVnWPCtosMkABBQ\n"
     ]
    },
    {
     "name": "stderr",
     "output_type": "stream",
     "text": [
      "\r",
      " 80%|████████████████████████████████▌        | 494/621 [15:30<08:42,  4.12s/it]"
     ]
    },
    {
     "name": "stdout",
     "output_type": "stream",
     "text": [
      "SkcLwm7CcKCe6sg47yD60tK2LlTm5DC-RYKPTk33aI318odFZw7_rNknH19AWSB2Y2w3POFbGKhKUg\n"
     ]
    },
    {
     "name": "stderr",
     "output_type": "stream",
     "text": [
      "\r",
      " 80%|████████████████████████████████▋        | 495/621 [15:31<06:20,  3.02s/it]"
     ]
    },
    {
     "name": "stdout",
     "output_type": "stream",
     "text": [
      "jTEnUz251oOjKmfpxC0BN1H219d62ExAXO_hHzpo77CR5mm9_19Qz8uj7k5NqWhVPfzLUa2oQ3yDBg\n"
     ]
    },
    {
     "name": "stderr",
     "output_type": "stream",
     "text": [
      "\r",
      " 80%|████████████████████████████████▋        | 496/621 [15:31<04:37,  2.22s/it]"
     ]
    },
    {
     "name": "stdout",
     "output_type": "stream",
     "text": [
      "2tZOFnohYt-t1mR3J39kqPmxJXKJbbvZp5f05op2xE30gzoj2mQx7w0uNRt0oLQfS-h1a45OQfNagA\n"
     ]
    },
    {
     "name": "stderr",
     "output_type": "stream",
     "text": [
      "\r",
      " 80%|████████████████████████████████▊        | 497/621 [15:31<03:28,  1.69s/it]"
     ]
    },
    {
     "name": "stdout",
     "output_type": "stream",
     "text": [
      "bQetNyT5R26M_7fpwwFsEzxNcpdhu_ifwhEo9i-Ck2-o59c44weWsT4PdT4WdWViz6sINMHJn45dAA\n"
     ]
    },
    {
     "name": "stderr",
     "output_type": "stream",
     "text": [
      "\r",
      " 80%|████████████████████████████████▉        | 498/621 [15:32<02:44,  1.34s/it]"
     ]
    },
    {
     "name": "stdout",
     "output_type": "stream",
     "text": [
      "Wwb_NdrKoy28ZylYesssC9l_ziS0KFJkUeWwMfFjW6RQAe89gKNOIAhqHWBiVRByRvpWJ2Q0yVOVkQ\n"
     ]
    },
    {
     "name": "stderr",
     "output_type": "stream",
     "text": [
      "\r",
      " 80%|████████████████████████████████▉        | 499/621 [15:32<02:05,  1.03s/it]"
     ]
    },
    {
     "name": "stdout",
     "output_type": "stream",
     "text": [
      "pFCdjSsuCA1egFc3p72w12S5GzFgRknFgSsC8hutY5hj34WcOJesPeD2T4RfLC2jGfJ4D6BqM1i-dg\n"
     ]
    },
    {
     "name": "stderr",
     "output_type": "stream",
     "text": [
      "\r",
      " 81%|█████████████████████████████████        | 500/621 [15:33<01:36,  1.25it/s]"
     ]
    },
    {
     "name": "stdout",
     "output_type": "stream",
     "text": [
      "9IukBeg5MdkOpkGWcarYt4JpLYlSwwZkA4Q4fpmiOcalh_ZqUpMLNQ726-XylSpykQIWaAyP9btGkQ\n"
     ]
    },
    {
     "name": "stderr",
     "output_type": "stream",
     "text": [
      "\r",
      " 81%|█████████████████████████████████        | 501/621 [15:33<01:23,  1.44it/s]"
     ]
    },
    {
     "name": "stdout",
     "output_type": "stream",
     "text": [
      "t3XPVBd2jfQ4PzFkhJLiNo399TDEzbjCk--4O2V1oKoBQF23YqKxI7YiouHvxsXomF_nb0uzGeJa9A\n"
     ]
    },
    {
     "name": "stderr",
     "output_type": "stream",
     "text": [
      "\r",
      " 81%|█████████████████████████████████▏       | 502/621 [15:33<01:09,  1.72it/s]"
     ]
    },
    {
     "name": "stdout",
     "output_type": "stream",
     "text": [
      "iPrbnEI1tiq5ELt836HkxB4EHN4GSvhLeYpiyAJ6o88OubUiW-14ZjNB1sQmNoxaKRJvBP4TLloHgQ\n"
     ]
    },
    {
     "name": "stderr",
     "output_type": "stream",
     "text": [
      "\r",
      " 81%|█████████████████████████████████▏       | 503/621 [15:34<00:58,  2.01it/s]"
     ]
    },
    {
     "name": "stdout",
     "output_type": "stream",
     "text": [
      "SMJdIej3hnZoYNp7Ii0UEx9YeHXIJuK-py_7dYqKEhkGDhDz6HIoEiD_Rgc1naZulcvmcWUMLmIJqQ\n"
     ]
    },
    {
     "name": "stderr",
     "output_type": "stream",
     "text": [
      "\r",
      " 81%|█████████████████████████████████▎       | 504/621 [15:34<00:50,  2.30it/s]"
     ]
    },
    {
     "name": "stdout",
     "output_type": "stream",
     "text": [
      "bT1z0CtC8KvdyQ9hsm2swLZJeMMZo1ZXUzbzzr5VwbT7GDE0A-n0cyds5rrQt186A44gMEXYtM6Xpw\n"
     ]
    },
    {
     "name": "stderr",
     "output_type": "stream",
     "text": [
      "\r",
      " 81%|█████████████████████████████████▎       | 505/621 [15:34<00:45,  2.54it/s]"
     ]
    },
    {
     "name": "stdout",
     "output_type": "stream",
     "text": [
      "9D4jY1orVyY02I7t4-pbH87cpPQ3pi3qfg7v--UHUo9XjdZoxcNKVpju4RMdcnqh51jmn3Av4D5HVQ\n"
     ]
    },
    {
     "name": "stderr",
     "output_type": "stream",
     "text": [
      "\r",
      " 81%|█████████████████████████████████▍       | 506/621 [15:35<00:46,  2.50it/s]"
     ]
    },
    {
     "name": "stdout",
     "output_type": "stream",
     "text": [
      "22KaPwVP6LqAZ1OEG3pC6oXbI64ffsFtSdoZyZgYykayri1qDX59rF3nQqvJ6g-vygAb7mqDgk0hUA\n"
     ]
    },
    {
     "name": "stderr",
     "output_type": "stream",
     "text": [
      "\r",
      " 82%|█████████████████████████████████▍       | 507/621 [15:35<00:44,  2.58it/s]"
     ]
    },
    {
     "name": "stdout",
     "output_type": "stream",
     "text": [
      "Ef071iBO-U_vSM_ispOoweWmll0pvCbcwk1xYF7MnxDDKUIVyRN4sMvcFiyOVLJqnNNQj2IhsyLubA\n"
     ]
    },
    {
     "name": "stderr",
     "output_type": "stream",
     "text": [
      "\r",
      " 82%|█████████████████████████████████▌       | 508/621 [15:35<00:45,  2.48it/s]"
     ]
    },
    {
     "name": "stdout",
     "output_type": "stream",
     "text": [
      "xJKYESrxCrWqQCFjOJHNYGqECKPyd_Y6D5vY5DlyOfG7jxgTqO_CrHxa3dICCgwfjSM7gGA1_HErrQ\n"
     ]
    },
    {
     "name": "stderr",
     "output_type": "stream",
     "text": [
      "\r",
      " 82%|█████████████████████████████████▌       | 509/621 [15:36<00:43,  2.57it/s]"
     ]
    },
    {
     "name": "stdout",
     "output_type": "stream",
     "text": [
      "1bTV3P93kHl6xJ_Rlf2l-DM2JzO5z_a5434GYOOALBs1VfBysQ3ZxIvyqOL1u-6qgqJrlvrv1ERP8g\n"
     ]
    },
    {
     "name": "stderr",
     "output_type": "stream",
     "text": [
      "\r",
      " 82%|█████████████████████████████████▋       | 510/621 [15:36<00:43,  2.53it/s]"
     ]
    },
    {
     "name": "stdout",
     "output_type": "stream",
     "text": [
      "CjK9giWtChSrx_L9yQFLbzDOda_HEnk6kVO6LpKq_m4HOPm99HVI0FRTa-qrZe2cUYpfCbd0fEi7JQ\n"
     ]
    },
    {
     "name": "stderr",
     "output_type": "stream",
     "text": [
      "\r",
      " 82%|█████████████████████████████████▋       | 511/621 [15:36<00:40,  2.73it/s]"
     ]
    },
    {
     "name": "stdout",
     "output_type": "stream",
     "text": [
      "_z5E-COmkZyaEOBAxQS6sDYoa3dIE0DRtplQ5EP39RzJNvsZ5FROA-IKy12igcLleS450Z1kJzCDqw\n"
     ]
    },
    {
     "name": "stderr",
     "output_type": "stream",
     "text": [
      "\r",
      " 82%|█████████████████████████████████▊       | 512/621 [15:37<00:42,  2.56it/s]"
     ]
    },
    {
     "name": "stdout",
     "output_type": "stream",
     "text": [
      "eV3KMNePJRESLPRVxCWat9x9skAYLUPf-TXPveflKLsmhpTyD23WkDUc3NnDOZGfsT4pWFOZ9l5sMQ\n"
     ]
    },
    {
     "name": "stderr",
     "output_type": "stream",
     "text": [
      "\r",
      " 83%|█████████████████████████████████▊       | 513/621 [15:37<00:41,  2.63it/s]"
     ]
    },
    {
     "name": "stdout",
     "output_type": "stream",
     "text": [
      "8f68nw7Z4jEaohr-JxqL8yIzlYGCXAOZXZI6B7cGJmQknzLl0I1QYkVQ8upW6llTbG-SIfmawfxEhA\n"
     ]
    },
    {
     "name": "stderr",
     "output_type": "stream",
     "text": [
      "\r",
      " 83%|█████████████████████████████████▉       | 514/621 [15:38<00:38,  2.77it/s]"
     ]
    },
    {
     "name": "stdout",
     "output_type": "stream",
     "text": [
      "RxQDzHPxE1gD1rBUtHA_EiTn-oX09UrBcPNbknysIyV8clHqavFPOVckKDudUzaOF9w0jR-YCSFFAQ\n"
     ]
    },
    {
     "name": "stderr",
     "output_type": "stream",
     "text": [
      "\r",
      " 83%|██████████████████████████████████       | 515/621 [15:38<00:35,  2.96it/s]"
     ]
    },
    {
     "name": "stdout",
     "output_type": "stream",
     "text": [
      "QXpzrBf9sQj13L80dxqRsB_Yftv8rSoCEwazsYmIZB_ZZCU8fgfvytPL9cdwLMnEKqHfDhJMl6QfEQ\n"
     ]
    },
    {
     "name": "stderr",
     "output_type": "stream",
     "text": [
      "\r",
      " 83%|██████████████████████████████████       | 516/621 [15:38<00:34,  3.02it/s]"
     ]
    },
    {
     "name": "stdout",
     "output_type": "stream",
     "text": [
      "kuw-jcLV6YmnSHAUMSGyPtARSKvTNoa8aJnL5fnBPg7EVob7CLQi2MaLNxOGonbkA8_ABw-Q6_8SYA\n"
     ]
    },
    {
     "name": "stderr",
     "output_type": "stream",
     "text": [
      "\r",
      " 83%|██████████████████████████████████▏      | 517/621 [15:38<00:33,  3.13it/s]"
     ]
    },
    {
     "name": "stdout",
     "output_type": "stream",
     "text": [
      "al0TxxNs6iBr--bzAtFpNEUtMD_7dbTHG7yMvta1SVaDASk6KankEtJNMQewLD9xt7j1MkPNYU0JBQ\n"
     ]
    },
    {
     "name": "stderr",
     "output_type": "stream",
     "text": [
      "\r",
      " 83%|██████████████████████████████████▏      | 518/621 [15:39<00:33,  3.06it/s]"
     ]
    },
    {
     "name": "stdout",
     "output_type": "stream",
     "text": [
      "fm0uS_L11fU6XsufpY5c9ikac9BUdKUm7hX5K892U1XzHhJzTWX9c_-5DcWrBKnfY7ngqBNJG_6tIw\n"
     ]
    },
    {
     "name": "stderr",
     "output_type": "stream",
     "text": [
      "\r",
      " 84%|██████████████████████████████████▎      | 519/621 [15:39<00:40,  2.52it/s]"
     ]
    },
    {
     "name": "stdout",
     "output_type": "stream",
     "text": [
      "zeBtR-f5IAlw7qGTtg-AsWyXQ-06ry5zmXzw7BgelqVXc6AI8_gtZlMTx6huu3JBsQ6jozVf8CAFsw\n"
     ]
    },
    {
     "name": "stderr",
     "output_type": "stream",
     "text": [
      "\r",
      " 84%|██████████████████████████████████▎      | 520/621 [15:40<00:43,  2.35it/s]"
     ]
    },
    {
     "name": "stdout",
     "output_type": "stream",
     "text": [
      "okQ1Z3hqM77QkB1HvWxDSv-3AxZI1afCy5I_hyQShXNQZsMnkup795BY8bmuHbeh1TEI5nU3MSQzWA\n"
     ]
    },
    {
     "name": "stderr",
     "output_type": "stream",
     "text": [
      "\r",
      " 84%|██████████████████████████████████▍      | 521/621 [15:41<00:49,  2.02it/s]"
     ]
    },
    {
     "name": "stdout",
     "output_type": "stream",
     "text": [
      "52w9YC3dezEJ0jr2P-YS9Zz6oNxHfjzLy1swucyjknZ9aHB2Znvf57GtKaxQ7exeykmJnunogwIrmw\n"
     ]
    },
    {
     "name": "stderr",
     "output_type": "stream",
     "text": [
      "\r",
      " 84%|██████████████████████████████████▍      | 522/621 [15:41<00:50,  1.96it/s]"
     ]
    },
    {
     "name": "stdout",
     "output_type": "stream",
     "text": [
      "yZrBOhih-PUziDCth9fZkjyNRzIWmbw8hGWe34zg2Oku0WBedQyK9900wR-zDLzL4SFpuScwcc1HqQ\n"
     ]
    },
    {
     "name": "stderr",
     "output_type": "stream",
     "text": [
      "\r",
      " 84%|██████████████████████████████████▌      | 523/621 [15:41<00:45,  2.17it/s]"
     ]
    },
    {
     "name": "stdout",
     "output_type": "stream",
     "text": [
      "cLB9oOiJICJVunill-XyxqB0iaNh_svMl84vF6TxwB6J6sQKS_OMWHvGvO5UMybJushAGIzB9b3HJw\n"
     ]
    },
    {
     "name": "stderr",
     "output_type": "stream",
     "text": [
      "\r",
      " 84%|██████████████████████████████████▌      | 524/621 [15:42<00:40,  2.42it/s]"
     ]
    },
    {
     "name": "stdout",
     "output_type": "stream",
     "text": [
      "WJIu_3e1fG9P9Ic6He7pgdQ5XitZhgngrwElaj50QAd2WtoYVdUyuReKuR03i3WwYmBgqcP69hdgvg\n"
     ]
    },
    {
     "name": "stderr",
     "output_type": "stream",
     "text": [
      "\r",
      " 85%|██████████████████████████████████▋      | 525/621 [15:42<00:36,  2.64it/s]"
     ]
    },
    {
     "name": "stdout",
     "output_type": "stream",
     "text": [
      "wfCFMqINrkk3LOVw6ZQb9ACbmtDaC9AaM6z3_a6I3zMZUmYGOfUjdvQtKmyrxRbe-DATtnM_dGfKCA\n"
     ]
    },
    {
     "name": "stderr",
     "output_type": "stream",
     "text": [
      "\r",
      " 85%|██████████████████████████████████▋      | 526/621 [15:42<00:34,  2.75it/s]"
     ]
    },
    {
     "name": "stdout",
     "output_type": "stream",
     "text": [
      "T7jTMke6MK39nTv0PIXKCQNkDDZJalF01EEKoxAe72jXjoDoxBj8nUCz0-gcn-bOu9Jl8e3OgcN_PA\n"
     ]
    },
    {
     "name": "stderr",
     "output_type": "stream",
     "text": [
      "\r",
      " 85%|██████████████████████████████████▊      | 527/621 [15:43<00:31,  2.97it/s]"
     ]
    },
    {
     "name": "stdout",
     "output_type": "stream",
     "text": [
      "A5Y2Bgy8zUO2zGbMjkGlQsMHnavrVdw9cQIpjvda-lf0y26B0MFyDBst0bbDuwxVR4ZWyX39WnL3yg\n"
     ]
    },
    {
     "name": "stderr",
     "output_type": "stream",
     "text": [
      "\r",
      " 85%|██████████████████████████████████▊      | 528/621 [15:43<00:31,  2.99it/s]"
     ]
    },
    {
     "name": "stdout",
     "output_type": "stream",
     "text": [
      "QIhRbhkjwAW5R22eI54bhKmqn6xU85AOszYLoQYsgvA7M1LaVAeyeIR9Okt04at8DeRJTEsa5kLdMA\n"
     ]
    },
    {
     "name": "stderr",
     "output_type": "stream",
     "text": [
      "\r",
      " 85%|██████████████████████████████████▉      | 529/621 [15:43<00:29,  3.13it/s]"
     ]
    },
    {
     "name": "stdout",
     "output_type": "stream",
     "text": [
      "DJRcKApl64mqoF7B5aSSyLNxyO_u0uotLbE4ChMCYZZWnIfpR7_D-x-FUFRQsxZjFWW9jfXBM0Znqg\n"
     ]
    },
    {
     "name": "stderr",
     "output_type": "stream",
     "text": [
      "\r",
      " 85%|██████████████████████████████████▉      | 530/621 [15:44<00:31,  2.89it/s]"
     ]
    },
    {
     "name": "stdout",
     "output_type": "stream",
     "text": [
      "-7quJ2Yg53vrVbTMxYjJUcDLF0Sl4VFsqY5036tdZYIv2W6U0DUAjRZQ-ZsvOYXjVU_c-72BXgG6Mg\n"
     ]
    },
    {
     "name": "stderr",
     "output_type": "stream",
     "text": [
      "\r",
      " 86%|███████████████████████████████████      | 531/621 [15:44<00:30,  2.96it/s]"
     ]
    },
    {
     "name": "stdout",
     "output_type": "stream",
     "text": [
      "nrUiLn5-IX4f-g2wr1H_Jbfa-mw7K8cr_y0S8n4veT95PSZuB6_xiCNK92sf8a2ZmTmps3tP-ukutg\n"
     ]
    },
    {
     "name": "stderr",
     "output_type": "stream",
     "text": [
      "\r",
      " 86%|███████████████████████████████████      | 532/621 [15:44<00:29,  3.04it/s]"
     ]
    },
    {
     "name": "stdout",
     "output_type": "stream",
     "text": [
      "PaGZYIxmZt2ikAaDhELOw_OaAE9pEVL-UVk-0fvKvBoQJRn2B1gAOxUzYxXQmHh65_Bbp5F1BOIzyQ\n"
     ]
    },
    {
     "name": "stderr",
     "output_type": "stream",
     "text": [
      "\r",
      " 86%|███████████████████████████████████▏     | 533/621 [15:45<00:28,  3.09it/s]"
     ]
    },
    {
     "name": "stdout",
     "output_type": "stream",
     "text": [
      "TkOvWPSE1cKG8COCU_iG_GTI75ssCl6vkdW3V8flWp2oWCgqvuecGo-2Hb3mT-qfYpKIrpfqZfQ6xQ\n"
     ]
    },
    {
     "name": "stderr",
     "output_type": "stream",
     "text": [
      "\r",
      " 86%|███████████████████████████████████▎     | 534/621 [15:45<00:31,  2.79it/s]"
     ]
    },
    {
     "name": "stdout",
     "output_type": "stream",
     "text": [
      "wnQ0w57Y-DM86rkkWtQT7dLKAXABPykqJOaIMlhY4jP19BIX4oSo93BeNxcHH3gWN_WA5t1CZ43_zQ\n"
     ]
    },
    {
     "name": "stderr",
     "output_type": "stream",
     "text": [
      "\r",
      " 86%|███████████████████████████████████▎     | 535/621 [15:45<00:32,  2.65it/s]"
     ]
    },
    {
     "name": "stdout",
     "output_type": "stream",
     "text": [
      "wUq6hBYi7NpEIoUJ7XhWCJeJU91ztKEa0cXLn223FJ1N3GuJfLmr629lS9EpGRhI-1Y1zy0jLadJmA\n",
      "api cost full : infinite loop start\n",
      "loop location :  qPaftfb4Zx9hI9ncqRcGJYLLyo98eAQsRpbwD1sIGmJ4m6Ij\n",
      "try 10 second wait time\n",
      "429\n",
      "try 10 second wait time\n",
      "429\n",
      "try 10 second wait time\n",
      "429\n",
      "try 10 second wait time\n",
      "429\n",
      "try 10 second wait time\n",
      "429\n",
      "try 10 second wait time\n",
      "429\n",
      "try 10 second wait time\n",
      "429\n",
      "try 10 second wait time\n",
      "429\n",
      "try 10 second wait time\n",
      "429\n",
      "try 10 second wait time\n"
     ]
    },
    {
     "name": "stderr",
     "output_type": "stream",
     "text": [
      "\r",
      " 86%|███████████████████████████████████▍     | 536/621 [17:30<44:55, 31.71s/it]"
     ]
    },
    {
     "name": "stdout",
     "output_type": "stream",
     "text": [
      "200\n",
      "total wait time :  104.43027901649475\n",
      "recovery api cost\n",
      "rlYlezKS4WISmXvs7sH9IezDIKzIW7SnCNuhoXWh2QCegLg0Y8h9sqMXRCiLFPDjAA8nojdLob88mQ\n"
     ]
    },
    {
     "name": "stderr",
     "output_type": "stream",
     "text": [
      "\r",
      " 86%|███████████████████████████████████▍     | 537/621 [17:31<31:12, 22.29s/it]"
     ]
    },
    {
     "name": "stdout",
     "output_type": "stream",
     "text": [
      "2Azegpat8aDBl8vrLDyWnE9wLVlRK-9haqEEo1gYBJZ1hs1qk9ayhWq_mRfRTL24WNkl8MyySE3SSA\n"
     ]
    },
    {
     "name": "stderr",
     "output_type": "stream",
     "text": [
      "\r",
      " 87%|███████████████████████████████████▌     | 538/621 [17:31<21:42, 15.69s/it]"
     ]
    },
    {
     "name": "stdout",
     "output_type": "stream",
     "text": [
      "Ki0qH8cNQD-cLRTVKAwj42kNCx6-bVaOX0IxRfxPGy_c1l3HVL02VAQtuCRwPoIt3T_lvMieW14_3A\n"
     ]
    },
    {
     "name": "stderr",
     "output_type": "stream",
     "text": [
      "\r",
      " 87%|███████████████████████████████████▌     | 539/621 [17:31<15:12, 11.12s/it]"
     ]
    },
    {
     "name": "stdout",
     "output_type": "stream",
     "text": [
      "g2YGYs0_amcwFViBb1SqulsBK-oYFiu_2283FJTrIPYIJ9bgFe01G_0HY3NCDUIyordqgFxDOUiw1Q\n"
     ]
    },
    {
     "name": "stderr",
     "output_type": "stream",
     "text": [
      "\r",
      " 87%|███████████████████████████████████▋     | 540/621 [17:32<10:37,  7.87s/it]"
     ]
    },
    {
     "name": "stdout",
     "output_type": "stream",
     "text": [
      "5RkqkZGdcXODrC_fBeg3vCz0NPtarxakzCMDlNp2AZzTUeJI7D9ctb7fMe9MlHSi_5bvJHUOjAgjEQ\n"
     ]
    },
    {
     "name": "stderr",
     "output_type": "stream",
     "text": [
      "\r",
      " 87%|███████████████████████████████████▋     | 541/621 [17:32<07:33,  5.67s/it]"
     ]
    },
    {
     "name": "stdout",
     "output_type": "stream",
     "text": [
      "1XzCj6vOvz18YjJn8pPxceVWXXLwnbPCf-S9oGGqm4PSq7T4Wu36n_kWmhmBKEs6X04y5RUQ_mhfiQ\n"
     ]
    },
    {
     "name": "stderr",
     "output_type": "stream",
     "text": [
      "\r",
      " 87%|███████████████████████████████████▊     | 542/621 [17:32<05:20,  4.06s/it]"
     ]
    },
    {
     "name": "stdout",
     "output_type": "stream",
     "text": [
      "WvlBHoCNdx8m42h6Ky_a0sH66WRFsBQOVet6ojL021i4ZBI9uX5vuSuQvZWXug_173TU0XemU-h2lQ\n"
     ]
    },
    {
     "name": "stderr",
     "output_type": "stream",
     "text": [
      "\r",
      " 87%|███████████████████████████████████▊     | 543/621 [17:33<03:49,  2.95s/it]"
     ]
    },
    {
     "name": "stdout",
     "output_type": "stream",
     "text": [
      "yBeXmtotqp41w_EWO1apVhVXokqarlxrgN6oWAhGMf3AAY8UEXZrS9gxPvjTkV9M9N73zysM85eD3g\n"
     ]
    },
    {
     "name": "stderr",
     "output_type": "stream",
     "text": [
      "\r",
      " 88%|███████████████████████████████████▉     | 544/621 [17:33<02:45,  2.15s/it]"
     ]
    },
    {
     "name": "stdout",
     "output_type": "stream",
     "text": [
      "9ZLK81U4unrEP3E6k3RFV9x0FNkctFVMoWFy8pm69m7zTAIY7s90ARkee--ekergcmHIi1SOEohClA\n"
     ]
    },
    {
     "name": "stderr",
     "output_type": "stream",
     "text": [
      "\r",
      " 88%|███████████████████████████████████▉     | 545/621 [17:34<02:08,  1.69s/it]"
     ]
    },
    {
     "name": "stdout",
     "output_type": "stream",
     "text": [
      "j3P-dxQ6hLUrsNLn_kB18CUVaoBYOid8a_LhTYpq-T0x1bWiPR6LOX1_VHcraKhRDDD4UWs0esRikQ\n"
     ]
    },
    {
     "name": "stderr",
     "output_type": "stream",
     "text": [
      "\r",
      " 88%|████████████████████████████████████     | 546/621 [17:34<01:36,  1.29s/it]"
     ]
    },
    {
     "name": "stdout",
     "output_type": "stream",
     "text": [
      "SKN2FzHPyhrOB5Fpz4fVoTg2MkWaiRptZ8rmucagk3cBHlhFjDwumm_ShRcHhTo0t45LJS-pJ7Lmyg\n"
     ]
    },
    {
     "name": "stderr",
     "output_type": "stream",
     "text": [
      "\r",
      " 88%|████████████████████████████████████     | 547/621 [17:34<01:13,  1.00it/s]"
     ]
    },
    {
     "name": "stdout",
     "output_type": "stream",
     "text": [
      "JztBIcgQ8O9whmcMRM5DXCgY695C3cOFTMGSMOzMfwL2QxvOnWeYweL7ukw8ua_CP-Htp1TcgZXIxg\n"
     ]
    },
    {
     "name": "stderr",
     "output_type": "stream",
     "text": [
      "\r",
      " 88%|████████████████████████████████████▏    | 548/621 [17:35<01:00,  1.21it/s]"
     ]
    },
    {
     "name": "stdout",
     "output_type": "stream",
     "text": [
      "DgbRhi8irRKfuScyPcikmUmtQqe7f2UBCP_vYR80DPQeHWNVJrmguFZkHXe6CngNNDgMdVE4vMx6mQ\n"
     ]
    },
    {
     "name": "stderr",
     "output_type": "stream",
     "text": [
      "\r",
      " 88%|████████████████████████████████████▏    | 549/621 [17:35<00:52,  1.36it/s]"
     ]
    },
    {
     "name": "stdout",
     "output_type": "stream",
     "text": [
      "okO0Nvyu3AX_kOfyU5pD8jvUQqZdbfGFOOP15Qn6L7m2Ov9QnMuHD22oojdtj5PnBQwIClBRoa1L1w\n"
     ]
    },
    {
     "name": "stderr",
     "output_type": "stream",
     "text": [
      "\r",
      " 89%|████████████████████████████████████▎    | 550/621 [17:36<00:42,  1.66it/s]"
     ]
    },
    {
     "name": "stdout",
     "output_type": "stream",
     "text": [
      "1fUgxbIZemUvhc-OhrCTpY80vOCGPkvZjMsT3rySCYtTNuqADphOPQzohdnRmY5aq4pAuu3psSfq1A\n"
     ]
    },
    {
     "name": "stderr",
     "output_type": "stream",
     "text": [
      "\r",
      " 89%|████████████████████████████████████▍    | 551/621 [17:36<00:42,  1.66it/s]"
     ]
    },
    {
     "name": "stdout",
     "output_type": "stream",
     "text": [
      "Ym-wVgvl391YmJ9I0Q3flX8eirlWcn2xhHOpuvZHWUgmtXjkSOZSNVGZ-sHcPrpAr9QhkOmT4qgpxg\n"
     ]
    },
    {
     "name": "stderr",
     "output_type": "stream",
     "text": [
      "\r",
      " 89%|████████████████████████████████████▍    | 552/621 [17:37<00:45,  1.52it/s]"
     ]
    },
    {
     "name": "stdout",
     "output_type": "stream",
     "text": [
      "DvnRLefQhEZJze29b6MAu7sxByHZqxz1MODNYeNOXfpVBBs1lZQ2wM8cjhLC-bqhJgCGiwfI7VpRgQ\n"
     ]
    },
    {
     "name": "stderr",
     "output_type": "stream",
     "text": [
      "\r",
      " 89%|████████████████████████████████████▌    | 553/621 [17:37<00:41,  1.66it/s]"
     ]
    },
    {
     "name": "stdout",
     "output_type": "stream",
     "text": [
      "XNLrOfDQkYKSCF4xP95AWpI5JvjgP9AKuCC-kv58uFT7UZ8Szyg4OerLooSXzhboiCDMD6IhJRQysw\n"
     ]
    },
    {
     "name": "stderr",
     "output_type": "stream",
     "text": [
      "\r",
      " 89%|████████████████████████████████████▌    | 554/621 [17:38<00:41,  1.60it/s]"
     ]
    },
    {
     "name": "stdout",
     "output_type": "stream",
     "text": [
      "hQIv_KOW0L7NICXMMy6R2WP2oL1Y67EAS_i6F5fhThsxptdHKHGyXHG_N2Ax-IbQEzlcYi7LGxTAaA\n"
     ]
    },
    {
     "name": "stderr",
     "output_type": "stream",
     "text": [
      "\r",
      " 89%|████████████████████████████████████▋    | 555/621 [17:39<00:49,  1.32it/s]"
     ]
    },
    {
     "name": "stdout",
     "output_type": "stream",
     "text": [
      "cgVmIHwRq7n5eCYhB1cH0dWAYhaaiJDNE0uaF9cMv2H2yx_BSVJ1FfWr9c96Ob0mjRNlUplzNM8Qag\n"
     ]
    },
    {
     "name": "stderr",
     "output_type": "stream",
     "text": [
      "\r",
      " 90%|████████████████████████████████████▋    | 556/621 [17:39<00:40,  1.62it/s]"
     ]
    },
    {
     "name": "stdout",
     "output_type": "stream",
     "text": [
      "q5ImbDoMLSxqrxKwFX8nIJgirz-1eHRSJ1YG3v8ikcIagNk2Ryk2kya2MLY1X6AcUcft7HxNwGu8ig\n"
     ]
    },
    {
     "name": "stderr",
     "output_type": "stream",
     "text": [
      "\r",
      " 90%|████████████████████████████████████▊    | 557/621 [17:40<00:33,  1.90it/s]"
     ]
    },
    {
     "name": "stdout",
     "output_type": "stream",
     "text": [
      "G99SP3FOcH5mESwOSHbmI0GOMx8TGxxritVp02ysQ4iVlmbZ0Eetf7G3iHCqXmWjyMfY67kPQxEOlQ\n"
     ]
    },
    {
     "name": "stderr",
     "output_type": "stream",
     "text": [
      "\r",
      " 90%|████████████████████████████████████▊    | 558/621 [17:41<00:38,  1.62it/s]"
     ]
    },
    {
     "name": "stdout",
     "output_type": "stream",
     "text": [
      "kEh4p-oFik_tsYaj4lQc6Y93ug4Rt8i-6YvKx2R9rnsXINbrys1Di0EzByOYXDAFYWabEoEiOWQ9nw\n"
     ]
    },
    {
     "name": "stderr",
     "output_type": "stream",
     "text": [
      "\r",
      " 90%|████████████████████████████████████▉    | 559/621 [17:41<00:38,  1.62it/s]"
     ]
    },
    {
     "name": "stdout",
     "output_type": "stream",
     "text": [
      "7CR0NSTiCjvT_gRTOAUXVp65FyZJMIZUjh0ZacNLIt5nkYRmp2K3NIQ5dYsZHZ_suptIqesnio0zow\n"
     ]
    },
    {
     "name": "stderr",
     "output_type": "stream",
     "text": [
      "\r",
      " 90%|████████████████████████████████████▉    | 560/621 [17:42<00:41,  1.48it/s]"
     ]
    },
    {
     "name": "stdout",
     "output_type": "stream",
     "text": [
      "oClOBeGdKSuJcrxvz8aqwVZneks8Z61pFxgVNqrSepApfu5VKmtwssOMeuCKCjoTWwEpp6f6FyMzkw\n"
     ]
    },
    {
     "name": "stderr",
     "output_type": "stream",
     "text": [
      "\r",
      " 90%|█████████████████████████████████████    | 561/621 [17:42<00:34,  1.73it/s]"
     ]
    },
    {
     "name": "stdout",
     "output_type": "stream",
     "text": [
      "dl2e3mjAj9_Of86Wv91HHiCqiJfZBsnBXUUwEtKStNY7_yi3bO6l6ZEhP-tbbqrI3_TH3W4pRKyW8A\n"
     ]
    },
    {
     "name": "stderr",
     "output_type": "stream",
     "text": [
      "\r",
      " 90%|█████████████████████████████████████    | 562/621 [17:43<00:35,  1.66it/s]"
     ]
    },
    {
     "name": "stdout",
     "output_type": "stream",
     "text": [
      "a1r_GAjaFejnHonOXhPT8lkSeiLevgLLr3JwxUTJnNpA-wD8HVN0Xvov07m7CEvMrVdTOGtSHUvuqw\n"
     ]
    },
    {
     "name": "stderr",
     "output_type": "stream",
     "text": [
      "\r",
      " 91%|█████████████████████████████████████▏   | 563/621 [17:43<00:30,  1.93it/s]"
     ]
    },
    {
     "name": "stdout",
     "output_type": "stream",
     "text": [
      "a31cooshk79jElMx3xdL_Q89aqMFBCIK9rwgxVs1wt_BYhRB3ZVeKh_nsnbqlwczNtsDFap4xgPIMg\n"
     ]
    },
    {
     "name": "stderr",
     "output_type": "stream",
     "text": [
      "\r",
      " 91%|█████████████████████████████████████▏   | 564/621 [17:44<00:33,  1.73it/s]"
     ]
    },
    {
     "name": "stdout",
     "output_type": "stream",
     "text": [
      "K64MPUcQ4g_YBpoxwfNg-_VbR2OHHO67MSFz0C16T_Hg9DdqUGfriF6I4FcGk-pkuyKjSg65ammFiw\n"
     ]
    },
    {
     "name": "stderr",
     "output_type": "stream",
     "text": [
      "\r",
      " 91%|█████████████████████████████████████▎   | 565/621 [17:45<00:29,  1.88it/s]"
     ]
    },
    {
     "name": "stdout",
     "output_type": "stream",
     "text": [
      "n0b0iVX0ZdLRQ1f1OTMUK9tV5iphnNLZYQJLEzeRXBndUjV3ZBGULxEn1vR7KsxiRtdY_16StifSKQ\n"
     ]
    },
    {
     "name": "stderr",
     "output_type": "stream",
     "text": [
      "\r",
      " 91%|█████████████████████████████████████▎   | 566/621 [17:45<00:31,  1.72it/s]"
     ]
    },
    {
     "name": "stdout",
     "output_type": "stream",
     "text": [
      "svGEa61CxfoOLT87UuGFC2iUZWyvzvRIFge9ROr3FjHeJXtH5Tj8GmIHifuKyzyLSP5VbJG9Na5TMg\n"
     ]
    },
    {
     "name": "stderr",
     "output_type": "stream",
     "text": [
      "\r",
      " 91%|█████████████████████████████████████▍   | 567/621 [17:46<00:26,  2.02it/s]"
     ]
    },
    {
     "name": "stdout",
     "output_type": "stream",
     "text": [
      "nClrDqQX7f-OkQ3xTYF9XJ_Zp_VBoK8ZKOMueKOZbDx_4CHakXAbotrU7laet7EkOf8imEHHOKo0wg\n"
     ]
    },
    {
     "name": "stderr",
     "output_type": "stream",
     "text": [
      "\r",
      " 91%|█████████████████████████████████████▌   | 568/621 [17:46<00:22,  2.31it/s]"
     ]
    },
    {
     "name": "stdout",
     "output_type": "stream",
     "text": [
      "s6RCpRPABYiCDY7quCY5mITtaiWHRRTjDLL28e1NqbItfP5UlbUlqDIaqUgeLi6I7rgz5ZV-zW4s9A\n"
     ]
    },
    {
     "name": "stderr",
     "output_type": "stream",
     "text": [
      "\r",
      " 92%|█████████████████████████████████████▌   | 569/621 [17:46<00:24,  2.13it/s]"
     ]
    },
    {
     "name": "stdout",
     "output_type": "stream",
     "text": [
      "ZTCgNiqEmCaZjXIxZtu9RKoRukCyGpd3MDEvGS32EDi1cBVnzlpjzZX0_vGj9g2CHyIJ1j5RKG6aZw\n"
     ]
    },
    {
     "name": "stderr",
     "output_type": "stream",
     "text": [
      "\r",
      " 92%|█████████████████████████████████████▋   | 570/621 [17:47<00:23,  2.19it/s]"
     ]
    },
    {
     "name": "stdout",
     "output_type": "stream",
     "text": [
      "hfFEA4PekUJxBU_L2lKF1_-0-HH2UkdWOoj40Mi5lI9mSjt_X-MIor9l_JjdtMExqBo_7bcumpu56A\n"
     ]
    },
    {
     "name": "stderr",
     "output_type": "stream",
     "text": [
      "\r",
      " 92%|█████████████████████████████████████▋   | 571/621 [17:47<00:22,  2.18it/s]"
     ]
    },
    {
     "name": "stdout",
     "output_type": "stream",
     "text": [
      "0mnMTTZzlzPPRlefmJ8eRQpivHL07UyQyeE2KMPjWs7C5FUh3-boz8vxRfqdiLAm46F8iDCLr7Hykw\n"
     ]
    },
    {
     "name": "stderr",
     "output_type": "stream",
     "text": [
      "\r",
      " 92%|█████████████████████████████████████▊   | 572/621 [17:48<00:20,  2.44it/s]"
     ]
    },
    {
     "name": "stdout",
     "output_type": "stream",
     "text": [
      "QGh3qGSQ6-xtKT8hdPgFOk0MbMQupwQ0FTSQ8f6JihUGL8RSlhd--K6R-gvgMWRs4Twq6he6idL1UA\n"
     ]
    },
    {
     "name": "stderr",
     "output_type": "stream",
     "text": [
      "\r",
      " 92%|█████████████████████████████████████▊   | 573/621 [17:48<00:21,  2.23it/s]"
     ]
    },
    {
     "name": "stdout",
     "output_type": "stream",
     "text": [
      "ybN8THK8AsqusCAbIDeO-dvkqAcFCiEhNgm5O4sMaALUknlZKd_iT3ie6aY1fQleXJOJMSWIQhPj4g\n"
     ]
    },
    {
     "name": "stderr",
     "output_type": "stream",
     "text": [
      "\r",
      " 92%|█████████████████████████████████████▉   | 574/621 [17:48<00:18,  2.48it/s]"
     ]
    },
    {
     "name": "stdout",
     "output_type": "stream",
     "text": [
      "4GWjHA-JarYFZMS8tUKElS-xH5uKwJ0TUzwiTXUMiOYRFuUICVB21uP_--OAMnAWtkK9bJtFEW3Hdw\n"
     ]
    },
    {
     "name": "stderr",
     "output_type": "stream",
     "text": [
      "\r",
      " 93%|█████████████████████████████████████▉   | 575/621 [17:49<00:21,  2.10it/s]"
     ]
    },
    {
     "name": "stdout",
     "output_type": "stream",
     "text": [
      "P4Ifi_gJHCA8ALfl17GM0NeHkZVNIi5YVgY7m3XLWsis9s8TQDgXtT7EV3WquJyxNJya2Dx1DOJovg\n"
     ]
    },
    {
     "name": "stderr",
     "output_type": "stream",
     "text": [
      "\r",
      " 93%|██████████████████████████████████████   | 576/621 [17:50<00:22,  1.99it/s]"
     ]
    },
    {
     "name": "stdout",
     "output_type": "stream",
     "text": [
      "PhzOEsI7jQNlS5M4KPo5T0eEidWy8E_Eso0sQadLyRb5IRnR35Nwuu8SvIImdRepaMS-iQMvIFRBKQ\n"
     ]
    },
    {
     "name": "stderr",
     "output_type": "stream",
     "text": [
      "\r",
      " 93%|██████████████████████████████████████   | 577/621 [17:50<00:19,  2.25it/s]"
     ]
    },
    {
     "name": "stdout",
     "output_type": "stream",
     "text": [
      "u64xpjG6-daCnJGMgAdBFhe8D2mHcIbL4xXAVJ_DIJ6sO5CAXGaVrarovED_xX_vZsUAsz7KyagWEg\n"
     ]
    },
    {
     "name": "stderr",
     "output_type": "stream",
     "text": [
      "\r",
      " 93%|██████████████████████████████████████▏  | 578/621 [17:50<00:17,  2.49it/s]"
     ]
    },
    {
     "name": "stdout",
     "output_type": "stream",
     "text": [
      "Lo5TM_aBPFnEUzXAO9MrIH3HEFmMtblVHPq3XWdePmydJ6VcFHNHXkva1SgZApGVx80g1MWMVFUGXg\n"
     ]
    },
    {
     "name": "stderr",
     "output_type": "stream",
     "text": [
      "\r",
      " 93%|██████████████████████████████████████▏  | 579/621 [17:51<00:15,  2.70it/s]"
     ]
    },
    {
     "name": "stdout",
     "output_type": "stream",
     "text": [
      "GVp77-CndxtZN9CIAfF-xgBA0ZdHvAWNT_S0X9mdHy7c01r6bwgmXhdfuTdMC5nkLX-Ol0qkogsDPA\n"
     ]
    },
    {
     "name": "stderr",
     "output_type": "stream",
     "text": [
      "\r",
      " 93%|██████████████████████████████████████▎  | 580/621 [17:51<00:14,  2.89it/s]"
     ]
    },
    {
     "name": "stdout",
     "output_type": "stream",
     "text": [
      "xft_DDBFbwArFWVoCHnw51FlvWvCjsx4zPMN0HKFMF7bR46hMp5qgmBt0uHc0SHeUJY5-hx9aFHAkA\n"
     ]
    },
    {
     "name": "stderr",
     "output_type": "stream",
     "text": [
      "\r",
      " 94%|██████████████████████████████████████▎  | 581/621 [17:51<00:13,  3.04it/s]"
     ]
    },
    {
     "name": "stdout",
     "output_type": "stream",
     "text": [
      "S2usHreWTPlGD3vPWcWnvhgGuFHrCUsauyenf00zTUxD4kLyCHDXHxdHuAZ-DiVejtrZJo-SMnOD2g\n"
     ]
    },
    {
     "name": "stderr",
     "output_type": "stream",
     "text": [
      "\r",
      " 94%|██████████████████████████████████████▍  | 582/621 [17:52<00:19,  1.99it/s]"
     ]
    },
    {
     "name": "stdout",
     "output_type": "stream",
     "text": [
      "Gvc-AK9YrxwaTYrzV9nboOj-ZoKsqYOMwm7imKp-V697mAq8pYhnfMBviR-oMWznuxlo3x4PjI35kQ\n"
     ]
    },
    {
     "name": "stderr",
     "output_type": "stream",
     "text": [
      "\r",
      " 94%|██████████████████████████████████████▍  | 583/621 [17:52<00:16,  2.28it/s]"
     ]
    },
    {
     "name": "stdout",
     "output_type": "stream",
     "text": [
      "e-XVXu3V8FaY5qZJhLlX-PrDvOMCVI3thmkQ3az1KXq0CVoee-u28N78H0Ud7OmP6T7A_7pTGt9N1g\n"
     ]
    },
    {
     "name": "stderr",
     "output_type": "stream",
     "text": [
      "\r",
      " 94%|██████████████████████████████████████▌  | 584/621 [17:53<00:15,  2.46it/s]"
     ]
    },
    {
     "name": "stdout",
     "output_type": "stream",
     "text": [
      "9NUquIi-vN9BO_IyGLF8Bxt_kCd_T-nRvqKFb0iTUSDQc4_P5MhoRkV8v64KpMWmdziDiIe2ekRyEg\n"
     ]
    },
    {
     "name": "stderr",
     "output_type": "stream",
     "text": [
      "\r",
      " 94%|██████████████████████████████████████▌  | 585/621 [17:53<00:13,  2.68it/s]"
     ]
    },
    {
     "name": "stdout",
     "output_type": "stream",
     "text": [
      "5aygGd3WWJIRm9OKqUdWUSIAGpg-AvhxtkM2dyqs7O54ac2D7b-x46FIpFUqbLKO9Cx5LpWOYikaAA\n"
     ]
    },
    {
     "name": "stderr",
     "output_type": "stream",
     "text": [
      "\r",
      " 94%|██████████████████████████████████████▋  | 586/621 [17:53<00:13,  2.53it/s]"
     ]
    },
    {
     "name": "stdout",
     "output_type": "stream",
     "text": [
      "xeyRa_Cu_JqtORy31eiGTIrfdvWL2q4Qeo6GpeVS5LyMvolErE4CC_CkLHeI32ai9LTwiBjN0-ySkw\n",
      "api cost full : infinite loop start\n",
      "loop location :  wfFx2QNejfU8CnsXyIUp32nHDKRyt46DiiDhI976hJspk8f17DnjjLTe5g\n",
      "try 10 second wait time\n",
      "429\n",
      "try 10 second wait time\n",
      "429\n",
      "try 10 second wait time\n",
      "429\n",
      "try 10 second wait time\n",
      "429\n",
      "try 10 second wait time\n",
      "429\n",
      "try 10 second wait time\n",
      "429\n",
      "try 10 second wait time\n",
      "429\n",
      "try 10 second wait time\n",
      "429\n",
      "try 10 second wait time\n",
      "429\n",
      "try 10 second wait time\n"
     ]
    },
    {
     "name": "stderr",
     "output_type": "stream",
     "text": [
      "\r",
      " 95%|██████████████████████████████████████▊  | 587/621 [19:39<18:04, 31.89s/it]"
     ]
    },
    {
     "name": "stdout",
     "output_type": "stream",
     "text": [
      "200\n",
      "total wait time :  105.07221913337708\n",
      "recovery api cost\n",
      "atFk9oasx0gpgxCeeQfnj_BiBLLxScQBuUyHnw3K-9rJCzGVQPq5Q0MB1gIYZ8EEI2x1CLEt63ODJg\n"
     ]
    },
    {
     "name": "stderr",
     "output_type": "stream",
     "text": [
      "\r",
      " 95%|██████████████████████████████████████▊  | 588/621 [19:39<12:19, 22.41s/it]"
     ]
    },
    {
     "name": "stdout",
     "output_type": "stream",
     "text": [
      "oIAC3JkoQnIGnkATjO7_jx6l2gMm3rau7VDsahuX-2fCYuEhPMEnKzrrGZnYtSgUJqOGXLvjd13JkA\n"
     ]
    },
    {
     "name": "stderr",
     "output_type": "stream",
     "text": [
      "\r",
      " 95%|██████████████████████████████████████▉  | 589/621 [19:39<08:25, 15.78s/it]"
     ]
    },
    {
     "name": "stdout",
     "output_type": "stream",
     "text": [
      "7l161d_Oc9hfq2ow32tkuUizvRL8EmkglNR7TcnWLxw51byJHh2R9pjAObEwhi17y5cB33GnpXbREQ\n"
     ]
    },
    {
     "name": "stderr",
     "output_type": "stream",
     "text": [
      "\r",
      " 95%|██████████████████████████████████████▉  | 590/621 [19:40<05:47, 11.22s/it]"
     ]
    },
    {
     "name": "stdout",
     "output_type": "stream",
     "text": [
      "-ZT3hvtu9izAu7CUWnYMy9VQlho6H50by36QKWPyzwqjPZzuRWuZMfLHK59VPdVFzV8w8MDyw4fU9w\n"
     ]
    },
    {
     "name": "stderr",
     "output_type": "stream",
     "text": [
      "\r",
      " 95%|███████████████████████████████████████  | 591/621 [19:41<04:00,  8.03s/it]"
     ]
    },
    {
     "name": "stdout",
     "output_type": "stream",
     "text": [
      "UPZ7s2mzrEop9yBD0A_1cnoYLDzeHAaEk73o1ZwVpPUQPx46zL1RyKJ25jXIH_b13oO_7DJfQXaAHQ\n"
     ]
    },
    {
     "name": "stderr",
     "output_type": "stream",
     "text": [
      "\r",
      " 95%|███████████████████████████████████████  | 592/621 [19:41<02:48,  5.83s/it]"
     ]
    },
    {
     "name": "stdout",
     "output_type": "stream",
     "text": [
      "3Rcp7UQWJY719yPK3OR0NmQeEwFIP2EmqSy8FPVZ5OcNYXl1voBb3XXhz059-uDkTTKwpq5IEWCThw\n"
     ]
    },
    {
     "name": "stderr",
     "output_type": "stream",
     "text": [
      "\r",
      " 95%|███████████████████████████████████████▏ | 593/621 [19:42<01:59,  4.28s/it]"
     ]
    },
    {
     "name": "stdout",
     "output_type": "stream",
     "text": [
      "tHdsMVrkbVgUSSc6vJ4mLr2meE96tQ4ZXXTXIZ8ru0c0-6F35hfePzW41NtElMstTl9x5UjlEabkxQ\n"
     ]
    },
    {
     "name": "stderr",
     "output_type": "stream",
     "text": [
      "\r",
      " 96%|███████████████████████████████████████▏ | 594/621 [19:42<01:23,  3.09s/it]"
     ]
    },
    {
     "name": "stdout",
     "output_type": "stream",
     "text": [
      "jYHcT7hidPt39GsrhGIldTSGxtiu8ucWtTXDANVrvvwlq34XlXF6fJbOrsS0FwytaVlTbp_s172cPg\n"
     ]
    },
    {
     "name": "stderr",
     "output_type": "stream",
     "text": [
      "\r",
      " 96%|███████████████████████████████████████▎ | 595/621 [19:43<01:02,  2.42s/it]"
     ]
    },
    {
     "name": "stdout",
     "output_type": "stream",
     "text": [
      "O9wgTQc2HMEfysKiwzUcUmuv4bGMG7gD67FXVy4BbrOA5dIzBJ-yl5r-4XtArxKZIUahvzThSV97Qg\n"
     ]
    },
    {
     "name": "stderr",
     "output_type": "stream",
     "text": [
      "\r",
      " 96%|███████████████████████████████████████▎ | 596/621 [19:43<00:44,  1.78s/it]"
     ]
    },
    {
     "name": "stdout",
     "output_type": "stream",
     "text": [
      "F-50ICoKaPRHSlpskTjarawevPNEJCSpERyJLKTONewb2T-Qf--yyOlh6F_117BWc1_WSrGqPnbfYA\n"
     ]
    },
    {
     "name": "stderr",
     "output_type": "stream",
     "text": [
      "\r",
      " 96%|███████████████████████████████████████▍ | 597/621 [19:44<00:36,  1.50s/it]"
     ]
    },
    {
     "name": "stdout",
     "output_type": "stream",
     "text": [
      "u9PenwZH5uFFBHS23T1gwCkhand9TQF1mhmnnqMpRJkiAw6an6E9G_SO_o7iqBI5vOdb4H27sGW8qA\n"
     ]
    },
    {
     "name": "stderr",
     "output_type": "stream",
     "text": [
      "\r",
      " 96%|███████████████████████████████████████▍ | 598/621 [19:45<00:28,  1.26s/it]"
     ]
    },
    {
     "name": "stdout",
     "output_type": "stream",
     "text": [
      "iAncxXu4JLElFdbDFqprYnrhnyzTmzlUO7kQC-sz2T9PKto4914z-ETfnCvsAsYpgWKL6Xun7tP0AQ\n"
     ]
    },
    {
     "name": "stderr",
     "output_type": "stream",
     "text": [
      "\r",
      " 96%|███████████████████████████████████████▌ | 599/621 [19:45<00:21,  1.04it/s]"
     ]
    },
    {
     "name": "stdout",
     "output_type": "stream",
     "text": [
      "c38F0K7KcleT6x7c7WUZtkeM8ENQyDNTeBGy5SDT5_NOsZBeEZ_k-E14_HsqAvWs_3XSTI1TUL-jPg\n"
     ]
    },
    {
     "name": "stderr",
     "output_type": "stream",
     "text": [
      "\r",
      " 97%|███████████████████████████████████████▌ | 600/621 [19:46<00:17,  1.18it/s]"
     ]
    },
    {
     "name": "stdout",
     "output_type": "stream",
     "text": [
      "OttZAY3b8nBc2BhWnjwPApaY30tcmbc_Sq3DOTW58NvDLQvnT9hVjc6UkijaomE4I1Cw4HiVQwSSLw\n"
     ]
    },
    {
     "name": "stderr",
     "output_type": "stream",
     "text": [
      "\r",
      " 97%|███████████████████████████████████████▋ | 601/621 [19:46<00:13,  1.45it/s]"
     ]
    },
    {
     "name": "stdout",
     "output_type": "stream",
     "text": [
      "dvR7ZHLtdJSgwy1l7oFKooFZlhkiYVI104gnlVy7Nb8kFkrFBgx2EwAU5yWrJlbLUOwf8dAC9UOOKw\n"
     ]
    },
    {
     "name": "stderr",
     "output_type": "stream",
     "text": [
      "\r",
      " 97%|███████████████████████████████████████▋ | 602/621 [19:46<00:10,  1.75it/s]"
     ]
    },
    {
     "name": "stdout",
     "output_type": "stream",
     "text": [
      "hOEkyeuIId7CHZsg_0yNzuXoj4qSjmQd84rBcUMEe0W_VrRJl89n6tuy7ORagViTsYcMGQfWK3J7VQ\n"
     ]
    },
    {
     "name": "stderr",
     "output_type": "stream",
     "text": [
      "\r",
      " 97%|███████████████████████████████████████▊ | 603/621 [19:47<00:09,  1.96it/s]"
     ]
    },
    {
     "name": "stdout",
     "output_type": "stream",
     "text": [
      "K-E4QXWFHdk1hYU6h7sOYgy83g9DgAfc5l9IQQkrEpPy1NmJ0qEBZO4cYWL4DNjV9uMqFUveAyewPg\n"
     ]
    },
    {
     "name": "stderr",
     "output_type": "stream",
     "text": [
      "\r",
      " 97%|███████████████████████████████████████▉ | 604/621 [19:47<00:08,  1.94it/s]"
     ]
    },
    {
     "name": "stdout",
     "output_type": "stream",
     "text": [
      "XVggS5RqJ8sw0dPPMg53KYu6hVIJm2p-T_kWXyzcv6RpuG6QIgtDswKCYyx4CEk_h545AygPYFwBfw\n"
     ]
    },
    {
     "name": "stderr",
     "output_type": "stream",
     "text": [
      "\r",
      " 97%|███████████████████████████████████████▉ | 605/621 [19:48<00:08,  1.96it/s]"
     ]
    },
    {
     "name": "stdout",
     "output_type": "stream",
     "text": [
      "mHKrmj8ubrka9pTfa0d7QjrEDpGYM24AXAmssfzE1UZcxYufLBv-k33u2tObM711nB-aYuj4W2iKlg\n"
     ]
    },
    {
     "name": "stderr",
     "output_type": "stream",
     "text": [
      "\r",
      " 98%|████████████████████████████████████████ | 606/621 [19:48<00:06,  2.25it/s]"
     ]
    },
    {
     "name": "stdout",
     "output_type": "stream",
     "text": [
      "RlAFHGYEdKEEMdkjofbaLrSlUWGJVTVzogtFruvrNdVCff0yuGxnb73d9M9KMsYvsKyitn8P40FTrg\n"
     ]
    },
    {
     "name": "stderr",
     "output_type": "stream",
     "text": [
      "\r",
      " 98%|████████████████████████████████████████ | 607/621 [19:48<00:05,  2.51it/s]"
     ]
    },
    {
     "name": "stdout",
     "output_type": "stream",
     "text": [
      "cHj-74Z5KofL7MGMegamCdBa5Cncynzw0qVNicWw889CQm0pJe9oT016e8ZYfNgYHhZFKO6DtSzPbQ\n"
     ]
    },
    {
     "name": "stderr",
     "output_type": "stream",
     "text": [
      "\r",
      " 98%|████████████████████████████████████████▏| 608/621 [19:49<00:04,  2.69it/s]"
     ]
    },
    {
     "name": "stdout",
     "output_type": "stream",
     "text": [
      "K9tsqblPFt6bxguRC7HGFj__W3B-9zXr3DipcF_ckKsV8LKoosernCJfuYy5J2JjPu4Lce8g9CXOAQ\n"
     ]
    },
    {
     "name": "stderr",
     "output_type": "stream",
     "text": [
      "\r",
      " 98%|████████████████████████████████████████▏| 609/621 [19:49<00:04,  2.83it/s]"
     ]
    },
    {
     "name": "stdout",
     "output_type": "stream",
     "text": [
      "YdnsDd6_R_Uf2tIGhuM8BWx4Zpr3iOcJHf-dCRVobJbTmRDL06c7AYFHQtc_eB3jzaPiEZVQIGyOrw\n"
     ]
    },
    {
     "name": "stderr",
     "output_type": "stream",
     "text": [
      "\r",
      " 98%|████████████████████████████████████████▎| 610/621 [19:49<00:03,  2.88it/s]"
     ]
    },
    {
     "name": "stdout",
     "output_type": "stream",
     "text": [
      "2_rlEEouRD4sGYyVkj2Ss5D1YpCglUOztVKtXJouXBjbA8p_ZAs0HAGxRyjUHuKCRqk4xag29_bJdw\n"
     ]
    },
    {
     "name": "stderr",
     "output_type": "stream",
     "text": [
      "\r",
      " 98%|████████████████████████████████████████▎| 611/621 [19:50<00:03,  2.54it/s]"
     ]
    },
    {
     "name": "stdout",
     "output_type": "stream",
     "text": [
      "4nP0XaL5axhid5_llb7YSh_UA5yiC_IqDEeZP-Su449UUyaMi6a1WU1LqHcBnI6_n93f3Ys3Gt5TBg\n"
     ]
    },
    {
     "name": "stderr",
     "output_type": "stream",
     "text": [
      "\r",
      " 99%|████████████████████████████████████████▍| 612/621 [19:50<00:03,  2.69it/s]"
     ]
    },
    {
     "name": "stdout",
     "output_type": "stream",
     "text": [
      "ndAQnjqE63I95a0Qh82erkWT-lLYBFlmhFhDhOfG9JbU4KelUItBBrBPpKXz5aQGgIPwAwVbT-082A\n"
     ]
    },
    {
     "name": "stderr",
     "output_type": "stream",
     "text": [
      "\r",
      " 99%|████████████████████████████████████████▍| 613/621 [19:51<00:03,  2.43it/s]"
     ]
    },
    {
     "name": "stdout",
     "output_type": "stream",
     "text": [
      "i6ekDWf1EFtIGE2MooBYoDkarqrpyicZ7O3X6KnskvRRr0_I6V8vJZpV0GHn5mVy9G_953w8KBPMsQ\n"
     ]
    },
    {
     "name": "stderr",
     "output_type": "stream",
     "text": [
      "\r",
      " 99%|████████████████████████████████████████▌| 614/621 [19:51<00:02,  2.68it/s]"
     ]
    },
    {
     "name": "stdout",
     "output_type": "stream",
     "text": [
      "Wb39G4hcZJMJa_BeIZI-RpkFtrf4XAtaTxJeRFf3UD-o-Xnt4NOZQE4z4isXd08YQ2KhHwi5PeaqIA\n"
     ]
    },
    {
     "name": "stderr",
     "output_type": "stream",
     "text": [
      "\r",
      " 99%|████████████████████████████████████████▌| 615/621 [19:51<00:02,  2.86it/s]"
     ]
    },
    {
     "name": "stdout",
     "output_type": "stream",
     "text": [
      "Rr5qhFy9rYhfna7ki1KH-sq3VAOj9iqagzidyA6xZl92owkvu-8oTW-vuVVaLZsyEpTOncqLrjNUIA\n"
     ]
    },
    {
     "name": "stderr",
     "output_type": "stream",
     "text": [
      "\r",
      " 99%|████████████████████████████████████████▋| 616/621 [19:51<00:01,  2.95it/s]"
     ]
    },
    {
     "name": "stdout",
     "output_type": "stream",
     "text": [
      "E8N5EFPXHKSWHrSsFKMhZgOmohhXmKPQMmEJXAqc2q3Zj8Pb5EoX_VigX8pbbhbYCc11Et55OSKF9w\n"
     ]
    },
    {
     "name": "stderr",
     "output_type": "stream",
     "text": [
      "\r",
      " 99%|████████████████████████████████████████▋| 617/621 [19:52<00:01,  3.05it/s]"
     ]
    },
    {
     "name": "stdout",
     "output_type": "stream",
     "text": [
      "EOb5Zdl9quKGlR3FqPuBMix-B24Msvedz2a1LpeNAlPmV1s23qUC8Ag6SLG4xAzx0mG2ocVG29X4Mw\n"
     ]
    },
    {
     "name": "stderr",
     "output_type": "stream",
     "text": [
      "\r",
      "100%|████████████████████████████████████████▊| 618/621 [19:52<00:00,  3.06it/s]"
     ]
    },
    {
     "name": "stdout",
     "output_type": "stream",
     "text": [
      "Zln8CXd5BBvhN6X1GZTfIZn0sHvCEad-kixtJ3zaQ2ccCaibwA0CiPiD6CyRMeUEFtXPb4pWCUvNVg\n"
     ]
    },
    {
     "name": "stderr",
     "output_type": "stream",
     "text": [
      "\r",
      "100%|████████████████████████████████████████▊| 619/621 [19:53<00:00,  2.19it/s]"
     ]
    },
    {
     "name": "stdout",
     "output_type": "stream",
     "text": [
      "qvG7mJTrXh2-CXzPFY1zVCsMu723LBYKC7RAS9hKt6r1ykRDJLqit6TAP6VCtZ9Idn-DA9mb5BfvVw\n"
     ]
    },
    {
     "name": "stderr",
     "output_type": "stream",
     "text": [
      "\r",
      "100%|████████████████████████████████████████▉| 620/621 [19:53<00:00,  2.15it/s]"
     ]
    },
    {
     "name": "stdout",
     "output_type": "stream",
     "text": [
      "iCZaefaTbRvHogjnhn9NiFujHKkQhgZRJ30lzwoYzYCptR0EPRRvMP9ITwdNWdZI1G12lIV7H4oszA\n"
     ]
    },
    {
     "name": "stderr",
     "output_type": "stream",
     "text": [
      "100%|█████████████████████████████████████████| 621/621 [19:54<00:00,  1.92s/it]"
     ]
    },
    {
     "name": "stdout",
     "output_type": "stream",
     "text": [
      "eJ24yTA6fnQMrgpTQhmcWfJaRz7MCx4CkRDRKjT61IpsTZdSr6gCTiwnST3EM_BK17shG_lYRjizVQ\n"
     ]
    },
    {
     "name": "stderr",
     "output_type": "stream",
     "text": [
      "\n"
     ]
    }
   ],
   "source": [
    "accountId = {}\n",
    "\n",
    "for i,j in zip(tqdm(summonerId.values()),summonerId.keys()):\n",
    "    url2 = 'https://kr.api.riotgames.com/lol/summoner/v4/summoners/' + i + '?api_key=' + api_key\n",
    "    r = requests.get(url2)\n",
    "    \n",
    "    if r.status_code == 200: # response가 정상이면 바로 맨 밑으로 이동하여 정상적으로 코드 실행\n",
    "        pass\n",
    "    \n",
    "    elif r.status_code == 429:\n",
    "        print('api cost full : infinite loop start')\n",
    "        print('loop location : ',i)\n",
    "        start_time = time.time()\n",
    "        \n",
    "        while True: # 429error가 끝날 때까지 무한 루프\n",
    "            if r.status_code == 429:\n",
    "\n",
    "                print('try 10 second wait time')\n",
    "                time.sleep(10)\n",
    "\n",
    "                r = requests.get(url2)\n",
    "                print(r.status_code)\n",
    "\n",
    "            elif r.status_code == 200: #다시 response 200이면 loop escape\n",
    "                print('total wait time : ', time.time() - start_time)\n",
    "                print('recovery api cost')\n",
    "                break\n",
    "    \n",
    "    r = r.json()['puuid']\n",
    "    print(r)\n",
    "    accountId[j] = r"
   ]
  },
  {
   "cell_type": "code",
   "execution_count": 25,
   "id": "98309488",
   "metadata": {
    "id": "98309488",
    "outputId": "be2ead4b-cf6f-4811-da1c-603667770f5b",
    "scrolled": true
   },
   "outputs": [
    {
     "name": "stderr",
     "output_type": "stream",
     "text": [
      "  8%|███▍                                      | 50/621 [00:39<05:46,  1.65it/s]"
     ]
    },
    {
     "name": "stdout",
     "output_type": "stream",
     "text": [
      "api cost full : infinite loop start\n",
      "loop location :  Y9rX7sx5WF4uElAtVYJc4ojThRycgbGD9XBXyaLMZ5S3wIG1DDzvUi0YBd7G_x2-L6rcKrd9U0DyDA\n",
      "try 10 second wait time\n",
      "429\n",
      "try 10 second wait time\n",
      "429\n",
      "try 10 second wait time\n",
      "429\n",
      "try 10 second wait time\n",
      "429\n",
      "try 10 second wait time\n",
      "429\n",
      "try 10 second wait time\n",
      "429\n",
      "try 10 second wait time\n",
      "429\n",
      "try 10 second wait time\n",
      "200\n",
      "total wait time :  83.83913111686707\n",
      "recovery api cost\n"
     ]
    },
    {
     "name": "stderr",
     "output_type": "stream",
     "text": [
      " 16%|██████▌                                  | 100/621 [02:49<06:42,  1.29it/s]"
     ]
    },
    {
     "name": "stdout",
     "output_type": "stream",
     "text": [
      "api cost full : infinite loop start\n",
      "loop location :  l6Vf6fyqRLEge-8PWvy-mXxYbbB09B_SW5TXrfNMVcwXI9GO2aNtJNQo4z1NmF7o1xRe4SPmUmX0XA\n",
      "try 10 second wait time\n",
      "429\n",
      "try 10 second wait time\n",
      "429\n",
      "try 10 second wait time\n",
      "429\n",
      "try 10 second wait time\n",
      "429\n",
      "try 10 second wait time\n",
      "429\n",
      "try 10 second wait time\n",
      "429\n",
      "try 10 second wait time\n",
      "429\n",
      "try 10 second wait time\n",
      "200\n",
      "total wait time :  83.55952072143555\n",
      "recovery api cost\n"
     ]
    },
    {
     "name": "stderr",
     "output_type": "stream",
     "text": [
      " 24%|█████████▉                               | 150/621 [04:48<05:40,  1.38it/s]"
     ]
    },
    {
     "name": "stdout",
     "output_type": "stream",
     "text": [
      "api cost full : infinite loop start\n",
      "loop location :  wQtCGt82r-PcDYwE07RSzfsqOslvvfi9qOdCFu5SAJC_sXD-N2pRz3uyaHPBj2adga8SIeAU3MVWRQ\n",
      "try 10 second wait time\n",
      "429\n",
      "try 10 second wait time\n",
      "429\n",
      "try 10 second wait time\n",
      "429\n",
      "try 10 second wait time\n",
      "429\n",
      "try 10 second wait time\n",
      "429\n",
      "try 10 second wait time\n",
      "429\n",
      "try 10 second wait time\n",
      "429\n",
      "try 10 second wait time\n",
      "429\n",
      "try 10 second wait time\n",
      "200\n",
      "total wait time :  93.75244331359863\n",
      "recovery api cost\n"
     ]
    },
    {
     "name": "stderr",
     "output_type": "stream",
     "text": [
      " 32%|█████████████▏                           | 200/621 [06:54<04:08,  1.69it/s]"
     ]
    },
    {
     "name": "stdout",
     "output_type": "stream",
     "text": [
      "api cost full : infinite loop start\n",
      "loop location :  bZhUShX8d6fg_FQBQ2rmNBj1QGjUwoKytEFSRb3PM7GAEYTqtmyHe_oooMCKe7S103pRLiGf5DSp5w\n",
      "try 10 second wait time\n",
      "429\n",
      "try 10 second wait time\n",
      "429\n",
      "try 10 second wait time\n",
      "429\n",
      "try 10 second wait time\n",
      "429\n",
      "try 10 second wait time\n",
      "429\n",
      "try 10 second wait time\n",
      "429\n",
      "try 10 second wait time\n",
      "429\n",
      "try 10 second wait time\n",
      "429\n",
      "try 10 second wait time\n",
      "200\n",
      "total wait time :  92.99135994911194\n",
      "recovery api cost\n"
     ]
    },
    {
     "name": "stderr",
     "output_type": "stream",
     "text": [
      " 40%|████████████████▌                        | 250/621 [09:13<04:40,  1.32it/s]"
     ]
    },
    {
     "name": "stdout",
     "output_type": "stream",
     "text": [
      "api cost full : infinite loop start\n",
      "loop location :  1HCTklV3MJ48FIqn8Fr6PKlwFNhQpIxdUtfD5njj8B44BuFkNyVM_W9riZa9W6vifDwsyqS98arwqw\n",
      "try 10 second wait time\n",
      "429\n",
      "try 10 second wait time\n",
      "429\n",
      "try 10 second wait time\n",
      "429\n",
      "try 10 second wait time\n",
      "429\n",
      "try 10 second wait time\n",
      "429\n",
      "try 10 second wait time\n",
      "429\n",
      "try 10 second wait time\n",
      "200\n",
      "total wait time :  73.84551572799683\n",
      "recovery api cost\n"
     ]
    },
    {
     "name": "stderr",
     "output_type": "stream",
     "text": [
      " 48%|███████████████████▊                     | 300/621 [11:05<04:13,  1.27it/s]"
     ]
    },
    {
     "name": "stdout",
     "output_type": "stream",
     "text": [
      "api cost full : infinite loop start\n",
      "loop location :  DiS3yZgOocSRm5slCaCxPKxUDhPQz8xXiasEuP69Zc7S_1ds96J6iY0HW503emaW1Te2wFw0fpdNbQ\n",
      "try 10 second wait time\n",
      "429\n",
      "try 10 second wait time\n",
      "429\n",
      "try 10 second wait time\n",
      "429\n",
      "try 10 second wait time\n",
      "429\n",
      "try 10 second wait time\n",
      "429\n",
      "try 10 second wait time\n",
      "429\n",
      "try 10 second wait time\n",
      "429\n",
      "try 10 second wait time\n",
      "200\n",
      "total wait time :  83.28962302207947\n",
      "recovery api cost\n"
     ]
    },
    {
     "name": "stderr",
     "output_type": "stream",
     "text": [
      " 56%|███████████████████████                  | 350/621 [13:03<05:03,  1.12s/it]"
     ]
    },
    {
     "name": "stdout",
     "output_type": "stream",
     "text": [
      "api cost full : infinite loop start\n",
      "loop location :  kzox3W9qE146gkAHvTKb-gauANacexDinKpzFngfP-pf9V04RGgMS0Wr6FeYOLA1S7NhVm8ynWS6rg\n",
      "try 10 second wait time\n",
      "429\n",
      "try 10 second wait time\n",
      "429\n",
      "try 10 second wait time\n",
      "429\n",
      "try 10 second wait time\n",
      "429\n",
      "try 10 second wait time\n",
      "429\n",
      "try 10 second wait time\n",
      "429\n",
      "try 10 second wait time\n",
      "429\n",
      "try 10 second wait time\n",
      "200\n",
      "total wait time :  85.07316088676453\n",
      "recovery api cost\n"
     ]
    },
    {
     "name": "stderr",
     "output_type": "stream",
     "text": [
      " 64%|██████████████████████████▍              | 400/621 [15:03<02:11,  1.68it/s]"
     ]
    },
    {
     "name": "stdout",
     "output_type": "stream",
     "text": [
      "api cost full : infinite loop start\n",
      "loop location :  7M5FFWanYM9Sl518xPUfDVQR3MnUoLQQ7SvI2HLkDNdxUxArVEqFx5qQ8-mPuwGOmddgCDUzVw3U7Q\n",
      "try 10 second wait time\n",
      "429\n",
      "try 10 second wait time\n",
      "429\n",
      "try 10 second wait time\n",
      "429\n",
      "try 10 second wait time\n",
      "429\n",
      "try 10 second wait time\n",
      "429\n",
      "try 10 second wait time\n",
      "429\n",
      "try 10 second wait time\n",
      "429\n",
      "try 10 second wait time\n",
      "429\n",
      "try 10 second wait time\n",
      "200\n",
      "total wait time :  92.93573498725891\n",
      "recovery api cost\n"
     ]
    },
    {
     "name": "stderr",
     "output_type": "stream",
     "text": [
      " 72%|█████████████████████████████▋           | 450/621 [17:11<01:47,  1.59it/s]"
     ]
    },
    {
     "name": "stdout",
     "output_type": "stream",
     "text": [
      "api cost full : infinite loop start\n",
      "loop location :  yJUqfB16DQWrHa0XOTo4kv4uk1VKja_hdatPJoy8SwKE2YPRQzzqhGlIR7-n8dKPk8qWC9oGj9tnng\n",
      "try 10 second wait time\n",
      "429\n",
      "try 10 second wait time\n",
      "429\n",
      "try 10 second wait time\n",
      "429\n",
      "try 10 second wait time\n",
      "429\n",
      "try 10 second wait time\n",
      "429\n",
      "try 10 second wait time\n",
      "429\n",
      "try 10 second wait time\n",
      "429\n",
      "try 10 second wait time\n",
      "429\n",
      "try 10 second wait time\n",
      "200\n",
      "total wait time :  94.034099817276\n",
      "recovery api cost\n"
     ]
    },
    {
     "name": "stderr",
     "output_type": "stream",
     "text": [
      " 81%|█████████████████████████████████        | 500/621 [19:23<01:59,  1.01it/s]"
     ]
    },
    {
     "name": "stdout",
     "output_type": "stream",
     "text": [
      "api cost full : infinite loop start\n",
      "loop location :  t3XPVBd2jfQ4PzFkhJLiNo399TDEzbjCk--4O2V1oKoBQF23YqKxI7YiouHvxsXomF_nb0uzGeJa9A\n",
      "try 10 second wait time\n",
      "429\n",
      "try 10 second wait time\n",
      "429\n",
      "try 10 second wait time\n",
      "429\n",
      "try 10 second wait time\n",
      "429\n",
      "try 10 second wait time\n",
      "429\n",
      "try 10 second wait time\n",
      "429\n",
      "try 10 second wait time\n",
      "429\n",
      "try 10 second wait time\n",
      "200\n",
      "total wait time :  83.09097695350647\n",
      "recovery api cost\n"
     ]
    },
    {
     "name": "stderr",
     "output_type": "stream",
     "text": [
      " 89%|████████████████████████████████████▎    | 550/621 [21:20<00:59,  1.20it/s]"
     ]
    },
    {
     "name": "stdout",
     "output_type": "stream",
     "text": [
      "api cost full : infinite loop start\n",
      "loop location :  Ym-wVgvl391YmJ9I0Q3flX8eirlWcn2xhHOpuvZHWUgmtXjkSOZSNVGZ-sHcPrpAr9QhkOmT4qgpxg\n",
      "try 10 second wait time\n",
      "429\n",
      "try 10 second wait time\n",
      "429\n",
      "try 10 second wait time\n",
      "429\n",
      "try 10 second wait time\n",
      "429\n",
      "try 10 second wait time\n",
      "429\n",
      "try 10 second wait time\n",
      "429\n",
      "try 10 second wait time\n",
      "429\n",
      "try 10 second wait time\n",
      "429\n",
      "try 10 second wait time\n",
      "200\n",
      "total wait time :  94.36957693099976\n",
      "recovery api cost\n"
     ]
    },
    {
     "name": "stderr",
     "output_type": "stream",
     "text": [
      " 97%|███████████████████████████████████████▌ | 600/621 [23:42<00:29,  1.39s/it]"
     ]
    },
    {
     "name": "stdout",
     "output_type": "stream",
     "text": [
      "api cost full : infinite loop start\n",
      "loop location :  dvR7ZHLtdJSgwy1l7oFKooFZlhkiYVI104gnlVy7Nb8kFkrFBgx2EwAU5yWrJlbLUOwf8dAC9UOOKw\n",
      "try 10 second wait time\n",
      "429\n",
      "try 10 second wait time\n",
      "429\n",
      "try 10 second wait time\n",
      "429\n",
      "try 10 second wait time\n",
      "429\n",
      "try 10 second wait time\n",
      "429\n",
      "try 10 second wait time\n",
      "429\n",
      "try 10 second wait time\n",
      "200\n",
      "total wait time :  74.6600832939148\n",
      "recovery api cost\n"
     ]
    },
    {
     "name": "stderr",
     "output_type": "stream",
     "text": [
      "100%|█████████████████████████████████████████| 621/621 [25:18<00:00,  2.44s/it]\n"
     ]
    }
   ],
   "source": [
    "gameId = set() #중복된 게임 제거를 위한 set 함수\n",
    "\n",
    "# url3 = 'https://kr.api.riotgames.com/lol/match/v4/matchlists/by-account/hqMv8JiT0hjKc96iqUz9ucXFPgsENmbI_5OHPmlyVOCZxwE?queue=420&api_key=RGAPI-e456f533-671c-4947-b960-98443960695b'\n",
    "\n",
    "for i in tqdm(accountId.values()):\n",
    "    url3 = 'https://asia.api.riotgames.com/lol/match/v5/matches/by-puuid/'+ i +'/ids?start=1&count=20'\n",
    "    r = requests.get(url3, headers=request_header)\n",
    "    \n",
    "    if r.status_code == 200: # response가 정상이면 바로 맨 밑으로 이동하여 정상적으로 코드 실행\n",
    "        pass\n",
    "    \n",
    "    elif r.status_code == 429:\n",
    "        print('api cost full : infinite loop start')\n",
    "        print('loop location : ',i)\n",
    "        start_time = time.time()\n",
    "        \n",
    "        while True: # 429error가 끝날 때까지 무한 루프\n",
    "            if r.status_code == 429:\n",
    "\n",
    "                print('try 10 second wait time')\n",
    "                time.sleep(10)\n",
    "\n",
    "                r = requests.get(url3, headers=request_header)\n",
    "                print(r.status_code)\n",
    "\n",
    "            elif r.status_code == 200: #다시 response 200이면 loop escape\n",
    "                print('total wait time : ', time.time() - start_time)\n",
    "                print('recovery api cost')\n",
    "                break\n",
    "                \n",
    "    r = requests.get(url3, headers=request_header).json() # 해당 게이머의 최근 20경기\n",
    "    for count in range(len(r)): #gameId에 저장\n",
    "        gameId.add(r[count])"
   ]
  },
  {
   "cell_type": "code",
   "execution_count": 28,
   "id": "603aa8b8",
   "metadata": {
    "scrolled": true
   },
   "outputs": [
    {
     "data": {
      "text/plain": [
       "<function Connection.close>"
      ]
     },
     "execution_count": 28,
     "metadata": {},
     "output_type": "execute_result"
    }
   ],
   "source": [
    "gameId = list(gameId)\n",
    "\n",
    "import sqlite3\n",
    "\n",
    "conn = sqlite3.connect('loldata.db') # 데이터 베이스 생성\n",
    "cur = conn.cursor()\n",
    "\n",
    "cur.execute(\"DROP TABLE IF EXISTS gameID;\")\n",
    "\n",
    "cur.execute(f\"\"\"CREATE TABLE gameID (\n",
    "                gameId NVARCHAR(160) NOT NULL PRIMARY KEY)\n",
    "                ;\"\"\")               # 챔프 ID와 \n",
    "\n",
    "for i in range(len(gameId)):\n",
    "    cur.execute(f\"INSERT OR REPLACE INTO gameID('gameID') VALUES ('{gameId[i]}');\")\n",
    "\n",
    "conn.commit()\n",
    "cur.close\n",
    "conn.close"
   ]
  },
  {
   "cell_type": "code",
   "execution_count": 30,
   "id": "d3056da6",
   "metadata": {},
   "outputs": [
    {
     "data": {
      "text/plain": [
       "<function sql_class.DBcreate.gameIdUP(self)>"
      ]
     },
     "execution_count": 30,
     "metadata": {},
     "output_type": "execute_result"
    }
   ],
   "source": [
    "from sql_class import DBcreate\n",
    "\n",
    "DBcreate.gameIdUP"
   ]
  },
  {
   "cell_type": "code",
   "execution_count": null,
   "id": "3b2bde79",
   "metadata": {},
   "outputs": [],
   "source": [
    "gameId_grandmaster = pd.DataFrame(columns = ['gameId'])\n"
   ]
  },
  {
   "cell_type": "code",
   "execution_count": null,
   "id": "8332d7c7",
   "metadata": {},
   "outputs": [],
   "source": [
    "gameId = list(gameId)\n",
    "for i in range(len(gameId)):\n",
    "    input_data = {'gameId' : gameId[i]}\n",
    "    gameId_grandmaster.append(input_data, ignore_index = True)"
   ]
  },
  {
   "cell_type": "code",
   "execution_count": null,
   "id": "0980ad0c",
   "metadata": {
    "id": "0980ad0c",
    "outputId": "fe95a256-f11b-42a0-b12a-531e130fb5d1",
    "scrolled": false
   },
   "outputs": [],
   "source": [
    "gameId_grandmaster.to_csv(\"gameId_grandmaster.csv\", header=True, index = False)"
   ]
  },
  {
   "cell_type": "code",
   "execution_count": null,
   "id": "fab9530a",
   "metadata": {
    "id": "fab9530a"
   },
   "outputs": [],
   "source": [
    "match_grandmaster = pd.DataFrame(columns = ['teamId','win','firstBlood','firstTower','firstInhibitor','firstBaron','firstDragon','firstRiftHerald','championKills', 'towerKills','inhibitorKills','baronKills','dragonKills','riftHeraldKills','bans','gameId'])"
   ]
  },
  {
   "cell_type": "code",
   "execution_count": null,
   "id": "4593122b",
   "metadata": {
    "id": "4593122b",
    "outputId": "b0f577fc-7a6f-4ebe-ef41-fc0f1981fe30"
   },
   "outputs": [
    {
     "name": "stderr",
     "output_type": "stream",
     "text": [
      "100%|████████████████████████████████████████████████████████████████████████████████████| 6/6 [00:03<00:00,  1.89it/s]\n"
     ]
    }
   ],
   "source": [
    "num = 0\n",
    "\n",
    "for a in tqdm(range(len(gameId))):\n",
    "    for b in range(len(gameId[a])):\n",
    "                \n",
    "        url4 =  'https://asia.api.riotgames.com/lol/match/v5/matches/' + str(gameId[a][b])\n",
    "        r = requests.get(url4,headers = request_header)\n",
    "        \n",
    "                \n",
    "        if r.status_code == 200: # response가 정상이면 바로 맨 밑으로 이동하여 정상적으로 코드 실행\n",
    "            pass\n",
    "\n",
    "        elif r.status_code == 429:\n",
    "            print('api cost full : infinite loop start')\n",
    "            print('loop location : ',i)\n",
    "            start_time = time.time()\n",
    "    \n",
    "            while True: # 429error가 끝날 때까지 무한 루프\n",
    "                if r.status_code == 429:\n",
    "\n",
    "                    print('try 10 second wait time')\n",
    "                    time.sleep(10)\n",
    "\n",
    "                    r = requests.get(url4, headers = request_header)\n",
    "                    print(r.status_code)\n",
    "\n",
    "                elif r.status_code == 200: #다시 response 200이면 loop escape\n",
    "                    print('total wait time : ', time.time() - start_time)\n",
    "                    print('recovery api cost')\n",
    "                    break\n",
    "                    \n",
    "        r = requests.get(url4, headers = request_header).json()          \n",
    "        \n",
    "        try:\n",
    "            if r['info']['gameMode'] == 'CLASSIC':\n",
    "                for i in [0,1]:\n",
    "                    if r['info']['teams'][i]['win'] == False:\n",
    "                            input_data = {\n",
    "                                'teamId': str(r['info']['teams'][i]['teamId']),\n",
    "                                'win':r['info']['teams'][i]['win'],\n",
    "                                'firstBlood':r['info']['teams'][i]['objectives']['champion']['first'],\n",
    "                                'firstTower':r['info']['teams'][i]['objectives']['tower']['first'],\n",
    "                                'firstInhibitor':r['info']['teams'][i]['objectives']['inhibitor']['first'],\n",
    "                                'firstBaron':r['info']['teams'][i]['objectives']['baron']['first'],\n",
    "                                'firstDragon':r['info']['teams'][i]['objectives']['dragon']['first'],\n",
    "                                'firstRiftHerald':r['info']['teams'][i]['objectives']['riftHerald']['first'],\n",
    "                                'championKills' : r['info']['teams'][i]['objectives']['champion']['kills'],\n",
    "                                'towerKills':r['info']['teams'][i]['objectives']['tower']['kills'],\n",
    "                                'inhibitorKills':r['info']['teams'][i]['objectives']['inhibitor']['kills'],\n",
    "                                'baronKills':r['info']['teams'][i]['objectives']['baron']['kills'],\n",
    "                                'dragonKills':r['info']['teams'][i]['objectives']['dragon']['kills'],\n",
    "                                'riftHeraldKills':r['info']['teams'][i]['objectives']['riftHerald']['kills'],\n",
    "                                'bans' :r['info']['teams'][i]['bans'],\n",
    "                                'gameId': gameId[a][b]\n",
    "                            }\n",
    "\n",
    "                            match_grandmaster = match_grandmaster.append(input_data, ignore_index = True)\n",
    "                            \n",
    "                    elif r['info']['teams'][i]['win'] == True:\n",
    "                            input_data = {\n",
    "                                'teamId': str(r['info']['teams'][i]['teamId']),\n",
    "                                'win':r['info']['teams'][i]['win'],\n",
    "                                'firstBlood':r['info']['teams'][i]['objectives']['champion']['first'],\n",
    "                                'firstTower':r['info']['teams'][i]['objectives']['tower']['first'],\n",
    "                                'firstInhibitor':r['info']['teams'][i]['objectives']['inhibitor']['first'],\n",
    "                                'firstBaron':r['info']['teams'][i]['objectives']['baron']['first'],\n",
    "                                'firstDragon':r['info']['teams'][i]['objectives']['dragon']['first'],\n",
    "                                'firstRiftHerald':r['info']['teams'][i]['objectives']['riftHerald']['first'],\n",
    "                                'championKills' : r['info']['teams'][i]['objectives']['champion']['kills'],\n",
    "                                'towerKills':r['info']['teams'][i]['objectives']['tower']['kills'],\n",
    "                                'inhibitorKills':r['info']['teams'][i]['objectives']['inhibitor']['kills'],\n",
    "                                'baronKills':r['info']['teams'][i]['objectives']['baron']['kills'],\n",
    "                                'dragonKills':r['info']['teams'][i]['objectives']['dragon']['kills'],\n",
    "                                'riftHeraldKills':r['info']['teams'][i]['objectives']['riftHerald']['kills'],\n",
    "                                'bans' :r['info']['teams'][i]['bans'],\n",
    "                                'gameId': gameId[a][b]\n",
    "                            }\n",
    "                                \n",
    "\n",
    "                            match_grandmaster = match_grandmaster.append(input_data, ignore_index = True)\n",
    "    \n",
    "        except:\n",
    "            print(\"403 에러.api 만료\")"
   ]
  },
  {
   "cell_type": "code",
   "execution_count": null,
   "id": "6c0dbffb",
   "metadata": {
    "id": "6c0dbffb"
   },
   "outputs": [],
   "source": []
  }
 ],
 "metadata": {
  "colab": {
   "name": "GrandmasterData.ipynb",
   "provenance": []
  },
  "kernelspec": {
   "display_name": "Python 3 (ipykernel)",
   "language": "python",
   "name": "python3"
  },
  "language_info": {
   "codemirror_mode": {
    "name": "ipython",
    "version": 3
   },
   "file_extension": ".py",
   "mimetype": "text/x-python",
   "name": "python",
   "nbconvert_exporter": "python",
   "pygments_lexer": "ipython3",
   "version": "3.9.7"
  }
 },
 "nbformat": 4,
 "nbformat_minor": 5
}
