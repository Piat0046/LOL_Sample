{
 "cells": [
  {
   "cell_type": "code",
   "execution_count": 18,
   "id": "590f9b8d",
   "metadata": {},
   "outputs": [
    {
     "data": {
      "text/plain": [
       "<function Connection.close>"
      ]
     },
     "execution_count": 18,
     "metadata": {},
     "output_type": "execute_result"
    }
   ],
   "source": [
    "import sqlite3\n",
    "\n",
    "conn = sqlite3.connect('loldata.db')\n",
    "cur = conn.cursor()\n",
    "\n",
    "cur.execute(\"DROP TABLE IF EXISTS Log_data;\")\n",
    "cur.execute(f\"\"\"CREATE TABLE Log_data (\n",
    "                \"ID\" INTEGER NOT NULL PRIMARY KEY,\n",
    "                \"Input_name\" NVARCHAR(160) NOT NULL,\n",
    "                \"Ingame\" bool,\n",
    "                \"1pick_id\" NVARCHAR(160),\n",
    "                \"1pick\" NVARCHAR(160),\n",
    "                \"1score\" INTEGER,\n",
    "                \"2pick_id\" NVARCHAR(160),\n",
    "                \"2pick\" NVARCHAR(160),\n",
    "                \"2score\" INTEGER,\n",
    "                \"3pick_id\" NVARCHAR(160),\n",
    "                \"3pick\" NVARCHAR(160),\n",
    "                \"3score\" INTEGER,\n",
    "                \"4pick_id\" NVARCHAR(160),\n",
    "                \"4pick\" NVARCHAR(160),\n",
    "                \"4score\" INTEGER,\n",
    "                \"5pick_id\" NVARCHAR(160),\n",
    "                \"5pick\" NVARCHAR(160),\n",
    "                \"5score\" INTEGER,\n",
    "                \"6pick_id\" NVARCHAR(160),\n",
    "                \"6pick\" NVARCHAR(160),\n",
    "                \"6score\" INTEGER,\n",
    "                \"7pick_id\" NVARCHAR(160),\n",
    "                \"7pick\" NVARCHAR(160),\n",
    "                \"7score\" INTEGER,\n",
    "                \"8pick_id\" NVARCHAR(160),\n",
    "                \"8pick\" NVARCHAR(160),\n",
    "                \"8score\" INTEGER,\n",
    "                \"9pick_id\" NVARCHAR(160),\n",
    "                \"9pick\" NVARCHAR(160),\n",
    "                \"9score\" INTEGER,\n",
    "                \"10pick_id\" NVARCHAR(160),\n",
    "                \"10pick\" NVARCHAR(160),\n",
    "                \"10score\" INTEGER               \n",
    "                );\"\"\")\n",
    "conn.commit()\n",
    "cur.close\n",
    "conn.close\n",
    "\n"
   ]
  },
  {
   "cell_type": "code",
   "execution_count": 12,
   "id": "bcda4902",
   "metadata": {},
   "outputs": [],
   "source": [
    "for i in range(len(gameId_list)):\n",
    "    try:\n",
    "        import sqlite3\n",
    "\n",
    "        conn = sqlite3.connect('loldata.db') # 데이터 베이스 생성\n",
    "        cur = conn.cursor()\n",
    "\n",
    "\n",
    "        cur.execute(f\"\"\"INSERT OR REPLACE INTO Matchdata(\"Id\", \"gameid\", \"win_team\",  \"1pick\", \"1score\",\n",
    "                                                                                        \"2pick\", \"2score\",\n",
    "                                                                                        \"3pick\", \"3score\",\n",
    "                                                                                        \"4pick\", \"4score\",\n",
    "                                                                                        \"5pick\", \"5score\",\n",
    "                                                                                        \"6pick\", \"6score\",\n",
    "                                                                                        \"7pick\", \"7score\",\n",
    "                                                                                        \"8pick\", \"8score\",\n",
    "                                                                                        \"9pick\", \"9score\",\n",
    "                                                                                        \"10pick\", \"10score\"\n",
    "                                                                            )\n",
    "                    VALUES (?,?,?,?,?,?,?,?,?,?,?,?,?,?,?,?,?,?,?,?,?,?,?);\"\"\", gameId_list[i])\n",
    "\n",
    "        conn.commit()\n",
    "        cur.close\n",
    "        conn.close\n",
    "    except:\n",
    "        pass\n"
   ]
  },
  {
   "cell_type": "code",
   "execution_count": null,
   "id": "ceddfe5f",
   "metadata": {},
   "outputs": [],
   "source": [
    "import sqlite3\n",
    "\n",
    "conn = sqlite3.connect('loldata.db') # 데이터 베이스 생성\n",
    "cur = conn.cursor()\n",
    "for row in cur.execute(\"SELECT COUNT(ld.ID) from Log_data ld\")\n",
    "    print(row)"
   ]
  }
 ],
 "metadata": {
  "kernelspec": {
   "display_name": "Python 3 (ipykernel)",
   "language": "python",
   "name": "python3"
  },
  "language_info": {
   "codemirror_mode": {
    "name": "ipython",
    "version": 3
   },
   "file_extension": ".py",
   "mimetype": "text/x-python",
   "name": "python",
   "nbconvert_exporter": "python",
   "pygments_lexer": "ipython3",
   "version": "3.9.7"
  }
 },
 "nbformat": 4,
 "nbformat_minor": 5
}
