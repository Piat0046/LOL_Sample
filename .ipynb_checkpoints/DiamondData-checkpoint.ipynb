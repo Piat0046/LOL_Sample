{
 "cells": [
  {
   "cell_type": "code",
   "execution_count": null,
   "id": "c51135e1",
   "metadata": {},
   "outputs": [],
   "source": [
    "import requests\n",
    "import json\n",
    "import time\n",
    "import pprint\n",
    "import pandas as pd\n",
    "from tqdm import tqdm\n",
    "pp = pprint.PrettyPrinter(indent=4)\n",
    "request_header = {\n",
    "                    \"User-Agent\": \"Mozilla/5.0 (Windows NT 10.0; Win64; x64) AppleWebKit/537.36 (KHTML, like Gecko) Chrome/91.0.4472.164 Safari/537.36\",\n",
    "                    \"Accept-Language\": \"ko,en-US;q=0.9,en;q=0.8,es;q=0.7\",\n",
    "                    \"Accept-Charset\": \"application/x-www-form-urlencoded; charset=UTF-8\",\n",
    "                    \"Origin\": \"https://developer.riotgames.com\",\n",
    "                    \"X-Riot-Token\": 'RGAPI-6e408cef-eb55-4075-ba69-c06e3fbd9158'\n",
    "                }\n",
    "api_key = 'RGAPI-6e408cef-eb55-4075-ba69-c06e3fbd9158'\n",
    "\n",
    "#제공받은 라이브러리키 입력\n",
    "summonerId = {}\n",
    "num = 0\n",
    "\n",
    "## 소환사의 ID수집\n",
    "\n",
    "for i in range(1,5):\n",
    "    for b in range(1,20):\n",
    "        if i == 1 :\n",
    "            i = 'I'\n",
    "        elif i == 2 :\n",
    "            i = 'II'\n",
    "        elif i == 3 :\n",
    "            i = 'III'\n",
    "        elif i == 4:\n",
    "            i = 'IV'\n",
    "        b = str(b)\n",
    "        url = 'https://kr.api.riotgames.com/lol/league/v4/entries/RANKED_SOLO_5x5/DIAMOND/'+ i + '?page=' + b\n",
    "\n",
    "        r = requests.get(url, headers=request_header).json()\n",
    "\n",
    "        for a in range(len(r)):\n",
    "            summonerId[r[a]['summonerName']] = r[a]['summonerId']\n",
    "            num += 1\n",
    "\n",
    "print(num)\n",
    "print(summonerId)"
   ]
  },
  {
   "cell_type": "code",
   "execution_count": null,
   "id": "51172dd6",
   "metadata": {},
   "outputs": [
    {
     "name": "stderr",
     "output_type": "stream",
     "text": [
      "  0%|                                                                                 | 1/3118 [00:00<13:02,  3.99it/s]"
     ]
    },
    {
     "name": "stdout",
     "output_type": "stream",
     "text": [
      "RhneVmFbKqThO9qhNKs3st0MNwWlI7RCny_9QNyJK9Hnsza3TVxLFlxAQXDzu1lIMUVmbutK0iL2DA\n"
     ]
    },
    {
     "name": "stderr",
     "output_type": "stream",
     "text": [
      "  0%|                                                                                 | 2/3118 [00:00<25:44,  2.02it/s]"
     ]
    },
    {
     "name": "stdout",
     "output_type": "stream",
     "text": [
      "z67XecHdgV-joFssN_bs54EUMNdq-wi0ZW8sLXWl5cORCiBrTW-ki8npNE7Iviy-LkT_AJN7K8Q3Hw\n"
     ]
    },
    {
     "name": "stderr",
     "output_type": "stream",
     "text": [
      "  0%|                                                                                 | 3/3118 [00:01<26:23,  1.97it/s]"
     ]
    },
    {
     "name": "stdout",
     "output_type": "stream",
     "text": [
      "K963tXNuyn0_yjbWyjsHsj5jbujW3zZBJEsSVCnpgs9gYNNIG0ZqEU_s6EuL2BZWnu71dWdepcpXUg\n"
     ]
    },
    {
     "name": "stderr",
     "output_type": "stream",
     "text": [
      "  0%|                                                                                 | 4/3118 [00:01<21:07,  2.46it/s]"
     ]
    },
    {
     "name": "stdout",
     "output_type": "stream",
     "text": [
      "GyZm1fT8vnSgs-GMwt6jGJ0aH8Cq_A8r3qqCeaNzSTYUPtIBoNn-C8Vm_6vDbAb6gdBFzWfM8wXuuw\n"
     ]
    },
    {
     "name": "stderr",
     "output_type": "stream",
     "text": [
      "  0%|▏                                                                                | 5/3118 [00:01<18:53,  2.75it/s]"
     ]
    },
    {
     "name": "stdout",
     "output_type": "stream",
     "text": [
      "R4dkfE-eafgO_aW-yXZpFI97cTeeVWbUTrhN0MHZABskSpEnziXITctROcyXdohbIdogtp8KrfMqzg\n"
     ]
    },
    {
     "name": "stderr",
     "output_type": "stream",
     "text": [
      "  0%|▏                                                                                | 6/3118 [00:02<29:55,  1.73it/s]"
     ]
    },
    {
     "name": "stdout",
     "output_type": "stream",
     "text": [
      "YAgjTeUw_byn0N8fhn0kdI1A2y9HOBskstBVGv5z-RZykyQxpAh7-SrpgX1H_uA8_cW57rNb6gw70Q\n"
     ]
    },
    {
     "name": "stderr",
     "output_type": "stream",
     "text": [
      "  0%|▏                                                                                | 7/3118 [00:03<27:45,  1.87it/s]"
     ]
    },
    {
     "name": "stdout",
     "output_type": "stream",
     "text": [
      "nEmU1zaB1mz46-2uOVGBHbxLMMt8C_ueU2va51PNTEGpRtBZYbiViCLFxHKsPYPL4qkCktztrmNoEA\n"
     ]
    },
    {
     "name": "stderr",
     "output_type": "stream",
     "text": [
      "  0%|▏                                                                                | 8/3118 [00:03<23:16,  2.23it/s]"
     ]
    },
    {
     "name": "stdout",
     "output_type": "stream",
     "text": [
      "ZkC0awoaD5t4MBmBBg493AKkjyOrGkKxaNxBh4VuoMLcVd7bIw2s0X2_VJLUYKKcA-z1Zrk-LcorVg\n"
     ]
    },
    {
     "name": "stderr",
     "output_type": "stream",
     "text": [
      "  0%|▏                                                                                | 9/3118 [00:03<20:37,  2.51it/s]"
     ]
    },
    {
     "name": "stdout",
     "output_type": "stream",
     "text": [
      "Bo2fSKTuem959u2WKvprdYwMzNCg-HkJdx_tXaS4u97pAfK_52DMYxvxPb_c2TOP5NqTTAOKSROjUQ\n"
     ]
    },
    {
     "name": "stderr",
     "output_type": "stream",
     "text": [
      "  0%|▎                                                                               | 10/3118 [00:04<18:21,  2.82it/s]"
     ]
    },
    {
     "name": "stdout",
     "output_type": "stream",
     "text": [
      "BTJlvX-z_TGFOIkD-3VjUG3YpOJohC-5AHOzefkMKyFRRKxJr8X9IAeyvqNBFkfwTlKIzwknRRbMHg\n"
     ]
    },
    {
     "name": "stderr",
     "output_type": "stream",
     "text": [
      "  0%|▎                                                                               | 11/3118 [00:04<16:38,  3.11it/s]"
     ]
    },
    {
     "name": "stdout",
     "output_type": "stream",
     "text": [
      "cyCkZkIDFc-DruDqAB6D5BYfr4j6sUII1ZJRi9PFVLQAKU9JcmH-sBTptvEi5s9xgsfsJAnuOrXySw\n"
     ]
    },
    {
     "name": "stderr",
     "output_type": "stream",
     "text": [
      "  0%|▎                                                                               | 12/3118 [00:04<15:39,  3.30it/s]"
     ]
    },
    {
     "name": "stdout",
     "output_type": "stream",
     "text": [
      "ucKOBu4AShQvTT537bZzJYKGCmhfoVupef4us0kXIyYhGkUqTFv0FC-_GWEo9R-XbuWwRatge5UFaw\n",
      "api cost full : infinite loop start\n",
      "loop location :  CDIRST9rPa0krNn3AGZIlWo-sxaAYTemLmSRVpb6mNne4eFp\n",
      "try 10 second wait time\n",
      "429\n",
      "try 10 second wait time\n",
      "429\n",
      "try 10 second wait time\n",
      "429\n",
      "try 10 second wait time\n",
      "429\n",
      "try 10 second wait time\n"
     ]
    },
    {
     "name": "stderr",
     "output_type": "stream",
     "text": [
      "  0%|▎                                                                            | 13/3118 [00:56<13:42:22, 15.89s/it]"
     ]
    },
    {
     "name": "stdout",
     "output_type": "stream",
     "text": [
      "200\n",
      "total wait time :  51.55155944824219\n",
      "recovery api cost\n",
      "h4aurDxPZqrCOx7jKItnGosHIzz25O1ssP24Au6r1t0-GGoIVbAlE6w-uAMClGq3121zldCNPLtC3g\n"
     ]
    },
    {
     "name": "stderr",
     "output_type": "stream",
     "text": [
      "  0%|▎                                                                             | 14/3118 [00:56<9:37:44, 11.17s/it]"
     ]
    },
    {
     "name": "stdout",
     "output_type": "stream",
     "text": [
      "PhzOEsI7jQNlS5M4KPo5T0eEidWy8E_Eso0sQadLyRb5IRnR35Nwuu8SvIImdRepaMS-iQMvIFRBKQ\n"
     ]
    },
    {
     "name": "stderr",
     "output_type": "stream",
     "text": [
      "  0%|▍                                                                             | 15/3118 [00:57<6:48:25,  7.90s/it]"
     ]
    },
    {
     "name": "stdout",
     "output_type": "stream",
     "text": [
      "hfFEA4PekUJxBU_L2lKF1_-0-HH2UkdWOoj40Mi5lI9mSjt_X-MIor9l_JjdtMExqBo_7bcumpu56A\n"
     ]
    },
    {
     "name": "stderr",
     "output_type": "stream",
     "text": [
      "  1%|▍                                                                             | 16/3118 [00:57<4:54:57,  5.71s/it]"
     ]
    },
    {
     "name": "stdout",
     "output_type": "stream",
     "text": [
      "YNEt4jLf88zu8bXJsqY3y948oRdNhkEG1rc7VJVl0tgZ7fzsAUzKsGTFlBQHWw5YOzyrtHZPCb3d9w\n"
     ]
    },
    {
     "name": "stderr",
     "output_type": "stream",
     "text": [
      "  1%|▍                                                                             | 17/3118 [00:57<3:30:06,  4.07s/it]"
     ]
    },
    {
     "name": "stdout",
     "output_type": "stream",
     "text": [
      "uPR92dRSPOmySUNKCnUbGnL0LDob-iZ6CI7qLGA-AjLuVJnMIi98ikWxRvsH4o7s83j55aU1f5nxhw\n"
     ]
    },
    {
     "name": "stderr",
     "output_type": "stream",
     "text": [
      "  1%|▍                                                                             | 18/3118 [00:58<2:30:48,  2.92s/it]"
     ]
    },
    {
     "name": "stdout",
     "output_type": "stream",
     "text": [
      "NKAWiQVcN1-iBtWCUNV76K5K7BEP30B56fcPF7qor6uQFR_3UGO9rOqioSZgtLwgsbycDr3LejDABw\n"
     ]
    },
    {
     "name": "stderr",
     "output_type": "stream",
     "text": [
      "  1%|▍                                                                             | 19/3118 [00:58<1:49:39,  2.12s/it]"
     ]
    },
    {
     "name": "stdout",
     "output_type": "stream",
     "text": [
      "7r0T_fCqkHhdLod5K3F1MKei26NFJ5D4WsaYGPJI49JBlONBumEKYoRDIm0o2S3UfFqbFSOIW96PEw\n"
     ]
    },
    {
     "name": "stderr",
     "output_type": "stream",
     "text": [
      "  1%|▌                                                                             | 20/3118 [00:58<1:22:55,  1.61s/it]"
     ]
    },
    {
     "name": "stdout",
     "output_type": "stream",
     "text": [
      "InrgVTTcMIoedHpupNn8jjvMluoF9G4qD0vtdMp6b0k71sbBTQ2FwJUgzAxkVZNzoTiFDCw1OLJupA\n"
     ]
    },
    {
     "name": "stderr",
     "output_type": "stream",
     "text": [
      "  1%|▌                                                                             | 21/3118 [00:59<1:02:27,  1.21s/it]"
     ]
    },
    {
     "name": "stdout",
     "output_type": "stream",
     "text": [
      "fm0uS_L11fU6XsufpY5c9ikac9BUdKUm7hX5K892U1XzHhJzTWX9c_-5DcWrBKnfY7ngqBNJG_6tIw\n"
     ]
    },
    {
     "name": "stderr",
     "output_type": "stream",
     "text": [
      "  1%|▌                                                                               | 22/3118 [00:59<48:14,  1.07it/s]"
     ]
    },
    {
     "name": "stdout",
     "output_type": "stream",
     "text": [
      "whRW-FoG7O5IY6yaJxMhchHMeigTHuezwCvCgjm94ruackpj23C5fyTVwmDNhG-eoqRITMg6-qDmPQ\n"
     ]
    },
    {
     "name": "stderr",
     "output_type": "stream",
     "text": [
      "  1%|▌                                                                               | 23/3118 [00:59<37:54,  1.36it/s]"
     ]
    },
    {
     "name": "stdout",
     "output_type": "stream",
     "text": [
      "E9g_qLNPZvUl1YKil_Dqa4KZgWi9KsthxBJNnixd-NhNjwnc5BvGfcpY3N1USv91dB40sDwUydE6Xw\n"
     ]
    },
    {
     "name": "stderr",
     "output_type": "stream",
     "text": [
      "  1%|▌                                                                               | 24/3118 [01:00<32:51,  1.57it/s]"
     ]
    },
    {
     "name": "stdout",
     "output_type": "stream",
     "text": [
      "zeBtR-f5IAlw7qGTtg-AsWyXQ-06ry5zmXzw7BgelqVXc6AI8_gtZlMTx6huu3JBsQ6jozVf8CAFsw\n"
     ]
    },
    {
     "name": "stderr",
     "output_type": "stream",
     "text": [
      "  1%|▋                                                                               | 25/3118 [01:00<27:25,  1.88it/s]"
     ]
    },
    {
     "name": "stdout",
     "output_type": "stream",
     "text": [
      "jAdGoVTFZxp0p5ZeWG5F6luVlknKJQBXL4o4ikFQbSY_dhs88Lg8rjocq2IeuY1EJDoG3STtpEm9cg\n"
     ]
    },
    {
     "name": "stderr",
     "output_type": "stream",
     "text": [
      "  1%|▋                                                                               | 26/3118 [01:00<23:20,  2.21it/s]"
     ]
    },
    {
     "name": "stdout",
     "output_type": "stream",
     "text": [
      "lB9m0DGCaBe_gHNtDztXYVGXL5G-Owm65WdZo-KTub8y1xYlFhmmDpbdB_W1uweIC0ggv-o7_39grQ\n"
     ]
    },
    {
     "name": "stderr",
     "output_type": "stream",
     "text": [
      "  1%|▋                                                                               | 27/3118 [01:00<20:04,  2.57it/s]"
     ]
    },
    {
     "name": "stdout",
     "output_type": "stream",
     "text": [
      "Vb2r8DX1TXUMwgfpC3PYNsxgjr-oOT0IpPdkzSWGivGAXdzYTrcApPZ5SQ6wJFfhWX8fyHcO73MQFA\n"
     ]
    },
    {
     "name": "stderr",
     "output_type": "stream",
     "text": [
      "  1%|▋                                                                               | 28/3118 [01:01<17:49,  2.89it/s]"
     ]
    },
    {
     "name": "stdout",
     "output_type": "stream",
     "text": [
      "xJKYESrxCrWqQCFjOJHNYGqECKPyd_Y6D5vY5DlyOfG7jxgTqO_CrHxa3dICCgwfjSM7gGA1_HErrQ\n"
     ]
    },
    {
     "name": "stderr",
     "output_type": "stream",
     "text": [
      "  1%|▋                                                                               | 29/3118 [01:01<18:46,  2.74it/s]"
     ]
    },
    {
     "name": "stdout",
     "output_type": "stream",
     "text": [
      "KDHdh_hPAQESOaSTJfAL1TU87wyRgIvf_TbdQfjYkbycTOgUpv_ARTRyhT0Io0CV-S9J6aN-bZJd9A\n"
     ]
    },
    {
     "name": "stderr",
     "output_type": "stream",
     "text": [
      "  1%|▊                                                                               | 30/3118 [01:02<20:29,  2.51it/s]"
     ]
    },
    {
     "name": "stdout",
     "output_type": "stream",
     "text": [
      "FDKkVSEjcVDiwfyhichJblc-HVgHTTbaa5NpBQuxLmBtmTDuqcd25fMY9SNDUGU00p5zKg3Foc0SHw\n"
     ]
    },
    {
     "name": "stderr",
     "output_type": "stream",
     "text": [
      "  1%|▊                                                                               | 31/3118 [01:02<18:15,  2.82it/s]"
     ]
    },
    {
     "name": "stdout",
     "output_type": "stream",
     "text": [
      "OwqF0tefe-v41PBZk5lPk26iTqukh7U5vvvkarxMF9HztSdH7KxNqRE2HSrrpJX3NECCHu_uLfK_qA\n"
     ]
    },
    {
     "name": "stderr",
     "output_type": "stream",
     "text": [
      "  1%|▊                                                                               | 32/3118 [01:02<16:37,  3.09it/s]"
     ]
    },
    {
     "name": "stdout",
     "output_type": "stream",
     "text": [
      "E8N5EFPXHKSWHrSsFKMhZgOmohhXmKPQMmEJXAqc2q3Zj8Pb5EoX_VigX8pbbhbYCc11Et55OSKF9w\n"
     ]
    },
    {
     "name": "stderr",
     "output_type": "stream",
     "text": [
      "  1%|▊                                                                               | 33/3118 [01:02<17:07,  3.00it/s]"
     ]
    },
    {
     "name": "stdout",
     "output_type": "stream",
     "text": [
      "EYUEN1opMShDmizG3ipMyskxvjvnfczuVKaRvR8NGJ1S0bCmslbC3laLQPhaWFzIWhgTRkZqaygB9Q\n"
     ]
    },
    {
     "name": "stderr",
     "output_type": "stream",
     "text": [
      "  1%|▊                                                                               | 34/3118 [01:03<16:03,  3.20it/s]"
     ]
    },
    {
     "name": "stdout",
     "output_type": "stream",
     "text": [
      "_Hoys5NVt3_SXwAoZhyIZHNhNmJCgpeJGHBV3j0IlTp5iHGnTeeVTZyLkSQxy6MrNibOgLFw4mzORQ\n"
     ]
    },
    {
     "name": "stderr",
     "output_type": "stream",
     "text": [
      "  1%|▉                                                                               | 35/3118 [01:03<17:04,  3.01it/s]"
     ]
    },
    {
     "name": "stdout",
     "output_type": "stream",
     "text": [
      "6DxABsE8NtGkEzx68tMXc0SePRf3f_W4sgqFgSNztfl-m4z_Dl0lys-jdNSldNIm4dF_s8oGRlbRQA\n"
     ]
    },
    {
     "name": "stderr",
     "output_type": "stream",
     "text": [
      "  1%|▉                                                                               | 36/3118 [01:04<19:31,  2.63it/s]"
     ]
    },
    {
     "name": "stdout",
     "output_type": "stream",
     "text": [
      "KnH5JVZirxyaQkpc5Hbk0RYioWJe_eqoPpYfwIJbuoCTT328tpRMuvaPcQ5CorYYWkQPaj7QgcLbFQ\n"
     ]
    },
    {
     "name": "stderr",
     "output_type": "stream",
     "text": [
      "  1%|▉                                                                               | 37/3118 [01:04<17:28,  2.94it/s]"
     ]
    },
    {
     "name": "stdout",
     "output_type": "stream",
     "text": [
      "zovxdldXt-pUpaxUzrOe7Ch5dk8muvlaB-5Wrms5XVuS15WffIMG9ATvFbBr6T4DpFFr53Ik3fnLIA\n"
     ]
    },
    {
     "name": "stderr",
     "output_type": "stream",
     "text": [
      "  1%|▉                                                                               | 38/3118 [01:04<15:51,  3.24it/s]"
     ]
    },
    {
     "name": "stdout",
     "output_type": "stream",
     "text": [
      "LlqOFYzIEvIa3PHhasBdKeKU7B0aRvaUmiUyIHmvEV_3OFm4s5JROl9uFqz7RwF2kzP7mPt0KHFt_A\n"
     ]
    },
    {
     "name": "stderr",
     "output_type": "stream",
     "text": [
      "  1%|█                                                                               | 39/3118 [01:04<14:58,  3.43it/s]"
     ]
    },
    {
     "name": "stdout",
     "output_type": "stream",
     "text": [
      "e4koCi7SSDFK341-VNkFzpGrDGWNjZ8lu-6Mu_UOtmDgBi4RZxYMc38SQGootxW3QNn6GyM-HJm6zw\n"
     ]
    },
    {
     "name": "stderr",
     "output_type": "stream",
     "text": [
      "  1%|█                                                                               | 40/3118 [01:05<16:37,  3.09it/s]"
     ]
    },
    {
     "name": "stdout",
     "output_type": "stream",
     "text": [
      "SzE5uTW5vLjpZPPdd2OqMlMqA8qBdssXYwzU9LI_Sm-J62siQofOhimqZesYg3M6Xa-Sq_wU13i6cw\n"
     ]
    },
    {
     "name": "stderr",
     "output_type": "stream",
     "text": [
      "  1%|█                                                                               | 41/3118 [01:05<16:53,  3.04it/s]"
     ]
    },
    {
     "name": "stdout",
     "output_type": "stream",
     "text": [
      "tW0duwI04j_2rb1FHn1dlxD0VtB8OcuGsWVnGJOm6v1KmzTIlk6N5qdGg6ui5KHPeZSEYo-hOJusbw\n"
     ]
    },
    {
     "name": "stderr",
     "output_type": "stream",
     "text": [
      "  1%|█                                                                               | 42/3118 [01:05<15:54,  3.22it/s]"
     ]
    },
    {
     "name": "stdout",
     "output_type": "stream",
     "text": [
      "oeRoy1GRJLHeu9_Yb43Nq-2KlXsl1sdn6ET3MTZ9Zjxv0wFpJiN0fE7txxKimkK5lWm-A4_1OzrKxQ\n"
     ]
    },
    {
     "name": "stderr",
     "output_type": "stream",
     "text": [
      "  1%|█                                                                               | 43/3118 [01:06<15:49,  3.24it/s]"
     ]
    },
    {
     "name": "stdout",
     "output_type": "stream",
     "text": [
      "3PtZ2OZkOCS7x_6P8jp9WR5HcFGtRkqzBOu6ws22Bldvh_I7jI6ohtWQZFdzUnkjDOoMoUTgl-c5Wg\n"
     ]
    },
    {
     "name": "stderr",
     "output_type": "stream",
     "text": [
      "  1%|█▏                                                                              | 44/3118 [01:06<14:57,  3.42it/s]"
     ]
    },
    {
     "name": "stdout",
     "output_type": "stream",
     "text": [
      "awsOUqlqr4X-bY8QvJRUn7AVo0qS2fxp42h6EzXsbbIQnmgQc15W1uWwzh073ABFdXG5CgLMjfPgrA\n"
     ]
    },
    {
     "name": "stderr",
     "output_type": "stream",
     "text": [
      "  1%|█▏                                                                              | 45/3118 [01:06<14:20,  3.57it/s]"
     ]
    },
    {
     "name": "stdout",
     "output_type": "stream",
     "text": [
      "X0cvhgQ224pg7M5ysWTuOxe-F33BnuBw_YxBAPL41-qXRG44WVoWIPJKPgGnkyfP0w3XEGunipURJQ\n"
     ]
    },
    {
     "name": "stderr",
     "output_type": "stream",
     "text": [
      "  1%|█▏                                                                              | 46/3118 [01:06<13:53,  3.69it/s]"
     ]
    },
    {
     "name": "stdout",
     "output_type": "stream",
     "text": [
      "mEtZD2AZQAem0qOZ1KmqTlzbp6ooqgp46j5cdFvIM-sghAXWdV8OfBdMVlc3sasoExBFlmptzzOnng\n"
     ]
    },
    {
     "name": "stderr",
     "output_type": "stream",
     "text": [
      "  2%|█▏                                                                              | 47/3118 [01:07<16:46,  3.05it/s]"
     ]
    },
    {
     "name": "stdout",
     "output_type": "stream",
     "text": [
      "XuA1h9UdibddOWh3HXpVNvLq5u_qA6boUh7keMJhOhkfD3rdID5DgfGx9rac5wLwaVoOyix4mzlPjA\n"
     ]
    },
    {
     "name": "stderr",
     "output_type": "stream",
     "text": [
      "  2%|█▏                                                                              | 48/3118 [01:07<17:49,  2.87it/s]"
     ]
    },
    {
     "name": "stdout",
     "output_type": "stream",
     "text": [
      "TlCYYi8NmBhQY-whqURneZcCryIloTQuzvVUO6YsxfRL-BC4lhd6XMZUCoD5CGpg4lZKePVYf6Saww\n"
     ]
    },
    {
     "name": "stderr",
     "output_type": "stream",
     "text": [
      "  2%|█▎                                                                              | 49/3118 [01:08<18:02,  2.83it/s]"
     ]
    },
    {
     "name": "stdout",
     "output_type": "stream",
     "text": [
      "ePBqgw3NhRxKS20maGUmJh3iOKuSJPRwFfBTTnN16GhFDqvJF6EQdpx9edMCKqCpWA25aK8VZ28hFw\n"
     ]
    },
    {
     "name": "stderr",
     "output_type": "stream",
     "text": [
      "  2%|█▎                                                                              | 50/3118 [01:08<23:15,  2.20it/s]"
     ]
    },
    {
     "name": "stdout",
     "output_type": "stream",
     "text": [
      "eT3qK-FdGIY7MZSHnSaLVtq48IYH8FqS3e-mCvx7-A8LXqlwvtATK5WCk0tIQvGyvbINJwcCbyR04w\n"
     ]
    },
    {
     "name": "stderr",
     "output_type": "stream",
     "text": [
      "  2%|█▎                                                                              | 51/3118 [01:09<21:07,  2.42it/s]"
     ]
    },
    {
     "name": "stdout",
     "output_type": "stream",
     "text": [
      "-N0rY1XEP9vmcPIa-4JzCu04PCGrnSM4eRtvdS-RBeYEd8e6EBUZs0wggI-chd_eqiOSNf5rVW2XDA\n"
     ]
    },
    {
     "name": "stderr",
     "output_type": "stream",
     "text": [
      "  2%|█▎                                                                              | 52/3118 [01:09<25:02,  2.04it/s]"
     ]
    },
    {
     "name": "stdout",
     "output_type": "stream",
     "text": [
      "BwNQMiE6JN0xQ53oKDABuw_7mY5PQIGLnyM8rq3hKkKQMPqKgr-weuF8V0zeE41Xfpl2oAE5z6xVyQ\n"
     ]
    },
    {
     "name": "stderr",
     "output_type": "stream",
     "text": [
      "  2%|█▎                                                                              | 53/3118 [01:10<21:42,  2.35it/s]"
     ]
    },
    {
     "name": "stdout",
     "output_type": "stream",
     "text": [
      "pNdy3dMJp8v-vwY-GE7JRN8YZv1E-xmqsBSdABynGuK5UZ3lrBDTZYc-VBAjkNUKdZgdNMIsXV3glQ\n"
     ]
    },
    {
     "name": "stderr",
     "output_type": "stream",
     "text": [
      "  2%|█▍                                                                              | 54/3118 [01:10<19:23,  2.63it/s]"
     ]
    },
    {
     "name": "stdout",
     "output_type": "stream",
     "text": [
      "0aViV6EZUd6ZTkVF96Gv_SPrkX4STy9uHXjH56uAPKwUfOrLuUoy6CYdhF_28fwtckZE3VqFy13CmQ\n"
     ]
    },
    {
     "name": "stderr",
     "output_type": "stream",
     "text": [
      "  2%|█▍                                                                              | 55/3118 [01:10<18:00,  2.83it/s]"
     ]
    },
    {
     "name": "stdout",
     "output_type": "stream",
     "text": [
      "pssyz3MkyDBwFawisES1jTse_MiifyyPWUF-XBdWj8wIX8yWemw1KLffyYdGuNwq9paqjhRmD0bFrg\n"
     ]
    },
    {
     "name": "stderr",
     "output_type": "stream",
     "text": [
      "  2%|█▍                                                                              | 56/3118 [01:10<16:59,  3.00it/s]"
     ]
    },
    {
     "name": "stdout",
     "output_type": "stream",
     "text": [
      "pjMDCRUpc2E3wtqYbU_38hr62YerLa6A3_JPhrbIUpZfRXbIpWX_to6jT-_EBb95OYdz9Oi4sWueLQ\n"
     ]
    },
    {
     "name": "stderr",
     "output_type": "stream",
     "text": [
      "  2%|█▍                                                                              | 57/3118 [01:11<16:07,  3.16it/s]"
     ]
    },
    {
     "name": "stdout",
     "output_type": "stream",
     "text": [
      "SMn6OXe1ryE_8GbM_U-PGZGygCKmx5Pvrpc8X8gHiw5_nhzndHyMZLxFdSR3Nwc6j9w_SdtgTs8A3w\n"
     ]
    },
    {
     "name": "stderr",
     "output_type": "stream",
     "text": [
      "  2%|█▍                                                                              | 58/3118 [01:11<15:54,  3.21it/s]"
     ]
    },
    {
     "name": "stdout",
     "output_type": "stream",
     "text": [
      "9ZLK81U4unrEP3E6k3RFV9x0FNkctFVMoWFy8pm69m7zTAIY7s90ARkee--ekergcmHIi1SOEohClA\n"
     ]
    },
    {
     "name": "stderr",
     "output_type": "stream",
     "text": [
      "  2%|█▌                                                                              | 59/3118 [01:11<15:17,  3.34it/s]"
     ]
    },
    {
     "name": "stdout",
     "output_type": "stream",
     "text": [
      "8uSwK5xysfr7UdfU7rYPA1SLpRTw52nGXI1chJ7pdzfZEsCcnNmRLiXI0qaTfXhGN4Vq9VnrEE_Xdw\n"
     ]
    },
    {
     "name": "stderr",
     "output_type": "stream",
     "text": [
      "  2%|█▌                                                                              | 60/3118 [01:11<14:54,  3.42it/s]"
     ]
    },
    {
     "name": "stdout",
     "output_type": "stream",
     "text": [
      "wIMXcQdW4goRw00KpJcT7uK-gBrpivuBG6M7PCXY8NmL9xK6ysidfHfJFaUV1X4DvqaewJr8h053CA\n"
     ]
    },
    {
     "name": "stderr",
     "output_type": "stream",
     "text": [
      "  2%|█▌                                                                              | 61/3118 [01:13<32:04,  1.59it/s]"
     ]
    },
    {
     "name": "stdout",
     "output_type": "stream",
     "text": [
      "y8RpEe_ealpt18Tnh7oKsY50jQKGKqDQiOTpPyeQvvu6WaPICeLu0FkflujPnWISpgVOTY1SmmgwZA\n"
     ]
    },
    {
     "name": "stderr",
     "output_type": "stream",
     "text": [
      "  2%|█▌                                                                              | 62/3118 [01:13<30:15,  1.68it/s]"
     ]
    },
    {
     "name": "stdout",
     "output_type": "stream",
     "text": [
      "l-6oP6PlvbmkNlRsdJjqi9xXBXNlAhPrXn90ZEBgEcm-JxNNKcYYHVqj5QqkgfXS35Joz57W9Si0yw\n"
     ]
    },
    {
     "name": "stderr",
     "output_type": "stream",
     "text": [
      "  2%|█▌                                                                              | 63/3118 [01:14<25:04,  2.03it/s]"
     ]
    },
    {
     "name": "stdout",
     "output_type": "stream",
     "text": [
      "MZ-bRrNQMiNmCiQmJvv1GC_y4YrzoFY94mB9AEjvrtTYXmeodAVQ94F9Dam2PpqO9_QGBOOug8L8UA\n"
     ]
    },
    {
     "name": "stderr",
     "output_type": "stream",
     "text": [
      "  2%|█▋                                                                              | 64/3118 [01:14<21:54,  2.32it/s]"
     ]
    },
    {
     "name": "stdout",
     "output_type": "stream",
     "text": [
      "NPwAO58b3ktIhPEpeVIQxF0U0pTMpsdxMNHNX9-ZMXEhzOA6u-P0c3ylJ-q3-neLs1vicSKBrE_4eA\n"
     ]
    },
    {
     "name": "stderr",
     "output_type": "stream",
     "text": [
      "  2%|█▋                                                                              | 65/3118 [01:14<19:17,  2.64it/s]"
     ]
    },
    {
     "name": "stdout",
     "output_type": "stream",
     "text": [
      "RAJTp51BHE1po93Jq8UWx5-GMAia5IG0d-WvNiEkfmU4z3cLG7UTINK6e_xR7RGMbbiHKJcdoDDpyA\n"
     ]
    },
    {
     "name": "stderr",
     "output_type": "stream",
     "text": [
      "  2%|█▋                                                                              | 66/3118 [01:15<21:55,  2.32it/s]"
     ]
    },
    {
     "name": "stdout",
     "output_type": "stream",
     "text": [
      "FN3A3CLvgE9IeiqnYJXwjF1KV9O_XN4gBdeC6R5UDTEgWWsqrO-gWnUPjWk-Chjl4jBYqmcaR-b50g\n"
     ]
    },
    {
     "name": "stderr",
     "output_type": "stream",
     "text": [
      "  2%|█▋                                                                              | 67/3118 [01:15<19:04,  2.67it/s]"
     ]
    },
    {
     "name": "stdout",
     "output_type": "stream",
     "text": [
      "UxjkadHQIuw_8kLhxOX-PGaVEvRReeZm32omhKoHEv3duFGuZo3MkJofvBmXSNAb-R9Mwv3rv5pv6Q\n"
     ]
    },
    {
     "name": "stderr",
     "output_type": "stream",
     "text": [
      "  2%|█▋                                                                              | 68/3118 [01:15<20:01,  2.54it/s]"
     ]
    },
    {
     "name": "stdout",
     "output_type": "stream",
     "text": [
      "ZV6uIgDpE6QNek1eijdrFjEMO_jpjiTiPnUP-N3f96dqDnIfHOv5DmvYb03xr7z9B8VKA7FND1OodA\n"
     ]
    },
    {
     "name": "stderr",
     "output_type": "stream",
     "text": [
      "  2%|█▊                                                                              | 69/3118 [01:16<20:32,  2.47it/s]"
     ]
    },
    {
     "name": "stdout",
     "output_type": "stream",
     "text": [
      "uYl5qYbkaZGpuL87u34gZ-DTCHRHfgpL98tPpJCEfn8T33OM6z1I1IyHlaT_AK6iAyN7m08kKWP0MA\n"
     ]
    },
    {
     "name": "stderr",
     "output_type": "stream",
     "text": [
      "  2%|█▊                                                                              | 70/3118 [01:16<19:57,  2.55it/s]"
     ]
    },
    {
     "name": "stdout",
     "output_type": "stream",
     "text": [
      "6Sne8nkYhKLCF_V_Cb-hAsB_pwVzZYt5TgJG2krZgLu2tAEOXy4UMVs79olAg-LdIFqPmkddSsrAYg\n"
     ]
    },
    {
     "name": "stderr",
     "output_type": "stream",
     "text": [
      "  2%|█▊                                                                              | 71/3118 [01:17<20:19,  2.50it/s]"
     ]
    },
    {
     "name": "stdout",
     "output_type": "stream",
     "text": [
      "nrUiSibC78JvEcS3iJ5-xFB6bY7MKil65O2Mg-cDS8UWuROQ_Xt4HsQLp1d7UX4C86fYijqFraSdWw\n"
     ]
    },
    {
     "name": "stderr",
     "output_type": "stream",
     "text": [
      "  2%|█▊                                                                              | 72/3118 [01:17<18:07,  2.80it/s]"
     ]
    },
    {
     "name": "stdout",
     "output_type": "stream",
     "text": [
      "Yvm7Xis908TY0Vg1SES2xf_H3gi_vOZtjnijNXKt-lj6Gnp1PDD95nVv8z255puB66VRvcB2ZCFTjw\n"
     ]
    },
    {
     "name": "stderr",
     "output_type": "stream",
     "text": [
      "  2%|█▊                                                                              | 73/3118 [01:17<18:22,  2.76it/s]"
     ]
    },
    {
     "name": "stdout",
     "output_type": "stream",
     "text": [
      "Hhck6MZZsyxnTb_ikmqUr5weUDPRzETjAT9gNq_NEodbINRAMub5Al3niQvRnr3CTb4RBq5GjTj3fQ\n"
     ]
    },
    {
     "name": "stderr",
     "output_type": "stream",
     "text": [
      "  2%|█▉                                                                              | 74/3118 [01:18<16:32,  3.07it/s]"
     ]
    },
    {
     "name": "stdout",
     "output_type": "stream",
     "text": [
      "KkYPM9DVpAdKIsX9UlTF90VMn9qasKFfT3Ty-U1NUjcjWSF1-O6ksf2IGQpW7EQIcJXSoLV4j_z_lA\n"
     ]
    },
    {
     "name": "stderr",
     "output_type": "stream",
     "text": [
      "  2%|█▉                                                                              | 75/3118 [01:18<15:19,  3.31it/s]"
     ]
    },
    {
     "name": "stdout",
     "output_type": "stream",
     "text": [
      "WAk7Y1j3ACjA1CYTOAIEGiHpPa3bXAKxCqMolc26sfpw84FKkYG987qdlKkrF-Vg3mjzexuZQJXO_Q\n"
     ]
    },
    {
     "name": "stderr",
     "output_type": "stream",
     "text": [
      "  2%|█▉                                                                              | 76/3118 [01:18<16:12,  3.13it/s]"
     ]
    },
    {
     "name": "stdout",
     "output_type": "stream",
     "text": [
      "dUQQzyMcoNWyRgBPv-T1mlGjcIfRa0QbUySpYVDTCUbfzw0qtutJg_tStwOyaMdteX2-GIHFwcGqNA\n"
     ]
    },
    {
     "name": "stderr",
     "output_type": "stream",
     "text": [
      "  2%|█▉                                                                              | 77/3118 [01:18<15:44,  3.22it/s]"
     ]
    },
    {
     "name": "stdout",
     "output_type": "stream",
     "text": [
      "DzH217znw7N-u9t_XfDV49JhXZEV8WwzfT4lJYvt9-j1dJPQzv8OSh2cxXI6-GdqdKOyPgehruy5eg\n"
     ]
    },
    {
     "name": "stderr",
     "output_type": "stream",
     "text": [
      "  3%|██                                                                              | 78/3118 [01:19<14:58,  3.38it/s]"
     ]
    },
    {
     "name": "stdout",
     "output_type": "stream",
     "text": [
      "hDJ0wJRVbTvVqMxR3Wp2B3eeq_OKBobwxXNSDG-3RSUEkebXC94mg8jypwqY3E-PIBiE5Xc4EV5qcg\n"
     ]
    },
    {
     "name": "stderr",
     "output_type": "stream",
     "text": [
      "  3%|██                                                                              | 79/3118 [01:19<16:59,  2.98it/s]"
     ]
    },
    {
     "name": "stdout",
     "output_type": "stream",
     "text": [
      "PNGe-H3Msl1_4ABPmNfEUpyA2pzi4M1bRLqfm1mnzmJPDUyslYEbCz74eHB8yaYHxEaFEE_5TTZAfA\n"
     ]
    },
    {
     "name": "stderr",
     "output_type": "stream",
     "text": [
      "  3%|██                                                                              | 80/3118 [01:19<15:46,  3.21it/s]"
     ]
    },
    {
     "name": "stdout",
     "output_type": "stream",
     "text": [
      "2w6htGQWRe24pXbtgdqGdfSnauo2L31EeB8DZ3-SdSAs4OyXmrkVzqDRw4lIqyeqpnccRv7QYrdPeQ\n"
     ]
    },
    {
     "name": "stderr",
     "output_type": "stream",
     "text": [
      "  3%|██                                                                              | 81/3118 [01:20<18:00,  2.81it/s]"
     ]
    },
    {
     "name": "stdout",
     "output_type": "stream",
     "text": [
      "4O8yROwSr1vcDJuLJSj1YBIM3x5uBTqQRxYsTg6BTymqyhA08TGapnBOv6n7ey3WLd4CF-ahStE6ew\n"
     ]
    },
    {
     "name": "stderr",
     "output_type": "stream",
     "text": [
      "  3%|██                                                                              | 82/3118 [01:20<16:19,  3.10it/s]"
     ]
    },
    {
     "name": "stdout",
     "output_type": "stream",
     "text": [
      "g2RKTQF_fum23-Q8Au53h1R3xZtqUO-oKDqsRIUJHIV4xT6qFyr2CcOMcJ9OJxAdookgmvO_XLay0Q\n"
     ]
    },
    {
     "name": "stderr",
     "output_type": "stream",
     "text": [
      "  3%|██▏                                                                             | 83/3118 [01:20<15:44,  3.21it/s]"
     ]
    },
    {
     "name": "stdout",
     "output_type": "stream",
     "text": [
      "eGwVNGe1xy69YWhUHID8maKhcLMtaF1l6Mdd4CthiI5H1HNL95JPrWvwYo-uMXv0OgGX2cPlsrkRrg\n"
     ]
    },
    {
     "name": "stderr",
     "output_type": "stream",
     "text": [
      "  3%|██▏                                                                             | 84/3118 [01:21<15:44,  3.21it/s]"
     ]
    },
    {
     "name": "stdout",
     "output_type": "stream",
     "text": [
      "IckowDzwx5ER8d-AUs9oSO8xApSmU3xB7sfaSjW8w_dBeGzVkQwYYz7Qg9bD8wJvUaX38AjoUQ2o7g\n"
     ]
    },
    {
     "name": "stderr",
     "output_type": "stream",
     "text": [
      "  3%|██▏                                                                             | 85/3118 [01:21<15:05,  3.35it/s]"
     ]
    },
    {
     "name": "stdout",
     "output_type": "stream",
     "text": [
      "ikTnGmim2vEu56xIxz5Xj0szydR8FZrNXQ12gDAPnK-teD_eXZf4Oq7tqEftFdycFRubrtcmmH0m9A\n"
     ]
    },
    {
     "name": "stderr",
     "output_type": "stream",
     "text": [
      "  3%|██▏                                                                             | 86/3118 [01:22<19:23,  2.61it/s]"
     ]
    },
    {
     "name": "stdout",
     "output_type": "stream",
     "text": [
      "wY4xxTFd_KgjrDjJy6EUQwt4DG0ybB_reQnYP2X-pXnKyAYpuEMosDHBC1D0kIIxnbjEwnEBJaI0Zg\n"
     ]
    },
    {
     "name": "stderr",
     "output_type": "stream",
     "text": [
      "  3%|██▏                                                                             | 87/3118 [01:22<17:17,  2.92it/s]"
     ]
    },
    {
     "name": "stdout",
     "output_type": "stream",
     "text": [
      "gazXE8HPO22bsK6DTysfQKhBJVxNbL66H4sDtsQyw0fz9vQ6ywvtWgndZTRX_qDY2nAWOr8fGY-DLg\n"
     ]
    },
    {
     "name": "stderr",
     "output_type": "stream",
     "text": [
      "  3%|██▎                                                                             | 88/3118 [01:22<15:57,  3.16it/s]"
     ]
    },
    {
     "name": "stdout",
     "output_type": "stream",
     "text": [
      "okO0Nvyu3AX_kOfyU5pD8jvUQqZdbfGFOOP15Qn6L7m2Ov9QnMuHD22oojdtj5PnBQwIClBRoa1L1w\n"
     ]
    },
    {
     "name": "stderr",
     "output_type": "stream",
     "text": [
      "  3%|██▎                                                                             | 89/3118 [01:22<15:04,  3.35it/s]"
     ]
    },
    {
     "name": "stdout",
     "output_type": "stream",
     "text": [
      "U6_e0EtvWVLpRuOpUxMyVE7E9pInRWZjeZ0PdNkIwwd_jdRxeif3CjiKNWfTiY2TpEtMFk9Nv8RRXw\n"
     ]
    },
    {
     "name": "stderr",
     "output_type": "stream",
     "text": [
      "  3%|██▎                                                                             | 90/3118 [01:23<14:18,  3.53it/s]"
     ]
    },
    {
     "name": "stdout",
     "output_type": "stream",
     "text": [
      "9Q8QzmxT-cAY5mYUWC__4Djr_KBd6sagcoyvcH4IX_TEH8yZcyVcY9TedfqqfDxaDK6C43JNchiLkA\n"
     ]
    },
    {
     "name": "stderr",
     "output_type": "stream",
     "text": [
      "  3%|██▎                                                                             | 91/3118 [01:23<13:45,  3.67it/s]"
     ]
    },
    {
     "name": "stdout",
     "output_type": "stream",
     "text": [
      "TNI_0eW2s-X3O73_wkYUcTPKGCUt6guWkp7HjNubsTNvMiGsL5kyl7YvZrkGWbnYV7RIp2u-1wzxvA\n"
     ]
    },
    {
     "name": "stderr",
     "output_type": "stream",
     "text": [
      "  3%|██▎                                                                             | 92/3118 [01:23<13:53,  3.63it/s]"
     ]
    },
    {
     "name": "stdout",
     "output_type": "stream",
     "text": [
      "2brBKENIutUqrIIh6-k-D3k48pBTKc64I4nUkub5tVOyMHhmrPqndqfq_ro6Ok-HbjyxQxocHbLf1Q\n"
     ]
    },
    {
     "name": "stderr",
     "output_type": "stream",
     "text": [
      "  3%|██▍                                                                             | 93/3118 [01:23<13:28,  3.74it/s]"
     ]
    },
    {
     "name": "stdout",
     "output_type": "stream",
     "text": [
      "5eCF6zn-OlF33BVYTihEgGaopcIo1U-Fp6OdW8lh9AWxl2btkisAcMrAOII2m6oezLw_fgpo_-wSsQ\n"
     ]
    },
    {
     "name": "stderr",
     "output_type": "stream",
     "text": [
      "  3%|██▍                                                                             | 94/3118 [01:24<13:13,  3.81it/s]"
     ]
    },
    {
     "name": "stdout",
     "output_type": "stream",
     "text": [
      "PFNNaBWn04UascIetNEgHs3QlboNZjPFEdDdA4dqUbyio9oxt5ZmKTJDnCqWngt1NdODG3XM5BZmQg\n"
     ]
    },
    {
     "name": "stderr",
     "output_type": "stream",
     "text": [
      "  3%|██▍                                                                             | 95/3118 [01:24<14:29,  3.48it/s]"
     ]
    },
    {
     "name": "stdout",
     "output_type": "stream",
     "text": [
      "6JMCbUSqA5SM_6VAER2sp7BIkfu-QXTiKSNfkytsCz1JFJJFJCEYPCrPDJK_H7S5R61KPTYO3mf0Aw\n"
     ]
    },
    {
     "name": "stderr",
     "output_type": "stream",
     "text": [
      "  3%|██▍                                                                             | 96/3118 [01:24<15:38,  3.22it/s]"
     ]
    },
    {
     "name": "stdout",
     "output_type": "stream",
     "text": [
      "7x8x6J0_OUEe6zgxRoTz1-oy0RpYT5HcH-9M-Z04HUQBKfgP4mvZtNvUUwpdQLCfZ8SrlhtHKyYXKQ\n"
     ]
    },
    {
     "name": "stderr",
     "output_type": "stream",
     "text": [
      "  3%|██▍                                                                             | 97/3118 [01:25<19:42,  2.56it/s]"
     ]
    },
    {
     "name": "stdout",
     "output_type": "stream",
     "text": [
      "dWw515kyruB2zJbqg6DtbddCxVPRv1F57vyJxievdMDBHQCz1S9efqtGP9U7G5PyRdnInjHvE8YNKw\n"
     ]
    },
    {
     "name": "stderr",
     "output_type": "stream",
     "text": [
      "  3%|██▌                                                                             | 98/3118 [01:25<17:53,  2.81it/s]"
     ]
    },
    {
     "name": "stdout",
     "output_type": "stream",
     "text": [
      "9DlRX4qLtYpK7T15A5-qx-YrjaohTBvLO5mTrJ_AZ76IjAz-9OH2BAtAc_wuBBsw1M5OKtW8m_xNgw\n"
     ]
    },
    {
     "name": "stderr",
     "output_type": "stream",
     "text": [
      "  3%|██▌                                                                             | 99/3118 [01:25<18:01,  2.79it/s]"
     ]
    },
    {
     "name": "stdout",
     "output_type": "stream",
     "text": [
      "e5wTeLFHhPWdsYJrDj7L_IfsldAjrDsQONXb2DP_ckXi8H_ulCPmmFtHtTQ-d9mlFGa7SHC9GXrf5w\n"
     ]
    },
    {
     "name": "stderr",
     "output_type": "stream",
     "text": [
      "  3%|██▌                                                                            | 100/3118 [01:26<16:26,  3.06it/s]"
     ]
    },
    {
     "name": "stdout",
     "output_type": "stream",
     "text": [
      "f5EOspbjctF2iRKmg_E-1llK2wR8VlGx8G1NInzh8AU-iuw_-7zAR9vDpDgatQjCOA6LavlxggcEhA\n"
     ]
    },
    {
     "name": "stderr",
     "output_type": "stream",
     "text": [
      "  3%|██▌                                                                            | 101/3118 [01:26<17:25,  2.88it/s]"
     ]
    },
    {
     "name": "stdout",
     "output_type": "stream",
     "text": [
      "x82-CCEVkImqoU5Zhri8gyj_sCDZ_NjSI4UAsVNICh_bBSBatqUQlWx9cJd1kJPrrgJ7p2zNMgdPQQ\n"
     ]
    },
    {
     "name": "stderr",
     "output_type": "stream",
     "text": [
      "  3%|██▌                                                                            | 102/3118 [01:27<21:35,  2.33it/s]"
     ]
    },
    {
     "name": "stdout",
     "output_type": "stream",
     "text": [
      "FEozdl7xzBETz3kTrsxhIwUv4bdV2myo8kFb1DBY3XkJsqNWwFRFQvF_1AxGjNiGuSVZt0jY-V7dWw\n"
     ]
    },
    {
     "name": "stderr",
     "output_type": "stream",
     "text": [
      "  3%|██▌                                                                            | 103/3118 [01:27<21:01,  2.39it/s]"
     ]
    },
    {
     "name": "stdout",
     "output_type": "stream",
     "text": [
      "Q8bIfhi5uhddYw8fmZHu4TleiojYNzt1OxhcUJHCq2qea8vUzWnXcAEPr03GLkcDe3ZuMxD13VV2dw\n"
     ]
    },
    {
     "name": "stderr",
     "output_type": "stream",
     "text": [
      "  3%|██▋                                                                            | 104/3118 [01:27<19:04,  2.63it/s]"
     ]
    },
    {
     "name": "stdout",
     "output_type": "stream",
     "text": [
      "HwRJtgsQ9n1iZBTS81LJEnccBhu-BIqx115YvCfHNWOg7qTGyLGJvWgIJySyR5yx_0dRunaS6TJvhA\n"
     ]
    },
    {
     "name": "stderr",
     "output_type": "stream",
     "text": [
      "  3%|██▋                                                                            | 105/3118 [01:28<17:52,  2.81it/s]"
     ]
    },
    {
     "name": "stdout",
     "output_type": "stream",
     "text": [
      "dayfwZ13FzB04UWc_bQsJIW_DmUNPI0FR9SzEse0Ay-n_tY9napMukMUg4DMU4IGDhcS06nKpDyDgg\n"
     ]
    },
    {
     "name": "stderr",
     "output_type": "stream",
     "text": [
      "  3%|██▋                                                                            | 106/3118 [01:28<22:40,  2.21it/s]"
     ]
    },
    {
     "name": "stdout",
     "output_type": "stream",
     "text": [
      "u177FIdK455iaAUTqCMF41-0bow-0Js9zDj-3M0UP2TBfRQA6OUm6p2AwMJcBave5mJowkUGiAf-9w\n"
     ]
    },
    {
     "name": "stderr",
     "output_type": "stream",
     "text": [
      "  3%|██▋                                                                            | 107/3118 [01:29<21:11,  2.37it/s]"
     ]
    },
    {
     "name": "stdout",
     "output_type": "stream",
     "text": [
      "w_P_Hixm8OJDl9z9ZzQgYp8yCttqXsarczcL3X4bnFvZttIiNbTHEDlP92OJRYkZY5Cxd1iC0as0oQ\n"
     ]
    },
    {
     "name": "stderr",
     "output_type": "stream",
     "text": [
      "  3%|██▋                                                                            | 108/3118 [01:29<18:31,  2.71it/s]"
     ]
    },
    {
     "name": "stdout",
     "output_type": "stream",
     "text": [
      "Uw5bwrTrYi6nfqqhuoUoAjTYkrRDd3CzGs1HQRiEByo65DdKsGd8MV_qJmXW4cET6oI38s2uAJMh2A\n"
     ]
    },
    {
     "name": "stderr",
     "output_type": "stream",
     "text": [
      "  3%|██▊                                                                            | 109/3118 [01:29<17:14,  2.91it/s]"
     ]
    },
    {
     "name": "stdout",
     "output_type": "stream",
     "text": [
      "cJOgwUy_MSulNnSiXnEGBJxL1FPJ6llB8gf7KdZhRd60l_61tlr2R1zS87U62It6PL8rlSi6CZwCPw\n"
     ]
    },
    {
     "name": "stderr",
     "output_type": "stream",
     "text": [
      "  4%|██▊                                                                            | 110/3118 [01:30<16:33,  3.03it/s]"
     ]
    },
    {
     "name": "stdout",
     "output_type": "stream",
     "text": [
      "XT8HMrJ0um0ogufma3UTc81vYk8GTXXU6wlUgmX7R1KX1OsJdcIj3ke37vzl-OVMn4P-XJOXp6UoqQ\n"
     ]
    },
    {
     "name": "stderr",
     "output_type": "stream",
     "text": [
      "  4%|██▊                                                                            | 111/3118 [01:30<18:15,  2.74it/s]"
     ]
    },
    {
     "name": "stdout",
     "output_type": "stream",
     "text": [
      "L3WsPBTcxQdQ2v82QbYxGiNdmJHGRmuHxQB-5yAPOyOPrBLY_tpLslcMWMwaN5xL9yLSEhOeyOUzrQ\n"
     ]
    },
    {
     "name": "stderr",
     "output_type": "stream",
     "text": [
      "  4%|██▊                                                                            | 112/3118 [01:30<16:39,  3.01it/s]"
     ]
    },
    {
     "name": "stdout",
     "output_type": "stream",
     "text": [
      "UedngSZsZPhEjLZAUdgSZW56en6ja3DF0yEtxM6HRhCoFlZ4B0z3T402fRhTlr2yskOYf86ckUM2pg\n",
      "api cost full : infinite loop start\n",
      "loop location :  yHe14bz0wXcpuT5zovkN-cMw0Rzkdby_hicpZDxp2pvWi-OeluwIIOAGaQ\n",
      "try 10 second wait time\n",
      "429\n",
      "try 10 second wait time\n",
      "429\n",
      "try 10 second wait time\n",
      "429\n",
      "try 10 second wait time\n",
      "429\n",
      "try 10 second wait time\n",
      "429\n",
      "try 10 second wait time\n",
      "429\n",
      "try 10 second wait time\n",
      "429\n",
      "try 10 second wait time\n",
      "429\n",
      "try 10 second wait time\n"
     ]
    },
    {
     "name": "stderr",
     "output_type": "stream",
     "text": [
      "  4%|██▊                                                                         | 113/3118 [03:03<23:27:45, 28.11s/it]"
     ]
    },
    {
     "name": "stdout",
     "output_type": "stream",
     "text": [
      "200\n",
      "total wait time :  92.70319938659668\n",
      "recovery api cost\n",
      "LHf1ziZ-gSvohW6k3s5XdVo5W4f57tOi8VZHvxQudGMqt7oPWc3Zz8Lq8zDTscZPkO9BL9qIkSpjPA\n"
     ]
    },
    {
     "name": "stderr",
     "output_type": "stream",
     "text": [
      "  4%|██▊                                                                         | 114/3118 [03:04<16:30:27, 19.78s/it]"
     ]
    },
    {
     "name": "stdout",
     "output_type": "stream",
     "text": [
      "JPadPNPqExWJFylrbT8tzV1iCvSV-KmAV1ijANZJiDthYU3BKGrBAG2tpOMkXVRQqaavYftd5lGT2A\n"
     ]
    },
    {
     "name": "stderr",
     "output_type": "stream",
     "text": [
      "  4%|██▊                                                                         | 115/3118 [03:04<11:36:53, 13.92s/it]"
     ]
    },
    {
     "name": "stdout",
     "output_type": "stream",
     "text": [
      "WufJJy6bDjTuvwvWse9B4b82qS3qYBaUvG8JsV1lAS0dI258DlaG3eNe2ugJBPabaGKrLdxeZu2hCQ\n"
     ]
    },
    {
     "name": "stderr",
     "output_type": "stream",
     "text": [
      "  4%|██▊                                                                          | 116/3118 [03:04<8:14:57,  9.89s/it]"
     ]
    },
    {
     "name": "stdout",
     "output_type": "stream",
     "text": [
      "9MNehNMhKBrrQsnVuz2XnSfm4nXMqK4FSLv0Mj7tKFCS5Mw3KpUOLgpX4FxIccHlXUdz8NiFiqkqXw\n"
     ]
    },
    {
     "name": "stderr",
     "output_type": "stream",
     "text": [
      "  4%|██▉                                                                          | 117/3118 [03:05<5:50:06,  7.00s/it]"
     ]
    },
    {
     "name": "stdout",
     "output_type": "stream",
     "text": [
      "GINeXHr0T_opfrWSrz7P0LyQTfwzF1VQ9T6Q3oWWXFlpQSspRXm823J20QmY6ZW1VVlb57xg1ltNvw\n"
     ]
    },
    {
     "name": "stderr",
     "output_type": "stream",
     "text": [
      "  4%|██▉                                                                          | 118/3118 [03:05<4:09:04,  4.98s/it]"
     ]
    },
    {
     "name": "stdout",
     "output_type": "stream",
     "text": [
      "NIae-CTjf6YTV6q5ezFboA9inmZM_jKUB-nYWmN17846cDdZWnwyPPxBMX-Uz19BgFEz6xen2Cl6KA\n"
     ]
    },
    {
     "name": "stderr",
     "output_type": "stream",
     "text": [
      "  4%|██▉                                                                          | 119/3118 [03:05<2:58:55,  3.58s/it]"
     ]
    },
    {
     "name": "stdout",
     "output_type": "stream",
     "text": [
      "PjYejyxkmeySChhUEaxOkzqoEVH5f3AcjDfZGvIOW_hQqep2FSi94MbFEyeiYgqBOMexRVn99CXTQg\n"
     ]
    },
    {
     "name": "stderr",
     "output_type": "stream",
     "text": [
      "  4%|██▉                                                                          | 120/3118 [03:06<2:10:50,  2.62s/it]"
     ]
    },
    {
     "name": "stdout",
     "output_type": "stream",
     "text": [
      "PqbcE0EpdhJI0kIF2qtLNnbzd8FEjZuT8x0hHvVhMAcyZ85o26BSyx_3T1bTKmafRpG0MicIcQLmHg\n"
     ]
    },
    {
     "name": "stderr",
     "output_type": "stream",
     "text": [
      "  4%|██▉                                                                          | 121/3118 [03:06<1:35:26,  1.91s/it]"
     ]
    },
    {
     "name": "stdout",
     "output_type": "stream",
     "text": [
      "fMzrN0XHxLQ7CdD-BsNzpAkqib1Eup0taSJO55oXtNM3vDoR6HiXxB5HX8KXcH6lm1QMv7slhfxfQg\n"
     ]
    },
    {
     "name": "stderr",
     "output_type": "stream",
     "text": [
      "  4%|███                                                                          | 122/3118 [03:06<1:15:05,  1.50s/it]"
     ]
    },
    {
     "name": "stdout",
     "output_type": "stream",
     "text": [
      "FtiyOdSuCBON7C7D9gjfV2uKB3CtUErnqbB5OKOIQ5dn7AqxiWbHyWhL-6GSMtcaU-RfNDyhAo4eGg\n"
     ]
    },
    {
     "name": "stderr",
     "output_type": "stream",
     "text": [
      "  4%|███                                                                            | 123/3118 [03:07<58:17,  1.17s/it]"
     ]
    },
    {
     "name": "stdout",
     "output_type": "stream",
     "text": [
      "9f59seSnH5uO_rwk90YND2CuJqP1efFOenoFgINbleEtErJek2JEqN7OYQwRHN6iHDJsxyJE9OmQmg\n"
     ]
    },
    {
     "name": "stderr",
     "output_type": "stream",
     "text": [
      "  4%|███▏                                                                           | 124/3118 [03:07<45:05,  1.11it/s]"
     ]
    },
    {
     "name": "stdout",
     "output_type": "stream",
     "text": [
      "3lVHe8hvqgJQIaipU3LBKd9CBiUxAc6PqBH0C2LdCluNe92r6Svu1uSNFYhf3PFgaJmlg6ZuEaalxg\n"
     ]
    },
    {
     "name": "stderr",
     "output_type": "stream",
     "text": [
      "  4%|███▏                                                                           | 125/3118 [03:07<36:32,  1.37it/s]"
     ]
    },
    {
     "name": "stdout",
     "output_type": "stream",
     "text": [
      "TuiPPeVQTp_gfOBWe3uA6JCYW5nsl1h1KcXJuS8fZ1aAYSYtfSRmzoQNT4qdxmZ5apXdGJbNkNj8Ig\n"
     ]
    },
    {
     "name": "stderr",
     "output_type": "stream",
     "text": [
      "  4%|███▏                                                                           | 126/3118 [03:08<29:41,  1.68it/s]"
     ]
    },
    {
     "name": "stdout",
     "output_type": "stream",
     "text": [
      "BNA0o_05o2rW649uXrln3QnTRdzukEDTd_O_q98PkFFp0BPpHnlBARXi5EI_6PIPav6-2inAH4fkXw\n"
     ]
    },
    {
     "name": "stderr",
     "output_type": "stream",
     "text": [
      "  4%|███▏                                                                           | 127/3118 [03:08<25:05,  1.99it/s]"
     ]
    },
    {
     "name": "stdout",
     "output_type": "stream",
     "text": [
      "AFgMJRbi35TvKikZiHPHy_gCeW9UmahIvmAfsHiGeS3UayhLvGAWb8olah_mzPoYpQf_H1qao2O_sg\n"
     ]
    },
    {
     "name": "stderr",
     "output_type": "stream",
     "text": [
      "  4%|███▏                                                                           | 128/3118 [03:08<21:07,  2.36it/s]"
     ]
    },
    {
     "name": "stdout",
     "output_type": "stream",
     "text": [
      "0MoX0ge6cYIFepApp9ARgmC8L8tUb-M-oZuYi8r7O6-Dld-EquDQczaSvX42TXXAUNqNC7CkTZ0UlQ\n"
     ]
    },
    {
     "name": "stderr",
     "output_type": "stream",
     "text": [
      "  4%|███▎                                                                           | 129/3118 [03:09<24:05,  2.07it/s]"
     ]
    },
    {
     "name": "stdout",
     "output_type": "stream",
     "text": [
      "8t7O_LKyuy0tYNbKmNVlKgJsF9INiEbiUjHmFLwYvd8QhPNAVKri1ditKEsIgOz7IIy1rexTTtuapQ\n"
     ]
    },
    {
     "name": "stderr",
     "output_type": "stream",
     "text": [
      "  4%|███▎                                                                           | 130/3118 [03:09<23:54,  2.08it/s]"
     ]
    },
    {
     "name": "stdout",
     "output_type": "stream",
     "text": [
      "WGdjqNwSPFOLIoevRYE1Y7hvrDYdR7zGVqIWRxiknxhG_xuWcarKSqSSka-mSDoSul1Lf96_PGs5ZA\n"
     ]
    },
    {
     "name": "stderr",
     "output_type": "stream",
     "text": [
      "  4%|███▎                                                                           | 131/3118 [03:10<21:09,  2.35it/s]"
     ]
    },
    {
     "name": "stdout",
     "output_type": "stream",
     "text": [
      "Y4vCKLg3ofHV5fGlE4VFxN9Nq30ayi4Sh1g0W5xazgD-C3Le6svlcdKWczMciRVlb9HLyKkDO_713Q\n"
     ]
    },
    {
     "name": "stderr",
     "output_type": "stream",
     "text": [
      "  4%|███▎                                                                           | 132/3118 [03:10<19:19,  2.58it/s]"
     ]
    },
    {
     "name": "stdout",
     "output_type": "stream",
     "text": [
      "LcozeTeJcYNknl-ipJMy8lLZfD3-VghKUoiBsY9bIDwQ3uVZ4YiBhm1e5X4QVoXQq-XJlTjfW9okhQ\n"
     ]
    },
    {
     "name": "stderr",
     "output_type": "stream",
     "text": [
      "  4%|███▎                                                                           | 133/3118 [03:10<17:15,  2.88it/s]"
     ]
    },
    {
     "name": "stdout",
     "output_type": "stream",
     "text": [
      "Gc7ZUiezq5bq8XN8b9_LQlgWXy0B4shkLhiEIFIJ1ZNjzJVAorcsIC8qYDYgdBbeCLCce4WgsrtQEQ\n"
     ]
    },
    {
     "name": "stderr",
     "output_type": "stream",
     "text": [
      "  4%|███▍                                                                           | 134/3118 [03:10<16:02,  3.10it/s]"
     ]
    },
    {
     "name": "stdout",
     "output_type": "stream",
     "text": [
      "rPiZZuIilxuwq7z7gsnVGqKsFNzGgHrcrlXxalFVGyo32MSh5h_H8SvJMUgmiQnFALiBWWyQ5yzchw\n"
     ]
    },
    {
     "name": "stderr",
     "output_type": "stream",
     "text": [
      "  4%|███▍                                                                           | 135/3118 [03:11<14:57,  3.32it/s]"
     ]
    },
    {
     "name": "stdout",
     "output_type": "stream",
     "text": [
      "uKXZ_QcHA0T3cfvSOb0H9ZkRq-Oz_NTUUSRqkxqKFSDTaXCCQQkIMstmS2bWoI9EFZIM376eIZ9OnQ\n"
     ]
    },
    {
     "name": "stderr",
     "output_type": "stream",
     "text": [
      "  4%|███▍                                                                           | 136/3118 [03:11<14:19,  3.47it/s]"
     ]
    },
    {
     "name": "stdout",
     "output_type": "stream",
     "text": [
      "qdkgcqsfg3GLEPLuTe2Gmnk6jJtPXXfXUUV8fT7mYKEmVWorYEFYSwjidXNxIgIuYe9yJzYIKSy_iw\n"
     ]
    },
    {
     "name": "stderr",
     "output_type": "stream",
     "text": [
      "  4%|███▍                                                                           | 137/3118 [03:11<14:13,  3.49it/s]"
     ]
    },
    {
     "name": "stdout",
     "output_type": "stream",
     "text": [
      "dbR3_8aDcwe_xfp4LoOcVqJL8LB1i8pNUY5MWMSWujTbKZGPsOzCnu9XbHUZ_fUrwn5gZB7aywTNnw\n"
     ]
    },
    {
     "name": "stderr",
     "output_type": "stream",
     "text": [
      "  4%|███▍                                                                           | 138/3118 [03:11<14:34,  3.41it/s]"
     ]
    },
    {
     "name": "stdout",
     "output_type": "stream",
     "text": [
      "qQTrX-g_SUwDhlPYEuiYiXVZv7FihDx7R5q_1H1uOzghcPDXGKM8-bKEeNF1r4X8V6ESpTL8IROW7w\n"
     ]
    },
    {
     "name": "stderr",
     "output_type": "stream",
     "text": [
      "  4%|███▌                                                                           | 139/3118 [03:12<14:31,  3.42it/s]"
     ]
    },
    {
     "name": "stdout",
     "output_type": "stream",
     "text": [
      "Rbl1laalx3n4ePm6SFTlbVylpZCV4h9oDV4g3RjLLzLiHrRnIq3FrLn6njUCF9RP3Vo7z91SsrjPNA\n"
     ]
    },
    {
     "name": "stderr",
     "output_type": "stream",
     "text": [
      "  4%|███▌                                                                           | 140/3118 [03:12<17:00,  2.92it/s]"
     ]
    },
    {
     "name": "stdout",
     "output_type": "stream",
     "text": [
      "ONCqZrYHPMqVHIUPrcck1WbcGQmrUFWZ8IpiECmrIC9hytKOUQnbBMuYWMr78MOM8Q92xCWQL-_JVQ\n"
     ]
    },
    {
     "name": "stderr",
     "output_type": "stream",
     "text": [
      "  5%|███▌                                                                           | 141/3118 [03:12<16:00,  3.10it/s]"
     ]
    },
    {
     "name": "stdout",
     "output_type": "stream",
     "text": [
      "86jJfjgqWhi-mQVHeKqMO72rHSINvbb78N_vHNaeOsjHCRUHHxjuTnZU_OYzppsBEtYb1koefentrw\n"
     ]
    },
    {
     "name": "stderr",
     "output_type": "stream",
     "text": [
      "  5%|███▌                                                                           | 142/3118 [03:13<15:15,  3.25it/s]"
     ]
    },
    {
     "name": "stdout",
     "output_type": "stream",
     "text": [
      "L8UA04uAgWVTJKB3WRTBQ0KyW2syKfjGPuSTlzuD1bDu0IIvI6FA9qFwLZ63beWmQTitsku7EisL8Q\n"
     ]
    },
    {
     "name": "stderr",
     "output_type": "stream",
     "text": [
      "  5%|███▌                                                                           | 143/3118 [03:13<14:28,  3.42it/s]"
     ]
    },
    {
     "name": "stdout",
     "output_type": "stream",
     "text": [
      "ABeF-4upR0BDn2xXUFgXdkZgWxVuPjeBEgKpjO3Fh0OgEs-AoSqr7WzFdXOSa-MV10YUGexCkTxDTQ\n"
     ]
    },
    {
     "name": "stderr",
     "output_type": "stream",
     "text": [
      "  5%|███▋                                                                           | 144/3118 [03:13<13:57,  3.55it/s]"
     ]
    },
    {
     "name": "stdout",
     "output_type": "stream",
     "text": [
      "CGP-_AZWGZsrrh_QacblwdQ83i7d9iNnGYrPbuck9LuHiMRApRq-A8UN7eWoUrlLEOSR9WKuv_12QA\n"
     ]
    },
    {
     "name": "stderr",
     "output_type": "stream",
     "text": [
      "  5%|███▋                                                                           | 145/3118 [03:14<13:42,  3.62it/s]"
     ]
    },
    {
     "name": "stdout",
     "output_type": "stream",
     "text": [
      "DvjZxD7N0P-vKcDQeeKt76Mt0scms4QG2k0sUfP-k1WIZF6nL4n3Ms15yFMZh10eh0RhK0dRCQLwjQ\n"
     ]
    },
    {
     "name": "stderr",
     "output_type": "stream",
     "text": [
      "  5%|███▋                                                                           | 146/3118 [03:14<13:32,  3.66it/s]"
     ]
    },
    {
     "name": "stdout",
     "output_type": "stream",
     "text": [
      "A3UZesCdNjCk8yGsjMrUj5EdWJMvLWnee_bbBQCiH0oghUDQix3GOiQIE4vE2fMMWGS9GqZp7NhH8g\n"
     ]
    },
    {
     "name": "stderr",
     "output_type": "stream",
     "text": [
      "  5%|███▋                                                                           | 147/3118 [03:14<15:09,  3.26it/s]"
     ]
    },
    {
     "name": "stdout",
     "output_type": "stream",
     "text": [
      "FL9LUgG-w1XNzYgV-lh0UVk3YJmKf16lXL3zwjsAv00jxiVcnLteZo41a-yUjxQOeHeXMHUwaYPlWw\n"
     ]
    },
    {
     "name": "stderr",
     "output_type": "stream",
     "text": [
      "  5%|███▋                                                                           | 148/3118 [03:14<14:38,  3.38it/s]"
     ]
    },
    {
     "name": "stdout",
     "output_type": "stream",
     "text": [
      "dhbeZRCqm47Gtb-B1WwA0lyumm6dVp9DeTH7D1BY4c744PrlXtnxpgSQ4Aayg-esTUTeLoZPZvQDLQ\n"
     ]
    },
    {
     "name": "stderr",
     "output_type": "stream",
     "text": [
      "  5%|███▊                                                                           | 149/3118 [03:15<16:08,  3.07it/s]"
     ]
    },
    {
     "name": "stdout",
     "output_type": "stream",
     "text": [
      "8HsOwBV1WNv8kI6vjJnqTb-wX1KhzWpxITHyV6sZkd3TnJfBOyebQHBEEySOIvWKL7RAQJtHBj72IQ\n"
     ]
    },
    {
     "name": "stderr",
     "output_type": "stream",
     "text": [
      "  5%|███▊                                                                           | 150/3118 [03:15<17:31,  2.82it/s]"
     ]
    },
    {
     "name": "stdout",
     "output_type": "stream",
     "text": [
      "pcOKrOaZ-qRBOrPMLKW8TK7f8lgyV6weRz3tXHOWHlmy2tzvb3-QTuqY06s43qXC2NMiSO39ejU1yg\n"
     ]
    },
    {
     "name": "stderr",
     "output_type": "stream",
     "text": [
      "  5%|███▊                                                                           | 151/3118 [03:16<20:37,  2.40it/s]"
     ]
    },
    {
     "name": "stdout",
     "output_type": "stream",
     "text": [
      "IDLl_3BC7NNEfoGDoxtG7uZ3_boywnpZr789nNMMEqJt9NkoBsRhop_2y41jozJhoTi6W2zc0rHRtA\n"
     ]
    },
    {
     "name": "stderr",
     "output_type": "stream",
     "text": [
      "  5%|███▊                                                                           | 152/3118 [03:16<18:24,  2.68it/s]"
     ]
    },
    {
     "name": "stdout",
     "output_type": "stream",
     "text": [
      "A6i6e0sktIlrQzKu8sN22Om62Bb--cquNgIML-_Ytjl3yObePQKEeN9j-olNH4wcgqGLUTkhg7gwWA\n"
     ]
    },
    {
     "name": "stderr",
     "output_type": "stream",
     "text": [
      "  5%|███▉                                                                           | 153/3118 [03:17<22:48,  2.17it/s]"
     ]
    },
    {
     "name": "stdout",
     "output_type": "stream",
     "text": [
      "l4IZtWeD-B5fr1xjA7OjweVuJD7Q6TfLHdwy6BWrgOtLQG6g7rWaZDiLKZr4c_CmtB8V244MZy_q6w\n"
     ]
    },
    {
     "name": "stderr",
     "output_type": "stream",
     "text": [
      "  5%|███▉                                                                           | 154/3118 [03:17<19:50,  2.49it/s]"
     ]
    },
    {
     "name": "stdout",
     "output_type": "stream",
     "text": [
      "QYhKyXlq19jeYbapQwoTGV_mbmQefDz2zRuMWhrg5kfk92vHXbJpfkSz2_vkCTEgm7ZZ0LvtHCDI6g\n"
     ]
    },
    {
     "name": "stderr",
     "output_type": "stream",
     "text": [
      "  5%|███▉                                                                           | 155/3118 [03:17<17:56,  2.75it/s]"
     ]
    },
    {
     "name": "stdout",
     "output_type": "stream",
     "text": [
      "erXJyK54V4HXzEIr7EK1oVWiCAvBrFChXapmf5ebC2NFz4gRJzkKxwzkN0QTh6txHPEF0cgrmlCSCQ\n"
     ]
    },
    {
     "name": "stderr",
     "output_type": "stream",
     "text": [
      "  5%|███▉                                                                           | 156/3118 [03:18<21:13,  2.33it/s]"
     ]
    },
    {
     "name": "stdout",
     "output_type": "stream",
     "text": [
      "tZtYrm13hYy3r30NOHag5TuVNJD0KEYF8v84s-iHzdazRgDsLIl776lXPJ8t7EJw_idcQJRS4fQzrA\n"
     ]
    },
    {
     "name": "stderr",
     "output_type": "stream",
     "text": [
      "  5%|███▉                                                                           | 157/3118 [03:18<18:36,  2.65it/s]"
     ]
    },
    {
     "name": "stdout",
     "output_type": "stream",
     "text": [
      "kypceNXSoewNJsczwMjvv13J4WmmyDa6N9YNgbP0riqwB67HVXPvV-I74ebh7gLlm19zR3p-eDTdHQ\n"
     ]
    },
    {
     "name": "stderr",
     "output_type": "stream",
     "text": [
      "  5%|████                                                                           | 158/3118 [03:18<18:19,  2.69it/s]"
     ]
    },
    {
     "name": "stdout",
     "output_type": "stream",
     "text": [
      "JVyRUhFXxCy8g3mhJby2H-M4ipNZXLHp4pYA1Y7gXBkmH9MHNy7oJEr5TRTD8IgqlrS7JVCsKahS2g\n"
     ]
    },
    {
     "name": "stderr",
     "output_type": "stream",
     "text": [
      "  5%|████                                                                           | 159/3118 [03:19<16:31,  2.99it/s]"
     ]
    },
    {
     "name": "stdout",
     "output_type": "stream",
     "text": [
      "nwLO3LvVyUV2YjNhWlinu2RLVmb1i8_XRb6lcYkyrIODtpo8XDFqAfIr5kZuJ0Y4Ei_DsRbQcvIpRw\n"
     ]
    },
    {
     "name": "stderr",
     "output_type": "stream",
     "text": [
      "  5%|████                                                                           | 160/3118 [03:19<15:10,  3.25it/s]"
     ]
    },
    {
     "name": "stdout",
     "output_type": "stream",
     "text": [
      "PU3RAHvxRhM6fE6qY6VhksiFt_c-IwTX3kG2G2s7DOMqmqU5WETzoNfX7zQr3x_rT9V9ZWZgwQuzww\n"
     ]
    },
    {
     "name": "stderr",
     "output_type": "stream",
     "text": [
      "  5%|████                                                                           | 161/3118 [03:19<15:03,  3.27it/s]"
     ]
    },
    {
     "name": "stdout",
     "output_type": "stream",
     "text": [
      "YqtXPB-PW1CH5gpu1TQlYXwnTO87kIkI6BPQEin-dWngUe2mNwZ7tCuG8kJPG09E2eODa7VTuEpFnw\n"
     ]
    },
    {
     "name": "stderr",
     "output_type": "stream",
     "text": [
      "  5%|████                                                                           | 162/3118 [03:20<14:45,  3.34it/s]"
     ]
    },
    {
     "name": "stdout",
     "output_type": "stream",
     "text": [
      "3SR1mhPwQe01b8oGCOrOz_sg0kdpvVCcmoOlcb6zk4Ei8Z2pAYtgxtiQGvqPhiQ2advbMuo-FzSEsg\n"
     ]
    },
    {
     "name": "stderr",
     "output_type": "stream",
     "text": [
      "  5%|████▏                                                                          | 163/3118 [03:20<16:04,  3.06it/s]"
     ]
    },
    {
     "name": "stdout",
     "output_type": "stream",
     "text": [
      "cLB9oOiJICJVunill-XyxqB0iaNh_svMl84vF6TxwB6J6sQKS_OMWHvGvO5UMybJushAGIzB9b3HJw\n"
     ]
    },
    {
     "name": "stderr",
     "output_type": "stream",
     "text": [
      "  5%|████▏                                                                          | 164/3118 [03:21<20:08,  2.44it/s]"
     ]
    },
    {
     "name": "stdout",
     "output_type": "stream",
     "text": [
      "QVaTXYzBVlLy_ipX48NNqNgc39kwlmMXv813o0s8m3j5XeRufoFiZcdkKd0fWyngcZ6KSUTcG3BeUA\n"
     ]
    },
    {
     "name": "stderr",
     "output_type": "stream",
     "text": [
      "  5%|████▏                                                                          | 165/3118 [03:21<19:19,  2.55it/s]"
     ]
    },
    {
     "name": "stdout",
     "output_type": "stream",
     "text": [
      "hrR4UBsybW3CPFv1aaJlwmn4kmNpkktgIxePnETsjd4ZvDWvjhrjBTkmFFwoaGR1E1afhod0T4MVIA\n"
     ]
    },
    {
     "name": "stderr",
     "output_type": "stream",
     "text": [
      "  5%|████▏                                                                          | 166/3118 [03:21<20:09,  2.44it/s]"
     ]
    },
    {
     "name": "stdout",
     "output_type": "stream",
     "text": [
      "LV5cCP-72J-Gj3Utu3YlUx4Mq0JGVUGWLrbsK2FwsrYdVkqJkaw4PFhrMpQLmd5K3__6MDV0LyZ_Og\n"
     ]
    },
    {
     "name": "stderr",
     "output_type": "stream",
     "text": [
      "  5%|████▏                                                                          | 167/3118 [03:22<17:43,  2.78it/s]"
     ]
    },
    {
     "name": "stdout",
     "output_type": "stream",
     "text": [
      "YLBy10TeILlUqrxPtOO2Ry5m8eSe6oU7jxtQqJELX4MfgeuD_d1M07A8IwlvxpL9k3xnxedsn6LlZg\n"
     ]
    },
    {
     "name": "stderr",
     "output_type": "stream",
     "text": [
      "  5%|████▎                                                                          | 168/3118 [03:22<16:00,  3.07it/s]"
     ]
    },
    {
     "name": "stdout",
     "output_type": "stream",
     "text": [
      "put7WmuP2Mz_XeTKt19hxKxFxiAWyM26LnNbJbE8LJzz4ft99MRF6CcTzjbs4qFfnDr694HfyxW_wQ\n"
     ]
    },
    {
     "name": "stderr",
     "output_type": "stream",
     "text": [
      "  5%|████▎                                                                          | 169/3118 [03:22<14:44,  3.34it/s]"
     ]
    },
    {
     "name": "stdout",
     "output_type": "stream",
     "text": [
      "9NEgZxvIAnmPgnGPm_j2Gieuhp0iLR3WbP2JREj8Gi1vgN5zGUrubJ9Cctyo8R7qFQoXxhBYQXyLNA\n"
     ]
    },
    {
     "name": "stderr",
     "output_type": "stream",
     "text": [
      "  5%|████▎                                                                          | 170/3118 [03:22<14:13,  3.45it/s]"
     ]
    },
    {
     "name": "stdout",
     "output_type": "stream",
     "text": [
      "jOv4S6H9ITzkLXISrB26XIZOFh6v9lD-e_0cKr2W6Xelb60g65_K5T083JET85aZxW5z5tp7lffFww\n"
     ]
    },
    {
     "name": "stderr",
     "output_type": "stream",
     "text": [
      "  5%|████▎                                                                          | 171/3118 [03:23<13:35,  3.62it/s]"
     ]
    },
    {
     "name": "stdout",
     "output_type": "stream",
     "text": [
      "8UYJ3gBcxz0Rb7UnTen3YjujOLpjxwcqs-4uy4Y9fuDgk6hD5je0GmpjT1DwVahcg6fK-IJIbw4cIA\n"
     ]
    },
    {
     "name": "stderr",
     "output_type": "stream",
     "text": [
      "  6%|████▎                                                                          | 172/3118 [03:23<13:09,  3.73it/s]"
     ]
    },
    {
     "name": "stdout",
     "output_type": "stream",
     "text": [
      "Dk2WuKsltS5k2vvynYrYaG_PtH1d0y-zFnNgLCCbf4DCcHBMQ8mBteqyl1xnA2Xu_4eoO6X0rO5dEg\n"
     ]
    },
    {
     "name": "stderr",
     "output_type": "stream",
     "text": [
      "  6%|████▍                                                                          | 173/3118 [03:23<13:08,  3.73it/s]"
     ]
    },
    {
     "name": "stdout",
     "output_type": "stream",
     "text": [
      "JhNlYEU7HN93nJKHP9dYVg4bh2pCwszVKJzYIfADf1FKJcghiuBxGH7VJ5OR3QUfWRKa9z00kk5-hQ\n"
     ]
    },
    {
     "name": "stderr",
     "output_type": "stream",
     "text": [
      "  6%|████▍                                                                          | 174/3118 [03:23<14:01,  3.50it/s]"
     ]
    },
    {
     "name": "stdout",
     "output_type": "stream",
     "text": [
      "COKSxRIU0CXwWusBV-jVPG73fYuaXly6amZl7aMaV7kfHO89Iz-wccQdUN_M6TWE31qDAUmb2ofJqg\n"
     ]
    },
    {
     "name": "stderr",
     "output_type": "stream",
     "text": [
      "  6%|████▍                                                                          | 175/3118 [03:24<14:49,  3.31it/s]"
     ]
    },
    {
     "name": "stdout",
     "output_type": "stream",
     "text": [
      "DD7aCbMlPfaFYLC_p06XqnwgPfq8qNo5TfkkIJgtfyNX9G4WNI0ZnA8A93vlvYF2cXtqRvhPIVjemg\n"
     ]
    },
    {
     "name": "stderr",
     "output_type": "stream",
     "text": [
      "  6%|████▍                                                                          | 176/3118 [03:24<13:57,  3.51it/s]"
     ]
    },
    {
     "name": "stdout",
     "output_type": "stream",
     "text": [
      "kNG3VgHEUrti5JjATbPvNS3YE6bt7IzIuxZtzcUIWsHRB8xjDuwSbhwEUqIzr20PtS32_35D1DeYsw\n"
     ]
    },
    {
     "name": "stderr",
     "output_type": "stream",
     "text": [
      "  6%|████▍                                                                          | 177/3118 [03:24<13:25,  3.65it/s]"
     ]
    },
    {
     "name": "stdout",
     "output_type": "stream",
     "text": [
      "m8pmATSGOyQuAEvEa7Dv1C-9A39j9lloKii7yCBNStHAZoEql_Ky82y3Xys-D78ICFbJoKZOKi6itQ\n"
     ]
    },
    {
     "name": "stderr",
     "output_type": "stream",
     "text": [
      "  6%|████▌                                                                          | 178/3118 [03:25<12:57,  3.78it/s]"
     ]
    },
    {
     "name": "stdout",
     "output_type": "stream",
     "text": [
      "__3ZoGJSm50SZ6GaLO37i3xXn3hnlD-STssYEEvrNugy3scmcbZ3MwrSmx0j8o6aQwrhE08q4ZylQw\n"
     ]
    },
    {
     "name": "stderr",
     "output_type": "stream",
     "text": [
      "  6%|████▌                                                                          | 179/3118 [03:25<13:12,  3.71it/s]"
     ]
    },
    {
     "name": "stdout",
     "output_type": "stream",
     "text": [
      "723XEvilXZVBi5FHytrKLipFxHyp2Jiz4OtJi0NizNZZBIq1Vy7ESCZCXPmWX9zBNlC3CTTe27wYYg\n"
     ]
    },
    {
     "name": "stderr",
     "output_type": "stream",
     "text": [
      "  6%|████▌                                                                          | 180/3118 [03:25<12:59,  3.77it/s]"
     ]
    },
    {
     "name": "stdout",
     "output_type": "stream",
     "text": [
      "FVVrb-Ode-KHZdEpCPLDAgel48DPhDgxSDV2Q1pz39LU5y3p8cUjkIVQ7eEEPuheDZsgKgOicb7X4Q\n"
     ]
    },
    {
     "name": "stderr",
     "output_type": "stream",
     "text": [
      "  6%|████▌                                                                          | 181/3118 [03:25<13:38,  3.59it/s]"
     ]
    },
    {
     "name": "stdout",
     "output_type": "stream",
     "text": [
      "fAPNyETPDsOehwHJbZhg1T_5H_Q_CFgbF7Yk5Ak2mfPnSwtahasZuCAMMsWkqgk-QSqZhfolvpPfxw\n"
     ]
    },
    {
     "name": "stderr",
     "output_type": "stream",
     "text": [
      "  6%|████▌                                                                          | 182/3118 [03:26<13:21,  3.66it/s]"
     ]
    },
    {
     "name": "stdout",
     "output_type": "stream",
     "text": [
      "OlR937HaGHoTMbMzBxLyEkyotdSyO8RZqNd7v0tt843G7NXrTLNeZy8HpDpiwptNjnhGII57NzXZ9g\n"
     ]
    },
    {
     "name": "stderr",
     "output_type": "stream",
     "text": [
      "  6%|████▋                                                                          | 183/3118 [03:26<13:09,  3.72it/s]"
     ]
    },
    {
     "name": "stdout",
     "output_type": "stream",
     "text": [
      "5GpPnPdlI7s3QGVza05puIV_4da_2Z_xelkyJ7A6BLzTwT_9ci3geYxOwQls08-GEShI2WeoaSYrmw\n"
     ]
    },
    {
     "name": "stderr",
     "output_type": "stream",
     "text": [
      "  6%|████▋                                                                          | 184/3118 [03:26<13:01,  3.76it/s]"
     ]
    },
    {
     "name": "stdout",
     "output_type": "stream",
     "text": [
      "YE-vgMjZLT69AijqnB9Qft6_DlDlc1tK1blGgMXcv6HbWuOye9eqXGlWBR9x7hR4sw_2ujU4qsmNAQ\n"
     ]
    },
    {
     "name": "stderr",
     "output_type": "stream",
     "text": [
      "  6%|████▋                                                                          | 185/3118 [03:27<14:40,  3.33it/s]"
     ]
    },
    {
     "name": "stdout",
     "output_type": "stream",
     "text": [
      "2ISV308jdME_I-hPhSGfQ_JTJPeUHGM5suVtSE4TSkvEgnvVEiFdDuuDmrPuFvZG7Z6IVjmuV7IFmg\n"
     ]
    },
    {
     "name": "stderr",
     "output_type": "stream",
     "text": [
      "  6%|████▋                                                                          | 186/3118 [03:27<13:53,  3.52it/s]"
     ]
    },
    {
     "name": "stdout",
     "output_type": "stream",
     "text": [
      "Sc6bFvIyYQpvZ2UBMYUezi3HCB3lIIsR5rmH3hFV8SGCkdLMdz6yCPJKg61ljj3H7FwuEbd1Z6NduQ\n"
     ]
    },
    {
     "name": "stderr",
     "output_type": "stream",
     "text": [
      "  6%|████▋                                                                          | 187/3118 [03:27<13:24,  3.64it/s]"
     ]
    },
    {
     "name": "stdout",
     "output_type": "stream",
     "text": [
      "HwfbXB5gyTkrJmvnqezQyArs7k9f4owJoOzy5mWIUuvHle8HaYeL4NANQT4Ku2yEffL6uk4kbRnNKw\n"
     ]
    },
    {
     "name": "stderr",
     "output_type": "stream",
     "text": [
      "  6%|████▊                                                                          | 188/3118 [03:27<12:57,  3.77it/s]"
     ]
    },
    {
     "name": "stdout",
     "output_type": "stream",
     "text": [
      "ZDeShwKplEtfZ-JVTaRywfgtWtTvI7rNLuhJatcKejBZ3ZmOm5l1tg2Te2y2oWiQCQI9kAIGp0h_lg\n"
     ]
    },
    {
     "name": "stderr",
     "output_type": "stream",
     "text": [
      "  6%|████▊                                                                          | 189/3118 [03:28<12:42,  3.84it/s]"
     ]
    },
    {
     "name": "stdout",
     "output_type": "stream",
     "text": [
      "1HCTklV3MJ48FIqn8Fr6PKlwFNhQpIxdUtfD5njj8B44BuFkNyVM_W9riZa9W6vifDwsyqS98arwqw\n"
     ]
    },
    {
     "name": "stderr",
     "output_type": "stream",
     "text": [
      "  6%|████▊                                                                          | 190/3118 [03:28<12:46,  3.82it/s]"
     ]
    },
    {
     "name": "stdout",
     "output_type": "stream",
     "text": [
      "Z4y0yAjmRG97NVCdReT_sgbLq7Q7v7gUkUPgke9M1Lh_yfks1EoE4ndbgww45Mar7PNfFOqgPyv_OA\n"
     ]
    },
    {
     "name": "stderr",
     "output_type": "stream",
     "text": [
      "  6%|████▊                                                                          | 191/3118 [03:28<12:32,  3.89it/s]"
     ]
    },
    {
     "name": "stdout",
     "output_type": "stream",
     "text": [
      "3j4Ut4J62mN2QW_XDaI2Oebx5fMe1AqRA_8FD4LsfVleQFAytbod3D10AilX4oiRk1KwEK5peSb4yg\n"
     ]
    },
    {
     "name": "stderr",
     "output_type": "stream",
     "text": [
      "  6%|████▊                                                                          | 192/3118 [03:28<12:35,  3.87it/s]"
     ]
    },
    {
     "name": "stdout",
     "output_type": "stream",
     "text": [
      "qLSzsoH9ujFJIaz5Z5YaBg4mHCoArLtLXU-4CFyaPlfRb4IsVhL93Yyr-sru-YrDbs9j00mK1HQdNw\n"
     ]
    },
    {
     "name": "stderr",
     "output_type": "stream",
     "text": [
      "  6%|████▉                                                                          | 193/3118 [03:29<12:38,  3.86it/s]"
     ]
    },
    {
     "name": "stdout",
     "output_type": "stream",
     "text": [
      "RwyUr01fTebU9vCyRd-eDz2NRAAjReAboGRnbRAVunku5_k3R9-Ne13JAWUwdPSWquaPTeBT91S7SQ\n"
     ]
    },
    {
     "name": "stderr",
     "output_type": "stream",
     "text": [
      "  6%|████▉                                                                          | 194/3118 [03:29<12:40,  3.84it/s]"
     ]
    },
    {
     "name": "stdout",
     "output_type": "stream",
     "text": [
      "7OPPELr2k11Aua_cT-zQcF0n1g5keb_xdDnACxMpVK7RKDrDh8tRxrNGA2xkfBXqa4TrybuTKyfg_g\n"
     ]
    },
    {
     "name": "stderr",
     "output_type": "stream",
     "text": [
      "  6%|████▉                                                                          | 195/3118 [03:29<12:56,  3.76it/s]"
     ]
    },
    {
     "name": "stdout",
     "output_type": "stream",
     "text": [
      "aqFQSgyswSaSypEO1XXT-MMlgY8ZXNtbf7MqnosyDI899IQwcAJCJdRFtN9hVHYmoiQ8pLTdNb2NKg\n"
     ]
    },
    {
     "name": "stderr",
     "output_type": "stream",
     "text": [
      "  6%|████▉                                                                          | 196/3118 [03:29<13:03,  3.73it/s]"
     ]
    },
    {
     "name": "stdout",
     "output_type": "stream",
     "text": [
      "nXsytxI9sgEA6DLqpRngOHNR6W3Dew13zOYwpzOKF9UyjYhQI6LjoReuLWtvVF-EOimRrYmZspOscQ\n"
     ]
    },
    {
     "name": "stderr",
     "output_type": "stream",
     "text": [
      "  6%|████▉                                                                          | 197/3118 [03:30<12:48,  3.80it/s]"
     ]
    },
    {
     "name": "stdout",
     "output_type": "stream",
     "text": [
      "wqhMkiRYJvv-OW9KOiG-pNgPVlzTzqg3_FE0X7viAXfan2mizntU5ENr2sW40VdGF6q-ogGRazAL_g\n"
     ]
    },
    {
     "name": "stderr",
     "output_type": "stream",
     "text": [
      "  6%|█████                                                                          | 198/3118 [03:30<14:24,  3.38it/s]"
     ]
    },
    {
     "name": "stdout",
     "output_type": "stream",
     "text": [
      "97a17Hqem5U0Zz_8dxK58-Rgb17eAWszFBerDfYCrLx65yIxzqwkjsHt0fW7y3c1kd2WwSCQSneUjA\n"
     ]
    },
    {
     "name": "stderr",
     "output_type": "stream",
     "text": [
      "  6%|█████                                                                          | 199/3118 [03:30<14:08,  3.44it/s]"
     ]
    },
    {
     "name": "stdout",
     "output_type": "stream",
     "text": [
      "4Z7dfsfdfASBgX7NDYhIK4uPKQzcAkcLKhWchrPCoGxKHvvCT7C87tP49krPGAyYH0Afzb21BfbQEQ\n"
     ]
    },
    {
     "name": "stderr",
     "output_type": "stream",
     "text": [
      "  6%|█████                                                                          | 200/3118 [03:31<13:35,  3.58it/s]"
     ]
    },
    {
     "name": "stdout",
     "output_type": "stream",
     "text": [
      "NBljlkBKh0mNMrspyLSRhOcs6KUpTFN8-gnJ1zhnRA-igrejFIm5Wkla29TuDtaumLp0JsB1526g3w\n"
     ]
    },
    {
     "name": "stderr",
     "output_type": "stream",
     "text": [
      "  6%|█████                                                                          | 201/3118 [03:31<13:02,  3.73it/s]"
     ]
    },
    {
     "name": "stdout",
     "output_type": "stream",
     "text": [
      "8f68nw7Z4jEaohr-JxqL8yIzlYGCXAOZXZI6B7cGJmQknzLl0I1QYkVQ8upW6llTbG-SIfmawfxEhA\n"
     ]
    },
    {
     "name": "stderr",
     "output_type": "stream",
     "text": [
      "  6%|█████                                                                          | 202/3118 [03:31<12:41,  3.83it/s]"
     ]
    },
    {
     "name": "stdout",
     "output_type": "stream",
     "text": [
      "V051l6nAheMLNdvYyasvOr6HdhNZqgNwTKkWINM68mRJRjg9o6AStyfE_ycbzSpdqLu65GWw83RbMQ\n"
     ]
    },
    {
     "name": "stderr",
     "output_type": "stream",
     "text": [
      "  7%|█████▏                                                                         | 203/3118 [03:31<12:28,  3.89it/s]"
     ]
    },
    {
     "name": "stdout",
     "output_type": "stream",
     "text": [
      "LuzHN82auhquHh-Ex-_wvKghPNuboyJBxq4UaXJpHdQ58uLc-y5RoCDwdcfJEn2hoiYDPE1jxI5uTA\n"
     ]
    },
    {
     "name": "stderr",
     "output_type": "stream",
     "text": [
      "  7%|█████▏                                                                         | 204/3118 [03:32<12:14,  3.97it/s]"
     ]
    },
    {
     "name": "stdout",
     "output_type": "stream",
     "text": [
      "ePigPqH8e-XxtCq9qnambfjuH-yd6-aO8rHD3iwwUbmUZIMENp1PbzuVSFF_UL5SVpYoJHMq6ohshA\n"
     ]
    },
    {
     "name": "stderr",
     "output_type": "stream",
     "text": [
      "  7%|█████▏                                                                         | 205/3118 [03:32<15:09,  3.20it/s]"
     ]
    },
    {
     "name": "stdout",
     "output_type": "stream",
     "text": [
      "ZzLJa6627DKFIvvmDJ4CB-8Be92nYcqDjQMTLsyNkVhss80DcQmyxaELJM5_FiFCh4Ds-b-ukmiS9w\n"
     ]
    },
    {
     "name": "stderr",
     "output_type": "stream",
     "text": [
      "  7%|█████▏                                                                         | 206/3118 [03:32<14:38,  3.31it/s]"
     ]
    },
    {
     "name": "stdout",
     "output_type": "stream",
     "text": [
      "_C88EvJQ_oQRdC5Jie3EOM1VXHC0JwG01j2yxz1J75UtjrNHG38BxPJrLTopEUp_gRBH__MBz_gzBA\n"
     ]
    },
    {
     "name": "stderr",
     "output_type": "stream",
     "text": [
      "  7%|█████▏                                                                         | 207/3118 [03:32<14:02,  3.46it/s]"
     ]
    },
    {
     "name": "stdout",
     "output_type": "stream",
     "text": [
      "v_e2lzHLpDpa6-ahVV49EOuzkHv3ioqx6qu0HVOl33r3Ux6HmgBCDYbK-xbcMbKAa2NjrMKQtytQJg\n"
     ]
    },
    {
     "name": "stderr",
     "output_type": "stream",
     "text": [
      "  7%|█████▎                                                                         | 208/3118 [03:33<13:26,  3.61it/s]"
     ]
    },
    {
     "name": "stdout",
     "output_type": "stream",
     "text": [
      "wyXMmCXarh4tnVciHCdSjUWfO5aUiVO5-dRKNmmSwM0_IUKPPiN19GJfJZMYlEMZ4UtJLd4dC8GQog\n"
     ]
    },
    {
     "name": "stderr",
     "output_type": "stream",
     "text": [
      "  7%|█████▎                                                                         | 209/3118 [03:33<12:55,  3.75it/s]"
     ]
    },
    {
     "name": "stdout",
     "output_type": "stream",
     "text": [
      "KF80A1pWNe_LFcAcEAVEmf5v_CQQeA3zM9ZRUM0bxBxFAmR8bsg4aLBMNxae68xp5S-ctFVb8rGE0w\n"
     ]
    },
    {
     "name": "stderr",
     "output_type": "stream",
     "text": [
      "  7%|█████▎                                                                         | 210/3118 [03:33<12:51,  3.77it/s]"
     ]
    },
    {
     "name": "stdout",
     "output_type": "stream",
     "text": [
      "kkAscZd6hMRMFnjXKNhcDyKfLXj1oUrrgRyw13Zh-WCjNjSo73SSAmAhb87QiE77byUwTn-8vS7gCA\n"
     ]
    },
    {
     "name": "stderr",
     "output_type": "stream",
     "text": [
      "  7%|█████▎                                                                         | 211/3118 [03:33<12:31,  3.87it/s]"
     ]
    },
    {
     "name": "stdout",
     "output_type": "stream",
     "text": [
      "Xq-zxs_rUuD3ylBLXTbJx8vRxDtjX_hju_259NmF4Fc6Wvm5jLvkMbhKI2JkMqhdEasJF3iZXHLovQ\n"
     ]
    },
    {
     "name": "stderr",
     "output_type": "stream",
     "text": [
      "  7%|█████▎                                                                         | 212/3118 [03:34<12:26,  3.89it/s]"
     ]
    },
    {
     "name": "stdout",
     "output_type": "stream",
     "text": [
      "ivxN_noywwPXYVTrXBdLA0qXB2O9I3UoJsPzEn65azFLQwjMIQB4ypiVBPixTBcGYVQWn-JiCkxR9A\n",
      "api cost full : infinite loop start\n",
      "loop location :  785hr7vhE1tVC0_ATU73c19TpkhzY8zLFvgrb6heYz2hFSb92qvcMk8L7A\n",
      "try 10 second wait time\n",
      "429\n",
      "try 10 second wait time\n",
      "429\n",
      "try 10 second wait time\n",
      "429\n",
      "try 10 second wait time\n",
      "429\n",
      "try 10 second wait time\n",
      "429\n",
      "try 10 second wait time\n",
      "429\n",
      "try 10 second wait time\n",
      "429\n",
      "try 10 second wait time\n",
      "429\n",
      "try 10 second wait time\n"
     ]
    },
    {
     "name": "stderr",
     "output_type": "stream",
     "text": [
      "  7%|█████▏                                                                      | 213/3118 [05:06<22:33:18, 27.95s/it]"
     ]
    },
    {
     "name": "stdout",
     "output_type": "stream",
     "text": [
      "200\n",
      "total wait time :  92.32223343849182\n",
      "recovery api cost\n",
      "3pq_sOr1_4zxEXqI622BfI1kxLKJ_qeE-DZperxEFAAy-VnmvHRM26igdJScPi-LR7hDeVDaEnuOow\n"
     ]
    },
    {
     "name": "stderr",
     "output_type": "stream",
     "text": [
      "  7%|█████▏                                                                      | 214/3118 [05:07<15:53:25, 19.70s/it]"
     ]
    },
    {
     "name": "stdout",
     "output_type": "stream",
     "text": [
      "F9e4npn0S6BwNwcvIXWti18UOJQfXVfPHDHaAljsxU-9u5-lWIl29VTRpRQIVb8-uBra_Y4dOF271Q\n"
     ]
    },
    {
     "name": "stderr",
     "output_type": "stream",
     "text": [
      "  7%|█████▏                                                                      | 215/3118 [05:07<11:11:40, 13.88s/it]"
     ]
    },
    {
     "name": "stdout",
     "output_type": "stream",
     "text": [
      "3S47h4CxtHQIdBIBliix3-_iFMy3sVI0i3rlIysyqKg0ZsY8grYk4p46fz8SdhxRYbbcR2cSzIZsvQ\n"
     ]
    },
    {
     "name": "stderr",
     "output_type": "stream",
     "text": [
      "  7%|█████▎                                                                       | 216/3118 [05:07<7:54:06,  9.80s/it]"
     ]
    },
    {
     "name": "stdout",
     "output_type": "stream",
     "text": [
      "n7D4yLMVfxeV8KSKlkhonBDIoOcAg_Vn4AZx1R3fyIOUxuId-v8Z0kYFjAe5ywzB0XadUZRyRmpkjg\n"
     ]
    },
    {
     "name": "stderr",
     "output_type": "stream",
     "text": [
      "  7%|█████▎                                                                       | 217/3118 [05:08<5:35:27,  6.94s/it]"
     ]
    },
    {
     "name": "stdout",
     "output_type": "stream",
     "text": [
      "B5KSO2Ya6veWbrIZN4xNnsNFoV9QCb4H0Pnn4AJWRWWbBpU8__IPVNuFqj9iVEf_nRazeWb9zLLAaQ\n"
     ]
    },
    {
     "name": "stderr",
     "output_type": "stream",
     "text": [
      "  7%|█████▍                                                                       | 218/3118 [05:08<3:58:50,  4.94s/it]"
     ]
    },
    {
     "name": "stdout",
     "output_type": "stream",
     "text": [
      "Q5Fquhlcp5lcvehk0JyR9gDkURhSqmvxCcZTsjMJ0xp12okBAKNVJT1YXoCaUkq9vpN9pgMdqnxsOQ\n"
     ]
    },
    {
     "name": "stderr",
     "output_type": "stream",
     "text": [
      "  7%|█████▍                                                                       | 219/3118 [05:08<2:50:49,  3.54s/it]"
     ]
    },
    {
     "name": "stdout",
     "output_type": "stream",
     "text": [
      "CrbbyiRUwozYHflhq-JCn5H_JC781JYfPPsW1YK9OcB0kr64m0-_RuNOj7YbyrrycXyPH6VkCSOozQ\n"
     ]
    },
    {
     "name": "stderr",
     "output_type": "stream",
     "text": [
      "  7%|█████▍                                                                       | 220/3118 [05:08<2:03:22,  2.55s/it]"
     ]
    },
    {
     "name": "stdout",
     "output_type": "stream",
     "text": [
      "Tda1h9T6GpU7WUlVKWkug0Ns_Cma11Oz30vuDmtPa0_J7Hv8VQv0mEpNfScSQfCjhFzs6KtQTw4Esg\n"
     ]
    },
    {
     "name": "stderr",
     "output_type": "stream",
     "text": [
      "  7%|█████▍                                                                       | 221/3118 [05:09<1:30:16,  1.87s/it]"
     ]
    },
    {
     "name": "stdout",
     "output_type": "stream",
     "text": [
      "3Q8p1jIklKIEi9JnYpCA9O8yy24-j9tveDQIgbe24lfOJuMki7oo3QcHDmN2xhwju4A46cawASjGPw\n"
     ]
    },
    {
     "name": "stderr",
     "output_type": "stream",
     "text": [
      "  7%|█████▍                                                                       | 222/3118 [05:09<1:07:25,  1.40s/it]"
     ]
    },
    {
     "name": "stdout",
     "output_type": "stream",
     "text": [
      "rN9WwKgokV8ph-7GA_5FBy09C9noFHrzXNfZovf5MZ6d8lgCKvxwqhdAvSGW-iRkoZktqo1vDrW71g\n"
     ]
    },
    {
     "name": "stderr",
     "output_type": "stream",
     "text": [
      "  7%|█████▋                                                                         | 223/3118 [05:09<51:13,  1.06s/it]"
     ]
    },
    {
     "name": "stdout",
     "output_type": "stream",
     "text": [
      "he5-ZBYqE7OzkMgp7AlaDOQ3F9LmQkCIgX9jhk8YRb6whaIqJ6qlrFeAn2Jn-WRX1qw4Soxk9cQOMg\n"
     ]
    },
    {
     "name": "stderr",
     "output_type": "stream",
     "text": [
      "  7%|█████▋                                                                         | 224/3118 [05:09<39:13,  1.23it/s]"
     ]
    },
    {
     "name": "stdout",
     "output_type": "stream",
     "text": [
      "Y23XufDKxu-jZKbsEJTUaq7x6hOamItt-rhdnjnWxiMbOFZY2bLFdeXer02qNwVxNou1-hR5Kgwg2A\n"
     ]
    },
    {
     "name": "stderr",
     "output_type": "stream",
     "text": [
      "  7%|█████▋                                                                         | 225/3118 [05:10<31:12,  1.55it/s]"
     ]
    },
    {
     "name": "stdout",
     "output_type": "stream",
     "text": [
      "7znW0EGdf11tXfW-ZMeuJUU7HDNvgvAEVGCujfYa097xD902mr_C1E9ttjVJW5oJjYlm1GboG2FrrQ\n"
     ]
    },
    {
     "name": "stderr",
     "output_type": "stream",
     "text": [
      "  7%|█████▋                                                                         | 226/3118 [05:10<25:38,  1.88it/s]"
     ]
    },
    {
     "name": "stdout",
     "output_type": "stream",
     "text": [
      "1DMf5SDqsj55aeBgxWjbr_NukSS5URFLwwLBqQQOvKD8KR86dPrfzlNmXVkmjE8ITTbfzjJFREiO0w\n"
     ]
    },
    {
     "name": "stderr",
     "output_type": "stream",
     "text": [
      "  7%|█████▊                                                                         | 227/3118 [05:10<22:24,  2.15it/s]"
     ]
    },
    {
     "name": "stdout",
     "output_type": "stream",
     "text": [
      "Ho2g_Wm1jO1D_rure0xgThDfIeVWIHa1be4AFPXlOwvKJHa7KxEl2ItXkhXo-V-IsFYaailtqn9h4Q\n"
     ]
    },
    {
     "name": "stderr",
     "output_type": "stream",
     "text": [
      "  7%|█████▊                                                                         | 228/3118 [05:11<19:22,  2.49it/s]"
     ]
    },
    {
     "name": "stdout",
     "output_type": "stream",
     "text": [
      "HU0py2gmhL4yIGkJYtjombVAbO3aYpfSndM-plNN_xkjGBRR_r3tInfrGOLPpTiD-YNcej_CHB-_aw\n"
     ]
    },
    {
     "name": "stderr",
     "output_type": "stream",
     "text": [
      "  7%|█████▊                                                                         | 229/3118 [05:11<18:57,  2.54it/s]"
     ]
    },
    {
     "name": "stdout",
     "output_type": "stream",
     "text": [
      "xxX_2NLE7qbnc3Pu6OFxwcTC0ggDtNLdxBVN3gGb0WaJoeMN9hZ1KcrZApWRwe3YmUuFUn8ssQGFpQ\n"
     ]
    },
    {
     "name": "stderr",
     "output_type": "stream",
     "text": [
      "  7%|█████▊                                                                         | 230/3118 [05:11<16:53,  2.85it/s]"
     ]
    },
    {
     "name": "stdout",
     "output_type": "stream",
     "text": [
      "oQzQdd03Q2mDolqEowVQ-bqjPw8eM5t3xlU1S8ABRHAvQ0Az-JykuokEnZMWsPEwV7GGl_thePZcEQ\n"
     ]
    },
    {
     "name": "stderr",
     "output_type": "stream",
     "text": [
      "  7%|█████▊                                                                         | 231/3118 [05:11<15:50,  3.04it/s]"
     ]
    },
    {
     "name": "stdout",
     "output_type": "stream",
     "text": [
      "4ktCE7-7Kz1fNZ3_MHq2jR4G2ghLEybD7Ng8lMM9mGZ9272MIPvLGvRGX6vCqYYT03m3IDx0BICA0A\n"
     ]
    },
    {
     "name": "stderr",
     "output_type": "stream",
     "text": [
      "  7%|█████▉                                                                         | 232/3118 [05:12<15:09,  3.17it/s]"
     ]
    },
    {
     "name": "stdout",
     "output_type": "stream",
     "text": [
      "11DvBptc3u6p3E4LLQZyTNsWYoKA6gGKLF0NshJwDIs06u68VvYqb1S13QqgaZywr--Uii9sGMsGiA\n"
     ]
    },
    {
     "name": "stderr",
     "output_type": "stream",
     "text": [
      "  7%|█████▉                                                                         | 233/3118 [05:12<14:15,  3.37it/s]"
     ]
    },
    {
     "name": "stdout",
     "output_type": "stream",
     "text": [
      "XIl5zXZ_CKrpfSfooNbf-T0V4SrSytWg3CcNOmAGoHzC6JlcW4P00LTIButE3NwPTdCX6wLXPoG7DA\n"
     ]
    },
    {
     "name": "stderr",
     "output_type": "stream",
     "text": [
      "  8%|█████▉                                                                         | 234/3118 [05:12<14:23,  3.34it/s]"
     ]
    },
    {
     "name": "stdout",
     "output_type": "stream",
     "text": [
      "wfCFMqINrkk3LOVw6ZQb9ACbmtDaC9AaM6z3_a6I3zMZUmYGOfUjdvQtKmyrxRbe-DATtnM_dGfKCA\n"
     ]
    },
    {
     "name": "stderr",
     "output_type": "stream",
     "text": [
      "  8%|█████▉                                                                         | 235/3118 [05:13<13:47,  3.49it/s]"
     ]
    },
    {
     "name": "stdout",
     "output_type": "stream",
     "text": [
      "chDOv4SzFwM9i_hx0y5wIWcFa82OiPk7vT2R13P3ob2YopceWPjMTdfunITKIKJcxI44t9iccHd4cw\n"
     ]
    },
    {
     "name": "stderr",
     "output_type": "stream",
     "text": [
      "  8%|█████▉                                                                         | 236/3118 [05:13<14:05,  3.41it/s]"
     ]
    },
    {
     "name": "stdout",
     "output_type": "stream",
     "text": [
      "9Zdi3fafgrcQuSpblOWlZ0btF6qQKioEYUiuPxnIP5nU8IdvoHfl9MEZOog5jmztyrdjZJ8LpHjy3Q\n"
     ]
    },
    {
     "name": "stderr",
     "output_type": "stream",
     "text": [
      "  8%|██████                                                                         | 237/3118 [05:13<14:22,  3.34it/s]"
     ]
    },
    {
     "name": "stdout",
     "output_type": "stream",
     "text": [
      "MQfpMaa6o46aIwokfguH0XSSLwkcLqp9oZ5Z15wUAJTyN9UrVUvXqwAoKZ8bV68spWgsNPxJJdK_VA\n"
     ]
    },
    {
     "name": "stderr",
     "output_type": "stream",
     "text": [
      "  8%|██████                                                                         | 238/3118 [05:14<15:52,  3.02it/s]"
     ]
    },
    {
     "name": "stdout",
     "output_type": "stream",
     "text": [
      "ArsTfI50M1IOxnvxnEwMwj1FM9-19eZRLXC2PFxuzXcOFA9xQ29fYg7ovbVtLY9qWqXzIwijf1Rjew\n"
     ]
    },
    {
     "name": "stderr",
     "output_type": "stream",
     "text": [
      "  8%|██████                                                                         | 239/3118 [05:14<14:47,  3.24it/s]"
     ]
    },
    {
     "name": "stdout",
     "output_type": "stream",
     "text": [
      "LjBBGxzeGnswZKuaeIR8v7cWLgftWGFt_wuYDEuUgZlTS8a-swe0hkiPTkCujQ8a3cBnH3cRvPmwWA\n"
     ]
    },
    {
     "name": "stderr",
     "output_type": "stream",
     "text": [
      "  8%|██████                                                                         | 240/3118 [05:14<14:32,  3.30it/s]"
     ]
    },
    {
     "name": "stdout",
     "output_type": "stream",
     "text": [
      "74NJ-l-a-aI0J6S994I1RepE0loqrym-S-0_9js5VZQe6i-IWyHzuIP6mEe3vL8MTF_UKHtgL-uyFw\n"
     ]
    },
    {
     "name": "stderr",
     "output_type": "stream",
     "text": [
      "  8%|██████                                                                         | 241/3118 [05:14<13:55,  3.44it/s]"
     ]
    },
    {
     "name": "stdout",
     "output_type": "stream",
     "text": [
      "CskWlSunYLQHl7uXDraVDDQRtGt21Z9XG-RWoegx0hrH8cpO9726DPKLKAerzuKAujVfBNDlBWNbXA\n"
     ]
    },
    {
     "name": "stderr",
     "output_type": "stream",
     "text": [
      "  8%|██████▏                                                                        | 242/3118 [05:15<13:35,  3.53it/s]"
     ]
    },
    {
     "name": "stdout",
     "output_type": "stream",
     "text": [
      "WSEuq7-GfKATZzyPTv-jGW45xYZJtwLG9yzlvokBeH-r7hKnm6efWSQrnHVqFbUO6LX5mjcy0dUyDA\n"
     ]
    },
    {
     "name": "stderr",
     "output_type": "stream",
     "text": [
      "  8%|██████▏                                                                        | 243/3118 [05:15<13:57,  3.43it/s]"
     ]
    },
    {
     "name": "stdout",
     "output_type": "stream",
     "text": [
      "rWfJLjiriFoNZn-45Dz7iRiR0L0mvZkqcALTp-S6Q7TU8R3J-86n8KGy-uUaWtCXV4pIqxw4kmI7oA\n"
     ]
    },
    {
     "name": "stderr",
     "output_type": "stream",
     "text": [
      "  8%|██████▏                                                                        | 244/3118 [05:15<13:37,  3.52it/s]"
     ]
    },
    {
     "name": "stdout",
     "output_type": "stream",
     "text": [
      "goPVjZu8PRXKU0ldkgGC9KLBmUmTouU2JqGctitvgg0cnN7H2Ob1bK3Vj5gFs9u1KafnLXCwc3n3hA\n"
     ]
    },
    {
     "name": "stderr",
     "output_type": "stream",
     "text": [
      "  8%|██████▏                                                                        | 245/3118 [05:16<13:26,  3.56it/s]"
     ]
    },
    {
     "name": "stdout",
     "output_type": "stream",
     "text": [
      "16-tj37dyKqA4YXO1tRaxJJahTjA7w__Iam0NQ3H1lOXPamHsriX65B8ofTROOhDcqQ2-7V0enIDFg\n"
     ]
    },
    {
     "name": "stderr",
     "output_type": "stream",
     "text": [
      "  8%|██████▏                                                                        | 246/3118 [05:16<14:22,  3.33it/s]"
     ]
    },
    {
     "name": "stdout",
     "output_type": "stream",
     "text": [
      "d8hcl1a3bXXRqBS3zgB3dBKvPAt8JPpTMvvFDqCpg7oqkEk3xRv61SajqvhwartaOJ0lN2VEyMgImA\n"
     ]
    },
    {
     "name": "stderr",
     "output_type": "stream",
     "text": [
      "  8%|██████▎                                                                        | 247/3118 [05:16<14:03,  3.41it/s]"
     ]
    },
    {
     "name": "stdout",
     "output_type": "stream",
     "text": [
      "wn9toF5pIbl7pmvyDF5GXQfZdsCAhmgfVub6v07Rzqa1w78RM_XDEaaz689wSptTxB4e3kcujZDKmw\n"
     ]
    },
    {
     "name": "stderr",
     "output_type": "stream",
     "text": [
      "  8%|██████▎                                                                        | 248/3118 [05:16<13:56,  3.43it/s]"
     ]
    },
    {
     "name": "stdout",
     "output_type": "stream",
     "text": [
      "k92Asa4PO3vsEVu6-78_nF2LuYa0P7xbsjHsV7BIy0ZSnU7ve6PcFBBP-sDlxQxx0UbIoULYYKO_Qw\n"
     ]
    },
    {
     "name": "stderr",
     "output_type": "stream",
     "text": [
      "  8%|██████▎                                                                        | 249/3118 [05:17<13:31,  3.53it/s]"
     ]
    },
    {
     "name": "stdout",
     "output_type": "stream",
     "text": [
      "Ccuy9joVpDhiTuEIk9kdMCaCc6sHv2k-dMQi15z2ufmuU2n4ocHebdd1B4e3Ouyq0G2C3YXl2zMwWw\n"
     ]
    },
    {
     "name": "stderr",
     "output_type": "stream",
     "text": [
      "  8%|██████▎                                                                        | 250/3118 [05:17<12:52,  3.71it/s]"
     ]
    },
    {
     "name": "stdout",
     "output_type": "stream",
     "text": [
      "Tz-u2wMPAtCQsp68Qz4xdVimseT7jjJYnXmTqrsldMr6XdXonVolqiW--Z8MjwGnGHqcOnqfxxG6GA\n"
     ]
    },
    {
     "name": "stderr",
     "output_type": "stream",
     "text": [
      "  8%|██████▎                                                                        | 251/3118 [05:17<13:15,  3.60it/s]"
     ]
    },
    {
     "name": "stdout",
     "output_type": "stream",
     "text": [
      "eV3KMNePJRESLPRVxCWat9x9skAYLUPf-TXPveflKLsmhpTyD23WkDUc3NnDOZGfsT4pWFOZ9l5sMQ\n"
     ]
    },
    {
     "name": "stderr",
     "output_type": "stream",
     "text": [
      "  8%|██████▍                                                                        | 252/3118 [05:18<13:12,  3.62it/s]"
     ]
    },
    {
     "name": "stdout",
     "output_type": "stream",
     "text": [
      "6kN1IeeU52UueTKqDhghezssS03GzKdD93EH8885MiwyBdZCz4lT_vm6CiWrpooZitGO-ufwq6P3lg\n"
     ]
    },
    {
     "name": "stderr",
     "output_type": "stream",
     "text": [
      "  8%|██████▍                                                                        | 253/3118 [05:18<12:46,  3.74it/s]"
     ]
    },
    {
     "name": "stdout",
     "output_type": "stream",
     "text": [
      "ve8PW5jZFdGIYII3C6N9d93oRRSWBmJKu8BtU_rpRmWHeH03gCN8p7tdlJajk8P_Ci2HoEBNJz0wOw\n"
     ]
    },
    {
     "name": "stderr",
     "output_type": "stream",
     "text": [
      "  8%|██████▍                                                                        | 254/3118 [05:18<12:36,  3.78it/s]"
     ]
    },
    {
     "name": "stdout",
     "output_type": "stream",
     "text": [
      "1C0meBsfrUvT_juTplPHZvYh26wbXpUOG211Chmw6CsMBy-9LZhjxGg15gkEwAp5LfuOCmEr_8iGgg\n"
     ]
    },
    {
     "name": "stderr",
     "output_type": "stream",
     "text": [
      "  8%|██████▍                                                                        | 255/3118 [05:18<13:30,  3.53it/s]"
     ]
    },
    {
     "name": "stdout",
     "output_type": "stream",
     "text": [
      "WLFbBK_ZnqKbpGVI0ij4iLPg3fNcLcuW3H_7BgWGAkJob2IoZJd_k2v5C9UgFPP2jx2oHPZ7zSVx2w\n"
     ]
    },
    {
     "name": "stderr",
     "output_type": "stream",
     "text": [
      "  8%|██████▍                                                                        | 256/3118 [05:19<13:10,  3.62it/s]"
     ]
    },
    {
     "name": "stdout",
     "output_type": "stream",
     "text": [
      "j3P-dxQ6hLUrsNLn_kB18CUVaoBYOid8a_LhTYpq-T0x1bWiPR6LOX1_VHcraKhRDDD4UWs0esRikQ\n"
     ]
    },
    {
     "name": "stderr",
     "output_type": "stream",
     "text": [
      "  8%|██████▌                                                                        | 257/3118 [05:19<13:05,  3.64it/s]"
     ]
    },
    {
     "name": "stdout",
     "output_type": "stream",
     "text": [
      "eFWgtVyd1IfPgLh_8s0BHBNEojJBkNp2Dp8VtFVOLjWUdMN6K1y_4tRX65iSsP7fQeIIbMKxnzO2Ww\n"
     ]
    },
    {
     "name": "stderr",
     "output_type": "stream",
     "text": [
      "  8%|██████▌                                                                        | 258/3118 [05:19<12:38,  3.77it/s]"
     ]
    },
    {
     "name": "stdout",
     "output_type": "stream",
     "text": [
      "Wo_Jsu75s1u3JP-fp1Pc5-KpAnx7jWrMGoxuBoVbDi_qgnJYcjFuqu1XXRNgdRMFWuVysCTThSt8yA\n"
     ]
    },
    {
     "name": "stderr",
     "output_type": "stream",
     "text": [
      "  8%|██████▌                                                                        | 259/3118 [05:19<14:15,  3.34it/s]"
     ]
    },
    {
     "name": "stdout",
     "output_type": "stream",
     "text": [
      "uQw0JwaAJVy0I5_HcWQBSlLXXgyXIrC8Mtfzu8mdK5UOtqUiptoNz8PZ6lweNI11ssWi6y0OXsK6UA\n"
     ]
    },
    {
     "name": "stderr",
     "output_type": "stream",
     "text": [
      "  8%|██████▌                                                                        | 260/3118 [05:20<14:16,  3.34it/s]"
     ]
    },
    {
     "name": "stdout",
     "output_type": "stream",
     "text": [
      "Xte79caxXcyEfI4JmBDJelLAQNgRmVxI_VQLDaseVEiyF1z072B2raZETi2oupyspfNGC0GWgXy4TQ\n"
     ]
    },
    {
     "name": "stderr",
     "output_type": "stream",
     "text": [
      "  8%|██████▌                                                                        | 261/3118 [05:20<13:40,  3.48it/s]"
     ]
    },
    {
     "name": "stdout",
     "output_type": "stream",
     "text": [
      "QcE59XKxpN7a8vv-ayk0v54jmWXixS7RvWCeS_1Gh2gtxK-jyVc9VU_Ze4uXBHLsVAicaMKmtmG5wg\n"
     ]
    },
    {
     "name": "stderr",
     "output_type": "stream",
     "text": [
      "  8%|██████▋                                                                        | 262/3118 [05:20<13:09,  3.62it/s]"
     ]
    },
    {
     "name": "stdout",
     "output_type": "stream",
     "text": [
      "jnf0wW8OszF3jEdLRdFRV-oRY3BeNnO_Wtgli1eeEW2PaSnn9B5LklwLkZTZVSup-IriXAmvozZL-g\n"
     ]
    },
    {
     "name": "stderr",
     "output_type": "stream",
     "text": [
      "  8%|██████▋                                                                        | 263/3118 [05:21<12:49,  3.71it/s]"
     ]
    },
    {
     "name": "stdout",
     "output_type": "stream",
     "text": [
      "M4Op_a70C2Zf7wGBOvfZkhHACRpeU1sPSwyamO-bI-gNjcXb8CCgjDCkzXK5bj1eI4jY7xMG7ydr4Q\n"
     ]
    },
    {
     "name": "stderr",
     "output_type": "stream",
     "text": [
      "  8%|██████▋                                                                        | 264/3118 [05:21<12:31,  3.80it/s]"
     ]
    },
    {
     "name": "stdout",
     "output_type": "stream",
     "text": [
      "v85s7wGcPuZ6E1n62NX162m12X92JVVp4BXMYzbtYCw6KyZzyuOmFxYzhuCt6qaaXv025TxEKhguPQ\n"
     ]
    },
    {
     "name": "stderr",
     "output_type": "stream",
     "text": [
      "  8%|██████▋                                                                        | 265/3118 [05:21<12:46,  3.72it/s]"
     ]
    },
    {
     "name": "stdout",
     "output_type": "stream",
     "text": [
      "r0Ca36z6qtcoR0YFQ8JClFTNSflw_LCe8WKDce5kwSR5NgYFb4dK0NE1X6TujR5XAJ1zWUwuoTh7rg\n"
     ]
    },
    {
     "name": "stderr",
     "output_type": "stream",
     "text": [
      "  9%|██████▋                                                                        | 266/3118 [05:21<12:37,  3.77it/s]"
     ]
    },
    {
     "name": "stdout",
     "output_type": "stream",
     "text": [
      "51VskLaOhffxyZLPERpv3kbKRGDeFdx-2rjf3KQMv5uduUa_aBQabjpfZFYQJqDgQkrDG0QblNkkxQ\n"
     ]
    },
    {
     "name": "stderr",
     "output_type": "stream",
     "text": [
      "  9%|██████▊                                                                        | 267/3118 [05:22<12:35,  3.77it/s]"
     ]
    },
    {
     "name": "stdout",
     "output_type": "stream",
     "text": [
      "fG5fZyV6t_flF2drSkfTSFfm8ehrp5tWQz87Ryq6emr8N8PL_qRNb0ZJ27Of9v9CLiiqOthQVbDVgw\n"
     ]
    },
    {
     "name": "stderr",
     "output_type": "stream",
     "text": [
      "  9%|██████▊                                                                        | 268/3118 [05:22<12:18,  3.86it/s]"
     ]
    },
    {
     "name": "stdout",
     "output_type": "stream",
     "text": [
      "BFmKmCUkj6DGO8aGAgVu6C9E_yRgUJ3L9mL_G_AMe-07FWWY-YEYJloaNOjP4AoJPFYxaHlWNQA0Mw\n"
     ]
    },
    {
     "name": "stderr",
     "output_type": "stream",
     "text": [
      "  9%|██████▊                                                                        | 269/3118 [05:22<12:25,  3.82it/s]"
     ]
    },
    {
     "name": "stdout",
     "output_type": "stream",
     "text": [
      "Bp_8wCNcCot03opfVRH2HGzt9X6sWCRh-t1-Wk_JT2g-gzazb8eSwSu88XrBkgxhPPyfm0OSiLWlQA\n"
     ]
    },
    {
     "name": "stderr",
     "output_type": "stream",
     "text": [
      "  9%|██████▊                                                                        | 270/3118 [05:22<13:29,  3.52it/s]"
     ]
    },
    {
     "name": "stdout",
     "output_type": "stream",
     "text": [
      "68_K_hv2uasAHw8GJBnWy8BXrBT8DFE055BQ-m67M-akPlchHMLRPdPk_w_sO75_IManOTiH9Yz5kw\n"
     ]
    },
    {
     "name": "stderr",
     "output_type": "stream",
     "text": [
      "  9%|██████▊                                                                        | 271/3118 [05:23<12:45,  3.72it/s]"
     ]
    },
    {
     "name": "stdout",
     "output_type": "stream",
     "text": [
      "IqcEj0mezT16rT_UHQXg-IJtK8ZgWuu5TLSwaQSuJx5n3uI_uJCpJWmvfmCjh2NYWYbn0QaQKEW3cA\n"
     ]
    },
    {
     "name": "stderr",
     "output_type": "stream",
     "text": [
      "  9%|██████▉                                                                        | 272/3118 [05:23<12:41,  3.74it/s]"
     ]
    },
    {
     "name": "stdout",
     "output_type": "stream",
     "text": [
      "F8IXfmowR49gHi9oMji8lwjoMwfv7eGqiO0uPvvY-pSIX8GJ4oz9COMxp6gG7dQQ9qq2qPrE8Y4ywA\n"
     ]
    },
    {
     "name": "stderr",
     "output_type": "stream",
     "text": [
      "  9%|██████▉                                                                        | 273/3118 [05:23<13:22,  3.55it/s]"
     ]
    },
    {
     "name": "stdout",
     "output_type": "stream",
     "text": [
      "DNoRqYEMsjvN6yPv7eTTQtsHcIBdAEAtmTGV9-uNtZE90ckOot4VW1hDWBYpeblktp_2pMwu_3dzHg\n"
     ]
    },
    {
     "name": "stderr",
     "output_type": "stream",
     "text": [
      "  9%|██████▉                                                                        | 274/3118 [05:24<13:38,  3.47it/s]"
     ]
    },
    {
     "name": "stdout",
     "output_type": "stream",
     "text": [
      "91nY4l-Oi9IkhR4Ocr82JhJAZA-28Y_PTCgNzpilhEmpuwdH16J5YY2B1LOlg8MZspKSACOPhN7nPw\n"
     ]
    },
    {
     "name": "stderr",
     "output_type": "stream",
     "text": [
      "  9%|██████▉                                                                        | 275/3118 [05:24<12:57,  3.66it/s]"
     ]
    },
    {
     "name": "stdout",
     "output_type": "stream",
     "text": [
      "dmknQ4scuRjUW6uijtYQsX1zON2TcOhA2RGwF0xmVsbaN5Xa0avpLQ8DGSWMxBQcMysQiqKLqoFIEw\n"
     ]
    },
    {
     "name": "stderr",
     "output_type": "stream",
     "text": [
      "  9%|██████▉                                                                        | 276/3118 [05:24<12:43,  3.72it/s]"
     ]
    },
    {
     "name": "stdout",
     "output_type": "stream",
     "text": [
      "DB2RjBdAQkK2GgNP5k6UpPXUW338mBk62EB2auhpW_GVbT12Bw0YJb5ln9CpGt7gjU4IycUx9NYtkA\n"
     ]
    },
    {
     "name": "stderr",
     "output_type": "stream",
     "text": [
      "  9%|███████                                                                        | 277/3118 [05:24<12:32,  3.78it/s]"
     ]
    },
    {
     "name": "stdout",
     "output_type": "stream",
     "text": [
      "fDDBZ0yJjinrivT2pscs8qJy5DST6_2sOhleJBEgkhhi2yKQ9dAKQb6KnOi4g2GNrlZnHMl8H9RLmA\n"
     ]
    },
    {
     "name": "stderr",
     "output_type": "stream",
     "text": [
      "  9%|███████                                                                        | 278/3118 [05:25<12:22,  3.82it/s]"
     ]
    },
    {
     "name": "stdout",
     "output_type": "stream",
     "text": [
      "_FIfN0mtbIjxWdzGqrKN8zcX4OtCgfS98Nar5_RoRV94c0zphkJS8FPmUXFCbwtlwQJJW2zRzLnzRg\n"
     ]
    },
    {
     "name": "stderr",
     "output_type": "stream",
     "text": [
      "  9%|███████                                                                        | 279/3118 [05:25<12:14,  3.87it/s]"
     ]
    },
    {
     "name": "stdout",
     "output_type": "stream",
     "text": [
      "rA53m5oqfAezD19rtL9HplkaawGER4rW1rhFwxZu4Ij8oQE6S994lJd9b4x5_aMnmLATPYmakjXycA\n"
     ]
    },
    {
     "name": "stderr",
     "output_type": "stream",
     "text": [
      "  9%|███████                                                                        | 280/3118 [05:25<12:33,  3.77it/s]"
     ]
    },
    {
     "name": "stdout",
     "output_type": "stream",
     "text": [
      "7aBQ14B_nhPRabgKjT5E4yaLFFld91shPF40h9JsYIcqb0wYCf4S7yTsLD8XaEQ9m7GCLM6a-R40EQ\n"
     ]
    },
    {
     "name": "stderr",
     "output_type": "stream",
     "text": [
      "  9%|███████                                                                        | 281/3118 [05:25<13:24,  3.53it/s]"
     ]
    },
    {
     "name": "stdout",
     "output_type": "stream",
     "text": [
      "FvDB8fA8FA48Uiq9Gv9d6kpafnykcayVM69csxqk57F6JA-ZysAVmrRAsJaviZDvRfYfJVhj0dv36w\n"
     ]
    },
    {
     "name": "stderr",
     "output_type": "stream",
     "text": [
      "  9%|███████▏                                                                       | 282/3118 [05:26<12:51,  3.68it/s]"
     ]
    },
    {
     "name": "stdout",
     "output_type": "stream",
     "text": [
      "wOP9Dz_v6nPxxmXa44FWGkkAahXUHHC2KDIrPwKLotA87PAU-DYIWH5i3waaa5POBQGRrTO4qs-WUg\n"
     ]
    },
    {
     "name": "stderr",
     "output_type": "stream",
     "text": [
      "  9%|███████▏                                                                       | 283/3118 [05:26<12:55,  3.65it/s]"
     ]
    },
    {
     "name": "stdout",
     "output_type": "stream",
     "text": [
      "mp3yjNYJjxsXW9MDTkYWVKl-oH3oWeEzZ-iuXqqq3uRWy3ak6UkiwnqERunIPe-7bxR-XxwrRQAF1w\n"
     ]
    },
    {
     "name": "stderr",
     "output_type": "stream",
     "text": [
      "  9%|███████▏                                                                       | 284/3118 [05:26<12:28,  3.79it/s]"
     ]
    },
    {
     "name": "stdout",
     "output_type": "stream",
     "text": [
      "AeXXvu59hyIwdNvSjtHuxDUOjwkPAfXs1TpD02BwCl32Nl6QeLsSyqXwwzhraxnwI00oZWmutv6UOQ\n"
     ]
    },
    {
     "name": "stderr",
     "output_type": "stream",
     "text": [
      "  9%|███████▏                                                                       | 285/3118 [05:26<12:23,  3.81it/s]"
     ]
    },
    {
     "name": "stdout",
     "output_type": "stream",
     "text": [
      "iCZaefaTbRvHogjnhn9NiFujHKkQhgZRJ30lzwoYzYCptR0EPRRvMP9ITwdNWdZI1G12lIV7H4oszA\n"
     ]
    },
    {
     "name": "stderr",
     "output_type": "stream",
     "text": [
      "  9%|███████▏                                                                       | 286/3118 [05:27<12:18,  3.83it/s]"
     ]
    },
    {
     "name": "stdout",
     "output_type": "stream",
     "text": [
      "oDBKrzMxZSIx9YuMheLwfcZZXTxdI2IFW5HGHObXzqkWYScY0Ue4qygqBmT6mcMYAE9-PtHXlwVvYg\n"
     ]
    },
    {
     "name": "stderr",
     "output_type": "stream",
     "text": [
      "  9%|███████▎                                                                       | 287/3118 [05:27<12:06,  3.89it/s]"
     ]
    },
    {
     "name": "stdout",
     "output_type": "stream",
     "text": [
      "hpRoO50dxYOqUMU-8b22miaqb_nClj5K6GoMYXLe4cFa6H_uVgVQwplsegcq3JfBj-TgOGDyMxqWqA\n"
     ]
    },
    {
     "name": "stderr",
     "output_type": "stream",
     "text": [
      "  9%|███████▎                                                                       | 288/3118 [05:27<12:01,  3.92it/s]"
     ]
    },
    {
     "name": "stdout",
     "output_type": "stream",
     "text": [
      "jKzoJkWVMNP2Y8iXtiWR7j0jeCOAy7u_2Tfihcwgo72UtYLJvw9Htzmq3J_ygObi6S9cg8u-dknOjA\n"
     ]
    },
    {
     "name": "stderr",
     "output_type": "stream",
     "text": [
      "  9%|███████▎                                                                       | 289/3118 [05:27<11:52,  3.97it/s]"
     ]
    },
    {
     "name": "stdout",
     "output_type": "stream",
     "text": [
      "6GNtr4t8gF5c-rZnyMy_3mNDSpLcNYXgaIzGqwuPTVkqsm_KfAOBzcNrFgbOB8zt0gB-Eg1BYwf_NQ\n"
     ]
    },
    {
     "name": "stderr",
     "output_type": "stream",
     "text": [
      "  9%|███████▎                                                                       | 290/3118 [05:28<12:16,  3.84it/s]"
     ]
    },
    {
     "name": "stdout",
     "output_type": "stream",
     "text": [
      "GNdUsxj56lss3pPfNhUT8Igcoktdun0WFq-WRKxGJpEw7m63XIqfiKzlny411gt3eAifsy5MlpJPXQ\n"
     ]
    },
    {
     "name": "stderr",
     "output_type": "stream",
     "text": [
      "  9%|███████▎                                                                       | 291/3118 [05:28<12:07,  3.88it/s]"
     ]
    },
    {
     "name": "stdout",
     "output_type": "stream",
     "text": [
      "lkk4YePjfocrpbBaPP62ZWeJP3XLQkQD0xqNPlKgQqQ4FMvAOoJ2z-HQUo_ADsq8GJKAg9Yvvdx0MQ\n"
     ]
    },
    {
     "name": "stderr",
     "output_type": "stream",
     "text": [
      "  9%|███████▍                                                                       | 292/3118 [05:28<11:48,  3.99it/s]"
     ]
    },
    {
     "name": "stdout",
     "output_type": "stream",
     "text": [
      "AQAVbf62eRMi2hmpZEqbXPBRdh_mDRsuoAQGB2hMQp4AcYIeMBHBrXzHKWNTcmZrIr3U68Oj_DszyQ\n"
     ]
    },
    {
     "name": "stderr",
     "output_type": "stream",
     "text": [
      "  9%|███████▍                                                                       | 293/3118 [05:29<12:17,  3.83it/s]"
     ]
    },
    {
     "name": "stdout",
     "output_type": "stream",
     "text": [
      "u4fU2yBKRxXw4LN2UhXrUuIfv0eNuz6ZHIO9Shh5eXCqk-WSE6oAXFDWty-pBdCavEH2O7uv1DjXaQ\n"
     ]
    },
    {
     "name": "stderr",
     "output_type": "stream",
     "text": [
      "  9%|███████▍                                                                       | 294/3118 [05:29<11:57,  3.94it/s]"
     ]
    },
    {
     "name": "stdout",
     "output_type": "stream",
     "text": [
      "EOb5Zdl9quKGlR3FqPuBMix-B24Msvedz2a1LpeNAlPmV1s23qUC8Ag6SLG4xAzx0mG2ocVG29X4Mw\n"
     ]
    },
    {
     "name": "stderr",
     "output_type": "stream",
     "text": [
      "  9%|███████▍                                                                       | 295/3118 [05:29<12:05,  3.89it/s]"
     ]
    },
    {
     "name": "stdout",
     "output_type": "stream",
     "text": [
      "-loBK9iWPZht90T4yHk0cktbfvNFjS3e2M1DyfhWu4XGe1UMHRqp_i0Btym4QEX2u4X0I_rkDGqtgQ\n"
     ]
    },
    {
     "name": "stderr",
     "output_type": "stream",
     "text": [
      "  9%|███████▍                                                                       | 296/3118 [05:29<11:54,  3.95it/s]"
     ]
    },
    {
     "name": "stdout",
     "output_type": "stream",
     "text": [
      "tXzcj5b1zDdA21cvzDF8h0UuV0v7gf5qmb4Kwylf3aEDEpnmKdsbClM0_t7olL6VFdKGLvpyLCrSXg\n"
     ]
    },
    {
     "name": "stderr",
     "output_type": "stream",
     "text": [
      " 10%|███████▌                                                                       | 297/3118 [05:30<11:56,  3.94it/s]"
     ]
    },
    {
     "name": "stdout",
     "output_type": "stream",
     "text": [
      "ewa7ZEifhmUBNJk7K71zoa9BC0SPfyFcnjeNOE0ikK-S2Gr_G2adxK8ixfbftMR6FRgH1Ls7luB9Zw\n"
     ]
    },
    {
     "name": "stderr",
     "output_type": "stream",
     "text": [
      " 10%|███████▌                                                                       | 298/3118 [05:30<12:14,  3.84it/s]"
     ]
    },
    {
     "name": "stdout",
     "output_type": "stream",
     "text": [
      "TjVO_2-vcVlw1ow3MCOryuZeQuuIlHhwusF6AQ2lU3Jl7ejtgT3g-F3LYIt04Bg5RWygXoP1UTKz2Q\n"
     ]
    },
    {
     "name": "stderr",
     "output_type": "stream",
     "text": [
      " 10%|███████▌                                                                       | 299/3118 [05:30<12:41,  3.70it/s]"
     ]
    },
    {
     "name": "stdout",
     "output_type": "stream",
     "text": [
      "I_maK0CgNvTcJpZAYp7ilTkmPL-rke-K65B40fQESPrCc0wz2aTn7M9IYqp4PkFQS1gnfkCjkqCWfA\n"
     ]
    },
    {
     "name": "stderr",
     "output_type": "stream",
     "text": [
      " 10%|███████▌                                                                       | 300/3118 [05:31<14:55,  3.15it/s]"
     ]
    },
    {
     "name": "stdout",
     "output_type": "stream",
     "text": [
      "riMuXSx0IgW_5eLD-e4YO1U7EljRZL55Gz6_IWRaBQ9m1PZZfJZyprxxl0yKrjtvt-yH0UCxHusT_A\n"
     ]
    },
    {
     "name": "stderr",
     "output_type": "stream",
     "text": [
      " 10%|███████▋                                                                       | 301/3118 [05:31<14:36,  3.22it/s]"
     ]
    },
    {
     "name": "stdout",
     "output_type": "stream",
     "text": [
      "FgpIPUYvFQjmmKl3mwycxznS3ePfNO8Ystg_26F6Y9fKQQHv-xPnPSXLvKDtCJJuUegwIyMGbupkRw\n"
     ]
    },
    {
     "name": "stderr",
     "output_type": "stream",
     "text": [
      " 10%|███████▋                                                                       | 302/3118 [05:31<13:54,  3.37it/s]"
     ]
    },
    {
     "name": "stdout",
     "output_type": "stream",
     "text": [
      "GC6xCFxJoW_3sfLpkGoCM-4aCgaTUYC5rrDIJ53KucD6i58Cgs0ygQVoiVKllSNhqI5jB7JaCUru3w\n"
     ]
    },
    {
     "name": "stderr",
     "output_type": "stream",
     "text": [
      " 10%|███████▋                                                                       | 303/3118 [05:31<13:18,  3.53it/s]"
     ]
    },
    {
     "name": "stdout",
     "output_type": "stream",
     "text": [
      "zp022t57VrBa1qmEu4kY58XE_x_wXS5FEJdwHZ4Y5iDbI6CHuDlhH94teeN0Lez8aoE8OGcPmk0qlA\n"
     ]
    },
    {
     "name": "stderr",
     "output_type": "stream",
     "text": [
      " 10%|███████▋                                                                       | 304/3118 [05:32<12:49,  3.66it/s]"
     ]
    },
    {
     "name": "stdout",
     "output_type": "stream",
     "text": [
      "dOwmKimXAVCTq7jYL1-ArQKxaorDWpyW27C74lXjqWwZ6DyEV6io0JMzXP3BThvUlWYo2XS3rhQi7g\n"
     ]
    },
    {
     "name": "stderr",
     "output_type": "stream",
     "text": [
      " 10%|███████▋                                                                       | 305/3118 [05:32<13:53,  3.38it/s]"
     ]
    },
    {
     "name": "stdout",
     "output_type": "stream",
     "text": [
      "-m0N9FphpLbSvdwyDvbUzgbYug3xtCO7VWO8zENq6OisWx9tFds-Ig5ElhOZFUEluLXPRkZF0xXN8A\n"
     ]
    },
    {
     "name": "stderr",
     "output_type": "stream",
     "text": [
      " 10%|███████▊                                                                       | 306/3118 [05:32<13:37,  3.44it/s]"
     ]
    },
    {
     "name": "stdout",
     "output_type": "stream",
     "text": [
      "yEa05h3p6NDikwjopxXKWbkHTLW5CgAtJQLvlsb2qrgxbP3b4R0-t37e7MR175oIZvCvevccbuwMkA\n"
     ]
    },
    {
     "name": "stderr",
     "output_type": "stream",
     "text": [
      " 10%|███████▊                                                                       | 307/3118 [05:32<13:16,  3.53it/s]"
     ]
    },
    {
     "name": "stdout",
     "output_type": "stream",
     "text": [
      "yHbeOUCIwKsHRKrXxxUz4KDpLFYEZCxJNcfR3-XiowFMASwKKJUEpkFhGyAGl0ViuoDBgu5u4hHDJw\n"
     ]
    },
    {
     "name": "stderr",
     "output_type": "stream",
     "text": [
      " 10%|███████▊                                                                       | 308/3118 [05:33<13:00,  3.60it/s]"
     ]
    },
    {
     "name": "stdout",
     "output_type": "stream",
     "text": [
      "0E09zvJAnaMIrPtResVxgvHnCLHAEPfuK-KdbCO51tkVnTy_Yz9_qVhkk3Jawd8NSw7GulNjzf3G6Q\n"
     ]
    },
    {
     "name": "stderr",
     "output_type": "stream",
     "text": [
      " 10%|███████▊                                                                       | 309/3118 [05:33<12:43,  3.68it/s]"
     ]
    },
    {
     "name": "stdout",
     "output_type": "stream",
     "text": [
      "vCBTek7jpX5IrTaT7QZJZHfYGBov19TICiZsvJKj1WhI2r0W8N0-6lENhqZjnhSmdmZ91Qg-JqIhwA\n"
     ]
    },
    {
     "name": "stderr",
     "output_type": "stream",
     "text": [
      " 10%|███████▊                                                                       | 310/3118 [05:33<12:27,  3.76it/s]"
     ]
    },
    {
     "name": "stdout",
     "output_type": "stream",
     "text": [
      "5o7aYe6nAaKDGajwwdjNEi028H6DKV8h9qZ0lrtd17-UJw4-Cs-s2fZt9Pcgn69pm_BYPjIAzYTsKA\n"
     ]
    },
    {
     "name": "stderr",
     "output_type": "stream",
     "text": [
      " 10%|███████▉                                                                       | 311/3118 [05:34<12:25,  3.77it/s]"
     ]
    },
    {
     "name": "stdout",
     "output_type": "stream",
     "text": [
      "D9UI9Dh-b-AgT8lEAZAHa4wG2ess_ZddckzcCmq3mkSov_vJAcaL32AZI9NQIAFug02T7T2HEDz9qQ\n"
     ]
    },
    {
     "name": "stderr",
     "output_type": "stream",
     "text": [
      " 10%|███████▉                                                                       | 312/3118 [05:34<12:13,  3.82it/s]"
     ]
    },
    {
     "name": "stdout",
     "output_type": "stream",
     "text": [
      "1UiPiMr9hW16drJjfYkRXo_2m12RLQwbhCy-2A5xJ-XqGo31BvdYFvDkdwCwKRlSSzdtiK65edPq4Q\n",
      "api cost full : infinite loop start\n",
      "loop location :  WzyZ5gw3hrgcEkxIh8dkTaO6eSJAuZowzewZ9H2JedJCGe4\n",
      "try 10 second wait time\n",
      "429\n",
      "try 10 second wait time\n",
      "429\n",
      "try 10 second wait time\n",
      "429\n",
      "try 10 second wait time\n",
      "429\n",
      "try 10 second wait time\n",
      "429\n",
      "try 10 second wait time\n",
      "429\n",
      "try 10 second wait time\n",
      "429\n",
      "try 10 second wait time\n",
      "429\n",
      "try 10 second wait time\n"
     ]
    },
    {
     "name": "stderr",
     "output_type": "stream",
     "text": [
      " 10%|███████▋                                                                    | 313/3118 [07:06<21:47:16, 27.96s/it]"
     ]
    },
    {
     "name": "stdout",
     "output_type": "stream",
     "text": [
      "200\n",
      "total wait time :  92.39886212348938\n",
      "recovery api cost\n",
      "VrWJ5DMsW8PXR-TgQirtmgBNhgIAHvnosUB_WKVq2Zc9ZJpIy-wpFDOETFXOn3m4c4fTU0z65s-iHA\n"
     ]
    },
    {
     "name": "stderr",
     "output_type": "stream",
     "text": [
      " 10%|███████▋                                                                    | 314/3118 [07:07<15:19:07, 19.67s/it]"
     ]
    },
    {
     "name": "stdout",
     "output_type": "stream",
     "text": [
      "JnNJrnVo5Q5jMgjIMlFwsnKJb5CryqveBhaH__RqmjRJSrd2TaO_r17qmGcEPy8-xrJV8tw1S66i2g\n"
     ]
    },
    {
     "name": "stderr",
     "output_type": "stream",
     "text": [
      " 10%|███████▋                                                                    | 315/3118 [07:07<10:47:15, 13.85s/it]"
     ]
    },
    {
     "name": "stdout",
     "output_type": "stream",
     "text": [
      "yBCa5mIDtmKcq9ZNvzYovNzk47G_jpZEluAqEWaqo3uTI082DaVKuj_xrxB9fyP6FVgVathNcVnPgA\n"
     ]
    },
    {
     "name": "stderr",
     "output_type": "stream",
     "text": [
      " 10%|███████▊                                                                     | 316/3118 [07:07<7:36:30,  9.78s/it]"
     ]
    },
    {
     "name": "stdout",
     "output_type": "stream",
     "text": [
      "tou8KwQrSJVRGYrTF1eacMmKDmk8eKQzROmHV20qULMa2z8RUaorccyoCRIP1MTbdwzViuYdQ0lNeg\n"
     ]
    },
    {
     "name": "stderr",
     "output_type": "stream",
     "text": [
      " 10%|███████▊                                                                     | 317/3118 [07:07<5:23:17,  6.93s/it]"
     ]
    },
    {
     "name": "stdout",
     "output_type": "stream",
     "text": [
      "oyW0cvs5oEp-nHcoq6vEvdPbyAeS_hXo_KQvPGR8aHbqYPPX--_YSYaAvJTufTtGs06lcjUrMyOuSw\n"
     ]
    },
    {
     "name": "stderr",
     "output_type": "stream",
     "text": [
      " 10%|███████▊                                                                     | 318/3118 [07:08<3:50:05,  4.93s/it]"
     ]
    },
    {
     "name": "stdout",
     "output_type": "stream",
     "text": [
      "TXrUeufC9sM9XZJVAEdxKK1tflK-21nouHV1jZXVDe3I-0ptOg4cs5K-bO6JvEBJ_425IbGw-k8QIQ\n"
     ]
    },
    {
     "name": "stderr",
     "output_type": "stream",
     "text": [
      " 10%|███████▉                                                                     | 319/3118 [07:08<2:44:32,  3.53s/it]"
     ]
    },
    {
     "name": "stdout",
     "output_type": "stream",
     "text": [
      "eRoppzSjFrVBig7Nm4zmUPdGuc_iFfvliWPNor3rHnybEC89MfoDW8EvhMgYovZ4crR3813dIKT7GQ\n"
     ]
    },
    {
     "name": "stderr",
     "output_type": "stream",
     "text": [
      " 10%|███████▉                                                                     | 320/3118 [07:08<1:58:36,  2.54s/it]"
     ]
    },
    {
     "name": "stdout",
     "output_type": "stream",
     "text": [
      "i7F2jZL_zXZDuKhtpIdJgn7BR49nGBGBhia0IBRS9M2N111OtV_2B1n3MqvUanIigDGkdJnBag8-rA\n"
     ]
    },
    {
     "name": "stderr",
     "output_type": "stream",
     "text": [
      " 10%|███████▉                                                                     | 321/3118 [07:09<1:26:34,  1.86s/it]"
     ]
    },
    {
     "name": "stdout",
     "output_type": "stream",
     "text": [
      "7MqxOZIG-Yrq846jQHVVXvOceKlXRaC4h1p1m7pfmOokB8bHK0dYHO0eBxnmlfQTpiVuydwaTFXiCQ\n"
     ]
    },
    {
     "name": "stderr",
     "output_type": "stream",
     "text": [
      " 10%|███████▉                                                                     | 322/3118 [07:09<1:03:52,  1.37s/it]"
     ]
    },
    {
     "name": "stdout",
     "output_type": "stream",
     "text": [
      "TRNCtB6rA0uI11XoT6sN8awRPKR8gU3g2hdvVD-uvroSpMefwStD2BlLjE_ckCPC7bHYogxGWp4Zow\n"
     ]
    },
    {
     "name": "stderr",
     "output_type": "stream",
     "text": [
      " 10%|████████▏                                                                      | 323/3118 [07:09<48:41,  1.05s/it]"
     ]
    },
    {
     "name": "stdout",
     "output_type": "stream",
     "text": [
      "4VKc1VaH4sDDTYgIICYpuFZnuSp8zRdtI3feDbIFWjxFK18zAVV38MjmAscXGd2E1a7suWVICzTkIQ\n"
     ]
    },
    {
     "name": "stderr",
     "output_type": "stream",
     "text": [
      " 10%|████████▏                                                                      | 324/3118 [07:09<37:39,  1.24it/s]"
     ]
    },
    {
     "name": "stdout",
     "output_type": "stream",
     "text": [
      "xwV0AuG_cnUMDFGRBDObLULVzFg0dyrKgnFrTZGvhTi-3Bd1x52wsnYUjqehzU6WI7myYzOf-cg3oQ\n"
     ]
    },
    {
     "name": "stderr",
     "output_type": "stream",
     "text": [
      " 10%|████████▏                                                                      | 325/3118 [07:10<30:10,  1.54it/s]"
     ]
    },
    {
     "name": "stdout",
     "output_type": "stream",
     "text": [
      "-RvufQVryBz8wL1l8xUP5ztUcc5lctBUt5zWTfHBLo6ixYf0oE8DdCgI8hZPmJgAoSLD87P2u2Fgfw\n"
     ]
    },
    {
     "name": "stderr",
     "output_type": "stream",
     "text": [
      " 10%|████████▎                                                                      | 326/3118 [07:10<24:35,  1.89it/s]"
     ]
    },
    {
     "name": "stdout",
     "output_type": "stream",
     "text": [
      "_D6mP16aHnicpp8H_riXFB9z-bJupA9Snh1LUtuc7xYJho3VRxYhfaPYAtwtri2dTIwGWUkGpkSm2Q\n"
     ]
    },
    {
     "name": "stderr",
     "output_type": "stream",
     "text": [
      " 10%|████████▎                                                                      | 327/3118 [07:10<21:23,  2.17it/s]"
     ]
    },
    {
     "name": "stdout",
     "output_type": "stream",
     "text": [
      "VhOdgr1S8GwfePEplaO381Us3pBLeff0vkKl0N7PPzOIn29ST6OWa4UklP-XQUAaal_616t6sR1AzA\n"
     ]
    },
    {
     "name": "stderr",
     "output_type": "stream",
     "text": [
      " 11%|████████▎                                                                      | 328/3118 [07:10<18:29,  2.52it/s]"
     ]
    },
    {
     "name": "stdout",
     "output_type": "stream",
     "text": [
      "9rj4j3hUA3B8IB9sYDLypYQzIO1aOSutAYouAmSFUdEt7N4-rXNj0JuT61K8Kqk3fn83Omh7oPLPJQ\n"
     ]
    },
    {
     "name": "stderr",
     "output_type": "stream",
     "text": [
      " 11%|████████▎                                                                      | 329/3118 [07:11<16:26,  2.83it/s]"
     ]
    },
    {
     "name": "stdout",
     "output_type": "stream",
     "text": [
      "rnU4KCxbXb0ub02M07Bv0XpjwsikZAJhsvxAI2qs0eTPi117R3tD7oKy-AG9pgy0WkuxlZM6WqEZBg\n"
     ]
    },
    {
     "name": "stderr",
     "output_type": "stream",
     "text": [
      " 11%|████████▎                                                                      | 330/3118 [07:11<14:47,  3.14it/s]"
     ]
    },
    {
     "name": "stdout",
     "output_type": "stream",
     "text": [
      "30bXe_rrU0tfH6gDDNp8vDrSORTBelzfJb41XMQnDB0pjDsSZnxaXGwn-xK9irED1Ce6E4Vod00Vkg\n"
     ]
    },
    {
     "name": "stderr",
     "output_type": "stream",
     "text": [
      " 11%|████████▍                                                                      | 331/3118 [07:11<13:48,  3.36it/s]"
     ]
    },
    {
     "name": "stdout",
     "output_type": "stream",
     "text": [
      "gkqgv8KufyU5mSW3bz6liCC2iB7hkKuhrDw1rDBBRTaZi75xMvjW_hILLpQg4rphUmqonp6mTTwspg\n"
     ]
    },
    {
     "name": "stderr",
     "output_type": "stream",
     "text": [
      " 11%|████████▍                                                                      | 332/3118 [07:12<16:30,  2.81it/s]"
     ]
    },
    {
     "name": "stdout",
     "output_type": "stream",
     "text": [
      "wSwuwe92jeg3Jmxk6kAjoNpo7miqEBMfRudgYDvPWAkIlW2DSgeaGrMb3PQe00_ishXUjEOaVxwN2g\n"
     ]
    },
    {
     "name": "stderr",
     "output_type": "stream",
     "text": [
      " 11%|████████▍                                                                      | 333/3118 [07:12<15:09,  3.06it/s]"
     ]
    },
    {
     "name": "stdout",
     "output_type": "stream",
     "text": [
      "YxdUOKq7xVljB6u-UJewAiZOoIt28rL9Hga4L1DC_VTtFUYBvvlAvmQROpJKkNoKp200sQLboPvVFQ\n"
     ]
    },
    {
     "name": "stderr",
     "output_type": "stream",
     "text": [
      " 11%|████████▍                                                                      | 334/3118 [07:12<13:48,  3.36it/s]"
     ]
    },
    {
     "name": "stdout",
     "output_type": "stream",
     "text": [
      "OTzMxKpsJofOGZjlPjYEe8e2_stinGK0NnlZ8S6oXFP9wiXWIXVodvhye05RdX9CF_OHi5MCPyL8gQ\n"
     ]
    },
    {
     "name": "stderr",
     "output_type": "stream",
     "text": [
      " 11%|████████▍                                                                      | 335/3118 [07:13<19:28,  2.38it/s]"
     ]
    },
    {
     "name": "stdout",
     "output_type": "stream",
     "text": [
      "OuCz9BX0oyF-YB-Jdnb3Ze9XsWFS7d-GI_VYMZ0wmMLMYwhbzQYnK7KEx7YY2PvsApYDrBskOFoXzw\n"
     ]
    },
    {
     "name": "stderr",
     "output_type": "stream",
     "text": [
      " 11%|████████▌                                                                      | 336/3118 [07:13<18:01,  2.57it/s]"
     ]
    },
    {
     "name": "stdout",
     "output_type": "stream",
     "text": [
      "jO50yh4vhOuXLSluBX_OQNkAtWpU-E8gabrPdqnFQLRYcxS2tybmp6Ty2U4Orxa-Myu1hWL6xFFdzA\n"
     ]
    },
    {
     "name": "stderr",
     "output_type": "stream",
     "text": [
      " 11%|████████▌                                                                      | 337/3118 [07:13<16:33,  2.80it/s]"
     ]
    },
    {
     "name": "stdout",
     "output_type": "stream",
     "text": [
      "53a_bPXq0tmOO2lafpNlm1PXmDN6wBwUCwaAVR9Y8uHOZ_Fegj-ieJIZ2qxYXrK4nuSwQsLwb7WFZw\n"
     ]
    },
    {
     "name": "stderr",
     "output_type": "stream",
     "text": [
      " 11%|████████▌                                                                      | 338/3118 [07:14<15:31,  2.98it/s]"
     ]
    },
    {
     "name": "stdout",
     "output_type": "stream",
     "text": [
      "wVauFdNszIWIIGhPqZoHUjqIybztTUOnZcopr8wSkkrYIEKge8-XVGqXArrj1yfx1-z04VgcH81azQ\n"
     ]
    },
    {
     "name": "stderr",
     "output_type": "stream",
     "text": [
      " 11%|████████▌                                                                      | 339/3118 [07:15<28:52,  1.60it/s]"
     ]
    },
    {
     "name": "stdout",
     "output_type": "stream",
     "text": [
      "J-13dB6PjaR_3EpJso8zXPV8IQmxyul_GoYTD-8XKTjO_NR5osL_o8KYehfffk20-ILywQm4EmVF7w\n"
     ]
    },
    {
     "name": "stderr",
     "output_type": "stream",
     "text": [
      " 11%|████████▌                                                                      | 340/3118 [07:15<25:16,  1.83it/s]"
     ]
    },
    {
     "name": "stdout",
     "output_type": "stream",
     "text": [
      "uDWseYYwELyUs7j3LO1In41RM50tq2O4oCAWCd03bXITcWbk3K11Vl-lgMgoSyRY-WAkvbJFvt97GA\n"
     ]
    },
    {
     "name": "stderr",
     "output_type": "stream",
     "text": [
      " 11%|████████▋                                                                      | 341/3118 [07:16<21:32,  2.15it/s]"
     ]
    },
    {
     "name": "stdout",
     "output_type": "stream",
     "text": [
      "o_Ydq45cgEwjGETXKG-BfVI69FM2GuF0exWMMqueSPowukx8p_Ya_cfg1xjB3bCpW3eCONWvqPYrOQ\n"
     ]
    },
    {
     "name": "stderr",
     "output_type": "stream",
     "text": [
      " 11%|████████▋                                                                      | 342/3118 [07:16<18:23,  2.52it/s]"
     ]
    },
    {
     "name": "stdout",
     "output_type": "stream",
     "text": [
      "SFG_qvu3jejzbhh2fzPqEO29J25S0w9beYwKnbzMeeuMzrTknARsNh5w4vvRbR3rSLObCLhSa8MPzw\n"
     ]
    },
    {
     "name": "stderr",
     "output_type": "stream",
     "text": [
      " 11%|████████▋                                                                      | 343/3118 [07:16<16:19,  2.83it/s]"
     ]
    },
    {
     "name": "stdout",
     "output_type": "stream",
     "text": [
      "39NQyjGH-_7O3vTYd8r6cXDzSRoyaNZ0J1kc5ZhaQywJdC2CL5Lia6cKQcWSrZwU2rOVSnu9Ojjkzw\n"
     ]
    },
    {
     "name": "stderr",
     "output_type": "stream",
     "text": [
      " 11%|████████▋                                                                      | 344/3118 [07:16<14:45,  3.13it/s]"
     ]
    },
    {
     "name": "stdout",
     "output_type": "stream",
     "text": [
      "hknlWjzUmgI4_8o3xvVn6Fk_Ux5ZeftyVEC9gZj7VkAPg86tPLMpThOkKMhwXcCdYPLq05Bm1bVQXA\n"
     ]
    },
    {
     "name": "stderr",
     "output_type": "stream",
     "text": [
      " 11%|████████▋                                                                      | 345/3118 [07:17<13:41,  3.37it/s]"
     ]
    },
    {
     "name": "stdout",
     "output_type": "stream",
     "text": [
      "q4YLBCp0awBTVmJn1H1CxesKrlCpW7bhlMpbL8xWFbLCPg-24fNHx1bF-xEP8xia0-wnFOGq1Pffsw\n"
     ]
    },
    {
     "name": "stderr",
     "output_type": "stream",
     "text": [
      " 11%|████████▊                                                                      | 346/3118 [07:17<14:15,  3.24it/s]"
     ]
    },
    {
     "name": "stdout",
     "output_type": "stream",
     "text": [
      "wsx_EtEii4k_vSGP5AQT0ctrVSyvPG_tNcfIM9nRfrPLLXVpu4bBS8JEY4Dh26ziJgid-rsvEbkKvw\n"
     ]
    },
    {
     "name": "stderr",
     "output_type": "stream",
     "text": [
      " 11%|████████▊                                                                      | 347/3118 [07:17<13:34,  3.40it/s]"
     ]
    },
    {
     "name": "stdout",
     "output_type": "stream",
     "text": [
      "zW_AzvZhZJXvV4xfnJfjf-7i5MQGyqhTDwyuoBAhVZydisFeSYMO7VIR2Y_8ZCPEF_Iwo11K_ZQieA\n"
     ]
    },
    {
     "name": "stderr",
     "output_type": "stream",
     "text": [
      " 11%|████████▊                                                                      | 348/3118 [07:18<14:19,  3.22it/s]"
     ]
    },
    {
     "name": "stdout",
     "output_type": "stream",
     "text": [
      "z03G28uwTE6GSZoSH3-U5k5Lu2RgD0HFBaRhuxfjh2zlrleSzJ8PmK4sVDSMji5iWFBln6xhpXMqMw\n"
     ]
    },
    {
     "name": "stderr",
     "output_type": "stream",
     "text": [
      " 11%|████████▊                                                                      | 349/3118 [07:18<18:05,  2.55it/s]"
     ]
    },
    {
     "name": "stdout",
     "output_type": "stream",
     "text": [
      "RgqVacHyO3dcNwZEutGyKPUyiE-7BXsjlBbSd2dzub9ZZP-bVhROpGbroVRLoBQ0I1hWDTs0Ef9Idg\n"
     ]
    },
    {
     "name": "stderr",
     "output_type": "stream",
     "text": [
      " 11%|████████▊                                                                      | 350/3118 [07:19<21:29,  2.15it/s]"
     ]
    },
    {
     "name": "stdout",
     "output_type": "stream",
     "text": [
      "QD5L1zJHC1XfYhu05QWOjGRbzecqR7yzq6lOIot7kFsB1iSrv9Au6wmD6RzBpkcxOBiOXxPI76JONQ\n"
     ]
    },
    {
     "name": "stderr",
     "output_type": "stream",
     "text": [
      " 11%|████████▉                                                                      | 351/3118 [07:19<18:35,  2.48it/s]"
     ]
    },
    {
     "name": "stdout",
     "output_type": "stream",
     "text": [
      "kX1zsy4FVX1JcMizbnYPCMa-VHPtrXeZZ91CrPwyp3XaKTV4H7iLzrZzWpPp_eSdaW22f-1CXepbCQ\n"
     ]
    },
    {
     "name": "stderr",
     "output_type": "stream",
     "text": [
      " 11%|████████▉                                                                      | 352/3118 [07:19<18:36,  2.48it/s]"
     ]
    },
    {
     "name": "stdout",
     "output_type": "stream",
     "text": [
      "Y0246aARU4FNAgtu52COUbQA4WJTQQ6MbBwpdtchYgNxkHPDQ71YZdd0lXwul4EyvY5rAtivBDQXHg\n"
     ]
    },
    {
     "name": "stderr",
     "output_type": "stream",
     "text": [
      " 11%|████████▉                                                                      | 353/3118 [07:20<17:18,  2.66it/s]"
     ]
    },
    {
     "name": "stdout",
     "output_type": "stream",
     "text": [
      "Yb4OKpjPhjchQeFwwHcuTDueCXN9OFSRxzJt_3FpgtslFBPo9UZXhQfby8F3ZfPxKvoHo8k4ftz_HQ\n"
     ]
    },
    {
     "name": "stderr",
     "output_type": "stream",
     "text": [
      " 11%|████████▉                                                                      | 354/3118 [07:20<18:37,  2.47it/s]"
     ]
    },
    {
     "name": "stdout",
     "output_type": "stream",
     "text": [
      "kKdGUGUxWq9mrI0nCCbKWZyXH_VBcUC85el7D_SQr-X-kKlkk62FRwKwsQDGbRY63yacDm-EwrwZvQ\n"
     ]
    },
    {
     "name": "stderr",
     "output_type": "stream",
     "text": [
      " 11%|████████▉                                                                      | 355/3118 [07:20<16:39,  2.77it/s]"
     ]
    },
    {
     "name": "stdout",
     "output_type": "stream",
     "text": [
      "qxIcGx7d6tWx4A4NUrdAa71ICZihluDuyc7KZykRrPY2gjMDH9aNtZ1AGzOz_OxGwc61b9b3kbHWoQ\n"
     ]
    },
    {
     "name": "stderr",
     "output_type": "stream",
     "text": [
      " 11%|█████████                                                                      | 356/3118 [07:21<17:08,  2.69it/s]"
     ]
    },
    {
     "name": "stdout",
     "output_type": "stream",
     "text": [
      "SWQDZeEfDFDsKb3dQ92KtpclHxLlMOWNJt3PnCvJ3I6IWwjuSHgbwk02WjiPn2KaeJEb3MegrQWFXA\n"
     ]
    },
    {
     "name": "stderr",
     "output_type": "stream",
     "text": [
      " 11%|█████████                                                                      | 357/3118 [07:21<16:07,  2.85it/s]"
     ]
    },
    {
     "name": "stdout",
     "output_type": "stream",
     "text": [
      "svGEa61CxfoOLT87UuGFC2iUZWyvzvRIFge9ROr3FjHeJXtH5Tj8GmIHifuKyzyLSP5VbJG9Na5TMg\n"
     ]
    },
    {
     "name": "stderr",
     "output_type": "stream",
     "text": [
      " 11%|█████████                                                                      | 358/3118 [07:21<14:45,  3.12it/s]"
     ]
    },
    {
     "name": "stdout",
     "output_type": "stream",
     "text": [
      "G3kQhP47blLtQf-LIgGQeX6COvr6Pn18vK3V7TMWB7Fh21rPnPMHUCih6usM4jTX4bc2CvM3qmuDxw\n"
     ]
    },
    {
     "name": "stderr",
     "output_type": "stream",
     "text": [
      " 12%|█████████                                                                      | 359/3118 [07:22<15:51,  2.90it/s]"
     ]
    },
    {
     "name": "stdout",
     "output_type": "stream",
     "text": [
      "FKU2Zke_Q5E_lI8v21RIxkUBS7LyyEXEFHnwifH2f6dNxdv3cbvOGbcx6PwBscxMugNmn6D4HpnzHg\n"
     ]
    },
    {
     "name": "stderr",
     "output_type": "stream",
     "text": [
      " 12%|█████████                                                                      | 360/3118 [07:22<15:00,  3.06it/s]"
     ]
    },
    {
     "name": "stdout",
     "output_type": "stream",
     "text": [
      "CHJxsLHVUYXf2m-XEgXWnlC8iKU9ZZTQ9EYzR6suwGtxu7UXSiLZ-FenduPoGmlOKk8HesWtGFDcXQ\n"
     ]
    },
    {
     "name": "stderr",
     "output_type": "stream",
     "text": [
      " 12%|█████████▏                                                                     | 361/3118 [07:22<15:50,  2.90it/s]"
     ]
    },
    {
     "name": "stdout",
     "output_type": "stream",
     "text": [
      "fjRReuTudUwaWa7OGGcUPIvpVqz7c2XESSxkFXaB2GohPgEPAvjosdkblUK1sqIObph6YXQZaZJPug\n"
     ]
    },
    {
     "name": "stderr",
     "output_type": "stream",
     "text": [
      " 12%|█████████▏                                                                     | 362/3118 [07:23<17:54,  2.56it/s]"
     ]
    },
    {
     "name": "stdout",
     "output_type": "stream",
     "text": [
      "w_BElHM8F_SQY4yxsk7xfXlLtX3J023vy6PIZtTY6-gdvGany1JgARvrF_x6TmtIAusnbP3Csw9XFw\n"
     ]
    },
    {
     "name": "stderr",
     "output_type": "stream",
     "text": [
      " 12%|█████████▏                                                                     | 363/3118 [07:24<21:30,  2.13it/s]"
     ]
    },
    {
     "name": "stdout",
     "output_type": "stream",
     "text": [
      "pLchTVrG4ou1AhSmNFPnVVMNHQ6l3c_ZjYtacASMhRcix7C3zsKgdJNmX6mFeHH16E99LscnWFlrFA\n"
     ]
    },
    {
     "name": "stderr",
     "output_type": "stream",
     "text": [
      " 12%|█████████▏                                                                     | 364/3118 [07:24<20:33,  2.23it/s]"
     ]
    },
    {
     "name": "stdout",
     "output_type": "stream",
     "text": [
      "-fKk-60y300IIQtHQjyPsVBRR1h7-6CsPbz_IT3Z7XSACi-bVJo95bvsoVgU9EtkiDO3iMHSdFQJpQ\n"
     ]
    },
    {
     "name": "stderr",
     "output_type": "stream",
     "text": [
      " 12%|█████████▏                                                                     | 365/3118 [07:25<27:01,  1.70it/s]"
     ]
    },
    {
     "name": "stdout",
     "output_type": "stream",
     "text": [
      "deGApJWjcaJuUTNw5wV0AUlrrya9DoEidKPvFV_-o4paN-fsCdWYnFySK-4o6W9987p2VKDesrxuug\n"
     ]
    },
    {
     "name": "stderr",
     "output_type": "stream",
     "text": [
      " 12%|█████████▎                                                                     | 366/3118 [07:26<28:28,  1.61it/s]"
     ]
    },
    {
     "name": "stdout",
     "output_type": "stream",
     "text": [
      "u-gYsdYuxdJYgRHwvGz3La-Bms8tSTwhy5xJPxcqxIGAb19Q4XCpBNEaVbVVq3353-gASncdXDakkQ\n"
     ]
    },
    {
     "name": "stderr",
     "output_type": "stream",
     "text": [
      " 12%|█████████▎                                                                     | 367/3118 [07:26<23:34,  1.94it/s]"
     ]
    },
    {
     "name": "stdout",
     "output_type": "stream",
     "text": [
      "FDPBj7mg9ZGjIhDtPT5J4HzisRih-NlQ5iTqhom8FofJ-jNNAYiIbQE_EAuz_Nd4jX2IsYsXFumZcw\n"
     ]
    },
    {
     "name": "stderr",
     "output_type": "stream",
     "text": [
      " 12%|█████████▎                                                                     | 368/3118 [07:26<19:56,  2.30it/s]"
     ]
    },
    {
     "name": "stdout",
     "output_type": "stream",
     "text": [
      "-ywBfXVh2YVJ250S-9t1fTGkvKzTOUTNM6LwwNl6w3UpiQGxB6UqFwQnirnapl4VTCRybK80YxLOOA\n"
     ]
    },
    {
     "name": "stderr",
     "output_type": "stream",
     "text": [
      " 12%|█████████▎                                                                     | 369/3118 [07:27<19:06,  2.40it/s]"
     ]
    },
    {
     "name": "stdout",
     "output_type": "stream",
     "text": [
      "704s_ZU3T5qa3bxMZGvr-EDndhP78WIokBCfnw2RT-aK4_HZK2xJuXuz7R5s9xu4G_FxcvO-LXQ7dw\n"
     ]
    },
    {
     "name": "stderr",
     "output_type": "stream",
     "text": [
      " 12%|█████████▎                                                                     | 370/3118 [07:27<16:51,  2.72it/s]"
     ]
    },
    {
     "name": "stdout",
     "output_type": "stream",
     "text": [
      "XH9uBPRz804fBE1wFHlha515oDKPj_UF8IX8N-TWKImm2ir8kwRlXl_6EUPJkH9R_wFdTjkB7WGclA\n"
     ]
    },
    {
     "name": "stderr",
     "output_type": "stream",
     "text": [
      " 12%|█████████▍                                                                     | 371/3118 [07:27<19:41,  2.33it/s]"
     ]
    },
    {
     "name": "stdout",
     "output_type": "stream",
     "text": [
      "_WmgrDNSeyGbHmRV79jTz_US3s6e_r5WH9zvn53HfAOewAiiSfmlH-Pv2FL8e03-R18sY2HoD1J4uA\n"
     ]
    },
    {
     "name": "stderr",
     "output_type": "stream",
     "text": [
      " 12%|█████████▍                                                                     | 372/3118 [07:28<22:11,  2.06it/s]"
     ]
    },
    {
     "name": "stdout",
     "output_type": "stream",
     "text": [
      "FpKEijm2p_YXfkQ2WvR08jpNAyqhSCi-kK7PscKLqYW99j-Pa7OvdAm_xSftnKZ30EvaBdWcrmcD3Q\n"
     ]
    },
    {
     "name": "stderr",
     "output_type": "stream",
     "text": [
      " 12%|█████████▍                                                                     | 373/3118 [07:28<19:01,  2.40it/s]"
     ]
    },
    {
     "name": "stdout",
     "output_type": "stream",
     "text": [
      "5SAFPgydBAj34ohxAPIv92IoCOyPvu04mKMJLwQE52pT_cHJUFY2gDISpg1mysTcGHJAzCYvgOja1g\n"
     ]
    },
    {
     "name": "stderr",
     "output_type": "stream",
     "text": [
      " 12%|█████████▍                                                                     | 374/3118 [07:28<16:34,  2.76it/s]"
     ]
    },
    {
     "name": "stdout",
     "output_type": "stream",
     "text": [
      "bHZ5IkHtnVUg2LotJaOQsVkdQzj47fzmVKnQGjFKWEZf03BrHjf-5ptSSNwJdhIjhtvqUSsDaAvAmQ\n"
     ]
    },
    {
     "name": "stderr",
     "output_type": "stream",
     "text": [
      " 12%|█████████▌                                                                     | 375/3118 [07:29<19:25,  2.35it/s]"
     ]
    },
    {
     "name": "stdout",
     "output_type": "stream",
     "text": [
      "TT-9WS-5COOK1elgFiMpE2JBav9dOgn_b934-KdYLOKM_nB47aMxBVgW1jI_pyj54PKVmxP0O21rpg\n"
     ]
    },
    {
     "name": "stderr",
     "output_type": "stream",
     "text": [
      " 12%|█████████▌                                                                     | 376/3118 [07:29<17:57,  2.55it/s]"
     ]
    },
    {
     "name": "stdout",
     "output_type": "stream",
     "text": [
      "3Ka8bmboXNTO44yTG35-l_OkzICXhqeUpm5uQwh3CGQUElWHh8myGv3wP3PLuMTN6yr5Vsg2pHjnaw\n"
     ]
    },
    {
     "name": "stderr",
     "output_type": "stream",
     "text": [
      " 12%|█████████▌                                                                     | 377/3118 [07:30<16:06,  2.84it/s]"
     ]
    },
    {
     "name": "stdout",
     "output_type": "stream",
     "text": [
      "KH_7kLNpDAalHb1d7XJ-TU7MNZ2jqFk01h5u2puZQWRoQ-_riKQhFn0eR-JTYB3vpv8txezLFp2WWw\n"
     ]
    },
    {
     "name": "stderr",
     "output_type": "stream",
     "text": [
      " 12%|█████████▌                                                                     | 378/3118 [07:30<18:29,  2.47it/s]"
     ]
    },
    {
     "name": "stdout",
     "output_type": "stream",
     "text": [
      "NDDLfMmZ4M76vhiz9YeQz2w48ZjTXA2LMP2XM_QYqugU386-UvF9-uy9d1oGHwbrnuAOGIYOws8KrQ\n"
     ]
    },
    {
     "name": "stderr",
     "output_type": "stream",
     "text": [
      " 12%|█████████▌                                                                     | 379/3118 [07:30<16:28,  2.77it/s]"
     ]
    },
    {
     "name": "stdout",
     "output_type": "stream",
     "text": [
      "FvwhIZv0wEb8VT9Yja9CKj91B-UtuUgSp8n5kAz5gQjdU4GldI4b2z1FckVA0ty5ihiSEyPbOXP3Ag\n"
     ]
    },
    {
     "name": "stderr",
     "output_type": "stream",
     "text": [
      " 12%|█████████▋                                                                     | 380/3118 [07:31<14:50,  3.07it/s]"
     ]
    },
    {
     "name": "stdout",
     "output_type": "stream",
     "text": [
      "0wm669vMjGVAejeoMzmXXPFmNOEmx0dNucRoSHTuU3gNcfJ400yZn1fwJ5ajEPVAHCuPKfR4Sb_cbA\n"
     ]
    },
    {
     "name": "stderr",
     "output_type": "stream",
     "text": [
      " 12%|█████████▋                                                                     | 381/3118 [07:31<13:48,  3.30it/s]"
     ]
    },
    {
     "name": "stdout",
     "output_type": "stream",
     "text": [
      "1jhFUnXsh2Tm7q6feL79Xqb-I2PKNBgl21_PWXQP2kefL1jfra_8yvn-fr8GJTcKdhlg5K8FZakwvw\n"
     ]
    },
    {
     "name": "stderr",
     "output_type": "stream",
     "text": [
      " 12%|█████████▋                                                                     | 382/3118 [07:31<13:41,  3.33it/s]"
     ]
    },
    {
     "name": "stdout",
     "output_type": "stream",
     "text": [
      "OteY3WHl3D6VVxVcrm4Mxbt0J2zv7yrBfbkImo4ccOVff0jEZ8x1fx-A-l86rrkXzX_7Yl250l7kRA\n"
     ]
    },
    {
     "name": "stderr",
     "output_type": "stream",
     "text": [
      " 12%|█████████▋                                                                     | 383/3118 [07:31<13:28,  3.38it/s]"
     ]
    },
    {
     "name": "stdout",
     "output_type": "stream",
     "text": [
      "TcvZjn0k6Z0Ct_Ndw_eRU8ju3l1v6UtDinOiOR3eGwsIWt7HPOx-dgNFKcSQpKBL9-qwi3dYbe7PMg\n"
     ]
    },
    {
     "name": "stderr",
     "output_type": "stream",
     "text": [
      " 12%|█████████▋                                                                     | 384/3118 [07:32<14:42,  3.10it/s]"
     ]
    },
    {
     "name": "stdout",
     "output_type": "stream",
     "text": [
      "WzgPd-tF_iVjtiDfQ3kixb4a_gozuTYc_OR3LVWaBpW4yqEC7utqPCzWbOyXKNxh6PIiElW3S9UBRg\n"
     ]
    },
    {
     "name": "stderr",
     "output_type": "stream",
     "text": [
      " 12%|█████████▊                                                                     | 385/3118 [07:32<13:59,  3.26it/s]"
     ]
    },
    {
     "name": "stdout",
     "output_type": "stream",
     "text": [
      "y7OlJEvhpVfkr57pPTZIm7FcwyTTMk65NuaNYzbeJMzVq1ktAfTdPHcBLfn5lMHY70avuoma7bHxHA\n"
     ]
    },
    {
     "name": "stderr",
     "output_type": "stream",
     "text": [
      " 12%|█████████▊                                                                     | 386/3118 [07:33<15:38,  2.91it/s]"
     ]
    },
    {
     "name": "stdout",
     "output_type": "stream",
     "text": [
      "VfsIieqD7DDJNKJq3KceYSmlQYdj90lHXrhlBdtv8q6W-dNX8PgHhEjWwuJxhycAhoQReNj2OUD2bw\n"
     ]
    },
    {
     "name": "stderr",
     "output_type": "stream",
     "text": [
      " 12%|█████████▊                                                                     | 387/3118 [07:33<14:38,  3.11it/s]"
     ]
    },
    {
     "name": "stdout",
     "output_type": "stream",
     "text": [
      "ehuTuogBsfl7P_YVyItdUyS2LIDX8u_VbvHNz-4tkYyr9--YJlZ8u5Rq9_JwV1X4RJULXHi9BKVy1Q\n"
     ]
    },
    {
     "name": "stderr",
     "output_type": "stream",
     "text": [
      " 12%|█████████▊                                                                     | 388/3118 [07:34<19:39,  2.31it/s]"
     ]
    },
    {
     "name": "stdout",
     "output_type": "stream",
     "text": [
      "8gFjVMINuDWVJAgOxG7tapb_iIiaf-DLwVCX0QMFyxN7Uijfi39JVwgNHMoyrAnmj8K3n98Z3H88lA\n"
     ]
    },
    {
     "name": "stderr",
     "output_type": "stream",
     "text": [
      " 12%|█████████▊                                                                     | 389/3118 [07:34<24:48,  1.83it/s]"
     ]
    },
    {
     "name": "stdout",
     "output_type": "stream",
     "text": [
      "S8dYtHRyFdqJZwGYCqu96mioqXB-bh5Bczd5gktsM7hLtU3DtBLRMnwLcFQ6ouexDbo8KDYeVJacfg\n"
     ]
    },
    {
     "name": "stderr",
     "output_type": "stream",
     "text": [
      " 13%|█████████▉                                                                     | 390/3118 [07:35<20:43,  2.19it/s]"
     ]
    },
    {
     "name": "stdout",
     "output_type": "stream",
     "text": [
      "w2BK6LwISIcRhaTNK3dpknvAvM7OBhY5LP4_LfyN2XIFlTK3j7cryJhJ1QJqOUC-tDo2xYTAE-q7bw\n"
     ]
    },
    {
     "name": "stderr",
     "output_type": "stream",
     "text": [
      " 13%|█████████▉                                                                     | 391/3118 [07:35<19:27,  2.34it/s]"
     ]
    },
    {
     "name": "stdout",
     "output_type": "stream",
     "text": [
      "Hd4jInJkMIIzWVxQjK9eKoTPE2Nm37S_s_e-y0F__fmhtZzv8FgdssxE_YeDxKy13SoHsJqZCUbxjw\n"
     ]
    },
    {
     "name": "stderr",
     "output_type": "stream",
     "text": [
      " 13%|█████████▉                                                                     | 392/3118 [07:35<19:24,  2.34it/s]"
     ]
    },
    {
     "name": "stdout",
     "output_type": "stream",
     "text": [
      "NQ645jXUp9KsEH-Lehv6w7AkskglvwFxG4Qyo9_xrrXjrhrczGQR43k6qtd3Wj29w-XMpsBJgWId-w\n"
     ]
    },
    {
     "name": "stderr",
     "output_type": "stream",
     "text": [
      " 13%|█████████▉                                                                     | 393/3118 [07:36<16:56,  2.68it/s]"
     ]
    },
    {
     "name": "stdout",
     "output_type": "stream",
     "text": [
      "dHQrM6etqPGKacq5XSO5kgZ4d96L9Ap_WexpUAjfpFPkCIxwUUqsS9V41jBLk_lO8S0b40nJQ76xuQ\n"
     ]
    },
    {
     "name": "stderr",
     "output_type": "stream",
     "text": [
      " 13%|█████████▉                                                                     | 394/3118 [07:36<15:27,  2.94it/s]"
     ]
    },
    {
     "name": "stdout",
     "output_type": "stream",
     "text": [
      "L5WvEG545jIjcsfBnnbuU4mBdWx6UkAiE2oaSFRozcQBEm41bqKiDpHLFU1KTCm931ZRsGuWdxEAjw\n"
     ]
    },
    {
     "name": "stderr",
     "output_type": "stream",
     "text": [
      " 13%|██████████                                                                     | 395/3118 [07:36<15:51,  2.86it/s]"
     ]
    },
    {
     "name": "stdout",
     "output_type": "stream",
     "text": [
      "fGyoptJD32gUaQWmCx7uiY8oTMJiJ3AMTw2iPJEC_wzF8-K-se6JGc6ptEK-zlR4BbMKu-jpfJnVjA\n"
     ]
    },
    {
     "name": "stderr",
     "output_type": "stream",
     "text": [
      " 13%|██████████                                                                     | 396/3118 [07:37<16:17,  2.78it/s]"
     ]
    },
    {
     "name": "stdout",
     "output_type": "stream",
     "text": [
      "FRxFR9z9pv-aVsOyNSvMIlpcH8vRC84m9QuKyIwCrKitVXwRwQ2YM0HgHIVz3k4SSB1sHLd-oliHxw\n"
     ]
    },
    {
     "name": "stderr",
     "output_type": "stream",
     "text": [
      " 13%|██████████                                                                     | 397/3118 [07:37<15:37,  2.90it/s]"
     ]
    },
    {
     "name": "stdout",
     "output_type": "stream",
     "text": [
      "HkoMy2iWi6B3ZGjs3piwtM5Ou9rpWUfTBpukAM0gU_xUq--kp10A2wfqhh9pIKjIAZkPMhR5VnAUwg\n"
     ]
    },
    {
     "name": "stderr",
     "output_type": "stream",
     "text": [
      " 13%|██████████                                                                     | 398/3118 [07:37<14:25,  3.14it/s]"
     ]
    },
    {
     "name": "stdout",
     "output_type": "stream",
     "text": [
      "-7quJ2Yg53vrVbTMxYjJUcDLF0Sl4VFsqY5036tdZYIv2W6U0DUAjRZQ-ZsvOYXjVU_c-72BXgG6Mg\n"
     ]
    },
    {
     "name": "stderr",
     "output_type": "stream",
     "text": [
      " 13%|██████████                                                                     | 399/3118 [07:38<14:26,  3.14it/s]"
     ]
    },
    {
     "name": "stdout",
     "output_type": "stream",
     "text": [
      "OdOxkSibL_cq16N48XBOIF9Nu1c3nh2rc7B7ih1uISXRbNw5HER46o4-1zfpCeh0dBA_rjyhJ91iew\n"
     ]
    },
    {
     "name": "stderr",
     "output_type": "stream",
     "text": [
      " 13%|██████████▏                                                                    | 400/3118 [07:38<14:04,  3.22it/s]"
     ]
    },
    {
     "name": "stdout",
     "output_type": "stream",
     "text": [
      "xI4FkZnLz9sCIzdOdzhTc-5d9QcXO8TogNLnMttKTy9iIB0SIhd_lOIHca6glyu1ev7YDjHWSJhBGw\n"
     ]
    },
    {
     "name": "stderr",
     "output_type": "stream",
     "text": [
      " 13%|██████████▏                                                                    | 401/3118 [07:38<13:19,  3.40it/s]"
     ]
    },
    {
     "name": "stdout",
     "output_type": "stream",
     "text": [
      "W0WyrBiCcehlMXXLAVQn1DmkIyNj6oxeamv33VjF2ldU8TkID1qLYqBmq8aFCLR60Npi-v3WZurNbA\n"
     ]
    },
    {
     "name": "stderr",
     "output_type": "stream",
     "text": [
      " 13%|██████████▏                                                                    | 402/3118 [07:39<15:30,  2.92it/s]"
     ]
    },
    {
     "name": "stdout",
     "output_type": "stream",
     "text": [
      "sqfcFcT7gI2T8oFBmbQbAwlWyDJSV5phQEi30_EsECA3_vrRWSqr8STIv1bZi7ZDySItIG9LBzYgNA\n"
     ]
    },
    {
     "name": "stderr",
     "output_type": "stream",
     "text": [
      " 13%|██████████▏                                                                    | 403/3118 [07:39<15:00,  3.02it/s]"
     ]
    },
    {
     "name": "stdout",
     "output_type": "stream",
     "text": [
      "WHCBCCayQYLAWFE_VMMRQ3I6XN6fugiyyGXAtdRkK3X7cp-0ouAzfkH-rOujDXepOZ5Q837AP1g9Fw\n"
     ]
    },
    {
     "name": "stderr",
     "output_type": "stream",
     "text": [
      " 13%|██████████▏                                                                    | 404/3118 [07:39<14:31,  3.11it/s]"
     ]
    },
    {
     "name": "stdout",
     "output_type": "stream",
     "text": [
      "ZIKexKKrCtn9orJ6yaVlhXqbxyLO2_IdBkyZ-qx9bplchVLcp_XDKCPimUP1-3Sple75CbnKV_wcow\n"
     ]
    },
    {
     "name": "stderr",
     "output_type": "stream",
     "text": [
      " 13%|██████████▎                                                                    | 405/3118 [07:39<14:39,  3.09it/s]"
     ]
    },
    {
     "name": "stdout",
     "output_type": "stream",
     "text": [
      "hfSCu-syXHfY8e8sFBDp8ePMG9RirWb6_E0pBTC-9SHFabB3LSq9HkQR8FEcqPHBT6yyXl4Q8CtPKw\n"
     ]
    },
    {
     "name": "stderr",
     "output_type": "stream",
     "text": [
      " 13%|██████████▎                                                                    | 406/3118 [07:40<13:33,  3.33it/s]"
     ]
    },
    {
     "name": "stdout",
     "output_type": "stream",
     "text": [
      "u7zv2kCvBWozqdMO0ALgy0EBfWO2mXXj86pxdjYmB6GIaHyUkLK9DxLigC01VjkhF1jfMOpHbBlxew\n"
     ]
    },
    {
     "name": "stderr",
     "output_type": "stream",
     "text": [
      " 13%|██████████▎                                                                    | 407/3118 [07:40<12:59,  3.48it/s]"
     ]
    },
    {
     "name": "stdout",
     "output_type": "stream",
     "text": [
      "DfDFTp1hBk82Gs19bsop9Yp2uHmrzEyN4XduJhKJNwgw5n0To_CmaduFx6LNsd7hcb6mjoPMQzI71g\n"
     ]
    },
    {
     "name": "stderr",
     "output_type": "stream",
     "text": [
      " 13%|██████████▎                                                                    | 408/3118 [07:40<13:48,  3.27it/s]"
     ]
    },
    {
     "name": "stdout",
     "output_type": "stream",
     "text": [
      "Ef071iBO-U_vSM_ispOoweWmll0pvCbcwk1xYF7MnxDDKUIVyRN4sMvcFiyOVLJqnNNQj2IhsyLubA\n"
     ]
    },
    {
     "name": "stderr",
     "output_type": "stream",
     "text": [
      " 13%|██████████▎                                                                    | 409/3118 [07:41<13:07,  3.44it/s]"
     ]
    },
    {
     "name": "stdout",
     "output_type": "stream",
     "text": [
      "sqYI4CrQTOTVlDAKww9x6HIK2qiD-cOuslETwdffvtzZvy53YD9G6VAT_BaOcPy7z5zxIJ9BwpHeJQ\n"
     ]
    },
    {
     "name": "stderr",
     "output_type": "stream",
     "text": [
      " 13%|██████████▍                                                                    | 410/3118 [07:41<13:38,  3.31it/s]"
     ]
    },
    {
     "name": "stdout",
     "output_type": "stream",
     "text": [
      "9UqLYatPPZFw-WukQeOJUDoTPXGcUmNIAqxB_VT1rWYWGPwZO5MyXRnVK0Jk8YXVI0Jmzc1Fa9BySQ\n"
     ]
    },
    {
     "name": "stderr",
     "output_type": "stream",
     "text": [
      " 13%|██████████▍                                                                    | 411/3118 [07:41<13:22,  3.37it/s]"
     ]
    },
    {
     "name": "stdout",
     "output_type": "stream",
     "text": [
      "sqmo2-1T03mWC8WgrP9I9h06s_muVPolAy3rLGdw_zJ9oRu4g4P1CSbJ9tkq45_jvfPqzTj1PA120A\n"
     ]
    },
    {
     "name": "stderr",
     "output_type": "stream",
     "text": [
      " 13%|██████████▍                                                                    | 412/3118 [07:42<14:30,  3.11it/s]"
     ]
    },
    {
     "name": "stdout",
     "output_type": "stream",
     "text": [
      "ITTADOy6s7G6oj8k4F3cv5tNaSzukXy7HmVQd4b1Sd3lf04zlnAFHpoKnMnZEcDy5OxNT9XbrMZB7g\n",
      "api cost full : infinite loop start\n",
      "loop location :  2IPRHYy77LfopT0eamP8nRoeuLLPOx7GPffU5A5KfU5GFxc\n",
      "try 10 second wait time\n",
      "429\n",
      "try 10 second wait time\n",
      "429\n",
      "try 10 second wait time\n",
      "429\n",
      "try 10 second wait time\n",
      "429\n",
      "try 10 second wait time\n",
      "429\n",
      "try 10 second wait time\n",
      "429\n",
      "try 10 second wait time\n",
      "429\n",
      "try 10 second wait time\n",
      "429\n",
      "try 10 second wait time\n"
     ]
    },
    {
     "name": "stderr",
     "output_type": "stream",
     "text": [
      " 13%|██████████                                                                  | 413/3118 [09:14<21:02:26, 28.00s/it]"
     ]
    },
    {
     "name": "stdout",
     "output_type": "stream",
     "text": [
      "200\n",
      "total wait time :  92.36976051330566\n",
      "recovery api cost\n",
      "bieTloHuNZfMJmAn8YYuXBmQbWUHjBKkAbq8S5aGYXH2M3j4gPhDlPWA-F2pZOonICnEglbvjgoirw\n"
     ]
    },
    {
     "name": "stderr",
     "output_type": "stream",
     "text": [
      " 13%|██████████                                                                  | 414/3118 [09:14<14:47:06, 19.68s/it]"
     ]
    },
    {
     "name": "stdout",
     "output_type": "stream",
     "text": [
      "oWt-yA69Zz8DiaFxuMw5midWjSB62_FsknthMGq4vJtuQYhtN9WHBzJ_SwE4CQEVTDwldRgj0fYjHA\n"
     ]
    },
    {
     "name": "stderr",
     "output_type": "stream",
     "text": [
      " 13%|██████████                                                                  | 415/3118 [09:15<10:24:02, 13.85s/it]"
     ]
    },
    {
     "name": "stdout",
     "output_type": "stream",
     "text": [
      "4rHr7x3xGzGMe_l1p4wHQwR0CdPNROl-BtrG6vCV6fXiGGuXFCtNOgFbiLIiTxOyGREn__ooCe8iyQ\n"
     ]
    },
    {
     "name": "stderr",
     "output_type": "stream",
     "text": [
      " 13%|██████████▎                                                                  | 416/3118 [09:15<7:20:01,  9.77s/it]"
     ]
    },
    {
     "name": "stdout",
     "output_type": "stream",
     "text": [
      "6m16CdiOG9bckVKITJy0qwHTfnDJ0UQuiwJeaYdr2B3rZJwhbxRRUPHA4BqlFqNBnASOIc1LbwISBg\n"
     ]
    },
    {
     "name": "stderr",
     "output_type": "stream",
     "text": [
      " 13%|██████████▎                                                                  | 417/3118 [09:15<5:13:36,  6.97s/it]"
     ]
    },
    {
     "name": "stdout",
     "output_type": "stream",
     "text": [
      "JpBELF1Ha95Zlspj3AG-hZvh0n2KrrLiFaPb1VQShQAWoTsaLwd7hn5KqTMN571lhz0XQnfcTe0QpQ\n"
     ]
    },
    {
     "name": "stderr",
     "output_type": "stream",
     "text": [
      " 13%|██████████▎                                                                  | 418/3118 [09:16<3:42:45,  4.95s/it]"
     ]
    },
    {
     "name": "stdout",
     "output_type": "stream",
     "text": [
      "VC-K2PYFuYqKTMXRDNqyxxoB0aOIz4qAbjoTGnPqc93r3_TQ_ap0kQSOQ_mRKlZY-nPKf0jwDlkRjA\n"
     ]
    },
    {
     "name": "stderr",
     "output_type": "stream",
     "text": [
      " 13%|██████████▎                                                                  | 419/3118 [09:16<2:39:25,  3.54s/it]"
     ]
    },
    {
     "name": "stdout",
     "output_type": "stream",
     "text": [
      "hjn49JHAjXYHb0bABMitxNrc7puj_Au5mz3yDTBji-u-k5hU5oHOHAjHqNzSUREyNxp8D9jP83SJQQ\n"
     ]
    },
    {
     "name": "stderr",
     "output_type": "stream",
     "text": [
      " 13%|██████████▎                                                                  | 420/3118 [09:16<1:55:02,  2.56s/it]"
     ]
    },
    {
     "name": "stdout",
     "output_type": "stream",
     "text": [
      "u0Pb36IsoKTrtqT1BbRS0L2-IE4w_paWv5_XIr931zgjiNIPlkX3EksQiooI505UlNiC4rhnWm3sXg\n"
     ]
    },
    {
     "name": "stderr",
     "output_type": "stream",
     "text": [
      " 14%|██████████▍                                                                  | 421/3118 [09:16<1:23:52,  1.87s/it]"
     ]
    },
    {
     "name": "stdout",
     "output_type": "stream",
     "text": [
      "cycjAtDWDdd1WKXOfAryqZtNpEfir_KLhQuxJ5QYbU7WXyx2akBP74NTObkRLBU7Lh8_uxDMX79fFw\n"
     ]
    },
    {
     "name": "stderr",
     "output_type": "stream",
     "text": [
      " 14%|██████████▍                                                                  | 422/3118 [09:17<1:01:58,  1.38s/it]"
     ]
    },
    {
     "name": "stdout",
     "output_type": "stream",
     "text": [
      "sdQpikvRAdw5eKHbXiIQfe8L3e6nCUuwqEsN-oqwH3PBr0ksnx06pjdO2TU1pTlGZ-RgvxLXhYlVMg\n"
     ]
    },
    {
     "name": "stderr",
     "output_type": "stream",
     "text": [
      " 14%|██████████▋                                                                    | 423/3118 [09:17<46:37,  1.04s/it]"
     ]
    },
    {
     "name": "stdout",
     "output_type": "stream",
     "text": [
      "Gpcyxdb4cwcG5YobbkjBzpRAZhxJiNDQBaBGxcwwbyr2Xc-T0ZmdJwlML19Csn7q8EYiU7zKLCRwWA\n"
     ]
    },
    {
     "name": "stderr",
     "output_type": "stream",
     "text": [
      " 14%|██████████▋                                                                    | 424/3118 [09:17<36:21,  1.23it/s]"
     ]
    },
    {
     "name": "stdout",
     "output_type": "stream",
     "text": [
      "vp-whNWh14f6HYdZascGlJUqt4xgh6XhzoAvRPJoO7M-cMSdknob4nK7Ks5s86lpAvdkBdFZ773ISw\n"
     ]
    },
    {
     "name": "stderr",
     "output_type": "stream",
     "text": [
      " 14%|██████████▊                                                                    | 425/3118 [09:17<28:47,  1.56it/s]"
     ]
    },
    {
     "name": "stdout",
     "output_type": "stream",
     "text": [
      "67KG_skhTydjsHiQ35T6lQfdAidCPNNbO5hl_OTn92xd7qGuzfDfgdI0GXZmXaw4BTQ_0XkHnD8vRA\n"
     ]
    },
    {
     "name": "stderr",
     "output_type": "stream",
     "text": [
      " 14%|██████████▊                                                                    | 426/3118 [09:18<29:37,  1.51it/s]"
     ]
    },
    {
     "name": "stdout",
     "output_type": "stream",
     "text": [
      "BZGgwOdZ1Smt3_fwa2VBmT_MvxaigJlHex9v_LgIAbs05ZctRf4LT-aiG3C1-51DgCtwx4mFQQXvXw\n"
     ]
    },
    {
     "name": "stderr",
     "output_type": "stream",
     "text": [
      " 14%|██████████▊                                                                    | 427/3118 [09:18<24:20,  1.84it/s]"
     ]
    },
    {
     "name": "stdout",
     "output_type": "stream",
     "text": [
      "zW-xf28ADvrWi4OAs_cI_nN8Y_oHozP8n89zUKL3fM0Spl_I9lnI4QCTVrxv6L-mftrRHzdq-40Smg\n"
     ]
    },
    {
     "name": "stderr",
     "output_type": "stream",
     "text": [
      " 14%|██████████▊                                                                    | 428/3118 [09:19<22:09,  2.02it/s]"
     ]
    },
    {
     "name": "stdout",
     "output_type": "stream",
     "text": [
      "CT9IV_bX3YNZ9tPc9ymhqhRKLEpwtFwMTaifMX0-GnuOt5xCY32vD86g0zHMlDtH_RlwRbwB1kYU2w\n"
     ]
    },
    {
     "name": "stderr",
     "output_type": "stream",
     "text": [
      " 14%|██████████▊                                                                    | 429/3118 [09:19<19:03,  2.35it/s]"
     ]
    },
    {
     "name": "stdout",
     "output_type": "stream",
     "text": [
      "YeyYjVsGOsjdZFSuGSdXm8x0Ttg-aFclrokm3DOvbrO-MpXAajn-Yzm4DsqTs5-H1kpJQJctZ0BRdQ\n"
     ]
    },
    {
     "name": "stderr",
     "output_type": "stream",
     "text": [
      " 14%|██████████▉                                                                    | 430/3118 [09:19<16:47,  2.67it/s]"
     ]
    },
    {
     "name": "stdout",
     "output_type": "stream",
     "text": [
      "ywJ824UAOwGrrI17I0zKWZuESUuZg7KXhN6QBcNfft55vdnnJPZ52EhFr4AWAptAMHZIZqbldGCVlA\n"
     ]
    },
    {
     "name": "stderr",
     "output_type": "stream",
     "text": [
      " 14%|██████████▉                                                                    | 431/3118 [09:20<17:15,  2.60it/s]"
     ]
    },
    {
     "name": "stdout",
     "output_type": "stream",
     "text": [
      "i_mI4VsaYNP15l-obSqQaW-4QdDyrlzaCjbCcQ0kdOd7C3Pzn6MSCSBTH8A7VBrsnVSeK0hxz4701w\n"
     ]
    },
    {
     "name": "stderr",
     "output_type": "stream",
     "text": [
      " 14%|██████████▉                                                                    | 432/3118 [09:20<15:19,  2.92it/s]"
     ]
    },
    {
     "name": "stdout",
     "output_type": "stream",
     "text": [
      "dxe7b3NOS6g8P7BgnVGsSB6fPjdxAdvdQfaVVYE_Mr8XrST2kdhS-36uj7sq8Yk8yqBQ4DMtpDpP1w\n"
     ]
    },
    {
     "name": "stderr",
     "output_type": "stream",
     "text": [
      " 14%|██████████▉                                                                    | 433/3118 [09:20<14:04,  3.18it/s]"
     ]
    },
    {
     "name": "stdout",
     "output_type": "stream",
     "text": [
      "uG7iulkVCsigeNmBB-LPPzxteYtGJATD846ks5xw4nttUVUQZqmDSbkI-Ginv4n9ytQONFefz34zEg\n"
     ]
    },
    {
     "name": "stderr",
     "output_type": "stream",
     "text": [
      " 14%|██████████▉                                                                    | 434/3118 [09:20<13:35,  3.29it/s]"
     ]
    },
    {
     "name": "stdout",
     "output_type": "stream",
     "text": [
      "AGH5LQKrP53tTh4kb3xSrExEXvsJrzejWYde8Iu1KyrLiVRO4t0lzSnHzTSlkTvaLXpi0IL7ULXj5w\n"
     ]
    },
    {
     "name": "stderr",
     "output_type": "stream",
     "text": [
      " 14%|███████████                                                                    | 435/3118 [09:21<13:21,  3.35it/s]"
     ]
    },
    {
     "name": "stdout",
     "output_type": "stream",
     "text": [
      "JDl7AahcYiO7M1h0gFrr9zfdaPOdBklMj_dXvALtQnnYEuH7iVDFuUlq7Q1mBLBKdYVho4SvPTHO0A\n"
     ]
    },
    {
     "name": "stderr",
     "output_type": "stream",
     "text": [
      " 14%|███████████                                                                    | 436/3118 [09:21<12:37,  3.54it/s]"
     ]
    },
    {
     "name": "stdout",
     "output_type": "stream",
     "text": [
      "q9brmf75hqCsEmPVTtdHB3aQ1s4Xhg65HC9uj3OpwjER-_1-XdiYppbN-S3RGRAa1qsi0mgaHmnJ6Q\n"
     ]
    },
    {
     "name": "stderr",
     "output_type": "stream",
     "text": [
      " 14%|███████████                                                                    | 437/3118 [09:21<12:11,  3.67it/s]"
     ]
    },
    {
     "name": "stdout",
     "output_type": "stream",
     "text": [
      "YRtc4xkFvAPaDcX8jcyUVaI3hrSoR8XmA9BXm4_Q5OCRKs5DlVGR9mlhwRXF3Os51OlATMN-m96KaQ\n"
     ]
    },
    {
     "name": "stderr",
     "output_type": "stream",
     "text": [
      " 14%|███████████                                                                    | 438/3118 [09:22<13:38,  3.28it/s]"
     ]
    },
    {
     "name": "stdout",
     "output_type": "stream",
     "text": [
      "zAcH4o4IhHro8zp3r4KdOfQVzYvokisFupN-_OBVEWaD6PhUy0ZRkXATzkmHIgGCBtZGndabNt6YjQ\n"
     ]
    },
    {
     "name": "stderr",
     "output_type": "stream",
     "text": [
      " 14%|███████████                                                                    | 439/3118 [09:22<13:43,  3.25it/s]"
     ]
    },
    {
     "name": "stdout",
     "output_type": "stream",
     "text": [
      "AS-O4GLHYstcHDvu2z7Ws4OOt-A1PBwyZavf5rv4bvX6Ob9jbMA5ephLxjaFEU-WREZfT3RKMWuR4Q\n"
     ]
    },
    {
     "name": "stderr",
     "output_type": "stream",
     "text": [
      " 14%|███████████▏                                                                   | 440/3118 [09:22<12:58,  3.44it/s]"
     ]
    },
    {
     "name": "stdout",
     "output_type": "stream",
     "text": [
      "K8K5ubNSB_91KGDAXsNtltml8P5qMex3z2rIDr1a8pvVx8hTEoGpLWzV6oYk7ooYjQbIo0OFPu-uVQ\n"
     ]
    },
    {
     "name": "stderr",
     "output_type": "stream",
     "text": [
      " 14%|███████████▏                                                                   | 441/3118 [09:22<12:28,  3.58it/s]"
     ]
    },
    {
     "name": "stdout",
     "output_type": "stream",
     "text": [
      "1Dhgjk0gk3VVVp2H1U2A1NtuhwCHBNw56u-nMReedO11hOzDYL4RfW4fjiplT7Zdn5UyV4gsP5kOIA\n"
     ]
    },
    {
     "name": "stderr",
     "output_type": "stream",
     "text": [
      " 14%|███████████▏                                                                   | 442/3118 [09:23<13:35,  3.28it/s]"
     ]
    },
    {
     "name": "stdout",
     "output_type": "stream",
     "text": [
      "x6nbUneeGP2WAADAUPFilHDZeQ8wgoD1LBCArnw-xT20I2UyuKhnDQrKqkrS8uKtOVUQ8ZyNDImkfA\n"
     ]
    },
    {
     "name": "stderr",
     "output_type": "stream",
     "text": [
      " 14%|███████████▏                                                                   | 443/3118 [09:23<12:48,  3.48it/s]"
     ]
    },
    {
     "name": "stdout",
     "output_type": "stream",
     "text": [
      "aL9kMClZPaXUjfRXeGLuzZNAuQY-Bqnfbi9dQBfoS_mvRC183g79awkU8so_DV6MsO-L4-YxEURO4A\n"
     ]
    },
    {
     "name": "stderr",
     "output_type": "stream",
     "text": [
      " 14%|███████████▏                                                                   | 444/3118 [09:23<12:31,  3.56it/s]"
     ]
    },
    {
     "name": "stdout",
     "output_type": "stream",
     "text": [
      "MFz8mlEgOAPrJPj972Qvf-_rHmAgn68c0QUWFyFL4sUmdmvII6KVeJPGk9DRvFCEiOR3Nj10HiyWTQ\n"
     ]
    },
    {
     "name": "stderr",
     "output_type": "stream",
     "text": [
      " 14%|███████████▎                                                                   | 445/3118 [09:24<12:12,  3.65it/s]"
     ]
    },
    {
     "name": "stdout",
     "output_type": "stream",
     "text": [
      "rlYlezKS4WISmXvs7sH9IezDIKzIW7SnCNuhoXWh2QCegLg0Y8h9sqMXRCiLFPDjAA8nojdLob88mQ\n"
     ]
    },
    {
     "name": "stderr",
     "output_type": "stream",
     "text": [
      " 14%|███████████▎                                                                   | 446/3118 [09:24<13:12,  3.37it/s]"
     ]
    },
    {
     "name": "stdout",
     "output_type": "stream",
     "text": [
      "KVtNcfZQV2kb7D6lE1J1MngQrVo92zkqLdvFzPXZIugFTYf4O13RlxJ91xf4Fl65IXOdLM42NVpngA\n"
     ]
    },
    {
     "name": "stderr",
     "output_type": "stream",
     "text": [
      " 14%|███████████▎                                                                   | 447/3118 [09:24<13:54,  3.20it/s]"
     ]
    },
    {
     "name": "stdout",
     "output_type": "stream",
     "text": [
      "ZWtCX4lSeOQkhpqGkuMMYP5NixONt75Rlou24homj-jmUYbipr_Hoc27dWtvW7U4lFXZ05Db2giaqA\n"
     ]
    },
    {
     "name": "stderr",
     "output_type": "stream",
     "text": [
      " 14%|███████████▎                                                                   | 448/3118 [09:24<13:17,  3.35it/s]"
     ]
    },
    {
     "name": "stdout",
     "output_type": "stream",
     "text": [
      "VmdGq03EIJztG2TM8ATMEryVuVxaOFlyrofzpCYorfZHwDwVGpvwEJgru50apUo9tDx8OTiVUocC_g\n"
     ]
    },
    {
     "name": "stderr",
     "output_type": "stream",
     "text": [
      " 14%|███████████▍                                                                   | 449/3118 [09:25<12:51,  3.46it/s]"
     ]
    },
    {
     "name": "stdout",
     "output_type": "stream",
     "text": [
      "h7D3k7SH3xElioOVvrupufaTa-ffOlF07PyuNyVOGt1CdB7Kck-4HHXNMhaXgew98dRhPu7gTsm7qQ\n"
     ]
    },
    {
     "name": "stderr",
     "output_type": "stream",
     "text": [
      " 14%|███████████▍                                                                   | 450/3118 [09:25<12:48,  3.47it/s]"
     ]
    },
    {
     "name": "stdout",
     "output_type": "stream",
     "text": [
      "p07I6I5bV4kuZCQ7R91MVVr9nybmau4BEejccQK1vl4HkHpT7AWLQvS6_oohp2JesA1ibmpIcSxBQg\n"
     ]
    },
    {
     "name": "stderr",
     "output_type": "stream",
     "text": [
      " 14%|███████████▍                                                                   | 451/3118 [09:25<12:26,  3.57it/s]"
     ]
    },
    {
     "name": "stdout",
     "output_type": "stream",
     "text": [
      "xkjC-qz45M_WchsVFdoeov9CtqbSh-oPmHzg65pUvWflDJHIiLdD3--AhwkFOBaJZupgilIUOvG-7A\n"
     ]
    },
    {
     "name": "stderr",
     "output_type": "stream",
     "text": [
      " 14%|███████████▍                                                                   | 452/3118 [09:26<12:44,  3.49it/s]"
     ]
    },
    {
     "name": "stdout",
     "output_type": "stream",
     "text": [
      "uH7KdhCuTEfhNA5WHZT8lhtzG0dpfLq69FjKjAZVhlkrQUHO429OLvWLH3WxUNQF7SG83mXmcu6XDg\n"
     ]
    },
    {
     "name": "stderr",
     "output_type": "stream",
     "text": [
      " 15%|███████████▍                                                                   | 453/3118 [09:26<12:22,  3.59it/s]"
     ]
    },
    {
     "name": "stdout",
     "output_type": "stream",
     "text": [
      "dRegWr97zmfsmgcnqzD0ST7I5waxs0dKnq2upqw3tsiXczHM4lmD7zdOJE51CxLCP6WN-yXY2un0DA\n"
     ]
    },
    {
     "name": "stderr",
     "output_type": "stream",
     "text": [
      " 15%|███████████▌                                                                   | 454/3118 [09:26<12:28,  3.56it/s]"
     ]
    },
    {
     "name": "stdout",
     "output_type": "stream",
     "text": [
      "374iR0FJhPmj1db0tIeR1yzPso5dFjvj0cVbo8GHOAT35tAfr8OYWQFc7z9wjcYxTu768yryElddrA\n"
     ]
    },
    {
     "name": "stderr",
     "output_type": "stream",
     "text": [
      " 15%|███████████▌                                                                   | 455/3118 [09:26<12:51,  3.45it/s]"
     ]
    },
    {
     "name": "stdout",
     "output_type": "stream",
     "text": [
      "MZw0o6kJKIBst_FZcB9AX7vt03HijZCpUy2jh1D2JHopC-4Uiv_mszhI5eWuKIhK8RjpcvpHEVaXYg\n"
     ]
    },
    {
     "name": "stderr",
     "output_type": "stream",
     "text": [
      " 15%|███████████▌                                                                   | 456/3118 [09:27<12:45,  3.48it/s]"
     ]
    },
    {
     "name": "stdout",
     "output_type": "stream",
     "text": [
      "KQ7Ktp5qC0HH9kP1aWBf1_8PasxfC-5DQ3jUbvwe4Cb0rxdo8-MCBPYponl1P7ZW9CiZZCdoYnBGng\n"
     ]
    },
    {
     "name": "stderr",
     "output_type": "stream",
     "text": [
      " 15%|███████████▌                                                                   | 457/3118 [09:27<12:51,  3.45it/s]"
     ]
    },
    {
     "name": "stdout",
     "output_type": "stream",
     "text": [
      "C7jq8F1Bhs4jfWmhvLvEqciH28YNjM7U_RYQSMc6d8ZZ-ny8JM7wFWDA78zqBeU4Y16sHBRvCaeUDA\n"
     ]
    },
    {
     "name": "stderr",
     "output_type": "stream",
     "text": [
      " 15%|███████████▌                                                                   | 458/3118 [09:27<12:46,  3.47it/s]"
     ]
    },
    {
     "name": "stdout",
     "output_type": "stream",
     "text": [
      "A-PaQRCSehzSuuAtSDNPVxy0UzHaJD6UmkwurT4x7NL6JYh7o32YTqb1uyF2IgF38OQd_HdvH16KYQ\n"
     ]
    },
    {
     "name": "stderr",
     "output_type": "stream",
     "text": [
      " 15%|███████████▋                                                                   | 459/3118 [09:28<12:12,  3.63it/s]"
     ]
    },
    {
     "name": "stdout",
     "output_type": "stream",
     "text": [
      "RtrG2gYwjDMghDr3UNhUbNeroaQOJU1eC2IyNyaMgq5eX-D1dqnr0MGrxlkw_0Ikdtw5EDMxXj_neQ\n"
     ]
    },
    {
     "name": "stderr",
     "output_type": "stream",
     "text": [
      " 15%|███████████▋                                                                   | 460/3118 [09:28<14:55,  2.97it/s]"
     ]
    },
    {
     "name": "stdout",
     "output_type": "stream",
     "text": [
      "U1-m5J4P5C-BZrzwPEOIM6R9x1MLqta04pLhyITZ7JheKjpeJwjEs7cWS5bvblOmqqCzDjrdipoE_A\n"
     ]
    },
    {
     "name": "stderr",
     "output_type": "stream",
     "text": [
      " 15%|███████████▋                                                                   | 461/3118 [09:28<13:37,  3.25it/s]"
     ]
    },
    {
     "name": "stdout",
     "output_type": "stream",
     "text": [
      "V3z94JflBla93TIYWypRM20ZC852bDcrPjPUEoCbfm5YQonxUtR1Lm0nwM6CS-f8lUoDDhyBPadgVg\n"
     ]
    },
    {
     "name": "stderr",
     "output_type": "stream",
     "text": [
      " 15%|███████████▋                                                                   | 462/3118 [09:29<13:45,  3.22it/s]"
     ]
    },
    {
     "name": "stdout",
     "output_type": "stream",
     "text": [
      "khgizdVvza0PY7dr0nkm6n3IN4hrj3ZdFIXc8mXGyLK7BWBB90RMvIJwGwDbuC2SJ95zQ1-sdeVmPA\n"
     ]
    },
    {
     "name": "stderr",
     "output_type": "stream",
     "text": [
      " 15%|███████████▋                                                                   | 463/3118 [09:29<12:54,  3.43it/s]"
     ]
    },
    {
     "name": "stdout",
     "output_type": "stream",
     "text": [
      "x_I85mh67i25lZ2CNvjnFvgmUKLhfKfymQtjNC_pBtKLeLUGTM2Jtqeg38YhpX4P31ps-dbyM6CbDA\n"
     ]
    },
    {
     "name": "stderr",
     "output_type": "stream",
     "text": [
      " 15%|███████████▊                                                                   | 464/3118 [09:29<12:55,  3.42it/s]"
     ]
    },
    {
     "name": "stdout",
     "output_type": "stream",
     "text": [
      "Mt10_GLsE3orRD_40IYvJ4t-RDXMaYoUQ_W-M6DpaOJ8yyDMLB491gVVS7nfY-LlGgpUHiQcWpSARg\n"
     ]
    },
    {
     "name": "stderr",
     "output_type": "stream",
     "text": [
      " 15%|███████████▊                                                                   | 465/3118 [09:30<17:35,  2.51it/s]"
     ]
    },
    {
     "name": "stdout",
     "output_type": "stream",
     "text": [
      "DiS3yZgOocSRm5slCaCxPKxUDhPQz8xXiasEuP69Zc7S_1ds96J6iY0HW503emaW1Te2wFw0fpdNbQ\n"
     ]
    },
    {
     "name": "stderr",
     "output_type": "stream",
     "text": [
      " 15%|███████████▊                                                                   | 466/3118 [09:30<18:28,  2.39it/s]"
     ]
    },
    {
     "name": "stdout",
     "output_type": "stream",
     "text": [
      "QNSlYBdkmjRMnZjGOUjUp9mhVZdG0cPa59YiObpIuVqYarSNXBgcy4YpEK1V-y9oTbZBJJZQ8Che3A\n"
     ]
    },
    {
     "name": "stderr",
     "output_type": "stream",
     "text": [
      " 15%|███████████▊                                                                   | 467/3118 [09:31<16:51,  2.62it/s]"
     ]
    },
    {
     "name": "stdout",
     "output_type": "stream",
     "text": [
      "ib8l5gudZHWEPLRhlc5z3EznhiOcLxoByXLJl3j_ERnmLg8_dPMpjV8c7ojbUTcfQo9nsv4xyP8HFw\n"
     ]
    },
    {
     "name": "stderr",
     "output_type": "stream",
     "text": [
      " 15%|███████████▊                                                                   | 468/3118 [09:31<23:02,  1.92it/s]"
     ]
    },
    {
     "name": "stdout",
     "output_type": "stream",
     "text": [
      "lfSxEsJn07Ol7xo8IDQjKTOASuCsnTDqWKRrQKBkTShsCDCvhnZoaNdo3KE8ywO2vzazck36q4UGXA\n"
     ]
    },
    {
     "name": "stderr",
     "output_type": "stream",
     "text": [
      " 15%|███████████▉                                                                   | 469/3118 [09:32<19:34,  2.26it/s]"
     ]
    },
    {
     "name": "stdout",
     "output_type": "stream",
     "text": [
      "Brj-ha2llRWrxg4jzUi3gSPIzNBsTF9R0ekXLqxmvn3S_ucmxxYUVa0uijx2VL_Yx8iWqzr26ar_qQ\n"
     ]
    },
    {
     "name": "stderr",
     "output_type": "stream",
     "text": [
      " 15%|███████████▉                                                                   | 470/3118 [09:32<22:07,  1.99it/s]"
     ]
    },
    {
     "name": "stdout",
     "output_type": "stream",
     "text": [
      "RJnmXB9i_Bz0rgh06zbktkM5VWfklIKpVN3rLU4w6Ji4OKcv59x5xX1FqIlwyyWPqQ9Mv0AfJcxpLQ\n"
     ]
    },
    {
     "name": "stderr",
     "output_type": "stream",
     "text": [
      " 15%|███████████▉                                                                   | 471/3118 [09:33<18:54,  2.33it/s]"
     ]
    },
    {
     "name": "stdout",
     "output_type": "stream",
     "text": [
      "aSViC3gXahBwMgxCHHeGGjIjqR3X_96Q2k2PmQqTZF0Mzu2hTCjrMt5cdT5N7IOFzt-gDlvHV8TMeQ\n"
     ]
    },
    {
     "name": "stderr",
     "output_type": "stream",
     "text": [
      " 15%|███████████▉                                                                   | 472/3118 [09:33<16:35,  2.66it/s]"
     ]
    },
    {
     "name": "stdout",
     "output_type": "stream",
     "text": [
      "N4_rashy7WlpYDjIqZ3rYGeKMl3R_bAajj0HTVzuuXoHuPhmTu6_rszv3XhY7ZPOUVYDRfbSKWXS-Q\n"
     ]
    },
    {
     "name": "stderr",
     "output_type": "stream",
     "text": [
      " 15%|███████████▉                                                                   | 473/3118 [09:33<15:08,  2.91it/s]"
     ]
    },
    {
     "name": "stdout",
     "output_type": "stream",
     "text": [
      "rBDjUjYvNJMibbUCRPsH7vrzcFEDwMHAMdtV0we1tNrGTzudbKbhH0kGWZZLf4eK-appdZal8SsExQ\n"
     ]
    },
    {
     "name": "stderr",
     "output_type": "stream",
     "text": [
      " 15%|████████████                                                                   | 474/3118 [09:34<16:09,  2.73it/s]"
     ]
    },
    {
     "name": "stdout",
     "output_type": "stream",
     "text": [
      "lJ7nEbAUoJDdqXeOD1wyASFzI4_wYO6r4qSQpj7faC7YfhNp10IXzbXl7UhNay2O_BxeaQ2l8bA31w\n"
     ]
    },
    {
     "name": "stderr",
     "output_type": "stream",
     "text": [
      " 15%|████████████                                                                   | 475/3118 [09:34<14:43,  2.99it/s]"
     ]
    },
    {
     "name": "stdout",
     "output_type": "stream",
     "text": [
      "zlABzPztrX189KciibndRKLmvk_AdrgMTK7Trd0YS8WvgfLRmM1UkYvP83YMPhU763j5XiyonYaBDQ\n"
     ]
    },
    {
     "name": "stderr",
     "output_type": "stream",
     "text": [
      " 15%|████████████                                                                   | 476/3118 [09:34<13:34,  3.24it/s]"
     ]
    },
    {
     "name": "stdout",
     "output_type": "stream",
     "text": [
      "2p-JidUFjJAdOK-vl073dzJhWEupzsJfXw-_2-CpwJJFZ3IVZkBTMnBgCbQj3PUtfEBRdNX4MlZpiQ\n"
     ]
    },
    {
     "name": "stderr",
     "output_type": "stream",
     "text": [
      " 15%|████████████                                                                   | 477/3118 [09:34<13:01,  3.38it/s]"
     ]
    },
    {
     "name": "stdout",
     "output_type": "stream",
     "text": [
      "W7qKIegLkr_W3YwbaU_JmUAk5jFJdtfuCrG3W6Vevs_Vk5RBWlVzjXqpm1cj7IAncWMD40l8rjoJow\n"
     ]
    },
    {
     "name": "stderr",
     "output_type": "stream",
     "text": [
      " 15%|████████████                                                                   | 478/3118 [09:35<12:24,  3.55it/s]"
     ]
    },
    {
     "name": "stdout",
     "output_type": "stream",
     "text": [
      "IxYNCwNn6wyMNXEaQ3eWnwCJzsMDLURPTLSjKZ0xfDjp3viWDpmaL0lxTtBjT9wudpggySPPlU6cow\n"
     ]
    },
    {
     "name": "stderr",
     "output_type": "stream",
     "text": [
      " 15%|████████████▏                                                                  | 479/3118 [09:35<12:00,  3.66it/s]"
     ]
    },
    {
     "name": "stdout",
     "output_type": "stream",
     "text": [
      "M-2FhS0-kYOa1bp10Ru_siLgwGBlmsxjePa8mq5IY2g0TJfuZMi_lhyOBpX4yGrScZ1MrqjVZS7Rsg\n"
     ]
    },
    {
     "name": "stderr",
     "output_type": "stream",
     "text": [
      " 15%|████████████▏                                                                  | 480/3118 [09:35<13:06,  3.35it/s]"
     ]
    },
    {
     "name": "stdout",
     "output_type": "stream",
     "text": [
      "QmPCVH8Pczt9W7XgVAsju-ooTBSORnkQQbYmOf59PbghAC0ZECBEn1YeOCKFYl87B7ihoj06AFPc7g\n"
     ]
    },
    {
     "name": "stderr",
     "output_type": "stream",
     "text": [
      " 15%|████████████▏                                                                  | 481/3118 [09:35<12:26,  3.53it/s]"
     ]
    },
    {
     "name": "stdout",
     "output_type": "stream",
     "text": [
      "D7S6bowjeTU8KgBOKW5902J0y2wymxN5kA9zngFDyOPdKAA_loOvm-6uUlaO3j0-p98u4t4OBpVPhg\n"
     ]
    },
    {
     "name": "stderr",
     "output_type": "stream",
     "text": [
      " 15%|████████████▏                                                                  | 482/3118 [09:36<14:15,  3.08it/s]"
     ]
    },
    {
     "name": "stdout",
     "output_type": "stream",
     "text": [
      "4bHF8pHU5nfd-LvFX-AD00l5wokkE5vq7k7e6zXNAMBIY4WR4MCgbDtC-2YFCtpEO2GuW25nCzDnsg\n"
     ]
    },
    {
     "name": "stderr",
     "output_type": "stream",
     "text": [
      " 15%|████████████▏                                                                  | 483/3118 [09:36<13:15,  3.31it/s]"
     ]
    },
    {
     "name": "stdout",
     "output_type": "stream",
     "text": [
      "a2t2Y0pLmlfd451-koCW7FF3NKAXG-JvAiSyY0U_S9CNkAgpTQzSSwNEadf02FkHme5JOzSJ02TeZg\n"
     ]
    },
    {
     "name": "stderr",
     "output_type": "stream",
     "text": [
      " 16%|████████████▎                                                                  | 484/3118 [09:36<12:48,  3.43it/s]"
     ]
    },
    {
     "name": "stdout",
     "output_type": "stream",
     "text": [
      "uzFeAvU4w9Z06O4w0VC_avcP-wL1LaD4cT8vfVuk1jNcKYscPu57GIQVk7jWtQ7Q4SX06ySF2BwFmw\n"
     ]
    },
    {
     "name": "stderr",
     "output_type": "stream",
     "text": [
      " 16%|████████████▎                                                                  | 485/3118 [09:37<12:12,  3.59it/s]"
     ]
    },
    {
     "name": "stdout",
     "output_type": "stream",
     "text": [
      "SAJ52UIqlz42IwBlYAzdTURCCFt7Kzv88YXkTfnNdvPw7_yiussbKeA5IRbIbBJeiPvgozuxseD6rg\n"
     ]
    },
    {
     "name": "stderr",
     "output_type": "stream",
     "text": [
      " 16%|████████████▎                                                                  | 486/3118 [09:37<11:43,  3.74it/s]"
     ]
    },
    {
     "name": "stdout",
     "output_type": "stream",
     "text": [
      "Ge_lL6AJkKosJGlN-4W_bYU6qHYweZ6WAuI0FGQpHxyiSQYeL3RPcAWGZOOKEXZajKsPSsMtSknTSA\n"
     ]
    },
    {
     "name": "stderr",
     "output_type": "stream",
     "text": [
      " 16%|████████████▎                                                                  | 487/3118 [09:37<11:37,  3.77it/s]"
     ]
    },
    {
     "name": "stdout",
     "output_type": "stream",
     "text": [
      "0BKU4t_z3anhBwGoDCPXG0iGcId1KmB8OzOGUIAp12FCTV3H6cmJEL3bgFm7eELxe_MI12UNRwJ4_Q\n"
     ]
    },
    {
     "name": "stderr",
     "output_type": "stream",
     "text": [
      " 16%|████████████▎                                                                  | 488/3118 [09:37<11:38,  3.76it/s]"
     ]
    },
    {
     "name": "stdout",
     "output_type": "stream",
     "text": [
      "GtcAp0FyfrgNXvrF8Ss6emIW7fXiiPnFoJGpHuOh6ek5fY8mEsMHpAmi3Qc8Z-HEKVPW2XeVl59LVw\n"
     ]
    },
    {
     "name": "stderr",
     "output_type": "stream",
     "text": [
      " 16%|████████████▍                                                                  | 489/3118 [09:38<11:33,  3.79it/s]"
     ]
    },
    {
     "name": "stdout",
     "output_type": "stream",
     "text": [
      "Kf1NPghRS65Zv9lZdUYLtn9dfqDJ13IcDlitkh9rO53FUzhFBjuOFpd1NFqz7pQBE5AEUsd5s7rXWQ\n"
     ]
    },
    {
     "name": "stderr",
     "output_type": "stream",
     "text": [
      " 16%|████████████▍                                                                  | 490/3118 [09:38<11:57,  3.66it/s]"
     ]
    },
    {
     "name": "stdout",
     "output_type": "stream",
     "text": [
      "3-_qt5hslXLipRZW2hq46QcVDr3nGAFkBjYbMPXs-vRnW4-dR7hDvTWc67S9mXe3bDLTDCLmamMy7Q\n"
     ]
    },
    {
     "name": "stderr",
     "output_type": "stream",
     "text": [
      " 16%|████████████▍                                                                  | 491/3118 [09:38<11:56,  3.67it/s]"
     ]
    },
    {
     "name": "stdout",
     "output_type": "stream",
     "text": [
      "vsff3Gva-DRhQKRaPEWIqgDy_gCaCiJE_SftLSGH-nmhzf_tfSeKjqAuiaQejqTikCKjQ8JoPUSbkw\n"
     ]
    },
    {
     "name": "stderr",
     "output_type": "stream",
     "text": [
      " 16%|████████████▍                                                                  | 492/3118 [09:38<11:40,  3.75it/s]"
     ]
    },
    {
     "name": "stdout",
     "output_type": "stream",
     "text": [
      "5ylCExPQotmpokY1E56H6z7DE1TAK2W_9dQ3ssDkmAXGITyKBRlq0NFMif5Nw9CocwA3HkoFd2lXAw\n"
     ]
    },
    {
     "name": "stderr",
     "output_type": "stream",
     "text": [
      " 16%|████████████▍                                                                  | 493/3118 [09:39<11:41,  3.74it/s]"
     ]
    },
    {
     "name": "stdout",
     "output_type": "stream",
     "text": [
      "lJ9SNI2i7AECQoLPgrXIrOOb-8pWSdZqbCaxyTSAyvIUW1mDAsnhm43yX6lAdihhuf1zE4Og9nC5cg\n"
     ]
    },
    {
     "name": "stderr",
     "output_type": "stream",
     "text": [
      " 16%|████████████▌                                                                  | 494/3118 [09:39<11:30,  3.80it/s]"
     ]
    },
    {
     "name": "stdout",
     "output_type": "stream",
     "text": [
      "arOtKdm9YqQMD5k6CcyyFSia50sOvQgso2Gfl-o2h2_jOcE9imIyF0-ntaK0d1a4mo0YHO5dAaOWIQ\n"
     ]
    },
    {
     "name": "stderr",
     "output_type": "stream",
     "text": [
      " 16%|████████████▌                                                                  | 495/3118 [09:39<11:17,  3.87it/s]"
     ]
    },
    {
     "name": "stdout",
     "output_type": "stream",
     "text": [
      "5p3sHQOYgZ1HnFz9cLSKDziQ1Y8HTw4R83Suhud7YI21E9d2a8gRitlbgFwgoXHaoQjGgOgPHLNl2w\n"
     ]
    },
    {
     "name": "stderr",
     "output_type": "stream",
     "text": [
      " 16%|████████████▌                                                                  | 496/3118 [09:39<11:07,  3.93it/s]"
     ]
    },
    {
     "name": "stdout",
     "output_type": "stream",
     "text": [
      "IF96fA363OLym8olLDdMnqdnvRRqSyYyUP_9vekt993YJ0cCbLAuGCaQcVK58bCiMgDxVeDeOo0-Bw\n"
     ]
    },
    {
     "name": "stderr",
     "output_type": "stream",
     "text": [
      " 16%|████████████▌                                                                  | 497/3118 [09:40<11:08,  3.92it/s]"
     ]
    },
    {
     "name": "stdout",
     "output_type": "stream",
     "text": [
      "0tAA0nnHk871RGKN-Ax8Bm9FLLlUIaBljkcTlBbet79o4s_L4UPlxdYN0uQQVgGQpf529G-GIvF9hg\n"
     ]
    },
    {
     "name": "stderr",
     "output_type": "stream",
     "text": [
      " 16%|████████████▌                                                                  | 498/3118 [09:40<11:14,  3.88it/s]"
     ]
    },
    {
     "name": "stdout",
     "output_type": "stream",
     "text": [
      "Qkz3noPSD-EJdrcdG6vCkOzyrVb0Y1S5rgMMMaKFDnOLZwkfKVs_61ExGACGsConSelJsPFdd9qPjw\n"
     ]
    },
    {
     "name": "stderr",
     "output_type": "stream",
     "text": [
      " 16%|████████████▋                                                                  | 499/3118 [09:40<11:50,  3.69it/s]"
     ]
    },
    {
     "name": "stdout",
     "output_type": "stream",
     "text": [
      "sURlD0KJ4Dh6MY3vvp_ivuEtZS4YkmEa7BsG1ZtFbrxx6agpTyxwrxZt1zmzhWO73ZW9WXYocNNC2w\n"
     ]
    },
    {
     "name": "stderr",
     "output_type": "stream",
     "text": [
      " 16%|████████████▋                                                                  | 500/3118 [09:41<11:40,  3.74it/s]"
     ]
    },
    {
     "name": "stdout",
     "output_type": "stream",
     "text": [
      "VN5xSCzeagLrSMD1mD6fvThqJ84lmARnlVSmxj-o9-PLD6mQxpZCUZSdIwpsWZ_0gXRfEM9B_g8ovA\n"
     ]
    },
    {
     "name": "stderr",
     "output_type": "stream",
     "text": [
      " 16%|████████████▋                                                                  | 501/3118 [09:41<11:30,  3.79it/s]"
     ]
    },
    {
     "name": "stdout",
     "output_type": "stream",
     "text": [
      "sFHsjPq3N6wp9MSyvIxChsynQj1U7q5G1Tg3fKsMNhy7Mar8znR2AZPTKtL84CFOahiS40XBFrCilg\n"
     ]
    },
    {
     "name": "stderr",
     "output_type": "stream",
     "text": [
      " 16%|████████████▋                                                                  | 502/3118 [09:41<11:48,  3.69it/s]"
     ]
    },
    {
     "name": "stdout",
     "output_type": "stream",
     "text": [
      "_FWCbAmLBrcad4bNEcMBNuvQGNxBP5zMs4ZhpDKYWV0H8nUP_a35XMR9YhSbQZqTTMdTJ_SR7mX1ZA\n"
     ]
    },
    {
     "name": "stderr",
     "output_type": "stream",
     "text": [
      " 16%|████████████▋                                                                  | 503/3118 [09:41<12:12,  3.57it/s]"
     ]
    },
    {
     "name": "stdout",
     "output_type": "stream",
     "text": [
      "jtzrWXmP7dzfubLK5eSnO-ujo64RvJkXkVqxCflgfW2O-7by9HnoErcYb6TuOXIzJe2yLgoFiSJtBA\n"
     ]
    },
    {
     "name": "stderr",
     "output_type": "stream",
     "text": [
      " 16%|████████████▊                                                                  | 504/3118 [09:42<11:45,  3.71it/s]"
     ]
    },
    {
     "name": "stdout",
     "output_type": "stream",
     "text": [
      "MCksqaLyCd5iZ0lcdLUZklH3RHhUdAxhO9Ct0NHKUGnpK0bF4aOSUz0XOVeFMcr5CG2wKiEASGSAuQ\n"
     ]
    },
    {
     "name": "stderr",
     "output_type": "stream",
     "text": [
      " 16%|████████████▊                                                                  | 505/3118 [09:42<15:17,  2.85it/s]"
     ]
    },
    {
     "name": "stdout",
     "output_type": "stream",
     "text": [
      "CfG7nEHGJYrOy6JitV3c5CikwGS33M4CFd2bO-2qJWYYdbChVrDMz6Kx3b6efui2K8OhCTCEavT8hQ\n"
     ]
    },
    {
     "name": "stderr",
     "output_type": "stream",
     "text": [
      " 16%|████████████▊                                                                  | 506/3118 [09:42<13:57,  3.12it/s]"
     ]
    },
    {
     "name": "stdout",
     "output_type": "stream",
     "text": [
      "MyfvTfE3CVCcFkSurrpwE56v_-w3DFs9OO84s_E7MMlL2QFWopZys4Nw10PRXKmBnDiTH37JjBVNZw\n"
     ]
    },
    {
     "name": "stderr",
     "output_type": "stream",
     "text": [
      " 16%|████████████▊                                                                  | 507/3118 [09:43<18:27,  2.36it/s]"
     ]
    }
   ],
   "source": [
    "accountId = {}\n",
    "\n",
    "for i,j in zip(tqdm(summonerId.values()),summonerId.keys()):\n",
    "    url2 = 'https://kr.api.riotgames.com/lol/summoner/v4/summoners/' + i + '?api_key=' + api_key\n",
    "    r = requests.get(url2)\n",
    "    \n",
    "    if r.status_code == 200: # response가 정상이면 바로 맨 밑으로 이동하여 정상적으로 코드 실행\n",
    "        pass\n",
    "    \n",
    "    elif r.status_code == 429:\n",
    "        print('api cost full : infinite loop start')\n",
    "        print('loop location : ',i)\n",
    "        start_time = time.time()\n",
    "        \n",
    "        while True: # 429error가 끝날 때까지 무한 루프\n",
    "            if r.status_code == 429:\n",
    "\n",
    "                print('try 10 second wait time')\n",
    "                time.sleep(10)\n",
    "\n",
    "                r = requests.get(url2)\n",
    "                print(r.status_code)\n",
    "\n",
    "            elif r.status_code == 200: #다시 response 200이면 loop escape\n",
    "                print('total wait time : ', time.time() - start_time)\n",
    "                print('recovery api cost')\n",
    "                break\n",
    "    \n",
    "    r = r.json()['puuid']\n",
    "    print(r)\n",
    "    accountId[j] = r"
   ]
  },
  {
   "cell_type": "code",
   "execution_count": 3,
   "id": "4a42e9b4",
   "metadata": {},
   "outputs": [
    {
     "ename": "NameError",
     "evalue": "name 'accountId' is not defined",
     "output_type": "error",
     "traceback": [
      "\u001b[1;31m---------------------------------------------------------------------------\u001b[0m",
      "\u001b[1;31mNameError\u001b[0m                                 Traceback (most recent call last)",
      "\u001b[1;32m~\\AppData\\Local\\Temp/ipykernel_15212/1774221417.py\u001b[0m in \u001b[0;36m<module>\u001b[1;34m\u001b[0m\n\u001b[0;32m      5\u001b[0m \u001b[1;33m\u001b[0m\u001b[0m\n\u001b[0;32m      6\u001b[0m \u001b[1;33m\u001b[0m\u001b[0m\n\u001b[1;32m----> 7\u001b[1;33m \u001b[1;32mfor\u001b[0m \u001b[0mi\u001b[0m \u001b[1;32min\u001b[0m \u001b[0mtqdm\u001b[0m\u001b[1;33m(\u001b[0m\u001b[0maccountId\u001b[0m\u001b[1;33m.\u001b[0m\u001b[0mvalues\u001b[0m\u001b[1;33m(\u001b[0m\u001b[1;33m)\u001b[0m\u001b[1;33m)\u001b[0m\u001b[1;33m:\u001b[0m\u001b[1;33m\u001b[0m\u001b[1;33m\u001b[0m\u001b[0m\n\u001b[0m\u001b[0;32m      8\u001b[0m     \u001b[0murl3\u001b[0m \u001b[1;33m=\u001b[0m \u001b[1;34m'https://asia.api.riotgames.com/lol/match/v5/matches/by-puuid/'\u001b[0m\u001b[1;33m+\u001b[0m \u001b[0mi\u001b[0m \u001b[1;33m+\u001b[0m\u001b[1;34m'/ids?start=1&count=20'\u001b[0m\u001b[1;33m\u001b[0m\u001b[1;33m\u001b[0m\u001b[0m\n\u001b[0;32m      9\u001b[0m     \u001b[0mr\u001b[0m \u001b[1;33m=\u001b[0m \u001b[0mrequests\u001b[0m\u001b[1;33m.\u001b[0m\u001b[0mget\u001b[0m\u001b[1;33m(\u001b[0m\u001b[0murl3\u001b[0m\u001b[1;33m)\u001b[0m\u001b[1;33m\u001b[0m\u001b[1;33m\u001b[0m\u001b[0m\n",
      "\u001b[1;31mNameError\u001b[0m: name 'accountId' is not defined"
     ]
    }
   ],
   "source": [
    "gameId = []\n",
    "import pprint\n",
    "# url3 = 'https://kr.api.riotgames.com/lol/match/v4/matchlists/by-account/hqMv8JiT0hjKc96iqUz9ucXFPgsENmbI_5OHPmlyVOCZxwE?queue=420&api_key=RGAPI-e456f533-671c-4947-b960-98443960695b'\n",
    "\n",
    "\n",
    "\n",
    "for i in tqdm(accountId.values()):\n",
    "    url3 = 'https://asia.api.riotgames.com/lol/match/v5/matches/by-puuid/'+ i +'/ids?start=1&count=20'\n",
    "    r = requests.get(url3)\n",
    "    \n",
    "    if r.status_code == 200: # response가 정상이면 바로 맨 밑으로 이동하여 정상적으로 코드 실행\n",
    "        pass\n",
    "    \n",
    "    elif r.status_code == 429:\n",
    "        print('api cost full : infinite loop start')\n",
    "        print('loop location : ',i)\n",
    "        start_time = time.time()\n",
    "        \n",
    "        while True: # 429error가 끝날 때까지 무한 루프\n",
    "            if r.status_code == 429:\n",
    "\n",
    "                print('try 10 second wait time')\n",
    "                time.sleep(10)\n",
    "\n",
    "                r = requests.get(url2)\n",
    "                print(r.status_code)\n",
    "\n",
    "            elif r.status_code == 200: #다시 response 200이면 loop escape\n",
    "                print('total wait time : ', time.time() - start_time)\n",
    "                print('recovery api cost')\n",
    "                break\n",
    "                \n",
    "    r = requests.get(url3, headers=request_header).json()\n",
    "    gameId.append(r)"
   ]
  },
  {
   "cell_type": "code",
   "execution_count": 15,
   "id": "ae2884d8",
   "metadata": {},
   "outputs": [
    {
     "data": {
      "text/plain": [
       "'KR_5671738633'"
      ]
     },
     "execution_count": 15,
     "metadata": {},
     "output_type": "execute_result"
    }
   ],
   "source": [
    "gameId[0][2]"
   ]
  },
  {
   "cell_type": "code",
   "execution_count": 16,
   "id": "a03b59cb",
   "metadata": {},
   "outputs": [
    {
     "data": {
      "text/plain": [
       "{'metadata': {'dataVersion': '2',\n",
       "  'matchId': 'KR_5671738633',\n",
       "  'participants': ['gQEz5pzJ23bmw_efhLiEYhckpIjmTNK1SrD1IQo1wGKUBcA0kcmNvMnA2P0X_bjhWAh76z6QOYn6hw',\n",
       "   'x5iagNlhdQeZDqq27NBfcB_BaiiL1HwCg41ObOTeqAjq8JFm9bKAFipE2tejqkUILy5ok-vSueKwFw',\n",
       "   'jMig6W7zeDR2Ed_6Ry3kJ0vWKtW-pv_zqjoMaxgUDZJuSPEK9_EaH2rKldwvKtTABw3OIRe8VSuPyg',\n",
       "   'eOQ9JlQA0RcZW4da84XksR7fBxWGh6ZRYf3bTlYospxtUvw34UvI_ciKelgFFKDq9H5tMSQBqZi4PQ',\n",
       "   'QvCnkusu8d-z5bD2UeNkxQMYfcC6LWp_RNhYx872m6zyQxUIVXq7z-rLh7uU8iQvxu9M4zs3xSLYbw',\n",
       "   'l_4wZy87Sns8jCcr8WNJI1cRBtV3IwkkNYasYnPF1wGOo3LjYFvO1UFxDWjUagHPIA0d1IlYMiXT4Q',\n",
       "   '5JE3_wcOm7bHf0OATqBeRzgTN0tlH9cLeDH13FZhvEt2yMOfD9FpipKAwYJNSaxMS6tGczlQioxQog',\n",
       "   '1DuEU_BPh9hfGKcguC1Yl5IRNPExfYeMBvdl54y0Ee26XuM6TXEGYXtATchmHw-L_dC64PZeNteA7g',\n",
       "   '3VG4-t7zlDMdP1ahZIKJ_OYr0an7B1UOHJ3Kt-vK6hfczqWUMP_lsgWuQtXOM1-9VulaAc77mtHhKw',\n",
       "   'U7ACnhTWGL-tpYYYWzcMUGjcmlo6weqf2CZQLDbMmkqypQcMj1oU4dDB_Tbynuxp2jpz-nLETFSbvg']},\n",
       " 'info': {'gameCreation': 1641375962000,\n",
       "  'gameDuration': 1762,\n",
       "  'gameEndTimestamp': 1641377745466,\n",
       "  'gameId': 5671738633,\n",
       "  'gameMode': 'CLASSIC',\n",
       "  'gameName': 'teambuilder-match-5671738633',\n",
       "  'gameStartTimestamp': 1641375983014,\n",
       "  'gameType': 'MATCHED_GAME',\n",
       "  'gameVersion': '12.1.414.6260',\n",
       "  'mapId': 11,\n",
       "  'participants': [{'assists': 14,\n",
       "    'baronKills': 0,\n",
       "    'bountyLevel': 1,\n",
       "    'champExperience': 15088,\n",
       "    'champLevel': 16,\n",
       "    'championId': 78,\n",
       "    'championName': 'Poppy',\n",
       "    'championTransform': 0,\n",
       "    'consumablesPurchased': 1,\n",
       "    'damageDealtToBuildings': 5016,\n",
       "    'damageDealtToObjectives': 6285,\n",
       "    'damageDealtToTurrets': 5016,\n",
       "    'damageSelfMitigated': 39821,\n",
       "    'deaths': 5,\n",
       "    'detectorWardsPlaced': 0,\n",
       "    'doubleKills': 1,\n",
       "    'dragonKills': 0,\n",
       "    'firstBloodAssist': True,\n",
       "    'firstBloodKill': False,\n",
       "    'firstTowerAssist': False,\n",
       "    'firstTowerKill': False,\n",
       "    'gameEndedInEarlySurrender': False,\n",
       "    'gameEndedInSurrender': False,\n",
       "    'goldEarned': 11774,\n",
       "    'goldSpent': 10950,\n",
       "    'individualPosition': 'TOP',\n",
       "    'inhibitorKills': 0,\n",
       "    'inhibitorTakedowns': 1,\n",
       "    'inhibitorsLost': 0,\n",
       "    'item0': 3047,\n",
       "    'item1': 0,\n",
       "    'item2': 3053,\n",
       "    'item3': 6632,\n",
       "    'item4': 4401,\n",
       "    'item5': 0,\n",
       "    'item6': 3340,\n",
       "    'itemsPurchased': 18,\n",
       "    'killingSprees': 1,\n",
       "    'kills': 7,\n",
       "    'lane': 'TOP',\n",
       "    'largestCriticalStrike': 0,\n",
       "    'largestKillingSpree': 3,\n",
       "    'largestMultiKill': 2,\n",
       "    'longestTimeSpentLiving': 661,\n",
       "    'magicDamageDealt': 5891,\n",
       "    'magicDamageDealtToChampions': 3632,\n",
       "    'magicDamageTaken': 10726,\n",
       "    'neutralMinionsKilled': 4,\n",
       "    'nexusKills': 0,\n",
       "    'nexusLost': 0,\n",
       "    'nexusTakedowns': 1,\n",
       "    'objectivesStolen': 0,\n",
       "    'objectivesStolenAssists': 0,\n",
       "    'participantId': 1,\n",
       "    'pentaKills': 0,\n",
       "    'perks': {'statPerks': {'defense': 5002, 'flex': 5008, 'offense': 5008},\n",
       "     'styles': [{'description': 'primaryStyle',\n",
       "       'selections': [{'perk': 8437, 'var1': 1617, 'var2': 1390, 'var3': 0},\n",
       "        {'perk': 8401, 'var1': 517, 'var2': 0, 'var3': 0},\n",
       "        {'perk': 8473, 'var1': 516, 'var2': 0, 'var3': 0},\n",
       "        {'perk': 8453, 'var1': 1090, 'var2': 1484, 'var3': 0}],\n",
       "       'style': 8400},\n",
       "      {'description': 'subStyle',\n",
       "       'selections': [{'perk': 8345, 'var1': 3, 'var2': 0, 'var3': 0},\n",
       "        {'perk': 8352, 'var1': 464, 'var2': 2375, 'var3': 1312}],\n",
       "       'style': 8300}]},\n",
       "    'physicalDamageDealt': 112078,\n",
       "    'physicalDamageDealtToChampions': 22427,\n",
       "    'physicalDamageTaken': 17387,\n",
       "    'profileIcon': 3495,\n",
       "    'puuid': 'gQEz5pzJ23bmw_efhLiEYhckpIjmTNK1SrD1IQo1wGKUBcA0kcmNvMnA2P0X_bjhWAh76z6QOYn6hw',\n",
       "    'quadraKills': 0,\n",
       "    'riotIdName': '',\n",
       "    'riotIdTagline': '',\n",
       "    'role': 'SOLO',\n",
       "    'sightWardsBoughtInGame': 0,\n",
       "    'spell1Casts': 114,\n",
       "    'spell2Casts': 30,\n",
       "    'spell3Casts': 41,\n",
       "    'spell4Casts': 9,\n",
       "    'summoner1Casts': 4,\n",
       "    'summoner1Id': 12,\n",
       "    'summoner2Casts': 4,\n",
       "    'summoner2Id': 4,\n",
       "    'summonerId': 'nkNGeAPDfdmZTAOLCcKyV49LEPJTjHlrnFHjYd5vtH7eAb0',\n",
       "    'summonerLevel': 468,\n",
       "    'summonerName': '칼과 창 방패',\n",
       "    'teamEarlySurrendered': False,\n",
       "    'teamId': 100,\n",
       "    'teamPosition': 'TOP',\n",
       "    'timeCCingOthers': 32,\n",
       "    'timePlayed': 1762,\n",
       "    'totalDamageDealt': 118307,\n",
       "    'totalDamageDealtToChampions': 26397,\n",
       "    'totalDamageShieldedOnTeammates': 0,\n",
       "    'totalDamageTaken': 30925,\n",
       "    'totalHeal': 11331,\n",
       "    'totalHealsOnTeammates': 0,\n",
       "    'totalMinionsKilled': 143,\n",
       "    'totalTimeCCDealt': 576,\n",
       "    'totalTimeSpentDead': 181,\n",
       "    'totalUnitsHealed': 1,\n",
       "    'tripleKills': 0,\n",
       "    'trueDamageDealt': 337,\n",
       "    'trueDamageDealtToChampions': 337,\n",
       "    'trueDamageTaken': 2810,\n",
       "    'turretKills': 1,\n",
       "    'turretTakedowns': 4,\n",
       "    'turretsLost': 5,\n",
       "    'unrealKills': 0,\n",
       "    'visionScore': 8,\n",
       "    'visionWardsBoughtInGame': 0,\n",
       "    'wardsKilled': 1,\n",
       "    'wardsPlaced': 7,\n",
       "    'win': True},\n",
       "   {'assists': 10,\n",
       "    'baronKills': 0,\n",
       "    'bountyLevel': 0,\n",
       "    'champExperience': 15355,\n",
       "    'champLevel': 16,\n",
       "    'championId': 421,\n",
       "    'championName': 'RekSai',\n",
       "    'championTransform': 0,\n",
       "    'consumablesPurchased': 4,\n",
       "    'damageDealtToBuildings': 1002,\n",
       "    'damageDealtToObjectives': 32506,\n",
       "    'damageDealtToTurrets': 1002,\n",
       "    'damageSelfMitigated': 19438,\n",
       "    'deaths': 8,\n",
       "    'detectorWardsPlaced': 4,\n",
       "    'doubleKills': 3,\n",
       "    'dragonKills': 1,\n",
       "    'firstBloodAssist': False,\n",
       "    'firstBloodKill': True,\n",
       "    'firstTowerAssist': False,\n",
       "    'firstTowerKill': False,\n",
       "    'gameEndedInEarlySurrender': False,\n",
       "    'gameEndedInSurrender': False,\n",
       "    'goldEarned': 14916,\n",
       "    'goldSpent': 14100,\n",
       "    'individualPosition': 'JUNGLE',\n",
       "    'inhibitorKills': 0,\n",
       "    'inhibitorTakedowns': 0,\n",
       "    'inhibitorsLost': 0,\n",
       "    'item0': 3814,\n",
       "    'item1': 6693,\n",
       "    'item2': 6695,\n",
       "    'item3': 3026,\n",
       "    'item4': 3134,\n",
       "    'item5': 3047,\n",
       "    'item6': 3364,\n",
       "    'itemsPurchased': 25,\n",
       "    'killingSprees': 3,\n",
       "    'kills': 16,\n",
       "    'lane': 'JUNGLE',\n",
       "    'largestCriticalStrike': 0,\n",
       "    'largestKillingSpree': 6,\n",
       "    'largestMultiKill': 3,\n",
       "    'longestTimeSpentLiving': 526,\n",
       "    'magicDamageDealt': 7411,\n",
       "    'magicDamageDealtToChampions': 0,\n",
       "    'magicDamageTaken': 11934,\n",
       "    'neutralMinionsKilled': 155,\n",
       "    'nexusKills': 0,\n",
       "    'nexusLost': 0,\n",
       "    'nexusTakedowns': 0,\n",
       "    'objectivesStolen': 0,\n",
       "    'objectivesStolenAssists': 0,\n",
       "    'participantId': 2,\n",
       "    'pentaKills': 0,\n",
       "    'perks': {'statPerks': {'defense': 5002, 'flex': 5008, 'offense': 5005},\n",
       "     'styles': [{'description': 'primaryStyle',\n",
       "       'selections': [{'perk': 8010, 'var1': 437, 'var2': 0, 'var3': 0},\n",
       "        {'perk': 9111, 'var1': 1536, 'var2': 520, 'var3': 0},\n",
       "        {'perk': 9105, 'var1': 12, 'var2': 10, 'var3': 0},\n",
       "        {'perk': 8014, 'var1': 638, 'var2': 0, 'var3': 0}],\n",
       "       'style': 8000},\n",
       "      {'description': 'subStyle',\n",
       "       'selections': [{'perk': 8304, 'var1': 9, 'var2': 0, 'var3': 0},\n",
       "        {'perk': 8347, 'var1': 0, 'var2': 0, 'var3': 0}],\n",
       "       'style': 8300}]},\n",
       "    'physicalDamageDealt': 150033,\n",
       "    'physicalDamageDealtToChampions': 19675,\n",
       "    'physicalDamageTaken': 18714,\n",
       "    'profileIcon': 23,\n",
       "    'puuid': 'x5iagNlhdQeZDqq27NBfcB_BaiiL1HwCg41ObOTeqAjq8JFm9bKAFipE2tejqkUILy5ok-vSueKwFw',\n",
       "    'quadraKills': 0,\n",
       "    'riotIdName': '',\n",
       "    'riotIdTagline': '',\n",
       "    'role': 'NONE',\n",
       "    'sightWardsBoughtInGame': 0,\n",
       "    'spell1Casts': 178,\n",
       "    'spell2Casts': 181,\n",
       "    'spell3Casts': 130,\n",
       "    'spell4Casts': 10,\n",
       "    'summoner1Casts': 19,\n",
       "    'summoner1Id': 11,\n",
       "    'summoner2Casts': 5,\n",
       "    'summoner2Id': 4,\n",
       "    'summonerId': 'FvBmISuY1hJRse96Bxx3Ord8MfWgDjOq2jYNs0rgXD-Vafi8pfnCgKHDgQ',\n",
       "    'summonerLevel': 183,\n",
       "    'summonerName': '돌아와요 박효신 ',\n",
       "    'teamEarlySurrendered': False,\n",
       "    'teamId': 100,\n",
       "    'teamPosition': 'JUNGLE',\n",
       "    'timeCCingOthers': 22,\n",
       "    'timePlayed': 1762,\n",
       "    'totalDamageDealt': 189237,\n",
       "    'totalDamageDealtToChampions': 24282,\n",
       "    'totalDamageShieldedOnTeammates': 0,\n",
       "    'totalDamageTaken': 31995,\n",
       "    'totalHeal': 13290,\n",
       "    'totalHealsOnTeammates': 0,\n",
       "    'totalMinionsKilled': 28,\n",
       "    'totalTimeCCDealt': 271,\n",
       "    'totalTimeSpentDead': 261,\n",
       "    'totalUnitsHealed': 1,\n",
       "    'tripleKills': 1,\n",
       "    'trueDamageDealt': 31792,\n",
       "    'trueDamageDealtToChampions': 4607,\n",
       "    'trueDamageTaken': 1346,\n",
       "    'turretKills': 0,\n",
       "    'turretTakedowns': 3,\n",
       "    'turretsLost': 5,\n",
       "    'unrealKills': 0,\n",
       "    'visionScore': 34,\n",
       "    'visionWardsBoughtInGame': 4,\n",
       "    'wardsKilled': 5,\n",
       "    'wardsPlaced': 6,\n",
       "    'win': True},\n",
       "   {'assists': 19,\n",
       "    'baronKills': 0,\n",
       "    'bountyLevel': 0,\n",
       "    'champExperience': 16147,\n",
       "    'champLevel': 16,\n",
       "    'championId': 13,\n",
       "    'championName': 'Ryze',\n",
       "    'championTransform': 0,\n",
       "    'consumablesPurchased': 5,\n",
       "    'damageDealtToBuildings': 1090,\n",
       "    'damageDealtToObjectives': 9658,\n",
       "    'damageDealtToTurrets': 1090,\n",
       "    'damageSelfMitigated': 26739,\n",
       "    'deaths': 7,\n",
       "    'detectorWardsPlaced': 3,\n",
       "    'doubleKills': 1,\n",
       "    'dragonKills': 1,\n",
       "    'firstBloodAssist': True,\n",
       "    'firstBloodKill': False,\n",
       "    'firstTowerAssist': False,\n",
       "    'firstTowerKill': False,\n",
       "    'gameEndedInEarlySurrender': False,\n",
       "    'gameEndedInSurrender': False,\n",
       "    'goldEarned': 12969,\n",
       "    'goldSpent': 13875,\n",
       "    'individualPosition': 'MIDDLE',\n",
       "    'inhibitorKills': 1,\n",
       "    'inhibitorTakedowns': 1,\n",
       "    'inhibitorsLost': 0,\n",
       "    'item0': 6656,\n",
       "    'item1': 4401,\n",
       "    'item2': 3121,\n",
       "    'item3': 3110,\n",
       "    'item4': 2055,\n",
       "    'item5': 3158,\n",
       "    'item6': 3364,\n",
       "    'itemsPurchased': 27,\n",
       "    'killingSprees': 2,\n",
       "    'kills': 7,\n",
       "    'lane': 'MIDDLE',\n",
       "    'largestCriticalStrike': 0,\n",
       "    'largestKillingSpree': 3,\n",
       "    'largestMultiKill': 2,\n",
       "    'longestTimeSpentLiving': 469,\n",
       "    'magicDamageDealt': 144054,\n",
       "    'magicDamageDealtToChampions': 18581,\n",
       "    'magicDamageTaken': 10460,\n",
       "    'neutralMinionsKilled': 40,\n",
       "    'nexusKills': 0,\n",
       "    'nexusLost': 0,\n",
       "    'nexusTakedowns': 0,\n",
       "    'objectivesStolen': 0,\n",
       "    'objectivesStolenAssists': 0,\n",
       "    'participantId': 3,\n",
       "    'pentaKills': 0,\n",
       "    'perks': {'statPerks': {'defense': 5003, 'flex': 5008, 'offense': 5005},\n",
       "     'styles': [{'description': 'primaryStyle',\n",
       "       'selections': [{'perk': 8230, 'var1': 24, 'var2': 0, 'var3': 0},\n",
       "        {'perk': 8226, 'var1': 250, 'var2': 1774, 'var3': 0},\n",
       "        {'perk': 8210, 'var1': 15, 'var2': 0, 'var3': 0},\n",
       "        {'perk': 8232, 'var1': 3, 'var2': 10, 'var3': 0}],\n",
       "       'style': 8200},\n",
       "      {'description': 'subStyle',\n",
       "       'selections': [{'perk': 8345, 'var1': 3, 'var2': 0, 'var3': 0},\n",
       "        {'perk': 8352, 'var1': 431, 'var2': 2466, 'var3': 1740}],\n",
       "       'style': 8300}]},\n",
       "    'physicalDamageDealt': 12552,\n",
       "    'physicalDamageDealtToChampions': 2727,\n",
       "    'physicalDamageTaken': 17361,\n",
       "    'profileIcon': 4912,\n",
       "    'puuid': 'jMig6W7zeDR2Ed_6Ry3kJ0vWKtW-pv_zqjoMaxgUDZJuSPEK9_EaH2rKldwvKtTABw3OIRe8VSuPyg',\n",
       "    'quadraKills': 0,\n",
       "    'riotIdName': '',\n",
       "    'riotIdTagline': '',\n",
       "    'role': 'DUO',\n",
       "    'sightWardsBoughtInGame': 0,\n",
       "    'spell1Casts': 249,\n",
       "    'spell2Casts': 69,\n",
       "    'spell3Casts': 349,\n",
       "    'spell4Casts': 10,\n",
       "    'summoner1Casts': 5,\n",
       "    'summoner1Id': 4,\n",
       "    'summoner2Casts': 5,\n",
       "    'summoner2Id': 12,\n",
       "    'summonerId': 'nR9AA6PjCmvh6cdWVuGFHO9W14sAn8aGPnzjH-4KUuu2_oEj',\n",
       "    'summonerLevel': 400,\n",
       "    'summonerName': 'qwezxasd',\n",
       "    'teamEarlySurrendered': False,\n",
       "    'teamId': 100,\n",
       "    'teamPosition': 'MIDDLE',\n",
       "    'timeCCingOthers': 35,\n",
       "    'timePlayed': 1762,\n",
       "    'totalDamageDealt': 157371,\n",
       "    'totalDamageDealtToChampions': 21765,\n",
       "    'totalDamageShieldedOnTeammates': 0,\n",
       "    'totalDamageTaken': 30212,\n",
       "    'totalHeal': 2483,\n",
       "    'totalHealsOnTeammates': 0,\n",
       "    'totalMinionsKilled': 185,\n",
       "    'totalTimeCCDealt': 390,\n",
       "    'totalTimeSpentDead': 227,\n",
       "    'totalUnitsHealed': 1,\n",
       "    'tripleKills': 0,\n",
       "    'trueDamageDealt': 764,\n",
       "    'trueDamageDealtToChampions': 456,\n",
       "    'trueDamageTaken': 2391,\n",
       "    'turretKills': 0,\n",
       "    'turretTakedowns': 2,\n",
       "    'turretsLost': 5,\n",
       "    'unrealKills': 0,\n",
       "    'visionScore': 26,\n",
       "    'visionWardsBoughtInGame': 5,\n",
       "    'wardsKilled': 7,\n",
       "    'wardsPlaced': 5,\n",
       "    'win': True},\n",
       "   {'assists': 17,\n",
       "    'baronKills': 0,\n",
       "    'bountyLevel': 3,\n",
       "    'champExperience': 16572,\n",
       "    'champLevel': 17,\n",
       "    'championId': 115,\n",
       "    'championName': 'Ziggs',\n",
       "    'championTransform': 0,\n",
       "    'consumablesPurchased': 5,\n",
       "    'damageDealtToBuildings': 31191,\n",
       "    'damageDealtToObjectives': 34889,\n",
       "    'damageDealtToTurrets': 31191,\n",
       "    'damageSelfMitigated': 8119,\n",
       "    'deaths': 5,\n",
       "    'detectorWardsPlaced': 3,\n",
       "    'doubleKills': 2,\n",
       "    'dragonKills': 0,\n",
       "    'firstBloodAssist': False,\n",
       "    'firstBloodKill': False,\n",
       "    'firstTowerAssist': False,\n",
       "    'firstTowerKill': True,\n",
       "    'gameEndedInEarlySurrender': False,\n",
       "    'gameEndedInSurrender': False,\n",
       "    'goldEarned': 17485,\n",
       "    'goldSpent': 15675,\n",
       "    'individualPosition': 'BOTTOM',\n",
       "    'inhibitorKills': 0,\n",
       "    'inhibitorTakedowns': 1,\n",
       "    'inhibitorsLost': 0,\n",
       "    'item0': 3135,\n",
       "    'item1': 6653,\n",
       "    'item2': 3041,\n",
       "    'item3': 3089,\n",
       "    'item4': 3165,\n",
       "    'item5': 3020,\n",
       "    'item6': 3363,\n",
       "    'itemsPurchased': 24,\n",
       "    'killingSprees': 4,\n",
       "    'kills': 16,\n",
       "    'lane': 'MIDDLE',\n",
       "    'largestCriticalStrike': 0,\n",
       "    'largestKillingSpree': 5,\n",
       "    'largestMultiKill': 3,\n",
       "    'longestTimeSpentLiving': 504,\n",
       "    'magicDamageDealt': 188158,\n",
       "    'magicDamageDealtToChampions': 41614,\n",
       "    'magicDamageTaken': 3712,\n",
       "    'neutralMinionsKilled': 20,\n",
       "    'nexusKills': 1,\n",
       "    'nexusLost': 0,\n",
       "    'nexusTakedowns': 1,\n",
       "    'objectivesStolen': 0,\n",
       "    'objectivesStolenAssists': 0,\n",
       "    'participantId': 4,\n",
       "    'pentaKills': 0,\n",
       "    'perks': {'statPerks': {'defense': 5002, 'flex': 5008, 'offense': 5008},\n",
       "     'styles': [{'description': 'primaryStyle',\n",
       "       'selections': [{'perk': 8229, 'var1': 2837, 'var2': 0, 'var3': 0},\n",
       "        {'perk': 8226, 'var1': 250, 'var2': 1227, 'var3': 0},\n",
       "        {'perk': 8210, 'var1': 41, 'var2': 0, 'var3': 0},\n",
       "        {'perk': 8237, 'var1': 711, 'var2': 0, 'var3': 0}],\n",
       "       'style': 8200},\n",
       "      {'description': 'subStyle',\n",
       "       'selections': [{'perk': 8345, 'var1': 3, 'var2': 0, 'var3': 0},\n",
       "        {'perk': 8347, 'var1': 0, 'var2': 0, 'var3': 0}],\n",
       "       'style': 8300}]},\n",
       "    'physicalDamageDealt': 10802,\n",
       "    'physicalDamageDealtToChampions': 2223,\n",
       "    'physicalDamageTaken': 10991,\n",
       "    'profileIcon': 4,\n",
       "    'puuid': 'eOQ9JlQA0RcZW4da84XksR7fBxWGh6ZRYf3bTlYospxtUvw34UvI_ciKelgFFKDq9H5tMSQBqZi4PQ',\n",
       "    'quadraKills': 0,\n",
       "    'riotIdName': '',\n",
       "    'riotIdTagline': '',\n",
       "    'role': 'DUO',\n",
       "    'sightWardsBoughtInGame': 0,\n",
       "    'spell1Casts': 188,\n",
       "    'spell2Casts': 61,\n",
       "    'spell3Casts': 49,\n",
       "    'spell4Casts': 11,\n",
       "    'summoner1Casts': 4,\n",
       "    'summoner1Id': 4,\n",
       "    'summoner2Casts': 4,\n",
       "    'summoner2Id': 12,\n",
       "    'summonerId': 'Cvn2E5w-3H_SiR93smPY84EDzciA3vrVIdfxGhXqMyHZS76TZejpQGHIWg',\n",
       "    'summonerLevel': 183,\n",
       "    'summonerName': 'ADCGOD 12',\n",
       "    'teamEarlySurrendered': False,\n",
       "    'teamId': 100,\n",
       "    'teamPosition': 'BOTTOM',\n",
       "    'timeCCingOthers': 24,\n",
       "    'timePlayed': 1762,\n",
       "    'totalDamageDealt': 220340,\n",
       "    'totalDamageDealtToChampions': 44590,\n",
       "    'totalDamageShieldedOnTeammates': 0,\n",
       "    'totalDamageTaken': 15258,\n",
       "    'totalHeal': 270,\n",
       "    'totalHealsOnTeammates': 0,\n",
       "    'totalMinionsKilled': 238,\n",
       "    'totalTimeCCDealt': 253,\n",
       "    'totalTimeSpentDead': 175,\n",
       "    'totalUnitsHealed': 1,\n",
       "    'tripleKills': 1,\n",
       "    'trueDamageDealt': 21379,\n",
       "    'trueDamageDealtToChampions': 753,\n",
       "    'trueDamageTaken': 554,\n",
       "    'turretKills': 7,\n",
       "    'turretTakedowns': 7,\n",
       "    'turretsLost': 5,\n",
       "    'unrealKills': 0,\n",
       "    'visionScore': 19,\n",
       "    'visionWardsBoughtInGame': 3,\n",
       "    'wardsKilled': 4,\n",
       "    'wardsPlaced': 8,\n",
       "    'win': True},\n",
       "   {'assists': 28,\n",
       "    'baronKills': 0,\n",
       "    'bountyLevel': 0,\n",
       "    'champExperience': 12785,\n",
       "    'champLevel': 14,\n",
       "    'championId': 53,\n",
       "    'championName': 'Blitzcrank',\n",
       "    'championTransform': 0,\n",
       "    'consumablesPurchased': 11,\n",
       "    'damageDealtToBuildings': 30,\n",
       "    'damageDealtToObjectives': 30,\n",
       "    'damageDealtToTurrets': 30,\n",
       "    'damageSelfMitigated': 27601,\n",
       "    'deaths': 3,\n",
       "    'detectorWardsPlaced': 7,\n",
       "    'doubleKills': 0,\n",
       "    'dragonKills': 0,\n",
       "    'firstBloodAssist': False,\n",
       "    'firstBloodKill': False,\n",
       "    'firstTowerAssist': True,\n",
       "    'firstTowerKill': False,\n",
       "    'gameEndedInEarlySurrender': False,\n",
       "    'gameEndedInSurrender': False,\n",
       "    'goldEarned': 9594,\n",
       "    'goldSpent': 8575,\n",
       "    'individualPosition': 'UTILITY',\n",
       "    'inhibitorKills': 0,\n",
       "    'inhibitorTakedowns': 1,\n",
       "    'inhibitorsLost': 0,\n",
       "    'item0': 0,\n",
       "    'item1': 3190,\n",
       "    'item2': 3860,\n",
       "    'item3': 3109,\n",
       "    'item4': 3067,\n",
       "    'item5': 3117,\n",
       "    'item6': 3364,\n",
       "    'itemsPurchased': 30,\n",
       "    'killingSprees': 1,\n",
       "    'kills': 3,\n",
       "    'lane': 'BOTTOM',\n",
       "    'largestCriticalStrike': 0,\n",
       "    'largestKillingSpree': 2,\n",
       "    'largestMultiKill': 1,\n",
       "    'longestTimeSpentLiving': 845,\n",
       "    'magicDamageDealt': 12070,\n",
       "    'magicDamageDealtToChampions': 5951,\n",
       "    'magicDamageTaken': 5646,\n",
       "    'neutralMinionsKilled': 4,\n",
       "    'nexusKills': 0,\n",
       "    'nexusLost': 0,\n",
       "    'nexusTakedowns': 1,\n",
       "    'objectivesStolen': 0,\n",
       "    'objectivesStolenAssists': 0,\n",
       "    'participantId': 5,\n",
       "    'pentaKills': 0,\n",
       "    'perks': {'statPerks': {'defense': 5002, 'flex': 5008, 'offense': 5008},\n",
       "     'styles': [{'description': 'primaryStyle',\n",
       "       'selections': [{'perk': 8439, 'var1': 491, 'var2': 1210, 'var3': 0},\n",
       "        {'perk': 8463, 'var1': 1165, 'var2': 0, 'var3': 0},\n",
       "        {'perk': 8473, 'var1': 520, 'var2': 0, 'var3': 0},\n",
       "        {'perk': 8242, 'var1': 62, 'var2': 0, 'var3': 0}],\n",
       "       'style': 8400},\n",
       "      {'description': 'subStyle',\n",
       "       'selections': [{'perk': 8345, 'var1': 3, 'var2': 0, 'var3': 0},\n",
       "        {'perk': 8347, 'var1': 0, 'var2': 0, 'var3': 0}],\n",
       "       'style': 8300}]},\n",
       "    'physicalDamageDealt': 5892,\n",
       "    'physicalDamageDealtToChampions': 2854,\n",
       "    'physicalDamageTaken': 16580,\n",
       "    'profileIcon': 4022,\n",
       "    'puuid': 'QvCnkusu8d-z5bD2UeNkxQMYfcC6LWp_RNhYx872m6zyQxUIVXq7z-rLh7uU8iQvxu9M4zs3xSLYbw',\n",
       "    'quadraKills': 0,\n",
       "    'riotIdName': '',\n",
       "    'riotIdTagline': '',\n",
       "    'role': 'SOLO',\n",
       "    'sightWardsBoughtInGame': 0,\n",
       "    'spell1Casts': 31,\n",
       "    'spell2Casts': 64,\n",
       "    'spell3Casts': 49,\n",
       "    'spell4Casts': 11,\n",
       "    'summoner1Casts': 7,\n",
       "    'summoner1Id': 14,\n",
       "    'summoner2Casts': 5,\n",
       "    'summoner2Id': 4,\n",
       "    'summonerId': 'x-gku8EcjFsTK5qwFGs8nJLn95HHv9Z3grrOMu_VYfYS4ZU',\n",
       "    'summonerLevel': 230,\n",
       "    'summonerName': '유백진',\n",
       "    'teamEarlySurrendered': False,\n",
       "    'teamId': 100,\n",
       "    'teamPosition': 'UTILITY',\n",
       "    'timeCCingOthers': 41,\n",
       "    'timePlayed': 1762,\n",
       "    'totalDamageDealt': 24804,\n",
       "    'totalDamageDealtToChampions': 9555,\n",
       "    'totalDamageShieldedOnTeammates': 1548,\n",
       "    'totalDamageTaken': 23446,\n",
       "    'totalHeal': 3254,\n",
       "    'totalHealsOnTeammates': 661,\n",
       "    'totalMinionsKilled': 41,\n",
       "    'totalTimeCCDealt': 173,\n",
       "    'totalTimeSpentDead': 112,\n",
       "    'totalUnitsHealed': 5,\n",
       "    'tripleKills': 0,\n",
       "    'trueDamageDealt': 6840,\n",
       "    'trueDamageDealtToChampions': 750,\n",
       "    'trueDamageTaken': 1219,\n",
       "    'turretKills': 0,\n",
       "    'turretTakedowns': 4,\n",
       "    'turretsLost': 5,\n",
       "    'unrealKills': 0,\n",
       "    'visionScore': 71,\n",
       "    'visionWardsBoughtInGame': 8,\n",
       "    'wardsKilled': 10,\n",
       "    'wardsPlaced': 26,\n",
       "    'win': True},\n",
       "   {'assists': 10,\n",
       "    'baronKills': 0,\n",
       "    'bountyLevel': 0,\n",
       "    'champExperience': 14688,\n",
       "    'champLevel': 15,\n",
       "    'championId': 14,\n",
       "    'championName': 'Sion',\n",
       "    'championTransform': 0,\n",
       "    'consumablesPurchased': 2,\n",
       "    'damageDealtToBuildings': 1766,\n",
       "    'damageDealtToObjectives': 3466,\n",
       "    'damageDealtToTurrets': 1766,\n",
       "    'damageSelfMitigated': 82453,\n",
       "    'deaths': 6,\n",
       "    'detectorWardsPlaced': 1,\n",
       "    'doubleKills': 0,\n",
       "    'dragonKills': 0,\n",
       "    'firstBloodAssist': False,\n",
       "    'firstBloodKill': False,\n",
       "    'firstTowerAssist': False,\n",
       "    'firstTowerKill': False,\n",
       "    'gameEndedInEarlySurrender': False,\n",
       "    'gameEndedInSurrender': False,\n",
       "    'goldEarned': 11630,\n",
       "    'goldSpent': 11755,\n",
       "    'individualPosition': 'TOP',\n",
       "    'inhibitorKills': 0,\n",
       "    'inhibitorTakedowns': 0,\n",
       "    'inhibitorsLost': 1,\n",
       "    'item0': 3211,\n",
       "    'item1': 1028,\n",
       "    'item2': 6662,\n",
       "    'item3': 3047,\n",
       "    'item4': 4401,\n",
       "    'item5': 3075,\n",
       "    'item6': 3340,\n",
       "    'itemsPurchased': 21,\n",
       "    'killingSprees': 2,\n",
       "    'kills': 6,\n",
       "    'lane': 'TOP',\n",
       "    'largestCriticalStrike': 0,\n",
       "    'largestKillingSpree': 2,\n",
       "    'largestMultiKill': 1,\n",
       "    'longestTimeSpentLiving': 880,\n",
       "    'magicDamageDealt': 48286,\n",
       "    'magicDamageDealtToChampions': 9806,\n",
       "    'magicDamageTaken': 20820,\n",
       "    'neutralMinionsKilled': 2,\n",
       "    'nexusKills': 0,\n",
       "    'nexusLost': 1,\n",
       "    'nexusTakedowns': 0,\n",
       "    'objectivesStolen': 0,\n",
       "    'objectivesStolenAssists': 0,\n",
       "    'participantId': 6,\n",
       "    'pentaKills': 0,\n",
       "    'perks': {'statPerks': {'defense': 5002, 'flex': 5002, 'offense': 5005},\n",
       "     'styles': [{'description': 'primaryStyle',\n",
       "       'selections': [{'perk': 8437, 'var1': 1949, 'var2': 1593, 'var3': 0},\n",
       "        {'perk': 8401, 'var1': 759, 'var2': 0, 'var3': 0},\n",
       "        {'perk': 8473, 'var1': 768, 'var2': 0, 'var3': 0},\n",
       "        {'perk': 8451, 'var1': 255, 'var2': 0, 'var3': 0}],\n",
       "       'style': 8400},\n",
       "      {'description': 'subStyle',\n",
       "       'selections': [{'perk': 8304, 'var1': 10, 'var2': 3, 'var3': 0},\n",
       "        {'perk': 8345, 'var1': 3, 'var2': 0, 'var3': 0}],\n",
       "       'style': 8300}]},\n",
       "    'physicalDamageDealt': 75648,\n",
       "    'physicalDamageDealtToChampions': 10886,\n",
       "    'physicalDamageTaken': 21930,\n",
       "    'profileIcon': 29,\n",
       "    'puuid': 'l_4wZy87Sns8jCcr8WNJI1cRBtV3IwkkNYasYnPF1wGOo3LjYFvO1UFxDWjUagHPIA0d1IlYMiXT4Q',\n",
       "    'quadraKills': 0,\n",
       "    'riotIdName': '',\n",
       "    'riotIdTagline': '',\n",
       "    'role': 'SOLO',\n",
       "    'sightWardsBoughtInGame': 0,\n",
       "    'spell1Casts': 83,\n",
       "    'spell2Casts': 87,\n",
       "    'spell3Casts': 45,\n",
       "    'spell4Casts': 9,\n",
       "    'summoner1Casts': 4,\n",
       "    'summoner1Id': 4,\n",
       "    'summoner2Casts': 3,\n",
       "    'summoner2Id': 12,\n",
       "    'summonerId': '2LXM3EABvX8pJ_S-NeDNoVIl7WmGEoRSDEDZgikF55j4lBQHUDQeRrmrQg',\n",
       "    'summonerLevel': 200,\n",
       "    'summonerName': 'buxiangwanle',\n",
       "    'teamEarlySurrendered': False,\n",
       "    'teamId': 200,\n",
       "    'teamPosition': 'TOP',\n",
       "    'timeCCingOthers': 65,\n",
       "    'timePlayed': 1762,\n",
       "    'totalDamageDealt': 125502,\n",
       "    'totalDamageDealtToChampions': 21236,\n",
       "    'totalDamageShieldedOnTeammates': 0,\n",
       "    'totalDamageTaken': 44701,\n",
       "    'totalHeal': 5370,\n",
       "    'totalHealsOnTeammates': 0,\n",
       "    'totalMinionsKilled': 153,\n",
       "    'totalTimeCCDealt': 1187,\n",
       "    'totalTimeSpentDead': 186,\n",
       "    'totalUnitsHealed': 1,\n",
       "    'tripleKills': 0,\n",
       "    'trueDamageDealt': 1566,\n",
       "    'trueDamageDealtToChampions': 542,\n",
       "    'trueDamageTaken': 1950,\n",
       "    'turretKills': 0,\n",
       "    'turretTakedowns': 2,\n",
       "    'turretsLost': 8,\n",
       "    'unrealKills': 0,\n",
       "    'visionScore': 18,\n",
       "    'visionWardsBoughtInGame': 1,\n",
       "    'wardsKilled': 1,\n",
       "    'wardsPlaced': 11,\n",
       "    'win': False},\n",
       "   {'assists': 13,\n",
       "    'baronKills': 1,\n",
       "    'bountyLevel': 0,\n",
       "    'champExperience': 15204,\n",
       "    'champLevel': 16,\n",
       "    'championId': 104,\n",
       "    'championName': 'Graves',\n",
       "    'championTransform': 0,\n",
       "    'consumablesPurchased': 10,\n",
       "    'damageDealtToBuildings': 308,\n",
       "    'damageDealtToObjectives': 17751,\n",
       "    'damageDealtToTurrets': 308,\n",
       "    'damageSelfMitigated': 28643,\n",
       "    'deaths': 12,\n",
       "    'detectorWardsPlaced': 8,\n",
       "    'doubleKills': 1,\n",
       "    'dragonKills': 2,\n",
       "    'firstBloodAssist': False,\n",
       "    'firstBloodKill': False,\n",
       "    'firstTowerAssist': False,\n",
       "    'firstTowerKill': False,\n",
       "    'gameEndedInEarlySurrender': False,\n",
       "    'gameEndedInSurrender': False,\n",
       "    'goldEarned': 11992,\n",
       "    'goldSpent': 11850,\n",
       "    'individualPosition': 'JUNGLE',\n",
       "    'inhibitorKills': 0,\n",
       "    'inhibitorTakedowns': 0,\n",
       "    'inhibitorsLost': 1,\n",
       "    'item0': 3072,\n",
       "    'item1': 2055,\n",
       "    'item2': 6673,\n",
       "    'item3': 3036,\n",
       "    'item4': 0,\n",
       "    'item5': 3111,\n",
       "    'item6': 3364,\n",
       "    'itemsPurchased': 29,\n",
       "    'killingSprees': 1,\n",
       "    'kills': 5,\n",
       "    'lane': 'JUNGLE',\n",
       "    'largestCriticalStrike': 304,\n",
       "    'largestKillingSpree': 2,\n",
       "    'largestMultiKill': 2,\n",
       "    'longestTimeSpentLiving': 446,\n",
       "    'magicDamageDealt': 6980,\n",
       "    'magicDamageDealtToChampions': 571,\n",
       "    'magicDamageTaken': 14735,\n",
       "    'neutralMinionsKilled': 130,\n",
       "    'nexusKills': 0,\n",
       "    'nexusLost': 1,\n",
       "    'nexusTakedowns': 0,\n",
       "    'objectivesStolen': 0,\n",
       "    'objectivesStolenAssists': 0,\n",
       "    'participantId': 7,\n",
       "    'pentaKills': 0,\n",
       "    'perks': {'statPerks': {'defense': 5002, 'flex': 5008, 'offense': 5005},\n",
       "     'styles': [{'description': 'primaryStyle',\n",
       "       'selections': [{'perk': 8021, 'var1': 2622, 'var2': 1709, 'var3': 0},\n",
       "        {'perk': 9101, 'var1': 2453, 'var2': 3183, 'var3': 0},\n",
       "        {'perk': 9104, 'var1': 12, 'var2': 20, 'var3': 0},\n",
       "        {'perk': 8014, 'var1': 546, 'var2': 0, 'var3': 0}],\n",
       "       'style': 8000},\n",
       "      {'description': 'subStyle',\n",
       "       'selections': [{'perk': 8304, 'var1': 9, 'var2': 4, 'var3': 5},\n",
       "        {'perk': 8347, 'var1': 0, 'var2': 0, 'var3': 0}],\n",
       "       'style': 8300}]},\n",
       "    'physicalDamageDealt': 144233,\n",
       "    'physicalDamageDealtToChampions': 19091,\n",
       "    'physicalDamageTaken': 15357,\n",
       "    'profileIcon': 5090,\n",
       "    'puuid': '5JE3_wcOm7bHf0OATqBeRzgTN0tlH9cLeDH13FZhvEt2yMOfD9FpipKAwYJNSaxMS6tGczlQioxQog',\n",
       "    'quadraKills': 0,\n",
       "    'riotIdName': '',\n",
       "    'riotIdTagline': '',\n",
       "    'role': 'NONE',\n",
       "    'sightWardsBoughtInGame': 0,\n",
       "    'spell1Casts': 77,\n",
       "    'spell2Casts': 27,\n",
       "    'spell3Casts': 40,\n",
       "    'spell4Casts': 11,\n",
       "    'summoner1Casts': 18,\n",
       "    'summoner1Id': 11,\n",
       "    'summoner2Casts': 3,\n",
       "    'summoner2Id': 4,\n",
       "    'summonerId': 'arU0FpTHHLG7kxrCaYi5DaLsoCUHAe3bdQj0bBmmeQ-5hA',\n",
       "    'summonerLevel': 667,\n",
       "    'summonerName': 'Wilder',\n",
       "    'teamEarlySurrendered': False,\n",
       "    'teamId': 200,\n",
       "    'teamPosition': 'JUNGLE',\n",
       "    'timeCCingOthers': 21,\n",
       "    'timePlayed': 1762,\n",
       "    'totalDamageDealt': 162146,\n",
       "    'totalDamageDealtToChampions': 21148,\n",
       "    'totalDamageShieldedOnTeammates': 0,\n",
       "    'totalDamageTaken': 31511,\n",
       "    'totalHeal': 5751,\n",
       "    'totalHealsOnTeammates': 0,\n",
       "    'totalMinionsKilled': 65,\n",
       "    'totalTimeCCDealt': 397,\n",
       "    'totalTimeSpentDead': 399,\n",
       "    'totalUnitsHealed': 1,\n",
       "    'tripleKills': 0,\n",
       "    'trueDamageDealt': 10931,\n",
       "    'trueDamageDealtToChampions': 1485,\n",
       "    'trueDamageTaken': 1417,\n",
       "    'turretKills': 1,\n",
       "    'turretTakedowns': 1,\n",
       "    'turretsLost': 8,\n",
       "    'unrealKills': 0,\n",
       "    'visionScore': 45,\n",
       "    'visionWardsBoughtInGame': 10,\n",
       "    'wardsKilled': 12,\n",
       "    'wardsPlaced': 9,\n",
       "    'win': False},\n",
       "   {'assists': 4,\n",
       "    'baronKills': 0,\n",
       "    'bountyLevel': 0,\n",
       "    'champExperience': 16020,\n",
       "    'champLevel': 16,\n",
       "    'championId': 142,\n",
       "    'championName': 'Zoe',\n",
       "    'championTransform': 0,\n",
       "    'consumablesPurchased': 2,\n",
       "    'damageDealtToBuildings': 5372,\n",
       "    'damageDealtToObjectives': 7383,\n",
       "    'damageDealtToTurrets': 5372,\n",
       "    'damageSelfMitigated': 8487,\n",
       "    'deaths': 9,\n",
       "    'detectorWardsPlaced': 0,\n",
       "    'doubleKills': 1,\n",
       "    'dragonKills': 0,\n",
       "    'firstBloodAssist': False,\n",
       "    'firstBloodKill': False,\n",
       "    'firstTowerAssist': False,\n",
       "    'firstTowerKill': False,\n",
       "    'gameEndedInEarlySurrender': False,\n",
       "    'gameEndedInSurrender': False,\n",
       "    'goldEarned': 15033,\n",
       "    'goldSpent': 14350,\n",
       "    'individualPosition': 'MIDDLE',\n",
       "    'inhibitorKills': 0,\n",
       "    'inhibitorTakedowns': 0,\n",
       "    'inhibitorsLost': 1,\n",
       "    'item0': 4645,\n",
       "    'item1': 6656,\n",
       "    'item2': 3089,\n",
       "    'item3': 4628,\n",
       "    'item4': 3158,\n",
       "    'item5': 1082,\n",
       "    'item6': 3364,\n",
       "    'itemsPurchased': 20,\n",
       "    'killingSprees': 2,\n",
       "    'kills': 10,\n",
       "    'lane': 'MIDDLE',\n",
       "    'largestCriticalStrike': 0,\n",
       "    'largestKillingSpree': 5,\n",
       "    'largestMultiKill': 2,\n",
       "    'longestTimeSpentLiving': 450,\n",
       "    'magicDamageDealt': 138918,\n",
       "    'magicDamageDealtToChampions': 23086,\n",
       "    'magicDamageTaken': 13198,\n",
       "    'neutralMinionsKilled': 4,\n",
       "    'nexusKills': 0,\n",
       "    'nexusLost': 1,\n",
       "    'nexusTakedowns': 0,\n",
       "    'objectivesStolen': 0,\n",
       "    'objectivesStolenAssists': 0,\n",
       "    'participantId': 8,\n",
       "    'pentaKills': 0,\n",
       "    'perks': {'statPerks': {'defense': 5003, 'flex': 5008, 'offense': 5005},\n",
       "     'styles': [{'description': 'primaryStyle',\n",
       "       'selections': [{'perk': 8360, 'var1': 10, 'var2': 0, 'var3': 0},\n",
       "        {'perk': 8313, 'var1': 0, 'var2': 0, 'var3': 0},\n",
       "        {'perk': 8316, 'var1': 6545, 'var2': 0, 'var3': 0},\n",
       "        {'perk': 8352, 'var1': 189, 'var2': 1021, 'var3': 787}],\n",
       "       'style': 8300},\n",
       "      {'description': 'subStyle',\n",
       "       'selections': [{'perk': 8139, 'var1': 1103, 'var2': 0, 'var3': 0},\n",
       "        {'perk': 8135, 'var1': 888, 'var2': 4, 'var3': 0}],\n",
       "       'style': 8100}]},\n",
       "    'physicalDamageDealt': 17680,\n",
       "    'physicalDamageDealtToChampions': 2515,\n",
       "    'physicalDamageTaken': 9790,\n",
       "    'profileIcon': 5177,\n",
       "    'puuid': '1DuEU_BPh9hfGKcguC1Yl5IRNPExfYeMBvdl54y0Ee26XuM6TXEGYXtATchmHw-L_dC64PZeNteA7g',\n",
       "    'quadraKills': 0,\n",
       "    'riotIdName': '',\n",
       "    'riotIdTagline': '',\n",
       "    'role': 'SOLO',\n",
       "    'sightWardsBoughtInGame': 0,\n",
       "    'spell1Casts': 287,\n",
       "    'spell2Casts': 20,\n",
       "    'spell3Casts': 53,\n",
       "    'spell4Casts': 36,\n",
       "    'summoner1Casts': 7,\n",
       "    'summoner1Id': 4,\n",
       "    'summoner2Casts': 5,\n",
       "    'summoner2Id': 12,\n",
       "    'summonerId': 'rZDxG7teBHbYVe5czColr0yc1GO3U0-WCpBQzCRX9ELFz7XPPq9fxVMcLg',\n",
       "    'summonerLevel': 233,\n",
       "    'summonerName': 'dfgfdgfdz',\n",
       "    'teamEarlySurrendered': False,\n",
       "    'teamId': 200,\n",
       "    'teamPosition': 'MIDDLE',\n",
       "    'timeCCingOthers': 61,\n",
       "    'timePlayed': 1762,\n",
       "    'totalDamageDealt': 164339,\n",
       "    'totalDamageDealtToChampions': 29577,\n",
       "    'totalDamageShieldedOnTeammates': 445,\n",
       "    'totalDamageTaken': 23712,\n",
       "    'totalHeal': 3050,\n",
       "    'totalHealsOnTeammates': 0,\n",
       "    'totalMinionsKilled': 207,\n",
       "    'totalTimeCCDealt': 240,\n",
       "    'totalTimeSpentDead': 235,\n",
       "    'totalUnitsHealed': 1,\n",
       "    'tripleKills': 0,\n",
       "    'trueDamageDealt': 7740,\n",
       "    'trueDamageDealtToChampions': 3974,\n",
       "    'trueDamageTaken': 722,\n",
       "    'turretKills': 3,\n",
       "    'turretTakedowns': 3,\n",
       "    'turretsLost': 8,\n",
       "    'unrealKills': 0,\n",
       "    'visionScore': 4,\n",
       "    'visionWardsBoughtInGame': 2,\n",
       "    'wardsKilled': 0,\n",
       "    'wardsPlaced': 3,\n",
       "    'win': False},\n",
       "   {'assists': 13,\n",
       "    'baronKills': 0,\n",
       "    'bountyLevel': 0,\n",
       "    'champExperience': 13956,\n",
       "    'champLevel': 15,\n",
       "    'championId': 222,\n",
       "    'championName': 'Jinx',\n",
       "    'championTransform': 0,\n",
       "    'consumablesPurchased': 7,\n",
       "    'damageDealtToBuildings': 2654,\n",
       "    'damageDealtToObjectives': 7692,\n",
       "    'damageDealtToTurrets': 2654,\n",
       "    'damageSelfMitigated': 7122,\n",
       "    'deaths': 11,\n",
       "    'detectorWardsPlaced': 4,\n",
       "    'doubleKills': 0,\n",
       "    'dragonKills': 0,\n",
       "    'firstBloodAssist': False,\n",
       "    'firstBloodKill': False,\n",
       "    'firstTowerAssist': False,\n",
       "    'firstTowerKill': False,\n",
       "    'gameEndedInEarlySurrender': False,\n",
       "    'gameEndedInSurrender': False,\n",
       "    'goldEarned': 12357,\n",
       "    'goldSpent': 12350,\n",
       "    'individualPosition': 'BOTTOM',\n",
       "    'inhibitorKills': 0,\n",
       "    'inhibitorTakedowns': 0,\n",
       "    'inhibitorsLost': 1,\n",
       "    'item0': 6671,\n",
       "    'item1': 2421,\n",
       "    'item2': 1018,\n",
       "    'item3': 3031,\n",
       "    'item4': 3046,\n",
       "    'item5': 3006,\n",
       "    'item6': 3363,\n",
       "    'itemsPurchased': 27,\n",
       "    'killingSprees': 1,\n",
       "    'kills': 5,\n",
       "    'lane': 'BOTTOM',\n",
       "    'largestCriticalStrike': 458,\n",
       "    'largestKillingSpree': 2,\n",
       "    'largestMultiKill': 1,\n",
       "    'longestTimeSpentLiving': 399,\n",
       "    'magicDamageDealt': 1790,\n",
       "    'magicDamageDealtToChampions': 1410,\n",
       "    'magicDamageTaken': 11007,\n",
       "    'neutralMinionsKilled': 12,\n",
       "    'nexusKills': 0,\n",
       "    'nexusLost': 1,\n",
       "    'nexusTakedowns': 0,\n",
       "    'objectivesStolen': 0,\n",
       "    'objectivesStolenAssists': 0,\n",
       "    'participantId': 9,\n",
       "    'pentaKills': 0,\n",
       "    'perks': {'statPerks': {'defense': 5003, 'flex': 5008, 'offense': 5005},\n",
       "     'styles': [{'description': 'primaryStyle',\n",
       "       'selections': [{'perk': 8008, 'var1': 46, 'var2': 10, 'var3': 0},\n",
       "        {'perk': 8009, 'var1': 2135, 'var2': 0, 'var3': 0},\n",
       "        {'perk': 9103, 'var1': 20, 'var2': 20, 'var3': 0},\n",
       "        {'perk': 8017, 'var1': 1748, 'var2': 0, 'var3': 0}],\n",
       "       'style': 8000},\n",
       "      {'description': 'subStyle',\n",
       "       'selections': [{'perk': 8345, 'var1': 3, 'var2': 0, 'var3': 0},\n",
       "        {'perk': 8347, 'var1': 0, 'var2': 0, 'var3': 0}],\n",
       "       'style': 8300}]},\n",
       "    'physicalDamageDealt': 123789,\n",
       "    'physicalDamageDealtToChampions': 18489,\n",
       "    'physicalDamageTaken': 11618,\n",
       "    'profileIcon': 22,\n",
       "    'puuid': '3VG4-t7zlDMdP1ahZIKJ_OYr0an7B1UOHJ3Kt-vK6hfczqWUMP_lsgWuQtXOM1-9VulaAc77mtHhKw',\n",
       "    'quadraKills': 0,\n",
       "    'riotIdName': '',\n",
       "    'riotIdTagline': '',\n",
       "    'role': 'CARRY',\n",
       "    'sightWardsBoughtInGame': 0,\n",
       "    'spell1Casts': 162,\n",
       "    'spell2Casts': 54,\n",
       "    'spell3Casts': 20,\n",
       "    'spell4Casts': 11,\n",
       "    'summoner1Casts': 4,\n",
       "    'summoner1Id': 4,\n",
       "    'summoner2Casts': 6,\n",
       "    'summoner2Id': 7,\n",
       "    'summonerId': 'Yxw3DqjPEsc8xqrR4xDQmWZlFiVZN5AvQMNN_JXUAqs9xsYAhqBPrGX0DQ',\n",
       "    'summonerLevel': 169,\n",
       "    'summonerName': 'hope3',\n",
       "    'teamEarlySurrendered': False,\n",
       "    'teamId': 200,\n",
       "    'teamPosition': 'BOTTOM',\n",
       "    'timeCCingOthers': 26,\n",
       "    'timePlayed': 1762,\n",
       "    'totalDamageDealt': 127253,\n",
       "    'totalDamageDealtToChampions': 21032,\n",
       "    'totalDamageShieldedOnTeammates': 0,\n",
       "    'totalDamageTaken': 23013,\n",
       "    'totalHeal': 2075,\n",
       "    'totalHealsOnTeammates': 613,\n",
       "    'totalMinionsKilled': 186,\n",
       "    'totalTimeCCDealt': 130,\n",
       "    'totalTimeSpentDead': 318,\n",
       "    'totalUnitsHealed': 3,\n",
       "    'tripleKills': 0,\n",
       "    'trueDamageDealt': 1673,\n",
       "    'trueDamageDealtToChampions': 1131,\n",
       "    'trueDamageTaken': 388,\n",
       "    'turretKills': 0,\n",
       "    'turretTakedowns': 1,\n",
       "    'turretsLost': 8,\n",
       "    'unrealKills': 0,\n",
       "    'visionScore': 26,\n",
       "    'visionWardsBoughtInGame': 4,\n",
       "    'wardsKilled': 4,\n",
       "    'wardsPlaced': 13,\n",
       "    'win': False},\n",
       "   {'assists': 14,\n",
       "    'baronKills': 0,\n",
       "    'bountyLevel': 0,\n",
       "    'champExperience': 9559,\n",
       "    'champLevel': 12,\n",
       "    'championId': 111,\n",
       "    'championName': 'Nautilus',\n",
       "    'championTransform': 0,\n",
       "    'consumablesPurchased': 13,\n",
       "    'damageDealtToBuildings': 0,\n",
       "    'damageDealtToObjectives': 0,\n",
       "    'damageDealtToTurrets': 0,\n",
       "    'damageSelfMitigated': 28790,\n",
       "    'deaths': 11,\n",
       "    'detectorWardsPlaced': 8,\n",
       "    'doubleKills': 0,\n",
       "    'dragonKills': 0,\n",
       "    'firstBloodAssist': False,\n",
       "    'firstBloodKill': False,\n",
       "    'firstTowerAssist': False,\n",
       "    'firstTowerKill': False,\n",
       "    'gameEndedInEarlySurrender': False,\n",
       "    'gameEndedInSurrender': False,\n",
       "    'goldEarned': 8030,\n",
       "    'goldSpent': 7850,\n",
       "    'individualPosition': 'UTILITY',\n",
       "    'inhibitorKills': 0,\n",
       "    'inhibitorTakedowns': 0,\n",
       "    'inhibitorsLost': 1,\n",
       "    'item0': 3001,\n",
       "    'item1': 3857,\n",
       "    'item2': 2055,\n",
       "    'item3': 3158,\n",
       "    'item4': 8020,\n",
       "    'item5': 1028,\n",
       "    'item6': 3364,\n",
       "    'itemsPurchased': 29,\n",
       "    'killingSprees': 0,\n",
       "    'kills': 2,\n",
       "    'lane': 'BOTTOM',\n",
       "    'largestCriticalStrike': 0,\n",
       "    'largestKillingSpree': 0,\n",
       "    'largestMultiKill': 1,\n",
       "    'longestTimeSpentLiving': 372,\n",
       "    'magicDamageDealt': 9632,\n",
       "    'magicDamageDealtToChampions': 5737,\n",
       "    'magicDamageTaken': 11872,\n",
       "    'neutralMinionsKilled': 0,\n",
       "    'nexusKills': 0,\n",
       "    'nexusLost': 1,\n",
       "    'nexusTakedowns': 0,\n",
       "    'objectivesStolen': 0,\n",
       "    'objectivesStolenAssists': 0,\n",
       "    'participantId': 10,\n",
       "    'pentaKills': 0,\n",
       "    'perks': {'statPerks': {'defense': 5003, 'flex': 5003, 'offense': 5008},\n",
       "     'styles': [{'description': 'primaryStyle',\n",
       "       'selections': [{'perk': 8439, 'var1': 746, 'var2': 2101, 'var3': 0},\n",
       "        {'perk': 8463, 'var1': 1931, 'var2': 0, 'var3': 0},\n",
       "        {'perk': 8473, 'var1': 647, 'var2': 0, 'var3': 0},\n",
       "        {'perk': 8242, 'var1': 104, 'var2': 0, 'var3': 0}],\n",
       "       'style': 8400},\n",
       "      {'description': 'subStyle',\n",
       "       'selections': [{'perk': 8306, 'var1': 3, 'var2': 0, 'var3': 0},\n",
       "        {'perk': 8352, 'var1': 44, 'var2': 184, 'var3': 0}],\n",
       "       'style': 8300}]},\n",
       "    'physicalDamageDealt': 6716,\n",
       "    'physicalDamageDealtToChampions': 2591,\n",
       "    'physicalDamageTaken': 10644,\n",
       "    'profileIcon': 10,\n",
       "    'puuid': 'U7ACnhTWGL-tpYYYWzcMUGjcmlo6weqf2CZQLDbMmkqypQcMj1oU4dDB_Tbynuxp2jpz-nLETFSbvg',\n",
       "    'quadraKills': 0,\n",
       "    'riotIdName': '',\n",
       "    'riotIdTagline': '',\n",
       "    'role': 'SUPPORT',\n",
       "    'sightWardsBoughtInGame': 0,\n",
       "    'spell1Casts': 76,\n",
       "    'spell2Casts': 43,\n",
       "    'spell3Casts': 27,\n",
       "    'spell4Casts': 11,\n",
       "    'summoner1Casts': 7,\n",
       "    'summoner1Id': 4,\n",
       "    'summoner2Casts': 7,\n",
       "    'summoner2Id': 14,\n",
       "    'summonerId': 'xXysgEgBE2ZAHuKUxOZblgElDVxVtiOtbnq0xpS0Wa5DqBzHvq-MGmnypQ',\n",
       "    'summonerLevel': 195,\n",
       "    'summonerName': 'SUPG0D 12',\n",
       "    'teamEarlySurrendered': False,\n",
       "    'teamId': 200,\n",
       "    'teamPosition': 'UTILITY',\n",
       "    'timeCCingOthers': 77,\n",
       "    'timePlayed': 1762,\n",
       "    'totalDamageDealt': 24756,\n",
       "    'totalDamageDealtToChampions': 9516,\n",
       "    'totalDamageShieldedOnTeammates': 0,\n",
       "    'totalDamageTaken': 24943,\n",
       "    'totalHeal': 1958,\n",
       "    'totalHealsOnTeammates': 1044,\n",
       "    'totalMinionsKilled': 29,\n",
       "    'totalTimeCCDealt': 374,\n",
       "    'totalTimeSpentDead': 292,\n",
       "    'totalUnitsHealed': 5,\n",
       "    'tripleKills': 0,\n",
       "    'trueDamageDealt': 8407,\n",
       "    'trueDamageDealtToChampions': 1187,\n",
       "    'trueDamageTaken': 2426,\n",
       "    'turretKills': 0,\n",
       "    'turretTakedowns': 0,\n",
       "    'turretsLost': 8,\n",
       "    'unrealKills': 0,\n",
       "    'visionScore': 74,\n",
       "    'visionWardsBoughtInGame': 10,\n",
       "    'wardsKilled': 5,\n",
       "    'wardsPlaced': 37,\n",
       "    'win': False}],\n",
       "  'platformId': 'KR',\n",
       "  'queueId': 420,\n",
       "  'teams': [{'bans': [{'championId': 711, 'pickTurn': 1},\n",
       "     {'championId': 51, 'pickTurn': 2},\n",
       "     {'championId': 41, 'pickTurn': 3},\n",
       "     {'championId': 91, 'pickTurn': 4},\n",
       "     {'championId': 7, 'pickTurn': 5}],\n",
       "    'objectives': {'baron': {'first': False, 'kills': 0},\n",
       "     'champion': {'first': True, 'kills': 49},\n",
       "     'dragon': {'first': False, 'kills': 2},\n",
       "     'inhibitor': {'first': True, 'kills': 1},\n",
       "     'riftHerald': {'first': True, 'kills': 2},\n",
       "     'tower': {'first': True, 'kills': 8}},\n",
       "    'teamId': 100,\n",
       "    'win': True},\n",
       "   {'bans': [{'championId': 246, 'pickTurn': 6},\n",
       "     {'championId': 112, 'pickTurn': 7},\n",
       "     {'championId': -1, 'pickTurn': 8},\n",
       "     {'championId': -1, 'pickTurn': 9},\n",
       "     {'championId': 30, 'pickTurn': 10}],\n",
       "    'objectives': {'baron': {'first': True, 'kills': 1},\n",
       "     'champion': {'first': False, 'kills': 28},\n",
       "     'dragon': {'first': True, 'kills': 2},\n",
       "     'inhibitor': {'first': False, 'kills': 0},\n",
       "     'riftHerald': {'first': False, 'kills': 0},\n",
       "     'tower': {'first': False, 'kills': 5}},\n",
       "    'teamId': 200,\n",
       "    'win': False}],\n",
       "  'tournamentCode': ''}}"
      ]
     },
     "execution_count": 16,
     "metadata": {},
     "output_type": "execute_result"
    }
   ],
   "source": [
    "url4 = \"https://asia.api.riotgames.com/lol/match/v5/matches/KR_5671738633\"\n",
    "r = requests.get(url4, headers=request_header).json()\n",
    "r"
   ]
  },
  {
   "cell_type": "code",
   "execution_count": 46,
   "id": "9e6c588a",
   "metadata": {},
   "outputs": [
    {
     "data": {
      "text/plain": [
       "{'bans': [{'championId': -1, 'pickTurn': 6},\n",
       "  {'championId': 24, 'pickTurn': 7},\n",
       "  {'championId': 234, 'pickTurn': 8},\n",
       "  {'championId': 91, 'pickTurn': 9},\n",
       "  {'championId': 134, 'pickTurn': 10}],\n",
       " 'objectives': {'baron': {'first': False, 'kills': 0},\n",
       "  'champion': {'first': True, 'kills': 34},\n",
       "  'dragon': {'first': True, 'kills': 2},\n",
       "  'inhibitor': {'first': True, 'kills': 1},\n",
       "  'riftHerald': {'first': True, 'kills': 2},\n",
       "  'tower': {'first': True, 'kills': 8}},\n",
       " 'teamId': 200,\n",
       " 'win': True}"
      ]
     },
     "execution_count": 46,
     "metadata": {},
     "output_type": "execute_result"
    }
   ],
   "source": [
    "r['info']['teams'][1]\n"
   ]
  },
  {
   "cell_type": "code",
   "execution_count": 47,
   "id": "194b198b",
   "metadata": {},
   "outputs": [
    {
     "data": {
      "text/plain": [
       "{'bans': [{'championId': 91, 'pickTurn': 1},\n",
       "  {'championId': -1, 'pickTurn': 2},\n",
       "  {'championId': 39, 'pickTurn': 3},\n",
       "  {'championId': -1, 'pickTurn': 4},\n",
       "  {'championId': 222, 'pickTurn': 5}],\n",
       " 'objectives': {'baron': {'first': False, 'kills': 0},\n",
       "  'champion': {'first': False, 'kills': 18},\n",
       "  'dragon': {'first': False, 'kills': 1},\n",
       "  'inhibitor': {'first': False, 'kills': 0},\n",
       "  'riftHerald': {'first': False, 'kills': 0},\n",
       "  'tower': {'first': False, 'kills': 3}},\n",
       " 'teamId': 100,\n",
       " 'win': False}"
      ]
     },
     "execution_count": 47,
     "metadata": {},
     "output_type": "execute_result"
    }
   ],
   "source": [
    "r['info']['teams'][0]"
   ]
  },
  {
   "cell_type": "code",
   "execution_count": 56,
   "id": "0f143269",
   "metadata": {},
   "outputs": [
    {
     "data": {
      "text/plain": [
       "200"
      ]
     },
     "execution_count": 56,
     "metadata": {},
     "output_type": "execute_result"
    }
   ],
   "source": [
    "r['info']['participants'][5\n",
    "                         ]['teamId']"
   ]
  },
  {
   "cell_type": "code",
   "execution_count": null,
   "id": "bc2ad63b",
   "metadata": {},
   "outputs": [],
   "source": []
  }
 ],
 "metadata": {
  "kernelspec": {
   "display_name": "Python 3 (ipykernel)",
   "language": "python",
   "name": "python3"
  },
  "language_info": {
   "codemirror_mode": {
    "name": "ipython",
    "version": 3
   },
   "file_extension": ".py",
   "mimetype": "text/x-python",
   "name": "python",
   "nbconvert_exporter": "python",
   "pygments_lexer": "ipython3",
   "version": "3.9.7"
  }
 },
 "nbformat": 4,
 "nbformat_minor": 5
}
