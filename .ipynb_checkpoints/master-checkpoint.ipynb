{
 "cells": [
  {
   "cell_type": "code",
   "execution_count": 1,
   "id": "f04bc266",
   "metadata": {
    "id": "f04bc266",
    "outputId": "ea136cc4-4591-4de6-91ce-81fc49b9bfbf"
   },
   "outputs": [
    {
     "name": "stdout",
     "output_type": "stream",
     "text": [
      "1695\n",
      "{'ni lai wo si': 'FTgYB-R10DmTVz5DdMxgHa25J7SByUWj7KPHjtGEI4Dyiw4Wk-pwM5DeIQ', 'impupupu': 'kF6rojDDu1Wn9vrgGkVZuhr0R7lCp0aLRsRzw5LEjtGCLnU', 'NS HH': 'NR8jMfjpFo8JHEr7XGPM4MbGiFAAZD46O1IpZAeeYjx-NnA', '쉐도우 호프': 'ivYdcVjISVGyUTGZfXarOgCLiTbpSWLSpVfE7Sdyb0gDMaU', '꾸리1': 'qKXZPWLDHEMLs39KigAWI3Af6ataj0aCPIviHI-wYvwZ8As', '옵 바': 'I0jeG_ZkChTvT-cLi6IKATFO2E727fRx94g_4mRr5-7lX5g', 'SIMSAMBONG': 'quh7tWu-EdWkXscEDiO3qWxPPuwWWUT08BZkkg4pA3YPbP67V1WXXsU56A', 'ad20': 'SJQGsIamnGtCkv-C8Iigg0CrjBqVGfQXnyQzTwtWkFRfRMs', '3성 벨코즈': 'tXzIqAy0wqcUEDQdAzSCqD85qavgeWHFBFkP_THhQ-mdRBM', '그냥유경완': 'oIHZqjfS6AkYiODi0f_0egmtCklkY-5BlhLUS4K32AThjQ', 'OneChat Mute All': 'ikWLlCm7U9qqoHMThjxAeB82lAIVGUrsJGtvbnxD1xteDAk', 'DRX Bleed ': 'MEiFJ4PNecodVqXr9IY2AU-o0z6bmBFzQdfxBubm6ZWKtAM', 'ioio22': 'HTnXmE8cW4J_jIxBftePMzOAtgKicqtoiUKTw0wjyy2YtMYWjjW5DHyNZw', '마음이 여린 정글': 'PvPOhB-Ikg_bIk9mNVSXFs6eBXEcInxgTEzW2LbGaJYZZGEkNd08tC6K_g', 'zzzzzzyq': 'VbRzZbnvOpB0jFyTFnjKCn1J2K0Bb1re1eP4rxr85vsVHkM', '나쁜 메이': 'TEKLc00qca3GYxFaP_6uZqTgW7lQEqZaBbPdPnuNDLRNJT_3hh_9W539zg', '다미웡': 'yfXlNLnm0vvBnHUu8TgoAIGxcG2AX1AHLPqWaYbDQcLGJ4I', 'Lepton': 'Yjl9hgeyqtYNCjz0mr1oRXz9_K_7BuNAhOibJzUj9aS6_xM', '웃 자': 'gsNTUFvV6d7OXase_67SYDpaHxR5U2R6lrrpDvxLCEGJPymKZnL39exQGw', '의미없는이야기': 'AOcIeFG4Z_yG5c0ItDRQlFT4OuAZqCsvCk0Do98WE_CSNTs', '히 빗': '5Z8weHSblC7gk0Vdqlo9REyFSkbmX7K94aQn82rsMFCR49M', '위원준': 'DkD-zeERdIa1DYXQqNrw_0Ppc9Pe0sRaXPdG8s1sYJft4WE', '간호사': 'wDzOOC0MYJNQBH7av-sWaFBtZz-BVQ-I3G9d_7-oAUpvtg', 'unhappy i': 'doVcJyMkPsk_7bYpxVlvA5g6N7cbVbnJeAsSdUSucSXtGYE', '앞집 땃쥐': 'p49Ie5Xz9kUiFa4_RmQ_w2yjOLbPiErwg3TB8DJo_HEXpg', '나는수달이좋아': '1RSrkupR8VnLy7yNtZ-1YBAjFA_fq9bxcLN4wQCQg_z29rp2dXhEKUzZXQ', '고춘맘1': 'pdFRZ8VrIj2DIz7ZEM7xMyZ0riZCdwd3KBE4yvK-fbnc0nI', '넣어봐요': 'L54MakmnroEw9Eqx4vQx_r7SM53dDl-x1MZD_8AwXyjTw7c', 'hi is show time': 'xoiz8Xfa1xjNWFAzJIZgIzmH_V1DI-mn6jpXgBl-n0d42G8', '피들서폿을누가함': 'WOMeOAXXSWdFl0gmq77tE73ubUaQSSycaWL-4_uIARFQ8A', 'RozenP': '5TvC9AfSXm35dPq1OZ4DqpOAc3j9F82yJeIm6bwyYdP0HBw', '다누를 기억해': 'NV30wl_8eKYDRdErZ3RCnjBTMArEQb-nRSYVocQrSzlK0F4', '공통적': 'OT0N-aZCumhwsxSEILXTVgYuOoUFmLuza6sdU-IWky1erAc', '아침형인간9': 'Vihqvorz2FVbU7kVUgM6nzk4elnIUptetLno9yc_6M_8CP8', '재민이뭐먹지': '-EiRpMdB6yowhXGVVZkbcofh8nouktISyUWWkfrpmo91ig', '이현1': '2aRMskfArAoDwDDp6-mXQeWpUyjzhP0NlV7CpfF0YnaZ-WE', '평화로운 행동대장 에그타르트': 'Q-yMg8nQQ5LxEMz6913bLypqCzsvtKz-7lNCvXaLB3X9BKh0HufBMO1_7Q', 'Beta1234': 'tSjcsURXnr3lmT8ec_omSD5CWZWyX52YL3Y0kQB_kVeNQKc', '미련없이행동하기': '8FwHzcktqtxS8bFXnM9Jj0u69wmUOAMS_pboRREFsqFgBTZH', '별의연인': 'hVhtuzPMxJKuq9XnOAq7rFhIvXW6WEzyRqDIEjFzHJsi-Og', '일찍나가는편': 'VaViAx28Pe27M7z2-VEp4Rb-bXJih32Xr1CXKT-qHdnrXQ', 'yukinoo': 'n5N4Q3eJ9D2yAB9UhSEB_Ii6dA4hvdSgn7dn-Yj5n-fT3-0', '용과호랑이용': 'XKKx7vZrHYQxtf3daSUVxfeMTyw9OuYEVHKNZhPt4ShAEBw', '옷 벗은 뚱이': 'h23NsuiKRLb0iQ3nIHJB3zUt0H0vhfgKWYXlXpTWGHVj0gA', '03 AUG 21 ': 'yxKiX4kHC2mo773ijLrKGdIqY_rLuxq7Ed8MkOsGWjz2Vw_LhmqQgqUGlQ', 'SNU CJuun': 'Ddh-q8CQ_Aa5pWD5HykMK7sWSto-qm48vzrfldDYXc2ZrlY', 'Ch0God': 'cbKwJNKjZLYx4kfzNsvvICHElaYWCmSQW66OdSVmRPruWQ', '낚시 제대로 당했': 'oJeywHd0EDn3LKhgXxqlSHa4YDXmydBYeHbLVAlsNWeTwZhMUFbK8OUhEQ', '전광공석화': '8ozbrE-KNYrTbSaXBIAPWngXkLhNertUz5MyUM8dQc-kEnkFnMOqP5-8RQ', '우두루국밥': 'DkQWf14bCm9qoIaRIvLteSx-QGXC6ECQj9ZOCCrcYjUvMe4', 'tongxinjishou': '8aipRJjsh0WxngITIqBHGppzNXFl12qzo92r4b58EZ69vzl3Us8-Het_GA', '종셔틀': 'aazElhdqL1jts4sqNEB26OTZ1mMXnRocTpeR4grCiSYzjvk', 'cunyu': 'vp2bB0JWLojsO6NWa90DDRZM5nk5WGtdJ1GBIXYqwE5p7QSD8GSHQSRnOg', '저도 나빠요': 'Uou5AO_iwGae-DQ05QXcj-l3nTiQ51XHVAiL_-pWmqbWTi9n_gCKtQULJQ', '수면소년': '7a5X4qEvE-odcr_zGZLxp22IHe5Xxvi7IAkVLaZxPwOF9Dg', '서초동쌍도끼': 'zXof9EutqvPs_BJ0eGGLQFTTP6jIGmDep8vrne8ueg1vnYw', '미드사는낙지': '29YlKzukEXRHKBmtyvVOqaBoWcIqsEBkUHRwh92sDbT_Ow', 'luxiaofeng': 'v6pORVDXbq6AFZsABY9EpJcvkflWz_LzIScBPzTBZgTntY0xb0cS387u9g', 'Logolepsy': '5oUXpvWCh5lCSrI4T3SHDEWg4DbvRaALSuAOP8R4qVIqi6DCanp9a6_OeA', 'wu xiang yafu': 'gdjZGc5Wah65waIxAKmwT9GCpEstgL5tMU2jcbiCQgrX9ofm', 'Dang Kim Thuy': 'UiO0yrveDypnOYJVkL6WPtHFuE-yPNEOl-4qTtdhfP59bqQ9KqcA585FnQ', 'T1 CrazzyCar': '6SuuTLQfpqOhb-gSodPFBvjEeGMzEn8OHTAR36790l2AUeotSUg_tLKLQg', 'Tae ven': '-UN9YkqckdGHt2Qy65ol8MFOy5wyh_Gyc6oqOvQx81qe4w', '상현 6의 다키': 'YawcPs13qgIL0omqQ7foo_xoAXaSDJvSxalO0Gfbi2O4w2w', 'Kenshi': 'WpRviv-Bs8JNKZ3DVn4FqQTG6Manc5xiW2uZNEXILy0L9w7KDFgxTRPjaA', '비에고사전': 'e28uTAhUp2rgkMVJea-kMdHsWe_823VHWliQ0oaWsbI9RtCRWyxf5JJpZw', 'zhao hua xi shi': 'Z2RFhROQNn06dU4Q6AIBdRl0zXWsckrrPan0d4lbH7_7Ea3wm3026s3Nhw', ' Riven1': 'phIpDdb94cwqpC7viT6XiOdyiIAWyDXRji4LPZNJBiQ5AOw', 'SwiFt2': 'I77xZ5mqkvIqIlxXNga6bNVF89w9nYBNzPX2Cu-x5brD5VO6I9S5HJwR5A', 'Samba': 'ot2xt_Ew3crdW2AGRigFtDSr163lEeGTZ_nEv-wdcjO682E', 'Baewoo': '6VKJEaJxtQGlv5Vt6KOQD-n42GcGeulUMIGO4kQcB9nIUA', '제비거북이': 'BDsrITvZnx_mz9boB7OfM_j4azwco-Eq2y8xI6N6vcgznS8', '방옹시여': 'SxuXasaIzoFakWWE_x1c2imWY6m-vTMSTAkqWd7ob_rclkqr', '하도쉔': 'Ot_MobwUYFDKLJCGHMLCB-aNKDabX4sONROflM7l3La5_g', '룰루랄라룰루랄리': 'NsaEhx-7qJYy5yGW91JHCHFaiw2crDYURuvlCbEQoSl8L6c', '놀고먹는게소원': 'EzSZzaqE28eje3DiDgsJKXbHa2tHzs63hyDbQa-U2MX2CqCiLMmeZ4PnXg', '성불해버린사람': 'GDnAQi_EEWWCXHNGkPbHtHRaG54xa6Csd4X8VNjfXOsgw6Y', '개 북 치': 'y6hOPvl7FiQ_5HTsrPjIzbu1AEi94BBa6McFprS_ASzHrQ', '1KuLL': 'dFI9llMgF7ygv2q0MMjx-sx9-2C-Cx9QZAzJrGPFy0dN67_qCwoU1y5faw', '초 스': 'ysSZ3mt0RXjz_R3cGIxMYjGt7hZvcf3vUrwaOh-kCnWtuA', 'easy for u': 'xHXt7VQ8tXd0OQD4IclG8j4UISMseq3JoyM2YdctgVxr-2rsqP8tf42uRA', 'Count Stars': '3iw-V9q9FtEdEfCPzdc6wb4XFTGiWh9qa1RUdrld7SJF-wVFYjxJYDs2WQ', 'eqq1': '03pjxnJv42-cLJIj1htxPwavD5eY8OkFw1smVsIkpluGKy3KoFsSP3iGTQ', 'dnflxlaqudtls': '4pdc8xd2vwbBbTWclLNZPo6auy1fU_VqR-yrkCge7asswec', '모   구   빱': 'Y5ahrz4ff2S7peXRyWyyPPwoGxfgeN-BOVSEKyQ09JKwjf8', '아득히 먼 그녀': 'LQWRljIXbLS2TF0C1yehkBuzE-GF-LjVO_IRWEtv1ib0Kr0', '라인꼬이면즐겜픽': '7Wzr-3o_wY8xqR081gt0wZpRoFYth_BuNLqfdtHPp-UWmmE', 'Witt jg ': 'lJ8eUMDhxOQtNXxawxySFHrStNQ_0oTXLaJ0WQSkNxgC-M0rnDroLuAzeQ', '정치빼고못하는게없는사람': 'BYxAAnUatuGccyK7PZPiRMzARJKzXrRYsBKVMjVovNfxHyTd', '정승원1': 'fT-XSO9CKKrqPl-F1IOpGuGsBhXrIKm6C43f6VzdhyT1uIc', '카시버프좀요': 'Ap1QRMeWM9ca9gYgkPtR_eh9-4VPyyRlBcUg4xv-TazoG84', '사나이온': '_DCfmtP1gCF18H_HTU50KtWXoo9KkGV5-Yi0h1GALy5jXA', 'Daisy thy': 'hX_ZJDgYDZfLHextUvOV1ZtaCObya4k6EeWvUwcnQcw2Qy6gGoFVh0iUvw', '살아라': 'XKweiXnjWTYGbMVtj04f49-tzpny6suPhsavk7k7wbdz0A', '조관우급 늪 설치': 'cpz4K_D9PdYCTsi6Rd-p8GkJSD6_TzE9pKmZ1SradprjeHg', 'Shirusi': '_oHmgvJmTytcADjSzWQspt-mFoNa1eJYR-uibabwhVtdhbg', '팀억까제발그만': 'b0dtm_w_0Wd7DGPmNbwKOs46SPOdnmjkgC1KicuLr1I7WY8gSXVY8_AQzQ', '억까 라인': 'ItixXGljjzhtQx-bvWI5uZg3XTZPFxQm4jUCXdIOzul-6w', '내가싸야팀이이김': '-fr6WHG5sPb3HwhXyHrEBzYzSpqCq49NSVSg9Rhag3p5HyM', '현조비사랑해': 'gmMmZp6nSqDRn6JYimLipzIaZSZ5BiiDpoqWL7Irf-7iXIyPOfn70zxjZA', '킥보드': 'hhEc08kKO99IzWBlxaMsoLBKUfBoY4PioIrchssthmnOCw', 'shulejiushiadgap': 'ypV6CAEfTwI1G141cOvuAYV5ZObWDdEmq9bwYVAtwJ6QDuuwEX2vErqx9g', 'Ralph1': 'VlvTBfqDCNt_BkbDSOmNhIYIWS8mH4uQZGYTlNwfJeyEWIdBGPuzJkhZgw', 'Judge99': 'Ck5wVzo6GzzzJ224d2-HQBe3QSw5j2eAG6xrmKZmjEj0ryM', 'skinoo': 'yPoAr2wx7FhY1_qtLlHXOQX6NsSCrnAIv9LUkDMv26rCBw', '준 엠': 'qOQsHgnPbUVV8u_2fgrImkfuKT0Kphp3sQ7hrRNNRqKJR0U', '뚠 노': 'EX0QCmPAvO7OCaBlsDouUSE3HpLnEs1L2SjiOPUQ4aj8sjLjAS-oizRQUw', 'Cyukee': 'tpeJoOa1m9A5BJZtkxfg5LVlTE3vSR3XZHAoBpeiQlOSTGY6g4mdp6owMQ', '가영의재림': 'gQX6O6Xh-XjzgVtraJEBuy1bS8tIza_-Z-Hi0txt8LBQTec', '나에적은우리팀': 'dNJezrddOhGVNTJpCYVPAcbTd1rgfXUfKSh8wQrbNatb3A', 'lzay ming': 'RVLezhIXXpvsu3WnD5qhUPc0mcNk4nZGAtcwT3KX8NxiKWE', 'wo bu shi chi': 'qbZ5HTMvf87xJSA4Ua_F7rTzTg9CMjw2aARlkueE4qAyVMw', 'PKMNtrainerBlue': '4-WG-6rhsorlZZynSjINyLWzIe6QW54-XotVFPnNEBQSAe7a_l3pPtiDfg', '2022년의사나이': 'cARLypYEUN0FUiJThHUZ5XWztifNkE6uIKGfOBL1e4omJAs', 'dica ': '8sCJh_zMcFZKo8sJRj0ufkASRNnm3fqZwCp9E5GRxZd68ng', 'day one1': 'y25k0n6mWBNT4X76pTYAwGzI9Y_45y9FMx2N1zCjX-YC2uNtXklXelpw9A', 'qest': 'EH1N_G0rJM3CvqOtOktlnPt0aAxoLG44LbzIkens2o6NJtk', 'Sup 도구왕': '3Ppl6uqjMsqt9cJSEECO4TMJ6dH6UVGqZW1TGtOMFF55sEEZsRReZqL3nA', 'wwvwwwwwwwv': 'AhnBrHuLIce7_RK9u9fisvybrft5oBioFeAj5GtSJ5Pbv4s', '그냥 너': 'DW_2fFo1PH7Zfo3AfZ017HzykhC1Py0BDaC798rCnizx4Xg', '  tian di you wo': 'SlE5Q816w3eaMafXk9r7LF0Ta8NrT4HELcNx7jOV9V35crg', 'L1sure': 'L7R469wVmzpvcc9tPjWYIE9AB0f9hQ-a1hM3IhzaQNjXj0c', 'CscyDzhbzBZ': 'mIF-hyXXoVZ4HvVLPxcfJapaJzKXWuKEQlVS1bAeLBzXyC98r4q0OF9M0w', 'S급 공익': '0kWXQDaU7Sp6tPBRLmvkzxieR-Kz0ioshaHZ08inXMdLugU', '준 원': 'QXUer0zlvNvQehJgH7G_W4fRmhukeCJXJ3e9YN2Ykz2RWxmuOs7AVArylQ', '이거완전달건이네': 'nEnH-q8y6TjWyGHTD3PQyl6VNT02Tu6HhHGNqSKlsN0AzQ', '선지자': 'X0zM3sw3UQxWOvEN-_QhnT2IvjVm74wxUHb58PgwI2LCjdzndvVAGIBJrA', '사신소년': 'Fuw_95PUUN118yhb5RlnZDisl8jhK6E_49l71dICRUhtG-A', '별양동캣맘유지드': 'CXbF5djUW_xJoRK0DIOITsgQTq6eAfmLwz_okwC8PKMxhLU', '우마이꾸': 'nDhQ2pce-vuxAKNf0HgovvwFbeh_expox_i2zfwdtjlEA0I', '원거리 보조 딜러': 'N1VTZcpex-UZlXs0xu6NO7GYDdYvA28Umyddloo7ju0IUrQ', '화 푸러': 'juhyPoiUX2zzvZMFyb_gkBJ6xO9dWLvguOtnYtZZ4qVnlA', '일단있어봐': 'WLO7uWotRvuFMjs0CM9yl3faoOE5EnbsoEsvp1GibLpl0kw', 'hyubyee': 'REoWnWPtI_9HRDaCDWvUEDNmgAQlWgie0rGSPb_eKFt971k', 'IlIlIIIIIllIlll': 'ETTJ4FBaiG-uz1Mr6jUvq99JatFvBMD6s0uBugiMhGuH9zo', '주사위굴리는놈': 'NyZASLq17ffJWAoc-O-taisot5gD3xctt1K8wh0YUP6kZAs', '제우스아담': 'O7RRb4UiPjJadKRMKk3K2xbYXQTHRD6TbG1AZkLP3BzrIPs', 'IlIlIIIllllIIlI': 'ok4PWhG1GvHrzw9bkRkpmpMq2iQ8u1lK5hINSezcgJv5xsw', '정복자 신파자': 'cWtJh0r7uVbiYXzzzUsQrF59gIpJp1fZxnkqEz3lGtrXiuc', '죠랄죠랄죠랄해': 'y33bp4aLsvN3paOAU7SyJgT-LFzBqGh7U1MvMCpzbrR6iscxxof2wyXQZA', '정점파이크': '4ga9GVI2pOv6b9uaTUWkMGHix2LSxdQTsmsMw3QUQi5ZJH7CmEmxdm7Zlg', '서구주민11': 'chn5kXJMaHkQiPXh_ZV5OYkYmqgtO165zoBdLMqOO4Grg7c', 'S2고추는맛있어S2': '_B8CSnjtyv8FAkMHAFBHeeARFnSc815kLyVt2hshPl5_52Y', 'SADJLFKSDJFDLSK': 'MDjb4Zpqzueio9iTnHOUx2mF_eFxn8RnTLz301MkCuHsPhI', '댕 써': 'evfVIk-O7z2BWHSuSBus9JRNLOYGQzv1UpzTKpitZfuZiw', '기발 애니비아': 'y-UXnMyo1Ij2Fd_SSXTKiGA9S24RCDn06bi6MrdS_SmX8lQf', '작살내는 작살꾼': '99tvj6fHSfQJ3sEHHgcCftt19HBtjWy83OPC9mFoO5M8m_wcV-AiEfXO2g', 'ADKING 07': '4-NYvFWIdqyFIrAr1udnyAKiSmaHE4DuvzCAHtJkCWVkNYKZzWgHM7o7Wg', 'RNG GALA': 'dgomcUF5Y-kQKH8RYBmE72Nmr52IVntoQDdz01eUgW2w0eg', '승리를 까먹었다': 'qS6XOkmNRIeBek2RJKeD-bVAwUDf6BKGa32vcFJxyMan8g', '   k nns': '9YzJg0WiEJ1EmgR5VGaL7ruA8R5X5EH1TfsCaNyfXle6xS0', '0o마음대로o0': 'L_to_foLFaOC_qBa_1vEbktp8qGv_Z2KwB2JVwyIjrEy-fY', 'DK Edge': 'gGIMEg9SHan_AyKMO-WCs5HHwy2NvQUdbrG0xYgnRvH33_o', 'MeeA': 'z5ZWki2BZtrhsdXj87whlJbfnDwzNQrwmy_aJJkfxTW_u8k', '지멈미': 'EIJ3xY7Y3W_FN0mi4JVO3XVo7Ivh7RhZvxm1gSzU3BZz-Y8', '1987456144Q': 'K5VWwTSO9EJSb6yS0piO7Tgn8Vsx35A_jZ_XCnj1_Is_wurOovz9JGUJpQ', 'Acrylic': 'oonUSAfxnO5B58DF21QnulZvP3eg9gqZwvpbXt39HJOZng', 'Knify': 'BfMuB3G5ZqBNtpTrbRAhJS8w4uXJ8pmVVzclOygAFnZRQ5OrI7bBIjAtMA', '임녜준': 'bpOSQ7OPvqT5gt3K34WKwh4P2gT57KZxjEXWheb9BUzTbjI', '짜 룽': 'eBl_zRAFKSInJ8EHLU8267-lRVqxgSDa1-hWh2KdP9XHjA', 'OOH AHH하게': 'VXYRL7QEpqMboHNzqHEFZ5rOXesLVHCmID8HZduy9s_nlXM', '두꺼비압수': 'PQgT0Iry-oztqkLUSuJqXy5sOtjF6ydFlAtjFf-d6D4XZ20k', 'HLE Lukalux': 'r-Y4oawYMArFHxZvgKwTuJSVBJivaOda3jkuY-aN4LBZu4M', 'a173d': 'FgYyNn0pagS2bJyOm_ldJEAoYpb59Eo5SBLmooT4Ws6VGyI', '중 훈': 'SzOxJXpGTdBaLOW6F2ah_w_dfytqZS4vOy0pu9EaHzqf4A', '재설화': 'R-2cKUDDlCqpCffCSsr2yEr6ty8Q_oGF0JDUm5-GsRAAaJM', 'Afreeca 말레맨': 'z_exra3-jPOB4xdT7mLzM7oxJRdO0fbYTIX0wM_HypwgKgwW', 'AD97y': 'Kj4qNNGVgtUtHfRXYdTo0rnee5uklYs_KQBm9jPbG1OsWGk', '미니밍이': 'yaabJ4dam2MO7-TtWEmJIwSqOSGcjAdC2ENWc9n516UVr3o', 'JustLikeThat코인': '1xxXGjb2CKnomnyS1Ad9bTpT4qlw-ybRVUfzZjLXh72z9rQ', '오른뽀뽀오른쪽': 'bH-tC0Atjs1JAdyfuHb9VdSsOODgskgXgVKwckOjj-ofkZ8', 'Zumayusi3': 'ZZrM1lnl1WY3XXMPXa4j1Q3uUHBwntebQ8LNw7PHEXeqZsqzpyJauiCY9Q', '연애꽃': 'QfPmbAn-Wd3TxWq1Bo9m8XmiajkqICPZqOELoe1ovZdP2DU', '헌창이': 'jhYFNGeWaL1RoPN1xhz9NY8lFS81YnTQu51X4g9Hp_zVznX9L0NUQtwTsA', '왓 덕': 'CYAn6Sno_Krm2zRc71kPfYuF1sVFDs0Q2V0SJ8lQ4nkFR0w', 'Rumiki': 'Bi-F1rW5UhWPA6CH2RQ0VjYU0WPXXWSEWm4wSV6Qbn75TGmzTBaGUfzg9A', 'kldeu': 'PnojNu29QiKfRszeSZnIdxjlsX2XJyltfHKKo6fsZRjB11Y', '세체원 구마유시': 'Ff0cEJ1A8mLJDAXdrqb50K067mkhd8gXesWnK2pkpVmCJeweJfmAqJvwBA', 'Refuel efforts': 'H_AePqdQzaG11J2kpowDB0O3nuvSsi09DzdEhd4GUtyom8Yfe09sxsrFjQ', 'hyunwookleeC': 'BVMaurmrP8sLkQuyws2dXejm0rsZKha9iJdQXpUpr5T9spLkhjzMbu7W6A', '홍상현 암살부대': 'eQIOakxmfyKUE8jRIL4cBmYc5_rXRjxGLjKRR0tCX8NpUCk1ToERMicoog', 'Okay cool': 'v2oV4o4hsWeEgcaEOb8ECU9qf5qukkx0WFwk243i_ZTacjM', 'Migung': '8vyrLBcvV4xGb6uK-NC-iBEzuOnuhdNPZu8yURw_dRGoIVc', '만기퇴소 그림자': 'Zi0V_mhV0Jf5_C2AFMzy2_3DvZAP1UpHmcBJsTM6QNFDpxQ', '헌애기': 'TQYmiy5-vKBNtvPEX6h2Mtvl0lJc2Yt3x6Ii2WzgSH_6ekc', ' u bye': 'T1Oy_rpTlC4GVe0xGs8UTiPZSyusUrboAiSOt5qort8v2NU', '베이가바드': 'NZwBhCPr0VC0oLZ3gtpOTR1W3bMZd5bn7DDMJ7cl-5WPK4U', 'Luo Nan Gong Zhu': 'HgsEfGz9b7AOX2fRNGte6O3cHD4IAvFI_80Eut4_EsS6VRLfcB2b8ZXqbw', '시무룩룩': 'woe27LWn2UCof_5aSn2vCUXwfAoenJRm36lguFfQp2PZW4Q', '탕볶밥에반했다': 'osi_ERZQOXUHHwVc6QSiDRF0f6arD0IkAxCp6KACjb72V-0rc-SXwCkWog', 'IllIllIlIII': 'vcPVTkVSpyMv6xBiGVw1ANg3EsdumNkW17Lxplc4LbK2obIldRvehfnZqg', '2002QQ2388641461': '5FWXOwpGUO4iTXuL_syZDyv__DYupd05T01cU5kBHb6lKZk', '무덤 언박싱': '0GfcVROIhm7mqq2YpH8vUQoRYbgDuxroKLVmI7Y4CV69mIY', '개인팟': 'kTXBKsi1PtpLQWf0CDolkBCmv6cermz6KrbIxvXt689LpQ', '세계최고재라스': 'H8-I_x2gJ2SQV6QM6X5WerOHhtwxVcg3-KHtNDqUxFyu6TFeB2TzZ619HQ', '카카오 렝가': 'f9UE3VXpKMyMwsXAJnoksqlRi4xuM26A9N6RuAb6xKMSWFA', '잔나카르마': 'D6waE86cbMxue7a_stVp-QIA848Ryxy_KHsV2VD7MWzlKmE', '벌레퇴치세스코1': 'yT6YwI4JOeH4_oV2LUuGXUqpqQSarH2b0rXXQInSC2r3Jv3L', 'No good luck': 'bR1ea2Y1Bz4ZFb7B7ZAwUi9BzDbBR6m5p-cYmWpo2NkxggLthJSpDqU_tw', 'black kitty2000': 'V_NfOOjCBsAo-ULGna0cd92eYzNvL7hoIsjAK6cmSRMqUCQ', '돈 다': '_NrZxnbAlLSwDdRnXn73a-kZs0GKX162Rp70goF19-Irn8Y', '김징징123': 'R9PtEaOBfVwvAkAws78nLQTz1P_sOKxeougC1VVQiVwYCEE', '고 인 영': 'dBRyEt8hhShcROYrj2xIeCRtN5O9JKlZPwDwYeomPAEJzYg', '세상이어두워': 'Ll0BG9XZFGS2goeY6GC4TrLBRT9OPHwdEJ64HM4LTvtXvQ4', '뚜오뚜오징어링맛': 'p3y1xrdg4jSOQ-2hUcz1XiF1ndf1lYhO6eB7uv0_6vo5Dys', '활정수': 'E1BrnOYvflcppkLVMqcaF-D7XsbFayFLBR6E_c9nZURRP6U', '그누링': 'FR-vRmI3mv6FFxGgVfvhBhejXd-sipOD2noWC-yPuc9Bjsk', '하루카': '0pb2nhUM06_g2bjIf5jZAka4DvcgzGFA_kFHd_1xqUW-0g', '0dV응Vb0': 'to9y_SLzwkYzcUaKtncbiXNGoh9v-AJt0dAf5JaVGrwaT8Q', '난최고가될거야': 'sxFxK9nDGZkUTFC0uqMh0eFqfNkX80PILzGvaqvvhCc86K4', '어쩔카정': 'l9yUxbgF3ApVD6y3b4wJ9mZsGOTuaNpExglkioHt6Yx2tck', '05 T0P': '_QLGQ4iJZygmfc5KpCMxSwkSCKFWL5IddarNKMlIdFqeDmhxTozP-aL5_Q', '눌 렁': '4UZ-TpUp1OMxXCtWLuvhnnyGCtvGJWtvPH6qbBpspQW7Fl4', '넘어져도 괜찮아': '7hKWAz4EPVNs8BrU-o2fM8J3ycHSW-oAblytKr3NL8R3OyILP_P_gEH7_Q', 'Furb': 'Hpe7SPRVwQnxz88c4U61wjA-k3SPmfz3f3H04rnIhiGIwQtjwF_1M1yNCA', '탑은막고라다 갱s': '4h0TICYMtJqPpzRKRXTCslMeIFZqgnhme7Oonf-wgFNbySs', 'Ps 나랑유': 'ZLaJ_aaZY3W0jcQow3c_Py2nv4QUppiNWyAI-hLtrA0_0Q', 'shin3510': 'N6fVu8BR0M05pAC4cMUVFZwNg-agFkLv3Gd0739xnH12fMFHZundr-T3Mw', '잘자요힘': 'urBdPhhw2OYG2fDGzbyoZZpD4Otfdv_vRrkM3ZnV5dw2r-zBBCf8tqER1g', '수 직': 'R0VgOrvxs0kZ_heKigMsFHNJ6gyTUJYVlsuUVwvesTd-Lo8ZZEorlsPeZw', '뭐가그렇게힘들어': '6rgHDZc8xpgc4MuSYe1cuHB5KjL5ee-snLulXUEeVRCCaeg', 'Herres': 'EnqpDrTzlOKHnXEjJn_4yCm2c4KMzqmHdYZvwY8Qy6q0hE8', '덱스 fan': 'ht4S0s3Qi5GC9ns0c1CqaBivhVT9vEZP-p5E0hLMKYwvAA', 'Cend': 'oXfQc5LY4AiKOwn21v1Rx8vek54-S1VcvQno4dGzzA6ixw', '배추동생': '0UVpjO6TnHjr86fDU5AbpIDk-SLQQoCVvDxRwmcuNqzPUw', 'DK ARAM': 'xwI5Be9nQ6A_Mcy907vIKkSnZ48Yg5Kwbi-TWjZ6S84l74g', '오경구': 'O3IJbz15aDhEJt0TjC7SiqNc_0L1jsKWk05an-BCTR3LExY', 'DK Saint': 'W_gGVlfaBXSRrZneqh_R5a3fSJWmarwtf6naOcYKZ1vqPiZ8Yey_mnYoTg', '매판 예민한 사람': 'v_gcNB5FIt2B5m1_oHadY2pl7KFkxorrjqnASUKj0NE8LK0', '이번 시즌 챌 갈 llD': 'Z-zu-SM9en8aBHfn0Bz1c_A-8M9K4mU5C1dwbiR8IBZV35s1', '신비한 뱀': 'e5iS04wIQhnZT7QU_58di7UQM3akADMUaR1ZfmFMvShYtcXVeoukW2dX3g', '확률은50퍼': 'dcLvFlmMvHNqJR2kL0Vxl0CABlqsjMnvTVumZbf23UFGrrs', '피까뿌': 'o6WPHAyBfoyuZC8L4dK4GL9wXu3gEvjuEhYDuAOJ389tJ24', '황휘진': 'N8-sCDJEKQZDqAvvtq_XSkCKKRl4cC3sysS9Byr9Lk8lYsg', '착한 게 좋은거다': 'JgK0KMYUuBjMZmDDvi6Mdub8r0VvOjyj1Amr7-0HeUQ6g_2q', '불타버린 발바닥': '6XDsLCXk0fLL2axyxz1aLZ9sfrUHuPnT7vReYQWf450-lQ', '애니비아한다': 'k07hhvw-zKWs7zXgb-IzHk9-izvrXlweGioZ-TOjege6-_M', '정현심': 's3O9SEcyufizydkGIocEAtfay-h7hLvaGOc_1wXx3vFUBAM', '좔리다': 'CbbqMOQQ_EK1d9JIG-qy0K7hd_8b3Tn_Uz1fR4UqGP1Lx5s', '48980314123': 'PKQCx--ubRn4Fb62Sx2olJ1U9QayRdUqUPpt0u5u2yrYy4Mr7fNBkWQFUQ', 'WowiWowi': '64aII_JPY1JaXUSQ2gPoZq96PBZSrx6a-RerR9TTG7-uRHY', 'Ive OvO': 'f8Z-fYZQx2YKVevcUxAKebIzqmFES6U_LPaEcbPdDMBfhtFlSXm6fHeATQ', 'wymycall': 'C6c0EJw63gN7ynqmLvthTFnsxKE7aaXIHu1U0YGyWnKI-1rxvhGKo_SJ0Q', '선넘기': '_383VHxw8MlhRmHGT4MFrztuH-kAS7sRjWVuM7XW2aE6XCA', '난휴식': '2AK325GTpWGYfPmttbkbsW-iGUIJuCIf4xj-c__fE4EOy3cpD92_MFMlQg', '한국 렝가': 'EIGgTAKhJ5ZuSfqke626tIJcuU8x6vJKy5YqMFV1gcblzoI', '날쌘 화살 신태민': 'AHkl4atfgmz27BarbxEfXj7dJpCmnmcYNTJBq4UMZyN38M8', 'BAY헌터': 'VyjiRmIO9dcvAuMInIGwwRNFZantR8FTgEdwncUZrDivZIQ', 'Gen G Ami': 'SmreeEpAbHbDa_zWkXKqBWAvx-eNqoirq2lIa4N54NpaAOtr9TiTurdqAg', 'chu di fan tan': '1M8XCjVL2lpe-pYO5C0CjIc-IL6mwRLfb2-J2ty6bUB5IO8oMF7OZ3XUNw', '기분 걍 메롱': 'kF0ZRoQAEv8TbPfeEu5gQLS4S_nhubvg30fSI-5XOZUB9s4', '내일 올래요': 'Z3AX0KiUm5KrsvPDJk7FMX-HB3qAKtlstiYxDk3_WPEa0IZjhP-MYQ8EFw', 'Lets play adc': 'LpzC8namtAAFuQ1-PHfe3nDu_SGn_E-Lc5Cp88XyI1TZZBk', 'KOJOPQ': 'vIuH1RsDJPnjCkmxYIEh9xR9Ix7nPUDT_xH9JgMPjaGYRA', '예비군11': 'R7zOXhrUhyxFRk4MtIYMy-EH41cAIGcLPQKwhTwBSNmId88', '이순모': 'OBjw3Ng1oxJFYE2MBK1b2ya29Wo_fORkCLd7i6Kuid4Cgt0', 'pyke k1ng': 'uAiLPARAriaBqXFEX8k23eadDMqRQKJL7yIGwev7Eey1VmO06Q3t8kUOrg', '커여운 물개': 'rQVp0-fGLg0nruXjPMx1a6YixWk4JBTG5Lokmfg6pKom8KolaGSB5G1bCw', '2qqq': 'r5ethsA28_C4LBE8Ji8TdpJb61WcFHBpUZRp44ph_QZ_d7QZLWpAHUrgNw', 'noobjgjg': 'VDKFbQ5Fdoiitt2DHm3Zk6ClP_tgNcFrNcBH0X1bO7QKqKs', '시금치먹는뽀빠이': 'C2_sNinPXDyCSUpmsoV7K_vRbD5p4qgiKJDxgsu2NIuSLAUb7fVzGWf64A', 'Ernest Khalimov': 'JL0dNrNHseMvL6Zp2UykDq9W4nKHFC6_FCxSGuT8ir9GaDw', '스 칼': 'HkILobBF1d9HrfdggqYov04H9fBT85Tq_tetEm0yy_Ujy9s', 'puzhixun': 'NBHYVSw6_mWKDEY0KUUqTF2WtrlPaEKf1ZIyrmuOtaqmuvF27unhz4cXfg', 'WEzhaoqx35464321': 'EPdy5nU6tSZyPhefcGrhs5CpmzJukx-4Q-_IKQ5pm7EM0NJB_ZteLnXsfQ', 'WuLei shishangdi': 'Py-VY2nIvcOAEb5-knCyq4iwGtbmkWL9shRBVP8mTMv5g4Ob0qeUxjsqrw', '공주 클라스': 'D0fRKJ2QEVLS_saykA6m6rm1Lv2iakRJcG3XqrVRDUNqig', '잉슥이1': 'j8eYRhh8pH3K242a1tLkfGLp9fFXXnQAuzCBzWZ4IptMroNw5En4ns5mkw', '죽지않는 드래곤': 'SFULSKBxxNh96GQxEGOK4G3Yi5XrKUZ4wTKv6mlPSDgdaw', 'Onzed': '-vZDV-fz5nj0J510Eh1SG_NztO57LjnzJ2wK2vQ3aXneZK5jTtdmQupMlg', 'Heimskaut refur': 'W6Og2e3mdp0OOeRkD0_PUBss3TqZ5NNTHM_e3Psx-mSbXgeUDlrJA3NSAQ', 'Lucky Gaga': 'f8LVHNOTxhMg65SULX7f2i-AkdIdejMpNgzawotDqX4QAjintk77d0rGUA', '트위치 조우지': '0r1Ja1IIi8rDJOKn15BAH1zZv5YvCm9JuZS8KiZwoqUzLhPN', 'ye pao1': 'nxmoc7FxAoK5jq8ZARl7XTRKkXnqcZbDlwkYa4JyALYWFXz7YA66W9ZJJg', '유튜브 두태식TV': 'fk8rcBfn0dPeRxdZtcWmsWX_qA3xnAfbkKKyMMy_nVhDXOMiguIDHQ5arw', 'WeIshcorgl': 'Mmuy5sVWkj3baFGFLAxgg7zV4lt6rL3G8VnVQ30SnwjyPb9B5zsE_92vpw', '먼지 한 알': 'qZ4UA4MJtaZv2A9qa4_dKVJG-IWVqE9Q-ovt0tcabZ-PkZk', 'Anni': 'mrurfvuAiulbLyQxkDAiTFn4vpILboCX28qlDs9ddzGW1WsBFOOXD2qCCQ', '군고구마초록매실': 'KEWRbxGEfPRw-bphKxBsJOKUPW5zMbU8VFwS6EnqOuM3KWaBowl_fORNFA', '왜 우리 백정은': '4yqRyL_QLC-oMvSSkO9OT16Zfxhrh6-NTQcEywUMuFo2agk', '98 나이티에잇': '496qy3Pfpw4oCDOEDPzdKH2fgOHToPEyFqCccylZjGm3-MbXgTR1ajrfXQ', 'Future No1 JG': 'wk4XgUDfoTBNKzPOXOrW4bX-qNmCvP3ZGGs1xfv5irMUr0SRgVO78sqNOQ', '세트보다몸좋음': 'B5FhnXYdwkklvGxjUoFVMy_a5ZxPPMSvCsEhZ58scKkxeu4', '빵 테': 'QAwGZSlxrXTjlkppeuWORz6tIheufWm4a3IhqLbbQXzsBWQ', 'Flozel': '5BVc47jg28Brckn-M2bnRPyuEzfBUF9M-ifeDYST6EiLUZg', '베이징': 'panaanBvelkY-UFZ_lZ2VF1gJffS9CdTHhYvd4S9n-YHxX6Vf4OF5iLgLw', 'Toi ten la Tao': '97VNvSUlBkYd3SDQgE363gaeHTdtE5LrzhaQg-OFT_qI8ghr6q9l8WwdIw', '지렁이괴물': 'E04Iy-wMte5seCPVfmpo-A6Fo9IFqaWkcg75unCKsKklKmo', 'Keias': 'wsFNFnw5fiBQsCbAttUHWPxfh6Qo30cYqNu49oZu2NyU3M3m', '사탕콩': 'ejiwblF4pDc0L0eIqcegUEpSxKk2ESplZ9Yq90kKG8ekurjRxagfBc0wBQ', '쉔드백': '9eX8YzBoW8WNJPgduQ4hsYWY9daHCgWRhzONrDYLUOeJlq0', '병기형이다z': '5_YEOuIOTOm9kRj7e66GZCokugSZs6SRlnvCWgqNXH1SCg', '커여운 수달': 'JI_3hjYf4-5v5_JbizIxMbvELlt5GWiGJqvuWfsZuBRdIg', 'jg gap AFK gg': 'Khzyx1MdJpX0SPG-008hXssMhUjBwchdrmICgAu4K7hDBd9kNSchUVRAXA', '한눈으로잘해요': 'zb4SePVpeLtwhIJhRZZ6OQ8zErysi79PJ4HHzccCNlPxN1e5', 'xxl5': 'csoMPtab4kL1_kit_jRBf2H-nKVJLC6IWTSmi8pDDPZD6rN7Z7qqVNHQlA', 'So1o': 'gi6Ti37rpOl7Gyr4aKlsuCFQD1rhh4DApM6Af7H7M9Hn_RA', '물불풀풀불물': '9K4i8XJ9fCOMLxHxJAXw7qOPNErKrRu7otOLFuTNnhansA', 'WoogieG': 'yg0xfowA8Q5FYgooUmIWu4dylpNUAQbVaj4FFNMFgFD6-Q', 'Reasons To Stay': '_3CU8YnhWfokGotw3R-dRsFSWiw0driQpgasL1cVLoygRttVxJIWzaVg6g', '달달하구여': 'dhrBJJMaTYUyA1Dqj0QnwOgP2FV4pYq7byTSBcJ2zhvDzxg', '포뇨의 지느러미': 'F_Uiwpxdv7ok0RD6ls8krJrk0WTf6YS2ZGSlrW-XzRGewxo', '아프리카TV 9 밍': '36M4AyOCK9Gml1C1mIEc2kKOHPKHR2q8WaDM8me3Kn0I_Mc', 'wo xiang tiao wu': 'AIXqd37X61nZFxgvlBw_bT_BgDSpQVsQ5YOXbW17Ig2O2xsjs6tTIVSMug', '나무진규': '94jnMfval89vh8YeAO6gCKhnnDqKT4EVUK-yj9VcmEzoMn4', '필리핀 바운스': 'K3waZi0h6fLxNUQ6uAPXmqaAXL_d2REJGIqL0tcFBiIS3gPM', '인내의결정체 1': '6HnLZfyex38oWssVlEYlFj76zMctl06g1TzOcqHCHFnUbOY', '달빛 여왕 럭스': '-SHNYaRNrp_fGXJOEwXkmJ4OYYGb14uPD1r8XpYwCXR8Zvg', 'Dpppp': 'fNq27VJ5PjDwKo7_yoKBRER6emUvFw-fYxhwMNNqb3ndIE8', 'n1u n1u': 'srok3yVgB-Ye6XRxCdmOAg78F0WudWFpvCGYuy6TZSaoeR0', '짐승의 호흡 제1형 엄니꿰뚫기': 'cNzC8rsf3rZWwkRxeZEUGRp79CXBKhYD8dRzbyK1nK5y5tPcCzukDizbGA', '기간티아': 'VHrhwBnwA6A_--oK5hjgy8rxqHAaptVg0kLOVMcqbg0Ul2Wk4jGKfPLvIA', '나윤종국': '6s9Kb1hn26NTaDroAGz-O698PNP6bKW6s4sQAbS799Sy7Q', '오빠의바나나': 'XqPPRplgxJ82WaR6Z0AjORs6gqwyvzD057IrR8HkU0Sp-w', 'damie damieyo': '586XJpOhRqhRCeqDwdXLEhpm5T3Epbfyg1qMaYvk91rRdhlsTnRQG4Cg9w', 'Gen G Punch': '0AQVdm9uijFHyOKZNIuLHGa52__ogHC5Lln6LOCpjzdOtd8', '량량쓰': '5eyE4alKFPgQ6XTdFGtGUiLSaCywVncE1cGEsZ9EHV_Cbiw48wKjd_5UjQ', '채색하는 기류': 'RTGJX2kqdQeOietZ61phiJx7vDSXIIaKP3rwUsLZ1ctbpudFjJ26bZF-NA', '최일수': 'fLnC5U9gA6fwmNmWhOL7zgCKldbPKqr0GW0vrYVrSr_dmTc', '바텀죽음나도죽음': 'QRaDkx_J0rJ-N-T1J8yGAnGDvRmac4L7RplAN4t5A6e1aPs', 'Nox808': 'hHScuJE5DNcDp6agHURJOa7saAHzPZwyR7tTxQuL-rWCJaQI2ohIqV_LLg', 'ji xing cha': 'HFnazJu3H56t9doLaGVW6NKRdX4Sf45oXUWSWmm30pwE9AJD2Jhf6YFCQA', '정성각': 'ZujBc97Sey9qmTVA_CUI1yqRoIXV4LJzIv8HWputzQetDpF4kErdDFd8hw', '마음앗': 'DRip_rk3Brbs6-WhfX_7ufV9GSKsNOtE9Me2j937dulkYSuK', '오 안돼 loopy': 'JVFDq6a8GOcWST414tJUGDhafAzyxaOdDFGFcuhPW3NJQHg', '검은머리사나이': 'dLFaAjI0--IUndFz7sTTWjELLWxp-x_OG24uQNHZhD3VzQ', '바드꼴등': 'dBL9xH4CEWW5PRX_NgFdlfyj-XecpfH0CLpwrXBrUKVmIRs', 'tinhyeutuoi16': '2uzWhAjPtGWmt2QWkrCmRyppsRxjpFOEV0kmiik-e1_tAqImv9_yZwXVdA', '양버미': 'msj8GkViezAAuUHxPdSMkQJiUoML_N1OpSiod5vAKhpD1A', '금방1': 'DzrmV19YZcnSKhBZQRPxSskqYtL_DC66hjFfhdAua25GUzdE9_XWa6DL9A', '가락1': 'lQVU5ySIvz4lq7Rkqh4y19Pm38wQIQABwMROEYIf5NSTo5k', 'novelnandos': '2MAGt0rgg8YgZU04CgWophteNnz8teW0TvVksf2Uxb9soQ', 'Magic Castle': 'Roh572LJGhBRk8bsWyNA8mihcZ1_B6t_eMBpGWOOD13o-eM7MNbpafj2Zg', '김촐래': 't8Uj4BDyX6bzgB3PhODW16CQHubcgEHmjmD_ajIISdl93g4', '한양대 주전 원딜': 'GN-oGKalOrNA5nYZ8NeUTLNQ2ISmDGNqAgVZY6ZgNmPJgJU7v-zm0nxbTQ', 'Dpm0000': 'JguI-WweOuoSbYRb9HYMdBKscpbeQyUehOs9mSGXSfclYh3cb7y4TBX97Q', 'zhibogaoshou': 'OWpZfreRP2b_KMpM8Qf55VjAQno_V60PIRxMU2gn6-fVwrPFz88R_7Bkbg', 'crOss khazix': 'aEeUD-FfhD78A-hZArvQJ5YoNG6BXF6SMBXhOaa4CnyGDZM', 'zod slr eh': 'eaXTbfzG-k3qj9QFX4cMim9wMtdSzVHDDKJLRVqS2EuYX8jIplsQ8nkPFw', '나도뭐하는지모름': 'lzimFjNyyyl90YdhQkNlGcddqIkzCmL5moc_bUeRQvm8v-0J8R2j3Lx2qw', 'wsa': 'Fm4GfeqAKtDU1YQwqBc0-p4ddLf-vFLm3Y8FQH8P5cwwfQ', 'ADKLNG GOD': 'MxJZ3GhdjidR_eBP8uDFY9iG_bbJsv59UHE520GhEexxP7qP', '새우깡끼룩': 'wqmDqk6eBtqwQ2hjZ6p34VW5mpDTU3p4MphTPEkpGKgrtg', 'Gap': '4EarjhHDGu701hnLTEFpdD9_7GLderiXyoaUapEsS-7Ewtw', 'Palette all': 'jThW92yP5pm-6UA1Jttbyf6XnZ4amCu9EGXuy9nskW1PtTWqXodNimI6vg', '양시언': 'u1vyyaVwQHAJyK6qmWkoDg2zlkiPW2WOKYMRBBwncLPpQaw', '크롱크롱크러엉': 'AXeeThrkGrNphk2gjQ9MBRIRoUXOmUE5Pr05loPFhc9wOGk', '열정은 꺼저도': 'won2dGO5-8uY00QzO68TcJU_fIc8QO2H2_F3-2rclpixiHg', '도구가 아닌 Dog': 'l7dTRrNFmbpxETmD2lLMgjsUsGPkHcmSwBpYIxsNmreMssY', '왕자또는숟가락': 'Hc5S9Fp9XkqxDfihSs_DmEW_OWB0CirxjCx45-LqmUaZSEOo', '빛경재': 'LDbZZKo7WTNueTaDdKPnrvawswAo69o5MjBWrdFgqgvnEgg', '왕자의 반란': 'NhdPBdo1SG5sxlSG9YU-AL_XFpoXjIUgIsxVvlolJcHfm7w', '민 더': 'BPi-UUdHQxcRntSmSKr-X0umgnnYNxsNa0AZw4p9_wNgDkw', 'NS Calix': 'ECNyduTsPmZMTBmlKrDrV-YQjFbLMcWnxjC1Kc5N5Usv5pE', '쮜 재': '96TDHQi2zkjDghwAAyZwxd3e8TMDkkeRPb2P5Lj2LGl9joJdYvsMos7-EA', '멍뭉이왕': 'RkuNU0NsO75uOOMg0mLtbvRU3kGnHqPO0uPssHx3h5Xn69U', '역전의 순간': '04MVNbnMY5ICdb9g0WfFyVIVGEOS3jrPBIDUiU5Q3MoxvPI', 'Fantasy Moon': 'Tt8BLpVgSR6haQVMwNXnwtfyDoork-g0fnkAMzSYTB79M0nA5rdhh5Yw1g', '선이냥': '1g0SHJkZbvx7ct-l2n_oLXYP7g38lQH0cc41yq_P7Scc7G0', '아이폰에어팟워치': 'NZxJhdwx3GfIhwizKwU1K94x8N118-IggV01xbjDp77JVT5e', 'asdada': 'ssMM8gRNfBOAJ4r2CwFIrN369sL7qYla-ePPCI4xSaO6JOVIh3V3pEnB5Q', 'Zenith2': 'lz08tFHzBkNFtwCUSnXm23BgcszFaeQFNjfRLCrxyUixZZmznLuPH9DH9Q', 'RAKING': 'ky8cfy52kc5OBYUI92pDaFM_uMyrO7uhx_SYUAcE_eXQ-A', 'Fundayep': 'E7zKG0lMxufHPK6GTl4Maitlg4KGsueCX61887VZVoo9ZUs', '확밀러버린다': '35BSSwWSr5pfr3dZVgYgXEmDObCf2-m9m9j3ca1glZbTYVoH', '땅우양1': 'CcM985BdwRLmzvVocYhqM7L2Z5_Wo90uZ7ihs7w7CU6gc9E', 'limit': 'zJvDxNO5hLN4JE-Ri8nF5CBbGux7wm9L1moySCHmOVQIgPA', 'PuIse': 'gtVuuhKQMBQPjg0mB0OxtATmaXF73BizmnmNsILDx04Bh1Q', 'LuckyGame7414': 'Q_OicCPpdySrjPvGDtoqS6objVdCvgiFxJccoLlaM2FZMq0', '미북이': 'uF_kxwlZKFRhNtzeL2dLv0BqluAa0wVRs4NI3upTNyI5wVA', 'NeverLand': 'nOTFmykLpzntcKpQ495zmj3WIQStpsFzmYDw0OQLsQ5lFyA', 'Ali di': 'E2XSj_IYKACpi6HjxkKyISlIB3nuy7jfORg4hNFRurYk1IUDy5EsNmGvPA', 'csczxxazx': 'h1VX6W9ZrZIdmKKSsrRrdsp86GcL_uo4bWOgn3vVBzcQWLs', '완벽하고싶다아': '9RiA42YwHHpF5yUvrofx59bNEMoHicVXBBA7LvrAAImEKSs', 'XiA 갱': '17Ahd0wyYX7YlJokk3c_SDnT7bHjDOfMSFQeyPyf9S3mCBs', '심장피곤': '-fBT5gLX5H_b72ap-aI0Kg3RvxVPj5QtgVdLFkaVos6j62fIvSpeIyPngw', '도멜레온': '6p2ya_rNankf1b1T1xZ2c2j983DPKRVNa3SnoeKeEyubQFs', '딸기타르트으': 'pXqafafd9cr7NXHOUbYbQcyJVca1VY7BxJyHc3NzwH7dtj8', '꿀꿀꿀탱꿀탱': 'oO_8ifar02C4vnTKZXNtTQivdDmAJsMFQlFr5fTYo9oyr4E', 'xiaoningupup': 'GqnID585rX932CyMspg4IrTO12iEc-dzdytTST1yMLdRtMX-axJjo8gpLw', 'The life goes on': 'jK_VSPpn_XF0jpaZe5uPISADTyH_Gr7zMUPLaHrAfn4SA28', '2312312312312': 'rLNyVv9ZeYHjq-ADSrpL0qY_OZSgMWtcKUYuVIvYDiY97DM', 'Days will pass': '14G6C1oZR0KNbOQyRo4o48G4NLnb0AhSPyk2EzcCJbRAWp-FPnRaOeHx_w', 'Low On': 'I0euhNF7AZT8nwupgyGj2hapHhqaGZLec7OrQHkJKgLfPw', 'likechloe': 'TH0J2yZ498gngOMhWX6DxvAJo8Jm9q3qiOfFudCXh562Z2Y', 'GuDi TV': 'DqLsA0VK26yuF1-VCauu_gylFvcla11MRuSUNnjnpH6XxA', '19살입니다': '6UpaGij8WqQ9h0D3WgoHg1kMUqGZp4qeQ4ZcFy3KjFWRUnE', '잘해지면돌아올게': '6v3KzbQ1P6KHKFPEKlPSNqymNK9EiO-36HUuybTzA9G74550IoDtpeOxwA', 'watdoesthefoxsay': 'YXyCJ1HJbMrumwR33SWMQQF2VGkarslxTAjRnXNW130OuQzwGCt-o43I0Q', 'weilin': 'u4H3uCkMxf-3ZaN277hHbIEKWQ7jBI32PbEvC8Lm0-OSvlE', '호감형 탑라이너': 'XXm9c-SwzsS827LCVltSyHiLl5rPxxneCjPfONsN_l98BEk', 'Aphel1': 'z2CP28-ndCijKUfPgL9HOP2zR_d8pRS9RhXQcWkxVthy2Co', '렁 재': '56ZFv4RWAc4xSKj7zsLoQtqxf9kpNR_llDbAHxZK1SlohQ', 'FA 긍정맨 ': 'YEqTe4p3jhRjjhUyq2dIrx3U-YBdWIPhFhWfHfV3lFQWCQ8', '도마뱀크면 공룡': 'K7Alveqz7Vxsbd7Giu6OUIqoaEgfl2wjutonLu6r67_AH12aOrAQGHzZVQ', 'Gankkkkk': 'jUS7BvDZGB53jfT-YmffJf08tNHelSz6CWFfVwL90j-sU5A', '몽키 D 짱구': 'rzK-sGOScRQqXROkKQqLy1IoYWmGw9yWRahDA9cMupyMwg', '미복이': 'zZnoXLAjncEGRYSBZncWecedySiKS9uvxG0zDXmQoLhsWfnsRkguqmazFw', 'lmCrazy1': 'FIolcAkUWxyyVpa5RhCKahqu1trLVUXYNgeXFgIT4-r7va-7wNAnph5gbw', '대마왕 카탄': 'plyR2pqH_8lI_5bF1mG-W4v8BbCLYFwJzy1R3DZaByT3MqE', '킥킥z 2호': 'jRKIppaNk-vcNxD6WdgMdTae7ye8d_wHQRbXGE2A15PHhg', '싸식이': 're8rWA4KuvJNYk-qN3JLKeMVYSnQ5iXuwTWV4kaZOb4nkm39ebP9y4ZBxw', '스드으지직': 'IwbiydMoTiFLWtM87OGhUhpLodrFUuGKa9f1CktrCC-M1lg', 'Autumoo': 'TQTT3VsyVrkqEn2_Qb_OdfIKZjx4PgQRZ6cfatq7y7DsL5jifgGMPnE6vQ', '배달음식요기요': 'OLUpKDk7OL38yMrdD35VGTMNMMG0hgjw8WGAPeFt4UWfytc', '카사돌': 'G6dOpGnpnHIMEpjx4ef4oFBt2vdXlzsM6SLK5WRZmnAjbWOA', '영하1도의사나이': 'XXltFBLcu-e3_2Q0jt1T4rYnsPGJ2TzjFDkYv7h9Bw-NbwI', '싸다만 황족미드': 'KLuyrDBhiF3wClgHbAAOHfu_rcjrSjAgvx0U56e6BEQQKmM', '골드멘탈': 'WHpTl6VLApSeTDJ62O8rRozsynOMYIbRQM6NPCuR7NN23w', 'T1 Roach': 'yXRhAjIYPoGW_5tOf5iChoO4d33Tia_vu2qBLbyYcQgytQ', 'Waybe': 'ZsKf8KxQoXbapDEO_nJ7hotGWjDpt0m9Av7p_4f15P3txnw', 'Villager C': 'yEEFhNxSwlMlpI8-070Dj07mTqoaxVtAqxbUhM9izL13APU', '고분대쟝': 'p8fvIOL7QmXYyi3zkly3GNMCfeNqbfDJEfUI2x8KZZ7bIA', '모두모두항복하길': 'czqFsdyPycZPskfW-g2D2xuF_E7tSRgaz77Lk5v3u1dCc3s', 'opasdwqexz': 'Qo9ziX14PiFyJEKGiT_jjFyYf9pkEF-Owlzi16BAoKiznXwOeJ_zURo7UQ', 'Verit4s': 'y7yWbcjOxgzBjpzbxyUXv3fXQ5ZqOkIroU_nolp-LE5KnKo', '나 보라색 만났어': 'vpW8ZjuKG1khWlcpRJXnhKSGlCGgD17I5dO-mYxTh0cWva_B', '룰루의아버지': 'LCnW00d2yCUdCTEqzJhixgDQkiBoaRIYt04eWbnYKDf74w', 'top 세나': 'GSiIPRZOFYliY3lv63uJOE4CflckwMRirN8rQltQDBXVATk', 'VaIhaIIa': 'zDqmLA_fMu3NsRfhaimeehPMK0x38FhY7ExyRwXzpAfXidA', '마래리트': 'BE9_hkZgVz7Zl-cb_roEcGzamdkTthAZ9evDfPo51gahOmW3x8oJmvMSAg', '바닐라라떼 ICE': 'OmT7Z5jxXp4EoCiK4fpuGv8YGz9hLqETOEEIKF7GcU90Sh0', 'B1ack velvet': 'ONbsVjLG7ilYfPuHcKfIgHLUVZ4yj3nHj5YMohdJNGDcRAc', 'Twitch 보다': '84veY0_l3jBopiznnR23KwW45xcV6GdhFWLn5jPqTFC8PM3OcW6RQBwdYQ', '현진냥': 'pZW3KOlnj2jBPboDrAqn2w1IbTW_aj2wW0KlmkMOUJwVdbE', '훈수두면핑찍음': 'OZKQ7FwfuffwlJex77NKQBeaADGwe0xuebWwYo49sJ5YX6g', 'zrzzsa': '3EWxWg3G_wpwVcUmRj5txKoN2nG5mzcP8OghG4f4LnEb4Fs', '망나니쌍벌': 'ptJYtobdaQ01SQFEuyfcsSzSvWyRbnQV3B1A4sAY92vGPXQ', '독 니': 'OP8ToRhxLVgm8PxqkNz3OCKfZ3PKWjog1dv3nym3uYbOf9o', 'Sleepy insect': 'u0vgRpYt50qCpJGwILv0AHuZxI1eBJa3-kkglOw33Jx9ZVA', '멍멍뭉멍멍멍뭉멍': 'LFRaNKyVoY4hsK5sxumm2M6YBMDh7mIl3UL7taFycBRHSys', '마법공학 상자': 'DjF4lwmDHCHL-z4ack8uopE6gjI2BHyflE4N_MbYSCuJLw', '박슬온': '0bUGcxh8saAOCZhpjvrUxS0Am5WrcCXK8jnIyeG--jW8DsU', 'wu yao ke jiu': 'nKXKXJYq6Xb9EtG3IROLzifhnv_wabW1PQU5BOD8bLNTD6Crv0wNFWyLvA', 'zhendexiangxiao': 'atpsUXqG5vnA5immF_KZ2QwKGMu85PoYCUbe4YUmdbKpptOtF6oMyNUlzw', '응애소연아사랑해': 'f7PxCY0dTHhFzCSJiQr1W2RBI8FS9bkr98bS41glF1_T_yMAb-uJ27KoYg', '남라 fan': '7vY9cNh9crM1TB-g8J4WCeeE3xshZKZ3OMzLAOMYPYAkdu6k', '강유자': '_xcmXPry7F5jhO7ntWCJov_ER2_mr3cy3DqXRa2HRdmh5A', 'vanpa': 'CsgVqnV7PB1B9JWB2E8P-LICaqtxKNZbysUIno1zVZ4wKAg', 'Selfishhh': 'q6okMIcJQXz6NrYN_gacB3_3N1DE1_aXCcxrdjP_luvRvA', '풀캠프 박치기': 'D93sfSsU3lUDpEDBv7Su47oBBSM9vyNrG-oFJyiFXo6z3fE', '바둥은 죽었다': 'dxmv0L6U_lmb3so6AmQ-ud552-_je99zbWTIA0-iWCU1_AU', 'yiwoweizhu': 'FEe0F9mavCKsY-tbkS8Q6UT91IIEmzEaOZ9n14eqXFpOWY8', '채팅귀찮음': '21ncPQxXNqxewGYPXOvRc2mBf4VI-yd9jEHsQOq2O4PV5cE', '어린이즈': 'YmrxOoDpIVMRrnY9MIdblN7ZA0dt91mVdxh5Z0wOOv0tdC8', 'Rumea': 'K0Cpv-khjzTDU-Cc0MKxrtcQpXxmxyNhcpjq9MLYQwRM7Xw', 'Happy Cats': 'OntKYF06jq7EDbOCxEbx-gMOHgrZfHSWtciEVQYhbggwzg', '리 본': '1kkjfRMnFeTsj3aFjPxCvpkzZfa1jP4b6pI058nSoIJEZfA', 'Arinzz': '13hOMRlmtz-NUipJOSO04s0yNAeooTIzYuDIO7Gfu1hf9hE', '날데려가': 'nRoOd8ucOs7EGz3ba1J7Hjo6zhE3xErgwEvw8ZLO4ePfdB60B_LDXdPq1g', '정점파이크크': 'a3_MZlUYHHPsGHl-FG2vxuXWfKRLLhEd9f_xaOAo-m7q2lU', '넥서스 남아있다': '-SCnK8vz3cXjUsVhIv5TZXaGeWfUSpe3CGWs_Wr9rEzWtys', '메건팍': 'kHHq1EwZierMfX2VtHjKrzQVd4iyLSNkoklfxuv1X1GkQGREZg2T8K4DIg', 'EuRopEAn': 'kA4JfO2pl6m1cYuBD8fABcg-kiNbyjSsGe7E2hD_G0c1NA', '웅이애옹': 'Ij1aVDkdl1PVWgdCqhiDGJ7cc5uKjL7nSjYF-nrStWxK3aN_c-ZYJN23EQ', '가위주머니': '34sNQZCiuNm03TqlfRZTx0JDMNAeFgBdsPZOVsAdTPfMsk0', 'TW KR': 'PTiK-H40IBeFo7R33ui8SgRmsoyP1e5jQz-6UwbbkMOdXpA', 'CJ123': 'vJbEXR-a71R6NaHJU6PnnL4MG2hJAJFMq5a6uDrlXXpQ3S4', 'bielairenshiwo': 'sSjhJrK9c8lQANLqG5v2dfg1pZnc4ND813u4HtOZED6UYw', '붕어붕어킹': 'qFzY_k4Enxjs7UoO9E04GVR577d2j_N8J6Q1Bk3N_1uFPcKdVTOpINEfpA', '야생초코칩': '8GKl9rEV5X4eQGDTHyknRu_vxYy_oZnYQIo1-eSZViYb9RI', '우리라인은게복치': 'kyvQJBhOLX1T7vwoWUA1LBp6rLlSRzMMHHzUBWyUHasxFMk', '최고가아닌최선을': '8pT2YiIs6PfbzM4yMzhGZmB34AEBOYiQRqiSSnZAhwT5FMc', 'Jinsei': 'dd_c2NOQ6GWcqKF8my-VFMuisBG2gI4PBD1Pi7zMx2DaKQ', '도전 실패 깨달음': 'E8Q4LbUBzg2adVfr6QfegqOV6y4qqkFjPa58Hj9YBWnBs-pu2isqozPAsw', '모빌권위자': 'cNi8nYusxdUrbtpLWAFVo4xW5gwsIkI5bDFtPKu2pX9irs-dOkPBDotIKQ', '무지성바텀시팅좀': 'vsBcwWFNrBtH2aUA5h0NaaeNFt2eSgR-jPLAWd1hctGzI94', 'thx team come on': '5li4VEnD235kr6mxIS2xQ8OcPJldTBtmvszLy9pG2Ezsz_V8RJa37JdhZg', 'Reminiscence3': 'ZTVoiV4qjdNBcSXnytYR8kl-TzCkFLrsBXvxfMJCfNep-4o', 'xycj': 'eT2QlohFn8rZTXxPIBLCel473b-PydMXDkQhILlY6ZcVBPZJZzJrlYb95Q', '씨르멍': 'WYTuUTO2LGELya8DGbqSjWTLnczqiYxnvszqhbd4SIFz6mo', '토닥임': 'FHez_COKjgp2IUpfhAiG44fma_tcnFb_214YvKL1Kvpdvw', '음치 박치 몸치': 'CLUi9BN5xL7y0mfxIX5gbBj63X0BocsVIQRtYEfkiUyYGZY', 'huya 527988': 'VKOp30ooJRiCLzI7sTEMJnMEE_Oqwr-tCavchW1JsDegYOyBui8Sf_VrEg', 'ToT OoO ToT': 'gA4dz8IiOaxGZxTbyzI5tyqxODr7Uz5uwcrVitpB6XXIngXslJgvf-phww', '최선을다해서하자': 'JCXYORGxyLkuYOM8fFydfDkoWGMPI-nSCjYTDV3TN6ntAa8', '히끼꼬무리': 'nwSTTNgrbcxu5TqRYthNGt7W8XXh4eyvYTswgAO7tUC6k4s', '마리는 못말려': '8yInCNi6Je8dIvZREjiM38ANL_eP6yXyazaHRvSTBfQduGODkeVCZyHiUw', '시즌말이니빡겜': 'PsteDgM2YVXu46zSA1uKF8VHdQM1scKpcx8_hKR382n1jkQ', 'side on yasuo': 'a2wInha6ZGT__dt9Xqv6TVdIBVLshK8Q6hb89jmKB76aar0', '원챔은 죄악이야': 'OkCIC7jbusHJFrNg4CZ2FMcViqQej3XoP9Tez__a7y-aXss', 'haipiniuyier': 'BrYIYz-MpBDpt-miABeTqr8z2TIj_7hRsYrSy4RJPiiP2NN_1bQQPJUlEw', 'BLUEVENT SHU350W': 'f3Edr7dC6UkiCypravTU-jNLZtDQQuHHGzWLL41hFdL8klKXyKHkFqzPOQ', '021344017622': 'TLfqdikkr7LrZn9ZQD84IAV_PqcbaVdLGMSCd09kdbFW69fc5zY5eMkUeQ', '쳐직쳐직처직쳐직': '9oW7C9hLbfmXpyKsRB9l8RQWp07sF3b_vdF4WLWUutJv6jI', 'zEsTsEzEsTsEz': 'j14a2QzxO_VQD5wiP_zNQ7l5gB4jk-VIhGTcEeT2GhYuOLK78Ir5u4DYBg', '원숭이나무추락': 'KPLRfq3v2axh7rbmLhNCktz7389wgTXcLlaNnDNlgCQu0fw', 'Celinain': 'dDqV-lMJvB4VWQAKIEWp0IEUxPSuwLMjNWY30ypC74VXGwwrf-tl0LVBOw', '무뢰한': 'FXJUg5UJEv25qrd69OqOOBLecA2YQg_ZF0Agsz18Nca88A', '나는결국올라간다': 'jq2zbzaFYpmeG_K1lnX4w8Y8FwGAX_72Dehhc03ivIMndWc', '07년생괴물원딜': 'K_vMnP9KvYfAHleMiggqVDSaenEfTxaevPrngrRVsun-cRLChPZ_pvhEcg', '희태시기': 'qLPNMIHxlA4XCaN7zyHLPF2QEdR175RCLYPFTvruKmd8obo', '지훈좌의프로토스': 'd0j9_0wda_8UwtmflaQRjPHE2wZhuPRtPsu0fAjAD3_NZGuhhCcThzr5Bw', '앵잉앵잉앵잉앵잉': 'v0c6KDpuvZ419n1IQCzq9EZ5d26EaePzGHDqkASha2caSdAA5rOu9phChQ', '팀을믿지않으며': 'rpW92cMaGZndb6dgtCxyULUeg7ylWEr4zVSIORxw2d-F_sw', '희망의 새싹': 'CvqQJaJzjVfIk2vwcirnv1z71dYQABAwMLeORLLT0etH-n90lLrx4ZYhyw', '현이인데요': 'ehXzStmZhh8FicFtV3ALrx3pWWHQQFqMKhWCh94yw1cvmbo', 'C86m': 'H_xTSC-6qN9--BQzURdc9f4jLDzk9YndDZznhdjAMENq3jI', '집중하기': 'oj4KpFX_avq43YkWFCyh0JRNSLsaamVpvjN2ZNr5-vnoL3jR', '89 에이티나인': 'WPyQmRXjzP2ER7LTtSb-9KDZfaLDaAcMvb2s5aoQY4wGwYH6HkPDIUCh-w', '번역하다1': 'ljGoR0_vV2BChrmL6bdxzD_xXOHPqdO_ToLeyUO5QMCGtAcBmybYg4oCwQ', 'comehereguanjia': 'YjkDFJh5hfLZyCXtwMFaKblFB3w1EQbEkHmXtmdvFuCUfwlIJSb11VYGnA', 'wavyonurwave': 'b405gc7Kb2B6uWFgSZaOHl673CInk_C20BidPWp3M0l18g', 'snowmoon4': 'vBMiGd2fHNjPrFTmuu1J3fiXVY9b2SfXwFyrbGrcHV6RUujhJr5Ywar1VA', '오희찬': 'Q4KjiVFGhgI4kGjKfsXYtuHgLHJsCcpYgzB2I7tbhVCLLoJ7', 'Shaquat100': 'oWosSoehg-d89oKumrmxCD9qSlg5_3cVM5BrruSzqjtH-YRXLFnNSrYK3w', '서폿잘하면지는겜': '6ZAoJ73QZC1jP-ihUZG4PXanP8OULrmo4WNcm5EZuD-U1LM', 'Healer129': 'eVUlngeyQ2D82LPjczDRmgJvfbwT1Ge5frRr_jQFeiOC2ji6y0JJjY0BnA', '게이온': 'iY9G3j14BwC0tq1mIeMRkgTXen_Ulc25S6yxsrVjszgM7Q', 'sn top': 'rL-lcFkj_bjtjOjSFV2IncZSBAlXDntj8ZQF9VjAbRHkJokDeJDj8kK9SA', '살랑해': '5eVYugqfxFYzRdEjW7Yp2FvxmDRqd_C2sJTeZ3QMj_tFdYqv267b4pkwDw', '다현이내여자': '8cI85lO7LfeKjBQQchQvtEEblV7slF4hCUqfGRelueCwl9U', 'JustLikeThatKR': 'oetV8E-kZno0SQMSRQNK5VVs_oPl0Ezi03PYVEcTw2s_Hg', '탈진 다리우스': 'huLn41jxH8gOC5o0E8VeZjbKXyw_-BaKsAO2AgA89UPQ36U', 'OMYGIRL죠린': 'gobxobxT9eVcUFfkxAuMJ2udds84xmILm-0k3mXAYme7WBs', 'bk2859': 'bbKRnb9oIMByAl7BEVuuyGp1Hn13AzWIv65_Dg9nLkAzPw', 'Predactor': 'ag8wqK-TCXvIBq_JuPqwOb4sa4dnc03VKIjwH7KRP51t6uw', '행복해요 하하': 'oCDe3mpUhgPg8QeVPD5Q__Vi-oL07v529F02Khq5ZEctlbJwiu4hTWy3gg', '한쿡어잘못해요우': 'aFVXFEiFYIiDO_xIt0Or3rDvRlLK6qCDG2tEtZWe5cU4-KA', 'HwayiWY404': 'FmKTxFsb8mqkzyGlPhjYkSbfwtRNKpXy5ev_5z2CbevuiGM', '무력하게누워있기': 'x1gAIFWnvBhlOwraea2Jheqxaftae6YWfujnc-A-aBYPDg', '맥도날드딜너버림': 'sXp_e_SYYzuDuLczNNtZMZufpWdCk2PSa2HcyW9GtIIToA', 'shenzhenshaoye': '5BbqO5asADBl04HmFAU1CKZ74PVaBF3j2S0k7Jtr1kX1FTq9NwZrCtP_Kg', '권라떼에': 'xSQenOStlnd93E3Foxjt-PV0wzQbM08sZqVrJI2iu_aZQ8E', '곽하늘': 'u60Zb48AKTW6Epd5vtgCGBeSdeeibpYPkmDxF6Wo-IiKb5ieFJvnWfvsnA', 'Refrainment': 'QmK3X5MU6RCnghNU6LXNmJ_p3RaRb3gCwjqfLIuCzSWplnidQ3Ebj5Fv1Q', '뺨치고명치맞음': 'hEJBjCCurjWHrcMiG875CYCdXbzuCowAysOWbZ4qnRlOiwA', '이매꽃': 'qeqjnv3mohitBtUEiF66YOzwRePDPPzI-qQCsTrXYr2wVKE', 'zyf': 's9QNg6IauUP2XNzzJGxmmVLiVU2aFwyUek7TeCX93YeQT6LEAzIwnSQAWA', '개빡친 강주찬': 'z0AFg5X7H91-O3lWvyznFsQmFv6XkFUq-6c9BMXhuvk2qhQ', '수호자바드': 'ScIfTwJfEw-ToE-sJKz1k5mwvN34tbheUmRKaZJZzFFHVA', 'Dark seeks Night': '13DQBvvpM2AnrLlcKZ-eFYpRWFsYfCAP_mTL8JxFGEVumWOeFTECFSEUNA', '의빈요미귀요미': 'lScSA6tQ0HurtmfEtwnlQz04zJW7k0RsUzcpD_odJWzJnes', '무슨무슨룰루': 'Zo2zA-HmQKUDyr-wuxBXB8UiZVFRg4rWAuwVm9hFyKaslQ', '싸 쉬': 'l3Ahqp6itM2Z8qN5kfbrFLMe7Xm4VPPQjKZ9_aU8_w5Q1J4', '찌니는 아가야 ': 'fuNDEb07qsqfbCSlnf7w1KGOQ1uVWG3wBd6EpIxbtXzf3kQ', '머와윤': 'oW8SjkZ2jqCL9BKBjDSeKh-0Wy5r2Ci1E3ucluMEOqQRtQ', '서차린': 'eF6JC1Lw_sGTbe0ZiL829F1Qs5UFE_BdwUdMDnrKLtiLWRY', 'fdadffdfa': '3Lw9O8HLm4Riaxv0QHl-tPjcBzncheBEBAtpx2y7JKZk5co', '잼 비': 'dOduQlVMbbQbXuDtrI7evpb6AlLzLzBK-039qwJOWGObzbI', 'nihao 2022': 'SsSSFSB0FVqRqN290cl0SPLVIyvnddLJbonpxNwxpZoIOCBMeoBQUXrxEw', 'NS Chelly': 'tyi0bgRW3S2QCrKORyPCq07K5V42h1Z-fNNe91-UO4juemg', 'bexcexjax': 'vRcTkAzEPQpYEHJXbdBDm2m5rgfhzf-DBOTaQZrBoVztt6g', '폭신폭신 에그볼': 'C5RVI9Vp0fTujWKCQ83IY0MaIUZWe7E_Jveewtk3SCDJe4o', 'do thanh nhap ma': 'HFYg28GzDg8HzwE-scfim2AxtfpLL1X27PtBiJz9W9YtaraLUUK8S9sxQA', 'Cisum2': '10NWPUSFjdi6csaeRa1xYjIctS1ZcUf82LZSmzHFr581mhXU', '란셀러': 'JD1LqhLv4AgCQMnDXTdB3fZ2OJ5suYu39qnP5oaUlVH-gHo', 'BenedizionE': 'SREIazLE9FixIB5ETWLFiag4y53VlkvI_n6mstmjuOiyljscLmaJDSLJVw', 'pOnYtAiLmAN': 'IJFBoLzJkB2KkmK3JQvcQxBh26OjM3GsDOtGKeShf9AhKBM', 'Try again C1': 'nPi3TR7gUkJOREr1jzbctkYyCOv985wbD9oqrXKwaLkMbO8', '목표는내일의나': 'C_MgaaOidzW3gSrruM2cqNXLKQGBNIey6IkqKIckkDJ7BkTz', '간호학과 김민서': 'dtwbppEAlVvB5YlHhtBtQiqoWqtU7cEApzDn90uuexP-bWI', '난 짱 슬프당': '3NR7JzqmsONYsuKUcrclLV4BsYSxMuGKa1JDJv9faVGcNyeb-cJFwWR_QA', '욜로 욜로': '1NV85Xr5c--zeQGYgn0ppwgyxwt3OjVZKimoEI8eJmxby8Q', '길의 끝': '5f1xo6X7fzjsBO41n145NjUOX-dB9YL3Oz01Qza8chCOgFk', 'qpalzmwoaj': 'Lg7Ymwnk1qZM3RnziYLowpgiaQn5qJZMFJKzI_di2puTeGA', '고구마유시': 'VIEMGqnV5M4FWEoT8_UrxhEtE-MPS-TA37q5iJHs7at0OKg', '안수호': '_eH_jgXYWGVbTyjQekmilSNkZqbzO_UFOz8AXiCma-7cwZw', 'Kamad0': 'QHdsWM3mmOqaW8w2OWaBKNKSt4EJBeLz1JZ-NP5yP1y_IdJqk5zh2buLHQ', '이쁘면 무죄': 'GtVqwS00jExOSAUqojd76zuRerBM9voTWW997xPXilbqeME', 'rklckp323': '1w5uhWXGsTb1MQiBKsZhZZdffeHSpPmMf_GksLJ-LFRuUJg', 'OMG COLD': 'N66OIhKcOjUr9FGOgUuBtmUKYAU_ea6HSJIo5vRzmbJzEPNNdpr2Ciowtg', 'Heart': '0nt0-TE99-ZkMYqVdgp4a9bskXIQOKcrLWifEIrRQHSuxg', '05 11 20': 'cczlfFHAzJ-p0CvbDmyttNRe-X_p8sSqYNRP_7DsBJprioAcp9dE27NNBA', 'Hvnter': 'bIdPpweQoycLvjX15o7tv-xbLi53co2Y90-LxcUJ3lZa-WvY', '몬 빈': 'OY_5MRdmaD8QE4Q5-azukWfXdePaP8uCxDX3IK4Ikp7Am2adHGbh6qB9WQ', '약없이못자는사람': '73mkv5bK8LRVYwYQ9MgEdMNd0Nc7lzU7QfILek6zDU_eT6d2', '폭설이 흩날리다': 'k0bEHPdGfI-1-R0ntkbTZlKoUuZoO8ifc5li7UfFDvFNAC1XLsZafSIqLA', 'stup1d yekai': 'yocO5KipWDx5sERsXSPg1ToeIuTPK5fIo_mySi8cwuxAa4YRdyehAAajaQ', '더핀란드 ': 'HZjCdglfXY_R-w7YhxDZiMnTGOic0ejHFRWIiHDcUCpS1u0', 'wu guan feng tue': 'KvTnCFgk8rzF3u3ReocezFDZiIHHpQ4YBjCWj8chNZ0jJnNFAhFqMW3_gg', '15ffthx': 'kwYoUd4fQyLv3zXUUKalHXcjtO2bvVYanPgSqygDojReuDA', 'aiwujiwu': 'E1zcRoH8mLl1mUycCaBYeTtK6YGB4Bfs_jvl6QCTrQYFjP6G4XhtWhyf2A', 'CrazzyCat11': 'yhtY1SxHzuYxbMKF9mAhjLtU5ADCWOAJwkFciS1US-Pgcdg', 'X  Ice Cola': 'zqL0zOfVN8obVrgyNsa17nZTBfy2gqxdrC_oS6WcoxqoB6aDZ8A-oyB74Q', 'Kora': 'APVdWNCNI_Q1p-n8V93sPhmHAC0mXje0NINUTVHGQsxmjL4', 'Stitchy': '--bCxl1u52Che0WUwbnavfyAmHKvsu9VK_66RHVq6IunQpw', '괴물쥐': 'UDi9Q37zJW6S5kwUv2XTDLT0YHbxKYNWe6aRbh8AZfYLcg', '전승트': 'armO-d3oDJ_SOIz8wj6YuNCHII5xg78UqqITAHy_90EfrlmPiKJWIV5mRQ', 'nwn': 'c0TZlKSYsnSQvSPheEDhfcFXr6mUDbUzFt-cT-4xIb0i90WgqbyBPifwKQ', 'yaoyaoxiaokeai': 'SoKvqe_W8bcFGR0JQHvEWxcOAjmk7TG_DseKYo0_kMLaphtMnjsePi8xfQ', '효성동 김드븐': 'ffXJBGpbbeH5iao6uNtSMO-PqxtJTgP1mcTwF1yzpd98Cg', 'Virtual gamer': 'jhY65SRYxidZEU11I7KfSqivgGvPR9_wnkuE5LhKPcxmnW5z7c4pcWdSzA', '민씅2': '0_rzYTVdimHBjoGzWHv0Lmi1vLkVDu86hhIjkrjFDfpaWbE', 'kojhy': '_CRqWDsUM5XAeldDP-0lWfE7TM5awf7eKg89V0q2LDP08W-6jYJ65YzVog', '토달지마요정글님': '52ZiKFqvRK6Ne2S6mM3XdrOqdzuCY3gaJ9m5_xZbDJrWJT569iYGg90oPQ', '조쟈룡': 'AcSMj1fDkTupPOYFoHVJMTg-z5Up75n7OFxSDvpM1fmvJEk', 'Madiz': 'SbtmPZf0uJ-np5VL8QM7DPaOLQj_BXO58-xJeycn0AKjn0M', '이다중국인난': 'i6CjIvSRM1A2tSkt_ZqiPJFK4c4oUdKQv8pgE7q8nEiREEY', 'cuican de xing ': 'Fu7PTOFO2kLvT7Od8nITg_ppp6WYsoRgnxlepAqFC4fQRmQ', '참새크면피존투': 'lOrSKilxJONDujQyz1N9kd4xI-iGYL5xohSK80ZdlPMKmLM', '내면의나': 'IGDOU6GoyXI3qFhczh4VTGrQFf3zbOwzdkLnMySMPFQTnhbnKElljaFMvQ', '꿀열매먹고보자': 'MIw5ozrFLH2LT7MvHEZ6n5WS_Nd1_aKLjjrYPztBvKoKWm0N2vTiLWs5Ug', 'pinzpinz': '1q6pITddZu7L-RBhNjQ-_O0et-Cqts2CM5d3MkYPFV95WY2Ey1OMBPk3xg', '사랑해요김보람': 'Falov4v44rJsnX00LC7PN73ZcLzU6q7R8NT3DqjgtW-y-A', '민트맛 포카리': '6aRQ2eA8HVIMRZbsouX-ZgrGdbbgkzqmuSz_r9_78W9bug', '믜 진': 'nMGpDzfX3NHCTb2ZdHgBdL4kp7BUGCPU78l7isEEgySdEc1uTQwpAfLDaw', '마이고수는츄츄': 'ERrjOGmm6Y2w9Az6jRghoDW-8cwsBn2pvXu_ZYeIIeZpo1g', '성공의 뒷바라지': 'Hr47zMIK-270DsIaSz0UTz8Xq4Z3pArb7S2buysf74AbL-s', 'Caesar00': 'bSSI7dloUFN4Nubc0tzo4CGy4nWEPZL99es9DzMi8How_1c', '준기보고원딜배움': '0ElEuhaviXhMhsllaqkS2qnpJC1Sy81D5miJMOR_wCWp4b4KMq5EBrd5OQ', 'why you buIly me': 'Lp3zPHfu0OyRiNapQzhSKskOw6_t9kZSTrylyAbeN5C_DME', '그러려니멘탈잡기': 'OIwtunoyKOR95o-8swCWi-fG4iHxBlOpT3lRfVtQHF6bPrCBOb-xzTxgMA', '인정따옴표': 'OjGsHxzfm8_IBImUGQV1NCO-R6Qrr2EvmnZ4N41CU3arj-U', 'yueqianlongma': 'Icy8GCoL4LQUUtooUVI3eo-sYfrWdAUKJHqlOiZHbpiLYJDM6VLW5RUMDQ', '안녕생선 Youtube': 'xeG-C1WyOJp62AMb3m16H-CdDA1VlQLXWC8tUR-DpCJExm0', '물다이아': '-RUOvaj7v-Jg4bHtVdVi_tZ3llqkpR8K9gEzeUxgHWzzyw', 'lMute all gamel': 'jU1kYXmnJVIjG88J_iJeWN1-ippP6gwrnn6M87Kgl7yBIEUuV5n0CU1mwA', '04 Shiner': 'tSUj-0ZXQ0mKvJWxYCrHWbUmFqD6xT-4u4qIWRvnlVjHenT6M1KnT2p0Cw', 'MeviusBlue': 'ZWNypZJzr_hS8eujsFkMreFcRGG-KtU4k2aLW4HayFdPU7A', '재일강림친추곤란': 'aSLC4gb6BKxKoby5HAluhZvvugsHuOPuTn4zZHxLfeRO2w', '에스지워너비': 'r3bqc1LzEFXmlSmt_YS-jIdaFs4rEvL1Cx3a-R5-w31mA4k', 'PPPPPPPPao': 'BqgDlpW18EXD0zeKlVTei5wHKHAd1odpRZlXUn3iJlZ1MOY', 'Toby Dreamditch': '_rTkUWXGXBK7p9iPHio9tM0O7NFBP21fXCeNzNJkMkRhKDM', '싹 싹': 'lmCNh9UjFvZx4VqgcRJ7lASbFpjm3yFN6WjLGf9ELgSi7Hw', '서아멩': '0UFheXtqN8bNty6cZPby9N8zSKrqTnvIBpkOVY11sKuhbSo', 'Ra Eh': 'VSkAwAQVzOsTcT9aCWv8pGoujQ8bvzjoegVagFsTQ5ooL8o', '절연체': 'sqA41Bc9hnNiERaphlIXXyDm_KCRewoT2-yT2aYTlIGlK04xpU2qLukDRA', '끝난 이야기': 'L8u_JJe7WMNEGrkmDfY-OR2LEsgBfpiwM7cLJxOA2YXabD0', 'I크리I': 'aQl2AaX9kOrDADYSH6XlslMcC6CXD9URc0wfWwFkONnYV2D1mFASuKhs2A', '쪼렙이다말로': 'o3LlKE4CjoBS2dXXjAfCZF8V8u_suyy_jOYBternC28GQqNabVF8AT1VCw', 'ohayo minasan': 'UP8CLCd7FDAgtJwEqOw9gAGSwDAN6CZyuk75IklS1xEuBHyIHpdbdGrm9w', '푸쿠이': 'qeiDIoNgi_HLl9x0-Z_YUurwDSV6SghBlh_5-97CpWxHXA', 'LDCB': 'u6nWw4YQJjz7gWVNUPnhNI1jojTbiryW4DExOetNChQnSJLzHtszQptbwA', 'gmoa': 'DJ1ztUYKEC03P_Yn7fCWo61Qod8UUhCQJMkui_emI6Ww980', 'StopBear': '8rKcMghXfM81n9zwg-PDYRuTggEZwc5ayX29Tz6Kg7srjmw', 'babyOwO': '_sLunzOYgK1Q-eL-p1bjbny5w2iR-kEfMdq2giIcYOEgxzc', 'aa36': 'y05NJGshNTKzcIEZ-xuyRh9u6ehXvxD10gFSEKE4bS00Q4OsVK7Vy9z6BA', 'AeH': 'aeKTaJzTwdFLuKz8u7sozeD5WA16SgxZSjbxHEF-qbOVLA', '두리누리': 'u6dITEZ9AsDO10yFh0WVRDAaMYhHYYkIT2OmomlrunRKFRA', '나 른': 'HqM4hVMtQ4FEL_tQ0DRbBZlApjLoNq5KFglLX2Esc18n2A', 'hoppiny': 'tkYRltsi3DtvveIFonAPaKDAiaJ-xLpnSN_Lpv8kpcx-eDRr2Wp1sgMhrw', 'zhenjia': 'yucn2uRmPmFayZMf__9zcpYw5JuIJO7Tb9ZjT8415CxbT74on_I19evjyw', '문재인6974': 'u6haUumi_YG67TMVuq5fXubnHlz9F9CIB8wMBPH7__y3jh4', '효명고등학교': 'Su2MDSbeHjihPE1YVYi5QQM-gLVzQ49P4m8N99L-11saYKGkbEBbNyaGYQ', '수유 Madlife': 'qnPl1DS4EUiCqBtzNdDaG9FHnh8K1F6h38bad_L6rWYPcxE', 'Hello2seo': 'IexPbymzNM_Gmkga7kbKzdVc00iwG4vltprJBzfDa1Jus4w', '의지느님': 'hovv6JePghCNCqN2_B2y6R-ctPwSCjMMv8vOU9v-CEscOw', 'yinheyoujikexun': '64q6yfy7LxL7onN9d-_lKnxzCdd3Gs0-_kZltQRoC2DDqR5Y2JM6c2Rr0Q', '과잉 활동의 날': 'qnvmIT3KskusRTPmypLmiRtOQegJRrQrjFaKH_Rp1FE4tXWXOgFHcvcQwg', 'Lv1 똥글': 'mlSJtEcxl6vgUx3DoOmYgHAMAXhVk7JuWsZf1w6wcKA77g', '어쩔와드': '8e49Rc00lHohd8MJlwEbQ9IQ_-3gUdC8g06_Z2Tsj7qdXY_-4M-h8s6PWA', '얼굴 가슴 다리': 'Zdkjuj4hoqpXcjz4_cqPy_X6h5JHTGkvh-P9SviiUHQBWPA', 'DWG Ghost': 'VINQWq7Y6_1KJwsN-U9nSZE0f7c0ddDOKD3tNnkDTrqpLSY', '승 핵': 'SA9a9Xci2850vM0_uSQtj_4CnPay31RdYqEp-C6y9vdupbk', '선비누나 fan': 'x61bVsPi9nk_AvmO_b4VZnOHwl-CvrBeLUG_FSLAaBKnyByKBIPBDjUYmA', 'Make It Rea1': 'HK_vYHJxZx66E-r0V_lunLiwioI6PjbVikVhmpL2L_RQRK8', '아이유는 내꺼야': '0DtItVtGtkDLNKGzUMdNpVYylrU3O4zTZFn0-awBpS6v8lY', 'BRO Loopy': 'YyyVhcqE3nplkHpbpQdRRY_M8lZA7G0wD7hLqkJU8ZHM-Gs', '미련남은계정': 'LoAvBhyfjcWK4YAo-7myrdxxR-MQcUdryGXUjS0Zf5g7uTs', 'DRX Frozen': 'kqXiKQMAbASx3lBeZ8n17zI7qzkq3MPAciHyvSdfXyWZyA', 'Yodle': 'bJk_E4dtLNuUBzd0cluD5pYkjKAgGCpGo0EPmlCPdB6g8fE', '실키1': 'GNHvPi25t-8njU6JbmZVRw_zUweKYSYFn0fJ5qT4F1hw-A', 'liiiliiiillliil': 'tCxijPx1EMEpoC8dqSQ9nlzNJBl74e3CIjRM5eaxhlZBTFYNzZHqKmfINA', '밥은먹고가야지': '8HB5z7psJ5iXtu1mI-4RpMegWiJ3XZMaj8uT4RmA8mz0VGDwiAYxy7AbVw', 'Epilogue 4 you': '8fzTfaAMHYR7Wdph34lOMXFFeArG0hiubFqqhGrI46PvQ8Avi_F3ZLIZKQ', '속옷이 울면': 'LplG2UE7wGR6DQ-g27KWXWkbVq78wEQnsFWw7oNJeBLiKg', '일상이 이상해요': 'O9LGlgcA5mTZik5W3c6REtbAXjie8eYRn2VXEvd0QogJnpzlAcdP-O2naw', '내 꿈은 준밧드': 'kGPVFLfOZfs07C4iyLgLxTGt3CHKjHsgSYVtpSMi33dQhfw', 'hunzikingzz': 'fMb-EDaIr8nrWp76MghiGtSc2Z_CDsd_2XmlE54-W6m_ZZuSi_yuNVh6sw', 'ASDFQWERH': 'PHKJtQKfu3L9XANIO8oQJcKTIHkDS1_edEbPjSMdMKmPYA', 'love beijixing': 'djpwlVB_9PocM8CLQ4RI7Xlo_FZQhFQMczxF1WeSeFXSNgDA', '260297': '9ls4pWamW2XspCXVucR1E4CO8QqduaTwkDmSo5XAR6G-z3Q', 'T1 Poby': 'J4vTwdmUnPywP-FSbzxHThMdgdikJebZNGmpGPPn0KwH3qeed-zGWgKwbQ', '챌린저 진0': 'Npozzbo8NexBKPgiXZq-euVsvhFSCIAhQNoBbUeu5x2tTz196oglP0Vb5w', 'nidexiyi': 'f3qROgtQe8pnO3xuL3ZKz6Ryyp7PBGCidadpAOrkVUygDNIq32xoP_X7QA', '걀 달': 'mb1H81o1198Qht-hOXKun_D9g0Ul6cN1YCxNvanIAT_QBeg', '릴리아만큼잘재움': 'XVSF9sGOPgH6apEsDL4zRJwYW9_x9yr7CSmzteWBJNE9H9bA3YcEghBLMA', 'qweiouqjwioe': 'ZrDx4kkmjXxlLf6cWOlqE9yFd75XWjVBpTz4SnXwENO5j4I', '사나운아기고양이': 'BosU222OJmsyqgS7ShyJOuEWmYolah12TUJcnKK2Ddyc_wn_T-LKY3QYvA', '조타남': 'UZkBrgmd7zpgnOfnvW0XBjTbIbVOtkOm7uzAj5e1crETtQ', '티원 탑': 'Kp6kmtD2_vbRN0edINiPxDXyzec8x6KRyk6EsFu54EROZ5s', '이땅에서태어난죄': 'jLBZbyRxMzZoWYPEQgGLSR7MEkkLTS7x0A4yuPOXbKJSJcA', '잠을 자는 벌새': 'F3O6JaG8cLvrkER6MJXROzYaaW_Ua0m3CAzeBZd5ucZCNJg', '왕꼬닝': 'ux-u_Kjpm26di7-xwoOIpqlZ1bosRgs7edhYgNGPseHmJg', '애옹이가 어때서': 'RvbiDYLYb6EfGYrejWQErygBSbwDo4z8__14MXpHgQy9bSE', '귀염뽀짝아기도파': 'zA7_OFBc9PLmYvD4W7c_eQjLfK_E5HR0-x98VVseLGUnMec', '0520520520516': 'DxFuAk18g-4ci_ZMVkhtCm4e5SSK2ah1D0HQA5IHsfdt4ZY', 'asdqaqabcc': 'q1R8QTdEELheXvz0k3ZN6vWVpB1nh-TW5vlxVrdROYZxvBHocuvkJK_UWQ', '정영경': 'OmdmacqL3JVlPsxiug-b2iWoUSH5AXAc8kpspi6rVMarIOs', '적대현': 'nz_VKton6y_IOHDG5d6sS-AtiD8S5P8nthI9LwVfnahuxvo', '05  Shy topking': 'TQ1ZDbHWMINBy4RfokA_vXizDNqwkawxovA5TmKHb_z_0E4', 'smiley face OvO': 'LDP8Z6N34kYeWzqayYwU0Ss-Vn5QPc-rInj-WCFBiGRIofet', 'CREE': 'gP5qByVnC-N8tEizQYxXAWMGSuh7nz1hSMWTRF4YXNcKs7A', 'Aljlrpaxljkljxto': '4izII3DEIPLkbx8jmmqDIiLp3tqAIxrQlD2e1tqJLPX7Prt5bLj26xehXA', '국 격': 'u8dsfH9Zj9vvK-_WEcn5-_2xUv-wDY_cXPMvpKu02QxpzM4', '자아를 잃다': 'OTZBz9XJzgs3tXFgApLkzBBHabUTRt0eFAwHm404T0Zc-w4', 'IG SUP': 'xR_8v5X0PKYnEcJIsj7lmXMbDFnsrdHhQzynFWwptfPK4J8', '짱건의적수는없다': 'syXdgzHuh8FN1rv_0G0rre5JL4YCYGnAjRTQhLrNNSOPcf8', 'chi ke tang': '00SpUAOnOfFtIHrpwaEFeNkZOnHgC646ymhMTzeAZrn0CFU', '넌졌다': 'Fp9FPcyHAmEX0CCPRzOhxDcnR0r4Gaco6L6w3lNjbj0VPN4V', '부꾹꽁': 'OBYD1MgcRHrVkDb0I9SQITqfoPAj6TRfyKWIZEE1qlBOYeo', '나연애몽': '4sefByWZWDzRWeSdwdv5FRbfKBJn7aB_n5hHOwh1AtBkhx0x', '최 찰': 'xjGZciQIObOukaLDhVD3HThzfJBBAoCaCYqvZTatPmbW1nT7so4AOjVGRQ', 'sorry sry': 'f2kN3l6D54lyAQGYtqqRQWYCluSxEx_C4pl6Ihu5hSxWODI', '토킁이': 'wI38X9IZLGwe7uLYA67iDEhIONrFvrED0QdQRI4gg7JcnlBxWvmD2qbq2A', 'Rankdangbisaida': 'fJWA9H53Uy5jc_jFkJd0FVQuGRxRcNaUQdvJ4m_Bvaw-Unk', '댄스더나잇어웨이': 'a0GqOTzh55_bhl2jBou3b_HetLE6RP5vTY69fXppvHRWuX4', 'someret': 'ZZhuW2c8RI7iI4gE_N3jcK3uRydU6aTT4ZSVYoKSdyj918JtvoY-osxqeQ', '엄청나대단해': 'i3qXLPRy3mr6X5FFm3x5QByrOU7-SprDXWDSercV6yXMcQ', 'super secret': 'NOmMZzqrSU2bYQJ1VfcHflOIQnFETgterJJm2YsFWrb6MT8', 'Hermoso cielo': 'UNdudp3kiTi89kzugIrd6RvXmhpaSUHSvhV17NE_Bojgoa8', '카와사키 사키': '21jtYpqSv1-6PbhxeNtmF_h1K9yM4F8UOkUrOZP7WX395x8', '로 제': '0Tm__YTQT1YegHNR2nrlAQrPFMK0MTsl2x2FtSdv6lBpQUI', '잘생긴정현이': 'OYRFEStW5h08gazfsda5lRBHHG5-85y_IzeEqDGDrqFTEg', '임진혁 개병쉰': 'JKSckv_jg5RSEzuZpP5RyQOsAcpu8Al4ZwntDweMmcAUqC74crHXivHA3Q', 'ydoow': '6XTcVTQqRYNUF2lbZ2fsMGKNoMxfiMTEfegMXwsiHzuoSLo', 'INININNOchat': 'mDm9h5b_W-NFohVO11lyTAtGehDhAnX7mX9zfqM_TmP23TM', 'edlu': '0KMT0mD_N2U8fHoue1JbZMvCEjOIAyu-SYbLkO2it7KVwag', '나와바 먼저가게': 'p-Mxv_Qumgbacxe4J3UJnZV6JlAGezheeeHjoRVh1YwhV7c', '1904D': '3p3SuDwf7X8SyX2Lt6VCxcmLMb-HPZEnlApUPyhlpV7TqdqjVTpj-AL_Mg', 'HLE ChungSin': 'dQqmsOLatujkbo0z3VwLOPsipsN4t2vGg02gYctQtVe58A', 'The Rek shy': '_6oGidvSA7oQjrJwLywr8-Uz13uBXtgkdvm6Ej9oVt72PA8', '딸기는 죽었다': 'jcV37jskhl_2n_s_DCD1dBsUttkp9DSnxwFLxgD1tVNSMME', 'Deadly': 'I9GX-WKv0T_Eok0eFoq1Yx5iCI-Jg_1vB_KGNpLP0JUf7AI', '억지로 까다': 'Qq7n9E94Le41ApzcNAeyX6_M-paW0PjInPQB3XXrEE6Fml4', 'hai345': '0iXHPMYljpksMaDXyiPkgvnvKBRJdC7EKqFQRNpOp2skT1KhDaNF24l0ug', 'Ai no Supreme': 'Ngp5q4P93l8Tv9sRfwrRzICXyi7QPASZ4PQidguFs00dtWE', '2021 2020': 'TSpjmu0Lehr3VqHv4WwXWg4GZHvxBVNpkQwfbj6NGaSW-Uv0k4VWQ4VY0g', '카이사만해버리기': 'ET5_83fbnY80CQoSUYrB6oQP86RY6YVDbXdNcIF4KgjfcnouTnDt3-qcQw', '외길인생 샤코': 'SR3JPZR-_9cj1kY39tD-oxA0YpZ2shQYwdsw-8rqJEtFlw', 'LSB Croc0': 'KBH7b4TU8DfjxYnqCSNMt11bAdGLtFpjjx74zKhSI2YQZOY', '노쟈기I': '4UNZkZBzoSkXd48M8nu6n2NkDNypY25XOMShfMeudDdCMeEs', 'SUPKINGGOD': '3hAmfVZwp6MdImt4qs1nyfkcSnQmnHHqzzmaNo_QMHTnqg4N-CFvMkxNXQ', '우 쮜': 'wqp5k94tX0XvwzO2e4E7CkbkWG8cznh7u9pdHEsjnQXlndQ', '채꿀꿀 fan': 'o23M_SxBtB9zktfqF0VRt_5yia04E7pb8lCIoeLK1rTAAF0', '2D가최고지': 'iEtFFxxVURlnJaTqG8FvMxS8_tSY-nT7mi7PbZZVWjL0kA', 'ShellieMay': 'HQDeho_p05kf-9BPgWx6BHjmkOTXWkhcnhqBye-eOlID0OF70JvM0qKpEw', '한 번만 안고싶어': 'TWRy-nXMbwjFh2mFZqy2FVh6feqniD5oQHugrKU8QGZ4Pcqzc3xfq5smZA', 'I risk my life': '_-2PO6Z0EDfOON_h6mumE9T5AQ6vSp9T_NV48FgpUt_KMP37Ih5e3DHbfQ', 'woxiangtiaolou': 'jIvn9q1zc-fIKEkRWyHOzmhnadOMfpNnu14BDxn7dinAVrqG8uZoEtwg5Q', 'evil evol': 'IGlX0aU7va6TZQiYQxjlcax_2Wwu_7ZRk0Hvcbnw3kvld-o', 'Sgy': 'v2euOQKr2InYkQvhvTwA3UqlirYWyLN41VYxGAzttEuIqTM', '콩 혁': 'S8GkR6IBgLx9b4wq505TkCMwcep-Bp0NFxF1e96JUg5XieGaqkJBUtRpHA', '싸우면포기한다': 'elELu6F90778jdUykUOiyF3EzYUMDBJOZ_4Ubr9smJ1emQ', '일 열': 'UyuXfT2izrajTAh37mwyt7p1PPcgLM_XVAajoKhEGuPgRgJMWDi8iG2-2Q', '뚝닥뚝딱': 'enBOvqA4PX8VvlJ60cR4UeV-P4O9Q1LwEO-ApAP0jPLjXBo', '하민누나 돌아와': '6VBWNl2Tc0EHvbdJbN1fdr6vhWG8UeDmvinc5YxSnZ6N6kt-P7R4AWNI5w', 'HI IM Chany': 'UAHsQwQKVF0NPzBm5CD79Kxzi6ZdDrHxAR7XRTuxDC6_hnc', '민 카': 'GTGxHK0RPfGzGJ8SFTEUNus9jHu1hX4lX49NBu4hZvcFJKc', '지코매니저빵테': 'N7Lk1_e4CxFqNQ67OlCSJUyoYhPXH4FiJMep1F28hFXghA', '아리티라': 'HWS6g_vC0UrvfOJE-OVB092YkjUkWNHBoq3POY0jIIhbm98', 'Ravenda98': 'CNbfgxKknlw3B84_i6v_zF6cMJvzBvu6FndUOe0cUoL4fg', 'scy19980304': 'W_rDj11oh_QqwR2AjkcZa4ty6lF1_wMuO49nJ0facspdtXyCQ2360K5IjA', '일폼클영': 'mgRBmq-Kifsve5_mRbMgimAjRq483OZD77u7vzJMxR0se_I', 'C9 Summit': 'rxQ6EjcUrBh724JjD_8ZjO_7PziETr4WecXaF2Y9yly0H8I', 'NoJlhye': 'klgRq-6NVYBIW3DHk7mOcVMe3_yJDokzMkWgvAeAJry8R9A', '선 공': 'p2Q5Hf3V7G3Kzwxh5kmIO3MT52LLUfFCRW_sWwmpk8BXzMqdnHd3iLJzYw', 'Anyone Anyway': 'XoFnbQnrrGAt2qfBZ3dv36J171Q0QVIBamFWLerZcL4jXCU', 'WAYBOY': 'HsVu13vnqssGACbGTBpT2jQlOiJ2KaGJJVjnUb9ksEyAfJHBlpmvToAVtg', '동양 탑라이너': 'l1lmzeN0IWLw08548MWuhfn2bwF12n5JaAbFP0wY4mDsWG8', '요정연': '71EJYBYxVAcytqFoM-35jHgaC_sHi9dEyfiRuQOtS8CL5uk', 'Reimu Hakurei': '5ISiMthAziASc-RlB8s8A5rbiPgK_b_IiLk9FyJ_DHAEgTbo', '겜할시간에책읽기': 'YFKFr5QqL082O9_Em9IJclJaiqml6ZbDfD5vMxr3ZROFEXw', '심찬규': 'AZ_a22z-I_F29PBYo5PQhQG_WLAHbN3HdulDR1ykuKwlPXQ', 'plopy': 'VLLpZ-kdXZJ29gp64FhxYzApeJcusSTFU39Dw1U95kVSCtJe', 'Pa9oda': '5bYDocTUCg4F3aVEx3BCwPc9_9WqtTb4QNiQCSPYAEzankmn2QEJrCke4A', '일몰수정': 'a__-_CHeM4OpC7DOuoFTkYRri_72qs8Wbdb1_wefMNAZx3NWBSxv80YOxQ', 'rladbfh': '5ra66BfGmCNAdYwW-Ds-38YWtHaZat4KpaABSSwrP4F2dnY', '15gggggggggg': 'rP7hIgsW6WAIzcmbaGdFzzo6sM2IYDvcHp4syz89uve1bA', '하준상': 'cPo4oKIae9nvptjKKXI2h2_g7KgGQXC8fAK45an3vHBzwu0s_FLVFyp2pw', '전민혁': '2PkHtvIm7uEn6saP25BdCOB4T3VGtATiwCx9uGrjA-EPmAY', 'Tqmweq': '-OYkrBSGKka38ea3SIyny09hHfuFxgveVJXaw8AQ1tuWx8zIe9zu4ErRuw', 'IGC 1': 'TXhXZ5Ies70nUE7USBr07FkViTin7P5RV_aUpGkrlyh2xfA', '전건도': 'TgbJM4OnOzaWIzZLAtZaJ_pvSbK2-dS4_nUBh_tqkywMxYk', 'grey9': 'JywuTrxplviV77VbZ664PSGARhdZje-hFfW3MC7GsX29MA', 'Good Day ph 1': 'yD_WJ35O61m37dN7Ys97Ua80Lu2utQuIaKQRouKDu9Ii1zs', 'Slow For Sure': 'EKRpYtLZd99WnToFU-2_dsXQfIT0Fgr27rYjFZ51P3mf80hRh8D4WDC3sA', '숟인데요': 'M-jf8MSvIPmtRlQlENfR4SMZ4ByWDjx2ghxXNqwc7aXGTV0', 'tianluoguniang': 'GUWsHS633T97QzVhBeEJ_GZn28I7uP3XsEVvuJ0TBoGDokU', '리맴버': 'hsnqnjFjxKxJYb0j7OpKCgx3ZPopuNjcCzBZzoFKAkPYUeE', '팀한테억까당함': 'ZRGSMHaAKmOVwCfQ5N-q270clFkXLHTuYeLdohTI4n-VS20', 'Kenny McCormick': 'A7_JxJagt5Rgbfk-z7jn7iMfWGPHGxEedgJqrs1ltCZrkB_Kx1bQgV1GOQ', '어른이 된다는 게': 'RFHyF1HccYBERnPBk0jb65sHIQqm8PUzDQwzYS6HP35tcJM', '이구역딜량일등': 'Ct2rbZXZ6Enf6lAC1tWFNXZVKQkjhg-DNuhw3Rb82U5kTqY', '알 잉': 'XqfytPky82qE65n0ekmreYS1DOMm8zPYUBvOGTeRtpLcl4I', 'Trulyy': 'A1oQt8uibmz9WPF8RHWi406ZrmTBPK8v407Om9E1gN9q-w', 'Weare Emma': 'kR46ZoOpZ4_29rKCpluzqxwXgi4NVuJ8F565qnyyCeBx6kI', '스 눈': 'OYyUzVHEkwdp_DXUxiEgJy5sB3oiPko5g8J8R-wahiG-0Fc', 'Amatestesso': 'Wso5mPFsh87-cfxKX8ah0Bcd_EZLfAE9CzLjm3t67hk_J-B7kFXaorprFg', 'woxinrugaomu': 'HKBxQutR-sGlNvGHNrFtEyz07-6Z0DjUgCKWKTrHuCJmicVK04BfVtRA2g', '안 헌': 'a6ZMGLDnFX5DG97e2AX8AVqR0gm9Y6R8cnDBzxCkVfBQ3g', 'SE Celebrity': 'JCoeM8QsVTdUmkmZugkQy_kMFLikBWxByMIMDivLxBwlczilkcwG5bjz9A', 'WANG PIAO LIANG': 'uXZibKXq1MJEil8gGSxQFjFOdwuX4-mkUs94xxEKvYkZ9ZNJhbRHywiddg', '다시처음부터할까': 'vsLxj1XD49NPbXtFY2FAFLPy16Fq7U4mAblMmhIwTt0g5SBatQ2QJod6lQ', 'Twitch 정대길': 'wqHQPZRp2Rhxt9t-XtanxJ5rW2gsWjRZUxJxJkCJ0loJgyg', '미스포츈외길인생': 'TOCYcDgXHa1B-T8a-yQsZX9p8KQ3ZcWugNNruQyOznnVY6s', 'DEULDEUL': 'FOdv3NILbxiV-WKk-OAWaPN7U_W5snxRJRWkxe2quZZsWA', 'dance man': 'gZ9BH_AKGh0DhRvDCN4GJKtbIhsVIiLn8aLbH93IW2U9qbE', '바텀기릿': 'weOXkSPfa62clLmRcB_yAwzs86Wpbte6jKX_g3lVkenFUoI', '레넥톤전용5나홀': 'SWhXAVq1jYoy8OXiTWtChkc5aqseLKTSUmsk6uRsuWA_iA', 'E He Ra Di Ya Ah': 'a0g2Wg2uk6UvW2OjOViBPR3ZbHEOSdZuNJdvJiBwP3BQDy8', '죽을란다': 'NQJm2qJtuzps_MIpxG8e9tfahNHuLiwo8cmeuXj_JIbb44M', '카서스상향좀': 'w1lZtdNVZOxF2d_fADnbxr18KmpPGq5ME0g44nCjmFDt6A', '손승현1': 'Fh47PFVmDpMFQR_y6gjhodYJE26M30yiFa75VLLBjCO3EmyG72rOnwK8UQ', '단념인': 'QziikMPDOYsszGOkorlf1JcNfP1PzvsdWZBdVSz-U-LzFZc', '음현수 열혈팬': 'xmasSQft-B1u_8PGGDD1yIB6wljRjuZcXjjMIkrNYu2-RoE', '뮤탈리스크': 'gG-pRVPKtu1Y8vPlmDqYaCcRzVaSvEt2w53_HzU_nau8PczQQZE2ooIQ7g', '05 Irelia': '1YJFpK6hf3IzJnORoEmbbptRTJsDlYmq3hSaPKSjFzx1Aqg', 'Griffith': '5aAun127x5QJTkOqLiZUg39QeWNx_hmLDSj_vVIquPyNtIY', 'JUG23HY': 'PnM7sMgKHQx6t0V8ZxbYVU8iw9TaBbQJuAC03tEB0Jilvm8', '펄기아1': 'ROYUC54UgG9Uho8EzjNzvB6oA99_WJ0eTzS8QACwEuft6VdM', '행복한 다이아': 'JvVU3eYuur2NjM20kkbjXhObxrztv991d87Zt95ETNPQZH4', '굶주린 맹수 종쿠': 'B5hxK6GTqx9tBLGfxOUkk5NqeClKRDn7q9F_7dCTwCEREg', 'aosidf': 'FjsesMKsKg7LweFLUlKIaS80oAl3Ty5ChXBrnfBh6ww_szU', '연애혁명 fan': 'tPVSpkKqJ8cJySohuskqPzfHh8x1B42_S948hGWXfF_1mkg', 'y iceD Bot': '5noy5On47rjSeyeL5DGcYWiwIIY9FdW6GdulbfWd7-w6HcQGAYr1m9pOyQ', '세 옌': 'ZLXG8g5OcethFeuN4_QUYDdonq9-Q4W18T5scMhSQXAWULnR', '조지웅': 'HX6wcD_d7PnHAwBBjJJ7ECk6VXtlZCuzTHM5QxXhB7UZcg', 'DRX 신중현': 'T-t7D0gSuMwsQXtSrnkrIMrl7hqGS5LWU3PBUahe8kBT6qc', 'Sylas King': 'NYPHidDWN5xj-6g9jHWw0gD5P6WqW4uDouLv5-J9fbdsuLs', 'taka10969': 'eaRXxz5GyUJlDmINQdzhfw0fCbcjeoO9R_XyXpsduMuJS6UyWNxACrWoVg', '푹 쉬면서 해요 ': 'AOZTaZq-DcP26tdjQHgBUbv2M05zEtBBuyV0-1oxZsSHo5A', '니노2': 'Sp1vvdIfSGFgEekKLL68_wT3Ibcneh-AFK8jcvk6KW2isQ', '할수있을만큼 ': 'k8S_bX9eNgA3mXWd7l9FShGteqTcFsXumP6ZskvO3HSt0hM', '못이겨서미안해요': 'eCSmJ1OY0GxI-ItTzMEFoVpREYOXmOSb5V0XmTe_4l7U9z0n6WuzAfp9dw', 'Drizzle1': 'BqGXs9Uo13fmztoAjtmn8y3DMm40jtaFnlvZSaUBcmfBRS5AWzbHffkCPA', '나라카일': 'EpNbkS7F0WdZpphWE8xuDnAf0ZUdoasEA9-SUt1n-ig7Zr4', '강혜원 fan': 't2_aMNRyKs2rP68PdW3Sp5WLF7I7v-ExPGQBnGRTpN07Wg', '건영 님': 'R1p7tCThO4yzdJr0i0QogDQv5wLhSvU3c_qpiY3zgJ3mnQ', 'YouTube 오잉맨': 'Kk4yO42nU_KPMIZwGBEoeH6YH5rQJqmehadHsvDMYj63b1M', '서러운게많은바텀': 'PCFYOleCWgJZV4vS0JmR2ia-LTxlqdJFoN6v0_PA_AlNWFU', 'Weare StaiL': 'PG2A-XEBPqfrnkSwtSrYtRTvkLIRE8XrrI_lRM0vP13FgQ', 'peeeeeeeeeeeeee': 'sHB-A_9yDz--zf76TfxZhuA1vx-67kX7H9Rxut4967hV2GE', 'Bili FengMuRan': 'F_SsPiU3X1I67fngSi2e1AJlBClquWBQUAPJSYIMg0mtXaw', '야스오 요네 제드 리신 비에고': 'lsBHnKfcHBhB42vYh6TZimqTYrkFPnoIdWyQD-fgSG1ihEGULhz-3Ghe_g', '길나난': 's93qeK7TOIyka2Osvs2pGvSbSk1teC42FSbRxxMWXnIW2N0', '음냐음냐': 'ph84GfkGZ6BQFOFTlZfw8LjQIztP_BFUy24pjQni8dq0jRs', '무지개빛거북알': 'qEK3vPfoMlHMBxz-UIl8QhwXOMSd_GyglwVW0WF_Lona1g', '바박바박바박': 'Z1Q587A8yuofpxl7tmCgTyKL1GfGt5aAY3l5whgsqwLu5R4', ' tigris altaica': 'p0jSqWkoQZhaHtQD8t2ogY1UcKauKxnxHYap-V41VinqgPY6lu2Ptonhwg', '정맹기': '5rHrEenVRBOwmellEuI8qOGt-lqejcUjX1Gqtu5N0d6YUl8', '작멍이': 'tB1kjmcB2mFrMXQWz5Db-vvf9JbJ4Ocj22bYraiAEgnQWFR4VBFNkMhS9g', 'yi  yikusitian': '1-hKGuhCnRd6VH0xPJLJT7f2vYU5-tCmM4jq_wU89wHTAqRa-5Ue6oH0BQ', 'tybaby': 'hl0wpwOclSfYXnMw6JAw32nhJmRJIBcIDQccaLKL_Ux1wumJqI47hQ4ubw', '수댕삼': 'XsmQBdad61ltLXQPFkli0JkYh42R6vwubqZojQNwc8Qd2rp1x-mgRUMBBg', '하코자키 세리카': 'hq-ymyh2tdwLH8vDJcAOgDR29tiyp68a0qtLW9mBIbVUiY9--aaH_sYXzw', '다 지나가겠지': 'x0lMPCA6vrVT-NhFfUdFCenobE2noJqi_O3utscfWaKZCio', '04pro': 'SULOZbLpW7x0mhOKLqvUpb9VX3hSJ2Uxr72mLIUv-D4R_C9pjCdjwQ_5hQ', 'By myself': 'wDv5S9-3ykCEWhHk_cGrFfkaHwfYnfztwTNdJtzmWtTDk7s', 'weythdjnczxvc': 'x1cX1PptKOcnNGSSugm0vO1UKHhIla3zFUwZhBqUCxGlawub9tehlnTWWw', '안니앙': 'jsKL-BHUB_-u5sYb9ITSwFlUB_ZAL5tYEMFd9uPYhT20Nug', '비알잉': 'FxAA6tzSL7XiQRvo8BrPvYY9vGSKEsLPDrpkOP4lTDxUNo8', '험악한분위기조성': 'EdliVhryAVdyDIwL5k18QII-nlyYpin_kSJcLTlX8g_OwOhF', '분뇨하는맹호': 'ThVbA31JD3rxlKnNc8Xp4rKNrrVRgctXla0ypQIYyd-KfQk', '용 펭': 'BSHXYK8ugfJ2_9uhLFNlZgOY_YPwKzgirkXeaDt-fcCJRo8', '만남이어떻게쉬워': 'IEgn3zPzTrOlSUCRiiyDEvdQvAj0OWiIdNxQwlxJ4HP9hJk', 'Benit': 'fmqSYnhN3zqrlIIO-dywDPe2TgqxyStAsbMu_luCyXAQjWM', 'LunaLina': 'eowJWpEeL2enQknIZ4Ts0ANUTljV3GPSGCRcLZWJJaWuUmQ', 'alcie': '1WvyfctDflZTlYwMOfHfM0IaI4py4F5hNLJmD9E2nGCupns', '시계왕': 'WQ080cEWbemDWXjtxynqkx80gg_6j39hDMG6SIjPUZP5SQ', '수련수련수련수련': '5jvlPuYfJBAtFGnhniFkwD-ouCvAMIEfNz1SQnGt6vSufQ', '으랴하하하하': 'Jo6QWsUzdJHAPHRQmxrEzLU2lrxeC0v9qyPhv8rLDyx8gqMe_SLHGWIb9w', '크리스피롤': 'R4m7H1j_yhwujs2kun6nbI99FfQSrHdNEmzIvFK2KqCGYQ', '군대가기시러': 'pdLT3zcc-6f6M4fIikUTMr_M1DW6eOJwxTm-Iqk5b-PwTB0', 'viper3': 'L8D8Yz7xMi8IdKewgXrNyF-0ZrZarF6hZrzoo22ZDvvn7Tw', 'clean2': 'EdOvqtMcPhVz4Jm-rqC7XmqfY8QhCQkU49M8UYsPmjvTniyIaEpB6vHVxw', '왕자가 해줘': 'x2bvr0Kz57XxMOWvRMld3gU54d_q0i_4truxnCRfQUApY0k', '밥상에는 숟가락 ': 'Qx3MuosJbzdM6OY4Sz5r3LQcAkvPnfy0tDuXg_vLShRKZwvQVvnEhHn_FQ', '다희깜찌기': 'e_MSH-u29S7FrcCGh8q744bGLsN6T6J3IDwH2YS0krZMvBc', 'One Last K1ss': 'BXfVPi_zr0NF0d28M0rc2uUo9dI20fpdpbYPPBnkhY5hmZw', '        손 희 찬': 'yXrtWeIUKqnvppMl8Tysm0k556uW_-GIJOqqsnHPQmOv4cc', '돈많으면세계정복': 'tO8ORKx7TaCjo6fHQ887VcLNyQFkPR7_i5xHCDjzIFAxAhflJYS_yrzsDw', 'JAX CHALLENGERS': 'feJFba8JzQUmr985Z6qLH2CEg3ccD-9FE5oRzD_WpfVWz0o', '호떡해호떡해': 'S5f_nivMWY9Lk3TVO3IyhqdVBmwRPAshWkpIP8Fu_aNq3uI', 'wo hen lan': 'i1R3yRhfPIsBeIiUQvV9M8XIRdE0obG_CxtNpRXVscSyqPc', '팀운탈모걸리겠다': 'J2vnYH4p0mPvltL2oFKwvfTCx9WJvYkyXq1T9End2TR_aWg', '백정은 툴툴': 'EDAqyVAjIdLUdORcQ8EJz4BWMVGjY8qXCwkJ40IFOMGGmqOaXwAxN5BZKQ', 'nan zhi bei mu': '98PuTVZ61DJU-6I-Z5Dsng_wpvbXwOhElj5Y2p6RW4a5b_4', '페이커 팬티먹방': '4JsMUgH0RGQie0dGWlwHzcXGM8kT-LzZbUVwjLX0sk2WIxs', '여혐 우빈': '1rIVZriV3Ud7btawsXJ3tuJNl_GjFxr-RFfG5Fm7CSSFNR4', 'comeoncomez': 'N_EvBa6UKX6YWXereUGDW6QuGLg4gz1I20iD3YWBCY2BZuE', 'ggttlclto053': 'M18Jli4sAimqcEsrHkodbJVF3YW77DUEZGKi27BbhJaxCAA', 'time in a hurry': 'i2W19SmLNL2qnVEeZDTa49lkqank5rWo-lb13R80PvLyu8lr4-oL_1GhZA', '루시안 밴함': 'j_0kmCQ23tF00dGB1RE0kOmWWNn56m6So6t8fkcp9562hXQ', '노틸쟁이': '6SW4Pan9Rf18X7z-QZtvyFaS0z4Fd52tN6CYZS4t7CsGg9s', '호랑이팀': '7FvT5B_Xwq7GIK9O2ao0xFdaY55gPupI8blgMTSAQOEstCA', '러셀베스트브룩': 'D4Vz9crpFyFyg8URwScZHxoNXwqW1oM2P-tnO2sSiN1Ryus', 'crystal123': '7Hj_9hT03n74fOmspWawCUpNWgKGa9unHNH4MputAYK8oXQ_xp634RElfg', '어떠케먹어줄까': '_obIpqUMFt7ca5oFs5xItlS0GfRNBwsCSnDV8ZRJNGSt0NM', 'cqwesadzxcv': 'Op7szOQT-5ZPIwhmQspHWhjRY40N-DVBtLjBZDpmTq5Dg-m_vA-AT5_Pdg', '가락 죽이기': 'EIyURgiGFZSbCK_hJqNSIosyoffFLWWD3AS0dePeEbRjrw', 'I want youtostay': 'H65KrrFAgs_N32Vt1KCEaGPfqRm4jsdV511iQCrf65rBYlc', '원딜 그루밍': '8BPRHqBYt_4Wmim7uNTuYoaiYUVt4HzFvu1kVlp-Ka0J1g', '푸 잰': '6l-3ll2KUCGPQBwxS5eFAjCvbSq_YbXEG6Qgl3-geZpRrgE', '아인슈페너샷추가': 'Gg7YUkE_ntUDBNZxH5_YumkushK2kvHPlfDNlDe-aEip29Y', 'qweofinasdi': 'noncyE4LVakLfIiZnVYMWRbF4IVu06qrVCZ49Ugqxnf-e5woywPsnl96eg', 'sgpzsp': 'ThxEVXjuGHYZOa6yKCECs8IASr0OR_D1d1L506i1Wu4x14Ya_axI96Kb0Q', '죠 니': 'pHQc66JmSCehtTdMoPtzkHjCba_O-X3Vvw1UgbTcUSidCX8', 'DoDohyunhyun': 'zaioZPnU9QOiZEToLqjdRQdmHADOUpr24ABY28NSFaiiREk', '뭐야왜저랩': 'FQNnOeQkHqXtLIa5d-9M5rKDMePUzwLSxlfkVmoyPrKxBco', 'Twitch ggbb528': 'lyIU0vVlU34AXhub-a64wn6ExFqAe9LHZJ_195E2XkU1VjkbYSOJIop37g', '07 akali': 'BQ2kfokhBbvoCZZKn7cvS0aFYjvVlfTCFyBqEV8uurgvBkH3mGjBerrliQ', '그 설레임': 'pddOQWgdbiWwfvTDxa-mFtGaKfnnExx5fc1RC_Mf2SU0lGM', '프렌치오': 'FyVGasnikXfYu3tuSjKHWfKwB2lTAHlPr__uk0MfCBDtqQ', '이 별도 웃으면서': 'IBCMYoOgSmp0HqtX2lejWhBCrftMWn4lY4Vn7-bw_G22G_Q', 'Unji Magic': '7cYFKPlAtn5ZbeFm3mq0UeKGRTvtivSjiFV2qHTVAVjirTps5X6WyTts4A', '조용하겠습니다': 'S74SSn5HzKciy7Ew_WIOUS2DuKzprENKyGYY_9BwCMHBPFNbZCvFbs8KiQ', 'cchhssaayy': 'C4gYRS7za4emuS5bbgpBKO4xx8Uns1qIb-UXCZROoV6X3kc', 'nob': 'orkBU00WYTDR-cGYVb5xLi_uIhLXBbC9Y10fh0-qM5P2IA', 'Astrocetus': 'UBEWpajLbcK7OF7x8JgmW3z7r02CtqYhE9szAUfgPB1rXOouNsyLB4PVVA', 'cong qian man': 'F6h2m80sjdNu98UN8vx_dOhFdNBqE7SUo_0HT45cpmLE8xXOslPOvgy3Ng', '아자아자화이팅9': 'Xc9ZGiiyooOFD8ccEokBorVA40Isvg--YNcj_Ok4NC-O6mutJjKC9WZavg', '도파보고배움': 'ALA9n3IfPJvtor-kq-LFvodAWHyPpKuojliEla0WkGgnZso', '봄을 고하다1': 'UaKUQCzpeIMjXNhEAbT6E366u7J9JV2ZBGzvDWsvJuM916E', '즐겜계정09': 'Zoo1UrH1hiC8u-1-XzN1hAwT34r3XYU73BwcytSHMKQwmEwSXus7LbMwQA', '갱생퓨리1': 'TYKcmmWosqMqH-oDa5z4aUQk-Kvh_ON1Gl9dtGUt4J2Zcw', '뷰 티': 'flzXEzpreAF0-9YJH6KHOnAaxuPF5QtGOSNqk0G69NVPb4E', 'JUGGOD 11': '8gc3uMO4tOc8EioWt7QqXx3uKlzJGv0URARRrHAifuDdN5IfIAMHFdEH_A', 'LuciferL': 'bnEJzxPNZG7x91HFlWQ2_H8py-IqvSJoQ8QUqN37sI5xue0', '서 쿤': 'oaF-VBpct9yFg5vB-ihvwAq_U2x1AKqRF100ocxD6jIKmBk', '바지안엔 느낌표': 'YYLUCLjVAr3YW8zsA9XiLU754JAILlXXrVqhtztMa0LiWxK06lOxgwFFHA', 'New스폰지밥': 'RFYplA2gd-jyS9qn1zDk36X7OpqX-wXrJccAbtoMcdSmON8', '소중한 것의 순서': '-ndha2PCEAeWtHxI8VA6fexcbDIK0_fGjPsdnzmyrVg_GQ', '칼 퇴 근': 'tSuVaWZvw42dIpHnvkDe_ycLhxjNrEh7kHdhsvAr-caz38w', '한채리': 'cmXyVpr3KmtcCMcCfqdC9G3ridyuG2yfcR4aXDgpdqVABtKhqrRI4A_T0g', '다리쓰레기챔피언': 'UNLlHmPhWbMxDfnRc0kw-_HgIAjrEZgBxLslRKRdD2mbee0', 'oesni': 'GNSSTGocHUFgCBIa4RAON87VyOFv3JtZlK3CkQMyllAWkYc', 'Qcell': '7lk6EOowljnBYqOwGJ8yNAIkFnVvyjegHAZXDE4gZ3GvYw', 'B1gFour': 'GKGFB7U58_YcvFfgvpslS5mi-jUSqf9PvzeSt-kHuwtbEQ', 'Andil': 'pnhrrjjZk3QjFY2Qzm6MQ8vUI7OZszMvsckGhR-KJga2hQg7XFCFzLsUEw', '지환코기': 'wp9970JhaQbXD9O2--5tMMZVan_ULQImPgAnQu6ktTEGqA', 'Huya zhongdan': 'WwBt9T4kS7xUpHGVuiX3rbet3VfCohwqq6EOcvMl4zYRmBOA', 'Vuiton': 'ezYgWpyqzfEViW2LmHBX_FOSNQp4uAaPWgWFzFpSqbZzsE8', '잡았다': 'GntWp9k6r6gDIF1jaJDKzKDlFBbqmHlNgZnLlTBSPVN9aAY', '백죵원': 'hAfTSyrAPc8zwHJSqXW3ShcWbjxjdUUGFQ5R-UM2VSxaRj0', '1킬만주세요 ': 'juC4LDCH4fbt0is5CsSmc0UP06Q3O5DFjFpbo85ROWLzr-4', 'Jinjii Kikko': 'syrOYYfdHnaE9V1RcML9BDMeO0FH8ptA81ExfhgNxvGATPdz', '제발핑찍으면합류': '-4TERWPgfcCJwiXM5_agANPwDk47ywKrCeRuzI0fJv9U8A', 'dravvv': 'eSJI4XGRIXyS7c7B_nUasub9zi734YVXxC3lUU1gEZZIkDc', '의문의싱드장인': 'v3LtprA7y9RkuuLel4F3k6Iu18fcvpz0qxcjtuBp0AmPAO-_u7e7FAJi6w', 'G0LDGUNS': 'J0BuONgt9jP0JLGsN1vhOj_zmYs9NX1gYXMd-KoFlfHjXaQt', '범인내려온다': 'MjypwHAVINVKDYOK5-eRBwdB6N2OcdRCs8hLP0HTDiO2MQ', '끄으러쉬': 'YKx7Ky-Mn07Y0BW8dpMceeBZO_nnNY3lWkmm698nm8aXt1o', '애새늙이': 'E0N7itFq_RFhVqueIuHE2mJJdmhikUcUZY8PCyCNBQaPau0', '한쿡은행': 'OCktZ5C3WDrb8LaFSnUZpfObzJhIOMl9VW-XbcNWiX_EbQ', '가르시아 효과': 'y1fvCTD17NvqWs74Uk744SqQmtJWM1RucQDyRcmm1LuPiZA', '커피마싯어': 'zI9i-BNo2lAamdNwsZzeHfZvSghvdxxC-STb94FgwKY8Pg', 'AP Magition': 'fHYicFg26m-A-ODuVeqacSMGKjKRuMxdaiAq3UUlKQoup-g', '구도파악하기': 'V4EhZ6mbm3hzFY9tDt6YT5AgLaSaOPsOOkMMbHrVRjdyCHPHJqs3hoHFeg', 'bai tou xie lau': 'YNwUANADPFR1rUsSr67BSsXm0ViiXeF2KwgL7Y-Q1aZ9rw', '나를 사랑한다면': 'BhRFw1hPJ3bMo_48VU3l4aA611GmZKpKYWAvk1zNWLW2-bz1', '초보원딜러': 'nUXGGY-i0vt7zDMfKwqbTalTQQYGbY56BQhl5z245O7igerldr428qRVYQ', '앙만땡': '-6cQ1skQAT9v6s2dKXBxh4BfAZVmpLMlflDgtQVlueOKntSFOYtqfOpztw', '젠지 제스트': 'dMzRyUHAWJNr3SiEvYoOP3zwymo3cMXsoL1pIPstBXebvPDE', 'XiA young': 'f7tQSSvXHuIxMxqfhN67qVv0blM5GxgpBTXOzPQJZPWfe2gqRH7VA3cUEg', '불멸의무빙': 'p78IU8ar5b-XfxSrWJABH4wcjQrdmuTihs4-_v_Sb2mS6cM', 'XhowJ16': '4Ayu7m7WYQmoGC-EEfy5eDjrfpwpXo2KnkCUMNDM0Xm2JciTFFHyxN_TSA', '전 궁': '2r0cjNacZQkDNofOnoGfstGjfWhug4rxXDOA4Luf4Oye1Q', '사회적고립두기': 'fKfxEOlbS2h_fcD3_-44hfGZU-H7lWmWG7faO1RoyVKkIgs', '흐에에에엥': '32B1laPwbuOwmq3tF-GEcVXHGyYJZQE0a6Q0inhpd1QE2GM', '새드앤딩': '_2sqCSsGMeNTdm8OMAAg1PvdAhrH97GkWJaSjSkecQ2lMrPrZRi0VYmIPw', 'hunnlt': 'AVrEgcyeKBUbdr4Xr4w8I31cNfcx9eY828u3BZaTLDS65ZA', 'flamingod': 'jUWe0pP11tjEx7Xstl2FGGM0aeXAWwo2_qjD8GtlAye-2WM', 'diezzang': 'BLS0H7HoAyhA-j_Txq02yHZ1sly6-96CiWaqSDpCJLIlYw', 'mayuanshiren': 'jEoZDfr6e1315IBV7fppaqUJy21Ki3L0cvYe6ZQufr5j9LWiwV_PCHxqnA', '기도하는 현우': 'BsQBb7pWH8CV4U-ouDjBdVdpW8tJgjUcu89nWUfn4Bi-UEc', '나는 코르키': 'Nmgt500hsMqUP_ebZLQT9_7mXp9H5dpnKQtM0HGVWdHDpgQPBAvmHbnD7Q', '우람늘': 'ewE3lNKH_kliwDCdMmLvgZcsM4BEKoG9t2iJlPUAOCzz-w', 'TOPKING': 'zwk1KKthxHCHazNgVws2gW_ZVGzyypnwBX1PA6HUjxJBemw', 'wwwy': 'xYgpUFMp-57Y9M-egGCNEpiYbzxSpkSB5IbEi2mRDa2U0RiGdHCm3wg0Jg', 'BRO Morgan': 'SoYKSMmkzVQgzops-I4tyA0M-E4xTVhO7NKpcc1YBSbkkfM', 'Lacia5': 'mGDMBRsAz6r1tP9hLDS4hv6j9vW7ys7WMyW3NEl9exOpVGMGE4dgNCgRNQ', '광구광구용광구': 'qxuUezECUK_6dCwonNc229cVmTbOovsgZCsln1qIqQnwN3UW', 'HLE Road': 'JQ0glcLrlSN5aw0IqLGXmJiuTOXKlAOXyv4t7fgk3ZqJfA', '조광희1': 'go9KWOBu61iRK0UlwDH2HVT0MTcdNA6NWvBOutPWmVLicrM', 'Spongebbob': 'ZaxNGE9I06FLNWtBt57DBXumrTN63mn6NKsi4sTr3H9yud6vwa60NzwbdQ', '쓸데없는채팅혐오': 'dqNYpyjhtfwSSIZIDDo3DRYeu61sm4_EYcPu3Tg7BCtuJPY', '김 교': 'iD7g4K2ob7hV53hHPwzT7z6eBYEpQN6hLuyVcJhZFCg-SvY', 'Sunris2': 'CWto185P_Tc1AnhSsz9YGSQ9Gk5bBwMDM_RXd8hqTXLODtvOh2HC4YDWRw', 'EuNJik': '3KHUYH72CAjZTkz6ntd1vLSuLCtOgFF77KjxHgTSs0Kj6Ok', 'bai lan wang zi': 'FwM-HB_lEc9lEhjYNnwC3kY6tP9KQRic7d1eHpQ5tFj2KedK1rQ0P0Xftw', '야 이걸 내가': 'sSpGb92mkUEdi4KBwgfjlKzgrNjk4NjmtyPWXNtGmw36sg', '응보석2개만낄거': 'YBETB_6YfOGmRVrOtkkMeu_Du7P6KgC6k72jADOLfVq0oQ', 'CosJ': 'rP-LmYEORNFREIRTkycQb-aLBNU8xzLvxpPWeCiy8abUUBI', '쉔 하': 'w_yeliVSf0QcUwIg1kHdHch7QuMFeRHKJxxXgKdaTqc55-INzhA-3AsaVg', 'tian han yi': 'F8DeIUIfp-ynTbniIM7nVqce_2xhdKCA1tt0VCnf1WKCWiqq0r0WXxFI_w', '불이과 ': 'nK6ksfRQR_JD_PF6RmxjrHGyBnOB9bQ9VVE3kZ2thabFNI4hnatAHhbp7w', '세계최고딸기케잌': 'qsiZpAoOG_vgzFtNMCM-WwW1FwGZepH4sfy7TZHDKyMLOmU', 'Gen G VVinner': '_VOzfv18bAhPQ7A6EsFrSCnEqpt609UI8WJpk2fx0u0bMllG', 'gnaixnay': 'bNFIJthZNRW2viSurAF9q2llbVLd0y4iQles-R-sf9KXK-w', 'nyzmyn': 'im-VVHDUGvFAcDUYqW8ICYPYY0Zyr5YziU5DtHvGxMh4aF2jBj1AauNYhA', '젖꼭질흔드록바': 'OXpNxsnmxwZu9uCUxmjRG9MU6T8yj6ZP8r3xubjXtbWTs9s', 'Pyke 신': '8xhVFpIXP3VVPQR80vHVPH0wUT5uGNX_21GxZhDZ7TZR4jfBRWPcmxcLhQ', '재밌드아': 'n_cGU2rCWlmHRUWOonSPrX9Vtps1O6H5xzEmQ1h_YiYX_g', '이름 없는 소졸': 'Put1TUIt4zviwehPHC9dh4Wezq7yBkJdLOiQzaglwe1Hd6t7zL7825JPWQ', '시브밍': 'DhWl7pb9mncMen5ehY5KvoMy7l1x-Z16w57e7OT9cKpOcXk', '딸봉쟝': 'wdAQtbw2LKjOwZQHgRFt0LFPWz2BVzaxhIQsAw3aMse-Vls', '개기월식': '9yv0qqxHyqgXwZCkYi2NzOBp8etWn5Yejb_o3D6pTrzUDA', '초보 탈출기': 'csqzsAhM44FVMzoPrw83HoFnxQzYq2Y7j0JNCsb3j9orWDw', '목숨이두개인사람': 'PCwSqCtJM5r3PTnKaxPmnucSosmN36CnZSYK_wph-ejA2h0', '던질게 혜지야': 'j9ybVQqZ_lRuGNIV-UvEoMt91RrZg8omG0G97k-7DE0TpZc', 'Armis': '_eE4mmUIYd8yyT6N0oNRsvJBJQflgOtTdec0PXvyAE5Kovk', 'Take Me With You': '2MI0qQyq3NwR_wMwXi_SfuMcQNk8VsHp9IT0uqiEDgN4c4g', '누나땜에미치겠다': 'aZZUPcBOw_jP08xZmfiCa8ERlgbXplclf8gkhr4Xwgn1e9c', 'Statistics': 'NXVqMJWx7u99Icd4voeygXnopRmriPmigAdc9XTJYFX6nlU', 'KT R JGL': 'Fel9Pxy_sgcn-1LbKjF9_8-LtVCMxH1b3COn2oEt7UF_N_owYbFPNaOjAA', 'inSec': 'XyUNJ7B6Sr25C2Arxo_WH_17VW3A3mEtYPb34RHf4VwAuA', 'T1 A Shine': 'AvmyWLSHHp6yiCOEiqu-KPyRhUXZi8RdVOX2jdY_wJYk7_w', '서유은': '6zzqEqoJQu_e4LWqEMvy6gMQ7Ntvb-1BZPcVbG8qjbsjTrKn', '나는주익': 'ZinABUAul_-wJFA66vBNkUYJZ_YccoHzvRVg05fqYLJQl9A', '북쪽 끝까지': 'NbqziNFAi7gli8rp_d84Szq0GeYbIeE-8Jaaf1POIdBFtHM', '리하우': 'hNx-fkI3yhlzHiydUvfYbXGJa0sIzkyqnREow4sNP7w1Oec', 'feviknight': 'yP9UUsHJHYsB1RGkqHJYEd5Bnzv7R6c81EeB8rgXuyWuP44', '김현당긴': 'Av9O_Znv4hcFY7478PB9zRaHLPvZGexicMUXJbxdgW0YtNs', '기래긔래': 'akft-XRF7Gg5WRH_aBZ_S5LBWILyF7uRsr3Rn2swluBwbxU', '기세가 대단하다': 'cFEX5F8QOZOhsxTrfAtA0CpfFUgq-adK13dSWc3e-Iy-rNyjGzEwK2os1Q', '랄뚜기': 'JRUlSaC-Ys3IzZlSiZDbgYI6uQVotK6qh2BwcetpUj-pC4Q', 'Far from enough': '4mSWHKIyjB3-WeZ_P0aLYfykBBniXuuyyImUAjs0Qt8qBgLAhTHq8PwJ6A', '므찌다 울 언니': 'cMnpzU2JNbjoO5fxZtI0vd5bDAldUIDAAWuqpLO_Rrmb_yE', 'zxcasdqwert': 'eWGtpWDnx62zZCBtYFGoW21qtQDvyTyaMibiluOb4ihqgBd9AFWbeHXnRQ', 'Luolita': 'tQxl6_v_tVWbpvE0IzFXo-52_9TRwswoRg-ZQ9SjcJhKlK-SzDWjG5VpBw', '나는야징기스칸': 'b0vA9QdrF9RY4NU7WmVsOajlAzR5l82zpSzSWGk-MKo6lA', '문열고도망가기': 'vQEOgeuQFP_bwLC6onjh_BvSkK3oUMi18AIGH9yGLzUJGzQ', 'young talent': 'FvERJlwM2WPxE441dOJsUp0l_9q-cndvS1cWH4L0HhAsJSBbDnkqsOlytw', '사미라의 신': 'jYoAQMMQw7cgQvVtCiMVi3VWxbibrtQT2fZHATsZBAoH_w', 'danny1018': 'eBTi8BFSPDeBGQ_0CKhQRK8hJYuMJBnHsQBUzqw_cj_O5Wp4', 'ooeooeoo': '5HOG7XWNpJ5qMtujO9iDUT6_UPsRrDrpSEEgdM9eSXEJfQ', 'TwitchTV Migung': 'rebBTPOkbp7b0O03zANp9Hv5okH5khWgpfsT0oRa8B5DlJxu2aXfG0Ng1A', '그라가스할래요': 'sfbbENPKxuA0I1hErKJVSpVRCxjHNJGmI0bq-4CsJWN9gDU', '어느것을고를까': 'orH_Eemr_OiefrBTTvjn8bO_YbElddWGPsdkygjwKE95fAs', '선기박': 'L4FLY0QdBj1YsZEW2Kf4xLI-JlePjcYNK8_xmdCZMjToLpU', 'Tiancaishaonian': 'EnwOY2fi0AuYgZAF2vhEW0DL5aoHjpHtYgcznoMzst1rskQ', '어느 서늘한 봄날': 'Eh_iZzpNxG0P7cwk_0pNaczpPXq61g_Twnt5TiB9OVHubg', '유찌말': 'XPGOU4wmjxiX1tScWxu8L60KMeZVJI1xlzxMTs0phySKYII', '레무링': 'DSjPnRCa5v1EkgUUctpDd_s-r2jeydzeEzOIswlSSOm6qvA', '암살자X': 'VQ41f8g0AVJttLz5ABZQ6XQouX80ub8mAn-WiJ1JF0-kAQ', '빙복치': 'BkmOsVR_g5OIPCHZwVm_4tL9xQrUuFzADX5CZpF3PYaFLCE', 'qwewqeqweweqw': 'gnC6170yPnRyiYbSNe_wRhW1WT-Vw31oamAZSJHAU_3if0_iCxacdAR_Tw', '혼자 돌림': 'L_mQsAil_VGMBPA-kjznQuQhg-hIcj62sTyQzaPlapOAsqXnOjfBvuwb4A', '블리츠크랭크': 'ZmaIgr5fuEeb-_c2KpybRumXZbG6Pq2hiVu7QhnRGtoywA', '라면거지': 'Mpfz1DJQqonPDYEbTP7mydD-OQMBGcQRcjMSsbTQZhuaXhY', '순천시계': 'kjSLcX57OTIGix3aYiUEqNkC020hvaeWrxE9ve2us6eHc70', 'KurumiMajiTenshi': 'HfKf8R-vnrl6SBKbCCbIFVnZFC7dxUP1UniHfCUmRg9Zya8', '1렙 위성딜 17': '-UU83oiWnbecxwaJCXTo_PI5WNcVR1bfYf4s6SuLUxxoZ1g', '이건맛도리야': 'i2avEuoQyzbH3PGfFsa1mIp0-t-SFzKXJfjUu3nGNEwLu8U', '바본준': '7n27UE9WbJSOEoDeHEoEWdgSPZIflw52wFkrKI1pnxmDYeQ', 'OHwiN': 'I6obInI3Xp0f7oKEvMNby8rGTlaml5mcXdmMK2UFPFKE7z8', '무결점 탑솔러': 'Ef9LzPTAYOQNvSBW-dAYceJhSX53us06LOF-YmY8dUOUTQ', '건이냥': 'LDBWkHdaciv60grvfsGkizb98c8I8Ab3g3swwaFaySbiJtU', 'Mage Supporter ': 'w1K9JBRIy39BiKXnWahYjG-j2u4UG4iKAZagc9_UnQGbqxM', 'jyjybwcxcszw': 'bZBHtXoPqvBvfVQnqi7leVUg_svA0_00MtxZ_dRrbpS1mbhdEQUWVvJqNA', '서울김치qaq': 'f1ClZ4DeCrjClFf-6kLIQHDrOqVVasxTrcChdNGysifoQcfI84SkNcIWIw', 'Kabishou': 'FD6YOYmabNyUdYVImhyRZfCyxL6GMbhBF-GZMAtSgNn2I6RdHaVkNqdbPA', '또 제가 못했네요': 'kzVjxgmV9YS9yNDkUs4kkqZ478mlmiCWfMcKEGtyuEKbYw', 'EIderwood': 'qZXhk2GMwRpK4XipMCePRGx7qgH8jV2hsiTJTCRNVnMgoDA', '버티기 왕': 'oKxtqPzgy50arw46ZpjlvQeuRlYT2ens041l2kMnEN30vjSmeVj_l69UOQ', '극복하는자세': 'kiiBQ45JSMIjBizrfxlG6R8G5m6NxfaJbqD4Kmsps-XmCQ', '광팔햄': 'KX1feLS4ajcts8NXp22sB3n4YJw273bXKoeMaz2zPjyVSA', 'PaKa fan1': '4dVWsjh4EiGjMnrfnEY8hytmvYNclMIcRrk0DJypaArD--0', '착한빙닭이될게요': 'lNsPK6VBlZeKAUWw4Wki9pvo8wwOF3vJ2Wdurmm5ydOrfq-Y', 'dreaming future': 'niR2a4p3RpGvo5s5mLQ8gJ7gzi5wa0Os73Mvs2pfx3gcdcXra0DckLJdcQ', '이거똥챔아뉜데': 'zvRRGZ1zn1-KMSe25AcDyxeAiS_ilEZyS7m_GIPfnFxbb_w', '20040728': 'JgyPtNri4OB0yk0ZUyGcEVjKFS_zN4YJOhPD8HnXiW0A7RI', '나 이쁘잔아': '2V3joK42Blb70bmWQDwQgtIgXpp3-nw-l22jAP7AOnAUdis', '진 아펠 징크스': 'HRkEAtq6HdOYT9G5BJaI65537r8gaCtQedtm3_Lmaofg0g', 'L1ps': 'lkUTNWbeDwtaNHT3_R87pp6SCQ9ZH4TuiVRvGhqchcyDnE8', 'podongpodong': 'VdXLrAx_vmMSnrohJYE0wSs51Kx9xJKnRUPRa26yAgxxYG8', 'MID우기': 'rN9O3nUE3BBpahigAyQkjOdfSF12XgT8tEB5sWU2lWrGBB6s', '나선생': '1jzGCVu1a6iJnKfWUgEU8wFhgbSasiqEDZ4vK_5PA3IFzuo', 'Zapfino': '72JH0cEi5DjiAkNs5JJnzm-pzoyy84eJszKje3OU943QfT_pr4f6Y9P3Kw', '앙골드': 'zC9GdrxlSBcm6I83tiKII1u2LfKZw4fNIc4vVMNpid5y-3H90FlbFNioPA', '퐁퐁남진정환': '-Wmv2XaBjZE1Qt_AkyohgyF8ffK1dW0q5CZXVvm9I1u0Lg', 'xyhz': 'rDuwiwd_wC60e3hh_ggRAfIJTZasm_k4uGzxTDyJT1X-pJB3AJQxkS0PXQ', '두근두근쇼타임': 'vEOCO0wmywWE89zoH_p963WlwpvMt4hn1HjMkkOe9yTefg', '한순간의플레이': 'XYx2rANUdGmFCu9woa-gncoXYZsncvEL0_vQS77qMHhSBwrSvL_98p7gOQ', 'Stars9': '0e8aci3_5PEsItTMzcejUxZtR-oN25QZSlo1Nsq2aperf4M', 'Sg4n': 'x4ZKB3z3S2tLps87O7oCZpmCT98x9Iz2-d_ml7UncZGJDV4', '갱생했다람쥐': 'stvX2kjDite1NIIWCxRXranj8peZsgWcjK4b3xoAMQEa5jA', 'TaIking': '8OT6A1tDLZDa_owkBlmFhRLTxg9L8jnbjSx9ZLbQwUcpMns', '머쓱환에요': 'kdHhY2ar6u5JDFzWOR6mjUMcflwgW4lakt8IJ4Ic4FQdCDc', '이성죠': 'yQ8kljiIlzKCS_zGGd0CoOZ2KTKmuEgSVsLw777a8gaC_XY', '우디이': 'c9HLfHifb_d2zaVaQje299MeTn0c2mkDElrdkMzDQnGSmhw', '아이번맨': 'dzvGdm5v_CqtLlq9sm6JDC5YtM-5I1dg2gw4T5t7LvvbGw', '나를 데려가줘요': '4jUbGZSzPLb-T7TTKnZ215AtFyshj1CthzsGzhant-tzYb0Ovzk3LC70mA', 'Youtube heeseong': 'AvBJxEu_9mKu3I3UwHO_xc1V0Ry_1jEJ5qsinB35wzB4ecY', 'OSG': 'ZLZdNoXqCR8zfy2ZbkTQp7vOfpgnNz6QYwWnRWUPRLJchKk', '화련이': 'Ttlz_0VVguTj1MBMybwpuFSjFFTsfVUpyoEV8iMCHeaFIw', '딸기 말랑이': 'SqGHnV7PKd3L1AG4BVbCqYkkI-VRDgja9sjgXHBBfDCxxMFUjI0kNAM24g', '습격의파프니르': 'BaBsjJjPc0Wq07vESs6AmLjTthrJSX_dXDBiafrEsDoubQ', '올라인으로챌린져': 'mMmwHPsKazKtbtjE3_gCe5i0fXVUn9ERiQAkQEKL-GhL5Q', '670670': 'b6maD_x2QaoO4bBaLMucBJfukQjCJLfhUkjx3CHpGKJzV0Kfg5FFCO29lg', '망나니22': 't0c6M3TULiu4JVehPJ_gSgJJi6w6l4RR4UJLkEDVQBkCj7Ij9tPZemlb8g', '파밍만하는사람a': 'N1neUEpGLojdQ4JIPLXvKejqxVkl_PT3MuEhpxi4c6NGvc3YId0LQCsdYQ', '카카오tv핸드맨': 'UugRnvQqo1zmd_UtliF0KQKSU-PtXw6K4N4FmbX-NullChM', 'iii85': 'oakTwud2E5ItgcoriVgGXfO-gujME9wSWFPNNYGpY9Z3R422fC-JkF3CmA', '7468813245': 'ditoeYnI993XwdOBVwM4Cqz99xewfYiG4AYSUkiBBFZkBpq5eNoxYeP52w', 'Hyeon02': 'lnCeN68JDIze7UFwrQ1frjJm8MPgkFOrTnKugAlgbGBX2Sk', '명품트린다미어': 'MhPC7e3gvhn1nnFMF5fR9jcU2698wyWWxpx9xfQGi2MP_no', '우또기': 'XB3GJj8O7w3WdrNNAsj6QyJk4ml7fNAl4NAiwOMzMproEqU', '나 바보1': 'ph03WlMNCLVvm7gGIasbmLRdyB4OYrEtG2zp9agMo-0eaZgrzo_6kcHxIw', '철통밥': 'WF--3czUzug1AGIHhgdd8eHHjeO8J3V1mV2eEu0zxnAtoUk', '덤벼라 세력아': 'eJ1MWc921UmfVfj66r_4S5EXvw-1wUrhoVhVcFmiyP5Ux6g', 'ZCOVEL': 'OUXHWJxQt78WJqSBQuJ68v9e945nyueCYdUfFS6YCwIhdja7', 'white Picture': 'bg9m6AdZ_ap0QAIhukNBCkZMbFgr4q7dmuTp56zZTDPJL9E', '잠자는법잊은사람': 'EeEXGx007q-xbrrGOyr5A_eYJdwvGhzLZ9ystgMFplwl4d_McMN7PrN8Yw', '그브탈리야카서스': 'RtFrL1ncl2OxgGetmQMjNZrm3c3MdZ7Zi5Gz1CLHZR_7Ksy8vKk5QrQ0QA', '티 신': 'S4jRA3RmzXPvOm6RxZs_gIXK2f90Ykys9gOxjWHZshRUnHE', 'yongyuanaisemy': 'tRWJIC8rT3_oL2adqneAVm79UJ47ovzL5Q8ZRHtSMcA4q75_ewqmyDMKLQ', 'kokfpol': 'iPJVKgx7qXD3ZJ_r79Tlu8rm5fJvYuj8xft5vxy90o4M6j4ucDqSVyCg7w', '생각현실을만든다': 'GHojBxFOdfkEgLkL8QvEBcmhMdtnB_yB8R0I58ptNcHxCQ', 'Mid만 미드라고': 'lD8mAlEG32YQ_qlGWE1mZUxRh8_ho2LBir7yctJqeAvEhg', '간디도롤하면폭력': 'TDy3uim6T6lDj4rqrtWzoL6WfM8YVnqGZhW0K69a7dR1Ucg', 'Never Lucky': 'crETO3kpwm-t1T2NCZ_og608PKdMbmpP7lTafuLM2HZSVg', 'lantem': '36SmHMz-wi3j6MR3lGq99IVqC6sBwzlXnk2FN3A-uey3YFU', 'Epilogue 4 u': 'drOgJsJ4WK7-df7zmawhyfE6LFkZ5E5xwftuG9zDz9R26lU', 'S급훈남': 'kZG1QvdccPm78UAhBFQHjdGZoeZqp7PlLuxArP_2WIck8MYq0MYhE3dtew', '원 딜이 동훈': 'e4xEGmrKAq5rz09umXjo9z0eFoThN5ZbxZfQL58vqshyuQ', '목포우백호': 'UhzHQUHICLPHe4NSvaQWXp-XSlX05WOIiZYfP06ghmQ24Qs', '오징어께임': '0oYh2yAoTt2G3hTvs39c4W2MGOBlg6UFJ2rF8Fef-N8grA', 'NOCOMECANTWIN': 'ALJIs5oGneVzBM4wa-05w-eddXoluM-gkiW-nG4V3IDs-Fg', '1등1등': '3a9p1UCwse4So1Lz13YkHg3D8OMpEjz_fq7OTs4RdQWX6Cw', '민초세계정복': 'cMkdzsA2NbdaGj-x4bV4naH3Eil2m45B3I8ri8yk-pkDIbU', 'tangguonailao': 'YrQ_igEqBqNahKTlykHVI96BwrWvzMbHwENAwMructQY-TA', '백정만점에백점': '3tboQL-OYTaa7EwCC3-F0xuUHuyLJLGrsJEC-aHUFPAV-k-fO_KbqsGYzw', '발작하면실력하락': 'H_sNMny2FI9FYzbhDYmL6HWn-2Svjh7IFXQIJxl39R4pjQ', '행복하게1': 'yRZLU79RFLFthQZ8wTERItyjEDkZek_kc0QBCrbjqhpXX-SsUh_XhQGHKQ', '돌아가는길을몰라': 'ciBsNWVa0cBcBm1J99pR9JyzPGIq1ZoSszL4_sPNOexBTk8', '안즈2': 'qJc2lmcYRBR1oMKppntAKgEAq_6b2wtcBQKDp8sz1wut0Hog', '원통 데프트': 'L7dZxdz7onAHLkLZK_Vgi24jLIdsISqBTama2zEkOUtemZA', '우리팀또화났쥬': '1YFXQt382sJkArJ8dzu9sqsMEJsMpUOs7SJu3aQn0wpB8QI', 'wozhishimeibanfa': 'YBxmxoV1AzujfmCH1u1oXi-X7PUixAEw-Au3x1AbgSWUtM5iLoyi0vh-gQ', '날아무도모르던때': 'wkwF0udJ6pV8T7qvaM-4zSszM3Rke2NPsYyNEXvmMDJflX8', '예뻐하기 ': 'QYIstqYdF258wzisg_WDV7K41xeRmYjLY6YQtt0cU-4eSw', '렝가 명인': 'WyhxBL9oU9XoaCGFbYQ-rI0cx_Vp49UotryH09N6UlGJ0Annoubn2RwLKw', '동 슐': 'amrlVY5kwiHLgbUZf1ltqqbCR2o6VD-vPgk0ga8yZzmh6Ws', 'Hey K0NG': 'oCTYJ3Ap5haTnHEqnp-aWSaz09hQajyPObY4p953FJyeREo', 'Hardcor9': 'eNDyyXCR4QQ74dljqHGShLfGmFnr5v-HBaIZvZvex0Pbh1kOfHF9mZ9whg', '혜지King ': '7pJfr04SEF4uqe0d5qfa-sLYoYglsi56uQ6bgrm7ri0n8Q4', 'ldhsky': 'RH4e_68pm-5OoHUtfPyqtwora6RPx56Z8T8KALfKaBPCdHY', '갱플랭크': 'FxIzjOl6zkcRKXShhem8mJoBz8SlOury4j5Rg2elC3l3s2c', '송리밍': 'BILSEeA3qw-mTsU9vXaWvuJVseT6PL29vZqV63raI0zRov3xxvtjiKFW-Q', '20살 당뇨': 'taLTMXDwwb5qfVG7i1WCptEl3PJBO7TuLwsTGNmpOOm69YY', '연동한': 'HlXZ7XWwziLnz7LrSxaylV0bbpvyF0b9ymx_Y-cvnLjAfng', 'Tangyuando': 'tOmqJLrelw5zwGEFwk4nQ7ztRW4wLRXUSxf4_omf60QKHsFCiGlplZrZ7Q', '김법신': 'oKMdgl7sUKbAzxe8uBsqqx69wssXVaAIxbehM1xHt3t25AU', '중학교 사회': 'ecEnHJbDUprb2cur8YP5JQNL0Tbf3JRrBemqa49I1xxqyqQ', 'WVWVVWVWVVWWVWWV': 'jOGFnYGlfhTxPvLkFWAlY7590sKbI09PG6McvkrlklgkDH9ZBhj1_pdMNw', '비제이수노': 'Cs3X324ba82e6H6bANL88Vs-OXiFRxP0sRAj-qjKX9_OjQ', 'BabyHarpSeal': 'DX_Q2H_WTje8sdaNwUSBFuvgGusubhdY0_YuW5SV0bAYwmY', 'JGKcrongTV703099': 'CcEjGMbn2mP6GvW270OjHvOxomxmvuJEMJ9VUuJu2wUC1GQ', 'JUG242SH': 'q1nZ_VGjaOFwhPqv8JqxGM9Bg68MTuzdYL7XpiMwWjBxlw76SS8NbE4CDg', '버프줘바': '4VOf9aV1fETQcJlN5nNUSUFCfr2BYTr8fsJ3t1B9DtaPSbQvCZ6JnHwUJg', 'wulongcha': 'nC1rLZdQxcSg5Uq_zOokKLL6lSos8Ain3i1dzu5Fq-zWUHqaGsVmD2Wp7Q', '세 난 ': 'Gs1r5ytZkwMwEmlYugH4rwPQH1qsnaaW8DCsVsnjZawjrWQ', '11baby': '4UUY5LMFLVYvghCi2JZr21XxcxB3GcF1VK9qZ7BbcpXZFz0', '오늘저녁은 너': '0nolf18IAkAgq_xasxTU3l2tJN2shLfDw-LVwnXdDBwDzAk', 'Mot hai ba bon': '7N2cSYUSVxg-TYGeicVy5qoZ2ACJzliJbzly-3uiFtuHdyIjzA79TFQp9w', 'DXT47': 'z1a5STuW9pVCASqyfDl7hwP9SW4xPxzEpWqe98_LxqDqlP2tt5j3SLhpCw', '대신 죽을게 빼': '75oNV9gVae8m8wHdv3EaHFN2EtKKR6nZmI7fWH5TP81nqFI', '트재앙': 'GRsppNJmK34iUK66HpfmyvQBx5cfNLwKkTH2hx0KRBrAsg', 'Liver': 'G7wWAKUz7RcxANRE-xIMgCLAjVYQt7jXzOB_61DWF5LI_g', '블먹벨': '-ibhzUC80-Wo67DGA6mS0R7_Lg8Waarr87_H_XsVTLv5FAg', '달콤바삭치즈볼': 'GQ6fAsd3zAc1ykDmDnPIhwXTjjQGCAkeSRWzeodbcJMD_hU', '고수달': 'gApJ7idW5YY-sseJ7VqIeEZaB-ih5hqjmMkwNE1bYZxIFAE', '강레몬': 'YmCOlLXrNxeCz4FGR5CR0vzcSnwyBiO4esVS4QqqLpMlhVc', 'porcelain liss': 'BkyJtsEQxaSMqTOCMiZaVbABmjeOvDrs9iSJcdbkNbEiMaE', '전 세 종': 'U5yqWzGzp_fDl_b3IzDHRRZoEuDR7l9ZXOxtaXcsedn3Koc', '플래티넘V단계': 'XyXOHeNT9EyuWg91qoWDBQfoztP3qRFgkBaezfROErlch2Y', '스택에 미친사람': 'EVEAgMVxbfzwxVCuz_87I_fQ3LwxQH2NKZngUD8DdY4AKc0', '112represent': '8QGsCA_idj6u0X9A762Rvqlvhmr8FgKMXSeosjVN9uj1T-F9M1HiiT5B5Q', 'a5b1c6': 'QlLWtVyob3LMgwbE4OLYusjaAdKA3ky5nSPmR0pznCWuBfMF4pNEs7OeQA', 'frewf': 'rSaqZdzz72bSOqZC9fyiLYfiI8O6XjleZfPqMA4lltt7G9G00fUp20gDwg', '그냥 벽': 'B9f-UUQC_9sFCyXfh5i3TXfQRCySRTdLQvbqMki_MYRmILc', 'ai de kong zian': 'BCLDelHsLpVF9ODVr-0jwF9w9RGVFkBfgz8s1vK05SjgVYPZ', 'Ming Xiaomin': 'BGrCm4kAC584VkV7qW5zg8Yv98RlNvZEWxHiX2eRXD8P_4k', 'trickier': 'x1fjDSQiTLEmKknuBM9hjcEd6uyJeEmdKnW88V_1By-wpnk', '예쁘게 말해줘요': 'sB95o6An_QhnzOHZPc3FgCQXfts_Bro1yBr-6igqVtPCU2s', 'ViegoYasuo': 'FgV6tSPSeJA-We6PtpJX8jUV6CE6XB5R1UzwWCLBWSwZ-TQ', 'S4GAKING': '-_tuyxnVaUmypSSDYXEiZvrjiw2hi6z0_vR76EHYtmWmoQ', 'Hushen fan': '81z5Y1ufeX6ZSXrk0uIffxUPAk8__MRLO5aadxeRarVeBLWe', 'no jg no gamee': '28cwzJQCnGu4CaVcWaRmzKA22KglSJ6lYVQk6aK7fNLm3g', 'Shadow Rabblt': '9-jopH43IRnA8PsQTs5Ma4hmTxSzFFbqnGV1RhGdY1Y787c5YATemEM2dg', 'Alice Landrot': 'dkdd9RiwhEJ-nXFu7WKTdvw-wpbPES3FuS4gSuR76tM43a5Pv0JUEx_T3A', 'Arssss': 'JGWhiOg5kchXqZFy-ICaUXYp_Bp_2UWSvU8jwml_C2r52dqzqX6IbcF45w', '강달쁘를사랑해요': '-ATCKLMF4Rkl5dq1oYbNu9NDanIWiGRKU6DCymTAK5UHeqM', '덩굴풀': 'u0UeWrt05JLVnaoXIK046GRWawMy6f8pbKKDVaehvmhaTatfaIaYAY2nAA', 'twitch 급똥누누': 'pds4TNrN6VixLTVXaF4CIqXLXM-Ni6vgVkXelBbEhnv28JJJxKSnxdwauA', '여 보 는': 'DGB3rl2FmXrO0lDuqEwsFuI9OUGxlB_aLw0dpmDLuAkhr96t', '쌔 DI': '0KZATaXbkhxw2Png6v0ovuqcG52X28Cng6G0N2ZbVoSfGzo', 'vcy': 'J_X6OpHyidwg5H-89Wuefj1AmMqtbqA8EjH0io5_ysP9Uu1sp3-DNUyOxA', 'ZHFLDKS': 'a78QfMk9u6CNqmr2J3IVXvmfjCSqUHqnTpiy3t0n9NaLj1E', '사람들이말하더라': 'zol77E2Ri1WUt5p1n4KCmOcJ5vXObI297dJ5CNbuuM_wLeo', '우리 같이 계속': 'jgk2C8PhVxyGWhrCdYlTc4bEwNgATfpsd9s2DNaAbOaxn7k', '누나 베개 받쳐요': '7Vkvsqu6Ara-nv7lPchZWfyJTCBNmS3o9ia7VfuHT13hfA', '허허맨': 'XyBsfIZXv2rca8AR3_464p3VScvfiINjutA7RlLsPXukeiQ', 'B0RAM': 'l0tinbemH2yurCaZkBZ5UP3wwblnSb1Hww6bLfbqAet1tIo', '데 티': 'JoDTIKF2fKv0AnWlFk18Hl0HNFW31rPH0eFHGaoD0kv_Slx7ltj0j1QPbA', 'Yurooo': 'Ikg5Kp58TVLueL6XTUHAs1HvxTdDeGLZLzyTxGKd9ki6rA8', '잭 호': 'M2F_f0r8gO3ste6o5Z1oX2Dn2XUxQAiZsuc1xR1lEZ_r-gfluE8jDqImbg', '제리통': 'Pe61K70l3HY7LVeLhFkzSS6wIeNXgBYRSHtFPGIMPxPHgQ', '카리나랑결혼하기': 'gXeIx1yKsQCl2qGZuVuNz6YKsgr3i6tTOqhVBZ0tmTTxce6fCYVa8x04Ng', 'Da sheng xiao': 'fCSURpYY7Z8S2Ci2atAtmMHQZ12QDxpAL8q91QGh9Gd1RqU', '런닝러너': '3KbFxBlKejUHJxPOzCfpiNItzUjMxU4LhGpxDUsu_Xx-N9Y', '고생끝에낙은없다': '7iZ2MZRNDvPXt5cK89mqWLqJ3Xd84gCcvHLmtDfnMcLfwnHycfGfvbWYkA', 'BAA Lucia': 'oD_S5888UVEovrlxSEgbnEDSvIJDEXGESCVhJD96SeHxo34', '울지마 이톤즈': '1OlY5btW3i3opNuz2ZMroYi82xu4JmWpP0-Ije6jzKODgixR', 'KeyPlayer': '3lUOvUnqeksdKt5rbr44O1NH3lpckSTFD3gJ_YfSbk0aZpk', '어제보단잘하자': 'iJk0-QmG-yBdzEOoSJJTTftph6Aq4DA4KlNWk-49w6Jt3eI', '다이아의 루키': '0YW9KYgVo1pQN9HnpR7eG6x0xT1B924a58_UDd_iUt9N1A', '월요병가': 'NWqs2d-WjhY5zrYj7b6LBKVNTS3vd2IsDj8Oj3Yy6c_ePQ', '여웃비': 'j0FLCblxApRRLqC3k1D5kcZdQ5OkmPsnpjmIAaMIZEN9Co0', '악몽샤코': 'e6sFgcKorApCjpcJb_Gzj42vO5pjWoRTaXSRcAUqBVcR_sw', 'vlrhsgody': 'LUmrln4TLnao3rsGmc6lSGs8jNMWRfV3Sgasq9IxKjvC-F8', '영원할 순 없을까': 'Vquv7zoUoxFJ4DxwsUUTS29qHHnpa8cVN_NF1RPEL-9jXtvtr2AhVO0BKg', 'SUPGOD 12': 'BpMIFFxKCRJ8HlQXMOkz9s_Eng0iWG7yaE2FIA7OgaqptAPx2CBF7bCHew', '해오름달 사흘': '3ObxoZk4xqkseB21uDUMOhe_CNvV_SJnTF1NXkHvn_Ff0FD04aCS6QHoWg', '챌터다': 'qs4NWdVVYSibwXYo84KbYnWQ_Z4NihYGeyO5jh32eoMIPkA', '뒤안봐주면달림': 'LQGPsrcse7ZkUAXhCAVyBwAXOl6129BSB2C5sf2DVB1nFg', '암흑 우주 럭스': 'YrawndB7W9tDMeXHPy9-3nkDA5gRY4olczS5Pju-Hj08q2M', 'poteusa fan': 'E74z3Dv9eHcl36-IXEvMVnVaoeAAv-OJ-we92G76KSpGUsY', '꼬북이이이이이': '-HCous79raXS9Dh8Ue4PJY6WYYWcXEA9s05OCYwlbj1YYgTTjlmF8u7taw', '짝강 유튜브': 'ymPxZ5P-9KfmcwA565huRf99TeMCX4RHIbhp1hEpChe0siI', 'coop up': 'c_DvNEH6w64zWY5FX3jyZgDiYjkLNL-27pL1y_jxHdZRu-Q', '제임스 최': '5ydvgwCtO4d989TLQTOzJFc9rxZzUZn8HaVvaanRLVm2Wfw', '작은 몬스터 낙원': 'tKHGtT6gQAKpAvA7YjlMlI9q3R1IIRAbNWZItJ6gNGsldFu2DpNt9Zef5Q', '징징대지마쒸팔': 'ev35TcMcirykO6OvFaZcVs0ZxoSTBE6di_FtHxXz992h7zA', '스 왑': 'deEYXPvWN_EmJkAtgwcXEYwTemrIlIzhxGr-E8S6oZWBcQ', '꿀 몬': 'lKV_izVy2n4L6BvaQquwv_FfH6kp9h07XgblESPyxmMAZFM', '북한대통령허경영': 'bbP2FSVt-aF_ObbVrGcDNy0a2H29b6dWtisDOjdrAM9Wnw', 'zdzdzdz': 'q9XDSuUe6i3gNOQpgoIeYw_gYLGhRL05CQRhyDLMu7__RSmgmi9T3hG-Ww', '봉구 귀여워': 'tJZRoqMg7wd0fWdJM-4s5hpwbrIdXojWZ5yVZf7rZnmIaw', '모나감우피슬유라': 'sd0_LNDp9ruXlHtyPBvHzhQI5ZO4rdi0_lG8xEj2v5QYuFg', 'dy Maile1': 'Q0HW0p_7aAETVu9fy7VwfnRsqLZH2IVNYpLnvWTGdfVnFdg', '기억을까먹은사람': 'mPp3GoFrdHvjsbqSbYaGq6ml6Tr0zfcHjbkrWEpj6aek1Jw', 'Lefuhuang sanpan': 'xNx8kqaG0x89rEdLOCSDQ-hyjTiaQ74r-s7u-0WCn_qXfuE', '암어바내나': '2IPRHYy77LfopT0eamP8nRoeuLLPOx7GPffU5A5KfU5GFxc', '쉽캐리': 'PfrDeSLHmmC1j6XPMUDtf3PhdC4TXx9-WQybha3b-YY6wcM', '볼때마다잘하는놈': 'eGc4dzUyzxvr0r2cySK73FN2oukMfDzrEEZCUTQJRRO9OCk', '탑안오면따임': 'RMvp8wBunFTgu7WsGBj8xLa5lox42N8rYKGxswH6RnhOwQs', '명품 갈고리': 'NKALB39EdTzW99gSaC8vuFXz0kK5k6kVI2RHRut36upxLUw', 'asddgfhzvxcv': 'TAJyRulURcGUnjjcjsmrR-Yu5QnAnejssDmDrA0Yb46as9Lc3GCc-4n3LQ', '13434023': 'ncCiZEb820kJqN_mUV4JwvSEfcgn-U9XXCfvVL4IfQ7L-vI', '희정누나 예쁘다': 'VpEthK-F2SkJTCiK2RppZdf0HPzm9CrUfWqn0dhQcdh49nFooh6ck2Tt8w', 'thx for all': 'Xe2RetAAo48LT8lk-5ubOSLtCd6DnYPMnU5OMuej6nIwtYiZ', '이기고오싶댱': 'PS5NFxBqV7HOAK_Gc3XGVCooGHjIquvjHm2JPNYJEbOo9AM', '소미새론': 'BbD6f1e0u5aXzy840EAdtv_dUhjLJ1H9zgYC7Rg2bxrIQqo', '감전찌리릿': 'YInhCmEuoe4ztthlMhLE2Mge0RresaZziu2wdC6_YSnn8z8', 'ye tai chang': '-4-i5bPXyzL4au6MW3z3dqxW2vhI6Fvmlz2IZ_6ohmZKflwG1RUgFo1h_Q', 'duckling': 'QHe4_dOmG5qHvpFqn0w261PF3IkjikHfpU7kkpyh02Ki3oSmNSyDy_j0gg', 'pao nv': 'REzBeho8BDkICdO8H-Fa2WIdqAZ0sT6Tbx2hhG3uCJTiyi8', 'S1nak': 'xzoOquJ_PFDZfQPGTMJcKZBE1b95eGwQYQcVaPkn2-QhWg', '김해댄싱머신랄로': 'MSNQ8AvFwqAPu8EgxfOnGySCxCAHs-ChXwnVTVrhwOiJINs', 'jiaoliu bingqing': 'P26ZC7FxqnsWiD97m8NwvAFxpYST_mI-ewbASz1zmYQrrYh2', '평 듕': 'wpQokY5J5-GQgSlzqGoH39BAlEtjEJr-QF5_BfMh1cujtQ', 'ShrimpVicious': 'wWGCb1h3AYwpLvAU4TDSua8yykjrfJn6iJ-3y5e1j7dtpw', '러브래터': 'al8WYM2LUwMnOng03TbpoCvIAvpDepuAbS8ysc4SGVhJQxS1C9vCLzldXA', 'nsmarin': '9uwqWNJy5iHJjGtm7TKhOXEwPRelu4rruxiUY8MssyaIIpg', '이연호': 'ZkpoKzJsig48ECH67KeVW5TDBZR0XN97bqI5hbPU9aMj1A', 'IIlllllIIIIlllI': 'GTs4IivtbpoRnd8VnSEREndjExYOIx7ZNTH594K_3qOvyiw', '돌그자체': 'b-nW0I7pFQpe5BltVafAGO6HaoFfI11DEOsyP5G08ar4ZnrfVpIlOv_Kpg', 'rklckp262': 'gym6WCIH__zfaeo1idDOlNtfPQHZ3KU7bVz9Oy2P4hlrwntT', 'jackppott': 'UomkQB0zDMRlccNu553fysFXwv2aSMde_fr2MMu4zA4mY4Y', 'WinDei': 'NaIg_PPbbpMtifNi79n9kIHcudHVUcUgtHNjD0ST7VnyCA', '약속의3코어': '6bn06DF1Ytklolcp1ZGz5-GXl7wR7JqdkLRlTyOaTLZcsSysa6G9XTnfuQ', '엔 비': 'eEBvONb8XlfHVlJROH-185yVXJfSmCaCRNHoAmBCxCPUXek', '상심하다': '2SxP5Eq50UNN1v1OIZGq-7eFfor1X0R1DBdAlRouAUK1o5c', '난 행복해야 돼': 'yHrYn0vaXx7PiiW-5F4hhHiOHdwS9cE0dl6c8AjrHUSE6m4pQuu1BFsrAw', '불꽃성훈': 'kAzP1P4OaWy9Cv_oS-tPTkgy8_5HUlLNMOC64lxI4Ovo1Mw', 'qseawd': '5HufmKcBsUZ0_ZZ9j3XEOUXuiO16CjgWQvAliUkHJvwQAVM', '민초부먹펩시': 'eWr9Gqdu55NAXXXUvyCHtpZ9zLsuYQPbGRyhPJgfxMb06kk', 'my top 666': 'oQd-J82fmwOMiKHX3PXR6XEW38pqK8SC9LJJD17qmZrYCqcu_jsgy-rIsA', 's2j1': 'nl9kEQZzqdodNEAPWR1cLsz6nYzDT1zVKeuIM9nV_u-giEVbC3ZO1he-3Q', 'dotdo': 'ntO5ZwdmrOzzGDXnH7cZTrN5AOLFUcQ25Wn08CBgleUU7paHjSHXJ7vXYg', 'se222': 'zgWupCS9tMsdpWAAa8ZcMqU4UbgGJfyTX0XoHgCY2YhMGcWiNr42JULV7Q', '나만잘하면돼에에': 'FkvqMjxKEpEWALRSVstkEhv_c1ew1nnYvSRdt7_ltWXYleU', 'CC7955012A': 'kFAusw-2VU7beAZCQSyPYkdpN2XZpEpesc-ahMlxBeURbyo', '잘하자 늘': 'jYomNEToRJGmqYmpp-u9_YnvkN7IUBzxBHgkeuwxRutdoDfJIxDEPN44AA', 'Yeruoli and me': 'fBX6supuXl6GaY0lllktTx3A9hDQVcrNrZ6lhfUex6-4Eb0', '오매불망': 'sdORWyhJHoRp3OPvcmdBRc5IjRYu0amDismq4e6JIEePtA', 'xiao fan tang': '_MP0cqsCWhHvsc8l1pwKP4XS229P-g5ddpNqseYwFOQGzoiW0HmqvS62yQ', '지옥 멍멍이': '1mJsSbbluxpU9-HmzATUFs9PqPz1jXVy7JM-chEmTnDHcsI', '너 완전 뱅이였어': '8_clmbrnq0MOYPs6ckKNKl2ycPQxyqcDNyC2p2r4Dy-Cy84', '지완찡': 'LqBzj2uUYBm2qbLu_OJnEfdsKnYnGlBVy7K8XIQmejHz7Q', '풍월량 풍뎅이': 'Yx_X0GLTnITWFo2mi3h3iHYrKmYXGXFBDOlvyc4soCnKr8I', 'jljljk': 'YK_K4inqObfWELDW5jSgdKVCTj3ELljqu6YKTjPDPuzqxYw', 'wonangfei zz': '_NEWZiTUkuLWZ2wEtng2LubgvNmKoxyG-FUnITwkH1O0PEjYPGjVD3GcyA', '두유먹고갈래': 'YFTNPFkYMOiee27dbBMyHe8DmRZ1nLL4qXrKGQiuUSWsmxQ', 'Luv Lauv': '_4So77E5VNXTzSZqGWZ_vj1REbvBQo4rcmyNj-ljXg1D45w', '누누기여워': 'mThhKRGHdVXJLOWdgCihHGyIjTTq3aQsDF_YCnrPsGiNYdc', 'haonanguo': 'jxXIO9j5SdfRzOI_Vi7y3QtF6CQ-W9smmmLNa0ZXuyz11lJkBh3FbzHndw', 'WeShanks1': '_O0cDZqxZ3xIOaAbCXe1Tblj0bK9QwBn8YBIqLiGzwBqUcazj87HxNCrkA', '실 망': 'zy4uqLty5tZSyyuZcIjLo1umaV1rubG1l058q3zi1YkFvBUc', '산초기름두부구이': 'sk3xL8hncPvx-xIR6AnyLSAnvk3ceHAC2aD3rqgbJaYRow', '아리바리준': 'tJSQH_kH4VNy3de0DA-Cd0NPcw000YRqYpAyxnLa6wWNYkbhH21zvV222Q', 'LIVENKING': '1uRoByOYjkfum9VeyylarELlQiZYG925AQpEklComdjIf0M', '끝없이추락한남자': 'f7rLiUgSEo8KPkmCEV9zNA3uzPHvr-vNoukKlyUKp0DBjw', '주당일기': 'WFf0pGR9hX_AB49hn7__K-RdAnUhYwNhaab9_ysXOpzixkQ', '사람믿지말자': 'vHxl32VEgj2tS8wShc7HRDt4vY2irLPrxLl91g0eQpFlAg', '조광희': '8RIvo13gqbABbQULf976x4vVzgFr5BAIJoHYv_tvtQ_Vng', '속도제어': '1vO9TThnhtm41D-DymtHOlLBVqr_s1yPBqSbvk3c2AGmqA', '낭만있는여행': 'ZoqF6QmuJy7PZ356dQ06lDPurzwmACAkZlVaTrb-wQnXD0M', 'T1JustLikeThatKR': '3Uuj975Yvl5RzuGtElRuRlXNxS4RphSmVDk-ACyjdzJJ784', 'Crush on you': '-Xidn9lLeGRMoDB97nKW9TDEM89hot3JZmKphXFTVnpG4wk', 'no name12': 'L5DQBGvrakWr_yVw_DuTK46vi1csMNinM7YeXgNHwsXFA54', '카르맛': 'OatV5NIDSH7OFnYQbbJAvjd-0OiOJ9Mgd_oYjpkEr7DJ1Q', 'selene sword': 'M5w4e_-RLTqH32-phr6Ld9KvRk5Klq0qhdZ4YL3opRgXHw', 'GALAXYSIS': 'c3F3nQ2Q1reo7eJDBZ0r4N7_XLz6EJ6DY0gb1aT1ZROR-w', '사나가어디사나': '1YRaLWd6yGZwTZ2QUmFmIH4rXTQhc39ug9H3noiN1MrxwG0', '유엔한꿔': 'u8rv_zXcVV8UmeM6TzV2KsJq9TXIXr_oPMMg8SKqLHq_HZ2aiZk7mrKKaw', 'rainyday1111': 'VRZIeO-x19w9u4Gjuiz3dvTpQ8k-aLs02T-fgMFAOM5pc2IbDSrPiQfX5A', '99 RS': 'ME5Oa-Qp4OhMieEqx3tWzir_zSPYCYWhmSHkFfF1TFHrpSc', '김따코': 'QEtVGQnLZzo3HFE9J6hTSX1gmNftm2LKYyRVufF-VR68Fw', 'oIdmaybe': 'ebTiE5UHTc8c-5aJo_X7NdQpFTxgmhCQy8tT4QDroiCofB5w69QOz_HTuQ', '전령 도우미': '1nZdJYpoi1NlAbCLK8iJLtCeh3MgkDvdMGIJ6Zj74y582lM', 'adsadsadsasd': 'SxTgw-GRyNkLRXC7iAgsUMrAHKKUK80EFT2VxumTlshqdHYa-c4hiNOkhw', 'zuiaimiaomiao': 'd7oLTrwkXdyVYyId8qHbW13CDGK_mqmunq0_Ms906uxxW-T4x118V7-dvw', '독수리 발러': 'prqugCXyCPYYolFRlrFjeqd3aQ55IUxvG9SLqrZ7kaV-Gw4', 'Oh Lovely': 'vHyoTbNqlEztVGHc_ffBrTtDXm-irJfVhT3Ki9p402KsXQl5cKTYDnl5UQ', 'KR Mean': 'lqVC1mHCC2VTSuDcnxtg5plJ1WJIRGJWlUoQdp5cjQahP7lSK6_W0NIcBw', '언더덕': 'L_xez0EeP_XGkwVEAgc49aQHD6FZ63ykTK-67e1cOJdEvJw', '원샷 원킬 베이가': 'Orm_j35UTbHaACZ1uY43s_mPwih3hPgfYHyCOnLKRHYxKFc', 'Onna legga': 'X26uhh2e8iGKalXkMAmO6AuELuMQt3wv0ZdDbuvcXxb-h6OHuOpPvYzy8w', '물과 컵': 'sbA9ejAMCRvu11bIOENeC27pSqsRg7uWJEqRllRrI9FOJeM', '오픈은즐거워': '9_1KYfucLYadxafDM5_J_f0YZakbyIRveSwb6wD88FZlE8c', 'ddddddhhhhhhhh': 'wxhM9AZ4-RDaEXBNoIavXT0l_q8AaMDnkO5S1wbJjPsU0WEPNghTHUio7Q', '98kiw': 'tFMvjAeeodORe0u5SIX6LitnTsy3D7ffNxQSmb7SXbMFIuJfWVA1RJPZYg', '뜨 출격': 'O1rNLqqLJeY-aD-Ml8V49gmnVmB3jYG0Z7xlX6MGoj8c3Pw', '작은 모래성': 'yeEaNwiGMTo3RfT_siRuk2ddsmuA2OjhnIBJV8hvslSzKVQ', 'elbicnivni2': 'GPss8B6Yz9a0XZyH97KQ_spAHlVE_cCfBVSjGGoRyl_kl_zt', '이루다아빠': 'upwv8pArFNBTCOAXeWu-GpFFlBPlQXI7XhtaCm5Vq7lbqLE', 'YQYQ': 'ke-mZX5OPkl7TrUZ-jyBYFz9HIyEcOnR9sBlT_ggzK4C9L6aNKRgcTsEQg', '바디 슛 골': 'mJRRo7GIJXPrmWItCKGGglnTcFNX3dmw6Imvb5_OLAVMkVJD', 'save1': 'dABcf3PmTtBVW-FtVVzeQ_QYkMrbUP_SpGj3W_wFyO0Stji1M-69wDfLXA', '2002mid': 'BEXqaLkkWrp9iXnMwCYKfBLOeZ03WbSM-5m3Yi9qWWMThrw', '강은짱': 'X6KGuhm_ymlc7OlgF29vReXKXeBEbB4fJ-jHqFo_6ykjFqk', 'Liiv joker': 'dmUA0hOKJEuqFxZcuBHVmDAN7rtpnqH7i2H3oylfODc0mkk', 'asdhaskjdhjaksdh': 'o6R3dX4QtBUc4DMC56N9z1pkFBfFP_hEflcj7J1g0b8tGAbJuu4PNOum0g', 'S1monz': 'gQu4IeQXCY-Ts2aU0vgDHHPj_LecHwwL4Sug_CFx2rBJDz4OOtGCgr_nLg', 'Peach': 'T4_vLswP5dUFPXIrB-lcz_IKAWu_qTl8zAAaapeG3Q9SZUU', 'TUTTUTTUTTUTTUTT': 'sFE9wgEeou9eH9FCSaA2qz6GT7jWZ4qcqR74FZpAyqdbMQ0', 'super yasuo': 'k6gVsubvnG9XQT2aQeKiNoTbH-wupBcNXTdpcg00gfxDLOnu4I0uafkOVg', '10shi': 'e8ZGbSLzLviMEF0QYzdrVlVa3PbH0Y5hML-KAp2qti0C6NE', '다딱이들패는계정': 'FhN3g8Jto-ySdmYDJ9rM5RtKtbtCvTMQqdCZRZBGiuAKyFc', 'aaafdsg': '93XkY4-wLAoLGaMpjcHID_6NKXLQW8iMwb2jj0MOoe3SrmZ7eKDWEakW9g', 'Yeono0': 'D9d0jDC053Vm-MT0OZeBxSIx7W-UiA1mU8DT46lSZ7We02o', '모덕씨': 'krICbXZSdLpyogZVsOwA_IA3M1XODCBVWXYLsr5EDb-yops', '기분전환용닉네임': 'eb7CeWDb5fIoI4Fnw4aPXnowFmb-pv9tXg81Bc_2eLABIJY', '김말국 bb': '_aNYWmJHiliVXRqEUo26Zw_zeIZfcbbek4KaJxl6APXxYg', 'OK Wooputer': 'xB-bUqlSviwyuKX3w5oaenD1uuw-dhZdUbmAN2YJkShFfqQ', 'Phil Forden': 'oL21kVljTnV_1atoWVZnZJCt55duM881Z-blgXrazzd8V2M', 'Barcode99': '6p2hIXYYYOOWfypianLe7n-6lZ9t9wJ3ddpjbB9hQRrogw', 'dgdsxnh': 'IP-QNc8FHp73I3QAUS_yrpFnyEegy_SKVS5IMN6zr9OWoPwxoVU0jpe0lQ', '근성맨': 'p_bbbHuoUkNpiarlbVx0o7rKvUaFkJ0rG4FBXHp3Piok6w', 'Slayder one': 'Bg2v6Yf85aqUiS_Se3DQklukVMpRb1s7-KlwRgC7uamZlMvXpFagP8lmcQ', 'T1 J1': '_wQcY8oWFN9LYfN420c4EVFFP4g1lN7WnJg0213zRtQST0M', 'ke bao': '7yH-0ZuissSk9cJVa7Aa7jbOPQSTOadL_s7x1dxBhMG6qNiTS_oPxoq4QQ', '병놔놔': '1q9yYEWL_OJioT7khfYpaoRMgPI5PZU8Q0Rb5jMprUL9w9I', '이상하고신박한것': 'ps9Z6SfWj796sj8EDJqZnbvVj9meGjy3IFYzZdi5hjSpEfo', '판아야': 'WdNXA4tKRvZBt1eaM0qZJHYXHypx2PbxtEcfDfFwRM2TQKA', '욕하지마엉엉': '4O8MDtsUz77O8SLzqBfEg6Lm5i8-2gDsKfwleul6Zd9gvqQ', '예 히': 'CuVjvPsi2sdvz6VM4N-Py_WJql4z82pqWQRCMOpfHOka5A', '막내현진구름 fan': 'Pj-h9XENng4mc_X01suIEzFHcyj4cSb6-C2iarcpY_5vuks', '날 만지려해요': 'Z6gBxpD_RBGU_xuZMJqeBUkJGp7xXnYUmO0yn4j546AwNAk', '코로나19 죽어라': 'd3EiQ6sYFMHjSu8kvE8YmHcIXE3tb2wmsSaKQJgUFd2tOA', '난 아직 성장 중': '_xkLu8admgqsz-0ap5CSfvzGjF_xNphNu0wQO-DcJ33_iA', '5314133': 'i0n60N2hQt0nEvfkYpX-Vv2mVlsG7U0tIGSScL5wdT3Ikx0', 'bcasfrgrqgqdf': 'biEelVr-i5_tfvpP20hhNc2HocG1Uj95gR6VjzuhxfnTz9g', 'Rei ive': '8KtKApWYKfdv6kmMUYFwqQiKrFl7ER-5J5ujWQ_gYOxnv5BXP1fNj0HIIQ', '내게왜그러는거야': 'ET9WPmNfqLb3lbBWOzwgmbUeFbvKBcKTXOU8uF5JggHW7D8', 'Doram': '4BXlRQhDZMLwV70vgSQSfxstJFndLOb0C0sGWR8eMgg9dPg', '배창선': 'N9ScoJxBeBSkpoH_61x-xj2qZvFKAyFPUwRoNyw-pDjAAGQ', '볼 살': 'pX_GMNy2oWUIzVEl3QoGh0AMXb9QlKA1k8RsXhc8k09JOS0', '별 재미가 없다': 'FxS66i0wjpGh4Ie_0w_wgYf_T-sEtTP-Zhfi1_cbXRx9IEBGcvWhtXMA-Q', '방가방가헴토링': '5XDvIqbMcIQiRwhgGRQdERhFM6X4zAmizBoQsgU5j2pTB0U', '원딜러3': 'Cg5fajibx4b7gfWg02V-YjNgWQlodcMx-IzcHBAi87SbZ1k', '한준희 먹고싶다': 'rP21y1sU7ijGh2ir7av5gNiLWHlLCF3wTvnuJon-q-2sHupYwujDsw-Dvg', 'hycsTOT': 'e8u8FEf5Eys3oqDvwwU-8xSfboKyxbYdFGim1DHEvfBWGjpCBoVR7lVzEw', '키톤7 ': 'lxEKCuUnIClAxlEJXM33gcZ6ALQfLSjx_GX_uEDdhA68qX0', '대성 대': 'gNMdAMlzSH7cAK3SJmWDZlH-AUr4HvJdtriV54hFcI_HOg', 'UMBOOB': 'D5LTd2vX6jTZC7UW8ehhWjyDXICKvG9YhDkgzsdM4ZV6A40', '애기라굥': '7z8RWZ__bVO-Iw4bCt5hIQbg4JpTTn2dg66iz_I8mAkPwgySeW65YieqAA', 'hao yun bao bei': '8QoE69vhD12-FXjmZ_vPADRtbTK71L1BKQsvGNyD0uFk8Mo', '4APPYGAME': 'phSFpLfxQ4jcNca-TRmRKc8skjXCwvAbmPan88NgFAWDhA', 'MS77': '_EUkouSRlOCUWBx9VerOrQUBDZwCV23kz9WSAPMWz7vWD2Y', '에스키모 개의': '-4cHbV54AfwvygvNhSt-O6ERka4JEZHLPzb1ovvLA7CNag', '바텀은또죽어': 'pQiVUmEJDup-a3w2U7mUG4eFzKmCORg0LnM7dLs2Y2PtWXU', 'dangyadangyadang': '4mNYhHMk7GxvWTDGiH1flrjyuAs7Ec-0qQPqGzEbEupoPQh1DDSPRgbJXA', '뽀삐3성': 'EK5xBXUOn7URj22CR83wajLBAwMJQA_M6BLpbhDFOp0xm2qw54ePWQl91Q', 'Moon스톤': 'GLNRAf2Do0FmCBRU9fY38FwRLAM7mIJnUSX7rp4_Ds_43Ug', 'unknown89': 'q6vCBc3iWIWvQGxb7hhxRK5wxj-pMw7u_ypqOCjKwt_-2qU', 'ai er bu de': 'SlwtMu9UjYZ0RnHxtJvPht7SZwke8ix01UNY956x7eAXhCc', 'Seize the day12': 'j_2mbpz3lC_U1lkq3NBpugWQk_vPQIipSajaLQUzK1y9uZd42oPM7PT5Xw', 'BT limit': 'LY_yp7W10M4yeV6bZ42ZTTY5rqvhqSccmas5O5kTaIF_3Kw', 'rokinas': 'eJUAZZ-FZ8lKHptaY3yLXMFIJbX7U-8A8kOcrAm90eEbUA', 'zxcvkwerty': 'iaEpLeOnWckXEZ5PFOW-FN-zKg5tGHktEHb40mm_j87L27QUh6SuV-cwAA', '아빠함번미드봐': 'k6vumemGfZHa1D-NsIRGq0QRKjiIJOqG8n9O0somKwZn8kePTZJ1sjfIbQ', '빵사와인직아': 'IwPU393zHlOsobl1QyC8uHaFQ8iDiUoGq5zYqpIfFm9j22Q', '찌교수님': 'MNWrfJ2YRsTodgMxHKCXmBlVx0xF1N89ntzgX9ICI4HbpEE', '숲의 미뉴에트': 'ef1V5_-YWh7f3lkjFfQd4AcHSkCdxJzly4xyVvmL2DhNyQ', '크린손': 'mvb7Jc4uhv0qp_yJplb6rYlzMcl8prjSBHum7otDPMiQ3_M', 'KT Bory': 'KzqeAkH9xAAH43SgaiHMNqPWhH385AMNIODXwY31aOM3Cw', '독꿀벌': 'jDoNCSDB4uL4qbpNF-SLNaSn93pKmqFlKyiPw77p5wQ8qig', '강한남자 김동준': '7kDrrBet3sXWGklrVTYPeqtitea5KieyJq8J7nBv6kLG9g', 'Lin Yu Yang': 'v4FOlPUd6f_61fWEMiZVPVc9dSj-jEBRW2tORyZB2muGn_Y', '현Ze솔Ro': 'Egbzp69SoDlIfgZ-Ry8guFW-Z5O_Bfsa5ov-xQLK2JNvOBo', '씩씩하게살아': 'ftSu2LZKybccNMU5vvHbEhHBxPJSLPpnwumEYgRtpKLJpw', '심 맹': '2Hg_nCTlXJbCOfQDRewbAOq2CDl6LYDdbKZuCbld1qRo5zMPqBBWgzv6EQ', '마스크쓰기귀차나': '5FXJs4KG5-2V2IasOfDzjGjDOJyCUuVv5z-bbft60JjYSrDS03sjizJGJg', '피망생강오이깻잎': 'hYzxVUNbLWyKPj0l1awc_il7pnSvR0LthToi-6xcgNyhKqs', '미드 op 오리아나': 'lMmuw-Uf34dDwy1kSOm8Jp4EMU49ZpuhmfEBo0S11W8BjqU', 'njjik': '66mf_k7blK5ASdO0tw1rQHARnSAPAupaUstRWXm4RNE3W8ZXaFNmcJ2Vag', 'Cassiopeia TOP 1': 'goFFdWkq63dLvr-6AkY7VTC6eeTnsUhyzaSAGbzgQEECy3gMfb2hvLL0zQ', '대두 구마유시': 'X-PPooU1r8DQqFWpPjB_2SMphe9xdEH1MGh92kuuyQxaAuY', '엘사눈나': 'ef2mt7CESpSFFoO-HJokE516m5y4-n73ot0WL-DSWNgVfX_UtSohRcTtOg', '빵정호': 'xUm2kKfMmoxw30u1r6li7mfnYy3dgUGnktZNeJk3qmt7LY4', '이해존중배려안함': '4CcJ-x550vT5soccYDpvF9NGuW1eHyrzB2IrZn3RkFHfo8I', '지구야 그럼 목성': 'MlGoFRVG9PvhnTMLrtXqnRzSdRxEH_uo4xiQuRyqWH7G-w', '04040404040404': 'VfHoJetQ62LnOHGqWhmbpb0RVv77yD8uf0Xxb_ebPY8WIV0i7hDKvrhBlw', '주먹으로사람패기': 'Uhjf8L6MXdJD4tExfmJPFdDZqeJaNrJsCTe2fNEPc8avBsMJUdPIz1Vg9w', 'SnowFlow2r': 'AR9xZITGQKciryeG5U0g5hq6cSIT7AUP7jy0F2peGFNdoQ', '어마무시한사이즈': '283Q2VxNrpMhTZBdw8Z8PUOlw5wW3WrK1mzmsiSAGS_kzw', '전설록': 'Zoe5bMGXA8wjVClgIH1zJeGHu35eoZOtGtt1X-cUATmGQxnQOEGlO_o-YA', '뽀식이는 씩씩해': '7s9AYzS1jBVVUVZzDsXvZVCyHgMQFqaArDv033apXg3mPQ', 'TingtingzaiTest': '6kOWB1Hm9Zux9_KcpZcs-2xyx39Q_6pYvYiHMlpBYgH34RFlzIRhO_A8kQ', '파리바게트초코빵': 'sRKS8gN_yAaOCC33qF4SaJNfMYjUULTY4PWCwOzK6pPqvNsR4BogU22o-w', 'This game canwin': 'OEISqevboI4ObeBUm45m565EgqPuWbJLN0g9e9-jJdg1IZmpTVMBClmzYw', '주도피아': 'kzUvXtB3qL8xkciJNrUhTuL0bMc7goC-Smm0ia24gjBs-m4', '란 서': '-CYX4_z5VagdYYewzNYNSATjCtyx-q7dd5W-L30ZMFKYwbM', 'R3membrance': 'KzgTmGzALzZHxHXn7t8IjLHop87ythdhLkls3nJoZCA8Ytcn607SxHL4sw', '친절한 준규씨': 'tRtI1nnDp5Xzq9VesVdNMXlaeRyPT45lZcfoxcPoEkhRZY4', 'sodaro': 'OXe6ZQhwbIs8NDS6Rgg0tyY9_fEFJ8nQtfZ2W5u5QsWfM7G7nhjrriA3qg', 'rewqasdfvcx': 'iQVpkejcWnKrtKL8Ci4sCqClujIIUJSaa2R7ccUZmN9wvJGBPPkdRLX4JQ', '그 검에 젖은': 'VpHvq-LwsQu1DHIufeR4oUwcLShI7Clp1-i4YHajxBVlkUjs0dUx2UgEgA', '사장 원딜': 'O8tOMFL13O2Y5zOT9DGvJSk0cHtPSNBu63UdyS5CDVTgBaPRn9zm_BB97A', '포소포소': 'eDBWkTdU7Smmq8R2OV1TXJG_8pFqdVNINaqpdGY6R0OIbb_TPACzaTj5Wg', '고독사전문김독거': 'tLxK1ItlWIYoIRNS5Mf76P5dJddpbZRFSv1F5EOTJoBuUTA1IvcVeOuPmg', 'zI존go수123': 'OSiu8swNYG_Pi40XY0vtoAF6qvQP0VYK6RnOHFqsUV6B3aI', '이채원의 키링녀': 'lZP2I3t0Q7ecVLPUkV2YS8YGs_PWq6iG2AsPhpnyOz0pWYA', '고기맛얼음': 'QqAI6zMcqyieJlxNOEfTxP7ZfVfJfwTnm3EkGsHVU7wqg0w', '하이머딩동': 'eaAeSgdevJdGXyLiti-mAPzhkXCAAiDBgR1d7Lss8os7Sw', 'Zao cun': 'raOcxgICz2ynjXlGlfcAn1nwArHgmduud1VBTfdVzH48lVU', 'Saturday Mornlng': 'OH10KRU9iYIMF9DGt6rrftYfYN0IWM-ifh-yKBvkXa_Sm8Yl', '재현표인데요': 'TlbtbebHBL2P-hXmswaFKT6XZ5K4ve7AGJYLhy0Mx-MtPlEfmMw5HwSpqg', 'L1f': 'yYX2UWxcQfVU_AQnTka0GDMvjOBZqoBy9wR9SMErFqDrLR8bJQwUnCWyKA', 'zjhzzz': 'r-Yn2YIaqxpqGNYywTY2G-xNzY22W0XxS5ARD6BCUowJcCE', 'SeongHw4n': 'GloVXDID-DEUmSMlL3U7b4vW2cOH32cJFlL747ikyYAIFcI', 'Falling In loves': 'cuwipIvDfbiNX0sT7TbUPv03aoQbXN0IdSB7vpPlgWWYH5w', 'JG ceiling': 'TTIviit02lcSbKpGULoDRhUL4sg4dhP5vHnHak21F-mQSGA', '개똥벌레미드': '2UlepHG2s--J6Le4cpIXkT8TvB7RDomiwU1cvgTnQhlJXL8FEdiRwwu3Bg', '슈푼이': 'iJw8XQyAd8q0B_ZLZuhSBw-GDICUR6MEiRm47wbBioST1x-sK3Ei91RSnA', '타이밍': 'pfa2yMiTwL7yiRF9PWg4WUrNe6G-8dw9t31LTDf0YUe3ZcQ', 'wdbyzmw': '8YQRKzt74Pvjw6jQFnxRuoNadVbFIwpBsYtAmqzECRzlpXY', '3렙탑갱가요': 'b2tD_xwUANElcXyceP8PXXwOrchWxGpquritDJQOBd2-Sg', '근 두': 'kqR__GKGudrAEIHYZ5cTfDnLu6AbuGCuMDtW1tGasnZQPA', 'illliillliilll': 'r8vU3DXZfo6Mx3GgpbL4nupkAGN9EaPx2xh7gSY9mAWG7u8', '워 드': 'XI-EvpwWCYX4hp6qs8GG4DGIbYIgazTFEmg1a-tDlIAYgrc', '메1론': '3JA1A8ha1Xs2iIgrGIJTu3qWaZ7ezU-pbIJrBARBRAf_gQU', '자메이카흑인': '4yR-3b5MKvzTbSxKzwLI-khD3Vzq6iqCCEV7l8R0RmncmA', 'tkzj좋다': '_vacscZSWXGB8yKVgB4Os_Osuz3DR7HOecH4hIsUZ7LHJ7s', '두 부 꾼': 'F3X9XNEijbHdraa71DbW6_O21whv8eiOOaMhFnuA9zmqig', '초반만버티자1': 'P4S3bPNM1gn755X8UJTeWVAvPRKQ-jffPYN-A1agKcuzd3hz4ihTsujzPg', 'x1ngyan': 'BsOGxDZAsJqHPvv_pJy288mNXdhYl1ReNaid60J-3fcnA5cQfHtipsxkig', 'ruys': 'zKBvFoDWJN3Lzl2VEfXYk2Pd37m0L0tbxOR4pjA_A5oWEIno-dNkH8tIew', '나를탓하다': 'E3c_s0fC0xSJDylLR-uYXL63mDyx3p2CRDcWq1MhRonBNobK4y-adZduDQ', 'ru guo dang shi': '1OZt85RsVso6ti2z-vVrRAaAZ4MCiGqq3oMeVTXzWEZfRsU', 'Pekora Gura Aqua': '0eukKiv1fsPkrDD_hCL7D3snWvEQ2o8hbxNygB6WLyhSWcQ', 'MIDGOD 13': '0MdjgRBnTt4uW4j66mibLdcOQfo6V0kPG-17kt_fbhWr0CoZ4jUlWyEm7A', 'srysrysrysry1': '6rbRm2ItOXzsKtfm2Ab47Ab61DMEZyUmQ9e3-nqhH4tHOkc', '아리가뚜': 'YvwokIxhDeQOC1Rq6AnxjqqHwD2z2Su4fcAMkrVDVoinrw', '엉덩이 큰 사나이': 'EGs7uYjAvwqsusXvxVq6Rji3HPaa_rXL6M90NWQk_7dNnts_O7BMWT7tNw', '1등 1등 1등': 'EpqZCBiwHRf6k9j9Ej9yMcniLKJggmga4v3kbqVQ8iRt1WU', 'love again1': '5pNXMd-f2C_nK4dHsghE-y5Q8xQSCediRpuRgWxxeIBaLRmFP-1jBwy4tw', 'AnkhL': 'AM1AnXgNtlA4Pcui9bVio-vDGbYBBGLiC8gDrJMx0WhIZZ8', '튀자튀자아': 'jvtxDzw_Dn8LRIf05gCHCK4hJ5RhOZ2VdgrEUc6zCHI5poY', '부쉬활용못해요': 'Jjt4r4-H5v3GdRCuEAuS0Gslc6UfPL2-4U0VUzyk7kzaZ40rHL2yj6vCZw', 'LeJongd': 'DCZSmBh4J-G0oHqVQu7J8EjuP1Yg-k5F-o415flJJ52ksd0', 'Kead': 'd1K-k7iOvZJRDP1M_EjgH1aLDHJCkC_Bzoocucn4btUr2XM', '하레온나 fan ': 'DVy0m9BnSHcAA9_3ybOckeqL2XGgPGvMwrOCZQihDtMeAXx_SCnY-2ClRg', '자 담': 'yujprZDe9UMZS4Jkyv0P9ZPCaiesMsrGYe4tSA6Dpj-soA', '안녕하세용덕': 'zOXdw-GobC7rVxL7U-1NxEf00uuS7lBQycF59E5JvVMTv9s', 'JunB': 'DJDu-5gRkScset5E9DQ7HGtrr1ZJHjGUl4p4Df9yXcYh6A', 'love lofi': 'GjkG6W9BfcRJJEsWZDN4ePTdKUmHva1u04UEUkvPdbUf1_k', '건 대 미 드': 'J49KI2ojJDxUjCrS8Agw5RHdA4DcFAVe1d88OTwKYiYXpy8', 'Alicizations': 'U3eT0eex49mujKYmxAItZ8p4UdMvIDbQpx3aQIqkxcEFwstOh85n8gHzUw', '신지테': 'd0-y9PN1OJDLQZEVdr70A94xS_UgiCve7S_AQjNgFyCEr9Q', '비에고교수님': 'qGZGwKA8xywPY7HXcxXGse-thUW4SrKwANR-0zrtXLdyNQ', '나는쓰레기1': 'w9AsBJgLrPMIb9HiDK6HqvU26xdE1cS8tFzKLYlC-edCzpzT', 'Jeong Tae Hyeong': 'Ak2x6MaQKPoguyDlpIh4qTroHwNNm8tEAHHJIQ2agIxmpP8', '실시간': 'y_UMhAYXoxIoIdoKqirungiIEGm1PUK2jfMUvuLpyLOeguUUqbuSrNfQTA', '유기견형 탑솔러': 'cyAvc4YNVzufrg6qwd4zqfs16wGL0YeTtsmTgdTyImvKx_c', 'Shenseea Rebel': 'NowHS9GwNTXWbcDXCkALpgU1jIOYZi-gaSV-tbciYqHybpsXlGTK7l-_Tg', 'bxwl': 'wVt2Mz9xo3IUMHllX3jny3fl1nfOU-jPr2FjFWc-ODlGc5WsiGUxwoxPGg', '궁댕히': 'SyVeJCTrIDIzudLjjlOUXyoNArRqDZ3oLdqQ2B9CGZBqsw', '98k die': 'PwkBPicC_WeYXyuWrTePs-YdWHIwrFcZA7pcI0NiU_tihbQudHO6Xh0cmg', '이쭈녕': 's0u91ZkslCXIqit2cnpL-ndiOKyXb92WdbJ7-1IYOtiWwA', 'C9 Reven': '-rRBqB2ibdmCE6psjq2oVM2ctVTr31aT0POS1PQMxAD6KlU', 'waltz with you ': 'naAw4pji509ftcBkHU_HBx8XQBo9MxswGiWzUdvhfDCjCGWg8F8LKjgKhg', '룰루빼면 브론즈': 'odIToMfsB2WaU2C4pEA1lZIehToCwryEGT7YVT_NvjWNfIA', 'Choln': 'A-XCl0MYnk2GYbWzJ-ckWcj5fHqMHiVvMa8ax6Va_sIBu44', '파이리 물고문': 'JhO_v71ROsF-1b4G9t3sEquhDwz7d6Ph7yN05uZhGvE84S8SHd8LhnVeNA', 'klaus8': 'iIUOiMLUtFbezosBCfVh1Pst4kmY-1EiU12x1XS_DsNUycM', 'Toptip': 'gyv5BBWYe3pcicEscGrFQX8DC5sRrxfRDUN5MXVLYncEF2o', 'Typhon04': 'FB8SKGCGGNFC108ViZ_uzVR569KcuUArxaRXt6W_dMnoay5n', '준상꽃': 'saM6CMgp0a02GQUYHdaCzUj7BBoYkxzH6iX4E9gHAVB7_21GAZ0I-qLVzg', '몰왕쥐': 'rD8pchNIxm4n7FMoDVpY6qtV0E-5TqtkhSkY6gkGil2XIS8', '맑은 숲속으로': 'VMQzIQNf48M5d1-6F-e6gr0lAkvBaHSPRcDQ_AHZ1Ogvnro', '정밍쨩': 'gK45MYzxGxxn4atb2ECDJu59FZJE6Nu7y7T2IUa-Rh_lHXo', '저 연애할래요': 'OXlRDXEJa27POIxd2I9R2F_xe6RvTt6sAu_r_37OFFV8i3E', 'HLE Rooster': '7WjHUpBA-MUBL5ZpmUt3WOE4HW1VMwHpt2S8Si0WRoyNjjE', '롤강의는 코코팀': 'hT0yIlNrd9RY5UHI8iiNaClIZAurctWnS-hjTjBMF3XiBbA', 'yukee': 'AGFM-W-01-DWUfxn8_BzFOswPj7mKCegfwRXZFIruLudpRk', '안녕피아노소나타': 'XHFv-l-J5ko2tZn7jRPfYwKdsUe3Gr23te3_RX8sDsAG5V8', '희포리': '8-odztiGOClkajkREBslvzaRVWiCFIwnt08JmzEGfiBxAes', '23030308del': 'beSUjnyeId5tt1DvipRdpgcGRWj6RGFl6GwwfWZRdwXgEXI', 'Factory': 'VKTEGzhq2IODrJfJ8WB8YPcuSZ7uEbvHhYYbCyOgo7_3m3kFyw_qgg7CiQ', '롤접을때가됐나봐': 'RAo3wDnOuLm0nyqlKaLYd1AEVYIWeUEyGCp9IXR7OBGexc4', 'zxckasok': '84SBBRUsQSD1H9ODkmZes247dsVS7UMm7XKhbOsQGkUg5GQOW5xyIhqwhQ', '사샤샤': 'Kmu3UzsB3H9DFqmX0hOyJMxR15Po4-P-_Bzi1uk1JILBAw', '홈런볼 다 내꺼': 'BRRuqZwAfKBM614a9gxrFDr2NJORH1dKhH-JCwab-LPB99g', '역법하면갖다박음': '4Plre_BacOO4UZ2J5p12akgrDbJ-5-CQ-tScbzSqBVtMNCxwbPmbCTbJMw', '돈없어서굶어요': '493Amy6xURQOKQvPYa8OoxK_Wa23O4uz4yAO7XqGF084BqDFS-oCbrTxWA', '16살 안준형': 'txyXiclWijQvYdcRybBGkFOFJ9R4vtfaaZAp5flw6Kicyg', '율 욜': 'viFrQE9ZwsfvzL-HTkdXUTZJiC69hBFsnal1aEFE4LvxV6o', 'Dino 19': 'ZaIH3DSd24xr0M2KL3qj9-rhNPy2vbpQYLmRHL-Z_BKc6GSzmR3kwoceHw', '카타팀 렉사이': 'Mz51JFAZ_UZcPWCkCnlUrLWNZ8k3m3U708ab75ZJuqM07UQ', '효자호진이': '6HDK3iKP9FASn6epxSC0rJ8aMmYAFzlPtb0xybpXW0IeDiw', '매혹으짜니': 'qKWkXV05ssTF4H40h_hUngGSMIp--1xaMZOwj_w5yQhSq04', 'Riris1': 'mTKUUi6P6dluswIzJXm7C7YnX_DwOuysh5k2O9qlWiFxFg', '지조있게': 'cbbj3oehWrFeUj65r9HFOPTRcsO-iJxEF8pnXWHOU-5GtA', 'ITCE': 'VVD3459wqqxuC1fZoDwWKM2kwzJyQDR_6Tcal014v29zhbQ', 'wukelili': 'VVXHL806s0NO5BFekMHXNm9lcu7C0jtdxEk90w5ajpq0iGbT0YkGA5UwQg', '생각할걸': 'QP_Vi0rrR3PFHQ6Kv3HFkDI-dDfyz686JXnHntIy5Oa8Hg', ' youraa': 'G_Yhwmt9RvaMxBKMLWf4OR-fqwUoGbQNeqei_Kp4TUfWr_s', '피그지컬': '6w1-I1cXnDUSokT_Pr8PyNKm5U4U-cDvBzGLW3vxOcxkZso', '신입 유저': 'Rpq7GH2vKIDDJNcMNkCniPxfgpWOTll9ZZrA2bq_XsRqx1U', 'hujianren': '97SJRRubib536DYDUDUhd6sf2Q62atYj3E9Xtpz0zuvpzUZPxb2NGJwo3g', 'Cinder Epilogue': 'YoYZi-bEt8NQK3h9KG7S5waOng2Bpt-_UMuHGx51QD-hwHujnW-5O3_gcQ', 'SSG OTTO': '35ic9U3z6elGrz9dTxeJJKdyMs2V2ZMArHz2oW74gKUZSco', 'zl존포도123': 'NAE28ltd8p3Crd_fyfIkQ4fZt19MXN9Y4PPEN3zqh4QNyp0FNVKTD2qUnA', 'alem123': 'a6syKCzmvxsW0QN_ZSuyEcZ26jrMwAIlq01iEfq9C5cw5W4', 'T1 Yuto': 'urCoR5U3tMeCGkkfjyyIZpqnN_AIwTnZ3Ee-G4CdA60q8LA', 'non mainstream': 'idlogsl-a0OPhqPfG1Pl_RIt3orTDNRb-pVLwPgNToeZR3s', '블린쨩': 'WWIhj9YA5OjX6Lm6BXfKuoYWF-bFNMgO3nn239hz3ElttF4', 'wanfengz': 'TLby9Gk5nMNXIABvQmvdFn6BTiwV-uLycggmnKod1fTd0mzleY1ZzgLGxg', '크으리': 'X9-bg7A3HyFM5xV6UhJMnQvk1yhV2RlheS2Heq8g9lLp8iA', '핫스피': 'ndAjrn4SsOYZIJn3B4majyKiUTAJ3dx0MbrP4ZQFNiLvaLY', 'bie shang tou': 'f8ok_Muu9uxLDlUcQv9ts284ILqRt1vm5TaPdLsvTiPz3Cl3GyEVf36bjQ', 'kr number1 top': '7BtkE-FSSqet9ZbZDs5bbgPVGmlTTTbnkMoDWLqErtUtN0C0VkUdvTBUpA', 'KujoMiki': 'PiWt5oOoCaUjqZeTsjn5ni6sXytjTPvldcmkJrSJy0fuDmS3M-ZRz2sizw', 'GOODBOYK': 'gnDEacx3OD0SqBd58Lg3j2KGrl0hLQf-XrHMTzCWUocKpQI', 'VAOP': 'ErBKLivz9vXYV_6gR7AH1wQ1Z1zXZTJ_kgLn8gRp7SExIg', 'xybbb': 'wAultqTFtRMnDpGn1tilcyDzktR4PeM6TIU1gfvut1uNf0g', 'Miss Korea Jhin': 'X3qrBBcHITDlQ5u64nQJQAoFdmMyPY8exEX7dYPATb_8nA', '백변알콜': 'dTT_LraopxRFg0AYDACdQllltG8wXU9X5x8H4e5sDcmJQaFtGNM9JYopUg', 'acb2xyzasdqwe': 'kxFbADnyQO9_RZZiCLSZPX1EPu53p2YCBcidipW0DRKFjHAxtegPcXHN9Q', '이 선 넘으면 침범이야 삡': 'W8A9uINc7AlX9L_NjdopAD3xo02bbC6Ay2t0PbphuBVjzrdmxnTXlJvYuQ', '때를 기다리다': 'sCae0mlHO3yfGHAMCRCzx_jmc5rqz0962zPfKPi-BvKfx2agT8_2H4YMPw', '노런색': 'gy5wvUehqjMe9AFuvSALe3AW4ThKButiZkZpMJmJGBZDtl8', '챌까지말안함': 'oyVLd6lKDtSrMbbCJfWe27-ULopijnYv6p_Uqoag8RERx0I', '제레누크': '9_VyaA5EjPS9FO2rJ-RKsN5Scp2C9kit8cb9AGYxEt4afA', 'T1 A  KIHYUN ': 'jMlyc7gl70qQ-7NwBBzuKsg7R1hvmqkYjCVMsUUltYKcTjo', 'xing guang': 's76tVK_medgJgF8pXy6MjXEKfN5iRhja9ujnRaEr3une_7pgHbHS-az4Ng', 'Soft ice cream': '-Qt9JIdif4sk66vsoQlHvyLzNS0Tqc8dXxe1WNL-Jxtx48U', '박은빈팬이에요': 'ZK-bL2jAiS_0aHaqRVSwCK_8eJFpA18wH_uy_CcC_IX814aUwWSS7CHqhQ', 'ooyunhi': '1B0tGyT-K29NDbF0LJHaGbIjiI6wOONMb0vWk19_zMnclIreaWsTNBFxWg', '희영대': 'v04D3r6pOAIcX4W60n6yGNAJVT8aaYOvurfZHpSP1OdJfvI', 'lIlIlIlIlIlllI': 'U0f-WDJ_Aa6DU5BDwThdv02MDb8kx2QXBJ_DR7cOCmDxOPQ', '스타1래더S': 'EbGFi1rU1XCai1zsz_VytJztY3xDG_ZJyMg4j8nhb0hsS10', '딜 빡': 'l06TpLVe7Ahrh29svViOpR_jyX1kb91kwV0Gcu1-snDxEmM', 'Migun9': 'bOnDYmPI2J4RQAkXRQ5De8yjiLyeaHKmE-zOUq6mDcCwgno', '커플들 다 쥬거라': 'NNOzJNpALDLzrkRV6607OksJrSFc8KkzsClN2w78Mu09a5Y', '사 솟': 'dMI1Kb-UAxf7MmKAWGOjqieD9ogp0uguZrQvTBdmc4o8UrV46lSu0Wx3Kw', '다시 정신차렸어': 'tb-dL30izntCd2uBdL5Y8jfmCeU5Z4Ndn1rMpivyNLLX1Rc', 'gou feng': '9DimV4lD0KZM8Tj49Y_MNZLyMRedjzyxOVeBjPw9Sz1bV-g', 'kam1satoayaka': 'eQZc71-Wsze-jANbOG9rAAaSalTe1r8-jF2ocfMiE7yxMv-g', 'hf12': 'fflo0VvHs0kPpDEpZJ3X7jBs8t7p2AOH6RF1YRikgoUS9Dh0MiDA7hmmnQ', '어쩌라고맞짱깔까': 'chhYLe_wBOeM-9_NNydGUPZLM_Cm-JGYp0j2vMY-3058oQ', 'Potions': 'UKwsGrDUNJQKosRIwTUa8LFH_yekBfUmw5ISxOYS4tFz0EY', 'mideuneunjalmos': 'vAPykklboLXoMhr_mW3LmVLL_slkmFlFQ1sQnP50VhqjlssnAKQ6mNZcHQ', 'mood3': 'jupz1YUCVtuxi63MFNGQeAm1VDs_rxcIWzEodu8PPMm923bZ5y5NwroJXg', '반새로이': 'RKc7-vz-dItnXa5SXGAEKazoJsbduQgAwJ4odcYjq6O3Cr4', 'Engl1sh': 'sgn6xe1GGT33AW8WY3ESUg30TaqfGBSg-yaOS4dN2OMlnlfeOvWVFjoznQ', '금천구초대형자지': '1lwZ6peGvTOt7mmXexNUM0m1f62slms8ZM1tmzlMKmqHofs', 'Arrest Lux': 'qLpMYjqTMs-Ia-0htIFV5KVpB6cUy5PjP9JGjL_1BiH0Lg', '사죄하는사람1': '2Yv2rbVxICy4-zHhYmozIi-2UDUx3l1EJzx7FwHKsHpaqXs', '하나야마식라인전': '-oOi0mYp9x24GFUOvyJkRurgp-nngIhWWhfNbYTms3lN_II', '오 림': 'k499cOqaUcHrUNjQ3y4_HjJvGYlT3t-VL0jmyYjIACiqcQ', '뚜 앤': 'wqkX-TNJLB8pjQ4cyr0KhAuoG-FpwTIkwyO84E-OAX8bMOOvpTKoRZfwQA', '그랩부터갖다박음': 'XnPvz5G_VMDE_kE0mlMHUTynyJ9km4eGrqrPD4HewnEo-CQ', '평정심을 잃지마': 'd6XQBiWt38jbKexFZxu-WcJqziu707fs0EEPxiiyQVMdocU', '가을 하늘은 맑다': 'npXbo9zbspJPKu3LJh6wssE8hs66CPV_KQ1HXObllAo_IZ4', 'powder1': 'rYrxx-s2n7S2EG1tfBbyntCTHwgnB_OUKdZZ_vR83DxYPGY', 'GSJ': 'Ncp7A7h_yy9pb-esCDPa50MkIq-mBRyKcAz-RxZKLxWIIao', 'hzdx': 'YXX-jOza-2sThpvTaDiDuX4ZROHqxI8F9HUfwfpB_RTE_wCCuaQu6fyw4w', '9358asd': '7-l4LQYo5dJP6GBUiLk5x-pNZbS_7H8qiMJRwzcNUKSpWQ', 'Zankyosanka1': 'vCnMidkBY5yej87yMSBouwQQfKepOVAXGbGHH5tCVRc468BM08kJfmP_ag', 'Snowfly': 'HOxLmm3YKQV7AxZ44meGqJjIwoRfsu8Co2AzX4NFAApO3g4', 'zuihoudezhanyi': 'rDIgSGQOaVddt9IQWVxkjL6MpJsfnOmrkJVLmmjh0jeZNFYs_vpak-C4Sg', 'mute all start 1': 'lsoH1fA5ZLlTMGrW7wawbbk4Oyis7CqgC4MNH3wwM_RRaxs', '하늘색 안개꽃': 'yC-iUY-n7uLoux4OT57OSwvJ45rGuhOxp2Mn1I2Wy-ypbgk', 'Forgive': 'QQ0Q46gIHuaB9_hJutxB44fRkSQeKZ5BRjIsx8YVnn0xNsY', 'honas': 'gFbDCwi3_lAyDDhWe6wXmvLUfYELUlMJ9taXgctAWQruseaNtE_g3iP2eA', '갈 망 하다0': 'kLFWabUQCyp54a-dC2WW1QbPy-0cVbGrfzCyUZla-CqJ_3B4l1Dl7iMLjA', 'Turned to leave': 'S1-lJ2tuhEiJNAJQmm8cNtE4YWsldTnJtO3M2zeXBC10u72sqDJnqL8F6Q', '얼음동동포치타': 'CrTogn7liregkZ867QrceUbGk5vx4-HMqTqTVdvfpQgVfnx6RvcXwTzgTw', '내가홍기완': 'NjkBo4m7frjLpDrFjckjCfiOMrZa8SCWAiIFuu5wzKfYSQ', 'T1 Hunzi': 'KIQuxNf15t74wjc1yIlmYpRxXBF_XBVlHlh3JWjZPuapUSY', '아는척자제': 'VDv9jGBnHESnEEGU0YJTA0PK6uE7Oc5JTD3KNnm5Pl5Gac4', 'wobulijie': 'WJEMuG8ZoLb5EjVvPIxr45tDWaLNGzrbKw2-hdvN4mKmaOA', 'Zhuijizhe6': 'SGI8DSCBMbPkwZHmoPEfpg4A4lIBSbUH6VxXqJWeM2JR2oca', '익산 샤코': 'rYvsinifPwvvQLjSTyeLvEGquUvzqFr9r5AsuUqZxyrrIi4', '큐 지': 'pJ4kDsn5h2vAguXUh9PlOBbwOdRDre8r8A7y9zhdSws8YUo', '거리유지카이팅': '3uc0aqWAQEpyCj3XhJiChuQ7QwTruCmqXsVced6x4Gfq6ejGRYM4Q0kuNw', 'iliiliilillllili': 'XtsvmoJ7-W5yd6OvORiFdU08J02tK-uokHa5uh3n4TpZOQcXkBnuTf19Bw', '갓날드': 'axDmTev8hAuy8PGnJuUZMp5fRjX7VPCodxVCAVeUva_MbDU', 'MAD SCNTST': 'ysfiIdzZmH3JgAAWUd4f8e0bb-JKXATmRQWHoLt6C5c57g', 'World Line': '9JQaZ7I2JExhMCEK-F6jMWpqsc7kp2NQ2xtK-inmDGMdVHCy', 'level': 'XyQgOCZYs1YUEVSV71SItWZBviXhPB7SnL6MKenXwIEug2I', '선비는 아가야': 'hj8e9k6WZExTF9bgtxb13qbebNgNcCladwYdAuGrTvmtU0Huzz5Dni5Bhw', 'psss': 'QxSzVBJv___51oboFCsfph_1MdxExXC-BftefuKy9gEv5_VdCmYgg3e0KQ', '아라드': 'PZ9RwG5DCEsA46fX6ZV5zIdFwTWlsgHd7u9FTmy93GMqfNE', 'CHAN SAY': 'iNL_-J79z-ZsOYTNB7D-vWwm4i6hRFsi8fmO6zQgAtgr7w', 'xiaguang': 'Np63sbsYrCJvX9jIpxpOwN_mZ-9zJzLG2HDFdWnpP1j7Du4', 'Declare': 'N7x-kVmEAFePwK165beFXlD0yNgMYfoffjGMOWRPzDmn9dYyO80Yk_LUSw', '허징으리': 'prz8VzZI2Hzf2X3bfbUPNavWmjxBahPBTrauUE5ol8I-os-FDesbjKxhBw', 'Luv you': 'xLCH4X_7EzP5YtUk9YhBXur-fY0MvgHaxtpu0GKU33VFzS8', 'ecidcb': 'QFBeDumInfW_8dqCFE9TCWo-A_iLoCOP1bCjbkziOUpGs64', 'Introverted Ornn': 'GQ7o_U7MpGWb00LN7lN-0qCs2Mf-Kd9krH4f0UaCOQBqbWw', '한 줌의 여유': '4qVmPOqI-Zx2KhCL9uNuiFqePB7oKArEDBcZrBAp462k9Zs', '김건북극곰': 'N-SevOqEkUrMW6jf0MhBZzprrD__pUAVt80SN2lNeaaL68M', 'lv99 aggressive': 'NTTEsiTkTMAXrAdKIcPNbDJm9oyoxTiK8WeyCTWozMIfiKZ1admMrmgJFw', 'zl존정글짱고수': '3NvTL0AKxa7MljRbU5crombFvKabVmRa0Tvuy1v1GyfOMYc', '프로미엄': 'qF74ixZrJuGakAVefbaqM0V6RrcdL6pmhNZiH13Ducw0JkC9ySokE8o5XQ', '못 찌': '_cW6YnhuoQQwjMwZMMKPpKO4VZPdqbukHieFRJA8RqgCyHocFZbpZt_AIA', '나는 현성': 'mbO37kDt69RIL5tz7Y1ia1DGYUO38taSbxHuTQFYq_lX8Os', '스나킹': 'm-AGSb1qJ5QJoHeMoUfzXB1LqFqnM2qjemwujBYYAzbSDcP5yRyTo1N1yw', 'bsdadserwqewq': 'ykofQhRKZnlT0QyxEEZvqTlmHmtC3T1AlykTguo0IJs0kJU', '따 균 좌': '8B2ogfbY5g7rQ2SGZ4lVsyvPkXs_Gd0FO4FZkOfl0bOd9Sg', '개꼬공띠': 'h01ljEIHSCPoFXw3ibMpYIbw1oCqxdQtCaM9GqQHEVTh5Tc', 'qfwsaewqe231': 'pDdH7wIZ_z75W2-HWGCHfpxQl-fo2wEB7eehq-QqzMbrM_Q', 'HyunJunLee': 'U3qjh2nz5NqJyAHmHyJFARK1NxCYoMz73rJjBoFMKu5oqgY', 'cyr': 'ISad1Vr3VRhMcjkF-k8OD-UEwTmqg9NZOWFq7q0KWRIvo8_U', 'Talking sh1it': 'C80K0UVFCu6_WDaaWBWmXHHxNA_UhF7vj3dfjyRQT-OQN-smMYUsHQgfsQ', '피들연구실장': 'YX69nGXGBWTKw2eanyIo-xs7vAbW0O1fOrD01BNzT0zlxz4', '세준왕자': 'wQTNNrmv6z8535DQ6bJWqytbWeFtbJ4N5qxxrmye-oKdVvw', 'kkompplo': 'bXtTewv8ZrSup1GYJDqHkZOpQ87umlxlxz3xtNEfpyX4hq8', '뽀띠록': '_7H5VCekNwChhJF90YeWNtQEm6zqJ1Pn4F62BQ_h1N233Q', '143167947547': 'CmkDZ8nc0Q82okSllJyLNjwtxWbCzYbc5Ll5bp2LBrrG9KQue0mBu8V3Jw', '진짜 여기까지': 'HkiyEGIXd1TPx6X786DnHPabIF2PtMyCCrZ5mK0x6J-kP70', '불빛 계약': 'b0SgDDNcF2iTA06HjcFy3MpIbbtpzlxf-9oYN4_6ilM_V8k', 'IGqxz1378038730': 'rweBiCaO80iuLQfUkh0-flyiL1fCfgMJwntcMwq4wPu7hPVEOfyZapxGhw', '오산 정글러': '6YPMypzTAMvSxyHo2P9qZVQX-w3EPvBf-i73cbD8-gmZTRE', '드림 IBS 해법 ': 'sK3Ea1WJrEh0NRDwO42UyLvErYS5K2FTEgL5nE8kzoqxJQ', 'Cube desu': 'gIBeLdIML674XX_wFsbdVR2VRSrS5GAz-Un7bnguAKwaew', '다시 천천히': '2Vx9KoV7YZ1cWvM_M713c8Gx_s7nv_9HwYjaGfWBRe-z7cA', '빡 죠': 'Nz0d067Llz6WMLPE81BevM2BJDCLF4gwnO_qEZo3t6n6lQ', 'zhong men dui ju': 'sGaguwTZOXMPFqvJIXI5UqYxWviH8uPcpb6ORup8Dz1qIy-eGF23MOHXOA', '마지막시즌인사람': '-IR-9sfTyTamcNGvnfjexkrjJw8l-NslALu-hq_xjxMNXHQ', '도담동 차은우 ': 'EF2LjHVjDBSALOd9DH7Mw1kt68y3hlVhTKg8DNjFoy5KCiA', '의문의 애니 장인': 'eKDoBTnDvBf144Op2KcS2KOXd94v4gdmwQOQqkMsGlo4dbQ', '인생목표한남더힐': 'KZ0Ff8FVKd3f8JIP1Rbz-erDsxPzPhQoE10Jx-loWAVs-n8', '춘봉박': 'KmFZPlKp5ZiDzExvaZpg9SON5Lvy9KwijL7fYWsS3cysFw', 'Arkshan King': '61UMZLi3NAjwimZQAmSbLTUsEIZ-QDTHenKSljT-Mq6uzQ', 'lolabcd': '-KuAzXgyS9VXKizvJwSJukTwkBnJDwoCFyELKHBuEkRgR9mNlCRjpbVQqw', '어쩔바텀': 'E0scO2Mxwl2X8y1eOkB-jhiQ6sSl1TVaNtADjAvfZmsg4lkd5h-4IXmeCA', '2005MIDKING': 'otAe60yHb-sNmwLY9a5m6aBNChEJsFAGYCFoXeo6eYT70LA', 'T1 Asper': 'NEPkdDS-abY25TZEwMQRxlkENIq0DkAAWVyjXqKWjoq4Udw', '하체야제발이겨줘': 'UlehJlx4OkJIP_v6uMTYc-yml4vIAlITTlSbQcvoMKAc2h0', '김6도9경': 'ByXhOGYDD83D6oBz1DBsoVlJ_yvHfsZuEsUow8H4C_cLWyk', '기므태이': '1nzpr_FEXhcaV7r8L5S_PQ2QZa0AHmpK5hRiENZpnpbFrgE', 'Dive lnto Shine': 'r_3VYjJWY45VqengAf3O3VsDuo8YSFPKz6Lwrvk0biIMLg', '헤픈 만남': 'XujWqndbpcEvSTG3kXwIMAWvwOMaaRAKmtUMVAWRB1OFzPU', '잘먹구잘살기': 'j4sIgqr3zxHpyajiKCZNG3Ric_S9-Dl-nFUzgKwcNTQvnN5Fqq0Yrc3aAw', '새하얀 thigh': 'Q-cGo9-wonWaWinOR2XRiJpM6PAn-UKUvmenbMTDHKyrtg', 'wangzifeibo': 'kI25IyNU1VHtSLXJFgG-lA5iFeLO_mZzcoyYqxNJEbaN__9XexsL1deffQ', '튼튼껍질 청소부': 'Fl6rF8cHdL_-WSY0__0P7y-RIGa-dnazlck6uXZVaHoheB0', 'Try a3ain C1': 'SF5mAfcLo_AI9hlKH8ckqaukblfPLj4tAyRaHuPI10PHqsiGnRjQ-zi89w', '승 관 김': 'PhlisRzhClowX1QnsxIUud9cAK7gja7zy9iBjP74k3w50SU', 'zhendejiade': 'DTrBDKPeBLAE_sZbyF9MjsTNZnGA5sWkfNecH7x584e8YKI', '03 jg klng': 'bUV24wxrSAsfa8FLTRkyikgqCyqC4hyR44rAFs9w8vZuUd5jc1fS01n5LQ', '구갱쓰': 'uRPWR75oSEbLQ3nqIvliKZwi6YvQHg6BbTryDjxZIYK-qP8', 'zhangjiawen2022': 'mZWKaFm9iCO5ZHQh_5uqofw5TnIbaZxaCbId67LXcZZmdPmML_ROk0nz1A', '프롬더스트릿': '8IfqzLEp6ZpJMZKeSPZynVSDzipJnrkacHdPf2GzALjLUE8', '누누버스파업': 'LRXsQbirhzjd5NZUMSylI-KA88qJd7HRqWkq4Hph0duejg', 'C9 Winsome': '_RH0-arf4tq20tprOSP0g2tLE-hXi3c2MEHE_A3JP7WkTec', '엔마왓슨': 'Pr2jWdxYQnEntDnMfZUu8QeO_uTh8kSfZT5COIe4-yIpGvw', 'fantanfantan': 'STbW6d8efDdJoOEKHPZy6pwah-JOnKWCd57UPGi3mFQZnDBZBVhWebN_HA', '아프리카 짹준': '1egusehFuHuRJ81pXVcft-dYzdM34jFGoJjwzm_0qoZSGw', '이탈리야 전문점': 'phTmChAeuqDZA4ShFUtNSpucTczIAlDYFoL1bLT2dBm99ew', 'Eateevv': 'eq4Dchu0vQ4bmZ7iayj_u_2a_pmKWBcStfbSHmxjB6eKNLfkmMvu4U8VYg', '자살하자그냥': 'vELVjhyGWNmjSzraRIWRyOcFT0A0c_gwPVuNHzliUxXzrWo', '태 디 스 틱': 'vyEFPEF1QdF4eIhBUKMPKVkfMJQtv-u2rsJdkiT7-4VakMQW7JtsTH_Sfw', 'SuxinnBaby': 'U7A9vPwAajJXMtsCZNZgIjwGRs601bMlTaGrEwmN735E2cyg1E_Ts1k-Sg', 'Apriorism': '110Jkyv6YXlNCn2N_epwXfiE3hrPQdU_QfSAVeHoqGvaj_s', '트리플 딜도': 'FZDa808-7lYLb9a9z0CuQcHKjGL-ox5-yN9PlunxtD0ARs8BorvSZ9RJlQ', 'Shan Lan': 'FcV7yM7OwOnYSCDwSw5pVdlsbhWODKhXhQ5QX6IiXdfTc9U', '기발한 그브': 'C8ezQV7xQKjNjL5UwWXvAdgRg1ms32T_26UZcWwUxarybNLH2-1Fljn63A', 'sha Wza bazx': 'qJuU4C8N8Kue6ty7p80MF6KMKDMOAhD34sNGMpeopmpNMDI1ANnnpbiXTg', 'jiajun jg': 'YmzsXZAH5VZ60wRz4LrOkV4ByCq7V33QGy1Nw3QyhjCFEc8', '서폿아지켜줘야해': 'C7-NevNhQEVdUvXf24WBnrqSgbyPRUGNpmXslgx4IbaaLsS8lw8HHc2_OQ', 'love sheep': 'TOZUVnfykXnop908FB5Qq6Jon--lsCyFmsnll7fLg9B80ShSsDELcMoygQ', '좀비 클레드': 'imkNShz8uwrxPUN16wPmg03Z8e3kNwxO729742tO0xR0sFw', '버스전복자격증': 'MziCI00wkdcHexzTVt3Kjz0SYSk2cYG-zSZJbxhoFTkaaOE', '무채색의 한남자': 'JrgOQIhEiImY1jQsU8aT2eGWlw-oUOrLWC-hwG03d3biDObm'}\n"
     ]
    }
   ],
   "source": [
    "import requests\n",
    "import json\n",
    "import time\n",
    "import pprint\n",
    "import pandas as pd\n",
    "\n",
    "pp = pprint.PrettyPrinter(indent=4)\n",
    "request_header = {\n",
    "                    \"User-Agent\": \"Mozilla/5.0 (Windows NT 10.0; Win64; x64) AppleWebKit/537.36 (KHTML, like Gecko) Chrome/91.0.4472.164 Safari/537.36\",\n",
    "                    \"Accept-Language\": \"ko,en-US;q=0.9,en;q=0.8,es;q=0.7\",\n",
    "                    \"Accept-Charset\": \"application/x-www-form-urlencoded; charset=UTF-8\",\n",
    "                    \"Origin\": \"https://developer.riotgames.com\",\n",
    "                    \"X-Riot-Token\": 'RGAPI-13ad71e3-3996-477f-a27c-5245b4f8da33'\n",
    "                }\n",
    "\n",
    "# for문 진행률 확인 라이브러리\n",
    "from tqdm import tqdm\n",
    "\n",
    "#제공받은 라이브러리키 입력\n",
    "\n",
    "api_key = 'RGAPI-13ad71e3-3996-477f-a27c-5245b4f8da33'\n",
    "\n",
    "## 소환사의 ID수집\n",
    "url = 'https://kr.api.riotgames.com/lol/league/v4/masterleagues/by-queue/RANKED_SOLO_5x5?api_key=' + api_key\n",
    "\n",
    "summonerId = {}\n",
    "\n",
    "r = requests.get(url)\n",
    "r = r.json()['entries']#소환사의 고유 id\n",
    "# print(r.json())\n",
    "\n",
    "num = 0\n",
    "for i in r:\n",
    "#     print(i)\n",
    "#     print(i['summonerId'], i['summonerName'])\n",
    "    summonerId[i['summonerName']] = i['summonerId']\n",
    "\n",
    "    num += 1\n",
    "print(num)\n",
    "print(summonerId)"
   ]
  },
  {
   "cell_type": "code",
   "execution_count": null,
   "id": "01664b15",
   "metadata": {
    "id": "01664b15",
    "outputId": "a3ab6756-c145-4d76-a18f-0ee44bd40e8d",
    "scrolled": true
   },
   "outputs": [
    {
     "name": "stderr",
     "output_type": "stream",
     "text": [
      "  0%|                                          | 1/1695 [00:00<19:20,  1.46it/s]"
     ]
    },
    {
     "name": "stdout",
     "output_type": "stream",
     "text": [
      "fH2fD0GkhyRMeR9M_yqPoeXrcAPZ8X7ZutQ8c1T821pV0h5y6uyMUZ-qrUXrYBTa1Yv0ehNJ7nO5CA\n"
     ]
    },
    {
     "name": "stderr",
     "output_type": "stream",
     "text": [
      "\r",
      "  0%|                                          | 2/1695 [00:00<12:30,  2.25it/s]"
     ]
    },
    {
     "name": "stdout",
     "output_type": "stream",
     "text": [
      "uzwPA_cqiGA6P2Pkqqnmt1g5btjqRM-2uGrbbYP8qLbMO4Ro0quM4AwilFKimuXdFEaBMDQmrB5lsQ\n"
     ]
    },
    {
     "name": "stderr",
     "output_type": "stream",
     "text": [
      "\r",
      "  0%|                                          | 3/1695 [00:01<10:21,  2.72it/s]"
     ]
    },
    {
     "name": "stdout",
     "output_type": "stream",
     "text": [
      "zW_AzvZhZJXvV4xfnJfjf-7i5MQGyqhTDwyuoBAhVZydisFeSYMO7VIR2Y_8ZCPEF_Iwo11K_ZQieA\n"
     ]
    },
    {
     "name": "stderr",
     "output_type": "stream",
     "text": [
      "\r",
      "  0%|                                          | 4/1695 [00:01<09:19,  3.02it/s]"
     ]
    },
    {
     "name": "stdout",
     "output_type": "stream",
     "text": [
      "Gpcyxdb4cwcG5YobbkjBzpRAZhxJiNDQBaBGxcwwbyr2Xc-T0ZmdJwlML19Csn7q8EYiU7zKLCRwWA\n"
     ]
    },
    {
     "name": "stderr",
     "output_type": "stream",
     "text": [
      "\r",
      "  0%|                                          | 5/1695 [00:02<12:49,  2.19it/s]"
     ]
    },
    {
     "name": "stdout",
     "output_type": "stream",
     "text": [
      "i7NSuw8AfWblj3da3b2EdIz4D7N-ME8qZ022hnlveA7Lku00k-4DejACieBlBkKOMYXEetQIugLObQ\n"
     ]
    },
    {
     "name": "stderr",
     "output_type": "stream",
     "text": [
      "\r",
      "  0%|▏                                         | 6/1695 [00:02<13:14,  2.13it/s]"
     ]
    },
    {
     "name": "stdout",
     "output_type": "stream",
     "text": [
      "x3wCtpCw4cC2A7aB57pPsmKF-fLdribj_hA_0lPKCo17x9cFEXwYhCL3TyUdg6DLstfOOr9bxnm0nw\n"
     ]
    },
    {
     "name": "stderr",
     "output_type": "stream",
     "text": [
      "\r",
      "  0%|▏                                         | 7/1695 [00:02<11:36,  2.42it/s]"
     ]
    },
    {
     "name": "stdout",
     "output_type": "stream",
     "text": [
      "QDAvfKQ8rVylaVYmwDlZnbPILSn49BkbZjGXXfiKFGuKDX1zUZ8BzipiQLnYyUiF2jPwQVFPl9oo0w\n"
     ]
    },
    {
     "name": "stderr",
     "output_type": "stream",
     "text": [
      "\r",
      "  0%|▏                                         | 8/1695 [00:03<10:32,  2.67it/s]"
     ]
    },
    {
     "name": "stdout",
     "output_type": "stream",
     "text": [
      "t1x9AzVDQakRAFRzqR16vY_BCkjmQhxxONCIxd8QTNDf4E54SO1bcQJp3qBMk3OuzGTJ2nKSVtOjaA\n"
     ]
    },
    {
     "name": "stderr",
     "output_type": "stream",
     "text": [
      "\r",
      "  1%|▏                                         | 9/1695 [00:03<09:42,  2.89it/s]"
     ]
    },
    {
     "name": "stdout",
     "output_type": "stream",
     "text": [
      "8HzQ9lzGj0E-9TMJGiWfNQSbYCwyRFLUQu3W_vkVCbKu5dAznxhIsRzSUEYtBYg5fyFpZ0LKPukVSg\n"
     ]
    },
    {
     "name": "stderr",
     "output_type": "stream",
     "text": [
      "\r",
      "  1%|▏                                        | 10/1695 [00:03<09:10,  3.06it/s]"
     ]
    },
    {
     "name": "stdout",
     "output_type": "stream",
     "text": [
      "c_sKGZ0-wVmHJtYFfWagjodZryuem7TUFiWHAYoMIbAG3m_3NK80zjFGz5TrSUnUpUk8bnyikkDc1Q\n",
      "api cost full : infinite loop start\n",
      "loop location :  ikWLlCm7U9qqoHMThjxAeB82lAIVGUrsJGtvbnxD1xteDAk\n",
      "try 10 second wait time\n",
      "429\n",
      "try 10 second wait time\n",
      "429\n",
      "try 10 second wait time\n",
      "429\n",
      "try 10 second wait time\n"
     ]
    }
   ],
   "source": [
    "accountId = {}\n",
    "\n",
    "for i,j in zip(tqdm(summonerId.values()),summonerId.keys()):\n",
    "    url2 = 'https://kr.api.riotgames.com/lol/summoner/v4/summoners/' + i + '?api_key=' + api_key\n",
    "    r = requests.get(url2)\n",
    "    \n",
    "    if r.status_code == 200: # response가 정상이면 바로 맨 밑으로 이동하여 정상적으로 코드 실행\n",
    "        pass\n",
    "    \n",
    "    elif r.status_code == 429:\n",
    "        print('api cost full : infinite loop start')\n",
    "        print('loop location : ',i)\n",
    "        start_time = time.time()\n",
    "        \n",
    "        while True: # 429error가 끝날 때까지 무한 루프\n",
    "            if r.status_code == 429:\n",
    "\n",
    "                print('try 10 second wait time')\n",
    "                time.sleep(10)\n",
    "\n",
    "                r = requests.get(url2)\n",
    "                print(r.status_code)\n",
    "\n",
    "            elif r.status_code == 200: #다시 response 200이면 loop escape\n",
    "                print('total wait time : ', time.time() - start_time)\n",
    "                print('recovery api cost')\n",
    "                break\n",
    "    \n",
    "    r = r.json()['puuid']\n",
    "    print(r)\n",
    "    accountId[j] = r"
   ]
  },
  {
   "cell_type": "code",
   "execution_count": 10,
   "id": "98309488",
   "metadata": {
    "id": "98309488",
    "outputId": "be2ead4b-cf6f-4811-da1c-603667770f5b",
    "scrolled": true
   },
   "outputs": [
    {
     "name": "stderr",
     "output_type": "stream",
     "text": [
      " 19%|███████▊                                  | 41/220 [00:32<01:49,  1.64it/s]"
     ]
    },
    {
     "name": "stdout",
     "output_type": "stream",
     "text": [
      "api cost full : infinite loop start\n",
      "loop location :  1_m_DDfoDDnfmhij3uMLPMeYp5aW-Isgq_i1YBczWASp1JRWZnFaTvpDfVJMePjJfyoRgrqz1lDDBg\n",
      "try 10 second wait time\n",
      "429\n",
      "try 10 second wait time\n",
      "200\n",
      "total wait time :  20.52689290046692\n",
      "recovery api cost\n"
     ]
    },
    {
     "name": "stderr",
     "output_type": "stream",
     "text": [
      " 41%|█████████████████▎                        | 91/220 [01:28<01:48,  1.19it/s]"
     ]
    },
    {
     "name": "stdout",
     "output_type": "stream",
     "text": [
      "api cost full : infinite loop start\n",
      "loop location :  uP4WMlmIGW7KTfekxpz10Q_kbT-3f2xYL-8B7_HwICF2LRJLpOHtZreer-V6MCTXmj3-hY-8_Q4sIA\n",
      "try 10 second wait time\n",
      "429\n",
      "try 10 second wait time\n",
      "429\n",
      "try 10 second wait time\n",
      "429\n",
      "try 10 second wait time\n",
      "429\n",
      "try 10 second wait time\n",
      "429\n",
      "try 10 second wait time\n",
      "429\n",
      "try 10 second wait time\n",
      "429\n",
      "try 10 second wait time\n",
      "429\n",
      "try 10 second wait time\n",
      "200\n",
      "total wait time :  92.804270029068\n",
      "recovery api cost\n"
     ]
    },
    {
     "name": "stderr",
     "output_type": "stream",
     "text": [
      " 64%|██████████████████████████▎              | 141/220 [03:35<00:51,  1.54it/s]"
     ]
    },
    {
     "name": "stdout",
     "output_type": "stream",
     "text": [
      "api cost full : infinite loop start\n",
      "loop location :  s6z-WTsxvUEPzwmBez2hY5cxNfXWsV5PkrcXhmzWqoADnD_7kJP42iTIFPonrgR4oPKmLGi1riLQsw\n",
      "try 10 second wait time\n",
      "429\n",
      "try 10 second wait time\n",
      "429\n",
      "try 10 second wait time\n",
      "429\n",
      "try 10 second wait time\n",
      "429\n",
      "try 10 second wait time\n",
      "429\n",
      "try 10 second wait time\n",
      "429\n",
      "try 10 second wait time\n",
      "429\n",
      "try 10 second wait time\n",
      "429\n",
      "try 10 second wait time\n",
      "200\n",
      "total wait time :  93.74163508415222\n",
      "recovery api cost\n"
     ]
    },
    {
     "name": "stderr",
     "output_type": "stream",
     "text": [
      " 87%|███████████████████████████████████▌     | 191/220 [05:42<00:21,  1.36it/s]"
     ]
    },
    {
     "name": "stdout",
     "output_type": "stream",
     "text": [
      "api cost full : infinite loop start\n",
      "loop location :  cdKr_qcF5ahbUmjRYkVhOV-G5xdaobh7Fwc7eRQJDD6Ov-WNmTPvDLF0ABcIA0pWyTpuGKBuOURmSQ\n",
      "try 10 second wait time\n",
      "429\n",
      "try 10 second wait time\n",
      "429\n",
      "try 10 second wait time\n",
      "429\n",
      "try 10 second wait time\n",
      "429\n",
      "try 10 second wait time\n",
      "429\n",
      "try 10 second wait time\n",
      "429\n",
      "try 10 second wait time\n",
      "429\n",
      "try 10 second wait time\n",
      "429\n",
      "try 10 second wait time\n",
      "200\n",
      "total wait time :  92.87337398529053\n",
      "recovery api cost\n"
     ]
    },
    {
     "name": "stderr",
     "output_type": "stream",
     "text": [
      "100%|█████████████████████████████████████████| 220/220 [07:38<00:00,  2.08s/it]\n"
     ]
    }
   ],
   "source": [
    "gameId = set() #중복된 게임 제거를 위한 set 함수\n",
    "\n",
    "# url3 = 'https://kr.api.riotgames.com/lol/match/v4/matchlists/by-account/hqMv8JiT0hjKc96iqUz9ucXFPgsENmbI_5OHPmlyVOCZxwE?queue=420&api_key=RGAPI-e456f533-671c-4947-b960-98443960695b'\n",
    "\n",
    "for i in tqdm(accountId.values()):\n",
    "    url3 = 'https://asia.api.riotgames.com/lol/match/v5/matches/by-puuid/'+ i +'/ids?start=1&count=20'\n",
    "    r = requests.get(url3, headers=request_header)\n",
    "    \n",
    "    if r.status_code == 200: # response가 정상이면 바로 맨 밑으로 이동하여 정상적으로 코드 실행\n",
    "        pass\n",
    "    \n",
    "    elif r.status_code == 429:\n",
    "        print('api cost full : infinite loop start')\n",
    "        print('loop location : ',i)\n",
    "        start_time = time.time()\n",
    "        \n",
    "        while True: # 429error가 끝날 때까지 무한 루프\n",
    "            if r.status_code == 429:\n",
    "\n",
    "                print('try 10 second wait time')\n",
    "                time.sleep(10)\n",
    "\n",
    "                r = requests.get(url3, headers=request_header)\n",
    "                print(r.status_code)\n",
    "\n",
    "            elif r.status_code == 200: #다시 response 200이면 loop escape\n",
    "                print('total wait time : ', time.time() - start_time)\n",
    "                print('recovery api cost')\n",
    "                break\n",
    "                \n",
    "    r = requests.get(url3, headers=request_header).json() # 해당 게이머의 최근 20경기\n",
    "    for count in range(len(r)): #gameId에 저장\n",
    "        gameId.add(r[count])"
   ]
  },
  {
   "cell_type": "code",
   "execution_count": 13,
   "id": "c528dd2a",
   "metadata": {},
   "outputs": [],
   "source": [
    "gameId_challanger = pd.DataFrame(columns = ['gameId'])"
   ]
  },
  {
   "cell_type": "code",
   "execution_count": 18,
   "id": "9b7f8277",
   "metadata": {},
   "outputs": [],
   "source": [
    "gameId = list(gameId)\n",
    "for i in range(len(gameId)):\n",
    "    input_data = {'gameId' : gameId[i]}\n",
    "    gameId_challanger.append(input_data, ignore_index = True)"
   ]
  },
  {
   "cell_type": "code",
   "execution_count": 19,
   "id": "0980ad0c",
   "metadata": {
    "id": "0980ad0c",
    "outputId": "fe95a256-f11b-42a0-b12a-531e130fb5d1",
    "scrolled": false
   },
   "outputs": [],
   "source": [
    "gameId_challanger.to_csv(\"gameId_challanger.csv\", header=True, index = False)"
   ]
  },
  {
   "cell_type": "code",
   "execution_count": null,
   "id": "fab9530a",
   "metadata": {
    "id": "fab9530a"
   },
   "outputs": [],
   "source": [
    "match_grandmaster = pd.DataFrame(columns = ['teamId','win','firstBlood','firstTower','firstInhibitor','firstBaron','firstDragon','firstRiftHerald','championKills', 'towerKills','inhibitorKills','baronKills','dragonKills','riftHeraldKills','bans','gameId'])"
   ]
  },
  {
   "cell_type": "code",
   "execution_count": null,
   "id": "4593122b",
   "metadata": {
    "id": "4593122b",
    "outputId": "b0f577fc-7a6f-4ebe-ef41-fc0f1981fe30"
   },
   "outputs": [
    {
     "name": "stderr",
     "output_type": "stream",
     "text": [
      "100%|████████████████████████████████████████████████████████████████████████████████████| 6/6 [00:03<00:00,  1.89it/s]\n"
     ]
    }
   ],
   "source": [
    "num = 0\n",
    "\n",
    "for a in tqdm(range(len(gameId))):\n",
    "    for b in range(len(gameId[a])):\n",
    "                \n",
    "        url4 =  'https://asia.api.riotgames.com/lol/match/v5/matches/' + str(gameId[a][b])\n",
    "        r = requests.get(url4,headers = request_header)\n",
    "        \n",
    "                \n",
    "        if r.status_code == 200: # response가 정상이면 바로 맨 밑으로 이동하여 정상적으로 코드 실행\n",
    "            pass\n",
    "\n",
    "        elif r.status_code == 429:\n",
    "            print('api cost full : infinite loop start')\n",
    "            print('loop location : ',i)\n",
    "            start_time = time.time()\n",
    "    \n",
    "            while True: # 429error가 끝날 때까지 무한 루프\n",
    "                if r.status_code == 429:\n",
    "\n",
    "                    print('try 10 second wait time')\n",
    "                    time.sleep(10)\n",
    "\n",
    "                    r = requests.get(url4, headers = request_header)\n",
    "                    print(r.status_code)\n",
    "\n",
    "                elif r.status_code == 200: #다시 response 200이면 loop escape\n",
    "                    print('total wait time : ', time.time() - start_time)\n",
    "                    print('recovery api cost')\n",
    "                    break\n",
    "                    \n",
    "        r = requests.get(url4, headers = request_header).json()          \n",
    "        \n",
    "        try:\n",
    "            if r['info']['gameMode'] == 'CLASSIC':\n",
    "                for i in [0,1]:\n",
    "                    if r['info']['teams'][i]['win'] == False:\n",
    "                            input_data = {\n",
    "                                'teamId': str(r['info']['teams'][i]['teamId']),\n",
    "                                'win':r['info']['teams'][i]['win'],\n",
    "                                'firstBlood':r['info']['teams'][i]['objectives']['champion']['first'],\n",
    "                                'firstTower':r['info']['teams'][i]['objectives']['tower']['first'],\n",
    "                                'firstInhibitor':r['info']['teams'][i]['objectives']['inhibitor']['first'],\n",
    "                                'firstBaron':r['info']['teams'][i]['objectives']['baron']['first'],\n",
    "                                'firstDragon':r['info']['teams'][i]['objectives']['dragon']['first'],\n",
    "                                'firstRiftHerald':r['info']['teams'][i]['objectives']['riftHerald']['first'],\n",
    "                                'championKills' : r['info']['teams'][i]['objectives']['champion']['kills'],\n",
    "                                'towerKills':r['info']['teams'][i]['objectives']['tower']['kills'],\n",
    "                                'inhibitorKills':r['info']['teams'][i]['objectives']['inhibitor']['kills'],\n",
    "                                'baronKills':r['info']['teams'][i]['objectives']['baron']['kills'],\n",
    "                                'dragonKills':r['info']['teams'][i]['objectives']['dragon']['kills'],\n",
    "                                'riftHeraldKills':r['info']['teams'][i]['objectives']['riftHerald']['kills'],\n",
    "                                'bans' :r['info']['teams'][i]['bans'],\n",
    "                                'gameId': gameId[a][b]\n",
    "                            }\n",
    "\n",
    "                            match_grandmaster = match_grandmaster.append(input_data, ignore_index = True)\n",
    "                            \n",
    "                    elif r['info']['teams'][i]['win'] == True:\n",
    "                            input_data = {\n",
    "                                'teamId': str(r['info']['teams'][i]['teamId']),\n",
    "                                'win':r['info']['teams'][i]['win'],\n",
    "                                'firstBlood':r['info']['teams'][i]['objectives']['champion']['first'],\n",
    "                                'firstTower':r['info']['teams'][i]['objectives']['tower']['first'],\n",
    "                                'firstInhibitor':r['info']['teams'][i]['objectives']['inhibitor']['first'],\n",
    "                                'firstBaron':r['info']['teams'][i]['objectives']['baron']['first'],\n",
    "                                'firstDragon':r['info']['teams'][i]['objectives']['dragon']['first'],\n",
    "                                'firstRiftHerald':r['info']['teams'][i]['objectives']['riftHerald']['first'],\n",
    "                                'championKills' : r['info']['teams'][i]['objectives']['champion']['kills'],\n",
    "                                'towerKills':r['info']['teams'][i]['objectives']['tower']['kills'],\n",
    "                                'inhibitorKills':r['info']['teams'][i]['objectives']['inhibitor']['kills'],\n",
    "                                'baronKills':r['info']['teams'][i]['objectives']['baron']['kills'],\n",
    "                                'dragonKills':r['info']['teams'][i]['objectives']['dragon']['kills'],\n",
    "                                'riftHeraldKills':r['info']['teams'][i]['objectives']['riftHerald']['kills'],\n",
    "                                'bans' :r['info']['teams'][i]['bans'],\n",
    "                                'gameId': gameId[a][b]\n",
    "                            }\n",
    "                                \n",
    "\n",
    "                            match_grandmaster = match_grandmaster.append(input_data, ignore_index = True)\n",
    "    \n",
    "        except:\n",
    "            print(\"403 에러.api 만료\")"
   ]
  },
  {
   "cell_type": "code",
   "execution_count": null,
   "id": "0727b303",
   "metadata": {
    "id": "0727b303",
    "outputId": "63506949-04e7-4c8f-d122-69fc35160016"
   },
   "outputs": [
    {
     "data": {
      "text/html": [
       "<div>\n",
       "<style scoped>\n",
       "    .dataframe tbody tr th:only-of-type {\n",
       "        vertical-align: middle;\n",
       "    }\n",
       "\n",
       "    .dataframe tbody tr th {\n",
       "        vertical-align: top;\n",
       "    }\n",
       "\n",
       "    .dataframe thead th {\n",
       "        text-align: right;\n",
       "    }\n",
       "</style>\n",
       "<table border=\"1\" class=\"dataframe\">\n",
       "  <thead>\n",
       "    <tr style=\"text-align: right;\">\n",
       "      <th></th>\n",
       "      <th>teamId</th>\n",
       "      <th>win</th>\n",
       "      <th>firstBlood</th>\n",
       "      <th>firstTower</th>\n",
       "      <th>firstInhibitor</th>\n",
       "      <th>firstBaron</th>\n",
       "      <th>firstDragon</th>\n",
       "      <th>firstRiftHerald</th>\n",
       "      <th>championKills</th>\n",
       "      <th>towerKills</th>\n",
       "      <th>inhibitorKills</th>\n",
       "      <th>baronKills</th>\n",
       "      <th>dragonKills</th>\n",
       "      <th>riftHeraldKills</th>\n",
       "      <th>bans</th>\n",
       "      <th>gameId</th>\n",
       "    </tr>\n",
       "  </thead>\n",
       "  <tbody>\n",
       "    <tr>\n",
       "      <th>0</th>\n",
       "      <td>100</td>\n",
       "      <td>True</td>\n",
       "      <td>False</td>\n",
       "      <td>True</td>\n",
       "      <td>True</td>\n",
       "      <td>False</td>\n",
       "      <td>False</td>\n",
       "      <td>True</td>\n",
       "      <td>40</td>\n",
       "      <td>8</td>\n",
       "      <td>2</td>\n",
       "      <td>1</td>\n",
       "      <td>1</td>\n",
       "      <td>1</td>\n",
       "      <td>[{'championId': 711, 'pickTurn': 1}, {'champio...</td>\n",
       "      <td>KR_5685811134</td>\n",
       "    </tr>\n",
       "    <tr>\n",
       "      <th>1</th>\n",
       "      <td>200</td>\n",
       "      <td>False</td>\n",
       "      <td>True</td>\n",
       "      <td>False</td>\n",
       "      <td>False</td>\n",
       "      <td>True</td>\n",
       "      <td>True</td>\n",
       "      <td>False</td>\n",
       "      <td>42</td>\n",
       "      <td>9</td>\n",
       "      <td>4</td>\n",
       "      <td>2</td>\n",
       "      <td>5</td>\n",
       "      <td>1</td>\n",
       "      <td>[{'championId': -1, 'pickTurn': 6}, {'champion...</td>\n",
       "      <td>KR_5685811134</td>\n",
       "    </tr>\n",
       "    <tr>\n",
       "      <th>2</th>\n",
       "      <td>100</td>\n",
       "      <td>True</td>\n",
       "      <td>True</td>\n",
       "      <td>True</td>\n",
       "      <td>True</td>\n",
       "      <td>True</td>\n",
       "      <td>True</td>\n",
       "      <td>False</td>\n",
       "      <td>28</td>\n",
       "      <td>10</td>\n",
       "      <td>2</td>\n",
       "      <td>1</td>\n",
       "      <td>1</td>\n",
       "      <td>1</td>\n",
       "      <td>[{'championId': 64, 'pickTurn': 1}, {'champion...</td>\n",
       "      <td>KR_5684039329</td>\n",
       "    </tr>\n",
       "    <tr>\n",
       "      <th>3</th>\n",
       "      <td>200</td>\n",
       "      <td>False</td>\n",
       "      <td>False</td>\n",
       "      <td>False</td>\n",
       "      <td>False</td>\n",
       "      <td>False</td>\n",
       "      <td>False</td>\n",
       "      <td>True</td>\n",
       "      <td>16</td>\n",
       "      <td>2</td>\n",
       "      <td>0</td>\n",
       "      <td>0</td>\n",
       "      <td>3</td>\n",
       "      <td>1</td>\n",
       "      <td>[{'championId': 154, 'pickTurn': 6}, {'champio...</td>\n",
       "      <td>KR_5684039329</td>\n",
       "    </tr>\n",
       "    <tr>\n",
       "      <th>4</th>\n",
       "      <td>100</td>\n",
       "      <td>True</td>\n",
       "      <td>True</td>\n",
       "      <td>True</td>\n",
       "      <td>True</td>\n",
       "      <td>False</td>\n",
       "      <td>True</td>\n",
       "      <td>True</td>\n",
       "      <td>29</td>\n",
       "      <td>8</td>\n",
       "      <td>1</td>\n",
       "      <td>0</td>\n",
       "      <td>1</td>\n",
       "      <td>2</td>\n",
       "      <td>[{'championId': 89, 'pickTurn': 1}, {'champion...</td>\n",
       "      <td>KR_5686407086</td>\n",
       "    </tr>\n",
       "    <tr>\n",
       "      <th>5</th>\n",
       "      <td>200</td>\n",
       "      <td>False</td>\n",
       "      <td>False</td>\n",
       "      <td>False</td>\n",
       "      <td>False</td>\n",
       "      <td>False</td>\n",
       "      <td>False</td>\n",
       "      <td>False</td>\n",
       "      <td>19</td>\n",
       "      <td>2</td>\n",
       "      <td>0</td>\n",
       "      <td>0</td>\n",
       "      <td>0</td>\n",
       "      <td>0</td>\n",
       "      <td>[{'championId': 58, 'pickTurn': 6}, {'champion...</td>\n",
       "      <td>KR_5686407086</td>\n",
       "    </tr>\n",
       "    <tr>\n",
       "      <th>6</th>\n",
       "      <td>100</td>\n",
       "      <td>False</td>\n",
       "      <td>False</td>\n",
       "      <td>True</td>\n",
       "      <td>False</td>\n",
       "      <td>False</td>\n",
       "      <td>True</td>\n",
       "      <td>True</td>\n",
       "      <td>36</td>\n",
       "      <td>4</td>\n",
       "      <td>0</td>\n",
       "      <td>0</td>\n",
       "      <td>2</td>\n",
       "      <td>2</td>\n",
       "      <td>[{'championId': 76, 'pickTurn': 1}, {'champion...</td>\n",
       "      <td>KR_5685150228</td>\n",
       "    </tr>\n",
       "    <tr>\n",
       "      <th>7</th>\n",
       "      <td>200</td>\n",
       "      <td>True</td>\n",
       "      <td>True</td>\n",
       "      <td>False</td>\n",
       "      <td>True</td>\n",
       "      <td>True</td>\n",
       "      <td>False</td>\n",
       "      <td>False</td>\n",
       "      <td>34</td>\n",
       "      <td>10</td>\n",
       "      <td>2</td>\n",
       "      <td>1</td>\n",
       "      <td>2</td>\n",
       "      <td>0</td>\n",
       "      <td>[{'championId': 51, 'pickTurn': 6}, {'champion...</td>\n",
       "      <td>KR_5685150228</td>\n",
       "    </tr>\n",
       "    <tr>\n",
       "      <th>8</th>\n",
       "      <td>100</td>\n",
       "      <td>True</td>\n",
       "      <td>False</td>\n",
       "      <td>True</td>\n",
       "      <td>True</td>\n",
       "      <td>False</td>\n",
       "      <td>True</td>\n",
       "      <td>True</td>\n",
       "      <td>35</td>\n",
       "      <td>6</td>\n",
       "      <td>1</td>\n",
       "      <td>0</td>\n",
       "      <td>2</td>\n",
       "      <td>2</td>\n",
       "      <td>[{'championId': -1, 'pickTurn': 1}, {'champion...</td>\n",
       "      <td>KR_5685771909</td>\n",
       "    </tr>\n",
       "    <tr>\n",
       "      <th>9</th>\n",
       "      <td>200</td>\n",
       "      <td>False</td>\n",
       "      <td>True</td>\n",
       "      <td>False</td>\n",
       "      <td>False</td>\n",
       "      <td>False</td>\n",
       "      <td>False</td>\n",
       "      <td>False</td>\n",
       "      <td>15</td>\n",
       "      <td>0</td>\n",
       "      <td>0</td>\n",
       "      <td>0</td>\n",
       "      <td>0</td>\n",
       "      <td>0</td>\n",
       "      <td>[{'championId': 104, 'pickTurn': 6}, {'champio...</td>\n",
       "      <td>KR_5685771909</td>\n",
       "    </tr>\n",
       "  </tbody>\n",
       "</table>\n",
       "</div>"
      ],
      "text/plain": [
       "  teamId    win firstBlood firstTower firstInhibitor firstBaron firstDragon  \\\n",
       "0    100   True      False       True           True      False       False   \n",
       "1    200  False       True      False          False       True        True   \n",
       "2    100   True       True       True           True       True        True   \n",
       "3    200  False      False      False          False      False       False   \n",
       "4    100   True       True       True           True      False        True   \n",
       "5    200  False      False      False          False      False       False   \n",
       "6    100  False      False       True          False      False        True   \n",
       "7    200   True       True      False           True       True       False   \n",
       "8    100   True      False       True           True      False        True   \n",
       "9    200  False       True      False          False      False       False   \n",
       "\n",
       "  firstRiftHerald championKills towerKills inhibitorKills baronKills  \\\n",
       "0            True            40          8              2          1   \n",
       "1           False            42          9              4          2   \n",
       "2           False            28         10              2          1   \n",
       "3            True            16          2              0          0   \n",
       "4            True            29          8              1          0   \n",
       "5           False            19          2              0          0   \n",
       "6            True            36          4              0          0   \n",
       "7           False            34         10              2          1   \n",
       "8            True            35          6              1          0   \n",
       "9           False            15          0              0          0   \n",
       "\n",
       "  dragonKills riftHeraldKills  \\\n",
       "0           1               1   \n",
       "1           5               1   \n",
       "2           1               1   \n",
       "3           3               1   \n",
       "4           1               2   \n",
       "5           0               0   \n",
       "6           2               2   \n",
       "7           2               0   \n",
       "8           2               2   \n",
       "9           0               0   \n",
       "\n",
       "                                                bans         gameId  \n",
       "0  [{'championId': 711, 'pickTurn': 1}, {'champio...  KR_5685811134  \n",
       "1  [{'championId': -1, 'pickTurn': 6}, {'champion...  KR_5685811134  \n",
       "2  [{'championId': 64, 'pickTurn': 1}, {'champion...  KR_5684039329  \n",
       "3  [{'championId': 154, 'pickTurn': 6}, {'champio...  KR_5684039329  \n",
       "4  [{'championId': 89, 'pickTurn': 1}, {'champion...  KR_5686407086  \n",
       "5  [{'championId': 58, 'pickTurn': 6}, {'champion...  KR_5686407086  \n",
       "6  [{'championId': 76, 'pickTurn': 1}, {'champion...  KR_5685150228  \n",
       "7  [{'championId': 51, 'pickTurn': 6}, {'champion...  KR_5685150228  \n",
       "8  [{'championId': -1, 'pickTurn': 1}, {'champion...  KR_5685771909  \n",
       "9  [{'championId': 104, 'pickTurn': 6}, {'champio...  KR_5685771909  "
      ]
     },
     "execution_count": 11,
     "metadata": {},
     "output_type": "execute_result"
    }
   ],
   "source": [
    "match_grandmaster"
   ]
  },
  {
   "cell_type": "code",
   "execution_count": null,
   "id": "77d5838a",
   "metadata": {
    "id": "77d5838a"
   },
   "outputs": [],
   "source": [
    "match_grandmaster.to_csv(\"match_challanger.csv\", header=True, index = False)"
   ]
  },
  {
   "cell_type": "code",
   "execution_count": null,
   "id": "6c0dbffb",
   "metadata": {
    "id": "6c0dbffb"
   },
   "outputs": [],
   "source": []
  }
 ],
 "metadata": {
  "colab": {
   "name": "GrandmasterData.ipynb",
   "provenance": []
  },
  "kernelspec": {
   "display_name": "Python 3 (ipykernel)",
   "language": "python",
   "name": "python3"
  },
  "language_info": {
   "codemirror_mode": {
    "name": "ipython",
    "version": 3
   },
   "file_extension": ".py",
   "mimetype": "text/x-python",
   "name": "python",
   "nbconvert_exporter": "python",
   "pygments_lexer": "ipython3",
   "version": "3.9.7"
  }
 },
 "nbformat": 4,
 "nbformat_minor": 5
}
