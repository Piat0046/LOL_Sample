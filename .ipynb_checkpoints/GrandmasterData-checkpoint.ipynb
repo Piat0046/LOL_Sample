{
 "cells": [
  {
   "cell_type": "code",
   "execution_count": 1,
   "id": "f04bc266",
   "metadata": {
    "id": "f04bc266",
    "outputId": "ea136cc4-4591-4de6-91ce-81fc49b9bfbf"
   },
   "outputs": [
    {
     "name": "stdout",
     "output_type": "stream",
     "text": [
      "220\n",
      "{'더블큐티준서버거': 'PesfrXvzKoMj9pY2c9CFetI4sPxMn8yWvv1ggvkEAwfqzQE', '엉덩국 갱승제로': 'pQPtDo1LA7DnSIyPErGQE96nzonfY7U0Dewz-Yt5ItR2Vw', '룡식2': '9nwXRbISviVJnkKrhgsn9zhhNJR4KgCvs6WsvYtZndVlwpY', 'DK Rahel': '-KL3r8UvA5vhxxmbqwb_Bx7tP1JHOc8GV4DTLISA2rn3O6I', 'bilibili23918786': 'Z7hYY_eh4BPrQxSXekywdkGRaDFZ7dGNqyAs1ndzIWeY1aLRNVnEhxSnSw', '부드러운계란과자': '0Y8CU3U75d_EGFPIK4oPeUdql6PKKqZoZQKUszxZSZhItw', '버기해적단 버기': '3NL-gojrkIt9N34TNSBo4w33xkOBYc-Me-xNFri3bK33doo', 'Top clown': 'SOS5nn5P7kTI64Q7NKpW-PRTBI6G-loeYlhoIhrY0pznt2c5oaOy0u4ZCA', '부커1': '8tX5mmyTc1OcwyQm4lvNAWwzmOSNv7F6cJgerpk99Qfv9ne6jRdvwuJoMQ', '나이트퓨리의선물': 'vQpQOhHAVdE91PipN7Qj1eAzYFDh_slxPlgPJyazhVx7UbY', '어상내하': 'm5APQID89cMTP31eOqK6rg2ME8uu3wkIstIGMwpuGSzDWiD8ThGS5BUEug', '전설이 될 남자': 'c70q0Zrcg2byFxZy8vuJoUq0CaUdCDDPlkyeODv0IUajpU4', 'Twitch Tv 근성맨': 'qVfXQb2j14eMA_upHiyODRwOt8ORrixclVtSbJBU2poSvT39', 'NS Sylvie': 'K67eLe6x5uvVFcuA2EVVYKHc5dj7L6vok6X3aAqI5teYeZA', '지훈백크': '4b_BaTq2t2QKUfDhm6hL5WVNcdiDY07PBSDrEr8aYKU_UEs3WUV0AnsfqQ', 'jkjkjkjkk': 'ywtlw1kgmnzWEwzXIBhEpWUhPt9Sd48EdVPkHri4pKv9IQY', '유튜브 야망': '-HwaF-JHCyT4g7gbEK3zriD2apDcDuP14XbRrS6npF6Hsz0Wa9IpJUZ6-w', 'By 불비': 'PFhYnq3BYXOHgAF7YEW28EdmvrvW6fLCsWU6_PlEShL_wvs', 'HLE OnFleek': 'X6RrMyMPNRIhff2_Ydad0mlvAlycSGQPMgX1KmomK2GoKRE', 'Chancedong': 'jnDECxXIUeJTOQp7kTTX1d8D2GwxAyfvNlmDJAOVbVi2-8A', 'JUNGIE GOD 12': 'i43v7RR1XnnfzK6pj0gOECoO-OkHux7AAcfERHYsBGcT_t_Oy6AvxS9O1g', 'tianqizhizi': '5JGQMQkY58p30ENyvAaAtS_NCUI0kp28fwBdeKnxzMFwR5vWFv4HkRDHFg', '아무것도안하는삶': 'LTcz5Q_aEY1FMB99rZd2LFAHsgSNK05B8nvfO5OViNZoD2YgyL5-RVrIuQ', '0o0OoO': 'Qc38XJ_8dEe4VnKVxV_PaJRe7Pxn8SQW9dpIWV5C-e8kwNzQh6gJSY8pqw', 'HLE Willer1': 'VzTwd0TmG8vQlMu-erfwmXVRf7RGr9Y8G_sBC8IBBHNvLTw', 'Twitch 다훈갓': '2P0g6pqy7OfN8EPLvI9O8G4K8CMiM5jPZLuklav1PUUAhw', 'Marchen': 'mCU089i3-RuwBa5C2Nm4vmaM-m_Um70Z-3et81ltAel_F3M', '해강고 원딜': 'yooCMQiXz-Mz5BMcb7Oy2HLvx8NAWMQXxWC43sgAvBlfZ0c', 'ben ben pei wan': 'mYj8NpJyGLoGwGMCzOHWqnVRwXshnu4M5A2aotPOoZU59VM', 'Xbm': 'Hdm5tuafvcG6hoOtbNW13zMrPuCi8sMYWosei0QWKy08mVgkSPRmOaVzzA', 'dao liu shi jian': 'rUyCV4wTPy4t_PVIJfgS1GvPSwNaPadM75ChnDoU2kPGH7cgt2U-UOCwLg', '농심라면다내꺼야': 'QdQOS7AWc0ljD39gZ8ieA4fdWVoAysWpbbdWIHxC2fs7RUKW', 'duibuqiman': 'RiKatFxt3oMg5jTxFSBY0MyP30349QB6NU27Cx1fqfczbTA', '도구는 툴툴': 'VO24OLHosH4ed0AVNKRVxBDxhDDTvbyBivZPcBhbY85Xi18', 'Gen G Ruler': 'M7FHz0b0U9O9e2i8gL_dKi7FUOT_7yH38Sc115uqOICXbFs', 'doujianghuimian': 'JxvHhaXdnZkRo4RuaBtGTqnMX-08H8LE9wVrG76e1yY-vDJZkig4wN0ZJg', '재훈이의모함': 'WDagimwEAuo_Fc6FzpkR41oDvJYF30vJ8SKo8OmyYvm6_ZxPcleIyL3Gaw', 'Kishimiyu': 'tUjdGMbjN5bu4k7GESL0liGMzyU9MxlqMObP3LN8yZVjmweB80uv22dqxg', '콩나물이좋아요': '9ottyYFhMKdoTCLPXNOglXmIXvdhogPDSiZAZJ2mp4Yvs6Y', '커피물조절장인': 'rji9TzvOmnhQXZI--u4FpegpVt0JIdhueTVaLsN3vsFDWPs', 'KING MIR': 'mGGFjV18e_IHkxpRJCHf7aPnvs_4iir9iY-wjB9Z51vKc40', 'Never Stop Me': 'cGk-khenWekOCBETqydTYZBgcHvNrX71otewxCac2uvvNuU', '태양 은 무겁다': 'Ulgy9IJzTKi-TvmUDwgFue9GCPaDdzzKDkx6MUxveHBKlTghs0U0Rg-XSw', '워웍뿌삐': 'oPZan5ATGAVJ_0Iy9DbWF7UVT2dwx5Rfw4mvS_AHw-gItQ4', 'Byangde': 'V_HKTNiaLUhTVzxQoA_tCOlxpdyS6dMMi6z5RBJWQVzbfxI', 'Chasy': 'EJ_LC8vkJrmJsakWgcjapREqm24KSHTiZ-C1r1D3owf6sYE', '아이린': '6QBCzyDy5VdDfYaXGLjAlpxeZqcjgQap_F67zALJ8J9XSkM', 'fragiIe': 'lIylEieRH7PZBnMOvM2219EZLrWawFQjH0YlbSDS0lPeaHI', 'cheng xiao yu': 'Z_q4mFwIM72KflaptWbIVlbd4H_5iIgp7esUYyMLRuMhV10pMxmoyOFvag', 'MUDAI': 'zbv3B4mwch5SkxGyC7U8w1hiI9we0zxwULPVP03dfFvWl_0', '역시폭군': 'iTbAtdGYjbhtsYC9sJFbuZOivNCRPZTnIfP_VTZ7aGtx-iBBwfeVLsDH2A', 'lengqingxue2': 'y3YZKg-attgk2uB78rToMmPruMFBJBFWgQmsv3acRHd8AxY', 'zhzj': 'e13sR0dX46bB6nca2SQXBJzlfROVuOgffL8CS5tqJYaM3fd8TzRAVEd0eA', '전서방 닭갈비': '0eKNwP6lHDJGacwjix1d7fNvpuDqnvWRMvHAX3itGEBNtf85', '킬러톱': 'iALKI4tL7RwMs4S6MCgbRPFKB3xjnyRbce86xGqjoBoc-g', '디알엑스 태윤': '_jFs1nOkxZa0LIaKhU5S7zpt4l15LgSOfoetVJZfNGTRPiY', 'vicky99': 'smNh9ZAAVxloe8vL863iedI2oTNvfKg6_Ulw2uN85Y1CsbfptAVudVnb4Q', 'BRO Delight': 'Oj74ALgGn7pjdh0JVVlSsQxKSXii6pXCu9kQ-dhLxFP5aEU', 'CN Wuhan ': 'IwhQCrU9DwwiwZRvsfSa5o8CHoIxe3t-DOnn3DIkUSF8doIgPCTjP_9fDQ', '제드팀 누누문의': 'md6JcGYCoaSJqoIRpRsDisXlfY7--jjpgD_pW9buje57G8xKeBdBgyEJpg', '권 지 인': '9gHEAkEzbkW8MipDiQDPaF5Z533TeSTMJF2YsrTWcFwovrA', '숨바꼭질': 'rzWk5Nft_2oCJxBhQHIulyrzQcNYtG83I4-Y9eQQ1Zdk0Jk', '감정조차없다': '9B6Hhro_BLnWmzV-r5bZ40ZZ9aI29WrUAiNo2Hyvf3o0vOGtWWNSIRlocA', '은가뉴': 'YSUhj5gePcvaDbdvQAq7BIEU4Yd9Jn_TE6JSZMsEyIb0vb0', '순뀨박': 'xiM-JiYA7xkZDmPfH09W5dgh-mM9cbnqqEnFpEDFbDrzbkk0y4SNwllPyw', 'Bring Me Love': 'huC7ZM_9nBLSO4r2jXuJyisO2ubXaXwCKxuLwTmTIK0NQ9hJDxmJ6vHq3w', 'DWG KIA': 'VSt3bzbE2PinmcIQry-dEdO0g1bXj2Lm_NV3GxLX2Q0QQX0', 'Yagao12': 'O2op4J-W2OnkUgqyU884sYjTyRi1LbwvXFwpOA3_zTfE4SORYXg29RoI8w', '열심히해볼생각': 'd318lqE1c1QY59cCVbjNVl7xzMUKR7juSOyGDSNZ2VuJRTo', 'bao9': 'PzlwxR4lLG4Bq89JbmqG6FP3XFHuRRxLsz0iAJJtHqddISg', 'megaomegao': 'D7FXibbItrLjpdKs97GMBhCzKYklE7plA_qkwYBwL1tMCq6RqRQiQqlGjA', 'Yaoyao1013': 'sAdn34Uq9IMk-XlN2M--OuHeZw_0oeOV4KPaPuN5OnFGimE', 'lhyz': 'wxVtOdbGluPULoTgVTYJE-pKWNJumAX0DQrAFcCqZoCqc-eUbNkQTTkKhA', '김잡초': '4ow0eszjqsIjuP-LS7rW9GoRsKS3AB93Zv9frpw3yBfGN9zzHrbUIiCNNw', 'laji fuzhu': 'q3g9B6kpbWaK1gycxuIPag_C8X2aBfLgMbfXhUOWcqQ7peMTxKQEQMp__w', '땀비몬': 'PApQKhYpOglvV5ihC4a61WO2EGC_GLEAAn1GBL6TZILadA', 'huya jincanyi': '0YwfLrVGn4TVKn3VIG-bO3b5lzy_PtFaET8E6bNFRgtCAg', '초보강아지': 'AdIQX0I88NUknY-PyMJPytcDuX2Jl6N_K0ggRyBfa-jUhw', 'LSB Kael': 'B5QjJ0s9qh1YeDagWyM0vY9WiGMUiE6sKZeNjJZ_Ht9fr2c', '역천괴': 'wY6sMJJeI2OHhRLqBfRfBfZZsrR8yH2tCUgoCDhCl3Uba5M', '하 루 가절 반 ': '6YdifjzlaswizJeLoxEPmeP0iAGtLnHnfsh_0cbboAOP89w', 'Emilia tan': 'kzTVZXeQu0PQEtefGrWm5DFgox8XnDdvqZk6TBvFzd6K_zc', '구글롤플릭스검색': 'nQ7y9bugVDmuUrjryWEmqF2zT5IGzrD8W4oiQaPZNzfbaNXvTHDwpZVJ7g', '레넥톤 장인': 'iSLVYd6Yr5CC75AaOpnXCUZDvo5aHxZOi83SwN-mSSFkXoU', 'zika1': '3eLSJV9MpS9yNRPBiPJ6WEMASyp0fxXVTGxrDK6JoVEnTH5atapSEPvBVg', '남장구': 'OONz0_2UWaOLeK4cVtgzG8mjKnBw769E0IJapVMkr_v8qUZQgSmhtH-ZFA', '읽씹맨': 'qBYjMHk-C4YLoirU-EV9d-1lRaLmdvb1L8JOXMm8vZix71Y', 'NeedAspirin': '0QFsrVhpJSUKqijIn8jGemJDT9voNcOTzssFqVacekHA7NjYiDt1rJjaNQ', 'JUGKlNG': 'M8Mjztf0m6BoB-Mqb3CsVLAn_js_ma0w4kUsVI-Tn4ibg4Y', 'Crulser': 'H8dONowoJc_yk5CXYC5PneesF-mfNulBUdC_7E8MmZEK3UY', 'Lv 1 호야': '2e10J5e8tPnbR8WOVUdWJfhPwul-g0Xwj464DiybunOKpoc', '남탓전니실력을봐': '3pFtHC090VJBFQet-dqQqTKGZzj48vDoAC-V0bqOzYcvjvKvRyCnGpizuA', 'Narah': 'gMNj59MAmD0D5jTL5rP32BIx16vMP81nkcAs7JeBvSHx43U', 'xiangcai': 'FOWqzdUQSZPXBMH3mqmz9uDxnB2GZk1vbQ3kFEWKFxg8JiNxTGKU_eTUuA', 'zxcasqwe': '33QXTBHG3mx24PiQooRDTTtqJOyDgGP_4dcpEhIkelfnb-nH9aXtTXKThw', '렐복치': '8hKQE5mcedllwr-lZMbII8FtvUnpCBl-9Ju5nqEld4PfvII', 'LSB Envy': 'VKDRXAGiz3aqEyhTr6sInzcg79HMc2nVET8evB14hOQu6Gs', 'Love ShengJiaran': '2pfywF7c8voh6h1Ue6sCub139tLuBEs-Df-LfQ3qWKahP1I', 'Destiny': 'NLHH2WFmv_w_IfgP8UBaK8F-axcp1IxNvLwDmHK01DWIZEA', 'Ninja33': '8rKEgzefduJdbcdHGsWcDA7Cu8pCFiezFtx5sXZ-r2xvubJlT0fxU6WrKw', 'Epilogue for u': '9Xgh_yz1xPBQPx5ruogqIFehpreXBRr7mpTLJxx9QU1cTgRtUQtZedKuCA', 'Indexy': 'zo-mU2SrGs46y9EJ2W0QPe6BW-JIpdvMlziBEsYqrXCcH1w', '구운몽임': 'xpNRU0-uKJTvYdvEQGKTlj9xIkyNKx_5qtjAycsxPuvkZ6k', '힐안주면그만이야': 'WwPDrAkBBv5_htngesUF8FgYEWkOdcCq_JCWkFGs8j-NEOY', '앞뒤옆다막히면위': 'nl28ej5JH3N0EjGlalE-P4ppmwXGVxvf1VCqHrjJG80XzyY', 'kratosgf': 'CW-ZNxvVfI4r9SsYn9BQhZWZnNHHjSvvQJOcFtCM_SfH5z1WEFuaNRAh4w', 'xinuwuchang': 'AT34Z_sGPDFraa66dMEiXGnZT7fbvV3I2okRw_9ODzO6Bv52ne0ygHp9Iw', 'pig cage': 'nJEt-LTQRLUd3e5MBH2WlfgVnVlWL8IdI_1bPwcqpfJ_hzg', '우찬굳': 'OxCPBZW8cBAY8wjaWy49zNZWm0BNDYXWJFLdoz4JtCSLSJc', 'KDF Moham': 'vwBowIdecRETkMvnbB8x9Hci6yiCNNFc8JpRsXSca_hSrCMI', 'eeyo': 'V5tzESFiXHlnjqw4CZorTOxke21imiWZI1SfKlRooNSexDQK', 'XiaoHuaSheng7': '1K-X43qwyWy6jbkqe8LfglgWhW2-2fu9SJbSjzqsubxkOtc', 'HLE Lure1': 'UfEMZXblfUzeQbhglSr_8phzuP5HZYyNZ4uuzDy5ROJQLsbQ8twMhhHUrA', 'ziyou': 'vySRjxqqKDhPOHZzc80Oe_fE2Jxtr8LuUS9b63VO1ii-zMk', '코 태': 'Z4YrQXSyT2cPewjxtXruIM5Bgsiq6lGZOXBjHQ02pIjjMLw', 'GGGori': 'Ivmncs5Wyge9-kx1vmj6xtoca2orQgIiCxbim3ygxpvr4I8', '날으는참새1': '18qXdU4hoTez9p4tSXA7suAK47JJDbMSiC6dN3GS60vD9ASR7weJfE6HGQ', 'asdasasdasd': 'unoFOpL3Wa4jdXoVtUuwBdMu-6Ni8UUXUmWC__t_cdUDWUKHKuOt52t73A', '힘들어요잘자요': 'bmDQI3jksVzL4BHxqNov9nhVT3mmg712eMVcQCm2Atov6i6bFMb75Y3pIQ', 'MIDKlNG': 'M-Twl0uqsvV502Pa1rlBBFrv1WlIIQ00tRki538ehEIU8e0', 'adasdasdfaf': 'G845wRqI5XgCQfz1vChBjIGiSJlVpntzLsnXy9lT3Uc6at80FKTGVg5Juw', 'nimamazhenduo': '6d7iI6lQY9l9pSUZthqmlTVLogPM6aVIB5kqV9c8ngJFpthnovVhc7SeIA', '전상득': 'fBAp3T7lrRgkI0eeuheMl-Zdk-1BfKp8JHYp-0PsUwLq5E0', 'M1nit': 'Ijk1DwmEPPnh5CSxTwa2qamE1AwWC3NvdcioCHUUJC-09_0', '왁컬로이두': 'oIvll4IW-kvSPlQON0ZVYPfTkxBkadVYMBkxhNnEw6I5mO4', '이 차가 식기전에': '-oKx4SJbW3xNsp9VsYgUDVEqKvzb6mMDSZ42H1n9felNgTc', 'msyslor': 'e3AkX8Pskchpp2qv1Z5m_TqKdBqs7SSnkJg9anpW5y8HxwlZKXavoOimhQ', 'sweet lily': '_UAGJtusujjc9jZEVh1FER9x0KaF0xGvWbPJYjHXDEqwAtAwIDDRwXckAg', 'Serin': 'GFeks5LnCGOHM75xvD1X8tppZK_f8IulFYY8CbybrYR227Q', 'su yi ming': '2fPyd04WyJEvwJ2HLoLMz9MGS9vuaYcrUNDNjV-w-t_-JvtufoGjalfzWQ', '늙고 병든 용진이': '15c1resLVwTphvnNvN3Ct-YA7bimITQDm-_jiXTtoxy9OZY', '패배를까먹은사람': 'U_MmCEu2wp6djndzIQeFwzxohkLE9yYW-sDvj5lpCJJloCU', '헤나의 룩북': 'hEx9VSabg1Cl4eYAyo11BQ86iQOFqfxejo6yiQNcWFbLx3E', 'PowderSn0w': 'G6oXGzknjiG6p2N4Ojx3xDVm2IgkjD9TdrsBPQLYj1w_cg', 'Zeus Fan1': 'nKUmz1K8rK-isMctYVVjdHBhLil8WBHSWCd8mi0gMHCAHyY', '갱붕이': 'dAeIpbE3CGsmNgb2c8BbWCmtUfbgiRZXCsX2ivYXrhVilUg', 'FA 정훈': 'yPqT0ape5QQK5rT12psLvSFa7ffRcVB11io9evZCHmasHt8', 'zzzusss': 'xllDg7wU8ypeYfou55dsPNejTSBKPG3tlUR6efjOmLoXpR8', 'Gen G Quid': 'IFe54wcdw9HyeVOWc-T-aOoXKunwLmFbzqdnOUSFgAT2_qY', 'Noticed': 'W7BFcnobFcZpP-MiSGg81UCPgloABwRuGDO1BgcHwcKsAYk', '타 잔': 'M7ZSQU_LFH4W6O1rRQM9_SMXeooyPrClda3GLlGjHMg7kBI', 'LinaBell': 'kkoMZsSUslBG03z7W5o93xFs_3YjnZDqYVYnlpR4vt8f1ofqugsSYuy-tA', '쿠 리': 'Z387da6COclq3EdhmP5X5iqacmqWjFAbK9e7S_QsQqi5hSY', 'Bearduck': 'vp4pjNfnX5X-qhoX0f56dxyd2viSXqYxC3CRyTzWLkr5DA', 'Leminem': '8byVLV923FqXfz6TEWcVt7e2YqvBG0L91-_0m_L7lV87R-C-n6p2W6h1nQ', 'Samver': '45JAfYEUa-XyCjpbg7z6cifeSag1YKOE3u-dRWW8y5gliCE', 'SwordArt77777': '8RbGXITmjuMrJF9B9rrnjNkGak3Y6CC8LS1S137R3TZlgpRnb_cU2P4XVw', '폼 팡': 'ZZkejnTEOisbeLlHC2Wi3DggYFHHYb7FXvvaUWU-EiJfShY', '평범한 숟가락': 'GVZZlj0rYBFFcYMeQdoOi_5pO2nn2CTUhj0O3yf9zpDdZOTC', 'KT Castle': 'xbw0xoSduWLcl5-q6h0HKC1GOydom9IA8Bt-d86XXlblWXE', 'qweasdfl': 'XNTvg_LzaSIxHnDvM1_agIUVIOlf7ODfhT2WKI6LJkNfqIU', 'Hide on bush': 'y1bwmoj3PxBghc88HvbH-ppjBDZPLhkjn9laxM4a2bijsg', 'ren jian': 'r5WPSuv4wtjB4iZuh95HJfnS8HlKPYvCL7eQpWGnU80IHFg', '팀개못하면누누함': 'dw8STHRG79CM-PLXWH6flvjfaneO_8AKI2igo6Tl0LN_FKU', 'Kim Sang Hoon': 'S5NdN8qZYRt-kHhawlqLtW666zlCaxvUvlnESxekizR47F8', '댕청잇': '9W71ilg_3kn_Zp6eQ2G2P_FyCNnW8ODqEgGHwdiOm1dR84I', 'Mg mid': 'NZROgOMGtSIW9vK5THKrxr65c2_N9m-uF7kpLiRGDn40N997', 'NiHuiZaiNaNeIlI': '7nq9VQZ3otShHgQPg_KkDobpbmSlwbzY-kp8MOubVzEaokMRKaJRgXdELw', 'wdscsafdasf': 'CkpyBDr51BrcW6DXuLflk_8Wq_tADzy8qBYQJv6ijLew2S5Fwlat12t7xw', '13aize': 'hpMjAaw1ZCuKWlReRJkuweN31Lh3LUJ0IMF1LwH7TOffUw', 'notanysmite': 'kcCn7gzxuU9uPCronzdEYo74GEwi9QcsN7X-kcbBsq_3ieHvPBop5rEE6g', 'UijU': 'KgC1sz8cxKAzZYGaWd-I5v76As5kSK-JU13qnXVeLwKTXZw', 'Honp1': 'w6Uy9dWRlBLWEDYuzQUiR5AlI4zK05AeS1w_s_Qp6oX7H3aYr4mMDX-0Bw', '트위치 백색말': 'aUneVEV0yfCx9ksYXfrnKV1VDFj0TE2oCASlwGvKRzenwZQ', '찬구형2': 'D_hGXKgZGAkQtYvxYcqdzJP84oKADI1ijEB8nSqfqHGcx0w', 'Canna00': 'QDs2QbHRnfHCQB0GqF-PJRNgOdGfROVOYhv52rTOENrGJc8', 'lztxljjianiaijia': 'rquhfl06XSkrqlhTBkjje_mIJ7VOj1XPIBeIdqinhLUc0G9zhB2xGDRHdQ', 'iamoookay': 'L0BZ2-shEC6x0HEeDKcS0MbqadejkqQ2jm1YhQZL6_tvEz8rzKtDWLZ9Jg', 'T1 Gumayusi': 'ywra5nViWLzw2HZJnoe9mizJBecPt8ghAGzZy9tp8U5o4YQ', '병권좌': 'v1hhgZlRUiZKcL2L7nSIKqgev-i6YObZRSyNaIl-NRfGTg', '땅에 묻히다': 'VpofO7aO6U1RGBLyxrTI3h4nnDlZjIQZee66RTNPTDx5D6fe-LRaMp_NKg', '어리고싶다': 'y9PZcld7v3goJWaGqSnxu4YgVfV-nxPN1F1M1-hZuvInQmA', '쪼렙이다말로하자': 'oz7Z-RHYA3z54qkIA-lrnFbxCLp--ajBhbKgqjpN-DQiEQ', '누쇤퍅': '2TFQj03xO4FFDIufW9-nQvf6iK0tMDMm-CbdhGZHBp5fTj4', 'FA BaeKHo': 'Z9ygneJtlEv57e5OOCVREwBrXKWucxOLpHlOOaUNwd2N1eo', 'Liiv Howling': 'em7z9gx9uVm4GndunnrQ58KjnrMy-xghB59ohfmnyuChnz4', 'Gen G Peyz': 'fCmFHVJCL1DuvCKF2JYVoorYrDvmtlA27jYr2eQjtY1EorA', 'not worth it': 'UCsHIMALaqbcdCvZlogoTyHbIzqp9ckzwt2B24b35jQFwS8', 'Sweet OwO': 'U2BcVfraDS1cJlBX1flXG1FL34HDqlXjrTFtk-9QDNQlQJU', 'x1aohuangren': '0-tp9_n8fGc8v9uwuaMxIeH9Kzvc4z3h9YSPHA7NEMHVyLRIID9wGHJ5Fg', 'Nation Blue': 'AdGQcpKoc2d1yU-spda3KjW9WHBeZlxV6NcDHTT_QrrQtZo', 'whisper snow': 'hRyn1L3Dp-WolEL5VCox7H-P0n3fvWGbq1ril4mJTC4a0uI', '크로꼬': 'Wr9j8LKLEusIcUZaqkkAVVe3aNTcq7qC0hXvjMJShZKzQyKd', 'Cc3cC': 'iWXDutUUeq5H5GE7B_tMy32_oHOSkpZBhBZ0B_zQpWCJ1Ao', '사막여우겨울나기': '6fIvcULpykj22Nly4Tc6yayWep6FoKirSX4DTjxYHI3xk4Vzh4cPw0MvOQ', 'E T E R N U M l': 'wW0SNWsmH_0V4b4AclFvjX0NsOM_YhuJLzsgDPr90vdE5bLB1owJm96IjQ', '잘하자 이현2022': 'cXeW4nPeRyZfFIh2pJBHtMdbwMAaUqesWsECfamKG62NxA', '이도류': 'EgL0uGeysSWxruWRr6LSmvYOo_wU405rfedbpl5wBNTFnTo', 'dayuluoxia': 'C__xrnAVBTBIKq8uRIkbS-WglPWThT_W3Dgd4tEDU-gO31Uws3Q6gK2-eg', 'zhang lang e ba': '12KheP-4An36ZdD8P5ofMdz9sSqSKKEXWxH9yVAy_W8d9Y3K', '나는개선할것이다': 'pWGDFwdOSNMSSIRbUpVW1vhLVBLtrq8DabMCx5Uiws1T-Z4', 'Witt Mid': 'sYwMwaNkPaKtmdWjebiwJ_Lx_JI1p9A1j7pDyMWz0Llfz_I', 'NS FIESTA': 'n_9b9_I1RDhnfeyPCfF4h4OStumhX34M_QP7CQEqyQrb38s', '2020karsa': 'GzZRBJuc4Gmcojt5vZmNKqZbBNXoVStRceimT7eE0diL9O3b61Gw2e7d8Q', 'BRO Soboro': 'UAzCg94pMvLMYpxn9X0wvOeXz89sq0-N41daSOLIpxtH_YdcLNZCaqHxbw', 'Porte de I Enfer': '9rrByZeaRxQIIm6kmnDvfSbJzd2ww5ihPKkAenxgaKCoYKE', 'come on and win': 'k4rmEI40DAXcMXxGWSQDV86xbMc7X2qPoCySGnTi3I7PSHKHJY9KuEEU8Q', 'C9 Berserker': '2_R4VVM5qqKwTY5AUyajqBnvCF3RDIOP-agpVuMUh2qDx1o', 'sksqnf': 'pp8N332pkYIR-8iqYPezhCgXFdxT9C9zuEy5XcojnB1X3fc', '기지개펴는다람쥐': 'MfQ8B0NVRTzCCdm_A1s_CpSgUEE8bZrkvOXS41Qo_f0gYO0', 'IRIDESCNT': 'kzDD_wlX5qsKH_egjLt2kKSmvRi6kMUhQ5tK5SBd0wpMW40', '돌아온호랑이': 'pkig9PE4H58sxQ0TQqloLhgSrKFnMtbDITm6ipEfNOnodnc', 'Slow start 1': 'pxHW6Tqe0T0tm4rVITVroXEiOyKNNyQEKhZvESwqV1BO3T4', 'FA Young JG': 'PzwYuWq1Vm8qa_3okUDxIHzZSx2zmJgZteX0xNYRaYjSLYTCzj-D39tR_g', '매 혹': 'M00P8zQPFVSIYZ7kXTbQ7R7MiKPWu7U8CLbny89_tLmJ1uUAvzU7G2IvHw', '나도모르는사이에': 'Mlx--5jQrFssb9zW_shx84ya7Hehd0xIqZX2lw1dcCJEfq_nOBk6w8nquA', '이렐아칼리': 'fsRnAQSPV-3Q2tOuYFXeYRwnUC8t2ipfEoycDa3djX6ktOQ', ' Happiness21': 'PaUfY3FvnwiTbxNd7UmP29vJ6kaP2_tgh8848Afj6vAGS07J9xocGc3VfA', 'IllIlIIIlllII': 'KmdUdSuAPqOwUDCZItLkB9V48sO6LNZv4C7s8RqX1mPAYht_YzlXo8RnKw', '채은누나 예쁘다 ': 'CDuRiYSNsysTWXB8DkworthnEFOIYAOtK0GQhssiE1cXK1EI', 'BRO Hena': 'xN5TPMpv13jB_bQxntZ9Wbebk4wwOMjA3jLcSyS5qBMQvGw', 'zzm7': 'c1lJNgfhIPQWSVKyHkikogtkAVINETq8td1593ujDdcKs_swI3Tg3heI3Q', '칼과 창 방패': 'l9KBP-TI-VukbSxgFVjS0ixqjbI8HPLY8D9LjoOltsO2FoU', '미니멜츠빅': 'oL8kQkpTUr68I7MYvjwlmNd_1_H6wCoNeM9-UOOSzNEEft8', '단군의청춘부재': 'NVcUd--dcq05yEYb3yVqKNqoFUGpdU3GP-ndI5atk31SOA', '신상공원': 'l0US996geUprAafK1mglk_qK8w_PWta-pqtZ1WSahRz-shU', 'Yellow': 'AI5pZYe5ORQVzfrfKJ1pNmNkeNhrB7Qt_EuD6AgGQJXVkmM', '일산전영찬': '5QafC4SyQQYBwjEdfhWh9q5BwnD6CxFlLnK9P8IN7GbqLg927XsIkxyOGw', 'hulatang': 'drD3TKAx4L99lsATg9Viscf5QdrV__qJICuPfQNtJRWnGz_PIMUSnsw5Bg', 'ldmzz1': 'ux49ibVar2J02LKzsF8kcOOq5EcYdlntnbkWl23eZVyv9ZcP7dhq29kdrA'}\n"
     ]
    }
   ],
   "source": [
    "import requests\n",
    "import json\n",
    "import time\n",
    "import pprint\n",
    "import pandas as pd\n",
    "\n",
    "pp = pprint.PrettyPrinter(indent=4)\n",
    "request_header = {\n",
    "                    \"User-Agent\": \"Mozilla/5.0 (Windows NT 10.0; Win64; x64) AppleWebKit/537.36 (KHTML, like Gecko) Chrome/91.0.4472.164 Safari/537.36\",\n",
    "                    \"Accept-Language\": \"ko,en-US;q=0.9,en;q=0.8,es;q=0.7\",\n",
    "                    \"Accept-Charset\": \"application/x-www-form-urlencoded; charset=UTF-8\",\n",
    "                    \"Origin\": \"https://developer.riotgames.com\",\n",
    "                    \"X-Riot-Token\": 'RGAPI-13ad71e3-3996-477f-a27c-5245b4f8da33'\n",
    "                }\n",
    "\n",
    "# for문 진행률 확인 라이브러리\n",
    "from tqdm import tqdm\n",
    "\n",
    "#제공받은 라이브러리키 입력\n",
    "\n",
    "api_key = 'RGAPI-13ad71e3-3996-477f-a27c-5245b4f8da33'\n",
    "\n",
    "## 소환사의 ID수집\n",
    "url = 'https://kr.api.riotgames.com/lol/league/v4/challengerleagues/by-queue/RANKED_SOLO_5x5?api_key=' + api_key\n",
    "\n",
    "summonerId = {}\n",
    "\n",
    "r = requests.get(url)\n",
    "r = r.json()['entries']#소환사의 고유 id\n",
    "# print(r.json())\n",
    "\n",
    "num = 0\n",
    "for i in r:\n",
    "#     print(i)\n",
    "#     print(i['summonerId'], i['summonerName'])\n",
    "    summonerId[i['summonerName']] = i['summonerId']\n",
    "\n",
    "    num += 1\n",
    "print(num)\n",
    "print(summonerId)"
   ]
  },
  {
   "cell_type": "code",
   "execution_count": 2,
   "id": "01664b15",
   "metadata": {
    "id": "01664b15",
    "outputId": "a3ab6756-c145-4d76-a18f-0ee44bd40e8d",
    "scrolled": true
   },
   "outputs": [
    {
     "name": "stderr",
     "output_type": "stream",
     "text": [
      "  0%|▏                                          | 1/220 [00:00<03:08,  1.16it/s]"
     ]
    },
    {
     "name": "stdout",
     "output_type": "stream",
     "text": [
      "90BOFW0SdeE6QFLbdA5N8m06wsJ4CYcgpPIJZVMjEcrUoruAMMRInKyj7Mi8wmOHzy7JWyRUySbZbA\n"
     ]
    },
    {
     "name": "stderr",
     "output_type": "stream",
     "text": [
      "\r",
      "  1%|▍                                          | 2/220 [00:01<02:04,  1.75it/s]"
     ]
    },
    {
     "name": "stdout",
     "output_type": "stream",
     "text": [
      "b3U2EZbTygFkKJOFpGhAmpTjYhM1hvslSUvF_TeZHRWocu9zYgPofrWWupfSAfmvCynjIQdnR4CBjg\n"
     ]
    },
    {
     "name": "stderr",
     "output_type": "stream",
     "text": [
      "\r",
      "  1%|▌                                          | 3/220 [00:01<01:35,  2.27it/s]"
     ]
    },
    {
     "name": "stdout",
     "output_type": "stream",
     "text": [
      "MLI8BAftjn6-cwjSCf_QjcWuo55LWsGy9YBMqAO9Kz2ik6TgBOHQUdCXsvD6VihRY0H8VoBmjVJvQA\n"
     ]
    },
    {
     "name": "stderr",
     "output_type": "stream",
     "text": [
      "\r",
      "  2%|▊                                          | 4/220 [00:02<02:21,  1.52it/s]"
     ]
    },
    {
     "name": "stdout",
     "output_type": "stream",
     "text": [
      "h--nQNLG-9O3xuyB975neayeLKbRw2mswq2THEOuH4vKbAJ-XMFQK4FeyLZfs_fGSB8LY--ohqGB4g\n"
     ]
    },
    {
     "name": "stderr",
     "output_type": "stream",
     "text": [
      "\r",
      "  2%|▉                                          | 5/220 [00:03<02:44,  1.31it/s]"
     ]
    },
    {
     "name": "stdout",
     "output_type": "stream",
     "text": [
      "u11AFPkIM5s4VmIX3qtb8lHKhO3bdUiTPO5vZ-DlMpR3_WVUXg-LFZ3WlQFLH0Xt4sc2TQdmw5wEcQ\n"
     ]
    },
    {
     "name": "stderr",
     "output_type": "stream",
     "text": [
      "\r",
      "  3%|█▏                                         | 6/220 [00:04<02:37,  1.36it/s]"
     ]
    },
    {
     "name": "stdout",
     "output_type": "stream",
     "text": [
      "jRhfZBfrU8Cpf5xujWf_4bwcTnk4RPIk2SA9SiE7k8NEi-YrqmpTeEXnYx0HZHNydTJ9lESVofMyWw\n"
     ]
    },
    {
     "name": "stderr",
     "output_type": "stream",
     "text": [
      "\r",
      "  3%|█▎                                         | 7/220 [00:04<02:42,  1.31it/s]"
     ]
    },
    {
     "name": "stdout",
     "output_type": "stream",
     "text": [
      "_imcl-bqFjy0vpLnWCY67qxpK0v1phYE-FU9_aykWQUjdaJb7JAQjOJfb1R0bVH8yBHrMI7PlE0erg\n"
     ]
    },
    {
     "name": "stderr",
     "output_type": "stream",
     "text": [
      "\r",
      "  4%|█▌                                         | 8/220 [00:05<02:45,  1.28it/s]"
     ]
    },
    {
     "name": "stdout",
     "output_type": "stream",
     "text": [
      "ONCqZrYHPMqVHIUPrcck1WbcGQmrUFWZ8IpiECmrIC9hytKOUQnbBMuYWMr78MOM8Q92xCWQL-_JVQ\n"
     ]
    },
    {
     "name": "stderr",
     "output_type": "stream",
     "text": [
      "\r",
      "  4%|█▊                                         | 9/220 [00:06<02:13,  1.58it/s]"
     ]
    },
    {
     "name": "stdout",
     "output_type": "stream",
     "text": [
      "cTELB9vFCjMvRdS_ip0r4MrOBBN5Lr1wEByloRiTWE_vDsIxZlxiA2C8sVqjtZnpGgZD9zTWTmUM8A\n"
     ]
    },
    {
     "name": "stderr",
     "output_type": "stream",
     "text": [
      "\r",
      "  5%|█▉                                        | 10/220 [00:06<02:18,  1.52it/s]"
     ]
    },
    {
     "name": "stdout",
     "output_type": "stream",
     "text": [
      "UCqROW2eLFDWfVnz4eCqZupRf7bzVgqLMOJ3gZGzalvkxNm0PZ-4nEe_skn-UJpE_YA6EzC0jrgr9g\n"
     ]
    },
    {
     "name": "stderr",
     "output_type": "stream",
     "text": [
      "\r",
      "  5%|██                                        | 11/220 [00:07<02:09,  1.62it/s]"
     ]
    },
    {
     "name": "stdout",
     "output_type": "stream",
     "text": [
      "e1jDudfirkrYiQcbyq44ETo1ZDDIjL_q1M7x6j7QYpA3XNFtwLCnmKfN77hXiTjYUOjUYSepD-BBBA\n"
     ]
    },
    {
     "name": "stderr",
     "output_type": "stream",
     "text": [
      "\r",
      "  5%|██▎                                       | 12/220 [00:08<02:26,  1.42it/s]"
     ]
    },
    {
     "name": "stdout",
     "output_type": "stream",
     "text": [
      "Bp_8wCNcCot03opfVRH2HGzt9X6sWCRh-t1-Wk_JT2g-gzazb8eSwSu88XrBkgxhPPyfm0OSiLWlQA\n"
     ]
    },
    {
     "name": "stderr",
     "output_type": "stream",
     "text": [
      "\r",
      "  6%|██▍                                       | 13/220 [00:08<02:00,  1.72it/s]"
     ]
    },
    {
     "name": "stdout",
     "output_type": "stream",
     "text": [
      "RIEdSU2onqjbO4yMwBNZiSyZsepHuS9rDOYVDia46hHoFzpRfx72NPTxMpDKfINab79rxrJDrgaPhQ\n"
     ]
    },
    {
     "name": "stderr",
     "output_type": "stream",
     "text": [
      "\r",
      "  6%|██▋                                       | 14/220 [00:09<02:09,  1.60it/s]"
     ]
    },
    {
     "name": "stdout",
     "output_type": "stream",
     "text": [
      "c40L9lW84wb5U8aBKnCIFwslQGG4FhJ7w3J4r9UqD-r8kqwvtZ7aSw9oq6lmrYoOz4qHE7-t8Vlyqg\n"
     ]
    },
    {
     "name": "stderr",
     "output_type": "stream",
     "text": [
      "\r",
      "  7%|██▊                                       | 15/220 [00:09<01:47,  1.91it/s]"
     ]
    },
    {
     "name": "stdout",
     "output_type": "stream",
     "text": [
      "gmXKkFJXhZx4Xu8x78HqGbssj2Se2v2hSit1HUi5bShO07E5h-IcN1CiiJDEwyQKRRecNnbxYLX8mg\n"
     ]
    },
    {
     "name": "stderr",
     "output_type": "stream",
     "text": [
      "\r",
      "  7%|███                                       | 16/220 [00:09<01:40,  2.02it/s]"
     ]
    },
    {
     "name": "stdout",
     "output_type": "stream",
     "text": [
      "1UiPiMr9hW16drJjfYkRXo_2m12RLQwbhCy-2A5xJ-XqGo31BvdYFvDkdwCwKRlSSzdtiK65edPq4Q\n"
     ]
    },
    {
     "name": "stderr",
     "output_type": "stream",
     "text": [
      "\r",
      "  8%|███▏                                      | 17/220 [00:10<01:30,  2.24it/s]"
     ]
    },
    {
     "name": "stdout",
     "output_type": "stream",
     "text": [
      "qOKWv7_WZj3j71Ml3ZSWrtJ_qhd82yXmDdV9NXPJKTzz8FivFQrVv50l1_HzIx7wOHaO2iAY1D2muQ\n"
     ]
    },
    {
     "name": "stderr",
     "output_type": "stream",
     "text": [
      "\r",
      "  8%|███▍                                      | 18/220 [00:10<01:27,  2.31it/s]"
     ]
    },
    {
     "name": "stdout",
     "output_type": "stream",
     "text": [
      "jmfoD1KJOqK1t1TUOpUjgOpLmBKg40XMs750h4fWf-aQOBD4keNOmPTAUgjimRQwgDTnwBDZNaCwHA\n"
     ]
    },
    {
     "name": "stderr",
     "output_type": "stream",
     "text": [
      "\r",
      "  9%|███▋                                      | 19/220 [00:11<01:37,  2.07it/s]"
     ]
    },
    {
     "name": "stdout",
     "output_type": "stream",
     "text": [
      "OrTwnc_ZoPMIAODXo3zpfuTvWxXlZzZ3MKHacxTGTIRWvr7GoPOtNCh5aOD84xb0KuwUJWDWydOlHA\n"
     ]
    },
    {
     "name": "stderr",
     "output_type": "stream",
     "text": [
      "\r",
      "  9%|███▊                                      | 20/220 [00:11<01:25,  2.35it/s]"
     ]
    },
    {
     "name": "stdout",
     "output_type": "stream",
     "text": [
      "tou8KwQrSJVRGYrTF1eacMmKDmk8eKQzROmHV20qULMa2z8RUaorccyoCRIP1MTbdwzViuYdQ0lNeg\n"
     ]
    },
    {
     "name": "stderr",
     "output_type": "stream",
     "text": [
      "\r",
      " 10%|████                                      | 21/220 [00:12<01:23,  2.39it/s]"
     ]
    },
    {
     "name": "stdout",
     "output_type": "stream",
     "text": [
      "NrX4rgFypbynG99pElSk9TB51XNgSsL55Kf4NNgK7X9556O1KtuwH_r7qHdFNQQCLpiDoOm2ekAuow\n"
     ]
    },
    {
     "name": "stderr",
     "output_type": "stream",
     "text": [
      "\r",
      " 10%|████▏                                     | 22/220 [00:12<01:15,  2.62it/s]"
     ]
    },
    {
     "name": "stdout",
     "output_type": "stream",
     "text": [
      "8VoP09AzVHsK322HABduQte3SDYpI1_6ebFj9xdBdLNft5UIzx7YRWBdclXbLuWXwdAD0-HzYdi9iw\n"
     ]
    },
    {
     "name": "stderr",
     "output_type": "stream",
     "text": [
      "\r",
      " 10%|████▍                                     | 23/220 [00:12<01:30,  2.17it/s]"
     ]
    },
    {
     "name": "stdout",
     "output_type": "stream",
     "text": [
      "SVghd0D1skuiwQgKL46WEXdfGAM7l0kd6jCCYYg0Rs9DEesgcJIqIEqRTIDN-yHFrTebfkh0snfNYw\n"
     ]
    },
    {
     "name": "stderr",
     "output_type": "stream",
     "text": [
      "\r",
      " 11%|████▌                                     | 24/220 [00:13<01:20,  2.42it/s]"
     ]
    },
    {
     "name": "stdout",
     "output_type": "stream",
     "text": [
      "Y_hawnR9cGecrNBR-jF1ek2hE9qQU987g-xr_A3JpW9D_OLYit_nrHLknCKIxUWX_L3xfJTh2rzphg\n"
     ]
    },
    {
     "name": "stderr",
     "output_type": "stream",
     "text": [
      "\r",
      " 11%|████▊                                     | 25/220 [00:13<01:13,  2.64it/s]"
     ]
    },
    {
     "name": "stdout",
     "output_type": "stream",
     "text": [
      "G9MBSnJ1Dv4d763aItspknrOYUrV84kV2KxtHKWp4Ea8QEA-7HYrKuAjDEF7HoGGU--zrGpKaGLAVQ\n"
     ]
    },
    {
     "name": "stderr",
     "output_type": "stream",
     "text": [
      "\r",
      " 12%|████▉                                     | 26/220 [00:13<01:09,  2.80it/s]"
     ]
    },
    {
     "name": "stdout",
     "output_type": "stream",
     "text": [
      "ten2Qb5s-76uF50_0zWkYDp-npeHLSAx42PGTOu28BLq07cownIS2tYwW7-Joq44XzYUNg0uk-xomg\n"
     ]
    },
    {
     "name": "stderr",
     "output_type": "stream",
     "text": [
      "\r",
      " 12%|█████▏                                    | 27/220 [00:14<01:07,  2.84it/s]"
     ]
    },
    {
     "name": "stdout",
     "output_type": "stream",
     "text": [
      "z67XecHdgV-joFssN_bs54EUMNdq-wi0ZW8sLXWl5cORCiBrTW-ki8npNE7Iviy-LkT_AJN7K8Q3Hw\n"
     ]
    },
    {
     "name": "stderr",
     "output_type": "stream",
     "text": [
      "\r",
      " 13%|█████▎                                    | 28/220 [00:14<01:03,  3.00it/s]"
     ]
    },
    {
     "name": "stdout",
     "output_type": "stream",
     "text": [
      "3PtZ2OZkOCS7x_6P8jp9WR5HcFGtRkqzBOu6ws22Bldvh_I7jI6ohtWQZFdzUnkjDOoMoUTgl-c5Wg\n"
     ]
    },
    {
     "name": "stderr",
     "output_type": "stream",
     "text": [
      "\r",
      " 13%|█████▌                                    | 29/220 [00:14<01:03,  3.02it/s]"
     ]
    },
    {
     "name": "stdout",
     "output_type": "stream",
     "text": [
      "DtpoQJ1GAQYPf5bXRkffSA2Vy7oRoBcV95KV7MH18VGUanqzbSyE1XeZhPfwTuhYxjxxzJGc0Wkfyg\n"
     ]
    },
    {
     "name": "stderr",
     "output_type": "stream",
     "text": [
      "\r",
      " 14%|█████▋                                    | 30/220 [00:15<01:02,  3.02it/s]"
     ]
    },
    {
     "name": "stdout",
     "output_type": "stream",
     "text": [
      "kNG3VgHEUrti5JjATbPvNS3YE6bt7IzIuxZtzcUIWsHRB8xjDuwSbhwEUqIzr20PtS32_35D1DeYsw\n"
     ]
    },
    {
     "name": "stderr",
     "output_type": "stream",
     "text": [
      "\r",
      " 14%|█████▉                                    | 31/220 [00:15<01:00,  3.11it/s]"
     ]
    },
    {
     "name": "stdout",
     "output_type": "stream",
     "text": [
      "3R9QaD96UJsH6e_XbINtGpfYGliw_E240FyowNvRf1iVBhwCVfQ17wEHTbvRhpj2-DO0qubMjEwqVA\n"
     ]
    },
    {
     "name": "stderr",
     "output_type": "stream",
     "text": [
      "\r",
      " 15%|██████                                    | 32/220 [00:16<01:26,  2.17it/s]"
     ]
    },
    {
     "name": "stdout",
     "output_type": "stream",
     "text": [
      "H1C3fipzGkFK6THEnc1pDTrGDfSkShf94d1vElDO_aJU1bn4O_F3fyDdZynWM5JDASO8QYqvpHmE-A\n"
     ]
    },
    {
     "name": "stderr",
     "output_type": "stream",
     "text": [
      "\r",
      " 15%|██████▎                                   | 33/220 [00:16<01:19,  2.34it/s]"
     ]
    },
    {
     "name": "stdout",
     "output_type": "stream",
     "text": [
      "ejn-A44I6OGTc-OZmb_6MB4m3p3dmDIdiZPTpJYSIlbA4HGgmGOUBQipZnoPl7lQ-nwyci1lToHBKg\n"
     ]
    },
    {
     "name": "stderr",
     "output_type": "stream",
     "text": [
      "\r",
      " 15%|██████▍                                   | 34/220 [00:16<01:17,  2.40it/s]"
     ]
    },
    {
     "name": "stdout",
     "output_type": "stream",
     "text": [
      "wOP9Dz_v6nPxxmXa44FWGkkAahXUHHC2KDIrPwKLotA87PAU-DYIWH5i3waaa5POBQGRrTO4qs-WUg\n"
     ]
    },
    {
     "name": "stderr",
     "output_type": "stream",
     "text": [
      "\r",
      " 16%|██████▋                                   | 35/220 [00:17<01:10,  2.63it/s]"
     ]
    },
    {
     "name": "stdout",
     "output_type": "stream",
     "text": [
      "UYHu2PNYpPSeVzhqMpfDiwtwEDDhh47dK2W5wBJD3ZmSFr9UwnMS3tIhcVJBnHGh4cC2fI-oiyC6lw\n"
     ]
    },
    {
     "name": "stderr",
     "output_type": "stream",
     "text": [
      "\r",
      " 16%|██████▊                                   | 36/220 [00:17<01:13,  2.50it/s]"
     ]
    },
    {
     "name": "stdout",
     "output_type": "stream",
     "text": [
      "G2UIK3dyLyi3PlbG9soYTdyBb1HVaZ9oDcRp5sZhJzdicmHNsgCnRkSrybcx6gS92ceJuCd1vgoEVA\n"
     ]
    },
    {
     "name": "stderr",
     "output_type": "stream",
     "text": [
      "\r",
      " 17%|███████                                   | 37/220 [00:18<01:08,  2.65it/s]"
     ]
    },
    {
     "name": "stdout",
     "output_type": "stream",
     "text": [
      "Yvm7Xis908TY0Vg1SES2xf_H3gi_vOZtjnijNXKt-lj6Gnp1PDD95nVv8z255puB66VRvcB2ZCFTjw\n"
     ]
    },
    {
     "name": "stderr",
     "output_type": "stream",
     "text": [
      "\r",
      " 17%|███████▎                                  | 38/220 [00:18<01:03,  2.85it/s]"
     ]
    },
    {
     "name": "stdout",
     "output_type": "stream",
     "text": [
      "dAuplJ4lDIc_i_z3FBxAgq7r2ojX21VUqHwwFWKJaPWCaiuuDoj74izj7HO5qXZA5xSX-t0Hl5pUJQ\n"
     ]
    },
    {
     "name": "stderr",
     "output_type": "stream",
     "text": [
      "\r",
      " 18%|███████▍                                  | 39/220 [00:18<01:06,  2.74it/s]"
     ]
    },
    {
     "name": "stdout",
     "output_type": "stream",
     "text": [
      "M0e0VhStW-U7oDroJ8-fkhoRv4dYqGzloW3WDo0cc-kbXaIOQLFDio6sidt_8rm-DgvAM6eLaV4ZQg\n"
     ]
    },
    {
     "name": "stderr",
     "output_type": "stream",
     "text": [
      "\r",
      " 18%|███████▋                                  | 40/220 [00:19<01:10,  2.56it/s]"
     ]
    },
    {
     "name": "stdout",
     "output_type": "stream",
     "text": [
      "pjMDCRUpc2E3wtqYbU_38hr62YerLa6A3_JPhrbIUpZfRXbIpWX_to6jT-_EBb95OYdz9Oi4sWueLQ\n"
     ]
    },
    {
     "name": "stderr",
     "output_type": "stream",
     "text": [
      "\r",
      " 19%|███████▊                                  | 41/220 [00:19<01:05,  2.75it/s]"
     ]
    },
    {
     "name": "stdout",
     "output_type": "stream",
     "text": [
      "MJYb1R_EbZyGsxRok7YxkqJSVK0hgvtx8Y8h5SkenWRRky2sK5TBpYsPOHS34fNjGVD-R2eG_JlQ0g\n"
     ]
    },
    {
     "name": "stderr",
     "output_type": "stream",
     "text": [
      "\r",
      " 19%|████████                                  | 42/220 [00:19<01:03,  2.80it/s]"
     ]
    },
    {
     "name": "stdout",
     "output_type": "stream",
     "text": [
      "1_m_DDfoDDnfmhij3uMLPMeYp5aW-Isgq_i1YBczWASp1JRWZnFaTvpDfVJMePjJfyoRgrqz1lDDBg\n"
     ]
    },
    {
     "name": "stderr",
     "output_type": "stream",
     "text": [
      "\r",
      " 20%|████████▏                                 | 43/220 [00:20<01:00,  2.94it/s]"
     ]
    },
    {
     "name": "stdout",
     "output_type": "stream",
     "text": [
      "Pz3ezybyuQTR3YxzUQX6K9ItXM4P1cHMn9IEM88sAChqzQmV32_nnxs3F8WGEaa2y3RSNfWQZJqiwg\n"
     ]
    },
    {
     "name": "stderr",
     "output_type": "stream",
     "text": [
      "\r",
      " 20%|████████▍                                 | 44/220 [00:20<00:57,  3.06it/s]"
     ]
    },
    {
     "name": "stdout",
     "output_type": "stream",
     "text": [
      "zaRcjoahw4whrZptaHQO6Rsc6X64aBvYn3vEA6xY-g27C6yksEihUzc5ANbOeermD7pIY9rxgdfYBQ\n"
     ]
    },
    {
     "name": "stderr",
     "output_type": "stream",
     "text": [
      "\r",
      " 20%|████████▌                                 | 45/220 [00:20<00:56,  3.12it/s]"
     ]
    },
    {
     "name": "stdout",
     "output_type": "stream",
     "text": [
      "3nJ20RvRc1z4-7rjbWJmMcSvgdEtkneKBRAY-CFyzwc15Tdy8mZsRr1oEFPKmevmMgi7rNQydFWKpA\n"
     ]
    },
    {
     "name": "stderr",
     "output_type": "stream",
     "text": [
      "\r",
      " 21%|████████▊                                 | 46/220 [00:21<01:01,  2.81it/s]"
     ]
    },
    {
     "name": "stdout",
     "output_type": "stream",
     "text": [
      "BZGgwOdZ1Smt3_fwa2VBmT_MvxaigJlHex9v_LgIAbs05ZctRf4LT-aiG3C1-51DgCtwx4mFQQXvXw\n"
     ]
    },
    {
     "name": "stderr",
     "output_type": "stream",
     "text": [
      "\r",
      " 21%|████████▉                                 | 47/220 [00:21<00:58,  2.95it/s]"
     ]
    },
    {
     "name": "stdout",
     "output_type": "stream",
     "text": [
      "pnL3PDLi_pmXxwxs378W5CuldZ1uy1T9LqSfwbRwpXYqv5xJz4b0K9Aago6nea8cy77CtOj16iJKwA\n"
     ]
    },
    {
     "name": "stderr",
     "output_type": "stream",
     "text": [
      "\r",
      " 22%|█████████▏                                | 48/220 [00:21<01:03,  2.70it/s]"
     ]
    },
    {
     "name": "stdout",
     "output_type": "stream",
     "text": [
      "NDDLfMmZ4M76vhiz9YeQz2w48ZjTXA2LMP2XM_QYqugU386-UvF9-uy9d1oGHwbrnuAOGIYOws8KrQ\n"
     ]
    },
    {
     "name": "stderr",
     "output_type": "stream",
     "text": [
      "\r",
      " 22%|█████████▎                                | 49/220 [00:22<01:01,  2.79it/s]"
     ]
    },
    {
     "name": "stdout",
     "output_type": "stream",
     "text": [
      "0DwL6YptsaUftgcPdQxnbkLKLm5cWNP43YX6P3a72BKLr6cvTEii2YCdu6w3KN3m9S28prSxzeY5Zw\n"
     ]
    },
    {
     "name": "stderr",
     "output_type": "stream",
     "text": [
      "\r",
      " 23%|█████████▌                                | 50/220 [00:22<01:01,  2.77it/s]"
     ]
    },
    {
     "name": "stdout",
     "output_type": "stream",
     "text": [
      "PkAZIi4hh8KyRsd3oeKXjMt1WR2wpJGxzILFsRTmwid9sSptmu9oxbC-vKxyQf2JZkUNn9TQeMJz0w\n"
     ]
    },
    {
     "name": "stderr",
     "output_type": "stream",
     "text": [
      "\r",
      " 23%|█████████▋                                | 51/220 [00:23<01:12,  2.33it/s]"
     ]
    },
    {
     "name": "stdout",
     "output_type": "stream",
     "text": [
      "pcOKrOaZ-qRBOrPMLKW8TK7f8lgyV6weRz3tXHOWHlmy2tzvb3-QTuqY06s43qXC2NMiSO39ejU1yg\n"
     ]
    },
    {
     "name": "stderr",
     "output_type": "stream",
     "text": [
      "\r",
      " 24%|█████████▉                                | 52/220 [00:23<01:06,  2.52it/s]"
     ]
    },
    {
     "name": "stdout",
     "output_type": "stream",
     "text": [
      "77O8s1o8Sdsq5z_dABlTZdzWFmlyhd4u7lvrnLl7C2mMi35bvS2XYgF3FSxRRVPiO75j2O7IOHDzMw\n"
     ]
    },
    {
     "name": "stderr",
     "output_type": "stream",
     "text": [
      "\r",
      " 24%|██████████                                | 53/220 [00:23<01:02,  2.67it/s]"
     ]
    },
    {
     "name": "stdout",
     "output_type": "stream",
     "text": [
      "nVdcJQxcnzidx-BTSCqL_EGSdwjOgamJCyXlCqKBkfL2Y03aitFmqK2xjVsBG9izr4xQ2iWcHfcrJA\n"
     ]
    },
    {
     "name": "stderr",
     "output_type": "stream",
     "text": [
      "\r",
      " 25%|██████████▎                               | 54/220 [00:24<00:58,  2.83it/s]"
     ]
    },
    {
     "name": "stdout",
     "output_type": "stream",
     "text": [
      "rCxX6UoeKG9Hy7FCXqJZjXWyBYl5Ow1_VXfduw_ueWqDiIboDZ4BMrisOJygEX772J1XZLatXPdc5Q\n"
     ]
    },
    {
     "name": "stderr",
     "output_type": "stream",
     "text": [
      "\r",
      " 25%|██████████▌                               | 55/220 [00:24<00:55,  2.95it/s]"
     ]
    },
    {
     "name": "stdout",
     "output_type": "stream",
     "text": [
      "A8yLCkwzdUV5WeC0Jz0p9icBcc9qfoOqSREYHlydMTMD5pN2pkKQz20L22EjgZyaCIazCZB30nhKwQ\n"
     ]
    },
    {
     "name": "stderr",
     "output_type": "stream",
     "text": [
      "\r",
      " 25%|██████████▋                               | 56/220 [00:24<01:03,  2.60it/s]"
     ]
    },
    {
     "name": "stdout",
     "output_type": "stream",
     "text": [
      "2IwJySZkgiLAdmzXiNsMEf78tX9TH6FHRoOqjF7G6MOFQcTtS_t87l8yT0L_Dun7GJNQjD8w0kaE_w\n"
     ]
    },
    {
     "name": "stderr",
     "output_type": "stream",
     "text": [
      "\r",
      " 26%|██████████▉                               | 57/220 [00:25<00:58,  2.77it/s]"
     ]
    },
    {
     "name": "stdout",
     "output_type": "stream",
     "text": [
      "mAZpXnGqMAM2vpXiEHVLaN9hNRSvBTUoZEo4o-kQtQIklXU4ESDx06pB9cFDR0k1LfGkYGIZbnb_lw\n"
     ]
    },
    {
     "name": "stderr",
     "output_type": "stream",
     "text": [
      "\r",
      " 26%|███████████                               | 58/220 [00:25<00:55,  2.91it/s]"
     ]
    },
    {
     "name": "stdout",
     "output_type": "stream",
     "text": [
      "YNbZxvJOwAIDaTJq3ILUeRdZIrKSH_3V5gKSgIRD3XagMRlI0lxzn3ejJdcw5vL-xhgVq0dua1kX0Q\n"
     ]
    },
    {
     "name": "stderr",
     "output_type": "stream",
     "text": [
      "\r",
      " 27%|███████████▎                              | 59/220 [00:25<00:53,  3.01it/s]"
     ]
    },
    {
     "name": "stdout",
     "output_type": "stream",
     "text": [
      "fdwqDQ1rEdqetNwJ-5nCjhhJQYM1GDpJMR7VNnrQuyQsdYyz0z2rAm83wN3OfrawZv-Z9kmkS8HeEQ\n"
     ]
    },
    {
     "name": "stderr",
     "output_type": "stream",
     "text": [
      "\r",
      " 27%|███████████▍                              | 60/220 [00:26<00:51,  3.10it/s]"
     ]
    },
    {
     "name": "stdout",
     "output_type": "stream",
     "text": [
      "_HtIlS_PhJdneIFaeZOJHfnkCFZ4775dROj96gV0T9Fq-ej_I9ubeL2ie8H6XExvuxBlak5Z2B5DaQ\n"
     ]
    },
    {
     "name": "stderr",
     "output_type": "stream",
     "text": [
      "\r",
      " 28%|███████████▋                              | 61/220 [00:26<00:52,  3.04it/s]"
     ]
    },
    {
     "name": "stdout",
     "output_type": "stream",
     "text": [
      "y3w7j7sIqLZ2I4Z-DVxGAoJcwGA5_OoSXI400yCl0yKm_SM6cN8h39r4P7fA_jXAteCNQZrDx7HJag\n"
     ]
    },
    {
     "name": "stderr",
     "output_type": "stream",
     "text": [
      "\r",
      " 28%|███████████▊                              | 62/220 [00:26<00:50,  3.10it/s]"
     ]
    },
    {
     "name": "stdout",
     "output_type": "stream",
     "text": [
      "xwV0AuG_cnUMDFGRBDObLULVzFg0dyrKgnFrTZGvhTi-3Bd1x52wsnYUjqehzU6WI7myYzOf-cg3oQ\n"
     ]
    },
    {
     "name": "stderr",
     "output_type": "stream",
     "text": [
      "\r",
      " 29%|████████████                              | 63/220 [00:27<00:49,  3.18it/s]"
     ]
    },
    {
     "name": "stdout",
     "output_type": "stream",
     "text": [
      "hlWl36L3sKgu99R8d9nghisPd6a3rmzP9gPIadFew918a3ve9dC5LUsRYYcHy8Fx8xna4VFKbuE61Q\n"
     ]
    },
    {
     "name": "stderr",
     "output_type": "stream",
     "text": [
      "\r",
      " 29%|████████████▏                             | 64/220 [00:27<01:12,  2.16it/s]"
     ]
    },
    {
     "name": "stdout",
     "output_type": "stream",
     "text": [
      "KYR-FJWJoddr4Nwn216mTGeYueKAdW4tM9P3Sm-XCbdvzD0bg3h8cDEx6uJFL15uSFi0-YhNs1EjCA\n"
     ]
    },
    {
     "name": "stderr",
     "output_type": "stream",
     "text": [
      "\r",
      " 30%|████████████▍                             | 65/220 [00:28<01:03,  2.43it/s]"
     ]
    },
    {
     "name": "stdout",
     "output_type": "stream",
     "text": [
      "ABeF-4upR0BDn2xXUFgXdkZgWxVuPjeBEgKpjO3Fh0OgEs-AoSqr7WzFdXOSa-MV10YUGexCkTxDTQ\n"
     ]
    },
    {
     "name": "stderr",
     "output_type": "stream",
     "text": [
      "\r",
      " 30%|████████████▌                             | 66/220 [00:28<00:58,  2.63it/s]"
     ]
    },
    {
     "name": "stdout",
     "output_type": "stream",
     "text": [
      "L8UA04uAgWVTJKB3WRTBQ0KyW2syKfjGPuSTlzuD1bDu0IIvI6FA9qFwLZ63beWmQTitsku7EisL8Q\n"
     ]
    },
    {
     "name": "stderr",
     "output_type": "stream",
     "text": [
      "\r",
      " 30%|████████████▊                             | 67/220 [00:28<00:54,  2.80it/s]"
     ]
    },
    {
     "name": "stdout",
     "output_type": "stream",
     "text": [
      "jCQrwwzEKC1Ml7sqbBHEjADv9jsQoo2V3dRm6WmZ7mq-v_ukJMajmNRlTThspDmnPjKzWoo_CfpgZA\n"
     ]
    },
    {
     "name": "stderr",
     "output_type": "stream",
     "text": [
      "\r",
      " 31%|████████████▉                             | 68/220 [00:29<00:51,  2.94it/s]"
     ]
    },
    {
     "name": "stdout",
     "output_type": "stream",
     "text": [
      "r1dlEUJROetx-JeQtkVRnSDBBdKZUSsc3IZjAchUywMftrAx0d0UFVQI2kGo-hWfmlguwzEjlbNSNw\n"
     ]
    },
    {
     "name": "stderr",
     "output_type": "stream",
     "text": [
      "\r",
      " 31%|█████████████▏                            | 69/220 [00:29<00:49,  3.04it/s]"
     ]
    },
    {
     "name": "stdout",
     "output_type": "stream",
     "text": [
      "xI4FkZnLz9sCIzdOdzhTc-5d9QcXO8TogNLnMttKTy9iIB0SIhd_lOIHca6glyu1ev7YDjHWSJhBGw\n"
     ]
    },
    {
     "name": "stderr",
     "output_type": "stream",
     "text": [
      "\r",
      " 32%|█████████████▎                            | 70/220 [00:29<00:47,  3.17it/s]"
     ]
    },
    {
     "name": "stdout",
     "output_type": "stream",
     "text": [
      "Ey0vctxZ8kS1aaudhv5eK8qE-F7XNIukHTeJ3LASsnwQ1mBypkt2z7rbe2rSdiQDZw6eJlso9yJ9iw\n"
     ]
    },
    {
     "name": "stderr",
     "output_type": "stream",
     "text": [
      "\r",
      " 32%|█████████████▌                            | 71/220 [00:29<00:45,  3.25it/s]"
     ]
    },
    {
     "name": "stdout",
     "output_type": "stream",
     "text": [
      "39ZcEuTGldHPViy2Ak_GEu0J9OcOI5wBoTO-ZhYCaewd4XaZabDkl9Rw13vHMpPp1dzaDsy_89LcQg\n"
     ]
    },
    {
     "name": "stderr",
     "output_type": "stream",
     "text": [
      "\r",
      " 33%|█████████████▋                            | 72/220 [00:30<00:45,  3.24it/s]"
     ]
    },
    {
     "name": "stdout",
     "output_type": "stream",
     "text": [
      "x_8wIrQpUmTmNDRHds0EJpdhjyliRRTj5XvI6p5WFyPkkGVYe4zLCWP4dEoxVjLWCL50ZnMvmDNVJg\n"
     ]
    },
    {
     "name": "stderr",
     "output_type": "stream",
     "text": [
      "\r",
      " 33%|█████████████▉                            | 73/220 [00:30<00:46,  3.14it/s]"
     ]
    },
    {
     "name": "stdout",
     "output_type": "stream",
     "text": [
      "Ho2g_Wm1jO1D_rure0xgThDfIeVWIHa1be4AFPXlOwvKJHa7KxEl2ItXkhXo-V-IsFYaailtqn9h4Q\n"
     ]
    },
    {
     "name": "stderr",
     "output_type": "stream",
     "text": [
      "\r",
      " 34%|██████████████▏                           | 74/220 [00:30<00:45,  3.22it/s]"
     ]
    },
    {
     "name": "stdout",
     "output_type": "stream",
     "text": [
      "YcIXKG565l46XxCQOHX0YOqS_ESweZrlhGNyABJZFFp0LCHbQq8VwNcdboSxvPWK623_24yYhhPR3g\n"
     ]
    },
    {
     "name": "stderr",
     "output_type": "stream",
     "text": [
      "\r",
      " 34%|██████████████▎                           | 75/220 [00:31<00:44,  3.27it/s]"
     ]
    },
    {
     "name": "stdout",
     "output_type": "stream",
     "text": [
      "Gocj507jfwT8jFWSk95h0WVr0WsDHjcOwsf5nb4YH788GaojToRDRpkF5_QArFw6aVUfUdweAIqMgA\n"
     ]
    },
    {
     "name": "stderr",
     "output_type": "stream",
     "text": [
      "\r",
      " 35%|██████████████▌                           | 76/220 [00:31<00:43,  3.31it/s]"
     ]
    },
    {
     "name": "stdout",
     "output_type": "stream",
     "text": [
      "hXxmCKdB-1xJSO7ZQJ86QiCzLeJPcOe6a662uRl01aLeehPZ_rIGG8lBNkJO1gKHKxfRuNc722Bj7w\n"
     ]
    },
    {
     "name": "stderr",
     "output_type": "stream",
     "text": [
      "\r",
      " 35%|██████████████▋                           | 77/220 [00:31<00:44,  3.22it/s]"
     ]
    },
    {
     "name": "stdout",
     "output_type": "stream",
     "text": [
      "wIMXcQdW4goRw00KpJcT7uK-gBrpivuBG6M7PCXY8NmL9xK6ysidfHfJFaUV1X4DvqaewJr8h053CA\n"
     ]
    },
    {
     "name": "stderr",
     "output_type": "stream",
     "text": [
      "\r",
      " 35%|██████████████▉                           | 78/220 [00:32<00:43,  3.28it/s]"
     ]
    },
    {
     "name": "stdout",
     "output_type": "stream",
     "text": [
      "wsnNT6_JcwNEtSth61NTPrkm_v4g5fvhXcZzhabgJcOOshljU-JlVd-JAPhlZzkhrNG6TUeb4g0vuw\n"
     ]
    },
    {
     "name": "stderr",
     "output_type": "stream",
     "text": [
      "\r",
      " 36%|███████████████                           | 79/220 [00:32<00:42,  3.32it/s]"
     ]
    },
    {
     "name": "stdout",
     "output_type": "stream",
     "text": [
      "rrVC1ec8JCJEFxbWMjcZX_H4BZULYBaR_heu8Ol36aiflqnTziTd_0zP1Cf0OgrcjSxrakH918eLag\n"
     ]
    },
    {
     "name": "stderr",
     "output_type": "stream",
     "text": [
      "\r",
      " 36%|███████████████▎                          | 80/220 [00:32<00:41,  3.38it/s]"
     ]
    },
    {
     "name": "stdout",
     "output_type": "stream",
     "text": [
      "7aBQ14B_nhPRabgKjT5E4yaLFFld91shPF40h9JsYIcqb0wYCf4S7yTsLD8XaEQ9m7GCLM6a-R40EQ\n"
     ]
    },
    {
     "name": "stderr",
     "output_type": "stream",
     "text": [
      "\r",
      " 37%|███████████████▍                          | 81/220 [00:33<00:41,  3.37it/s]"
     ]
    },
    {
     "name": "stdout",
     "output_type": "stream",
     "text": [
      "QmYiD41N951WMsQNFOvGJxjTB3Xc89QOKWdQCzv7Gx8Z6hethBdCHbJI9tTe2kJSDTJFLLDsCEbdbQ\n"
     ]
    },
    {
     "name": "stderr",
     "output_type": "stream",
     "text": [
      "\r",
      " 37%|███████████████▋                          | 82/220 [00:33<00:44,  3.12it/s]"
     ]
    },
    {
     "name": "stdout",
     "output_type": "stream",
     "text": [
      "H6aSyEW3cHv6_i-rp-nuKg94YSjJQwcgxgZHfvFl3V5IioRUK0P0ofCpTtoNiNsF0mvEaDgsXLfqLQ\n"
     ]
    },
    {
     "name": "stderr",
     "output_type": "stream",
     "text": [
      "\r",
      " 38%|███████████████▊                          | 83/220 [00:33<00:42,  3.20it/s]"
     ]
    },
    {
     "name": "stdout",
     "output_type": "stream",
     "text": [
      "cSEwToxX_HQq29kRlZBMXyt9B5-XQRWDwWGSciqZMioZjdzWriPYXvXkj0Dsy6LoXFs0cDdLGFdtqQ\n"
     ]
    },
    {
     "name": "stderr",
     "output_type": "stream",
     "text": [
      "\r",
      " 38%|████████████████                          | 84/220 [00:34<00:43,  3.13it/s]"
     ]
    },
    {
     "name": "stdout",
     "output_type": "stream",
     "text": [
      "cgWTVh0OeBIXofuGsk2D2buIlGziFCaZMXj_DGk_CpSqyqT4WJDpI7W0VQs2gXkhOxu3GdxbKusWsw\n"
     ]
    },
    {
     "name": "stderr",
     "output_type": "stream",
     "text": [
      "\r",
      " 39%|████████████████▏                         | 85/220 [00:34<00:42,  3.19it/s]"
     ]
    },
    {
     "name": "stdout",
     "output_type": "stream",
     "text": [
      "u177FIdK455iaAUTqCMF41-0bow-0Js9zDj-3M0UP2TBfRQA6OUm6p2AwMJcBave5mJowkUGiAf-9w\n"
     ]
    },
    {
     "name": "stderr",
     "output_type": "stream",
     "text": [
      "\r",
      " 39%|████████████████▍                         | 86/220 [00:34<00:41,  3.21it/s]"
     ]
    },
    {
     "name": "stdout",
     "output_type": "stream",
     "text": [
      "9Q8QzmxT-cAY5mYUWC__4Djr_KBd6sagcoyvcH4IX_TEH8yZcyVcY9TedfqqfDxaDK6C43JNchiLkA\n"
     ]
    },
    {
     "name": "stderr",
     "output_type": "stream",
     "text": [
      "\r",
      " 40%|████████████████▌                         | 87/220 [00:34<00:41,  3.19it/s]"
     ]
    },
    {
     "name": "stdout",
     "output_type": "stream",
     "text": [
      "14LZw_oOlQReOCnKKn6H6mqOQPGg--_NEw5YWuuxDrALukEcvuoESeBq6-loDv7LjQ9giMsZV2qgFA\n"
     ]
    },
    {
     "name": "stderr",
     "output_type": "stream",
     "text": [
      "\r",
      " 40%|████████████████▊                         | 88/220 [00:35<00:41,  3.21it/s]"
     ]
    },
    {
     "name": "stdout",
     "output_type": "stream",
     "text": [
      "4usB_CL52d_bAkIycyQSs-o8nz2lbRDjE_iCHWrqeVSfr5wYJFDXD1foVFqddbqu2gIbeW1AaQ_ePA\n"
     ]
    },
    {
     "name": "stderr",
     "output_type": "stream",
     "text": [
      "\r",
      " 40%|████████████████▉                         | 89/220 [00:35<00:41,  3.17it/s]"
     ]
    },
    {
     "name": "stdout",
     "output_type": "stream",
     "text": [
      "F8IXfmowR49gHi9oMji8lwjoMwfv7eGqiO0uPvvY-pSIX8GJ4oz9COMxp6gG7dQQ9qq2qPrE8Y4ywA\n"
     ]
    },
    {
     "name": "stderr",
     "output_type": "stream",
     "text": [
      "\r",
      " 41%|█████████████████▏                        | 90/220 [00:35<00:39,  3.27it/s]"
     ]
    },
    {
     "name": "stdout",
     "output_type": "stream",
     "text": [
      "tXzcj5b1zDdA21cvzDF8h0UuV0v7gf5qmb4Kwylf3aEDEpnmKdsbClM0_t7olL6VFdKGLvpyLCrSXg\n"
     ]
    },
    {
     "name": "stderr",
     "output_type": "stream",
     "text": [
      "\r",
      " 41%|█████████████████▎                        | 91/220 [00:36<00:39,  3.28it/s]"
     ]
    },
    {
     "name": "stdout",
     "output_type": "stream",
     "text": [
      "m3r90YEzzmW3mQ_fXmUo4B0hPmlVa_kxhVUQEm6GAUz2dRIBxG-0DJFutTDaz5LHk5rwcWq3dy17Nw\n"
     ]
    },
    {
     "name": "stderr",
     "output_type": "stream",
     "text": [
      "\r",
      " 42%|█████████████████▌                        | 92/220 [00:36<00:40,  3.18it/s]"
     ]
    },
    {
     "name": "stdout",
     "output_type": "stream",
     "text": [
      "uP4WMlmIGW7KTfekxpz10Q_kbT-3f2xYL-8B7_HwICF2LRJLpOHtZreer-V6MCTXmj3-hY-8_Q4sIA\n"
     ]
    },
    {
     "name": "stderr",
     "output_type": "stream",
     "text": [
      "\r",
      " 42%|█████████████████▊                        | 93/220 [00:36<00:42,  2.99it/s]"
     ]
    },
    {
     "name": "stdout",
     "output_type": "stream",
     "text": [
      "vTiEtRBCTExhHUbGDWL9Aa3f3J0OWM6ZAlgGKtHmdVYPi6MDl6Ydp89i2H70oWGFukXrbQszdmR0Hw\n"
     ]
    },
    {
     "name": "stderr",
     "output_type": "stream",
     "text": [
      "\r",
      " 43%|█████████████████▉                        | 94/220 [00:37<00:43,  2.91it/s]"
     ]
    },
    {
     "name": "stdout",
     "output_type": "stream",
     "text": [
      "kKBbt8xpwpEYE4CwVU4gdpa7nDsR5ChQhu3JuFeEzA8cXo08ntts2JHG6fVuR3M15jrvTNEgmTuQQQ\n"
     ]
    },
    {
     "name": "stderr",
     "output_type": "stream",
     "text": [
      "\r",
      " 43%|██████████████████▏                       | 95/220 [00:37<00:40,  3.07it/s]"
     ]
    },
    {
     "name": "stdout",
     "output_type": "stream",
     "text": [
      "X7cJFdT6J9oYUzhhHYhPgX6Y7EDuFttB2jYQRR_pshRuyAhOnUiORpIqRicocpBdpKk8mqEGGSvT3Q\n"
     ]
    },
    {
     "name": "stderr",
     "output_type": "stream",
     "text": [
      "\r",
      " 44%|██████████████████▎                       | 96/220 [00:37<00:39,  3.15it/s]"
     ]
    },
    {
     "name": "stdout",
     "output_type": "stream",
     "text": [
      "BwNQMiE6JN0xQ53oKDABuw_7mY5PQIGLnyM8rq3hKkKQMPqKgr-weuF8V0zeE41Xfpl2oAE5z6xVyQ\n"
     ]
    },
    {
     "name": "stderr",
     "output_type": "stream",
     "text": [
      "\r",
      " 44%|██████████████████▌                       | 97/220 [00:38<00:38,  3.19it/s]"
     ]
    },
    {
     "name": "stdout",
     "output_type": "stream",
     "text": [
      "0pn89vspYx9Ul1tXrmw2iZon7Y7n8ktP763k-X7TdrB5HokJxLxmwa7cLmtzDQ0VlE4O7TPHxBn32w\n"
     ]
    },
    {
     "name": "stderr",
     "output_type": "stream",
     "text": [
      "\r",
      " 45%|██████████████████▋                       | 98/220 [00:38<00:49,  2.45it/s]"
     ]
    },
    {
     "name": "stdout",
     "output_type": "stream",
     "text": [
      "oY_RbwV9jBtIumBUNbTJ1OQdmNRHonJ_wLs7N0yKmBoLJd5zVaI4v6d7nTM1sg2ra_ytKszyFIzTrg\n"
     ]
    },
    {
     "name": "stderr",
     "output_type": "stream",
     "text": [
      "\r",
      " 45%|██████████████████▉                       | 99/220 [00:39<00:45,  2.67it/s]"
     ]
    },
    {
     "name": "stdout",
     "output_type": "stream",
     "text": [
      "aKO9KmmZ2t78THIYOeHMF7mcGnwi832HN6E4Wi750nb6Tz5L25ay7PvZOzuxlzcR-cEP65PwNnyfxA\n",
      "api cost full : infinite loop start\n",
      "loop location :  8rKEgzefduJdbcdHGsWcDA7Cu8pCFiezFtx5sXZ-r2xvubJlT0fxU6WrKw\n",
      "try 10 second wait time\n",
      "429\n",
      "try 10 second wait time\n",
      "429\n",
      "try 10 second wait time\n"
     ]
    },
    {
     "name": "stderr",
     "output_type": "stream",
     "text": [
      "\r",
      " 45%|██████████████████▋                      | 100/220 [01:10<19:31,  9.76s/it]"
     ]
    },
    {
     "name": "stdout",
     "output_type": "stream",
     "text": [
      "200\n",
      "total wait time :  31.409281969070435\n",
      "recovery api cost\n",
      "bql3R3r3Z0W6U6qu0iYFxaWQaPpEvtj0ZkDZvhmqOnSGNp92xD7969fSrlj-SqO8cXhUh4dZEBU_7g\n"
     ]
    },
    {
     "name": "stderr",
     "output_type": "stream",
     "text": [
      "\r",
      " 46%|██████████████████▊                      | 101/220 [01:10<13:43,  6.92s/it]"
     ]
    },
    {
     "name": "stdout",
     "output_type": "stream",
     "text": [
      "o5_tNnyx2LNA2G5Iwx2k1XFv_8NV5wxw_rmCQLyD5aW8Ge7DefqPRl9YYBpGfIqgpdUSPs6YPftzQg\n"
     ]
    },
    {
     "name": "stderr",
     "output_type": "stream",
     "text": [
      "\r",
      " 46%|███████████████████                      | 102/220 [01:11<09:44,  4.96s/it]"
     ]
    },
    {
     "name": "stdout",
     "output_type": "stream",
     "text": [
      "ZIKexKKrCtn9orJ6yaVlhXqbxyLO2_IdBkyZ-qx9bplchVLcp_XDKCPimUP1-3Sple75CbnKV_wcow\n"
     ]
    },
    {
     "name": "stderr",
     "output_type": "stream",
     "text": [
      "\r",
      " 47%|███████████████████▏                     | 103/220 [01:11<06:57,  3.57s/it]"
     ]
    },
    {
     "name": "stdout",
     "output_type": "stream",
     "text": [
      "68_K_hv2uasAHw8GJBnWy8BXrBT8DFE055BQ-m67M-akPlchHMLRPdPk_w_sO75_IManOTiH9Yz5kw\n"
     ]
    },
    {
     "name": "stderr",
     "output_type": "stream",
     "text": [
      "\r",
      " 47%|███████████████████▍                     | 104/220 [01:12<05:18,  2.75s/it]"
     ]
    },
    {
     "name": "stdout",
     "output_type": "stream",
     "text": [
      "OOGUrCsLL0gAOpH7-XX3e0mViq0243nmjOmpB6Y_UuCpAzLmg9Mbko9EY2YkBLgVpbVqTgtRMQ6gzQ\n"
     ]
    },
    {
     "name": "stderr",
     "output_type": "stream",
     "text": [
      "\r",
      " 48%|███████████████████▌                     | 105/220 [01:13<04:02,  2.11s/it]"
     ]
    },
    {
     "name": "stdout",
     "output_type": "stream",
     "text": [
      "0hzi9SL60RBzDibBsINvIREXMJPROPjdCvu1BrJeCOgs9Ya3igYYSGtDEEJpny4oB2O-EjY0SfcI7g\n"
     ]
    },
    {
     "name": "stderr",
     "output_type": "stream",
     "text": [
      "\r",
      " 48%|███████████████████▊                     | 106/220 [01:13<03:01,  1.60s/it]"
     ]
    },
    {
     "name": "stdout",
     "output_type": "stream",
     "text": [
      "fxKUFLCEg7JoH2t32yEkPTNih6druWkKHUhBVqUT9qPm9n5XZM05yYRCLjwDgrieHcf8lmYtgGDWMw\n"
     ]
    },
    {
     "name": "stderr",
     "output_type": "stream",
     "text": [
      "\r",
      " 49%|███████████████████▉                     | 107/220 [01:13<02:16,  1.21s/it]"
     ]
    },
    {
     "name": "stdout",
     "output_type": "stream",
     "text": [
      "XIl5zXZ_CKrpfSfooNbf-T0V4SrSytWg3CcNOmAGoHzC6JlcW4P00LTIButE3NwPTdCX6wLXPoG7DA\n"
     ]
    },
    {
     "name": "stderr",
     "output_type": "stream",
     "text": [
      "\r",
      " 49%|████████████████████▏                    | 108/220 [01:14<01:46,  1.05it/s]"
     ]
    },
    {
     "name": "stdout",
     "output_type": "stream",
     "text": [
      "SFG_qvu3jejzbhh2fzPqEO29J25S0w9beYwKnbzMeeuMzrTknARsNh5w4vvRbR3rSLObCLhSa8MPzw\n"
     ]
    },
    {
     "name": "stderr",
     "output_type": "stream",
     "text": [
      "\r",
      " 50%|████████████████████▎                    | 109/220 [01:14<01:28,  1.25it/s]"
     ]
    },
    {
     "name": "stdout",
     "output_type": "stream",
     "text": [
      "sWt3OlVlstZsh_k3nV_GP2CzAajixN67pkUrfNOfRnWOotQxsj_Eo_yHGI2_9L544LU4lCKWYF4lEA\n"
     ]
    },
    {
     "name": "stderr",
     "output_type": "stream",
     "text": [
      "\r",
      " 50%|████████████████████▌                    | 110/220 [01:15<01:16,  1.44it/s]"
     ]
    },
    {
     "name": "stdout",
     "output_type": "stream",
     "text": [
      "jIoIYMLxtpNq4iQIBSNeyVJ_O4SrV6x8Lki_-E_4krScguGbGx3un5zryGPSX0c38_nO1itNs9no7g\n"
     ]
    },
    {
     "name": "stderr",
     "output_type": "stream",
     "text": [
      "\r",
      " 50%|████████████████████▋                    | 111/220 [01:15<01:02,  1.75it/s]"
     ]
    },
    {
     "name": "stdout",
     "output_type": "stream",
     "text": [
      "KoaDTukKAXrT_7i8BlHr3QU52mufLiylpXi4-L6t94GoQbTHS1A1RGNAqz_ml93fCNoKovMDgLbI-g\n"
     ]
    },
    {
     "name": "stderr",
     "output_type": "stream",
     "text": [
      "\r",
      " 51%|████████████████████▊                    | 112/220 [01:15<00:54,  1.98it/s]"
     ]
    },
    {
     "name": "stdout",
     "output_type": "stream",
     "text": [
      "nePhM0FUfJ5tKGgDZEkrHosq9YS22Pk8Kx_kJDQ0rZ-wRskc5h7dauqPScSdtkY0Oj1UdNxwA48inQ\n"
     ]
    },
    {
     "name": "stderr",
     "output_type": "stream",
     "text": [
      "\r",
      " 51%|█████████████████████                    | 113/220 [01:16<00:47,  2.26it/s]"
     ]
    },
    {
     "name": "stdout",
     "output_type": "stream",
     "text": [
      "86jJfjgqWhi-mQVHeKqMO72rHSINvbb78N_vHNaeOsjHCRUHHxjuTnZU_OYzppsBEtYb1koefentrw\n"
     ]
    },
    {
     "name": "stderr",
     "output_type": "stream",
     "text": [
      "\r",
      " 52%|█████████████████████▏                   | 114/220 [01:16<00:42,  2.47it/s]"
     ]
    },
    {
     "name": "stdout",
     "output_type": "stream",
     "text": [
      "YzgWxJbUcKkTE_PfmWkaba6ZBU5UkaIUGMPZ-mXrlAYKvdSjNO_oXGveiTZmp5TsPochtzlqq3MHDA\n"
     ]
    },
    {
     "name": "stderr",
     "output_type": "stream",
     "text": [
      "\r",
      " 52%|█████████████████████▍                   | 115/220 [01:16<00:39,  2.66it/s]"
     ]
    },
    {
     "name": "stdout",
     "output_type": "stream",
     "text": [
      "51VskLaOhffxyZLPERpv3kbKRGDeFdx-2rjf3KQMv5uduUa_aBQabjpfZFYQJqDgQkrDG0QblNkkxQ\n"
     ]
    },
    {
     "name": "stderr",
     "output_type": "stream",
     "text": [
      "\r",
      " 53%|█████████████████████▌                   | 116/220 [01:16<00:36,  2.83it/s]"
     ]
    },
    {
     "name": "stdout",
     "output_type": "stream",
     "text": [
      "5RSiltOvGp_FLALFOKHaF-hlJ4NGKqWGguwmASEtRULoIIrcxIJt94YyVNbv7Anet2eo6GCcqKsvRQ\n"
     ]
    },
    {
     "name": "stderr",
     "output_type": "stream",
     "text": [
      "\r",
      " 53%|█████████████████████▊                   | 117/220 [01:17<00:39,  2.58it/s]"
     ]
    },
    {
     "name": "stdout",
     "output_type": "stream",
     "text": [
      "xFhiN41DEpuSfRno_0iCrA_37s3PjRyU_aZ8ZWdk4SVurrjKgixbzNaCJhp1HHDc1H6WFTcgV6fFsQ\n"
     ]
    },
    {
     "name": "stderr",
     "output_type": "stream",
     "text": [
      "\r",
      " 54%|█████████████████████▉                   | 118/220 [01:18<00:53,  1.91it/s]"
     ]
    },
    {
     "name": "stdout",
     "output_type": "stream",
     "text": [
      "-cRBjuLghShURNwdinyfS1V47qV0SUyMXKjvHbmcbdykvL6GPv9nm9u5uBbFoUFDLKY511fUCeT0tg\n"
     ]
    },
    {
     "name": "stderr",
     "output_type": "stream",
     "text": [
      "\r",
      " 54%|██████████████████████▏                  | 119/220 [01:18<00:49,  2.03it/s]"
     ]
    },
    {
     "name": "stdout",
     "output_type": "stream",
     "text": [
      "kW4l3jO_h4Uc9QycQm9Yphq_ikGQwOD_BRuuaGkx3TlD_d763u4w9zqSfGszRyFjFyX27CCqi18C4A\n"
     ]
    },
    {
     "name": "stderr",
     "output_type": "stream",
     "text": [
      "\r",
      " 55%|██████████████████████▎                  | 120/220 [01:18<00:43,  2.31it/s]"
     ]
    },
    {
     "name": "stdout",
     "output_type": "stream",
     "text": [
      "GgMIfOQ_tNpxx459i9xmsI2rLS6MtE3kFfAm-_UJd1UUlFsiHJh_jRR-Wbxr_DEWn7fACMYfNf7tlw\n"
     ]
    },
    {
     "name": "stderr",
     "output_type": "stream",
     "text": [
      "\r",
      " 55%|██████████████████████▌                  | 121/220 [01:19<00:51,  1.93it/s]"
     ]
    },
    {
     "name": "stdout",
     "output_type": "stream",
     "text": [
      "V5PwDEJ54cjC3I5tPxrKJiKEpVyozUxPVauSsnRX-pmbIO8HFr-AHVSOIEoIQKeDusV71nbUrisa5A\n"
     ]
    },
    {
     "name": "stderr",
     "output_type": "stream",
     "text": [
      "\r",
      " 55%|██████████████████████▋                  | 122/220 [01:20<00:44,  2.19it/s]"
     ]
    },
    {
     "name": "stdout",
     "output_type": "stream",
     "text": [
      "DbjEIlonKWox8IU9Fs1cSfpG0IAuACHoTXOVTHjGSp9whCc4PPOdiMGFBoo76Iyv3HqzdoIS09O7oA\n"
     ]
    },
    {
     "name": "stderr",
     "output_type": "stream",
     "text": [
      "\r",
      " 56%|██████████████████████▉                  | 123/220 [01:20<00:41,  2.35it/s]"
     ]
    },
    {
     "name": "stdout",
     "output_type": "stream",
     "text": [
      "mvq5dlrO_BaKoGXKpO81lIFGX8Am9Ly810FkWXFsgcPJEhqWZhRH3PuuAKRN0SXc5GsIQYkskk2FIA\n"
     ]
    },
    {
     "name": "stderr",
     "output_type": "stream",
     "text": [
      "\r",
      " 56%|███████████████████████                  | 124/220 [01:20<00:38,  2.51it/s]"
     ]
    },
    {
     "name": "stdout",
     "output_type": "stream",
     "text": [
      "MZHF5iMgCyUYyuY7mJO48q93UxHLlKGeCdws6Ac-hhKUQLV7WwRFhCeL-r9MgznHBMM7wE_1PRPZCg\n"
     ]
    },
    {
     "name": "stderr",
     "output_type": "stream",
     "text": [
      "\r",
      " 57%|███████████████████████▎                 | 125/220 [01:21<00:34,  2.72it/s]"
     ]
    },
    {
     "name": "stdout",
     "output_type": "stream",
     "text": [
      "AeXXvu59hyIwdNvSjtHuxDUOjwkPAfXs1TpD02BwCl32Nl6QeLsSyqXwwzhraxnwI00oZWmutv6UOQ\n"
     ]
    },
    {
     "name": "stderr",
     "output_type": "stream",
     "text": [
      "\r",
      " 57%|███████████████████████▍                 | 126/220 [01:21<00:34,  2.72it/s]"
     ]
    },
    {
     "name": "stdout",
     "output_type": "stream",
     "text": [
      "KuyZwWVOvP2_weHtusbAU7ZihqDJV5yViki25IvPgtXXclovEpTtN_A_hJ_gU2vJM4Gemoflq45BEQ\n"
     ]
    },
    {
     "name": "stderr",
     "output_type": "stream",
     "text": [
      "\r",
      " 58%|███████████████████████▋                 | 127/220 [01:21<00:33,  2.81it/s]"
     ]
    },
    {
     "name": "stdout",
     "output_type": "stream",
     "text": [
      "ufBEQdIC-ppja9rJjtkA2FrMaD_YnMzt07pBH3an4fFHcMREF-BNwdu_yRb41T79O5Po92SjW7J08g\n"
     ]
    },
    {
     "name": "stderr",
     "output_type": "stream",
     "text": [
      "\r",
      " 58%|███████████████████████▊                 | 128/220 [01:22<00:31,  2.95it/s]"
     ]
    },
    {
     "name": "stdout",
     "output_type": "stream",
     "text": [
      "aSxgwnQn9CHPb06tpR5zCdFgDHwD1FHiZgqHzurWwimAh_ZsHN_DE48zbCsupEoJzLI4qMdEb-WX0A\n"
     ]
    },
    {
     "name": "stderr",
     "output_type": "stream",
     "text": [
      "\r",
      " 59%|████████████████████████                 | 129/220 [01:22<00:33,  2.72it/s]"
     ]
    },
    {
     "name": "stdout",
     "output_type": "stream",
     "text": [
      "-RvufQVryBz8wL1l8xUP5ztUcc5lctBUt5zWTfHBLo6ixYf0oE8DdCgI8hZPmJgAoSLD87P2u2Fgfw\n"
     ]
    },
    {
     "name": "stderr",
     "output_type": "stream",
     "text": [
      "\r",
      " 59%|████████████████████████▏                | 130/220 [01:22<00:33,  2.69it/s]"
     ]
    },
    {
     "name": "stdout",
     "output_type": "stream",
     "text": [
      "vkAdD4IAZOD7E48pHrrPN15-WjHkjFA6_5yKHWHI2yA5Xkl1Q_ukXO80vcTMqNrSQBZx31sQMLgBMg\n"
     ]
    },
    {
     "name": "stderr",
     "output_type": "stream",
     "text": [
      "\r",
      " 60%|████████████████████████▍                | 131/220 [01:23<00:32,  2.72it/s]"
     ]
    },
    {
     "name": "stdout",
     "output_type": "stream",
     "text": [
      "fjRReuTudUwaWa7OGGcUPIvpVqz7c2XESSxkFXaB2GohPgEPAvjosdkblUK1sqIObph6YXQZaZJPug\n"
     ]
    },
    {
     "name": "stderr",
     "output_type": "stream",
     "text": [
      "\r",
      " 60%|████████████████████████▌                | 132/220 [01:23<00:30,  2.90it/s]"
     ]
    },
    {
     "name": "stdout",
     "output_type": "stream",
     "text": [
      "z03G28uwTE6GSZoSH3-U5k5Lu2RgD0HFBaRhuxfjh2zlrleSzJ8PmK4sVDSMji5iWFBln6xhpXMqMw\n"
     ]
    },
    {
     "name": "stderr",
     "output_type": "stream",
     "text": [
      "\r",
      " 60%|████████████████████████▊                | 133/220 [01:23<00:28,  3.04it/s]"
     ]
    },
    {
     "name": "stdout",
     "output_type": "stream",
     "text": [
      "-ihsk-4SFz6kjNUylxNHIGa_FSaksY8dExGxLAnFnoNSlj7Ls3VL29at7T8mTfSTKPXLCxlDfeC-9A\n"
     ]
    },
    {
     "name": "stderr",
     "output_type": "stream",
     "text": [
      "\r",
      " 61%|████████████████████████▉                | 134/220 [01:24<00:27,  3.10it/s]"
     ]
    },
    {
     "name": "stdout",
     "output_type": "stream",
     "text": [
      "Ew0plYlTW6vWr-RLbsCChRgxv2wrUQYEbpWkejAKlXjFn8eU2AoblqoJPO-fzzzzmsJBAjspoRWAgA\n"
     ]
    },
    {
     "name": "stderr",
     "output_type": "stream",
     "text": [
      "\r",
      " 61%|█████████████████████████▏               | 135/220 [01:24<00:26,  3.15it/s]"
     ]
    },
    {
     "name": "stdout",
     "output_type": "stream",
     "text": [
      "mKBlnfOG0je9HSR-KMT25Wd3OEY4DsglTRLThrs4EeMnxnBQS9AXiVWoG3p6JuZqaqY-ub7VGSnojw\n"
     ]
    },
    {
     "name": "stderr",
     "output_type": "stream",
     "text": [
      "\r",
      " 62%|█████████████████████████▎               | 136/220 [01:24<00:26,  3.18it/s]"
     ]
    },
    {
     "name": "stdout",
     "output_type": "stream",
     "text": [
      "Rn3cHTwHXXtYwI6sRDbqWM5d-Z8lW-yxag8Im1pvrVs9KGqC-A3n_r2nuK38ObUASQPU8-FaAc8lCg\n"
     ]
    },
    {
     "name": "stderr",
     "output_type": "stream",
     "text": [
      "\r",
      " 62%|█████████████████████████▌               | 137/220 [01:24<00:25,  3.20it/s]"
     ]
    },
    {
     "name": "stdout",
     "output_type": "stream",
     "text": [
      "Mh_Sclyhqzn_nLPXiBHK6J71aPwOnLF7diH5gcIGFvKQtlrBRX-aCRbghfEw_7GGDvacsCewHFI5SA\n"
     ]
    },
    {
     "name": "stderr",
     "output_type": "stream",
     "text": [
      "\r",
      " 63%|█████████████████████████▋               | 138/220 [01:25<00:25,  3.24it/s]"
     ]
    },
    {
     "name": "stdout",
     "output_type": "stream",
     "text": [
      "qbU0Z7xFHz9q0AVmm3IU6wyyIwPkci8D8ASw6C0uVp1JvFGZWBQK5mgi2RaybyOSaBSZD_tWC_6zTg\n"
     ]
    },
    {
     "name": "stderr",
     "output_type": "stream",
     "text": [
      "\r",
      " 63%|█████████████████████████▉               | 139/220 [01:25<00:28,  2.83it/s]"
     ]
    },
    {
     "name": "stdout",
     "output_type": "stream",
     "text": [
      "wSwuwe92jeg3Jmxk6kAjoNpo7miqEBMfRudgYDvPWAkIlW2DSgeaGrMb3PQe00_ishXUjEOaVxwN2g\n"
     ]
    },
    {
     "name": "stderr",
     "output_type": "stream",
     "text": [
      "\r",
      " 64%|██████████████████████████               | 140/220 [01:26<00:27,  2.92it/s]"
     ]
    },
    {
     "name": "stdout",
     "output_type": "stream",
     "text": [
      "gRQNuBocp0EvIB4xpybB3KCjNmLnu68Zqc21qaOGbEq8DYPZaT2te5mnEst6Hao8JWUHOUXwEq3rCQ\n"
     ]
    },
    {
     "name": "stderr",
     "output_type": "stream",
     "text": [
      "\r",
      " 64%|██████████████████████████▎              | 141/220 [01:26<00:25,  3.04it/s]"
     ]
    },
    {
     "name": "stdout",
     "output_type": "stream",
     "text": [
      "dWw515kyruB2zJbqg6DtbddCxVPRv1F57vyJxievdMDBHQCz1S9efqtGP9U7G5PyRdnInjHvE8YNKw\n"
     ]
    },
    {
     "name": "stderr",
     "output_type": "stream",
     "text": [
      "\r",
      " 65%|██████████████████████████▍              | 142/220 [01:26<00:24,  3.14it/s]"
     ]
    },
    {
     "name": "stdout",
     "output_type": "stream",
     "text": [
      "s6z-WTsxvUEPzwmBez2hY5cxNfXWsV5PkrcXhmzWqoADnD_7kJP42iTIFPonrgR4oPKmLGi1riLQsw\n"
     ]
    },
    {
     "name": "stderr",
     "output_type": "stream",
     "text": [
      "\r",
      " 65%|██████████████████████████▋              | 143/220 [01:26<00:24,  3.18it/s]"
     ]
    },
    {
     "name": "stdout",
     "output_type": "stream",
     "text": [
      "ahcrpPhKxTH1_F2zTE8QKM0bnq4d7t2l2UptLdSnQnEY-kFMU_mvhHYNNxU5_rGFHVHfc8V10edxfA\n"
     ]
    },
    {
     "name": "stderr",
     "output_type": "stream",
     "text": [
      "\r",
      " 65%|██████████████████████████▊              | 144/220 [01:27<00:24,  3.12it/s]"
     ]
    },
    {
     "name": "stdout",
     "output_type": "stream",
     "text": [
      "nNtmv1r3LIIZlcFfntaV0ubL6q1D8MmkaVQDw5v7xonVmOB2hgtMDUag9FFPlRRIVXKQf4KXmOPdLQ\n"
     ]
    },
    {
     "name": "stderr",
     "output_type": "stream",
     "text": [
      "\r",
      " 66%|███████████████████████████              | 145/220 [01:27<00:23,  3.19it/s]"
     ]
    },
    {
     "name": "stdout",
     "output_type": "stream",
     "text": [
      "USBKjtFmfZyuB-sEqKPyabsWB0Ovkad2AnBRHHoBzOZXX7Np7uQluNCxQNgz9fHKi8f7-01BFH9dnA\n"
     ]
    },
    {
     "name": "stderr",
     "output_type": "stream",
     "text": [
      "\r",
      " 66%|███████████████████████████▏             | 146/220 [01:27<00:24,  3.03it/s]"
     ]
    },
    {
     "name": "stdout",
     "output_type": "stream",
     "text": [
      "S8dYtHRyFdqJZwGYCqu96mioqXB-bh5Bczd5gktsM7hLtU3DtBLRMnwLcFQ6ouexDbo8KDYeVJacfg\n"
     ]
    },
    {
     "name": "stderr",
     "output_type": "stream",
     "text": [
      "\r",
      " 67%|███████████████████████████▍             | 147/220 [01:28<00:23,  3.14it/s]"
     ]
    },
    {
     "name": "stdout",
     "output_type": "stream",
     "text": [
      "03_K8JGuKSq761Yw_GV33jPZgpnG-wOSYp7vI57n5nZ9taG7o7OGXTsMO5eoB0bZObRkS9Xj8OLgkg\n"
     ]
    },
    {
     "name": "stderr",
     "output_type": "stream",
     "text": [
      "\r",
      " 67%|███████████████████████████▌             | 148/220 [01:28<00:22,  3.17it/s]"
     ]
    },
    {
     "name": "stdout",
     "output_type": "stream",
     "text": [
      "qVq6DkxbddWZtH_ouQSuVpY1WpL-86PQpS7I9pfoT3ACAQdftMxZFnkwg3CxJnYlPienxsohhwmQ1w\n"
     ]
    },
    {
     "name": "stderr",
     "output_type": "stream",
     "text": [
      "\r",
      " 68%|███████████████████████████▊             | 149/220 [01:28<00:22,  3.16it/s]"
     ]
    },
    {
     "name": "stdout",
     "output_type": "stream",
     "text": [
      "izUmr8I7ExR8o84t9XPZH5adP41fMPkaGpJ-_LAmnoHdAdkHQ835IXRxEHU7tvS-2u0qdoFBgq30qA\n"
     ]
    },
    {
     "name": "stderr",
     "output_type": "stream",
     "text": [
      "\r",
      " 68%|███████████████████████████▉             | 150/220 [01:29<00:29,  2.38it/s]"
     ]
    },
    {
     "name": "stdout",
     "output_type": "stream",
     "text": [
      "_rWu7sb56zj95M7x7mn2NhrLj2fyGUg2vIesJnqH1OlUEWN8z5RI9JZiGGOTu3AOxwgdX8SEkCexLw\n"
     ]
    },
    {
     "name": "stderr",
     "output_type": "stream",
     "text": [
      "\r",
      " 69%|████████████████████████████▏            | 151/220 [01:29<00:26,  2.58it/s]"
     ]
    },
    {
     "name": "stdout",
     "output_type": "stream",
     "text": [
      "ORip0EiMt4AXbGp35sJRHuMCmsWTY9vLNoxtSTe8Wqz4tYgegHceoQG_cBtk-s2gsZ13C-eV1jTtDQ\n"
     ]
    },
    {
     "name": "stderr",
     "output_type": "stream",
     "text": [
      "\r",
      " 69%|████████████████████████████▎            | 152/220 [01:30<00:24,  2.74it/s]"
     ]
    },
    {
     "name": "stdout",
     "output_type": "stream",
     "text": [
      "43IjW3u7YxXE09PlqtbttFrVToBTmpmU_rnE6W4_Ie85lIIx0medBIgy-AiC1oei8sV9rgZU1wh3Gw\n"
     ]
    },
    {
     "name": "stderr",
     "output_type": "stream",
     "text": [
      "\r",
      " 70%|████████████████████████████▌            | 153/220 [01:30<00:23,  2.84it/s]"
     ]
    },
    {
     "name": "stdout",
     "output_type": "stream",
     "text": [
      "sqYI4CrQTOTVlDAKww9x6HIK2qiD-cOuslETwdffvtzZvy53YD9G6VAT_BaOcPy7z5zxIJ9BwpHeJQ\n"
     ]
    },
    {
     "name": "stderr",
     "output_type": "stream",
     "text": [
      "\r",
      " 70%|████████████████████████████▋            | 154/220 [01:30<00:22,  2.95it/s]"
     ]
    },
    {
     "name": "stdout",
     "output_type": "stream",
     "text": [
      "NVXvm6uDIqr0RtFOvkbKsSk5Yhkad0K1XECYBC6UK_yvdrGoHXJrrBhEqBs9hphQfvlTQORYwDVNKg\n"
     ]
    },
    {
     "name": "stderr",
     "output_type": "stream",
     "text": [
      "\r",
      " 70%|████████████████████████████▉            | 155/220 [01:31<00:21,  3.09it/s]"
     ]
    },
    {
     "name": "stdout",
     "output_type": "stream",
     "text": [
      "3e9AfeyfnBKaJc1h7-FpFI7YFdSzMrufzjdszcNiqCSf2aJv5JwJfh_r-ols5kHooZ479LbDfj0seg\n"
     ]
    },
    {
     "name": "stderr",
     "output_type": "stream",
     "text": [
      "\r",
      " 71%|█████████████████████████████            | 156/220 [01:31<00:20,  3.17it/s]"
     ]
    },
    {
     "name": "stdout",
     "output_type": "stream",
     "text": [
      "frjfJYzlSE-xo3S1LypI5rCSM0ENN7EmWb0FhefZUvdVNmgO7ij7Xs4AxdvMU281jOPsaKGKKTfeYg\n"
     ]
    },
    {
     "name": "stderr",
     "output_type": "stream",
     "text": [
      "\r",
      " 71%|█████████████████████████████▎           | 157/220 [01:31<00:19,  3.24it/s]"
     ]
    },
    {
     "name": "stdout",
     "output_type": "stream",
     "text": [
      "SE7VP_XVoesnF8hHkdaQTq_rpcXTeExp2ETY-ev9qJsjCM2BJzaPL3m6GmeT3OfEYw3KwCZOOtgE8A\n"
     ]
    },
    {
     "name": "stderr",
     "output_type": "stream",
     "text": [
      "\r",
      " 72%|█████████████████████████████▍           | 158/220 [01:31<00:18,  3.28it/s]"
     ]
    },
    {
     "name": "stdout",
     "output_type": "stream",
     "text": [
      "Sn9rzZT6kngWYdd27N6ZPEmeJrYHSyQPPXqCdTm_p3kg1tw4fQ33D9D_OvO76igqO0b_ZbHkeG0d2Q\n"
     ]
    },
    {
     "name": "stderr",
     "output_type": "stream",
     "text": [
      "\r",
      " 72%|█████████████████████████████▋           | 159/220 [01:32<00:18,  3.21it/s]"
     ]
    },
    {
     "name": "stdout",
     "output_type": "stream",
     "text": [
      "biRqw2-Jq2E4rGrc1XAPydMSTmXewaihQ9G5NHJqxR_-pjYLDNhz-y6p-ggWxkkjyVYmnXnMlu7zrQ\n"
     ]
    },
    {
     "name": "stderr",
     "output_type": "stream",
     "text": [
      "\r",
      " 73%|█████████████████████████████▊           | 160/220 [01:32<00:18,  3.22it/s]"
     ]
    },
    {
     "name": "stdout",
     "output_type": "stream",
     "text": [
      "0QJtuxH16FQYC6uf23UwTl4mKLK28gqRjnQ_ddpcPCjncXtlGgkIA_AUMAvQrHd52aD8zcUktlt4Lg\n"
     ]
    },
    {
     "name": "stderr",
     "output_type": "stream",
     "text": [
      "\r",
      " 73%|██████████████████████████████           | 161/220 [01:32<00:18,  3.25it/s]"
     ]
    },
    {
     "name": "stdout",
     "output_type": "stream",
     "text": [
      "o9eFyC15pbUK0G3R-rSLn-e7Tkb-iDXOde_jKOcrBUMRjm3Q55X-lLi4HHyo-dIkakFnALzVG848Sg\n"
     ]
    },
    {
     "name": "stderr",
     "output_type": "stream",
     "text": [
      "\r",
      " 74%|██████████████████████████████▏          | 162/220 [01:33<00:17,  3.30it/s]"
     ]
    },
    {
     "name": "stdout",
     "output_type": "stream",
     "text": [
      "KoW4vEmrOxs7DhuyzLEsgrH6Rn5h43UpnFSAa9oysNp9OyD9NT36wsZ8KODoDMJLrnjD8TpSCttqCw\n"
     ]
    },
    {
     "name": "stderr",
     "output_type": "stream",
     "text": [
      "\r",
      " 74%|██████████████████████████████▍          | 163/220 [01:33<00:19,  2.96it/s]"
     ]
    },
    {
     "name": "stdout",
     "output_type": "stream",
     "text": [
      "JhNlYEU7HN93nJKHP9dYVg4bh2pCwszVKJzYIfADf1FKJcghiuBxGH7VJ5OR3QUfWRKa9z00kk5-hQ\n"
     ]
    },
    {
     "name": "stderr",
     "output_type": "stream",
     "text": [
      "\r",
      " 75%|██████████████████████████████▌          | 164/220 [01:33<00:18,  3.01it/s]"
     ]
    },
    {
     "name": "stdout",
     "output_type": "stream",
     "text": [
      "39NQyjGH-_7O3vTYd8r6cXDzSRoyaNZ0J1kc5ZhaQywJdC2CL5Lia6cKQcWSrZwU2rOVSnu9Ojjkzw\n"
     ]
    },
    {
     "name": "stderr",
     "output_type": "stream",
     "text": [
      "\r",
      " 75%|██████████████████████████████▊          | 165/220 [01:34<00:17,  3.11it/s]"
     ]
    },
    {
     "name": "stdout",
     "output_type": "stream",
     "text": [
      "ehuTuogBsfl7P_YVyItdUyS2LIDX8u_VbvHNz-4tkYyr9--YJlZ8u5Rq9_JwV1X4RJULXHi9BKVy1Q\n"
     ]
    },
    {
     "name": "stderr",
     "output_type": "stream",
     "text": [
      "\r",
      " 75%|██████████████████████████████▉          | 166/220 [01:34<00:16,  3.18it/s]"
     ]
    },
    {
     "name": "stdout",
     "output_type": "stream",
     "text": [
      "VhOdgr1S8GwfePEplaO381Us3pBLeff0vkKl0N7PPzOIn29ST6OWa4UklP-XQUAaal_616t6sR1AzA\n"
     ]
    },
    {
     "name": "stderr",
     "output_type": "stream",
     "text": [
      "\r",
      " 76%|███████████████████████████████          | 167/220 [01:34<00:16,  3.26it/s]"
     ]
    },
    {
     "name": "stdout",
     "output_type": "stream",
     "text": [
      "v_e2lzHLpDpa6-ahVV49EOuzkHv3ioqx6qu0HVOl33r3Ux6HmgBCDYbK-xbcMbKAa2NjrMKQtytQJg\n"
     ]
    },
    {
     "name": "stderr",
     "output_type": "stream",
     "text": [
      "\r",
      " 76%|███████████████████████████████▎         | 168/220 [01:35<00:16,  3.20it/s]"
     ]
    },
    {
     "name": "stdout",
     "output_type": "stream",
     "text": [
      "gVXN8V8bjrrQn85jE_P_91EBTFOJHUN5H4FzM2KiehvpTdpxdHqeCwJrj2bi1oI3dQRcMlbJIYQ0ag\n"
     ]
    },
    {
     "name": "stderr",
     "output_type": "stream",
     "text": [
      "\r",
      " 77%|███████████████████████████████▍         | 169/220 [01:35<00:16,  3.14it/s]"
     ]
    },
    {
     "name": "stdout",
     "output_type": "stream",
     "text": [
      "RTVvWnEWOwHblMDBrRyWsDuZIerNytf9zFZkEsO1qxndEtiJDYqdngTuj7Wvm3DMqmBhcrjYPxJO9w\n"
     ]
    },
    {
     "name": "stderr",
     "output_type": "stream",
     "text": [
      "\r",
      " 77%|███████████████████████████████▋         | 170/220 [01:35<00:15,  3.19it/s]"
     ]
    },
    {
     "name": "stdout",
     "output_type": "stream",
     "text": [
      "uH2IqxRNjjNobE5nJqczOP_9pTtOSkx_Ko2UBSTokGtgVg1t9bxqm1M1iIYdSlaYqky1k8cp8b-HGQ\n"
     ]
    },
    {
     "name": "stderr",
     "output_type": "stream",
     "text": [
      "\r",
      " 78%|███████████████████████████████▊         | 171/220 [01:36<00:15,  3.24it/s]"
     ]
    },
    {
     "name": "stdout",
     "output_type": "stream",
     "text": [
      "cNjMkOob1EUHQ3ek8Wo8G1NguIqalXM2sekMU9afvIiPZxc7vQbful3CjxALrE9u-z0H_UXRQWs89A\n"
     ]
    },
    {
     "name": "stderr",
     "output_type": "stream",
     "text": [
      "\r",
      " 78%|████████████████████████████████         | 172/220 [01:36<00:17,  2.76it/s]"
     ]
    },
    {
     "name": "stdout",
     "output_type": "stream",
     "text": [
      "LYhJtM2ztrnQKtiMe3Z7LIVhtboRxTUm_0AO91BJNl2L_Hx4zYGPv0LgrQZbDi-pmEZpYrAFxMpLgw\n"
     ]
    },
    {
     "name": "stderr",
     "output_type": "stream",
     "text": [
      "\r",
      " 79%|████████████████████████████████▏        | 173/220 [01:37<00:18,  2.58it/s]"
     ]
    },
    {
     "name": "stdout",
     "output_type": "stream",
     "text": [
      "3OM0mJCrKNIKPplKdaK5HkS4oDci8ZMbyjltIEjVkDzrM1esKw-Jg9iVWoKdlC8WoHWWudBpirPZtA\n"
     ]
    },
    {
     "name": "stderr",
     "output_type": "stream",
     "text": [
      "\r",
      " 79%|████████████████████████████████▍        | 174/220 [01:37<00:16,  2.80it/s]"
     ]
    },
    {
     "name": "stdout",
     "output_type": "stream",
     "text": [
      "xjLRYRiZ38EIKqdIbOqjS0yH3pH70Dr1r-PZWwXqcgAgOMy2GIHonhG9lILkokloyCliktwP8q7giQ\n"
     ]
    },
    {
     "name": "stderr",
     "output_type": "stream",
     "text": [
      "\r",
      " 80%|████████████████████████████████▌        | 175/220 [01:37<00:15,  2.97it/s]"
     ]
    },
    {
     "name": "stdout",
     "output_type": "stream",
     "text": [
      "SbNR-7yqtXHfCSbCNFyf0uNsMMfhvjKUptyBR1GKlDGEwZlbLhm1SLeF5B6f_YVSZCM63-spGQr0Vw\n"
     ]
    },
    {
     "name": "stderr",
     "output_type": "stream",
     "text": [
      "\r",
      " 80%|████████████████████████████████▊        | 176/220 [01:37<00:14,  3.09it/s]"
     ]
    },
    {
     "name": "stdout",
     "output_type": "stream",
     "text": [
      "Y0246aARU4FNAgtu52COUbQA4WJTQQ6MbBwpdtchYgNxkHPDQ71YZdd0lXwul4EyvY5rAtivBDQXHg\n"
     ]
    },
    {
     "name": "stderr",
     "output_type": "stream",
     "text": [
      "\r",
      " 80%|████████████████████████████████▉        | 177/220 [01:38<00:14,  2.93it/s]"
     ]
    },
    {
     "name": "stdout",
     "output_type": "stream",
     "text": [
      "2EDDBAQ0fGQoYM_OHF-VOpgxdRq-fC4zDbmLXlnAHMYeLyt3MYn0zRRRJhCptdFKE4U8n9SG-u3ycw\n"
     ]
    },
    {
     "name": "stderr",
     "output_type": "stream",
     "text": [
      "\r",
      " 81%|█████████████████████████████████▏       | 178/220 [01:38<00:13,  3.07it/s]"
     ]
    },
    {
     "name": "stdout",
     "output_type": "stream",
     "text": [
      "IAL0JsJwMZ8ar87DhzPSitJoN9TpMyN8ObZvv8tzWGM4WMd06MPXRb7ViP_nWA3iYV_SXDH6SOQf4g\n"
     ]
    },
    {
     "name": "stderr",
     "output_type": "stream",
     "text": [
      "\r",
      " 81%|█████████████████████████████████▎       | 179/220 [01:38<00:13,  3.13it/s]"
     ]
    },
    {
     "name": "stdout",
     "output_type": "stream",
     "text": [
      "A5YxKSY-XQzXW3GtyyfkZ5vEN-tvtBOS5oJI2JIL9XlliGSG7IlSkC9EbRromLVo27dvgjmUz29W1w\n"
     ]
    },
    {
     "name": "stderr",
     "output_type": "stream",
     "text": [
      "\r",
      " 82%|█████████████████████████████████▌       | 180/220 [01:39<00:12,  3.20it/s]"
     ]
    },
    {
     "name": "stdout",
     "output_type": "stream",
     "text": [
      "ej7iyoYok2bzzJsbYUEjlIiRioWb8UGbBzL49iZn7hLPv8ypA5STJVthapPKOFrC68xkxAVhHPHtew\n"
     ]
    },
    {
     "name": "stderr",
     "output_type": "stream",
     "text": [
      "\r",
      " 82%|█████████████████████████████████▋       | 181/220 [01:39<00:11,  3.27it/s]"
     ]
    },
    {
     "name": "stdout",
     "output_type": "stream",
     "text": [
      "o69fR4u-_hr4ukEwgTh5rSdNThp5cSUtMRuCyr4y9tqKZx1B1ypWsLcO0uyB6fRNKGOAahy9zMbAAg\n"
     ]
    },
    {
     "name": "stderr",
     "output_type": "stream",
     "text": [
      "\r",
      " 83%|█████████████████████████████████▉       | 182/220 [01:39<00:11,  3.28it/s]"
     ]
    },
    {
     "name": "stdout",
     "output_type": "stream",
     "text": [
      "g5-yXIw_HcAad1qswdWn6vWt3a5js-Yidt8gFIWoDTTOzonT08SwLG5mInAmDWNoTExMVeuu4V5zJA\n"
     ]
    },
    {
     "name": "stderr",
     "output_type": "stream",
     "text": [
      "\r",
      " 83%|██████████████████████████████████       | 183/220 [01:40<00:11,  3.18it/s]"
     ]
    },
    {
     "name": "stdout",
     "output_type": "stream",
     "text": [
      "fZK82m9WuvS3yoqJYPlMTZ7GzxTVrwLaE-Q9fzBEA5Dot5_go81ZtaydFnhYQKqAw51ChP1Ea5Dp5g\n"
     ]
    },
    {
     "name": "stderr",
     "output_type": "stream",
     "text": [
      "\r",
      " 84%|██████████████████████████████████▎      | 184/220 [01:40<00:11,  3.23it/s]"
     ]
    },
    {
     "name": "stdout",
     "output_type": "stream",
     "text": [
      "-LZoqXHVODYS6IoNopXKmkVrHTdOxqAU0fCFGEYzIPmQPMRjb0wOOAFkhd3yb3CqfdInxywEXwotcw\n"
     ]
    },
    {
     "name": "stderr",
     "output_type": "stream",
     "text": [
      "\r",
      " 84%|██████████████████████████████████▍      | 185/220 [01:40<00:10,  3.27it/s]"
     ]
    },
    {
     "name": "stdout",
     "output_type": "stream",
     "text": [
      "DwuUZvoBuSuFntWwXWZXBIbP11E5Dqx4m83s0IS8fKhZOflksXchZ3euo3JbRIDJuwUk_Pk-OediXg\n"
     ]
    },
    {
     "name": "stderr",
     "output_type": "stream",
     "text": [
      "\r",
      " 85%|██████████████████████████████████▋      | 186/220 [01:41<00:10,  3.19it/s]"
     ]
    },
    {
     "name": "stdout",
     "output_type": "stream",
     "text": [
      "S6j03ddYwytKVl-A4OxSrJWeLxFuOqYlsYggBfKTDtxAmEjTLIdjNYZFRm3UCz7pSmMMazNSsboV8w\n"
     ]
    },
    {
     "name": "stderr",
     "output_type": "stream",
     "text": [
      "\r",
      " 85%|██████████████████████████████████▊      | 187/220 [01:41<00:10,  3.22it/s]"
     ]
    },
    {
     "name": "stdout",
     "output_type": "stream",
     "text": [
      "EUUrYW4XsNZYW7_JiY4JPptzgY4iG66cgOZHIwm3KrddugeSHjGNh-w8GyF6CipGb_-_c_XEolIiUw\n"
     ]
    },
    {
     "name": "stderr",
     "output_type": "stream",
     "text": [
      "\r",
      " 85%|███████████████████████████████████      | 188/220 [01:41<00:09,  3.28it/s]"
     ]
    },
    {
     "name": "stdout",
     "output_type": "stream",
     "text": [
      "RpgSEOD-52bwapcSBgG41wjTigjLoqIn_CBpy6q0Ytiv_BOSJmN-dj9curDGqwNMfxEAe1sgb_l0Jg\n"
     ]
    },
    {
     "name": "stderr",
     "output_type": "stream",
     "text": [
      "\r",
      " 86%|███████████████████████████████████▏     | 189/220 [01:41<00:09,  3.35it/s]"
     ]
    },
    {
     "name": "stdout",
     "output_type": "stream",
     "text": [
      "xT7UYp-XHgR6gQwK0_WdKpPkxyuJnzJa6lEEtYaCs63IJKNsy2JpqFKaMlJ51AT5YdOaFbSjBXmv4A\n"
     ]
    },
    {
     "name": "stderr",
     "output_type": "stream",
     "text": [
      "\r",
      " 86%|███████████████████████████████████▍     | 190/220 [01:42<00:10,  2.99it/s]"
     ]
    },
    {
     "name": "stdout",
     "output_type": "stream",
     "text": [
      "jY0B8LNq6vtg7d1tGNaAe6qat2cR5_N8Y9UrRY4RsbS2tsPvuP2mCnhlOvEJfXMmVCSYHbjl-vy40g\n"
     ]
    },
    {
     "name": "stderr",
     "output_type": "stream",
     "text": [
      "\r",
      " 87%|███████████████████████████████████▌     | 191/220 [01:42<00:10,  2.73it/s]"
     ]
    },
    {
     "name": "stdout",
     "output_type": "stream",
     "text": [
      "QIaAEoUI-ZtS2596M2TWOqcViwCeK7au-XGH4r8LkveKpX99MjULCI4XnA-GRKZC10VvppU4IBp4lQ\n"
     ]
    },
    {
     "name": "stderr",
     "output_type": "stream",
     "text": [
      "\r",
      " 87%|███████████████████████████████████▊     | 192/220 [01:43<00:09,  2.90it/s]"
     ]
    },
    {
     "name": "stdout",
     "output_type": "stream",
     "text": [
      "cdKr_qcF5ahbUmjRYkVhOV-G5xdaobh7Fwc7eRQJDD6Ov-WNmTPvDLF0ABcIA0pWyTpuGKBuOURmSQ\n"
     ]
    },
    {
     "name": "stderr",
     "output_type": "stream",
     "text": [
      "\r",
      " 88%|███████████████████████████████████▉     | 193/220 [01:43<00:08,  3.03it/s]"
     ]
    },
    {
     "name": "stdout",
     "output_type": "stream",
     "text": [
      "AMOOXWD2v-UOlVZDyT3Xs2WJbjpAgGTR-htdCbV_arcn2Xsqg_sAGWp_k2w3cWkSMgbnHQIX6RTr7A\n"
     ]
    },
    {
     "name": "stderr",
     "output_type": "stream",
     "text": [
      "\r",
      " 88%|████████████████████████████████████▏    | 194/220 [01:43<00:08,  3.15it/s]"
     ]
    },
    {
     "name": "stdout",
     "output_type": "stream",
     "text": [
      "NPkQO3wckep-CheUNYlD0LCNvDg8t6l5kKFXjSlDWLzefPH_LcCYnnEWAODYUF3dYeCpRZF1xj0NVg\n"
     ]
    },
    {
     "name": "stderr",
     "output_type": "stream",
     "text": [
      "\r",
      " 89%|████████████████████████████████████▎    | 195/220 [01:43<00:07,  3.26it/s]"
     ]
    },
    {
     "name": "stdout",
     "output_type": "stream",
     "text": [
      "5WYp3KVC4ggco_EOzzfp4dcXRbSek0gbTdRg_W1i0BuSQy4D2rur6M2pFAVS6MwgVvQ49A7k-Wd0dQ\n"
     ]
    },
    {
     "name": "stderr",
     "output_type": "stream",
     "text": [
      "\r",
      " 89%|████████████████████████████████████▌    | 196/220 [01:44<00:07,  3.30it/s]"
     ]
    },
    {
     "name": "stdout",
     "output_type": "stream",
     "text": [
      "oyW0cvs5oEp-nHcoq6vEvdPbyAeS_hXo_KQvPGR8aHbqYPPX--_YSYaAvJTufTtGs06lcjUrMyOuSw\n"
     ]
    },
    {
     "name": "stderr",
     "output_type": "stream",
     "text": [
      "\r",
      " 90%|████████████████████████████████████▋    | 197/220 [01:44<00:06,  3.36it/s]"
     ]
    },
    {
     "name": "stdout",
     "output_type": "stream",
     "text": [
      "JVyRUhFXxCy8g3mhJby2H-M4ipNZXLHp4pYA1Y7gXBkmH9MHNy7oJEr5TRTD8IgqlrS7JVCsKahS2g\n"
     ]
    },
    {
     "name": "stderr",
     "output_type": "stream",
     "text": [
      "\r",
      " 90%|████████████████████████████████████▉    | 198/220 [01:44<00:06,  3.36it/s]"
     ]
    },
    {
     "name": "stdout",
     "output_type": "stream",
     "text": [
      "8WOOUkPG2VIoCGOyC5FHfqNjoAOR7vOIdE5vFsYh3fysaN0ze1mL_H5zIYWhB5IbLbtbh2cA_tXdiw\n"
     ]
    },
    {
     "name": "stderr",
     "output_type": "stream",
     "text": [
      "\r",
      " 90%|█████████████████████████████████████    | 199/220 [01:45<00:06,  3.25it/s]"
     ]
    },
    {
     "name": "stdout",
     "output_type": "stream",
     "text": [
      "Iz6sTHnhkJtT29E-on5-Itn9ovu6LjVg8-pFkcCnrJZ8nRUt8sf3EqtYatg-QKFS1txPLTcs8e4v6Q\n",
      "api cost full : infinite loop start\n",
      "loop location :  MfQ8B0NVRTzCCdm_A1s_CpSgUEE8bZrkvOXS41Qo_f0gYO0\n",
      "try 10 second wait time\n",
      "429\n",
      "try 10 second wait time\n",
      "429\n",
      "try 10 second wait time\n",
      "429\n",
      "try 10 second wait time\n",
      "429\n",
      "try 10 second wait time\n",
      "429\n",
      "try 10 second wait time\n",
      "429\n",
      "try 10 second wait time\n",
      "429\n",
      "try 10 second wait time\n",
      "429\n",
      "try 10 second wait time\n"
     ]
    },
    {
     "name": "stderr",
     "output_type": "stream",
     "text": [
      "\r",
      " 91%|█████████████████████████████████████▎   | 200/220 [03:19<09:29, 28.48s/it]"
     ]
    },
    {
     "name": "stdout",
     "output_type": "stream",
     "text": [
      "200\n",
      "total wait time :  93.59566307067871\n",
      "recovery api cost\n",
      "ttI4D-R6OdjARrtl_LZQr7dtyjmNJIkR3S1wQBUbqstVuq6TF8u2AHuDHrGnP_eZF-zS5oY-svxbRg\n"
     ]
    },
    {
     "name": "stderr",
     "output_type": "stream",
     "text": [
      "\r",
      " 91%|█████████████████████████████████████▍   | 201/220 [03:19<06:20, 20.03s/it]"
     ]
    },
    {
     "name": "stdout",
     "output_type": "stream",
     "text": [
      "EdC0wmbp_bJ-i6NQ_uatJGVLORI81fMdEk9GgH4EGSntAjVWcoXlT1JIx-qMk1fkxE3Z_ocGd6WUWQ\n"
     ]
    },
    {
     "name": "stderr",
     "output_type": "stream",
     "text": [
      "\r",
      " 92%|█████████████████████████████████████▋   | 202/220 [03:19<04:13, 14.11s/it]"
     ]
    },
    {
     "name": "stdout",
     "output_type": "stream",
     "text": [
      "I_maK0CgNvTcJpZAYp7ilTkmPL-rke-K65B40fQESPrCc0wz2aTn7M9IYqp4PkFQS1gnfkCjkqCWfA\n"
     ]
    },
    {
     "name": "stderr",
     "output_type": "stream",
     "text": [
      "\r",
      " 92%|█████████████████████████████████████▊   | 203/220 [03:20<02:49,  9.97s/it]"
     ]
    },
    {
     "name": "stdout",
     "output_type": "stream",
     "text": [
      "e27j-OUn7CMC4SOUUcJjSiQ55_z-7q3wZOfVyIzYlZINuawsrO2CkL9M9keH7DL1WD8h86sSDc_1XQ\n"
     ]
    },
    {
     "name": "stderr",
     "output_type": "stream",
     "text": [
      "\r",
      " 93%|██████████████████████████████████████   | 204/220 [03:20<01:53,  7.07s/it]"
     ]
    },
    {
     "name": "stdout",
     "output_type": "stream",
     "text": [
      "8t7O_LKyuy0tYNbKmNVlKgJsF9INiEbiUjHmFLwYvd8QhPNAVKri1ditKEsIgOz7IIy1rexTTtuapQ\n"
     ]
    },
    {
     "name": "stderr",
     "output_type": "stream",
     "text": [
      "\r",
      " 93%|██████████████████████████████████████▏  | 205/220 [03:20<01:15,  5.04s/it]"
     ]
    },
    {
     "name": "stdout",
     "output_type": "stream",
     "text": [
      "1QB5CjEWQ3nYgg_qaHn945KjBFwF5i9rXFqa1viq_NaIU26K7GrtQJwkCjdD5jnTxItKDd8uf_w5aw\n"
     ]
    },
    {
     "name": "stderr",
     "output_type": "stream",
     "text": [
      "\r",
      " 94%|██████████████████████████████████████▍  | 206/220 [03:21<00:51,  3.68s/it]"
     ]
    },
    {
     "name": "stdout",
     "output_type": "stream",
     "text": [
      "cwafruKaw6SYohIfmoUt0SIMTAFvLLiBIokoW7CY_2f_yLdcXOCA8mnUik3IaVurmSYpHyC2Mj5XSw\n"
     ]
    },
    {
     "name": "stderr",
     "output_type": "stream",
     "text": [
      "\r",
      " 94%|██████████████████████████████████████▌  | 207/220 [03:21<00:34,  2.67s/it]"
     ]
    },
    {
     "name": "stdout",
     "output_type": "stream",
     "text": [
      "VC-K2PYFuYqKTMXRDNqyxxoB0aOIz4qAbjoTGnPqc93r3_TQ_ap0kQSOQ_mRKlZY-nPKf0jwDlkRjA\n"
     ]
    },
    {
     "name": "stderr",
     "output_type": "stream",
     "text": [
      "\r",
      " 95%|██████████████████████████████████████▊  | 208/220 [03:21<00:23,  1.96s/it]"
     ]
    },
    {
     "name": "stdout",
     "output_type": "stream",
     "text": [
      "FtiyOdSuCBON7C7D9gjfV2uKB3CtUErnqbB5OKOIQ5dn7AqxiWbHyWhL-6GSMtcaU-RfNDyhAo4eGg\n"
     ]
    },
    {
     "name": "stderr",
     "output_type": "stream",
     "text": [
      "\r",
      " 95%|██████████████████████████████████████▉  | 209/220 [03:22<00:16,  1.46s/it]"
     ]
    },
    {
     "name": "stdout",
     "output_type": "stream",
     "text": [
      "6sjdUEX17rqpFA87dgNyjgk04ERsugdCYkJaGrWfkzXa2TgSrPpgUFGhtwlnQEbSQoAnIoV7kTHurg\n"
     ]
    },
    {
     "name": "stderr",
     "output_type": "stream",
     "text": [
      "\r",
      " 95%|███████████████████████████████████████▏ | 210/220 [03:22<00:11,  1.11s/it]"
     ]
    },
    {
     "name": "stdout",
     "output_type": "stream",
     "text": [
      "x5KcRdh0r_WdhW_OPFddKjADuxCEywQjS2rcQkiNmPyyNRjE99Z2nTf13nLJOlwbcbb7FpIdK-DIQA\n"
     ]
    },
    {
     "name": "stderr",
     "output_type": "stream",
     "text": [
      "\r",
      " 96%|███████████████████████████████████████▎ | 211/220 [03:22<00:07,  1.14it/s]"
     ]
    },
    {
     "name": "stdout",
     "output_type": "stream",
     "text": [
      "mPx3sVJUxt7s3sPOFslxfJ4pOXETVFEvYCq4We-qA_2z3GHvh3vVKO1lrO70imqmtzeVW5bWPof_5g\n"
     ]
    },
    {
     "name": "stderr",
     "output_type": "stream",
     "text": [
      "\r",
      " 96%|███████████████████████████████████████▌ | 212/220 [03:23<00:05,  1.42it/s]"
     ]
    },
    {
     "name": "stdout",
     "output_type": "stream",
     "text": [
      "oQzQdd03Q2mDolqEowVQ-bqjPw8eM5t3xlU1S8ABRHAvQ0Az-JykuokEnZMWsPEwV7GGl_thePZcEQ\n"
     ]
    },
    {
     "name": "stderr",
     "output_type": "stream",
     "text": [
      "\r",
      " 97%|███████████████████████████████████████▋ | 213/220 [03:23<00:04,  1.72it/s]"
     ]
    },
    {
     "name": "stdout",
     "output_type": "stream",
     "text": [
      "HqFkB-0nkosl4x3nWUVjzqCudCP6QhgTvLqYJQOUIa0SnDnY_dJHfEA05E-f4N8mThKUZCqE1KbtdA\n"
     ]
    },
    {
     "name": "stderr",
     "output_type": "stream",
     "text": [
      "\r",
      " 97%|███████████████████████████████████████▉ | 214/220 [03:23<00:03,  1.98it/s]"
     ]
    },
    {
     "name": "stdout",
     "output_type": "stream",
     "text": [
      "dmknQ4scuRjUW6uijtYQsX1zON2TcOhA2RGwF0xmVsbaN5Xa0avpLQ8DGSWMxBQcMysQiqKLqoFIEw\n"
     ]
    },
    {
     "name": "stderr",
     "output_type": "stream",
     "text": [
      "\r",
      " 98%|████████████████████████████████████████ | 215/220 [03:24<00:02,  2.24it/s]"
     ]
    },
    {
     "name": "stdout",
     "output_type": "stream",
     "text": [
      "rWfJLjiriFoNZn-45Dz7iRiR0L0mvZkqcALTp-S6Q7TU8R3J-86n8KGy-uUaWtCXV4pIqxw4kmI7oA\n"
     ]
    },
    {
     "name": "stderr",
     "output_type": "stream",
     "text": [
      "\r",
      " 98%|████████████████████████████████████████▎| 216/220 [03:24<00:01,  2.50it/s]"
     ]
    },
    {
     "name": "stdout",
     "output_type": "stream",
     "text": [
      "w7XMKxPifCzMNmg-MxVzwbnOGk2oGG-0rjDgIV5kiJLOjpwzs94nkdUqvZKx7SzN2Chzi9Lbc7VAvg\n"
     ]
    },
    {
     "name": "stderr",
     "output_type": "stream",
     "text": [
      "\r",
      " 99%|████████████████████████████████████████▍| 217/220 [03:24<00:01,  2.70it/s]"
     ]
    },
    {
     "name": "stdout",
     "output_type": "stream",
     "text": [
      "7n0ezHyDOL4a1r-wYIY40dsoN-CetKHwAN8dFABUbeRJ0o9ttpPOBX7tN0Mkp_sMzYgmYYBl1MbLwA\n"
     ]
    },
    {
     "name": "stderr",
     "output_type": "stream",
     "text": [
      "\r",
      " 99%|████████████████████████████████████████▋| 218/220 [03:25<00:00,  2.90it/s]"
     ]
    },
    {
     "name": "stdout",
     "output_type": "stream",
     "text": [
      "he5-ZBYqE7OzkMgp7AlaDOQ3F9LmQkCIgX9jhk8YRb6whaIqJ6qlrFeAn2Jn-WRX1qw4Soxk9cQOMg\n"
     ]
    },
    {
     "name": "stderr",
     "output_type": "stream",
     "text": [
      "\r",
      "100%|████████████████████████████████████████▊| 219/220 [03:25<00:00,  3.03it/s]"
     ]
    },
    {
     "name": "stdout",
     "output_type": "stream",
     "text": [
      "q6v9k3e3e8kirL49JwjP-U3afoC2CjO4OBDzX-mmVBJ60r6mfVx_D7X1tJldt_7yfYTMWnPj2nO2sg\n"
     ]
    },
    {
     "name": "stderr",
     "output_type": "stream",
     "text": [
      "100%|█████████████████████████████████████████| 220/220 [03:25<00:00,  1.07it/s]"
     ]
    },
    {
     "name": "stdout",
     "output_type": "stream",
     "text": [
      "7OPPELr2k11Aua_cT-zQcF0n1g5keb_xdDnACxMpVK7RKDrDh8tRxrNGA2xkfBXqa4TrybuTKyfg_g\n"
     ]
    },
    {
     "name": "stderr",
     "output_type": "stream",
     "text": [
      "\n"
     ]
    }
   ],
   "source": [
    "accountId = {}\n",
    "\n",
    "for i,j in zip(tqdm(summonerId.values()),summonerId.keys()):\n",
    "    url2 = 'https://kr.api.riotgames.com/lol/summoner/v4/summoners/' + i + '?api_key=' + api_key\n",
    "    r = requests.get(url2)\n",
    "    \n",
    "    if r.status_code == 200: # response가 정상이면 바로 맨 밑으로 이동하여 정상적으로 코드 실행\n",
    "        pass\n",
    "    \n",
    "    elif r.status_code == 429:\n",
    "        print('api cost full : infinite loop start')\n",
    "        print('loop location : ',i)\n",
    "        start_time = time.time()\n",
    "        \n",
    "        while True: # 429error가 끝날 때까지 무한 루프\n",
    "            if r.status_code == 429:\n",
    "\n",
    "                print('try 10 second wait time')\n",
    "                time.sleep(10)\n",
    "\n",
    "                r = requests.get(url2)\n",
    "                print(r.status_code)\n",
    "\n",
    "            elif r.status_code == 200: #다시 response 200이면 loop escape\n",
    "                print('total wait time : ', time.time() - start_time)\n",
    "                print('recovery api cost')\n",
    "                break\n",
    "    \n",
    "    r = r.json()['puuid']\n",
    "    print(r)\n",
    "    accountId[j] = r"
   ]
  },
  {
   "cell_type": "code",
   "execution_count": 10,
   "id": "98309488",
   "metadata": {
    "id": "98309488",
    "outputId": "be2ead4b-cf6f-4811-da1c-603667770f5b",
    "scrolled": true
   },
   "outputs": [
    {
     "name": "stderr",
     "output_type": "stream",
     "text": [
      " 19%|███████▊                                  | 41/220 [00:32<01:49,  1.64it/s]"
     ]
    },
    {
     "name": "stdout",
     "output_type": "stream",
     "text": [
      "api cost full : infinite loop start\n",
      "loop location :  1_m_DDfoDDnfmhij3uMLPMeYp5aW-Isgq_i1YBczWASp1JRWZnFaTvpDfVJMePjJfyoRgrqz1lDDBg\n",
      "try 10 second wait time\n",
      "429\n",
      "try 10 second wait time\n",
      "200\n",
      "total wait time :  20.52689290046692\n",
      "recovery api cost\n"
     ]
    },
    {
     "name": "stderr",
     "output_type": "stream",
     "text": [
      " 41%|█████████████████▎                        | 91/220 [01:28<01:48,  1.19it/s]"
     ]
    },
    {
     "name": "stdout",
     "output_type": "stream",
     "text": [
      "api cost full : infinite loop start\n",
      "loop location :  uP4WMlmIGW7KTfekxpz10Q_kbT-3f2xYL-8B7_HwICF2LRJLpOHtZreer-V6MCTXmj3-hY-8_Q4sIA\n",
      "try 10 second wait time\n",
      "429\n",
      "try 10 second wait time\n",
      "429\n",
      "try 10 second wait time\n",
      "429\n",
      "try 10 second wait time\n",
      "429\n",
      "try 10 second wait time\n",
      "429\n",
      "try 10 second wait time\n",
      "429\n",
      "try 10 second wait time\n",
      "429\n",
      "try 10 second wait time\n",
      "429\n",
      "try 10 second wait time\n",
      "200\n",
      "total wait time :  92.804270029068\n",
      "recovery api cost\n"
     ]
    },
    {
     "name": "stderr",
     "output_type": "stream",
     "text": [
      " 64%|██████████████████████████▎              | 141/220 [03:35<00:51,  1.54it/s]"
     ]
    },
    {
     "name": "stdout",
     "output_type": "stream",
     "text": [
      "api cost full : infinite loop start\n",
      "loop location :  s6z-WTsxvUEPzwmBez2hY5cxNfXWsV5PkrcXhmzWqoADnD_7kJP42iTIFPonrgR4oPKmLGi1riLQsw\n",
      "try 10 second wait time\n",
      "429\n",
      "try 10 second wait time\n",
      "429\n",
      "try 10 second wait time\n",
      "429\n",
      "try 10 second wait time\n",
      "429\n",
      "try 10 second wait time\n",
      "429\n",
      "try 10 second wait time\n",
      "429\n",
      "try 10 second wait time\n",
      "429\n",
      "try 10 second wait time\n",
      "429\n",
      "try 10 second wait time\n",
      "200\n",
      "total wait time :  93.74163508415222\n",
      "recovery api cost\n"
     ]
    },
    {
     "name": "stderr",
     "output_type": "stream",
     "text": [
      " 87%|███████████████████████████████████▌     | 191/220 [05:42<00:21,  1.36it/s]"
     ]
    },
    {
     "name": "stdout",
     "output_type": "stream",
     "text": [
      "api cost full : infinite loop start\n",
      "loop location :  cdKr_qcF5ahbUmjRYkVhOV-G5xdaobh7Fwc7eRQJDD6Ov-WNmTPvDLF0ABcIA0pWyTpuGKBuOURmSQ\n",
      "try 10 second wait time\n",
      "429\n",
      "try 10 second wait time\n",
      "429\n",
      "try 10 second wait time\n",
      "429\n",
      "try 10 second wait time\n",
      "429\n",
      "try 10 second wait time\n",
      "429\n",
      "try 10 second wait time\n",
      "429\n",
      "try 10 second wait time\n",
      "429\n",
      "try 10 second wait time\n",
      "429\n",
      "try 10 second wait time\n",
      "200\n",
      "total wait time :  92.87337398529053\n",
      "recovery api cost\n"
     ]
    },
    {
     "name": "stderr",
     "output_type": "stream",
     "text": [
      "100%|█████████████████████████████████████████| 220/220 [07:38<00:00,  2.08s/it]\n"
     ]
    }
   ],
   "source": [
    "gameId = set() #중복된 게임 제거를 위한 set 함수\n",
    "\n",
    "# url3 = 'https://kr.api.riotgames.com/lol/match/v4/matchlists/by-account/hqMv8JiT0hjKc96iqUz9ucXFPgsENmbI_5OHPmlyVOCZxwE?queue=420&api_key=RGAPI-e456f533-671c-4947-b960-98443960695b'\n",
    "\n",
    "for i in tqdm(accountId.values()):\n",
    "    url3 = 'https://asia.api.riotgames.com/lol/match/v5/matches/by-puuid/'+ i +'/ids?start=1&count=20'\n",
    "    r = requests.get(url3, headers=request_header)\n",
    "    \n",
    "    if r.status_code == 200: # response가 정상이면 바로 맨 밑으로 이동하여 정상적으로 코드 실행\n",
    "        pass\n",
    "    \n",
    "    elif r.status_code == 429:\n",
    "        print('api cost full : infinite loop start')\n",
    "        print('loop location : ',i)\n",
    "        start_time = time.time()\n",
    "        \n",
    "        while True: # 429error가 끝날 때까지 무한 루프\n",
    "            if r.status_code == 429:\n",
    "\n",
    "                print('try 10 second wait time')\n",
    "                time.sleep(10)\n",
    "\n",
    "                r = requests.get(url3, headers=request_header)\n",
    "                print(r.status_code)\n",
    "\n",
    "            elif r.status_code == 200: #다시 response 200이면 loop escape\n",
    "                print('total wait time : ', time.time() - start_time)\n",
    "                print('recovery api cost')\n",
    "                break\n",
    "                \n",
    "    r = requests.get(url3, headers=request_header).json() # 해당 게이머의 최근 20경기\n",
    "    for count in range(len(r)): #gameId에 저장\n",
    "        gameId.add(r[count])"
   ]
  },
  {
   "cell_type": "code",
   "execution_count": 13,
   "id": "38e3899b",
   "metadata": {},
   "outputs": [],
   "source": [
    "gameId_challanger = pd.DataFrame(columns = ['gameId'])"
   ]
  },
  {
   "cell_type": "code",
   "execution_count": 15,
   "id": "a4c57687",
   "metadata": {},
   "outputs": [
    {
     "ename": "TypeError",
     "evalue": "unhashable type: 'list'",
     "output_type": "error",
     "traceback": [
      "\u001b[0;31m---------------------------------------------------------------------------\u001b[0m",
      "\u001b[0;31mTypeError\u001b[0m                                 Traceback (most recent call last)",
      "\u001b[0;32m/var/folders/3c/txdgx5zd3bg8qy5j74jgm8hw0000gn/T/ipykernel_17291/1709489699.py\u001b[0m in \u001b[0;36m<module>\u001b[0;34m\u001b[0m\n\u001b[1;32m      1\u001b[0m \u001b[0mgameId\u001b[0m \u001b[0;34m=\u001b[0m \u001b[0mlist\u001b[0m\u001b[0;34m(\u001b[0m\u001b[0mgameId\u001b[0m\u001b[0;34m)\u001b[0m\u001b[0;34m\u001b[0m\u001b[0;34m\u001b[0m\u001b[0m\n\u001b[1;32m      2\u001b[0m \u001b[0;32mfor\u001b[0m \u001b[0mi\u001b[0m \u001b[0;32min\u001b[0m \u001b[0mgameId\u001b[0m\u001b[0;34m:\u001b[0m\u001b[0;34m\u001b[0m\u001b[0;34m\u001b[0m\u001b[0m\n\u001b[0;32m----> 3\u001b[0;31m     \u001b[0minput_data\u001b[0m \u001b[0;34m=\u001b[0m \u001b[0;34m{\u001b[0m\u001b[0mgameId\u001b[0m \u001b[0;34m:\u001b[0m \u001b[0mi\u001b[0m\u001b[0;34m}\u001b[0m\u001b[0;34m\u001b[0m\u001b[0;34m\u001b[0m\u001b[0m\n\u001b[0m\u001b[1;32m      4\u001b[0m     \u001b[0mgameId_challanger\u001b[0m\u001b[0;34m.\u001b[0m\u001b[0mappend\u001b[0m\u001b[0;34m(\u001b[0m\u001b[0minput_data\u001b[0m\u001b[0;34m)\u001b[0m\u001b[0;34m\u001b[0m\u001b[0;34m\u001b[0m\u001b[0m\n",
      "\u001b[0;31mTypeError\u001b[0m: unhashable type: 'list'"
     ]
    }
   ],
   "source": [
    "gameId = list(gameId)\n",
    "for i in range(len(gameId)):\n",
    "    input_data = {gameId : gameId[i]}\n",
    "    gameId_challanger.append(input_data)"
   ]
  },
  {
   "cell_type": "code",
   "execution_count": 11,
   "id": "0980ad0c",
   "metadata": {
    "id": "0980ad0c",
    "outputId": "fe95a256-f11b-42a0-b12a-531e130fb5d1",
    "scrolled": false
   },
   "outputs": [
    {
     "ename": "AttributeError",
     "evalue": "'set' object has no attribute 'to_csv'",
     "output_type": "error",
     "traceback": [
      "\u001b[0;31m---------------------------------------------------------------------------\u001b[0m",
      "\u001b[0;31mAttributeError\u001b[0m                            Traceback (most recent call last)",
      "\u001b[0;32m/var/folders/3c/txdgx5zd3bg8qy5j74jgm8hw0000gn/T/ipykernel_17291/3971773683.py\u001b[0m in \u001b[0;36m<module>\u001b[0;34m\u001b[0m\n\u001b[0;32m----> 1\u001b[0;31m \u001b[0mgameId\u001b[0m\u001b[0;34m.\u001b[0m\u001b[0mto_csv\u001b[0m\u001b[0;34m(\u001b[0m\u001b[0;34m\"gameId_challanger.csv\"\u001b[0m\u001b[0;34m,\u001b[0m \u001b[0mheader\u001b[0m\u001b[0;34m=\u001b[0m\u001b[0;32mTrue\u001b[0m\u001b[0;34m,\u001b[0m \u001b[0mindex\u001b[0m \u001b[0;34m=\u001b[0m \u001b[0;32mFalse\u001b[0m\u001b[0;34m)\u001b[0m\u001b[0;34m\u001b[0m\u001b[0;34m\u001b[0m\u001b[0m\n\u001b[0m",
      "\u001b[0;31mAttributeError\u001b[0m: 'set' object has no attribute 'to_csv'"
     ]
    }
   ],
   "source": [
    "gameId.to_csv(\"gameId_challanger.csv\", header=True, index = False)"
   ]
  },
  {
   "cell_type": "code",
   "execution_count": null,
   "id": "fab9530a",
   "metadata": {
    "id": "fab9530a"
   },
   "outputs": [],
   "source": [
    "match_grandmaster = pd.DataFrame(columns = ['teamId','win','firstBlood','firstTower','firstInhibitor','firstBaron','firstDragon','firstRiftHerald','championKills', 'towerKills','inhibitorKills','baronKills','dragonKills','riftHeraldKills','bans','gameId'])"
   ]
  },
  {
   "cell_type": "code",
   "execution_count": null,
   "id": "4593122b",
   "metadata": {
    "id": "4593122b",
    "outputId": "b0f577fc-7a6f-4ebe-ef41-fc0f1981fe30"
   },
   "outputs": [
    {
     "name": "stderr",
     "output_type": "stream",
     "text": [
      "100%|████████████████████████████████████████████████████████████████████████████████████| 6/6 [00:03<00:00,  1.89it/s]\n"
     ]
    }
   ],
   "source": [
    "num = 0\n",
    "\n",
    "for a in tqdm(range(len(gameId))):\n",
    "    for b in range(len(gameId[a])):\n",
    "                \n",
    "        url4 =  'https://asia.api.riotgames.com/lol/match/v5/matches/' + str(gameId[a][b])\n",
    "        r = requests.get(url4,headers = request_header)\n",
    "        \n",
    "                \n",
    "        if r.status_code == 200: # response가 정상이면 바로 맨 밑으로 이동하여 정상적으로 코드 실행\n",
    "            pass\n",
    "\n",
    "        elif r.status_code == 429:\n",
    "            print('api cost full : infinite loop start')\n",
    "            print('loop location : ',i)\n",
    "            start_time = time.time()\n",
    "    \n",
    "            while True: # 429error가 끝날 때까지 무한 루프\n",
    "                if r.status_code == 429:\n",
    "\n",
    "                    print('try 10 second wait time')\n",
    "                    time.sleep(10)\n",
    "\n",
    "                    r = requests.get(url4, headers = request_header)\n",
    "                    print(r.status_code)\n",
    "\n",
    "                elif r.status_code == 200: #다시 response 200이면 loop escape\n",
    "                    print('total wait time : ', time.time() - start_time)\n",
    "                    print('recovery api cost')\n",
    "                    break\n",
    "                    \n",
    "        r = requests.get(url4, headers = request_header).json()          \n",
    "        \n",
    "        try:\n",
    "            if r['info']['gameMode'] == 'CLASSIC':\n",
    "                for i in [0,1]:\n",
    "                    if r['info']['teams'][i]['win'] == False:\n",
    "                            input_data = {\n",
    "                                'teamId': str(r['info']['teams'][i]['teamId']),\n",
    "                                'win':r['info']['teams'][i]['win'],\n",
    "                                'firstBlood':r['info']['teams'][i]['objectives']['champion']['first'],\n",
    "                                'firstTower':r['info']['teams'][i]['objectives']['tower']['first'],\n",
    "                                'firstInhibitor':r['info']['teams'][i]['objectives']['inhibitor']['first'],\n",
    "                                'firstBaron':r['info']['teams'][i]['objectives']['baron']['first'],\n",
    "                                'firstDragon':r['info']['teams'][i]['objectives']['dragon']['first'],\n",
    "                                'firstRiftHerald':r['info']['teams'][i]['objectives']['riftHerald']['first'],\n",
    "                                'championKills' : r['info']['teams'][i]['objectives']['champion']['kills'],\n",
    "                                'towerKills':r['info']['teams'][i]['objectives']['tower']['kills'],\n",
    "                                'inhibitorKills':r['info']['teams'][i]['objectives']['inhibitor']['kills'],\n",
    "                                'baronKills':r['info']['teams'][i]['objectives']['baron']['kills'],\n",
    "                                'dragonKills':r['info']['teams'][i]['objectives']['dragon']['kills'],\n",
    "                                'riftHeraldKills':r['info']['teams'][i]['objectives']['riftHerald']['kills'],\n",
    "                                'bans' :r['info']['teams'][i]['bans'],\n",
    "                                'gameId': gameId[a][b]\n",
    "                            }\n",
    "\n",
    "                            match_grandmaster = match_grandmaster.append(input_data, ignore_index = True)\n",
    "                            \n",
    "                    elif r['info']['teams'][i]['win'] == True:\n",
    "                            input_data = {\n",
    "                                'teamId': str(r['info']['teams'][i]['teamId']),\n",
    "                                'win':r['info']['teams'][i]['win'],\n",
    "                                'firstBlood':r['info']['teams'][i]['objectives']['champion']['first'],\n",
    "                                'firstTower':r['info']['teams'][i]['objectives']['tower']['first'],\n",
    "                                'firstInhibitor':r['info']['teams'][i]['objectives']['inhibitor']['first'],\n",
    "                                'firstBaron':r['info']['teams'][i]['objectives']['baron']['first'],\n",
    "                                'firstDragon':r['info']['teams'][i]['objectives']['dragon']['first'],\n",
    "                                'firstRiftHerald':r['info']['teams'][i]['objectives']['riftHerald']['first'],\n",
    "                                'championKills' : r['info']['teams'][i]['objectives']['champion']['kills'],\n",
    "                                'towerKills':r['info']['teams'][i]['objectives']['tower']['kills'],\n",
    "                                'inhibitorKills':r['info']['teams'][i]['objectives']['inhibitor']['kills'],\n",
    "                                'baronKills':r['info']['teams'][i]['objectives']['baron']['kills'],\n",
    "                                'dragonKills':r['info']['teams'][i]['objectives']['dragon']['kills'],\n",
    "                                'riftHeraldKills':r['info']['teams'][i]['objectives']['riftHerald']['kills'],\n",
    "                                'bans' :r['info']['teams'][i]['bans'],\n",
    "                                'gameId': gameId[a][b]\n",
    "                            }\n",
    "                                \n",
    "\n",
    "                            match_grandmaster = match_grandmaster.append(input_data, ignore_index = True)\n",
    "    \n",
    "        except:\n",
    "            print(\"403 에러.api 만료\")"
   ]
  },
  {
   "cell_type": "code",
   "execution_count": null,
   "id": "0727b303",
   "metadata": {
    "id": "0727b303",
    "outputId": "63506949-04e7-4c8f-d122-69fc35160016"
   },
   "outputs": [
    {
     "data": {
      "text/html": [
       "<div>\n",
       "<style scoped>\n",
       "    .dataframe tbody tr th:only-of-type {\n",
       "        vertical-align: middle;\n",
       "    }\n",
       "\n",
       "    .dataframe tbody tr th {\n",
       "        vertical-align: top;\n",
       "    }\n",
       "\n",
       "    .dataframe thead th {\n",
       "        text-align: right;\n",
       "    }\n",
       "</style>\n",
       "<table border=\"1\" class=\"dataframe\">\n",
       "  <thead>\n",
       "    <tr style=\"text-align: right;\">\n",
       "      <th></th>\n",
       "      <th>teamId</th>\n",
       "      <th>win</th>\n",
       "      <th>firstBlood</th>\n",
       "      <th>firstTower</th>\n",
       "      <th>firstInhibitor</th>\n",
       "      <th>firstBaron</th>\n",
       "      <th>firstDragon</th>\n",
       "      <th>firstRiftHerald</th>\n",
       "      <th>championKills</th>\n",
       "      <th>towerKills</th>\n",
       "      <th>inhibitorKills</th>\n",
       "      <th>baronKills</th>\n",
       "      <th>dragonKills</th>\n",
       "      <th>riftHeraldKills</th>\n",
       "      <th>bans</th>\n",
       "      <th>gameId</th>\n",
       "    </tr>\n",
       "  </thead>\n",
       "  <tbody>\n",
       "    <tr>\n",
       "      <th>0</th>\n",
       "      <td>100</td>\n",
       "      <td>True</td>\n",
       "      <td>False</td>\n",
       "      <td>True</td>\n",
       "      <td>True</td>\n",
       "      <td>False</td>\n",
       "      <td>False</td>\n",
       "      <td>True</td>\n",
       "      <td>40</td>\n",
       "      <td>8</td>\n",
       "      <td>2</td>\n",
       "      <td>1</td>\n",
       "      <td>1</td>\n",
       "      <td>1</td>\n",
       "      <td>[{'championId': 711, 'pickTurn': 1}, {'champio...</td>\n",
       "      <td>KR_5685811134</td>\n",
       "    </tr>\n",
       "    <tr>\n",
       "      <th>1</th>\n",
       "      <td>200</td>\n",
       "      <td>False</td>\n",
       "      <td>True</td>\n",
       "      <td>False</td>\n",
       "      <td>False</td>\n",
       "      <td>True</td>\n",
       "      <td>True</td>\n",
       "      <td>False</td>\n",
       "      <td>42</td>\n",
       "      <td>9</td>\n",
       "      <td>4</td>\n",
       "      <td>2</td>\n",
       "      <td>5</td>\n",
       "      <td>1</td>\n",
       "      <td>[{'championId': -1, 'pickTurn': 6}, {'champion...</td>\n",
       "      <td>KR_5685811134</td>\n",
       "    </tr>\n",
       "    <tr>\n",
       "      <th>2</th>\n",
       "      <td>100</td>\n",
       "      <td>True</td>\n",
       "      <td>True</td>\n",
       "      <td>True</td>\n",
       "      <td>True</td>\n",
       "      <td>True</td>\n",
       "      <td>True</td>\n",
       "      <td>False</td>\n",
       "      <td>28</td>\n",
       "      <td>10</td>\n",
       "      <td>2</td>\n",
       "      <td>1</td>\n",
       "      <td>1</td>\n",
       "      <td>1</td>\n",
       "      <td>[{'championId': 64, 'pickTurn': 1}, {'champion...</td>\n",
       "      <td>KR_5684039329</td>\n",
       "    </tr>\n",
       "    <tr>\n",
       "      <th>3</th>\n",
       "      <td>200</td>\n",
       "      <td>False</td>\n",
       "      <td>False</td>\n",
       "      <td>False</td>\n",
       "      <td>False</td>\n",
       "      <td>False</td>\n",
       "      <td>False</td>\n",
       "      <td>True</td>\n",
       "      <td>16</td>\n",
       "      <td>2</td>\n",
       "      <td>0</td>\n",
       "      <td>0</td>\n",
       "      <td>3</td>\n",
       "      <td>1</td>\n",
       "      <td>[{'championId': 154, 'pickTurn': 6}, {'champio...</td>\n",
       "      <td>KR_5684039329</td>\n",
       "    </tr>\n",
       "    <tr>\n",
       "      <th>4</th>\n",
       "      <td>100</td>\n",
       "      <td>True</td>\n",
       "      <td>True</td>\n",
       "      <td>True</td>\n",
       "      <td>True</td>\n",
       "      <td>False</td>\n",
       "      <td>True</td>\n",
       "      <td>True</td>\n",
       "      <td>29</td>\n",
       "      <td>8</td>\n",
       "      <td>1</td>\n",
       "      <td>0</td>\n",
       "      <td>1</td>\n",
       "      <td>2</td>\n",
       "      <td>[{'championId': 89, 'pickTurn': 1}, {'champion...</td>\n",
       "      <td>KR_5686407086</td>\n",
       "    </tr>\n",
       "    <tr>\n",
       "      <th>5</th>\n",
       "      <td>200</td>\n",
       "      <td>False</td>\n",
       "      <td>False</td>\n",
       "      <td>False</td>\n",
       "      <td>False</td>\n",
       "      <td>False</td>\n",
       "      <td>False</td>\n",
       "      <td>False</td>\n",
       "      <td>19</td>\n",
       "      <td>2</td>\n",
       "      <td>0</td>\n",
       "      <td>0</td>\n",
       "      <td>0</td>\n",
       "      <td>0</td>\n",
       "      <td>[{'championId': 58, 'pickTurn': 6}, {'champion...</td>\n",
       "      <td>KR_5686407086</td>\n",
       "    </tr>\n",
       "    <tr>\n",
       "      <th>6</th>\n",
       "      <td>100</td>\n",
       "      <td>False</td>\n",
       "      <td>False</td>\n",
       "      <td>True</td>\n",
       "      <td>False</td>\n",
       "      <td>False</td>\n",
       "      <td>True</td>\n",
       "      <td>True</td>\n",
       "      <td>36</td>\n",
       "      <td>4</td>\n",
       "      <td>0</td>\n",
       "      <td>0</td>\n",
       "      <td>2</td>\n",
       "      <td>2</td>\n",
       "      <td>[{'championId': 76, 'pickTurn': 1}, {'champion...</td>\n",
       "      <td>KR_5685150228</td>\n",
       "    </tr>\n",
       "    <tr>\n",
       "      <th>7</th>\n",
       "      <td>200</td>\n",
       "      <td>True</td>\n",
       "      <td>True</td>\n",
       "      <td>False</td>\n",
       "      <td>True</td>\n",
       "      <td>True</td>\n",
       "      <td>False</td>\n",
       "      <td>False</td>\n",
       "      <td>34</td>\n",
       "      <td>10</td>\n",
       "      <td>2</td>\n",
       "      <td>1</td>\n",
       "      <td>2</td>\n",
       "      <td>0</td>\n",
       "      <td>[{'championId': 51, 'pickTurn': 6}, {'champion...</td>\n",
       "      <td>KR_5685150228</td>\n",
       "    </tr>\n",
       "    <tr>\n",
       "      <th>8</th>\n",
       "      <td>100</td>\n",
       "      <td>True</td>\n",
       "      <td>False</td>\n",
       "      <td>True</td>\n",
       "      <td>True</td>\n",
       "      <td>False</td>\n",
       "      <td>True</td>\n",
       "      <td>True</td>\n",
       "      <td>35</td>\n",
       "      <td>6</td>\n",
       "      <td>1</td>\n",
       "      <td>0</td>\n",
       "      <td>2</td>\n",
       "      <td>2</td>\n",
       "      <td>[{'championId': -1, 'pickTurn': 1}, {'champion...</td>\n",
       "      <td>KR_5685771909</td>\n",
       "    </tr>\n",
       "    <tr>\n",
       "      <th>9</th>\n",
       "      <td>200</td>\n",
       "      <td>False</td>\n",
       "      <td>True</td>\n",
       "      <td>False</td>\n",
       "      <td>False</td>\n",
       "      <td>False</td>\n",
       "      <td>False</td>\n",
       "      <td>False</td>\n",
       "      <td>15</td>\n",
       "      <td>0</td>\n",
       "      <td>0</td>\n",
       "      <td>0</td>\n",
       "      <td>0</td>\n",
       "      <td>0</td>\n",
       "      <td>[{'championId': 104, 'pickTurn': 6}, {'champio...</td>\n",
       "      <td>KR_5685771909</td>\n",
       "    </tr>\n",
       "  </tbody>\n",
       "</table>\n",
       "</div>"
      ],
      "text/plain": [
       "  teamId    win firstBlood firstTower firstInhibitor firstBaron firstDragon  \\\n",
       "0    100   True      False       True           True      False       False   \n",
       "1    200  False       True      False          False       True        True   \n",
       "2    100   True       True       True           True       True        True   \n",
       "3    200  False      False      False          False      False       False   \n",
       "4    100   True       True       True           True      False        True   \n",
       "5    200  False      False      False          False      False       False   \n",
       "6    100  False      False       True          False      False        True   \n",
       "7    200   True       True      False           True       True       False   \n",
       "8    100   True      False       True           True      False        True   \n",
       "9    200  False       True      False          False      False       False   \n",
       "\n",
       "  firstRiftHerald championKills towerKills inhibitorKills baronKills  \\\n",
       "0            True            40          8              2          1   \n",
       "1           False            42          9              4          2   \n",
       "2           False            28         10              2          1   \n",
       "3            True            16          2              0          0   \n",
       "4            True            29          8              1          0   \n",
       "5           False            19          2              0          0   \n",
       "6            True            36          4              0          0   \n",
       "7           False            34         10              2          1   \n",
       "8            True            35          6              1          0   \n",
       "9           False            15          0              0          0   \n",
       "\n",
       "  dragonKills riftHeraldKills  \\\n",
       "0           1               1   \n",
       "1           5               1   \n",
       "2           1               1   \n",
       "3           3               1   \n",
       "4           1               2   \n",
       "5           0               0   \n",
       "6           2               2   \n",
       "7           2               0   \n",
       "8           2               2   \n",
       "9           0               0   \n",
       "\n",
       "                                                bans         gameId  \n",
       "0  [{'championId': 711, 'pickTurn': 1}, {'champio...  KR_5685811134  \n",
       "1  [{'championId': -1, 'pickTurn': 6}, {'champion...  KR_5685811134  \n",
       "2  [{'championId': 64, 'pickTurn': 1}, {'champion...  KR_5684039329  \n",
       "3  [{'championId': 154, 'pickTurn': 6}, {'champio...  KR_5684039329  \n",
       "4  [{'championId': 89, 'pickTurn': 1}, {'champion...  KR_5686407086  \n",
       "5  [{'championId': 58, 'pickTurn': 6}, {'champion...  KR_5686407086  \n",
       "6  [{'championId': 76, 'pickTurn': 1}, {'champion...  KR_5685150228  \n",
       "7  [{'championId': 51, 'pickTurn': 6}, {'champion...  KR_5685150228  \n",
       "8  [{'championId': -1, 'pickTurn': 1}, {'champion...  KR_5685771909  \n",
       "9  [{'championId': 104, 'pickTurn': 6}, {'champio...  KR_5685771909  "
      ]
     },
     "execution_count": 11,
     "metadata": {},
     "output_type": "execute_result"
    }
   ],
   "source": [
    "match_grandmaster"
   ]
  },
  {
   "cell_type": "code",
   "execution_count": null,
   "id": "77d5838a",
   "metadata": {
    "id": "77d5838a"
   },
   "outputs": [],
   "source": [
    "match_grandmaster.to_csv(\"match_challanger.csv\", header=True, index = False)"
   ]
  },
  {
   "cell_type": "code",
   "execution_count": null,
   "id": "6c0dbffb",
   "metadata": {
    "id": "6c0dbffb"
   },
   "outputs": [],
   "source": []
  }
 ],
 "metadata": {
  "colab": {
   "name": "GrandmasterData.ipynb",
   "provenance": []
  },
  "kernelspec": {
   "display_name": "Python 3 (ipykernel)",
   "language": "python",
   "name": "python3"
  },
  "language_info": {
   "codemirror_mode": {
    "name": "ipython",
    "version": 3
   },
   "file_extension": ".py",
   "mimetype": "text/x-python",
   "name": "python",
   "nbconvert_exporter": "python",
   "pygments_lexer": "ipython3",
   "version": "3.9.7"
  }
 },
 "nbformat": 4,
 "nbformat_minor": 5
}
